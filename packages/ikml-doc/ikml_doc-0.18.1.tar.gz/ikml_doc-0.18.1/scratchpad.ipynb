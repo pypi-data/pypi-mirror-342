{
 "cells": [
  {
   "cell_type": "code",
   "execution_count": 1,
   "id": "23d76615-711c-4fad-933f-0311b9ceaa93",
   "metadata": {},
   "outputs": [],
   "source": [
    "from ikml_doc import IKML_Document\n",
    "from pprint import pprint\n",
    "import requests"
   ]
  },
  {
   "cell_type": "code",
   "execution_count": null,
   "id": "eaab8f73-d8e6-481f-9db5-cf66500744f4",
   "metadata": {},
   "outputs": [],
   "source": []
  },
  {
   "cell_type": "code",
   "execution_count": 2,
   "id": "e84ebb1b-1328-4b1f-8e5d-4d4f2e91f5ed",
   "metadata": {},
   "outputs": [],
   "source": [
    "url = \"https://api.siddhantakosha.org/ikmldata?expand_inline=1&attrs_as_nodes=1&gpath=smap-granthas%2FTarkadeepika%2Fall-ikml.txt&email=chaitanya.lakkundi%40gmail.com&token=69bf097886dff242bc4df2a1d07d615f&fmt=ikml\"\n",
    "doc = IKML_Document(url=url)\n",
    "\n",
    "schema_url = \"https://api.siddhantakosha.org/ikmldata?expand_inline=1&expand_include=1&attrs_as_nodes=1&gpath=smap-granthas%2FVaisheshika-Sutram%2F..%2Fschema-ikml.txt&email=chaitanya.lakkundi%40gmail.com&token=69bf097886dff242bc4df2a1d07d615f&fmt=ikml\"\n",
    "schema_doc = IKML_Document()\n",
    "schema_doc.load(url=url)"
   ]
  },
  {
   "cell_type": "code",
   "execution_count": 3,
   "id": "23908b17-3c48-4a93-b185-aa97f8d793a1",
   "metadata": {},
   "outputs": [
    {
     "name": "stdout",
     "output_type": "stream",
     "text": [
      "{('root', ''), ('root', 'root')}\n"
     ]
    },
    {
     "data": {
      "text/plain": [
       "True"
      ]
     },
     "execution_count": 3,
     "metadata": {},
     "output_type": "execute_result"
    }
   ],
   "source": [
    "doc.validate_schema(schema_doc)"
   ]
  },
  {
   "cell_type": "code",
   "execution_count": null,
   "id": "9dec22e8-6dee-43fa-9da4-a1d683986c80",
   "metadata": {},
   "outputs": [],
   "source": [
    "tgt = None\n",
    "for node in doc.iter():\n",
    "    if node.get(\"id\") == \"smaps.TarkaDpk.v.1.1\":\n",
    "        tgt = node\n",
    "        break"
   ]
  },
  {
   "cell_type": "code",
   "execution_count": null,
   "id": "ffd16388-24c5-4bb5-ba5c-ca0ff974bb4e",
   "metadata": {},
   "outputs": [],
   "source": [
    "tgt.keys()"
   ]
  },
  {
   "cell_type": "code",
   "execution_count": null,
   "id": "5769abb4-346b-4c80-b774-17fc9a5ed74d",
   "metadata": {},
   "outputs": [],
   "source": [
    "tgt[\".vtykti\"] = \"abc\"\n",
    "tgt.children"
   ]
  },
  {
   "cell_type": "code",
   "execution_count": null,
   "id": "f91d7a6d-3827-499a-b17f-8c3bf7f4928f",
   "metadata": {},
   "outputs": [],
   "source": [
    "from ikml_doc import IKML_Document\n",
    "from timeit import timeit"
   ]
  },
  {
   "cell_type": "code",
   "execution_count": null,
   "id": "533466ee-36f7-4420-aed3-10bd48e3e27b",
   "metadata": {},
   "outputs": [],
   "source": [
    "timeit(lambda: IKML_Document(url=url), number=2)"
   ]
  },
  {
   "cell_type": "code",
   "execution_count": 5,
   "id": "16e1d4e9-326a-47a9-9a04-7a62887daf3c",
   "metadata": {},
   "outputs": [],
   "source": [
    "url = \"https://api.siddhantakosha.org/ikmldata?expand_inline=1&attrs_as_nodes=1&gpath=libraries/smap-granthas%2FVyakarana-Mahabhashyam%2Fvakyas-ikml.txt&ele_id=&email=public%40example.com&token=474b227672a6c486098d372472c287e0&fmt=ikml\"\n",
    "doc = IKML_Document(url=url)\n",
    "\n",
    "tgt = None\n",
    "for node in doc.iter():\n",
    "    if node.get(\"id\") == \"smaps.Mahb.v.1.1\":\n",
    "        tgt = node\n",
    "tgt"
   ]
  },
  {
   "cell_type": "code",
   "execution_count": null,
   "id": "d49f6e70-4ff5-472a-897d-ba504e6d151b",
   "metadata": {},
   "outputs": [],
   "source": [
    "tgt[\".split\"] = \"atha\"\n",
    "tgt.children"
   ]
  },
  {
   "cell_type": "code",
   "execution_count": null,
   "id": "b594316b-923f-428d-90f5-55c7a8163004",
   "metadata": {},
   "outputs": [],
   "source": [
    "url = \"https://api.siddhantakosha.org/ikmldata?expand_inline=2&attrs_as_nodes=1&gpath=smap-granthas%2FTattvabodha%2Fall-ikml.txt&eleid=smaps.TatvB.v.1&email=chaitanya.lakkundi%40gmail.com&token=69bf097886dff242bc4df2a1d07d615f&fmt=ikml\"\n",
    "doc = IKML_Document(url=url)\n",
    "doc_dict = doc.to_dict(max_depth=2)"
   ]
  },
  {
   "cell_type": "code",
   "execution_count": null,
   "id": "63460fc4-bc96-42b5-943a-312782d3ad21",
   "metadata": {},
   "outputs": [],
   "source": [
    "new_doc = IKML_Document(data=doc_dict)\n",
    "new_doc.to_dict()"
   ]
  }
 ],
 "metadata": {
  "kernelspec": {
   "display_name": "Python 3 (ipykernel)",
   "language": "python",
   "name": "python3"
  },
  "language_info": {
   "codemirror_mode": {
    "name": "ipython",
    "version": 3
   },
   "file_extension": ".py",
   "mimetype": "text/x-python",
   "name": "python",
   "nbconvert_exporter": "python",
   "pygments_lexer": "ipython3",
   "version": "3.12.6"
  }
 },
 "nbformat": 4,
 "nbformat_minor": 5
}
