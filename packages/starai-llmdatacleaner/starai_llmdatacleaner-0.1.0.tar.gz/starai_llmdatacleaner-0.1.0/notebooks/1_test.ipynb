{
 "cells": [
  {
   "cell_type": "markdown",
   "metadata": {},
   "source": [
    "# Test Case\n",
    "\n",
    "1. please configure you api key\n"
   ]
  },
  {
   "cell_type": "code",
   "execution_count": 1,
   "metadata": {},
   "outputs": [],
   "source": [
    "from llmdatacleaner import OpenAIDataCleaner"
   ]
  },
  {
   "cell_type": "code",
   "execution_count": 2,
   "metadata": {},
   "outputs": [],
   "source": [
    "prompt = \"\"\"Return the cleaned data into json foramts.\n",
    "1. clean the key 'university' into f these categories ['985', '211', 'g5', 'other'] \n",
    "2. clean the jey 'major' into these categories ['CS', 'EE', 'ME', 'other'] \n",
    "3. clean the key 'gpa' from different scale to 4.0 scale\n",
    "\n",
    "data: {data}\n",
    "\"\"\""
   ]
  },
  {
   "cell_type": "code",
   "execution_count": 3,
   "metadata": {},
   "outputs": [],
   "source": [
    "format = {\n",
    "    \"format\": {\n",
    "        \"type\": \"json_schema\",\n",
    "        \"name\": \"cleaned_data\",\n",
    "        \"schema\": {\n",
    "            \"type\": \"object\",\n",
    "            \"properties\": {\n",
    "                \"university\": {\"type\": \"string\", \"enum\": [\"985\", \"211\", \"g5\", \"other\"]},\n",
    "                \"major\": {\"type\": \"string\", \"enum\": [\"CS\", \"EE\", \"ME\", \"other\"]},\n",
    "                \"gpa\": {\n",
    "                    \"type\": \"number\",\n",
    "                },\n",
    "            },\n",
    "            \"required\": [\"university\", \"major\", \"gpa\"],\n",
    "            \"additionalProperties\": False,\n",
    "        },\n",
    "        \"strict\": True,\n",
    "    }\n",
    "}"
   ]
  },
  {
   "cell_type": "code",
   "execution_count": null,
   "metadata": {},
   "outputs": [],
   "source": [
    "incorrect_format = {\"format\": \"wrong format\"}"
   ]
  },
  {
   "cell_type": "code",
   "execution_count": null,
   "metadata": {},
   "outputs": [],
   "source": [
    "# adjust the log level\n",
    "# OpenAIDataCleaner.set_verbose(False)"
   ]
  },
  {
   "cell_type": "code",
   "execution_count": 4,
   "metadata": {},
   "outputs": [
    {
     "name": "stderr",
     "output_type": "stream",
     "text": [
      "2025-04-18 16:41:54 - llmdatacleaner.openai_cleaner - INFO - Initialized OpenAIDataCleaner with model gpt-4o-mini\n"
     ]
    }
   ],
   "source": [
    "cleaner = OpenAIDataCleaner(\n",
    "    data_cleaning_prompt=prompt, output_format=format, verbose=True\n",
    ")"
   ]
  },
  {
   "cell_type": "code",
   "execution_count": null,
   "metadata": {
    "vscode": {
     "languageId": "javascript"
    }
   },
   "outputs": [
    {
     "name": "stdout",
     "output_type": "stream",
     "text": [
      "[{'university': 'Tsinghua University', 'major': 'Computer Science', 'gpa': 3.8}, {'university': 'Peking University', 'major': 'Electrical Engineering', 'gpa': 85}, {'university': 'Stanford University', 'major': 'Mechanical Engineering', 'gpa': 4.0}, {'university': 'Unknown University', 'major': 'Philosophy', 'gpa': 75}, {'university': 'Fudan University', 'major': 'CS', 'gpa': 3.2}]\n"
     ]
    },
    {
     "data": {
      "text/plain": [
       "{'original': {'university': 'Tsinghua University',\n",
       "  'major': 'Computer Science',\n",
       "  'gpa': 3.8},\n",
       " 'cleaned': {'university': '985', 'major': 'CS', 'gpa': 3.8},\n",
       " 'status': 'success',\n",
       " 'error': None}"
      ]
     },
     "execution_count": 5,
     "metadata": {},
     "output_type": "execute_result"
    }
   ],
   "source": [
    "fake_data = [\n",
    "    { \"university\": \"Tsinghua University\", \"major\": \"Computer Science\", \"gpa\": 3.8 },\n",
    "    { \"university\": \"Peking University\", \"major\": \"Electrical Engineering\", \"gpa\": 85 },\n",
    "    {\n",
    "        \"university\": \"Stanford University\",\n",
    "        \"major\": \"Mechanical Engineering\",\n",
    "        \"gpa\": 4.0,\n",
    "    },\n",
    "    { \"university\": \"Unknown University\", \"major\": \"Philosophy\", \"gpa\": 75 },\n",
    "    { \"university\": \"Fudan University\", \"major\": \"CS\", \"gpa\": 3.2 },\n",
    "]\n",
    "\n",
    "print(fake_data)\n",
    "\n",
    "result = cleaner.invoke(fake_data[0])\n",
    "\n",
    "result"
   ]
  },
  {
   "cell_type": "code",
   "execution_count": 11,
   "metadata": {
    "vscode": {
     "languageId": "javascript"
    }
   },
   "outputs": [
    {
     "name": "stderr",
     "output_type": "stream",
     "text": [
      "2025-04-18 16:43:49 - llmdatacleaner.openai_cleaner - INFO - Set output format to: {'format': 'wrong format'}\n",
      "2025-04-18 16:43:49 - llmdatacleaner.openai_cleaner - ERROR - Error cleaning item: Error code: 400 - {'error': {'message': \"Invalid type for 'text.format': expected a text format, but got a string instead.\", 'type': 'invalid_request_error', 'param': 'text.format', 'code': 'invalid_type'}}\n"
     ]
    },
    {
     "data": {
      "text/plain": [
       "{'original': {'university': 'Tsinghua University',\n",
       "  'major': 'Computer Science',\n",
       "  'gpa': 3.8},\n",
       " 'cleaned': None,\n",
       " 'status': 'error',\n",
       " 'error': 'Error code: 400 - {\\'error\\': {\\'message\\': \"Invalid type for \\'text.format\\': expected a text format, but got a string instead.\", \\'type\\': \\'invalid_request_error\\', \\'param\\': \\'text.format\\', \\'code\\': \\'invalid_type\\'}}'}"
      ]
     },
     "execution_count": 11,
     "metadata": {},
     "output_type": "execute_result"
    }
   ],
   "source": [
    "cleaner.output_format = incorrect_format\n",
    "result = cleaner.invoke(fake_data[0])\n",
    "result"
   ]
  },
  {
   "cell_type": "code",
   "execution_count": null,
   "metadata": {},
   "outputs": [],
   "source": []
  }
 ],
 "metadata": {
  "kernelspec": {
   "display_name": ".venv",
   "language": "python",
   "name": "python3"
  },
  "language_info": {
   "codemirror_mode": {
    "name": "ipython",
    "version": 3
   },
   "file_extension": ".py",
   "mimetype": "text/x-python",
   "name": "python",
   "nbconvert_exporter": "python",
   "pygments_lexer": "ipython3",
   "version": "3.10.10"
  }
 },
 "nbformat": 4,
 "nbformat_minor": 2
}
