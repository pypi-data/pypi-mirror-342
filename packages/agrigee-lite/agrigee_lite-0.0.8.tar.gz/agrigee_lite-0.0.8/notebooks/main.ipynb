{
 "cells": [
  {
   "cell_type": "code",
   "execution_count": 1,
   "metadata": {},
   "outputs": [],
   "source": [
    "import ee\n",
    "import geopandas as gpd\n",
    "import matplotlib.pyplot as plt\n",
    "import numpy as np\n",
    "import pandas as pd\n",
    "from topojson import Topology\n",
    "\n",
    "import agrigee_lite as agl\n",
    "\n",
    "np.set_printoptions(suppress=True)\n",
    "np.set_printoptions(precision=2)\n",
    "pd.set_option('display.float_format', '{:.2f}'.format)\n",
    "\n",
    "# pandas show all columns\n",
    "pd.set_option('display.max_columns', None)"
   ]
  },
  {
   "cell_type": "code",
   "execution_count": 2,
   "metadata": {},
   "outputs": [],
   "source": [
    "ee.Initialize(opt_url=\"https://earthengine-highvolume.googleapis.com\", project=\"ee-paulagibrim\")"
   ]
  },
  {
   "cell_type": "code",
   "execution_count": 3,
   "metadata": {},
   "outputs": [],
   "source": [
    "gdf = gpd.read_parquet(\"tests/data/gdf.parquet\")"
   ]
  },
  {
   "cell_type": "code",
   "execution_count": 4,
   "metadata": {},
   "outputs": [],
   "source": [
    "satellite = agl.sat.Sentinel2(selected_bands=[\"red\"])"
   ]
  },
  {
   "cell_type": "code",
   "execution_count": 5,
   "metadata": {},
   "outputs": [],
   "source": [
    "row = gdf.iloc[0]\n",
    "\n",
    "sits = agl.get.sits(row.geometry, row.start_date, row.end_date, satellite, [\"mean\"], [\"fyear\"])"
   ]
  },
  {
   "cell_type": "code",
   "execution_count": 6,
   "metadata": {},
   "outputs": [
    {
     "data": {
      "text/html": [
       "<div>\n",
       "<style scoped>\n",
       "    .dataframe tbody tr th:only-of-type {\n",
       "        vertical-align: middle;\n",
       "    }\n",
       "\n",
       "    .dataframe tbody tr th {\n",
       "        vertical-align: top;\n",
       "    }\n",
       "\n",
       "    .dataframe thead th {\n",
       "        text-align: right;\n",
       "    }\n",
       "</style>\n",
       "<table border=\"1\" class=\"dataframe\">\n",
       "  <thead>\n",
       "    <tr style=\"text-align: right;\">\n",
       "      <th></th>\n",
       "      <th>indexnum</th>\n",
       "      <th>s2_fyear_0</th>\n",
       "      <th>s2_fyear_1</th>\n",
       "      <th>s2_fyear_2</th>\n",
       "      <th>s2_fyear_3</th>\n",
       "      <th>s2_fyear_4</th>\n",
       "      <th>s2_fyear_5</th>\n",
       "      <th>s2_fyear_6</th>\n",
       "      <th>s2_fyear_7</th>\n",
       "      <th>s2_fyear_8</th>\n",
       "      <th>s2_fyear_9</th>\n",
       "      <th>s2_fyear_10</th>\n",
       "      <th>s2_fyear_11</th>\n",
       "      <th>s2_fyear_12</th>\n",
       "      <th>s2_fyear_13</th>\n",
       "      <th>s2_fyear_14</th>\n",
       "      <th>s2_fyear_15</th>\n",
       "      <th>s2_fyear_16</th>\n",
       "      <th>s2_fyear_17</th>\n",
       "      <th>s2_fyear_18</th>\n",
       "      <th>s2_fyear_19</th>\n",
       "      <th>s2_fyear_20</th>\n",
       "      <th>s2_fyear_21</th>\n",
       "      <th>s2_fyear_22</th>\n",
       "      <th>s2_fyear_23</th>\n",
       "      <th>s2_fyear_24</th>\n",
       "      <th>s2_fyear_25</th>\n",
       "      <th>s2_fyear_26</th>\n",
       "      <th>s2_fyear_27</th>\n",
       "      <th>s2_fyear_28</th>\n",
       "      <th>s2_fyear_29</th>\n",
       "      <th>s2_fyear_30</th>\n",
       "      <th>s2_fyear_31</th>\n",
       "      <th>s2_fyear_32</th>\n",
       "      <th>s2_fyear_33</th>\n",
       "      <th>s2_fyear_34</th>\n",
       "      <th>s2_fyear_35</th>\n",
       "      <th>s2_fyear_36</th>\n",
       "      <th>s2_fyear_37</th>\n",
       "      <th>s2_fyear_38</th>\n",
       "      <th>s2_fyear_39</th>\n",
       "      <th>s2_fyear_40</th>\n",
       "      <th>s2_fyear_41</th>\n",
       "      <th>s2_fyear_42</th>\n",
       "      <th>s2_fyear_43</th>\n",
       "      <th>s2_fyear_44</th>\n",
       "      <th>s2_fyear_45</th>\n",
       "      <th>s2_fyear_46</th>\n",
       "      <th>s2_fyear_47</th>\n",
       "      <th>s2_fyear_48</th>\n",
       "      <th>s2_fyear_49</th>\n",
       "      <th>s2_fyear_50</th>\n",
       "      <th>s2_fyear_51</th>\n",
       "      <th>s2_fyear_52</th>\n",
       "      <th>s2_fyear_53</th>\n",
       "      <th>s2_fyear_54</th>\n",
       "      <th>s2_red_0</th>\n",
       "      <th>s2_red_1</th>\n",
       "      <th>s2_red_2</th>\n",
       "      <th>s2_red_3</th>\n",
       "      <th>s2_red_4</th>\n",
       "      <th>s2_red_5</th>\n",
       "      <th>s2_red_6</th>\n",
       "      <th>s2_red_7</th>\n",
       "      <th>s2_red_8</th>\n",
       "      <th>s2_red_9</th>\n",
       "      <th>s2_red_10</th>\n",
       "      <th>s2_red_11</th>\n",
       "      <th>s2_red_12</th>\n",
       "      <th>s2_red_13</th>\n",
       "      <th>s2_red_14</th>\n",
       "      <th>s2_red_15</th>\n",
       "      <th>s2_red_16</th>\n",
       "      <th>s2_red_17</th>\n",
       "      <th>s2_red_18</th>\n",
       "      <th>s2_red_19</th>\n",
       "      <th>s2_red_20</th>\n",
       "      <th>s2_red_21</th>\n",
       "      <th>s2_red_22</th>\n",
       "      <th>s2_red_23</th>\n",
       "      <th>s2_red_24</th>\n",
       "      <th>s2_red_25</th>\n",
       "      <th>s2_red_26</th>\n",
       "      <th>s2_red_27</th>\n",
       "      <th>s2_red_28</th>\n",
       "      <th>s2_red_29</th>\n",
       "      <th>s2_red_30</th>\n",
       "      <th>s2_red_31</th>\n",
       "      <th>s2_red_32</th>\n",
       "      <th>s2_red_33</th>\n",
       "      <th>s2_red_34</th>\n",
       "      <th>s2_red_35</th>\n",
       "      <th>s2_red_36</th>\n",
       "      <th>s2_red_37</th>\n",
       "      <th>s2_red_38</th>\n",
       "      <th>s2_red_39</th>\n",
       "      <th>s2_red_40</th>\n",
       "      <th>s2_red_41</th>\n",
       "      <th>s2_red_42</th>\n",
       "      <th>s2_red_43</th>\n",
       "      <th>s2_red_44</th>\n",
       "      <th>s2_red_45</th>\n",
       "      <th>s2_red_46</th>\n",
       "      <th>s2_red_47</th>\n",
       "      <th>s2_red_48</th>\n",
       "      <th>s2_red_49</th>\n",
       "      <th>s2_red_50</th>\n",
       "      <th>s2_red_51</th>\n",
       "      <th>s2_red_52</th>\n",
       "      <th>s2_red_53</th>\n",
       "      <th>s2_red_54</th>\n",
       "    </tr>\n",
       "  </thead>\n",
       "  <tbody>\n",
       "    <tr>\n",
       "      <th>0</th>\n",
       "      <td>0</td>\n",
       "      <td>2023.00</td>\n",
       "      <td>2023.02</td>\n",
       "      <td>2023.06</td>\n",
       "      <td>2023.07</td>\n",
       "      <td>2023.08</td>\n",
       "      <td>2023.10</td>\n",
       "      <td>2023.11</td>\n",
       "      <td>2023.13</td>\n",
       "      <td>2023.17</td>\n",
       "      <td>2023.18</td>\n",
       "      <td>2023.21</td>\n",
       "      <td>2023.24</td>\n",
       "      <td>2023.25</td>\n",
       "      <td>2023.26</td>\n",
       "      <td>2023.28</td>\n",
       "      <td>2023.30</td>\n",
       "      <td>2023.32</td>\n",
       "      <td>2023.36</td>\n",
       "      <td>2023.37</td>\n",
       "      <td>2023.39</td>\n",
       "      <td>2023.40</td>\n",
       "      <td>2023.41</td>\n",
       "      <td>2023.45</td>\n",
       "      <td>2023.47</td>\n",
       "      <td>2023.48</td>\n",
       "      <td>2023.50</td>\n",
       "      <td>2023.51</td>\n",
       "      <td>2023.52</td>\n",
       "      <td>2023.54</td>\n",
       "      <td>2023.55</td>\n",
       "      <td>2023.56</td>\n",
       "      <td>2023.58</td>\n",
       "      <td>2023.59</td>\n",
       "      <td>2023.62</td>\n",
       "      <td>2023.63</td>\n",
       "      <td>2023.65</td>\n",
       "      <td>2023.66</td>\n",
       "      <td>2023.69</td>\n",
       "      <td>2023.70</td>\n",
       "      <td>2023.73</td>\n",
       "      <td>2023.74</td>\n",
       "      <td>2023.76</td>\n",
       "      <td>2023.77</td>\n",
       "      <td>2023.78</td>\n",
       "      <td>2023.80</td>\n",
       "      <td>2023.82</td>\n",
       "      <td>2023.84</td>\n",
       "      <td>2023.85</td>\n",
       "      <td>2023.87</td>\n",
       "      <td>2023.88</td>\n",
       "      <td>2023.89</td>\n",
       "      <td>2023.91</td>\n",
       "      <td>2023.92</td>\n",
       "      <td>2023.93</td>\n",
       "      <td>2023.95</td>\n",
       "      <td>867</td>\n",
       "      <td>831</td>\n",
       "      <td>801</td>\n",
       "      <td>910</td>\n",
       "      <td>907</td>\n",
       "      <td>1096</td>\n",
       "      <td>1294</td>\n",
       "      <td>812</td>\n",
       "      <td>724</td>\n",
       "      <td>805</td>\n",
       "      <td>770</td>\n",
       "      <td>724</td>\n",
       "      <td>700</td>\n",
       "      <td>735</td>\n",
       "      <td>724</td>\n",
       "      <td>756</td>\n",
       "      <td>827</td>\n",
       "      <td>963</td>\n",
       "      <td>1146</td>\n",
       "      <td>1315</td>\n",
       "      <td>1444</td>\n",
       "      <td>1495</td>\n",
       "      <td>1588</td>\n",
       "      <td>1616</td>\n",
       "      <td>1677</td>\n",
       "      <td>1667</td>\n",
       "      <td>1728</td>\n",
       "      <td>1723</td>\n",
       "      <td>1760</td>\n",
       "      <td>1789</td>\n",
       "      <td>2231</td>\n",
       "      <td>1843</td>\n",
       "      <td>1806</td>\n",
       "      <td>1729</td>\n",
       "      <td>1763</td>\n",
       "      <td>1749</td>\n",
       "      <td>1736</td>\n",
       "      <td>1726</td>\n",
       "      <td>1733</td>\n",
       "      <td>1700</td>\n",
       "      <td>1653</td>\n",
       "      <td>1613</td>\n",
       "      <td>1652</td>\n",
       "      <td>1658</td>\n",
       "      <td>1679</td>\n",
       "      <td>1617</td>\n",
       "      <td>1631</td>\n",
       "      <td>1643</td>\n",
       "      <td>1629</td>\n",
       "      <td>1927</td>\n",
       "      <td>1557</td>\n",
       "      <td>1974</td>\n",
       "      <td>1508</td>\n",
       "      <td>1510</td>\n",
       "      <td>1466</td>\n",
       "    </tr>\n",
       "  </tbody>\n",
       "</table>\n",
       "</div>"
      ],
      "text/plain": [
       "   indexnum  s2_fyear_0  s2_fyear_1  s2_fyear_2  s2_fyear_3  s2_fyear_4  \\\n",
       "0         0     2023.00     2023.02     2023.06     2023.07     2023.08   \n",
       "\n",
       "   s2_fyear_5  s2_fyear_6  s2_fyear_7  s2_fyear_8  s2_fyear_9  s2_fyear_10  \\\n",
       "0     2023.10     2023.11     2023.13     2023.17     2023.18      2023.21   \n",
       "\n",
       "   s2_fyear_11  s2_fyear_12  s2_fyear_13  s2_fyear_14  s2_fyear_15  \\\n",
       "0      2023.24      2023.25      2023.26      2023.28      2023.30   \n",
       "\n",
       "   s2_fyear_16  s2_fyear_17  s2_fyear_18  s2_fyear_19  s2_fyear_20  \\\n",
       "0      2023.32      2023.36      2023.37      2023.39      2023.40   \n",
       "\n",
       "   s2_fyear_21  s2_fyear_22  s2_fyear_23  s2_fyear_24  s2_fyear_25  \\\n",
       "0      2023.41      2023.45      2023.47      2023.48      2023.50   \n",
       "\n",
       "   s2_fyear_26  s2_fyear_27  s2_fyear_28  s2_fyear_29  s2_fyear_30  \\\n",
       "0      2023.51      2023.52      2023.54      2023.55      2023.56   \n",
       "\n",
       "   s2_fyear_31  s2_fyear_32  s2_fyear_33  s2_fyear_34  s2_fyear_35  \\\n",
       "0      2023.58      2023.59      2023.62      2023.63      2023.65   \n",
       "\n",
       "   s2_fyear_36  s2_fyear_37  s2_fyear_38  s2_fyear_39  s2_fyear_40  \\\n",
       "0      2023.66      2023.69      2023.70      2023.73      2023.74   \n",
       "\n",
       "   s2_fyear_41  s2_fyear_42  s2_fyear_43  s2_fyear_44  s2_fyear_45  \\\n",
       "0      2023.76      2023.77      2023.78      2023.80      2023.82   \n",
       "\n",
       "   s2_fyear_46  s2_fyear_47  s2_fyear_48  s2_fyear_49  s2_fyear_50  \\\n",
       "0      2023.84      2023.85      2023.87      2023.88      2023.89   \n",
       "\n",
       "   s2_fyear_51  s2_fyear_52  s2_fyear_53  s2_fyear_54  s2_red_0  s2_red_1  \\\n",
       "0      2023.91      2023.92      2023.93      2023.95       867       831   \n",
       "\n",
       "   s2_red_2  s2_red_3  s2_red_4  s2_red_5  s2_red_6  s2_red_7  s2_red_8  \\\n",
       "0       801       910       907      1096      1294       812       724   \n",
       "\n",
       "   s2_red_9  s2_red_10  s2_red_11  s2_red_12  s2_red_13  s2_red_14  s2_red_15  \\\n",
       "0       805        770        724        700        735        724        756   \n",
       "\n",
       "   s2_red_16  s2_red_17  s2_red_18  s2_red_19  s2_red_20  s2_red_21  \\\n",
       "0        827        963       1146       1315       1444       1495   \n",
       "\n",
       "   s2_red_22  s2_red_23  s2_red_24  s2_red_25  s2_red_26  s2_red_27  \\\n",
       "0       1588       1616       1677       1667       1728       1723   \n",
       "\n",
       "   s2_red_28  s2_red_29  s2_red_30  s2_red_31  s2_red_32  s2_red_33  \\\n",
       "0       1760       1789       2231       1843       1806       1729   \n",
       "\n",
       "   s2_red_34  s2_red_35  s2_red_36  s2_red_37  s2_red_38  s2_red_39  \\\n",
       "0       1763       1749       1736       1726       1733       1700   \n",
       "\n",
       "   s2_red_40  s2_red_41  s2_red_42  s2_red_43  s2_red_44  s2_red_45  \\\n",
       "0       1653       1613       1652       1658       1679       1617   \n",
       "\n",
       "   s2_red_46  s2_red_47  s2_red_48  s2_red_49  s2_red_50  s2_red_51  \\\n",
       "0       1631       1643       1629       1927       1557       1974   \n",
       "\n",
       "   s2_red_52  s2_red_53  s2_red_54  \n",
       "0       1508       1510       1466  "
      ]
     },
     "execution_count": 6,
     "metadata": {},
     "output_type": "execute_result"
    }
   ],
   "source": [
    "sits"
   ]
  },
  {
   "cell_type": "code",
   "execution_count": null,
   "metadata": {},
   "outputs": [],
   "source": [
    "sits.s2_green_39"
   ]
  },
  {
   "cell_type": "code",
   "execution_count": null,
   "metadata": {},
   "outputs": [],
   "source": [
    "sits = agl.get.multiple_sits(gdf.iloc[0:2], satellite, [\"kurt\", \"median\"], 0.7)"
   ]
  },
  {
   "cell_type": "code",
   "execution_count": null,
   "metadata": {},
   "outputs": [],
   "source": [
    "sits"
   ]
  },
  {
   "cell_type": "code",
   "execution_count": null,
   "metadata": {},
   "outputs": [],
   "source": [
    "sits = agl.get.multiple_sits_multithread(gdf.iloc[0:2], satellite, [\"kurt\", \"median\"], 0.7)"
   ]
  },
  {
   "cell_type": "code",
   "execution_count": null,
   "metadata": {},
   "outputs": [],
   "source": [
    "sits"
   ]
  },
  {
   "cell_type": "code",
   "execution_count": null,
   "metadata": {},
   "outputs": [],
   "source": [
    "await agl.get.multiple_sits_async(gdf.iloc[0:2], satellite, [\"kurt\", \"median\"], 0.7)"
   ]
  },
  {
   "cell_type": "code",
   "execution_count": null,
   "metadata": {},
   "outputs": [],
   "source": [
    "sits"
   ]
  },
  {
   "cell_type": "code",
   "execution_count": null,
   "metadata": {},
   "outputs": [],
   "source": [
    "agl.vis.sits(row.geometry, row.start_date, row.end_date, satellite, \"blue\")"
   ]
  },
  {
   "cell_type": "code",
   "execution_count": null,
   "metadata": {},
   "outputs": [],
   "source": [
    "from agrigee_lite.misc import wide_to_long_dataframe"
   ]
  },
  {
   "cell_type": "code",
   "execution_count": null,
   "metadata": {},
   "outputs": [],
   "source": [
    "long_sits = wide_to_long_dataframe(sits)"
   ]
  },
  {
   "cell_type": "code",
   "execution_count": null,
   "metadata": {},
   "outputs": [],
   "source": [
    "long_sits[\"evi2\"] = 2.4 * (long_sits[\"nir\"] - long_sits[\"red\"]) / (long_sits[\"nir\"] + 2.4 * long_sits[\"red\"] + 1)"
   ]
  },
  {
   "cell_type": "code",
   "execution_count": null,
   "metadata": {},
   "outputs": [],
   "source": [
    "long_sits"
   ]
  },
  {
   "cell_type": "code",
   "execution_count": null,
   "metadata": {},
   "outputs": [],
   "source": [
    "from agrigee_lite.numpy_indices import ALL_NUMPY_INDICES"
   ]
  },
  {
   "cell_type": "code",
   "execution_count": null,
   "metadata": {},
   "outputs": [],
   "source": [
    "def single_sits(geometry, start_date, end_date, satellite, band_or_indice_to_plot):\n",
    "    sits = agl.get.sits(geometry, start_date, end_date, satellite)\n",
    "    long_sits = wide_to_long_dataframe(sits)\n",
    "\n",
    "    return plt.plot(long_sits.doy, long_sits[band_or_indice_to_plot])"
   ]
  },
  {
   "cell_type": "code",
   "execution_count": null,
   "metadata": {},
   "outputs": [],
   "source": [
    "def single_sits(geometry, start_date, end_date, satellite, band_or_indice_to_plot):\n",
    "    sits = agl.get.sits(geometry, start_date, end_date, satellite)\n",
    "    long_sits = wide_to_long_dataframe(sits)\n",
    "\n",
    "    return plt.plot(long_sits.doy, long_sits[band_or_indice_to_plot])"
   ]
  },
  {
   "cell_type": "code",
   "execution_count": null,
   "metadata": {},
   "outputs": [],
   "source": [
    "ALL_NUMPY_INDICES"
   ]
  },
  {
   "cell_type": "code",
   "execution_count": null,
   "metadata": {},
   "outputs": [],
   "source": []
  },
  {
   "cell_type": "code",
   "execution_count": null,
   "metadata": {},
   "outputs": [],
   "source": [
    "compute_index_from_df(long_sits, ALL_NUMPY_INDICES[\"ndvi\"])"
   ]
  },
  {
   "cell_type": "code",
   "execution_count": null,
   "metadata": {},
   "outputs": [],
   "source": []
  },
  {
   "cell_type": "code",
   "execution_count": null,
   "metadata": {},
   "outputs": [],
   "source": [
    "satellite.scaleBands()"
   ]
  },
  {
   "cell_type": "code",
   "execution_count": null,
   "metadata": {},
   "outputs": [],
   "source": [
    "single_sits(row.geometry, row.start_date, row.end_date, satellite, \"blue\")"
   ]
  },
  {
   "cell_type": "code",
   "execution_count": null,
   "metadata": {},
   "outputs": [],
   "source": [
    "df_pivot"
   ]
  },
  {
   "cell_type": "code",
   "execution_count": null,
   "metadata": {},
   "outputs": [],
   "source": [
    "plt.plot(df_pivot.doy, df_pivot.nir)"
   ]
  },
  {
   "cell_type": "code",
   "execution_count": null,
   "metadata": {},
   "outputs": [],
   "source": [
    "df_pivot.sort_values(by=[\"doy\"], inplace=True)"
   ]
  },
  {
   "cell_type": "code",
   "execution_count": null,
   "metadata": {},
   "outputs": [],
   "source": [
    "gdf = agl.quadtree_clustering(gdf)"
   ]
  },
  {
   "cell_type": "code",
   "execution_count": null,
   "metadata": {},
   "outputs": [],
   "source": [
    "gdf[gdf.cluster_id==10][0:1].plot()"
   ]
  },
  {
   "cell_type": "code",
   "execution_count": null,
   "metadata": {},
   "outputs": [],
   "source": [
    "topo = Topology(gdf[gdf.cluster_id==100], prequantize=False)\n",
    "topo = topo.toposimplify(0.001, prevent_oversimplify=True)\n",
    "simple_gdf = topo.to_gdf()"
   ]
  },
  {
   "cell_type": "code",
   "execution_count": null,
   "metadata": {},
   "outputs": [],
   "source": [
    "_, ax = plt.subplots(1,2)\n",
    "\n",
    "gdf[gdf.cluster_id==100].plot(ax=ax[0])\n",
    "simple_gdf.plot(ax=ax[1])"
   ]
  },
  {
   "cell_type": "code",
   "execution_count": null,
   "metadata": {},
   "outputs": [],
   "source": [
    "_, ax = plt.subplots(1,2)\n",
    "\n",
    "gdf[gdf.cluster_id==100][3:4].plot(ax=ax[0])\n",
    "simple_gdf[3:4].plot(ax=ax[1])"
   ]
  },
  {
   "cell_type": "code",
   "execution_count": null,
   "metadata": {},
   "outputs": [],
   "source": [
    "gdf[gdf.cluster_id==100][0:1].to_crs(\"EPSG:3857\").area/10000"
   ]
  },
  {
   "cell_type": "code",
   "execution_count": null,
   "metadata": {},
   "outputs": [],
   "source": []
  },
  {
   "cell_type": "code",
   "execution_count": null,
   "metadata": {},
   "outputs": [],
   "source": [
    "gdf[gdf.cluster_id==100].geometry.astype(str).apply(len).sum(), simple_gdf.geometry.astype(str).apply(len).sum()"
   ]
  },
  {
   "cell_type": "code",
   "execution_count": null,
   "metadata": {},
   "outputs": [],
   "source": []
  },
  {
   "cell_type": "code",
   "execution_count": null,
   "metadata": {},
   "outputs": [],
   "source": [
    "simplified_gdf[0:1].plot()"
   ]
  },
  {
   "cell_type": "code",
   "execution_count": null,
   "metadata": {},
   "outputs": [],
   "source": [
    "gdf[gdf.cluster_id==10].geometry.astype(str).apply(len)"
   ]
  },
  {
   "cell_type": "code",
   "execution_count": null,
   "metadata": {},
   "outputs": [],
   "source": [
    "simplified_gdf.geometry.astype(str).apply(len)"
   ]
  },
  {
   "cell_type": "code",
   "execution_count": null,
   "metadata": {},
   "outputs": [],
   "source": [
    "satellite = agl.sat.Sentinel2()"
   ]
  },
  {
   "cell_type": "code",
   "execution_count": null,
   "metadata": {},
   "outputs": [],
   "source": [
    "agl.get.multiple_sits_chunks_gdrive(gdf, satellite)"
   ]
  },
  {
   "cell_type": "code",
   "execution_count": null,
   "metadata": {},
   "outputs": [],
   "source": [
    "from agrigee_lite.misc import create_gdf_hash"
   ]
  },
  {
   "cell_type": "code",
   "execution_count": null,
   "metadata": {},
   "outputs": [],
   "source": [
    "hashname = create_gdf_hash(gdf)"
   ]
  },
  {
   "cell_type": "code",
   "execution_count": null,
   "metadata": {},
   "outputs": [],
   "source": [
    "satellite = agl.sat.Sentinel2(use_sr=True, selected_bands=[\"red\", \"green\", \"blue\"])"
   ]
  },
  {
   "cell_type": "code",
   "execution_count": null,
   "metadata": {},
   "outputs": [],
   "source": [
    "for cluster_id in sorted(gdf.cluster_id.unique()):\n",
    "    cluster_id = int(cluster_id)\n",
    "    agl.get.multiple_sits_task_gdrive(gdf[gdf.cluster_id == cluster_id], satellite, f\"{hashname}_{cluster_id}\", f\"agl_mateus_multiple_sits_{hashname}_{cluster_id}\")\n",
    "\n",
    "    if cluster_id > 5:\n",
    "        break"
   ]
  },
  {
   "cell_type": "code",
   "execution_count": null,
   "metadata": {},
   "outputs": [],
   "source": []
  },
  {
   "cell_type": "code",
   "execution_count": null,
   "metadata": {},
   "outputs": [],
   "source": [
    "row = gdf.iloc[0]"
   ]
  },
  {
   "cell_type": "code",
   "execution_count": null,
   "metadata": {},
   "outputs": [],
   "source": [
    "sits = agl.get.sits(row.geometry, row.start_date, row.end_date, satellite)"
   ]
  },
  {
   "cell_type": "code",
   "execution_count": null,
   "metadata": {},
   "outputs": [],
   "source": [
    "sits"
   ]
  },
  {
   "cell_type": "code",
   "execution_count": null,
   "metadata": {},
   "outputs": [],
   "source": [
    "sits_2"
   ]
  },
  {
   "cell_type": "code",
   "execution_count": null,
   "metadata": {},
   "outputs": [],
   "source": [
    "df_wide = pd.DataFrame(sits_2.values.flatten().reshape(1, -1))\n",
    "df_wide.columns = [f\"{col}_{i}\" for i in range(len(sits_2)) for col in sits_2.columns]"
   ]
  },
  {
   "cell_type": "code",
   "execution_count": null,
   "metadata": {},
   "outputs": [],
   "source": [
    "sits = agl.get.multiple_sits(gdf.iloc[0:2], satellite)"
   ]
  },
  {
   "cell_type": "code",
   "execution_count": null,
   "metadata": {},
   "outputs": [],
   "source": [
    "def flatten_by_indexnum(df: pd.DataFrame, prefix: str = \"\") -> pd.DataFrame:\n",
    "    if \"indexnum\" not in df.columns:\n",
    "        raise ValueError(\"A coluna 'indexnum' não existe no DataFrame.\")\n",
    "\n",
    "    df = df.copy()\n",
    "    df[\"seq\"] = df.groupby(\"indexnum\").cumcount()\n",
    "    df_wide = df.pivot(index=\"indexnum\", columns=\"seq\").drop(columns=\"indexnum\")\n",
    "    df_wide.columns = [f\"{prefix}{col}_{i}\" for col, i in df_wide.columns]\n",
    "    return df_wide.reset_index()"
   ]
  },
  {
   "cell_type": "code",
   "execution_count": null,
   "metadata": {},
   "outputs": [],
   "source": [
    "sits"
   ]
  },
  {
   "cell_type": "code",
   "execution_count": null,
   "metadata": {},
   "outputs": [],
   "source": [
    "flatten_by_indexnum(sits)"
   ]
  },
  {
   "cell_type": "code",
   "execution_count": null,
   "metadata": {},
   "outputs": [],
   "source": [
    "flatten_by_indexnum(sits, \"a\")"
   ]
  },
  {
   "cell_type": "code",
   "execution_count": null,
   "metadata": {},
   "outputs": [],
   "source": [
    "row = gdf.iloc[0]\n",
    "\n",
    "imgs = agl.get.images(row.geometry, row.start_date, row.end_date, satellite)"
   ]
  },
  {
   "cell_type": "code",
   "execution_count": null,
   "metadata": {},
   "outputs": [],
   "source": [
    "np.savez_compressed(\"tests/data/imgs/0_s2sr.npz\", data=imgs)"
   ]
  },
  {
   "cell_type": "code",
   "execution_count": null,
   "metadata": {},
   "outputs": [],
   "source": [
    "np.load(\"tests/data/imgs/0_s2sr.npz\")"
   ]
  },
  {
   "cell_type": "code",
   "execution_count": null,
   "metadata": {},
   "outputs": [],
   "source": [
    "np.array_equal(imgs, imgs)"
   ]
  },
  {
   "cell_type": "code",
   "execution_count": null,
   "metadata": {},
   "outputs": [],
   "source": [
    "imgs_copy = imgs.copy()"
   ]
  },
  {
   "cell_type": "code",
   "execution_count": null,
   "metadata": {},
   "outputs": [],
   "source": [
    "plt.imshow((imgs[3]/10000) * np.pi)"
   ]
  },
  {
   "cell_type": "code",
   "execution_count": null,
   "metadata": {},
   "outputs": [],
   "source": [
    "sits = agl.get.sits(row.geometry, row.start_date, row.end_date, satellite)"
   ]
  },
  {
   "cell_type": "code",
   "execution_count": null,
   "metadata": {},
   "outputs": [],
   "source": [
    "sits.columns = [column.split(\"_\", 1)[1] for column in sits.columns.tolist()]"
   ]
  },
  {
   "cell_type": "code",
   "execution_count": null,
   "metadata": {},
   "outputs": [],
   "source": [
    "def remove_underscore_in_df(df):\n",
    "    df.columns = [column.split(\"_\", 1)[1] for column in df.columns.tolist()]"
   ]
  },
  {
   "cell_type": "code",
   "execution_count": null,
   "metadata": {},
   "outputs": [],
   "source": [
    "sits.head(5)"
   ]
  }
 ],
 "metadata": {
  "kernelspec": {
   "display_name": ".venv",
   "language": "python",
   "name": "python3"
  },
  "language_info": {
   "codemirror_mode": {
    "name": "ipython",
    "version": 3
   },
   "file_extension": ".py",
   "mimetype": "text/x-python",
   "name": "python",
   "nbconvert_exporter": "python",
   "pygments_lexer": "ipython3",
   "version": "3.11.10"
  }
 },
 "nbformat": 4,
 "nbformat_minor": 2
}
