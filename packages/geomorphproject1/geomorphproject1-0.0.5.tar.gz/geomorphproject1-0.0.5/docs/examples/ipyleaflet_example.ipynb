{
 "cells": [
  {
   "cell_type": "code",
   "execution_count": null,
   "id": "0",
   "metadata": {},
   "outputs": [],
   "source": [
    "from geomorphproject1.ipyleaflet_map import CustomLeafletMap\n",
    "\n",
    "leaf_map = CustomLeafletMap(center=(35.96, -83.92), zoom=10)\n",
    "leaf_map.add_basemap(\"Esri.WorldImagery\")\n",
    "leaf_map.add_layer_control()\n",
    "leaf_map.add_vector(\"data/us_states.geojson\")\n",
    "leaf_map"
   ]
  },
  {
   "cell_type": "code",
   "execution_count": null,
   "id": "1",
   "metadata": {},
   "outputs": [],
   "source": [
    "# Add raster tile layer\n",
    "tile_url = \"https://basemap.nationalmap.gov/arcgis/rest/services/USGSShadedReliefOnly/MapServer/tile/{z}/{y}/{x}\"\n",
    "leaf_map.add_raster(tile_url, name=\"Smooth Raster\", opacity=0.7)\n",
    "leaf_map"
   ]
  },
  {
   "cell_type": "code",
   "execution_count": null,
   "id": "2",
   "metadata": {},
   "outputs": [],
   "source": [
    "# Add a static image overlay\n",
    "image_url = \"https://cdn.star.nesdis.noaa.gov/GOES16/ABI/SECTOR/SE/GEOCOLOR/GOES16-SE-GEOCOLOR-1000x1000.jpg\"\n",
    "image_bounds = ((13, -130), (32, -100))  # ((south, west), (north, east))\n",
    "leaf_map.add_image(image_url, bounds=image_bounds, opacity=0.8)\n",
    "leaf_map"
   ]
  },
  {
   "cell_type": "code",
   "execution_count": null,
   "id": "3",
   "metadata": {},
   "outputs": [],
   "source": [
    "# Add a video overlay\n",
    "video_url = \"https://rammb.cira.colostate.edu/ramsdis/online/loop_of_the_day/images/loop_of_the_day/goes-16/20200303000000/video/20200303000000_tnstorms.mp4\"\n",
    "video_bounds = ((13, -130), (32, -100))\n",
    "leaf_map.add_video(video_url, bounds=video_bounds, opacity=0.7)\n",
    "leaf_map"
   ]
  },
  {
   "cell_type": "code",
   "execution_count": null,
   "id": "4",
   "metadata": {},
   "outputs": [],
   "source": [
    "wms_url = \"https://neo.gsfc.nasa.gov/wms/wms\"\n",
    "leaf_map.add_wms_layer(\n",
    "    url=wms_url,\n",
    "    layers=\"BlueMarbleNG\",\n",
    "    name=\"NASA Blue Marble\",\n",
    "    format=\"image/png\",\n",
    "    transparent=True,\n",
    ")\n",
    "\n",
    "leaf_map"
   ]
  }
 ],
 "metadata": {
  "kernelspec": {
   "display_name": "geo",
   "language": "python",
   "name": "python3"
  },
  "language_info": {
   "codemirror_mode": {
    "name": "ipython",
    "version": 3
   },
   "file_extension": ".py",
   "mimetype": "text/x-python",
   "name": "python",
   "nbconvert_exporter": "python",
   "pygments_lexer": "ipython3",
   "version": "3.12.9"
  }
 },
 "nbformat": 4,
 "nbformat_minor": 5
}
