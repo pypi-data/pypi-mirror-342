{
 "cells": [
  {
   "cell_type": "code",
   "execution_count": null,
   "id": "0",
   "metadata": {},
   "outputs": [],
   "source": [
    "from geomorphproject1.folium_map import CustomFoliumMap\n",
    "\n",
    "import folium\n",
    "import geopandas as gpd\n",
    "from folium.raster_layers import TileLayer, ImageOverlay, VideoOverlay, WmsTileLayer\n",
    "\n",
    "from geomorphproject1.folium_map import CustomFoliumMap\n",
    "\n",
    "m = CustomFoliumMap(location=(35.96, -83.92), zoom_start=10)"
   ]
  },
  {
   "cell_type": "code",
   "execution_count": null,
   "id": "1",
   "metadata": {},
   "outputs": [],
   "source": [
    "tile_url = \"https://basemap.nationalmap.gov/arcgis/rest/services/USGSShadedReliefOnly/MapServer/tile/{z}/{y}/{x}\"\n",
    "m.add_raster(\n",
    "    tile_url, name=\"USGS Shaded Relief\", opacity=0.8, attr=\"USGS The National Map\"\n",
    ")\n",
    "m.save(\"USGS_Shaded_Relief.html\")"
   ]
  },
  {
   "cell_type": "code",
   "execution_count": null,
   "id": "2",
   "metadata": {},
   "outputs": [],
   "source": [
    "# Add a video overlay\n",
    "video_url = \"https://rammb.cira.colostate.edu/ramsdis/online/loop_of_the_day/images/loop_of_the_day/goes-16/20200303000000/video/20200303000000_tnstorms.mp4\"\n",
    "video_bounds = [[34, -91], [37, -81]]\n",
    "m.add_video(video_url, bounds=video_bounds, opacity=0.7)\n",
    "m.save(\"folium_video_overlay.html\")"
   ]
  },
  {
   "cell_type": "code",
   "execution_count": null,
   "id": "3",
   "metadata": {},
   "outputs": [],
   "source": [
    "# Add a WMS layer\n",
    "wms_url = \"http://mesonet.agron.iastate.edu/cgi-bin/wms/nexrad/n0r.cgi\"\n",
    "m.add_wms_layer(\n",
    "    url=wms_url,\n",
    "    layers=\"nexrad-n0r-900913\",\n",
    "    name=\"NEXRAD Radar\",\n",
    "    format=\"image/png\",\n",
    "    transparent=True,\n",
    ")\n",
    "m.save(\"folium_wms_layer.html\")"
   ]
  },
  {
   "cell_type": "code",
   "execution_count": null,
   "id": "4",
   "metadata": {},
   "outputs": [],
   "source": [
    "import folium\n",
    "\n",
    "folium.LayerControl().add_to(m)\n",
    "\n",
    "# Optional: Save or render\n",
    "m.save(\"folium_layers.html\")\n",
    "m"
   ]
  }
 ],
 "metadata": {
  "kernelspec": {
   "display_name": "geo",
   "language": "python",
   "name": "python3"
  },
  "language_info": {
   "codemirror_mode": {
    "name": "ipython",
    "version": 3
   },
   "file_extension": ".py",
   "mimetype": "text/x-python",
   "name": "python",
   "nbconvert_exporter": "python",
   "pygments_lexer": "ipython3",
   "version": "3.12.9"
  }
 },
 "nbformat": 4,
 "nbformat_minor": 5
}
