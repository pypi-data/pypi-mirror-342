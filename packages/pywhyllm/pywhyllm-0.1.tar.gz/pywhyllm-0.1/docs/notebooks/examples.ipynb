{
 "cells": [
  {
   "cell_type": "code",
   "execution_count": null,
   "metadata": {
    "id": "cf0nNdMMFRXK"
   },
   "outputs": [],
   "source": [
    "!pip install python-dotenv"
   ]
  },
  {
   "cell_type": "code",
   "execution_count": null,
   "metadata": {
    "id": "dGRmzUIWEyLR"
   },
   "outputs": [],
   "source": [
    "from dotenv import load_dotenv\n",
    "import os\n",
    "import guidance\n",
    "from guidance import models\n",
    "\n",
    "load_dotenv()\n",
    "\n",
    "os.environ[\"OPENAI_API_KEY\"] = '' # specify your key here"
   ]
  },
  {
   "cell_type": "code",
   "execution_count": null,
   "metadata": {
    "id": "21IoxDY7EyLT"
   },
   "outputs": [],
   "source": [
    "from typing import Dict, Tuple, List\n",
    "\n",
    "sea_ice_variables = [\n",
    "    \"geopotential_heights\",\n",
    "    \"relative_humidity\",\n",
    "    \"sea_level_pressure\",\n",
    "    \"zonal_wind_at_10_meters\",\n",
    "    \"meridional_wind_at_10_meters\",\n",
    "    \"sensible_plus_latent_heat_flux\",\n",
    "    \"total_precipitation\",\n",
    "    \"total_cloud_cover\",\n",
    "    \"total_cloud_water_path\",\n",
    "    \"surface_net_shortwave_flux\",\n",
    "    \"surface_net_longwave_flux\",\n",
    "    \"northern_hemisphere_sea_ice_extent\",\n",
    "]\n",
    "\n",
    "treatment = \"surface_net_longwave_flux\"\n",
    "outcome = \"northern_hemisphere_sea_ice_extent\"\n",
    "\n",
    "# ground truth confounders to the relationship between surface_net_longwave_flux and northern_hemisphere_sea_ice_extent\n",
    "sea_ice_confounders = [\"total_precipitation\"]\n",
    "\n",
    "sea_ice_relationships: List[Tuple[str, str]] = [\n",
    "    (\"surface_net_longwave_flux\", \"northern_hemisphere_sea_ice_extent\"),\n",
    "\n",
    "    (\"geopotential_heights\", \"surface_net_longwave_flux\"),\n",
    "    (\"geopotential_heights\", \"relative_humidity\"),\n",
    "    (\"geopotential_heights\", \"sea_level_pressure\"),\n",
    "\n",
    "    (\"relative_humidity\", \"total_cloud_cover\"),\n",
    "    (\"relative_humidity\", \"total_cloud_water_path\"),\n",
    "    (\"relative_humidity\", \"total_precipitation\"),\n",
    "    (\"relative_humidity\", \"surface_net_longwave_flux\"),\n",
    "\n",
    "    (\"sea_level_pressure\", \"relative_humidity\"),\n",
    "    (\"sea_level_pressure\", \"geopotential_heights\"),\n",
    "    (\"sea_level_pressure\", \"zonal_wind_at_10_meters\"),\n",
    "    (\"sea_level_pressure\", \"northern_hemisphere_sea_ice_extent\"),\n",
    "    (\"sea_level_pressure\", \"sensible_plus_latent_heat_flux\"),\n",
    "    (\"sea_level_pressure\", \"meridional_wind_at_10_meters\"),\n",
    "\n",
    "    (\"zonal_wind_at_10_meters\", \"northern_hemisphere_sea_ice_extent\"),\n",
    "    (\"zonal_wind_at_10_meters\", \"sensible_plus_latent_heat_flux\"),\n",
    "\n",
    "    (\"meridional_wind_at_10_meters\", \"northern_hemisphere_sea_ice_extent\"),\n",
    "    (\"meridional_wind_at_10_meters\", \"sensible_plus_latent_heat_flux\"),\n",
    "\n",
    "    (\"sensible_plus_latent_heat_flux\", \"northern_hemisphere_sea_ice_extent\"),\n",
    "    (\"sensible_plus_latent_heat_flux\", \"sea_level_pressure\"),\n",
    "    (\"sensible_plus_latent_heat_flux\", \"zonal_wind_at_10_meters\"),\n",
    "    (\"sensible_plus_latent_heat_flux\", \"meridional_wind_at_10_meters\"),\n",
    "    (\"sensible_plus_latent_heat_flux\", \"total_precipitation\"),\n",
    "    (\"sensible_plus_latent_heat_flux\", \"total_cloud_cover\"),\n",
    "    (\"sensible_plus_latent_heat_flux\", \"total_cloud_water_path\"),\n",
    "\n",
    "    (\"total_precipitation\", \"northern_hemisphere_sea_ice_extent\"),\n",
    "    (\"total_precipitation\", \"relative_humidity\"),\n",
    "    (\"total_precipitation\", \"sensible_plus_latent_heat_flux\"),\n",
    "    (\"total_precipitation\", \"surface_net_longwave_flux\"),\n",
    "    (\"total_precipitation\", \"total_cloud_cover\"),\n",
    "    (\"total_precipitation\", \"total_cloud_water_path\"),\n",
    "\n",
    "    (\"total_cloud_water_path\", \"total_precipitation\"),\n",
    "    (\"total_cloud_water_path\", \"sensible_plus_latent_heat_flux\"),\n",
    "    (\"total_cloud_water_path\", \"relative_humidity\"),\n",
    "    (\"total_cloud_water_path\", \"surface_net_longwave_flux\"),\n",
    "    (\"total_cloud_water_path\", \"surface_net_shortwave_flux\"),\n",
    "\n",
    "    (\"total_cloud_cover\", \"total_precipitation\"),\n",
    "    (\"total_cloud_cover\", \"sensible_plus_latent_heat_flux\"),\n",
    "    (\"total_cloud_cover\", \"relative_humidity\"),\n",
    "    (\"total_cloud_cover\", \"surface_net_longwave_flux\"),\n",
    "    (\"total_cloud_cover\", \"surface_net_shortwave_flux\"),\n",
    "\n",
    "    (\"surface_net_shortwave_flux\", \"northern_hemisphere_sea_ice_extent\"),\n",
    "\n",
    "    (\"northern_hemisphere_sea_ice_extent\", \"sea_level_pressure\"),\n",
    "    (\"northern_hemisphere_sea_ice_extent\", \"zonal_wind_at_10_meters\"),\n",
    "    (\"northern_hemisphere_sea_ice_extent\", \"meridional_wind_at_10_meters\"),\n",
    "    (\"northern_hemisphere_sea_ice_extent\", \"sensible_plus_latent_heat_flux\"),\n",
    "    (\"northern_hemisphere_sea_ice_extent\", \"surface_net_shortwave_flux\"),\n",
    "    (\"northern_hemisphere_sea_ice_extent\", \"surface_net_longwave_flux\"),\n",
    "]"
   ]
  },
  {
   "cell_type": "markdown",
   "metadata": {
    "id": "awn-H8kaEyLU"
   },
   "source": [
    "## Helpers"
   ]
  },
  {
   "cell_type": "markdown",
   "metadata": {
    "id": "M3RolVDYEyLV"
   },
   "source": [
    "Model type - the type of LLM used\n",
    "By default it's set to completions models"
   ]
  },
  {
   "cell_type": "markdown",
   "metadata": {
    "id": "3GSYRbQVEyLV"
   },
   "source": [
    "Relationship strategy - is the type of request made to the LLM (request parent, child, pairwise relationship)"
   ]
  },
  {
   "cell_type": "code",
   "execution_count": null,
   "metadata": {
    "id": "HOUhJZbcEyLV"
   },
   "outputs": [],
   "source": [
    "from pywhyllm import ModelType, RelationshipStrategy\n",
    "model_type = ModelType.Completion\n",
    "relationship_strategy = RelationshipStrategy.Parent"
   ]
  },
  {
   "cell_type": "markdown",
   "metadata": {
    "id": "bvsTJhlbEyLV"
   },
   "source": [
    "## Model"
   ]
  },
  {
   "cell_type": "code",
   "execution_count": null,
   "metadata": {
    "colab": {
     "base_uri": "https://localhost:8080/"
    },
    "id": "pEdp6Lwpksi2",
    "outputId": "5a1e1683-6e19-41ee-bb1e-1c42a86416aa"
   },
   "outputs": [],
   "source": [
    "from pywhyllm.suggesters.model_suggester import ModelSuggester\n",
    "m = ModelSuggester('gpt-4')"
   ]
  },
  {
   "cell_type": "code",
   "execution_count": null,
   "metadata": {
    "id": "mIRwbAZ_kd4q"
   },
   "outputs": [],
   "source": [
    "domain_expertises = m.suggest_domain_expertises(sea_ice_variables)"
   ]
  },
  {
   "cell_type": "code",
   "execution_count": null,
   "metadata": {
    "id": "hBhGgry1k-EG"
   },
   "outputs": [],
   "source": [
    "domain_expertises"
   ]
  },
  {
   "cell_type": "code",
   "execution_count": null,
   "metadata": {
    "id": "0eHUZVSGliJx"
   },
   "outputs": [],
   "source": [
    "domain_experts = m.suggest_domain_experts(sea_ice_variables)"
   ]
  },
  {
   "cell_type": "code",
   "execution_count": null,
   "metadata": {
    "id": "XenD7Zz7ll4P"
   },
   "outputs": [],
   "source": [
    "domain_experts"
   ]
  },
  {
   "cell_type": "code",
   "execution_count": null,
   "metadata": {
    "id": "_-cEK7j9ATAO"
   },
   "outputs": [],
   "source": [
    "parents = m.suggest_parents(domain_expertises[0], \"relative_humidity\", sea_ice_variables)"
   ]
  },
  {
   "cell_type": "code",
   "execution_count": null,
   "metadata": {
    "id": "fPq3fnxKAuLk"
   },
   "outputs": [],
   "source": [
    "parents"
   ]
  },
  {
   "cell_type": "code",
   "execution_count": null,
   "metadata": {
    "id": "U18jzHQzJYmZ"
   },
   "outputs": [],
   "source": [
    "children = m.suggest_children(domain_expertises[0], \"relative_humidity\", sea_ice_variables)"
   ]
  },
  {
   "cell_type": "code",
   "execution_count": null,
   "metadata": {
    "id": "nw8OOCBSOpAP"
   },
   "outputs": [],
   "source": [
    "children"
   ]
  },
  {
   "cell_type": "code",
   "execution_count": null,
   "metadata": {
    "id": "wWGjSa_cby5j"
   },
   "outputs": [],
   "source": [
    "pairwise_relationship = m.suggest_pairwise_relationship(domain_expertises[0], \"total_precipitation\", \"relative_humidity\")"
   ]
  },
  {
   "cell_type": "code",
   "execution_count": null,
   "metadata": {
    "id": "qeqcF4Wwd5xm"
   },
   "outputs": [],
   "source": [
    "pairwise_relationship"
   ]
  },
  {
   "cell_type": "code",
   "execution_count": null,
   "metadata": {
    "id": "5WkPttsK-_rz"
   },
   "outputs": [],
   "source": [
    "confounders = m.suggest_confounders(treatment, outcome, sea_ice_variables, domain_expertises)"
   ]
  },
  {
   "cell_type": "code",
   "execution_count": null,
   "metadata": {
    "id": "sW0Hlk-u-V0v"
   },
   "outputs": [],
   "source": [
    "confounders"
   ]
  },
  {
   "cell_type": "code",
   "execution_count": null,
   "metadata": {
    "id": "9jAA5UxmEyLV"
   },
   "outputs": [],
   "source": [
    "\"\"\"returns a dictionary with the how many times that edge was suggested\"\"\"\n",
    "model_edges = m.suggest_relationships(treatment, outcome, sea_ice_variables, domain_expertises, RelationshipStrategy.Pairwise)"
   ]
  },
  {
   "cell_type": "code",
   "execution_count": null,
   "metadata": {
    "id": "7j7fYC1yiwna"
   },
   "outputs": [],
   "source": [
    "model_edges"
   ]
  },
  {
   "cell_type": "markdown",
   "metadata": {
    "id": "ZXAOVBjWEyLW"
   },
   "source": [
    "## Identifier"
   ]
  },
  {
   "cell_type": "code",
   "execution_count": null,
   "metadata": {
    "id": "OtdU46dQEyLW"
   },
   "outputs": [],
   "source": [
    "from pywhyllm.suggesters.identification_suggester import IdentificationSuggester\n",
    "i = IdentificationSuggester('gpt-4')"
   ]
  },
  {
   "cell_type": "code",
   "execution_count": null,
   "metadata": {
    "id": "ldAYLVc1EW88"
   },
   "outputs": [],
   "source": [
    "\"\"\"calls modeler suggest_confounders in the background\"\"\"\n",
    "backdoor = i.suggest_backdoor(treatment, outcome, sea_ice_variables, domain_expertises, \"causal mechanisms\")"
   ]
  },
  {
   "cell_type": "code",
   "execution_count": null,
   "metadata": {
    "id": "0Isz1yq-kBVU"
   },
   "outputs": [],
   "source": [
    "backdoor"
   ]
  },
  {
   "cell_type": "code",
   "execution_count": null,
   "metadata": {
    "id": "c9Su67G5kTKP"
   },
   "outputs": [],
   "source": [
    "\"\"\"suggests instrumental variables\"\"\"\n",
    "ivs = i.suggest_ivs(treatment, outcome, sea_ice_variables, domain_expertises)"
   ]
  },
  {
   "cell_type": "code",
   "execution_count": null,
   "metadata": {
    "id": "e5CaH4lckbQl"
   },
   "outputs": [],
   "source": [
    "ivs"
   ]
  },
  {
   "cell_type": "markdown",
   "metadata": {
    "id": "4lsrPKj7EyLW"
   },
   "source": [
    "## Validator"
   ]
  },
  {
   "cell_type": "code",
   "execution_count": null,
   "metadata": {
    "id": "69rLl6dtEyLW"
   },
   "outputs": [],
   "source": [
    "from pywhyllm.suggesters.validation_suggester import ValidationSuggester\n",
    "v = ValidationSuggester('gpt-4')"
   ]
  },
  {
   "cell_type": "code",
   "execution_count": null,
   "metadata": {
    "id": "DU9ql-uTz4tE"
   },
   "outputs": [],
   "source": [
    "latent_confounders = v.suggest_latent_confounders(treatment, outcome, domain_expertises)"
   ]
  },
  {
   "cell_type": "code",
   "execution_count": null,
   "metadata": {
    "id": "X1TptA_P0FQZ"
   },
   "outputs": [],
   "source": [
    "latent_confounders"
   ]
  },
  {
   "cell_type": "code",
   "execution_count": null,
   "metadata": {
    "id": "AIj3GD8J0GaJ"
   },
   "outputs": [],
   "source": [
    "negative_controls = v.suggest_negative_controls(treatment, outcome, sea_ice_variables, domain_expertises)"
   ]
  },
  {
   "cell_type": "code",
   "execution_count": null,
   "metadata": {
    "id": "ZJwgwJLP2pON"
   },
   "outputs": [],
   "source": [
    "negative_controls"
   ]
  },
  {
   "cell_type": "code",
   "execution_count": null,
   "metadata": {
    "id": "xfTpbzuPpC4f"
   },
   "outputs": [],
   "source": [
    "critique = v.request_pairwise_critique(domain_expertises[0], \"total_precipitation\", \"relative_humidity\")"
   ]
  },
  {
   "cell_type": "code",
   "execution_count": null,
   "metadata": {
    "id": "saykqPTQsco2"
   },
   "outputs": [],
   "source": [
    "critique"
   ]
  },
  {
   "cell_type": "code",
   "execution_count": null,
   "metadata": {
    "id": "9CJgSelu3L-s"
   },
   "outputs": [],
   "source": [
    "parent=RelationshipStrategy.Parent\n",
    "child=RelationshipStrategy.Child\n",
    "pairwise=RelationshipStrategy.Pairwise"
   ]
  },
  {
   "cell_type": "code",
   "execution_count": null,
   "metadata": {
    "id": "ES6P8_st3NXU"
   },
   "outputs": [],
   "source": [
    "critique = v.critique_graph(sea_ice_variables, model_edges, domain_expertises, pairwise)"
   ]
  },
  {
   "cell_type": "code",
   "execution_count": null,
   "metadata": {
    "id": "JrlTj-QmykJL"
   },
   "outputs": [],
   "source": [
    "critique"
   ]
  }
 ],
 "metadata": {
  "colab": {
   "provenance": []
  },
  "kernelspec": {
   "display_name": "Python 3 (ipykernel)",
   "language": "python",
   "name": "python3"
  },
  "language_info": {
   "codemirror_mode": {
    "name": "ipython",
    "version": 3
   },
   "file_extension": ".py",
   "mimetype": "text/x-python",
   "name": "python",
   "nbconvert_exporter": "python",
   "pygments_lexer": "ipython3",
   "version": "3.9.5"
  }
 },
 "nbformat": 4,
 "nbformat_minor": 4
}
