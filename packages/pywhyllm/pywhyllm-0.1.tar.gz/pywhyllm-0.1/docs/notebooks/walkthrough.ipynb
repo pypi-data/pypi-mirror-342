{
 "cells": [
  {
   "cell_type": "markdown",
   "metadata": {},
   "source": [
    "# Walkthrough of different functions"
   ]
  },
  {
   "cell_type": "code",
   "execution_count": null,
   "metadata": {
    "colab": {
     "base_uri": "https://localhost:8080/"
    },
    "id": "p88jkWT_KUx4",
    "outputId": "5325d5cc-e778-4b76-ceac-c73d4ce11b2d"
   },
   "outputs": [],
   "source": [
    " !pip install python-dotenv"
   ]
  },
  {
   "cell_type": "code",
   "execution_count": null,
   "metadata": {
    "id": "3xkesuXtJ5YQ"
   },
   "outputs": [],
   "source": [
    "from dotenv import load_dotenv\n",
    "import os\n",
    "import guidance\n",
    "from guidance import models\n",
    "\n",
    "load_dotenv()\n",
    "\n",
    "os.environ[\"OPENAI_API_KEY\"] = '' # specify your key here"
   ]
  },
  {
   "cell_type": "code",
   "execution_count": null,
   "metadata": {
    "id": "GtLY4ihkJ5YR"
   },
   "outputs": [],
   "source": [
    "from pywhyllm.suggesters.simple_model_suggester import SimpleModelSuggester\n",
    "modeler = SimpleModelSuggester('gpt-4')"
   ]
  },
  {
   "cell_type": "markdown",
   "metadata": {
    "id": "HfMcQmTnJ5YR"
   },
   "source": [
    "## Test pairwise relationships"
   ]
  },
  {
   "cell_type": "code",
   "execution_count": null,
   "metadata": {
    "colab": {
     "base_uri": "https://localhost:8080/"
    },
    "id": "H1Y4XeqdJ5YS",
    "outputId": "cf4356dc-f57d-4892-d473-fdb64964c089"
   },
   "outputs": [],
   "source": [
    "result = modeler.suggest_pairwise_relationship(\"ice cream sales\", \"shark attacks\")\n"
   ]
  },
  {
   "cell_type": "code",
   "execution_count": null,
   "metadata": {
    "colab": {
     "base_uri": "https://localhost:8080/"
    },
    "id": "oYIJWcLTpf6K",
    "outputId": "3fa333d5-f327-4345-f36f-ba59f737adeb"
   },
   "outputs": [],
   "source": [
    "result"
   ]
  },
  {
   "cell_type": "code",
   "execution_count": null,
   "metadata": {
    "colab": {
     "base_uri": "https://localhost:8080/"
    },
    "id": "Zoveb0KGJ5YS",
    "outputId": "41de089c-28bb-4074-ffa5-139a2e7c22cc"
   },
   "outputs": [],
   "source": [
    "# doesn't work\n",
    "if result[0] is not None:\n",
    "    print(f\"{result[0]} causes {result[1]}\")\n",
    "else:\n",
    "    print(f\"neither causes the other\")"
   ]
  },
  {
   "cell_type": "markdown",
   "metadata": {
    "id": "eAv1WdbUJ5YS"
   },
   "source": [
    "## Let's build a graph among multiple variables"
   ]
  },
  {
   "cell_type": "code",
   "execution_count": null,
   "metadata": {
    "colab": {
     "base_uri": "https://localhost:8080/"
    },
    "id": "j59zNdp2J5YT",
    "outputId": "d1163791-f626-4045-c681-202111a1bfc4"
   },
   "outputs": [],
   "source": [
    "variables = [\"ice cream sales\", \"temperature\", \"cavities\"]\n",
    "results = modeler.suggest_relationships(variables)\n",
    "\n",
    "results"
   ]
  },
  {
   "cell_type": "code",
   "execution_count": null,
   "metadata": {
    "colab": {
     "base_uri": "https://localhost:8080/"
    },
    "id": "Q_ndDUhlB1Ai",
    "outputId": "03220e84-263c-4546-abb6-65cbcf4d2500"
   },
   "outputs": [],
   "source": [
    "results"
   ]
  },
  {
   "cell_type": "markdown",
   "metadata": {
    "id": "Kvin8NlmJ5YT"
   },
   "source": [
    "## Latent confounders"
   ]
  },
  {
   "cell_type": "code",
   "execution_count": null,
   "metadata": {
    "colab": {
     "base_uri": "https://localhost:8080/"
    },
    "id": "07CvHj5sJ5YT",
    "outputId": "0abd593a-31fb-4e07-88d4-2318555424c9"
   },
   "outputs": [],
   "source": [
    "variables = [\"ice cream sales\", \"temperature\", \"cavities\"]\n",
    "latents = modeler.suggest_confounders(variables, \"ice cream sales\", \"shark attacks\")\n",
    "\n",
    "print(latents)"
   ]
  },
  {
   "cell_type": "code",
   "execution_count": null,
   "metadata": {
    "colab": {
     "base_uri": "https://localhost:8080/"
    },
    "id": "X6AjKq8JJ5YT",
    "outputId": "3de57801-d8ea-4789-95c6-915b52b0d849"
   },
   "outputs": [],
   "source": [
    "latents = modeler.suggest_confounders([\"weight\", \"diet\", \"age\"], \"vitamin c\", \"cardiovascular health\")\n",
    "\n",
    "print(latents)"
   ]
  },
  {
   "cell_type": "markdown",
   "metadata": {
    "id": "45IJWbdQJ5YT"
   },
   "source": [
    "## Identification support"
   ]
  },
  {
   "cell_type": "markdown",
   "metadata": {
    "id": "wnorzUJMJ5YT"
   },
   "source": [
    "### Instrumental variables"
   ]
  },
  {
   "cell_type": "code",
   "execution_count": null,
   "metadata": {
    "id": "MNL9qLCNJ5YT"
   },
   "outputs": [],
   "source": [
    "from pywhyllm.suggesters.simple_identification_suggester import SimpleIdentificationSuggester\n",
    "identifier = SimpleIdentificationSuggester('gpt-4')"
   ]
  },
  {
   "cell_type": "code",
   "execution_count": null,
   "metadata": {
    "colab": {
     "base_uri": "https://localhost:8080/"
    },
    "id": "DYRimHThJ5YT",
    "outputId": "fed3fa60-c224-448e-e93d-9369d6bd45e3"
   },
   "outputs": [],
   "source": [
    "variables = [\"cigarette taxes\", \"rain\", \"car sales\", \"property taxes\", \"heart attacks\"]\n",
    "ivs = identifier.suggest_iv(variables, \"smoking\", \"birth weight\")\n",
    "\n",
    "ivs"
   ]
  },
  {
   "cell_type": "markdown",
   "metadata": {
    "id": "xz2NOGl3J5YU"
   },
   "source": [
    "### Backdoor variables"
   ]
  },
  {
   "cell_type": "code",
   "execution_count": null,
   "metadata": {
    "colab": {
     "base_uri": "https://localhost:8080/"
    },
    "id": "xuhj4TEKJ5YU",
    "outputId": "1fc51fa1-68ec-41b4-9ff4-6a3c849710c6"
   },
   "outputs": [],
   "source": [
    "variables = [\"Age\", \"Sex\", \"HbA1c\", \"HDL\", \"LDL\", \"eGFR\", \"Prior MI\",\n",
    "             \"Prior Stroke or TIA\", \"Prior Heart Failure\", \"Cardiovascular medication\",\n",
    "             \"T2DM medication\", \"Insulin\", \"Morbid obesity\", \"First occurrence of Nonfatal myocardial infarction, nonfatal stroke, death from all cause\",\n",
    "             \"semaglutide treatment\", \"Semaglutide medication\", \"income\", \"musical taste\"]\n",
    "\n",
    "backdoors = identifier.suggest_backdoor(variables,\n",
    "                            treatment=\"semaglutide treatment\", outcome = \"cardiovascular health\")\n",
    "\n",
    "print(backdoors)"
   ]
  },
  {
   "cell_type": "markdown",
   "metadata": {
    "id": "ntZKtFy_J5YU"
   },
   "source": [
    "### Frontdoor"
   ]
  },
  {
   "cell_type": "code",
   "execution_count": null,
   "metadata": {
    "colab": {
     "base_uri": "https://localhost:8080/"
    },
    "id": "yer720-5J5YU",
    "outputId": "f385428f-8e09-42a9-977b-430a4985000d"
   },
   "outputs": [],
   "source": [
    "frontdoors = identifier.suggest_frontdoor(variables,\n",
    "                            treatment=\"semaglutide treatment\", outcome = \"cardiovascular health\")\n",
    "\n",
    "print(frontdoors)"
   ]
  }
 ],
 "metadata": {
  "accelerator": "GPU",
  "colab": {
   "gpuType": "T4",
   "provenance": []
  },
  "kernelspec": {
   "display_name": "Python 3 (ipykernel)",
   "language": "python",
   "name": "python3"
  },
  "language_info": {
   "codemirror_mode": {
    "name": "ipython",
    "version": 3
   },
   "file_extension": ".py",
   "mimetype": "text/x-python",
   "name": "python",
   "nbconvert_exporter": "python",
   "pygments_lexer": "ipython3",
   "version": "3.9.5"
  }
 },
 "nbformat": 4,
 "nbformat_minor": 4
}
