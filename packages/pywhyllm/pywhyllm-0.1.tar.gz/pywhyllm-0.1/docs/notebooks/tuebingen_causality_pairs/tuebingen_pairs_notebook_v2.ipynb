{
  "cells": [
    {
      "cell_type": "markdown",
      "metadata": {
        "id": "gALXGMCJMVEA"
      },
      "source": [
        "# Load description for each variable in each pair\n",
        "\n",
        "Recreates and extends analysis from https://github.com/amit-sharma/chatgpt-causality-pairs\n",
        "Focuses on analysis of the Tübingen dataset from https://webdav.tuebingen.mpg.de/cause-effect/"
      ]
    },
    {
      "cell_type": "code",
      "source": [
        "from google.colab import drive\n",
        "drive.mount('/content/drive')"
      ],
      "metadata": {
        "id": "DVxaiDN-Py4-"
      },
      "execution_count": null,
      "outputs": []
    },
    {
      "cell_type": "code",
      "source": [
        "pip install '/content/drive/MyDrive/pywhy-llm'"
      ],
      "metadata": {
        "id": "LgoFrKC_PzM4"
      },
      "execution_count": null,
      "outputs": []
    },
    {
      "cell_type": "code",
      "source": [
        "pip install guidance"
      ],
      "metadata": {
        "id": "DMnZMAMnP1Oc"
      },
      "execution_count": null,
      "outputs": []
    },
    {
      "cell_type": "code",
      "source": [
        "pip install python-dotenv"
      ],
      "metadata": {
        "id": "zQ8BeAeuP1iv"
      },
      "execution_count": null,
      "outputs": []
    },
    {
      "cell_type": "code",
      "execution_count": 31,
      "metadata": {
        "id": "7adKIAb_MVED"
      },
      "outputs": [],
      "source": [
        "from dotenv import load_dotenv\n",
        "from typing import Dict, List, Tuple\n",
        "import guidance\n",
        "import os\n",
        "\n",
        "load_dotenv()\n",
        "\n",
        "os.environ[\"OPENAI_API_KEY\"] = ''"
      ]
    },
    {
      "cell_type": "code",
      "execution_count": null,
      "metadata": {
        "id": "m9dRuOYgMVEF"
      },
      "outputs": [],
      "source": [
        "from pywhyllm.suggesters.tuebingen_model_suggester import TuebingenModelSuggester, Strategy\n",
        "modeler = TuebingenModelSuggester('gpt-4')"
      ]
    },
    {
      "cell_type": "code",
      "source": [
        "import pandas as pd"
      ],
      "metadata": {
        "id": "Hvg8Y-XkuiHb"
      },
      "execution_count": 28,
      "outputs": []
    },
    {
      "cell_type": "code",
      "source": [
        "df = pd.read_csv('/content/drive/MyDrive/pywhy-llm/pywhyllm/tuebingen_pairs.csv')"
      ],
      "metadata": {
        "id": "pmm5bAkXvzY9"
      },
      "execution_count": 29,
      "outputs": []
    },
    {
      "cell_type": "code",
      "source": [
        "df"
      ],
      "metadata": {
        "id": "BRaJhV0dZDL0"
      },
      "execution_count": null,
      "outputs": []
    },
    {
      "cell_type": "markdown",
      "metadata": {
        "id": "VkliGTQQMVEM"
      },
      "source": [
        "# Get relationship of each variable pair"
      ]
    },
    {
      "cell_type": "code",
      "execution_count": 15,
      "metadata": {
        "id": "F7m-zETQMVEN"
      },
      "outputs": [],
      "source": [
        "llm_output : Dict[str, dict] = {}"
      ]
    },
    {
      "cell_type": "markdown",
      "metadata": {
        "id": "Ij8PATRrMVEN"
      },
      "source": [
        "####  Variables + Straight Strategy"
      ]
    },
    {
      "cell_type": "code",
      "source": [
        "for pair_number, values in df.iterrows():\n",
        "\n",
        "        temp_dict = {}\n",
        "\n",
        "\n",
        "        temp_dict['llm_ab'] = modeler.suggest_relationship(variable_a=values['var1'], variable_b=values['var2'], description_a=values['var1_desc'], description_b=values['var2_desc'], strategy=Strategy.Straight)\n",
        "\n",
        "        temp_dict['llm_ba'] = modeler.suggest_relationship(variable_a=values['var2'], variable_b=values['var1'], description_a=values['var2_desc'], description_b=values['var1_desc'], strategy=Strategy.Straight)\n",
        "\n",
        "        llm_output[(pair_number, temperature, n)] = temp_dict"
      ],
      "metadata": {
        "id": "1WLsczUoPbN_"
      },
      "execution_count": null,
      "outputs": []
    },
    {
      "cell_type": "markdown",
      "metadata": {
        "id": "0vYGDaN4MVEO"
      },
      "source": [
        "##### Average LLM Output"
      ]
    },
    {
      "cell_type": "code",
      "execution_count": null,
      "metadata": {
        "id": "ZXQqWYaSMVEO"
      },
      "outputs": [],
      "source": [
        "av_ab = 0\n",
        "av_ba = 0\n",
        "\n",
        "for i in range(5):\n",
        "    av_ab += llm_output[('pair0087', 0.3, i+1)]['llm_ab']\n",
        "    av_ba += llm_output[('pair0087', 0.3, i+1)]['llm_ba']\n",
        "\n",
        "    print(llm_output[('pair0087', 0.3, i+1)]['llm_ab'])\n",
        "    print(llm_output[('pair0087', 0.3, i+1)]['llm_ba'])\n",
        "\n",
        "av_ab = av_ab/5.0\n",
        "av_ba = av_ba/5.0\n",
        "\n",
        "print(av_ab)\n",
        "print(av_ba)"
      ]
    },
    {
      "cell_type": "code",
      "execution_count": null,
      "metadata": {
        "id": "Dx4XyQECMVEO"
      },
      "outputs": [],
      "source": [
        "for id in saved_pairs_info:\n",
        "\n",
        "    av_correct_ab = 0\n",
        "    av_correct_ba = 0\n",
        "\n",
        "    for i in range(5):\n",
        "        print(llm_output[(id, 0.3, i+1)]['llm_ab'])"
      ]
    },
    {
      "cell_type": "code",
      "execution_count": null,
      "metadata": {
        "id": "y6CpcQEaMVEO"
      },
      "outputs": [],
      "source": [
        "results : Dict = {}\n",
        "\n",
        "for id in saved_pairs_info:\n",
        "\n",
        "    av_correct_ab = 0\n",
        "    av_correct_ba = 0\n",
        "\n",
        "    for i in range(5):\n",
        "\n",
        "        if llm_output[(id, 0.3, i+1)]['llm_ab'] == 1 and saved_pairs_info[id]['ground_truth'] == \" R\":\n",
        "            av_correct_ab += 1\n",
        "        elif llm_output[(id, 0.3, i+1)]['llm_ab'] == 0 and saved_pairs_info[id]['ground_truth'] == \" L\":\n",
        "            av_correct_ab += 1\n",
        "\n",
        "        if llm_output[(id, 0.3, i+1)]['llm_ba'] == 1 and saved_pairs_info[id]['ground_truth'] == \" L\":\n",
        "            av_correct_ba += 1\n",
        "        elif llm_output[(id, 0.3, i+1)]['llm_ba'] == 0 and saved_pairs_info[id]['ground_truth'] == \" R\":\n",
        "            av_correct_ba += 1\n",
        "\n",
        "    av_correct_ab /= 5.0\n",
        "    av_correct_ba /= 5.0\n",
        "\n",
        "    temp : Dict = {}\n",
        "\n",
        "    temp['PairID'] = id\n",
        "    temp['CorrectACauseB'] = av_correct_ab\n",
        "    temp['CorrectBCauseA'] = av_correct_ba\n",
        "    temp['VarA'] = saved_pairs_info[id]['var1']\n",
        "    temp['VarB'] = saved_pairs_info[id]['var2']\n",
        "    temp['GroundTruth'] = saved_pairs_info[id]['ground_truth']\n",
        "\n",
        "    results[id] = temp\n",
        "    print(results[id])\n",
        "\n",
        "\n"
      ]
    },
    {
      "cell_type": "markdown",
      "metadata": {
        "id": "6Yy-gdZvMVEP"
      },
      "source": [
        "#### Save to csv file"
      ]
    },
    {
      "cell_type": "code",
      "execution_count": null,
      "metadata": {
        "id": "ZHutRtU2MVEP"
      },
      "outputs": [],
      "source": [
        "import csv\n",
        "import copy\n",
        "\n",
        "# CSV file name\n",
        "csv_file = \"gpt-4_results_straight_prompt_w_descriptions.csv\"\n",
        "\n",
        "# Define the CSV file's header (column names)\n",
        "header = [\"CorrectACauseB\", \"CorrectBCauseA\", \"PairID\", \"VarA\", \"VarB\", \"GroundTruth\"]\n",
        "\n",
        "# Write the data to the CSV file\n",
        "with open(csv_file, mode=\"w\", newline=\"\", encoding=\"utf-8\") as file:\n",
        "    writer = csv.DictWriter(file, fieldnames=header)\n",
        "    writer.writeheader()\n",
        "    for pair_id, values in results.items():\n",
        "        writer.writerow(values)\n",
        "\n",
        "print(f\"CSV file '{csv_file}' has been created.\")\n"
      ]
    }
  ],
  "metadata": {
    "kernelspec": {
      "display_name": "askwhy_venv",
      "language": "python",
      "name": "python3"
    },
    "language_info": {
      "codemirror_mode": {
        "name": "ipython",
        "version": 3
      },
      "file_extension": ".py",
      "mimetype": "text/x-python",
      "name": "python",
      "nbconvert_exporter": "python",
      "pygments_lexer": "ipython3",
      "version": "3.11.4"
    },
    "orig_nbformat": 4,
    "colab": {
      "provenance": []
    }
  },
  "nbformat": 4,
  "nbformat_minor": 0
}