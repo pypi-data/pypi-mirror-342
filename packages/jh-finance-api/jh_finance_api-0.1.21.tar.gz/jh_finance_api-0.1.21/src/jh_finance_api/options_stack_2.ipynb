{
 "cells": [
  {
   "cell_type": "code",
   "execution_count": null,
   "id": "af34c42f",
   "metadata": {},
   "outputs": [],
   "source": [
    "import warnings\n",
    "import pandas as pd\n",
    "\n",
    "warnings.filterwarnings('ignore')"
   ]
  },
  {
   "cell_type": "code",
   "execution_count": null,
   "id": "7aa6afc0",
   "metadata": {},
   "outputs": [],
   "source": [
    "endpoint = lambda TICKER: f'https://proj-finance-backend.onrender.com/options-stack-2/{TICKER}'"
   ]
  },
  {
   "cell_type": "code",
   "execution_count": null,
   "id": "edb53d19",
   "metadata": {},
   "outputs": [],
   "source": [
    "def get(TICKER='MSFT'):\n",
    "    return pd.read_json(endpoint(TICKER))\n",
    "\n",
    "get()"
   ]
  },
  {
   "cell_type": "code",
   "execution_count": null,
   "id": "a7253123",
   "metadata": {},
   "outputs": [],
   "source": [
    "sample_req = 'https://proj-finance-backend.onrender.com/options-stack-2/MSFT'\n",
    "sample_res = [\n",
    " {'Code': 'MSFT250411C00230000',\n",
    "  'Ticker': 'MSFT',\n",
    "  'Price': 351,\n",
    "  'Option': 'CALL',\n",
    "  'Expiry': '2025-04-11',\n",
    "  'Strike': 230.0,\n",
    "  'Volume': 0,\n",
    "  'OI': 3,\n",
    "  'Ask': 119.1,\n",
    "  'Mid': 120.9,\n",
    "  'Bid': 122.7},\n",
    " {'Code': 'MSFT250411C00240000',\n",
    "  'Ticker': 'MSFT',\n",
    "  'Price': 351,\n",
    "  'Option': 'CALL',\n",
    "  'Expiry': '2025-04-11',\n",
    "  'Strike': 240.0,\n",
    "  'Volume': 0,\n",
    "  'OI': 0,\n",
    "  'Ask': 109.2,\n",
    "  'Mid': 110.72,\n",
    "  'Bid': 112.25},\n",
    " {'Code': 'MSFT250411C00250000',\n",
    "  'Ticker': 'MSFT',\n",
    "  'Price': 351,\n",
    "  'Option': 'CALL',\n",
    "  'Expiry': '2025-04-11',\n",
    "  'Strike': 250.0,\n",
    "  'Volume': 0,\n",
    "  'OI': 0,\n",
    "  'Ask': 99.35,\n",
    "  'Mid': 101.08,\n",
    "  'Bid': 102.8},\n",
    " {'Code': 'MSFT250411C00260000',\n",
    "  'Ticker': 'MSFT',\n",
    "  'Price': 351,\n",
    "  'Option': 'CALL',\n",
    "  'Expiry': '2025-04-11',\n",
    "  'Strike': 260.0,\n",
    "  'Volume': 0,\n",
    "  'OI': 1,\n",
    "  'Ask': 89.35,\n",
    "  'Mid': 90.88,\n",
    "  'Bid': 92.4},\n",
    " {'Code': 'MSFT250411C00270000',\n",
    "  'Ticker': 'MSFT',\n",
    "  'Price': 351,\n",
    "  'Option': 'CALL',\n",
    "  'Expiry': '2025-04-11',\n",
    "  'Strike': 270.0,\n",
    "  'Volume': 0,\n",
    "  'OI': 0,\n",
    "  'Ask': 79.55,\n",
    "  'Mid': 81.28,\n",
    "  'Bid': 83.0}\n",
    "]"
   ]
  },
  {
   "cell_type": "code",
   "execution_count": null,
   "id": "ab3efabf",
   "metadata": {},
   "outputs": [],
   "source": [
    "sample = get().head()"
   ]
  }
 ],
 "metadata": {
  "kernelspec": {
   "display_name": "base",
   "language": "python",
   "name": "python3"
  },
  "language_info": {
   "codemirror_mode": {
    "name": "ipython",
    "version": 3
   },
   "file_extension": ".py",
   "mimetype": "text/x-python",
   "name": "python",
   "nbconvert_exporter": "python",
   "pygments_lexer": "ipython3",
   "version": "3.11.11"
  }
 },
 "nbformat": 4,
 "nbformat_minor": 5
}
