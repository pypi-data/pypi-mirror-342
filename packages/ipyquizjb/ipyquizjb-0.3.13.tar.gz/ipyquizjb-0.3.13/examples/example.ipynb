{
 "cells": [
  {
   "cell_type": "code",
   "execution_count": 1,
   "metadata": {},
   "outputs": [],
   "source": [
    "from ipyquizjb.faceit import display_simple_search\n",
    "\n",
    "#display_simple_search(\"math\", 2)"
   ]
  },
  {
   "cell_type": "code",
   "execution_count": 2,
   "metadata": {},
   "outputs": [
    {
     "data": {
      "text/html": [
       "<script>\n",
       "// Makes buttons with rendered math clickable by\n",
       "// listening for click on the math and then \n",
       "// resending a click to the actual button\n",
       "function make_latex_buttons_clickable() {\n",
       "    for (element of document.querySelectorAll(\"button mjx-container\")) {\n",
       "        if (element.hasAttribute('clickable-math-listener')) {\n",
       "            // Skip if listener is already attached\n",
       "            continue;\n",
       "        }\n",
       "        element.addEventListener(\"click\", (e) => {\n",
       "            // Find the actual button and click it\n",
       "            e.stopPropagation();\n",
       "            var parent = e.target.parentElement\n",
       "            while (!parent.classList.contains(\"jupyter-button\")) {\n",
       "                parent = parent.parentElement;\n",
       "            }\n",
       "            parent.click();\t\n",
       "        });\n",
       "        element.setAttribute(\"clickable-math-listener\", \"\");\n",
       "    };\n",
       "}\n",
       "\n",
       "function processAllTikz() {\n",
       "    const scripts = document.getElementsByTagName('script');\n",
       "    var tikzScripts = Array.prototype.slice.call(scripts).filter(e => e.getAttribute('type') === 'text/tikz');\n",
       "    tikzScripts.reduce(async (promise, element) => {\n",
       "        await promise;\n",
       "        return process_tikz(element);\n",
       "    }, Promise.resolve());\n",
       "}\n",
       "                \n",
       "// Used on every rerender\n",
       "function typesetAll() {\n",
       "    console.log(\"Rerender typeset\");\n",
       "    MathJax.typeset([...document.getElementsByClassName(\"ipyquizjb-render-math\")]);\n",
       "    if (window.process_tikz) {\n",
       "        processAllTikz()\n",
       "    }\n",
       "    make_latex_buttons_clickable();\n",
       "}\n",
       "\n",
       "typesetAll();\n",
       "</script>"
      ],
      "text/plain": [
       "<IPython.core.display.HTML object>"
      ]
     },
     "metadata": {},
     "output_type": "display_data"
    },
    {
     "data": {
      "application/vnd.jupyter.widget-view+json": {
       "model_id": "c949c61308ab4bd8aeff4dccc9d98fd1",
       "version_major": 2,
       "version_minor": 0
      },
      "text/plain": [
       "VBox(children=(HTMLMath(value='<h2 style=\\'font-size: 1.40em;\\'>Si consideri il segnale a tempo continuo $x(t)…"
      ]
     },
     "metadata": {},
     "output_type": "display_data"
    },
    {
     "data": {
      "application/vnd.jupyter.widget-view+json": {
       "model_id": "c1e8eae415d74bbb95d9c0d8c23903e3",
       "version_major": 2,
       "version_minor": 0
      },
      "text/plain": [
       "VBox(children=(HTMLMath(value='<h2 style=\\'font-size: 1.40em;\\'>Si consideri lo schema a blocchi mostrato nell…"
      ]
     },
     "metadata": {},
     "output_type": "display_data"
    },
    {
     "data": {
      "text/html": [
       "<script>typesetAll();</script>"
      ],
      "text/plain": [
       "<IPython.core.display.HTML object>"
      ]
     },
     "metadata": {},
     "output_type": "display_data"
    }
   ],
   "source": [
    "display_simple_search(\"consideri\", 2)"
   ]
  },
  {
   "cell_type": "code",
   "execution_count": 3,
   "metadata": {},
   "outputs": [
    {
     "data": {
      "text/html": [
       "<script>\n",
       "// Makes buttons with rendered math clickable by\n",
       "// listening for click on the math and then \n",
       "// resending a click to the actual button\n",
       "function make_latex_buttons_clickable() {\n",
       "    for (element of document.querySelectorAll(\"button mjx-container\")) {\n",
       "        if (element.hasAttribute('clickable-math-listener')) {\n",
       "            // Skip if listener is already attached\n",
       "            continue;\n",
       "        }\n",
       "        element.addEventListener(\"click\", (e) => {\n",
       "            // Find the actual button and click it\n",
       "            e.stopPropagation();\n",
       "            var parent = e.target.parentElement\n",
       "            while (!parent.classList.contains(\"jupyter-button\")) {\n",
       "                parent = parent.parentElement;\n",
       "            }\n",
       "            parent.click();\t\n",
       "        });\n",
       "        element.setAttribute(\"clickable-math-listener\", \"\");\n",
       "    };\n",
       "}\n",
       "\n",
       "function processAllTikz() {\n",
       "    const scripts = document.getElementsByTagName('script');\n",
       "    var tikzScripts = Array.prototype.slice.call(scripts).filter(e => e.getAttribute('type') === 'text/tikz');\n",
       "    tikzScripts.reduce(async (promise, element) => {\n",
       "        await promise;\n",
       "        return process_tikz(element);\n",
       "    }, Promise.resolve());\n",
       "}\n",
       "                \n",
       "// Used on every rerender\n",
       "function typesetAll() {\n",
       "    console.log(\"Rerender typeset\");\n",
       "    MathJax.typeset([...document.getElementsByClassName(\"ipyquizjb-render-math\")]);\n",
       "    if (window.process_tikz) {\n",
       "        processAllTikz()\n",
       "    }\n",
       "    make_latex_buttons_clickable();\n",
       "}\n",
       "\n",
       "typesetAll();\n",
       "</script>"
      ],
      "text/plain": [
       "<IPython.core.display.HTML object>"
      ]
     },
     "metadata": {},
     "output_type": "display_data"
    },
    {
     "data": {
      "application/vnd.jupyter.widget-view+json": {
       "model_id": "07209bdd38d64bd9ba0afffe5c6e6071",
       "version_major": 2,
       "version_minor": 0
      },
      "text/plain": [
       "VBox(children=(Output(), Output(layout=Layout(display='none'))), _dom_classes=('ipyquizjb-render-math',))"
      ]
     },
     "metadata": {},
     "output_type": "display_data"
    },
    {
     "data": {
      "text/html": [
       "<script>typesetAll();</script>"
      ],
      "text/plain": [
       "<IPython.core.display.HTML object>"
      ]
     },
     "metadata": {},
     "output_type": "display_data"
    }
   ],
   "source": [
    "\n",
    "from ipyquizjb import display_json\n",
    "\n",
    "test_json = r\"\"\"{\n",
    "  \"questions\": [\n",
    "    {\n",
    "      \"type\": \"MULTIPLE_CHOICE\",\n",
    "      \"body\": \"What is the derivative of \\\\( \\\\sin(x) \\\\)?\",\n",
    "      \"answers\": [\n",
    "        \"\\\\( -\\\\cos(x) \\\\).\",\n",
    "        \"\\\\( \\\\tan(x) \\\\).\",\n",
    "        \"\\\\( \\\\cos(x) \\\\).\"\n",
    "      ],\n",
    "      \"answer\": [\"\\\\( \\\\cos(x) \\\\).\"],\n",
    "      \"notes\": [\"The derivative of \\\\( \\\\sin(x) \\\\) is \\\\( \\\\cos(x) \\\\).\"]\n",
    "    },\n",
    "    {\n",
    "      \"type\": \"NUMERIC\",\n",
    "      \"body\": \"What's the derivative of z (z'), with respect to x, of z = 4y+x?\",\n",
    "      \"answer\": \"1\",\n",
    "      \"notes\": []\n",
    "    },\n",
    "    {\n",
    "      \"type\": \"TEXT\",\n",
    "      \"body\": \"Is this a text answer?\",\n",
    "      \"notes\": [\"Yes\"]\n",
    "    }\n",
    "  ],\n",
    "  \"additional_material\":\n",
    "    {\n",
    "      \"type\": \"TEXT\",\n",
    "      \"body\": \"A PID controller consists of three key components: the Proportional (P), Integral (I), and Derivative (D) terms. The proportional component responds to the current error by applying a correction proportional to its magnitude, providing immediate corrective action. The integral component addresses the accumulation of past errors, helping to eliminate steady-state errors over time. The derivative component predicts future errors by responding to the rate of error change, which helps to dampen oscillations and improve system stability. Adjusting each of these components involves trade-offs. Increasing the proportional gain can speed up response but may cause oscillations. A higher integral gain can reduce steady-state error but risks integral windup, leading to overshoot. Boosting the derivative gain can stabilize the response but may also make the system overly sensitive to noise. Understanding these dynamics is crucial for effectively tuning a PID controller.\"\n",
    "    }\n",
    "  ,\n",
    "  \"status\": \"success\"\n",
    "}\"\"\"\n",
    "\n",
    "display_json(test_json, as_group=True)"
   ]
  },
  {
   "cell_type": "code",
   "execution_count": 4,
   "metadata": {},
   "outputs": [
    {
     "data": {
      "text/html": [
       "<script>\n",
       "// Makes buttons with rendered math clickable by\n",
       "// listening for click on the math and then \n",
       "// resending a click to the actual button\n",
       "function make_latex_buttons_clickable() {\n",
       "    for (element of document.querySelectorAll(\"button mjx-container\")) {\n",
       "        if (element.hasAttribute('clickable-math-listener')) {\n",
       "            // Skip if listener is already attached\n",
       "            continue;\n",
       "        }\n",
       "        element.addEventListener(\"click\", (e) => {\n",
       "            // Find the actual button and click it\n",
       "            e.stopPropagation();\n",
       "            var parent = e.target.parentElement\n",
       "            while (!parent.classList.contains(\"jupyter-button\")) {\n",
       "                parent = parent.parentElement;\n",
       "            }\n",
       "            parent.click();\t\n",
       "        });\n",
       "        element.setAttribute(\"clickable-math-listener\", \"\");\n",
       "    };\n",
       "}\n",
       "\n",
       "function processAllTikz() {\n",
       "    const scripts = document.getElementsByTagName('script');\n",
       "    var tikzScripts = Array.prototype.slice.call(scripts).filter(e => e.getAttribute('type') === 'text/tikz');\n",
       "    tikzScripts.reduce(async (promise, element) => {\n",
       "        await promise;\n",
       "        return process_tikz(element);\n",
       "    }, Promise.resolve());\n",
       "}\n",
       "                \n",
       "// Used on every rerender\n",
       "function typesetAll() {\n",
       "    console.log(\"Rerender typeset\");\n",
       "    MathJax.typeset([...document.getElementsByClassName(\"ipyquizjb-render-math\")]);\n",
       "    if (window.process_tikz) {\n",
       "        processAllTikz()\n",
       "    }\n",
       "    make_latex_buttons_clickable();\n",
       "}\n",
       "\n",
       "typesetAll();\n",
       "</script>"
      ],
      "text/plain": [
       "<IPython.core.display.HTML object>"
      ]
     },
     "metadata": {},
     "output_type": "display_data"
    },
    {
     "data": {
      "application/vnd.jupyter.widget-view+json": {
       "model_id": "33502c4e2cbf4416afb4f47b18aa566c",
       "version_major": 2,
       "version_minor": 0
      },
      "text/plain": [
       "VBox(children=(HTMLMath(value=\"<h2 style='font-size: 1.40em;'>Is this a text answer?</h2>\"), Button(descriptio…"
      ]
     },
     "metadata": {},
     "output_type": "display_data"
    },
    {
     "data": {
      "application/vnd.jupyter.widget-view+json": {
       "model_id": "5b06f1bb768044e4b5ffc8aa6461f7bf",
       "version_major": 2,
       "version_minor": 0
      },
      "text/plain": [
       "VBox(children=(HTMLMath(value=\"<h2 style='font-size: 1.40em;'>Is this a numeric question?</h2>\"), Button(descr…"
      ]
     },
     "metadata": {},
     "output_type": "display_data"
    },
    {
     "data": {
      "text/html": [
       "<script>typesetAll();</script>"
      ],
      "text/plain": [
       "<IPython.core.display.HTML object>"
      ]
     },
     "metadata": {},
     "output_type": "display_data"
    }
   ],
   "source": [
    "from ipyquizjb import display_json\n",
    "\n",
    "test_json = r\"\"\"{\n",
    "  \"questions\": [\n",
    "    {\n",
    "      \"type\": \"TEXT\",\n",
    "      \"body\": \"Is this a text answer?\",\n",
    "      \"notes\": [\"Yes\"]\n",
    "    },\n",
    "    {\n",
    "      \"type\": \"TEXT\",\n",
    "      \"body\": \"Is this a numeric question?\",\n",
    "      \"notes\": [\"No\"]\n",
    "    }\n",
    "  ],\n",
    "  \"status\": \"success\"\n",
    "}\"\"\"\n",
    "\n",
    "\n",
    "display_json(test_json, as_group=True)\n"
   ]
  },
  {
   "cell_type": "code",
   "execution_count": 5,
   "metadata": {},
   "outputs": [
    {
     "data": {
      "text/html": [
       "<script>\n",
       "// Makes buttons with rendered math clickable by\n",
       "// listening for click on the math and then \n",
       "// resending a click to the actual button\n",
       "function make_latex_buttons_clickable() {\n",
       "    for (element of document.querySelectorAll(\"button mjx-container\")) {\n",
       "        if (element.hasAttribute('clickable-math-listener')) {\n",
       "            // Skip if listener is already attached\n",
       "            continue;\n",
       "        }\n",
       "        element.addEventListener(\"click\", (e) => {\n",
       "            // Find the actual button and click it\n",
       "            e.stopPropagation();\n",
       "            var parent = e.target.parentElement\n",
       "            while (!parent.classList.contains(\"jupyter-button\")) {\n",
       "                parent = parent.parentElement;\n",
       "            }\n",
       "            parent.click();\t\n",
       "        });\n",
       "        element.setAttribute(\"clickable-math-listener\", \"\");\n",
       "    };\n",
       "}\n",
       "\n",
       "function processAllTikz() {\n",
       "    const scripts = document.getElementsByTagName('script');\n",
       "    var tikzScripts = Array.prototype.slice.call(scripts).filter(e => e.getAttribute('type') === 'text/tikz');\n",
       "    tikzScripts.reduce(async (promise, element) => {\n",
       "        await promise;\n",
       "        return process_tikz(element);\n",
       "    }, Promise.resolve());\n",
       "}\n",
       "                \n",
       "// Used on every rerender\n",
       "function typesetAll() {\n",
       "    console.log(\"Rerender typeset\");\n",
       "    MathJax.typeset([...document.getElementsByClassName(\"ipyquizjb-render-math\")]);\n",
       "    if (window.process_tikz) {\n",
       "        processAllTikz()\n",
       "    }\n",
       "    make_latex_buttons_clickable();\n",
       "}\n",
       "\n",
       "typesetAll();\n",
       "</script>"
      ],
      "text/plain": [
       "<IPython.core.display.HTML object>"
      ]
     },
     "metadata": {},
     "output_type": "display_data"
    },
    {
     "data": {
      "application/vnd.jupyter.widget-view+json": {
       "model_id": "3fb7cb56b89b439f868c486e9f6d1fed",
       "version_major": 2,
       "version_minor": 0
      },
      "text/plain": [
       "VBox(children=(Output(), Output()), _dom_classes=('ipyquizjb-render-math',))"
      ]
     },
     "metadata": {},
     "output_type": "display_data"
    },
    {
     "data": {
      "text/html": [
       "<script>typesetAll();</script>"
      ],
      "text/plain": [
       "<IPython.core.display.HTML object>"
      ]
     },
     "metadata": {},
     "output_type": "display_data"
    }
   ],
   "source": [
    "from ipyquizjb.types import Question\n",
    "from ipyquizjb.questions import display_questions\n",
    "\n",
    "questions: list[Question] = [\n",
    "    {\n",
    "        \"type\": \"MULTIPLE_CHOICE\",\n",
    "        \"body\": \"What is the first letter of the alfabet?\",\n",
    "        \"answers\": [\"a\", \"b\", \"c\"],\n",
    "        \"answer\": [\"a\"],\n",
    "        \"when\": \"initial\",\n",
    "    },\n",
    "    {\n",
    "        \"type\": \"MULTIPLE_CHOICE\",\n",
    "        \"body\": \"What is the second letter of the alfabet?\",\n",
    "        \"answers\": [\"a\", \"b\", \"c\"],\n",
    "        \"answer\": [\"b\"],\n",
    "        \"when\": \"retry\",\n",
    "    },\n",
    "    {\n",
    "        \"type\": \"MULTIPLE_CHOICE\",\n",
    "        \"body\": \"What is the third letter of the alfabet?\",\n",
    "        \"answers\": [\"a\", \"b\", \"c\"],\n",
    "        \"answer\": [\"c\"],\n",
    "        \"when\": \"retry\",\n",
    "    },\n",
    "]\n",
    "\n",
    "display_questions(questions)"
   ]
  },
  {
   "cell_type": "code",
   "execution_count": 6,
   "metadata": {},
   "outputs": [
    {
     "data": {
      "text/html": [
       "<script>\n",
       "// Makes buttons with rendered math clickable by\n",
       "// listening for click on the math and then \n",
       "// resending a click to the actual button\n",
       "function make_latex_buttons_clickable() {\n",
       "    for (element of document.querySelectorAll(\"button mjx-container\")) {\n",
       "        if (element.hasAttribute('clickable-math-listener')) {\n",
       "            // Skip if listener is already attached\n",
       "            continue;\n",
       "        }\n",
       "        element.addEventListener(\"click\", (e) => {\n",
       "            // Find the actual button and click it\n",
       "            e.stopPropagation();\n",
       "            var parent = e.target.parentElement\n",
       "            while (!parent.classList.contains(\"jupyter-button\")) {\n",
       "                parent = parent.parentElement;\n",
       "            }\n",
       "            parent.click();\t\n",
       "        });\n",
       "        element.setAttribute(\"clickable-math-listener\", \"\");\n",
       "    };\n",
       "}\n",
       "\n",
       "function processAllTikz() {\n",
       "    const scripts = document.getElementsByTagName('script');\n",
       "    var tikzScripts = Array.prototype.slice.call(scripts).filter(e => e.getAttribute('type') === 'text/tikz');\n",
       "    tikzScripts.reduce(async (promise, element) => {\n",
       "        await promise;\n",
       "        return process_tikz(element);\n",
       "    }, Promise.resolve());\n",
       "}\n",
       "                \n",
       "// Used on every rerender\n",
       "function typesetAll() {\n",
       "    console.log(\"Rerender typeset\");\n",
       "    MathJax.typeset([...document.getElementsByClassName(\"ipyquizjb-render-math\")]);\n",
       "    if (window.process_tikz) {\n",
       "        processAllTikz()\n",
       "    }\n",
       "    make_latex_buttons_clickable();\n",
       "}\n",
       "\n",
       "typesetAll();\n",
       "</script>"
      ],
      "text/plain": [
       "<IPython.core.display.HTML object>"
      ]
     },
     "metadata": {},
     "output_type": "display_data"
    },
    {
     "data": {
      "application/vnd.jupyter.widget-view+json": {
       "model_id": "ddd15f52b420453caae3ee9de7715042",
       "version_major": 2,
       "version_minor": 0
      },
      "text/plain": [
       "VBox(children=(Output(), Output(layout=Layout(display='none'))), _dom_classes=('ipyquizjb-render-math',))"
      ]
     },
     "metadata": {},
     "output_type": "display_data"
    },
    {
     "data": {
      "text/html": [
       "<script>typesetAll();</script>"
      ],
      "text/plain": [
       "<IPython.core.display.HTML object>"
      ]
     },
     "metadata": {},
     "output_type": "display_data"
    }
   ],
   "source": [
    "from ipyquizjb.questions import display_package\n",
    "\n",
    "question_package = {\n",
    "    \"questions\": [\n",
    "        {\n",
    "            \"type\": \"MULTIPLE_CHOICE\",\n",
    "            \"body\": \"What is the first letter of the alfabet?\",\n",
    "            \"answers\": [\"a\", \"b\", \"c\"],\n",
    "            \"answer\": [\"a\"],\n",
    "            \"when\": \"initial\",\n",
    "        },\n",
    "        {\n",
    "            \"type\": \"MULTIPLE_CHOICE\",\n",
    "            \"body\": \"What is the second letter of the alfabet?\",\n",
    "            \"answers\": [\"a\", \"b\", \"c\"],\n",
    "            \"answer\": [\"b\"],\n",
    "            \"when\": \"retry\",\n",
    "        },\n",
    "        {\n",
    "            \"type\": \"MULTIPLE_CHOICE\",\n",
    "            \"body\": \"What is the third letter of the alfabet?\",\n",
    "            \"answers\": [\"a\", \"b\", \"c\"],\n",
    "            \"answer\": [\"c\"],\n",
    "            \"when\": \"retry\",\n",
    "        },\n",
    "    ],\n",
    "    \"additional_material\": {\n",
    "      \"type\": \"TEXT\",\n",
    "      \"body\": \"A PID controller consists of three key components: the Proportional (P), Integral (I), and Derivative (D) terms. The proportional component responds to the current error by applying a correction proportional to its magnitude, providing immediate corrective action. The integral component addresses the accumulation of past errors, helping to eliminate steady-state errors over time. The derivative component predicts future errors by responding to the rate of error change, which helps to dampen oscillations and improve system stability. Adjusting each of these components involves trade-offs. Increasing the proportional gain can speed up response but may cause oscillations. A higher integral gain can reduce steady-state error but risks integral windup, leading to overshoot. Boosting the derivative gain can stabilize the response but may also make the system overly sensitive to noise. Understanding these dynamics is crucial for effectively tuning a PID controller.\"\n",
    "    }\n",
    "}\n",
    "\n",
    "display_package(question_package)"
   ]
  },
  {
   "cell_type": "code",
   "execution_count": 8,
   "metadata": {},
   "outputs": [
    {
     "data": {
      "text/html": [
       "<script>\n",
       "// Makes buttons with rendered math clickable by\n",
       "// listening for click on the math and then \n",
       "// resending a click to the actual button\n",
       "function make_latex_buttons_clickable() {\n",
       "    for (element of document.querySelectorAll(\"button mjx-container\")) {\n",
       "        if (element.hasAttribute('clickable-math-listener')) {\n",
       "            // Skip if listener is already attached\n",
       "            continue;\n",
       "        }\n",
       "        element.addEventListener(\"click\", (e) => {\n",
       "            // Find the actual button and click it\n",
       "            e.stopPropagation();\n",
       "            var parent = e.target.parentElement\n",
       "            while (!parent.classList.contains(\"jupyter-button\")) {\n",
       "                parent = parent.parentElement;\n",
       "            }\n",
       "            parent.click();\t\n",
       "        });\n",
       "        element.setAttribute(\"clickable-math-listener\", \"\");\n",
       "    };\n",
       "}\n",
       "\n",
       "function processAllTikz() {\n",
       "    const scripts = document.getElementsByTagName('script');\n",
       "    var tikzScripts = Array.prototype.slice.call(scripts).filter(e => e.getAttribute('type') === 'text/tikz');\n",
       "    tikzScripts.reduce(async (promise, element) => {\n",
       "        await promise;\n",
       "        return process_tikz(element);\n",
       "    }, Promise.resolve());\n",
       "}\n",
       "                \n",
       "// Used on every rerender\n",
       "function typesetAll() {\n",
       "    console.log(\"Rerender typeset\");\n",
       "    MathJax.typeset([...document.getElementsByClassName(\"ipyquizjb-render-math\")]);\n",
       "    if (window.process_tikz) {\n",
       "        processAllTikz()\n",
       "    }\n",
       "    make_latex_buttons_clickable();\n",
       "}\n",
       "\n",
       "typesetAll();\n",
       "</script>"
      ],
      "text/plain": [
       "<IPython.core.display.HTML object>"
      ]
     },
     "metadata": {},
     "output_type": "display_data"
    },
    {
     "data": {
      "application/vnd.jupyter.widget-view+json": {
       "model_id": "cc5e08bdc5ec4d0d80a85da0697718fe",
       "version_major": 2,
       "version_minor": 0
      },
      "text/plain": [
       "VBox(children=(Output(), Output(layout=Layout(display='none'))), _dom_classes=('ipyquizjb-render-math',))"
      ]
     },
     "metadata": {},
     "output_type": "display_data"
    },
    {
     "data": {
      "text/html": [
       "<script>typesetAll();</script>"
      ],
      "text/plain": [
       "<IPython.core.display.HTML object>"
      ]
     },
     "metadata": {},
     "output_type": "display_data"
    }
   ],
   "source": [
    "\"\"\" Question format description \"\"\"\n",
    "\n",
    "questions = {\n",
    "    \"questions\": [\n",
    "        {\n",
    "            \"type\": \"MULTIPLE_CHOICE\",\n",
    "            \"body\": \"What is the derivative of \\\\( \\\\sin(x) \\\\)?\",\n",
    "            \"answers\": [\n",
    "                \"\\\\( -\\\\cos(x) \\\\).\",\n",
    "                \"\\\\( \\\\tan(x) \\\\).\",\n",
    "                \"\\\\( \\\\cos(x) \\\\).\"\n",
    "            ],  # Alternatives\n",
    "            \"answer\": [\"\\\\( \\\\cos(x) \\\\).\"],  # Correct answers, one or more\n",
    "            \"when\": \"initial\", # Optional. \"initial\" if this should always be displayed on first load, \"retry\" if it should be part of the pool of questions loaded when trying again with new questions.\n",
    "        },\n",
    "        {\n",
    "            \"type\": \"TEXT\",\n",
    "            \"body\": \"What is the second letter of the alfabet?\",\n",
    "            \"body\": \"Is this a text answer?\",\n",
    "            \"notes\": [\"Yes\"],  # Solution to be displayed when clicking \"Show solution\"\n",
    "            \"when\": \"initial\",  # Optional, same as above\n",
    "        },\n",
    "        {\n",
    "            \"type\": \"NUMERIC\",\n",
    "            \"body\": \"What's the derivative of z (z'), with respect to x, of z = 4y+x?\",\n",
    "            \"answer\": \"1\",\n",
    "            \"when\": \"initial\",\n",
    "        },\n",
    "    ],\n",
    "    \"additional_material\": {\n",
    "        \"type\": \"TEXT\",\n",
    "        \"body\": \"Extra text that is displayed when students answer wrong to the whole group.\"\n",
    "    },\n",
    "    \"passing_threshold\": 0.66\n",
    "    # Another option for additional_material:\n",
    "    # \"additional_material\": {\n",
    "    # \"type\": \"VIDEO\",\n",
    "    # \"body\": \"dQw4w9WgXcQ\"  # YouTube video ID\n",
    "    # }\n",
    "}\n",
    "\n",
    "display_package(questions)"
   ]
  }
 ],
 "metadata": {
  "kernelspec": {
   "display_name": ".venv",
   "language": "python",
   "name": "python3"
  },
  "language_info": {
   "codemirror_mode": {
    "name": "ipython",
    "version": 3
   },
   "file_extension": ".py",
   "mimetype": "text/x-python",
   "name": "python",
   "nbconvert_exporter": "python",
   "pygments_lexer": "ipython3",
   "version": "3.12.1"
  }
 },
 "nbformat": 4,
 "nbformat_minor": 2
}
