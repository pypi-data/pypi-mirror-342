{
 "cells": [
  {
   "cell_type": "code",
   "execution_count": 1,
   "metadata": {},
   "outputs": [],
   "source": [
    "from modland import generate_modland_grid"
   ]
  },
  {
   "cell_type": "code",
   "execution_count": 2,
   "metadata": {},
   "outputs": [
    {
     "data": {
      "text/plain": [
       "{\n",
       "  \"dimensions\": {\n",
       "    \"rows\": 1200,\n",
       "    \"cols\": 1200\n",
       "  },\n",
       "  \"bbox\": {\n",
       "    \"xmin\": -11119505.197665555,\n",
       "    \"ymin\": 3335851.5592996655,\n",
       "    \"xmax\": -10007554.677899,\n",
       "    \"ymax\": 4447802.079066221\n",
       "  },\n",
       "  \"crs\": \"+proj=sinu +lon_0=0 +x_0=0 +y_0=0 +R=6371007.181 +units=m +no_defs +type=crs\",\n",
       "  \"resolution\": {\n",
       "    \"cell_width\": 926.6254331387962,\n",
       "    \"cell_height\": -926.6254331387962\n",
       "  }\n",
       "}"
      ]
     },
     "execution_count": 2,
     "metadata": {},
     "output_type": "execute_result"
    }
   ],
   "source": [
    "generate_modland_grid(tile_size=1200, tile=\"h08v05\")"
   ]
  },
  {
   "cell_type": "code",
   "execution_count": 3,
   "metadata": {},
   "outputs": [
    {
     "data": {
      "text/plain": [
       "{\n",
       "  \"dimensions\": {\n",
       "    \"rows\": 1200,\n",
       "    \"cols\": 1200\n",
       "  },\n",
       "  \"bbox\": {\n",
       "    \"xmin\": -11119505.197665555,\n",
       "    \"ymin\": 3335851.5592996655,\n",
       "    \"xmax\": -10007554.677899,\n",
       "    \"ymax\": 4447802.079066221\n",
       "  },\n",
       "  \"crs\": \"+proj=sinu +lon_0=0 +x_0=0 +y_0=0 +R=6371007.181 +units=m +no_defs +type=crs\",\n",
       "  \"resolution\": {\n",
       "    \"cell_width\": 926.6254331387962,\n",
       "    \"cell_height\": -926.6254331387962\n",
       "  }\n",
       "}"
      ]
     },
     "execution_count": 3,
     "metadata": {},
     "output_type": "execute_result"
    }
   ],
   "source": [
    "generate_modland_grid(8, 5, 1200)"
   ]
  },
  {
   "cell_type": "code",
   "execution_count": null,
   "metadata": {},
   "outputs": [],
   "source": []
  }
 ],
 "metadata": {
  "kernelspec": {
   "display_name": "modland",
   "language": "python",
   "name": "python3"
  },
  "language_info": {
   "codemirror_mode": {
    "name": "ipython",
    "version": 3
   },
   "file_extension": ".py",
   "mimetype": "text/x-python",
   "name": "python",
   "nbconvert_exporter": "python",
   "pygments_lexer": "ipython3",
   "version": "3.11.10"
  }
 },
 "nbformat": 4,
 "nbformat_minor": 2
}
