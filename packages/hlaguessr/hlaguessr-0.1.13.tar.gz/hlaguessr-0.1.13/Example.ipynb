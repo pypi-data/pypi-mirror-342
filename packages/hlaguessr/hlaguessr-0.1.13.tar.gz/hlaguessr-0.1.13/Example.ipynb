{
 "cells": [
  {
   "cell_type": "code",
   "execution_count": 1,
   "id": "ec8ca799",
   "metadata": {},
   "outputs": [],
   "source": [
    "from HLAGuessr.processing import Processing\n",
    "from HLAGuessr.test_model import CrossValidation\n",
    "import os"
   ]
  },
  {
   "cell_type": "code",
   "execution_count": 2,
   "id": "09dacef7",
   "metadata": {},
   "outputs": [],
   "source": [
    "chain = ['alpha','beta']\n",
    "delimiter = '\\t'\n",
    "hla_threshold=1\n",
    "main_path = os.path.join(os.getcwd(),'HLAGuessr/')\n",
    "grouping = True\n",
    "untyped = False"
   ]
  },
  {
   "cell_type": "markdown",
   "id": "417c6145",
   "metadata": {},
   "source": [
    "#### Cross-validating classifier with typed dataset"
   ]
  },
  {
   "cell_type": "code",
   "execution_count": 3,
   "id": "105f8cec",
   "metadata": {},
   "outputs": [],
   "source": [
    "alpha_input = main_path + 'Example_validation_data/alpha_all_files.tsv.gz'\n",
    "beta_input = main_path + 'Example_validation_data/beta_all_files.tsv.gz'\n",
    "hla_input = main_path + 'Example_validation_data/HLA_grouped_patients.tsv'\n",
    "hla_target = 'A*02:01'\n",
    "solver = 'liblinear'\n",
    "penalty = 'l1'"
   ]
  },
  {
   "cell_type": "code",
   "execution_count": 4,
   "id": "12cb1f9d",
   "metadata": {},
   "outputs": [],
   "source": [
    "dm = Processing(chain,alpha_input,beta_input,delimiter,grouping)"
   ]
  },
  {
   "cell_type": "code",
   "execution_count": 6,
   "id": "3288ddd5",
   "metadata": {
    "scrolled": true
   },
   "outputs": [
    {
     "name": "stderr",
     "output_type": "stream",
     "text": [
      "100%|█████████████████████████████████████████| 22/22 [00:00<00:00, 1261.20it/s]\n",
      "100%|█████████████████████████████████████████| 21/21 [00:00<00:00, 1252.51it/s]\n",
      "100%|█████████████████████████████████████████| 21/21 [00:00<00:00, 1344.06it/s]\n",
      "100%|█████████████████████████████████████████| 21/21 [00:00<00:00, 1194.54it/s]\n",
      "100%|█████████████████████████████████████████| 21/21 [00:00<00:00, 1264.41it/s]\n",
      "100%|█████████████████████████████████████████| 21/21 [00:00<00:00, 1337.33it/s]\n",
      "100%|█████████████████████████████████████████| 21/21 [00:00<00:00, 2969.77it/s]\n",
      "100%|█████████████████████████████████████████| 21/21 [00:00<00:00, 3303.34it/s]\n",
      "8it [00:00, 101.72it/s]\n",
      "100%|█████████████████████████████████████████| 21/21 [00:00<00:00, 2544.06it/s]\n",
      "100%|█████████████████████████████████████████| 21/21 [00:00<00:00, 1262.37it/s]\n",
      "100%|█████████████████████████████████████████| 21/21 [00:00<00:00, 1116.44it/s]\n",
      "100%|██████████████████████████████████████████| 22/22 [00:00<00:00, 819.42it/s]\n",
      "100%|█████████████████████████████████████████| 21/21 [00:00<00:00, 1253.15it/s]\n",
      "100%|█████████████████████████████████████████| 21/21 [00:00<00:00, 1888.96it/s]\n",
      "100%|█████████████████████████████████████████| 21/21 [00:00<00:00, 2601.69it/s]\n",
      "100%|█████████████████████████████████████████| 21/21 [00:00<00:00, 2626.21it/s]\n",
      "8it [00:00, 161.78it/s]\n"
     ]
    },
    {
     "name": "stdout",
     "output_type": "stream",
     "text": [
      "Fitting 5 folds for each of 53 candidates, totalling 265 fits\n"
     ]
    }
   ],
   "source": [
    "cv = CrossValidation(hla_target,hla_input,chain,dm.ps,dm.data_test,grouping,hla_threshold,solver,penalty,untyped)"
   ]
  },
  {
   "cell_type": "code",
   "execution_count": 6,
   "id": "c3727fc6",
   "metadata": {},
   "outputs": [
    {
     "data": {
      "text/html": [
       "<div>\n",
       "<style scoped>\n",
       "    .dataframe tbody tr th:only-of-type {\n",
       "        vertical-align: middle;\n",
       "    }\n",
       "\n",
       "    .dataframe tbody tr th {\n",
       "        vertical-align: top;\n",
       "    }\n",
       "\n",
       "    .dataframe thead th {\n",
       "        text-align: right;\n",
       "    }\n",
       "</style>\n",
       "<table border=\"1\" class=\"dataframe\">\n",
       "  <thead>\n",
       "    <tr style=\"text-align: right;\">\n",
       "      <th></th>\n",
       "      <th>HLA</th>\n",
       "      <th>AUC</th>\n",
       "      <th>accuracy</th>\n",
       "      <th>precision</th>\n",
       "      <th>sensitivity</th>\n",
       "      <th>specificity</th>\n",
       "      <th>chain</th>\n",
       "    </tr>\n",
       "  </thead>\n",
       "  <tbody>\n",
       "    <tr>\n",
       "      <th>0</th>\n",
       "      <td>A*02:01</td>\n",
       "      <td>0.982143</td>\n",
       "      <td>0.869565</td>\n",
       "      <td>0.772727</td>\n",
       "      <td>0.944444</td>\n",
       "      <td>0.821429</td>\n",
       "      <td>alpha+beta</td>\n",
       "    </tr>\n",
       "  </tbody>\n",
       "</table>\n",
       "</div>"
      ],
      "text/plain": [
       "       HLA       AUC  accuracy  precision  sensitivity  specificity  \\\n",
       "0  A*02:01  0.982143  0.869565   0.772727     0.944444     0.821429   \n",
       "\n",
       "        chain  \n",
       "0  alpha+beta  "
      ]
     },
     "execution_count": 6,
     "metadata": {},
     "output_type": "execute_result"
    }
   ],
   "source": [
    "cv.df_summary"
   ]
  },
  {
   "cell_type": "markdown",
   "id": "c28c149a",
   "metadata": {},
   "source": [
    "#### Type individual from input repertoire"
   ]
  },
  {
   "cell_type": "code",
   "execution_count": 3,
   "id": "f0bbede3",
   "metadata": {},
   "outputs": [],
   "source": [
    "from HLAGuessr.load_model import PreprocessedModel\n",
    "from HLAGuessr.evaluate_data import GetProbabilities\n",
    "import HLAGuessr.model_tools as mt\n",
    "import pandas as pd, numpy as np"
   ]
  },
  {
   "cell_type": "code",
   "execution_count": 4,
   "id": "6e9e41fc",
   "metadata": {},
   "outputs": [],
   "source": [
    "alpha_input = main_path + 'Example_validation_data/alpha_example.tsv'\n",
    "alpha_input = None\n",
    "beta_input = main_path + 'Example_validation_data/beta_example.tsv'\n",
    "grouping = False\n",
    "untyped = True"
   ]
  },
  {
   "cell_type": "code",
   "execution_count": 5,
   "id": "3297992b",
   "metadata": {},
   "outputs": [],
   "source": [
    "dm = Processing(chain,alpha_input,beta_input,delimiter,grouping)"
   ]
  },
  {
   "cell_type": "code",
   "execution_count": 6,
   "id": "24d8ac6e",
   "metadata": {},
   "outputs": [],
   "source": [
    "f_params = main_path + 'Training_data/classifier_params_alpha+beta.tsv'\n",
    "df_param = pd.read_csv(f_params,delimiter='\\t')\n",
    "hla_set = list(df_param['HLA'])"
   ]
  },
  {
   "cell_type": "code",
   "execution_count": 7,
   "id": "1eda3615",
   "metadata": {},
   "outputs": [],
   "source": [
    "hla_target = 'A*02:01'\n",
    "df1 = df_param.loc[df_param['HLA']==hla_target,:]\n",
    "auc = float(df1['AUC'].iloc[0])    "
   ]
  },
  {
   "cell_type": "code",
   "execution_count": 8,
   "id": "e329fc9e",
   "metadata": {},
   "outputs": [
    {
     "data": {
      "text/plain": [
       "0.9782608695652176"
      ]
     },
     "execution_count": 8,
     "metadata": {},
     "output_type": "execute_result"
    }
   ],
   "source": [
    "auc"
   ]
  },
  {
   "cell_type": "code",
   "execution_count": 13,
   "id": "111cacf7",
   "metadata": {
    "scrolled": true
   },
   "outputs": [
    {
     "name": "stdout",
     "output_type": "stream",
     "text": [
      "['17_B']\n",
      "Individual 17_B:\n"
     ]
    },
    {
     "name": "stderr",
     "output_type": "stream",
     "text": [
      "100%|█████████████████████████████████████████| 14/14 [00:00<00:00, 2298.88it/s]\n",
      "\n",
      "100%|█████████████████████████████████████████| 13/13 [00:00<00:00, 2318.18it/s]\n",
      "\n",
      "100%|█████████████████████████████████████████| 14/14 [00:00<00:00, 2664.98it/s]\n",
      "\n",
      "100%|█████████████████████████████████████████| 14/14 [00:00<00:00, 2976.04it/s]\n",
      "100%|█████████████████████████████████████████| 14/14 [00:00<00:00, 2546.85it/s]\n",
      "8it [00:00, 189.21it/s]\n",
      "100%|█████████████████████████████████████████| 14/14 [00:00<00:00, 1130.00it/s]\n",
      "100%|██████████████████████████████████████████| 14/14 [00:00<00:00, 691.09it/s]\n",
      "100%|██████████████████████████████████████████| 14/14 [00:00<00:00, 741.06it/s]\n",
      "100%|██████████████████████████████████████████| 13/13 [00:00<00:00, 980.70it/s]\n",
      "100%|██████████████████████████████████████████| 14/14 [00:00<00:00, 772.40it/s]\n",
      "100%|██████████████████████████████████████████| 14/14 [00:00<00:00, 961.27it/s]\n",
      "100%|██████████████████████████████████████████| 14/14 [00:00<00:00, 988.72it/s]\n",
      "100%|█████████████████████████████████████████| 14/14 [00:00<00:00, 1000.99it/s]\n",
      "8it [00:00, 150.03it/s]\n"
     ]
    },
    {
     "name": "stdout",
     "output_type": "stream",
     "text": [
      "Fitting 5 folds for each of 53 candidates, totalling 265 fits\n",
      "A*01:01  -> Probability: 0.9999998876926364\t Final_classification: True\t AUC: 1.0\t Accuracy: 0.8536585365853658\t Precision: 0.625\t Sensitivity: 1.0\t Specificity: 0.8064516129032258\n"
     ]
    },
    {
     "name": "stderr",
     "output_type": "stream",
     "text": [
      "100%|████████████████████████████████████████████| 5/5 [00:00<00:00, 256.52it/s]\n",
      "100%|████████████████████████████████████████████| 6/6 [00:00<00:00, 324.72it/s]\n",
      "100%|████████████████████████████████████████████| 5/5 [00:00<00:00, 335.15it/s]\n",
      "100%|████████████████████████████████████████████| 5/5 [00:00<00:00, 352.97it/s]\n",
      "100%|████████████████████████████████████████████| 5/5 [00:00<00:00, 228.02it/s]\n",
      "100%|████████████████████████████████████████████| 5/5 [00:00<00:00, 325.00it/s]\n",
      "100%|████████████████████████████████████████████| 5/5 [00:00<00:00, 335.81it/s]\n",
      "100%|████████████████████████████████████████████| 5/5 [00:00<00:00, 348.56it/s]\n",
      "8it [00:00, 194.67it/s]\n",
      "100%|███████████████████████████████████████████| 5/5 [00:00<00:00, 1413.75it/s]\n",
      "100%|████████████████████████████████████████████| 6/6 [00:00<00:00, 403.50it/s]\n",
      "100%|████████████████████████████████████████████| 5/5 [00:00<00:00, 368.13it/s]\n",
      "100%|████████████████████████████████████████████| 5/5 [00:00<00:00, 295.09it/s]\n",
      "100%|████████████████████████████████████████████| 5/5 [00:00<00:00, 368.55it/s]\n",
      "100%|████████████████████████████████████████████| 5/5 [00:00<00:00, 517.52it/s]\n",
      "100%|████████████████████████████████████████████| 5/5 [00:00<00:00, 545.48it/s]\n",
      "100%|████████████████████████████████████████████| 5/5 [00:00<00:00, 551.49it/s]\n",
      "8it [00:00, 184.65it/s]\n"
     ]
    },
    {
     "name": "stdout",
     "output_type": "stream",
     "text": [
      "Fitting 5 folds for each of 53 candidates, totalling 265 fits\n",
      "A*02:01  -> Probability: 0.9999999999999918\t Final_classification: True\t AUC: 0.9782608695652176\t Accuracy: 0.8536585365853658\t Precision: 0.7727272727272727\t Sensitivity: 0.9444444444444444\t Specificity: 0.782608695652174\n"
     ]
    },
    {
     "name": "stderr",
     "output_type": "stream",
     "text": [
      "100%|████████████████████████████████████████████| 1/1 [00:00<00:00, 519.74it/s]\n",
      "100%|████████████████████████████████████████████| 1/1 [00:00<00:00, 100.27it/s]\n",
      "100%|█████████████████████████████████████████████| 1/1 [00:00<00:00, 45.59it/s]\n",
      "100%|█████████████████████████████████████████████| 1/1 [00:00<00:00, 59.17it/s]\n",
      "100%|████████████████████████████████████████████| 1/1 [00:00<00:00, 106.06it/s]\n",
      "0it [00:00, ?it/s]\n",
      "100%|████████████████████████████████████████████| 1/1 [00:00<00:00, 169.13it/s]\n",
      "0it [00:00, ?it/s]\n",
      "8it [00:00, 279.80it/s]\n",
      "100%|████████████████████████████████████████████| 1/1 [00:00<00:00, 355.51it/s]\n",
      "100%|█████████████████████████████████████████████| 1/1 [00:00<00:00, 62.67it/s]\n",
      "100%|█████████████████████████████████████████████| 1/1 [00:00<00:00, 63.94it/s]\n",
      "100%|█████████████████████████████████████████████| 1/1 [00:00<00:00, 67.70it/s]\n",
      "100%|█████████████████████████████████████████████| 1/1 [00:00<00:00, 71.64it/s]\n",
      "0it [00:00, ?it/s]\n",
      "0it [00:00, ?it/s]\n",
      "100%|█████████████████████████████████████████████| 1/1 [00:00<00:00, 81.46it/s]\n",
      "8it [00:00, 212.82it/s]\n"
     ]
    },
    {
     "name": "stdout",
     "output_type": "stream",
     "text": [
      "Fitting 5 folds for each of 53 candidates, totalling 265 fits\n",
      "A*03:01  -> Probability: 0.9452836843789363\t Final_classification: True\t AUC: 0.9243697478991596\t Accuracy: 0.7073170731707317\t Precision: 0.3529411764705882\t Sensitivity: 0.8571428571428571\t Specificity: 0.6764705882352942\n",
      "No HLA-related TCRs have been found in your repertoire\n",
      "A*11:01  -> Probability: N/A\t Final_classification: False\t AUC: 0.5\t Accuracy: 1\t Precision: 0\t Sensitivity: 0\t Specificity: 1\n",
      "No HLA-related TCRs have been found in your repertoire\n",
      "A*23:01  -> Probability: N/A\t Final_classification: False\t AUC: 0.5\t Accuracy: 1\t Precision: 0\t Sensitivity: 0\t Specificity: 1\n"
     ]
    },
    {
     "name": "stderr",
     "output_type": "stream",
     "text": [
      "0it [00:00, ?it/s]                                        | 0/1 [00:00<?, ?it/s]\n",
      "100%|█████████████████████████████████████████████| 1/1 [00:00<00:00, 76.58it/s]\n",
      "0it [00:00, ?it/s]                                        | 0/1 [00:00<?, ?it/s]\n",
      "0it [00:00, ?it/s]\n",
      "100%|█████████████████████████████████████████████| 1/1 [00:00<00:00, 43.40it/s]\n",
      "0it [00:00, ?it/s]\n",
      "100%|████████████████████████████████████████████| 1/1 [00:00<00:00, 103.71it/s]\n",
      "0it [00:00, ?it/s]\n",
      "8it [00:00, 224.86it/s]\n",
      "100%|████████████████████████████████████████████| 1/1 [00:00<00:00, 126.35it/s]\n",
      "100%|█████████████████████████████████████████████| 1/1 [00:00<00:00, 79.67it/s]\n",
      "0it [00:00, ?it/s]\n",
      "0it [00:00, ?it/s]\n",
      "0it [00:00, ?it/s]\n",
      "100%|█████████████████████████████████████████████| 1/1 [00:00<00:00, 45.93it/s]\n",
      "0it [00:00, ?it/s]\n",
      "0it [00:00, ?it/s]\n",
      "8it [00:00, 211.23it/s]\n"
     ]
    },
    {
     "name": "stdout",
     "output_type": "stream",
     "text": [
      "Fitting 5 folds for each of 53 candidates, totalling 265 fits\n",
      "A*24:02  -> Probability: 0.014054839704369914\t Final_classification: False\t AUC: 0.9915966386554622\t Accuracy: 0.975609756097561\t Precision: 1.0\t Sensitivity: 0.8571428571428571\t Specificity: 1.0\n",
      "No HLA-related TCRs have been found in your repertoire\n",
      "A*25:01  -> Probability: N/A\t Final_classification: False\t AUC: 0.5\t Accuracy: 1\t Precision: 0\t Sensitivity: 0\t Specificity: 1\n"
     ]
    },
    {
     "name": "stderr",
     "output_type": "stream",
     "text": [
      "0it [00:00, ?it/s]\n",
      "0it [00:00, ?it/s]                                        | 0/1 [00:00<?, ?it/s]\n",
      "0it [00:00, ?it/s]\n",
      "100%|█████████████████████████████████████████████| 1/1 [00:00<00:00, 72.71it/s]\n",
      "0it [00:00, ?it/s]\n",
      "0it [00:00, ?it/s]\n",
      "0it [00:00, ?it/s]\n",
      "0it [00:00, ?it/s]\n",
      "8it [00:00, 202.94it/s]\n",
      "0it [00:00, ?it/s]                                        | 0/1 [00:00<?, ?it/s]\n",
      "0it [00:00, ?it/s]\n",
      "0it [00:00, ?it/s]\n",
      "100%|█████████████████████████████████████████████| 1/1 [00:00<00:00, 39.57it/s]\n",
      "0it [00:00, ?it/s]\n",
      "0it [00:00, ?it/s]\n",
      "0it [00:00, ?it/s]\n",
      "0it [00:00, ?it/s]\n",
      "8it [00:00, 229.76it/s]\n"
     ]
    },
    {
     "name": "stdout",
     "output_type": "stream",
     "text": [
      "Fitting 5 folds for each of 53 candidates, totalling 265 fits\n",
      "A*26:01  -> Probability: 0.32686743545794483\t Final_classification: False\t AUC: 0.9649122807017544\t Accuracy: 0.951219512195122\t Precision: 0.6\t Sensitivity: 1.0\t Specificity: 0.9473684210526316\n"
     ]
    },
    {
     "name": "stderr",
     "output_type": "stream",
     "text": [
      "0it [00:00, ?it/s]                                        | 0/1 [00:00<?, ?it/s]\n",
      "100%|█████████████████████████████████████████████| 1/1 [00:00<00:00, 85.48it/s]\n",
      "0it [00:00, ?it/s]\n",
      "0it [00:00, ?it/s]\n",
      "0it [00:00, ?it/s]\n",
      "0it [00:00, ?it/s]\n",
      "0it [00:00, ?it/s]\n",
      "0it [00:00, ?it/s]\n",
      "8it [00:00, 246.16it/s]\n",
      "100%|█████████████████████████████████████████████| 1/1 [00:00<00:00, 58.73it/s]\n",
      "0it [00:00, ?it/s]\n",
      "0it [00:00, ?it/s]\n",
      "0it [00:00, ?it/s]\n",
      "0it [00:00, ?it/s]\n",
      "0it [00:00, ?it/s]\n",
      "0it [00:00, ?it/s]\n",
      "0it [00:00, ?it/s]\n",
      "8it [00:00, 234.00it/s]\n"
     ]
    },
    {
     "name": "stdout",
     "output_type": "stream",
     "text": [
      "Fitting 5 folds for each of 53 candidates, totalling 265 fits\n",
      "A*29:02  -> Probability: 0.1952149765127801\t Final_classification: False\t AUC: 1.0\t Accuracy: 0.926829268292683\t Precision: 0.5714285714285714\t Sensitivity: 1.0\t Specificity: 0.918918918918919\n",
      "No HLA-related TCRs have been found in your repertoire\n",
      "A*31:01  -> Probability: N/A\t Final_classification: False\t AUC: 0.5\t Accuracy: 1\t Precision: 0\t Sensitivity: 0\t Specificity: 1\n",
      "No HLA-related TCRs have been found in your repertoire\n",
      "A*32:01  -> Probability: N/A\t Final_classification: False\t AUC: 0.5\t Accuracy: 1\t Precision: 0\t Sensitivity: 0\t Specificity: 1\n",
      "No HLA-related TCRs have been found in your repertoire\n",
      "A*33:01  -> Probability: N/A\t Final_classification: False\t AUC: 0.5\t Accuracy: 1\t Precision: 0\t Sensitivity: 0\t Specificity: 1\n",
      "No HLA-related TCRs have been found in your repertoire\n",
      "A*34:01  -> Probability: N/A\t Final_classification: False\t AUC: 0.5\t Accuracy: 1\t Precision: 0\t Sensitivity: 0\t Specificity: 1\n",
      "No HLA-related TCRs have been found in your repertoire\n",
      "A*68:01  -> Probability: N/A\t Final_classification: False\t AUC: 0.5\t Accuracy: 1\t Precision: 0\t Sensitivity: 0\t Specificity: 1\n",
      "No HLA-related TCRs have been found in your repertoire\n",
      "A*68:02  -> Probability: N/A\t Final_classification: False\t AUC: 0.5\t Accuracy: 1\t Precision: 0\t Sensitivity: 0\t Specificity: 1\n"
     ]
    },
    {
     "name": "stderr",
     "output_type": "stream",
     "text": [
      "100%|██████████████████████████████████████████| 19/19 [00:00<00:00, 859.87it/s]\n",
      "100%|██████████████████████████████████████████| 19/19 [00:00<00:00, 889.16it/s]\n",
      "100%|█████████████████████████████████████████| 19/19 [00:00<00:00, 1028.44it/s]\n",
      "100%|█████████████████████████████████████████| 18/18 [00:00<00:00, 1023.90it/s]\n",
      "100%|█████████████████████████████████████████| 18/18 [00:00<00:00, 1070.86it/s]\n",
      "100%|█████████████████████████████████████████| 18/18 [00:00<00:00, 1126.21it/s]\n",
      "100%|█████████████████████████████████████████| 18/18 [00:00<00:00, 1177.05it/s]\n",
      "100%|█████████████████████████████████████████| 18/18 [00:00<00:00, 1233.50it/s]\n",
      "8it [00:00, 225.98it/s]\n",
      "100%|█████████████████████████████████████████| 19/19 [00:00<00:00, 1778.24it/s]\n",
      "100%|██████████████████████████████████████████| 19/19 [00:00<00:00, 918.23it/s]\n",
      "100%|█████████████████████████████████████████| 18/18 [00:00<00:00, 1277.76it/s]\n",
      "100%|█████████████████████████████████████████| 19/19 [00:00<00:00, 1017.36it/s]\n",
      "100%|█████████████████████████████████████████| 18/18 [00:00<00:00, 1120.27it/s]\n",
      "100%|█████████████████████████████████████████| 18/18 [00:00<00:00, 1162.32it/s]\n",
      "100%|█████████████████████████████████████████| 18/18 [00:00<00:00, 1426.66it/s]\n",
      "100%|█████████████████████████████████████████| 18/18 [00:00<00:00, 1497.94it/s]\n",
      "8it [00:00, 202.81it/s]\n"
     ]
    },
    {
     "name": "stdout",
     "output_type": "stream",
     "text": [
      "Fitting 5 folds for each of 53 candidates, totalling 265 fits\n",
      "B*07:02  -> Probability: 0.9997985794065138\t Final_classification: True\t AUC: 1.0\t Accuracy: 0.926829268292683\t Precision: 0.7692307692307693\t Sensitivity: 1.0\t Specificity: 0.9032258064516128\n"
     ]
    },
    {
     "name": "stderr",
     "output_type": "stream",
     "text": [
      "100%|█████████████████████████████████████████| 39/39 [00:00<00:00, 2260.02it/s]\n",
      "100%|█████████████████████████████████████████| 40/40 [00:00<00:00, 1717.29it/s]\n",
      "100%|█████████████████████████████████████████| 40/40 [00:00<00:00, 1949.37it/s]\n",
      "100%|█████████████████████████████████████████| 39/39 [00:00<00:00, 2302.19it/s]\n",
      "100%|█████████████████████████████████████████| 39/39 [00:00<00:00, 1844.56it/s]\n",
      "100%|█████████████████████████████████████████| 39/39 [00:00<00:00, 2634.15it/s]\n",
      "100%|█████████████████████████████████████████| 39/39 [00:00<00:00, 2021.33it/s]\n",
      "100%|█████████████████████████████████████████| 39/39 [00:00<00:00, 2460.67it/s]\n",
      "8it [00:00, 183.53it/s]\n",
      "100%|█████████████████████████████████████████| 39/39 [00:00<00:00, 2195.35it/s]\n",
      "100%|█████████████████████████████████████████| 40/40 [00:00<00:00, 1680.43it/s]\n",
      "100%|█████████████████████████████████████████| 40/40 [00:00<00:00, 1925.47it/s]\n",
      "100%|█████████████████████████████████████████| 39/39 [00:00<00:00, 1732.05it/s]\n",
      "100%|█████████████████████████████████████████| 39/39 [00:00<00:00, 1842.74it/s]\n",
      "100%|█████████████████████████████████████████| 39/39 [00:00<00:00, 2068.09it/s]\n",
      "100%|█████████████████████████████████████████| 39/39 [00:00<00:00, 2167.43it/s]\n",
      "100%|█████████████████████████████████████████| 39/39 [00:00<00:00, 2416.43it/s]\n",
      "8it [00:00, 137.28it/s]\n"
     ]
    },
    {
     "name": "stdout",
     "output_type": "stream",
     "text": [
      "Fitting 5 folds for each of 53 candidates, totalling 265 fits\n",
      "B*08:01  -> Probability: 0.9999930964972094\t Final_classification: True\t AUC: 1.0\t Accuracy: 0.902439024390244\t Precision: 0.6\t Sensitivity: 1.0\t Specificity: 0.8857142857142857\n",
      "No HLA-related TCRs have been found in your repertoire\n",
      "B*14:01  -> Probability: N/A\t Final_classification: False\t AUC: 0.5\t Accuracy: 1\t Precision: 0\t Sensitivity: 0\t Specificity: 1\n"
     ]
    },
    {
     "name": "stderr",
     "output_type": "stream",
     "text": [
      "100%|████████████████████████████████████████████| 1/1 [00:00<00:00, 125.62it/s]\n",
      "100%|█████████████████████████████████████████████| 1/1 [00:00<00:00, 95.80it/s]\n",
      "0it [00:00, ?it/s]\n",
      "0it [00:00, ?it/s]\n",
      "0it [00:00, ?it/s]\n",
      "0it [00:00, ?it/s]\n",
      "0it [00:00, ?it/s]\n",
      "0it [00:00, ?it/s]\n",
      "8it [00:00, 250.93it/s]\n",
      "100%|█████████████████████████████████████████████| 1/1 [00:00<00:00, 65.86it/s]\n",
      "100%|█████████████████████████████████████████████| 1/1 [00:00<00:00, 66.21it/s]\n",
      "0it [00:00, ?it/s]\n",
      "0it [00:00, ?it/s]\n",
      "0it [00:00, ?it/s]\n",
      "0it [00:00, ?it/s]\n",
      "0it [00:00, ?it/s]\n",
      "0it [00:00, ?it/s]\n",
      "8it [00:00, 213.20it/s]\n"
     ]
    },
    {
     "name": "stdout",
     "output_type": "stream",
     "text": [
      "Fitting 5 folds for each of 53 candidates, totalling 265 fits\n",
      "B*14:02  -> Probability: 0.008932810333172793\t Final_classification: False\t AUC: 1.0\t Accuracy: 0.975609756097561\t Precision: 0.5\t Sensitivity: 1.0\t Specificity: 0.975\n"
     ]
    },
    {
     "name": "stderr",
     "output_type": "stream",
     "text": [
      "100%|████████████████████████████████████████████| 1/1 [00:00<00:00, 177.15it/s]\n",
      "100%|█████████████████████████████████████████████| 1/1 [00:00<00:00, 80.53it/s]\n",
      "100%|█████████████████████████████████████████████| 1/1 [00:00<00:00, 48.74it/s]\n",
      "0it [00:00, ?it/s]\n",
      "100%|█████████████████████████████████████████████| 1/1 [00:00<00:00, 96.10it/s]\n",
      "100%|████████████████████████████████████████████| 1/1 [00:00<00:00, 100.58it/s]\n",
      "0it [00:00, ?it/s]\n",
      "100%|█████████████████████████████████████████████| 1/1 [00:00<00:00, 54.90it/s]\n",
      "8it [00:00, 221.44it/s]\n",
      "100%|████████████████████████████████████████████| 1/1 [00:00<00:00, 163.64it/s]\n",
      "100%|█████████████████████████████████████████████| 1/1 [00:00<00:00, 77.24it/s]\n",
      "0it [00:00, ?it/s]                                        | 0/1 [00:00<?, ?it/s]\n",
      "100%|█████████████████████████████████████████████| 1/1 [00:00<00:00, 58.60it/s]\n",
      "100%|█████████████████████████████████████████████| 1/1 [00:00<00:00, 63.43it/s]\n",
      "100%|█████████████████████████████████████████████| 1/1 [00:00<00:00, 77.24it/s]\n",
      "100%|████████████████████████████████████████████| 1/1 [00:00<00:00, 100.63it/s]\n",
      "0it [00:00, ?it/s]\n",
      "8it [00:00, 202.65it/s]\n"
     ]
    },
    {
     "name": "stdout",
     "output_type": "stream",
     "text": [
      "Fitting 5 folds for each of 53 candidates, totalling 265 fits\n",
      "B*15:01  -> Probability: 0.0028710720609269507\t Final_classification: False\t AUC: 1.0\t Accuracy: 0.902439024390244\t Precision: 0.2\t Sensitivity: 1.0\t Specificity: 0.9\n"
     ]
    },
    {
     "name": "stderr",
     "output_type": "stream",
     "text": [
      "100%|████████████████████████████████████████████| 1/1 [00:00<00:00, 195.18it/s]\n",
      "0it [00:00, ?it/s]\n",
      "0it [00:00, ?it/s]\n",
      "0it [00:00, ?it/s]\n",
      "0it [00:00, ?it/s]\n",
      "0it [00:00, ?it/s]\n",
      "0it [00:00, ?it/s]\n",
      "0it [00:00, ?it/s]\n",
      "8it [00:00, 211.43it/s]\n",
      "0it [00:00, ?it/s]                                        | 0/1 [00:00<?, ?it/s]\n",
      "100%|████████████████████████████████████████████| 1/1 [00:00<00:00, 106.13it/s]\n",
      "0it [00:00, ?it/s]\n",
      "0it [00:00, ?it/s]\n",
      "0it [00:00, ?it/s]\n",
      "0it [00:00, ?it/s]\n",
      "0it [00:00, ?it/s]\n",
      "0it [00:00, ?it/s]\n",
      "8it [00:00, 220.65it/s]\n"
     ]
    },
    {
     "name": "stdout",
     "output_type": "stream",
     "text": [
      "Fitting 5 folds for each of 53 candidates, totalling 265 fits\n",
      "B*18:01  -> Probability: 0.0015899452325744765\t Final_classification: False\t AUC: 1.0\t Accuracy: 0.8780487804878049\t Precision: 0.2857142857142857\t Sensitivity: 1.0\t Specificity: 0.8717948717948718\n"
     ]
    },
    {
     "name": "stderr",
     "output_type": "stream",
     "text": [
      "0it [00:00, ?it/s]                                        | 0/1 [00:00<?, ?it/s]\n",
      "100%|█████████████████████████████████████████████| 1/1 [00:00<00:00, 55.87it/s]\n",
      "0it [00:00, ?it/s]\n",
      "0it [00:00, ?it/s]\n",
      "0it [00:00, ?it/s]\n",
      "0it [00:00, ?it/s]\n",
      "0it [00:00, ?it/s]\n",
      "0it [00:00, ?it/s]\n",
      "8it [00:00, 199.92it/s]\n",
      "0it [00:00, ?it/s]                                        | 0/1 [00:00<?, ?it/s]\n",
      "100%|████████████████████████████████████████████| 1/1 [00:00<00:00, 111.14it/s]\n",
      "0it [00:00, ?it/s]\n",
      "0it [00:00, ?it/s]\n",
      "0it [00:00, ?it/s]\n",
      "0it [00:00, ?it/s]\n",
      "0it [00:00, ?it/s]\n",
      "0it [00:00, ?it/s]\n",
      "8it [00:00, 253.00it/s]\n"
     ]
    },
    {
     "name": "stdout",
     "output_type": "stream",
     "text": [
      "Fitting 5 folds for each of 53 candidates, totalling 265 fits\n",
      "B*27:05  -> Probability: 0.008192803354953428\t Final_classification: False\t AUC: 0.9871794871794872\t Accuracy: 0.951219512195122\t Precision: 0.5\t Sensitivity: 1.0\t Specificity: 0.9487179487179488\n"
     ]
    },
    {
     "name": "stderr",
     "output_type": "stream",
     "text": [
      "100%|████████████████████████████████████████████| 1/1 [00:00<00:00, 171.63it/s]\n",
      "0it [00:00, ?it/s]\n",
      "100%|█████████████████████████████████████████████| 1/1 [00:00<00:00, 50.89it/s]\n",
      "0it [00:00, ?it/s]\n",
      "0it [00:00, ?it/s]\n",
      "0it [00:00, ?it/s]\n",
      "0it [00:00, ?it/s]\n",
      "0it [00:00, ?it/s]\n",
      "8it [00:00, 228.59it/s]\n",
      "0it [00:00, ?it/s]                                        | 0/1 [00:00<?, ?it/s]\n",
      "100%|█████████████████████████████████████████████| 1/1 [00:00<00:00, 79.32it/s]\n",
      "0it [00:00, ?it/s]\n",
      "0it [00:00, ?it/s]\n",
      "100%|█████████████████████████████████████████████| 1/1 [00:00<00:00, 66.03it/s]\n",
      "0it [00:00, ?it/s]\n",
      "0it [00:00, ?it/s]\n",
      "0it [00:00, ?it/s]\n",
      "8it [00:00, 214.43it/s]\n"
     ]
    },
    {
     "name": "stdout",
     "output_type": "stream",
     "text": [
      "Fitting 5 folds for each of 53 candidates, totalling 265 fits\n",
      "B*35:01  -> Probability: 0.021024284033880267\t Final_classification: False\t AUC: 1.0\t Accuracy: 1.0\t Precision: 1.0\t Sensitivity: 1.0\t Specificity: 1.0\n",
      "No HLA-related TCRs have been found in your repertoire\n",
      "B*35:02  -> Probability: N/A\t Final_classification: False\t AUC: 0.5\t Accuracy: 1\t Precision: 0\t Sensitivity: 0\t Specificity: 1\n"
     ]
    },
    {
     "name": "stderr",
     "output_type": "stream",
     "text": [
      "100%|█████████████████████████████████████████████| 1/1 [00:00<00:00, 59.69it/s]\n",
      "0it [00:00, ?it/s]\n",
      "0it [00:00, ?it/s]\n",
      "0it [00:00, ?it/s]\n",
      "0it [00:00, ?it/s]\n",
      "100%|█████████████████████████████████████████████| 1/1 [00:00<00:00, 46.40it/s]\n",
      "0it [00:00, ?it/s]\n",
      "0it [00:00, ?it/s]\n",
      "8it [00:00, 223.34it/s]\n",
      "100%|█████████████████████████████████████████████| 1/1 [00:00<00:00, 95.20it/s]\n",
      "100%|█████████████████████████████████████████████| 1/1 [00:00<00:00, 59.24it/s]\n",
      "0it [00:00, ?it/s]\n",
      "0it [00:00, ?it/s]\n",
      "0it [00:00, ?it/s]\n",
      "0it [00:00, ?it/s]\n",
      "0it [00:00, ?it/s]\n",
      "0it [00:00, ?it/s]\n",
      "8it [00:00, 225.72it/s]\n"
     ]
    },
    {
     "name": "stdout",
     "output_type": "stream",
     "text": [
      "Fitting 5 folds for each of 53 candidates, totalling 265 fits\n",
      "B*35:03  -> Probability: 0.500562588523897\t Final_classification: False\t AUC: 1.0\t Accuracy: 0.926829268292683\t Precision: 0.4\t Sensitivity: 1.0\t Specificity: 0.9230769230769232\n",
      "No HLA-related TCRs have been found in your repertoire\n",
      "B*37:01  -> Probability: N/A\t Final_classification: False\t AUC: 0.5\t Accuracy: 1\t Precision: 0\t Sensitivity: 0\t Specificity: 1\n",
      "No HLA-related TCRs have been found in your repertoire\n",
      "B*38:01  -> Probability: N/A\t Final_classification: False\t AUC: 0.5\t Accuracy: 1\t Precision: 0\t Sensitivity: 0\t Specificity: 1\n",
      "No HLA-related TCRs have been found in your repertoire\n",
      "B*39:01  -> Probability: N/A\t Final_classification: False\t AUC: 0.5\t Accuracy: 1\t Precision: 0\t Sensitivity: 0\t Specificity: 1\n"
     ]
    },
    {
     "name": "stderr",
     "output_type": "stream",
     "text": [
      "100%|████████████████████████████████████████████| 1/1 [00:00<00:00, 179.32it/s]\n",
      "0it [00:00, ?it/s]\n",
      "0it [00:00, ?it/s]\n",
      "0it [00:00, ?it/s]\n",
      "0it [00:00, ?it/s]\n",
      "0it [00:00, ?it/s]\n",
      "0it [00:00, ?it/s]\n",
      "0it [00:00, ?it/s]\n",
      "8it [00:00, 201.35it/s]\n",
      "0it [00:00, ?it/s]                                        | 0/1 [00:00<?, ?it/s]\n",
      "100%|█████████████████████████████████████████████| 1/1 [00:00<00:00, 70.70it/s]\n",
      "0it [00:00, ?it/s]\n",
      "0it [00:00, ?it/s]\n",
      "0it [00:00, ?it/s]\n",
      "0it [00:00, ?it/s]\n",
      "0it [00:00, ?it/s]\n",
      "0it [00:00, ?it/s]\n",
      "8it [00:00, 231.52it/s]\n"
     ]
    },
    {
     "name": "stdout",
     "output_type": "stream",
     "text": [
      "Fitting 5 folds for each of 53 candidates, totalling 265 fits\n",
      "B*40:01  -> Probability: 0.0028791984067055225\t Final_classification: False\t AUC: 0.9871794871794872\t Accuracy: 0.902439024390244\t Precision: 0.3333333333333333\t Sensitivity: 1.0\t Specificity: 0.8974358974358975\n",
      "No HLA-related TCRs have been found in your repertoire\n",
      "B*40:02  -> Probability: N/A\t Final_classification: False\t AUC: 0.5\t Accuracy: 1\t Precision: 0\t Sensitivity: 0\t Specificity: 1\n"
     ]
    },
    {
     "name": "stderr",
     "output_type": "stream",
     "text": [
      "0it [00:00, ?it/s]                                        | 0/1 [00:00<?, ?it/s]\n",
      "100%|█████████████████████████████████████████████| 1/1 [00:00<00:00, 49.71it/s]\n",
      "100%|█████████████████████████████████████████████| 1/1 [00:00<00:00, 51.55it/s]\n",
      "0it [00:00, ?it/s]\n",
      "100%|█████████████████████████████████████████████| 1/1 [00:00<00:00, 54.51it/s]\n",
      "100%|█████████████████████████████████████████████| 1/1 [00:00<00:00, 58.00it/s]\n",
      "100%|█████████████████████████████████████████████| 1/1 [00:00<00:00, 29.31it/s]\n",
      "100%|█████████████████████████████████████████████| 1/1 [00:00<00:00, 63.13it/s]\n",
      "8it [00:00, 447.40it/s]\n",
      "100%|████████████████████████████████████████████| 1/1 [00:00<00:00, 340.34it/s]\n",
      "100%|█████████████████████████████████████████████| 1/1 [00:00<00:00, 74.70it/s]\n",
      "0it [00:00, ?it/s]\n",
      "100%|█████████████████████████████████████████████| 1/1 [00:00<00:00, 59.19it/s]\n",
      "100%|█████████████████████████████████████████████| 1/1 [00:00<00:00, 61.23it/s]\n",
      "100%|█████████████████████████████████████████████| 1/1 [00:00<00:00, 64.44it/s]\n",
      "100%|█████████████████████████████████████████████| 1/1 [00:00<00:00, 84.45it/s]\n",
      "0it [00:00, ?it/s]\n",
      "8it [00:00, 217.57it/s]\n"
     ]
    },
    {
     "name": "stdout",
     "output_type": "stream",
     "text": [
      "Fitting 5 folds for each of 53 candidates, totalling 265 fits\n",
      "B*44:02  -> Probability: 0.015170015768591592\t Final_classification: False\t AUC: 0.9722222222222222\t Accuracy: 0.902439024390244\t Precision: 0.5714285714285714\t Sensitivity: 0.8\t Specificity: 0.9166666666666666\n"
     ]
    },
    {
     "name": "stderr",
     "output_type": "stream",
     "text": [
      "0it [00:00, ?it/s]                                        | 0/1 [00:00<?, ?it/s]\n",
      "100%|█████████████████████████████████████████████| 1/1 [00:00<00:00, 57.45it/s]\n",
      "0it [00:00, ?it/s]\n",
      "0it [00:00, ?it/s]\n",
      "0it [00:00, ?it/s]\n",
      "0it [00:00, ?it/s]\n",
      "0it [00:00, ?it/s]\n",
      "0it [00:00, ?it/s]\n",
      "8it [00:00, 225.54it/s]\n",
      "0it [00:00, ?it/s]                                        | 0/1 [00:00<?, ?it/s]\n",
      "0it [00:00, ?it/s]\n",
      "100%|█████████████████████████████████████████████| 1/1 [00:00<00:00, 58.93it/s]\n",
      "0it [00:00, ?it/s]\n",
      "0it [00:00, ?it/s]\n",
      "0it [00:00, ?it/s]\n",
      "0it [00:00, ?it/s]\n",
      "0it [00:00, ?it/s]\n",
      "8it [00:00, 209.31it/s]\n"
     ]
    },
    {
     "name": "stdout",
     "output_type": "stream",
     "text": [
      "Fitting 5 folds for each of 53 candidates, totalling 265 fits\n",
      "B*44:03  -> Probability: 0.0013862486469986067\t Final_classification: False\t AUC: 0.9789915966386554\t Accuracy: 0.8780487804878049\t Precision: 0.5833333333333334\t Sensitivity: 1.0\t Specificity: 0.8529411764705882\n",
      "No HLA-related TCRs have been found in your repertoire\n",
      "B*49:01  -> Probability: N/A\t Final_classification: False\t AUC: 0.5\t Accuracy: 1\t Precision: 0\t Sensitivity: 0\t Specificity: 1\n",
      "No HLA-related TCRs have been found in your repertoire\n",
      "B*50:01  -> Probability: N/A\t Final_classification: False\t AUC: 0.5\t Accuracy: 1\t Precision: 0\t Sensitivity: 0\t Specificity: 1\n",
      "No HLA-related TCRs have been found in your repertoire\n",
      "B*51:01  -> Probability: N/A\t Final_classification: False\t AUC: 0.5\t Accuracy: 1\t Precision: 0\t Sensitivity: 0\t Specificity: 1\n",
      "No HLA-related TCRs have been found in your repertoire\n",
      "B*52:01  -> Probability: N/A\t Final_classification: False\t AUC: 0.5\t Accuracy: 1\t Precision: 0\t Sensitivity: 0\t Specificity: 1\n",
      "No HLA-related TCRs have been found in your repertoire\n",
      "B*55:01  -> Probability: N/A\t Final_classification: False\t AUC: 0.5\t Accuracy: 1\t Precision: 0\t Sensitivity: 0\t Specificity: 1\n",
      "No HLA-related TCRs have been found in your repertoire\n",
      "B*58:01  -> Probability: N/A\t Final_classification: False\t AUC: 0.5\t Accuracy: 1\t Precision: 0\t Sensitivity: 0\t Specificity: 1\n",
      "No HLA-related TCRs have been found in your repertoire\n",
      "C*02:02  -> Probability: N/A\t Final_classification: False\t AUC: 0.5\t Accuracy: 1\t Precision: 0\t Sensitivity: 0\t Specificity: 1\n"
     ]
    },
    {
     "name": "stderr",
     "output_type": "stream",
     "text": [
      "100%|████████████████████████████████████████████| 1/1 [00:00<00:00, 122.35it/s]\n",
      "0it [00:00, ?it/s]\n",
      "0it [00:00, ?it/s]\n",
      "0it [00:00, ?it/s]\n",
      "0it [00:00, ?it/s]\n",
      "0it [00:00, ?it/s]\n",
      "0it [00:00, ?it/s]\n",
      "0it [00:00, ?it/s]\n",
      "8it [00:00, 212.78it/s]\n",
      "100%|████████████████████████████████████████████| 1/1 [00:00<00:00, 142.11it/s]\n",
      "0it [00:00, ?it/s]\n",
      "0it [00:00, ?it/s]\n",
      "0it [00:00, ?it/s]\n",
      "0it [00:00, ?it/s]\n",
      "0it [00:00, ?it/s]\n",
      "0it [00:00, ?it/s]\n",
      "0it [00:00, ?it/s]\n",
      "8it [00:00, 252.28it/s]\n"
     ]
    },
    {
     "name": "stdout",
     "output_type": "stream",
     "text": [
      "Fitting 5 folds for each of 53 candidates, totalling 265 fits\n",
      "C*03:03  -> Probability: 0.6992623831398955\t Final_classification: False\t AUC: 0.6730769230769231\t Accuracy: 0.8780487804878049\t Precision: 0.2\t Sensitivity: 0.5\t Specificity: 0.8974358974358975\n"
     ]
    },
    {
     "name": "stderr",
     "output_type": "stream",
     "text": [
      "0it [00:00, ?it/s]                                        | 0/1 [00:00<?, ?it/s]\n",
      "0it [00:00, ?it/s]\n",
      "100%|█████████████████████████████████████████████| 1/1 [00:00<00:00, 38.67it/s]\n",
      "0it [00:00, ?it/s]\n",
      "0it [00:00, ?it/s]\n",
      "0it [00:00, ?it/s]\n",
      "0it [00:00, ?it/s]\n",
      "0it [00:00, ?it/s]\n",
      "8it [00:00, 221.41it/s]\n",
      "0it [00:00, ?it/s]                                        | 0/1 [00:00<?, ?it/s]\n",
      "100%|█████████████████████████████████████████████| 1/1 [00:00<00:00, 71.79it/s]\n",
      "0it [00:00, ?it/s]\n",
      "0it [00:00, ?it/s]\n",
      "0it [00:00, ?it/s]\n",
      "0it [00:00, ?it/s]\n",
      "0it [00:00, ?it/s]\n",
      "0it [00:00, ?it/s]\n",
      "8it [00:00, 252.37it/s]\n"
     ]
    },
    {
     "name": "stdout",
     "output_type": "stream",
     "text": [
      "Fitting 5 folds for each of 53 candidates, totalling 265 fits\n",
      "C*03:04  -> Probability: 0.2798947320323384\t Final_classification: False\t AUC: 0.8445945945945946\t Accuracy: 0.951219512195122\t Precision: 0.75\t Sensitivity: 0.75\t Specificity: 0.972972972972973\n",
      "No HLA-related TCRs have been found in your repertoire\n",
      "C*04:01  -> Probability: N/A\t Final_classification: False\t AUC: 0.5\t Accuracy: 1\t Precision: 0\t Sensitivity: 0\t Specificity: 1\n"
     ]
    },
    {
     "name": "stderr",
     "output_type": "stream",
     "text": [
      "100%|████████████████████████████████████████████| 1/1 [00:00<00:00, 123.05it/s]\n",
      "100%|█████████████████████████████████████████████| 1/1 [00:00<00:00, 63.67it/s]\n",
      "100%|█████████████████████████████████████████████| 1/1 [00:00<00:00, 67.75it/s]\n",
      "0it [00:00, ?it/s]\n",
      "0it [00:00, ?it/s]\n",
      "100%|█████████████████████████████████████████████| 1/1 [00:00<00:00, 78.84it/s]\n",
      "0it [00:00, ?it/s]\n",
      "0it [00:00, ?it/s]\n",
      "8it [00:00, 220.20it/s]\n",
      "0it [00:00, ?it/s]                                        | 0/1 [00:00<?, ?it/s]\n",
      "0it [00:00, ?it/s]\n",
      "100%|█████████████████████████████████████████████| 1/1 [00:00<00:00, 63.32it/s]\n",
      "100%|█████████████████████████████████████████████| 1/1 [00:00<00:00, 42.18it/s]\n",
      "100%|█████████████████████████████████████████████| 1/1 [00:00<00:00, 45.32it/s]\n",
      "100%|█████████████████████████████████████████████| 1/1 [00:00<00:00, 70.98it/s]\n",
      "0it [00:00, ?it/s]\n",
      "0it [00:00, ?it/s]\n",
      "8it [00:00, 210.98it/s]\n"
     ]
    },
    {
     "name": "stdout",
     "output_type": "stream",
     "text": [
      "Fitting 5 folds for each of 53 candidates, totalling 265 fits\n",
      "C*05:01  -> Probability: 0.2587413807049429\t Final_classification: False\t AUC: 0.8857142857142858\t Accuracy: 0.8780487804878049\t Precision: 0.5714285714285714\t Sensitivity: 0.6666666666666666\t Specificity: 0.9142857142857144\n"
     ]
    },
    {
     "name": "stderr",
     "output_type": "stream",
     "text": [
      "100%|█████████████████████████████████████████████| 1/1 [00:00<00:00, 71.64it/s]\n",
      "0it [00:00, ?it/s]\n",
      "0it [00:00, ?it/s]\n",
      "100%|█████████████████████████████████████████████| 1/1 [00:00<00:00, 60.36it/s]\n",
      "0it [00:00, ?it/s]\n",
      "0it [00:00, ?it/s]\n",
      "100%|█████████████████████████████████████████████| 1/1 [00:00<00:00, 39.42it/s]\n",
      "0it [00:00, ?it/s]\n",
      "8it [00:00, 195.04it/s]\n",
      "100%|█████████████████████████████████████████████| 1/1 [00:00<00:00, 65.29it/s]\n",
      "100%|█████████████████████████████████████████████| 1/1 [00:00<00:00, 60.38it/s]\n",
      "100%|█████████████████████████████████████████████| 1/1 [00:00<00:00, 61.47it/s]\n",
      "0it [00:00, ?it/s]\n",
      "0it [00:00, ?it/s]\n",
      "0it [00:00, ?it/s]\n",
      "0it [00:00, ?it/s]\n",
      "0it [00:00, ?it/s]\n",
      "8it [00:00, 229.79it/s]\n"
     ]
    },
    {
     "name": "stdout",
     "output_type": "stream",
     "text": [
      "Fitting 5 folds for each of 53 candidates, totalling 265 fits\n",
      "C*06:02  -> Probability: 0.2543321507804256\t Final_classification: False\t AUC: 0.9189189189189187\t Accuracy: 0.7804878048780488\t Precision: 0.3076923076923077\t Sensitivity: 1.0\t Specificity: 0.7567567567567568\n"
     ]
    },
    {
     "name": "stderr",
     "output_type": "stream",
     "text": [
      "100%|█████████████████████████████████████████| 23/23 [00:00<00:00, 1029.50it/s]\n",
      "100%|█████████████████████████████████████████| 23/23 [00:00<00:00, 1196.00it/s]\n",
      "100%|█████████████████████████████████████████| 23/23 [00:00<00:00, 1295.42it/s]\n",
      "100%|█████████████████████████████████████████| 23/23 [00:00<00:00, 1628.42it/s]\n",
      "100%|█████████████████████████████████████████| 23/23 [00:00<00:00, 1228.95it/s]\n",
      "100%|█████████████████████████████████████████| 23/23 [00:00<00:00, 2175.86it/s]\n",
      "100%|█████████████████████████████████████████| 23/23 [00:00<00:00, 1358.89it/s]\n",
      "100%|█████████████████████████████████████████| 23/23 [00:00<00:00, 1405.39it/s]\n",
      "8it [00:00, 210.33it/s]\n",
      "100%|█████████████████████████████████████████| 23/23 [00:00<00:00, 1345.00it/s]\n",
      "100%|█████████████████████████████████████████| 23/23 [00:00<00:00, 1637.79it/s]\n",
      "100%|█████████████████████████████████████████| 23/23 [00:00<00:00, 1066.34it/s]\n",
      "100%|█████████████████████████████████████████| 23/23 [00:00<00:00, 1095.53it/s]\n",
      "100%|█████████████████████████████████████████| 23/23 [00:00<00:00, 1324.49it/s]\n",
      "100%|█████████████████████████████████████████| 23/23 [00:00<00:00, 1361.29it/s]\n",
      "100%|█████████████████████████████████████████| 23/23 [00:00<00:00, 1455.61it/s]\n",
      "100%|█████████████████████████████████████████| 23/23 [00:00<00:00, 1970.65it/s]\n",
      "8it [00:00, 191.63it/s]\n"
     ]
    },
    {
     "name": "stdout",
     "output_type": "stream",
     "text": [
      "Fitting 5 folds for each of 53 candidates, totalling 265 fits\n",
      "C*07:01  -> Probability: 0.9999837918689857\t Final_classification: True\t AUC: 0.8903225806451613\t Accuracy: 0.926829268292683\t Precision: 0.8888888888888888\t Sensitivity: 0.8\t Specificity: 0.967741935483871\n"
     ]
    },
    {
     "name": "stderr",
     "output_type": "stream",
     "text": [
      "100%|████████████████████████████████████████████| 8/8 [00:00<00:00, 478.32it/s]\n",
      "100%|████████████████████████████████████████████| 8/8 [00:00<00:00, 383.59it/s]\n",
      "100%|████████████████████████████████████████████| 8/8 [00:00<00:00, 439.83it/s]\n",
      "100%|████████████████████████████████████████████| 8/8 [00:00<00:00, 459.31it/s]\n",
      "100%|████████████████████████████████████████████| 8/8 [00:00<00:00, 483.40it/s]\n",
      "100%|████████████████████████████████████████████| 8/8 [00:00<00:00, 503.51it/s]\n",
      "100%|████████████████████████████████████████████| 8/8 [00:00<00:00, 606.85it/s]\n",
      "100%|████████████████████████████████████████████| 8/8 [00:00<00:00, 627.91it/s]\n",
      "8it [00:00, 228.10it/s]\n",
      "100%|████████████████████████████████████████████| 8/8 [00:00<00:00, 566.32it/s]\n",
      "100%|████████████████████████████████████████████| 8/8 [00:00<00:00, 590.42it/s]\n",
      "100%|████████████████████████████████████████████| 8/8 [00:00<00:00, 457.00it/s]\n",
      "100%|████████████████████████████████████████████| 8/8 [00:00<00:00, 484.09it/s]\n",
      "100%|████████████████████████████████████████████| 8/8 [00:00<00:00, 490.76it/s]\n",
      "100%|████████████████████████████████████████████| 8/8 [00:00<00:00, 515.51it/s]\n",
      "100%|████████████████████████████████████████████| 8/8 [00:00<00:00, 753.19it/s]\n",
      "100%|████████████████████████████████████████████| 8/8 [00:00<00:00, 791.98it/s]\n",
      "8it [00:00, 198.22it/s]\n"
     ]
    },
    {
     "name": "stdout",
     "output_type": "stream",
     "text": [
      "Fitting 5 folds for each of 53 candidates, totalling 265 fits\n",
      "C*07:02  -> Probability: 0.9988226888276962\t Final_classification: True\t AUC: 0.971264367816092\t Accuracy: 0.8780487804878049\t Precision: 0.7333333333333333\t Sensitivity: 0.9166666666666666\t Specificity: 0.8620689655172413\n"
     ]
    },
    {
     "name": "stderr",
     "output_type": "stream",
     "text": [
      "100%|█████████████████████████████████████████████| 1/1 [00:00<00:00, 51.12it/s]\n",
      "100%|█████████████████████████████████████████████| 1/1 [00:00<00:00, 54.42it/s]\n",
      "0it [00:00, ?it/s]\n",
      "0it [00:00, ?it/s]\n",
      "0it [00:00, ?it/s]\n",
      "0it [00:00, ?it/s]\n",
      "0it [00:00, ?it/s]\n",
      "0it [00:00, ?it/s]\n",
      "8it [00:00, 195.42it/s]\n",
      "0it [00:00, ?it/s]                                        | 0/1 [00:00<?, ?it/s]\n",
      "100%|████████████████████████████████████████████| 1/1 [00:00<00:00, 106.37it/s]\n",
      "100%|█████████████████████████████████████████████| 1/1 [00:00<00:00, 56.20it/s]\n",
      "0it [00:00, ?it/s]\n",
      "0it [00:00, ?it/s]\n",
      "0it [00:00, ?it/s]\n",
      "0it [00:00, ?it/s]\n",
      "0it [00:00, ?it/s]\n",
      "8it [00:00, 275.72it/s]\n"
     ]
    },
    {
     "name": "stdout",
     "output_type": "stream",
     "text": [
      "Fitting 5 folds for each of 53 candidates, totalling 265 fits\n",
      "C*08:02  -> Probability: 0.02927746228516923\t Final_classification: False\t AUC: 0.6025641025641026\t Accuracy: 0.902439024390244\t Precision: 0.25\t Sensitivity: 0.5\t Specificity: 0.9230769230769232\n",
      "No HLA-related TCRs have been found in your repertoire\n",
      "C*12:02  -> Probability: N/A\t Final_classification: False\t AUC: 0.5\t Accuracy: 1\t Precision: 0\t Sensitivity: 0\t Specificity: 1\n",
      "No HLA-related TCRs have been found in your repertoire\n",
      "C*12:03  -> Probability: N/A\t Final_classification: False\t AUC: 0.5\t Accuracy: 1\t Precision: 0\t Sensitivity: 0\t Specificity: 1\n",
      "No HLA-related TCRs have been found in your repertoire\n",
      "C*14:02  -> Probability: N/A\t Final_classification: False\t AUC: 0.5\t Accuracy: 1\t Precision: 0\t Sensitivity: 0\t Specificity: 1\n",
      "No HLA-related TCRs have been found in your repertoire\n",
      "C*15:05  -> Probability: N/A\t Final_classification: False\t AUC: 0.5\t Accuracy: 1\t Precision: 0\t Sensitivity: 0\t Specificity: 1\n",
      "No HLA-related TCRs have been found in your repertoire\n",
      "C*16:01  -> Probability: N/A\t Final_classification: False\t AUC: 0.5\t Accuracy: 1\t Precision: 0\t Sensitivity: 0\t Specificity: 1\n",
      "No HLA-related TCRs have been found in your repertoire\n",
      "C*17:01  -> Probability: N/A\t Final_classification: False\t AUC: 0.5\t Accuracy: 1\t Precision: 0\t Sensitivity: 0\t Specificity: 1\n"
     ]
    },
    {
     "name": "stderr",
     "output_type": "stream",
     "text": [
      "100%|████████████████████████████████████████████| 1/1 [00:00<00:00, 122.00it/s]\n",
      "100%|█████████████████████████████████████████████| 1/1 [00:00<00:00, 57.73it/s]\n",
      "0it [00:00, ?it/s]\n",
      "0it [00:00, ?it/s]\n",
      "0it [00:00, ?it/s]\n",
      "0it [00:00, ?it/s]\n",
      "0it [00:00, ?it/s]\n",
      "0it [00:00, ?it/s]\n",
      "8it [00:00, 250.09it/s]\n",
      "100%|████████████████████████████████████████████| 1/1 [00:00<00:00, 123.45it/s]\n",
      "100%|█████████████████████████████████████████████| 1/1 [00:00<00:00, 67.02it/s]\n",
      "0it [00:00, ?it/s]\n",
      "0it [00:00, ?it/s]\n",
      "0it [00:00, ?it/s]\n",
      "0it [00:00, ?it/s]\n",
      "0it [00:00, ?it/s]\n",
      "0it [00:00, ?it/s]\n",
      "8it [00:00, 244.02it/s]\n"
     ]
    },
    {
     "name": "stdout",
     "output_type": "stream",
     "text": [
      "Fitting 5 folds for each of 53 candidates, totalling 265 fits\n",
      "DPB1*01:01  -> Probability: 0.5343174086662247\t Final_classification: False\t AUC: 0.8513513513513513\t Accuracy: 0.8536585365853658\t Precision: 0.375\t Sensitivity: 0.75\t Specificity: 0.8648648648648649\n"
     ]
    },
    {
     "name": "stderr",
     "output_type": "stream",
     "text": [
      "0it [00:00, ?it/s]                                        | 0/1 [00:00<?, ?it/s]\n",
      "100%|█████████████████████████████████████████████| 1/1 [00:00<00:00, 54.32it/s]\n",
      "0it [00:00, ?it/s]\n",
      "0it [00:00, ?it/s]\n",
      "0it [00:00, ?it/s]\n",
      "0it [00:00, ?it/s]\n",
      "0it [00:00, ?it/s]\n",
      "0it [00:00, ?it/s]\n",
      "8it [00:00, 205.27it/s]\n",
      "100%|████████████████████████████████████████████| 1/1 [00:00<00:00, 130.12it/s]\n",
      "0it [00:00, ?it/s]\n",
      "0it [00:00, ?it/s]\n",
      "0it [00:00, ?it/s]\n",
      "0it [00:00, ?it/s]\n",
      "0it [00:00, ?it/s]\n",
      "0it [00:00, ?it/s]\n",
      "0it [00:00, ?it/s]\n",
      "8it [00:00, 235.53it/s]\n"
     ]
    },
    {
     "name": "stdout",
     "output_type": "stream",
     "text": [
      "Fitting 5 folds for each of 53 candidates, totalling 265 fits\n",
      "DPB1*02:01  -> Probability: 0.5096295473082346\t Final_classification: False\t AUC: 0.8880952380952382\t Accuracy: 0.8048780487804879\t Precision: 0.4166666666666667\t Sensitivity: 0.8333333333333334\t Specificity: 0.8\n",
      "No HLA-related TCRs have been found in your repertoire\n",
      "DPB1*03:01  -> Probability: N/A\t Final_classification: False\t AUC: 0.5\t Accuracy: 1\t Precision: 0\t Sensitivity: 0\t Specificity: 1\n"
     ]
    },
    {
     "name": "stderr",
     "output_type": "stream",
     "text": [
      "100%|███████████████████████████████████████████| 6/6 [00:00<00:00, 1634.36it/s]\n",
      "100%|████████████████████████████████████████████| 6/6 [00:00<00:00, 616.25it/s]\n",
      "100%|████████████████████████████████████████████| 6/6 [00:00<00:00, 387.28it/s]\n",
      "100%|████████████████████████████████████████████| 5/5 [00:00<00:00, 673.52it/s]\n",
      "100%|████████████████████████████████████████████| 5/5 [00:00<00:00, 339.47it/s]\n",
      "100%|████████████████████████████████████████████| 5/5 [00:00<00:00, 339.01it/s]\n",
      "100%|████████████████████████████████████████████| 6/6 [00:00<00:00, 531.32it/s]\n",
      "100%|████████████████████████████████████████████| 5/5 [00:00<00:00, 586.26it/s]\n",
      "8it [00:00, 182.39it/s]\n",
      "100%|████████████████████████████████████████████| 6/6 [00:00<00:00, 661.21it/s]\n",
      "100%|████████████████████████████████████████████| 6/6 [00:00<00:00, 533.39it/s]\n",
      "100%|████████████████████████████████████████████| 6/6 [00:00<00:00, 569.62it/s]\n",
      "100%|████████████████████████████████████████████| 6/6 [00:00<00:00, 354.12it/s]\n",
      "100%|████████████████████████████████████████████| 5/5 [00:00<00:00, 365.92it/s]\n",
      "100%|████████████████████████████████████████████| 5/5 [00:00<00:00, 573.05it/s]\n",
      "100%|████████████████████████████████████████████| 5/5 [00:00<00:00, 593.39it/s]\n",
      "100%|████████████████████████████████████████████| 5/5 [00:00<00:00, 609.73it/s]\n",
      "8it [00:00, 196.17it/s]\n"
     ]
    },
    {
     "name": "stdout",
     "output_type": "stream",
     "text": [
      "Fitting 5 folds for each of 53 candidates, totalling 265 fits\n",
      "DPB1*04:01  -> Probability: 0.636286894840959\t Final_classification: False\t AUC: 0.9047619047619048\t Accuracy: 0.8048780487804879\t Precision: 0.7878787878787878\t Sensitivity: 0.9629629629629628\t Specificity: 0.5\n"
     ]
    },
    {
     "name": "stderr",
     "output_type": "stream",
     "text": [
      "100%|████████████████████████████████████████████| 2/2 [00:00<00:00, 343.96it/s]\n",
      "100%|████████████████████████████████████████████| 2/2 [00:00<00:00, 104.13it/s]\n",
      "100%|█████████████████████████████████████████████| 1/1 [00:00<00:00, 62.31it/s]\n",
      "100%|████████████████████████████████████████████| 1/1 [00:00<00:00, 141.20it/s]\n",
      "100%|█████████████████████████████████████████████| 1/1 [00:00<00:00, 67.98it/s]\n",
      "100%|████████████████████████████████████████████| 2/2 [00:00<00:00, 143.71it/s]\n",
      "100%|█████████████████████████████████████████████| 2/2 [00:00<00:00, 94.06it/s]\n",
      "100%|█████████████████████████████████████████████| 1/1 [00:00<00:00, 79.67it/s]\n",
      "8it [00:00, 205.74it/s]\n",
      "100%|████████████████████████████████████████████| 2/2 [00:00<00:00, 149.12it/s]\n",
      "100%|████████████████████████████████████████████| 2/2 [00:00<00:00, 108.70it/s]\n",
      "100%|████████████████████████████████████████████| 2/2 [00:00<00:00, 110.07it/s]\n",
      "100%|█████████████████████████████████████████████| 1/1 [00:00<00:00, 57.01it/s]\n",
      "100%|█████████████████████████████████████████████| 1/1 [00:00<00:00, 60.37it/s]\n",
      "100%|████████████████████████████████████████████| 2/2 [00:00<00:00, 144.77it/s]\n",
      "100%|█████████████████████████████████████████████| 1/1 [00:00<00:00, 76.35it/s]\n",
      "100%|█████████████████████████████████████████████| 1/1 [00:00<00:00, 80.15it/s]\n",
      "8it [00:00, 209.52it/s]\n"
     ]
    },
    {
     "name": "stdout",
     "output_type": "stream",
     "text": [
      "Fitting 5 folds for each of 53 candidates, totalling 265 fits\n",
      "DPB1*04:02  -> Probability: 0.9999999999988591\t Final_classification: True\t AUC: 0.9761904761904762\t Accuracy: 0.8780487804878049\t Precision: 0.5454545454545454\t Sensitivity: 1.0\t Specificity: 0.8571428571428571\n",
      "No HLA-related TCRs have been found in your repertoire\n",
      "DPB1*05:01  -> Probability: N/A\t Final_classification: False\t AUC: 0.5\t Accuracy: 1\t Precision: 0\t Sensitivity: 0\t Specificity: 1\n",
      "No HLA-related TCRs have been found in your repertoire\n",
      "DPB1*10:01  -> Probability: N/A\t Final_classification: False\t AUC: 0.5\t Accuracy: 1\t Precision: 0\t Sensitivity: 0\t Specificity: 1\n",
      "No HLA-related TCRs have been found in your repertoire\n",
      "DPB1*11:01  -> Probability: N/A\t Final_classification: False\t AUC: 0.5\t Accuracy: 1\t Precision: 0\t Sensitivity: 0\t Specificity: 1\n",
      "No HLA-related TCRs have been found in your repertoire\n",
      "DPB1*13:01  -> Probability: N/A\t Final_classification: False\t AUC: 0.5\t Accuracy: 1\t Precision: 0\t Sensitivity: 0\t Specificity: 1\n",
      "No HLA-related TCRs have been found in your repertoire\n",
      "DPB1*17:01  -> Probability: N/A\t Final_classification: False\t AUC: 0.5\t Accuracy: 1\t Precision: 0\t Sensitivity: 0\t Specificity: 1\n"
     ]
    },
    {
     "name": "stderr",
     "output_type": "stream",
     "text": [
      "100%|█████████████████████████████████████████| 11/11 [00:00<00:00, 1227.64it/s]\n",
      "100%|██████████████████████████████████████████| 11/11 [00:00<00:00, 585.47it/s]\n",
      "100%|██████████████████████████████████████████| 11/11 [00:00<00:00, 459.81it/s]\n",
      "100%|██████████████████████████████████████████| 11/11 [00:00<00:00, 651.69it/s]\n",
      "100%|██████████████████████████████████████████| 11/11 [00:00<00:00, 667.77it/s]\n",
      "100%|██████████████████████████████████████████| 11/11 [00:00<00:00, 710.64it/s]\n",
      "100%|██████████████████████████████████████████| 10/10 [00:00<00:00, 812.28it/s]\n",
      "100%|██████████████████████████████████████████| 11/11 [00:00<00:00, 920.57it/s]\n",
      "8it [00:00, 195.03it/s]\n",
      "100%|█████████████████████████████████████████| 11/11 [00:00<00:00, 1556.17it/s]\n",
      "100%|██████████████████████████████████████████| 11/11 [00:00<00:00, 897.61it/s]\n",
      "100%|██████████████████████████████████████████| 11/11 [00:00<00:00, 683.92it/s]\n",
      "100%|██████████████████████████████████████████| 11/11 [00:00<00:00, 877.67it/s]\n",
      "100%|██████████████████████████████████████████| 11/11 [00:00<00:00, 811.85it/s]\n",
      "100%|█████████████████████████████████████████| 11/11 [00:00<00:00, 1025.18it/s]\n",
      "100%|█████████████████████████████████████████| 11/11 [00:00<00:00, 1146.35it/s]\n",
      "100%|█████████████████████████████████████████| 10/10 [00:00<00:00, 1738.72it/s]\n",
      "8it [00:00, 186.18it/s]\n"
     ]
    },
    {
     "name": "stdout",
     "output_type": "stream",
     "text": [
      "Fitting 5 folds for each of 53 candidates, totalling 265 fits\n",
      "DQA1*01:01  -> Probability: 0.1751088660666636\t Final_classification: False\t AUC: 1.0\t Accuracy: 0.975609756097561\t Precision: 0.875\t Sensitivity: 1.0\t Specificity: 0.9705882352941176\n"
     ]
    },
    {
     "name": "stderr",
     "output_type": "stream",
     "text": [
      "100%|█████████████████████████████████████████| 26/26 [00:00<00:00, 1973.83it/s]\n",
      "100%|█████████████████████████████████████████| 27/27 [00:00<00:00, 1486.42it/s]\n",
      "100%|█████████████████████████████████████████| 27/27 [00:00<00:00, 1129.01it/s]\n",
      "100%|█████████████████████████████████████████| 26/26 [00:00<00:00, 1461.45it/s]\n",
      "100%|█████████████████████████████████████████| 26/26 [00:00<00:00, 1523.88it/s]\n",
      "100%|█████████████████████████████████████████| 26/26 [00:00<00:00, 1596.43it/s]\n",
      "100%|█████████████████████████████████████████| 26/26 [00:00<00:00, 1957.07it/s]\n",
      "100%|█████████████████████████████████████████| 26/26 [00:00<00:00, 1499.57it/s]\n",
      "8it [00:00, 191.22it/s]\n",
      "100%|█████████████████████████████████████████| 27/27 [00:00<00:00, 1351.47it/s]\n",
      "100%|█████████████████████████████████████████| 26/26 [00:00<00:00, 1933.34it/s]\n",
      "100%|█████████████████████████████████████████| 27/27 [00:00<00:00, 1257.84it/s]\n",
      "100%|█████████████████████████████████████████| 26/26 [00:00<00:00, 1232.32it/s]\n",
      "100%|█████████████████████████████████████████| 26/26 [00:00<00:00, 1490.13it/s]\n",
      "100%|█████████████████████████████████████████| 26/26 [00:00<00:00, 1563.78it/s]\n",
      "100%|█████████████████████████████████████████| 26/26 [00:00<00:00, 1889.42it/s]\n",
      "100%|█████████████████████████████████████████| 26/26 [00:00<00:00, 1455.13it/s]\n",
      "8it [00:00, 186.60it/s]\n"
     ]
    },
    {
     "name": "stdout",
     "output_type": "stream",
     "text": [
      "Fitting 5 folds for each of 53 candidates, totalling 265 fits\n",
      "DQA1*01:02  -> Probability: 0.9999817934098487\t Final_classification: True\t AUC: 0.8229665071770336\t Accuracy: 0.8048780487804879\t Precision: 0.7894736842105263\t Sensitivity: 0.7894736842105263\t Specificity: 0.8181818181818182\n"
     ]
    },
    {
     "name": "stderr",
     "output_type": "stream",
     "text": [
      "100%|████████████████████████████████████████████| 2/2 [00:00<00:00, 177.05it/s]\n",
      "100%|████████████████████████████████████████████| 2/2 [00:00<00:00, 109.64it/s]\n",
      "100%|████████████████████████████████████████████| 2/2 [00:00<00:00, 118.09it/s]\n",
      "100%|█████████████████████████████████████████████| 2/2 [00:00<00:00, 77.95it/s]\n",
      "100%|████████████████████████████████████████████| 2/2 [00:00<00:00, 143.98it/s]\n",
      "100%|█████████████████████████████████████████████| 1/1 [00:00<00:00, 74.06it/s]\n",
      "100%|████████████████████████████████████████████| 2/2 [00:00<00:00, 155.81it/s]\n",
      "100%|████████████████████████████████████████████| 2/2 [00:00<00:00, 163.60it/s]\n",
      "8it [00:00, 277.02it/s]\n",
      "100%|████████████████████████████████████████████| 2/2 [00:00<00:00, 285.12it/s]\n",
      "100%|████████████████████████████████████████████| 2/2 [00:00<00:00, 234.77it/s]\n",
      "100%|████████████████████████████████████████████| 2/2 [00:00<00:00, 163.06it/s]\n",
      "100%|████████████████████████████████████████████| 2/2 [00:00<00:00, 140.34it/s]\n",
      "100%|████████████████████████████████████████████| 2/2 [00:00<00:00, 170.93it/s]\n",
      "100%|████████████████████████████████████████████| 2/2 [00:00<00:00, 177.63it/s]\n",
      "100%|████████████████████████████████████████████| 1/1 [00:00<00:00, 120.92it/s]\n",
      "100%|████████████████████████████████████████████| 2/2 [00:00<00:00, 240.40it/s]\n",
      "8it [00:00, 189.33it/s]\n"
     ]
    },
    {
     "name": "stdout",
     "output_type": "stream",
     "text": [
      "Fitting 5 folds for each of 53 candidates, totalling 265 fits\n",
      "DQA1*01:03  -> Probability: 0.5791121918770618\t Final_classification: False\t AUC: 0.938095238095238\t Accuracy: 0.8292682926829268\t Precision: 0.4545454545454545\t Sensitivity: 0.8333333333333334\t Specificity: 0.8285714285714286\n"
     ]
    },
    {
     "name": "stderr",
     "output_type": "stream",
     "text": [
      "100%|█████████████████████████████████████████████| 1/1 [00:00<00:00, 76.73it/s]\n",
      "100%|█████████████████████████████████████████████| 1/1 [00:00<00:00, 59.46it/s]\n",
      "100%|█████████████████████████████████████████████| 1/1 [00:00<00:00, 64.90it/s]\n",
      "100%|█████████████████████████████████████████████| 1/1 [00:00<00:00, 69.05it/s]\n",
      "0it [00:00, ?it/s]\n",
      "100%|█████████████████████████████████████████████| 1/1 [00:00<00:00, 57.56it/s]\n",
      "0it [00:00, ?it/s]\n",
      "0it [00:00, ?it/s]\n",
      "8it [00:00, 193.66it/s]\n",
      "100%|█████████████████████████████████████████████| 1/1 [00:00<00:00, 58.76it/s]\n",
      "100%|█████████████████████████████████████████████| 1/1 [00:00<00:00, 65.95it/s]\n",
      "100%|█████████████████████████████████████████████| 1/1 [00:00<00:00, 48.35it/s]\n",
      "100%|█████████████████████████████████████████████| 1/1 [00:00<00:00, 59.04it/s]\n",
      "100%|█████████████████████████████████████████████| 1/1 [00:00<00:00, 72.47it/s]\n",
      "0it [00:00, ?it/s]\n",
      "0it [00:00, ?it/s]\n",
      "0it [00:00, ?it/s]\n",
      "8it [00:00, 199.21it/s]\n"
     ]
    },
    {
     "name": "stdout",
     "output_type": "stream",
     "text": [
      "Fitting 5 folds for each of 53 candidates, totalling 265 fits\n",
      "DQA1*01:04  -> Probability: 0.05589405658488832\t Final_classification: False\t AUC: 1.0\t Accuracy: 0.8536585365853658\t Precision: 0.4\t Sensitivity: 1.0\t Specificity: 0.8378378378378378\n"
     ]
    },
    {
     "name": "stderr",
     "output_type": "stream",
     "text": [
      "100%|████████████████████████████████████████████| 9/9 [00:00<00:00, 533.60it/s]\n",
      "100%|████████████████████████████████████████████| 9/9 [00:00<00:00, 567.58it/s]\n",
      "100%|████████████████████████████████████████████| 9/9 [00:00<00:00, 390.75it/s]\n",
      "100%|████████████████████████████████████████████| 8/8 [00:00<00:00, 470.95it/s]\n",
      "100%|████████████████████████████████████████████| 9/9 [00:00<00:00, 540.67it/s]\n",
      "100%|████████████████████████████████████████████| 8/8 [00:00<00:00, 501.80it/s]\n",
      "100%|████████████████████████████████████████████| 9/9 [00:00<00:00, 706.15it/s]\n",
      "100%|████████████████████████████████████████████| 9/9 [00:00<00:00, 725.90it/s]\n",
      "8it [00:00, 228.80it/s]\n",
      "100%|████████████████████████████████████████████| 9/9 [00:00<00:00, 693.90it/s]\n",
      "100%|████████████████████████████████████████████| 9/9 [00:00<00:00, 587.47it/s]\n",
      "100%|████████████████████████████████████████████| 9/9 [00:00<00:00, 633.77it/s]\n",
      "100%|████████████████████████████████████████████| 9/9 [00:00<00:00, 648.87it/s]\n",
      "100%|████████████████████████████████████████████| 9/9 [00:00<00:00, 349.67it/s]\n",
      "100%|████████████████████████████████████████████| 9/9 [00:00<00:00, 634.66it/s]\n",
      "100%|████████████████████████████████████████████| 8/8 [00:00<00:00, 587.08it/s]\n",
      "100%|████████████████████████████████████████████| 8/8 [00:00<00:00, 620.28it/s]\n",
      "8it [00:00, 183.47it/s]\n"
     ]
    },
    {
     "name": "stdout",
     "output_type": "stream",
     "text": [
      "Fitting 5 folds for each of 53 candidates, totalling 265 fits\n",
      "DQA1*02:01  -> Probability: 0.05493923961814446\t Final_classification: False\t AUC: 0.9942528735632185\t Accuracy: 0.975609756097561\t Precision: 1.0\t Sensitivity: 0.9166666666666666\t Specificity: 1.0\n"
     ]
    },
    {
     "name": "stderr",
     "output_type": "stream",
     "text": [
      "100%|████████████████████████████████████████████| 1/1 [00:00<00:00, 125.63it/s]\n",
      "100%|█████████████████████████████████████████████| 1/1 [00:00<00:00, 77.19it/s]\n",
      "0it [00:00, ?it/s]\n",
      "0it [00:00, ?it/s]\n",
      "0it [00:00, ?it/s]\n",
      "0it [00:00, ?it/s]\n",
      "0it [00:00, ?it/s]\n",
      "0it [00:00, ?it/s]\n",
      "8it [00:00, 235.44it/s]\n",
      "100%|█████████████████████████████████████████████| 1/1 [00:00<00:00, 98.90it/s]\n",
      "0it [00:00, ?it/s]\n",
      "0it [00:00, ?it/s]\n",
      "0it [00:00, ?it/s]\n",
      "0it [00:00, ?it/s]\n",
      "0it [00:00, ?it/s]\n",
      "100%|█████████████████████████████████████████████| 1/1 [00:00<00:00, 39.20it/s]\n",
      "0it [00:00, ?it/s]\n",
      "8it [00:00, 218.13it/s]\n"
     ]
    },
    {
     "name": "stdout",
     "output_type": "stream",
     "text": [
      "Fitting 5 folds for each of 53 candidates, totalling 265 fits\n",
      "DQA1*03:01  -> Probability: 0.17036961978641368\t Final_classification: False\t AUC: 0.9615384615384616\t Accuracy: 0.8536585365853658\t Precision: 0.25\t Sensitivity: 1.0\t Specificity: 0.8461538461538461\n",
      "No HLA-related TCRs have been found in your repertoire\n",
      "DQA1*03:02  -> Probability: N/A\t Final_classification: False\t AUC: 0.5\t Accuracy: 1\t Precision: 0\t Sensitivity: 0\t Specificity: 1\n"
     ]
    },
    {
     "name": "stderr",
     "output_type": "stream",
     "text": [
      "100%|█████████████████████████████████████████████| 1/1 [00:00<00:00, 65.02it/s]\n",
      "100%|█████████████████████████████████████████████| 1/1 [00:00<00:00, 53.38it/s]\n",
      "0it [00:00, ?it/s]\n",
      "0it [00:00, ?it/s]\n",
      "0it [00:00, ?it/s]\n",
      "100%|█████████████████████████████████████████████| 1/1 [00:00<00:00, 67.93it/s]\n",
      "0it [00:00, ?it/s]\n",
      "0it [00:00, ?it/s]\n",
      "8it [00:00, 193.44it/s]\n",
      "100%|█████████████████████████████████████████████| 1/1 [00:00<00:00, 88.71it/s]\n",
      "0it [00:00, ?it/s]\n",
      "0it [00:00, ?it/s]\n",
      "100%|█████████████████████████████████████████████| 1/1 [00:00<00:00, 62.64it/s]\n",
      "0it [00:00, ?it/s]\n",
      "0it [00:00, ?it/s]\n",
      "100%|█████████████████████████████████████████████| 1/1 [00:00<00:00, 40.91it/s]\n",
      "0it [00:00, ?it/s]\n",
      "8it [00:00, 204.31it/s]\n"
     ]
    },
    {
     "name": "stdout",
     "output_type": "stream",
     "text": [
      "Fitting 5 folds for each of 53 candidates, totalling 265 fits\n",
      "DQA1*03:03  -> Probability: 0.4521087617645647\t Final_classification: False\t AUC: 0.9428571428571428\t Accuracy: 0.926829268292683\t Precision: 0.8\t Sensitivity: 0.6666666666666666\t Specificity: 0.9714285714285714\n",
      "No HLA-related TCRs have been found in your repertoire\n",
      "DQA1*04:01  -> Probability: N/A\t Final_classification: False\t AUC: 0.5\t Accuracy: 1\t Precision: 0\t Sensitivity: 0\t Specificity: 1\n"
     ]
    },
    {
     "name": "stderr",
     "output_type": "stream",
     "text": [
      "100%|█████████████████████████████████████████| 53/53 [00:00<00:00, 2162.03it/s]\n",
      "100%|█████████████████████████████████████████| 53/53 [00:00<00:00, 2261.52it/s]\n",
      "100%|█████████████████████████████████████████| 53/53 [00:00<00:00, 2536.64it/s]\n",
      "100%|█████████████████████████████████████████| 52/52 [00:00<00:00, 2628.20it/s]\n",
      "100%|█████████████████████████████████████████| 52/52 [00:00<00:00, 2764.10it/s]\n",
      "100%|█████████████████████████████████████████| 52/52 [00:00<00:00, 2848.57it/s]\n",
      "100%|█████████████████████████████████████████| 52/52 [00:00<00:00, 3090.30it/s]\n",
      "100%|█████████████████████████████████████████| 52/52 [00:00<00:00, 3293.77it/s]\n",
      "8it [00:00, 210.16it/s]\n",
      "100%|█████████████████████████████████████████| 53/53 [00:00<00:00, 1984.95it/s]\n",
      "100%|█████████████████████████████████████████| 53/53 [00:00<00:00, 1587.98it/s]\n",
      "100%|█████████████████████████████████████████| 53/53 [00:00<00:00, 1475.49it/s]\n",
      "100%|█████████████████████████████████████████| 52/52 [00:00<00:00, 2031.80it/s]\n",
      "100%|█████████████████████████████████████████| 52/52 [00:00<00:00, 2035.04it/s]\n",
      "100%|█████████████████████████████████████████| 52/52 [00:00<00:00, 1502.83it/s]\n",
      "100%|█████████████████████████████████████████| 52/52 [00:00<00:00, 1938.75it/s]\n",
      "100%|█████████████████████████████████████████| 52/52 [00:00<00:00, 1991.60it/s]\n",
      "8it [00:00, 126.16it/s]\n"
     ]
    },
    {
     "name": "stdout",
     "output_type": "stream",
     "text": [
      "Fitting 5 folds for each of 53 candidates, totalling 265 fits\n",
      "DQA1*05:01  -> Probability: 0.9999999495740283\t Final_classification: True\t AUC: 1.0\t Accuracy: 0.975609756097561\t Precision: 0.9\t Sensitivity: 1.0\t Specificity: 0.96875\n"
     ]
    },
    {
     "name": "stderr",
     "output_type": "stream",
     "text": [
      "100%|████████████████████████████████████████████| 3/3 [00:00<00:00, 182.85it/s]\n",
      "100%|████████████████████████████████████████████| 3/3 [00:00<00:00, 135.65it/s]\n",
      "100%|████████████████████████████████████████████| 2/2 [00:00<00:00, 124.60it/s]\n",
      "100%|████████████████████████████████████████████| 2/2 [00:00<00:00, 112.57it/s]\n",
      "100%|████████████████████████████████████████████| 2/2 [00:00<00:00, 120.17it/s]\n",
      "100%|████████████████████████████████████████████| 3/3 [00:00<00:00, 187.20it/s]\n",
      "100%|████████████████████████████████████████████| 2/2 [00:00<00:00, 133.57it/s]\n",
      "100%|████████████████████████████████████████████| 2/2 [00:00<00:00, 245.33it/s]\n",
      "8it [00:00, 227.64it/s]\n",
      "100%|████████████████████████████████████████████| 3/3 [00:00<00:00, 482.73it/s]\n",
      "100%|████████████████████████████████████████████| 3/3 [00:00<00:00, 201.50it/s]\n",
      "100%|████████████████████████████████████████████| 2/2 [00:00<00:00, 155.73it/s]\n",
      "100%|████████████████████████████████████████████| 3/3 [00:00<00:00, 201.35it/s]\n",
      "100%|████████████████████████████████████████████| 2/2 [00:00<00:00, 164.90it/s]\n",
      "100%|████████████████████████████████████████████| 2/2 [00:00<00:00, 301.02it/s]\n",
      "100%|████████████████████████████████████████████| 2/2 [00:00<00:00, 144.29it/s]\n",
      "100%|████████████████████████████████████████████| 2/2 [00:00<00:00, 497.25it/s]\n",
      "8it [00:00, 180.85it/s]\n"
     ]
    },
    {
     "name": "stdout",
     "output_type": "stream",
     "text": [
      "Fitting 5 folds for each of 53 candidates, totalling 265 fits\n",
      "DQA1*05:05  -> Probability: 0.35373463038223796\t Final_classification: False\t AUC: 1.0\t Accuracy: 0.926829268292683\t Precision: 0.7272727272727273\t Sensitivity: 1.0\t Specificity: 0.9090909090909092\n"
     ]
    },
    {
     "name": "stderr",
     "output_type": "stream",
     "text": [
      "100%|█████████████████████████████████████████| 50/50 [00:00<00:00, 2607.30it/s]\n",
      "100%|█████████████████████████████████████████| 50/50 [00:00<00:00, 1903.09it/s]\n",
      "100%|█████████████████████████████████████████| 50/50 [00:00<00:00, 2251.73it/s]\n",
      "100%|█████████████████████████████████████████| 50/50 [00:00<00:00, 2619.44it/s]\n",
      "100%|█████████████████████████████████████████| 50/50 [00:00<00:00, 2087.51it/s]\n",
      "100%|█████████████████████████████████████████| 50/50 [00:00<00:00, 2575.25it/s]\n",
      "100%|█████████████████████████████████████████| 50/50 [00:00<00:00, 2749.86it/s]\n",
      "100%|█████████████████████████████████████████| 50/50 [00:00<00:00, 2879.12it/s]\n",
      "8it [00:00, 172.30it/s]\n",
      "100%|█████████████████████████████████████████| 50/50 [00:00<00:00, 2142.01it/s]\n",
      "100%|█████████████████████████████████████████| 50/50 [00:00<00:00, 1523.94it/s]\n",
      "100%|█████████████████████████████████████████| 50/50 [00:00<00:00, 1698.87it/s]\n",
      "100%|█████████████████████████████████████████| 50/50 [00:00<00:00, 1600.12it/s]\n",
      "100%|█████████████████████████████████████████| 50/50 [00:00<00:00, 1867.17it/s]\n",
      "100%|█████████████████████████████████████████| 50/50 [00:00<00:00, 1585.24it/s]\n",
      "100%|█████████████████████████████████████████| 50/50 [00:00<00:00, 1793.07it/s]\n",
      "100%|█████████████████████████████████████████| 50/50 [00:00<00:00, 2107.16it/s]\n",
      "8it [00:00, 107.58it/s]\n"
     ]
    },
    {
     "name": "stdout",
     "output_type": "stream",
     "text": [
      "Fitting 5 folds for each of 53 candidates, totalling 265 fits\n",
      "DQB1*02:01  -> Probability: 0.9999999635576782\t Final_classification: True\t AUC: 1.0\t Accuracy: 0.975609756097561\t Precision: 0.9090909090909092\t Sensitivity: 1.0\t Specificity: 0.967741935483871\n"
     ]
    },
    {
     "name": "stderr",
     "output_type": "stream",
     "text": [
      "100%|████████████████████████████████████████████| 4/4 [00:00<00:00, 275.00it/s]\n",
      "100%|████████████████████████████████████████████| 5/5 [00:00<00:00, 267.52it/s]\n",
      "100%|████████████████████████████████████████████| 4/4 [00:00<00:00, 264.60it/s]\n",
      "100%|████████████████████████████████████████████| 4/4 [00:00<00:00, 235.33it/s]\n",
      "100%|████████████████████████████████████████████| 4/4 [00:00<00:00, 247.89it/s]\n",
      "100%|████████████████████████████████████████████| 4/4 [00:00<00:00, 299.30it/s]\n",
      "100%|████████████████████████████████████████████| 4/4 [00:00<00:00, 312.96it/s]\n",
      "100%|████████████████████████████████████████████| 4/4 [00:00<00:00, 485.35it/s]\n",
      "8it [00:00, 229.06it/s]\n",
      "100%|███████████████████████████████████████████| 4/4 [00:00<00:00, 1103.76it/s]\n",
      "100%|████████████████████████████████████████████| 5/5 [00:00<00:00, 354.82it/s]\n",
      "100%|████████████████████████████████████████████| 4/4 [00:00<00:00, 307.02it/s]\n",
      "100%|████████████████████████████████████████████| 4/4 [00:00<00:00, 316.53it/s]\n",
      "100%|████████████████████████████████████████████| 4/4 [00:00<00:00, 286.73it/s]\n",
      "100%|████████████████████████████████████████████| 4/4 [00:00<00:00, 300.66it/s]\n",
      "100%|████████████████████████████████████████████| 4/4 [00:00<00:00, 382.08it/s]\n",
      "100%|████████████████████████████████████████████| 4/4 [00:00<00:00, 674.33it/s]\n",
      "8it [00:00, 191.01it/s]\n"
     ]
    },
    {
     "name": "stdout",
     "output_type": "stream",
     "text": [
      "Fitting 5 folds for each of 53 candidates, totalling 265 fits\n",
      "DQB1*02:02  -> Probability: 0.19781673837538996\t Final_classification: False\t AUC: 0.8958333333333334\t Accuracy: 0.8780487804878049\t Precision: 0.6666666666666666\t Sensitivity: 0.8888888888888888\t Specificity: 0.875\n"
     ]
    },
    {
     "name": "stderr",
     "output_type": "stream",
     "text": [
      "100%|████████████████████████████████████████████| 4/4 [00:00<00:00, 199.36it/s]\n",
      "100%|████████████████████████████████████████████| 4/4 [00:00<00:00, 212.63it/s]\n",
      "100%|████████████████████████████████████████████| 4/4 [00:00<00:00, 220.34it/s]\n",
      "100%|████████████████████████████████████████████| 4/4 [00:00<00:00, 227.66it/s]\n",
      "100%|████████████████████████████████████████████| 4/4 [00:00<00:00, 246.39it/s]\n",
      "100%|████████████████████████████████████████████| 3/3 [00:00<00:00, 191.44it/s]\n",
      "100%|████████████████████████████████████████████| 3/3 [00:00<00:00, 202.15it/s]\n",
      "100%|████████████████████████████████████████████| 3/3 [00:00<00:00, 211.23it/s]\n",
      "8it [00:00, 192.09it/s]\n",
      "100%|████████████████████████████████████████████| 4/4 [00:00<00:00, 418.85it/s]\n",
      "100%|████████████████████████████████████████████| 4/4 [00:00<00:00, 501.82it/s]\n",
      "100%|████████████████████████████████████████████| 4/4 [00:00<00:00, 262.32it/s]\n",
      "100%|████████████████████████████████████████████| 4/4 [00:00<00:00, 241.13it/s]\n",
      "100%|████████████████████████████████████████████| 4/4 [00:00<00:00, 349.76it/s]\n",
      "100%|████████████████████████████████████████████| 3/3 [00:00<00:00, 272.09it/s]\n",
      "100%|████████████████████████████████████████████| 3/3 [00:00<00:00, 284.30it/s]\n",
      "100%|████████████████████████████████████████████| 3/3 [00:00<00:00, 361.21it/s]\n",
      "8it [00:00, 192.02it/s]\n"
     ]
    },
    {
     "name": "stdout",
     "output_type": "stream",
     "text": [
      "Fitting 5 folds for each of 53 candidates, totalling 265 fits\n",
      "DQB1*03:01  -> Probability: 0.1947761932604659\t Final_classification: False\t AUC: 0.9285714285714286\t Accuracy: 0.902439024390244\t Precision: 0.9090909090909092\t Sensitivity: 0.7692307692307693\t Specificity: 0.9642857142857144\n"
     ]
    },
    {
     "name": "stderr",
     "output_type": "stream",
     "text": [
      "100%|████████████████████████████████████████████| 2/2 [00:00<00:00, 117.05it/s]\n",
      "100%|█████████████████████████████████████████████| 1/1 [00:00<00:00, 61.21it/s]\n",
      "100%|█████████████████████████████████████████████| 1/1 [00:00<00:00, 63.30it/s]\n",
      "100%|████████████████████████████████████████████| 2/2 [00:00<00:00, 135.75it/s]\n",
      "100%|████████████████████████████████████████████| 2/2 [00:00<00:00, 120.78it/s]\n",
      "100%|████████████████████████████████████████████| 2/2 [00:00<00:00, 126.88it/s]\n",
      "100%|█████████████████████████████████████████████| 1/1 [00:00<00:00, 68.45it/s]\n",
      "100%|████████████████████████████████████████████| 1/1 [00:00<00:00, 163.99it/s]\n",
      "8it [00:00, 194.87it/s]\n",
      "100%|████████████████████████████████████████████| 2/2 [00:00<00:00, 116.29it/s]\n",
      "100%|████████████████████████████████████████████| 2/2 [00:00<00:00, 123.44it/s]\n",
      "100%|████████████████████████████████████████████| 2/2 [00:00<00:00, 112.11it/s]\n",
      "100%|█████████████████████████████████████████████| 1/1 [00:00<00:00, 59.55it/s]\n",
      "100%|█████████████████████████████████████████████| 1/1 [00:00<00:00, 61.88it/s]\n",
      "100%|████████████████████████████████████████████| 2/2 [00:00<00:00, 131.34it/s]\n",
      "100%|█████████████████████████████████████████████| 1/1 [00:00<00:00, 67.61it/s]\n",
      "100%|█████████████████████████████████████████████| 1/1 [00:00<00:00, 98.74it/s]\n",
      "8it [00:00, 189.79it/s]\n"
     ]
    },
    {
     "name": "stdout",
     "output_type": "stream",
     "text": [
      "Fitting 5 folds for each of 53 candidates, totalling 265 fits\n",
      "DQB1*03:02  -> Probability: 0.18400080771870966\t Final_classification: False\t AUC: 1.0\t Accuracy: 0.926829268292683\t Precision: 0.4\t Sensitivity: 1.0\t Specificity: 0.9230769230769232\n",
      "No HLA-related TCRs have been found in your repertoire\n",
      "DQB1*03:03  -> Probability: N/A\t Final_classification: False\t AUC: 0.5\t Accuracy: 1\t Precision: 0\t Sensitivity: 0\t Specificity: 1\n",
      "No HLA-related TCRs have been found in your repertoire\n",
      "DQB1*03:19  -> Probability: N/A\t Final_classification: False\t AUC: 0.5\t Accuracy: 1\t Precision: 0\t Sensitivity: 0\t Specificity: 1\n",
      "No HLA-related TCRs have been found in your repertoire\n",
      "DQB1*04:01  -> Probability: N/A\t Final_classification: False\t AUC: 0.5\t Accuracy: 1\t Precision: 0\t Sensitivity: 0\t Specificity: 1\n"
     ]
    },
    {
     "name": "stderr",
     "output_type": "stream",
     "text": [
      "0it [00:00, ?it/s]                                        | 0/1 [00:00<?, ?it/s]\n",
      "100%|█████████████████████████████████████████████| 1/1 [00:00<00:00, 52.43it/s]\n",
      "0it [00:00, ?it/s]\n",
      "100%|█████████████████████████████████████████████| 1/1 [00:00<00:00, 38.30it/s]\n",
      "0it [00:00, ?it/s]\n",
      "0it [00:00, ?it/s]\n",
      "0it [00:00, ?it/s]\n",
      "0it [00:00, ?it/s]\n",
      "8it [00:00, 314.84it/s]\n",
      "100%|█████████████████████████████████████████████| 1/1 [00:00<00:00, 54.81it/s]\n",
      "0it [00:00, ?it/s]\n",
      "100%|█████████████████████████████████████████████| 1/1 [00:00<00:00, 59.44it/s]\n",
      "0it [00:00, ?it/s]\n",
      "0it [00:00, ?it/s]\n",
      "0it [00:00, ?it/s]\n",
      "0it [00:00, ?it/s]\n",
      "0it [00:00, ?it/s]\n",
      "8it [00:00, 225.96it/s]\n"
     ]
    },
    {
     "name": "stdout",
     "output_type": "stream",
     "text": [
      "Fitting 5 folds for each of 53 candidates, totalling 265 fits\n",
      "DQB1*04:02  -> Probability: 0.45879155837257446\t Final_classification: False\t AUC: 1.0\t Accuracy: 0.926829268292683\t Precision: 0.25\t Sensitivity: 1.0\t Specificity: 0.925\n"
     ]
    },
    {
     "name": "stderr",
     "output_type": "stream",
     "text": [
      "100%|████████████████████████████████████████████| 7/7 [00:00<00:00, 395.83it/s]\n",
      "100%|████████████████████████████████████████████| 7/7 [00:00<00:00, 414.25it/s]\n",
      "100%|████████████████████████████████████████████| 7/7 [00:00<00:00, 385.29it/s]\n",
      "100%|████████████████████████████████████████████| 7/7 [00:00<00:00, 397.40it/s]\n",
      "100%|████████████████████████████████████████████| 7/7 [00:00<00:00, 417.58it/s]\n",
      "100%|████████████████████████████████████████████| 7/7 [00:00<00:00, 438.00it/s]\n",
      "100%|████████████████████████████████████████████| 6/6 [00:00<00:00, 397.48it/s]\n",
      "100%|████████████████████████████████████████████| 6/6 [00:00<00:00, 554.17it/s]\n",
      "8it [00:00, 187.87it/s]\n",
      "100%|████████████████████████████████████████████| 7/7 [00:00<00:00, 771.88it/s]\n",
      "100%|████████████████████████████████████████████| 7/7 [00:00<00:00, 664.59it/s]\n",
      "100%|████████████████████████████████████████████| 7/7 [00:00<00:00, 409.29it/s]\n",
      "100%|████████████████████████████████████████████| 7/7 [00:00<00:00, 431.54it/s]\n",
      "100%|████████████████████████████████████████████| 7/7 [00:00<00:00, 529.53it/s]\n",
      "100%|████████████████████████████████████████████| 7/7 [00:00<00:00, 646.03it/s]\n",
      "100%|████████████████████████████████████████████| 6/6 [00:00<00:00, 606.99it/s]\n",
      "100%|████████████████████████████████████████████| 6/6 [00:00<00:00, 611.43it/s]\n",
      "8it [00:00, 199.87it/s]\n"
     ]
    },
    {
     "name": "stdout",
     "output_type": "stream",
     "text": [
      "Fitting 5 folds for each of 53 candidates, totalling 265 fits\n",
      "DQB1*05:01  -> Probability: 0.05057189779831949\t Final_classification: False\t AUC: 1.0\t Accuracy: 0.951219512195122\t Precision: 0.8\t Sensitivity: 1.0\t Specificity: 0.9393939393939394\n",
      "No HLA-related TCRs have been found in your repertoire\n",
      "DQB1*05:02  -> Probability: N/A\t Final_classification: False\t AUC: 0.5\t Accuracy: 1\t Precision: 0\t Sensitivity: 0\t Specificity: 1\n"
     ]
    },
    {
     "name": "stderr",
     "output_type": "stream",
     "text": [
      "100%|█████████████████████████████████████████████| 1/1 [00:00<00:00, 66.47it/s]\n",
      "100%|█████████████████████████████████████████████| 1/1 [00:00<00:00, 68.78it/s]\n",
      "100%|█████████████████████████████████████████████| 1/1 [00:00<00:00, 60.85it/s]\n",
      "100%|█████████████████████████████████████████████| 1/1 [00:00<00:00, 57.27it/s]\n",
      "100%|█████████████████████████████████████████████| 1/1 [00:00<00:00, 58.57it/s]\n",
      "100%|█████████████████████████████████████████████| 1/1 [00:00<00:00, 63.54it/s]\n",
      "100%|█████████████████████████████████████████████| 1/1 [00:00<00:00, 95.48it/s]\n",
      "100%|████████████████████████████████████████████| 1/1 [00:00<00:00, 124.58it/s]\n",
      "8it [00:00, 188.53it/s]\n",
      "100%|█████████████████████████████████████████████| 1/1 [00:00<00:00, 63.56it/s]\n",
      "100%|█████████████████████████████████████████████| 1/1 [00:00<00:00, 56.12it/s]\n",
      "100%|█████████████████████████████████████████████| 1/1 [00:00<00:00, 60.06it/s]\n",
      "100%|█████████████████████████████████████████████| 1/1 [00:00<00:00, 61.98it/s]\n",
      "100%|█████████████████████████████████████████████| 1/1 [00:00<00:00, 66.11it/s]\n",
      "100%|█████████████████████████████████████████████| 1/1 [00:00<00:00, 67.33it/s]\n",
      "100%|█████████████████████████████████████████████| 1/1 [00:00<00:00, 84.05it/s]\n",
      "100%|█████████████████████████████████████████████| 1/1 [00:00<00:00, 88.23it/s]\n",
      "8it [00:00, 223.55it/s]\n"
     ]
    },
    {
     "name": "stdout",
     "output_type": "stream",
     "text": [
      "Fitting 5 folds for each of 53 candidates, totalling 265 fits\n",
      "DQB1*05:03  -> Probability: 0.18037959286806865\t Final_classification: False\t AUC: 0.9932432432432432\t Accuracy: 0.8292682926829268\t Precision: 0.3636363636363636\t Sensitivity: 1.0\t Specificity: 0.8108108108108109\n",
      "No HLA-related TCRs have been found in your repertoire\n",
      "DQB1*06:01  -> Probability: N/A\t Final_classification: False\t AUC: 0.5\t Accuracy: 1\t Precision: 0\t Sensitivity: 0\t Specificity: 1\n"
     ]
    },
    {
     "name": "stderr",
     "output_type": "stream",
     "text": [
      "100%|█████████████████████████████████████████| 50/50 [00:00<00:00, 2128.18it/s]\n",
      "100%|█████████████████████████████████████████| 50/50 [00:00<00:00, 2540.34it/s]\n",
      "100%|█████████████████████████████████████████| 50/50 [00:00<00:00, 2674.36it/s]\n",
      "100%|█████████████████████████████████████████| 50/50 [00:00<00:00, 2749.82it/s]\n",
      "100%|█████████████████████████████████████████| 50/50 [00:00<00:00, 2950.58it/s]\n",
      "100%|█████████████████████████████████████████| 51/51 [00:00<00:00, 1524.65it/s]\n",
      "100%|█████████████████████████████████████████| 50/50 [00:00<00:00, 2785.99it/s]\n",
      "100%|█████████████████████████████████████████| 50/50 [00:00<00:00, 2924.98it/s]\n",
      "8it [00:00, 223.31it/s]\n",
      "100%|█████████████████████████████████████████| 51/51 [00:00<00:00, 1513.74it/s]\n",
      "100%|█████████████████████████████████████████| 50/50 [00:00<00:00, 1492.11it/s]\n",
      "100%|█████████████████████████████████████████| 50/50 [00:00<00:00, 1691.24it/s]\n",
      "100%|█████████████████████████████████████████| 50/50 [00:00<00:00, 1425.84it/s]\n",
      "100%|█████████████████████████████████████████| 50/50 [00:00<00:00, 1603.35it/s]\n",
      "100%|█████████████████████████████████████████| 50/50 [00:00<00:00, 1676.68it/s]\n",
      "100%|█████████████████████████████████████████| 50/50 [00:00<00:00, 1807.14it/s]\n",
      "100%|█████████████████████████████████████████| 50/50 [00:00<00:00, 2043.09it/s]\n",
      "8it [00:00, 115.03it/s]\n"
     ]
    },
    {
     "name": "stdout",
     "output_type": "stream",
     "text": [
      "Fitting 5 folds for each of 53 candidates, totalling 265 fits\n",
      "DQB1*06:02  -> Probability: 0.9999887508305956\t Final_classification: True\t AUC: 0.9962121212121212\t Accuracy: 0.902439024390244\t Precision: 0.6666666666666666\t Sensitivity: 1.0\t Specificity: 0.8787878787878788\n"
     ]
    },
    {
     "name": "stderr",
     "output_type": "stream",
     "text": [
      "100%|████████████████████████████████████████████| 4/4 [00:00<00:00, 586.14it/s]\n",
      "100%|████████████████████████████████████████████| 5/5 [00:00<00:00, 328.12it/s]\n",
      "100%|████████████████████████████████████████████| 4/4 [00:00<00:00, 273.69it/s]\n",
      "100%|████████████████████████████████████████████| 4/4 [00:00<00:00, 217.52it/s]\n",
      "100%|████████████████████████████████████████████| 4/4 [00:00<00:00, 543.43it/s]\n",
      "100%|████████████████████████████████████████████| 4/4 [00:00<00:00, 207.81it/s]\n",
      "100%|████████████████████████████████████████████| 4/4 [00:00<00:00, 451.27it/s]\n",
      "100%|████████████████████████████████████████████| 4/4 [00:00<00:00, 494.26it/s]\n",
      "8it [00:00, 183.39it/s]\n",
      "100%|████████████████████████████████████████████| 5/5 [00:00<00:00, 698.10it/s]\n",
      "100%|████████████████████████████████████████████| 4/4 [00:00<00:00, 668.89it/s]\n",
      "100%|████████████████████████████████████████████| 4/4 [00:00<00:00, 256.05it/s]\n",
      "100%|████████████████████████████████████████████| 4/4 [00:00<00:00, 383.92it/s]\n",
      "100%|████████████████████████████████████████████| 4/4 [00:00<00:00, 400.21it/s]\n",
      "100%|████████████████████████████████████████████| 4/4 [00:00<00:00, 357.63it/s]\n",
      "100%|████████████████████████████████████████████| 4/4 [00:00<00:00, 380.97it/s]\n",
      "100%|████████████████████████████████████████████| 4/4 [00:00<00:00, 968.33it/s]\n",
      "8it [00:00, 192.85it/s]\n"
     ]
    },
    {
     "name": "stdout",
     "output_type": "stream",
     "text": [
      "Fitting 5 folds for each of 53 candidates, totalling 265 fits\n",
      "DQB1*06:03  -> Probability: 0.00790209253693843\t Final_classification: False\t AUC: 1.0\t Accuracy: 0.951219512195122\t Precision: 0.7142857142857143\t Sensitivity: 1.0\t Specificity: 0.9444444444444444\n"
     ]
    },
    {
     "name": "stderr",
     "output_type": "stream",
     "text": [
      "100%|████████████████████████████████████████████| 1/1 [00:00<00:00, 145.45it/s]\n",
      "100%|█████████████████████████████████████████████| 1/1 [00:00<00:00, 82.99it/s]\n",
      "100%|█████████████████████████████████████████████| 1/1 [00:00<00:00, 69.50it/s]\n",
      "0it [00:00, ?it/s]\n",
      "100%|█████████████████████████████████████████████| 1/1 [00:00<00:00, 45.50it/s]\n",
      "0it [00:00, ?it/s]\n",
      "0it [00:00, ?it/s]\n",
      "100%|████████████████████████████████████████████| 1/1 [00:00<00:00, 100.41it/s]\n",
      "8it [00:00, 191.60it/s]\n",
      "100%|█████████████████████████████████████████████| 1/1 [00:00<00:00, 53.55it/s]\n",
      "100%|█████████████████████████████████████████████| 1/1 [00:00<00:00, 58.81it/s]\n",
      "100%|█████████████████████████████████████████████| 1/1 [00:00<00:00, 58.97it/s]\n",
      "100%|█████████████████████████████████████████████| 1/1 [00:00<00:00, 60.97it/s]\n",
      "0it [00:00, ?it/s]\n",
      "0it [00:00, ?it/s]\n",
      "100%|█████████████████████████████████████████████| 1/1 [00:00<00:00, 70.06it/s]\n",
      "0it [00:00, ?it/s]\n",
      "8it [00:00, 201.90it/s]\n"
     ]
    },
    {
     "name": "stdout",
     "output_type": "stream",
     "text": [
      "Fitting 5 folds for each of 53 candidates, totalling 265 fits\n",
      "DQB1*06:04  -> Probability: 0.09692081602824382\t Final_classification: False\t AUC: 1.0\t Accuracy: 0.975609756097561\t Precision: 0.75\t Sensitivity: 1.0\t Specificity: 0.9736842105263158\n"
     ]
    },
    {
     "name": "stderr",
     "output_type": "stream",
     "text": [
      "100%|██████████████████████████████████████████| 13/13 [00:00<00:00, 735.45it/s]\n",
      "100%|██████████████████████████████████████████| 13/13 [00:00<00:00, 793.96it/s]\n",
      "100%|██████████████████████████████████████████| 13/13 [00:00<00:00, 515.61it/s]\n",
      "100%|██████████████████████████████████████████| 13/13 [00:00<00:00, 729.36it/s]\n",
      "100%|██████████████████████████████████████████| 13/13 [00:00<00:00, 752.60it/s]\n",
      "100%|██████████████████████████████████████████| 12/12 [00:00<00:00, 740.10it/s]\n",
      "100%|██████████████████████████████████████████| 12/12 [00:00<00:00, 771.08it/s]\n",
      "100%|██████████████████████████████████████████| 12/12 [00:00<00:00, 812.52it/s]\n",
      "8it [00:00, 188.41it/s]\n",
      "100%|██████████████████████████████████████████| 13/13 [00:00<00:00, 973.96it/s]\n",
      "100%|██████████████████████████████████████████| 13/13 [00:00<00:00, 893.08it/s]\n",
      "100%|██████████████████████████████████████████| 13/13 [00:00<00:00, 734.58it/s]\n",
      "100%|██████████████████████████████████████████| 13/13 [00:00<00:00, 781.90it/s]\n",
      "100%|██████████████████████████████████████████| 13/13 [00:00<00:00, 957.20it/s]\n",
      "100%|█████████████████████████████████████████| 12/12 [00:00<00:00, 1095.29it/s]\n",
      "100%|█████████████████████████████████████████| 12/12 [00:00<00:00, 1137.05it/s]\n",
      "100%|█████████████████████████████████████████| 12/12 [00:00<00:00, 1180.97it/s]\n",
      "8it [00:00, 163.16it/s]\n"
     ]
    },
    {
     "name": "stdout",
     "output_type": "stream",
     "text": [
      "Fitting 5 folds for each of 53 candidates, totalling 265 fits\n",
      "DRB1*01:01  -> Probability: 0.0406002292740864\t Final_classification: False\t AUC: 0.9611111111111112\t Accuracy: 0.926829268292683\t Precision: 0.6666666666666666\t Sensitivity: 0.8\t Specificity: 0.9444444444444444\n"
     ]
    },
    {
     "name": "stderr",
     "output_type": "stream",
     "text": [
      "0it [00:00, ?it/s]                                        | 0/1 [00:00<?, ?it/s]\n",
      "100%|█████████████████████████████████████████████| 1/1 [00:00<00:00, 62.67it/s]\n",
      "100%|█████████████████████████████████████████████| 1/1 [00:00<00:00, 72.95it/s]\n",
      "100%|█████████████████████████████████████████████| 1/1 [00:00<00:00, 66.93it/s]\n",
      "0it [00:00, ?it/s]\n",
      "100%|█████████████████████████████████████████████| 1/1 [00:00<00:00, 76.32it/s]\n",
      "0it [00:00, ?it/s]\n",
      "0it [00:00, ?it/s]\n",
      "8it [00:00, 194.88it/s]\n",
      "100%|█████████████████████████████████████████████| 1/1 [00:00<00:00, 72.42it/s]\n",
      "100%|█████████████████████████████████████████████| 1/1 [00:00<00:00, 64.54it/s]\n",
      "100%|█████████████████████████████████████████████| 1/1 [00:00<00:00, 58.79it/s]\n",
      "0it [00:00, ?it/s]\n",
      "100%|█████████████████████████████████████████████| 1/1 [00:00<00:00, 65.10it/s]\n",
      "0it [00:00, ?it/s]\n",
      "0it [00:00, ?it/s]\n",
      "0it [00:00, ?it/s]\n",
      "8it [00:00, 205.35it/s]\n"
     ]
    },
    {
     "name": "stdout",
     "output_type": "stream",
     "text": [
      "Fitting 5 folds for each of 53 candidates, totalling 265 fits\n",
      "DRB1*01:02  -> Probability: 0.09794612452923869\t Final_classification: False\t AUC: 1.0\t Accuracy: 0.8780487804878049\t Precision: 0.1666666666666666\t Sensitivity: 1.0\t Specificity: 0.875\n",
      "No HLA-related TCRs have been found in your repertoire\n",
      "DRB1*01:03  -> Probability: N/A\t Final_classification: False\t AUC: 0.5\t Accuracy: 1\t Precision: 0\t Sensitivity: 0\t Specificity: 1\n"
     ]
    },
    {
     "name": "stderr",
     "output_type": "stream",
     "text": [
      "100%|█████████████████████████████████████████| 59/59 [00:00<00:00, 3150.36it/s]\n",
      "100%|█████████████████████████████████████████| 59/59 [00:00<00:00, 2437.90it/s]\n",
      "100%|█████████████████████████████████████████| 59/59 [00:00<00:00, 2877.15it/s]\n",
      "100%|█████████████████████████████████████████| 59/59 [00:00<00:00, 2742.32it/s]\n",
      "100%|█████████████████████████████████████████| 59/59 [00:00<00:00, 2904.47it/s]\n",
      "100%|█████████████████████████████████████████| 59/59 [00:00<00:00, 3052.55it/s]\n",
      "100%|█████████████████████████████████████████| 59/59 [00:00<00:00, 3280.23it/s]\n",
      "100%|█████████████████████████████████████████| 58/58 [00:00<00:00, 3308.44it/s]\n",
      "8it [00:00, 171.54it/s]\n",
      "100%|█████████████████████████████████████████| 59/59 [00:00<00:00, 1754.54it/s]\n",
      "100%|█████████████████████████████████████████| 59/59 [00:00<00:00, 1745.90it/s]\n",
      "100%|█████████████████████████████████████████| 59/59 [00:00<00:00, 1476.53it/s]\n",
      "100%|█████████████████████████████████████████| 59/59 [00:00<00:00, 1799.66it/s]\n",
      "100%|█████████████████████████████████████████| 59/59 [00:00<00:00, 1408.10it/s]\n",
      "100%|█████████████████████████████████████████| 59/59 [00:00<00:00, 1808.46it/s]\n",
      "100%|█████████████████████████████████████████| 59/59 [00:00<00:00, 1794.53it/s]\n",
      "100%|█████████████████████████████████████████| 58/58 [00:00<00:00, 1967.64it/s]\n",
      "8it [00:00, 108.04it/s]\n"
     ]
    },
    {
     "name": "stdout",
     "output_type": "stream",
     "text": [
      "Fitting 5 folds for each of 53 candidates, totalling 265 fits\n",
      "DRB1*03:01  -> Probability: 0.9998667305598883\t Final_classification: True\t AUC: 1.0\t Accuracy: 1.0\t Precision: 1.0\t Sensitivity: 1.0\t Specificity: 1.0\n"
     ]
    },
    {
     "name": "stderr",
     "output_type": "stream",
     "text": [
      "100%|██████████████████████████████████████████| 14/14 [00:00<00:00, 789.61it/s]\n",
      "100%|██████████████████████████████████████████| 14/14 [00:00<00:00, 749.99it/s]\n",
      "100%|██████████████████████████████████████████| 13/13 [00:00<00:00, 737.83it/s]\n",
      "100%|██████████████████████████████████████████| 13/13 [00:00<00:00, 754.67it/s]\n",
      "100%|██████████████████████████████████████████| 13/13 [00:00<00:00, 800.82it/s]\n",
      "100%|██████████████████████████████████████████| 13/13 [00:00<00:00, 836.17it/s]\n",
      "100%|██████████████████████████████████████████| 14/14 [00:00<00:00, 945.90it/s]\n",
      "100%|█████████████████████████████████████████| 13/13 [00:00<00:00, 1036.44it/s]\n",
      "8it [00:00, 190.82it/s]\n",
      "100%|█████████████████████████████████████████| 14/14 [00:00<00:00, 1052.92it/s]\n",
      "100%|█████████████████████████████████████████| 14/14 [00:00<00:00, 1120.32it/s]\n",
      "100%|██████████████████████████████████████████| 14/14 [00:00<00:00, 863.99it/s]\n",
      "100%|██████████████████████████████████████████| 13/13 [00:00<00:00, 737.38it/s]\n",
      "100%|██████████████████████████████████████████| 13/13 [00:00<00:00, 769.22it/s]\n",
      "100%|█████████████████████████████████████████| 13/13 [00:00<00:00, 1175.33it/s]\n",
      "100%|█████████████████████████████████████████| 13/13 [00:00<00:00, 1228.39it/s]\n",
      "100%|█████████████████████████████████████████| 13/13 [00:00<00:00, 1400.22it/s]\n",
      "8it [00:00, 173.04it/s]\n"
     ]
    },
    {
     "name": "stdout",
     "output_type": "stream",
     "text": [
      "Fitting 5 folds for each of 53 candidates, totalling 265 fits\n",
      "DRB1*04:01  -> Probability: 0.00443574267435226\t Final_classification: False\t AUC: 0.9594594594594594\t Accuracy: 0.7317073170731707\t Precision: 0.2666666666666666\t Sensitivity: 1.0\t Specificity: 0.7027027027027027\n"
     ]
    },
    {
     "name": "stderr",
     "output_type": "stream",
     "text": [
      "100%|████████████████████████████████████████████| 3/3 [00:00<00:00, 272.61it/s]\n",
      "100%|████████████████████████████████████████████| 3/3 [00:00<00:00, 223.44it/s]\n",
      "100%|████████████████████████████████████████████| 2/2 [00:00<00:00, 126.16it/s]\n",
      "100%|████████████████████████████████████████████| 2/2 [00:00<00:00, 110.17it/s]\n",
      "100%|████████████████████████████████████████████| 2/2 [00:00<00:00, 113.33it/s]\n",
      "100%|████████████████████████████████████████████| 2/2 [00:00<00:00, 140.38it/s]\n",
      "100%|████████████████████████████████████████████| 2/2 [00:00<00:00, 177.11it/s]\n",
      "100%|████████████████████████████████████████████| 2/2 [00:00<00:00, 235.42it/s]\n",
      "8it [00:00, 189.81it/s]\n",
      "100%|████████████████████████████████████████████| 3/3 [00:00<00:00, 514.85it/s]\n",
      "100%|████████████████████████████████████████████| 3/3 [00:00<00:00, 264.86it/s]\n",
      "100%|████████████████████████████████████████████| 2/2 [00:00<00:00, 162.01it/s]\n",
      "100%|████████████████████████████████████████████| 2/2 [00:00<00:00, 117.43it/s]\n",
      "100%|████████████████████████████████████████████| 2/2 [00:00<00:00, 172.24it/s]\n",
      "100%|████████████████████████████████████████████| 2/2 [00:00<00:00, 184.25it/s]\n",
      "100%|████████████████████████████████████████████| 2/2 [00:00<00:00, 193.43it/s]\n",
      "100%|████████████████████████████████████████████| 2/2 [00:00<00:00, 339.62it/s]\n",
      "8it [00:00, 201.32it/s]\n"
     ]
    },
    {
     "name": "stdout",
     "output_type": "stream",
     "text": [
      "Fitting 5 folds for each of 53 candidates, totalling 265 fits\n",
      "DRB1*04:04  -> Probability: 0.09650491786219714\t Final_classification: False\t AUC: 0.975\t Accuracy: 0.975609756097561\t Precision: 0.5\t Sensitivity: 1.0\t Specificity: 0.975\n",
      "No HLA-related TCRs have been found in your repertoire\n",
      "DRB1*04:05  -> Probability: N/A\t Final_classification: False\t AUC: 0.5\t Accuracy: 1\t Precision: 0\t Sensitivity: 0\t Specificity: 1\n",
      "No HLA-related TCRs have been found in your repertoire\n",
      "DRB1*04:08  -> Probability: N/A\t Final_classification: False\t AUC: 0.5\t Accuracy: 1\t Precision: 0\t Sensitivity: 0\t Specificity: 1\n"
     ]
    },
    {
     "name": "stderr",
     "output_type": "stream",
     "text": [
      "100%|██████████████████████████████████████████| 10/10 [00:00<00:00, 569.99it/s]\n",
      "100%|██████████████████████████████████████████| 10/10 [00:00<00:00, 579.37it/s]\n",
      "100%|██████████████████████████████████████████| 10/10 [00:00<00:00, 629.44it/s]\n",
      "100%|██████████████████████████████████████████| 10/10 [00:00<00:00, 569.65it/s]\n",
      "100%|██████████████████████████████████████████| 10/10 [00:00<00:00, 589.08it/s]\n",
      "100%|██████████████████████████████████████████| 10/10 [00:00<00:00, 623.26it/s]\n",
      "100%|████████████████████████████████████████████| 9/9 [00:00<00:00, 610.07it/s]\n",
      "100%|███████████████████████████████████████████| 9/9 [00:00<00:00, 1104.80it/s]\n",
      "8it [00:00, 192.95it/s]\n",
      "100%|██████████████████████████████████████████| 10/10 [00:00<00:00, 805.67it/s]\n",
      "100%|█████████████████████████████████████████| 10/10 [00:00<00:00, 1256.61it/s]\n",
      "100%|██████████████████████████████████████████| 10/10 [00:00<00:00, 541.82it/s]\n",
      "100%|██████████████████████████████████████████| 10/10 [00:00<00:00, 606.24it/s]\n",
      "100%|██████████████████████████████████████████| 10/10 [00:00<00:00, 623.87it/s]\n",
      "100%|██████████████████████████████████████████| 10/10 [00:00<00:00, 874.56it/s]\n",
      "100%|████████████████████████████████████████████| 9/9 [00:00<00:00, 826.26it/s]\n",
      "100%|███████████████████████████████████████████| 9/9 [00:00<00:00, 1057.00it/s]\n",
      "8it [00:00, 179.04it/s]\n"
     ]
    },
    {
     "name": "stdout",
     "output_type": "stream",
     "text": [
      "Fitting 5 folds for each of 53 candidates, totalling 265 fits\n",
      "DRB1*07:01  -> Probability: 0.1762114468810478\t Final_classification: False\t AUC: 1.0\t Accuracy: 1.0\t Precision: 1.0\t Sensitivity: 1.0\t Specificity: 1.0\n"
     ]
    },
    {
     "name": "stderr",
     "output_type": "stream",
     "text": [
      "100%|█████████████████████████████████████████████| 1/1 [00:00<00:00, 87.04it/s]\n",
      "100%|█████████████████████████████████████████████| 1/1 [00:00<00:00, 53.79it/s]\n",
      "100%|█████████████████████████████████████████████| 1/1 [00:00<00:00, 56.45it/s]\n",
      "100%|█████████████████████████████████████████████| 1/1 [00:00<00:00, 58.85it/s]\n",
      "0it [00:00, ?it/s]\n",
      "0it [00:00, ?it/s]\n",
      "0it [00:00, ?it/s]\n",
      "100%|█████████████████████████████████████████████| 1/1 [00:00<00:00, 82.28it/s]\n",
      "8it [00:00, 212.72it/s]\n",
      "100%|█████████████████████████████████████████████| 1/1 [00:00<00:00, 55.02it/s]\n",
      "100%|█████████████████████████████████████████████| 1/1 [00:00<00:00, 58.02it/s]\n",
      "100%|█████████████████████████████████████████████| 1/1 [00:00<00:00, 59.90it/s]\n",
      "0it [00:00, ?it/s]\n",
      "100%|█████████████████████████████████████████████| 1/1 [00:00<00:00, 64.85it/s]\n",
      "0it [00:00, ?it/s]\n",
      "100%|█████████████████████████████████████████████| 1/1 [00:00<00:00, 69.62it/s]\n",
      "0it [00:00, ?it/s]\n",
      "8it [00:00, 199.99it/s]\n"
     ]
    },
    {
     "name": "stdout",
     "output_type": "stream",
     "text": [
      "Fitting 5 folds for each of 53 candidates, totalling 265 fits\n",
      "DRB1*08:01  -> Probability: 0.00020487963255691252\t Final_classification: False\t AUC: 1.0\t Accuracy: 0.951219512195122\t Precision: 0.3333333333333333\t Sensitivity: 1.0\t Specificity: 0.95\n",
      "No HLA-related TCRs have been found in your repertoire\n",
      "DRB1*08:03  -> Probability: N/A\t Final_classification: False\t AUC: 0.5\t Accuracy: 1\t Precision: 0\t Sensitivity: 0\t Specificity: 1\n",
      "No HLA-related TCRs have been found in your repertoire\n",
      "DRB1*08:04  -> Probability: N/A\t Final_classification: False\t AUC: 0.5\t Accuracy: 1\t Precision: 0\t Sensitivity: 0\t Specificity: 1\n"
     ]
    },
    {
     "name": "stderr",
     "output_type": "stream",
     "text": [
      "100%|█████████████████████████████████████████████| 1/1 [00:00<00:00, 72.67it/s]\n",
      "0it [00:00, ?it/s]\n",
      "100%|█████████████████████████████████████████████| 1/1 [00:00<00:00, 50.97it/s]\n",
      "0it [00:00, ?it/s]\n",
      "0it [00:00, ?it/s]\n",
      "0it [00:00, ?it/s]\n",
      "0it [00:00, ?it/s]\n",
      "0it [00:00, ?it/s]\n",
      "8it [00:00, 211.43it/s]\n",
      "100%|█████████████████████████████████████████████| 1/1 [00:00<00:00, 95.77it/s]\n",
      "0it [00:00, ?it/s]\n",
      "0it [00:00, ?it/s]\n",
      "0it [00:00, ?it/s]\n",
      "100%|█████████████████████████████████████████████| 1/1 [00:00<00:00, 60.11it/s]\n",
      "0it [00:00, ?it/s]\n",
      "0it [00:00, ?it/s]\n",
      "0it [00:00, ?it/s]\n",
      "8it [00:00, 230.04it/s]\n"
     ]
    },
    {
     "name": "stdout",
     "output_type": "stream",
     "text": [
      "Fitting 5 folds for each of 53 candidates, totalling 265 fits\n",
      "DRB1*09:01  -> Probability: 0.01235338068419141\t Final_classification: False\t AUC: 1.0\t Accuracy: 0.8780487804878049\t Precision: 0.1666666666666666\t Sensitivity: 1.0\t Specificity: 0.875\n"
     ]
    },
    {
     "name": "stderr",
     "output_type": "stream",
     "text": [
      "100%|████████████████████████████████████████████| 3/3 [00:00<00:00, 217.23it/s]\n",
      "100%|████████████████████████████████████████████| 3/3 [00:00<00:00, 288.73it/s]\n",
      "100%|████████████████████████████████████████████| 3/3 [00:00<00:00, 144.34it/s]\n",
      "100%|████████████████████████████████████████████| 3/3 [00:00<00:00, 156.51it/s]\n",
      "100%|████████████████████████████████████████████| 2/2 [00:00<00:00, 126.76it/s]\n",
      "100%|████████████████████████████████████████████| 3/3 [00:00<00:00, 200.93it/s]\n",
      "100%|████████████████████████████████████████████| 3/3 [00:00<00:00, 208.51it/s]\n",
      "100%|████████████████████████████████████████████| 3/3 [00:00<00:00, 371.22it/s]\n",
      "8it [00:00, 196.63it/s]\n",
      "100%|████████████████████████████████████████████| 3/3 [00:00<00:00, 329.86it/s]\n",
      "100%|████████████████████████████████████████████| 3/3 [00:00<00:00, 364.79it/s]\n",
      "100%|████████████████████████████████████████████| 3/3 [00:00<00:00, 191.74it/s]\n",
      "100%|████████████████████████████████████████████| 3/3 [00:00<00:00, 208.46it/s]\n",
      "100%|████████████████████████████████████████████| 3/3 [00:00<00:00, 255.14it/s]\n",
      "100%|████████████████████████████████████████████| 2/2 [00:00<00:00, 186.08it/s]\n",
      "100%|████████████████████████████████████████████| 3/3 [00:00<00:00, 290.98it/s]\n",
      "100%|████████████████████████████████████████████| 3/3 [00:00<00:00, 512.81it/s]\n",
      "8it [00:00, 194.99it/s]\n"
     ]
    },
    {
     "name": "stdout",
     "output_type": "stream",
     "text": [
      "Fitting 5 folds for each of 53 candidates, totalling 265 fits\n",
      "DRB1*11:01  -> Probability: 0.19279470905862955\t Final_classification: False\t AUC: 0.9054054054054054\t Accuracy: 0.8048780487804879\t Precision: 0.3\t Sensitivity: 0.75\t Specificity: 0.8108108108108109\n",
      "No HLA-related TCRs have been found in your repertoire\n",
      "DRB1*11:04  -> Probability: N/A\t Final_classification: False\t AUC: 0.5\t Accuracy: 1\t Precision: 0\t Sensitivity: 0\t Specificity: 1\n"
     ]
    },
    {
     "name": "stderr",
     "output_type": "stream",
     "text": [
      "100%|████████████████████████████████████████████| 4/4 [00:00<00:00, 457.73it/s]\n",
      "100%|████████████████████████████████████████████| 4/4 [00:00<00:00, 234.25it/s]\n",
      "100%|████████████████████████████████████████████| 3/3 [00:00<00:00, 296.42it/s]\n",
      "100%|████████████████████████████████████████████| 4/4 [00:00<00:00, 265.67it/s]\n",
      "100%|████████████████████████████████████████████| 4/4 [00:00<00:00, 179.14it/s]\n",
      "100%|████████████████████████████████████████████| 3/3 [00:00<00:00, 222.16it/s]\n",
      "100%|████████████████████████████████████████████| 3/3 [00:00<00:00, 239.62it/s]\n",
      "100%|████████████████████████████████████████████| 3/3 [00:00<00:00, 299.41it/s]\n",
      "8it [00:00, 206.88it/s]\n",
      "100%|████████████████████████████████████████████| 4/4 [00:00<00:00, 280.50it/s]\n",
      "100%|████████████████████████████████████████████| 4/4 [00:00<00:00, 219.46it/s]\n",
      "100%|████████████████████████████████████████████| 3/3 [00:00<00:00, 174.44it/s]\n",
      "100%|████████████████████████████████████████████| 4/4 [00:00<00:00, 241.42it/s]\n",
      "100%|████████████████████████████████████████████| 3/3 [00:00<00:00, 185.99it/s]\n",
      "100%|████████████████████████████████████████████| 4/4 [00:00<00:00, 260.74it/s]\n",
      "100%|████████████████████████████████████████████| 3/3 [00:00<00:00, 238.53it/s]\n",
      "100%|████████████████████████████████████████████| 3/3 [00:00<00:00, 250.13it/s]\n",
      "8it [00:00, 187.99it/s]\n"
     ]
    },
    {
     "name": "stdout",
     "output_type": "stream",
     "text": [
      "Fitting 5 folds for each of 53 candidates, totalling 265 fits\n",
      "DRB1*13:01  -> Probability: 0.0008251976153042666\t Final_classification: False\t AUC: 1.0\t Accuracy: 0.8780487804878049\t Precision: 0.5\t Sensitivity: 1.0\t Specificity: 0.8611111111111112\n"
     ]
    },
    {
     "name": "stderr",
     "output_type": "stream",
     "text": [
      "100%|█████████████████████████████████████████████| 1/1 [00:00<00:00, 50.73it/s]\n",
      "100%|████████████████████████████████████████████| 1/1 [00:00<00:00, 131.19it/s]\n",
      "100%|█████████████████████████████████████████████| 1/1 [00:00<00:00, 55.05it/s]\n",
      "100%|█████████████████████████████████████████████| 1/1 [00:00<00:00, 56.85it/s]\n",
      "100%|█████████████████████████████████████████████| 1/1 [00:00<00:00, 59.88it/s]\n",
      "100%|█████████████████████████████████████████████| 2/2 [00:00<00:00, 72.88it/s]\n",
      "100%|█████████████████████████████████████████████| 1/1 [00:00<00:00, 66.31it/s]\n",
      "100%|█████████████████████████████████████████████| 1/1 [00:00<00:00, 68.23it/s]\n",
      "8it [00:00, 192.32it/s]\n",
      "100%|████████████████████████████████████████████| 2/2 [00:00<00:00, 531.16it/s]\n",
      "100%|████████████████████████████████████████████| 1/1 [00:00<00:00, 125.79it/s]\n",
      "100%|█████████████████████████████████████████████| 1/1 [00:00<00:00, 64.16it/s]\n",
      "100%|█████████████████████████████████████████████| 1/1 [00:00<00:00, 43.43it/s]\n",
      "100%|█████████████████████████████████████████████| 1/1 [00:00<00:00, 72.07it/s]\n",
      "100%|█████████████████████████████████████████████| 1/1 [00:00<00:00, 73.49it/s]\n",
      "100%|█████████████████████████████████████████████| 1/1 [00:00<00:00, 77.78it/s]\n",
      "100%|█████████████████████████████████████████████| 1/1 [00:00<00:00, 99.22it/s]\n",
      "8it [00:00, 191.68it/s]\n"
     ]
    },
    {
     "name": "stdout",
     "output_type": "stream",
     "text": [
      "Fitting 5 folds for each of 53 candidates, totalling 265 fits\n",
      "DRB1*13:02  -> Probability: 0.031065061724020696\t Final_classification: False\t AUC: 1.0\t Accuracy: 0.975609756097561\t Precision: 0.8\t Sensitivity: 1.0\t Specificity: 0.972972972972973\n",
      "No HLA-related TCRs have been found in your repertoire\n",
      "DRB1*13:03  -> Probability: N/A\t Final_classification: False\t AUC: 0.5\t Accuracy: 1\t Precision: 0\t Sensitivity: 0\t Specificity: 1\n"
     ]
    },
    {
     "name": "stderr",
     "output_type": "stream",
     "text": [
      "100%|████████████████████████████████████████████| 1/1 [00:00<00:00, 376.91it/s]\n",
      "0it [00:00, ?it/s]                                        | 0/1 [00:00<?, ?it/s]\n",
      "100%|█████████████████████████████████████████████| 1/1 [00:00<00:00, 63.58it/s]\n",
      "100%|█████████████████████████████████████████████| 1/1 [00:00<00:00, 67.42it/s]\n",
      "0it [00:00, ?it/s]\n",
      "0it [00:00, ?it/s]\n",
      "0it [00:00, ?it/s]\n",
      "0it [00:00, ?it/s]\n",
      "8it [00:00, 215.37it/s]\n",
      "100%|████████████████████████████████████████████| 1/1 [00:00<00:00, 190.39it/s]\n",
      "100%|█████████████████████████████████████████████| 1/1 [00:00<00:00, 66.96it/s]\n",
      "100%|█████████████████████████████████████████████| 1/1 [00:00<00:00, 67.91it/s]\n",
      "0it [00:00, ?it/s]\n",
      "0it [00:00, ?it/s]\n",
      "0it [00:00, ?it/s]\n",
      "0it [00:00, ?it/s]\n",
      "0it [00:00, ?it/s]\n",
      "8it [00:00, 242.77it/s]\n"
     ]
    },
    {
     "name": "stdout",
     "output_type": "stream",
     "text": [
      "Fitting 5 folds for each of 53 candidates, totalling 265 fits\n",
      "DRB1*14:01  -> Probability: 0.0009994954311992824\t Final_classification: False\t AUC: 1.0\t Accuracy: 1.0\t Precision: 1.0\t Sensitivity: 1.0\t Specificity: 1.0\n",
      "No HLA-related TCRs have been found in your repertoire\n",
      "DRB1*14:04  -> Probability: N/A\t Final_classification: False\t AUC: 0.5\t Accuracy: 1\t Precision: 0\t Sensitivity: 0\t Specificity: 1\n"
     ]
    },
    {
     "name": "stderr",
     "output_type": "stream",
     "text": [
      "100%|█████████████████████████████████████████| 67/67 [00:00<00:00, 2664.01it/s]\n",
      "100%|█████████████████████████████████████████| 67/67 [00:00<00:00, 2647.32it/s]\n",
      "100%|█████████████████████████████████████████| 67/67 [00:00<00:00, 2640.18it/s]\n",
      "100%|█████████████████████████████████████████| 67/67 [00:00<00:00, 2724.26it/s]\n",
      "100%|█████████████████████████████████████████| 67/67 [00:00<00:00, 3238.43it/s]\n",
      "100%|█████████████████████████████████████████| 66/66 [00:00<00:00, 2621.46it/s]\n",
      "100%|█████████████████████████████████████████| 66/66 [00:00<00:00, 3179.22it/s]\n",
      "100%|█████████████████████████████████████████| 67/67 [00:00<00:00, 4093.32it/s]\n",
      "8it [00:00, 163.73it/s]\n",
      "  0%|                                                    | 0/66 [00:00<?, ?it/s]\n",
      "100%|█████████████████████████████████████████| 67/67 [00:00<00:00, 1556.85it/s]\n",
      "100%|█████████████████████████████████████████| 67/67 [00:00<00:00, 1494.58it/s]\n",
      "100%|█████████████████████████████████████████| 67/67 [00:00<00:00, 1534.57it/s]\n",
      "100%|█████████████████████████████████████████| 67/67 [00:00<00:00, 1564.95it/s]\n",
      "100%|█████████████████████████████████████████| 67/67 [00:00<00:00, 1764.18it/s]\n",
      "100%|█████████████████████████████████████████| 66/66 [00:00<00:00, 1827.03it/s]\n",
      "100%|█████████████████████████████████████████| 66/66 [00:00<00:00, 1390.85it/s]\n",
      "8it [00:00, 81.60it/s]\n"
     ]
    },
    {
     "name": "stdout",
     "output_type": "stream",
     "text": [
      "Fitting 5 folds for each of 53 candidates, totalling 265 fits\n",
      "DRB1*15:01  -> Probability: 0.9999961571641421\t Final_classification: True\t AUC: 1.0\t Accuracy: 0.902439024390244\t Precision: 0.7142857142857143\t Sensitivity: 1.0\t Specificity: 0.8709677419354839\n"
     ]
    },
    {
     "name": "stderr",
     "output_type": "stream",
     "text": [
      "100%|████████████████████████████████████████████| 1/1 [00:00<00:00, 167.89it/s]\n",
      "100%|█████████████████████████████████████████████| 1/1 [00:00<00:00, 56.42it/s]\n",
      "0it [00:00, ?it/s]\n",
      "0it [00:00, ?it/s]\n",
      "0it [00:00, ?it/s]\n",
      "0it [00:00, ?it/s]\n",
      "0it [00:00, ?it/s]\n",
      "0it [00:00, ?it/s]\n",
      "8it [00:00, 210.78it/s]\n",
      "100%|█████████████████████████████████████████████| 1/1 [00:00<00:00, 61.20it/s]\n",
      "100%|█████████████████████████████████████████████| 1/1 [00:00<00:00, 67.42it/s]\n",
      "0it [00:00, ?it/s]\n",
      "0it [00:00, ?it/s]\n",
      "0it [00:00, ?it/s]\n",
      "0it [00:00, ?it/s]\n",
      "0it [00:00, ?it/s]\n",
      "0it [00:00, ?it/s]\n",
      "8it [00:00, 237.23it/s]\n"
     ]
    },
    {
     "name": "stdout",
     "output_type": "stream",
     "text": [
      "Fitting 5 folds for each of 53 candidates, totalling 265 fits\n",
      "DRB1*15:02  -> Probability: 0.10581744807806967\t Final_classification: False\t AUC: 0.9560810810810813\t Accuracy: 0.926829268292683\t Precision: 0.6\t Sensitivity: 0.75\t Specificity: 0.945945945945946\n"
     ]
    },
    {
     "name": "stderr",
     "output_type": "stream",
     "text": [
      "0it [00:00, ?it/s]                                        | 0/1 [00:00<?, ?it/s]\n",
      "100%|█████████████████████████████████████████████| 1/1 [00:00<00:00, 70.18it/s]\n",
      "0it [00:00, ?it/s]\n",
      "0it [00:00, ?it/s]\n",
      "0it [00:00, ?it/s]\n",
      "0it [00:00, ?it/s]\n",
      "0it [00:00, ?it/s]\n",
      "0it [00:00, ?it/s]\n",
      "8it [00:00, 191.48it/s]\n",
      "0it [00:00, ?it/s]                                        | 0/1 [00:00<?, ?it/s]\n",
      "0it [00:00, ?it/s]\n",
      "0it [00:00, ?it/s]\n",
      "0it [00:00, ?it/s]\n",
      "100%|█████████████████████████████████████████████| 1/1 [00:00<00:00, 39.22it/s]\n",
      "0it [00:00, ?it/s]\n",
      "0it [00:00, ?it/s]\n",
      "0it [00:00, ?it/s]\n",
      "8it [00:00, 203.62it/s]\n"
     ]
    },
    {
     "name": "stdout",
     "output_type": "stream",
     "text": [
      "Fitting 5 folds for each of 53 candidates, totalling 265 fits\n",
      "DRB1*16:01  -> Probability: 0.20756937443938542\t Final_classification: False\t AUC: 0.9912280701754388\t Accuracy: 0.975609756097561\t Precision: 0.75\t Sensitivity: 1.0\t Specificity: 0.9736842105263158\n",
      "No HLA-related TCRs have been found in your repertoire\n",
      "DRB1*16:02  -> Probability: N/A\t Final_classification: False\t AUC: 0.5\t Accuracy: 1\t Precision: 0\t Sensitivity: 0\t Specificity: 1\n"
     ]
    }
   ],
   "source": [
    "df_final_params = pd.DataFrame()\n",
    "    \n",
    "non_empty = [p for p in dm.ps if p]\n",
    "unique_ps = list({tuple(p) for p in non_empty})\n",
    "unique_ps = [list(p) for p in unique_ps]\n",
    "\n",
    "for p in unique_ps:\n",
    "    print(p)\n",
    "            \n",
    "    print('Individual ' +p[0]+ ':')\n",
    "\n",
    "    for hla_target in hla_set:\n",
    "\n",
    "        ev = GetProbabilities(hla_target,chain,hla_threshold,dm.ps,dm.data_test,grouping,untyped)\n",
    "        params = ev.classifier_params(df_param,hla_target)\n",
    "        df = mt.print_params(hla_target,ev.hla_prob,params,p[0],ev.hla_output)\n",
    "        df_final_params = pd.concat([df,df_final_params],ignore_index=True)"
   ]
  },
  {
   "cell_type": "code",
   "execution_count": null,
   "id": "fe8ceb5d",
   "metadata": {},
   "outputs": [],
   "source": [
    "17_B\tDQB1*02:01\talpha+beta\n",
    "17_B\tDQB1*06:02\talpha+beta\n",
    "17_B\tDQA1*01:02\talpha+beta\n",
    "17_B\tDQA1*05:01\talpha+beta\n",
    "17_B\tA*01:01\talpha+beta\n",
    "17_B\tA*02:01\talpha+beta\n",
    "17_B\tB*07:02\talpha+beta\n",
    "17_B\tB*08:01\talpha+beta\n",
    "17_B\tC*07:01\talpha+beta\n",
    "17_B\tC*07:02\talpha+beta\n",
    "17_B\tDPB1*04:02\talpha+beta\n",
    "17_B\tDPB1*04:02\talpha+beta\n",
    "17_B\tDRB1*03:01\talpha+beta\n",
    "17_B\tDRB1*15:01\talpha+beta"
   ]
  },
  {
   "cell_type": "code",
   "execution_count": 9,
   "id": "83c2bd24",
   "metadata": {},
   "outputs": [
    {
     "data": {
      "text/html": [
       "<div>\n",
       "<style scoped>\n",
       "    .dataframe tbody tr th:only-of-type {\n",
       "        vertical-align: middle;\n",
       "    }\n",
       "\n",
       "    .dataframe tbody tr th {\n",
       "        vertical-align: top;\n",
       "    }\n",
       "\n",
       "    .dataframe thead th {\n",
       "        text-align: right;\n",
       "    }\n",
       "</style>\n",
       "<table border=\"1\" class=\"dataframe\">\n",
       "  <thead>\n",
       "    <tr style=\"text-align: right;\">\n",
       "      <th></th>\n",
       "      <th>HLA</th>\n",
       "      <th>Probability</th>\n",
       "      <th>Final_classification</th>\n",
       "      <th>AUC</th>\n",
       "      <th>Accuracy</th>\n",
       "      <th>Precision</th>\n",
       "      <th>Sensitivity</th>\n",
       "      <th>Specificity</th>\n",
       "      <th>Individual_ID</th>\n",
       "    </tr>\n",
       "  </thead>\n",
       "  <tbody>\n",
       "    <tr>\n",
       "      <th>3</th>\n",
       "      <td>DRB1*15:01</td>\n",
       "      <td>1.0</td>\n",
       "      <td>True</td>\n",
       "      <td>1.0</td>\n",
       "      <td>0.902439</td>\n",
       "      <td>0.714286</td>\n",
       "      <td>1.0</td>\n",
       "      <td>0.870968</td>\n",
       "      <td>17_B</td>\n",
       "    </tr>\n",
       "    <tr>\n",
       "      <th>20</th>\n",
       "      <td>DRB1*03:01</td>\n",
       "      <td>0.999969</td>\n",
       "      <td>True</td>\n",
       "      <td>1.0</td>\n",
       "      <td>1.0</td>\n",
       "      <td>1.0</td>\n",
       "      <td>1.0</td>\n",
       "      <td>1.0</td>\n",
       "      <td>17_B</td>\n",
       "    </tr>\n",
       "    <tr>\n",
       "      <th>26</th>\n",
       "      <td>DQB1*06:02</td>\n",
       "      <td>0.999964</td>\n",
       "      <td>True</td>\n",
       "      <td>0.996212</td>\n",
       "      <td>0.902439</td>\n",
       "      <td>0.666667</td>\n",
       "      <td>1.0</td>\n",
       "      <td>0.878788</td>\n",
       "      <td>17_B</td>\n",
       "    </tr>\n",
       "    <tr>\n",
       "      <th>38</th>\n",
       "      <td>DQB1*02:01</td>\n",
       "      <td>1.0</td>\n",
       "      <td>True</td>\n",
       "      <td>1.0</td>\n",
       "      <td>0.97561</td>\n",
       "      <td>0.909091</td>\n",
       "      <td>1.0</td>\n",
       "      <td>0.967742</td>\n",
       "      <td>17_B</td>\n",
       "    </tr>\n",
       "    <tr>\n",
       "      <th>40</th>\n",
       "      <td>DQA1*05:01</td>\n",
       "      <td>1.0</td>\n",
       "      <td>True</td>\n",
       "      <td>1.0</td>\n",
       "      <td>0.97561</td>\n",
       "      <td>0.9</td>\n",
       "      <td>1.0</td>\n",
       "      <td>0.96875</td>\n",
       "      <td>17_B</td>\n",
       "    </tr>\n",
       "    <tr>\n",
       "      <th>48</th>\n",
       "      <td>DQA1*01:02</td>\n",
       "      <td>0.999995</td>\n",
       "      <td>True</td>\n",
       "      <td>0.822967</td>\n",
       "      <td>0.804878</td>\n",
       "      <td>0.789474</td>\n",
       "      <td>0.789474</td>\n",
       "      <td>0.818182</td>\n",
       "      <td>17_B</td>\n",
       "    </tr>\n",
       "    <tr>\n",
       "      <th>55</th>\n",
       "      <td>DPB1*04:02</td>\n",
       "      <td>1.0</td>\n",
       "      <td>True</td>\n",
       "      <td>0.97619</td>\n",
       "      <td>0.878049</td>\n",
       "      <td>0.545455</td>\n",
       "      <td>1.0</td>\n",
       "      <td>0.857143</td>\n",
       "      <td>17_B</td>\n",
       "    </tr>\n",
       "    <tr>\n",
       "      <th>56</th>\n",
       "      <td>DPB1*04:01</td>\n",
       "      <td>0.986079</td>\n",
       "      <td>True</td>\n",
       "      <td>0.904762</td>\n",
       "      <td>0.804878</td>\n",
       "      <td>0.787879</td>\n",
       "      <td>0.962963</td>\n",
       "      <td>0.5</td>\n",
       "      <td>17_B</td>\n",
       "    </tr>\n",
       "    <tr>\n",
       "      <th>67</th>\n",
       "      <td>C*07:02</td>\n",
       "      <td>0.999548</td>\n",
       "      <td>True</td>\n",
       "      <td>0.971264</td>\n",
       "      <td>0.878049</td>\n",
       "      <td>0.733333</td>\n",
       "      <td>0.916667</td>\n",
       "      <td>0.862069</td>\n",
       "      <td>17_B</td>\n",
       "    </tr>\n",
       "    <tr>\n",
       "      <th>68</th>\n",
       "      <td>C*07:01</td>\n",
       "      <td>0.999996</td>\n",
       "      <td>True</td>\n",
       "      <td>0.890323</td>\n",
       "      <td>0.926829</td>\n",
       "      <td>0.888889</td>\n",
       "      <td>0.8</td>\n",
       "      <td>0.967742</td>\n",
       "      <td>17_B</td>\n",
       "    </tr>\n",
       "    <tr>\n",
       "      <th>96</th>\n",
       "      <td>B*08:01</td>\n",
       "      <td>1.0</td>\n",
       "      <td>True</td>\n",
       "      <td>1.0</td>\n",
       "      <td>0.902439</td>\n",
       "      <td>0.6</td>\n",
       "      <td>1.0</td>\n",
       "      <td>0.885714</td>\n",
       "      <td>17_B</td>\n",
       "    </tr>\n",
       "    <tr>\n",
       "      <th>97</th>\n",
       "      <td>B*07:02</td>\n",
       "      <td>1.0</td>\n",
       "      <td>True</td>\n",
       "      <td>1.0</td>\n",
       "      <td>0.926829</td>\n",
       "      <td>0.769231</td>\n",
       "      <td>1.0</td>\n",
       "      <td>0.903226</td>\n",
       "      <td>17_B</td>\n",
       "    </tr>\n",
       "    <tr>\n",
       "      <th>110</th>\n",
       "      <td>A*03:01</td>\n",
       "      <td>0.990296</td>\n",
       "      <td>True</td>\n",
       "      <td>0.92437</td>\n",
       "      <td>0.707317</td>\n",
       "      <td>0.352941</td>\n",
       "      <td>0.857143</td>\n",
       "      <td>0.676471</td>\n",
       "      <td>17_B</td>\n",
       "    </tr>\n",
       "    <tr>\n",
       "      <th>111</th>\n",
       "      <td>A*02:01</td>\n",
       "      <td>1.0</td>\n",
       "      <td>True</td>\n",
       "      <td>0.978261</td>\n",
       "      <td>0.853659</td>\n",
       "      <td>0.772727</td>\n",
       "      <td>0.944444</td>\n",
       "      <td>0.782609</td>\n",
       "      <td>17_B</td>\n",
       "    </tr>\n",
       "    <tr>\n",
       "      <th>112</th>\n",
       "      <td>A*01:01</td>\n",
       "      <td>1.0</td>\n",
       "      <td>True</td>\n",
       "      <td>1.0</td>\n",
       "      <td>0.853659</td>\n",
       "      <td>0.625</td>\n",
       "      <td>1.0</td>\n",
       "      <td>0.806452</td>\n",
       "      <td>17_B</td>\n",
       "    </tr>\n",
       "  </tbody>\n",
       "</table>\n",
       "</div>"
      ],
      "text/plain": [
       "            HLA Probability  Final_classification       AUC  Accuracy  \\\n",
       "3    DRB1*15:01         1.0                  True       1.0  0.902439   \n",
       "20   DRB1*03:01    0.999969                  True       1.0       1.0   \n",
       "26   DQB1*06:02    0.999964                  True  0.996212  0.902439   \n",
       "38   DQB1*02:01         1.0                  True       1.0   0.97561   \n",
       "40   DQA1*05:01         1.0                  True       1.0   0.97561   \n",
       "48   DQA1*01:02    0.999995                  True  0.822967  0.804878   \n",
       "55   DPB1*04:02         1.0                  True   0.97619  0.878049   \n",
       "56   DPB1*04:01    0.986079                  True  0.904762  0.804878   \n",
       "67      C*07:02    0.999548                  True  0.971264  0.878049   \n",
       "68      C*07:01    0.999996                  True  0.890323  0.926829   \n",
       "96      B*08:01         1.0                  True       1.0  0.902439   \n",
       "97      B*07:02         1.0                  True       1.0  0.926829   \n",
       "110     A*03:01    0.990296                  True   0.92437  0.707317   \n",
       "111     A*02:01         1.0                  True  0.978261  0.853659   \n",
       "112     A*01:01         1.0                  True       1.0  0.853659   \n",
       "\n",
       "    Precision Sensitivity Specificity Individual_ID  \n",
       "3    0.714286         1.0    0.870968          17_B  \n",
       "20        1.0         1.0         1.0          17_B  \n",
       "26   0.666667         1.0    0.878788          17_B  \n",
       "38   0.909091         1.0    0.967742          17_B  \n",
       "40        0.9         1.0     0.96875          17_B  \n",
       "48   0.789474    0.789474    0.818182          17_B  \n",
       "55   0.545455         1.0    0.857143          17_B  \n",
       "56   0.787879    0.962963         0.5          17_B  \n",
       "67   0.733333    0.916667    0.862069          17_B  \n",
       "68   0.888889         0.8    0.967742          17_B  \n",
       "96        0.6         1.0    0.885714          17_B  \n",
       "97   0.769231         1.0    0.903226          17_B  \n",
       "110  0.352941    0.857143    0.676471          17_B  \n",
       "111  0.772727    0.944444    0.782609          17_B  \n",
       "112     0.625         1.0    0.806452          17_B  "
      ]
     },
     "execution_count": 9,
     "metadata": {},
     "output_type": "execute_result"
    }
   ],
   "source": [
    "df_final_params[df_final_params['Final_classification']==True]"
   ]
  },
  {
   "cell_type": "code",
   "execution_count": 10,
   "id": "88df5da6",
   "metadata": {},
   "outputs": [],
   "source": [
    "df_final_params.to_csv('/home/ruiz/example_patient_results.tsv',sep='\\t',index=False)"
   ]
  },
  {
   "cell_type": "code",
   "execution_count": 2,
   "id": "a2f85af3",
   "metadata": {},
   "outputs": [
    {
     "data": {
      "text/plain": [
       "'/home/ruiz/Scripts/HLA_Guessr_package'"
      ]
     },
     "execution_count": 2,
     "metadata": {},
     "output_type": "execute_result"
    }
   ],
   "source": [
    "import os\n",
    "os.getcwd()"
   ]
  },
  {
   "cell_type": "code",
   "execution_count": 10,
   "id": "3569cd63",
   "metadata": {},
   "outputs": [
    {
     "data": {
      "text/plain": [
       "{(), ('17_B',)}"
      ]
     },
     "execution_count": 10,
     "metadata": {},
     "output_type": "execute_result"
    }
   ],
   "source": [
    "unique_ps"
   ]
  },
  {
   "cell_type": "code",
   "execution_count": 12,
   "id": "3fe1ba5e",
   "metadata": {},
   "outputs": [
    {
     "data": {
      "text/plain": [
       "[[], ['17_B']]"
      ]
     },
     "execution_count": 12,
     "metadata": {},
     "output_type": "execute_result"
    }
   ],
   "source": [
    "dm.ps"
   ]
  },
  {
   "cell_type": "code",
   "execution_count": null,
   "id": "43542f27",
   "metadata": {},
   "outputs": [],
   "source": []
  }
 ],
 "metadata": {
  "kernelspec": {
   "display_name": "Python 3",
   "language": "python",
   "name": "python3"
  },
  "language_info": {
   "codemirror_mode": {
    "name": "ipython",
    "version": 3
   },
   "file_extension": ".py",
   "mimetype": "text/x-python",
   "name": "python",
   "nbconvert_exporter": "python",
   "pygments_lexer": "ipython3",
   "version": "3.7.11"
  }
 },
 "nbformat": 4,
 "nbformat_minor": 5
}
