{
 "cells": [
  {
   "cell_type": "code",
   "execution_count": 1,
   "metadata": {},
   "outputs": [],
   "source": [
    "from hud import gym\n",
    "from hud.utils import stream\n",
    "from hud.task import Task"
   ]
  },
  {
   "cell_type": "code",
   "execution_count": 2,
   "metadata": {},
   "outputs": [],
   "source": [
    "# Simple browser task with a single step\n",
    "task = Task(\n",
    "    prompt=\"Insert the text 'capybara' into the google search bar\",\n",
    "    gym=\"hud-browser\",\n",
    "    setup=(\"goto\", \"https://www.google.com\"),\n",
    "    evaluate=(\"contains_text\", \"capybara\")\n",
    ")"
   ]
  },
  {
   "cell_type": "code",
   "execution_count": null,
   "metadata": {},
   "outputs": [],
   "source": [
    "# Create and set up environment, takes around 20 seconds\n",
    "env = await gym.make(task)\n",
    "urls = await env.get_urls()\n",
    "\n",
    "# Stream the live view\n",
    "stream(urls[\"live_url\"])"
   ]
  },
  {
   "cell_type": "code",
   "execution_count": null,
   "metadata": {},
   "outputs": [],
   "source": [
    "from hud.agent import ClaudeAgent, ClaudeAdapter, OperatorAgent, OperatorAdapter\n",
    "\n",
    "# Define a new agent each time to reset the message history\n",
    "# Make sure to define the environment variable OPENAI_API_KEY\n",
    "agent = OperatorAgent(adapter=OperatorAdapter())\n",
    "\n",
    "# Initial observation\n",
    "obs, _ = await env.reset()\n",
    "print(f\"Initial observation complete\")\n",
    "\n",
    "# Agent loop\n",
    "for i in range(8):\n",
    "    print(f\"========= Step {i+1} =========\")\n",
    "\n",
    "    # Use the agent to predict an action\n",
    "    action, done = await agent.predict(obs)\n",
    "    print(f\"Agent's action (CLA): {action}\")\n",
    "\n",
    "    if done:\n",
    "        break\n",
    "    \n",
    "    # Step the environment with the action\n",
    "    obs, reward, terminated, info = await env.step(action)\n",
    "\n",
    "    if terminated:\n",
    "        break\n"
   ]
  },
  {
   "cell_type": "code",
   "execution_count": null,
   "metadata": {},
   "outputs": [],
   "source": [
    "result = await env.evaluate()"
   ]
  },
  {
   "cell_type": "code",
   "execution_count": 7,
   "metadata": {},
   "outputs": [],
   "source": [
    "await env.close()"
   ]
  }
 ],
 "metadata": {
  "kernelspec": {
   "display_name": ".venv",
   "language": "python",
   "name": "python3"
  },
  "language_info": {
   "codemirror_mode": {
    "name": "ipython",
    "version": 3
   },
   "file_extension": ".py",
   "mimetype": "text/x-python",
   "name": "python",
   "nbconvert_exporter": "python",
   "pygments_lexer": "ipython3",
   "version": "3.12.9"
  }
 },
 "nbformat": 4,
 "nbformat_minor": 2
}
