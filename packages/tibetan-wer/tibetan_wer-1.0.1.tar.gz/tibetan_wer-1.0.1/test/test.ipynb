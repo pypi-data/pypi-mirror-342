{
 "cells": [
  {
   "cell_type": "code",
   "execution_count": 1,
   "id": "96f1cb0d",
   "metadata": {},
   "outputs": [
    {
     "name": "stdout",
     "output_type": "stream",
     "text": [
      "WER Score: {'micro_wer': 0.896551724137931, 'macro_wer': np.float64(0.896551724137931), 'substitutions': 26, 'insertions': 0, 'deletions': 0, 'num_sentences': 37}\n"
     ]
    }
   ],
   "source": [
    "from tibetan_wer.metrics import wer\n",
    "\n",
    "prediction = 'འཇམ་དཔལ་གཞོན་ནུར་གྱུར་པ་ལ་ཕྱག་འཚལ་ལོ༔'\n",
    "reference = 'གཞོན་ནུར་གྱུར་པ་ལ་ཕྱག་འཚལ་ལོ༔'\n",
    "\n",
    "wer_score = wer(prediction, reference)\n",
    "\n",
    "print(f'WER Score: {wer_score}')"
   ]
  },
  {
   "cell_type": "code",
   "execution_count": 1,
   "id": "bd8020c9",
   "metadata": {},
   "outputs": [
    {
     "name": "stdout",
     "output_type": "stream",
     "text": [
      "SER Score: {'micro_ser': 1.0, 'macro_ser': np.float64(1.0689655172413792), 'substitutions': 26, 'insertions': 5, 'deletions': 5, 'num_sentences': 37}\n"
     ]
    }
   ],
   "source": [
    "from tibetan_wer.metrics import ser\n",
    "\n",
    "prediction = 'འཇམ་དཔལ་གཞོན་ནུར་གྱུར་པ་ལ་ཕྱག་འཚལ་ལོ༔'\n",
    "reference = 'གཞོན་ནུར་གྱུར་པ་ལ་ཕྱག་འཚལ་ལོ༔'\n",
    "\n",
    "ser_score = ser(prediction, reference)\n",
    "\n",
    "print(f'SER Score: {ser_score}')"
   ]
  },
  {
   "cell_type": "code",
   "execution_count": 16,
   "id": "5068a340",
   "metadata": {},
   "outputs": [
    {
     "name": "stdout",
     "output_type": "stream",
     "text": [
      "WER Score: 1.0\n"
     ]
    }
   ],
   "source": [
    "from jiwer import wer as jiwer\n",
    "\n",
    "prediction = 'འཇམ་དཔལ་གཞོན་ནུར་གྱུར་པ་ལ་ཕྱག་འཚལ་ལོ༔'\n",
    "reference = 'གཞོན་ནུར་གྱུར་པ་ལ་ཕྱག་འཚལ་ལོ༔'\n",
    "\n",
    "wer_score = jiwer(prediction, reference)\n",
    "\n",
    "print(f'WER Score: {wer_score}')"
   ]
  },
  {
   "cell_type": "code",
   "execution_count": 3,
   "id": "ef7e267a",
   "metadata": {},
   "outputs": [
    {
     "name": "stdout",
     "output_type": "stream",
     "text": [
      "Requirement already satisfied: tibetan_wer in /home/j/Documents/tibetan-wer/.venv/lib/python3.12/site-packages (0.0.2)\n",
      "Collecting tibetan_wer\n",
      "  Downloading tibetan_wer-1.0.0-py3-none-any.whl.metadata (2.3 kB)\n",
      "Requirement already satisfied: botok in /home/j/Documents/tibetan-wer/.venv/lib/python3.12/site-packages (from tibetan_wer) (0.9.0)\n",
      "Requirement already satisfied: numpy in /home/j/Documents/tibetan-wer/.venv/lib/python3.12/site-packages (from tibetan_wer) (2.2.4)\n",
      "Requirement already satisfied: pyyaml in /home/j/Documents/tibetan-wer/.venv/lib/python3.12/site-packages (from botok->tibetan_wer) (6.0.2)\n",
      "Requirement already satisfied: requests in /home/j/Documents/tibetan-wer/.venv/lib/python3.12/site-packages (from botok->tibetan_wer) (2.32.3)\n",
      "Requirement already satisfied: charset-normalizer<4,>=2 in /home/j/Documents/tibetan-wer/.venv/lib/python3.12/site-packages (from requests->botok->tibetan_wer) (3.4.1)\n",
      "Requirement already satisfied: idna<4,>=2.5 in /home/j/Documents/tibetan-wer/.venv/lib/python3.12/site-packages (from requests->botok->tibetan_wer) (3.10)\n",
      "Requirement already satisfied: urllib3<3,>=1.21.1 in /home/j/Documents/tibetan-wer/.venv/lib/python3.12/site-packages (from requests->botok->tibetan_wer) (2.4.0)\n",
      "Requirement already satisfied: certifi>=2017.4.17 in /home/j/Documents/tibetan-wer/.venv/lib/python3.12/site-packages (from requests->botok->tibetan_wer) (2025.1.31)\n",
      "Downloading tibetan_wer-1.0.0-py3-none-any.whl (7.3 kB)\n",
      "Installing collected packages: tibetan_wer\n",
      "  Attempting uninstall: tibetan_wer\n",
      "    Found existing installation: tibetan-wer 0.0.2\n",
      "    Uninstalling tibetan-wer-0.0.2:\n",
      "      Successfully uninstalled tibetan-wer-0.0.2\n",
      "Successfully installed tibetan_wer-1.0.0\n"
     ]
    }
   ],
   "source": [
    "! pip install --upgrade tibetan_wer"
   ]
  },
  {
   "cell_type": "code",
   "execution_count": 4,
   "id": "04289c54",
   "metadata": {},
   "outputs": [
    {
     "name": "stdout",
     "output_type": "stream",
     "text": [
      "Micro-Average WER Score: 0.111\n",
      "Macro-Average WER Score: 0.111\n",
      "Substitutions: 0.000\n",
      "Insertions: 0.000\n",
      "Deletions: 1.000\n"
     ]
    }
   ],
   "source": [
    "from tibetan_wer.metrics import wer\n",
    "\n",
    "prediction = ['གཞོན་ནུར་གྱུར་པ་ལ་ཕྱག་འཚལ་ལོ༔']\n",
    "reference = ['འཇམ་དཔལ་གཞོན་ནུར་གྱུར་པ་ལ་ཕྱག་འཚལ་ལོ༔']\n",
    "\n",
    "result = wer(prediction, reference)\n",
    "\n",
    "print(f'Micro-Average WER Score: {result['micro_wer']:.3f}')\n",
    "print(f'Macro-Average WER Score: {result['macro_wer']:.3f}')\n",
    "print(f'Substitutions: {result['substitutions']:.3f}')\n",
    "print(f'Insertions: {result['insertions']:.3f}')\n",
    "print(f'Deletions: {result['deletions']:.3f}')"
   ]
  },
  {
   "cell_type": "code",
   "execution_count": 6,
   "id": "daff65cd",
   "metadata": {},
   "outputs": [
    {
     "name": "stdout",
     "output_type": "stream",
     "text": [
      "Micro-Average SER Score: 0.200\n",
      "Macro-Average SER Score: 0.200\n",
      "Substitutions: 0.000\n",
      "Insertions: 0.000\n",
      "Deletions: 2.000\n"
     ]
    }
   ],
   "source": [
    "from tibetan_wer.metrics import ser\n",
    "\n",
    "prediction = ['གཞོན་ནུར་གྱུར་པ་ལ་ཕྱག་འཚལ་ལོ༔']\n",
    "reference = ['འཇམ་དཔལ་གཞོན་ནུར་གྱུར་པ་ལ་ཕྱག་འཚལ་ལོ༔']\n",
    "\n",
    "result = ser(prediction, reference)\n",
    "\n",
    "print(f'Micro-Average SER Score: {result['micro_ser']:.3f}')\n",
    "print(f'Macro-Average SER Score: {result['macro_ser']:.3f}')\n",
    "print(f'Substitutions: {result['substitutions']:.3f}')\n",
    "print(f'Insertions: {result['insertions']:.3f}')\n",
    "print(f'Deletions: {result['deletions']:.3f}')"
   ]
  },
  {
   "cell_type": "code",
   "execution_count": 9,
   "id": "72bc2b4e",
   "metadata": {},
   "outputs": [
    {
     "name": "stdout",
     "output_type": "stream",
     "text": [
      "{'micro_wer': 0.1111111111111111, 'macro_wer': np.float64(0.1111111111111111), 'substitutions': 0, 'insertions': 0, 'deletions': 1, 'num_sentences': 1}\n",
      "{'micro_ser': 0.2, 'macro_ser': np.float64(0.2), 'substitutions': 0, 'insertions': 0, 'deletions': 2, 'num_sentences': 1}\n"
     ]
    }
   ],
   "source": [
    "from tibetan_wer.metrics import wer as tib_wer, ser as tib_ser\n",
    "\n",
    "prediction = ['གཞོན་ནུར་གྱུར་པ་ལ་ཕྱག་འཚལ་ལོ༔']\n",
    "reference = ['འཇམ་དཔལ་གཞོན་ནུར་གྱུར་པ་ལ་ཕྱག་འཚལ་ལོ༔']\n",
    "\n",
    "wer_result = tib_wer(prediction, reference)\n",
    "ser_result = tib_ser(prediction, reference)\n",
    "\n",
    "print(wer_result)\n",
    "print(ser_result)"
   ]
  },
  {
   "cell_type": "code",
   "execution_count": 3,
   "id": "318a70a6",
   "metadata": {},
   "outputs": [],
   "source": [
    "import botok\n",
    "\n",
    "tokenizer = botok.WordTokenizer()\n",
    "\n",
    "toked = tokenizer.tokenize('འཇམ་དཔལ་གཞོན་ནུར་གྱུར་པ་ལ་ཕྱག་འཚལ་ལོ༔')"
   ]
  },
  {
   "cell_type": "code",
   "execution_count": 5,
   "id": "e4b11181",
   "metadata": {},
   "outputs": [
    {
     "data": {
      "text/plain": [
       "text: \"འཇམ་དཔལ་\"\n",
       "text_cleaned: \"འཇམ་དཔལ་\"\n",
       "text_unaffixed: \"འཇམ་དཔལ་\"\n",
       "syls: [\"འཇམ\", \"དཔལ\"]\n",
       "pos: PROPN\n",
       "lemma: འཇམ་དཔལ་\n",
       "senses: | pos: PROPN, freq: 12647, affixed: False, lemma: འཇམ་དཔལ་ |\n",
       "char_types: |CONS|CONS|CONS|TSEK|CONS|CONS|CONS|TSEK|\n",
       "chunk_type: TEXT\n",
       "freq: 12647\n",
       "syls_idx: [[0, 1, 2], [4, 5, 6]]\n",
       "syls_start_end: [{'start': 0, 'end': 4}, {'start': 4, 'end': 8}]\n",
       "start: 0\n",
       "len: 8\n"
      ]
     },
     "execution_count": 5,
     "metadata": {},
     "output_type": "execute_result"
    }
   ],
   "source": [
    "toked[0]"
   ]
  },
  {
   "cell_type": "code",
   "execution_count": 2,
   "id": "a505443c",
   "metadata": {},
   "outputs": [
    {
     "name": "stdout",
     "output_type": "stream",
     "text": [
      "Requirement already satisfied: tibetan_wer in /home/j/Documents/tibetan-wer/.venv/lib/python3.12/site-packages (0.0.2)\n",
      "Requirement already satisfied: botok in /home/j/Documents/tibetan-wer/.venv/lib/python3.12/site-packages (from tibetan_wer) (0.9.0)\n",
      "Requirement already satisfied: numpy in /home/j/Documents/tibetan-wer/.venv/lib/python3.12/site-packages (from tibetan_wer) (2.2.4)\n",
      "Requirement already satisfied: pyyaml in /home/j/Documents/tibetan-wer/.venv/lib/python3.12/site-packages (from botok->tibetan_wer) (6.0.2)\n",
      "Requirement already satisfied: requests in /home/j/Documents/tibetan-wer/.venv/lib/python3.12/site-packages (from botok->tibetan_wer) (2.32.3)\n",
      "Requirement already satisfied: charset-normalizer<4,>=2 in /home/j/Documents/tibetan-wer/.venv/lib/python3.12/site-packages (from requests->botok->tibetan_wer) (3.4.1)\n",
      "Requirement already satisfied: idna<4,>=2.5 in /home/j/Documents/tibetan-wer/.venv/lib/python3.12/site-packages (from requests->botok->tibetan_wer) (3.10)\n",
      "Requirement already satisfied: urllib3<3,>=1.21.1 in /home/j/Documents/tibetan-wer/.venv/lib/python3.12/site-packages (from requests->botok->tibetan_wer) (2.4.0)\n",
      "Requirement already satisfied: certifi>=2017.4.17 in /home/j/Documents/tibetan-wer/.venv/lib/python3.12/site-packages (from requests->botok->tibetan_wer) (2025.1.31)\n",
      "Note: you may need to restart the kernel to use updated packages.\n"
     ]
    }
   ],
   "source": [
    "pip install --upgrade tibetan_wer\n"
   ]
  },
  {
   "cell_type": "code",
   "execution_count": null,
   "id": "888e4a02",
   "metadata": {},
   "outputs": [],
   "source": []
  }
 ],
 "metadata": {
  "kernelspec": {
   "display_name": ".venv",
   "language": "python",
   "name": "python3"
  },
  "language_info": {
   "codemirror_mode": {
    "name": "ipython",
    "version": 3
   },
   "file_extension": ".py",
   "mimetype": "text/x-python",
   "name": "python",
   "nbconvert_exporter": "python",
   "pygments_lexer": "ipython3",
   "version": "3.12.3"
  }
 },
 "nbformat": 4,
 "nbformat_minor": 5
}
