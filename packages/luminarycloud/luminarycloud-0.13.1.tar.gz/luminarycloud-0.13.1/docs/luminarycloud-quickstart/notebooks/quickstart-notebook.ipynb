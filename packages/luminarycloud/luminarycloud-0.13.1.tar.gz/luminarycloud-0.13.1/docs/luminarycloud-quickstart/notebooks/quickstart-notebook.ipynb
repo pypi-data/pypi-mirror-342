{
 "cells": [
  {
   "attachments": {},
   "cell_type": "markdown",
   "metadata": {
    "tags": []
   },
   "source": [
    "# Quickstart Notebook - Luminary Cloud Python SDK"
   ]
  },
  {
   "attachments": {},
   "cell_type": "markdown",
   "metadata": {},
   "source": [
    "To use this notebook, simply run each cell in order.\n",
    "\n",
    "> NOTE: If you haven’t used the Luminary web app yet, you will need to [log in](https://app.luminarycloud.com/) and accept the terms and conditions before proceeding.\n"
   ]
  },
  {
   "attachments": {},
   "cell_type": "markdown",
   "metadata": {},
   "source": [
    "### Import the SDK"
   ]
  },
  {
   "cell_type": "code",
   "execution_count": 1,
   "metadata": {
    "tags": []
   },
   "outputs": [],
   "source": [
    "# import the Luminary Cloud SDK\n",
    "import luminarycloud as lc\n",
    "\n",
    "# import other misc dependencies\n",
    "import os\n",
    "import pandas as pd"
   ]
  },
  {
   "attachments": {},
   "cell_type": "markdown",
   "metadata": {},
   "source": [
    "### Create a new project\n",
    "\n",
    "We'll start by creating a project to work in.\n",
    "\n",
    "> **NOTE:** If this is the first time you're using the notebook, an authentication link\n",
    "will be printed when you run the code cell below. \n",
    ">\n",
    "> Click the link to open the login page in a new tab and use the same\n",
    "credentials as the Luminary Cloud web app. Once successful, you can close the\n",
    "tab and return to the notebook. The API call should have succeeded and you can\n",
    "continue with the rest of the notebook."
   ]
  },
  {
   "cell_type": "code",
   "execution_count": null,
   "metadata": {
    "tags": []
   },
   "outputs": [],
   "source": [
    "project = lc.create_project(\"My Project Name\")\n",
    "print(f\"Created new project {project.id} named '{project.name}'\")"
   ]
  },
  {
   "attachments": {},
   "cell_type": "markdown",
   "metadata": {
    "tags": []
   },
   "source": [
    "### List all projects\n",
    "\n",
    "We can also list all the projects in our account."
   ]
  },
  {
   "cell_type": "code",
   "execution_count": null,
   "metadata": {
    "tags": []
   },
   "outputs": [],
   "source": [
    "for proj in lc.list_projects():\n",
    "    print(proj)\n",
    "    print(\"------------\")"
   ]
  },
  {
   "attachments": {},
   "cell_type": "markdown",
   "metadata": {},
   "source": [
    "### Upload a new mesh\n",
    "\n",
    "Now that we have a project, let's upload a mesh to the project. We'll use the mesh and simulation parameters from this sample project: https://docs.luminarycloud.com/en/articles/9396448-naca-0012-airfoil"
   ]
  },
  {
   "cell_type": "code",
   "execution_count": null,
   "metadata": {
    "tags": []
   },
   "outputs": [],
   "source": [
    "mesh = project.upload_mesh(\"./data/airfoil.lcmesh\")\n",
    "print(mesh)"
   ]
  },
  {
   "attachments": {},
   "cell_type": "markdown",
   "metadata": {},
   "source": [
    "### Create new simulation with uploaded mesh\n",
    "Next, we'll create a simulation with the mesh we just uploaded. We'll use a simulation configuration downloaded from the UI.\n",
    "\n",
    "> **NOTE:** to download the params from the UI, login and open a project. Then, click `...` next to the `Upload` button in the main settings panel. In the dropdown, select `Download simulation parameters JSON (API use only)`."
   ]
  },
  {
   "cell_type": "code",
   "execution_count": null,
   "metadata": {
    "tags": []
   },
   "outputs": [],
   "source": [
    "simulation_template = project.create_simulation_template(\n",
    "    name=\"SDK Sim Template\", params_json_path=\"./data/api_simulation_params.json\"\n",
    ")\n",
    "simulation = project.create_simulation(\n",
    "    mesh.id, \"Airfoil Simulation\", simulation_template_id=simulation_template.id\n",
    ")  # sim name\n",
    "print(simulation)"
   ]
  },
  {
   "attachments": {},
   "cell_type": "markdown",
   "metadata": {},
   "source": [
    "The simulation is now running!\n",
    "\n",
    "Let's wait for it to finish using `simulation.wait()`:"
   ]
  },
  {
   "cell_type": "code",
   "execution_count": null,
   "metadata": {
    "tags": []
   },
   "outputs": [],
   "source": [
    "status = simulation.wait()\n",
    "print(\"Simulation finished with status:\", status.name)"
   ]
  },
  {
   "attachments": {},
   "cell_type": "markdown",
   "metadata": {},
   "source": [
    "### Post-processing\n",
    "\n",
    "Now that the simulation is done, let's download and inspect the residuals."
   ]
  },
  {
   "cell_type": "code",
   "execution_count": null,
   "metadata": {
    "tags": []
   },
   "outputs": [],
   "source": [
    "# see documentation for more details about optional parameters\n",
    "with simulation.download_global_residuals() as stream:\n",
    "    residuals_df = pd.read_csv(stream, index_col=\"Iteration index\")\n",
    "    # since this is a steady state simulation, we can drop these columns\n",
    "    residuals_df = residuals_df.drop([\"Time step\", \"Physical time\"], axis=1)\n",
    "\n",
    "residuals_df"
   ]
  },
  {
   "attachments": {},
   "cell_type": "markdown",
   "metadata": {},
   "source": [
    "Here we plot the residuals, similar to what we see in the UI."
   ]
  },
  {
   "cell_type": "code",
   "execution_count": null,
   "metadata": {
    "tags": []
   },
   "outputs": [],
   "source": [
    "ax = residuals_df.plot(logy=True, figsize=(12, 8))"
   ]
  },
  {
   "attachments": {},
   "cell_type": "markdown",
   "metadata": {},
   "source": [
    "In addition to residuals, the SDK also supports additional outputs. Lets download and inspect the\n",
    "Lift output next.\n",
    "\n",
    "> **NOTE:** the surface names in the request below come from the mesh. We will\n",
    "soon have an API call to allow SDK users to see the available surface names in\n",
    "the mesh."
   ]
  },
  {
   "cell_type": "code",
   "execution_count": null,
   "metadata": {
    "tags": []
   },
   "outputs": [],
   "source": [
    "import luminarycloud as lc\n",
    "from luminarycloud.enum import QuantityType, ReferenceValuesType\n",
    "\n",
    "ref_vals = lc.ReferenceValues(\n",
    "    reference_value_type=ReferenceValuesType.PRESCRIBE_VALUES,\n",
    "    area_ref=1.0,\n",
    "    length_ref=1.0,\n",
    "    p_ref=101325.0,\n",
    "    t_ref=273.15,\n",
    "    v_ref=265.05709547039106,\n",
    ")\n",
    "\n",
    "# see documentation for more details about optional parameters\n",
    "with simulation.download_surface_output(\n",
    "    QuantityType.LIFT, [\"0/bound/airfoil\"], frame_id=\"body_frame_id\", reference_values=ref_vals\n",
    ") as stream:\n",
    "    lift_df = pd.read_csv(stream, index_col=\"Iteration index\")\n",
    "    # since this is a steady state simulation, we can drop these columns\n",
    "    lift_df = lift_df.drop([\"Time step\", \"Physical time\"], axis=1)\n",
    "\n",
    "lift_df"
   ]
  },
  {
   "cell_type": "code",
   "execution_count": null,
   "metadata": {
    "tags": []
   },
   "outputs": [],
   "source": [
    "ax = lift_df.plot(figsize=(12, 8))"
   ]
  },
  {
   "attachments": {},
   "cell_type": "markdown",
   "metadata": {},
   "source": [
    "Lastly, we can download the surface and volume solutions for external post-processing with Paraview:"
   ]
  },
  {
   "cell_type": "code",
   "execution_count": null,
   "metadata": {},
   "outputs": [],
   "source": [
    "# see documentation for more details about optional parameters\n",
    "latest_solution = simulation.list_solutions()[-1]\n",
    "with latest_solution.download_surface_data() as streaming_tar_file:\n",
    "    path = f\"./surface_data_{simulation.id}\"\n",
    "    streaming_tar_file.extractall(path)\n",
    "    print(f\"Extracted files to {path}:\")\n",
    "    print(\"\\t\" + \"\\n\\t\".join(os.listdir(path)))"
   ]
  },
  {
   "cell_type": "code",
   "execution_count": null,
   "metadata": {},
   "outputs": [],
   "source": [
    "with latest_solution.download_volume_data() as streaming_tar_file:\n",
    "    path = f\"./volume_solution_{simulation.id}\"\n",
    "    streaming_tar_file.extractall(path)\n",
    "    print(f\"Extracted files to {path}:\")\n",
    "    for root, dirs, filenames in os.walk(path):\n",
    "        print(\"\\t\" + \"\\n\\t\".join([os.path.join(root, file) for file in filenames]))"
   ]
  }
 ],
 "metadata": {
  "kernelspec": {
   "display_name": "Python 3 (ipykernel)",
   "language": "python",
   "name": "python3"
  },
  "language_info": {
   "codemirror_mode": {
    "name": "ipython",
    "version": 3
   },
   "file_extension": ".py",
   "mimetype": "text/x-python",
   "name": "python",
   "nbconvert_exporter": "python",
   "pygments_lexer": "ipython3",
   "version": "3.12.3"
  },
  "vscode": {
   "interpreter": {
    "hash": "4f0cc3d08315eaf5119046738287ca4cbe299a03173cee9548f4eeee9eee3cdc"
   }
  }
 },
 "nbformat": 4,
 "nbformat_minor": 4
}
