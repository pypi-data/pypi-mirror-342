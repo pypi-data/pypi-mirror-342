{
 "cells": [
  {
   "attachments": {},
   "cell_type": "markdown",
   "metadata": {
    "tags": []
   },
   "source": [
    "# [Internal] CreateMesh Demo\n"
   ]
  },
  {
   "attachments": {},
   "cell_type": "markdown",
   "metadata": {},
   "source": [
    "#### Import the SDK\n",
    "\n",
    "We're going to point it at the main int environment.\n"
   ]
  },
  {
   "cell_type": "code",
   "execution_count": 1,
   "metadata": {
    "tags": []
   },
   "outputs": [
    {
     "name": "stdout",
     "output_type": "stream",
     "text": [
      "SDK version: 0.8.2\n",
      "SDK installation location: /home/gavin_luminarycloud_com/venvs/sdk-3.10/lib/python3.10/site-packages/luminarycloud/__init__.py\n"
     ]
    }
   ],
   "source": [
    "import luminarycloud as lc\n",
    "\n",
    "# <internal>\n",
    "# Point the default client to main (Internal use only)\n",
    "# Please keep the <internal> tags because assistant will use it to filter out the internal code.\n",
    "lc.set_default_client(\n",
    "    lc.Client(\n",
    "        target=\"apis.main.int.luminarycloud.com\",\n",
    "        domain=\"luminarycloud-dev.us.auth0.com\",\n",
    "        client_id=\"mbM8OSEk5ShoU5iKfzUxSinKluPlxGQ9\",\n",
    "        audience=\"https://api-dev.luminarycloud.com\",\n",
    "    )\n",
    ")\n",
    "# </internal>\n",
    "\n",
    "print(f\"SDK version: {lc.__version__}\")\n",
    "print(f\"SDK installation location: {lc.__file__}\")"
   ]
  },
  {
   "attachments": {},
   "cell_type": "markdown",
   "metadata": {},
   "source": [
    "#### Create a project and upload a geometry\n"
   ]
  },
  {
   "cell_type": "code",
   "execution_count": 2,
   "metadata": {},
   "outputs": [
    {
     "name": "stderr",
     "output_type": "stream",
     "text": [
      "Failed to silently authenticate.\n",
      "Traceback (most recent call last):\n",
      "  File \"/home/gavin_luminarycloud_com/venvs/sdk-3.10/lib/python3.10/site-packages/luminarycloud/_auth/auth.py\", line 152, in silently_renew_access_token\n",
      "    response.raise_for_status()\n",
      "  File \"/home/gavin_luminarycloud_com/venvs/sdk-3.10/lib/python3.10/site-packages/requests/models.py\", line 1024, in raise_for_status\n",
      "    raise HTTPError(http_error_msg, response=self)\n",
      "requests.exceptions.HTTPError: 403 Client Error: Forbidden for url: https://luminarycloud-dev.us.auth0.com/oauth/token\n"
     ]
    },
    {
     "name": "stdout",
     "output_type": "stream",
     "text": [
      "Listening on port 10001...\n",
      "Interactive login required. Your browser has been opened to visit the following URL:\n",
      "\n",
      " https://luminarycloud-dev.us.auth0.com/authorize?audience=https%3A%2F%2Fapi-dev.luminarycloud.com&client_id=mbM8OSEk5ShoU5iKfzUxSinKluPlxGQ9&code_challenge=NEMX-eD3LDbf3EJHldmdCx2J6nKF4T85uHIKk2H-dxg&code_challenge_method=S256&response_type=code&scope=openid+profile+email+offline_access&state=A_jTq61DA4duj2j0NqTvc4xjB85V_hGtiYYdBVWwXwE&redirect_uri=http%3A%2F%2F127.0.0.1%3A10001%2Fcallback \n",
      "\n"
     ]
    },
    {
     "name": "stderr",
     "output_type": "stream",
     "text": [
      "WARNING: All log messages before absl::InitializeLog() is called are written to STDERR\n",
      "I0000 00:00:1735841057.261895 2554159 fork_posix.cc:75] Other threads are currently calling into gRPC, skipping fork() handlers\n"
     ]
    }
   ],
   "source": [
    "project = lc.create_project(name=\"SDK CreateMesh Example\")"
   ]
  },
  {
   "cell_type": "code",
   "execution_count": 3,
   "metadata": {},
   "outputs": [
    {
     "name": "stderr",
     "output_type": "stream",
     "text": [
      "/home/gavin_luminarycloud_com/venvs/sdk-3.10/lib/python3.10/site-packages/urllib3/connectionpool.py:1097: InsecureRequestWarning: Unverified HTTPS request is being made to host 'main.int.luminarycloud.com'. Adding certificate verification is strongly advised. See: https://urllib3.readthedocs.io/en/latest/advanced-usage.html#tls-warnings\n",
      "  warnings.warn(\n",
      "/home/gavin_luminarycloud_com/venvs/sdk-3.10/lib/python3.10/site-packages/urllib3/connectionpool.py:1097: InsecureRequestWarning: Unverified HTTPS request is being made to host 'main.int.luminarycloud.com'. Adding certificate verification is strongly advised. See: https://urllib3.readthedocs.io/en/latest/advanced-usage.html#tls-warnings\n",
      "  warnings.warn(\n",
      "/home/gavin_luminarycloud_com/venvs/sdk-3.10/lib/python3.10/site-packages/urllib3/connectionpool.py:1097: InsecureRequestWarning: Unverified HTTPS request is being made to host 'main.int.luminarycloud.com'. Adding certificate verification is strongly advised. See: https://urllib3.readthedocs.io/en/latest/advanced-usage.html#tls-warnings\n",
      "  warnings.warn(\n",
      "/home/gavin_luminarycloud_com/venvs/sdk-3.10/lib/python3.10/site-packages/urllib3/connectionpool.py:1097: InsecureRequestWarning: Unverified HTTPS request is being made to host 'main.int.luminarycloud.com'. Adding certificate verification is strongly advised. See: https://urllib3.readthedocs.io/en/latest/advanced-usage.html#tls-warnings\n",
      "  warnings.warn(\n",
      "/home/gavin_luminarycloud_com/venvs/sdk-3.10/lib/python3.10/site-packages/urllib3/connectionpool.py:1097: InsecureRequestWarning: Unverified HTTPS request is being made to host 'main.int.luminarycloud.com'. Adding certificate verification is strongly advised. See: https://urllib3.readthedocs.io/en/latest/advanced-usage.html#tls-warnings\n",
      "  warnings.warn(\n",
      "/home/gavin_luminarycloud_com/venvs/sdk-3.10/lib/python3.10/site-packages/urllib3/connectionpool.py:1097: InsecureRequestWarning: Unverified HTTPS request is being made to host 'main.int.luminarycloud.com'. Adding certificate verification is strongly advised. See: https://urllib3.readthedocs.io/en/latest/advanced-usage.html#tls-warnings\n",
      "  warnings.warn(\n",
      "/home/gavin_luminarycloud_com/venvs/sdk-3.10/lib/python3.10/site-packages/urllib3/connectionpool.py:1097: InsecureRequestWarning: Unverified HTTPS request is being made to host 'main.int.luminarycloud.com'. Adding certificate verification is strongly advised. See: https://urllib3.readthedocs.io/en/latest/advanced-usage.html#tls-warnings\n",
      "  warnings.warn(\n"
     ]
    },
    {
     "data": {
      "text/plain": [
       "(True, [])"
      ]
     },
     "execution_count": 3,
     "metadata": {},
     "output_type": "execute_result"
    }
   ],
   "source": [
    "geometry = project.create_geometry(\"../../../testdata/cad/two_cubes.x_b\", wait=True)\n",
    "geometry.check()"
   ]
  },
  {
   "cell_type": "markdown",
   "metadata": {},
   "source": [
    "#### Load geometry to setup\n"
   ]
  },
  {
   "cell_type": "code",
   "execution_count": 4,
   "metadata": {},
   "outputs": [],
   "source": [
    "project.load_geometry_to_setup(geometry)"
   ]
  },
  {
   "cell_type": "markdown",
   "metadata": {},
   "source": [
    "We can take a look at the IDs of the faces and bodies in the geometry.\n"
   ]
  },
  {
   "cell_type": "code",
   "execution_count": 7,
   "metadata": {},
   "outputs": [
    {
     "name": "stdout",
     "output_type": "stream",
     "text": [
      "Surfaces:  ['0/bound/BC_2', '0/bound/BC_3', '0/bound/BC_4', '0/bound/BC_5', '0/bound/BC_6', '0/bound/BC_7', '1/bound/BC_8', '1/bound/BC_9', '1/bound/BC_10', '1/bound/BC_11', '1/bound/BC_12', '1/bound/BC_13']\n",
      "Volumes:  ['0', '1']\n"
     ]
    }
   ],
   "source": [
    "all_surfaces, all_volumes = geometry.list_entities()\n",
    "print(\"Surfaces: \", [surface.id for surface in all_surfaces])\n",
    "print(\"Volumes: \", [volume.id for volume in all_volumes])"
   ]
  },
  {
   "cell_type": "markdown",
   "metadata": {},
   "source": [
    "Let's go ahead and mesh it.\n"
   ]
  },
  {
   "cell_type": "code",
   "execution_count": 17,
   "metadata": {},
   "outputs": [],
   "source": [
    "# from luminarycloud._proto.api.v0.luminarycloud.mesh.mesh_pb2 import MeshGenerationParams\n",
    "\n",
    "# gen_params = MeshGenerationParams(\n",
    "#     geometry_id=geometry.id,\n",
    "#     proximity_layers=1,\n",
    "#     mesh_complexity_params=MeshGenerationParams.MeshComplexityParams(\n",
    "#         type=MeshGenerationParams.MeshComplexityParams.ComplexityType.MAX,\n",
    "#         limit_max_cells=int(5e7),\n",
    "#     ),\n",
    "#     volume_params=[\n",
    "#         MeshGenerationParams.VolumeParams(\n",
    "#             min_size=0.4,\n",
    "#             max_size=0.5,\n",
    "#             volumes=[body.id for body in bodies], # All volumes\n",
    "#         ),\n",
    "#     ],\n",
    "#     model_params=[\n",
    "#         MeshGenerationParams.ModelParams(\n",
    "#             curvature=8,\n",
    "#             max_size=0.5,\n",
    "#             surfaces=[face.id for face in faces], # All surfaces\n",
    "#         ),\n",
    "#     ],\n",
    "#     bl_params=[\n",
    "#         MeshGenerationParams.BoundaryLayerParams(\n",
    "#             n_layers=40,\n",
    "#             initial_size=1e-6,\n",
    "#             growth_rate=1.2,\n",
    "#             surfaces=[face.id for face in faces] # All surfaces\n",
    "#         ),\n",
    "#     ],\n",
    "# )"
   ]
  },
  {
   "cell_type": "markdown",
   "metadata": {},
   "source": [
    "#### Creating a minimal mesh\n",
    "\n",
    "Formerly, in order to kick off a mesh adaptation\n",
    "workflow in the SDK, we would first have needed to generate a minimal mesh\n",
    "via the UI.\n",
    "\n",
    "This lets us do it entirely within the SDK.\n"
   ]
  },
  {
   "cell_type": "code",
   "execution_count": 5,
   "metadata": {},
   "outputs": [],
   "source": [
    "minimal_mesh_params = lc.meshing.MeshGenerationParams(\n",
    "    geometry_id=geometry.id,\n",
    "    sizing_strategy=lc.meshing.sizing_strategy.Minimal(),\n",
    ")\n",
    "minimal_mesh = project.create_or_get_mesh(minimal_mesh_params, name=\"minimal mesh\")"
   ]
  },
  {
   "cell_type": "markdown",
   "metadata": {},
   "source": [
    "#### Creating a regular old mesh\n",
    "\n",
    "This is for a more traditional workflow.\n",
    "\n",
    "We just need to specify max cell count, and size constraints for the mesh elements.\n"
   ]
  },
  {
   "cell_type": "code",
   "execution_count": 8,
   "metadata": {},
   "outputs": [],
   "source": [
    "mesh_params = lc.meshing.MeshGenerationParams(\n",
    "    geometry_id=geometry.id,\n",
    "    sizing_strategy=lc.meshing.sizing_strategy.MaxCount(int(5e7)),\n",
    "    min_size=0.4,\n",
    "    max_size=0.5,\n",
    ")\n",
    "\n",
    "# To add boundary layers for surfaces.\n",
    "mesh_params.boundary_layer_params.append(\n",
    "    lc.meshing.BoundaryLayerParams(\n",
    "        surfaces=all_surfaces,\n",
    "        # You can optionally override the default values for the boundary layer params.\n",
    "        # n_layers=40,\n",
    "        # initial_size=1e-6,\n",
    "        # growth_rate=1.2,\n",
    "    )\n",
    ")\n",
    "\n",
    "mesh = project.create_or_get_mesh(mesh_params, name=\"meshy mesh\")"
   ]
  },
  {
   "cell_type": "markdown",
   "metadata": {},
   "source": [
    "Yes, tags do get unrolled, but they need to be prefixed with `lcTag/tagContainer`.\n"
   ]
  },
  {
   "cell_type": "code",
   "execution_count": 14,
   "metadata": {},
   "outputs": [],
   "source": [
    "project.delete()"
   ]
  }
 ],
 "metadata": {
  "kernelspec": {
   "display_name": "venv-for-lc-sdk",
   "language": "python",
   "name": "python3"
  },
  "language_info": {
   "codemirror_mode": {
    "name": "ipython",
    "version": 3
   },
   "file_extension": ".py",
   "mimetype": "text/x-python",
   "name": "python",
   "nbconvert_exporter": "python",
   "pygments_lexer": "ipython3",
   "version": "3.10.15"
  }
 },
 "nbformat": 4,
 "nbformat_minor": 4
}
