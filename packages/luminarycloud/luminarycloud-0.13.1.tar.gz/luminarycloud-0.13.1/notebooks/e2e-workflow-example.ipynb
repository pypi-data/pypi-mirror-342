{
 "cells": [
  {
   "attachments": {},
   "cell_type": "markdown",
   "metadata": {
    "tags": []
   },
   "source": [
    "# [Internal] Luminary Cloud SDK Tutorial\n",
    "**This notebook is intended for internal use only. For a customer facing example\n",
    "notebook, see: `python/sdk/docs/source/assets/luminarycloud-quickstart/notebooks/quickstart-notebook.ipynb`**"
   ]
  },
  {
   "attachments": {},
   "cell_type": "markdown",
   "metadata": {},
   "source": [
    "### Log in for the first time\n",
    "\n",
    "If you haven’t yet opened up the Luminary web app, you will need to log in and accept the terms and conditions before proceeding.\n"
   ]
  },
  {
   "attachments": {},
   "cell_type": "markdown",
   "metadata": {},
   "source": [
    "### Import the SDK and Setup the Client\n",
    "\n",
    "**To run this notebook against a different environment, update `api_env_name` in\n",
    "the block below.**\n"
   ]
  },
  {
   "cell_type": "code",
   "execution_count": null,
   "metadata": {
    "tags": []
   },
   "outputs": [],
   "source": [
    "import logging, os\n",
    "\n",
    "logger = logging.getLogger(\"luminarycloud\")\n",
    "logger.setLevel(logging.INFO)\n",
    "\n",
    "import luminarycloud as lc\n",
    "from luminarycloud.enum import QuantityType, ReferenceValuesType\n",
    "from luminarycloud.reference_values import ReferenceValues\n",
    "import pandas as pd\n",
    "import sys\n",
    "\n",
    "sys.path.insert(0, \"..\")\n",
    "from sdk_util import get_client_for_env\n",
    "\n",
    "\n",
    "# <internal>\n",
    "# Please keep the <internal> tags because assistant will use it to filter out the internal code.\n",
    "# NOTE: update api_env_name to make API calls against a different environment\n",
    "api_env_name = \"main\"\n",
    "lc.set_default_client(get_client_for_env(env_name=api_env_name))\n",
    "print(f\"SDK is connected to env: {api_env_name}\")\n",
    "# </internal>\n",
    "\n",
    "print(f\"SDK version: {lc.__version__}\")\n",
    "print(f\"SDK installation location: {lc.__file__}\")"
   ]
  },
  {
   "attachments": {},
   "cell_type": "markdown",
   "metadata": {},
   "source": [
    "### List projects and get project"
   ]
  },
  {
   "cell_type": "code",
   "execution_count": null,
   "metadata": {},
   "outputs": [],
   "source": [
    "projects = lc.list_projects()\n",
    "\n",
    "if len(projects) > 0:\n",
    "    print(\"All projects:\")\n",
    "    [print(f\"- {p.id} {p.name}\") for p in projects]\n",
    "    project = projects[0]\n",
    "else:\n",
    "    print(\"You have no projects. Creating one...\")\n",
    "    import datetime\n",
    "\n",
    "    project = lc.create_project(name=f\"Project {datetime.datetime.now()}\")\n",
    "\n",
    "print(f\"\\nUsing project: {project.id} {project.name}\")"
   ]
  },
  {
   "attachments": {},
   "cell_type": "markdown",
   "metadata": {},
   "source": [
    "### List Meshes / Upload a new mesh"
   ]
  },
  {
   "cell_type": "code",
   "execution_count": null,
   "metadata": {
    "tags": []
   },
   "outputs": [],
   "source": [
    "meshes = project.list_meshes()\n",
    "if len(meshes) > 0:\n",
    "    print(f\"All meshes in project {project.id}:\")\n",
    "    [print(f\"- {m.id} {m.name}\") for m in meshes]\n",
    "    mesh = meshes[0]\n",
    "else:\n",
    "    # NOTE: you may need to update the path\n",
    "    mesh = project.upload_mesh(\n",
    "        \"../docs/luminarycloud-quickstart/notebooks/data/naca0012_inv.lcmesh\"\n",
    "    )\n",
    "    print(f\"Uploaded mesh {mesh.id} {mesh.name}\")\n",
    "\n",
    "\n",
    "print(f\"\\nUsing mesh: {mesh.id} {mesh.name} {mesh.status}\")\n",
    "# mesh.delete()"
   ]
  },
  {
   "attachments": {},
   "cell_type": "markdown",
   "metadata": {},
   "source": [
    "### Create new simulation with uploaded mesh\n",
    "Now lets create a simulation with the mesh we just uploaded. We'll use a fvm param json we downloaded from the UI.\n",
    "\n",
    "> NOTE: to download the params from the UI, click `...` next to the `Upload` button in the main settings panel. In the dropdown, select `Download Fvm Param`."
   ]
  },
  {
   "cell_type": "code",
   "execution_count": null,
   "metadata": {
    "tags": []
   },
   "outputs": [],
   "source": [
    "params_json_path = \"../docs/luminarycloud-quickstart/notebooks/data/api_simulation_params.json\"\n",
    "simulation_template = project.create_simulation_template(\n",
    "    name=\"SDK Sim Template\", params_json_path=params_json_path\n",
    ")\n",
    "\n",
    "simulations = project.list_simulations()\n",
    "if len(simulations) > 0:\n",
    "    print(f\"All simulations in project {project.id}:\")\n",
    "    [print(f\"- {s.id} {s.name} {s.status.name}\") for s in simulations]\n",
    "    simulation = simulations[0]\n",
    "else:\n",
    "    # NOTE: you may need to update the path\n",
    "    simulation = project.create_simulation(\n",
    "        mesh_id=mesh.id,\n",
    "        name=\"SDK Sim with Client Params JSON\",\n",
    "        simulation_template_id=simulation_template.id,\n",
    "        batch_processing=False,\n",
    "    )\n",
    "    print(f\"Created simulation: {simulation.id} {simulation.name}  {simulation.status.name}\")\n",
    "\n",
    "print(f\"\\nUsing simulation: {simulation.id} {simulation.name}  {simulation.status.name}\")"
   ]
  },
  {
   "attachments": {},
   "cell_type": "markdown",
   "metadata": {},
   "source": [
    "The simulation is now running!\n",
    "\n",
    "Let's wait for it to finish..."
   ]
  },
  {
   "cell_type": "code",
   "execution_count": null,
   "metadata": {
    "tags": []
   },
   "outputs": [],
   "source": [
    "status = simulation.wait(print_residuals=False, interval_seconds=10)\n",
    "print(\"Simulation finished with status:\", status.name)"
   ]
  },
  {
   "attachments": {},
   "cell_type": "markdown",
   "metadata": {},
   "source": [
    "### Post-processing\n",
    "\n",
    "Now that the simulation is done, let's download and inspect the residuals..."
   ]
  },
  {
   "cell_type": "code",
   "execution_count": null,
   "metadata": {
    "tags": []
   },
   "outputs": [],
   "source": [
    "with simulation.download_global_residuals() as stream:\n",
    "    # since this is a steady state simulation, we can drop these columns\n",
    "    residuals_df = pd.read_csv(stream, index_col=\"Iteration index\").drop(\n",
    "        [\"Time step\", \"Physical time\"], axis=1\n",
    "    )\n",
    "residuals_df"
   ]
  },
  {
   "attachments": {},
   "cell_type": "markdown",
   "metadata": {},
   "source": [
    "Here we plot the residuals, similar to what we see in the UI."
   ]
  },
  {
   "cell_type": "code",
   "execution_count": null,
   "metadata": {
    "tags": []
   },
   "outputs": [],
   "source": [
    "ax = residuals_df.plot(logy=True, figsize=(12, 8))"
   ]
  },
  {
   "attachments": {},
   "cell_type": "markdown",
   "metadata": {},
   "source": [
    "In addition to residuals, the SDK also support additional outputs (specified as part of the params when creating a simulation). Let download and inspect the Lift output...\n",
    "\n",
    "**NOTE:** the surface names in the request below come from the mesh; we will soon\n",
    "have a GetMeshMetadata call that will allow SDK users to see the mesh names\n",
    "in order to pass the ones they want to this request."
   ]
  },
  {
   "cell_type": "code",
   "execution_count": null,
   "metadata": {
    "tags": []
   },
   "outputs": [],
   "source": [
    "ref_vals = ReferenceValues(\n",
    "    reference_value_type=ReferenceValuesType.PRESCRIBE_VALUES,\n",
    "    area_ref=1.0,\n",
    "    length_ref=1.0,\n",
    "    p_ref=101325.0,\n",
    "    t_ref=273.15,\n",
    "    v_ref=265.05709547039106,\n",
    ")\n",
    "\n",
    "# see documentation for more details about optional parameters\n",
    "with simulation.download_surface_output(\n",
    "    QuantityType.LIFT, [\"0/bound/airfoil\"], frame_id=\"body_frame_id\", reference_values=ref_vals\n",
    ") as stream:\n",
    "    # since this is a steady state simulation, we can drop these columns\n",
    "    lift_df = pd.read_csv(stream, index_col=\"Iteration index\").drop(\n",
    "        [\"Time step\", \"Physical time\"], axis=1\n",
    "    )\n",
    "lift_df"
   ]
  },
  {
   "cell_type": "code",
   "execution_count": null,
   "metadata": {},
   "outputs": [],
   "source": [
    "ref_vals = ReferenceValues(\n",
    "    reference_value_type=ReferenceValuesType.PRESCRIBE_VALUES,\n",
    "    area_ref=1.0,\n",
    "    length_ref=1.0,\n",
    "    p_ref=101325.0,\n",
    "    t_ref=273.15,\n",
    "    v_ref=265.05709547039106,\n",
    ")\n",
    "\n",
    "with simulation.download_surface_output(\n",
    "    QuantityType.PRESSURE_FORCE,\n",
    "    [\"0/bound/airfoil\"],\n",
    "    frame_id=\"body_frame_id\",\n",
    "    reference_values=ref_vals,\n",
    "    force_direction=lc.types.Vector3(1, 0, 0),\n",
    ") as stream:\n",
    "    # since this is a steady state simulation, we can drop these columns\n",
    "    pressure_df = pd.read_csv(stream, index_col=\"Iteration index\").drop(\n",
    "        [\"Time step\", \"Physical time\"], axis=1\n",
    "    )\n",
    "pressure_df"
   ]
  },
  {
   "cell_type": "code",
   "execution_count": null,
   "metadata": {
    "tags": []
   },
   "outputs": [],
   "source": [
    "ax = lift_df.plot(figsize=(12, 8))"
   ]
  },
  {
   "attachments": {},
   "cell_type": "markdown",
   "metadata": {},
   "source": [
    "Lastly, we can download the surface and volume solutions for external post-processing with Paraview:"
   ]
  },
  {
   "cell_type": "code",
   "execution_count": null,
   "metadata": {},
   "outputs": [],
   "source": [
    "latest_solution = simulation.list_solutions()[-1]\n",
    "with latest_solution.download_surface_data() as streaming_tar_file:\n",
    "    path = f\"./surface_data_{simulation.id}\"\n",
    "    streaming_tar_file.extractall(path)\n",
    "    print(f\"Extracted files to {path}:\")\n",
    "    print(\"\\t\" + \"\\n\\t\".join(os.listdir(path)))"
   ]
  },
  {
   "cell_type": "code",
   "execution_count": null,
   "metadata": {},
   "outputs": [],
   "source": [
    "with latest_solution.download_volume_data() as streaming_tar_file:\n",
    "    path = f\"./volume_solution_{simulation.id}\"\n",
    "    streaming_tar_file.extractall(path)\n",
    "    print(f\"Extracted files to {path}:\")\n",
    "    for root, dirs, filenames in os.walk(path):\n",
    "        print(\"\\t\" + \"\\n\\t\".join([os.path.join(root, file) for file in filenames]))"
   ]
  }
 ],
 "metadata": {
  "kernelspec": {
   "display_name": "venv-for-lc-sdk",
   "language": "python",
   "name": "python3"
  },
  "language_info": {
   "codemirror_mode": {
    "name": "ipython",
    "version": 3
   },
   "file_extension": ".py",
   "mimetype": "text/x-python",
   "name": "python",
   "nbconvert_exporter": "python",
   "pygments_lexer": "ipython3",
   "version": "3.12.3"
  }
 },
 "nbformat": 4,
 "nbformat_minor": 4
}
