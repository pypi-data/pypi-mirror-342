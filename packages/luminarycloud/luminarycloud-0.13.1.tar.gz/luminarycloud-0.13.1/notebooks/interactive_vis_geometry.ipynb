{
 "cells": [
  {
   "cell_type": "markdown",
   "id": "856506a2",
   "metadata": {},
   "source": [
    "# Example Interactive 3D Visualization of a Geometry Notebook\n",
    "This notebook shows how to create a new project, upload a geometry, and visualize the uploaded geometry interactively using the visualization widget.\n",
    "\n",
    "This notebook creates a new project \"SDK Import CAD Example\" using the Luminary Cloud SDK and uploads a new geometry into the project. The notebook then performs interactive visualization of the geometry to check that the geometry imported correctly into the Luminary Cloud application. The notebook first creates a new project, after which it uploads the `pipe.sab` file into the project to create a new geometry. Finally, it creates a `luminarycloud.vis.Scene` containing the geometry and calls `interact` on the scene to get an interactive scene to display in the notebook for interactive 3D visualization."
   ]
  },
  {
   "cell_type": "code",
   "execution_count": null,
   "id": "213a67d6-e585-49bf-bca3-73da6d90efc0",
   "metadata": {
    "execution": {
     "iopub.execute_input": "2025-04-03T01:09:19.027740Z",
     "iopub.status.busy": "2025-04-03T01:09:19.027326Z",
     "iopub.status.idle": "2025-04-03T01:09:19.633917Z",
     "shell.execute_reply": "2025-04-03T01:09:19.632762Z",
     "shell.execute_reply.started": "2025-04-03T01:09:19.027716Z"
    }
   },
   "outputs": [],
   "source": [
    "import luminarycloud as lc\n",
    "\n",
    "# Create a new project to import the CAD into\n",
    "project = lc.create_project(name=\"SDK Import CAD Example\")\n",
    "\n",
    "# Print the project to view information about it\n",
    "print(project)"
   ]
  },
  {
   "cell_type": "code",
   "execution_count": null,
   "id": "6108b064-b44a-4093-b43a-85b73345ad66",
   "metadata": {
    "execution": {
     "iopub.execute_input": "2025-04-03T01:09:21.933426Z",
     "iopub.status.busy": "2025-04-03T01:09:21.932953Z",
     "iopub.status.idle": "2025-04-03T01:09:25.793368Z",
     "shell.execute_reply": "2025-04-03T01:09:25.792249Z",
     "shell.execute_reply.started": "2025-04-03T01:09:21.933399Z"
    }
   },
   "outputs": [],
   "source": [
    "# Import our CAD file into the project\n",
    "cad_file = \"./pipe.sab\"\n",
    "geometry = project.create_geometry(cad_file, wait=True)\n",
    "\n",
    "# Print the geometry info to view information about it\n",
    "print(geometry)"
   ]
  },
  {
   "cell_type": "code",
   "execution_count": null,
   "id": "a5da24f8-617c-49da-ac6d-1ee7719665f5",
   "metadata": {
    "execution": {
     "iopub.execute_input": "2025-04-03T01:09:26.046507Z",
     "iopub.status.busy": "2025-04-03T01:09:26.044764Z",
     "iopub.status.idle": "2025-04-03T01:09:52.906364Z",
     "shell.execute_reply": "2025-04-03T01:09:52.905282Z",
     "shell.execute_reply.started": "2025-04-03T01:09:26.046458Z"
    }
   },
   "outputs": [],
   "source": [
    "# Make a vis scene to render our geometry, either statically or interactively\n",
    "scene = lc.vis.Scene(geometry)\n",
    "\n",
    "# In Jupyter environments we can call scene.interact and display\n",
    "# the return value to start interactive visualization of the scene\n",
    "interactive_scene = scene.interact()\n",
    "\n",
    "# We need to display the widget now. This requires us to be running\n",
    "# in Jupyter, where we could also just return the object from the cell\n",
    "# to automatically call display\n",
    "display(interactive_scene)"
   ]
  }
 ],
 "metadata": {
  "kernelspec": {
   "display_name": "Python 3 (ipykernel)",
   "language": "python",
   "name": "python3"
  },
  "language_info": {
   "codemirror_mode": {
    "name": "ipython",
    "version": 3
   },
   "file_extension": ".py",
   "mimetype": "text/x-python",
   "name": "python",
   "nbconvert_exporter": "python",
   "pygments_lexer": "ipython3",
   "version": "3.11.7"
  }
 },
 "nbformat": 4,
 "nbformat_minor": 5
}
