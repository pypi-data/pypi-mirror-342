{
 "cells": [
  {
   "cell_type": "markdown",
   "id": "cadaede0",
   "metadata": {},
   "source": [
    "# Piper Cherokee\n",
    "Tutorial for CFD beginners or new-to-Luminary users walking through setting up an external aerodynamics simulation.\n",
    "\n",
    "Based on the UI tutorial: https://docs.luminarycloud.com/en/articles/10157837-piper-cherokee\n",
    "\n",
    "## In this Tutorial\n",
    "\n",
    "The Piper PA-28 Cherokee is a small single-propeller aircraft intended for flight training and personal use. This tutorial will guide you through demonstrating and using Luminary Cloud's external aerodynamics solution.\n",
    "\n",
    "Follow the steps to upload a CAD file, generate a computational mesh, and analyze aerodynamic features.\n",
    "\n",
    "<img src=\"https://storage.googleapis.com/luminarycloud-learning/sample-projects/piper-cherokee/notebook-images/01-piper-cherokee-flow-vectors.png\" width=600 />\n"
   ]
  },
  {
   "cell_type": "markdown",
   "id": "000aecf7",
   "metadata": {},
   "source": [
    "## Initialize the SDK\n",
    "A simple way to use the SDK is to create a .env file with your API key. Create a file named .env with one line similar to:\n",
    "\n",
    "```LC_API_KEY=YOUR_API_KEY```\n",
    "\n",
    "You can generate an API key in the UI by navigating to My Account -> Profile in the left navigation menu under the heading \"API Keys\"."
   ]
  },
  {
   "cell_type": "markdown",
   "id": "fc380447",
   "metadata": {},
   "source": [
    "### Set your API key in the environment\n",
    "The simplest way to use the SDK is to create an API key in the UI and assign it to the environment variable LC_API_KEY before running this notebook.\n",
    "\n",
    "Alternatively, you can use the python-dotenv python package (see https://pypi.org/project/python-dotenv/) and create a .env file with your API key specified as:\n",
    "\n",
    "`LC_API_KEY=MY_API_KEY`\n",
    "\n",
    "Note that if you do not set the API key, you will be asked to authenticate interactively when you make your first SDK request."
   ]
  },
  {
   "cell_type": "code",
   "execution_count": null,
   "id": "7495ae5a",
   "metadata": {},
   "outputs": [],
   "source": [
    "# Uncomment to use python-dotenv for loading LC_API_KEY into the environment from a .env file\n",
    "# from dotenv import load_dotenv\n",
    "# load_success=load_dotenv()"
   ]
  },
  {
   "cell_type": "code",
   "execution_count": null,
   "id": "fb509703",
   "metadata": {},
   "outputs": [],
   "source": [
    "import luminarycloud as lc\n",
    "import luminarycloud.vis as vis\n",
    "from luminarycloud.geometry import Surface, Volume\n",
    "\n",
    "import threading\n",
    "import time\n",
    "from datetime import datetime\n",
    "from typing import Union, List, cast\n",
    "from uuid import uuid4\n",
    "\n",
    "import pandas as pd\n",
    "import plotly.express as px\n",
    "from PIL import Image\n",
    "\n",
    "from IPython.display import display, update_display"
   ]
  },
  {
   "cell_type": "markdown",
   "id": "74415041",
   "metadata": {},
   "source": [
    "## Create a New Project\n",
    "To create a new project, use the lc.create_project(name=name, description=description) command."
   ]
  },
  {
   "cell_type": "code",
   "execution_count": null,
   "id": "b9ce741e",
   "metadata": {},
   "outputs": [],
   "source": [
    "project = lc.create_project(\n",
    "    name=\"Piper Cherokee SDK Tutorial\",\n",
    "    description=\"This is a demo of the Luminary Cloud SDK with the Piper Cherokee\",\n",
    ")"
   ]
  },
  {
   "cell_type": "markdown",
   "id": "4e6b25b1",
   "metadata": {},
   "source": [
    "You can now view the created project details."
   ]
  },
  {
   "cell_type": "code",
   "execution_count": null,
   "id": "6d0fbd0e",
   "metadata": {},
   "outputs": [],
   "source": [
    "{\n",
    "    \"id\": project.id,\n",
    "    \"name\": project.name,\n",
    "    \"description\": project.description,\n",
    "    \"create_time\": project.create_time.isoformat(),\n",
    "    \"update_time\": project.update_time.isoformat(),\n",
    "}"
   ]
  },
  {
   "cell_type": "markdown",
   "id": "d9721053",
   "metadata": {},
   "source": [
    "## Upload the geometry (CAD)"
   ]
  },
  {
   "cell_type": "markdown",
   "id": "ec1da965",
   "metadata": {},
   "source": [
    "Now upload the Piper Cherokee model to your project. To do this, use:\n",
    "\n",
    "`geometry = project.create_geometry(cad_file_path, name=\"CAD name\", wait=True)`\n",
    "\n",
    "The `wait=True` parameter will wait until the geometry load is done before returning.\n"
   ]
  },
  {
   "cell_type": "code",
   "execution_count": null,
   "id": "6fe51bd4",
   "metadata": {},
   "outputs": [],
   "source": [
    "cad_file = \"../testdata/piper-cherokee-tutorial-cad.x_t\""
   ]
  },
  {
   "cell_type": "code",
   "execution_count": null,
   "id": "ad694e71",
   "metadata": {},
   "outputs": [],
   "source": [
    "geometry = project.create_geometry(cad_file, name=\"Piper Cherokee Model\", wait=True)"
   ]
  },
  {
   "cell_type": "markdown",
   "id": "537f86eb",
   "metadata": {},
   "source": [
    "## Identify farfield and plane surfaces\n",
    "Let's examine the geometry by getting its surfaces and volumes."
   ]
  },
  {
   "cell_type": "code",
   "execution_count": null,
   "id": "dffb9a86",
   "metadata": {},
   "outputs": [],
   "source": [
    "surfaces, volumes = geometry.list_entities()"
   ]
  },
  {
   "cell_type": "markdown",
   "id": "d95b85b1",
   "metadata": {},
   "source": [
    "We are interested in the surfaces representing the farfield and the plane."
   ]
  },
  {
   "cell_type": "markdown",
   "id": "173ff115",
   "metadata": {},
   "source": [
    "### Farfield surfaces\n",
    "\n",
    "In this model the farfield has an id of '0/bound/BC_14' so we will use this to distinguish the objects."
   ]
  },
  {
   "cell_type": "code",
   "execution_count": null,
   "id": "6064e5f0",
   "metadata": {},
   "outputs": [],
   "source": [
    "farfield_surface_id = \"0/bound/BC_14\"\n",
    "farfield_surfaces = [surface for surface in surfaces if surface.id == farfield_surface_id]"
   ]
  },
  {
   "cell_type": "markdown",
   "id": "ae2931b3",
   "metadata": {},
   "source": [
    "### Plane surfaces"
   ]
  },
  {
   "cell_type": "code",
   "execution_count": null,
   "id": "fb8eb812",
   "metadata": {},
   "outputs": [],
   "source": [
    "plane_surfaces = [surface for surface in surfaces if surface.id != farfield_surface_id]"
   ]
  },
  {
   "cell_type": "markdown",
   "id": "2e302e11",
   "metadata": {},
   "source": [
    "### Visualize the imported geometry\n",
    "\n",
    "We can visualize the geometry before proceeding.\n",
    "\n",
    "<img src=\"https://storage.googleapis.com/luminarycloud-learning/sample-projects/piper-cherokee/notebook-images/02-piper-cherokee-geometry.png\" width=600 />"
   ]
  },
  {
   "cell_type": "code",
   "execution_count": null,
   "id": "5863489d",
   "metadata": {},
   "outputs": [],
   "source": [
    "scene = vis.Scene(geometry)\n",
    "# Hide the far field surface\n",
    "scene.surface_visibility(farfield_surface_id, False)\n",
    "scene.global_display_attrs.representation = vis.Representation.SURFACE_WITH_EDGES\n",
    "\n",
    "camera = vis.LookAtCamera(\n",
    "    look_at=[3.5, 0.0, 0.52],\n",
    "    position=[-9.1, 12.6, 13.1],\n",
    "    projection=vis.CameraProjection.PERSPECTIVE,\n",
    "    width=2048,\n",
    "    height=1024,\n",
    ")\n",
    "scene.add_camera(camera)\n",
    "\n",
    "image_extract = scene.render_images(\n",
    "    name=\"piper geometry\", description=\"Piper geometry with the far field hidden.\"\n",
    ")\n",
    "image_extract.wait()\n",
    "\n",
    "# Extract the BytesIO object from the first tuple in the list\n",
    "image_buffer, label = image_extract.download_images()[0]\n",
    "image = Image.open(image_buffer)\n",
    "display(image)"
   ]
  },
  {
   "cell_type": "markdown",
   "id": "48f2f4a2",
   "metadata": {},
   "source": [
    "## Create tags"
   ]
  },
  {
   "cell_type": "markdown",
   "id": "d18a55bd",
   "metadata": {},
   "source": [
    "### Create the far field and plane tags\n",
    "Create tags for the far field and plane based on the identified surfaces."
   ]
  },
  {
   "cell_type": "code",
   "execution_count": null,
   "id": "3935767e",
   "metadata": {},
   "outputs": [],
   "source": [
    "geometry.create_tag(\"Far-field\", farfield_surfaces)\n",
    "geometry.create_tag(\"Plane\", plane_surfaces)"
   ]
  },
  {
   "cell_type": "markdown",
   "id": "7a58e9a1",
   "metadata": {},
   "source": [
    "### Create the fluid volume tag\n",
    "Create a new tag \"Fluid Volume\" from the one volume in the geometry. It must be passed as a list."
   ]
  },
  {
   "cell_type": "code",
   "execution_count": null,
   "id": "ce3bbb6b",
   "metadata": {},
   "outputs": [],
   "source": [
    "fluid_volume = volumes[0]\n",
    "geometry.create_tag(\"Fluid Volume\", [fluid_volume])"
   ]
  },
  {
   "cell_type": "markdown",
   "id": "030f07c6",
   "metadata": {},
   "source": [
    "## Load the geometry to setup\n",
    "\n",
    "This step is needed only if we want to see the model in the UI Setup screen.\n",
    "_NOTE: this operation is irreversible and deletes all the existing meshes and simulations in the project._"
   ]
  },
  {
   "cell_type": "code",
   "execution_count": null,
   "id": "3eaf1ade",
   "metadata": {},
   "outputs": [],
   "source": [
    "project.load_geometry_to_setup(geometry)"
   ]
  },
  {
   "cell_type": "markdown",
   "id": "020d0068",
   "metadata": {},
   "source": [
    "## Generate Mesh\n",
    "\n",
    "Before running a simulation, we'll need to generate a computational mesh based on the geometry in the project\n",
    "\n",
    "First we'll set up the parameters that are used to generate the mesh. Normally, you'll want to iterate this process, starting with a coarser mesh and refining it as needed.\n",
    "\n",
    "We recommend starting coarser and refining because this will require fewer computational resources in total. In this tutorial, we'll go ahead and generate a fine mesh"
   ]
  },
  {
   "cell_type": "markdown",
   "id": "609ba9a3",
   "metadata": {},
   "source": [
    "### Define model, volume, and boundary layer parameters\n",
    "\n",
    "Here we set the meshing parameters."
   ]
  },
  {
   "cell_type": "markdown",
   "id": "5d6d69d9",
   "metadata": {},
   "source": [
    "The model parameters are:\n",
    "\n",
    "- surfaces: plane_surfaces (which we created earlier)\n",
    "- curvature: 4 degrees\n",
    "- max_size: 0.05"
   ]
  },
  {
   "cell_type": "code",
   "execution_count": null,
   "id": "8a973dd3",
   "metadata": {},
   "outputs": [],
   "source": [
    "model_meshing_params = lc.meshing.ModelMeshingParams(\n",
    "    surfaces=plane_surfaces,\n",
    "    curvature=4,\n",
    "    max_size=0.05,\n",
    ")"
   ]
  },
  {
   "cell_type": "markdown",
   "id": "c3cfdc2a",
   "metadata": {},
   "source": [
    "The boundary layer parameters are:\n",
    "\n",
    "- surfaces: plane_surfaces\n",
    "- n_layers: 20\n",
    "- initial_size: 0.00001\n",
    "- growth_rate: 1.2"
   ]
  },
  {
   "cell_type": "code",
   "execution_count": null,
   "id": "3f5ec136",
   "metadata": {},
   "outputs": [],
   "source": [
    "boundary_layer_params = lc.meshing.BoundaryLayerParams(\n",
    "    surfaces=plane_surfaces,\n",
    "    n_layers=20,\n",
    "    initial_size=0.00001,\n",
    "    growth_rate=1.2,\n",
    ")"
   ]
  },
  {
   "cell_type": "markdown",
   "id": "837e188e",
   "metadata": {},
   "source": [
    "### Define sizing strategy\n",
    "Set the sizing strategy for the mesh. You can choose from the following:\n",
    "\n",
    "| Strategy    | Description               | Notes          |\n",
    "| :- | :- | :- |\n",
    "| lc.meshing.sizing_strategy.Minimal() | Minimal sizing strategy parameters. | If this is used, all other meshing parameters are ignored. |\n",
    "| lc.meshing.sizing_strategy.TargetCount(value) | Sizing strategy based on a target number of cells. | To reach a target number of cells, the edge length specifications will be proportionally scaled throughout the mesh. Requested boundary layer profiles will be maintained. |\n",
    "| lc.meshing.sizing_strategy.MaxCount(value)   | Sizing strategy based on a maximum number of cells. | If the mesh becomes larger than the max cell count, the mesh will be scaled. Requested boundary layer profiles will be maintained. |"
   ]
  },
  {
   "cell_type": "markdown",
   "id": "505b601a",
   "metadata": {},
   "source": [
    "We will use a target number of 20 million cells."
   ]
  },
  {
   "cell_type": "code",
   "execution_count": null,
   "id": "c8499a10",
   "metadata": {},
   "outputs": [],
   "source": [
    "target_count = 20_000_000\n",
    "sizing_strategy = lc.meshing.sizing_strategy.TargetCount(target_count)"
   ]
  },
  {
   "cell_type": "markdown",
   "id": "e860d894",
   "metadata": {},
   "source": [
    "### Set mesh parameters\n",
    "\n",
    "Now we set the meshing parameters based on the values we just set.\n",
    "\n",
    "Note that we have to specify the geometry ID shown earler, the sizing strategy, the model, volume, and boundary layer parameters, and the minimum and maximum size."
   ]
  },
  {
   "cell_type": "code",
   "execution_count": null,
   "id": "5e78d9bb",
   "metadata": {},
   "outputs": [],
   "source": [
    "mesh_params = lc.meshing.MeshGenerationParams(\n",
    "    geometry_id=geometry.id,\n",
    "    sizing_strategy=sizing_strategy,\n",
    "    model_meshing_params=[model_meshing_params],\n",
    "    boundary_layer_params=[boundary_layer_params],\n",
    "    min_size=0.005,\n",
    "    max_size=50,\n",
    ")"
   ]
  },
  {
   "cell_type": "markdown",
   "id": "d9ec9967",
   "metadata": {},
   "source": [
    "### Create mesh\n",
    "\n",
    "Now we create the mesh. This may take several minutes depending on the number of volumes to create"
   ]
  },
  {
   "cell_type": "code",
   "execution_count": null,
   "id": "96a43b21",
   "metadata": {},
   "outputs": [],
   "source": [
    "# mesh = project.create_or_get_mesh(mesh_params, name=\"Piper Cherokee 20M mesh\")"
   ]
  },
  {
   "cell_type": "code",
   "execution_count": null,
   "id": "9705f6a0",
   "metadata": {},
   "outputs": [],
   "source": [
    "# Workaround for mesh timeout\n",
    "mesh = None\n",
    "\n",
    "\n",
    "def run_mesh_creation() -> None:\n",
    "    global mesh\n",
    "    mesh = project.create_or_get_mesh(mesh_params, name=\"Piper Cherokee 20M mesh\")\n",
    "\n",
    "\n",
    "thread = threading.Thread(target=run_mesh_creation)\n",
    "thread.start()"
   ]
  },
  {
   "cell_type": "code",
   "execution_count": null,
   "id": "1df42560",
   "metadata": {
    "lines_to_next_cell": 2
   },
   "outputs": [],
   "source": [
    "elapsed_seconds = 0\n",
    "wait_seconds = 30\n",
    "\n",
    "current_time = datetime.now().isoformat()\n",
    "display(\n",
    "    f\"{current_time}: elapsed: {elapsed_seconds//60:02d}:{elapsed_seconds%60:02d}\",\n",
    "    display_id=\"status_display\",\n",
    ")\n",
    "\n",
    "while True:\n",
    "    meshes = project.list_meshes()\n",
    "    if len(meshes) > 0 and all(m.status.name == \"COMPLETED\" for m in meshes):\n",
    "        update_display(\n",
    "            f\"{current_time}: elapsed: {elapsed_seconds//60:02d}:{elapsed_seconds%60:02d}; all meshes have been generated.\",\n",
    "            display_id=\"status_display\",\n",
    "        )\n",
    "        break\n",
    "    else:\n",
    "        current_time = datetime.now().isoformat()\n",
    "        update_display(\n",
    "            f\"{current_time}: elapsed: {elapsed_seconds//60:02d}:{elapsed_seconds%60:02d}; waiting...\",\n",
    "            display_id=\"status_display\",\n",
    "        )\n",
    "        time.sleep(wait_seconds)\n",
    "        elapsed_seconds += wait_seconds"
   ]
  },
  {
   "cell_type": "markdown",
   "id": "8b1bab74",
   "metadata": {},
   "source": [
    "We can see the mesh details after the mesh has been created."
   ]
  },
  {
   "cell_type": "code",
   "execution_count": null,
   "id": "54283493",
   "metadata": {},
   "outputs": [],
   "source": [
    "mesh"
   ]
  },
  {
   "cell_type": "markdown",
   "id": "be4e6e20",
   "metadata": {},
   "source": [
    "We can also list all of the meshes in a project."
   ]
  },
  {
   "cell_type": "code",
   "execution_count": null,
   "id": "2d950ba1",
   "metadata": {},
   "outputs": [],
   "source": [
    "meshes = project.list_meshes()\n",
    "meshes"
   ]
  },
  {
   "cell_type": "markdown",
   "id": "df31c0ca",
   "metadata": {},
   "source": [
    "### Analyze the surface mesh\n",
    "\n",
    "We can visualize the surface mesh after it has been created.\n",
    "\n",
    "<img src=\"https://storage.googleapis.com/luminarycloud-learning/sample-projects/piper-cherokee/notebook-images/03-piper-cherokee-surface-mesh.png\" width=600 />"
   ]
  },
  {
   "cell_type": "code",
   "execution_count": null,
   "id": "3799ec20",
   "metadata": {
    "lines_to_next_cell": 2
   },
   "outputs": [],
   "source": [
    "# Check if mesh is None before passing to Scene constructor\n",
    "scene = vis.Scene(mesh if mesh is not None else geometry)\n",
    "# Hide the far field surface\n",
    "scene.surface_visibility(farfield_surface_id, False)\n",
    "scene.global_display_attrs.representation = vis.Representation.SURFACE_WITH_EDGES\n",
    "\n",
    "camera = vis.LookAtCamera(\n",
    "    look_at=[3.5, 0.0, 0.52],\n",
    "    position=[3.5, 0, 12],\n",
    "    up=[1, 0, 0],\n",
    "    projection=vis.CameraProjection.PERSPECTIVE,\n",
    "    width=4096,\n",
    "    height=4096,\n",
    ")\n",
    "scene.add_camera(camera)\n",
    "\n",
    "image_extract = scene.render_images(name=\"piper surface mesh\", description=\"Piper surface mesh.\")\n",
    "image_extract.wait()\n",
    "\n",
    "image_buffer, label = image_extract.download_images()[0]\n",
    "image = Image.open(image_buffer)\n",
    "display(image)"
   ]
  },
  {
   "cell_type": "markdown",
   "id": "79b6d44c",
   "metadata": {},
   "source": [
    "### Analyze the volume mesh\n",
    "\n",
    "We can also visualize the volume mesh. We need to use a PlaneClip to see a cross-section.\n",
    "\n",
    "<img src=\"https://storage.googleapis.com/luminarycloud-learning/sample-projects/piper-cherokee/notebook-images/04-piper-cherokee-volume-mesh.png\" width=600 />"
   ]
  },
  {
   "cell_type": "code",
   "execution_count": null,
   "id": "9f8a9190",
   "metadata": {},
   "outputs": [],
   "source": [
    "# Check if mesh is None before passing to Scene constructor\n",
    "scene = vis.Scene(mesh if mesh is not None else geometry)\n",
    "# Hide the far field surface\n",
    "scene.surface_visibility(farfield_surface_id, False)\n",
    "scene.global_display_attrs.representation = vis.Representation.SURFACE\n",
    "\n",
    "camera = vis.LookAtCamera(\n",
    "    look_at=[3.5, 0.0, 0.52],\n",
    "    position=[3.5, -10.9, 0.5],\n",
    "    projection=vis.CameraProjection.PERSPECTIVE,\n",
    "    width=2048,\n",
    "    height=1024,\n",
    ")\n",
    "scene.add_camera(camera)\n",
    "\n",
    "\n",
    "# Add a clip to visualize the mesh cells.\n",
    "clip = vis.PlaneClip(\"x-clip\")\n",
    "clip.plane.normal = [0, 1, 0]\n",
    "clip.plane.origin = [3.55, 0, 0.52]\n",
    "clip.display_attrs.representation = vis.Representation.SURFACE_WITH_EDGES\n",
    "scene.add_filter(clip)\n",
    "\n",
    "# Use a higher resolution to reduce line aliasing.\n",
    "image_extract = scene.render_images(name=\"piper volume mesh\", description=\"Piper volume mesh.\")\n",
    "image_extract.wait()\n",
    "\n",
    "image_buffer, label = image_extract.download_images()[0]\n",
    "image = Image.open(image_buffer)\n",
    "display(image)"
   ]
  },
  {
   "cell_type": "markdown",
   "id": "6b5a95e2",
   "metadata": {},
   "source": [
    "## Set up physics\n",
    "First set the identifier for the physics and the type (Fluid).\n",
    "\n",
    "Set the initialization to FluidFarfieldValues."
   ]
  },
  {
   "cell_type": "code",
   "execution_count": null,
   "id": "1203303e",
   "metadata": {},
   "outputs": [],
   "source": [
    "from luminarycloud import EntityIdentifier\n",
    "\n",
    "fluid_flow_physics = lc.params.simulation.Physics()\n",
    "\n",
    "fluid_flow_physics.physics_identifier = EntityIdentifier(id=str(uuid4()), name=\"fluid_flow_physics\")\n",
    "fluid_flow_physics.fluid = lc.params.simulation.physics.Fluid()\n",
    "\n",
    "fluid_flow_physics.fluid.initialization = (\n",
    "    lc.params.simulation.physics.fluid.initialization.FluidFarfieldValues()\n",
    ")"
   ]
  },
  {
   "cell_type": "markdown",
   "id": "e1c0c614",
   "metadata": {},
   "source": [
    "### Set up material (air)"
   ]
  },
  {
   "cell_type": "code",
   "execution_count": null,
   "id": "0c51f0f1",
   "metadata": {},
   "outputs": [],
   "source": [
    "\n",
    "material_model = lc.params.simulation.material.fluid.material_model.IdealGas(\n",
    "    molecular_weight=28.966,\n",
    "    specific_heat_cp=1006.4,\n",
    ")\n",
    "\n",
    "thermal_conductivity_model = (\n",
    "    lc.params.simulation.material.fluid.thermal_conductivity_model.PrescribedPrandtlNumber(\n",
    "        prandtl_number=0.72,\n",
    "    )\n",
    ")\n",
    "\n",
    "viscosity_model = lc.params.simulation.material.fluid.viscosity_model.Sutherland(\n",
    "    reference_viscosity=1.716e-5,\n",
    "    reference_temperature=264.37,\n",
    "    sutherland_constant=110.56,\n",
    ")\n",
    "\n",
    "fluid_material = lc.params.simulation.material.MaterialFluid(\n",
    "    reference_pressure=0,\n",
    "    material_model=material_model,\n",
    "    thermal_conductivity_model=thermal_conductivity_model,\n",
    "    viscosity_model=viscosity_model,\n",
    ")\n",
    "\n",
    "air_material = lc.params.simulation.MaterialEntity(\n",
    "    material_identifier=EntityIdentifier(id=str(uuid4()), name=\"air_fluid\"),\n",
    "    fluid=fluid_material,\n",
    ")"
   ]
  },
  {
   "cell_type": "markdown",
   "id": "c39cdb1c",
   "metadata": {},
   "source": [
    "### Boundary conditions"
   ]
  },
  {
   "cell_type": "markdown",
   "id": "5b3b4824",
   "metadata": {},
   "source": [
    "#### Define wall boundary condition\n",
    "\n",
    "The wall boundary condition represents a solid, impermeable surface where the flow interacts with a physical object, such as an aircraft fuselage, a car body, or a pipe wall. The specific treatment of the boundary depends on whether the flow is no-slip (viscous flow) or slip (inviscid flow).\n",
    "\n",
    "For this simulation we set the wall boundary to the surfaces of the plane, and the momentum as no-slip."
   ]
  },
  {
   "cell_type": "code",
   "execution_count": null,
   "id": "2df229c7",
   "metadata": {},
   "outputs": [],
   "source": [
    "# Create the wall boundary condition using the enum value\n",
    "wall_bc = lc.params.simulation.physics.fluid.boundary_conditions.Wall(\n",
    "    name=\"Wall\",\n",
    "    surfaces=[s.id for s in plane_surfaces],\n",
    "    momentum=lc.params.simulation.physics.fluid.boundary_conditions.wall.momentum.NoSlip(),\n",
    ")"
   ]
  },
  {
   "cell_type": "markdown",
   "id": "bb408993",
   "metadata": {},
   "source": [
    "#### Define far field boundary condition\n",
    "\n",
    "Your farfield boundary defines the atmospheric conditions in which your aircraft is flying. The farfield ensures that disturbances from the aircraft dissipate naturally, preventing artificial reflections. These values define the ambient conditions that your aircraft or object is moving through.\n",
    "\n",
    "`name=\"Farfield\"`\n",
    "\n",
    "The name of the farfield boundary condition\n",
    "\n",
    "`surfaces=surface_ids`\n",
    "\n",
    "This is a list of the IDs for the surfaces that define the far field boundary.\n",
    "\n",
    "`mach_number=0.216`\n",
    "\n",
    "This defines a subsonic flow condition (about 73.4 m/s if the speed of sound is ~340 m/s).\n",
    "\n",
    "`pressure=70100`\n",
    "\n",
    "This is the static pressure at the farfield, which is lower than sea-level atmospheric pressure (suggesting a higher-altitude simulation).\n",
    "\n",
    "`temperature=288.15`\n",
    "\n",
    "This is 15°C, close to standard sea-level conditions in the International Standard Atmosphere (ISA).\n",
    "\n",
    "\n",
    "\n",
    "##### Direction\n",
    "\n",
    "`direction_specification=FARFIELD_ANGLES`\n",
    "\n",
    "This means the flow direction is set using angles (instead of velocity components).\n",
    "\n",
    "##### Angle of Attack:\n",
    "The flow is coming in at a slight upward angle (2° AoA), which is common for lift-producing wings.\n",
    "\n",
    "`angle_alpha = 2.0`\n",
    "\n",
    "This sets an angle of attack (AoA) of 2 degrees, meaning the airflow is slightly inclined relative to the aircraft.\n",
    "\n",
    "`angle_beta = 0.0`\n",
    "\n",
    "No sideslip angle, meaning the flow is aligned with the aircraft’s centerline in the lateral direction.\n"
   ]
  },
  {
   "cell_type": "code",
   "execution_count": null,
   "id": "cfa82971",
   "metadata": {},
   "outputs": [],
   "source": [
    "farfield_bc = lc.params.simulation.physics.fluid.boundary_conditions.Farfield(\n",
    "    name=\"Farfield\",\n",
    "    surfaces=[farfield_surface_id],\n",
    "    mach_number=0.216,\n",
    "    pressure=70100,\n",
    "    temperature=288.15,\n",
    "    direction_specification=lc.params.enum.FarFieldFlowDirectionSpecification.FARFIELD_ANGLES,\n",
    "    angle_alpha=2.0,\n",
    "    angle_beta=0.0,\n",
    ")"
   ]
  },
  {
   "cell_type": "markdown",
   "id": "5f8de993",
   "metadata": {},
   "source": [
    "#### Set boundary conditions\n",
    "\n",
    "The boundary conditions includes the farfield and wall boundary conditions."
   ]
  },
  {
   "cell_type": "code",
   "execution_count": null,
   "id": "63f665d1",
   "metadata": {},
   "outputs": [],
   "source": [
    "fluid_flow_physics.fluid.boundary_conditions = [farfield_bc, wall_bc]"
   ]
  },
  {
   "cell_type": "markdown",
   "id": "c43224d4",
   "metadata": {},
   "source": [
    "## Create simulation parameters"
   ]
  },
  {
   "cell_type": "code",
   "execution_count": null,
   "id": "9c00ff17",
   "metadata": {},
   "outputs": [],
   "source": [
    "sim_params = lc.SimulationParam()\n",
    "sim_params.assign_material(air_material, fluid_volume)\n",
    "sim_params.assign_physics(fluid_flow_physics, fluid_volume)"
   ]
  },
  {
   "cell_type": "markdown",
   "id": "f211ccd0",
   "metadata": {},
   "source": [
    "## Simulation"
   ]
  },
  {
   "cell_type": "markdown",
   "id": "727b1592",
   "metadata": {},
   "source": [
    "### Create a simulation template\n",
    "\n",
    "We use a simulation template to hold the parameters for a simulation. In order to run the simulation, first create a simulation template based on the simulation parameters."
   ]
  },
  {
   "cell_type": "code",
   "execution_count": null,
   "id": "8c382b64",
   "metadata": {},
   "outputs": [],
   "source": [
    "simulation_parameters = sim_params._to_proto()"
   ]
  },
  {
   "cell_type": "code",
   "execution_count": null,
   "id": "32347029",
   "metadata": {},
   "outputs": [],
   "source": [
    "simulation_template = project.create_simulation_template(\n",
    "    name=\"piper simulation parameters\",\n",
    "    parameters=simulation_parameters,\n",
    ")"
   ]
  },
  {
   "cell_type": "markdown",
   "id": "dae6bb29",
   "metadata": {},
   "source": [
    "### Configure outputs"
   ]
  },
  {
   "cell_type": "markdown",
   "id": "3119edd5",
   "metadata": {},
   "source": [
    "We output equation residuals and surface-integrated scalar outputs at every iteration, on all surfaces, volumes, monitor planes, and monitor points. This allows you to extract outputs after running a simulation without requiring you to re-run the simulation!\n",
    "\n",
    "However, if you’d like to define a stopping condition based on an output, you need to define a specific output first. Otherwise, declaring outputs up front is optional."
   ]
  },
  {
   "cell_type": "code",
   "execution_count": null,
   "id": "7ebb7c54",
   "metadata": {},
   "outputs": [],
   "source": [
    "lift = simulation_template.create_output_definition(\n",
    "    lc.outputs.ForceOutputDefinition(\n",
    "        name=\"Lift\",\n",
    "        quantity=lc.enum.QuantityType.LIFT,\n",
    "        surfaces=[s.id for s in plane_surfaces],\n",
    "    )\n",
    ")"
   ]
  },
  {
   "cell_type": "code",
   "execution_count": null,
   "id": "ded03725",
   "metadata": {},
   "outputs": [],
   "source": [
    "drag = simulation_template.create_output_definition(\n",
    "    lc.outputs.ForceOutputDefinition(\n",
    "        name=\"Drag\",\n",
    "        quantity=lc.enum.QuantityType.DRAG,\n",
    "        surfaces=[s.id for s in plane_surfaces],\n",
    "    )\n",
    ")"
   ]
  },
  {
   "cell_type": "markdown",
   "id": "e528e402",
   "metadata": {},
   "source": [
    "### Set stopping conditions"
   ]
  },
  {
   "cell_type": "markdown",
   "id": "c90c772a",
   "metadata": {},
   "source": [
    "Stopping Conditions are used to determine when a simulation exits and saves results. Here we set a stopping condition based on one of the custom outputs we just defined, and we'll stop the simulation after a maximum number of iterations even if the stopping condition is unmet."
   ]
  },
  {
   "cell_type": "code",
   "execution_count": null,
   "id": "c1dc180f",
   "metadata": {},
   "outputs": [],
   "source": [
    "simulation_template.create_or_update_stopping_condition(\n",
    "    output_definition_id=lift.id,\n",
    "    threshold=0.00_01,  # 0.01%\n",
    "    start_at_iteration=500,\n",
    "    averaging_iterations=10,\n",
    "    iterations_to_consider=5,\n",
    ")"
   ]
  },
  {
   "cell_type": "code",
   "execution_count": null,
   "id": "bbfedd84",
   "metadata": {},
   "outputs": [],
   "source": [
    "simulation_template.update_general_stopping_conditions(max_iterations=2000)  # type: ignore"
   ]
  },
  {
   "cell_type": "markdown",
   "id": "9ea9cd0b",
   "metadata": {},
   "source": [
    "### Run the simulation"
   ]
  },
  {
   "cell_type": "code",
   "execution_count": null,
   "id": "8fb4034c",
   "metadata": {},
   "outputs": [],
   "source": [
    "# Check if mesh is None before accessing its id attribute\n",
    "simulation = project.create_simulation(\n",
    "    mesh.id if mesh is not None else meshes[0].id,\n",
    "    name=\"Piper simulation\",\n",
    "    simulation_template_id=simulation_template.id,\n",
    "    batch_processing=False,\n",
    ")\n",
    "simulation"
   ]
  },
  {
   "cell_type": "markdown",
   "id": "249a3db9",
   "metadata": {},
   "source": [
    "Note that the status is **SIMULATION_STATUS_ACTIVE** (**ACTIVE**) while running. We must wait for the simulation to finish."
   ]
  },
  {
   "cell_type": "code",
   "execution_count": null,
   "id": "118ce007",
   "metadata": {},
   "outputs": [],
   "source": [
    "# Wait for simulation\n",
    "# We are getting the simulation status using project.list_simulations()[0].status.name; this will be replaced by a function\n",
    "done = False\n",
    "spinner = \"⠋⠙⠹⠸⠼⠴⠦⠧⠇⠏\"\n",
    "display(f\"Status: {simulation.status.name}⠏\", display_id=\"status_display\")\n",
    "i = 0\n",
    "while not done:\n",
    "    sim_status = project.list_simulations()[0].status.name\n",
    "    if sim_status != \"ACTIVE\":\n",
    "        update_display(f\"Status: {sim_status}\", display_id=\"status_display\")\n",
    "        done = True\n",
    "        break\n",
    "    i += 1\n",
    "    update_display(f\"Status: {sim_status}{spinner[i % len(spinner)]}\", display_id=\"status_display\")\n",
    "    time.sleep(0.5)"
   ]
  },
  {
   "cell_type": "markdown",
   "id": "21c7dfa2",
   "metadata": {},
   "source": [
    "## Plot residuals\n",
    "\n",
    "Now we can download the residuals as CSV and plot them."
   ]
  },
  {
   "cell_type": "code",
   "execution_count": null,
   "id": "4f90c4f4",
   "metadata": {},
   "outputs": [],
   "source": [
    "with simulation.download_global_residuals() as stream:\n",
    "    # since this is a steady state simulation, we can drop these columns\n",
    "    residuals_df = pd.read_csv(stream, index_col=\"Iteration index\").drop(\n",
    "        [\"Time step\", \"Physical time\"], axis=1\n",
    "    )\n",
    "residuals_df"
   ]
  },
  {
   "cell_type": "code",
   "execution_count": null,
   "id": "bf59491e",
   "metadata": {},
   "outputs": [],
   "source": [
    "# We want to plot all residuals on a log scale (residuals are typically shown this way)\n",
    "# 'Spalart-Allmaras Variable' is also available for plotting\n",
    "fig = px.line(\n",
    "    residuals_df,\n",
    "    x=residuals_df.index,\n",
    "    y=[\"X-Momentum Residual\", \"Y-Momentum Residual\", \"Z-Momentum Residual\", \"Energy Residual\"],\n",
    "    title=\"Residuals vs Iteration\",\n",
    "    template=\"plotly_white\",\n",
    "    log_y=True,\n",
    ")  # Using log scale for y-axis since these are residuals\n",
    "\n",
    "fig.update_layout(\n",
    "    xaxis_title=\"Iteration\",\n",
    "    yaxis_title=\"Residual Value\",\n",
    "    width=1000,\n",
    "    height=600,\n",
    "    showlegend=True,\n",
    "    legend_title=\"Residual Type\",\n",
    "    legend=dict(\n",
    "        orientation=\"h\",  # horizontal orientation\n",
    "        yanchor=\"bottom\",\n",
    "        y=-0.2,  # position below the plot\n",
    "        xanchor=\"center\",\n",
    "        x=0.5,  # centered horizontally\n",
    "    ),\n",
    ")\n",
    "\n",
    "# Optional: Update line styles for better visibility\n",
    "fig.update_traces(mode=\"lines\")\n",
    "\n",
    "fig.show()"
   ]
  },
  {
   "cell_type": "code",
   "execution_count": null,
   "id": "7a097067",
   "metadata": {},
   "outputs": [],
   "source": [
    "# Check if mesh is None before accessing its id attribute\n",
    "mesh_metadata = lc.get_mesh_metadata(mesh.id if mesh is not None else meshes[0].id)\n",
    "target_boundaries = [\"0/bound/BC_1\"]"
   ]
  },
  {
   "cell_type": "code",
   "execution_count": null,
   "id": "65cebeec",
   "metadata": {},
   "outputs": [],
   "source": [
    "from luminarycloud.enum import ReferenceValuesType\n",
    "from luminarycloud.reference_values import ReferenceValues\n",
    "from luminarycloud.enum import QuantityType, CalculationType, SimulationStatus, ReferenceValuesType\n",
    "\n",
    "ref_vals = ReferenceValues(\n",
    "    reference_value_type=ReferenceValuesType.PRESCRIBE_VALUES,\n",
    "    area_ref=10.0,\n",
    "    length_ref=10.0,\n",
    "    p_ref=101325.0,\n",
    "    t_ref=273.15,\n",
    "    v_ref=265.05709547039106,\n",
    ")\n",
    "\n",
    "# see documentation for more details about optional parameters\n",
    "with simulation.download_surface_output(\n",
    "    QuantityType.LIFT,\n",
    "    target_boundaries,\n",
    "    reference_values=ref_vals,\n",
    "    frame_id=\"body_frame_id\",\n",
    ") as stream:\n",
    "    # since this is a steady state simulation, we can drop \"Time step\" and \"Physical time\"\n",
    "    lift_df = pd.read_csv(stream, index_col=\"Iteration index\").drop(\n",
    "        [\"Time step\", \"Physical time\"], axis=1\n",
    "    )\n",
    "    # rename lift column\n",
    "    lift_df = lift_df.rename(columns={\"Lift - 0/bound/BC_1\": \"lift\"})"
   ]
  },
  {
   "cell_type": "code",
   "execution_count": null,
   "id": "73865f47",
   "metadata": {},
   "outputs": [],
   "source": [
    "lift_df"
   ]
  },
  {
   "cell_type": "code",
   "execution_count": null,
   "id": "d5303f1c",
   "metadata": {},
   "outputs": [],
   "source": [
    "fig = px.line(lift_df, y=\"lift\", title=\"Lift vs Iteration\", template=\"plotly_white\")\n",
    "\n",
    "fig.update_layout(xaxis_title=\"Iteration\", yaxis_title=\"Lift\", width=800, height=500)\n",
    "\n",
    "fig.show()"
   ]
  },
  {
   "cell_type": "code",
   "execution_count": null,
   "id": "1fa0bc5f",
   "metadata": {},
   "outputs": [],
   "source": [
    "# see documentation for more details about optional parameters\n",
    "with simulation.download_surface_output(\n",
    "    QuantityType.DRAG,\n",
    "    target_boundaries,\n",
    "    reference_values=ref_vals,\n",
    "    frame_id=\"body_frame_id\",\n",
    ") as stream:\n",
    "    # since this is a steady state simulation, we can drop \"Time step\" and \"Physical time\"\n",
    "    drag_df = pd.read_csv(stream, index_col=\"Iteration index\").drop(\n",
    "        [\"Time step\", \"Physical time\"], axis=1\n",
    "    )\n",
    "    # rename drag column\n",
    "    drag_df = drag_df.rename(columns={\"Drag - 0/bound/BC_1\": \"drag\"})"
   ]
  },
  {
   "cell_type": "code",
   "execution_count": null,
   "id": "03c0afb6",
   "metadata": {},
   "outputs": [],
   "source": [
    "drag_df"
   ]
  },
  {
   "cell_type": "code",
   "execution_count": null,
   "id": "0f6de57d",
   "metadata": {},
   "outputs": [],
   "source": [
    "fig = px.line(drag_df, y=\"drag\", title=\"Drag vs Iteration\", template=\"plotly_white\")\n",
    "\n",
    "fig.update_layout(xaxis_title=\"Iteration\", yaxis_title=\"Drag\", width=800, height=500)\n",
    "\n",
    "fig.show()"
   ]
  },
  {
   "cell_type": "markdown",
   "id": "ef76815f",
   "metadata": {},
   "source": [
    "### Visualizing flow movement\n",
    "\n",
    "One of the powerful abilities of computational fluid dynamics is that it can allow us to visualize the usually invisible movement of a fluid past an object. This understanding can be critical in improving the designs of vehicles and aircraft.\n",
    "\n",
    "<img src=\"https://storage.googleapis.com/luminarycloud-learning/sample-projects/piper-cherokee/notebook-images/05-piper-cherokee-flow-slice.png\" width=600 />"
   ]
  },
  {
   "cell_type": "code",
   "execution_count": null,
   "id": "c25166d0",
   "metadata": {
    "lines_to_next_cell": 2
   },
   "outputs": [],
   "source": [
    "\n",
    "# Pick the last iteration\n",
    "solution = simulation.list_solutions()[-1]\n",
    "scene = vis.Scene(solution)\n",
    "\n",
    "# Hide the far field surface\n",
    "scene.hide_far_field()\n",
    "scene.global_display_attrs.representation = vis.Representation.SURFACE\n",
    "scene.global_display_attrs.field.quantity = vis.VisQuantity.NONE\n",
    "\n",
    "camera = vis.LookAtCamera(\n",
    "    look_at=[4.0, 0.0, 0.0],\n",
    "    position=[-4.0, -7.0, 7.0],\n",
    "    projection=vis.CameraProjection.PERSPECTIVE,\n",
    "    width=2048,\n",
    "    height=1024,\n",
    ")\n",
    "scene.add_camera(camera)\n",
    "\n",
    "# Add a slice to visualize the volume solution.\n",
    "slice = vis.Slice(\"x-slice\")\n",
    "slice.plane.normal = [0, 1, 0]\n",
    "slice.plane.origin = [3.55, 0, 0.52]\n",
    "slice.display_attrs.representation = vis.Representation.SURFACE\n",
    "slice.display_attrs.field.quantity = vis.VisQuantity.VELOCITY\n",
    "slice.display_attrs.field.component = vis.FieldComponent.MAGNITUDE\n",
    "scene.add_filter(slice)\n",
    "\n",
    "# Use a higher resolution to reduce line aliasing.\n",
    "image_extract = scene.render_images(\n",
    "    name=\"piper volume solution\", description=\"Piper volume solution visualization.\"\n",
    ")\n",
    "image_extract.wait()\n",
    "\n",
    "image_buffer, label = image_extract.download_images()[0]\n",
    "image = Image.open(image_buffer)\n",
    "display(image)"
   ]
  },
  {
   "cell_type": "markdown",
   "id": "711bc48c",
   "metadata": {},
   "source": [
    "We can also visualize the velocity vectors.\n",
    "\n",
    "<img src=\"https://storage.googleapis.com/luminarycloud-learning/sample-projects/piper-cherokee/notebook-images/06-piper-cherokee-flow-vectors.png\" width=600 />\n"
   ]
  },
  {
   "cell_type": "code",
   "execution_count": null,
   "id": "92005950",
   "metadata": {},
   "outputs": [],
   "source": [
    "scene = vis.Scene(solution)\n",
    "# Hide the far field surface\n",
    "scene.hide_far_field()\n",
    "scene.global_display_attrs.representation = vis.Representation.SURFACE\n",
    "scene.global_display_attrs.field.quantity = vis.VisQuantity.NONE\n",
    "\n",
    "camera = vis.LookAtCamera(\n",
    "    look_at=[4.0, 0.0, 0.0],\n",
    "    position=[-4.0, -7.0, 7.0],\n",
    "    projection=vis.CameraProjection.PERSPECTIVE,\n",
    "    width=2048,\n",
    "    height=1024,\n",
    ")\n",
    "scene.add_camera(camera)\n",
    "\n",
    "# Add a slice to visualize the volume solution.\n",
    "glyph = vis.FixedSizeVectorGlyphs(\"glyphs\")\n",
    "glyph.field.quantity = vis.VisQuantity.VELOCITY\n",
    "glyph.sampling_rate = 1000\n",
    "glyph.size = 0.2\n",
    "glyph.display_attrs.representation = vis.Representation.SURFACE\n",
    "glyph.display_attrs.field.quantity = vis.VisQuantity.VELOCITY\n",
    "glyph.display_attrs.field.component = vis.FieldComponent.MAGNITUDE\n",
    "scene.add_filter(glyph)\n",
    "\n",
    "# Use a higher resolution to reduce line aliasing.\n",
    "image_extract = scene.render_images(\n",
    "    name=\"piper volume solution\", description=\"Piper volume solution visualization.\"\n",
    ")\n",
    "image_extract.wait()\n",
    "\n",
    "image_buffer, label = image_extract.download_images()[0]\n",
    "image = Image.open(image_buffer)\n",
    "display(image)"
   ]
  }
 ],
 "metadata": {
  "kernelspec": {
   "display_name": "Python 3 (ipykernel)",
   "language": "python",
   "name": "python3"
  }
 },
 "nbformat": 4,
 "nbformat_minor": 5
}
