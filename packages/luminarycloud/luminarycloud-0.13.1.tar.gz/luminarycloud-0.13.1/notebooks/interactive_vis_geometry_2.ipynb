{
 "cells": [
  {
   "cell_type": "code",
   "execution_count": null,
   "metadata": {},
   "outputs": [],
   "source": [
    "\"\"\"\n",
    "This script presents an example of how to use lc.vis widget to view and visualize a geometry.\n",
    "\"\"\"\n",
    "\n",
    "import luminarycloud as lc\n",
    "from luminarycloud import vis\n",
    "\n",
    "# Step 1: Get your project\n",
    "project_id = \"p-some-project-id\"  # Replace with your project ID\n",
    "project = lc.get_project(project_id)\n",
    "\n",
    "# Step 2: List geometries in the project\n",
    "geometries = project.list_geometries()\n",
    "print(f\"Geometries in project '{project.name}':\")\n",
    "for i, geometry in enumerate(geometries):\n",
    "    print(f\"{i+1}. {geometry.name} (ID: {geometry.id})\")\n",
    "\n",
    "# Step 3: Select a geometry to visualize (using the first one in this example)\n",
    "geometry_id = geometries[0].id  # \"geo-756ba149-cd03-4e4d-8f16-19a590ef25fd\"\n",
    "geometry = lc.get_geometry(geometry_id)\n",
    "\n",
    "# Step 4: Create a visualization scene\n",
    "scene = vis.Scene(geometry)\n",
    "\n",
    "# Step 5: Configure display attributes (optional)\n",
    "scene.global_display_attrs.representation = vis.Representation.SURFACE_WITH_EDGES\n",
    "# Set fully opaque (default is 1.0, and 0.0 is fully transparent)\n",
    "scene.global_display_attrs.opacity = 1.0\n",
    "\n",
    "# Step 6: Create an interactive scene for visualization\n",
    "# This will create a 3D widget that you can interact with\n",
    "interactive_scene = scene.interact()\n",
    "\n",
    "# Step 7: Display the interactive scene\n",
    "# In a Jupyter notebook, this will show the 3D visualization widget\n",
    "display(interactive_scene)  # Run this in a Jupyter notebook"
   ]
  }
 ],
 "metadata": {
  "kernelspec": {
   "display_name": "assistant-BuPqV3Hq-py3.12",
   "language": "python",
   "name": "python3"
  },
  "language_info": {
   "name": "python",
   "version": "3.12.3"
  }
 },
 "nbformat": 4,
 "nbformat_minor": 2
}
