{
 "cells": [
  {
   "cell_type": "markdown",
   "id": "631ab333",
   "metadata": {},
   "source": [
    "# Example Interactive 3D Visualization of a Mesh Notebook\n",
    "\n",
    "This notebook demonstrates visualization of a mesh in a project using the visualization widget interactively.\n",
    "\n",
    "This notebook finds an existing project named \"triceratops\" using the Luminary Cloud SDK and performs interactive visualization of the project's mesh within a Jupyter environment. The notebook first iterates through the projects to find the project with the desired name, after which it lists the meshes in the project to find the last one to look at. Finally, it creates a `luminarycloud.vis.Scene` containing the mesh and calls `interact` on the scene to get an interactive scene to display in the notebook for interactive 3D visualization."
   ]
  },
  {
   "cell_type": "code",
   "execution_count": null,
   "id": "213a67d6-e585-49bf-bca3-73da6d90efc0",
   "metadata": {
    "execution": {
     "iopub.execute_input": "2025-04-03T01:08:04.722585Z",
     "iopub.status.busy": "2025-04-03T01:08:04.721968Z",
     "iopub.status.idle": "2025-04-03T01:08:05.539903Z",
     "shell.execute_reply": "2025-04-03T01:08:05.539162Z",
     "shell.execute_reply.started": "2025-04-03T01:08:04.722556Z"
    }
   },
   "outputs": [],
   "source": [
    "import luminarycloud as lc\n",
    "\n",
    "# Find the project we want to visualize using iterate_projects to\n",
    "# list the projects we have in our account\n",
    "project_name = \"triceratops\"\n",
    "project = None\n",
    "for proj in lc.iterate_projects():\n",
    "    # When we find the project with the desired name store it\n",
    "    # and exit the loop\n",
    "    if proj.name == project_name:\n",
    "        project = proj\n",
    "        break\n",
    "\n",
    "print(project)"
   ]
  },
  {
   "cell_type": "code",
   "execution_count": null,
   "id": "e0bd6477-0591-4775-8dcb-68d55ffc4e38",
   "metadata": {
    "execution": {
     "iopub.execute_input": "2025-04-03T01:08:07.267661Z",
     "iopub.status.busy": "2025-04-03T01:08:07.267094Z",
     "iopub.status.idle": "2025-04-03T01:08:07.349897Z",
     "shell.execute_reply": "2025-04-03T01:08:07.349342Z",
     "shell.execute_reply.started": "2025-04-03T01:08:07.267615Z"
    }
   },
   "outputs": [],
   "source": [
    "# Get the first mesh from the project and print it to view info about it\n",
    "mesh = project.list_meshes()[-1]\n",
    "print(mesh)"
   ]
  },
  {
   "cell_type": "code",
   "execution_count": null,
   "id": "29054d88-af76-405b-898d-238edb1a850e",
   "metadata": {
    "execution": {
     "iopub.execute_input": "2025-04-03T01:08:49.040698Z",
     "iopub.status.busy": "2025-04-03T01:08:49.039953Z",
     "iopub.status.idle": "2025-04-03T01:08:50.275819Z",
     "shell.execute_reply": "2025-04-03T01:08:50.275061Z",
     "shell.execute_reply.started": "2025-04-03T01:08:49.040645Z"
    }
   },
   "outputs": [],
   "source": [
    "# Make a vis scene to render our geometry, either statically or interactively\n",
    "scene = lc.vis.Scene(mesh)\n",
    "\n",
    "# Use the interactive scene to view the scene interactively in Jupyter.\n",
    "# By displaying the interactive scene in the Jupyter environment we can\n",
    "# open up an interactive 3D viewer to see the data\n",
    "interactive_scene = scene.interact()\n",
    "\n",
    "# We need to display the widget now. This requires us to be running\n",
    "# in Jupyter, where we could also just return the object from the cell\n",
    "# to automatically call display\n",
    "display(interactive_scene)"
   ]
  }
 ],
 "metadata": {
  "kernelspec": {
   "display_name": "Python 3 (ipykernel)",
   "language": "python",
   "name": "python3"
  },
  "language_info": {
   "codemirror_mode": {
    "name": "ipython",
    "version": 3
   },
   "file_extension": ".py",
   "mimetype": "text/x-python",
   "name": "python",
   "nbconvert_exporter": "python",
   "pygments_lexer": "ipython3",
   "version": "3.11.7"
  }
 },
 "nbformat": 4,
 "nbformat_minor": 5
}
