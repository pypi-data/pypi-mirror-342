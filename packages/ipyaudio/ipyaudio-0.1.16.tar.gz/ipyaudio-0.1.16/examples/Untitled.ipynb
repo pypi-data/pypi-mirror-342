{
 "cells": [
  {
   "cell_type": "code",
   "execution_count": 1,
   "id": "66603572-848a-4585-bd04-d2e8cec85ba0",
   "metadata": {},
   "outputs": [
    {
     "data": {
      "application/vnd.jupyter.widget-view+json": {
       "model_id": "9f6ef65de7314cbb86e38e0149956a43",
       "version_major": 2,
       "version_minor": 0
      },
      "text/plain": [
       "VBox(children=(Recorder(value=None, config={'options': {'backend': 'WebAudio', 'container': '', 'waveColor': '…"
      ]
     },
     "metadata": {},
     "output_type": "display_data"
    }
   ],
   "source": [
    "from ipyaudio import Recorder, play, Player\n",
    "recorder = Recorder(verbose=True, sync=True)"
   ]
  },
  {
   "cell_type": "code",
   "execution_count": 2,
   "id": "3c8cc80a-6272-4f13-93ae-f437d45d7735",
   "metadata": {},
   "outputs": [
    {
     "data": {
      "application/vnd.jupyter.widget-view+json": {
       "model_id": "09c7d99599f94936970441f09d8cd938",
       "version_major": 2,
       "version_minor": 0
      },
      "text/plain": [
       "Player(value=None, config={'options': {'autoScroll': True, 'backend': 'WebAudio', 'container': '', 'cursorColo…"
      ]
     },
     "metadata": {},
     "output_type": "display_data"
    }
   ],
   "source": [
    "play(recorder.audio, 16000)"
   ]
  },
  {
   "cell_type": "code",
   "execution_count": null,
   "id": "c4be39a0-516e-43db-bc9d-e15f36a51b1d",
   "metadata": {},
   "outputs": [],
   "source": []
  }
 ],
 "metadata": {
  "kernelspec": {
   "display_name": "Python 3 (ipykernel)",
   "language": "python",
   "name": "python3"
  },
  "language_info": {
   "codemirror_mode": {
    "name": "ipython",
    "version": 3
   },
   "file_extension": ".py",
   "mimetype": "text/x-python",
   "name": "python",
   "nbconvert_exporter": "python",
   "pygments_lexer": "ipython3",
   "version": "3.13.3"
  }
 },
 "nbformat": 4,
 "nbformat_minor": 5
}
