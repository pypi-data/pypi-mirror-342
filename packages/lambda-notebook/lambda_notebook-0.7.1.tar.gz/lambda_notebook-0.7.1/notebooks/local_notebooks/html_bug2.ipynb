{
 "cells": [
  {
   "cell_type": "code",
   "execution_count": 68,
   "id": "124dfc73-913f-43b0-a23a-78b630f28000",
   "metadata": {},
   "outputs": [
    {
     "data": {
      "text/latex": [
       "${}$"
      ],
      "text/plain": [
       "<IPython.core.display.Latex object>"
      ]
     },
     "metadata": {},
     "output_type": "display_data"
    }
   ],
   "source": [
    "from IPython.display import Latex, HTML\n",
    "display(Latex(\"${}$\")) # nb: quarto also does not seem to like \\(,\\) delimiters in this context..."
   ]
  },
  {
   "cell_type": "code",
   "execution_count": 84,
   "id": "32c6da38-b89e-47d5-bfec-77cb421a0b9f",
   "metadata": {},
   "outputs": [
    {
     "data": {
      "text/html": [
       "\\(x_y\\)"
      ],
      "text/plain": [
       "<IPython.core.display.HTML object>"
      ]
     },
     "metadata": {},
     "output_type": "display_data"
    }
   ],
   "source": [
    "display(HTML(r\"\\(x_y\\)\"))"
   ]
  },
  {
   "cell_type": "code",
   "execution_count": 70,
   "id": "08f2def9-df79-4485-b5ba-342d8a859fde",
   "metadata": {},
   "outputs": [],
   "source": [
    "import ipywidgets"
   ]
  },
  {
   "cell_type": "code",
   "execution_count": 87,
   "id": "a716b13e-ea4a-4391-b1c1-8ff239702c39",
   "metadata": {},
   "outputs": [
    {
     "data": {
      "application/vnd.jupyter.widget-view+json": {
       "model_id": "086d6f2fe3ae4c8ba52bb025e59762ab",
       "version_major": 2,
       "version_minor": 0
      },
      "text/plain": [
       "HTMLMath(value='\\\\(x_y\\\\)')"
      ]
     },
     "execution_count": 87,
     "metadata": {},
     "output_type": "execute_result"
    }
   ],
   "source": [
    "w = ipywidgets.HTMLMath(value=r\"\\(x_y\\)\")\n",
    "w"
   ]
  },
  {
   "cell_type": "code",
   "execution_count": null,
   "id": "4f56e0fe-5994-45d1-baff-c05bad7c0ac4",
   "metadata": {},
   "outputs": [],
   "source": []
  }
 ],
 "metadata": {
  "kernelspec": {
   "display_name": "Python 3 (ipykernel)",
   "language": "python",
   "name": "python3"
  },
  "language_info": {
   "codemirror_mode": {
    "name": "ipython",
    "version": 3
   },
   "file_extension": ".py",
   "mimetype": "text/x-python",
   "name": "python",
   "nbconvert_exporter": "python",
   "pygments_lexer": "ipython3",
   "version": "3.9.18"
  }
 },
 "nbformat": 4,
 "nbformat_minor": 5
}
