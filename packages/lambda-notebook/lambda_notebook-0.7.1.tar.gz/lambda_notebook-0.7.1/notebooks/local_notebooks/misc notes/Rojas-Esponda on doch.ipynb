{
 "cells": [
  {
   "cell_type": "markdown",
   "metadata": {},
   "source": [
    "## Rojas-Esponda, \"A QUD account of German doch\"\n",
    "\n",
    "*Proceedings of SuB 18, 2014*.\n",
    "\n",
    "Focus: unfocused and focused `doch` in the middlefield.\n",
    "* Exclude answer particle `doch`.\n",
    "\n",
    "Sketch: `doch` is used to indicate that a QUD was previously closed.\n",
    "* Unfocused: prejacent resolves the QUD in the same way as before.\n",
    "* Focused: prejacent resolves the QUD in a new way."
   ]
  },
  {
   "cell_type": "markdown",
   "metadata": {},
   "source": [
    "C2 (unfocused):\n",
    "\n",
    "    A: Nadine ist in Italien.\n",
    "       Nadine is  in Italy.\n",
    "    (some time later)\n",
    "    B: Geht Nadine heute Abend   mit  uns tanzen?\n",
    "       goes Nadine this  evening with us  dancing?\n",
    "    A: Nein.  Nadine ist doch in Italien.\n",
    "       no     Nadine is  doch in Italy"
   ]
  },
  {
   "cell_type": "markdown",
   "metadata": {},
   "source": [
    "See also C3, with an overt antecedent polar question.\n",
    "* doch signals contrast in this case -- established resolution of the QUD about whether Peter can cook, with the 'highlighted' proposition in polar Q.\n",
    "* _Scholarship side note_: the idea that \"What possibility is mentioned in a [polar] question has important discourse effects\" is not due to any of the cited authors here, but to Bolinger, Ladd, Buring & Gunlogson, Van Rooy & Safarova, Romero and Han (among others).\n",
    "* C4: incompatibility/contrast with a presupposition.\n",
    "\n",
    "Existing accounts focus on the contrast effect:\n",
    "* Grosz analysis on p. 362."
   ]
  },
  {
   "cell_type": "markdown",
   "metadata": {},
   "source": [
    "C7 (focused)\n",
    "\n",
    "    A: Habe ich dir schon gesagt, dass ich DOCH mitkomme?\n",
    "       have I   you schon said,   that I   DOCH joining?\n",
    "    `Did I tell you that I'm going after all?'\n",
    "\n",
    "C8 (focused)\n",
    "\n",
    "    A: Ist Anna zu deiner Geburtstagparty gekommen?\n",
    "       is  Anna to your   birthday.party going?\n",
    "    B: Zuerst hat sie abgesagt, aber dann ist sie DOCH gekommen\n",
    "       first  has she canceled  but  then is  she DOCH going"
   ]
  },
  {
   "cell_type": "markdown",
   "metadata": {},
   "source": [
    "In this exx, the resolution of the QUD has changed at the time of the `DOCH`-marked utterance.\n",
    "\n",
    "Intuition behind both cases: the doch-marked move indicates a putative violation of _inquisitive sincerity_: that the questioner is expected not to know the answer.  \n",
    "* Searlean sincerity condition."
   ]
  },
  {
   "cell_type": "markdown",
   "metadata": {},
   "source": [
    "### Formal analysis\n",
    "\n",
    "* Contexts are sets of worlds.\n",
    "* Questions are equivalence relations on sets of worlds (Groenendijk 1999).\n",
    "* The presupposition of a Q is the worlds excluded altogether from the relation.\n",
    "* definition of $c_Q$ on p. 366.\n",
    "\n",
    "(B1) **doch** marks the current QUD Q as previously closed in one of the following ways:\n",
    "1. $\\forall v,w \\in W : (v \\in C \\wedge w \\in C) \\rightarrow \\langle v,w \\rangle \\in Q$\n",
    "2. $C \\cap \\hat{Q} = \\emptyset$\n",
    "\n",
    "See fig 2.\n",
    "\n",
    "Constraints on direct answers to polar questions: C10-C13\n",
    "\n",
    "(B2) Focused vs unfocused *doch*:\n",
    "1. Unfocused: cell containing $C$ properly contains $p$.\n",
    "2. Focused: $C$ and $p$ pick out different cells.\n",
    "\n",
    "\n",
    "Explaining data:\n",
    "* see figure 5-6 for contrast cases.\n",
    "* cases where there is a propositional antecedent: proposition is a proposal to update the CG (Farkas & Bruce), and implicitly signals the issue of $\\{p, \\neg p\\}$.\n",
    "* focused `doch` licensed easily after explicit (incorrect) resolutions, biased questions.  Similarity to answer particle use?\n",
    "    - answer particle: restricted to immediate disagreement in discourse.\n",
    "    - agreeing use of answer particle `doch`??  See C19.\n",
    "    \n",
    "KR questions and discussion:\n",
    "* (lab discussion) vs `obviously`, vs `remember` imperatives.  NEI responses.\n",
    "* what triggers the difference in (B2)?  can this follow from information structure somehow?\n",
    "    - suggestion in conclusion based on Schwarzschild.\n",
    "* what would a counterproposal be like (Grosz)?  Could the QUD interactions be made to follow from something else, e.g. contrast?\n",
    "* unified or non-unified account of answer particle vs middlefield `doch`?\n",
    "* Imperative uses (Kraus 2015 UCSC MA thesis):\n",
    "\n",
    "        Bring doch dein Freund mit!\n",
    "        bring doch your friend with\n",
    "        'Go ahead and bring your friend with you.'  (softening effect!)\n",
    "    \n",
    "* Question uses: only ok in constituent, not polar questions.  (Kraus).\n",
    "\n",
    "        a. Were hat doch die Kerzen ausgeblasen?\n",
    "           'Who blew out the candles then?'\n",
    "        b. * Hat jemand doch die Kerzen ausgeblasen?\n",
    "           'did someone blow the candles out?'\n",
    "       \n",
    "* Biased and tag questions ok.  Also (!) ok in exclamatives: signals very high degree.\n",
    "* table 2.1 from Kraus:\n",
    "\n",
    "![Kraus table 2.1](img/KrausTable.png)\n",
    "\n",
    "* Kraus's analysis: `doch` is a grammatical marker of mirativity (surprise).\n",
    "\n"
   ]
  },
  {
   "cell_type": "code",
   "execution_count": null,
   "metadata": {
    "collapsed": true
   },
   "outputs": [],
   "source": []
  }
 ],
 "metadata": {
  "kernelspec": {
   "display_name": "Lambda Notebook (Python 3)",
   "language": "python",
   "name": "lambda-notebook"
  },
  "language_info": {
   "codemirror_mode": {
    "name": "ipython",
    "version": 3
   },
   "file_extension": ".py",
   "mimetype": "text/x-python",
   "name": "python",
   "nbconvert_exporter": "python",
   "pygments_lexer": "ipython3",
   "version": "3.5.1"
  }
 },
 "nbformat": 4,
 "nbformat_minor": 1
}
