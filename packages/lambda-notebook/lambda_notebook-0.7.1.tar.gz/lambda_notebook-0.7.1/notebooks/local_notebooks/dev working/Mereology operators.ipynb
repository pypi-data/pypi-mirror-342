{
 "cells": [
  {
   "cell_type": "code",
   "execution_count": 47,
   "metadata": {
    "collapsed": true
   },
   "outputs": [],
   "source": [
    "# the following code adds a new meaning for python '<=' on TypedExprs at type e.  This is\n",
    "# intended to be treated as a part-of operator, though there are no semantics per se.\n",
    "class PartOf(meta.BinaryOpExpr):\n",
    "    \"\"\"Part Of\"\"\"\n",
    "    def __init__(self, arg1, arg2):\n",
    "        arg1 = self.ensure_typed_expr(arg1, meta.type_e)\n",
    "        arg2 = self.ensure_typed_expr(arg2, meta.type_e)\n",
    "        super().__init__(meta.type_t, \"<=\", arg1, arg2, op_name_uni = \"<=\", op_name_latex = \"\\\\sqsubseteq\", tcheck_args = False)\n",
    "\n",
    "# by default, '<=\" is just mapped to numeric.  This overrides that and allows for \n",
    "# two possibilities.  Note that this won't play all that nicely with type variables.\n",
    "def leq_factory(arg1, arg2):\n",
    "    # see meta.eq_factory, which does something similar for \"<=>\".\n",
    "    arg1 = meta.TypedExpr.ensure_typed_expr(arg1)\n",
    "    arg2 = meta.TypedExpr.ensure_typed_expr(arg2)\n",
    "    ts = meta.get_type_system()\n",
    "    if ts.eq_check(arg1.type, types.type_n):\n",
    "        return meta.BinaryLeqExpr(arg1, arg2)\n",
    "    elif ts.eq_check(arg1.type, types.type_e):\n",
    "        return PartOf(arg1, arg2)\n",
    "    else:\n",
    "        raise parsing.ParseError(\"Unknown type '%s' for <= operator.\" % arg1.type)\n",
    "\n",
    "# replace default, which would just be the constructor for BinaryLeqExpr\n",
    "meta.binary_symbols_to_op_exprs[\"<=\"] = leq_factory"
   ]
  },
  {
   "cell_type": "code",
   "execution_count": 48,
   "metadata": {
    "collapsed": false
   },
   "outputs": [
    {
     "data": {
      "text/latex": [
       "$({x}_{e} \\sqsubseteq {y}_{e})$"
      ],
      "text/plain": [
       "(x_e <= y_e)"
      ]
     },
     "execution_count": 48,
     "metadata": {},
     "output_type": "execute_result"
    }
   ],
   "source": [
    "x = PartOf(te(\"x_e\"), te(\"y_e\"))\n",
    "x"
   ]
  },
  {
   "cell_type": "code",
   "execution_count": 49,
   "metadata": {
    "collapsed": false
   },
   "outputs": [
    {
     "data": {
      "text/latex": [
       "$({x}_{e} \\sqsubseteq {y}_{e})$"
      ],
      "text/plain": [
       "(x_e <= y_e)"
      ]
     },
     "execution_count": 49,
     "metadata": {},
     "output_type": "execute_result"
    }
   ],
   "source": [
    "%te x_e <= y_e"
   ]
  },
  {
   "cell_type": "code",
   "execution_count": 52,
   "metadata": {
    "collapsed": true
   },
   "outputs": [],
   "source": [
    "# Now do something similar for '+'.\n",
    "class MSum(meta.BinaryOpExpr):\n",
    "    \"\"\"Mereological sum\"\"\"\n",
    "    def __init__(self, arg1, arg2):\n",
    "        # use the default type-checking, because the args are the same type as the output\n",
    "        super().__init__(meta.type_e, \"+\", arg1, arg2, op_name_uni = \"+\", op_name_latex = \"\\\\oplus\")\n",
    "\n",
    "def sum_factory(arg1, arg2):\n",
    "    arg1 = meta.TypedExpr.ensure_typed_expr(arg1)\n",
    "    arg2 = meta.TypedExpr.ensure_typed_expr(arg2)\n",
    "    ts = meta.get_type_system()\n",
    "    if ts.eq_check(arg1.type, types.type_n):\n",
    "        return meta.BinaryPlusExpr(arg1, arg2)\n",
    "    elif ts.eq_check(arg1.type, types.type_e):\n",
    "        return MSum(arg1, arg2)\n",
    "    else:\n",
    "        raise parsing.ParseError(\"Unknown type '%s' for + operator.\" % arg1.type)\n",
    "\n",
    "# replace default, which would just be the constructor for BinaryPlusExpr\n",
    "meta.binary_symbols_to_op_exprs[\"+\"] = sum_factory"
   ]
  },
  {
   "cell_type": "code",
   "execution_count": 58,
   "metadata": {
    "collapsed": false
   },
   "outputs": [
    {
     "data": {
      "text/latex": [
       "$(({x}_{e} \\oplus {y}_{e}) \\sqsubseteq {z}_{e})$"
      ],
      "text/plain": [
       "((x_e + y_e) <= z_e)"
      ]
     },
     "execution_count": 58,
     "metadata": {},
     "output_type": "execute_result"
    }
   ],
   "source": [
    "%te (x_e + y_e) <= z_e # demonstrate with meta-language operators"
   ]
  },
  {
   "cell_type": "code",
   "execution_count": 59,
   "metadata": {
    "collapsed": false
   },
   "outputs": [
    {
     "data": {
      "text/latex": [
       "$(({x}_{e} \\oplus {y}_{e}) \\sqsubseteq {z}_{e})$"
      ],
      "text/plain": [
       "((x_e + y_e) <= z_e)"
      ]
     },
     "execution_count": 59,
     "metadata": {},
     "output_type": "execute_result"
    }
   ],
   "source": [
    "te(\"x_e\") + te(\"y_e\") <= te(\"z_e\") # demonstrate with python operators"
   ]
  },
  {
   "cell_type": "code",
   "execution_count": null,
   "metadata": {
    "collapsed": true
   },
   "outputs": [],
   "source": []
  }
 ],
 "metadata": {
  "kernelspec": {
   "display_name": "Lambda Notebook (Python 3)",
   "language": "python",
   "name": "lambda-notebook"
  },
  "language_info": {
   "codemirror_mode": {
    "name": "ipython",
    "version": 3
   },
   "file_extension": ".py",
   "mimetype": "text/x-python",
   "name": "python",
   "nbconvert_exporter": "python",
   "pygments_lexer": "ipython3",
   "version": "3.6.4"
  }
 },
 "nbformat": 4,
 "nbformat_minor": 2
}
