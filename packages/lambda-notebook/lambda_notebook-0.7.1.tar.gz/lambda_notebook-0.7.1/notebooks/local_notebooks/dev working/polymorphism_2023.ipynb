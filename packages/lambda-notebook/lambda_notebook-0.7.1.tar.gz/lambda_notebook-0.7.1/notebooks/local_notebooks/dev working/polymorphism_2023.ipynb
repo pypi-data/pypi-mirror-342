{
 "cells": [
  {
   "cell_type": "code",
   "execution_count": 1,
   "id": "b4682f44-4175-4a3e-b99c-764de4fa8681",
   "metadata": {},
   "outputs": [
    {
     "data": {
      "text/plain": [
       "<module 'lamb' from '/Users/krawlin2/repos/lambda-notebook/lamb/__init__.py'>"
      ]
     },
     "execution_count": 1,
     "metadata": {},
     "output_type": "execute_result"
    }
   ],
   "source": [
    "lamb"
   ]
  },
  {
   "cell_type": "code",
   "execution_count": 2,
   "id": "6cfa7ec7-e859-4f5c-ac67-2e4f43522490",
   "metadata": {},
   "outputs": [
    {
     "data": {
      "text/latex": [
       "$\\lambda{} g_{\\left\\langle{}Y,Z\\right\\rangle{}} \\: . \\: \\lambda{} f_{\\left\\langle{}\\left\\langle{}e,t\\right\\rangle{},Y\\right\\rangle{}} \\: . \\: \\lambda{} x_{\\left\\langle{}e,t\\right\\rangle{}} \\: . \\: {g}({f}({x}))$"
      ],
      "text/plain": [
       "(λ g_<Y,Z>: (λ f_<<e,t>,Y>: (λ x_<e,t>: g_<Y,Z>(f_<<e,t>,Y>(x_<e,t>)))))"
      ]
     },
     "execution_count": 2,
     "metadata": {},
     "output_type": "execute_result"
    }
   ],
   "source": [
    "f = te(\"(λ g_<Y,Z>: (λ f_<<e,t>,Y>: (λ x_<e,t>: g_<Y,Z>(f_<<e,t>,Y>(x_<e,t>)))))\")\n",
    "f"
   ]
  },
  {
   "cell_type": "code",
   "execution_count": 3,
   "id": "ac0b7271-ae73-4def-8b45-5f66d676ef5e",
   "metadata": {},
   "outputs": [
    {
     "data": {
      "text/latex": [
       "$\\left\\langle{}\\left\\langle{}Y,Z\\right\\rangle{},\\left\\langle{}\\left\\langle{}\\left\\langle{}e,t\\right\\rangle{},Y\\right\\rangle{},\\left\\langle{}\\left\\langle{}e,t\\right\\rangle{},Z\\right\\rangle{}\\right\\rangle{}\\right\\rangle{}$"
      ],
      "text/plain": [
       "<<Y,Z>,<<<e,t>,Y>,<<e,t>,Z>>>"
      ]
     },
     "execution_count": 3,
     "metadata": {},
     "output_type": "execute_result"
    }
   ],
   "source": [
    "f.type"
   ]
  },
  {
   "cell_type": "code",
   "execution_count": 4,
   "id": "6ca90dfa-4842-4dc4-9456-5848c635b627",
   "metadata": {},
   "outputs": [
    {
     "data": {
      "text/latex": [
       "$\\lambda{} g_{\\left\\langle{}Y,Z\\right\\rangle{}} \\: . \\: \\lambda{} f_{\\left\\langle{}X,Y\\right\\rangle{}} \\: . \\: \\lambda{} x_{X} \\: . \\: {g}({f}({x}))$"
      ],
      "text/plain": [
       "(λ g_<Y,Z>: (λ f_<X,Y>: (λ x_X: g_<Y,Z>(f_<X,Y>(x_X)))))"
      ]
     },
     "execution_count": 4,
     "metadata": {},
     "output_type": "execute_result"
    }
   ],
   "source": [
    "g = te(\"L g_<Y,Z> : L f_<X,Y> : L x_X : g(f(x))\")\n",
    "g"
   ]
  },
  {
   "cell_type": "code",
   "execution_count": 5,
   "id": "850525cc-0fe7-4fe1-b277-37ba3c8f528d",
   "metadata": {},
   "outputs": [
    {
     "data": {
      "text/latex": [
       "$\\left\\langle{}\\left\\langle{}Y,Z\\right\\rangle{},\\left\\langle{}\\left\\langle{}X,Y\\right\\rangle{},\\left\\langle{}X,Z\\right\\rangle{}\\right\\rangle{}\\right\\rangle{}$"
      ],
      "text/plain": [
       "<<Y,Z>,<<X,Y>,<X,Z>>>"
      ]
     },
     "execution_count": 5,
     "metadata": {},
     "output_type": "execute_result"
    }
   ],
   "source": [
    "g.type"
   ]
  },
  {
   "cell_type": "code",
   "execution_count": 6,
   "id": "80594bc9-1e13-4cbb-9cf4-e0d357bed31e",
   "metadata": {},
   "outputs": [
    {
     "data": {
      "text/latex": [
       "$\\lambda{} g_{\\left\\langle{}X,Z\\right\\rangle{}} \\: . \\: \\lambda{} f_{\\left\\langle{}\\left\\langle{}e,t\\right\\rangle{},X\\right\\rangle{}} \\: . \\: \\lambda{} x_{\\left\\langle{}e,t\\right\\rangle{}} \\: . \\: {g}({f}({x}))$"
      ],
      "text/plain": [
       "(λ g_<X,Z>: (λ f_<<e,t>,X>: (λ x_<e,t>: g_<X,Z>(f_<<e,t>,X>(x_<e,t>)))))"
      ]
     },
     "execution_count": 6,
     "metadata": {},
     "output_type": "execute_result"
    }
   ],
   "source": [
    "g.let_type(tp(\"<?,<<<e,t>,?>,?>>\"))"
   ]
  },
  {
   "cell_type": "code",
   "execution_count": 7,
   "id": "824c96e2-196d-4e09-9d60-90b65b54e764",
   "metadata": {},
   "outputs": [
    {
     "data": {
      "text/markdown": [
       "$[\\![\\mathbf{\\text{saw0}}]\\!]^{}_{\\left\\langle{}\\left\\langle{}\\left\\langle{}e,\\left\\langle{}e,t\\right\\rangle{}\\right\\rangle{},t\\right\\rangle{},t\\right\\rangle{}} \\:=\\: \\lambda{} f_{\\left\\langle{}\\left\\langle{}e,\\left\\langle{}e,t\\right\\rangle{}\\right\\rangle{},t\\right\\rangle{}} \\: . \\: {f}(\\lambda{} y_{e} \\: . \\: \\lambda{} x_{e} \\: . \\: {Saw}({x}, {y}))$<br />\n",
       "$[\\![\\mathbf{\\text{everyone00}}]\\!]^{}_{\\left\\langle{}\\left\\langle{}\\left\\langle{}\\left\\langle{}e,t\\right\\rangle{},t\\right\\rangle{},t\\right\\rangle{},t\\right\\rangle{}} \\:=\\: \\lambda{} f_{\\left\\langle{}\\left\\langle{}\\left\\langle{}e,t\\right\\rangle{},t\\right\\rangle{},t\\right\\rangle{}} \\: . \\: {f}(\\lambda{} f_{\\left\\langle{}e,t\\right\\rangle{}} \\: . \\: \\forall{} x_{e} \\: . \\: {f}({x}))$"
      ],
      "text/plain": [
       "⟦saw0⟧ = (λ f_<<e,<e,t>>,t>: f_<<e,<e,t>>,t>((λ y_e: (λ x_e: Saw_<(e,e),t>(x_e, y_e)))))\n",
       "⟦everyone00⟧ = (λ f_<<<e,t>,t>,t>: f_<<<e,t>,t>,t>((λ f_<e,t>: (Forall x_e: f_<e,t>(x_e)))))"
      ]
     },
     "metadata": {},
     "output_type": "display_data"
    }
   ],
   "source": [
    "%%lamb\n",
    "||saw0|| = (λ f_<<e,<e,t>>,t>: f_<<e,<e,t>>,t>((λ y_e: (λ x_e: Saw_<(e,e),t>(x_e, y_e)))))\n",
    "||everyone00|| = (λ f_<<<e,t>,t>,t>: f_<<<e,t>,t>,t>((λ f_<e,t>: (Forall x_e: f_<e,t>(x_e)))))"
   ]
  },
  {
   "cell_type": "code",
   "execution_count": 8,
   "id": "e9f41787-7c2e-4e3f-bfb3-bb25f806ced4",
   "metadata": {},
   "outputs": [
    {
     "data": {
      "text/plain": [
       "True"
      ]
     },
     "execution_count": 8,
     "metadata": {},
     "output_type": "execute_result"
    }
   ],
   "source": [
    "everyone00.content.let"
   ]
  },
  {
   "cell_type": "code",
   "execution_count": 9,
   "id": "bf34b6fb-fe5e-4cda-8367-4c8ae53bfc9b",
   "metadata": {},
   "outputs": [],
   "source": [
    "continuize = %te L x_X : L f_<X,t> : f(x)\n",
    "def continuize_lex(te):\n",
    "    new_te = continuize(te).reduce_all()\n",
    "    return new_te\n",
    "\n",
    "#continuize_lex(cat1.content)\n",
    "lamb.parsing.eq_transforms[\"cont\"] = continuize_lex"
   ]
  },
  {
   "cell_type": "code",
   "execution_count": 10,
   "id": "18f80f47-1497-4c74-9fba-b8aa30264eab",
   "metadata": {},
   "outputs": [
    {
     "name": "stdout",
     "output_type": "stream",
     "text": [
      "INFO (core): Coerced guessed type for 'Saw_t' into <(e,e),t>, to match argument '(x_e, y_e)'\n"
     ]
    },
    {
     "data": {
      "text/markdown": [
       "$[\\![\\mathbf{\\text{saw}}]\\!]^{}_{\\left\\langle{}\\left\\langle{}\\left\\langle{}e,\\left\\langle{}e,t\\right\\rangle{}\\right\\rangle{},t\\right\\rangle{},t\\right\\rangle{}} \\:=\\: \\lambda{} f_{\\left\\langle{}\\left\\langle{}e,\\left\\langle{}e,t\\right\\rangle{}\\right\\rangle{},t\\right\\rangle{}} \\: . \\: {f}(\\lambda{} y_{e} \\: . \\: \\lambda{} x_{e} \\: . \\: {Saw}({x}, {y}))$<br />\n",
       "$[\\![\\mathbf{\\text{everyone0}}]\\!]^{}_{\\left\\langle{}\\left\\langle{}\\left\\langle{}\\left\\langle{}e,t\\right\\rangle{},t\\right\\rangle{},t\\right\\rangle{},t\\right\\rangle{}} \\:=\\: \\lambda{} f_{\\left\\langle{}\\left\\langle{}\\left\\langle{}e,t\\right\\rangle{},t\\right\\rangle{},t\\right\\rangle{}} \\: . \\: {f}(\\lambda{} f_{\\left\\langle{}e,t\\right\\rangle{}} \\: . \\: \\forall{} x_{e} \\: . \\: {f}({x}))$"
      ],
      "text/plain": [
       "⟦saw⟧ = (λ f_<<e,<e,t>>,t>: f_<<e,<e,t>>,t>((λ y_e: (λ x_e: Saw_<(e,e),t>(x_e, y_e)))))\n",
       "⟦everyone0⟧ = (λ f_<<<e,t>,t>,t>: f_<<<e,t>,t>,t>((λ f_<e,t>: (Forall x_e: f_<e,t>(x_e)))))"
      ]
     },
     "metadata": {},
     "output_type": "display_data"
    }
   ],
   "source": [
    "%%lamb \n",
    "||saw|| =<cont> L y_e : L x_e : Saw(x,y)\n",
    "||everyone0|| =<cont> L f_<e,t> :  Forall x_e : f(x)\n"
   ]
  },
  {
   "cell_type": "code",
   "execution_count": 11,
   "id": "8f076464-28db-44d4-ba67-6c1d1c8cb4ca",
   "metadata": {},
   "outputs": [
    {
     "data": {
      "text/plain": [
       "True"
      ]
     },
     "execution_count": 11,
     "metadata": {},
     "output_type": "execute_result"
    }
   ],
   "source": [
    "everyone0.content.let"
   ]
  },
  {
   "cell_type": "code",
   "execution_count": 12,
   "id": "90a489eb-9540-4b33-a3bd-0b625bda3c6f",
   "metadata": {},
   "outputs": [
    {
     "data": {
      "text/latex": [
       "$\\lambda{} f_{\\left\\langle{}\\left\\langle{}\\left\\langle{}X,X'\\right\\rangle{},X'''\\right\\rangle{},X_{4}\\right\\rangle{}} \\: . \\: \\lambda{} arg_{\\left\\langle{}\\left\\langle{}X,X''\\right\\rangle{},X'''\\right\\rangle{}} \\: . \\: \\lambda{} abar_{\\left\\langle{}X',X''\\right\\rangle{}} \\: . \\: {f}(\\lambda{} b_{\\left\\langle{}X,X'\\right\\rangle{}} \\: . \\: {arg}(\\lambda{} c_{X} \\: . \\: {abar}({b}({c}))))$"
      ],
      "text/plain": [
       "(λ f_<<<X,X'>,X'''>,X4>: (λ arg_<<X,X''>,X'''>: (λ abar_<X',X''>: f_<<<X,X'>,X'''>,X4>((λ b_<X,X'>: arg_<<X,X''>,X'''>((λ c_X: abar_<X',X''>(b_<X,X'>(c_X)))))))))"
      ]
     },
     "execution_count": 12,
     "metadata": {},
     "output_type": "execute_result"
    }
   ],
   "source": [
    "# reload_lamb()\n",
    "contapply = te(\"L f_Z : L arg_Z1 : L abar_Z2 : f(L b_<X,X1> : arg(L c_X : abar(b_<X,X1>(c_X))))\")\n",
    "\n",
    "# contapply = %te L f_Z : L arg_Z1 : L abar_Z2 : f(L b_<X,X1> : arg(L c_X : abar(b_<X,X1>(c_X))))\n",
    "contapply"
   ]
  },
  {
   "cell_type": "code",
   "execution_count": 13,
   "id": "784a4b7c-70d6-41c7-9628-9c7e995403cb",
   "metadata": {},
   "outputs": [
    {
     "data": {
      "text/plain": [
       "(True, True)"
      ]
     },
     "execution_count": 13,
     "metadata": {},
     "output_type": "execute_result"
    }
   ],
   "source": [
    "contapply(everyone0.content).let, contapply(everyone00.content).let"
   ]
  },
  {
   "cell_type": "code",
   "execution_count": 15,
   "id": "cfd381a9-9cc5-41e9-8b5f-47cb3a0c5d94",
   "metadata": {},
   "outputs": [
    {
     "data": {
      "text/latex": [
       "$\\left\\langle{}\\left\\langle{}\\left\\langle{}\\left\\langle{}e,t\\right\\rangle{},X\\right\\rangle{},t\\right\\rangle{},\\left\\langle{}\\left\\langle{}t,X\\right\\rangle{},t\\right\\rangle{}\\right\\rangle{}$"
      ],
      "text/plain": [
       "<<<<e,t>,X>,t>,<<t,X>,t>>"
      ]
     },
     "execution_count": 15,
     "metadata": {},
     "output_type": "execute_result"
    }
   ],
   "source": [
    "contapply(everyone0.content).type"
   ]
  },
  {
   "cell_type": "code",
   "execution_count": 16,
   "id": "ae5d5126-70bb-4d74-abd3-9082bc1173a0",
   "metadata": {},
   "outputs": [
    {
     "data": {
      "text/plain": [
       "True"
      ]
     },
     "execution_count": 16,
     "metadata": {},
     "output_type": "execute_result"
    }
   ],
   "source": [
    "everyone0.content.let"
   ]
  },
  {
   "cell_type": "code",
   "execution_count": 17,
   "id": "68486830-206d-40fe-8bfd-40f8c1c56754",
   "metadata": {},
   "outputs": [
    {
     "data": {
      "text/plain": [
       "True"
      ]
     },
     "execution_count": 17,
     "metadata": {},
     "output_type": "execute_result"
    }
   ],
   "source": [
    "continuize(everyone00.content).reduce_all().let"
   ]
  },
  {
   "cell_type": "code",
   "execution_count": 18,
   "id": "64bc759e-0d70-414e-96ae-a75f5efc1b7e",
   "metadata": {},
   "outputs": [
    {
     "data": {
      "text/plain": [
       "True"
      ]
     },
     "execution_count": 18,
     "metadata": {},
     "output_type": "execute_result"
    }
   ],
   "source": [
    "continuize.let"
   ]
  },
  {
   "cell_type": "code",
   "execution_count": 19,
   "id": "4cc8e14a-aba2-416d-a686-bdde52d7f17d",
   "metadata": {},
   "outputs": [
    {
     "name": "stdout",
     "output_type": "stream",
     "text": [
      "INFO (core): Coerced guessed type for 'Saw_t' into <(e,e),t>, to match argument '(x_e, y_e)'\n"
     ]
    },
    {
     "data": {
      "text/latex": [
       "$\\lambda{} f_{\\left\\langle{}\\left\\langle{}e,t\\right\\rangle{},t\\right\\rangle{}} \\: . \\: {f}(\\lambda{} x_{e} \\: . \\: {Saw}({x}, {y}_{e}))$"
      ],
      "text/plain": [
       "(λ f_<<e,t>,t>: f_<<e,t>,t>((λ x_e: Saw_<(e,e),t>(x_e, y_e))))"
      ]
     },
     "execution_count": 19,
     "metadata": {},
     "output_type": "execute_result"
    }
   ],
   "source": [
    "continuize(te(\"L x_e : Saw(x,y)\")).reduce_all()"
   ]
  },
  {
   "cell_type": "code",
   "execution_count": 20,
   "id": "cd02f656-4a66-45d2-be96-f9d1f0853036",
   "metadata": {},
   "outputs": [
    {
     "name": "stdout",
     "output_type": "stream",
     "text": [
      "INFO (core): Coerced guessed type for 'Saw_t' into <(e,e),t>, to match argument '(x_e, y_e)'\n"
     ]
    },
    {
     "data": {
      "text/latex": [
       "$\\lambda{} x_{X} \\: . \\: \\lambda{} f_{\\left\\langle{}X,t\\right\\rangle{}} \\: . \\: {f}({x})$"
      ],
      "text/plain": [
       "(λ x_X: (λ f_<X,t>: f_<X,t>(x_X)))"
      ]
     },
     "metadata": {},
     "output_type": "display_data"
    },
    {
     "data": {
      "text/latex": [
       "$\\lambda{} y_{e} \\: . \\: \\lambda{} x_{e} \\: . \\: {Saw}({x}, {y})$"
      ],
      "text/plain": [
       "(λ y_e: (λ x_e: Saw_<(e,e),t>(x_e, y_e)))"
      ]
     },
     "metadata": {},
     "output_type": "display_data"
    }
   ],
   "source": [
    "arg = %te L y_e : L x_e : Saw(x,y)\n",
    "display(continuize, arg)"
   ]
  },
  {
   "cell_type": "code",
   "execution_count": 21,
   "id": "d07c7b65-7c27-4d1a-b563-11a78323acc1",
   "metadata": {},
   "outputs": [
    {
     "data": {
      "text/plain": [
       "False"
      ]
     },
     "execution_count": 21,
     "metadata": {},
     "output_type": "execute_result"
    }
   ],
   "source": [
    "continuize.apply(arg).let"
   ]
  },
  {
   "cell_type": "code",
   "execution_count": 22,
   "id": "8b061a90-3b1f-40d1-80e4-ae39149b62c4",
   "metadata": {},
   "outputs": [
    {
     "data": {
      "text/plain": [
       "True"
      ]
     },
     "execution_count": 22,
     "metadata": {},
     "output_type": "execute_result"
    }
   ],
   "source": [
    "continuize.copy_local(continuize[0], continuize[1]) == continuize"
   ]
  },
  {
   "cell_type": "code",
   "execution_count": 23,
   "id": "f9e80e87-d488-4f4b-85bd-7534db297e4c",
   "metadata": {},
   "outputs": [
    {
     "data": {
      "text/latex": [
       "$\\lambda{} x_{X} \\: . \\: \\lambda{} f_{\\left\\langle{}X,t\\right\\rangle{}} \\: . \\: {f}({x})$"
      ],
      "text/plain": [
       "(λ x_X: (λ f_<X,t>: f_<X,t>(x_X)))"
      ]
     },
     "execution_count": 23,
     "metadata": {},
     "output_type": "execute_result"
    }
   ],
   "source": [
    "# lamb.meta.core.unsafe_variables(continuize, arg)\n",
    "ns = lamb.meta.core.alpha_convert(continuize, set())\n",
    "ns"
   ]
  },
  {
   "cell_type": "code",
   "execution_count": 24,
   "id": "1db3342c-8a08-4688-bd9e-24d904a68791",
   "metadata": {},
   "outputs": [
    {
     "data": {
      "text/latex": [
       "$\\lambda{} f_{\\left\\langle{}\\left\\langle{}e,\\left\\langle{}e,t\\right\\rangle{}\\right\\rangle{},t\\right\\rangle{}} \\: . \\: {f}(\\lambda{} y_{e} \\: . \\: \\lambda{} x_{e} \\: . \\: {Saw}({x}, {y}))$"
      ],
      "text/plain": [
       "(λ f_<<e,<e,t>>,t>: f_<<e,<e,t>>,t>((λ y_e: (λ x_e: Saw_<(e,e),t>(x_e, y_e)))))"
      ]
     },
     "execution_count": 24,
     "metadata": {},
     "output_type": "execute_result"
    }
   ],
   "source": [
    "lamb.meta.core.beta_reduce_ts(ns.body, ns.varname, arg)"
   ]
  },
  {
   "cell_type": "code",
   "execution_count": 25,
   "id": "969a1b00-7dfe-434e-a518-5050aebf494b",
   "metadata": {},
   "outputs": [
    {
     "data": {
      "text/html": [
       "<span style=\"color:red\">Type mismatch</span>: '${[\\lambda{} f_{\\left\\langle{}\\left\\langle{}\\left\\langle{}\\left\\langle{}e,t\\right\\rangle{},t\\right\\rangle{},t\\right\\rangle{},t\\right\\rangle{}} \\: . \\: \\lambda{} arg_{\\left\\langle{}\\left\\langle{}\\left\\langle{}e,t\\right\\rangle{},X\\right\\rangle{},t\\right\\rangle{}} \\: . \\: \\lambda{} abar_{\\left\\langle{}t,X\\right\\rangle{}} \\: . \\: {f}(\\lambda{} b_{\\left\\langle{}\\left\\langle{}e,t\\right\\rangle{},t\\right\\rangle{}} \\: . \\: {arg}(\\lambda{} c_{\\left\\langle{}e,t\\right\\rangle{}} \\: . \\: {abar}({b}({c}))))]}(\\lambda{} f_{\\left\\langle{}\\left\\langle{}\\left\\langle{}e,t\\right\\rangle{},t\\right\\rangle{},t\\right\\rangle{}} \\: . \\: {f}(\\lambda{} f_{\\left\\langle{}e,t\\right\\rangle{}} \\: . \\: \\forall{} x_{e} \\: . \\: {f}({x})))$'/$\\left\\langle{}\\left\\langle{}\\left\\langle{}\\left\\langle{}e,t\\right\\rangle{},X\\right\\rangle{},t\\right\\rangle{},\\left\\langle{}\\left\\langle{}t,X\\right\\rangle{},t\\right\\rangle{}\\right\\rangle{}$ and '$\\lambda{} f_{\\left\\langle{}\\left\\langle{}e,\\left\\langle{}e,t\\right\\rangle{}\\right\\rangle{},t\\right\\rangle{}} \\: . \\: {f}(\\lambda{} y_{e} \\: . \\: \\lambda{} x_{e} \\: . \\: {Saw}({x}, {y}))$'/$\\left\\langle{}\\left\\langle{}\\left\\langle{}e,\\left\\langle{}e,t\\right\\rangle{}\\right\\rangle{},t\\right\\rangle{},t\\right\\rangle{}$ conflict (Function-argument expression: mismatched types)"
      ],
      "text/plain": [
       "Type mismatch: '((λ f_<<<<e,t>,t>,t>,t>: (λ arg_<<<e,t>,X>,t>: (λ abar_<t,X>: f_<<<<e,t>,t>,t>,t>((λ b_<<e,t>,t>: arg_<<<e,t>,X>,t>((λ c_<e,t>: abar_<t,X>(b_<<e,t>,t>(c_<e,t>))))))))))((λ f_<<<e,t>,t>,t>: f_<<<e,t>,t>,t>((λ f_<e,t>: (Forall x_e: f_<e,t>(x_e))))))'/<<<<e,t>,X>,t>,<<t,X>,t>> and '(λ f_<<e,<e,t>>,t>: f_<<e,<e,t>>,t>((λ y_e: (λ x_e: Saw_<(e,e),t>(x_e, y_e)))))'/<<<e,<e,t>>,t>,t> conflict (Function-argument expression: mismatched types)"
      ]
     },
     "metadata": {},
     "output_type": "display_data"
    }
   ],
   "source": [
    "try:\n",
    "    contapply(everyone00.content)(saw.content)\n",
    "except types.TypeMismatch as e:\n",
    "    display(e)"
   ]
  },
  {
   "cell_type": "code",
   "execution_count": 26,
   "id": "4da2324a-7f8b-47d6-9ae3-cce3641943ac",
   "metadata": {},
   "outputs": [
    {
     "data": {
      "text/html": [
       "Composition system 'H&K simple (copy)'<br />Operations: {<br />&nbsp;&nbsp;&nbsp;&nbsp;Binary composition rule <i>CA</i>, built on combinator '$\\lambda{} f_{\\left\\langle{}\\left\\langle{}\\left\\langle{}X,X'\\right\\rangle{},X'''\\right\\rangle{},X_{4}\\right\\rangle{}} \\: . \\: \\lambda{} arg_{\\left\\langle{}\\left\\langle{}X,X''\\right\\rangle{},X'''\\right\\rangle{}} \\: . \\: \\lambda{} abar_{\\left\\langle{}X',X''\\right\\rangle{}} \\: . \\: {f}(\\lambda{} b_{\\left\\langle{}X,X'\\right\\rangle{}} \\: . \\: {arg}(\\lambda{} c_{X} \\: . \\: {abar}({b}({c}))))$'<br />}"
      ],
      "text/plain": [
       "Composition system: H&K simple (copy)"
      ]
     },
     "execution_count": 26,
     "metadata": {},
     "output_type": "execute_result"
    }
   ],
   "source": [
    "system = lang.td_system.copy()\n",
    "system.remove_rule(\"FA\")\n",
    "system.remove_rule(\"VAC\")\n",
    "system.remove_rule(\"PA\")\n",
    "system.remove_rule(\"PM\")\n",
    "#system.add_rule(ca_op)\n",
    "system.add_binary_rule(contapply, \"CA\")\n",
    "lang.set_system(system)\n",
    "system"
   ]
  },
  {
   "cell_type": "code",
   "execution_count": 27,
   "id": "2a232c5c-e79e-435c-8711-27ac7915828b",
   "metadata": {},
   "outputs": [
    {
     "data": {
      "text/markdown": [
       "Composition of [everyone0 saw] failed:<br />\n",
       "&nbsp;&nbsp;&nbsp;&nbsp;<span style=\"color:red\">Type mismatch</span>: '${[\\lambda{} f_{\\left\\langle{}\\left\\langle{}\\left\\langle{}\\left\\langle{}e,t\\right\\rangle{},t\\right\\rangle{},t\\right\\rangle{},t\\right\\rangle{}} \\: . \\: \\lambda{} arg_{\\left\\langle{}\\left\\langle{}\\left\\langle{}e,t\\right\\rangle{},X\\right\\rangle{},t\\right\\rangle{}} \\: . \\: \\lambda{} abar_{\\left\\langle{}t,X\\right\\rangle{}} \\: . \\: {f}(\\lambda{} b_{\\left\\langle{}\\left\\langle{}e,t\\right\\rangle{},t\\right\\rangle{}} \\: . \\: {arg}(\\lambda{} c_{\\left\\langle{}e,t\\right\\rangle{}} \\: . \\: {abar}({b}({c}))))]}(\\lambda{} f_{\\left\\langle{}\\left\\langle{}\\left\\langle{}e,t\\right\\rangle{},t\\right\\rangle{},t\\right\\rangle{}} \\: . \\: {f}(\\lambda{} f_{\\left\\langle{}e,t\\right\\rangle{}} \\: . \\: \\forall{} x_{e} \\: . \\: {f}({x})))$'/$\\left\\langle{}\\left\\langle{}\\left\\langle{}\\left\\langle{}e,t\\right\\rangle{},X\\right\\rangle{},t\\right\\rangle{},\\left\\langle{}\\left\\langle{}t,X\\right\\rangle{},t\\right\\rangle{}\\right\\rangle{}$ and '$\\lambda{} f_{\\left\\langle{}\\left\\langle{}e,\\left\\langle{}e,t\\right\\rangle{}\\right\\rangle{},t\\right\\rangle{}} \\: . \\: {f}(\\lambda{} y_{e} \\: . \\: \\lambda{} x_{e} \\: . \\: {Saw}({x}, {y}))$'/$\\left\\langle{}\\left\\langle{}\\left\\langle{}e,\\left\\langle{}e,t\\right\\rangle{}\\right\\rangle{},t\\right\\rangle{},t\\right\\rangle{}$ conflict (Function-argument expression: mismatched types)<br />\n",
       "&nbsp;&nbsp;&nbsp;&nbsp;<span style=\"color:red\">Type mismatch</span>: '${[\\lambda{} f_{\\left\\langle{}\\left\\langle{}\\left\\langle{}e,\\left\\langle{}e,t\\right\\rangle{}\\right\\rangle{},t\\right\\rangle{},t\\right\\rangle{}} \\: . \\: \\lambda{} arg_{\\left\\langle{}\\left\\langle{}e,X\\right\\rangle{},t\\right\\rangle{}} \\: . \\: \\lambda{} abar_{\\left\\langle{}\\left\\langle{}e,t\\right\\rangle{},X\\right\\rangle{}} \\: . \\: {f}(\\lambda{} b_{\\left\\langle{}e,\\left\\langle{}e,t\\right\\rangle{}\\right\\rangle{}} \\: . \\: {arg}(\\lambda{} c_{e} \\: . \\: {abar}({b}({c}))))]}(\\lambda{} f_{\\left\\langle{}\\left\\langle{}e,\\left\\langle{}e,t\\right\\rangle{}\\right\\rangle{},t\\right\\rangle{}} \\: . \\: {f}(\\lambda{} y_{e} \\: . \\: \\lambda{} x_{e} \\: . \\: {Saw}({x}, {y})))$'/$\\left\\langle{}\\left\\langle{}\\left\\langle{}e,X\\right\\rangle{},t\\right\\rangle{},\\left\\langle{}\\left\\langle{}\\left\\langle{}e,t\\right\\rangle{},X\\right\\rangle{},t\\right\\rangle{}\\right\\rangle{}$ and '$\\lambda{} f_{\\left\\langle{}\\left\\langle{}\\left\\langle{}e,t\\right\\rangle{},t\\right\\rangle{},t\\right\\rangle{}} \\: . \\: {f}(\\lambda{} f_{\\left\\langle{}e,t\\right\\rangle{}} \\: . \\: \\forall{} x_{e} \\: . \\: {f}({x}))$'/$\\left\\langle{}\\left\\langle{}\\left\\langle{}\\left\\langle{}e,t\\right\\rangle{},t\\right\\rangle{},t\\right\\rangle{},t\\right\\rangle{}$ conflict (Function-argument expression: mismatched types)<br />\n"
      ],
      "text/plain": [
       "Composition of [everyone0 saw] failed:\n",
       "    Type mismatch: '((λ f_<<<<e,t>,t>,t>,t>: (λ arg_<<<e,t>,X>,t>: (λ abar_<t,X>: f_<<<<e,t>,t>,t>,t>((λ b_<<e,t>,t>: arg_<<<e,t>,X>,t>((λ c_<e,t>: abar_<t,X>(b_<<e,t>,t>(c_<e,t>))))))))))((λ f_<<<e,t>,t>,t>: f_<<<e,t>,t>,t>((λ f_<e,t>: (Forall x_e: f_<e,t>(x_e))))))'/<<<<e,t>,X>,t>,<<t,X>,t>> and '(λ f_<<e,<e,t>>,t>: f_<<e,<e,t>>,t>((λ y_e: (λ x_e: Saw_<(e,e),t>(x_e, y_e)))))'/<<<e,<e,t>>,t>,t> conflict (Function-argument expression: mismatched types)\n",
       "    Type mismatch: '((λ f_<<<e,<e,t>>,t>,t>: (λ arg_<<e,X>,t>: (λ abar_<<e,t>,X>: f_<<<e,<e,t>>,t>,t>((λ b_<e,<e,t>>: arg_<<e,X>,t>((λ c_e: abar_<<e,t>,X>(b_<e,<e,t>>(c_e))))))))))((λ f_<<e,<e,t>>,t>: f_<<e,<e,t>>,t>((λ y_e: (λ x_e: Saw_<(e,e),t>(x_e, y_e))))))'/<<<e,X>,t>,<<<e,t>,X>,t>> and '(λ f_<<<e,t>,t>,t>: f_<<<e,t>,t>,t>((λ f_<e,t>: (Forall x_e: f_<e,t>(x_e)))))'/<<<<e,t>,t>,t>,t> conflict (Function-argument expression: mismatched types)"
      ]
     },
     "metadata": {},
     "output_type": "display_data"
    }
   ],
   "source": [
    "system.compose(everyone0, saw)"
   ]
  },
  {
   "cell_type": "code",
   "execution_count": 107,
   "id": "1bee1eb1-b60d-4c81-b288-98383cc82ef8",
   "metadata": {},
   "outputs": [
    {
     "data": {
      "text/plain": [
       "True"
      ]
     },
     "execution_count": 107,
     "metadata": {},
     "output_type": "execute_result"
    }
   ],
   "source": [
    "te(\"L x_e : x\")(te(\"y_e\")).reduce() == te(\"y_e\")"
   ]
  },
  {
   "cell_type": "code",
   "execution_count": null,
   "id": "d3138e27-6240-4b45-8d0d-9e439467ac46",
   "metadata": {},
   "outputs": [],
   "source": []
  },
  {
   "cell_type": "code",
   "execution_count": null,
   "id": "f29e16bb-19cb-48ed-89f8-5f115cfa95a7",
   "metadata": {},
   "outputs": [],
   "source": []
  },
  {
   "cell_type": "code",
   "execution_count": null,
   "id": "e4925151-14ce-4425-b931-1bf2ced44a95",
   "metadata": {},
   "outputs": [],
   "source": []
  },
  {
   "cell_type": "code",
   "execution_count": 33,
   "id": "3b33f900-f5be-4c18-99af-50023fd4ae87",
   "metadata": {},
   "outputs": [
    {
     "name": "stderr",
     "output_type": "stream",
     "text": [
      "ERROR (types): Failed occurs check: can't unify recursive types <X,X> and X\n",
      "ERROR (parsing): Parsing of typed expression failed with exception:\n",
      "ERROR (parsing): Type mismatch: '(λ x_X: x_X)'/<X,X> and '(λ x_X: x_X)'/<X,X> conflict (Function-argument expression: mismatched types)\n"
     ]
    }
   ],
   "source": [
    "%te (L x_X : x)(L x_X : x)"
   ]
  },
  {
   "cell_type": "code",
   "execution_count": 32,
   "id": "eb19749b-2bfe-43ac-a314-c6b12b489292",
   "metadata": {},
   "outputs": [
    {
     "data": {
      "text/html": [
       "<div align=\"left\" style=\"display:table;\"><div style=\"display:table-cell;vertical-align:bottom;padding-left:5px;padding-right:5px;padding-top:0.5em\"><div style=\"display:table;\"><div style=\"display:table-row;vertical-align:bottom;\"><div align=\"left\" style=\"display:table;border-collapse:collapse;\"><div style=\"display:table-row;border-bottom:1px solid #848482;\"><div style=\"display:table-cell;padding-right:5px;vertical-align:bottom;\"> 1. </div><div style=\"display:table-cell;vertical-align:bottom;border-right:1px solid #848482;padding-right:5px;\"><div style=\"display:inline-block;\"><span>${[\\lambda{} x_{X} \\: . \\: {x}]}(\\lambda{} x_{X} \\: . \\: {x})$</span></div></div></div><div style=\"display:table-row;border-bottom:1px solid #848482;\"><div style=\"display:table-cell;padding-right:5px;vertical-align:bottom;\"> 2. </div><div style=\"display:table-cell;vertical-align:bottom;border-right:1px solid #848482;padding-right:5px;\"><div style=\"display:inline-block;\"><span>${[\\lambda{} x_{\\left\\langle{}X,X\\right\\rangle{}} \\: . \\: {x}]}(\\lambda{} x_{X} \\: . \\: {x})$</span></div></div><div style=\"display:table-cell;vertical-align:bottom;padding-left:5px;padding-right:5px;padding-top:0.5em\"><div style=\"display:table;\"><div style=\"display:table-row;\"><div style=\"white-space:nowrap; color:blue;\"><div style=\"display:inline-block;\"><span>Type inference</span></div></div></div></div></div></div><div style=\"display:table-row;\"><div style=\"display:table-cell;padding-right:5px;vertical-align:bottom;\"> 3. </div><div style=\"display:table-cell;vertical-align:bottom;border-right:1px solid #848482;padding-right:5px;\"><div style=\"display:inline-block;\"><span>$\\lambda{} x_{X} \\: . \\: {x}$</span></div></div><div style=\"display:table-cell;vertical-align:bottom;padding-left:5px;padding-right:5px;padding-top:0.5em\"><div style=\"display:table;\"><div style=\"display:table-row;\"><div style=\"white-space:nowrap; color:blue;\"><div style=\"display:inline-block;\"><span>Reduction</span></div></div></div></div></div></div></div></div></div></div></div>"
      ],
      "text/plain": [
       " 1. ((λ x_X: x_X))((λ x_X: x_X))\n",
       " 2. ((λ x_<X,X>: x_<X,X>))((λ x_X: x_X))    (Type inference)\n",
       " 3. (λ x_X: x_X)    (Reduction)"
      ]
     },
     "execution_count": 32,
     "metadata": {},
     "output_type": "execute_result"
    }
   ],
   "source": [
    "te(\"L x_X : x\")(te(\"L x_X : x\")).reduce_all().derivation"
   ]
  },
  {
   "cell_type": "code",
   "execution_count": 29,
   "id": "584aa136-2897-49c2-98c3-0d54c3252440",
   "metadata": {},
   "outputs": [
    {
     "data": {
      "text/latex": [
       "${[\\lambda{} f_{\\left\\langle{}X,X\\right\\rangle{}} \\: . \\: \\lambda{} x_{X} \\: . \\: {f}({x})]}(\\lambda{} x_{X} \\: . \\: {x})$"
      ],
      "text/plain": [
       "((λ f_<X,X>: (λ x_X: f_<X,X>(x_X))))((λ x_X: x_X))"
      ]
     },
     "execution_count": 29,
     "metadata": {},
     "output_type": "execute_result"
    }
   ],
   "source": [
    "(te(\"L f_<Y,Y> : L x_Y : f(x)\")(te(\"L x_X : x\")))"
   ]
  },
  {
   "cell_type": "code",
   "execution_count": 3,
   "id": "d1784f9e-06c4-427e-acd6-4eb5e81fdb9d",
   "metadata": {},
   "outputs": [],
   "source": [
    "f = %te L f_<Y,Y> : L x_Y : f(x)\n",
    "a = %te L x_X : x"
   ]
  },
  {
   "cell_type": "code",
   "execution_count": 4,
   "id": "dcf5b40a-1ee5-41dc-978c-a1097a9a0959",
   "metadata": {},
   "outputs": [
    {
     "data": {
      "text/plain": [
       "((λ f_<X,X>: (λ x_X: f_<X,X>(x_X))), (λ x_X: x_X), <X,X>, True)"
      ]
     },
     "execution_count": 4,
     "metadata": {},
     "output_type": "execute_result"
    }
   ],
   "source": [
    "meta.core.ApplicationExpr.fa_type_inference(f, a, dict())"
   ]
  },
  {
   "cell_type": "code",
   "execution_count": 5,
   "id": "e83f13d0-9353-42f3-a561-25902974c183",
   "metadata": {},
   "outputs": [],
   "source": [
    "ts = meta.core.get_type_system()\n",
    "t1, t2, t3 = ts.unify_fa(f.type, a.type)"
   ]
  },
  {
   "cell_type": "code",
   "execution_count": 6,
   "id": "e7efe50b-e677-42b7-a58b-0bba7653b0f3",
   "metadata": {},
   "outputs": [
    {
     "data": {
      "text/latex": [
       "$\\lambda{} x_{Y} \\: . \\: {x}$"
      ],
      "text/plain": [
       "(λ x_Y: x_Y)"
      ]
     },
     "execution_count": 6,
     "metadata": {},
     "output_type": "execute_result"
    }
   ],
   "source": [
    "a.try_adjust_type(t2, assignment=dict()).compact_type_vars(unsafe=f.get_type_env().type_var_set)"
   ]
  },
  {
   "cell_type": "code",
   "execution_count": 37,
   "id": "c412a61d-ffd9-40fc-9151-b06cd4df1680",
   "metadata": {},
   "outputs": [
    {
     "data": {
      "text/plain": [
       "{Y}"
      ]
     },
     "execution_count": 37,
     "metadata": {},
     "output_type": "execute_result"
    }
   ],
   "source": [
    "f.get_type_env().type_var_set"
   ]
  },
  {
   "cell_type": "code",
   "execution_count": 38,
   "id": "dd6bae6d-2725-4d8a-95c4-246da6d2e085",
   "metadata": {},
   "outputs": [
    {
     "data": {
      "text/latex": [
       "$\\left\\langle{}Y,Y\\right\\rangle{}$"
      ],
      "text/plain": [
       "<Y,Y>"
      ]
     },
     "execution_count": 38,
     "metadata": {},
     "output_type": "execute_result"
    }
   ],
   "source": [
    "t2"
   ]
  },
  {
   "cell_type": "code",
   "execution_count": null,
   "id": "ef96427c-299d-45bc-9cc8-ce0dc1f13db2",
   "metadata": {},
   "outputs": [],
   "source": []
  },
  {
   "cell_type": "code",
   "execution_count": null,
   "id": "49a32430-de13-4212-82e1-47b977e134e0",
   "metadata": {},
   "outputs": [],
   "source": []
  },
  {
   "cell_type": "code",
   "execution_count": 68,
   "id": "80d40735-cd47-4c6a-b555-16c939b46f42",
   "metadata": {},
   "outputs": [
    {
     "data": {
      "text/plain": [
       "((λ f_<X,X>: (λ x_X: f_<X,X>(x_X))), (λ x_X: x_X), <I199,I199>, True)"
      ]
     },
     "execution_count": 68,
     "metadata": {},
     "output_type": "execute_result"
    }
   ],
   "source": [
    "fa_type_inference(f, a, dict()) #[0].type[1]"
   ]
  },
  {
   "cell_type": "code",
   "execution_count": 64,
   "id": "03962497-f5d2-447b-9a93-231bf1a7899f",
   "metadata": {},
   "outputs": [
    {
     "data": {
      "text/plain": [
       "{1, 2, 3}"
      ]
     },
     "execution_count": 64,
     "metadata": {},
     "output_type": "execute_result"
    }
   ],
   "source": [
    "set([1,2]).union(set([3]))"
   ]
  },
  {
   "cell_type": "code",
   "execution_count": null,
   "id": "13417587-2bad-4d13-9939-224738222751",
   "metadata": {},
   "outputs": [],
   "source": []
  },
  {
   "cell_type": "code",
   "execution_count": null,
   "id": "01c8522d-9af7-4eb8-a908-20d25be06a47",
   "metadata": {},
   "outputs": [],
   "source": []
  },
  {
   "cell_type": "code",
   "execution_count": null,
   "id": "3a715af3-abbd-447c-8991-2504a12132d7",
   "metadata": {},
   "outputs": [],
   "source": []
  },
  {
   "cell_type": "code",
   "execution_count": null,
   "id": "e4e91c60-76eb-47b3-9941-08b91425f5e0",
   "metadata": {},
   "outputs": [],
   "source": []
  },
  {
   "cell_type": "code",
   "execution_count": 34,
   "id": "04ab9423-f9dd-4903-9438-f6722a04b80c",
   "metadata": {},
   "outputs": [
    {
     "data": {
      "text/markdown": [
       "${geach}_{\\left\\langle{}\\left\\langle{}Y,Z\\right\\rangle{},\\left\\langle{}\\left\\langle{}X,Y\\right\\rangle{},\\left\\langle{}X,Z\\right\\rangle{}\\right\\rangle{}\\right\\rangle{}}\\:=\\:\\lambda{} g_{\\left\\langle{}Y,Z\\right\\rangle{}} \\: . \\: \\lambda{} f_{\\left\\langle{}X,Y\\right\\rangle{}} \\: . \\: \\lambda{} x_{X} \\: . \\: {g}({f}({x}))$"
      ],
      "text/plain": [
       "geach_<<Y,Z>,<<X,Y>,<X,Z>>> = (λ g_<Y,Z>: (λ f_<X,Y>: (λ x_X: g_<Y,Z>(f_<X,Y>(x_X)))))"
      ]
     },
     "metadata": {},
     "output_type": "display_data"
    }
   ],
   "source": [
    "%%lamb\n",
    "geach = L g_<Y,Z> : L f_<X,Y> : L x_X : g(f(x))"
   ]
  },
  {
   "cell_type": "code",
   "execution_count": 35,
   "id": "1ff37532-fc93-4a3f-b4ed-51f1e9f7bf34",
   "metadata": {},
   "outputs": [
    {
     "data": {
      "text/markdown": [
       "${f}_{\\left\\langle{}n,n\\right\\rangle{}}\\:=\\:\\lambda{} x_{n} \\: . \\: ({x} + {1})$<br />\n",
       "${g}_{\\left\\langle{}n,t\\right\\rangle{}}\\:=\\:\\lambda{} x_{n} \\: . \\: ({x} > {3})$"
      ],
      "text/plain": [
       "f_<n,n> = (λ x_n: (x_n + 1_n))\n",
       "g_<n,t> = (λ x_n: (x_n > 3_n))"
      ]
     },
     "metadata": {},
     "output_type": "display_data"
    }
   ],
   "source": [
    "%%lamb\n",
    "f = L x_n : x+1\n",
    "g = L x_n : x>3"
   ]
  },
  {
   "cell_type": "code",
   "execution_count": 42,
   "id": "cfecddf5-5fb7-4986-bd6a-d77b702a0366",
   "metadata": {},
   "outputs": [
    {
     "data": {
      "text/html": [
       "<div align=\"left\" style=\"display:table;\"><div style=\"display:table-cell;vertical-align:bottom;padding-left:5px;padding-right:5px;padding-top:0.5em\"><div style=\"display:table;\"><div style=\"display:table-row;vertical-align:bottom;\"><div align=\"left\" style=\"display:table;border-collapse:collapse;\"><div style=\"display:table-row;border-bottom:1px solid #848482;\"><div style=\"display:table-cell;padding-right:5px;vertical-align:bottom;\"> 1. </div><div style=\"display:table-cell;vertical-align:bottom;border-right:1px solid #848482;padding-right:5px;\"><div style=\"display:inline-block;\"><span>${[\\lambda{} g_{\\left\\langle{}n,t\\right\\rangle{}} \\: . \\: \\lambda{} f_{\\left\\langle{}X,n\\right\\rangle{}} \\: . \\: \\lambda{} x_{X} \\: . \\: {g}({f}({x}))]}(\\lambda{} x_{n} \\: . \\: ({x} &gt; {3}))(\\lambda{} x_{n} \\: . \\: ({x} + {1}))$</span></div></div></div><div style=\"display:table-row;\"><div style=\"display:table-cell;padding-right:5px;vertical-align:bottom;\"> 2. </div><div style=\"display:table-cell;vertical-align:bottom;border-right:1px solid #848482;padding-right:5px;\"><div style=\"display:inline-block;\"><span>${[\\lambda{} g_{\\left\\langle{}n,t\\right\\rangle{}} \\: . \\: \\lambda{} f_{\\left\\langle{}n,n\\right\\rangle{}} \\: . \\: \\lambda{} x_{n} \\: . \\: {g}({f}({x}))]}(\\lambda{} x_{n} \\: . \\: ({x} &gt; {3}))(\\lambda{} x_{n} \\: . \\: ({x} + {1}))$</span></div></div><div style=\"display:table-cell;vertical-align:bottom;padding-left:5px;padding-right:5px;padding-top:0.5em\"><div style=\"display:table;\"><div style=\"display:table-row;\"><div style=\"white-space:nowrap; color:blue;\"><div style=\"display:inline-block;\"><span>Type inference</span></div></div></div></div></div></div></div></div></div></div></div>"
      ],
      "text/plain": [
       "DisplayNode instance: HTML rendering only"
      ]
     },
     "execution_count": 42,
     "metadata": {},
     "output_type": "execute_result"
    }
   ],
   "source": [
    "geach(g)(f).derivation.trace()"
   ]
  },
  {
   "cell_type": "code",
   "execution_count": null,
   "id": "2dd8bb2f-da7d-417e-9b97-e5178e560ea8",
   "metadata": {},
   "outputs": [],
   "source": []
  }
 ],
 "metadata": {
  "kernelspec": {
   "display_name": "Lambda Notebook (Python 3)",
   "language": "python",
   "name": "lambda-notebook"
  },
  "language_info": {
   "codemirror_mode": {
    "name": "ipython",
    "version": 3
   },
   "file_extension": ".py",
   "mimetype": "text/x-python",
   "name": "python",
   "nbconvert_exporter": "python",
   "pygments_lexer": "ipython3",
   "version": "3.11.5"
  }
 },
 "nbformat": 4,
 "nbformat_minor": 5
}
