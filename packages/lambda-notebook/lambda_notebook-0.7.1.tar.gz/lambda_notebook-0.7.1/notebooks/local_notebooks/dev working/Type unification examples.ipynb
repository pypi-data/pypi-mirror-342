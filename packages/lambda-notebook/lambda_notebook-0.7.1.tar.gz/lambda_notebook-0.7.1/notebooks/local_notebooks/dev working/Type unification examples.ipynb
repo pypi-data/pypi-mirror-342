{
 "cells": [
  {
   "cell_type": "code",
   "execution_count": 80,
   "metadata": {
    "collapsed": false
   },
   "outputs": [],
   "source": [
    "reload_lamb()\n",
    "ts = types.poly_system"
   ]
  },
  {
   "cell_type": "code",
   "execution_count": 81,
   "metadata": {},
   "outputs": [
    {
     "data": {
      "text/latex": [
       "$\\lambda{} f_{\\left\\{\\left\\langle{}I_{22},Y\\right\\rangle{}\\right\\}} \\: . \\: \\lambda{} a_{\\left\\{I_{22}\\right\\}} \\: . \\: \\{x_{Y}\\:|\\: \\exists{} f1_{\\left\\langle{}I_{22},Y\\right\\rangle{}} \\: . \\: \\exists{} a1_{I_{22}} \\: . \\: ((({f1} \\in{} {f}) \\wedge{} ({a1} \\in{} {a})) \\wedge{} ({x}_{Y} = {f1}({a1})))\\}$"
      ],
      "text/plain": [
       "(λ f_{<I22,Y>}: (λ a_{I22}: (Set x_Y: (Exists f1_<I22,Y>: (Exists a1_I22: (((f1_<I22,Y> << f_{<I22,Y>}) & (a1_I22 << a_{I22})) & (x_Y <=> f1_<I22,Y>(a1_I24))))))))"
      ]
     },
     "execution_count": 81,
     "metadata": {},
     "output_type": "execute_result"
    }
   ],
   "source": [
    "pfa_combinator = %te L f_{<X,Y>} : L a_{X} : Set x_Y : Exists f1_<X,Y> : (Exists a1_X : (f1 << f & a1 << a) & x <=> f1(a1))\n",
    "#pfa_combinator = pfa_combinator.compact_type_vars()\n",
    "pfa_combinator"
   ]
  },
  {
   "cell_type": "code",
   "execution_count": 82,
   "metadata": {},
   "outputs": [
    {
     "data": {
      "text/latex": [
       "$\\lambda{} f_{\\left\\{\\left\\langle{}I_{26},Y\\right\\rangle{}\\right\\}} \\: . \\: \\lambda{} a_{\\left\\{I_{26}\\right\\}} \\: . \\: \\{x_{Y}\\:|\\: \\exists{} f1_{\\left\\langle{}I_{26},Y\\right\\rangle{}} \\: . \\: \\exists{} a1_{I_{26}} \\: . \\: ((({f1} \\in{} {f}) \\wedge{} ({a1} \\in{} {a})) \\wedge{} ({x}_{Y} = {f1}({a1})))\\}$"
      ],
      "text/plain": [
       "(λ f_{<I26,Y>}: (λ a_{I26}: (Set x_Y: (Exists f1_<I26,Y>: (Exists a1_I26: (((f1_<I26,Y> << f_{<I26,Y>}) & (a1_I26 << a_{I26})) & (x_Y <=> f1_<I26,Y>(a1_I28))))))))"
      ]
     },
     "execution_count": 82,
     "metadata": {},
     "output_type": "execute_result"
    }
   ],
   "source": [
    "%te L f_{<X,Y>} : L a_{X} : Set x_Y : Exists f1_<X,Y> : (Exists a1_X : (f1 << f & a1 << a) & x <=> f1(a1))"
   ]
  },
  {
   "cell_type": "code",
   "execution_count": 83,
   "metadata": {},
   "outputs": [
    {
     "data": {
      "text/latex": [
       "$\\lambda{} f_{\\left\\{\\left\\langle{}X,Y\\right\\rangle{}\\right\\}} \\: . \\: \\lambda{} a_{\\left\\{X\\right\\}} \\: . \\: \\{x_{Y}\\:|\\: \\exists{} f1_{\\left\\langle{}X,Y\\right\\rangle{}} \\: . \\: \\exists{} a1_{X} \\: . \\: ((({f1} \\in{} {f}) \\wedge{} ({a1} \\in{} {a})) \\wedge{} ({x}_{Y} = {f1}({a1})))\\}$"
      ],
      "text/plain": [
       "(λ f_{<X,Y>}: (λ a_{X}: (Set x_Y: (Exists f1_<X,Y>: (Exists a1_X: (((f1_<X,Y> << f_{<X,Y>}) & (a1_X << a_{X})) & (x_Y <=> f1_<X,Y>(a1_I30))))))))"
      ]
     },
     "execution_count": 83,
     "metadata": {},
     "output_type": "execute_result"
    }
   ],
   "source": [
    "x = te(\"L f_{<X,Y>} : L a_{X} : Set x_Y : Exists f1_<X,Y> : (Exists a1_X : (f1 << f & a1 << a) & x <=> f1(a1))\")\n",
    "x"
   ]
  },
  {
   "cell_type": "code",
   "execution_count": 84,
   "metadata": {},
   "outputs": [
    {
     "data": {
      "text/latex": [
       "$\\lambda{} f_{\\left\\{\\left\\langle{}X,Y\\right\\rangle{}\\right\\}} \\: . \\: \\lambda{} a_{\\left\\{X\\right\\}} \\: . \\: \\{x_{Y}\\:|\\: \\exists{} f1_{\\left\\langle{}X,Y\\right\\rangle{}} \\: . \\: \\exists{} a1_{X} \\: . \\: ((({f1} \\in{} {f}) \\wedge{} ({a1} \\in{} {a})) \\wedge{} ({x}_{Y} = {f1}({a1})))\\}$"
      ],
      "text/plain": [
       "(λ f_{<X,Y>}: (λ a_{X}: (Set x_Y: (Exists f1_<X,Y>: (Exists a1_X: (((f1_<X,Y> << f_{<X,Y>}) & (a1_X << a_{X})) & (x_Y <=> f1_<X,Y>(a1_I30))))))))"
      ]
     },
     "metadata": {},
     "output_type": "display_data"
    },
    {
     "data": {
      "text/html": [
       "<table><tr><td>Term mappings:&nbsp;&nbsp; </td><td>{}</td></tr><tr><td>Type mappings:&nbsp;&nbsp; </td><td>{$X$: $I_{30}$}</td></tr><tr><td>Type variables:&nbsp;&nbsp; </td><td>{$X$, $Y$, $I_{30}$}</td></tr></table>"
      ],
      "text/plain": [
       "[TypeEnv: Variables: {}, Type mapping: {X: I30}, Type variables: {X, Y, I30}]"
      ]
     },
     "metadata": {},
     "output_type": "display_data"
    }
   ],
   "source": [
    "display(x)\n",
    "display(x.get_type_env())\n",
    "#x.regularize_type_env().derivation\n",
    "x.derivation"
   ]
  },
  {
   "cell_type": "code",
   "execution_count": 85,
   "metadata": {},
   "outputs": [
    {
     "data": {
      "text/latex": [
       "$\\lambda{} a_{Y} \\: . \\: \\{x_{Y}\\:|\\: \\exists{} a2_{Y} \\: . \\: ({a} = {a2})\\}$"
      ],
      "text/plain": [
       "(λ a_Y: (Set x_Y: (Exists a2_Y: (a_Y <=> a2_Y))))"
      ]
     },
     "execution_count": 85,
     "metadata": {},
     "output_type": "execute_result"
    }
   ],
   "source": [
    "te(\"L a_X : Set x_X : Exists a2_X :a <=> a2\").under_type_injection({tp(\"X\"): tp(\"Y\")})"
   ]
  },
  {
   "cell_type": "code",
   "execution_count": 86,
   "metadata": {},
   "outputs": [
    {
     "data": {
      "text/latex": [
       "$\\lambda{} a_{\\left\\{X\\right\\}} \\: . \\: \\{x_{Y}\\:|\\: \\exists{} f1_{\\left\\langle{}X,Y\\right\\rangle{}} \\: . \\: \\exists{} a1_{X} \\: . \\: (({a1} \\in{} {a}) \\wedge{} ({x}_{Y} = {f1}({a1})))\\}$"
      ],
      "text/plain": [
       "(λ a_{X}: (Set x_Y: (Exists f1_<X,Y>: (Exists a1_X: ((a1_X << a_{X}) & (x_Y <=> f1_<X,Y>(a1_I32)))))))"
      ]
     },
     "execution_count": 86,
     "metadata": {},
     "output_type": "execute_result"
    }
   ],
   "source": [
    "te(\"L a_{X} : Set x_Y : Exists f1_<X,Y> : (Exists a1_X : (a1 << a) & x <=> f1(a1))\") #.under_type_injection({tp(\"Y\"): tp(\"Z\")})\n"
   ]
  },
  {
   "cell_type": "code",
   "execution_count": 87,
   "metadata": {},
   "outputs": [
    {
     "data": {
      "text/latex": [
       "$\\lambda{} f_{\\left\\{\\left\\langle{}Z,Y\\right\\rangle{}\\right\\}} \\: . \\: \\lambda{} a_{\\left\\{Z\\right\\}} \\: . \\: \\{x_{Y}\\:|\\: \\exists{} f1_{\\left\\langle{}Z,Y\\right\\rangle{}} \\: . \\: \\exists{} a1_{Z} \\: . \\: ({x}_{Y} = {f1}({a1}))\\}$"
      ],
      "text/plain": [
       "(λ f_{<Z,Y>}: (λ a_{Z}: (Set x_Y: (Exists f1_<Z,Y>: (Exists a1_Z: (x_Y <=> f1_<Z,Y>(a1_I34)))))))"
      ]
     },
     "execution_count": 87,
     "metadata": {},
     "output_type": "execute_result"
    }
   ],
   "source": [
    "te(\"L f_{<X,Y>} : L a_{X} : Set x_Y : Exists f1_<X,Y> : (Exists a1_X : x <=> f1(a1))\").under_type_injection({tp(\"X\"): tp(\"Z\")})\n"
   ]
  },
  {
   "cell_type": "code",
   "execution_count": null,
   "metadata": {},
   "outputs": [],
   "source": []
  },
  {
   "cell_type": "code",
   "execution_count": 2,
   "metadata": {
    "collapsed": false
   },
   "outputs": [
    {
     "data": {
      "text/latex": [
       "$\\langle{}e,e\\rangle{}$"
      ],
      "text/plain": [
       "<e,e>"
      ]
     },
     "execution_count": 2,
     "metadata": {},
     "output_type": "execute_result"
    }
   ],
   "source": [
    "ts.unify(tp(\"<e,X>\"), tp(\"<Y,Y>\"))"
   ]
  },
  {
   "cell_type": "code",
   "execution_count": 3,
   "metadata": {
    "collapsed": false
   },
   "outputs": [
    {
     "data": {
      "text/latex": [
       "$\\langle{}e,e\\rangle{}$"
      ],
      "text/plain": [
       "<e,e>"
      ]
     },
     "execution_count": 3,
     "metadata": {},
     "output_type": "execute_result"
    }
   ],
   "source": [
    "ts.unify(tp(\"<X,X>\"), tp(\"<e,Y>\"))"
   ]
  },
  {
   "cell_type": "code",
   "execution_count": 4,
   "metadata": {
    "collapsed": false
   },
   "outputs": [
    {
     "data": {
      "text/latex": [
       "$\\langle{}X''',\\langle{}X,t\\rangle{}\\rangle{}$"
      ],
      "text/plain": [
       "<X''',<X,t>>"
      ]
     },
     "execution_count": 4,
     "metadata": {},
     "output_type": "execute_result"
    }
   ],
   "source": [
    "ts.unify(tp(\"<X''',<X,t>>\"), tp(\"Y\"))"
   ]
  },
  {
   "cell_type": "code",
   "execution_count": 5,
   "metadata": {
    "collapsed": false
   },
   "outputs": [
    {
     "name": "stderr",
     "output_type": "stream",
     "text": [
      "ERROR (types): Failed occurs check: can't unify recursive types <X''',<X,t>> and X\n"
     ]
    }
   ],
   "source": [
    "ts.unify(tp(\"<X''',<X,t>>\"), tp(\"X\"))"
   ]
  },
  {
   "cell_type": "code",
   "execution_count": 6,
   "metadata": {
    "collapsed": false
   },
   "outputs": [
    {
     "data": {
      "text/latex": [
       "$\\langle{}Y,Y\\rangle{}$"
      ],
      "text/plain": [
       "<Y,Y>"
      ]
     },
     "execution_count": 6,
     "metadata": {},
     "output_type": "execute_result"
    }
   ],
   "source": [
    "ts.unify(tp(\"<X,Y>\"), tp(\"<X,X>\"))"
   ]
  },
  {
   "cell_type": "code",
   "execution_count": 7,
   "metadata": {
    "collapsed": false
   },
   "outputs": [
    {
     "data": {
      "text/latex": [
       "$\\langle{}X,X\\rangle{}$"
      ],
      "text/plain": [
       "<X,X>"
      ]
     },
     "execution_count": 7,
     "metadata": {},
     "output_type": "execute_result"
    }
   ],
   "source": [
    "ts.unify(tp(\"<X,X>\"), tp(\"<X,Y>\"))"
   ]
  },
  {
   "cell_type": "code",
   "execution_count": 8,
   "metadata": {
    "collapsed": false
   },
   "outputs": [
    {
     "data": {
      "text/latex": [
       "$\\langle{}\\langle{}Z,Z\\rangle{},Z\\rangle{}$"
      ],
      "text/plain": [
       "<<Z,Z>,Z>"
      ]
     },
     "execution_count": 8,
     "metadata": {},
     "output_type": "execute_result"
    }
   ],
   "source": [
    "ts.unify(tp(\"<<X,Y>,Z>\"), tp(\"<<X,X>,X>\"))"
   ]
  },
  {
   "cell_type": "code",
   "execution_count": 9,
   "metadata": {
    "collapsed": false
   },
   "outputs": [
    {
     "data": {
      "text/latex": [
       "$\\langle{}e,X'\\rangle{}$"
      ],
      "text/plain": [
       "<e,X'>"
      ]
     },
     "execution_count": 9,
     "metadata": {},
     "output_type": "execute_result"
    }
   ],
   "source": [
    "ts.unify(tp(\"<e,X'>\"), tp(\"<X,Y>\"))"
   ]
  },
  {
   "cell_type": "code",
   "execution_count": 10,
   "metadata": {
    "collapsed": false
   },
   "outputs": [
    {
     "data": {
      "text/latex": [
       "$\\langle{}\\langle{}e,e\\rangle{},e\\rangle{}$"
      ],
      "text/plain": [
       "<<e,e>,e>"
      ]
     },
     "execution_count": 10,
     "metadata": {},
     "output_type": "execute_result"
    }
   ],
   "source": [
    "ts.unify(tp(\"<<e,X>,X>\"), tp(\"<<X,Y'>,X>\"))"
   ]
  },
  {
   "cell_type": "code",
   "execution_count": 11,
   "metadata": {
    "collapsed": false
   },
   "outputs": [
    {
     "data": {
      "text/latex": [
       "$\\langle{}\\langle{}e,X'\\rangle{},X'\\rangle{}$"
      ],
      "text/plain": [
       "<<e,X'>,X'>"
      ]
     },
     "execution_count": 11,
     "metadata": {},
     "output_type": "execute_result"
    }
   ],
   "source": [
    "ts.unify(tp(\"<<e,X'>,X'>\"), tp(\"<<X,Y>,Z>\"))"
   ]
  },
  {
   "cell_type": "code",
   "execution_count": 12,
   "metadata": {
    "collapsed": false
   },
   "outputs": [],
   "source": [
    "ts.unify(tp(\"<<e,X>,X>\"), tp(\"<<X,X>,t>\"))"
   ]
  },
  {
   "cell_type": "code",
   "execution_count": 13,
   "metadata": {
    "collapsed": false
   },
   "outputs": [
    {
     "data": {
      "text/latex": [
       "$\\langle{}\\langle{}\\langle{}e,e\\rangle{},e\\rangle{},e\\rangle{}$"
      ],
      "text/plain": [
       "<<<e,e>,e>,e>"
      ]
     },
     "execution_count": 13,
     "metadata": {},
     "output_type": "execute_result"
    }
   ],
   "source": [
    "ts.unify(tp(\"<<<e,X>,Y>,Y>\"), tp(\"<<<X,Z>,Z>,e>\"))"
   ]
  },
  {
   "cell_type": "code",
   "execution_count": 14,
   "metadata": {
    "collapsed": false
   },
   "outputs": [
    {
     "data": {
      "text/latex": [
       "$\\langle{}\\langle{}e,e\\rangle{},e\\rangle{}$"
      ],
      "text/plain": [
       "<<e,e>,e>"
      ]
     },
     "execution_count": 14,
     "metadata": {},
     "output_type": "execute_result"
    }
   ],
   "source": [
    "ts.unify(tp(\"<X,e>\"), tp(\"<<Y,Y>,Y>\"))"
   ]
  },
  {
   "cell_type": "code",
   "execution_count": 15,
   "metadata": {
    "collapsed": false
   },
   "outputs": [
    {
     "data": {
      "text/latex": [
       "$\\langle{}\\langle{}\\langle{}\\langle{}n,e\\rangle{},\\langle{}n,e\\rangle{}\\rangle{},\\langle{}n,e\\rangle{}\\rangle{},\\langle{}\\langle{}n,e\\rangle{},\\langle{}n,e\\rangle{}\\rangle{}\\rangle{}$"
      ],
      "text/plain": [
       "<<<<n,e>,<n,e>>,<n,e>>,<<n,e>,<n,e>>>"
      ]
     },
     "execution_count": 15,
     "metadata": {},
     "output_type": "execute_result"
    }
   ],
   "source": [
    "ts.unify(tp(\"<<<Y,X>,X>,<Y,X>>\"), tp(\"<<<Z,Z>,Z>,<Z,<n,e>>>\"))"
   ]
  },
  {
   "cell_type": "code",
   "execution_count": 16,
   "metadata": {
    "collapsed": false
   },
   "outputs": [
    {
     "data": {
      "text/latex": [
       "$\\langle{}\\langle{}e,t\\rangle{},\\langle{}\\langle{}e,t\\rangle{},t\\rangle{}\\rangle{}$"
      ],
      "text/plain": [
       "<<e,t>,<<e,t>,t>>"
      ]
     },
     "execution_count": 16,
     "metadata": {},
     "output_type": "execute_result"
    }
   ],
   "source": [
    "ts.unify(tp(\"<<e,t>,Y>\"), tp(\"<X,<<e,t>,t>>\"))"
   ]
  },
  {
   "cell_type": "code",
   "execution_count": 17,
   "metadata": {
    "collapsed": false
   },
   "outputs": [
    {
     "data": {
      "text/latex": [
       "$\\langle{}e,\\langle{}e,t\\rangle{}\\rangle{}$"
      ],
      "text/plain": [
       "<e,<e,t>>"
      ]
     },
     "execution_count": 17,
     "metadata": {},
     "output_type": "execute_result"
    }
   ],
   "source": [
    "ts.unify(tp(\"<e,<X,t>>\"), tp(\"<e,<e,t>>\"))"
   ]
  },
  {
   "cell_type": "code",
   "execution_count": 18,
   "metadata": {
    "collapsed": false
   },
   "outputs": [
    {
     "data": {
      "text/latex": [
       "$\\langle{}\\langle{}X,Z\\rangle{},\\langle{}Z,\\langle{}Z',Z''\\rangle{}\\rangle{}\\rangle{}$"
      ],
      "text/plain": [
       "<<X,Z>,<Z,<Z',Z''>>>"
      ]
     },
     "execution_count": 18,
     "metadata": {},
     "output_type": "execute_result"
    }
   ],
   "source": [
    "ts.unify(tp(\"<<X,Y>,<Z,<Z',Z''>>>\"), tp(\"<<X',Y'>,<Y',Z'''>>\"))"
   ]
  },
  {
   "cell_type": "code",
   "execution_count": 19,
   "metadata": {
    "collapsed": false
   },
   "outputs": [],
   "source": [
    "ts.unify(tp(\"<<X,X>,<Y,Y>>\"), tp(\"<<e,Z>,<Z,t>>\"))"
   ]
  },
  {
   "cell_type": "code",
   "execution_count": 19,
   "metadata": {
    "collapsed": false
   },
   "outputs": [],
   "source": []
  },
  {
   "cell_type": "code",
   "execution_count": 19,
   "metadata": {
    "collapsed": false
   },
   "outputs": [],
   "source": []
  },
  {
   "cell_type": "code",
   "execution_count": 20,
   "metadata": {
    "collapsed": false
   },
   "outputs": [
    {
     "data": {
      "text/latex": [
       "$\\lambda{} d_{t} \\: . \\: \\lambda{} c_{\\langle{}t,X\\rangle{}} \\: . \\: \\lambda{} b_{\\langle{}X,X'\\rangle{}} \\: . \\: \\lambda{} a_{\\langle{}X',X''\\rangle{}} \\: . \\: \\lambda{} q_{\\langle{}X'',X'''\\rangle{}} \\: . \\: \\lambda{} p_{\\langle{}X''',X''''\\rangle{}} \\: . \\: {p}_{\\langle{}X''',X''''\\rangle{}}({q}_{\\langle{}X'',X'''\\rangle{}}({a}_{\\langle{}X',X''\\rangle{}}({b}_{\\langle{}X,X'\\rangle{}}({c}_{\\langle{}t,X\\rangle{}}({d}_{t})))))$"
      ],
      "text/plain": [
       "(λ d_t: (λ c_<t,X>: (λ b_<X,X'>: (λ a_<X',X''>: (λ q_<X'',X'''>: (λ p_<X''',X''''>: p_<X''',X''''>(q_<X'',X'''>(a_<X',X''>(b_<X,X'>(c_<t,X>(d_t)))))))))))"
      ]
     },
     "execution_count": 20,
     "metadata": {},
     "output_type": "execute_result"
    }
   ],
   "source": [
    "%te L d_t : L c_X' : L b_X'' : L a_X''' : L q_X'''' : L p_X''''' : p(q(a(b(c(d)))))"
   ]
  },
  {
   "cell_type": "code",
   "execution_count": 30,
   "metadata": {
    "collapsed": false
   },
   "outputs": [
    {
     "data": {
      "text/latex": [
       "$\\lambda{} d_{t} \\: . \\: \\lambda{} c_{\\langle{}t,t\\rangle{}} \\: . \\: ({c}_{\\langle{}t,t\\rangle{}}({d}_{t}) \\wedge{} {c}_{\\langle{}t,t\\rangle{}}({d}_{t}))$"
      ],
      "text/plain": [
       "(λ d_t: (λ c_<t,t>: (c_<t,t>(d_t) & c_<t,t>(d_t))))"
      ]
     },
     "execution_count": 30,
     "metadata": {},
     "output_type": "execute_result"
    }
   ],
   "source": [
    "x = %te L d_t : L c_X' : c(d) & c(d)\n",
    "x"
   ]
  },
  {
   "cell_type": "code",
   "execution_count": 28,
   "metadata": {
    "collapsed": false
   },
   "outputs": [
    {
     "data": {
      "text/latex": [
       "$\\langle{}t,\\langle{}\\langle{}t,X\\rangle{},X\\rangle{}\\rangle{}$"
      ],
      "text/plain": [
       "<t,<<t,X>,X>>"
      ]
     },
     "execution_count": 28,
     "metadata": {},
     "output_type": "execute_result"
    }
   ],
   "source": [
    "x.type"
   ]
  },
  {
   "cell_type": "code",
   "execution_count": null,
   "metadata": {
    "collapsed": false
   },
   "outputs": [],
   "source": []
  }
 ],
 "metadata": {
  "kernelspec": {
   "display_name": "Lambda Notebook (Python 3)",
   "language": "python",
   "name": "lambda-notebook"
  },
  "language_info": {
   "codemirror_mode": {
    "name": "ipython",
    "version": 3
   },
   "file_extension": ".py",
   "mimetype": "text/x-python",
   "name": "python",
   "nbconvert_exporter": "python",
   "pygments_lexer": "ipython3",
   "version": "3.6.6"
  }
 },
 "nbformat": 4,
 "nbformat_minor": 2
}
