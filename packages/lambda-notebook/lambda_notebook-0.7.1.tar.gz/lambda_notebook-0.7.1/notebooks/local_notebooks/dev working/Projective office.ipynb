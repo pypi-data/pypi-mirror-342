{
 "cells": [
  {
   "cell_type": "code",
   "execution_count": 139,
   "metadata": {
    "collapsed": false
   },
   "outputs": [],
   "source": [
    "reload_lamb()"
   ]
  },
  {
   "cell_type": "code",
   "execution_count": 140,
   "metadata": {
    "collapsed": false
   },
   "outputs": [],
   "source": [
    "class TVStoreExpr(meta.Tuple):\n",
    "    def __init__(self, arg, tv_layer, typ=None):\n",
    "        arg = self.ensure_typed_expr(arg, typ=types.type_t)\n",
    "        meta.Tuple.__init__(self, (arg, tv_layer), typ=type)\n",
    "\n",
    "    def copy(self):\n",
    "        return TVStoreExpr(self.args)\n",
    "\n",
    "    def term(self):\n",
    "        return False\n",
    "\n",
    "    def tuple(self):\n",
    "        return tuple(self.args)\n",
    "\n",
    "    def __repr__(self):\n",
    "        return \"(\" + \", \".join([repr(a) for a in self.args]) + \")\"\n",
    "\n",
    "    def latex_str(self, parens=True):\n",
    "        inner = \", \".join([a.latex_str() for a in self.args])\n",
    "        if parens:\n",
    "            return ensuremath(\"(\" + inner + \")\")\n",
    "        else:\n",
    "            return ensuremath(inner)"
   ]
  },
  {
   "cell_type": "code",
   "execution_count": 141,
   "metadata": {
    "collapsed": false
   },
   "outputs": [
    {
     "name": "stderr",
     "output_type": "stream",
     "text": [
      "INFO (meta): Coerced guessed type t for 'Dance_t' into <e,t>, to match argument 'x_e'\n",
      "INFO (meta): Coerced guessed type t for 'Saw_t' into <(e,e),t>, to match argument '(y_e, x_e)'\n",
      "INFO (meta): Coerced guessed type t for 'PhysExistence_t' into <e,t>, to match argument 'x_e'\n",
      "INFO (meta): Coerced guessed type t for 'Sensory_t' into <e,t>, to match argument 'y_e'\n",
      "INFO (meta): Coerced guessed type t for 'Cat_t' into <e,t>, to match argument 'x_e'\n"
     ]
    },
    {
     "data": {
      "text/latex": [
       "$||\\mathbf{\\text{danced}}||^{}_{\\langle{}e,t\\rangle{}} \\:=\\: \\lambda{} x_{e} \\: . \\: {Dance}({x}_{e})$<br />\n",
       "$||\\mathbf{\\text{saw}}||^{}_{\\langle{}e,\\langle{}e,(t, t)\\rangle{}\\rangle{}} \\:=\\: \\lambda{} x_{e} \\: . \\: \\lambda{} y_{e} \\: . \\: ({Saw}({y}_{e}, {x}_{e}), ({PhysExistence}({x}_{e}) \\wedge{} {Sensory}({y}_{e})))$<br />\n",
       "$||\\mathbf{\\text{the}}||^{}_{\\langle{}\\langle{}e,t\\rangle{},(e, t)\\rangle{}} \\:=\\: \\lambda{} f_{\\langle{}e,t\\rangle{}} \\: . \\: (\\iota{} x_{e} \\: . \\: {f}_{\\langle{}e,t\\rangle{}}({x}_{e}), \\exists{} x_{e} \\: . \\: {f}_{\\langle{}e,t\\rangle{}}({x}_{e}))$<br />\n",
       "$||\\mathbf{\\text{cat}}||^{}_{\\langle{}e,t\\rangle{}} \\:=\\: \\lambda{} x_{e} \\: . \\: {Cat}({x}_{e})$<br />\n",
       "$||\\mathbf{\\text{Bill}}||^{}_{e} \\:=\\: {Bill}_{e}$"
      ],
      "text/plain": [
       "$||\\mathbf{\\text{danced}}||^{}_{\\langle{}e,t\\rangle{}} \\:=\\: \\lambda{} x_{e} \\: . \\: {Dance}({x}_{e})$<br />\n",
       "$||\\mathbf{\\text{saw}}||^{}_{\\langle{}e,\\langle{}e,(t, t)\\rangle{}\\rangle{}} \\:=\\: \\lambda{} x_{e} \\: . \\: \\lambda{} y_{e} \\: . \\: ({Saw}({y}_{e}, {x}_{e}), ({PhysExistence}({x}_{e}) \\wedge{} {Sensory}({y}_{e})))$<br />\n",
       "$||\\mathbf{\\text{the}}||^{}_{\\langle{}\\langle{}e,t\\rangle{},(e, t)\\rangle{}} \\:=\\: \\lambda{} f_{\\langle{}e,t\\rangle{}} \\: . \\: (\\iota{} x_{e} \\: . \\: {f}_{\\langle{}e,t\\rangle{}}({x}_{e}), \\exists{} x_{e} \\: . \\: {f}_{\\langle{}e,t\\rangle{}}({x}_{e}))$<br />\n",
       "$||\\mathbf{\\text{cat}}||^{}_{\\langle{}e,t\\rangle{}} \\:=\\: \\lambda{} x_{e} \\: . \\: {Cat}({x}_{e})$<br />\n",
       "$||\\mathbf{\\text{Bill}}||^{}_{e} \\:=\\: {Bill}_{e}$"
      ]
     },
     "execution_count": 141,
     "metadata": {},
     "output_type": "execute_result"
    }
   ],
   "source": [
    "%%lamb\n",
    "||danced|| = L x_e : Dance(x)\n",
    "||saw|| = L x_e : L y_e : (Saw(y,x), PhysExistence(x) & Sensory(y))\n",
    "||the|| = L f_<e,t> : ((Iota x_e :f(x)), (Exists x_e : f(x)))\n",
    "||cat|| = L x_e : Cat(x)\n",
    "||Bill|| = Bill_e"
   ]
  },
  {
   "cell_type": "code",
   "execution_count": 142,
   "metadata": {
    "collapsed": false
   },
   "outputs": [
    {
     "data": {
      "text/latex": [
       "1 composition path.  Result:\n",
       "<br />&nbsp;&nbsp;&nbsp;&nbsp;[0]: $||\\mathbf{\\text{[the cat]}}||^{}_{(e, t)} \\:=\\: $$(\\iota{} x_{e} \\: . \\: {Cat}({x}_{e}), \\exists{} x_{e} \\: . \\: {Cat}({x}_{e}))$"
      ],
      "text/plain": [
       "CompositionResult(results=[||[the cat]|| = ((ι x_e: Cat_<e,t>(x_e)), (Exists x_e: Cat_<e,t>(x_e)))], failures=[||[cat the]|| = Type mismatch: '||cat|| = (λ x_e: Cat_<e,t>(x_e))'/<e,t> and '||the|| = (λ f_<e,t>: ((ι x_e: f_<e,t>(x_e)), (Exists x_e: f_<e,t>(x_e))))'/<<e,t>,(e,t)> conflict (mode: Function Application), ||[the cat]|| = Type mismatch: '||the|| = (λ f_<e,t>: ((ι x_e: f_<e,t>(x_e)), (Exists x_e: f_<e,t>(x_e))))'/<<e,t>,(e,t)> and '||cat|| = (λ x_e: Cat_<e,t>(x_e))'/<e,t> conflict (mode: Predicate Modification), ||[the cat]|| = Type mismatch: '||the|| = (λ f_<e,t>: ((ι x_e: f_<e,t>(x_e)), (Exists x_e: f_<e,t>(x_e))))'/<<e,t>,(e,t)> and '||cat|| = (λ x_e: Cat_<e,t>(x_e))'/<e,t> conflict (mode: Predicate Abstraction), ||[cat the]|| = Type mismatch: '||cat|| = (λ x_e: Cat_<e,t>(x_e))'/<e,t> and '||the|| = (λ f_<e,t>: ((ι x_e: f_<e,t>(x_e)), (Exists x_e: f_<e,t>(x_e))))'/<<e,t>,(e,t)> conflict (mode: Predicate Abstraction)])"
      ]
     },
     "execution_count": 142,
     "metadata": {},
     "output_type": "execute_result"
    }
   ],
   "source": [
    "tc = the * cat\n",
    "tc"
   ]
  },
  {
   "cell_type": "code",
   "execution_count": 143,
   "metadata": {
    "collapsed": false
   },
   "outputs": [
    {
     "data": {
      "text/latex": [
       "$({Dance}(\\iota{} x_{e} \\: . \\: {Cat}({x}_{e})), \\exists{} x_{e} \\: . \\: {Cat}({x}_{e}))$"
      ],
      "text/plain": [
       "(Dance_<e,t>((ι x_e: Cat_<e,t>(x_e))), (Exists x_e: Cat_<e,t>(x_e)))"
      ]
     },
     "execution_count": 143,
     "metadata": {},
     "output_type": "execute_result"
    }
   ],
   "source": [
    "#fun = te(\"L f_<e,t> : L a_(e,t) : (f(a[0]), a[1])\")\n",
    "def project_fa(fun, arg):\n",
    "    if not isinstance(fun.type, types.FunType):\n",
    "        raise types.TypeMismatch(fun, arg, \"Project\")\n",
    "    if not isinstance(arg.type, types.TupleType):\n",
    "        raise types.TypeMismatch(fun, arg, \"Project\")\n",
    "    if not fun.type.left == arg.type[0]: # TODO: use unify\n",
    "        raise types.TypeMismatch(fun, arg, \"Project\")\n",
    "    result = meta.Tuple((fun(arg.args[0]), arg.args[1]))\n",
    "    return result\n",
    "\n",
    "project_fa(danced.content, tc[0].content).reduce_all()"
   ]
  },
  {
   "cell_type": "code",
   "execution_count": 144,
   "metadata": {
    "collapsed": false
   },
   "outputs": [
    {
     "data": {
      "text/latex": [
       "$||\\mathbf{\\text{[the cat]}}||^{}_{(e, t)} \\:=\\: $$(\\iota{} x_{e} \\: . \\: {Cat}({x}_{e}), \\exists{} x_{e} \\: . \\: {Cat}({x}_{e}))$"
      ],
      "text/plain": [
       "||[the cat]|| = ((ι x_e: Cat_<e,t>(x_e)), (Exists x_e: Cat_<e,t>(x_e)))"
      ]
     },
     "execution_count": 144,
     "metadata": {},
     "output_type": "execute_result"
    }
   ],
   "source": [
    "tc[0]"
   ]
  },
  {
   "cell_type": "code",
   "execution_count": 145,
   "metadata": {
    "collapsed": false
   },
   "outputs": [],
   "source": [
    "def projective_tuple_type(t):\n",
    "    if isinstance(t, types.TupleType):\n",
    "        if len(t) == 2:\n",
    "            if t[1] == types.type_t:\n",
    "                return True\n",
    "    return False\n",
    "\n",
    "def project_combine(rule):\n",
    "    def fun(i1, i2, assignment=None):\n",
    "        if projective_tuple_type(i1.type):\n",
    "            i1_un = lang.TreeComposite(content=i1.content.args[0])\n",
    "            if projective_tuple_type(i2.type):\n",
    "                i2_un = lang.TreeComposite(content=i2.content.args[0])\n",
    "                result = rule(i1_un, i2_un, assignment=assignment)\n",
    "                project = il.content.args[1] & i2.content.args[1]\n",
    "            else:\n",
    "                result = rule(i1_un, i2, assignment=assignment)\n",
    "                project = i1.content.args[1]\n",
    "        else:\n",
    "            if projective_tuple_type(i2.type):\n",
    "                i2_un = lang.TreeComposite(content=i2.content.args[0])\n",
    "                result = rule(i1, i2_un, assignment=assignment)\n",
    "                project = i2.content.args[1]\n",
    "            else:\n",
    "                result = rule(i1, i2, assignment=assignment)\n",
    "                project = None\n",
    "        if projective_tuple_type(result.type):\n",
    "            # merge projected meaning resulting from application of `rule` with projected meaning already present\n",
    "            if project:\n",
    "                project = project & result.content.index(1)\n",
    "            else:\n",
    "                project = result.content.index(1)\n",
    "            result.content = result.content.index(0) # hope this works!\n",
    "        if project:\n",
    "            # discard intermediate Composite object probably created by application of rule\n",
    "            full_result_te = meta.Tuple((result.content, project))\n",
    "            full_result = lang.BinaryComposite(i1, i2, full_result_te)\n",
    "        else:\n",
    "            full_result = result\n",
    "        return full_result\n",
    "    return fun\n",
    "    \n",
    "project_fa = project_combine(lang.fa_fun)\n",
    "            "
   ]
  },
  {
   "cell_type": "code",
   "execution_count": 146,
   "metadata": {
    "collapsed": false
   },
   "outputs": [
    {
     "data": {
      "text/latex": [
       "$||\\mathbf{\\text{[danced [the cat]]}}||^{}_{(t, t)} \\:=\\: $$({Dance}(\\iota{} x_{e} \\: . \\: {Cat}({x}_{e})), \\exists{} x_{e} \\: . \\: {Cat}({x}_{e}))$"
      ],
      "text/plain": [
       "||[danced [the cat]]|| = (Dance_<e,t>((ι x_e: Cat_<e,t>(x_e))), (Exists x_e: Cat_<e,t>(x_e)))"
      ]
     },
     "execution_count": 146,
     "metadata": {},
     "output_type": "execute_result"
    }
   ],
   "source": [
    "project_fa(danced, tc[0])"
   ]
  },
  {
   "cell_type": "code",
   "execution_count": 147,
   "metadata": {
    "collapsed": false
   },
   "outputs": [
    {
     "data": {
      "text/latex": [
       "$||\\mathbf{\\text{[saw [the cat]]}}||^{}_{(\\langle{}e,(t, t)\\rangle{}, t)} \\:=\\: $$(\\lambda{} y_{e} \\: . \\: ({Saw}({y}_{e}, \\iota{} x_{e} \\: . \\: {Cat}({x}_{e})), ({PhysExistence}(\\iota{} x_{e} \\: . \\: {Cat}({x}_{e})) \\wedge{} {Sensory}({y}_{e}))), \\exists{} x_{e} \\: . \\: {Cat}({x}_{e}))$"
      ],
      "text/plain": [
       "||[saw [the cat]]|| = ((λ y_e: (Saw_<(e,e),t>(y_e, (ι x_e: Cat_<e,t>(x_e))), (PhysExistence_<e,t>((ι x_e: Cat_<e,t>(x_e))) & Sensory_<e,t>(y_e)))), (Exists x_e: Cat_<e,t>(x_e)))"
      ]
     },
     "execution_count": 147,
     "metadata": {},
     "output_type": "execute_result"
    }
   ],
   "source": [
    "project_fa(saw, tc[0])"
   ]
  },
  {
   "cell_type": "code",
   "execution_count": 148,
   "metadata": {
    "collapsed": false
   },
   "outputs": [
    {
     "data": {
      "text/latex": [
       "$||\\mathbf{\\text{[[saw [the cat]] Bill]}}||^{}_{(t, t)} \\:=\\: $$({Saw}({Bill}_{e}, \\iota{} x_{e} \\: . \\: {Cat}({x}_{e})), (\\exists{} x_{e} \\: . \\: {Cat}({x}_{e}) \\wedge{} ({PhysExistence}(\\iota{} x_{e} \\: . \\: {Cat}({x}_{e})) \\wedge{} {Sensory}({Bill}_{e}))))$"
      ],
      "text/plain": [
       "||[[saw [the cat]] Bill]|| = (Saw_<(e,e),t>(Bill_e, (ι x_e: Cat_<e,t>(x_e))), ((Exists x_e: Cat_<e,t>(x_e)) & (PhysExistence_<e,t>((ι x_e: Cat_<e,t>(x_e))) & Sensory_<e,t>(Bill_e))))"
      ]
     },
     "execution_count": 148,
     "metadata": {},
     "output_type": "execute_result"
    }
   ],
   "source": [
    "project_fa(project_fa(saw, tc[0]), Bill)"
   ]
  },
  {
   "cell_type": "code",
   "execution_count": 149,
   "metadata": {
    "collapsed": false
   },
   "outputs": [
    {
     "data": {
      "text/latex": [
       "$||\\mathbf{\\text{everyone}}||^{}_{\\langle{}\\langle{}e,t\\rangle{},t\\rangle{}} \\:=\\: \\lambda{} f_{\\langle{}e,t\\rangle{}} \\: . \\: \\forall{} x_{e} \\: . \\: {f}_{\\langle{}e,t\\rangle{}}({x}_{e})$"
      ],
      "text/plain": [
       "$||\\mathbf{\\text{everyone}}||^{}_{\\langle{}\\langle{}e,t\\rangle{},t\\rangle{}} \\:=\\: \\lambda{} f_{\\langle{}e,t\\rangle{}} \\: . \\: \\forall{} x_{e} \\: . \\: {f}_{\\langle{}e,t\\rangle{}}({x}_{e})$"
      ]
     },
     "execution_count": 149,
     "metadata": {},
     "output_type": "execute_result"
    }
   ],
   "source": [
    "%%lamb\n",
    "||everyone|| = L f_<e,t> : Forall x_e : f(x)"
   ]
  },
  {
   "cell_type": "code",
   "execution_count": 150,
   "metadata": {
    "collapsed": false
   },
   "outputs": [
    {
     "ename": "TypeMismatch",
     "evalue": "Type mismatch: '||everyone|| = (λ f_<e,t>: (Forall x_e: f_<e,t>(x_e)))'/<<e,t>,t> and '|||| = (λ y_e: (Saw_<(e,e),t>(y_e, (ι x_e: Cat_<e,t>(x_e))), (PhysExistence_<e,t>((ι x_e: Cat_<e,t>(x_e))) & Sensory_<e,t>(y_e))))'/<e,(t,t)> conflict (mode: Function Application)",
     "output_type": "error",
     "traceback": [
      "\u001b[0;31m---------------------------------------------------------------------------\u001b[0m\n\u001b[0;31mTypeMismatch\u001b[0m                              Traceback (most recent call last)",
      "\u001b[0;32m<ipython-input-150-7e917f7cce4b>\u001b[0m in \u001b[0;36m<module>\u001b[0;34m()\u001b[0m\n\u001b[0;32m----> 1\u001b[0;31m \u001b[0mproject_fa\u001b[0m\u001b[0;34m(\u001b[0m\u001b[0meveryone\u001b[0m\u001b[0;34m,\u001b[0m \u001b[0mproject_fa\u001b[0m\u001b[0;34m(\u001b[0m\u001b[0msaw\u001b[0m\u001b[0;34m,\u001b[0m \u001b[0mtc\u001b[0m\u001b[0;34m[\u001b[0m\u001b[0;36m0\u001b[0m\u001b[0;34m]\u001b[0m\u001b[0;34m)\u001b[0m\u001b[0;34m)\u001b[0m\u001b[0;34m\u001b[0m\u001b[0m\n\u001b[0m",
      "\u001b[0;32m<ipython-input-145-fe7125d0aabc>\u001b[0m in \u001b[0;36mfun\u001b[0;34m(i1, i2, assignment)\u001b[0m\n\u001b[1;32m     20\u001b[0m             \u001b[0;32mif\u001b[0m \u001b[0mprojective_tuple_type\u001b[0m\u001b[0;34m(\u001b[0m\u001b[0mi2\u001b[0m\u001b[0;34m.\u001b[0m\u001b[0mtype\u001b[0m\u001b[0;34m)\u001b[0m\u001b[0;34m:\u001b[0m\u001b[0;34m\u001b[0m\u001b[0m\n\u001b[1;32m     21\u001b[0m                 \u001b[0mi2_un\u001b[0m \u001b[0;34m=\u001b[0m \u001b[0mlang\u001b[0m\u001b[0;34m.\u001b[0m\u001b[0mTreeComposite\u001b[0m\u001b[0;34m(\u001b[0m\u001b[0mcontent\u001b[0m\u001b[0;34m=\u001b[0m\u001b[0mi2\u001b[0m\u001b[0;34m.\u001b[0m\u001b[0mcontent\u001b[0m\u001b[0;34m.\u001b[0m\u001b[0margs\u001b[0m\u001b[0;34m[\u001b[0m\u001b[0;36m0\u001b[0m\u001b[0;34m]\u001b[0m\u001b[0;34m)\u001b[0m\u001b[0;34m\u001b[0m\u001b[0m\n\u001b[0;32m---> 22\u001b[0;31m                 \u001b[0mresult\u001b[0m \u001b[0;34m=\u001b[0m \u001b[0mrule\u001b[0m\u001b[0;34m(\u001b[0m\u001b[0mi1\u001b[0m\u001b[0;34m,\u001b[0m \u001b[0mi2_un\u001b[0m\u001b[0;34m,\u001b[0m \u001b[0massignment\u001b[0m\u001b[0;34m=\u001b[0m\u001b[0massignment\u001b[0m\u001b[0;34m)\u001b[0m\u001b[0;34m\u001b[0m\u001b[0m\n\u001b[0m\u001b[1;32m     23\u001b[0m                 \u001b[0mproject\u001b[0m \u001b[0;34m=\u001b[0m \u001b[0mi2\u001b[0m\u001b[0;34m.\u001b[0m\u001b[0mcontent\u001b[0m\u001b[0;34m.\u001b[0m\u001b[0margs\u001b[0m\u001b[0;34m[\u001b[0m\u001b[0;36m1\u001b[0m\u001b[0;34m]\u001b[0m\u001b[0;34m\u001b[0m\u001b[0m\n\u001b[1;32m     24\u001b[0m             \u001b[0;32melse\u001b[0m\u001b[0;34m:\u001b[0m\u001b[0;34m\u001b[0m\u001b[0m\n",
      "\u001b[0;32m/Users/advil/repos/lambda-notebook/lamb/lang.py\u001b[0m in \u001b[0;36mfa_fun\u001b[0;34m(fun, arg, assignment)\u001b[0m\n\u001b[1;32m   2258\u001b[0m     \u001b[0mts\u001b[0m \u001b[0;34m=\u001b[0m \u001b[0mmeta\u001b[0m\u001b[0;34m.\u001b[0m\u001b[0mget_type_system\u001b[0m\u001b[0;34m(\u001b[0m\u001b[0;34m)\u001b[0m\u001b[0;34m\u001b[0m\u001b[0m\n\u001b[1;32m   2259\u001b[0m     \u001b[0;32mif\u001b[0m \u001b[0;32mnot\u001b[0m \u001b[0mts\u001b[0m\u001b[0;34m.\u001b[0m\u001b[0mfun_arg_check_bool\u001b[0m\u001b[0;34m(\u001b[0m\u001b[0mfun\u001b[0m\u001b[0;34m,\u001b[0m \u001b[0marg\u001b[0m\u001b[0;34m)\u001b[0m\u001b[0;34m:\u001b[0m\u001b[0;34m\u001b[0m\u001b[0m\n\u001b[0;32m-> 2260\u001b[0;31m         \u001b[0;32mraise\u001b[0m \u001b[0mTypeMismatch\u001b[0m\u001b[0;34m(\u001b[0m\u001b[0mfun\u001b[0m\u001b[0;34m,\u001b[0m \u001b[0marg\u001b[0m\u001b[0;34m,\u001b[0m \u001b[0;34m\"Function Application\"\u001b[0m\u001b[0;34m)\u001b[0m\u001b[0;34m\u001b[0m\u001b[0m\n\u001b[0m\u001b[1;32m   2261\u001b[0m     return BinaryComposite(fun, arg, \n\u001b[1;32m   2262\u001b[0m                 (fun.content.under_assignment(assignment)(arg.content.under_assignment(assignment))).reduce())\n",
      "\u001b[0;31mTypeMismatch\u001b[0m: Type mismatch: '||everyone|| = (λ f_<e,t>: (Forall x_e: f_<e,t>(x_e)))'/<<e,t>,t> and '|||| = (λ y_e: (Saw_<(e,e),t>(y_e, (ι x_e: Cat_<e,t>(x_e))), (PhysExistence_<e,t>((ι x_e: Cat_<e,t>(x_e))) & Sensory_<e,t>(y_e))))'/<e,(t,t)> conflict (mode: Function Application)"
     ]
    }
   ],
   "source": [
    "project_fa(everyone, project_fa(saw, tc[0]))"
   ]
  },
  {
   "cell_type": "markdown",
   "metadata": {},
   "source": []
  },
  {
   "cell_type": "code",
   "execution_count": 151,
   "metadata": {
    "collapsed": false
   },
   "outputs": [],
   "source": [
    "def lift_to_projtype(t):\n",
    "    if t.type.functional():\n",
    "        comb = te(\"L f_%s : L a1_(%s,t) : (f(a1[0]), a1[1])\" % (t.type, t.type.left))\n",
    "    else:\n",
    "        comb = te(\"L f_%s : (f, True_t)\" % t.type)\n",
    "    #return comb(t).reduce_all()\n",
    "    return comb(t)\n",
    "\n",
    "def lower_from_projtype(t):\n",
    "    if t.type.functional():\n",
    "        comb1 = te(\"L f_%s : L a1_%s : (f(a1))[0]\" % (t.type, t.type.left[0]))\n",
    "        comb2 = te(\"L f_%s : L a2_%s : (f(a2))[1]\" % (t.type, t.type.left[1]))\n",
    "        r1 = comb1(t).reduce_all()\n",
    "        r2 = comb2(t).reduce_all()\n",
    "        return (r1, r2)\n",
    "    else:\n",
    "        return t.index(0), t.index(1)"
   ]
  },
  {
   "cell_type": "code",
   "execution_count": 152,
   "metadata": {
    "collapsed": false
   },
   "outputs": [
    {
     "data": {
      "text/latex": [
       "$\\lambda{} a_{(e, t)} \\: . \\: ({a}_{(e, t)}[{1}_{n}])$"
      ],
      "text/plain": [
       "(λ a_(e,t): (a_(e,t)[1_n]))"
      ]
     },
     "execution_count": 152,
     "metadata": {},
     "output_type": "execute_result"
    }
   ],
   "source": [
    "#te(\"L f_<e,t> : L a1_(e,t)  : (f(a1[0]), a1[1])\")\n",
    "te(\"L a_(e,t) : a[1]\")"
   ]
  },
  {
   "cell_type": "code",
   "execution_count": 153,
   "metadata": {
    "collapsed": false
   },
   "outputs": [
    {
     "data": {
      "text/latex": [
       "$[\\lambda{} f_{\\langle{}e,t\\rangle{}} \\: . \\: \\lambda{} a1_{(e, t)} \\: . \\: ({f}_{\\langle{}e,t\\rangle{}}(({a1}_{(e, t)}[{0}_{n}])), ({a1}_{(e, t)}[{1}_{n}]))](\\lambda{} x_{e} \\: . \\: {Dance}({x}_{e}))$"
      ],
      "text/plain": [
       "((λ f_<e,t>: (λ a1_(e,t): (f_<e,t>((a1_(e,t)[0_n])), (a1_(e,t)[1_n])))))((λ x_e: Dance_<e,t>(x_e)))"
      ]
     },
     "execution_count": 153,
     "metadata": {},
     "output_type": "execute_result"
    }
   ],
   "source": [
    "lift_to_projtype(danced.content)"
   ]
  },
  {
   "cell_type": "code",
   "execution_count": 154,
   "metadata": {
    "collapsed": false
   },
   "outputs": [
    {
     "ename": "TypeError",
     "evalue": "'FunType' object does not support indexing",
     "output_type": "error",
     "traceback": [
      "\u001b[0;31m---------------------------------------------------------------------------\u001b[0m\n\u001b[0;31mTypeError\u001b[0m                                 Traceback (most recent call last)",
      "\u001b[0;32m<ipython-input-154-6f736746ad32>\u001b[0m in \u001b[0;36m<module>\u001b[0;34m()\u001b[0m\n\u001b[0;32m----> 1\u001b[0;31m \u001b[0mlower_from_projtype\u001b[0m\u001b[0;34m(\u001b[0m\u001b[0mthe\u001b[0m\u001b[0;34m.\u001b[0m\u001b[0mcontent\u001b[0m\u001b[0;34m)\u001b[0m\u001b[0;34m\u001b[0m\u001b[0m\n\u001b[0m",
      "\u001b[0;32m<ipython-input-151-8411f91e3f5e>\u001b[0m in \u001b[0;36mlower_from_projtype\u001b[0;34m(t)\u001b[0m\n\u001b[1;32m      9\u001b[0m \u001b[0;32mdef\u001b[0m \u001b[0mlower_from_projtype\u001b[0m\u001b[0;34m(\u001b[0m\u001b[0mt\u001b[0m\u001b[0;34m)\u001b[0m\u001b[0;34m:\u001b[0m\u001b[0;34m\u001b[0m\u001b[0m\n\u001b[1;32m     10\u001b[0m     \u001b[0;32mif\u001b[0m \u001b[0mt\u001b[0m\u001b[0;34m.\u001b[0m\u001b[0mtype\u001b[0m\u001b[0;34m.\u001b[0m\u001b[0mfunctional\u001b[0m\u001b[0;34m(\u001b[0m\u001b[0;34m)\u001b[0m\u001b[0;34m:\u001b[0m\u001b[0;34m\u001b[0m\u001b[0m\n\u001b[0;32m---> 11\u001b[0;31m         \u001b[0mcomb1\u001b[0m \u001b[0;34m=\u001b[0m \u001b[0mte\u001b[0m\u001b[0;34m(\u001b[0m\u001b[0;34m\"L f_%s : L a1_%s : (f(a1))[0]\"\u001b[0m \u001b[0;34m%\u001b[0m \u001b[0;34m(\u001b[0m\u001b[0mt\u001b[0m\u001b[0;34m.\u001b[0m\u001b[0mtype\u001b[0m\u001b[0;34m,\u001b[0m \u001b[0mt\u001b[0m\u001b[0;34m.\u001b[0m\u001b[0mtype\u001b[0m\u001b[0;34m.\u001b[0m\u001b[0mleft\u001b[0m\u001b[0;34m[\u001b[0m\u001b[0;36m0\u001b[0m\u001b[0;34m]\u001b[0m\u001b[0;34m)\u001b[0m\u001b[0;34m)\u001b[0m\u001b[0;34m\u001b[0m\u001b[0m\n\u001b[0m\u001b[1;32m     12\u001b[0m         \u001b[0mcomb2\u001b[0m \u001b[0;34m=\u001b[0m \u001b[0mte\u001b[0m\u001b[0;34m(\u001b[0m\u001b[0;34m\"L f_%s : L a2_%s : (f(a2))[1]\"\u001b[0m \u001b[0;34m%\u001b[0m \u001b[0;34m(\u001b[0m\u001b[0mt\u001b[0m\u001b[0;34m.\u001b[0m\u001b[0mtype\u001b[0m\u001b[0;34m,\u001b[0m \u001b[0mt\u001b[0m\u001b[0;34m.\u001b[0m\u001b[0mtype\u001b[0m\u001b[0;34m.\u001b[0m\u001b[0mleft\u001b[0m\u001b[0;34m[\u001b[0m\u001b[0;36m1\u001b[0m\u001b[0;34m]\u001b[0m\u001b[0;34m)\u001b[0m\u001b[0;34m)\u001b[0m\u001b[0;34m\u001b[0m\u001b[0m\n\u001b[1;32m     13\u001b[0m         \u001b[0mr1\u001b[0m \u001b[0;34m=\u001b[0m \u001b[0mcomb1\u001b[0m\u001b[0;34m(\u001b[0m\u001b[0mt\u001b[0m\u001b[0;34m)\u001b[0m\u001b[0;34m.\u001b[0m\u001b[0mreduce_all\u001b[0m\u001b[0;34m(\u001b[0m\u001b[0;34m)\u001b[0m\u001b[0;34m\u001b[0m\u001b[0m\n",
      "\u001b[0;31mTypeError\u001b[0m: 'FunType' object does not support indexing"
     ]
    }
   ],
   "source": [
    "lower_from_projtype(the.content)"
   ]
  },
  {
   "cell_type": "code",
   "execution_count": 155,
   "metadata": {
    "collapsed": false
   },
   "outputs": [
    {
     "data": {
      "text/latex": [
       "$\\lambda{} a1_{(\\langle{}e,t\\rangle{}, t)} \\: . \\: ((\\iota{} x_{e} \\: . \\: ({a1}_{(\\langle{}e,t\\rangle{}, t)}[{0}_{n}])({x}_{e}), \\exists{} x_{e} \\: . \\: ({a1}_{(\\langle{}e,t\\rangle{}, t)}[{0}_{n}])({x}_{e})), ({a1}_{(\\langle{}e,t\\rangle{}, t)}[{1}_{n}]))$"
      ],
      "text/plain": [
       "(λ a1_(<e,t>,t): (((ι x_e: (a1_(<e,t>,t)[0_n])(x_e)), (Exists x_e: (a1_(<e,t>,t)[0_n])(x_e))), (a1_(<e,t>,t)[1_n])))"
      ]
     },
     "execution_count": 155,
     "metadata": {},
     "output_type": "execute_result"
    }
   ],
   "source": [
    "x = lift_to_projtype(the.content)\n",
    "x.reduce_all()"
   ]
  },
  {
   "cell_type": "code",
   "execution_count": 189,
   "metadata": {
    "collapsed": false
   },
   "outputs": [],
   "source": [
    "def merge_proj(target, addition):\n",
    "    if projective_tuple_type(target.type):\n",
    "        return meta.Tuple((target.index(0), target.index(1) & addition))\n",
    "    else:\n",
    "        return meta.Tuple((target, addition))\n",
    "\n",
    "def proj_apply(f, a, assignment=None):\n",
    "    try:\n",
    "        result = lang.fa_fun(f, a, assignment)\n",
    "        return result\n",
    "    except types.TypeMismatch as e:\n",
    "        if projective_tuple_type(f.type):\n",
    "            f0 = f.content.under_assignment(assignment).index(0)\n",
    "            f1 = f.content.under_assignment(assignment).index(1)\n",
    "            result = proj_apply(lang.TreeComposite(content=f0), a, assignment)\n",
    "            new_content = merge_proj(result.content, f1)\n",
    "            return lang.BinaryComposite(f, a, new_content)\n",
    "        elif f.type.functional() and projective_tuple_type(a.type) and not projective_tuple_type(f.type.left):\n",
    "            # need to check for functional here because a TM may be thrown on a non-functional value for f\n",
    "            a0 = a.content.under_assignment(assignment).index(0)\n",
    "            a1 = a.content.under_assignment(assignment).index(1)\n",
    "            result = proj_apply(f, lang.TreeComposite(content=a0), assignment)\n",
    "            new_content = merge_proj(result.content, a1)\n",
    "            return lang.BinaryComposite(f, a, new_content)\n",
    "        else:\n",
    "            raise e"
   ]
  },
  {
   "cell_type": "code",
   "execution_count": 190,
   "metadata": {
    "collapsed": false
   },
   "outputs": [
    {
     "data": {
      "text/latex": [
       "$||\\mathbf{\\text{[saw [the cat]]}}||^{}_{(\\langle{}e,(t, t)\\rangle{}, t)} \\:=\\: $$(\\lambda{} y_{e} \\: . \\: ({Saw}({y}_{e}, \\iota{} x_{e} \\: . \\: {Cat}({x}_{e})), ({PhysExistence}(\\iota{} x_{e} \\: . \\: {Cat}({x}_{e})) \\wedge{} {Sensory}({y}_{e}))), \\exists{} x_{e} \\: . \\: {Cat}({x}_{e}))$"
      ],
      "text/plain": [
       "||[saw [the cat]]|| = ((λ y_e: (Saw_<(e,e),t>(y_e, (ι x_e: Cat_<e,t>(x_e))), (PhysExistence_<e,t>((ι x_e: Cat_<e,t>(x_e))) & Sensory_<e,t>(y_e)))), (Exists x_e: Cat_<e,t>(x_e)))"
      ]
     },
     "execution_count": 190,
     "metadata": {},
     "output_type": "execute_result"
    }
   ],
   "source": [
    "proj_apply(saw, proj_apply(the, cat)).reduce_all()"
   ]
  },
  {
   "cell_type": "code",
   "execution_count": 192,
   "metadata": {
    "collapsed": false
   },
   "outputs": [
    {
     "ename": "TypeMismatch",
     "evalue": "Type mismatch: '||everyone|| = (λ f_<e,t>: (Forall x_e: f_<e,t>(x_e)))'/<<e,t>,t> and '|||| = (λ y_e: (Saw_<(e,e),t>(y_e, (ι x_e: ((λ x_e: Cat_<e,t>(x_e)))(x_e))), (PhysExistence_<e,t>((ι x_e: ((λ x_e: Cat_<e,t>(x_e)))(x_e))) & Sensory_<e,t>(y_e))))'/<e,(t,t)> conflict (mode: Function Application)",
     "output_type": "error",
     "traceback": [
      "\u001b[0;31m---------------------------------------------------------------------------\u001b[0m\n\u001b[0;31mTypeMismatch\u001b[0m                              Traceback (most recent call last)",
      "\u001b[0;32m<ipython-input-192-27cadae877f7>\u001b[0m in \u001b[0;36m<module>\u001b[0;34m()\u001b[0m\n\u001b[0;32m----> 1\u001b[0;31m \u001b[0mproj_apply\u001b[0m\u001b[0;34m(\u001b[0m\u001b[0meveryone\u001b[0m\u001b[0;34m,\u001b[0m \u001b[0mproj_apply\u001b[0m\u001b[0;34m(\u001b[0m\u001b[0msaw\u001b[0m\u001b[0;34m,\u001b[0m \u001b[0mproj_apply\u001b[0m\u001b[0;34m(\u001b[0m\u001b[0mthe\u001b[0m\u001b[0;34m,\u001b[0m \u001b[0mcat\u001b[0m\u001b[0;34m)\u001b[0m\u001b[0;34m)\u001b[0m\u001b[0;34m)\u001b[0m\u001b[0;34m.\u001b[0m\u001b[0mreduce_all\u001b[0m\u001b[0;34m(\u001b[0m\u001b[0;34m)\u001b[0m\u001b[0;34m\u001b[0m\u001b[0m\n\u001b[0m",
      "\u001b[0;32m<ipython-input-189-09378fcb9ae1>\u001b[0m in \u001b[0;36mproj_apply\u001b[0;34m(f, a, assignment)\u001b[0m\n\u001b[1;32m     20\u001b[0m             \u001b[0ma0\u001b[0m \u001b[0;34m=\u001b[0m \u001b[0ma\u001b[0m\u001b[0;34m.\u001b[0m\u001b[0mcontent\u001b[0m\u001b[0;34m.\u001b[0m\u001b[0munder_assignment\u001b[0m\u001b[0;34m(\u001b[0m\u001b[0massignment\u001b[0m\u001b[0;34m)\u001b[0m\u001b[0;34m.\u001b[0m\u001b[0mindex\u001b[0m\u001b[0;34m(\u001b[0m\u001b[0;36m0\u001b[0m\u001b[0;34m)\u001b[0m\u001b[0;34m\u001b[0m\u001b[0m\n\u001b[1;32m     21\u001b[0m             \u001b[0ma1\u001b[0m \u001b[0;34m=\u001b[0m \u001b[0ma\u001b[0m\u001b[0;34m.\u001b[0m\u001b[0mcontent\u001b[0m\u001b[0;34m.\u001b[0m\u001b[0munder_assignment\u001b[0m\u001b[0;34m(\u001b[0m\u001b[0massignment\u001b[0m\u001b[0;34m)\u001b[0m\u001b[0;34m.\u001b[0m\u001b[0mindex\u001b[0m\u001b[0;34m(\u001b[0m\u001b[0;36m1\u001b[0m\u001b[0;34m)\u001b[0m\u001b[0;34m\u001b[0m\u001b[0m\n\u001b[0;32m---> 22\u001b[0;31m             \u001b[0mresult\u001b[0m \u001b[0;34m=\u001b[0m \u001b[0mproj_apply\u001b[0m\u001b[0;34m(\u001b[0m\u001b[0mf\u001b[0m\u001b[0;34m,\u001b[0m \u001b[0mlang\u001b[0m\u001b[0;34m.\u001b[0m\u001b[0mTreeComposite\u001b[0m\u001b[0;34m(\u001b[0m\u001b[0mcontent\u001b[0m\u001b[0;34m=\u001b[0m\u001b[0ma0\u001b[0m\u001b[0;34m)\u001b[0m\u001b[0;34m,\u001b[0m \u001b[0massignment\u001b[0m\u001b[0;34m)\u001b[0m\u001b[0;34m\u001b[0m\u001b[0m\n\u001b[0m\u001b[1;32m     23\u001b[0m             \u001b[0mnew_content\u001b[0m \u001b[0;34m=\u001b[0m \u001b[0mmerge_proj\u001b[0m\u001b[0;34m(\u001b[0m\u001b[0mresult\u001b[0m\u001b[0;34m.\u001b[0m\u001b[0mcontent\u001b[0m\u001b[0;34m,\u001b[0m \u001b[0ma1\u001b[0m\u001b[0;34m)\u001b[0m\u001b[0;34m\u001b[0m\u001b[0m\n\u001b[1;32m     24\u001b[0m             \u001b[0;32mreturn\u001b[0m \u001b[0mlang\u001b[0m\u001b[0;34m.\u001b[0m\u001b[0mBinaryComposite\u001b[0m\u001b[0;34m(\u001b[0m\u001b[0mf\u001b[0m\u001b[0;34m,\u001b[0m \u001b[0ma\u001b[0m\u001b[0;34m,\u001b[0m \u001b[0mnew_content\u001b[0m\u001b[0;34m)\u001b[0m\u001b[0;34m\u001b[0m\u001b[0m\n",
      "\u001b[0;32m<ipython-input-189-09378fcb9ae1>\u001b[0m in \u001b[0;36mproj_apply\u001b[0;34m(f, a, assignment)\u001b[0m\n\u001b[1;32m     24\u001b[0m             \u001b[0;32mreturn\u001b[0m \u001b[0mlang\u001b[0m\u001b[0;34m.\u001b[0m\u001b[0mBinaryComposite\u001b[0m\u001b[0;34m(\u001b[0m\u001b[0mf\u001b[0m\u001b[0;34m,\u001b[0m \u001b[0ma\u001b[0m\u001b[0;34m,\u001b[0m \u001b[0mnew_content\u001b[0m\u001b[0;34m)\u001b[0m\u001b[0;34m\u001b[0m\u001b[0m\n\u001b[1;32m     25\u001b[0m         \u001b[0;32melse\u001b[0m\u001b[0;34m:\u001b[0m\u001b[0;34m\u001b[0m\u001b[0m\n\u001b[0;32m---> 26\u001b[0;31m             \u001b[0;32mraise\u001b[0m \u001b[0me\u001b[0m\u001b[0;34m\u001b[0m\u001b[0m\n\u001b[0m",
      "\u001b[0;32m<ipython-input-189-09378fcb9ae1>\u001b[0m in \u001b[0;36mproj_apply\u001b[0;34m(f, a, assignment)\u001b[0m\n\u001b[1;32m      7\u001b[0m \u001b[0;32mdef\u001b[0m \u001b[0mproj_apply\u001b[0m\u001b[0;34m(\u001b[0m\u001b[0mf\u001b[0m\u001b[0;34m,\u001b[0m \u001b[0ma\u001b[0m\u001b[0;34m,\u001b[0m \u001b[0massignment\u001b[0m\u001b[0;34m=\u001b[0m\u001b[0;32mNone\u001b[0m\u001b[0;34m)\u001b[0m\u001b[0;34m:\u001b[0m\u001b[0;34m\u001b[0m\u001b[0m\n\u001b[1;32m      8\u001b[0m     \u001b[0;32mtry\u001b[0m\u001b[0;34m:\u001b[0m\u001b[0;34m\u001b[0m\u001b[0m\n\u001b[0;32m----> 9\u001b[0;31m         \u001b[0mresult\u001b[0m \u001b[0;34m=\u001b[0m \u001b[0mlang\u001b[0m\u001b[0;34m.\u001b[0m\u001b[0mfa_fun\u001b[0m\u001b[0;34m(\u001b[0m\u001b[0mf\u001b[0m\u001b[0;34m,\u001b[0m \u001b[0ma\u001b[0m\u001b[0;34m,\u001b[0m \u001b[0massignment\u001b[0m\u001b[0;34m)\u001b[0m\u001b[0;34m\u001b[0m\u001b[0m\n\u001b[0m\u001b[1;32m     10\u001b[0m         \u001b[0;32mreturn\u001b[0m \u001b[0mresult\u001b[0m\u001b[0;34m\u001b[0m\u001b[0m\n\u001b[1;32m     11\u001b[0m     \u001b[0;32mexcept\u001b[0m \u001b[0mtypes\u001b[0m\u001b[0;34m.\u001b[0m\u001b[0mTypeMismatch\u001b[0m \u001b[0;32mas\u001b[0m \u001b[0me\u001b[0m\u001b[0;34m:\u001b[0m\u001b[0;34m\u001b[0m\u001b[0m\n",
      "\u001b[0;32m/Users/advil/repos/lambda-notebook/lamb/lang.py\u001b[0m in \u001b[0;36mfa_fun\u001b[0;34m(fun, arg, assignment)\u001b[0m\n\u001b[1;32m   2258\u001b[0m     \u001b[0mts\u001b[0m \u001b[0;34m=\u001b[0m \u001b[0mmeta\u001b[0m\u001b[0;34m.\u001b[0m\u001b[0mget_type_system\u001b[0m\u001b[0;34m(\u001b[0m\u001b[0;34m)\u001b[0m\u001b[0;34m\u001b[0m\u001b[0m\n\u001b[1;32m   2259\u001b[0m     \u001b[0;32mif\u001b[0m \u001b[0;32mnot\u001b[0m \u001b[0mts\u001b[0m\u001b[0;34m.\u001b[0m\u001b[0mfun_arg_check_bool\u001b[0m\u001b[0;34m(\u001b[0m\u001b[0mfun\u001b[0m\u001b[0;34m,\u001b[0m \u001b[0marg\u001b[0m\u001b[0;34m)\u001b[0m\u001b[0;34m:\u001b[0m\u001b[0;34m\u001b[0m\u001b[0m\n\u001b[0;32m-> 2260\u001b[0;31m         \u001b[0;32mraise\u001b[0m \u001b[0mTypeMismatch\u001b[0m\u001b[0;34m(\u001b[0m\u001b[0mfun\u001b[0m\u001b[0;34m,\u001b[0m \u001b[0marg\u001b[0m\u001b[0;34m,\u001b[0m \u001b[0;34m\"Function Application\"\u001b[0m\u001b[0;34m)\u001b[0m\u001b[0;34m\u001b[0m\u001b[0m\n\u001b[0m\u001b[1;32m   2261\u001b[0m     return BinaryComposite(fun, arg, \n\u001b[1;32m   2262\u001b[0m                 (fun.content.under_assignment(assignment)(arg.content.under_assignment(assignment))).reduce())\n",
      "\u001b[0;31mTypeMismatch\u001b[0m: Type mismatch: '||everyone|| = (λ f_<e,t>: (Forall x_e: f_<e,t>(x_e)))'/<<e,t>,t> and '|||| = (λ y_e: (Saw_<(e,e),t>(y_e, (ι x_e: ((λ x_e: Cat_<e,t>(x_e)))(x_e))), (PhysExistence_<e,t>((ι x_e: ((λ x_e: Cat_<e,t>(x_e)))(x_e))) & Sensory_<e,t>(y_e))))'/<e,(t,t)> conflict (mode: Function Application)"
     ]
    }
   ],
   "source": [
    "proj_apply(everyone, proj_apply(saw, proj_apply(the, cat))).reduce_all()"
   ]
  },
  {
   "cell_type": "code",
   "execution_count": null,
   "metadata": {
    "collapsed": false
   },
   "outputs": [],
   "source": []
  }
 ],
 "metadata": {
  "kernelspec": {
   "display_name": "Lambda Notebook (Python 3)",
   "language": "python",
   "name": "lambda-notebook"
  },
  "language_info": {
   "codemirror_mode": {
    "name": "ipython",
    "version": 3
   },
   "file_extension": ".py",
   "mimetype": "text/x-python",
   "name": "python",
   "nbconvert_exporter": "python",
   "pygments_lexer": "ipython3",
   "version": "3.5.1"
  }
 },
 "nbformat": 4,
 "nbformat_minor": 0
}
