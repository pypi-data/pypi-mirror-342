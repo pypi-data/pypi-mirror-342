{
 "cells": [
  {
   "cell_type": "code",
   "execution_count": 744,
   "metadata": {
    "collapsed": false
   },
   "outputs": [],
   "source": [
    "reload_lamb()"
   ]
  },
  {
   "cell_type": "code",
   "execution_count": 717,
   "metadata": {
    "collapsed": false
   },
   "outputs": [
    {
     "data": {
      "text/latex": [
       "${[\\lambda{} f_{\\left(\\right)} \\: . \\: {F}_{\\left\\langle{}\\left(\\right),{\\left[e\\mid{}t\\right]}\\right\\rangle{}}({f})]}({F1}_{\\left(\\right)})$"
      ],
      "text/plain": [
       "((λ f_(): F_<(),[e|t]>(f_())))(F1_())"
      ]
     },
     "execution_count": 717,
     "metadata": {},
     "output_type": "execute_result"
    }
   ],
   "source": [
    "meta.random_from_class(meta.ApplicationExpr)"
   ]
  },
  {
   "cell_type": "code",
   "execution_count": 718,
   "metadata": {
    "collapsed": false
   },
   "outputs": [
    {
     "data": {
      "text/latex": [
       "${X}_{e}$"
      ],
      "text/plain": [
       "X_e"
      ]
     },
     "execution_count": 718,
     "metadata": {},
     "output_type": "execute_result"
    }
   ],
   "source": [
    "meta.random_term(max_type_depth=2)"
   ]
  },
  {
   "cell_type": "code",
   "execution_count": 719,
   "metadata": {
    "collapsed": false
   },
   "outputs": [
    {
     "data": {
      "text/latex": [
       "${f}_{X_{4}}$"
      ],
      "text/plain": [
       "f_X4"
      ]
     },
     "execution_count": 719,
     "metadata": {},
     "output_type": "execute_result"
    }
   ],
   "source": [
    "meta.random_term(prob_used=0.2, prob_var=1.0)"
   ]
  },
  {
   "cell_type": "code",
   "execution_count": 720,
   "metadata": {
    "collapsed": false
   },
   "outputs": [
    {
     "data": {
      "text/latex": [
       "$\\{p_{t}\\:|\\: {F}_{\\left\\langle{}t,t\\right\\rangle{}}({P}_{t})\\}$"
      ],
      "text/plain": [
       "(Set p_t: F_<t,t>(P_t))"
      ]
     },
     "execution_count": 720,
     "metadata": {},
     "output_type": "execute_result"
    }
   ],
   "source": [
    "meta.random_from_class(meta.ConditionSet, max_depth=2)"
   ]
  },
  {
   "cell_type": "code",
   "execution_count": 721,
   "metadata": {
    "collapsed": false
   },
   "outputs": [
    {
     "data": {
      "text/latex": [
       "$(({P}_{t} \\wedge{} {p}_{t}) \\wedge{} {f}_{\\left\\langle{}t,t\\right\\rangle{}}({P}_{t}))$"
      ],
      "text/plain": [
       "((P_t & p_t) & f_<t,t>(P_t))"
      ]
     },
     "execution_count": 721,
     "metadata": {},
     "output_type": "execute_result"
    }
   ],
   "source": [
    "meta.random_from_class(meta.BinaryAndExpr, max_depth=2)"
   ]
  },
  {
   "cell_type": "code",
   "execution_count": 722,
   "metadata": {
    "collapsed": false
   },
   "outputs": [
    {
     "data": {
      "text/latex": [
       "$({f}_{\\left\\langle{}e,n\\right\\rangle{}} = {F}_{\\left\\langle{}e,n\\right\\rangle{}})$"
      ],
      "text/plain": [
       "(f_<e,n> <=> F_<e,n>)"
      ]
     },
     "execution_count": 722,
     "metadata": {},
     "output_type": "execute_result"
    }
   ],
   "source": [
    "meta.random_from_class(meta.BinaryGenericEqExpr, max_depth=1)"
   ]
  },
  {
   "cell_type": "code",
   "execution_count": 723,
   "metadata": {
    "collapsed": false
   },
   "outputs": [
    {
     "data": {
      "text/latex": [
       "$({P}_{t} \\in{} {f}_{\\left\\{t\\right\\}})$"
      ],
      "text/plain": [
       "(P_t << f_{t})"
      ]
     },
     "execution_count": 723,
     "metadata": {},
     "output_type": "execute_result"
    }
   ],
   "source": [
    "meta.random_from_class(meta.SetContains, max_depth=1)"
   ]
  },
  {
   "cell_type": "code",
   "execution_count": 724,
   "metadata": {
    "collapsed": false
   },
   "outputs": [
    {
     "data": {
      "text/latex": [
       "$()$"
      ],
      "text/plain": [
       "()"
      ]
     },
     "execution_count": 724,
     "metadata": {},
     "output_type": "execute_result"
    }
   ],
   "source": [
    "meta.random_from_class(meta.Tuple)"
   ]
  },
  {
   "cell_type": "code",
   "execution_count": 725,
   "metadata": {
    "collapsed": false
   },
   "outputs": [
    {
     "data": {
      "text/latex": [
       "$(({F}_{Z''})[{0}])$"
      ],
      "text/plain": [
       "((F_Z'')[0_n])"
      ]
     },
     "execution_count": 725,
     "metadata": {},
     "output_type": "execute_result"
    }
   ],
   "source": [
    "meta.random_from_class(meta.TupleIndex)"
   ]
  },
  {
   "cell_type": "code",
   "execution_count": 726,
   "metadata": {
    "collapsed": false
   },
   "outputs": [
    {
     "data": {
      "text/latex": [
       "$\\left|\\begin{array}{l}{F}_{\\left\\langle{}\\left\\{e\\right\\},e\\right\\rangle{}}({F1}_{\\left\\{e\\right\\}})\\\\{f}_{\\left\\langle{}\\left\\langle{}\\left\\{e\\right\\},e\\right\\rangle{},t\\right\\rangle{}}({F}_{\\left\\langle{}\\left\\{e\\right\\},e\\right\\rangle{}})\\end{array}\\right|$"
      ],
      "text/plain": [
       "Partial(F_<{e},e>(F1_{e}), f_<<{e},e>,t>(F_<{e},e>))"
      ]
     },
     "execution_count": 726,
     "metadata": {},
     "output_type": "execute_result"
    }
   ],
   "source": [
    "meta.random_from_class(meta.Partial, max_depth=2)"
   ]
  },
  {
   "cell_type": "code",
   "execution_count": 727,
   "metadata": {
    "collapsed": false
   },
   "outputs": [
    {
     "data": {
      "text/latex": [
       "${Disjunctive}(\\left[{x}_{e}\\mid{}{N}_{n}\\mid{}{f}_{\\left\\langle{}t,t\\right\\rangle{}}\\right])$"
      ],
      "text/plain": [
       "Disjunctive(x_e,N_n,f_<t,t>)"
      ]
     },
     "execution_count": 727,
     "metadata": {},
     "output_type": "execute_result"
    }
   ],
   "source": [
    "meta.random_from_class(meta.Disjunctive)"
   ]
  },
  {
   "cell_type": "code",
   "execution_count": 728,
   "metadata": {
    "collapsed": false
   },
   "outputs": [
    {
     "data": {
      "text/latex": [
       "$\\{{N}_{n}, {n}_{n}\\}$"
      ],
      "text/plain": [
       "{N_n, n_n}"
      ]
     },
     "execution_count": 728,
     "metadata": {},
     "output_type": "execute_result"
    }
   ],
   "source": [
    "meta.random_from_class(meta.ListedSet)"
   ]
  },
  {
   "cell_type": "code",
   "execution_count": 729,
   "metadata": {
    "collapsed": false
   },
   "outputs": [],
   "source": [
    "from lamb.meta import te_classes, random_from_class\n",
    "def test_class_random(self):\n",
    "    for c in te_classes:\n",
    "        random_from_class(c)\n",
    "test_class_random(2)"
   ]
  },
  {
   "cell_type": "code",
   "execution_count": 733,
   "metadata": {
    "collapsed": true
   },
   "outputs": [],
   "source": [
    "def test_class_lc(self):\n",
    "    for c in te_classes:\n",
    "        x = random_from_class(c)\n",
    "        y = x.copy_local(*x)\n",
    "        print(repr(x==y), repr(y))"
   ]
  },
  {
   "cell_type": "code",
   "execution_count": 734,
   "metadata": {
    "collapsed": false
   },
   "outputs": [
    {
     "name": "stdout",
     "output_type": "stream",
     "text": [
      "True ((λ f_<e,n>: f1_<<e,n>,(n)>(f_<e,n>)))(F_<e,n>)\n",
      "True (F_{n}, F1_(n), p_t)\n",
      "True f_[e|t]\n",
      "True Partial(n_n, p_t)\n",
      "True Disjunctive(p_t,f_<e,t>)\n",
      "True ~p_t\n",
      "True -n_n\n",
      "True (p_t & p_t)\n",
      "True (p_t | P_t)\n",
      "True (P_t >> p_t)\n",
      "True (P_t <=> p_t)\n",
      "True (p_t =/= p_t)\n",
      "True (n_n < n_n)\n",
      "True (n_n <= n1_n)\n",
      "True (n_n > n_n)\n",
      "True (n_n >= N_n)\n",
      "True (N_n + N_n)\n",
      "True (n_n - N_n)\n",
      "True (n_n / N_n)\n",
      "True (N_n ** N_n)\n",
      "True (F_(e,e,t) << F1_{(e,e,t)})\n",
      "True ((F_<t,n>, N_n, f_X, x_e, f1_{n})[3_n])\n",
      "True (Set f_{n}: P_t)\n",
      "True {f_(t,t,t), F1_(t,t,t), F_(t,t,t)}\n",
      "True (Forall x_e: p_t)\n",
      "True (Exists p_t: P_t)\n",
      "True (ExistsExact f_Y5: p_t)\n",
      "True (ι f_{e}: p_t)\n",
      "True (λ p_t: F_<n,e>)\n"
     ]
    }
   ],
   "source": [
    "test_class_lc(2)"
   ]
  },
  {
   "cell_type": "code",
   "execution_count": 735,
   "metadata": {
    "collapsed": false
   },
   "outputs": [
    {
     "data": {
      "text/plain": [
       "[c_e, ab_<e,t>, a_e, X_t]"
      ]
     },
     "execution_count": 735,
     "metadata": {},
     "output_type": "execute_result"
    }
   ],
   "source": [
    "test = {te(\"a\"), te(\"ab_<e,t>\"), te(\"c\"), te(\"X\")}\n",
    "l = [x for x in test]\n",
    "sorted(l, key=repr, reverse=True)"
   ]
  },
  {
   "cell_type": "code",
   "execution_count": null,
   "metadata": {
    "collapsed": true
   },
   "outputs": [],
   "source": []
  }
 ],
 "metadata": {
  "kernelspec": {
   "display_name": "Lambda Notebook (Python 3)",
   "language": "python",
   "name": "lambda-notebook"
  },
  "language_info": {
   "codemirror_mode": {
    "name": "ipython",
    "version": 3
   },
   "file_extension": ".py",
   "mimetype": "text/x-python",
   "name": "python",
   "nbconvert_exporter": "python",
   "pygments_lexer": "ipython3",
   "version": "3.5.1"
  }
 },
 "nbformat": 4,
 "nbformat_minor": 1
}
