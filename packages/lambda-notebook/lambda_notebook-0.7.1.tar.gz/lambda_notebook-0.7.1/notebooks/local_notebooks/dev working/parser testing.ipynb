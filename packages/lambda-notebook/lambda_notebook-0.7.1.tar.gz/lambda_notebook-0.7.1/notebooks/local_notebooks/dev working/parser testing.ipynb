{
 "cells": [
  {
   "cell_type": "code",
   "execution_count": 1,
   "id": "35b0e2cd-5c03-402c-bd8d-6710af8e03a3",
   "metadata": {},
   "outputs": [
    {
     "name": "stdout",
     "output_type": "stream",
     "text": [
      "INFO (core): Coerced guessed type for 'P_t' into <e,t>, to match argument 'x_e'\n"
     ]
    },
    {
     "data": {
      "text/latex": [
       "$\\lambda{} x_{e} \\: . \\: {P}({x})$"
      ],
      "text/plain": [
       "(λ x_e: P_<e,t>(x_e))"
      ]
     },
     "execution_count": 1,
     "metadata": {},
     "output_type": "execute_result"
    }
   ],
   "source": [
    "%te L x_e : P(x)"
   ]
  },
  {
   "cell_type": "code",
   "execution_count": 6,
   "id": "e3752230-799d-42f2-8284-452d23da5f7d",
   "metadata": {},
   "outputs": [
    {
     "data": {
      "text/plain": [
       "(['L x_e : P', ['(', 'x, y', ')']], 15)"
      ]
     },
     "execution_count": 6,
     "metadata": {},
     "output_type": "execute_result"
    }
   ],
   "source": [
    "lamb.parsing.parse_paren_str(\"L x_e : P(x, y)\", 0)"
   ]
  },
  {
   "cell_type": "code",
   "execution_count": null,
   "id": "8673070a-c74f-417a-a958-345ea481b3d1",
   "metadata": {},
   "outputs": [],
   "source": []
  }
 ],
 "metadata": {
  "kernelspec": {
   "display_name": "Lambda Notebook (Python 3)",
   "language": "python",
   "name": "lambda-notebook"
  },
  "language_info": {
   "codemirror_mode": {
    "name": "ipython",
    "version": 3
   },
   "file_extension": ".py",
   "mimetype": "text/x-python",
   "name": "python",
   "nbconvert_exporter": "python",
   "pygments_lexer": "ipython3",
   "version": "3.12.0"
  }
 },
 "nbformat": 4,
 "nbformat_minor": 5
}
