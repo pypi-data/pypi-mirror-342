{
 "cells": [
  {
   "cell_type": "code",
   "execution_count": 13,
   "metadata": {},
   "outputs": [],
   "source": [
    "reload_lamb()"
   ]
  },
  {
   "cell_type": "code",
   "execution_count": 14,
   "metadata": {
    "collapsed": false,
    "jupyter": {
     "outputs_hidden": false
    }
   },
   "outputs": [
    {
     "data": {
      "text/latex": [
       "Type system with atomic types: $e, t, n, s$"
      ],
      "text/plain": [
       "<lamb.types.PolyTypeSystem at 0x10b9a5400>"
      ]
     },
     "execution_count": 14,
     "metadata": {},
     "output_type": "execute_result"
    }
   ],
   "source": [
    "type_s = types.BasicType(\"s\")\n",
    "lang.get_system().add_basic_type(type_s)\n",
    "meta.get_type_system()"
   ]
  },
  {
   "cell_type": "code",
   "execution_count": 15,
   "metadata": {
    "collapsed": false,
    "jupyter": {
     "outputs_hidden": false
    }
   },
   "outputs": [
    {
     "data": {
      "text/markdown": [
       "${raining}_{\\left\\{s\\right\\}}\\:=\\:{raining}_{\\left\\{s\\right\\}}$<br />\n",
       "${sunny}_{\\left\\{s\\right\\}}\\:=\\:{sunny}_{\\left\\{s\\right\\}}$<br />\n",
       "${party}_{\\left\\{s\\right\\}}\\:=\\:{party}_{\\left\\{s\\right\\}}$"
      ],
      "text/plain": [
       "raining_{s} = raining_{s}\n",
       "sunny_{s} = sunny_{s}\n",
       "party_{s} = party_{s}"
      ]
     },
     "metadata": {},
     "output_type": "display_data"
    }
   ],
   "source": [
    "%%lamb\n",
    "raining = raining_{s}\n",
    "sunny = sunny_{s}\n",
    "party = party_{s}"
   ]
  },
  {
   "cell_type": "code",
   "execution_count": null,
   "metadata": {},
   "outputs": [],
   "source": []
  },
  {
   "cell_type": "code",
   "execution_count": 16,
   "metadata": {},
   "outputs": [
    {
     "data": {
      "text/plain": [
       "Subdomain {'_w4', '_w7', '_w6', '_w5', '_w3', '_w2', '_w0', '_w1'} of SimpleInfiniteSet('w')"
      ]
     },
     "execution_count": 16,
     "metadata": {},
     "output_type": "execute_result"
    }
   ],
   "source": [
    "type_s.domain = type_s.get_subdomain(count=2**3)\n",
    "type_s.domain"
   ]
  },
  {
   "cell_type": "code",
   "execution_count": 17,
   "metadata": {},
   "outputs": [
    {
     "data": {
      "text/markdown": [
       "${p1}_{\\left\\{s\\right\\}}\\:=\\:\\{{\\textsf{w0}}_{s}, {\\textsf{w1}}_{s}, {\\textsf{w2}}_{s}, {\\textsf{w3}}_{s}\\}$<br />\n",
       "${p2}_{\\left\\{s\\right\\}}\\:=\\:\\{{\\textsf{w0}}_{s}, {\\textsf{w1}}_{s}, {\\textsf{w4}}_{s}, {\\textsf{w5}}_{s}\\}$<br />\n",
       "${p3}_{\\left\\{s\\right\\}}\\:=\\:\\{{\\textsf{w0}}_{s}, {\\textsf{w2}}_{s}, {\\textsf{w4}}_{s}, {\\textsf{w6}}_{s}\\}$"
      ],
      "text/plain": [
       "p1_{s} = {_w2, _w0, _w1, _w3}\n",
       "p2_{s} = {_w4, _w0, _w1, _w5}\n",
       "p3_{s} = {_w4, _w2, _w0, _w6}"
      ]
     },
     "metadata": {},
     "output_type": "display_data"
    }
   ],
   "source": [
    "%%lamb\n",
    "p1 = {_w0, _w1, _w2, _w3}\n",
    "p2 = {_w0, _w1, _w4, _w5}\n",
    "p3 = {_w0, _w2, _w4, _w6}"
   ]
  },
  {
   "cell_type": "code",
   "execution_count": 18,
   "metadata": {},
   "outputs": [
    {
     "data": {
      "text/latex": [
       "$\\lambda{} prem_{\\left\\{\\left\\{s\\right\\}\\right\\}} \\: . \\: \\lambda{} w1_{s} \\: . \\: \\lambda{} w2_{s} \\: . \\: \\{{p}_{\\left\\{s\\right\\}} \\:|\\: ({p}_{\\left\\{s\\right\\}} \\in{} {prem}) \\wedge{} ({w1} \\in{} {p}_{\\left\\{s\\right\\}})\\} \\subset{} \\{{p}_{\\left\\{s\\right\\}} \\:|\\: ({p}_{\\left\\{s\\right\\}} \\in{} {prem}) \\wedge{} ({w2} \\in{} {p}_{\\left\\{s\\right\\}})\\}$"
      ],
      "text/plain": [
       "(λ prem_{{s}}: (λ w1_s: (λ w2_s: ((Set p_{s}: ((p_{s} << prem_{{s}}) & (w1_s << p_{s}))) < (Set p_{s}: ((p_{s} << prem_{{s}}) & (w2_s << p_{s})))))))"
      ]
     },
     "execution_count": 18,
     "metadata": {},
     "output_type": "execute_result"
    }
   ],
   "source": [
    "order = %te L prem_{{s}} : L w1_s : L w2_s : (Set p_{s} : p << prem & w1 << p) < (Set p_{s} : p << prem & w2 << p)\n",
    "order"
   ]
  },
  {
   "cell_type": "code",
   "execution_count": 20,
   "metadata": {},
   "outputs": [
    {
     "data": {
      "text/latex": [
       "$\\lambda{} prem_{\\left\\{\\left\\{s\\right\\}\\right\\}} \\: . \\: \\lambda{} w1_{s} \\: . \\: \\lambda{} w2_{s} \\: . \\: (\\forall{} p_{\\left\\{s\\right\\}} \\: . \\: (({p} \\in{} {prem}) \\wedge{} ({w1} \\in{} {p})) \\rightarrow{} ({w2} \\in{} {p})) \\wedge{} \\neg{} (\\forall{} p_{\\left\\{s\\right\\}} \\: . \\: (({p} \\in{} {prem}) \\wedge{} ({w1} \\in{} {p})) \\leftrightarrow{} (({p} \\in{} {prem}) \\wedge{} ({w2} \\in{} {p})))$"
      ],
      "text/plain": [
       "(λ prem_{{s}}: (λ w1_s: (λ w2_s: ((Forall p_{s}: (((p_{s} << prem_{{s}}) & (w1_s << p_{s})) >> (w2_s << p_{s}))) & ~(Forall p_{s}: (((p_{s} << prem_{{s}}) & (w1_s << p_{s})) <=> ((p_{s} << prem_{{s}}) & (w2_s << p_{s}))))))))"
      ]
     },
     "execution_count": 20,
     "metadata": {},
     "output_type": "execute_result"
    }
   ],
   "source": [
    "order.simplify_all()"
   ]
  },
  {
   "cell_type": "code",
   "execution_count": 7,
   "metadata": {},
   "outputs": [
    {
     "data": {
      "text/latex": [
       "$(\\{{p}_{\\left\\{s\\right\\}} \\:|\\: ({p}_{\\left\\{s\\right\\}} \\in{} {prem}_{\\left\\{\\left\\{s\\right\\}\\right\\}}) \\wedge{} ({w1}_{s} \\in{} {p}_{\\left\\{s\\right\\}})\\} \\subseteq{} \\{{p}_{\\left\\{s\\right\\}} \\:|\\: ({p}_{\\left\\{s\\right\\}} \\in{} {prem}_{\\left\\{\\left\\{s\\right\\}\\right\\}}) \\wedge{} ({w2}_{s} \\in{} {p}_{\\left\\{s\\right\\}})\\}) \\wedge{} \\neg{} (\\{{p}_{\\left\\{s\\right\\}} \\:|\\: ({p}_{\\left\\{s\\right\\}} \\in{} {prem}_{\\left\\{\\left\\{s\\right\\}\\right\\}}) \\wedge{} ({w1}_{s} \\in{} {p}_{\\left\\{s\\right\\}})\\} = \\{{p}_{\\left\\{s\\right\\}} \\:|\\: ({p}_{\\left\\{s\\right\\}} \\in{} {prem}_{\\left\\{\\left\\{s\\right\\}\\right\\}}) \\wedge{} ({w2}_{s} \\in{} {p}_{\\left\\{s\\right\\}})\\})$"
      ],
      "text/plain": [
       "(((Set p_{s}: ((p_{s} << prem_{{s}}) & (w1_s << p_{s}))) ⊆ (Set p_{s}: ((p_{s} << prem_{{s}}) & (w2_s << p_{s})))) ∧ ¬((Set p_{s}: ((p_{s} << prem_{{s}}) & (w1_s << p_{s}))) <=> (Set p_{s}: ((p_{s} << prem_{{s}}) & (w2_s << p_{s})))))"
      ]
     },
     "execution_count": 7,
     "metadata": {},
     "output_type": "execute_result"
    }
   ],
   "source": [
    "te(\"(((Set p_{s}: ((p_{s} << prem_{{s}}) & (w1_s << p_{s}))) <= (Set p_{s}: ((p_{s} << prem_{{s}}) & (w2_s << p_{s})))) & ~((Set p_{s}: ((p_{s} << prem_{{s}}) & (w1_s << p_{s}))) <=> (Set p_{s}: ((p_{s} << prem_{{s}}) & (w2_s << p_{s})))))\")\n"
   ]
  },
  {
   "cell_type": "code",
   "execution_count": 8,
   "metadata": {},
   "outputs": [
    {
     "data": {
      "text/latex": [
       "$(\\forall{} p_{\\left\\{s\\right\\}} \\: . \\: (({p} \\in{} {prem}_{\\left\\{\\left\\{s\\right\\}\\right\\}}) \\wedge{} ({w1}_{s} \\in{} {p})) \\rightarrow{} ({w2}_{s} \\in{} {p})) \\wedge{} \\neg{} (\\forall{} p_{\\left\\{s\\right\\}} \\: . \\: (({p} \\in{} {prem}_{\\left\\{\\left\\{s\\right\\}\\right\\}}) \\wedge{} ({w1}_{s} \\in{} {p})) \\leftrightarrow{} (({p} \\in{} {prem}_{\\left\\{\\left\\{s\\right\\}\\right\\}}) \\wedge{} ({w2}_{s} \\in{} {p})))$"
      ],
      "text/plain": [
       "((Forall p_{s}: (((p_{s} << prem_{{s}}) & (w1_s << p_{s})) >> (w2_s << p_{s}))) ∧ ¬(Forall p_{s}: (((p_{s} << prem_{{s}}) & (w1_s << p_{s})) <=> ((p_{s} << prem_{{s}}) & (w2_s << p_{s})))))"
      ]
     },
     "execution_count": 8,
     "metadata": {},
     "output_type": "execute_result"
    }
   ],
   "source": [
    "te(\"((Forall p_{s}: (((p_{s} << prem_{{s}}) & (w1_s << p_{s})) >> (w2_s << p_{s}))) & ~(Forall p_{s}: (((p_{s} << prem_{{s}}) & (w1_s << p_{s})) <=> ((p_{s} << prem_{{s}}) & (w2_s << p_{s})))))\")\n"
   ]
  },
  {
   "cell_type": "code",
   "execution_count": 9,
   "metadata": {},
   "outputs": [
    {
     "data": {
      "text/latex": [
       "$\\{{p}_{\\left\\{s\\right\\}} \\:|\\: ({p}_{\\left\\{s\\right\\}} \\in{} {prem}_{\\left\\{\\left\\{s\\right\\}\\right\\}}) \\wedge{} ({w1}_{s} \\in{} {p}_{\\left\\{s\\right\\}})\\} \\subseteq{} \\{{p}_{\\left\\{s\\right\\}} \\:|\\: ({p}_{\\left\\{s\\right\\}} \\in{} {prem}_{\\left\\{\\left\\{s\\right\\}\\right\\}}) \\wedge{} ({w2}_{s} \\in{} {p}_{\\left\\{s\\right\\}})\\}$"
      ],
      "text/plain": [
       "((Set p_{s}: ((p_{s} << prem_{{s}}) & (w1_s << p_{s}))) ⊆ (Set p_{s}: ((p_{s} << prem_{{s}}) & (w2_s << p_{s}))))"
      ]
     },
     "execution_count": 9,
     "metadata": {},
     "output_type": "execute_result"
    }
   ],
   "source": [
    "te(\"((Set p_{s}: ((p_{s} << prem_{{s}}) & (w1_s << p_{s}))) <= (Set p_{s}: ((p_{s} << prem_{{s}}) & (w2_s << p_{s}))))\")"
   ]
  },
  {
   "cell_type": "code",
   "execution_count": 10,
   "metadata": {},
   "outputs": [
    {
     "data": {
      "text/latex": [
       "$\\forall{} p_{\\left\\{s\\right\\}} \\: . \\: (({p} \\in{} {prem}_{\\left\\{\\left\\{s\\right\\}\\right\\}}) \\wedge{} ({w1}_{s} \\in{} {p})) \\rightarrow{} ({w2}_{s} \\in{} {p})$"
      ],
      "text/plain": [
       "(Forall p_{s}: (((p_{s} << prem_{{s}}) & (w1_s << p_{s})) >> (w2_s << p_{s})))"
      ]
     },
     "execution_count": 10,
     "metadata": {},
     "output_type": "execute_result"
    }
   ],
   "source": [
    "te(\"((Set p_{s}: ((p_{s} << prem_{{s}}) & (w1_s << p_{s}))) <= (Set p_{s}: ((p_{s} << prem_{{s}}) & (w2_s << p_{s}))))\").simplify_all()"
   ]
  },
  {
   "cell_type": "code",
   "execution_count": 11,
   "metadata": {},
   "outputs": [
    {
     "data": {
      "text/latex": [
       "$\\neg{} (\\{{p}_{\\left\\{s\\right\\}} \\:|\\: ({p}_{\\left\\{s\\right\\}} \\in{} {prem}_{\\left\\{\\left\\{s\\right\\}\\right\\}}) \\wedge{} ({w1}_{s} \\in{} {p}_{\\left\\{s\\right\\}})\\} = \\{{p}_{\\left\\{s\\right\\}} \\:|\\: ({p}_{\\left\\{s\\right\\}} \\in{} {prem}_{\\left\\{\\left\\{s\\right\\}\\right\\}}) \\wedge{} ({w2}_{s} \\in{} {p}_{\\left\\{s\\right\\}})\\})$"
      ],
      "text/plain": [
       "¬((Set p_{s}: ((p_{s} << prem_{{s}}) & (w1_s << p_{s}))) <=> (Set p_{s}: ((p_{s} << prem_{{s}}) & (w2_s << p_{s}))))"
      ]
     },
     "execution_count": 11,
     "metadata": {},
     "output_type": "execute_result"
    }
   ],
   "source": [
    "te(\"~((Set p_{s}: ((p_{s} << prem_{{s}}) & (w1_s << p_{s}))) <=> (Set p_{s}: ((p_{s} << prem_{{s}}) & (w2_s << p_{s}))))\")"
   ]
  },
  {
   "cell_type": "code",
   "execution_count": 12,
   "metadata": {},
   "outputs": [
    {
     "data": {
      "text/latex": [
       "$\\neg{} (\\forall{} p_{\\left\\{s\\right\\}} \\: . \\: (({p} \\in{} {prem}_{\\left\\{\\left\\{s\\right\\}\\right\\}}) \\wedge{} ({w1}_{s} \\in{} {p})) \\leftrightarrow{} (({p} \\in{} {prem}_{\\left\\{\\left\\{s\\right\\}\\right\\}}) \\wedge{} ({w2}_{s} \\in{} {p})))$"
      ],
      "text/plain": [
       "¬(Forall p_{s}: (((p_{s} << prem_{{s}}) & (w1_s << p_{s})) <=> ((p_{s} << prem_{{s}}) & (w2_s << p_{s}))))"
      ]
     },
     "execution_count": 12,
     "metadata": {},
     "output_type": "execute_result"
    }
   ],
   "source": [
    "te(\"~((Set p_{s}: ((p_{s} << prem_{{s}}) & (w1_s << p_{s}))) <=> (Set p_{s}: ((p_{s} << prem_{{s}}) & (w2_s << p_{s}))))\").simplify_all()"
   ]
  },
  {
   "cell_type": "code",
   "execution_count": 13,
   "metadata": {},
   "outputs": [
    {
     "data": {
      "text/latex": [
       "$\\textsf{True}$"
      ],
      "text/plain": [
       "True"
      ]
     },
     "execution_count": 13,
     "metadata": {},
     "output_type": "execute_result"
    }
   ],
   "source": [
    "te(\"{_w3_s, _w2_s, _w0_s, _w1_s} << {{_w3_s, _w2_s, _w1_s, _w0_s}, {_w4_s, _w1_s, _w0_s, _w5_s}}\").simplify_all()"
   ]
  },
  {
   "cell_type": "code",
   "execution_count": 14,
   "metadata": {},
   "outputs": [
    {
     "data": {
      "text/latex": [
       "$\\textsf{True}$"
      ],
      "text/plain": [
       "True"
      ]
     },
     "execution_count": 14,
     "metadata": {},
     "output_type": "execute_result"
    }
   ],
   "source": [
    "(te(\"_w1\") << meta.MetaTerm({'_w1', '_w2'})).simplify_all()"
   ]
  },
  {
   "cell_type": "code",
   "execution_count": 15,
   "metadata": {},
   "outputs": [
    {
     "data": {
      "text/latex": [
       "${\\textsf{\\{\\{w1,w2\\}\\}}}_{\\left\\{\\left\\{s\\right\\}\\right\\}}$"
      ],
      "text/plain": [
       "{{_w1,_w2}}"
      ]
     },
     "execution_count": 15,
     "metadata": {},
     "output_type": "execute_result"
    }
   ],
   "source": [
    "meta.MetaTerm(frozenset({frozenset({'_w1', '_w2'})}))"
   ]
  },
  {
   "cell_type": "code",
   "execution_count": 16,
   "metadata": {},
   "outputs": [
    {
     "data": {
      "text/latex": [
       "$\\textsf{True}$"
      ],
      "text/plain": [
       "True"
      ]
     },
     "execution_count": 16,
     "metadata": {},
     "output_type": "execute_result"
    }
   ],
   "source": [
    "(te(\"{_w1, _w2}\") << meta.MetaTerm(frozenset({frozenset({'_w1', '_w2'})}))).simplify_all()"
   ]
  },
  {
   "cell_type": "code",
   "execution_count": 17,
   "metadata": {},
   "outputs": [
    {
     "data": {
      "text/latex": [
       "$\\{{\\textsf{c1}}_{e}, {\\textsf{c2}}_{e}\\}$"
      ],
      "text/plain": [
       "{_c1, _c2}"
      ]
     },
     "execution_count": 17,
     "metadata": {},
     "output_type": "execute_result"
    }
   ],
   "source": [
    "te(\"{{_c1, _c2}}\")[0]"
   ]
  },
  {
   "cell_type": "code",
   "execution_count": 18,
   "metadata": {},
   "outputs": [
    {
     "data": {
      "text/latex": [
       "$\\forall{} p_{\\left\\{s\\right\\}} \\: . \\: (({\\textsf{w1}}_{s} \\in{} {p}) \\wedge{} ({p} \\in{} \\{\\{{\\textsf{w0}}_{s}, {\\textsf{w1}}_{s}, {\\textsf{w2}}_{s}, {\\textsf{w3}}_{s}\\}, \\{{\\textsf{w0}}_{s}, {\\textsf{w1}}_{s}, {\\textsf{w4}}_{s}, {\\textsf{w5}}_{s}\\}\\})) \\leftrightarrow{} (({\\textsf{w2}}_{s} \\in{} {p}) \\wedge{} ({p} \\in{} \\{\\{{\\textsf{w0}}_{s}, {\\textsf{w1}}_{s}, {\\textsf{w2}}_{s}, {\\textsf{w3}}_{s}\\}, \\{{\\textsf{w0}}_{s}, {\\textsf{w1}}_{s}, {\\textsf{w4}}_{s}, {\\textsf{w5}}_{s}\\}\\}))$"
      ],
      "text/plain": [
       "(Forall p_{s}: (((_w1 << p_{s}) & (p_{s} << {{_w3, _w1, _w0, _w2}, {_w5, _w4, _w1, _w0}})) <=> ((_w2 << p_{s}) & (p_{s} << {{_w3, _w1, _w0, _w2}, {_w5, _w4, _w1, _w0}}))))"
      ]
     },
     "metadata": {},
     "output_type": "display_data"
    },
    {
     "name": "stdout",
     "output_type": "stream",
     "text": [
      "CPU times: user 72.6 ms, sys: 1.88 ms, total: 74.5 ms\n",
      "Wall time: 73.7 ms\n"
     ]
    },
    {
     "data": {
      "text/latex": [
       "$\\textsf{False}$"
      ],
      "text/plain": [
       "False"
      ]
     },
     "execution_count": 18,
     "metadata": {},
     "output_type": "execute_result"
    }
   ],
   "source": [
    "x = te('(Forall p_{s}: (((_w1_s << p_{s}) & (p_{s} << {{_w3_s, _w2_s, _w1_s, _w0_s}, {_w4_s, _w1_s, _w0_s, _w5_s}})) <=> ((_w2_s << p_{s}) & (p_{s} << {{_w3_s, _w2_s, _w1_s, _w0_s}, {_w4_s, _w1_s, _w0_s, _w5_s}}))))')\n",
    "display(x)\n",
    "%time x.simplify_all()\n"
   ]
  },
  {
   "cell_type": "code",
   "execution_count": null,
   "metadata": {},
   "outputs": [],
   "source": []
  },
  {
   "cell_type": "code",
   "execution_count": null,
   "metadata": {},
   "outputs": [],
   "source": []
  },
  {
   "cell_type": "code",
   "execution_count": 29,
   "metadata": {},
   "outputs": [
    {
     "data": {
      "text/markdown": [
       "${order}_{\\left\\langle{}\\left\\{\\left\\{s\\right\\}\\right\\},\\left\\langle{}s,\\left\\langle{}s,t\\right\\rangle{}\\right\\rangle{}\\right\\rangle{}}\\:=\\:\\lambda{} prem_{\\left\\{\\left\\{s\\right\\}\\right\\}} \\: . \\: \\lambda{} w1_{s} \\: . \\: \\lambda{} w2_{s} \\: . \\: (\\forall{} p_{\\left\\{s\\right\\}} \\: . \\: (({p} \\in{} {prem}) \\wedge{} ({w1} \\in{} {p})) \\rightarrow{} ({w2} \\in{} {p})) \\wedge{} \\neg{} (\\forall{} p_{\\left\\{s\\right\\}} \\: . \\: (({p} \\in{} {prem}) \\wedge{} ({w1} \\in{} {p})) \\leftrightarrow{} (({p} \\in{} {prem}) \\wedge{} ({w2} \\in{} {p})))$"
      ],
      "text/plain": [
       "order_<{{s}},<s,<s,t>>> = (λ prem_{{s}}: (λ w1_s: (λ w2_s: ((Forall p_{s}: (((p_{s} << prem_{{s}}) & (w1_s << p_{s})) >> (w2_s << p_{s}))) & ~(Forall p_{s}: (((p_{s} << prem_{{s}}) & (w1_s << p_{s})) <=> ((p_{s} << prem_{{s}}) & (w2_s << p_{s}))))))))"
      ]
     },
     "metadata": {},
     "output_type": "display_data"
    }
   ],
   "source": [
    "%%lamb\n",
    "order = L prem_{{s}} : L w1_s : L w2_s : (Set p_{s} : p << prem & w1 << p) < (Set p_{s} : p << prem & w2 << p)"
   ]
  },
  {
   "cell_type": "code",
   "execution_count": 20,
   "metadata": {},
   "outputs": [
    {
     "data": {
      "text/latex": [
       "$(\\forall{} p_{\\left\\{s\\right\\}} \\: . \\: (({p} \\in{} \\{\\{{\\textsf{w0}}_{s}, {\\textsf{w1}}_{s}, {\\textsf{w2}}_{s}, {\\textsf{w3}}_{s}\\}, \\{{\\textsf{w0}}_{s}, {\\textsf{w1}}_{s}, {\\textsf{w4}}_{s}, {\\textsf{w5}}_{s}\\}\\}) \\wedge{} ({\\textsf{w2}}_{s} \\in{} {p})) \\rightarrow{} ({\\textsf{w1}}_{s} \\in{} {p})) \\wedge{} \\neg{} (\\forall{} p_{\\left\\{s\\right\\}} \\: . \\: (({p} \\in{} \\{\\{{\\textsf{w0}}_{s}, {\\textsf{w1}}_{s}, {\\textsf{w2}}_{s}, {\\textsf{w3}}_{s}\\}, \\{{\\textsf{w0}}_{s}, {\\textsf{w1}}_{s}, {\\textsf{w4}}_{s}, {\\textsf{w5}}_{s}\\}\\}) \\wedge{} ({\\textsf{w2}}_{s} \\in{} {p})) \\leftrightarrow{} (({p} \\in{} \\{\\{{\\textsf{w0}}_{s}, {\\textsf{w1}}_{s}, {\\textsf{w2}}_{s}, {\\textsf{w3}}_{s}\\}, \\{{\\textsf{w0}}_{s}, {\\textsf{w1}}_{s}, {\\textsf{w4}}_{s}, {\\textsf{w5}}_{s}\\}\\}) \\wedge{} ({\\textsf{w1}}_{s} \\in{} {p})))$"
      ],
      "text/plain": [
       "((Forall p_{s}: (((p_{s} << {{_w3, _w1, _w0, _w2}, {_w5, _w4, _w1, _w0}}) & (_w2 << p_{s})) >> (_w1 << p_{s}))) ∧ ¬(Forall p_{s}: (((p_{s} << {{_w3, _w1, _w0, _w2}, {_w5, _w4, _w1, _w0}}) & (_w2 << p_{s})) <=> ((p_{s} << {{_w3, _w1, _w0, _w2}, {_w5, _w4, _w1, _w0}}) & (_w1 << p_{s})))))"
      ]
     },
     "execution_count": 20,
     "metadata": {},
     "output_type": "execute_result"
    }
   ],
   "source": [
    "order({p1, p2})(te(\"_w2\"))(te(\"_w1\")).reduce_all()"
   ]
  },
  {
   "cell_type": "code",
   "execution_count": 21,
   "metadata": {},
   "outputs": [
    {
     "data": {
      "text/latex": [
       "$\\neg{} (\\forall{} p_{\\left\\{s\\right\\}} \\: . \\: (({\\textsf{w1}}_{s} \\in{} {p}) \\wedge{} ({p} \\in{} \\{\\{{\\textsf{w0}}_{s}, {\\textsf{w1}}_{s}, {\\textsf{w2}}_{s}, {\\textsf{w3}}_{s}\\}, \\{{\\textsf{w0}}_{s}, {\\textsf{w1}}_{s}, {\\textsf{w4}}_{s}, {\\textsf{w5}}_{s}\\}\\})) \\leftrightarrow{} (({\\textsf{w2}}_{s} \\in{} {p}) \\wedge{} ({p} \\in{} \\{\\{{\\textsf{w0}}_{s}, {\\textsf{w1}}_{s}, {\\textsf{w2}}_{s}, {\\textsf{w3}}_{s}\\}, \\{{\\textsf{w0}}_{s}, {\\textsf{w1}}_{s}, {\\textsf{w4}}_{s}, {\\textsf{w5}}_{s}\\}\\}))) \\wedge{} (\\forall{} p_{\\left\\{s\\right\\}} \\: . \\: (({\\textsf{w2}}_{s} \\in{} {p}) \\wedge{} ({p} \\in{} \\{\\{{\\textsf{w0}}_{s}, {\\textsf{w1}}_{s}, {\\textsf{w2}}_{s}, {\\textsf{w3}}_{s}\\}, \\{{\\textsf{w0}}_{s}, {\\textsf{w1}}_{s}, {\\textsf{w4}}_{s}, {\\textsf{w5}}_{s}\\}\\})) \\rightarrow{} ({\\textsf{w1}}_{s} \\in{} {p}))$"
      ],
      "text/plain": [
       "(¬(Forall p_{s}: (((_w1 << p_{s}) & (p_{s} << {{_w3, _w1, _w0, _w2}, {_w5, _w4, _w1, _w0}})) <=> ((_w2 << p_{s}) & (p_{s} << {{_w3, _w1, _w0, _w2}, {_w5, _w4, _w1, _w0}})))) ∧ (Forall p_{s}: (((_w2 << p_{s}) & (p_{s} << {{_w3, _w1, _w0, _w2}, {_w5, _w4, _w1, _w0}})) >> (_w1 << p_{s}))))"
      ]
     },
     "execution_count": 21,
     "metadata": {},
     "output_type": "execute_result"
    }
   ],
   "source": [
    "order({p1, p2})(te(\"_w2\"))(te(\"_w1\")).simplify_all(reduce=True, eliminate_sets=True, evaluate=False)"
   ]
  },
  {
   "cell_type": "code",
   "execution_count": 22,
   "metadata": {},
   "outputs": [
    {
     "data": {
      "text/plain": [
       "'(Forall p_{s}: (((_w1 << p_{s}) & (p_{s} << {{_w3, _w1, _w0, _w2}, {_w5, _w4, _w1, _w0}})) <=> ((_w2 << p_{s}) & (p_{s} << {{_w3, _w1, _w0, _w2}, {_w5, _w4, _w1, _w0}}))))'"
      ]
     },
     "execution_count": 22,
     "metadata": {},
     "output_type": "execute_result"
    }
   ],
   "source": [
    "repr(order({p1, p2})(te(\"_w2\"))(te(\"_w1\")).simplify_all(reduce=True).derivation[3].subexpression.derivation[0].subexpression.derivation[1].origin[0]) #.trace() #[4].origin[0][1] #, eliminate_sets=True)"
   ]
  },
  {
   "cell_type": "code",
   "execution_count": 26,
   "metadata": {},
   "outputs": [
    {
     "name": "stdout",
     "output_type": "stream",
     "text": [
      "CPU times: user 201 ms, sys: 4.02 ms, total: 205 ms\n",
      "Wall time: 204 ms\n"
     ]
    },
    {
     "data": {
      "text/latex": [
       "$\\textsf{True}$"
      ],
      "text/plain": [
       "True"
      ]
     },
     "execution_count": 26,
     "metadata": {},
     "output_type": "execute_result"
    }
   ],
   "source": [
    "%time order({p1, p2})(te(\"_w2\"))(te(\"_w1\")).simplify_all(reduce=True, eliminate_sets=True)"
   ]
  },
  {
   "cell_type": "code",
   "execution_count": 27,
   "metadata": {},
   "outputs": [
    {
     "name": "stdout",
     "output_type": "stream",
     "text": [
      "CPU times: user 196 ms, sys: 4.55 ms, total: 200 ms\n",
      "Wall time: 199 ms\n"
     ]
    },
    {
     "data": {
      "text/latex": [
       "$\\textsf{True}$"
      ],
      "text/plain": [
       "True"
      ]
     },
     "execution_count": 27,
     "metadata": {},
     "output_type": "execute_result"
    }
   ],
   "source": [
    "%time order({p1, p2})(te(\"_w2\"))(te(\"_w1\")).simplify_all(reduce=True)"
   ]
  },
  {
   "cell_type": "code",
   "execution_count": 28,
   "metadata": {},
   "outputs": [
    {
     "name": "stdout",
     "output_type": "stream",
     "text": [
      "CPU times: user 5.28 ms, sys: 142 µs, total: 5.42 ms\n",
      "Wall time: 5.34 ms\n"
     ]
    },
    {
     "data": {
      "text/plain": [
       "True"
      ]
     },
     "execution_count": 28,
     "metadata": {},
     "output_type": "execute_result"
    }
   ],
   "source": [
    "%time meta.meta.exec(order({p1, p2})(te(\"_w2\"))(te(\"_w1\")))"
   ]
  },
  {
   "cell_type": "code",
   "execution_count": 26,
   "metadata": {},
   "outputs": [
    {
     "data": {
      "text/latex": [
       "$\\neg{} (\\forall{} p_{\\left\\{s\\right\\}} \\: . \\: (({\\textsf{w1}}_{s} \\in{} {p}) \\wedge{} ({p} \\in{} \\{\\{{\\textsf{w0}}_{s}, {\\textsf{w1}}_{s}, {\\textsf{w2}}_{s}, {\\textsf{w3}}_{s}\\}, \\{{\\textsf{w0}}_{s}, {\\textsf{w1}}_{s}, {\\textsf{w4}}_{s}, {\\textsf{w5}}_{s}\\}\\})) \\leftrightarrow{} (({\\textsf{w2}}_{s} \\in{} {p}) \\wedge{} ({p} \\in{} \\{\\{{\\textsf{w0}}_{s}, {\\textsf{w1}}_{s}, {\\textsf{w2}}_{s}, {\\textsf{w3}}_{s}\\}, \\{{\\textsf{w0}}_{s}, {\\textsf{w1}}_{s}, {\\textsf{w4}}_{s}, {\\textsf{w5}}_{s}\\}\\}))) \\wedge{} (\\forall{} p_{\\left\\{s\\right\\}} \\: . \\: (({\\textsf{w2}}_{s} \\in{} {p}) \\wedge{} ({p} \\in{} \\{\\{{\\textsf{w0}}_{s}, {\\textsf{w1}}_{s}, {\\textsf{w2}}_{s}, {\\textsf{w3}}_{s}\\}, \\{{\\textsf{w0}}_{s}, {\\textsf{w1}}_{s}, {\\textsf{w4}}_{s}, {\\textsf{w5}}_{s}\\}\\})) \\rightarrow{} ({\\textsf{w1}}_{s} \\in{} {p}))$"
      ],
      "text/plain": [
       "(¬(Forall p_{s}: (((_w1_s << p_{s}) & (p_{s} << {{_w3_s, _w2_s, _w1_s, _w0_s}, {_w4_s, _w1_s, _w0_s, _w5_s}})) <=> ((_w2_s << p_{s}) & (p_{s} << {{_w3_s, _w2_s, _w1_s, _w0_s}, {_w4_s, _w1_s, _w0_s, _w5_s}})))) ∧ (Forall p_{s}: (((_w2_s << p_{s}) & (p_{s} << {{_w3_s, _w2_s, _w1_s, _w0_s}, {_w4_s, _w1_s, _w0_s, _w5_s}})) >> (_w1_s << p_{s}))))"
      ]
     },
     "execution_count": 26,
     "metadata": {},
     "output_type": "execute_result"
    }
   ],
   "source": [
    "order({p1, p2})(te(\"_w2\"))(te(\"_w1\")).simplify_all(reduce=True, evaluate=True)"
   ]
  },
  {
   "cell_type": "code",
   "execution_count": 20,
   "metadata": {},
   "outputs": [
    {
     "data": {
      "text/latex": [
       "$\\neg{} (\\forall{} p_{\\left\\{s\\right\\}} \\: . \\: (({\\textsf{w1}}_{s} \\in{} {p}) \\wedge{} ({p} \\in{} \\{\\{{\\textsf{w0}}_{s}, {\\textsf{w1}}_{s}, {\\textsf{w2}}_{s}, {\\textsf{w3}}_{s}\\}, \\{{\\textsf{w0}}_{s}, {\\textsf{w1}}_{s}, {\\textsf{w4}}_{s}, {\\textsf{w5}}_{s}\\}\\})) \\leftrightarrow{} (({\\textsf{w2}}_{s} \\in{} {p}) \\wedge{} ({p} \\in{} \\{\\{{\\textsf{w0}}_{s}, {\\textsf{w1}}_{s}, {\\textsf{w2}}_{s}, {\\textsf{w3}}_{s}\\}, \\{{\\textsf{w0}}_{s}, {\\textsf{w1}}_{s}, {\\textsf{w4}}_{s}, {\\textsf{w5}}_{s}\\}\\}))) \\wedge{} (\\forall{} p_{\\left\\{s\\right\\}} \\: . \\: (({\\textsf{w2}}_{s} \\in{} {p}) \\wedge{} ({p} \\in{} \\{\\{{\\textsf{w0}}_{s}, {\\textsf{w1}}_{s}, {\\textsf{w2}}_{s}, {\\textsf{w3}}_{s}\\}, \\{{\\textsf{w0}}_{s}, {\\textsf{w1}}_{s}, {\\textsf{w4}}_{s}, {\\textsf{w5}}_{s}\\}\\})) \\rightarrow{} ({\\textsf{w1}}_{s} \\in{} {p}))$"
      ],
      "text/plain": [
       "(¬(Forall p_{s}: (((_w1_s << p_{s}) & (p_{s} << {{_w3_s, _w2_s, _w1_s, _w0_s}, {_w4_s, _w1_s, _w0_s, _w5_s}})) <=> ((_w2_s << p_{s}) & (p_{s} << {{_w3_s, _w2_s, _w1_s, _w0_s}, {_w4_s, _w1_s, _w0_s, _w5_s}})))) ∧ (Forall p_{s}: (((_w2_s << p_{s}) & (p_{s} << {{_w3_s, _w2_s, _w1_s, _w0_s}, {_w4_s, _w1_s, _w0_s, _w5_s}})) >> (_w1_s << p_{s}))))"
      ]
     },
     "execution_count": 20,
     "metadata": {},
     "output_type": "execute_result"
    }
   ],
   "source": [
    "x = order({p1, p2})(te(\"_w2\"))(te(\"_w1\")).simplify_all(reduce=True, evaluate=True)\n",
    "x"
   ]
  },
  {
   "cell_type": "code",
   "execution_count": 21,
   "metadata": {},
   "outputs": [
    {
     "data": {
      "text/plain": [
       "True"
      ]
     },
     "execution_count": 21,
     "metadata": {},
     "output_type": "execute_result"
    }
   ],
   "source": [
    "x[0][0][0].type.domain.enumerable()"
   ]
  },
  {
   "cell_type": "code",
   "execution_count": 22,
   "metadata": {},
   "outputs": [
    {
     "data": {
      "text/plain": [
       "{_w0_s, _w1_s, _w2_s, _w3_s}"
      ]
     },
     "execution_count": 22,
     "metadata": {},
     "output_type": "execute_result"
    }
   ],
   "source": [
    "p1.set()"
   ]
  },
  {
   "cell_type": "code",
   "execution_count": 23,
   "metadata": {},
   "outputs": [
    {
     "data": {
      "text/latex": [
       "$\\{{\\textsf{w0}}_{s}, {\\textsf{w1}}_{s}, {\\textsf{w2}}_{s}, {\\textsf{w3}}_{s}\\}$"
      ],
      "text/plain": [
       "{_w3_s, _w2_s, _w1_s, _w0_s}"
      ]
     },
     "execution_count": 23,
     "metadata": {},
     "output_type": "execute_result"
    }
   ],
   "source": [
    "p1"
   ]
  },
  {
   "cell_type": "code",
   "execution_count": null,
   "metadata": {},
   "outputs": [],
   "source": []
  },
  {
   "cell_type": "code",
   "execution_count": 90,
   "metadata": {},
   "outputs": [
    {
     "data": {
      "text/latex": [
       "${\\textsf{\\{w1\\}}}_{\\left\\{s\\right\\}}$"
      ],
      "text/plain": [
       "{_w1}_{s}"
      ]
     },
     "execution_count": 90,
     "metadata": {},
     "output_type": "execute_result"
    }
   ],
   "source": [
    "lamb.meta.core.from_python({\"_w1\"})"
   ]
  },
  {
   "cell_type": "code",
   "execution_count": 79,
   "metadata": {},
   "outputs": [
    {
     "data": {
      "text/latex": [
       "$\\{\\{{\\textsf{w0}}_{s}, {\\textsf{w1}}_{s}, {\\textsf{w2}}_{s}, {\\textsf{w3}}_{s}\\}, \\{{\\textsf{w0}}_{s}, {\\textsf{w1}}_{s}, {\\textsf{w4}}_{s}, {\\textsf{w5}}_{s}\\}\\}$"
      ],
      "text/plain": [
       "{{_w1_s, _w2_s, _w0_s, _w3_s}, {_w1_s, _w5_s, _w0_s, _w4_s}}"
      ]
     },
     "execution_count": 79,
     "metadata": {},
     "output_type": "execute_result"
    }
   ],
   "source": [
    "te({p1, p2})"
   ]
  },
  {
   "cell_type": "code",
   "execution_count": 78,
   "metadata": {},
   "outputs": [
    {
     "data": {
      "text/plain": [
       "False"
      ]
     },
     "execution_count": 78,
     "metadata": {},
     "output_type": "execute_result"
    }
   ],
   "source": [
    "p1.meta()"
   ]
  },
  {
   "cell_type": "code",
   "execution_count": 49,
   "metadata": {},
   "outputs": [
    {
     "data": {
      "text/plain": [
       "True"
      ]
     },
     "execution_count": 49,
     "metadata": {},
     "output_type": "execute_result"
    }
   ],
   "source": [
    "tp(\"{s}\").domain.finite"
   ]
  },
  {
   "cell_type": "code",
   "execution_count": 230,
   "metadata": {},
   "outputs": [
    {
     "data": {
      "text/plain": [
       "256"
      ]
     },
     "execution_count": 230,
     "metadata": {},
     "output_type": "execute_result"
    }
   ],
   "source": [
    "len(list(tp(\"{s}\").domain))"
   ]
  },
  {
   "cell_type": "code",
   "execution_count": 140,
   "metadata": {},
   "outputs": [],
   "source": [
    "x = list(tp(\"{s}\").domain)[20]"
   ]
  },
  {
   "cell_type": "code",
   "execution_count": 149,
   "metadata": {},
   "outputs": [
    {
     "data": {
      "text/plain": [
       "{_w0_s, _w1_s, _w4_s, _w5_s}"
      ]
     },
     "execution_count": 149,
     "metadata": {},
     "output_type": "execute_result"
    }
   ],
   "source": [
    "p2.set()"
   ]
  },
  {
   "cell_type": "code",
   "execution_count": 150,
   "metadata": {},
   "outputs": [
    {
     "data": {
      "text/plain": [
       "frozenset({'_w7'})"
      ]
     },
     "execution_count": 150,
     "metadata": {},
     "output_type": "execute_result"
    }
   ],
   "source": [
    "lamb.meta.core.to_python_container(lamb.meta.MetaTerm(x)) - p2.set()"
   ]
  },
  {
   "cell_type": "code",
   "execution_count": 151,
   "metadata": {},
   "outputs": [
    {
     "data": {
      "text/plain": [
       "{_w0_s, _w1_s, _w5_s}"
      ]
     },
     "execution_count": 151,
     "metadata": {},
     "output_type": "execute_result"
    }
   ],
   "source": [
    "p2.set() - lamb.meta.core.to_python_container(lamb.meta.MetaTerm(x))"
   ]
  },
  {
   "cell_type": "code",
   "execution_count": 3,
   "metadata": {
    "tags": []
   },
   "outputs": [],
   "source": [
    "class Scenario(object):\n",
    "    def __init__(self, formulas):\n",
    "        self.formulas = formulas\n",
    "        self.generate()"
   ]
  },
  {
   "cell_type": "code",
   "execution_count": null,
   "metadata": {
    "collapsed": true,
    "jupyter": {
     "outputs_hidden": true
    }
   },
   "outputs": [],
   "source": []
  },
  {
   "cell_type": "code",
   "execution_count": 318,
   "metadata": {},
   "outputs": [],
   "source": [
    "reload_lamb()"
   ]
  },
  {
   "cell_type": "code",
   "execution_count": 319,
   "metadata": {},
   "outputs": [
    {
     "data": {
      "text/plain": [
       "{1, 2, _c1, _c2}"
      ]
     },
     "execution_count": 319,
     "metadata": {},
     "output_type": "execute_result"
    }
   ],
   "source": [
    "meta.MetaTerm({('_c1', 1), ('_c2', 2)}).find_atoms()"
   ]
  },
  {
   "cell_type": "code",
   "execution_count": 320,
   "metadata": {},
   "outputs": [
    {
     "data": {
      "text/markdown": [
       "**Domain**: $D_{e} = \\{\\textsf{c1}_{e}, \\textsf{c2}_{e}\\}$<br />**Valuations**:<br />$\\left[Asdf \\rightarrow \\textsf{Fun[\\{(c1,c2),(c2,c2)\\}]}_{\\left\\langle{}\\left(e, e\\right),t\\right\\rangle{}}\\right]$"
      ],
      "text/plain": [
       "Model(assignment={'Asdf': Fun[{(_c1,_c2),(_c2,_c2)}]},\n",
       "      domain={e: {_c1, _c2}},\n",
       "      strict_charfuns=True)"
      ]
     },
     "execution_count": 320,
     "metadata": {},
     "output_type": "execute_result"
    }
   ],
   "source": [
    "m = meta.Model({'Asdf': {('_c1', '_c2'), ('_c2', '_c2')}})\n",
    "m.fill_domains()\n",
    "m"
   ]
  },
  {
   "cell_type": "code",
   "execution_count": 322,
   "metadata": {},
   "outputs": [
    {
     "data": {
      "text/markdown": [
       "| $\\left(e, n\\right)$| $Asdf$|\n",
       "| :---:| :---:|\n",
       "| $\\textsf{(c1,1)}_{\\left(e, n\\right)}$| 1|\n",
       "| $\\textsf{(c1,2)}_{\\left(e, n\\right)}$| 0|\n",
       "| $\\textsf{(c2,1)}_{\\left(e, n\\right)}$| 0|\n",
       "| $\\textsf{(c2,2)}_{\\left(e, n\\right)}$| 1|\n"
      ],
      "text/plain": [
       "| $\\left(e, n\\right)$| $Asdf$|\n",
       "| :---:| :---:|\n",
       "| $\\textsf{(c1,1)}_{\\left(e, n\\right)}$| 1|\n",
       "| $\\textsf{(c1,2)}_{\\left(e, n\\right)}$| 0|\n",
       "| $\\textsf{(c2,1)}_{\\left(e, n\\right)}$| 0|\n",
       "| $\\textsf{(c2,2)}_{\\left(e, n\\right)}$| 1|"
      ]
     },
     "execution_count": 322,
     "metadata": {},
     "output_type": "execute_result"
    }
   ],
   "source": [
    "m = meta.Model({'Asdf': {('_c1', 1), ('_c2', 2)}})\n",
    "m.fill_domains()\n",
    "m.summarize_predicates()"
   ]
  },
  {
   "cell_type": "code",
   "execution_count": 288,
   "metadata": {},
   "outputs": [
    {
     "data": {
      "text/plain": [
       "{_c1, _c2}"
      ]
     },
     "execution_count": 288,
     "metadata": {},
     "output_type": "execute_result"
    }
   ],
   "source": [
    "m.get_domain(tp('e'))"
   ]
  },
  {
   "cell_type": "code",
   "execution_count": 261,
   "metadata": {},
   "outputs": [
    {
     "data": {
      "text/markdown": [
       "| $e$| $Test4$| $Test2$| $Test3$|\n",
       "| :---:| :---:| :---:| :---:|\n",
       "| $\\textsf{c0}_{e}$| 1| 1| 1|\n",
       "| $\\textsf{c1}_{e}$| 0| 1| 1|\n",
       "| $\\textsf{c2}_{e}$| 1| 0| 1|\n",
       "| $\\textsf{c3}_{e}$| 0| 0| 1|\n",
       "| $\\textsf{c4}_{e}$| 1| 1| 0|\n",
       "| $\\textsf{c5}_{e}$| 0| 1| 0|\n",
       "| $\\textsf{c6}_{e}$| 1| 0| 0|\n",
       "| $\\textsf{c7}_{e}$| 0| 0| 0|\n"
      ],
      "text/plain": [
       "| $e$| $Test4$| $Test2$| $Test3$|\n",
       "| :---:| :---:| :---:| :---:|\n",
       "| $\\textsf{c0}_{e}$| 1| 1| 1|\n",
       "| $\\textsf{c1}_{e}$| 0| 1| 1|\n",
       "| $\\textsf{c2}_{e}$| 1| 0| 1|\n",
       "| $\\textsf{c3}_{e}$| 0| 0| 1|\n",
       "| $\\textsf{c4}_{e}$| 1| 1| 0|\n",
       "| $\\textsf{c5}_{e}$| 0| 1| 0|\n",
       "| $\\textsf{c6}_{e}$| 1| 0| 0|\n",
       "| $\\textsf{c7}_{e}$| 0| 0| 0|"
      ]
     },
     "execution_count": 261,
     "metadata": {},
     "output_type": "execute_result"
    }
   ],
   "source": [
    "meta.Model({}).expand(te(\"Test4_<e,t>\"), te(\"Test2_<e,t>\"), te(\"Test3_<e,t>\")).summarize_predicates()"
   ]
  },
  {
   "cell_type": "code",
   "execution_count": 127,
   "metadata": {},
   "outputs": [
    {
     "data": {
      "text/markdown": [
       "**Domain**: $D_{e} = \\{\\textsf{c1}_{e}, \\textsf{c2}_{e}\\}$<br />"
      ],
      "text/plain": [
       "Model(assignment={}, domain={e: {_c1, _c2}}, strict_charfuns=True)"
      ]
     },
     "execution_count": 127,
     "metadata": {},
     "output_type": "execute_result"
    }
   ],
   "source": [
    "m = meta.Model({}, domain={'_c1', '_c2'})\n",
    "m"
   ]
  },
  {
   "cell_type": "code",
   "execution_count": 218,
   "metadata": {},
   "outputs": [
    {
     "data": {
      "text/markdown": [
       "**Domain**: $D_{e} = \\{\\textsf{c0}_{e}, \\textsf{c1}_{e}\\}$<br />**Valuations**:<br />$\\left[Test \\rightarrow \\textsf{Fun[\\{c0\\}]}_{\\left\\langle{}e,t\\right\\rangle{}}\\right]$"
      ],
      "text/plain": [
       "Model(assignment={'Test': Fun[{_c0}]},\n",
       "      domain={e: {_c0, _c1}},\n",
       "      strict_charfuns=True)"
      ]
     },
     "execution_count": 218,
     "metadata": {},
     "output_type": "execute_result"
    }
   ],
   "source": [
    "expand_model(meta.Model({}), te(\"Test_<e,t>\"))"
   ]
  },
  {
   "cell_type": "code",
   "execution_count": 219,
   "metadata": {},
   "outputs": [
    {
     "data": {
      "text/markdown": [
       "**Domain**: $D_{e} = \\{\\textsf{c0}_{e}, \\textsf{c1}_{e}, \\textsf{c2}_{e}, \\textsf{c3}_{e}\\}$<br />**Valuations**:<br />$\\left[Test \\rightarrow \\textsf{Fun[\\{c1,c2\\}]}_{\\left\\langle{}e,t\\right\\rangle{}}\\right]$"
      ],
      "text/plain": [
       "Model(assignment={'Test': Fun[{_c1,_c2}]},\n",
       "      domain={e: {_c0, _c1, _c2, _c3}},\n",
       "      strict_charfuns=True)"
      ]
     },
     "execution_count": 219,
     "metadata": {},
     "output_type": "execute_result"
    }
   ],
   "source": [
    "expand_model(m, te(\"Test_<e,t>\"))"
   ]
  },
  {
   "cell_type": "code",
   "execution_count": 220,
   "metadata": {},
   "outputs": [
    {
     "data": {
      "text/markdown": [
       "**Domain**: $D_{e} = \\{\\textsf{c0}_{e}, \\textsf{c1}_{e}, \\textsf{c2}_{e}, \\textsf{c3}_{e}, \\textsf{c4}_{e}, \\textsf{c5}_{e}, \\textsf{c6}_{e}, \\textsf{c7}_{e}\\}$<br />**Valuations**:<br />$\\left[\\begin{array}{lll} Test & \\rightarrow & \\textsf{Fun[\\{c1,c2,c5,c6\\}]}_{\\left\\langle{}e,t\\right\\rangle{}} \\\\\n",
       "Test2 & \\rightarrow & \\textsf{Fun[\\{c0,c1,c2,c3\\}]}_{\\left\\langle{}e,t\\right\\rangle{}} \\\\ \\end{array}\\right]$"
      ],
      "text/plain": [
       "Model(assignment={'Test': Fun[{_c1,_c2,_c5,_c6}],\n",
       "                  'Test2': Fun[{_c0,_c1,_c2,_c3}]},\n",
       "      domain={e: {_c0, _c1, _c2, _c3, _c4, _c5, _c6, _c7}},\n",
       "      strict_charfuns=True)"
      ]
     },
     "execution_count": 220,
     "metadata": {},
     "output_type": "execute_result"
    }
   ],
   "source": [
    "m2 = expand_model(expand_model(m, te(\"Test_<e,t>\")), te(\"Test2_<e,t>\"))\n",
    "m2"
   ]
  },
  {
   "cell_type": "code",
   "execution_count": 210,
   "metadata": {},
   "outputs": [
    {
     "data": {
      "text/plain": [
       "{_c0: False,\n",
       " _c1: True,\n",
       " _c2: True,\n",
       " _c3: False,\n",
       " _c4: False,\n",
       " _c5: True,\n",
       " _c6: True,\n",
       " _c7: False}"
      ]
     },
     "execution_count": 210,
     "metadata": {},
     "output_type": "execute_result"
    }
   ],
   "source": [
    "m2['Test'].dict(domain=m2.get_domain(tp('e')))"
   ]
  },
  {
   "cell_type": "code",
   "execution_count": 211,
   "metadata": {},
   "outputs": [],
   "source": [
    "# sorted([meta.MetaTerm({frozenset(['_c2']), frozenset(['_c1'])}), meta.MetaTerm('_c1')], key=mt_key)"
   ]
  },
  {
   "cell_type": "code",
   "execution_count": 227,
   "metadata": {},
   "outputs": [
    {
     "data": {
      "text/markdown": [
       "| $e$| $Test$| $Test2$|\n",
       "| :---:| :---:| :---:|\n",
       "| $\\textsf{c0}_{e}$| 0| 1|\n",
       "| $\\textsf{c1}_{e}$| 1| 1|\n",
       "| $\\textsf{c2}_{e}$| 1| 1|\n",
       "| $\\textsf{c3}_{e}$| 0| 1|\n",
       "| $\\textsf{c4}_{e}$| 0| 0|\n",
       "| $\\textsf{c5}_{e}$| 1| 0|\n",
       "| $\\textsf{c6}_{e}$| 1| 0|\n",
       "| $\\textsf{c7}_{e}$| 0| 0|\n"
      ],
      "text/plain": [
       "| $e$| $Test$| $Test2$|\n",
       "| :---:| :---:| :---:|\n",
       "| $\\textsf{c0}_{e}$| 0| 1|\n",
       "| $\\textsf{c1}_{e}$| 1| 1|\n",
       "| $\\textsf{c2}_{e}$| 1| 1|\n",
       "| $\\textsf{c3}_{e}$| 0| 1|\n",
       "| $\\textsf{c4}_{e}$| 0| 0|\n",
       "| $\\textsf{c5}_{e}$| 1| 0|\n",
       "| $\\textsf{c6}_{e}$| 1| 0|\n",
       "| $\\textsf{c7}_{e}$| 0| 0|"
      ]
     },
     "execution_count": 227,
     "metadata": {},
     "output_type": "execute_result"
    }
   ],
   "source": [
    "summarize_predicates(m2)"
   ]
  },
  {
   "cell_type": "code",
   "execution_count": 228,
   "metadata": {},
   "outputs": [
    {
     "data": {
      "text/markdown": [
       "| $e$| $Test$| $Test2$| $Test3$|\n",
       "| :---:| :---:| :---:| :---:|\n",
       "| $\\textsf{c0}_{e}$| 0| 1| 1|\n",
       "| $\\textsf{c1}_{e}$| 1| 1| 1|\n",
       "| $\\textsf{c2}_{e}$| 1| 1| 1|\n",
       "| $\\textsf{c3}_{e}$| 0| 1| 1|\n",
       "| $\\textsf{c4}_{e}$| 0| 0| 1|\n",
       "| $\\textsf{c5}_{e}$| 1| 0| 1|\n",
       "| $\\textsf{c6}_{e}$| 1| 0| 1|\n",
       "| $\\textsf{c7}_{e}$| 0| 0| 1|\n",
       "| $\\textsf{c8}_{e}$| 1| 1| 0|\n",
       "| $\\textsf{c9}_{e}$| 1| 0| 0|\n",
       "| $\\textsf{c10}_{e}$| 0| 1| 0|\n",
       "| $\\textsf{c11}_{e}$| 0| 1| 0|\n",
       "| $\\textsf{c12}_{e}$| 0| 0| 0|\n",
       "| $\\textsf{c13}_{e}$| 0| 0| 0|\n",
       "| $\\textsf{c14}_{e}$| 1| 0| 0|\n",
       "| $\\textsf{c15}_{e}$| 1| 1| 0|\n"
      ],
      "text/plain": [
       "| $e$| $Test$| $Test2$| $Test3$|\n",
       "| :---:| :---:| :---:| :---:|\n",
       "| $\\textsf{c0}_{e}$| 0| 1| 1|\n",
       "| $\\textsf{c1}_{e}$| 1| 1| 1|\n",
       "| $\\textsf{c2}_{e}$| 1| 1| 1|\n",
       "| $\\textsf{c3}_{e}$| 0| 1| 1|\n",
       "| $\\textsf{c4}_{e}$| 0| 0| 1|\n",
       "| $\\textsf{c5}_{e}$| 1| 0| 1|\n",
       "| $\\textsf{c6}_{e}$| 1| 0| 1|\n",
       "| $\\textsf{c7}_{e}$| 0| 0| 1|\n",
       "| $\\textsf{c8}_{e}$| 1| 1| 0|\n",
       "| $\\textsf{c9}_{e}$| 1| 0| 0|\n",
       "| $\\textsf{c10}_{e}$| 0| 1| 0|\n",
       "| $\\textsf{c11}_{e}$| 0| 1| 0|\n",
       "| $\\textsf{c12}_{e}$| 0| 0| 0|\n",
       "| $\\textsf{c13}_{e}$| 0| 0| 0|\n",
       "| $\\textsf{c14}_{e}$| 1| 0| 0|\n",
       "| $\\textsf{c15}_{e}$| 1| 1| 0|"
      ]
     },
     "execution_count": 228,
     "metadata": {},
     "output_type": "execute_result"
    }
   ],
   "source": [
    "summarize_predicates(expand_model(m2, te(\"Test3_<e,t>\")))"
   ]
  },
  {
   "cell_type": "code",
   "execution_count": 229,
   "metadata": {},
   "outputs": [
    {
     "ename": "ValueError",
     "evalue": "Non-finite `DomainSet`s do not have a length.",
     "output_type": "error",
     "traceback": [
      "\u001b[0;31m---------------------------------------------------------------------------\u001b[0m",
      "\u001b[0;31mValueError\u001b[0m                                Traceback (most recent call last)",
      "Cell \u001b[0;32mIn[229], line 1\u001b[0m\n\u001b[0;32m----> 1\u001b[0m \u001b[43mexpand_model\u001b[49m\u001b[43m(\u001b[49m\u001b[43mmeta\u001b[49m\u001b[38;5;241;43m.\u001b[39;49m\u001b[43mModel\u001b[49m\u001b[43m(\u001b[49m\u001b[43m{\u001b[49m\u001b[43m}\u001b[49m\u001b[43m)\u001b[49m\u001b[43m,\u001b[49m\u001b[43m \u001b[49m\u001b[43mte\u001b[49m\u001b[43m(\u001b[49m\u001b[38;5;124;43m'\u001b[39;49m\u001b[38;5;124;43mTest1_<(e,e),t>\u001b[39;49m\u001b[38;5;124;43m'\u001b[39;49m\u001b[43m)\u001b[49m\u001b[43m)\u001b[49m\n",
      "Cell \u001b[0;32mIn[217], line 30\u001b[0m, in \u001b[0;36mexpand_model\u001b[0;34m(model, *preds)\u001b[0m\n\u001b[1;32m     28\u001b[0m dom \u001b[38;5;241m=\u001b[39m model\u001b[38;5;241m.\u001b[39mget_domain(typ)\n\u001b[1;32m     29\u001b[0m \u001b[38;5;28;01mif\u001b[39;00m dom \u001b[38;5;129;01mis\u001b[39;00m \u001b[38;5;28;01mNone\u001b[39;00m:\n\u001b[0;32m---> 30\u001b[0m     true_points \u001b[38;5;241m=\u001b[39m \u001b[43mfresh_metas\u001b[49m\u001b[43m(\u001b[49m\u001b[43mmodel\u001b[49m\u001b[43m,\u001b[49m\u001b[43m \u001b[49m\u001b[43mtyp\u001b[49m\u001b[43m,\u001b[49m\u001b[43m \u001b[49m\u001b[43mcount\u001b[49m\u001b[38;5;241;43m=\u001b[39;49m\u001b[38;5;241;43m1\u001b[39;49m\u001b[43m)\u001b[49m\n\u001b[1;32m     31\u001b[0m     model\u001b[38;5;241m.\u001b[39mset_domain(typ, \u001b[38;5;28mset\u001b[39m(true_points))\n\u001b[1;32m     32\u001b[0m \u001b[38;5;28;01melse\u001b[39;00m:\n",
      "Cell \u001b[0;32mIn[217], line 9\u001b[0m, in \u001b[0;36mfresh_metas\u001b[0;34m(model, typ, count, avoid)\u001b[0m\n\u001b[1;32m      7\u001b[0m     dom \u001b[38;5;241m|\u001b[39m\u001b[38;5;241m=\u001b[39m avoid\n\u001b[1;32m      8\u001b[0m \u001b[38;5;66;03m# batched is py3.12\u001b[39;00m\n\u001b[0;32m----> 9\u001b[0m \u001b[38;5;28;01mreturn\u001b[39;00m \u001b[38;5;28;43mnext\u001b[39;49m\u001b[43m(\u001b[49m\u001b[43mitertools\u001b[49m\u001b[38;5;241;43m.\u001b[39;49m\u001b[43mbatched\u001b[49m\u001b[43m(\u001b[49m\u001b[43m(\u001b[49m\u001b[43me\u001b[49m\u001b[43m \u001b[49m\u001b[38;5;28;43;01mfor\u001b[39;49;00m\u001b[43m \u001b[49m\u001b[43me\u001b[49m\u001b[43m \u001b[49m\u001b[38;5;129;43;01min\u001b[39;49;00m\u001b[43m \u001b[49m\u001b[43mtyp\u001b[49m\u001b[38;5;241;43m.\u001b[39;49m\u001b[43mdomain\u001b[49m\u001b[43m \u001b[49m\u001b[38;5;28;43;01mif\u001b[39;49;00m\u001b[43m \u001b[49m\u001b[43me\u001b[49m\u001b[43m \u001b[49m\u001b[38;5;129;43;01mnot\u001b[39;49;00m\u001b[43m \u001b[49m\u001b[38;5;129;43;01min\u001b[39;49;00m\u001b[43m \u001b[49m\u001b[43mdom\u001b[49m\u001b[43m)\u001b[49m\u001b[43m,\u001b[49m\u001b[43m \u001b[49m\u001b[43mcount\u001b[49m\u001b[43m)\u001b[49m\u001b[43m)\u001b[49m\n",
      "Cell \u001b[0;32mIn[217], line 9\u001b[0m, in \u001b[0;36m<genexpr>\u001b[0;34m(.0)\u001b[0m\n\u001b[1;32m      7\u001b[0m     dom \u001b[38;5;241m|\u001b[39m\u001b[38;5;241m=\u001b[39m avoid\n\u001b[1;32m      8\u001b[0m \u001b[38;5;66;03m# batched is py3.12\u001b[39;00m\n\u001b[0;32m----> 9\u001b[0m \u001b[38;5;28;01mreturn\u001b[39;00m \u001b[38;5;28mnext\u001b[39m(itertools\u001b[38;5;241m.\u001b[39mbatched(\u001b[43m(\u001b[49m\u001b[43me\u001b[49m\u001b[43m \u001b[49m\u001b[38;5;28;43;01mfor\u001b[39;49;00m\u001b[43m \u001b[49m\u001b[43me\u001b[49m\u001b[43m \u001b[49m\u001b[38;5;129;43;01min\u001b[39;49;00m\u001b[43m \u001b[49m\u001b[43mtyp\u001b[49m\u001b[38;5;241;43m.\u001b[39;49m\u001b[43mdomain\u001b[49m\u001b[43m \u001b[49m\u001b[38;5;28;43;01mif\u001b[39;49;00m\u001b[43m \u001b[49m\u001b[43me\u001b[49m\u001b[43m \u001b[49m\u001b[38;5;129;43;01mnot\u001b[39;49;00m\u001b[43m \u001b[49m\u001b[38;5;129;43;01min\u001b[39;49;00m\u001b[43m \u001b[49m\u001b[43mdom\u001b[49m\u001b[43m)\u001b[49m, count))\n",
      "File \u001b[0;32m~/repos/lambda-notebook/lamb/types.py:1007\u001b[0m, in \u001b[0;36mTupleDomainSet.__iter__\u001b[0;34m(self)\u001b[0m\n\u001b[1;32m   1005\u001b[0m \u001b[38;5;28;01mdef\u001b[39;00m \u001b[38;5;21m__iter__\u001b[39m(\u001b[38;5;28mself\u001b[39m):\n\u001b[1;32m   1006\u001b[0m     domains \u001b[38;5;241m=\u001b[39m (t\u001b[38;5;241m.\u001b[39mdomain \u001b[38;5;28;01mfor\u001b[39;00m t \u001b[38;5;129;01min\u001b[39;00m \u001b[38;5;28mself\u001b[39m\u001b[38;5;241m.\u001b[39mtype)\n\u001b[0;32m-> 1007\u001b[0m     \u001b[38;5;28;01mfor\u001b[39;00m p \u001b[38;5;129;01min\u001b[39;00m \u001b[43mitertools\u001b[49m\u001b[38;5;241;43m.\u001b[39;49m\u001b[43mproduct\u001b[49m\u001b[43m(\u001b[49m\u001b[38;5;241;43m*\u001b[39;49m\u001b[43mdomains\u001b[49m\u001b[43m)\u001b[49m:\n\u001b[1;32m   1008\u001b[0m         \u001b[38;5;28;01myield\u001b[39;00m p\n",
      "File \u001b[0;32m~/repos/lambda-notebook/lamb/types.py:87\u001b[0m, in \u001b[0;36mDomainSet.__len__\u001b[0;34m(self)\u001b[0m\n\u001b[1;32m     82\u001b[0m \u001b[38;5;28;01mdef\u001b[39;00m \u001b[38;5;21m__len__\u001b[39m(\u001b[38;5;28mself\u001b[39m):\n\u001b[1;32m     83\u001b[0m     \u001b[38;5;66;03m# can't do something like return math.inf for this case, because it's\u001b[39;00m\n\u001b[1;32m     84\u001b[0m     \u001b[38;5;66;03m# not an int:\u001b[39;00m\n\u001b[1;32m     85\u001b[0m     \u001b[38;5;66;03m# https://docs.python.org/3/reference/datamodel.html#object.__len__\u001b[39;00m\n\u001b[1;32m     86\u001b[0m     \u001b[38;5;28;01mif\u001b[39;00m \u001b[38;5;129;01mnot\u001b[39;00m \u001b[38;5;28mself\u001b[39m\u001b[38;5;241m.\u001b[39mfinite:\n\u001b[0;32m---> 87\u001b[0m         \u001b[38;5;28;01mraise\u001b[39;00m \u001b[38;5;167;01mValueError\u001b[39;00m(\u001b[38;5;124m\"\u001b[39m\u001b[38;5;124mNon-finite `DomainSet`s do not have a length.\u001b[39m\u001b[38;5;124m\"\u001b[39m)\n\u001b[1;32m     88\u001b[0m     \u001b[38;5;28;01mreturn\u001b[39;00m \u001b[38;5;28mlen\u001b[39m(\u001b[38;5;28mself\u001b[39m\u001b[38;5;241m.\u001b[39mdomain)\n",
      "\u001b[0;31mValueError\u001b[0m: Non-finite `DomainSet`s do not have a length."
     ]
    }
   ],
   "source": [
    "expand_model(meta.Model({}), te('Test1_<(e,e),t>'))"
   ]
  },
  {
   "cell_type": "code",
   "execution_count": null,
   "metadata": {},
   "outputs": [],
   "source": []
  }
 ],
 "metadata": {
  "kernelspec": {
   "display_name": "Lambda Notebook (Python 3)",
   "language": "python",
   "name": "lambda-notebook"
  },
  "language_info": {
   "codemirror_mode": {
    "name": "ipython",
    "version": 3
   },
   "file_extension": ".py",
   "mimetype": "text/x-python",
   "name": "python",
   "nbconvert_exporter": "python",
   "pygments_lexer": "ipython3",
   "version": "3.10.14"
  }
 },
 "nbformat": 4,
 "nbformat_minor": 4
}
