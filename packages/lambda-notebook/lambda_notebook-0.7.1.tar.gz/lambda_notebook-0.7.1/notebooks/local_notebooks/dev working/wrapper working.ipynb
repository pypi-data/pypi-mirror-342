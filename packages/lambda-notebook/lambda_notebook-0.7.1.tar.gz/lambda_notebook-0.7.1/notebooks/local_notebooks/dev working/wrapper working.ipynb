{
 "cells": [
  {
   "cell_type": "code",
   "execution_count": 1,
   "id": "94d0f321-2be4-45e1-b506-265ba6ddbf88",
   "metadata": {},
   "outputs": [],
   "source": [
    "reload_lamb()"
   ]
  },
  {
   "cell_type": "code",
   "execution_count": 2,
   "id": "32946caf-a048-4d43-9f17-849bc8185562",
   "metadata": {},
   "outputs": [],
   "source": [
    "ts = lang.get_system().copy()\n",
    "type_s = types.BasicType(\"s\")\n",
    "ts.add_basic_type(type_s)\n",
    "lang.set_system(ts)"
   ]
  },
  {
   "cell_type": "code",
   "execution_count": 3,
   "id": "514b0f6b-5ade-42ac-b3da-d30d75fd8895",
   "metadata": {},
   "outputs": [
    {
     "data": {
      "text/markdown": [
       "${Plus}_{\\left\\langle{}n,\\left\\langle{}n,n\\right\\rangle{}\\right\\rangle{}}\\:=\\:\\lambda{} x_{n} \\: . \\: \\lambda{} y_{n} \\: . \\: {x} + {y}$"
      ],
      "text/plain": [
       "Plus_<n,<n,n>> = (λ x_n: (λ y_n: (x_n + y_n)))"
      ]
     },
     "metadata": {},
     "output_type": "display_data"
    },
    {
     "data": {
      "text/html": [
       "<div align=\"left\" style=\"display:table;\"><div style=\"display:table-cell;vertical-align:top;padding-left:5px;padding-right:5px;padding-top:0.2em\"><div style=\"display:table;\"><div style=\"display:table-row;vertical-align:top;\"><div align=\"left\" style=\"display:table;border-collapse:collapse;\"><div style=\"display:table-row;border-bottom:1px solid #848482;\"><div style=\"display:table-cell;padding:0.2em 5px 0.2em 0px;vertical-align:top;\"></div><div style=\"display:table-cell;vertical-align:top;border-right:1px solid #848482;padding-right:5px;;padding-top:0.2em\"><div style=\"display:inline-block;\"><span>$\\textsf{1} @ \\textsf{3}$</span></div></div><div style=\"display:table-cell;vertical-align:top;padding-left:5px;padding-right:5px;padding-top:0.2em\"><div style=\"display:table;\"><div style=\"display:table-row;\"><div style=\"white-space:nowrap; color:blue;\"><span>Evaluation of operator `@`</span></div></div></div></div></div><div style=\"display:table-row;border-bottom:1px solid #848482;\"><div style=\"display:table-cell;padding:0.2em 5px 0.2em 0px;vertical-align:top;\"> 1. </div><div style=\"display:table-cell;vertical-align:top;border-right:1px solid #848482;padding-right:5px;;padding-top:0.2em\"><div style=\"display:inline-block;\"><span>${[\\lambda{} x_{n} \\: . \\: \\lambda{} y_{n} \\: . \\: {x} + {y}]}(\\textsf{1})(\\textsf{3})$</span></div></div><div style=\"display:table-cell;vertical-align:top;padding-left:5px;padding-right:5px;padding-top:0.2em\"><div style=\"display:table;\"><div style=\"display:table-row;\"><div style=\"white-space:nowrap; color:blue;\"><span>[Reduction]</span></div></div></div></div></div><div style=\"display:table-row;border-bottom:1px solid #848482;\"><div style=\"display:table-cell;padding:0.2em 5px 0.2em 0px;vertical-align:top;\"> 2. </div><div style=\"display:table-cell;vertical-align:top;border-right:1px solid #848482;padding-right:5px;;padding-top:0.2em\"><div style=\"display:inline-block;\"><span>${[\\lambda{} y_{n} \\: . \\: \\textsf{1} + {y}]}(\\textsf{3})$</span></div></div><div style=\"display:table-cell;vertical-align:top;padding-left:5px;padding-right:5px;padding-top:0.2em\"><div style=\"display:table;\"><div style=\"display:table-row;\"><div style=\"white-space:nowrap; color:blue;\"><span>Reduction</span></div></div></div></div></div><div style=\"display:table-row;border-bottom:1px solid #848482;\"><div style=\"display:table-cell;padding:0.2em 5px 0.2em 0px;vertical-align:top;\"> 3. </div><div style=\"display:table-cell;vertical-align:top;border-right:1px solid #848482;padding-right:5px;;padding-top:0.2em\"><div style=\"display:inline-block;\"><span>$\\textsf{1} + \\textsf{3}$</span></div></div><div style=\"display:table-cell;vertical-align:top;padding-left:5px;padding-right:5px;padding-top:0.2em\"><div style=\"display:table;\"><div style=\"display:table-row;\"><div style=\"white-space:nowrap; color:blue;\"><span>+</span></div></div></div></div></div><div style=\"display:table-row;\"><div style=\"display:table-cell;padding:0.2em 5px 0.2em 0px;vertical-align:top;\"> 4. </div><div style=\"display:table-cell;vertical-align:top;border-right:1px solid #848482;padding-right:5px;;padding-top:0.2em\"><div style=\"display:inline-block;\"><span>$\\textsf{4}$</span></div></div></div></div></div></div></div></div>"
      ],
      "text/plain": [
       " 1. (1 @ 3)    (Evaluation of operator `@`)\n",
       " 2. (λ x_n: (λ y_n: (x_n + y_n)))(1)(3)    ([Reduction])\n",
       " 3. (λ y_n: (1 + y_n))(3)    (Reduction)\n",
       " 4. (1 + 3)    (+)\n",
       " 5. 4"
      ]
     },
     "execution_count": 3,
     "metadata": {},
     "output_type": "execute_result"
    }
   ],
   "source": [
    "%lamb Plus = L x_n : L y_n : x + y\n",
    "WrappedOp = meta.core.op_from_te(\"Plus\", Plus, canonical_name=\"@\")\n",
    "WrappedOp(te(\"1\"), te(\"3\")).simplify_all().derivation"
   ]
  },
  {
   "cell_type": "code",
   "execution_count": 4,
   "id": "3e6c394d-ece3-47f2-9f54-234cda140773",
   "metadata": {},
   "outputs": [
    {
     "data": {
      "text/latex": [
       "$\\texttt{operator @(2)} = \\lambda{} x_{n} \\: . \\: \\lambda{} y_{n} \\: . \\: {x} + {y}$"
      ],
      "text/plain": [
       "operator @(2) = (λ x_n: (λ y_n: (x_n + y_n)))"
      ]
     },
     "metadata": {},
     "output_type": "display_data"
    }
   ],
   "source": [
    "# lamb.parsing.errors_raise = True\n",
    "%lamb operator @(2) = Plus"
   ]
  },
  {
   "cell_type": "code",
   "execution_count": 5,
   "id": "07cfa991-c42d-471e-9978-d713b28096e9",
   "metadata": {},
   "outputs": [
    {
     "data": {
      "text/latex": [
       "$\\texttt{operator @(2)} = \\lambda{} x_{n} \\: . \\: \\lambda{} y_{n} \\: . \\: {x} + {y}$"
      ],
      "text/plain": [
       "operator @(2) = (λ x_n: (λ y_n: (x_n + y_n)))"
      ]
     },
     "execution_count": 5,
     "metadata": {},
     "output_type": "execute_result"
    }
   ],
   "source": [
    "meta.core.registry.get_operators(symbol='@')[0]"
   ]
  },
  {
   "cell_type": "code",
   "execution_count": 6,
   "id": "843e2b08-7104-4f89-9d32-4cdf221520ab",
   "metadata": {},
   "outputs": [
    {
     "name": "stderr",
     "output_type": "stream",
     "text": [
      "WARNING (core): New operator `+/(n)` replaces existing exact matching operator for `+`: Operator(+, UnaryPositiveExpr, arity: 1, signature: (n))\n"
     ]
    },
    {
     "data": {
      "text/latex": [
       "$\\texttt{operator +(1)} = \\lambda{} x_{n} \\: . \\: \\lambda{} y_{n} \\: . \\: {x} + {y}$"
      ],
      "text/plain": [
       "operator +(1) = (λ x_n: (λ y_n: (x_n + y_n)))"
      ]
     },
     "metadata": {},
     "output_type": "display_data"
    }
   ],
   "source": [
    "%lamb operator +(1) = Plus"
   ]
  },
  {
   "cell_type": "code",
   "execution_count": 7,
   "id": "260fd06c-5079-4d68-b5ef-1a04b0def771",
   "metadata": {},
   "outputs": [
    {
     "data": {
      "text/html": [
       "<div align=\"left\" style=\"display:table;\"><div style=\"display:table-cell;vertical-align:top;padding-left:5px;padding-right:5px;padding-top:0.2em\"><div style=\"display:table;\"><div style=\"display:table-row;vertical-align:top;\"><div align=\"left\" style=\"display:table;border-collapse:collapse;\"><div style=\"display:table-row;border-bottom:1px solid #848482;\"><div style=\"display:table-cell;padding:0.2em 5px 0.2em 0px;vertical-align:top;\"></div><div style=\"display:table-cell;vertical-align:top;border-right:1px solid #848482;padding-right:5px;;padding-top:0.2em\"><div style=\"display:inline-block;\"><span>$+ \\textsf{2}(\\textsf{2})$</span></div></div><div style=\"display:table-cell;vertical-align:top;padding-left:5px;padding-right:5px;padding-top:0.2em\"><div style=\"display:table;\"><div style=\"display:table-row;\"><div style=\"white-space:nowrap; color:blue;\"><span>Recursive simplification of subexpression 0</span></div></div><div style=\"display:table-row;vertical-align:top;\"><div align=\"left\" style=\"display:table;border-collapse:collapse;\"><div style=\"display:table-row;border-bottom:1px solid #848482;\"><div style=\"display:table-cell;padding:0.2em 5px 0.2em 0px;vertical-align:top;\"></div><div style=\"display:table-cell;vertical-align:top;border-right:1px solid #848482;padding-right:5px;;padding-top:0.2em\"><div style=\"display:inline-block;\"><span>$+ \\textsf{2}$</span></div></div><div style=\"display:table-cell;vertical-align:top;padding-left:5px;padding-right:5px;padding-top:0.2em\"><div style=\"display:table;\"><div style=\"display:table-row;\"><div style=\"white-space:nowrap; color:blue;\"><span>Evaluation of operator `+`</span></div></div></div></div></div><div style=\"display:table-row;border-bottom:1px solid #848482;\"><div style=\"display:table-cell;padding:0.2em 5px 0.2em 0px;vertical-align:top;\"> 1. </div><div style=\"display:table-cell;vertical-align:top;border-right:1px solid #848482;padding-right:5px;;padding-top:0.2em\"><div style=\"display:inline-block;\"><span>${[\\lambda{} x_{n} \\: . \\: \\lambda{} y_{n} \\: . \\: {x} + {y}]}(\\textsf{2})$</span></div></div><div style=\"display:table-cell;vertical-align:top;padding-left:5px;padding-right:5px;padding-top:0.2em\"><div style=\"display:table;\"><div style=\"display:table-row;\"><div style=\"white-space:nowrap; color:blue;\"><span>Reduction</span></div></div></div></div></div><div style=\"display:table-row;\"><div style=\"display:table-cell;padding:0.2em 5px 0.2em 0px;vertical-align:top;\"> 2. </div><div style=\"display:table-cell;vertical-align:top;border-right:1px solid #848482;padding-right:5px;;padding-top:0.2em\"><div style=\"display:inline-block;\"><span>$\\lambda{} y_{n} \\: . \\: \\textsf{2} + {y}$</span></div></div></div></div></div></div></div></div><div style=\"display:table-row;\"><div style=\"display:table-cell;padding:0.2em 5px 0.2em 0px;vertical-align:top;\"> 1. </div><div style=\"display:table-cell;vertical-align:top;border-right:1px solid #848482;padding-right:5px;;padding-top:0.2em\"><div style=\"display:inline-block;\"><span>${[\\lambda{} y_{n} \\: . \\: \\textsf{2} + {y}]}(\\textsf{2})$</span></div></div></div></div></div></div></div></div>"
      ],
      "text/plain": [
       "DisplayNode instance: HTML rendering only"
      ]
     },
     "execution_count": 7,
     "metadata": {},
     "output_type": "execute_result"
    }
   ],
   "source": [
    "te(\"(+2)(2)\").simplify_all(reduce=True).derivation.trace()"
   ]
  },
  {
   "cell_type": "code",
   "execution_count": null,
   "id": "7086346f-96c3-4367-b55f-b96ebeed032a",
   "metadata": {},
   "outputs": [],
   "source": []
  },
  {
   "cell_type": "code",
   "execution_count": 67,
   "id": "51896ef8-adcd-4ee5-abf2-8d8d4aa8c1b9",
   "metadata": {},
   "outputs": [
    {
     "data": {
      "text/latex": [
       "$\\textsf{4}$"
      ],
      "text/plain": [
       "4"
      ]
     },
     "execution_count": 67,
     "metadata": {},
     "output_type": "execute_result"
    }
   ],
   "source": [
    "%te simplify 1@3"
   ]
  },
  {
   "cell_type": "code",
   "execution_count": 68,
   "id": "ff6bc265-3d6f-48c8-b7c6-e05e405b0af2",
   "metadata": {},
   "outputs": [],
   "source": [
    "import re\n",
    "re.match(r'^([a-zA-Z0-9_!@%^&*~<>:|\\\\/?\\-=+]+)(?:\\((\\d+)\\))?', '+()').group(2)"
   ]
  },
  {
   "cell_type": "code",
   "execution_count": 69,
   "id": "bf277ea4-ae20-4037-99dd-774e84dad005",
   "metadata": {},
   "outputs": [
    {
     "data": {
      "text/plain": [
       "lamb.meta.core.op_from_te.<locals>.WrappedOp.Plus"
      ]
     },
     "execution_count": 69,
     "metadata": {},
     "output_type": "execute_result"
    }
   ],
   "source": [
    "WrappedOp #.__qualname__"
   ]
  },
  {
   "cell_type": "code",
   "execution_count": 70,
   "id": "d5384d70-b930-41f7-9d93-36daa54c0903",
   "metadata": {},
   "outputs": [
    {
     "data": {
      "text/markdown": [
       "${Plus}_{\\left\\langle{}n,\\left\\langle{}n,n\\right\\rangle{}\\right\\rangle{}}\\:=\\:\\lambda{} x_{n} \\: . \\: \\lambda{} y_{n} \\: . \\: {x} + {y}$"
      ],
      "text/plain": [
       "Plus_<n,<n,n>> = (λ x_n: (λ y_n: ((x_n + y_n))))"
      ]
     },
     "metadata": {},
     "output_type": "display_data"
    },
    {
     "data": {
      "text/html": [
       "<div align=\"left\" style=\"display:table;\"><div style=\"display:table-cell;vertical-align:top;padding-left:5px;padding-right:5px;padding-top:0.2em\"><div style=\"display:table;\"><div style=\"display:table-row;vertical-align:top;\"><div align=\"left\" style=\"display:table;border-collapse:collapse;\"><div style=\"display:table-row;border-bottom:1px solid #848482;\"><div style=\"display:table-cell;padding:0.2em 5px 0.2em 0px;vertical-align:top;\"></div><div style=\"display:table-cell;vertical-align:top;border-right:1px solid #848482;padding-right:5px;;padding-top:0.2em\"><div style=\"display:inline-block;\"><span>$\\textsf{1} @ \\textsf{3}$</span></div></div><div style=\"display:table-cell;vertical-align:top;padding-left:5px;padding-right:5px;padding-top:0.2em\"><div style=\"display:table;\"><div style=\"display:table-row;\"><div style=\"white-space:nowrap; color:blue;\"><span>Evaluation of operator `@`</span></div></div></div></div></div><div style=\"display:table-row;border-bottom:1px solid #848482;\"><div style=\"display:table-cell;padding:0.2em 5px 0.2em 0px;vertical-align:top;\"> 1. </div><div style=\"display:table-cell;vertical-align:top;border-right:1px solid #848482;padding-right:5px;;padding-top:0.2em\"><div style=\"display:inline-block;\"><span>${[\\lambda{} x_{n} \\: . \\: \\lambda{} y_{n} \\: . \\: {x} + {y}]}(\\textsf{1})(\\textsf{3})$</span></div></div><div style=\"display:table-cell;vertical-align:top;padding-left:5px;padding-right:5px;padding-top:0.2em\"><div style=\"display:table;\"><div style=\"display:table-row;\"><div style=\"white-space:nowrap; color:blue;\"><span>[Reduction]</span></div></div></div></div></div><div style=\"display:table-row;border-bottom:1px solid #848482;\"><div style=\"display:table-cell;padding:0.2em 5px 0.2em 0px;vertical-align:top;\"> 2. </div><div style=\"display:table-cell;vertical-align:top;border-right:1px solid #848482;padding-right:5px;;padding-top:0.2em\"><div style=\"display:inline-block;\"><span>${[\\lambda{} y_{n} \\: . \\: \\textsf{1} + {y}]}(\\textsf{3})$</span></div></div><div style=\"display:table-cell;vertical-align:top;padding-left:5px;padding-right:5px;padding-top:0.2em\"><div style=\"display:table;\"><div style=\"display:table-row;\"><div style=\"white-space:nowrap; color:blue;\"><span>Reduction</span></div></div></div></div></div><div style=\"display:table-row;border-bottom:1px solid #848482;\"><div style=\"display:table-cell;padding:0.2em 5px 0.2em 0px;vertical-align:top;\"> 3. </div><div style=\"display:table-cell;vertical-align:top;border-right:1px solid #848482;padding-right:5px;;padding-top:0.2em\"><div style=\"display:inline-block;\"><span>$\\textsf{1} + \\textsf{3}$</span></div></div><div style=\"display:table-cell;vertical-align:top;padding-left:5px;padding-right:5px;padding-top:0.2em\"><div style=\"display:table;\"><div style=\"display:table-row;\"><div style=\"white-space:nowrap; color:blue;\"><span>+</span></div></div></div></div></div><div style=\"display:table-row;\"><div style=\"display:table-cell;padding:0.2em 5px 0.2em 0px;vertical-align:top;\"> 4. </div><div style=\"display:table-cell;vertical-align:top;border-right:1px solid #848482;padding-right:5px;;padding-top:0.2em\"><div style=\"display:inline-block;\"><span>$\\textsf{4}$</span></div></div></div></div></div></div></div></div>"
      ],
      "text/plain": [
       " 1. ((1 @ 3))    (Evaluation of operator `@`)\n",
       " 2. (λ x_n: (λ y_n: ((x_n + y_n))))(1)(3)    ([Reduction])\n",
       " 3. (λ y_n: ((1 + y_n)))(3)    (Reduction)\n",
       " 4. ((1 + 3))    (+)\n",
       " 5. 4"
      ]
     },
     "execution_count": 70,
     "metadata": {},
     "output_type": "execute_result"
    }
   ],
   "source": [
    "%lamb Plus = L x_n : L y_n : x + y\n",
    "WrappedOpSuper = meta.core.op_from_te(\"Plus\", Plus, canonical_name=\"@\")\n",
    "class PlusOp(WrappedOpSuper):\n",
    "    pass\n",
    "PlusOp(te(\"1\"), te(\"3\")).simplify_all().derivation"
   ]
  },
  {
   "cell_type": "code",
   "execution_count": 71,
   "id": "0c80b68b-82aa-4f09-93a8-f3839bf19015",
   "metadata": {},
   "outputs": [
    {
     "data": {
      "text/html": [
       "<div align=\"left\" style=\"display:table;\"><div style=\"display:table-cell;vertical-align:top;padding-left:5px;padding-right:5px;padding-top:0.2em\"><div style=\"display:table;\"><div style=\"display:table-row;vertical-align:top;\"><div align=\"left\" style=\"display:table;border-collapse:collapse;\"><div style=\"display:table-row;border-bottom:1px solid #848482;\"><div style=\"display:table-cell;padding:0.2em 5px 0.2em 0px;vertical-align:top;\"></div><div style=\"display:table-cell;vertical-align:top;border-right:1px solid #848482;padding-right:5px;;padding-top:0.2em\"><div style=\"display:inline-block;\"><span>$\\textsf{1} @ \\textsf{3}$</span></div></div><div style=\"display:table-cell;vertical-align:top;padding-left:5px;padding-right:5px;padding-top:0.2em\"><div style=\"display:table;\"><div style=\"display:table-row;\"><div style=\"white-space:nowrap; color:blue;\"><span>Evaluation of operator `@`</span></div></div></div></div></div><div style=\"display:table-row;border-bottom:1px solid #848482;\"><div style=\"display:table-cell;padding:0.2em 5px 0.2em 0px;vertical-align:top;\"> 1. </div><div style=\"display:table-cell;vertical-align:top;border-right:1px solid #848482;padding-right:5px;;padding-top:0.2em\"><div style=\"display:inline-block;\"><span>${[\\lambda{} x_{n} \\: . \\: \\lambda{} y_{n} \\: . \\: {x} + {y}]}(\\textsf{1})(\\textsf{3})$</span></div></div><div style=\"display:table-cell;vertical-align:top;padding-left:5px;padding-right:5px;padding-top:0.2em\"><div style=\"display:table;\"><div style=\"display:table-row;\"><div style=\"white-space:nowrap; color:blue;\"><span>[Reduction]</span></div></div></div></div></div><div style=\"display:table-row;border-bottom:1px solid #848482;\"><div style=\"display:table-cell;padding:0.2em 5px 0.2em 0px;vertical-align:top;\"> 2. </div><div style=\"display:table-cell;vertical-align:top;border-right:1px solid #848482;padding-right:5px;;padding-top:0.2em\"><div style=\"display:inline-block;\"><span>${[\\lambda{} y_{n} \\: . \\: \\textsf{1} + {y}]}(\\textsf{3})$</span></div></div><div style=\"display:table-cell;vertical-align:top;padding-left:5px;padding-right:5px;padding-top:0.2em\"><div style=\"display:table;\"><div style=\"display:table-row;\"><div style=\"white-space:nowrap; color:blue;\"><span>Reduction</span></div></div></div></div></div><div style=\"display:table-row;border-bottom:1px solid #848482;\"><div style=\"display:table-cell;padding:0.2em 5px 0.2em 0px;vertical-align:top;\"> 3. </div><div style=\"display:table-cell;vertical-align:top;border-right:1px solid #848482;padding-right:5px;;padding-top:0.2em\"><div style=\"display:inline-block;\"><span>$\\textsf{1} + \\textsf{3}$</span></div></div><div style=\"display:table-cell;vertical-align:top;padding-left:5px;padding-right:5px;padding-top:0.2em\"><div style=\"display:table;\"><div style=\"display:table-row;\"><div style=\"white-space:nowrap; color:blue;\"><span>+</span></div></div></div></div></div><div style=\"display:table-row;\"><div style=\"display:table-cell;padding:0.2em 5px 0.2em 0px;vertical-align:top;\"> 4. </div><div style=\"display:table-cell;vertical-align:top;border-right:1px solid #848482;padding-right:5px;;padding-top:0.2em\"><div style=\"display:inline-block;\"><span>$\\textsf{4}$</span></div></div></div></div></div></div></div></div>"
      ],
      "text/plain": [
       " 1. ((1 @ 3))    (Evaluation of operator `@`)\n",
       " 2. (λ x_n: (λ y_n: ((x_n + y_n))))(1)(3)    ([Reduction])\n",
       " 3. (λ y_n: ((1 + y_n)))(3)    (Reduction)\n",
       " 4. ((1 + 3))    (+)\n",
       " 5. 4"
      ]
     },
     "execution_count": 71,
     "metadata": {},
     "output_type": "execute_result"
    }
   ],
   "source": [
    "@meta.core.op_class(\"Plus\", Plus, canonical_name=\"@\")\n",
    "class PlusOp2:\n",
    "    pass\n",
    "\n",
    "PlusOp2(te(\"1\"), te(\"3\")).simplify_all().derivation"
   ]
  },
  {
   "cell_type": "code",
   "execution_count": null,
   "id": "c9e89a36-cea8-48d3-a7bc-0a0f1dfda496",
   "metadata": {},
   "outputs": [],
   "source": []
  },
  {
   "cell_type": "code",
   "execution_count": 72,
   "id": "4971bdc3-c134-45e9-ae98-48afba432061",
   "metadata": {},
   "outputs": [
    {
     "ename": "ValueError",
     "evalue": "@op_class cannot decorate a TypedExpr subclass (used on: `<class '__main__.PlusOp3'>`)",
     "output_type": "error",
     "traceback": [
      "\u001b[0;31m---------------------------------------------------------------------------\u001b[0m",
      "\u001b[0;31mValueError\u001b[0m                                Traceback (most recent call last)",
      "Cell \u001b[0;32mIn[72], line 1\u001b[0m\n\u001b[0;32m----> 1\u001b[0m \u001b[38;5;129;43m@meta\u001b[39;49m\u001b[38;5;241;43m.\u001b[39;49m\u001b[43mcore\u001b[49m\u001b[38;5;241;43m.\u001b[39;49m\u001b[43mop_class\u001b[49m\u001b[43m(\u001b[49m\u001b[38;5;124;43m\"\u001b[39;49m\u001b[38;5;124;43m@\u001b[39;49m\u001b[38;5;124;43m\"\u001b[39;49m\u001b[43m,\u001b[49m\u001b[43m \u001b[49m\u001b[43mPlus\u001b[49m\u001b[43m)\u001b[49m\n\u001b[1;32m      2\u001b[0m \u001b[38;5;28;43;01mclass\u001b[39;49;00m\u001b[43m \u001b[49m\u001b[38;5;21;43;01mPlusOp3\u001b[39;49;00m\u001b[43m(\u001b[49m\u001b[43mmeta\u001b[49m\u001b[38;5;241;43m.\u001b[39;49m\u001b[43mcore\u001b[49m\u001b[38;5;241;43m.\u001b[39;49m\u001b[43mTypedExpr\u001b[49m\u001b[43m)\u001b[49m\u001b[43m:\u001b[49m\n\u001b[1;32m      3\u001b[0m \u001b[43m    \u001b[49m\u001b[38;5;28;43;01mpass\u001b[39;49;00m\n",
      "File \u001b[0;32m~/repos/lambda-notebook/lamb/meta/core.py:875\u001b[0m, in \u001b[0;36mop_class.<locals>.wrapper\u001b[0;34m(cls)\u001b[0m\n\u001b[1;32m    873\u001b[0m \u001b[38;5;28;01mdef\u001b[39;00m \u001b[38;5;21mwrapper\u001b[39m(\u001b[38;5;28mcls\u001b[39m):\n\u001b[1;32m    874\u001b[0m     \u001b[38;5;28;01mif\u001b[39;00m \u001b[38;5;28missubclass\u001b[39m(\u001b[38;5;28mcls\u001b[39m, TypedExpr):\n\u001b[0;32m--> 875\u001b[0m         \u001b[38;5;28;01mraise\u001b[39;00m \u001b[38;5;167;01mValueError\u001b[39;00m(\u001b[38;5;124mf\u001b[39m\u001b[38;5;124m\"\u001b[39m\u001b[38;5;124m@op_class cannot decorate a TypedExpr subclass (used on: `\u001b[39m\u001b[38;5;132;01m{\u001b[39;00m\u001b[38;5;28mrepr\u001b[39m(\u001b[38;5;28mcls\u001b[39m)\u001b[38;5;132;01m}\u001b[39;00m\u001b[38;5;124m`)\u001b[39m\u001b[38;5;124m\"\u001b[39m)\n\u001b[1;32m    876\u001b[0m     \u001b[38;5;66;03m# we can't set the superclass directly, so use multiple inheritence.\u001b[39;00m\n\u001b[1;32m    877\u001b[0m     \u001b[38;5;66;03m# this leads to cute decorator code but it is reliant on the\u001b[39;00m\n\u001b[1;32m    878\u001b[0m     \u001b[38;5;66;03m# superclasses not using multiple inheritence.\u001b[39;00m\n\u001b[1;32m    879\u001b[0m     \u001b[38;5;66;03m# It is entirely possible this will be a bad idea in the long run...\u001b[39;00m\n\u001b[1;32m    880\u001b[0m     \u001b[38;5;28;01mclass\u001b[39;00m \u001b[38;5;21;01mWrappedOp\u001b[39;00m(\u001b[38;5;28mcls\u001b[39m, WrappedOpSuper):\n",
      "\u001b[0;31mValueError\u001b[0m: @op_class cannot decorate a TypedExpr subclass (used on: `<class '__main__.PlusOp3'>`)"
     ]
    }
   ],
   "source": [
    "@meta.core.op_class(\"@\", Plus)\n",
    "class PlusOp3(meta.core.TypedExpr):\n",
    "    pass"
   ]
  },
  {
   "cell_type": "code",
   "execution_count": 73,
   "id": "f770275b-e2fc-4c13-8e9b-8d67e8fd039e",
   "metadata": {},
   "outputs": [
    {
     "data": {
      "text/html": [
       "<div align=\"left\" style=\"display:table;\"><div style=\"display:table-cell;vertical-align:top;padding-left:5px;padding-right:5px;padding-top:0.2em\"><div style=\"display:table;\"><div style=\"display:table-row;vertical-align:top;\"><div align=\"left\" style=\"display:table;border-collapse:collapse;\"><div style=\"display:table-row;border-bottom:1px solid #848482;\"><div style=\"display:table-cell;padding:0.2em 5px 0.2em 0px;vertical-align:top;\"></div><div style=\"display:table-cell;vertical-align:top;border-right:1px solid #848482;padding-right:5px;;padding-top:0.2em\"><div style=\"display:inline-block;\"><span>$\\textsf{1} @ \\textsf{3}$</span></div></div><div style=\"display:table-cell;vertical-align:top;padding-left:5px;padding-right:5px;padding-top:0.2em\"><div style=\"display:table;\"><div style=\"display:table-row;\"><div style=\"white-space:nowrap; color:blue;\"><span>Evaluation of operator `@`</span></div></div></div></div></div><div style=\"display:table-row;border-bottom:1px solid #848482;\"><div style=\"display:table-cell;padding:0.2em 5px 0.2em 0px;vertical-align:top;\"> 1. </div><div style=\"display:table-cell;vertical-align:top;border-right:1px solid #848482;padding-right:5px;;padding-top:0.2em\"><div style=\"display:inline-block;\"><span>${[\\lambda{} x_{n} \\: . \\: \\lambda{} y_{n} \\: . \\: {x} + {y}]}(\\textsf{1})(\\textsf{3})$</span></div></div><div style=\"display:table-cell;vertical-align:top;padding-left:5px;padding-right:5px;padding-top:0.2em\"><div style=\"display:table;\"><div style=\"display:table-row;\"><div style=\"white-space:nowrap; color:blue;\"><span>[Reduction]</span></div></div></div></div></div><div style=\"display:table-row;border-bottom:1px solid #848482;\"><div style=\"display:table-cell;padding:0.2em 5px 0.2em 0px;vertical-align:top;\"> 2. </div><div style=\"display:table-cell;vertical-align:top;border-right:1px solid #848482;padding-right:5px;;padding-top:0.2em\"><div style=\"display:inline-block;\"><span>${[\\lambda{} y_{n} \\: . \\: \\textsf{1} + {y}]}(\\textsf{3})$</span></div></div><div style=\"display:table-cell;vertical-align:top;padding-left:5px;padding-right:5px;padding-top:0.2em\"><div style=\"display:table;\"><div style=\"display:table-row;\"><div style=\"white-space:nowrap; color:blue;\"><span>Reduction</span></div></div></div></div></div><div style=\"display:table-row;border-bottom:1px solid #848482;\"><div style=\"display:table-cell;padding:0.2em 5px 0.2em 0px;vertical-align:top;\"> 3. </div><div style=\"display:table-cell;vertical-align:top;border-right:1px solid #848482;padding-right:5px;;padding-top:0.2em\"><div style=\"display:inline-block;\"><span>$\\textsf{1} + \\textsf{3}$</span></div></div><div style=\"display:table-cell;vertical-align:top;padding-left:5px;padding-right:5px;padding-top:0.2em\"><div style=\"display:table;\"><div style=\"display:table-row;\"><div style=\"white-space:nowrap; color:blue;\"><span>+</span></div></div></div></div></div><div style=\"display:table-row;\"><div style=\"display:table-cell;padding:0.2em 5px 0.2em 0px;vertical-align:top;\"> 4. </div><div style=\"display:table-cell;vertical-align:top;border-right:1px solid #848482;padding-right:5px;;padding-top:0.2em\"><div style=\"display:inline-block;\"><span>$\\textsf{4}$</span></div></div></div></div></div></div></div></div>"
      ],
      "text/plain": [
       " 1. ((1 @ 3))    (Evaluation of operator `@`)\n",
       " 2. (λ x_n: (λ y_n: ((x_n + y_n))))(1)(3)    ([Reduction])\n",
       " 3. (λ y_n: ((1 + y_n)))(3)    (Reduction)\n",
       " 4. ((1 + 3))    (+)\n",
       " 5. 4"
      ]
     },
     "execution_count": 73,
     "metadata": {},
     "output_type": "execute_result"
    }
   ],
   "source": [
    "PlusOp(te(\"1\"), te(\"3\")).simplify_all().derivation"
   ]
  },
  {
   "cell_type": "code",
   "execution_count": 74,
   "id": "1bb69fc8-f008-415b-bece-849a33605031",
   "metadata": {},
   "outputs": [
    {
     "data": {
      "text/latex": [
       "$\\left(n, n\\right)$"
      ],
      "text/plain": [
       "(n,n)"
      ]
     },
     "execution_count": 74,
     "metadata": {},
     "output_type": "execute_result"
    }
   ],
   "source": [
    "PlusOp.arg_signature"
   ]
  },
  {
   "cell_type": "code",
   "execution_count": 75,
   "id": "2f880d91-4f9e-4beb-a04a-dcb274db8a86",
   "metadata": {},
   "outputs": [
    {
     "name": "stderr",
     "output_type": "stream",
     "text": [
      "WARNING (core): New operator `@/(n,n)` replaces existing exact matching operator for `@`: Operator(@, @, arity: 2, signature: (n,n))\n"
     ]
    }
   ],
   "source": [
    "\n",
    "lamb.meta.core.registry.add_operator(PlusOp)"
   ]
  },
  {
   "cell_type": "code",
   "execution_count": 76,
   "id": "c63de1a1-078d-4823-89b4-f6b40330e454",
   "metadata": {},
   "outputs": [
    {
     "data": {
      "text/latex": [
       "$\\textsf{2} @ \\textsf{3}$"
      ],
      "text/plain": [
       "(2 @ 3)"
      ]
     },
     "execution_count": 76,
     "metadata": {},
     "output_type": "execute_result"
    }
   ],
   "source": [
    "%te 2 @ 3"
   ]
  },
  {
   "cell_type": "code",
   "execution_count": 77,
   "id": "f4f246f5-e23c-41b4-970e-9e55eb70710a",
   "metadata": {},
   "outputs": [
    {
     "data": {
      "text/plain": [
       "5"
      ]
     },
     "execution_count": 77,
     "metadata": {},
     "output_type": "execute_result"
    }
   ],
   "source": [
    "meta.meta.exec(te('2 @ x_n'), x=3)"
   ]
  },
  {
   "cell_type": "code",
   "execution_count": 78,
   "id": "218fc60c-374e-448b-b1b3-231324cd3576",
   "metadata": {},
   "outputs": [
    {
     "data": {
      "text/plain": [
       "5"
      ]
     },
     "execution_count": 78,
     "metadata": {},
     "output_type": "execute_result"
    }
   ],
   "source": [
    "meta.meta.exec(te('2 @ 3'))"
   ]
  },
  {
   "cell_type": "code",
   "execution_count": null,
   "id": "5dd6b010-6b2e-4094-a303-7073a5e3c180",
   "metadata": {},
   "outputs": [],
   "source": []
  },
  {
   "cell_type": "code",
   "execution_count": 79,
   "id": "9046ef96-fb59-4a5e-ad11-0357eb275417",
   "metadata": {},
   "outputs": [
    {
     "data": {
      "text/plain": [
       "5"
      ]
     },
     "execution_count": 79,
     "metadata": {},
     "output_type": "execute_result"
    }
   ],
   "source": [
    "Plus._compiled({})(te(\"2\")._compiled({}))(te(\"3\")._compiled({}))"
   ]
  },
  {
   "cell_type": "code",
   "execution_count": null,
   "id": "abcdca05-3cd2-4dbc-bce7-d3dab30594f5",
   "metadata": {},
   "outputs": [],
   "source": []
  },
  {
   "cell_type": "code",
   "execution_count": 80,
   "id": "b6904cd4-f445-4a0f-a4d9-e7ca47fbaf01",
   "metadata": {},
   "outputs": [
    {
     "data": {
      "text/plain": [
       "5"
      ]
     },
     "execution_count": 80,
     "metadata": {},
     "output_type": "execute_result"
    }
   ],
   "source": [
    "te('2 @ 3')._compiled({'x': 3})"
   ]
  },
  {
   "cell_type": "code",
   "execution_count": 81,
   "id": "9b402ca4-03c9-4be3-a9d0-f68376495699",
   "metadata": {},
   "outputs": [
    {
     "data": {
      "text/plain": [
       "5"
      ]
     },
     "execution_count": 81,
     "metadata": {},
     "output_type": "execute_result"
    }
   ],
   "source": [
    "meta.meta.exec(Plus)(3)(2)"
   ]
  },
  {
   "cell_type": "code",
   "execution_count": null,
   "id": "9636d701-daf9-4fd5-b30e-b12a877dee4b",
   "metadata": {},
   "outputs": [],
   "source": []
  },
  {
   "cell_type": "code",
   "execution_count": 82,
   "id": "95c2e1ec-b0b3-4a94-820b-1edd42808814",
   "metadata": {},
   "outputs": [
    {
     "data": {
      "text/markdown": [
       "${Set}_{\\left\\langle{}\\left\\langle{}s,t\\right\\rangle{},\\left\\{s\\right\\}\\right\\rangle{}}\\:=\\:\\lambda{} p_{\\left\\langle{}s,t\\right\\rangle{}} \\: . \\: \\{{w}_{s} \\:|\\: {p}({w}_{s})\\}$<br />\n",
       "${Down}_{\\left\\langle{}\\left\\{\\left\\{s\\right\\}\\right\\},\\left\\{\\left\\{s\\right\\}\\right\\}\\right\\rangle{}}\\:=\\:\\lambda{} p_{\\left\\{\\left\\{s\\right\\}\\right\\}} \\: . \\: \\{{q}_{\\left\\{s\\right\\}} \\:|\\: \\neg{} (\\forall{} x_{s} \\: . \\: \\neg{} ({x} \\in{} {q}_{\\left\\{s\\right\\}})) \\wedge{} (\\exists{} r_{\\left\\{s\\right\\}} \\in {\\small {p}_{\\left\\{\\left\\{s\\right\\}\\right\\}}} \\: . \\: {q}_{\\left\\{s\\right\\}} = ({q}_{\\left\\{s\\right\\}} \\cap{} {r}))\\}$<br />\n",
       "${DownGen}_{\\left\\langle{}\\left\\{\\left\\{X\\right\\}\\right\\},\\left\\{\\left\\{X\\right\\}\\right\\}\\right\\rangle{}}\\:=\\:\\lambda{} p_{\\left\\{\\left\\{X\\right\\}\\right\\}} \\: . \\: \\{{q}_{\\left\\{X\\right\\}} \\:|\\: \\neg{} (\\forall{} x_{X} \\: . \\: \\neg{} ({x} \\in{} {q}_{\\left\\{X\\right\\}})) \\wedge{} (\\exists{} r_{\\left\\{X\\right\\}} \\in {\\small {p}_{\\left\\{\\left\\{X\\right\\}\\right\\}}} \\: . \\: {q}_{\\left\\{X\\right\\}} = ({q}_{\\left\\{X\\right\\}} \\cap{} {r}))\\}$<br />\n",
       "${Neg}_{\\left\\langle{}\\left\\langle{}s,t\\right\\rangle{},\\left\\langle{}s,t\\right\\rangle{}\\right\\rangle{}}\\:=\\:\\lambda{} p_{\\left\\langle{}s,t\\right\\rangle{}} \\: . \\: \\lambda{} w_{s} \\: . \\: \\neg{} {p}({w})$"
      ],
      "text/plain": [
       "Set_<<s,t>,{s}> = (λ p_<s,t>: (Set w_s: p_<s,t>(w_s)))\n",
       "Down_<{{s}},{{s}}> = (λ p_{{s}}: (Set q_{s}: ((~(Forall x_s: ~((x_s << q_{s}))) & (Exists r_{s} << p_{{s}}: ((q_{s} <=> ((q_{s} & r_{s})))))))))\n",
       "DownGen_<{{X}},{{X}}> = (λ p_{{X}}: (Set q_{X}: ((~(Forall x_X: ~((x_X << q_{X}))) & (Exists r_{X} << p_{{X}}: ((q_{X} <=> ((q_{X} & r_{X})))))))))\n",
       "Neg_<<s,t>,<s,t>> = (λ p_<s,t>: (λ w_s: ~p_<s,t>(w_s)))"
      ]
     },
     "metadata": {},
     "output_type": "display_data"
    }
   ],
   "source": [
    "%%lamb\n",
    "Set = L p_<s,t> : Set w_s : p(w)\n",
    "Down = L p_{{s}} : Set q_{s} : ~(q <=> {}) & (Exists r_{s} << p : q <= r)\n",
    "DownGen = L p_{{X}} : Set q_{X} : ~(q <=> {}) & (Exists r_{X} << p : q <= r)\n",
    "Neg = L p_<s,t> : L w_s : ~p(w)"
   ]
  },
  {
   "cell_type": "code",
   "execution_count": 83,
   "id": "1488ec51-57cc-4af7-9815-d0b7135e8f89",
   "metadata": {},
   "outputs": [],
   "source": [
    "DownGenOp = meta.core.op_from_te(\"DownGen\", DownGen, canonical_name=\"-\", op_name_latex = \"\\\\downarrow \")"
   ]
  },
  {
   "cell_type": "code",
   "execution_count": 84,
   "id": "a08cd69f-6507-4e6c-b182-093a82ad8c72",
   "metadata": {},
   "outputs": [],
   "source": [
    "lamb.meta.core.registry.add_operator(DownGenOp)"
   ]
  },
  {
   "cell_type": "code",
   "execution_count": 85,
   "id": "c91f64e6-0d0f-46f4-8d17-c3fb68542a6d",
   "metadata": {},
   "outputs": [],
   "source": [
    "DownOp = meta.core.op_from_te(\"Down\", Down, canonical_name=\"-\", op_name_latex = \"\\\\downarrow \")\n",
    "lamb.meta.core.registry.add_operator(DownOp)"
   ]
  },
  {
   "cell_type": "code",
   "execution_count": 86,
   "id": "d43a0dbe-59fc-4eb0-b1a7-4278e29c2398",
   "metadata": {},
   "outputs": [
    {
     "data": {
      "text/latex": [
       "$\\downarrow  {p}_{\\left\\{\\left\\{s\\right\\}\\right\\}}$"
      ],
      "text/plain": [
       "-p_{{s}}"
      ]
     },
     "execution_count": 86,
     "metadata": {},
     "output_type": "execute_result"
    }
   ],
   "source": [
    "x = %te -p_{{s}}\n",
    "x"
   ]
  },
  {
   "cell_type": "code",
   "execution_count": 87,
   "id": "06b99270-e275-4d3c-8dcf-70bc3a84c86a",
   "metadata": {},
   "outputs": [
    {
     "data": {
      "text/plain": [
       "lamb.meta.core.op_from_te.<locals>.WrappedOp.Down"
      ]
     },
     "execution_count": 87,
     "metadata": {},
     "output_type": "execute_result"
    }
   ],
   "source": [
    "x.__class__"
   ]
  },
  {
   "cell_type": "code",
   "execution_count": 88,
   "id": "c421d3f0-648c-41a9-9ef9-17bd5a0a721d",
   "metadata": {},
   "outputs": [
    {
     "data": {
      "text/latex": [
       "$\\downarrow  {p}_{\\left\\{\\left\\{e\\right\\}\\right\\}}$"
      ],
      "text/plain": [
       "-p_{{e}}"
      ]
     },
     "execution_count": 88,
     "metadata": {},
     "output_type": "execute_result"
    }
   ],
   "source": [
    "y = %te -p_{{e}}\n",
    "y"
   ]
  },
  {
   "cell_type": "code",
   "execution_count": 89,
   "id": "9bd9934e-3332-49b9-a7ec-83c68cb086a8",
   "metadata": {},
   "outputs": [
    {
     "data": {
      "text/html": [
       "<div align=\"left\" style=\"display:table;\"><div style=\"display:table-cell;vertical-align:top;padding-left:5px;padding-right:5px;padding-top:0.2em\"><div style=\"display:table;\"><div style=\"display:table-row;vertical-align:top;\"><div align=\"left\" style=\"display:table;border-collapse:collapse;\"><div style=\"display:table-row;border-bottom:1px solid #848482;\"><div style=\"display:table-cell;padding:0.2em 5px 0.2em 0px;vertical-align:top;\"></div><div style=\"display:table-cell;vertical-align:top;border-right:1px solid #848482;padding-right:5px;;padding-top:0.2em\"><div style=\"display:inline-block;\"><span>$\\downarrow  {p}_{\\left\\{\\left\\{e\\right\\}\\right\\}}$</span></div></div><div style=\"display:table-cell;vertical-align:top;padding-left:5px;padding-right:5px;padding-top:0.2em\"><div style=\"display:table;\"><div style=\"display:table-row;\"><div style=\"white-space:nowrap; color:blue;\"><span>Evaluation of operator `-`</span></div></div></div></div></div><div style=\"display:table-row;border-bottom:1px solid #848482;\"><div style=\"display:table-cell;padding:0.2em 5px 0.2em 0px;vertical-align:top;\"> 1. </div><div style=\"display:table-cell;vertical-align:top;border-right:1px solid #848482;padding-right:5px;;padding-top:0.2em\"><div style=\"display:inline-block;\"><span>${[\\lambda{} p_{\\left\\{\\left\\{e\\right\\}\\right\\}} \\: . \\: \\{{q}_{\\left\\{e\\right\\}} \\:|\\: \\neg{} (\\forall{} x_{e} \\: . \\: \\neg{} ({x} \\in{} {q}_{\\left\\{e\\right\\}})) \\wedge{} (\\exists{} r_{\\left\\{e\\right\\}} \\in {\\small {p}_{\\left\\{\\left\\{e\\right\\}\\right\\}}} \\: . \\: {q}_{\\left\\{e\\right\\}} = ({q}_{\\left\\{e\\right\\}} \\cap{} {r}))\\}]}({p}_{\\left\\{\\left\\{e\\right\\}\\right\\}})$</span></div></div><div style=\"display:table-cell;vertical-align:top;padding-left:5px;padding-right:5px;padding-top:0.2em\"><div style=\"display:table;\"><div style=\"display:table-row;\"><div style=\"white-space:nowrap; color:blue;\"><span>Reduction</span></div></div></div></div></div><div style=\"display:table-row;\"><div style=\"display:table-cell;padding:0.2em 5px 0.2em 0px;vertical-align:top;\"> 2. </div><div style=\"display:table-cell;vertical-align:top;border-right:1px solid #848482;padding-right:5px;;padding-top:0.2em\"><div style=\"display:inline-block;\"><span>$\\{{q}_{\\left\\{e\\right\\}} \\:|\\: \\neg{} (\\forall{} x_{e} \\: . \\: \\neg{} ({x} \\in{} {q}_{\\left\\{e\\right\\}})) \\wedge{} (\\exists{} r_{\\left\\{e\\right\\}} \\in {\\small {p}_{\\left\\{\\left\\{e\\right\\}\\right\\}}} \\: . \\: {q}_{\\left\\{e\\right\\}} = ({q}_{\\left\\{e\\right\\}} \\cap{} {r}))\\}$</span></div></div></div></div></div></div></div></div>"
      ],
      "text/plain": [
       " 1. -p_{{e}}    (Evaluation of operator `-`)\n",
       " 2. (λ p_{{e}}: (Set q_{e}: ((~(Forall x_e: ~((x_e << q_{e}))) & (Exists r_{e} << p_{{e}}: ((q_{e} <=> ((q_{e} & r_{e})))))))))(p_{{e}})    (Reduction)\n",
       " 3. (Set q_{e}: ((~(Forall x_e: ~((x_e << q_{e}))) & (Exists r_{e} << p_{{e}}: ((q_{e} <=> ((q_{e} & r_{e}))))))))"
      ]
     },
     "execution_count": 89,
     "metadata": {},
     "output_type": "execute_result"
    }
   ],
   "source": [
    "y.simplify().derivation"
   ]
  },
  {
   "cell_type": "code",
   "execution_count": 90,
   "id": "53a596b1-a9ae-4ea7-b97c-ece9d0475f1d",
   "metadata": {},
   "outputs": [
    {
     "data": {
      "text/html": [
       "<div align=\"left\" style=\"display:table;\"><div style=\"display:table-cell;vertical-align:top;padding-left:5px;padding-right:5px;padding-top:0.2em\"><div style=\"display:table;\"><div style=\"display:table-row;vertical-align:top;\"><div align=\"left\" style=\"display:table;border-collapse:collapse;\"><div style=\"display:table-row;border-bottom:1px solid #848482;\"><div style=\"display:table-cell;padding:0.2em 5px 0.2em 0px;vertical-align:top;\"></div><div style=\"display:table-cell;vertical-align:top;border-right:1px solid #848482;padding-right:5px;;padding-top:0.2em\"><div style=\"display:inline-block;\"><span>$\\downarrow  {p}_{\\left\\{\\left\\{e\\right\\}\\right\\}}$</span></div></div><div style=\"display:table-cell;vertical-align:top;padding-left:5px;padding-right:5px;padding-top:0.2em\"><div style=\"display:table;\"><div style=\"display:table-row;\"><div style=\"white-space:nowrap; color:blue;\"><span>Evaluation of operator `-`</span></div></div></div></div></div><div style=\"display:table-row;border-bottom:1px solid #848482;\"><div style=\"display:table-cell;padding:0.2em 5px 0.2em 0px;vertical-align:top;\"> 1. </div><div style=\"display:table-cell;vertical-align:top;border-right:1px solid #848482;padding-right:5px;;padding-top:0.2em\"><div style=\"display:inline-block;\"><span>${[\\lambda{} p_{\\left\\{\\left\\{e\\right\\}\\right\\}} \\: . \\: \\{{q}_{\\left\\{e\\right\\}} \\:|\\: \\neg{} (\\forall{} x_{e} \\: . \\: \\neg{} ({x} \\in{} {q}_{\\left\\{e\\right\\}})) \\wedge{} (\\exists{} r_{\\left\\{e\\right\\}} \\in {\\small {p}_{\\left\\{\\left\\{e\\right\\}\\right\\}}} \\: . \\: {q}_{\\left\\{e\\right\\}} = ({q}_{\\left\\{e\\right\\}} \\cap{} {r}))\\}]}({p}_{\\left\\{\\left\\{e\\right\\}\\right\\}})$</span></div></div><div style=\"display:table-cell;vertical-align:top;padding-left:5px;padding-right:5px;padding-top:0.2em\"><div style=\"display:table;\"><div style=\"display:table-row;\"><div style=\"white-space:nowrap; color:blue;\"><span>Reduction</span></div></div></div></div></div><div style=\"display:table-row;border-bottom:1px solid #848482;\"><div style=\"display:table-cell;padding:0.2em 5px 0.2em 0px;vertical-align:top;\"> 2. </div><div style=\"display:table-cell;vertical-align:top;border-right:1px solid #848482;padding-right:5px;;padding-top:0.2em\"><div style=\"display:inline-block;\"><span>$\\{{q}_{\\left\\{e\\right\\}} \\:|\\: \\neg{} (\\forall{} x_{e} \\: . \\: \\neg{} ({x} \\in{} {q}_{\\left\\{e\\right\\}})) \\wedge{} (\\exists{} r_{\\left\\{e\\right\\}} \\in {\\small {p}_{\\left\\{\\left\\{e\\right\\}\\right\\}}} \\: . \\: {q}_{\\left\\{e\\right\\}} = ({q}_{\\left\\{e\\right\\}} \\cap{} {r}))\\}$</span></div></div><div style=\"display:table-cell;vertical-align:top;padding-left:5px;padding-right:5px;padding-top:0.2em\"><div style=\"display:table;\"><div style=\"display:table-row;\"><div style=\"white-space:nowrap; color:blue;\"><span>[alphabetic normalization]</span></div></div></div></div></div><div style=\"display:table-row;\"><div style=\"display:table-cell;padding:0.2em 5px 0.2em 0px;vertical-align:top;\"> 3. </div><div style=\"display:table-cell;vertical-align:top;border-right:1px solid #848482;padding-right:5px;;padding-top:0.2em\"><div style=\"display:inline-block;\"><span>$\\{{q}_{\\left\\{e\\right\\}} \\:|\\: (\\exists{} r_{\\left\\{e\\right\\}} \\in {\\small {p}_{\\left\\{\\left\\{e\\right\\}\\right\\}}} \\: . \\: {q}_{\\left\\{e\\right\\}} = ({q}_{\\left\\{e\\right\\}} \\cap{} {r})) \\wedge{} \\neg{} (\\forall{} x_{e} \\: . \\: \\neg{} ({x} \\in{} {q}_{\\left\\{e\\right\\}}))\\}$</span></div></div></div></div></div></div></div></div>"
      ],
      "text/plain": [
       " 1. -p_{{e}}    (Evaluation of operator `-`)\n",
       " 2. (λ p_{{e}}: (Set q_{e}: ((~(Forall x_e: ~((x_e << q_{e}))) & (Exists r_{e} << p_{{e}}: ((q_{e} <=> ((q_{e} & r_{e})))))))))(p_{{e}})    (Reduction)\n",
       " 3. (Set q_{e}: ((~(Forall x_e: ~((x_e << q_{e}))) & (Exists r_{e} << p_{{e}}: ((q_{e} <=> ((q_{e} & r_{e}))))))))    ([alphabetic normalization])\n",
       " 4. (Set q_{e}: ((Exists r_{e} << p_{{e}}: ((q_{e} <=> ((q_{e} & r_{e}))))) & ~(Forall x_e: ~((x_e << q_{e})))))"
      ]
     },
     "execution_count": 90,
     "metadata": {},
     "output_type": "execute_result"
    }
   ],
   "source": [
    "y.simplify_all().derivation"
   ]
  },
  {
   "cell_type": "code",
   "execution_count": 91,
   "id": "d74770c3-0260-4508-b85b-d5d74be6e067",
   "metadata": {},
   "outputs": [
    {
     "data": {
      "text/plain": [
       "{'<=>': [Operator(<=>, BinaryGenericEqExpr, arity: 2, signature: (X,X)),\n",
       "  Operator(<=>, BinaryBiarrowExpr, arity: 2, signature: (t,t)),\n",
       "  Operator(<=>, SetEquivalence, arity: 2, signature: ({X},{X}))],\n",
       " '==': [Operator(<=>, BinaryGenericEqExpr, arity: 2, signature: (X,X)),\n",
       "  Operator(<=>, BinaryBiarrowExpr, arity: 2, signature: (t,t)),\n",
       "  Operator(<=>, SetEquivalence, arity: 2, signature: ({X},{X}))],\n",
       " '%': [Operator(<=>, BinaryGenericEqExpr, arity: 2, signature: (X,X)),\n",
       "  Operator(<=>, BinaryBiarrowExpr, arity: 2, signature: (t,t)),\n",
       "  Operator(<=>, SetEquivalence, arity: 2, signature: ({X},{X}))],\n",
       " '~': [Operator(~, UnaryNegExpr, arity: 1, signature: (t))],\n",
       " '&': [Operator(&, BinaryAndExpr, arity: 2, signature: (t,t)),\n",
       "  Operator(&, SetIntersection, arity: 2, signature: ({X},{X}))],\n",
       " '|': [Operator(|, BinaryOrExpr, arity: 2, signature: (t,t)),\n",
       "  Operator(|, SetUnion, arity: 2, signature: ({X},{X}))],\n",
       " '>>': [Operator(>>, BinaryArrowExpr, arity: 2, signature: (t,t))],\n",
       " '^': [Operator(^, BinaryNeqExpr, arity: 2, signature: (t,t))],\n",
       " '=/=': [Operator(^, BinaryNeqExpr, arity: 2, signature: (t,t))],\n",
       " '-': [Operator(-, UnaryNegativeExpr, arity: 1, signature: (n)),\n",
       "  Operator(-, BinaryMinusExpr, arity: 2, signature: (n,n)),\n",
       "  Operator(-, SetDifference, arity: 2, signature: ({X},{X})),\n",
       "  operator -(1) = (λ p_{{?105}}: (Set q_{?105}: ((~(Forall x_?105: ~((x_?105 << q_{?105}))) & (Exists r_{?105} << p_{{?105}}: ((q_{?105} <=> ((q_{?105} & r_{?105}))))))))),\n",
       "  operator -(1) = (λ p_{{s}}: (Set q_{s}: ((~(Forall x_s: ~((x_s << q_{s}))) & (Exists r_{s} << p_{{s}}: ((q_{s} <=> ((q_{s} & r_{s})))))))))],\n",
       " '+': [Operator(+, BinaryPlusExpr, arity: 2, signature: (n,n)),\n",
       "  operator +(1) = (λ x_n: (λ y_n: ((x_n + y_n))))],\n",
       " '<': [Operator(<, BinaryLExpr, arity: 2, signature: (n,n)),\n",
       "  Operator(<, SetProperSubset, arity: 2, signature: ({X},{X}))],\n",
       " '>': [Operator(>, BinaryGExpr, arity: 2, signature: (n,n)),\n",
       "  operator >(2) = (λ x_{?31}: (λ y_{?31}: ((y_{?31} < x_{?31}))))],\n",
       " '<=': [Operator(<=, BinaryLeqExpr, arity: 2, signature: (n,n)),\n",
       "  Operator(<=, SetSubset, arity: 2, signature: ({X},{X}))],\n",
       " '>=': [Operator(>=, BinaryGeqExpr, arity: 2, signature: (n,n)),\n",
       "  operator >=(2) = (λ x_{?27}: (λ y_{?27}: ((y_{?27} <= x_{?27}))))],\n",
       " '/': [Operator(/, BinaryDivExpr, arity: 2, signature: (n,n))],\n",
       " '*': [Operator(*, BinaryTimesExpr, arity: 2, signature: (n,n))],\n",
       " '**': [Operator(**, BinaryExpExpr, arity: 2, signature: (n,n))],\n",
       " '<<': [Operator(<<, SetContains, arity: 2, signature: (X,{X}))],\n",
       " '@': [operator @(2) = (λ x_n: (λ y_n: ((x_n + y_n))))]}"
      ]
     },
     "execution_count": 91,
     "metadata": {},
     "output_type": "execute_result"
    }
   ],
   "source": [
    "lamb.meta.core.registry"
   ]
  },
  {
   "cell_type": "code",
   "execution_count": null,
   "id": "133908c2-628e-46a7-9073-467bd19b6e62",
   "metadata": {},
   "outputs": [],
   "source": []
  },
  {
   "cell_type": "code",
   "execution_count": 92,
   "id": "3a387a94-1834-4973-a266-5db9b5e1f3ee",
   "metadata": {},
   "outputs": [
    {
     "name": "stderr",
     "output_type": "stream",
     "text": [
      "WARNING (core): New operator `-/({{s}})` replaces existing exact matching operator for `-`: Operator(-, Down, arity: 1, signature: ({{s}}))\n"
     ]
    },
    {
     "data": {
      "text/latex": [
       "$\\texttt{operator -(1)} = \\lambda{} p_{\\left\\{\\left\\{s\\right\\}\\right\\}} \\: . \\: \\{{q}_{\\left\\{s\\right\\}} \\:|\\: (\\exists{} r_{\\left\\{s\\right\\}} \\in {\\small {p}_{\\left\\{\\left\\{s\\right\\}\\right\\}}} \\: . \\: {q}_{\\left\\{s\\right\\}} = ({q}_{\\left\\{s\\right\\}} \\cap{} {r})) \\wedge{} \\neg{} (\\forall{} x_{s} \\: . \\: \\neg{} ({x} \\in{} {q}_{\\left\\{s\\right\\}}))\\}$"
      ],
      "text/plain": [
       "operator -(1) = (λ p_{{s}}: (Set q_{s}: ((Exists r_{s} << p_{{s}}: ((q_{s} <=> ((q_{s} & r_{s}))))) & ~(Forall x_s: ~((x_s << q_{s}))))))"
      ]
     },
     "metadata": {},
     "output_type": "display_data"
    }
   ],
   "source": [
    "%lamb operator -(1) = Down"
   ]
  },
  {
   "cell_type": "code",
   "execution_count": 93,
   "id": "6588c4a2-baad-4e5e-adea-83d8c581411d",
   "metadata": {},
   "outputs": [
    {
     "data": {
      "text/latex": [
       "$- {p}_{\\left\\{\\left\\{s\\right\\}\\right\\}}$"
      ],
      "text/plain": [
       "-p_{{s}}"
      ]
     },
     "execution_count": 93,
     "metadata": {},
     "output_type": "execute_result"
    }
   ],
   "source": [
    "x = %te -p_{{s}}\n",
    "x"
   ]
  },
  {
   "cell_type": "code",
   "execution_count": 94,
   "id": "7e75a3a0-e3b2-4dd7-b593-c6e6b074eaa4",
   "metadata": {},
   "outputs": [],
   "source": [
    "meta.core.registry.get_operators(tp(\"{{s}}\"), symbol='-', exact=True)[0].cls.op_name_latex='\\\\downarrow{}'"
   ]
  },
  {
   "cell_type": "code",
   "execution_count": 95,
   "id": "20e0906c-71a0-4892-90e1-4b3bdc9bbf1a",
   "metadata": {},
   "outputs": [
    {
     "data": {
      "text/latex": [
       "$\\downarrow{} {p}_{\\left\\{\\left\\{s\\right\\}\\right\\}}$"
      ],
      "text/plain": [
       "-p_{{s}}"
      ]
     },
     "execution_count": 95,
     "metadata": {},
     "output_type": "execute_result"
    }
   ],
   "source": [
    "%te -p_{{s}}"
   ]
  },
  {
   "cell_type": "code",
   "execution_count": null,
   "id": "246aa08a-03c4-4b79-baca-dc2593cc86d9",
   "metadata": {},
   "outputs": [],
   "source": []
  },
  {
   "cell_type": "code",
   "execution_count": 135,
   "id": "4931a118-031b-4397-acb1-53cbe757a48f",
   "metadata": {},
   "outputs": [],
   "source": [
    "reload_lamb()"
   ]
  },
  {
   "cell_type": "code",
   "execution_count": 139,
   "id": "26a7c15a-df40-487e-9870-36eedd20c5be",
   "metadata": {},
   "outputs": [
    {
     "data": {
      "text/plain": [
       "[Operator(<=>, BinaryGenericEqExpr, arity: 2, signature: (X,X)),\n",
       " Operator(<=>, SetEquivalence, arity: 2, signature: ({X},{X})),\n",
       " Operator(&, SetIntersection, arity: 2, signature: ({X},{X})),\n",
       " Operator(|, SetUnion, arity: 2, signature: ({X},{X})),\n",
       " Operator(-, SetDifference, arity: 2, signature: ({X},{X})),\n",
       " Operator(<, SetProperSubset, arity: 2, signature: ({X},{X})),\n",
       " Operator(>, SetProperSupset, arity: 2, signature: ({X},{X})),\n",
       " Operator(<=, SetSubset, arity: 2, signature: ({X},{X})),\n",
       " Operator(>=, SetSupset, arity: 2, signature: ({X},{X}))]"
      ]
     },
     "execution_count": 139,
     "metadata": {},
     "output_type": "execute_result"
    }
   ],
   "source": [
    "lamb.meta.core.registry.get_operators(tp(\"{X}\"), tp(\"{X}\"))"
   ]
  },
  {
   "cell_type": "code",
   "execution_count": 102,
   "id": "a870c9fb-b633-40b1-a126-8593cc219e4e",
   "metadata": {},
   "outputs": [
    {
     "data": {
      "text/plain": [
       "{'<=>': {2},\n",
       " '==': {2},\n",
       " '%': {2},\n",
       " '~': {1},\n",
       " '&': {2},\n",
       " '|': {2},\n",
       " '>>': {2},\n",
       " '^': {2},\n",
       " '=/=': {2},\n",
       " '-': {1, 2},\n",
       " '+': {1, 2},\n",
       " '<': {2},\n",
       " '>': {2},\n",
       " '<=': {2},\n",
       " '>=': {2},\n",
       " '/': {2},\n",
       " '*': {2},\n",
       " '**': {2},\n",
       " '<<': {2}}"
      ]
     },
     "execution_count": 102,
     "metadata": {},
     "output_type": "execute_result"
    }
   ],
   "source": [
    "{op: {x.arity for x in lamb.meta.core.registry.ops[op]} for op in lamb.meta.core.registry.ops}"
   ]
  },
  {
   "cell_type": "code",
   "execution_count": 83,
   "id": "4576eead-b805-4394-9a5a-e6aa40f5d29a",
   "metadata": {},
   "outputs": [
    {
     "data": {
      "text/markdown": [
       "${DownGen}_{\\left\\langle{}\\left\\{\\left\\{X\\right\\}\\right\\},\\left\\{\\left\\{X\\right\\}\\right\\}\\right\\rangle{}}\\:=\\:\\lambda{} p_{\\left\\{\\left\\{X\\right\\}\\right\\}} \\: . \\: \\{{q}_{\\left\\{X\\right\\}} \\:|\\: \\neg{} (\\forall{} x_{X} \\: . \\: \\neg{} ({x} \\in{} {q}_{\\left\\{X\\right\\}})) \\wedge{} (\\exists{} r_{\\left\\{X\\right\\}} \\in {\\small {p}_{\\left\\{\\left\\{X\\right\\}\\right\\}}} \\: . \\: {q}_{\\left\\{X\\right\\}} = ({q}_{\\left\\{X\\right\\}} \\cap{} {r}))\\}$"
      ],
      "text/plain": [
       "DownGen_<{{X}},{{X}}> = (λ p_{{X}}: (Set q_{X}: ((~(Forall x_X: ~((x_X << q_{X}))) & (Exists r_{X} << p_{{X}}: ((q_{X} <=> ((q_{X} & r_{X})))))))))"
      ]
     },
     "metadata": {},
     "output_type": "display_data"
    }
   ],
   "source": [
    "%lamb DownGen = L p_{{X}} : Set q_{X} : ~(q <=> {}) & (Exists r_{X} << p : q <= r)"
   ]
  },
  {
   "cell_type": "code",
   "execution_count": 85,
   "id": "b6c184a3-ad42-439b-aea1-09b56393d612",
   "metadata": {},
   "outputs": [
    {
     "name": "stderr",
     "output_type": "stream",
     "text": [
      "WARNING (core): New operator `-/({{X}})` replaces existing exact matching operator for `-`: Operator(-, DownGen, arity: 1, signature: ({{X}}))\n"
     ]
    }
   ],
   "source": [
    "DownOpGen = op_from_te(\"DownGen\", DownGen, canonical=\"-\", op_latex = \"\\\\downarrow \")\n",
    "DownOpGen.latex_operator_style = True\n",
    "lamb.meta.core.registry.add_operator(DownOpGen, tp(\"{{X}}\"))"
   ]
  },
  {
   "cell_type": "code",
   "execution_count": null,
   "id": "8b8ec863-9d79-463e-916b-872298585f17",
   "metadata": {},
   "outputs": [],
   "source": []
  },
  {
   "cell_type": "code",
   "execution_count": 64,
   "id": "980a1112-875a-4d00-b6b1-3a628465d8df",
   "metadata": {},
   "outputs": [
    {
     "data": {
      "text/plain": [
       "__main__.Down"
      ]
     },
     "execution_count": 64,
     "metadata": {},
     "output_type": "execute_result"
    }
   ],
   "source": [
    "x = %te -p_{{s}}\n",
    "x.__class__"
   ]
  },
  {
   "cell_type": "code",
   "execution_count": null,
   "id": "ed04cb6b-0c27-423e-9d76-7f497b3ae1ae",
   "metadata": {},
   "outputs": [],
   "source": []
  },
  {
   "cell_type": "code",
   "execution_count": 65,
   "id": "6f83b0ff-3aba-41af-94e8-2175e3e39466",
   "metadata": {},
   "outputs": [
    {
     "data": {
      "text/plain": [
       "lamb.meta.boolean.BinaryBiarrowExpr"
      ]
     },
     "execution_count": 65,
     "metadata": {},
     "output_type": "execute_result"
    }
   ],
   "source": [
    "x = %te x_t <=> y_X\n",
    "x.__class__"
   ]
  },
  {
   "cell_type": "code",
   "execution_count": 66,
   "id": "67868b52-d658-4fd8-b745-91fab61d7926",
   "metadata": {},
   "outputs": [
    {
     "data": {
      "text/plain": [
       "{Operator(-, UnaryNegativeExpr, arity: 1, signature: (n)): Operator(-, UnaryNegativeExpr, arity: 1, signature: (n)),\n",
       " Operator(-, BinaryMinusExpr, arity: 2, signature: (n,n)): Operator(-, BinaryMinusExpr, arity: 2, signature: (n,n)),\n",
       " Operator(-, SetDifference, arity: 2, signature: (None, None)): Operator(-, SetDifference, arity: 2, signature: (None, None)),\n",
       " Operator(-, DownGen, arity: 1, signature: ({{X}})): Operator(-, DownGen, arity: 1, signature: ({{X}})),\n",
       " Operator(-, Down, arity: 1, signature: ({{s}})): Operator(-, DownOp2, arity: 1, signature: ({{s}}))}"
      ]
     },
     "execution_count": 66,
     "metadata": {},
     "output_type": "execute_result"
    }
   ],
   "source": [
    "lamb.meta.core.registry.ops['-']"
   ]
  },
  {
   "cell_type": "code",
   "execution_count": null,
   "id": "2e1c1d1e-cda5-4cd3-a3f4-c7caa684c161",
   "metadata": {},
   "outputs": [],
   "source": []
  },
  {
   "cell_type": "code",
   "execution_count": null,
   "id": "41c0ad27-9721-4c9c-aec1-8e8e75b5bde8",
   "metadata": {},
   "outputs": [],
   "source": []
  },
  {
   "cell_type": "code",
   "execution_count": 348,
   "id": "9112b88a-46b7-4b4e-bb6d-c1b17c0be54d",
   "metadata": {},
   "outputs": [
    {
     "data": {
      "text/plain": [
       "__main__.Set"
      ]
     },
     "execution_count": 348,
     "metadata": {},
     "output_type": "execute_result"
    }
   ],
   "source": [
    "operator(\"Set\", Set)"
   ]
  },
  {
   "cell_type": "code",
   "execution_count": 349,
   "id": "6ad5a7b0-126e-4151-8249-1d1c66c5ad39",
   "metadata": {},
   "outputs": [
    {
     "data": {
      "text/latex": [
       "$\\{{w}_{s} \\:|\\: {p}_{\\left\\langle{}s,t\\right\\rangle{}}({w}_{s})\\}$"
      ],
      "text/plain": [
       "(Set w_s: p_<s,t>(w_s))"
      ]
     },
     "execution_count": 349,
     "metadata": {},
     "output_type": "execute_result"
    }
   ],
   "source": [
    "Set(te(\"p_<s,t>\")).simplify_all(reduce=True)"
   ]
  },
  {
   "cell_type": "code",
   "execution_count": 350,
   "id": "53f61241-bad0-4cd4-bc60-485dbca76b2f",
   "metadata": {},
   "outputs": [
    {
     "data": {
      "text/html": [
       "<div align=\"left\" style=\"display:table;\"><div style=\"display:table-cell;vertical-align:top;padding-left:5px;padding-right:5px;padding-top:0.2em\"><div style=\"display:table;\"><div style=\"display:table-row;vertical-align:top;\"><div align=\"left\" style=\"display:table;border-collapse:collapse;\"><div style=\"display:table-row;border-bottom:1px solid #848482;\"><div style=\"display:table-cell;padding:0.2em 5px 0.2em 0px;vertical-align:top;\"></div><div style=\"display:table-cell;vertical-align:top;border-right:1px solid #848482;padding-right:5px;;padding-top:0.2em\"><div style=\"display:inline-block;\"><span>$Set({p}_{\\left\\langle{}s,t\\right\\rangle{}})$</span></div></div><div style=\"display:table-cell;vertical-align:top;padding-left:5px;padding-right:5px;padding-top:0.2em\"><div style=\"display:table;\"><div style=\"display:table-row;\"><div style=\"white-space:nowrap; color:blue;\"><span>Evaluation of operator `Set`</span></div></div></div></div></div><div style=\"display:table-row;border-bottom:1px solid #848482;\"><div style=\"display:table-cell;padding:0.2em 5px 0.2em 0px;vertical-align:top;\"> 1. </div><div style=\"display:table-cell;vertical-align:top;border-right:1px solid #848482;padding-right:5px;;padding-top:0.2em\"><div style=\"display:inline-block;\"><span>${[\\lambda{} p_{\\left\\langle{}s,t\\right\\rangle{}} \\: . \\: \\{{w}_{s} \\:|\\: {p}({w}_{s})\\}]}({p}_{\\left\\langle{}s,t\\right\\rangle{}})$</span></div></div><div style=\"display:table-cell;vertical-align:top;padding-left:5px;padding-right:5px;padding-top:0.2em\"><div style=\"display:table;\"><div style=\"display:table-row;\"><div style=\"white-space:nowrap; color:blue;\"><span>Reduction</span></div></div></div></div></div><div style=\"display:table-row;\"><div style=\"display:table-cell;padding:0.2em 5px 0.2em 0px;vertical-align:top;\"> 2. </div><div style=\"display:table-cell;vertical-align:top;border-right:1px solid #848482;padding-right:5px;;padding-top:0.2em\"><div style=\"display:inline-block;\"><span>$\\{{w}_{s} \\:|\\: {p}_{\\left\\langle{}s,t\\right\\rangle{}}({w}_{s})\\}$</span></div></div></div></div></div></div></div></div>"
      ],
      "text/plain": [
       " 1. Set(p_<s,t>)    (Evaluation of operator `Set`)\n",
       " 2. (λ p_<s,t>: (Set w_s: p_<s,t>(w_s)))(p_<s,t>)    (Reduction)\n",
       " 3. (Set w_s: p_<s,t>(w_s))"
      ]
     },
     "execution_count": 350,
     "metadata": {},
     "output_type": "execute_result"
    }
   ],
   "source": [
    "operator(\"Set\", Set)(te(\"p_<s,t>\")).simplify_all().derivation"
   ]
  },
  {
   "cell_type": "code",
   "execution_count": 351,
   "id": "d59410ad-50f2-41d4-afce-d898e38d4086",
   "metadata": {},
   "outputs": [
    {
     "data": {
      "text/markdown": [
       "${Set2}_{\\left\\langle{}\\left(\\left\\langle{}s,t\\right\\rangle{}\\right),\\left\\{s\\right\\}\\right\\rangle{}}\\:=\\:\\lambda{} p_{\\left(\\left\\langle{}s,t\\right\\rangle{}\\right)} \\: . \\: \\{{w}_{s} \\:|\\: ({p}[\\textsf{0}])({w}_{s})\\}$"
      ],
      "text/plain": [
       "Set2_<(<s,t>),{s}> = (λ p_(<s,t>): (Set w_s: (p_(<s,t>)[0])(w_s)))"
      ]
     },
     "metadata": {},
     "output_type": "display_data"
    }
   ],
   "source": [
    "%lamb Set2 = L p_(<s,t>) : Set w_s : p[0](w)"
   ]
  },
  {
   "cell_type": "code",
   "execution_count": 352,
   "id": "11f03c72-e8fd-49e1-b4a0-ae66d78e43e4",
   "metadata": {},
   "outputs": [
    {
     "data": {
      "text/latex": [
       "$Set2({p}_{\\left\\langle{}s,t\\right\\rangle{}})$"
      ],
      "text/plain": [
       "Set2(p_<s,t>)"
      ]
     },
     "execution_count": 352,
     "metadata": {},
     "output_type": "execute_result"
    }
   ],
   "source": [
    "operator(\"Set2\", Set2)(te(\"p_<s,t>\"))"
   ]
  },
  {
   "cell_type": "code",
   "execution_count": 353,
   "id": "65c9e87c-db56-4887-aadb-5d2998d5e308",
   "metadata": {},
   "outputs": [
    {
     "data": {
      "text/html": [
       "<div align=\"left\" style=\"display:table;\"><div style=\"display:table-cell;vertical-align:top;padding-left:5px;padding-right:5px;padding-top:0.2em\"><div style=\"display:table;\"><div style=\"display:table-row;vertical-align:top;\"><div align=\"left\" style=\"display:table;border-collapse:collapse;\"><div style=\"display:table-row;border-bottom:1px solid #848482;\"><div style=\"display:table-cell;padding:0.2em 5px 0.2em 0px;vertical-align:top;\"></div><div style=\"display:table-cell;vertical-align:top;border-right:1px solid #848482;padding-right:5px;;padding-top:0.2em\"><div style=\"display:inline-block;\"><span>$Set2({p}_{\\left\\langle{}s,t\\right\\rangle{}})$</span></div></div><div style=\"display:table-cell;vertical-align:top;padding-left:5px;padding-right:5px;padding-top:0.2em\"><div style=\"display:table;\"><div style=\"display:table-row;\"><div style=\"white-space:nowrap; color:blue;\"><span>Evaluation of operator `Set2`</span></div></div></div></div></div><div style=\"display:table-row;border-bottom:1px solid #848482;\"><div style=\"display:table-cell;padding:0.2em 5px 0.2em 0px;vertical-align:top;\"> 1. </div><div style=\"display:table-cell;vertical-align:top;border-right:1px solid #848482;padding-right:5px;;padding-top:0.2em\"><div style=\"display:inline-block;\"><span>${[\\lambda{} p_{\\left(\\left\\langle{}s,t\\right\\rangle{}\\right)} \\: . \\: \\{{w}_{s} \\:|\\: ({p}[\\textsf{0}])({w}_{s})\\}]}({p}_{\\left\\langle{}s,t\\right\\rangle{}})$</span></div></div><div style=\"display:table-cell;vertical-align:top;padding-left:5px;padding-right:5px;padding-top:0.2em\"><div style=\"display:table;\"><div style=\"display:table-row;\"><div style=\"white-space:nowrap; color:blue;\"><span>Reduction</span></div></div></div></div></div><div style=\"display:table-row;border-bottom:1px solid #848482;\"><div style=\"display:table-cell;padding:0.2em 5px 0.2em 0px;vertical-align:top;\"> 2. </div><div style=\"display:table-cell;vertical-align:top;border-right:1px solid #848482;padding-right:5px;;padding-top:0.2em\"><div style=\"display:inline-block;\"><span>$\\{{w}_{s} \\:|\\: (({p}_{\\left\\langle{}s,t\\right\\rangle{}})[\\textsf{0}])({w}_{s})\\}$</span></div></div><div style=\"display:table-cell;vertical-align:top;padding-left:5px;padding-right:5px;padding-top:0.2em\"><div style=\"display:table;\"><div style=\"display:table-row;\"><div style=\"white-space:nowrap; color:blue;\"><span>[[Resolution of index]]</span></div></div></div></div></div><div style=\"display:table-row;\"><div style=\"display:table-cell;padding:0.2em 5px 0.2em 0px;vertical-align:top;\"> 3. </div><div style=\"display:table-cell;vertical-align:top;border-right:1px solid #848482;padding-right:5px;;padding-top:0.2em\"><div style=\"display:inline-block;\"><span>$\\{{w}_{s} \\:|\\: {p}_{\\left\\langle{}s,t\\right\\rangle{}}({w}_{s})\\}$</span></div></div></div></div></div></div></div></div>"
      ],
      "text/plain": [
       " 1. Set2(p_<s,t>)    (Evaluation of operator `Set2`)\n",
       " 2. (λ p_(<s,t>): (Set w_s: (p_(<s,t>)[0])(w_s)))(p_<s,t>)    (Reduction)\n",
       " 3. (Set w_s: ((p_<s,t>)[0])(w_s))    ([[Resolution of index]])\n",
       " 4. (Set w_s: p_<s,t>(w_s))"
      ]
     },
     "execution_count": 353,
     "metadata": {},
     "output_type": "execute_result"
    }
   ],
   "source": [
    "operator(\"Set2\", Set2)(te(\"p_<s,t>\")).simplify_all().derivation"
   ]
  },
  {
   "cell_type": "code",
   "execution_count": 140,
   "id": "58256bcc-ee9c-48d1-bcc4-24de3b5984ae",
   "metadata": {},
   "outputs": [
    {
     "data": {
      "text/markdown": [
       "${Plus}_{\\left\\langle{}n,\\left\\langle{}n,n\\right\\rangle{}\\right\\rangle{}}\\:=\\:\\lambda{} x_{n} \\: . \\: \\lambda{} y_{n} \\: . \\: {x} + {y}$"
      ],
      "text/plain": [
       "Plus_<n,<n,n>> = (λ x_n: (λ y_n: ((x_n + y_n))))"
      ]
     },
     "metadata": {},
     "output_type": "display_data"
    }
   ],
   "source": [
    "%lamb Plus = L x_n : L y_n : x + y"
   ]
  },
  {
   "cell_type": "code",
   "execution_count": 143,
   "id": "c5e0dd75-0292-4f99-83e8-a9eea82431eb",
   "metadata": {},
   "outputs": [
    {
     "data": {
      "text/latex": [
       "$Plus (\\textsf{2}, \\textsf{3})$"
      ],
      "text/plain": [
       "Plus(2, 3)"
      ]
     },
     "execution_count": 143,
     "metadata": {},
     "output_type": "execute_result"
    }
   ],
   "source": [
    "op_from_te(\"Plus\", Plus)(te(\"2\"), te(\"3\")) #.simplify_all().derivation"
   ]
  },
  {
   "cell_type": "code",
   "execution_count": 144,
   "id": "ad2ae9f7-9a92-47ea-8b0d-845b463b588c",
   "metadata": {},
   "outputs": [
    {
     "data": {
      "text/html": [
       "<div align=\"left\" style=\"display:table;\"><div style=\"display:table-cell;vertical-align:top;padding-left:5px;padding-right:5px;padding-top:0.2em\"><div style=\"display:table;\"><div style=\"display:table-row;vertical-align:top;\"><div align=\"left\" style=\"display:table;border-collapse:collapse;\"><div style=\"display:table-row;border-bottom:1px solid #848482;\"><div style=\"display:table-cell;padding:0.2em 5px 0.2em 0px;vertical-align:top;\"></div><div style=\"display:table-cell;vertical-align:top;border-right:1px solid #848482;padding-right:5px;;padding-top:0.2em\"><div style=\"display:inline-block;\"><span>$(\\textsf{2} + \\textsf{3})$</span></div></div><div style=\"display:table-cell;vertical-align:top;padding-left:5px;padding-right:5px;padding-top:0.2em\"><div style=\"display:table;\"><div style=\"display:table-row;\"><div style=\"white-space:nowrap; color:blue;\"><span>Evaluation of operator `Plus`</span></div></div></div></div></div><div style=\"display:table-row;border-bottom:1px solid #848482;\"><div style=\"display:table-cell;padding:0.2em 5px 0.2em 0px;vertical-align:top;\"> 1. </div><div style=\"display:table-cell;vertical-align:top;border-right:1px solid #848482;padding-right:5px;;padding-top:0.2em\"><div style=\"display:inline-block;\"><span>${[\\lambda{} x_{n} \\: . \\: \\lambda{} y_{n} \\: . \\: {x} + {y}]}(\\textsf{2})(\\textsf{3})$</span></div></div><div style=\"display:table-cell;vertical-align:top;padding-left:5px;padding-right:5px;padding-top:0.2em\"><div style=\"display:table;\"><div style=\"display:table-row;\"><div style=\"white-space:nowrap; color:blue;\"><span>[Reduction]</span></div></div></div></div></div><div style=\"display:table-row;border-bottom:1px solid #848482;\"><div style=\"display:table-cell;padding:0.2em 5px 0.2em 0px;vertical-align:top;\"> 2. </div><div style=\"display:table-cell;vertical-align:top;border-right:1px solid #848482;padding-right:5px;;padding-top:0.2em\"><div style=\"display:inline-block;\"><span>${[\\lambda{} y_{n} \\: . \\: \\textsf{2} + {y}]}(\\textsf{3})$</span></div></div><div style=\"display:table-cell;vertical-align:top;padding-left:5px;padding-right:5px;padding-top:0.2em\"><div style=\"display:table;\"><div style=\"display:table-row;\"><div style=\"white-space:nowrap; color:blue;\"><span>Reduction</span></div></div></div></div></div><div style=\"display:table-row;border-bottom:1px solid #848482;\"><div style=\"display:table-cell;padding:0.2em 5px 0.2em 0px;vertical-align:top;\"> 3. </div><div style=\"display:table-cell;vertical-align:top;border-right:1px solid #848482;padding-right:5px;;padding-top:0.2em\"><div style=\"display:inline-block;\"><span>$\\textsf{2} + \\textsf{3}$</span></div></div><div style=\"display:table-cell;vertical-align:top;padding-left:5px;padding-right:5px;padding-top:0.2em\"><div style=\"display:table;\"><div style=\"display:table-row;\"><div style=\"white-space:nowrap; color:blue;\"><span>+</span></div></div></div></div></div><div style=\"display:table-row;\"><div style=\"display:table-cell;padding:0.2em 5px 0.2em 0px;vertical-align:top;\"> 4. </div><div style=\"display:table-cell;vertical-align:top;border-right:1px solid #848482;padding-right:5px;;padding-top:0.2em\"><div style=\"display:inline-block;\"><span>$\\textsf{5}$</span></div></div></div></div></div></div></div></div>"
      ],
      "text/plain": [
       " 1. (2 + 3)    (Evaluation of operator `Plus`)\n",
       " 2. (λ x_n: (λ y_n: ((x_n + y_n))))(2)(3)    ([Reduction])\n",
       " 3. (λ y_n: ((2 + y_n)))(3)    (Reduction)\n",
       " 4. ((2 + 3))    (+)\n",
       " 5. 5"
      ]
     },
     "execution_count": 144,
     "metadata": {},
     "output_type": "execute_result"
    }
   ],
   "source": [
    "op_from_te(\"Plus\", Plus)(te(\"2\"), te(\"3\")).simplify_all().derivation"
   ]
  },
  {
   "cell_type": "code",
   "execution_count": 357,
   "id": "7310f6e7-5fed-4ff7-bc27-20bafe3f7602",
   "metadata": {},
   "outputs": [
    {
     "data": {
      "text/markdown": [
       "${Plus2}_{\\left\\langle{}\\left(n, n\\right),n\\right\\rangle{}}\\:=\\:\\lambda{} a_{\\left(n, n\\right)} \\: . \\: ({a}[\\textsf{0}]) + ({a}[\\textsf{1}])$"
      ],
      "text/plain": [
       "Plus2_<(n,n),n> = (λ a_(n,n): ((a_(n,n)[0]) + (a_(n,n)[1])))"
      ]
     },
     "metadata": {},
     "output_type": "display_data"
    }
   ],
   "source": [
    "%lamb Plus2 = L a_(n,n) : a[0] + a[1]"
   ]
  },
  {
   "cell_type": "code",
   "execution_count": 358,
   "id": "f90e762a-1360-49bf-beae-0c45ae3301b2",
   "metadata": {},
   "outputs": [
    {
     "data": {
      "text/latex": [
       "$Plus2 (\\textsf{2}, \\textsf{3})$"
      ],
      "text/plain": [
       "Plus2(2, 3)"
      ]
     },
     "execution_count": 358,
     "metadata": {},
     "output_type": "execute_result"
    }
   ],
   "source": [
    "operator(\"Plus2\", Plus2)(te(\"2\"), te(\"3\"))"
   ]
  },
  {
   "cell_type": "code",
   "execution_count": 359,
   "id": "83bae287-97c5-4cfc-902a-75299f73d11b",
   "metadata": {},
   "outputs": [
    {
     "data": {
      "text/html": [
       "<div align=\"left\" style=\"display:table;\"><div style=\"display:table-cell;vertical-align:top;padding-left:5px;padding-right:5px;padding-top:0.2em\"><div style=\"display:table;\"><div style=\"display:table-row;vertical-align:top;\"><div align=\"left\" style=\"display:table;border-collapse:collapse;\"><div style=\"display:table-row;border-bottom:1px solid #848482;\"><div style=\"display:table-cell;padding:0.2em 5px 0.2em 0px;vertical-align:top;\"></div><div style=\"display:table-cell;vertical-align:top;border-right:1px solid #848482;padding-right:5px;;padding-top:0.2em\"><div style=\"display:inline-block;\"><span>$Plus2 (\\textsf{2}, \\textsf{3})$</span></div></div><div style=\"display:table-cell;vertical-align:top;padding-left:5px;padding-right:5px;padding-top:0.2em\"><div style=\"display:table;\"><div style=\"display:table-row;\"><div style=\"white-space:nowrap; color:blue;\"><span>Evaluation of operator `Plus2`</span></div></div></div></div></div><div style=\"display:table-row;border-bottom:1px solid #848482;\"><div style=\"display:table-cell;padding:0.2em 5px 0.2em 0px;vertical-align:top;\"> 1. </div><div style=\"display:table-cell;vertical-align:top;border-right:1px solid #848482;padding-right:5px;;padding-top:0.2em\"><div style=\"display:inline-block;\"><span>${[\\lambda{} a_{\\left(n, n\\right)} \\: . \\: ({a}[\\textsf{0}]) + ({a}[\\textsf{1}])]}(\\textsf{2}, \\textsf{3})$</span></div></div><div style=\"display:table-cell;vertical-align:top;padding-left:5px;padding-right:5px;padding-top:0.2em\"><div style=\"display:table;\"><div style=\"display:table-row;\"><div style=\"white-space:nowrap; color:blue;\"><span>Reduction</span></div></div></div></div></div><div style=\"display:table-row;border-bottom:1px solid #848482;\"><div style=\"display:table-cell;padding:0.2em 5px 0.2em 0px;vertical-align:top;\"> 2. </div><div style=\"display:table-cell;vertical-align:top;border-right:1px solid #848482;padding-right:5px;;padding-top:0.2em\"><div style=\"display:inline-block;\"><span>$((\\textsf{2}, \\textsf{3})[\\textsf{0}]) + ((\\textsf{2}, \\textsf{3})[\\textsf{1}])$</span></div></div><div style=\"display:table-cell;vertical-align:top;padding-left:5px;padding-right:5px;padding-top:0.2em\"><div style=\"display:table;\"><div style=\"display:table-row;\"><div style=\"white-space:nowrap; color:blue;\"><span>[Resolution of index]</span></div></div></div></div></div><div style=\"display:table-row;border-bottom:1px solid #848482;\"><div style=\"display:table-cell;padding:0.2em 5px 0.2em 0px;vertical-align:top;\"> 3. </div><div style=\"display:table-cell;vertical-align:top;border-right:1px solid #848482;padding-right:5px;;padding-top:0.2em\"><div style=\"display:inline-block;\"><span>$\\textsf{2} + ((\\textsf{2}, \\textsf{3})[\\textsf{1}])$</span></div></div><div style=\"display:table-cell;vertical-align:top;padding-left:5px;padding-right:5px;padding-top:0.2em\"><div style=\"display:table;\"><div style=\"display:table-row;\"><div style=\"white-space:nowrap; color:blue;\"><span>[Resolution of index]</span></div></div></div></div></div><div style=\"display:table-row;border-bottom:1px solid #848482;\"><div style=\"display:table-cell;padding:0.2em 5px 0.2em 0px;vertical-align:top;\"> 4. </div><div style=\"display:table-cell;vertical-align:top;border-right:1px solid #848482;padding-right:5px;;padding-top:0.2em\"><div style=\"display:inline-block;\"><span>$\\textsf{2} + \\textsf{3}$</span></div></div><div style=\"display:table-cell;vertical-align:top;padding-left:5px;padding-right:5px;padding-top:0.2em\"><div style=\"display:table;\"><div style=\"display:table-row;\"><div style=\"white-space:nowrap; color:blue;\"><span>+</span></div></div></div></div></div><div style=\"display:table-row;\"><div style=\"display:table-cell;padding:0.2em 5px 0.2em 0px;vertical-align:top;\"> 5. </div><div style=\"display:table-cell;vertical-align:top;border-right:1px solid #848482;padding-right:5px;;padding-top:0.2em\"><div style=\"display:inline-block;\"><span>$\\textsf{5}$</span></div></div></div></div></div></div></div></div>"
      ],
      "text/plain": [
       " 1. Plus2(2, 3)    (Evaluation of operator `Plus2`)\n",
       " 2. (λ a_(n,n): ((a_(n,n)[0]) + (a_(n,n)[1])))(2, 3)    (Reduction)\n",
       " 3. (((2, 3)[0]) + ((2, 3)[1]))    ([Resolution of index])\n",
       " 4. ((2 + ((2, 3)[1])))    ([Resolution of index])\n",
       " 5. ((2 + 3))    (+)\n",
       " 6. 5"
      ]
     },
     "execution_count": 359,
     "metadata": {},
     "output_type": "execute_result"
    }
   ],
   "source": [
    "operator(\"Plus2\", Plus2)(te(\"2\"), te(\"3\")).simplify_all().derivation"
   ]
  },
  {
   "cell_type": "code",
   "execution_count": 360,
   "id": "25496526-902f-4f81-8380-ced52dcae3de",
   "metadata": {},
   "outputs": [
    {
     "data": {
      "text/html": [
       "<div align=\"left\" style=\"display:table;\"><div style=\"display:table-cell;vertical-align:top;padding-left:5px;padding-right:5px;padding-top:0.2em\"><div style=\"display:table;\"><div style=\"display:table-row;vertical-align:top;\"><div align=\"left\" style=\"display:table;border-collapse:collapse;\"><div style=\"display:table-row;border-bottom:1px solid #848482;\"><div style=\"display:table-cell;padding:0.2em 5px 0.2em 0px;vertical-align:top;\"></div><div style=\"display:table-cell;vertical-align:top;border-right:1px solid #848482;padding-right:5px;;padding-top:0.2em\"><div style=\"display:inline-block;\"><span>$\\oplus (\\textsf{2}, \\textsf{3})$</span></div></div><div style=\"display:table-cell;vertical-align:top;padding-left:5px;padding-right:5px;padding-top:0.2em\"><div style=\"display:table;\"><div style=\"display:table-row;\"><div style=\"white-space:nowrap; color:blue;\"><span>Evaluation of operator `Plus2`</span></div></div></div></div></div><div style=\"display:table-row;border-bottom:1px solid #848482;\"><div style=\"display:table-cell;padding:0.2em 5px 0.2em 0px;vertical-align:top;\"> 1. </div><div style=\"display:table-cell;vertical-align:top;border-right:1px solid #848482;padding-right:5px;;padding-top:0.2em\"><div style=\"display:inline-block;\"><span>${[\\lambda{} a_{\\left(n, n\\right)} \\: . \\: ({a}[\\textsf{0}]) + ({a}[\\textsf{1}])]}(\\textsf{2}, \\textsf{3})$</span></div></div><div style=\"display:table-cell;vertical-align:top;padding-left:5px;padding-right:5px;padding-top:0.2em\"><div style=\"display:table;\"><div style=\"display:table-row;\"><div style=\"white-space:nowrap; color:blue;\"><span>Reduction</span></div></div></div></div></div><div style=\"display:table-row;\"><div style=\"display:table-cell;padding:0.2em 5px 0.2em 0px;vertical-align:top;\"> 2. </div><div style=\"display:table-cell;vertical-align:top;border-right:1px solid #848482;padding-right:5px;;padding-top:0.2em\"><div style=\"display:inline-block;\"><span>$((\\textsf{2}, \\textsf{3})[\\textsf{0}]) + ((\\textsf{2}, \\textsf{3})[\\textsf{1}])$</span></div></div></div></div></div></div></div></div>"
      ],
      "text/plain": [
       " 1. Plus2(2, 3)    (Evaluation of operator `Plus2`)\n",
       " 2. (λ a_(n,n): ((a_(n,n)[0]) + (a_(n,n)[1])))(2, 3)    (Reduction)\n",
       " 3. (((2, 3)[0]) + ((2, 3)[1]))"
      ]
     },
     "execution_count": 360,
     "metadata": {},
     "output_type": "execute_result"
    }
   ],
   "source": [
    "operator(\"Plus2\", Plus2, op_latex=\"\\\\oplus\")(te(\"2\"), te(\"3\")).simplify().derivation"
   ]
  },
  {
   "cell_type": "code",
   "execution_count": null,
   "id": "c7f1645c-4c1f-468b-9bf2-8a47a25b3edc",
   "metadata": {},
   "outputs": [],
   "source": []
  },
  {
   "cell_type": "code",
   "execution_count": 343,
   "id": "91fa4e74-369e-4b1a-8e18-68f0af38819b",
   "metadata": {},
   "outputs": [
    {
     "data": {
      "text/plain": [
       "'Plus2(2, 3))'"
      ]
     },
     "execution_count": 343,
     "metadata": {},
     "output_type": "execute_result"
    }
   ],
   "source": [
    "repr(operator(\"Plus2\", Plus2, op_latex=\"\\\\oplus\")(te(\"2\"), te(\"3\")))"
   ]
  },
  {
   "cell_type": "code",
   "execution_count": null,
   "id": "1c327e8b-8c55-4fd5-9b78-4caffaccf57c",
   "metadata": {},
   "outputs": [],
   "source": []
  },
  {
   "cell_type": "code",
   "execution_count": null,
   "id": "bf0f178f-7f61-4e2c-a024-6fcbef4eeea2",
   "metadata": {},
   "outputs": [],
   "source": []
  },
  {
   "cell_type": "code",
   "execution_count": 32,
   "id": "23c7c1bf-0fdc-47e2-b726-d786f2ba8b27",
   "metadata": {},
   "outputs": [
    {
     "data": {
      "text/markdown": [
       "$[\\![\\text{\\textbf{Pol}}]\\!]^{}_{\\left\\langle{}\\left\\langle{}s,t\\right\\rangle{},\\left\\{\\left\\{s\\right\\}\\right\\}\\right\\rangle{}} \\:=\\: \\lambda{} p_{\\left\\langle{}s,t\\right\\rangle{}} \\: . \\: \\{{q}_{\\left\\{s\\right\\}} \\:|\\: (\\exists{} r_{\\left\\{s\\right\\}} \\in {\\small \\{{q}_{\\left\\{s\\right\\}} \\:|\\: ({q}_{\\left\\{s\\right\\}} = \\{{w}_{s} \\:|\\: {p}_{\\left\\langle{}s,t\\right\\rangle{}}({w}_{s})\\}) \\vee{} ({q}_{\\left\\{s\\right\\}} = \\{{w}_{s} \\:|\\: \\neg{} {p}_{\\left\\langle{}s,t\\right\\rangle{}}({w}_{s})\\})\\}} \\: . \\: {q}_{\\left\\{s\\right\\}} = ({q}_{\\left\\{s\\right\\}} \\cap{} {r})) \\wedge{} \\neg{} (\\forall{} x_{s} \\: . \\: \\neg{} ({x} \\in{} {q}_{\\left\\{s\\right\\}}))\\}$<br />\n",
       "$[\\![\\text{\\textbf{rain}}]\\!]^{}_{\\left\\langle{}s,t\\right\\rangle{}} \\:=\\: {Rain}_{\\left\\langle{}s,t\\right\\rangle{}}$<br />\n",
       "$[\\![\\text{\\textbf{snow}}]\\!]^{}_{\\left\\langle{}s,t\\right\\rangle{}} \\:=\\: {Snow}_{\\left\\langle{}s,t\\right\\rangle{}}$"
      ],
      "text/plain": [
       "⟦Pol⟧ = (λ p_<s,t>: (Set q_{s}: ((Exists r_{s} << (Set q_{s}: ((q_{s} <=> (Set w_s: p_<s,t>(w_s))) | (q_{s} <=> (Set w_s: ~p_<s,t>(w_s))))): (q_{s} <=> (q_{s} & r_{s}))) & ~(Forall x_s: ~(x_s << q_{s})))))\n",
       "⟦rain⟧ = Rain_<s,t>\n",
       "⟦snow⟧ = Snow_<s,t>"
      ]
     },
     "metadata": {},
     "output_type": "display_data"
    }
   ],
   "source": [
    "%%lamb\n",
    "||Pol|| = L p_<s,t> : Down(Set q_{s} : q <=> Set(p) | q <=> Set(Neg(p)))\n",
    "||rain|| = Rain_<s,t>\n",
    "||snow|| = Snow_<s,t>"
   ]
  },
  {
   "cell_type": "code",
   "execution_count": null,
   "id": "3fd7a15d-798b-4282-962b-d989e6b1df0b",
   "metadata": {},
   "outputs": [],
   "source": []
  },
  {
   "cell_type": "code",
   "execution_count": null,
   "id": "e2d1ec21-696f-48b2-8348-cbf02cdcb735",
   "metadata": {},
   "outputs": [],
   "source": []
  },
  {
   "cell_type": "code",
   "execution_count": null,
   "id": "6de52f08-7abe-40cc-aaff-07189b784cc9",
   "metadata": {},
   "outputs": [],
   "source": []
  },
  {
   "cell_type": "code",
   "execution_count": 44,
   "id": "f9650d14-68d2-4019-aa86-c2319d53f8cd",
   "metadata": {},
   "outputs": [
    {
     "data": {
      "text/latex": [
       "$\\forall{}\\left(X, X\\right)$"
      ],
      "text/plain": [
       "∀(X,X)"
      ]
     },
     "execution_count": 44,
     "metadata": {},
     "output_type": "execute_result"
    }
   ],
   "source": [
    "a = tp(\"∀(X,X)\")\n",
    "a"
   ]
  },
  {
   "cell_type": "code",
   "execution_count": 92,
   "id": "c89d0e54-c19f-46c5-b690-00852378a633",
   "metadata": {},
   "outputs": [
    {
     "data": {
      "text/latex": [
       "$\\left(X, X\\right)$"
      ],
      "text/plain": [
       "(X,X)"
      ]
     },
     "execution_count": 92,
     "metadata": {},
     "output_type": "execute_result"
    }
   ],
   "source": [
    "a2 = tp(\"(X,X)\")\n",
    "a2"
   ]
  },
  {
   "cell_type": "code",
   "execution_count": 45,
   "id": "b8bc5fd8-efac-427f-9887-eeeff9b1e7e0",
   "metadata": {},
   "outputs": [
    {
     "data": {
      "text/latex": [
       "$\\left(\\left\\{Y\\right\\}, \\left\\{Y\\right\\}\\right)$"
      ],
      "text/plain": [
       "({Y},{Y})"
      ]
     },
     "execution_count": 45,
     "metadata": {},
     "output_type": "execute_result"
    }
   ],
   "source": [
    "b = tp(\"({Y},{Y})\")\n",
    "b"
   ]
  },
  {
   "cell_type": "code",
   "execution_count": 46,
   "id": "bebbbd54-9dd6-4347-8dec-2409a6a4c6cb",
   "metadata": {},
   "outputs": [
    {
     "data": {
      "text/latex": [
       "$\\left(t, t\\right)$"
      ],
      "text/plain": [
       "(t,t)"
      ]
     },
     "execution_count": 46,
     "metadata": {},
     "output_type": "execute_result"
    }
   ],
   "source": [
    "c = tp(\"(t,t)\")\n",
    "c"
   ]
  },
  {
   "cell_type": "code",
   "execution_count": 47,
   "id": "e8aa70ac-f37c-4fcc-9664-9aebf1849e40",
   "metadata": {},
   "outputs": [
    {
     "data": {
      "text/latex": [
       "$\\left(\\left\\{t\\right\\}, \\left\\{t\\right\\}\\right)$"
      ],
      "text/plain": [
       "({t},{t})"
      ]
     },
     "execution_count": 47,
     "metadata": {},
     "output_type": "execute_result"
    }
   ],
   "source": [
    "d = tp(\"({t},{t})\")\n",
    "d"
   ]
  },
  {
   "cell_type": "code",
   "execution_count": 48,
   "id": "73254c9c-4a35-48e7-976c-4343851d9daa",
   "metadata": {},
   "outputs": [
    {
     "data": {
      "text/latex": [
       "Type system with atomic types: $n, e, s, t$"
      ],
      "text/plain": [
       "<lamb.types.PolyTypeSystem at 0x1073e01d0>"
      ]
     },
     "execution_count": 48,
     "metadata": {},
     "output_type": "execute_result"
    }
   ],
   "source": [
    "meta.get_type_system()"
   ]
  },
  {
   "cell_type": "code",
   "execution_count": 101,
   "id": "9fce37c0-903b-42f4-b1a1-535c5598a72c",
   "metadata": {},
   "outputs": [],
   "source": [
    "ts = meta.get_type_system()\n",
    "def cmp(t1, t2):\n",
    "    try:\n",
    "        result = ts.unify_details(t1, t2)\n",
    "    except OccursCheckFailure as e:\n",
    "        return None\n",
    "\n",
    "    if result is None:\n",
    "        return None\n",
    "    # XX the need to call alpha_equiv here is unfortunate, but result.trivial\n",
    "    # on its own does not handl Forall types\n",
    "    if result.trivial and (not result.is_polymorphic() or ts.alpha_equiv(t1, t2)):\n",
    "        # either t1 and t2 compare equal concretely, or they are\n",
    "        # alpha equivalents\n",
    "        return 0\n",
    "    elif result.principal == t1:\n",
    "        return -1\n",
    "    elif result.principal == t2:\n",
    "        return 1\n",
    "    else:\n",
    "        # this can arise in cases where t1 and t2 unify, but aren't\n",
    "        # comparable, e.g. t1=(X,e) and t2=(e,Y). Treat as equal ranking.\n",
    "        return 0"
   ]
  },
  {
   "cell_type": "code",
   "execution_count": 102,
   "id": "c90bc68a-0a10-4ded-b0a0-215e2ffcb024",
   "metadata": {},
   "outputs": [
    {
     "data": {
      "text/latex": [
       "$\\left(\\left\\{t\\right\\}, \\left\\{t\\right\\}\\right)$"
      ],
      "text/plain": [
       "({t},{t})"
      ]
     },
     "execution_count": 102,
     "metadata": {},
     "output_type": "execute_result"
    }
   ],
   "source": [
    "meta.get_type_system().unify(a,d)"
   ]
  },
  {
   "cell_type": "code",
   "execution_count": 103,
   "id": "51723574-f99e-45f1-9d11-df51d4cde06f",
   "metadata": {},
   "outputs": [
    {
     "data": {
      "text/plain": [
       "-1"
      ]
     },
     "execution_count": 103,
     "metadata": {},
     "output_type": "execute_result"
    }
   ],
   "source": [
    "cmp(a2,a)"
   ]
  },
  {
   "cell_type": "code",
   "execution_count": 104,
   "id": "71d6c2cc-8e62-4d4c-b98a-ad8e12c673fe",
   "metadata": {},
   "outputs": [],
   "source": [
    "cmp(b,c)"
   ]
  },
  {
   "cell_type": "code",
   "execution_count": 105,
   "id": "43c9284c-bc74-448f-be76-42025f310927",
   "metadata": {},
   "outputs": [
    {
     "data": {
      "text/plain": [
       "1"
      ]
     },
     "execution_count": 105,
     "metadata": {},
     "output_type": "execute_result"
    }
   ],
   "source": [
    "cmp(b,d)"
   ]
  },
  {
   "cell_type": "code",
   "execution_count": null,
   "id": "8955650c-5943-4297-b1b5-f0b7f8a9a67e",
   "metadata": {},
   "outputs": [],
   "source": []
  },
  {
   "cell_type": "code",
   "execution_count": 106,
   "id": "66d4d10f-aab2-4f96-bc98-3990dfe1d3fc",
   "metadata": {},
   "outputs": [
    {
     "data": {
      "text/latex": [
       "$\\left(e, \\forall{}X, X\\right)$"
      ],
      "text/plain": [
       "(e,∀X,X)"
      ]
     },
     "execution_count": 106,
     "metadata": {},
     "output_type": "execute_result"
    }
   ],
   "source": [
    "types = (tp(\"e\"), None, tp(\"X\"))\n",
    "generic = lamb.types.VariableType.any()\n",
    "types = lamb.types.TupleType(*[generic if t is None else t for t in types])\n",
    "types"
   ]
  },
  {
   "cell_type": "code",
   "execution_count": 107,
   "id": "25b1e41f-0244-48f1-97ac-d56df90bee3b",
   "metadata": {},
   "outputs": [
    {
     "data": {
      "text/plain": [
       "0"
      ]
     },
     "execution_count": 107,
     "metadata": {},
     "output_type": "execute_result"
    }
   ],
   "source": [
    "cmp(tp(\"(e,X)\"), tp(\"(Y,e)\"))"
   ]
  },
  {
   "cell_type": "code",
   "execution_count": 108,
   "id": "d23937f3-47cf-43ee-8f71-2d970495a33e",
   "metadata": {},
   "outputs": [
    {
     "data": {
      "text/plain": [
       "1"
      ]
     },
     "execution_count": 108,
     "metadata": {},
     "output_type": "execute_result"
    }
   ],
   "source": [
    "cmp(tp(\"(e,X)\"), tp(\"(e,t)\"))"
   ]
  },
  {
   "cell_type": "code",
   "execution_count": 109,
   "id": "24aa5a7a-6ca4-4fbe-b1a8-767dc971ab19",
   "metadata": {},
   "outputs": [
    {
     "data": {
      "text/html": [
       "<table><tr><td>Principal type:&nbsp;&nbsp; </td><td>$\\left(X, e\\right)$</td></tr><tr><td>Inputs: </td><td>$\\left(Y, e\\right)$ and $\\left(X, e\\right)$</td></tr><tr><td>Mapping: </td><td>$\\{Y: X\\}$</td></tr></table>"
      ],
      "text/plain": [
       "(X,e)"
      ]
     },
     "execution_count": 109,
     "metadata": {},
     "output_type": "execute_result"
    }
   ],
   "source": [
    "meta.get_type_system().unify_details(tp(\"(Y,e)\"), tp(\"(X,e)\"))"
   ]
  },
  {
   "cell_type": "code",
   "execution_count": 86,
   "id": "7b01cbc4-6fda-49b7-af1d-8a699119721e",
   "metadata": {},
   "outputs": [
    {
     "data": {
      "text/html": [
       "<table><tr><td>Principal type:&nbsp;&nbsp; </td><td>$\\left(\\left\\{Y\\right\\}, \\left\\{Y\\right\\}\\right)$</td></tr><tr><td>Inputs: </td><td>$\\forall{}\\left(X, X\\right)$ and $\\left(\\left\\{Y\\right\\}, \\left\\{Y\\right\\}\\right)$</td></tr><tr><td>Mapping: </td><td>$\\{\\}$</td></tr></table>"
      ],
      "text/plain": [
       "({Y},{Y})"
      ]
     },
     "execution_count": 86,
     "metadata": {},
     "output_type": "execute_result"
    }
   ],
   "source": [
    "r = meta.get_type_system().unify_details(a,b)\n",
    "r"
   ]
  },
  {
   "cell_type": "code",
   "execution_count": 77,
   "id": "968d33a1-57a9-4092-84a7-c9fc5e58ee6d",
   "metadata": {},
   "outputs": [
    {
     "data": {
      "text/plain": [
       "True"
      ]
     },
     "execution_count": 77,
     "metadata": {},
     "output_type": "execute_result"
    }
   ],
   "source": [
    "r.trivial"
   ]
  },
  {
   "cell_type": "code",
   "execution_count": 46,
   "id": "02d35b11-d457-49ff-bf99-3b66f51f84f6",
   "metadata": {},
   "outputs": [],
   "source": [
    "reload_lamb()"
   ]
  },
  {
   "cell_type": "code",
   "execution_count": 47,
   "id": "cba68b75-f5b0-491c-8061-5760ab003e54",
   "metadata": {},
   "outputs": [
    {
     "data": {
      "text/latex": [
       "${x}_{\\left\\{e\\right\\}} \\supseteq{} {y}_{\\left\\{e\\right\\}}$"
      ],
      "text/plain": [
       "(x_{e} ⊇ y_{e})"
      ]
     },
     "execution_count": 47,
     "metadata": {},
     "output_type": "execute_result"
    }
   ],
   "source": [
    "%te x_{e} >= y_{e}"
   ]
  },
  {
   "cell_type": "code",
   "execution_count": 138,
   "id": "d9a91e94-2fa7-4041-917c-87391348121f",
   "metadata": {},
   "outputs": [],
   "source": [
    "s1 = te(\"Set x_e : x << {_c1, _c2}\")\n",
    "s2 = te(\"Set x_e : ~(x == _c1)\")\n",
    "s3 = te(\"{_c1, _c2, _c3}\")\n",
    "s4 = te(\"{_c0, _c2, _c3}\")\n",
    "s5 = te({'_c2', '_c3'})"
   ]
  },
  {
   "cell_type": "code",
   "execution_count": 139,
   "id": "bb363e52-af02-40f1-bc1f-5510a839f1a7",
   "metadata": {},
   "outputs": [
    {
     "name": "stdout",
     "output_type": "stream",
     "text": [
      "True\n"
     ]
    }
   ],
   "source": [
    "with types.type_e.restrict_domain({'c0', 'c1','c2', 'c3'}):\n",
    "    print(meta.exec((s2 & s3) >= s5))"
   ]
  },
  {
   "cell_type": "code",
   "execution_count": 140,
   "id": "9c440e06-71e4-4b81-82e1-3d2ccc3ec164",
   "metadata": {},
   "outputs": [
    {
     "data": {
      "text/html": [
       "<div align=\"left\" style=\"display:table;\"><div style=\"display:table-cell;vertical-align:top;padding-left:5px;padding-right:5px;padding-top:0.2em\"><div style=\"display:table;\"><div style=\"display:table-row;vertical-align:top;\"><div align=\"left\" style=\"display:table;border-collapse:collapse;\"><div style=\"display:table-row;border-bottom:1px solid #848482;\"><div style=\"display:table-cell;padding:0.2em 5px 0.2em 0px;vertical-align:top;\"></div><div style=\"display:table-cell;vertical-align:top;border-right:1px solid #848482;padding-right:5px;;padding-top:0.2em\"><div style=\"display:inline-block;\"><span>${x}_{\\left\\{e\\right\\}} \\supseteq{} {y}_{\\left\\{e\\right\\}}$</span></div></div><div style=\"display:table-cell;vertical-align:top;padding-left:5px;padding-right:5px;padding-top:0.2em\"><div style=\"display:table;\"><div style=\"display:table-row;\"><div style=\"white-space:nowrap; color:blue;\"><span>Evaluation of operator `⊇`</span></div></div></div></div></div><div style=\"display:table-row;border-bottom:1px solid #848482;\"><div style=\"display:table-cell;padding:0.2em 5px 0.2em 0px;vertical-align:top;\"> 1. </div><div style=\"display:table-cell;vertical-align:top;border-right:1px solid #848482;padding-right:5px;;padding-top:0.2em\"><div style=\"display:inline-block;\"><span>${[\\lambda{} x_{\\left\\{e\\right\\}} \\: . \\: \\lambda{} y_{\\left\\{e\\right\\}} \\: . \\: {y} \\subseteq{} {x}]}({x}_{\\left\\{e\\right\\}})({y}_{\\left\\{e\\right\\}})$</span></div></div><div style=\"display:table-cell;vertical-align:top;padding-left:5px;padding-right:5px;padding-top:0.2em\"><div style=\"display:table;\"><div style=\"display:table-row;\"><div style=\"white-space:nowrap; color:blue;\"><span>[Reduction]</span></div></div></div></div></div><div style=\"display:table-row;border-bottom:1px solid #848482;\"><div style=\"display:table-cell;padding:0.2em 5px 0.2em 0px;vertical-align:top;\"> 2. </div><div style=\"display:table-cell;vertical-align:top;border-right:1px solid #848482;padding-right:5px;;padding-top:0.2em\"><div style=\"display:inline-block;\"><span>${[\\lambda{} y_{\\left\\{e\\right\\}} \\: . \\: {y} \\subseteq{} {x}_{\\left\\{e\\right\\}}]}({y}_{\\left\\{e\\right\\}})$</span></div></div><div style=\"display:table-cell;vertical-align:top;padding-left:5px;padding-right:5px;padding-top:0.2em\"><div style=\"display:table;\"><div style=\"display:table-row;\"><div style=\"white-space:nowrap; color:blue;\"><span>Reduction</span></div></div></div></div></div><div style=\"display:table-row;border-bottom:1px solid #848482;\"><div style=\"display:table-cell;padding:0.2em 5px 0.2em 0px;vertical-align:top;\"> 3. </div><div style=\"display:table-cell;vertical-align:top;border-right:1px solid #848482;padding-right:5px;;padding-top:0.2em\"><div style=\"display:inline-block;\"><span>${y}_{\\left\\{e\\right\\}} \\subseteq{} {x}_{\\left\\{e\\right\\}}$</span></div></div><div style=\"display:table-cell;vertical-align:top;padding-left:5px;padding-right:5px;padding-top:0.2em\"><div style=\"display:table;\"><div style=\"display:table-row;\"><div style=\"white-space:nowrap; color:blue;\"><span>subset (set elimination)</span></div></div></div></div></div><div style=\"display:table-row;border-bottom:1px solid #848482;\"><div style=\"display:table-cell;padding:0.2em 5px 0.2em 0px;vertical-align:top;\"> 4. </div><div style=\"display:table-cell;vertical-align:top;border-right:1px solid #848482;padding-right:5px;;padding-top:0.2em\"><div style=\"display:inline-block;\"><span>${y}_{\\left\\{e\\right\\}} = ({y}_{\\left\\{e\\right\\}} \\cap{} {x}_{\\left\\{e\\right\\}})$</span></div></div><div style=\"display:table-cell;vertical-align:top;padding-left:5px;padding-right:5px;padding-top:0.2em\"><div style=\"display:table;\"><div style=\"display:table-row;\"><div style=\"white-space:nowrap; color:blue;\"><span>[alphabetic normalization]</span></div></div></div></div></div><div style=\"display:table-row;\"><div style=\"display:table-cell;padding:0.2em 5px 0.2em 0px;vertical-align:top;\"> 5. </div><div style=\"display:table-cell;vertical-align:top;border-right:1px solid #848482;padding-right:5px;;padding-top:0.2em\"><div style=\"display:inline-block;\"><span>${y}_{\\left\\{e\\right\\}} = ({x}_{\\left\\{e\\right\\}} \\cap{} {y}_{\\left\\{e\\right\\}})$</span></div></div></div></div></div></div></div></div>"
      ],
      "text/plain": [
       " 1. ((x_{e} >= y_{e}))    (Evaluation of operator `⊇`)\n",
       " 2. (λ x_{e}: (λ y_{e}: ((y_{e} <= x_{e}))))(x_{e})(y_{e})    ([Reduction])\n",
       " 3. (λ y_{e}: ((y_{e} <= x_{e})))(y_{e})    (Reduction)\n",
       " 4. ((y_{e} <= x_{e}))    (subset (set elimination))\n",
       " 5. ((y_{e} <=> ((y_{e} & x_{e}))))    ([alphabetic normalization])\n",
       " 6. ((y_{e} <=> ((x_{e} & y_{e}))))"
      ]
     },
     "execution_count": 140,
     "metadata": {},
     "output_type": "execute_result"
    }
   ],
   "source": [
    "te(\"x_{e} >= y_{e}\").simplify_all().derivation"
   ]
  },
  {
   "cell_type": "code",
   "execution_count": 141,
   "id": "d43a05fa-7021-4239-baf3-55e4d1dd686d",
   "metadata": {},
   "outputs": [
    {
     "data": {
      "text/html": [
       "<div align=\"left\" style=\"display:table;\"><div style=\"display:table-cell;vertical-align:top;padding-left:5px;padding-right:5px;padding-top:0.2em\"><div style=\"display:table;\"><div style=\"display:table-row;vertical-align:top;\"><div align=\"left\" style=\"display:table;border-collapse:collapse;\"><div style=\"display:table-row;border-bottom:1px solid #848482;\"><div style=\"display:table-cell;padding:0.2em 5px 0.2em 0px;vertical-align:top;\"></div><div style=\"display:table-cell;vertical-align:top;border-right:1px solid #848482;padding-right:5px;;padding-top:0.2em\"><div style=\"display:inline-block;\"><span>$(\\{{x}_{e} \\:|\\: {x}_{e} \\in{} \\{\\textsf{c1}_{e}, \\textsf{c2}_{e}\\}\\} \\cap{} \\{{x}_{e} \\:|\\: \\neg{} {x}_{e} = \\textsf{c1}_{e}\\}) \\supset{} \\{\\textsf{c2}_{e}, \\textsf{c3}_{e}\\}$</span></div></div><div style=\"display:table-cell;vertical-align:top;padding-left:5px;padding-right:5px;padding-top:0.2em\"><div style=\"display:table;\"><div style=\"display:table-row;\"><div style=\"white-space:nowrap; color:blue;\"><span>Evaluation of operator `⊃`</span></div></div></div></div></div><div style=\"display:table-row;border-bottom:1px solid #848482;\"><div style=\"display:table-cell;padding:0.2em 5px 0.2em 0px;vertical-align:top;\"> 1. </div><div style=\"display:table-cell;vertical-align:top;border-right:1px solid #848482;padding-right:5px;;padding-top:0.2em\"><div style=\"display:inline-block;\"><span>${[\\lambda{} x_{\\left\\{e\\right\\}} \\: . \\: \\lambda{} y_{\\left\\{e\\right\\}} \\: . \\: {y} \\subset{} {x}]}(\\{{x}_{e} \\:|\\: {x}_{e} \\in{} \\{\\textsf{c1}_{e}, \\textsf{c2}_{e}\\}\\} \\cap{} \\{{x}_{e} \\:|\\: \\neg{} {x}_{e} = \\textsf{c1}_{e}\\})(\\{\\textsf{c2}_{e}, \\textsf{c3}_{e}\\})$</span></div></div><div style=\"display:table-cell;vertical-align:top;padding-left:5px;padding-right:5px;padding-top:0.2em\"><div style=\"display:table;\"><div style=\"display:table-row;\"><div style=\"white-space:nowrap; color:blue;\"><span>[Reduction]</span></div></div></div></div></div><div style=\"display:table-row;border-bottom:1px solid #848482;\"><div style=\"display:table-cell;padding:0.2em 5px 0.2em 0px;vertical-align:top;\"> 2. </div><div style=\"display:table-cell;vertical-align:top;border-right:1px solid #848482;padding-right:5px;;padding-top:0.2em\"><div style=\"display:inline-block;\"><span>${[\\lambda{} y_{\\left\\{e\\right\\}} \\: . \\: {y} \\subset{} (\\{{x}_{e} \\:|\\: {x}_{e} \\in{} \\{\\textsf{c1}_{e}, \\textsf{c2}_{e}\\}\\} \\cap{} \\{{x}_{e} \\:|\\: \\neg{} {x}_{e} = \\textsf{c1}_{e}\\})]}(\\{\\textsf{c2}_{e}, \\textsf{c3}_{e}\\})$</span></div></div><div style=\"display:table-cell;vertical-align:top;padding-left:5px;padding-right:5px;padding-top:0.2em\"><div style=\"display:table;\"><div style=\"display:table-row;\"><div style=\"white-space:nowrap; color:blue;\"><span>Reduction</span></div></div></div></div></div><div style=\"display:table-row;border-bottom:1px solid #848482;\"><div style=\"display:table-cell;padding:0.2em 5px 0.2em 0px;vertical-align:top;\"> 3. </div><div style=\"display:table-cell;vertical-align:top;border-right:1px solid #848482;padding-right:5px;;padding-top:0.2em\"><div style=\"display:inline-block;\"><span>$\\{\\textsf{c2}_{e}, \\textsf{c3}_{e}\\} \\subset{} (\\{{x}_{e} \\:|\\: {x}_{e} \\in{} \\{\\textsf{c1}_{e}, \\textsf{c2}_{e}\\}\\} \\cap{} \\{{x}_{e} \\:|\\: \\neg{} {x}_{e} = \\textsf{c1}_{e}\\})$</span></div></div><div style=\"display:table-cell;vertical-align:top;padding-left:5px;padding-right:5px;padding-top:0.2em\"><div style=\"display:table;\"><div style=\"display:table-row;\"><div style=\"white-space:nowrap; color:blue;\"><span>Recursive simplification of operand 1</span></div></div></div></div></div><div style=\"display:table-row;border-bottom:1px solid #848482;\"><div style=\"display:table-cell;padding:0.2em 5px 0.2em 0px;vertical-align:top;\"> 4. </div><div style=\"display:table-cell;vertical-align:top;border-right:1px solid #848482;padding-right:5px;;padding-top:0.2em\"><div style=\"display:inline-block;\"><span>$\\{\\textsf{c2}_{e}, \\textsf{c3}_{e}\\} \\subset{} \\{{x}_{e} \\:|\\: ({x}_{e} \\in{} \\{\\textsf{c1}_{e}, \\textsf{c2}_{e}\\}) \\wedge{} \\neg{} \\textsf{c1}_{e} = {x}_{e}\\}$</span></div></div><div style=\"display:table-cell;vertical-align:top;padding-left:5px;padding-right:5px;padding-top:0.2em\"><div style=\"display:table;\"><div style=\"display:table-row;\"><div style=\"white-space:nowrap; color:blue;\"><span>proper subset (set elimination)</span></div></div></div></div></div><div style=\"display:table-row;border-bottom:1px solid #848482;\"><div style=\"display:table-cell;padding:0.2em 5px 0.2em 0px;vertical-align:top;\"> 5. </div><div style=\"display:table-cell;vertical-align:top;border-right:1px solid #848482;padding-right:5px;;padding-top:0.2em\"><div style=\"display:inline-block;\"><span>$(\\{\\textsf{c2}_{e}, \\textsf{c3}_{e}\\} \\subseteq{} \\{{x}_{e} \\:|\\: ({x}_{e} \\in{} \\{\\textsf{c1}_{e}, \\textsf{c2}_{e}\\}) \\wedge{} \\neg{} \\textsf{c1}_{e} = {x}_{e}\\}) \\wedge{} \\neg{} (\\{\\textsf{c2}_{e}, \\textsf{c3}_{e}\\} = \\{{x}_{e} \\:|\\: ({x}_{e} \\in{} \\{\\textsf{c1}_{e}, \\textsf{c2}_{e}\\}) \\wedge{} \\neg{} \\textsf{c1}_{e} = {x}_{e}\\})$</span></div></div><div style=\"display:table-cell;vertical-align:top;padding-left:5px;padding-right:5px;padding-top:0.2em\"><div style=\"display:table;\"><div style=\"display:table-row;\"><div style=\"white-space:nowrap; color:blue;\"><span>[subset (set elimination)]</span></div></div></div></div></div><div style=\"display:table-row;\"><div style=\"display:table-cell;padding:0.2em 5px 0.2em 0px;vertical-align:top;\"> 6. </div><div style=\"display:table-cell;vertical-align:top;border-right:1px solid #848482;padding-right:5px;;padding-top:0.2em\"><div style=\"display:inline-block;\"><span>$(\\{\\textsf{c2}_{e}, \\textsf{c3}_{e}\\} = (\\{\\textsf{c2}_{e}, \\textsf{c3}_{e}\\} \\cap{} \\{{x}_{e} \\:|\\: ({x}_{e} \\in{} \\{\\textsf{c1}_{e}, \\textsf{c2}_{e}\\}) \\wedge{} \\neg{} \\textsf{c1}_{e} = {x}_{e}\\})) \\wedge{} \\neg{} (\\{\\textsf{c2}_{e}, \\textsf{c3}_{e}\\} = \\{{x}_{e} \\:|\\: ({x}_{e} \\in{} \\{\\textsf{c1}_{e}, \\textsf{c2}_{e}\\}) \\wedge{} \\neg{} \\textsf{c1}_{e} = {x}_{e}\\})$</span></div></div></div></div></div></div></div></div>"
      ],
      "text/plain": [
       " 1. ((((Set x_e: ((x_e << {_c2, _c1}))) & (Set x_e: ~((x_e <=> _c1)))) > {_c2, _c3}))    (Evaluation of operator `⊃`)\n",
       " 2. (λ x_{e}: (λ y_{e}: ((y_{e} < x_{e}))))((Set x_e: ((x_e << {_c2, _c1}))) & (Set x_e: ~((x_e <=> _c1))))({_c2, _c3})    ([Reduction])\n",
       " 3. (λ y_{e}: ((y_{e} < ((Set x_e: ((x_e << {_c2, _c1}))) & (Set x_e: ~((x_e <=> _c1)))))))({_c2, _c3})    (Reduction)\n",
       " 4. (({_c2, _c3} < ((Set x_e: ((x_e << {_c2, _c1}))) & (Set x_e: ~((x_e <=> _c1))))))    (Recursive simplification of operand 1)\n",
       " 5. (({_c2, _c3} < (Set x_e: (((x_e << {_c2, _c1})) & ~((_c1 <=> x_e))))))    (proper subset (set elimination))\n",
       " 6. ((({_c2, _c3} <= (Set x_e: (((x_e << {_c2, _c1})) & ~((_c1 <=> x_e)))))) & ~(({_c2, _c3} <=> (Set x_e: (((x_e << {_c2, _c1})) & ~((_c1 <=> x_e)))))))    ([subset (set elimination)])\n",
       " 7. ((({_c2, _c3} <=> (({_c2, _c3} & (Set x_e: (((x_e << {_c2, _c1})) & ~((_c1 <=> x_e)))))))) & ~(({_c2, _c3} <=> (Set x_e: (((x_e << {_c2, _c1})) & ~((_c1 <=> x_e)))))))"
      ]
     },
     "execution_count": 141,
     "metadata": {},
     "output_type": "execute_result"
    }
   ],
   "source": [
    "((s1 & s2) > s5).simplify_all().derivation"
   ]
  },
  {
   "cell_type": "code",
   "execution_count": 142,
   "id": "095cff9e-3ac3-4609-a32b-9e444afcb221",
   "metadata": {},
   "outputs": [
    {
     "data": {
      "text/latex": [
       "${x}_{\\left\\{?_{27}\\right\\}} \\supseteq{} {y}_{\\left\\{?_{27}\\right\\}}$"
      ],
      "text/plain": [
       "(x_{?27} ⊇ y_{?27})"
      ]
     },
     "execution_count": 142,
     "metadata": {},
     "output_type": "execute_result"
    }
   ],
   "source": [
    "lamb.meta.sets.SetSupset(te(\"x_X\"), te(\"y_Y\")) #.simplify_all().derivation"
   ]
  },
  {
   "cell_type": "code",
   "execution_count": 286,
   "id": "88d906a7-28ae-4de2-9563-5d3c0f50cb63",
   "metadata": {},
   "outputs": [
    {
     "data": {
      "text/latex": [
       "$({x}_{\\left\\{?_{27}\\right\\}} \\supseteq{} {y}_{\\left\\{?_{27}\\right\\}}) \\wedge{} {P}_{\\left\\langle{}\\left\\{X\\right\\},t\\right\\rangle{}}({z}_{\\left\\{X\\right\\}})$"
      ],
      "text/plain": [
       "((x_{?27} ⊇ y_{?27}) ∧ P_<{X},t>(z_{X}))"
      ]
     },
     "execution_count": 286,
     "metadata": {},
     "output_type": "execute_result"
    }
   ],
   "source": [
    "x = %te (x_{X} >= y_Y) & P_<Z,t>(z_Y)\n",
    "x"
   ]
  },
  {
   "cell_type": "code",
   "execution_count": 279,
   "id": "b3134d48-95ec-4727-b73d-fc08c8980be4",
   "metadata": {},
   "outputs": [
    {
     "data": {
      "text/latex": [
       "${[\\lambda{} x_{\\left\\{Y\\right\\}} \\: . \\: \\lambda{} y_{\\left\\{Y\\right\\}} \\: . \\: {x} \\subseteq{} {y}]}({x}_{\\left\\{Y\\right\\}})({y}_{\\left\\{Y\\right\\}}) \\wedge{} {P}_{\\left\\langle{}Y,t\\right\\rangle{}}({z}_{Y})$"
      ],
      "text/plain": [
       "((λ x_{Y}: (λ y_{Y}: ((x_{Y} <= y_{Y}))))(x_{Y})(y_{Y}) ∧ P_<Y,t>(z_Y))"
      ]
     },
     "execution_count": 279,
     "metadata": {},
     "output_type": "execute_result"
    }
   ],
   "source": [
    "te(\"(L x_{X} : L y_{Y} : x <= y)(x_{Z})(y_{Z2}) & P_<Z,t>(z_Z)\")"
   ]
  },
  {
   "cell_type": "code",
   "execution_count": 241,
   "id": "651d2d46-074f-4c7f-9ed5-12c5ce04c912",
   "metadata": {},
   "outputs": [
    {
     "data": {
      "text/latex": [
       "${[\\lambda{} x_{\\left\\{?_{109}\\right\\}} \\: . \\: \\lambda{} y_{\\left\\{?_{109}\\right\\}} \\: . \\: {x} \\subseteq{} {y}]}({x}_{\\left\\{?_{109}\\right\\}})({y}_{\\left\\{?_{109}\\right\\}})$"
      ],
      "text/plain": [
       "(λ x_{?109}: (λ y_{?109}: ((x_{?109} <= y_{?109}))))(x_{?109})(y_{?109})"
      ]
     },
     "execution_count": 241,
     "metadata": {},
     "output_type": "execute_result"
    }
   ],
   "source": [
    "te(\"(L x_{X} : L y_{X} : x <= y)\", let=True)(te(\"(x_{Z})\", let=False))(te(\"(y_{Z2})\", let=False))"
   ]
  },
  {
   "cell_type": "code",
   "execution_count": null,
   "id": "fab6c893-69b5-4637-94f3-e7c308631876",
   "metadata": {},
   "outputs": [],
   "source": []
  },
  {
   "cell_type": "code",
   "execution_count": 214,
   "id": "74f8c553-4694-4d87-9321-4280a1ba27de",
   "metadata": {},
   "outputs": [
    {
     "data": {
      "text/latex": [
       "${[\\lambda{} x_{\\left\\{?_{102}\\right\\}} \\: . \\: \\lambda{} y_{\\left\\{?_{102}\\right\\}} \\: . \\: {x} \\subseteq{} {y}]}({x}_{\\left\\{?_{102}\\right\\}})({y}_{\\left\\{?_{102}\\right\\}})$"
      ],
      "text/plain": [
       "(λ x_{?102}: (λ y_{?102}: ((x_{?102} <= y_{?102}))))(x_{?102})(y_{?102})"
      ]
     },
     "execution_count": 214,
     "metadata": {},
     "output_type": "execute_result"
    }
   ],
   "source": [
    "meta.TypedExpr.factory(meta.TypedExpr.factory(te(\"(L x_{X} : L y_{X} : x <= y)\", let=True), te(\"(x_{Z})\", let=False)), te(\"(y_{Z2})\", let=False))"
   ]
  },
  {
   "cell_type": "code",
   "execution_count": null,
   "id": "a7bf38d3-e51c-4404-b415-7ae73608b62a",
   "metadata": {},
   "outputs": [],
   "source": []
  },
  {
   "cell_type": "code",
   "execution_count": 20,
   "id": "ae8cb655-1c60-4b4f-801d-5aededbb4896",
   "metadata": {},
   "outputs": [],
   "source": [
    "reload_lamb()"
   ]
  },
  {
   "cell_type": "code",
   "execution_count": 21,
   "id": "b9f12cad-cbfe-49e9-8d4f-e1dddd3fb1df",
   "metadata": {},
   "outputs": [
    {
     "data": {
      "text/latex": [
       "${x}_{\\left\\{Z''\\right\\}} \\supseteq{} {y}_{\\left\\{Z''\\right\\}}$"
      ],
      "text/plain": [
       "(x_{Z2} ⊇ y_{Z2})"
      ]
     },
     "execution_count": 21,
     "metadata": {},
     "output_type": "execute_result"
    }
   ],
   "source": [
    "x = te(\"(x_{Z} >= y_{Z2})\")\n",
    "x #._impl._type_env"
   ]
  },
  {
   "cell_type": "code",
   "execution_count": 22,
   "id": "45b11419-7006-4848-a4df-5fdc43779140",
   "metadata": {},
   "outputs": [
    {
     "data": {
      "text/latex": [
       "${x}_{\\left\\{Z\\right\\}} \\supseteq{} {y}_{\\left\\{Z\\right\\}}$"
      ],
      "text/plain": [
       "(x_{Z} ⊇ y_{Z})"
      ]
     },
     "execution_count": 22,
     "metadata": {},
     "output_type": "execute_result"
    }
   ],
   "source": [
    "te(\"(x_X >= y_{Z})\")"
   ]
  },
  {
   "cell_type": "code",
   "execution_count": 23,
   "id": "b31a8126-bb36-4506-85e5-8b46d6b4b638",
   "metadata": {},
   "outputs": [
    {
     "data": {
      "text/latex": [
       "$({x}_{\\left\\{X\\right\\}} \\supseteq{} {y}_{\\left\\{X\\right\\}}) \\wedge{} {P}_{\\left\\langle{}\\left\\{X\\right\\},t\\right\\rangle{}}({z}_{\\left\\{X\\right\\}})$"
      ],
      "text/plain": [
       "((x_{X} ⊇ y_{X}) ∧ P_<{X},t>(z_{X}))"
      ]
     },
     "execution_count": 23,
     "metadata": {},
     "output_type": "execute_result"
    }
   ],
   "source": [
    "x = %te (x_{X} >= y_Y) & P_<Z,t>(z_Y)\n",
    "x"
   ]
  },
  {
   "cell_type": "code",
   "execution_count": 24,
   "id": "6d75ebe1-4c9e-41d0-9321-f776a566aea3",
   "metadata": {},
   "outputs": [
    {
     "data": {
      "text/latex": [
       "${x}_{\\left\\{?_{27}\\right\\}} \\supseteq{} {y}_{\\left\\{?_{27}\\right\\}}$"
      ],
      "text/plain": [
       "(x_{?27} ⊇ y_{?27})"
      ]
     },
     "execution_count": 24,
     "metadata": {},
     "output_type": "execute_result"
    }
   ],
   "source": [
    "lamb.meta.sets.SetSupset(te(\"x_X\"), te(\"y_Y\"))"
   ]
  },
  {
   "cell_type": "code",
   "execution_count": null,
   "id": "5e14ade9-22b3-4d27-9b94-6e33bf980435",
   "metadata": {},
   "outputs": [],
   "source": []
  },
  {
   "cell_type": "code",
   "execution_count": null,
   "id": "5d6e2aa4-ea05-4dbf-87ca-7f4e3a440548",
   "metadata": {},
   "outputs": [],
   "source": []
  },
  {
   "cell_type": "code",
   "execution_count": 245,
   "id": "b9166442-7d44-4a5a-9e71-c8919ea62595",
   "metadata": {},
   "outputs": [
    {
     "data": {
      "text/html": [
       "<div align=\"left\" style=\"display:table;\"><div style=\"display:table-cell;vertical-align:top;padding-left:5px;padding-right:5px;padding-top:0.2em\"><div style=\"display:table;\"><div style=\"display:table-row;vertical-align:top;\"><div align=\"left\" style=\"display:table;border-collapse:collapse;\"><div style=\"display:table-row;border-bottom:1px solid #848482;\"><div style=\"display:table-cell;padding:0.2em 5px 0.2em 0px;vertical-align:top;\"></div><div style=\"display:table-cell;vertical-align:top;border-right:1px solid #848482;padding-right:5px;;padding-top:0.2em\"><div style=\"display:inline-block;\"><span>${x}_{\\left\\{Z''\\right\\}} \\supseteq{} {y}_{\\left\\{Z''\\right\\}}$</span></div></div><div style=\"display:table-cell;vertical-align:top;padding-left:5px;padding-right:5px;padding-top:0.2em\"><div style=\"display:table;\"><div style=\"display:table-row;\"><div style=\"white-space:nowrap; color:blue;\"><span>Evaluation of operator `⊇`</span></div></div></div></div></div><div style=\"display:table-row;border-bottom:1px solid #848482;\"><div style=\"display:table-cell;padding:0.2em 5px 0.2em 0px;vertical-align:top;\"> 1. </div><div style=\"display:table-cell;vertical-align:top;border-right:1px solid #848482;padding-right:5px;;padding-top:0.2em\"><div style=\"display:inline-block;\"><span>${[\\lambda{} x_{\\left\\{Z''\\right\\}} \\: . \\: \\lambda{} y_{\\left\\{Z''\\right\\}} \\: . \\: {x} \\subseteq{} {y}]}({x}_{\\left\\{Z''\\right\\}})({y}_{\\left\\{Z''\\right\\}})$</span></div></div><div style=\"display:table-cell;vertical-align:top;padding-left:5px;padding-right:5px;padding-top:0.2em\"><div style=\"display:table;\"><div style=\"display:table-row;\"><div style=\"white-space:nowrap; color:blue;\"><span>[Reduction]</span></div></div></div></div></div><div style=\"display:table-row;border-bottom:1px solid #848482;\"><div style=\"display:table-cell;padding:0.2em 5px 0.2em 0px;vertical-align:top;\"> 2. </div><div style=\"display:table-cell;vertical-align:top;border-right:1px solid #848482;padding-right:5px;;padding-top:0.2em\"><div style=\"display:inline-block;\"><span>${[\\lambda{} y_{\\left\\{Z''\\right\\}} \\: . \\: {x}_{\\left\\{Z''\\right\\}} \\subseteq{} {y}]}({y}_{\\left\\{Z''\\right\\}})$</span></div></div><div style=\"display:table-cell;vertical-align:top;padding-left:5px;padding-right:5px;padding-top:0.2em\"><div style=\"display:table;\"><div style=\"display:table-row;\"><div style=\"white-space:nowrap; color:blue;\"><span>Reduction</span></div></div></div></div></div><div style=\"display:table-row;border-bottom:1px solid #848482;\"><div style=\"display:table-cell;padding:0.2em 5px 0.2em 0px;vertical-align:top;\"> 3. </div><div style=\"display:table-cell;vertical-align:top;border-right:1px solid #848482;padding-right:5px;;padding-top:0.2em\"><div style=\"display:inline-block;\"><span>${x}_{\\left\\{Z''\\right\\}} \\subseteq{} {y}_{\\left\\{Z''\\right\\}}$</span></div></div><div style=\"display:table-cell;vertical-align:top;padding-left:5px;padding-right:5px;padding-top:0.2em\"><div style=\"display:table;\"><div style=\"display:table-row;\"><div style=\"white-space:nowrap; color:blue;\"><span>subset (set elimination)</span></div></div></div></div></div><div style=\"display:table-row;\"><div style=\"display:table-cell;padding:0.2em 5px 0.2em 0px;vertical-align:top;\"> 4. </div><div style=\"display:table-cell;vertical-align:top;border-right:1px solid #848482;padding-right:5px;;padding-top:0.2em\"><div style=\"display:inline-block;\"><span>${x}_{\\left\\{Z''\\right\\}} = ({x}_{\\left\\{Z''\\right\\}} \\cap{} {y}_{\\left\\{Z''\\right\\}})$</span></div></div></div></div></div></div></div></div>"
      ],
      "text/plain": [
       " 1. ((x_{Z2} >= y_{Z2}))    (Evaluation of operator `⊇`)\n",
       " 2. (λ x_{Z2}: (λ y_{Z2}: ((x_{Z2} <= y_{Z2}))))(x_{Z2})(y_{Z2})    ([Reduction])\n",
       " 3. (λ y_{Z2}: ((x_{Z2} <= y_{Z2})))(y_{Z2})    (Reduction)\n",
       " 4. ((x_{Z2} <= y_{Z2}))    (subset (set elimination))\n",
       " 5. ((x_{Z2} <=> ((x_{Z2} & y_{Z2}))))"
      ]
     },
     "execution_count": 245,
     "metadata": {},
     "output_type": "execute_result"
    }
   ],
   "source": [
    "x.simplify_all().derivation"
   ]
  },
  {
   "cell_type": "code",
   "execution_count": 246,
   "id": "8be489ab-996f-4a48-b52d-5411f5350530",
   "metadata": {},
   "outputs": [
    {
     "data": {
      "text/html": [
       "<div align=\"left\" style=\"display:table;\"><div style=\"display:table-cell;vertical-align:top;padding-left:5px;padding-right:5px;padding-top:0.2em\"><div style=\"display:table;\"><div style=\"display:table-row;vertical-align:top;\"><div align=\"left\" style=\"display:table;border-collapse:collapse;\"><div style=\"display:table-row;border-bottom:1px solid #848482;\"><div style=\"display:table-cell;padding:0.2em 5px 0.2em 0px;vertical-align:top;\"></div><div style=\"display:table-cell;vertical-align:top;border-right:1px solid #848482;padding-right:5px;;padding-top:0.2em\"><div style=\"display:inline-block;\"><span>${F}_{\\left\\langle{}t,\\left\\{?_{9764}\\right\\}\\right\\rangle{}}({p}_{t}) \\supseteq{} {f}_{\\left\\langle{}t,\\left\\{?_{9764}\\right\\}\\right\\rangle{}}({p}_{t})$</span></div></div><div style=\"display:table-cell;vertical-align:top;padding-left:5px;padding-right:5px;padding-top:0.2em\"><div style=\"display:table;\"><div style=\"display:table-row;\"><div style=\"white-space:nowrap; color:blue;\"><span>Let substitution</span></div></div></div></div></div><div style=\"display:table-row;border-bottom:1px solid #848482;\"><div style=\"display:table-cell;padding:0.2em 5px 0.2em 0px;vertical-align:top;\"> 1. </div><div style=\"display:table-cell;vertical-align:top;border-right:1px solid #848482;padding-right:5px;;padding-top:0.2em\"><div style=\"display:inline-block;\"><span>${F}_{\\left\\langle{}t,\\left\\{X\\right\\}\\right\\rangle{}}({p}_{t}) \\supseteq{} {f}_{\\left\\langle{}t,\\left\\{X\\right\\}\\right\\rangle{}}({p}_{t})$</span></div></div><div style=\"display:table-cell;vertical-align:top;padding-left:5px;padding-right:5px;padding-top:0.2em\"><div style=\"display:table;\"><div style=\"display:table-row;\"><div style=\"white-space:nowrap; color:blue;\"><span>Evaluation of operator `⊇`</span></div></div></div></div></div><div style=\"display:table-row;border-bottom:1px solid #848482;\"><div style=\"display:table-cell;padding:0.2em 5px 0.2em 0px;vertical-align:top;\"> 2. </div><div style=\"display:table-cell;vertical-align:top;border-right:1px solid #848482;padding-right:5px;;padding-top:0.2em\"><div style=\"display:inline-block;\"><span>${[\\lambda{} x_{\\left\\{X\\right\\}} \\: . \\: \\lambda{} y_{\\left\\{X\\right\\}} \\: . \\: {x} \\subseteq{} {y}]}({F}_{\\left\\langle{}t,\\left\\{X\\right\\}\\right\\rangle{}}({p}_{t}))({f}_{\\left\\langle{}t,\\left\\{X\\right\\}\\right\\rangle{}}({p}_{t}))$</span></div></div><div style=\"display:table-cell;vertical-align:top;padding-left:5px;padding-right:5px;padding-top:0.2em\"><div style=\"display:table;\"><div style=\"display:table-row;\"><div style=\"white-space:nowrap; color:blue;\"><span>[Reduction]</span></div></div></div></div></div><div style=\"display:table-row;border-bottom:1px solid #848482;\"><div style=\"display:table-cell;padding:0.2em 5px 0.2em 0px;vertical-align:top;\"> 3. </div><div style=\"display:table-cell;vertical-align:top;border-right:1px solid #848482;padding-right:5px;;padding-top:0.2em\"><div style=\"display:inline-block;\"><span>${[\\lambda{} y_{\\left\\{X\\right\\}} \\: . \\: {F}_{\\left\\langle{}t,\\left\\{X\\right\\}\\right\\rangle{}}({p}_{t}) \\subseteq{} {y}]}({f}_{\\left\\langle{}t,\\left\\{X\\right\\}\\right\\rangle{}}({p}_{t}))$</span></div></div><div style=\"display:table-cell;vertical-align:top;padding-left:5px;padding-right:5px;padding-top:0.2em\"><div style=\"display:table;\"><div style=\"display:table-row;\"><div style=\"white-space:nowrap; color:blue;\"><span>Reduction</span></div></div></div></div></div><div style=\"display:table-row;border-bottom:1px solid #848482;\"><div style=\"display:table-cell;padding:0.2em 5px 0.2em 0px;vertical-align:top;\"> 4. </div><div style=\"display:table-cell;vertical-align:top;border-right:1px solid #848482;padding-right:5px;;padding-top:0.2em\"><div style=\"display:inline-block;\"><span>${F}_{\\left\\langle{}t,\\left\\{X\\right\\}\\right\\rangle{}}({p}_{t}) \\subseteq{} {f}_{\\left\\langle{}t,\\left\\{X\\right\\}\\right\\rangle{}}({p}_{t})$</span></div></div><div style=\"display:table-cell;vertical-align:top;padding-left:5px;padding-right:5px;padding-top:0.2em\"><div style=\"display:table;\"><div style=\"display:table-row;\"><div style=\"white-space:nowrap; color:blue;\"><span>subset (set elimination)</span></div></div></div></div></div><div style=\"display:table-row;\"><div style=\"display:table-cell;padding:0.2em 5px 0.2em 0px;vertical-align:top;\"> 5. </div><div style=\"display:table-cell;vertical-align:top;border-right:1px solid #848482;padding-right:5px;;padding-top:0.2em\"><div style=\"display:inline-block;\"><span>${F}_{\\left\\langle{}t,\\left\\{X\\right\\}\\right\\rangle{}}({p}_{t}) = ({F}_{\\left\\langle{}t,\\left\\{X\\right\\}\\right\\rangle{}}({p}_{t}) \\cap{} {f}_{\\left\\langle{}t,\\left\\{X\\right\\}\\right\\rangle{}}({p}_{t}))$</span></div></div></div></div></div></div></div></div>"
      ],
      "text/plain": [
       " 1. ((F_<t,{?9764}>(p_t) >= f_<t,{?9764}>(p_t)))    (Let substitution)\n",
       " 2. ((F_<t,{X}>(p_t) >= f_<t,{X}>(p_t)))    (Evaluation of operator `⊇`)\n",
       " 3. (λ x_{X}: (λ y_{X}: ((x_{X} <= y_{X}))))(F_<t,{X}>(p_t))(f_<t,{X}>(p_t))    ([Reduction])\n",
       " 4. (λ y_{X}: ((F_<t,{X}>(p_t) <= y_{X})))(f_<t,{X}>(p_t))    (Reduction)\n",
       " 5. ((F_<t,{X}>(p_t) <= f_<t,{X}>(p_t)))    (subset (set elimination))\n",
       " 6. ((F_<t,{X}>(p_t) <=> ((F_<t,{X}>(p_t) & f_<t,{X}>(p_t)))))"
      ]
     },
     "execution_count": 246,
     "metadata": {},
     "output_type": "execute_result"
    }
   ],
   "source": [
    "te(\"((F_<t,{?9764}>(p_t) >= f_<t,{?9764}>(p_t)))\").simplify_all().derivation"
   ]
  },
  {
   "cell_type": "code",
   "execution_count": 256,
   "id": "b370607c-a500-4985-aa72-eebbd1fca727",
   "metadata": {},
   "outputs": [],
   "source": [
    "x = te(\"((F_<t,{?9764}>(p_t) >= f_<t,{?9764}>(p_t)))\")"
   ]
  },
  {
   "cell_type": "code",
   "execution_count": 257,
   "id": "13cdcbb4-dd9b-4560-af61-1f23424ea3ba",
   "metadata": {},
   "outputs": [
    {
     "data": {
      "text/latex": [
       "${F}_{\\left\\langle{}t,\\left\\{X\\right\\}\\right\\rangle{}}({p}_{t}) \\supseteq{} {f}_{\\left\\langle{}t,\\left\\{X\\right\\}\\right\\rangle{}}({p}_{t})$"
      ],
      "text/plain": [
       "(F_<t,{X}>(p_t) ⊇ f_<t,{X}>(p_t))"
      ]
     },
     "execution_count": 257,
     "metadata": {},
     "output_type": "execute_result"
    }
   ],
   "source": [
    "x"
   ]
  },
  {
   "cell_type": "code",
   "execution_count": 258,
   "id": "3e0b66a0-868a-44d9-ad40-9ad2f27575cb",
   "metadata": {},
   "outputs": [
    {
     "data": {
      "text/plain": [
       "'((F_<t,{X}>(p_t) >= f_<t,{X}>(p_t)))'"
      ]
     },
     "execution_count": 258,
     "metadata": {},
     "output_type": "execute_result"
    }
   ],
   "source": [
    "repr(x)"
   ]
  },
  {
   "cell_type": "code",
   "execution_count": 259,
   "id": "7d66d224-4763-4bae-95b3-4f5c60d24d66",
   "metadata": {},
   "outputs": [
    {
     "data": {
      "text/latex": [
       "${F}_{\\left\\langle{}t,\\left\\{X\\right\\}\\right\\rangle{}}({p}_{t}) \\supseteq{} {f}_{\\left\\langle{}t,\\left\\{X\\right\\}\\right\\rangle{}}({p}_{t})$"
      ],
      "text/plain": [
       "(F_<t,{X}>(p_t) ⊇ f_<t,{X}>(p_t))"
      ]
     },
     "execution_count": 259,
     "metadata": {},
     "output_type": "execute_result"
    }
   ],
   "source": [
    "te(repr(x), let=False)"
   ]
  },
  {
   "cell_type": "code",
   "execution_count": 260,
   "id": "6f4e14cb-ea85-45e4-8c07-4c843e39b260",
   "metadata": {},
   "outputs": [
    {
     "data": {
      "text/latex": [
       "${F}_{\\left\\langle{}t,\\left\\{X\\right\\}\\right\\rangle{}}({p}_{t}) \\supseteq{} {f}_{\\left\\langle{}t,\\left\\{X\\right\\}\\right\\rangle{}}({p}_{t})$"
      ],
      "text/plain": [
       "(F_<t,{X}>(p_t) ⊇ f_<t,{X}>(p_t))"
      ]
     },
     "execution_count": 260,
     "metadata": {},
     "output_type": "execute_result"
    }
   ],
   "source": [
    "x"
   ]
  },
  {
   "cell_type": "code",
   "execution_count": null,
   "id": "8c763101-2b5e-4f3d-a9ff-baa2024230c7",
   "metadata": {},
   "outputs": [],
   "source": []
  },
  {
   "cell_type": "code",
   "execution_count": null,
   "id": "79849a0e-c503-4197-a293-e9d1fef4865b",
   "metadata": {},
   "outputs": [],
   "source": []
  },
  {
   "cell_type": "code",
   "execution_count": null,
   "id": "b4cb2066-8d5b-4e75-aa2f-3b30c59ed7a1",
   "metadata": {},
   "outputs": [],
   "source": []
  },
  {
   "cell_type": "code",
   "execution_count": 346,
   "id": "fc9434e8-4263-4395-94dc-44f5c0c3c059",
   "metadata": {},
   "outputs": [],
   "source": [
    "reload_lamb()"
   ]
  },
  {
   "cell_type": "code",
   "execution_count": 347,
   "id": "72b66284-e0db-4a5f-ae81-83824c57acaa",
   "metadata": {},
   "outputs": [
    {
     "data": {
      "text/plain": [
       "{'__ptf': <function lamb.meta.core.__ptf(s, typ=None, assignment=None)>,\n",
       " 'Partial': <function lamb.meta.core.TypedExpr.add_local.<locals>.<lambda>(*args, **kwargs)>,\n",
       " 'Body': <function lamb.meta.core.TypedExpr.add_local.<locals>.<lambda>(*args, **kwargs)>,\n",
       " 'Condition': <function lamb.meta.core.TypedExpr.add_local.<locals>.<lambda>(*args, **kwargs)>,\n",
       " 'Disjunctive': <function lamb.meta.core.TypedExpr.add_local.<locals>.<lambda>(*args, **kwargs)>,\n",
       " 'Fun': <function lamb.meta.core.TypedExpr.add_local.<locals>.<lambda>(*args, **kwargs)>,\n",
       " 'Case': <function lamb.meta.core.TypedExpr.add_local.<locals>.<lambda>(*args, **kwargs)>,\n",
       " 'Dom': <function lamb.meta.core.TypedExpr.add_local.<locals>.<lambda>(*args, **kwargs)>,\n",
       " 'Codom': <function lamb.meta.core.TypedExpr.add_local.<locals>.<lambda>(*args, **kwargs)>}"
      ]
     },
     "execution_count": 347,
     "metadata": {},
     "output_type": "execute_result"
    }
   ],
   "source": [
    "lamb.meta.TypedExpr._parsing_locals"
   ]
  },
  {
   "cell_type": "code",
   "execution_count": 348,
   "id": "bd29ff11-2631-440f-9b60-2ac9c82feca2",
   "metadata": {},
   "outputs": [
    {
     "data": {
      "text/latex": [
       "${x}_{e} = {y}_{e}$"
      ],
      "text/plain": [
       "(x_e <=> y_e)"
      ]
     },
     "execution_count": 348,
     "metadata": {},
     "output_type": "execute_result"
    }
   ],
   "source": [
    "%te x_e <=> y_e"
   ]
  },
  {
   "cell_type": "code",
   "execution_count": 351,
   "id": "d34f0d1e-fa3f-4096-8217-c86593c1d022",
   "metadata": {},
   "outputs": [
    {
     "data": {
      "text/latex": [
       "${x}_{e}$"
      ],
      "text/plain": [
       "x_e"
      ]
     },
     "metadata": {},
     "output_type": "display_data"
    }
   ],
   "source": [
    "display(te(\"x_e\").M)"
   ]
  },
  {
   "cell_type": "code",
   "execution_count": 352,
   "id": "1dff12d7-6d49-4269-a3ce-e8fb10d3560d",
   "metadata": {},
   "outputs": [
    {
     "data": {
      "text/latex": [
       "${x}_{e} = {y}_{e}$"
      ],
      "text/plain": [
       "(x_e <=> y_e)"
      ]
     },
     "execution_count": 352,
     "metadata": {},
     "output_type": "execute_result"
    }
   ],
   "source": [
    "te(\"x_e\").M % te(\"y_e\").M"
   ]
  },
  {
   "cell_type": "code",
   "execution_count": 354,
   "id": "1f6c849e-2a2a-4032-8093-8cff84f25bf4",
   "metadata": {},
   "outputs": [
    {
     "data": {
      "text/plain": [
       "['<=>',\n",
       " '%',\n",
       " '==',\n",
       " '+',\n",
       " '~',\n",
       " '&',\n",
       " '|',\n",
       " '>>',\n",
       " '^',\n",
       " '=/=',\n",
       " '!=',\n",
       " '-',\n",
       " '<',\n",
       " '>',\n",
       " '<=',\n",
       " '>=',\n",
       " '/',\n",
       " '*',\n",
       " '**',\n",
       " '<<']"
      ]
     },
     "execution_count": 354,
     "metadata": {},
     "output_type": "execute_result"
    }
   ],
   "source": [
    "list(lamb.meta.core.registry.ops.keys())"
   ]
  },
  {
   "cell_type": "code",
   "execution_count": 396,
   "id": "27152cf6-323c-4d12-9252-a2eda90426ec",
   "metadata": {},
   "outputs": [],
   "source": [
    "reload_lamb()"
   ]
  },
  {
   "cell_type": "code",
   "execution_count": 397,
   "id": "b54d9fa8-590c-439a-9780-dd847b15240e",
   "metadata": {},
   "outputs": [
    {
     "data": {
      "text/markdown": [
       "${Plusf}_{\\left\\langle{}n,\\left\\langle{}n,n\\right\\rangle{}\\right\\rangle{}}\\:=\\:\\lambda{} x_{n} \\: . \\: \\lambda{} y_{n} \\: . \\: {x} + {y}$"
      ],
      "text/plain": [
       "Plusf_<n,<n,n>> = (λ x_n: (λ y_n: (x_n + y_n)))"
      ]
     },
     "metadata": {},
     "output_type": "display_data"
    }
   ],
   "source": [
    "%lamb Plusf = L x_n : L y_n : x + y\n",
    "WrappedOp = meta.core.op_from_te(\"Plus\", Plusf)\n",
    "# WrappedOp(te(\"1\"), te(\"3\")).simplify_all().derivation\n",
    "lamb.meta.core.registry.add_operator(WrappedOp)"
   ]
  },
  {
   "cell_type": "code",
   "execution_count": 398,
   "id": "5fd273a2-0742-4d10-a5e4-75366f9b35ef",
   "metadata": {},
   "outputs": [
    {
     "data": {
      "text/plain": [
       "{'__ptf': <function lamb.meta.core.__ptf(s, typ=None, assignment=None)>,\n",
       " 'Partial': <function lamb.meta.core.TypedExpr.add_local.<locals>.<lambda>(*args, **kwargs)>,\n",
       " 'Body': <function lamb.meta.core.TypedExpr.add_local.<locals>.<lambda>(*args, **kwargs)>,\n",
       " 'Condition': <function lamb.meta.core.TypedExpr.add_local.<locals>.<lambda>(*args, **kwargs)>,\n",
       " 'Disjunctive': <function lamb.meta.core.TypedExpr.add_local.<locals>.<lambda>(*args, **kwargs)>,\n",
       " 'Fun': <function lamb.meta.core.TypedExpr.add_local.<locals>.<lambda>(*args, **kwargs)>,\n",
       " 'Case': <function lamb.meta.core.TypedExpr.add_local.<locals>.<lambda>(*args, **kwargs)>,\n",
       " 'Dom': <function lamb.meta.core.OperatorRegistry.op_instantiator.<locals>.<lambda>(seq, **kwargs)>,\n",
       " 'Codom': <function lamb.meta.core.OperatorRegistry.op_instantiator.<locals>.<lambda>(seq, **kwargs)>,\n",
       " 'Plus': <function lamb.meta.core.OperatorRegistry.op_instantiator.<locals>.<lambda>(seq, **kwargs)>}"
      ]
     },
     "execution_count": 398,
     "metadata": {},
     "output_type": "execute_result"
    }
   ],
   "source": [
    "lamb.meta.TypedExpr._parsing_locals"
   ]
  },
  {
   "cell_type": "code",
   "execution_count": 381,
   "id": "0d41b2aa-c6d3-4758-8240-25d48b9d52c5",
   "metadata": {},
   "outputs": [
    {
     "data": {
      "text/html": [
       "<div align=\"left\" style=\"display:table;\"><div style=\"display:table-cell;vertical-align:top;padding-left:5px;padding-right:5px;padding-top:0.2em\"><div style=\"display:table;\"><div style=\"display:table-row;vertical-align:top;\"><div align=\"left\" style=\"display:table;border-collapse:collapse;\"><div style=\"display:table-row;border-bottom:1px solid #848482;\"><div style=\"display:table-cell;padding:0.2em 5px 0.2em 0px;vertical-align:top;\"></div><div style=\"display:table-cell;vertical-align:top;border-right:1px solid #848482;padding-right:5px;;padding-top:0.2em\"><div style=\"display:inline-block;\"><span>$Plus (\\textsf{2}, \\textsf{3})$</span></div></div><div style=\"display:table-cell;vertical-align:top;padding-left:5px;padding-right:5px;padding-top:0.2em\"><div style=\"display:table;\"><div style=\"display:table-row;\"><div style=\"white-space:nowrap; color:blue;\"><span>Evaluation of operator `Plus`</span></div></div></div></div></div><div style=\"display:table-row;border-bottom:1px solid #848482;\"><div style=\"display:table-cell;padding:0.2em 5px 0.2em 0px;vertical-align:top;\"> 1. </div><div style=\"display:table-cell;vertical-align:top;border-right:1px solid #848482;padding-right:5px;;padding-top:0.2em\"><div style=\"display:inline-block;\"><span>${[\\lambda{} x_{n} \\: . \\: \\lambda{} y_{n} \\: . \\: {x} + {y}]}(\\textsf{2})(\\textsf{3})$</span></div></div><div style=\"display:table-cell;vertical-align:top;padding-left:5px;padding-right:5px;padding-top:0.2em\"><div style=\"display:table;\"><div style=\"display:table-row;\"><div style=\"white-space:nowrap; color:blue;\"><span>[Reduction]</span></div></div></div></div></div><div style=\"display:table-row;border-bottom:1px solid #848482;\"><div style=\"display:table-cell;padding:0.2em 5px 0.2em 0px;vertical-align:top;\"> 2. </div><div style=\"display:table-cell;vertical-align:top;border-right:1px solid #848482;padding-right:5px;;padding-top:0.2em\"><div style=\"display:inline-block;\"><span>${[\\lambda{} y_{n} \\: . \\: \\textsf{2} + {y}]}(\\textsf{3})$</span></div></div><div style=\"display:table-cell;vertical-align:top;padding-left:5px;padding-right:5px;padding-top:0.2em\"><div style=\"display:table;\"><div style=\"display:table-row;\"><div style=\"white-space:nowrap; color:blue;\"><span>Reduction</span></div></div></div></div></div><div style=\"display:table-row;border-bottom:1px solid #848482;\"><div style=\"display:table-cell;padding:0.2em 5px 0.2em 0px;vertical-align:top;\"> 3. </div><div style=\"display:table-cell;vertical-align:top;border-right:1px solid #848482;padding-right:5px;;padding-top:0.2em\"><div style=\"display:inline-block;\"><span>$\\textsf{2} + \\textsf{3}$</span></div></div><div style=\"display:table-cell;vertical-align:top;padding-left:5px;padding-right:5px;padding-top:0.2em\"><div style=\"display:table;\"><div style=\"display:table-row;\"><div style=\"white-space:nowrap; color:blue;\"><span>+</span></div></div></div></div></div><div style=\"display:table-row;\"><div style=\"display:table-cell;padding:0.2em 5px 0.2em 0px;vertical-align:top;\"> 4. </div><div style=\"display:table-cell;vertical-align:top;border-right:1px solid #848482;padding-right:5px;;padding-top:0.2em\"><div style=\"display:inline-block;\"><span>$\\textsf{5}$</span></div></div></div></div></div></div></div></div>"
      ],
      "text/plain": [
       " 1. Plus(2, 3)    (Evaluation of operator `Plus`)\n",
       " 2. (λ x_n: (λ y_n: (x_n + y_n)))(2)(3)    ([Reduction])\n",
       " 3. (λ y_n: (2 + y_n))(3)    (Reduction)\n",
       " 4. (2 + 3)    (+)\n",
       " 5. 5"
      ]
     },
     "execution_count": 381,
     "metadata": {},
     "output_type": "execute_result"
    }
   ],
   "source": [
    "te(\"Plus(2, 3)\").simplify_all().derivation"
   ]
  },
  {
   "cell_type": "code",
   "execution_count": 359,
   "id": "2269fc65-d5ed-479a-bcf0-1becf466f642",
   "metadata": {},
   "outputs": [
    {
     "data": {
      "text/latex": [
       "$Plus (\\textsf{2}, \\textsf{3})$"
      ],
      "text/plain": [
       "Plus(2, 3)"
      ]
     },
     "execution_count": 359,
     "metadata": {},
     "output_type": "execute_result"
    }
   ],
   "source": [
    "%te Plus(2, 3)"
   ]
  },
  {
   "cell_type": "code",
   "execution_count": 360,
   "id": "f3b370e7-cd8f-4794-a203-8a938026ed23",
   "metadata": {},
   "outputs": [
    {
     "name": "stderr",
     "output_type": "stream",
     "text": [
      "WARNING (core): New operator `Plus/(n,n)` replaces existing exact matching operator for `Plus`: Operator(Plus, Plus, arity: 2, signature: (n,n))\n"
     ]
    },
    {
     "data": {
      "text/latex": [
       "$\\texttt{operator Plus(2)} = \\lambda{} x_{n} \\: . \\: \\lambda{} y_{n} \\: . \\: {x} + {y}$"
      ],
      "text/plain": [
       "operator Plus(2) = (λ x_n: (λ y_n: (x_n + y_n)))"
      ]
     },
     "metadata": {},
     "output_type": "display_data"
    }
   ],
   "source": [
    "%lamb operator Plus(2) = Plusf"
   ]
  },
  {
   "cell_type": "code",
   "execution_count": 361,
   "id": "e91c3517-7ebd-4718-850b-5f35d47f6d5b",
   "metadata": {},
   "outputs": [
    {
     "data": {
      "text/html": [
       "<div align=\"left\" style=\"display:table;\"><div style=\"display:table-cell;vertical-align:top;padding-left:5px;padding-right:5px;padding-top:0.2em\"><div style=\"display:table;\"><div style=\"display:table-row;vertical-align:top;\"><div align=\"left\" style=\"display:table;border-collapse:collapse;\"><div style=\"display:table-row;border-bottom:1px solid #848482;\"><div style=\"display:table-cell;padding:0.2em 5px 0.2em 0px;vertical-align:top;\"></div><div style=\"display:table-cell;vertical-align:top;border-right:1px solid #848482;padding-right:5px;;padding-top:0.2em\"><div style=\"display:inline-block;\"><span>$Plus (\\textsf{2}, \\textsf{3})$</span></div></div><div style=\"display:table-cell;vertical-align:top;padding-left:5px;padding-right:5px;padding-top:0.2em\"><div style=\"display:table;\"><div style=\"display:table-row;\"><div style=\"white-space:nowrap; color:blue;\"><span>Evaluation of operator `Plus`</span></div></div></div></div></div><div style=\"display:table-row;\"><div style=\"display:table-cell;padding:0.2em 5px 0.2em 0px;vertical-align:top;\"> 1. </div><div style=\"display:table-cell;vertical-align:top;border-right:1px solid #848482;padding-right:5px;;padding-top:0.2em\"><div style=\"display:inline-block;\"><span>${[\\lambda{} x_{n} \\: . \\: \\lambda{} y_{n} \\: . \\: {x} + {y}]}(\\textsf{2})(\\textsf{3})$</span></div></div></div></div></div></div></div></div>"
      ],
      "text/plain": [
       " 1. Plus(2, 3)    (Evaluation of operator `Plus`)\n",
       " 2. (λ x_n: (λ y_n: (x_n + y_n)))(2)(3)"
      ]
     },
     "execution_count": 361,
     "metadata": {},
     "output_type": "execute_result"
    }
   ],
   "source": [
    "te(\"Plus(2, 3)\").simplify_all().derivation"
   ]
  },
  {
   "cell_type": "code",
   "execution_count": 362,
   "id": "9cd3bc6c-3820-479a-8cb3-f7ad548b6e3a",
   "metadata": {},
   "outputs": [],
   "source": [
    "reload_lamb()"
   ]
  },
  {
   "cell_type": "code",
   "execution_count": 363,
   "id": "32743732-f245-4eea-ae72-1a2e97a33450",
   "metadata": {},
   "outputs": [
    {
     "data": {
      "text/latex": [
       "$\\texttt{operator Plus(2)} = \\lambda{} x_{n} \\: . \\: \\lambda{} y_{n} \\: . \\: {x} + {y}$"
      ],
      "text/plain": [
       "operator Plus(2) = (λ x_n: (λ y_n: (x_n + y_n)))"
      ]
     },
     "metadata": {},
     "output_type": "display_data"
    }
   ],
   "source": [
    "%lamb operator Plus(2) = L x_n : L y_n : x + y"
   ]
  },
  {
   "cell_type": "code",
   "execution_count": 365,
   "id": "de38b2cb-bc7a-4f0f-837e-2f3741ea86e0",
   "metadata": {},
   "outputs": [
    {
     "data": {
      "text/html": [
       "<div align=\"left\" style=\"display:table;\"><div style=\"display:table-cell;vertical-align:top;padding-left:5px;padding-right:5px;padding-top:0.2em\"><div style=\"display:table;\"><div style=\"display:table-row;vertical-align:top;\"><div align=\"left\" style=\"display:table;border-collapse:collapse;\"><div style=\"display:table-row;border-bottom:1px solid #848482;\"><div style=\"display:table-cell;padding:0.2em 5px 0.2em 0px;vertical-align:top;\"></div><div style=\"display:table-cell;vertical-align:top;border-right:1px solid #848482;padding-right:5px;;padding-top:0.2em\"><div style=\"display:inline-block;\"><span>$Plus (\\textsf{2}, \\textsf{3})$</span></div></div><div style=\"display:table-cell;vertical-align:top;padding-left:5px;padding-right:5px;padding-top:0.2em\"><div style=\"display:table;\"><div style=\"display:table-row;\"><div style=\"white-space:nowrap; color:blue;\"><span>Evaluation of operator `Plus`</span></div></div></div></div></div><div style=\"display:table-row;border-bottom:1px solid #848482;\"><div style=\"display:table-cell;padding:0.2em 5px 0.2em 0px;vertical-align:top;\"> 1. </div><div style=\"display:table-cell;vertical-align:top;border-right:1px solid #848482;padding-right:5px;;padding-top:0.2em\"><div style=\"display:inline-block;\"><span>${[\\lambda{} x_{n} \\: . \\: \\lambda{} y_{n} \\: . \\: {x} + {y}]}(\\textsf{2})(\\textsf{3})$</span></div></div><div style=\"display:table-cell;vertical-align:top;padding-left:5px;padding-right:5px;padding-top:0.2em\"><div style=\"display:table;\"><div style=\"display:table-row;\"><div style=\"white-space:nowrap; color:blue;\"><span>[Reduction]</span></div></div></div></div></div><div style=\"display:table-row;border-bottom:1px solid #848482;\"><div style=\"display:table-cell;padding:0.2em 5px 0.2em 0px;vertical-align:top;\"> 2. </div><div style=\"display:table-cell;vertical-align:top;border-right:1px solid #848482;padding-right:5px;;padding-top:0.2em\"><div style=\"display:inline-block;\"><span>${[\\lambda{} y_{n} \\: . \\: \\textsf{2} + {y}]}(\\textsf{3})$</span></div></div><div style=\"display:table-cell;vertical-align:top;padding-left:5px;padding-right:5px;padding-top:0.2em\"><div style=\"display:table;\"><div style=\"display:table-row;\"><div style=\"white-space:nowrap; color:blue;\"><span>Reduction</span></div></div></div></div></div><div style=\"display:table-row;border-bottom:1px solid #848482;\"><div style=\"display:table-cell;padding:0.2em 5px 0.2em 0px;vertical-align:top;\"> 3. </div><div style=\"display:table-cell;vertical-align:top;border-right:1px solid #848482;padding-right:5px;;padding-top:0.2em\"><div style=\"display:inline-block;\"><span>$\\textsf{2} + \\textsf{3}$</span></div></div><div style=\"display:table-cell;vertical-align:top;padding-left:5px;padding-right:5px;padding-top:0.2em\"><div style=\"display:table;\"><div style=\"display:table-row;\"><div style=\"white-space:nowrap; color:blue;\"><span>+</span></div></div></div></div></div><div style=\"display:table-row;\"><div style=\"display:table-cell;padding:0.2em 5px 0.2em 0px;vertical-align:top;\"> 4. </div><div style=\"display:table-cell;vertical-align:top;border-right:1px solid #848482;padding-right:5px;;padding-top:0.2em\"><div style=\"display:inline-block;\"><span>$\\textsf{5}$</span></div></div></div></div></div></div></div></div>"
      ],
      "text/plain": [
       "DisplayNode instance: HTML rendering only"
      ]
     },
     "execution_count": 365,
     "metadata": {},
     "output_type": "execute_result"
    }
   ],
   "source": [
    "te(\"Plus(2,3)\").simplify_all(reduce=True).derivation.trace()"
   ]
  },
  {
   "cell_type": "code",
   "execution_count": 366,
   "id": "129327e4-3b96-4920-9d41-0aadbfdac7aa",
   "metadata": {},
   "outputs": [
    {
     "data": {
      "text/markdown": [
       "<span style=\"color:red\">**ParseError**</span>: Invalid syntax: stray operator `Plus`, in string `Plus`"
      ],
      "text/plain": [
       "ParseError: Invalid syntax: stray operator `Plus`, in string `Plus`"
      ]
     },
     "metadata": {},
     "output_type": "display_data"
    }
   ],
   "source": [
    "%te Plus"
   ]
  },
  {
   "cell_type": "code",
   "execution_count": 367,
   "id": "1a6f5fe8-867b-4460-9924-c7d21f183ee2",
   "metadata": {},
   "outputs": [
    {
     "data": {
      "text/markdown": [
       "<span style=\"color:red\">**ParseError**</span>: Invalid syntax: stray operator `Plus`, in string `Plus + 2`"
      ],
      "text/plain": [
       "ParseError: Invalid syntax: stray operator `Plus`, in string `Plus + 2`"
      ]
     },
     "metadata": {},
     "output_type": "display_data"
    }
   ],
   "source": [
    "%te Plus + 2"
   ]
  },
  {
   "cell_type": "code",
   "execution_count": 368,
   "id": "e3bfc624-3651-4c00-a433-98ebb5922221",
   "metadata": {},
   "outputs": [
    {
     "data": {
      "text/markdown": [
       "<span style=\"color:red\">**ParseError**</span>: Invalid syntax: stray operator `Partial`, in string `Partial`"
      ],
      "text/plain": [
       "ParseError: Invalid syntax: stray operator `Partial`, in string `Partial`"
      ]
     },
     "metadata": {},
     "output_type": "display_data"
    }
   ],
   "source": [
    "%te Partial"
   ]
  },
  {
   "cell_type": "code",
   "execution_count": 369,
   "id": "90e2fe25-052a-452e-bbd6-bd23f0bae55b",
   "metadata": {},
   "outputs": [
    {
     "data": {
      "text/markdown": [
       "<span style=\"color:red\">**ParseError**</span>: Invalid syntax: stray operator `Plus`, in string `((Plus))(2,3)`"
      ],
      "text/plain": [
       "ParseError: Invalid syntax: stray operator `Plus`, in string `((Plus))(2,3)`"
      ]
     },
     "metadata": {},
     "output_type": "display_data"
    }
   ],
   "source": [
    "%te ((Plus))(2,3)"
   ]
  },
  {
   "cell_type": "code",
   "execution_count": 370,
   "id": "0889ebe0-35c4-47c4-adb8-a5055b6ebe5c",
   "metadata": {},
   "outputs": [
    {
     "data": {
      "text/latex": [
       "$\\texttt{operator Test(1)} = \\lambda{} x_{n} \\: . \\: \\textsf{2} + {x}$"
      ],
      "text/plain": [
       "operator Test(1) = (λ x_n: (2 + x_n))"
      ]
     },
     "metadata": {},
     "output_type": "display_data"
    }
   ],
   "source": [
    "%lamb operator Test(1) = L x_n : x + 2"
   ]
  },
  {
   "cell_type": "code",
   "execution_count": 371,
   "id": "bfdb0369-2fba-47ea-8a8a-a9067fb0c03b",
   "metadata": {},
   "outputs": [
    {
     "data": {
      "text/latex": [
       "$Test(\\textsf{2})$"
      ],
      "text/plain": [
       "Test(2)"
      ]
     },
     "execution_count": 371,
     "metadata": {},
     "output_type": "execute_result"
    }
   ],
   "source": [
    "%te 2.Test"
   ]
  },
  {
   "cell_type": "code",
   "execution_count": 372,
   "id": "6153e621-354a-433c-8717-7e088bb8696a",
   "metadata": {},
   "outputs": [
    {
     "data": {
      "text/latex": [
       "$Test(\\textsf{2})$"
      ],
      "text/plain": [
       "Test(2)"
      ]
     },
     "execution_count": 372,
     "metadata": {},
     "output_type": "execute_result"
    }
   ],
   "source": [
    "%te Test(2)"
   ]
  },
  {
   "cell_type": "code",
   "execution_count": 373,
   "id": "93c60a1e-852e-4beb-8371-a3d2c230ad7f",
   "metadata": {},
   "outputs": [
    {
     "data": {
      "text/plain": [
       "'Test(2)'"
      ]
     },
     "execution_count": 373,
     "metadata": {},
     "output_type": "execute_result"
    }
   ],
   "source": [
    "repr(te(\"2.Test\"))"
   ]
  },
  {
   "cell_type": "code",
   "execution_count": 374,
   "id": "7d23969f-5416-493e-8b82-2d0e6cc58f78",
   "metadata": {},
   "outputs": [
    {
     "data": {
      "text/latex": [
       "$\\texttt{operator Test2(1)} = \\lambda{} x_{n} \\: . \\: \\lambda{} y_{n} \\: . \\: {x} + {y}$"
      ],
      "text/plain": [
       "operator Test2(1) = (λ x_n: (λ y_n: (x_n + y_n)))"
      ]
     },
     "metadata": {},
     "output_type": "display_data"
    }
   ],
   "source": [
    "%lamb operator Test2(1) = L x_n : L y_n : x + y"
   ]
  },
  {
   "cell_type": "code",
   "execution_count": 375,
   "id": "702aa1c9-4d85-4fc0-8294-23514e603e51",
   "metadata": {},
   "outputs": [
    {
     "data": {
      "text/html": [
       "<div align=\"left\" style=\"display:table;\"><div style=\"display:table-cell;vertical-align:top;padding-left:5px;padding-right:5px;padding-top:0.2em\"><div style=\"display:table;\"><div style=\"display:table-row;vertical-align:top;\"><div align=\"left\" style=\"display:table;border-collapse:collapse;\"><div style=\"display:table-row;border-bottom:1px solid #848482;\"><div style=\"display:table-cell;padding:0.2em 5px 0.2em 0px;vertical-align:top;\"></div><div style=\"display:table-cell;vertical-align:top;border-right:1px solid #848482;padding-right:5px;;padding-top:0.2em\"><div style=\"display:inline-block;\"><span>$Test2(\\textsf{2})(\\textsf{3})$</span></div></div><div style=\"display:table-cell;vertical-align:top;padding-left:5px;padding-right:5px;padding-top:0.2em\"><div style=\"display:table;\"><div style=\"display:table-row;\"><div style=\"white-space:nowrap; color:blue;\"><span>[Evaluation of operator `Test2`]</span></div></div></div></div></div><div style=\"display:table-row;border-bottom:1px solid #848482;\"><div style=\"display:table-cell;padding:0.2em 5px 0.2em 0px;vertical-align:top;\"> 1. </div><div style=\"display:table-cell;vertical-align:top;border-right:1px solid #848482;padding-right:5px;;padding-top:0.2em\"><div style=\"display:inline-block;\"><span>${[\\lambda{} x_{n} \\: . \\: \\lambda{} y_{n} \\: . \\: {x} + {y}]}(\\textsf{2})(\\textsf{3})$</span></div></div><div style=\"display:table-cell;vertical-align:top;padding-left:5px;padding-right:5px;padding-top:0.2em\"><div style=\"display:table;\"><div style=\"display:table-row;\"><div style=\"white-space:nowrap; color:blue;\"><span>recursive reduction of subexpression 0</span></div></div><div style=\"display:table-row;vertical-align:top;\"><div align=\"left\" style=\"display:table;border-collapse:collapse;\"><div style=\"display:table-row;border-bottom:1px solid #848482;\"><div style=\"display:table-cell;padding:0.2em 5px 0.2em 0px;vertical-align:top;\"></div><div style=\"display:table-cell;vertical-align:top;border-right:1px solid #848482;padding-right:5px;;padding-top:0.2em\"><div style=\"display:inline-block;\"><span>$Test2(\\textsf{2})$</span></div></div><div style=\"display:table-cell;vertical-align:top;padding-left:5px;padding-right:5px;padding-top:0.2em\"><div style=\"display:table;\"><div style=\"display:table-row;\"><div style=\"white-space:nowrap; color:blue;\"><span>Evaluation of operator `Test2`</span></div></div></div></div></div><div style=\"display:table-row;border-bottom:1px solid #848482;\"><div style=\"display:table-cell;padding:0.2em 5px 0.2em 0px;vertical-align:top;\"> 1. </div><div style=\"display:table-cell;vertical-align:top;border-right:1px solid #848482;padding-right:5px;;padding-top:0.2em\"><div style=\"display:inline-block;\"><span>${[\\lambda{} x_{n} \\: . \\: \\lambda{} y_{n} \\: . \\: {x} + {y}]}(\\textsf{2})$</span></div></div><div style=\"display:table-cell;vertical-align:top;padding-left:5px;padding-right:5px;padding-top:0.2em\"><div style=\"display:table;\"><div style=\"display:table-row;\"><div style=\"white-space:nowrap; color:blue;\"><span>Reduction</span></div></div></div></div></div><div style=\"display:table-row;\"><div style=\"display:table-cell;padding:0.2em 5px 0.2em 0px;vertical-align:top;\"> 2. </div><div style=\"display:table-cell;vertical-align:top;border-right:1px solid #848482;padding-right:5px;;padding-top:0.2em\"><div style=\"display:inline-block;\"><span>$\\lambda{} y_{n} \\: . \\: \\textsf{2} + {y}$</span></div></div></div></div></div></div></div></div><div style=\"display:table-row;border-bottom:1px solid #848482;\"><div style=\"display:table-cell;padding:0.2em 5px 0.2em 0px;vertical-align:top;\"> 2. </div><div style=\"display:table-cell;vertical-align:top;border-right:1px solid #848482;padding-right:5px;;padding-top:0.2em\"><div style=\"display:inline-block;\"><span>${[\\lambda{} y_{n} \\: . \\: \\textsf{2} + {y}]}(\\textsf{3})$</span></div></div><div style=\"display:table-cell;vertical-align:top;padding-left:5px;padding-right:5px;padding-top:0.2em\"><div style=\"display:table;\"><div style=\"display:table-row;\"><div style=\"white-space:nowrap; color:blue;\"><span>Reduction</span></div></div></div></div></div><div style=\"display:table-row;border-bottom:1px solid #848482;\"><div style=\"display:table-cell;padding:0.2em 5px 0.2em 0px;vertical-align:top;\"> 3. </div><div style=\"display:table-cell;vertical-align:top;border-right:1px solid #848482;padding-right:5px;;padding-top:0.2em\"><div style=\"display:inline-block;\"><span>$\\textsf{2} + \\textsf{3}$</span></div></div><div style=\"display:table-cell;vertical-align:top;padding-left:5px;padding-right:5px;padding-top:0.2em\"><div style=\"display:table;\"><div style=\"display:table-row;\"><div style=\"white-space:nowrap; color:blue;\"><span>+</span></div></div></div></div></div><div style=\"display:table-row;\"><div style=\"display:table-cell;padding:0.2em 5px 0.2em 0px;vertical-align:top;\"> 4. </div><div style=\"display:table-cell;vertical-align:top;border-right:1px solid #848482;padding-right:5px;;padding-top:0.2em\"><div style=\"display:inline-block;\"><span>$\\textsf{5}$</span></div></div></div></div></div></div></div></div>"
      ],
      "text/plain": [
       "DisplayNode instance: HTML rendering only"
      ]
     },
     "execution_count": 375,
     "metadata": {},
     "output_type": "execute_result"
    }
   ],
   "source": [
    "te(\"2.Test2(3)\").simplify_all(reduce=True).derivation.trace()"
   ]
  },
  {
   "cell_type": "code",
   "execution_count": 376,
   "id": "b37dc961-50b8-49ea-92ca-95bc7cb4c178",
   "metadata": {},
   "outputs": [
    {
     "data": {
      "text/markdown": [
       "${Test}_{e}\\:=\\:{x}_{e}$"
      ],
      "text/plain": [
       "Test_e = x_e"
      ]
     },
     "metadata": {},
     "output_type": "display_data"
    }
   ],
   "source": [
    "%lamb Test = x_e"
   ]
  },
  {
   "cell_type": "code",
   "execution_count": 377,
   "id": "927a2b29-f8ee-47df-8fb0-1900924e8c40",
   "metadata": {},
   "outputs": [
    {
     "data": {
      "text/markdown": [
       "<span style=\"color:red\">**ParseError**</span>: Invalid syntax: stray operator `Test`, in string `Test`"
      ],
      "text/plain": [
       "ParseError: Invalid syntax: stray operator `Test`, in string `Test`"
      ]
     },
     "metadata": {},
     "output_type": "display_data"
    }
   ],
   "source": [
    "%te Test"
   ]
  },
  {
   "cell_type": "code",
   "execution_count": 382,
   "id": "4e0afaa5-c36c-43c5-8ddb-fcbc6ee2239d",
   "metadata": {},
   "outputs": [
    {
     "data": {
      "text/latex": [
       "${assignment}_{e}$"
      ],
      "text/plain": [
       "assignment_e"
      ]
     },
     "execution_count": 382,
     "metadata": {},
     "output_type": "execute_result"
    }
   ],
   "source": [
    "%te assignment"
   ]
  },
  {
   "cell_type": "code",
   "execution_count": 14,
   "id": "fecf2a97-385a-44f3-acc8-829674a6b4ce",
   "metadata": {},
   "outputs": [],
   "source": [
    "reload_lamb()"
   ]
  },
  {
   "cell_type": "code",
   "execution_count": 15,
   "id": "d67ddb22-93ab-4fb6-989c-947cfec9c8cd",
   "metadata": {},
   "outputs": [
    {
     "data": {
      "text/latex": [
       "$(\\exists{}! f_{\\left\\langle{}n,n\\right\\rangle{}} \\: . \\: \\textsf{True}) \\rightarrow{} {f1}_{\\left\\langle{}\\left\\langle{}n,n\\right\\rangle{},t\\right\\rangle{}}({f}_{\\left\\langle{}n,n\\right\\rangle{}})$"
      ],
      "text/plain": [
       "((ExistsExact f_<n,n>: True) → f1_<<n,n>,t>(f_<n,n>))"
      ]
     },
     "execution_count": 15,
     "metadata": {},
     "output_type": "execute_result"
    }
   ],
   "source": [
    "te(\"((ExistsExact f_<n,n>: True) >> f1_<<n,n>,t>(f_<n,n>))\")"
   ]
  },
  {
   "cell_type": "code",
   "execution_count": 17,
   "id": "3bf5c80e-2f7f-47ea-ac5b-2d26a07ca8c6",
   "metadata": {},
   "outputs": [
    {
     "data": {
      "text/latex": [
       "$(\\exists{}! f_{\\left\\langle{}n,n\\right\\rangle{}} \\: . \\: \\textsf{True}) \\rightarrow{} {f1}_{\\left\\langle{}\\left\\langle{}n,n\\right\\rangle{},t\\right\\rangle{}}({f}_{\\left\\langle{}n,n\\right\\rangle{}})$"
      ],
      "text/plain": [
       "((ExistsExact f_<n,n>: True) → f1_<<n,n>,t>(f_<n,n>))"
      ]
     },
     "execution_count": 17,
     "metadata": {},
     "output_type": "execute_result"
    }
   ],
   "source": [
    "te(\"(((ExistsExact f_<n,n>: True)) >> f1_<<n,n>,t>(f_<n,n>))\")"
   ]
  },
  {
   "cell_type": "code",
   "execution_count": 2,
   "id": "86a39a71-4f70-4650-9519-a3bffa585647",
   "metadata": {},
   "outputs": [
    {
     "data": {
      "text/plain": [
       "{'<=>': [Operator(<=>, BinaryGenericEqExpr, arity: 2, signature: (X,X)),\n",
       "  Operator(<=>, BinaryBiarrowExpr, arity: 2, signature: (t,t)),\n",
       "  Operator(<=>, SetEquivalence, arity: 2, signature: ({X},{X}))],\n",
       " '==': [Operator(<=>, BinaryGenericEqExpr, arity: 2, signature: (X,X)),\n",
       "  Operator(<=>, BinaryBiarrowExpr, arity: 2, signature: (t,t)),\n",
       "  Operator(<=>, SetEquivalence, arity: 2, signature: ({X},{X}))],\n",
       " '%': [Operator(<=>, BinaryGenericEqExpr, arity: 2, signature: (X,X)),\n",
       "  Operator(<=>, BinaryBiarrowExpr, arity: 2, signature: (t,t)),\n",
       "  Operator(<=>, SetEquivalence, arity: 2, signature: ({X},{X}))],\n",
       " '+': [Operator(+, ChainFun, arity: 2, signature: (<X,Y>,<X,Y>)),\n",
       "  Operator(+, UnaryPositiveExpr, arity: 1, signature: (n)),\n",
       "  Operator(+, BinaryPlusExpr, arity: 2, signature: (n,n))],\n",
       " 'Partial': [Operator(Partial, Partial, arity: 2, signature: (X,t))],\n",
       " 'Body': [Operator(Body, Body, arity: 1, signature: (X))],\n",
       " 'Condition': [Operator(Condition, Condition, arity: 1, signature: (X))],\n",
       " '~': [Operator(~, UnaryNegExpr, arity: 1, signature: (t))],\n",
       " '&': [Operator(&, BinaryAndExpr, arity: 2, signature: (t,t)),\n",
       "  Operator(&, SetIntersection, arity: 2, signature: ({X},{X}))],\n",
       " '|': [Operator(|, BinaryOrExpr, arity: 2, signature: (t,t)),\n",
       "  Operator(|, SetUnion, arity: 2, signature: ({X},{X}))],\n",
       " '>>': [Operator(>>, BinaryArrowExpr, arity: 2, signature: (t,t))],\n",
       " '^': [Operator(^, BinaryNeqExpr, arity: 2, signature: (t,t))],\n",
       " '!=': [Operator(^, BinaryNeqExpr, arity: 2, signature: (t,t))],\n",
       " '=/=': [Operator(^, BinaryNeqExpr, arity: 2, signature: (t,t))],\n",
       " 'Case': [Operator(Case, Case, arity: 3, signature: (t,X,X))],\n",
       " '-': [Operator(-, UnaryNegativeExpr, arity: 1, signature: (n)),\n",
       "  Operator(-, BinaryMinusExpr, arity: 2, signature: (n,n)),\n",
       "  Operator(-, SetDifference, arity: 2, signature: ({X},{X}))],\n",
       " '<': [Operator(<, BinaryLExpr, arity: 2, signature: (n,n)),\n",
       "  Operator(<, SetProperSubset, arity: 2, signature: ({X},{X}))],\n",
       " '>': [Operator(>, BinaryGExpr, arity: 2, signature: (n,n)),\n",
       "  operator >(2) = (λ x_{?47}: (λ y_{?47}: (y_{?47} < x_{?47})))],\n",
       " '<=': [Operator(<=, BinaryLeqExpr, arity: 2, signature: (n,n)),\n",
       "  Operator(<=, SetSubset, arity: 2, signature: ({X},{X}))],\n",
       " '>=': [Operator(>=, BinaryGeqExpr, arity: 2, signature: (n,n)),\n",
       "  operator >=(2) = (λ x_{?43}: (λ y_{?43}: (y_{?43} <= x_{?43})))],\n",
       " '/': [Operator(/, BinaryDivExpr, arity: 2, signature: (n,n))],\n",
       " '*': [Operator(*, BinaryTimesExpr, arity: 2, signature: (n,n))],\n",
       " '**': [Operator(**, BinaryExpExpr, arity: 2, signature: (n,n))],\n",
       " '<<': [Operator(<<, SetContains, arity: 2, signature: (X,{X}))],\n",
       " 'Dom': [Operator(Dom, FunDom, arity: 1, signature: (<X,Y>))],\n",
       " 'Codom': [Operator(Codom, FunCodom, arity: 1, signature: (<X,Y>))]}"
      ]
     },
     "execution_count": 2,
     "metadata": {},
     "output_type": "execute_result"
    }
   ],
   "source": [
    "lamb.meta.core.registry"
   ]
  },
  {
   "cell_type": "code",
   "execution_count": 3,
   "id": "773615d8-4a1a-440a-9a1b-3b42b3162226",
   "metadata": {},
   "outputs": [
    {
     "name": "stdout",
     "output_type": "stream",
     "text": [
      " {__ptf(\"1\", typ=None, assignment=assignment):__ptf(\"2\", typ=None, assignment=assignment)}\n",
      " ilnb1\n",
      " Codom(ilnb1)\n"
     ]
    },
    {
     "data": {
      "text/latex": [
       "$Codom(\\textsf{Fun[\\{1:2\\}]}_{\\left\\langle{}n,n\\right\\rangle{}})$"
      ],
      "text/plain": [
       "Codom({1: 2})"
      ]
     },
     "execution_count": 3,
     "metadata": {},
     "output_type": "execute_result"
    }
   ],
   "source": [
    "%te Codom({1:2})"
   ]
  },
  {
   "cell_type": "code",
   "execution_count": 4,
   "id": "6e183399-d615-4508-830c-bab4e74f56a6",
   "metadata": {},
   "outputs": [
    {
     "name": "stdout",
     "output_type": "stream",
     "text": [
      " __ptf(\"1\", typ=None, assignment=assignment)\n",
      " Fun (ilnb1)\n"
     ]
    },
    {
     "data": {
      "text/markdown": [
       "<span style=\"color:red\">**ParseError**</span>: MapFun instantiated with incorrect argument signature (`MapFun requires a sequences of pairs (received non-pair `1`)`), in string `Fun (1)`"
      ],
      "text/plain": [
       "ParseError: MapFun instantiated with incorrect argument signature (`MapFun requires a sequences of pairs (received non-pair `1`)`), in string `Fun (1)`"
      ]
     },
     "metadata": {},
     "output_type": "display_data"
    }
   ],
   "source": [
    "%te Fun (1)"
   ]
  },
  {
   "cell_type": "code",
   "execution_count": 5,
   "id": "981bdc5f-dd9a-423e-a215-16b1b7e2ef3d",
   "metadata": {},
   "outputs": [
    {
     "name": "stdout",
     "output_type": "stream",
     "text": [
      " __ptf(\"1\", typ=None, assignment=assignment),__ptf(\"2\", typ=None, assignment=assignment)\n",
      " (ilnb1)\n",
      " Fun(ilnb1)\n"
     ]
    },
    {
     "data": {
      "text/markdown": [
       "<span style=\"color:red\">**ParseError**</span>: MapFun instantiated with incorrect argument signature (`MapFun requires a sequences of pairs (received non-pair `1`)`), in string `Fun((1,2))`"
      ],
      "text/plain": [
       "ParseError: MapFun instantiated with incorrect argument signature (`MapFun requires a sequences of pairs (received non-pair `1`)`), in string `Fun((1,2))`"
      ]
     },
     "metadata": {},
     "output_type": "display_data"
    }
   ],
   "source": [
    "%te Fun((1,2))"
   ]
  },
  {
   "cell_type": "code",
   "execution_count": 6,
   "id": "83e0c6be-5ab4-4791-a88d-acf959ee679c",
   "metadata": {},
   "outputs": [
    {
     "name": "stdout",
     "output_type": "stream",
     "text": [
      " __ptf(\"1\", typ=None, assignment=assignment),__ptf(\"2\", typ=None, assignment=assignment)\n",
      " __ptf(\"3\", typ=None, assignment=assignment),__ptf(\"4\", typ=None, assignment=assignment)\n",
      " (ilnb1),(ilnb2)\n",
      " Fun(ilnb1)\n"
     ]
    },
    {
     "data": {
      "text/latex": [
       "$\\left\\{\\textsf{1}\\rightarrow{}\\textsf{2}, \\textsf{3}\\rightarrow{}\\textsf{4}\\right\\}$"
      ],
      "text/plain": [
       "{1:2, 3:4}"
      ]
     },
     "execution_count": 6,
     "metadata": {},
     "output_type": "execute_result"
    }
   ],
   "source": [
    "%te Fun((1,2),(3,4))"
   ]
  },
  {
   "cell_type": "code",
   "execution_count": 6,
   "id": "2047022e-4a4e-4187-bc4c-103b14cba803",
   "metadata": {},
   "outputs": [
    {
     "name": "stdout",
     "output_type": "stream",
     "text": [
      " __ptf(\"1\", typ=None, assignment=assignment),__ptf(\"2\", typ=None, assignment=assignment)\n",
      " Fun(((ilnb1)))\n"
     ]
    },
    {
     "data": {
      "text/markdown": [
       "<span style=\"color:red\">**ParseError**</span>: MapFun instantiated with incorrect argument signature (`MapFun requires a sequences of pairs (received non-pair `1`)`), in string `Fun(((1,2)))`"
      ],
      "text/plain": [
       "ParseError: MapFun instantiated with incorrect argument signature (`MapFun requires a sequences of pairs (received non-pair `1`)`), in string `Fun(((1,2)))`"
      ]
     },
     "metadata": {},
     "output_type": "display_data"
    }
   ],
   "source": [
    "%te Fun(((1,2)))"
   ]
  },
  {
   "cell_type": "code",
   "execution_count": 428,
   "id": "70e27a5b-c94f-4a63-bf37-7de9f6bf9555",
   "metadata": {},
   "outputs": [
    {
     "data": {
      "text/latex": [
       "$\\left|\\begin{array}{l}{x}_{X}\\\\{p}_{t}\\end{array}\\right|$"
      ],
      "text/plain": [
       "Partial(x_X, p_t)"
      ]
     },
     "execution_count": 428,
     "metadata": {},
     "output_type": "execute_result"
    }
   ],
   "source": [
    "%te Partial(x_X, p_t)"
   ]
  },
  {
   "cell_type": "code",
   "execution_count": 448,
   "id": "b7e141e8-21b0-49d3-a84a-e82ce1c3e5a0",
   "metadata": {},
   "outputs": [
    {
     "data": {
      "text/plain": [
       "((1, 2), (3, 4))"
      ]
     },
     "execution_count": 448,
     "metadata": {},
     "output_type": "execute_result"
    }
   ],
   "source": [
    "(((1,2),((3,4))))"
   ]
  },
  {
   "cell_type": "code",
   "execution_count": 454,
   "id": "bfceb21f-8d25-4cef-894e-0c1833ac253e",
   "metadata": {},
   "outputs": [
    {
     "data": {
      "text/plain": [
       "(1, 2)"
      ]
     },
     "execution_count": 454,
     "metadata": {},
     "output_type": "execute_result"
    }
   ],
   "source": [
    "def f(x):\n",
    "    return x\n",
    "\n",
    "f((1,2))"
   ]
  },
  {
   "cell_type": "code",
   "execution_count": 5,
   "id": "e6472e21-fee6-4e7d-a383-9f540f0f416f",
   "metadata": {},
   "outputs": [
    {
     "data": {
      "text/plain": [
       "(['Fun', ['(', ['(', '1,2', ')'], ',', ['(', '3,4', ')'], ')']], 16)"
      ]
     },
     "execution_count": 5,
     "metadata": {},
     "output_type": "execute_result"
    }
   ],
   "source": [
    "lamb.parsing.parse_paren_str(\"Fun((1,2),(3,4))\", 0, [])"
   ]
  },
  {
   "cell_type": "code",
   "execution_count": 4,
   "id": "777f7106-aed2-42ae-a7e7-4661d516a20b",
   "metadata": {},
   "outputs": [
    {
     "data": {
      "text/plain": [
       "(['Fun', ['(', ['(', '1,2', ')'], ')']], 10)"
      ]
     },
     "execution_count": 4,
     "metadata": {},
     "output_type": "execute_result"
    }
   ],
   "source": [
    "lamb.parsing.parse_paren_str(\"Fun((1,2))\", 0, [])"
   ]
  },
  {
   "cell_type": "code",
   "execution_count": 3,
   "id": "a343d92b-3fe8-417f-a9cd-446d34f1ee14",
   "metadata": {},
   "outputs": [
    {
     "data": {
      "text/plain": [
       "(['Fun', ['(', ['(', '1,2', ')'], ',', ')']], 11)"
      ]
     },
     "execution_count": 3,
     "metadata": {},
     "output_type": "execute_result"
    }
   ],
   "source": [
    "lamb.parsing.parse_paren_str(\"Fun((1,2),)\", 0, [])"
   ]
  },
  {
   "cell_type": "code",
   "execution_count": 8,
   "id": "1f94ce03-edf6-456e-8628-6c1b2e77627c",
   "metadata": {},
   "outputs": [
    {
     "data": {
      "text/plain": [
       "('1, 2', 2)"
      ]
     },
     "execution_count": 8,
     "metadata": {},
     "output_type": "execute_result"
    }
   ],
   "source": [
    "lamb.parsing.debracket_count(['(', ['(', '1, 2', ')'], ')'])"
   ]
  },
  {
   "cell_type": "code",
   "execution_count": 7,
   "id": "9a34e186-0ec5-4d45-9567-8884084579cc",
   "metadata": {},
   "outputs": [
    {
     "data": {
      "text/plain": [
       "'1, 2'"
      ]
     },
     "execution_count": 7,
     "metadata": {},
     "output_type": "execute_result"
    }
   ],
   "source": [
    "lamb.parsing.debracket(['(', ['(', '1, 2', ')'], ')'])"
   ]
  },
  {
   "cell_type": "code",
   "execution_count": null,
   "id": "ecab6ba3-2cd8-449e-a865-cea142ede432",
   "metadata": {},
   "outputs": [],
   "source": []
  }
 ],
 "metadata": {
  "kernelspec": {
   "display_name": "Lambda Notebook (Python 3)",
   "language": "python",
   "name": "lambda-notebook"
  },
  "language_info": {
   "codemirror_mode": {
    "name": "ipython",
    "version": 3
   },
   "file_extension": ".py",
   "mimetype": "text/x-python",
   "name": "python",
   "nbconvert_exporter": "python",
   "pygments_lexer": "ipython3",
   "version": "3.12.8"
  }
 },
 "nbformat": 4,
 "nbformat_minor": 5
}
