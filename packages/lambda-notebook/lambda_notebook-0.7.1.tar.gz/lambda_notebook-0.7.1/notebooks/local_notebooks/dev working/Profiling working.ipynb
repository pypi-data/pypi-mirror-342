{
 "cells": [
  {
   "cell_type": "code",
   "execution_count": 3,
   "id": "40954054-3de1-4f8d-9735-93e6f2d668c8",
   "metadata": {},
   "outputs": [],
   "source": [
    "reload_lamb()"
   ]
  },
  {
   "cell_type": "markdown",
   "id": "62e10cc5-761a-4e0b-b6f0-356b062c8857",
   "metadata": {},
   "source": [
    "Example based on one from Lamping 1990\n",
    "\n",
    "The dual function reuse leads to combinatorial explosion (in space and time):"
   ]
  },
  {
   "cell_type": "code",
   "execution_count": 4,
   "id": "254eafa0-a196-47b0-b15b-729d5e7a0f32",
   "metadata": {},
   "outputs": [
    {
     "data": {
      "text/latex": [
       "$\\lambda{} x_{e} \\: . \\: {x}$"
      ],
      "text/plain": [
       "(λ x_e: x_e)"
      ]
     },
     "execution_count": 4,
     "metadata": {},
     "output_type": "execute_result"
    }
   ],
   "source": [
    "%te reduce (L x_<e,e> : (L f2_<<e,e>,<e,e>> : (f2(f2(f2(f2(x)))))))(L x_e : x)(L f2_<e,e> : (L f_<e,e> : L x_e: f(f(f(f(f(x))))))(f2))"
   ]
  },
  {
   "cell_type": "code",
   "execution_count": 19,
   "id": "b94807a7-0c58-4d33-ba64-2e6be88741b1",
   "metadata": {},
   "outputs": [
    {
     "name": "stdout",
     "output_type": "stream",
     "text": [
      "CPU times: user 139 ms, sys: 1.34 ms, total: 140 ms\n",
      "Wall time: 140 ms\n"
     ]
    },
    {
     "data": {
      "text/latex": [
       "$\\lambda{} x_{e} \\: . \\: {x}$"
      ],
      "text/plain": [
       "(λ x_e: x_e)"
      ]
     },
     "execution_count": 19,
     "metadata": {},
     "output_type": "execute_result"
    }
   ],
   "source": [
    "reload_lamb()\n",
    "x = te(\"(L x_<e,e> : (L f2_<<e,e>,<e,e>> : (f2(f2(f2(f2(x)))))))(L x_e : x)(L f3_<e,e> : (L f_<e,e> : L x_e: f(f(f(f(x)))))(f3))\")\n",
    "%time x.reduce_all(use_cache=False)\n"
   ]
  },
  {
   "cell_type": "code",
   "execution_count": 8,
   "id": "5be5a104-45db-4807-9232-83a7992bc835",
   "metadata": {},
   "outputs": [
    {
     "data": {
      "text/html": [
       "<div align=\"left\" style=\"display:table;\"><div style=\"display:table-cell;vertical-align:top;padding-left:5px;padding-right:5px;padding-top:0.2em\"><div style=\"display:table;\"><div style=\"display:table-row;vertical-align:top;\"><div align=\"left\" style=\"display:table;border-collapse:collapse;\"><div style=\"display:table-row;border-bottom:1px solid #848482;\"><div style=\"display:table-cell;padding:0.2em 5px 0.2em 0px;vertical-align:top;\"></div><div style=\"display:table-cell;vertical-align:top;border-right:1px solid #848482;padding-right:5px;;padding-top:0.2em\"><div style=\"display:inline-block;\"><span>${[\\lambda{} x_{\\left\\langle{}e,e\\right\\rangle{}} \\: . \\: \\lambda{} f2_{\\left\\langle{}\\left\\langle{}e,e\\right\\rangle{},\\left\\langle{}e,e\\right\\rangle{}\\right\\rangle{}} \\: . \\: {f2}({f2}({f2}({f2}({x}))))]}(\\lambda{} x_{e} \\: . \\: {x})(\\lambda{} f3_{\\left\\langle{}e,e\\right\\rangle{}} \\: . \\: {[\\lambda{} f_{\\left\\langle{}e,e\\right\\rangle{}} \\: . \\: \\lambda{} x_{e} \\: . \\: {f}({f}({f}({f}({x}))))]}({f3}))$</span></div></div><div style=\"display:table-cell;vertical-align:top;padding-left:5px;padding-right:5px;padding-top:0.2em\"><div style=\"display:table;\"><div style=\"display:table-row;\"><div style=\"white-space:nowrap; color:blue;\"><span>reduction of path (1, 1)</span></div></div></div></div></div><div style=\"display:table-row;border-bottom:1px solid #848482;\"><div style=\"display:table-cell;padding:0.2em 5px 0.2em 0px;vertical-align:top;\"> 1. </div><div style=\"display:table-cell;vertical-align:top;border-right:1px solid #848482;padding-right:5px;;padding-top:0.2em\"><div style=\"display:inline-block;\"><span>${[\\lambda{} x_{\\left\\langle{}e,e\\right\\rangle{}} \\: . \\: \\lambda{} f2_{\\left\\langle{}\\left\\langle{}e,e\\right\\rangle{},\\left\\langle{}e,e\\right\\rangle{}\\right\\rangle{}} \\: . \\: {f2}({f2}({f2}({f2}({x}))))]}(\\lambda{} x_{e} \\: . \\: {x})(\\lambda{} f3_{\\left\\langle{}e,e\\right\\rangle{}} \\: . \\: \\lambda{} x_{e} \\: . \\: {f3}({f3}({f3}({f3}({x})))))$</span></div></div><div style=\"display:table-cell;vertical-align:top;padding-left:5px;padding-right:5px;padding-top:0.2em\"><div style=\"display:table;\"><div style=\"display:table-row;\"><div style=\"white-space:nowrap; color:blue;\"><span>reduction of path (0,)</span></div></div></div></div></div><div style=\"display:table-row;border-bottom:1px solid #848482;\"><div style=\"display:table-cell;padding:0.2em 5px 0.2em 0px;vertical-align:top;\"> 2. </div><div style=\"display:table-cell;vertical-align:top;border-right:1px solid #848482;padding-right:5px;;padding-top:0.2em\"><div style=\"display:inline-block;\"><span>${[\\lambda{} f2_{\\left\\langle{}\\left\\langle{}e,e\\right\\rangle{},\\left\\langle{}e,e\\right\\rangle{}\\right\\rangle{}} \\: . \\: {f2}({f2}({f2}({f2}(\\lambda{} x_{e} \\: . \\: {x}))))]}(\\lambda{} f3_{\\left\\langle{}e,e\\right\\rangle{}} \\: . \\: \\lambda{} x_{e} \\: . \\: {f3}({f3}({f3}({f3}({x})))))$</span></div></div><div style=\"display:table-cell;vertical-align:top;padding-left:5px;padding-right:5px;padding-top:0.2em\"><div style=\"display:table;\"><div style=\"display:table-row;\"><div style=\"white-space:nowrap; color:blue;\"><span>Reduction</span></div></div></div></div></div><div style=\"display:table-row;border-bottom:1px solid #848482;\"><div style=\"display:table-cell;padding:0.2em 5px 0.2em 0px;vertical-align:top;\"> 3. </div><div style=\"display:table-cell;vertical-align:top;border-right:1px solid #848482;padding-right:5px;;padding-top:0.2em\"><div style=\"display:inline-block;\"><span>${[\\lambda{} f3_{\\left\\langle{}e,e\\right\\rangle{}} \\: . \\: \\lambda{} x_{e} \\: . \\: {f3}({f3}({f3}({f3}({x}))))]}({[\\lambda{} f3_{\\left\\langle{}e,e\\right\\rangle{}} \\: . \\: \\lambda{} x_{e} \\: . \\: {f3}({f3}({f3}({f3}({x}))))]}({[\\lambda{} f3_{\\left\\langle{}e,e\\right\\rangle{}} \\: . \\: \\lambda{} x_{e} \\: . \\: {f3}({f3}({f3}({f3}({x}))))]}({[\\lambda{} f3_{\\left\\langle{}e,e\\right\\rangle{}} \\: . \\: \\lambda{} x_{e} \\: . \\: {f3}({f3}({f3}({f3}({x}))))]}(\\lambda{} x_{e} \\: . \\: {x}))))$</span></div></div><div style=\"display:table-cell;vertical-align:top;padding-left:5px;padding-right:5px;padding-top:0.2em\"><div style=\"display:table;\"><div style=\"display:table-row;\"><div style=\"white-space:nowrap; color:blue;\"><span>Reduction</span></div></div></div></div></div><div style=\"display:table-row;border-bottom:1px solid #848482;\"><div style=\"display:table-cell;padding:0.2em 5px 0.2em 0px;vertical-align:top;\"> 4. </div><div style=\"display:table-cell;vertical-align:top;border-right:1px solid #848482;padding-right:5px;;padding-top:0.2em\"><div style=\"display:inline-block;\"><span>$\\lambda{} x_{e} \\: . \\: {[\\lambda{} f3_{\\left\\langle{}e,e\\right\\rangle{}} \\: . \\: \\lambda{} x_{e} \\: . \\: {f3}({f3}({f3}({f3}({x}))))]}({[\\lambda{} f3_{\\left\\langle{}e,e\\right\\rangle{}} \\: . \\: \\lambda{} x_{e} \\: . \\: {f3}({f3}({f3}({f3}({x}))))]}({[\\lambda{} f3_{\\left\\langle{}e,e\\right\\rangle{}} \\: . \\: \\lambda{} x_{e} \\: . \\: {f3}({f3}({f3}({f3}({x}))))]}(\\lambda{} x_{e} \\: . \\: {x})))({[\\lambda{} f3_{\\left\\langle{}e,e\\right\\rangle{}} \\: . \\: \\lambda{} x_{e} \\: . \\: {f3}({f3}({f3}({f3}({x}))))]}({[\\lambda{} f3_{\\left\\langle{}e,e\\right\\rangle{}} \\: . \\: \\lambda{} x_{e} \\: . \\: {f3}({f3}({f3}({f3}({x}))))]}({[\\lambda{} f3_{\\left\\langle{}e,e\\right\\rangle{}} \\: . \\: \\lambda{} x_{e} \\: . \\: {f3}({f3}({f3}({f3}({x}))))]}(\\lambda{} x_{e} \\: . \\: {x})))({[\\lambda{} f3_{\\left\\langle{}e,e\\right\\rangle{}} \\: . \\: \\lambda{} x_{e} \\: . \\: {f3}({f3}({f3}({f3}({x}))))]}({[\\lambda{} f3_{\\left\\langle{}e,e\\right\\rangle{}} \\: . \\: \\lambda{} x_{e} \\: . \\: {f3}({f3}({f3}({f3}({x}))))]}({[\\lambda{} f3_{\\left\\langle{}e,e\\right\\rangle{}} \\: . \\: \\lambda{} x_{e} \\: . \\: {f3}({f3}({f3}({f3}({x}))))]}(\\lambda{} x_{e} \\: . \\: {x})))({[\\lambda{} f3_{\\left\\langle{}e,e\\right\\rangle{}} \\: . \\: \\lambda{} x_{e} \\: . \\: {f3}({f3}({f3}({f3}({x}))))]}({[\\lambda{} f3_{\\left\\langle{}e,e\\right\\rangle{}} \\: . \\: \\lambda{} x_{e} \\: . \\: {f3}({f3}({f3}({f3}({x}))))]}({[\\lambda{} f3_{\\left\\langle{}e,e\\right\\rangle{}} \\: . \\: \\lambda{} x_{e} \\: . \\: {f3}({f3}({f3}({f3}({x}))))]}(\\lambda{} x_{e} \\: . \\: {x})))({x}))))$</span></div></div><div style=\"display:table-cell;vertical-align:top;padding-left:5px;padding-right:5px;padding-top:0.2em\"><div style=\"display:table;\"><div style=\"display:table-row;\"><div style=\"white-space:nowrap; color:blue;\"><span>reduction of path (1, 1, 1, 1, 0)</span></div></div></div></div></div><div style=\"display:table-row;border-bottom:1px solid #848482;\"><div style=\"display:table-cell;padding:0.2em 5px 0.2em 0px;vertical-align:top;\"> 5. </div><div style=\"display:table-cell;vertical-align:top;border-right:1px solid #848482;padding-right:5px;;padding-top:0.2em\"><div style=\"display:inline-block;\"><span>$\\lambda{} x_{e} \\: . \\: {[\\lambda{} f3_{\\left\\langle{}e,e\\right\\rangle{}} \\: . \\: \\lambda{} x_{e} \\: . \\: {f3}({f3}({f3}({f3}({x}))))]}({[\\lambda{} f3_{\\left\\langle{}e,e\\right\\rangle{}} \\: . \\: \\lambda{} x_{e} \\: . \\: {f3}({f3}({f3}({f3}({x}))))]}({[\\lambda{} f3_{\\left\\langle{}e,e\\right\\rangle{}} \\: . \\: \\lambda{} x_{e} \\: . \\: {f3}({f3}({f3}({f3}({x}))))]}(\\lambda{} x_{e} \\: . \\: {x})))({[\\lambda{} f3_{\\left\\langle{}e,e\\right\\rangle{}} \\: . \\: \\lambda{} x_{e} \\: . \\: {f3}({f3}({f3}({f3}({x}))))]}({[\\lambda{} f3_{\\left\\langle{}e,e\\right\\rangle{}} \\: . \\: \\lambda{} x_{e} \\: . \\: {f3}({f3}({f3}({f3}({x}))))]}({[\\lambda{} f3_{\\left\\langle{}e,e\\right\\rangle{}} \\: . \\: \\lambda{} x_{e} \\: . \\: {f3}({f3}({f3}({f3}({x}))))]}(\\lambda{} x_{e} \\: . \\: {x})))({[\\lambda{} f3_{\\left\\langle{}e,e\\right\\rangle{}} \\: . \\: \\lambda{} x_{e} \\: . \\: {f3}({f3}({f3}({f3}({x}))))]}({[\\lambda{} f3_{\\left\\langle{}e,e\\right\\rangle{}} \\: . \\: \\lambda{} x_{e} \\: . \\: {f3}({f3}({f3}({f3}({x}))))]}({[\\lambda{} f3_{\\left\\langle{}e,e\\right\\rangle{}} \\: . \\: \\lambda{} x_{e} \\: . \\: {f3}({f3}({f3}({f3}({x}))))]}(\\lambda{} x_{e} \\: . \\: {x})))({[\\lambda{} x_{e} \\: . \\: {[\\lambda{} f3_{\\left\\langle{}e,e\\right\\rangle{}} \\: . \\: \\lambda{} x_{e} \\: . \\: {f3}({f3}({f3}({f3}({x}))))]}({[\\lambda{} f3_{\\left\\langle{}e,e\\right\\rangle{}} \\: . \\: \\lambda{} x_{e} \\: . \\: {f3}({f3}({f3}({f3}({x}))))]}(\\lambda{} x_{e} \\: . \\: {x}))({[\\lambda{} f3_{\\left\\langle{}e,e\\right\\rangle{}} \\: . \\: \\lambda{} x_{e} \\: . \\: {f3}({f3}({f3}({f3}({x}))))]}({[\\lambda{} f3_{\\left\\langle{}e,e\\right\\rangle{}} \\: . \\: \\lambda{} x_{e} \\: . \\: {f3}({f3}({f3}({f3}({x}))))]}(\\lambda{} x_{e} \\: . \\: {x}))({[\\lambda{} f3_{\\left\\langle{}e,e\\right\\rangle{}} \\: . \\: \\lambda{} x_{e} \\: . \\: {f3}({f3}({f3}({f3}({x}))))]}({[\\lambda{} f3_{\\left\\langle{}e,e\\right\\rangle{}} \\: . \\: \\lambda{} x_{e} \\: . \\: {f3}({f3}({f3}({f3}({x}))))]}(\\lambda{} x_{e} \\: . \\: {x}))({[\\lambda{} f3_{\\left\\langle{}e,e\\right\\rangle{}} \\: . \\: \\lambda{} x_{e} \\: . \\: {f3}({f3}({f3}({f3}({x}))))]}({[\\lambda{} f3_{\\left\\langle{}e,e\\right\\rangle{}} \\: . \\: \\lambda{} x_{e} \\: . \\: {f3}({f3}({f3}({f3}({x}))))]}(\\lambda{} x_{e} \\: . \\: {x}))({x}))))]}({x}))))$</span></div></div><div style=\"display:table-cell;vertical-align:top;padding-left:5px;padding-right:5px;padding-top:0.2em\"><div style=\"display:table;\"><div style=\"display:table-row;\"><div style=\"white-space:nowrap; color:blue;\"><span>reduction of path (1, 1, 1, 1)</span></div></div></div></div></div><div style=\"display:table-row;border-bottom:1px solid #848482;\"><div style=\"display:table-cell;padding:0.2em 5px 0.2em 0px;vertical-align:top;\"> 6. </div><div style=\"display:table-cell;vertical-align:top;border-right:1px solid #848482;padding-right:5px;;padding-top:0.2em\"><div style=\"display:inline-block;\"><span>$\\lambda{} x_{e} \\: . \\: {[\\lambda{} f3_{\\left\\langle{}e,e\\right\\rangle{}} \\: . \\: \\lambda{} x_{e} \\: . \\: {f3}({f3}({f3}({f3}({x}))))]}({[\\lambda{} f3_{\\left\\langle{}e,e\\right\\rangle{}} \\: . \\: \\lambda{} x_{e} \\: . \\: {f3}({f3}({f3}({f3}({x}))))]}({[\\lambda{} f3_{\\left\\langle{}e,e\\right\\rangle{}} \\: . \\: \\lambda{} x_{e} \\: . \\: {f3}({f3}({f3}({f3}({x}))))]}(\\lambda{} x_{e} \\: . \\: {x})))({[\\lambda{} f3_{\\left\\langle{}e,e\\right\\rangle{}} \\: . \\: \\lambda{} x_{e} \\: . \\: {f3}({f3}({f3}({f3}({x}))))]}({[\\lambda{} f3_{\\left\\langle{}e,e\\right\\rangle{}} \\: . \\: \\lambda{} x_{e} \\: . \\: {f3}({f3}({f3}({f3}({x}))))]}({[\\lambda{} f3_{\\left\\langle{}e,e\\right\\rangle{}} \\: . \\: \\lambda{} x_{e} \\: . \\: {f3}({f3}({f3}({f3}({x}))))]}(\\lambda{} x_{e} \\: . \\: {x})))({[\\lambda{} f3_{\\left\\langle{}e,e\\right\\rangle{}} \\: . \\: \\lambda{} x_{e} \\: . \\: {f3}({f3}({f3}({f3}({x}))))]}({[\\lambda{} f3_{\\left\\langle{}e,e\\right\\rangle{}} \\: . \\: \\lambda{} x_{e} \\: . \\: {f3}({f3}({f3}({f3}({x}))))]}({[\\lambda{} f3_{\\left\\langle{}e,e\\right\\rangle{}} \\: . \\: \\lambda{} x_{e} \\: . \\: {f3}({f3}({f3}({f3}({x}))))]}(\\lambda{} x_{e} \\: . \\: {x})))({[\\lambda{} f3_{\\left\\langle{}e,e\\right\\rangle{}} \\: . \\: \\lambda{} x_{e} \\: . \\: {f3}({f3}({f3}({f3}({x}))))]}({[\\lambda{} f3_{\\left\\langle{}e,e\\right\\rangle{}} \\: . \\: \\lambda{} x_{e} \\: . \\: {f3}({f3}({f3}({f3}({x}))))]}(\\lambda{} x_{e} \\: . \\: {x}))({[\\lambda{} f3_{\\left\\langle{}e,e\\right\\rangle{}} \\: . \\: \\lambda{} x_{e} \\: . \\: {f3}({f3}({f3}({f3}({x}))))]}({[\\lambda{} f3_{\\left\\langle{}e,e\\right\\rangle{}} \\: . \\: \\lambda{} x_{e} \\: . \\: {f3}({f3}({f3}({f3}({x}))))]}(\\lambda{} x_{e} \\: . \\: {x}))({[\\lambda{} f3_{\\left\\langle{}e,e\\right\\rangle{}} \\: . \\: \\lambda{} x_{e} \\: . \\: {f3}({f3}({f3}({f3}({x}))))]}({[\\lambda{} f3_{\\left\\langle{}e,e\\right\\rangle{}} \\: . \\: \\lambda{} x_{e} \\: . \\: {f3}({f3}({f3}({f3}({x}))))]}(\\lambda{} x_{e} \\: . \\: {x}))({[\\lambda{} f3_{\\left\\langle{}e,e\\right\\rangle{}} \\: . \\: \\lambda{} x_{e} \\: . \\: {f3}({f3}({f3}({f3}({x}))))]}({[\\lambda{} f3_{\\left\\langle{}e,e\\right\\rangle{}} \\: . \\: \\lambda{} x_{e} \\: . \\: {f3}({f3}({f3}({f3}({x}))))]}(\\lambda{} x_{e} \\: . \\: {x}))({x})))))))$</span></div></div><div style=\"display:table-cell;vertical-align:top;padding-left:5px;padding-right:5px;padding-top:0.2em\"><div style=\"display:table;\"><div style=\"display:table-row;\"><div style=\"white-space:nowrap; color:blue;\"><span>reduction of path (1, 1, 1, 1, 1, 1, 1, 0)</span></div></div></div></div></div><div style=\"display:table-row;border-bottom:1px solid #848482;\"><div style=\"display:table-cell;padding:0.2em 5px 0.2em 0px;vertical-align:top;\"> 7. </div><div style=\"display:table-cell;vertical-align:top;border-right:1px solid #848482;padding-right:5px;;padding-top:0.2em\"><div style=\"display:inline-block;\"><span>$\\lambda{} x_{e} \\: . \\: {[\\lambda{} f3_{\\left\\langle{}e,e\\right\\rangle{}} \\: . \\: \\lambda{} x_{e} \\: . \\: {f3}({f3}({f3}({f3}({x}))))]}({[\\lambda{} f3_{\\left\\langle{}e,e\\right\\rangle{}} \\: . \\: \\lambda{} x_{e} \\: . \\: {f3}({f3}({f3}({f3}({x}))))]}({[\\lambda{} f3_{\\left\\langle{}e,e\\right\\rangle{}} \\: . \\: \\lambda{} x_{e} \\: . \\: {f3}({f3}({f3}({f3}({x}))))]}(\\lambda{} x_{e} \\: . \\: {x})))({[\\lambda{} f3_{\\left\\langle{}e,e\\right\\rangle{}} \\: . \\: \\lambda{} x_{e} \\: . \\: {f3}({f3}({f3}({f3}({x}))))]}({[\\lambda{} f3_{\\left\\langle{}e,e\\right\\rangle{}} \\: . \\: \\lambda{} x_{e} \\: . \\: {f3}({f3}({f3}({f3}({x}))))]}({[\\lambda{} f3_{\\left\\langle{}e,e\\right\\rangle{}} \\: . \\: \\lambda{} x_{e} \\: . \\: {f3}({f3}({f3}({f3}({x}))))]}(\\lambda{} x_{e} \\: . \\: {x})))({[\\lambda{} f3_{\\left\\langle{}e,e\\right\\rangle{}} \\: . \\: \\lambda{} x_{e} \\: . \\: {f3}({f3}({f3}({f3}({x}))))]}({[\\lambda{} f3_{\\left\\langle{}e,e\\right\\rangle{}} \\: . \\: \\lambda{} x_{e} \\: . \\: {f3}({f3}({f3}({f3}({x}))))]}({[\\lambda{} f3_{\\left\\langle{}e,e\\right\\rangle{}} \\: . \\: \\lambda{} x_{e} \\: . \\: {f3}({f3}({f3}({f3}({x}))))]}(\\lambda{} x_{e} \\: . \\: {x})))({[\\lambda{} f3_{\\left\\langle{}e,e\\right\\rangle{}} \\: . \\: \\lambda{} x_{e} \\: . \\: {f3}({f3}({f3}({f3}({x}))))]}({[\\lambda{} f3_{\\left\\langle{}e,e\\right\\rangle{}} \\: . \\: \\lambda{} x_{e} \\: . \\: {f3}({f3}({f3}({f3}({x}))))]}(\\lambda{} x_{e} \\: . \\: {x}))({[\\lambda{} f3_{\\left\\langle{}e,e\\right\\rangle{}} \\: . \\: \\lambda{} x_{e} \\: . \\: {f3}({f3}({f3}({f3}({x}))))]}({[\\lambda{} f3_{\\left\\langle{}e,e\\right\\rangle{}} \\: . \\: \\lambda{} x_{e} \\: . \\: {f3}({f3}({f3}({f3}({x}))))]}(\\lambda{} x_{e} \\: . \\: {x}))({[\\lambda{} f3_{\\left\\langle{}e,e\\right\\rangle{}} \\: . \\: \\lambda{} x_{e} \\: . \\: {f3}({f3}({f3}({f3}({x}))))]}({[\\lambda{} f3_{\\left\\langle{}e,e\\right\\rangle{}} \\: . \\: \\lambda{} x_{e} \\: . \\: {f3}({f3}({f3}({f3}({x}))))]}(\\lambda{} x_{e} \\: . \\: {x}))({[\\lambda{} x_{e} \\: . \\: {[\\lambda{} f3_{\\left\\langle{}e,e\\right\\rangle{}} \\: . \\: \\lambda{} x_{e} \\: . \\: {f3}({f3}({f3}({f3}({x}))))]}(\\lambda{} x_{e} \\: . \\: {x})({[\\lambda{} f3_{\\left\\langle{}e,e\\right\\rangle{}} \\: . \\: \\lambda{} x_{e} \\: . \\: {f3}({f3}({f3}({f3}({x}))))]}(\\lambda{} x_{e} \\: . \\: {x})({[\\lambda{} f3_{\\left\\langle{}e,e\\right\\rangle{}} \\: . \\: \\lambda{} x_{e} \\: . \\: {f3}({f3}({f3}({f3}({x}))))]}(\\lambda{} x_{e} \\: . \\: {x})({[\\lambda{} f3_{\\left\\langle{}e,e\\right\\rangle{}} \\: . \\: \\lambda{} x_{e} \\: . \\: {f3}({f3}({f3}({f3}({x}))))]}(\\lambda{} x_{e} \\: . \\: {x})({x}))))]}({x})))))))$</span></div></div><div style=\"display:table-cell;vertical-align:top;padding-left:5px;padding-right:5px;padding-top:0.2em\"><div style=\"display:table;\"><div style=\"display:table-row;\"><div style=\"white-space:nowrap; color:blue;\"><span>reduction of path (1, 1, 1, 1, 1, 1, 1)</span></div></div></div></div></div><div style=\"display:table-row;border-bottom:1px solid #848482;\"><div style=\"display:table-cell;padding:0.2em 5px 0.2em 0px;vertical-align:top;\"> 8. </div><div style=\"display:table-cell;vertical-align:top;border-right:1px solid #848482;padding-right:5px;;padding-top:0.2em\"><div style=\"display:inline-block;\"><span>$\\lambda{} x_{e} \\: . \\: {[\\lambda{} f3_{\\left\\langle{}e,e\\right\\rangle{}} \\: . \\: \\lambda{} x_{e} \\: . \\: {f3}({f3}({f3}({f3}({x}))))]}({[\\lambda{} f3_{\\left\\langle{}e,e\\right\\rangle{}} \\: . \\: \\lambda{} x_{e} \\: . \\: {f3}({f3}({f3}({f3}({x}))))]}({[\\lambda{} f3_{\\left\\langle{}e,e\\right\\rangle{}} \\: . \\: \\lambda{} x_{e} \\: . \\: {f3}({f3}({f3}({f3}({x}))))]}(\\lambda{} x_{e} \\: . \\: {x})))({[\\lambda{} f3_{\\left\\langle{}e,e\\right\\rangle{}} \\: . \\: \\lambda{} x_{e} \\: . \\: {f3}({f3}({f3}({f3}({x}))))]}({[\\lambda{} f3_{\\left\\langle{}e,e\\right\\rangle{}} \\: . \\: \\lambda{} x_{e} \\: . \\: {f3}({f3}({f3}({f3}({x}))))]}({[\\lambda{} f3_{\\left\\langle{}e,e\\right\\rangle{}} \\: . \\: \\lambda{} x_{e} \\: . \\: {f3}({f3}({f3}({f3}({x}))))]}(\\lambda{} x_{e} \\: . \\: {x})))({[\\lambda{} f3_{\\left\\langle{}e,e\\right\\rangle{}} \\: . \\: \\lambda{} x_{e} \\: . \\: {f3}({f3}({f3}({f3}({x}))))]}({[\\lambda{} f3_{\\left\\langle{}e,e\\right\\rangle{}} \\: . \\: \\lambda{} x_{e} \\: . \\: {f3}({f3}({f3}({f3}({x}))))]}({[\\lambda{} f3_{\\left\\langle{}e,e\\right\\rangle{}} \\: . \\: \\lambda{} x_{e} \\: . \\: {f3}({f3}({f3}({f3}({x}))))]}(\\lambda{} x_{e} \\: . \\: {x})))({[\\lambda{} f3_{\\left\\langle{}e,e\\right\\rangle{}} \\: . \\: \\lambda{} x_{e} \\: . \\: {f3}({f3}({f3}({f3}({x}))))]}({[\\lambda{} f3_{\\left\\langle{}e,e\\right\\rangle{}} \\: . \\: \\lambda{} x_{e} \\: . \\: {f3}({f3}({f3}({f3}({x}))))]}(\\lambda{} x_{e} \\: . \\: {x}))({[\\lambda{} f3_{\\left\\langle{}e,e\\right\\rangle{}} \\: . \\: \\lambda{} x_{e} \\: . \\: {f3}({f3}({f3}({f3}({x}))))]}({[\\lambda{} f3_{\\left\\langle{}e,e\\right\\rangle{}} \\: . \\: \\lambda{} x_{e} \\: . \\: {f3}({f3}({f3}({f3}({x}))))]}(\\lambda{} x_{e} \\: . \\: {x}))({[\\lambda{} f3_{\\left\\langle{}e,e\\right\\rangle{}} \\: . \\: \\lambda{} x_{e} \\: . \\: {f3}({f3}({f3}({f3}({x}))))]}({[\\lambda{} f3_{\\left\\langle{}e,e\\right\\rangle{}} \\: . \\: \\lambda{} x_{e} \\: . \\: {f3}({f3}({f3}({f3}({x}))))]}(\\lambda{} x_{e} \\: . \\: {x}))({[\\lambda{} f3_{\\left\\langle{}e,e\\right\\rangle{}} \\: . \\: \\lambda{} x_{e} \\: . \\: {f3}({f3}({f3}({f3}({x}))))]}(\\lambda{} x_{e} \\: . \\: {x})({[\\lambda{} f3_{\\left\\langle{}e,e\\right\\rangle{}} \\: . \\: \\lambda{} x_{e} \\: . \\: {f3}({f3}({f3}({f3}({x}))))]}(\\lambda{} x_{e} \\: . \\: {x})({[\\lambda{} f3_{\\left\\langle{}e,e\\right\\rangle{}} \\: . \\: \\lambda{} x_{e} \\: . \\: {f3}({f3}({f3}({f3}({x}))))]}(\\lambda{} x_{e} \\: . \\: {x})({[\\lambda{} f3_{\\left\\langle{}e,e\\right\\rangle{}} \\: . \\: \\lambda{} x_{e} \\: . \\: {f3}({f3}({f3}({f3}({x}))))]}(\\lambda{} x_{e} \\: . \\: {x})({x}))))))))))$</span></div></div><div style=\"display:table-cell;vertical-align:top;padding-left:5px;padding-right:5px;padding-top:0.2em\"><div style=\"display:table;\"><div style=\"display:table-row;\"><div style=\"white-space:nowrap; color:blue;\"><span>reduction of path (1, 1, 1, 1, 1, 1, 1, 1, 1, 1, 0)</span></div></div></div></div></div><div style=\"display:table-row;border-bottom:1px solid #848482;\"><div style=\"display:table-cell;padding:0.2em 5px 0.2em 0px;vertical-align:top;\"> 9. </div><div style=\"display:table-cell;vertical-align:top;border-right:1px solid #848482;padding-right:5px;;padding-top:0.2em\"><div style=\"display:inline-block;\"><span>$\\lambda{} x_{e} \\: . \\: {[\\lambda{} f3_{\\left\\langle{}e,e\\right\\rangle{}} \\: . \\: \\lambda{} x_{e} \\: . \\: {f3}({f3}({f3}({f3}({x}))))]}({[\\lambda{} f3_{\\left\\langle{}e,e\\right\\rangle{}} \\: . \\: \\lambda{} x_{e} \\: . \\: {f3}({f3}({f3}({f3}({x}))))]}({[\\lambda{} f3_{\\left\\langle{}e,e\\right\\rangle{}} \\: . \\: \\lambda{} x_{e} \\: . \\: {f3}({f3}({f3}({f3}({x}))))]}(\\lambda{} x_{e} \\: . \\: {x})))({[\\lambda{} f3_{\\left\\langle{}e,e\\right\\rangle{}} \\: . \\: \\lambda{} x_{e} \\: . \\: {f3}({f3}({f3}({f3}({x}))))]}({[\\lambda{} f3_{\\left\\langle{}e,e\\right\\rangle{}} \\: . \\: \\lambda{} x_{e} \\: . \\: {f3}({f3}({f3}({f3}({x}))))]}({[\\lambda{} f3_{\\left\\langle{}e,e\\right\\rangle{}} \\: . \\: \\lambda{} x_{e} \\: . \\: {f3}({f3}({f3}({f3}({x}))))]}(\\lambda{} x_{e} \\: . \\: {x})))({[\\lambda{} f3_{\\left\\langle{}e,e\\right\\rangle{}} \\: . \\: \\lambda{} x_{e} \\: . \\: {f3}({f3}({f3}({f3}({x}))))]}({[\\lambda{} f3_{\\left\\langle{}e,e\\right\\rangle{}} \\: . \\: \\lambda{} x_{e} \\: . \\: {f3}({f3}({f3}({f3}({x}))))]}({[\\lambda{} f3_{\\left\\langle{}e,e\\right\\rangle{}} \\: . \\: \\lambda{} x_{e} \\: . \\: {f3}({f3}({f3}({f3}({x}))))]}(\\lambda{} x_{e} \\: . \\: {x})))({[\\lambda{} f3_{\\left\\langle{}e,e\\right\\rangle{}} \\: . \\: \\lambda{} x_{e} \\: . \\: {f3}({f3}({f3}({f3}({x}))))]}({[\\lambda{} f3_{\\left\\langle{}e,e\\right\\rangle{}} \\: . \\: \\lambda{} x_{e} \\: . \\: {f3}({f3}({f3}({f3}({x}))))]}(\\lambda{} x_{e} \\: . \\: {x}))({[\\lambda{} f3_{\\left\\langle{}e,e\\right\\rangle{}} \\: . \\: \\lambda{} x_{e} \\: . \\: {f3}({f3}({f3}({f3}({x}))))]}({[\\lambda{} f3_{\\left\\langle{}e,e\\right\\rangle{}} \\: . \\: \\lambda{} x_{e} \\: . \\: {f3}({f3}({f3}({f3}({x}))))]}(\\lambda{} x_{e} \\: . \\: {x}))({[\\lambda{} f3_{\\left\\langle{}e,e\\right\\rangle{}} \\: . \\: \\lambda{} x_{e} \\: . \\: {f3}({f3}({f3}({f3}({x}))))]}({[\\lambda{} f3_{\\left\\langle{}e,e\\right\\rangle{}} \\: . \\: \\lambda{} x_{e} \\: . \\: {f3}({f3}({f3}({f3}({x}))))]}(\\lambda{} x_{e} \\: . \\: {x}))({[\\lambda{} f3_{\\left\\langle{}e,e\\right\\rangle{}} \\: . \\: \\lambda{} x_{e} \\: . \\: {f3}({f3}({f3}({f3}({x}))))]}(\\lambda{} x_{e} \\: . \\: {x})({[\\lambda{} f3_{\\left\\langle{}e,e\\right\\rangle{}} \\: . \\: \\lambda{} x_{e} \\: . \\: {f3}({f3}({f3}({f3}({x}))))]}(\\lambda{} x_{e} \\: . \\: {x})({[\\lambda{} f3_{\\left\\langle{}e,e\\right\\rangle{}} \\: . \\: \\lambda{} x_{e} \\: . \\: {f3}({f3}({f3}({f3}({x}))))]}(\\lambda{} x_{e} \\: . \\: {x})({[\\lambda{} x_{e} \\: . \\: {[\\lambda{} x_{e} \\: . \\: {x}]}({[\\lambda{} x_{e} \\: . \\: {x}]}({[\\lambda{} x_{e} \\: . \\: {x}]}({[\\lambda{} x_{e} \\: . \\: {x}]}({x}))))]}({x}))))))))))$</span></div></div><div style=\"display:table-cell;vertical-align:top;padding-left:5px;padding-right:5px;padding-top:0.2em\"><div style=\"display:table;\"><div style=\"display:table-row;\"><div style=\"white-space:nowrap; color:blue;\"><span>reduction of path (1, 1, 1, 1, 1, 1, 1, 1, 1, 1)</span></div></div></div></div></div><div style=\"display:table-row;border-bottom:1px solid #848482;\"><div style=\"display:table-cell;padding:0.2em 5px 0.2em 0px;vertical-align:top;\">10. </div><div style=\"display:table-cell;vertical-align:top;border-right:1px solid #848482;padding-right:5px;;padding-top:0.2em\"><div style=\"display:inline-block;\"><span>$\\lambda{} x_{e} \\: . \\: {[\\lambda{} f3_{\\left\\langle{}e,e\\right\\rangle{}} \\: . \\: \\lambda{} x_{e} \\: . \\: {f3}({f3}({f3}({f3}({x}))))]}({[\\lambda{} f3_{\\left\\langle{}e,e\\right\\rangle{}} \\: . \\: \\lambda{} x_{e} \\: . \\: {f3}({f3}({f3}({f3}({x}))))]}({[\\lambda{} f3_{\\left\\langle{}e,e\\right\\rangle{}} \\: . \\: \\lambda{} x_{e} \\: . \\: {f3}({f3}({f3}({f3}({x}))))]}(\\lambda{} x_{e} \\: . \\: {x})))({[\\lambda{} f3_{\\left\\langle{}e,e\\right\\rangle{}} \\: . \\: \\lambda{} x_{e} \\: . \\: {f3}({f3}({f3}({f3}({x}))))]}({[\\lambda{} f3_{\\left\\langle{}e,e\\right\\rangle{}} \\: . \\: \\lambda{} x_{e} \\: . \\: {f3}({f3}({f3}({f3}({x}))))]}({[\\lambda{} f3_{\\left\\langle{}e,e\\right\\rangle{}} \\: . \\: \\lambda{} x_{e} \\: . \\: {f3}({f3}({f3}({f3}({x}))))]}(\\lambda{} x_{e} \\: . \\: {x})))({[\\lambda{} f3_{\\left\\langle{}e,e\\right\\rangle{}} \\: . \\: \\lambda{} x_{e} \\: . \\: {f3}({f3}({f3}({f3}({x}))))]}({[\\lambda{} f3_{\\left\\langle{}e,e\\right\\rangle{}} \\: . \\: \\lambda{} x_{e} \\: . \\: {f3}({f3}({f3}({f3}({x}))))]}({[\\lambda{} f3_{\\left\\langle{}e,e\\right\\rangle{}} \\: . \\: \\lambda{} x_{e} \\: . \\: {f3}({f3}({f3}({f3}({x}))))]}(\\lambda{} x_{e} \\: . \\: {x})))({[\\lambda{} f3_{\\left\\langle{}e,e\\right\\rangle{}} \\: . \\: \\lambda{} x_{e} \\: . \\: {f3}({f3}({f3}({f3}({x}))))]}({[\\lambda{} f3_{\\left\\langle{}e,e\\right\\rangle{}} \\: . \\: \\lambda{} x_{e} \\: . \\: {f3}({f3}({f3}({f3}({x}))))]}(\\lambda{} x_{e} \\: . \\: {x}))({[\\lambda{} f3_{\\left\\langle{}e,e\\right\\rangle{}} \\: . \\: \\lambda{} x_{e} \\: . \\: {f3}({f3}({f3}({f3}({x}))))]}({[\\lambda{} f3_{\\left\\langle{}e,e\\right\\rangle{}} \\: . \\: \\lambda{} x_{e} \\: . \\: {f3}({f3}({f3}({f3}({x}))))]}(\\lambda{} x_{e} \\: . \\: {x}))({[\\lambda{} f3_{\\left\\langle{}e,e\\right\\rangle{}} \\: . \\: \\lambda{} x_{e} \\: . \\: {f3}({f3}({f3}({f3}({x}))))]}({[\\lambda{} f3_{\\left\\langle{}e,e\\right\\rangle{}} \\: . \\: \\lambda{} x_{e} \\: . \\: {f3}({f3}({f3}({f3}({x}))))]}(\\lambda{} x_{e} \\: . \\: {x}))({[\\lambda{} f3_{\\left\\langle{}e,e\\right\\rangle{}} \\: . \\: \\lambda{} x_{e} \\: . \\: {f3}({f3}({f3}({f3}({x}))))]}(\\lambda{} x_{e} \\: . \\: {x})({[\\lambda{} f3_{\\left\\langle{}e,e\\right\\rangle{}} \\: . \\: \\lambda{} x_{e} \\: . \\: {f3}({f3}({f3}({f3}({x}))))]}(\\lambda{} x_{e} \\: . \\: {x})({[\\lambda{} f3_{\\left\\langle{}e,e\\right\\rangle{}} \\: . \\: \\lambda{} x_{e} \\: . \\: {f3}({f3}({f3}({f3}({x}))))]}(\\lambda{} x_{e} \\: . \\: {x})({[\\lambda{} x_{e} \\: . \\: {x}]}({[\\lambda{} x_{e} \\: . \\: {x}]}({[\\lambda{} x_{e} \\: . \\: {x}]}({[\\lambda{} x_{e} \\: . \\: {x}]}({x})))))))))))))$</span></div></div><div style=\"display:table-cell;vertical-align:top;padding-left:5px;padding-right:5px;padding-top:0.2em\"><div style=\"display:table;\"><div style=\"display:table-row;\"><div style=\"white-space:nowrap; color:blue;\"><span>reduction of path (1, 1, 1, 1, 1, 1, 1, 1, 1, 1)</span></div></div></div></div></div><div style=\"display:table-row;border-bottom:1px solid #848482;\"><div style=\"display:table-cell;padding:0.2em 5px 0.2em 0px;vertical-align:top;\">11. </div><div style=\"display:table-cell;vertical-align:top;border-right:1px solid #848482;padding-right:5px;;padding-top:0.2em\"><div style=\"display:inline-block;\"><span>$\\lambda{} x_{e} \\: . \\: {[\\lambda{} f3_{\\left\\langle{}e,e\\right\\rangle{}} \\: . \\: \\lambda{} x_{e} \\: . \\: {f3}({f3}({f3}({f3}({x}))))]}({[\\lambda{} f3_{\\left\\langle{}e,e\\right\\rangle{}} \\: . \\: \\lambda{} x_{e} \\: . \\: {f3}({f3}({f3}({f3}({x}))))]}({[\\lambda{} f3_{\\left\\langle{}e,e\\right\\rangle{}} \\: . \\: \\lambda{} x_{e} \\: . \\: {f3}({f3}({f3}({f3}({x}))))]}(\\lambda{} x_{e} \\: . \\: {x})))({[\\lambda{} f3_{\\left\\langle{}e,e\\right\\rangle{}} \\: . \\: \\lambda{} x_{e} \\: . \\: {f3}({f3}({f3}({f3}({x}))))]}({[\\lambda{} f3_{\\left\\langle{}e,e\\right\\rangle{}} \\: . \\: \\lambda{} x_{e} \\: . \\: {f3}({f3}({f3}({f3}({x}))))]}({[\\lambda{} f3_{\\left\\langle{}e,e\\right\\rangle{}} \\: . \\: \\lambda{} x_{e} \\: . \\: {f3}({f3}({f3}({f3}({x}))))]}(\\lambda{} x_{e} \\: . \\: {x})))({[\\lambda{} f3_{\\left\\langle{}e,e\\right\\rangle{}} \\: . \\: \\lambda{} x_{e} \\: . \\: {f3}({f3}({f3}({f3}({x}))))]}({[\\lambda{} f3_{\\left\\langle{}e,e\\right\\rangle{}} \\: . \\: \\lambda{} x_{e} \\: . \\: {f3}({f3}({f3}({f3}({x}))))]}({[\\lambda{} f3_{\\left\\langle{}e,e\\right\\rangle{}} \\: . \\: \\lambda{} x_{e} \\: . \\: {f3}({f3}({f3}({f3}({x}))))]}(\\lambda{} x_{e} \\: . \\: {x})))({[\\lambda{} f3_{\\left\\langle{}e,e\\right\\rangle{}} \\: . \\: \\lambda{} x_{e} \\: . \\: {f3}({f3}({f3}({f3}({x}))))]}({[\\lambda{} f3_{\\left\\langle{}e,e\\right\\rangle{}} \\: . \\: \\lambda{} x_{e} \\: . \\: {f3}({f3}({f3}({f3}({x}))))]}(\\lambda{} x_{e} \\: . \\: {x}))({[\\lambda{} f3_{\\left\\langle{}e,e\\right\\rangle{}} \\: . \\: \\lambda{} x_{e} \\: . \\: {f3}({f3}({f3}({f3}({x}))))]}({[\\lambda{} f3_{\\left\\langle{}e,e\\right\\rangle{}} \\: . \\: \\lambda{} x_{e} \\: . \\: {f3}({f3}({f3}({f3}({x}))))]}(\\lambda{} x_{e} \\: . \\: {x}))({[\\lambda{} f3_{\\left\\langle{}e,e\\right\\rangle{}} \\: . \\: \\lambda{} x_{e} \\: . \\: {f3}({f3}({f3}({f3}({x}))))]}({[\\lambda{} f3_{\\left\\langle{}e,e\\right\\rangle{}} \\: . \\: \\lambda{} x_{e} \\: . \\: {f3}({f3}({f3}({f3}({x}))))]}(\\lambda{} x_{e} \\: . \\: {x}))({[\\lambda{} f3_{\\left\\langle{}e,e\\right\\rangle{}} \\: . \\: \\lambda{} x_{e} \\: . \\: {f3}({f3}({f3}({f3}({x}))))]}(\\lambda{} x_{e} \\: . \\: {x})({[\\lambda{} f3_{\\left\\langle{}e,e\\right\\rangle{}} \\: . \\: \\lambda{} x_{e} \\: . \\: {f3}({f3}({f3}({f3}({x}))))]}(\\lambda{} x_{e} \\: . \\: {x})({[\\lambda{} f3_{\\left\\langle{}e,e\\right\\rangle{}} \\: . \\: \\lambda{} x_{e} \\: . \\: {f3}({f3}({f3}({f3}({x}))))]}(\\lambda{} x_{e} \\: . \\: {x})({[\\lambda{} x_{e} \\: . \\: {x}]}({[\\lambda{} x_{e} \\: . \\: {x}]}({[\\lambda{} x_{e} \\: . \\: {x}]}({x}))))))))))))$</span></div></div><div style=\"display:table-cell;vertical-align:top;padding-left:5px;padding-right:5px;padding-top:0.2em\"><div style=\"display:table;\"><div style=\"display:table-row;\"><div style=\"white-space:nowrap; color:blue;\"><span>reduction of path (1, 1, 1, 1, 1, 1, 1, 1, 1, 1)</span></div></div></div></div></div><div style=\"display:table-row;border-bottom:1px solid #848482;\"><div style=\"display:table-cell;padding:0.2em 5px 0.2em 0px;vertical-align:top;\">12. </div><div style=\"display:table-cell;vertical-align:top;border-right:1px solid #848482;padding-right:5px;;padding-top:0.2em\"><div style=\"display:inline-block;\"><span>$\\lambda{} x_{e} \\: . \\: {[\\lambda{} f3_{\\left\\langle{}e,e\\right\\rangle{}} \\: . \\: \\lambda{} x_{e} \\: . \\: {f3}({f3}({f3}({f3}({x}))))]}({[\\lambda{} f3_{\\left\\langle{}e,e\\right\\rangle{}} \\: . \\: \\lambda{} x_{e} \\: . \\: {f3}({f3}({f3}({f3}({x}))))]}({[\\lambda{} f3_{\\left\\langle{}e,e\\right\\rangle{}} \\: . \\: \\lambda{} x_{e} \\: . \\: {f3}({f3}({f3}({f3}({x}))))]}(\\lambda{} x_{e} \\: . \\: {x})))({[\\lambda{} f3_{\\left\\langle{}e,e\\right\\rangle{}} \\: . \\: \\lambda{} x_{e} \\: . \\: {f3}({f3}({f3}({f3}({x}))))]}({[\\lambda{} f3_{\\left\\langle{}e,e\\right\\rangle{}} \\: . \\: \\lambda{} x_{e} \\: . \\: {f3}({f3}({f3}({f3}({x}))))]}({[\\lambda{} f3_{\\left\\langle{}e,e\\right\\rangle{}} \\: . \\: \\lambda{} x_{e} \\: . \\: {f3}({f3}({f3}({f3}({x}))))]}(\\lambda{} x_{e} \\: . \\: {x})))({[\\lambda{} f3_{\\left\\langle{}e,e\\right\\rangle{}} \\: . \\: \\lambda{} x_{e} \\: . \\: {f3}({f3}({f3}({f3}({x}))))]}({[\\lambda{} f3_{\\left\\langle{}e,e\\right\\rangle{}} \\: . \\: \\lambda{} x_{e} \\: . \\: {f3}({f3}({f3}({f3}({x}))))]}({[\\lambda{} f3_{\\left\\langle{}e,e\\right\\rangle{}} \\: . \\: \\lambda{} x_{e} \\: . \\: {f3}({f3}({f3}({f3}({x}))))]}(\\lambda{} x_{e} \\: . \\: {x})))({[\\lambda{} f3_{\\left\\langle{}e,e\\right\\rangle{}} \\: . \\: \\lambda{} x_{e} \\: . \\: {f3}({f3}({f3}({f3}({x}))))]}({[\\lambda{} f3_{\\left\\langle{}e,e\\right\\rangle{}} \\: . \\: \\lambda{} x_{e} \\: . \\: {f3}({f3}({f3}({f3}({x}))))]}(\\lambda{} x_{e} \\: . \\: {x}))({[\\lambda{} f3_{\\left\\langle{}e,e\\right\\rangle{}} \\: . \\: \\lambda{} x_{e} \\: . \\: {f3}({f3}({f3}({f3}({x}))))]}({[\\lambda{} f3_{\\left\\langle{}e,e\\right\\rangle{}} \\: . \\: \\lambda{} x_{e} \\: . \\: {f3}({f3}({f3}({f3}({x}))))]}(\\lambda{} x_{e} \\: . \\: {x}))({[\\lambda{} f3_{\\left\\langle{}e,e\\right\\rangle{}} \\: . \\: \\lambda{} x_{e} \\: . \\: {f3}({f3}({f3}({f3}({x}))))]}({[\\lambda{} f3_{\\left\\langle{}e,e\\right\\rangle{}} \\: . \\: \\lambda{} x_{e} \\: . \\: {f3}({f3}({f3}({f3}({x}))))]}(\\lambda{} x_{e} \\: . \\: {x}))({[\\lambda{} f3_{\\left\\langle{}e,e\\right\\rangle{}} \\: . \\: \\lambda{} x_{e} \\: . \\: {f3}({f3}({f3}({f3}({x}))))]}(\\lambda{} x_{e} \\: . \\: {x})({[\\lambda{} f3_{\\left\\langle{}e,e\\right\\rangle{}} \\: . \\: \\lambda{} x_{e} \\: . \\: {f3}({f3}({f3}({f3}({x}))))]}(\\lambda{} x_{e} \\: . \\: {x})({[\\lambda{} f3_{\\left\\langle{}e,e\\right\\rangle{}} \\: . \\: \\lambda{} x_{e} \\: . \\: {f3}({f3}({f3}({f3}({x}))))]}(\\lambda{} x_{e} \\: . \\: {x})({[\\lambda{} x_{e} \\: . \\: {x}]}({[\\lambda{} x_{e} \\: . \\: {x}]}({x})))))))))))$</span></div></div><div style=\"display:table-cell;vertical-align:top;padding-left:5px;padding-right:5px;padding-top:0.2em\"><div style=\"display:table;\"><div style=\"display:table-row;\"><div style=\"white-space:nowrap; color:blue;\"><span>reduction of path (1, 1, 1, 1, 1, 1, 1, 1, 1, 1)</span></div></div></div></div></div><div style=\"display:table-row;border-bottom:1px solid #848482;\"><div style=\"display:table-cell;padding:0.2em 5px 0.2em 0px;vertical-align:top;\">13. </div><div style=\"display:table-cell;vertical-align:top;border-right:1px solid #848482;padding-right:5px;;padding-top:0.2em\"><div style=\"display:inline-block;\"><span>$\\lambda{} x_{e} \\: . \\: {[\\lambda{} f3_{\\left\\langle{}e,e\\right\\rangle{}} \\: . \\: \\lambda{} x_{e} \\: . \\: {f3}({f3}({f3}({f3}({x}))))]}({[\\lambda{} f3_{\\left\\langle{}e,e\\right\\rangle{}} \\: . \\: \\lambda{} x_{e} \\: . \\: {f3}({f3}({f3}({f3}({x}))))]}({[\\lambda{} f3_{\\left\\langle{}e,e\\right\\rangle{}} \\: . \\: \\lambda{} x_{e} \\: . \\: {f3}({f3}({f3}({f3}({x}))))]}(\\lambda{} x_{e} \\: . \\: {x})))({[\\lambda{} f3_{\\left\\langle{}e,e\\right\\rangle{}} \\: . \\: \\lambda{} x_{e} \\: . \\: {f3}({f3}({f3}({f3}({x}))))]}({[\\lambda{} f3_{\\left\\langle{}e,e\\right\\rangle{}} \\: . \\: \\lambda{} x_{e} \\: . \\: {f3}({f3}({f3}({f3}({x}))))]}({[\\lambda{} f3_{\\left\\langle{}e,e\\right\\rangle{}} \\: . \\: \\lambda{} x_{e} \\: . \\: {f3}({f3}({f3}({f3}({x}))))]}(\\lambda{} x_{e} \\: . \\: {x})))({[\\lambda{} f3_{\\left\\langle{}e,e\\right\\rangle{}} \\: . \\: \\lambda{} x_{e} \\: . \\: {f3}({f3}({f3}({f3}({x}))))]}({[\\lambda{} f3_{\\left\\langle{}e,e\\right\\rangle{}} \\: . \\: \\lambda{} x_{e} \\: . \\: {f3}({f3}({f3}({f3}({x}))))]}({[\\lambda{} f3_{\\left\\langle{}e,e\\right\\rangle{}} \\: . \\: \\lambda{} x_{e} \\: . \\: {f3}({f3}({f3}({f3}({x}))))]}(\\lambda{} x_{e} \\: . \\: {x})))({[\\lambda{} f3_{\\left\\langle{}e,e\\right\\rangle{}} \\: . \\: \\lambda{} x_{e} \\: . \\: {f3}({f3}({f3}({f3}({x}))))]}({[\\lambda{} f3_{\\left\\langle{}e,e\\right\\rangle{}} \\: . \\: \\lambda{} x_{e} \\: . \\: {f3}({f3}({f3}({f3}({x}))))]}(\\lambda{} x_{e} \\: . \\: {x}))({[\\lambda{} f3_{\\left\\langle{}e,e\\right\\rangle{}} \\: . \\: \\lambda{} x_{e} \\: . \\: {f3}({f3}({f3}({f3}({x}))))]}({[\\lambda{} f3_{\\left\\langle{}e,e\\right\\rangle{}} \\: . \\: \\lambda{} x_{e} \\: . \\: {f3}({f3}({f3}({f3}({x}))))]}(\\lambda{} x_{e} \\: . \\: {x}))({[\\lambda{} f3_{\\left\\langle{}e,e\\right\\rangle{}} \\: . \\: \\lambda{} x_{e} \\: . \\: {f3}({f3}({f3}({f3}({x}))))]}({[\\lambda{} f3_{\\left\\langle{}e,e\\right\\rangle{}} \\: . \\: \\lambda{} x_{e} \\: . \\: {f3}({f3}({f3}({f3}({x}))))]}(\\lambda{} x_{e} \\: . \\: {x}))({[\\lambda{} f3_{\\left\\langle{}e,e\\right\\rangle{}} \\: . \\: \\lambda{} x_{e} \\: . \\: {f3}({f3}({f3}({f3}({x}))))]}(\\lambda{} x_{e} \\: . \\: {x})({[\\lambda{} f3_{\\left\\langle{}e,e\\right\\rangle{}} \\: . \\: \\lambda{} x_{e} \\: . \\: {f3}({f3}({f3}({f3}({x}))))]}(\\lambda{} x_{e} \\: . \\: {x})({[\\lambda{} f3_{\\left\\langle{}e,e\\right\\rangle{}} \\: . \\: \\lambda{} x_{e} \\: . \\: {f3}({f3}({f3}({f3}({x}))))]}(\\lambda{} x_{e} \\: . \\: {x})({[\\lambda{} x_{e} \\: . \\: {x}]}({x}))))))))))$</span></div></div><div style=\"display:table-cell;vertical-align:top;padding-left:5px;padding-right:5px;padding-top:0.2em\"><div style=\"display:table;\"><div style=\"display:table-row;\"><div style=\"white-space:nowrap; color:blue;\"><span>reduction of path (1, 1, 1, 1, 1, 1, 1, 1, 1, 1)</span></div></div></div></div></div><div style=\"display:table-row;border-bottom:1px solid #848482;\"><div style=\"display:table-cell;padding:0.2em 5px 0.2em 0px;vertical-align:top;\">14. </div><div style=\"display:table-cell;vertical-align:top;border-right:1px solid #848482;padding-right:5px;;padding-top:0.2em\"><div style=\"display:inline-block;\"><span>$\\lambda{} x_{e} \\: . \\: {[\\lambda{} f3_{\\left\\langle{}e,e\\right\\rangle{}} \\: . \\: \\lambda{} x_{e} \\: . \\: {f3}({f3}({f3}({f3}({x}))))]}({[\\lambda{} f3_{\\left\\langle{}e,e\\right\\rangle{}} \\: . \\: \\lambda{} x_{e} \\: . \\: {f3}({f3}({f3}({f3}({x}))))]}({[\\lambda{} f3_{\\left\\langle{}e,e\\right\\rangle{}} \\: . \\: \\lambda{} x_{e} \\: . \\: {f3}({f3}({f3}({f3}({x}))))]}(\\lambda{} x_{e} \\: . \\: {x})))({[\\lambda{} f3_{\\left\\langle{}e,e\\right\\rangle{}} \\: . \\: \\lambda{} x_{e} \\: . \\: {f3}({f3}({f3}({f3}({x}))))]}({[\\lambda{} f3_{\\left\\langle{}e,e\\right\\rangle{}} \\: . \\: \\lambda{} x_{e} \\: . \\: {f3}({f3}({f3}({f3}({x}))))]}({[\\lambda{} f3_{\\left\\langle{}e,e\\right\\rangle{}} \\: . \\: \\lambda{} x_{e} \\: . \\: {f3}({f3}({f3}({f3}({x}))))]}(\\lambda{} x_{e} \\: . \\: {x})))({[\\lambda{} f3_{\\left\\langle{}e,e\\right\\rangle{}} \\: . \\: \\lambda{} x_{e} \\: . \\: {f3}({f3}({f3}({f3}({x}))))]}({[\\lambda{} f3_{\\left\\langle{}e,e\\right\\rangle{}} \\: . \\: \\lambda{} x_{e} \\: . \\: {f3}({f3}({f3}({f3}({x}))))]}({[\\lambda{} f3_{\\left\\langle{}e,e\\right\\rangle{}} \\: . \\: \\lambda{} x_{e} \\: . \\: {f3}({f3}({f3}({f3}({x}))))]}(\\lambda{} x_{e} \\: . \\: {x})))({[\\lambda{} f3_{\\left\\langle{}e,e\\right\\rangle{}} \\: . \\: \\lambda{} x_{e} \\: . \\: {f3}({f3}({f3}({f3}({x}))))]}({[\\lambda{} f3_{\\left\\langle{}e,e\\right\\rangle{}} \\: . \\: \\lambda{} x_{e} \\: . \\: {f3}({f3}({f3}({f3}({x}))))]}(\\lambda{} x_{e} \\: . \\: {x}))({[\\lambda{} f3_{\\left\\langle{}e,e\\right\\rangle{}} \\: . \\: \\lambda{} x_{e} \\: . \\: {f3}({f3}({f3}({f3}({x}))))]}({[\\lambda{} f3_{\\left\\langle{}e,e\\right\\rangle{}} \\: . \\: \\lambda{} x_{e} \\: . \\: {f3}({f3}({f3}({f3}({x}))))]}(\\lambda{} x_{e} \\: . \\: {x}))({[\\lambda{} f3_{\\left\\langle{}e,e\\right\\rangle{}} \\: . \\: \\lambda{} x_{e} \\: . \\: {f3}({f3}({f3}({f3}({x}))))]}({[\\lambda{} f3_{\\left\\langle{}e,e\\right\\rangle{}} \\: . \\: \\lambda{} x_{e} \\: . \\: {f3}({f3}({f3}({f3}({x}))))]}(\\lambda{} x_{e} \\: . \\: {x}))({[\\lambda{} f3_{\\left\\langle{}e,e\\right\\rangle{}} \\: . \\: \\lambda{} x_{e} \\: . \\: {f3}({f3}({f3}({f3}({x}))))]}(\\lambda{} x_{e} \\: . \\: {x})({[\\lambda{} f3_{\\left\\langle{}e,e\\right\\rangle{}} \\: . \\: \\lambda{} x_{e} \\: . \\: {f3}({f3}({f3}({f3}({x}))))]}(\\lambda{} x_{e} \\: . \\: {x})({[\\lambda{} f3_{\\left\\langle{}e,e\\right\\rangle{}} \\: . \\: \\lambda{} x_{e} \\: . \\: {f3}({f3}({f3}({f3}({x}))))]}(\\lambda{} x_{e} \\: . \\: {x})({x})))))))))$</span></div></div><div style=\"display:table-cell;vertical-align:top;padding-left:5px;padding-right:5px;padding-top:0.2em\"><div style=\"display:table;\"><div style=\"display:table-row;\"><div style=\"white-space:nowrap; color:blue;\"><span>reduction of path (1, 1, 1, 1, 1, 1, 1, 1, 1, 0)</span></div></div></div></div></div><div style=\"display:table-row;border-bottom:1px solid #848482;\"><div style=\"display:table-cell;padding:0.2em 5px 0.2em 0px;vertical-align:top;\">15. </div><div style=\"display:table-cell;vertical-align:top;border-right:1px solid #848482;padding-right:5px;;padding-top:0.2em\"><div style=\"display:inline-block;\"><span>$\\lambda{} x_{e} \\: . \\: {[\\lambda{} f3_{\\left\\langle{}e,e\\right\\rangle{}} \\: . \\: \\lambda{} x_{e} \\: . \\: {f3}({f3}({f3}({f3}({x}))))]}({[\\lambda{} f3_{\\left\\langle{}e,e\\right\\rangle{}} \\: . \\: \\lambda{} x_{e} \\: . \\: {f3}({f3}({f3}({f3}({x}))))]}({[\\lambda{} f3_{\\left\\langle{}e,e\\right\\rangle{}} \\: . \\: \\lambda{} x_{e} \\: . \\: {f3}({f3}({f3}({f3}({x}))))]}(\\lambda{} x_{e} \\: . \\: {x})))({[\\lambda{} f3_{\\left\\langle{}e,e\\right\\rangle{}} \\: . \\: \\lambda{} x_{e} \\: . \\: {f3}({f3}({f3}({f3}({x}))))]}({[\\lambda{} f3_{\\left\\langle{}e,e\\right\\rangle{}} \\: . \\: \\lambda{} x_{e} \\: . \\: {f3}({f3}({f3}({f3}({x}))))]}({[\\lambda{} f3_{\\left\\langle{}e,e\\right\\rangle{}} \\: . \\: \\lambda{} x_{e} \\: . \\: {f3}({f3}({f3}({f3}({x}))))]}(\\lambda{} x_{e} \\: . \\: {x})))({[\\lambda{} f3_{\\left\\langle{}e,e\\right\\rangle{}} \\: . \\: \\lambda{} x_{e} \\: . \\: {f3}({f3}({f3}({f3}({x}))))]}({[\\lambda{} f3_{\\left\\langle{}e,e\\right\\rangle{}} \\: . \\: \\lambda{} x_{e} \\: . \\: {f3}({f3}({f3}({f3}({x}))))]}({[\\lambda{} f3_{\\left\\langle{}e,e\\right\\rangle{}} \\: . \\: \\lambda{} x_{e} \\: . \\: {f3}({f3}({f3}({f3}({x}))))]}(\\lambda{} x_{e} \\: . \\: {x})))({[\\lambda{} f3_{\\left\\langle{}e,e\\right\\rangle{}} \\: . \\: \\lambda{} x_{e} \\: . \\: {f3}({f3}({f3}({f3}({x}))))]}({[\\lambda{} f3_{\\left\\langle{}e,e\\right\\rangle{}} \\: . \\: \\lambda{} x_{e} \\: . \\: {f3}({f3}({f3}({f3}({x}))))]}(\\lambda{} x_{e} \\: . \\: {x}))({[\\lambda{} f3_{\\left\\langle{}e,e\\right\\rangle{}} \\: . \\: \\lambda{} x_{e} \\: . \\: {f3}({f3}({f3}({f3}({x}))))]}({[\\lambda{} f3_{\\left\\langle{}e,e\\right\\rangle{}} \\: . \\: \\lambda{} x_{e} \\: . \\: {f3}({f3}({f3}({f3}({x}))))]}(\\lambda{} x_{e} \\: . \\: {x}))({[\\lambda{} f3_{\\left\\langle{}e,e\\right\\rangle{}} \\: . \\: \\lambda{} x_{e} \\: . \\: {f3}({f3}({f3}({f3}({x}))))]}({[\\lambda{} f3_{\\left\\langle{}e,e\\right\\rangle{}} \\: . \\: \\lambda{} x_{e} \\: . \\: {f3}({f3}({f3}({f3}({x}))))]}(\\lambda{} x_{e} \\: . \\: {x}))({[\\lambda{} f3_{\\left\\langle{}e,e\\right\\rangle{}} \\: . \\: \\lambda{} x_{e} \\: . \\: {f3}({f3}({f3}({f3}({x}))))]}(\\lambda{} x_{e} \\: . \\: {x})({[\\lambda{} f3_{\\left\\langle{}e,e\\right\\rangle{}} \\: . \\: \\lambda{} x_{e} \\: . \\: {f3}({f3}({f3}({f3}({x}))))]}(\\lambda{} x_{e} \\: . \\: {x})({[\\lambda{} x_{e} \\: . \\: {[\\lambda{} x_{e} \\: . \\: {x}]}({[\\lambda{} x_{e} \\: . \\: {x}]}({[\\lambda{} x_{e} \\: . \\: {x}]}({[\\lambda{} x_{e} \\: . \\: {x}]}({x}))))]}({x})))))))))$</span></div></div><div style=\"display:table-cell;vertical-align:top;padding-left:5px;padding-right:5px;padding-top:0.2em\"><div style=\"display:table;\"><div style=\"display:table-row;\"><div style=\"white-space:nowrap; color:blue;\"><span>reduction of path (1, 1, 1, 1, 1, 1, 1, 1, 1)</span></div></div></div></div></div><div style=\"display:table-row;border-bottom:1px solid #848482;\"><div style=\"display:table-cell;padding:0.2em 5px 0.2em 0px;vertical-align:top;\">16. </div><div style=\"display:table-cell;vertical-align:top;border-right:1px solid #848482;padding-right:5px;;padding-top:0.2em\"><div style=\"display:inline-block;\"><span>$\\lambda{} x_{e} \\: . \\: {[\\lambda{} f3_{\\left\\langle{}e,e\\right\\rangle{}} \\: . \\: \\lambda{} x_{e} \\: . \\: {f3}({f3}({f3}({f3}({x}))))]}({[\\lambda{} f3_{\\left\\langle{}e,e\\right\\rangle{}} \\: . \\: \\lambda{} x_{e} \\: . \\: {f3}({f3}({f3}({f3}({x}))))]}({[\\lambda{} f3_{\\left\\langle{}e,e\\right\\rangle{}} \\: . \\: \\lambda{} x_{e} \\: . \\: {f3}({f3}({f3}({f3}({x}))))]}(\\lambda{} x_{e} \\: . \\: {x})))({[\\lambda{} f3_{\\left\\langle{}e,e\\right\\rangle{}} \\: . \\: \\lambda{} x_{e} \\: . \\: {f3}({f3}({f3}({f3}({x}))))]}({[\\lambda{} f3_{\\left\\langle{}e,e\\right\\rangle{}} \\: . \\: \\lambda{} x_{e} \\: . \\: {f3}({f3}({f3}({f3}({x}))))]}({[\\lambda{} f3_{\\left\\langle{}e,e\\right\\rangle{}} \\: . \\: \\lambda{} x_{e} \\: . \\: {f3}({f3}({f3}({f3}({x}))))]}(\\lambda{} x_{e} \\: . \\: {x})))({[\\lambda{} f3_{\\left\\langle{}e,e\\right\\rangle{}} \\: . \\: \\lambda{} x_{e} \\: . \\: {f3}({f3}({f3}({f3}({x}))))]}({[\\lambda{} f3_{\\left\\langle{}e,e\\right\\rangle{}} \\: . \\: \\lambda{} x_{e} \\: . \\: {f3}({f3}({f3}({f3}({x}))))]}({[\\lambda{} f3_{\\left\\langle{}e,e\\right\\rangle{}} \\: . \\: \\lambda{} x_{e} \\: . \\: {f3}({f3}({f3}({f3}({x}))))]}(\\lambda{} x_{e} \\: . \\: {x})))({[\\lambda{} f3_{\\left\\langle{}e,e\\right\\rangle{}} \\: . \\: \\lambda{} x_{e} \\: . \\: {f3}({f3}({f3}({f3}({x}))))]}({[\\lambda{} f3_{\\left\\langle{}e,e\\right\\rangle{}} \\: . \\: \\lambda{} x_{e} \\: . \\: {f3}({f3}({f3}({f3}({x}))))]}(\\lambda{} x_{e} \\: . \\: {x}))({[\\lambda{} f3_{\\left\\langle{}e,e\\right\\rangle{}} \\: . \\: \\lambda{} x_{e} \\: . \\: {f3}({f3}({f3}({f3}({x}))))]}({[\\lambda{} f3_{\\left\\langle{}e,e\\right\\rangle{}} \\: . \\: \\lambda{} x_{e} \\: . \\: {f3}({f3}({f3}({f3}({x}))))]}(\\lambda{} x_{e} \\: . \\: {x}))({[\\lambda{} f3_{\\left\\langle{}e,e\\right\\rangle{}} \\: . \\: \\lambda{} x_{e} \\: . \\: {f3}({f3}({f3}({f3}({x}))))]}({[\\lambda{} f3_{\\left\\langle{}e,e\\right\\rangle{}} \\: . \\: \\lambda{} x_{e} \\: . \\: {f3}({f3}({f3}({f3}({x}))))]}(\\lambda{} x_{e} \\: . \\: {x}))({[\\lambda{} f3_{\\left\\langle{}e,e\\right\\rangle{}} \\: . \\: \\lambda{} x_{e} \\: . \\: {f3}({f3}({f3}({f3}({x}))))]}(\\lambda{} x_{e} \\: . \\: {x})({[\\lambda{} f3_{\\left\\langle{}e,e\\right\\rangle{}} \\: . \\: \\lambda{} x_{e} \\: . \\: {f3}({f3}({f3}({f3}({x}))))]}(\\lambda{} x_{e} \\: . \\: {x})({[\\lambda{} x_{e} \\: . \\: {x}]}({[\\lambda{} x_{e} \\: . \\: {x}]}({[\\lambda{} x_{e} \\: . \\: {x}]}({[\\lambda{} x_{e} \\: . \\: {x}]}({x}))))))))))))$</span></div></div><div style=\"display:table-cell;vertical-align:top;padding-left:5px;padding-right:5px;padding-top:0.2em\"><div style=\"display:table;\"><div style=\"display:table-row;\"><div style=\"white-space:nowrap; color:blue;\"><span>reduction of path (1, 1, 1, 1, 1, 1, 1, 1, 1)</span></div></div></div></div></div><div style=\"display:table-row;border-bottom:1px solid #848482;\"><div style=\"display:table-cell;padding:0.2em 5px 0.2em 0px;vertical-align:top;\">17. </div><div style=\"display:table-cell;vertical-align:top;border-right:1px solid #848482;padding-right:5px;;padding-top:0.2em\"><div style=\"display:inline-block;\"><span>$\\lambda{} x_{e} \\: . \\: {[\\lambda{} f3_{\\left\\langle{}e,e\\right\\rangle{}} \\: . \\: \\lambda{} x_{e} \\: . \\: {f3}({f3}({f3}({f3}({x}))))]}({[\\lambda{} f3_{\\left\\langle{}e,e\\right\\rangle{}} \\: . \\: \\lambda{} x_{e} \\: . \\: {f3}({f3}({f3}({f3}({x}))))]}({[\\lambda{} f3_{\\left\\langle{}e,e\\right\\rangle{}} \\: . \\: \\lambda{} x_{e} \\: . \\: {f3}({f3}({f3}({f3}({x}))))]}(\\lambda{} x_{e} \\: . \\: {x})))({[\\lambda{} f3_{\\left\\langle{}e,e\\right\\rangle{}} \\: . \\: \\lambda{} x_{e} \\: . \\: {f3}({f3}({f3}({f3}({x}))))]}({[\\lambda{} f3_{\\left\\langle{}e,e\\right\\rangle{}} \\: . \\: \\lambda{} x_{e} \\: . \\: {f3}({f3}({f3}({f3}({x}))))]}({[\\lambda{} f3_{\\left\\langle{}e,e\\right\\rangle{}} \\: . \\: \\lambda{} x_{e} \\: . \\: {f3}({f3}({f3}({f3}({x}))))]}(\\lambda{} x_{e} \\: . \\: {x})))({[\\lambda{} f3_{\\left\\langle{}e,e\\right\\rangle{}} \\: . \\: \\lambda{} x_{e} \\: . \\: {f3}({f3}({f3}({f3}({x}))))]}({[\\lambda{} f3_{\\left\\langle{}e,e\\right\\rangle{}} \\: . \\: \\lambda{} x_{e} \\: . \\: {f3}({f3}({f3}({f3}({x}))))]}({[\\lambda{} f3_{\\left\\langle{}e,e\\right\\rangle{}} \\: . \\: \\lambda{} x_{e} \\: . \\: {f3}({f3}({f3}({f3}({x}))))]}(\\lambda{} x_{e} \\: . \\: {x})))({[\\lambda{} f3_{\\left\\langle{}e,e\\right\\rangle{}} \\: . \\: \\lambda{} x_{e} \\: . \\: {f3}({f3}({f3}({f3}({x}))))]}({[\\lambda{} f3_{\\left\\langle{}e,e\\right\\rangle{}} \\: . \\: \\lambda{} x_{e} \\: . \\: {f3}({f3}({f3}({f3}({x}))))]}(\\lambda{} x_{e} \\: . \\: {x}))({[\\lambda{} f3_{\\left\\langle{}e,e\\right\\rangle{}} \\: . \\: \\lambda{} x_{e} \\: . \\: {f3}({f3}({f3}({f3}({x}))))]}({[\\lambda{} f3_{\\left\\langle{}e,e\\right\\rangle{}} \\: . \\: \\lambda{} x_{e} \\: . \\: {f3}({f3}({f3}({f3}({x}))))]}(\\lambda{} x_{e} \\: . \\: {x}))({[\\lambda{} f3_{\\left\\langle{}e,e\\right\\rangle{}} \\: . \\: \\lambda{} x_{e} \\: . \\: {f3}({f3}({f3}({f3}({x}))))]}({[\\lambda{} f3_{\\left\\langle{}e,e\\right\\rangle{}} \\: . \\: \\lambda{} x_{e} \\: . \\: {f3}({f3}({f3}({f3}({x}))))]}(\\lambda{} x_{e} \\: . \\: {x}))({[\\lambda{} f3_{\\left\\langle{}e,e\\right\\rangle{}} \\: . \\: \\lambda{} x_{e} \\: . \\: {f3}({f3}({f3}({f3}({x}))))]}(\\lambda{} x_{e} \\: . \\: {x})({[\\lambda{} f3_{\\left\\langle{}e,e\\right\\rangle{}} \\: . \\: \\lambda{} x_{e} \\: . \\: {f3}({f3}({f3}({f3}({x}))))]}(\\lambda{} x_{e} \\: . \\: {x})({[\\lambda{} x_{e} \\: . \\: {x}]}({[\\lambda{} x_{e} \\: . \\: {x}]}({[\\lambda{} x_{e} \\: . \\: {x}]}({x})))))))))))$</span></div></div><div style=\"display:table-cell;vertical-align:top;padding-left:5px;padding-right:5px;padding-top:0.2em\"><div style=\"display:table;\"><div style=\"display:table-row;\"><div style=\"white-space:nowrap; color:blue;\"><span>reduction of path (1, 1, 1, 1, 1, 1, 1, 1, 1)</span></div></div></div></div></div><div style=\"display:table-row;border-bottom:1px solid #848482;\"><div style=\"display:table-cell;padding:0.2em 5px 0.2em 0px;vertical-align:top;\">18. </div><div style=\"display:table-cell;vertical-align:top;border-right:1px solid #848482;padding-right:5px;;padding-top:0.2em\"><div style=\"display:inline-block;\"><span>$\\lambda{} x_{e} \\: . \\: {[\\lambda{} f3_{\\left\\langle{}e,e\\right\\rangle{}} \\: . \\: \\lambda{} x_{e} \\: . \\: {f3}({f3}({f3}({f3}({x}))))]}({[\\lambda{} f3_{\\left\\langle{}e,e\\right\\rangle{}} \\: . \\: \\lambda{} x_{e} \\: . \\: {f3}({f3}({f3}({f3}({x}))))]}({[\\lambda{} f3_{\\left\\langle{}e,e\\right\\rangle{}} \\: . \\: \\lambda{} x_{e} \\: . \\: {f3}({f3}({f3}({f3}({x}))))]}(\\lambda{} x_{e} \\: . \\: {x})))({[\\lambda{} f3_{\\left\\langle{}e,e\\right\\rangle{}} \\: . \\: \\lambda{} x_{e} \\: . \\: {f3}({f3}({f3}({f3}({x}))))]}({[\\lambda{} f3_{\\left\\langle{}e,e\\right\\rangle{}} \\: . \\: \\lambda{} x_{e} \\: . \\: {f3}({f3}({f3}({f3}({x}))))]}({[\\lambda{} f3_{\\left\\langle{}e,e\\right\\rangle{}} \\: . \\: \\lambda{} x_{e} \\: . \\: {f3}({f3}({f3}({f3}({x}))))]}(\\lambda{} x_{e} \\: . \\: {x})))({[\\lambda{} f3_{\\left\\langle{}e,e\\right\\rangle{}} \\: . \\: \\lambda{} x_{e} \\: . \\: {f3}({f3}({f3}({f3}({x}))))]}({[\\lambda{} f3_{\\left\\langle{}e,e\\right\\rangle{}} \\: . \\: \\lambda{} x_{e} \\: . \\: {f3}({f3}({f3}({f3}({x}))))]}({[\\lambda{} f3_{\\left\\langle{}e,e\\right\\rangle{}} \\: . \\: \\lambda{} x_{e} \\: . \\: {f3}({f3}({f3}({f3}({x}))))]}(\\lambda{} x_{e} \\: . \\: {x})))({[\\lambda{} f3_{\\left\\langle{}e,e\\right\\rangle{}} \\: . \\: \\lambda{} x_{e} \\: . \\: {f3}({f3}({f3}({f3}({x}))))]}({[\\lambda{} f3_{\\left\\langle{}e,e\\right\\rangle{}} \\: . \\: \\lambda{} x_{e} \\: . \\: {f3}({f3}({f3}({f3}({x}))))]}(\\lambda{} x_{e} \\: . \\: {x}))({[\\lambda{} f3_{\\left\\langle{}e,e\\right\\rangle{}} \\: . \\: \\lambda{} x_{e} \\: . \\: {f3}({f3}({f3}({f3}({x}))))]}({[\\lambda{} f3_{\\left\\langle{}e,e\\right\\rangle{}} \\: . \\: \\lambda{} x_{e} \\: . \\: {f3}({f3}({f3}({f3}({x}))))]}(\\lambda{} x_{e} \\: . \\: {x}))({[\\lambda{} f3_{\\left\\langle{}e,e\\right\\rangle{}} \\: . \\: \\lambda{} x_{e} \\: . \\: {f3}({f3}({f3}({f3}({x}))))]}({[\\lambda{} f3_{\\left\\langle{}e,e\\right\\rangle{}} \\: . \\: \\lambda{} x_{e} \\: . \\: {f3}({f3}({f3}({f3}({x}))))]}(\\lambda{} x_{e} \\: . \\: {x}))({[\\lambda{} f3_{\\left\\langle{}e,e\\right\\rangle{}} \\: . \\: \\lambda{} x_{e} \\: . \\: {f3}({f3}({f3}({f3}({x}))))]}(\\lambda{} x_{e} \\: . \\: {x})({[\\lambda{} f3_{\\left\\langle{}e,e\\right\\rangle{}} \\: . \\: \\lambda{} x_{e} \\: . \\: {f3}({f3}({f3}({f3}({x}))))]}(\\lambda{} x_{e} \\: . \\: {x})({[\\lambda{} x_{e} \\: . \\: {x}]}({[\\lambda{} x_{e} \\: . \\: {x}]}({x}))))))))))$</span></div></div><div style=\"display:table-cell;vertical-align:top;padding-left:5px;padding-right:5px;padding-top:0.2em\"><div style=\"display:table;\"><div style=\"display:table-row;\"><div style=\"white-space:nowrap; color:blue;\"><span>reduction of path (1, 1, 1, 1, 1, 1, 1, 1, 1)</span></div></div></div></div></div><div style=\"display:table-row;border-bottom:1px solid #848482;\"><div style=\"display:table-cell;padding:0.2em 5px 0.2em 0px;vertical-align:top;\">19. </div><div style=\"display:table-cell;vertical-align:top;border-right:1px solid #848482;padding-right:5px;;padding-top:0.2em\"><div style=\"display:inline-block;\"><span>$\\lambda{} x_{e} \\: . \\: {[\\lambda{} f3_{\\left\\langle{}e,e\\right\\rangle{}} \\: . \\: \\lambda{} x_{e} \\: . \\: {f3}({f3}({f3}({f3}({x}))))]}({[\\lambda{} f3_{\\left\\langle{}e,e\\right\\rangle{}} \\: . \\: \\lambda{} x_{e} \\: . \\: {f3}({f3}({f3}({f3}({x}))))]}({[\\lambda{} f3_{\\left\\langle{}e,e\\right\\rangle{}} \\: . \\: \\lambda{} x_{e} \\: . \\: {f3}({f3}({f3}({f3}({x}))))]}(\\lambda{} x_{e} \\: . \\: {x})))({[\\lambda{} f3_{\\left\\langle{}e,e\\right\\rangle{}} \\: . \\: \\lambda{} x_{e} \\: . \\: {f3}({f3}({f3}({f3}({x}))))]}({[\\lambda{} f3_{\\left\\langle{}e,e\\right\\rangle{}} \\: . \\: \\lambda{} x_{e} \\: . \\: {f3}({f3}({f3}({f3}({x}))))]}({[\\lambda{} f3_{\\left\\langle{}e,e\\right\\rangle{}} \\: . \\: \\lambda{} x_{e} \\: . \\: {f3}({f3}({f3}({f3}({x}))))]}(\\lambda{} x_{e} \\: . \\: {x})))({[\\lambda{} f3_{\\left\\langle{}e,e\\right\\rangle{}} \\: . \\: \\lambda{} x_{e} \\: . \\: {f3}({f3}({f3}({f3}({x}))))]}({[\\lambda{} f3_{\\left\\langle{}e,e\\right\\rangle{}} \\: . \\: \\lambda{} x_{e} \\: . \\: {f3}({f3}({f3}({f3}({x}))))]}({[\\lambda{} f3_{\\left\\langle{}e,e\\right\\rangle{}} \\: . \\: \\lambda{} x_{e} \\: . \\: {f3}({f3}({f3}({f3}({x}))))]}(\\lambda{} x_{e} \\: . \\: {x})))({[\\lambda{} f3_{\\left\\langle{}e,e\\right\\rangle{}} \\: . \\: \\lambda{} x_{e} \\: . \\: {f3}({f3}({f3}({f3}({x}))))]}({[\\lambda{} f3_{\\left\\langle{}e,e\\right\\rangle{}} \\: . \\: \\lambda{} x_{e} \\: . \\: {f3}({f3}({f3}({f3}({x}))))]}(\\lambda{} x_{e} \\: . \\: {x}))({[\\lambda{} f3_{\\left\\langle{}e,e\\right\\rangle{}} \\: . \\: \\lambda{} x_{e} \\: . \\: {f3}({f3}({f3}({f3}({x}))))]}({[\\lambda{} f3_{\\left\\langle{}e,e\\right\\rangle{}} \\: . \\: \\lambda{} x_{e} \\: . \\: {f3}({f3}({f3}({f3}({x}))))]}(\\lambda{} x_{e} \\: . \\: {x}))({[\\lambda{} f3_{\\left\\langle{}e,e\\right\\rangle{}} \\: . \\: \\lambda{} x_{e} \\: . \\: {f3}({f3}({f3}({f3}({x}))))]}({[\\lambda{} f3_{\\left\\langle{}e,e\\right\\rangle{}} \\: . \\: \\lambda{} x_{e} \\: . \\: {f3}({f3}({f3}({f3}({x}))))]}(\\lambda{} x_{e} \\: . \\: {x}))({[\\lambda{} f3_{\\left\\langle{}e,e\\right\\rangle{}} \\: . \\: \\lambda{} x_{e} \\: . \\: {f3}({f3}({f3}({f3}({x}))))]}(\\lambda{} x_{e} \\: . \\: {x})({[\\lambda{} f3_{\\left\\langle{}e,e\\right\\rangle{}} \\: . \\: \\lambda{} x_{e} \\: . \\: {f3}({f3}({f3}({f3}({x}))))]}(\\lambda{} x_{e} \\: . \\: {x})({[\\lambda{} x_{e} \\: . \\: {x}]}({x})))))))))$</span></div></div><div style=\"display:table-cell;vertical-align:top;padding-left:5px;padding-right:5px;padding-top:0.2em\"><div style=\"display:table;\"><div style=\"display:table-row;\"><div style=\"white-space:nowrap; color:blue;\"><span>reduction of path (1, 1, 1, 1, 1, 1, 1, 1, 1)</span></div></div></div></div></div><div style=\"display:table-row;border-bottom:1px solid #848482;\"><div style=\"display:table-cell;padding:0.2em 5px 0.2em 0px;vertical-align:top;\">20. </div><div style=\"display:table-cell;vertical-align:top;border-right:1px solid #848482;padding-right:5px;;padding-top:0.2em\"><div style=\"display:inline-block;\"><span>$\\lambda{} x_{e} \\: . \\: {[\\lambda{} f3_{\\left\\langle{}e,e\\right\\rangle{}} \\: . \\: \\lambda{} x_{e} \\: . \\: {f3}({f3}({f3}({f3}({x}))))]}({[\\lambda{} f3_{\\left\\langle{}e,e\\right\\rangle{}} \\: . \\: \\lambda{} x_{e} \\: . \\: {f3}({f3}({f3}({f3}({x}))))]}({[\\lambda{} f3_{\\left\\langle{}e,e\\right\\rangle{}} \\: . \\: \\lambda{} x_{e} \\: . \\: {f3}({f3}({f3}({f3}({x}))))]}(\\lambda{} x_{e} \\: . \\: {x})))({[\\lambda{} f3_{\\left\\langle{}e,e\\right\\rangle{}} \\: . \\: \\lambda{} x_{e} \\: . \\: {f3}({f3}({f3}({f3}({x}))))]}({[\\lambda{} f3_{\\left\\langle{}e,e\\right\\rangle{}} \\: . \\: \\lambda{} x_{e} \\: . \\: {f3}({f3}({f3}({f3}({x}))))]}({[\\lambda{} f3_{\\left\\langle{}e,e\\right\\rangle{}} \\: . \\: \\lambda{} x_{e} \\: . \\: {f3}({f3}({f3}({f3}({x}))))]}(\\lambda{} x_{e} \\: . \\: {x})))({[\\lambda{} f3_{\\left\\langle{}e,e\\right\\rangle{}} \\: . \\: \\lambda{} x_{e} \\: . \\: {f3}({f3}({f3}({f3}({x}))))]}({[\\lambda{} f3_{\\left\\langle{}e,e\\right\\rangle{}} \\: . \\: \\lambda{} x_{e} \\: . \\: {f3}({f3}({f3}({f3}({x}))))]}({[\\lambda{} f3_{\\left\\langle{}e,e\\right\\rangle{}} \\: . \\: \\lambda{} x_{e} \\: . \\: {f3}({f3}({f3}({f3}({x}))))]}(\\lambda{} x_{e} \\: . \\: {x})))({[\\lambda{} f3_{\\left\\langle{}e,e\\right\\rangle{}} \\: . \\: \\lambda{} x_{e} \\: . \\: {f3}({f3}({f3}({f3}({x}))))]}({[\\lambda{} f3_{\\left\\langle{}e,e\\right\\rangle{}} \\: . \\: \\lambda{} x_{e} \\: . \\: {f3}({f3}({f3}({f3}({x}))))]}(\\lambda{} x_{e} \\: . \\: {x}))({[\\lambda{} f3_{\\left\\langle{}e,e\\right\\rangle{}} \\: . \\: \\lambda{} x_{e} \\: . \\: {f3}({f3}({f3}({f3}({x}))))]}({[\\lambda{} f3_{\\left\\langle{}e,e\\right\\rangle{}} \\: . \\: \\lambda{} x_{e} \\: . \\: {f3}({f3}({f3}({f3}({x}))))]}(\\lambda{} x_{e} \\: . \\: {x}))({[\\lambda{} f3_{\\left\\langle{}e,e\\right\\rangle{}} \\: . \\: \\lambda{} x_{e} \\: . \\: {f3}({f3}({f3}({f3}({x}))))]}({[\\lambda{} f3_{\\left\\langle{}e,e\\right\\rangle{}} \\: . \\: \\lambda{} x_{e} \\: . \\: {f3}({f3}({f3}({f3}({x}))))]}(\\lambda{} x_{e} \\: . \\: {x}))({[\\lambda{} f3_{\\left\\langle{}e,e\\right\\rangle{}} \\: . \\: \\lambda{} x_{e} \\: . \\: {f3}({f3}({f3}({f3}({x}))))]}(\\lambda{} x_{e} \\: . \\: {x})({[\\lambda{} f3_{\\left\\langle{}e,e\\right\\rangle{}} \\: . \\: \\lambda{} x_{e} \\: . \\: {f3}({f3}({f3}({f3}({x}))))]}(\\lambda{} x_{e} \\: . \\: {x})({x}))))))))$</span></div></div><div style=\"display:table-cell;vertical-align:top;padding-left:5px;padding-right:5px;padding-top:0.2em\"><div style=\"display:table;\"><div style=\"display:table-row;\"><div style=\"white-space:nowrap; color:blue;\"><span>reduction of path (1, 1, 1, 1, 1, 1, 1, 1, 0)</span></div></div></div></div></div><div style=\"display:table-row;border-bottom:1px solid #848482;\"><div style=\"display:table-cell;padding:0.2em 5px 0.2em 0px;vertical-align:top;\">21. </div><div style=\"display:table-cell;vertical-align:top;border-right:1px solid #848482;padding-right:5px;;padding-top:0.2em\"><div style=\"display:inline-block;\"><span>$\\lambda{} x_{e} \\: . \\: {[\\lambda{} f3_{\\left\\langle{}e,e\\right\\rangle{}} \\: . \\: \\lambda{} x_{e} \\: . \\: {f3}({f3}({f3}({f3}({x}))))]}({[\\lambda{} f3_{\\left\\langle{}e,e\\right\\rangle{}} \\: . \\: \\lambda{} x_{e} \\: . \\: {f3}({f3}({f3}({f3}({x}))))]}({[\\lambda{} f3_{\\left\\langle{}e,e\\right\\rangle{}} \\: . \\: \\lambda{} x_{e} \\: . \\: {f3}({f3}({f3}({f3}({x}))))]}(\\lambda{} x_{e} \\: . \\: {x})))({[\\lambda{} f3_{\\left\\langle{}e,e\\right\\rangle{}} \\: . \\: \\lambda{} x_{e} \\: . \\: {f3}({f3}({f3}({f3}({x}))))]}({[\\lambda{} f3_{\\left\\langle{}e,e\\right\\rangle{}} \\: . \\: \\lambda{} x_{e} \\: . \\: {f3}({f3}({f3}({f3}({x}))))]}({[\\lambda{} f3_{\\left\\langle{}e,e\\right\\rangle{}} \\: . \\: \\lambda{} x_{e} \\: . \\: {f3}({f3}({f3}({f3}({x}))))]}(\\lambda{} x_{e} \\: . \\: {x})))({[\\lambda{} f3_{\\left\\langle{}e,e\\right\\rangle{}} \\: . \\: \\lambda{} x_{e} \\: . \\: {f3}({f3}({f3}({f3}({x}))))]}({[\\lambda{} f3_{\\left\\langle{}e,e\\right\\rangle{}} \\: . \\: \\lambda{} x_{e} \\: . \\: {f3}({f3}({f3}({f3}({x}))))]}({[\\lambda{} f3_{\\left\\langle{}e,e\\right\\rangle{}} \\: . \\: \\lambda{} x_{e} \\: . \\: {f3}({f3}({f3}({f3}({x}))))]}(\\lambda{} x_{e} \\: . \\: {x})))({[\\lambda{} f3_{\\left\\langle{}e,e\\right\\rangle{}} \\: . \\: \\lambda{} x_{e} \\: . \\: {f3}({f3}({f3}({f3}({x}))))]}({[\\lambda{} f3_{\\left\\langle{}e,e\\right\\rangle{}} \\: . \\: \\lambda{} x_{e} \\: . \\: {f3}({f3}({f3}({f3}({x}))))]}(\\lambda{} x_{e} \\: . \\: {x}))({[\\lambda{} f3_{\\left\\langle{}e,e\\right\\rangle{}} \\: . \\: \\lambda{} x_{e} \\: . \\: {f3}({f3}({f3}({f3}({x}))))]}({[\\lambda{} f3_{\\left\\langle{}e,e\\right\\rangle{}} \\: . \\: \\lambda{} x_{e} \\: . \\: {f3}({f3}({f3}({f3}({x}))))]}(\\lambda{} x_{e} \\: . \\: {x}))({[\\lambda{} f3_{\\left\\langle{}e,e\\right\\rangle{}} \\: . \\: \\lambda{} x_{e} \\: . \\: {f3}({f3}({f3}({f3}({x}))))]}({[\\lambda{} f3_{\\left\\langle{}e,e\\right\\rangle{}} \\: . \\: \\lambda{} x_{e} \\: . \\: {f3}({f3}({f3}({f3}({x}))))]}(\\lambda{} x_{e} \\: . \\: {x}))({[\\lambda{} f3_{\\left\\langle{}e,e\\right\\rangle{}} \\: . \\: \\lambda{} x_{e} \\: . \\: {f3}({f3}({f3}({f3}({x}))))]}(\\lambda{} x_{e} \\: . \\: {x})({[\\lambda{} x_{e} \\: . \\: {[\\lambda{} x_{e} \\: . \\: {x}]}({[\\lambda{} x_{e} \\: . \\: {x}]}({[\\lambda{} x_{e} \\: . \\: {x}]}({[\\lambda{} x_{e} \\: . \\: {x}]}({x}))))]}({x}))))))))$</span></div></div><div style=\"display:table-cell;vertical-align:top;padding-left:5px;padding-right:5px;padding-top:0.2em\"><div style=\"display:table;\"><div style=\"display:table-row;\"><div style=\"white-space:nowrap; color:blue;\"><span>reduction of path (1, 1, 1, 1, 1, 1, 1, 1)</span></div></div></div></div></div><div style=\"display:table-row;border-bottom:1px solid #848482;\"><div style=\"display:table-cell;padding:0.2em 5px 0.2em 0px;vertical-align:top;\">22. </div><div style=\"display:table-cell;vertical-align:top;border-right:1px solid #848482;padding-right:5px;;padding-top:0.2em\"><div style=\"display:inline-block;\"><span>$\\lambda{} x_{e} \\: . \\: {[\\lambda{} f3_{\\left\\langle{}e,e\\right\\rangle{}} \\: . \\: \\lambda{} x_{e} \\: . \\: {f3}({f3}({f3}({f3}({x}))))]}({[\\lambda{} f3_{\\left\\langle{}e,e\\right\\rangle{}} \\: . \\: \\lambda{} x_{e} \\: . \\: {f3}({f3}({f3}({f3}({x}))))]}({[\\lambda{} f3_{\\left\\langle{}e,e\\right\\rangle{}} \\: . \\: \\lambda{} x_{e} \\: . \\: {f3}({f3}({f3}({f3}({x}))))]}(\\lambda{} x_{e} \\: . \\: {x})))({[\\lambda{} f3_{\\left\\langle{}e,e\\right\\rangle{}} \\: . \\: \\lambda{} x_{e} \\: . \\: {f3}({f3}({f3}({f3}({x}))))]}({[\\lambda{} f3_{\\left\\langle{}e,e\\right\\rangle{}} \\: . \\: \\lambda{} x_{e} \\: . \\: {f3}({f3}({f3}({f3}({x}))))]}({[\\lambda{} f3_{\\left\\langle{}e,e\\right\\rangle{}} \\: . \\: \\lambda{} x_{e} \\: . \\: {f3}({f3}({f3}({f3}({x}))))]}(\\lambda{} x_{e} \\: . \\: {x})))({[\\lambda{} f3_{\\left\\langle{}e,e\\right\\rangle{}} \\: . \\: \\lambda{} x_{e} \\: . \\: {f3}({f3}({f3}({f3}({x}))))]}({[\\lambda{} f3_{\\left\\langle{}e,e\\right\\rangle{}} \\: . \\: \\lambda{} x_{e} \\: . \\: {f3}({f3}({f3}({f3}({x}))))]}({[\\lambda{} f3_{\\left\\langle{}e,e\\right\\rangle{}} \\: . \\: \\lambda{} x_{e} \\: . \\: {f3}({f3}({f3}({f3}({x}))))]}(\\lambda{} x_{e} \\: . \\: {x})))({[\\lambda{} f3_{\\left\\langle{}e,e\\right\\rangle{}} \\: . \\: \\lambda{} x_{e} \\: . \\: {f3}({f3}({f3}({f3}({x}))))]}({[\\lambda{} f3_{\\left\\langle{}e,e\\right\\rangle{}} \\: . \\: \\lambda{} x_{e} \\: . \\: {f3}({f3}({f3}({f3}({x}))))]}(\\lambda{} x_{e} \\: . \\: {x}))({[\\lambda{} f3_{\\left\\langle{}e,e\\right\\rangle{}} \\: . \\: \\lambda{} x_{e} \\: . \\: {f3}({f3}({f3}({f3}({x}))))]}({[\\lambda{} f3_{\\left\\langle{}e,e\\right\\rangle{}} \\: . \\: \\lambda{} x_{e} \\: . \\: {f3}({f3}({f3}({f3}({x}))))]}(\\lambda{} x_{e} \\: . \\: {x}))({[\\lambda{} f3_{\\left\\langle{}e,e\\right\\rangle{}} \\: . \\: \\lambda{} x_{e} \\: . \\: {f3}({f3}({f3}({f3}({x}))))]}({[\\lambda{} f3_{\\left\\langle{}e,e\\right\\rangle{}} \\: . \\: \\lambda{} x_{e} \\: . \\: {f3}({f3}({f3}({f3}({x}))))]}(\\lambda{} x_{e} \\: . \\: {x}))({[\\lambda{} f3_{\\left\\langle{}e,e\\right\\rangle{}} \\: . \\: \\lambda{} x_{e} \\: . \\: {f3}({f3}({f3}({f3}({x}))))]}(\\lambda{} x_{e} \\: . \\: {x})({[\\lambda{} x_{e} \\: . \\: {x}]}({[\\lambda{} x_{e} \\: . \\: {x}]}({[\\lambda{} x_{e} \\: . \\: {x}]}({[\\lambda{} x_{e} \\: . \\: {x}]}({x})))))))))))$</span></div></div><div style=\"display:table-cell;vertical-align:top;padding-left:5px;padding-right:5px;padding-top:0.2em\"><div style=\"display:table;\"><div style=\"display:table-row;\"><div style=\"white-space:nowrap; color:blue;\"><span>reduction of path (1, 1, 1, 1, 1, 1, 1, 1)</span></div></div></div></div></div><div style=\"display:table-row;border-bottom:1px solid #848482;\"><div style=\"display:table-cell;padding:0.2em 5px 0.2em 0px;vertical-align:top;\">23. </div><div style=\"display:table-cell;vertical-align:top;border-right:1px solid #848482;padding-right:5px;;padding-top:0.2em\"><div style=\"display:inline-block;\"><span>$\\lambda{} x_{e} \\: . \\: {[\\lambda{} f3_{\\left\\langle{}e,e\\right\\rangle{}} \\: . \\: \\lambda{} x_{e} \\: . \\: {f3}({f3}({f3}({f3}({x}))))]}({[\\lambda{} f3_{\\left\\langle{}e,e\\right\\rangle{}} \\: . \\: \\lambda{} x_{e} \\: . \\: {f3}({f3}({f3}({f3}({x}))))]}({[\\lambda{} f3_{\\left\\langle{}e,e\\right\\rangle{}} \\: . \\: \\lambda{} x_{e} \\: . \\: {f3}({f3}({f3}({f3}({x}))))]}(\\lambda{} x_{e} \\: . \\: {x})))({[\\lambda{} f3_{\\left\\langle{}e,e\\right\\rangle{}} \\: . \\: \\lambda{} x_{e} \\: . \\: {f3}({f3}({f3}({f3}({x}))))]}({[\\lambda{} f3_{\\left\\langle{}e,e\\right\\rangle{}} \\: . \\: \\lambda{} x_{e} \\: . \\: {f3}({f3}({f3}({f3}({x}))))]}({[\\lambda{} f3_{\\left\\langle{}e,e\\right\\rangle{}} \\: . \\: \\lambda{} x_{e} \\: . \\: {f3}({f3}({f3}({f3}({x}))))]}(\\lambda{} x_{e} \\: . \\: {x})))({[\\lambda{} f3_{\\left\\langle{}e,e\\right\\rangle{}} \\: . \\: \\lambda{} x_{e} \\: . \\: {f3}({f3}({f3}({f3}({x}))))]}({[\\lambda{} f3_{\\left\\langle{}e,e\\right\\rangle{}} \\: . \\: \\lambda{} x_{e} \\: . \\: {f3}({f3}({f3}({f3}({x}))))]}({[\\lambda{} f3_{\\left\\langle{}e,e\\right\\rangle{}} \\: . \\: \\lambda{} x_{e} \\: . \\: {f3}({f3}({f3}({f3}({x}))))]}(\\lambda{} x_{e} \\: . \\: {x})))({[\\lambda{} f3_{\\left\\langle{}e,e\\right\\rangle{}} \\: . \\: \\lambda{} x_{e} \\: . \\: {f3}({f3}({f3}({f3}({x}))))]}({[\\lambda{} f3_{\\left\\langle{}e,e\\right\\rangle{}} \\: . \\: \\lambda{} x_{e} \\: . \\: {f3}({f3}({f3}({f3}({x}))))]}(\\lambda{} x_{e} \\: . \\: {x}))({[\\lambda{} f3_{\\left\\langle{}e,e\\right\\rangle{}} \\: . \\: \\lambda{} x_{e} \\: . \\: {f3}({f3}({f3}({f3}({x}))))]}({[\\lambda{} f3_{\\left\\langle{}e,e\\right\\rangle{}} \\: . \\: \\lambda{} x_{e} \\: . \\: {f3}({f3}({f3}({f3}({x}))))]}(\\lambda{} x_{e} \\: . \\: {x}))({[\\lambda{} f3_{\\left\\langle{}e,e\\right\\rangle{}} \\: . \\: \\lambda{} x_{e} \\: . \\: {f3}({f3}({f3}({f3}({x}))))]}({[\\lambda{} f3_{\\left\\langle{}e,e\\right\\rangle{}} \\: . \\: \\lambda{} x_{e} \\: . \\: {f3}({f3}({f3}({f3}({x}))))]}(\\lambda{} x_{e} \\: . \\: {x}))({[\\lambda{} f3_{\\left\\langle{}e,e\\right\\rangle{}} \\: . \\: \\lambda{} x_{e} \\: . \\: {f3}({f3}({f3}({f3}({x}))))]}(\\lambda{} x_{e} \\: . \\: {x})({[\\lambda{} x_{e} \\: . \\: {x}]}({[\\lambda{} x_{e} \\: . \\: {x}]}({[\\lambda{} x_{e} \\: . \\: {x}]}({x}))))))))))$</span></div></div><div style=\"display:table-cell;vertical-align:top;padding-left:5px;padding-right:5px;padding-top:0.2em\"><div style=\"display:table;\"><div style=\"display:table-row;\"><div style=\"white-space:nowrap; color:blue;\"><span>reduction of path (1, 1, 1, 1, 1, 1, 1, 1)</span></div></div></div></div></div><div style=\"display:table-row;border-bottom:1px solid #848482;\"><div style=\"display:table-cell;padding:0.2em 5px 0.2em 0px;vertical-align:top;\">24. </div><div style=\"display:table-cell;vertical-align:top;border-right:1px solid #848482;padding-right:5px;;padding-top:0.2em\"><div style=\"display:inline-block;\"><span>$\\lambda{} x_{e} \\: . \\: {[\\lambda{} f3_{\\left\\langle{}e,e\\right\\rangle{}} \\: . \\: \\lambda{} x_{e} \\: . \\: {f3}({f3}({f3}({f3}({x}))))]}({[\\lambda{} f3_{\\left\\langle{}e,e\\right\\rangle{}} \\: . \\: \\lambda{} x_{e} \\: . \\: {f3}({f3}({f3}({f3}({x}))))]}({[\\lambda{} f3_{\\left\\langle{}e,e\\right\\rangle{}} \\: . \\: \\lambda{} x_{e} \\: . \\: {f3}({f3}({f3}({f3}({x}))))]}(\\lambda{} x_{e} \\: . \\: {x})))({[\\lambda{} f3_{\\left\\langle{}e,e\\right\\rangle{}} \\: . \\: \\lambda{} x_{e} \\: . \\: {f3}({f3}({f3}({f3}({x}))))]}({[\\lambda{} f3_{\\left\\langle{}e,e\\right\\rangle{}} \\: . \\: \\lambda{} x_{e} \\: . \\: {f3}({f3}({f3}({f3}({x}))))]}({[\\lambda{} f3_{\\left\\langle{}e,e\\right\\rangle{}} \\: . \\: \\lambda{} x_{e} \\: . \\: {f3}({f3}({f3}({f3}({x}))))]}(\\lambda{} x_{e} \\: . \\: {x})))({[\\lambda{} f3_{\\left\\langle{}e,e\\right\\rangle{}} \\: . \\: \\lambda{} x_{e} \\: . \\: {f3}({f3}({f3}({f3}({x}))))]}({[\\lambda{} f3_{\\left\\langle{}e,e\\right\\rangle{}} \\: . \\: \\lambda{} x_{e} \\: . \\: {f3}({f3}({f3}({f3}({x}))))]}({[\\lambda{} f3_{\\left\\langle{}e,e\\right\\rangle{}} \\: . \\: \\lambda{} x_{e} \\: . \\: {f3}({f3}({f3}({f3}({x}))))]}(\\lambda{} x_{e} \\: . \\: {x})))({[\\lambda{} f3_{\\left\\langle{}e,e\\right\\rangle{}} \\: . \\: \\lambda{} x_{e} \\: . \\: {f3}({f3}({f3}({f3}({x}))))]}({[\\lambda{} f3_{\\left\\langle{}e,e\\right\\rangle{}} \\: . \\: \\lambda{} x_{e} \\: . \\: {f3}({f3}({f3}({f3}({x}))))]}(\\lambda{} x_{e} \\: . \\: {x}))({[\\lambda{} f3_{\\left\\langle{}e,e\\right\\rangle{}} \\: . \\: \\lambda{} x_{e} \\: . \\: {f3}({f3}({f3}({f3}({x}))))]}({[\\lambda{} f3_{\\left\\langle{}e,e\\right\\rangle{}} \\: . \\: \\lambda{} x_{e} \\: . \\: {f3}({f3}({f3}({f3}({x}))))]}(\\lambda{} x_{e} \\: . \\: {x}))({[\\lambda{} f3_{\\left\\langle{}e,e\\right\\rangle{}} \\: . \\: \\lambda{} x_{e} \\: . \\: {f3}({f3}({f3}({f3}({x}))))]}({[\\lambda{} f3_{\\left\\langle{}e,e\\right\\rangle{}} \\: . \\: \\lambda{} x_{e} \\: . \\: {f3}({f3}({f3}({f3}({x}))))]}(\\lambda{} x_{e} \\: . \\: {x}))({[\\lambda{} f3_{\\left\\langle{}e,e\\right\\rangle{}} \\: . \\: \\lambda{} x_{e} \\: . \\: {f3}({f3}({f3}({f3}({x}))))]}(\\lambda{} x_{e} \\: . \\: {x})({[\\lambda{} x_{e} \\: . \\: {x}]}({[\\lambda{} x_{e} \\: . \\: {x}]}({x})))))))))$</span></div></div><div style=\"display:table-cell;vertical-align:top;padding-left:5px;padding-right:5px;padding-top:0.2em\"><div style=\"display:table;\"><div style=\"display:table-row;\"><div style=\"white-space:nowrap; color:blue;\"><span>reduction of path (1, 1, 1, 1, 1, 1, 1, 1)</span></div></div></div></div></div><div style=\"display:table-row;border-bottom:1px solid #848482;\"><div style=\"display:table-cell;padding:0.2em 5px 0.2em 0px;vertical-align:top;\">25. </div><div style=\"display:table-cell;vertical-align:top;border-right:1px solid #848482;padding-right:5px;;padding-top:0.2em\"><div style=\"display:inline-block;\"><span>$\\lambda{} x_{e} \\: . \\: {[\\lambda{} f3_{\\left\\langle{}e,e\\right\\rangle{}} \\: . \\: \\lambda{} x_{e} \\: . \\: {f3}({f3}({f3}({f3}({x}))))]}({[\\lambda{} f3_{\\left\\langle{}e,e\\right\\rangle{}} \\: . \\: \\lambda{} x_{e} \\: . \\: {f3}({f3}({f3}({f3}({x}))))]}({[\\lambda{} f3_{\\left\\langle{}e,e\\right\\rangle{}} \\: . \\: \\lambda{} x_{e} \\: . \\: {f3}({f3}({f3}({f3}({x}))))]}(\\lambda{} x_{e} \\: . \\: {x})))({[\\lambda{} f3_{\\left\\langle{}e,e\\right\\rangle{}} \\: . \\: \\lambda{} x_{e} \\: . \\: {f3}({f3}({f3}({f3}({x}))))]}({[\\lambda{} f3_{\\left\\langle{}e,e\\right\\rangle{}} \\: . \\: \\lambda{} x_{e} \\: . \\: {f3}({f3}({f3}({f3}({x}))))]}({[\\lambda{} f3_{\\left\\langle{}e,e\\right\\rangle{}} \\: . \\: \\lambda{} x_{e} \\: . \\: {f3}({f3}({f3}({f3}({x}))))]}(\\lambda{} x_{e} \\: . \\: {x})))({[\\lambda{} f3_{\\left\\langle{}e,e\\right\\rangle{}} \\: . \\: \\lambda{} x_{e} \\: . \\: {f3}({f3}({f3}({f3}({x}))))]}({[\\lambda{} f3_{\\left\\langle{}e,e\\right\\rangle{}} \\: . \\: \\lambda{} x_{e} \\: . \\: {f3}({f3}({f3}({f3}({x}))))]}({[\\lambda{} f3_{\\left\\langle{}e,e\\right\\rangle{}} \\: . \\: \\lambda{} x_{e} \\: . \\: {f3}({f3}({f3}({f3}({x}))))]}(\\lambda{} x_{e} \\: . \\: {x})))({[\\lambda{} f3_{\\left\\langle{}e,e\\right\\rangle{}} \\: . \\: \\lambda{} x_{e} \\: . \\: {f3}({f3}({f3}({f3}({x}))))]}({[\\lambda{} f3_{\\left\\langle{}e,e\\right\\rangle{}} \\: . \\: \\lambda{} x_{e} \\: . \\: {f3}({f3}({f3}({f3}({x}))))]}(\\lambda{} x_{e} \\: . \\: {x}))({[\\lambda{} f3_{\\left\\langle{}e,e\\right\\rangle{}} \\: . \\: \\lambda{} x_{e} \\: . \\: {f3}({f3}({f3}({f3}({x}))))]}({[\\lambda{} f3_{\\left\\langle{}e,e\\right\\rangle{}} \\: . \\: \\lambda{} x_{e} \\: . \\: {f3}({f3}({f3}({f3}({x}))))]}(\\lambda{} x_{e} \\: . \\: {x}))({[\\lambda{} f3_{\\left\\langle{}e,e\\right\\rangle{}} \\: . \\: \\lambda{} x_{e} \\: . \\: {f3}({f3}({f3}({f3}({x}))))]}({[\\lambda{} f3_{\\left\\langle{}e,e\\right\\rangle{}} \\: . \\: \\lambda{} x_{e} \\: . \\: {f3}({f3}({f3}({f3}({x}))))]}(\\lambda{} x_{e} \\: . \\: {x}))({[\\lambda{} f3_{\\left\\langle{}e,e\\right\\rangle{}} \\: . \\: \\lambda{} x_{e} \\: . \\: {f3}({f3}({f3}({f3}({x}))))]}(\\lambda{} x_{e} \\: . \\: {x})({[\\lambda{} x_{e} \\: . \\: {x}]}({x}))))))))$</span></div></div><div style=\"display:table-cell;vertical-align:top;padding-left:5px;padding-right:5px;padding-top:0.2em\"><div style=\"display:table;\"><div style=\"display:table-row;\"><div style=\"white-space:nowrap; color:blue;\"><span>reduction of path (1, 1, 1, 1, 1, 1, 1, 1)</span></div></div></div></div></div><div style=\"display:table-row;border-bottom:1px solid #848482;\"><div style=\"display:table-cell;padding:0.2em 5px 0.2em 0px;vertical-align:top;\">26. </div><div style=\"display:table-cell;vertical-align:top;border-right:1px solid #848482;padding-right:5px;;padding-top:0.2em\"><div style=\"display:inline-block;\"><span>$\\lambda{} x_{e} \\: . \\: {[\\lambda{} f3_{\\left\\langle{}e,e\\right\\rangle{}} \\: . \\: \\lambda{} x_{e} \\: . \\: {f3}({f3}({f3}({f3}({x}))))]}({[\\lambda{} f3_{\\left\\langle{}e,e\\right\\rangle{}} \\: . \\: \\lambda{} x_{e} \\: . \\: {f3}({f3}({f3}({f3}({x}))))]}({[\\lambda{} f3_{\\left\\langle{}e,e\\right\\rangle{}} \\: . \\: \\lambda{} x_{e} \\: . \\: {f3}({f3}({f3}({f3}({x}))))]}(\\lambda{} x_{e} \\: . \\: {x})))({[\\lambda{} f3_{\\left\\langle{}e,e\\right\\rangle{}} \\: . \\: \\lambda{} x_{e} \\: . \\: {f3}({f3}({f3}({f3}({x}))))]}({[\\lambda{} f3_{\\left\\langle{}e,e\\right\\rangle{}} \\: . \\: \\lambda{} x_{e} \\: . \\: {f3}({f3}({f3}({f3}({x}))))]}({[\\lambda{} f3_{\\left\\langle{}e,e\\right\\rangle{}} \\: . \\: \\lambda{} x_{e} \\: . \\: {f3}({f3}({f3}({f3}({x}))))]}(\\lambda{} x_{e} \\: . \\: {x})))({[\\lambda{} f3_{\\left\\langle{}e,e\\right\\rangle{}} \\: . \\: \\lambda{} x_{e} \\: . \\: {f3}({f3}({f3}({f3}({x}))))]}({[\\lambda{} f3_{\\left\\langle{}e,e\\right\\rangle{}} \\: . \\: \\lambda{} x_{e} \\: . \\: {f3}({f3}({f3}({f3}({x}))))]}({[\\lambda{} f3_{\\left\\langle{}e,e\\right\\rangle{}} \\: . \\: \\lambda{} x_{e} \\: . \\: {f3}({f3}({f3}({f3}({x}))))]}(\\lambda{} x_{e} \\: . \\: {x})))({[\\lambda{} f3_{\\left\\langle{}e,e\\right\\rangle{}} \\: . \\: \\lambda{} x_{e} \\: . \\: {f3}({f3}({f3}({f3}({x}))))]}({[\\lambda{} f3_{\\left\\langle{}e,e\\right\\rangle{}} \\: . \\: \\lambda{} x_{e} \\: . \\: {f3}({f3}({f3}({f3}({x}))))]}(\\lambda{} x_{e} \\: . \\: {x}))({[\\lambda{} f3_{\\left\\langle{}e,e\\right\\rangle{}} \\: . \\: \\lambda{} x_{e} \\: . \\: {f3}({f3}({f3}({f3}({x}))))]}({[\\lambda{} f3_{\\left\\langle{}e,e\\right\\rangle{}} \\: . \\: \\lambda{} x_{e} \\: . \\: {f3}({f3}({f3}({f3}({x}))))]}(\\lambda{} x_{e} \\: . \\: {x}))({[\\lambda{} f3_{\\left\\langle{}e,e\\right\\rangle{}} \\: . \\: \\lambda{} x_{e} \\: . \\: {f3}({f3}({f3}({f3}({x}))))]}({[\\lambda{} f3_{\\left\\langle{}e,e\\right\\rangle{}} \\: . \\: \\lambda{} x_{e} \\: . \\: {f3}({f3}({f3}({f3}({x}))))]}(\\lambda{} x_{e} \\: . \\: {x}))({[\\lambda{} f3_{\\left\\langle{}e,e\\right\\rangle{}} \\: . \\: \\lambda{} x_{e} \\: . \\: {f3}({f3}({f3}({f3}({x}))))]}(\\lambda{} x_{e} \\: . \\: {x})({x})))))))$</span></div></div><div style=\"display:table-cell;vertical-align:top;padding-left:5px;padding-right:5px;padding-top:0.2em\"><div style=\"display:table;\"><div style=\"display:table-row;\"><div style=\"white-space:nowrap; color:blue;\"><span>reduction of path (1, 1, 1, 1, 1, 1, 1, 0)</span></div></div></div></div></div><div style=\"display:table-row;border-bottom:1px solid #848482;\"><div style=\"display:table-cell;padding:0.2em 5px 0.2em 0px;vertical-align:top;\">27. </div><div style=\"display:table-cell;vertical-align:top;border-right:1px solid #848482;padding-right:5px;;padding-top:0.2em\"><div style=\"display:inline-block;\"><span>$\\lambda{} x_{e} \\: . \\: {[\\lambda{} f3_{\\left\\langle{}e,e\\right\\rangle{}} \\: . \\: \\lambda{} x_{e} \\: . \\: {f3}({f3}({f3}({f3}({x}))))]}({[\\lambda{} f3_{\\left\\langle{}e,e\\right\\rangle{}} \\: . \\: \\lambda{} x_{e} \\: . \\: {f3}({f3}({f3}({f3}({x}))))]}({[\\lambda{} f3_{\\left\\langle{}e,e\\right\\rangle{}} \\: . \\: \\lambda{} x_{e} \\: . \\: {f3}({f3}({f3}({f3}({x}))))]}(\\lambda{} x_{e} \\: . \\: {x})))({[\\lambda{} f3_{\\left\\langle{}e,e\\right\\rangle{}} \\: . \\: \\lambda{} x_{e} \\: . \\: {f3}({f3}({f3}({f3}({x}))))]}({[\\lambda{} f3_{\\left\\langle{}e,e\\right\\rangle{}} \\: . \\: \\lambda{} x_{e} \\: . \\: {f3}({f3}({f3}({f3}({x}))))]}({[\\lambda{} f3_{\\left\\langle{}e,e\\right\\rangle{}} \\: . \\: \\lambda{} x_{e} \\: . \\: {f3}({f3}({f3}({f3}({x}))))]}(\\lambda{} x_{e} \\: . \\: {x})))({[\\lambda{} f3_{\\left\\langle{}e,e\\right\\rangle{}} \\: . \\: \\lambda{} x_{e} \\: . \\: {f3}({f3}({f3}({f3}({x}))))]}({[\\lambda{} f3_{\\left\\langle{}e,e\\right\\rangle{}} \\: . \\: \\lambda{} x_{e} \\: . \\: {f3}({f3}({f3}({f3}({x}))))]}({[\\lambda{} f3_{\\left\\langle{}e,e\\right\\rangle{}} \\: . \\: \\lambda{} x_{e} \\: . \\: {f3}({f3}({f3}({f3}({x}))))]}(\\lambda{} x_{e} \\: . \\: {x})))({[\\lambda{} f3_{\\left\\langle{}e,e\\right\\rangle{}} \\: . \\: \\lambda{} x_{e} \\: . \\: {f3}({f3}({f3}({f3}({x}))))]}({[\\lambda{} f3_{\\left\\langle{}e,e\\right\\rangle{}} \\: . \\: \\lambda{} x_{e} \\: . \\: {f3}({f3}({f3}({f3}({x}))))]}(\\lambda{} x_{e} \\: . \\: {x}))({[\\lambda{} f3_{\\left\\langle{}e,e\\right\\rangle{}} \\: . \\: \\lambda{} x_{e} \\: . \\: {f3}({f3}({f3}({f3}({x}))))]}({[\\lambda{} f3_{\\left\\langle{}e,e\\right\\rangle{}} \\: . \\: \\lambda{} x_{e} \\: . \\: {f3}({f3}({f3}({f3}({x}))))]}(\\lambda{} x_{e} \\: . \\: {x}))({[\\lambda{} f3_{\\left\\langle{}e,e\\right\\rangle{}} \\: . \\: \\lambda{} x_{e} \\: . \\: {f3}({f3}({f3}({f3}({x}))))]}({[\\lambda{} f3_{\\left\\langle{}e,e\\right\\rangle{}} \\: . \\: \\lambda{} x_{e} \\: . \\: {f3}({f3}({f3}({f3}({x}))))]}(\\lambda{} x_{e} \\: . \\: {x}))({[\\lambda{} x_{e} \\: . \\: {[\\lambda{} x_{e} \\: . \\: {x}]}({[\\lambda{} x_{e} \\: . \\: {x}]}({[\\lambda{} x_{e} \\: . \\: {x}]}({[\\lambda{} x_{e} \\: . \\: {x}]}({x}))))]}({x})))))))$</span></div></div><div style=\"display:table-cell;vertical-align:top;padding-left:5px;padding-right:5px;padding-top:0.2em\"><div style=\"display:table;\"><div style=\"display:table-row;\"><div style=\"white-space:nowrap; color:blue;\"><span>reduction of path (1, 1, 1, 1, 1, 1, 1)</span></div></div></div></div></div><div style=\"display:table-row;border-bottom:1px solid #848482;\"><div style=\"display:table-cell;padding:0.2em 5px 0.2em 0px;vertical-align:top;\">28. </div><div style=\"display:table-cell;vertical-align:top;border-right:1px solid #848482;padding-right:5px;;padding-top:0.2em\"><div style=\"display:inline-block;\"><span>$\\lambda{} x_{e} \\: . \\: {[\\lambda{} f3_{\\left\\langle{}e,e\\right\\rangle{}} \\: . \\: \\lambda{} x_{e} \\: . \\: {f3}({f3}({f3}({f3}({x}))))]}({[\\lambda{} f3_{\\left\\langle{}e,e\\right\\rangle{}} \\: . \\: \\lambda{} x_{e} \\: . \\: {f3}({f3}({f3}({f3}({x}))))]}({[\\lambda{} f3_{\\left\\langle{}e,e\\right\\rangle{}} \\: . \\: \\lambda{} x_{e} \\: . \\: {f3}({f3}({f3}({f3}({x}))))]}(\\lambda{} x_{e} \\: . \\: {x})))({[\\lambda{} f3_{\\left\\langle{}e,e\\right\\rangle{}} \\: . \\: \\lambda{} x_{e} \\: . \\: {f3}({f3}({f3}({f3}({x}))))]}({[\\lambda{} f3_{\\left\\langle{}e,e\\right\\rangle{}} \\: . \\: \\lambda{} x_{e} \\: . \\: {f3}({f3}({f3}({f3}({x}))))]}({[\\lambda{} f3_{\\left\\langle{}e,e\\right\\rangle{}} \\: . \\: \\lambda{} x_{e} \\: . \\: {f3}({f3}({f3}({f3}({x}))))]}(\\lambda{} x_{e} \\: . \\: {x})))({[\\lambda{} f3_{\\left\\langle{}e,e\\right\\rangle{}} \\: . \\: \\lambda{} x_{e} \\: . \\: {f3}({f3}({f3}({f3}({x}))))]}({[\\lambda{} f3_{\\left\\langle{}e,e\\right\\rangle{}} \\: . \\: \\lambda{} x_{e} \\: . \\: {f3}({f3}({f3}({f3}({x}))))]}({[\\lambda{} f3_{\\left\\langle{}e,e\\right\\rangle{}} \\: . \\: \\lambda{} x_{e} \\: . \\: {f3}({f3}({f3}({f3}({x}))))]}(\\lambda{} x_{e} \\: . \\: {x})))({[\\lambda{} f3_{\\left\\langle{}e,e\\right\\rangle{}} \\: . \\: \\lambda{} x_{e} \\: . \\: {f3}({f3}({f3}({f3}({x}))))]}({[\\lambda{} f3_{\\left\\langle{}e,e\\right\\rangle{}} \\: . \\: \\lambda{} x_{e} \\: . \\: {f3}({f3}({f3}({f3}({x}))))]}(\\lambda{} x_{e} \\: . \\: {x}))({[\\lambda{} f3_{\\left\\langle{}e,e\\right\\rangle{}} \\: . \\: \\lambda{} x_{e} \\: . \\: {f3}({f3}({f3}({f3}({x}))))]}({[\\lambda{} f3_{\\left\\langle{}e,e\\right\\rangle{}} \\: . \\: \\lambda{} x_{e} \\: . \\: {f3}({f3}({f3}({f3}({x}))))]}(\\lambda{} x_{e} \\: . \\: {x}))({[\\lambda{} f3_{\\left\\langle{}e,e\\right\\rangle{}} \\: . \\: \\lambda{} x_{e} \\: . \\: {f3}({f3}({f3}({f3}({x}))))]}({[\\lambda{} f3_{\\left\\langle{}e,e\\right\\rangle{}} \\: . \\: \\lambda{} x_{e} \\: . \\: {f3}({f3}({f3}({f3}({x}))))]}(\\lambda{} x_{e} \\: . \\: {x}))({[\\lambda{} x_{e} \\: . \\: {x}]}({[\\lambda{} x_{e} \\: . \\: {x}]}({[\\lambda{} x_{e} \\: . \\: {x}]}({[\\lambda{} x_{e} \\: . \\: {x}]}({x}))))))))))$</span></div></div><div style=\"display:table-cell;vertical-align:top;padding-left:5px;padding-right:5px;padding-top:0.2em\"><div style=\"display:table;\"><div style=\"display:table-row;\"><div style=\"white-space:nowrap; color:blue;\"><span>reduction of path (1, 1, 1, 1, 1, 1, 1)</span></div></div></div></div></div><div style=\"display:table-row;border-bottom:1px solid #848482;\"><div style=\"display:table-cell;padding:0.2em 5px 0.2em 0px;vertical-align:top;\">29. </div><div style=\"display:table-cell;vertical-align:top;border-right:1px solid #848482;padding-right:5px;;padding-top:0.2em\"><div style=\"display:inline-block;\"><span>$\\lambda{} x_{e} \\: . \\: {[\\lambda{} f3_{\\left\\langle{}e,e\\right\\rangle{}} \\: . \\: \\lambda{} x_{e} \\: . \\: {f3}({f3}({f3}({f3}({x}))))]}({[\\lambda{} f3_{\\left\\langle{}e,e\\right\\rangle{}} \\: . \\: \\lambda{} x_{e} \\: . \\: {f3}({f3}({f3}({f3}({x}))))]}({[\\lambda{} f3_{\\left\\langle{}e,e\\right\\rangle{}} \\: . \\: \\lambda{} x_{e} \\: . \\: {f3}({f3}({f3}({f3}({x}))))]}(\\lambda{} x_{e} \\: . \\: {x})))({[\\lambda{} f3_{\\left\\langle{}e,e\\right\\rangle{}} \\: . \\: \\lambda{} x_{e} \\: . \\: {f3}({f3}({f3}({f3}({x}))))]}({[\\lambda{} f3_{\\left\\langle{}e,e\\right\\rangle{}} \\: . \\: \\lambda{} x_{e} \\: . \\: {f3}({f3}({f3}({f3}({x}))))]}({[\\lambda{} f3_{\\left\\langle{}e,e\\right\\rangle{}} \\: . \\: \\lambda{} x_{e} \\: . \\: {f3}({f3}({f3}({f3}({x}))))]}(\\lambda{} x_{e} \\: . \\: {x})))({[\\lambda{} f3_{\\left\\langle{}e,e\\right\\rangle{}} \\: . \\: \\lambda{} x_{e} \\: . \\: {f3}({f3}({f3}({f3}({x}))))]}({[\\lambda{} f3_{\\left\\langle{}e,e\\right\\rangle{}} \\: . \\: \\lambda{} x_{e} \\: . \\: {f3}({f3}({f3}({f3}({x}))))]}({[\\lambda{} f3_{\\left\\langle{}e,e\\right\\rangle{}} \\: . \\: \\lambda{} x_{e} \\: . \\: {f3}({f3}({f3}({f3}({x}))))]}(\\lambda{} x_{e} \\: . \\: {x})))({[\\lambda{} f3_{\\left\\langle{}e,e\\right\\rangle{}} \\: . \\: \\lambda{} x_{e} \\: . \\: {f3}({f3}({f3}({f3}({x}))))]}({[\\lambda{} f3_{\\left\\langle{}e,e\\right\\rangle{}} \\: . \\: \\lambda{} x_{e} \\: . \\: {f3}({f3}({f3}({f3}({x}))))]}(\\lambda{} x_{e} \\: . \\: {x}))({[\\lambda{} f3_{\\left\\langle{}e,e\\right\\rangle{}} \\: . \\: \\lambda{} x_{e} \\: . \\: {f3}({f3}({f3}({f3}({x}))))]}({[\\lambda{} f3_{\\left\\langle{}e,e\\right\\rangle{}} \\: . \\: \\lambda{} x_{e} \\: . \\: {f3}({f3}({f3}({f3}({x}))))]}(\\lambda{} x_{e} \\: . \\: {x}))({[\\lambda{} f3_{\\left\\langle{}e,e\\right\\rangle{}} \\: . \\: \\lambda{} x_{e} \\: . \\: {f3}({f3}({f3}({f3}({x}))))]}({[\\lambda{} f3_{\\left\\langle{}e,e\\right\\rangle{}} \\: . \\: \\lambda{} x_{e} \\: . \\: {f3}({f3}({f3}({f3}({x}))))]}(\\lambda{} x_{e} \\: . \\: {x}))({[\\lambda{} x_{e} \\: . \\: {x}]}({[\\lambda{} x_{e} \\: . \\: {x}]}({[\\lambda{} x_{e} \\: . \\: {x}]}({x})))))))))$</span></div></div><div style=\"display:table-cell;vertical-align:top;padding-left:5px;padding-right:5px;padding-top:0.2em\"><div style=\"display:table;\"><div style=\"display:table-row;\"><div style=\"white-space:nowrap; color:blue;\"><span>reduction of path (1, 1, 1, 1, 1, 1, 1)</span></div></div></div></div></div><div style=\"display:table-row;border-bottom:1px solid #848482;\"><div style=\"display:table-cell;padding:0.2em 5px 0.2em 0px;vertical-align:top;\">30. </div><div style=\"display:table-cell;vertical-align:top;border-right:1px solid #848482;padding-right:5px;;padding-top:0.2em\"><div style=\"display:inline-block;\"><span>$\\lambda{} x_{e} \\: . \\: {[\\lambda{} f3_{\\left\\langle{}e,e\\right\\rangle{}} \\: . \\: \\lambda{} x_{e} \\: . \\: {f3}({f3}({f3}({f3}({x}))))]}({[\\lambda{} f3_{\\left\\langle{}e,e\\right\\rangle{}} \\: . \\: \\lambda{} x_{e} \\: . \\: {f3}({f3}({f3}({f3}({x}))))]}({[\\lambda{} f3_{\\left\\langle{}e,e\\right\\rangle{}} \\: . \\: \\lambda{} x_{e} \\: . \\: {f3}({f3}({f3}({f3}({x}))))]}(\\lambda{} x_{e} \\: . \\: {x})))({[\\lambda{} f3_{\\left\\langle{}e,e\\right\\rangle{}} \\: . \\: \\lambda{} x_{e} \\: . \\: {f3}({f3}({f3}({f3}({x}))))]}({[\\lambda{} f3_{\\left\\langle{}e,e\\right\\rangle{}} \\: . \\: \\lambda{} x_{e} \\: . \\: {f3}({f3}({f3}({f3}({x}))))]}({[\\lambda{} f3_{\\left\\langle{}e,e\\right\\rangle{}} \\: . \\: \\lambda{} x_{e} \\: . \\: {f3}({f3}({f3}({f3}({x}))))]}(\\lambda{} x_{e} \\: . \\: {x})))({[\\lambda{} f3_{\\left\\langle{}e,e\\right\\rangle{}} \\: . \\: \\lambda{} x_{e} \\: . \\: {f3}({f3}({f3}({f3}({x}))))]}({[\\lambda{} f3_{\\left\\langle{}e,e\\right\\rangle{}} \\: . \\: \\lambda{} x_{e} \\: . \\: {f3}({f3}({f3}({f3}({x}))))]}({[\\lambda{} f3_{\\left\\langle{}e,e\\right\\rangle{}} \\: . \\: \\lambda{} x_{e} \\: . \\: {f3}({f3}({f3}({f3}({x}))))]}(\\lambda{} x_{e} \\: . \\: {x})))({[\\lambda{} f3_{\\left\\langle{}e,e\\right\\rangle{}} \\: . \\: \\lambda{} x_{e} \\: . \\: {f3}({f3}({f3}({f3}({x}))))]}({[\\lambda{} f3_{\\left\\langle{}e,e\\right\\rangle{}} \\: . \\: \\lambda{} x_{e} \\: . \\: {f3}({f3}({f3}({f3}({x}))))]}(\\lambda{} x_{e} \\: . \\: {x}))({[\\lambda{} f3_{\\left\\langle{}e,e\\right\\rangle{}} \\: . \\: \\lambda{} x_{e} \\: . \\: {f3}({f3}({f3}({f3}({x}))))]}({[\\lambda{} f3_{\\left\\langle{}e,e\\right\\rangle{}} \\: . \\: \\lambda{} x_{e} \\: . \\: {f3}({f3}({f3}({f3}({x}))))]}(\\lambda{} x_{e} \\: . \\: {x}))({[\\lambda{} f3_{\\left\\langle{}e,e\\right\\rangle{}} \\: . \\: \\lambda{} x_{e} \\: . \\: {f3}({f3}({f3}({f3}({x}))))]}({[\\lambda{} f3_{\\left\\langle{}e,e\\right\\rangle{}} \\: . \\: \\lambda{} x_{e} \\: . \\: {f3}({f3}({f3}({f3}({x}))))]}(\\lambda{} x_{e} \\: . \\: {x}))({[\\lambda{} x_{e} \\: . \\: {x}]}({[\\lambda{} x_{e} \\: . \\: {x}]}({x}))))))))$</span></div></div><div style=\"display:table-cell;vertical-align:top;padding-left:5px;padding-right:5px;padding-top:0.2em\"><div style=\"display:table;\"><div style=\"display:table-row;\"><div style=\"white-space:nowrap; color:blue;\"><span>reduction of path (1, 1, 1, 1, 1, 1, 1)</span></div></div></div></div></div><div style=\"display:table-row;border-bottom:1px solid #848482;\"><div style=\"display:table-cell;padding:0.2em 5px 0.2em 0px;vertical-align:top;\">31. </div><div style=\"display:table-cell;vertical-align:top;border-right:1px solid #848482;padding-right:5px;;padding-top:0.2em\"><div style=\"display:inline-block;\"><span>$\\lambda{} x_{e} \\: . \\: {[\\lambda{} f3_{\\left\\langle{}e,e\\right\\rangle{}} \\: . \\: \\lambda{} x_{e} \\: . \\: {f3}({f3}({f3}({f3}({x}))))]}({[\\lambda{} f3_{\\left\\langle{}e,e\\right\\rangle{}} \\: . \\: \\lambda{} x_{e} \\: . \\: {f3}({f3}({f3}({f3}({x}))))]}({[\\lambda{} f3_{\\left\\langle{}e,e\\right\\rangle{}} \\: . \\: \\lambda{} x_{e} \\: . \\: {f3}({f3}({f3}({f3}({x}))))]}(\\lambda{} x_{e} \\: . \\: {x})))({[\\lambda{} f3_{\\left\\langle{}e,e\\right\\rangle{}} \\: . \\: \\lambda{} x_{e} \\: . \\: {f3}({f3}({f3}({f3}({x}))))]}({[\\lambda{} f3_{\\left\\langle{}e,e\\right\\rangle{}} \\: . \\: \\lambda{} x_{e} \\: . \\: {f3}({f3}({f3}({f3}({x}))))]}({[\\lambda{} f3_{\\left\\langle{}e,e\\right\\rangle{}} \\: . \\: \\lambda{} x_{e} \\: . \\: {f3}({f3}({f3}({f3}({x}))))]}(\\lambda{} x_{e} \\: . \\: {x})))({[\\lambda{} f3_{\\left\\langle{}e,e\\right\\rangle{}} \\: . \\: \\lambda{} x_{e} \\: . \\: {f3}({f3}({f3}({f3}({x}))))]}({[\\lambda{} f3_{\\left\\langle{}e,e\\right\\rangle{}} \\: . \\: \\lambda{} x_{e} \\: . \\: {f3}({f3}({f3}({f3}({x}))))]}({[\\lambda{} f3_{\\left\\langle{}e,e\\right\\rangle{}} \\: . \\: \\lambda{} x_{e} \\: . \\: {f3}({f3}({f3}({f3}({x}))))]}(\\lambda{} x_{e} \\: . \\: {x})))({[\\lambda{} f3_{\\left\\langle{}e,e\\right\\rangle{}} \\: . \\: \\lambda{} x_{e} \\: . \\: {f3}({f3}({f3}({f3}({x}))))]}({[\\lambda{} f3_{\\left\\langle{}e,e\\right\\rangle{}} \\: . \\: \\lambda{} x_{e} \\: . \\: {f3}({f3}({f3}({f3}({x}))))]}(\\lambda{} x_{e} \\: . \\: {x}))({[\\lambda{} f3_{\\left\\langle{}e,e\\right\\rangle{}} \\: . \\: \\lambda{} x_{e} \\: . \\: {f3}({f3}({f3}({f3}({x}))))]}({[\\lambda{} f3_{\\left\\langle{}e,e\\right\\rangle{}} \\: . \\: \\lambda{} x_{e} \\: . \\: {f3}({f3}({f3}({f3}({x}))))]}(\\lambda{} x_{e} \\: . \\: {x}))({[\\lambda{} f3_{\\left\\langle{}e,e\\right\\rangle{}} \\: . \\: \\lambda{} x_{e} \\: . \\: {f3}({f3}({f3}({f3}({x}))))]}({[\\lambda{} f3_{\\left\\langle{}e,e\\right\\rangle{}} \\: . \\: \\lambda{} x_{e} \\: . \\: {f3}({f3}({f3}({f3}({x}))))]}(\\lambda{} x_{e} \\: . \\: {x}))({[\\lambda{} x_{e} \\: . \\: {x}]}({x})))))))$</span></div></div><div style=\"display:table-cell;vertical-align:top;padding-left:5px;padding-right:5px;padding-top:0.2em\"><div style=\"display:table;\"><div style=\"display:table-row;\"><div style=\"white-space:nowrap; color:blue;\"><span>reduction of path (1, 1, 1, 1, 1, 1, 1)</span></div></div></div></div></div><div style=\"display:table-row;border-bottom:1px solid #848482;\"><div style=\"display:table-cell;padding:0.2em 5px 0.2em 0px;vertical-align:top;\">32. </div><div style=\"display:table-cell;vertical-align:top;border-right:1px solid #848482;padding-right:5px;;padding-top:0.2em\"><div style=\"display:inline-block;\"><span>$\\lambda{} x_{e} \\: . \\: {[\\lambda{} f3_{\\left\\langle{}e,e\\right\\rangle{}} \\: . \\: \\lambda{} x_{e} \\: . \\: {f3}({f3}({f3}({f3}({x}))))]}({[\\lambda{} f3_{\\left\\langle{}e,e\\right\\rangle{}} \\: . \\: \\lambda{} x_{e} \\: . \\: {f3}({f3}({f3}({f3}({x}))))]}({[\\lambda{} f3_{\\left\\langle{}e,e\\right\\rangle{}} \\: . \\: \\lambda{} x_{e} \\: . \\: {f3}({f3}({f3}({f3}({x}))))]}(\\lambda{} x_{e} \\: . \\: {x})))({[\\lambda{} f3_{\\left\\langle{}e,e\\right\\rangle{}} \\: . \\: \\lambda{} x_{e} \\: . \\: {f3}({f3}({f3}({f3}({x}))))]}({[\\lambda{} f3_{\\left\\langle{}e,e\\right\\rangle{}} \\: . \\: \\lambda{} x_{e} \\: . \\: {f3}({f3}({f3}({f3}({x}))))]}({[\\lambda{} f3_{\\left\\langle{}e,e\\right\\rangle{}} \\: . \\: \\lambda{} x_{e} \\: . \\: {f3}({f3}({f3}({f3}({x}))))]}(\\lambda{} x_{e} \\: . \\: {x})))({[\\lambda{} f3_{\\left\\langle{}e,e\\right\\rangle{}} \\: . \\: \\lambda{} x_{e} \\: . \\: {f3}({f3}({f3}({f3}({x}))))]}({[\\lambda{} f3_{\\left\\langle{}e,e\\right\\rangle{}} \\: . \\: \\lambda{} x_{e} \\: . \\: {f3}({f3}({f3}({f3}({x}))))]}({[\\lambda{} f3_{\\left\\langle{}e,e\\right\\rangle{}} \\: . \\: \\lambda{} x_{e} \\: . \\: {f3}({f3}({f3}({f3}({x}))))]}(\\lambda{} x_{e} \\: . \\: {x})))({[\\lambda{} f3_{\\left\\langle{}e,e\\right\\rangle{}} \\: . \\: \\lambda{} x_{e} \\: . \\: {f3}({f3}({f3}({f3}({x}))))]}({[\\lambda{} f3_{\\left\\langle{}e,e\\right\\rangle{}} \\: . \\: \\lambda{} x_{e} \\: . \\: {f3}({f3}({f3}({f3}({x}))))]}(\\lambda{} x_{e} \\: . \\: {x}))({[\\lambda{} f3_{\\left\\langle{}e,e\\right\\rangle{}} \\: . \\: \\lambda{} x_{e} \\: . \\: {f3}({f3}({f3}({f3}({x}))))]}({[\\lambda{} f3_{\\left\\langle{}e,e\\right\\rangle{}} \\: . \\: \\lambda{} x_{e} \\: . \\: {f3}({f3}({f3}({f3}({x}))))]}(\\lambda{} x_{e} \\: . \\: {x}))({[\\lambda{} f3_{\\left\\langle{}e,e\\right\\rangle{}} \\: . \\: \\lambda{} x_{e} \\: . \\: {f3}({f3}({f3}({f3}({x}))))]}({[\\lambda{} f3_{\\left\\langle{}e,e\\right\\rangle{}} \\: . \\: \\lambda{} x_{e} \\: . \\: {f3}({f3}({f3}({f3}({x}))))]}(\\lambda{} x_{e} \\: . \\: {x}))({x}))))))$</span></div></div><div style=\"display:table-cell;vertical-align:top;padding-left:5px;padding-right:5px;padding-top:0.2em\"><div style=\"display:table;\"><div style=\"display:table-row;\"><div style=\"white-space:nowrap; color:blue;\"><span>reduction of path (1, 1, 1, 1, 1, 1, 0)</span></div></div></div></div></div><div style=\"display:table-row;border-bottom:1px solid #848482;\"><div style=\"display:table-cell;padding:0.2em 5px 0.2em 0px;vertical-align:top;\">33. </div><div style=\"display:table-cell;vertical-align:top;border-right:1px solid #848482;padding-right:5px;;padding-top:0.2em\"><div style=\"display:inline-block;\"><span>$\\lambda{} x_{e} \\: . \\: {[\\lambda{} f3_{\\left\\langle{}e,e\\right\\rangle{}} \\: . \\: \\lambda{} x_{e} \\: . \\: {f3}({f3}({f3}({f3}({x}))))]}({[\\lambda{} f3_{\\left\\langle{}e,e\\right\\rangle{}} \\: . \\: \\lambda{} x_{e} \\: . \\: {f3}({f3}({f3}({f3}({x}))))]}({[\\lambda{} f3_{\\left\\langle{}e,e\\right\\rangle{}} \\: . \\: \\lambda{} x_{e} \\: . \\: {f3}({f3}({f3}({f3}({x}))))]}(\\lambda{} x_{e} \\: . \\: {x})))({[\\lambda{} f3_{\\left\\langle{}e,e\\right\\rangle{}} \\: . \\: \\lambda{} x_{e} \\: . \\: {f3}({f3}({f3}({f3}({x}))))]}({[\\lambda{} f3_{\\left\\langle{}e,e\\right\\rangle{}} \\: . \\: \\lambda{} x_{e} \\: . \\: {f3}({f3}({f3}({f3}({x}))))]}({[\\lambda{} f3_{\\left\\langle{}e,e\\right\\rangle{}} \\: . \\: \\lambda{} x_{e} \\: . \\: {f3}({f3}({f3}({f3}({x}))))]}(\\lambda{} x_{e} \\: . \\: {x})))({[\\lambda{} f3_{\\left\\langle{}e,e\\right\\rangle{}} \\: . \\: \\lambda{} x_{e} \\: . \\: {f3}({f3}({f3}({f3}({x}))))]}({[\\lambda{} f3_{\\left\\langle{}e,e\\right\\rangle{}} \\: . \\: \\lambda{} x_{e} \\: . \\: {f3}({f3}({f3}({f3}({x}))))]}({[\\lambda{} f3_{\\left\\langle{}e,e\\right\\rangle{}} \\: . \\: \\lambda{} x_{e} \\: . \\: {f3}({f3}({f3}({f3}({x}))))]}(\\lambda{} x_{e} \\: . \\: {x})))({[\\lambda{} f3_{\\left\\langle{}e,e\\right\\rangle{}} \\: . \\: \\lambda{} x_{e} \\: . \\: {f3}({f3}({f3}({f3}({x}))))]}({[\\lambda{} f3_{\\left\\langle{}e,e\\right\\rangle{}} \\: . \\: \\lambda{} x_{e} \\: . \\: {f3}({f3}({f3}({f3}({x}))))]}(\\lambda{} x_{e} \\: . \\: {x}))({[\\lambda{} f3_{\\left\\langle{}e,e\\right\\rangle{}} \\: . \\: \\lambda{} x_{e} \\: . \\: {f3}({f3}({f3}({f3}({x}))))]}({[\\lambda{} f3_{\\left\\langle{}e,e\\right\\rangle{}} \\: . \\: \\lambda{} x_{e} \\: . \\: {f3}({f3}({f3}({f3}({x}))))]}(\\lambda{} x_{e} \\: . \\: {x}))({[\\lambda{} x_{e} \\: . \\: {[\\lambda{} f3_{\\left\\langle{}e,e\\right\\rangle{}} \\: . \\: \\lambda{} x_{e} \\: . \\: {f3}({f3}({f3}({f3}({x}))))]}(\\lambda{} x_{e} \\: . \\: {x})({[\\lambda{} f3_{\\left\\langle{}e,e\\right\\rangle{}} \\: . \\: \\lambda{} x_{e} \\: . \\: {f3}({f3}({f3}({f3}({x}))))]}(\\lambda{} x_{e} \\: . \\: {x})({[\\lambda{} f3_{\\left\\langle{}e,e\\right\\rangle{}} \\: . \\: \\lambda{} x_{e} \\: . \\: {f3}({f3}({f3}({f3}({x}))))]}(\\lambda{} x_{e} \\: . \\: {x})({[\\lambda{} f3_{\\left\\langle{}e,e\\right\\rangle{}} \\: . \\: \\lambda{} x_{e} \\: . \\: {f3}({f3}({f3}({f3}({x}))))]}(\\lambda{} x_{e} \\: . \\: {x})({x}))))]}({x}))))))$</span></div></div><div style=\"display:table-cell;vertical-align:top;padding-left:5px;padding-right:5px;padding-top:0.2em\"><div style=\"display:table;\"><div style=\"display:table-row;\"><div style=\"white-space:nowrap; color:blue;\"><span>reduction of path (1, 1, 1, 1, 1, 1)</span></div></div></div></div></div><div style=\"display:table-row;border-bottom:1px solid #848482;\"><div style=\"display:table-cell;padding:0.2em 5px 0.2em 0px;vertical-align:top;\">34. </div><div style=\"display:table-cell;vertical-align:top;border-right:1px solid #848482;padding-right:5px;;padding-top:0.2em\"><div style=\"display:inline-block;\"><span>$\\lambda{} x_{e} \\: . \\: {[\\lambda{} f3_{\\left\\langle{}e,e\\right\\rangle{}} \\: . \\: \\lambda{} x_{e} \\: . \\: {f3}({f3}({f3}({f3}({x}))))]}({[\\lambda{} f3_{\\left\\langle{}e,e\\right\\rangle{}} \\: . \\: \\lambda{} x_{e} \\: . \\: {f3}({f3}({f3}({f3}({x}))))]}({[\\lambda{} f3_{\\left\\langle{}e,e\\right\\rangle{}} \\: . \\: \\lambda{} x_{e} \\: . \\: {f3}({f3}({f3}({f3}({x}))))]}(\\lambda{} x_{e} \\: . \\: {x})))({[\\lambda{} f3_{\\left\\langle{}e,e\\right\\rangle{}} \\: . \\: \\lambda{} x_{e} \\: . \\: {f3}({f3}({f3}({f3}({x}))))]}({[\\lambda{} f3_{\\left\\langle{}e,e\\right\\rangle{}} \\: . \\: \\lambda{} x_{e} \\: . \\: {f3}({f3}({f3}({f3}({x}))))]}({[\\lambda{} f3_{\\left\\langle{}e,e\\right\\rangle{}} \\: . \\: \\lambda{} x_{e} \\: . \\: {f3}({f3}({f3}({f3}({x}))))]}(\\lambda{} x_{e} \\: . \\: {x})))({[\\lambda{} f3_{\\left\\langle{}e,e\\right\\rangle{}} \\: . \\: \\lambda{} x_{e} \\: . \\: {f3}({f3}({f3}({f3}({x}))))]}({[\\lambda{} f3_{\\left\\langle{}e,e\\right\\rangle{}} \\: . \\: \\lambda{} x_{e} \\: . \\: {f3}({f3}({f3}({f3}({x}))))]}({[\\lambda{} f3_{\\left\\langle{}e,e\\right\\rangle{}} \\: . \\: \\lambda{} x_{e} \\: . \\: {f3}({f3}({f3}({f3}({x}))))]}(\\lambda{} x_{e} \\: . \\: {x})))({[\\lambda{} f3_{\\left\\langle{}e,e\\right\\rangle{}} \\: . \\: \\lambda{} x_{e} \\: . \\: {f3}({f3}({f3}({f3}({x}))))]}({[\\lambda{} f3_{\\left\\langle{}e,e\\right\\rangle{}} \\: . \\: \\lambda{} x_{e} \\: . \\: {f3}({f3}({f3}({f3}({x}))))]}(\\lambda{} x_{e} \\: . \\: {x}))({[\\lambda{} f3_{\\left\\langle{}e,e\\right\\rangle{}} \\: . \\: \\lambda{} x_{e} \\: . \\: {f3}({f3}({f3}({f3}({x}))))]}({[\\lambda{} f3_{\\left\\langle{}e,e\\right\\rangle{}} \\: . \\: \\lambda{} x_{e} \\: . \\: {f3}({f3}({f3}({f3}({x}))))]}(\\lambda{} x_{e} \\: . \\: {x}))({[\\lambda{} f3_{\\left\\langle{}e,e\\right\\rangle{}} \\: . \\: \\lambda{} x_{e} \\: . \\: {f3}({f3}({f3}({f3}({x}))))]}(\\lambda{} x_{e} \\: . \\: {x})({[\\lambda{} f3_{\\left\\langle{}e,e\\right\\rangle{}} \\: . \\: \\lambda{} x_{e} \\: . \\: {f3}({f3}({f3}({f3}({x}))))]}(\\lambda{} x_{e} \\: . \\: {x})({[\\lambda{} f3_{\\left\\langle{}e,e\\right\\rangle{}} \\: . \\: \\lambda{} x_{e} \\: . \\: {f3}({f3}({f3}({f3}({x}))))]}(\\lambda{} x_{e} \\: . \\: {x})({[\\lambda{} f3_{\\left\\langle{}e,e\\right\\rangle{}} \\: . \\: \\lambda{} x_{e} \\: . \\: {f3}({f3}({f3}({f3}({x}))))]}(\\lambda{} x_{e} \\: . \\: {x})({x})))))))))$</span></div></div><div style=\"display:table-cell;vertical-align:top;padding-left:5px;padding-right:5px;padding-top:0.2em\"><div style=\"display:table;\"><div style=\"display:table-row;\"><div style=\"white-space:nowrap; color:blue;\"><span>reduction of path (1, 1, 1, 1, 1, 1, 1, 1, 1, 0)</span></div></div></div></div></div><div style=\"display:table-row;border-bottom:1px solid #848482;\"><div style=\"display:table-cell;padding:0.2em 5px 0.2em 0px;vertical-align:top;\">35. </div><div style=\"display:table-cell;vertical-align:top;border-right:1px solid #848482;padding-right:5px;;padding-top:0.2em\"><div style=\"display:inline-block;\"><span>$\\lambda{} x_{e} \\: . \\: {[\\lambda{} f3_{\\left\\langle{}e,e\\right\\rangle{}} \\: . \\: \\lambda{} x_{e} \\: . \\: {f3}({f3}({f3}({f3}({x}))))]}({[\\lambda{} f3_{\\left\\langle{}e,e\\right\\rangle{}} \\: . \\: \\lambda{} x_{e} \\: . \\: {f3}({f3}({f3}({f3}({x}))))]}({[\\lambda{} f3_{\\left\\langle{}e,e\\right\\rangle{}} \\: . \\: \\lambda{} x_{e} \\: . \\: {f3}({f3}({f3}({f3}({x}))))]}(\\lambda{} x_{e} \\: . \\: {x})))({[\\lambda{} f3_{\\left\\langle{}e,e\\right\\rangle{}} \\: . \\: \\lambda{} x_{e} \\: . \\: {f3}({f3}({f3}({f3}({x}))))]}({[\\lambda{} f3_{\\left\\langle{}e,e\\right\\rangle{}} \\: . \\: \\lambda{} x_{e} \\: . \\: {f3}({f3}({f3}({f3}({x}))))]}({[\\lambda{} f3_{\\left\\langle{}e,e\\right\\rangle{}} \\: . \\: \\lambda{} x_{e} \\: . \\: {f3}({f3}({f3}({f3}({x}))))]}(\\lambda{} x_{e} \\: . \\: {x})))({[\\lambda{} f3_{\\left\\langle{}e,e\\right\\rangle{}} \\: . \\: \\lambda{} x_{e} \\: . \\: {f3}({f3}({f3}({f3}({x}))))]}({[\\lambda{} f3_{\\left\\langle{}e,e\\right\\rangle{}} \\: . \\: \\lambda{} x_{e} \\: . \\: {f3}({f3}({f3}({f3}({x}))))]}({[\\lambda{} f3_{\\left\\langle{}e,e\\right\\rangle{}} \\: . \\: \\lambda{} x_{e} \\: . \\: {f3}({f3}({f3}({f3}({x}))))]}(\\lambda{} x_{e} \\: . \\: {x})))({[\\lambda{} f3_{\\left\\langle{}e,e\\right\\rangle{}} \\: . \\: \\lambda{} x_{e} \\: . \\: {f3}({f3}({f3}({f3}({x}))))]}({[\\lambda{} f3_{\\left\\langle{}e,e\\right\\rangle{}} \\: . \\: \\lambda{} x_{e} \\: . \\: {f3}({f3}({f3}({f3}({x}))))]}(\\lambda{} x_{e} \\: . \\: {x}))({[\\lambda{} f3_{\\left\\langle{}e,e\\right\\rangle{}} \\: . \\: \\lambda{} x_{e} \\: . \\: {f3}({f3}({f3}({f3}({x}))))]}({[\\lambda{} f3_{\\left\\langle{}e,e\\right\\rangle{}} \\: . \\: \\lambda{} x_{e} \\: . \\: {f3}({f3}({f3}({f3}({x}))))]}(\\lambda{} x_{e} \\: . \\: {x}))({[\\lambda{} f3_{\\left\\langle{}e,e\\right\\rangle{}} \\: . \\: \\lambda{} x_{e} \\: . \\: {f3}({f3}({f3}({f3}({x}))))]}(\\lambda{} x_{e} \\: . \\: {x})({[\\lambda{} f3_{\\left\\langle{}e,e\\right\\rangle{}} \\: . \\: \\lambda{} x_{e} \\: . \\: {f3}({f3}({f3}({f3}({x}))))]}(\\lambda{} x_{e} \\: . \\: {x})({[\\lambda{} f3_{\\left\\langle{}e,e\\right\\rangle{}} \\: . \\: \\lambda{} x_{e} \\: . \\: {f3}({f3}({f3}({f3}({x}))))]}(\\lambda{} x_{e} \\: . \\: {x})({[\\lambda{} x_{e} \\: . \\: {[\\lambda{} x_{e} \\: . \\: {x}]}({[\\lambda{} x_{e} \\: . \\: {x}]}({[\\lambda{} x_{e} \\: . \\: {x}]}({[\\lambda{} x_{e} \\: . \\: {x}]}({x}))))]}({x})))))))))$</span></div></div><div style=\"display:table-cell;vertical-align:top;padding-left:5px;padding-right:5px;padding-top:0.2em\"><div style=\"display:table;\"><div style=\"display:table-row;\"><div style=\"white-space:nowrap; color:blue;\"><span>reduction of path (1, 1, 1, 1, 1, 1, 1, 1, 1)</span></div></div></div></div></div><div style=\"display:table-row;border-bottom:1px solid #848482;\"><div style=\"display:table-cell;padding:0.2em 5px 0.2em 0px;vertical-align:top;\">36. </div><div style=\"display:table-cell;vertical-align:top;border-right:1px solid #848482;padding-right:5px;;padding-top:0.2em\"><div style=\"display:inline-block;\"><span>$\\lambda{} x_{e} \\: . \\: {[\\lambda{} f3_{\\left\\langle{}e,e\\right\\rangle{}} \\: . \\: \\lambda{} x_{e} \\: . \\: {f3}({f3}({f3}({f3}({x}))))]}({[\\lambda{} f3_{\\left\\langle{}e,e\\right\\rangle{}} \\: . \\: \\lambda{} x_{e} \\: . \\: {f3}({f3}({f3}({f3}({x}))))]}({[\\lambda{} f3_{\\left\\langle{}e,e\\right\\rangle{}} \\: . \\: \\lambda{} x_{e} \\: . \\: {f3}({f3}({f3}({f3}({x}))))]}(\\lambda{} x_{e} \\: . \\: {x})))({[\\lambda{} f3_{\\left\\langle{}e,e\\right\\rangle{}} \\: . \\: \\lambda{} x_{e} \\: . \\: {f3}({f3}({f3}({f3}({x}))))]}({[\\lambda{} f3_{\\left\\langle{}e,e\\right\\rangle{}} \\: . \\: \\lambda{} x_{e} \\: . \\: {f3}({f3}({f3}({f3}({x}))))]}({[\\lambda{} f3_{\\left\\langle{}e,e\\right\\rangle{}} \\: . \\: \\lambda{} x_{e} \\: . \\: {f3}({f3}({f3}({f3}({x}))))]}(\\lambda{} x_{e} \\: . \\: {x})))({[\\lambda{} f3_{\\left\\langle{}e,e\\right\\rangle{}} \\: . \\: \\lambda{} x_{e} \\: . \\: {f3}({f3}({f3}({f3}({x}))))]}({[\\lambda{} f3_{\\left\\langle{}e,e\\right\\rangle{}} \\: . \\: \\lambda{} x_{e} \\: . \\: {f3}({f3}({f3}({f3}({x}))))]}({[\\lambda{} f3_{\\left\\langle{}e,e\\right\\rangle{}} \\: . \\: \\lambda{} x_{e} \\: . \\: {f3}({f3}({f3}({f3}({x}))))]}(\\lambda{} x_{e} \\: . \\: {x})))({[\\lambda{} f3_{\\left\\langle{}e,e\\right\\rangle{}} \\: . \\: \\lambda{} x_{e} \\: . \\: {f3}({f3}({f3}({f3}({x}))))]}({[\\lambda{} f3_{\\left\\langle{}e,e\\right\\rangle{}} \\: . \\: \\lambda{} x_{e} \\: . \\: {f3}({f3}({f3}({f3}({x}))))]}(\\lambda{} x_{e} \\: . \\: {x}))({[\\lambda{} f3_{\\left\\langle{}e,e\\right\\rangle{}} \\: . \\: \\lambda{} x_{e} \\: . \\: {f3}({f3}({f3}({f3}({x}))))]}({[\\lambda{} f3_{\\left\\langle{}e,e\\right\\rangle{}} \\: . \\: \\lambda{} x_{e} \\: . \\: {f3}({f3}({f3}({f3}({x}))))]}(\\lambda{} x_{e} \\: . \\: {x}))({[\\lambda{} f3_{\\left\\langle{}e,e\\right\\rangle{}} \\: . \\: \\lambda{} x_{e} \\: . \\: {f3}({f3}({f3}({f3}({x}))))]}(\\lambda{} x_{e} \\: . \\: {x})({[\\lambda{} f3_{\\left\\langle{}e,e\\right\\rangle{}} \\: . \\: \\lambda{} x_{e} \\: . \\: {f3}({f3}({f3}({f3}({x}))))]}(\\lambda{} x_{e} \\: . \\: {x})({[\\lambda{} f3_{\\left\\langle{}e,e\\right\\rangle{}} \\: . \\: \\lambda{} x_{e} \\: . \\: {f3}({f3}({f3}({f3}({x}))))]}(\\lambda{} x_{e} \\: . \\: {x})({[\\lambda{} x_{e} \\: . \\: {x}]}({[\\lambda{} x_{e} \\: . \\: {x}]}({[\\lambda{} x_{e} \\: . \\: {x}]}({[\\lambda{} x_{e} \\: . \\: {x}]}({x}))))))))))))$</span></div></div><div style=\"display:table-cell;vertical-align:top;padding-left:5px;padding-right:5px;padding-top:0.2em\"><div style=\"display:table;\"><div style=\"display:table-row;\"><div style=\"white-space:nowrap; color:blue;\"><span>reduction of path (1, 1, 1, 1, 1, 1, 1, 1, 1)</span></div></div></div></div></div><div style=\"display:table-row;border-bottom:1px solid #848482;\"><div style=\"display:table-cell;padding:0.2em 5px 0.2em 0px;vertical-align:top;\">37. </div><div style=\"display:table-cell;vertical-align:top;border-right:1px solid #848482;padding-right:5px;;padding-top:0.2em\"><div style=\"display:inline-block;\"><span>$\\lambda{} x_{e} \\: . \\: {[\\lambda{} f3_{\\left\\langle{}e,e\\right\\rangle{}} \\: . \\: \\lambda{} x_{e} \\: . \\: {f3}({f3}({f3}({f3}({x}))))]}({[\\lambda{} f3_{\\left\\langle{}e,e\\right\\rangle{}} \\: . \\: \\lambda{} x_{e} \\: . \\: {f3}({f3}({f3}({f3}({x}))))]}({[\\lambda{} f3_{\\left\\langle{}e,e\\right\\rangle{}} \\: . \\: \\lambda{} x_{e} \\: . \\: {f3}({f3}({f3}({f3}({x}))))]}(\\lambda{} x_{e} \\: . \\: {x})))({[\\lambda{} f3_{\\left\\langle{}e,e\\right\\rangle{}} \\: . \\: \\lambda{} x_{e} \\: . \\: {f3}({f3}({f3}({f3}({x}))))]}({[\\lambda{} f3_{\\left\\langle{}e,e\\right\\rangle{}} \\: . \\: \\lambda{} x_{e} \\: . \\: {f3}({f3}({f3}({f3}({x}))))]}({[\\lambda{} f3_{\\left\\langle{}e,e\\right\\rangle{}} \\: . \\: \\lambda{} x_{e} \\: . \\: {f3}({f3}({f3}({f3}({x}))))]}(\\lambda{} x_{e} \\: . \\: {x})))({[\\lambda{} f3_{\\left\\langle{}e,e\\right\\rangle{}} \\: . \\: \\lambda{} x_{e} \\: . \\: {f3}({f3}({f3}({f3}({x}))))]}({[\\lambda{} f3_{\\left\\langle{}e,e\\right\\rangle{}} \\: . \\: \\lambda{} x_{e} \\: . \\: {f3}({f3}({f3}({f3}({x}))))]}({[\\lambda{} f3_{\\left\\langle{}e,e\\right\\rangle{}} \\: . \\: \\lambda{} x_{e} \\: . \\: {f3}({f3}({f3}({f3}({x}))))]}(\\lambda{} x_{e} \\: . \\: {x})))({[\\lambda{} f3_{\\left\\langle{}e,e\\right\\rangle{}} \\: . \\: \\lambda{} x_{e} \\: . \\: {f3}({f3}({f3}({f3}({x}))))]}({[\\lambda{} f3_{\\left\\langle{}e,e\\right\\rangle{}} \\: . \\: \\lambda{} x_{e} \\: . \\: {f3}({f3}({f3}({f3}({x}))))]}(\\lambda{} x_{e} \\: . \\: {x}))({[\\lambda{} f3_{\\left\\langle{}e,e\\right\\rangle{}} \\: . \\: \\lambda{} x_{e} \\: . \\: {f3}({f3}({f3}({f3}({x}))))]}({[\\lambda{} f3_{\\left\\langle{}e,e\\right\\rangle{}} \\: . \\: \\lambda{} x_{e} \\: . \\: {f3}({f3}({f3}({f3}({x}))))]}(\\lambda{} x_{e} \\: . \\: {x}))({[\\lambda{} f3_{\\left\\langle{}e,e\\right\\rangle{}} \\: . \\: \\lambda{} x_{e} \\: . \\: {f3}({f3}({f3}({f3}({x}))))]}(\\lambda{} x_{e} \\: . \\: {x})({[\\lambda{} f3_{\\left\\langle{}e,e\\right\\rangle{}} \\: . \\: \\lambda{} x_{e} \\: . \\: {f3}({f3}({f3}({f3}({x}))))]}(\\lambda{} x_{e} \\: . \\: {x})({[\\lambda{} f3_{\\left\\langle{}e,e\\right\\rangle{}} \\: . \\: \\lambda{} x_{e} \\: . \\: {f3}({f3}({f3}({f3}({x}))))]}(\\lambda{} x_{e} \\: . \\: {x})({[\\lambda{} x_{e} \\: . \\: {x}]}({[\\lambda{} x_{e} \\: . \\: {x}]}({[\\lambda{} x_{e} \\: . \\: {x}]}({x})))))))))))$</span></div></div><div style=\"display:table-cell;vertical-align:top;padding-left:5px;padding-right:5px;padding-top:0.2em\"><div style=\"display:table;\"><div style=\"display:table-row;\"><div style=\"white-space:nowrap; color:blue;\"><span>reduction of path (1, 1, 1, 1, 1, 1, 1, 1, 1)</span></div></div></div></div></div><div style=\"display:table-row;border-bottom:1px solid #848482;\"><div style=\"display:table-cell;padding:0.2em 5px 0.2em 0px;vertical-align:top;\">38. </div><div style=\"display:table-cell;vertical-align:top;border-right:1px solid #848482;padding-right:5px;;padding-top:0.2em\"><div style=\"display:inline-block;\"><span>$\\lambda{} x_{e} \\: . \\: {[\\lambda{} f3_{\\left\\langle{}e,e\\right\\rangle{}} \\: . \\: \\lambda{} x_{e} \\: . \\: {f3}({f3}({f3}({f3}({x}))))]}({[\\lambda{} f3_{\\left\\langle{}e,e\\right\\rangle{}} \\: . \\: \\lambda{} x_{e} \\: . \\: {f3}({f3}({f3}({f3}({x}))))]}({[\\lambda{} f3_{\\left\\langle{}e,e\\right\\rangle{}} \\: . \\: \\lambda{} x_{e} \\: . \\: {f3}({f3}({f3}({f3}({x}))))]}(\\lambda{} x_{e} \\: . \\: {x})))({[\\lambda{} f3_{\\left\\langle{}e,e\\right\\rangle{}} \\: . \\: \\lambda{} x_{e} \\: . \\: {f3}({f3}({f3}({f3}({x}))))]}({[\\lambda{} f3_{\\left\\langle{}e,e\\right\\rangle{}} \\: . \\: \\lambda{} x_{e} \\: . \\: {f3}({f3}({f3}({f3}({x}))))]}({[\\lambda{} f3_{\\left\\langle{}e,e\\right\\rangle{}} \\: . \\: \\lambda{} x_{e} \\: . \\: {f3}({f3}({f3}({f3}({x}))))]}(\\lambda{} x_{e} \\: . \\: {x})))({[\\lambda{} f3_{\\left\\langle{}e,e\\right\\rangle{}} \\: . \\: \\lambda{} x_{e} \\: . \\: {f3}({f3}({f3}({f3}({x}))))]}({[\\lambda{} f3_{\\left\\langle{}e,e\\right\\rangle{}} \\: . \\: \\lambda{} x_{e} \\: . \\: {f3}({f3}({f3}({f3}({x}))))]}({[\\lambda{} f3_{\\left\\langle{}e,e\\right\\rangle{}} \\: . \\: \\lambda{} x_{e} \\: . \\: {f3}({f3}({f3}({f3}({x}))))]}(\\lambda{} x_{e} \\: . \\: {x})))({[\\lambda{} f3_{\\left\\langle{}e,e\\right\\rangle{}} \\: . \\: \\lambda{} x_{e} \\: . \\: {f3}({f3}({f3}({f3}({x}))))]}({[\\lambda{} f3_{\\left\\langle{}e,e\\right\\rangle{}} \\: . \\: \\lambda{} x_{e} \\: . \\: {f3}({f3}({f3}({f3}({x}))))]}(\\lambda{} x_{e} \\: . \\: {x}))({[\\lambda{} f3_{\\left\\langle{}e,e\\right\\rangle{}} \\: . \\: \\lambda{} x_{e} \\: . \\: {f3}({f3}({f3}({f3}({x}))))]}({[\\lambda{} f3_{\\left\\langle{}e,e\\right\\rangle{}} \\: . \\: \\lambda{} x_{e} \\: . \\: {f3}({f3}({f3}({f3}({x}))))]}(\\lambda{} x_{e} \\: . \\: {x}))({[\\lambda{} f3_{\\left\\langle{}e,e\\right\\rangle{}} \\: . \\: \\lambda{} x_{e} \\: . \\: {f3}({f3}({f3}({f3}({x}))))]}(\\lambda{} x_{e} \\: . \\: {x})({[\\lambda{} f3_{\\left\\langle{}e,e\\right\\rangle{}} \\: . \\: \\lambda{} x_{e} \\: . \\: {f3}({f3}({f3}({f3}({x}))))]}(\\lambda{} x_{e} \\: . \\: {x})({[\\lambda{} f3_{\\left\\langle{}e,e\\right\\rangle{}} \\: . \\: \\lambda{} x_{e} \\: . \\: {f3}({f3}({f3}({f3}({x}))))]}(\\lambda{} x_{e} \\: . \\: {x})({[\\lambda{} x_{e} \\: . \\: {x}]}({[\\lambda{} x_{e} \\: . \\: {x}]}({x}))))))))))$</span></div></div><div style=\"display:table-cell;vertical-align:top;padding-left:5px;padding-right:5px;padding-top:0.2em\"><div style=\"display:table;\"><div style=\"display:table-row;\"><div style=\"white-space:nowrap; color:blue;\"><span>reduction of path (1, 1, 1, 1, 1, 1, 1, 1, 1)</span></div></div></div></div></div><div style=\"display:table-row;border-bottom:1px solid #848482;\"><div style=\"display:table-cell;padding:0.2em 5px 0.2em 0px;vertical-align:top;\">39. </div><div style=\"display:table-cell;vertical-align:top;border-right:1px solid #848482;padding-right:5px;;padding-top:0.2em\"><div style=\"display:inline-block;\"><span>$\\lambda{} x_{e} \\: . \\: {[\\lambda{} f3_{\\left\\langle{}e,e\\right\\rangle{}} \\: . \\: \\lambda{} x_{e} \\: . \\: {f3}({f3}({f3}({f3}({x}))))]}({[\\lambda{} f3_{\\left\\langle{}e,e\\right\\rangle{}} \\: . \\: \\lambda{} x_{e} \\: . \\: {f3}({f3}({f3}({f3}({x}))))]}({[\\lambda{} f3_{\\left\\langle{}e,e\\right\\rangle{}} \\: . \\: \\lambda{} x_{e} \\: . \\: {f3}({f3}({f3}({f3}({x}))))]}(\\lambda{} x_{e} \\: . \\: {x})))({[\\lambda{} f3_{\\left\\langle{}e,e\\right\\rangle{}} \\: . \\: \\lambda{} x_{e} \\: . \\: {f3}({f3}({f3}({f3}({x}))))]}({[\\lambda{} f3_{\\left\\langle{}e,e\\right\\rangle{}} \\: . \\: \\lambda{} x_{e} \\: . \\: {f3}({f3}({f3}({f3}({x}))))]}({[\\lambda{} f3_{\\left\\langle{}e,e\\right\\rangle{}} \\: . \\: \\lambda{} x_{e} \\: . \\: {f3}({f3}({f3}({f3}({x}))))]}(\\lambda{} x_{e} \\: . \\: {x})))({[\\lambda{} f3_{\\left\\langle{}e,e\\right\\rangle{}} \\: . \\: \\lambda{} x_{e} \\: . \\: {f3}({f3}({f3}({f3}({x}))))]}({[\\lambda{} f3_{\\left\\langle{}e,e\\right\\rangle{}} \\: . \\: \\lambda{} x_{e} \\: . \\: {f3}({f3}({f3}({f3}({x}))))]}({[\\lambda{} f3_{\\left\\langle{}e,e\\right\\rangle{}} \\: . \\: \\lambda{} x_{e} \\: . \\: {f3}({f3}({f3}({f3}({x}))))]}(\\lambda{} x_{e} \\: . \\: {x})))({[\\lambda{} f3_{\\left\\langle{}e,e\\right\\rangle{}} \\: . \\: \\lambda{} x_{e} \\: . \\: {f3}({f3}({f3}({f3}({x}))))]}({[\\lambda{} f3_{\\left\\langle{}e,e\\right\\rangle{}} \\: . \\: \\lambda{} x_{e} \\: . \\: {f3}({f3}({f3}({f3}({x}))))]}(\\lambda{} x_{e} \\: . \\: {x}))({[\\lambda{} f3_{\\left\\langle{}e,e\\right\\rangle{}} \\: . \\: \\lambda{} x_{e} \\: . \\: {f3}({f3}({f3}({f3}({x}))))]}({[\\lambda{} f3_{\\left\\langle{}e,e\\right\\rangle{}} \\: . \\: \\lambda{} x_{e} \\: . \\: {f3}({f3}({f3}({f3}({x}))))]}(\\lambda{} x_{e} \\: . \\: {x}))({[\\lambda{} f3_{\\left\\langle{}e,e\\right\\rangle{}} \\: . \\: \\lambda{} x_{e} \\: . \\: {f3}({f3}({f3}({f3}({x}))))]}(\\lambda{} x_{e} \\: . \\: {x})({[\\lambda{} f3_{\\left\\langle{}e,e\\right\\rangle{}} \\: . \\: \\lambda{} x_{e} \\: . \\: {f3}({f3}({f3}({f3}({x}))))]}(\\lambda{} x_{e} \\: . \\: {x})({[\\lambda{} f3_{\\left\\langle{}e,e\\right\\rangle{}} \\: . \\: \\lambda{} x_{e} \\: . \\: {f3}({f3}({f3}({f3}({x}))))]}(\\lambda{} x_{e} \\: . \\: {x})({[\\lambda{} x_{e} \\: . \\: {x}]}({x})))))))))$</span></div></div><div style=\"display:table-cell;vertical-align:top;padding-left:5px;padding-right:5px;padding-top:0.2em\"><div style=\"display:table;\"><div style=\"display:table-row;\"><div style=\"white-space:nowrap; color:blue;\"><span>reduction of path (1, 1, 1, 1, 1, 1, 1, 1, 1)</span></div></div></div></div></div><div style=\"display:table-row;border-bottom:1px solid #848482;\"><div style=\"display:table-cell;padding:0.2em 5px 0.2em 0px;vertical-align:top;\">40. </div><div style=\"display:table-cell;vertical-align:top;border-right:1px solid #848482;padding-right:5px;;padding-top:0.2em\"><div style=\"display:inline-block;\"><span>$\\lambda{} x_{e} \\: . \\: {[\\lambda{} f3_{\\left\\langle{}e,e\\right\\rangle{}} \\: . \\: \\lambda{} x_{e} \\: . \\: {f3}({f3}({f3}({f3}({x}))))]}({[\\lambda{} f3_{\\left\\langle{}e,e\\right\\rangle{}} \\: . \\: \\lambda{} x_{e} \\: . \\: {f3}({f3}({f3}({f3}({x}))))]}({[\\lambda{} f3_{\\left\\langle{}e,e\\right\\rangle{}} \\: . \\: \\lambda{} x_{e} \\: . \\: {f3}({f3}({f3}({f3}({x}))))]}(\\lambda{} x_{e} \\: . \\: {x})))({[\\lambda{} f3_{\\left\\langle{}e,e\\right\\rangle{}} \\: . \\: \\lambda{} x_{e} \\: . \\: {f3}({f3}({f3}({f3}({x}))))]}({[\\lambda{} f3_{\\left\\langle{}e,e\\right\\rangle{}} \\: . \\: \\lambda{} x_{e} \\: . \\: {f3}({f3}({f3}({f3}({x}))))]}({[\\lambda{} f3_{\\left\\langle{}e,e\\right\\rangle{}} \\: . \\: \\lambda{} x_{e} \\: . \\: {f3}({f3}({f3}({f3}({x}))))]}(\\lambda{} x_{e} \\: . \\: {x})))({[\\lambda{} f3_{\\left\\langle{}e,e\\right\\rangle{}} \\: . \\: \\lambda{} x_{e} \\: . \\: {f3}({f3}({f3}({f3}({x}))))]}({[\\lambda{} f3_{\\left\\langle{}e,e\\right\\rangle{}} \\: . \\: \\lambda{} x_{e} \\: . \\: {f3}({f3}({f3}({f3}({x}))))]}({[\\lambda{} f3_{\\left\\langle{}e,e\\right\\rangle{}} \\: . \\: \\lambda{} x_{e} \\: . \\: {f3}({f3}({f3}({f3}({x}))))]}(\\lambda{} x_{e} \\: . \\: {x})))({[\\lambda{} f3_{\\left\\langle{}e,e\\right\\rangle{}} \\: . \\: \\lambda{} x_{e} \\: . \\: {f3}({f3}({f3}({f3}({x}))))]}({[\\lambda{} f3_{\\left\\langle{}e,e\\right\\rangle{}} \\: . \\: \\lambda{} x_{e} \\: . \\: {f3}({f3}({f3}({f3}({x}))))]}(\\lambda{} x_{e} \\: . \\: {x}))({[\\lambda{} f3_{\\left\\langle{}e,e\\right\\rangle{}} \\: . \\: \\lambda{} x_{e} \\: . \\: {f3}({f3}({f3}({f3}({x}))))]}({[\\lambda{} f3_{\\left\\langle{}e,e\\right\\rangle{}} \\: . \\: \\lambda{} x_{e} \\: . \\: {f3}({f3}({f3}({f3}({x}))))]}(\\lambda{} x_{e} \\: . \\: {x}))({[\\lambda{} f3_{\\left\\langle{}e,e\\right\\rangle{}} \\: . \\: \\lambda{} x_{e} \\: . \\: {f3}({f3}({f3}({f3}({x}))))]}(\\lambda{} x_{e} \\: . \\: {x})({[\\lambda{} f3_{\\left\\langle{}e,e\\right\\rangle{}} \\: . \\: \\lambda{} x_{e} \\: . \\: {f3}({f3}({f3}({f3}({x}))))]}(\\lambda{} x_{e} \\: . \\: {x})({[\\lambda{} f3_{\\left\\langle{}e,e\\right\\rangle{}} \\: . \\: \\lambda{} x_{e} \\: . \\: {f3}({f3}({f3}({f3}({x}))))]}(\\lambda{} x_{e} \\: . \\: {x})({x}))))))))$</span></div></div><div style=\"display:table-cell;vertical-align:top;padding-left:5px;padding-right:5px;padding-top:0.2em\"><div style=\"display:table;\"><div style=\"display:table-row;\"><div style=\"white-space:nowrap; color:blue;\"><span>reduction of path (1, 1, 1, 1, 1, 1, 1, 1, 0)</span></div></div></div></div></div><div style=\"display:table-row;border-bottom:1px solid #848482;\"><div style=\"display:table-cell;padding:0.2em 5px 0.2em 0px;vertical-align:top;\">41. </div><div style=\"display:table-cell;vertical-align:top;border-right:1px solid #848482;padding-right:5px;;padding-top:0.2em\"><div style=\"display:inline-block;\"><span>$\\lambda{} x_{e} \\: . \\: {[\\lambda{} f3_{\\left\\langle{}e,e\\right\\rangle{}} \\: . \\: \\lambda{} x_{e} \\: . \\: {f3}({f3}({f3}({f3}({x}))))]}({[\\lambda{} f3_{\\left\\langle{}e,e\\right\\rangle{}} \\: . \\: \\lambda{} x_{e} \\: . \\: {f3}({f3}({f3}({f3}({x}))))]}({[\\lambda{} f3_{\\left\\langle{}e,e\\right\\rangle{}} \\: . \\: \\lambda{} x_{e} \\: . \\: {f3}({f3}({f3}({f3}({x}))))]}(\\lambda{} x_{e} \\: . \\: {x})))({[\\lambda{} f3_{\\left\\langle{}e,e\\right\\rangle{}} \\: . \\: \\lambda{} x_{e} \\: . \\: {f3}({f3}({f3}({f3}({x}))))]}({[\\lambda{} f3_{\\left\\langle{}e,e\\right\\rangle{}} \\: . \\: \\lambda{} x_{e} \\: . \\: {f3}({f3}({f3}({f3}({x}))))]}({[\\lambda{} f3_{\\left\\langle{}e,e\\right\\rangle{}} \\: . \\: \\lambda{} x_{e} \\: . \\: {f3}({f3}({f3}({f3}({x}))))]}(\\lambda{} x_{e} \\: . \\: {x})))({[\\lambda{} f3_{\\left\\langle{}e,e\\right\\rangle{}} \\: . \\: \\lambda{} x_{e} \\: . \\: {f3}({f3}({f3}({f3}({x}))))]}({[\\lambda{} f3_{\\left\\langle{}e,e\\right\\rangle{}} \\: . \\: \\lambda{} x_{e} \\: . \\: {f3}({f3}({f3}({f3}({x}))))]}({[\\lambda{} f3_{\\left\\langle{}e,e\\right\\rangle{}} \\: . \\: \\lambda{} x_{e} \\: . \\: {f3}({f3}({f3}({f3}({x}))))]}(\\lambda{} x_{e} \\: . \\: {x})))({[\\lambda{} f3_{\\left\\langle{}e,e\\right\\rangle{}} \\: . \\: \\lambda{} x_{e} \\: . \\: {f3}({f3}({f3}({f3}({x}))))]}({[\\lambda{} f3_{\\left\\langle{}e,e\\right\\rangle{}} \\: . \\: \\lambda{} x_{e} \\: . \\: {f3}({f3}({f3}({f3}({x}))))]}(\\lambda{} x_{e} \\: . \\: {x}))({[\\lambda{} f3_{\\left\\langle{}e,e\\right\\rangle{}} \\: . \\: \\lambda{} x_{e} \\: . \\: {f3}({f3}({f3}({f3}({x}))))]}({[\\lambda{} f3_{\\left\\langle{}e,e\\right\\rangle{}} \\: . \\: \\lambda{} x_{e} \\: . \\: {f3}({f3}({f3}({f3}({x}))))]}(\\lambda{} x_{e} \\: . \\: {x}))({[\\lambda{} f3_{\\left\\langle{}e,e\\right\\rangle{}} \\: . \\: \\lambda{} x_{e} \\: . \\: {f3}({f3}({f3}({f3}({x}))))]}(\\lambda{} x_{e} \\: . \\: {x})({[\\lambda{} f3_{\\left\\langle{}e,e\\right\\rangle{}} \\: . \\: \\lambda{} x_{e} \\: . \\: {f3}({f3}({f3}({f3}({x}))))]}(\\lambda{} x_{e} \\: . \\: {x})({[\\lambda{} x_{e} \\: . \\: {[\\lambda{} x_{e} \\: . \\: {x}]}({[\\lambda{} x_{e} \\: . \\: {x}]}({[\\lambda{} x_{e} \\: . \\: {x}]}({[\\lambda{} x_{e} \\: . \\: {x}]}({x}))))]}({x}))))))))$</span></div></div><div style=\"display:table-cell;vertical-align:top;padding-left:5px;padding-right:5px;padding-top:0.2em\"><div style=\"display:table;\"><div style=\"display:table-row;\"><div style=\"white-space:nowrap; color:blue;\"><span>reduction of path (1, 1, 1, 1, 1, 1, 1, 1)</span></div></div></div></div></div><div style=\"display:table-row;border-bottom:1px solid #848482;\"><div style=\"display:table-cell;padding:0.2em 5px 0.2em 0px;vertical-align:top;\">42. </div><div style=\"display:table-cell;vertical-align:top;border-right:1px solid #848482;padding-right:5px;;padding-top:0.2em\"><div style=\"display:inline-block;\"><span>$\\lambda{} x_{e} \\: . \\: {[\\lambda{} f3_{\\left\\langle{}e,e\\right\\rangle{}} \\: . \\: \\lambda{} x_{e} \\: . \\: {f3}({f3}({f3}({f3}({x}))))]}({[\\lambda{} f3_{\\left\\langle{}e,e\\right\\rangle{}} \\: . \\: \\lambda{} x_{e} \\: . \\: {f3}({f3}({f3}({f3}({x}))))]}({[\\lambda{} f3_{\\left\\langle{}e,e\\right\\rangle{}} \\: . \\: \\lambda{} x_{e} \\: . \\: {f3}({f3}({f3}({f3}({x}))))]}(\\lambda{} x_{e} \\: . \\: {x})))({[\\lambda{} f3_{\\left\\langle{}e,e\\right\\rangle{}} \\: . \\: \\lambda{} x_{e} \\: . \\: {f3}({f3}({f3}({f3}({x}))))]}({[\\lambda{} f3_{\\left\\langle{}e,e\\right\\rangle{}} \\: . \\: \\lambda{} x_{e} \\: . \\: {f3}({f3}({f3}({f3}({x}))))]}({[\\lambda{} f3_{\\left\\langle{}e,e\\right\\rangle{}} \\: . \\: \\lambda{} x_{e} \\: . \\: {f3}({f3}({f3}({f3}({x}))))]}(\\lambda{} x_{e} \\: . \\: {x})))({[\\lambda{} f3_{\\left\\langle{}e,e\\right\\rangle{}} \\: . \\: \\lambda{} x_{e} \\: . \\: {f3}({f3}({f3}({f3}({x}))))]}({[\\lambda{} f3_{\\left\\langle{}e,e\\right\\rangle{}} \\: . \\: \\lambda{} x_{e} \\: . \\: {f3}({f3}({f3}({f3}({x}))))]}({[\\lambda{} f3_{\\left\\langle{}e,e\\right\\rangle{}} \\: . \\: \\lambda{} x_{e} \\: . \\: {f3}({f3}({f3}({f3}({x}))))]}(\\lambda{} x_{e} \\: . \\: {x})))({[\\lambda{} f3_{\\left\\langle{}e,e\\right\\rangle{}} \\: . \\: \\lambda{} x_{e} \\: . \\: {f3}({f3}({f3}({f3}({x}))))]}({[\\lambda{} f3_{\\left\\langle{}e,e\\right\\rangle{}} \\: . \\: \\lambda{} x_{e} \\: . \\: {f3}({f3}({f3}({f3}({x}))))]}(\\lambda{} x_{e} \\: . \\: {x}))({[\\lambda{} f3_{\\left\\langle{}e,e\\right\\rangle{}} \\: . \\: \\lambda{} x_{e} \\: . \\: {f3}({f3}({f3}({f3}({x}))))]}({[\\lambda{} f3_{\\left\\langle{}e,e\\right\\rangle{}} \\: . \\: \\lambda{} x_{e} \\: . \\: {f3}({f3}({f3}({f3}({x}))))]}(\\lambda{} x_{e} \\: . \\: {x}))({[\\lambda{} f3_{\\left\\langle{}e,e\\right\\rangle{}} \\: . \\: \\lambda{} x_{e} \\: . \\: {f3}({f3}({f3}({f3}({x}))))]}(\\lambda{} x_{e} \\: . \\: {x})({[\\lambda{} f3_{\\left\\langle{}e,e\\right\\rangle{}} \\: . \\: \\lambda{} x_{e} \\: . \\: {f3}({f3}({f3}({f3}({x}))))]}(\\lambda{} x_{e} \\: . \\: {x})({[\\lambda{} x_{e} \\: . \\: {x}]}({[\\lambda{} x_{e} \\: . \\: {x}]}({[\\lambda{} x_{e} \\: . \\: {x}]}({[\\lambda{} x_{e} \\: . \\: {x}]}({x})))))))))))$</span></div></div><div style=\"display:table-cell;vertical-align:top;padding-left:5px;padding-right:5px;padding-top:0.2em\"><div style=\"display:table;\"><div style=\"display:table-row;\"><div style=\"white-space:nowrap; color:blue;\"><span>reduction of path (1, 1, 1, 1, 1, 1, 1, 1)</span></div></div></div></div></div><div style=\"display:table-row;border-bottom:1px solid #848482;\"><div style=\"display:table-cell;padding:0.2em 5px 0.2em 0px;vertical-align:top;\">43. </div><div style=\"display:table-cell;vertical-align:top;border-right:1px solid #848482;padding-right:5px;;padding-top:0.2em\"><div style=\"display:inline-block;\"><span>$\\lambda{} x_{e} \\: . \\: {[\\lambda{} f3_{\\left\\langle{}e,e\\right\\rangle{}} \\: . \\: \\lambda{} x_{e} \\: . \\: {f3}({f3}({f3}({f3}({x}))))]}({[\\lambda{} f3_{\\left\\langle{}e,e\\right\\rangle{}} \\: . \\: \\lambda{} x_{e} \\: . \\: {f3}({f3}({f3}({f3}({x}))))]}({[\\lambda{} f3_{\\left\\langle{}e,e\\right\\rangle{}} \\: . \\: \\lambda{} x_{e} \\: . \\: {f3}({f3}({f3}({f3}({x}))))]}(\\lambda{} x_{e} \\: . \\: {x})))({[\\lambda{} f3_{\\left\\langle{}e,e\\right\\rangle{}} \\: . \\: \\lambda{} x_{e} \\: . \\: {f3}({f3}({f3}({f3}({x}))))]}({[\\lambda{} f3_{\\left\\langle{}e,e\\right\\rangle{}} \\: . \\: \\lambda{} x_{e} \\: . \\: {f3}({f3}({f3}({f3}({x}))))]}({[\\lambda{} f3_{\\left\\langle{}e,e\\right\\rangle{}} \\: . \\: \\lambda{} x_{e} \\: . \\: {f3}({f3}({f3}({f3}({x}))))]}(\\lambda{} x_{e} \\: . \\: {x})))({[\\lambda{} f3_{\\left\\langle{}e,e\\right\\rangle{}} \\: . \\: \\lambda{} x_{e} \\: . \\: {f3}({f3}({f3}({f3}({x}))))]}({[\\lambda{} f3_{\\left\\langle{}e,e\\right\\rangle{}} \\: . \\: \\lambda{} x_{e} \\: . \\: {f3}({f3}({f3}({f3}({x}))))]}({[\\lambda{} f3_{\\left\\langle{}e,e\\right\\rangle{}} \\: . \\: \\lambda{} x_{e} \\: . \\: {f3}({f3}({f3}({f3}({x}))))]}(\\lambda{} x_{e} \\: . \\: {x})))({[\\lambda{} f3_{\\left\\langle{}e,e\\right\\rangle{}} \\: . \\: \\lambda{} x_{e} \\: . \\: {f3}({f3}({f3}({f3}({x}))))]}({[\\lambda{} f3_{\\left\\langle{}e,e\\right\\rangle{}} \\: . \\: \\lambda{} x_{e} \\: . \\: {f3}({f3}({f3}({f3}({x}))))]}(\\lambda{} x_{e} \\: . \\: {x}))({[\\lambda{} f3_{\\left\\langle{}e,e\\right\\rangle{}} \\: . \\: \\lambda{} x_{e} \\: . \\: {f3}({f3}({f3}({f3}({x}))))]}({[\\lambda{} f3_{\\left\\langle{}e,e\\right\\rangle{}} \\: . \\: \\lambda{} x_{e} \\: . \\: {f3}({f3}({f3}({f3}({x}))))]}(\\lambda{} x_{e} \\: . \\: {x}))({[\\lambda{} f3_{\\left\\langle{}e,e\\right\\rangle{}} \\: . \\: \\lambda{} x_{e} \\: . \\: {f3}({f3}({f3}({f3}({x}))))]}(\\lambda{} x_{e} \\: . \\: {x})({[\\lambda{} f3_{\\left\\langle{}e,e\\right\\rangle{}} \\: . \\: \\lambda{} x_{e} \\: . \\: {f3}({f3}({f3}({f3}({x}))))]}(\\lambda{} x_{e} \\: . \\: {x})({[\\lambda{} x_{e} \\: . \\: {x}]}({[\\lambda{} x_{e} \\: . \\: {x}]}({[\\lambda{} x_{e} \\: . \\: {x}]}({x}))))))))))$</span></div></div><div style=\"display:table-cell;vertical-align:top;padding-left:5px;padding-right:5px;padding-top:0.2em\"><div style=\"display:table;\"><div style=\"display:table-row;\"><div style=\"white-space:nowrap; color:blue;\"><span>reduction of path (1, 1, 1, 1, 1, 1, 1, 1)</span></div></div></div></div></div><div style=\"display:table-row;border-bottom:1px solid #848482;\"><div style=\"display:table-cell;padding:0.2em 5px 0.2em 0px;vertical-align:top;\">44. </div><div style=\"display:table-cell;vertical-align:top;border-right:1px solid #848482;padding-right:5px;;padding-top:0.2em\"><div style=\"display:inline-block;\"><span>$\\lambda{} x_{e} \\: . \\: {[\\lambda{} f3_{\\left\\langle{}e,e\\right\\rangle{}} \\: . \\: \\lambda{} x_{e} \\: . \\: {f3}({f3}({f3}({f3}({x}))))]}({[\\lambda{} f3_{\\left\\langle{}e,e\\right\\rangle{}} \\: . \\: \\lambda{} x_{e} \\: . \\: {f3}({f3}({f3}({f3}({x}))))]}({[\\lambda{} f3_{\\left\\langle{}e,e\\right\\rangle{}} \\: . \\: \\lambda{} x_{e} \\: . \\: {f3}({f3}({f3}({f3}({x}))))]}(\\lambda{} x_{e} \\: . \\: {x})))({[\\lambda{} f3_{\\left\\langle{}e,e\\right\\rangle{}} \\: . \\: \\lambda{} x_{e} \\: . \\: {f3}({f3}({f3}({f3}({x}))))]}({[\\lambda{} f3_{\\left\\langle{}e,e\\right\\rangle{}} \\: . \\: \\lambda{} x_{e} \\: . \\: {f3}({f3}({f3}({f3}({x}))))]}({[\\lambda{} f3_{\\left\\langle{}e,e\\right\\rangle{}} \\: . \\: \\lambda{} x_{e} \\: . \\: {f3}({f3}({f3}({f3}({x}))))]}(\\lambda{} x_{e} \\: . \\: {x})))({[\\lambda{} f3_{\\left\\langle{}e,e\\right\\rangle{}} \\: . \\: \\lambda{} x_{e} \\: . \\: {f3}({f3}({f3}({f3}({x}))))]}({[\\lambda{} f3_{\\left\\langle{}e,e\\right\\rangle{}} \\: . \\: \\lambda{} x_{e} \\: . \\: {f3}({f3}({f3}({f3}({x}))))]}({[\\lambda{} f3_{\\left\\langle{}e,e\\right\\rangle{}} \\: . \\: \\lambda{} x_{e} \\: . \\: {f3}({f3}({f3}({f3}({x}))))]}(\\lambda{} x_{e} \\: . \\: {x})))({[\\lambda{} f3_{\\left\\langle{}e,e\\right\\rangle{}} \\: . \\: \\lambda{} x_{e} \\: . \\: {f3}({f3}({f3}({f3}({x}))))]}({[\\lambda{} f3_{\\left\\langle{}e,e\\right\\rangle{}} \\: . \\: \\lambda{} x_{e} \\: . \\: {f3}({f3}({f3}({f3}({x}))))]}(\\lambda{} x_{e} \\: . \\: {x}))({[\\lambda{} f3_{\\left\\langle{}e,e\\right\\rangle{}} \\: . \\: \\lambda{} x_{e} \\: . \\: {f3}({f3}({f3}({f3}({x}))))]}({[\\lambda{} f3_{\\left\\langle{}e,e\\right\\rangle{}} \\: . \\: \\lambda{} x_{e} \\: . \\: {f3}({f3}({f3}({f3}({x}))))]}(\\lambda{} x_{e} \\: . \\: {x}))({[\\lambda{} f3_{\\left\\langle{}e,e\\right\\rangle{}} \\: . \\: \\lambda{} x_{e} \\: . \\: {f3}({f3}({f3}({f3}({x}))))]}(\\lambda{} x_{e} \\: . \\: {x})({[\\lambda{} f3_{\\left\\langle{}e,e\\right\\rangle{}} \\: . \\: \\lambda{} x_{e} \\: . \\: {f3}({f3}({f3}({f3}({x}))))]}(\\lambda{} x_{e} \\: . \\: {x})({[\\lambda{} x_{e} \\: . \\: {x}]}({[\\lambda{} x_{e} \\: . \\: {x}]}({x})))))))))$</span></div></div><div style=\"display:table-cell;vertical-align:top;padding-left:5px;padding-right:5px;padding-top:0.2em\"><div style=\"display:table;\"><div style=\"display:table-row;\"><div style=\"white-space:nowrap; color:blue;\"><span>reduction of path (1, 1, 1, 1, 1, 1, 1, 1)</span></div></div></div></div></div><div style=\"display:table-row;border-bottom:1px solid #848482;\"><div style=\"display:table-cell;padding:0.2em 5px 0.2em 0px;vertical-align:top;\">45. </div><div style=\"display:table-cell;vertical-align:top;border-right:1px solid #848482;padding-right:5px;;padding-top:0.2em\"><div style=\"display:inline-block;\"><span>$\\lambda{} x_{e} \\: . \\: {[\\lambda{} f3_{\\left\\langle{}e,e\\right\\rangle{}} \\: . \\: \\lambda{} x_{e} \\: . \\: {f3}({f3}({f3}({f3}({x}))))]}({[\\lambda{} f3_{\\left\\langle{}e,e\\right\\rangle{}} \\: . \\: \\lambda{} x_{e} \\: . \\: {f3}({f3}({f3}({f3}({x}))))]}({[\\lambda{} f3_{\\left\\langle{}e,e\\right\\rangle{}} \\: . \\: \\lambda{} x_{e} \\: . \\: {f3}({f3}({f3}({f3}({x}))))]}(\\lambda{} x_{e} \\: . \\: {x})))({[\\lambda{} f3_{\\left\\langle{}e,e\\right\\rangle{}} \\: . \\: \\lambda{} x_{e} \\: . \\: {f3}({f3}({f3}({f3}({x}))))]}({[\\lambda{} f3_{\\left\\langle{}e,e\\right\\rangle{}} \\: . \\: \\lambda{} x_{e} \\: . \\: {f3}({f3}({f3}({f3}({x}))))]}({[\\lambda{} f3_{\\left\\langle{}e,e\\right\\rangle{}} \\: . \\: \\lambda{} x_{e} \\: . \\: {f3}({f3}({f3}({f3}({x}))))]}(\\lambda{} x_{e} \\: . \\: {x})))({[\\lambda{} f3_{\\left\\langle{}e,e\\right\\rangle{}} \\: . \\: \\lambda{} x_{e} \\: . \\: {f3}({f3}({f3}({f3}({x}))))]}({[\\lambda{} f3_{\\left\\langle{}e,e\\right\\rangle{}} \\: . \\: \\lambda{} x_{e} \\: . \\: {f3}({f3}({f3}({f3}({x}))))]}({[\\lambda{} f3_{\\left\\langle{}e,e\\right\\rangle{}} \\: . \\: \\lambda{} x_{e} \\: . \\: {f3}({f3}({f3}({f3}({x}))))]}(\\lambda{} x_{e} \\: . \\: {x})))({[\\lambda{} f3_{\\left\\langle{}e,e\\right\\rangle{}} \\: . \\: \\lambda{} x_{e} \\: . \\: {f3}({f3}({f3}({f3}({x}))))]}({[\\lambda{} f3_{\\left\\langle{}e,e\\right\\rangle{}} \\: . \\: \\lambda{} x_{e} \\: . \\: {f3}({f3}({f3}({f3}({x}))))]}(\\lambda{} x_{e} \\: . \\: {x}))({[\\lambda{} f3_{\\left\\langle{}e,e\\right\\rangle{}} \\: . \\: \\lambda{} x_{e} \\: . \\: {f3}({f3}({f3}({f3}({x}))))]}({[\\lambda{} f3_{\\left\\langle{}e,e\\right\\rangle{}} \\: . \\: \\lambda{} x_{e} \\: . \\: {f3}({f3}({f3}({f3}({x}))))]}(\\lambda{} x_{e} \\: . \\: {x}))({[\\lambda{} f3_{\\left\\langle{}e,e\\right\\rangle{}} \\: . \\: \\lambda{} x_{e} \\: . \\: {f3}({f3}({f3}({f3}({x}))))]}(\\lambda{} x_{e} \\: . \\: {x})({[\\lambda{} f3_{\\left\\langle{}e,e\\right\\rangle{}} \\: . \\: \\lambda{} x_{e} \\: . \\: {f3}({f3}({f3}({f3}({x}))))]}(\\lambda{} x_{e} \\: . \\: {x})({[\\lambda{} x_{e} \\: . \\: {x}]}({x}))))))))$</span></div></div><div style=\"display:table-cell;vertical-align:top;padding-left:5px;padding-right:5px;padding-top:0.2em\"><div style=\"display:table;\"><div style=\"display:table-row;\"><div style=\"white-space:nowrap; color:blue;\"><span>reduction of path (1, 1, 1, 1, 1, 1, 1, 1)</span></div></div></div></div></div><div style=\"display:table-row;border-bottom:1px solid #848482;\"><div style=\"display:table-cell;padding:0.2em 5px 0.2em 0px;vertical-align:top;\">46. </div><div style=\"display:table-cell;vertical-align:top;border-right:1px solid #848482;padding-right:5px;;padding-top:0.2em\"><div style=\"display:inline-block;\"><span>$\\lambda{} x_{e} \\: . \\: {[\\lambda{} f3_{\\left\\langle{}e,e\\right\\rangle{}} \\: . \\: \\lambda{} x_{e} \\: . \\: {f3}({f3}({f3}({f3}({x}))))]}({[\\lambda{} f3_{\\left\\langle{}e,e\\right\\rangle{}} \\: . \\: \\lambda{} x_{e} \\: . \\: {f3}({f3}({f3}({f3}({x}))))]}({[\\lambda{} f3_{\\left\\langle{}e,e\\right\\rangle{}} \\: . \\: \\lambda{} x_{e} \\: . \\: {f3}({f3}({f3}({f3}({x}))))]}(\\lambda{} x_{e} \\: . \\: {x})))({[\\lambda{} f3_{\\left\\langle{}e,e\\right\\rangle{}} \\: . \\: \\lambda{} x_{e} \\: . \\: {f3}({f3}({f3}({f3}({x}))))]}({[\\lambda{} f3_{\\left\\langle{}e,e\\right\\rangle{}} \\: . \\: \\lambda{} x_{e} \\: . \\: {f3}({f3}({f3}({f3}({x}))))]}({[\\lambda{} f3_{\\left\\langle{}e,e\\right\\rangle{}} \\: . \\: \\lambda{} x_{e} \\: . \\: {f3}({f3}({f3}({f3}({x}))))]}(\\lambda{} x_{e} \\: . \\: {x})))({[\\lambda{} f3_{\\left\\langle{}e,e\\right\\rangle{}} \\: . \\: \\lambda{} x_{e} \\: . \\: {f3}({f3}({f3}({f3}({x}))))]}({[\\lambda{} f3_{\\left\\langle{}e,e\\right\\rangle{}} \\: . \\: \\lambda{} x_{e} \\: . \\: {f3}({f3}({f3}({f3}({x}))))]}({[\\lambda{} f3_{\\left\\langle{}e,e\\right\\rangle{}} \\: . \\: \\lambda{} x_{e} \\: . \\: {f3}({f3}({f3}({f3}({x}))))]}(\\lambda{} x_{e} \\: . \\: {x})))({[\\lambda{} f3_{\\left\\langle{}e,e\\right\\rangle{}} \\: . \\: \\lambda{} x_{e} \\: . \\: {f3}({f3}({f3}({f3}({x}))))]}({[\\lambda{} f3_{\\left\\langle{}e,e\\right\\rangle{}} \\: . \\: \\lambda{} x_{e} \\: . \\: {f3}({f3}({f3}({f3}({x}))))]}(\\lambda{} x_{e} \\: . \\: {x}))({[\\lambda{} f3_{\\left\\langle{}e,e\\right\\rangle{}} \\: . \\: \\lambda{} x_{e} \\: . \\: {f3}({f3}({f3}({f3}({x}))))]}({[\\lambda{} f3_{\\left\\langle{}e,e\\right\\rangle{}} \\: . \\: \\lambda{} x_{e} \\: . \\: {f3}({f3}({f3}({f3}({x}))))]}(\\lambda{} x_{e} \\: . \\: {x}))({[\\lambda{} f3_{\\left\\langle{}e,e\\right\\rangle{}} \\: . \\: \\lambda{} x_{e} \\: . \\: {f3}({f3}({f3}({f3}({x}))))]}(\\lambda{} x_{e} \\: . \\: {x})({[\\lambda{} f3_{\\left\\langle{}e,e\\right\\rangle{}} \\: . \\: \\lambda{} x_{e} \\: . \\: {f3}({f3}({f3}({f3}({x}))))]}(\\lambda{} x_{e} \\: . \\: {x})({x})))))))$</span></div></div><div style=\"display:table-cell;vertical-align:top;padding-left:5px;padding-right:5px;padding-top:0.2em\"><div style=\"display:table;\"><div style=\"display:table-row;\"><div style=\"white-space:nowrap; color:blue;\"><span>reduction of path (1, 1, 1, 1, 1, 1, 1, 0)</span></div></div></div></div></div><div style=\"display:table-row;border-bottom:1px solid #848482;\"><div style=\"display:table-cell;padding:0.2em 5px 0.2em 0px;vertical-align:top;\">47. </div><div style=\"display:table-cell;vertical-align:top;border-right:1px solid #848482;padding-right:5px;;padding-top:0.2em\"><div style=\"display:inline-block;\"><span>$\\lambda{} x_{e} \\: . \\: {[\\lambda{} f3_{\\left\\langle{}e,e\\right\\rangle{}} \\: . \\: \\lambda{} x_{e} \\: . \\: {f3}({f3}({f3}({f3}({x}))))]}({[\\lambda{} f3_{\\left\\langle{}e,e\\right\\rangle{}} \\: . \\: \\lambda{} x_{e} \\: . \\: {f3}({f3}({f3}({f3}({x}))))]}({[\\lambda{} f3_{\\left\\langle{}e,e\\right\\rangle{}} \\: . \\: \\lambda{} x_{e} \\: . \\: {f3}({f3}({f3}({f3}({x}))))]}(\\lambda{} x_{e} \\: . \\: {x})))({[\\lambda{} f3_{\\left\\langle{}e,e\\right\\rangle{}} \\: . \\: \\lambda{} x_{e} \\: . \\: {f3}({f3}({f3}({f3}({x}))))]}({[\\lambda{} f3_{\\left\\langle{}e,e\\right\\rangle{}} \\: . \\: \\lambda{} x_{e} \\: . \\: {f3}({f3}({f3}({f3}({x}))))]}({[\\lambda{} f3_{\\left\\langle{}e,e\\right\\rangle{}} \\: . \\: \\lambda{} x_{e} \\: . \\: {f3}({f3}({f3}({f3}({x}))))]}(\\lambda{} x_{e} \\: . \\: {x})))({[\\lambda{} f3_{\\left\\langle{}e,e\\right\\rangle{}} \\: . \\: \\lambda{} x_{e} \\: . \\: {f3}({f3}({f3}({f3}({x}))))]}({[\\lambda{} f3_{\\left\\langle{}e,e\\right\\rangle{}} \\: . \\: \\lambda{} x_{e} \\: . \\: {f3}({f3}({f3}({f3}({x}))))]}({[\\lambda{} f3_{\\left\\langle{}e,e\\right\\rangle{}} \\: . \\: \\lambda{} x_{e} \\: . \\: {f3}({f3}({f3}({f3}({x}))))]}(\\lambda{} x_{e} \\: . \\: {x})))({[\\lambda{} f3_{\\left\\langle{}e,e\\right\\rangle{}} \\: . \\: \\lambda{} x_{e} \\: . \\: {f3}({f3}({f3}({f3}({x}))))]}({[\\lambda{} f3_{\\left\\langle{}e,e\\right\\rangle{}} \\: . \\: \\lambda{} x_{e} \\: . \\: {f3}({f3}({f3}({f3}({x}))))]}(\\lambda{} x_{e} \\: . \\: {x}))({[\\lambda{} f3_{\\left\\langle{}e,e\\right\\rangle{}} \\: . \\: \\lambda{} x_{e} \\: . \\: {f3}({f3}({f3}({f3}({x}))))]}({[\\lambda{} f3_{\\left\\langle{}e,e\\right\\rangle{}} \\: . \\: \\lambda{} x_{e} \\: . \\: {f3}({f3}({f3}({f3}({x}))))]}(\\lambda{} x_{e} \\: . \\: {x}))({[\\lambda{} f3_{\\left\\langle{}e,e\\right\\rangle{}} \\: . \\: \\lambda{} x_{e} \\: . \\: {f3}({f3}({f3}({f3}({x}))))]}(\\lambda{} x_{e} \\: . \\: {x})({[\\lambda{} x_{e} \\: . \\: {[\\lambda{} x_{e} \\: . \\: {x}]}({[\\lambda{} x_{e} \\: . \\: {x}]}({[\\lambda{} x_{e} \\: . \\: {x}]}({[\\lambda{} x_{e} \\: . \\: {x}]}({x}))))]}({x})))))))$</span></div></div><div style=\"display:table-cell;vertical-align:top;padding-left:5px;padding-right:5px;padding-top:0.2em\"><div style=\"display:table;\"><div style=\"display:table-row;\"><div style=\"white-space:nowrap; color:blue;\"><span>reduction of path (1, 1, 1, 1, 1, 1, 1)</span></div></div></div></div></div><div style=\"display:table-row;border-bottom:1px solid #848482;\"><div style=\"display:table-cell;padding:0.2em 5px 0.2em 0px;vertical-align:top;\">48. </div><div style=\"display:table-cell;vertical-align:top;border-right:1px solid #848482;padding-right:5px;;padding-top:0.2em\"><div style=\"display:inline-block;\"><span>$\\lambda{} x_{e} \\: . \\: {[\\lambda{} f3_{\\left\\langle{}e,e\\right\\rangle{}} \\: . \\: \\lambda{} x_{e} \\: . \\: {f3}({f3}({f3}({f3}({x}))))]}({[\\lambda{} f3_{\\left\\langle{}e,e\\right\\rangle{}} \\: . \\: \\lambda{} x_{e} \\: . \\: {f3}({f3}({f3}({f3}({x}))))]}({[\\lambda{} f3_{\\left\\langle{}e,e\\right\\rangle{}} \\: . \\: \\lambda{} x_{e} \\: . \\: {f3}({f3}({f3}({f3}({x}))))]}(\\lambda{} x_{e} \\: . \\: {x})))({[\\lambda{} f3_{\\left\\langle{}e,e\\right\\rangle{}} \\: . \\: \\lambda{} x_{e} \\: . \\: {f3}({f3}({f3}({f3}({x}))))]}({[\\lambda{} f3_{\\left\\langle{}e,e\\right\\rangle{}} \\: . \\: \\lambda{} x_{e} \\: . \\: {f3}({f3}({f3}({f3}({x}))))]}({[\\lambda{} f3_{\\left\\langle{}e,e\\right\\rangle{}} \\: . \\: \\lambda{} x_{e} \\: . \\: {f3}({f3}({f3}({f3}({x}))))]}(\\lambda{} x_{e} \\: . \\: {x})))({[\\lambda{} f3_{\\left\\langle{}e,e\\right\\rangle{}} \\: . \\: \\lambda{} x_{e} \\: . \\: {f3}({f3}({f3}({f3}({x}))))]}({[\\lambda{} f3_{\\left\\langle{}e,e\\right\\rangle{}} \\: . \\: \\lambda{} x_{e} \\: . \\: {f3}({f3}({f3}({f3}({x}))))]}({[\\lambda{} f3_{\\left\\langle{}e,e\\right\\rangle{}} \\: . \\: \\lambda{} x_{e} \\: . \\: {f3}({f3}({f3}({f3}({x}))))]}(\\lambda{} x_{e} \\: . \\: {x})))({[\\lambda{} f3_{\\left\\langle{}e,e\\right\\rangle{}} \\: . \\: \\lambda{} x_{e} \\: . \\: {f3}({f3}({f3}({f3}({x}))))]}({[\\lambda{} f3_{\\left\\langle{}e,e\\right\\rangle{}} \\: . \\: \\lambda{} x_{e} \\: . \\: {f3}({f3}({f3}({f3}({x}))))]}(\\lambda{} x_{e} \\: . \\: {x}))({[\\lambda{} f3_{\\left\\langle{}e,e\\right\\rangle{}} \\: . \\: \\lambda{} x_{e} \\: . \\: {f3}({f3}({f3}({f3}({x}))))]}({[\\lambda{} f3_{\\left\\langle{}e,e\\right\\rangle{}} \\: . \\: \\lambda{} x_{e} \\: . \\: {f3}({f3}({f3}({f3}({x}))))]}(\\lambda{} x_{e} \\: . \\: {x}))({[\\lambda{} f3_{\\left\\langle{}e,e\\right\\rangle{}} \\: . \\: \\lambda{} x_{e} \\: . \\: {f3}({f3}({f3}({f3}({x}))))]}(\\lambda{} x_{e} \\: . \\: {x})({[\\lambda{} x_{e} \\: . \\: {x}]}({[\\lambda{} x_{e} \\: . \\: {x}]}({[\\lambda{} x_{e} \\: . \\: {x}]}({[\\lambda{} x_{e} \\: . \\: {x}]}({x}))))))))))$</span></div></div><div style=\"display:table-cell;vertical-align:top;padding-left:5px;padding-right:5px;padding-top:0.2em\"><div style=\"display:table;\"><div style=\"display:table-row;\"><div style=\"white-space:nowrap; color:blue;\"><span>reduction of path (1, 1, 1, 1, 1, 1, 1)</span></div></div></div></div></div><div style=\"display:table-row;border-bottom:1px solid #848482;\"><div style=\"display:table-cell;padding:0.2em 5px 0.2em 0px;vertical-align:top;\">49. </div><div style=\"display:table-cell;vertical-align:top;border-right:1px solid #848482;padding-right:5px;;padding-top:0.2em\"><div style=\"display:inline-block;\"><span>... 378 steps omitted ...</span></div></div><div style=\"display:table-cell;vertical-align:top;padding-left:5px;padding-right:5px;padding-top:0.2em\"><div style=\"display:table;\"><div style=\"display:table-row;\"><div style=\"white-space:nowrap; color:blue;\"><span></span></div></div></div></div></div><div style=\"display:table-row;\"><div style=\"display:table-cell;padding:0.2em 5px 0.2em 0px;vertical-align:top;\">50. </div><div style=\"display:table-cell;vertical-align:top;border-right:1px solid #848482;padding-right:5px;;padding-top:0.2em\"><div style=\"display:inline-block;\"><span>$\\lambda{} x_{e} \\: . \\: {x}$</span></div></div></div></div></div></div></div></div>"
      ],
      "text/plain": [
       "DisplayNode instance: HTML rendering only"
      ]
     },
     "execution_count": 8,
     "metadata": {},
     "output_type": "execute_result"
    }
   ],
   "source": [
    "x.reduce_all(use_cache=True, group_recursion=False).derivation.show()"
   ]
  },
  {
   "cell_type": "code",
   "execution_count": null,
   "id": "95ab1d75-ebe0-4a33-8d4f-550ce19e0582",
   "metadata": {},
   "outputs": [],
   "source": [
    "%prun -s cumulative x.reduce_all(use_cache=True, group_recursion=False).derivation.show()"
   ]
  },
  {
   "cell_type": "code",
   "execution_count": null,
   "id": "df8424e8-18d6-4040-9d47-b8fa4f008e6e",
   "metadata": {},
   "outputs": [],
   "source": [
    "r = te(\"(L x_<e,e> : (L f2_<<e,e>,<e,e>> : (f2(f2(f2(f2(x)))))))(L x_e : x)(L f2_<e,e> : (L f_<e,e> : L x_e: f(f(f(f(x)))))(f2))\").reduce_all(group_recursion=False)\n",
    "# r = te(\"(L x_<e,e> : (L f2_<<e,e>,<e,e>> : f2((f2(f2(f2(f2(x))))))))(L x_e : x)(L f2_<e,e> : (L f_<e,e> : L x_e: (f(f(f(f(f(x)))))))(f2))\").reduce_all(group_recursion=False)\n",
    "len(r.derivation)\n"
   ]
  },
  {
   "cell_type": "code",
   "execution_count": null,
   "id": "aec910bb-70f3-4d09-9c18-25b4b450549c",
   "metadata": {},
   "outputs": [],
   "source": []
  },
  {
   "cell_type": "code",
   "execution_count": 9,
   "id": "0e602d93-e760-41da-9e66-458d28146425",
   "metadata": {},
   "outputs": [
    {
     "name": "stdout",
     "output_type": "stream",
     "text": [
      " "
     ]
    },
    {
     "data": {
      "text/plain": [
       "         3334324 function calls (2754276 primitive calls) in 0.808 seconds\n",
       "\n",
       "   Ordered by: cumulative time\n",
       "\n",
       "   ncalls  tottime  percall  cumtime  percall filename:lineno(function)\n",
       " 2775/428    0.006    0.000    0.929    0.002 core.py:2517(subreduce)\n",
       "        1    0.000    0.000    0.808    0.808 {built-in method builtins.exec}\n",
       "        1    0.000    0.000    0.808    0.808 <string>:1(<module>)\n",
       "        1    0.000    0.000    0.808    0.808 core.py:2595(reduce_all)\n",
       "     2886    0.002    0.000    0.619    0.000 core.py:3012(copy_local)\n",
       "     8052    0.021    0.000    0.617    0.000 core.py:1361(type_constraint)\n",
       "     2886    0.008    0.000    0.615    0.000 core.py:2973(__init__)\n",
       "423063/9665    0.078    0.000    0.372    0.000 {built-in method builtins.repr}\n",
       "88801/5128    0.051    0.000    0.366    0.000 core.py:3032(__repr__)\n",
       "46559/29027    0.029    0.000    0.224    0.000 core.py:5009(__repr__)\n",
       "      773    0.001    0.000    0.195    0.000 core.py:4809(copy_local)\n",
       "      773    0.002    0.000    0.194    0.000 core.py:5310(__init__)\n",
       "      428    0.000    0.000    0.189    0.000 core.py:2505(_do_reduce)\n",
       "      428    0.000    0.000    0.189    0.000 core.py:3119(reduce)\n",
       "      428    0.001    0.000    0.181    0.000 core.py:5372(apply)\n",
       " 1978/428    0.005    0.000    0.169    0.000 ply.py:398(beta_reduce_ts)\n",
       "     7830    0.009    0.000    0.157    0.000 core.py:1519(try_adjust_type)\n",
       "    18468    0.023    0.000    0.103    0.000 types.py:2524(get_unify_cached)\n",
       "     3659    0.003    0.000    0.100    0.000 types.py:2736(unify_fun)\n",
       "     3659    0.002    0.000    0.093    0.000 types.py:2143(unify_fun)\n",
       "   142678    0.027    0.000    0.092    0.000 core.py:3387(__repr__)\n",
       "     4432    0.001    0.000    0.081    0.000 types.py:776(__init__)\n",
       "     4432    0.003    0.000    0.079    0.000 types.py:356(__init__)\n",
       "      773    0.003    0.000    0.072    0.000 core.py:4739(__init__)\n",
       "     4432    0.002    0.000    0.070    0.000 types.py:651(__init__)\n",
       "     4432    0.060    0.000    0.068    0.000 types.py:292(__init__)\n",
       "    10632    0.004    0.000    0.064    0.000 types.py:2610(unify)\n",
       "     7836    0.004    0.000    0.063    0.000 core.py:1142(try_unify)\n",
       "     3287    0.007    0.000    0.056    0.000 ply.py:1067(derived)\n",
       "     8052    0.002    0.000    0.053    0.000 core.py:113(ts_reconcile)\n",
       "     7318    0.003    0.000    0.051    0.000 core.py:107(ts_unify)\n",
       "     7836    0.003    0.000    0.048    0.000 types.py:2637(unify_details)\n",
       "23751/17637    0.008    0.000    0.045    0.000 core.py:1582(get_type_env)\n",
       " 1024/512    0.001    0.000    0.045    0.000 core.py:2045(ensure_typed_expr)\n",
       "84996/84344    0.026    0.000    0.039    0.000 types.py:799(__repr__)\n",
       "      512    0.001    0.000    0.037    0.000 core.py:2232(under_assignment)\n",
       "    56612    0.011    0.000    0.036    0.000 types.py:332(__eq__)\n",
       "    55404    0.011    0.000    0.035    0.000 types.py:335(__hash__)\n",
       "506156/506152    0.035    0.000    0.035    0.000 {built-in method builtins.isinstance}\n",
       "      512    0.001    0.000    0.035    0.000 ply.py:477(term_replace_unify)\n",
       " 6498/512    0.008    0.000    0.034    0.000 ply.py:551(term_transform_rebuild)\n",
       "     8912    0.007    0.000    0.033    0.000 core.py:1217(copy)\n",
       "    20916    0.016    0.000    0.030    0.000 core.py:1091(update_var_set)\n",
       "     2883    0.005    0.000    0.030    0.000 core.py:1587(calc_type_env)\n",
       "      276    0.000    0.000    0.030    0.000 core.py:2086(copy)\n",
       "    18472    0.007    0.000    0.029    0.000 {method 'get' of 'dict' objects}\n",
       "33838/31204    0.013    0.000    0.027    0.000 types.py:802(_type_eq)\n",
       "    13080    0.005    0.000    0.026    0.000 core.py:1069(__init__)\n",
       "     2775    0.003    0.000    0.023    0.000 ply.py:1056(derivation_factory)\n",
       "      261    0.000    0.000    0.023    0.000 core.py:4804(copy)\n",
       "27029/9273    0.013    0.000    0.023    0.000 core.py:2727(__eq__)\n",
       "     2019    0.005    0.000    0.022    0.000 core.py:3241(__init__)\n",
       "   116210    0.015    0.000    0.022    0.000 types.py:619(_type_eq)\n",
       "   250362    0.020    0.000    0.020    0.000 types.py:628(__repr__)\n",
       "    86172    0.012    0.000    0.019    0.000 types.py:625(_type_hash)\n",
       "     1285    0.000    0.000    0.019    0.000 core.py:4866(init_var_by_instance)\n",
       "     1285    0.001    0.000    0.018    0.000 core.py:4848(init_var)\n",
       "22938/21516    0.009    0.000    0.018    0.000 types.py:809(_type_hash)\n",
       "    27784    0.005    0.000    0.018    0.000 types.py:370(__eq__)\n",
       "    88801    0.013    0.000    0.015    0.000 utils.py:365(parens)\n",
       "      734    0.000    0.000    0.014    0.000 core.py:3308(copy)\n",
       "     5398    0.004    0.000    0.014    0.000 ply.py:850(add_steps)\n",
       "      734    0.002    0.000    0.013    0.000 core.py:3318(copy_local)\n",
       "     5766    0.003    0.000    0.013    0.000 core.py:1197(merge)\n",
       "    20916    0.007    0.000    0.012    0.000 types.py:2316(vars_in_env)\n",
       "     7537    0.004    0.000    0.012    0.000 core.py:2252(free_terms)\n",
       "      518    0.001    0.000    0.012    0.000 ply.py:479(transform)\n",
       "    29052    0.007    0.000    0.012    0.000 core.py:2751(__getitem__)\n",
       "     7830    0.003    0.000    0.011    0.000 core.py:1357(_type_cache_set)\n",
       "94407/79775    0.009    0.000    0.011    0.000 {built-in method builtins.len}\n",
       "      518    0.000    0.000    0.011    0.000 core.py:1980(factory)\n",
       "     2775    0.001    0.000    0.010    0.000 ply.py:813(__init__)\n",
       "    14169    0.004    0.000    0.009    0.000 core.py:1103(terms)\n",
       "     4432    0.003    0.000    0.008    0.000 types.py:196(__init__)\n",
       "     4038    0.002    0.000    0.007    0.000 __init__.py:164(match)\n",
       "    86176    0.007    0.000    0.007    0.000 {built-in method builtins.hash}\n",
       "     8470    0.005    0.000    0.007    0.000 __init__.py:280(_compile)\n",
       "     4432    0.003    0.000    0.006    0.000 types.py:529(init_type_vars)\n",
       "    46559    0.006    0.000    0.006    0.000 core.py:5013(op_name)\n",
       "    15226    0.004    0.000    0.006    0.000 <frozen importlib._bootstrap>:645(parent)\n",
       "     4091    0.001    0.000    0.006    0.000 core.py:1114(add_term_mapping)\n",
       "     2806    0.001    0.000    0.006    0.000 core.py:1191(_merge_term_mapping)\n",
       "    47502    0.005    0.000    0.005    0.000 core.py:1571(_type_env)\n",
       "     2775    0.001    0.000    0.005    0.000 ply.py:847(add_step)\n",
       "3562/1204    0.003    0.000    0.005    0.000 core.py:2571(subreducible)\n",
       "     2834    0.001    0.000    0.005    0.000 core.py:2260(free_variables)\n",
       "    10821    0.004    0.000    0.005    0.000 core.py:985(bound_type_vars)\n",
       "     1285    0.001    0.000    0.005    0.000 core.py:3334(calc_type_env)\n",
       "     2019    0.001    0.000    0.005    0.000 ply.py:642(is_symbol)\n",
       "     3215    0.002    0.000    0.005    0.000 core.py:2492(_is_reduced_caching)\n",
       "    23205    0.003    0.000    0.005    0.000 core.py:188(is_te)\n",
       "     5772    0.002    0.000    0.005    0.000 core.py:1161(update_vars_in_terms)\n",
       "     7830    0.002    0.000    0.005    0.000 types.py:373(__hash__)\n",
       "     4091    0.003    0.000    0.005    0.000 core.py:1127(try_add_term_mapping)\n",
       "     2775    0.001    0.000    0.005    0.000 ply.py:668(__init__)\n",
       "     1479    0.001    0.000    0.005    0.000 core.py:5022(free_terms)\n",
       "      428    0.000    0.000    0.005    0.000 ply.py:602(alpha_convert)\n",
       "     5949    0.003    0.000    0.004    0.000 core.py:970(copy)\n",
       "     6039    0.003    0.000    0.004    0.000 core.py:4873(varname)\n",
       "    35512    0.004    0.000    0.004    0.000 core.py:2724(_eq_elem)\n",
       "     2019    0.001    0.000    0.004    0.000 ply.py:656(is_var_symbol)\n",
       "    62234    0.004    0.000    0.004    0.000 core.py:4883(var_instance)\n",
       "     5772    0.003    0.000    0.004    0.000 types.py:522(is_polymorphic)\n",
       " 1044/428    0.001    0.000    0.004    0.000 core.py:5025(bound_variables)\n",
       "     5400    0.003    0.000    0.004    0.000 {method 'extend' of 'list' objects}\n",
       "    36001    0.004    0.000    0.004    0.000 {method 'keys' of 'dict' objects}\n",
       "        2    0.000    0.000    0.004    0.002 iostream.py:276(<lambda>)\n",
       "     2775    0.002    0.000    0.004    0.000 ply.py:689(set_origin)\n",
       " 4852/428    0.002    0.000    0.003    0.000 core.py:2263(bound_variables)\n",
       "      428    0.000    0.000    0.003    0.000 ply.py:383(unsafe_variables)\n",
       "     7830    0.003    0.000    0.003    0.000 core.py:1346(_type_cache)\n",
       "     4432    0.001    0.000    0.003    0.000 __init__.py:226(compile)\n",
       "      348    0.001    0.000    0.003    0.000 core.py:5028(calc_type_env)\n",
       "    48871    0.003    0.000    0.003    0.000 core.py:4887(body)\n",
       "    36936    0.003    0.000    0.003    0.000 types.py:329(__init__)\n",
       "    14169    0.003    0.000    0.003    0.000 {built-in method builtins.sorted}\n",
       "      428    0.000    0.000    0.003    0.000 types.py:2192(eq_check)\n",
       "     5986    0.001    0.000    0.003    0.000 core.py:2745(__ne__)\n",
       "11489/7057    0.002    0.000    0.003    0.000 {built-in method builtins.iter}\n",
       "    15226    0.002    0.000    0.002    0.000 {method 'rpartition' of 'str' objects}\n",
       "    10644    0.002    0.000    0.002    0.000 ply.py:872(__len__)\n",
       "     2886    0.002    0.000    0.002    0.000 core.py:1302(__init__)\n",
       "    27071    0.002    0.000    0.002    0.000 core.py:102(get_type_system)\n",
       "    16748    0.002    0.000    0.002    0.000 {method 'copy' of 'dict' objects}\n",
       "     5514    0.001    0.000    0.002    0.000 core.py:3115(reducible)\n",
       "      512    0.000    0.000    0.002    0.000 core.py:4822(scope_assignment)\n",
       "      428    0.000    0.000    0.002    0.000 core.py:5043(vacuous)\n",
       "    21379    0.002    0.000    0.002    0.000 core.py:929(let_polymorphic)\n",
       "    21032    0.002    0.000    0.002    0.000 types.py:513(bound_type_vars)\n",
       "     7148    0.001    0.000    0.002    0.000 core.py:2765(__len__)\n",
       "     2886    0.001    0.000    0.002    0.000 core.py:3007(copy_core)\n",
       "    13288    0.002    0.000    0.002    0.000 {method 'update' of 'set' objects}\n",
       "     4432    0.002    0.000    0.002    0.000 types.py:44(__init__)\n",
       "     4439    0.001    0.000    0.001    0.000 core.py:1158(add_type_to_var_set)\n",
       "     3343    0.001    0.000    0.001    0.000 core.py:4831(init_args)\n",
       "     4432    0.001    0.000    0.001    0.000 types.py:787(__iter__)\n",
       "     5398    0.001    0.000    0.001    0.000 ply.py:840(last)\n",
       "     5250    0.001    0.000    0.001    0.000 core.py:1579(set_type_env)\n",
       "     4038    0.001    0.000    0.001    0.000 {method 'match' of 're.Pattern' objects}\n",
       "    10034    0.001    0.000    0.001    0.000 core.py:922(__init__)\n",
       "     8912    0.001    0.000    0.001    0.000 {method 'copy' of 'set' objects}\n",
       "     1797    0.001    0.000    0.001    0.000 core.py:1111(term_type)\n",
       "      202    0.001    0.000    0.001    0.000 ipkernel.py:775(_clean_thread_parent_frames)\n",
       "     1103    0.000    0.000    0.001    0.000 core.py:2568(_reduction_order)\n",
       "      512    0.000    0.000    0.001    0.000 core.py:904(subassignment)\n",
       "     5991    0.001    0.000    0.001    0.000 {method 'append' of 'list' objects}\n",
       "     1285    0.000    0.000    0.001    0.000 core.py:4869(init_body)\n",
       "      512    0.000    0.000    0.001    0.000 core.py:2115(regularize_type_env)\n",
       "     4038    0.001    0.000    0.001    0.000 {method 'pop' of 'dict' objects}\n",
       "     2623    0.000    0.000    0.001    0.000 ply.py:869(__iter__)\n",
       "     4393    0.001    0.000    0.001    0.000 core.py:2093(copy_core)\n",
       "     5772    0.001    0.000    0.001    0.000 types.py:519(is_let_polymorphic)\n",
       "     1487    0.000    0.000    0.001    0.000 ply.py:648(symbol_is_var_symbol)\n",
       "        3    0.000    0.000    0.001    0.000 base_events.py:1915(_run_once)\n",
       "      734    0.000    0.000    0.001    0.000 core.py:3311(copy_core)\n",
       "     1797    0.000    0.000    0.001    0.000 core.py:933(get_type)\n",
       "     3377    0.001    0.000    0.001    0.000 {method 'copy' of 'list' objects}\n",
       "        2    0.000    0.000    0.000    0.000 iostream.py:278(_really_send)\n",
       "        2    0.000    0.000    0.000    0.000 socket.py:703(send_multipart)\n",
       "     2019    0.000    0.000    0.000    0.000 {method 'startswith' of 'str' objects}\n",
       "     6039    0.000    0.000    0.000    0.000 core.py:3383(term_name)\n",
       "      4/2    0.000    0.000    0.000    0.000 events.py:86(_run)\n",
       "      4/2    0.000    0.000    0.000    0.000 {method 'run' of '_contextvars.Context' objects}\n",
       "     2775    0.000    0.000    0.000    0.000 ply.py:802(set_derivation)\n",
       "       14    0.000    0.000    0.000    0.000 socket.py:626(send)\n",
       "     1285    0.000    0.000    0.000    0.000 core.py:4879(vartype)\n",
       "        2    0.000    0.000    0.000    0.000 zmqstream.py:583(_handle_events)\n",
       "        1    0.000    0.000    0.000    0.000 asyncio.py:200(_handle_events)\n",
       "      877    0.000    0.000    0.000    0.000 core.py:2080(type_not_guessed)\n",
       "     1024    0.000    0.000    0.000    0.000 core.py:2188(under_type_assignment)\n",
       "     3870    0.000    0.000    0.000    0.000 core.py:2486(will_reduce)\n",
       "     3680    0.000    0.000    0.000    0.000 core.py:2285(term)\n",
       "      101    0.000    0.000    0.000    0.000 threading.py:1535(enumerate)\n",
       "     1795    0.000    0.000    0.000    0.000 core.py:3364(free_terms)\n",
       "        6    0.000    0.000    0.000    0.000 core.py:992(merge)\n",
       "        3    0.000    0.000    0.000    0.000 zmqstream.py:663(_rebuild_io_state)\n",
       "        5    0.000    0.000    0.000    0.000 attrsettr.py:43(__getattr__)\n",
       "     1487    0.000    0.000    0.000    0.000 {method 'islower' of 'str' objects}\n",
       "        1    0.000    0.000    0.000    0.000 decorator.py:229(fun)\n",
       "        3    0.000    0.000    0.000    0.000 zmqstream.py:686(_update_handler)\n",
       "        1    0.000    0.000    0.000    0.000 history.py:55(only_when_enabled)\n",
       "        5    0.000    0.000    0.000    0.000 attrsettr.py:66(_get_attr_opt)\n",
       "      909    0.000    0.000    0.000    0.000 threading.py:1198(ident)\n",
       "        1    0.000    0.000    0.000    0.000 history.py:845(writeout_cache)\n",
       "     1725    0.000    0.000    0.000    0.000 core.py:3370(term)\n",
       "       15    0.000    0.000    0.000    0.000 enum.py:1545(__or__)\n",
       "     1926    0.000    0.000    0.000    0.000 core.py:3107(_reduction_order)\n",
       "        2    0.000    0.000    0.000    0.000 zmqstream.py:624(_handle_recv)\n",
       "     1644    0.000    0.000    0.000    0.000 core.py:5346(will_reduce)\n",
       "        1    0.000    0.000    0.000    0.000 ioloop.py:742(_run_callback)\n",
       "        1    0.000    0.000    0.000    0.000 zmqstream.py:694(<lambda>)\n",
       "      400    0.000    0.000    0.000    0.000 types.py:1614(_type_eq)\n",
       "     1452    0.000    0.000    0.000    0.000 core.py:2483(reducible)\n",
       "        2    0.000    0.000    0.000    0.000 zmqstream.py:556(_run_callback)\n",
       "     1285    0.000    0.000    0.000    0.000 core.py:5332(apply_var_constraints)\n",
       "        1    0.000    0.000    0.000    0.000 selector_events.py:129(_read_from_self)\n",
       "        2    0.000    0.000    0.000    0.000 traitlets.py:708(__set__)\n",
       "     1036    0.000    0.000    0.000    0.000 core.py:2288(meta)\n",
       "        2    0.000    0.000    0.000    0.000 traitlets.py:3631(set)\n",
       "        2    0.000    0.000    0.000    0.000 iostream.py:157(_handle_event)\n",
       "        1    0.000    0.000    0.000    0.000 decorator.py:199(fix)\n",
       "        2    0.000    0.000    0.000    0.000 traitlets.py:689(set)\n",
       "      2/1    0.000    0.000    0.000    0.000 selectors.py:558(select)\n",
       "      518    0.000    0.000    0.000    0.000 core.py:2131(freshen_type_vars)\n",
       "        1    0.000    0.000    0.000    0.000 {method 'disable' of '_lsprof.Profiler' objects}\n",
       "       66    0.000    0.000    0.000    0.000 enum.py:1538(_get_value)\n",
       "      512    0.000    0.000    0.000    0.000 {method 'update' of 'dict' objects}\n",
       "      428    0.000    0.000    0.000    0.000 {method 'discard' of 'set' objects}\n",
       "      348    0.000    0.000    0.000    0.000 core.py:1139(remove_term)\n",
       "        1    0.000    0.000    0.000    0.000 kernelbase.py:302(poll_control_queue)\n",
       "        1    0.000    0.000    0.000    0.000 queues.py:186(put)\n",
       "        2    0.000    0.000    0.000    0.000 {method 'recv' of '_socket.socket' objects}\n",
       "      428    0.000    0.000    0.000    0.000 core.py:5335(argtype)\n",
       "        2    0.000    0.000    0.000    0.000 socket.py:774(recv_multipart)\n",
       "       29    0.000    0.000    0.000    0.000 enum.py:720(__call__)\n",
       "        1    0.000    0.000    0.000    0.000 queues.py:209(put_nowait)\n",
       "        1    0.000    0.000    0.000    0.000 _base.py:537(set_result)\n",
       "        1    0.000    0.000    0.000    0.000 history.py:833(_writeout_input_cache)\n",
       "        1    0.000    0.000    0.000    0.000 _base.py:337(_invoke_callbacks)\n",
       "        1    0.000    0.000    0.000    0.000 futures.py:396(_call_set_state)\n",
       "        1    0.000    0.000    0.000    0.000 inspect.py:3272(bind)\n",
       "        1    0.000    0.000    0.000    0.000 base_events.py:837(call_soon_threadsafe)\n",
       "        2    0.000    0.000    0.000    0.000 traitlets.py:718(_validate)\n",
       "        7    0.000    0.000    0.000    0.000 enum.py:1556(__and__)\n",
       "        1    0.000    0.000    0.000    0.000 selector_events.py:141(_write_to_self)\n",
       "        1    0.000    0.000    0.000    0.000 threading.py:308(_release_save)\n",
       "        1    0.000    0.000    0.000    0.000 {method 'execute' of 'sqlite3.Connection' objects}\n",
       "        1    0.000    0.000    0.000    0.000 inspect.py:3133(_bind)\n",
       "      202    0.000    0.000    0.000    0.000 {method 'values' of 'dict' objects}\n",
       "      102    0.000    0.000    0.000    0.000 {method '__exit__' of '_thread.RLock' objects}\n",
       "        2    0.000    0.000    0.000    0.000 traitlets.py:3474(validate)\n",
       "        6    0.000    0.000    0.000    0.000 typing.py:392(inner)\n",
       "        2    0.000    0.000    0.000    0.000 typing.py:1221(__instancecheck__)\n",
       "      152    0.000    0.000    0.000    0.000 ply.py:701(get_origin)\n",
       "       29    0.000    0.000    0.000    0.000 enum.py:1123(__new__)\n",
       "        1    0.000    0.000    0.000    0.000 traitlets.py:1512(_notify_trait)\n",
       "        3    0.000    0.000    0.000    0.000 base_events.py:813(_call_soon)\n",
       "      2/1    0.000    0.000    0.000    0.000 {method 'control' of 'select.kqueue' objects}\n",
       "        3    0.000    0.000    0.000    0.000 zmqstream.py:542(sending)\n",
       "        1    0.000    0.000    0.000    0.000 concurrent.py:182(future_set_result_unless_cancelled)\n",
       "        2    0.000    0.000    0.000    0.000 base_events.py:784(call_soon)\n",
       "        6    0.000    0.000    0.000    0.000 traitlets.py:676(__get__)\n",
       "        2    0.000    0.000    0.000    0.000 typing.py:1492(__subclasscheck__)\n",
       "        1    0.000    0.000    0.000    0.000 asyncio.py:225(add_callback)\n",
       "        3    0.000    0.000    0.000    0.000 queue.py:97(empty)\n",
       "        1    0.000    0.000    0.000    0.000 traitlets.py:1523(notify_change)\n",
       "        5    0.000    0.000    0.000    0.000 <frozen importlib._bootstrap>:1390(_handle_fromlist)\n",
       "        2    0.000    0.000    0.000    0.000 {method 'set_result' of '_asyncio.Future' objects}\n",
       "        1    0.000    0.000    0.000    0.000 {method 'send' of '_socket.socket' objects}\n",
       "        1    0.000    0.000    0.000    0.000 queues.py:225(get)\n",
       "        1    0.000    0.000    0.000    0.000 traitlets.py:1527(_notify_observers)\n",
       "       10    0.000    0.000    0.000    0.000 {built-in method builtins.hasattr}\n",
       "        3    0.000    0.000    0.000    0.000 threading.py:299(__enter__)\n",
       "        4    0.000    0.000    0.000    0.000 base_events.py:733(time)\n",
       "        2    0.000    0.000    0.000    0.000 traitlets.py:727(_cross_validate)\n",
       "        2    0.000    0.000    0.000    0.000 traitlets.py:3624(validate_elements)\n",
       "        1    0.000    0.000    0.000    0.000 inspect.py:2949(apply_defaults)\n",
       "        2    0.000    0.000    0.000    0.000 {built-in method builtins.issubclass}\n",
       "        4    0.000    0.000    0.000    0.000 typing.py:1285(__hash__)\n",
       "       88    0.000    0.000    0.000    0.000 core.py:5052(term)\n",
       "        2    0.000    0.000    0.000    0.000 iostream.py:216(_check_mp_mode)\n",
       "        6    0.000    0.000    0.000    0.000 traitlets.py:629(get)\n",
       "        1    0.000    0.000    0.000    0.000 queues.py:317(__put_internal)\n",
       "        2    0.000    0.000    0.000    0.000 queues.py:322(_consume_expired)\n",
       "        3    0.000    0.000    0.000    0.000 events.py:36(__init__)\n",
       "        3    0.000    0.000    0.000    0.000 selector_events.py:750(_process_events)\n",
       "        2    0.000    0.000    0.000    0.000 {method '__exit__' of 'sqlite3.Connection' objects}\n",
       "        1    0.000    0.000    0.000    0.000 threading.py:627(clear)\n",
       "        2    0.000    0.000    0.000    0.000 <frozen abc>:121(__subclasscheck__)\n",
       "        1    0.000    0.000    0.000    0.000 {method 'release' of '_thread.lock' objects}\n",
       "        1    0.000    0.000    0.000    0.000 {built-in method _thread.allocate_lock}\n",
       "        1    0.000    0.000    0.000    0.000 inspect.py:2896(args)\n",
       "        1    0.000    0.000    0.000    0.000 threading.py:424(notify_all)\n",
       "        1    0.000    0.000    0.000    0.000 history.py:839(_writeout_output_cache)\n",
       "        2    0.000    0.000    0.000    0.000 iostream.py:213(_is_master_process)\n",
       "        1    0.000    0.000    0.000    0.000 threading.py:311(_acquire_restore)\n",
       "        5    0.000    0.000    0.000    0.000 {built-in method builtins.getattr}\n",
       "        2    0.000    0.000    0.000    0.000 {built-in method _abc._abc_subclasscheck}\n",
       "        7    0.000    0.000    0.000    0.000 {method 'append' of 'collections.deque' objects}\n",
       "        2    0.000    0.000    0.000    0.000 traitlets.py:2304(validate)\n",
       "        1    0.000    0.000    0.000    0.000 queues.py:256(get_nowait)\n",
       "        4    0.000    0.000    0.000    0.000 {built-in method builtins.max}\n",
       "        6    0.000    0.000    0.000    0.000 {built-in method builtins.next}\n",
       "        8    0.000    0.000    0.000    0.000 {method 'popleft' of 'collections.deque' objects}\n",
       "        3    0.000    0.000    0.000    0.000 threading.py:302(__exit__)\n",
       "       24    0.000    0.000    0.000    0.000 typing.py:2183(cast)\n",
       "        1    0.000    0.000    0.000    0.000 inspect.py:2919(kwargs)\n",
       "        1    0.000    0.000    0.000    0.000 queues.py:312(_put)\n",
       "        1    0.000    0.000    0.000    0.000 base_events.py:1900(_add_callback)\n",
       "        3    0.000    0.000    0.000    0.000 queue.py:209(_qsize)\n",
       "        7    0.000    0.000    0.000    0.000 {method '__exit__' of '_thread.lock' objects}\n",
       "       14    0.000    0.000    0.000    0.000 core.py:976(sub_type_vars)\n",
       "        3    0.000    0.000    0.000    0.000 {method 'items' of 'mappingproxy' objects}\n",
       "        2    0.000    0.000    0.000    0.000 traitlets.py:3486(validate_elements)\n",
       "        3    0.000    0.000    0.000    0.000 {method 'acquire' of '_thread.lock' objects}\n",
       "        1    0.000    0.000    0.000    0.000 unix_events.py:81(_process_self_data)\n",
       "        5    0.000    0.000    0.000    0.000 {method 'upper' of 'str' objects}\n",
       "        1    0.000    0.000    0.000    0.000 {built-in method posix.getppid}\n",
       "        1    0.000    0.000    0.000    0.000 selectors.py:275(_key_from_fd)\n",
       "        1    0.000    0.000    0.000    0.000 threading.py:394(notify)\n",
       "        4    0.000    0.000    0.000    0.000 {built-in method time.monotonic}\n",
       "        2    0.000    0.000    0.000    0.000 {built-in method _contextvars.copy_context}\n",
       "        5    0.000    0.000    0.000    0.000 zmqstream.py:538(receiving)\n",
       "        1    0.000    0.000    0.000    0.000 {method 'values' of 'mappingproxy' objects}\n",
       "       10    0.000    0.000    0.000    0.000 inspect.py:2808(kind)\n",
       "        1    0.000    0.000    0.000    0.000 threading.py:314(_is_owned)\n",
       "        1    0.000    0.000    0.000    0.000 {method '__enter__' of '_thread.RLock' objects}\n",
       "        1    0.000    0.000    0.000    0.000 {built-in method _asyncio.get_running_loop}\n",
       "        1    0.000    0.000    0.000    0.000 queues.py:309(_get)\n",
       "        4    0.000    0.000    0.000    0.000 inspect.py:3089(parameters)\n",
       "        2    0.000    0.000    0.000    0.000 {method '__enter__' of '_thread.lock' objects}\n",
       "        1    0.000    0.000    0.000    0.000 queues.py:177(empty)\n",
       "        1    0.000    0.000    0.000    0.000 queues.py:173(qsize)\n",
       "        3    0.000    0.000    0.000    0.000 base_events.py:538(_check_closed)\n",
       "        2    0.000    0.000    0.000    0.000 {method 'cancelled' of '_asyncio.Future' objects}\n",
       "        1    0.000    0.000    0.000    0.000 {method 'done' of '_asyncio.Future' objects}\n",
       "        5    0.000    0.000    0.000    0.000 base_events.py:2010(get_debug)\n",
       "        2    0.000    0.000    0.000    0.000 {built-in method posix.getpid}\n",
       "        1    0.000    0.000    0.000    0.000 locks.py:224(clear)\n",
       "        1    0.000    0.000    0.000    0.000 {built-in method builtins.min}\n",
       "        4    0.000    0.000    0.000    0.000 inspect.py:2796(name)\n",
       "        2    0.000    0.000    0.000    0.000 iostream.py:255(closed)\n",
       "        1    0.000    0.000    0.000    0.000 inspect.py:2888(__init__)\n",
       "        1    0.000    0.000    0.000    0.000 {method '_is_owned' of '_thread.RLock' objects}\n",
       "        1    0.000    0.000    0.000    0.000 queues.py:59(_set_timeout)\n",
       "        1    0.000    0.000    0.000    0.000 base_events.py:719(is_closed)"
      ]
     },
     "metadata": {},
     "output_type": "display_data"
    }
   ],
   "source": [
    "%prun -s cumulative x.reduce_all(use_cache=True, group_recursion=False)\n",
    "# %prun te(\"(L x_<e,e> : (L f2_<<e,e>,<e,e>> : (f2(f2(f2(f2(x)))))))(L x_e : x)(L f2_<e,e> : (L f_<e,e> : L x_e: f(f(f(f(x)))))(f2))\").reduce_all()"
   ]
  },
  {
   "cell_type": "code",
   "execution_count": null,
   "id": "3851b3dd-21fc-473f-8153-7f9026460682",
   "metadata": {},
   "outputs": [],
   "source": [
    "x.reduce_all(use_cache=True, group_recursion=False).derivation"
   ]
  },
  {
   "cell_type": "code",
   "execution_count": null,
   "id": "326a5660-d9bf-42f1-9e42-bdd760bdaeae",
   "metadata": {},
   "outputs": [],
   "source": []
  },
  {
   "cell_type": "code",
   "execution_count": null,
   "id": "d6db4f4c-b27b-4460-9c01-f853a099dbb8",
   "metadata": {},
   "outputs": [],
   "source": [
    "te(\"(L x_<e,e> : (L f2_<<e,e>,<e,e>> : (f2(f2(f2(f2(x)))))))(L x_e : x)(L f2_<e,e> : (L f_<e,e> : L x_e: f(f(f(f(x)))))(f2))\").get_type_env()\n"
   ]
  },
  {
   "cell_type": "code",
   "execution_count": null,
   "id": "4dd52d80-7ca7-4427-8a65-cf964898274d",
   "metadata": {},
   "outputs": [],
   "source": [
    "te(\"X_e\").get_type_env().var_mapping.keys()"
   ]
  },
  {
   "cell_type": "code",
   "execution_count": null,
   "id": "85d0887e-f7d4-47ec-9077-ac5349faa5d2",
   "metadata": {},
   "outputs": [],
   "source": [
    "te(\"L x_e  : x_e\").get_type_env().var_mapping"
   ]
  },
  {
   "cell_type": "code",
   "execution_count": null,
   "id": "67cb3b75-da90-46c3-accc-f5b2b640f50e",
   "metadata": {},
   "outputs": [],
   "source": []
  },
  {
   "cell_type": "code",
   "execution_count": null,
   "id": "90f3eaa7-9e53-4023-b13f-5031032dfc14",
   "metadata": {},
   "outputs": [],
   "source": [
    "tp(\"<e,X>\")._type_vars #.is_polymorphic()"
   ]
  },
  {
   "cell_type": "code",
   "execution_count": null,
   "id": "38950255-ff04-4b75-b3d9-e666af9c6201",
   "metadata": {},
   "outputs": [],
   "source": [
    "%prun -s cumulative te(\"(L x_<e,e> : (L f2_<<e,e>,<e,e>> : f2((f2(f2(f2(f2(x))))))))(L x_e : x)(L f2_<e,e> : (L f_<e,e> : L x_e: (f(f(f(f(f(x)))))))(f2))\").reduce_all(group_recursion=False)\n"
   ]
  },
  {
   "cell_type": "code",
   "execution_count": null,
   "id": "1cd1f09c-2e38-4452-860f-0aedf5c19de5",
   "metadata": {},
   "outputs": [],
   "source": [
    "x = te(\"(L x_<e,e> : (L f2_<<e,e>,<e,e>> : f2((f2(f2(f2(f2(x))))))))(L x_e : x)(L f2_<e,e> : (L f_<e,e> : L x_e: (f(f(f(f(f(x)))))))(f2))\").reduce_all(group_recursion=False)\n",
    "x"
   ]
  },
  {
   "cell_type": "code",
   "execution_count": null,
   "id": "7bb45081-a23e-47d4-8cf9-c95c382cd8e2",
   "metadata": {},
   "outputs": [],
   "source": [
    "x.derivation"
   ]
  },
  {
   "cell_type": "code",
   "execution_count": null,
   "id": "ea9adc27-a2f5-4efa-b734-db5c90d442b3",
   "metadata": {},
   "outputs": [],
   "source": []
  },
  {
   "cell_type": "code",
   "execution_count": null,
   "id": "3001b2bc-cb6b-4fe0-9c62-4050c72a6a07",
   "metadata": {},
   "outputs": [],
   "source": [
    "meta.ts_unify(tp(\"Y\"), tp(\"X\"))"
   ]
  },
  {
   "cell_type": "code",
   "execution_count": null,
   "id": "c96c9a51-f2ba-4e03-b39d-bd0a0bed2115",
   "metadata": {},
   "outputs": [],
   "source": [
    "reload_lamb()\n",
    "%lamb ttest = L x_X : P_<?,t>(x) # type <?,t>\n",
    "%lamb tvar = y_t\n",
    "ttest(tvar)"
   ]
  },
  {
   "cell_type": "code",
   "execution_count": null,
   "id": "3c6693d2-62a8-407b-a2b8-091480823229",
   "metadata": {},
   "outputs": [],
   "source": [
    "%te f_<X,Y>(x_e) == y_e"
   ]
  },
  {
   "cell_type": "code",
   "execution_count": null,
   "id": "4ebb3664-13a2-4250-9f75-d03d1fa74166",
   "metadata": {},
   "outputs": [],
   "source": [
    "reload_lamb()\n",
    "geach = %te L g_<Y,Z> : L f_<X,Y> : L x_X : g(f(x))\n",
    "geach"
   ]
  },
  {
   "cell_type": "code",
   "execution_count": null,
   "id": "3135f09d-349e-4cf1-8dad-9ebbe16158cb",
   "metadata": {},
   "outputs": [],
   "source": [
    "geach(te(\"L x_e : x\")).derivation"
   ]
  },
  {
   "cell_type": "code",
   "execution_count": null,
   "id": "d8362f1d-8599-457e-975f-d8da81d62be1",
   "metadata": {},
   "outputs": [],
   "source": [
    "f = %te L x_n : x+1\n",
    "g = %te L x_n : x>3"
   ]
  },
  {
   "cell_type": "code",
   "execution_count": null,
   "id": "e0c86b34-72ea-487d-a87a-d66a453c17d8",
   "metadata": {},
   "outputs": [],
   "source": [
    "geach(g)"
   ]
  },
  {
   "cell_type": "code",
   "execution_count": null,
   "id": "3cc525f9-e511-4c0f-8515-093f49c38374",
   "metadata": {},
   "outputs": [],
   "source": [
    "f = te(\"L x_e : x\")\n",
    "f.type"
   ]
  },
  {
   "cell_type": "code",
   "execution_count": null,
   "id": "bfb5f904-3207-499e-9aa1-3c1419a4e182",
   "metadata": {},
   "outputs": [],
   "source": [
    "geach(f).reduce_all().derivation"
   ]
  },
  {
   "cell_type": "code",
   "execution_count": null,
   "id": "d401aafe-f755-41be-a403-68d71a152bfb",
   "metadata": {},
   "outputs": [],
   "source": [
    "meta.core.ApplicationExpr.fa_type_inference(geach, f, dict()) #[0].type"
   ]
  },
  {
   "cell_type": "code",
   "execution_count": null,
   "id": "00f52363-e6e0-4488-b3d8-2de087c3787e",
   "metadata": {},
   "outputs": [],
   "source": [
    "geach.type"
   ]
  },
  {
   "cell_type": "code",
   "execution_count": null,
   "id": "54f22dea-bb6e-4ee3-9e70-6a660f2bf563",
   "metadata": {},
   "outputs": [],
   "source": [
    "meta.get_type_system().unify_fa(geach.type, f.type)"
   ]
  },
  {
   "cell_type": "code",
   "execution_count": null,
   "id": "f0ced354-08ce-4d08-9b7e-e5fc088854a4",
   "metadata": {},
   "outputs": [],
   "source": [
    "reload_lamb()"
   ]
  },
  {
   "cell_type": "code",
   "execution_count": null,
   "id": "b6b68abf-495c-4f86-809e-15d622bad64d",
   "metadata": {},
   "outputs": [],
   "source": [
    "te(\"(λ x_e: ((λ f_<t,t>: f1_<<t,t>,<<t,t>,<e,e>>>(f_<t,t>)(f_<t,t>)))((λ p_t: ((λ x1_e: f2_<<t,t>,t>(f_<t,t>)))(x_e)))(x_e))\")"
   ]
  },
  {
   "cell_type": "code",
   "execution_count": null,
   "id": "8d25a98f-27fb-435e-a2b7-c418b67b9752",
   "metadata": {},
   "outputs": [],
   "source": [
    "te(\"(λ x_e: ((λ f_<t,t>: f1_<<t,t>,<<t,t>,<e,e>>>(f_<t,t>)(f_<t,t>)))((λ p_t: ((λ x1_e: f2_<<t,t>,t>(f_<t,t>)))(x_e)))(x_e))\").reduce_all().derivation.trace()#.subreducible(force_full=False) #._reduced_cache\n"
   ]
  },
  {
   "cell_type": "code",
   "execution_count": null,
   "id": "524fade4-41dd-492d-a444-63f269ee1d95",
   "metadata": {},
   "outputs": [],
   "source": [
    "x1 = te(\"((λ f_<t,t>: f1_<<t,t>,<<t,t>,<e,e>>>(f_<t,t>)(f_<t,t>)))((λ p_t: ((λ x1_e: f2_<<t,t>,t>(f_<t,t>)))(x_e)))\")\n",
    "x1.reduce_all().derivation"
   ]
  },
  {
   "cell_type": "code",
   "execution_count": null,
   "id": "e3aaec4c-0087-410c-a985-52003a4af9d5",
   "metadata": {},
   "outputs": [],
   "source": [
    "x1.reduce_all()"
   ]
  },
  {
   "cell_type": "code",
   "execution_count": null,
   "id": "335d7e74-fa90-4941-adb2-26435b1dfc26",
   "metadata": {},
   "outputs": [],
   "source": [
    "x1._reduced_cache"
   ]
  },
  {
   "cell_type": "code",
   "execution_count": null,
   "id": "bae0f6d2-2c2f-4470-b7bf-b3f2d941ee04",
   "metadata": {},
   "outputs": [],
   "source": [
    "x2 = x1.reduce_all().derivation[1].origin[0].copy()\n",
    "x2 #[1] #.reduce_all()"
   ]
  },
  {
   "cell_type": "code",
   "execution_count": null,
   "id": "8cb1b98c-cbde-4d94-98f8-5abe2ad7836b",
   "metadata": {},
   "outputs": [],
   "source": [
    "x2.reduce_all()"
   ]
  },
  {
   "cell_type": "code",
   "execution_count": null,
   "id": "88725291-0a3e-4ba8-99f1-b457f141c6be",
   "metadata": {},
   "outputs": [],
   "source": []
  },
  {
   "cell_type": "code",
   "execution_count": null,
   "id": "e6ffe5a5-2672-433e-b188-307d291f74db",
   "metadata": {},
   "outputs": [],
   "source": [
    "x3 = te(\"((λ f_<t,t>: f1_<<t,t>,<<t,t>,<e,e>>>(f_<t,t>)(f_<t,t>)))((λ p_t: ((λ x1_e: f2_<<t,t>,t>(f_<t,t>)))(x_e)))\")\n",
    "x4 = x3.subreduce((), force_full=False)\n",
    "#x3 = x3.subreduce((0,1,1), force_full=False)\n",
    "x4.derivation"
   ]
  },
  {
   "cell_type": "code",
   "execution_count": null,
   "id": "560a3f9c-56e0-4177-86ae-62a1321603d5",
   "metadata": {},
   "outputs": [],
   "source": [
    "repr(x3)"
   ]
  },
  {
   "cell_type": "code",
   "execution_count": null,
   "id": "2dd40679-79e2-47b0-aa22-e602166a9fbb",
   "metadata": {},
   "outputs": [],
   "source": [
    "x3[0][1]._reduced_cache is x3[1]._reduced_cache"
   ]
  },
  {
   "cell_type": "code",
   "execution_count": null,
   "id": "c4e9fabb-94ed-4af9-885c-dfba800fba22",
   "metadata": {},
   "outputs": [],
   "source": [
    "te(\"(L f_<e,e> : f(f(x_e)))(L x_e : x)\").reduce_all()"
   ]
  },
  {
   "cell_type": "code",
   "execution_count": null,
   "id": "a1ebc1f2-0bdc-4ac0-a77b-d00a06993e6b",
   "metadata": {},
   "outputs": [],
   "source": []
  },
  {
   "cell_type": "code",
   "execution_count": null,
   "id": "8ef02b49-9f91-4bc7-ae80-3e87667589e6",
   "metadata": {},
   "outputs": [],
   "source": []
  },
  {
   "cell_type": "code",
   "execution_count": null,
   "id": "06d56b6b-1f45-4951-8944-0dcb49ad6031",
   "metadata": {},
   "outputs": [],
   "source": [
    "te(\"((λ x1_e: f2_<<t,t>,t>(f_<t,t>)))(x_e)\").reduce_all() #.reduce()"
   ]
  },
  {
   "cell_type": "code",
   "execution_count": null,
   "id": "a382ce9a-4f3e-49a4-956e-962e81197f84",
   "metadata": {},
   "outputs": [],
   "source": [
    "x = te(\"((λ f_<t,t>: f1_<<t,t>,<<t,t>,<e,e>>>(f_<t,t>)(f_<t,t>)))((λ p_t: ((λ x1_e: f2_<<t,t>,t>(f_<t,t>)))(x_e)))\").subreduce((), (0,1))\n",
    "x"
   ]
  },
  {
   "cell_type": "code",
   "execution_count": null,
   "id": "3768aeec-1abe-4c46-8d6d-ee61a0e75625",
   "metadata": {},
   "outputs": [],
   "source": [
    "x._reduced_cache"
   ]
  },
  {
   "cell_type": "code",
   "execution_count": null,
   "id": "54a4fe11-faf9-4ed5-8a81-a192f5712484",
   "metadata": {},
   "outputs": [],
   "source": [
    "te(\"(λ p_t: ((λ x1_e: f2_<<t,t>,t>(f_<t,t>)))(x_e))\") #.subreducible(force_full=True)"
   ]
  },
  {
   "cell_type": "code",
   "execution_count": null,
   "id": "a067e00a-d390-4aeb-a910-49883fca22b4",
   "metadata": {},
   "outputs": [],
   "source": []
  },
  {
   "cell_type": "code",
   "execution_count": null,
   "id": "ef2bd5cc-6fb4-4610-98f1-bd1696c623f4",
   "metadata": {},
   "outputs": [],
   "source": []
  },
  {
   "cell_type": "code",
   "execution_count": null,
   "id": "3299faa6-e04a-4fb3-8531-6853866c90ab",
   "metadata": {},
   "outputs": [],
   "source": []
  },
  {
   "cell_type": "code",
   "execution_count": null,
   "id": "3396b9ca-0024-4ccb-9359-c1e0c40fd5f9",
   "metadata": {},
   "outputs": [],
   "source": [
    "%te arg_Z1(L c_X : abar_Z2(b_<X,X1>(c_X)))"
   ]
  },
  {
   "cell_type": "code",
   "execution_count": null,
   "id": "1e3b68d0-614f-401b-9105-baa9f935eda8",
   "metadata": {},
   "outputs": [],
   "source": [
    "%te L c_X : abar_Z2(b_<X,X1>(c_X))"
   ]
  },
  {
   "cell_type": "code",
   "execution_count": null,
   "id": "d2a5b785-f183-42e4-b8e6-633f368c2250",
   "metadata": {},
   "outputs": [],
   "source": [
    "%te abar_Z2(b_<X,X1>(c_X))"
   ]
  },
  {
   "cell_type": "code",
   "execution_count": null,
   "id": "7d63cf7e-57f2-418b-bc5f-f5f383692c5b",
   "metadata": {},
   "outputs": [],
   "source": []
  }
 ],
 "metadata": {
  "kernelspec": {
   "display_name": "Lambda Notebook (Python 3)",
   "language": "python",
   "name": "lambda-notebook"
  },
  "language_info": {
   "codemirror_mode": {
    "name": "ipython",
    "version": 3
   },
   "file_extension": ".py",
   "mimetype": "text/x-python",
   "name": "python",
   "nbconvert_exporter": "python",
   "pygments_lexer": "ipython3",
   "version": "3.12.8"
  }
 },
 "nbformat": 4,
 "nbformat_minor": 5
}
