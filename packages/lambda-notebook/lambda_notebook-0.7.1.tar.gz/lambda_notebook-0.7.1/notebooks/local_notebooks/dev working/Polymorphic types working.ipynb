{
 "cells": [
  {
   "cell_type": "code",
   "execution_count": 1,
   "metadata": {
    "collapsed": false,
    "jupyter": {
     "outputs_hidden": false
    }
   },
   "outputs": [],
   "source": [
    "reload_lamb()\n",
    "ts = types.poly_system"
   ]
  },
  {
   "cell_type": "code",
   "execution_count": 2,
   "metadata": {
    "collapsed": false,
    "jupyter": {
     "outputs_hidden": false
    }
   },
   "outputs": [
    {
     "data": {
      "text/latex": [
       "$I_{13}$"
      ],
      "text/plain": [
       "I13"
      ]
     },
     "execution_count": 2,
     "metadata": {},
     "output_type": "execute_result"
    }
   ],
   "source": [
    "types.VariableType.fresh()"
   ]
  },
  {
   "cell_type": "code",
   "execution_count": 3,
   "metadata": {
    "collapsed": false,
    "jupyter": {
     "outputs_hidden": false
    }
   },
   "outputs": [
    {
     "data": {
      "text/latex": [
       "${f}_{\\left\\langle{}n,\\left\\langle{}\\left\\langle{}Y',Y'\\right\\rangle{},t\\right\\rangle{}\\right\\rangle{}}({N}_{n})(\\lambda{} f1_{Y'} \\: . \\: {F}_{Y'})$"
      ],
      "text/plain": [
       "f_<n,<<Y1,Y1>,t>>(N_n)(λ f1_Y1: F_Y1)"
      ]
     },
     "execution_count": 3,
     "metadata": {},
     "output_type": "execute_result"
    }
   ],
   "source": [
    "te(\"f_<n,<<Y1,Y1>,t>>(N_n)((λ f1_Y1: F_Y))\") #.get_type_env()"
   ]
  },
  {
   "cell_type": "code",
   "execution_count": 4,
   "metadata": {
    "collapsed": false,
    "jupyter": {
     "outputs_hidden": false
    }
   },
   "outputs": [
    {
     "data": {
      "text/latex": [
       "$\\lambda{} f1_{Y} \\: . \\: {F}_{Y}$"
      ],
      "text/plain": [
       "(λ f1_Y: F_Y)"
      ]
     },
     "execution_count": 4,
     "metadata": {},
     "output_type": "execute_result"
    }
   ],
   "source": [
    "te(\"L f1_Y1: F_Y\").try_adjust_type(tp(\"<Y,Y>\")) #.get_type_env()"
   ]
  },
  {
   "cell_type": "code",
   "execution_count": 5,
   "metadata": {
    "collapsed": false,
    "jupyter": {
     "outputs_hidden": false
    }
   },
   "outputs": [
    {
     "data": {
      "text/markdown": [
       "${f}_{\\left\\langle{}e,e\\right\\rangle{}}\\:=\\:\\lambda{} x_{e} \\: . \\: {Q}_{\\left\\langle{}e,e\\right\\rangle{}}({x})$"
      ],
      "text/plain": [
       "f_<e,e> = (λ x_e: Q_<e,e>(x_e))"
      ]
     },
     "metadata": {},
     "output_type": "display_data"
    }
   ],
   "source": [
    "%%lamb\n",
    "f = L x_e : Q_<X,X>(x_X)"
   ]
  },
  {
   "cell_type": "code",
   "execution_count": 6,
   "metadata": {
    "collapsed": false,
    "jupyter": {
     "outputs_hidden": false
    }
   },
   "outputs": [
    {
     "data": {
      "text/html": [
       "<table><tr><td>Term mappings:&nbsp;&nbsp; </td><td>{'Q': $\\left\\langle{}e,e\\right\\rangle{}$}</td></tr><tr><td>Type mappings:&nbsp;&nbsp; </td><td>{}</td></tr><tr><td>Type variables:&nbsp;&nbsp; </td><td>{}</td></tr></table>"
      ],
      "text/plain": [
       "[TypeEnv: Terms: {'Q': <e,e>}, Type mapping: {}, Type variables: set()]"
      ]
     },
     "execution_count": 6,
     "metadata": {},
     "output_type": "execute_result"
    }
   ],
   "source": [
    "f.get_type_env()"
   ]
  },
  {
   "cell_type": "code",
   "execution_count": 7,
   "metadata": {
    "collapsed": false,
    "jupyter": {
     "outputs_hidden": false
    }
   },
   "outputs": [
    {
     "data": {
      "text/latex": [
       "${Q}_{\\left\\langle{}e,e\\right\\rangle{}}({x}_{e})$"
      ],
      "text/plain": [
       "Q_<e,e>(x_e)"
      ]
     },
     "execution_count": 7,
     "metadata": {},
     "output_type": "execute_result"
    }
   ],
   "source": [
    "test = %te Q_<X,X>(x_e)\n",
    "test"
   ]
  },
  {
   "cell_type": "code",
   "execution_count": 8,
   "metadata": {
    "collapsed": false,
    "jupyter": {
     "outputs_hidden": false
    }
   },
   "outputs": [
    {
     "data": {
      "text/latex": [
       "$e$"
      ],
      "text/plain": [
       "e"
      ]
     },
     "execution_count": 8,
     "metadata": {},
     "output_type": "execute_result"
    }
   ],
   "source": [
    "test.type"
   ]
  },
  {
   "cell_type": "code",
   "execution_count": 9,
   "metadata": {
    "collapsed": false,
    "jupyter": {
     "outputs_hidden": false
    }
   },
   "outputs": [
    {
     "data": {
      "text/latex": [
       "${Q}_{\\left\\langle{}e,X\\right\\rangle{}}({x}_{e})$"
      ],
      "text/plain": [
       "Q_<e,X>(x_e)"
      ]
     },
     "execution_count": 9,
     "metadata": {},
     "output_type": "execute_result"
    }
   ],
   "source": [
    "%te Q_X(x_e)"
   ]
  },
  {
   "cell_type": "code",
   "execution_count": 10,
   "metadata": {
    "collapsed": false,
    "jupyter": {
     "outputs_hidden": false
    }
   },
   "outputs": [
    {
     "data": {
      "text/latex": [
       "${[\\lambda{} x_{e} \\: . \\: {P}_{\\left\\langle{}e,e\\right\\rangle{}}({x})]}({x}_{e})$"
      ],
      "text/plain": [
       "(λ x_e: P_<e,e>(x_e))(x_e)"
      ]
     },
     "execution_count": 10,
     "metadata": {},
     "output_type": "execute_result"
    }
   ],
   "source": [
    "test2 = te(\"(L x_X : P_<X,X>(x))(x_e)\")\n",
    "test2"
   ]
  },
  {
   "cell_type": "code",
   "execution_count": 11,
   "metadata": {
    "collapsed": false,
    "jupyter": {
     "outputs_hidden": false
    }
   },
   "outputs": [
    {
     "data": {
      "text/html": [
       "<div align=\"left\" style=\"display:table;\"><div style=\"display:table-cell;vertical-align:top;padding-left:5px;padding-right:5px;padding-top:0.2em\"><div style=\"display:table;\"><div style=\"display:table-row;vertical-align:top;\"><div align=\"left\" style=\"display:table;border-collapse:collapse;\"><div style=\"display:table-row;border-bottom:1px solid #848482;\"><div style=\"display:table-cell;padding:0.2em 5px 0.2em 0px;vertical-align:top;\"></div><div style=\"display:table-cell;vertical-align:top;border-right:1px solid #848482;padding-right:5px;;padding-top:0.2em\"><div style=\"display:inline-block;\"><span>${[\\lambda{} x_{X} \\: . \\: {P}_{\\left\\langle{}X,X\\right\\rangle{}}({x})]}({x}_{e})$</span></div></div><div style=\"display:table-cell;vertical-align:top;padding-left:5px;padding-right:5px;padding-top:0.2em\"><div style=\"display:table;\"><div style=\"display:table-row;\"><div style=\"white-space:nowrap; color:blue;\"><span>Type inference</span></div></div></div></div></div><div style=\"display:table-row;\"><div style=\"display:table-cell;padding:0.2em 5px 0.2em 0px;vertical-align:top;\"> 1. </div><div style=\"display:table-cell;vertical-align:top;border-right:1px solid #848482;padding-right:5px;;padding-top:0.2em\"><div style=\"display:inline-block;\"><span>${[\\lambda{} x_{e} \\: . \\: {P}_{\\left\\langle{}e,e\\right\\rangle{}}({x})]}({x}_{e})$</span></div></div></div></div></div></div></div></div>"
      ],
      "text/plain": [
       " 1. (λ x_X: P_<X,X>(x_X))(x_e)    (Type inference)\n",
       " 2. (λ x_e: P_<e,e>(x_e))(x_e)"
      ]
     },
     "execution_count": 11,
     "metadata": {},
     "output_type": "execute_result"
    }
   ],
   "source": [
    "test2.derivation"
   ]
  },
  {
   "cell_type": "code",
   "execution_count": 12,
   "metadata": {
    "collapsed": false,
    "jupyter": {
     "outputs_hidden": false
    }
   },
   "outputs": [
    {
     "data": {
      "text/latex": [
       "${P}({x}_{e}) \\wedge{} {Q}({x}_{e})$"
      ],
      "text/plain": [
       "(P_<e,t>(x_e) ∧ Q_<e,t>(x_e))"
      ]
     },
     "execution_count": 12,
     "metadata": {},
     "output_type": "execute_result"
    }
   ],
   "source": [
    "%te P_<e,t>(x_X) & Q_<X,Y>(x_X)"
   ]
  },
  {
   "cell_type": "code",
   "execution_count": 13,
   "metadata": {
    "collapsed": false,
    "jupyter": {
     "outputs_hidden": false
    }
   },
   "outputs": [
    {
     "data": {
      "text/latex": [
       "${p}_{t} \\wedge{} {Q}_{\\left\\langle{}t,t\\right\\rangle{}}({x}_{t})$"
      ],
      "text/plain": [
       "(p_t ∧ Q_<t,t>(x_t))"
      ]
     },
     "execution_count": 13,
     "metadata": {},
     "output_type": "execute_result"
    }
   ],
   "source": [
    "%te p_t & Q_<X,X>(x_X)"
   ]
  },
  {
   "cell_type": "code",
   "execution_count": 14,
   "metadata": {
    "collapsed": false,
    "jupyter": {
     "outputs_hidden": false
    }
   },
   "outputs": [
    {
     "data": {
      "text/latex": [
       "${Q}_{\\left\\langle{}X,X\\right\\rangle{}}({x}_{X})$"
      ],
      "text/plain": [
       "Q_<X,X>(x_X)"
      ]
     },
     "execution_count": 14,
     "metadata": {},
     "output_type": "execute_result"
    }
   ],
   "source": [
    "test3 = %te Q_<X,X>(x_X)\n",
    "test3"
   ]
  },
  {
   "cell_type": "code",
   "execution_count": 15,
   "metadata": {
    "collapsed": false,
    "jupyter": {
     "outputs_hidden": false
    }
   },
   "outputs": [
    {
     "data": {
      "text/latex": [
       "${f}_{\\left\\langle{}t,t\\right\\rangle{}}({p}_{\\left\\langle{}t,t\\right\\rangle{}}({Q}_{\\left\\langle{}t,t\\right\\rangle{}}({x}_{t})))$"
      ],
      "text/plain": [
       "f_<t,t>(p_<t,t>(Q_<t,t>(x_t)))"
      ]
     },
     "execution_count": 15,
     "metadata": {},
     "output_type": "execute_result"
    }
   ],
   "source": [
    "test4 = %te (f_<t,t>(p_<X,X>(Q_<X,X>(x_X))))\n",
    "test4"
   ]
  },
  {
   "cell_type": "code",
   "execution_count": 16,
   "metadata": {
    "collapsed": false,
    "jupyter": {
     "outputs_hidden": false
    }
   },
   "outputs": [
    {
     "data": {
      "text/latex": [
       "${p}_{\\left\\langle{}t,t\\right\\rangle{}}({x}_{t})$"
      ],
      "text/plain": [
       "p_<t,t>(x_t)"
      ]
     },
     "execution_count": 16,
     "metadata": {},
     "output_type": "execute_result"
    }
   ],
   "source": [
    "%te (p_<t,t>(x_X))"
   ]
  },
  {
   "cell_type": "code",
   "execution_count": 17,
   "metadata": {
    "collapsed": false,
    "jupyter": {
     "outputs_hidden": false
    }
   },
   "outputs": [],
   "source": [
    "reload_lamb()"
   ]
  },
  {
   "cell_type": "code",
   "execution_count": 18,
   "metadata": {
    "collapsed": false,
    "jupyter": {
     "outputs_hidden": false
    }
   },
   "outputs": [
    {
     "data": {
      "text/latex": [
       "${f}_{\\left\\langle{}\\left\\langle{}X,Y\\right\\rangle{},\\left\\langle{}Y,X\\right\\rangle{}\\right\\rangle{}}$"
      ],
      "text/plain": [
       "f_<<X,Y>,<Y,X>>"
      ]
     },
     "execution_count": 18,
     "metadata": {},
     "output_type": "execute_result"
    }
   ],
   "source": [
    "%te f_<<X,Y>,<Y,X>>"
   ]
  },
  {
   "cell_type": "code",
   "execution_count": 19,
   "metadata": {
    "collapsed": false,
    "jupyter": {
     "outputs_hidden": false
    }
   },
   "outputs": [
    {
     "data": {
      "text/latex": [
       "${f}_{\\left\\langle{}\\left\\langle{}Y,Y\\right\\rangle{},\\left\\langle{}Y,Y\\right\\rangle{}\\right\\rangle{}}({g}_{\\left\\langle{}Y,Y\\right\\rangle{}})$"
      ],
      "text/plain": [
       "f_<<Y,Y>,<Y,Y>>(g_<Y,Y>)"
      ]
     },
     "execution_count": 19,
     "metadata": {},
     "output_type": "execute_result"
    }
   ],
   "source": [
    "x = %te (f_<<X,Y>,<X,Y>>(g_<X,X>))\n",
    "x"
   ]
  },
  {
   "cell_type": "code",
   "execution_count": 20,
   "metadata": {
    "collapsed": false,
    "jupyter": {
     "outputs_hidden": false
    }
   },
   "outputs": [
    {
     "data": {
      "text/latex": [
       "${g}_{e}$"
      ],
      "text/plain": [
       "g_e"
      ]
     },
     "execution_count": 20,
     "metadata": {},
     "output_type": "execute_result"
    }
   ],
   "source": [
    "x = %te g_X\n",
    "x.try_adjust_type(tp(\"e\"))"
   ]
  },
  {
   "cell_type": "code",
   "execution_count": 21,
   "metadata": {
    "collapsed": false,
    "jupyter": {
     "outputs_hidden": false
    }
   },
   "outputs": [
    {
     "data": {
      "text/latex": [
       "${f}_{\\left\\langle{}\\left\\langle{}Y,Y\\right\\rangle{},\\left\\langle{}Y,Y\\right\\rangle{}\\right\\rangle{}}({g}_{\\left\\langle{}Y,Y\\right\\rangle{}})$"
      ],
      "text/plain": [
       "f_<<Y,Y>,<Y,Y>>(g_<Y,Y>)"
      ]
     },
     "execution_count": 21,
     "metadata": {},
     "output_type": "execute_result"
    }
   ],
   "source": [
    "%te f_<<X,Y>,<Y,X>>(g_<X,X>)"
   ]
  },
  {
   "cell_type": "code",
   "execution_count": 22,
   "metadata": {
    "collapsed": false,
    "jupyter": {
     "outputs_hidden": false
    }
   },
   "outputs": [],
   "source": [
    "reload_lamb()"
   ]
  },
  {
   "cell_type": "code",
   "execution_count": 23,
   "metadata": {
    "collapsed": false,
    "jupyter": {
     "outputs_hidden": false
    }
   },
   "outputs": [
    {
     "data": {
      "text/latex": [
       "${P}_{\\left\\langle{}\\left\\langle{}Y,Y\\right\\rangle{},\\left\\langle{}Y,Y\\right\\rangle{}\\right\\rangle{}}({g}_{\\left\\langle{}Y,Y\\right\\rangle{}})$"
      ],
      "text/plain": [
       "P_<<Y,Y>,<Y,Y>>(g_<Y,Y>)"
      ]
     },
     "execution_count": 23,
     "metadata": {},
     "output_type": "execute_result"
    }
   ],
   "source": [
    "%te P_<<X,Y>,<X,Y>>(g_<X,X>)"
   ]
  },
  {
   "cell_type": "code",
   "execution_count": 24,
   "metadata": {
    "collapsed": false,
    "jupyter": {
     "outputs_hidden": false
    }
   },
   "outputs": [
    {
     "data": {
      "text/html": [
       "<table><tr><td>Term mappings:&nbsp;&nbsp; </td><td>{}</td></tr><tr><td>Type mappings:&nbsp;&nbsp; </td><td>{$X$: $Y$}</td></tr><tr><td>Type variables:&nbsp;&nbsp; </td><td>{$Y$, $X$}</td></tr></table>"
      ],
      "text/plain": [
       "[TypeEnv: Terms: {}, Type mapping: {X: Y}, Type variables: {Y, X}]"
      ]
     },
     "execution_count": 24,
     "metadata": {},
     "output_type": "execute_result"
    }
   ],
   "source": [
    "a = te(\"(L f2_<X,Y> : f2_<X,Y>)\", let=False).try_adjust_type(tp(\"<<Y,Y>,<Y,Y>>\"))\n",
    "a.get_type_env()"
   ]
  },
  {
   "cell_type": "code",
   "execution_count": null,
   "metadata": {
    "collapsed": false,
    "jupyter": {
     "outputs_hidden": false
    }
   },
   "outputs": [],
   "source": []
  },
  {
   "cell_type": "code",
   "execution_count": null,
   "metadata": {
    "collapsed": true,
    "jupyter": {
     "outputs_hidden": true
    }
   },
   "outputs": [],
   "source": []
  },
  {
   "cell_type": "code",
   "execution_count": 25,
   "metadata": {
    "collapsed": false,
    "jupyter": {
     "outputs_hidden": false
    }
   },
   "outputs": [
    {
     "data": {
      "text/latex": [
       "${g}_{\\left\\langle{}X,X\\right\\rangle{}}$"
      ],
      "text/plain": [
       "g_<X,X>"
      ]
     },
     "execution_count": 25,
     "metadata": {},
     "output_type": "execute_result"
    }
   ],
   "source": [
    "a = te(\"g_<X,X>\", let=False)\n",
    "a"
   ]
  },
  {
   "cell_type": "code",
   "execution_count": 26,
   "metadata": {
    "collapsed": false,
    "jupyter": {
     "outputs_hidden": false
    }
   },
   "outputs": [
    {
     "data": {
      "text/latex": [
       "${[\\lambda{} f_{\\left\\langle{}Y,Y\\right\\rangle{}} \\: . \\: \\lambda{} x_{Y} \\: . \\: {y}_{Y}]}({g}_{\\left\\langle{}Y,Y\\right\\rangle{}})$"
      ],
      "text/plain": [
       "(λ f_<Y,Y>: (λ x_Y: y_Y))(g_<Y,Y>)"
      ]
     },
     "execution_count": 26,
     "metadata": {},
     "output_type": "execute_result"
    }
   ],
   "source": [
    "%te (L f_<X,Y> : L x_X: y_Y)(g_<Z,Z>)"
   ]
  },
  {
   "cell_type": "code",
   "execution_count": 27,
   "metadata": {
    "collapsed": false,
    "jupyter": {
     "outputs_hidden": false
    }
   },
   "outputs": [
    {
     "data": {
      "text/latex": [
       "${[\\lambda{} f_{\\left\\langle{}Y,Y\\right\\rangle{}} \\: . \\: {p}_{Y}]}({g}_{\\left\\langle{}Y,Y\\right\\rangle{}})$"
      ],
      "text/plain": [
       "(λ f_<Y,Y>: p_Y)(g_<Y,Y>)"
      ]
     },
     "execution_count": 27,
     "metadata": {},
     "output_type": "execute_result"
    }
   ],
   "source": [
    "%te (L f_<X,Y> : p_X)(g_<X,X>)"
   ]
  },
  {
   "cell_type": "code",
   "execution_count": 28,
   "metadata": {
    "collapsed": false,
    "jupyter": {
     "outputs_hidden": false
    }
   },
   "outputs": [
    {
     "data": {
      "text/latex": [
       "${f}_{\\left\\langle{}\\left\\langle{}Y,Y\\right\\rangle{},Y\\right\\rangle{}}({g}_{\\left\\langle{}Y,Y\\right\\rangle{}})$"
      ],
      "text/plain": [
       "f_<<Y,Y>,Y>(g_<Y,Y>)"
      ]
     },
     "execution_count": 28,
     "metadata": {},
     "output_type": "execute_result"
    }
   ],
   "source": [
    "%te f_<<X,Y>,X>(g_<X,X>)"
   ]
  },
  {
   "cell_type": "code",
   "execution_count": 29,
   "metadata": {
    "collapsed": false,
    "jupyter": {
     "outputs_hidden": false
    }
   },
   "outputs": [
    {
     "data": {
      "text/markdown": [
       "<span style=\"color:red\">**TypeMismatch**</span>: type $\\left\\langle{}n,t\\right\\rangle{}$ and type $\\left\\langle{}e,t\\right\\rangle{}$ conflict (instances of term `P` have distinct types)"
      ],
      "text/plain": [
       "TypeMismatch: type `<n,t>` and type `<e,t>` conflict (instances of term `P` have distinct types)"
      ]
     },
     "metadata": {},
     "output_type": "display_data"
    }
   ],
   "source": [
    "%te P_<e,t>(x_e) & P_<n,t>(n_n)"
   ]
  },
  {
   "cell_type": "code",
   "execution_count": 30,
   "metadata": {
    "collapsed": false,
    "jupyter": {
     "outputs_hidden": false
    }
   },
   "outputs": [
    {
     "data": {
      "text/markdown": [
       "<span style=\"color:red\">**TypeMismatch**</span>: type $\\left\\langle{}n,t\\right\\rangle{}$ and type $\\left\\langle{}e,t\\right\\rangle{}$ conflict (instances of term `P` have distinct types)"
      ],
      "text/plain": [
       "TypeMismatch: type `<n,t>` and type `<e,t>` conflict (instances of term `P` have distinct types)"
      ]
     },
     "metadata": {},
     "output_type": "display_data"
    }
   ],
   "source": [
    "test5 = %te P_<e,t>(x_e) & P_<n,t>(n_n)\n",
    "test5"
   ]
  },
  {
   "cell_type": "code",
   "execution_count": 31,
   "metadata": {
    "collapsed": false,
    "jupyter": {
     "outputs_hidden": false
    }
   },
   "outputs": [
    {
     "data": {
      "text/latex": [
       "${p}_{\\left\\langle{}e,t\\right\\rangle{}}({x}_{e}) \\wedge{} {p}_{\\left\\langle{}e,t\\right\\rangle{}}({n}_{e})$"
      ],
      "text/plain": [
       "(p_<e,t>(x_e) ∧ p_<e,t>(n_e))"
      ]
     },
     "execution_count": 31,
     "metadata": {},
     "output_type": "execute_result"
    }
   ],
   "source": [
    "test6 = %te p_<e,t>(x_e) & p_<X,t>(n_X)\n",
    "test6"
   ]
  },
  {
   "cell_type": "code",
   "execution_count": null,
   "metadata": {
    "collapsed": false,
    "jupyter": {
     "outputs_hidden": false
    }
   },
   "outputs": [],
   "source": []
  },
  {
   "cell_type": "code",
   "execution_count": 32,
   "metadata": {
    "collapsed": false,
    "jupyter": {
     "outputs_hidden": false
    }
   },
   "outputs": [],
   "source": [
    "reload_lamb()"
   ]
  },
  {
   "cell_type": "code",
   "execution_count": 33,
   "metadata": {
    "collapsed": false,
    "jupyter": {
     "outputs_hidden": false
    }
   },
   "outputs": [
    {
     "data": {
      "text/markdown": [
       "${f}_{\\left\\langle{}e,t\\right\\rangle{}}\\:=\\:\\lambda{} x_{e} \\: . \\: {P}({x}) \\wedge{} {Q}({x})$"
      ],
      "text/plain": [
       "f_<e,t> = (λ x_e: (P_<e,t>(x_e) & Q_<e,t>(x_e)))"
      ]
     },
     "metadata": {},
     "output_type": "display_data"
    }
   ],
   "source": [
    "%%lamb\n",
    "f = L x_X : P_<e,t>(x_X) & Q_<X,Y>(x_X)"
   ]
  },
  {
   "cell_type": "code",
   "execution_count": 34,
   "metadata": {
    "collapsed": false,
    "jupyter": {
     "outputs_hidden": false
    }
   },
   "outputs": [
    {
     "data": {
      "text/html": [
       "<table><tr><td>Term mappings:&nbsp;&nbsp; </td><td>{'P': $\\left\\langle{}e,t\\right\\rangle{}$, 'Q': $\\left\\langle{}e,t\\right\\rangle{}$}</td></tr><tr><td>Type mappings:&nbsp;&nbsp; </td><td>{}</td></tr><tr><td>Type variables:&nbsp;&nbsp; </td><td>{}</td></tr></table>"
      ],
      "text/plain": [
       "[TypeEnv: Terms: {'P': <e,t>, 'Q': <e,t>}, Type mapping: {}, Type variables: set()]"
      ]
     },
     "execution_count": 34,
     "metadata": {},
     "output_type": "execute_result"
    }
   ],
   "source": [
    "f.get_type_env()"
   ]
  },
  {
   "cell_type": "code",
   "execution_count": 35,
   "metadata": {
    "collapsed": false,
    "jupyter": {
     "outputs_hidden": false
    }
   },
   "outputs": [
    {
     "data": {
      "text/latex": [
       "$\\lambda{} x_{e} \\: . \\: {P}({x}) \\wedge{} {Q}({x})$"
      ],
      "text/plain": [
       "(λ x_e: (P_<e,t>(x_e) & Q_<e,t>(x_e)))"
      ]
     },
     "execution_count": 35,
     "metadata": {},
     "output_type": "execute_result"
    }
   ],
   "source": [
    "f = te(\"L x_X : P_<e,t>(x_X) & Q_<X,Y>(x_X)\", let=False)\n",
    "f"
   ]
  },
  {
   "cell_type": "code",
   "execution_count": 36,
   "metadata": {
    "collapsed": false,
    "jupyter": {
     "outputs_hidden": false
    }
   },
   "outputs": [
    {
     "data": {
      "text/markdown": [
       "<span style=\"color:red\">**ParseError**</span>: Binding operator parse error, in string `L x_X : P_<e,t>(x_X) & Q_<X,X>(x_X)`<br />&nbsp;&nbsp;&nbsp;&nbsp;<span style=\"color:red\">**TypeMismatch**</span>: type $e$ and type $t$ conflict (Failed to ensure body type `t` for operator class `Lambda`)"
      ],
      "text/plain": [
       "ParseError: Binding operator parse error, in string `L x_X : P_<e,t>(x_X) & Q_<X,X>(x_X)`: TypeMismatch: type `e` and type `t` conflict (Failed to ensure body type `t` for operator class `Lambda`)"
      ]
     },
     "metadata": {},
     "output_type": "display_data"
    },
    {
     "data": {
      "text/markdown": [
       "<i>(Empty lexicon)</i>"
      ],
      "text/plain": [
       "<i>(Empty lexicon)</i>"
      ]
     },
     "metadata": {},
     "output_type": "display_data"
    }
   ],
   "source": [
    "%%lamb\n",
    "f2 = L x_X : P_<e,t>(x_X) & Q_<X,X>(x_X)"
   ]
  },
  {
   "cell_type": "code",
   "execution_count": 37,
   "metadata": {
    "collapsed": false,
    "jupyter": {
     "outputs_hidden": false
    }
   },
   "outputs": [
    {
     "data": {
      "text/latex": [
       "$\\lambda{} x_{e} \\: . \\: {P}({x}) \\wedge{} {Q}({x})$"
      ],
      "text/plain": [
       "(λ x_e: (P_<e,t>(x_e) & Q_<e,t>(x_e)))"
      ]
     },
     "execution_count": 37,
     "metadata": {},
     "output_type": "execute_result"
    }
   ],
   "source": [
    "%te L x_X : P_<e,t>(x_X) & Q_<X,Y>(x_X)"
   ]
  },
  {
   "cell_type": "code",
   "execution_count": 38,
   "metadata": {
    "collapsed": false,
    "jupyter": {
     "outputs_hidden": false
    }
   },
   "outputs": [
    {
     "data": {
      "text/latex": [
       "${P}({x}_{e})$"
      ],
      "text/plain": [
       "P_<e,t>(x_e)"
      ]
     },
     "execution_count": 38,
     "metadata": {},
     "output_type": "execute_result"
    }
   ],
   "source": [
    "a = te(\"P_<e,t>(x_X)\")\n",
    "a"
   ]
  },
  {
   "cell_type": "code",
   "execution_count": 39,
   "metadata": {
    "collapsed": false,
    "jupyter": {
     "outputs_hidden": false
    }
   },
   "outputs": [],
   "source": [
    "reload_lamb()"
   ]
  },
  {
   "cell_type": "code",
   "execution_count": 40,
   "metadata": {
    "collapsed": false,
    "jupyter": {
     "outputs_hidden": false
    }
   },
   "outputs": [
    {
     "data": {
      "text/latex": [
       "$\\lambda{} x_{\\left\\langle{}e,Z\\right\\rangle{}} \\: . \\: {[\\lambda{} y_{\\left\\langle{}e,Z\\right\\rangle{}} \\: . \\: {y}({z}_{e})]}({x})$"
      ],
      "text/plain": [
       "(λ x_<e,Z>: (λ y_<e,Z>: y_<e,Z>(z_e))(x_<e,Z>))"
      ]
     },
     "execution_count": 40,
     "metadata": {},
     "output_type": "execute_result"
    }
   ],
   "source": [
    "%te L x_X : (L y_<Y,Z> : y(z_e))(x)"
   ]
  },
  {
   "cell_type": "code",
   "execution_count": 41,
   "metadata": {
    "collapsed": false,
    "jupyter": {
     "outputs_hidden": false
    }
   },
   "outputs": [
    {
     "name": "stdout",
     "output_type": "stream",
     "text": [
      "CPU times: user 2.79 ms, sys: 109 µs, total: 2.9 ms\n",
      "Wall time: 2.92 ms\n"
     ]
    },
    {
     "data": {
      "text/latex": [
       "$\\lambda{} f_{\\left\\langle{}\\left\\langle{}e,t\\right\\rangle{},t\\right\\rangle{}} \\: . \\: \\lambda{} g_{\\left\\langle{}e,\\left\\langle{}e,t\\right\\rangle{}\\right\\rangle{}} \\: . \\: \\lambda{} x_{e} \\: . \\: {f}(\\lambda{} y_{e} \\: . \\: {g}({y})({x}))$"
      ],
      "text/plain": [
       "(λ f_<<e,t>,t>: (λ g_<e,<e,t>>: (λ x_e: f_<<e,t>,t>(λ y_e: g_<e,<e,t>>(y_e)(x_e)))))"
      ]
     },
     "execution_count": 41,
     "metadata": {},
     "output_type": "execute_result"
    }
   ],
   "source": [
    "%time te(\"L f_<<e,t>,t> : L g_<e,<e,t>> : L x_e : f(L y_e : g(y)(x))\")"
   ]
  },
  {
   "cell_type": "code",
   "execution_count": 42,
   "metadata": {
    "collapsed": false,
    "jupyter": {
     "outputs_hidden": false
    }
   },
   "outputs": [
    {
     "name": "stdout",
     "output_type": "stream",
     "text": [
      "CPU times: user 5.15 ms, sys: 297 µs, total: 5.45 ms\n",
      "Wall time: 5.46 ms\n"
     ]
    },
    {
     "data": {
      "text/latex": [
       "$\\lambda{} p_{t} \\: . \\: \\lambda{} g_{\\left\\langle{}e,\\left\\langle{}e,X\\right\\rangle{}\\right\\rangle{}} \\: . \\: \\lambda{} x_{e} \\: . \\: {f}_{\\left\\langle{}\\left\\langle{}e,X\\right\\rangle{},t\\right\\rangle{}}(\\lambda{} y_{e} \\: . \\: {g}({y})({x})) \\wedge{} {p}$"
      ],
      "text/plain": [
       "(λ p_t: (λ g_<e,<e,X>>: (λ x_e: (f_<<e,X>,t>(λ y_e: g_<e,<e,X>>(y_e)(x_e)) & p_t))))"
      ]
     },
     "execution_count": 42,
     "metadata": {},
     "output_type": "execute_result"
    }
   ],
   "source": [
    "%time te(\"L p_t : L g_Y : L x_e : f_X(L y_e : g(y)(x)) & p\")"
   ]
  },
  {
   "cell_type": "code",
   "execution_count": 56,
   "metadata": {
    "collapsed": false,
    "jupyter": {
     "outputs_hidden": false
    }
   },
   "outputs": [],
   "source": [
    "reload_lamb()"
   ]
  },
  {
   "cell_type": "code",
   "execution_count": 57,
   "metadata": {
    "collapsed": false,
    "jupyter": {
     "outputs_hidden": false
    }
   },
   "outputs": [
    {
     "data": {
      "text/latex": [
       "$\\lambda{} d_{t} \\: . \\: \\lambda{} c_{t} \\: . \\: {c} \\wedge{} {d}$"
      ],
      "text/plain": [
       "(λ d_t: (λ c_t: (c_t & d_t)))"
      ]
     },
     "execution_count": 57,
     "metadata": {},
     "output_type": "execute_result"
    }
   ],
   "source": [
    "te(\"L d_t : L c_t :c & d\")"
   ]
  },
  {
   "cell_type": "code",
   "execution_count": 58,
   "metadata": {
    "collapsed": false,
    "jupyter": {
     "outputs_hidden": false
    }
   },
   "outputs": [
    {
     "name": "stdout",
     "output_type": "stream",
     "text": [
      "CPU times: user 2.62 ms, sys: 44 µs, total: 2.66 ms\n",
      "Wall time: 2.75 ms\n"
     ]
    },
    {
     "data": {
      "text/latex": [
       "$\\lambda{} d_{t} \\: . \\: \\lambda{} c_{t} \\: . \\: \\lambda{} b_{t} \\: . \\: \\lambda{} a_{t} \\: . \\: \\lambda{} q_{t} \\: . \\: \\lambda{} p_{t} \\: . \\: {p} \\wedge{} {q} \\wedge{} {a} \\wedge{} {b} \\wedge{} {c} \\wedge{} {d}$"
      ],
      "text/plain": [
       "(λ d_t: (λ c_t: (λ b_t: (λ a_t: (λ q_t: (λ p_t: (((((p_t & q_t) & a_t) & b_t) & c_t) & d_t)))))))"
      ]
     },
     "execution_count": 58,
     "metadata": {},
     "output_type": "execute_result"
    }
   ],
   "source": [
    "%time te(\"L d_t : L c_t : L b_t : L a_t : L q_t : L p_t : p & q & a & b & c & d\")"
   ]
  },
  {
   "cell_type": "code",
   "execution_count": 59,
   "metadata": {
    "collapsed": false,
    "jupyter": {
     "outputs_hidden": false
    }
   },
   "outputs": [
    {
     "data": {
      "text/latex": [
       "$\\lambda{} a_{\\left\\langle{}X',X\\right\\rangle{}} \\: . \\: \\lambda{} b_{X'} \\: . \\: {a}({b})$"
      ],
      "text/plain": [
       "(λ a_<X1,X>: (λ b_X1: a_<X1,X>(b_X1)))"
      ]
     },
     "execution_count": 59,
     "metadata": {},
     "output_type": "execute_result"
    }
   ],
   "source": [
    "%te L a_X : L b_X' : a(b)"
   ]
  },
  {
   "cell_type": "code",
   "execution_count": 60,
   "metadata": {
    "collapsed": false,
    "jupyter": {
     "outputs_hidden": false
    }
   },
   "outputs": [
    {
     "data": {
      "text/latex": [
       "$\\lambda{} a_{\\left\\langle{}X,X'\\right\\rangle{}} \\: . \\: \\lambda{} b_{\\left\\langle{}X'',X\\right\\rangle{}} \\: . \\: \\lambda{} c_{X''} \\: . \\: {a}({b}({c}))$"
      ],
      "text/plain": [
       "(λ a_<X,X1>: (λ b_<X2,X>: (λ c_X2: a_<X,X1>(b_<X2,X>(c_X2)))))"
      ]
     },
     "execution_count": 60,
     "metadata": {},
     "output_type": "execute_result"
    }
   ],
   "source": [
    "x = %te L a_X : L b_X' : L c_X'' : a(b(c))\n",
    "x"
   ]
  },
  {
   "cell_type": "code",
   "execution_count": 61,
   "metadata": {
    "collapsed": false,
    "jupyter": {
     "outputs_hidden": false
    }
   },
   "outputs": [
    {
     "data": {
      "text/latex": [
       "$\\lambda{} a_{\\left\\langle{}X',X\\right\\rangle{}} \\: . \\: \\lambda{} c_{X'} \\: . \\: {a}({[\\lambda{} b_{X'} \\: . \\: {b}]}({c}))$"
      ],
      "text/plain": [
       "(λ a_<X1,X>: (λ c_X1: a_<X1,X>((λ b_X1: b_X1)(c_X1))))"
      ]
     },
     "execution_count": 61,
     "metadata": {},
     "output_type": "execute_result"
    }
   ],
   "source": [
    "x = %te L a_X : L c_X'' : a((L b_X' : b)(c))\n",
    "x"
   ]
  },
  {
   "cell_type": "code",
   "execution_count": 62,
   "metadata": {
    "collapsed": false,
    "jupyter": {
     "outputs_hidden": false
    }
   },
   "outputs": [
    {
     "data": {
      "text/latex": [
       "$\\left\\langle{}\\left\\langle{}X',X\\right\\rangle{},\\left\\langle{}X',X\\right\\rangle{}\\right\\rangle{}$"
      ],
      "text/plain": [
       "<<X1,X>,<X1,X>>"
      ]
     },
     "execution_count": 62,
     "metadata": {},
     "output_type": "execute_result"
    }
   ],
   "source": [
    "x.type"
   ]
  },
  {
   "cell_type": "code",
   "execution_count": 63,
   "metadata": {
    "collapsed": false,
    "jupyter": {
     "outputs_hidden": false
    }
   },
   "outputs": [
    {
     "data": {
      "text/latex": [
       "$\\lambda{} x_{\\left\\langle{}X_{11},?_{22}\\right\\rangle{}} \\: . \\: \\lambda{} y_{X_{11}} \\: . \\: {x}({y})$"
      ],
      "text/plain": [
       "(λ x_<X11,?>: (λ y_X11: x_<X11,?>(y_X11)))"
      ]
     },
     "execution_count": 63,
     "metadata": {},
     "output_type": "execute_result"
    }
   ],
   "source": [
    "x = te(\"L x_X10 : L y_X11 : x(y)\", let=False)\n",
    "x #.get_type_env()"
   ]
  },
  {
   "cell_type": "code",
   "execution_count": 64,
   "metadata": {
    "collapsed": false,
    "jupyter": {
     "outputs_hidden": false
    }
   },
   "outputs": [
    {
     "data": {
      "text/latex": [
       "$\\left\\langle{}\\left\\langle{}X_{11},X\\right\\rangle{},\\left\\langle{}X_{11},X\\right\\rangle{}\\right\\rangle{}$"
      ],
      "text/plain": [
       "<<X11,X>,<X11,X>>"
      ]
     },
     "execution_count": 64,
     "metadata": {},
     "output_type": "execute_result"
    }
   ],
   "source": [
    "x.compact_type_vars().type"
   ]
  },
  {
   "cell_type": "code",
   "execution_count": 65,
   "metadata": {
    "collapsed": false,
    "jupyter": {
     "outputs_hidden": false
    }
   },
   "outputs": [
    {
     "data": {
      "text/latex": [
       "$\\lambda{} x_{\\left\\langle{}X_{11},?_{22}\\right\\rangle{}} \\: . \\: \\lambda{} y_{X_{11}} \\: . \\: {x}({y})$"
      ],
      "text/plain": [
       "(λ x_<X11,?>: (λ y_X11: x_<X11,?>(y_X11)))"
      ]
     },
     "execution_count": 65,
     "metadata": {},
     "output_type": "execute_result"
    }
   ],
   "source": [
    "x.freshen_type_vars()"
   ]
  },
  {
   "cell_type": "code",
   "execution_count": 66,
   "metadata": {
    "collapsed": false,
    "jupyter": {
     "outputs_hidden": false
    }
   },
   "outputs": [
    {
     "data": {
      "text/latex": [
       "$\\lambda{} x_{\\left\\langle{}X_{11},X\\right\\rangle{}} \\: . \\: \\lambda{} y_{X_{11}} \\: . \\: {x}({y})$"
      ],
      "text/plain": [
       "(λ x_<X11,X>: (λ y_X11: x_<X11,X>(y_X11)))"
      ]
     },
     "execution_count": 66,
     "metadata": {},
     "output_type": "execute_result"
    }
   ],
   "source": [
    "x.freshen_type_vars().compact_type_vars()"
   ]
  },
  {
   "cell_type": "code",
   "execution_count": 67,
   "metadata": {
    "collapsed": false,
    "jupyter": {
     "outputs_hidden": false
    }
   },
   "outputs": [
    {
     "data": {
      "text/latex": [
       "$\\lambda{} d_{X_{22}} \\: . \\: \\lambda{} c_{\\left\\langle{}X_{22},X\\right\\rangle{}} \\: . \\: \\lambda{} b_{\\left\\langle{}X,X'\\right\\rangle{}} \\: . \\: \\lambda{} a_{\\left\\langle{}X',X''\\right\\rangle{}} \\: . \\: \\lambda{} q_{\\left\\langle{}X'',X'''\\right\\rangle{}} \\: . \\: \\lambda{} p_{\\left\\langle{}X''',X_{4}\\right\\rangle{}} \\: . \\: {p}({q}({a}({b}({c}({d})))))$"
      ],
      "text/plain": [
       "(λ d_X22: (λ c_<X22,X>: (λ b_<X,X1>: (λ a_<X1,X2>: (λ q_<X2,X3>: (λ p_<X3,X4>: p_<X3,X4>(q_<X2,X3>(a_<X1,X2>(b_<X,X1>(c_<X22,X>(d_X22)))))))))))"
      ]
     },
     "execution_count": 67,
     "metadata": {},
     "output_type": "execute_result"
    }
   ],
   "source": [
    "a = dict()\n",
    "x = te(\"L d_X22 : L c_X' : L b_X'' : L a_X''' : L q_X'''' : L p_X''''' : p(q(a(b(c(d)))))\", assignment=a)\n",
    "x"
   ]
  },
  {
   "cell_type": "code",
   "execution_count": 68,
   "metadata": {
    "collapsed": false,
    "jupyter": {
     "outputs_hidden": false
    }
   },
   "outputs": [
    {
     "data": {
      "text/latex": [
       "$\\left\\langle{}X_{4},\\left\\langle{}\\left\\langle{}X_{4},X\\right\\rangle{},\\left\\langle{}\\left\\langle{}X,X'\\right\\rangle{},\\left\\langle{}\\left\\langle{}X',X''\\right\\rangle{},\\left\\langle{}\\left\\langle{}X'',X'''\\right\\rangle{},\\left\\langle{}\\left\\langle{}X''',X_{5}\\right\\rangle{},X_{5}\\right\\rangle{}\\right\\rangle{}\\right\\rangle{}\\right\\rangle{}\\right\\rangle{}\\right\\rangle{}$"
      ],
      "text/plain": [
       "<X4,<<X4,X>,<<X,X1>,<<X1,X2>,<<X2,X3>,<<X3,X5>,X5>>>>>>"
      ]
     },
     "execution_count": 68,
     "metadata": {},
     "output_type": "execute_result"
    }
   ],
   "source": [
    "types.poly_system.compact_type_vars(x.type)"
   ]
  },
  {
   "cell_type": "code",
   "execution_count": 69,
   "metadata": {
    "collapsed": false,
    "jupyter": {
     "outputs_hidden": false
    }
   },
   "outputs": [
    {
     "name": "stdout",
     "output_type": "stream",
     "text": [
      "CPU times: user 777 µs, sys: 0 ns, total: 777 µs\n",
      "Wall time: 784 µs\n"
     ]
    },
    {
     "data": {
      "text/latex": [
       "$\\lambda{} d_{X_{22}} \\: . \\: \\lambda{} c_{\\left\\langle{}X_{22},X\\right\\rangle{}} \\: . \\: \\lambda{} b_{\\left\\langle{}X,X'\\right\\rangle{}} \\: . \\: \\lambda{} a_{\\left\\langle{}X',X''\\right\\rangle{}} \\: . \\: \\lambda{} q_{\\left\\langle{}X'',X'''\\right\\rangle{}} \\: . \\: \\lambda{} p_{\\left\\langle{}X''',X_{4}\\right\\rangle{}} \\: . \\: {p}({q}({a}({b}({c}({d})))))$"
      ],
      "text/plain": [
       "(λ d_X22: (λ c_<X22,X>: (λ b_<X,X1>: (λ a_<X1,X2>: (λ q_<X2,X3>: (λ p_<X3,X4>: p_<X3,X4>(q_<X2,X3>(a_<X1,X2>(b_<X,X1>(c_<X22,X>(d_X22)))))))))))"
      ]
     },
     "execution_count": 69,
     "metadata": {},
     "output_type": "execute_result"
    }
   ],
   "source": [
    "%time x.compact_type_vars()"
   ]
  },
  {
   "cell_type": "code",
   "execution_count": 70,
   "metadata": {
    "collapsed": false,
    "jupyter": {
     "outputs_hidden": false
    }
   },
   "outputs": [
    {
     "name": "stdout",
     "output_type": "stream",
     "text": [
      "CPU times: user 1.18 ms, sys: 23 µs, total: 1.21 ms\n",
      "Wall time: 1.21 ms\n"
     ]
    },
    {
     "data": {
      "text/latex": [
       "$\\lambda{} d_{?_{37}} \\: . \\: \\lambda{} c_{\\left\\langle{}?_{37},?_{39}\\right\\rangle{}} \\: . \\: \\lambda{} b_{\\left\\langle{}?_{39},?_{38}\\right\\rangle{}} \\: . \\: \\lambda{} a_{\\left\\langle{}?_{38},?_{34}\\right\\rangle{}} \\: . \\: \\lambda{} q_{\\left\\langle{}?_{34},?_{35}\\right\\rangle{}} \\: . \\: \\lambda{} p_{\\left\\langle{}?_{35},?_{36}\\right\\rangle{}} \\: . \\: {p}({q}({a}({b}({c}({d})))))$"
      ],
      "text/plain": [
       "(λ d_?: (λ c_<?,?>: (λ b_<?,?>: (λ a_<?,?>: (λ q_<?,?>: (λ p_<?,?>: p_<?,?>(q_<?,?>(a_<?,?>(b_<?,?>(c_<?,?>(d_?)))))))))))"
      ]
     },
     "execution_count": 70,
     "metadata": {},
     "output_type": "execute_result"
    }
   ],
   "source": [
    "%time x.freshen_type_vars()"
   ]
  },
  {
   "cell_type": "code",
   "execution_count": 71,
   "metadata": {
    "collapsed": false,
    "jupyter": {
     "outputs_hidden": false
    }
   },
   "outputs": [
    {
     "name": "stdout",
     "output_type": "stream",
     "text": [
      "CPU times: user 1.91 ms, sys: 27 µs, total: 1.93 ms\n",
      "Wall time: 1.94 ms\n"
     ]
    },
    {
     "data": {
      "text/latex": [
       "$\\lambda{} d_{X'''} \\: . \\: \\lambda{} c_{\\left\\langle{}X''',X_{5}\\right\\rangle{}} \\: . \\: \\lambda{} b_{\\left\\langle{}X_{5},X_{4}\\right\\rangle{}} \\: . \\: \\lambda{} a_{\\left\\langle{}X_{4},X\\right\\rangle{}} \\: . \\: \\lambda{} q_{\\left\\langle{}X,X'\\right\\rangle{}} \\: . \\: \\lambda{} p_{\\left\\langle{}X',X''\\right\\rangle{}} \\: . \\: {p}({q}({a}({b}({c}({d})))))$"
      ],
      "text/plain": [
       "(λ d_X3: (λ c_<X3,X5>: (λ b_<X5,X4>: (λ a_<X4,X>: (λ q_<X,X1>: (λ p_<X1,X2>: p_<X1,X2>(q_<X,X1>(a_<X4,X>(b_<X5,X4>(c_<X3,X5>(d_X3)))))))))))"
      ]
     },
     "execution_count": 71,
     "metadata": {},
     "output_type": "execute_result"
    }
   ],
   "source": [
    "%time x.freshen_type_vars().compact_type_vars()"
   ]
  },
  {
   "cell_type": "code",
   "execution_count": 72,
   "metadata": {
    "collapsed": false,
    "jupyter": {
     "outputs_hidden": false
    }
   },
   "outputs": [
    {
     "data": {
      "text/latex": [
       "${a}_{\\left\\langle{}X_{10},Y_{23}\\right\\rangle{}}({b}_{\\left\\langle{}Y_{23},X_{10}\\right\\rangle{}}({z}_{Y_{23}}))$"
      ],
      "text/plain": [
       "a_<X10,Y23>(b_<Y23,X10>(z_Y23))"
      ]
     },
     "execution_count": 72,
     "metadata": {},
     "output_type": "execute_result"
    }
   ],
   "source": [
    "x = %te a_<X10,Y23>(b_<Y23,X10>(z_Y23))\n",
    "x.compact_type_vars()"
   ]
  },
  {
   "cell_type": "code",
   "execution_count": 73,
   "metadata": {
    "collapsed": false,
    "jupyter": {
     "outputs_hidden": false
    }
   },
   "outputs": [
    {
     "data": {
      "text/latex": [
       "${a}_{\\left\\langle{}?_{50},?_{49}\\right\\rangle{}}({b}_{\\left\\langle{}?_{49},?_{50}\\right\\rangle{}}({z}_{?_{49}}))$"
      ],
      "text/plain": [
       "a_<?,?>(b_<?,?>(z_?))"
      ]
     },
     "execution_count": 73,
     "metadata": {},
     "output_type": "execute_result"
    }
   ],
   "source": [
    "x.freshen_type_vars()"
   ]
  },
  {
   "cell_type": "code",
   "execution_count": 74,
   "metadata": {
    "collapsed": false,
    "jupyter": {
     "outputs_hidden": false
    }
   },
   "outputs": [
    {
     "data": {
      "text/latex": [
       "${p}_{\\left\\langle{}?_{57},?_{59}\\right\\rangle{}}({q}_{\\left\\langle{}?_{55},?_{57}\\right\\rangle{}}({a}_{\\left\\langle{}?_{53},?_{55}\\right\\rangle{}}({b}_{\\left\\langle{}?_{51},?_{53}\\right\\rangle{}}({c}_{\\left\\langle{}e,?_{51}\\right\\rangle{}}({d}_{e})))))$"
      ],
      "text/plain": [
       "p_<?,?>(q_<?,?>(a_<?,?>(b_<?,?>(c_<e,?>(d_e)))))"
      ]
     },
     "execution_count": 74,
     "metadata": {},
     "output_type": "execute_result"
    }
   ],
   "source": [
    "a = dict()\n",
    "x = te(\"p_X(q_X'(a_X''(b_X'''(c_X''''(d_e)))))\", a)\n",
    "x"
   ]
  },
  {
   "cell_type": "code",
   "execution_count": 75,
   "metadata": {
    "collapsed": false,
    "jupyter": {
     "outputs_hidden": false
    }
   },
   "outputs": [
    {
     "data": {
      "text/latex": [
       "${p}_{\\left\\langle{}X''',X_{4}\\right\\rangle{}}({q}_{\\left\\langle{}X'',X'''\\right\\rangle{}}({a}_{\\left\\langle{}X',X''\\right\\rangle{}}({b}_{\\left\\langle{}X,X'\\right\\rangle{}}({c}_{\\left\\langle{}e,X\\right\\rangle{}}({d}_{e})))))$"
      ],
      "text/plain": [
       "p_<X3,X4>(q_<X2,X3>(a_<X1,X2>(b_<X,X1>(c_<e,X>(d_e)))))"
      ]
     },
     "execution_count": 75,
     "metadata": {},
     "output_type": "execute_result"
    }
   ],
   "source": [
    "x.compact_type_vars()"
   ]
  },
  {
   "cell_type": "code",
   "execution_count": 76,
   "metadata": {
    "collapsed": false,
    "jupyter": {
     "outputs_hidden": false
    }
   },
   "outputs": [
    {
     "data": {
      "text/latex": [
       "${p}_{\\left\\langle{}?_{61},\\left\\langle{}?_{67},?_{69}\\right\\rangle{}\\right\\rangle{}}({q}_{\\left\\langle{}X'',?_{61}\\right\\rangle{}}({a}_{X''}))({b}_{\\left\\langle{}?_{65},?_{67}\\right\\rangle{}}({c}_{\\left\\langle{}e,?_{65}\\right\\rangle{}}({d}_{e})))$"
      ],
      "text/plain": [
       "p_<?,<?,?>>(q_<X2,?>(a_X2))(b_<?,?>(c_<e,?>(d_e)))"
      ]
     },
     "execution_count": 76,
     "metadata": {},
     "output_type": "execute_result"
    }
   ],
   "source": [
    "a = dict()\n",
    "te(\"(p_X(q_X'(a_X'')))(b_X'''(c_X''''(d_e)))\", a)"
   ]
  },
  {
   "cell_type": "code",
   "execution_count": 77,
   "metadata": {
    "collapsed": false,
    "jupyter": {
     "outputs_hidden": false
    }
   },
   "outputs": [
    {
     "data": {
      "text/latex": [
       "${p}_{\\left\\langle{}?_{72},?_{74}\\right\\rangle{}}({q}_{\\left\\langle{}X'',?_{72}\\right\\rangle{}}({a}_{X''}))$"
      ],
      "text/plain": [
       "p_<?,?>(q_<X2,?>(a_X2))"
      ]
     },
     "execution_count": 77,
     "metadata": {},
     "output_type": "execute_result"
    }
   ],
   "source": [
    "a = dict()\n",
    "te(\"(p_X(q_X'(a_X'')))\",a)"
   ]
  },
  {
   "cell_type": "code",
   "execution_count": 78,
   "metadata": {
    "collapsed": false,
    "jupyter": {
     "outputs_hidden": false
    }
   },
   "outputs": [
    {
     "data": {
      "text/latex": [
       "$?_{59}$"
      ],
      "text/plain": [
       "?"
      ]
     },
     "execution_count": 78,
     "metadata": {},
     "output_type": "execute_result"
    }
   ],
   "source": [
    "x.type"
   ]
  },
  {
   "cell_type": "code",
   "execution_count": 79,
   "metadata": {
    "collapsed": false,
    "jupyter": {
     "outputs_hidden": false
    }
   },
   "outputs": [
    {
     "data": {
      "text/latex": [
       "$\\lambda{} d_{t} \\: . \\: \\lambda{} c_{\\left\\langle{}t,X\\right\\rangle{}} \\: . \\: \\lambda{} b_{\\left\\langle{}X,X'\\right\\rangle{}} \\: . \\: \\lambda{} a_{\\left\\langle{}X',X''\\right\\rangle{}} \\: . \\: \\lambda{} q_{\\left\\langle{}X'',X'''\\right\\rangle{}} \\: . \\: \\lambda{} p_{\\left\\langle{}X''',X_{4}\\right\\rangle{}} \\: . \\: {p}({q}({a}({b}({c}({d})))))$"
      ],
      "text/plain": [
       "(λ d_t: (λ c_<t,X>: (λ b_<X,X1>: (λ a_<X1,X2>: (λ q_<X2,X3>: (λ p_<X3,X4>: p_<X3,X4>(q_<X2,X3>(a_<X1,X2>(b_<X,X1>(c_<t,X>(d_t)))))))))))"
      ]
     },
     "execution_count": 79,
     "metadata": {},
     "output_type": "execute_result"
    }
   ],
   "source": [
    "x2 = te(\"L d_t : L c_X : L b_X' : L a_X'' : L q_X''' : L p_X'''' : p(q(a(b(c(d)))))\")\n",
    "x2"
   ]
  },
  {
   "cell_type": "code",
   "execution_count": 80,
   "metadata": {
    "collapsed": false,
    "jupyter": {
     "outputs_hidden": false
    }
   },
   "outputs": [
    {
     "data": {
      "text/latex": [
       "$\\lambda{} x_{t} \\: . \\: {p}_{t} \\wedge{} {q}_{t}$"
      ],
      "text/plain": [
       "(λ x_t: (p_t & q_t))"
      ]
     },
     "execution_count": 80,
     "metadata": {},
     "output_type": "execute_result"
    }
   ],
   "source": [
    "%te L x_X : p_X & q_t"
   ]
  },
  {
   "cell_type": "code",
   "execution_count": 81,
   "metadata": {
    "collapsed": false,
    "jupyter": {
     "outputs_hidden": false
    }
   },
   "outputs": [
    {
     "data": {
      "text/latex": [
       "$\\lambda{} x_{e} \\: . \\: {y}_{\\left\\langle{}e,t\\right\\rangle{}}({z}_{e})$"
      ],
      "text/plain": [
       "(λ x_e: y_<e,t>(z_e))"
      ]
     },
     "execution_count": 81,
     "metadata": {},
     "output_type": "execute_result"
    }
   ],
   "source": [
    "%te L x_X : y_<e,t>(z_X)"
   ]
  },
  {
   "cell_type": "code",
   "execution_count": 82,
   "metadata": {
    "collapsed": false,
    "jupyter": {
     "outputs_hidden": false
    }
   },
   "outputs": [
    {
     "data": {
      "text/latex": [
       "${y}_{t} \\wedge{} {p}_{\\left\\langle{}X,t\\right\\rangle{}}({y2}_{X})$"
      ],
      "text/plain": [
       "(y_t ∧ p_<X,t>(y2_X))"
      ]
     },
     "execution_count": 82,
     "metadata": {},
     "output_type": "execute_result"
    }
   ],
   "source": [
    "%te y_X & p_Z(y2_X)"
   ]
  },
  {
   "cell_type": "code",
   "execution_count": 83,
   "metadata": {
    "collapsed": false,
    "jupyter": {
     "outputs_hidden": false
    }
   },
   "outputs": [],
   "source": [
    "reload_lamb()"
   ]
  },
  {
   "cell_type": "code",
   "execution_count": 84,
   "metadata": {
    "collapsed": false,
    "jupyter": {
     "outputs_hidden": false
    }
   },
   "outputs": [
    {
     "data": {
      "text/latex": [
       "$\\lambda{} x_{\\left\\langle{}e,X\\right\\rangle{}} \\: . \\: {z}_{\\left\\langle{}e,X\\right\\rangle{}}({y}_{e})$"
      ],
      "text/plain": [
       "(λ x_<e,X>: z_<e,X>(y_e))"
      ]
     },
     "execution_count": 84,
     "metadata": {},
     "output_type": "execute_result"
    }
   ],
   "source": [
    "%te L x_X : z_X(y_e)"
   ]
  },
  {
   "cell_type": "code",
   "execution_count": 85,
   "metadata": {
    "collapsed": false,
    "jupyter": {
     "outputs_hidden": false
    }
   },
   "outputs": [
    {
     "data": {
      "text/markdown": [
       "<span style=\"color:red\">**ParseError**</span>: Binding operator parse error, in string `L x_X : (L y_<Y,Z> : y(z_e))(x) & p_X`<br />&nbsp;&nbsp;&nbsp;&nbsp;<span style=\"color:red\">**TypeMismatch**</span>: type $\\left\\langle{}e,t\\right\\rangle{}$ and type $t$ conflict (Failed to ensure body type `t` for operator class `Lambda`)"
      ],
      "text/plain": [
       "ParseError: Binding operator parse error, in string `L x_X : (L y_<Y,Z> : y(z_e))(x) & p_X`: TypeMismatch: type `<e,t>` and type `t` conflict (Failed to ensure body type `t` for operator class `Lambda`)"
      ]
     },
     "metadata": {},
     "output_type": "display_data"
    }
   ],
   "source": [
    "%te reduce L x_X : (L y_<Y,Z> : y(z_e))(x) & p_X"
   ]
  },
  {
   "cell_type": "code",
   "execution_count": 86,
   "metadata": {
    "collapsed": false,
    "jupyter": {
     "outputs_hidden": false
    }
   },
   "outputs": [
    {
     "data": {
      "text/latex": [
       "$\\lambda{} x_{\\left\\langle{}e,t\\right\\rangle{}} \\: . \\: {[\\lambda{} y_{\\left\\langle{}e,t\\right\\rangle{}} \\: . \\: {[\\lambda{} a_{\\left\\langle{}e,t\\right\\rangle{}} \\: . \\: {a}({z}_{e})]}({y})]}({x}) \\wedge{} {p}_{t}$"
      ],
      "text/plain": [
       "(λ x_<e,t>: ((λ y_<e,t>: (λ a_<e,t>: a_<e,t>(z_e))(y_<e,t>))(x_<e,t>) & p_t))"
      ]
     },
     "execution_count": 86,
     "metadata": {},
     "output_type": "execute_result"
    }
   ],
   "source": [
    "%te L x_X : (L y_Y : (L a_Z : a(z_e))(y))(x) & p_X'"
   ]
  },
  {
   "cell_type": "markdown",
   "metadata": {},
   "source": [
    "### Examples\n",
    "\n",
    "`X` unifies with `Y`.  \n",
    "\n",
    "`<X,Y>` unifies with `<Y,X>`\n",
    "\n",
    "`<X,<X,Y>>` unifies with `<Y,<Y,X>>`\n",
    "   \n",
    "`<X,<X,Y>>` unifies with `<Y,<e,X>>`\n",
    "   \n",
    "`<X,<X,X>>` unifies with `<X,<Y,Z>>`\n",
    "\n",
    "`<e,<X,X>>` unifies with `<X,<Y,Z>>`\n",
    "\n",
    "`<e,<X,X>>` unifies with `<X,<Y,X>>` (yields `<e,<e,e>>`)\n",
    "\n",
    "`<e,<X,X>>` fails to unify with `<X,<X,t>>`\n"
   ]
  },
  {
   "cell_type": "code",
   "execution_count": null,
   "metadata": {
    "collapsed": false,
    "jupyter": {
     "outputs_hidden": false
    }
   },
   "outputs": [],
   "source": [
    "poly_system = types.poly_system"
   ]
  },
  {
   "cell_type": "code",
   "execution_count": null,
   "metadata": {
    "collapsed": false,
    "jupyter": {
     "outputs_hidden": false
    }
   },
   "outputs": [],
   "source": [
    "x = tp(\"<X''',<X,t>>\")\n",
    "y = tp(\"Y\")\n",
    "z = tp(\"<X',Z>\")\n",
    "z2 = tp(\"<Y,Y'>\")\n",
    "x"
   ]
  },
  {
   "cell_type": "code",
   "execution_count": null,
   "metadata": {
    "collapsed": false,
    "jupyter": {
     "outputs_hidden": false
    }
   },
   "outputs": [],
   "source": [
    "y"
   ]
  },
  {
   "cell_type": "code",
   "execution_count": null,
   "metadata": {
    "collapsed": false,
    "jupyter": {
     "outputs_hidden": false
    }
   },
   "outputs": [],
   "source": [
    "poly_system.unify(y,x)"
   ]
  },
  {
   "cell_type": "code",
   "execution_count": null,
   "metadata": {
    "collapsed": false,
    "jupyter": {
     "outputs_hidden": false
    }
   },
   "outputs": [],
   "source": [
    "z"
   ]
  },
  {
   "cell_type": "code",
   "execution_count": null,
   "metadata": {
    "collapsed": false,
    "jupyter": {
     "outputs_hidden": false
    }
   },
   "outputs": [],
   "source": []
  },
  {
   "cell_type": "code",
   "execution_count": null,
   "metadata": {
    "collapsed": false,
    "jupyter": {
     "outputs_hidden": false
    }
   },
   "outputs": [],
   "source": [
    "x = tp(\"<X''',<X,t>>\")\n",
    "y = tp(\"Y\")\n",
    "z = tp(\"<X',Z>\")\n",
    "z2 = tp(\"<Y'',<Y,X>>\")\n",
    "x"
   ]
  },
  {
   "cell_type": "code",
   "execution_count": null,
   "metadata": {
    "collapsed": false,
    "jupyter": {
     "outputs_hidden": false
    }
   },
   "outputs": [],
   "source": [
    "poly_system.unify(tp(\"<X''',<X,t>>\"), tp(\"Y\"))"
   ]
  },
  {
   "cell_type": "code",
   "execution_count": null,
   "metadata": {
    "collapsed": false,
    "jupyter": {
     "outputs_hidden": false
    }
   },
   "outputs": [],
   "source": [
    "poly_system.unify(tp(\"<X''',<X,t>>\"), tp(\"X\"))"
   ]
  },
  {
   "cell_type": "code",
   "execution_count": null,
   "metadata": {
    "collapsed": false,
    "jupyter": {
     "outputs_hidden": false
    }
   },
   "outputs": [],
   "source": [
    "poly_system.unify(tp(\"<X''',<X,t>>\"), tp(\"<Y,X>\"))"
   ]
  },
  {
   "cell_type": "code",
   "execution_count": null,
   "metadata": {
    "collapsed": false,
    "jupyter": {
     "outputs_hidden": false
    }
   },
   "outputs": [],
   "source": [
    "poly_system.unify(tp(\"<X,Y>\"), tp(\"<X,X>\"))"
   ]
  },
  {
   "cell_type": "code",
   "execution_count": null,
   "metadata": {
    "collapsed": false,
    "jupyter": {
     "outputs_hidden": false
    }
   },
   "outputs": [],
   "source": [
    "poly_system.unify(tp(\"<<X,Y>,Z>\"), tp(\"<<X,X>,X>\"))"
   ]
  },
  {
   "cell_type": "code",
   "execution_count": null,
   "metadata": {
    "collapsed": false,
    "jupyter": {
     "outputs_hidden": false
    }
   },
   "outputs": [],
   "source": [
    "poly_system.unify(tp(\"<e,X'>\"), tp(\"<X,Y>\"))"
   ]
  },
  {
   "cell_type": "code",
   "execution_count": null,
   "metadata": {
    "collapsed": false,
    "jupyter": {
     "outputs_hidden": false
    }
   },
   "outputs": [],
   "source": [
    "poly_system.unify(tp(\"<<e,X>,X>\"), tp(\"<<X,Y'>,X>\"))"
   ]
  },
  {
   "cell_type": "code",
   "execution_count": null,
   "metadata": {
    "collapsed": false,
    "jupyter": {
     "outputs_hidden": false
    }
   },
   "outputs": [],
   "source": [
    "poly_system.unify(tp(\"<<e,X'>,X'>\"), tp(\"<<X,Y>,Z>\"))"
   ]
  },
  {
   "cell_type": "code",
   "execution_count": null,
   "metadata": {
    "collapsed": false,
    "jupyter": {
     "outputs_hidden": false
    }
   },
   "outputs": [],
   "source": [
    "poly_system.unify(tp(\"<<e,X>,X>\"), tp(\"<<X,X>,t>\"))"
   ]
  },
  {
   "cell_type": "code",
   "execution_count": null,
   "metadata": {
    "collapsed": false,
    "jupyter": {
     "outputs_hidden": false
    }
   },
   "outputs": [],
   "source": [
    "poly_system.unify(tp(\"<<<e,X>,Y>,Y>\"), tp(\"<<<X,Z>,Z>,e>\"))"
   ]
  },
  {
   "cell_type": "code",
   "execution_count": null,
   "metadata": {
    "collapsed": false,
    "jupyter": {
     "outputs_hidden": false
    }
   },
   "outputs": [],
   "source": [
    "poly_system.unify(tp(\"<X,e>\"), tp(\"<<Y,Y>,Y>\"))"
   ]
  },
  {
   "cell_type": "code",
   "execution_count": null,
   "metadata": {
    "collapsed": false,
    "jupyter": {
     "outputs_hidden": false
    }
   },
   "outputs": [],
   "source": [
    "poly_system.unify(tp(\"<<<Y,X>,X>,<Y,X>>\"), tp(\"<<<Z,Z>,Z>,<Z,<n,e>>>\"))"
   ]
  },
  {
   "cell_type": "code",
   "execution_count": null,
   "metadata": {
    "collapsed": false,
    "jupyter": {
     "outputs_hidden": false
    }
   },
   "outputs": [],
   "source": [
    "poly_system.alpha_equiv(tp(\"<X,Y>\"), tp(\"<Y,X>\"))"
   ]
  },
  {
   "cell_type": "code",
   "execution_count": null,
   "metadata": {
    "collapsed": false,
    "jupyter": {
     "outputs_hidden": false
    }
   },
   "outputs": [],
   "source": [
    "poly_system.alpha_equiv(tp(\"<<e,X>,X>\"), tp(\"<<X,Y>,Z>\"))"
   ]
  },
  {
   "cell_type": "code",
   "execution_count": null,
   "metadata": {
    "collapsed": false,
    "jupyter": {
     "outputs_hidden": false
    }
   },
   "outputs": [],
   "source": [
    "poly_system.alpha_equiv(tp(\"<<Z,X>,X>\"), tp(\"<<X,Y>,e>\"))"
   ]
  },
  {
   "cell_type": "code",
   "execution_count": null,
   "metadata": {
    "collapsed": false,
    "jupyter": {
     "outputs_hidden": false
    }
   },
   "outputs": [],
   "source": [
    "poly_system.alpha_equiv(tp(\"X\"), tp(\"<X,X>\"))"
   ]
  },
  {
   "cell_type": "code",
   "execution_count": null,
   "metadata": {
    "collapsed": false,
    "jupyter": {
     "outputs_hidden": false
    }
   },
   "outputs": [],
   "source": [
    "poly_system.unify(tp(\"<<e,t>,Y>\"), tp(\"<X,<<e,t>,t>>\"))"
   ]
  },
  {
   "cell_type": "code",
   "execution_count": null,
   "metadata": {
    "collapsed": false,
    "jupyter": {
     "outputs_hidden": false
    }
   },
   "outputs": [],
   "source": [
    "poly_system.unify(tp(\"<e,<X,t>>\"), tp(\"<e,<e,t>>\"))"
   ]
  },
  {
   "cell_type": "code",
   "execution_count": null,
   "metadata": {
    "collapsed": false,
    "jupyter": {
     "outputs_hidden": false
    }
   },
   "outputs": [],
   "source": [
    "poly_system.unify(tp(\"<<X,Y>,<Z,<Z',Z''>>>\"), tp(\"<<X',Y'>,<Y',Z'''>>\"))"
   ]
  },
  {
   "cell_type": "code",
   "execution_count": null,
   "metadata": {
    "collapsed": false,
    "jupyter": {
     "outputs_hidden": false
    }
   },
   "outputs": [],
   "source": [
    "types.make_safe(tp(\"<<X,Y>,<Z,<Z',Z''>>>\"), tp(\"<<X',Y'>,<Y',Z'>>\"))"
   ]
  },
  {
   "cell_type": "code",
   "execution_count": null,
   "metadata": {
    "collapsed": false,
    "jupyter": {
     "outputs_hidden": false
    }
   },
   "outputs": [],
   "source": [
    "types.make_safe(tp(\"<Z,<Z',Z''>>\"), tp(\"Z'\"))"
   ]
  },
  {
   "cell_type": "code",
   "execution_count": null,
   "metadata": {
    "collapsed": false,
    "jupyter": {
     "outputs_hidden": false
    }
   },
   "outputs": [],
   "source": [
    "poly_system.unify(tp(\"<<X,X>,<Y,Y>>\"), tp(\"<<e,Z>,<Z,t>>\"))"
   ]
  },
  {
   "cell_type": "code",
   "execution_count": null,
   "metadata": {
    "collapsed": false,
    "jupyter": {
     "outputs_hidden": false
    }
   },
   "outputs": [],
   "source": [
    "def geach_combinator(gtype, ftype):\n",
    "    body = meta.term(\"g\", gtype)(meta.term(\"f\", ftype)(meta.term(\"x\", ftype.left)))\n",
    "    combinator = meta.LFun(gtype, meta.LFun(ftype, meta.LFun(ftype.left, body,varname=\"x\"),varname=\"f\"), varname=\"g\")\n",
    "    return combinator\n"
   ]
  },
  {
   "cell_type": "code",
   "execution_count": null,
   "metadata": {
    "collapsed": false,
    "jupyter": {
     "outputs_hidden": false
    }
   },
   "outputs": [],
   "source": [
    "poly_system.unify_details(tp(\"<X,Y>\"), tp(\"<Y,Y>\")).mapping"
   ]
  },
  {
   "cell_type": "code",
   "execution_count": null,
   "metadata": {
    "collapsed": false,
    "jupyter": {
     "outputs_hidden": false
    }
   },
   "outputs": [],
   "source": [
    "poly_system.unify(tp(\"<X,Y>\"), tp(\"<Y,Y>\"))"
   ]
  },
  {
   "cell_type": "code",
   "execution_count": null,
   "metadata": {
    "collapsed": false,
    "jupyter": {
     "outputs_hidden": false
    }
   },
   "outputs": [],
   "source": [
    "poly_system.unify_details(tp(\"<Y,Y>\"), tp(\"<X,Y>\")).mapping"
   ]
  },
  {
   "cell_type": "code",
   "execution_count": null,
   "metadata": {
    "collapsed": false,
    "jupyter": {
     "outputs_hidden": false
    }
   },
   "outputs": [],
   "source": [
    "poly_system.unify_details(tp(\"<Y,X>\"), tp(\"<X,Y>\")).mapping"
   ]
  },
  {
   "cell_type": "code",
   "execution_count": null,
   "metadata": {
    "collapsed": false,
    "jupyter": {
     "outputs_hidden": false
    }
   },
   "outputs": [],
   "source": [
    "geach_combinator(tp(\"Z\"), tp(\"<Y,Y1>\")).compact_type_vars()"
   ]
  },
  {
   "cell_type": "code",
   "execution_count": null,
   "metadata": {
    "collapsed": false,
    "jupyter": {
     "outputs_hidden": false
    }
   },
   "outputs": [],
   "source": [
    "geach_combinator(tp(\"<e,t>\"), tp(\"<e,e>\"))"
   ]
  },
  {
   "cell_type": "code",
   "execution_count": null,
   "metadata": {
    "collapsed": false,
    "jupyter": {
     "outputs_hidden": false
    }
   },
   "outputs": [],
   "source": [
    "reload_lamb()\n",
    "gc = %te L g_<Y,Z> : L f_<X,Y> : L x_X : g(f(x))\n",
    "gc"
   ]
  },
  {
   "cell_type": "code",
   "execution_count": null,
   "metadata": {
    "collapsed": false,
    "jupyter": {
     "outputs_hidden": false
    }
   },
   "outputs": [],
   "source": [
    "%te f_<X,Y>(x_X)"
   ]
  },
  {
   "cell_type": "code",
   "execution_count": null,
   "metadata": {
    "collapsed": false,
    "jupyter": {
     "outputs_hidden": false
    }
   },
   "outputs": [],
   "source": [
    "%%lamb\n",
    "cat = L x_e : Cat(x)\n",
    "he = L x_e : x"
   ]
  },
  {
   "cell_type": "code",
   "execution_count": null,
   "metadata": {
    "collapsed": false,
    "jupyter": {
     "outputs_hidden": false
    }
   },
   "outputs": [],
   "source": [
    "gc(cat)(he)"
   ]
  },
  {
   "cell_type": "code",
   "execution_count": null,
   "metadata": {
    "collapsed": false,
    "jupyter": {
     "outputs_hidden": false
    }
   },
   "outputs": [],
   "source": [
    "%%lamb\n",
    "prop = L x_X : P(x)\n",
    "ident = L x_X : x\n",
    "prop2 = L x_X10 : P(x)\n",
    "ident2 = L x_X11 : x"
   ]
  },
  {
   "cell_type": "code",
   "execution_count": null,
   "metadata": {
    "collapsed": false,
    "jupyter": {
     "outputs_hidden": false
    }
   },
   "outputs": [],
   "source": [
    "gc(prop)(ident)"
   ]
  },
  {
   "cell_type": "code",
   "execution_count": null,
   "metadata": {
    "collapsed": false,
    "jupyter": {
     "outputs_hidden": false
    }
   },
   "outputs": [],
   "source": [
    "gc(prop)"
   ]
  },
  {
   "cell_type": "code",
   "execution_count": null,
   "metadata": {
    "collapsed": false,
    "jupyter": {
     "outputs_hidden": false
    }
   },
   "outputs": [],
   "source": [
    "gc(prop2)(ident2).reduce_all()"
   ]
  },
  {
   "cell_type": "code",
   "execution_count": null,
   "metadata": {
    "collapsed": false,
    "jupyter": {
     "outputs_hidden": false
    }
   },
   "outputs": [],
   "source": [
    "gc(prop2) #.reduce_all()"
   ]
  },
  {
   "cell_type": "code",
   "execution_count": null,
   "metadata": {
    "collapsed": false,
    "jupyter": {
     "outputs_hidden": false
    }
   },
   "outputs": [],
   "source": [
    "%te (L g_<Y,t> : L x_X : g(x)) (L x_X10 : P_<Z,t>(x))"
   ]
  },
  {
   "cell_type": "code",
   "execution_count": null,
   "metadata": {
    "collapsed": false,
    "jupyter": {
     "outputs_hidden": false
    }
   },
   "outputs": [],
   "source": [
    "%te (L g_<Y,t> : L x_X : g(x))(x_<Z,Z'>)"
   ]
  },
  {
   "cell_type": "code",
   "execution_count": null,
   "metadata": {
    "collapsed": false,
    "jupyter": {
     "outputs_hidden": false
    }
   },
   "outputs": [],
   "source": [
    "reload_lamb()\n",
    "x = %te L x_X10 : P(x)\n",
    "x.try_adjust_type(tp(\"<Y,t>\"))"
   ]
  },
  {
   "cell_type": "code",
   "execution_count": null,
   "metadata": {
    "collapsed": false,
    "jupyter": {
     "outputs_hidden": false
    }
   },
   "outputs": [],
   "source": [
    "x.apply(meta.TypedTerm(\"x\", tp(\"Y\")))"
   ]
  },
  {
   "cell_type": "code",
   "execution_count": null,
   "metadata": {
    "collapsed": false,
    "jupyter": {
     "outputs_hidden": false
    }
   },
   "outputs": [],
   "source": [
    "x(meta.TypedTerm(\"x\", tp(\"Y\")))"
   ]
  },
  {
   "cell_type": "code",
   "execution_count": null,
   "metadata": {
    "collapsed": false,
    "jupyter": {
     "outputs_hidden": false
    }
   },
   "outputs": [],
   "source": [
    "%te P_<X10,t>(x_X11)"
   ]
  },
  {
   "cell_type": "code",
   "execution_count": null,
   "metadata": {
    "collapsed": false,
    "jupyter": {
     "outputs_hidden": false
    }
   },
   "outputs": [],
   "source": [
    "term = meta.TypedTerm(\"y\", tp(\"Y\"))\n",
    "new_x = meta.alpha_convert(x, meta.unsafe_variables(x, term))\n",
    "new_x"
   ]
  },
  {
   "cell_type": "code",
   "execution_count": null,
   "metadata": {
    "collapsed": false,
    "jupyter": {
     "outputs_hidden": false
    }
   },
   "outputs": [],
   "source": [
    "meta.beta_reduce_ts(new_x.body, new_x.varname, term)"
   ]
  },
  {
   "cell_type": "code",
   "execution_count": null,
   "metadata": {
    "collapsed": false,
    "jupyter": {
     "outputs_hidden": false
    }
   },
   "outputs": [],
   "source": [
    "term"
   ]
  },
  {
   "cell_type": "code",
   "execution_count": null,
   "metadata": {
    "collapsed": false,
    "jupyter": {
     "outputs_hidden": false
    }
   },
   "outputs": [],
   "source": [
    "meta.beta_reduce_ts(new_x[1][1], new_x.varname, term)"
   ]
  },
  {
   "cell_type": "code",
   "execution_count": null,
   "metadata": {
    "collapsed": false,
    "jupyter": {
     "outputs_hidden": false
    }
   },
   "outputs": [],
   "source": [
    "new_x[1].subst(1, term)"
   ]
  },
  {
   "cell_type": "code",
   "execution_count": null,
   "metadata": {
    "collapsed": false,
    "jupyter": {
     "outputs_hidden": false
    }
   },
   "outputs": [],
   "source": [
    "types.poly_system.unify_details(tp(\"<X,<Y,Y'>>\"), tp(\"<X',Z>\")).mapping"
   ]
  },
  {
   "cell_type": "code",
   "execution_count": null,
   "metadata": {
    "collapsed": false,
    "jupyter": {
     "outputs_hidden": false
    }
   },
   "outputs": [],
   "source": [
    "types.poly_system.unify_details(tp(\"<X,Y>\"), tp(\"<X',Z>\")).mapping"
   ]
  },
  {
   "cell_type": "code",
   "execution_count": null,
   "metadata": {
    "collapsed": false,
    "jupyter": {
     "outputs_hidden": false
    }
   },
   "outputs": [],
   "source": [
    "%te f_X(y_Z)"
   ]
  },
  {
   "cell_type": "code",
   "execution_count": null,
   "metadata": {
    "collapsed": true,
    "jupyter": {
     "outputs_hidden": true
    }
   },
   "outputs": [],
   "source": []
  },
  {
   "cell_type": "code",
   "execution_count": null,
   "metadata": {
    "collapsed": false,
    "jupyter": {
     "outputs_hidden": false
    }
   },
   "outputs": [],
   "source": [
    "reload_lamb()"
   ]
  },
  {
   "cell_type": "code",
   "execution_count": null,
   "metadata": {
    "collapsed": false,
    "jupyter": {
     "outputs_hidden": false
    }
   },
   "outputs": [],
   "source": [
    "x = %te L x_X : x(y_<e,t>)\n",
    "x"
   ]
  },
  {
   "cell_type": "code",
   "execution_count": null,
   "metadata": {
    "collapsed": false,
    "jupyter": {
     "outputs_hidden": false
    }
   },
   "outputs": [],
   "source": [
    "x.get_type_env()"
   ]
  },
  {
   "cell_type": "code",
   "execution_count": null,
   "metadata": {
    "collapsed": false,
    "jupyter": {
     "outputs_hidden": false
    }
   },
   "outputs": [],
   "source": [
    "x[1].get_type_env()"
   ]
  },
  {
   "cell_type": "code",
   "execution_count": null,
   "metadata": {
    "collapsed": false,
    "jupyter": {
     "outputs_hidden": false
    }
   },
   "outputs": [],
   "source": [
    "x[1].type_env()"
   ]
  },
  {
   "cell_type": "code",
   "execution_count": null,
   "metadata": {
    "collapsed": false,
    "jupyter": {
     "outputs_hidden": false
    }
   },
   "outputs": [],
   "source": [
    "x = %te L x_X : x_e\n",
    "x.get_type_env()"
   ]
  },
  {
   "cell_type": "code",
   "execution_count": null,
   "metadata": {
    "collapsed": false,
    "jupyter": {
     "outputs_hidden": false
    }
   },
   "outputs": [],
   "source": [
    "x"
   ]
  },
  {
   "cell_type": "code",
   "execution_count": null,
   "metadata": {
    "collapsed": false,
    "jupyter": {
     "outputs_hidden": false
    }
   },
   "outputs": [],
   "source": [
    "reload_lamb()"
   ]
  },
  {
   "cell_type": "code",
   "execution_count": null,
   "metadata": {
    "collapsed": false,
    "jupyter": {
     "outputs_hidden": false
    }
   },
   "outputs": [],
   "source": [
    "x = %te L x_X : x_e\n",
    "x.get_type_env()"
   ]
  },
  {
   "cell_type": "code",
   "execution_count": null,
   "metadata": {
    "collapsed": false,
    "jupyter": {
     "outputs_hidden": false
    }
   },
   "outputs": [],
   "source": [
    "x"
   ]
  },
  {
   "cell_type": "code",
   "execution_count": null,
   "metadata": {
    "collapsed": false,
    "jupyter": {
     "outputs_hidden": false
    }
   },
   "outputs": [],
   "source": [
    "x = %te x_X\n",
    "x"
   ]
  },
  {
   "cell_type": "code",
   "execution_count": null,
   "metadata": {
    "collapsed": false,
    "jupyter": {
     "outputs_hidden": false
    }
   },
   "outputs": [],
   "source": [
    "x.get_type_env()"
   ]
  },
  {
   "cell_type": "code",
   "execution_count": null,
   "metadata": {
    "collapsed": false,
    "jupyter": {
     "outputs_hidden": false
    }
   },
   "outputs": [],
   "source": [
    "x.copy().get_type_env()"
   ]
  },
  {
   "cell_type": "code",
   "execution_count": null,
   "metadata": {
    "collapsed": false,
    "jupyter": {
     "outputs_hidden": false
    }
   },
   "outputs": [],
   "source": [
    "x = te(\"L x_X : x_X & x_X\")\n",
    "x.get_type_env()"
   ]
  },
  {
   "cell_type": "code",
   "execution_count": null,
   "metadata": {
    "collapsed": false,
    "jupyter": {
     "outputs_hidden": false
    }
   },
   "outputs": [],
   "source": [
    "x"
   ]
  },
  {
   "cell_type": "code",
   "execution_count": null,
   "metadata": {
    "collapsed": false,
    "jupyter": {
     "outputs_hidden": false
    }
   },
   "outputs": [],
   "source": [
    "x[1].get_type_env()"
   ]
  },
  {
   "cell_type": "code",
   "execution_count": null,
   "metadata": {
    "collapsed": false,
    "jupyter": {
     "outputs_hidden": false
    }
   },
   "outputs": [],
   "source": [
    "x = %te p_X & q_t\n",
    "x"
   ]
  },
  {
   "cell_type": "code",
   "execution_count": null,
   "metadata": {
    "collapsed": false,
    "jupyter": {
     "outputs_hidden": false
    }
   },
   "outputs": [],
   "source": [
    "reload_lamb()"
   ]
  },
  {
   "cell_type": "code",
   "execution_count": null,
   "metadata": {
    "collapsed": false,
    "jupyter": {
     "outputs_hidden": false
    }
   },
   "outputs": [],
   "source": [
    "x = %te (L g_<Y,t> : L x_X : g(x)) (L x_X10 : P_<Z,t>(x))\n",
    "x"
   ]
  },
  {
   "cell_type": "code",
   "execution_count": null,
   "metadata": {
    "collapsed": false,
    "jupyter": {
     "outputs_hidden": false
    }
   },
   "outputs": [],
   "source": [
    "x.get_type_env()"
   ]
  },
  {
   "cell_type": "code",
   "execution_count": null,
   "metadata": {
    "collapsed": false,
    "jupyter": {
     "outputs_hidden": false
    }
   },
   "outputs": [],
   "source": [
    "e1 = x[0].get_type_env()\n",
    "e2 = x[1].get_type_env()\n",
    "e1"
   ]
  },
  {
   "cell_type": "code",
   "execution_count": null,
   "metadata": {
    "collapsed": false,
    "jupyter": {
     "outputs_hidden": false
    }
   },
   "outputs": [],
   "source": [
    "e2"
   ]
  },
  {
   "cell_type": "code",
   "execution_count": null,
   "metadata": {
    "collapsed": false,
    "jupyter": {
     "outputs_hidden": false
    }
   },
   "outputs": [],
   "source": [
    "x[0].get_type_env()"
   ]
  },
  {
   "cell_type": "code",
   "execution_count": null,
   "metadata": {
    "collapsed": false,
    "jupyter": {
     "outputs_hidden": false
    }
   },
   "outputs": [],
   "source": [
    "%te L x_X : g_<Y,t>(x)"
   ]
  },
  {
   "cell_type": "code",
   "execution_count": null,
   "metadata": {
    "collapsed": false,
    "jupyter": {
     "outputs_hidden": false
    }
   },
   "outputs": [],
   "source": [
    "y = %te L g_<Y,t> : L x_X : g(x)\n",
    "y"
   ]
  },
  {
   "cell_type": "code",
   "execution_count": null,
   "metadata": {
    "collapsed": false,
    "jupyter": {
     "outputs_hidden": false
    }
   },
   "outputs": [],
   "source": [
    "y.get_type_env()"
   ]
  },
  {
   "cell_type": "code",
   "execution_count": null,
   "metadata": {
    "collapsed": true,
    "jupyter": {
     "outputs_hidden": true
    }
   },
   "outputs": [],
   "source": [
    "x = %te x_X\n",
    "a = tp(\"<Z,t>\")"
   ]
  },
  {
   "cell_type": "code",
   "execution_count": null,
   "metadata": {
    "collapsed": false,
    "jupyter": {
     "outputs_hidden": false
    }
   },
   "outputs": [],
   "source": [
    "#x.try_adjust_type(a)\n",
    "print(x.get_type_env())\n",
    "x.get_type_env().add_type_mapping(tp(\"Y1\"), tp(\"Y2\"))\n",
    "print(x.get_type_env())\n",
    "x.get_type_env().add_var_mapping('x', a)\n",
    "x.get_type_env()"
   ]
  },
  {
   "cell_type": "code",
   "execution_count": null,
   "metadata": {
    "collapsed": false,
    "jupyter": {
     "outputs_hidden": false
    }
   },
   "outputs": [],
   "source": [
    "%te g_<Y,t>(x_X)"
   ]
  },
  {
   "cell_type": "code",
   "execution_count": null,
   "metadata": {
    "collapsed": false,
    "jupyter": {
     "outputs_hidden": false
    }
   },
   "outputs": [],
   "source": [
    "x = %te (λ g_<X,t>: (λ x_X: g_<X,t>(x)))(g_<X10,t>)\n",
    "x"
   ]
  },
  {
   "cell_type": "code",
   "execution_count": null,
   "metadata": {
    "collapsed": false,
    "jupyter": {
     "outputs_hidden": false
    }
   },
   "outputs": [],
   "source": [
    "x.get_type_env()"
   ]
  },
  {
   "cell_type": "code",
   "execution_count": null,
   "metadata": {
    "collapsed": false,
    "jupyter": {
     "outputs_hidden": false
    }
   },
   "outputs": [],
   "source": [
    "x[0][1].get_type_env()"
   ]
  },
  {
   "cell_type": "code",
   "execution_count": null,
   "metadata": {
    "collapsed": false,
    "jupyter": {
     "outputs_hidden": false
    }
   },
   "outputs": [],
   "source": [
    "x = %te (λ g_<X,t>: (g_<X,t>(x_X)))(g_<X10,t>)\n",
    "x"
   ]
  },
  {
   "cell_type": "code",
   "execution_count": null,
   "metadata": {
    "collapsed": false,
    "jupyter": {
     "outputs_hidden": false
    }
   },
   "outputs": [],
   "source": [
    "reload_lamb()"
   ]
  },
  {
   "cell_type": "code",
   "execution_count": null,
   "metadata": {
    "collapsed": false,
    "jupyter": {
     "outputs_hidden": false
    }
   },
   "outputs": [],
   "source": [
    "x = %te (L x_X : g_<X,t>(x_X))\n",
    "y = %te g_<X10,t>\n",
    "x(y)"
   ]
  },
  {
   "cell_type": "code",
   "execution_count": null,
   "metadata": {
    "collapsed": false,
    "jupyter": {
     "outputs_hidden": false
    }
   },
   "outputs": [],
   "source": [
    "x = %te p_X\n",
    "y = %te q_X\n",
    "x(y)"
   ]
  },
  {
   "cell_type": "code",
   "execution_count": null,
   "metadata": {
    "collapsed": false,
    "jupyter": {
     "outputs_hidden": false
    }
   },
   "outputs": [],
   "source": [
    "x.let = True\n",
    "y.let = True\n",
    "x(y)"
   ]
  },
  {
   "cell_type": "code",
   "execution_count": null,
   "metadata": {
    "collapsed": false,
    "jupyter": {
     "outputs_hidden": false
    }
   },
   "outputs": [],
   "source": []
  },
  {
   "cell_type": "code",
   "execution_count": null,
   "metadata": {
    "collapsed": false,
    "jupyter": {
     "outputs_hidden": false
    }
   },
   "outputs": [],
   "source": [
    "x = %te L x_<X,t> : x(Y_X)\n",
    "y = %te L x_Z : P_<Z,t>(x)"
   ]
  },
  {
   "cell_type": "code",
   "execution_count": null,
   "metadata": {
    "collapsed": false,
    "jupyter": {
     "outputs_hidden": false
    }
   },
   "outputs": [],
   "source": [
    "x(y)"
   ]
  },
  {
   "cell_type": "code",
   "execution_count": null,
   "metadata": {
    "collapsed": false,
    "jupyter": {
     "outputs_hidden": false
    }
   },
   "outputs": [],
   "source": [
    "x"
   ]
  },
  {
   "cell_type": "code",
   "execution_count": null,
   "metadata": {
    "collapsed": false,
    "jupyter": {
     "outputs_hidden": false
    }
   },
   "outputs": [],
   "source": [
    "y"
   ]
  },
  {
   "cell_type": "code",
   "execution_count": null,
   "metadata": {
    "collapsed": false,
    "jupyter": {
     "outputs_hidden": false
    }
   },
   "outputs": [],
   "source": [
    "te(\"(L x_<X,t> : x(Y_X))(L x_Z : P_<Z,t>(x))\", let=False)"
   ]
  },
  {
   "cell_type": "code",
   "execution_count": null,
   "metadata": {
    "collapsed": false,
    "jupyter": {
     "outputs_hidden": false
    }
   },
   "outputs": [],
   "source": [
    "te(\"(L x_<X,t> : x(Y_X))(P_<Z,t>)\", let=False) #.get_type_env()"
   ]
  },
  {
   "cell_type": "code",
   "execution_count": null,
   "metadata": {
    "collapsed": false,
    "jupyter": {
     "outputs_hidden": false
    }
   },
   "outputs": [],
   "source": [
    "te(\"(L x_<X,t> : x)(P_<Z,t>)\", let=False)"
   ]
  },
  {
   "cell_type": "code",
   "execution_count": null,
   "metadata": {
    "collapsed": false,
    "jupyter": {
     "outputs_hidden": false
    }
   },
   "outputs": [],
   "source": [
    "types.poly_system.unify_fa(tp(\"<<X,t>,<X,t>>\"), tp(\"<Y,t>\"))"
   ]
  },
  {
   "cell_type": "code",
   "execution_count": null,
   "metadata": {
    "collapsed": false,
    "jupyter": {
     "outputs_hidden": false
    }
   },
   "outputs": [],
   "source": [
    "y.try_adjust_type(tp(\"<X,t>\"))"
   ]
  },
  {
   "cell_type": "code",
   "execution_count": null,
   "metadata": {
    "collapsed": false,
    "jupyter": {
     "outputs_hidden": false
    }
   },
   "outputs": [],
   "source": [
    "reload_lamb()"
   ]
  },
  {
   "cell_type": "code",
   "execution_count": null,
   "metadata": {
    "collapsed": true,
    "jupyter": {
     "outputs_hidden": true
    }
   },
   "outputs": [],
   "source": [
    "y2 = te(\"P_<Z,t>\", let=False)"
   ]
  },
  {
   "cell_type": "code",
   "execution_count": null,
   "metadata": {
    "collapsed": false,
    "jupyter": {
     "outputs_hidden": false
    }
   },
   "outputs": [],
   "source": [
    "y2.try_adjust_type(tp(\"<X,t>\"))"
   ]
  },
  {
   "cell_type": "code",
   "execution_count": null,
   "metadata": {
    "collapsed": false,
    "jupyter": {
     "outputs_hidden": false
    }
   },
   "outputs": [],
   "source": [
    "y3 = te(\"P_Z\", let=False)\n",
    "y3.try_adjust_type(tp(\"X\")) #.get_type_env()"
   ]
  },
  {
   "cell_type": "code",
   "execution_count": null,
   "metadata": {
    "collapsed": false,
    "jupyter": {
     "outputs_hidden": false
    }
   },
   "outputs": [],
   "source": [
    "te(\"P_<Z,t>(A_X)\", let=False)"
   ]
  },
  {
   "cell_type": "code",
   "execution_count": null,
   "metadata": {
    "collapsed": false,
    "jupyter": {
     "outputs_hidden": false
    }
   },
   "outputs": [],
   "source": [
    "reload_lamb()"
   ]
  },
  {
   "cell_type": "code",
   "execution_count": null,
   "metadata": {
    "collapsed": false,
    "jupyter": {
     "outputs_hidden": false
    }
   },
   "outputs": [],
   "source": [
    "env = meta.TypeEnv()\n",
    "env.add_type_mapping(tp(\"X\"), tp(\"Y\"))\n",
    "assert env.type_mapping[tp(\"X\")] == tp(\"Y\")\n",
    "env.add_type_mapping(tp(\"Y\"), tp(\"Z\"))\n",
    "assert env.type_mapping[tp(\"Y\")] == tp(\"Z\")\n",
    "assert env.type_mapping[tp(\"X\")] == tp(\"Z\")\n",
    "env"
   ]
  },
  {
   "cell_type": "code",
   "execution_count": null,
   "metadata": {
    "collapsed": false,
    "jupyter": {
     "outputs_hidden": false
    }
   },
   "outputs": [],
   "source": [
    "env.add_type_mapping(tp(\"Z\"), tp(\"Z2\"))\n",
    "assert env.type_mapping[tp(\"Y\")] == tp(\"Z2\")\n",
    "assert env.type_mapping[tp(\"X\")] == tp(\"Z2\")\n",
    "assert env.type_mapping[tp(\"X\")] == tp(\"Z2\")\n",
    "env"
   ]
  },
  {
   "cell_type": "code",
   "execution_count": null,
   "metadata": {
    "collapsed": false,
    "jupyter": {
     "outputs_hidden": false
    }
   },
   "outputs": [],
   "source": [
    "tmp = env.type_mapping.copy()\n",
    "env.add_type_mapping(tp(\"Z2\"), tp(\"X\"))\n",
    "assert tmp == env.type_mapping\n",
    "env"
   ]
  },
  {
   "cell_type": "code",
   "execution_count": null,
   "metadata": {
    "collapsed": false,
    "jupyter": {
     "outputs_hidden": false
    }
   },
   "outputs": [],
   "source": [
    "env.add_type_mapping(tp(\"Y\"), tp(\"X2\"))\n",
    "assert env.type_mapping[tp(\"Y\")] == tp(\"X2\")\n",
    "assert env.type_mapping[tp(\"X\")] == tp(\"X2\")\n",
    "env"
   ]
  },
  {
   "cell_type": "code",
   "execution_count": null,
   "metadata": {
    "collapsed": false,
    "jupyter": {
     "outputs_hidden": false
    }
   },
   "outputs": [],
   "source": [
    "env.add_type_mapping(tp(\"X\"), tp(\"<X5,X6>\"))\n",
    "env"
   ]
  },
  {
   "cell_type": "code",
   "execution_count": null,
   "metadata": {
    "collapsed": false,
    "jupyter": {
     "outputs_hidden": false
    }
   },
   "outputs": [],
   "source": [
    "env.add_type_mapping(tp(\"X5\"), tp(\"Z3\"))\n",
    "assert env.type_mapping[tp(\"X\")].left == tp(\"Z3\")\n",
    "env"
   ]
  },
  {
   "cell_type": "code",
   "execution_count": null,
   "metadata": {
    "collapsed": false,
    "jupyter": {
     "outputs_hidden": false
    }
   },
   "outputs": [],
   "source": [
    "assert env.try_unify(tp(\"X5\"), tp(\"Z2\")) == None # should trigger occurs check\n",
    "assert env.try_unify(tp(\"Z2\"), tp(\"X5\")) == None"
   ]
  },
  {
   "cell_type": "code",
   "execution_count": null,
   "metadata": {
    "collapsed": false,
    "jupyter": {
     "outputs_hidden": false
    }
   },
   "outputs": [],
   "source": [
    "env.add_type_mapping(tp(\"<X6,X6>\"),tp(\"<X7,X7>\"))\n",
    "env"
   ]
  },
  {
   "cell_type": "code",
   "execution_count": null,
   "metadata": {
    "collapsed": false,
    "jupyter": {
     "outputs_hidden": false
    }
   },
   "outputs": [],
   "source": [
    "env.add_type_mapping(tp(\"<X8,<X8,X8>>\"),tp(\"<X8,<X7,X7>>\"))\n",
    "env"
   ]
  },
  {
   "cell_type": "code",
   "execution_count": null,
   "metadata": {
    "collapsed": true,
    "jupyter": {
     "outputs_hidden": true
    }
   },
   "outputs": [],
   "source": []
  },
  {
   "cell_type": "code",
   "execution_count": null,
   "metadata": {
    "collapsed": true,
    "jupyter": {
     "outputs_hidden": true
    }
   },
   "outputs": [],
   "source": [
    "x = %te g_<Y,Z>(f_<X,Y>(x_X))"
   ]
  },
  {
   "cell_type": "code",
   "execution_count": null,
   "metadata": {
    "collapsed": false,
    "jupyter": {
     "outputs_hidden": false
    }
   },
   "outputs": [],
   "source": [
    "x.try_adjust_type(tp(\"t\"))"
   ]
  },
  {
   "cell_type": "code",
   "execution_count": null,
   "metadata": {
    "collapsed": false,
    "jupyter": {
     "outputs_hidden": false
    }
   },
   "outputs": [],
   "source": [
    "%lamb g = L x_X : x"
   ]
  },
  {
   "cell_type": "code",
   "execution_count": null,
   "metadata": {
    "collapsed": false,
    "jupyter": {
     "outputs_hidden": false
    }
   },
   "outputs": [],
   "source": [
    "%lamb a = L g_<n,t> : g(x_X)"
   ]
  },
  {
   "cell_type": "code",
   "execution_count": null,
   "metadata": {
    "collapsed": false,
    "jupyter": {
     "outputs_hidden": false
    }
   },
   "outputs": [],
   "source": [
    "g"
   ]
  },
  {
   "cell_type": "code",
   "execution_count": null,
   "metadata": {
    "collapsed": false,
    "jupyter": {
     "outputs_hidden": false
    }
   },
   "outputs": [],
   "source": [
    "%%lamb\n",
    "gpm = L f_<X,t> : L g_<X,t> : L x_X : f(x) & g(x)"
   ]
  },
  {
   "cell_type": "code",
   "execution_count": null,
   "metadata": {
    "collapsed": false,
    "jupyter": {
     "outputs_hidden": false
    }
   },
   "outputs": [],
   "source": [
    "%%lamb reset\n",
    "g = L x_n : x>3"
   ]
  },
  {
   "cell_type": "code",
   "execution_count": null,
   "metadata": {
    "collapsed": false,
    "jupyter": {
     "outputs_hidden": false
    }
   },
   "outputs": [],
   "source": [
    "%lamb gpm = L f_<X,t> : L g_<X,t> : L x_X : f_<X,t>(x) & g(x)"
   ]
  },
  {
   "cell_type": "code",
   "execution_count": null,
   "metadata": {
    "collapsed": false,
    "jupyter": {
     "outputs_hidden": false
    }
   },
   "outputs": [],
   "source": [
    "d = parsing.parse(\"g = L x_n : x>3\")[0]\n",
    "d"
   ]
  },
  {
   "cell_type": "code",
   "execution_count": null,
   "metadata": {
    "collapsed": false,
    "jupyter": {
     "outputs_hidden": false
    }
   },
   "outputs": [],
   "source": [
    "reload_lamb()"
   ]
  },
  {
   "cell_type": "code",
   "execution_count": null,
   "metadata": {
    "collapsed": false,
    "jupyter": {
     "outputs_hidden": false
    }
   },
   "outputs": [],
   "source": [
    "tp(\"<?,t>\")"
   ]
  },
  {
   "cell_type": "code",
   "execution_count": null,
   "metadata": {
    "collapsed": false,
    "jupyter": {
     "outputs_hidden": false
    }
   },
   "outputs": [],
   "source": [
    "r = %te x_<?,t>(y_e)\n",
    "r"
   ]
  },
  {
   "cell_type": "code",
   "execution_count": null,
   "metadata": {
    "collapsed": false,
    "jupyter": {
     "outputs_hidden": false
    }
   },
   "outputs": [],
   "source": [
    "r.derivation"
   ]
  },
  {
   "cell_type": "code",
   "execution_count": null,
   "metadata": {
    "collapsed": false,
    "jupyter": {
     "outputs_hidden": false
    }
   },
   "outputs": [],
   "source": [
    "r = %te x_?(y_e)\n",
    "r"
   ]
  },
  {
   "cell_type": "code",
   "execution_count": null,
   "metadata": {
    "collapsed": false,
    "jupyter": {
     "outputs_hidden": false
    }
   },
   "outputs": [],
   "source": [
    "r.derivation"
   ]
  },
  {
   "cell_type": "code",
   "execution_count": null,
   "metadata": {
    "collapsed": false,
    "jupyter": {
     "outputs_hidden": false
    }
   },
   "outputs": [],
   "source": [
    "r2 = %te x_<?,?>(y_X)\n",
    "r2"
   ]
  },
  {
   "cell_type": "code",
   "execution_count": null,
   "metadata": {
    "collapsed": false,
    "jupyter": {
     "outputs_hidden": false
    }
   },
   "outputs": [],
   "source": [
    "r2.derivation"
   ]
  },
  {
   "cell_type": "code",
   "execution_count": null,
   "metadata": {
    "collapsed": false,
    "jupyter": {
     "outputs_hidden": false
    }
   },
   "outputs": [],
   "source": [
    "x = te(\"x_X\")\n",
    "t = tp(\"e\")\n",
    "%prun -s cumtime for i in range(1000): x.try_adjust_type(t)"
   ]
  },
  {
   "cell_type": "code",
   "execution_count": null,
   "metadata": {
    "collapsed": false,
    "jupyter": {
     "outputs_hidden": false
    }
   },
   "outputs": [],
   "source": [
    "reload_lamb()"
   ]
  },
  {
   "cell_type": "code",
   "execution_count": null,
   "metadata": {
    "collapsed": false,
    "jupyter": {
     "outputs_hidden": false
    }
   },
   "outputs": [],
   "source": [
    "x = %te Iota x_X: P(x)"
   ]
  },
  {
   "cell_type": "code",
   "execution_count": null,
   "metadata": {
    "collapsed": false,
    "jupyter": {
     "outputs_hidden": false
    }
   },
   "outputs": [],
   "source": [
    "x.try_adjust_type(tp(\"e\"))"
   ]
  },
  {
   "cell_type": "code",
   "execution_count": null,
   "metadata": {
    "collapsed": false,
    "jupyter": {
     "outputs_hidden": false
    }
   },
   "outputs": [],
   "source": [
    "y = x.try_adjust_type(tp(\"Y\")) #.get_type_env()\n",
    "y"
   ]
  },
  {
   "cell_type": "code",
   "execution_count": null,
   "metadata": {
    "collapsed": false,
    "jupyter": {
     "outputs_hidden": false
    }
   },
   "outputs": [],
   "source": [
    "y[2][1].get_type_env()"
   ]
  },
  {
   "cell_type": "code",
   "execution_count": null,
   "metadata": {
    "collapsed": false,
    "jupyter": {
     "outputs_hidden": false
    }
   },
   "outputs": [],
   "source": [
    "g.body.get_type_env()"
   ]
  },
  {
   "cell_type": "code",
   "execution_count": null,
   "metadata": {
    "collapsed": false,
    "jupyter": {
     "outputs_hidden": false
    }
   },
   "outputs": [],
   "source": [
    "f = meta.LFun(x.vartype, x.body, x.varname)(te(\"x_Y\"))\n",
    "f"
   ]
  },
  {
   "cell_type": "code",
   "execution_count": null,
   "metadata": {
    "collapsed": false,
    "jupyter": {
     "outputs_hidden": false
    }
   },
   "outputs": [],
   "source": [
    "f = te(\"P_<X,t>\", let=False)(te(\"x_Y\", let=False))\n",
    "f"
   ]
  },
  {
   "cell_type": "code",
   "execution_count": null,
   "metadata": {
    "collapsed": false,
    "jupyter": {
     "outputs_hidden": false
    }
   },
   "outputs": [],
   "source": [
    "f = te(\"P_<X,t>(x_Y)\", let=False)\n",
    "f.get_type_env()"
   ]
  },
  {
   "cell_type": "code",
   "execution_count": null,
   "metadata": {
    "collapsed": false,
    "jupyter": {
     "outputs_hidden": false
    }
   },
   "outputs": [],
   "source": [
    "types.poly_system.unify(x.type, tp(\"Y\"))"
   ]
  },
  {
   "cell_type": "code",
   "execution_count": null,
   "metadata": {
    "collapsed": false,
    "jupyter": {
     "outputs_hidden": false
    }
   },
   "outputs": [],
   "source": [
    "g = meta.LFun(x.vartype, x.body, x.varname).try_adjust_type(tp(\"<Y,t>\"))"
   ]
  },
  {
   "cell_type": "code",
   "execution_count": null,
   "metadata": {
    "collapsed": false,
    "jupyter": {
     "outputs_hidden": false
    }
   },
   "outputs": [],
   "source": [
    "te(\"x_X\").try_adjust_type(tp(\"Y\"))"
   ]
  },
  {
   "cell_type": "code",
   "execution_count": null,
   "metadata": {
    "collapsed": false,
    "jupyter": {
     "outputs_hidden": false
    }
   },
   "outputs": [],
   "source": [
    "x.body.get_type_env()"
   ]
  },
  {
   "cell_type": "code",
   "execution_count": null,
   "metadata": {
    "collapsed": false,
    "jupyter": {
     "outputs_hidden": false
    }
   },
   "outputs": [],
   "source": [
    "f.body"
   ]
  },
  {
   "cell_type": "code",
   "execution_count": null,
   "metadata": {
    "collapsed": false,
    "jupyter": {
     "outputs_hidden": false
    }
   },
   "outputs": [],
   "source": [
    "g.body is f.body"
   ]
  },
  {
   "cell_type": "code",
   "execution_count": null,
   "metadata": {
    "collapsed": false,
    "jupyter": {
     "outputs_hidden": false
    }
   },
   "outputs": [],
   "source": [
    "g.body.get_type_env()"
   ]
  },
  {
   "cell_type": "code",
   "execution_count": null,
   "metadata": {
    "collapsed": false,
    "jupyter": {
     "outputs_hidden": false
    }
   },
   "outputs": [],
   "source": [
    "f.body.get_type_env().copy().try_add_var_mapping('P', tp(\"<Y,t>\"))"
   ]
  },
  {
   "cell_type": "code",
   "execution_count": null,
   "metadata": {
    "collapsed": false,
    "jupyter": {
     "outputs_hidden": false
    }
   },
   "outputs": [],
   "source": [
    "f.body.get_type_env()"
   ]
  },
  {
   "cell_type": "code",
   "execution_count": null,
   "metadata": {
    "collapsed": false,
    "jupyter": {
     "outputs_hidden": false
    }
   },
   "outputs": [],
   "source": [
    "g"
   ]
  },
  {
   "cell_type": "code",
   "execution_count": null,
   "metadata": {
    "collapsed": false,
    "jupyter": {
     "outputs_hidden": false
    }
   },
   "outputs": [],
   "source": [
    "e2 = x.body.get_type_env().copy()\n",
    "e2"
   ]
  },
  {
   "cell_type": "code",
   "execution_count": null,
   "metadata": {
    "collapsed": false,
    "jupyter": {
     "outputs_hidden": false
    }
   },
   "outputs": [],
   "source": [
    "e2.try_add_var_mapping('x', tp(\"Y\"))\n",
    "e2"
   ]
  },
  {
   "cell_type": "code",
   "execution_count": null,
   "metadata": {
    "collapsed": false,
    "jupyter": {
     "outputs_hidden": false
    }
   },
   "outputs": [],
   "source": [
    "x.body.get_type_env()"
   ]
  },
  {
   "cell_type": "code",
   "execution_count": null,
   "metadata": {
    "collapsed": true,
    "jupyter": {
     "outputs_hidden": true
    }
   },
   "outputs": [],
   "source": [
    "assert te(\"x_X\", let=False).try_adjust_type(tp(\"Y\")).type == tp(\"Y\")\n",
    "assert te(\"L x_X : P_<X,t>(x)\", let=False).try_adjust_type(tp(\"<Y,t>\")).type == tp(\"<Y,t>\")\n",
    "assert te(\"L x_X : L y_Y : P_<(X,Y),t>(x,y)\", let=False).try_adjust_type(tp(\"<Y,<Y,t>>\")).type == tp(\"<Y,<Y,t>>\")"
   ]
  },
  {
   "cell_type": "code",
   "execution_count": null,
   "metadata": {
    "collapsed": false,
    "jupyter": {
     "outputs_hidden": false
    }
   },
   "outputs": [],
   "source": [
    "%te L x_<X,t> : L z_Y: x(P_<Y,X>(z))"
   ]
  },
  {
   "cell_type": "code",
   "execution_count": null,
   "metadata": {
    "collapsed": false,
    "jupyter": {
     "outputs_hidden": false
    }
   },
   "outputs": [],
   "source": [
    "%te L x_X : P_<Y,t>(A_Y) & Q_<X,t>(x)"
   ]
  },
  {
   "cell_type": "code",
   "execution_count": null,
   "metadata": {
    "collapsed": false,
    "jupyter": {
     "outputs_hidden": false
    }
   },
   "outputs": [],
   "source": [
    "%te L x_X : P_<Y,t>(A_Y) & Q_<X,t>(x_e)"
   ]
  },
  {
   "cell_type": "code",
   "execution_count": null,
   "metadata": {
    "collapsed": false,
    "jupyter": {
     "outputs_hidden": false
    }
   },
   "outputs": [],
   "source": [
    "f = %te L x_X : P_<Y,t>(A_Y) & Q_<X,t>(x_e)\n",
    "f"
   ]
  },
  {
   "cell_type": "code",
   "execution_count": null,
   "metadata": {
    "collapsed": false,
    "jupyter": {
     "outputs_hidden": false
    }
   },
   "outputs": [],
   "source": [
    "f"
   ]
  },
  {
   "cell_type": "code",
   "execution_count": null,
   "metadata": {
    "collapsed": false,
    "jupyter": {
     "outputs_hidden": false
    }
   },
   "outputs": [],
   "source": [
    "f.get_type_env()"
   ]
  },
  {
   "cell_type": "code",
   "execution_count": null,
   "metadata": {
    "collapsed": false,
    "jupyter": {
     "outputs_hidden": false
    }
   },
   "outputs": [],
   "source": [
    "te(\"L x_X : (L y_<Y,Z> : y(z_e))(x) & p_X\")[2].get_type_env()"
   ]
  },
  {
   "cell_type": "code",
   "execution_count": null,
   "metadata": {
    "collapsed": false,
    "jupyter": {
     "outputs_hidden": false
    }
   },
   "outputs": [],
   "source": [
    "te(\"L x_X : f_X(x_e) & p_X\", let=False).get_type_env()"
   ]
  },
  {
   "cell_type": "code",
   "execution_count": null,
   "metadata": {
    "collapsed": false,
    "jupyter": {
     "outputs_hidden": false
    }
   },
   "outputs": [],
   "source": [
    "te(\"f_X(x_e) & p_X\")[2].get_type_env()"
   ]
  },
  {
   "cell_type": "code",
   "execution_count": null,
   "metadata": {
    "collapsed": false,
    "jupyter": {
     "outputs_hidden": false
    }
   },
   "outputs": [],
   "source": [
    "te(\"q_t & p_X\")[2].get_type_env()"
   ]
  },
  {
   "cell_type": "code",
   "execution_count": null,
   "metadata": {
    "collapsed": false,
    "jupyter": {
     "outputs_hidden": false
    }
   },
   "outputs": [],
   "source": [
    "reload_lamb()\n",
    "te(\"p_X\").try_adjust_type(tp(\"t\"))._type_env #get_type_env()"
   ]
  },
  {
   "cell_type": "code",
   "execution_count": null,
   "metadata": {
    "collapsed": false,
    "jupyter": {
     "outputs_hidden": false
    }
   },
   "outputs": [],
   "source": [
    "e = te(\"p_X\")._type_env\n",
    "e.try_add_var_mapping(\"p\", tp(\"t\"))\n",
    "e"
   ]
  },
  {
   "cell_type": "code",
   "execution_count": null,
   "metadata": {
    "collapsed": false,
    "jupyter": {
     "outputs_hidden": false
    }
   },
   "outputs": [],
   "source": []
  },
  {
   "cell_type": "code",
   "execution_count": null,
   "metadata": {
    "collapsed": false,
    "jupyter": {
     "outputs_hidden": false
    }
   },
   "outputs": [],
   "source": [
    "reload_lamb()\n",
    "%time meta.merge_tes(te(\"x_e\"), te(\"y_e\"), symmetric=True)"
   ]
  },
  {
   "cell_type": "code",
   "execution_count": null,
   "metadata": {
    "collapsed": true,
    "jupyter": {
     "outputs_hidden": true
    }
   },
   "outputs": [],
   "source": []
  }
 ],
 "metadata": {
  "kernelspec": {
   "display_name": "Lambda Notebook (Python 3)",
   "language": "python",
   "name": "lambda-notebook"
  },
  "language_info": {
   "codemirror_mode": {
    "name": "ipython",
    "version": 3
   },
   "file_extension": ".py",
   "mimetype": "text/x-python",
   "name": "python",
   "nbconvert_exporter": "python",
   "pygments_lexer": "ipython3",
   "version": "3.12.0"
  }
 },
 "nbformat": 4,
 "nbformat_minor": 4
}
