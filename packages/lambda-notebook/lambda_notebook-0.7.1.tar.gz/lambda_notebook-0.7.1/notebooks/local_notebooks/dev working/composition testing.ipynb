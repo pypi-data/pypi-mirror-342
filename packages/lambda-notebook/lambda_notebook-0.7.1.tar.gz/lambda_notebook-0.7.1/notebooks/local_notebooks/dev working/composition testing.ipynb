{
 "cells": [
  {
   "cell_type": "code",
   "execution_count": 393,
   "metadata": {
    "collapsed": false
   },
   "outputs": [
    {
     "data": {
      "text/latex": [
       "$\\lambda{} f_{\\langle{}X,t\\rangle{}} \\: . \\: \\lambda{} g_{\\langle{}X,t\\rangle{}} \\: . \\: \\lambda{} x_{X} \\: . \\: ({f}_{\\langle{}X,t\\rangle{}}({x}_{X}) \\wedge{} {g}_{\\langle{}X,t\\rangle{}}({x}_{X}))$"
      ],
      "text/plain": [
       "(λ f_<X,t>: (λ g_<X,t>: (λ x_X: (f_<X,t>(x_X) & g_<X,t>(x_X)))))"
      ]
     },
     "execution_count": 393,
     "metadata": {},
     "output_type": "execute_result"
    }
   ],
   "source": [
    "reload_lamb()\n",
    "pa2comb = %te L f_<X,t> : L g_<X,t> : L x_X : f(x) & g(x)\n",
    "pa2comb"
   ]
  },
  {
   "cell_type": "code",
   "execution_count": 394,
   "metadata": {
    "collapsed": false
   },
   "outputs": [
    {
     "data": {
      "text/html": [
       "Composition system 'H&K simple (copy)'<br />Operations: {<br />&nbsp;&nbsp;&nbsp;&nbsp;Binary composition rule <i>FA</i>, built on python function 'lamb.lang.fa_fun'<br />&nbsp;&nbsp;&nbsp;&nbsp;Binary composition rule <i>PM</i>, built on python function 'lamb.lang.pm_fun'<br />&nbsp;&nbsp;&nbsp;&nbsp;Binary composition rule <i>PA</i>, built on python function 'lamb.lang.pa_fun'<br />&nbsp;&nbsp;&nbsp;&nbsp;Binary composition rule <i>GPM</i>, built on combinator '$\\lambda{} f_{\\langle{}X,t\\rangle{}} \\: . \\: \\lambda{} g_{\\langle{}X,t\\rangle{}} \\: . \\: \\lambda{} x_{X} \\: . \\: ({f}_{\\langle{}X,t\\rangle{}}({x}_{X}) \\wedge{} {g}_{\\langle{}X,t\\rangle{}}({x}_{X}))$'<br />}"
      ],
      "text/plain": [
       "Composition system: H&K simple (copy)"
      ]
     },
     "execution_count": 394,
     "metadata": {},
     "output_type": "execute_result"
    }
   ],
   "source": [
    "system = lang.td_system.copy()\n",
    "system.add_binary_rule(pa2comb, \"GPM\")\n",
    "lang.set_system(system)\n",
    "system"
   ]
  },
  {
   "cell_type": "code",
   "execution_count": 395,
   "metadata": {
    "collapsed": false
   },
   "outputs": [
    {
     "name": "stderr",
     "output_type": "stream",
     "text": [
      "INFO (meta): Coerced guessed type t for 'Gray_t' into <e,t>, to match argument 'x_e'\n",
      "INFO (meta): Coerced guessed type t for 'Cat_t' into <e,t>, to match argument 'x_e'\n"
     ]
    },
    {
     "data": {
      "text/html": [
       "$[\\![\\mathbf{\\text{gray}}]\\!]^{}_{\\langle{}e,t\\rangle{}} \\:=\\: \\lambda{} x_{e} \\: . \\: {Gray}({x}_{e})$<br />\n",
       "$[\\![\\mathbf{\\text{cat}}]\\!]^{}_{\\langle{}e,t\\rangle{}} \\:=\\: \\lambda{} x_{e} \\: . \\: {Cat}({x}_{e})$"
      ],
      "text/latex": [
       "$[\\![\\mathbf{\\text{gray}}]\\!]^{}_{\\langle{}e,t\\rangle{}} \\:=\\: \\lambda{} x_{e} \\: . \\: {Gray}({x}_{e})$<br />\n",
       "$[\\![\\mathbf{\\text{cat}}]\\!]^{}_{\\langle{}e,t\\rangle{}} \\:=\\: \\lambda{} x_{e} \\: . \\: {Cat}({x}_{e})$"
      ],
      "text/plain": [
       "$[\\![\\mathbf{\\text{gray}}]\\!]^{}_{\\langle{}e,t\\rangle{}} \\:=\\: \\lambda{} x_{e} \\: . \\: {Gray}({x}_{e})$<br />\n",
       "$[\\![\\mathbf{\\text{cat}}]\\!]^{}_{\\langle{}e,t\\rangle{}} \\:=\\: \\lambda{} x_{e} \\: . \\: {Cat}({x}_{e})$"
      ]
     },
     "execution_count": 395,
     "metadata": {},
     "output_type": "execute_result"
    }
   ],
   "source": [
    "%%lamb\n",
    "||gray|| = L x_e : Gray(x)\n",
    "||cat|| = L x_e : Cat(x)"
   ]
  },
  {
   "cell_type": "code",
   "execution_count": 396,
   "metadata": {
    "collapsed": false
   },
   "outputs": [
    {
     "data": {
      "text/html": [
       "2 composition paths. Results:\n",
       "<br />&nbsp;&nbsp;&nbsp;&nbsp;[0]: $[\\![\\mathbf{\\text{[gray cat]}}]\\!]^{}_{\\langle{}e,t\\rangle{}} \\:=\\: $$\\lambda{} x_{e} \\: . \\: ({Gray}({x}_{e}) \\wedge{} {Cat}({x}_{e}))$ &nbsp;&nbsp;<span style=\"font-size:small\">(2 equivalent paths lead here)</span>\n",
       "<br />&nbsp;&nbsp;&nbsp;&nbsp;[1]: $[\\![\\mathbf{\\text{[cat gray]}}]\\!]^{}_{\\langle{}e,t\\rangle{}} \\:=\\: $$\\lambda{} x_{e} \\: . \\: ({Cat}({x}_{e}) \\wedge{} {Gray}({x}_{e}))$"
      ],
      "text/plain": [
       "CompositionResult(results=[⟦[gray cat]⟧ = (λ x_e: (Gray_<e,t>(x_e) & Cat_<e,t>(x_e))), ⟦[cat gray]⟧ = (λ x_e: (Cat_<e,t>(x_e) & Gray_<e,t>(x_e)))], failures=[⟦[gray cat]⟧ = Type mismatch: '⟦gray⟧ = (λ x_e: Gray_<e,t>(x_e))'/<e,t> and '⟦cat⟧ = (λ x_e: Cat_<e,t>(x_e))'/<e,t> conflict (mode: Function Application), ⟦[cat gray]⟧ = Type mismatch: '⟦cat⟧ = (λ x_e: Cat_<e,t>(x_e))'/<e,t> and '⟦gray⟧ = (λ x_e: Gray_<e,t>(x_e))'/<e,t> conflict (mode: Function Application), ⟦[gray cat]⟧ = Type mismatch: '⟦gray⟧ = (λ x_e: Gray_<e,t>(x_e))'/<e,t> and '⟦cat⟧ = (λ x_e: Cat_<e,t>(x_e))'/<e,t> conflict (mode: Predicate Abstraction), ⟦[cat gray]⟧ = Type mismatch: '⟦cat⟧ = (λ x_e: Cat_<e,t>(x_e))'/<e,t> and '⟦gray⟧ = (λ x_e: Gray_<e,t>(x_e))'/<e,t> conflict (mode: Predicate Abstraction)])"
      ]
     },
     "execution_count": 396,
     "metadata": {},
     "output_type": "execute_result"
    }
   ],
   "source": [
    "r = gray * cat\n",
    "r"
   ]
  },
  {
   "cell_type": "code",
   "execution_count": 397,
   "metadata": {
    "collapsed": false
   },
   "outputs": [
    {
     "data": {
      "text/html": [
       "2 composition paths. Results:\n",
       "<br />&nbsp;&nbsp;&nbsp;&nbsp;[0]: $[\\![\\mathbf{\\text{[gray cat]}}]\\!]^{}_{\\langle{}e,t\\rangle{}} \\:=\\: $$\\lambda{} x_{e} \\: . \\: ({Gray}({x}_{e}) \\wedge{} {Cat}({x}_{e}))$ &nbsp;&nbsp;<span style=\"font-size:small\">(2 equivalent paths lead here)</span>\n",
       "<br />&nbsp;&nbsp;&nbsp;&nbsp;[1]: $[\\![\\mathbf{\\text{[cat gray]}}]\\!]^{}_{\\langle{}e,t\\rangle{}} \\:=\\: $$\\lambda{} x_{e} \\: . \\: ({Cat}({x}_{e}) \\wedge{} {Gray}({x}_{e}))$\n",
       "<br /><br />Composition attempts that failed:<br />\n",
       "&nbsp;&nbsp;&nbsp;&nbsp;<span style=\"color:red\">Type mismatch</span>: '$[\\![\\mathbf{\\text{gray}}]\\!]^{}_{\\langle{}e,t\\rangle{}} \\:=\\: $$\\lambda{} x_{e} \\: . \\: {Gray}({x}_{e})$'/$\\langle{}e,t\\rangle{}$ and '$[\\![\\mathbf{\\text{cat}}]\\!]^{}_{\\langle{}e,t\\rangle{}} \\:=\\: $$\\lambda{} x_{e} \\: . \\: {Cat}({x}_{e})$'/$\\langle{}e,t\\rangle{}$ conflict (mode: Function Application)<br />\n",
       "&nbsp;&nbsp;&nbsp;&nbsp;<span style=\"color:red\">Type mismatch</span>: '$[\\![\\mathbf{\\text{cat}}]\\!]^{}_{\\langle{}e,t\\rangle{}} \\:=\\: $$\\lambda{} x_{e} \\: . \\: {Cat}({x}_{e})$'/$\\langle{}e,t\\rangle{}$ and '$[\\![\\mathbf{\\text{gray}}]\\!]^{}_{\\langle{}e,t\\rangle{}} \\:=\\: $$\\lambda{} x_{e} \\: . \\: {Gray}({x}_{e})$'/$\\langle{}e,t\\rangle{}$ conflict (mode: Function Application)<br />\n",
       "&nbsp;&nbsp;&nbsp;&nbsp;<span style=\"color:red\">Type mismatch</span>: '$[\\![\\mathbf{\\text{gray}}]\\!]^{}_{\\langle{}e,t\\rangle{}} \\:=\\: $$\\lambda{} x_{e} \\: . \\: {Gray}({x}_{e})$'/$\\langle{}e,t\\rangle{}$ and '$[\\![\\mathbf{\\text{cat}}]\\!]^{}_{\\langle{}e,t\\rangle{}} \\:=\\: $$\\lambda{} x_{e} \\: . \\: {Cat}({x}_{e})$'/$\\langle{}e,t\\rangle{}$ conflict (mode: Predicate Abstraction)<br />\n",
       "&nbsp;&nbsp;&nbsp;&nbsp;<span style=\"color:red\">Type mismatch</span>: '$[\\![\\mathbf{\\text{cat}}]\\!]^{}_{\\langle{}e,t\\rangle{}} \\:=\\: $$\\lambda{} x_{e} \\: . \\: {Cat}({x}_{e})$'/$\\langle{}e,t\\rangle{}$ and '$[\\![\\mathbf{\\text{gray}}]\\!]^{}_{\\langle{}e,t\\rangle{}} \\:=\\: $$\\lambda{} x_{e} \\: . \\: {Gray}({x}_{e})$'/$\\langle{}e,t\\rangle{}$ conflict (mode: Predicate Abstraction)<br />\n"
      ],
      "text/latex": [
       "2 composition paths. Results:\n",
       "<br />&nbsp;&nbsp;&nbsp;&nbsp;[0]: $[\\![\\mathbf{\\text{[gray cat]}}]\\!]^{}_{\\langle{}e,t\\rangle{}} \\:=\\: $$\\lambda{} x_{e} \\: . \\: ({Gray}({x}_{e}) \\wedge{} {Cat}({x}_{e}))$ &nbsp;&nbsp;<span style=\"font-size:small\">(2 equivalent paths lead here)</span>\n",
       "<br />&nbsp;&nbsp;&nbsp;&nbsp;[1]: $[\\![\\mathbf{\\text{[cat gray]}}]\\!]^{}_{\\langle{}e,t\\rangle{}} \\:=\\: $$\\lambda{} x_{e} \\: . \\: ({Cat}({x}_{e}) \\wedge{} {Gray}({x}_{e}))$\n",
       "<br /><br />Composition attempts that failed:<br />\n",
       "&nbsp;&nbsp;&nbsp;&nbsp;<span style=\"color:red\">Type mismatch</span>: '$[\\![\\mathbf{\\text{gray}}]\\!]^{}_{\\langle{}e,t\\rangle{}} \\:=\\: $$\\lambda{} x_{e} \\: . \\: {Gray}({x}_{e})$'/$\\langle{}e,t\\rangle{}$ and '$[\\![\\mathbf{\\text{cat}}]\\!]^{}_{\\langle{}e,t\\rangle{}} \\:=\\: $$\\lambda{} x_{e} \\: . \\: {Cat}({x}_{e})$'/$\\langle{}e,t\\rangle{}$ conflict (mode: Function Application)<br />\n",
       "&nbsp;&nbsp;&nbsp;&nbsp;<span style=\"color:red\">Type mismatch</span>: '$[\\![\\mathbf{\\text{cat}}]\\!]^{}_{\\langle{}e,t\\rangle{}} \\:=\\: $$\\lambda{} x_{e} \\: . \\: {Cat}({x}_{e})$'/$\\langle{}e,t\\rangle{}$ and '$[\\![\\mathbf{\\text{gray}}]\\!]^{}_{\\langle{}e,t\\rangle{}} \\:=\\: $$\\lambda{} x_{e} \\: . \\: {Gray}({x}_{e})$'/$\\langle{}e,t\\rangle{}$ conflict (mode: Function Application)<br />\n",
       "&nbsp;&nbsp;&nbsp;&nbsp;<span style=\"color:red\">Type mismatch</span>: '$[\\![\\mathbf{\\text{gray}}]\\!]^{}_{\\langle{}e,t\\rangle{}} \\:=\\: $$\\lambda{} x_{e} \\: . \\: {Gray}({x}_{e})$'/$\\langle{}e,t\\rangle{}$ and '$[\\![\\mathbf{\\text{cat}}]\\!]^{}_{\\langle{}e,t\\rangle{}} \\:=\\: $$\\lambda{} x_{e} \\: . \\: {Cat}({x}_{e})$'/$\\langle{}e,t\\rangle{}$ conflict (mode: Predicate Abstraction)<br />\n",
       "&nbsp;&nbsp;&nbsp;&nbsp;<span style=\"color:red\">Type mismatch</span>: '$[\\![\\mathbf{\\text{cat}}]\\!]^{}_{\\langle{}e,t\\rangle{}} \\:=\\: $$\\lambda{} x_{e} \\: . \\: {Cat}({x}_{e})$'/$\\langle{}e,t\\rangle{}$ and '$[\\![\\mathbf{\\text{gray}}]\\!]^{}_{\\langle{}e,t\\rangle{}} \\:=\\: $$\\lambda{} x_{e} \\: . \\: {Gray}({x}_{e})$'/$\\langle{}e,t\\rangle{}$ conflict (mode: Predicate Abstraction)<br />\n"
      ],
      "text/plain": [
       "2 composition paths. Results:\n",
       "<br />&nbsp;&nbsp;&nbsp;&nbsp;[0]: $[\\![\\mathbf{\\text{[gray cat]}}]\\!]^{}_{\\langle{}e,t\\rangle{}} \\:=\\: $$\\lambda{} x_{e} \\: . \\: ({Gray}({x}_{e}) \\wedge{} {Cat}({x}_{e}))$ &nbsp;&nbsp;<span style=\"font-size:small\">(2 equivalent paths lead here)</span>\n",
       "<br />&nbsp;&nbsp;&nbsp;&nbsp;[1]: $[\\![\\mathbf{\\text{[cat gray]}}]\\!]^{}_{\\langle{}e,t\\rangle{}} \\:=\\: $$\\lambda{} x_{e} \\: . \\: ({Cat}({x}_{e}) \\wedge{} {Gray}({x}_{e}))$\n",
       "<br /><br />Composition attempts that failed:<br />\n",
       "&nbsp;&nbsp;&nbsp;&nbsp;<span style=\"color:red\">Type mismatch</span>: '$[\\![\\mathbf{\\text{gray}}]\\!]^{}_{\\langle{}e,t\\rangle{}} \\:=\\: $$\\lambda{} x_{e} \\: . \\: {Gray}({x}_{e})$'/$\\langle{}e,t\\rangle{}$ and '$[\\![\\mathbf{\\text{cat}}]\\!]^{}_{\\langle{}e,t\\rangle{}} \\:=\\: $$\\lambda{} x_{e} \\: . \\: {Cat}({x}_{e})$'/$\\langle{}e,t\\rangle{}$ conflict (mode: Function Application)<br />\n",
       "&nbsp;&nbsp;&nbsp;&nbsp;<span style=\"color:red\">Type mismatch</span>: '$[\\![\\mathbf{\\text{cat}}]\\!]^{}_{\\langle{}e,t\\rangle{}} \\:=\\: $$\\lambda{} x_{e} \\: . \\: {Cat}({x}_{e})$'/$\\langle{}e,t\\rangle{}$ and '$[\\![\\mathbf{\\text{gray}}]\\!]^{}_{\\langle{}e,t\\rangle{}} \\:=\\: $$\\lambda{} x_{e} \\: . \\: {Gray}({x}_{e})$'/$\\langle{}e,t\\rangle{}$ conflict (mode: Function Application)<br />\n",
       "&nbsp;&nbsp;&nbsp;&nbsp;<span style=\"color:red\">Type mismatch</span>: '$[\\![\\mathbf{\\text{gray}}]\\!]^{}_{\\langle{}e,t\\rangle{}} \\:=\\: $$\\lambda{} x_{e} \\: . \\: {Gray}({x}_{e})$'/$\\langle{}e,t\\rangle{}$ and '$[\\![\\mathbf{\\text{cat}}]\\!]^{}_{\\langle{}e,t\\rangle{}} \\:=\\: $$\\lambda{} x_{e} \\: . \\: {Cat}({x}_{e})$'/$\\langle{}e,t\\rangle{}$ conflict (mode: Predicate Abstraction)<br />\n",
       "&nbsp;&nbsp;&nbsp;&nbsp;<span style=\"color:red\">Type mismatch</span>: '$[\\![\\mathbf{\\text{cat}}]\\!]^{}_{\\langle{}e,t\\rangle{}} \\:=\\: $$\\lambda{} x_{e} \\: . \\: {Cat}({x}_{e})$'/$\\langle{}e,t\\rangle{}$ and '$[\\![\\mathbf{\\text{gray}}]\\!]^{}_{\\langle{}e,t\\rangle{}} \\:=\\: $$\\lambda{} x_{e} \\: . \\: {Gray}({x}_{e})$'/$\\langle{}e,t\\rangle{}$ conflict (mode: Predicate Abstraction)<br />"
      ]
     },
     "execution_count": 397,
     "metadata": {},
     "output_type": "execute_result"
    }
   ],
   "source": [
    "r.show(failures=True)"
   ]
  },
  {
   "cell_type": "code",
   "execution_count": 398,
   "metadata": {
    "collapsed": false
   },
   "outputs": [
    {
     "data": {
      "text/html": [
       "Full composition trace.  1 path:<br />\n",
       "<b>Path 1 (8 equivalent sub-paths not shown):</b><br />\n",
       "&nbsp;&nbsp;&nbsp;&nbsp;Step 1: $[\\![\\mathbf{\\text{cat}}]\\!]^{}_{\\langle{}e,t\\rangle{}} \\:=\\: $$\\lambda{} x_{e} \\: . \\: {Cat}({x}_{e})$<br />\n",
       "&nbsp;&nbsp;&nbsp;&nbsp;Step 2: $[\\![\\mathbf{\\text{cat}}]\\!]^{}_{\\langle{}e,t\\rangle{}} \\:=\\: $$\\lambda{} x_{e} \\: . \\: {Cat}({x}_{e})$<br />\n",
       "&nbsp;&nbsp;&nbsp;&nbsp;Step 3: $[\\![\\mathbf{\\text{cat}}]\\!]^{}_{\\langle{}e,t\\rangle{}}$ * $[\\![\\mathbf{\\text{cat}}]\\!]^{}_{\\langle{}e,t\\rangle{}}$ leads to: $[\\![\\mathbf{\\text{[cat cat]}}]\\!]^{}_{\\langle{}e,t\\rangle{}} \\:=\\: $$\\lambda{} x_{e} \\: . \\: {Cat}({x}_{e})$ <b>[by PM]</b> (2 equivalent paths not shown: GPM, GPM)<br />\n",
       "&nbsp;&nbsp;&nbsp;&nbsp;Step 4: $[\\![\\mathbf{\\text{cat}}]\\!]^{}_{\\langle{}e,t\\rangle{}} \\:=\\: $$\\lambda{} x_{e} \\: . \\: {Cat}({x}_{e})$<br />\n",
       "&nbsp;&nbsp;&nbsp;&nbsp;Step 5: $[\\![\\mathbf{\\text{[cat cat]}}]\\!]^{}_{\\langle{}e,t\\rangle{}}$ * $[\\![\\mathbf{\\text{cat}}]\\!]^{}_{\\langle{}e,t\\rangle{}}$ leads to: $[\\![\\mathbf{\\text{[[cat cat] cat]}}]\\!]^{}_{\\langle{}e,t\\rangle{}} \\:=\\: $$\\lambda{} x_{e} \\: . \\: {Cat}({x}_{e})$ <b>[by PM]</b> (2 equivalent paths not shown: GPM, GPM)<br />\n"
      ],
      "text/latex": [
       "Full composition trace.  1 path:<br />\n",
       "<b>Path 1 (8 equivalent sub-paths not shown):</b><br />\n",
       "&nbsp;&nbsp;&nbsp;&nbsp;Step 1: $[\\![\\mathbf{\\text{cat}}]\\!]^{}_{\\langle{}e,t\\rangle{}} \\:=\\: $$\\lambda{} x_{e} \\: . \\: {Cat}({x}_{e})$<br />\n",
       "&nbsp;&nbsp;&nbsp;&nbsp;Step 2: $[\\![\\mathbf{\\text{cat}}]\\!]^{}_{\\langle{}e,t\\rangle{}} \\:=\\: $$\\lambda{} x_{e} \\: . \\: {Cat}({x}_{e})$<br />\n",
       "&nbsp;&nbsp;&nbsp;&nbsp;Step 3: $[\\![\\mathbf{\\text{cat}}]\\!]^{}_{\\langle{}e,t\\rangle{}}$ * $[\\![\\mathbf{\\text{cat}}]\\!]^{}_{\\langle{}e,t\\rangle{}}$ leads to: $[\\![\\mathbf{\\text{[cat cat]}}]\\!]^{}_{\\langle{}e,t\\rangle{}} \\:=\\: $$\\lambda{} x_{e} \\: . \\: {Cat}({x}_{e})$ <b>[by PM]</b> (2 equivalent paths not shown: GPM, GPM)<br />\n",
       "&nbsp;&nbsp;&nbsp;&nbsp;Step 4: $[\\![\\mathbf{\\text{cat}}]\\!]^{}_{\\langle{}e,t\\rangle{}} \\:=\\: $$\\lambda{} x_{e} \\: . \\: {Cat}({x}_{e})$<br />\n",
       "&nbsp;&nbsp;&nbsp;&nbsp;Step 5: $[\\![\\mathbf{\\text{[cat cat]}}]\\!]^{}_{\\langle{}e,t\\rangle{}}$ * $[\\![\\mathbf{\\text{cat}}]\\!]^{}_{\\langle{}e,t\\rangle{}}$ leads to: $[\\![\\mathbf{\\text{[[cat cat] cat]}}]\\!]^{}_{\\langle{}e,t\\rangle{}} \\:=\\: $$\\lambda{} x_{e} \\: . \\: {Cat}({x}_{e})$ <b>[by PM]</b> (2 equivalent paths not shown: GPM, GPM)<br />\n"
      ],
      "text/plain": [
       "Full composition trace.  1 path:<br />\n",
       "<b>Path 1 (8 equivalent sub-paths not shown):</b><br />\n",
       "&nbsp;&nbsp;&nbsp;&nbsp;Step 1: $[\\![\\mathbf{\\text{cat}}]\\!]^{}_{\\langle{}e,t\\rangle{}} \\:=\\: $$\\lambda{} x_{e} \\: . \\: {Cat}({x}_{e})$<br />\n",
       "&nbsp;&nbsp;&nbsp;&nbsp;Step 2: $[\\![\\mathbf{\\text{cat}}]\\!]^{}_{\\langle{}e,t\\rangle{}} \\:=\\: $$\\lambda{} x_{e} \\: . \\: {Cat}({x}_{e})$<br />\n",
       "&nbsp;&nbsp;&nbsp;&nbsp;Step 3: $[\\![\\mathbf{\\text{cat}}]\\!]^{}_{\\langle{}e,t\\rangle{}}$ * $[\\![\\mathbf{\\text{cat}}]\\!]^{}_{\\langle{}e,t\\rangle{}}$ leads to: $[\\![\\mathbf{\\text{[cat cat]}}]\\!]^{}_{\\langle{}e,t\\rangle{}} \\:=\\: $$\\lambda{} x_{e} \\: . \\: {Cat}({x}_{e})$ <b>[by PM]</b> (2 equivalent paths not shown: GPM, GPM)<br />\n",
       "&nbsp;&nbsp;&nbsp;&nbsp;Step 4: $[\\![\\mathbf{\\text{cat}}]\\!]^{}_{\\langle{}e,t\\rangle{}} \\:=\\: $$\\lambda{} x_{e} \\: . \\: {Cat}({x}_{e})$<br />\n",
       "&nbsp;&nbsp;&nbsp;&nbsp;Step 5: $[\\![\\mathbf{\\text{[cat cat]}}]\\!]^{}_{\\langle{}e,t\\rangle{}}$ * $[\\![\\mathbf{\\text{cat}}]\\!]^{}_{\\langle{}e,t\\rangle{}}$ leads to: $[\\![\\mathbf{\\text{[[cat cat] cat]}}]\\!]^{}_{\\langle{}e,t\\rangle{}} \\:=\\: $$\\lambda{} x_{e} \\: . \\: {Cat}({x}_{e})$ <b>[by PM]</b> (2 equivalent paths not shown: GPM, GPM)<br />"
      ]
     },
     "execution_count": 398,
     "metadata": {},
     "output_type": "execute_result"
    }
   ],
   "source": [
    "r = cat * cat * cat\n",
    "r.trace(subpaths=False)"
   ]
  },
  {
   "cell_type": "code",
   "execution_count": 399,
   "metadata": {
    "collapsed": false
   },
   "outputs": [
    {
     "data": {
      "text/html": [
       "1 composition path:<br />Path [0]:(8 other equivalent paths)<br />\n",
       "<style>.rendered_html table, .rendered_html tr, .rendered_html td, .rendered_html th { border: 0px; }</style><table><tr style=\"border:1px solid #848482\"><td style=\"vertical-align:bottom;padding:0px 10px\" align=\"center\"><table><tr><td style=\"vertical-align:bottom;padding:5px\"><table><tr style=\"border:1px solid #848482\"><td style=\"vertical-align:bottom;padding:0px 10px\" align=\"center\"><table><tr><td style=\"vertical-align:bottom;padding:5px\"><div style=\"margin-top:10px;border-style:solid;border-color:#848482;border-width:0px\"><div style=\"vertical-align:bottom;text-align:center\">$[\\![\\mathbf{\\text{cat}}]\\!]^{}_{\\langle{}e,t\\rangle{}}$</div><div style=\"vertical-align:bottom;text-align:center\">$\\lambda{} x_{e} \\: . \\: {Cat}({x}_{e})$</div></div></td><td style=\"vertical-align:bottom;padding:10px\">$\\circ$</td><td style=\"vertical-align:bottom;padding:5px\"><div style=\"margin-top:10px;border-style:solid;border-color:#848482;border-width:0px\"><div style=\"vertical-align:bottom;text-align:center\">$[\\![\\mathbf{\\text{cat}}]\\!]^{}_{\\langle{}e,t\\rangle{}}$</div><div style=\"vertical-align:bottom;text-align:center\">$\\lambda{} x_{e} \\: . \\: {Cat}({x}_{e})$</div></div></td></tr></table></td><td style=\"border-left:1px solid #848482;vertical-align:center;padding:10px\"><span style=\"color:blue\"><b>[PM<span style=\"font-size:x-small\"> (or: GPM, GPM)</span>]</b></span></td></tr><tr style=\"border-style:solid;border-color:#848482;border-width:0px 1px 1px 1px\"><td style=\"padding:5px\" align=\"center\"><div style=\"margin-top:10px;border-style:solid;border-color:#848482;border-width:0px\"><div style=\"vertical-align:bottom;text-align:center\">$[\\![\\mathbf{\\text{[cat cat]}}]\\!]^{}_{\\langle{}e,t\\rangle{}}$</div><div style=\"vertical-align:bottom;text-align:center\">$\\lambda{} x_{e} \\: . \\: {Cat}({x}_{e})$</div></div></td><td></td></tr></table></td><td style=\"vertical-align:bottom;padding:10px\">$\\circ$</td><td style=\"vertical-align:bottom;padding:5px\"><div style=\"margin-top:10px;border-style:solid;border-color:#848482;border-width:0px\"><div style=\"vertical-align:bottom;text-align:center\">$[\\![\\mathbf{\\text{cat}}]\\!]^{}_{\\langle{}e,t\\rangle{}}$</div><div style=\"vertical-align:bottom;text-align:center\">$\\lambda{} x_{e} \\: . \\: {Cat}({x}_{e})$</div></div></td></tr></table></td><td style=\"border-left:1px solid #848482;vertical-align:center;padding:10px\"><span style=\"color:blue\"><b>[PM<span style=\"font-size:x-small\"> (or: GPM, GPM)</span>]</b></span></td></tr><tr style=\"border-style:solid;border-color:#848482;border-width:0px 1px 1px 1px\"><td style=\"padding:5px\" align=\"center\"><div style=\"margin-top:10px;border-style:solid;border-color:#848482;border-width:0px\"><div style=\"vertical-align:bottom;text-align:center\">$[\\![\\mathbf{\\text{[[cat cat] cat]}}]\\!]^{}_{\\langle{}e,t\\rangle{}}$</div><div style=\"vertical-align:bottom;text-align:center\">$\\lambda{} x_{e} \\: . \\: {Cat}({x}_{e})$</div></div></td><td></td></tr></table><br /><br />"
      ],
      "text/latex": [
       "1 composition path:<br />Path [0]:(8 other equivalent paths)<br />\n",
       "<style>.rendered_html table, .rendered_html tr, .rendered_html td, .rendered_html th { border: 0px; }</style><table><tr style=\"border:1px solid #848482\"><td style=\"vertical-align:bottom;padding:0px 10px\" align=\"center\"><table><tr><td style=\"vertical-align:bottom;padding:5px\"><table><tr style=\"border:1px solid #848482\"><td style=\"vertical-align:bottom;padding:0px 10px\" align=\"center\"><table><tr><td style=\"vertical-align:bottom;padding:5px\"><div style=\"margin-top:10px;border-style:solid;border-color:#848482;border-width:0px\"><div style=\"vertical-align:bottom;text-align:center\">$[\\![\\mathbf{\\text{cat}}]\\!]^{}_{\\langle{}e,t\\rangle{}}$</div><div style=\"vertical-align:bottom;text-align:center\">$\\lambda{} x_{e} \\: . \\: {Cat}({x}_{e})$</div></div></td><td style=\"vertical-align:bottom;padding:10px\">$\\circ$</td><td style=\"vertical-align:bottom;padding:5px\"><div style=\"margin-top:10px;border-style:solid;border-color:#848482;border-width:0px\"><div style=\"vertical-align:bottom;text-align:center\">$[\\![\\mathbf{\\text{cat}}]\\!]^{}_{\\langle{}e,t\\rangle{}}$</div><div style=\"vertical-align:bottom;text-align:center\">$\\lambda{} x_{e} \\: . \\: {Cat}({x}_{e})$</div></div></td></tr></table></td><td style=\"border-left:1px solid #848482;vertical-align:center;padding:10px\"><span style=\"color:blue\"><b>[PM<span style=\"font-size:x-small\"> (or: GPM, GPM)</span>]</b></span></td></tr><tr style=\"border-style:solid;border-color:#848482;border-width:0px 1px 1px 1px\"><td style=\"padding:5px\" align=\"center\"><div style=\"margin-top:10px;border-style:solid;border-color:#848482;border-width:0px\"><div style=\"vertical-align:bottom;text-align:center\">$[\\![\\mathbf{\\text{[cat cat]}}]\\!]^{}_{\\langle{}e,t\\rangle{}}$</div><div style=\"vertical-align:bottom;text-align:center\">$\\lambda{} x_{e} \\: . \\: {Cat}({x}_{e})$</div></div></td><td></td></tr></table></td><td style=\"vertical-align:bottom;padding:10px\">$\\circ$</td><td style=\"vertical-align:bottom;padding:5px\"><div style=\"margin-top:10px;border-style:solid;border-color:#848482;border-width:0px\"><div style=\"vertical-align:bottom;text-align:center\">$[\\![\\mathbf{\\text{cat}}]\\!]^{}_{\\langle{}e,t\\rangle{}}$</div><div style=\"vertical-align:bottom;text-align:center\">$\\lambda{} x_{e} \\: . \\: {Cat}({x}_{e})$</div></div></td></tr></table></td><td style=\"border-left:1px solid #848482;vertical-align:center;padding:10px\"><span style=\"color:blue\"><b>[PM<span style=\"font-size:x-small\"> (or: GPM, GPM)</span>]</b></span></td></tr><tr style=\"border-style:solid;border-color:#848482;border-width:0px 1px 1px 1px\"><td style=\"padding:5px\" align=\"center\"><div style=\"margin-top:10px;border-style:solid;border-color:#848482;border-width:0px\"><div style=\"vertical-align:bottom;text-align:center\">$[\\![\\mathbf{\\text{[[cat cat] cat]}}]\\!]^{}_{\\langle{}e,t\\rangle{}}$</div><div style=\"vertical-align:bottom;text-align:center\">$\\lambda{} x_{e} \\: . \\: {Cat}({x}_{e})$</div></div></td><td></td></tr></table><br /><br />"
      ],
      "text/plain": [
       "1 composition path:<br />Path [0]:(8 other equivalent paths)<br />\n",
       "<style>.rendered_html table, .rendered_html tr, .rendered_html td, .rendered_html th { border: 0px; }</style><table><tr style=\"border:1px solid #848482\"><td style=\"vertical-align:bottom;padding:0px 10px\" align=\"center\"><table><tr><td style=\"vertical-align:bottom;padding:5px\"><table><tr style=\"border:1px solid #848482\"><td style=\"vertical-align:bottom;padding:0px 10px\" align=\"center\"><table><tr><td style=\"vertical-align:bottom;padding:5px\"><div style=\"margin-top:10px;border-style:solid;border-color:#848482;border-width:0px\"><div style=\"vertical-align:bottom;text-align:center\">$[\\![\\mathbf{\\text{cat}}]\\!]^{}_{\\langle{}e,t\\rangle{}}$</div><div style=\"vertical-align:bottom;text-align:center\">$\\lambda{} x_{e} \\: . \\: {Cat}({x}_{e})$</div></div></td><td style=\"vertical-align:bottom;padding:10px\">$\\circ$</td><td style=\"vertical-align:bottom;padding:5px\"><div style=\"margin-top:10px;border-style:solid;border-color:#848482;border-width:0px\"><div style=\"vertical-align:bottom;text-align:center\">$[\\![\\mathbf{\\text{cat}}]\\!]^{}_{\\langle{}e,t\\rangle{}}$</div><div style=\"vertical-align:bottom;text-align:center\">$\\lambda{} x_{e} \\: . \\: {Cat}({x}_{e})$</div></div></td></tr></table></td><td style=\"border-left:1px solid #848482;vertical-align:center;padding:10px\"><span style=\"color:blue\"><b>[PM<span style=\"font-size:x-small\"> (or: GPM, GPM)</span>]</b></span></td></tr><tr style=\"border-style:solid;border-color:#848482;border-width:0px 1px 1px 1px\"><td style=\"padding:5px\" align=\"center\"><div style=\"margin-top:10px;border-style:solid;border-color:#848482;border-width:0px\"><div style=\"vertical-align:bottom;text-align:center\">$[\\![\\mathbf{\\text{[cat cat]}}]\\!]^{}_{\\langle{}e,t\\rangle{}}$</div><div style=\"vertical-align:bottom;text-align:center\">$\\lambda{} x_{e} \\: . \\: {Cat}({x}_{e})$</div></div></td><td></td></tr></table></td><td style=\"vertical-align:bottom;padding:10px\">$\\circ$</td><td style=\"vertical-align:bottom;padding:5px\"><div style=\"margin-top:10px;border-style:solid;border-color:#848482;border-width:0px\"><div style=\"vertical-align:bottom;text-align:center\">$[\\![\\mathbf{\\text{cat}}]\\!]^{}_{\\langle{}e,t\\rangle{}}$</div><div style=\"vertical-align:bottom;text-align:center\">$\\lambda{} x_{e} \\: . \\: {Cat}({x}_{e})$</div></div></td></tr></table></td><td style=\"border-left:1px solid #848482;vertical-align:center;padding:10px\"><span style=\"color:blue\"><b>[PM<span style=\"font-size:x-small\"> (or: GPM, GPM)</span>]</b></span></td></tr><tr style=\"border-style:solid;border-color:#848482;border-width:0px 1px 1px 1px\"><td style=\"padding:5px\" align=\"center\"><div style=\"margin-top:10px;border-style:solid;border-color:#848482;border-width:0px\"><div style=\"vertical-align:bottom;text-align:center\">$[\\![\\mathbf{\\text{[[cat cat] cat]}}]\\!]^{}_{\\langle{}e,t\\rangle{}}$</div><div style=\"vertical-align:bottom;text-align:center\">$\\lambda{} x_{e} \\: . \\: {Cat}({x}_{e})$</div></div></td><td></td></tr></table><br /><br />"
      ]
     },
     "execution_count": 399,
     "metadata": {},
     "output_type": "execute_result"
    }
   ],
   "source": [
    "r.tree()"
   ]
  },
  {
   "cell_type": "code",
   "execution_count": 400,
   "metadata": {
    "collapsed": false
   },
   "outputs": [
    {
     "data": {
      "text/html": [
       "1 composition path.  Result:\n",
       "<br />&nbsp;&nbsp;&nbsp;&nbsp;[0]: $[\\![\\mathbf{\\text{[[cat cat] cat]}}]\\!]^{}_{\\langle{}e,t\\rangle{}} \\:=\\: $$\\lambda{} x_{e} \\: . \\: {Cat}({x}_{e})$ &nbsp;&nbsp;<span style=\"font-size:small\">(9 equivalent paths lead here)</span>"
      ],
      "text/latex": [
       "1 composition path.  Result:\n",
       "<br />&nbsp;&nbsp;&nbsp;&nbsp;[0]: $[\\![\\mathbf{\\text{[[cat cat] cat]}}]\\!]^{}_{\\langle{}e,t\\rangle{}} \\:=\\: $$\\lambda{} x_{e} \\: . \\: {Cat}({x}_{e})$ &nbsp;&nbsp;<span style=\"font-size:small\">(9 equivalent paths lead here)</span>"
      ],
      "text/plain": [
       "1 composition path.  Result:\n",
       "<br />&nbsp;&nbsp;&nbsp;&nbsp;[0]: $[\\![\\mathbf{\\text{[[cat cat] cat]}}]\\!]^{}_{\\langle{}e,t\\rangle{}} \\:=\\: $$\\lambda{} x_{e} \\: . \\: {Cat}({x}_{e})$ &nbsp;&nbsp;<span style=\"font-size:small\">(9 equivalent paths lead here)</span>"
      ]
     },
     "execution_count": 400,
     "metadata": {},
     "output_type": "execute_result"
    }
   ],
   "source": [
    "r.show()"
   ]
  },
  {
   "cell_type": "code",
   "execution_count": null,
   "metadata": {
    "collapsed": true
   },
   "outputs": [],
   "source": []
  }
 ],
 "metadata": {
  "kernelspec": {
   "display_name": "Lambda Notebook (Python 3)",
   "language": "python",
   "name": "lambda-notebook"
  },
  "language_info": {
   "codemirror_mode": {
    "name": "ipython",
    "version": 3
   },
   "file_extension": ".py",
   "mimetype": "text/x-python",
   "name": "python",
   "nbconvert_exporter": "python",
   "pygments_lexer": "ipython3",
   "version": "3.5.1"
  }
 },
 "nbformat": 4,
 "nbformat_minor": 0
}
