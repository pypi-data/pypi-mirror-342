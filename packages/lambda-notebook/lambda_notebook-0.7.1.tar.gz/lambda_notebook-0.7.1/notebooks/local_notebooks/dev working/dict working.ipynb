{
 "cells": [
  {
   "cell_type": "code",
   "execution_count": 155,
   "id": "c2c88d86-6814-4af6-a2a4-591cb19cb342",
   "metadata": {},
   "outputs": [],
   "source": [
    "reload_lamb()"
   ]
  },
  {
   "cell_type": "code",
   "execution_count": 156,
   "id": "76ba7838-c678-40d7-966f-5b547914f2b0",
   "metadata": {},
   "outputs": [
    {
     "data": {
      "text/latex": [
       "${\\textsf{Fun[\\{1:c2\\}]}}_{\\left\\langle{}n,e\\right\\rangle{}}$"
      ],
      "text/plain": [
       "{1: _c2}"
      ]
     },
     "execution_count": 156,
     "metadata": {},
     "output_type": "execute_result"
    }
   ],
   "source": [
    "%te {1: _c2,}"
   ]
  },
  {
   "cell_type": "code",
   "execution_count": 157,
   "id": "36429369-dc03-4555-a081-003eed0389da",
   "metadata": {},
   "outputs": [
    {
     "data": {
      "text/markdown": [
       "<span style=\"color:red\">**ParseError**</span>: Unknown type domain element in function range: `x_e`, in string `{_c1: _c2, _c2: x_e}`"
      ],
      "text/plain": [
       "ParseError: Unknown type domain element in function range: `x_e`, in string `{_c1: _c2, _c2: x_e}`"
      ]
     },
     "metadata": {},
     "output_type": "display_data"
    }
   ],
   "source": [
    "%te {_c1: _c2, _c2: x_e}"
   ]
  },
  {
   "cell_type": "code",
   "execution_count": 158,
   "id": "350ee86e-0ed1-401a-89b3-86042163c218",
   "metadata": {},
   "outputs": [
    {
     "data": {
      "text/plain": [
       "'{_c1: _c2}'"
      ]
     },
     "execution_count": 158,
     "metadata": {},
     "output_type": "execute_result"
    }
   ],
   "source": [
    "repr(lamb.meta.MetaTerm({te(\"_c1\"): te(\"_c2\")}))"
   ]
  },
  {
   "cell_type": "code",
   "execution_count": 159,
   "id": "b72d5864-53fe-48d0-a258-200b412731b1",
   "metadata": {},
   "outputs": [
    {
     "data": {
      "text/plain": [
       "'(_c1,_c2)'"
      ]
     },
     "execution_count": 159,
     "metadata": {},
     "output_type": "execute_result"
    }
   ],
   "source": [
    "repr(lamb.meta.MetaTerm((te(\"_c1\"), te(\"_c2\"))))"
   ]
  },
  {
   "cell_type": "code",
   "execution_count": 160,
   "id": "6b544179-0828-4042-be80-aabbd7ce501d",
   "metadata": {},
   "outputs": [],
   "source": [
    "reload_lamb()"
   ]
  },
  {
   "cell_type": "code",
   "execution_count": 161,
   "id": "dcee785a-ba26-44e0-8aa3-a95ceb33fd12",
   "metadata": {},
   "outputs": [
    {
     "data": {
      "text/latex": [
       "$\\left[\\begin{array}{lll} x & \\rightarrow & {\\textsf{c1}}_{e} \\\\\n",
       "z & \\rightarrow & {\\textsf{c1}}_{e} \\\\ \\end{array}\\right]$"
      ],
      "text/plain": [
       "[_c1/x,_c1/z]"
      ]
     },
     "execution_count": 161,
     "metadata": {},
     "output_type": "execute_result"
    }
   ],
   "source": [
    "g = meta.meta.Assignment({'x': te(\"_c1\"), 'z': te(\"_c1\")}, name=\"\")\n",
    "g"
   ]
  },
  {
   "cell_type": "code",
   "execution_count": 162,
   "id": "5feceda1-e17b-4295-a855-a8a1afdeca8b",
   "metadata": {},
   "outputs": [
    {
     "data": {
      "text/latex": [
       "${\\left[\\begin{array}{lll} x & \\rightarrow & {\\textsf{c1}}_{e} \\\\\n",
       "z & \\rightarrow & {\\textsf{c1}}_{e} \\\\ \\end{array}\\right]}^{[{\\textsf{c2}}_{e}/x,{\\textsf{c3}}_{e}/y]}$"
      ],
      "text/plain": [
       "[_c1/x,_c1/z][_c2/x,_c3/y]"
      ]
     },
     "execution_count": 162,
     "metadata": {},
     "output_type": "execute_result"
    }
   ],
   "source": [
    "g2 = g.modify(x=te(\"_c2\"), y=te(\"_c3\"))\n",
    "g2"
   ]
  },
  {
   "cell_type": "code",
   "execution_count": 163,
   "id": "5ed77d89-f65b-4390-8d62-672e3bf8ed82",
   "metadata": {},
   "outputs": [
    {
     "data": {
      "text/plain": [
       "[{'x': _c2, 'y': _c3}, {'x': _c1, 'z': _c1}]"
      ]
     },
     "execution_count": 163,
     "metadata": {},
     "output_type": "execute_result"
    }
   ],
   "source": [
    "g2.store.maps"
   ]
  },
  {
   "cell_type": "code",
   "execution_count": 164,
   "id": "15eca040-4327-4783-8b9d-dc4db6961b49",
   "metadata": {},
   "outputs": [
    {
     "data": {
      "text/latex": [
       "${\\left[\\begin{array}{lll} x & \\rightarrow & {\\textsf{c1}}_{e} \\\\\n",
       "z & \\rightarrow & {\\textsf{c1}}_{e} \\\\ \\end{array}\\right]}^{[{\\textsf{c2}}_{e}/x,{\\textsf{c3}}_{e}/y]}$"
      ],
      "text/plain": [
       "[_c1/x,_c1/z][_c2/x,_c3/y]"
      ]
     },
     "execution_count": 164,
     "metadata": {},
     "output_type": "execute_result"
    }
   ],
   "source": [
    "g2"
   ]
  },
  {
   "cell_type": "code",
   "execution_count": 165,
   "id": "65ced449-36d6-433c-a8f6-5d0d06de1ab6",
   "metadata": {},
   "outputs": [],
   "source": [
    "del g2['x']"
   ]
  },
  {
   "cell_type": "code",
   "execution_count": 166,
   "id": "8bb61b17-c85b-4236-b13c-fe2eb243a93f",
   "metadata": {},
   "outputs": [
    {
     "data": {
      "text/latex": [
       "${\\left[\\begin{array}{lll} x & \\rightarrow & {\\textsf{c1}}_{e} \\\\\n",
       "z & \\rightarrow & {\\textsf{c1}}_{e} \\\\ \\end{array}\\right]}^{[{\\textsf{c3}}_{e}/y]}$"
      ],
      "text/plain": [
       "[_c1/x,_c1/z][_c3/y]"
      ]
     },
     "execution_count": 166,
     "metadata": {},
     "output_type": "execute_result"
    }
   ],
   "source": [
    "g2"
   ]
  },
  {
   "cell_type": "code",
   "execution_count": 93,
   "id": "f326ce64-3130-45f0-8ceb-b7bdc24a44b4",
   "metadata": {},
   "outputs": [
    {
     "name": "stdout",
     "output_type": "stream",
     "text": [
      "ChainMap({'x': _c2, 'y': _c3}, {'x': _c1})\n"
     ]
    }
   ],
   "source": [
    "from IPython.lib.pretty import pprint\n",
    "pprint(g2.store)"
   ]
  },
  {
   "cell_type": "code",
   "execution_count": 96,
   "id": "0146736a-a448-43e8-941e-30576ce657c2",
   "metadata": {},
   "outputs": [
    {
     "name": "stdout",
     "output_type": "stream",
     "text": [
      "{'x': _c2, 'y': _c3}\n"
     ]
    }
   ],
   "source": [
    "pprint(dict(g2.store))"
   ]
  },
  {
   "cell_type": "code",
   "execution_count": 97,
   "id": "8997f1ea-ffec-4a8d-890f-e38db93088e2",
   "metadata": {},
   "outputs": [
    {
     "name": "stdout",
     "output_type": "stream",
     "text": [
      "{'x': 2}\n"
     ]
    }
   ],
   "source": [
    "pprint({'x': 2})"
   ]
  },
  {
   "cell_type": "code",
   "execution_count": 101,
   "id": "b47a16e7-4b55-44ca-962c-28dea6be2285",
   "metadata": {},
   "outputs": [
    {
     "data": {
      "text/plain": [
       "g2(x=_c2, y=_c3)"
      ]
     },
     "execution_count": 101,
     "metadata": {},
     "output_type": "execute_result"
    }
   ],
   "source": [
    "import IPython\n",
    "IPython.lib.pretty.CallExpression(\"g2\", **g2.store)"
   ]
  },
  {
   "cell_type": "code",
   "execution_count": null,
   "id": "0ee69df3-25c7-4196-b68c-36f1f34aaa14",
   "metadata": {},
   "outputs": [],
   "source": []
  },
  {
   "cell_type": "code",
   "execution_count": null,
   "id": "8abdcc82-7812-43a6-a68a-8b67c4027648",
   "metadata": {},
   "outputs": [],
   "source": []
  },
  {
   "cell_type": "code",
   "execution_count": null,
   "id": "02fecdd5-3800-41f7-8d59-24e42cfca3a0",
   "metadata": {},
   "outputs": [],
   "source": []
  },
  {
   "cell_type": "code",
   "execution_count": 169,
   "id": "f3cf7f51-dcd7-4ab3-8db2-4b09a4bba13e",
   "metadata": {},
   "outputs": [],
   "source": [
    "reload_lamb()"
   ]
  },
  {
   "cell_type": "code",
   "execution_count": 170,
   "id": "4ea1c7f4-be82-428a-ac51-1af7d99347de",
   "metadata": {},
   "outputs": [
    {
     "name": "stderr",
     "output_type": "stream",
     "text": [
      "ERROR (parsing): Parsing of typed expression failed with exception:\n",
      "ERROR (parsing): [ValueError] Bug: `find_unique_evaluation` failed to simplify subexpression `(ExistsExact x_e: True)` of `(ExistsExact p_t: (ExistsExact x_e: True))` during evaluation\n"
     ]
    }
   ],
   "source": [
    "%te simplify (ExistsExact x_e: (ExistsExact p_t: True))"
   ]
  },
  {
   "cell_type": "code",
   "execution_count": null,
   "id": "c17e49fd-964e-403a-9d6b-af0b2117f80e",
   "metadata": {},
   "outputs": [],
   "source": []
  }
 ],
 "metadata": {
  "kernelspec": {
   "display_name": "Lambda Notebook (Python 3)",
   "language": "python",
   "name": "lambda-notebook"
  },
  "language_info": {
   "codemirror_mode": {
    "name": "ipython",
    "version": 3
   },
   "file_extension": ".py",
   "mimetype": "text/x-python",
   "name": "python",
   "nbconvert_exporter": "python",
   "pygments_lexer": "ipython3",
   "version": "3.10.14"
  }
 },
 "nbformat": 4,
 "nbformat_minor": 5
}
