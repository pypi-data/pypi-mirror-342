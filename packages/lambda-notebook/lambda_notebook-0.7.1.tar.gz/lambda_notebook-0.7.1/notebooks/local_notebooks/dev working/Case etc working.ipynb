{
 "cells": [
  {
   "cell_type": "code",
   "execution_count": 6,
   "id": "e61de967-bec1-4241-8f2c-c8a24fa809f6",
   "metadata": {},
   "outputs": [],
   "source": [
    "reload_lamb()"
   ]
  },
  {
   "cell_type": "raw",
   "id": "70ed7da3-ade3-433a-8bcf-47f862bfebb1",
   "metadata": {},
   "source": [
    "from lamb.meta import TypedExpr, derived\n",
    "\n",
    "class Case(TypedExpr):\n",
    "    canonical_name = 'Case'\n",
    "    def __init__(self, cond, if_case, else_case, *, typ=None, **kwargs):\n",
    "        cond, _ = self.type_constraint(cond, types.type_t)\n",
    "        if_case, typ = self.type_constraint(if_case, typ)\n",
    "        if_case, else_case = self.type_constraint(if_case, else_case)\n",
    "        super().__init__(\"Case\", cond, if_case, else_case, typ=if_case.type)\n",
    "\n",
    "    def simplify(self, **sopts):\n",
    "        # note: simplify_all on this class is currently not short-circuiting, but\n",
    "        # possibly it should bdde\n",
    "        if self[0] == True:\n",
    "            return derived(self[1], self, \"Case simplification: True\")\n",
    "        elif self[0] == False:\n",
    "            return derived(self[2], self, \"Case simplification: False\")\n",
    "        else:\n",
    "            return self\n",
    "\n",
    "    def _compile(self):\n",
    "        cond = self[0]._compiled\n",
    "        if_case = self[1]._compiled\n",
    "        else_case = self[2]._compiled\n",
    "        def inner(context):\n",
    "            if cond(context):\n",
    "                return if_case(context)\n",
    "            else:\n",
    "                return else_case(context)\n",
    "    \n",
    "    def latex_str(self, suppress_parens=False, **kwargs):\n",
    "        inner = \", \".join([a.latex_str(**kwargs) for a in self.args])\n",
    "        return utils.ensuremath(f\"\\\\textsf{{Case}}({inner})\")\n",
    "\n",
    "    def latex_str(self, **kwargs):\n",
    "        cases = []\n",
    "        c = self\n",
    "        while isinstance(c, Case):\n",
    "            cases.append((c[1], c[0]))\n",
    "            c = c[2]\n",
    "        cases = [f\"{case[0].latex_str(**kwargs)} & \\\\text{{if }}{case[1].latex_str(**kwargs)} \\\\\\\\\" for case in cases]\n",
    "        return utils.ensuremath(\n",
    "            f\"\\\\begin{{cases}}\\n{'\\n'.join(cases)}\"\n",
    "            f\"{c.latex_str(**kwargs)} & \\\\text{{otherwise}} \\\\end{{cases}}\")\n",
    "\n",
    "TypedExpr.add_local(\"Case\", Case.from_tuple)"
   ]
  },
  {
   "cell_type": "code",
   "execution_count": 23,
   "id": "dea10c50-cedf-4687-bacb-21b28db78f3d",
   "metadata": {},
   "outputs": [
    {
     "data": {
      "text/plain": [
       "{'__ptf': <function lamb.meta.core.__ptf(s, typ=None, assignment=None)>,\n",
       " 'Disjunctive': <function lamb.meta.core.TypedExpr.add_local.<locals>.<lambda>(*args, **kwargs)>,\n",
       " 'Fun': <function lamb.meta.core.TypedExpr.add_local.<locals>.<lambda>(*args, **kwargs)>,\n",
       " 'Partial': <function lamb.meta.core.OperatorRegistry.op_instantiator.<locals>.<lambda>(seq, **kwargs)>,\n",
       " 'Body': <function lamb.meta.core.OperatorRegistry.op_instantiator.<locals>.<lambda>(seq, **kwargs)>,\n",
       " 'Condition': <function lamb.meta.core.OperatorRegistry.op_instantiator.<locals>.<lambda>(seq, **kwargs)>,\n",
       " 'Case': <function lamb.meta.core.OperatorRegistry.op_instantiator.<locals>.<lambda>(seq, **kwargs)>,\n",
       " 'Dom': <function lamb.meta.core.OperatorRegistry.op_instantiator.<locals>.<lambda>(seq, **kwargs)>,\n",
       " 'Codom': <function lamb.meta.core.OperatorRegistry.op_instantiator.<locals>.<lambda>(seq, **kwargs)>}"
      ]
     },
     "execution_count": 23,
     "metadata": {},
     "output_type": "execute_result"
    }
   ],
   "source": [
    "lamb.meta.core.TypedExpr._parsing_locals"
   ]
  },
  {
   "cell_type": "code",
   "execution_count": 8,
   "id": "09e9e78a-9782-4c5e-87bd-5a419e135191",
   "metadata": {},
   "outputs": [
    {
     "data": {
      "text/latex": [
       "$\\begin{cases}\n",
       "\\textsf{c1}_{e} & \\text{if }{p}_{t} \\wedge{} {q}_{t} \\\\\\textsf{c2}_{e} & \\text{otherwise} \\end{cases}$"
      ],
      "text/plain": [
       "Case((p_t & q_t), _c1, _c2)"
      ]
     },
     "execution_count": 8,
     "metadata": {},
     "output_type": "execute_result"
    }
   ],
   "source": [
    "x = %te Case(p_t & q_t, _c1, _c2)\n",
    "x"
   ]
  },
  {
   "cell_type": "code",
   "execution_count": 9,
   "id": "d29d7dc1-d4ba-40cd-87ee-07a84fbd38de",
   "metadata": {},
   "outputs": [
    {
     "data": {
      "text/latex": [
       "$\\begin{cases}\n",
       "\\textsf{c1}_{e} & \\text{if }{p}_{t} \\wedge{} {q}_{t} \\\\\\textsf{c2}_{e} & \\text{otherwise} \\end{cases}$"
      ],
      "text/plain": [
       "Case((p_t & q_t), _c1, _c2)"
      ]
     },
     "execution_count": 9,
     "metadata": {},
     "output_type": "execute_result"
    }
   ],
   "source": [
    "x.simplify_all()"
   ]
  },
  {
   "cell_type": "code",
   "execution_count": 10,
   "id": "efdfee94-a2eb-4d2c-af5d-1722fefbd044",
   "metadata": {},
   "outputs": [
    {
     "data": {
      "text/plain": [
       "'Case((p_t & q_t), _c1, _c2)'"
      ]
     },
     "execution_count": 10,
     "metadata": {},
     "output_type": "execute_result"
    }
   ],
   "source": [
    "repr(x)"
   ]
  },
  {
   "cell_type": "code",
   "execution_count": 11,
   "id": "d1703fc9-2a05-4a9b-ab65-5578b4dec492",
   "metadata": {},
   "outputs": [
    {
     "data": {
      "text/latex": [
       "$\\begin{cases}\n",
       "\\textsf{c1}_{e} & \\text{if }{p}_{t} \\wedge{} {q}_{t} \\\\\n",
       "\\textsf{c2}_{e} & \\text{if }{r}_{t} \\\\\\textsf{c3}_{e} & \\text{otherwise} \\end{cases}$"
      ],
      "text/plain": [
       "Case((p_t & q_t), _c1, Case(r_t, _c2, _c3))"
      ]
     },
     "execution_count": 11,
     "metadata": {},
     "output_type": "execute_result"
    }
   ],
   "source": [
    "x2 = %te Case(p_t & q_t, _c1, Case(r_t, _c2, _c3))\n",
    "x2"
   ]
  },
  {
   "cell_type": "code",
   "execution_count": 12,
   "id": "70ee63d1-7936-4418-a70c-a8d045bf6fc6",
   "metadata": {},
   "outputs": [
    {
     "data": {
      "text/plain": [
       "'Case((p_t & q_t), _c1, Case(r_t, _c2, _c3))'"
      ]
     },
     "execution_count": 12,
     "metadata": {},
     "output_type": "execute_result"
    }
   ],
   "source": [
    "repr(x2)"
   ]
  },
  {
   "cell_type": "code",
   "execution_count": 13,
   "id": "301f1a4d-94e6-46d1-89f9-ee0108d5ae18",
   "metadata": {},
   "outputs": [
    {
     "data": {
      "text/latex": [
       "$\\begin{cases}\n",
       "\\begin{cases}\n",
       "\\textsf{c1}_{e} & \\text{if }{s}_{t} \\\\\\textsf{c4}_{e} & \\text{otherwise} \\end{cases} & \\text{if }{p}_{t} \\wedge{} {q}_{t} \\\\\n",
       "\\textsf{c2}_{e} & \\text{if }{r}_{t} \\\\\\textsf{c3}_{e} & \\text{otherwise} \\end{cases}$"
      ],
      "text/plain": [
       "Case((p_t & q_t), Case(s_t, _c1, _c4), Case(r_t, _c2, _c3))"
      ]
     },
     "execution_count": 13,
     "metadata": {},
     "output_type": "execute_result"
    }
   ],
   "source": [
    "x2 = %te Case(p_t & q_t, Case(s_t, _c1, _c4), Case(r_t, _c2, _c3))\n",
    "x2"
   ]
  },
  {
   "cell_type": "code",
   "execution_count": 14,
   "id": "4a5b8530-7f7d-4775-898c-3292b2639bd9",
   "metadata": {},
   "outputs": [
    {
     "data": {
      "text/latex": [
       "$\\begin{cases}\n",
       "\\textsf{c1}_{e} & \\text{if }{p}_{t} \\vee{} \\neg{} {p}_{t} \\\\\\textsf{c2}_{e} & \\text{otherwise} \\end{cases}$"
      ],
      "text/plain": [
       "Case((p_t | ~p_t), _c1, _c2)"
      ]
     },
     "execution_count": 14,
     "metadata": {},
     "output_type": "execute_result"
    }
   ],
   "source": [
    "x3 = %te Case(p_t | ~p_t, _c1, _c2)\n",
    "x3"
   ]
  },
  {
   "cell_type": "code",
   "execution_count": 15,
   "id": "221410a7-d507-4ed8-aa08-9dcda571ac33",
   "metadata": {},
   "outputs": [
    {
     "data": {
      "text/html": [
       "<div align=\"left\" style=\"display:table;\"><div style=\"display:table-cell;vertical-align:top;padding-left:5px;padding-right:5px;padding-top:0.2em\"><div style=\"display:table;\"><div style=\"display:table-row;vertical-align:top;\"><div align=\"left\" style=\"display:table;border-collapse:collapse;\"><div style=\"display:table-row;border-bottom:1px solid #848482;\"><div style=\"display:table-cell;padding:0.2em 5px 0.2em 0px;vertical-align:top;\"></div><div style=\"display:table-cell;vertical-align:top;border-right:1px solid #848482;padding-right:5px;;padding-top:0.2em\"><div style=\"display:inline-block;\"><span>$\\begin{cases}\n",
       "\\textsf{c1}_{e} &amp; \\text{if }{p}_{t} \\vee{} \\neg{} {p}_{t} \\\\\\textsf{c2}_{e} &amp; \\text{otherwise} \\end{cases}$</span></div></div><div style=\"display:table-cell;vertical-align:top;padding-left:5px;padding-right:5px;padding-top:0.2em\"><div style=\"display:table;\"><div style=\"display:table-row;\"><div style=\"white-space:nowrap; color:blue;\"><span>[excluded middle]</span></div></div></div></div></div><div style=\"display:table-row;border-bottom:1px solid #848482;\"><div style=\"display:table-cell;padding:0.2em 5px 0.2em 0px;vertical-align:top;\"> 1. </div><div style=\"display:table-cell;vertical-align:top;border-right:1px solid #848482;padding-right:5px;;padding-top:0.2em\"><div style=\"display:inline-block;\"><span>$\\begin{cases}\n",
       "\\textsf{c1}_{e} &amp; \\text{if }\\textsf{True} \\\\\\textsf{c2}_{e} &amp; \\text{otherwise} \\end{cases}$</span></div></div><div style=\"display:table-cell;vertical-align:top;padding-left:5px;padding-right:5px;padding-top:0.2em\"><div style=\"display:table;\"><div style=\"display:table-row;\"><div style=\"white-space:nowrap; color:blue;\"><span>Case simplification: True</span></div></div></div></div></div><div style=\"display:table-row;\"><div style=\"display:table-cell;padding:0.2em 5px 0.2em 0px;vertical-align:top;\"> 2. </div><div style=\"display:table-cell;vertical-align:top;border-right:1px solid #848482;padding-right:5px;;padding-top:0.2em\"><div style=\"display:inline-block;\"><span>$\\textsf{c1}_{e}$</span></div></div></div></div></div></div></div></div>"
      ],
      "text/plain": [
       " 1. Case((p_t | ~p_t), _c1, _c2)    ([excluded middle])\n",
       " 2. Case(True, _c1, _c2)    (Case simplification: True)\n",
       " 3. _c1"
      ]
     },
     "execution_count": 15,
     "metadata": {},
     "output_type": "execute_result"
    }
   ],
   "source": [
    "x3.simplify_all().derivation"
   ]
  },
  {
   "cell_type": "code",
   "execution_count": 16,
   "id": "4c96a019-1460-44e7-9dd7-2e05ad67c068",
   "metadata": {},
   "outputs": [
    {
     "data": {
      "text/latex": [
       "$\\begin{cases}\n",
       "\\textsf{c1}_{e} & \\text{if }{p}_{t} \\wedge{} \\neg{} {p}_{t} \\\\\n",
       "\\textsf{c2}_{e} & \\text{if }{p}_{t} \\vee{} \\neg{} {p}_{t} \\\\\\textsf{c3}_{e} & \\text{otherwise} \\end{cases}$"
      ],
      "text/plain": [
       "Case((p_t & ~p_t), _c1, Case((p_t | ~p_t), _c2, _c3))"
      ]
     },
     "execution_count": 16,
     "metadata": {},
     "output_type": "execute_result"
    }
   ],
   "source": [
    "x4 = %te Case(p_t & ~p_t, _c1, Case(p_t | ~p_t, _c2, _c3))\n",
    "x4"
   ]
  },
  {
   "cell_type": "code",
   "execution_count": 17,
   "id": "48e5537e-9e5a-491c-b9eb-10469559a325",
   "metadata": {},
   "outputs": [
    {
     "data": {
      "text/html": [
       "<div align=\"left\" style=\"display:table;\"><div style=\"display:table-cell;vertical-align:top;padding-left:5px;padding-right:5px;padding-top:0.2em\"><div style=\"display:table;\"><div style=\"display:table-row;vertical-align:top;\"><div align=\"left\" style=\"display:table;border-collapse:collapse;\"><div style=\"display:table-row;border-bottom:1px solid #848482;\"><div style=\"display:table-cell;padding:0.2em 5px 0.2em 0px;vertical-align:top;\"></div><div style=\"display:table-cell;vertical-align:top;border-right:1px solid #848482;padding-right:5px;;padding-top:0.2em\"><div style=\"display:inline-block;\"><span>$\\begin{cases}\n",
       "\\textsf{c1}_{e} &amp; \\text{if }{p}_{t} \\wedge{} \\neg{} {p}_{t} \\\\\n",
       "\\textsf{c2}_{e} &amp; \\text{if }{p}_{t} \\vee{} \\neg{} {p}_{t} \\\\\\textsf{c3}_{e} &amp; \\text{otherwise} \\end{cases}$</span></div></div><div style=\"display:table-cell;vertical-align:top;padding-left:5px;padding-right:5px;padding-top:0.2em\"><div style=\"display:table;\"><div style=\"display:table-row;\"><div style=\"white-space:nowrap; color:blue;\"><span>[non-contradiction]</span></div></div></div></div></div><div style=\"display:table-row;border-bottom:1px solid #848482;\"><div style=\"display:table-cell;padding:0.2em 5px 0.2em 0px;vertical-align:top;\"> 1. </div><div style=\"display:table-cell;vertical-align:top;border-right:1px solid #848482;padding-right:5px;;padding-top:0.2em\"><div style=\"display:inline-block;\"><span>$\\begin{cases}\n",
       "\\textsf{c1}_{e} &amp; \\text{if }\\textsf{False} \\\\\n",
       "\\textsf{c2}_{e} &amp; \\text{if }{p}_{t} \\vee{} \\neg{} {p}_{t} \\\\\\textsf{c3}_{e} &amp; \\text{otherwise} \\end{cases}$</span></div></div><div style=\"display:table-cell;vertical-align:top;padding-left:5px;padding-right:5px;padding-top:0.2em\"><div style=\"display:table;\"><div style=\"display:table-row;\"><div style=\"white-space:nowrap; color:blue;\"><span>Recursive simplification of subexpression 2</span></div></div><div style=\"display:table-row;vertical-align:top;\"><div align=\"left\" style=\"display:table;border-collapse:collapse;\"><div style=\"display:table-row;border-bottom:1px solid #848482;\"><div style=\"display:table-cell;padding:0.2em 5px 0.2em 0px;vertical-align:top;\"></div><div style=\"display:table-cell;vertical-align:top;border-right:1px solid #848482;padding-right:5px;;padding-top:0.2em\"><div style=\"display:inline-block;\"><span>$\\begin{cases}\n",
       "\\textsf{c2}_{e} &amp; \\text{if }{p}_{t} \\vee{} \\neg{} {p}_{t} \\\\\\textsf{c3}_{e} &amp; \\text{otherwise} \\end{cases}$</span></div></div><div style=\"display:table-cell;vertical-align:top;padding-left:5px;padding-right:5px;padding-top:0.2em\"><div style=\"display:table;\"><div style=\"display:table-row;\"><div style=\"white-space:nowrap; color:blue;\"><span>[excluded middle]</span></div></div></div></div></div><div style=\"display:table-row;border-bottom:1px solid #848482;\"><div style=\"display:table-cell;padding:0.2em 5px 0.2em 0px;vertical-align:top;\"> 1. </div><div style=\"display:table-cell;vertical-align:top;border-right:1px solid #848482;padding-right:5px;;padding-top:0.2em\"><div style=\"display:inline-block;\"><span>$\\begin{cases}\n",
       "\\textsf{c2}_{e} &amp; \\text{if }\\textsf{True} \\\\\\textsf{c3}_{e} &amp; \\text{otherwise} \\end{cases}$</span></div></div><div style=\"display:table-cell;vertical-align:top;padding-left:5px;padding-right:5px;padding-top:0.2em\"><div style=\"display:table;\"><div style=\"display:table-row;\"><div style=\"white-space:nowrap; color:blue;\"><span>Case simplification: True</span></div></div></div></div></div><div style=\"display:table-row;\"><div style=\"display:table-cell;padding:0.2em 5px 0.2em 0px;vertical-align:top;\"> 2. </div><div style=\"display:table-cell;vertical-align:top;border-right:1px solid #848482;padding-right:5px;;padding-top:0.2em\"><div style=\"display:inline-block;\"><span>$\\textsf{c2}_{e}$</span></div></div></div></div></div></div></div></div><div style=\"display:table-row;border-bottom:1px solid #848482;\"><div style=\"display:table-cell;padding:0.2em 5px 0.2em 0px;vertical-align:top;\"> 2. </div><div style=\"display:table-cell;vertical-align:top;border-right:1px solid #848482;padding-right:5px;;padding-top:0.2em\"><div style=\"display:inline-block;\"><span>$\\begin{cases}\n",
       "\\textsf{c1}_{e} &amp; \\text{if }\\textsf{False} \\\\\\textsf{c2}_{e} &amp; \\text{otherwise} \\end{cases}$</span></div></div><div style=\"display:table-cell;vertical-align:top;padding-left:5px;padding-right:5px;padding-top:0.2em\"><div style=\"display:table;\"><div style=\"display:table-row;\"><div style=\"white-space:nowrap; color:blue;\"><span>Case simplification: False</span></div></div></div></div></div><div style=\"display:table-row;\"><div style=\"display:table-cell;padding:0.2em 5px 0.2em 0px;vertical-align:top;\"> 3. </div><div style=\"display:table-cell;vertical-align:top;border-right:1px solid #848482;padding-right:5px;;padding-top:0.2em\"><div style=\"display:inline-block;\"><span>$\\textsf{c2}_{e}$</span></div></div></div></div></div></div></div></div>"
      ],
      "text/plain": [
       "DisplayNode instance: HTML rendering only"
      ]
     },
     "execution_count": 17,
     "metadata": {},
     "output_type": "execute_result"
    }
   ],
   "source": [
    "x4.simplify_all().derivation.trace()"
   ]
  },
  {
   "cell_type": "code",
   "execution_count": 18,
   "id": "bb354230-6b03-42f0-8b0d-da8c73e47883",
   "metadata": {},
   "outputs": [],
   "source": [
    "reload_lamb()"
   ]
  },
  {
   "cell_type": "code",
   "execution_count": 19,
   "id": "985aaac5-833b-474c-a682-547cbf9a6d4a",
   "metadata": {},
   "outputs": [
    {
     "data": {
      "text/latex": [
       "$\\begin{cases}\n",
       "\\textsf{c1}_{e} & \\text{if }{p}_{t} \\\\\n",
       "\\textsf{c2}_{e} & \\text{if }{q}_{t} \\\\\\textsf{c3}_{e} & \\text{otherwise} \\end{cases}$"
      ],
      "text/plain": [
       "Case(p_t, _c1, Case(q_t, _c2, _c3))"
      ]
     },
     "execution_count": 19,
     "metadata": {},
     "output_type": "execute_result"
    }
   ],
   "source": [
    "x5 = %te Case(p_t, _c1, Case(q_t, _c2, _c3))\n",
    "x5"
   ]
  },
  {
   "cell_type": "code",
   "execution_count": 20,
   "id": "a36b811a-2c4e-41b4-be5b-de224c4a741a",
   "metadata": {},
   "outputs": [
    {
     "data": {
      "text/plain": [
       "'_c3'"
      ]
     },
     "execution_count": 20,
     "metadata": {},
     "output_type": "execute_result"
    }
   ],
   "source": [
    "lamb.meta.exec(x5, p=False, q=False)"
   ]
  },
  {
   "cell_type": "code",
   "execution_count": 21,
   "id": "d87c7511-b46c-480a-b0a3-843229d8396e",
   "metadata": {},
   "outputs": [
    {
     "data": {
      "text/plain": [
       "'_c1'"
      ]
     },
     "execution_count": 21,
     "metadata": {},
     "output_type": "execute_result"
    }
   ],
   "source": [
    "x5._compiled({'p':True})"
   ]
  },
  {
   "cell_type": "code",
   "execution_count": 22,
   "id": "f126d3a2-754a-48b0-bcd6-f1fb00b93f5a",
   "metadata": {},
   "outputs": [
    {
     "ename": "TypeError",
     "evalue": "Context for executing `Case(p_t, _c1, Case(q_t, _c2, _c3))` is missing free term(s): q_t",
     "output_type": "error",
     "traceback": [
      "\u001b[0;31m---------------------------------------------------------------------------\u001b[0m",
      "\u001b[0;31mTypeError\u001b[0m                                 Traceback (most recent call last)",
      "Cell \u001b[0;32mIn[22], line 1\u001b[0m\n\u001b[0;32m----> 1\u001b[0m \u001b[43mlamb\u001b[49m\u001b[38;5;241;43m.\u001b[39;49m\u001b[43mmeta\u001b[49m\u001b[38;5;241;43m.\u001b[39;49m\u001b[43mexec\u001b[49m\u001b[43m(\u001b[49m\u001b[43mx5\u001b[49m\u001b[43m,\u001b[49m\u001b[43m \u001b[49m\u001b[43mp\u001b[49m\u001b[38;5;241;43m=\u001b[39;49m\u001b[38;5;28;43;01mTrue\u001b[39;49;00m\u001b[43m)\u001b[49m\n",
      "File \u001b[0;32m~/repos/lambda-notebook/lamb/meta/meta.py:771\u001b[0m, in \u001b[0;36mexec\u001b[0;34m(te, _typecheck, _uncurry, _allow_partial, _check_domain, *args, **context)\u001b[0m\n\u001b[1;32m    764\u001b[0m     args \u001b[38;5;241m=\u001b[39m []\n\u001b[1;32m    766\u001b[0m \u001b[38;5;66;03m# do some validation that lower-level wrappers don't do\u001b[39;00m\n\u001b[1;32m    767\u001b[0m \u001b[38;5;66;03m# note that no type checking of any sort is done on `context` aside from\u001b[39;00m\n\u001b[1;32m    768\u001b[0m \u001b[38;5;66;03m# this. This requires any contextual TypedExprs to themselves have no\u001b[39;00m\n\u001b[1;32m    769\u001b[0m \u001b[38;5;66;03m# context requirements...\u001b[39;00m\n\u001b[1;32m    770\u001b[0m \u001b[38;5;66;03m# XX could lift certain things to MetaTerms?\u001b[39;00m\n\u001b[0;32m--> 771\u001b[0m \u001b[43mcompile_term_check\u001b[49m\u001b[43m(\u001b[49m\u001b[43mte\u001b[49m\u001b[43m,\u001b[49m\u001b[43m \u001b[49m\u001b[43mcontext\u001b[49m\u001b[43m)\u001b[49m\n\u001b[1;32m    772\u001b[0m context \u001b[38;5;241m=\u001b[39m {k: compiled(context[k], validate\u001b[38;5;241m=\u001b[39m\u001b[38;5;28;01mTrue\u001b[39;00m, with_context\u001b[38;5;241m=\u001b[39m{}) \u001b[38;5;28;01mfor\u001b[39;00m k \u001b[38;5;129;01min\u001b[39;00m context}\n\u001b[1;32m    774\u001b[0m r \u001b[38;5;241m=\u001b[39m to_callable(te,\n\u001b[1;32m    775\u001b[0m     _uncurry\u001b[38;5;241m=\u001b[39m_uncurry, _allow_partial\u001b[38;5;241m=\u001b[39m_allow_partial, _check_domain\u001b[38;5;241m=\u001b[39m_check_domain,\n\u001b[1;32m    776\u001b[0m     \u001b[38;5;241m*\u001b[39m\u001b[38;5;241m*\u001b[39mcontext)\n",
      "File \u001b[0;32m~/repos/lambda-notebook/lamb/meta/meta.py:448\u001b[0m, in \u001b[0;36mcompile_term_check\u001b[0;34m(te, context)\u001b[0m\n\u001b[1;32m    445\u001b[0m     missing_terms\u001b[38;5;241m.\u001b[39msort()\n\u001b[1;32m    446\u001b[0m     missing_terms \u001b[38;5;241m=\u001b[39m \u001b[38;5;124m\"\u001b[39m\u001b[38;5;124m, \u001b[39m\u001b[38;5;124m\"\u001b[39m\u001b[38;5;241m.\u001b[39mjoin([\u001b[38;5;28mrepr\u001b[39m(core\u001b[38;5;241m.\u001b[39mTypedTerm(k, typ\u001b[38;5;241m=\u001b[39mte\u001b[38;5;241m.\u001b[39mget_type_env()\u001b[38;5;241m.\u001b[39mterm_type(k)))\n\u001b[1;32m    447\u001b[0m                                     \u001b[38;5;28;01mfor\u001b[39;00m k \u001b[38;5;129;01min\u001b[39;00m missing_terms])\n\u001b[0;32m--> 448\u001b[0m     \u001b[38;5;28;01mraise\u001b[39;00m \u001b[38;5;167;01mTypeError\u001b[39;00m(\u001b[38;5;124mf\u001b[39m\u001b[38;5;124m\"\u001b[39m\u001b[38;5;124mContext for executing `\u001b[39m\u001b[38;5;132;01m{\u001b[39;00m\u001b[38;5;28mrepr\u001b[39m(te)\u001b[38;5;132;01m}\u001b[39;00m\u001b[38;5;124m` is missing free term(s): \u001b[39m\u001b[38;5;132;01m{\u001b[39;00mmissing_terms\u001b[38;5;132;01m}\u001b[39;00m\u001b[38;5;124m\"\u001b[39m)\n\u001b[1;32m    449\u001b[0m \u001b[38;5;28;01mreturn\u001b[39;00m \u001b[38;5;28;01mTrue\u001b[39;00m\n",
      "\u001b[0;31mTypeError\u001b[0m: Context for executing `Case(p_t, _c1, Case(q_t, _c2, _c3))` is missing free term(s): q_t"
     ]
    }
   ],
   "source": [
    "lamb.meta.exec(x5, p=True)"
   ]
  },
  {
   "cell_type": "code",
   "execution_count": null,
   "id": "10c5ff3a-de94-4b4e-a0fe-98bb78fa9ad4",
   "metadata": {},
   "outputs": [],
   "source": []
  },
  {
   "cell_type": "code",
   "execution_count": null,
   "id": "12993651-134b-4918-aadb-df137ef44dfb",
   "metadata": {},
   "outputs": [],
   "source": []
  },
  {
   "cell_type": "code",
   "execution_count": 1,
   "id": "c8c525d5-286c-4893-8eb6-66b9e5fa11d9",
   "metadata": {},
   "outputs": [],
   "source": [
    "reload_lamb()"
   ]
  },
  {
   "cell_type": "code",
   "execution_count": 39,
   "id": "0be03228-d805-4be8-b59f-3448b57ca064",
   "metadata": {},
   "outputs": [
    {
     "name": "stderr",
     "output_type": "stream",
     "text": [
      "WARNING (core): Overriding existing binding operator `Union` in registry\n"
     ]
    }
   ],
   "source": [
    "from lamb.meta import sets, quantifiers\n",
    "from lamb.meta import TypedExpr, derived\n",
    "from lamb.meta.ply import get_sopt\n",
    "from lamb.meta.boolean import true_term\n",
    "from lamb.meta.quantifiers import RestrictedBindingOp\n",
    "\n",
    "class UnionOp(quantifiers.RestrictedBindingOp):\n",
    "    canonical_name = \"Union\"\n",
    "    op_name_uni = \"∪\"\n",
    "    op_name_latex = \"\\\\bigcup{}\"\n",
    "    pre_simplify = True\n",
    "\n",
    "    def __init__(self, var, body, /, restrictor=None, typ=None, **kwargs):\n",
    "        self.type_constraint(body.type, types.SetType, constant=True)\n",
    "        body, typ = self.type_constraint(body, typ,\n",
    "                            error=f\"`UnionOp` body and type should match\")\n",
    "    \n",
    "        super().__init__(var, body, restrictor=restrictor, typ=body.type, **kwargs)\n",
    "\n",
    "    def to_exists_form(self):\n",
    "        outer_var = meta.term(self.find_safe_variable(), typ=self.type.content_type)\n",
    "        inner_var = self.var_instance.copy()\n",
    "        new_body = outer_var << self.body\n",
    "        result = sets.ConditionSet(outer_var,\n",
    "                                   quantifiers.Exists(inner_var, new_body, self.restrictor))        \n",
    "        return derived(result, self, f\"∪{self.varname} => ∃\")\n",
    "    \n",
    "    def eliminate(self, assignment=None, **sopts):\n",
    "        if self.vacuous():\n",
    "            # covers empty set / domain set as body\n",
    "            return derived(self.body.copy(), self, f\"trivial ∪{self.varname} elimination\")\n",
    "        elif self.finite_safe():\n",
    "            a = self.scope_assignment(assignment=assignment)\n",
    "            subs = [self[1].under_assignment(a | {self.varname : elem})\n",
    "                    for elem in self.domain_iter()]\n",
    "            return derived(sets.SetUnion.join(subs, empty=true_term),\n",
    "                self,\n",
    "                f\"∪{self.varname} => ∪\")\n",
    "        # disable this for now -- it produces more complex formulas, not simpler ones\n",
    "        # else:\n",
    "        #     return self.to_exists_form()\n",
    "\n",
    "        return self\n",
    "\n",
    "    def simplify(self, assignment=None, **sopts):\n",
    "        if (self.vacuous() or self.domain_cardinality() == 1\n",
    "                    or get_sopt('eliminate_sets', sopts)):\n",
    "            return self.eliminate(assignment=assignment, **sopts)\n",
    "        return self\n",
    "\n",
    "lamb.meta.core.registry.add_binding_op(UnionOp)"
   ]
  },
  {
   "cell_type": "code",
   "execution_count": 40,
   "id": "3ca2577f-c782-4367-8279-3d3cd6164c2f",
   "metadata": {},
   "outputs": [
    {
     "data": {
      "text/latex": [
       "$\\bigcup{} x_{e} \\in {\\small {Human}_{\\left\\{e\\right\\}}} \\: . \\: \\{{x}\\}$"
      ],
      "text/plain": [
       "(Union x_e << Human_{e}: {x_e})"
      ]
     },
     "execution_count": 40,
     "metadata": {},
     "output_type": "execute_result"
    }
   ],
   "source": [
    "test = %te Union x_e << Human_{e}: {x}\n",
    "test"
   ]
  },
  {
   "cell_type": "code",
   "execution_count": 41,
   "id": "04fe416b-7188-454d-bd56-c429f4869e9e",
   "metadata": {},
   "outputs": [
    {
     "data": {
      "text/latex": [
       "$\\{{x1}_{e} \\:|\\: \\exists{} x_{e} \\in {\\small {Human}_{\\left\\{e\\right\\}}} \\: . \\: {x1}_{e} = {x}\\}$"
      ],
      "text/plain": [
       "(Set x1_e: (Exists x_e << Human_{e}: (x1_e <=> x_e)))"
      ]
     },
     "execution_count": 41,
     "metadata": {},
     "output_type": "execute_result"
    }
   ],
   "source": [
    "test.to_exists_form().simplify_all()"
   ]
  },
  {
   "cell_type": "code",
   "execution_count": 42,
   "id": "2b427e28-cfcf-4f6e-96cd-ae5caf837ad3",
   "metadata": {},
   "outputs": [
    {
     "data": {
      "text/latex": [
       "$\\bigcup{} x_{e} \\in {\\small {Human}_{\\left\\{e\\right\\}}} \\: . \\: \\{{x}\\}$"
      ],
      "text/plain": [
       "(Union x_e << Human_{e}: {x_e})"
      ]
     },
     "execution_count": 42,
     "metadata": {},
     "output_type": "execute_result"
    }
   ],
   "source": [
    "test.eliminate().simplify_all()"
   ]
  },
  {
   "cell_type": "code",
   "execution_count": 43,
   "id": "dc101c9b-6b52-4488-a96e-13bd96777d04",
   "metadata": {},
   "outputs": [
    {
     "data": {
      "text/latex": [
       "$\\bigcup{} x_{e} \\in {\\small {Human}_{\\left\\{e\\right\\}}} \\: . \\: \\{{x}\\}$"
      ],
      "text/plain": [
       "(Union x_e << Human_{e}: {x_e})"
      ]
     },
     "execution_count": 43,
     "metadata": {},
     "output_type": "execute_result"
    }
   ],
   "source": [
    "test.simplify_all()"
   ]
  },
  {
   "cell_type": "code",
   "execution_count": 44,
   "id": "e6448282-07cd-4171-b909-0d69e2eaf20e",
   "metadata": {},
   "outputs": [
    {
     "data": {
      "text/latex": [
       "$\\bigcup{} x_{e} \\in {\\small \\{\\textsf{c1}_{e}, \\textsf{c2}_{e}, \\textsf{c3}_{e}\\}} \\: . \\: \\{{x}\\}$"
      ],
      "text/plain": [
       "(Union x_e << {_c2, _c3, _c1}: {x_e})"
      ]
     },
     "execution_count": 44,
     "metadata": {},
     "output_type": "execute_result"
    }
   ],
   "source": [
    "test2 = %te Union x_e << {_c1, _c2, _c3}: {x}\n",
    "test2"
   ]
  },
  {
   "cell_type": "code",
   "execution_count": 45,
   "id": "5496e218-7f19-4c98-acd4-5e769ab92ace",
   "metadata": {},
   "outputs": [
    {
     "data": {
      "text/latex": [
       "$\\{\\textsf{c1}_{e}, \\textsf{c2}_{e}, \\textsf{c3}_{e}\\}$"
      ],
      "text/plain": [
       "{_c2, _c3, _c1}"
      ]
     },
     "execution_count": 45,
     "metadata": {},
     "output_type": "execute_result"
    }
   ],
   "source": [
    "test2.simplify_all(eliminate_sets=True)"
   ]
  },
  {
   "cell_type": "code",
   "execution_count": null,
   "id": "74d050a3-8679-4c10-aa43-8b67481cae89",
   "metadata": {},
   "outputs": [],
   "source": []
  }
 ],
 "metadata": {
  "kernelspec": {
   "display_name": "Lambda Notebook (Python 3)",
   "language": "python",
   "name": "lambda-notebook"
  },
  "language_info": {
   "codemirror_mode": {
    "name": "ipython",
    "version": 3
   },
   "file_extension": ".py",
   "mimetype": "text/x-python",
   "name": "python",
   "nbconvert_exporter": "python",
   "pygments_lexer": "ipython3",
   "version": "3.12.8"
  }
 },
 "nbformat": 4,
 "nbformat_minor": 5
}
