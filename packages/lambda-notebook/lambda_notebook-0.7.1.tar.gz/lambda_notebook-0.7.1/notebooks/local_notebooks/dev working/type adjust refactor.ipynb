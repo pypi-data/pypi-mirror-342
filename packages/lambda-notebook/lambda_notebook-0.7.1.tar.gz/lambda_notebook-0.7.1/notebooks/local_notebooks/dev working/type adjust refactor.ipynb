{
 "cells": [
  {
   "cell_type": "code",
   "execution_count": 410,
   "id": "47ec5574-7502-4521-84a7-91acd26a9e1c",
   "metadata": {},
   "outputs": [],
   "source": [
    "reload_lamb()"
   ]
  },
  {
   "cell_type": "code",
   "execution_count": 537,
   "id": "702f9878-d23d-4ab4-8e90-4a0210abb67d",
   "metadata": {},
   "outputs": [
    {
     "name": "stdout",
     "output_type": "stream",
     "text": [
      "INFO (core): Coerced guessed type for 'P_t' into <X,t>, to match argument 'x_X'\n"
     ]
    }
   ],
   "source": [
    "meta.quantifiers.Iota(te(\"x_X\"), te(\"P(x_X)\"), typ=tp(\"<e,t>\"))[0].derivation"
   ]
  },
  {
   "cell_type": "code",
   "execution_count": 538,
   "id": "31ae52ac-53dc-4cbc-99c6-e2e90b495044",
   "metadata": {},
   "outputs": [
    {
     "name": "stdout",
     "output_type": "stream",
     "text": [
      "INFO (core): Coerced guessed type for 'P_t' into <X,t>, to match argument 'x_X'\n"
     ]
    },
    {
     "data": {
      "text/html": [
       "<table><tr><td>Term mappings:&nbsp;&nbsp; </td><td>$\\{P: \\left\\langle{}X,t\\right\\rangle{}\\}$</td></tr><tr><td>Type mappings:&nbsp;&nbsp; </td><td>$\\{X: e\\}$</td></tr><tr><td>Type variables:&nbsp;&nbsp; </td><td>$\\{X\\}$</td></tr></table>"
      ],
      "text/plain": [
       "[TypeEnv: Terms: {'P': <X,t>}, Type mapping: {X: e}, Type variables: {X}]"
      ]
     },
     "execution_count": 538,
     "metadata": {},
     "output_type": "execute_result"
    }
   ],
   "source": [
    "# lamb.parsing.errors_raise = True\n",
    "x = %te Iota x_X : P(x)\n",
    "x.try_adjust_type(tp(\"e\")).get_type_env()"
   ]
  },
  {
   "cell_type": "code",
   "execution_count": 413,
   "id": "ee831457-e4e6-4952-be8e-cc256971fe8c",
   "metadata": {},
   "outputs": [
    {
     "data": {
      "text/html": [
       "<table><tr><td>Term mappings:&nbsp;&nbsp; </td><td>$\\{P: \\left\\langle{}X,t\\right\\rangle{}\\}$</td></tr><tr><td>Type mappings:&nbsp;&nbsp; </td><td>$\\{X: \\left\\{\\left\\langle{}Y,Z\\right\\rangle{}\\right\\}\\}$</td></tr><tr><td>Type variables:&nbsp;&nbsp; </td><td>$\\{X, Y, Z\\}$</td></tr></table>"
      ],
      "text/plain": [
       "[TypeEnv: Terms: {'P': <X,t>}, Type mapping: {X: {<Y,Z>}}, Type variables: {X, Y, Z}]"
      ]
     },
     "execution_count": 413,
     "metadata": {},
     "output_type": "execute_result"
    }
   ],
   "source": [
    "x.try_adjust_type(tp(\"{<Y,Z>}\")).get_type_env()"
   ]
  },
  {
   "cell_type": "code",
   "execution_count": 414,
   "id": "a31f24fb-bef9-47ab-acf0-2b40f7941f15",
   "metadata": {},
   "outputs": [
    {
     "data": {
      "text/html": [
       "<table><tr><td>Term mappings:&nbsp;&nbsp; </td><td>$\\{P: \\left\\langle{}X,t\\right\\rangle{}\\}$</td></tr><tr><td>Type mappings:&nbsp;&nbsp; </td><td>$\\{X: e\\}$</td></tr><tr><td>Type variables:&nbsp;&nbsp; </td><td>$\\{X\\}$</td></tr></table>"
      ],
      "text/plain": [
       "[TypeEnv: Terms: {'P': <X,t>}, Type mapping: {X: e}, Type variables: {X}]"
      ]
     },
     "execution_count": 414,
     "metadata": {},
     "output_type": "execute_result"
    }
   ],
   "source": [
    "x.try_adjust_type(tp(\"e\")).get_type_env()"
   ]
  },
  {
   "cell_type": "code",
   "execution_count": 415,
   "id": "ccb60987-9df5-4caa-8608-1f9178b9409c",
   "metadata": {},
   "outputs": [
    {
     "data": {
      "text/latex": [
       "$\\iota{} x_{X} \\: . \\: {P}_{\\left\\langle{}X,t\\right\\rangle{}}({x})$"
      ],
      "text/plain": [
       "(ι x_X: P_<X,t>(x_X))"
      ]
     },
     "execution_count": 415,
     "metadata": {},
     "output_type": "execute_result"
    }
   ],
   "source": [
    "x"
   ]
  },
  {
   "cell_type": "code",
   "execution_count": 416,
   "id": "9ee24b7b-f331-4756-bd6b-3670cdb66fb6",
   "metadata": {},
   "outputs": [
    {
     "name": "stdout",
     "output_type": "stream",
     "text": [
      "INFO (core): Coerced guessed type for 'P_t' into <e,t>, to match argument 'x_e'\n"
     ]
    }
   ],
   "source": [
    "te(\"Iota x_e : P(x)\").try_adjust_type(tp(\"t\"))"
   ]
  },
  {
   "cell_type": "code",
   "execution_count": 540,
   "id": "1296fe04-0941-48de-96b1-3ca590dea6c6",
   "metadata": {},
   "outputs": [
    {
     "name": "stdout",
     "output_type": "stream",
     "text": [
      "INFO (core): Coerced guessed type for 'P_t' into <e,t>, to match argument 'x_e'\n"
     ]
    },
    {
     "ename": "TypeMismatch",
     "evalue": "TypeMismatch: `x_e` and type `t` conflict (Failed to reconcile type constraint for `Iota`: `x_e` <=> type `t`)",
     "output_type": "error",
     "traceback": [
      "\u001b[0;31m---------------------------------------------------------------------------\u001b[0m",
      "\u001b[0;31mTypeMismatch\u001b[0m                              Traceback (most recent call last)",
      "Cell \u001b[0;32mIn[540], line 1\u001b[0m\n\u001b[0;32m----> 1\u001b[0m \u001b[43mmeta\u001b[49m\u001b[38;5;241;43m.\u001b[39;49m\u001b[43mquantifiers\u001b[49m\u001b[38;5;241;43m.\u001b[39;49m\u001b[43mIota\u001b[49m\u001b[43m(\u001b[49m\u001b[43mte\u001b[49m\u001b[43m(\u001b[49m\u001b[38;5;124;43m\"\u001b[39;49m\u001b[38;5;124;43mx_e\u001b[39;49m\u001b[38;5;124;43m\"\u001b[39;49m\u001b[43m)\u001b[49m\u001b[43m,\u001b[49m\u001b[43m \u001b[49m\u001b[43mte\u001b[49m\u001b[43m(\u001b[49m\u001b[38;5;124;43m\"\u001b[39;49m\u001b[38;5;124;43mP(x_e)\u001b[39;49m\u001b[38;5;124;43m\"\u001b[39;49m\u001b[43m)\u001b[49m\u001b[43m,\u001b[49m\u001b[43m \u001b[49m\u001b[43mtyp\u001b[49m\u001b[38;5;241;43m=\u001b[39;49m\u001b[43mtp\u001b[49m\u001b[43m(\u001b[49m\u001b[38;5;124;43m\"\u001b[39;49m\u001b[38;5;124;43mt\u001b[39;49m\u001b[38;5;124;43m\"\u001b[39;49m\u001b[43m)\u001b[49m\u001b[43m)\u001b[49m\n",
      "File \u001b[0;32m~/repos/lambda-notebook/lamb/meta/quantifiers.py:634\u001b[0m, in \u001b[0;36mIota.__init__\u001b[0;34m(self, var, body, restrictor, typ, **kwargs)\u001b[0m\n\u001b[1;32m    631\u001b[0m \u001b[38;5;28;01mdef\u001b[39;00m \u001b[38;5;21m__init__\u001b[39m(\u001b[38;5;28mself\u001b[39m, var, body, \u001b[38;5;241m/\u001b[39m, restrictor\u001b[38;5;241m=\u001b[39m\u001b[38;5;28;01mNone\u001b[39;00m, \u001b[38;5;241m*\u001b[39m,\n\u001b[1;32m    632\u001b[0m             typ\u001b[38;5;241m=\u001b[39m\u001b[38;5;28;01mNone\u001b[39;00m, \u001b[38;5;241m*\u001b[39m\u001b[38;5;241m*\u001b[39mkwargs):\n\u001b[1;32m    633\u001b[0m     \u001b[38;5;66;03m# type constraint: var and self have the same type\u001b[39;00m\n\u001b[0;32m--> 634\u001b[0m     var, typ \u001b[38;5;241m=\u001b[39m \u001b[38;5;28;43mself\u001b[39;49m\u001b[38;5;241;43m.\u001b[39;49m\u001b[43mtype_constraint\u001b[49m\u001b[43m(\u001b[49m\u001b[43mvar\u001b[49m\u001b[43m,\u001b[49m\u001b[43m \u001b[49m\u001b[43mtyp\u001b[49m\u001b[43m)\u001b[49m\n\u001b[1;32m    635\u001b[0m     \u001b[38;5;28msuper\u001b[39m()\u001b[38;5;241m.\u001b[39m\u001b[38;5;21m__init__\u001b[39m(var, body, restrictor\u001b[38;5;241m=\u001b[39mrestrictor,\n\u001b[1;32m    636\u001b[0m         typ\u001b[38;5;241m=\u001b[39mtyp, body_type\u001b[38;5;241m=\u001b[39mtypes\u001b[38;5;241m.\u001b[39mtype_t, \u001b[38;5;241m*\u001b[39m\u001b[38;5;241m*\u001b[39mkwargs)\n\u001b[1;32m    637\u001b[0m     \u001b[38;5;66;03m# superclass may have updated vartype again while doing type inference\u001b[39;00m\n\u001b[1;32m    638\u001b[0m     \u001b[38;5;66;03m# on the body\u001b[39;00m\n",
      "File \u001b[0;32m~/repos/lambda-notebook/lamb/meta/core.py:1096\u001b[0m, in \u001b[0;36mTypedExpr.type_constraint\u001b[0;34m(cls, a, b, constant, error)\u001b[0m\n\u001b[1;32m   1094\u001b[0m principal \u001b[38;5;241m=\u001b[39m ts_reconcile(a, b)\n\u001b[1;32m   1095\u001b[0m \u001b[38;5;28;01mif\u001b[39;00m principal \u001b[38;5;129;01mis\u001b[39;00m \u001b[38;5;28;01mNone\u001b[39;00m:\n\u001b[0;32m-> 1096\u001b[0m     \u001b[38;5;28;01mreturn\u001b[39;00m \u001b[43mfailed_constraint\u001b[49m\u001b[43m(\u001b[49m\u001b[43ma\u001b[49m\u001b[43m,\u001b[49m\u001b[43m \u001b[49m\u001b[43mb\u001b[49m\u001b[43m,\u001b[49m\u001b[43m \u001b[49m\u001b[43ma_te\u001b[49m\u001b[43m,\u001b[49m\u001b[43m \u001b[49m\u001b[43mb_te\u001b[49m\u001b[43m)\u001b[49m\n\u001b[1;32m   1097\u001b[0m \u001b[38;5;28;01mif\u001b[39;00m constant \u001b[38;5;129;01mand\u001b[39;00m b \u001b[38;5;241m!=\u001b[39m principal:\n\u001b[1;32m   1098\u001b[0m     \u001b[38;5;66;03m# is this unnecessarily strict?\u001b[39;00m\n\u001b[1;32m   1099\u001b[0m     \u001b[38;5;28;01mreturn\u001b[39;00m failed_constraint(a, b,\n\u001b[1;32m   1100\u001b[0m         \u001b[38;5;124mf\u001b[39m\u001b[38;5;124m\"\u001b[39m\u001b[38;5;124mType constraint for `\u001b[39m\u001b[38;5;132;01m{\u001b[39;00mname\u001b[38;5;132;01m}\u001b[39;00m\u001b[38;5;124m` (\u001b[39m\u001b[38;5;130;01m{{\u001b[39;00m\u001b[38;5;124ma_repr\u001b[39m\u001b[38;5;130;01m}}\u001b[39;00m\u001b[38;5;124m <=> constant \u001b[39m\u001b[38;5;130;01m{{\u001b[39;00m\u001b[38;5;124mb_repr\u001b[39m\u001b[38;5;130;01m}}\u001b[39;00m\u001b[38;5;124m) would require adjusting constant to \u001b[39m\u001b[38;5;132;01m{\u001b[39;00mprincipal\u001b[38;5;132;01m}\u001b[39;00m\u001b[38;5;124m\"\u001b[39m)\n",
      "File \u001b[0;32m~/repos/lambda-notebook/lamb/meta/core.py:1092\u001b[0m, in \u001b[0;36mTypedExpr.type_constraint.<locals>.failed_constraint\u001b[0;34m(a, b, a_te, b_te, error)\u001b[0m\n\u001b[1;32m   1090\u001b[0m \u001b[38;5;28;01melse\u001b[39;00m:\n\u001b[1;32m   1091\u001b[0m     error \u001b[38;5;241m=\u001b[39m \u001b[38;5;28mstr\u001b[39m\u001b[38;5;241m.\u001b[39mformat(error, a_repr\u001b[38;5;241m=\u001b[39ma_repr, b_repr\u001b[38;5;241m=\u001b[39mb_repr, name\u001b[38;5;241m=\u001b[39mname)\n\u001b[0;32m-> 1092\u001b[0m \u001b[38;5;28;01mraise\u001b[39;00m TypeMismatch(a, b, error\u001b[38;5;241m=\u001b[39merror)\n",
      "\u001b[0;31mTypeMismatch\u001b[0m: TypeMismatch: `x_e` and type `t` conflict (Failed to reconcile type constraint for `Iota`: `x_e` <=> type `t`)"
     ]
    }
   ],
   "source": [
    "meta.quantifiers.Iota(te(\"x_e\"), te(\"P(x_e)\"), typ=tp(\"t\"))"
   ]
  },
  {
   "cell_type": "code",
   "execution_count": 418,
   "id": "11df2e6f-ccbf-4d9b-9d4a-f4ee5eefd006",
   "metadata": {},
   "outputs": [
    {
     "name": "stdout",
     "output_type": "stream",
     "text": [
      "INFO (core): Coerced guessed type for 'P_t' into <e,t>, to match argument 'x_e'\n"
     ]
    },
    {
     "data": {
      "text/latex": [
       "$\\iota{} x_{e} \\: . \\: {P}({x})$"
      ],
      "text/plain": [
       "(ι x_e: P_<e,t>(x_e))"
      ]
     },
     "execution_count": 418,
     "metadata": {},
     "output_type": "execute_result"
    }
   ],
   "source": [
    "x = %te Iota x_e : P(x)\n",
    "x"
   ]
  },
  {
   "cell_type": "code",
   "execution_count": 419,
   "id": "c227b6ff-cc89-4510-9952-ee3215ec1e49",
   "metadata": {},
   "outputs": [],
   "source": [
    "x.try_adjust_type(tp(\"t\"))"
   ]
  },
  {
   "cell_type": "code",
   "execution_count": 420,
   "id": "162cc5b5-aa85-447d-b90c-68446f7a3a8f",
   "metadata": {},
   "outputs": [
    {
     "name": "stdout",
     "output_type": "stream",
     "text": [
      "INFO (core): Coerced guessed type for 'P_t' into <e,t>, to match argument 'x_e'\n"
     ]
    },
    {
     "data": {
      "text/latex": [
       "$\\exists{} x_{e} \\: . \\: {P}({x})$"
      ],
      "text/plain": [
       "(Exists x_e: P_<e,t>(x_e))"
      ]
     },
     "execution_count": 420,
     "metadata": {},
     "output_type": "execute_result"
    }
   ],
   "source": [
    "x = %te Exists x_e : P(x)\n",
    "x"
   ]
  },
  {
   "cell_type": "code",
   "execution_count": 421,
   "id": "1a339a70-364a-4e46-a487-a0d9e5f84f89",
   "metadata": {},
   "outputs": [
    {
     "data": {
      "text/latex": [
       "$t$"
      ],
      "text/plain": [
       "t"
      ]
     },
     "execution_count": 421,
     "metadata": {},
     "output_type": "execute_result"
    }
   ],
   "source": [
    "x.type"
   ]
  },
  {
   "cell_type": "code",
   "execution_count": 422,
   "id": "830674bd-78cc-46a8-984b-2c1868885334",
   "metadata": {},
   "outputs": [],
   "source": [
    "x.try_adjust_type(tp(\"e\"))"
   ]
  },
  {
   "cell_type": "code",
   "execution_count": 423,
   "id": "8deb653d-bae0-49c1-800d-f686d8c15ef6",
   "metadata": {},
   "outputs": [
    {
     "name": "stdout",
     "output_type": "stream",
     "text": [
      "INFO (core): Coerced guessed type for 'P_t' into <X,t>, to match argument 'x_X'\n",
      "INFO (core): Coerced guessed type for 'Q_t' into <(X,Y),t>, to match argument '(x_X, y_Y)'\n"
     ]
    },
    {
     "data": {
      "text/latex": [
       "$\\{{x}_{X} \\:|\\: {P}_{\\left\\langle{}X,t\\right\\rangle{}}({x}_{X}) \\wedge{} {Q}_{\\left\\langle{}\\left(X, Y\\right),t\\right\\rangle{}}({x}_{X}, {y}_{Y})\\}$"
      ],
      "text/plain": [
       "(Set x_X: (P_<X,t>(x_X) & Q_<(X,Y),t>(x_X, y_Y)))"
      ]
     },
     "execution_count": 423,
     "metadata": {},
     "output_type": "execute_result"
    }
   ],
   "source": [
    "x = %te Set x_X: P(x) & Q(x,y_Y)\n",
    "x"
   ]
  },
  {
   "cell_type": "code",
   "execution_count": 424,
   "id": "87f575be-a193-47aa-a776-632146324a79",
   "metadata": {},
   "outputs": [
    {
     "data": {
      "text/latex": [
       "$\\{{x}_{X} \\:|\\: {P}_{\\left\\langle{}X,t\\right\\rangle{}}({x}_{X}) \\wedge{} {Q}_{\\left\\langle{}\\left(X, Y\\right),t\\right\\rangle{}}({x}_{X}, {y}_{Y})\\}$"
      ],
      "text/plain": [
       "(Set x_X: (P_<X,t>(x_X) & Q_<(X,Y),t>(x_X, y_Y)))"
      ]
     },
     "execution_count": 424,
     "metadata": {},
     "output_type": "execute_result"
    }
   ],
   "source": [
    "x.try_adjust_type(tp(\"Y\"))"
   ]
  },
  {
   "cell_type": "code",
   "execution_count": 425,
   "id": "6fc7eedd-f4a9-472c-b0a4-827c1cbd3730",
   "metadata": {},
   "outputs": [
    {
     "data": {
      "text/latex": [
       "$\\{{x}_{\\left\\langle{}Y,t\\right\\rangle{}} \\:|\\: {P}_{\\left\\langle{}\\left\\langle{}Y,t\\right\\rangle{},t\\right\\rangle{}}({x}_{\\left\\langle{}Y,t\\right\\rangle{}}) \\wedge{} {Q}_{\\left\\langle{}\\left(\\left\\langle{}Y,t\\right\\rangle{}, Y\\right),t\\right\\rangle{}}({x}_{\\left\\langle{}Y,t\\right\\rangle{}}, {y}_{Y})\\}$"
      ],
      "text/plain": [
       "(Set x_<Y,t>: (P_<<Y,t>,t>(x_<Y,t>) & Q_<(<Y,t>,Y),t>(x_<Y,t>, y_Y)))"
      ]
     },
     "execution_count": 425,
     "metadata": {},
     "output_type": "execute_result"
    }
   ],
   "source": [
    "x.try_adjust_type(tp(\"{<Y,t>}\"))"
   ]
  },
  {
   "cell_type": "code",
   "execution_count": 426,
   "id": "4088d5f3-24ce-49b1-819c-de32dc3e8547",
   "metadata": {},
   "outputs": [],
   "source": [
    "reload_lamb()"
   ]
  },
  {
   "cell_type": "code",
   "execution_count": 427,
   "id": "2cc0d2ef-afea-4038-8985-895b85d375fd",
   "metadata": {},
   "outputs": [
    {
     "name": "stdout",
     "output_type": "stream",
     "text": [
      "INFO (core): Coerced guessed type for 'Q_t' into <(X,Y),t>, to match argument '(x_X, y_Y)'\n"
     ]
    },
    {
     "data": {
      "text/latex": [
       "$\\{{x}_{X} \\:|\\: {P}_{\\left\\langle{}X,t\\right\\rangle{}}({x}_{X}) \\wedge{} {Q}_{\\left\\langle{}\\left(X, Y\\right),t\\right\\rangle{}}({x}_{X}, {y}_{Y})\\}$"
      ],
      "text/plain": [
       "(Set x_X: (P_<X,t>(x_X) & Q_<(X,Y),t>(x_X, y_Y)))"
      ]
     },
     "execution_count": 427,
     "metadata": {},
     "output_type": "execute_result"
    }
   ],
   "source": [
    "x = %te Set x_X: P_<X,t>(x) & Q(x,y_Y)\n",
    "x"
   ]
  },
  {
   "cell_type": "code",
   "execution_count": 428,
   "id": "24a43634-94a5-4012-a164-599e9eac27ae",
   "metadata": {},
   "outputs": [
    {
     "data": {
      "text/latex": [
       "$\\left\\{X\\right\\}$"
      ],
      "text/plain": [
       "{X}"
      ]
     },
     "execution_count": 428,
     "metadata": {},
     "output_type": "execute_result"
    }
   ],
   "source": [
    "x.type"
   ]
  },
  {
   "cell_type": "code",
   "execution_count": 429,
   "id": "6f69cfac-e631-448a-9288-34d54f8f5060",
   "metadata": {},
   "outputs": [],
   "source": [
    "x.try_adjust_type(tp(\"e\"))"
   ]
  },
  {
   "cell_type": "code",
   "execution_count": 430,
   "id": "2b64b6e1-8ae9-460f-8ce8-1096923f6c2d",
   "metadata": {},
   "outputs": [
    {
     "name": "stdout",
     "output_type": "stream",
     "text": [
      "INFO (core): Coerced guessed type for 'Q_t' into <(X,Y),t>, to match argument '(x_X, y_Y)'\n"
     ]
    },
    {
     "data": {
      "text/latex": [
       "$\\{{x}_{e} \\:|\\: {P}({x}_{e}) \\wedge{} {Q}_{\\left\\langle{}\\left(e, Y\\right),t\\right\\rangle{}}({x}_{e}, {y}_{Y})\\}$"
      ],
      "text/plain": [
       "(Set x_e: (P_<e,t>(x_e) & Q_<(e,Y),t>(x_e, y_Y)))"
      ]
     },
     "execution_count": 430,
     "metadata": {},
     "output_type": "execute_result"
    }
   ],
   "source": [
    "x2 = meta.sets.ConditionSet(te(\"x_X\"), te(\"P_<e,t>(x_e) & Q(x_X,y_Y)\"))\n",
    "x2"
   ]
  },
  {
   "cell_type": "code",
   "execution_count": 431,
   "id": "f490a92f-f2cd-4d9a-bfdd-31a7ace7d3d2",
   "metadata": {},
   "outputs": [
    {
     "data": {
      "text/latex": [
       "$\\left\\{e\\right\\}$"
      ],
      "text/plain": [
       "{e}"
      ]
     },
     "execution_count": 431,
     "metadata": {},
     "output_type": "execute_result"
    }
   ],
   "source": [
    "x2.type"
   ]
  },
  {
   "cell_type": "code",
   "execution_count": 432,
   "id": "6d6f26a5-f288-4763-8f46-1fd7963f1ae0",
   "metadata": {},
   "outputs": [
    {
     "data": {
      "text/latex": [
       "$e$"
      ],
      "text/plain": [
       "e"
      ]
     },
     "execution_count": 432,
     "metadata": {},
     "output_type": "execute_result"
    }
   ],
   "source": [
    "x2.vartype"
   ]
  },
  {
   "cell_type": "code",
   "execution_count": 433,
   "id": "e2c7aff8-eed7-4729-80cf-8df893fc361e",
   "metadata": {},
   "outputs": [
    {
     "name": "stdout",
     "output_type": "stream",
     "text": [
      "INFO (core): Coerced guessed type for 'Q_t' into <(X,Y),t>, to match argument '(x_X, y_Y)'\n"
     ]
    },
    {
     "data": {
      "text/latex": [
       "$\\left\\{e\\right\\}$"
      ],
      "text/plain": [
       "{e}"
      ]
     },
     "execution_count": 433,
     "metadata": {},
     "output_type": "execute_result"
    }
   ],
   "source": [
    "te(\"Set x_X: P_<e,t>(x) & Q(x,y_Y)\", let=False).type"
   ]
  },
  {
   "cell_type": "code",
   "execution_count": null,
   "id": "c42156f8-462b-493d-8c68-9965d07d11e9",
   "metadata": {},
   "outputs": [],
   "source": []
  },
  {
   "cell_type": "code",
   "execution_count": 434,
   "id": "246e1258-2cbb-4137-8929-432c41c79d37",
   "metadata": {},
   "outputs": [],
   "source": [
    "reload_lamb()"
   ]
  },
  {
   "cell_type": "code",
   "execution_count": 435,
   "id": "c44aada3-c86f-4898-99bf-539e0422f2e6",
   "metadata": {},
   "outputs": [
    {
     "data": {
      "text/latex": [
       "$\\exists{} x_{e} \\in {\\small \\{{y}_{e}\\}} \\: . \\: {P}({x})$"
      ],
      "text/plain": [
       "(Exists x_e << {y_e}: P_<e,t>(x_e))"
      ]
     },
     "execution_count": 435,
     "metadata": {},
     "output_type": "execute_result"
    }
   ],
   "source": [
    "x = te(\"Exists x_X << {y_X} : P_<e,t>(x)\", let=False)\n",
    "x"
   ]
  },
  {
   "cell_type": "code",
   "execution_count": 436,
   "id": "0ce9652e-6b57-4af8-b8ff-3c4321370413",
   "metadata": {},
   "outputs": [
    {
     "data": {
      "text/latex": [
       "$\\left\\{e\\right\\}$"
      ],
      "text/plain": [
       "{e}"
      ]
     },
     "execution_count": 436,
     "metadata": {},
     "output_type": "execute_result"
    }
   ],
   "source": [
    "x.restrictor.type"
   ]
  },
  {
   "cell_type": "code",
   "execution_count": 437,
   "id": "ce9a4e39-de66-4a2f-8548-923cce3d587b",
   "metadata": {},
   "outputs": [
    {
     "data": {
      "text/latex": [
       "$\\{{y}_{e}\\}$"
      ],
      "text/plain": [
       "{y_e}"
      ]
     },
     "execution_count": 437,
     "metadata": {},
     "output_type": "execute_result"
    }
   ],
   "source": [
    "x.restrictor"
   ]
  },
  {
   "cell_type": "code",
   "execution_count": 438,
   "id": "19198358-b6c3-478b-a328-e5f23359db21",
   "metadata": {},
   "outputs": [
    {
     "data": {
      "text/latex": [
       "$\\left\\{e\\right\\}$"
      ],
      "text/plain": [
       "{e}"
      ]
     },
     "execution_count": 438,
     "metadata": {},
     "output_type": "execute_result"
    }
   ],
   "source": [
    "te(\"{y_X}\").try_adjust_type(tp(\"{e}\")).type"
   ]
  },
  {
   "cell_type": "code",
   "execution_count": 439,
   "id": "340eabe3-4df9-4634-8f34-4a0288a6a1d3",
   "metadata": {},
   "outputs": [
    {
     "data": {
      "text/latex": [
       "$\\left\\{\\left\\langle{}Z,Y\\right\\rangle{}\\right\\}$"
      ],
      "text/plain": [
       "{<Z,Y>}"
      ]
     },
     "execution_count": 439,
     "metadata": {},
     "output_type": "execute_result"
    }
   ],
   "source": [
    "te(\"{x_X, y_<Z,Y>}\", let=False).type"
   ]
  },
  {
   "cell_type": "code",
   "execution_count": 440,
   "id": "d3d59b63-2dd6-46cd-9fec-1992703e119c",
   "metadata": {},
   "outputs": [
    {
     "data": {
      "text/latex": [
       "$\\{{x}_{\\left\\langle{}e,t\\right\\rangle{}}, {y}_{\\left\\langle{}e,t\\right\\rangle{}}\\}$"
      ],
      "text/plain": [
       "{y_<e,t>, x_<e,t>}"
      ]
     },
     "execution_count": 440,
     "metadata": {},
     "output_type": "execute_result"
    }
   ],
   "source": [
    "y = te(\"{x_X, y_<Z,Y>}\", let=False).try_adjust_type(tp(\"{<e,t>}\"))\n",
    "y"
   ]
  },
  {
   "cell_type": "code",
   "execution_count": 441,
   "id": "c5e1f296-f2f8-4608-a762-f9aa38af299d",
   "metadata": {},
   "outputs": [
    {
     "data": {
      "text/latex": [
       "$\\left\\{\\left\\langle{}e,t\\right\\rangle{}\\right\\}$"
      ],
      "text/plain": [
       "{<e,t>}"
      ]
     },
     "execution_count": 441,
     "metadata": {},
     "output_type": "execute_result"
    }
   ],
   "source": [
    "y.type"
   ]
  },
  {
   "cell_type": "code",
   "execution_count": 442,
   "id": "f77534e1-bc29-4f50-b4b3-c23a451c7f8b",
   "metadata": {},
   "outputs": [
    {
     "data": {
      "text/latex": [
       "$\\{{x}_{\\left\\langle{}e,t\\right\\rangle{}}, {y}_{\\left\\langle{}e,t\\right\\rangle{}}, {z}_{\\left\\langle{}e,t\\right\\rangle{}}\\}$"
      ],
      "text/plain": [
       "{y_<e,t>, z_<e,t>, x_<e,t>}"
      ]
     },
     "execution_count": 442,
     "metadata": {},
     "output_type": "execute_result"
    }
   ],
   "source": [
    "%te {x_Z, z_<X,Y>, y_<e,t>}"
   ]
  },
  {
   "cell_type": "code",
   "execution_count": 443,
   "id": "169cc5cc-cc2b-4e14-8098-66c9d40f42e8",
   "metadata": {},
   "outputs": [
    {
     "data": {
      "text/latex": [
       "$\\{{x}_{\\left\\langle{}e,t\\right\\rangle{}}, {y}_{\\left\\langle{}e,t\\right\\rangle{}}, {z}_{\\left\\langle{}e,t\\right\\rangle{}}\\}$"
      ],
      "text/plain": [
       "{y_<e,t>, z_<e,t>, x_<e,t>}"
      ]
     },
     "execution_count": 443,
     "metadata": {},
     "output_type": "execute_result"
    }
   ],
   "source": [
    "te(\"{x_Z, y_<e,Y>, z_<X,t>}\", let=False)"
   ]
  },
  {
   "cell_type": "code",
   "execution_count": 444,
   "id": "df41dcfa-7187-47c9-b132-2344a198a847",
   "metadata": {},
   "outputs": [
    {
     "data": {
      "text/latex": [
       "$\\{{x}_{\\left\\langle{}e,t\\right\\rangle{}}, {y}_{\\left\\langle{}e,t\\right\\rangle{}}, {z}_{\\left\\langle{}e,t\\right\\rangle{}}\\}$"
      ],
      "text/plain": [
       "{y_<e,t>, z_<e,t>, x_<e,t>}"
      ]
     },
     "execution_count": 444,
     "metadata": {},
     "output_type": "execute_result"
    }
   ],
   "source": [
    "x = %te {x_Z, y_<e,Y>, z_<X,t>}\n",
    "x"
   ]
  },
  {
   "cell_type": "code",
   "execution_count": 445,
   "id": "64340033-0360-4433-a95e-a549fdad82ac",
   "metadata": {},
   "outputs": [
    {
     "data": {
      "text/latex": [
       "$\\left\\{\\left\\langle{}e,t\\right\\rangle{}\\right\\}$"
      ],
      "text/plain": [
       "{<e,t>}"
      ]
     },
     "execution_count": 445,
     "metadata": {},
     "output_type": "execute_result"
    }
   ],
   "source": [
    "x.type"
   ]
  },
  {
   "cell_type": "code",
   "execution_count": 446,
   "id": "c6f1de50-bb03-4146-b005-8f187bed0789",
   "metadata": {},
   "outputs": [
    {
     "data": {
      "text/latex": [
       "$\\left\\langle{}e,t\\right\\rangle{}$"
      ],
      "text/plain": [
       "<e,t>"
      ]
     },
     "execution_count": 446,
     "metadata": {},
     "output_type": "execute_result"
    }
   ],
   "source": [
    "x[0].type"
   ]
  },
  {
   "cell_type": "code",
   "execution_count": 447,
   "id": "47746ed2-4910-4ea1-ab30-95dc2960a10b",
   "metadata": {},
   "outputs": [],
   "source": [
    "reload_lamb()\n",
    "# meta.core.set_strict_type_parsing()"
   ]
  },
  {
   "cell_type": "code",
   "execution_count": 448,
   "id": "f4c45c12-da54-4358-98ad-19988de2206b",
   "metadata": {},
   "outputs": [
    {
     "data": {
      "text/latex": [
       "$\\{{x}_{\\left\\{e\\right\\}} \\:|\\: {x}_{\\left\\{e\\right\\}} \\in{} \\{\\{\\textsf{c1}_{e}\\}\\}\\} = \\{{x}_{\\left\\{e\\right\\}} \\:|\\: (\\textsf{c1}_{e} \\in{} {x}_{\\left\\{e\\right\\}}) \\wedge{} ({x}_{\\left\\{e\\right\\}} = \\{\\textsf{c1}_{e}\\})\\}$"
      ],
      "text/plain": [
       "((Set x_{e}: (x_{e} << {{_c1}})) <=> (Set x_{e}: ((_c1 << x_{e}) & (x_{e} <=> {_c1}))))"
      ]
     },
     "metadata": {},
     "output_type": "display_data"
    },
    {
     "data": {
      "text/plain": [
       "[frozenset(),\n",
       " frozenset({'_c0'}),\n",
       " frozenset({'_c1'}),\n",
       " frozenset({'_c2'}),\n",
       " frozenset({'_c3'}),\n",
       " frozenset({'_c0', '_c1'}),\n",
       " frozenset({'_c0', '_c2'}),\n",
       " frozenset({'_c0', '_c3'}),\n",
       " frozenset({'_c1', '_c2'}),\n",
       " frozenset({'_c1', '_c3'}),\n",
       " frozenset({'_c2', '_c3'}),\n",
       " frozenset({'_c0', '_c1', '_c2'}),\n",
       " frozenset({'_c0', '_c1', '_c3'}),\n",
       " frozenset({'_c0', '_c2', '_c3'}),\n",
       " frozenset({'_c1', '_c2', '_c3'}),\n",
       " frozenset({'_c0', '_c1', '_c2', '_c3'})]"
      ]
     },
     "metadata": {},
     "output_type": "display_data"
    },
    {
     "data": {
      "text/html": [
       "<div align=\"left\" style=\"display:table;\"><div style=\"display:table-cell;vertical-align:top;padding-left:5px;padding-right:5px;padding-top:0.2em\"><div style=\"display:table;\"><div style=\"display:table-row;vertical-align:top;\"><div align=\"left\" style=\"display:table;border-collapse:collapse;\"><div style=\"display:table-row;border-bottom:1px solid #848482;\"><div style=\"display:table-cell;padding:0.2em 5px 0.2em 0px;vertical-align:top;\"></div><div style=\"display:table-cell;vertical-align:top;border-right:1px solid #848482;padding-right:5px;;padding-top:0.2em\"><div style=\"display:inline-block;\"><span>$\\{{x}_{\\left\\{e\\right\\}} \\:|\\: {x}_{\\left\\{e\\right\\}} \\in{} \\{\\{\\textsf{c1}_{e}\\}\\}\\} = \\{{x}_{\\left\\{e\\right\\}} \\:|\\: (\\textsf{c1}_{e} \\in{} {x}_{\\left\\{e\\right\\}}) \\wedge{} ({x}_{\\left\\{e\\right\\}} = \\{\\textsf{c1}_{e}\\})\\}$</span></div></div><div style=\"display:table-cell;vertical-align:top;padding-left:5px;padding-right:5px;padding-top:0.2em\"><div style=\"display:table;\"><div style=\"display:table-row;\"><div style=\"white-space:nowrap; color:blue;\"><span>Recursive simplification of operand 0</span></div></div></div></div></div><div style=\"display:table-row;border-bottom:1px solid #848482;\"><div style=\"display:table-cell;padding:0.2em 5px 0.2em 0px;vertical-align:top;\"> 1. </div><div style=\"display:table-cell;vertical-align:top;border-right:1px solid #848482;padding-right:5px;;padding-top:0.2em\"><div style=\"display:inline-block;\"><span>$\\{\\{\\textsf{c1}_{e}\\}\\} = \\{{x}_{\\left\\{e\\right\\}} \\:|\\: (\\textsf{c1}_{e} \\in{} {x}_{\\left\\{e\\right\\}}) \\wedge{} ({x}_{\\left\\{e\\right\\}} = \\{\\textsf{c1}_{e}\\})\\}$</span></div></div><div style=\"display:table-cell;vertical-align:top;padding-left:5px;padding-right:5px;padding-top:0.2em\"><div style=\"display:table;\"><div style=\"display:table-row;\"><div style=\"white-space:nowrap; color:blue;\"><span>[[Recursive simplification of operand 1]]</span></div></div></div></div></div><div style=\"display:table-row;border-bottom:1px solid #848482;\"><div style=\"display:table-cell;padding:0.2em 5px 0.2em 0px;vertical-align:top;\"> 2. </div><div style=\"display:table-cell;vertical-align:top;border-right:1px solid #848482;padding-right:5px;;padding-top:0.2em\"><div style=\"display:inline-block;\"><span>$\\{\\{\\textsf{c1}_{e}\\}\\} = \\{{x}_{\\left\\{e\\right\\}} \\:|\\: (\\textsf{c1}_{e} \\in{} {x}_{\\left\\{e\\right\\}}) \\wedge{} (\\forall{} x1_{e} \\: . \\: ({x1} \\in{} {x}_{\\left\\{e\\right\\}}) \\leftrightarrow{} {x1} = \\textsf{c1}_{e})\\}$</span></div></div><div style=\"display:table-cell;vertical-align:top;padding-left:5px;padding-right:5px;padding-top:0.2em\"><div style=\"display:table;\"><div style=\"display:table-row;\"><div style=\"white-space:nowrap; color:blue;\"><span>set equivalence (set elimination)</span></div></div></div></div></div><div style=\"display:table-row;border-bottom:1px solid #848482;\"><div style=\"display:table-cell;padding:0.2em 5px 0.2em 0px;vertical-align:top;\"> 3. </div><div style=\"display:table-cell;vertical-align:top;border-right:1px solid #848482;padding-right:5px;;padding-top:0.2em\"><div style=\"display:inline-block;\"><span>$\\forall{} x_{\\left\\{e\\right\\}} \\: . \\: ({x} \\in{} \\{\\{\\textsf{c1}_{e}\\}\\}) \\leftrightarrow{} ({x} \\in{} \\{{x} \\:|\\: (\\textsf{c1}_{e} \\in{} {x}) \\wedge{} (\\forall{} x1_{e} \\: . \\: ({x1} \\in{} {x}) \\leftrightarrow{} {x1} = \\textsf{c1}_{e})\\})$</span></div></div><div style=\"display:table-cell;vertical-align:top;padding-left:5px;padding-right:5px;padding-top:0.2em\"><div style=\"display:table;\"><div style=\"display:table-row;\"><div style=\"white-space:nowrap; color:blue;\"><span>Recursive simplification of body</span></div></div></div></div></div><div style=\"display:table-row;border-bottom:1px solid #848482;\"><div style=\"display:table-cell;padding:0.2em 5px 0.2em 0px;vertical-align:top;\"> 4. </div><div style=\"display:table-cell;vertical-align:top;border-right:1px solid #848482;padding-right:5px;;padding-top:0.2em\"><div style=\"display:inline-block;\"><span>$\\forall{} x_{\\left\\{e\\right\\}} \\: . \\: ((\\textsf{c1}_{e} \\in{} {x}) \\wedge{} (\\forall{} x1_{e} \\: . \\: ({x1} \\in{} {x}) \\leftrightarrow{} \\textsf{c1}_{e} = {x1})) \\leftrightarrow{} ({x} = \\{\\textsf{c1}_{e}\\})$</span></div></div><div style=\"display:table-cell;vertical-align:top;padding-left:5px;padding-right:5px;padding-top:0.2em\"><div style=\"display:table;\"><div style=\"display:table-row;\"><div style=\"white-space:nowrap; color:blue;\"><span>∀ evaluation</span></div></div></div></div></div><div style=\"display:table-row;\"><div style=\"display:table-cell;padding:0.2em 5px 0.2em 0px;vertical-align:top;\"> 5. </div><div style=\"display:table-cell;vertical-align:top;border-right:1px solid #848482;padding-right:5px;;padding-top:0.2em\"><div style=\"display:inline-block;\"><span>$\\textsf{True}$</span></div></div></div></div></div></div></div></div>"
      ],
      "text/plain": [
       " 1. ((Set x_{e}: (x_{e} << {{_c1}})) <=> (Set x_{e}: ((_c1 << x_{e}) & (x_{e} <=> {_c1}))))    (Recursive simplification of operand 0)\n",
       " 2. ({{_c1}} <=> (Set x_{e}: ((_c1 << x_{e}) & (x_{e} <=> {_c1}))))    ([[Recursive simplification of operand 1]])\n",
       " 3. ({{_c1}} <=> (Set x_{e}: ((_c1 << x_{e}) & (Forall x1_e: ((x1_e << x_{e}) <=> (x1_e <=> _c1))))))    (set equivalence (set elimination))\n",
       " 4. (Forall x_{e}: ((x_{e} << {{_c1}}) <=> (x_{e} << (Set x_{e}: ((_c1 << x_{e}) & (Forall x1_e: ((x1_e << x_{e}) <=> (x1_e <=> _c1))))))))    (Recursive simplification of body)\n",
       " 5. (Forall x_{e}: (((_c1 << x_{e}) & (Forall x1_e: ((x1_e << x_{e}) <=> (_c1 <=> x1_e)))) <=> (x_{e} <=> {_c1})))    (∀ evaluation)\n",
       " 6. True"
      ]
     },
     "metadata": {},
     "output_type": "display_data"
    }
   ],
   "source": [
    "# te(\"{{_c1, _c2}, {_c3}}\")\n",
    "with tp(\"e\").restrict_domain(count=4):\n",
    "    s1 = te(\"(Set x_{e} : x << {{_c1}})\")\n",
    "    s2 = te(\"(Set x_{e} : _c1 << x & x <=> {_c1})\")\n",
    "    x = s1.equivalent_to(s2)\n",
    "    # display(list(tp(\"{e}\").domain))\n",
    "    display(x, list(x._set_impl()[0].type.domain))\n",
    "    x2 = x.simplify_all(eliminate_sets=True)\n",
    "    display(x2.derivation)\n",
    "    # display(te('(Forall x_{e}: (((_c1 << x_{e}) & (Forall x1_e: ((x1_e << x_{e}) <=> (_c1 <=> x1_e)))) <=> (x_{e} <=> {_c1})))').simplify_all())\n"
   ]
  },
  {
   "cell_type": "code",
   "execution_count": 449,
   "id": "77a02654-e314-4ea3-9eec-dba876126007",
   "metadata": {},
   "outputs": [],
   "source": [
    "reload_lamb()"
   ]
  },
  {
   "cell_type": "code",
   "execution_count": 450,
   "id": "1f418993-159a-45bd-b11d-2d8ecc7d88dc",
   "metadata": {},
   "outputs": [
    {
     "data": {
      "text/latex": [
       "$\\{\\{\\textsf{c1}_{e}\\}\\}$"
      ],
      "text/plain": [
       "{{_c1}}"
      ]
     },
     "execution_count": 450,
     "metadata": {},
     "output_type": "execute_result"
    }
   ],
   "source": [
    "te(\"{{_c1}}\")"
   ]
  },
  {
   "cell_type": "code",
   "execution_count": 451,
   "id": "cda1f730-6531-46b1-9b2c-11c887185926",
   "metadata": {},
   "outputs": [
    {
     "data": {
      "text/plain": [
       "{e: {e: e},\n",
       " <e,e>: {<e,e>: <e,e>},\n",
       " <e,t>: {<e,t>: <e,t>},\n",
       " t: {t: t},\n",
       " <<e,t>,<e,t>>: {<<e,t>,<e,t>>: <<e,t>,<e,t>>},\n",
       " <X,∀X>: {<X,t>: <X,t>,\n",
       "  <X,Y>: <X,Y>,\n",
       "  <X,<e,Z>>: <X,<e,Z>>,\n",
       "  <X,<Y,Z>>: <X,<Y,Z>>},\n",
       " <X,t>: {<X,t>: <X,t>},\n",
       " X: {X: X},\n",
       " <<X,t>,<X,t>>: {<<X,t>,<X,t>>: <<X,t>,<X,t>>},\n",
       " <X,Y>: {<X,Y>: <X,Y>},\n",
       " <Y,∀X>: {<Y,Z>: <Y,Z>, <Y,X>: <Y,X>},\n",
       " <Y,Z>: {<Y,Z>: <Y,Z>},\n",
       " Y: {Y: Y},\n",
       " Z: {Z: Z},\n",
       " <X,Z>: {<X,Z>: <X,Z>},\n",
       " <<X,Y>,<X,Z>>: {<<X,Y>,<X,Z>>: <<X,Y>,<X,Z>>},\n",
       " <<X,t>,t>: {<<X,t>,t>: <<X,t>,t>},\n",
       " <<X,Y>,Y>: {<<X,Y>,Y>: <<X,Y>,Y>},\n",
       " <e,∀X>: {<e,X>: <e,X>, <e,Z>: <e,Z>},\n",
       " <e,X>: {<e,X>: <e,X>},\n",
       " <X,<e,Z>>: {<X,<e,Z>>: <X,<e,Z>>},\n",
       " <e,Z>: {<e,Z>: <e,Z>},\n",
       " <<e,X>,<e,Z>>: {<<e,X>,<e,Z>>: <<e,X>,<e,Z>>},\n",
       " <Y,X>: {<Y,X>: <Y,X>},\n",
       " <X,<Y,Z>>: {<X,<Y,Z>>: <X,<Y,Z>>},\n",
       " <<Y,X>,<Y,Z>>: {<<Y,X>,<Y,Z>>: <<Y,X>,<Y,Z>>},\n",
       " {e}: {{e}: {e}}}"
      ]
     },
     "execution_count": 451,
     "metadata": {},
     "output_type": "execute_result"
    }
   ],
   "source": [
    "types._unify_cache"
   ]
  },
  {
   "cell_type": "code",
   "execution_count": 452,
   "id": "a6435ee8-f8fb-4042-8d8b-a2c6823d345f",
   "metadata": {},
   "outputs": [
    {
     "data": {
      "text/plain": [
       "True"
      ]
     },
     "metadata": {},
     "output_type": "display_data"
    }
   ],
   "source": [
    "with tp(\"e\").restrict_domain(count=4):\n",
    "    display(types.get_unify_cached(tp('{e}'), tp('{e}')).principal.domain.finite)"
   ]
  },
  {
   "cell_type": "code",
   "execution_count": null,
   "id": "0d3075e8-f05c-47f6-b73e-bb0f3a55b52a",
   "metadata": {},
   "outputs": [],
   "source": []
  },
  {
   "cell_type": "code",
   "execution_count": 453,
   "id": "f6320a48-8d1f-4910-9d95-2d92b1931e0d",
   "metadata": {},
   "outputs": [
    {
     "name": "stdout",
     "output_type": "stream",
     "text": [
      "##############\n"
     ]
    },
    {
     "data": {
      "text/html": [
       "<div align=\"left\" style=\"display:table;\"><div style=\"display:table-cell;vertical-align:top;padding-left:5px;padding-right:5px;padding-top:0.2em\"><div style=\"display:table;\"><div style=\"display:table-row;vertical-align:top;\"><div align=\"left\" style=\"display:table;border-collapse:collapse;\"><div style=\"display:table-row;border-bottom:1px solid #848482;\"><div style=\"display:table-cell;padding:0.2em 5px 0.2em 0px;vertical-align:top;\"></div><div style=\"display:table-cell;vertical-align:top;border-right:1px solid #848482;padding-right:5px;;padding-top:0.2em\"><div style=\"display:inline-block;\"><span>$\\{{x}_{\\left\\{e\\right\\}} \\:|\\: {x}_{\\left\\{e\\right\\}} \\in{} \\{\\{\\textsf{c1}_{e}\\}\\}\\} = \\{{x}_{\\left\\{e\\right\\}} \\:|\\: (\\textsf{c1}_{e} \\in{} {x}_{\\left\\{e\\right\\}}) \\wedge{} ({x}_{\\left\\{e\\right\\}} = \\{\\textsf{c1}_{e}\\})\\}$</span></div></div><div style=\"display:table-cell;vertical-align:top;padding-left:5px;padding-right:5px;padding-top:0.2em\"><div style=\"display:table;\"><div style=\"display:table-row;\"><div style=\"white-space:nowrap; color:blue;\"><span>Recursive simplification of operand 0</span></div></div></div></div></div><div style=\"display:table-row;border-bottom:1px solid #848482;\"><div style=\"display:table-cell;padding:0.2em 5px 0.2em 0px;vertical-align:top;\"> 1. </div><div style=\"display:table-cell;vertical-align:top;border-right:1px solid #848482;padding-right:5px;;padding-top:0.2em\"><div style=\"display:inline-block;\"><span>$\\{\\{\\textsf{c1}_{e}\\}\\} = \\{{x}_{\\left\\{e\\right\\}} \\:|\\: (\\textsf{c1}_{e} \\in{} {x}_{\\left\\{e\\right\\}}) \\wedge{} ({x}_{\\left\\{e\\right\\}} = \\{\\textsf{c1}_{e}\\})\\}$</span></div></div><div style=\"display:table-cell;vertical-align:top;padding-left:5px;padding-right:5px;padding-top:0.2em\"><div style=\"display:table;\"><div style=\"display:table-row;\"><div style=\"white-space:nowrap; color:blue;\"><span>[[Recursive simplification of operand 1]]</span></div></div></div></div></div><div style=\"display:table-row;border-bottom:1px solid #848482;\"><div style=\"display:table-cell;padding:0.2em 5px 0.2em 0px;vertical-align:top;\"> 2. </div><div style=\"display:table-cell;vertical-align:top;border-right:1px solid #848482;padding-right:5px;;padding-top:0.2em\"><div style=\"display:inline-block;\"><span>$\\{\\{\\textsf{c1}_{e}\\}\\} = \\{{x}_{\\left\\{e\\right\\}} \\:|\\: (\\textsf{c1}_{e} \\in{} {x}_{\\left\\{e\\right\\}}) \\wedge{} (\\forall{} x1_{e} \\: . \\: ({x1} \\in{} {x}_{\\left\\{e\\right\\}}) \\leftrightarrow{} {x1} = \\textsf{c1}_{e})\\}$</span></div></div><div style=\"display:table-cell;vertical-align:top;padding-left:5px;padding-right:5px;padding-top:0.2em\"><div style=\"display:table;\"><div style=\"display:table-row;\"><div style=\"white-space:nowrap; color:blue;\"><span>set equivalence (set elimination)</span></div></div></div></div></div><div style=\"display:table-row;border-bottom:1px solid #848482;\"><div style=\"display:table-cell;padding:0.2em 5px 0.2em 0px;vertical-align:top;\"> 3. </div><div style=\"display:table-cell;vertical-align:top;border-right:1px solid #848482;padding-right:5px;;padding-top:0.2em\"><div style=\"display:inline-block;\"><span>$\\forall{} x_{\\left\\{e\\right\\}} \\: . \\: ({x} \\in{} \\{\\{\\textsf{c1}_{e}\\}\\}) \\leftrightarrow{} ({x} \\in{} \\{{x} \\:|\\: (\\textsf{c1}_{e} \\in{} {x}) \\wedge{} (\\forall{} x1_{e} \\: . \\: ({x1} \\in{} {x}) \\leftrightarrow{} {x1} = \\textsf{c1}_{e})\\})$</span></div></div><div style=\"display:table-cell;vertical-align:top;padding-left:5px;padding-right:5px;padding-top:0.2em\"><div style=\"display:table;\"><div style=\"display:table-row;\"><div style=\"white-space:nowrap; color:blue;\"><span>Recursive simplification of body</span></div></div></div></div></div><div style=\"display:table-row;border-bottom:1px solid #848482;\"><div style=\"display:table-cell;padding:0.2em 5px 0.2em 0px;vertical-align:top;\"> 4. </div><div style=\"display:table-cell;vertical-align:top;border-right:1px solid #848482;padding-right:5px;;padding-top:0.2em\"><div style=\"display:inline-block;\"><span>$\\forall{} x_{\\left\\{e\\right\\}} \\: . \\: ((\\textsf{c1}_{e} \\in{} {x}) \\wedge{} (\\forall{} x1_{e} \\: . \\: ({x1} \\in{} {x}) \\leftrightarrow{} \\textsf{c1}_{e} = {x1})) \\leftrightarrow{} ({x} = \\{\\textsf{c1}_{e}\\})$</span></div></div><div style=\"display:table-cell;vertical-align:top;padding-left:5px;padding-right:5px;padding-top:0.2em\"><div style=\"display:table;\"><div style=\"display:table-row;\"><div style=\"white-space:nowrap; color:blue;\"><span>∀ evaluation</span></div></div></div></div></div><div style=\"display:table-row;\"><div style=\"display:table-cell;padding:0.2em 5px 0.2em 0px;vertical-align:top;\"> 5. </div><div style=\"display:table-cell;vertical-align:top;border-right:1px solid #848482;padding-right:5px;;padding-top:0.2em\"><div style=\"display:inline-block;\"><span>$\\textsf{True}$</span></div></div></div></div></div></div></div></div>"
      ],
      "text/plain": [
       " 1. ((Set x_{e}: (x_{e} << {{_c1}})) <=> (Set x_{e}: ((_c1 << x_{e}) & (x_{e} <=> {_c1}))))    (Recursive simplification of operand 0)\n",
       " 2. ({{_c1}} <=> (Set x_{e}: ((_c1 << x_{e}) & (x_{e} <=> {_c1}))))    ([[Recursive simplification of operand 1]])\n",
       " 3. ({{_c1}} <=> (Set x_{e}: ((_c1 << x_{e}) & (Forall x1_e: ((x1_e << x_{e}) <=> (x1_e <=> _c1))))))    (set equivalence (set elimination))\n",
       " 4. (Forall x_{e}: ((x_{e} << {{_c1}}) <=> (x_{e} << (Set x_{e}: ((_c1 << x_{e}) & (Forall x1_e: ((x1_e << x_{e}) <=> (x1_e <=> _c1))))))))    (Recursive simplification of body)\n",
       " 5. (Forall x_{e}: (((_c1 << x_{e}) & (Forall x1_e: ((x1_e << x_{e}) <=> (_c1 <=> x1_e)))) <=> (x_{e} <=> {_c1})))    (∀ evaluation)\n",
       " 6. True"
      ]
     },
     "metadata": {},
     "output_type": "display_data"
    }
   ],
   "source": [
    "# te(\"{{_c1, _c2}, {_c3}}\")\n",
    "te(\"{{_c1}}\")\n",
    "with tp(\"e\").restrict_domain(count=4):\n",
    "    print(\"##############\")\n",
    "    s1 = te(\"(Set x_{e} : x << {{_c1}})\")\n",
    "    s2 = te(\"(Set x_{e} : _c1 << x & x <=> {_c1})\")\n",
    "    x = s1.equivalent_to(s2)\n",
    "    # display(list(tp(\"{e}\").domain))\n",
    "    # display(x, list(x._set_impl()[0].type.domain))\n",
    "    x2 = x.simplify_all(eliminate_sets=True)\n",
    "    display(x2.derivation)\n",
    "    # display(te('(Forall x_{e}: (((_c1 << x_{e}) & (Forall x1_e: ((x1_e << x_{e}) <=> (_c1 <=> x1_e)))) <=> (x_{e} <=> {_c1})))').simplify_all())\n"
   ]
  },
  {
   "cell_type": "code",
   "execution_count": null,
   "id": "fec71d01-3579-48ea-b67d-0f895469ab2c",
   "metadata": {},
   "outputs": [],
   "source": []
  },
  {
   "cell_type": "code",
   "execution_count": null,
   "id": "8cd51c86-2280-416f-895b-031a18588217",
   "metadata": {},
   "outputs": [],
   "source": []
  },
  {
   "cell_type": "code",
   "execution_count": 454,
   "id": "3707ac30-a8a8-4ebc-9f95-d9eb84f896da",
   "metadata": {},
   "outputs": [
    {
     "data": {
      "text/latex": [
       "$\\{{x}_{\\left\\{e\\right\\}} \\:|\\: {x}_{\\left\\{e\\right\\}} \\in{} \\{\\{\\textsf{c1}_{e}\\}\\}\\} = \\{{x}_{\\left\\{e\\right\\}} \\:|\\: (\\textsf{c1}_{e} \\in{} {x}_{\\left\\{e\\right\\}}) \\wedge{} ({x}_{\\left\\{e\\right\\}} = \\{\\textsf{c1}_{e}\\})\\}$"
      ],
      "text/plain": [
       "((Set x_{e}: (x_{e} << {{_c1}})) <=> (Set x_{e}: ((_c1 << x_{e}) & (x_{e} <=> {_c1}))))"
      ]
     },
     "execution_count": 454,
     "metadata": {},
     "output_type": "execute_result"
    }
   ],
   "source": [
    "x"
   ]
  },
  {
   "cell_type": "code",
   "execution_count": 455,
   "id": "1621ca48-3a1b-44ac-928f-9922c576fdd4",
   "metadata": {},
   "outputs": [
    {
     "data": {
      "text/latex": [
       "$\\left\\{\\left\\{e\\right\\}\\right\\}$"
      ],
      "text/plain": [
       "{{e}}"
      ]
     },
     "execution_count": 455,
     "metadata": {},
     "output_type": "execute_result"
    }
   ],
   "source": [
    "te(\"{{_c1, _c2}, {_c3}}\").type"
   ]
  },
  {
   "cell_type": "code",
   "execution_count": 456,
   "id": "05e6e738-2f13-4608-8900-0d2ffb5789ea",
   "metadata": {},
   "outputs": [
    {
     "data": {
      "text/latex": [
       "$\\{{x}_{\\left\\{e\\right\\}} \\:|\\: {x}_{\\left\\{e\\right\\}} \\in{} \\{\\{\\textsf{c1}_{e}\\}\\}\\}$"
      ],
      "text/plain": [
       "(Set x_{e}: (x_{e} << {{_c1}}))"
      ]
     },
     "execution_count": 456,
     "metadata": {},
     "output_type": "execute_result"
    }
   ],
   "source": [
    "s1"
   ]
  },
  {
   "cell_type": "code",
   "execution_count": 457,
   "id": "bedd5080-d51e-4fc8-ab40-7426dcc515f9",
   "metadata": {},
   "outputs": [
    {
     "data": {
      "text/latex": [
       "$\\{{x}_{\\left\\{e\\right\\}} \\:|\\: (\\textsf{c1}_{e} \\in{} {x}_{\\left\\{e\\right\\}}) \\wedge{} ({x}_{\\left\\{e\\right\\}} = \\{\\textsf{c1}_{e}\\})\\}$"
      ],
      "text/plain": [
       "(Set x_{e}: ((_c1 << x_{e}) & (x_{e} <=> {_c1})))"
      ]
     },
     "execution_count": 457,
     "metadata": {},
     "output_type": "execute_result"
    }
   ],
   "source": [
    "s2"
   ]
  },
  {
   "cell_type": "code",
   "execution_count": 458,
   "id": "41db6e58-ffcd-4d80-9b30-f99d53145259",
   "metadata": {},
   "outputs": [
    {
     "data": {
      "text/latex": [
       "$\\{\\{\\textsf{c1}_{e}\\}\\}$"
      ],
      "text/plain": [
       "{{_c1}}"
      ]
     },
     "execution_count": 458,
     "metadata": {},
     "output_type": "execute_result"
    }
   ],
   "source": [
    "s1.simplify_all(eliminate_sets=True)"
   ]
  },
  {
   "cell_type": "code",
   "execution_count": 459,
   "id": "eda66a7c-3f4d-47e6-9ec9-b47dc3c3c9d7",
   "metadata": {},
   "outputs": [
    {
     "data": {
      "text/latex": [
       "$\\{{x}_{\\left\\{e\\right\\}} \\:|\\: (\\textsf{c1}_{e} \\in{} {x}_{\\left\\{e\\right\\}}) \\wedge{} (\\forall{} x1_{e} \\: . \\: ({x1} \\in{} {x}_{\\left\\{e\\right\\}}) \\leftrightarrow{} {x1} = \\textsf{c1}_{e})\\}$"
      ],
      "text/plain": [
       "(Set x_{e}: ((_c1 << x_{e}) & (Forall x1_e: ((x1_e << x_{e}) <=> (x1_e <=> _c1)))))"
      ]
     },
     "metadata": {},
     "output_type": "display_data"
    }
   ],
   "source": [
    "with tp(\"e\").restrict_domain(count=4):\n",
    "    display(s2.simplify_all(eliminate_sets=True))"
   ]
  },
  {
   "cell_type": "code",
   "execution_count": null,
   "id": "e6ee51a2-1573-45b9-be39-ef18008d98ac",
   "metadata": {},
   "outputs": [],
   "source": []
  },
  {
   "cell_type": "code",
   "execution_count": 460,
   "id": "f8826c54-a4b3-4502-9d35-e72456a4b104",
   "metadata": {},
   "outputs": [
    {
     "data": {
      "text/latex": [
       "$\\textsf{True}$"
      ],
      "text/plain": [
       "True"
      ]
     },
     "metadata": {},
     "output_type": "display_data"
    }
   ],
   "source": [
    "with tp(\"e\").restrict_domain(count=4):\n",
    "    display(te(\"((Set x_{e}: (x_{e} << {{_c1}})) <=> (Set x_{e}: ((_c1 << x_{e}) & (x_{e} <=> {_c1}))))\").simplify_all(eliminate_sets=True))\n",
    "    "
   ]
  },
  {
   "cell_type": "code",
   "execution_count": 461,
   "id": "a47ca257-6bd7-4139-b428-c6a265d60cb8",
   "metadata": {},
   "outputs": [],
   "source": [
    "reload_lamb()"
   ]
  },
  {
   "cell_type": "code",
   "execution_count": 462,
   "id": "c862b39b-2cc9-4e66-8fd5-9e6af86075a2",
   "metadata": {},
   "outputs": [
    {
     "data": {
      "text/latex": [
       "$\\left\\langle{}?_{15},?_{16}\\right\\rangle{}$"
      ],
      "text/plain": [
       "<?15,?16>"
      ]
     },
     "execution_count": 462,
     "metadata": {},
     "output_type": "execute_result"
    }
   ],
   "source": [
    "ts = meta.get_type_system()\n",
    "ts.unify_fun(tp(\"<∀X,∀X>\"), None, None)"
   ]
  },
  {
   "cell_type": "code",
   "execution_count": 463,
   "id": "f07af273-4634-469c-861e-219b147be4d8",
   "metadata": {},
   "outputs": [
    {
     "name": "stdout",
     "output_type": "stream",
     "text": [
      "INFO (core): Coerced guessed type for 'P_t' into <X,t>, to match argument 'x_X'\n"
     ]
    },
    {
     "data": {
      "text/latex": [
       "$\\lambda{} x_{X} \\: . \\: {P}_{\\left\\langle{}X,t\\right\\rangle{}}({x})$"
      ],
      "text/plain": [
       "(λ x_X: P_<X,t>(x_X))"
      ]
     },
     "execution_count": 463,
     "metadata": {},
     "output_type": "execute_result"
    }
   ],
   "source": [
    "# lamb.parsing.errors_raise = True\n",
    "x = %te Lambda x_X : P(x)\n",
    "x"
   ]
  },
  {
   "cell_type": "code",
   "execution_count": 464,
   "id": "291bd1e8-33a8-464d-a3b5-004f2248adf5",
   "metadata": {},
   "outputs": [
    {
     "data": {
      "text/html": [
       "<div align=\"left\" style=\"display:table;\"><div style=\"display:table-cell;vertical-align:top;padding-left:5px;padding-right:5px;padding-top:0.2em\"><div style=\"display:table;\"><div style=\"display:table-row;vertical-align:top;\"><div align=\"left\" style=\"display:table;border-collapse:collapse;\"><div style=\"display:table-row;border-bottom:1px solid #848482;\"><div style=\"display:table-cell;padding:0.2em 5px 0.2em 0px;vertical-align:top;\"></div><div style=\"display:table-cell;vertical-align:top;border-right:1px solid #848482;padding-right:5px;;padding-top:0.2em\"><div style=\"display:inline-block;\"><span>$\\lambda{} x_{X} \\: . \\: {P}_{\\left\\langle{}X,t\\right\\rangle{}}({x})$</span></div></div><div style=\"display:table-cell;vertical-align:top;padding-left:5px;padding-right:5px;padding-top:0.2em\"><div style=\"display:table;\"><div style=\"display:table-row;\"><div style=\"white-space:nowrap; color:blue;\"><span>Type adjustment</span></div></div></div></div></div><div style=\"display:table-row;\"><div style=\"display:table-cell;padding:0.2em 5px 0.2em 0px;vertical-align:top;\"> 1. </div><div style=\"display:table-cell;vertical-align:top;border-right:1px solid #848482;padding-right:5px;;padding-top:0.2em\"><div style=\"display:inline-block;\"><span>$\\lambda{} x_{e} \\: . \\: {P}({x})$</span></div></div></div></div></div></div></div></div>"
      ],
      "text/plain": [
       " 1. (λ x_X: P_<X,t>(x_X))    (Type adjustment)\n",
       " 2. (λ x_e: P_<e,t>(x_e))"
      ]
     },
     "execution_count": 464,
     "metadata": {},
     "output_type": "execute_result"
    }
   ],
   "source": [
    "x.try_adjust_type(tp(\"<e,t>\")).derivation"
   ]
  },
  {
   "cell_type": "code",
   "execution_count": 465,
   "id": "37c7f642-d3e9-47c0-a848-3d2c0b1523e2",
   "metadata": {},
   "outputs": [
    {
     "data": {
      "text/html": [
       "<div align=\"left\" style=\"display:table;\"><div style=\"display:table-cell;vertical-align:top;padding-left:5px;padding-right:5px;padding-top:0.2em\"><div style=\"display:table;\"><div style=\"display:table-row;vertical-align:top;\"><div align=\"left\" style=\"display:table;border-collapse:collapse;\"><div style=\"display:table-row;border-bottom:1px solid #848482;\"><div style=\"display:table-cell;padding:0.2em 5px 0.2em 0px;vertical-align:top;\"></div><div style=\"display:table-cell;vertical-align:top;border-right:1px solid #848482;padding-right:5px;;padding-top:0.2em\"><div style=\"display:inline-block;\"><span>$\\lambda{} x_{X} \\: . \\: {P}_{\\left\\langle{}X,t\\right\\rangle{}}({x})$</span></div></div><div style=\"display:table-cell;vertical-align:top;padding-left:5px;padding-right:5px;padding-top:0.2em\"><div style=\"display:table;\"><div style=\"display:table-row;\"><div style=\"white-space:nowrap; color:blue;\"><span>Type adjustment</span></div></div></div></div></div><div style=\"display:table-row;\"><div style=\"display:table-cell;padding:0.2em 5px 0.2em 0px;vertical-align:top;\"> 1. </div><div style=\"display:table-cell;vertical-align:top;border-right:1px solid #848482;padding-right:5px;;padding-top:0.2em\"><div style=\"display:inline-block;\"><span>$\\lambda{} x_{\\left\\langle{}Y,e\\right\\rangle{}} \\: . \\: {P}_{\\left\\langle{}\\left\\langle{}Y,e\\right\\rangle{},t\\right\\rangle{}}({x})$</span></div></div></div></div></div></div></div></div>"
      ],
      "text/plain": [
       " 1. (λ x_X: P_<X,t>(x_X))    (Type adjustment)\n",
       " 2. (λ x_<Y,e>: P_<<Y,e>,t>(x_<Y,e>))"
      ]
     },
     "execution_count": 465,
     "metadata": {},
     "output_type": "execute_result"
    }
   ],
   "source": [
    "x.try_adjust_type(tp(\"<<Y,e>,t>\")).derivation"
   ]
  },
  {
   "cell_type": "code",
   "execution_count": 466,
   "id": "d847bcb2-cce9-4d37-89d8-2b35d0e931bb",
   "metadata": {},
   "outputs": [],
   "source": [
    "x.try_adjust_type(tp(\"<Y,n>\"))"
   ]
  },
  {
   "cell_type": "code",
   "execution_count": 467,
   "id": "4a5040f5-b42c-49be-8cee-6badd99d0a7f",
   "metadata": {},
   "outputs": [
    {
     "data": {
      "text/html": [
       "<div align=\"left\" style=\"display:table;\"><div style=\"display:table-cell;vertical-align:top;padding-left:5px;padding-right:5px;padding-top:0.2em\"><div style=\"display:table;\"><div style=\"display:table-row;vertical-align:top;\"><div align=\"left\" style=\"display:table;border-collapse:collapse;\"><div style=\"display:table-row;border-bottom:1px solid #848482;\"><div style=\"display:table-cell;padding:0.2em 5px 0.2em 0px;vertical-align:top;\"></div><div style=\"display:table-cell;vertical-align:top;border-right:1px solid #848482;padding-right:5px;;padding-top:0.2em\"><div style=\"display:inline-block;\"><span>${P}_{\\left\\langle{}e,Z\\right\\rangle{}}({x}_{e})$</span></div></div><div style=\"display:table-cell;vertical-align:top;padding-left:5px;padding-right:5px;padding-top:0.2em\"><div style=\"display:table;\"><div style=\"display:table-row;\"><div style=\"white-space:nowrap; color:blue;\"><span>Type constraint from Lambda: Z == Y</span></div></div></div></div></div><div style=\"display:table-row;\"><div style=\"display:table-cell;padding:0.2em 5px 0.2em 0px;vertical-align:top;\"> 1. </div><div style=\"display:table-cell;vertical-align:top;border-right:1px solid #848482;padding-right:5px;;padding-top:0.2em\"><div style=\"display:inline-block;\"><span>${P}_{\\left\\langle{}e,Y\\right\\rangle{}}({x}_{e})$</span></div></div></div></div></div></div></div></div>"
      ],
      "text/plain": [
       " 1. P_<e,Z>(x_e)    (Type constraint from Lambda: Z == Y)\n",
       " 2. P_<e,Y>(x_e)"
      ]
     },
     "execution_count": 467,
     "metadata": {},
     "output_type": "execute_result"
    }
   ],
   "source": [
    "meta.LFun(te(\"x_X\"), te(\"P_<e,Z>(x_e)\"), typ=tp(\"<Y,X>\"))[1].derivation"
   ]
  },
  {
   "cell_type": "code",
   "execution_count": 468,
   "id": "f01b3be3-2c44-4178-950c-22d476b71b8c",
   "metadata": {},
   "outputs": [
    {
     "name": "stdout",
     "output_type": "stream",
     "text": [
      "INFO (core): Coerced guessed type for 'P_t' into <X,t>, to match argument 'x_X'\n"
     ]
    },
    {
     "data": {
      "text/html": [
       "<div align=\"left\" style=\"display:table;\"><div style=\"display:table-cell;vertical-align:top;padding-left:5px;padding-right:5px;padding-top:0.2em\"><div style=\"display:table;\"><div style=\"display:table-row;vertical-align:top;\"><div align=\"left\" style=\"display:table;border-collapse:collapse;\"><div style=\"display:table-row;border-bottom:1px solid #848482;\"><div style=\"display:table-cell;padding:0.2em 5px 0.2em 0px;vertical-align:top;\"></div><div style=\"display:table-cell;vertical-align:top;border-right:1px solid #848482;padding-right:5px;;padding-top:0.2em\"><div style=\"display:inline-block;\"><span>${[\\lambda{} x_{X} \\: . \\: {P}_{\\left\\langle{}X,t\\right\\rangle{}}({x})]}({y}_{\\left\\langle{}Y,t\\right\\rangle{}})$</span></div></div><div style=\"display:table-cell;vertical-align:top;padding-left:5px;padding-right:5px;padding-top:0.2em\"><div style=\"display:table;\"><div style=\"display:table-row;\"><div style=\"white-space:nowrap; color:blue;\"><span>Function-argument type inference</span></div></div></div></div></div><div style=\"display:table-row;\"><div style=\"display:table-cell;padding:0.2em 5px 0.2em 0px;vertical-align:top;\"> 1. </div><div style=\"display:table-cell;vertical-align:top;border-right:1px solid #848482;padding-right:5px;;padding-top:0.2em\"><div style=\"display:inline-block;\"><span>${[\\lambda{} x_{\\left\\langle{}Y,t\\right\\rangle{}} \\: . \\: {P}_{\\left\\langle{}\\left\\langle{}Y,t\\right\\rangle{},t\\right\\rangle{}}({x})]}({y}_{\\left\\langle{}Y,t\\right\\rangle{}})$</span></div></div></div></div></div></div></div></div>"
      ],
      "text/plain": [
       " 1. (λ x_X: P_<X,t>(x_X))(y_<Y,t>)    (Function-argument type inference)\n",
       " 2. (λ x_<Y,t>: P_<<Y,t>,t>(x_<Y,t>))(y_<Y,t>)"
      ]
     },
     "execution_count": 468,
     "metadata": {},
     "output_type": "execute_result"
    }
   ],
   "source": [
    "x = %te (L x_X: P(x))(y_<Y,t>)\n",
    "x.derivation"
   ]
  },
  {
   "cell_type": "code",
   "execution_count": 469,
   "id": "1ff5a140-fad6-4d08-938c-b7aee8b9f8b4",
   "metadata": {},
   "outputs": [],
   "source": [
    "reload_lamb()"
   ]
  },
  {
   "cell_type": "code",
   "execution_count": 470,
   "id": "78f0b020-2198-40d3-aac3-7af1f9141770",
   "metadata": {},
   "outputs": [
    {
     "data": {
      "text/latex": [
       "$\\lambda{} f_{\\left\\langle{}X,t\\right\\rangle{}} \\: . \\: \\lambda{} r_{\\left\\{X\\right\\}} \\: . \\: \\exists{} x_{X} \\in {\\small {r}_{\\left\\{X\\right\\}}} \\: . \\: {f}({x}) \\wedge{} (\\forall{} y_{X} \\in {\\small {r}_{\\left\\{X\\right\\}}} \\: . \\: {f}({y}) \\rightarrow{} {x} = {y})$"
      ],
      "text/plain": [
       "(λ f_<X,t>: (λ r_{X}: (Exists x_X << r_{X}: (f_<X,t>(x_X) & (Forall y_X << r_{X}: (f_<X,t>(y_X) >> (x_X <=> y_X)))))))"
      ]
     },
     "execution_count": 470,
     "metadata": {},
     "output_type": "execute_result"
    }
   ],
   "source": [
    "x = %te (λ f_<?448,t>: (λ r_{?448}: (Exists x_?448 << r_{?448}: (f_<?448,t>(x_?448) & (Forall y_?448 << r_{?448}: (f_<?448,t>(y_?448) >> (x_?448 <=> y_?448)))))))\n",
    "x"
   ]
  },
  {
   "cell_type": "code",
   "execution_count": 471,
   "id": "ffc38399-3a75-4a07-adcd-448b49665250",
   "metadata": {},
   "outputs": [
    {
     "data": {
      "text/latex": [
       "${[\\lambda{} f_{\\left\\langle{}e,t\\right\\rangle{}} \\: . \\: \\lambda{} r_{\\left\\{e\\right\\}} \\: . \\: \\exists{} x_{e} \\in {\\small {r}_{\\left\\{e\\right\\}}} \\: . \\: {f}({x}) \\wedge{} (\\forall{} y_{e} \\in {\\small {r}_{\\left\\{e\\right\\}}} \\: . \\: {f}({y}) \\rightarrow{} {x} = {y})]}(\\lambda{} y_{e} \\: . \\: \\textsf{True})$"
      ],
      "text/plain": [
       "(λ f_<e,t>: (λ r_{e}: (Exists x_e << r_{e}: (f_<e,t>(x_e) & (Forall y_e << r_{e}: (f_<e,t>(y_e) >> (x_e <=> y_e)))))))(λ y_e: True)"
      ]
     },
     "execution_count": 471,
     "metadata": {},
     "output_type": "execute_result"
    }
   ],
   "source": [
    "x(te(\"L y_e : True\"))"
   ]
  },
  {
   "cell_type": "code",
   "execution_count": 472,
   "id": "4ab02f4d-9e7f-4e2d-9174-e9cfcd67684c",
   "metadata": {},
   "outputs": [
    {
     "data": {
      "text/latex": [
       "$\\left\\langle{}\\left\\langle{}e,t\\right\\rangle{},\\left\\langle{}\\left\\{e\\right\\},t\\right\\rangle{}\\right\\rangle{}$"
      ],
      "text/plain": [
       "<<e,t>,<{e},t>>"
      ]
     },
     "execution_count": 472,
     "metadata": {},
     "output_type": "execute_result"
    }
   ],
   "source": [
    "ts = meta.get_type_system()\n",
    "a = {}\n",
    "ts.unify_fa(x.type, tp(\"<e,t>\"), assignment=a)"
   ]
  },
  {
   "cell_type": "code",
   "execution_count": 473,
   "id": "d05bd44f-40a5-4931-8017-520e787641ec",
   "metadata": {},
   "outputs": [
    {
     "data": {
      "text/latex": [
       "$\\left\\langle{}\\left\\langle{}X,t\\right\\rangle{},\\left\\langle{}\\left\\{X\\right\\},t\\right\\rangle{}\\right\\rangle{}$"
      ],
      "text/plain": [
       "<<X,t>,<{X},t>>"
      ]
     },
     "execution_count": 473,
     "metadata": {},
     "output_type": "execute_result"
    }
   ],
   "source": [
    "x.type"
   ]
  },
  {
   "cell_type": "code",
   "execution_count": 474,
   "id": "274a8404-b728-46a5-b2a2-c1b094ad8a0b",
   "metadata": {},
   "outputs": [
    {
     "data": {
      "text/latex": [
       "$\\left\\langle{}\\left\\langle{}e,t\\right\\rangle{},\\forall{}X\\right\\rangle{}$"
      ],
      "text/plain": [
       "<<e,t>,∀X>"
      ]
     },
     "execution_count": 474,
     "metadata": {},
     "output_type": "execute_result"
    }
   ],
   "source": [
    "hfun = ts._build_hyp_fun(tp(\"<e,t>\"), None)\n",
    "hfun"
   ]
  },
  {
   "cell_type": "code",
   "execution_count": 475,
   "id": "b0579bec-049e-4edc-8fa2-c3a3a0cd8425",
   "metadata": {},
   "outputs": [
    {
     "data": {
      "text/html": [
       "<table><tr><td>Principal type:&nbsp;&nbsp; </td><td>$\\left\\langle{}\\left\\langle{}e,t\\right\\rangle{},\\left\\langle{}\\left\\{e\\right\\},t\\right\\rangle{}\\right\\rangle{}$</td></tr><tr><td>Inputs: </td><td>$\\left\\langle{}\\left\\langle{}e,t\\right\\rangle{},\\forall{}X\\right\\rangle{}$ and $\\left\\langle{}\\left\\langle{}X,t\\right\\rangle{},\\left\\langle{}\\left\\{X\\right\\},t\\right\\rangle{}\\right\\rangle{}$</td></tr><tr><td>Mapping: </td><td>$\\{X: e\\}$</td></tr></table>"
      ],
      "text/plain": [
       "<<e,t>,<{e},t>>"
      ]
     },
     "execution_count": 475,
     "metadata": {},
     "output_type": "execute_result"
    }
   ],
   "source": [
    "ts.unify_details(x.type, hfun, assignment={})"
   ]
  },
  {
   "cell_type": "code",
   "execution_count": 476,
   "id": "2c5f61be-346d-40ab-918b-d2017d1f24d1",
   "metadata": {},
   "outputs": [],
   "source": [
    "reload_lamb()"
   ]
  },
  {
   "cell_type": "code",
   "execution_count": 477,
   "id": "2839a3d5-d386-4cf0-8f93-25da04e8403d",
   "metadata": {},
   "outputs": [
    {
     "data": {
      "text/latex": [
       "$\\lambda{} x_{\\forall{}X} \\: . \\: {P}_{\\left\\langle{}X,t\\right\\rangle{}}({x}_{X}) \\wedge{} {Q}_{\\left\\langle{}\\left\\langle{}X',X''\\right\\rangle{},t\\right\\rangle{}}({x}_{\\left\\langle{}X',X''\\right\\rangle{}})$"
      ],
      "text/plain": [
       "(λ x_∀X: (P_<X,t>(x_X) & Q_<<X1,X2>,t>(x_<X1,X2>)))"
      ]
     },
     "execution_count": 477,
     "metadata": {},
     "output_type": "execute_result"
    }
   ],
   "source": [
    "te(\"L x_∀X : P_∀<Y,Z>(x) & Q_<∀<X,Y>,t>(x)\")"
   ]
  },
  {
   "cell_type": "code",
   "execution_count": null,
   "id": "4cff66c4-45cb-4d89-b54f-f0753f895829",
   "metadata": {},
   "outputs": [],
   "source": []
  },
  {
   "cell_type": "code",
   "execution_count": 478,
   "id": "2efd0690-3be8-4357-850a-a667307e5b82",
   "metadata": {},
   "outputs": [
    {
     "data": {
      "text/markdown": [
       "${asdf}_{\\left\\langle{}X,X\\right\\rangle{}}\\:=\\:\\lambda{} f_{X} \\: . \\: {f}$<br />\n",
       "${test}_{\\left\\langle{}X,X\\right\\rangle{}}\\:=\\:\\lambda{} f_{X} \\: . \\: {f}$"
      ],
      "text/plain": [
       "asdf_<X,X> = (λ f_X: f_X)\n",
       "test_<X,X> = (λ f_X: f_X)"
      ]
     },
     "metadata": {},
     "output_type": "display_data"
    }
   ],
   "source": [
    "%%lamb\n",
    "asdf = L f_X : f\n",
    "test = asdf(asdf(asdf))"
   ]
  },
  {
   "cell_type": "code",
   "execution_count": 479,
   "id": "ae373d29-9f72-45db-ba33-e2e7effe4ee3",
   "metadata": {},
   "outputs": [
    {
     "data": {
      "text/html": [
       "<div align=\"left\" style=\"display:table;\"><div style=\"display:table-cell;vertical-align:top;padding-left:5px;padding-right:5px;padding-top:0.2em\"><div style=\"display:table;\"><div style=\"display:table-row;vertical-align:top;\"><div align=\"left\" style=\"display:table;border-collapse:collapse;\"><div style=\"display:table-row;border-bottom:1px solid #848482;\"><div style=\"display:table-cell;padding:0.2em 5px 0.2em 0px;vertical-align:top;\"></div><div style=\"display:table-cell;vertical-align:top;border-right:1px solid #848482;padding-right:5px;;padding-top:0.2em\"><div style=\"display:inline-block;\"><span>${asdf}_{\\forall{}\\left\\langle{}X,X\\right\\rangle{}}({asdf}_{\\left\\langle{}\\left\\langle{}X,X\\right\\rangle{},\\left\\langle{}X,X\\right\\rangle{}\\right\\rangle{}}({asdf}_{\\left\\langle{}X,X\\right\\rangle{}}))$</span></div></div><div style=\"display:table-cell;vertical-align:top;padding-left:5px;padding-right:5px;padding-top:0.2em\"><div style=\"display:table;\"><div style=\"display:table-row;\"><div style=\"white-space:nowrap; color:blue;\"><span>Function-argument type inference</span></div></div></div></div></div><div style=\"display:table-row;border-bottom:1px solid #848482;\"><div style=\"display:table-cell;padding:0.2em 5px 0.2em 0px;vertical-align:top;\"> 1. </div><div style=\"display:table-cell;vertical-align:top;border-right:1px solid #848482;padding-right:5px;;padding-top:0.2em\"><div style=\"display:inline-block;\"><span>${asdf}_{\\left\\langle{}\\left\\langle{}X,X\\right\\rangle{},\\left\\langle{}X,X\\right\\rangle{}\\right\\rangle{}}({asdf}_{\\left\\langle{}\\left\\langle{}X,X\\right\\rangle{},\\left\\langle{}X,X\\right\\rangle{}\\right\\rangle{}}({asdf}_{\\left\\langle{}X,X\\right\\rangle{}}))$</span></div></div><div style=\"display:table-cell;vertical-align:top;padding-left:5px;padding-right:5px;padding-top:0.2em\"><div style=\"display:table;\"><div style=\"display:table-row;\"><div style=\"white-space:nowrap; color:blue;\"><span>Variable substitution from context</span></div></div></div></div></div><div style=\"display:table-row;border-bottom:1px solid #848482;\"><div style=\"display:table-cell;padding:0.2em 5px 0.2em 0px;vertical-align:top;\"> 2. </div><div style=\"display:table-cell;vertical-align:top;border-right:1px solid #848482;padding-right:5px;;padding-top:0.2em\"><div style=\"display:inline-block;\"><span>${[\\lambda{} f_{\\left\\langle{}X,X\\right\\rangle{}} \\: . \\: {f}]}({[\\lambda{} f_{\\left\\langle{}X,X\\right\\rangle{}} \\: . \\: {f}]}(\\lambda{} f_{X} \\: . \\: {f}))$</span></div></div><div style=\"display:table-cell;vertical-align:top;padding-left:5px;padding-right:5px;padding-top:0.2em\"><div style=\"display:table;\"><div style=\"display:table-row;\"><div style=\"white-space:nowrap; color:blue;\"><span>Reduction</span></div></div></div></div></div><div style=\"display:table-row;border-bottom:1px solid #848482;\"><div style=\"display:table-cell;padding:0.2em 5px 0.2em 0px;vertical-align:top;\"> 3. </div><div style=\"display:table-cell;vertical-align:top;border-right:1px solid #848482;padding-right:5px;;padding-top:0.2em\"><div style=\"display:inline-block;\"><span>${[\\lambda{} f_{\\left\\langle{}X,X\\right\\rangle{}} \\: . \\: {f}]}(\\lambda{} f_{X} \\: . \\: {f})$</span></div></div><div style=\"display:table-cell;vertical-align:top;padding-left:5px;padding-right:5px;padding-top:0.2em\"><div style=\"display:table;\"><div style=\"display:table-row;\"><div style=\"white-space:nowrap; color:blue;\"><span>Reduction</span></div></div></div></div></div><div style=\"display:table-row;\"><div style=\"display:table-cell;padding:0.2em 5px 0.2em 0px;vertical-align:top;\"> 4. </div><div style=\"display:table-cell;vertical-align:top;border-right:1px solid #848482;padding-right:5px;;padding-top:0.2em\"><div style=\"display:inline-block;\"><span>$\\lambda{} f_{X} \\: . \\: {f}$</span></div></div></div></div></div></div></div></div>"
      ],
      "text/plain": [
       " 1. asdf_∀<X,X>(asdf_<<X,X>,<X,X>>(asdf_<X,X>))    (Function-argument type inference)\n",
       " 2. asdf_<<X,X>,<X,X>>(asdf_<<X,X>,<X,X>>(asdf_<X,X>))    (Variable substitution from context)\n",
       " 3. (λ f_<X,X>: f_<X,X>)((λ f_<X,X>: f_<X,X>)(λ f_X: f_X))    (Reduction)\n",
       " 4. (λ f_<X,X>: f_<X,X>)(λ f_X: f_X)    (Reduction)\n",
       " 5. (λ f_X: f_X)"
      ]
     },
     "execution_count": 479,
     "metadata": {},
     "output_type": "execute_result"
    }
   ],
   "source": [
    "test.derivation"
   ]
  },
  {
   "cell_type": "code",
   "execution_count": 480,
   "id": "ace8ac21-e4f2-4cf6-b02a-040031fcf48d",
   "metadata": {},
   "outputs": [],
   "source": [
    "reload_lamb()"
   ]
  },
  {
   "cell_type": "code",
   "execution_count": 481,
   "id": "0e34a803-726b-45c3-b1a8-6c8c9597657f",
   "metadata": {},
   "outputs": [
    {
     "data": {
      "text/markdown": [
       "${unit}_{\\left\\langle{}X,\\left\\langle{}e,X\\right\\rangle{}\\right\\rangle{}}\\:=\\:\\lambda{} a_{X} \\: . \\: \\lambda{} w_{e} \\: . \\: {a}$<br />\n",
       "${bind}_{\\left\\langle{}\\left\\langle{}e,X\\right\\rangle{},\\left\\langle{}\\left\\langle{}X,\\left\\langle{}e,Y\\right\\rangle{}\\right\\rangle{},\\left\\langle{}e,Y\\right\\rangle{}\\right\\rangle{}\\right\\rangle{}}\\:=\\:\\lambda{} m_{\\left\\langle{}e,X\\right\\rangle{}} \\: . \\: \\lambda{} k_{\\left\\langle{}X,\\left\\langle{}e,Y\\right\\rangle{}\\right\\rangle{}} \\: . \\: \\lambda{} w_{e} \\: . \\: {k}({m}({w}))({w})$"
      ],
      "text/plain": [
       "unit_<X,<e,X>> = (λ a_X: (λ w_e: a_X))\n",
       "bind_<<e,X>,<<X,<e,Y>>,<e,Y>>> = (λ m_<e,X>: (λ k_<X,<e,Y>>: (λ w_e: k_<X,<e,Y>>(m_<e,X>(w_e))(w_e))))"
      ]
     },
     "metadata": {},
     "output_type": "display_data"
    }
   ],
   "source": [
    "%%lamb\n",
    "# monad operations\n",
    "unit = L a_X : L w_e : a\n",
    "bind = L m_<e,X> : L k_<X,<e,Y>> : L w_e : (k(m(w))(w))\n",
    "# apply = L f_<e,<X,Y>> : L x_<e,X> : L w_e : f(w)(x(w))\n",
    "# apply = L f_<e,<X,Y>> : L x_<e,X> : bind(f)(L a_<X,Y> : bind(x_<e,X>)(L b_X : unit(a(b))))"
   ]
  },
  {
   "cell_type": "code",
   "execution_count": 482,
   "id": "bb50a2ca-a24d-4768-a964-08e267b130e8",
   "metadata": {},
   "outputs": [
    {
     "data": {
      "text/latex": [
       "${[\\lambda{} a_{\\left\\langle{}X,X\\right\\rangle{}} \\: . \\: \\lambda{} w_{e} \\: . \\: {a}]}(\\lambda{} x_{X} \\: . \\: {x})$"
      ],
      "text/plain": [
       "(λ a_<X,X>: (λ w_e: a_<X,X>))(λ x_X: x_X)"
      ]
     },
     "execution_count": 482,
     "metadata": {},
     "output_type": "execute_result"
    }
   ],
   "source": [
    "x = %te lexicon unit(L x_X : x)\n",
    "x #[0][1][1].calc_type_env()"
   ]
  },
  {
   "cell_type": "code",
   "execution_count": 483,
   "id": "5b11aa2f-0e5a-4ae8-a186-2bc99393e02a",
   "metadata": {},
   "outputs": [
    {
     "data": {
      "text/latex": [
       "$\\left\\langle{}X,\\left\\langle{}e,X\\right\\rangle{}\\right\\rangle{}$"
      ],
      "text/plain": [
       "<X,<e,X>>"
      ]
     },
     "execution_count": 483,
     "metadata": {},
     "output_type": "execute_result"
    }
   ],
   "source": [
    "unit.type"
   ]
  },
  {
   "cell_type": "code",
   "execution_count": 484,
   "id": "ed3c87ee-5f63-4a7f-9a17-b2045f1ad787",
   "metadata": {},
   "outputs": [
    {
     "data": {
      "text/latex": [
       "$\\lambda{} f_{\\left\\langle{}e,\\left\\langle{}X',X\\right\\rangle{}\\right\\rangle{}} \\: . \\: \\lambda{} x_{\\left\\langle{}e,X'\\right\\rangle{}} \\: . \\: \\lambda{} w_{e} \\: . \\: {f}({w})({x}({w}))$"
      ],
      "text/plain": [
       "(λ f_<e,<X1,X>>: (λ x_<e,X1>: (λ w_e: f_<e,<X1,X>>(w_e)(x_<e,X1>(w_e)))))"
      ]
     },
     "execution_count": 484,
     "metadata": {},
     "output_type": "execute_result"
    }
   ],
   "source": [
    "lamb.parsing.errors_raise = True\n",
    "lamb.parsing.parse_right('apply', 'L f_<e,<X,Y>> : L x_<e,X> : bind(f)(L a_<X,Y> : bind(x_<e,X>)(L b_X : unit(a(b))))',\n",
    "                         env=lang.get_system().lexicon)"
   ]
  },
  {
   "cell_type": "code",
   "execution_count": 485,
   "id": "a5aaa2c9-f7eb-47ea-884d-8d551de0a517",
   "metadata": {},
   "outputs": [
    {
     "data": {
      "text/latex": [
       "$\\lambda{} f_{\\left\\langle{}e,\\left\\langle{}X,X'\\right\\rangle{}\\right\\rangle{}} \\: . \\: \\lambda{} x_{\\left\\langle{}e,X\\right\\rangle{}} \\: . \\: {bind}_{\\left\\langle{}\\left\\langle{}e,\\left\\langle{}X,X'\\right\\rangle{}\\right\\rangle{},\\left\\langle{}\\left\\langle{}\\left\\langle{}X,X'\\right\\rangle{},\\left\\langle{}e,X'\\right\\rangle{}\\right\\rangle{},\\left\\langle{}e,X'\\right\\rangle{}\\right\\rangle{}\\right\\rangle{}}({f})(\\lambda{} a_{\\left\\langle{}X,X'\\right\\rangle{}} \\: . \\: {bind}_{\\left\\langle{}\\left\\langle{}e,X\\right\\rangle{},\\left\\langle{}\\left\\langle{}X,\\left\\langle{}e,X'\\right\\rangle{}\\right\\rangle{},\\left\\langle{}e,X'\\right\\rangle{}\\right\\rangle{}\\right\\rangle{}}({x})(\\lambda{} b_{X} \\: . \\: {unit}_{\\left\\langle{}X',\\left\\langle{}e,X'\\right\\rangle{}\\right\\rangle{}}({a}({b}))))$"
      ],
      "text/plain": [
       "(λ f_<e,<X,X1>>: (λ x_<e,X>: bind_<<e,<X,X1>>,<<<X,X1>,<e,X1>>,<e,X1>>>(f_<e,<X,X1>>)(λ a_<X,X1>: bind_<<e,X>,<<X,<e,X1>>,<e,X1>>>(x_<e,X>)(λ b_X: unit_<X1,<e,X1>>(a_<X,X1>(b_X))))))"
      ]
     },
     "execution_count": 485,
     "metadata": {},
     "output_type": "execute_result"
    }
   ],
   "source": [
    "x = te(\"L f_<e,<X,Y>> : L x_<e,X> : bind(f)(L a_<X,Y> : bind(x_<e,X>)(L b_X : unit(a(b))))\",\n",
    "   assignment=lang.get_system().lexicon)\n",
    "x"
   ]
  },
  {
   "cell_type": "code",
   "execution_count": null,
   "id": "eb3015c1-8c84-4019-9234-1ca522c41fc7",
   "metadata": {},
   "outputs": [],
   "source": []
  },
  {
   "cell_type": "code",
   "execution_count": null,
   "id": "ff0fb65d-6ca0-418e-94f9-56676c910234",
   "metadata": {},
   "outputs": [],
   "source": []
  },
  {
   "cell_type": "code",
   "execution_count": 486,
   "id": "3af34925-b634-4c97-8a10-151e4916d413",
   "metadata": {},
   "outputs": [
    {
     "data": {
      "text/markdown": [
       "${apply}_{\\left\\langle{}\\left\\langle{}e,\\left\\langle{}X',X\\right\\rangle{}\\right\\rangle{},\\left\\langle{}\\left\\langle{}e,X'\\right\\rangle{},\\left\\langle{}e,X\\right\\rangle{}\\right\\rangle{}\\right\\rangle{}}\\:=\\:\\lambda{} f_{\\left\\langle{}e,\\left\\langle{}X',X\\right\\rangle{}\\right\\rangle{}} \\: . \\: \\lambda{} x_{\\left\\langle{}e,X'\\right\\rangle{}} \\: . \\: \\lambda{} w_{e} \\: . \\: {f}({w})({x}({w}))$"
      ],
      "text/plain": [
       "apply_<<e,<X1,X>>,<<e,X1>,<e,X>>> = (λ f_<e,<X1,X>>: (λ x_<e,X1>: (λ w_e: f_<e,<X1,X>>(w_e)(x_<e,X1>(w_e)))))"
      ]
     },
     "metadata": {},
     "output_type": "display_data"
    }
   ],
   "source": [
    "%lamb apply = L f_<e,<X,Y>> : L x_<e,X> : bind(f)(L a_<X,Y> : bind(x_<e,X>)(L b_X : unit(a(b))))"
   ]
  },
  {
   "cell_type": "code",
   "execution_count": null,
   "id": "0b66a24a-8332-4e36-8461-29f20532b9d0",
   "metadata": {},
   "outputs": [],
   "source": []
  },
  {
   "cell_type": "code",
   "execution_count": 487,
   "id": "6468fabc-d0a8-4e98-82d6-a624a675283b",
   "metadata": {},
   "outputs": [
    {
     "data": {
      "text/html": [
       "<table><tr><td>Term mappings:&nbsp;&nbsp; </td><td>$\\{a: \\left\\langle{}X,\\left\\langle{}e,X\\right\\rangle{}\\right\\rangle{}\\}$</td></tr><tr><td>Type mappings:&nbsp;&nbsp; </td><td>$\\{\\}$</td></tr><tr><td>Type variables:&nbsp;&nbsp; </td><td>$\\{X\\}$</td></tr></table>"
      ],
      "text/plain": [
       "[TypeEnv: Terms: {'a': <X,<e,X>>}, Type mapping: {}, Type variables: {X}]"
      ]
     },
     "execution_count": 487,
     "metadata": {},
     "output_type": "execute_result"
    }
   ],
   "source": [
    "x = %te lexicon unit(unit)\n",
    "x[0][1][1].calc_type_env()"
   ]
  },
  {
   "cell_type": "code",
   "execution_count": null,
   "id": "c5504d1b-7e35-467a-ae46-bf4a03bdfd24",
   "metadata": {},
   "outputs": [],
   "source": []
  },
  {
   "cell_type": "code",
   "execution_count": 488,
   "id": "fb9f5fa1-9332-4cc2-b34f-1ad90c2ce624",
   "metadata": {},
   "outputs": [
    {
     "data": {
      "text/latex": [
       "$\\lambda{} f_{\\left\\langle{}e,\\left\\langle{}X,?_{370}\\right\\rangle{}\\right\\rangle{}} \\: . \\: \\lambda{} x_{\\left\\langle{}e,X\\right\\rangle{}} \\: . \\: {bind}_{\\left\\langle{}\\left\\langle{}e,\\left\\langle{}X,?_{370}\\right\\rangle{}\\right\\rangle{},\\left\\langle{}\\left\\langle{}\\left\\langle{}X,?_{370}\\right\\rangle{},\\left\\langle{}e,?_{370}\\right\\rangle{}\\right\\rangle{},\\left\\langle{}e,?_{370}\\right\\rangle{}\\right\\rangle{}\\right\\rangle{}}({f})(\\lambda{} a_{\\left\\langle{}X,?_{370}\\right\\rangle{}} \\: . \\: {bind}_{\\left\\langle{}\\left\\langle{}e,X\\right\\rangle{},\\left\\langle{}\\left\\langle{}X,\\left\\langle{}e,?_{370}\\right\\rangle{}\\right\\rangle{},\\left\\langle{}e,?_{370}\\right\\rangle{}\\right\\rangle{}\\right\\rangle{}}({x})(\\lambda{} b_{X} \\: . \\: {unit}_{\\left\\langle{}?_{370},\\left\\langle{}e,?_{370}\\right\\rangle{}\\right\\rangle{}}({a}({b}))))$"
      ],
      "text/plain": [
       "(λ f_<e,<X,?370>>: (λ x_<e,X>: bind_<<e,<X,?370>>,<<<X,?370>,<e,?370>>,<e,?370>>>(f_<e,<X,?370>>)(λ a_<X,?370>: bind_<<e,X>,<<X,<e,?370>>,<e,?370>>>(x_<e,X>)(λ b_X: unit_<?370,<e,?370>>(a_<X,?370>(b_X))))))"
      ]
     },
     "execution_count": 488,
     "metadata": {},
     "output_type": "execute_result"
    }
   ],
   "source": [
    "x = te(\"L f_<e,<X,Y>> : L x_<e,X> : bind(f)(L a_<X,Y> : bind(x_<e,X>)(L b_X : unit(a(b))))\",\n",
    "   assignment=lang.get_system().lexicon, let=False)\n",
    "x"
   ]
  },
  {
   "cell_type": "code",
   "execution_count": 489,
   "id": "c2373c5c-6571-4313-87d6-45776f9a9867",
   "metadata": {},
   "outputs": [
    {
     "data": {
      "text/latex": [
       "$\\lambda{} f_{\\left\\langle{}e,\\left\\langle{}X,X'\\right\\rangle{}\\right\\rangle{}} \\: . \\: \\lambda{} x_{\\left\\langle{}e,X\\right\\rangle{}} \\: . \\: {bind}_{\\left\\langle{}\\left\\langle{}e,\\left\\langle{}X,X'\\right\\rangle{}\\right\\rangle{},\\left\\langle{}\\left\\langle{}\\left\\langle{}X,X'\\right\\rangle{},\\left\\langle{}e,X'\\right\\rangle{}\\right\\rangle{},\\left\\langle{}e,X'\\right\\rangle{}\\right\\rangle{}\\right\\rangle{}}({f})(\\lambda{} a_{\\left\\langle{}X,X'\\right\\rangle{}} \\: . \\: {bind}_{\\left\\langle{}\\left\\langle{}e,X\\right\\rangle{},\\left\\langle{}\\left\\langle{}X,\\left\\langle{}e,X'\\right\\rangle{}\\right\\rangle{},\\left\\langle{}e,X'\\right\\rangle{}\\right\\rangle{}\\right\\rangle{}}({x})(\\lambda{} b_{X} \\: . \\: {unit}_{\\left\\langle{}X',\\left\\langle{}e,X'\\right\\rangle{}\\right\\rangle{}}({a}({b}))))$"
      ],
      "text/plain": [
       "(λ f_<e,<X,X1>>: (λ x_<e,X>: bind_<<e,<X,X1>>,<<<X,X1>,<e,X1>>,<e,X1>>>(f_<e,<X,X1>>)(λ a_<X,X1>: bind_<<e,X>,<<X,<e,X1>>,<e,X1>>>(x_<e,X>)(λ b_X: unit_<X1,<e,X1>>(a_<X,X1>(b_X))))))"
      ]
     },
     "execution_count": 489,
     "metadata": {},
     "output_type": "execute_result"
    }
   ],
   "source": [
    "x.compact_type_vars()"
   ]
  },
  {
   "cell_type": "code",
   "execution_count": 490,
   "id": "c27d292b-903a-4caa-a867-1b077f4393f7",
   "metadata": {},
   "outputs": [
    {
     "data": {
      "text/latex": [
       "$\\lambda{} f_{\\left\\langle{}e,\\left\\langle{}X,X'\\right\\rangle{}\\right\\rangle{}} \\: . \\: \\lambda{} x_{\\left\\langle{}e,X\\right\\rangle{}} \\: . \\: {bind}_{\\left\\langle{}\\left\\langle{}e,\\left\\langle{}X,X'\\right\\rangle{}\\right\\rangle{},\\left\\langle{}\\left\\langle{}\\left\\langle{}X,X'\\right\\rangle{},\\left\\langle{}e,X'\\right\\rangle{}\\right\\rangle{},\\left\\langle{}e,X'\\right\\rangle{}\\right\\rangle{}\\right\\rangle{}}({f})(\\lambda{} a_{\\left\\langle{}X,X'\\right\\rangle{}} \\: . \\: {bind}_{\\left\\langle{}\\left\\langle{}e,X\\right\\rangle{},\\left\\langle{}\\left\\langle{}X,\\left\\langle{}e,X'\\right\\rangle{}\\right\\rangle{},\\left\\langle{}e,X'\\right\\rangle{}\\right\\rangle{}\\right\\rangle{}}({x})(\\lambda{} b_{X} \\: . \\: {unit}_{\\left\\langle{}X',\\left\\langle{}e,X'\\right\\rangle{}\\right\\rangle{}}({a}({b}))))$"
      ],
      "text/plain": [
       "(λ f_<e,<X,X1>>: (λ x_<e,X>: bind_<<e,<X,X1>>,<<<X,X1>,<e,X1>>,<e,X1>>>(f_<e,<X,X1>>)(λ a_<X,X1>: bind_<<e,X>,<<X,<e,X1>>,<e,X1>>>(x_<e,X>)(λ b_X: unit_<X1,<e,X1>>(a_<X,X1>(b_X))))))"
      ]
     },
     "execution_count": 490,
     "metadata": {},
     "output_type": "execute_result"
    }
   ],
   "source": [
    "x = te(\"L f_<e,<X,Y>> : L x_<e,X> : bind(f)(L a_<X,Y> : bind(x_<e,X>)(L b_X : unit(a(b))))\",\n",
    "   assignment=lang.get_system().lexicon)\n",
    "x"
   ]
  },
  {
   "cell_type": "code",
   "execution_count": 491,
   "id": "e20b80f0-53e1-4d73-89bf-20efe907cb75",
   "metadata": {},
   "outputs": [
    {
     "data": {
      "text/markdown": [
       "${apply}_{\\left\\langle{}\\left\\langle{}e,\\left\\langle{}X',X\\right\\rangle{}\\right\\rangle{},\\left\\langle{}\\left\\langle{}e,X'\\right\\rangle{},\\left\\langle{}e,X\\right\\rangle{}\\right\\rangle{}\\right\\rangle{}}\\:=\\:\\lambda{} f_{\\left\\langle{}e,\\left\\langle{}X',X\\right\\rangle{}\\right\\rangle{}} \\: . \\: \\lambda{} x_{\\left\\langle{}e,X'\\right\\rangle{}} \\: . \\: \\lambda{} w_{e} \\: . \\: {f}({w})({x}({w}))$"
      ],
      "text/plain": [
       "apply_<<e,<X1,X>>,<<e,X1>,<e,X>>> = (λ f_<e,<X1,X>>: (λ x_<e,X1>: (λ w_e: f_<e,<X1,X>>(w_e)(x_<e,X1>(w_e)))))"
      ]
     },
     "metadata": {},
     "output_type": "display_data"
    }
   ],
   "source": [
    "%lamb apply = L f_<e,<X,Y>> : L x_<e,X> : bind(f)(L a_<X,Y> : bind(x_<e,X>)(L b_X : unit(a(b))))"
   ]
  },
  {
   "cell_type": "code",
   "execution_count": 492,
   "id": "0e9b8f53-39df-415f-9598-a81c1ab18c58",
   "metadata": {},
   "outputs": [],
   "source": [
    "b1 = bind[1][1][1][0][1][0]\n",
    "b2 = bind.try_adjust_type(tp('<<e,Z>,<<Z,<e,Y>>,<e,Y>>>'))[1][1][1][0][1][0]"
   ]
  },
  {
   "cell_type": "code",
   "execution_count": null,
   "id": "0c09c073-23d2-47b0-bc64-df5465fece0c",
   "metadata": {},
   "outputs": [],
   "source": []
  },
  {
   "cell_type": "code",
   "execution_count": null,
   "id": "c48f4014-e1a2-40fe-b981-32212153f9ba",
   "metadata": {},
   "outputs": [],
   "source": []
  },
  {
   "cell_type": "code",
   "execution_count": 493,
   "id": "40abc854-8154-4557-93ee-66deade4785f",
   "metadata": {},
   "outputs": [
    {
     "data": {
      "text/html": [
       "<table><tr><td>Term mappings:&nbsp;&nbsp; </td><td>$\\{x: Z\\}$</td></tr><tr><td>Type mappings:&nbsp;&nbsp; </td><td>$\\{X: Z\\}$</td></tr><tr><td>Type variables:&nbsp;&nbsp; </td><td>$\\{X, Z\\}$</td></tr></table>"
      ],
      "text/plain": [
       "[TypeEnv: Terms: {'x': Z}, Type mapping: {X: Z}, Type variables: {X, Z}]"
      ]
     },
     "execution_count": 493,
     "metadata": {},
     "output_type": "execute_result"
    }
   ],
   "source": [
    "te(\"L x_X: x\").try_adjust_type(tp('<Z,Z>'))[1].get_type_env()"
   ]
  },
  {
   "cell_type": "code",
   "execution_count": 494,
   "id": "627e2b92-3f03-4fbe-b3e0-01c5af2a4efe",
   "metadata": {},
   "outputs": [
    {
     "data": {
      "text/markdown": [
       "${apply}_{\\left\\langle{}\\left\\langle{}e,\\left\\langle{}X',X\\right\\rangle{}\\right\\rangle{},\\left\\langle{}\\left\\langle{}e,X'\\right\\rangle{},\\left\\langle{}e,X\\right\\rangle{}\\right\\rangle{}\\right\\rangle{}}\\:=\\:\\lambda{} f_{\\left\\langle{}e,\\left\\langle{}X',X\\right\\rangle{}\\right\\rangle{}} \\: . \\: \\lambda{} x_{\\left\\langle{}e,X'\\right\\rangle{}} \\: . \\: \\lambda{} w_{e} \\: . \\: {f}({w})({x}({w}))$"
      ],
      "text/plain": [
       "apply_<<e,<X1,X>>,<<e,X1>,<e,X>>> = (λ f_<e,<X1,X>>: (λ x_<e,X1>: (λ w_e: f_<e,<X1,X>>(w_e)(x_<e,X1>(w_e)))))"
      ]
     },
     "metadata": {},
     "output_type": "display_data"
    }
   ],
   "source": [
    "%lamb apply = L f_<e,<X,Y>> : L x_<e,X> : bind(f)(L a_<X,Y> : bind(x_<e,X>)(L b_X : unit(a(b))))"
   ]
  },
  {
   "cell_type": "code",
   "execution_count": 495,
   "id": "6016119d-50ed-4e78-af35-6fa665f263af",
   "metadata": {},
   "outputs": [
    {
     "data": {
      "text/latex": [
       "$\\lambda{} f_{\\left\\langle{}e,\\left\\langle{}X',X\\right\\rangle{}\\right\\rangle{}} \\: . \\: \\lambda{} x_{\\left\\langle{}e,X'\\right\\rangle{}} \\: . \\: \\lambda{} w_{e} \\: . \\: {f}({w})({x}({w}))$"
      ],
      "text/plain": [
       "(λ f_<e,<X1,X>>: (λ x_<e,X1>: (λ w_e: f_<e,<X1,X>>(w_e)(x_<e,X1>(w_e)))))"
      ]
     },
     "execution_count": 495,
     "metadata": {},
     "output_type": "execute_result"
    }
   ],
   "source": [
    "lamb.parsing.parse_right('apply', \"L f_<e,<X,Y>> : L x_<e,X> : bind(f)(L a_<X,Y> : bind(x_<e,X>)(L b_X : unit(a(b))))\",\n",
    "                         env=lang.get_system().lexicon)"
   ]
  },
  {
   "cell_type": "code",
   "execution_count": 496,
   "id": "b4d9d073-6f64-4ecf-8392-13f48efb1830",
   "metadata": {},
   "outputs": [
    {
     "data": {
      "text/latex": [
       "$\\lambda{} f_{\\left\\langle{}e,\\left\\langle{}X,X'\\right\\rangle{}\\right\\rangle{}} \\: . \\: \\lambda{} x_{\\left\\langle{}e,X\\right\\rangle{}} \\: . \\: {bind}_{\\left\\langle{}\\left\\langle{}e,\\left\\langle{}X,X'\\right\\rangle{}\\right\\rangle{},\\left\\langle{}\\left\\langle{}\\left\\langle{}X,X'\\right\\rangle{},\\left\\langle{}e,X'\\right\\rangle{}\\right\\rangle{},\\left\\langle{}e,X'\\right\\rangle{}\\right\\rangle{}\\right\\rangle{}}({f})(\\lambda{} a_{\\left\\langle{}X,X'\\right\\rangle{}} \\: . \\: {bind}_{\\left\\langle{}\\left\\langle{}e,X\\right\\rangle{},\\left\\langle{}\\left\\langle{}X,\\left\\langle{}e,X'\\right\\rangle{}\\right\\rangle{},\\left\\langle{}e,X'\\right\\rangle{}\\right\\rangle{}\\right\\rangle{}}({x})(\\lambda{} b_{X} \\: . \\: {unit}_{\\left\\langle{}X',\\left\\langle{}e,X'\\right\\rangle{}\\right\\rangle{}}({a}({b}))))$"
      ],
      "text/plain": [
       "(λ f_<e,<X,X1>>: (λ x_<e,X>: bind_<<e,<X,X1>>,<<<X,X1>,<e,X1>>,<e,X1>>>(f_<e,<X,X1>>)(λ a_<X,X1>: bind_<<e,X>,<<X,<e,X1>>,<e,X1>>>(x_<e,X>)(λ b_X: unit_<X1,<e,X1>>(a_<X,X1>(b_X))))))"
      ]
     },
     "execution_count": 496,
     "metadata": {},
     "output_type": "execute_result"
    }
   ],
   "source": [
    "x = te(\"L f_<e,<X,Y>> : L x_<e,X> : bind(f)(L a_<X,Y> : bind(x_<e,X>)(L b_X : unit(a(b))))\",\n",
    "   assignment=lang.get_system().lexicon)\n",
    "x"
   ]
  },
  {
   "cell_type": "code",
   "execution_count": 497,
   "id": "bf550a0d-484c-4919-b31c-55c2cf7bf9ea",
   "metadata": {},
   "outputs": [
    {
     "data": {
      "text/latex": [
       "$\\lambda{} f_{\\left\\langle{}e,\\left\\langle{}?_{906},?_{902}\\right\\rangle{}\\right\\rangle{}} \\: . \\: \\lambda{} x_{\\left\\langle{}e,?_{906}\\right\\rangle{}} \\: . \\: {[\\lambda{} m_{\\left\\langle{}e,\\left\\langle{}?_{906},?_{902}\\right\\rangle{}\\right\\rangle{}} \\: . \\: \\lambda{} k_{\\left\\langle{}\\left\\langle{}?_{906},?_{902}\\right\\rangle{},\\left\\langle{}e,?_{902}\\right\\rangle{}\\right\\rangle{}} \\: . \\: \\lambda{} w_{e} \\: . \\: {k}({m}({w}))({w})]}({f})(\\lambda{} a_{\\left\\langle{}?_{906},?_{902}\\right\\rangle{}} \\: . \\: {[\\lambda{} m_{\\left\\langle{}e,?_{906}\\right\\rangle{}} \\: . \\: \\lambda{} k_{\\left\\langle{}?_{906},\\left\\langle{}e,?_{902}\\right\\rangle{}\\right\\rangle{}} \\: . \\: \\lambda{} w_{e} \\: . \\: {k}({m}({w}))({w})]}({x})(\\lambda{} b_{?_{906}} \\: . \\: {[\\lambda{} a_{?_{902}} \\: . \\: \\lambda{} w_{e} \\: . \\: {a}]}({a}({b}))))$"
      ],
      "text/plain": [
       "(λ f_<e,<?906,?902>>: (λ x_<e,?906>: (λ m_<e,<?906,?902>>: (λ k_<<?906,?902>,<e,?902>>: (λ w_e: k_<<?906,?902>,<e,?902>>(m_<e,<?906,?902>>(w_e))(w_e))))(f_<e,<?906,?902>>)(λ a_<?906,?902>: (λ m_<e,?906>: (λ k_<?906,<e,?902>>: (λ w_e: k_<?906,<e,?902>>(m_<e,?906>(w_e))(w_e))))(x_<e,?906>)(λ b_?906: (λ a_?902: (λ w_e: a_?902))(a_<?906,?902>(b_?906))))))"
      ]
     },
     "execution_count": 497,
     "metadata": {},
     "output_type": "execute_result"
    }
   ],
   "source": [
    "x.regularize_type_env().under_assignment(lang.get_system().lexicon)"
   ]
  },
  {
   "cell_type": "code",
   "execution_count": null,
   "id": "5df64f57-11e0-4831-8daa-5da2e805d8f7",
   "metadata": {},
   "outputs": [],
   "source": []
  },
  {
   "cell_type": "code",
   "execution_count": null,
   "id": "93353d80-c4ae-4542-b696-25825cd21bc2",
   "metadata": {},
   "outputs": [],
   "source": []
  },
  {
   "cell_type": "code",
   "execution_count": 498,
   "id": "9f50366c-9747-4fb3-9e80-fcc3f903d290",
   "metadata": {},
   "outputs": [
    {
     "data": {
      "text/latex": [
       "$\\lambda{} f_{\\left\\langle{}e,\\left\\langle{}X',X\\right\\rangle{}\\right\\rangle{}} \\: . \\: \\lambda{} x_{\\left\\langle{}e,X'\\right\\rangle{}} \\: . \\: {[\\lambda{} m_{\\left\\langle{}e,\\left\\langle{}X',X\\right\\rangle{}\\right\\rangle{}} \\: . \\: \\lambda{} k_{\\left\\langle{}\\left\\langle{}X',X\\right\\rangle{},\\left\\langle{}e,X\\right\\rangle{}\\right\\rangle{}} \\: . \\: \\lambda{} w_{e} \\: . \\: {k}({m}({w}))({w})]}({f})(\\lambda{} a_{\\left\\langle{}X',X\\right\\rangle{}} \\: . \\: {[\\lambda{} m_{\\left\\langle{}e,X'\\right\\rangle{}} \\: . \\: \\lambda{} k_{\\left\\langle{}X',\\left\\langle{}e,X\\right\\rangle{}\\right\\rangle{}} \\: . \\: \\lambda{} w_{e} \\: . \\: {k}({m}({w}))({w})]}({x})(\\lambda{} b_{X'} \\: . \\: {[\\lambda{} a_{X} \\: . \\: \\lambda{} w_{e} \\: . \\: {a}]}({a}({b}))))$"
      ],
      "text/plain": [
       "(λ f_<e,<X1,X>>: (λ x_<e,X1>: (λ m_<e,<X1,X>>: (λ k_<<X1,X>,<e,X>>: (λ w_e: k_<<X1,X>,<e,X>>(m_<e,<X1,X>>(w_e))(w_e))))(f_<e,<X1,X>>)(λ a_<X1,X>: (λ m_<e,X1>: (λ k_<X1,<e,X>>: (λ w_e: k_<X1,<e,X>>(m_<e,X1>(w_e))(w_e))))(x_<e,X1>)(λ b_X1: (λ a_X: (λ w_e: a_X))(a_<X1,X>(b_X1))))))"
      ]
     },
     "execution_count": 498,
     "metadata": {},
     "output_type": "execute_result"
    }
   ],
   "source": [
    "x.under_assignment(lang.get_system().lexicon).compact_type_vars()"
   ]
  },
  {
   "cell_type": "code",
   "execution_count": 499,
   "id": "4dcbc743-d315-4d9a-b71f-86692fe8ebbd",
   "metadata": {},
   "outputs": [
    {
     "data": {
      "text/latex": [
       "$\\lambda{} f_{\\left\\langle{}e,\\left\\langle{}X',X\\right\\rangle{}\\right\\rangle{}} \\: . \\: \\lambda{} x_{\\left\\langle{}e,X'\\right\\rangle{}} \\: . \\: \\lambda{} w_{e} \\: . \\: {f}({w})({x}({w}))$"
      ],
      "text/plain": [
       "(λ f_<e,<X1,X>>: (λ x_<e,X1>: (λ w_e: f_<e,<X1,X>>(w_e)(x_<e,X1>(w_e)))))"
      ]
     },
     "execution_count": 499,
     "metadata": {},
     "output_type": "execute_result"
    }
   ],
   "source": [
    "x.under_assignment(lang.get_system().lexicon).compact_type_vars().reduce_all()"
   ]
  },
  {
   "cell_type": "code",
   "execution_count": 500,
   "id": "e9207d88-9da0-459b-8637-04d7439637a0",
   "metadata": {},
   "outputs": [
    {
     "data": {
      "text/latex": [
       "$\\lambda{} f_{\\left\\langle{}e,\\left\\langle{}X',X\\right\\rangle{}\\right\\rangle{}} \\: . \\: \\lambda{} x_{\\left\\langle{}e,X'\\right\\rangle{}} \\: . \\: \\lambda{} w_{e} \\: . \\: {f}({w})({x}({w}))$"
      ],
      "text/plain": [
       "(λ f_<e,<X1,X>>: (λ x_<e,X1>: (λ w_e: f_<e,<X1,X>>(w_e)(x_<e,X1>(w_e)))))"
      ]
     },
     "execution_count": 500,
     "metadata": {},
     "output_type": "execute_result"
    }
   ],
   "source": [
    "x.regularize_type_env().under_assignment(lang.get_system().lexicon, compact=True).reduce_all()"
   ]
  },
  {
   "cell_type": "code",
   "execution_count": null,
   "id": "11ddd51a-c924-4858-833a-02280e8b7c00",
   "metadata": {},
   "outputs": [],
   "source": []
  },
  {
   "cell_type": "code",
   "execution_count": 501,
   "id": "c009ce3b-92a0-48bc-b7fb-1af6abac3988",
   "metadata": {},
   "outputs": [],
   "source": [
    "reload_lamb()"
   ]
  },
  {
   "cell_type": "code",
   "execution_count": 502,
   "id": "39ae63ef-fc72-48d4-bf36-cce22623023d",
   "metadata": {},
   "outputs": [
    {
     "data": {
      "text/latex": [
       "$({x}_{e}, {y}_{n})$"
      ],
      "text/plain": [
       "(x_e, y_n)"
      ]
     },
     "execution_count": 502,
     "metadata": {},
     "output_type": "execute_result"
    }
   ],
   "source": [
    "t = %te (x_e, y_n)\n",
    "t"
   ]
  },
  {
   "cell_type": "code",
   "execution_count": 503,
   "id": "dba81a23-726b-4a95-afd0-399b36838cd9",
   "metadata": {},
   "outputs": [
    {
     "data": {
      "text/latex": [
       "$({x}_{e}, {y}_{n})[\\textsf{1}]$"
      ],
      "text/plain": [
       "((x_e, y_n)[1])"
      ]
     },
     "execution_count": 503,
     "metadata": {},
     "output_type": "execute_result"
    }
   ],
   "source": [
    "meta.core.TupleIndex(t, te(1))"
   ]
  },
  {
   "cell_type": "code",
   "execution_count": 504,
   "id": "4cabbcac-f533-4ab8-ba56-d47720b9481f",
   "metadata": {},
   "outputs": [
    {
     "data": {
      "text/latex": [
       "${x}_{\\left(e, X\\right)}[\\textsf{1}]$"
      ],
      "text/plain": [
       "(x_(e,X)[1])"
      ]
     },
     "execution_count": 504,
     "metadata": {},
     "output_type": "execute_result"
    }
   ],
   "source": [
    "meta.core.TupleIndex(te(\"x_(e,X)\"), 1)"
   ]
  },
  {
   "cell_type": "code",
   "execution_count": 505,
   "id": "94622d3c-50ed-4c3f-b638-efd581671c10",
   "metadata": {},
   "outputs": [
    {
     "data": {
      "text/latex": [
       "${\\left[e\\mid{}n\\right]}$"
      ],
      "text/plain": [
       "[e|n]"
      ]
     },
     "execution_count": 505,
     "metadata": {},
     "output_type": "execute_result"
    }
   ],
   "source": [
    "meta.core.TupleIndex(te(\"x_(e,n)\"), te(\"x_n\")).type"
   ]
  },
  {
   "cell_type": "code",
   "execution_count": 506,
   "id": "46c8af3e-3b4e-4140-9432-4633742d9f78",
   "metadata": {},
   "outputs": [
    {
     "data": {
      "text/latex": [
       "$\\lambda{} x_{n} \\: . \\: {t}_{\\left(e, X\\right)}[{x}]$"
      ],
      "text/plain": [
       "(λ x_n: (t_(e,X)[x_n]))"
      ]
     },
     "execution_count": 506,
     "metadata": {},
     "output_type": "execute_result"
    }
   ],
   "source": [
    "lamb.parsing.errors_raise = True\n",
    "x = %te L x_n : t_(e,X)[x]\n",
    "x"
   ]
  },
  {
   "cell_type": "code",
   "execution_count": 507,
   "id": "66dd50cb-dd20-4dcf-bdc6-c482528d1923",
   "metadata": {},
   "outputs": [
    {
     "data": {
      "text/latex": [
       "$\\left\\langle{}n,\\forall{}X\\right\\rangle{}$"
      ],
      "text/plain": [
       "<n,∀X>"
      ]
     },
     "execution_count": 507,
     "metadata": {},
     "output_type": "execute_result"
    }
   ],
   "source": [
    "x.type"
   ]
  },
  {
   "cell_type": "code",
   "execution_count": 508,
   "id": "ec73d960-74d6-45d2-ba38-4b85eb989747",
   "metadata": {},
   "outputs": [
    {
     "data": {
      "text/latex": [
       "${[\\lambda{} x_{n} \\: . \\: {t}_{\\left(e, X\\right)}[{x}]]}(\\textsf{1})$"
      ],
      "text/plain": [
       "(λ x_n: (t_(e,X)[x_n]))(1)"
      ]
     },
     "execution_count": 508,
     "metadata": {},
     "output_type": "execute_result"
    }
   ],
   "source": [
    "x(1)"
   ]
  },
  {
   "cell_type": "code",
   "execution_count": 509,
   "id": "2e34b1a3-759b-4223-b891-83a43079d1e2",
   "metadata": {},
   "outputs": [],
   "source": [
    "reload_lamb()"
   ]
  },
  {
   "cell_type": "code",
   "execution_count": 510,
   "id": "3d60c9c6-5b7f-4244-be2a-48602c8667ea",
   "metadata": {},
   "outputs": [
    {
     "name": "stderr",
     "output_type": "stream",
     "text": [
      "WARNING (core): parse_flattened returning non-TypedExpr\n"
     ]
    },
    {
     "data": {
      "text/latex": [
       "$\\left\\langle{}n,\\forall{}X\\right\\rangle{}$"
      ],
      "text/plain": [
       "<n,∀X>"
      ]
     },
     "execution_count": 510,
     "metadata": {},
     "output_type": "execute_result"
    }
   ],
   "source": [
    "%te (L x_n : t_(e,X)[x]).type"
   ]
  },
  {
   "cell_type": "code",
   "execution_count": 511,
   "id": "2355b7ee-32b2-41db-a60a-6051614b250e",
   "metadata": {},
   "outputs": [
    {
     "name": "stderr",
     "output_type": "stream",
     "text": [
      "WARNING (core): parse_flattened returning non-TypedExpr\n"
     ]
    },
    {
     "data": {
      "text/latex": [
       "$\\left(e, X\\right)$"
      ],
      "text/plain": [
       "(e,X)"
      ]
     },
     "execution_count": 511,
     "metadata": {},
     "output_type": "execute_result"
    }
   ],
   "source": [
    "%te t_(e,X).type"
   ]
  },
  {
   "cell_type": "code",
   "execution_count": 512,
   "id": "d82ebcc9-aa25-4d2f-9ea3-7d34e43788e8",
   "metadata": {},
   "outputs": [
    {
     "data": {
      "text/plain": [
       "'<n,∀X>'"
      ]
     },
     "execution_count": 512,
     "metadata": {},
     "output_type": "execute_result"
    }
   ],
   "source": [
    "x = te(\"L x_n : t_(e,X)[x]\") #.try_adjust_type(tp(\"<n,n>\"))\n",
    "repr(x.type)"
   ]
  },
  {
   "cell_type": "code",
   "execution_count": null,
   "id": "3d14c598-9b62-4507-a926-9dbe10ea4d5c",
   "metadata": {},
   "outputs": [],
   "source": []
  },
  {
   "cell_type": "code",
   "execution_count": 513,
   "id": "64ff13bc-463f-409d-8ba6-f1bc3af1d486",
   "metadata": {},
   "outputs": [
    {
     "data": {
      "text/latex": [
       "${t}_{\\left(e, X\\right)}[\\textsf{0}]$"
      ],
      "text/plain": [
       "(t_(e,X)[0])"
      ]
     },
     "execution_count": 513,
     "metadata": {},
     "output_type": "execute_result"
    }
   ],
   "source": [
    "x(0).reduce_all()"
   ]
  },
  {
   "cell_type": "code",
   "execution_count": 514,
   "id": "fa56267b-fe04-4a65-b527-0cd3c8f009e3",
   "metadata": {},
   "outputs": [
    {
     "data": {
      "text/latex": [
       "$\\lambda{} x_{n} \\: . \\: {t}_{\\left(e, n, n\\right)}[{x}]_{n}$"
      ],
      "text/plain": [
       "(λ x_n: (t_(e,n,n)[x_n]))"
      ]
     },
     "execution_count": 514,
     "metadata": {},
     "output_type": "execute_result"
    }
   ],
   "source": [
    "te(\"L x_n : t_(e,X,Y)[x]\").try_adjust_type(tp(\"<n,n>\"))"
   ]
  },
  {
   "cell_type": "code",
   "execution_count": 515,
   "id": "c7abe35f-2707-4166-b0d1-cce3732fb897",
   "metadata": {},
   "outputs": [],
   "source": [
    "te('L x_n : (a_e, b_n)[x]').try_adjust_type(tp('<n,t>'))"
   ]
  },
  {
   "cell_type": "code",
   "execution_count": 516,
   "id": "fdedb4d9-9254-4631-89a6-f57a870e85fb",
   "metadata": {},
   "outputs": [
    {
     "data": {
      "text/plain": [
       "'(n,e,e,<Y,Z>)'"
      ]
     },
     "execution_count": 516,
     "metadata": {},
     "output_type": "execute_result"
    }
   ],
   "source": [
    "repr(te('(a_n, b_e, c_X, d_<Y,Z>)').try_adjust_type(tp('(n,e,e,X1)')).type)"
   ]
  },
  {
   "cell_type": "code",
   "execution_count": 517,
   "id": "575ce648-b28e-4c68-9d68-60a9243c9628",
   "metadata": {},
   "outputs": [],
   "source": [
    "reload_lamb()"
   ]
  },
  {
   "cell_type": "code",
   "execution_count": 518,
   "id": "36cc532d-6957-4078-9789-35409150b987",
   "metadata": {},
   "outputs": [
    {
     "data": {
      "text/latex": [
       "${a}_{n}$"
      ],
      "text/plain": [
       "a_n"
      ]
     },
     "execution_count": 518,
     "metadata": {},
     "output_type": "execute_result"
    }
   ],
   "source": [
    "te('(a_n, b_e, c_X, d_<Y,Z>)[0]').simplify_all()"
   ]
  },
  {
   "cell_type": "code",
   "execution_count": 519,
   "id": "1c315cc2-9217-4cd0-a980-94c6b05468f6",
   "metadata": {},
   "outputs": [
    {
     "data": {
      "text/latex": [
       "$\\lambda{} x_{n} \\: . \\: (\\textsf{c1}_{e}, \\textsf{23})[{x}]_{e}$"
      ],
      "text/plain": [
       "(λ x_n: ((_c1, 23)[x_n]))"
      ]
     },
     "execution_count": 519,
     "metadata": {},
     "output_type": "execute_result"
    }
   ],
   "source": [
    "te('L x_n : (_c1, 23)[x]').try_adjust_type(tp('<n,e>'))\n"
   ]
  },
  {
   "cell_type": "code",
   "execution_count": 520,
   "id": "9eff81e3-a604-4b60-9020-9d9a2a0f1aa2",
   "metadata": {},
   "outputs": [
    {
     "data": {
      "text/latex": [
       "${[\\lambda{} x_{n} \\: . \\: (\\textsf{c1}_{e}, \\textsf{23})[{x}]_{{\\left[e\\mid{}n\\right]}}]}(\\textsf{2})$"
      ],
      "text/plain": [
       "(λ x_n: ((_c1, 23)[x_n]))(2)"
      ]
     },
     "execution_count": 520,
     "metadata": {},
     "output_type": "execute_result"
    }
   ],
   "source": [
    "te('L x_n : (_c1, 23)[x]')(2)"
   ]
  },
  {
   "cell_type": "code",
   "execution_count": 521,
   "id": "f6f89389-4304-4cc7-92e6-6fab33c05f9c",
   "metadata": {},
   "outputs": [
    {
     "data": {
      "text/latex": [
       "$\\textsf{(c1,23)}_{\\left(e, n\\right)}$"
      ],
      "text/plain": [
       "(_c1,23)"
      ]
     },
     "execution_count": 521,
     "metadata": {},
     "output_type": "execute_result"
    }
   ],
   "source": [
    "x = meta.MetaTerm(('_c1', 23))\n",
    "x"
   ]
  },
  {
   "cell_type": "code",
   "execution_count": 522,
   "id": "a86d7924-ebe4-4c0e-8edd-e4394cfcb57a",
   "metadata": {},
   "outputs": [
    {
     "data": {
      "text/latex": [
       "$\\textsf{c1}_{e}$"
      ],
      "text/plain": [
       "_c1"
      ]
     },
     "execution_count": 522,
     "metadata": {},
     "output_type": "execute_result"
    }
   ],
   "source": [
    "x.tuple()[0]"
   ]
  },
  {
   "cell_type": "code",
   "execution_count": 523,
   "id": "3570d003-2e2a-4d64-a608-a5b0cc93a5da",
   "metadata": {},
   "outputs": [
    {
     "data": {
      "text/latex": [
       "$\\textsf{23}$"
      ],
      "text/plain": [
       "23"
      ]
     },
     "execution_count": 523,
     "metadata": {},
     "output_type": "execute_result"
    }
   ],
   "source": [
    "meta.core.TupleIndex(x, 1).simplify_all()"
   ]
  },
  {
   "cell_type": "code",
   "execution_count": 524,
   "id": "dd8bcb97-b8c2-4d2d-b6fb-a1399950d33e",
   "metadata": {},
   "outputs": [
    {
     "data": {
      "text/latex": [
       "$\\lambda{} x_{n} \\: . \\: \\textsf{(c1,23)}_{\\left(e, n\\right)}[{x}]_{{\\left[e\\mid{}n\\right]}}$"
      ],
      "text/plain": [
       "(λ x_n: ((_c1,23)[x_n]))"
      ]
     },
     "execution_count": 524,
     "metadata": {},
     "output_type": "execute_result"
    }
   ],
   "source": [
    "meta.core.LFun(te('x_n'), meta.core.TupleIndex(meta.MetaTerm(('_c1', 23)), te('x_n')))"
   ]
  },
  {
   "cell_type": "code",
   "execution_count": 525,
   "id": "fa82bef0-f870-4f74-9932-6f2f8ce82485",
   "metadata": {},
   "outputs": [
    {
     "data": {
      "text/latex": [
       "${f}_{\\left\\langle{}\\left(n, e, X, \\left\\langle{}Y,Z\\right\\rangle{}\\right),t\\right\\rangle{}}({a}_{n}, {b}_{e}, {c}_{X}, {d}_{\\left\\langle{}Y,Z\\right\\rangle{}})$"
      ],
      "text/plain": [
       "f_<(n,e,X,<Y,Z>),t>(a_n, b_e, c_X, d_<Y,Z>)"
      ]
     },
     "execution_count": 525,
     "metadata": {},
     "output_type": "execute_result"
    }
   ],
   "source": [
    "te('f_<∀X,t>(a_n, b_e, c_X, d_<Y,Z>)')#[0] #.type"
   ]
  },
  {
   "cell_type": "code",
   "execution_count": 534,
   "id": "7c8410a4-bd03-499b-a8a7-92f33d95600f",
   "metadata": {},
   "outputs": [],
   "source": [
    "reload_lamb()"
   ]
  },
  {
   "cell_type": "code",
   "execution_count": 535,
   "id": "0acf2813-be5f-4d8c-b88b-5543a8e49481",
   "metadata": {},
   "outputs": [
    {
     "data": {
      "text/markdown": [
       "<span style=\"color:red\">**TypeMismatch**</span>: `p_e` and type $t$ conflict (Failed to reconcile type constraint for `Partial`: `p_e` <=> type `t`)"
      ],
      "text/plain": [
       "TypeMismatch: `p_e` and type `t` conflict (Failed to reconcile type constraint for `Partial`: `p_e` <=> type `t`)"
      ]
     },
     "metadata": {},
     "output_type": "display_data"
    }
   ],
   "source": [
    "x = %te Partial((L x_X : x), p_e)\n",
    "x"
   ]
  },
  {
   "cell_type": "code",
   "execution_count": 536,
   "id": "4464feb4-9363-4818-bd1c-a14b901b73df",
   "metadata": {},
   "outputs": [
    {
     "ename": "AttributeError",
     "evalue": "'NoneType' object has no attribute 'try_adjust_type'",
     "output_type": "error",
     "traceback": [
      "\u001b[0;31m---------------------------------------------------------------------------\u001b[0m",
      "\u001b[0;31mAttributeError\u001b[0m                            Traceback (most recent call last)",
      "Cell \u001b[0;32mIn[536], line 1\u001b[0m\n\u001b[0;32m----> 1\u001b[0m \u001b[43mx\u001b[49m\u001b[38;5;241;43m.\u001b[39;49m\u001b[43mtry_adjust_type\u001b[49m(tp(\u001b[38;5;124m\"\u001b[39m\u001b[38;5;124m<<e,t>,<e,t>>\u001b[39m\u001b[38;5;124m\"\u001b[39m))\n",
      "\u001b[0;31mAttributeError\u001b[0m: 'NoneType' object has no attribute 'try_adjust_type'"
     ]
    }
   ],
   "source": [
    "x.try_adjust_type(tp(\"<<e,t>,<e,t>>\"))"
   ]
  },
  {
   "cell_type": "code",
   "execution_count": 602,
   "id": "8f11b8e1-447e-44ef-9a64-cc646dfe0961",
   "metadata": {},
   "outputs": [],
   "source": [
    "reload_lamb()"
   ]
  },
  {
   "cell_type": "code",
   "execution_count": 603,
   "id": "086484c2-1a9a-44ad-a85c-3f0a4bc516d6",
   "metadata": {},
   "outputs": [
    {
     "data": {
      "text/latex": [
       "${Disjunctive}(\\left[(\\lambda{} x_{e} \\: . \\: {x})\\mid{}{y}_{e}\\mid{}{z}_{{\\left[n\\mid{}t\\right]}}\\right])$"
      ],
      "text/plain": [
       "Disjunctive((λ x_e: x_e),y_e,z_[n|t])"
      ]
     },
     "execution_count": 603,
     "metadata": {},
     "output_type": "execute_result"
    }
   ],
   "source": [
    "x = %te Disjunctive((L x_e: x), y_e, z_[t|n])\n",
    "x"
   ]
  },
  {
   "cell_type": "code",
   "execution_count": 604,
   "id": "69670dbf-3730-4400-8811-3d439f0f16f3",
   "metadata": {},
   "outputs": [
    {
     "data": {
      "text/latex": [
       "${\\left[\\left\\langle{}e,e\\right\\rangle{}\\mid{}e\\mid{}n\\mid{}t\\right]}$"
      ],
      "text/plain": [
       "[<e,e>|e|n|t]"
      ]
     },
     "execution_count": 604,
     "metadata": {},
     "output_type": "execute_result"
    }
   ],
   "source": [
    "x.type"
   ]
  },
  {
   "cell_type": "code",
   "execution_count": 605,
   "id": "9b4bb942-8891-4b6b-8519-e01bff7a4d97",
   "metadata": {},
   "outputs": [
    {
     "data": {
      "text/latex": [
       "${z}_{n}$"
      ],
      "text/plain": [
       "z_n"
      ]
     },
     "execution_count": 605,
     "metadata": {},
     "output_type": "execute_result"
    }
   ],
   "source": [
    "x.try_adjust_type(tp('[n|<t,t>]'))"
   ]
  },
  {
   "cell_type": "code",
   "execution_count": 606,
   "id": "1de05662-12bb-400a-8006-e1916fbe9e81",
   "metadata": {},
   "outputs": [
    {
     "data": {
      "text/html": [
       "<div align=\"left\" style=\"display:table;\"><div style=\"display:table-cell;vertical-align:top;padding-left:5px;padding-right:5px;padding-top:0.2em\"><div style=\"display:table;\"><div style=\"display:table-row;vertical-align:top;\"><div align=\"left\" style=\"display:table;border-collapse:collapse;\"><div style=\"display:table-row;border-bottom:1px solid #848482;\"><div style=\"display:table-cell;padding:0.2em 5px 0.2em 0px;vertical-align:top;\"></div><div style=\"display:table-cell;vertical-align:top;border-right:1px solid #848482;padding-right:5px;;padding-top:0.2em\"><div style=\"display:inline-block;\"><span>${Disjunctive}(\\left[{x}_{e}\\mid{}{y}_{t}\\right])$</span></div></div><div style=\"display:table-cell;vertical-align:top;padding-left:5px;padding-right:5px;padding-top:0.2em\"><div style=\"display:table;\"><div style=\"display:table-row;\"><div style=\"white-space:nowrap; color:blue;\"><span>Type adjustment</span></div></div></div></div></div><div style=\"display:table-row;\"><div style=\"display:table-cell;padding:0.2em 5px 0.2em 0px;vertical-align:top;\"> 1. </div><div style=\"display:table-cell;vertical-align:top;border-right:1px solid #848482;padding-right:5px;;padding-top:0.2em\"><div style=\"display:inline-block;\"><span>${x}_{e}$</span></div></div></div></div></div></div></div></div>"
      ],
      "text/plain": [
       " 1. Disjunctive(x_e,y_t)    (Type adjustment)\n",
       " 2. x_e"
      ]
     },
     "execution_count": 606,
     "metadata": {},
     "output_type": "execute_result"
    }
   ],
   "source": [
    "meta.core.Disjunctive(te(\"x_e\"), te(\"y_t\")).try_adjust_type(tp(\"e\")).derivation"
   ]
  },
  {
   "cell_type": "code",
   "execution_count": 607,
   "id": "0a9a39eb-993b-4ac6-b48a-952e00042b79",
   "metadata": {},
   "outputs": [],
   "source": [
    "reload_lamb()"
   ]
  },
  {
   "cell_type": "code",
   "execution_count": 612,
   "id": "947b0255-36c5-4b27-9ff1-e3269c0680d8",
   "metadata": {},
   "outputs": [
    {
     "data": {
      "text/markdown": [
       "<span style=\"color:red\">**ParseError**</span>: No viable 2-ary operator symbol `<=>` for args `(x_t, y_n)`, in string `x_t <=> y_n`"
      ],
      "text/plain": [
       "ParseError: No viable 2-ary operator symbol `<=>` for args `(x_t, y_n)`, in string `x_t <=> y_n`"
      ]
     },
     "metadata": {},
     "output_type": "display_data"
    }
   ],
   "source": [
    "x = %te x_t <=> y_n\n",
    "x"
   ]
  },
  {
   "cell_type": "code",
   "execution_count": 610,
   "id": "10769715-caee-403a-b9c1-afabed431903",
   "metadata": {},
   "outputs": [],
   "source": [
    "x.try_adjust_type(tp(\"e\"))"
   ]
  },
  {
   "cell_type": "code",
   "execution_count": 613,
   "id": "8070daa2-aa8e-4cf7-bc90-6fe1b1e919b5",
   "metadata": {},
   "outputs": [
    {
     "ename": "TypeMismatch",
     "evalue": "TypeMismatch: `x_t` and `y_n` conflict (Equality requires compatible types)",
     "output_type": "error",
     "traceback": [
      "\u001b[0;31m---------------------------------------------------------------------------\u001b[0m",
      "\u001b[0;31mTypeMismatch\u001b[0m                              Traceback (most recent call last)",
      "Cell \u001b[0;32mIn[613], line 1\u001b[0m\n\u001b[0;32m----> 1\u001b[0m \u001b[43mmeta\u001b[49m\u001b[38;5;241;43m.\u001b[39;49m\u001b[43mcore\u001b[49m\u001b[38;5;241;43m.\u001b[39;49m\u001b[43mBinaryGenericEqExpr\u001b[49m\u001b[43m(\u001b[49m\u001b[43mte\u001b[49m\u001b[43m(\u001b[49m\u001b[38;5;124;43m\"\u001b[39;49m\u001b[38;5;124;43mx_t\u001b[39;49m\u001b[38;5;124;43m\"\u001b[39;49m\u001b[43m)\u001b[49m\u001b[43m,\u001b[49m\u001b[43m \u001b[49m\u001b[43mte\u001b[49m\u001b[43m(\u001b[49m\u001b[38;5;124;43m\"\u001b[39;49m\u001b[38;5;124;43my_n\u001b[39;49m\u001b[38;5;124;43m\"\u001b[39;49m\u001b[43m)\u001b[49m\u001b[43m)\u001b[49m\n",
      "File \u001b[0;32m~/repos/lambda-notebook/lamb/meta/core.py:3821\u001b[0m, in \u001b[0;36mBinaryGenericEqExpr.__init__\u001b[0;34m(self, arg1, arg2, typ, **kwargs)\u001b[0m\n\u001b[1;32m   3819\u001b[0m \u001b[38;5;28;01mdef\u001b[39;00m \u001b[38;5;21m__init__\u001b[39m(\u001b[38;5;28mself\u001b[39m, arg1, arg2, typ\u001b[38;5;241m=\u001b[39m\u001b[38;5;28;01mNone\u001b[39;00m, \u001b[38;5;241m*\u001b[39m\u001b[38;5;241m*\u001b[39mkwargs):\n\u001b[1;32m   3820\u001b[0m     typ \u001b[38;5;241m=\u001b[39m \u001b[38;5;28mself\u001b[39m\u001b[38;5;241m.\u001b[39mtype_constraint(typ, types\u001b[38;5;241m.\u001b[39mtype_t, constant\u001b[38;5;241m=\u001b[39m\u001b[38;5;28;01mTrue\u001b[39;00m)\n\u001b[0;32m-> 3821\u001b[0m     arg1, arg2 \u001b[38;5;241m=\u001b[39m \u001b[38;5;28;43mself\u001b[39;49m\u001b[38;5;241;43m.\u001b[39;49m\u001b[43mtype_constraint\u001b[49m\u001b[43m(\u001b[49m\u001b[43marg1\u001b[49m\u001b[43m,\u001b[49m\u001b[43m \u001b[49m\u001b[43marg2\u001b[49m\u001b[43m,\u001b[49m\n\u001b[1;32m   3822\u001b[0m \u001b[43m                            \u001b[49m\u001b[43merror\u001b[49m\u001b[38;5;241;43m=\u001b[39;49m\u001b[38;5;124;43m\"\u001b[39;49m\u001b[38;5;124;43mEquality requires compatible types\u001b[39;49m\u001b[38;5;124;43m\"\u001b[39;49m\u001b[43m)\u001b[49m\n\u001b[1;32m   3823\u001b[0m     \u001b[38;5;66;03m# self.argtype = ts_unify_with(arg1, arg2,\u001b[39;00m\n\u001b[1;32m   3824\u001b[0m     \u001b[38;5;66;03m#                         error=\"Equality requires compatible types\")\u001b[39;00m\n\u001b[1;32m   3825\u001b[0m     \u001b[38;5;66;03m# arg1 = self.ensure_typed_expr(arg1, self.argtype)\u001b[39;00m\n\u001b[0;32m   (...)\u001b[0m\n\u001b[1;32m   3828\u001b[0m     \u001b[38;5;66;03m# some problems with equality using '==', TODO recheck, but for now\u001b[39;00m\n\u001b[1;32m   3829\u001b[0m     \u001b[38;5;66;03m# just use \"<=>\" in the normalized form\u001b[39;00m\n\u001b[1;32m   3830\u001b[0m     \u001b[38;5;28msuper\u001b[39m()\u001b[38;5;241m.\u001b[39m\u001b[38;5;21m__init__\u001b[39m(arg1\u001b[38;5;241m.\u001b[39mtype, arg1, arg2, typ\u001b[38;5;241m=\u001b[39mtyp, tcheck_args \u001b[38;5;241m=\u001b[39m \u001b[38;5;28;01mFalse\u001b[39;00m)\n",
      "File \u001b[0;32m~/repos/lambda-notebook/lamb/meta/core.py:1096\u001b[0m, in \u001b[0;36mTypedExpr.type_constraint\u001b[0;34m(cls, a, b, constant, error)\u001b[0m\n\u001b[1;32m   1094\u001b[0m principal \u001b[38;5;241m=\u001b[39m ts_reconcile(a, b)\n\u001b[1;32m   1095\u001b[0m \u001b[38;5;28;01mif\u001b[39;00m principal \u001b[38;5;129;01mis\u001b[39;00m \u001b[38;5;28;01mNone\u001b[39;00m:\n\u001b[0;32m-> 1096\u001b[0m     \u001b[38;5;28;01mreturn\u001b[39;00m \u001b[43mfailed_constraint\u001b[49m\u001b[43m(\u001b[49m\u001b[43ma\u001b[49m\u001b[43m,\u001b[49m\u001b[43m \u001b[49m\u001b[43mb\u001b[49m\u001b[43m,\u001b[49m\u001b[43m \u001b[49m\u001b[43ma_te\u001b[49m\u001b[43m,\u001b[49m\u001b[43m \u001b[49m\u001b[43mb_te\u001b[49m\u001b[43m)\u001b[49m\n\u001b[1;32m   1097\u001b[0m \u001b[38;5;28;01mif\u001b[39;00m constant \u001b[38;5;129;01mand\u001b[39;00m b \u001b[38;5;241m!=\u001b[39m principal:\n\u001b[1;32m   1098\u001b[0m     \u001b[38;5;66;03m# is this unnecessarily strict?\u001b[39;00m\n\u001b[1;32m   1099\u001b[0m     \u001b[38;5;28;01mreturn\u001b[39;00m failed_constraint(a, b,\n\u001b[1;32m   1100\u001b[0m         \u001b[38;5;124mf\u001b[39m\u001b[38;5;124m\"\u001b[39m\u001b[38;5;124mType constraint for `\u001b[39m\u001b[38;5;132;01m{\u001b[39;00mname\u001b[38;5;132;01m}\u001b[39;00m\u001b[38;5;124m` (\u001b[39m\u001b[38;5;130;01m{{\u001b[39;00m\u001b[38;5;124ma_repr\u001b[39m\u001b[38;5;130;01m}}\u001b[39;00m\u001b[38;5;124m == constant \u001b[39m\u001b[38;5;130;01m{{\u001b[39;00m\u001b[38;5;124mb_repr\u001b[39m\u001b[38;5;130;01m}}\u001b[39;00m\u001b[38;5;124m) would require adjusting constant to \u001b[39m\u001b[38;5;132;01m{\u001b[39;00mprincipal\u001b[38;5;132;01m}\u001b[39;00m\u001b[38;5;124m\"\u001b[39m)\n",
      "File \u001b[0;32m~/repos/lambda-notebook/lamb/meta/core.py:1092\u001b[0m, in \u001b[0;36mTypedExpr.type_constraint.<locals>.failed_constraint\u001b[0;34m(a, b, a_te, b_te, error)\u001b[0m\n\u001b[1;32m   1090\u001b[0m \u001b[38;5;28;01melse\u001b[39;00m:\n\u001b[1;32m   1091\u001b[0m     error \u001b[38;5;241m=\u001b[39m \u001b[38;5;28mstr\u001b[39m\u001b[38;5;241m.\u001b[39mformat(error, a_repr\u001b[38;5;241m=\u001b[39ma_repr, b_repr\u001b[38;5;241m=\u001b[39mb_repr, name\u001b[38;5;241m=\u001b[39mname)\n\u001b[0;32m-> 1092\u001b[0m \u001b[38;5;28;01mraise\u001b[39;00m TypeMismatch(a, b, error\u001b[38;5;241m=\u001b[39merror)\n",
      "\u001b[0;31mTypeMismatch\u001b[0m: TypeMismatch: `x_t` and `y_n` conflict (Equality requires compatible types)"
     ]
    }
   ],
   "source": [
    "meta.core.BinaryGenericEqExpr(te(\"x_t\"), te(\"y_n\"))"
   ]
  },
  {
   "cell_type": "code",
   "execution_count": 622,
   "id": "41fcbc85-0e8b-41d5-ba00-7b665ec0211c",
   "metadata": {},
   "outputs": [],
   "source": [
    "reload_lamb()"
   ]
  },
  {
   "cell_type": "code",
   "execution_count": 623,
   "id": "87647629-e080-4e71-b0cf-f2b760a7fd0c",
   "metadata": {},
   "outputs": [
    {
     "data": {
      "text/markdown": [
       "<span style=\"color:red\">**TypeMismatch**</span>: `y_e` and type $\\left\\{Z\\right\\}$ conflict (Right operand of `<<` must be a set type matching left operand)"
      ],
      "text/plain": [
       "TypeMismatch: `y_e` and type `{Z}` conflict (Right operand of `<<` must be a set type matching left operand)"
      ]
     },
     "metadata": {},
     "output_type": "display_data"
    }
   ],
   "source": [
    "%te x_Z << y_e"
   ]
  },
  {
   "cell_type": "code",
   "execution_count": 625,
   "id": "e05c5185-e527-40ea-a4c6-d55bc9774c77",
   "metadata": {},
   "outputs": [
    {
     "data": {
      "text/markdown": [
       "<span style=\"color:red\">**ParseError**</span>: No viable 2-ary operator symbol `|` for args `({c2_e, _c1}, {True})`, in string `{_c1, c2} | {True}`"
      ],
      "text/plain": [
       "ParseError: No viable 2-ary operator symbol `|` for args `({c2_e, _c1}, {True})`, in string `{_c1, c2} | {True}`"
      ]
     },
     "metadata": {},
     "output_type": "display_data"
    }
   ],
   "source": [
    "%te {_c1, c2} | {True}"
   ]
  },
  {
   "cell_type": "code",
   "execution_count": 628,
   "id": "d8cbb1c2-2fe3-4274-a3e1-e2352b36ca29",
   "metadata": {},
   "outputs": [
    {
     "data": {
      "text/latex": [
       "$\\{\\textsf{c1}_{e}, {c2}_{e}\\} \\cup{} {x}_{\\left\\{e\\right\\}}$"
      ],
      "text/plain": [
       "({c2_e, _c1} ∪ x_{e})"
      ]
     },
     "execution_count": 628,
     "metadata": {},
     "output_type": "execute_result"
    }
   ],
   "source": [
    "meta.sets.SetUnion(te(\"{_c1, c2}\"), te(\"x_X\"))"
   ]
  },
  {
   "cell_type": "code",
   "execution_count": null,
   "id": "09620003-3378-4fd6-bec5-08ae44dc2ef2",
   "metadata": {},
   "outputs": [],
   "source": []
  }
 ],
 "metadata": {
  "kernelspec": {
   "display_name": "Lambda Notebook (Python 3)",
   "language": "python",
   "name": "lambda-notebook"
  },
  "language_info": {
   "codemirror_mode": {
    "name": "ipython",
    "version": 3
   },
   "file_extension": ".py",
   "mimetype": "text/x-python",
   "name": "python",
   "nbconvert_exporter": "python",
   "pygments_lexer": "ipython3",
   "version": "3.10.14"
  }
 },
 "nbformat": 4,
 "nbformat_minor": 5
}
