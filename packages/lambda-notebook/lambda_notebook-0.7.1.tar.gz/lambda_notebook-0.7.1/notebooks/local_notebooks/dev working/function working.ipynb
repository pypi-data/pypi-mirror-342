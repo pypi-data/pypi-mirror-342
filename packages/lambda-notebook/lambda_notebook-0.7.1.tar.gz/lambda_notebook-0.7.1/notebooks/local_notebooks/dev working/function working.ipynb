{
 "cells": [
  {
   "cell_type": "code",
   "execution_count": 215,
   "id": "70b0471c-f2ad-4050-ba99-185440cc9dab",
   "metadata": {},
   "outputs": [],
   "source": [
    "reload_lamb()"
   ]
  },
  {
   "cell_type": "code",
   "execution_count": 216,
   "id": "2944fc06-0d11-4d7d-8197-407537c891a5",
   "metadata": {},
   "outputs": [
    {
     "data": {
      "text/latex": [
       "${x}_{\\left\\langle{}?_{61},?_{62}\\right\\rangle{}}$"
      ],
      "text/plain": [
       "x_<?61,?62>"
      ]
     },
     "execution_count": 216,
     "metadata": {},
     "output_type": "execute_result"
    }
   ],
   "source": [
    "meta.TypedExpr.type_constraint(te(\"x_X\"), lamb.types.FunType)"
   ]
  },
  {
   "cell_type": "code",
   "execution_count": 217,
   "id": "205cb9b1-921a-4a03-b535-d39ab3887c67",
   "metadata": {},
   "outputs": [
    {
     "data": {
      "text/latex": [
       "$((\\lambda{} x_{n} \\: . \\: \\textsf{0}) + \\textsf{Fun[\\{1:3\\}]}_{\\left\\langle{}n,n\\right\\rangle{}})(\\textsf{2})$"
      ],
      "text/plain": [
       "(((λ x_n: 0) + {1: 3}))(2)"
      ]
     },
     "execution_count": 217,
     "metadata": {},
     "output_type": "execute_result"
    }
   ],
   "source": [
    "(te(\"L x_n : 0\") + te(\"{1:3}\"))(2) #.reduce_all()"
   ]
  },
  {
   "cell_type": "code",
   "execution_count": 218,
   "id": "acc65476-920c-4c60-a204-772fe15da8a9",
   "metadata": {},
   "outputs": [
    {
     "data": {
      "text/latex": [
       "$\\lambda{} y_{n} \\: . \\: ((\\lambda{} x_{n} \\: . \\: \\textsf{0}) + \\textsf{Fun[\\{1:3\\}]}_{\\left\\langle{}n,n\\right\\rangle{}})({y})$"
      ],
      "text/plain": [
       "(λ y_n: (((λ x_n: 0) + {1: 3}))(y_n))"
      ]
     },
     "execution_count": 218,
     "metadata": {},
     "output_type": "execute_result"
    }
   ],
   "source": [
    "%te simplify (L y_n : ((L x_n : 0) + {1:3})(y_n)) #(1)"
   ]
  },
  {
   "cell_type": "code",
   "execution_count": 219,
   "id": "bf4f4ab4-15c4-4d9e-aef6-ebe82b0c6abd",
   "metadata": {},
   "outputs": [
    {
     "data": {
      "text/plain": [
       "0"
      ]
     },
     "execution_count": 219,
     "metadata": {},
     "output_type": "execute_result"
    }
   ],
   "source": [
    "(te(\"L x_n : 0\") + te(\"{1:3}\"))._compiled({})(3)"
   ]
  },
  {
   "cell_type": "code",
   "execution_count": 220,
   "id": "2141684d-76f3-4d9e-a266-704dd5a07fe7",
   "metadata": {},
   "outputs": [
    {
     "data": {
      "text/plain": [
       "4"
      ]
     },
     "execution_count": 220,
     "metadata": {},
     "output_type": "execute_result"
    }
   ],
   "source": [
    "te(\"{1:3} + {3:4}\")._compiled({})(3)"
   ]
  },
  {
   "cell_type": "code",
   "execution_count": 221,
   "id": "1cb70d56-d75c-4f38-8fd0-75d1aef1b356",
   "metadata": {},
   "outputs": [
    {
     "data": {
      "text/latex": [
       "$\\textsf{Fun[\\{1:3,3:5\\}]}_{\\left\\langle{}n,n\\right\\rangle{}}$"
      ],
      "text/plain": [
       "{1: 3, 3: 5}"
      ]
     },
     "execution_count": 221,
     "metadata": {},
     "output_type": "execute_result"
    }
   ],
   "source": [
    "te(\"{1:3} + {3:4} + {3:5}\").simplify_all()"
   ]
  },
  {
   "cell_type": "code",
   "execution_count": null,
   "id": "5697f0af-701a-4a28-b1a3-82edbfad9265",
   "metadata": {},
   "outputs": [],
   "source": []
  },
  {
   "cell_type": "code",
   "execution_count": 508,
   "id": "f577f46c-139c-4ba0-8431-3e9e57b0e811",
   "metadata": {
    "scrolled": true
   },
   "outputs": [],
   "source": [
    "reload_lamb()"
   ]
  },
  {
   "cell_type": "code",
   "execution_count": 509,
   "id": "e3f6e0e3-b722-4a02-8055-23b96272aa04",
   "metadata": {},
   "outputs": [
    {
     "data": {
      "text/latex": [
       "$\\left\\{\\textsf{1}\\rightarrow{}\\textsf{2}, \\textsf{3}\\rightarrow{}\\textsf{4}\\right\\}$"
      ],
      "text/plain": [
       "{1:2, 3:4}"
      ]
     },
     "execution_count": 509,
     "metadata": {},
     "output_type": "execute_result"
    }
   ],
   "source": [
    "meta.core.MapFun((te(1),te(2)), (te(3),te(4)))"
   ]
  },
  {
   "cell_type": "code",
   "execution_count": 510,
   "id": "860c996a-43e5-4de5-b6ae-009cdaac0e55",
   "metadata": {},
   "outputs": [
    {
     "data": {
      "text/latex": [
       "$\\left\\{\\textsf{1}\\rightarrow{}\\textsf{4}, \\textsf{3}\\rightarrow{}\\textsf{4}\\right\\}$"
      ],
      "text/plain": [
       "{1:4, 3:4}"
      ]
     },
     "execution_count": 510,
     "metadata": {},
     "output_type": "execute_result"
    }
   ],
   "source": [
    "meta.core.MapFun((te(1),te(2)), (te(3),te(4)), (te(1),te(4))).simplify_all()"
   ]
  },
  {
   "cell_type": "code",
   "execution_count": 511,
   "id": "daabe923-dff4-480e-8578-0dd7f24d59de",
   "metadata": {},
   "outputs": [
    {
     "data": {
      "text/html": [
       "<div align=\"left\" style=\"display:table;\"><div style=\"display:table-cell;vertical-align:top;padding-left:5px;padding-right:5px;padding-top:0.2em\"><div style=\"display:table;\"><div style=\"display:table-row;vertical-align:top;\"><div align=\"left\" style=\"display:table;border-collapse:collapse;\"><div style=\"display:table-row;border-bottom:1px solid #848482;\"><div style=\"display:table-cell;padding:0.2em 5px 0.2em 0px;vertical-align:top;\"></div><div style=\"display:table-cell;vertical-align:top;border-right:1px solid #848482;padding-right:5px;;padding-top:0.2em\"><div style=\"display:inline-block;\"><span>$\\left\\{\\textsf{1}\\rightarrow{}\\textsf{2}, \\textsf{3}\\rightarrow{}\\textsf{4}\\right\\}(\\textsf{3})$</span></div></div><div style=\"display:table-cell;vertical-align:top;padding-left:5px;padding-right:5px;padding-top:0.2em\"><div style=\"display:table;\"><div style=\"display:table-row;\"><div style=\"white-space:nowrap; color:blue;\"><span>Reduction</span></div></div></div></div></div><div style=\"display:table-row;\"><div style=\"display:table-cell;padding:0.2em 5px 0.2em 0px;vertical-align:top;\"> 1. </div><div style=\"display:table-cell;vertical-align:top;border-right:1px solid #848482;padding-right:5px;;padding-top:0.2em\"><div style=\"display:inline-block;\"><span>$\\textsf{4}$</span></div></div></div></div></div></div></div></div>"
      ],
      "text/plain": [
       " 1. {1:2, 3:4}(3)    (Reduction)\n",
       " 2. 4"
      ]
     },
     "execution_count": 511,
     "metadata": {},
     "output_type": "execute_result"
    }
   ],
   "source": [
    "meta.core.MapFun((te(1),te(2)), (te(3),te(4)))(3).reduce_all().derivation"
   ]
  },
  {
   "cell_type": "code",
   "execution_count": 512,
   "id": "925b8234-3c53-40fb-8c1a-ecd9bbae826a",
   "metadata": {},
   "outputs": [
    {
     "data": {
      "text/html": [
       "<div align=\"left\" style=\"display:table;\"><div style=\"display:table-cell;vertical-align:top;padding-left:5px;padding-right:5px;padding-top:0.2em\"><div style=\"display:table;\"><div style=\"display:table-row;vertical-align:top;\"><div align=\"left\" style=\"display:table;border-collapse:collapse;\"><div style=\"display:table-row;border-bottom:1px solid #848482;\"><div style=\"display:table-cell;padding:0.2em 5px 0.2em 0px;vertical-align:top;\"></div><div style=\"display:table-cell;vertical-align:top;border-right:1px solid #848482;padding-right:5px;;padding-top:0.2em\"><div style=\"display:inline-block;\"><span>$\\left\\{\\textsf{1}\\rightarrow{}\\textsf{2}, \\textsf{3}\\rightarrow{}{x}_{n}\\right\\}(\\textsf{3})$</span></div></div><div style=\"display:table-cell;vertical-align:top;padding-left:5px;padding-right:5px;padding-top:0.2em\"><div style=\"display:table;\"><div style=\"display:table-row;\"><div style=\"white-space:nowrap; color:blue;\"><span>Reduction</span></div></div></div></div></div><div style=\"display:table-row;\"><div style=\"display:table-cell;padding:0.2em 5px 0.2em 0px;vertical-align:top;\"> 1. </div><div style=\"display:table-cell;vertical-align:top;border-right:1px solid #848482;padding-right:5px;;padding-top:0.2em\"><div style=\"display:inline-block;\"><span>${x}_{n}$</span></div></div></div></div></div></div></div></div>"
      ],
      "text/plain": [
       " 1. {1:2, 3:x_n}(3)    (Reduction)\n",
       " 2. x_n"
      ]
     },
     "execution_count": 512,
     "metadata": {},
     "output_type": "execute_result"
    }
   ],
   "source": [
    "meta.core.MapFun((te(1),te(2)), (te(3),te(\"x_n\")))(3).reduce_all().derivation"
   ]
  },
  {
   "cell_type": "code",
   "execution_count": 513,
   "id": "4f15471c-0e98-40de-8e5a-b385f70a6b65",
   "metadata": {},
   "outputs": [
    {
     "data": {
      "text/plain": [
       "3"
      ]
     },
     "execution_count": 513,
     "metadata": {},
     "output_type": "execute_result"
    }
   ],
   "source": [
    "meta.core.MapFun((te(1),te(2)), (te(3),te(\"x_n\")))._compiled({'x': 3})(3)"
   ]
  },
  {
   "cell_type": "code",
   "execution_count": 514,
   "id": "4e8cef3f-7dbc-4c83-9c69-1bc9e32d6fd6",
   "metadata": {},
   "outputs": [
    {
     "data": {
      "text/latex": [
       "$\\left\\{\\textsf{1}\\rightarrow{}\\textsf{2}\\right\\}$"
      ],
      "text/plain": [
       "{1:2}"
      ]
     },
     "execution_count": 514,
     "metadata": {},
     "output_type": "execute_result"
    }
   ],
   "source": [
    "te(\"L x_n : {1:x_n}\")(te(2)).reduce_all().simplify_all()"
   ]
  },
  {
   "cell_type": "code",
   "execution_count": 515,
   "id": "101f24c2-eadd-4088-a1cf-2a0fa2738d00",
   "metadata": {},
   "outputs": [
    {
     "data": {
      "text/latex": [
       "$\\textsf{Fun[\\{1:2\\}]}_{\\left\\langle{}n,n\\right\\rangle{}}$"
      ],
      "text/plain": [
       "{1: 2}"
      ]
     },
     "execution_count": 515,
     "metadata": {},
     "output_type": "execute_result"
    }
   ],
   "source": [
    "te(\"{1:2}\")"
   ]
  },
  {
   "cell_type": "code",
   "execution_count": 516,
   "id": "ed34c5ed-844f-4f7b-a759-b9fc9fc01726",
   "metadata": {},
   "outputs": [
    {
     "data": {
      "text/latex": [
       "$\\{\\}_{\\left\\langle{}\\forall{}X,\\forall{}X\\right\\rangle{}}$"
      ],
      "text/plain": [
       "{}"
      ]
     },
     "execution_count": 516,
     "metadata": {},
     "output_type": "execute_result"
    }
   ],
   "source": [
    "meta.core.MapFun()"
   ]
  },
  {
   "cell_type": "code",
   "execution_count": 517,
   "id": "f57eea19-4533-491f-bb64-1dd3a09d42c1",
   "metadata": {},
   "outputs": [
    {
     "data": {
      "text/html": [
       "<div align=\"left\" style=\"display:table;\"><div style=\"display:table-cell;vertical-align:top;padding-left:5px;padding-right:5px;padding-top:0.2em\"><div style=\"display:table;\"><div style=\"display:table-row;vertical-align:top;\"><div align=\"left\" style=\"display:table;border-collapse:collapse;\"><div style=\"display:table-row;border-bottom:1px solid #848482;\"><div style=\"display:table-cell;padding:0.2em 5px 0.2em 0px;vertical-align:top;\"></div><div style=\"display:table-cell;vertical-align:top;border-right:1px solid #848482;padding-right:5px;;padding-top:0.2em\"><div style=\"display:inline-block;\"><span>${[\\lambda{} x_{n} \\: . \\: \\left\\{\\textsf{1}\\rightarrow{}{x}\\right\\}]}(\\textsf{2})(\\textsf{1})$</span></div></div><div style=\"display:table-cell;vertical-align:top;padding-left:5px;padding-right:5px;padding-top:0.2em\"><div style=\"display:table;\"><div style=\"display:table-row;\"><div style=\"white-space:nowrap; color:blue;\"><span>[Reduction]</span></div></div></div></div></div><div style=\"display:table-row;border-bottom:1px solid #848482;\"><div style=\"display:table-cell;padding:0.2em 5px 0.2em 0px;vertical-align:top;\"> 1. </div><div style=\"display:table-cell;vertical-align:top;border-right:1px solid #848482;padding-right:5px;;padding-top:0.2em\"><div style=\"display:inline-block;\"><span>$\\left\\{\\textsf{1}\\rightarrow{}\\textsf{2}\\right\\}(\\textsf{1})$</span></div></div><div style=\"display:table-cell;vertical-align:top;padding-left:5px;padding-right:5px;padding-top:0.2em\"><div style=\"display:table;\"><div style=\"display:table-row;\"><div style=\"white-space:nowrap; color:blue;\"><span>Reduction</span></div></div></div></div></div><div style=\"display:table-row;\"><div style=\"display:table-cell;padding:0.2em 5px 0.2em 0px;vertical-align:top;\"> 2. </div><div style=\"display:table-cell;vertical-align:top;border-right:1px solid #848482;padding-right:5px;;padding-top:0.2em\"><div style=\"display:inline-block;\"><span>$\\textsf{2}$</span></div></div></div></div></div></div></div></div>"
      ],
      "text/plain": [
       " 1. (λ x_n: {1:x_n})(2)(1)    ([Reduction])\n",
       " 2. {1:2}(1)    (Reduction)\n",
       " 3. 2"
      ]
     },
     "execution_count": 517,
     "metadata": {},
     "output_type": "execute_result"
    }
   ],
   "source": [
    "te(\"(L x_n : {1:3, 1:x_n})(2)(1)\").simplify_all(reduce=True).derivation"
   ]
  },
  {
   "cell_type": "code",
   "execution_count": 518,
   "id": "79337e21-a72f-4353-b111-3eaecadd6a0e",
   "metadata": {},
   "outputs": [
    {
     "data": {
      "text/latex": [
       "$\\left\\{\\textsf{1}\\rightarrow{}{x}_{n}\\right\\}$"
      ],
      "text/plain": [
       "{1:x_n}"
      ]
     },
     "execution_count": 518,
     "metadata": {},
     "output_type": "execute_result"
    }
   ],
   "source": [
    "te(\"{1:3, 1:x_n}\")"
   ]
  },
  {
   "cell_type": "code",
   "execution_count": 519,
   "id": "322e2d4c-b779-444c-ba0c-1d545ab3b300",
   "metadata": {},
   "outputs": [
    {
     "data": {
      "text/latex": [
       "$\\lambda{} x_{n} \\: . \\: \\left\\{{x}\\rightarrow{}\\textsf{3}, \\textsf{1}\\rightarrow{}{x}\\right\\}$"
      ],
      "text/plain": [
       "(λ x_n: {x_n:3, 1:x_n})"
      ]
     },
     "execution_count": 519,
     "metadata": {},
     "output_type": "execute_result"
    }
   ],
   "source": [
    "te(\"L x_n : {x_n:3, 1:x_n}\")"
   ]
  },
  {
   "cell_type": "code",
   "execution_count": 520,
   "id": "468e8ff9-02de-435e-8acb-0ad36798da04",
   "metadata": {},
   "outputs": [
    {
     "data": {
      "text/latex": [
       "$\\left\\{\\textsf{1}\\rightarrow{}\\textsf{3}, \\textsf{1}\\rightarrow{}\\textsf{1}\\right\\}$"
      ],
      "text/plain": [
       "{1:3, 1:1}"
      ]
     },
     "execution_count": 520,
     "metadata": {},
     "output_type": "execute_result"
    }
   ],
   "source": [
    "te(\"(L x_n : {x_n:3, 1:x_n})(1)\").reduce_all() #.simplify_all()"
   ]
  },
  {
   "cell_type": "code",
   "execution_count": 521,
   "id": "581d7177-6c43-498a-b91c-71648a395df5",
   "metadata": {},
   "outputs": [
    {
     "data": {
      "text/html": [
       "<div align=\"left\" style=\"display:table;\"><div style=\"display:table-cell;vertical-align:top;padding-left:5px;padding-right:5px;padding-top:0.2em\"><div style=\"display:table;\"><div style=\"display:table-row;vertical-align:top;\"><div align=\"left\" style=\"display:table;border-collapse:collapse;\"><div style=\"display:table-row;border-bottom:1px solid #848482;\"><div style=\"display:table-cell;padding:0.2em 5px 0.2em 0px;vertical-align:top;\"></div><div style=\"display:table-cell;vertical-align:top;border-right:1px solid #848482;padding-right:5px;;padding-top:0.2em\"><div style=\"display:inline-block;\"><span>$\\left\\{{x}_{n}\\rightarrow{}\\textsf{4}, \\textsf{1}\\rightarrow{}{x}_{n}\\right\\}({x}_{n})$</span></div></div><div style=\"display:table-cell;vertical-align:top;padding-left:5px;padding-right:5px;padding-top:0.2em\"><div style=\"display:table;\"><div style=\"display:table-row;\"><div style=\"white-space:nowrap; color:blue;\"><span>Reduction</span></div></div></div></div></div><div style=\"display:table-row;\"><div style=\"display:table-cell;padding:0.2em 5px 0.2em 0px;vertical-align:top;\"> 1. </div><div style=\"display:table-cell;vertical-align:top;border-right:1px solid #848482;padding-right:5px;;padding-top:0.2em\"><div style=\"display:inline-block;\"><span>$\\textsf{4}$</span></div></div></div></div></div></div></div></div>"
      ],
      "text/plain": [
       " 1. {x_n:4, 1:x_n}(x_n)    (Reduction)\n",
       " 2. 4"
      ]
     },
     "execution_count": 521,
     "metadata": {},
     "output_type": "execute_result"
    }
   ],
   "source": [
    "te(\"({x_n:3, x_n: 4, 1:x_n})(x_n)\").reduce_all().derivation"
   ]
  },
  {
   "cell_type": "code",
   "execution_count": 592,
   "id": "c3e42f24-2d88-452d-b960-720928377546",
   "metadata": {},
   "outputs": [],
   "source": [
    "reload_lamb()"
   ]
  },
  {
   "cell_type": "code",
   "execution_count": 593,
   "id": "243f7fd9-065e-46d7-945f-ab814e5584d5",
   "metadata": {},
   "outputs": [
    {
     "data": {
      "text/latex": [
       "$\\left\\{{x}_{n}\\rightarrow{}\\textsf{3}, {x}_{n}\\rightarrow{}\\textsf{4}, \\textsf{1}\\rightarrow{}{x}_{n}\\right\\}$"
      ],
      "text/plain": [
       "{x_n:3, x_n:4, 1:x_n}"
      ]
     },
     "execution_count": 593,
     "metadata": {},
     "output_type": "execute_result"
    }
   ],
   "source": [
    "te(\"({x_n:3, x_X: 4, 1:x_n})\")"
   ]
  },
  {
   "cell_type": "code",
   "execution_count": 594,
   "id": "4fb27435-6d2a-4991-91d7-bf3b6b7ca4be",
   "metadata": {},
   "outputs": [
    {
     "data": {
      "text/latex": [
       "$\\left\\{\\textsf{1}\\rightarrow{}\\textsf{1}\\right\\}$"
      ],
      "text/plain": [
       "{1:1}"
      ]
     },
     "execution_count": 594,
     "metadata": {},
     "output_type": "execute_result"
    }
   ],
   "source": [
    "te(\"(L x_n : ({x_n:3, x_X: 4, 1:x_n}))(1)\").simplify_all(reduce=True)"
   ]
  },
  {
   "cell_type": "code",
   "execution_count": 595,
   "id": "a278e0ef-6d7f-4042-89b6-1bd07d7651f8",
   "metadata": {},
   "outputs": [
    {
     "data": {
      "text/latex": [
       "$\\left\\{\\textsf{1}\\rightarrow{}\\textsf{4}, \\textsf{1}\\rightarrow{}\\textsf{1}\\right\\}$"
      ],
      "text/plain": [
       "{1:4, 1:1}"
      ]
     },
     "execution_count": 595,
     "metadata": {},
     "output_type": "execute_result"
    }
   ],
   "source": [
    "x = te(\"(L x_n : ({x_n:3, x_X: 4, 1:x_n}))(1)\").reduce_all()\n",
    "x"
   ]
  },
  {
   "cell_type": "code",
   "execution_count": 596,
   "id": "cee768b0-763a-4e17-ab5b-bf919d009447",
   "metadata": {},
   "outputs": [
    {
     "data": {
      "text/html": [
       "<div align=\"left\" style=\"display:table;\"><div style=\"display:table-cell;vertical-align:top;padding-left:5px;padding-right:5px;padding-top:0.2em\"><div style=\"display:table;\"><div style=\"display:table-row;vertical-align:top;\"><div align=\"left\" style=\"display:table;border-collapse:collapse;\"><div style=\"display:table-row;border-bottom:1px solid #848482;\"><div style=\"display:table-cell;padding:0.2em 5px 0.2em 0px;vertical-align:top;\"></div><div style=\"display:table-cell;vertical-align:top;border-right:1px solid #848482;padding-right:5px;;padding-top:0.2em\"><div style=\"display:inline-block;\"><span>${[\\lambda{} x_{n} \\: . \\: \\left\\{{x}\\rightarrow{}\\textsf{4}, \\textsf{1}\\rightarrow{}{x}\\right\\}]}(\\textsf{1})$</span></div></div><div style=\"display:table-cell;vertical-align:top;padding-left:5px;padding-right:5px;padding-top:0.2em\"><div style=\"display:table;\"><div style=\"display:table-row;\"><div style=\"white-space:nowrap; color:blue;\"><span>Reduction</span></div></div></div></div></div><div style=\"display:table-row;\"><div style=\"display:table-cell;padding:0.2em 5px 0.2em 0px;vertical-align:top;\"> 1. </div><div style=\"display:table-cell;vertical-align:top;border-right:1px solid #848482;padding-right:5px;;padding-top:0.2em\"><div style=\"display:inline-block;\"><span>$\\left\\{\\textsf{1}\\rightarrow{}\\textsf{4}, \\textsf{1}\\rightarrow{}\\textsf{1}\\right\\}$</span></div></div></div></div></div></div></div></div>"
      ],
      "text/plain": [
       " 1. (λ x_n: {x_n:4, 1:x_n})(1)    (Reduction)\n",
       " 2. {1:4, 1:1}"
      ]
     },
     "execution_count": 596,
     "metadata": {},
     "output_type": "execute_result"
    }
   ],
   "source": [
    "x.derivation"
   ]
  },
  {
   "cell_type": "code",
   "execution_count": 597,
   "id": "93c484e9-ad7e-4942-8ac2-963ed1cd5e73",
   "metadata": {},
   "outputs": [
    {
     "data": {
      "text/html": [
       "<div align=\"left\" style=\"display:table;\"><div style=\"display:table-cell;vertical-align:top;padding-left:5px;padding-right:5px;padding-top:0.2em\"><div style=\"display:table;\"><div style=\"display:table-row;vertical-align:top;\"><div align=\"left\" style=\"display:table;border-collapse:collapse;\"><div style=\"display:table-row;border-bottom:1px solid #848482;\"><div style=\"display:table-cell;padding:0.2em 5px 0.2em 0px;vertical-align:top;\"></div><div style=\"display:table-cell;vertical-align:top;border-right:1px solid #848482;padding-right:5px;;padding-top:0.2em\"><div style=\"display:inline-block;\"><span>${[\\lambda{} x_{n} \\: . \\: \\left\\{{x}\\rightarrow{}\\textsf{4}, \\textsf{1}\\rightarrow{}{x}\\right\\}]}(\\textsf{1})$</span></div></div><div style=\"display:table-cell;vertical-align:top;padding-left:5px;padding-right:5px;padding-top:0.2em\"><div style=\"display:table;\"><div style=\"display:table-row;\"><div style=\"white-space:nowrap; color:blue;\"><span>Reduction</span></div></div></div></div></div><div style=\"display:table-row;border-bottom:1px solid #848482;\"><div style=\"display:table-cell;padding:0.2em 5px 0.2em 0px;vertical-align:top;\"> 1. </div><div style=\"display:table-cell;vertical-align:top;border-right:1px solid #848482;padding-right:5px;;padding-top:0.2em\"><div style=\"display:inline-block;\"><span>$\\left\\{\\textsf{1}\\rightarrow{}\\textsf{4}, \\textsf{1}\\rightarrow{}\\textsf{1}\\right\\}$</span></div></div><div style=\"display:table-cell;vertical-align:top;padding-left:5px;padding-right:5px;padding-top:0.2em\"><div style=\"display:table;\"><div style=\"display:table-row;\"><div style=\"white-space:nowrap; color:blue;\"><span>Map normalization</span></div></div></div></div></div><div style=\"display:table-row;\"><div style=\"display:table-cell;padding:0.2em 5px 0.2em 0px;vertical-align:top;\"> 2. </div><div style=\"display:table-cell;vertical-align:top;border-right:1px solid #848482;padding-right:5px;;padding-top:0.2em\"><div style=\"display:inline-block;\"><span>$\\left\\{\\textsf{1}\\rightarrow{}\\textsf{1}\\right\\}$</span></div></div></div></div></div></div></div></div>"
      ],
      "text/plain": [
       " 1. (λ x_n: {x_n:4, 1:x_n})(1)    (Reduction)\n",
       " 2. {1:4, 1:1}    (Map normalization)\n",
       " 3. {1:1}"
      ]
     },
     "execution_count": 597,
     "metadata": {},
     "output_type": "execute_result"
    }
   ],
   "source": [
    "x.simplify().derivation"
   ]
  },
  {
   "cell_type": "code",
   "execution_count": 598,
   "id": "82d537a5-0d14-4ff9-b41b-5ba8680b768a",
   "metadata": {},
   "outputs": [
    {
     "data": {
      "text/latex": [
       "$\\textsf{1}$"
      ],
      "text/plain": [
       "1"
      ]
     },
     "execution_count": 598,
     "metadata": {},
     "output_type": "execute_result"
    }
   ],
   "source": [
    "te(\"((L x_n : ({x_n:3, x_X: 4, 1:x_n}))(1))(1)\").reduce_all()"
   ]
  },
  {
   "cell_type": "code",
   "execution_count": 599,
   "id": "82708525-9085-4988-8614-50ce9c677a6d",
   "metadata": {},
   "outputs": [
    {
     "data": {
      "text/latex": [
       "$\\left\\{\\textsf{1}\\rightarrow{}\\textsf{3}, \\textsf{2}\\rightarrow{}\\textsf{4}\\right\\}$"
      ],
      "text/plain": [
       "{1:3, 2:4}"
      ]
     },
     "execution_count": 599,
     "metadata": {},
     "output_type": "execute_result"
    }
   ],
   "source": [
    "te(\"{1:x_n} + {1:3, 2:4}\").simplify_all()"
   ]
  },
  {
   "cell_type": "code",
   "execution_count": 600,
   "id": "1c4ea21f-bf54-4a5f-8187-02ce5a212782",
   "metadata": {},
   "outputs": [
    {
     "data": {
      "text/latex": [
       "$\\left\\{\\textsf{1}\\rightarrow{}{x}_{n}, \\textsf{2}\\rightarrow{}\\textsf{4}\\right\\}$"
      ],
      "text/plain": [
       "{1:x_n, 2:4}"
      ]
     },
     "execution_count": 600,
     "metadata": {},
     "output_type": "execute_result"
    }
   ],
   "source": [
    "te(\"{1:3, 2:4} + {1:x_n}\").simplify_all()"
   ]
  },
  {
   "cell_type": "code",
   "execution_count": 601,
   "id": "e6c05540-369b-4e4c-8098-a8bc7ff2187b",
   "metadata": {},
   "outputs": [
    {
     "data": {
      "text/latex": [
       "$\\left\\{\\textsf{1}\\rightarrow{}{x}_{n}\\right\\}$"
      ],
      "text/plain": [
       "{1:x_n}"
      ]
     },
     "execution_count": 601,
     "metadata": {},
     "output_type": "execute_result"
    }
   ],
   "source": [
    "te(\"{1:y_n} + {1:x_n}\").simplify_all()"
   ]
  },
  {
   "cell_type": "code",
   "execution_count": 602,
   "id": "e9166fe8-5b45-4c1d-8d50-91873395a182",
   "metadata": {},
   "outputs": [
    {
     "data": {
      "text/latex": [
       "$\\left\\{\\textsf{1}\\rightarrow{}{x}_{n}\\right\\}$"
      ],
      "text/plain": [
       "{1:x_n}"
      ]
     },
     "execution_count": 602,
     "metadata": {},
     "output_type": "execute_result"
    }
   ],
   "source": [
    "te(\"{1:y_n} + {1:x_n}\").simplify_all()"
   ]
  },
  {
   "cell_type": "code",
   "execution_count": 603,
   "id": "5d575f41-f206-4eeb-8eed-b8c32b93571f",
   "metadata": {},
   "outputs": [
    {
     "data": {
      "text/plain": [
       "True"
      ]
     },
     "execution_count": 603,
     "metadata": {},
     "output_type": "execute_result"
    }
   ],
   "source": [
    "te(\"({1:x_n} + {1:3, 2:4})(1)\").simplify_all().reduce_all() == 3"
   ]
  },
  {
   "cell_type": "code",
   "execution_count": 604,
   "id": "34761d00-77aa-4616-b39c-7fc5c4112172",
   "metadata": {},
   "outputs": [
    {
     "data": {
      "text/latex": [
       "${[\\lambda{} x_{n} \\: . \\: \\left\\{{x}\\rightarrow{}{x}, \\textsf{1}\\rightarrow{}\\textsf{4}\\right\\}]}(\\textsf{1})(\\textsf{1})$"
      ],
      "text/plain": [
       "(λ x_n: {x_n:x_n, 1:4})(1)(1)"
      ]
     },
     "execution_count": 604,
     "metadata": {},
     "output_type": "execute_result"
    }
   ],
   "source": [
    "te(\"((L x_n : ({x_n:3, 1:4, x_n:x_n}))(1))(1)\")"
   ]
  },
  {
   "cell_type": "code",
   "execution_count": 605,
   "id": "f96ae039-e8c9-4318-a322-90834fe639c3",
   "metadata": {},
   "outputs": [
    {
     "data": {
      "text/latex": [
       "$\\left\\{{x}_{n}\\rightarrow{}{x}_{n}, \\textsf{1}\\rightarrow{}\\textsf{4}\\right\\}$"
      ],
      "text/plain": [
       "{x_n:x_n, 1:4}"
      ]
     },
     "execution_count": 605,
     "metadata": {},
     "output_type": "execute_result"
    }
   ],
   "source": [
    "te(\"{x_n:3, 1:4, x_n:x_n}\")"
   ]
  },
  {
   "cell_type": "code",
   "execution_count": 606,
   "id": "d6fd6724-dd6d-435b-88a7-4181b2eef6c6",
   "metadata": {},
   "outputs": [
    {
     "data": {
      "text/plain": [
       "{1: 4, 2: 2}"
      ]
     },
     "execution_count": 606,
     "metadata": {},
     "output_type": "execute_result"
    }
   ],
   "source": [
    "{1:3, 2:2, 1:4}"
   ]
  },
  {
   "cell_type": "code",
   "execution_count": 607,
   "id": "8fc112f2-3f17-4f4a-811d-0dfde5da0b27",
   "metadata": {},
   "outputs": [
    {
     "data": {
      "text/latex": [
       "$\\left\\{{x}_{n}\\rightarrow{}{x}_{n}, \\textsf{1}\\rightarrow{}\\textsf{4}\\right\\}$"
      ],
      "text/plain": [
       "{x_n:x_n, 1:4}"
      ]
     },
     "execution_count": 607,
     "metadata": {},
     "output_type": "execute_result"
    }
   ],
   "source": [
    "te(\"{x_n:3, 1:4} + {x_n:x_n}\").simplify_all()"
   ]
  },
  {
   "cell_type": "code",
   "execution_count": 608,
   "id": "5e99739e-ae7f-4493-a1c4-a6c7f8ebd8ca",
   "metadata": {},
   "outputs": [
    {
     "data": {
      "text/latex": [
       "$\\left\\{{x}_{n}\\rightarrow{}\\textsf{3}\\right\\}$"
      ],
      "text/plain": [
       "{x_n:3}"
      ]
     },
     "execution_count": 608,
     "metadata": {},
     "output_type": "execute_result"
    }
   ],
   "source": [
    "te(\"{x_n:3}\")"
   ]
  },
  {
   "cell_type": "code",
   "execution_count": 611,
   "id": "b8d4882d-229d-4bb5-90f9-06fd2f9ed232",
   "metadata": {},
   "outputs": [
    {
     "data": {
      "text/latex": [
       "$\\left\\{\\textsf{1}\\rightarrow{}\\textsf{3}, \\textsf{1}\\rightarrow{}\\textsf{4}\\right\\} + \\left\\{\\textsf{1}\\rightarrow{}\\textsf{1}\\right\\}$"
      ],
      "text/plain": [
       "({1:3, 1:4} + {1:1})"
      ]
     },
     "execution_count": 611,
     "metadata": {},
     "output_type": "execute_result"
    }
   ],
   "source": [
    "te(\"(L x_n :{x_n:3, 1:4} + {x_n:x_n})(1)\").reduce_all()"
   ]
  },
  {
   "cell_type": "code",
   "execution_count": 612,
   "id": "24d89889-aeb6-4449-9dc9-61aa36ff064c",
   "metadata": {},
   "outputs": [
    {
     "data": {
      "text/latex": [
       "${[\\lambda{} x_{n} \\: . \\: \\left\\{{x}\\rightarrow{}{x}, \\textsf{1}\\rightarrow{}\\textsf{4}\\right\\}]}(\\textsf{1})$"
      ],
      "text/plain": [
       "(λ x_n: {x_n:x_n, 1:4})(1)"
      ]
     },
     "execution_count": 612,
     "metadata": {},
     "output_type": "execute_result"
    }
   ],
   "source": [
    "te(\"(L x_n :{x_n:3, 1:4} + {x_n:x_n})(1)\").simplify_all() #.reduce_all()"
   ]
  },
  {
   "cell_type": "code",
   "execution_count": 613,
   "id": "c91a7c17-eb15-4a98-b890-7469ac94e91a",
   "metadata": {},
   "outputs": [
    {
     "data": {
      "text/latex": [
       "$\\textsf{1}$"
      ],
      "text/plain": [
       "1"
      ]
     },
     "execution_count": 613,
     "metadata": {},
     "output_type": "execute_result"
    }
   ],
   "source": [
    "te(\"(L x_n :{x_n:3, 1:4} + {x_n:x_n})(1)(1)\").reduce_all()"
   ]
  },
  {
   "cell_type": "code",
   "execution_count": 615,
   "id": "e9e5dc53-009b-40f1-a031-f7c0ef4efaad",
   "metadata": {},
   "outputs": [
    {
     "data": {
      "text/latex": [
       "$\\textsf{4}$"
      ],
      "text/plain": [
       "4"
      ]
     },
     "execution_count": 615,
     "metadata": {},
     "output_type": "execute_result"
    }
   ],
   "source": [
    "te(\"(L x_n :{x_n:3, 1:4} + {x_n:x_n})(1)(1)\").simplify_all().reduce_all()"
   ]
  },
  {
   "cell_type": "code",
   "execution_count": 616,
   "id": "7ba0c16c-f20d-4384-9803-059bf20936a4",
   "metadata": {},
   "outputs": [
    {
     "data": {
      "text/latex": [
       "$\\textsf{3}$"
      ],
      "text/plain": [
       "3"
      ]
     },
     "execution_count": 616,
     "metadata": {},
     "output_type": "execute_result"
    }
   ],
   "source": [
    "te(\"({1:x_n} + {1:3, 2:4})(1)\").simplify_all().reduce_all()"
   ]
  },
  {
   "cell_type": "code",
   "execution_count": null,
   "id": "cd229920-17b0-4ef3-a65e-0334f8cf2495",
   "metadata": {},
   "outputs": [],
   "source": []
  },
  {
   "cell_type": "code",
   "execution_count": null,
   "id": "734a197d-5f16-4dd5-b036-6308e189e4e4",
   "metadata": {},
   "outputs": [],
   "source": []
  },
  {
   "cell_type": "code",
   "execution_count": 812,
   "id": "46f103b2-a41d-463e-8cdd-59e18017e635",
   "metadata": {},
   "outputs": [],
   "source": [
    "reload_lamb()"
   ]
  },
  {
   "cell_type": "code",
   "execution_count": 813,
   "id": "e68b952a-ad35-4122-84d0-877e20ec1047",
   "metadata": {},
   "outputs": [
    {
     "data": {
      "text/latex": [
       "$Dom(\\lambda{} x_{e} \\: . \\: {x})$"
      ],
      "text/plain": [
       "Dom(λ x_e: x_e)"
      ]
     },
     "execution_count": 813,
     "metadata": {},
     "output_type": "execute_result"
    }
   ],
   "source": [
    "te(\"Dom(L x_e: x)\")"
   ]
  },
  {
   "cell_type": "code",
   "execution_count": 814,
   "id": "6bfb269c-07e8-4947-8429-ee2fa4f1cff5",
   "metadata": {},
   "outputs": [
    {
     "data": {
      "text/html": [
       "<div align=\"left\" style=\"display:table;\"><div style=\"display:table-cell;vertical-align:top;padding-left:5px;padding-right:5px;padding-top:0.2em\"><div style=\"display:table;\"><div style=\"display:table-row;vertical-align:top;\"><div align=\"left\" style=\"display:table;border-collapse:collapse;\"><div style=\"display:table-row;border-bottom:1px solid #848482;\"><div style=\"display:table-cell;padding:0.2em 5px 0.2em 0px;vertical-align:top;\"></div><div style=\"display:table-cell;vertical-align:top;border-right:1px solid #848482;padding-right:5px;;padding-top:0.2em\"><div style=\"display:inline-block;\"><span>$Dom(\\lambda{} x_{e} \\: . \\: {x})$</span></div></div><div style=\"display:table-cell;vertical-align:top;padding-left:5px;padding-right:5px;padding-top:0.2em\"><div style=\"display:table;\"><div style=\"display:table-row;\"><div style=\"white-space:nowrap; color:blue;\"><span>Function domain simplification</span></div></div></div></div></div><div style=\"display:table-row;\"><div style=\"display:table-cell;padding:0.2em 5px 0.2em 0px;vertical-align:top;\"> 1. </div><div style=\"display:table-cell;vertical-align:top;border-right:1px solid #848482;padding-right:5px;;padding-top:0.2em\"><div style=\"display:inline-block;\"><span>$\\{{x}_{e} \\:|\\: \\textsf{True}\\}$</span></div></div></div></div></div></div></div></div>"
      ],
      "text/plain": [
       " 1. Dom(λ x_e: x_e)    (Function domain simplification)\n",
       " 2. (Set x_e: True)"
      ]
     },
     "execution_count": 814,
     "metadata": {},
     "output_type": "execute_result"
    }
   ],
   "source": [
    "te(\"Dom(L x_e: x)\").simplify_all().derivation"
   ]
  },
  {
   "cell_type": "code",
   "execution_count": 815,
   "id": "d05fe808-004f-48cc-87c2-1f34f8e861f0",
   "metadata": {},
   "outputs": [
    {
     "data": {
      "text/html": [
       "<div align=\"left\" style=\"display:table;\"><div style=\"display:table-cell;vertical-align:top;padding-left:5px;padding-right:5px;padding-top:0.2em\"><div style=\"display:table;\"><div style=\"display:table-row;vertical-align:top;\"><div align=\"left\" style=\"display:table;border-collapse:collapse;\"><div style=\"display:table-row;border-bottom:1px solid #848482;\"><div style=\"display:table-cell;padding:0.2em 5px 0.2em 0px;vertical-align:top;\"></div><div style=\"display:table-cell;vertical-align:top;border-right:1px solid #848482;padding-right:5px;;padding-top:0.2em\"><div style=\"display:inline-block;\"><span>$Dom(\\textsf{Fun[\\{1:2,3:4\\}]}_{\\left\\langle{}n,n\\right\\rangle{}})$</span></div></div><div style=\"display:table-cell;vertical-align:top;padding-left:5px;padding-right:5px;padding-top:0.2em\"><div style=\"display:table;\"><div style=\"display:table-row;\"><div style=\"white-space:nowrap; color:blue;\"><span>Function domain simplification</span></div></div></div></div></div><div style=\"display:table-row;\"><div style=\"display:table-cell;padding:0.2em 5px 0.2em 0px;vertical-align:top;\"> 1. </div><div style=\"display:table-cell;vertical-align:top;border-right:1px solid #848482;padding-right:5px;;padding-top:0.2em\"><div style=\"display:inline-block;\"><span>$\\{\\textsf{1}, \\textsf{3}\\}$</span></div></div></div></div></div></div></div></div>"
      ],
      "text/plain": [
       " 1. Dom({1: 2, 3: 4})    (Function domain simplification)\n",
       " 2. {1, 3}"
      ]
     },
     "execution_count": 815,
     "metadata": {},
     "output_type": "execute_result"
    }
   ],
   "source": [
    "te(\"Dom({1:2, 3:4})\").simplify_all().derivation"
   ]
  },
  {
   "cell_type": "code",
   "execution_count": 816,
   "id": "bb1e1d8c-9f68-4811-92db-33c776f52388",
   "metadata": {},
   "outputs": [
    {
     "data": {
      "text/plain": [
       "'Dom({1: 2, 3: 4})'"
      ]
     },
     "execution_count": 816,
     "metadata": {},
     "output_type": "execute_result"
    }
   ],
   "source": [
    "repr(te(\"Dom({1:2, 3:4})\"))"
   ]
  },
  {
   "cell_type": "code",
   "execution_count": 817,
   "id": "fd98635e-9478-4068-be5a-258efdd6b2e9",
   "metadata": {},
   "outputs": [
    {
     "data": {
      "text/html": [
       "<div align=\"left\" style=\"display:table;\"><div style=\"display:table-cell;vertical-align:top;padding-left:5px;padding-right:5px;padding-top:0.2em\"><div style=\"display:table;\"><div style=\"display:table-row;vertical-align:top;\"><div align=\"left\" style=\"display:table;border-collapse:collapse;\"><div style=\"display:table-row;border-bottom:1px solid #848482;\"><div style=\"display:table-cell;padding:0.2em 5px 0.2em 0px;vertical-align:top;\"></div><div style=\"display:table-cell;vertical-align:top;border-right:1px solid #848482;padding-right:5px;;padding-top:0.2em\"><div style=\"display:inline-block;\"><span>$Dom(\\left\\{\\textsf{1}\\rightarrow{}\\textsf{2}, \\textsf{3}\\rightarrow{}{x}_{n}\\right\\})$</span></div></div><div style=\"display:table-cell;vertical-align:top;padding-left:5px;padding-right:5px;padding-top:0.2em\"><div style=\"display:table;\"><div style=\"display:table-row;\"><div style=\"white-space:nowrap; color:blue;\"><span>Function domain simplification</span></div></div></div></div></div><div style=\"display:table-row;\"><div style=\"display:table-cell;padding:0.2em 5px 0.2em 0px;vertical-align:top;\"> 1. </div><div style=\"display:table-cell;vertical-align:top;border-right:1px solid #848482;padding-right:5px;;padding-top:0.2em\"><div style=\"display:inline-block;\"><span>$\\{\\textsf{1}, \\textsf{3}\\}$</span></div></div></div></div></div></div></div></div>"
      ],
      "text/plain": [
       " 1. Dom({1:2, 3:x_n})    (Function domain simplification)\n",
       " 2. {1, 3}"
      ]
     },
     "execution_count": 817,
     "metadata": {},
     "output_type": "execute_result"
    }
   ],
   "source": [
    "te(\"Dom({1:2, 3:x_n})\").simplify_all().derivation"
   ]
  },
  {
   "cell_type": "code",
   "execution_count": 818,
   "id": "d456f601-c1fc-44ab-bb30-b3e40500dd03",
   "metadata": {},
   "outputs": [
    {
     "data": {
      "text/plain": [
       "'Dom({1:2, 3:x_n})'"
      ]
     },
     "execution_count": 818,
     "metadata": {},
     "output_type": "execute_result"
    }
   ],
   "source": [
    "repr(te(\"Dom({1:2, 3:x_n})\"))"
   ]
  },
  {
   "cell_type": "code",
   "execution_count": 819,
   "id": "b317964b-8df7-47b2-af1e-61d291333ba8",
   "metadata": {},
   "outputs": [
    {
     "data": {
      "text/html": [
       "<div align=\"left\" style=\"display:table;\"><div style=\"display:table-cell;vertical-align:top;padding-left:5px;padding-right:5px;padding-top:0.2em\"><div style=\"display:table;\"><div style=\"display:table-row;vertical-align:top;\"><div align=\"left\" style=\"display:table;border-collapse:collapse;\"><div style=\"display:table-row;border-bottom:1px solid #848482;\"><div style=\"display:table-cell;padding:0.2em 5px 0.2em 0px;vertical-align:top;\"></div><div style=\"display:table-cell;vertical-align:top;border-right:1px solid #848482;padding-right:5px;;padding-top:0.2em\"><div style=\"display:inline-block;\"><span>$Dom(\\left\\{\\textsf{1}\\rightarrow{}\\textsf{2}, \\textsf{3}\\rightarrow{}{x}_{n}\\right\\} + (\\lambda{} x_{n} \\: . \\: \\textsf{2}))$</span></div></div><div style=\"display:table-cell;vertical-align:top;padding-left:5px;padding-right:5px;padding-top:0.2em\"><div style=\"display:table;\"><div style=\"display:table-row;\"><div style=\"white-space:nowrap; color:blue;\"><span>Function domain simplification</span></div></div></div></div></div><div style=\"display:table-row;border-bottom:1px solid #848482;\"><div style=\"display:table-cell;padding:0.2em 5px 0.2em 0px;vertical-align:top;\"> 1. </div><div style=\"display:table-cell;vertical-align:top;border-right:1px solid #848482;padding-right:5px;;padding-top:0.2em\"><div style=\"display:inline-block;\"><span>$\\{\\textsf{1}, \\textsf{3}\\} \\cup{} \\{{x}_{n} \\:|\\: \\textsf{True}\\}$</span></div></div><div style=\"display:table-cell;vertical-align:top;padding-left:5px;padding-right:5px;padding-top:0.2em\"><div style=\"display:table;\"><div style=\"display:table-row;\"><div style=\"white-space:nowrap; color:blue;\"><span>set union (set elimination)</span></div></div></div></div></div><div style=\"display:table-row;border-bottom:1px solid #848482;\"><div style=\"display:table-cell;padding:0.2em 5px 0.2em 0px;vertical-align:top;\"> 2. </div><div style=\"display:table-cell;vertical-align:top;border-right:1px solid #848482;padding-right:5px;;padding-top:0.2em\"><div style=\"display:inline-block;\"><span>$\\{{x}_{n} \\:|\\: ({x}_{n} \\in{} \\{\\textsf{1}, \\textsf{3}\\}) \\vee{} ({x}_{n} \\in{} \\{{x}_{n} \\:|\\: \\textsf{True}\\})\\}$</span></div></div><div style=\"display:table-cell;vertical-align:top;padding-left:5px;padding-right:5px;padding-top:0.2em\"><div style=\"display:table;\"><div style=\"display:table-row;\"><div style=\"white-space:nowrap; color:blue;\"><span>Recursive simplification of body</span></div></div></div></div></div><div style=\"display:table-row;\"><div style=\"display:table-cell;padding:0.2em 5px 0.2em 0px;vertical-align:top;\"> 3. </div><div style=\"display:table-cell;vertical-align:top;border-right:1px solid #848482;padding-right:5px;;padding-top:0.2em\"><div style=\"display:inline-block;\"><span>$\\{{x}_{n} \\:|\\: \\textsf{True}\\}$</span></div></div></div></div></div></div></div></div>"
      ],
      "text/plain": [
       " 1. Dom({1:2, 3:x_n} + (λ x_n: 2))    (Function domain simplification)\n",
       " 2. ({1, 3} | (Set x_n: True))    (set union (set elimination))\n",
       " 3. (Set x_n: ((x_n << {1, 3}) | (x_n << (Set x_n: True))))    (Recursive simplification of body)\n",
       " 4. (Set x_n: True)"
      ]
     },
     "execution_count": 819,
     "metadata": {},
     "output_type": "execute_result"
    }
   ],
   "source": [
    "te(\"Dom({1:2, 3:x_n} + (L x_n : 2))\").simplify_all().derivation"
   ]
  },
  {
   "cell_type": "code",
   "execution_count": 820,
   "id": "2acafdc5-d561-4079-b319-a01117ce01a3",
   "metadata": {},
   "outputs": [
    {
     "data": {
      "text/plain": [
       "'Dom({1:2, 3:x_n} + (λ x_n: 2))'"
      ]
     },
     "execution_count": 820,
     "metadata": {},
     "output_type": "execute_result"
    }
   ],
   "source": [
    "repr(te(\"Dom({1:2, 3:x_n} + (L x_n : 2))\"))"
   ]
  },
  {
   "cell_type": "code",
   "execution_count": 821,
   "id": "26b9352c-f3b1-4bc5-9092-40e54581ae2b",
   "metadata": {},
   "outputs": [
    {
     "data": {
      "text/html": [
       "<div align=\"left\" style=\"display:table;\"><div style=\"display:table-cell;vertical-align:top;padding-left:5px;padding-right:5px;padding-top:0.2em\"><div style=\"display:table;\"><div style=\"display:table-row;vertical-align:top;\"><div align=\"left\" style=\"display:table;border-collapse:collapse;\"><div style=\"display:table-row;border-bottom:1px solid #848482;\"><div style=\"display:table-cell;padding:0.2em 5px 0.2em 0px;vertical-align:top;\"></div><div style=\"display:table-cell;vertical-align:top;border-right:1px solid #848482;padding-right:5px;;padding-top:0.2em\"><div style=\"display:inline-block;\"><span>$Dom(\\left\\{\\textsf{1}\\rightarrow{}\\textsf{2}, {x}_{n}\\rightarrow{}{x}_{n}\\right\\} + (\\lambda{} x_{n} \\: . \\: \\textsf{2}))$</span></div></div><div style=\"display:table-cell;vertical-align:top;padding-left:5px;padding-right:5px;padding-top:0.2em\"><div style=\"display:table;\"><div style=\"display:table-row;\"><div style=\"white-space:nowrap; color:blue;\"><span>Function domain simplification</span></div></div></div></div></div><div style=\"display:table-row;border-bottom:1px solid #848482;\"><div style=\"display:table-cell;padding:0.2em 5px 0.2em 0px;vertical-align:top;\"> 1. </div><div style=\"display:table-cell;vertical-align:top;border-right:1px solid #848482;padding-right:5px;;padding-top:0.2em\"><div style=\"display:inline-block;\"><span>$\\{\\textsf{1}, {x}_{n}\\} \\cup{} \\{{x}_{n} \\:|\\: \\textsf{True}\\}$</span></div></div><div style=\"display:table-cell;vertical-align:top;padding-left:5px;padding-right:5px;padding-top:0.2em\"><div style=\"display:table;\"><div style=\"display:table-row;\"><div style=\"white-space:nowrap; color:blue;\"><span>set union (set elimination)</span></div></div></div></div></div><div style=\"display:table-row;border-bottom:1px solid #848482;\"><div style=\"display:table-cell;padding:0.2em 5px 0.2em 0px;vertical-align:top;\"> 2. </div><div style=\"display:table-cell;vertical-align:top;border-right:1px solid #848482;padding-right:5px;;padding-top:0.2em\"><div style=\"display:inline-block;\"><span>$\\{{x1}_{n} \\:|\\: ({x1}_{n} \\in{} \\{\\textsf{1}, {x}_{n}\\}) \\vee{} ({x1}_{n} \\in{} \\{{x}_{n} \\:|\\: \\textsf{True}\\})\\}$</span></div></div><div style=\"display:table-cell;vertical-align:top;padding-left:5px;padding-right:5px;padding-top:0.2em\"><div style=\"display:table;\"><div style=\"display:table-row;\"><div style=\"white-space:nowrap; color:blue;\"><span>Recursive simplification of body</span></div></div><div style=\"display:table-row;vertical-align:top;\"><div align=\"left\" style=\"display:table;border-collapse:collapse;\"><div style=\"display:table-row;border-bottom:1px solid #848482;\"><div style=\"display:table-cell;padding:0.2em 5px 0.2em 0px;vertical-align:top;\"></div><div style=\"display:table-cell;vertical-align:top;border-right:1px solid #848482;padding-right:5px;;padding-top:0.2em\"><div style=\"display:inline-block;\"><span>$({x1}_{n} \\in{} \\{\\textsf{1}, {x}_{n}\\}) \\vee{} ({x1}_{n} \\in{} \\{{x}_{n} \\:|\\: \\textsf{True}\\})$</span></div></div><div style=\"display:table-cell;vertical-align:top;padding-left:5px;padding-right:5px;padding-top:0.2em\"><div style=\"display:table;\"><div style=\"display:table-row;\"><div style=\"white-space:nowrap; color:blue;\"><span>alphabetic normalization</span></div></div></div></div></div><div style=\"display:table-row;border-bottom:1px solid #848482;\"><div style=\"display:table-cell;padding:0.2em 5px 0.2em 0px;vertical-align:top;\"> 1. </div><div style=\"display:table-cell;vertical-align:top;border-right:1px solid #848482;padding-right:5px;;padding-top:0.2em\"><div style=\"display:inline-block;\"><span>$({x1}_{n} \\in{} \\{{x}_{n} \\:|\\: \\textsf{True}\\}) \\vee{} ({x1}_{n} \\in{} \\{\\textsf{1}, {x}_{n}\\})$</span></div></div><div style=\"display:table-cell;vertical-align:top;padding-left:5px;padding-right:5px;padding-top:0.2em\"><div style=\"display:table;\"><div style=\"display:table-row;\"><div style=\"white-space:nowrap; color:blue;\"><span>[∈ simplification]</span></div></div></div></div></div><div style=\"display:table-row;border-bottom:1px solid #848482;\"><div style=\"display:table-cell;padding:0.2em 5px 0.2em 0px;vertical-align:top;\"> 2. </div><div style=\"display:table-cell;vertical-align:top;border-right:1px solid #848482;padding-right:5px;;padding-top:0.2em\"><div style=\"display:inline-block;\"><span>$\\textsf{True} \\vee{} ({x1}_{n} \\in{} \\{\\textsf{1}, {x}_{n}\\})$</span></div></div><div style=\"display:table-cell;vertical-align:top;padding-left:5px;padding-right:5px;padding-top:0.2em\"><div style=\"display:table;\"><div style=\"display:table-row;\"><div style=\"white-space:nowrap; color:blue;\"><span>disjunction (elimination on `True`)</span></div></div></div></div></div><div style=\"display:table-row;\"><div style=\"display:table-cell;padding:0.2em 5px 0.2em 0px;vertical-align:top;\"> 3. </div><div style=\"display:table-cell;vertical-align:top;border-right:1px solid #848482;padding-right:5px;;padding-top:0.2em\"><div style=\"display:inline-block;\"><span>$\\textsf{True}$</span></div></div></div></div></div></div></div></div><div style=\"display:table-row;\"><div style=\"display:table-cell;padding:0.2em 5px 0.2em 0px;vertical-align:top;\"> 3. </div><div style=\"display:table-cell;vertical-align:top;border-right:1px solid #848482;padding-right:5px;;padding-top:0.2em\"><div style=\"display:inline-block;\"><span>$\\{{x1}_{n} \\:|\\: \\textsf{True}\\}$</span></div></div></div></div></div></div></div></div>"
      ],
      "text/plain": [
       "DisplayNode instance: HTML rendering only"
      ]
     },
     "execution_count": 821,
     "metadata": {},
     "output_type": "execute_result"
    }
   ],
   "source": [
    "te(\"Dom({1:2, x_n:x_n} + (L x_n : 2))\").simplify_all().derivation.trace()"
   ]
  },
  {
   "cell_type": "code",
   "execution_count": 822,
   "id": "f536987d-4263-401b-a024-9344a80d2387",
   "metadata": {},
   "outputs": [
    {
     "data": {
      "text/plain": [
       "frozenset({1, 3})"
      ]
     },
     "execution_count": 822,
     "metadata": {},
     "output_type": "execute_result"
    }
   ],
   "source": [
    "te(\"Dom({1:2, x_n:x_n})\")._compiled({'x': 3})"
   ]
  },
  {
   "cell_type": "code",
   "execution_count": 823,
   "id": "50840784-94c0-47b3-9311-d80f665cde23",
   "metadata": {},
   "outputs": [
    {
     "data": {
      "text/plain": [
       "frozenset({1, 2, 3})"
      ]
     },
     "metadata": {},
     "output_type": "display_data"
    }
   ],
   "source": [
    "with types.type_n.restrict_domain(values=[1, 2, 3]):\n",
    "    display(te(\"Dom(L x_n: 1)\")._compiled({}))"
   ]
  },
  {
   "cell_type": "code",
   "execution_count": 824,
   "id": "d6de345f-22d2-4b27-b078-08f581556f43",
   "metadata": {},
   "outputs": [
    {
     "data": {
      "text/plain": [
       "frozenset({1, 2, 3})"
      ]
     },
     "metadata": {},
     "output_type": "display_data"
    }
   ],
   "source": [
    "with types.type_n.restrict_domain(values=[1, 2, 3]):\n",
    "    display(te(\"Dom((L x_n: 1) + {2:2})\")._compiled({}))"
   ]
  },
  {
   "cell_type": "code",
   "execution_count": 825,
   "id": "6bc23735-2244-4a29-a9b8-f8fa4f8de153",
   "metadata": {},
   "outputs": [
    {
     "data": {
      "text/plain": [
       "frozenset({1, 2, 3})"
      ]
     },
     "metadata": {},
     "output_type": "display_data"
    }
   ],
   "source": [
    "with types.type_n.restrict_domain(values=[1, 2, 3]):\n",
    "    display(te(\"Dom((L x_n: 1) + {x_n:2})\")._compiled({'x':4}))"
   ]
  },
  {
   "cell_type": "code",
   "execution_count": 826,
   "id": "c756f645-77d9-4a79-8456-f28fec59dd3a",
   "metadata": {},
   "outputs": [
    {
     "data": {
      "text/plain": [
       "frozenset({1, 2})"
      ]
     },
     "metadata": {},
     "output_type": "display_data"
    }
   ],
   "source": [
    "with types.type_n.restrict_domain(values=[1, 2, 3]):\n",
    "    display(te(\"Dom({2:3} + {x_n:2})\")._compiled({'x':1}))"
   ]
  },
  {
   "cell_type": "code",
   "execution_count": 827,
   "id": "397a9c1c-564d-4a15-bfd9-533a4d4a97d0",
   "metadata": {},
   "outputs": [
    {
     "data": {
      "text/plain": [
       "frozenset({2, 4})"
      ]
     },
     "metadata": {},
     "output_type": "display_data"
    }
   ],
   "source": [
    "with types.type_n.restrict_domain(values=[1, 2, 3]):\n",
    "    display(te(\"Dom({2:3} + {x_n:2})\")._compiled({'x':4})) # no domain check(!)"
   ]
  },
  {
   "cell_type": "code",
   "execution_count": 809,
   "id": "833c2b67-b3e0-4132-9fee-1a48496f16fe",
   "metadata": {},
   "outputs": [],
   "source": [
    "with types.type_n.restrict_domain(values=[1, 2, 3]):\n",
    "    x = lamb.meta.exec(te(\"Dom(L x_n: 1)\"))"
   ]
  },
  {
   "cell_type": "code",
   "execution_count": 811,
   "id": "7953e9e7-805b-4237-a841-4dbeaf1e5a9e",
   "metadata": {},
   "outputs": [
    {
     "data": {
      "text/plain": [
       "set"
      ]
     },
     "execution_count": 811,
     "metadata": {},
     "output_type": "execute_result"
    }
   ],
   "source": [
    "x.__class__"
   ]
  },
  {
   "cell_type": "code",
   "execution_count": 804,
   "id": "49c9eec0-1126-446c-8576-c22196ed5812",
   "metadata": {},
   "outputs": [],
   "source": [
    "reload_lamb()"
   ]
  },
  {
   "cell_type": "code",
   "execution_count": 805,
   "id": "2d2a8ec8-9e1c-4e80-b841-968561d42f01",
   "metadata": {},
   "outputs": [
    {
     "data": {
      "text/latex": [
       "$Codom(\\lambda{} x_{e} \\: . \\: {x})$"
      ],
      "text/plain": [
       "Codom(λ x_e: x_e)"
      ]
     },
     "execution_count": 805,
     "metadata": {},
     "output_type": "execute_result"
    }
   ],
   "source": [
    "te(\"Codom(L x_e: x)\")"
   ]
  },
  {
   "cell_type": "code",
   "execution_count": 806,
   "id": "f561da01-b26d-47c2-81d9-a14cb396fdf1",
   "metadata": {},
   "outputs": [
    {
     "data": {
      "text/latex": [
       "$\\{{x}_{e} \\:|\\: \\textsf{True}\\}$"
      ],
      "text/plain": [
       "(Set x_e: True)"
      ]
     },
     "execution_count": 806,
     "metadata": {},
     "output_type": "execute_result"
    }
   ],
   "source": [
    "te(\"Codom(L x_e: x)\").simplify_all()"
   ]
  },
  {
   "cell_type": "code",
   "execution_count": 807,
   "id": "870f218f-1070-416a-9724-fd240d980737",
   "metadata": {},
   "outputs": [
    {
     "data": {
      "text/html": [
       "<div align=\"left\" style=\"display:table;\"><div style=\"display:table-cell;vertical-align:top;padding-left:5px;padding-right:5px;padding-top:0.2em\"><div style=\"display:table;\"><div style=\"display:table-row;vertical-align:top;\"><div align=\"left\" style=\"display:table;border-collapse:collapse;\"><div style=\"display:table-row;border-bottom:1px solid #848482;\"><div style=\"display:table-cell;padding:0.2em 5px 0.2em 0px;vertical-align:top;\"></div><div style=\"display:table-cell;vertical-align:top;border-right:1px solid #848482;padding-right:5px;;padding-top:0.2em\"><div style=\"display:inline-block;\"><span>$Codom(\\textsf{Fun[\\{1:2,3:4,5:4\\}]}_{\\left\\langle{}n,n\\right\\rangle{}})$</span></div></div><div style=\"display:table-cell;vertical-align:top;padding-left:5px;padding-right:5px;padding-top:0.2em\"><div style=\"display:table;\"><div style=\"display:table-row;\"><div style=\"white-space:nowrap; color:blue;\"><span>Function codomain simplification</span></div></div></div></div></div><div style=\"display:table-row;\"><div style=\"display:table-cell;padding:0.2em 5px 0.2em 0px;vertical-align:top;\"> 1. </div><div style=\"display:table-cell;vertical-align:top;border-right:1px solid #848482;padding-right:5px;;padding-top:0.2em\"><div style=\"display:inline-block;\"><span>$\\{\\textsf{2}, \\textsf{4}\\}$</span></div></div></div></div></div></div></div></div>"
      ],
      "text/plain": [
       " 1. Codom({1: 2, 3: 4, 5: 4})    (Function codomain simplification)\n",
       " 2. {2, 4}"
      ]
     },
     "execution_count": 807,
     "metadata": {},
     "output_type": "execute_result"
    }
   ],
   "source": [
    "te(\"Codom({1:2, 3:4, 5:4})\").simplify_all().derivation"
   ]
  },
  {
   "cell_type": "code",
   "execution_count": 808,
   "id": "ccfa56c6-a407-477e-9702-56da9dc01fe7",
   "metadata": {},
   "outputs": [
    {
     "data": {
      "text/html": [
       "<div align=\"left\" style=\"display:table;\"><div style=\"display:table-cell;vertical-align:top;padding-left:5px;padding-right:5px;padding-top:0.2em\"><div style=\"display:table;\"><div style=\"display:table-row;vertical-align:top;\"><div align=\"left\" style=\"display:table;border-collapse:collapse;\"><div style=\"display:table-row;border-bottom:1px solid #848482;\"><div style=\"display:table-cell;padding:0.2em 5px 0.2em 0px;vertical-align:top;\"></div><div style=\"display:table-cell;vertical-align:top;border-right:1px solid #848482;padding-right:5px;;padding-top:0.2em\"><div style=\"display:inline-block;\"><span>$Codom(\\left\\{\\textsf{1}\\rightarrow{}\\textsf{2}, \\textsf{3}\\rightarrow{}\\textsf{4}, \\textsf{5}\\rightarrow{}{x}_{n}\\right\\})$</span></div></div><div style=\"display:table-cell;vertical-align:top;padding-left:5px;padding-right:5px;padding-top:0.2em\"><div style=\"display:table;\"><div style=\"display:table-row;\"><div style=\"white-space:nowrap; color:blue;\"><span>Function codomain simplification</span></div></div></div></div></div><div style=\"display:table-row;\"><div style=\"display:table-cell;padding:0.2em 5px 0.2em 0px;vertical-align:top;\"> 1. </div><div style=\"display:table-cell;vertical-align:top;border-right:1px solid #848482;padding-right:5px;;padding-top:0.2em\"><div style=\"display:inline-block;\"><span>$\\{\\textsf{2}, \\textsf{4}, {x}_{n}\\}$</span></div></div></div></div></div></div></div></div>"
      ],
      "text/plain": [
       " 1. Codom({1:2, 3:4, 5:x_n})    (Function codomain simplification)\n",
       " 2. {x_n, 2, 4}"
      ]
     },
     "execution_count": 808,
     "metadata": {},
     "output_type": "execute_result"
    }
   ],
   "source": [
    "te(\"Codom({1:2, 3:4, 5:x_n})\").simplify_all().derivation"
   ]
  },
  {
   "cell_type": "code",
   "execution_count": null,
   "id": "471b2883-f429-4a0c-bd5e-3e13282246cb",
   "metadata": {},
   "outputs": [],
   "source": []
  },
  {
   "cell_type": "code",
   "execution_count": 851,
   "id": "9b7c2c18-7743-4f3a-a091-20f46ffe1d9e",
   "metadata": {},
   "outputs": [],
   "source": [
    "reload_lamb()"
   ]
  },
  {
   "cell_type": "code",
   "execution_count": 852,
   "id": "aa7e70b5-32c0-470a-a087-da967f1f4223",
   "metadata": {},
   "outputs": [
    {
     "name": "stderr",
     "output_type": "stream",
     "text": [
      "ERROR (parsing): Parsing of typed expression failed with exception:\n",
      "ERROR (parsing): [TypeError] MapFun requires a sequences of pairs (received non-pair `x_e`)\n"
     ]
    },
    {
     "name": "stdout",
     "output_type": "stream",
     "text": [
      " (TypedExpr._ptf(\"x\", typ=\"e\", assignment=assignment), TypedExpr._ptf(\"y\", typ=\"e\", assignment=assignment))\n",
      " Fun(ilnb1)\n",
      " (x_e, y_e)\n"
     ]
    }
   ],
   "source": [
    "# lamb.parsing.errors_raise = True\n",
    "%te Fun(x_e, y_e)"
   ]
  },
  {
   "cell_type": "code",
   "execution_count": null,
   "id": "77d62406-1f9b-4776-9ee5-74cb2412597f",
   "metadata": {},
   "outputs": [],
   "source": []
  },
  {
   "cell_type": "code",
   "execution_count": 872,
   "id": "b157b88c-fde8-4564-a607-9def58653175",
   "metadata": {},
   "outputs": [],
   "source": [
    "reload_lamb()"
   ]
  },
  {
   "cell_type": "code",
   "execution_count": 873,
   "id": "eba8b902-15a5-4215-83fe-169da31a0805",
   "metadata": {},
   "outputs": [
    {
     "data": {
      "text/latex": [
       "$\\lambda{} f_{\\left\\langle{}n,e\\right\\rangle{}} \\: . \\: \\left|\\begin{array}{l}{f}(\\textsf{1})\\\\\\textsf{1} \\in{} Dom({f})\\end{array}\\right|$"
      ],
      "text/plain": [
       "(λ f_<n,e>: Partial(f_<n,e>(1), (1 << Dom(f_<n,e>))))"
      ]
     },
     "execution_count": 873,
     "metadata": {},
     "output_type": "execute_result"
    }
   ],
   "source": [
    "te(\"L f_<n,e>: Partial(f(1), 1 << Dom(f))\")"
   ]
  },
  {
   "cell_type": "code",
   "execution_count": 874,
   "id": "11f2ac78-087a-47bc-baf1-59aacef9e8e6",
   "metadata": {},
   "outputs": [
    {
     "data": {
      "text/latex": [
       "${[\\lambda{} f_{\\left\\langle{}n,e\\right\\rangle{}} \\: . \\: \\left|\\begin{array}{l}{f}(\\textsf{1})\\\\\\textsf{1} \\in{} Dom({f})\\end{array}\\right|]}(\\{\\}_{\\left\\langle{}n,e\\right\\rangle{}})$"
      ],
      "text/plain": [
       "(λ f_<n,e>: Partial(f_<n,e>(1), (1 << Dom(f_<n,e>))))(Fun())"
      ]
     },
     "execution_count": 874,
     "metadata": {},
     "output_type": "execute_result"
    }
   ],
   "source": [
    "te(\"L f_<n,e>: Partial(f(1), 1 << Dom(f))\")(te(\"Fun()\"))"
   ]
  },
  {
   "cell_type": "code",
   "execution_count": 875,
   "id": "3425269d-9a52-459a-8605-1bc8e2b64318",
   "metadata": {},
   "outputs": [
    {
     "data": {
      "text/latex": [
       "${[\\lambda{} f_{\\left\\langle{}n,e\\right\\rangle{}} \\: . \\: \\left|\\begin{array}{l}{f}(\\textsf{1})\\\\\\textsf{1} \\in{} Dom({f})\\end{array}\\right|]}(\\{\\}_{\\left\\langle{}n,e\\right\\rangle{}})$"
      ],
      "text/plain": [
       "(λ f_<n,e>: Partial(f_<n,e>(1), (1 << Dom(f_<n,e>))))(Fun())"
      ]
     },
     "execution_count": 875,
     "metadata": {},
     "output_type": "execute_result"
    }
   ],
   "source": [
    "te(\"L f_<n,e>: Partial(f(1), 1 << Dom(f))\")(te(\"Fun()\"))"
   ]
  },
  {
   "cell_type": "code",
   "execution_count": 877,
   "id": "88703706-7037-474e-9f03-6db77600bfbb",
   "metadata": {},
   "outputs": [
    {
     "data": {
      "text/latex": [
       "$\\left|\\begin{array}{l}\\xcancel{\\{\\}_{\\left\\langle{}n,e\\right\\rangle{}}(\\textsf{1})}\\\\\\textsf{False}\\end{array}\\right|$"
      ],
      "text/plain": [
       "Partial(Fun()(1), False)"
      ]
     },
     "execution_count": 877,
     "metadata": {},
     "output_type": "execute_result"
    }
   ],
   "source": [
    "te(\"L f_<n,e>: Partial(f(1), 1 << Dom(f))\")(te(\"Fun()\")).simplify_all(reduce=True)"
   ]
  },
  {
   "cell_type": "code",
   "execution_count": null,
   "id": "8b7549b2-02cb-42bc-9a37-b264841d1402",
   "metadata": {},
   "outputs": [],
   "source": []
  }
 ],
 "metadata": {
  "kernelspec": {
   "display_name": "Lambda Notebook (Python 3)",
   "language": "python",
   "name": "lambda-notebook"
  },
  "language_info": {
   "codemirror_mode": {
    "name": "ipython",
    "version": 3
   },
   "file_extension": ".py",
   "mimetype": "text/x-python",
   "name": "python",
   "nbconvert_exporter": "python",
   "pygments_lexer": "ipython3",
   "version": "3.12.8"
  }
 },
 "nbformat": 4,
 "nbformat_minor": 5
}
