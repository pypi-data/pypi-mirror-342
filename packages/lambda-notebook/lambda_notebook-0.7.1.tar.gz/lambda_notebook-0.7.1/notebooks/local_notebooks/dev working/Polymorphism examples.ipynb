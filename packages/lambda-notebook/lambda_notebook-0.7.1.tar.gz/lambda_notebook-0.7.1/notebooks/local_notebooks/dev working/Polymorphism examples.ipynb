{
 "cells": [
  {
   "cell_type": "code",
   "execution_count": 55,
   "metadata": {
    "collapsed": true
   },
   "outputs": [],
   "source": [
    "reload_lamb()"
   ]
  },
  {
   "cell_type": "markdown",
   "metadata": {},
   "source": [
    "Simple type inference still works"
   ]
  },
  {
   "cell_type": "code",
   "execution_count": 56,
   "metadata": {
    "collapsed": false
   },
   "outputs": [
    {
     "name": "stderr",
     "output_type": "stream",
     "text": [
      "ERROR (parsing): Parsing of typed expression failed with exception:\n",
      "ERROR (parsing): Type mismatch: 'P_<e,t>'/<e,t> and type <n,t> conflict (mode: Failed to unify types across distinct instances of term)\n"
     ]
    }
   ],
   "source": [
    "%te P_<e,t>(x_e) & P_<n,t>(n_n) # should fail because no principle type for P"
   ]
  },
  {
   "cell_type": "markdown",
   "metadata": {},
   "source": [
    "Inference from type variables to simple types"
   ]
  },
  {
   "cell_type": "code",
   "execution_count": 57,
   "metadata": {
    "collapsed": false
   },
   "outputs": [
    {
     "data": {
      "text/latex": [
       "$\\lambda{} x_{e} \\: . \\: {Q}_{\\langle{}e,e\\rangle{}}({x}_{e})$"
      ],
      "text/plain": [
       "(λ x_e: Q_<e,e>(x_e))"
      ]
     },
     "execution_count": 57,
     "metadata": {},
     "output_type": "execute_result"
    }
   ],
   "source": [
    "%te L x_e : Q_<X,X>(x_X)"
   ]
  },
  {
   "cell_type": "code",
   "execution_count": 58,
   "metadata": {
    "collapsed": false
   },
   "outputs": [
    {
     "data": {
      "text/latex": [
       "${Q}_{\\langle{}e,e\\rangle{}}({x}_{e})$"
      ],
      "text/plain": [
       "Q_<e,e>(x_e)"
      ]
     },
     "execution_count": 58,
     "metadata": {},
     "output_type": "execute_result"
    }
   ],
   "source": [
    "%te Q_<X,X>(x_e)"
   ]
  },
  {
   "cell_type": "code",
   "execution_count": 59,
   "metadata": {
    "collapsed": false
   },
   "outputs": [
    {
     "data": {
      "text/latex": [
       "$({p}_{\\langle{}e,t\\rangle{}}({x}_{e}) \\wedge{} {p}_{\\langle{}e,t\\rangle{}}({n}_{e}))$"
      ],
      "text/plain": [
       "(p_<e,t>(x_e) & p_<e,t>(n_e))"
      ]
     },
     "execution_count": 59,
     "metadata": {},
     "output_type": "execute_result"
    }
   ],
   "source": [
    "%te p_<e,t>(x_e) & p_<X,t>(n_X) # variables of the same name should have the same type"
   ]
  },
  {
   "cell_type": "markdown",
   "metadata": {},
   "source": [
    "Application-related inference"
   ]
  },
  {
   "cell_type": "code",
   "execution_count": 60,
   "metadata": {
    "collapsed": false
   },
   "outputs": [
    {
     "data": {
      "text/latex": [
       "${Q}_{\\langle{}e,X\\rangle{}}({x}_{e})$"
      ],
      "text/plain": [
       "Q_<e,X>(x_e)"
      ]
     },
     "execution_count": 60,
     "metadata": {},
     "output_type": "execute_result"
    }
   ],
   "source": [
    "%te Q_X(x_e)"
   ]
  },
  {
   "cell_type": "code",
   "execution_count": 61,
   "metadata": {
    "collapsed": false
   },
   "outputs": [
    {
     "data": {
      "text/latex": [
       "$[\\lambda{} x_{e} \\: . \\: {P}_{\\langle{}e,e\\rangle{}}({x}_{e})]({x}_{e})$"
      ],
      "text/plain": [
       "((λ x_e: P_<e,e>(x_e)))(x_e)"
      ]
     },
     "execution_count": 61,
     "metadata": {},
     "output_type": "execute_result"
    }
   ],
   "source": [
    "%te (L x_X : P_<X,X>(x))(x_e)"
   ]
  },
  {
   "cell_type": "code",
   "execution_count": 62,
   "metadata": {
    "collapsed": false
   },
   "outputs": [
    {
     "data": {
      "text/latex": [
       "${f}_{\\langle{}t,t\\rangle{}}({p}_{\\langle{}t,t\\rangle{}}({Q}_{\\langle{}t,t\\rangle{}}({x}_{t})))$"
      ],
      "text/plain": [
       "f_<t,t>(p_<t,t>(Q_<t,t>(x_t)))"
      ]
     },
     "execution_count": 62,
     "metadata": {},
     "output_type": "execute_result"
    }
   ],
   "source": [
    "%te (f_<t,t>(p_<X,X>(Q_<X,X>(x_X))))"
   ]
  },
  {
   "cell_type": "code",
   "execution_count": 63,
   "metadata": {
    "collapsed": false
   },
   "outputs": [
    {
     "data": {
      "text/latex": [
       "${f}_{\\langle{}\\langle{}Y,Y\\rangle{},\\langle{}Y,Y\\rangle{}\\rangle{}}({g}_{\\langle{}Y,Y\\rangle{}})$"
      ],
      "text/plain": [
       "f_<<Y,Y>,<Y,Y>>(g_<Y,Y>)"
      ]
     },
     "execution_count": 63,
     "metadata": {},
     "output_type": "execute_result"
    }
   ],
   "source": [
    "%te (f_<<X,Y>,<X,Y>>(g_<X,X>))"
   ]
  },
  {
   "cell_type": "code",
   "execution_count": 64,
   "metadata": {
    "collapsed": false
   },
   "outputs": [
    {
     "data": {
      "text/latex": [
       "$[\\lambda{} f_{\\langle{}Y,Y\\rangle{}} \\: . \\: \\lambda{} x_{Y} \\: . \\: {y}_{Y}]({g}_{\\langle{}Y,Y\\rangle{}})$"
      ],
      "text/plain": [
       "((λ f_<Y,Y>: (λ x_Y: y_Y)))(g_<Y,Y>)"
      ]
     },
     "execution_count": 64,
     "metadata": {},
     "output_type": "execute_result"
    }
   ],
   "source": [
    "%te (L f_<X,Y> : L x_X: y_Y)(g_<Z,Z>)"
   ]
  },
  {
   "cell_type": "code",
   "execution_count": 65,
   "metadata": {
    "collapsed": false
   },
   "outputs": [
    {
     "data": {
      "text/latex": [
       "${p}_{\\langle{}X''',X_{4}\\rangle{}}({q}_{\\langle{}X'',X'''\\rangle{}}({a}_{\\langle{}X',X''\\rangle{}}({b}_{\\langle{}X,X'\\rangle{}}({c}_{\\langle{}e,X\\rangle{}}({d}_{e})))))$"
      ],
      "text/plain": [
       "p_<X''',X4>(q_<X'',X'''>(a_<X',X''>(b_<X,X'>(c_<e,X>(d_e)))))"
      ]
     },
     "execution_count": 65,
     "metadata": {},
     "output_type": "execute_result"
    }
   ],
   "source": [
    "%te p_X(q_X'(a_X''(b_X'''(c_X''''(d_e)))))"
   ]
  },
  {
   "cell_type": "code",
   "execution_count": 66,
   "metadata": {
    "collapsed": false
   },
   "outputs": [
    {
     "data": {
      "text/latex": [
       "$\\lambda{} x_{\\langle{}\\langle{}e,t\\rangle{},X\\rangle{}} \\: . \\: {x}_{\\langle{}\\langle{}e,t\\rangle{},X\\rangle{}}({y}_{\\langle{}e,t\\rangle{}})$"
      ],
      "text/plain": [
       "(λ x_<<e,t>,X>: x_<<e,t>,X>(y_<e,t>))"
      ]
     },
     "execution_count": 66,
     "metadata": {},
     "output_type": "execute_result"
    }
   ],
   "source": [
    "%te L x_X : x(y_<e,t>)"
   ]
  },
  {
   "cell_type": "code",
   "execution_count": 67,
   "metadata": {
    "collapsed": false
   },
   "outputs": [
    {
     "data": {
      "text/latex": [
       "$[\\lambda{} g_{\\langle{}Y,t\\rangle{}} \\: . \\: \\lambda{} x_{Y} \\: . \\: {g}_{\\langle{}Y,t\\rangle{}}({x}_{Y})](\\lambda{} x_{Y} \\: . \\: {P}_{\\langle{}Y,t\\rangle{}}({x}_{Y}))$"
      ],
      "text/plain": [
       "((λ g_<Y,t>: (λ x_Y: g_<Y,t>(x_Y))))((λ x_Y: P_<Y,t>(x_Y)))"
      ]
     },
     "execution_count": 67,
     "metadata": {},
     "output_type": "execute_result"
    }
   ],
   "source": [
    "%te (L g_<Y,t> : L x_X : g(x)) (L x_X10 : P_<Z,t>(x)) # application involving two LFuns"
   ]
  },
  {
   "cell_type": "markdown",
   "metadata": {},
   "source": [
    "Interaction with other operators"
   ]
  },
  {
   "cell_type": "code",
   "execution_count": 68,
   "metadata": {
    "collapsed": false
   },
   "outputs": [
    {
     "data": {
      "text/latex": [
       "$({P}({x}_{e}) \\wedge{} {Q}({x}_{e}))$"
      ],
      "text/plain": [
       "(P_<e,t>(x_e) & Q_<e,t>(x_e))"
      ]
     },
     "execution_count": 68,
     "metadata": {},
     "output_type": "execute_result"
    }
   ],
   "source": [
    "%te P_<e,t>(x_X) & Q_<X,Y>(x_X)"
   ]
  },
  {
   "cell_type": "code",
   "execution_count": 69,
   "metadata": {
    "collapsed": false
   },
   "outputs": [
    {
     "data": {
      "text/latex": [
       "$({p}_{t} \\wedge{} {Q}_{\\langle{}t,t\\rangle{}}({x}_{t}))$"
      ],
      "text/plain": [
       "(p_t & Q_<t,t>(x_t))"
      ]
     },
     "execution_count": 69,
     "metadata": {},
     "output_type": "execute_result"
    }
   ],
   "source": [
    "%te p_t & Q_<X,X>(x_X)"
   ]
  },
  {
   "cell_type": "code",
   "execution_count": 70,
   "metadata": {
    "collapsed": false
   },
   "outputs": [
    {
     "name": "stderr",
     "output_type": "stream",
     "text": [
      "INFO (meta): Coerced guessed type t for 'P_t' into <X,t>, to match argument 'x_X'\n"
     ]
    },
    {
     "data": {
      "text/latex": [
       "$\\iota{} x_{e} \\: . \\: {P}({x}_{e})$"
      ],
      "text/plain": [
       "(ι x_e: P_<e,t>(x_e))"
      ]
     },
     "execution_count": 70,
     "metadata": {},
     "output_type": "execute_result"
    }
   ],
   "source": [
    "x = %te Iota x_X: P(x)\n",
    "x.try_adjust_type(tp(\"e\"))"
   ]
  },
  {
   "cell_type": "code",
   "execution_count": 71,
   "metadata": {
    "collapsed": false
   },
   "outputs": [
    {
     "data": {
      "text/latex": [
       "$\\iota{} x_{Y} \\: . \\: {P}_{\\langle{}Y,t\\rangle{}}({x}_{Y})$"
      ],
      "text/plain": [
       "(ι x_Y: P_<Y,t>(x_Y))"
      ]
     },
     "execution_count": 71,
     "metadata": {},
     "output_type": "execute_result"
    }
   ],
   "source": [
    "x.try_adjust_type(tp(\"Y\"))"
   ]
  },
  {
   "cell_type": "code",
   "execution_count": 72,
   "metadata": {
    "collapsed": false
   },
   "outputs": [
    {
     "data": {
      "text/latex": [
       "$[\\lambda{} x_{e} \\: . \\: {P}({x}_{e})](\\iota{} x_{e} \\: . \\: {Q}({x}_{e}))$"
      ],
      "text/plain": [
       "((λ x_e: P_<e,t>(x_e)))((ι x_e: Q_<e,t>(x_e)))"
      ]
     },
     "execution_count": 72,
     "metadata": {},
     "output_type": "execute_result"
    }
   ],
   "source": [
    "%te (L x_X : P_<e,t>(x))(Iota x_Y: Q_<Y,t>(x))"
   ]
  },
  {
   "cell_type": "markdown",
   "metadata": {},
   "source": [
    "Inference from function body to variable"
   ]
  },
  {
   "cell_type": "code",
   "execution_count": 73,
   "metadata": {
    "collapsed": false
   },
   "outputs": [
    {
     "data": {
      "text/latex": [
       "$\\lambda{} x_{e} \\: . \\: {x}_{e}$"
      ],
      "text/plain": [
       "(λ x_e: x_e)"
      ]
     },
     "execution_count": 73,
     "metadata": {},
     "output_type": "execute_result"
    }
   ],
   "source": [
    "%te L x_X : x_e"
   ]
  },
  {
   "cell_type": "code",
   "execution_count": 74,
   "metadata": {
    "collapsed": false
   },
   "outputs": [
    {
     "data": {
      "text/latex": [
       "$\\lambda{} x_{e} \\: . \\: {x}_{e}$"
      ],
      "text/plain": [
       "(λ x_e: x_e)"
      ]
     },
     "execution_count": 74,
     "metadata": {},
     "output_type": "execute_result"
    }
   ],
   "source": [
    "%te L x_e : x_X"
   ]
  },
  {
   "cell_type": "code",
   "execution_count": 75,
   "metadata": {
    "collapsed": false
   },
   "outputs": [
    {
     "data": {
      "text/latex": [
       "$\\lambda{} x_{\\langle{}e,X\\rangle{}} \\: . \\: {z}_{\\langle{}e,X\\rangle{}}({y}_{e})$"
      ],
      "text/plain": [
       "(λ x_<e,X>: z_<e,X>(y_e))"
      ]
     },
     "execution_count": 75,
     "metadata": {},
     "output_type": "execute_result"
    }
   ],
   "source": [
    "%te L x_X : z_X(y_e)"
   ]
  },
  {
   "cell_type": "code",
   "execution_count": 76,
   "metadata": {
    "collapsed": false
   },
   "outputs": [
    {
     "data": {
      "text/latex": [
       "$\\lambda{} x_{t} \\: . \\: ({x}_{t} \\wedge{} {x}_{t})$"
      ],
      "text/plain": [
       "(λ x_t: (x_t & x_t))"
      ]
     },
     "execution_count": 76,
     "metadata": {},
     "output_type": "execute_result"
    }
   ],
   "source": [
    "%te L x_X : x_X & x_X"
   ]
  },
  {
   "cell_type": "code",
   "execution_count": 77,
   "metadata": {
    "collapsed": false
   },
   "outputs": [
    {
     "data": {
      "text/latex": [
       "$\\lambda{} x_{Y} \\: . \\: {g}_{\\langle{}Y,t\\rangle{}}({x}_{Y})$"
      ],
      "text/plain": [
       "(λ x_Y: g_<Y,t>(x_Y))"
      ]
     },
     "execution_count": 77,
     "metadata": {},
     "output_type": "execute_result"
    }
   ],
   "source": [
    "%te L x_X : g_<Y,t>(x)"
   ]
  },
  {
   "cell_type": "code",
   "execution_count": 78,
   "metadata": {
    "collapsed": false
   },
   "outputs": [
    {
     "data": {
      "text/latex": [
       "$\\lambda{} g_{\\langle{}Y,t\\rangle{}} \\: . \\: \\lambda{} x_{Y} \\: . \\: {g}_{\\langle{}Y,t\\rangle{}}({x}_{Y})$"
      ],
      "text/plain": [
       "(λ g_<Y,t>: (λ x_Y: g_<Y,t>(x_Y)))"
      ]
     },
     "execution_count": 78,
     "metadata": {},
     "output_type": "execute_result"
    }
   ],
   "source": [
    "%te L g_<Y,t> : L x_X : g(x) # across multiple LFuns"
   ]
  },
  {
   "cell_type": "code",
   "execution_count": 79,
   "metadata": {
    "collapsed": false
   },
   "outputs": [
    {
     "data": {
      "text/latex": [
       "$\\lambda{} x_{\\langle{}e,t\\rangle{}} \\: . \\: ([\\lambda{} y_{\\langle{}e,t\\rangle{}} \\: . \\: [\\lambda{} a_{\\langle{}e,t\\rangle{}} \\: . \\: {a}_{\\langle{}e,t\\rangle{}}({z}_{e})]({y}_{\\langle{}e,t\\rangle{}})]({x}_{\\langle{}e,t\\rangle{}}) \\wedge{} {p}_{t})$"
      ],
      "text/plain": [
       "(λ x_<e,t>: (((λ y_<e,t>: ((λ a_<e,t>: a_<e,t>(z_e)))(y_<e,t>)))(x_<e,t>) & p_t))"
      ]
     },
     "execution_count": 79,
     "metadata": {},
     "output_type": "execute_result"
    }
   ],
   "source": [
    "%te L x_X : (L y_Y : (L a_Z : a(z_e))(y))(x) & p_X'"
   ]
  },
  {
   "cell_type": "code",
   "execution_count": 80,
   "metadata": {
    "collapsed": false
   },
   "outputs": [
    {
     "data": {
      "text/latex": [
       "$\\lambda{} a_{\\langle{}X',X\\rangle{}} \\: . \\: \\lambda{} b_{X'} \\: . \\: {a}_{\\langle{}X',X\\rangle{}}({b}_{X'})$"
      ],
      "text/plain": [
       "(λ a_<X',X>: (λ b_X': a_<X',X>(b_X')))"
      ]
     },
     "execution_count": 80,
     "metadata": {},
     "output_type": "execute_result"
    }
   ],
   "source": [
    "%te L a_X : L b_X' : a(b) # application should force functional type"
   ]
  },
  {
   "cell_type": "code",
   "execution_count": 81,
   "metadata": {
    "collapsed": false
   },
   "outputs": [
    {
     "data": {
      "text/latex": [
       "$\\lambda{} a_{\\langle{}X',X\\rangle{}} \\: . \\: \\lambda{} c_{X'} \\: . \\: {a}_{\\langle{}X',X\\rangle{}}([\\lambda{} b_{X'} \\: . \\: {b}_{X'}]({c}_{X'}))$"
      ],
      "text/plain": [
       "(λ a_<X',X>: (λ c_X': a_<X',X>(((λ b_X': b_X'))(c_X'))))"
      ]
     },
     "execution_count": 81,
     "metadata": {},
     "output_type": "execute_result"
    }
   ],
   "source": [
    "%te L a_X : L c_X'' : a((L b_X' : b)(c)) # X'' = X', X = <X', ?>"
   ]
  },
  {
   "cell_type": "code",
   "execution_count": 82,
   "metadata": {
    "collapsed": false
   },
   "outputs": [
    {
     "data": {
      "text/latex": [
       "$\\lambda{} d_{X_{5}} \\: . \\: \\lambda{} c_{\\langle{}X_{5},X\\rangle{}} \\: . \\: \\lambda{} b_{\\langle{}X,X'\\rangle{}} \\: . \\: \\lambda{} a_{\\langle{}X',X''\\rangle{}} \\: . \\: \\lambda{} q_{\\langle{}X'',X'''\\rangle{}} \\: . \\: \\lambda{} p_{\\langle{}X''',X_{4}\\rangle{}} \\: . \\: {p}_{\\langle{}X''',X_{4}\\rangle{}}({q}_{\\langle{}X'',X'''\\rangle{}}({a}_{\\langle{}X',X''\\rangle{}}({b}_{\\langle{}X,X'\\rangle{}}({c}_{\\langle{}X_{5},X\\rangle{}}({d}_{X_{5}})))))$"
      ],
      "text/plain": [
       "(λ d_X5: (λ c_<X5,X>: (λ b_<X,X'>: (λ a_<X',X''>: (λ q_<X'',X'''>: (λ p_<X''',X4>: p_<X''',X4>(q_<X'',X'''>(a_<X',X''>(b_<X,X'>(c_<X5,X>(d_X5)))))))))))"
      ]
     },
     "execution_count": 82,
     "metadata": {},
     "output_type": "execute_result"
    }
   ],
   "source": [
    "%te L d_X22 : L c_X' : L b_X'' : L a_X''' : L q_X'''' : L p_X''''' : p(q(a(b(c(d)))))"
   ]
  },
  {
   "cell_type": "markdown",
   "metadata": {},
   "source": [
    "Inference in function construction, failure cases.  \n",
    "\n",
    "The following should fail because there is no consistent resolution of type variable `X`."
   ]
  },
  {
   "cell_type": "code",
   "execution_count": 84,
   "metadata": {
    "collapsed": false
   },
   "outputs": [
    {
     "name": "stderr",
     "output_type": "stream",
     "text": [
      "ERROR (parsing): Parsing of typed expression failed with exception:\n",
      "ERROR (parsing): Type mismatch: type <e,t> and type t conflict (mode: Failed to unify type variable X across contexts)\n"
     ]
    }
   ],
   "source": [
    "%te L x_X : (L y_<Y,Z> : y(z_e))(x) & p_X # X = <Y,Z> (appl), Y = <e,?> (appl), Z = t (conjunction), X=<e,t> (unification), X = t (conjunction)"
   ]
  },
  {
   "cell_type": "markdown",
   "metadata": {},
   "source": [
    "Various things in one"
   ]
  },
  {
   "cell_type": "code",
   "execution_count": 85,
   "metadata": {
    "collapsed": false
   },
   "outputs": [
    {
     "data": {
      "text/latex": [
       "$\\lambda{} x_{e} \\: . \\: ({P}({A}_{e}) \\wedge{} {Q}({x}_{e}))$"
      ],
      "text/plain": [
       "(λ x_e: (P_<e,t>(A_e) & Q_<e,t>(x_e)))"
      ]
     },
     "execution_count": 85,
     "metadata": {},
     "output_type": "execute_result"
    }
   ],
   "source": [
    "%te L x_X : P_<Y,t>(A_Y) & Q_<Y,t>(x_e) # Y=X (appl), X=e (from var), inference to type vars not shared on bound variables"
   ]
  },
  {
   "cell_type": "code",
   "execution_count": 86,
   "metadata": {
    "collapsed": false
   },
   "outputs": [
    {
     "data": {
      "text/latex": [
       "$[\\lambda{} x_{e} \\: . \\: ({P}({A}_{e}) \\wedge{} {Q}({x}_{e}))]([\\lambda{} x_{e} \\: . \\: {x}_{e}]({A}_{e}))$"
      ],
      "text/plain": [
       "((λ x_e: (P_<e,t>(A_e) & Q_<e,t>(x_e))))(((λ x_e: x_e))(A_e))"
      ]
     },
     "execution_count": 86,
     "metadata": {},
     "output_type": "execute_result"
    }
   ],
   "source": [
    "%te (L x_X : P_<Y,t>(A_Y) & Q_<X,t>(x_e))((L x_Y : x)(A_Y))"
   ]
  },
  {
   "cell_type": "code",
   "execution_count": 87,
   "metadata": {
    "collapsed": false
   },
   "outputs": [
    {
     "name": "stderr",
     "output_type": "stream",
     "text": [
      "INFO (meta): Coerced guessed type t for 'Saw_t' into <(e,e),t>, to match argument '(y_e, x_e)'\n"
     ]
    },
    {
     "data": {
      "text/latex": [
       "$[\\lambda{} g_{\\langle{}e,\\langle{}e,t\\rangle{}\\rangle{}} \\: . \\: \\lambda{} f_{\\langle{}X,e\\rangle{}} \\: . \\: \\lambda{} x_{X} \\: . \\: {g}_{\\langle{}e,\\langle{}e,t\\rangle{}\\rangle{}}({f}_{\\langle{}X,e\\rangle{}}({x}_{X}))](\\lambda{} x_{e} \\: . \\: \\lambda{} y_{e} \\: . \\: {Saw}({y}_{e}, {x}_{e}))$"
      ],
      "text/plain": [
       "((λ g_<e,<e,t>>: (λ f_<X,e>: (λ x_X: g_<e,<e,t>>(f_<X,e>(x_X))))))((λ x_e: (λ y_e: Saw_<(e,e),t>(y_e, x_e))))"
      ]
     },
     "execution_count": 87,
     "metadata": {},
     "output_type": "execute_result"
    }
   ],
   "source": [
    "# ex of geach rule: complex inference to parts of function\n",
    "%te (λ g_<Y,Z>: (λ f_<X,Y>: (λ x_X: g_<Y,Z>(f_<X,Y>(x_X)))))(L x_e : L y_e : Saw(y,x))"
   ]
  },
  {
   "cell_type": "code",
   "execution_count": null,
   "metadata": {
    "collapsed": true
   },
   "outputs": [],
   "source": []
  }
 ],
 "metadata": {
  "kernelspec": {
   "display_name": "Lambda Notebook (Python 3)",
   "language": "python",
   "name": "lambda-notebook"
  },
  "language_info": {
   "codemirror_mode": {
    "name": "ipython",
    "version": 3
   },
   "file_extension": ".py",
   "mimetype": "text/x-python",
   "name": "python",
   "nbconvert_exporter": "python",
   "pygments_lexer": "ipython3",
   "version": "3.5.1"
  }
 },
 "nbformat": 4,
 "nbformat_minor": 0
}
