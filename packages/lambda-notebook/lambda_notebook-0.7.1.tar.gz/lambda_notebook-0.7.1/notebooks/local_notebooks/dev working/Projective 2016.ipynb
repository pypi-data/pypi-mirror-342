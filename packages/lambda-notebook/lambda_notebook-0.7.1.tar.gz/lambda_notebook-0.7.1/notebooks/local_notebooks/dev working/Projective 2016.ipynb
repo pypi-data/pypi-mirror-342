{
 "cells": [
  {
   "cell_type": "code",
   "execution_count": null,
   "metadata": {
    "collapsed": false
   },
   "outputs": [],
   "source": [
    "reload_lamb()"
   ]
  },
  {
   "cell_type": "markdown",
   "metadata": {},
   "source": [
    "## Metalanguage strategy 1: multidimensional types\n",
    "\n",
    "This is roughly adapted from Potts' dissertation.  The basic idea is to model directly in the metalanguage the side-computation of presuppositions in tandem with the ordinary meaning.  This requires two adjustments:\n",
    "* lift all instances of type `t` to be type `(t,t)`.  There is no easy and simple way to do this automatically.\n",
    "* allow in general for types to be either `X` or `(X,t)` for arbitrary `X`.  This is a bit easier to generalize.\n",
    "\n",
    "A consequence of this strategy is that any item that interacts with functional types must be completely explicit about what happens with presuppositions from its arguments."
   ]
  },
  {
   "cell_type": "markdown",
   "metadata": {},
   "source": [
    "Some sample presupposition items:"
   ]
  },
  {
   "cell_type": "code",
   "execution_count": 1,
   "metadata": {
    "collapsed": false
   },
   "outputs": [
    {
     "name": "stdout",
     "output_type": "stream",
     "text": [
      "INFO (meta): Coerced guessed type for 'Salient_t' into <e,t>, to match argument 'J_e'\n",
      "INFO (meta): Coerced guessed type for 'Doctor_t' into <e,t>, to match argument 'x_e'\n",
      "INFO (meta): Coerced guessed type for 'Human_t' into <e,t>, to match argument 'x_e'\n",
      "INFO (meta): Coerced guessed type for 'Saw_t' into <(e,e),t>, to match argument '(y_e, x_e)'\n",
      "INFO (meta): Coerced guessed type for 'PhysExistence_t' into <e,t>, to match argument 'x_e'\n",
      "INFO (meta): Coerced guessed type for 'HasVisualSystem_t' into <e,t>, to match argument 'y_e'\n"
     ]
    },
    {
     "data": {
      "text/html": [
       "$[\\![\\mathbf{\\text{john}}]\\!]^{}_{\\left(e, t\\right)} \\:=\\: $$({J}_{e}, {Salient}({J}_{e}))$<br />\n",
       "$[\\![\\mathbf{\\text{doctor}}]\\!]^{}_{\\left\\langle{}e,\\left(t, t\\right)\\right\\rangle{}} \\:=\\: $$\\lambda{} x_{e} \\: . \\: ({Doctor}({x}), {Human}({x}))$<br />\n",
       "$[\\![\\mathbf{\\text{saw}}]\\!]^{}_{\\left\\langle{}e,\\left\\langle{}e,\\left(t, t\\right)\\right\\rangle{}\\right\\rangle{}} \\:=\\: $$\\lambda{} x_{e} \\: . \\: \\lambda{} y_{e} \\: . \\: ({Saw}({y}, {x}), ({PhysExistence}({x}) \\wedge{} {HasVisualSystem}({y})))$<br />\n",
       "$[\\![\\mathbf{\\text{the}}]\\!]^{}_{\\left\\langle{}\\left\\langle{}e,\\left(t, t\\right)\\right\\rangle{},\\left(e, t\\right)\\right\\rangle{}} \\:=\\: $$\\lambda{} f_{\\left\\langle{}e,\\left(t, t\\right)\\right\\rangle{}} \\: . \\: (\\iota{} x_{e} \\: . \\: (({f}({x})[{0}]) \\wedge{} ({f}({x})[{1}])), \\exists{}! x_{e} \\: . \\: (({f}({x})[{0}]) \\wedge{} ({f}({x})[{1}])))$"
      ],
      "text/latex": [
       "$[\\![\\mathbf{\\text{john}}]\\!]^{}_{\\left(e, t\\right)} \\:=\\: $$({J}_{e}, {Salient}({J}_{e}))$<br />\n",
       "$[\\![\\mathbf{\\text{doctor}}]\\!]^{}_{\\left\\langle{}e,\\left(t, t\\right)\\right\\rangle{}} \\:=\\: $$\\lambda{} x_{e} \\: . \\: ({Doctor}({x}), {Human}({x}))$<br />\n",
       "$[\\![\\mathbf{\\text{saw}}]\\!]^{}_{\\left\\langle{}e,\\left\\langle{}e,\\left(t, t\\right)\\right\\rangle{}\\right\\rangle{}} \\:=\\: $$\\lambda{} x_{e} \\: . \\: \\lambda{} y_{e} \\: . \\: ({Saw}({y}, {x}), ({PhysExistence}({x}) \\wedge{} {HasVisualSystem}({y})))$<br />\n",
       "$[\\![\\mathbf{\\text{the}}]\\!]^{}_{\\left\\langle{}\\left\\langle{}e,\\left(t, t\\right)\\right\\rangle{},\\left(e, t\\right)\\right\\rangle{}} \\:=\\: $$\\lambda{} f_{\\left\\langle{}e,\\left(t, t\\right)\\right\\rangle{}} \\: . \\: (\\iota{} x_{e} \\: . \\: (({f}({x})[{0}]) \\wedge{} ({f}({x})[{1}])), \\exists{}! x_{e} \\: . \\: (({f}({x})[{0}]) \\wedge{} ({f}({x})[{1}])))$"
      ],
      "text/plain": [
       "$[\\![\\mathbf{\\text{john}}]\\!]^{}_{\\left(e, t\\right)} \\:=\\: $$({J}_{e}, {Salient}({J}_{e}))$<br />\n",
       "$[\\![\\mathbf{\\text{doctor}}]\\!]^{}_{\\left\\langle{}e,\\left(t, t\\right)\\right\\rangle{}} \\:=\\: $$\\lambda{} x_{e} \\: . \\: ({Doctor}({x}), {Human}({x}))$<br />\n",
       "$[\\![\\mathbf{\\text{saw}}]\\!]^{}_{\\left\\langle{}e,\\left\\langle{}e,\\left(t, t\\right)\\right\\rangle{}\\right\\rangle{}} \\:=\\: $$\\lambda{} x_{e} \\: . \\: \\lambda{} y_{e} \\: . \\: ({Saw}({y}, {x}), ({PhysExistence}({x}) \\wedge{} {HasVisualSystem}({y})))$<br />\n",
       "$[\\![\\mathbf{\\text{the}}]\\!]^{}_{\\left\\langle{}\\left\\langle{}e,\\left(t, t\\right)\\right\\rangle{},\\left(e, t\\right)\\right\\rangle{}} \\:=\\: $$\\lambda{} f_{\\left\\langle{}e,\\left(t, t\\right)\\right\\rangle{}} \\: . \\: (\\iota{} x_{e} \\: . \\: (({f}({x})[{0}]) \\wedge{} ({f}({x})[{1}])), \\exists{}! x_{e} \\: . \\: (({f}({x})[{0}]) \\wedge{} ({f}({x})[{1}])))$"
      ]
     },
     "execution_count": 1,
     "metadata": {},
     "output_type": "execute_result"
    }
   ],
   "source": [
    "%%lamb\n",
    "||john|| = (J_e, Salient(J_e))\n",
    "||doctor|| = L x_e : (Doctor(x), Human(x))\n",
    "||saw|| = L x_e : L y_e : (Saw(y,x), PhysExistence(x) & HasVisualSystem(y))\n",
    "||the|| = L f_<e,(t,t)> : ((Iota x_e : f(x)[0] & f(x)[1]), (ExistsExact x_e : f(x)[0] & f(x)[1]))"
   ]
  },
  {
   "cell_type": "markdown",
   "metadata": {},
   "source": [
    "Manually lifting all instances of type `t` up to `(t,t)` is reasonably straightforward, you just have to remember to do it."
   ]
  },
  {
   "cell_type": "code",
   "execution_count": 2,
   "metadata": {
    "collapsed": false
   },
   "outputs": [
    {
     "name": "stdout",
     "output_type": "stream",
     "text": [
      "INFO (meta): Coerced guessed type for 'Doctor_t' into <e,t>, to match argument 'x_e'\n",
      "INFO (meta): Coerced guessed type for 'Saw_t' into <(e,e),t>, to match argument '(y_e, x_e)'\n"
     ]
    },
    {
     "data": {
      "text/html": [
       "$[\\![\\mathbf{\\text{john2}}]\\!]^{}_{e} \\:=\\: $${J}_{e}$<br />\n",
       "$[\\![\\mathbf{\\text{doctor2}}]\\!]^{}_{\\left\\langle{}e,\\left(t, t\\right)\\right\\rangle{}} \\:=\\: $$\\lambda{} x_{e} \\: . \\: ({Doctor}({x}), {True}_{t})$<br />\n",
       "$[\\![\\mathbf{\\text{saw2}}]\\!]^{}_{\\left\\langle{}e,\\left\\langle{}e,\\left(t, t\\right)\\right\\rangle{}\\right\\rangle{}} \\:=\\: $$\\lambda{} x_{e} \\: . \\: \\lambda{} y_{e} \\: . \\: ({Saw}({y}, {x}), {True}_{t})$"
      ],
      "text/latex": [
       "$[\\![\\mathbf{\\text{john2}}]\\!]^{}_{e} \\:=\\: $${J}_{e}$<br />\n",
       "$[\\![\\mathbf{\\text{doctor2}}]\\!]^{}_{\\left\\langle{}e,\\left(t, t\\right)\\right\\rangle{}} \\:=\\: $$\\lambda{} x_{e} \\: . \\: ({Doctor}({x}), {True}_{t})$<br />\n",
       "$[\\![\\mathbf{\\text{saw2}}]\\!]^{}_{\\left\\langle{}e,\\left\\langle{}e,\\left(t, t\\right)\\right\\rangle{}\\right\\rangle{}} \\:=\\: $$\\lambda{} x_{e} \\: . \\: \\lambda{} y_{e} \\: . \\: ({Saw}({y}, {x}), {True}_{t})$"
      ],
      "text/plain": [
       "$[\\![\\mathbf{\\text{john2}}]\\!]^{}_{e} \\:=\\: $${J}_{e}$<br />\n",
       "$[\\![\\mathbf{\\text{doctor2}}]\\!]^{}_{\\left\\langle{}e,\\left(t, t\\right)\\right\\rangle{}} \\:=\\: $$\\lambda{} x_{e} \\: . \\: ({Doctor}({x}), {True}_{t})$<br />\n",
       "$[\\![\\mathbf{\\text{saw2}}]\\!]^{}_{\\left\\langle{}e,\\left\\langle{}e,\\left(t, t\\right)\\right\\rangle{}\\right\\rangle{}} \\:=\\: $$\\lambda{} x_{e} \\: . \\: \\lambda{} y_{e} \\: . \\: ({Saw}({y}, {x}), {True}_{t})$"
      ]
     },
     "execution_count": 2,
     "metadata": {},
     "output_type": "execute_result"
    }
   ],
   "source": [
    "%%lamb\n",
    "||john2|| = J_e\n",
    "||doctor2|| = L x_e : (Doctor(x), True)\n",
    "||saw2|| = L x_e : L y_e : (Saw(y,x), True)"
   ]
  },
  {
   "cell_type": "markdown",
   "metadata": {},
   "source": [
    "A version of functional application that combines lifted types:"
   ]
  },
  {
   "cell_type": "code",
   "execution_count": 3,
   "metadata": {
    "collapsed": false
   },
   "outputs": [
    {
     "data": {
      "text/html": [
       "Composition system 'H&K simple (copy)'<br />Operations: {<br />&nbsp;&nbsp;&nbsp;&nbsp;Binary composition rule <i>PA</i>, built on python function 'lamb.lang.pa_fun'<br />&nbsp;&nbsp;&nbsp;&nbsp;Binary composition rule <i>pair-combine</i>, built on python function '__main__.paircombine'<br />&nbsp;&nbsp;&nbsp;&nbsp;Binary composition rule <i>PresupPM</i>, built on combinator '$\\lambda{} f_{\\left\\langle{}e,\\left(t, t\\right)\\right\\rangle{}} \\: . \\: \\lambda{} g_{\\left\\langle{}e,\\left(t, t\\right)\\right\\rangle{}} \\: . \\: \\lambda{} x_{e} \\: . \\: ((({f}({x})[{0}]) \\wedge{} ({g}({x})[{0}])), (({f}({x})[{1}]) \\wedge{} ({g}({x})[{1}])))$'<br />}"
      ],
      "text/plain": [
       "Composition system: H&K simple (copy)"
      ]
     },
     "execution_count": 3,
     "metadata": {},
     "output_type": "execute_result"
    }
   ],
   "source": [
    "def unpack(x):\n",
    "    if isinstance(x, meta.Tuple):\n",
    "        return (x[1], x[2])\n",
    "    else:\n",
    "        return (x, meta.true_term)\n",
    "\n",
    "def paircombine(f, a):\n",
    "    ftup = unpack(f)\n",
    "    atup = unpack(a)\n",
    "    result_left_tup = unpack(ftup[0](atup[0]).reduce_all())\n",
    "    result_right = (ftup[1] & atup[1] & result_left_tup[1]).simplify_all()\n",
    "    result = meta.Tuple((result_left_tup[0], result_right))\n",
    "    #result = (result_left_tup[0], result_right)\n",
    "    return result\n",
    "\n",
    "# PM generalized to type `<e,(t,t)>`.  Regular PM won't do what I need.\n",
    "presup_pm = %te L f_<e,(t,t)> : L g_<e,(t,t)> : L x_e : (f(x)[0] & g(x)[0], f(x)[1] & g(x)[1])\n",
    "\n",
    "system = lang.td_system.copy()\n",
    "system.add_binary_rule_uncurried(paircombine, \"pair-combine\")\n",
    "system.remove_rule(\"PM\")\n",
    "system.add_binary_rule(presup_pm, \"PresupPM\", commutative=True)\n",
    "system.remove_rule(\"FA\")\n",
    "lang.set_system(system)\n",
    "system"
   ]
  },
  {
   "cell_type": "code",
   "execution_count": 6,
   "metadata": {
    "collapsed": false
   },
   "outputs": [
    {
     "data": {
      "text/html": [
       "1 composition path.  Result:\n",
       "<br />&nbsp;&nbsp;&nbsp;&nbsp;[0]: $[\\![\\mathbf{\\text{[doctor john]}}]\\!]^{}_{\\left(t, t\\right)} \\:=\\: $$({Doctor}({J}_{e}), ({Salient}({J}_{e}) \\wedge{} {Human}({J}_{e})))$"
      ],
      "text/plain": [
       "CompositionResult(results=[⟦[doctor john]⟧ = (Doctor_<e,t>(J_e), (Salient_<e,t>(J_e) & Human_<e,t>(J_e)))], failures=[⟦[john doctor]⟧ = Type mismatch: '⟦john⟧ = (J_e, Salient_<e,t>(J_e))'/(e,t) and '⟦doctor⟧ = (λ x_e: (Doctor_<e,t>(x_e), Human_<e,t>(x_e)))'/<e,(t,t)> conflict (mode: Predicate Abstraction), ⟦[doctor john]⟧ = Type mismatch: '⟦doctor⟧ = (λ x_e: (Doctor_<e,t>(x_e), Human_<e,t>(x_e)))'/<e,(t,t)> and '⟦john⟧ = (J_e, Salient_<e,t>(J_e))'/(e,t) conflict (mode: Predicate Abstraction), ⟦[john doctor]⟧ = Type mismatch: 'J_e'/e and '(λ x_e: (Doctor_<e,t>(x_e), Human_<e,t>(x_e)))'/<e,(t,t)> conflict (mode: Function argument combination (unification failed)), ⟦[john doctor]⟧ = Type mismatch: '(λ f_<e,(t,t)>: (λ g_<e,(t,t)>: (λ x_e: (((f_<e,(t,t)>(x_e)[0_n]) & (g_<e,(t,t)>(x_e)[0_n])), ((f_<e,(t,t)>(x_e)[1_n]) & (g_<e,(t,t)>(x_e)[1_n]))))))'/<<e,(t,t)>,<<e,(t,t)>,<e,(t,t)>>> and '(J_e, Salient_<e,t>(J_e))'/(e,t) conflict (mode: Function argument combination (unification failed))])"
      ]
     },
     "execution_count": 6,
     "metadata": {},
     "output_type": "execute_result"
    }
   ],
   "source": [
    "john * doctor"
   ]
  },
  {
   "cell_type": "code",
   "execution_count": 7,
   "metadata": {
    "collapsed": false
   },
   "outputs": [
    {
     "data": {
      "text/html": [
       "1 composition path.  Result:\n",
       "<br />&nbsp;&nbsp;&nbsp;&nbsp;[0]: $[\\![\\mathbf{\\text{[[saw [the doctor]] john]}}]\\!]^{}_{\\left(t, t\\right)} \\:=\\: $$({Saw}({J}_{e}, \\iota{} x_{e} \\: . \\: ({Doctor}({x}) \\wedge{} {Human}({x}))), ((\\exists{}! x_{e} \\: . \\: ({Doctor}({x}) \\wedge{} {Human}({x})) \\wedge{} {Salient}({J}_{e})) \\wedge{} ({PhysExistence}(\\iota{} x_{e} \\: . \\: ({Doctor}({x}) \\wedge{} {Human}({x}))) \\wedge{} {HasVisualSystem}({J}_{e}))))$"
      ],
      "text/plain": [
       "CompositionResult(results=[⟦[[saw [the doctor]] john]⟧ = (Saw_<(e,e),t>(J_e, (ι x_e: (Doctor_<e,t>(x_e) & Human_<e,t>(x_e)))), (((ExistsExact x_e: (Doctor_<e,t>(x_e) & Human_<e,t>(x_e))) & Salient_<e,t>(J_e)) & (PhysExistence_<e,t>((ι x_e: (Doctor_<e,t>(x_e) & Human_<e,t>(x_e)))) & HasVisualSystem_<e,t>(J_e))))], failures=[⟦[john [saw [the doctor]]]⟧ = Type mismatch: '⟦john⟧ = (J_e, Salient_<e,t>(J_e))'/(e,t) and '⟦[saw [the doctor]]⟧ = ((λ y_e: (Saw_<(e,e),t>(y_e, (ι x_e: (Doctor_<e,t>(x_e) & Human_<e,t>(x_e)))), (PhysExistence_<e,t>((ι x_e: (Doctor_<e,t>(x_e) & Human_<e,t>(x_e)))) & HasVisualSystem_<e,t>(y_e)))), (ExistsExact x_e: (Doctor_<e,t>(x_e) & Human_<e,t>(x_e))))'/(<e,(t,t)>,t) conflict (mode: Predicate Abstraction), ⟦[[saw [the doctor]] john]⟧ = Type mismatch: '⟦[saw [the doctor]]⟧ = ((λ y_e: (Saw_<(e,e),t>(y_e, (ι x_e: (Doctor_<e,t>(x_e) & Human_<e,t>(x_e)))), (PhysExistence_<e,t>((ι x_e: (Doctor_<e,t>(x_e) & Human_<e,t>(x_e)))) & HasVisualSystem_<e,t>(y_e)))), (ExistsExact x_e: (Doctor_<e,t>(x_e) & Human_<e,t>(x_e))))'/(<e,(t,t)>,t) and '⟦john⟧ = (J_e, Salient_<e,t>(J_e))'/(e,t) conflict (mode: Predicate Abstraction), ⟦[john [saw [the doctor]]]⟧ = Type mismatch: 'J_e'/e and '(λ y_e: (Saw_<(e,e),t>(y_e, (ι x_e: (Doctor_<e,t>(x_e) & Human_<e,t>(x_e)))), (PhysExistence_<e,t>((ι x_e: (Doctor_<e,t>(x_e) & Human_<e,t>(x_e)))) & HasVisualSystem_<e,t>(y_e))))'/<e,(t,t)> conflict (mode: Function argument combination (unification failed)), ⟦[john [saw [the doctor]]]⟧ = Type mismatch: '(λ f_<e,(t,t)>: (λ g_<e,(t,t)>: (λ x_e: (((f_<e,(t,t)>(x_e)[0_n]) & (g_<e,(t,t)>(x_e)[0_n])), ((f_<e,(t,t)>(x_e)[1_n]) & (g_<e,(t,t)>(x_e)[1_n]))))))'/<<e,(t,t)>,<<e,(t,t)>,<e,(t,t)>>> and '(J_e, Salient_<e,t>(J_e))'/(e,t) conflict (mode: Function argument combination (unification failed))])"
      ]
     },
     "execution_count": 7,
     "metadata": {},
     "output_type": "execute_result"
    }
   ],
   "source": [
    "(john * (saw * (the * doctor)))"
   ]
  },
  {
   "cell_type": "code",
   "execution_count": 8,
   "metadata": {
    "collapsed": false
   },
   "outputs": [
    {
     "data": {
      "text/html": [
       "1 composition path.  Result:\n",
       "<br />&nbsp;&nbsp;&nbsp;&nbsp;[0]: $[\\![\\mathbf{\\text{[[saw2 [the doctor2]] john2]}}]\\!]^{}_{\\left(t, t\\right)} \\:=\\: $$({Saw}({J}_{e}, \\iota{} x_{e} \\: . \\: {Doctor}({x})), \\exists{}! x_{e} \\: . \\: {Doctor}({x}))$"
      ],
      "text/plain": [
       "CompositionResult(results=[⟦[[saw2 [the doctor2]] john2]⟧ = (Saw_<(e,e),t>(J_e, (ι x_e: Doctor_<e,t>(x_e))), (ExistsExact x_e: Doctor_<e,t>(x_e)))], failures=[⟦[john2 [saw2 [the doctor2]]]⟧ = Type mismatch: '⟦john2⟧ = J_e'/e and '⟦[saw2 [the doctor2]]⟧ = ((λ y_e: (Saw_<(e,e),t>(y_e, (ι x_e: Doctor_<e,t>(x_e))), True_t)), (ExistsExact x_e: Doctor_<e,t>(x_e)))'/(<e,(t,t)>,t) conflict (mode: Predicate Abstraction), ⟦[[saw2 [the doctor2]] john2]⟧ = Type mismatch: '⟦[saw2 [the doctor2]]⟧ = ((λ y_e: (Saw_<(e,e),t>(y_e, (ι x_e: Doctor_<e,t>(x_e))), True_t)), (ExistsExact x_e: Doctor_<e,t>(x_e)))'/(<e,(t,t)>,t) and '⟦john2⟧ = J_e'/e conflict (mode: Predicate Abstraction), ⟦[john2 [saw2 [the doctor2]]]⟧ = Type mismatch: 'J_e'/e and '(λ y_e: (Saw_<(e,e),t>(y_e, (ι x_e: Doctor_<e,t>(x_e))), True_t))'/<e,(t,t)> conflict (mode: Function argument combination (unification failed)), ⟦[john2 [saw2 [the doctor2]]]⟧ = Type mismatch: '(λ f_<e,(t,t)>: (λ g_<e,(t,t)>: (λ x_e: (((f_<e,(t,t)>(x_e)[0_n]) & (g_<e,(t,t)>(x_e)[0_n])), ((f_<e,(t,t)>(x_e)[1_n]) & (g_<e,(t,t)>(x_e)[1_n]))))))'/<<e,(t,t)>,<<e,(t,t)>,<e,(t,t)>>> and 'J_e'/e conflict (mode: Function argument combination (unification failed))])"
      ]
     },
     "execution_count": 8,
     "metadata": {},
     "output_type": "execute_result"
    }
   ],
   "source": [
    "(john2 * (saw2 * (the * doctor2)))"
   ]
  },
  {
   "cell_type": "markdown",
   "metadata": {},
   "source": [
    "The above system only handles lifting of the whole type of a function or argument up to `(X,t)`.  This leads to problems with certain unlifted types:"
   ]
  },
  {
   "cell_type": "code",
   "execution_count": 9,
   "metadata": {
    "collapsed": false
   },
   "outputs": [
    {
     "name": "stdout",
     "output_type": "stream",
     "text": [
      "INFO (meta): Coerced guessed type for 'Doctor_t' into <e,t>, to match argument 'x_e'\n",
      "INFO (meta): Coerced guessed type for 'Saw_t' into <(e,e),t>, to match argument '(y_e, x_e)'\n"
     ]
    },
    {
     "data": {
      "text/html": [
       "$[\\![\\mathbf{\\text{john3}}]\\!]^{}_{e} \\:=\\: $${J}_{e}$<br />\n",
       "$[\\![\\mathbf{\\text{doctor3}}]\\!]^{}_{\\left\\langle{}e,t\\right\\rangle{}} \\:=\\: $$\\lambda{} x_{e} \\: . \\: {Doctor}({x})$<br />\n",
       "$[\\![\\mathbf{\\text{saw3}}]\\!]^{}_{\\left\\langle{}e,\\left\\langle{}e,t\\right\\rangle{}\\right\\rangle{}} \\:=\\: $$\\lambda{} x_{e} \\: . \\: \\lambda{} y_{e} \\: . \\: {Saw}({y}, {x})$"
      ],
      "text/latex": [
       "$[\\![\\mathbf{\\text{john3}}]\\!]^{}_{e} \\:=\\: $${J}_{e}$<br />\n",
       "$[\\![\\mathbf{\\text{doctor3}}]\\!]^{}_{\\left\\langle{}e,t\\right\\rangle{}} \\:=\\: $$\\lambda{} x_{e} \\: . \\: {Doctor}({x})$<br />\n",
       "$[\\![\\mathbf{\\text{saw3}}]\\!]^{}_{\\left\\langle{}e,\\left\\langle{}e,t\\right\\rangle{}\\right\\rangle{}} \\:=\\: $$\\lambda{} x_{e} \\: . \\: \\lambda{} y_{e} \\: . \\: {Saw}({y}, {x})$"
      ],
      "text/plain": [
       "$[\\![\\mathbf{\\text{john3}}]\\!]^{}_{e} \\:=\\: $${J}_{e}$<br />\n",
       "$[\\![\\mathbf{\\text{doctor3}}]\\!]^{}_{\\left\\langle{}e,t\\right\\rangle{}} \\:=\\: $$\\lambda{} x_{e} \\: . \\: {Doctor}({x})$<br />\n",
       "$[\\![\\mathbf{\\text{saw3}}]\\!]^{}_{\\left\\langle{}e,\\left\\langle{}e,t\\right\\rangle{}\\right\\rangle{}} \\:=\\: $$\\lambda{} x_{e} \\: . \\: \\lambda{} y_{e} \\: . \\: {Saw}({y}, {x})$"
      ]
     },
     "execution_count": 9,
     "metadata": {},
     "output_type": "execute_result"
    }
   ],
   "source": [
    "%%lamb\n",
    "||john3|| = J_e\n",
    "||doctor3|| = L x_e : Doctor(x)\n",
    "||saw3|| = L x_e : L y_e : Saw(y,x)"
   ]
  },
  {
   "cell_type": "code",
   "execution_count": 10,
   "metadata": {
    "collapsed": false
   },
   "outputs": [
    {
     "data": {
      "text/html": [
       "Composition failed.  Attempts:<br />\n",
       "&nbsp;&nbsp;&nbsp;&nbsp;<span style=\"color:red\">Type mismatch</span>: '$[\\![\\mathbf{\\text{the}}]\\!]^{}_{\\left\\langle{}\\left\\langle{}e,\\left(t, t\\right)\\right\\rangle{},\\left(e, t\\right)\\right\\rangle{}} \\:=\\: $$\\lambda{} f_{\\left\\langle{}e,\\left(t, t\\right)\\right\\rangle{}} \\: . \\: (\\iota{} x_{e} \\: . \\: (({f}({x})[{0}]) \\wedge{} ({f}({x})[{1}])), \\exists{}! x_{e} \\: . \\: (({f}({x})[{0}]) \\wedge{} ({f}({x})[{1}])))$'/$\\left\\langle{}\\left\\langle{}e,\\left(t, t\\right)\\right\\rangle{},\\left(e, t\\right)\\right\\rangle{}$ and '$[\\![\\mathbf{\\text{doctor3}}]\\!]^{}_{\\left\\langle{}e,t\\right\\rangle{}} \\:=\\: $$\\lambda{} x_{e} \\: . \\: {Doctor}({x})$'/$\\left\\langle{}e,t\\right\\rangle{}$ conflict (mode: Predicate Abstraction)<br />\n",
       "&nbsp;&nbsp;&nbsp;&nbsp;<span style=\"color:red\">Type mismatch</span>: '$[\\![\\mathbf{\\text{doctor3}}]\\!]^{}_{\\left\\langle{}e,t\\right\\rangle{}} \\:=\\: $$\\lambda{} x_{e} \\: . \\: {Doctor}({x})$'/$\\left\\langle{}e,t\\right\\rangle{}$ and '$[\\![\\mathbf{\\text{the}}]\\!]^{}_{\\left\\langle{}\\left\\langle{}e,\\left(t, t\\right)\\right\\rangle{},\\left(e, t\\right)\\right\\rangle{}} \\:=\\: $$\\lambda{} f_{\\left\\langle{}e,\\left(t, t\\right)\\right\\rangle{}} \\: . \\: (\\iota{} x_{e} \\: . \\: (({f}({x})[{0}]) \\wedge{} ({f}({x})[{1}])), \\exists{}! x_{e} \\: . \\: (({f}({x})[{0}]) \\wedge{} ({f}({x})[{1}])))$'/$\\left\\langle{}\\left\\langle{}e,\\left(t, t\\right)\\right\\rangle{},\\left(e, t\\right)\\right\\rangle{}$ conflict (mode: Predicate Abstraction)<br />\n",
       "&nbsp;&nbsp;&nbsp;&nbsp;<span style=\"color:red\">Type mismatch</span>: '$\\lambda{} f_{\\left\\langle{}e,\\left(t, t\\right)\\right\\rangle{}} \\: . \\: (\\iota{} x_{e} \\: . \\: (({f}({x})[{0}]) \\wedge{} ({f}({x})[{1}])), \\exists{}! x_{e} \\: . \\: (({f}({x})[{0}]) \\wedge{} ({f}({x})[{1}])))$'/$\\left\\langle{}\\left\\langle{}e,\\left(t, t\\right)\\right\\rangle{},\\left(e, t\\right)\\right\\rangle{}$ and '$\\lambda{} x_{e} \\: . \\: {Doctor}({x})$'/$\\left\\langle{}e,t\\right\\rangle{}$ conflict (mode: Function argument combination (unification failed))<br />\n",
       "&nbsp;&nbsp;&nbsp;&nbsp;<span style=\"color:red\">Type mismatch</span>: '$\\lambda{} x_{e} \\: . \\: {Doctor}({x})$'/$\\left\\langle{}e,t\\right\\rangle{}$ and '$\\lambda{} f_{\\left\\langle{}e,\\left(t, t\\right)\\right\\rangle{}} \\: . \\: (\\iota{} x_{e} \\: . \\: (({f}({x})[{0}]) \\wedge{} ({f}({x})[{1}])), \\exists{}! x_{e} \\: . \\: (({f}({x})[{0}]) \\wedge{} ({f}({x})[{1}])))$'/$\\left\\langle{}\\left\\langle{}e,\\left(t, t\\right)\\right\\rangle{},\\left(e, t\\right)\\right\\rangle{}$ conflict (mode: Function argument combination (unification failed))<br />\n",
       "&nbsp;&nbsp;&nbsp;&nbsp;<span style=\"color:red\">Type mismatch</span>: '$\\lambda{} f_{\\left\\langle{}e,\\left(t, t\\right)\\right\\rangle{}} \\: . \\: \\lambda{} g_{\\left\\langle{}e,\\left(t, t\\right)\\right\\rangle{}} \\: . \\: \\lambda{} x_{e} \\: . \\: ((({f}({x})[{0}]) \\wedge{} ({g}({x})[{0}])), (({f}({x})[{1}]) \\wedge{} ({g}({x})[{1}])))$'/$\\left\\langle{}\\left\\langle{}e,\\left(t, t\\right)\\right\\rangle{},\\left\\langle{}\\left\\langle{}e,\\left(t, t\\right)\\right\\rangle{},\\left\\langle{}e,\\left(t, t\\right)\\right\\rangle{}\\right\\rangle{}\\right\\rangle{}$ and '$\\lambda{} f_{\\left\\langle{}e,\\left(t, t\\right)\\right\\rangle{}} \\: . \\: (\\iota{} x_{e} \\: . \\: (({f}({x})[{0}]) \\wedge{} ({f}({x})[{1}])), \\exists{}! x_{e} \\: . \\: (({f}({x})[{0}]) \\wedge{} ({f}({x})[{1}])))$'/$\\left\\langle{}\\left\\langle{}e,\\left(t, t\\right)\\right\\rangle{},\\left(e, t\\right)\\right\\rangle{}$ conflict (mode: Function argument combination (unification failed))<br />\n"
      ],
      "text/plain": [
       "CompositionResult(results=[], failures=[⟦[the doctor3]⟧ = Type mismatch: '⟦the⟧ = (λ f_<e,(t,t)>: ((ι x_e: ((f_<e,(t,t)>(x_e)[0_n]) & (f_<e,(t,t)>(x_e)[1_n]))), (ExistsExact x_e: ((f_<e,(t,t)>(x_e)[0_n]) & (f_<e,(t,t)>(x_e)[1_n])))))'/<<e,(t,t)>,(e,t)> and '⟦doctor3⟧ = (λ x_e: Doctor_<e,t>(x_e))'/<e,t> conflict (mode: Predicate Abstraction), ⟦[doctor3 the]⟧ = Type mismatch: '⟦doctor3⟧ = (λ x_e: Doctor_<e,t>(x_e))'/<e,t> and '⟦the⟧ = (λ f_<e,(t,t)>: ((ι x_e: ((f_<e,(t,t)>(x_e)[0_n]) & (f_<e,(t,t)>(x_e)[1_n]))), (ExistsExact x_e: ((f_<e,(t,t)>(x_e)[0_n]) & (f_<e,(t,t)>(x_e)[1_n])))))'/<<e,(t,t)>,(e,t)> conflict (mode: Predicate Abstraction), ⟦[the doctor3]⟧ = Type mismatch: '(λ f_<e,(t,t)>: ((ι x_e: ((f_<e,(t,t)>(x_e)[0_n]) & (f_<e,(t,t)>(x_e)[1_n]))), (ExistsExact x_e: ((f_<e,(t,t)>(x_e)[0_n]) & (f_<e,(t,t)>(x_e)[1_n])))))'/<<e,(t,t)>,(e,t)> and '(λ x_e: Doctor_<e,t>(x_e))'/<e,t> conflict (mode: Function argument combination (unification failed)), ⟦[doctor3 the]⟧ = Type mismatch: '(λ x_e: Doctor_<e,t>(x_e))'/<e,t> and '(λ f_<e,(t,t)>: ((ι x_e: ((f_<e,(t,t)>(x_e)[0_n]) & (f_<e,(t,t)>(x_e)[1_n]))), (ExistsExact x_e: ((f_<e,(t,t)>(x_e)[0_n]) & (f_<e,(t,t)>(x_e)[1_n])))))'/<<e,(t,t)>,(e,t)> conflict (mode: Function argument combination (unification failed)), ⟦[the doctor3]⟧ = Type mismatch: '(λ f_<e,(t,t)>: (λ g_<e,(t,t)>: (λ x_e: (((f_<e,(t,t)>(x_e)[0_n]) & (g_<e,(t,t)>(x_e)[0_n])), ((f_<e,(t,t)>(x_e)[1_n]) & (g_<e,(t,t)>(x_e)[1_n]))))))'/<<e,(t,t)>,<<e,(t,t)>,<e,(t,t)>>> and '(λ f_<e,(t,t)>: ((ι x_e: ((f_<e,(t,t)>(x_e)[0_n]) & (f_<e,(t,t)>(x_e)[1_n]))), (ExistsExact x_e: ((f_<e,(t,t)>(x_e)[0_n]) & (f_<e,(t,t)>(x_e)[1_n])))))'/<<e,(t,t)>,(e,t)> conflict (mode: Function argument combination (unification failed))])"
      ]
     },
     "execution_count": 10,
     "metadata": {},
     "output_type": "execute_result"
    }
   ],
   "source": [
    "the * doctor3"
   ]
  },
  {
   "cell_type": "markdown",
   "metadata": {},
   "source": [
    "To deal with this, I will define a variant of $\\lambda$ that is guaranteed to return a tuple type `(X,t)`.  Otherwise this is just an ordinary $\\lambda$ binder."
   ]
  },
  {
   "cell_type": "code",
   "execution_count": 11,
   "metadata": {
    "collapsed": false
   },
   "outputs": [],
   "source": [
    "class PLFun(meta.LFun):\n",
    "    canonical_name = \"PLambda\"\n",
    "    secondary_names = {\"PL\", \"Pλ\", \"plambda\"}\n",
    "    op_name_uni=\"λ\"\n",
    "    op_name_latex=\"\\\\lambda{}\"\n",
    "\n",
    "    def __init__(self, var_or_vtype, body, varname=None, let=False, assignment=None, type_check=True):\n",
    "        if not (isinstance(body.type, types.TupleType) and len(body.type) == 2 and body.type[1] == types.type_t):\n",
    "            body = meta.Tuple((body, meta.true_term))\n",
    "        super().__init__(var_or_vtype=var_or_vtype, body=body, varname=varname, assignment=assignment, type_check=type_check)\n",
    "        \n",
    "meta.BindingOp.add_op(PLFun)"
   ]
  },
  {
   "cell_type": "code",
   "execution_count": 12,
   "metadata": {
    "collapsed": false
   },
   "outputs": [
    {
     "name": "stdout",
     "output_type": "stream",
     "text": [
      "INFO (meta): Coerced guessed type for 'Doctor_t' into <e,t>, to match argument 'x_e'\n",
      "INFO (meta): Coerced guessed type for 'Saw_t' into <(e,e),t>, to match argument '(y_e, x_e)'\n"
     ]
    },
    {
     "data": {
      "text/html": [
       "$[\\![\\mathbf{\\text{doctor4}}]\\!]^{}_{\\left\\langle{}e,\\left(t, t\\right)\\right\\rangle{}} \\:=\\: $$\\lambda{} x_{e} \\: . \\: ({Doctor}({x}), {True}_{t})$<br />\n",
       "$[\\![\\mathbf{\\text{saw4}}]\\!]^{}_{\\left\\langle{}e,\\left(\\left\\langle{}e,\\left(t, t\\right)\\right\\rangle{}, t\\right)\\right\\rangle{}} \\:=\\: $$\\lambda{} x_{e} \\: . \\: (\\lambda{} y_{e} \\: . \\: ({Saw}({y}, {x}), {True}_{t}), {True}_{t})$"
      ],
      "text/latex": [
       "$[\\![\\mathbf{\\text{doctor4}}]\\!]^{}_{\\left\\langle{}e,\\left(t, t\\right)\\right\\rangle{}} \\:=\\: $$\\lambda{} x_{e} \\: . \\: ({Doctor}({x}), {True}_{t})$<br />\n",
       "$[\\![\\mathbf{\\text{saw4}}]\\!]^{}_{\\left\\langle{}e,\\left(\\left\\langle{}e,\\left(t, t\\right)\\right\\rangle{}, t\\right)\\right\\rangle{}} \\:=\\: $$\\lambda{} x_{e} \\: . \\: (\\lambda{} y_{e} \\: . \\: ({Saw}({y}, {x}), {True}_{t}), {True}_{t})$"
      ],
      "text/plain": [
       "$[\\![\\mathbf{\\text{doctor4}}]\\!]^{}_{\\left\\langle{}e,\\left(t, t\\right)\\right\\rangle{}} \\:=\\: $$\\lambda{} x_{e} \\: . \\: ({Doctor}({x}), {True}_{t})$<br />\n",
       "$[\\![\\mathbf{\\text{saw4}}]\\!]^{}_{\\left\\langle{}e,\\left(\\left\\langle{}e,\\left(t, t\\right)\\right\\rangle{}, t\\right)\\right\\rangle{}} \\:=\\: $$\\lambda{} x_{e} \\: . \\: (\\lambda{} y_{e} \\: . \\: ({Saw}({y}, {x}), {True}_{t}), {True}_{t})$"
      ]
     },
     "execution_count": 12,
     "metadata": {},
     "output_type": "execute_result"
    }
   ],
   "source": [
    "%%lamb\n",
    "||doctor4|| = PL x_e : Doctor(x)\n",
    "||saw4|| = PL x_e : PL y_e : Saw(y,x)"
   ]
  },
  {
   "cell_type": "code",
   "execution_count": null,
   "metadata": {
    "collapsed": false
   },
   "outputs": [],
   "source": [
    "john * (saw4 * (the * doctor4))"
   ]
  },
  {
   "cell_type": "markdown",
   "metadata": {},
   "source": [
    "### A complicated case\n",
    "\n",
    "One of the tricky things about presuppositional grammars is that you have to be completely explicit about all sorts of cases where the data is actually not that clear.  One such family of cases is any item that binds variables, such as quantificational determiners.  The reason you need to be explicit is that such operators may bind into presuppositions.  For example, (1) instantiates a fairly complicated case:\n",
    "\n",
    "    (1) Every student that likes his brother likes his sister.\n",
    "\n",
    "Here are some plausible inferences from (1):\n",
    "\n",
    "* Every student is male.\n",
    "* If a student has a brother, that student has a sister.\n",
    "* Every student has a brother. (?)\n",
    "* If a student likes his brother, that student has a sister. (?)\n",
    "* Every student has a sister. (??)\n",
    "\n",
    "It is _extremely_ hard to get all of these, but also somewhat unclear if one should.  The following entry for `every` gets the first two.  The fourth could be gotten by adding `Forall x_e : f(x)[0] ==> g(x)[1]` as a conjunct to the presupposition, but it requires a version of Iota that works in a presupposition.  The third and fifth, if desireable, need a completely different strategy (further modification of the PM rule)."
   ]
  },
  {
   "cell_type": "code",
   "execution_count": 13,
   "metadata": {
    "collapsed": false
   },
   "outputs": [
    {
     "data": {
      "text/html": [
       "$[\\![\\mathbf{\\text{every}}]\\!]^{}_{\\left\\langle{}\\left\\langle{}e,\\left(t, t\\right)\\right\\rangle{},\\left\\langle{}\\left\\langle{}e,\\left(t, t\\right)\\right\\rangle{},\\left(t, t\\right)\\right\\rangle{}\\right\\rangle{}} \\:=\\: $$\\lambda{} f_{\\left\\langle{}e,\\left(t, t\\right)\\right\\rangle{}} \\: . \\: \\lambda{} g_{\\left\\langle{}e,\\left(t, t\\right)\\right\\rangle{}} \\: . \\: (\\forall{} x_{e} \\: . \\: ((({f}({x})[{0}]) \\wedge{} ({f}({x})[{1}])) \\rightarrow{} ({g}({x})[{0}])), \\forall{} x_{e} \\: . \\: (({f}({x})[{1}]) \\rightarrow{} ({g}({x})[{1}])))$"
      ],
      "text/latex": [
       "$[\\![\\mathbf{\\text{every}}]\\!]^{}_{\\left\\langle{}\\left\\langle{}e,\\left(t, t\\right)\\right\\rangle{},\\left\\langle{}\\left\\langle{}e,\\left(t, t\\right)\\right\\rangle{},\\left(t, t\\right)\\right\\rangle{}\\right\\rangle{}} \\:=\\: $$\\lambda{} f_{\\left\\langle{}e,\\left(t, t\\right)\\right\\rangle{}} \\: . \\: \\lambda{} g_{\\left\\langle{}e,\\left(t, t\\right)\\right\\rangle{}} \\: . \\: (\\forall{} x_{e} \\: . \\: ((({f}({x})[{0}]) \\wedge{} ({f}({x})[{1}])) \\rightarrow{} ({g}({x})[{0}])), \\forall{} x_{e} \\: . \\: (({f}({x})[{1}]) \\rightarrow{} ({g}({x})[{1}])))$"
      ],
      "text/plain": [
       "$[\\![\\mathbf{\\text{every}}]\\!]^{}_{\\left\\langle{}\\left\\langle{}e,\\left(t, t\\right)\\right\\rangle{},\\left\\langle{}\\left\\langle{}e,\\left(t, t\\right)\\right\\rangle{},\\left(t, t\\right)\\right\\rangle{}\\right\\rangle{}} \\:=\\: $$\\lambda{} f_{\\left\\langle{}e,\\left(t, t\\right)\\right\\rangle{}} \\: . \\: \\lambda{} g_{\\left\\langle{}e,\\left(t, t\\right)\\right\\rangle{}} \\: . \\: (\\forall{} x_{e} \\: . \\: ((({f}({x})[{0}]) \\wedge{} ({f}({x})[{1}])) \\rightarrow{} ({g}({x})[{0}])), \\forall{} x_{e} \\: . \\: (({f}({x})[{1}]) \\rightarrow{} ({g}({x})[{1}])))$"
      ]
     },
     "execution_count": 13,
     "metadata": {},
     "output_type": "execute_result"
    }
   ],
   "source": [
    "%%lamb\n",
    "||every|| = L f_<e,(t,t)> : L g_<e,(t,t)> : ((Forall x_e: (f(x)[0] & f(x)[1]) ==> g(x)[0]), (Forall x_e: (f(x)[1]) ==> g(x)[1]))"
   ]
  },
  {
   "cell_type": "code",
   "execution_count": 14,
   "metadata": {
    "collapsed": false
   },
   "outputs": [
    {
     "data": {
      "text/html": [
       "$[\\![\\mathbf{\\text{him}}_{5}]\\!]^{}_{\\left(e, t\\right)} \\:=\\: $$({var5}_{e}, {Male}({var5}_{e}))$"
      ],
      "text/latex": [
       "$[\\![\\mathbf{\\text{him}}_{5}]\\!]^{}_{\\left(e, t\\right)} \\:=\\: $$({var5}_{e}, {Male}({var5}_{e}))$"
      ],
      "text/plain": [
       "⟦him5⟧ = (var5_e, Male_<e,t>(var5_e))"
      ]
     },
     "execution_count": 14,
     "metadata": {},
     "output_type": "execute_result"
    }
   ],
   "source": [
    "class PresupPronoun(lang.IndexedPronoun):\n",
    "    def __init__(self, name, condition, index, typ=None):\n",
    "        super().__init__(name, index, typ=typ)\n",
    "        var = self.content\n",
    "        self.content = meta.Tuple((var, condition(var).reduce_all()))\n",
    "\n",
    "male_prop = %te L x_e : Male_<e,t>(x)\n",
    "him = PresupPronoun(\"him\", male_prop, 5)\n",
    "him"
   ]
  },
  {
   "cell_type": "code",
   "execution_count": 15,
   "metadata": {
    "collapsed": false
   },
   "outputs": [
    {
     "name": "stdout",
     "output_type": "stream",
     "text": [
      "INFO (meta): Coerced guessed type for 'Student_t' into <e,t>, to match argument 'x_e'\n",
      "INFO (meta): Coerced guessed type for 'Likes_t' into <(e,e),t>, to match argument '(y_e, x_e)'\n",
      "INFO (meta): Coerced guessed type for 'BrotherOf_t' into <(e,e),t>, to match argument '(y_e, x_e)'\n",
      "INFO (meta): Coerced guessed type for 'SisterOf_t' into <(e,e),t>, to match argument '(y_e, x_e)'\n"
     ]
    },
    {
     "data": {
      "text/html": [
       "$[\\![\\mathbf{\\text{student}}]\\!]^{}_{\\left\\langle{}e,\\left(t, t\\right)\\right\\rangle{}} \\:=\\: $$\\lambda{} x_{e} \\: . \\: ({Student}({x}), {True}_{t})$<br />\n",
       "$[\\![\\mathbf{\\text{likes}}]\\!]^{}_{\\left\\langle{}e,\\left\\langle{}e,\\left(t, t\\right)\\right\\rangle{}\\right\\rangle{}} \\:=\\: $$\\lambda{} x_{e} \\: . \\: \\lambda{} y_{e} \\: . \\: ({Likes}({y}, {x}), {True}_{t})$<br />\n",
       "$[\\![\\mathbf{\\text{brother}}]\\!]^{}_{\\left\\langle{}e,\\left\\langle{}e,\\left(t, t\\right)\\right\\rangle{}\\right\\rangle{}} \\:=\\: $$\\lambda{} x_{e} \\: . \\: \\lambda{} y_{e} \\: . \\: ({BrotherOf}({y}, {x}), {True}_{t})$<br />\n",
       "$[\\![\\mathbf{\\text{sister}}]\\!]^{}_{\\left\\langle{}e,\\left\\langle{}e,\\left(t, t\\right)\\right\\rangle{}\\right\\rangle{}} \\:=\\: $$\\lambda{} x_{e} \\: . \\: \\lambda{} y_{e} \\: . \\: ({SisterOf}({y}, {x}), {True}_{t})$<br />\n",
       "$[\\![\\mathbf{\\text{POSS}}]\\!]^{}_{\\left\\langle{}\\left\\langle{}e,\\left\\langle{}e,\\left(t, t\\right)\\right\\rangle{}\\right\\rangle{},\\left\\langle{}e,\\left(e, t\\right)\\right\\rangle{}\\right\\rangle{}} \\:=\\: $$\\lambda{} f_{\\left\\langle{}e,\\left\\langle{}e,\\left(t, t\\right)\\right\\rangle{}\\right\\rangle{}} \\: . \\: \\lambda{} x_{e} \\: . \\: (\\iota{} y_{e} \\: . \\: (({f}({x})({y})[{0}]) \\wedge{} ({f}({x})({y})[{1}])), \\exists{}! y_{e} \\: . \\: (({f}({x})({y})[{0}]) \\wedge{} ({f}({x})({y})[{1}])))$"
      ],
      "text/latex": [
       "$[\\![\\mathbf{\\text{student}}]\\!]^{}_{\\left\\langle{}e,\\left(t, t\\right)\\right\\rangle{}} \\:=\\: $$\\lambda{} x_{e} \\: . \\: ({Student}({x}), {True}_{t})$<br />\n",
       "$[\\![\\mathbf{\\text{likes}}]\\!]^{}_{\\left\\langle{}e,\\left\\langle{}e,\\left(t, t\\right)\\right\\rangle{}\\right\\rangle{}} \\:=\\: $$\\lambda{} x_{e} \\: . \\: \\lambda{} y_{e} \\: . \\: ({Likes}({y}, {x}), {True}_{t})$<br />\n",
       "$[\\![\\mathbf{\\text{brother}}]\\!]^{}_{\\left\\langle{}e,\\left\\langle{}e,\\left(t, t\\right)\\right\\rangle{}\\right\\rangle{}} \\:=\\: $$\\lambda{} x_{e} \\: . \\: \\lambda{} y_{e} \\: . \\: ({BrotherOf}({y}, {x}), {True}_{t})$<br />\n",
       "$[\\![\\mathbf{\\text{sister}}]\\!]^{}_{\\left\\langle{}e,\\left\\langle{}e,\\left(t, t\\right)\\right\\rangle{}\\right\\rangle{}} \\:=\\: $$\\lambda{} x_{e} \\: . \\: \\lambda{} y_{e} \\: . \\: ({SisterOf}({y}, {x}), {True}_{t})$<br />\n",
       "$[\\![\\mathbf{\\text{POSS}}]\\!]^{}_{\\left\\langle{}\\left\\langle{}e,\\left\\langle{}e,\\left(t, t\\right)\\right\\rangle{}\\right\\rangle{},\\left\\langle{}e,\\left(e, t\\right)\\right\\rangle{}\\right\\rangle{}} \\:=\\: $$\\lambda{} f_{\\left\\langle{}e,\\left\\langle{}e,\\left(t, t\\right)\\right\\rangle{}\\right\\rangle{}} \\: . \\: \\lambda{} x_{e} \\: . \\: (\\iota{} y_{e} \\: . \\: (({f}({x})({y})[{0}]) \\wedge{} ({f}({x})({y})[{1}])), \\exists{}! y_{e} \\: . \\: (({f}({x})({y})[{0}]) \\wedge{} ({f}({x})({y})[{1}])))$"
      ],
      "text/plain": [
       "$[\\![\\mathbf{\\text{student}}]\\!]^{}_{\\left\\langle{}e,\\left(t, t\\right)\\right\\rangle{}} \\:=\\: $$\\lambda{} x_{e} \\: . \\: ({Student}({x}), {True}_{t})$<br />\n",
       "$[\\![\\mathbf{\\text{likes}}]\\!]^{}_{\\left\\langle{}e,\\left\\langle{}e,\\left(t, t\\right)\\right\\rangle{}\\right\\rangle{}} \\:=\\: $$\\lambda{} x_{e} \\: . \\: \\lambda{} y_{e} \\: . \\: ({Likes}({y}, {x}), {True}_{t})$<br />\n",
       "$[\\![\\mathbf{\\text{brother}}]\\!]^{}_{\\left\\langle{}e,\\left\\langle{}e,\\left(t, t\\right)\\right\\rangle{}\\right\\rangle{}} \\:=\\: $$\\lambda{} x_{e} \\: . \\: \\lambda{} y_{e} \\: . \\: ({BrotherOf}({y}, {x}), {True}_{t})$<br />\n",
       "$[\\![\\mathbf{\\text{sister}}]\\!]^{}_{\\left\\langle{}e,\\left\\langle{}e,\\left(t, t\\right)\\right\\rangle{}\\right\\rangle{}} \\:=\\: $$\\lambda{} x_{e} \\: . \\: \\lambda{} y_{e} \\: . \\: ({SisterOf}({y}, {x}), {True}_{t})$<br />\n",
       "$[\\![\\mathbf{\\text{POSS}}]\\!]^{}_{\\left\\langle{}\\left\\langle{}e,\\left\\langle{}e,\\left(t, t\\right)\\right\\rangle{}\\right\\rangle{},\\left\\langle{}e,\\left(e, t\\right)\\right\\rangle{}\\right\\rangle{}} \\:=\\: $$\\lambda{} f_{\\left\\langle{}e,\\left\\langle{}e,\\left(t, t\\right)\\right\\rangle{}\\right\\rangle{}} \\: . \\: \\lambda{} x_{e} \\: . \\: (\\iota{} y_{e} \\: . \\: (({f}({x})({y})[{0}]) \\wedge{} ({f}({x})({y})[{1}])), \\exists{}! y_{e} \\: . \\: (({f}({x})({y})[{0}]) \\wedge{} ({f}({x})({y})[{1}])))$"
      ]
     },
     "execution_count": 15,
     "metadata": {},
     "output_type": "execute_result"
    }
   ],
   "source": [
    "%%lamb\n",
    "||student|| = PL x_e : Student(x)\n",
    "||likes|| = L x_e : PL y_e : Likes(y,x)\n",
    "||brother|| = L x_e : PL y_e : BrotherOf(y,x)\n",
    "||sister|| = L x_e : PL y_e : SisterOf(y,x)\n",
    "||POSS|| = L f_<e,<e,(t,t)>> : L x_e : ((Iota y_e : f(x)(y)[0] & f(x)(y)[1]), (ExistsExact y : f(x)(y)[0] & f(x)(y)[1]))"
   ]
  },
  {
   "cell_type": "code",
   "execution_count": 16,
   "metadata": {
    "collapsed": false
   },
   "outputs": [
    {
     "data": {
      "text/html": [
       "1 composition path.  Result:\n",
       "<br />&nbsp;&nbsp;&nbsp;&nbsp;[0]: $[\\![\\mathbf{\\text{[[POSS brother] john]}}]\\!]^{}_{\\left(e, t\\right)} \\:=\\: $$(\\iota{} y_{e} \\: . \\: {BrotherOf}({y}, {J}_{e}), ({Salient}({J}_{e}) \\wedge{} \\exists{}! y_{e} \\: . \\: {BrotherOf}({y}, {J}_{e})))$"
      ],
      "text/plain": [
       "CompositionResult(results=[⟦[[POSS brother] john]⟧ = ((ι y_e: BrotherOf_<(e,e),t>(y_e, J_e)), (Salient_<e,t>(J_e) & (ExistsExact y_e: BrotherOf_<(e,e),t>(y_e, J_e))))], failures=[⟦[john [POSS brother]]⟧ = Type mismatch: '⟦john⟧ = (J_e, Salient_<e,t>(J_e))'/(e,t) and '⟦[POSS brother]⟧ = ((λ x_e: ((ι y_e: BrotherOf_<(e,e),t>(y_e, x_e)), (ExistsExact y_e: BrotherOf_<(e,e),t>(y_e, x_e)))), True_t)'/(<e,(e,t)>,t) conflict (mode: Predicate Abstraction), ⟦[[POSS brother] john]⟧ = Type mismatch: '⟦[POSS brother]⟧ = ((λ x_e: ((ι y_e: BrotherOf_<(e,e),t>(y_e, x_e)), (ExistsExact y_e: BrotherOf_<(e,e),t>(y_e, x_e)))), True_t)'/(<e,(e,t)>,t) and '⟦john⟧ = (J_e, Salient_<e,t>(J_e))'/(e,t) conflict (mode: Predicate Abstraction), ⟦[john [POSS brother]]⟧ = Type mismatch: 'J_e'/e and '(λ x_e: ((ι y_e: BrotherOf_<(e,e),t>(y_e, x_e)), (ExistsExact y_e: BrotherOf_<(e,e),t>(y_e, x_e))))'/<e,(e,t)> conflict (mode: Function argument combination (unification failed)), ⟦[john [POSS brother]]⟧ = Type mismatch: '(λ f_<e,(t,t)>: (λ g_<e,(t,t)>: (λ x_e: (((f_<e,(t,t)>(x_e)[0_n]) & (g_<e,(t,t)>(x_e)[0_n])), ((f_<e,(t,t)>(x_e)[1_n]) & (g_<e,(t,t)>(x_e)[1_n]))))))'/<<e,(t,t)>,<<e,(t,t)>,<e,(t,t)>>> and '(J_e, Salient_<e,t>(J_e))'/(e,t) conflict (mode: Function argument combination (unification failed))])"
      ]
     },
     "execution_count": 16,
     "metadata": {},
     "output_type": "execute_result"
    }
   ],
   "source": [
    "john * (POSS * brother)"
   ]
  },
  {
   "cell_type": "code",
   "execution_count": 17,
   "metadata": {
    "collapsed": false
   },
   "outputs": [
    {
     "data": {
      "text/html": [
       "1 composition path.  Result:\n",
       "<br />&nbsp;&nbsp;&nbsp;&nbsp;[0]: $[\\![\\mathbf{\\text{[[POSS brother] him5]}}]\\!]^{}_{\\left(e, t\\right)} \\:=\\: $$(\\iota{} y_{e} \\: . \\: {BrotherOf}({y}, {var5}_{e}), ({Male}({var5}_{e}) \\wedge{} \\exists{}! y_{e} \\: . \\: {BrotherOf}({y}, {var5}_{e})))$"
      ],
      "text/plain": [
       "CompositionResult(results=[⟦[[POSS brother] him5]⟧ = ((ι y_e: BrotherOf_<(e,e),t>(y_e, var5_e)), (Male_<e,t>(var5_e) & (ExistsExact y_e: BrotherOf_<(e,e),t>(y_e, var5_e))))], failures=[⟦[him5 [POSS brother]]⟧ = Type mismatch: '⟦him5⟧ = (var5_e, Male_<e,t>(var5_e))'/(e,t) and '⟦[POSS brother]⟧ = ((λ x_e: ((ι y_e: BrotherOf_<(e,e),t>(y_e, x_e)), (ExistsExact y_e: BrotherOf_<(e,e),t>(y_e, x_e)))), True_t)'/(<e,(e,t)>,t) conflict (mode: Predicate Abstraction), ⟦[[POSS brother] him5]⟧ = Type mismatch: '⟦[POSS brother]⟧ = ((λ x_e: ((ι y_e: BrotherOf_<(e,e),t>(y_e, x_e)), (ExistsExact y_e: BrotherOf_<(e,e),t>(y_e, x_e)))), True_t)'/(<e,(e,t)>,t) and '⟦him5⟧ = (var5_e, Male_<e,t>(var5_e))'/(e,t) conflict (mode: Predicate Abstraction), ⟦[him5 [POSS brother]]⟧ = Type mismatch: 'var5_e'/e and '(λ x_e: ((ι y_e: BrotherOf_<(e,e),t>(y_e, x_e)), (ExistsExact y_e: BrotherOf_<(e,e),t>(y_e, x_e))))'/<e,(e,t)> conflict (mode: Function argument combination (unification failed)), ⟦[him5 [POSS brother]]⟧ = Type mismatch: '(λ f_<e,(t,t)>: (λ g_<e,(t,t)>: (λ x_e: (((f_<e,(t,t)>(x_e)[0_n]) & (g_<e,(t,t)>(x_e)[0_n])), ((f_<e,(t,t)>(x_e)[1_n]) & (g_<e,(t,t)>(x_e)[1_n]))))))'/<<e,(t,t)>,<<e,(t,t)>,<e,(t,t)>>> and '(var5_e, Male_<e,t>(var5_e))'/(e,t) conflict (mode: Function argument combination (unification failed))])"
      ]
     },
     "execution_count": 17,
     "metadata": {},
     "output_type": "execute_result"
    }
   ],
   "source": [
    "him * (POSS * brother)"
   ]
  },
  {
   "cell_type": "code",
   "execution_count": 18,
   "metadata": {
    "collapsed": false
   },
   "outputs": [
    {
     "data": {
      "text/html": [
       "1 composition path.  Result:\n",
       "<br />&nbsp;&nbsp;&nbsp;&nbsp;[0]: $[\\![\\mathbf{\\text{[every [student [5 [[likes [[POSS brother] him5]] t5]]]]}}]\\!]^{}_{\\left(\\left\\langle{}\\left\\langle{}e,\\left(t, t\\right)\\right\\rangle{},\\left(t, t\\right)\\right\\rangle{}, t\\right)} \\:=\\: $$(\\lambda{} g_{\\left\\langle{}e,\\left(t, t\\right)\\right\\rangle{}} \\: . \\: (\\forall{} x_{e} \\: . \\: ((({Student}({x}) \\wedge{} {Likes}({x}, \\iota{} y_{e} \\: . \\: {BrotherOf}({y}, {x}))) \\wedge{} ({Male}({x}) \\wedge{} \\exists{}! y_{e} \\: . \\: {BrotherOf}({y}, {x}))) \\rightarrow{} ({g}({x})[{0}])), \\forall{} x_{e} \\: . \\: (({Male}({x}) \\wedge{} \\exists{}! y_{e} \\: . \\: {BrotherOf}({y}, {x})) \\rightarrow{} ({g}({x})[{1}]))), {True}_{t})$"
      ],
      "text/plain": [
       "CompositionResult(results=[⟦[every [student [5 [[likes [[POSS brother] him5]] t5]]]]⟧ = ((λ g_<e,(t,t)>: ((Forall x_e: (((Student_<e,t>(x_e) & Likes_<(e,e),t>(x_e, (ι y_e: BrotherOf_<(e,e),t>(y_e, x_e)))) & (Male_<e,t>(x_e) & (ExistsExact y_e: BrotherOf_<(e,e),t>(y_e, x_e)))) >> (g_<e,(t,t)>(x_e)[0_n]))), (Forall x_e: ((Male_<e,t>(x_e) & (ExistsExact y_e: BrotherOf_<(e,e),t>(y_e, x_e))) >> (g_<e,(t,t)>(x_e)[1_n]))))), True_t)], failures=[⟦[every [student [5 [[likes [[POSS brother] him5]] t5]]]]⟧ = Type mismatch: '⟦every⟧ = (λ f_<e,(t,t)>: (λ g_<e,(t,t)>: ((Forall x_e: (((f_<e,(t,t)>(x_e)[0_n]) & (f_<e,(t,t)>(x_e)[1_n])) >> (g_<e,(t,t)>(x_e)[0_n]))), (Forall x_e: ((f_<e,(t,t)>(x_e)[1_n]) >> (g_<e,(t,t)>(x_e)[1_n]))))))'/<<e,(t,t)>,<<e,(t,t)>,(t,t)>> and '⟦[student [5 [[likes [[POSS brother] him5]] t5]]]⟧ = (λ x_e: ((Student_<e,t>(x_e) & Likes_<(e,e),t>(x_e, (ι y_e: BrotherOf_<(e,e),t>(y_e, x_e)))), (Male_<e,t>(x_e) & (ExistsExact y_e: BrotherOf_<(e,e),t>(y_e, x_e)))))'/<e,(t,t)> conflict (mode: Predicate Abstraction), ⟦[[student [5 [[likes [[POSS brother] him5]] t5]]] every]⟧ = Type mismatch: '⟦[student [5 [[likes [[POSS brother] him5]] t5]]]⟧ = (λ x_e: ((Student_<e,t>(x_e) & Likes_<(e,e),t>(x_e, (ι y_e: BrotherOf_<(e,e),t>(y_e, x_e)))), (Male_<e,t>(x_e) & (ExistsExact y_e: BrotherOf_<(e,e),t>(y_e, x_e)))))'/<e,(t,t)> and '⟦every⟧ = (λ f_<e,(t,t)>: (λ g_<e,(t,t)>: ((Forall x_e: (((f_<e,(t,t)>(x_e)[0_n]) & (f_<e,(t,t)>(x_e)[1_n])) >> (g_<e,(t,t)>(x_e)[0_n]))), (Forall x_e: ((f_<e,(t,t)>(x_e)[1_n]) >> (g_<e,(t,t)>(x_e)[1_n]))))))'/<<e,(t,t)>,<<e,(t,t)>,(t,t)>> conflict (mode: Predicate Abstraction), ⟦[[student [5 [[likes [[POSS brother] him5]] t5]]] every]⟧ = Type mismatch: '(λ x_e: ((Student_<e,t>(x_e) & Likes_<(e,e),t>(x_e, (ι y_e: BrotherOf_<(e,e),t>(y_e, x_e)))), (Male_<e,t>(x_e) & (ExistsExact y_e: BrotherOf_<(e,e),t>(y_e, x_e)))))'/<e,(t,t)> and '(λ f_<e,(t,t)>: (λ g_<e,(t,t)>: ((Forall x_e: (((f_<e,(t,t)>(x_e)[0_n]) & (f_<e,(t,t)>(x_e)[1_n])) >> (g_<e,(t,t)>(x_e)[0_n]))), (Forall x_e: ((f_<e,(t,t)>(x_e)[1_n]) >> (g_<e,(t,t)>(x_e)[1_n]))))))'/<<e,(t,t)>,<<e,(t,t)>,(t,t)>> conflict (mode: Function argument combination (unification failed)), ⟦[every [student [5 [[likes [[POSS brother] him5]] t5]]]]⟧ = Type mismatch: '(λ f_<e,(t,t)>: (λ g_<e,(t,t)>: (λ x_e: (((f_<e,(t,t)>(x_e)[0_n]) & (g_<e,(t,t)>(x_e)[0_n])), ((f_<e,(t,t)>(x_e)[1_n]) & (g_<e,(t,t)>(x_e)[1_n]))))))'/<<e,(t,t)>,<<e,(t,t)>,<e,(t,t)>>> and '(λ f_<e,(t,t)>: (λ g_<e,(t,t)>: ((Forall x_e: (((f_<e,(t,t)>(x_e)[0_n]) & (f_<e,(t,t)>(x_e)[1_n])) >> (g_<e,(t,t)>(x_e)[0_n]))), (Forall x_e: ((f_<e,(t,t)>(x_e)[1_n]) >> (g_<e,(t,t)>(x_e)[1_n]))))))'/<<e,(t,t)>,<<e,(t,t)>,(t,t)>> conflict (mode: Function argument combination (unification failed))])"
      ]
     },
     "execution_count": 18,
     "metadata": {},
     "output_type": "execute_result"
    }
   ],
   "source": [
    "# compute \"[every student [5 [that t_5 likes his_5 brother]]]\"\n",
    "subject = (every * (student * (lang.Binder(5) * ((lang.Trace(5) * (likes * (PresupPronoun(\"him\", male_prop, 5) * (POSS * brother))))))))\n",
    "subject"
   ]
  },
  {
   "cell_type": "code",
   "execution_count": 19,
   "metadata": {
    "collapsed": false
   },
   "outputs": [
    {
     "data": {
      "text/html": [
       "1 composition path.  Result:\n",
       "<br />&nbsp;&nbsp;&nbsp;&nbsp;[0]: $[\\![\\mathbf{\\text{[[every [student [5 [[likes [[POSS brother] him5]] t5]]]] [6 [[likes [[POSS sister] him6]] t6]]]}}]\\!]^{}_{\\left(t, t\\right)} \\:=\\: $$(\\forall{} x_{e} \\: . \\: ((({Student}({x}) \\wedge{} {Likes}({x}, \\iota{} y_{e} \\: . \\: {BrotherOf}({y}, {x}))) \\wedge{} ({Male}({x}) \\wedge{} \\exists{}! y_{e} \\: . \\: {BrotherOf}({y}, {x}))) \\rightarrow{} {Likes}({x}, \\iota{} y_{e} \\: . \\: {SisterOf}({y}, {x}))), \\forall{} x_{e} \\: . \\: (({Male}({x}) \\wedge{} \\exists{}! y_{e} \\: . \\: {BrotherOf}({y}, {x})) \\rightarrow{} ({Male}({x}) \\wedge{} \\exists{}! y_{e} \\: . \\: {SisterOf}({y}, {x}))))$"
      ],
      "text/plain": [
       "CompositionResult(results=[⟦[[every [student [5 [[likes [[POSS brother] him5]] t5]]]] [6 [[likes [[POSS sister] him6]] t6]]]⟧ = ((Forall x_e: (((Student_<e,t>(x_e) & Likes_<(e,e),t>(x_e, (ι y_e: BrotherOf_<(e,e),t>(y_e, x_e)))) & (Male_<e,t>(x_e) & (ExistsExact y_e: BrotherOf_<(e,e),t>(y_e, x_e)))) >> Likes_<(e,e),t>(x_e, (ι y_e: SisterOf_<(e,e),t>(y_e, x_e))))), (Forall x_e: ((Male_<e,t>(x_e) & (ExistsExact y_e: BrotherOf_<(e,e),t>(y_e, x_e))) >> (Male_<e,t>(x_e) & (ExistsExact y_e: SisterOf_<(e,e),t>(y_e, x_e))))))], failures=[⟦[[every [student [5 [[likes [[POSS brother] him5]] t5]]]] [6 [[likes [[POSS sister] him6]] t6]]]⟧ = Type mismatch: '⟦[every [student [5 [[likes [[POSS brother] him5]] t5]]]]⟧ = ((λ g_<e,(t,t)>: ((Forall x_e: (((Student_<e,t>(x_e) & Likes_<(e,e),t>(x_e, (ι y_e: BrotherOf_<(e,e),t>(y_e, x_e)))) & (Male_<e,t>(x_e) & (ExistsExact y_e: BrotherOf_<(e,e),t>(y_e, x_e)))) >> (g_<e,(t,t)>(x_e)[0_n]))), (Forall x_e: ((Male_<e,t>(x_e) & (ExistsExact y_e: BrotherOf_<(e,e),t>(y_e, x_e))) >> (g_<e,(t,t)>(x_e)[1_n]))))), True_t)'/(<<e,(t,t)>,(t,t)>,t) and '⟦[6 [[likes [[POSS sister] him6]] t6]]⟧ = (λ x_e: (Likes_<(e,e),t>(x_e, (ι y_e: SisterOf_<(e,e),t>(y_e, x_e))), (Male_<e,t>(x_e) & (ExistsExact y_e: SisterOf_<(e,e),t>(y_e, x_e)))))'/<e,(t,t)> conflict (mode: Predicate Abstraction), ⟦[[6 [[likes [[POSS sister] him6]] t6]] [every [student [5 [[likes [[POSS brother] him5]] t5]]]]]⟧ = Type mismatch: '⟦[6 [[likes [[POSS sister] him6]] t6]]⟧ = (λ x_e: (Likes_<(e,e),t>(x_e, (ι y_e: SisterOf_<(e,e),t>(y_e, x_e))), (Male_<e,t>(x_e) & (ExistsExact y_e: SisterOf_<(e,e),t>(y_e, x_e)))))'/<e,(t,t)> and '⟦[every [student [5 [[likes [[POSS brother] him5]] t5]]]]⟧ = ((λ g_<e,(t,t)>: ((Forall x_e: (((Student_<e,t>(x_e) & Likes_<(e,e),t>(x_e, (ι y_e: BrotherOf_<(e,e),t>(y_e, x_e)))) & (Male_<e,t>(x_e) & (ExistsExact y_e: BrotherOf_<(e,e),t>(y_e, x_e)))) >> (g_<e,(t,t)>(x_e)[0_n]))), (Forall x_e: ((Male_<e,t>(x_e) & (ExistsExact y_e: BrotherOf_<(e,e),t>(y_e, x_e))) >> (g_<e,(t,t)>(x_e)[1_n]))))), True_t)'/(<<e,(t,t)>,(t,t)>,t) conflict (mode: Predicate Abstraction), ⟦[[6 [[likes [[POSS sister] him6]] t6]] [every [student [5 [[likes [[POSS brother] him5]] t5]]]]]⟧ = Type mismatch: '(λ x_e: (Likes_<(e,e),t>(x_e, (ι y_e: SisterOf_<(e,e),t>(y_e, x_e))), (Male_<e,t>(x_e) & (ExistsExact y_e: SisterOf_<(e,e),t>(y_e, x_e)))))'/<e,(t,t)> and '(λ g_<e,(t,t)>: ((Forall x_e: (((Student_<e,t>(x_e) & Likes_<(e,e),t>(x_e, (ι y_e: BrotherOf_<(e,e),t>(y_e, x_e)))) & (Male_<e,t>(x_e) & (ExistsExact y_e: BrotherOf_<(e,e),t>(y_e, x_e)))) >> (g_<e,(t,t)>(x_e)[0_n]))), (Forall x_e: ((Male_<e,t>(x_e) & (ExistsExact y_e: BrotherOf_<(e,e),t>(y_e, x_e))) >> (g_<e,(t,t)>(x_e)[1_n])))))'/<<e,(t,t)>,(t,t)> conflict (mode: Function argument combination (unification failed)), ⟦[[every [student [5 [[likes [[POSS brother] him5]] t5]]]] [6 [[likes [[POSS sister] him6]] t6]]]⟧ = Type mismatch: '(λ f_<e,(t,t)>: (λ g_<e,(t,t)>: (λ x_e: (((f_<e,(t,t)>(x_e)[0_n]) & (g_<e,(t,t)>(x_e)[0_n])), ((f_<e,(t,t)>(x_e)[1_n]) & (g_<e,(t,t)>(x_e)[1_n]))))))'/<<e,(t,t)>,<<e,(t,t)>,<e,(t,t)>>> and '((λ g_<e,(t,t)>: ((Forall x_e: (((Student_<e,t>(x_e) & Likes_<(e,e),t>(x_e, (ι y_e: BrotherOf_<(e,e),t>(y_e, x_e)))) & (Male_<e,t>(x_e) & (ExistsExact y_e: BrotherOf_<(e,e),t>(y_e, x_e)))) >> (g_<e,(t,t)>(x_e)[0_n]))), (Forall x_e: ((Male_<e,t>(x_e) & (ExistsExact y_e: BrotherOf_<(e,e),t>(y_e, x_e))) >> (g_<e,(t,t)>(x_e)[1_n]))))), True_t)'/(<<e,(t,t)>,(t,t)>,t) conflict (mode: Function argument combination (unification failed))])"
      ]
     },
     "execution_count": 19,
     "metadata": {},
     "output_type": "execute_result"
    }
   ],
   "source": [
    "# assume that the subject has QR'd in order to bind the possessive pronoun\n",
    "subject * (lang.Binder(6) * (lang.Trace(6) * (likes * (PresupPronoun(\"him\", male_prop, 6) * (POSS * sister)))))"
   ]
  },
  {
   "cell_type": "code",
   "execution_count": null,
   "metadata": {
    "collapsed": true
   },
   "outputs": [],
   "source": []
  },
  {
   "cell_type": "code",
   "execution_count": null,
   "metadata": {
    "collapsed": true
   },
   "outputs": [],
   "source": []
  }
 ],
 "metadata": {
  "kernelspec": {
   "display_name": "Lambda Notebook (Python 3)",
   "language": "python",
   "name": "lambda-notebook"
  },
  "language_info": {
   "codemirror_mode": {
    "name": "ipython",
    "version": 3
   },
   "file_extension": ".py",
   "mimetype": "text/x-python",
   "name": "python",
   "nbconvert_exporter": "python",
   "pygments_lexer": "ipython3",
   "version": "3.6.4"
  }
 },
 "nbformat": 4,
 "nbformat_minor": 2
}
