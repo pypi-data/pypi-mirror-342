{
 "cells": [
  {
   "cell_type": "code",
   "execution_count": 1,
   "id": "9cb9dabb-3505-41ba-83e3-e339b5bc69c1",
   "metadata": {},
   "outputs": [],
   "source": [
    "reload_lamb()"
   ]
  },
  {
   "cell_type": "code",
   "execution_count": 2,
   "id": "af091213-e0b4-4dee-a4f0-fbadbf24ce37",
   "metadata": {},
   "outputs": [
    {
     "name": "stdout",
     "output_type": "stream",
     "text": [
      "INFO (core): Coerced guessed type for 'P_t' into <(e,e),t>, to match argument '(x_e, y_e)'\n"
     ]
    },
    {
     "data": {
      "text/latex": [
       "${[\\lambda{} x_{e} \\: . \\: \\lambda{} y_{e} \\: . \\: {P}({x}, {y})]}({A}_{e})$"
      ],
      "text/plain": [
       "(λ x_e: (λ y_e: P_<(e,e),t>(x_e, y_e)))(A_e)"
      ]
     },
     "execution_count": 2,
     "metadata": {},
     "output_type": "execute_result"
    }
   ],
   "source": [
    "%te (L x_e : L y_e : P(x,y))(A_e)"
   ]
  },
  {
   "cell_type": "code",
   "execution_count": 3,
   "id": "0d7768d0-43c8-4a5b-9055-ea40007f3aba",
   "metadata": {},
   "outputs": [
    {
     "name": "stdout",
     "output_type": "stream",
     "text": [
      "INFO (core): Coerced guessed type for 'P_t' into <(e,e),t>, to match argument '(x_e, y_e)'\n"
     ]
    },
    {
     "data": {
      "text/plain": [
       "'(λ x_e: (λ y_e: P_<(e,e),t>(x_e, y_e)))(A_e)'"
      ]
     },
     "execution_count": 3,
     "metadata": {},
     "output_type": "execute_result"
    }
   ],
   "source": [
    "repr(te(\"(L x_e : L y_e : P(x,y))(A_e)\"))"
   ]
  },
  {
   "cell_type": "code",
   "execution_count": 4,
   "id": "240770fc-e52c-4067-a41f-e9313e8149a4",
   "metadata": {},
   "outputs": [
    {
     "name": "stdout",
     "output_type": "stream",
     "text": [
      "INFO (core): Coerced guessed type for 'P_t' into <(e,e),t>, to match argument '(x_e, y_e)'\n"
     ]
    },
    {
     "data": {
      "text/latex": [
       "$\\lambda{} x_{e} \\: . \\: {[\\lambda{} y_{e} \\: . \\: {P}({x}, {y})]}({A}_{e})$"
      ],
      "text/plain": [
       "(λ x_e: (λ y_e: P_<(e,e),t>(x_e, y_e))(A_e))"
      ]
     },
     "execution_count": 4,
     "metadata": {},
     "output_type": "execute_result"
    }
   ],
   "source": [
    "%te (L x_e : (L y_e : P(x,y))(A_e))"
   ]
  },
  {
   "cell_type": "code",
   "execution_count": 5,
   "id": "3dcc170a-bc7e-4671-ad6b-64171ed28521",
   "metadata": {},
   "outputs": [
    {
     "name": "stdout",
     "output_type": "stream",
     "text": [
      "INFO (core): Coerced guessed type for 'P_t' into <(e,e),t>, to match argument '(x_e, y_e)'\n"
     ]
    },
    {
     "data": {
      "text/plain": [
       "'(λ x_e: (λ y_e: P_<(e,e),t>(x_e, y_e))(A_e))'"
      ]
     },
     "execution_count": 5,
     "metadata": {},
     "output_type": "execute_result"
    }
   ],
   "source": [
    "repr(te(\"(L x_e : (L y_e : P(x,y))(A_e))\"))"
   ]
  },
  {
   "cell_type": "code",
   "execution_count": 6,
   "id": "1f45ad13-bc7b-424e-8da4-35299417942a",
   "metadata": {},
   "outputs": [
    {
     "name": "stdout",
     "output_type": "stream",
     "text": [
      "INFO (core): Coerced guessed type for 'P_t' into <(e,e),t>, to match argument '(x_e, y_e)'\n",
      "INFO (core): Coerced guessed type for 'P_<(e,e),t>(x_e, y_e)' into <e,t>, to match argument 'A_e'\n"
     ]
    },
    {
     "data": {
      "text/latex": [
       "$\\lambda{} x_{e} \\: . \\: \\lambda{} y_{e} \\: . \\: {P}_{\\left\\langle{}\\left(e, e\\right),\\left\\langle{}e,t\\right\\rangle{}\\right\\rangle{}}({x}, {y})({A}_{e})$"
      ],
      "text/plain": [
       "(λ x_e: (λ y_e: P_<(e,e),<e,t>>(x_e, y_e)(A_e)))"
      ]
     },
     "execution_count": 6,
     "metadata": {},
     "output_type": "execute_result"
    }
   ],
   "source": [
    "%te (L x_e : (L y_e : P(x,y)(A_e)))"
   ]
  },
  {
   "cell_type": "code",
   "execution_count": 7,
   "id": "9877aae2-cd13-433c-b7d0-fceef72752ee",
   "metadata": {},
   "outputs": [
    {
     "name": "stdout",
     "output_type": "stream",
     "text": [
      "INFO (core): Coerced guessed type for 'P_t' into <(e,e),t>, to match argument '(x_e, y_e)'\n",
      "INFO (core): Coerced guessed type for 'P_<(e,e),t>(x_e, y_e)' into <e,t>, to match argument 'A_e'\n"
     ]
    },
    {
     "data": {
      "text/plain": [
       "'(λ x_e: (λ y_e: P_<(e,e),<e,t>>(x_e, y_e)(A_e)))'"
      ]
     },
     "execution_count": 7,
     "metadata": {},
     "output_type": "execute_result"
    }
   ],
   "source": [
    "repr(te(\"(L x_e : (L y_e : P(x,y)(A_e)))\"))"
   ]
  },
  {
   "cell_type": "code",
   "execution_count": null,
   "id": "31b17fc7-9b3a-43ac-a04f-b56e210f463b",
   "metadata": {},
   "outputs": [],
   "source": []
  },
  {
   "cell_type": "code",
   "execution_count": 8,
   "id": "6b3386a2-9591-4aad-8f77-44b8bad4494d",
   "metadata": {},
   "outputs": [
    {
     "name": "stdout",
     "output_type": "stream",
     "text": [
      "INFO (core): Coerced guessed type for 'P_t' into <e,t>, to match argument 'x_e'\n"
     ]
    },
    {
     "data": {
      "text/latex": [
       "$(\\forall{} x_{e} \\: . \\: {P}({x})) \\wedge{} {p}_{t}$"
      ],
      "text/plain": [
       "((Forall x_e: P_<e,t>(x_e)) ∧ p_t)"
      ]
     },
     "execution_count": 8,
     "metadata": {},
     "output_type": "execute_result"
    }
   ],
   "source": [
    "te(\"(Forall x_e : P(x)) & p_t\")"
   ]
  },
  {
   "cell_type": "code",
   "execution_count": 9,
   "id": "cb013661-e6ed-4d66-822c-0e5c6db074c0",
   "metadata": {},
   "outputs": [
    {
     "name": "stdout",
     "output_type": "stream",
     "text": [
      "INFO (core): Coerced guessed type for 'P_t' into <e,t>, to match argument 'x_e'\n"
     ]
    },
    {
     "data": {
      "text/plain": [
       "'((Forall x_e: P_<e,t>(x_e)) & p_t)'"
      ]
     },
     "execution_count": 9,
     "metadata": {},
     "output_type": "execute_result"
    }
   ],
   "source": [
    "repr(te(\"(Forall x_e : P(x)) & p_t\"))"
   ]
  },
  {
   "cell_type": "code",
   "execution_count": 10,
   "id": "19e7532c-fe7a-4f51-bdd8-9b46620bea2e",
   "metadata": {},
   "outputs": [
    {
     "name": "stdout",
     "output_type": "stream",
     "text": [
      "INFO (core): Coerced guessed type for 'P_t' into <t,t>, to match argument '(p_t & q_t)'\n"
     ]
    },
    {
     "data": {
      "text/latex": [
       "${P}_{\\left\\langle{}t,t\\right\\rangle{}}({p}_{t} \\wedge{} {q}_{t})$"
      ],
      "text/plain": [
       "P_<t,t>(p_t & q_t)"
      ]
     },
     "execution_count": 10,
     "metadata": {},
     "output_type": "execute_result"
    }
   ],
   "source": [
    "%te P(p_t & q_t)"
   ]
  },
  {
   "cell_type": "code",
   "execution_count": 11,
   "id": "da009da5-63ef-47d8-9e83-8566b79a3ccc",
   "metadata": {},
   "outputs": [
    {
     "name": "stdout",
     "output_type": "stream",
     "text": [
      "INFO (core): Coerced guessed type for 'P_t' into <t,t>, to match argument '(p_t & q_t)'\n"
     ]
    },
    {
     "data": {
      "text/plain": [
       "'P_<t,t>(p_t & q_t)'"
      ]
     },
     "execution_count": 11,
     "metadata": {},
     "output_type": "execute_result"
    }
   ],
   "source": [
    "repr(te(\"P(p_t & q_t)\"))"
   ]
  },
  {
   "cell_type": "code",
   "execution_count": 12,
   "id": "3aeb1d3d-a281-4e1f-b363-b005ab9b4427",
   "metadata": {},
   "outputs": [
    {
     "name": "stdout",
     "output_type": "stream",
     "text": [
      "INFO (core): Coerced guessed type for 'P_t' into <(t,t),t>, to match argument '(p_t, q_t)'\n"
     ]
    },
    {
     "data": {
      "text/latex": [
       "${P}({p}_{t}, {q}_{t})$"
      ],
      "text/plain": [
       "P_<(t,t),t>(p_t, q_t)"
      ]
     },
     "execution_count": 12,
     "metadata": {},
     "output_type": "execute_result"
    }
   ],
   "source": [
    "%te P(p_t, q_t)"
   ]
  },
  {
   "cell_type": "code",
   "execution_count": 13,
   "id": "c1a869df-b3a9-4c01-b592-73bd8e7d1c3e",
   "metadata": {},
   "outputs": [
    {
     "name": "stdout",
     "output_type": "stream",
     "text": [
      "INFO (core): Coerced guessed type for 'P_t' into <(t,t),t>, to match argument '(p_t, q_t)'\n"
     ]
    },
    {
     "data": {
      "text/plain": [
       "'P_<(t,t),t>(p_t, q_t)'"
      ]
     },
     "execution_count": 13,
     "metadata": {},
     "output_type": "execute_result"
    }
   ],
   "source": [
    "repr(te(\"P(p_t, q_t)\"))"
   ]
  },
  {
   "cell_type": "code",
   "execution_count": 14,
   "id": "32d53463-7ffb-4383-b336-3fed175e98e0",
   "metadata": {},
   "outputs": [
    {
     "data": {
      "text/latex": [
       "${p}_{t} \\wedge{} {q}_{t} \\wedge{} {r}_{t}$"
      ],
      "text/plain": [
       "((p_t ∧ q_t) ∧ r_t)"
      ]
     },
     "execution_count": 14,
     "metadata": {},
     "output_type": "execute_result"
    }
   ],
   "source": [
    "%te p_t & q_t & r_t"
   ]
  },
  {
   "cell_type": "code",
   "execution_count": 15,
   "id": "1ad483c1-8d25-409e-a749-8006c53ee09c",
   "metadata": {},
   "outputs": [
    {
     "data": {
      "text/plain": [
       "'((p_t & q_t) & r_t)'"
      ]
     },
     "execution_count": 15,
     "metadata": {},
     "output_type": "execute_result"
    }
   ],
   "source": [
    "repr(te(\"p_t & q_t & r_t\"))"
   ]
  },
  {
   "cell_type": "code",
   "execution_count": 16,
   "id": "75ab1763-a51d-46e5-81e7-7e9900f8655c",
   "metadata": {},
   "outputs": [
    {
     "data": {
      "text/latex": [
       "${p}_{t} \\wedge{} ({q}_{t} \\wedge{} {r}_{t})$"
      ],
      "text/plain": [
       "(p_t ∧ (q_t ∧ r_t))"
      ]
     },
     "execution_count": 16,
     "metadata": {},
     "output_type": "execute_result"
    }
   ],
   "source": [
    "%te p_t & (q_t & r_t)"
   ]
  },
  {
   "cell_type": "code",
   "execution_count": 17,
   "id": "09bf544f-eb07-4bbf-8697-ce2510d9ce8d",
   "metadata": {},
   "outputs": [
    {
     "data": {
      "text/plain": [
       "'(p_t & (q_t & r_t))'"
      ]
     },
     "execution_count": 17,
     "metadata": {},
     "output_type": "execute_result"
    }
   ],
   "source": [
    "repr(te(\"p_t & (q_t & r_t)\"))"
   ]
  },
  {
   "cell_type": "code",
   "execution_count": 20,
   "id": "00546e31-7c02-4690-b6d8-9166464b672e",
   "metadata": {},
   "outputs": [
    {
     "data": {
      "text/latex": [
       "${[\\lambda{} x_{e} \\: . \\: {x}]}({y}_{e})$"
      ],
      "text/plain": [
       "(λ x_e: x_e)(y_e)"
      ]
     },
     "execution_count": 20,
     "metadata": {},
     "output_type": "execute_result"
    }
   ],
   "source": [
    "te(\"(L x_e : x)(y_e)\") #.latex_str()"
   ]
  },
  {
   "cell_type": "code",
   "execution_count": 21,
   "id": "5ce0cf2e-0f08-45d7-8421-2f55d58d98c6",
   "metadata": {},
   "outputs": [
    {
     "data": {
      "text/plain": [
       "'(λ x_e: x_e)(y_e)'"
      ]
     },
     "execution_count": 21,
     "metadata": {},
     "output_type": "execute_result"
    }
   ],
   "source": [
    "repr(te(\"(L x_e : x)(y_e)\"))"
   ]
  },
  {
   "cell_type": "code",
   "execution_count": 22,
   "id": "c6c22083-f9bd-4006-8bbd-bbce03bfa351",
   "metadata": {},
   "outputs": [
    {
     "name": "stdout",
     "output_type": "stream",
     "text": [
      "INFO (core): Coerced guessed type for 'P_t' into <e,t>, to match argument 'x_e'\n"
     ]
    },
    {
     "data": {
      "text/latex": [
       "$(\\forall{} x_{e} \\: . \\: {P}({x}) \\wedge{} {q}_{t}) \\wedge{} {p}_{t}$"
      ],
      "text/plain": [
       "((Forall x_e: (P_<e,t>(x_e) & q_t)) ∧ p_t)"
      ]
     },
     "execution_count": 22,
     "metadata": {},
     "output_type": "execute_result"
    }
   ],
   "source": [
    "te(\"(Forall x_e : P(x) & q_t) & p_t\")"
   ]
  },
  {
   "cell_type": "code",
   "execution_count": 23,
   "id": "1502703b-b911-4381-a710-a4e5ebcf068f",
   "metadata": {},
   "outputs": [
    {
     "name": "stdout",
     "output_type": "stream",
     "text": [
      "INFO (core): Coerced guessed type for 'P_t' into <e,t>, to match argument 'x_e'\n"
     ]
    },
    {
     "data": {
      "text/plain": [
       "'((Forall x_e: (P_<e,t>(x_e) & q_t)) & p_t)'"
      ]
     },
     "execution_count": 23,
     "metadata": {},
     "output_type": "execute_result"
    }
   ],
   "source": [
    "repr(te(\"(Forall x_e : P(x) & q_t) & p_t\"))"
   ]
  },
  {
   "cell_type": "code",
   "execution_count": 24,
   "id": "de9d4bfe-4101-4c6a-8cf4-09df07f99840",
   "metadata": {},
   "outputs": [
    {
     "data": {
      "text/latex": [
       "$\\lambda{} x_{e} \\: . \\: ({x}, \\textsf{1})$"
      ],
      "text/plain": [
       "(λ x_e: (x_e, 1_n))"
      ]
     },
     "execution_count": 24,
     "metadata": {},
     "output_type": "execute_result"
    }
   ],
   "source": [
    "%te L x_e: (x_e, 1)"
   ]
  },
  {
   "cell_type": "code",
   "execution_count": 25,
   "id": "fb119703-33a2-4bd2-bdab-815f2397cbf8",
   "metadata": {},
   "outputs": [
    {
     "data": {
      "text/plain": [
       "'(λ x_e: (x_e, 1_n))'"
      ]
     },
     "execution_count": 25,
     "metadata": {},
     "output_type": "execute_result"
    }
   ],
   "source": [
    "repr(te(\"L x_e: (x_e, 1)\"))"
   ]
  },
  {
   "cell_type": "code",
   "execution_count": 26,
   "id": "b2b71b8e-09a4-40ee-9a57-513801dad038",
   "metadata": {},
   "outputs": [
    {
     "data": {
      "text/latex": [
       "$\\{{f}_{\\left\\langle{}e,t\\right\\rangle{}} \\:|\\: \\exists{} x_{e} \\: . \\: {f}_{\\left\\langle{}e,t\\right\\rangle{}}({x})\\}$"
      ],
      "text/plain": [
       "(Set f_<e,t>: (Exists x_e: f_<e,t>(x_e)))"
      ]
     },
     "execution_count": 26,
     "metadata": {},
     "output_type": "execute_result"
    }
   ],
   "source": [
    "x = %te Set f_<e,t> : Exists x_e : f(x)\n",
    "x"
   ]
  },
  {
   "cell_type": "code",
   "execution_count": 27,
   "id": "cecb94ef-5e32-4fe7-a18b-dabf8d0eea08",
   "metadata": {},
   "outputs": [
    {
     "data": {
      "text/plain": [
       "'(Set f_<e,t>: (Exists x_e: f_<e,t>(x_e)))'"
      ]
     },
     "execution_count": 27,
     "metadata": {},
     "output_type": "execute_result"
    }
   ],
   "source": [
    "repr(te(\"Set f_<e,t> : Exists x_e : f(x)\"))"
   ]
  },
  {
   "cell_type": "code",
   "execution_count": 28,
   "id": "691a13d2-eec2-468b-bb56-64b8d0e327d2",
   "metadata": {},
   "outputs": [
    {
     "data": {
      "text/latex": [
       "$\\{(\\lambda{} x_{e} \\: . \\: {x})\\}$"
      ],
      "text/plain": [
       "{(λ x_e: x_e)}"
      ]
     },
     "execution_count": 28,
     "metadata": {},
     "output_type": "execute_result"
    }
   ],
   "source": [
    "%te {(L x_e : x)}"
   ]
  },
  {
   "cell_type": "code",
   "execution_count": 29,
   "id": "a9814c9c-66fe-41a9-94ad-45a197396668",
   "metadata": {},
   "outputs": [
    {
     "data": {
      "text/plain": [
       "'{(λ x_e: x_e)}'"
      ]
     },
     "execution_count": 29,
     "metadata": {},
     "output_type": "execute_result"
    }
   ],
   "source": [
    "repr(te(\"{(L x_e : x)}\"))"
   ]
  },
  {
   "cell_type": "code",
   "execution_count": 30,
   "id": "4b751377-b61f-4d2d-b3dc-3a0a781be6a8",
   "metadata": {},
   "outputs": [
    {
     "name": "stdout",
     "output_type": "stream",
     "text": [
      "INFO (core): Coerced guessed type for 'P_t' into <(e,e),t>, to match argument '(x_e, y_e)'\n"
     ]
    },
    {
     "data": {
      "text/latex": [
       "$\\forall{} y_{e} \\: . \\: \\exists{} x_{e} \\: . \\: {P}({x}, {y})$"
      ],
      "text/plain": [
       "(Forall y_e: (Exists x_e: P_<(e,e),t>(x_e, y_e)))"
      ]
     },
     "execution_count": 30,
     "metadata": {},
     "output_type": "execute_result"
    }
   ],
   "source": [
    "%te Forall y_e : Exists x_e : P(x,y)"
   ]
  },
  {
   "cell_type": "code",
   "execution_count": 31,
   "id": "401a48a4-cc4a-44ca-91bb-d30beffedc1a",
   "metadata": {},
   "outputs": [
    {
     "name": "stdout",
     "output_type": "stream",
     "text": [
      "INFO (core): Coerced guessed type for 'P_t' into <(e,e),t>, to match argument '(x_e, y_e)'\n"
     ]
    },
    {
     "data": {
      "text/plain": [
       "'(Forall y_e: (Exists x_e: P_<(e,e),t>(x_e, y_e)))'"
      ]
     },
     "execution_count": 31,
     "metadata": {},
     "output_type": "execute_result"
    }
   ],
   "source": [
    "repr(te(\"Forall y_e : Exists x_e : P(x,y)\"))"
   ]
  },
  {
   "cell_type": "code",
   "execution_count": 32,
   "id": "03f168bd-8e30-43b1-a39f-e5eec0d983df",
   "metadata": {},
   "outputs": [
    {
     "data": {
      "text/latex": [
       "$\\forall{} x1_{e} \\: . \\: {x1} = {x}_{e} \\leftrightarrow{} {x1} = {y}_{e}$"
      ],
      "text/plain": [
       "(Forall x1_e: ((x1_e <=> x_e) <=> (x1_e <=> y_e)))"
      ]
     },
     "execution_count": 32,
     "metadata": {},
     "output_type": "execute_result"
    }
   ],
   "source": [
    "te(\"{x_e, y_e} <= {x_e}\").simplify_all(eliminate_sets=True)"
   ]
  },
  {
   "cell_type": "code",
   "execution_count": 33,
   "id": "f89420d1-487e-465e-aea4-26d657c6a3f9",
   "metadata": {},
   "outputs": [
    {
     "data": {
      "text/plain": [
       "'f_<<e,e>,t>(λ x_e: x_e)'"
      ]
     },
     "execution_count": 33,
     "metadata": {},
     "output_type": "execute_result"
    }
   ],
   "source": [
    "repr(te(\"f_<X,t>(L x_e : x)\"))"
   ]
  },
  {
   "cell_type": "code",
   "execution_count": 34,
   "id": "da2afc0c-1af3-4182-8e2f-62add88f9c6c",
   "metadata": {},
   "outputs": [
    {
     "data": {
      "text/plain": [
       "'f_<t,t>(Forall x_e: p_t)'"
      ]
     },
     "execution_count": 34,
     "metadata": {},
     "output_type": "execute_result"
    }
   ],
   "source": [
    "repr(te(\"f_<X,t>(Forall x_e : p_t)\"))"
   ]
  },
  {
   "cell_type": "code",
   "execution_count": 35,
   "id": "5fba178c-7896-427c-a601-7781378dce34",
   "metadata": {},
   "outputs": [
    {
     "data": {
      "text/plain": [
       "'f_<t,t>(p_t & q_t)'"
      ]
     },
     "execution_count": 35,
     "metadata": {},
     "output_type": "execute_result"
    }
   ],
   "source": [
    "repr(te(\"f_<X,t>(p_t & q_t)\"))"
   ]
  },
  {
   "cell_type": "code",
   "execution_count": null,
   "id": "19e94b80-ddbc-40b5-bbc3-cac7d1736f7b",
   "metadata": {},
   "outputs": [],
   "source": []
  }
 ],
 "metadata": {
  "kernelspec": {
   "display_name": "Lambda Notebook (Python 3)",
   "language": "python",
   "name": "lambda-notebook"
  },
  "language_info": {
   "codemirror_mode": {
    "name": "ipython",
    "version": 3
   },
   "file_extension": ".py",
   "mimetype": "text/x-python",
   "name": "python",
   "nbconvert_exporter": "python",
   "pygments_lexer": "ipython3",
   "version": "3.12.0"
  }
 },
 "nbformat": 4,
 "nbformat_minor": 5
}
