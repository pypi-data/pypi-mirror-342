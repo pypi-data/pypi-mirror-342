{
 "cells": [
  {
   "cell_type": "markdown",
   "id": "9ccbc05c-04f2-43b0-b0f4-bed5bad7434a",
   "metadata": {},
   "source": [
    "# Types"
   ]
  },
  {
   "cell_type": "markdown",
   "id": "eae099bf-259d-4b22-82c7-0de557ffbdf7",
   "metadata": {},
   "source": [
    "```\n",
    "test\n",
    "```"
   ]
  },
  {
   "cell_type": "code",
   "execution_count": 1,
   "id": "a67694af-fd06-42a3-b758-bcc59d587b2d",
   "metadata": {},
   "outputs": [
    {
     "data": {
      "text/markdown": [
       "<span style=\"color:red\">**TypeParseError**</span>: Missing type: \n",
       "```\n",
       "    ''\n",
       "     ^\n",
       "```"
      ],
      "text/plain": [
       "TypeParseError: Missing type: ``\n",
       "                               ^"
      ]
     },
     "metadata": {},
     "output_type": "display_data"
    }
   ],
   "source": [
    "%tp"
   ]
  },
  {
   "cell_type": "code",
   "execution_count": 2,
   "id": "526396ef-6486-4ab9-a57b-527bd3f4884f",
   "metadata": {},
   "outputs": [
    {
     "ename": "TypeParseError",
     "evalue": "Missing type",
     "output_type": "error",
     "traceback": [
      "\u001b[0;31m---------------------------------------------------------------------------\u001b[0m",
      "\u001b[0;31mTypeParseError\u001b[0m                            Traceback (most recent call last)",
      "Cell \u001b[0;32mIn[2], line 1\u001b[0m\n\u001b[0;32m----> 1\u001b[0m \u001b[43mtp\u001b[49m\u001b[43m(\u001b[49m\u001b[38;5;124;43m\"\u001b[39;49m\u001b[38;5;124;43m\"\u001b[39;49m\u001b[43m)\u001b[49m\n",
      "File \u001b[0;32m~/repos/lambda-notebook/lamb/meta/core.py:167\u001b[0m, in \u001b[0;36mtp\u001b[0;34m(s)\u001b[0m\n\u001b[1;32m    165\u001b[0m \u001b[38;5;28;01mdef\u001b[39;00m \u001b[38;5;21mtp\u001b[39m(s):\n\u001b[1;32m    166\u001b[0m \u001b[38;5;250m    \u001b[39m\u001b[38;5;124;03m\"\"\"Convenience wrapper for the current type system's type parser.\"\"\"\u001b[39;00m\n\u001b[0;32m--> 167\u001b[0m     \u001b[38;5;28;01mreturn\u001b[39;00m \u001b[43mget_type_system\u001b[49m\u001b[43m(\u001b[49m\u001b[43m)\u001b[49m\u001b[38;5;241;43m.\u001b[39;49m\u001b[43mtype_parser\u001b[49m\u001b[43m(\u001b[49m\u001b[43ms\u001b[49m\u001b[43m,\u001b[49m\u001b[43m \u001b[49m\u001b[43mrequire_exact_type\u001b[49m\u001b[38;5;241;43m=\u001b[39;49m\u001b[38;5;28;43;01mTrue\u001b[39;49;00m\u001b[43m)\u001b[49m\n",
      "File \u001b[0;32m~/repos/lambda-notebook/lamb/types.py:2019\u001b[0m, in \u001b[0;36mTypeSystem.type_parser\u001b[0;34m(self, s, require_exact_type)\u001b[0m\n\u001b[1;32m   2016\u001b[0m     \u001b[38;5;28;01mreturn\u001b[39;00m r\n\u001b[1;32m   2017\u001b[0m \u001b[38;5;28;01mexcept\u001b[39;00m parsing\u001b[38;5;241m.\u001b[39mParseError \u001b[38;5;28;01mas\u001b[39;00m e:\n\u001b[1;32m   2018\u001b[0m     \u001b[38;5;66;03m# TODO: raise this directly?\u001b[39;00m\n\u001b[0;32m-> 2019\u001b[0m     \u001b[38;5;28;01mraise\u001b[39;00m TypeParseError(e\u001b[38;5;241m.\u001b[39mmsg, s\u001b[38;5;241m=\u001b[39me\u001b[38;5;241m.\u001b[39ms, i\u001b[38;5;241m=\u001b[39me\u001b[38;5;241m.\u001b[39mi)\u001b[38;5;241m.\u001b[39mwith_traceback(e\u001b[38;5;241m.\u001b[39m__traceback__) \u001b[38;5;28;01mfrom\u001b[39;00m \u001b[38;5;28;01mNone\u001b[39;00m\n",
      "File \u001b[0;32m~/repos/lambda-notebook/lamb/types.py:2013\u001b[0m, in \u001b[0;36mTypeSystem.type_parser\u001b[0;34m(self, s, require_exact_type)\u001b[0m\n\u001b[1;32m   2011\u001b[0m \u001b[38;5;28;01mdef\u001b[39;00m \u001b[38;5;21mtype_parser\u001b[39m(\u001b[38;5;28mself\u001b[39m, s, require_exact_type\u001b[38;5;241m=\u001b[39m\u001b[38;5;28;01mFalse\u001b[39;00m):\n\u001b[1;32m   2012\u001b[0m     \u001b[38;5;28;01mtry\u001b[39;00m:\n\u001b[0;32m-> 2013\u001b[0m         (r, i) \u001b[38;5;241m=\u001b[39m \u001b[38;5;28;43mself\u001b[39;49m\u001b[38;5;241;43m.\u001b[39;49m\u001b[43mtype_parser_recursive\u001b[49m\u001b[43m(\u001b[49m\u001b[43ms\u001b[49m\u001b[43m)\u001b[49m\n\u001b[1;32m   2014\u001b[0m         \u001b[38;5;28;01mif\u001b[39;00m require_exact_type \u001b[38;5;129;01mand\u001b[39;00m i \u001b[38;5;241m<\u001b[39m \u001b[38;5;28mlen\u001b[39m(s):\n\u001b[1;32m   2015\u001b[0m             \u001b[38;5;28;01mraise\u001b[39;00m TypeParseError(\u001b[38;5;124m\"\u001b[39m\u001b[38;5;124mExtraneous characters in type\u001b[39m\u001b[38;5;124m\"\u001b[39m, s\u001b[38;5;241m=\u001b[39ms, i\u001b[38;5;241m=\u001b[39mi)\n",
      "File \u001b[0;32m~/repos/lambda-notebook/lamb/types.py:2006\u001b[0m, in \u001b[0;36mTypeSystem.type_parser_recursive\u001b[0;34m(self, s, i)\u001b[0m\n\u001b[1;32m   2004\u001b[0m \u001b[38;5;66;03m# none of the non-atomics succeeded, so try atomic parser.\u001b[39;00m\n\u001b[1;32m   2005\u001b[0m \u001b[38;5;28;01mif\u001b[39;00m i \u001b[38;5;241m>\u001b[39m\u001b[38;5;241m=\u001b[39m \u001b[38;5;28mlen\u001b[39m(s):\n\u001b[0;32m-> 2006\u001b[0m     \u001b[38;5;28;01mraise\u001b[39;00m TypeParseError(\u001b[38;5;124m\"\u001b[39m\u001b[38;5;124mMissing type\u001b[39m\u001b[38;5;124m\"\u001b[39m, s, i)\n\u001b[1;32m   2007\u001b[0m (result, i) \u001b[38;5;241m=\u001b[39m \u001b[38;5;28mself\u001b[39m\u001b[38;5;241m.\u001b[39matomic_parser(s, i)\n\u001b[1;32m   2008\u001b[0m \u001b[38;5;66;03m# may return None?\u001b[39;00m\n",
      "\u001b[0;31mTypeParseError\u001b[0m: Missing type",
      "\u001b[0m  ``\n   ^"
     ]
    }
   ],
   "source": [
    "tp(\"\")"
   ]
  },
  {
   "cell_type": "code",
   "execution_count": 1,
   "id": "c2150bfc-5669-4122-b3b8-edac904f7942",
   "metadata": {},
   "outputs": [
    {
     "data": {
      "text/markdown": [
       "<span style=\"color:red\">**TypeParseError**</span>: Unmatched `<` while parsing `FunType`: \n",
       "```\n",
       "    '<e,t'\n",
       "         ^\n",
       "```"
      ],
      "text/plain": [
       "TypeParseError: Unmatched `<` while parsing `FunType`: `<e,t`\n",
       "                                                            ^"
      ]
     },
     "metadata": {},
     "output_type": "display_data"
    }
   ],
   "source": [
    "%tp <e,t"
   ]
  },
  {
   "cell_type": "code",
   "execution_count": 2,
   "id": "7e49ed86-fcf9-4751-a7c7-b3cb814e489f",
   "metadata": {},
   "outputs": [
    {
     "data": {
      "text/markdown": [
       "<span style=\"color:red\">**TypeParseError**</span>: Extraneous characters in type: \n",
       "```\n",
       "    '<e,t>>'\n",
       "          ^\n",
       "```"
      ],
      "text/plain": [
       "TypeParseError: Extraneous characters in type: `<e,t>>`\n",
       "                                                     ^"
      ]
     },
     "metadata": {},
     "output_type": "display_data"
    }
   ],
   "source": [
    "%tp <e,t>>"
   ]
  },
  {
   "cell_type": "code",
   "execution_count": 3,
   "id": "aef7d1de-49ad-4d2c-bb1e-ed406e0aa969",
   "metadata": {},
   "outputs": [
    {
     "data": {
      "text/markdown": [
       "<span style=\"color:red\">**TypeParseError**</span>: Unmatched `<` while parsing `FunType`: \n",
       "```\n",
       "    '<e,'\n",
       "        ^\n",
       "```"
      ],
      "text/plain": [
       "TypeParseError: Unmatched `<` while parsing `FunType`: `<e,`\n",
       "                                                           ^"
      ]
     },
     "metadata": {},
     "output_type": "display_data"
    }
   ],
   "source": [
    "%tp <e,"
   ]
  },
  {
   "cell_type": "code",
   "execution_count": 4,
   "id": "d137f19d-2ab1-4b51-bcf9-fef0c6727b4b",
   "metadata": {},
   "outputs": [
    {
     "data": {
      "text/markdown": [
       "<span style=\"color:red\">**TypeParseError**</span>: Unmatched `<` while parsing `FunType`: \n",
       "```\n",
       "    '<e'\n",
       "       ^\n",
       "```"
      ],
      "text/plain": [
       "TypeParseError: Unmatched `<` while parsing `FunType`: `<e`\n",
       "                                                          ^"
      ]
     },
     "metadata": {},
     "output_type": "display_data"
    }
   ],
   "source": [
    "%tp <e"
   ]
  },
  {
   "cell_type": "code",
   "execution_count": 5,
   "id": "c7fc9995-0904-4a64-9db9-a293bf5246c1",
   "metadata": {},
   "outputs": [
    {
     "data": {
      "text/markdown": [
       "<span style=\"color:red\">**TypeParseError**</span>: Unmatched `<` while parsing `FunType`: \n",
       "```\n",
       "    '<'\n",
       "      ^\n",
       "```"
      ],
      "text/plain": [
       "TypeParseError: Unmatched `<` while parsing `FunType`: `<`\n",
       "                                                         ^"
      ]
     },
     "metadata": {},
     "output_type": "display_data"
    }
   ],
   "source": [
    "%tp <"
   ]
  },
  {
   "cell_type": "code",
   "execution_count": 6,
   "id": "576d8903-eb72-42cb-a522-6049497d1413",
   "metadata": {},
   "outputs": [
    {
     "data": {
      "text/markdown": [
       "<span style=\"color:red\">**TypeParseError**</span>: Type constructor `FunType` requires 2 arguments (received 3): \n",
       "```\n",
       "    '<e,e,t>'\n",
       "     ^\n",
       "```"
      ],
      "text/plain": [
       "TypeParseError: Type constructor `FunType` requires 2 arguments (received 3): `<e,e,t>`\n",
       "                                                                               ^"
      ]
     },
     "metadata": {},
     "output_type": "display_data"
    }
   ],
   "source": [
    "%tp <e,e,t>"
   ]
  },
  {
   "cell_type": "code",
   "execution_count": 7,
   "id": "a01b1355-bdc9-429c-bd5e-f853e046b3a1",
   "metadata": {},
   "outputs": [
    {
     "data": {
      "text/markdown": [
       "<span style=\"color:red\">**TypeParseError**</span>: Type constructor `FunType` requires 2 arguments (received 0): \n",
       "```\n",
       "    '<>'\n",
       "     ^\n",
       "```"
      ],
      "text/plain": [
       "TypeParseError: Type constructor `FunType` requires 2 arguments (received 0): `<>`\n",
       "                                                                               ^"
      ]
     },
     "metadata": {},
     "output_type": "display_data"
    }
   ],
   "source": [
    "%tp <>"
   ]
  },
  {
   "cell_type": "code",
   "execution_count": 8,
   "id": "3cb6c9a2-2163-467d-a13b-4b67a3655eb9",
   "metadata": {},
   "outputs": [
    {
     "data": {
      "text/markdown": [
       "<span style=\"color:red\">**TypeParseError**</span>: Type constructor `FunType` requires 2 arguments (received 1): \n",
       "```\n",
       "    '<e,>'\n",
       "     ^\n",
       "```"
      ],
      "text/plain": [
       "TypeParseError: Type constructor `FunType` requires 2 arguments (received 1): `<e,>`\n",
       "                                                                               ^"
      ]
     },
     "metadata": {},
     "output_type": "display_data"
    }
   ],
   "source": [
    "%tp <e,>"
   ]
  },
  {
   "cell_type": "code",
   "execution_count": 9,
   "id": "0324eccd-e778-400f-b323-95e8175d3be5",
   "metadata": {},
   "outputs": [
    {
     "data": {
      "text/markdown": [
       "<span style=\"color:red\">**TypeParseError**</span>: Extraneous character after subexpression `t` while parsing `TupleType`: \n",
       "```\n",
       "    '<e,(e,t>'\n",
       "            ^\n",
       "```"
      ],
      "text/plain": [
       "TypeParseError: Extraneous character after subexpression `t` while parsing `TupleType`: `<e,(e,t>`\n",
       "                                                                                                ^"
      ]
     },
     "metadata": {},
     "output_type": "display_data"
    }
   ],
   "source": [
    "%tp <e,(e,t>"
   ]
  },
  {
   "cell_type": "code",
   "execution_count": 10,
   "id": "34054af4-9cf2-44b4-b20e-f4bc5ce05580",
   "metadata": {},
   "outputs": [
    {
     "data": {
      "text/markdown": [
       "<span style=\"color:red\">**TypeParseError**</span>: Extraneous character after subexpression `e` while parsing `SetType`: \n",
       "```\n",
       "    '<e,{e>'\n",
       "          ^\n",
       "```"
      ],
      "text/plain": [
       "TypeParseError: Extraneous character after subexpression `e` while parsing `SetType`: `<e,{e>`\n",
       "                                                                                            ^"
      ]
     },
     "metadata": {},
     "output_type": "display_data"
    }
   ],
   "source": [
    "%tp <e,{e>"
   ]
  },
  {
   "cell_type": "code",
   "execution_count": 11,
   "id": "9d935508-2836-4e8b-bb18-c1e3d960df56",
   "metadata": {},
   "outputs": [
    {
     "data": {
      "text/markdown": [
       "<span style=\"color:red\">**TypeParseError**</span>: Extraneous character after subexpression `e` while parsing `FunType`: \n",
       "```\n",
       "    '<e<e,t>>'\n",
       "       ^\n",
       "```"
      ],
      "text/plain": [
       "TypeParseError: Extraneous character after subexpression `e` while parsing `FunType`: `<e<e,t>>`\n",
       "                                                                                         ^"
      ]
     },
     "metadata": {},
     "output_type": "display_data"
    }
   ],
   "source": [
    "%tp <e<e,t>>"
   ]
  },
  {
   "cell_type": "code",
   "execution_count": 12,
   "id": "d2acfdbd-c582-4ee5-a8f8-48917b18712b",
   "metadata": {},
   "outputs": [
    {
     "data": {
      "text/markdown": [
       "<span style=\"color:red\">**TypeParseError**</span>: Unmatched `(` while parsing `TupleType`: \n",
       "```\n",
       "    '('\n",
       "      ^\n",
       "```"
      ],
      "text/plain": [
       "TypeParseError: Unmatched `(` while parsing `TupleType`: `(`\n",
       "                                                           ^"
      ]
     },
     "metadata": {},
     "output_type": "display_data"
    }
   ],
   "source": [
    "%tp ("
   ]
  },
  {
   "cell_type": "code",
   "execution_count": 13,
   "id": "68a48d00-9fb6-42c6-b8f3-76f537b296d3",
   "metadata": {},
   "outputs": [
    {
     "data": {
      "text/markdown": [
       "<span style=\"color:red\">**TypeParseError**</span>: Unmatched `(` while parsing `TupleType`: \n",
       "```\n",
       "    '(e'\n",
       "       ^\n",
       "```"
      ],
      "text/plain": [
       "TypeParseError: Unmatched `(` while parsing `TupleType`: `(e`\n",
       "                                                            ^"
      ]
     },
     "metadata": {},
     "output_type": "display_data"
    }
   ],
   "source": [
    "%tp (e"
   ]
  },
  {
   "cell_type": "code",
   "execution_count": 14,
   "id": "07a49c60-2f80-4b18-8361-3e36fc50c074",
   "metadata": {},
   "outputs": [
    {
     "data": {
      "text/markdown": [
       "<span style=\"color:red\">**TypeParseError**</span>: Unmatched `(` while parsing `TupleType`: \n",
       "```\n",
       "    '(e,e'\n",
       "         ^\n",
       "```"
      ],
      "text/plain": [
       "TypeParseError: Unmatched `(` while parsing `TupleType`: `(e,e`\n",
       "                                                              ^"
      ]
     },
     "metadata": {},
     "output_type": "display_data"
    }
   ],
   "source": [
    "%tp (e,e"
   ]
  },
  {
   "cell_type": "code",
   "execution_count": 15,
   "id": "a3d90766-3853-4145-ba76-38545ca601da",
   "metadata": {},
   "outputs": [
    {
     "data": {
      "text/markdown": [
       "<span style=\"color:red\">**TypeParseError**</span>: Unmatched `[` while parsing `DisjunctiveType`: \n",
       "```\n",
       "    '['\n",
       "      ^\n",
       "```"
      ],
      "text/plain": [
       "TypeParseError: Unmatched `[` while parsing `DisjunctiveType`: `[`\n",
       "                                                                 ^"
      ]
     },
     "metadata": {},
     "output_type": "display_data"
    }
   ],
   "source": [
    "%tp ["
   ]
  },
  {
   "cell_type": "code",
   "execution_count": 16,
   "id": "a45ef4de-b156-4d66-a7a0-01c373d50b20",
   "metadata": {},
   "outputs": [
    {
     "data": {
      "text/markdown": [
       "<span style=\"color:red\">**TypeParseError**</span>: Unmatched `[` while parsing `DisjunctiveType`: \n",
       "```\n",
       "    '[e'\n",
       "       ^\n",
       "```"
      ],
      "text/plain": [
       "TypeParseError: Unmatched `[` while parsing `DisjunctiveType`: `[e`\n",
       "                                                                  ^"
      ]
     },
     "metadata": {},
     "output_type": "display_data"
    }
   ],
   "source": [
    "%tp [e"
   ]
  },
  {
   "cell_type": "code",
   "execution_count": 17,
   "id": "1cd1656a-dc00-41f4-84ee-decafe9f02f2",
   "metadata": {},
   "outputs": [
    {
     "data": {
      "text/markdown": [
       "<span style=\"color:red\">**TypeParseError**</span>: Unmatched `[` while parsing `DisjunctiveType`: \n",
       "```\n",
       "    '[e|'\n",
       "        ^\n",
       "```"
      ],
      "text/plain": [
       "TypeParseError: Unmatched `[` while parsing `DisjunctiveType`: `[e|`\n",
       "                                                                   ^"
      ]
     },
     "metadata": {},
     "output_type": "display_data"
    }
   ],
   "source": [
    "%tp [e|"
   ]
  },
  {
   "cell_type": "code",
   "execution_count": 18,
   "id": "0d46fb33-43a0-45a3-bd46-445510e622b0",
   "metadata": {},
   "outputs": [
    {
     "data": {
      "text/markdown": [
       "<span style=\"color:red\">**TypeParseError**</span>: Unmatched `[` while parsing `DisjunctiveType`: \n",
       "```\n",
       "    '[e|e'\n",
       "         ^\n",
       "```"
      ],
      "text/plain": [
       "TypeParseError: Unmatched `[` while parsing `DisjunctiveType`: `[e|e`\n",
       "                                                                    ^"
      ]
     },
     "metadata": {},
     "output_type": "display_data"
    }
   ],
   "source": [
    "%tp [e|e"
   ]
  },
  {
   "cell_type": "code",
   "execution_count": 19,
   "id": "58ee8b1e-072b-417e-9985-23cce0e86d18",
   "metadata": {},
   "outputs": [
    {
     "data": {
      "text/markdown": [
       "<span style=\"color:red\">**TypeParseError**</span>: Unmatched `{` while parsing `SetType`: \n",
       "```\n",
       "    '{e'\n",
       "       ^\n",
       "```"
      ],
      "text/plain": [
       "TypeParseError: Unmatched `{` while parsing `SetType`: `{e`\n",
       "                                                          ^"
      ]
     },
     "metadata": {},
     "output_type": "display_data"
    }
   ],
   "source": [
    "%tp {e"
   ]
  },
  {
   "cell_type": "code",
   "execution_count": 22,
   "id": "247e29bb-b985-4e6a-9351-e7fdb0450baf",
   "metadata": {},
   "outputs": [
    {
     "data": {
      "text/markdown": [
       "<span style=\"color:red\">**TypeParseError**</span>: Extraneous characters in type: \n",
       "```\n",
       "    '{e}}'\n",
       "        ^\n",
       "```"
      ],
      "text/plain": [
       "TypeParseError: Extraneous characters in type: `{e}}`\n",
       "                                                   ^"
      ]
     },
     "metadata": {},
     "output_type": "display_data"
    }
   ],
   "source": [
    "%tp {e}}"
   ]
  },
  {
   "cell_type": "code",
   "execution_count": 20,
   "id": "07a833fb-78b7-422c-9a08-3eec0098ffb4",
   "metadata": {},
   "outputs": [
    {
     "data": {
      "text/latex": [
       "$\\left\\{e\\right\\}$"
      ],
      "text/plain": [
       "{e}"
      ]
     },
     "execution_count": 20,
     "metadata": {},
     "output_type": "execute_result"
    }
   ],
   "source": [
    "%tp {e,}"
   ]
  },
  {
   "cell_type": "markdown",
   "id": "476951ac-a827-415d-a1db-6c998630118f",
   "metadata": {},
   "source": [
    "# Metalanguage"
   ]
  },
  {
   "cell_type": "code",
   "execution_count": 21,
   "id": "cb0bb85a-6c89-474f-b887-826442438253",
   "metadata": {},
   "outputs": [],
   "source": [
    "%te\n",
    "te(\"\") # should these error??"
   ]
  },
  {
   "cell_type": "code",
   "execution_count": 22,
   "id": "e0fe7c26-4bd4-4c49-bcfc-bf44921c4047",
   "metadata": {},
   "outputs": [
    {
     "data": {
      "text/markdown": [
       "<span style=\"color:red\">**ParseError**</span>: Extraneous character after subexpression `e` while parsing `FunType`: \n",
       "```\n",
       "    'L x_<e : x'\n",
       "           ^\n",
       "```"
      ],
      "text/plain": [
       "ParseError: Extraneous character after subexpression `e` while parsing `FunType`: `L x_<e : x`\n",
       "                                                                                         ^"
      ]
     },
     "metadata": {},
     "output_type": "display_data"
    }
   ],
   "source": [
    "%te L x_<e : x"
   ]
  },
  {
   "cell_type": "code",
   "execution_count": 23,
   "id": "a0259cc1-4b4d-4ced-bf2e-c015b0d77ff9",
   "metadata": {},
   "outputs": [
    {
     "data": {
      "text/markdown": [
       "<span style=\"color:red\">**ParseError**</span>: Extraneous character after subexpression `e` while parsing `FunType`: \n",
       "```\n",
       "    'L x_<e : x'\n",
       "           ^\n",
       "```"
      ],
      "text/plain": [
       "ParseError: Extraneous character after subexpression `e` while parsing `FunType`: `L x_<e : x`\n",
       "                                                                                         ^"
      ]
     },
     "metadata": {},
     "output_type": "display_data"
    }
   ],
   "source": [
    "%lamb x = L x_<e : x"
   ]
  },
  {
   "cell_type": "code",
   "execution_count": 24,
   "id": "d3c03a83-57bf-4c3b-a90c-78951cd3292a",
   "metadata": {},
   "outputs": [
    {
     "data": {
      "text/markdown": [
       "<span style=\"color:red\">**ParseError**</span>: Extraneous character after subexpression `e` while parsing `FunType`: \n",
       "```\n",
       "    'L x_<e : x'\n",
       "           ^\n",
       "```"
      ],
      "text/plain": [
       "ParseError: Extraneous character after subexpression `e` while parsing `FunType`: `L x_<e : x`\n",
       "                                                                                         ^"
      ]
     },
     "metadata": {},
     "output_type": "display_data"
    }
   ],
   "source": [
    "%lamb ||x|| = L x_<e : x"
   ]
  },
  {
   "cell_type": "code",
   "execution_count": 25,
   "id": "eca4f2c7-b007-4716-9933-d46da70a471f",
   "metadata": {},
   "outputs": [
    {
     "ename": "ParseError",
     "evalue": "Extraneous character after subexpression `e` while parsing `FunType`",
     "output_type": "error",
     "traceback": [
      "\u001b[0;31m---------------------------------------------------------------------------\u001b[0m",
      "\u001b[0;31mParseError\u001b[0m                                Traceback (most recent call last)",
      "Cell \u001b[0;32mIn[25], line 1\u001b[0m\n\u001b[0;32m----> 1\u001b[0m \u001b[43mte\u001b[49m\u001b[43m(\u001b[49m\u001b[38;5;124;43m\"\u001b[39;49m\u001b[38;5;124;43mL x_<e : x\u001b[39;49m\u001b[38;5;124;43m\"\u001b[39;49m\u001b[43m)\u001b[49m\n",
      "File \u001b[0;32m~/repos/lambda-notebook/lamb/meta/core.py:182\u001b[0m, in \u001b[0;36mte\u001b[0;34m(s, let, assignment, _globals)\u001b[0m\n\u001b[1;32m    180\u001b[0m \u001b[38;5;28;01mif\u001b[39;00m _globals \u001b[38;5;129;01mis\u001b[39;00m \u001b[38;5;28;01mNone\u001b[39;00m:\n\u001b[1;32m    181\u001b[0m     _globals \u001b[38;5;241m=\u001b[39m global_namespace()\n\u001b[0;32m--> 182\u001b[0m result \u001b[38;5;241m=\u001b[39m \u001b[43mTypedExpr\u001b[49m\u001b[38;5;241;43m.\u001b[39;49m\u001b[43mfactory\u001b[49m\u001b[43m(\u001b[49m\u001b[43ms\u001b[49m\u001b[43m,\u001b[49m\u001b[43m \u001b[49m\u001b[43massignment\u001b[49m\u001b[38;5;241;43m=\u001b[39;49m\u001b[43massignment\u001b[49m\u001b[43m,\u001b[49m\u001b[43m \u001b[49m\u001b[43m_globals\u001b[49m\u001b[38;5;241;43m=\u001b[39;49m\u001b[43m_globals\u001b[49m\u001b[43m)\u001b[49m\n\u001b[1;32m    183\u001b[0m \u001b[38;5;28;01mif\u001b[39;00m let \u001b[38;5;129;01mand\u001b[39;00m \u001b[38;5;28misinstance\u001b[39m(result, TypedExpr):\n\u001b[1;32m    184\u001b[0m     result \u001b[38;5;241m=\u001b[39m let_wrapper(result)\n",
      "File \u001b[0;32m~/repos/lambda-notebook/lamb/meta/core.py:2038\u001b[0m, in \u001b[0;36mTypedExpr.factory\u001b[0;34m(cls, assignment, _globals, *args)\u001b[0m\n\u001b[1;32m   2035\u001b[0m     \u001b[38;5;28;01mreturn\u001b[39;00m from_python(s, types\u001b[38;5;241m.\u001b[39mtype_n)\n\u001b[1;32m   2036\u001b[0m \u001b[38;5;28;01melif\u001b[39;00m \u001b[38;5;28misinstance\u001b[39m(s, \u001b[38;5;28mstr\u001b[39m):\n\u001b[1;32m   2037\u001b[0m     \u001b[38;5;66;03m#return cls.parse_expr_string(s, assignment)\u001b[39;00m\n\u001b[0;32m-> 2038\u001b[0m     \u001b[38;5;28;01mreturn\u001b[39;00m \u001b[38;5;28;43mcls\u001b[39;49m\u001b[38;5;241;43m.\u001b[39;49m\u001b[43mparse\u001b[49m\u001b[43m(\u001b[49m\u001b[43ms\u001b[49m\u001b[43m,\u001b[49m\u001b[43m \u001b[49m\u001b[43massignment\u001b[49m\u001b[43m)\u001b[49m\n\u001b[1;32m   2039\u001b[0m \u001b[38;5;28;01melse\u001b[39;00m:\n\u001b[1;32m   2040\u001b[0m     c \u001b[38;5;241m=\u001b[39m from_python_container(s)\n",
      "File \u001b[0;32m~/repos/lambda-notebook/lamb/meta/core.py:1664\u001b[0m, in \u001b[0;36mTypedExpr.parse\u001b[0;34m(cls, s, assignment, locals)\u001b[0m\n\u001b[1;32m   1662\u001b[0m     assignment \u001b[38;5;241m=\u001b[39m \u001b[38;5;28mdict\u001b[39m()\n\u001b[1;32m   1663\u001b[0m ts \u001b[38;5;241m=\u001b[39m get_type_system()\n\u001b[0;32m-> 1664\u001b[0m (struc, i) \u001b[38;5;241m=\u001b[39m \u001b[43mparsing\u001b[49m\u001b[38;5;241;43m.\u001b[39;49m\u001b[43mparse_paren_str\u001b[49m\u001b[43m(\u001b[49m\u001b[43ms\u001b[49m\u001b[43m,\u001b[49m\u001b[43m \u001b[49m\u001b[38;5;241;43m0\u001b[39;49m\u001b[43m,\u001b[49m\u001b[43m \u001b[49m\u001b[43mts\u001b[49m\u001b[43m)\u001b[49m\n\u001b[1;32m   1665\u001b[0m \u001b[38;5;66;03m# Intercept any ParseError and update `s` to ensure we don't show strings\u001b[39;00m\n\u001b[1;32m   1666\u001b[0m \u001b[38;5;66;03m# with replacements\u001b[39;00m\n\u001b[1;32m   1667\u001b[0m \u001b[38;5;66;03m# TODO: this is generally a bit too wide. It'd be better to do something\u001b[39;00m\n\u001b[1;32m   1668\u001b[0m \u001b[38;5;66;03m# like, show the biggest subexpression that has no replacements in which\u001b[39;00m\n\u001b[1;32m   1669\u001b[0m \u001b[38;5;66;03m# the error occurred.\u001b[39;00m\n\u001b[1;32m   1670\u001b[0m \u001b[38;5;28;01mwith\u001b[39;00m parsing\u001b[38;5;241m.\u001b[39mparse_error_wrap(\u001b[38;5;124m\"\u001b[39m\u001b[38;5;124mFailed to parse expression\u001b[39m\u001b[38;5;124m\"\u001b[39m, s\u001b[38;5;241m=\u001b[39ms, wrap_all\u001b[38;5;241m=\u001b[39m\u001b[38;5;28;01mFalse\u001b[39;00m):\n",
      "File \u001b[0;32m~/repos/lambda-notebook/lamb/parsing.py:831\u001b[0m, in \u001b[0;36mparse_paren_str\u001b[0;34m(s, i, type_sys)\u001b[0m\n\u001b[1;32m    822\u001b[0m \u001b[38;5;250m\u001b[39m\u001b[38;5;124;03m\"\"\"Turn a string with parenthesis into a structured representation,\u001b[39;00m\n\u001b[1;32m    823\u001b[0m \u001b[38;5;124;03mchecking balance.\u001b[39;00m\n\u001b[1;32m    824\u001b[0m \n\u001b[0;32m   (...)\u001b[0m\n\u001b[1;32m    828\u001b[0m \n\u001b[1;32m    829\u001b[0m \u001b[38;5;124;03mRight now only pays attention to () and {}.\"\"\"\u001b[39;00m\n\u001b[1;32m    830\u001b[0m stack \u001b[38;5;241m=\u001b[39m \u001b[38;5;28mlist\u001b[39m()\n\u001b[0;32m--> 831\u001b[0m (seq, i) \u001b[38;5;241m=\u001b[39m \u001b[43mparse_paren_str_r\u001b[49m\u001b[43m(\u001b[49m\u001b[43ms\u001b[49m\u001b[43m,\u001b[49m\u001b[43m \u001b[49m\u001b[43mi\u001b[49m\u001b[43m,\u001b[49m\u001b[43m \u001b[49m\u001b[43mstack\u001b[49m\u001b[43m,\u001b[49m\u001b[43m \u001b[49m\u001b[43mtype_sys\u001b[49m\u001b[38;5;241;43m=\u001b[39;49m\u001b[43mtype_sys\u001b[49m\u001b[43m)\u001b[49m\n\u001b[1;32m    832\u001b[0m \u001b[38;5;28;01mif\u001b[39;00m \u001b[38;5;28mlen\u001b[39m(stack) \u001b[38;5;241m!=\u001b[39m \u001b[38;5;241m0\u001b[39m:\n\u001b[1;32m    833\u001b[0m     \u001b[38;5;28;01mraise\u001b[39;00m ParseError(\u001b[38;5;124m\"\u001b[39m\u001b[38;5;124mUnbalanced \u001b[39m\u001b[38;5;124m'\u001b[39m\u001b[38;5;132;01m%s\u001b[39;00m\u001b[38;5;124m...\u001b[39m\u001b[38;5;132;01m%s\u001b[39;00m\u001b[38;5;124m'\u001b[39m\u001b[38;5;124m expression at end of string\u001b[39m\u001b[38;5;124m\"\u001b[39m \u001b[38;5;241m%\u001b[39m\n\u001b[1;32m    834\u001b[0m                                 (stack[\u001b[38;5;241m-\u001b[39m\u001b[38;5;241m1\u001b[39m], brackets[stack[\u001b[38;5;241m-\u001b[39m\u001b[38;5;241m1\u001b[39m]]), s, i)\n",
      "File \u001b[0;32m~/repos/lambda-notebook/lamb/parsing.py:785\u001b[0m, in \u001b[0;36mparse_paren_str_r\u001b[0;34m(s, i, stack, initial_accum, type_sys)\u001b[0m\n\u001b[1;32m    781\u001b[0m accum \u001b[38;5;241m+\u001b[39m\u001b[38;5;241m=\u001b[39m \u001b[38;5;124m\"\u001b[39m\u001b[38;5;124m_\u001b[39m\u001b[38;5;124m\"\u001b[39m\n\u001b[1;32m    782\u001b[0m \u001b[38;5;66;03m# have to parse type here in order to handle bracketing in types\u001b[39;00m\n\u001b[1;32m    783\u001b[0m \u001b[38;5;66;03m# correctly. I don't think there's a shortcut to this.  In the long\u001b[39;00m\n\u001b[1;32m    784\u001b[0m \u001b[38;5;66;03m# run, this should do proper tokenizing of terms.\u001b[39;00m\n\u001b[0;32m--> 785\u001b[0m typ, end \u001b[38;5;241m=\u001b[39m \u001b[43mtype_sys\u001b[49m\u001b[38;5;241;43m.\u001b[39;49m\u001b[43mtype_parser_recursive\u001b[49m\u001b[43m(\u001b[49m\u001b[43ms\u001b[49m\u001b[43m,\u001b[49m\u001b[43m \u001b[49m\u001b[43mi\u001b[49m\u001b[38;5;241;43m+\u001b[39;49m\u001b[38;5;241;43m1\u001b[39;49m\u001b[43m)\u001b[49m\n\u001b[1;32m    786\u001b[0m \u001b[38;5;28;01massert\u001b[39;00m(typ \u001b[38;5;129;01mis\u001b[39;00m \u001b[38;5;129;01mnot\u001b[39;00m \u001b[38;5;28;01mNone\u001b[39;00m)\n\u001b[1;32m    787\u001b[0m \u001b[38;5;66;03m# this is unfortunate...\u001b[39;00m\n",
      "File \u001b[0;32m~/repos/lambda-notebook/lamb/types.py:1999\u001b[0m, in \u001b[0;36mTypeSystem.type_parser_recursive\u001b[0;34m(self, s, i)\u001b[0m\n\u001b[1;32m   1997\u001b[0m \u001b[38;5;28;01mdef\u001b[39;00m \u001b[38;5;21mtype_parser_recursive\u001b[39m(\u001b[38;5;28mself\u001b[39m, s, i\u001b[38;5;241m=\u001b[39m\u001b[38;5;241m0\u001b[39m):\n\u001b[1;32m   1998\u001b[0m     \u001b[38;5;28;01mfor\u001b[39;00m na \u001b[38;5;129;01min\u001b[39;00m \u001b[38;5;28mself\u001b[39m\u001b[38;5;241m.\u001b[39mnonatomics:\n\u001b[0;32m-> 1999\u001b[0m         result, \u001b[38;5;28mnext\u001b[39m \u001b[38;5;241m=\u001b[39m \u001b[43mna\u001b[49m\u001b[38;5;241;43m.\u001b[39;49m\u001b[43mparse\u001b[49m\u001b[43m(\u001b[49m\u001b[43ms\u001b[49m\u001b[43m,\u001b[49m\u001b[43m \u001b[49m\u001b[43mi\u001b[49m\u001b[43m,\u001b[49m\u001b[43m \u001b[49m\u001b[38;5;28;43mself\u001b[39;49m\u001b[38;5;241;43m.\u001b[39;49m\u001b[43mtype_parser_recursive\u001b[49m\u001b[43m)\u001b[49m\n\u001b[1;32m   2000\u001b[0m         \u001b[38;5;28;01mif\u001b[39;00m result \u001b[38;5;129;01mis\u001b[39;00m \u001b[38;5;129;01mnot\u001b[39;00m \u001b[38;5;28;01mNone\u001b[39;00m:\n\u001b[1;32m   2001\u001b[0m             \u001b[38;5;66;03m# one of the non-atomics succeeded\u001b[39;00m\n\u001b[1;32m   2002\u001b[0m             \u001b[38;5;28;01mreturn\u001b[39;00m (result, \u001b[38;5;28mnext\u001b[39m)\n",
      "File \u001b[0;32m~/repos/lambda-notebook/lamb/types.py:865\u001b[0m, in \u001b[0;36mFunType.parse\u001b[0;34m(cls, s, i, parse_control_fun)\u001b[0m\n\u001b[1;32m    863\u001b[0m \u001b[38;5;129m@classmethod\u001b[39m\n\u001b[1;32m    864\u001b[0m \u001b[38;5;28;01mdef\u001b[39;00m \u001b[38;5;21mparse\u001b[39m(\u001b[38;5;28mcls\u001b[39m, s, i, parse_control_fun):\n\u001b[0;32m--> 865\u001b[0m     \u001b[38;5;28;01mreturn\u001b[39;00m \u001b[38;5;28;43mcls\u001b[39;49m\u001b[38;5;241;43m.\u001b[39;49m\u001b[43mparse_bracketed\u001b[49m\u001b[43m(\u001b[49m\u001b[38;5;124;43m\"\u001b[39;49m\u001b[38;5;124;43m<,>\u001b[39;49m\u001b[38;5;124;43m\"\u001b[39;49m\u001b[43m,\u001b[49m\u001b[43m \u001b[49m\u001b[43ms\u001b[49m\u001b[43m,\u001b[49m\u001b[43m \u001b[49m\u001b[43mi\u001b[49m\u001b[43m,\u001b[49m\u001b[43m \u001b[49m\u001b[43mparse_control_fun\u001b[49m\u001b[43m)\u001b[49m\n",
      "File \u001b[0;32m~/repos/lambda-notebook/lamb/types.py:610\u001b[0m, in \u001b[0;36mTypeConstructor.parse_bracketed\u001b[0;34m(cls, delim, s, i, parse_control_fun)\u001b[0m\n\u001b[1;32m    608\u001b[0m         \u001b[38;5;28;01mbreak\u001b[39;00m\n\u001b[1;32m    609\u001b[0m     \u001b[38;5;66;03m# this message could probably be more intelligent\u001b[39;00m\n\u001b[0;32m--> 610\u001b[0m     i \u001b[38;5;241m=\u001b[39m \u001b[43mparsing\u001b[49m\u001b[38;5;241;43m.\u001b[39;49m\u001b[43mconsume_char\u001b[49m\u001b[43m(\u001b[49m\u001b[43ms\u001b[49m\u001b[43m,\u001b[49m\u001b[43m \u001b[49m\u001b[43mi\u001b[49m\u001b[43m,\u001b[49m\u001b[43m \u001b[49m\u001b[43msep\u001b[49m\u001b[43m,\u001b[49m\u001b[43m \u001b[49m\u001b[38;5;124;43mf\u001b[39;49m\u001b[38;5;124;43m\"\u001b[39;49m\u001b[38;5;124;43mExtraneous character after subexpression `\u001b[39;49m\u001b[38;5;132;43;01m{\u001b[39;49;00m\u001b[43mm\u001b[49m\u001b[38;5;132;43;01m}\u001b[39;49;00m\u001b[38;5;124;43m` while parsing `\u001b[39;49m\u001b[38;5;132;43;01m{\u001b[39;49;00m\u001b[38;5;28;43mcls\u001b[39;49m\u001b[38;5;241;43m.\u001b[39;49m\u001b[38;5;18;43m__name__\u001b[39;49m\u001b[38;5;132;43;01m}\u001b[39;49;00m\u001b[38;5;124;43m`\u001b[39;49m\u001b[38;5;124;43m\"\u001b[39;49m\u001b[43m)\u001b[49m\n\u001b[1;32m    611\u001b[0m i \u001b[38;5;241m=\u001b[39m parsing\u001b[38;5;241m.\u001b[39mconsume_char(s, i, close, \u001b[38;5;124mf\u001b[39m\u001b[38;5;124m\"\u001b[39m\u001b[38;5;124mUnmatched `\u001b[39m\u001b[38;5;132;01m{\u001b[39;00m\u001b[38;5;28mopen\u001b[39m\u001b[38;5;132;01m}\u001b[39;00m\u001b[38;5;124m` while parsing `\u001b[39m\u001b[38;5;132;01m{\u001b[39;00m\u001b[38;5;28mcls\u001b[39m\u001b[38;5;241m.\u001b[39m\u001b[38;5;18m__name__\u001b[39m\u001b[38;5;132;01m}\u001b[39;00m\u001b[38;5;124m`\u001b[39m\u001b[38;5;124m\"\u001b[39m)\n\u001b[1;32m    612\u001b[0m \u001b[38;5;28;01mif\u001b[39;00m \u001b[38;5;28mcls\u001b[39m\u001b[38;5;241m.\u001b[39marity \u001b[38;5;129;01mis\u001b[39;00m \u001b[38;5;129;01mnot\u001b[39;00m \u001b[38;5;28;01mNone\u001b[39;00m \u001b[38;5;129;01mand\u001b[39;00m \u001b[38;5;28mlen\u001b[39m(signature) \u001b[38;5;241m!=\u001b[39m \u001b[38;5;28mcls\u001b[39m\u001b[38;5;241m.\u001b[39marity:\n",
      "File \u001b[0;32m~/repos/lambda-notebook/lamb/parsing.py:162\u001b[0m, in \u001b[0;36mconsume_char\u001b[0;34m(s, i, match, error)\u001b[0m\n\u001b[1;32m    160\u001b[0m     \u001b[38;5;28;01mreturn\u001b[39;00m \u001b[38;5;28;01mNone\u001b[39;00m\n\u001b[1;32m    161\u001b[0m \u001b[38;5;28;01melse\u001b[39;00m:\n\u001b[0;32m--> 162\u001b[0m     \u001b[38;5;28;01mraise\u001b[39;00m ParseError(error, s, i)\n",
      "\u001b[0;31mParseError\u001b[0m: Extraneous character after subexpression `e` while parsing `FunType`",
      "\u001b[0m  `L x_<e : x`\n         ^"
     ]
    }
   ],
   "source": [
    "te(\"L x_<e : x\")"
   ]
  },
  {
   "cell_type": "code",
   "execution_count": 26,
   "id": "77e63f25-b3e7-41ad-ad0f-2808b4582ec4",
   "metadata": {},
   "outputs": [
    {
     "data": {
      "text/markdown": [
       "<span style=\"color:red\">**ParseError**</span>: Extraneous character after subexpression `e` while parsing `FunType`: \n",
       "```\n",
       "    'L y_e : L x_<e : x'\n",
       "                   ^\n",
       "```"
      ],
      "text/plain": [
       "ParseError: Extraneous character after subexpression `e` while parsing `FunType`: `L y_e : L x_<e : x`\n",
       "                                                                                                 ^"
      ]
     },
     "metadata": {},
     "output_type": "display_data"
    }
   ],
   "source": [
    "%te L y_e : L x_<e : x"
   ]
  },
  {
   "cell_type": "code",
   "execution_count": 27,
   "id": "2cef03a7-9e68-4dbe-81fa-4f7f125c14b2",
   "metadata": {},
   "outputs": [
    {
     "data": {
      "text/markdown": [
       "<span style=\"color:red\">**ParseError**</span>: Binding expression has unparsable body, in string `L x_e : x(y)`<br />&nbsp;&nbsp;&nbsp;&nbsp;<span style=\"color:red\">**TypeMismatch**</span>: `x_e` and `y_e` conflict (Incompatible function-argument types `e` and `e`)"
      ],
      "text/plain": [
       "ParseError: Binding expression has unparsable body, in string `L x_e : x(y)`: TypeMismatch: `x_e` and `y_e` conflict (Incompatible function-argument types `e` and `e`)"
      ]
     },
     "metadata": {},
     "output_type": "display_data"
    }
   ],
   "source": [
    "%te L x_e : x(y)"
   ]
  },
  {
   "cell_type": "code",
   "execution_count": 28,
   "id": "bba4b161-157b-4f30-8f2e-8877a0c4f387",
   "metadata": {},
   "outputs": [
    {
     "data": {
      "text/markdown": [
       "<span style=\"color:red\">**ParseError**</span>: Binding expression has unparsable body, in string `L x_e : x(y)`<br />&nbsp;&nbsp;&nbsp;&nbsp;<span style=\"color:red\">**TypeMismatch**</span>: `x_e` and `y_e` conflict (Incompatible function-argument types `e` and `e`)"
      ],
      "text/plain": [
       "ParseError: Binding expression has unparsable body, in string `L x_e : x(y)`: TypeMismatch: `x_e` and `y_e` conflict (Incompatible function-argument types `e` and `e`)"
      ]
     },
     "metadata": {},
     "output_type": "display_data"
    }
   ],
   "source": [
    "%lamb x = L x_e : x(y)"
   ]
  },
  {
   "cell_type": "code",
   "execution_count": 29,
   "id": "bbb61945-23cf-4d01-93fb-4f398a82b1a6",
   "metadata": {},
   "outputs": [
    {
     "data": {
      "text/markdown": [
       "<span style=\"color:red\">**ParseError**</span>: Binding expression has unparsable body, in string `L x_e : x(y)`<br />&nbsp;&nbsp;&nbsp;&nbsp;<span style=\"color:red\">**TypeMismatch**</span>: `x_e` and `y_e` conflict (Incompatible function-argument types `e` and `e`)"
      ],
      "text/plain": [
       "ParseError: Binding expression has unparsable body, in string `L x_e : x(y)`: TypeMismatch: `x_e` and `y_e` conflict (Incompatible function-argument types `e` and `e`)"
      ]
     },
     "metadata": {},
     "output_type": "display_data"
    }
   ],
   "source": [
    "%lamb ||x|| = L x_e : x(y)"
   ]
  },
  {
   "cell_type": "code",
   "execution_count": 30,
   "id": "4ab20c87-dff5-40d4-8ab4-12f585f2c68d",
   "metadata": {
    "scrolled": true
   },
   "outputs": [
    {
     "ename": "ParseError",
     "evalue": "Binding expression has unparsable body, in string `L x_e : x(y)`: TypeMismatch: `x_e` and `y_e` conflict (Incompatible function-argument types `e` and `e`)",
     "output_type": "error",
     "traceback": [
      "\u001b[0;31m---------------------------------------------------------------------------\u001b[0m",
      "\u001b[0;31mParseError\u001b[0m                                Traceback (most recent call last)",
      "Cell \u001b[0;32mIn[30], line 1\u001b[0m\n\u001b[0;32m----> 1\u001b[0m \u001b[43mte\u001b[49m\u001b[43m(\u001b[49m\u001b[38;5;124;43m\"\u001b[39;49m\u001b[38;5;124;43mL x_e : x(y)\u001b[39;49m\u001b[38;5;124;43m\"\u001b[39;49m\u001b[43m)\u001b[49m\n",
      "File \u001b[0;32m~/repos/lambda-notebook/lamb/meta/core.py:182\u001b[0m, in \u001b[0;36mte\u001b[0;34m(s, let, assignment, _globals)\u001b[0m\n\u001b[1;32m    180\u001b[0m \u001b[38;5;28;01mif\u001b[39;00m _globals \u001b[38;5;129;01mis\u001b[39;00m \u001b[38;5;28;01mNone\u001b[39;00m:\n\u001b[1;32m    181\u001b[0m     _globals \u001b[38;5;241m=\u001b[39m global_namespace()\n\u001b[0;32m--> 182\u001b[0m result \u001b[38;5;241m=\u001b[39m \u001b[43mTypedExpr\u001b[49m\u001b[38;5;241;43m.\u001b[39;49m\u001b[43mfactory\u001b[49m\u001b[43m(\u001b[49m\u001b[43ms\u001b[49m\u001b[43m,\u001b[49m\u001b[43m \u001b[49m\u001b[43massignment\u001b[49m\u001b[38;5;241;43m=\u001b[39;49m\u001b[43massignment\u001b[49m\u001b[43m,\u001b[49m\u001b[43m \u001b[49m\u001b[43m_globals\u001b[49m\u001b[38;5;241;43m=\u001b[39;49m\u001b[43m_globals\u001b[49m\u001b[43m)\u001b[49m\n\u001b[1;32m    183\u001b[0m \u001b[38;5;28;01mif\u001b[39;00m let \u001b[38;5;129;01mand\u001b[39;00m \u001b[38;5;28misinstance\u001b[39m(result, TypedExpr):\n\u001b[1;32m    184\u001b[0m     result \u001b[38;5;241m=\u001b[39m let_wrapper(result)\n",
      "File \u001b[0;32m~/repos/lambda-notebook/lamb/meta/core.py:2038\u001b[0m, in \u001b[0;36mTypedExpr.factory\u001b[0;34m(cls, assignment, _globals, *args)\u001b[0m\n\u001b[1;32m   2035\u001b[0m     \u001b[38;5;28;01mreturn\u001b[39;00m from_python(s, types\u001b[38;5;241m.\u001b[39mtype_n)\n\u001b[1;32m   2036\u001b[0m \u001b[38;5;28;01melif\u001b[39;00m \u001b[38;5;28misinstance\u001b[39m(s, \u001b[38;5;28mstr\u001b[39m):\n\u001b[1;32m   2037\u001b[0m     \u001b[38;5;66;03m#return cls.parse_expr_string(s, assignment)\u001b[39;00m\n\u001b[0;32m-> 2038\u001b[0m     \u001b[38;5;28;01mreturn\u001b[39;00m \u001b[38;5;28;43mcls\u001b[39;49m\u001b[38;5;241;43m.\u001b[39;49m\u001b[43mparse\u001b[49m\u001b[43m(\u001b[49m\u001b[43ms\u001b[49m\u001b[43m,\u001b[49m\u001b[43m \u001b[49m\u001b[43massignment\u001b[49m\u001b[43m)\u001b[49m\n\u001b[1;32m   2039\u001b[0m \u001b[38;5;28;01melse\u001b[39;00m:\n\u001b[1;32m   2040\u001b[0m     c \u001b[38;5;241m=\u001b[39m from_python_container(s)\n",
      "File \u001b[0;32m~/repos/lambda-notebook/lamb/meta/core.py:1671\u001b[0m, in \u001b[0;36mTypedExpr.parse\u001b[0;34m(cls, s, assignment, locals)\u001b[0m\n\u001b[1;32m   1665\u001b[0m \u001b[38;5;66;03m# Intercept any ParseError and update `s` to ensure we don't show strings\u001b[39;00m\n\u001b[1;32m   1666\u001b[0m \u001b[38;5;66;03m# with replacements\u001b[39;00m\n\u001b[1;32m   1667\u001b[0m \u001b[38;5;66;03m# TODO: this is generally a bit too wide. It'd be better to do something\u001b[39;00m\n\u001b[1;32m   1668\u001b[0m \u001b[38;5;66;03m# like, show the biggest subexpression that has no replacements in which\u001b[39;00m\n\u001b[1;32m   1669\u001b[0m \u001b[38;5;66;03m# the error occurred.\u001b[39;00m\n\u001b[1;32m   1670\u001b[0m \u001b[38;5;28;01mwith\u001b[39;00m parsing\u001b[38;5;241m.\u001b[39mparse_error_wrap(\u001b[38;5;124m\"\u001b[39m\u001b[38;5;124mFailed to parse expression\u001b[39m\u001b[38;5;124m\"\u001b[39m, s\u001b[38;5;241m=\u001b[39ms, wrap_all\u001b[38;5;241m=\u001b[39m\u001b[38;5;28;01mFalse\u001b[39;00m):\n\u001b[0;32m-> 1671\u001b[0m     \u001b[38;5;28;01mreturn\u001b[39;00m \u001b[38;5;28;43mcls\u001b[39;49m\u001b[38;5;241;43m.\u001b[39;49m\u001b[43mtry_parse_paren_struc_r\u001b[49m\u001b[43m(\u001b[49m\u001b[43mstruc\u001b[49m\u001b[43m,\u001b[49m\u001b[43m \u001b[49m\u001b[43massignment\u001b[49m\u001b[38;5;241;43m=\u001b[39;49m\u001b[43massignment\u001b[49m\u001b[43m,\u001b[49m\n\u001b[1;32m   1672\u001b[0m \u001b[43m                                                        \u001b[49m\u001b[38;5;28;43mlocals\u001b[39;49m\u001b[38;5;241;43m=\u001b[39;49m\u001b[38;5;28;43mlocals\u001b[39;49m\u001b[43m)\u001b[49m\n",
      "File \u001b[0;32m~/repos/lambda-notebook/lamb/meta/core.py:1786\u001b[0m, in \u001b[0;36mTypedExpr.try_parse_paren_struc_r\u001b[0;34m(cls, struc, assignment, locals, vprefix)\u001b[0m\n\u001b[1;32m   1781\u001b[0m \u001b[38;5;129m@classmethod\u001b[39m\n\u001b[1;32m   1782\u001b[0m \u001b[38;5;28;01mdef\u001b[39;00m \u001b[38;5;21mtry_parse_paren_struc_r\u001b[39m(\u001b[38;5;28mcls\u001b[39m, struc, assignment\u001b[38;5;241m=\u001b[39m\u001b[38;5;28;01mNone\u001b[39;00m, \u001b[38;5;28mlocals\u001b[39m\u001b[38;5;241m=\u001b[39m\u001b[38;5;28;01mNone\u001b[39;00m,\n\u001b[1;32m   1783\u001b[0m                                                         vprefix\u001b[38;5;241m=\u001b[39m\u001b[38;5;124m\"\u001b[39m\u001b[38;5;124milnb\u001b[39m\u001b[38;5;124m\"\u001b[39m):\n\u001b[1;32m   1784\u001b[0m \u001b[38;5;250m    \u001b[39m\u001b[38;5;124;03m\"\"\"Recursively try to parse a semi-AST with parenthetical structures\u001b[39;00m\n\u001b[1;32m   1785\u001b[0m \u001b[38;5;124;03m    matched.\"\"\"\u001b[39;00m\n\u001b[0;32m-> 1786\u001b[0m     expr \u001b[38;5;241m=\u001b[39m \u001b[38;5;28;43mcls\u001b[39;49m\u001b[38;5;241;43m.\u001b[39;49m\u001b[43mtry_parse_binding_struc\u001b[49m\u001b[43m(\u001b[49m\u001b[43mstruc\u001b[49m\u001b[43m,\u001b[49m\u001b[43m \u001b[49m\u001b[43massignment\u001b[49m\u001b[38;5;241;43m=\u001b[39;49m\u001b[43massignment\u001b[49m\u001b[43m,\u001b[49m\n\u001b[1;32m   1787\u001b[0m \u001b[43m                                            \u001b[49m\u001b[38;5;28;43mlocals\u001b[39;49m\u001b[38;5;241;43m=\u001b[39;49m\u001b[38;5;28;43mlocals\u001b[39;49m\u001b[43m,\u001b[49m\u001b[43m \u001b[49m\u001b[43mvprefix\u001b[49m\u001b[38;5;241;43m=\u001b[39;49m\u001b[43mvprefix\u001b[49m\u001b[43m)\u001b[49m\n\u001b[1;32m   1788\u001b[0m     \u001b[38;5;28;01mif\u001b[39;00m expr \u001b[38;5;129;01mis\u001b[39;00m \u001b[38;5;129;01mnot\u001b[39;00m \u001b[38;5;28;01mNone\u001b[39;00m:\n\u001b[1;32m   1789\u001b[0m         \u001b[38;5;28;01mreturn\u001b[39;00m expr\n",
      "File \u001b[0;32m~/repos/lambda-notebook/lamb/meta/core.py:1779\u001b[0m, in \u001b[0;36mTypedExpr.try_parse_binding_struc\u001b[0;34m(cls, s, assignment, locals, vprefix)\u001b[0m\n\u001b[1;32m   1777\u001b[0m     e\u001b[38;5;241m.\u001b[39ms \u001b[38;5;241m=\u001b[39m parsing\u001b[38;5;241m.\u001b[39mflatten_paren_struc(s)\n\u001b[1;32m   1778\u001b[0m     e\u001b[38;5;241m.\u001b[39mi \u001b[38;5;241m=\u001b[39m \u001b[38;5;28;01mNone\u001b[39;00m \u001b[38;5;66;03m# lost any context for this\u001b[39;00m\n\u001b[0;32m-> 1779\u001b[0m \u001b[38;5;28;01mraise\u001b[39;00m e\n",
      "File \u001b[0;32m~/repos/lambda-notebook/lamb/meta/core.py:1771\u001b[0m, in \u001b[0;36mTypedExpr.try_parse_binding_struc\u001b[0;34m(cls, s, assignment, locals, vprefix)\u001b[0m\n\u001b[1;32m   1764\u001b[0m \u001b[38;5;250m\u001b[39m\u001b[38;5;124;03m\"\"\"Try to parse `s` as a binding operator expression.  Will return a\u001b[39;00m\n\u001b[1;32m   1765\u001b[0m \u001b[38;5;124;03msubclass of BindingOp, None, or raise a `parsing.ParseError`.\u001b[39;00m\n\u001b[1;32m   1766\u001b[0m \n\u001b[1;32m   1767\u001b[0m \u001b[38;5;124;03mthe variable on the exception `met_preconditions` is used to attempt to\u001b[39;00m\n\u001b[1;32m   1768\u001b[0m \u001b[38;5;124;03mfigure out whether this was a plausible attempt at a binding operator\u001b[39;00m\n\u001b[1;32m   1769\u001b[0m \u001b[38;5;124;03mexpression, so as to get the error message right.\"\"\"\u001b[39;00m\n\u001b[1;32m   1770\u001b[0m \u001b[38;5;28;01mtry\u001b[39;00m:\n\u001b[0;32m-> 1771\u001b[0m     \u001b[38;5;28;01mreturn\u001b[39;00m \u001b[43mBindingOp\u001b[49m\u001b[38;5;241;43m.\u001b[39;49m\u001b[43mtry_parse_binding_struc_r\u001b[49m\u001b[43m(\u001b[49m\u001b[43ms\u001b[49m\u001b[43m,\u001b[49m\u001b[43m \u001b[49m\u001b[43massignment\u001b[49m\u001b[38;5;241;43m=\u001b[39;49m\u001b[43massignment\u001b[49m\u001b[43m,\u001b[49m\u001b[43m \u001b[49m\u001b[38;5;28;43mlocals\u001b[39;49m\u001b[38;5;241;43m=\u001b[39;49m\u001b[38;5;28;43mlocals\u001b[39;49m\u001b[43m,\u001b[49m\u001b[43m \u001b[49m\u001b[43mvprefix\u001b[49m\u001b[38;5;241;43m=\u001b[39;49m\u001b[43mvprefix\u001b[49m\u001b[43m)\u001b[49m\n\u001b[1;32m   1772\u001b[0m \u001b[38;5;28;01mexcept\u001b[39;00m parsing\u001b[38;5;241m.\u001b[39mParseError \u001b[38;5;28;01mas\u001b[39;00m e:\n\u001b[1;32m   1773\u001b[0m     \u001b[38;5;28;01mif\u001b[39;00m \u001b[38;5;129;01mnot\u001b[39;00m e\u001b[38;5;241m.\u001b[39mmet_preconditions:\n",
      "File \u001b[0;32m~/repos/lambda-notebook/lamb/meta/core.py:5260\u001b[0m, in \u001b[0;36mBindingOp.try_parse_binding_struc_r\u001b[0;34m(cls, struc, assignment, locals, vprefix)\u001b[0m\n\u001b[1;32m   5258\u001b[0m     assignment[v] \u001b[38;5;241m=\u001b[39m TypedTerm(v, t)\n\u001b[1;32m   5259\u001b[0m body \u001b[38;5;241m=\u001b[39m \u001b[38;5;28;01mNone\u001b[39;00m\n\u001b[0;32m-> 5260\u001b[0m \u001b[38;5;28;01mwith\u001b[39;00m parsing\u001b[38;5;241m.\u001b[39mparse_error_wrap(\n\u001b[1;32m   5261\u001b[0m                 \u001b[38;5;124m\"\u001b[39m\u001b[38;5;124mBinding expression has unparsable body\u001b[39m\u001b[38;5;124m\"\u001b[39m,\n\u001b[1;32m   5262\u001b[0m                 paren_struc\u001b[38;5;241m=\u001b[39mstruc_arg):\n\u001b[1;32m   5263\u001b[0m     body \u001b[38;5;241m=\u001b[39m TypedExpr\u001b[38;5;241m.\u001b[39mtry_parse_paren_struc_r(struc,\n\u001b[1;32m   5264\u001b[0m                 assignment\u001b[38;5;241m=\u001b[39massignment, \u001b[38;5;28mlocals\u001b[39m\u001b[38;5;241m=\u001b[39m\u001b[38;5;28mlocals\u001b[39m, vprefix\u001b[38;5;241m=\u001b[39mvprefix)\n\u001b[1;32m   5266\u001b[0m \u001b[38;5;28;01mif\u001b[39;00m body \u001b[38;5;129;01mis\u001b[39;00m \u001b[38;5;28;01mNone\u001b[39;00m:\n",
      "File \u001b[0;32m~/miniforge3/envs/lnb/lib/python3.12/contextlib.py:158\u001b[0m, in \u001b[0;36m_GeneratorContextManager.__exit__\u001b[0;34m(self, typ, value, traceback)\u001b[0m\n\u001b[1;32m    156\u001b[0m     value \u001b[38;5;241m=\u001b[39m typ()\n\u001b[1;32m    157\u001b[0m \u001b[38;5;28;01mtry\u001b[39;00m:\n\u001b[0;32m--> 158\u001b[0m     \u001b[38;5;28;43mself\u001b[39;49m\u001b[38;5;241;43m.\u001b[39;49m\u001b[43mgen\u001b[49m\u001b[38;5;241;43m.\u001b[39;49m\u001b[43mthrow\u001b[49m\u001b[43m(\u001b[49m\u001b[43mvalue\u001b[49m\u001b[43m)\u001b[49m\n\u001b[1;32m    159\u001b[0m \u001b[38;5;28;01mexcept\u001b[39;00m \u001b[38;5;167;01mStopIteration\u001b[39;00m \u001b[38;5;28;01mas\u001b[39;00m exc:\n\u001b[1;32m    160\u001b[0m     \u001b[38;5;66;03m# Suppress StopIteration *unless* it's the same exception that\u001b[39;00m\n\u001b[1;32m    161\u001b[0m     \u001b[38;5;66;03m# was passed to throw().  This prevents a StopIteration\u001b[39;00m\n\u001b[1;32m    162\u001b[0m     \u001b[38;5;66;03m# raised inside the \"with\" statement from being suppressed.\u001b[39;00m\n\u001b[1;32m    163\u001b[0m     \u001b[38;5;28;01mreturn\u001b[39;00m exc \u001b[38;5;129;01mis\u001b[39;00m \u001b[38;5;129;01mnot\u001b[39;00m value\n",
      "File \u001b[0;32m~/repos/lambda-notebook/lamb/parsing.py:228\u001b[0m, in \u001b[0;36mparse_error_wrap\u001b[0;34m(msg, paren_struc, wrap_all, **kwargs)\u001b[0m\n\u001b[1;32m    226\u001b[0m     \u001b[38;5;28;01mif\u001b[39;00m paren_struc:\n\u001b[1;32m    227\u001b[0m         kwargs[\u001b[38;5;124m'\u001b[39m\u001b[38;5;124ms\u001b[39m\u001b[38;5;124m'\u001b[39m] \u001b[38;5;241m=\u001b[39m flatten_paren_struc(paren_struc)\n\u001b[0;32m--> 228\u001b[0m     \u001b[38;5;28;01mraise\u001b[39;00m ParseError(msg, \u001b[38;5;241m*\u001b[39m\u001b[38;5;241m*\u001b[39mkwargs)\u001b[38;5;241m.\u001b[39mwith_traceback(e\u001b[38;5;241m.\u001b[39m__traceback__) \u001b[38;5;28;01mfrom\u001b[39;00m \u001b[38;5;28;01mNone\u001b[39;00m\n\u001b[1;32m    229\u001b[0m \u001b[38;5;28;01mexcept\u001b[39;00m ParseError \u001b[38;5;28;01mas\u001b[39;00m e:\n\u001b[1;32m    230\u001b[0m     \u001b[38;5;28;01mif\u001b[39;00m \u001b[38;5;129;01mnot\u001b[39;00m e\u001b[38;5;241m.\u001b[39mmsg:\n",
      "File \u001b[0;32m~/repos/lambda-notebook/lamb/parsing.py:219\u001b[0m, in \u001b[0;36mparse_error_wrap\u001b[0;34m(msg, paren_struc, wrap_all, **kwargs)\u001b[0m\n\u001b[1;32m    217\u001b[0m \u001b[38;5;28;01mfrom\u001b[39;00m \u001b[38;5;21;01mlamb\u001b[39;00m\u001b[38;5;21;01m.\u001b[39;00m\u001b[38;5;21;01mtypes\u001b[39;00m \u001b[38;5;28;01mimport\u001b[39;00m TypeParseError, TypeMismatch\n\u001b[1;32m    218\u001b[0m \u001b[38;5;28;01mtry\u001b[39;00m:\n\u001b[0;32m--> 219\u001b[0m     \u001b[38;5;28;01myield\u001b[39;00m\n\u001b[1;32m    220\u001b[0m \u001b[38;5;28;01mexcept\u001b[39;00m (TypeParseError, TypeMismatch) \u001b[38;5;28;01mas\u001b[39;00m e:\n\u001b[1;32m    221\u001b[0m     \u001b[38;5;28;01mif\u001b[39;00m \u001b[38;5;129;01mnot\u001b[39;00m wrap_all:\n",
      "File \u001b[0;32m~/repos/lambda-notebook/lamb/meta/core.py:5263\u001b[0m, in \u001b[0;36mBindingOp.try_parse_binding_struc_r\u001b[0;34m(cls, struc, assignment, locals, vprefix)\u001b[0m\n\u001b[1;32m   5259\u001b[0m body \u001b[38;5;241m=\u001b[39m \u001b[38;5;28;01mNone\u001b[39;00m\n\u001b[1;32m   5260\u001b[0m \u001b[38;5;28;01mwith\u001b[39;00m parsing\u001b[38;5;241m.\u001b[39mparse_error_wrap(\n\u001b[1;32m   5261\u001b[0m                 \u001b[38;5;124m\"\u001b[39m\u001b[38;5;124mBinding expression has unparsable body\u001b[39m\u001b[38;5;124m\"\u001b[39m,\n\u001b[1;32m   5262\u001b[0m                 paren_struc\u001b[38;5;241m=\u001b[39mstruc_arg):\n\u001b[0;32m-> 5263\u001b[0m     body \u001b[38;5;241m=\u001b[39m \u001b[43mTypedExpr\u001b[49m\u001b[38;5;241;43m.\u001b[39;49m\u001b[43mtry_parse_paren_struc_r\u001b[49m\u001b[43m(\u001b[49m\u001b[43mstruc\u001b[49m\u001b[43m,\u001b[49m\n\u001b[1;32m   5264\u001b[0m \u001b[43m                \u001b[49m\u001b[43massignment\u001b[49m\u001b[38;5;241;43m=\u001b[39;49m\u001b[43massignment\u001b[49m\u001b[43m,\u001b[49m\u001b[43m \u001b[49m\u001b[38;5;28;43mlocals\u001b[39;49m\u001b[38;5;241;43m=\u001b[39;49m\u001b[38;5;28;43mlocals\u001b[39;49m\u001b[43m,\u001b[49m\u001b[43m \u001b[49m\u001b[43mvprefix\u001b[49m\u001b[38;5;241;43m=\u001b[39;49m\u001b[43mvprefix\u001b[49m\u001b[43m)\u001b[49m\n\u001b[1;32m   5266\u001b[0m \u001b[38;5;28;01mif\u001b[39;00m body \u001b[38;5;129;01mis\u001b[39;00m \u001b[38;5;28;01mNone\u001b[39;00m:\n\u001b[1;32m   5267\u001b[0m     \u001b[38;5;28;01mraise\u001b[39;00m parsing\u001b[38;5;241m.\u001b[39mParseError(\n\u001b[1;32m   5268\u001b[0m         \u001b[38;5;124m\"\u001b[39m\u001b[38;5;124mCan\u001b[39m\u001b[38;5;124m'\u001b[39m\u001b[38;5;124mt create body-less binding expression\u001b[39m\u001b[38;5;124m\"\u001b[39m,\n\u001b[1;32m   5269\u001b[0m         parsing\u001b[38;5;241m.\u001b[39mflatten_paren_struc(struc_arg), \u001b[38;5;28;01mNone\u001b[39;00m)\n",
      "File \u001b[0;32m~/repos/lambda-notebook/lamb/meta/core.py:1811\u001b[0m, in \u001b[0;36mTypedExpr.try_parse_paren_struc_r\u001b[0;34m(cls, struc, assignment, locals, vprefix)\u001b[0m\n\u001b[1;32m   1809\u001b[0m         vnum \u001b[38;5;241m+\u001b[39m\u001b[38;5;241m=\u001b[39m \u001b[38;5;241m1\u001b[39m\n\u001b[1;32m   1810\u001b[0m         h[var] \u001b[38;5;241m=\u001b[39m sub_expr\n\u001b[0;32m-> 1811\u001b[0m expr \u001b[38;5;241m=\u001b[39m \u001b[38;5;28;43mcls\u001b[39;49m\u001b[38;5;241;43m.\u001b[39;49m\u001b[43mtry_parse_flattened\u001b[49m\u001b[43m(\u001b[49m\u001b[43ms\u001b[49m\u001b[43m,\u001b[49m\u001b[43m \u001b[49m\u001b[43massignment\u001b[49m\u001b[38;5;241;43m=\u001b[39;49m\u001b[43massignment\u001b[49m\u001b[43m,\u001b[49m\u001b[43m \u001b[49m\u001b[38;5;28;43mlocals\u001b[39;49m\u001b[38;5;241;43m=\u001b[39;49m\u001b[43mh\u001b[49m\u001b[43m)\u001b[49m\n\u001b[1;32m   1812\u001b[0m \u001b[38;5;28;01mreturn\u001b[39;00m expr\n",
      "File \u001b[0;32m~/repos/lambda-notebook/lamb/meta/core.py:1731\u001b[0m, in \u001b[0;36mTypedExpr.try_parse_flattened\u001b[0;34m(cls, s, assignment, locals)\u001b[0m\n\u001b[1;32m   1729\u001b[0m \u001b[38;5;66;03m# Now eval the string.  (A security hole; do not use with an adversary.)\u001b[39;00m\n\u001b[1;32m   1730\u001b[0m \u001b[38;5;28;01mtry\u001b[39;00m:\n\u001b[0;32m-> 1731\u001b[0m     result \u001b[38;5;241m=\u001b[39m \u001b[38;5;28;43meval\u001b[39;49m\u001b[43m(\u001b[49m\u001b[43mto_eval\u001b[49m\u001b[43m,\u001b[49m\u001b[43m \u001b[49m\u001b[38;5;28;43mdict\u001b[39;49m\u001b[43m(\u001b[49m\u001b[43m)\u001b[49m\u001b[43m,\u001b[49m\u001b[43m \u001b[49m\u001b[43mlcopy\u001b[49m\u001b[43m)\u001b[49m\n\u001b[1;32m   1732\u001b[0m \u001b[38;5;28;01mexcept\u001b[39;00m \u001b[38;5;167;01mSyntaxError\u001b[39;00m \u001b[38;5;28;01mas\u001b[39;00m e:\n\u001b[1;32m   1733\u001b[0m     \u001b[38;5;28;01mwith\u001b[39;00m parsing\u001b[38;5;241m.\u001b[39mparse_error_wrap(\u001b[38;5;124m\"\u001b[39m\u001b[38;5;124mBinding expression parse error\u001b[39m\u001b[38;5;124m\"\u001b[39m,\n\u001b[1;32m   1734\u001b[0m                                     s\u001b[38;5;241m=\u001b[39mpre_expansion):\n\u001b[1;32m   1735\u001b[0m         \u001b[38;5;66;03m# try to induce some more informative error messages\u001b[39;00m\n\u001b[1;32m   1736\u001b[0m         \u001b[38;5;66;03m# if re.match(BindingOp.init_op_regex, pre_expansion):\u001b[39;00m\n",
      "File \u001b[0;32m<string>:1\u001b[0m\n",
      "File \u001b[0;32m~/repos/lambda-notebook/lamb/meta/core.py:2659\u001b[0m, in \u001b[0;36mTypedExpr.__call__\u001b[0;34m(self, *args)\u001b[0m\n\u001b[1;32m   2654\u001b[0m \u001b[38;5;28;01mdef\u001b[39;00m \u001b[38;5;21m__call__\u001b[39m(\u001b[38;5;28mself\u001b[39m, \u001b[38;5;241m*\u001b[39margs):\n\u001b[1;32m   2655\u001b[0m \u001b[38;5;250m    \u001b[39m\u001b[38;5;124;03m\"\"\"Attempt to construct a saturated version of self.  This constructs a\u001b[39;00m\n\u001b[1;32m   2656\u001b[0m \u001b[38;5;124;03m    composite TypedExpr, with the function (`self`) as the operator and the\u001b[39;00m\n\u001b[1;32m   2657\u001b[0m \u001b[38;5;124;03m    argument(s) as the arguments.  Type checking happens immediately.\"\"\"\u001b[39;00m\n\u001b[0;32m-> 2659\u001b[0m     \u001b[38;5;28;01mreturn\u001b[39;00m \u001b[43mTypedExpr\u001b[49m\u001b[38;5;241;43m.\u001b[39;49m\u001b[43mfactory\u001b[49m\u001b[43m(\u001b[49m\u001b[38;5;28;43mself\u001b[39;49m\u001b[43m,\u001b[49m\u001b[43m \u001b[49m\u001b[38;5;241;43m*\u001b[39;49m\u001b[43margs\u001b[49m\u001b[43m)\u001b[49m\n",
      "File \u001b[0;32m~/repos/lambda-notebook/lamb/meta/core.py:2050\u001b[0m, in \u001b[0;36mTypedExpr.factory\u001b[0;34m(cls, assignment, _globals, *args)\u001b[0m\n\u001b[1;32m   2044\u001b[0m         \u001b[38;5;28;01mraise\u001b[39;00m \u001b[38;5;167;01mNotImplementedError\u001b[39;00m \u001b[38;5;66;03m# did you run a notebook with reload_lamb() out of order?\u001b[39;00m\n\u001b[1;32m   2045\u001b[0m \u001b[38;5;28;01melse\u001b[39;00m:\n\u001b[1;32m   2046\u001b[0m     \u001b[38;5;66;03m# Argument length > 1.  \u001b[39;00m\n\u001b[1;32m   2047\u001b[0m     \u001b[38;5;66;03m# This code path is for constructing complex TypedExprs where\u001b[39;00m\n\u001b[1;32m   2048\u001b[0m     \u001b[38;5;66;03m# args[0] must be a function / operator. Will potentially recurse\u001b[39;00m\n\u001b[1;32m   2049\u001b[0m     \u001b[38;5;66;03m# via ensure_typed_expr on all arguments.\u001b[39;00m\n\u001b[0;32m-> 2050\u001b[0m     \u001b[38;5;28;01mreturn\u001b[39;00m \u001b[38;5;28;43mcls\u001b[39;49m\u001b[38;5;241;43m.\u001b[39;49m\u001b[43m_composite_factory\u001b[49m\u001b[43m(\u001b[49m\u001b[38;5;241;43m*\u001b[39;49m\u001b[43margs\u001b[49m\u001b[43m,\u001b[49m\u001b[43m \u001b[49m\u001b[43massignment\u001b[49m\u001b[38;5;241;43m=\u001b[39;49m\u001b[43massignment\u001b[49m\u001b[43m)\u001b[49m\n",
      "File \u001b[0;32m~/repos/lambda-notebook/lamb/meta/core.py:1985\u001b[0m, in \u001b[0;36mTypedExpr._composite_factory\u001b[0;34m(cls, assignment, *args)\u001b[0m\n\u001b[1;32m   1982\u001b[0m \u001b[38;5;66;03m# the only kind of operator-expression generated after this point is\u001b[39;00m\n\u001b[1;32m   1983\u001b[0m \u001b[38;5;66;03m# an ApplicationExpr.\u001b[39;00m\n\u001b[1;32m   1984\u001b[0m op \u001b[38;5;241m=\u001b[39m \u001b[38;5;28mcls\u001b[39m\u001b[38;5;241m.\u001b[39mensure_typed_expr(op)\n\u001b[0;32m-> 1985\u001b[0m \u001b[38;5;28;01mreturn\u001b[39;00m \u001b[38;5;28;43mcls\u001b[39;49m\u001b[38;5;241;43m.\u001b[39;49m\u001b[43m_construct_appl\u001b[49m\u001b[43m(\u001b[49m\u001b[43mop\u001b[49m\u001b[43m,\u001b[49m\u001b[43m \u001b[49m\u001b[38;5;241;43m*\u001b[39;49m\u001b[43mremainder\u001b[49m\u001b[43m,\u001b[49m\u001b[43m \u001b[49m\u001b[43massignment\u001b[49m\u001b[38;5;241;43m=\u001b[39;49m\u001b[43massignment\u001b[49m\u001b[43m)\u001b[49m\n",
      "File \u001b[0;32m~/repos/lambda-notebook/lamb/meta/core.py:1972\u001b[0m, in \u001b[0;36mTypedExpr._construct_appl\u001b[0;34m(cls, assignment, *appl_args)\u001b[0m\n\u001b[1;32m   1967\u001b[0m             logger\u001b[38;5;241m.\u001b[39mwarning(\n\u001b[1;32m   1968\u001b[0m                 \u001b[38;5;124m\"\u001b[39m\u001b[38;5;124mUnable to coerce guessed type \u001b[39m\u001b[38;5;132;01m%s\u001b[39;00m\u001b[38;5;124m for \u001b[39m\u001b[38;5;124m'\u001b[39m\u001b[38;5;132;01m%s\u001b[39;00m\u001b[38;5;124m'\u001b[39m\u001b[38;5;124m \u001b[39m\u001b[38;5;124m\"\u001b[39m\n\u001b[1;32m   1969\u001b[0m                 \u001b[38;5;124m\"\u001b[39m\u001b[38;5;124mto match argument \u001b[39m\u001b[38;5;124m'\u001b[39m\u001b[38;5;132;01m%s\u001b[39;00m\u001b[38;5;124m'\u001b[39m\u001b[38;5;124m (type \u001b[39m\u001b[38;5;132;01m%s\u001b[39;00m\u001b[38;5;124m)\u001b[39m\u001b[38;5;124m\"\u001b[39m\n\u001b[1;32m   1970\u001b[0m                 \u001b[38;5;241m%\u001b[39m (f\u001b[38;5;241m.\u001b[39mtype, \u001b[38;5;28mrepr\u001b[39m(f), \u001b[38;5;28mrepr\u001b[39m(arg), arg\u001b[38;5;241m.\u001b[39mtype))\n\u001b[1;32m   1971\u001b[0m     \u001b[38;5;28;01mreturn\u001b[39;00m ApplicationExpr(f, arg, assignment\u001b[38;5;241m=\u001b[39massignment)\n\u001b[0;32m-> 1972\u001b[0m \u001b[38;5;28;01mreturn\u001b[39;00m \u001b[43mcombine_with_type_envs\u001b[49m\u001b[43m(\u001b[49m\u001b[43m_appl_factory\u001b[49m\u001b[43m,\u001b[49m\u001b[43m \u001b[49m\u001b[38;5;241;43m*\u001b[39;49m\u001b[43mappl_args\u001b[49m\u001b[43m)\u001b[49m\n",
      "File \u001b[0;32m~/repos/lambda-notebook/lamb/meta/core.py:337\u001b[0m, in \u001b[0;36mcombine_with_type_envs\u001b[0;34m(fun, *args, **kwargs)\u001b[0m\n\u001b[1;32m    334\u001b[0m \u001b[38;5;250m\u001b[39m\u001b[38;5;124;03m\"\"\"Combine some sequence of arguments using `fun`, while handling type\u001b[39;00m\n\u001b[1;32m    335\u001b[0m \u001b[38;5;124;03mvariables correctly.\"\"\"\u001b[39;00m\n\u001b[1;32m    336\u001b[0m result_let, inter \u001b[38;5;241m=\u001b[39m let_freshen(\u001b[38;5;241m*\u001b[39margs)\n\u001b[0;32m--> 337\u001b[0m result \u001b[38;5;241m=\u001b[39m \u001b[43mfun\u001b[49m\u001b[43m(\u001b[49m\u001b[38;5;241;43m*\u001b[39;49m\u001b[43minter\u001b[49m\u001b[43m,\u001b[49m\u001b[43m \u001b[49m\u001b[38;5;241;43m*\u001b[39;49m\u001b[38;5;241;43m*\u001b[39;49m\u001b[43mkwargs\u001b[49m\u001b[43m)\u001b[49m\u001b[38;5;241m.\u001b[39mregularize_type_env()\n\u001b[1;32m    338\u001b[0m \u001b[38;5;28;01mif\u001b[39;00m result_let \u001b[38;5;129;01mor\u001b[39;00m result\u001b[38;5;241m.\u001b[39mlet:\n\u001b[1;32m    339\u001b[0m     result \u001b[38;5;241m=\u001b[39m let_wrapper(result)\n",
      "File \u001b[0;32m~/repos/lambda-notebook/lamb/meta/core.py:1971\u001b[0m, in \u001b[0;36mTypedExpr._construct_appl.<locals>._appl_factory\u001b[0;34m(f, *args)\u001b[0m\n\u001b[1;32m   1966\u001b[0m     \u001b[38;5;28;01melse\u001b[39;00m:\n\u001b[1;32m   1967\u001b[0m         logger\u001b[38;5;241m.\u001b[39mwarning(\n\u001b[1;32m   1968\u001b[0m             \u001b[38;5;124m\"\u001b[39m\u001b[38;5;124mUnable to coerce guessed type \u001b[39m\u001b[38;5;132;01m%s\u001b[39;00m\u001b[38;5;124m for \u001b[39m\u001b[38;5;124m'\u001b[39m\u001b[38;5;132;01m%s\u001b[39;00m\u001b[38;5;124m'\u001b[39m\u001b[38;5;124m \u001b[39m\u001b[38;5;124m\"\u001b[39m\n\u001b[1;32m   1969\u001b[0m             \u001b[38;5;124m\"\u001b[39m\u001b[38;5;124mto match argument \u001b[39m\u001b[38;5;124m'\u001b[39m\u001b[38;5;132;01m%s\u001b[39;00m\u001b[38;5;124m'\u001b[39m\u001b[38;5;124m (type \u001b[39m\u001b[38;5;132;01m%s\u001b[39;00m\u001b[38;5;124m)\u001b[39m\u001b[38;5;124m\"\u001b[39m\n\u001b[1;32m   1970\u001b[0m             \u001b[38;5;241m%\u001b[39m (f\u001b[38;5;241m.\u001b[39mtype, \u001b[38;5;28mrepr\u001b[39m(f), \u001b[38;5;28mrepr\u001b[39m(arg), arg\u001b[38;5;241m.\u001b[39mtype))\n\u001b[0;32m-> 1971\u001b[0m \u001b[38;5;28;01mreturn\u001b[39;00m \u001b[43mApplicationExpr\u001b[49m\u001b[43m(\u001b[49m\u001b[43mf\u001b[49m\u001b[43m,\u001b[49m\u001b[43m \u001b[49m\u001b[43marg\u001b[49m\u001b[43m,\u001b[49m\u001b[43m \u001b[49m\u001b[43massignment\u001b[49m\u001b[38;5;241;43m=\u001b[39;49m\u001b[43massignment\u001b[49m\u001b[43m)\u001b[49m\n",
      "File \u001b[0;32m~/repos/lambda-notebook/lamb/meta/core.py:2994\u001b[0m, in \u001b[0;36mApplicationExpr.__init__\u001b[0;34m(self, fun, arg, typ, defer, copying, **kwargs)\u001b[0m\n\u001b[1;32m   2992\u001b[0m ftype \u001b[38;5;241m=\u001b[39m get_type_system()\u001b[38;5;241m.\u001b[39munify_fun(fun\u001b[38;5;241m.\u001b[39mtype, arg\u001b[38;5;241m.\u001b[39mtype, typ)\n\u001b[1;32m   2993\u001b[0m \u001b[38;5;28;01mif\u001b[39;00m ftype \u001b[38;5;129;01mis\u001b[39;00m \u001b[38;5;28;01mNone\u001b[39;00m:\n\u001b[0;32m-> 2994\u001b[0m     \u001b[38;5;28;01mraise\u001b[39;00m TypeMismatch(fun, arg,\n\u001b[1;32m   2995\u001b[0m         error\u001b[38;5;241m=\u001b[39m\u001b[38;5;124mf\u001b[39m\u001b[38;5;124m\"\u001b[39m\u001b[38;5;124mIncompatible function-argument types `\u001b[39m\u001b[38;5;132;01m{\u001b[39;00mfun\u001b[38;5;241m.\u001b[39mtype\u001b[38;5;132;01m}\u001b[39;00m\u001b[38;5;124m` and `\u001b[39m\u001b[38;5;132;01m{\u001b[39;00marg\u001b[38;5;241m.\u001b[39mtype\u001b[38;5;132;01m}\u001b[39;00m\u001b[38;5;124m`\u001b[39m\u001b[38;5;124m\"\u001b[39m)\n\u001b[1;32m   2996\u001b[0m f \u001b[38;5;241m=\u001b[39m \u001b[38;5;28mself\u001b[39m\u001b[38;5;241m.\u001b[39mtype_constraint(fun, ftype, constant\u001b[38;5;241m=\u001b[39m\u001b[38;5;28;01mTrue\u001b[39;00m)\n\u001b[1;32m   2997\u001b[0m a \u001b[38;5;241m=\u001b[39m \u001b[38;5;28mself\u001b[39m\u001b[38;5;241m.\u001b[39mtype_constraint(arg, ftype\u001b[38;5;241m.\u001b[39mleft, constant\u001b[38;5;241m=\u001b[39m\u001b[38;5;28;01mTrue\u001b[39;00m)\n",
      "\u001b[0;31mParseError\u001b[0m: Binding expression has unparsable body, in string `L x_e : x(y)`: TypeMismatch: `x_e` and `y_e` conflict (Incompatible function-argument types `e` and `e`)"
     ]
    }
   ],
   "source": [
    "te(\"L x_e : x(y)\")"
   ]
  },
  {
   "cell_type": "code",
   "execution_count": 31,
   "id": "2b706d61-2fbf-4739-abca-4bef763607cc",
   "metadata": {},
   "outputs": [
    {
     "data": {
      "text/markdown": [
       "<span style=\"color:red\">**ParseError**</span>: Binding expression has unparsable body, in string `L y_<e,t> : L x_e : x(y)`<br />&nbsp;&nbsp;&nbsp;&nbsp;<span style=\"color:red\">**TypeMismatch**</span>: `x_e` and `y_<e,t>` conflict (Incompatible function-argument types `e` and `<e,t>`)"
      ],
      "text/plain": [
       "ParseError: Binding expression has unparsable body, in string `L y_<e,t> : L x_e : x(y)`: TypeMismatch: `x_e` and `y_<e,t>` conflict (Incompatible function-argument types `e` and `<e,t>`)"
      ]
     },
     "metadata": {},
     "output_type": "display_data"
    }
   ],
   "source": [
    "%te L y_<e,t> : L x_e : x(y)"
   ]
  },
  {
   "cell_type": "code",
   "execution_count": 32,
   "id": "8abd78e3-aa4b-47b7-8a77-53b8f5c8fcf6",
   "metadata": {},
   "outputs": [
    {
     "data": {
      "text/markdown": [
       "<span style=\"color:red\">**ParseError**</span>: Binding expression has unparsable body, in string `L x_n : f_<e,t>(x)`<br />&nbsp;&nbsp;&nbsp;&nbsp;<span style=\"color:red\">**TypeMismatch**</span>: `f_<e,t>` and `x_n` conflict (Incompatible function-argument types `<e,t>` and `n`)"
      ],
      "text/plain": [
       "ParseError: Binding expression has unparsable body, in string `L x_n : f_<e,t>(x)`: TypeMismatch: `f_<e,t>` and `x_n` conflict (Incompatible function-argument types `<e,t>` and `n`)"
      ]
     },
     "metadata": {},
     "output_type": "display_data"
    }
   ],
   "source": [
    "%te L x_n : f_<e,t>(x)"
   ]
  },
  {
   "cell_type": "code",
   "execution_count": 33,
   "id": "c6ced1b7-31af-4be5-92a6-02e7fdfb4e90",
   "metadata": {},
   "outputs": [
    {
     "data": {
      "text/markdown": [
       "<span style=\"color:red\">**ParseError**</span>: Missing ':' in binding expression, in string `(L x_n )`"
      ],
      "text/plain": [
       "ParseError: Missing ':' in binding expression, in string `(L x_n )`"
      ]
     },
     "metadata": {},
     "output_type": "display_data"
    }
   ],
   "source": [
    "%te (L x_n ) # needs better errors?"
   ]
  },
  {
   "cell_type": "code",
   "execution_count": 34,
   "id": "c9a36185-30ed-43d7-a38c-bde5a26f6e77",
   "metadata": {},
   "outputs": [
    {
     "data": {
      "text/markdown": [
       "<span style=\"color:red\">**ParseError**</span>: Can't create body-less binding expression, in string `(L x_n : )`"
      ],
      "text/plain": [
       "ParseError: Can't create body-less binding expression, in string `(L x_n : )`"
      ]
     },
     "metadata": {},
     "output_type": "display_data"
    }
   ],
   "source": [
    "%te (L x_n : )"
   ]
  },
  {
   "cell_type": "code",
   "execution_count": 35,
   "id": "c9cbaf1f-b4ae-4e6a-8d65-a4797f8b6d29",
   "metadata": {},
   "outputs": [
    {
     "data": {
      "text/markdown": [
       "<span style=\"color:red\">**ParseError**</span>: Missing ':' in binding expression, in string `L x_n`"
      ],
      "text/plain": [
       "ParseError: Missing ':' in binding expression, in string `L x_n`"
      ]
     },
     "metadata": {},
     "output_type": "display_data"
    }
   ],
   "source": [
    "%te L x_n# needs better errors\n",
    "# te(\"L x_n\")"
   ]
  },
  {
   "cell_type": "code",
   "execution_count": 36,
   "id": "d1fe3e9e-97df-4856-8989-2a18dfd6e589",
   "metadata": {},
   "outputs": [
    {
     "data": {
      "text/markdown": [
       "<span style=\"color:red\">**ParseError**</span>: Operator class `Lambda` does not allow 0 variables, in string `L : x_n`"
      ],
      "text/plain": [
       "ParseError: Operator class `Lambda` does not allow 0 variables, in string `L : x_n`"
      ]
     },
     "metadata": {},
     "output_type": "display_data"
    }
   ],
   "source": [
    "%te L : x_n"
   ]
  },
  {
   "cell_type": "code",
   "execution_count": null,
   "id": "2e3f1006-83ec-4a93-a4ec-bedfff244bd0",
   "metadata": {},
   "outputs": [],
   "source": []
  },
  {
   "cell_type": "code",
   "execution_count": 37,
   "id": "be221ed2-fe21-498a-b6ef-5c6bb6c60152",
   "metadata": {},
   "outputs": [
    {
     "name": "stderr",
     "output_type": "stream",
     "text": [
      "ERROR (parsing): Parsing of typed expression failed with exception:\n",
      "ERROR (parsing): [AttributeError] 'TypedTerm' object has no attribute 'x_n'\n"
     ]
    }
   ],
   "source": [
    "%te L.x_n # needs better errors, currently logged with a cryptic AttributeError\n",
    "#te(\"L.x_n\")"
   ]
  },
  {
   "cell_type": "code",
   "execution_count": 38,
   "id": "f60de481-8c8d-4ec5-abdb-e80bc101865a",
   "metadata": {},
   "outputs": [
    {
     "data": {
      "text/markdown": [
       "<span style=\"color:red\">**ParseError**</span>: Binding expression has unparsable body, in string `L x_e : L y_X : y(x_n)`<br />&nbsp;&nbsp;&nbsp;&nbsp;<span style=\"color:red\">**TypeMismatch**</span>: type $n$ and type $e$ conflict (instances of term `x` have incompatible types)"
      ],
      "text/plain": [
       "ParseError: Binding expression has unparsable body, in string `L x_e : L y_X : y(x_n)`: TypeMismatch: type `n` and type `e` conflict (instances of term `x` have incompatible types)"
      ]
     },
     "metadata": {},
     "output_type": "display_data"
    }
   ],
   "source": [
    "%te L x_e : L y_X : y(x_n)"
   ]
  },
  {
   "cell_type": "code",
   "execution_count": 39,
   "id": "e97bdb68-2ec6-472a-9978-356e21a2684b",
   "metadata": {},
   "outputs": [
    {
     "data": {
      "text/markdown": [
       "<span style=\"color:red\">**TypeMismatch**</span>: `f_<e,t>` and `x_n` conflict (Incompatible function-argument types `<e,t>` and `n`)"
      ],
      "text/plain": [
       "TypeMismatch: `f_<e,t>` and `x_n` conflict (Incompatible function-argument types `<e,t>` and `n`)"
      ]
     },
     "metadata": {},
     "output_type": "display_data"
    }
   ],
   "source": [
    "%te f_<e,t>(x_n)"
   ]
  },
  {
   "cell_type": "code",
   "execution_count": 40,
   "id": "34b5f1ac-dc1b-4950-8208-777297083da2",
   "metadata": {},
   "outputs": [
    {
     "data": {
      "text/markdown": [
       "<span style=\"color:red\">**ParseError**</span>: Parsing of assignment to `f` failed<br />&nbsp;&nbsp;&nbsp;&nbsp;<span style=\"color:red\">**TypeMismatch**</span>: `f_<e,t>` and `x_n` conflict (Incompatible function-argument types `<e,t>` and `n`)"
      ],
      "text/plain": [
       "ParseError: Parsing of assignment to `f` failed: TypeMismatch: `f_<e,t>` and `x_n` conflict (Incompatible function-argument types `<e,t>` and `n`)"
      ]
     },
     "metadata": {},
     "output_type": "display_data"
    }
   ],
   "source": [
    "%lamb f = f_<e,t>(x_n)"
   ]
  },
  {
   "cell_type": "code",
   "execution_count": 41,
   "id": "5c5b8c2d-2787-40ff-a5e5-f17b7eb00ab2",
   "metadata": {},
   "outputs": [
    {
     "data": {
      "text/markdown": [
       "<span style=\"color:red\">**TypeMismatch**</span>: `f_<e,t>` and `x_n` conflict (Incompatible function-argument types `<e,t>` and `n`)"
      ],
      "text/plain": [
       "TypeMismatch: `f_<e,t>` and `x_n` conflict (Incompatible function-argument types `<e,t>` and `n`)"
      ]
     },
     "metadata": {},
     "output_type": "display_data"
    }
   ],
   "source": [
    "f = %te f_<e,t>\n",
    "x = %te x_n\n",
    "try:\n",
    "    f(x)\n",
    "except types.TypeMismatch as e:\n",
    "    display(e)"
   ]
  },
  {
   "cell_type": "code",
   "execution_count": 42,
   "id": "b30b62e9-e7b8-40ee-a38b-9a70df35d3ff",
   "metadata": {},
   "outputs": [
    {
     "data": {
      "text/latex": [
       "${f}_{\\left\\langle{}X,X'\\right\\rangle{}}({x}_{X})$"
      ],
      "text/plain": [
       "f_<X,X1>(x_X)"
      ]
     },
     "execution_count": 42,
     "metadata": {},
     "output_type": "execute_result"
    }
   ],
   "source": [
    "f = %te f_X\n",
    "x = %te x_X\n",
    "f(x)"
   ]
  },
  {
   "cell_type": "code",
   "execution_count": 43,
   "id": "ae3f2781-7597-453a-ae80-84040bfe0dea",
   "metadata": {},
   "outputs": [
    {
     "data": {
      "text/markdown": [
       "<span style=\"color:red\">**TypeMismatch**</span>: type $X$ and type $\\left\\langle{}X,\\forall{}X\\right\\rangle{}$ conflict (Occurs check failure while trying to infer function type given argument type `X`)"
      ],
      "text/plain": [
       "TypeMismatch: type `X` and type `<X,∀X>` conflict (Occurs check failure while trying to infer function type given argument type `X`)"
      ]
     },
     "metadata": {},
     "output_type": "display_data"
    }
   ],
   "source": [
    "%te f_X(x_X)"
   ]
  },
  {
   "cell_type": "code",
   "execution_count": 44,
   "id": "a59c44c0-c63b-4af3-87a1-ac559a7c7de7",
   "metadata": {},
   "outputs": [
    {
     "data": {
      "text/markdown": [
       "<span style=\"color:red\">**TypeMismatch**</span>: type $X$ and type $\\left\\langle{}X,\\forall{}X\\right\\rangle{}$ conflict (Occurs check failure while trying to infer function type given argument type `X`)"
      ],
      "text/plain": [
       "TypeMismatch: type `X` and type `<X,∀X>` conflict (Occurs check failure while trying to infer function type given argument type `X`)"
      ]
     },
     "metadata": {},
     "output_type": "display_data"
    }
   ],
   "source": [
    "%te q_t & (f_X(x_X) & p_t)"
   ]
  },
  {
   "cell_type": "code",
   "execution_count": 45,
   "id": "2a2b28c9-6441-471d-9806-05e35debfa91",
   "metadata": {},
   "outputs": [
    {
     "data": {
      "text/markdown": [
       "<span style=\"color:red\">**TypeMismatch**</span>: type $\\left\\langle{}Y,X\\right\\rangle{}$ and type $Y$ conflict (Occurs check failure while trying to infer function type given argument type `<Y,X>`)"
      ],
      "text/plain": [
       "TypeMismatch: type `<Y,X>` and type `Y` conflict (Occurs check failure while trying to infer function type given argument type `<Y,X>`)"
      ]
     },
     "metadata": {},
     "output_type": "display_data"
    }
   ],
   "source": [
    "%te f_<Y,X>(x_<Y,X>)"
   ]
  },
  {
   "cell_type": "code",
   "execution_count": 46,
   "id": "17deb335-96de-437a-b690-6827e7563fa8",
   "metadata": {},
   "outputs": [
    {
     "data": {
      "text/markdown": [
       "<span style=\"color:red\">**TypeMismatch**</span>: type $X$ and type $\\left\\langle{}X,\\forall{}X\\right\\rangle{}$ conflict (Occurs check failure while trying to infer function type given argument type `X`)"
      ],
      "text/plain": [
       "TypeMismatch: type `X` and type `<X,∀X>` conflict (Occurs check failure while trying to infer function type given argument type `X`)"
      ]
     },
     "metadata": {},
     "output_type": "display_data"
    }
   ],
   "source": [
    "f = %te f_X\n",
    "x = %te x_X\n",
    "f.let = False\n",
    "x.let = False\n",
    "try:\n",
    "    f(x)\n",
    "except Exception as e:\n",
    "    display(e)"
   ]
  },
  {
   "cell_type": "code",
   "execution_count": null,
   "id": "0f4d3680-050d-4526-9684-f8cba6f0e83d",
   "metadata": {},
   "outputs": [],
   "source": []
  },
  {
   "cell_type": "code",
   "execution_count": 47,
   "id": "5c7b0943-4127-4a3a-a5e6-7845f2235f57",
   "metadata": {},
   "outputs": [
    {
     "data": {
      "text/markdown": [
       "<span style=\"color:red\">**ParseError**</span>: Failed to parse expression, in string `p_t &`: invalid syntax"
      ],
      "text/plain": [
       "ParseError: Failed to parse expression, in string `p_t &`: invalid syntax"
      ]
     },
     "metadata": {},
     "output_type": "display_data"
    }
   ],
   "source": [
    "%te p_t &"
   ]
  },
  {
   "cell_type": "code",
   "execution_count": 48,
   "id": "4fa6309b-8fa6-4ca1-9eda-9771a6d7e6ba",
   "metadata": {},
   "outputs": [
    {
     "data": {
      "text/markdown": [
       "<span style=\"color:red\">**ParseError**</span>: No viable 2-ary operator for symbol `&` and arguments `(p_t, p_n)`, in string `p_t & p_n`"
      ],
      "text/plain": [
       "ParseError: No viable 2-ary operator for symbol `&` and arguments `(p_t, p_n)`, in string `p_t & p_n`"
      ]
     },
     "metadata": {},
     "output_type": "display_data"
    }
   ],
   "source": [
    "%te p_t & p_n"
   ]
  },
  {
   "cell_type": "code",
   "execution_count": 49,
   "id": "86c1083c-7f94-4f70-ab28-736b4069aa7c",
   "metadata": {},
   "outputs": [
    {
     "data": {
      "text/markdown": [
       "<span style=\"color:red\">**ParseError**</span>: Failed to parse expression, in string `(p_t & )`: invalid syntax"
      ],
      "text/plain": [
       "ParseError: Failed to parse expression, in string `(p_t & )`: invalid syntax"
      ]
     },
     "metadata": {},
     "output_type": "display_data"
    }
   ],
   "source": [
    "%te (p_t & )"
   ]
  },
  {
   "cell_type": "code",
   "execution_count": 50,
   "id": "afec7c6a-67a5-4445-a22e-bfcaaa22c8ff",
   "metadata": {},
   "outputs": [
    {
     "data": {
      "text/markdown": [
       "<span style=\"color:red\">**ParseError**</span>: Failed to parse expression, in string `(& p_t)`: invalid syntax"
      ],
      "text/plain": [
       "ParseError: Failed to parse expression, in string `(& p_t)`: invalid syntax"
      ]
     },
     "metadata": {},
     "output_type": "display_data"
    }
   ],
   "source": [
    "%te (& p_t)"
   ]
  },
  {
   "cell_type": "code",
   "execution_count": 51,
   "id": "5735f3a7-53ad-4647-ade3-c78d378ac9d5",
   "metadata": {},
   "outputs": [
    {
     "data": {
      "text/markdown": [
       "<span style=\"color:red\">**ParseError**</span>: Failed to parse expression, in string `(x_e, y_n z_e)`: invalid syntax. Perhaps you forgot a comma?"
      ],
      "text/plain": [
       "ParseError: Failed to parse expression, in string `(x_e, y_n z_e)`: invalid syntax. Perhaps you forgot a comma?"
      ]
     },
     "metadata": {},
     "output_type": "display_data"
    }
   ],
   "source": [
    "%te (x_e, y_n z_e)"
   ]
  },
  {
   "cell_type": "code",
   "execution_count": 52,
   "id": "7723c713-e89f-4ccc-b7d3-ff40d5ecc3fa",
   "metadata": {},
   "outputs": [
    {
     "data": {
      "text/markdown": [
       "<span style=\"color:red\">**ParseError**</span>: Failed to parse expression, in string `f(x_e,y_e z_e)`: invalid syntax. Perhaps you forgot a comma?"
      ],
      "text/plain": [
       "ParseError: Failed to parse expression, in string `f(x_e,y_e z_e)`: invalid syntax. Perhaps you forgot a comma?"
      ]
     },
     "metadata": {},
     "output_type": "display_data"
    }
   ],
   "source": [
    "%te f(x_e,y_e z_e)"
   ]
  },
  {
   "cell_type": "code",
   "execution_count": 53,
   "id": "143ff684-a4f4-4659-b324-ddf15964994d",
   "metadata": {},
   "outputs": [
    {
     "data": {
      "text/markdown": [
       "<span style=\"color:red\">**ParseError**</span>: Failed to find term following comma in variable sequence, in string `Lambda x_e,: p_t`"
      ],
      "text/plain": [
       "ParseError: Failed to find term following comma in variable sequence, in string `Lambda x_e,: p_t`"
      ]
     },
     "metadata": {},
     "output_type": "display_data"
    }
   ],
   "source": [
    "%te Lambda x_e,: p_t"
   ]
  },
  {
   "cell_type": "code",
   "execution_count": 54,
   "id": "0f4d9612-f286-44d4-a234-180c34d75457",
   "metadata": {},
   "outputs": [
    {
     "data": {
      "text/markdown": [
       "<span style=\"color:red\">**ParseError**</span>: Operator class `Lambda` does not allow >1 variables, in string `Lambda x_e, y_e: p_t`"
      ],
      "text/plain": [
       "ParseError: Operator class `Lambda` does not allow >1 variables, in string `Lambda x_e, y_e: p_t`"
      ]
     },
     "metadata": {},
     "output_type": "display_data"
    }
   ],
   "source": [
    "%te Lambda x_e, y_e: p_t"
   ]
  },
  {
   "cell_type": "code",
   "execution_count": 55,
   "id": "e58fc347-fd09-488d-8933-206583520549",
   "metadata": {},
   "outputs": [
    {
     "data": {
      "text/markdown": [
       "<span style=\"color:red\">**ParseError**</span>: `TypedTerm` requires a valid symbol name, got `1`, in string `Lambda 1: p_t`"
      ],
      "text/plain": [
       "ParseError: `TypedTerm` requires a valid symbol name, got `1`, in string `Lambda 1: p_t`"
      ]
     },
     "metadata": {},
     "output_type": "display_data"
    }
   ],
   "source": [
    "%te Lambda 1: p_t"
   ]
  },
  {
   "cell_type": "code",
   "execution_count": 56,
   "id": "7a59fd46-ea69-4a11-a98c-74544446c0a7",
   "metadata": {},
   "outputs": [
    {
     "data": {
      "text/markdown": [
       "<span style=\"color:red\">**ParseError**</span>: Need variable name in binding expression (received `K`), in string `Lambda K: p_t`"
      ],
      "text/plain": [
       "ParseError: Need variable name in binding expression (received `K`), in string `Lambda K: p_t`"
      ]
     },
     "metadata": {},
     "output_type": "display_data"
    }
   ],
   "source": [
    "%te Lambda K: p_t"
   ]
  },
  {
   "cell_type": "code",
   "execution_count": null,
   "id": "629a0548-d5c9-4c26-a305-ed606834e965",
   "metadata": {},
   "outputs": [],
   "source": []
  },
  {
   "cell_type": "code",
   "execution_count": 57,
   "id": "fa27240d-ce39-4253-a19d-1fb4b1d195ec",
   "metadata": {},
   "outputs": [
    {
     "data": {
      "text/markdown": [
       "<span style=\"color:red\">**TypeMismatch**</span>: type $n$ and `x_e` conflict (Set elements must have compatible types (`x_e` at type `n`))"
      ],
      "text/plain": [
       "TypeMismatch: type `n` and `x_e` conflict (Set elements must have compatible types (`x_e` at type `n`))"
      ]
     },
     "metadata": {},
     "output_type": "display_data"
    }
   ],
   "source": [
    "%te {x_e, x_n}"
   ]
  },
  {
   "cell_type": "code",
   "execution_count": 58,
   "id": "60cc5390-f87d-41d5-b214-372105ca7268",
   "metadata": {},
   "outputs": [
    {
     "data": {
      "text/markdown": [
       "<span style=\"color:red\">**ParseError**</span>: Failed to parse expression, in string `Existsx_e : Lambda y_e : P(x,y)`: invalid syntax"
      ],
      "text/plain": [
       "ParseError: Failed to parse expression, in string `Existsx_e : Lambda y_e : P(x,y)`: invalid syntax"
      ]
     },
     "metadata": {},
     "output_type": "display_data"
    }
   ],
   "source": [
    "%te Existsx_e : Lambda y_e : P(x,y)"
   ]
  },
  {
   "cell_type": "code",
   "execution_count": 59,
   "id": "46024b8d-9612-4d6e-96bf-8a5a7763628c",
   "metadata": {},
   "outputs": [
    {
     "data": {
      "text/markdown": [
       "<span style=\"color:red\">**ParseError**</span>: Failed to parse expression, in string `Lambday_e : P(x,y)`: invalid syntax"
      ],
      "text/plain": [
       "ParseError: Failed to parse expression, in string `Lambday_e : P(x,y)`: invalid syntax"
      ]
     },
     "metadata": {},
     "output_type": "display_data"
    }
   ],
   "source": [
    "%te Lambday_e : P(x,y)"
   ]
  },
  {
   "cell_type": "code",
   "execution_count": 60,
   "id": "1cac3583-6b1d-4446-ab31-b5f66b6365cc",
   "metadata": {},
   "outputs": [
    {
     "data": {
      "text/markdown": [
       "<span style=\"color:red\">**ParseError**</span>: Failed to parse expression, in string `Lambday_e : P(y)`: invalid syntax"
      ],
      "text/plain": [
       "ParseError: Failed to parse expression, in string `Lambday_e : P(y)`: invalid syntax"
      ]
     },
     "metadata": {},
     "output_type": "display_data"
    }
   ],
   "source": [
    "%te Lambday_e : P(y)"
   ]
  },
  {
   "cell_type": "code",
   "execution_count": null,
   "id": "020d55c4-72a8-4c87-9ff8-42994a9831ab",
   "metadata": {},
   "outputs": [],
   "source": []
  },
  {
   "cell_type": "code",
   "execution_count": 61,
   "id": "251dfa14-da81-40bf-be29-b5295524c8fc",
   "metadata": {},
   "outputs": [
    {
     "name": "stdout",
     "output_type": "stream",
     "text": [
      "INFO (core): Coerced guessed type for 'P_t' into <(e,e),t>, to match argument '(x_e, y_e)'\n"
     ]
    },
    {
     "data": {
      "text/markdown": [
       "<span style=\"color:red\">**ParseError**</span>: No viable 2-ary operator for symbol `&` and arguments `(P_<(e,e),t>(x_e, y_e), q_e)`, in string `Exists x_e : Lambda y_e : P(x,y) & q_e`"
      ],
      "text/plain": [
       "ParseError: No viable 2-ary operator for symbol `&` and arguments `(P_<(e,e),t>(x_e, y_e), q_e)`, in string `Exists x_e : Lambda y_e : P(x,y) & q_e`"
      ]
     },
     "metadata": {},
     "output_type": "display_data"
    }
   ],
   "source": [
    "%te Exists x_e : Lambda y_e : P(x,y) & q_e"
   ]
  },
  {
   "cell_type": "code",
   "execution_count": null,
   "id": "7fcdcfe0-05ef-4806-809a-ba20aae77729",
   "metadata": {},
   "outputs": [],
   "source": []
  },
  {
   "cell_type": "code",
   "execution_count": 15,
   "id": "7fb0ab52-d0ee-44c4-bec1-5aa0112d4e81",
   "metadata": {},
   "outputs": [
    {
     "data": {
      "text/markdown": [
       "<span style=\"color:red\">**ParseError**</span>: Unknown postfix unary operator `Asdf` for expression type `n`, in string `2.Asdf`"
      ],
      "text/plain": [
       "ParseError: Unknown postfix unary operator `Asdf` for expression type `n`, in string `2.Asdf`"
      ]
     },
     "metadata": {},
     "output_type": "display_data"
    }
   ],
   "source": [
    "%te 2.Asdf"
   ]
  },
  {
   "cell_type": "code",
   "execution_count": 17,
   "id": "64e7e17e-23a6-4587-87d2-b0a1eda3dc3d",
   "metadata": {},
   "outputs": [
    {
     "name": "stderr",
     "output_type": "stream",
     "text": [
      "WARNING (core): New operator `Plus/(n,n)` replaces existing exact matching operator for `Plus`: Operator(Plus, Plus, arity: 2, signature: (n,n))\n"
     ]
    },
    {
     "data": {
      "text/latex": [
       "$\\texttt{operator Plus(2)} = \\lambda{} x_{n} \\: . \\: \\lambda{} y_{n} \\: . \\: {x} + {y}$"
      ],
      "text/plain": [
       "operator Plus(2) = (λ x_n: (λ y_n: (x_n + y_n)))"
      ]
     },
     "metadata": {},
     "output_type": "display_data"
    },
    {
     "data": {
      "text/markdown": [
       "<span style=\"color:red\">**ParseError**</span>: Invalid syntax: stray operator `Plus`, in string `Plus`"
      ],
      "text/plain": [
       "ParseError: Invalid syntax: stray operator `Plus`, in string `Plus`"
      ]
     },
     "metadata": {},
     "output_type": "display_data"
    }
   ],
   "source": [
    "%lamb operator Plus(2) = L x_n : L y_n : x + y\n",
    "%te Plus"
   ]
  },
  {
   "cell_type": "code",
   "execution_count": 19,
   "id": "539fec23-7a4c-4c46-9d62-c00cda8d181d",
   "metadata": {},
   "outputs": [
    {
     "data": {
      "text/markdown": [
       "<span style=\"color:red\">**ParseError**</span>: No 1-ary operator for `Plus`, in string `Plus(2)`"
      ],
      "text/plain": [
       "ParseError: No 1-ary operator for `Plus`, in string `Plus(2)`"
      ]
     },
     "metadata": {},
     "output_type": "display_data"
    }
   ],
   "source": [
    "%te Plus(2)"
   ]
  },
  {
   "cell_type": "code",
   "execution_count": 20,
   "id": "9b716ed6-6d97-4b62-9a9e-f3fe124ec967",
   "metadata": {},
   "outputs": [
    {
     "data": {
      "text/markdown": [
       "<span style=\"color:red\">**ParseError**</span>: No 3-ary operator for `Plus`, in string `Plus(2,3,4)`"
      ],
      "text/plain": [
       "ParseError: No 3-ary operator for `Plus`, in string `Plus(2,3,4)`"
      ]
     },
     "metadata": {},
     "output_type": "display_data"
    }
   ],
   "source": [
    "%te Plus(2,3,4)"
   ]
  },
  {
   "cell_type": "code",
   "execution_count": 10,
   "id": "b5f2e9c5-8e33-4f60-9393-1d7262713f98",
   "metadata": {},
   "outputs": [
    {
     "data": {
      "text/markdown": [
       "<span style=\"color:red\">**ParseError**</span>: Invalid syntax: stray operator `Plus`, in string `2 + Plus`"
      ],
      "text/plain": [
       "ParseError: Invalid syntax: stray operator `Plus`, in string `2 + Plus`"
      ]
     },
     "metadata": {},
     "output_type": "display_data"
    }
   ],
   "source": [
    "%te 2 + Plus"
   ]
  },
  {
   "cell_type": "code",
   "execution_count": 21,
   "id": "508be35f-df60-4969-bd3f-00bcd1336ca6",
   "metadata": {},
   "outputs": [
    {
     "data": {
      "text/markdown": [
       "<span style=\"color:red\">**ParseError**</span>: Unknown postfix unary operator `Plus` for expression type `n`, in string `2.Plus`"
      ],
      "text/plain": [
       "ParseError: Unknown postfix unary operator `Plus` for expression type `n`, in string `2.Plus`"
      ]
     },
     "metadata": {},
     "output_type": "display_data"
    }
   ],
   "source": [
    "%te 2.Plus"
   ]
  },
  {
   "cell_type": "code",
   "execution_count": 22,
   "id": "66ecc359-dc00-48cf-a736-ab04a98016ec",
   "metadata": {},
   "outputs": [
    {
     "data": {
      "text/markdown": [
       "<span style=\"color:red\">**ParseError**</span>: Unknown postfix unary operator `Plus` for expression type `n`, in string `2.Plus(3)`"
      ],
      "text/plain": [
       "ParseError: Unknown postfix unary operator `Plus` for expression type `n`, in string `2.Plus(3)`"
      ]
     },
     "metadata": {},
     "output_type": "display_data"
    }
   ],
   "source": [
    "%te 2.Plus(3)"
   ]
  },
  {
   "cell_type": "code",
   "execution_count": 11,
   "id": "9fcee2ca-5b0b-490c-9533-43f64434d475",
   "metadata": {},
   "outputs": [
    {
     "data": {
      "text/markdown": [
       "<span style=\"color:red\">**ParseError**</span>: Invalid syntax: stray operator `Partial`, in string `Partial`"
      ],
      "text/plain": [
       "ParseError: Invalid syntax: stray operator `Partial`, in string `Partial`"
      ]
     },
     "metadata": {},
     "output_type": "display_data"
    }
   ],
   "source": [
    "%te Partial"
   ]
  },
  {
   "cell_type": "code",
   "execution_count": 12,
   "id": "b27b0b8d-34b0-4597-b702-3b511f2e2afb",
   "metadata": {},
   "outputs": [
    {
     "data": {
      "text/markdown": [
       "<span style=\"color:red\">**ParseError**</span>: Invalid syntax: stray operator `Plus`, in string `((Plus))(2,3)`"
      ],
      "text/plain": [
       "ParseError: Invalid syntax: stray operator `Plus`, in string `((Plus))(2,3)`"
      ]
     },
     "metadata": {},
     "output_type": "display_data"
    }
   ],
   "source": [
    "%te ((Plus))(2,3)"
   ]
  },
  {
   "cell_type": "code",
   "execution_count": 13,
   "id": "310dc897-5804-4a22-b3c0-3010ac932cf7",
   "metadata": {},
   "outputs": [
    {
     "data": {
      "text/markdown": [
       "<span style=\"color:red\">**ParseError**</span>: Invalid syntax, in string `'asdf'`"
      ],
      "text/plain": [
       "ParseError: Invalid syntax, in string `'asdf'`"
      ]
     },
     "metadata": {},
     "output_type": "display_data"
    }
   ],
   "source": [
    "%te 'asdf'"
   ]
  },
  {
   "cell_type": "code",
   "execution_count": 14,
   "id": "01fa4cfd-7b18-4799-85fe-53cbb517bfd3",
   "metadata": {},
   "outputs": [
    {
     "data": {
      "text/markdown": [
       "<span style=\"color:red\">**ParseError**</span>: Invalid syntax, in string `'asdf' + 2`"
      ],
      "text/plain": [
       "ParseError: Invalid syntax, in string `'asdf' + 2`"
      ]
     },
     "metadata": {},
     "output_type": "display_data"
    }
   ],
   "source": [
    "%te 'asdf' + 2"
   ]
  },
  {
   "cell_type": "code",
   "execution_count": null,
   "id": "e01e0ea5-b261-4823-9150-fb1be6fe708c",
   "metadata": {},
   "outputs": [],
   "source": []
  },
  {
   "cell_type": "markdown",
   "id": "d78187bc-fc7f-432d-afd1-6a060d806792",
   "metadata": {},
   "source": [
    "# lang"
   ]
  },
  {
   "cell_type": "code",
   "execution_count": 1,
   "id": "11d4f188-1936-41c8-8ea0-86e57c60a38a",
   "metadata": {},
   "outputs": [],
   "source": [
    "reload_lamb()"
   ]
  },
  {
   "cell_type": "code",
   "execution_count": 2,
   "id": "01fd2e08-89c7-4008-b3c8-4a7d0ec2a85c",
   "metadata": {},
   "outputs": [
    {
     "data": {
      "text/markdown": [
       "$[\\![\\text{\\textbf{julius}}]\\!]^{}_{e} \\:=\\: {Julius}_{e}$<br />\n",
       "$[\\![\\text{\\textbf{isV}}]\\!]^{}_{\\left\\langle{}\\left\\langle{}e,t\\right\\rangle{},\\left\\langle{}e,t\\right\\rangle{}\\right\\rangle{}} \\:=\\: \\lambda{} p_{\\left\\langle{}e,t\\right\\rangle{}} \\: . \\: {p}$"
      ],
      "text/plain": [
       "⟦julius⟧ = Julius_e\n",
       "⟦isV⟧ = (λ p_<e,t>: p_<e,t>)"
      ]
     },
     "metadata": {},
     "output_type": "display_data"
    }
   ],
   "source": [
    "%%lamb\n",
    "||julius|| = Julius_e\n",
    "||isV|| = L p_<e,t> : p # `is` is a reserved word in python"
   ]
  },
  {
   "cell_type": "code",
   "execution_count": 3,
   "id": "ee70f7ae-f105-43a2-b4c9-1631d55585b3",
   "metadata": {},
   "outputs": [
    {
     "data": {
      "text/markdown": [
       "Composition of \"[julius isV]\" failed:<br />\n",
       "&nbsp;&nbsp;&nbsp;&nbsp;<span style=\"color:red\">**TypeMismatch**</span>: $[\\![\\text{\\textbf{julius}}]\\!]^{}_{e} \\:=\\: {Julius}_{e}$ and $[\\![\\text{\\textbf{isV}}]\\!]^{}_{\\left\\langle{}\\left\\langle{}e,t\\right\\rangle{},\\left\\langle{}e,t\\right\\rangle{}\\right\\rangle{}} \\:=\\: \\lambda{} p_{\\left\\langle{}e,t\\right\\rangle{}} \\: . \\: {p}$ conflict (Function Application needs a matching function and argument)<br />\n",
       "&nbsp;&nbsp;&nbsp;&nbsp;<span style=\"color:red\">**TypeMismatch**</span>: $[\\![\\text{\\textbf{isV}}]\\!]^{}_{\\left\\langle{}\\left\\langle{}e,t\\right\\rangle{},\\left\\langle{}e,t\\right\\rangle{}\\right\\rangle{}} \\:=\\: \\lambda{} p_{\\left\\langle{}e,t\\right\\rangle{}} \\: . \\: {p}$ and $[\\![\\text{\\textbf{julius}}]\\!]^{}_{e} \\:=\\: {Julius}_{e}$ conflict (Function Application needs a matching function and argument)<br />\n",
       "&nbsp;&nbsp;&nbsp;&nbsp;<span style=\"color:red\">**TypeMismatch**</span>: $[\\![\\text{\\textbf{julius}}]\\!]^{}_{e} \\:=\\: {Julius}_{e}$ and $[\\![\\text{\\textbf{isV}}]\\!]^{}_{\\left\\langle{}\\left\\langle{}e,t\\right\\rangle{},\\left\\langle{}e,t\\right\\rangle{}\\right\\rangle{}} \\:=\\: \\lambda{} p_{\\left\\langle{}e,t\\right\\rangle{}} \\: . \\: {p}$ conflict (Predicate Modification needs property types)<br />\n",
       "&nbsp;&nbsp;&nbsp;&nbsp;<span style=\"color:red\"><b>Composition failure</b></span> on: $[\\![\\text{\\textbf{julius}}]\\!]^{}_{e} \\:=\\: {Julius}_{e}$ * $[\\![\\text{\\textbf{isV}}]\\!]^{}_{\\left\\langle{}\\left\\langle{}e,t\\right\\rangle{},\\left\\langle{}e,t\\right\\rangle{}\\right\\rangle{}} \\:=\\: \\lambda{} p_{\\left\\langle{}e,t\\right\\rangle{}} \\: . \\: {p}$  (Predicate Abstraction requires a valid binder)<br />\n",
       "&nbsp;&nbsp;&nbsp;&nbsp;<span style=\"color:red\"><b>Composition failure</b></span> on: $[\\![\\text{\\textbf{isV}}]\\!]^{}_{\\left\\langle{}\\left\\langle{}e,t\\right\\rangle{},\\left\\langle{}e,t\\right\\rangle{}\\right\\rangle{}} \\:=\\: \\lambda{} p_{\\left\\langle{}e,t\\right\\rangle{}} \\: . \\: {p}$ * $[\\![\\text{\\textbf{julius}}]\\!]^{}_{e} \\:=\\: {Julius}_{e}$  (Predicate Abstraction requires a valid binder)<br />\n",
       "&nbsp;&nbsp;&nbsp;&nbsp;<span style=\"color:red\">**TypeMismatch**</span>: $[\\![\\text{\\textbf{julius}}]\\!]^{}_{e} \\:=\\: {Julius}_{e}$ and $[\\![\\text{\\textbf{isV}}]\\!]^{}_{\\left\\langle{}\\left\\langle{}e,t\\right\\rangle{},\\left\\langle{}e,t\\right\\rangle{}\\right\\rangle{}} \\:=\\: \\lambda{} p_{\\left\\langle{}e,t\\right\\rangle{}} \\: . \\: {p}$ conflict (Vacuous composition needs at least one fully vacuous element)<br />\n"
      ],
      "text/plain": [
       "Composition of \"[julius isV]\" failed:\n",
       "    TypeMismatch: `⟦julius⟧ = Julius_e` and `⟦isV⟧ = (λ p_<e,t>: p_<e,t>)` conflict (Function Application needs a matching function and argument)\n",
       "    TypeMismatch: `⟦isV⟧ = (λ p_<e,t>: p_<e,t>)` and `⟦julius⟧ = Julius_e` conflict (Function Application needs a matching function and argument)\n",
       "    TypeMismatch: `⟦julius⟧ = Julius_e` and `⟦isV⟧ = (λ p_<e,t>: p_<e,t>)` conflict (Predicate Modification needs property types)\n",
       "    Composition failure on: ⟦julius⟧ = Julius_e * ⟦isV⟧ = (λ p_<e,t>: p_<e,t>)  (Predicate Abstraction requires a valid binder)\n",
       "    Composition failure on: ⟦isV⟧ = (λ p_<e,t>: p_<e,t>) * ⟦julius⟧ = Julius_e  (Predicate Abstraction requires a valid binder)\n",
       "    TypeMismatch: `⟦julius⟧ = Julius_e` and `⟦isV⟧ = (λ p_<e,t>: p_<e,t>)` conflict (Vacuous composition needs at least one fully vacuous element)"
      ]
     },
     "metadata": {},
     "output_type": "display_data"
    }
   ],
   "source": [
    "julius * isV"
   ]
  },
  {
   "cell_type": "code",
   "execution_count": 6,
   "id": "689fe2e2-9a38-490a-ad95-c5c8f56f624c",
   "metadata": {},
   "outputs": [
    {
     "data": {
      "text/latex": [
       "$⟦[julius isV]⟧\\:=\\:\\text{\\textbf{error!}}$"
      ],
      "text/plain": [
       "⟦[julius isV]⟧ = **error**!"
      ]
     },
     "execution_count": 6,
     "metadata": {},
     "output_type": "execute_result"
    }
   ],
   "source": [
    "x = (julius * isV)\n",
    "x.failures[0]"
   ]
  },
  {
   "cell_type": "code",
   "execution_count": null,
   "id": "6565f4ed-6c22-4923-82e6-3b66f04766ee",
   "metadata": {},
   "outputs": [],
   "source": []
  },
  {
   "cell_type": "code",
   "execution_count": null,
   "id": "148a2dd3-643a-47c2-ae3b-72dc0e2f2120",
   "metadata": {},
   "outputs": [],
   "source": []
  }
 ],
 "metadata": {
  "kernelspec": {
   "display_name": "Lambda Notebook (Python 3)",
   "language": "python",
   "name": "lambda-notebook"
  },
  "language_info": {
   "codemirror_mode": {
    "name": "ipython",
    "version": 3
   },
   "file_extension": ".py",
   "mimetype": "text/x-python",
   "name": "python",
   "nbconvert_exporter": "python",
   "pygments_lexer": "ipython3",
   "version": "3.12.8"
  }
 },
 "nbformat": 4,
 "nbformat_minor": 5
}
