{
 "cells": [
  {
   "cell_type": "code",
   "execution_count": 1,
   "metadata": {
    "collapsed": false,
    "jupyter": {
     "outputs_hidden": false
    }
   },
   "outputs": [],
   "source": [
    "reload_lamb()"
   ]
  },
  {
   "cell_type": "code",
   "execution_count": 2,
   "metadata": {
    "collapsed": false,
    "jupyter": {
     "outputs_hidden": false
    }
   },
   "outputs": [
    {
     "name": "stdout",
     "output_type": "stream",
     "text": [
      "CPU times: user 4.9 ms, sys: 62 µs, total: 4.97 ms\n",
      "Wall time: 4.93 ms\n"
     ]
    },
    {
     "data": {
      "text/latex": [
       "$\\lambda{} g_{\\langle{}Y,Z\\rangle{}} \\: . \\: \\lambda{} f_{\\langle{}X,Y\\rangle{}} \\: . \\: \\lambda{} x_{X} \\: . \\: {g}_{\\langle{}Y,Z\\rangle{}}({f}_{\\langle{}X,Y\\rangle{}}({x}_{X}))$"
      ],
      "text/plain": [
       "(λ g_<Y,Z>: (λ f_<X,Y>: (λ x_X: g_<Y,Z>(f_<X,Y>(x_X)))))"
      ]
     },
     "execution_count": 2,
     "metadata": {},
     "output_type": "execute_result"
    }
   ],
   "source": [
    "%time geach = te(\"(λ g_<Y,Z>: (λ f_<X,Y>: (λ x_X: g_<Y,Z>(f_<X,Y>(x_X)))))\", let=True)\n",
    "geach"
   ]
  },
  {
   "cell_type": "code",
   "execution_count": 3,
   "metadata": {
    "collapsed": false,
    "jupyter": {
     "outputs_hidden": false
    }
   },
   "outputs": [
    {
     "name": "stdout",
     "output_type": "stream",
     "text": [
      "CPU times: user 834 µs, sys: 0 ns, total: 834 µs\n",
      "Wall time: 841 µs\n"
     ]
    },
    {
     "data": {
      "text/latex": [
       "$\\lambda{} g_{\\langle{}Y,Z\\rangle{}} \\: . \\: \\lambda{} f_{\\langle{}X_{20},Y\\rangle{}} \\: . \\: \\lambda{} x_{X_{20}} \\: . \\: {g}_{\\langle{}Y,Z\\rangle{}}({f}_{\\langle{}X_{20},Y\\rangle{}}({x}_{X_{20}}))$"
      ],
      "text/plain": [
       "(λ g_<Y,Z>: (λ f_<X20,Y>: (λ x_X20: g_<Y,Z>(f_<X20,Y>(x_X20)))))"
      ]
     },
     "execution_count": 3,
     "metadata": {},
     "output_type": "execute_result"
    }
   ],
   "source": [
    "%time geach.under_type_injection({tp(\"X\"): tp(\"X20\")}) #.get_type_env().type_var_set"
   ]
  },
  {
   "cell_type": "code",
   "execution_count": 4,
   "metadata": {
    "collapsed": false,
    "jupyter": {
     "outputs_hidden": false
    }
   },
   "outputs": [
    {
     "name": "stdout",
     "output_type": "stream",
     "text": [
      "CPU times: user 40.6 ms, sys: 903 µs, total: 41.5 ms\n",
      "Wall time: 41 ms\n"
     ]
    }
   ],
   "source": [
    "#%prun -s cumtime for i in range(100): geach.copy()\n",
    "%time for i in range(1000): geach.copy()"
   ]
  },
  {
   "cell_type": "code",
   "execution_count": 5,
   "metadata": {
    "collapsed": false,
    "jupyter": {
     "outputs_hidden": false
    }
   },
   "outputs": [
    {
     "name": "stdout",
     "output_type": "stream",
     "text": [
      "CPU times: user 333 µs, sys: 8 µs, total: 341 µs\n",
      "Wall time: 345 µs\n"
     ]
    },
    {
     "data": {
      "text/latex": [
       "$\\lambda{} g_{\\langle{}Y,Z\\rangle{}} \\: . \\: \\lambda{} f_{\\langle{}X,Y\\rangle{}} \\: . \\: \\lambda{} x_{X} \\: . \\: {g}_{\\langle{}Y,Z\\rangle{}}({f}_{\\langle{}X,Y\\rangle{}}({x}_{X}))$"
      ],
      "text/plain": [
       "(λ g_<Y,Z>: (λ f_<X,Y>: (λ x_X: g_<Y,Z>(f_<X,Y>(x_X)))))"
      ]
     },
     "execution_count": 5,
     "metadata": {},
     "output_type": "execute_result"
    }
   ],
   "source": [
    "%time geach.deep_copy()\n",
    "#%prun -s cumtime for i in range(1000): geach.deep_copy()"
   ]
  },
  {
   "cell_type": "code",
   "execution_count": 6,
   "metadata": {
    "collapsed": false,
    "jupyter": {
     "outputs_hidden": false
    }
   },
   "outputs": [
    {
     "name": "stdout",
     "output_type": "stream",
     "text": [
      "CPU times: user 1.11 ms, sys: 9 µs, total: 1.11 ms\n",
      "Wall time: 1.12 ms\n"
     ]
    },
    {
     "data": {
      "text/latex": [
       "$\\lambda{} g_{\\langle{}I_{30},I_{28}\\rangle{}} \\: . \\: \\lambda{} f_{\\langle{}I_{29},I_{30}\\rangle{}} \\: . \\: \\lambda{} x_{I_{29}} \\: . \\: {g}_{\\langle{}I_{30},I_{28}\\rangle{}}({f}_{\\langle{}I_{29},I_{30}\\rangle{}}({x}_{I_{29}}))$"
      ],
      "text/plain": [
       "(λ g_<I30,I28>: (λ f_<I29,I30>: (λ x_I29: g_<I30,I28>(f_<I29,I30>(x_I29)))))"
      ]
     },
     "execution_count": 6,
     "metadata": {},
     "output_type": "execute_result"
    }
   ],
   "source": [
    "%time geach.freshen_type_vars()"
   ]
  },
  {
   "cell_type": "code",
   "execution_count": 7,
   "metadata": {
    "collapsed": false,
    "jupyter": {
     "outputs_hidden": false
    }
   },
   "outputs": [
    {
     "data": {
      "text/latex": [
       "${x}_{e}$"
      ],
      "text/plain": [
       "x_e"
      ]
     },
     "execution_count": 7,
     "metadata": {},
     "output_type": "execute_result"
    }
   ],
   "source": [
    "x = %te x_e\n",
    "x"
   ]
  },
  {
   "cell_type": "code",
   "execution_count": 8,
   "metadata": {
    "collapsed": false,
    "jupyter": {
     "outputs_hidden": false
    }
   },
   "outputs": [
    {
     "name": "stdout",
     "output_type": "stream",
     "text": [
      "CPU times: user 17.1 ms, sys: 467 µs, total: 17.6 ms\n",
      "Wall time: 19 ms\n"
     ]
    }
   ],
   "source": [
    "#%prun -s cumtime for i in range(1000): x.deep_copy()\n",
    "%time for i in range(1000): x.copy()"
   ]
  },
  {
   "cell_type": "code",
   "execution_count": 9,
   "metadata": {
    "collapsed": false,
    "jupyter": {
     "outputs_hidden": false
    }
   },
   "outputs": [
    {
     "name": "stderr",
     "output_type": "stream",
     "text": [
      "INFO (meta): Coerced guessed type t for 'Saw_t' into <(e,e),t>, to match argument '(y_e, x_e)'\n"
     ]
    },
    {
     "data": {
      "text/latex": [
       "${saw}_{\\langle{}e,\\langle{}e,t\\rangle{}\\rangle{}}\\:=\\:\\lambda{} x_{e} \\: . \\: \\lambda{} y_{e} \\: . \\: {Saw}({y}_{e}, {x}_{e})$"
      ],
      "text/plain": [
       "${saw}_{\\langle{}e,\\langle{}e,t\\rangle{}\\rangle{}}\\:=\\:\\lambda{} x_{e} \\: . \\: \\lambda{} y_{e} \\: . \\: {Saw}({y}_{e}, {x}_{e})$"
      ]
     },
     "execution_count": 9,
     "metadata": {},
     "output_type": "execute_result"
    }
   ],
   "source": [
    "%lamb him = L x_e : x\n",
    "%lamb saw = L x_e : L y_e : Saw(y,x)"
   ]
  },
  {
   "cell_type": "code",
   "execution_count": 10,
   "metadata": {
    "collapsed": false,
    "jupyter": {
     "outputs_hidden": false
    }
   },
   "outputs": [
    {
     "name": "stdout",
     "output_type": "stream",
     "text": [
      "CPU times: user 12 ms, sys: 244 µs, total: 12.2 ms\n",
      "Wall time: 12.1 ms\n"
     ]
    },
    {
     "data": {
      "text/latex": [
       "$[\\lambda{} g_{\\langle{}e,\\langle{}e,t\\rangle{}\\rangle{}} \\: . \\: \\lambda{} f_{\\langle{}I_{33},e\\rangle{}} \\: . \\: \\lambda{} x_{I_{33}} \\: . \\: {g}_{\\langle{}e,\\langle{}e,t\\rangle{}\\rangle{}}({f}_{\\langle{}I_{33},e\\rangle{}}({x}_{I_{33}}))](\\lambda{} x_{e} \\: . \\: \\lambda{} y_{e} \\: . \\: {Saw}({y}_{e}, {x}_{e}))$"
      ],
      "text/plain": [
       "((λ g_<e,<e,t>>: (λ f_<I33,e>: (λ x_I33: g_<e,<e,t>>(f_<I33,e>(x_I33))))))((λ x_e: (λ y_e: Saw_<(e,e),t>(y_e, x_e))))"
      ]
     },
     "execution_count": 10,
     "metadata": {},
     "output_type": "execute_result"
    }
   ],
   "source": [
    "#%prun -s cumtime for i in range(100): geach(saw)\n",
    "%time geach(saw).compact_type_vars()"
   ]
  },
  {
   "cell_type": "code",
   "execution_count": 11,
   "metadata": {
    "collapsed": false,
    "jupyter": {
     "outputs_hidden": false
    }
   },
   "outputs": [
    {
     "name": "stdout",
     "output_type": "stream",
     "text": [
      "CPU times: user 15.2 ms, sys: 210 µs, total: 15.4 ms\n",
      "Wall time: 15.4 ms\n"
     ]
    },
    {
     "data": {
      "text/latex": [
       "$[\\lambda{} g_{\\langle{}e,\\langle{}e,t\\rangle{}\\rangle{}} \\: . \\: \\lambda{} f_{\\langle{}e,e\\rangle{}} \\: . \\: \\lambda{} x_{e} \\: . \\: {g}_{\\langle{}e,\\langle{}e,t\\rangle{}\\rangle{}}({f}_{\\langle{}e,e\\rangle{}}({x}_{e}))](\\lambda{} x_{e} \\: . \\: \\lambda{} y_{e} \\: . \\: {Saw}({y}_{e}, {x}_{e}))(\\lambda{} x_{e} \\: . \\: {x}_{e})$"
      ],
      "text/plain": [
       "((λ g_<e,<e,t>>: (λ f_<e,e>: (λ x_e: g_<e,<e,t>>(f_<e,e>(x_e))))))((λ x_e: (λ y_e: Saw_<(e,e),t>(y_e, x_e))))((λ x_e: x_e))"
      ]
     },
     "execution_count": 11,
     "metadata": {},
     "output_type": "execute_result"
    }
   ],
   "source": [
    "%time geach(saw)(him)"
   ]
  },
  {
   "cell_type": "code",
   "execution_count": 12,
   "metadata": {
    "collapsed": false,
    "jupyter": {
     "outputs_hidden": false
    }
   },
   "outputs": [],
   "source": [
    "#%prun -s cumtime for i in range(100): meta.ApplicationExpr(geach, saw)"
   ]
  },
  {
   "cell_type": "code",
   "execution_count": 13,
   "metadata": {
    "collapsed": false,
    "jupyter": {
     "outputs_hidden": false
    }
   },
   "outputs": [
    {
     "name": "stdout",
     "output_type": "stream",
     "text": [
      " "
     ]
    }
   ],
   "source": [
    "typ = tp(\"<<e,<e,t>>,<<X,e>,<X,<e,t>>>>\")\n",
    "%prun -s cumtime geach.try_adjust_type(typ)"
   ]
  },
  {
   "cell_type": "code",
   "execution_count": 50,
   "metadata": {
    "collapsed": false,
    "jupyter": {
     "outputs_hidden": false
    }
   },
   "outputs": [
    {
     "name": "stdout",
     "output_type": "stream",
     "text": [
      " "
     ]
    }
   ],
   "source": [
    "term = te(\"g_<e,<e,t>>\")\n",
    "%prun -s cumtime for i in range(100): geach.apply(term)"
   ]
  },
  {
   "cell_type": "code",
   "execution_count": 280,
   "metadata": {
    "collapsed": false,
    "jupyter": {
     "outputs_hidden": false
    }
   },
   "outputs": [
    {
     "name": "stdout",
     "output_type": "stream",
     "text": [
      " "
     ]
    }
   ],
   "source": [
    "%prun -s cumtime for i in range(100): geach[2][2][2].copy()"
   ]
  },
  {
   "cell_type": "code",
   "execution_count": 279,
   "metadata": {
    "collapsed": false,
    "jupyter": {
     "outputs_hidden": false
    }
   },
   "outputs": [
    {
     "name": "stdout",
     "output_type": "stream",
     "text": [
      " "
     ]
    }
   ],
   "source": [
    "geach[2][2][2][1].type\n",
    "%prun -s cumtime for i in range(100): types.poly_system.unify_fa(geach[2][2][2][0].type, geach[2][2][2][1].type)"
   ]
  },
  {
   "cell_type": "code",
   "execution_count": 274,
   "metadata": {
    "collapsed": false,
    "jupyter": {
     "outputs_hidden": false
    }
   },
   "outputs": [],
   "source": [
    "tf = geach[2][2][2][0].type\n",
    "ta = geach[2][2][2][1].type"
   ]
  },
  {
   "cell_type": "code",
   "execution_count": 14,
   "metadata": {
    "collapsed": false,
    "jupyter": {
     "outputs_hidden": false
    }
   },
   "outputs": [
    {
     "name": "stdout",
     "output_type": "stream",
     "text": [
      "CPU times: user 2.08 ms, sys: 0 ns, total: 2.08 ms\n",
      "Wall time: 2.09 ms\n"
     ]
    },
    {
     "data": {
      "text/latex": [
       "$\\lambda{} g_{\\langle{}e,\\langle{}e,t\\rangle{}\\rangle{}} \\: . \\: \\lambda{} f_{\\langle{}e,e\\rangle{}} \\: . \\: \\lambda{} x_{e} \\: . \\: {g}_{\\langle{}e,\\langle{}e,t\\rangle{}\\rangle{}}({f}_{\\langle{}e,e\\rangle{}}({x}_{e}))$"
      ],
      "text/plain": [
       "(λ g_<e,<e,t>>: (λ f_<e,e>: (λ x_e: g_<e,<e,t>>(f_<e,e>(x_e)))))"
      ]
     },
     "execution_count": 14,
     "metadata": {},
     "output_type": "execute_result"
    }
   ],
   "source": [
    "%time geach_s = te(\"(λ g_<e,<e,t>>: (λ f_<e,e>: (λ x_e: g_<e,<e,t>>(f_<e,e>(x_e)))))\")\n",
    "geach_s"
   ]
  },
  {
   "cell_type": "code",
   "execution_count": null,
   "metadata": {
    "collapsed": true,
    "jupyter": {
     "outputs_hidden": true
    }
   },
   "outputs": [],
   "source": []
  },
  {
   "cell_type": "code",
   "execution_count": 341,
   "metadata": {
    "collapsed": false,
    "jupyter": {
     "outputs_hidden": false
    }
   },
   "outputs": [
    {
     "name": "stdout",
     "output_type": "stream",
     "text": [
      " "
     ]
    }
   ],
   "source": [
    "%prun -s cumtime for i in range(1000): geach_s(saw)"
   ]
  },
  {
   "cell_type": "code",
   "execution_count": 15,
   "metadata": {
    "collapsed": false,
    "jupyter": {
     "outputs_hidden": false
    }
   },
   "outputs": [
    {
     "name": "stdout",
     "output_type": "stream",
     "text": [
      "CPU times: user 322 µs, sys: 1 µs, total: 323 µs\n",
      "Wall time: 329 µs\n"
     ]
    },
    {
     "data": {
      "text/latex": [
       "$[\\lambda{} g_{\\langle{}e,\\langle{}e,t\\rangle{}\\rangle{}} \\: . \\: \\lambda{} f_{\\langle{}e,e\\rangle{}} \\: . \\: \\lambda{} x_{e} \\: . \\: {g}_{\\langle{}e,\\langle{}e,t\\rangle{}\\rangle{}}({f}_{\\langle{}e,e\\rangle{}}({x}_{e}))](\\lambda{} x_{e} \\: . \\: \\lambda{} y_{e} \\: . \\: {Saw}({y}_{e}, {x}_{e}))$"
      ],
      "text/plain": [
       "((λ g_<e,<e,t>>: (λ f_<e,e>: (λ x_e: g_<e,<e,t>>(f_<e,e>(x_e))))))((λ x_e: (λ y_e: Saw_<(e,e),t>(y_e, x_e))))"
      ]
     },
     "execution_count": 15,
     "metadata": {},
     "output_type": "execute_result"
    }
   ],
   "source": [
    "%time geach_s(saw)"
   ]
  },
  {
   "cell_type": "code",
   "execution_count": 16,
   "metadata": {
    "collapsed": false,
    "jupyter": {
     "outputs_hidden": false
    }
   },
   "outputs": [
    {
     "name": "stdout",
     "output_type": "stream",
     "text": [
      "CPU times: user 6.43 ms, sys: 63 µs, total: 6.49 ms\n",
      "Wall time: 6.45 ms\n"
     ]
    },
    {
     "data": {
      "text/latex": [
       "$\\lambda{} g_{\\langle{}e,\\langle{}e,t\\rangle{}\\rangle{}} \\: . \\: \\lambda{} f_{\\langle{}X,e\\rangle{}} \\: . \\: \\lambda{} x_{X} \\: . \\: {g}_{\\langle{}e,\\langle{}e,t\\rangle{}\\rangle{}}({f}_{\\langle{}X,e\\rangle{}}({x}_{X}))$"
      ],
      "text/plain": [
       "(λ g_<e,<e,t>>: (λ f_<X,e>: (λ x_X: g_<e,<e,t>>(f_<X,e>(x_X)))))"
      ]
     },
     "execution_count": 16,
     "metadata": {},
     "output_type": "execute_result"
    }
   ],
   "source": [
    "%time te(\"(λ g_<e,<e,t>>: (λ f_<X,Y>: (λ x_X: g_<Y,Z>(f_<X,Y>(x_X)))))\")"
   ]
  },
  {
   "cell_type": "code",
   "execution_count": 192,
   "metadata": {
    "collapsed": true,
    "jupyter": {
     "outputs_hidden": true
    }
   },
   "outputs": [],
   "source": [
    "reload_lamb()"
   ]
  },
  {
   "cell_type": "code",
   "execution_count": null,
   "metadata": {
    "collapsed": true,
    "jupyter": {
     "outputs_hidden": true
    }
   },
   "outputs": [],
   "source": []
  }
 ],
 "metadata": {
  "kernelspec": {
   "display_name": "Lambda Notebook (Python 3)",
   "language": "python",
   "name": "lambda-notebook"
  },
  "language_info": {
   "codemirror_mode": {
    "name": "ipython",
    "version": 3
   },
   "file_extension": ".py",
   "mimetype": "text/x-python",
   "name": "python",
   "nbconvert_exporter": "python",
   "pygments_lexer": "ipython3",
   "version": "3.12.8"
  }
 },
 "nbformat": 4,
 "nbformat_minor": 4
}
