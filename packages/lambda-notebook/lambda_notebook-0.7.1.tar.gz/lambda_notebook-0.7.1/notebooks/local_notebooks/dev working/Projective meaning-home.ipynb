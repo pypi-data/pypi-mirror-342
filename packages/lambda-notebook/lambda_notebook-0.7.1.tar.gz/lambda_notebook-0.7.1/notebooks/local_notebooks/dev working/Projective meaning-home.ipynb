{
 "cells": [
  {
   "cell_type": "code",
   "execution_count": 2,
   "metadata": {
    "collapsed": false
   },
   "outputs": [],
   "source": [
    "reload_lamb()"
   ]
  },
  {
   "cell_type": "markdown",
   "metadata": {},
   "source": [
    "Let us take a $n$-projective meaning to be an n-tuple, where for $n>1$, the value is of type $t$ (or the intension thereof).  Normal composition operations apply to the $n=1$ case, and conjunction is used to (monotonically) add extra meaning layers together as needed.  \n",
    "\n",
    "Nothing so far specifies any interpretation of any of these layers, and a specific projective meaning system will provide this."
   ]
  },
  {
   "cell_type": "code",
   "execution_count": 67,
   "metadata": {
    "collapsed": false
   },
   "outputs": [
    {
     "name": "stderr",
     "output_type": "stream",
     "text": [
      "INFO (meta): Coerced guessed type t for 'Doctor_t' into <e,t>, to match argument 'x_e'\n",
      "INFO (meta): Coerced guessed type t for 'Human_t' into <e,t>, to match argument 'x_e'\n",
      "INFO (meta): Coerced guessed type t for 'Tall_t' into <e,t>, to match argument 'x_e'\n"
     ]
    },
    {
     "data": {
      "text/latex": [
       "$||\\mathbf{\\text{doctor}}||^{}_{\\langle{}e,(t, t)\\rangle{}} \\:=\\: \\lambda{} x_{e} \\: . \\: ({Doctor}({x}_{e}), {Human}({x}_{e}))$<br />\n",
       "$||\\mathbf{\\text{tall}}||^{}_{\\langle{}e,t\\rangle{}} \\:=\\: \\lambda{} x_{e} \\: . \\: {Tall}({x}_{e})$<br />\n",
       "$||\\mathbf{\\text{john1}}||^{}_{e} \\:=\\: {J}_{e}$"
      ],
      "text/plain": [
       "$||\\mathbf{\\text{doctor}}||^{}_{\\langle{}e,(t, t)\\rangle{}} \\:=\\: \\lambda{} x_{e} \\: . \\: ({Doctor}({x}_{e}), {Human}({x}_{e}))$<br />\n",
       "$||\\mathbf{\\text{tall}}||^{}_{\\langle{}e,t\\rangle{}} \\:=\\: \\lambda{} x_{e} \\: . \\: {Tall}({x}_{e})$<br />\n",
       "$||\\mathbf{\\text{john1}}||^{}_{e} \\:=\\: {J}_{e}$"
      ]
     },
     "execution_count": 67,
     "metadata": {},
     "output_type": "execute_result"
    }
   ],
   "source": [
    "%%lamb\n",
    "||doctor|| = L x_e : (Doctor(x), Human(x))\n",
    "||tall|| = L x_e : Tall(x)\n",
    "||john1|| = J_e"
   ]
  },
  {
   "cell_type": "code",
   "execution_count": 63,
   "metadata": {
    "collapsed": false
   },
   "outputs": [
    {
     "name": "stderr",
     "output_type": "stream",
     "text": [
      "INFO (meta): Coerced guessed type t for 'Salient_t' into <e,t>, to match argument 'J_e'\n"
     ]
    },
    {
     "data": {
      "text/latex": [
       "$||\\mathbf{\\text{john2}}||^{}_{(e, t)} \\:=\\: ({J}_{e}, {Salient}({J}_{e}))$"
      ],
      "text/plain": [
       "$||\\mathbf{\\text{john2}}||^{}_{(e, t)} \\:=\\: ({J}_{e}, {Salient}({J}_{e}))$"
      ]
     },
     "execution_count": 63,
     "metadata": {},
     "output_type": "execute_result"
    }
   ],
   "source": [
    "%%lamb\n",
    "||john2|| = (J_e, Salient(J_e))"
   ]
  },
  {
   "cell_type": "code",
   "execution_count": 59,
   "metadata": {
    "collapsed": false
   },
   "outputs": [
    {
     "data": {
      "text/latex": [
       "$\\lambda{} f_{\\langle{}e,(t, t)\\rangle{}} \\: . \\: \\lambda{} x_{(e, t)} \\: . \\: (({f}_{\\langle{}e,(t, t)\\rangle{}}(({x}_{(e, t)}[{0}_{n}]))[{0}_{n}]), (({f}_{\\langle{}e,(t, t)\\rangle{}}(({x}_{(e, t)}[{0}_{n}]))[{1}_{n}]) \\wedge{} ({x}_{(e, t)}[{1}_{n}])))$"
      ],
      "text/plain": [
       "(λ f_<e,(t,t)>: (λ x_(e,t): ((f_<e,(t,t)>((x_(e,t)[0_n]))[0_n]), ((f_<e,(t,t)>((x_(e,t)[0_n]))[1_n]) & (x_(e,t)[1_n])))))"
      ]
     },
     "execution_count": 59,
     "metadata": {},
     "output_type": "execute_result"
    }
   ],
   "source": [
    "comb = te(\"Lambda f_<e,(t,t)> : Lambda x_(e,t) : (f(x[0])[0], f(x[0])[1] & x[1])\")\n",
    "comb"
   ]
  },
  {
   "cell_type": "code",
   "execution_count": 64,
   "metadata": {
    "collapsed": false
   },
   "outputs": [
    {
     "data": {
      "text/latex": [
       "$({Doctor}({J}_{e}), ({Human}({J}_{e}) \\wedge{} {Salient}({J}_{e})))$"
      ],
      "text/plain": [
       "(Doctor_<e,t>(J_e), (Human_<e,t>(J_e) & Salient_<e,t>(J_e)))"
      ]
     },
     "execution_count": 64,
     "metadata": {},
     "output_type": "execute_result"
    }
   ],
   "source": [
    "comb(doctor.content)(john2.content).reduce_all()"
   ]
  },
  {
   "cell_type": "code",
   "execution_count": 65,
   "metadata": {
    "collapsed": false
   },
   "outputs": [
    {
     "data": {
      "text/latex": [
       "$\\lambda{} f_{\\langle{}e,(t, t)\\rangle{}} \\: . \\: \\lambda{} x_{e} \\: . \\: (({f}_{\\langle{}e,(t, t)\\rangle{}}({x}_{e})[{0}_{n}]), ({f}_{\\langle{}e,(t, t)\\rangle{}}({x}_{e})[{1}_{n}]))$"
      ],
      "text/plain": [
       "(λ f_<e,(t,t)>: (λ x_e: ((f_<e,(t,t)>(x_e)[0_n]), (f_<e,(t,t)>(x_e)[1_n]))))"
      ]
     },
     "execution_count": 65,
     "metadata": {},
     "output_type": "execute_result"
    }
   ],
   "source": [
    "comb2 = te(\"Lambda f_<e,(t,t)> : Lambda x_e : (f(x)[0], f(x)[1])\")\n",
    "comb2"
   ]
  },
  {
   "cell_type": "code",
   "execution_count": 66,
   "metadata": {
    "collapsed": false
   },
   "outputs": [
    {
     "data": {
      "text/latex": [
       "$({Doctor}({J}_{e}), {Human}({J}_{e}))$"
      ],
      "text/plain": [
       "(Doctor_<e,t>(J_e), Human_<e,t>(J_e))"
      ]
     },
     "execution_count": 66,
     "metadata": {},
     "output_type": "execute_result"
    }
   ],
   "source": [
    "comb2(doctor.content)(john1.content).reduce_all()"
   ]
  },
  {
   "cell_type": "code",
   "execution_count": 72,
   "metadata": {
    "collapsed": false
   },
   "outputs": [
    {
     "name": "stderr",
     "output_type": "stream",
     "text": [
      "WARNING (meta): Using non-constant index; not well-supported at present.\n"
     ]
    },
    {
     "data": {
      "text/latex": [
       "$({f}_{(e, e)}[{x}_{n}])$"
      ],
      "text/plain": [
       "(f_(e,e)[x_n])"
      ]
     },
     "execution_count": 72,
     "metadata": {},
     "output_type": "execute_result"
    }
   ],
   "source": [
    "te(\"f_(e,e)[x_n]\")"
   ]
  },
  {
   "cell_type": "code",
   "execution_count": 104,
   "metadata": {
    "collapsed": false
   },
   "outputs": [],
   "source": [
    "def typedfun(typ):\n",
    "    if isinstance(typ, str):\n",
    "        typ = meta.tp(typ)\n",
    "    if not typ.functional():\n",
    "        raise types.TypeMismatch(typ, None, \"Functional type needed for wrapped function\")\n",
    "    def dec(f):\n",
    "        def do_typecheck(*args):\n",
    "            ts = meta.get_type_system()\n",
    "            if len(args) == 1:\n",
    "                x = args[0]\n",
    "            else:\n",
    "                x = tuple(args)\n",
    "            x = meta.TypedExpr.ensure_typed_expr(x, typ.left)\n",
    "            result = f(x)\n",
    "            result = meta.TypedExpr.ensure_typed_expr(result, typ.right)\n",
    "            return result\n",
    "        return do_typecheck\n",
    "    return dec"
   ]
  },
  {
   "cell_type": "code",
   "execution_count": 109,
   "metadata": {
    "collapsed": false
   },
   "outputs": [],
   "source": [
    "@typedfun(\"<?,n>\")\n",
    "def test(e):\n",
    "    return e.reduce_all()"
   ]
  },
  {
   "cell_type": "code",
   "execution_count": 112,
   "metadata": {
    "collapsed": false
   },
   "outputs": [
    {
     "data": {
      "text/latex": [
       "${x}_{n}$"
      ],
      "text/plain": [
       "x_n"
      ]
     },
     "execution_count": 112,
     "metadata": {},
     "output_type": "execute_result"
    }
   ],
   "source": [
    "test(\"(x_n, y_e)[0]\")"
   ]
  },
  {
   "cell_type": "code",
   "execution_count": 101,
   "metadata": {
    "collapsed": false
   },
   "outputs": [],
   "source": []
  },
  {
   "cell_type": "code",
   "execution_count": null,
   "metadata": {
    "collapsed": false
   },
   "outputs": [],
   "source": []
  }
 ],
 "metadata": {
  "kernelspec": {
   "display_name": "Lambda Notebook (Python 3)",
   "language": "python",
   "name": "lambda-notebook"
  },
  "language_info": {
   "codemirror_mode": {
    "name": "ipython",
    "version": 3
   },
   "file_extension": ".py",
   "mimetype": "text/x-python",
   "name": "python",
   "nbconvert_exporter": "python",
   "pygments_lexer": "ipython3",
   "version": "3.6.4"
  }
 },
 "nbformat": 4,
 "nbformat_minor": 2
}
