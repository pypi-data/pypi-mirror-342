{
 "cells": [
  {
   "cell_type": "code",
   "execution_count": 73,
   "id": "bea73906-10fe-4a7f-91ba-8aa25fe9565e",
   "metadata": {},
   "outputs": [],
   "source": [
    "reload_lamb()"
   ]
  },
  {
   "cell_type": "code",
   "execution_count": 74,
   "id": "14030a61-1040-4d0b-ba29-67aa2dc963e4",
   "metadata": {},
   "outputs": [
    {
     "data": {
      "text/html": [
       "<div align=\"left\" style=\"display:table;\"><div style=\"display:table-cell;vertical-align:top;padding-left:5px;padding-right:5px;padding-top:0.2em\"><div style=\"display:table;\"><div style=\"display:table-row;vertical-align:top;\"><div align=\"left\" style=\"display:table;border-collapse:collapse;\"><div style=\"display:table-row;border-bottom:1px solid #848482;\"><div style=\"display:table-cell;padding:0.2em 5px 0.2em 0px;vertical-align:top;\"></div><div style=\"display:table-cell;vertical-align:top;border-right:1px solid #848482;padding-right:5px;;padding-top:0.2em\"><div style=\"display:inline-block;\"><span>$\\left|\\begin{array}{l}{p}_{t} \\wedge{} \\left|\\begin{array}{l}{p}_{t}\\\\{q}_{t}\\end{array}\\right|\\\\{q}_{t}\\end{array}\\right|$</span></div></div><div style=\"display:table-cell;vertical-align:top;padding-left:5px;padding-right:5px;padding-top:0.2em\"><div style=\"display:table;\"><div style=\"display:table-row;\"><div style=\"white-space:nowrap; color:blue;\"><span>Partiality calculation (recursion on condition)</span></div></div><div style=\"display:table-row;vertical-align:top;\"><div align=\"left\" style=\"display:table;border-collapse:collapse;\"><div style=\"display:table-row;border-bottom:1px solid #848482;\"><div style=\"display:table-cell;padding:0.2em 5px 0.2em 0px;vertical-align:top;\"></div><div style=\"display:table-cell;vertical-align:top;border-right:1px solid #848482;padding-right:5px;;padding-top:0.2em\"><div style=\"display:inline-block;\"><span>${q}_{t}$</span></div></div><div style=\"display:table-cell;vertical-align:top;padding-left:5px;padding-right:5px;padding-top:0.2em\"><div style=\"display:table;\"><div style=\"display:table-row;\"><div style=\"white-space:nowrap; color:blue;\"><span>Partiality (merge conditions from body)</span></div></div></div></div></div><div style=\"display:table-row;\"><div style=\"display:table-cell;padding:0.2em 5px 0.2em 0px;vertical-align:top;\"> 1. </div><div style=\"display:table-cell;vertical-align:top;border-right:1px solid #848482;padding-right:5px;;padding-top:0.2em\"><div style=\"display:inline-block;\"><span>${q}_{t} \\wedge{} {q}_{t}$</span></div></div></div></div></div></div></div></div><div style=\"display:table-row;border-bottom:1px solid #848482;\"><div style=\"display:table-cell;padding:0.2em 5px 0.2em 0px;vertical-align:top;\"> 1. </div><div style=\"display:table-cell;vertical-align:top;border-right:1px solid #848482;padding-right:5px;;padding-top:0.2em\"><div style=\"display:inline-block;\"><span>$\\left|\\begin{array}{l}{p}_{t} \\wedge{} \\left|\\begin{array}{l}{p}_{t}\\\\{q}_{t}\\end{array}\\right|\\\\{q}_{t} \\wedge{} {q}_{t}\\end{array}\\right|$</span></div></div><div style=\"display:table-cell;vertical-align:top;padding-left:5px;padding-right:5px;padding-top:0.2em\"><div style=\"display:table;\"><div style=\"display:table-row;\"><div style=\"white-space:nowrap; color:blue;\"><span>Partiality calculation (recursion on partiality body)</span></div></div><div style=\"display:table-row;vertical-align:top;\"><div align=\"left\" style=\"display:table;border-collapse:collapse;\"><div style=\"display:table-row;border-bottom:1px solid #848482;\"><div style=\"display:table-cell;padding:0.2em 5px 0.2em 0px;vertical-align:top;\"></div><div style=\"display:table-cell;vertical-align:top;border-right:1px solid #848482;padding-right:5px;;padding-top:0.2em\"><div style=\"display:inline-block;\"><span>${p}_{t} \\wedge{} \\left|\\begin{array}{l}{p}_{t}\\\\{q}_{t}\\end{array}\\right|$</span></div></div><div style=\"display:table-cell;vertical-align:top;padding-left:5px;padding-right:5px;padding-top:0.2em\"><div style=\"display:table;\"><div style=\"display:table-row;\"><div style=\"white-space:nowrap; color:blue;\"><span>Partiality calculation (recursion on operand 1)</span></div></div><div style=\"display:table-row;vertical-align:top;\"><div align=\"left\" style=\"display:table;border-collapse:collapse;\"><div style=\"display:table-row;border-bottom:1px solid #848482;\"><div style=\"display:table-cell;padding:0.2em 5px 0.2em 0px;vertical-align:top;\"></div><div style=\"display:table-cell;vertical-align:top;border-right:1px solid #848482;padding-right:5px;;padding-top:0.2em\"><div style=\"display:inline-block;\"><span>$\\left|\\begin{array}{l}{p}_{t}\\\\{q}_{t}\\end{array}\\right|$</span></div></div><div style=\"display:table-cell;vertical-align:top;padding-left:5px;padding-right:5px;padding-top:0.2em\"><div style=\"display:table;\"><div style=\"display:table-row;\"><div style=\"white-space:nowrap; color:blue;\"><span>Partiality (remove conditions from body)</span></div></div></div></div></div><div style=\"display:table-row;\"><div style=\"display:table-cell;padding:0.2em 5px 0.2em 0px;vertical-align:top;\"> 1. </div><div style=\"display:table-cell;vertical-align:top;border-right:1px solid #848482;padding-right:5px;;padding-top:0.2em\"><div style=\"display:inline-block;\"><span>${p}_{t}$</span></div></div></div></div></div></div></div></div><div style=\"display:table-row;border-bottom:1px solid #848482;\"><div style=\"display:table-cell;padding:0.2em 5px 0.2em 0px;vertical-align:top;\"> 1. </div><div style=\"display:table-cell;vertical-align:top;border-right:1px solid #848482;padding-right:5px;;padding-top:0.2em\"><div style=\"display:inline-block;\"><span>${p}_{t} \\wedge{} {p}_{t}$</span></div></div><div style=\"display:table-cell;vertical-align:top;padding-left:5px;padding-right:5px;padding-top:0.2em\"><div style=\"display:table;\"><div style=\"display:table-row;\"><div style=\"white-space:nowrap; color:blue;\"><span>Partiality (merge conditions from body)</span></div></div></div></div></div><div style=\"display:table-row;border-bottom:1px solid #848482;\"><div style=\"display:table-cell;padding:0.2em 5px 0.2em 0px;vertical-align:top;\"> 2. </div><div style=\"display:table-cell;vertical-align:top;border-right:1px solid #848482;padding-right:5px;;padding-top:0.2em\"><div style=\"display:inline-block;\"><span>$\\left|\\begin{array}{l}{p}_{t} \\wedge{} {p}_{t}\\\\{q}_{t}\\end{array}\\right|$</span></div></div><div style=\"display:table-cell;vertical-align:top;padding-left:5px;padding-right:5px;padding-top:0.2em\"><div style=\"display:table;\"><div style=\"display:table-row;\"><div style=\"white-space:nowrap; color:blue;\"><span>Recursive simplification of partiality body</span></div></div><div style=\"display:table-row;vertical-align:top;\"><div align=\"left\" style=\"display:table;border-collapse:collapse;\"><div style=\"display:table-row;border-bottom:1px solid #848482;\"><div style=\"display:table-cell;padding:0.2em 5px 0.2em 0px;vertical-align:top;\"></div><div style=\"display:table-cell;vertical-align:top;border-right:1px solid #848482;padding-right:5px;;padding-top:0.2em\"><div style=\"display:inline-block;\"><span>${p}_{t} \\wedge{} \\left|\\begin{array}{l}{p}_{t}\\\\{q}_{t}\\end{array}\\right|$</span></div></div><div style=\"display:table-cell;vertical-align:top;padding-left:5px;padding-right:5px;padding-top:0.2em\"><div style=\"display:table;\"><div style=\"display:table-row;\"><div style=\"white-space:nowrap; color:blue;\"><span>Partiality calculation (recursion on operand 1)</span></div></div><div style=\"display:table-row;vertical-align:top;\"><div align=\"left\" style=\"display:table;border-collapse:collapse;\"><div style=\"display:table-row;border-bottom:1px solid #848482;\"><div style=\"display:table-cell;padding:0.2em 5px 0.2em 0px;vertical-align:top;\"></div><div style=\"display:table-cell;vertical-align:top;border-right:1px solid #848482;padding-right:5px;;padding-top:0.2em\"><div style=\"display:inline-block;\"><span>$\\left|\\begin{array}{l}{p}_{t}\\\\{q}_{t}\\end{array}\\right|$</span></div></div><div style=\"display:table-cell;vertical-align:top;padding-left:5px;padding-right:5px;padding-top:0.2em\"><div style=\"display:table;\"><div style=\"display:table-row;\"><div style=\"white-space:nowrap; color:blue;\"><span>Partiality (remove conditions from body)</span></div></div></div></div></div><div style=\"display:table-row;\"><div style=\"display:table-cell;padding:0.2em 5px 0.2em 0px;vertical-align:top;\"> 1. </div><div style=\"display:table-cell;vertical-align:top;border-right:1px solid #848482;padding-right:5px;;padding-top:0.2em\"><div style=\"display:inline-block;\"><span>${p}_{t}$</span></div></div></div></div></div></div></div></div><div style=\"display:table-row;border-bottom:1px solid #848482;\"><div style=\"display:table-cell;padding:0.2em 5px 0.2em 0px;vertical-align:top;\"> 1. </div><div style=\"display:table-cell;vertical-align:top;border-right:1px solid #848482;padding-right:5px;;padding-top:0.2em\"><div style=\"display:inline-block;\"><span>${p}_{t} \\wedge{} {p}_{t}$</span></div></div><div style=\"display:table-cell;vertical-align:top;padding-left:5px;padding-right:5px;padding-top:0.2em\"><div style=\"display:table;\"><div style=\"display:table-row;\"><div style=\"white-space:nowrap; color:blue;\"><span>conjunction (idempotence)</span></div></div></div></div></div><div style=\"display:table-row;\"><div style=\"display:table-cell;padding:0.2em 5px 0.2em 0px;vertical-align:top;\"> 2. </div><div style=\"display:table-cell;vertical-align:top;border-right:1px solid #848482;padding-right:5px;;padding-top:0.2em\"><div style=\"display:inline-block;\"><span>${p}_{t}$</span></div></div></div></div></div></div></div></div><div style=\"display:table-row;border-bottom:1px solid #848482;\"><div style=\"display:table-cell;padding:0.2em 5px 0.2em 0px;vertical-align:top;\"> 3. </div><div style=\"display:table-cell;vertical-align:top;border-right:1px solid #848482;padding-right:5px;;padding-top:0.2em\"><div style=\"display:inline-block;\"><span>$\\left|\\begin{array}{l}{p}_{t}\\\\{q}_{t}\\end{array}\\right|$</span></div></div><div style=\"display:table-cell;vertical-align:top;padding-left:5px;padding-right:5px;padding-top:0.2em\"><div style=\"display:table;\"><div style=\"display:table-row;\"><div style=\"white-space:nowrap; color:blue;\"><span>Partiality (remove conditions from body)</span></div></div></div></div></div><div style=\"display:table-row;\"><div style=\"display:table-cell;padding:0.2em 5px 0.2em 0px;vertical-align:top;\"> 4. </div><div style=\"display:table-cell;vertical-align:top;border-right:1px solid #848482;padding-right:5px;;padding-top:0.2em\"><div style=\"display:inline-block;\"><span>${p}_{t}$</span></div></div></div></div></div></div></div></div><div style=\"display:table-row;border-bottom:1px solid #848482;\"><div style=\"display:table-cell;padding:0.2em 5px 0.2em 0px;vertical-align:top;\"> 2. </div><div style=\"display:table-cell;vertical-align:top;border-right:1px solid #848482;padding-right:5px;;padding-top:0.2em\"><div style=\"display:inline-block;\"><span>$\\left|\\begin{array}{l}{p}_{t}\\\\{q}_{t} \\wedge{} {q}_{t}\\end{array}\\right|$</span></div></div><div style=\"display:table-cell;vertical-align:top;padding-left:5px;padding-right:5px;padding-top:0.2em\"><div style=\"display:table;\"><div style=\"display:table-row;\"><div style=\"white-space:nowrap; color:blue;\"><span>Recursive simplification of condition</span></div></div><div style=\"display:table-row;vertical-align:top;\"><div align=\"left\" style=\"display:table;border-collapse:collapse;\"><div style=\"display:table-row;border-bottom:1px solid #848482;\"><div style=\"display:table-cell;padding:0.2em 5px 0.2em 0px;vertical-align:top;\"></div><div style=\"display:table-cell;vertical-align:top;border-right:1px solid #848482;padding-right:5px;;padding-top:0.2em\"><div style=\"display:inline-block;\"><span>${q}_{t} \\wedge{} {q}_{t}$</span></div></div><div style=\"display:table-cell;vertical-align:top;padding-left:5px;padding-right:5px;padding-top:0.2em\"><div style=\"display:table;\"><div style=\"display:table-row;\"><div style=\"white-space:nowrap; color:blue;\"><span>conjunction (idempotence)</span></div></div></div></div></div><div style=\"display:table-row;\"><div style=\"display:table-cell;padding:0.2em 5px 0.2em 0px;vertical-align:top;\"> 1. </div><div style=\"display:table-cell;vertical-align:top;border-right:1px solid #848482;padding-right:5px;;padding-top:0.2em\"><div style=\"display:inline-block;\"><span>${q}_{t}$</span></div></div></div></div></div></div></div></div><div style=\"display:table-row;\"><div style=\"display:table-cell;padding:0.2em 5px 0.2em 0px;vertical-align:top;\"> 3. </div><div style=\"display:table-cell;vertical-align:top;border-right:1px solid #848482;padding-right:5px;;padding-top:0.2em\"><div style=\"display:inline-block;\"><span>$\\left|\\begin{array}{l}{p}_{t}\\\\{q}_{t}\\end{array}\\right|$</span></div></div></div></div></div></div></div></div>"
      ],
      "text/plain": [
       "DisplayNode instance: HTML rendering only"
      ]
     },
     "execution_count": 74,
     "metadata": {},
     "output_type": "execute_result"
    }
   ],
   "source": [
    "x = %te Partial(p_t & Partial(p_t, q_t), q_t)\n",
    "x.calculate_partiality().derivation.trace(all_recursion=True)"
   ]
  },
  {
   "cell_type": "code",
   "execution_count": 75,
   "id": "521f2b49-21ba-445e-8007-98e5c0246a35",
   "metadata": {},
   "outputs": [
    {
     "data": {
      "text/html": [
       "<div align=\"left\" style=\"display:table;\"><div style=\"display:table-cell;vertical-align:top;padding-left:5px;padding-right:5px;padding-top:0.2em\"><div style=\"display:table;\"><div style=\"display:table-row;vertical-align:top;\"><div align=\"left\" style=\"display:table;border-collapse:collapse;\"><div style=\"display:table-row;border-bottom:1px solid #848482;\"><div style=\"display:table-cell;padding:0.2em 5px 0.2em 0px;vertical-align:top;\"></div><div style=\"display:table-cell;vertical-align:top;border-right:1px solid #848482;padding-right:5px;;padding-top:0.2em\"><div style=\"display:inline-block;\"><span>${p}_{t} \\wedge{} \\left|\\begin{array}{l}{p}_{t}\\\\{q}_{t}\\end{array}\\right|$</span></div></div><div style=\"display:table-cell;vertical-align:top;padding-left:5px;padding-right:5px;padding-top:0.2em\"><div style=\"display:table;\"><div style=\"display:table-row;\"><div style=\"white-space:nowrap; color:blue;\"><span>[Partiality (remove conditions from body)]</span></div></div></div></div></div><div style=\"display:table-row;border-bottom:1px solid #848482;\"><div style=\"display:table-cell;padding:0.2em 5px 0.2em 0px;vertical-align:top;\"> 1. </div><div style=\"display:table-cell;vertical-align:top;border-right:1px solid #848482;padding-right:5px;;padding-top:0.2em\"><div style=\"display:inline-block;\"><span>${p}_{t} \\wedge{} {p}_{t}$</span></div></div><div style=\"display:table-cell;vertical-align:top;padding-left:5px;padding-right:5px;padding-top:0.2em\"><div style=\"display:table;\"><div style=\"display:table-row;\"><div style=\"white-space:nowrap; color:blue;\"><span>Partiality (merge conditions from body)</span></div></div></div></div></div><div style=\"display:table-row;border-bottom:1px solid #848482;\"><div style=\"display:table-cell;padding:0.2em 5px 0.2em 0px;vertical-align:top;\"> 2. </div><div style=\"display:table-cell;vertical-align:top;border-right:1px solid #848482;padding-right:5px;;padding-top:0.2em\"><div style=\"display:inline-block;\"><span>$\\left|\\begin{array}{l}{p}_{t} \\wedge{} {p}_{t}\\\\{q}_{t}\\end{array}\\right|$</span></div></div><div style=\"display:table-cell;vertical-align:top;padding-left:5px;padding-right:5px;padding-top:0.2em\"><div style=\"display:table;\"><div style=\"display:table-row;\"><div style=\"white-space:nowrap; color:blue;\"><span>Recursive simplification of partiality body</span></div></div></div></div></div><div style=\"display:table-row;\"><div style=\"display:table-cell;padding:0.2em 5px 0.2em 0px;vertical-align:top;\"> 3. </div><div style=\"display:table-cell;vertical-align:top;border-right:1px solid #848482;padding-right:5px;;padding-top:0.2em\"><div style=\"display:inline-block;\"><span>$\\left|\\begin{array}{l}{p}_{t}\\\\{q}_{t}\\end{array}\\right|$</span></div></div></div></div></div></div></div></div>"
      ],
      "text/plain": [
       " 1. (p_t & Partial(p_t, q_t))    ([Partiality (remove conditions from body)])\n",
       " 2. (p_t & p_t)    (Partiality (merge conditions from body))\n",
       " 3. Partial((p_t & p_t), q_t)    (Recursive simplification of partiality body)\n",
       " 4. Partial(p_t, q_t)"
      ]
     },
     "execution_count": 75,
     "metadata": {},
     "output_type": "execute_result"
    }
   ],
   "source": [
    "x[0].calculate_partiality().derivation"
   ]
  },
  {
   "cell_type": "code",
   "execution_count": null,
   "id": "42729ea4-f2e4-4da1-a019-6978e99971f7",
   "metadata": {},
   "outputs": [],
   "source": []
  },
  {
   "cell_type": "code",
   "execution_count": 76,
   "id": "da715011-aa38-4899-9f60-a5f3de1018b9",
   "metadata": {},
   "outputs": [
    {
     "data": {
      "text/latex": [
       "$\\left|\\begin{array}{l}{p}_{t}\\\\{q}_{t}\\end{array}\\right|$"
      ],
      "text/plain": [
       "Partial(p_t, q_t)"
      ]
     },
     "execution_count": 76,
     "metadata": {},
     "output_type": "execute_result"
    }
   ],
   "source": [
    "x.calculate_partiality()"
   ]
  },
  {
   "cell_type": "code",
   "execution_count": 77,
   "id": "82b9c00b-bf03-4c6d-b104-fa5dc52bf62c",
   "metadata": {},
   "outputs": [
    {
     "data": {
      "text/latex": [
       "$\\left|\\begin{array}{l}\\left|\\begin{array}{l}{p}_{t}\\\\{q}_{t}\\end{array}\\right|\\\\{q}_{t}\\end{array}\\right|$"
      ],
      "text/plain": [
       "Partial(Partial(p_t, q_t), q_t)"
      ]
     },
     "execution_count": 77,
     "metadata": {},
     "output_type": "execute_result"
    }
   ],
   "source": [
    "te(\"Partial(Partial(p_t, q_t), q_t)\")"
   ]
  },
  {
   "cell_type": "code",
   "execution_count": 78,
   "id": "8e34af2f-ba2c-40b9-adbe-96e2d7b2911f",
   "metadata": {},
   "outputs": [
    {
     "data": {
      "text/latex": [
       "$\\left|\\begin{array}{l}{p}_{t} \\wedge{} {r}_{t}\\\\{q}_{t}\\end{array}\\right|$"
      ],
      "text/plain": [
       "Partial((p_t & r_t), q_t)"
      ]
     },
     "execution_count": 78,
     "metadata": {},
     "output_type": "execute_result"
    }
   ],
   "source": [
    "te(\"Partial(p_t & Partial(r_t, q_t), q_t)\").calculate_partiality()"
   ]
  },
  {
   "cell_type": "code",
   "execution_count": 79,
   "id": "80ec8950-2962-40eb-842b-42588b6613b6",
   "metadata": {},
   "outputs": [
    {
     "data": {
      "text/html": [
       "<div align=\"left\" style=\"display:table;\"><div style=\"display:table-cell;vertical-align:top;padding-left:5px;padding-right:5px;padding-top:0.2em\"><div style=\"display:table;\"><div style=\"display:table-row;vertical-align:top;\"><div align=\"left\" style=\"display:table;border-collapse:collapse;\"><div style=\"display:table-row;border-bottom:1px solid #848482;\"><div style=\"display:table-cell;padding:0.2em 5px 0.2em 0px;vertical-align:top;\"></div><div style=\"display:table-cell;vertical-align:top;border-right:1px solid #848482;padding-right:5px;;padding-top:0.2em\"><div style=\"display:inline-block;\"><span>$\\left|\\begin{array}{l}{p}_{t} \\wedge{} \\left|\\begin{array}{l}{r}_{t}\\\\{q}_{t}\\end{array}\\right|\\\\{s}_{t}\\end{array}\\right|$</span></div></div><div style=\"display:table-cell;vertical-align:top;padding-left:5px;padding-right:5px;padding-top:0.2em\"><div style=\"display:table;\"><div style=\"display:table-row;\"><div style=\"white-space:nowrap; color:blue;\"><span>[Partiality (merge conditions from body)]</span></div></div></div></div></div><div style=\"display:table-row;border-bottom:1px solid #848482;\"><div style=\"display:table-cell;padding:0.2em 5px 0.2em 0px;vertical-align:top;\"> 1. </div><div style=\"display:table-cell;vertical-align:top;border-right:1px solid #848482;padding-right:5px;;padding-top:0.2em\"><div style=\"display:inline-block;\"><span>$\\left|\\begin{array}{l}{p}_{t} \\wedge{} \\left|\\begin{array}{l}{r}_{t}\\\\{q}_{t}\\end{array}\\right|\\\\{s}_{t} \\wedge{} {q}_{t}\\end{array}\\right|$</span></div></div><div style=\"display:table-cell;vertical-align:top;padding-left:5px;padding-right:5px;padding-top:0.2em\"><div style=\"display:table;\"><div style=\"display:table-row;\"><div style=\"white-space:nowrap; color:blue;\"><span>Partiality calculation (recursion on partiality body)</span></div></div></div></div></div><div style=\"display:table-row;border-bottom:1px solid #848482;\"><div style=\"display:table-cell;padding:0.2em 5px 0.2em 0px;vertical-align:top;\"> 2. </div><div style=\"display:table-cell;vertical-align:top;border-right:1px solid #848482;padding-right:5px;;padding-top:0.2em\"><div style=\"display:inline-block;\"><span>$\\left|\\begin{array}{l}{p}_{t} \\wedge{} {r}_{t}\\\\{s}_{t} \\wedge{} {q}_{t}\\end{array}\\right|$</span></div></div><div style=\"display:table-cell;vertical-align:top;padding-left:5px;padding-right:5px;padding-top:0.2em\"><div style=\"display:table;\"><div style=\"display:table-row;\"><div style=\"white-space:nowrap; color:blue;\"><span>[alphabetic normalization]</span></div></div></div></div></div><div style=\"display:table-row;\"><div style=\"display:table-cell;padding:0.2em 5px 0.2em 0px;vertical-align:top;\"> 3. </div><div style=\"display:table-cell;vertical-align:top;border-right:1px solid #848482;padding-right:5px;;padding-top:0.2em\"><div style=\"display:inline-block;\"><span>$\\left|\\begin{array}{l}{p}_{t} \\wedge{} {r}_{t}\\\\{q}_{t} \\wedge{} {s}_{t}\\end{array}\\right|$</span></div></div></div></div></div></div></div></div>"
      ],
      "text/plain": [
       " 1. Partial((p_t & Partial(r_t, q_t)), s_t)    ([Partiality (merge conditions from body)])\n",
       " 2. Partial((p_t & Partial(r_t, q_t)), (s_t & q_t))    (Partiality calculation (recursion on partiality body))\n",
       " 3. Partial((p_t & r_t), (s_t & q_t))    ([alphabetic normalization])\n",
       " 4. Partial((p_t & r_t), (q_t & s_t))"
      ]
     },
     "execution_count": 79,
     "metadata": {},
     "output_type": "execute_result"
    }
   ],
   "source": [
    "reload_lamb()\n",
    "te(\"Partial(p_t & Partial(r_t, q_t), s_t)\").calculate_partiality().derivation"
   ]
  },
  {
   "cell_type": "code",
   "execution_count": 88,
   "id": "07ed8df7-a123-49c5-bd31-567f0230cd38",
   "metadata": {},
   "outputs": [
    {
     "data": {
      "text/html": [
       "<div align=\"left\" style=\"display:table;\"><div style=\"display:table-cell;vertical-align:top;padding-left:5px;padding-right:5px;padding-top:0.2em\"><div style=\"display:table;\"><div style=\"display:table-row;vertical-align:top;\"><div align=\"left\" style=\"display:table;border-collapse:collapse;\"><div style=\"display:table-row;border-bottom:1px solid #848482;\"><div style=\"display:table-cell;padding:0.2em 5px 0.2em 0px;vertical-align:top;\"></div><div style=\"display:table-cell;vertical-align:top;border-right:1px solid #848482;padding-right:5px;;padding-top:0.2em\"><div style=\"display:inline-block;\"><span>$\\textsf{Body}(\\left|\\begin{array}{l}{p}_{t} \\wedge{} \\left|\\begin{array}{l}{r}_{t}\\\\{q}_{t}\\end{array}\\right|\\\\{s}_{t}\\end{array}\\right|)$</span></div></div><div style=\"display:table-cell;vertical-align:top;padding-left:5px;padding-right:5px;padding-top:0.2em\"><div style=\"display:table;\"><div style=\"display:table-row;\"><div style=\"white-space:nowrap; color:blue;\"><span>Partiality calculation (recursion on Body)</span></div></div><div style=\"display:table-row;vertical-align:top;\"><div align=\"left\" style=\"display:table;border-collapse:collapse;\"><div style=\"display:table-row;border-bottom:1px solid #848482;\"><div style=\"display:table-cell;padding:0.2em 5px 0.2em 0px;vertical-align:top;\"></div><div style=\"display:table-cell;vertical-align:top;border-right:1px solid #848482;padding-right:5px;;padding-top:0.2em\"><div style=\"display:inline-block;\"><span>$\\left|\\begin{array}{l}{p}_{t} \\wedge{} \\left|\\begin{array}{l}{r}_{t}\\\\{q}_{t}\\end{array}\\right|\\\\{s}_{t}\\end{array}\\right|$</span></div></div><div style=\"display:table-cell;vertical-align:top;padding-left:5px;padding-right:5px;padding-top:0.2em\"><div style=\"display:table;\"><div style=\"display:table-row;\"><div style=\"white-space:nowrap; color:blue;\"><span>[Partiality (merge conditions from body)]</span></div></div></div></div></div><div style=\"display:table-row;border-bottom:1px solid #848482;\"><div style=\"display:table-cell;padding:0.2em 5px 0.2em 0px;vertical-align:top;\"> 1. </div><div style=\"display:table-cell;vertical-align:top;border-right:1px solid #848482;padding-right:5px;;padding-top:0.2em\"><div style=\"display:inline-block;\"><span>$\\left|\\begin{array}{l}{p}_{t} \\wedge{} \\left|\\begin{array}{l}{r}_{t}\\\\{q}_{t}\\end{array}\\right|\\\\{s}_{t} \\wedge{} {q}_{t}\\end{array}\\right|$</span></div></div><div style=\"display:table-cell;vertical-align:top;padding-left:5px;padding-right:5px;padding-top:0.2em\"><div style=\"display:table;\"><div style=\"display:table-row;\"><div style=\"white-space:nowrap; color:blue;\"><span>Partiality calculation (recursion on partiality body)</span></div></div><div style=\"display:table-row;vertical-align:top;\"><div align=\"left\" style=\"display:table;border-collapse:collapse;\"><div style=\"display:table-row;border-bottom:1px solid #848482;\"><div style=\"display:table-cell;padding:0.2em 5px 0.2em 0px;vertical-align:top;\"></div><div style=\"display:table-cell;vertical-align:top;border-right:1px solid #848482;padding-right:5px;;padding-top:0.2em\"><div style=\"display:inline-block;\"><span>${p}_{t} \\wedge{} \\left|\\begin{array}{l}{r}_{t}\\\\{q}_{t}\\end{array}\\right|$</span></div></div><div style=\"display:table-cell;vertical-align:top;padding-left:5px;padding-right:5px;padding-top:0.2em\"><div style=\"display:table;\"><div style=\"display:table-row;\"><div style=\"white-space:nowrap; color:blue;\"><span>[Partiality (remove conditions from body)]</span></div></div></div></div></div><div style=\"display:table-row;border-bottom:1px solid #848482;\"><div style=\"display:table-cell;padding:0.2em 5px 0.2em 0px;vertical-align:top;\"> 1. </div><div style=\"display:table-cell;vertical-align:top;border-right:1px solid #848482;padding-right:5px;;padding-top:0.2em\"><div style=\"display:inline-block;\"><span>${p}_{t} \\wedge{} {r}_{t}$</span></div></div><div style=\"display:table-cell;vertical-align:top;padding-left:5px;padding-right:5px;padding-top:0.2em\"><div style=\"display:table;\"><div style=\"display:table-row;\"><div style=\"white-space:nowrap; color:blue;\"><span>Partiality (merge conditions from body)</span></div></div></div></div></div><div style=\"display:table-row;border-bottom:1px solid #848482;\"><div style=\"display:table-cell;padding:0.2em 5px 0.2em 0px;vertical-align:top;\"> 2. </div><div style=\"display:table-cell;vertical-align:top;border-right:1px solid #848482;padding-right:5px;;padding-top:0.2em\"><div style=\"display:inline-block;\"><span>$\\left|\\begin{array}{l}{p}_{t} \\wedge{} {r}_{t}\\\\{q}_{t}\\end{array}\\right|$</span></div></div><div style=\"display:table-cell;vertical-align:top;padding-left:5px;padding-right:5px;padding-top:0.2em\"><div style=\"display:table;\"><div style=\"display:table-row;\"><div style=\"white-space:nowrap; color:blue;\"><span>Partiality (remove conditions from body)</span></div></div></div></div></div><div style=\"display:table-row;\"><div style=\"display:table-cell;padding:0.2em 5px 0.2em 0px;vertical-align:top;\"> 3. </div><div style=\"display:table-cell;vertical-align:top;border-right:1px solid #848482;padding-right:5px;;padding-top:0.2em\"><div style=\"display:inline-block;\"><span>${p}_{t} \\wedge{} {r}_{t}$</span></div></div></div></div></div></div></div></div><div style=\"display:table-row;border-bottom:1px solid #848482;\"><div style=\"display:table-cell;padding:0.2em 5px 0.2em 0px;vertical-align:top;\"> 2. </div><div style=\"display:table-cell;vertical-align:top;border-right:1px solid #848482;padding-right:5px;;padding-top:0.2em\"><div style=\"display:inline-block;\"><span>$\\left|\\begin{array}{l}{p}_{t} \\wedge{} {r}_{t}\\\\{s}_{t} \\wedge{} {q}_{t}\\end{array}\\right|$</span></div></div><div style=\"display:table-cell;vertical-align:top;padding-left:5px;padding-right:5px;padding-top:0.2em\"><div style=\"display:table;\"><div style=\"display:table-row;\"><div style=\"white-space:nowrap; color:blue;\"><span>[alphabetic normalization]</span></div></div></div></div></div><div style=\"display:table-row;\"><div style=\"display:table-cell;padding:0.2em 5px 0.2em 0px;vertical-align:top;\"> 3. </div><div style=\"display:table-cell;vertical-align:top;border-right:1px solid #848482;padding-right:5px;;padding-top:0.2em\"><div style=\"display:inline-block;\"><span>$\\left|\\begin{array}{l}{p}_{t} \\wedge{} {r}_{t}\\\\{q}_{t} \\wedge{} {s}_{t}\\end{array}\\right|$</span></div></div></div></div></div></div></div></div><div style=\"display:table-row;border-bottom:1px solid #848482;\"><div style=\"display:table-cell;padding:0.2em 5px 0.2em 0px;vertical-align:top;\"> 1. </div><div style=\"display:table-cell;vertical-align:top;border-right:1px solid #848482;padding-right:5px;;padding-top:0.2em\"><div style=\"display:inline-block;\"><span>$\\textsf{Body}(\\left|\\begin{array}{l}{p}_{t} \\wedge{} {r}_{t}\\\\{q}_{t} \\wedge{} {s}_{t}\\end{array}\\right|)$</span></div></div><div style=\"display:table-cell;vertical-align:top;padding-left:5px;padding-right:5px;padding-top:0.2em\"><div style=\"display:table;\"><div style=\"display:table-row;\"><div style=\"white-space:nowrap; color:blue;\"><span>Body extraction</span></div></div></div></div></div><div style=\"display:table-row;\"><div style=\"display:table-cell;padding:0.2em 5px 0.2em 0px;vertical-align:top;\"> 2. </div><div style=\"display:table-cell;vertical-align:top;border-right:1px solid #848482;padding-right:5px;;padding-top:0.2em\"><div style=\"display:inline-block;\"><span>${p}_{t} \\wedge{} {r}_{t}$</span></div></div></div></div></div></div></div></div>"
      ],
      "text/plain": [
       "DisplayNode instance: HTML rendering only"
      ]
     },
     "execution_count": 88,
     "metadata": {},
     "output_type": "execute_result"
    }
   ],
   "source": [
    "reload_lamb()\n",
    "te(\"Body(Partial(p_t & Partial(r_t, q_t), s_t))\").calculate_partiality().derivation.trace()"
   ]
  },
  {
   "cell_type": "code",
   "execution_count": 89,
   "id": "2fadf317-5a5e-4929-b08a-ca5f5035899d",
   "metadata": {},
   "outputs": [
    {
     "data": {
      "text/html": [
       "<div align=\"left\" style=\"display:table;\"><div style=\"display:table-cell;vertical-align:top;padding-left:5px;padding-right:5px;padding-top:0.2em\"><div style=\"display:table;\"><div style=\"display:table-row;vertical-align:top;\"><div align=\"left\" style=\"display:table;border-collapse:collapse;\"><div style=\"display:table-row;border-bottom:1px solid #848482;\"><div style=\"display:table-cell;padding:0.2em 5px 0.2em 0px;vertical-align:top;\"></div><div style=\"display:table-cell;vertical-align:top;border-right:1px solid #848482;padding-right:5px;;padding-top:0.2em\"><div style=\"display:inline-block;\"><span>$\\textsf{Condition}(\\left|\\begin{array}{l}{p}_{t} \\wedge{} \\left|\\begin{array}{l}{r}_{t}\\\\{q}_{t}\\end{array}\\right|\\\\{s}_{t}\\end{array}\\right|)$</span></div></div><div style=\"display:table-cell;vertical-align:top;padding-left:5px;padding-right:5px;padding-top:0.2em\"><div style=\"display:table;\"><div style=\"display:table-row;\"><div style=\"white-space:nowrap; color:blue;\"><span>Partiality calculation (recursion on Condition)</span></div></div><div style=\"display:table-row;vertical-align:top;\"><div align=\"left\" style=\"display:table;border-collapse:collapse;\"><div style=\"display:table-row;border-bottom:1px solid #848482;\"><div style=\"display:table-cell;padding:0.2em 5px 0.2em 0px;vertical-align:top;\"></div><div style=\"display:table-cell;vertical-align:top;border-right:1px solid #848482;padding-right:5px;;padding-top:0.2em\"><div style=\"display:inline-block;\"><span>$\\left|\\begin{array}{l}{p}_{t} \\wedge{} \\left|\\begin{array}{l}{r}_{t}\\\\{q}_{t}\\end{array}\\right|\\\\{s}_{t}\\end{array}\\right|$</span></div></div><div style=\"display:table-cell;vertical-align:top;padding-left:5px;padding-right:5px;padding-top:0.2em\"><div style=\"display:table;\"><div style=\"display:table-row;\"><div style=\"white-space:nowrap; color:blue;\"><span>[Partiality (merge conditions from body)]</span></div></div></div></div></div><div style=\"display:table-row;border-bottom:1px solid #848482;\"><div style=\"display:table-cell;padding:0.2em 5px 0.2em 0px;vertical-align:top;\"> 1. </div><div style=\"display:table-cell;vertical-align:top;border-right:1px solid #848482;padding-right:5px;;padding-top:0.2em\"><div style=\"display:inline-block;\"><span>$\\left|\\begin{array}{l}{p}_{t} \\wedge{} \\left|\\begin{array}{l}{r}_{t}\\\\{q}_{t}\\end{array}\\right|\\\\{s}_{t} \\wedge{} {q}_{t}\\end{array}\\right|$</span></div></div><div style=\"display:table-cell;vertical-align:top;padding-left:5px;padding-right:5px;padding-top:0.2em\"><div style=\"display:table;\"><div style=\"display:table-row;\"><div style=\"white-space:nowrap; color:blue;\"><span>Partiality calculation (recursion on partiality body)</span></div></div><div style=\"display:table-row;vertical-align:top;\"><div align=\"left\" style=\"display:table;border-collapse:collapse;\"><div style=\"display:table-row;border-bottom:1px solid #848482;\"><div style=\"display:table-cell;padding:0.2em 5px 0.2em 0px;vertical-align:top;\"></div><div style=\"display:table-cell;vertical-align:top;border-right:1px solid #848482;padding-right:5px;;padding-top:0.2em\"><div style=\"display:inline-block;\"><span>${p}_{t} \\wedge{} \\left|\\begin{array}{l}{r}_{t}\\\\{q}_{t}\\end{array}\\right|$</span></div></div><div style=\"display:table-cell;vertical-align:top;padding-left:5px;padding-right:5px;padding-top:0.2em\"><div style=\"display:table;\"><div style=\"display:table-row;\"><div style=\"white-space:nowrap; color:blue;\"><span>[Partiality (remove conditions from body)]</span></div></div></div></div></div><div style=\"display:table-row;border-bottom:1px solid #848482;\"><div style=\"display:table-cell;padding:0.2em 5px 0.2em 0px;vertical-align:top;\"> 1. </div><div style=\"display:table-cell;vertical-align:top;border-right:1px solid #848482;padding-right:5px;;padding-top:0.2em\"><div style=\"display:inline-block;\"><span>${p}_{t} \\wedge{} {r}_{t}$</span></div></div><div style=\"display:table-cell;vertical-align:top;padding-left:5px;padding-right:5px;padding-top:0.2em\"><div style=\"display:table;\"><div style=\"display:table-row;\"><div style=\"white-space:nowrap; color:blue;\"><span>Partiality (merge conditions from body)</span></div></div></div></div></div><div style=\"display:table-row;border-bottom:1px solid #848482;\"><div style=\"display:table-cell;padding:0.2em 5px 0.2em 0px;vertical-align:top;\"> 2. </div><div style=\"display:table-cell;vertical-align:top;border-right:1px solid #848482;padding-right:5px;;padding-top:0.2em\"><div style=\"display:inline-block;\"><span>$\\left|\\begin{array}{l}{p}_{t} \\wedge{} {r}_{t}\\\\{q}_{t}\\end{array}\\right|$</span></div></div><div style=\"display:table-cell;vertical-align:top;padding-left:5px;padding-right:5px;padding-top:0.2em\"><div style=\"display:table;\"><div style=\"display:table-row;\"><div style=\"white-space:nowrap; color:blue;\"><span>Partiality (remove conditions from body)</span></div></div></div></div></div><div style=\"display:table-row;\"><div style=\"display:table-cell;padding:0.2em 5px 0.2em 0px;vertical-align:top;\"> 3. </div><div style=\"display:table-cell;vertical-align:top;border-right:1px solid #848482;padding-right:5px;;padding-top:0.2em\"><div style=\"display:inline-block;\"><span>${p}_{t} \\wedge{} {r}_{t}$</span></div></div></div></div></div></div></div></div><div style=\"display:table-row;border-bottom:1px solid #848482;\"><div style=\"display:table-cell;padding:0.2em 5px 0.2em 0px;vertical-align:top;\"> 2. </div><div style=\"display:table-cell;vertical-align:top;border-right:1px solid #848482;padding-right:5px;;padding-top:0.2em\"><div style=\"display:inline-block;\"><span>$\\left|\\begin{array}{l}{p}_{t} \\wedge{} {r}_{t}\\\\{s}_{t} \\wedge{} {q}_{t}\\end{array}\\right|$</span></div></div><div style=\"display:table-cell;vertical-align:top;padding-left:5px;padding-right:5px;padding-top:0.2em\"><div style=\"display:table;\"><div style=\"display:table-row;\"><div style=\"white-space:nowrap; color:blue;\"><span>[alphabetic normalization]</span></div></div></div></div></div><div style=\"display:table-row;\"><div style=\"display:table-cell;padding:0.2em 5px 0.2em 0px;vertical-align:top;\"> 3. </div><div style=\"display:table-cell;vertical-align:top;border-right:1px solid #848482;padding-right:5px;;padding-top:0.2em\"><div style=\"display:inline-block;\"><span>$\\left|\\begin{array}{l}{p}_{t} \\wedge{} {r}_{t}\\\\{q}_{t} \\wedge{} {s}_{t}\\end{array}\\right|$</span></div></div></div></div></div></div></div></div><div style=\"display:table-row;border-bottom:1px solid #848482;\"><div style=\"display:table-cell;padding:0.2em 5px 0.2em 0px;vertical-align:top;\"> 1. </div><div style=\"display:table-cell;vertical-align:top;border-right:1px solid #848482;padding-right:5px;;padding-top:0.2em\"><div style=\"display:inline-block;\"><span>$\\textsf{Condition}(\\left|\\begin{array}{l}{p}_{t} \\wedge{} {r}_{t}\\\\{q}_{t} \\wedge{} {s}_{t}\\end{array}\\right|)$</span></div></div><div style=\"display:table-cell;vertical-align:top;padding-left:5px;padding-right:5px;padding-top:0.2em\"><div style=\"display:table;\"><div style=\"display:table-row;\"><div style=\"white-space:nowrap; color:blue;\"><span>Condition extraction</span></div></div></div></div></div><div style=\"display:table-row;\"><div style=\"display:table-cell;padding:0.2em 5px 0.2em 0px;vertical-align:top;\"> 2. </div><div style=\"display:table-cell;vertical-align:top;border-right:1px solid #848482;padding-right:5px;;padding-top:0.2em\"><div style=\"display:inline-block;\"><span>${q}_{t} \\wedge{} {s}_{t}$</span></div></div></div></div></div></div></div></div>"
      ],
      "text/plain": [
       "DisplayNode instance: HTML rendering only"
      ]
     },
     "execution_count": 89,
     "metadata": {},
     "output_type": "execute_result"
    }
   ],
   "source": [
    "reload_lamb()\n",
    "te(\"Condition(Partial(p_t & Partial(r_t, q_t), s_t))\").simplify_all().derivation.trace()"
   ]
  },
  {
   "cell_type": "code",
   "execution_count": 90,
   "id": "e8828356-35bb-4e74-af94-869bb319dc36",
   "metadata": {},
   "outputs": [
    {
     "data": {
      "text/html": [
       "<div align=\"left\" style=\"display:table;\"><div style=\"display:table-cell;vertical-align:top;padding-left:5px;padding-right:5px;padding-top:0.2em\"><div style=\"display:table;\"><div style=\"display:table-row;vertical-align:top;\"><div align=\"left\" style=\"display:table;border-collapse:collapse;\"><div style=\"display:table-row;border-bottom:1px solid #848482;\"><div style=\"display:table-cell;padding:0.2em 5px 0.2em 0px;vertical-align:top;\"></div><div style=\"display:table-cell;vertical-align:top;border-right:1px solid #848482;padding-right:5px;;padding-top:0.2em\"><div style=\"display:inline-block;\"><span>$\\left|\\begin{array}{l}{p}_{t} \\wedge{} \\left|\\begin{array}{l}{r}_{t}\\\\{q}_{t}\\end{array}\\right|\\\\{s}_{t}\\end{array}\\right|$</span></div></div><div style=\"display:table-cell;vertical-align:top;padding-left:5px;padding-right:5px;padding-top:0.2em\"><div style=\"display:table;\"><div style=\"display:table-row;\"><div style=\"white-space:nowrap; color:blue;\"><span>[Partiality (merge conditions from body)]</span></div></div></div></div></div><div style=\"display:table-row;border-bottom:1px solid #848482;\"><div style=\"display:table-cell;padding:0.2em 5px 0.2em 0px;vertical-align:top;\"> 1. </div><div style=\"display:table-cell;vertical-align:top;border-right:1px solid #848482;padding-right:5px;;padding-top:0.2em\"><div style=\"display:inline-block;\"><span>$\\left|\\begin{array}{l}{p}_{t} \\wedge{} \\left|\\begin{array}{l}{r}_{t}\\\\{q}_{t}\\end{array}\\right|\\\\{s}_{t} \\wedge{} {q}_{t}\\end{array}\\right|$</span></div></div><div style=\"display:table-cell;vertical-align:top;padding-left:5px;padding-right:5px;padding-top:0.2em\"><div style=\"display:table;\"><div style=\"display:table-row;\"><div style=\"white-space:nowrap; color:blue;\"><span>Partiality calculation (recursion on partiality body)</span></div></div></div></div></div><div style=\"display:table-row;border-bottom:1px solid #848482;\"><div style=\"display:table-cell;padding:0.2em 5px 0.2em 0px;vertical-align:top;\"> 2. </div><div style=\"display:table-cell;vertical-align:top;border-right:1px solid #848482;padding-right:5px;;padding-top:0.2em\"><div style=\"display:inline-block;\"><span>$\\left|\\begin{array}{l}{p}_{t} \\wedge{} {r}_{t}\\\\{s}_{t} \\wedge{} {q}_{t}\\end{array}\\right|$</span></div></div><div style=\"display:table-cell;vertical-align:top;padding-left:5px;padding-right:5px;padding-top:0.2em\"><div style=\"display:table;\"><div style=\"display:table-row;\"><div style=\"white-space:nowrap; color:blue;\"><span>[alphabetic normalization]</span></div></div></div></div></div><div style=\"display:table-row;\"><div style=\"display:table-cell;padding:0.2em 5px 0.2em 0px;vertical-align:top;\"> 3. </div><div style=\"display:table-cell;vertical-align:top;border-right:1px solid #848482;padding-right:5px;;padding-top:0.2em\"><div style=\"display:inline-block;\"><span>$\\left|\\begin{array}{l}{p}_{t} \\wedge{} {r}_{t}\\\\{q}_{t} \\wedge{} {s}_{t}\\end{array}\\right|$</span></div></div></div></div></div></div></div></div>"
      ],
      "text/plain": [
       " 1. Partial((p_t & Partial(r_t, q_t)), s_t)    ([Partiality (merge conditions from body)])\n",
       " 2. Partial((p_t & Partial(r_t, q_t)), (s_t & q_t))    (Partiality calculation (recursion on partiality body))\n",
       " 3. Partial((p_t & r_t), (s_t & q_t))    ([alphabetic normalization])\n",
       " 4. Partial((p_t & r_t), (q_t & s_t))"
      ]
     },
     "execution_count": 90,
     "metadata": {},
     "output_type": "execute_result"
    }
   ],
   "source": [
    "te(\"Partial(p_t & Partial(r_t, q_t), s_t)\").calculate_partiality().derivation"
   ]
  },
  {
   "cell_type": "code",
   "execution_count": 95,
   "id": "1d17b9e4-c2c1-4f1d-a17b-76e19b79966b",
   "metadata": {},
   "outputs": [],
   "source": [
    "reload_lamb()"
   ]
  },
  {
   "cell_type": "code",
   "execution_count": null,
   "id": "6e7b79c5-95d4-4f82-8dc7-1ec20825b3e2",
   "metadata": {},
   "outputs": [],
   "source": []
  },
  {
   "cell_type": "code",
   "execution_count": 96,
   "id": "b54c7918-e0a1-497d-b0f3-6e01e4b2e750",
   "metadata": {},
   "outputs": [
    {
     "data": {
      "text/latex": [
       "$\\lambda{} p_{t} \\: . \\: \\lambda{} q_{t} \\: . \\: ({p} \\wedge{} \\textsf{Condition}({q})) \\rightarrow{} \\textsf{Body}({q})$"
      ],
      "text/plain": [
       "(λ p_t: (λ q_t: ((p_t & Condition(q_t)) >> Body(q_t))))"
      ]
     },
     "execution_count": 96,
     "metadata": {},
     "output_type": "execute_result"
    }
   ],
   "source": [
    "f = %te L p_t : L q_t : (p & Condition(q)) >> Body(q)\n",
    "f"
   ]
  },
  {
   "cell_type": "code",
   "execution_count": 97,
   "id": "02f086a0-9676-4843-a7ef-914d36473d40",
   "metadata": {},
   "outputs": [
    {
     "data": {
      "text/html": [
       "<div align=\"left\" style=\"display:table;\"><div style=\"display:table-cell;vertical-align:top;padding-left:5px;padding-right:5px;padding-top:0.2em\"><div style=\"display:table;\"><div style=\"display:table-row;vertical-align:top;\"><div align=\"left\" style=\"display:table;border-collapse:collapse;\"><div style=\"display:table-row;border-bottom:1px solid #848482;\"><div style=\"display:table-cell;padding:0.2em 5px 0.2em 0px;vertical-align:top;\"></div><div style=\"display:table-cell;vertical-align:top;border-right:1px solid #848482;padding-right:5px;;padding-top:0.2em\"><div style=\"display:inline-block;\"><span>${[\\lambda{} p_{t} \\: . \\: \\lambda{} q_{t} \\: . \\: ({p} \\wedge{} \\textsf{Condition}({q})) \\rightarrow{} \\textsf{Body}({q})]}({r}_{t})(\\left|\\begin{array}{l}{s1}_{t}\\\\{s2}_{t}\\end{array}\\right|)$</span></div></div><div style=\"display:table-cell;vertical-align:top;padding-left:5px;padding-right:5px;padding-top:0.2em\"><div style=\"display:table;\"><div style=\"display:table-row;\"><div style=\"white-space:nowrap; color:blue;\"><span>recursive reduction of subexpression 0</span></div></div><div style=\"display:table-row;vertical-align:top;\"><div align=\"left\" style=\"display:table;border-collapse:collapse;\"><div style=\"display:table-row;border-bottom:1px solid #848482;\"><div style=\"display:table-cell;padding:0.2em 5px 0.2em 0px;vertical-align:top;\"></div><div style=\"display:table-cell;vertical-align:top;border-right:1px solid #848482;padding-right:5px;;padding-top:0.2em\"><div style=\"display:inline-block;\"><span>${[\\lambda{} p_{t} \\: . \\: \\lambda{} q_{t} \\: . \\: ({p} \\wedge{} \\textsf{Condition}({q})) \\rightarrow{} \\textsf{Body}({q})]}({r}_{t})$</span></div></div><div style=\"display:table-cell;vertical-align:top;padding-left:5px;padding-right:5px;padding-top:0.2em\"><div style=\"display:table;\"><div style=\"display:table-row;\"><div style=\"white-space:nowrap; color:blue;\"><span>Reduction</span></div></div></div></div></div><div style=\"display:table-row;\"><div style=\"display:table-cell;padding:0.2em 5px 0.2em 0px;vertical-align:top;\"> 1. </div><div style=\"display:table-cell;vertical-align:top;border-right:1px solid #848482;padding-right:5px;;padding-top:0.2em\"><div style=\"display:inline-block;\"><span>$\\lambda{} q_{t} \\: . \\: ({r}_{t} \\wedge{} \\textsf{Condition}({q})) \\rightarrow{} \\textsf{Body}({q})$</span></div></div></div></div></div></div></div></div><div style=\"display:table-row;border-bottom:1px solid #848482;\"><div style=\"display:table-cell;padding:0.2em 5px 0.2em 0px;vertical-align:top;\"> 1. </div><div style=\"display:table-cell;vertical-align:top;border-right:1px solid #848482;padding-right:5px;;padding-top:0.2em\"><div style=\"display:inline-block;\"><span>${[\\lambda{} q_{t} \\: . \\: ({r}_{t} \\wedge{} \\textsf{Condition}({q})) \\rightarrow{} \\textsf{Body}({q})]}(\\left|\\begin{array}{l}{s1}_{t}\\\\{s2}_{t}\\end{array}\\right|)$</span></div></div><div style=\"display:table-cell;vertical-align:top;padding-left:5px;padding-right:5px;padding-top:0.2em\"><div style=\"display:table;\"><div style=\"display:table-row;\"><div style=\"white-space:nowrap; color:blue;\"><span>Reduction</span></div></div></div></div></div><div style=\"display:table-row;border-bottom:1px solid #848482;\"><div style=\"display:table-cell;padding:0.2em 5px 0.2em 0px;vertical-align:top;\"> 2. </div><div style=\"display:table-cell;vertical-align:top;border-right:1px solid #848482;padding-right:5px;;padding-top:0.2em\"><div style=\"display:inline-block;\"><span>$({r}_{t} \\wedge{} \\textsf{Condition}(\\left|\\begin{array}{l}{s1}_{t}\\\\{s2}_{t}\\end{array}\\right|)) \\rightarrow{} \\textsf{Body}(\\left|\\begin{array}{l}{s1}_{t}\\\\{s2}_{t}\\end{array}\\right|)$</span></div></div><div style=\"display:table-cell;vertical-align:top;padding-left:5px;padding-right:5px;padding-top:0.2em\"><div style=\"display:table;\"><div style=\"display:table-row;\"><div style=\"white-space:nowrap; color:blue;\"><span>Partiality calculation (recursion on operand 0)</span></div></div><div style=\"display:table-row;vertical-align:top;\"><div align=\"left\" style=\"display:table;border-collapse:collapse;\"><div style=\"display:table-row;border-bottom:1px solid #848482;\"><div style=\"display:table-cell;padding:0.2em 5px 0.2em 0px;vertical-align:top;\"></div><div style=\"display:table-cell;vertical-align:top;border-right:1px solid #848482;padding-right:5px;;padding-top:0.2em\"><div style=\"display:inline-block;\"><span>${r}_{t} \\wedge{} \\textsf{Condition}(\\left|\\begin{array}{l}{s1}_{t}\\\\{s2}_{t}\\end{array}\\right|)$</span></div></div><div style=\"display:table-cell;vertical-align:top;padding-left:5px;padding-right:5px;padding-top:0.2em\"><div style=\"display:table;\"><div style=\"display:table-row;\"><div style=\"white-space:nowrap; color:blue;\"><span>Partiality calculation (recursion on operand 1)</span></div></div><div style=\"display:table-row;vertical-align:top;\"><div align=\"left\" style=\"display:table;border-collapse:collapse;\"><div style=\"display:table-row;border-bottom:1px solid #848482;\"><div style=\"display:table-cell;padding:0.2em 5px 0.2em 0px;vertical-align:top;\"></div><div style=\"display:table-cell;vertical-align:top;border-right:1px solid #848482;padding-right:5px;;padding-top:0.2em\"><div style=\"display:inline-block;\"><span>$\\textsf{Condition}(\\left|\\begin{array}{l}{s1}_{t}\\\\{s2}_{t}\\end{array}\\right|)$</span></div></div><div style=\"display:table-cell;vertical-align:top;padding-left:5px;padding-right:5px;padding-top:0.2em\"><div style=\"display:table;\"><div style=\"display:table-row;\"><div style=\"white-space:nowrap; color:blue;\"><span>Condition extraction</span></div></div></div></div></div><div style=\"display:table-row;\"><div style=\"display:table-cell;padding:0.2em 5px 0.2em 0px;vertical-align:top;\"> 1. </div><div style=\"display:table-cell;vertical-align:top;border-right:1px solid #848482;padding-right:5px;;padding-top:0.2em\"><div style=\"display:inline-block;\"><span>${s2}_{t}$</span></div></div></div></div></div></div></div></div><div style=\"display:table-row;\"><div style=\"display:table-cell;padding:0.2em 5px 0.2em 0px;vertical-align:top;\"> 1. </div><div style=\"display:table-cell;vertical-align:top;border-right:1px solid #848482;padding-right:5px;;padding-top:0.2em\"><div style=\"display:inline-block;\"><span>${r}_{t} \\wedge{} {s2}_{t}$</span></div></div></div></div></div></div></div></div><div style=\"display:table-row;border-bottom:1px solid #848482;\"><div style=\"display:table-cell;padding:0.2em 5px 0.2em 0px;vertical-align:top;\"> 3. </div><div style=\"display:table-cell;vertical-align:top;border-right:1px solid #848482;padding-right:5px;;padding-top:0.2em\"><div style=\"display:inline-block;\"><span>$({r}_{t} \\wedge{} {s2}_{t}) \\rightarrow{} \\textsf{Body}(\\left|\\begin{array}{l}{s1}_{t}\\\\{s2}_{t}\\end{array}\\right|)$</span></div></div><div style=\"display:table-cell;vertical-align:top;padding-left:5px;padding-right:5px;padding-top:0.2em\"><div style=\"display:table;\"><div style=\"display:table-row;\"><div style=\"white-space:nowrap; color:blue;\"><span>Partiality calculation (recursion on operand 1)</span></div></div><div style=\"display:table-row;vertical-align:top;\"><div align=\"left\" style=\"display:table;border-collapse:collapse;\"><div style=\"display:table-row;border-bottom:1px solid #848482;\"><div style=\"display:table-cell;padding:0.2em 5px 0.2em 0px;vertical-align:top;\"></div><div style=\"display:table-cell;vertical-align:top;border-right:1px solid #848482;padding-right:5px;;padding-top:0.2em\"><div style=\"display:inline-block;\"><span>$\\textsf{Body}(\\left|\\begin{array}{l}{s1}_{t}\\\\{s2}_{t}\\end{array}\\right|)$</span></div></div><div style=\"display:table-cell;vertical-align:top;padding-left:5px;padding-right:5px;padding-top:0.2em\"><div style=\"display:table;\"><div style=\"display:table-row;\"><div style=\"white-space:nowrap; color:blue;\"><span>Body extraction</span></div></div></div></div></div><div style=\"display:table-row;\"><div style=\"display:table-cell;padding:0.2em 5px 0.2em 0px;vertical-align:top;\"> 1. </div><div style=\"display:table-cell;vertical-align:top;border-right:1px solid #848482;padding-right:5px;;padding-top:0.2em\"><div style=\"display:inline-block;\"><span>${s1}_{t}$</span></div></div></div></div></div></div></div></div><div style=\"display:table-row;\"><div style=\"display:table-cell;padding:0.2em 5px 0.2em 0px;vertical-align:top;\"> 4. </div><div style=\"display:table-cell;vertical-align:top;border-right:1px solid #848482;padding-right:5px;;padding-top:0.2em\"><div style=\"display:inline-block;\"><span>$({r}_{t} \\wedge{} {s2}_{t}) \\rightarrow{} {s1}_{t}$</span></div></div></div></div></div></div></div></div>"
      ],
      "text/plain": [
       "DisplayNode instance: HTML rendering only"
      ]
     },
     "execution_count": 97,
     "metadata": {},
     "output_type": "execute_result"
    }
   ],
   "source": [
    "f(te(\"r_t\"))(te(\"Partial(s1_t, s2_t)\")).simplify_all(reduce=True).derivation.trace(all_recursion=True)"
   ]
  },
  {
   "cell_type": "code",
   "execution_count": 99,
   "id": "d0368e2a-dfb8-47be-8cf0-5a06ba64a916",
   "metadata": {},
   "outputs": [
    {
     "data": {
      "text/html": [
       "<div align=\"left\" style=\"display:table;\"><div style=\"display:table-cell;vertical-align:top;padding-left:5px;padding-right:5px;padding-top:0.2em\"><div style=\"display:table;\"><div style=\"display:table-row;vertical-align:top;\"><div align=\"left\" style=\"display:table;border-collapse:collapse;\"><div style=\"display:table-row;border-bottom:1px solid #848482;\"><div style=\"display:table-cell;padding:0.2em 5px 0.2em 0px;vertical-align:top;\"></div><div style=\"display:table-cell;vertical-align:top;border-right:1px solid #848482;padding-right:5px;;padding-top:0.2em\"><div style=\"display:inline-block;\"><span>${[\\lambda{} p_{t} \\: . \\: \\lambda{} q_{t} \\: . \\: ({p} \\wedge{} \\textsf{Condition}({q})) \\rightarrow{} \\textsf{Body}({q})]}({r}_{t})(\\left|\\begin{array}{l}{s1}_{t}\\\\\\textsf{True}\\end{array}\\right|)$</span></div></div><div style=\"display:table-cell;vertical-align:top;padding-left:5px;padding-right:5px;padding-top:0.2em\"><div style=\"display:table;\"><div style=\"display:table-row;\"><div style=\"white-space:nowrap; color:blue;\"><span>[Reduction]</span></div></div></div></div></div><div style=\"display:table-row;border-bottom:1px solid #848482;\"><div style=\"display:table-cell;padding:0.2em 5px 0.2em 0px;vertical-align:top;\"> 1. </div><div style=\"display:table-cell;vertical-align:top;border-right:1px solid #848482;padding-right:5px;;padding-top:0.2em\"><div style=\"display:inline-block;\"><span>${[\\lambda{} q_{t} \\: . \\: ({r}_{t} \\wedge{} \\textsf{Condition}({q})) \\rightarrow{} \\textsf{Body}({q})]}(\\left|\\begin{array}{l}{s1}_{t}\\\\\\textsf{True}\\end{array}\\right|)$</span></div></div><div style=\"display:table-cell;vertical-align:top;padding-left:5px;padding-right:5px;padding-top:0.2em\"><div style=\"display:table;\"><div style=\"display:table-row;\"><div style=\"white-space:nowrap; color:blue;\"><span>Reduction</span></div></div></div></div></div><div style=\"display:table-row;border-bottom:1px solid #848482;\"><div style=\"display:table-cell;padding:0.2em 5px 0.2em 0px;vertical-align:top;\"> 2. </div><div style=\"display:table-cell;vertical-align:top;border-right:1px solid #848482;padding-right:5px;;padding-top:0.2em\"><div style=\"display:inline-block;\"><span>$({r}_{t} \\wedge{} \\textsf{Condition}(\\left|\\begin{array}{l}{s1}_{t}\\\\\\textsf{True}\\end{array}\\right|)) \\rightarrow{} \\textsf{Body}(\\left|\\begin{array}{l}{s1}_{t}\\\\\\textsf{True}\\end{array}\\right|)$</span></div></div><div style=\"display:table-cell;vertical-align:top;padding-left:5px;padding-right:5px;padding-top:0.2em\"><div style=\"display:table;\"><div style=\"display:table-row;\"><div style=\"white-space:nowrap; color:blue;\"><span>[Partiality calculation (recursion on operand 1)]</span></div></div><div style=\"display:table-row;vertical-align:top;\"><div align=\"left\" style=\"display:table;border-collapse:collapse;\"><div style=\"display:table-row;border-bottom:1px solid #848482;\"><div style=\"display:table-cell;padding:0.2em 5px 0.2em 0px;vertical-align:top;\"></div><div style=\"display:table-cell;vertical-align:top;border-right:1px solid #848482;padding-right:5px;;padding-top:0.2em\"><div style=\"display:inline-block;\"><span>$\\textsf{Condition}(\\left|\\begin{array}{l}{s1}_{t}\\\\\\textsf{True}\\end{array}\\right|)$</span></div></div><div style=\"display:table-cell;vertical-align:top;padding-left:5px;padding-right:5px;padding-top:0.2em\"><div style=\"display:table;\"><div style=\"display:table-row;\"><div style=\"white-space:nowrap; color:blue;\"><span>[Partiality elimination]</span></div></div></div></div></div><div style=\"display:table-row;border-bottom:1px solid #848482;\"><div style=\"display:table-cell;padding:0.2em 5px 0.2em 0px;vertical-align:top;\"> 1. </div><div style=\"display:table-cell;vertical-align:top;border-right:1px solid #848482;padding-right:5px;;padding-top:0.2em\"><div style=\"display:inline-block;\"><span>$\\textsf{Condition}({s1}_{t})$</span></div></div><div style=\"display:table-cell;vertical-align:top;padding-left:5px;padding-right:5px;padding-top:0.2em\"><div style=\"display:table;\"><div style=\"display:table-row;\"><div style=\"white-space:nowrap; color:blue;\"><span>Condition extraction (trivial)</span></div></div></div></div></div><div style=\"display:table-row;\"><div style=\"display:table-cell;padding:0.2em 5px 0.2em 0px;vertical-align:top;\"> 2. </div><div style=\"display:table-cell;vertical-align:top;border-right:1px solid #848482;padding-right:5px;;padding-top:0.2em\"><div style=\"display:inline-block;\"><span>$\\textsf{True}$</span></div></div></div></div></div></div></div></div><div style=\"display:table-row;border-bottom:1px solid #848482;\"><div style=\"display:table-cell;padding:0.2em 5px 0.2em 0px;vertical-align:top;\"> 3. </div><div style=\"display:table-cell;vertical-align:top;border-right:1px solid #848482;padding-right:5px;;padding-top:0.2em\"><div style=\"display:inline-block;\"><span>$({r}_{t} \\wedge{} \\textsf{True}) \\rightarrow{} \\textsf{Body}(\\left|\\begin{array}{l}{s1}_{t}\\\\\\textsf{True}\\end{array}\\right|)$</span></div></div><div style=\"display:table-cell;vertical-align:top;padding-left:5px;padding-right:5px;padding-top:0.2em\"><div style=\"display:table;\"><div style=\"display:table-row;\"><div style=\"white-space:nowrap; color:blue;\"><span>Partiality calculation (recursion on operand 1)</span></div></div><div style=\"display:table-row;vertical-align:top;\"><div align=\"left\" style=\"display:table;border-collapse:collapse;\"><div style=\"display:table-row;border-bottom:1px solid #848482;\"><div style=\"display:table-cell;padding:0.2em 5px 0.2em 0px;vertical-align:top;\"></div><div style=\"display:table-cell;vertical-align:top;border-right:1px solid #848482;padding-right:5px;;padding-top:0.2em\"><div style=\"display:inline-block;\"><span>$\\left|\\begin{array}{l}{s1}_{t}\\\\\\textsf{True}\\end{array}\\right|$</span></div></div><div style=\"display:table-cell;vertical-align:top;padding-left:5px;padding-right:5px;padding-top:0.2em\"><div style=\"display:table;\"><div style=\"display:table-row;\"><div style=\"white-space:nowrap; color:blue;\"><span>Partiality elimination</span></div></div></div></div></div><div style=\"display:table-row;border-bottom:1px solid #848482;\"><div style=\"display:table-cell;padding:0.2em 5px 0.2em 0px;vertical-align:top;\"> 1. </div><div style=\"display:table-cell;vertical-align:top;border-right:1px solid #848482;padding-right:5px;;padding-top:0.2em\"><div style=\"display:inline-block;\"><span>$\\textsf{Body}({s1}_{t})$</span></div></div><div style=\"display:table-cell;vertical-align:top;padding-left:5px;padding-right:5px;padding-top:0.2em\"><div style=\"display:table;\"><div style=\"display:table-row;\"><div style=\"white-space:nowrap; color:blue;\"><span>Body extraction (trivial)</span></div></div></div></div></div><div style=\"display:table-row;\"><div style=\"display:table-cell;padding:0.2em 5px 0.2em 0px;vertical-align:top;\"> 2. </div><div style=\"display:table-cell;vertical-align:top;border-right:1px solid #848482;padding-right:5px;;padding-top:0.2em\"><div style=\"display:inline-block;\"><span>${s1}_{t}$</span></div></div></div></div></div></div></div></div><div style=\"display:table-row;border-bottom:1px solid #848482;\"><div style=\"display:table-cell;padding:0.2em 5px 0.2em 0px;vertical-align:top;\"> 4. </div><div style=\"display:table-cell;vertical-align:top;border-right:1px solid #848482;padding-right:5px;;padding-top:0.2em\"><div style=\"display:inline-block;\"><span>$({r}_{t} \\wedge{} \\textsf{True}) \\rightarrow{} {s1}_{t}$</span></div></div><div style=\"display:table-cell;vertical-align:top;padding-left:5px;padding-right:5px;padding-top:0.2em\"><div style=\"display:table;\"><div style=\"display:table-row;\"><div style=\"white-space:nowrap; color:blue;\"><span>Recursive simplification of operand 0</span></div></div><div style=\"display:table-row;vertical-align:top;\"><div align=\"left\" style=\"display:table;border-collapse:collapse;\"><div style=\"display:table-row;border-bottom:1px solid #848482;\"><div style=\"display:table-cell;padding:0.2em 5px 0.2em 0px;vertical-align:top;\"></div><div style=\"display:table-cell;vertical-align:top;border-right:1px solid #848482;padding-right:5px;;padding-top:0.2em\"><div style=\"display:inline-block;\"><span>${r}_{t} \\wedge{} \\textsf{Condition}(\\left|\\begin{array}{l}{s1}_{t}\\\\\\textsf{True}\\end{array}\\right|)$</span></div></div><div style=\"display:table-cell;vertical-align:top;padding-left:5px;padding-right:5px;padding-top:0.2em\"><div style=\"display:table;\"><div style=\"display:table-row;\"><div style=\"white-space:nowrap; color:blue;\"><span>Partiality calculation (recursion on operand 1)</span></div></div><div style=\"display:table-row;vertical-align:top;\"><div align=\"left\" style=\"display:table;border-collapse:collapse;\"><div style=\"display:table-row;border-bottom:1px solid #848482;\"><div style=\"display:table-cell;padding:0.2em 5px 0.2em 0px;vertical-align:top;\"></div><div style=\"display:table-cell;vertical-align:top;border-right:1px solid #848482;padding-right:5px;;padding-top:0.2em\"><div style=\"display:inline-block;\"><span>$\\textsf{Condition}(\\left|\\begin{array}{l}{s1}_{t}\\\\\\textsf{True}\\end{array}\\right|)$</span></div></div><div style=\"display:table-cell;vertical-align:top;padding-left:5px;padding-right:5px;padding-top:0.2em\"><div style=\"display:table;\"><div style=\"display:table-row;\"><div style=\"white-space:nowrap; color:blue;\"><span>[Partiality elimination]</span></div></div></div></div></div><div style=\"display:table-row;border-bottom:1px solid #848482;\"><div style=\"display:table-cell;padding:0.2em 5px 0.2em 0px;vertical-align:top;\"> 1. </div><div style=\"display:table-cell;vertical-align:top;border-right:1px solid #848482;padding-right:5px;;padding-top:0.2em\"><div style=\"display:inline-block;\"><span>$\\textsf{Condition}({s1}_{t})$</span></div></div><div style=\"display:table-cell;vertical-align:top;padding-left:5px;padding-right:5px;padding-top:0.2em\"><div style=\"display:table;\"><div style=\"display:table-row;\"><div style=\"white-space:nowrap; color:blue;\"><span>Condition extraction (trivial)</span></div></div></div></div></div><div style=\"display:table-row;\"><div style=\"display:table-cell;padding:0.2em 5px 0.2em 0px;vertical-align:top;\"> 2. </div><div style=\"display:table-cell;vertical-align:top;border-right:1px solid #848482;padding-right:5px;;padding-top:0.2em\"><div style=\"display:inline-block;\"><span>$\\textsf{True}$</span></div></div></div></div></div></div></div></div><div style=\"display:table-row;border-bottom:1px solid #848482;\"><div style=\"display:table-cell;padding:0.2em 5px 0.2em 0px;vertical-align:top;\"> 1. </div><div style=\"display:table-cell;vertical-align:top;border-right:1px solid #848482;padding-right:5px;;padding-top:0.2em\"><div style=\"display:inline-block;\"><span>${r}_{t} \\wedge{} \\textsf{True}$</span></div></div><div style=\"display:table-cell;vertical-align:top;padding-left:5px;padding-right:5px;padding-top:0.2em\"><div style=\"display:table;\"><div style=\"display:table-row;\"><div style=\"white-space:nowrap; color:blue;\"><span>alphabetic normalization</span></div></div></div></div></div><div style=\"display:table-row;border-bottom:1px solid #848482;\"><div style=\"display:table-cell;padding:0.2em 5px 0.2em 0px;vertical-align:top;\"> 2. </div><div style=\"display:table-cell;vertical-align:top;border-right:1px solid #848482;padding-right:5px;;padding-top:0.2em\"><div style=\"display:inline-block;\"><span>$\\textsf{True} \\wedge{} {r}_{t}$</span></div></div><div style=\"display:table-cell;vertical-align:top;padding-left:5px;padding-right:5px;padding-top:0.2em\"><div style=\"display:table;\"><div style=\"display:table-row;\"><div style=\"white-space:nowrap; color:blue;\"><span>conjunction</span></div></div></div></div></div><div style=\"display:table-row;\"><div style=\"display:table-cell;padding:0.2em 5px 0.2em 0px;vertical-align:top;\"> 3. </div><div style=\"display:table-cell;vertical-align:top;border-right:1px solid #848482;padding-right:5px;;padding-top:0.2em\"><div style=\"display:inline-block;\"><span>${r}_{t}$</span></div></div></div></div></div></div></div></div><div style=\"display:table-row;\"><div style=\"display:table-cell;padding:0.2em 5px 0.2em 0px;vertical-align:top;\"> 5. </div><div style=\"display:table-cell;vertical-align:top;border-right:1px solid #848482;padding-right:5px;;padding-top:0.2em\"><div style=\"display:inline-block;\"><span>${r}_{t} \\rightarrow{} {s1}_{t}$</span></div></div></div></div></div></div></div></div>"
      ],
      "text/plain": [
       "DisplayNode instance: HTML rendering only"
      ]
     },
     "execution_count": 99,
     "metadata": {},
     "output_type": "execute_result"
    }
   ],
   "source": [
    "f(te(\"r_t\"))(te(\"Partial(s1_t, True)\")).simplify_all(reduce=True).derivation.trace()"
   ]
  },
  {
   "cell_type": "code",
   "execution_count": null,
   "id": "5b453d04-150b-4aa8-ab84-06d582163638",
   "metadata": {},
   "outputs": [],
   "source": []
  },
  {
   "cell_type": "code",
   "execution_count": 100,
   "id": "795c206b-d71c-4c26-89e2-a51eb4a50083",
   "metadata": {},
   "outputs": [
    {
     "data": {
      "text/latex": [
       "$\\lambda{} p_{t} \\: . \\: \\lambda{} q_{t} \\: . \\: \\left|\\begin{array}{l}{p} \\rightarrow{} \\textsf{Body}({q})\\\\{p} \\rightarrow{} \\textsf{Condition}({q})\\end{array}\\right|$"
      ],
      "text/plain": [
       "(λ p_t: (λ q_t: Partial((p_t >> Body(q_t)), (p_t >> Condition(q_t)))))"
      ]
     },
     "execution_count": 100,
     "metadata": {},
     "output_type": "execute_result"
    }
   ],
   "source": [
    "g = %te L p_t : L q_t : Partial((p >> Body(q)), (p >> Condition(q)))\n",
    "g"
   ]
  },
  {
   "cell_type": "code",
   "execution_count": 102,
   "id": "3e6601e6-728d-4937-829b-ac0cc3304707",
   "metadata": {},
   "outputs": [
    {
     "data": {
      "text/html": [
       "<div align=\"left\" style=\"display:table;\"><div style=\"display:table-cell;vertical-align:top;padding-left:5px;padding-right:5px;padding-top:0.2em\"><div style=\"display:table;\"><div style=\"display:table-row;vertical-align:top;\"><div align=\"left\" style=\"display:table;border-collapse:collapse;\"><div style=\"display:table-row;border-bottom:1px solid #848482;\"><div style=\"display:table-cell;padding:0.2em 5px 0.2em 0px;vertical-align:top;\"></div><div style=\"display:table-cell;vertical-align:top;border-right:1px solid #848482;padding-right:5px;;padding-top:0.2em\"><div style=\"display:inline-block;\"><span>${[\\lambda{} p_{t} \\: . \\: \\lambda{} q_{t} \\: . \\: \\left|\\begin{array}{l}{p} \\rightarrow{} \\textsf{Body}({q})\\\\{p} \\rightarrow{} \\textsf{Condition}({q})\\end{array}\\right|]}({r}_{t})(\\left|\\begin{array}{l}{s1}_{t}\\\\{s2}_{t}\\end{array}\\right|)$</span></div></div><div style=\"display:table-cell;vertical-align:top;padding-left:5px;padding-right:5px;padding-top:0.2em\"><div style=\"display:table;\"><div style=\"display:table-row;\"><div style=\"white-space:nowrap; color:blue;\"><span>[Reduction]</span></div></div></div></div></div><div style=\"display:table-row;border-bottom:1px solid #848482;\"><div style=\"display:table-cell;padding:0.2em 5px 0.2em 0px;vertical-align:top;\"> 1. </div><div style=\"display:table-cell;vertical-align:top;border-right:1px solid #848482;padding-right:5px;;padding-top:0.2em\"><div style=\"display:inline-block;\"><span>${[\\lambda{} q_{t} \\: . \\: \\left|\\begin{array}{l}{r}_{t} \\rightarrow{} \\textsf{Body}({q})\\\\{r}_{t} \\rightarrow{} \\textsf{Condition}({q})\\end{array}\\right|]}(\\left|\\begin{array}{l}{s1}_{t}\\\\{s2}_{t}\\end{array}\\right|)$</span></div></div><div style=\"display:table-cell;vertical-align:top;padding-left:5px;padding-right:5px;padding-top:0.2em\"><div style=\"display:table;\"><div style=\"display:table-row;\"><div style=\"white-space:nowrap; color:blue;\"><span>Reduction</span></div></div></div></div></div><div style=\"display:table-row;border-bottom:1px solid #848482;\"><div style=\"display:table-cell;padding:0.2em 5px 0.2em 0px;vertical-align:top;\"> 2. </div><div style=\"display:table-cell;vertical-align:top;border-right:1px solid #848482;padding-right:5px;;padding-top:0.2em\"><div style=\"display:inline-block;\"><span>$\\left|\\begin{array}{l}{r}_{t} \\rightarrow{} \\textsf{Body}(\\left|\\begin{array}{l}{s1}_{t}\\\\{s2}_{t}\\end{array}\\right|)\\\\{r}_{t} \\rightarrow{} \\textsf{Condition}(\\left|\\begin{array}{l}{s1}_{t}\\\\{s2}_{t}\\end{array}\\right|)\\end{array}\\right|$</span></div></div><div style=\"display:table-cell;vertical-align:top;padding-left:5px;padding-right:5px;padding-top:0.2em\"><div style=\"display:table;\"><div style=\"display:table-row;\"><div style=\"white-space:nowrap; color:blue;\"><span>[[Condition extraction]]</span></div></div></div></div></div><div style=\"display:table-row;border-bottom:1px solid #848482;\"><div style=\"display:table-cell;padding:0.2em 5px 0.2em 0px;vertical-align:top;\"> 3. </div><div style=\"display:table-cell;vertical-align:top;border-right:1px solid #848482;padding-right:5px;;padding-top:0.2em\"><div style=\"display:inline-block;\"><span>$\\left|\\begin{array}{l}{r}_{t} \\rightarrow{} \\textsf{Body}(\\left|\\begin{array}{l}{s1}_{t}\\\\{s2}_{t}\\end{array}\\right|)\\\\{r}_{t} \\rightarrow{} {s2}_{t}\\end{array}\\right|$</span></div></div><div style=\"display:table-cell;vertical-align:top;padding-left:5px;padding-right:5px;padding-top:0.2em\"><div style=\"display:table;\"><div style=\"display:table-row;\"><div style=\"white-space:nowrap; color:blue;\"><span>[[Body extraction]]</span></div></div></div></div></div><div style=\"display:table-row;\"><div style=\"display:table-cell;padding:0.2em 5px 0.2em 0px;vertical-align:top;\"> 4. </div><div style=\"display:table-cell;vertical-align:top;border-right:1px solid #848482;padding-right:5px;;padding-top:0.2em\"><div style=\"display:inline-block;\"><span>$\\left|\\begin{array}{l}{r}_{t} \\rightarrow{} {s1}_{t}\\\\{r}_{t} \\rightarrow{} {s2}_{t}\\end{array}\\right|$</span></div></div></div></div></div></div></div></div>"
      ],
      "text/plain": [
       "DisplayNode instance: HTML rendering only"
      ]
     },
     "execution_count": 102,
     "metadata": {},
     "output_type": "execute_result"
    }
   ],
   "source": [
    "g(te(\"r_t\"))(te(\"Partial(s1_t, s2_t)\")).simplify_all(reduce=True).derivation.trace()"
   ]
  },
  {
   "cell_type": "code",
   "execution_count": 103,
   "id": "01768097-62a4-4adf-8f12-5fa952dcc936",
   "metadata": {},
   "outputs": [
    {
     "data": {
      "text/html": [
       "<div align=\"left\" style=\"display:table;\"><div style=\"display:table-cell;vertical-align:top;padding-left:5px;padding-right:5px;padding-top:0.2em\"><div style=\"display:table;\"><div style=\"display:table-row;vertical-align:top;\"><div align=\"left\" style=\"display:table;border-collapse:collapse;\"><div style=\"display:table-row;border-bottom:1px solid #848482;\"><div style=\"display:table-cell;padding:0.2em 5px 0.2em 0px;vertical-align:top;\"></div><div style=\"display:table-cell;vertical-align:top;border-right:1px solid #848482;padding-right:5px;;padding-top:0.2em\"><div style=\"display:inline-block;\"><span>${[\\lambda{} p_{t} \\: . \\: \\lambda{} q_{t} \\: . \\: \\left|\\begin{array}{l}{p} \\rightarrow{} \\textsf{Body}({q})\\\\{p} \\rightarrow{} \\textsf{Condition}({q})\\end{array}\\right|]}(\\left|\\begin{array}{l}{r1}_{t}\\\\{r2}_{t}\\end{array}\\right|)(\\left|\\begin{array}{l}{s1}_{t}\\\\{s2}_{t}\\end{array}\\right|)$</span></div></div><div style=\"display:table-cell;vertical-align:top;padding-left:5px;padding-right:5px;padding-top:0.2em\"><div style=\"display:table;\"><div style=\"display:table-row;\"><div style=\"white-space:nowrap; color:blue;\"><span>[Reduction]</span></div></div></div></div></div><div style=\"display:table-row;border-bottom:1px solid #848482;\"><div style=\"display:table-cell;padding:0.2em 5px 0.2em 0px;vertical-align:top;\"> 1. </div><div style=\"display:table-cell;vertical-align:top;border-right:1px solid #848482;padding-right:5px;;padding-top:0.2em\"><div style=\"display:inline-block;\"><span>${[\\lambda{} q_{t} \\: . \\: \\left|\\begin{array}{l}\\left|\\begin{array}{l}{r1}_{t}\\\\{r2}_{t}\\end{array}\\right| \\rightarrow{} \\textsf{Body}({q})\\\\\\left|\\begin{array}{l}{r1}_{t}\\\\{r2}_{t}\\end{array}\\right| \\rightarrow{} \\textsf{Condition}({q})\\end{array}\\right|]}(\\left|\\begin{array}{l}{s1}_{t}\\\\{s2}_{t}\\end{array}\\right|)$</span></div></div><div style=\"display:table-cell;vertical-align:top;padding-left:5px;padding-right:5px;padding-top:0.2em\"><div style=\"display:table;\"><div style=\"display:table-row;\"><div style=\"white-space:nowrap; color:blue;\"><span>Reduction</span></div></div></div></div></div><div style=\"display:table-row;border-bottom:1px solid #848482;\"><div style=\"display:table-cell;padding:0.2em 5px 0.2em 0px;vertical-align:top;\"> 2. </div><div style=\"display:table-cell;vertical-align:top;border-right:1px solid #848482;padding-right:5px;;padding-top:0.2em\"><div style=\"display:inline-block;\"><span>$\\left|\\begin{array}{l}\\left|\\begin{array}{l}{r1}_{t}\\\\{r2}_{t}\\end{array}\\right| \\rightarrow{} \\textsf{Body}(\\left|\\begin{array}{l}{s1}_{t}\\\\{s2}_{t}\\end{array}\\right|)\\\\\\left|\\begin{array}{l}{r1}_{t}\\\\{r2}_{t}\\end{array}\\right| \\rightarrow{} \\textsf{Condition}(\\left|\\begin{array}{l}{s1}_{t}\\\\{s2}_{t}\\end{array}\\right|)\\end{array}\\right|$</span></div></div><div style=\"display:table-cell;vertical-align:top;padding-left:5px;padding-right:5px;padding-top:0.2em\"><div style=\"display:table;\"><div style=\"display:table-row;\"><div style=\"white-space:nowrap; color:blue;\"><span>Partiality calculation (recursion on condition)</span></div></div><div style=\"display:table-row;vertical-align:top;\"><div align=\"left\" style=\"display:table;border-collapse:collapse;\"><div style=\"display:table-row;border-bottom:1px solid #848482;\"><div style=\"display:table-cell;padding:0.2em 5px 0.2em 0px;vertical-align:top;\"></div><div style=\"display:table-cell;vertical-align:top;border-right:1px solid #848482;padding-right:5px;;padding-top:0.2em\"><div style=\"display:inline-block;\"><span>$\\left|\\begin{array}{l}{r1}_{t}\\\\{r2}_{t}\\end{array}\\right| \\rightarrow{} \\textsf{Condition}(\\left|\\begin{array}{l}{s1}_{t}\\\\{s2}_{t}\\end{array}\\right|)$</span></div></div><div style=\"display:table-cell;vertical-align:top;padding-left:5px;padding-right:5px;padding-top:0.2em\"><div style=\"display:table;\"><div style=\"display:table-row;\"><div style=\"white-space:nowrap; color:blue;\"><span>Partiality (merge conditions from body)</span></div></div></div></div></div><div style=\"display:table-row;border-bottom:1px solid #848482;\"><div style=\"display:table-cell;padding:0.2em 5px 0.2em 0px;vertical-align:top;\"> 1. </div><div style=\"display:table-cell;vertical-align:top;border-right:1px solid #848482;padding-right:5px;;padding-top:0.2em\"><div style=\"display:inline-block;\"><span>$(\\left|\\begin{array}{l}{r1}_{t}\\\\{r2}_{t}\\end{array}\\right| \\rightarrow{} \\textsf{Condition}(\\left|\\begin{array}{l}{s1}_{t}\\\\{s2}_{t}\\end{array}\\right|)) \\wedge{} {r2}_{t}$</span></div></div><div style=\"display:table-cell;vertical-align:top;padding-left:5px;padding-right:5px;padding-top:0.2em\"><div style=\"display:table;\"><div style=\"display:table-row;\"><div style=\"white-space:nowrap; color:blue;\"><span>Partiality calculation (recursion on operand 0)</span></div></div><div style=\"display:table-row;vertical-align:top;\"><div align=\"left\" style=\"display:table;border-collapse:collapse;\"><div style=\"display:table-row;border-bottom:1px solid #848482;\"><div style=\"display:table-cell;padding:0.2em 5px 0.2em 0px;vertical-align:top;\"></div><div style=\"display:table-cell;vertical-align:top;border-right:1px solid #848482;padding-right:5px;;padding-top:0.2em\"><div style=\"display:inline-block;\"><span>$\\left|\\begin{array}{l}{r1}_{t}\\\\{r2}_{t}\\end{array}\\right| \\rightarrow{} \\textsf{Condition}(\\left|\\begin{array}{l}{s1}_{t}\\\\{s2}_{t}\\end{array}\\right|)$</span></div></div><div style=\"display:table-cell;vertical-align:top;padding-left:5px;padding-right:5px;padding-top:0.2em\"><div style=\"display:table;\"><div style=\"display:table-row;\"><div style=\"white-space:nowrap; color:blue;\"><span>[Partiality (remove conditions from body)]</span></div></div></div></div></div><div style=\"display:table-row;border-bottom:1px solid #848482;\"><div style=\"display:table-cell;padding:0.2em 5px 0.2em 0px;vertical-align:top;\"> 1. </div><div style=\"display:table-cell;vertical-align:top;border-right:1px solid #848482;padding-right:5px;;padding-top:0.2em\"><div style=\"display:inline-block;\"><span>${r1}_{t} \\rightarrow{} \\textsf{Condition}(\\left|\\begin{array}{l}{s1}_{t}\\\\{s2}_{t}\\end{array}\\right|)$</span></div></div><div style=\"display:table-cell;vertical-align:top;padding-left:5px;padding-right:5px;padding-top:0.2em\"><div style=\"display:table;\"><div style=\"display:table-row;\"><div style=\"white-space:nowrap; color:blue;\"><span>[Condition extraction]</span></div></div></div></div></div><div style=\"display:table-row;border-bottom:1px solid #848482;\"><div style=\"display:table-cell;padding:0.2em 5px 0.2em 0px;vertical-align:top;\"> 2. </div><div style=\"display:table-cell;vertical-align:top;border-right:1px solid #848482;padding-right:5px;;padding-top:0.2em\"><div style=\"display:inline-block;\"><span>${r1}_{t} \\rightarrow{} {s2}_{t}$</span></div></div><div style=\"display:table-cell;vertical-align:top;padding-left:5px;padding-right:5px;padding-top:0.2em\"><div style=\"display:table;\"><div style=\"display:table-row;\"><div style=\"white-space:nowrap; color:blue;\"><span>Partiality (merge conditions from body)</span></div></div></div></div></div><div style=\"display:table-row;border-bottom:1px solid #848482;\"><div style=\"display:table-cell;padding:0.2em 5px 0.2em 0px;vertical-align:top;\"> 3. </div><div style=\"display:table-cell;vertical-align:top;border-right:1px solid #848482;padding-right:5px;;padding-top:0.2em\"><div style=\"display:inline-block;\"><span>$\\left|\\begin{array}{l}{r1}_{t} \\rightarrow{} {s2}_{t}\\\\{r2}_{t}\\end{array}\\right|$</span></div></div><div style=\"display:table-cell;vertical-align:top;padding-left:5px;padding-right:5px;padding-top:0.2em\"><div style=\"display:table;\"><div style=\"display:table-row;\"><div style=\"white-space:nowrap; color:blue;\"><span>Partiality (remove conditions from body)</span></div></div></div></div></div><div style=\"display:table-row;\"><div style=\"display:table-cell;padding:0.2em 5px 0.2em 0px;vertical-align:top;\"> 4. </div><div style=\"display:table-cell;vertical-align:top;border-right:1px solid #848482;padding-right:5px;;padding-top:0.2em\"><div style=\"display:inline-block;\"><span>${r1}_{t} \\rightarrow{} {s2}_{t}$</span></div></div></div></div></div></div></div></div><div style=\"display:table-row;border-bottom:1px solid #848482;\"><div style=\"display:table-cell;padding:0.2em 5px 0.2em 0px;vertical-align:top;\"> 2. </div><div style=\"display:table-cell;vertical-align:top;border-right:1px solid #848482;padding-right:5px;;padding-top:0.2em\"><div style=\"display:inline-block;\"><span>$({r1}_{t} \\rightarrow{} {s2}_{t}) \\wedge{} {r2}_{t}$</span></div></div><div style=\"display:table-cell;vertical-align:top;padding-left:5px;padding-right:5px;padding-top:0.2em\"><div style=\"display:table;\"><div style=\"display:table-row;\"><div style=\"white-space:nowrap; color:blue;\"><span>Partiality (merge conditions from body)</span></div></div></div></div></div><div style=\"display:table-row;border-bottom:1px solid #848482;\"><div style=\"display:table-cell;padding:0.2em 5px 0.2em 0px;vertical-align:top;\"> 3. </div><div style=\"display:table-cell;vertical-align:top;border-right:1px solid #848482;padding-right:5px;;padding-top:0.2em\"><div style=\"display:inline-block;\"><span>$\\left|\\begin{array}{l}({r1}_{t} \\rightarrow{} {s2}_{t}) \\wedge{} {r2}_{t}\\\\{r2}_{t}\\end{array}\\right|$</span></div></div><div style=\"display:table-cell;vertical-align:top;padding-left:5px;padding-right:5px;padding-top:0.2em\"><div style=\"display:table;\"><div style=\"display:table-row;\"><div style=\"white-space:nowrap; color:blue;\"><span>Recursive simplification of partiality body</span></div></div><div style=\"display:table-row;vertical-align:top;\"><div align=\"left\" style=\"display:table;border-collapse:collapse;\"><div style=\"display:table-row;border-bottom:1px solid #848482;\"><div style=\"display:table-cell;padding:0.2em 5px 0.2em 0px;vertical-align:top;\"></div><div style=\"display:table-cell;vertical-align:top;border-right:1px solid #848482;padding-right:5px;;padding-top:0.2em\"><div style=\"display:inline-block;\"><span>$\\left|\\begin{array}{l}{r1}_{t}\\\\{r2}_{t}\\end{array}\\right| \\rightarrow{} \\textsf{Condition}(\\left|\\begin{array}{l}{s1}_{t}\\\\{s2}_{t}\\end{array}\\right|)$</span></div></div><div style=\"display:table-cell;vertical-align:top;padding-left:5px;padding-right:5px;padding-top:0.2em\"><div style=\"display:table;\"><div style=\"display:table-row;\"><div style=\"white-space:nowrap; color:blue;\"><span>Partiality (merge conditions from body)</span></div></div></div></div></div><div style=\"display:table-row;border-bottom:1px solid #848482;\"><div style=\"display:table-cell;padding:0.2em 5px 0.2em 0px;vertical-align:top;\"> 1. </div><div style=\"display:table-cell;vertical-align:top;border-right:1px solid #848482;padding-right:5px;;padding-top:0.2em\"><div style=\"display:inline-block;\"><span>$(\\left|\\begin{array}{l}{r1}_{t}\\\\{r2}_{t}\\end{array}\\right| \\rightarrow{} \\textsf{Condition}(\\left|\\begin{array}{l}{s1}_{t}\\\\{s2}_{t}\\end{array}\\right|)) \\wedge{} {r2}_{t}$</span></div></div><div style=\"display:table-cell;vertical-align:top;padding-left:5px;padding-right:5px;padding-top:0.2em\"><div style=\"display:table;\"><div style=\"display:table-row;\"><div style=\"white-space:nowrap; color:blue;\"><span>Partiality calculation (recursion on operand 0)</span></div></div><div style=\"display:table-row;vertical-align:top;\"><div align=\"left\" style=\"display:table;border-collapse:collapse;\"><div style=\"display:table-row;border-bottom:1px solid #848482;\"><div style=\"display:table-cell;padding:0.2em 5px 0.2em 0px;vertical-align:top;\"></div><div style=\"display:table-cell;vertical-align:top;border-right:1px solid #848482;padding-right:5px;;padding-top:0.2em\"><div style=\"display:inline-block;\"><span>$\\left|\\begin{array}{l}{r1}_{t}\\\\{r2}_{t}\\end{array}\\right| \\rightarrow{} \\textsf{Condition}(\\left|\\begin{array}{l}{s1}_{t}\\\\{s2}_{t}\\end{array}\\right|)$</span></div></div><div style=\"display:table-cell;vertical-align:top;padding-left:5px;padding-right:5px;padding-top:0.2em\"><div style=\"display:table;\"><div style=\"display:table-row;\"><div style=\"white-space:nowrap; color:blue;\"><span>[Partiality (remove conditions from body)]</span></div></div></div></div></div><div style=\"display:table-row;border-bottom:1px solid #848482;\"><div style=\"display:table-cell;padding:0.2em 5px 0.2em 0px;vertical-align:top;\"> 1. </div><div style=\"display:table-cell;vertical-align:top;border-right:1px solid #848482;padding-right:5px;;padding-top:0.2em\"><div style=\"display:inline-block;\"><span>${r1}_{t} \\rightarrow{} \\textsf{Condition}(\\left|\\begin{array}{l}{s1}_{t}\\\\{s2}_{t}\\end{array}\\right|)$</span></div></div><div style=\"display:table-cell;vertical-align:top;padding-left:5px;padding-right:5px;padding-top:0.2em\"><div style=\"display:table;\"><div style=\"display:table-row;\"><div style=\"white-space:nowrap; color:blue;\"><span>[Condition extraction]</span></div></div></div></div></div><div style=\"display:table-row;border-bottom:1px solid #848482;\"><div style=\"display:table-cell;padding:0.2em 5px 0.2em 0px;vertical-align:top;\"> 2. </div><div style=\"display:table-cell;vertical-align:top;border-right:1px solid #848482;padding-right:5px;;padding-top:0.2em\"><div style=\"display:inline-block;\"><span>${r1}_{t} \\rightarrow{} {s2}_{t}$</span></div></div><div style=\"display:table-cell;vertical-align:top;padding-left:5px;padding-right:5px;padding-top:0.2em\"><div style=\"display:table;\"><div style=\"display:table-row;\"><div style=\"white-space:nowrap; color:blue;\"><span>Partiality (merge conditions from body)</span></div></div></div></div></div><div style=\"display:table-row;border-bottom:1px solid #848482;\"><div style=\"display:table-cell;padding:0.2em 5px 0.2em 0px;vertical-align:top;\"> 3. </div><div style=\"display:table-cell;vertical-align:top;border-right:1px solid #848482;padding-right:5px;;padding-top:0.2em\"><div style=\"display:inline-block;\"><span>$\\left|\\begin{array}{l}{r1}_{t} \\rightarrow{} {s2}_{t}\\\\{r2}_{t}\\end{array}\\right|$</span></div></div><div style=\"display:table-cell;vertical-align:top;padding-left:5px;padding-right:5px;padding-top:0.2em\"><div style=\"display:table;\"><div style=\"display:table-row;\"><div style=\"white-space:nowrap; color:blue;\"><span>Partiality (remove conditions from body)</span></div></div></div></div></div><div style=\"display:table-row;\"><div style=\"display:table-cell;padding:0.2em 5px 0.2em 0px;vertical-align:top;\"> 4. </div><div style=\"display:table-cell;vertical-align:top;border-right:1px solid #848482;padding-right:5px;;padding-top:0.2em\"><div style=\"display:inline-block;\"><span>${r1}_{t} \\rightarrow{} {s2}_{t}$</span></div></div></div></div></div></div></div></div><div style=\"display:table-row;border-bottom:1px solid #848482;\"><div style=\"display:table-cell;padding:0.2em 5px 0.2em 0px;vertical-align:top;\"> 2. </div><div style=\"display:table-cell;vertical-align:top;border-right:1px solid #848482;padding-right:5px;;padding-top:0.2em\"><div style=\"display:inline-block;\"><span>$({r1}_{t} \\rightarrow{} {s2}_{t}) \\wedge{} {r2}_{t}$</span></div></div><div style=\"display:table-cell;vertical-align:top;padding-left:5px;padding-right:5px;padding-top:0.2em\"><div style=\"display:table;\"><div style=\"display:table-row;\"><div style=\"white-space:nowrap; color:blue;\"><span>alphabetic normalization</span></div></div></div></div></div><div style=\"display:table-row;\"><div style=\"display:table-cell;padding:0.2em 5px 0.2em 0px;vertical-align:top;\"> 3. </div><div style=\"display:table-cell;vertical-align:top;border-right:1px solid #848482;padding-right:5px;;padding-top:0.2em\"><div style=\"display:inline-block;\"><span>${r2}_{t} \\wedge{} ({r1}_{t} \\rightarrow{} {s2}_{t})$</span></div></div></div></div></div></div></div></div><div style=\"display:table-row;\"><div style=\"display:table-cell;padding:0.2em 5px 0.2em 0px;vertical-align:top;\"> 4. </div><div style=\"display:table-cell;vertical-align:top;border-right:1px solid #848482;padding-right:5px;;padding-top:0.2em\"><div style=\"display:inline-block;\"><span>$\\left|\\begin{array}{l}{r2}_{t} \\wedge{} ({r1}_{t} \\rightarrow{} {s2}_{t})\\\\{r2}_{t}\\end{array}\\right|$</span></div></div></div></div></div></div></div></div><div style=\"display:table-row;border-bottom:1px solid #848482;\"><div style=\"display:table-cell;padding:0.2em 5px 0.2em 0px;vertical-align:top;\"> 3. </div><div style=\"display:table-cell;vertical-align:top;border-right:1px solid #848482;padding-right:5px;;padding-top:0.2em\"><div style=\"display:inline-block;\"><span>$\\left|\\begin{array}{l}\\left|\\begin{array}{l}{r1}_{t}\\\\{r2}_{t}\\end{array}\\right| \\rightarrow{} \\textsf{Body}(\\left|\\begin{array}{l}{s1}_{t}\\\\{s2}_{t}\\end{array}\\right|)\\\\\\left|\\begin{array}{l}{r2}_{t} \\wedge{} ({r1}_{t} \\rightarrow{} {s2}_{t})\\\\{r2}_{t}\\end{array}\\right|\\end{array}\\right|$</span></div></div><div style=\"display:table-cell;vertical-align:top;padding-left:5px;padding-right:5px;padding-top:0.2em\"><div style=\"display:table;\"><div style=\"display:table-row;\"><div style=\"white-space:nowrap; color:blue;\"><span>Partiality calculation (recursion on partiality body)</span></div></div><div style=\"display:table-row;vertical-align:top;\"><div align=\"left\" style=\"display:table;border-collapse:collapse;\"><div style=\"display:table-row;border-bottom:1px solid #848482;\"><div style=\"display:table-cell;padding:0.2em 5px 0.2em 0px;vertical-align:top;\"></div><div style=\"display:table-cell;vertical-align:top;border-right:1px solid #848482;padding-right:5px;;padding-top:0.2em\"><div style=\"display:inline-block;\"><span>$\\left|\\begin{array}{l}{r1}_{t}\\\\{r2}_{t}\\end{array}\\right| \\rightarrow{} \\textsf{Body}(\\left|\\begin{array}{l}{s1}_{t}\\\\{s2}_{t}\\end{array}\\right|)$</span></div></div><div style=\"display:table-cell;vertical-align:top;padding-left:5px;padding-right:5px;padding-top:0.2em\"><div style=\"display:table;\"><div style=\"display:table-row;\"><div style=\"white-space:nowrap; color:blue;\"><span>[Partiality (remove conditions from body)]</span></div></div></div></div></div><div style=\"display:table-row;border-bottom:1px solid #848482;\"><div style=\"display:table-cell;padding:0.2em 5px 0.2em 0px;vertical-align:top;\"> 1. </div><div style=\"display:table-cell;vertical-align:top;border-right:1px solid #848482;padding-right:5px;;padding-top:0.2em\"><div style=\"display:inline-block;\"><span>${r1}_{t} \\rightarrow{} \\textsf{Body}(\\left|\\begin{array}{l}{s1}_{t}\\\\{s2}_{t}\\end{array}\\right|)$</span></div></div><div style=\"display:table-cell;vertical-align:top;padding-left:5px;padding-right:5px;padding-top:0.2em\"><div style=\"display:table;\"><div style=\"display:table-row;\"><div style=\"white-space:nowrap; color:blue;\"><span>[Body extraction]</span></div></div></div></div></div><div style=\"display:table-row;border-bottom:1px solid #848482;\"><div style=\"display:table-cell;padding:0.2em 5px 0.2em 0px;vertical-align:top;\"> 2. </div><div style=\"display:table-cell;vertical-align:top;border-right:1px solid #848482;padding-right:5px;;padding-top:0.2em\"><div style=\"display:inline-block;\"><span>${r1}_{t} \\rightarrow{} {s1}_{t}$</span></div></div><div style=\"display:table-cell;vertical-align:top;padding-left:5px;padding-right:5px;padding-top:0.2em\"><div style=\"display:table;\"><div style=\"display:table-row;\"><div style=\"white-space:nowrap; color:blue;\"><span>Partiality (merge conditions from body)</span></div></div></div></div></div><div style=\"display:table-row;border-bottom:1px solid #848482;\"><div style=\"display:table-cell;padding:0.2em 5px 0.2em 0px;vertical-align:top;\"> 3. </div><div style=\"display:table-cell;vertical-align:top;border-right:1px solid #848482;padding-right:5px;;padding-top:0.2em\"><div style=\"display:inline-block;\"><span>$\\left|\\begin{array}{l}{r1}_{t} \\rightarrow{} {s1}_{t}\\\\{r2}_{t}\\end{array}\\right|$</span></div></div><div style=\"display:table-cell;vertical-align:top;padding-left:5px;padding-right:5px;padding-top:0.2em\"><div style=\"display:table;\"><div style=\"display:table-row;\"><div style=\"white-space:nowrap; color:blue;\"><span>Partiality (remove conditions from body)</span></div></div></div></div></div><div style=\"display:table-row;\"><div style=\"display:table-cell;padding:0.2em 5px 0.2em 0px;vertical-align:top;\"> 4. </div><div style=\"display:table-cell;vertical-align:top;border-right:1px solid #848482;padding-right:5px;;padding-top:0.2em\"><div style=\"display:inline-block;\"><span>${r1}_{t} \\rightarrow{} {s1}_{t}$</span></div></div></div></div></div></div></div></div><div style=\"display:table-row;\"><div style=\"display:table-cell;padding:0.2em 5px 0.2em 0px;vertical-align:top;\"> 4. </div><div style=\"display:table-cell;vertical-align:top;border-right:1px solid #848482;padding-right:5px;;padding-top:0.2em\"><div style=\"display:inline-block;\"><span>$\\left|\\begin{array}{l}{r1}_{t} \\rightarrow{} {s1}_{t}\\\\\\left|\\begin{array}{l}{r2}_{t} \\wedge{} ({r1}_{t} \\rightarrow{} {s2}_{t})\\\\{r2}_{t}\\end{array}\\right|\\end{array}\\right|$</span></div></div></div></div></div></div></div></div>"
      ],
      "text/plain": [
       "DisplayNode instance: HTML rendering only"
      ]
     },
     "execution_count": 103,
     "metadata": {},
     "output_type": "execute_result"
    }
   ],
   "source": [
    "g(te(\"Partial(r1_t, r2_t)\"))(te(\"Partial(s1_t, s2_t)\")).simplify_all(reduce=True).derivation.trace()"
   ]
  },
  {
   "cell_type": "code",
   "execution_count": 109,
   "id": "1f11c09c-8188-4bfa-bcdd-e8c09785656f",
   "metadata": {},
   "outputs": [
    {
     "data": {
      "text/html": [
       "<div align=\"left\" style=\"display:table;\"><div style=\"display:table-cell;vertical-align:top;padding-left:5px;padding-right:5px;padding-top:0.2em\"><div style=\"display:table;\"><div style=\"display:table-row;vertical-align:top;\"><div align=\"left\" style=\"display:table;border-collapse:collapse;\"><div style=\"display:table-row;border-bottom:1px solid #848482;\"><div style=\"display:table-cell;padding:0.2em 5px 0.2em 0px;vertical-align:top;\"></div><div style=\"display:table-cell;vertical-align:top;border-right:1px solid #848482;padding-right:5px;;padding-top:0.2em\"><div style=\"display:inline-block;\"><span>${[\\lambda{} p_{t} \\: . \\: \\lambda{} q_{t} \\: . \\: \\left|\\begin{array}{l}{p} \\rightarrow{} \\textsf{Body}({q})\\\\{p} \\rightarrow{} \\textsf{Condition}({q})\\end{array}\\right|]}(\\left|\\begin{array}{l}\\xcancel{\\textsf{False}}\\\\\\textsf{False}\\end{array}\\right|)(\\left|\\begin{array}{l}\\xcancel{\\textsf{False}}\\\\\\textsf{False}\\end{array}\\right|)$</span></div></div><div style=\"display:table-cell;vertical-align:top;padding-left:5px;padding-right:5px;padding-top:0.2em\"><div style=\"display:table;\"><div style=\"display:table-row;\"><div style=\"white-space:nowrap; color:blue;\"><span>[Reduction]</span></div></div></div></div></div><div style=\"display:table-row;border-bottom:1px solid #848482;\"><div style=\"display:table-cell;padding:0.2em 5px 0.2em 0px;vertical-align:top;\"> 1. </div><div style=\"display:table-cell;vertical-align:top;border-right:1px solid #848482;padding-right:5px;;padding-top:0.2em\"><div style=\"display:inline-block;\"><span>${[\\lambda{} q_{t} \\: . \\: \\left|\\begin{array}{l}\\left|\\begin{array}{l}\\xcancel{\\textsf{False}}\\\\\\textsf{False}\\end{array}\\right| \\rightarrow{} \\textsf{Body}({q})\\\\\\left|\\begin{array}{l}\\xcancel{\\textsf{False}}\\\\\\textsf{False}\\end{array}\\right| \\rightarrow{} \\textsf{Condition}({q})\\end{array}\\right|]}(\\left|\\begin{array}{l}\\xcancel{\\textsf{False}}\\\\\\textsf{False}\\end{array}\\right|)$</span></div></div><div style=\"display:table-cell;vertical-align:top;padding-left:5px;padding-right:5px;padding-top:0.2em\"><div style=\"display:table;\"><div style=\"display:table-row;\"><div style=\"white-space:nowrap; color:blue;\"><span>Reduction</span></div></div></div></div></div><div style=\"display:table-row;border-bottom:1px solid #848482;\"><div style=\"display:table-cell;padding:0.2em 5px 0.2em 0px;vertical-align:top;\"> 2. </div><div style=\"display:table-cell;vertical-align:top;border-right:1px solid #848482;padding-right:5px;;padding-top:0.2em\"><div style=\"display:inline-block;\"><span>$\\left|\\begin{array}{l}\\left|\\begin{array}{l}\\xcancel{\\textsf{False}}\\\\\\textsf{False}\\end{array}\\right| \\rightarrow{} \\textsf{Body}(\\left|\\begin{array}{l}\\xcancel{\\textsf{False}}\\\\\\textsf{False}\\end{array}\\right|)\\\\\\left|\\begin{array}{l}\\xcancel{\\textsf{False}}\\\\\\textsf{False}\\end{array}\\right| \\rightarrow{} \\textsf{Condition}(\\left|\\begin{array}{l}\\xcancel{\\textsf{False}}\\\\\\textsf{False}\\end{array}\\right|)\\end{array}\\right|$</span></div></div><div style=\"display:table-cell;vertical-align:top;padding-left:5px;padding-right:5px;padding-top:0.2em\"><div style=\"display:table;\"><div style=\"display:table-row;\"><div style=\"white-space:nowrap; color:blue;\"><span>Partiality calculation (recursion on condition)</span></div></div><div style=\"display:table-row;vertical-align:top;\"><div align=\"left\" style=\"display:table;border-collapse:collapse;\"><div style=\"display:table-row;border-bottom:1px solid #848482;\"><div style=\"display:table-cell;padding:0.2em 5px 0.2em 0px;vertical-align:top;\"></div><div style=\"display:table-cell;vertical-align:top;border-right:1px solid #848482;padding-right:5px;;padding-top:0.2em\"><div style=\"display:inline-block;\"><span>$\\left|\\begin{array}{l}\\xcancel{\\textsf{False}}\\\\\\textsf{False}\\end{array}\\right| \\rightarrow{} \\textsf{Condition}(\\left|\\begin{array}{l}\\xcancel{\\textsf{False}}\\\\\\textsf{False}\\end{array}\\right|)$</span></div></div><div style=\"display:table-cell;vertical-align:top;padding-left:5px;padding-right:5px;padding-top:0.2em\"><div style=\"display:table;\"><div style=\"display:table-row;\"><div style=\"white-space:nowrap; color:blue;\"><span>Partiality (merge conditions from body)</span></div></div></div></div></div><div style=\"display:table-row;border-bottom:1px solid #848482;\"><div style=\"display:table-cell;padding:0.2em 5px 0.2em 0px;vertical-align:top;\"> 1. </div><div style=\"display:table-cell;vertical-align:top;border-right:1px solid #848482;padding-right:5px;;padding-top:0.2em\"><div style=\"display:inline-block;\"><span>$(\\left|\\begin{array}{l}\\xcancel{\\textsf{False}}\\\\\\textsf{False}\\end{array}\\right| \\rightarrow{} \\textsf{Condition}(\\left|\\begin{array}{l}\\xcancel{\\textsf{False}}\\\\\\textsf{False}\\end{array}\\right|)) \\wedge{} \\textsf{False}$</span></div></div><div style=\"display:table-cell;vertical-align:top;padding-left:5px;padding-right:5px;padding-top:0.2em\"><div style=\"display:table;\"><div style=\"display:table-row;\"><div style=\"white-space:nowrap; color:blue;\"><span>Partiality calculation (recursion on operand 0)</span></div></div><div style=\"display:table-row;vertical-align:top;\"><div align=\"left\" style=\"display:table;border-collapse:collapse;\"><div style=\"display:table-row;border-bottom:1px solid #848482;\"><div style=\"display:table-cell;padding:0.2em 5px 0.2em 0px;vertical-align:top;\"></div><div style=\"display:table-cell;vertical-align:top;border-right:1px solid #848482;padding-right:5px;;padding-top:0.2em\"><div style=\"display:inline-block;\"><span>$\\left|\\begin{array}{l}\\xcancel{\\textsf{False}}\\\\\\textsf{False}\\end{array}\\right| \\rightarrow{} \\textsf{Condition}(\\left|\\begin{array}{l}\\xcancel{\\textsf{False}}\\\\\\textsf{False}\\end{array}\\right|)$</span></div></div><div style=\"display:table-cell;vertical-align:top;padding-left:5px;padding-right:5px;padding-top:0.2em\"><div style=\"display:table;\"><div style=\"display:table-row;\"><div style=\"white-space:nowrap; color:blue;\"><span>[Partiality (remove conditions from body)]</span></div></div></div></div></div><div style=\"display:table-row;border-bottom:1px solid #848482;\"><div style=\"display:table-cell;padding:0.2em 5px 0.2em 0px;vertical-align:top;\"> 1. </div><div style=\"display:table-cell;vertical-align:top;border-right:1px solid #848482;padding-right:5px;;padding-top:0.2em\"><div style=\"display:inline-block;\"><span>$\\textsf{False} \\rightarrow{} \\textsf{Condition}(\\left|\\begin{array}{l}\\xcancel{\\textsf{False}}\\\\\\textsf{False}\\end{array}\\right|)$</span></div></div><div style=\"display:table-cell;vertical-align:top;padding-left:5px;padding-right:5px;padding-top:0.2em\"><div style=\"display:table;\"><div style=\"display:table-row;\"><div style=\"white-space:nowrap; color:blue;\"><span>[Condition extraction]</span></div></div></div></div></div><div style=\"display:table-row;border-bottom:1px solid #848482;\"><div style=\"display:table-cell;padding:0.2em 5px 0.2em 0px;vertical-align:top;\"> 2. </div><div style=\"display:table-cell;vertical-align:top;border-right:1px solid #848482;padding-right:5px;;padding-top:0.2em\"><div style=\"display:inline-block;\"><span>$\\textsf{False} \\rightarrow{} \\textsf{False}$</span></div></div><div style=\"display:table-cell;vertical-align:top;padding-left:5px;padding-right:5px;padding-top:0.2em\"><div style=\"display:table;\"><div style=\"display:table-row;\"><div style=\"white-space:nowrap; color:blue;\"><span>Partiality (merge conditions from body)</span></div></div></div></div></div><div style=\"display:table-row;border-bottom:1px solid #848482;\"><div style=\"display:table-cell;padding:0.2em 5px 0.2em 0px;vertical-align:top;\"> 3. </div><div style=\"display:table-cell;vertical-align:top;border-right:1px solid #848482;padding-right:5px;;padding-top:0.2em\"><div style=\"display:inline-block;\"><span>$\\left|\\begin{array}{l}\\xcancel{\\textsf{True}}\\\\\\textsf{False}\\end{array}\\right|$</span></div></div><div style=\"display:table-cell;vertical-align:top;padding-left:5px;padding-right:5px;padding-top:0.2em\"><div style=\"display:table;\"><div style=\"display:table-row;\"><div style=\"white-space:nowrap; color:blue;\"><span>Partiality (remove conditions from body)</span></div></div></div></div></div><div style=\"display:table-row;\"><div style=\"display:table-cell;padding:0.2em 5px 0.2em 0px;vertical-align:top;\"> 4. </div><div style=\"display:table-cell;vertical-align:top;border-right:1px solid #848482;padding-right:5px;;padding-top:0.2em\"><div style=\"display:inline-block;\"><span>$\\textsf{True}$</span></div></div></div></div></div></div></div></div><div style=\"display:table-row;border-bottom:1px solid #848482;\"><div style=\"display:table-cell;padding:0.2em 5px 0.2em 0px;vertical-align:top;\"> 2. </div><div style=\"display:table-cell;vertical-align:top;border-right:1px solid #848482;padding-right:5px;;padding-top:0.2em\"><div style=\"display:inline-block;\"><span>$\\textsf{True} \\wedge{} \\textsf{False}$</span></div></div><div style=\"display:table-cell;vertical-align:top;padding-left:5px;padding-right:5px;padding-top:0.2em\"><div style=\"display:table;\"><div style=\"display:table-row;\"><div style=\"white-space:nowrap; color:blue;\"><span>Partiality (merge conditions from body)</span></div></div></div></div></div><div style=\"display:table-row;\"><div style=\"display:table-cell;padding:0.2em 5px 0.2em 0px;vertical-align:top;\"> 3. </div><div style=\"display:table-cell;vertical-align:top;border-right:1px solid #848482;padding-right:5px;;padding-top:0.2em\"><div style=\"display:inline-block;\"><span>$\\left|\\begin{array}{l}\\xcancel{\\textsf{True} \\wedge{} \\textsf{False}}\\\\\\textsf{False}\\end{array}\\right|$</span></div></div></div></div></div></div></div></div><div style=\"display:table-row;\"><div style=\"display:table-cell;padding:0.2em 5px 0.2em 0px;vertical-align:top;\"> 3. </div><div style=\"display:table-cell;vertical-align:top;border-right:1px solid #848482;padding-right:5px;;padding-top:0.2em\"><div style=\"display:inline-block;\"><span>$\\left|\\begin{array}{l}\\left|\\begin{array}{l}\\xcancel{\\textsf{False}}\\\\\\textsf{False}\\end{array}\\right| \\rightarrow{} \\textsf{Body}(\\left|\\begin{array}{l}\\xcancel{\\textsf{False}}\\\\\\textsf{False}\\end{array}\\right|)\\\\\\left|\\begin{array}{l}\\xcancel{\\textsf{False}}\\\\\\textsf{False}\\end{array}\\right|\\end{array}\\right|$</span></div></div></div></div></div></div></div></div>"
      ],
      "text/plain": [
       "DisplayNode instance: HTML rendering only"
      ]
     },
     "execution_count": 109,
     "metadata": {},
     "output_type": "execute_result"
    }
   ],
   "source": [
    "g(te(\"Partial(False, False)\"))(te(\"Partial(False, False)\")).simplify_all(reduce=True).derivation.trace()"
   ]
  },
  {
   "cell_type": "code",
   "execution_count": null,
   "id": "68e4af31-d6fd-4d01-bda4-e7f4d8078bed",
   "metadata": {},
   "outputs": [],
   "source": []
  },
  {
   "cell_type": "code",
   "execution_count": null,
   "id": "c27cddc5-e6f1-47ef-894d-a326b005bed2",
   "metadata": {},
   "outputs": [],
   "source": []
  },
  {
   "cell_type": "code",
   "execution_count": null,
   "id": "02103e95-2e05-4ef8-91dc-aa1d2377c579",
   "metadata": {},
   "outputs": [],
   "source": []
  },
  {
   "cell_type": "code",
   "execution_count": 309,
   "id": "e8bade6e-f8ee-4316-aafb-32a31bff6c14",
   "metadata": {},
   "outputs": [
    {
     "name": "stdout",
     "output_type": "stream",
     "text": [
      "INFO (core): Coerced guessed type for 'P_t' into <e,t>, to match argument 'x_e'\n",
      "INFO (core): Coerced guessed type for 'P_t' into <e,t>, to match argument '(IotaPartial x_e: P_<e,t>(x_e))'\n"
     ]
    },
    {
     "data": {
      "text/latex": [
       "$\\left|\\begin{array}{l}{p}_{t} \\wedge{} {P}(\\iota{} x_{e} \\: . \\: {P}({x}))\\\\{q}_{t} \\wedge{} (\\exists{}! x_{e} \\: . \\: {P}({x}))\\end{array}\\right|$"
      ],
      "text/plain": [
       "Partial((p_t & P_<e,t>(ι x_e: P_<e,t>(x_e))), (q_t & (ExistsExact x_e: P_<e,t>(x_e))))"
      ]
     },
     "execution_count": 309,
     "metadata": {},
     "output_type": "execute_result"
    }
   ],
   "source": [
    "te(\"Partial(p_t, q_t) & P(IotaPartial x: P(x))\").simplify_all().calculate_partiality()"
   ]
  },
  {
   "cell_type": "code",
   "execution_count": 310,
   "id": "f5e5b288-71c2-436c-b8fa-e95285cf32d7",
   "metadata": {},
   "outputs": [
    {
     "data": {
      "text/latex": [
       "$\\exists{} x_{e} \\: . \\: {Student}({x}) \\wedge{} \\left|\\begin{array}{l}{Likes}({x}, (\\iota{} y_{e} \\: . \\: {BrotherOf}({y}, {x})))\\\\{Male}({x}) \\wedge{} (\\exists{}! y_{e} \\: . \\: {BrotherOf}({y}, {x}))\\end{array}\\right|$"
      ],
      "text/plain": [
       "(Exists x_e: (Student_<e,t>(x_e) & Partial(Likes_<(e,e),t>(x_e, (ι y_e: BrotherOf_<(e,e),t>(y_e, x_e))), (Male_<e,t>(x_e) & (ExistsExact y_e: BrotherOf_<(e,e),t>(y_e, x_e))))))"
      ]
     },
     "execution_count": 310,
     "metadata": {},
     "output_type": "execute_result"
    }
   ],
   "source": [
    "x = %te (Exists x_e: (Student_<e,t>(x_e) & Partial(Likes_<(e,e),t>(x_e, (ι y_e: BrotherOf_<(e,e),t>(y_e, x_e))), (Male_<e,t>(x_e) & (ExistsExact y_e: BrotherOf_<(e,e),t>(y_e, x_e))))))\n",
    "x"
   ]
  },
  {
   "cell_type": "code",
   "execution_count": 311,
   "id": "2da2c292-17f1-4c97-8dbe-285571e2079a",
   "metadata": {},
   "outputs": [
    {
     "data": {
      "text/latex": [
       "$\\left|\\begin{array}{l}\\exists{} x_{e} \\: . \\: {Likes}({x}, (\\iota{} y_{e} \\: . \\: {BrotherOf}({y}, {x}))) \\wedge{} {Student}({x}) \\wedge{} ({Male}({x}) \\wedge{} (\\exists{}! y_{e} \\: . \\: {BrotherOf}({y}, {x})))\\\\\\exists{} x_{e} \\: . \\: {Male}({x}) \\wedge{} (\\exists{}! y_{e} \\: . \\: {BrotherOf}({y}, {x}))\\end{array}\\right|$"
      ],
      "text/plain": [
       "Partial((Exists x_e: ((Likes_<(e,e),t>(x_e, (ι y_e: BrotherOf_<(e,e),t>(y_e, x_e))) & Student_<e,t>(x_e)) & (Male_<e,t>(x_e) & (ExistsExact y_e: BrotherOf_<(e,e),t>(y_e, x_e))))), (Exists x_e: (Male_<e,t>(x_e) & (ExistsExact y_e: BrotherOf_<(e,e),t>(y_e, x_e)))))"
      ]
     },
     "execution_count": 311,
     "metadata": {},
     "output_type": "execute_result"
    }
   ],
   "source": [
    "x.calculate_partiality()"
   ]
  },
  {
   "cell_type": "code",
   "execution_count": 312,
   "id": "8bf39875-9914-46f7-9f78-9c5d7bc04a2c",
   "metadata": {},
   "outputs": [
    {
     "data": {
      "text/latex": [
       "$\\left|\\begin{array}{l}{q}_{t}\\\\\\left|\\begin{array}{l}{p}_{t}\\\\{r}_{t}\\end{array}\\right|\\end{array}\\right|$"
      ],
      "text/plain": [
       "Partial(q_t, Partial(p_t, r_t))"
      ]
     },
     "execution_count": 312,
     "metadata": {},
     "output_type": "execute_result"
    }
   ],
   "source": [
    "te(\"Partial(q_t, Partial(p_t, r_t))\").calculate_partiality()"
   ]
  },
  {
   "cell_type": "code",
   "execution_count": 321,
   "id": "e6ed0a9a-92f0-452f-b417-cd24cd78d365",
   "metadata": {},
   "outputs": [],
   "source": [
    "reload_lamb()"
   ]
  },
  {
   "cell_type": "code",
   "execution_count": 322,
   "id": "bb29d7e0-d668-47f3-b83e-1af238d08f64",
   "metadata": {},
   "outputs": [
    {
     "data": {
      "text/latex": [
       "${[\\lambda{} y_{e} \\: . \\: {Likes}({y}, \\left|\\begin{array}{l}\\iota{} y_{e} \\: . \\: {BrotherOf}({y}, {var5}_{e})\\\\\\left|\\begin{array}{l}{Male}({var5}_{e}) \\wedge{} (\\exists{}! y_{e} \\: . \\: {BrotherOf}({y}, {var5}_{e}))\\\\{Male}({var5}_{e})\\end{array}\\right|\\end{array}\\right|)]}(\\left|\\begin{array}{l}{John}_{e}\\\\{Salient}({John}_{e})\\end{array}\\right|)$"
      ],
      "text/plain": [
       "(λ y_e: Likes_<(e,e),t>(y_e, Partial((ι y_e: BrotherOf_<(e,e),t>(y_e, var5_e)), Partial((Male_<e,t>(var5_e) & (ExistsExact y_e: BrotherOf_<(e,e),t>(y_e, var5_e))), Male_<e,t>(var5_e)))))(Partial(John_e, Salient_<e,t>(John_e)))"
      ]
     },
     "execution_count": 322,
     "metadata": {},
     "output_type": "execute_result"
    }
   ],
   "source": [
    "x = te('(λ y_e: Likes_<(e,e),t>(y_e, Partial((ι y_e: BrotherOf_<(e,e),t>(y_e, var5_e)), Partial((Male_<e,t>(var5_e) & (ExistsExact y_e: BrotherOf_<(e,e),t>(y_e, var5_e))), Male_<e,t>(var5_e)))))(Partial(John_e, Salient_<e,t>(John_e)))')\n",
    "x"
   ]
  },
  {
   "cell_type": "code",
   "execution_count": 323,
   "id": "063b6809-8245-4a46-8deb-e969276f9d6e",
   "metadata": {},
   "outputs": [
    {
     "data": {
      "text/latex": [
       "${Likes}(\\left|\\begin{array}{l}{John}_{e}\\\\{Salient}({John}_{e})\\end{array}\\right|, \\left|\\begin{array}{l}\\iota{} y_{e} \\: . \\: {BrotherOf}({y}, {var5}_{e})\\\\\\left|\\begin{array}{l}{Male}({var5}_{e}) \\wedge{} (\\exists{}! y_{e} \\: . \\: {BrotherOf}({y}, {var5}_{e}))\\\\{Male}({var5}_{e})\\end{array}\\right|\\end{array}\\right|)$"
      ],
      "text/plain": [
       "Likes_<(e,e),t>(Partial(John_e, Salient_<e,t>(John_e)), Partial((ι y_e: BrotherOf_<(e,e),t>(y_e, var5_e)), Partial((Male_<e,t>(var5_e) & (ExistsExact y_e: BrotherOf_<(e,e),t>(y_e, var5_e))), Male_<e,t>(var5_e))))"
      ]
     },
     "execution_count": 323,
     "metadata": {},
     "output_type": "execute_result"
    }
   ],
   "source": [
    "x2 = x.reduce_all()\n",
    "x2"
   ]
  },
  {
   "cell_type": "code",
   "execution_count": 325,
   "id": "2418ee33-0e8d-4a18-8540-fa80393601cd",
   "metadata": {},
   "outputs": [
    {
     "data": {
      "text/html": [
       "<div align=\"left\" style=\"display:table;\"><div style=\"display:table-cell;vertical-align:top;padding-left:5px;padding-right:5px;padding-top:0.2em\"><div style=\"display:table;\"><div style=\"display:table-row;vertical-align:top;\"><div align=\"left\" style=\"display:table;border-collapse:collapse;\"><div style=\"display:table-row;border-bottom:1px solid #848482;\"><div style=\"display:table-cell;padding:0.2em 5px 0.2em 0px;vertical-align:top;\"></div><div style=\"display:table-cell;vertical-align:top;border-right:1px solid #848482;padding-right:5px;;padding-top:0.2em\"><div style=\"display:inline-block;\"><span>${[\\lambda{} y_{e} \\: . \\: {Likes}({y}, \\left|\\begin{array}{l}\\iota{} y_{e} \\: . \\: {BrotherOf}({y}, {var5}_{e})\\\\\\left|\\begin{array}{l}{Male}({var5}_{e}) \\wedge{} (\\exists{}! y_{e} \\: . \\: {BrotherOf}({y}, {var5}_{e}))\\\\{Male}({var5}_{e})\\end{array}\\right|\\end{array}\\right|)]}(\\left|\\begin{array}{l}{John}_{e}\\\\{Salient}({John}_{e})\\end{array}\\right|)$</span></div></div><div style=\"display:table-cell;vertical-align:top;padding-left:5px;padding-right:5px;padding-top:0.2em\"><div style=\"display:table;\"><div style=\"display:table-row;\"><div style=\"white-space:nowrap; color:blue;\"><span>Reduction</span></div></div></div></div></div><div style=\"display:table-row;border-bottom:1px solid #848482;\"><div style=\"display:table-cell;padding:0.2em 5px 0.2em 0px;vertical-align:top;\"> 1. </div><div style=\"display:table-cell;vertical-align:top;border-right:1px solid #848482;padding-right:5px;;padding-top:0.2em\"><div style=\"display:inline-block;\"><span>${Likes}(\\left|\\begin{array}{l}{John}_{e}\\\\{Salient}({John}_{e})\\end{array}\\right|, \\left|\\begin{array}{l}\\iota{} y_{e} \\: . \\: {BrotherOf}({y}, {var5}_{e})\\\\\\left|\\begin{array}{l}{Male}({var5}_{e}) \\wedge{} (\\exists{}! y_{e} \\: . \\: {BrotherOf}({y}, {var5}_{e}))\\\\{Male}({var5}_{e})\\end{array}\\right|\\end{array}\\right|)$</span></div></div><div style=\"display:table-cell;vertical-align:top;padding-left:5px;padding-right:5px;padding-top:0.2em\"><div style=\"display:table;\"><div style=\"display:table-row;\"><div style=\"white-space:nowrap; color:blue;\"><span>Partiality (recursion on subexpression 1)</span></div></div><div style=\"display:table-row;vertical-align:top;\"><div align=\"left\" style=\"display:table;border-collapse:collapse;\"><div style=\"display:table-row;border-bottom:1px solid #848482;\"><div style=\"display:table-cell;padding:0.2em 5px 0.2em 0px;vertical-align:top;\"></div><div style=\"display:table-cell;vertical-align:top;border-right:1px solid #848482;padding-right:5px;;padding-top:0.2em\"><div style=\"display:inline-block;\"><span>$\\left|\\begin{array}{l}{John}_{e}\\\\{Salient}({John}_{e})\\end{array}\\right|, \\left|\\begin{array}{l}\\iota{} y_{e} \\: . \\: {BrotherOf}({y}, {var5}_{e})\\\\\\left|\\begin{array}{l}{Male}({var5}_{e}) \\wedge{} (\\exists{}! y_{e} \\: . \\: {BrotherOf}({y}, {var5}_{e}))\\\\{Male}({var5}_{e})\\end{array}\\right|\\end{array}\\right|$</span></div></div><div style=\"display:table-cell;vertical-align:top;padding-left:5px;padding-right:5px;padding-top:0.2em\"><div style=\"display:table;\"><div style=\"display:table-row;\"><div style=\"white-space:nowrap; color:blue;\"><span>[Partiality (remove conditions from body)]</span></div></div></div></div></div><div style=\"display:table-row;border-bottom:1px solid #848482;\"><div style=\"display:table-cell;padding:0.2em 5px 0.2em 0px;vertical-align:top;\"> 1. </div><div style=\"display:table-cell;vertical-align:top;border-right:1px solid #848482;padding-right:5px;;padding-top:0.2em\"><div style=\"display:inline-block;\"><span>${John}_{e}, \\left|\\begin{array}{l}\\iota{} y_{e} \\: . \\: {BrotherOf}({y}, {var5}_{e})\\\\\\left|\\begin{array}{l}{Male}({var5}_{e}) \\wedge{} (\\exists{}! y_{e} \\: . \\: {BrotherOf}({y}, {var5}_{e}))\\\\{Male}({var5}_{e})\\end{array}\\right|\\end{array}\\right|$</span></div></div><div style=\"display:table-cell;vertical-align:top;padding-left:5px;padding-right:5px;padding-top:0.2em\"><div style=\"display:table;\"><div style=\"display:table-row;\"><div style=\"white-space:nowrap; color:blue;\"><span>[Partiality (remove conditions from body)]</span></div></div></div></div></div><div style=\"display:table-row;border-bottom:1px solid #848482;\"><div style=\"display:table-cell;padding:0.2em 5px 0.2em 0px;vertical-align:top;\"> 2. </div><div style=\"display:table-cell;vertical-align:top;border-right:1px solid #848482;padding-right:5px;;padding-top:0.2em\"><div style=\"display:inline-block;\"><span>${John}_{e}, (\\iota{} y_{e} \\: . \\: {BrotherOf}({y}, {var5}_{e}))$</span></div></div><div style=\"display:table-cell;vertical-align:top;padding-left:5px;padding-right:5px;padding-top:0.2em\"><div style=\"display:table;\"><div style=\"display:table-row;\"><div style=\"white-space:nowrap; color:blue;\"><span>Partiality (merge conditions from body)</span></div></div></div></div></div><div style=\"display:table-row;border-bottom:1px solid #848482;\"><div style=\"display:table-cell;padding:0.2em 5px 0.2em 0px;vertical-align:top;\"> 3. </div><div style=\"display:table-cell;vertical-align:top;border-right:1px solid #848482;padding-right:5px;;padding-top:0.2em\"><div style=\"display:inline-block;\"><span>$\\left|\\begin{array}{l}{John}_{e}, (\\iota{} y_{e} \\: . \\: {BrotherOf}({y}, {var5}_{e}))\\\\{Salient}({John}_{e}) \\wedge{} \\left|\\begin{array}{l}{Male}({var5}_{e}) \\wedge{} (\\exists{}! y_{e} \\: . \\: {BrotherOf}({y}, {var5}_{e}))\\\\{Male}({var5}_{e})\\end{array}\\right|\\end{array}\\right|$</span></div></div><div style=\"display:table-cell;vertical-align:top;padding-left:5px;padding-right:5px;padding-top:0.2em\"><div style=\"display:table;\"><div style=\"display:table-row;\"><div style=\"white-space:nowrap; color:blue;\"><span>Partiality (recursion on condition)</span></div></div><div style=\"display:table-row;vertical-align:top;\"><div align=\"left\" style=\"display:table;border-collapse:collapse;\"><div style=\"display:table-row;border-bottom:1px solid #848482;\"><div style=\"display:table-cell;padding:0.2em 5px 0.2em 0px;vertical-align:top;\"></div><div style=\"display:table-cell;vertical-align:top;border-right:1px solid #848482;padding-right:5px;;padding-top:0.2em\"><div style=\"display:inline-block;\"><span>${Salient}({John}_{e}) \\wedge{} \\left|\\begin{array}{l}{Male}({var5}_{e}) \\wedge{} (\\exists{}! y_{e} \\: . \\: {BrotherOf}({y}, {var5}_{e}))\\\\{Male}({var5}_{e})\\end{array}\\right|$</span></div></div><div style=\"display:table-cell;vertical-align:top;padding-left:5px;padding-right:5px;padding-top:0.2em\"><div style=\"display:table;\"><div style=\"display:table-row;\"><div style=\"white-space:nowrap; color:blue;\"><span>[Partiality (remove conditions from body)]</span></div></div></div></div></div><div style=\"display:table-row;border-bottom:1px solid #848482;\"><div style=\"display:table-cell;padding:0.2em 5px 0.2em 0px;vertical-align:top;\"> 1. </div><div style=\"display:table-cell;vertical-align:top;border-right:1px solid #848482;padding-right:5px;;padding-top:0.2em\"><div style=\"display:inline-block;\"><span>${Salient}({John}_{e}) \\wedge{} ({Male}({var5}_{e}) \\wedge{} (\\exists{}! y_{e} \\: . \\: {BrotherOf}({y}, {var5}_{e})))$</span></div></div><div style=\"display:table-cell;vertical-align:top;padding-left:5px;padding-right:5px;padding-top:0.2em\"><div style=\"display:table;\"><div style=\"display:table-row;\"><div style=\"white-space:nowrap; color:blue;\"><span>Partiality (merge conditions from body)</span></div></div></div></div></div><div style=\"display:table-row;border-bottom:1px solid #848482;\"><div style=\"display:table-cell;padding:0.2em 5px 0.2em 0px;vertical-align:top;\"> 2. </div><div style=\"display:table-cell;vertical-align:top;border-right:1px solid #848482;padding-right:5px;;padding-top:0.2em\"><div style=\"display:inline-block;\"><span>$\\left|\\begin{array}{l}{Salient}({John}_{e}) \\wedge{} ({Male}({var5}_{e}) \\wedge{} (\\exists{}! y_{e} \\: . \\: {BrotherOf}({y}, {var5}_{e})))\\\\{Male}({var5}_{e})\\end{array}\\right|$</span></div></div><div style=\"display:table-cell;vertical-align:top;padding-left:5px;padding-right:5px;padding-top:0.2em\"><div style=\"display:table;\"><div style=\"display:table-row;\"><div style=\"white-space:nowrap; color:blue;\"><span>Recursive simplification of partiality body</span></div></div><div style=\"display:table-row;vertical-align:top;\"><div align=\"left\" style=\"display:table;border-collapse:collapse;\"><div style=\"display:table-row;border-bottom:1px solid #848482;\"><div style=\"display:table-cell;padding:0.2em 5px 0.2em 0px;vertical-align:top;\"></div><div style=\"display:table-cell;vertical-align:top;border-right:1px solid #848482;padding-right:5px;;padding-top:0.2em\"><div style=\"display:inline-block;\"><span>${Salient}({John}_{e}) \\wedge{} \\left|\\begin{array}{l}{Male}({var5}_{e}) \\wedge{} (\\exists{}! y_{e} \\: . \\: {BrotherOf}({y}, {var5}_{e}))\\\\{Male}({var5}_{e})\\end{array}\\right|$</span></div></div><div style=\"display:table-cell;vertical-align:top;padding-left:5px;padding-right:5px;padding-top:0.2em\"><div style=\"display:table;\"><div style=\"display:table-row;\"><div style=\"white-space:nowrap; color:blue;\"><span>[Partiality (remove conditions from body)]</span></div></div></div></div></div><div style=\"display:table-row;border-bottom:1px solid #848482;\"><div style=\"display:table-cell;padding:0.2em 5px 0.2em 0px;vertical-align:top;\"> 1. </div><div style=\"display:table-cell;vertical-align:top;border-right:1px solid #848482;padding-right:5px;;padding-top:0.2em\"><div style=\"display:inline-block;\"><span>${Salient}({John}_{e}) \\wedge{} ({Male}({var5}_{e}) \\wedge{} (\\exists{}! y_{e} \\: . \\: {BrotherOf}({y}, {var5}_{e})))$</span></div></div><div style=\"display:table-cell;vertical-align:top;padding-left:5px;padding-right:5px;padding-top:0.2em\"><div style=\"display:table;\"><div style=\"display:table-row;\"><div style=\"white-space:nowrap; color:blue;\"><span>alphabetic normalization</span></div></div></div></div></div><div style=\"display:table-row;\"><div style=\"display:table-cell;padding:0.2em 5px 0.2em 0px;vertical-align:top;\"> 2. </div><div style=\"display:table-cell;vertical-align:top;border-right:1px solid #848482;padding-right:5px;;padding-top:0.2em\"><div style=\"display:inline-block;\"><span>${Male}({var5}_{e}) \\wedge{} {Salient}({John}_{e}) \\wedge{} (\\exists{}! y_{e} \\: . \\: {BrotherOf}({y}, {var5}_{e}))$</span></div></div></div></div></div></div></div></div><div style=\"display:table-row;\"><div style=\"display:table-cell;padding:0.2em 5px 0.2em 0px;vertical-align:top;\"> 3. </div><div style=\"display:table-cell;vertical-align:top;border-right:1px solid #848482;padding-right:5px;;padding-top:0.2em\"><div style=\"display:inline-block;\"><span>$\\left|\\begin{array}{l}{Male}({var5}_{e}) \\wedge{} {Salient}({John}_{e}) \\wedge{} (\\exists{}! y_{e} \\: . \\: {BrotherOf}({y}, {var5}_{e}))\\\\{Male}({var5}_{e})\\end{array}\\right|$</span></div></div></div></div></div></div></div></div><div style=\"display:table-row;border-bottom:1px solid #848482;\"><div style=\"display:table-cell;padding:0.2em 5px 0.2em 0px;vertical-align:top;\"> 4. </div><div style=\"display:table-cell;vertical-align:top;border-right:1px solid #848482;padding-right:5px;;padding-top:0.2em\"><div style=\"display:inline-block;\"><span>$\\left|\\begin{array}{l}{John}_{e}, (\\iota{} y_{e} \\: . \\: {BrotherOf}({y}, {var5}_{e}))\\\\\\left|\\begin{array}{l}{Male}({var5}_{e}) \\wedge{} {Salient}({John}_{e}) \\wedge{} (\\exists{}! y_{e} \\: . \\: {BrotherOf}({y}, {var5}_{e}))\\\\{Male}({var5}_{e})\\end{array}\\right|\\end{array}\\right|$</span></div></div><div style=\"display:table-cell;vertical-align:top;padding-left:5px;padding-right:5px;padding-top:0.2em\"><div style=\"display:table;\"><div style=\"display:table-row;\"><div style=\"white-space:nowrap; color:blue;\"><span>Partiality (remove conditions from body)</span></div></div></div></div></div><div style=\"display:table-row;\"><div style=\"display:table-cell;padding:0.2em 5px 0.2em 0px;vertical-align:top;\"> 5. </div><div style=\"display:table-cell;vertical-align:top;border-right:1px solid #848482;padding-right:5px;;padding-top:0.2em\"><div style=\"display:inline-block;\"><span>${John}_{e}, (\\iota{} y_{e} \\: . \\: {BrotherOf}({y}, {var5}_{e}))$</span></div></div></div></div></div></div></div></div><div style=\"display:table-row;border-bottom:1px solid #848482;\"><div style=\"display:table-cell;padding:0.2em 5px 0.2em 0px;vertical-align:top;\"> 2. </div><div style=\"display:table-cell;vertical-align:top;border-right:1px solid #848482;padding-right:5px;;padding-top:0.2em\"><div style=\"display:inline-block;\"><span>${Likes}({John}_{e}, (\\iota{} y_{e} \\: . \\: {BrotherOf}({y}, {var5}_{e})))$</span></div></div><div style=\"display:table-cell;vertical-align:top;padding-left:5px;padding-right:5px;padding-top:0.2em\"><div style=\"display:table;\"><div style=\"display:table-row;\"><div style=\"white-space:nowrap; color:blue;\"><span>Partiality (merge conditions from body)</span></div></div></div></div></div><div style=\"display:table-row;\"><div style=\"display:table-cell;padding:0.2em 5px 0.2em 0px;vertical-align:top;\"> 3. </div><div style=\"display:table-cell;vertical-align:top;border-right:1px solid #848482;padding-right:5px;;padding-top:0.2em\"><div style=\"display:inline-block;\"><span>$\\left|\\begin{array}{l}{Likes}({John}_{e}, (\\iota{} y_{e} \\: . \\: {BrotherOf}({y}, {var5}_{e})))\\\\\\left|\\begin{array}{l}{Male}({var5}_{e}) \\wedge{} {Salient}({John}_{e}) \\wedge{} (\\exists{}! y_{e} \\: . \\: {BrotherOf}({y}, {var5}_{e}))\\\\{Male}({var5}_{e})\\end{array}\\right|\\end{array}\\right|$</span></div></div></div></div></div></div></div></div>"
      ],
      "text/plain": [
       "DisplayNode instance: HTML rendering only"
      ]
     },
     "execution_count": 325,
     "metadata": {},
     "output_type": "execute_result"
    }
   ],
   "source": [
    "x2.calculate_partiality().derivation.trace()"
   ]
  },
  {
   "cell_type": "code",
   "execution_count": null,
   "id": "687e8bc3-f33b-4631-9054-51d4de0b5459",
   "metadata": {},
   "outputs": [],
   "source": []
  },
  {
   "cell_type": "code",
   "execution_count": null,
   "id": "6fe66168-c57a-4b7b-b0a8-529944a94ba9",
   "metadata": {},
   "outputs": [],
   "source": []
  }
 ],
 "metadata": {
  "kernelspec": {
   "display_name": "Lambda Notebook (Python 3)",
   "language": "python",
   "name": "lambda-notebook"
  },
  "language_info": {
   "codemirror_mode": {
    "name": "ipython",
    "version": 3
   },
   "file_extension": ".py",
   "mimetype": "text/x-python",
   "name": "python",
   "nbconvert_exporter": "python",
   "pygments_lexer": "ipython3",
   "version": "3.12.0"
  }
 },
 "nbformat": 4,
 "nbformat_minor": 5
}
