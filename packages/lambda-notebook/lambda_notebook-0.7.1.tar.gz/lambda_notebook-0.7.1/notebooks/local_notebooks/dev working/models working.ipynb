{
 "cells": [
  {
   "cell_type": "code",
   "execution_count": 40,
   "id": "b3171441-3ee5-42a9-93c8-8878d6f7b54b",
   "metadata": {},
   "outputs": [],
   "source": [
    "reload_lamb()"
   ]
  },
  {
   "cell_type": "code",
   "execution_count": 41,
   "id": "510b1d1b-3704-4862-a9b5-7792685c1b20",
   "metadata": {},
   "outputs": [],
   "source": [
    "m = meta.meta.Model({'Dance': {'c1': True, 'c2': True},\n",
    "           'Sing': {'c1': False, 'c2': True},\n",
    "           'A': 'c1',\n",
    "           'J': 'c2'},\n",
    "          {tp(\"e\"): {'c1', 'c2'}})\n"
   ]
  },
  {
   "cell_type": "code",
   "execution_count": 13,
   "id": "4035abc4-83a8-424b-9cae-f977de213924",
   "metadata": {},
   "outputs": [
    {
     "data": {
      "text/plain": [
       "Model(assignment={'Dance': {_c1: True, _c2: True},\n",
       "                  'Sing': {_c1: False, _c2: True},\n",
       "                  'A': _c1,\n",
       "                  'J': _c2},\n",
       "      domain={e: {_c1, _c2}},\n",
       "      strict_charfuns=True)"
      ]
     },
     "execution_count": 13,
     "metadata": {},
     "output_type": "execute_result"
    }
   ],
   "source": [
    "m"
   ]
  },
  {
   "cell_type": "code",
   "execution_count": 14,
   "id": "c0e64ed6-c611-43af-93db-84db22a827ea",
   "metadata": {},
   "outputs": [
    {
     "data": {
      "text/latex": [
       "${Dance}^{\\text{\\textsf{[meta]}}}({J}^{\\textsf{c2}}_{e})$"
      ],
      "text/plain": [
       "{_c1: True, _c2: True}(_c2)"
      ]
     },
     "execution_count": 14,
     "metadata": {},
     "output_type": "execute_result"
    }
   ],
   "source": [
    "te(\"Dance(J_e)\", assignment=m)"
   ]
  },
  {
   "cell_type": "code",
   "execution_count": 15,
   "id": "6f304374-d9bd-4009-af02-4ed965f95f1e",
   "metadata": {},
   "outputs": [
    {
     "name": "stdout",
     "output_type": "stream",
     "text": [
      "INFO (core): Coerced guessed type for 'Dance_t' into <e,t>, to match argument 'J_e'\n"
     ]
    },
    {
     "data": {
      "text/html": [
       "<div align=\"left\" style=\"display:table;\"><div style=\"display:table-cell;vertical-align:top;padding-left:5px;padding-right:5px;padding-top:0.2em\"><div style=\"display:table;\"><div style=\"display:table-row;vertical-align:top;\"><div align=\"left\" style=\"display:table;border-collapse:collapse;\"><div style=\"display:table-row;border-bottom:1px solid #848482;\"><div style=\"display:table-cell;padding:0.2em 5px 0.2em 0px;vertical-align:top;\"></div><div style=\"display:table-cell;vertical-align:top;border-right:1px solid #848482;padding-right:5px;;padding-top:0.2em\"><div style=\"display:inline-block;\"><span>${Dance}^{\\text{\\textsf{[meta]}}}({J}^{\\textsf{c2}}_{e})$</span></div></div><div style=\"display:table-cell;vertical-align:top;padding-left:5px;padding-right:5px;padding-top:0.2em\"><div style=\"display:table;\"><div style=\"display:table-row;\"><div style=\"white-space:nowrap; color:blue;\"><span>Reduction</span></div></div></div></div></div><div style=\"display:table-row;\"><div style=\"display:table-cell;padding:0.2em 5px 0.2em 0px;vertical-align:top;\"> 1. </div><div style=\"display:table-cell;vertical-align:top;border-right:1px solid #848482;padding-right:5px;;padding-top:0.2em\"><div style=\"display:inline-block;\"><span>$\\textsf{True}$</span></div></div></div></div></div></div></div></div>"
      ],
      "text/plain": [
       "DisplayNode instance: HTML rendering only"
      ]
     },
     "execution_count": 15,
     "metadata": {},
     "output_type": "execute_result"
    }
   ],
   "source": [
    "m.evaluate(te(\"Dance(J_e)\")).derivation.trace()"
   ]
  },
  {
   "cell_type": "code",
   "execution_count": 16,
   "id": "4912d82b-a380-49e6-9beb-e57d6218f93b",
   "metadata": {},
   "outputs": [
    {
     "name": "stdout",
     "output_type": "stream",
     "text": [
      "INFO (core): Coerced guessed type for 'Dance_t' into <e,t>, to match argument 'x_e'\n"
     ]
    },
    {
     "data": {
      "text/html": [
       "<div align=\"left\" style=\"display:table;\"><div style=\"display:table-cell;vertical-align:top;padding-left:5px;padding-right:5px;padding-top:0.2em\"><div style=\"display:table;\"><div style=\"display:table-row;vertical-align:top;\"><div align=\"left\" style=\"display:table;border-collapse:collapse;\"><div style=\"display:table-row;border-bottom:1px solid #848482;\"><div style=\"display:table-cell;padding:0.2em 5px 0.2em 0px;vertical-align:top;\"></div><div style=\"display:table-cell;vertical-align:top;border-right:1px solid #848482;padding-right:5px;;padding-top:0.2em\"><div style=\"display:inline-block;\"><span>$\\forall{} x_{e} \\: . \\: {Dance}^{\\text{\\textsf{[meta]}}}({x})$</span></div></div><div style=\"display:table-cell;vertical-align:top;padding-left:5px;padding-right:5px;padding-top:0.2em\"><div style=\"display:table;\"><div style=\"display:table-row;\"><div style=\"white-space:nowrap; color:blue;\"><span>∀ evaluation</span></div></div><div style=\"display:table-row;vertical-align:top;\"><div align=\"left\" style=\"display:table;border-collapse:collapse;\"><div style=\"display:table-row;border-bottom:1px solid #848482;\"><div style=\"display:table-cell;padding:0.2em 5px 0.2em 0px;vertical-align:top;\"></div><div style=\"display:table-cell;vertical-align:top;border-right:1px solid #848482;padding-right:5px;;padding-top:0.2em\"><div style=\"display:inline-block;\"><span>${Dance}^{\\text{\\textsf{[meta]}}}({x}_{e})$</span></div></div><div style=\"display:table-cell;vertical-align:top;padding-left:5px;padding-right:5px;padding-top:0.2em\"><div style=\"display:table;\"><div style=\"display:table-row;\"><div style=\"white-space:nowrap; color:blue;\"><span>Reduction (generic on x)</span></div></div></div></div></div><div style=\"display:table-row;\"><div style=\"display:table-cell;padding:0.2em 5px 0.2em 0px;vertical-align:top;\"> 1. </div><div style=\"display:table-cell;vertical-align:top;border-right:1px solid #848482;padding-right:5px;;padding-top:0.2em\"><div style=\"display:inline-block;\"><span>$\\textsf{True}$</span></div></div></div></div></div></div></div></div><div style=\"display:table-row;\"><div style=\"display:table-cell;padding:0.2em 5px 0.2em 0px;vertical-align:top;\"> 1. </div><div style=\"display:table-cell;vertical-align:top;border-right:1px solid #848482;padding-right:5px;;padding-top:0.2em\"><div style=\"display:inline-block;\"><span>$\\textsf{True}$</span></div></div></div></div></div></div></div></div>"
      ],
      "text/plain": [
       "DisplayNode instance: HTML rendering only"
      ]
     },
     "execution_count": 16,
     "metadata": {},
     "output_type": "execute_result"
    }
   ],
   "source": [
    "m.evaluate(te(\"Forall x_e : Dance(x)\")).derivation.trace()"
   ]
  },
  {
   "cell_type": "code",
   "execution_count": 17,
   "id": "89db6541-482b-4763-9649-2710eb7adec8",
   "metadata": {},
   "outputs": [
    {
     "name": "stdout",
     "output_type": "stream",
     "text": [
      "INFO (core): Coerced guessed type for 'Sing_t' into <e,t>, to match argument 'x_e'\n"
     ]
    },
    {
     "data": {
      "text/html": [
       "<div align=\"left\" style=\"display:table;\"><div style=\"display:table-cell;vertical-align:top;padding-left:5px;padding-right:5px;padding-top:0.2em\"><div style=\"display:table;\"><div style=\"display:table-row;vertical-align:top;\"><div align=\"left\" style=\"display:table;border-collapse:collapse;\"><div style=\"display:table-row;border-bottom:1px solid #848482;\"><div style=\"display:table-cell;padding:0.2em 5px 0.2em 0px;vertical-align:top;\"></div><div style=\"display:table-cell;vertical-align:top;border-right:1px solid #848482;padding-right:5px;;padding-top:0.2em\"><div style=\"display:inline-block;\"><span>$\\forall{} x_{e} \\: . \\: {Sing}^{\\text{\\textsf{[meta]}}}({x})$</span></div></div><div style=\"display:table-cell;vertical-align:top;padding-left:5px;padding-right:5px;padding-top:0.2em\"><div style=\"display:table;\"><div style=\"display:table-row;\"><div style=\"white-space:nowrap; color:blue;\"><span>counterexample for ∀x</span></div></div><div style=\"display:table-row;vertical-align:top;\"><div align=\"left\" style=\"display:table;border-collapse:collapse;\"><div style=\"display:table-row;border-bottom:1px solid #848482;\"><div style=\"display:table-cell;padding:0.2em 5px 0.2em 0px;vertical-align:top;\"></div><div style=\"display:table-cell;vertical-align:top;border-right:1px solid #848482;padding-right:5px;;padding-top:0.2em\"><div style=\"display:inline-block;\"><span>${Sing}^{\\text{\\textsf{[meta]}}}({x}^{A/\\textsf{c1}}_{e})$</span></div></div><div style=\"display:table-cell;vertical-align:top;padding-left:5px;padding-right:5px;padding-top:0.2em\"><div style=\"display:table;\"><div style=\"display:table-row;\"><div style=\"white-space:nowrap; color:blue;\"><span>Reduction</span></div></div></div></div></div><div style=\"display:table-row;\"><div style=\"display:table-cell;padding:0.2em 5px 0.2em 0px;vertical-align:top;\"> 1. </div><div style=\"display:table-cell;vertical-align:top;border-right:1px solid #848482;padding-right:5px;;padding-top:0.2em\"><div style=\"display:inline-block;\"><span>$\\textsf{False}$</span></div></div></div></div></div></div></div></div><div style=\"display:table-row;\"><div style=\"display:table-cell;padding:0.2em 5px 0.2em 0px;vertical-align:top;\"> 1. </div><div style=\"display:table-cell;vertical-align:top;border-right:1px solid #848482;padding-right:5px;;padding-top:0.2em\"><div style=\"display:inline-block;\"><span>$\\textsf{False}$</span></div></div></div></div></div></div></div></div>"
      ],
      "text/plain": [
       "DisplayNode instance: HTML rendering only"
      ]
     },
     "execution_count": 17,
     "metadata": {},
     "output_type": "execute_result"
    }
   ],
   "source": [
    "m.evaluate(te(\"Forall x_e : Sing(x)\")).derivation.trace()"
   ]
  },
  {
   "cell_type": "code",
   "execution_count": 18,
   "id": "a82f55e9-603a-490a-94ce-4babd83c61e5",
   "metadata": {},
   "outputs": [
    {
     "name": "stdout",
     "output_type": "stream",
     "text": [
      "INFO (core): Coerced guessed type for 'Sing_t' into <e,t>, to match argument 'x_e'\n",
      "INFO (core): Coerced guessed type for 'Dance_t' into <e,t>, to match argument 'J_e'\n"
     ]
    },
    {
     "data": {
      "text/latex": [
       "${Dance}({J}_{e}) \\wedge{} \\neg{} (\\forall{} x_{e} \\: . \\: {Sing}({x}))$"
      ],
      "text/plain": [
       "(Dance_<e,t>(J_e) ∧ ¬(Forall x_e: Sing_<e,t>(x_e)))"
      ]
     },
     "execution_count": 18,
     "metadata": {},
     "output_type": "execute_result"
    }
   ],
   "source": [
    "%te Dance(J_e) & ~(Forall x_e : Sing(x))"
   ]
  },
  {
   "cell_type": "code",
   "execution_count": 19,
   "id": "becabe79-49b1-439d-8548-ae4c8b1cc56c",
   "metadata": {},
   "outputs": [
    {
     "name": "stdout",
     "output_type": "stream",
     "text": [
      "INFO (core): Coerced guessed type for 'Sing_t' into <e,t>, to match argument 'x_e'\n",
      "INFO (core): Coerced guessed type for 'Dance_t' into <e,t>, to match argument 'J_e'\n"
     ]
    },
    {
     "data": {
      "text/html": [
       "<div align=\"left\" style=\"display:table;\"><div style=\"display:table-cell;vertical-align:top;padding-left:5px;padding-right:5px;padding-top:0.2em\"><div style=\"display:table;\"><div style=\"display:table-row;vertical-align:top;\"><div align=\"left\" style=\"display:table;border-collapse:collapse;\"><div style=\"display:table-row;border-bottom:1px solid #848482;\"><div style=\"display:table-cell;padding:0.2em 5px 0.2em 0px;vertical-align:top;\"></div><div style=\"display:table-cell;vertical-align:top;border-right:1px solid #848482;padding-right:5px;;padding-top:0.2em\"><div style=\"display:inline-block;\"><span>${Dance}^{\\text{\\textsf{[meta]}}}({J}^{\\textsf{c2}}_{e}) \\wedge{} \\neg{} (\\forall{} x_{e} \\: . \\: {Sing}^{\\text{\\textsf{[meta]}}}({x}))$</span></div></div><div style=\"display:table-cell;vertical-align:top;padding-left:5px;padding-right:5px;padding-top:0.2em\"><div style=\"display:table;\"><div style=\"display:table-row;\"><div style=\"white-space:nowrap; color:blue;\"><span>[Reduction]</span></div></div></div></div></div><div style=\"display:table-row;border-bottom:1px solid #848482;\"><div style=\"display:table-cell;padding:0.2em 5px 0.2em 0px;vertical-align:top;\"> 1. </div><div style=\"display:table-cell;vertical-align:top;border-right:1px solid #848482;padding-right:5px;;padding-top:0.2em\"><div style=\"display:inline-block;\"><span>$\\textsf{True} \\wedge{} \\neg{} (\\forall{} x_{e} \\: . \\: {Sing}^{\\text{\\textsf{[meta]}}}({x}))$</span></div></div><div style=\"display:table-cell;vertical-align:top;padding-left:5px;padding-right:5px;padding-top:0.2em\"><div style=\"display:table;\"><div style=\"display:table-row;\"><div style=\"white-space:nowrap; color:blue;\"><span>Recursive simplification of operand 1</span></div></div><div style=\"display:table-row;vertical-align:top;\"><div align=\"left\" style=\"display:table;border-collapse:collapse;\"><div style=\"display:table-row;border-bottom:1px solid #848482;\"><div style=\"display:table-cell;padding:0.2em 5px 0.2em 0px;vertical-align:top;\"></div><div style=\"display:table-cell;vertical-align:top;border-right:1px solid #848482;padding-right:5px;;padding-top:0.2em\"><div style=\"display:inline-block;\"><span>$\\neg{} (\\forall{} x_{e} \\: . \\: {Sing}^{\\text{\\textsf{[meta]}}}({x}))$</span></div></div><div style=\"display:table-cell;vertical-align:top;padding-left:5px;padding-right:5px;padding-top:0.2em\"><div style=\"display:table;\"><div style=\"display:table-row;\"><div style=\"white-space:nowrap; color:blue;\"><span>[counterexample for ∀x]</span></div></div><div style=\"display:table-row;vertical-align:top;\"><div align=\"left\" style=\"display:table;border-collapse:collapse;\"><div style=\"display:table-row;border-bottom:1px solid #848482;\"><div style=\"display:table-cell;padding:0.2em 5px 0.2em 0px;vertical-align:top;\"></div><div style=\"display:table-cell;vertical-align:top;border-right:1px solid #848482;padding-right:5px;;padding-top:0.2em\"><div style=\"display:inline-block;\"><span>${Sing}^{\\text{\\textsf{[meta]}}}({x}^{A/\\textsf{c1}}_{e})$</span></div></div><div style=\"display:table-cell;vertical-align:top;padding-left:5px;padding-right:5px;padding-top:0.2em\"><div style=\"display:table;\"><div style=\"display:table-row;\"><div style=\"white-space:nowrap; color:blue;\"><span>Reduction</span></div></div></div></div></div><div style=\"display:table-row;\"><div style=\"display:table-cell;padding:0.2em 5px 0.2em 0px;vertical-align:top;\"> 1. </div><div style=\"display:table-cell;vertical-align:top;border-right:1px solid #848482;padding-right:5px;;padding-top:0.2em\"><div style=\"display:inline-block;\"><span>$\\textsf{False}$</span></div></div></div></div></div></div></div></div><div style=\"display:table-row;border-bottom:1px solid #848482;\"><div style=\"display:table-cell;padding:0.2em 5px 0.2em 0px;vertical-align:top;\"> 1. </div><div style=\"display:table-cell;vertical-align:top;border-right:1px solid #848482;padding-right:5px;;padding-top:0.2em\"><div style=\"display:inline-block;\"><span>$\\neg{} \\textsf{False}$</span></div></div><div style=\"display:table-cell;vertical-align:top;padding-left:5px;padding-right:5px;padding-top:0.2em\"><div style=\"display:table;\"><div style=\"display:table-row;\"><div style=\"white-space:nowrap; color:blue;\"><span>negation elimination</span></div></div></div></div></div><div style=\"display:table-row;\"><div style=\"display:table-cell;padding:0.2em 5px 0.2em 0px;vertical-align:top;\"> 2. </div><div style=\"display:table-cell;vertical-align:top;border-right:1px solid #848482;padding-right:5px;;padding-top:0.2em\"><div style=\"display:inline-block;\"><span>$\\textsf{True}$</span></div></div></div></div></div></div></div></div><div style=\"display:table-row;border-bottom:1px solid #848482;\"><div style=\"display:table-cell;padding:0.2em 5px 0.2em 0px;vertical-align:top;\"> 2. </div><div style=\"display:table-cell;vertical-align:top;border-right:1px solid #848482;padding-right:5px;;padding-top:0.2em\"><div style=\"display:inline-block;\"><span>$\\textsf{True} \\wedge{} \\textsf{True}$</span></div></div><div style=\"display:table-cell;vertical-align:top;padding-left:5px;padding-right:5px;padding-top:0.2em\"><div style=\"display:table;\"><div style=\"display:table-row;\"><div style=\"white-space:nowrap; color:blue;\"><span>conjunction</span></div></div></div></div></div><div style=\"display:table-row;\"><div style=\"display:table-cell;padding:0.2em 5px 0.2em 0px;vertical-align:top;\"> 3. </div><div style=\"display:table-cell;vertical-align:top;border-right:1px solid #848482;padding-right:5px;;padding-top:0.2em\"><div style=\"display:inline-block;\"><span>$\\textsf{True}$</span></div></div></div></div></div></div></div></div>"
      ],
      "text/plain": [
       "DisplayNode instance: HTML rendering only"
      ]
     },
     "execution_count": 19,
     "metadata": {},
     "output_type": "execute_result"
    }
   ],
   "source": [
    "m.evaluate(te(\"Dance(J_e) & ~(Forall x_e : Sing(x))\")).derivation.trace()"
   ]
  },
  {
   "cell_type": "code",
   "execution_count": 20,
   "id": "74241611-458b-4bfe-b6a3-0ae184030296",
   "metadata": {},
   "outputs": [
    {
     "name": "stdout",
     "output_type": "stream",
     "text": [
      "INFO (core): Coerced guessed type for 'Sing_t' into <e,t>, to match argument '_c4'\n"
     ]
    },
    {
     "data": {
      "text/markdown": [
       "<span style=\"color:red\">**DomainError**</span>: `'_c4'`, with domain `Subdomain {'_c2', '_c1'} of SimpleInfiniteSet('c')`"
      ],
      "text/plain": [
       "`'_c4'`, with domain `Subdomain {'_c2', '_c1'} of SimpleInfiniteSet('c')`"
      ]
     },
     "metadata": {},
     "output_type": "display_data"
    }
   ],
   "source": [
    "with lamb.errors():\n",
    "    m.evaluate(te(\"Sing(_c4)\"))"
   ]
  },
  {
   "cell_type": "code",
   "execution_count": null,
   "id": "5c812ba3-2188-4dc8-8723-408f560d7663",
   "metadata": {},
   "outputs": [],
   "source": []
  },
  {
   "cell_type": "code",
   "execution_count": null,
   "id": "7052bd15-bb38-4381-b02a-fe53d54e6c73",
   "metadata": {},
   "outputs": [],
   "source": []
  },
  {
   "cell_type": "code",
   "execution_count": 21,
   "id": "4c29146e-eb61-45fd-b486-fbd4a328c36b",
   "metadata": {},
   "outputs": [],
   "source": [
    "m2 = meta.meta.Model({'Dance': {'c1': True, 'c2': True},\n",
    "           'Sing': {'c1': False, 'c2': True},\n",
    "           'A': 'c1',\n",
    "           'J': 'c2'},\n",
    "          {'c1', 'c2', 'c3'},\n",
    "         strict_charfuns=True)\n"
   ]
  },
  {
   "cell_type": "code",
   "execution_count": 22,
   "id": "d05c8b6c-2e2e-4ec0-a05b-80782aebc2d8",
   "metadata": {},
   "outputs": [
    {
     "data": {
      "text/plain": [
       "Model(assignment={'Dance': {A: True, J: True},\n",
       "                  'Sing': {A: False, J: True},\n",
       "                  'A': _c1,\n",
       "                  'J': _c2},\n",
       "      domain={e: {_c1, _c2, _c3}},\n",
       "      strict_charfuns=True)"
      ]
     },
     "execution_count": 22,
     "metadata": {},
     "output_type": "execute_result"
    }
   ],
   "source": [
    "m2"
   ]
  },
  {
   "cell_type": "code",
   "execution_count": 23,
   "id": "69347c71-138c-4502-a763-8b4a7240d51c",
   "metadata": {},
   "outputs": [
    {
     "name": "stdout",
     "output_type": "stream",
     "text": [
      "INFO (core): Coerced guessed type for 'Dance_t' into <e,t>, to match argument 'x_e'\n",
      "INFO (core): Coerced guessed type for 'Dance_t' into <e,t>, to match argument 'J_e'\n"
     ]
    },
    {
     "data": {
      "text/markdown": [
       "<span style=\"color:red\">**OutOfDomain**</span>: `_c3` missing from function domain (`frozendict({'_c1': True, '_c2': True})`)"
      ],
      "text/plain": [
       "`_c3` missing from function domain (`frozendict({'_c1': True, '_c2': True})`)"
      ]
     },
     "metadata": {},
     "output_type": "display_data"
    }
   ],
   "source": [
    "with lamb.errors():\n",
    "    m2.evaluate(te(\"Dance(J_e) & ~(Forall x_e : Dance(x))\")).derivation.trace(all_recursion=True)"
   ]
  },
  {
   "cell_type": "code",
   "execution_count": null,
   "id": "e37c8a08-cea2-4a55-bb34-bd9f0822b352",
   "metadata": {},
   "outputs": [],
   "source": []
  },
  {
   "cell_type": "code",
   "execution_count": null,
   "id": "b2774234-1644-4ade-9747-1e0bdfe5e90d",
   "metadata": {},
   "outputs": [],
   "source": []
  },
  {
   "cell_type": "code",
   "execution_count": 242,
   "id": "3798342b-d4bd-4dd3-b9d7-2823d649e71e",
   "metadata": {},
   "outputs": [],
   "source": [
    "reload_lamb()"
   ]
  },
  {
   "cell_type": "code",
   "execution_count": 243,
   "id": "631b0e7b-34ae-46de-8241-edef251f437a",
   "metadata": {},
   "outputs": [],
   "source": [
    "m = meta.meta.Model(\n",
    "        {'Dance': {'c1': True, 'c2': True},\n",
    "         'Sing': {'c1': False, 'c2': True},\n",
    "         'A': 'c1',\n",
    "         'J': 'c2'},\n",
    "        {tp(\"e\"): {'c1', 'c2'}})\n"
   ]
  },
  {
   "cell_type": "code",
   "execution_count": 244,
   "id": "396a670a-6cbd-40a0-a32e-505b62b30347",
   "metadata": {},
   "outputs": [
    {
     "data": {
      "text/markdown": [
       "**Domain**: $D_{e} = \\{{\\textsf{c2}}_{e}, {\\textsf{c1}}_{e}\\}$<br /> **Valuations**:<br />$\\left[\\begin{array}{lll} Dance & \\rightarrow & {\\textsf{Fun[\\{c1:True,c2:True\\}]}}_{\\left\\langle{}e,t\\right\\rangle{}} \\\\\n",
       "Sing & \\rightarrow & {\\textsf{Fun[\\{c1:False,c2:True\\}]}}_{\\left\\langle{}e,t\\right\\rangle{}} \\\\\n",
       "A & \\rightarrow & {\\textsf{c1}}_{e} \\\\\n",
       "J & \\rightarrow & {\\textsf{c2}}_{e} \\\\ \\end{array}\\right]$"
      ],
      "text/plain": [
       "Model(assignment={'Dance': {_c1: True, _c2: True},\n",
       "                  'Sing': {_c1: False, _c2: True},\n",
       "                  'A': _c1,\n",
       "                  'J': _c2},\n",
       "      domain={e: {_c1, _c2}},\n",
       "      strict_charfuns=True)"
      ]
     },
     "execution_count": 244,
     "metadata": {},
     "output_type": "execute_result"
    }
   ],
   "source": [
    "m"
   ]
  },
  {
   "cell_type": "code",
   "execution_count": 245,
   "id": "6d6a1ba7-5bf1-4193-8ea6-495548cb2301",
   "metadata": {},
   "outputs": [
    {
     "data": {
      "text/plain": [
       "'$\\\\left[\\\\begin{array}{lll} Dance & \\\\rightarrow & {\\\\textsf{Fun[\\\\{c1:True,c2:True\\\\}]}}_{\\\\left\\\\langle{}e,t\\\\right\\\\rangle{}} \\\\\\\\\\nSing & \\\\rightarrow & {\\\\textsf{Fun[\\\\{c1:False,c2:True\\\\}]}}_{\\\\left\\\\langle{}e,t\\\\right\\\\rangle{}} \\\\\\\\\\nA & \\\\rightarrow & {\\\\textsf{c1}}_{e} \\\\\\\\\\nJ & \\\\rightarrow & {\\\\textsf{c2}}_{e} \\\\\\\\ \\\\end{array}\\\\right]$'"
      ]
     },
     "execution_count": 245,
     "metadata": {},
     "output_type": "execute_result"
    }
   ],
   "source": [
    "m.assignment.text(linearized=False, rich=True)"
   ]
  },
  {
   "cell_type": "code",
   "execution_count": 246,
   "id": "26371b9e-5b0d-4d22-8d67-e11362342232",
   "metadata": {},
   "outputs": [
    {
     "name": "stdout",
     "output_type": "stream",
     "text": [
      "Model(assignment={'Dance': {_c1: True, _c2: True},\n",
      "                  'Sing': {_c1: False, _c2: True},\n",
      "                  'A': _c1,\n",
      "                  'J': _c2},\n",
      "      domain={e: {_c1, _c2}},\n",
      "      strict_charfuns=True)\n"
     ]
    }
   ],
   "source": [
    "import IPython\n",
    "IPython.lib.pretty.pprint(m)"
   ]
  },
  {
   "cell_type": "code",
   "execution_count": 247,
   "id": "31d0a7af-f460-4aad-89ee-8927af723857",
   "metadata": {},
   "outputs": [
    {
     "data": {
      "text/latex": [
       "$\\left[\\begin{array}{lll} Dance & \\rightarrow & {\\textsf{Fun[\\{c1:True,c2:True\\}]}}_{\\left\\langle{}e,t\\right\\rangle{}} \\\\\n",
       "Sing & \\rightarrow & {\\textsf{Fun[\\{c1:False,c2:True\\}]}}_{\\left\\langle{}e,t\\right\\rangle{}} \\\\\n",
       "A & \\rightarrow & {\\textsf{c1}}_{e} \\\\\n",
       "J & \\rightarrow & {\\textsf{c2}}_{e} \\\\ \\end{array}\\right]$"
      ],
      "text/plain": [
       "[{_c1: True, _c2: True}/Dance,{_c1: False, _c2: True}/Sing,_c1/A,_c2/J]"
      ]
     },
     "execution_count": 247,
     "metadata": {},
     "output_type": "execute_result"
    }
   ],
   "source": [
    "m.assignment"
   ]
  },
  {
   "cell_type": "code",
   "execution_count": null,
   "id": "0a5a79a8-238c-4c28-91eb-31af9bf4a600",
   "metadata": {},
   "outputs": [],
   "source": []
  },
  {
   "cell_type": "code",
   "execution_count": 248,
   "id": "62501055-a889-47ca-b812-5a66535213b8",
   "metadata": {},
   "outputs": [
    {
     "data": {
      "text/latex": [
       "$\\left[\\begin{array}{lll} Dance & \\rightarrow & {\\textsf{Fun[\\{c1:True,c2:True\\}]}}_{\\left\\langle{}e,t\\right\\rangle{}} \\\\\n",
       "Sing & \\rightarrow & {\\textsf{Fun[\\{c1:False,c2:True\\}]}}_{\\left\\langle{}e,t\\right\\rangle{}} \\\\\n",
       "A & \\rightarrow & {\\textsf{c1}}_{e} \\\\\n",
       "J & \\rightarrow & {\\textsf{c2}}_{e} \\\\ \\end{array}\\right]$"
      ],
      "text/plain": [
       "[{_c1: True, _c2: True}/Dance,{_c1: False, _c2: True}/Sing,_c1/A,_c2/J]"
      ]
     },
     "execution_count": 248,
     "metadata": {},
     "output_type": "execute_result"
    }
   ],
   "source": [
    "m.assignment"
   ]
  },
  {
   "cell_type": "code",
   "execution_count": 249,
   "id": "ce59c92e-3e37-4473-8232-4ec7b7f4fe44",
   "metadata": {},
   "outputs": [
    {
     "data": {
      "text/latex": [
       "${\\textsf{c1}}_{e}$"
      ],
      "text/plain": [
       "_c1"
      ]
     },
     "execution_count": 249,
     "metadata": {},
     "output_type": "execute_result"
    }
   ],
   "source": [
    "%te _c1"
   ]
  },
  {
   "cell_type": "code",
   "execution_count": 250,
   "id": "35215409-a2f8-4bc7-aaf7-8e369e3d2560",
   "metadata": {},
   "outputs": [
    {
     "data": {
      "text/latex": [
       "${\\textsf{Fun[\\{c1:True,c2:True\\}]}}_{\\left\\langle{}e,t\\right\\rangle{}}$"
      ],
      "text/plain": [
       "{_c1: True, _c2: True}"
      ]
     },
     "execution_count": 250,
     "metadata": {},
     "output_type": "execute_result"
    }
   ],
   "source": [
    "m['Dance']"
   ]
  },
  {
   "cell_type": "code",
   "execution_count": 251,
   "id": "92fe0b97-c009-4e3b-b4d2-cf5e1ebca883",
   "metadata": {},
   "outputs": [
    {
     "data": {
      "text/latex": [
       "${\\textsf{A}}_{e}$"
      ],
      "text/plain": [
       "_c1"
      ]
     },
     "metadata": {},
     "output_type": "display_data"
    },
    {
     "data": {
      "text/latex": [
       "${\\textsf{A}}_{e}$"
      ],
      "text/plain": [
       "_c1"
      ]
     },
     "metadata": {},
     "output_type": "display_data"
    },
    {
     "data": {
      "text/latex": [
       "${A}_{t}$"
      ],
      "text/plain": [
       "A_t"
      ]
     },
     "metadata": {},
     "output_type": "display_data"
    },
    {
     "data": {
      "text/markdown": [
       "${Dance}\\:=\\:{\\textsf{Fun[\\{c1:True,c2:True\\}]}}_{\\left\\langle{}e,t\\right\\rangle{}}$<br />\n",
       "${Sing}\\:=\\:{\\textsf{Fun[\\{c1:False,c2:True\\}]}}_{\\left\\langle{}e,t\\right\\rangle{}}$<br />\n",
       "${A}_{e}\\:=\\:{\\textsf{c1}}_{e}$<br />\n",
       "${J}_{e}\\:=\\:{\\textsf{c2}}_{e}$"
      ],
      "text/plain": [
       "<lamb.lang.Lexicon at 0x10ccff740>"
      ]
     },
     "metadata": {},
     "output_type": "display_data"
    },
    {
     "name": "stdout",
     "output_type": "stream",
     "text": [
      "Model(assignment={'Dance': {_c1: True, _c2: True},\n",
      "                  'Sing': {_c1: False, _c2: True},\n",
      "                  'A': _c1,\n",
      "                  'J': _c2},\n",
      "      domain={e: {_c1, _c2}},\n",
      "      strict_charfuns=True)\n"
     ]
    },
    {
     "data": {
      "text/markdown": [
       "**Domain**: $D_{e} = \\{{\\textsf{c2}}_{e}, {\\textsf{c1}}_{e}\\}$<br /> **Valuations**:<br />$\\left[\\begin{array}{lll} Dance & \\rightarrow & {\\textsf{Fun[\\{c1:True,c2:True\\}]}}_{\\left\\langle{}e,t\\right\\rangle{}} \\\\\n",
       "Sing & \\rightarrow & {\\textsf{Fun[\\{c1:False,c2:True\\}]}}_{\\left\\langle{}e,t\\right\\rangle{}} \\\\\n",
       "A & \\rightarrow & {\\textsf{c1}}_{e} \\\\\n",
       "J & \\rightarrow & {\\textsf{c2}}_{e} \\\\ \\end{array}\\right]$"
      ],
      "text/plain": [
       "Model(assignment={'Dance': {_c1: True, _c2: True},\n",
       "                  'Sing': {_c1: False, _c2: True},\n",
       "                  'A': _c1,\n",
       "                  'J': _c2},\n",
       "      domain={e: {_c1, _c2}},\n",
       "      strict_charfuns=True)"
      ]
     },
     "metadata": {},
     "output_type": "display_data"
    }
   ],
   "source": [
    "with m.under():\n",
    "    display(te(\"_c1\"))\n",
    "    x = %te globals A\n",
    "    display(x)\n",
    "    y = %te A\n",
    "    display(y)\n",
    "    display(lang.get_system().lexicon)\n",
    "    IPython.lib.pretty.pprint(m)\n",
    "    display(m)"
   ]
  },
  {
   "cell_type": "code",
   "execution_count": 252,
   "id": "85a77407-f5bb-4942-a585-f9200dab6952",
   "metadata": {},
   "outputs": [
    {
     "data": {
      "text/plain": [
       "\"Model(assignment={'Dance': {_c1: True, _c2: True}, 'Sing': {_c1: False, _c2: True}, 'A': _c1, 'J': _c2}, domain={e: {_c2, _c1}}, strict_charfuns=True)\""
      ]
     },
     "execution_count": 252,
     "metadata": {},
     "output_type": "execute_result"
    }
   ],
   "source": [
    "repr(m)"
   ]
  },
  {
   "cell_type": "code",
   "execution_count": null,
   "id": "f8087698-4484-421d-adb4-0a72a3c4e7b9",
   "metadata": {},
   "outputs": [],
   "source": []
  }
 ],
 "metadata": {
  "kernelspec": {
   "display_name": "Lambda Notebook (Python 3)",
   "language": "python",
   "name": "lambda-notebook"
  },
  "language_info": {
   "codemirror_mode": {
    "name": "ipython",
    "version": 3
   },
   "file_extension": ".py",
   "mimetype": "text/x-python",
   "name": "python",
   "nbconvert_exporter": "python",
   "pygments_lexer": "ipython3",
   "version": "3.10.14"
  }
 },
 "nbformat": 4,
 "nbformat_minor": 5
}
