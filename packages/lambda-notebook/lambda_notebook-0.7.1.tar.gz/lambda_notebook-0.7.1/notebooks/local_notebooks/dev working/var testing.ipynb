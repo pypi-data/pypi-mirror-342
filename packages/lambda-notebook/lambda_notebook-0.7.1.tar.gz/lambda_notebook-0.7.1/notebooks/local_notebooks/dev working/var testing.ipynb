{
 "cells": [
  {
   "cell_type": "markdown",
   "id": "39657459-481e-4f06-8e0d-9ceb65c6a528",
   "metadata": {},
   "source": [
    "This notebook was for working through issues with variable substitution (+let polymorphism)"
   ]
  },
  {
   "cell_type": "code",
   "execution_count": 46,
   "id": "526baad4-9cc4-4003-a09e-480127669ef3",
   "metadata": {},
   "outputs": [],
   "source": [
    "reload_lamb()\n",
    "# utils._debug_suppress = True"
   ]
  },
  {
   "cell_type": "code",
   "execution_count": 47,
   "id": "03133d4c-725a-443d-8230-765a4136f51d",
   "metadata": {},
   "outputs": [
    {
     "name": "stdout",
     "output_type": "stream",
     "text": [
      "INFO (core): Coerced guessed type for 'P_t' into <e,t>, to match argument 'x_e'\n"
     ]
    },
    {
     "data": {
      "text/markdown": [
       "${apply}_{\\left\\langle{}\\left\\langle{}X,Y\\right\\rangle{},\\left\\langle{}X,Y\\right\\rangle{}\\right\\rangle{}}\\:=\\:\\lambda{} f_{\\left\\langle{}X,Y\\right\\rangle{}} \\: . \\: \\lambda{} x_{X} \\: . \\: {f}({x})$<br />\n",
       "${fun}_{\\left\\langle{}e,t\\right\\rangle{}}\\:=\\:\\lambda{} x_{e} \\: . \\: {P}({x})$<br />\n",
       "${test}_{Y'}\\:=\\:{g}_{\\left\\langle{}\\left\\langle{}e,t\\right\\rangle{},Y'\\right\\rangle{}}(\\lambda{} x_{e} \\: . \\: {P}({x}))$<br />\n",
       "${test2}_{\\left\\langle{}e,t\\right\\rangle{}}\\:=\\:\\lambda{} x_{e} \\: . \\: {P}({x})$"
      ],
      "text/plain": [
       "apply_<<X,Y>,<X,Y>> = (λ f_<X,Y>: (λ x_X: f_<X,Y>(x_X)))\n",
       "fun_<e,t> = (λ x_e: P_<e,t>(x_e))\n",
       "test_Y1 = g_<<e,t>,Y1>(λ x_e: P_<e,t>(x_e))\n",
       "test2_<e,t> = (λ x_e: P_<e,t>(x_e))"
      ]
     },
     "metadata": {},
     "output_type": "display_data"
    }
   ],
   "source": [
    "%%lamb\n",
    "apply = L f_<X,Y> : L x_X : f(x)\n",
    "fun = L x_e : P(x)\n",
    "test = g_<X1,Y1>(apply(fun))\n",
    "test2 = apply(fun)"
   ]
  },
  {
   "cell_type": "code",
   "execution_count": 48,
   "id": "7d06590f-2b8e-4839-afd3-c98c4cf900a8",
   "metadata": {},
   "outputs": [
    {
     "data": {
      "text/html": [
       "<div align=\"left\" style=\"display:table;\"><div style=\"display:table-cell;vertical-align:top;padding-left:5px;padding-right:5px;padding-top:0.2em\"><div style=\"display:table;\"><div style=\"display:table-row;vertical-align:top;\"><div align=\"left\" style=\"display:table;border-collapse:collapse;\"><div style=\"display:table-row;border-bottom:1px solid #848482;\"><div style=\"display:table-cell;padding:0.2em 5px 0.2em 0px;vertical-align:top;\"></div><div style=\"display:table-cell;vertical-align:top;border-right:1px solid #848482;padding-right:5px;;padding-top:0.2em\"><div style=\"display:inline-block;\"><span>${g}_{\\left\\langle{}X',Y'\\right\\rangle{}}({apply}_{\\left\\langle{}\\left\\langle{}e,t\\right\\rangle{},\\left\\langle{}e,t\\right\\rangle{}\\right\\rangle{}}({fun}_{\\left\\langle{}e,t\\right\\rangle{}}))$</span></div></div><div style=\"display:table-cell;vertical-align:top;padding-left:5px;padding-right:5px;padding-top:0.2em\"><div style=\"display:table;\"><div style=\"display:table-row;\"><div style=\"white-space:nowrap; color:blue;\"><span>Type inference</span></div></div></div></div></div><div style=\"display:table-row;border-bottom:1px solid #848482;\"><div style=\"display:table-cell;padding:0.2em 5px 0.2em 0px;vertical-align:top;\"> 1. </div><div style=\"display:table-cell;vertical-align:top;border-right:1px solid #848482;padding-right:5px;;padding-top:0.2em\"><div style=\"display:inline-block;\"><span>${g}_{\\left\\langle{}\\left\\langle{}e,t\\right\\rangle{},Y'\\right\\rangle{}}({apply}_{\\left\\langle{}\\left\\langle{}e,t\\right\\rangle{},\\left\\langle{}e,t\\right\\rangle{}\\right\\rangle{}}({fun}_{\\left\\langle{}e,t\\right\\rangle{}}))$</span></div></div><div style=\"display:table-cell;vertical-align:top;padding-left:5px;padding-right:5px;padding-top:0.2em\"><div style=\"display:table;\"><div style=\"display:table-row;\"><div style=\"white-space:nowrap; color:blue;\"><span>Variable substitution from context</span></div></div></div></div></div><div style=\"display:table-row;border-bottom:1px solid #848482;\"><div style=\"display:table-cell;padding:0.2em 5px 0.2em 0px;vertical-align:top;\"> 2. </div><div style=\"display:table-cell;vertical-align:top;border-right:1px solid #848482;padding-right:5px;;padding-top:0.2em\"><div style=\"display:inline-block;\"><span>${g}_{\\left\\langle{}\\left\\langle{}e,t\\right\\rangle{},Y'\\right\\rangle{}}({[\\lambda{} f_{\\left\\langle{}e,t\\right\\rangle{}} \\: . \\: \\lambda{} x_{e} \\: . \\: {f}({x})]}(\\lambda{} x_{e} \\: . \\: {P}({x})))$</span></div></div><div style=\"display:table-cell;vertical-align:top;padding-left:5px;padding-right:5px;padding-top:0.2em\"><div style=\"display:table;\"><div style=\"display:table-row;\"><div style=\"white-space:nowrap; color:blue;\"><span>recursive reduction of subexpression 1</span></div></div></div></div></div><div style=\"display:table-row;\"><div style=\"display:table-cell;padding:0.2em 5px 0.2em 0px;vertical-align:top;\"> 3. </div><div style=\"display:table-cell;vertical-align:top;border-right:1px solid #848482;padding-right:5px;;padding-top:0.2em\"><div style=\"display:inline-block;\"><span>${g}_{\\left\\langle{}\\left\\langle{}e,t\\right\\rangle{},Y'\\right\\rangle{}}(\\lambda{} x_{e} \\: . \\: {P}({x}))$</span></div></div></div></div></div></div></div></div>"
      ],
      "text/plain": [
       " 1. g_<X1,Y1>(apply_<<e,t>,<e,t>>(fun_<e,t>))    (Type inference)\n",
       " 2. g_<<e,t>,Y1>(apply_<<e,t>,<e,t>>(fun_<e,t>))    (Variable substitution from context)\n",
       " 3. g_<<e,t>,Y1>((λ f_<e,t>: (λ x_e: f_<e,t>(x_e)))(λ x_e: P_<e,t>(x_e)))    (recursive reduction of subexpression 1)\n",
       " 4. g_<<e,t>,Y1>(λ x_e: P_<e,t>(x_e))"
      ]
     },
     "execution_count": 48,
     "metadata": {},
     "output_type": "execute_result"
    }
   ],
   "source": [
    "test.derivation"
   ]
  },
  {
   "cell_type": "code",
   "execution_count": 49,
   "id": "f6aff87a-61aa-46ac-bbb0-0d38de3d9e9b",
   "metadata": {},
   "outputs": [
    {
     "data": {
      "text/html": [
       "<div align=\"left\" style=\"display:table;\"><div style=\"display:table-cell;vertical-align:top;padding-left:5px;padding-right:5px;padding-top:0.2em\"><div style=\"display:table;\"><div style=\"display:table-row;vertical-align:top;\"><div align=\"left\" style=\"display:table;border-collapse:collapse;\"><div style=\"display:table-row;border-bottom:1px solid #848482;\"><div style=\"display:table-cell;padding:0.2em 5px 0.2em 0px;vertical-align:top;\"></div><div style=\"display:table-cell;vertical-align:top;border-right:1px solid #848482;padding-right:5px;;padding-top:0.2em\"><div style=\"display:inline-block;\"><span>${apply}_{\\forall{}\\left\\langle{}\\left\\langle{}X,Y\\right\\rangle{},\\left\\langle{}X,Y\\right\\rangle{}\\right\\rangle{}}({fun}_{\\left\\langle{}e,t\\right\\rangle{}})$</span></div></div><div style=\"display:table-cell;vertical-align:top;padding-left:5px;padding-right:5px;padding-top:0.2em\"><div style=\"display:table;\"><div style=\"display:table-row;\"><div style=\"white-space:nowrap; color:blue;\"><span>Type inference</span></div></div></div></div></div><div style=\"display:table-row;border-bottom:1px solid #848482;\"><div style=\"display:table-cell;padding:0.2em 5px 0.2em 0px;vertical-align:top;\"> 1. </div><div style=\"display:table-cell;vertical-align:top;border-right:1px solid #848482;padding-right:5px;;padding-top:0.2em\"><div style=\"display:inline-block;\"><span>${apply}_{\\left\\langle{}\\left\\langle{}e,t\\right\\rangle{},\\left\\langle{}e,t\\right\\rangle{}\\right\\rangle{}}({fun}_{\\left\\langle{}e,t\\right\\rangle{}})$</span></div></div><div style=\"display:table-cell;vertical-align:top;padding-left:5px;padding-right:5px;padding-top:0.2em\"><div style=\"display:table;\"><div style=\"display:table-row;\"><div style=\"white-space:nowrap; color:blue;\"><span>Variable substitution from context</span></div></div></div></div></div><div style=\"display:table-row;border-bottom:1px solid #848482;\"><div style=\"display:table-cell;padding:0.2em 5px 0.2em 0px;vertical-align:top;\"> 2. </div><div style=\"display:table-cell;vertical-align:top;border-right:1px solid #848482;padding-right:5px;;padding-top:0.2em\"><div style=\"display:inline-block;\"><span>${[\\lambda{} f_{\\left\\langle{}e,t\\right\\rangle{}} \\: . \\: \\lambda{} x_{e} \\: . \\: {f}({x})]}(\\lambda{} x_{e} \\: . \\: {P}({x}))$</span></div></div><div style=\"display:table-cell;vertical-align:top;padding-left:5px;padding-right:5px;padding-top:0.2em\"><div style=\"display:table;\"><div style=\"display:table-row;\"><div style=\"white-space:nowrap; color:blue;\"><span>Reduction</span></div></div></div></div></div><div style=\"display:table-row;border-bottom:1px solid #848482;\"><div style=\"display:table-cell;padding:0.2em 5px 0.2em 0px;vertical-align:top;\"> 3. </div><div style=\"display:table-cell;vertical-align:top;border-right:1px solid #848482;padding-right:5px;;padding-top:0.2em\"><div style=\"display:inline-block;\"><span>$\\lambda{} x_{e} \\: . \\: {[\\lambda{} x_{e} \\: . \\: {P}({x})]}({x})$</span></div></div><div style=\"display:table-cell;vertical-align:top;padding-left:5px;padding-right:5px;padding-top:0.2em\"><div style=\"display:table;\"><div style=\"display:table-row;\"><div style=\"white-space:nowrap; color:blue;\"><span>[Reduction]</span></div></div></div></div></div><div style=\"display:table-row;\"><div style=\"display:table-cell;padding:0.2em 5px 0.2em 0px;vertical-align:top;\"> 4. </div><div style=\"display:table-cell;vertical-align:top;border-right:1px solid #848482;padding-right:5px;;padding-top:0.2em\"><div style=\"display:inline-block;\"><span>$\\lambda{} x_{e} \\: . \\: {P}({x})$</span></div></div></div></div></div></div></div></div>"
      ],
      "text/plain": [
       " 1. apply_∀<<X,Y>,<X,Y>>(fun_<e,t>)    (Type inference)\n",
       " 2. apply_<<e,t>,<e,t>>(fun_<e,t>)    (Variable substitution from context)\n",
       " 3. (λ f_<e,t>: (λ x_e: f_<e,t>(x_e)))(λ x_e: P_<e,t>(x_e))    (Reduction)\n",
       " 4. (λ x_e: (λ x_e: P_<e,t>(x_e))(x_e))    ([Reduction])\n",
       " 5. (λ x_e: P_<e,t>(x_e))"
      ]
     },
     "execution_count": 49,
     "metadata": {},
     "output_type": "execute_result"
    }
   ],
   "source": [
    "test2.derivation"
   ]
  },
  {
   "cell_type": "code",
   "execution_count": 50,
   "id": "8958bcc5-9cdd-4555-9c07-318e3cdb927f",
   "metadata": {},
   "outputs": [
    {
     "data": {
      "text/markdown": [
       "${apply}_{\\left\\langle{}\\left\\langle{}X,Y\\right\\rangle{},\\left\\langle{}X,Y\\right\\rangle{}\\right\\rangle{}}\\:=\\:\\lambda{} f_{\\left\\langle{}X,Y\\right\\rangle{}} \\: . \\: \\lambda{} x_{X} \\: . \\: {f}({x})$<br />\n",
       "${test}_{Y}\\:=\\:{g}_{\\left\\langle{}\\left\\langle{}\\left\\langle{}X,X'\\right\\rangle{},\\left\\langle{}X,X'\\right\\rangle{}\\right\\rangle{},Y\\right\\rangle{}}(\\lambda{} f_{\\left\\langle{}X,X'\\right\\rangle{}} \\: . \\: \\lambda{} x_{X} \\: . \\: {f}({x}))$"
      ],
      "text/plain": [
       "apply_<<X,Y>,<X,Y>> = (λ f_<X,Y>: (λ x_X: f_<X,Y>(x_X)))\n",
       "test_Y = g_<<<X,X1>,<X,X1>>,Y>(λ f_<X,X1>: (λ x_X: f_<X,X1>(x_X)))"
      ]
     },
     "metadata": {},
     "output_type": "display_data"
    }
   ],
   "source": [
    "%%lamb\n",
    "apply = L f_<X,Y> : L x_X : f(x)\n",
    "test = g_<X,Y>(apply)"
   ]
  },
  {
   "cell_type": "code",
   "execution_count": 51,
   "id": "0e706fb7-d5ec-4f6e-8fe8-725cca0f409a",
   "metadata": {},
   "outputs": [
    {
     "data": {
      "text/html": [
       "<div align=\"left\" style=\"display:table;\"><div style=\"display:table-cell;vertical-align:top;padding-left:5px;padding-right:5px;padding-top:0.2em\"><div style=\"display:table;\"><div style=\"display:table-row;vertical-align:top;\"><div align=\"left\" style=\"display:table;border-collapse:collapse;\"><div style=\"display:table-row;border-bottom:1px solid #848482;\"><div style=\"display:table-cell;padding:0.2em 5px 0.2em 0px;vertical-align:top;\"></div><div style=\"display:table-cell;vertical-align:top;border-right:1px solid #848482;padding-right:5px;;padding-top:0.2em\"><div style=\"display:inline-block;\"><span>${g}_{\\left\\langle{}X,Y\\right\\rangle{}}({apply}_{\\forall{}\\left\\langle{}\\left\\langle{}X,Y\\right\\rangle{},\\left\\langle{}X,Y\\right\\rangle{}\\right\\rangle{}})$</span></div></div><div style=\"display:table-cell;vertical-align:top;padding-left:5px;padding-right:5px;padding-top:0.2em\"><div style=\"display:table;\"><div style=\"display:table-row;\"><div style=\"white-space:nowrap; color:blue;\"><span>Type inference</span></div></div></div></div></div><div style=\"display:table-row;border-bottom:1px solid #848482;\"><div style=\"display:table-cell;padding:0.2em 5px 0.2em 0px;vertical-align:top;\"> 1. </div><div style=\"display:table-cell;vertical-align:top;border-right:1px solid #848482;padding-right:5px;;padding-top:0.2em\"><div style=\"display:inline-block;\"><span>${g}_{\\left\\langle{}\\left\\langle{}\\left\\langle{}?_{28},?_{29}\\right\\rangle{},\\left\\langle{}?_{28},?_{29}\\right\\rangle{}\\right\\rangle{},Y\\right\\rangle{}}({apply}_{\\left\\langle{}\\left\\langle{}?_{28},?_{29}\\right\\rangle{},\\left\\langle{}?_{28},?_{29}\\right\\rangle{}\\right\\rangle{}})$</span></div></div><div style=\"display:table-cell;vertical-align:top;padding-left:5px;padding-right:5px;padding-top:0.2em\"><div style=\"display:table;\"><div style=\"display:table-row;\"><div style=\"white-space:nowrap; color:blue;\"><span>Let substitution</span></div></div></div></div></div><div style=\"display:table-row;border-bottom:1px solid #848482;\"><div style=\"display:table-cell;padding:0.2em 5px 0.2em 0px;vertical-align:top;\"> 2. </div><div style=\"display:table-cell;vertical-align:top;border-right:1px solid #848482;padding-right:5px;;padding-top:0.2em\"><div style=\"display:inline-block;\"><span>${g}_{\\left\\langle{}\\left\\langle{}\\left\\langle{}X,X'\\right\\rangle{},\\left\\langle{}X,X'\\right\\rangle{}\\right\\rangle{},Y\\right\\rangle{}}({apply}_{\\left\\langle{}\\left\\langle{}X,X'\\right\\rangle{},\\left\\langle{}X,X'\\right\\rangle{}\\right\\rangle{}})$</span></div></div><div style=\"display:table-cell;vertical-align:top;padding-left:5px;padding-right:5px;padding-top:0.2em\"><div style=\"display:table;\"><div style=\"display:table-row;\"><div style=\"white-space:nowrap; color:blue;\"><span>Variable substitution from context</span></div></div></div></div></div><div style=\"display:table-row;\"><div style=\"display:table-cell;padding:0.2em 5px 0.2em 0px;vertical-align:top;\"> 3. </div><div style=\"display:table-cell;vertical-align:top;border-right:1px solid #848482;padding-right:5px;;padding-top:0.2em\"><div style=\"display:inline-block;\"><span>${g}_{\\left\\langle{}\\left\\langle{}\\left\\langle{}X,X'\\right\\rangle{},\\left\\langle{}X,X'\\right\\rangle{}\\right\\rangle{},Y\\right\\rangle{}}(\\lambda{} f_{\\left\\langle{}X,X'\\right\\rangle{}} \\: . \\: \\lambda{} x_{X} \\: . \\: {f}({x}))$</span></div></div></div></div></div></div></div></div>"
      ],
      "text/plain": [
       " 1. g_<X,Y>(apply_∀<<X,Y>,<X,Y>>)    (Type inference)\n",
       " 2. g_<<<?28,?29>,<?28,?29>>,Y>(apply_<<?28,?29>,<?28,?29>>)    (Let substitution)\n",
       " 3. g_<<<X,X1>,<X,X1>>,Y>(apply_<<X,X1>,<X,X1>>)    (Variable substitution from context)\n",
       " 4. g_<<<X,X1>,<X,X1>>,Y>(λ f_<X,X1>: (λ x_X: f_<X,X1>(x_X)))"
      ]
     },
     "execution_count": 51,
     "metadata": {},
     "output_type": "execute_result"
    }
   ],
   "source": [
    "test.derivation"
   ]
  },
  {
   "cell_type": "code",
   "execution_count": 52,
   "id": "df0dd75e-94d2-4386-8409-012d5de7a21c",
   "metadata": {},
   "outputs": [],
   "source": [
    "reload_lamb()\n"
   ]
  },
  {
   "cell_type": "code",
   "execution_count": 53,
   "id": "f0c9a503-9a4a-488f-906f-41da078dc29d",
   "metadata": {},
   "outputs": [
    {
     "data": {
      "text/markdown": [
       "${apply}_{\\left\\langle{}\\left\\langle{}X,Y\\right\\rangle{},\\left\\langle{}X,Y\\right\\rangle{}\\right\\rangle{}}\\:=\\:\\lambda{} f_{\\left\\langle{}X,Y\\right\\rangle{}} \\: . \\: \\lambda{} x_{X} \\: . \\: {f}({x})$"
      ],
      "text/plain": [
       "apply_<<X,Y>,<X,Y>> = (λ f_<X,Y>: (λ x_X: f_<X,Y>(x_X)))"
      ]
     },
     "metadata": {},
     "output_type": "display_data"
    },
    {
     "name": "stdout",
     "output_type": "stream",
     "text": [
      "INFO (core): Coerced guessed type for 'P_t' into <e,t>, to match argument 'x_e'\n"
     ]
    },
    {
     "data": {
      "text/markdown": [
       "${fun}_{\\left\\langle{}e,t\\right\\rangle{}}\\:=\\:\\lambda{} x_{e} \\: . \\: {P}({x})$"
      ],
      "text/plain": [
       "fun_<e,t> = (λ x_e: P_<e,t>(x_e))"
      ]
     },
     "metadata": {},
     "output_type": "display_data"
    },
    {
     "data": {
      "text/markdown": [
       "${test}_{Y'}\\:=\\:{g}_{\\left\\langle{}\\left\\langle{}e,t\\right\\rangle{},Y'\\right\\rangle{}}(\\lambda{} x_{e} \\: . \\: {P}({x}))$"
      ],
      "text/plain": [
       "test_Y1 = g_<<e,t>,Y1>(λ x_e: P_<e,t>(x_e))"
      ]
     },
     "metadata": {},
     "output_type": "display_data"
    },
    {
     "data": {
      "text/markdown": [
       "${test2}_{\\left\\langle{}e,t\\right\\rangle{}}\\:=\\:\\lambda{} x_{e} \\: . \\: {P}({x})$"
      ],
      "text/plain": [
       "test2_<e,t> = (λ x_e: P_<e,t>(x_e))"
      ]
     },
     "metadata": {},
     "output_type": "display_data"
    }
   ],
   "source": [
    "\n",
    "lamb.utils._debug_suppress = True\n",
    "%lamb apply = L f_<X,Y> : L x_X : f(x)\n",
    "%lamb fun = L x_e : P(x)\n",
    "%lamb test = g_<X1,Y1>(apply(fun))\n",
    "\n",
    "lamb.utils._debug_suppress = False\n",
    "%lamb test2 = apply(fun)\n"
   ]
  },
  {
   "cell_type": "code",
   "execution_count": null,
   "id": "dab32abb-8099-4759-ba32-73f051233d9a",
   "metadata": {},
   "outputs": [],
   "source": []
  },
  {
   "cell_type": "code",
   "execution_count": 54,
   "id": "8ea7d93c-4096-435d-9ad2-44a51764f764",
   "metadata": {},
   "outputs": [],
   "source": [
    "reload_lamb()"
   ]
  },
  {
   "cell_type": "code",
   "execution_count": 55,
   "id": "75e315f7-cbbb-4a06-9176-b250077da63a",
   "metadata": {},
   "outputs": [
    {
     "data": {
      "text/markdown": [
       "${bind}_{\\left\\langle{}\\left\\langle{}e,X_{10}\\right\\rangle{},\\left\\langle{}\\left\\langle{}X_{10},\\left\\langle{}e,Y_{10}\\right\\rangle{}\\right\\rangle{},\\left\\langle{}e,Y_{10}\\right\\rangle{}\\right\\rangle{}\\right\\rangle{}}\\:=\\:\\lambda{} m_{\\left\\langle{}e,X_{10}\\right\\rangle{}} \\: . \\: \\lambda{} k_{\\left\\langle{}X_{10},\\left\\langle{}e,Y_{10}\\right\\rangle{}\\right\\rangle{}} \\: . \\: \\lambda{} w_{e} \\: . \\: {k}({m}({w}))({w})$"
      ],
      "text/plain": [
       "bind_<<e,X10>,<<X10,<e,Y10>>,<e,Y10>>> = (λ m_<e,X10>: (λ k_<X10,<e,Y10>>: (λ w_e: k_<X10,<e,Y10>>(m_<e,X10>(w_e))(w_e))))"
      ]
     },
     "metadata": {},
     "output_type": "display_data"
    },
    {
     "data": {
      "text/markdown": [
       "${unit}_{\\left\\langle{}X'',\\left\\langle{}e,X''\\right\\rangle{}\\right\\rangle{}}\\:=\\:\\lambda{} a_{X''} \\: . \\: \\lambda{} w_{e} \\: . \\: {a}$"
      ],
      "text/plain": [
       "unit_<X2,<e,X2>> = (λ a_X2: (λ w_e: a_X2))"
      ]
     },
     "metadata": {},
     "output_type": "display_data"
    },
    {
     "data": {
      "text/markdown": [
       "${asdf}_{\\left\\langle{}\\left\\langle{}e,\\left\\langle{}X,Y\\right\\rangle{}\\right\\rangle{},\\left\\langle{}\\left\\langle{}\\left\\langle{}X,Y\\right\\rangle{},\\left\\langle{}e,X'\\right\\rangle{}\\right\\rangle{},\\left\\langle{}e,X'\\right\\rangle{}\\right\\rangle{}\\right\\rangle{}}\\:=\\:\\lambda{} f_{\\left\\langle{}e,\\left\\langle{}X,Y\\right\\rangle{}\\right\\rangle{}} \\: . \\: \\lambda{} k_{\\left\\langle{}\\left\\langle{}X,Y\\right\\rangle{},\\left\\langle{}e,X'\\right\\rangle{}\\right\\rangle{}} \\: . \\: \\lambda{} w_{e} \\: . \\: {k}({f}({w}))({w})$"
      ],
      "text/plain": [
       "asdf_<<e,<X,Y>>,<<<X,Y>,<e,X1>>,<e,X1>>> = (λ f_<e,<X,Y>>: (λ k_<<X,Y>,<e,X1>>: (λ w_e: k_<<X,Y>,<e,X1>>(f_<e,<X,Y>>(w_e))(w_e))))"
      ]
     },
     "metadata": {},
     "output_type": "display_data"
    }
   ],
   "source": [
    "%lamb bind = L m_<e,X10> : L k_<X10,<e,Y10>> : L w_e : (k(m(w))(w))\n",
    "%lamb unit = L a_X2 : L w_e : a\n",
    "%lamb asdf = L f_<e,<X,Y>> : bind(f_<e,<X,Y>>)\n"
   ]
  },
  {
   "cell_type": "code",
   "execution_count": 56,
   "id": "92c732ae-dde0-42c1-b180-b43420310d85",
   "metadata": {},
   "outputs": [
    {
     "data": {
      "text/markdown": [
       "${apply}_{\\left\\langle{}\\left\\langle{}e,\\left\\langle{}X,X'\\right\\rangle{}\\right\\rangle{},\\left\\langle{}\\left\\langle{}e,X\\right\\rangle{},\\left\\langle{}e,X'\\right\\rangle{}\\right\\rangle{}\\right\\rangle{}}\\:=\\:\\lambda{} f_{\\left\\langle{}e,\\left\\langle{}X,X'\\right\\rangle{}\\right\\rangle{}} \\: . \\: \\lambda{} x_{\\left\\langle{}e,X\\right\\rangle{}} \\: . \\: \\lambda{} w_{e} \\: . \\: {f}({w})({x}({w}))$"
      ],
      "text/plain": [
       "apply_<<e,<X,X1>>,<<e,X>,<e,X1>>> = (λ f_<e,<X,X1>>: (λ x_<e,X>: (λ w_e: f_<e,<X,X1>>(w_e)(x_<e,X>(w_e)))))"
      ]
     },
     "metadata": {},
     "output_type": "display_data"
    }
   ],
   "source": [
    "lamb.parsing.errors_raise = False\n",
    "%lamb apply = L f_<e,<X,Y>> : L x_<e,X> : bind(f)(L a_<X,Y> : bind(x_<e,X>)(L b_X : unit(a(b))))"
   ]
  },
  {
   "cell_type": "code",
   "execution_count": 58,
   "id": "d8b4d095-8f0a-41cf-9de7-63cc2f0f523c",
   "metadata": {},
   "outputs": [
    {
     "data": {
      "text/html": [
       "<div align=\"left\" style=\"display:table;\"><div style=\"display:table-cell;vertical-align:top;padding-left:5px;padding-right:5px;padding-top:0.2em\"><div style=\"display:table;\"><div style=\"display:table-row;vertical-align:top;\"><div align=\"left\" style=\"display:table;border-collapse:collapse;\"><div style=\"display:table-row;border-bottom:1px solid #848482;\"><div style=\"display:table-cell;padding:0.2em 5px 0.2em 0px;vertical-align:top;\"></div><div style=\"display:table-cell;vertical-align:top;border-right:1px solid #848482;padding-right:5px;;padding-top:0.2em\"><div style=\"display:inline-block;\"><span>$\\lambda{} f_{\\left\\langle{}e,\\left\\langle{}X,?_{55}\\right\\rangle{}\\right\\rangle{}} \\: . \\: \\lambda{} x_{\\left\\langle{}e,X\\right\\rangle{}} \\: . \\: {bind}_{\\left\\langle{}\\left\\langle{}e,\\left\\langle{}X,?_{55}\\right\\rangle{}\\right\\rangle{},\\left\\langle{}\\left\\langle{}\\left\\langle{}X,?_{55}\\right\\rangle{},\\left\\langle{}e,?_{55}\\right\\rangle{}\\right\\rangle{},\\left\\langle{}e,?_{55}\\right\\rangle{}\\right\\rangle{}\\right\\rangle{}}({f})(\\lambda{} a_{\\left\\langle{}X,?_{55}\\right\\rangle{}} \\: . \\: {bind}_{\\left\\langle{}\\left\\langle{}e,X\\right\\rangle{},\\left\\langle{}\\left\\langle{}X,\\left\\langle{}e,?_{55}\\right\\rangle{}\\right\\rangle{},\\left\\langle{}e,?_{55}\\right\\rangle{}\\right\\rangle{}\\right\\rangle{}}({x})(\\lambda{} b_{X} \\: . \\: {unit}_{\\left\\langle{}?_{55},\\left\\langle{}e,?_{55}\\right\\rangle{}\\right\\rangle{}}({a}({b}))))$</span></div></div><div style=\"display:table-cell;vertical-align:top;padding-left:5px;padding-right:5px;padding-top:0.2em\"><div style=\"display:table;\"><div style=\"display:table-row;\"><div style=\"white-space:nowrap; color:blue;\"><span>Let substitution</span></div></div></div></div></div><div style=\"display:table-row;border-bottom:1px solid #848482;\"><div style=\"display:table-cell;padding:0.2em 5px 0.2em 0px;vertical-align:top;\"> 1. </div><div style=\"display:table-cell;vertical-align:top;border-right:1px solid #848482;padding-right:5px;;padding-top:0.2em\"><div style=\"display:inline-block;\"><span>$\\lambda{} f_{\\left\\langle{}e,\\left\\langle{}X,X'\\right\\rangle{}\\right\\rangle{}} \\: . \\: \\lambda{} x_{\\left\\langle{}e,X\\right\\rangle{}} \\: . \\: {bind}_{\\left\\langle{}\\left\\langle{}e,\\left\\langle{}X,X'\\right\\rangle{}\\right\\rangle{},\\left\\langle{}\\left\\langle{}\\left\\langle{}X,X'\\right\\rangle{},\\left\\langle{}e,X'\\right\\rangle{}\\right\\rangle{},\\left\\langle{}e,X'\\right\\rangle{}\\right\\rangle{}\\right\\rangle{}}({f})(\\lambda{} a_{\\left\\langle{}X,X'\\right\\rangle{}} \\: . \\: {bind}_{\\left\\langle{}\\left\\langle{}e,X\\right\\rangle{},\\left\\langle{}\\left\\langle{}X,\\left\\langle{}e,X'\\right\\rangle{}\\right\\rangle{},\\left\\langle{}e,X'\\right\\rangle{}\\right\\rangle{}\\right\\rangle{}}({x})(\\lambda{} b_{X} \\: . \\: {unit}_{\\left\\langle{}X',\\left\\langle{}e,X'\\right\\rangle{}\\right\\rangle{}}({a}({b}))))$</span></div></div><div style=\"display:table-cell;vertical-align:top;padding-left:5px;padding-right:5px;padding-top:0.2em\"><div style=\"display:table;\"><div style=\"display:table-row;\"><div style=\"white-space:nowrap; color:blue;\"><span>Variable substitution from context</span></div></div></div></div></div><div style=\"display:table-row;border-bottom:1px solid #848482;\"><div style=\"display:table-cell;padding:0.2em 5px 0.2em 0px;vertical-align:top;\"> 2. </div><div style=\"display:table-cell;vertical-align:top;border-right:1px solid #848482;padding-right:5px;;padding-top:0.2em\"><div style=\"display:inline-block;\"><span>$\\lambda{} f_{\\left\\langle{}e,\\left\\langle{}X,X'\\right\\rangle{}\\right\\rangle{}} \\: . \\: \\lambda{} x_{\\left\\langle{}e,X\\right\\rangle{}} \\: . \\: {[\\lambda{} m_{\\left\\langle{}e,\\left\\langle{}X,X'\\right\\rangle{}\\right\\rangle{}} \\: . \\: \\lambda{} k_{\\left\\langle{}\\left\\langle{}X,X'\\right\\rangle{},\\left\\langle{}e,X'\\right\\rangle{}\\right\\rangle{}} \\: . \\: \\lambda{} w_{e} \\: . \\: {k}({m}({w}))({w})]}({f})(\\lambda{} a_{\\left\\langle{}X,X'\\right\\rangle{}} \\: . \\: {[\\lambda{} m_{\\left\\langle{}e,X\\right\\rangle{}} \\: . \\: \\lambda{} k_{\\left\\langle{}X,\\left\\langle{}e,X'\\right\\rangle{}\\right\\rangle{}} \\: . \\: \\lambda{} w_{e} \\: . \\: {k}({m}({w}))({w})]}({x})(\\lambda{} b_{X} \\: . \\: {[\\lambda{} a_{X'} \\: . \\: \\lambda{} w_{e} \\: . \\: {a}]}({a}({b}))))$</span></div></div><div style=\"display:table-cell;vertical-align:top;padding-left:5px;padding-right:5px;padding-top:0.2em\"><div style=\"display:table;\"><div style=\"display:table-row;\"><div style=\"white-space:nowrap; color:blue;\"><span>[recursive reduction of body]</span></div></div><div style=\"display:table-row;vertical-align:top;\"><div align=\"left\" style=\"display:table;border-collapse:collapse;\"><div style=\"display:table-row;border-bottom:1px solid #848482;\"><div style=\"display:table-cell;padding:0.2em 5px 0.2em 0px;vertical-align:top;\"></div><div style=\"display:table-cell;vertical-align:top;border-right:1px solid #848482;padding-right:5px;;padding-top:0.2em\"><div style=\"display:inline-block;\"><span>${[\\lambda{} m_{\\left\\langle{}e,\\left\\langle{}X,X'\\right\\rangle{}\\right\\rangle{}} \\: . \\: \\lambda{} k_{\\left\\langle{}\\left\\langle{}X,X'\\right\\rangle{},\\left\\langle{}e,X'\\right\\rangle{}\\right\\rangle{}} \\: . \\: \\lambda{} w_{e} \\: . \\: {k}({m}({w}))({w})]}({f}_{\\left\\langle{}e,\\left\\langle{}X,X'\\right\\rangle{}\\right\\rangle{}})(\\lambda{} a_{\\left\\langle{}X,X'\\right\\rangle{}} \\: . \\: {[\\lambda{} m_{\\left\\langle{}e,X\\right\\rangle{}} \\: . \\: \\lambda{} k_{\\left\\langle{}X,\\left\\langle{}e,X'\\right\\rangle{}\\right\\rangle{}} \\: . \\: \\lambda{} w_{e} \\: . \\: {k}({m}({w}))({w})]}({x}_{\\left\\langle{}e,X\\right\\rangle{}})(\\lambda{} b_{X} \\: . \\: {[\\lambda{} a_{X'} \\: . \\: \\lambda{} w_{e} \\: . \\: {a}]}({a}({b}))))$</span></div></div><div style=\"display:table-cell;vertical-align:top;padding-left:5px;padding-right:5px;padding-top:0.2em\"><div style=\"display:table;\"><div style=\"display:table-row;\"><div style=\"white-space:nowrap; color:blue;\"><span>[recursive reduction of body]</span></div></div><div style=\"display:table-row;vertical-align:top;\"><div align=\"left\" style=\"display:table;border-collapse:collapse;\"><div style=\"display:table-row;border-bottom:1px solid #848482;\"><div style=\"display:table-cell;padding:0.2em 5px 0.2em 0px;vertical-align:top;\"></div><div style=\"display:table-cell;vertical-align:top;border-right:1px solid #848482;padding-right:5px;;padding-top:0.2em\"><div style=\"display:inline-block;\"><span>${[\\lambda{} m_{\\left\\langle{}e,X\\right\\rangle{}} \\: . \\: \\lambda{} k_{\\left\\langle{}X,\\left\\langle{}e,X'\\right\\rangle{}\\right\\rangle{}} \\: . \\: \\lambda{} w_{e} \\: . \\: {k}({m}({w}))({w})]}({x}_{\\left\\langle{}e,X\\right\\rangle{}})(\\lambda{} b_{X} \\: . \\: {[\\lambda{} a_{X'} \\: . \\: \\lambda{} w_{e} \\: . \\: {a}]}({a}_{\\left\\langle{}X,X'\\right\\rangle{}}({b})))$</span></div></div><div style=\"display:table-cell;vertical-align:top;padding-left:5px;padding-right:5px;padding-top:0.2em\"><div style=\"display:table;\"><div style=\"display:table-row;\"><div style=\"white-space:nowrap; color:blue;\"><span>[[Reduction]]</span></div></div></div></div></div><div style=\"display:table-row;border-bottom:1px solid #848482;\"><div style=\"display:table-cell;padding:0.2em 5px 0.2em 0px;vertical-align:top;\"> 1. </div><div style=\"display:table-cell;vertical-align:top;border-right:1px solid #848482;padding-right:5px;;padding-top:0.2em\"><div style=\"display:inline-block;\"><span>${[\\lambda{} m_{\\left\\langle{}e,X\\right\\rangle{}} \\: . \\: \\lambda{} k_{\\left\\langle{}X,\\left\\langle{}e,X'\\right\\rangle{}\\right\\rangle{}} \\: . \\: \\lambda{} w_{e} \\: . \\: {k}({m}({w}))({w})]}({x}_{\\left\\langle{}e,X\\right\\rangle{}})(\\lambda{} b_{X} \\: . \\: \\lambda{} w_{e} \\: . \\: {a}_{\\left\\langle{}X,X'\\right\\rangle{}}({b}))$</span></div></div><div style=\"display:table-cell;vertical-align:top;padding-left:5px;padding-right:5px;padding-top:0.2em\"><div style=\"display:table;\"><div style=\"display:table-row;\"><div style=\"white-space:nowrap; color:blue;\"><span>[Reduction]</span></div></div></div></div></div><div style=\"display:table-row;border-bottom:1px solid #848482;\"><div style=\"display:table-cell;padding:0.2em 5px 0.2em 0px;vertical-align:top;\"> 2. </div><div style=\"display:table-cell;vertical-align:top;border-right:1px solid #848482;padding-right:5px;;padding-top:0.2em\"><div style=\"display:inline-block;\"><span>${[\\lambda{} k_{\\left\\langle{}X,\\left\\langle{}e,X'\\right\\rangle{}\\right\\rangle{}} \\: . \\: \\lambda{} w_{e} \\: . \\: {k}({x}_{\\left\\langle{}e,X\\right\\rangle{}}({w}))({w})]}(\\lambda{} b_{X} \\: . \\: \\lambda{} w_{e} \\: . \\: {a}_{\\left\\langle{}X,X'\\right\\rangle{}}({b}))$</span></div></div><div style=\"display:table-cell;vertical-align:top;padding-left:5px;padding-right:5px;padding-top:0.2em\"><div style=\"display:table;\"><div style=\"display:table-row;\"><div style=\"white-space:nowrap; color:blue;\"><span>Reduction</span></div></div></div></div></div><div style=\"display:table-row;border-bottom:1px solid #848482;\"><div style=\"display:table-cell;padding:0.2em 5px 0.2em 0px;vertical-align:top;\"> 3. </div><div style=\"display:table-cell;vertical-align:top;border-right:1px solid #848482;padding-right:5px;;padding-top:0.2em\"><div style=\"display:inline-block;\"><span>$\\lambda{} w_{e} \\: . \\: {[\\lambda{} b_{X} \\: . \\: \\lambda{} w_{e} \\: . \\: {a}_{\\left\\langle{}X,X'\\right\\rangle{}}({b})]}({x}_{\\left\\langle{}e,X\\right\\rangle{}}({w}))({w})$</span></div></div><div style=\"display:table-cell;vertical-align:top;padding-left:5px;padding-right:5px;padding-top:0.2em\"><div style=\"display:table;\"><div style=\"display:table-row;\"><div style=\"white-space:nowrap; color:blue;\"><span>recursive reduction of body</span></div></div><div style=\"display:table-row;vertical-align:top;\"><div align=\"left\" style=\"display:table;border-collapse:collapse;\"><div style=\"display:table-row;border-bottom:1px solid #848482;\"><div style=\"display:table-cell;padding:0.2em 5px 0.2em 0px;vertical-align:top;\"></div><div style=\"display:table-cell;vertical-align:top;border-right:1px solid #848482;padding-right:5px;;padding-top:0.2em\"><div style=\"display:inline-block;\"><span>${[\\lambda{} b_{X} \\: . \\: \\lambda{} w_{e} \\: . \\: {a}_{\\left\\langle{}X,X'\\right\\rangle{}}({b})]}({x}_{\\left\\langle{}e,X\\right\\rangle{}}({w}_{e}))({w}_{e})$</span></div></div><div style=\"display:table-cell;vertical-align:top;padding-left:5px;padding-right:5px;padding-top:0.2em\"><div style=\"display:table;\"><div style=\"display:table-row;\"><div style=\"white-space:nowrap; color:blue;\"><span>[Reduction]</span></div></div></div></div></div><div style=\"display:table-row;border-bottom:1px solid #848482;\"><div style=\"display:table-cell;padding:0.2em 5px 0.2em 0px;vertical-align:top;\"> 1. </div><div style=\"display:table-cell;vertical-align:top;border-right:1px solid #848482;padding-right:5px;;padding-top:0.2em\"><div style=\"display:inline-block;\"><span>${[\\lambda{} w1_{e} \\: . \\: {a}_{\\left\\langle{}X,X'\\right\\rangle{}}({x}_{\\left\\langle{}e,X\\right\\rangle{}}({w}_{e}))]}({w}_{e})$</span></div></div><div style=\"display:table-cell;vertical-align:top;padding-left:5px;padding-right:5px;padding-top:0.2em\"><div style=\"display:table;\"><div style=\"display:table-row;\"><div style=\"white-space:nowrap; color:blue;\"><span>Reduction</span></div></div></div></div></div><div style=\"display:table-row;\"><div style=\"display:table-cell;padding:0.2em 5px 0.2em 0px;vertical-align:top;\"> 2. </div><div style=\"display:table-cell;vertical-align:top;border-right:1px solid #848482;padding-right:5px;;padding-top:0.2em\"><div style=\"display:inline-block;\"><span>${a}_{\\left\\langle{}X,X'\\right\\rangle{}}({x}_{\\left\\langle{}e,X\\right\\rangle{}}({w}_{e}))$</span></div></div></div></div></div></div></div></div><div style=\"display:table-row;\"><div style=\"display:table-cell;padding:0.2em 5px 0.2em 0px;vertical-align:top;\"> 4. </div><div style=\"display:table-cell;vertical-align:top;border-right:1px solid #848482;padding-right:5px;;padding-top:0.2em\"><div style=\"display:inline-block;\"><span>$\\lambda{} w_{e} \\: . \\: {a}_{\\left\\langle{}X,X'\\right\\rangle{}}({x}_{\\left\\langle{}e,X\\right\\rangle{}}({w}))$</span></div></div></div></div></div></div></div></div><div style=\"display:table-row;border-bottom:1px solid #848482;\"><div style=\"display:table-cell;padding:0.2em 5px 0.2em 0px;vertical-align:top;\"> 1. </div><div style=\"display:table-cell;vertical-align:top;border-right:1px solid #848482;padding-right:5px;;padding-top:0.2em\"><div style=\"display:inline-block;\"><span>${[\\lambda{} m_{\\left\\langle{}e,\\left\\langle{}X,X'\\right\\rangle{}\\right\\rangle{}} \\: . \\: \\lambda{} k_{\\left\\langle{}\\left\\langle{}X,X'\\right\\rangle{},\\left\\langle{}e,X'\\right\\rangle{}\\right\\rangle{}} \\: . \\: \\lambda{} w_{e} \\: . \\: {k}({m}({w}))({w})]}({f}_{\\left\\langle{}e,\\left\\langle{}X,X'\\right\\rangle{}\\right\\rangle{}})(\\lambda{} a_{\\left\\langle{}X,X'\\right\\rangle{}} \\: . \\: \\lambda{} w_{e} \\: . \\: {a}({x}_{\\left\\langle{}e,X\\right\\rangle{}}({w})))$</span></div></div><div style=\"display:table-cell;vertical-align:top;padding-left:5px;padding-right:5px;padding-top:0.2em\"><div style=\"display:table;\"><div style=\"display:table-row;\"><div style=\"white-space:nowrap; color:blue;\"><span>[Reduction]</span></div></div></div></div></div><div style=\"display:table-row;border-bottom:1px solid #848482;\"><div style=\"display:table-cell;padding:0.2em 5px 0.2em 0px;vertical-align:top;\"> 2. </div><div style=\"display:table-cell;vertical-align:top;border-right:1px solid #848482;padding-right:5px;;padding-top:0.2em\"><div style=\"display:inline-block;\"><span>${[\\lambda{} k_{\\left\\langle{}\\left\\langle{}X,X'\\right\\rangle{},\\left\\langle{}e,X'\\right\\rangle{}\\right\\rangle{}} \\: . \\: \\lambda{} w_{e} \\: . \\: {k}({f}_{\\left\\langle{}e,\\left\\langle{}X,X'\\right\\rangle{}\\right\\rangle{}}({w}))({w})]}(\\lambda{} a_{\\left\\langle{}X,X'\\right\\rangle{}} \\: . \\: \\lambda{} w_{e} \\: . \\: {a}({x}_{\\left\\langle{}e,X\\right\\rangle{}}({w})))$</span></div></div><div style=\"display:table-cell;vertical-align:top;padding-left:5px;padding-right:5px;padding-top:0.2em\"><div style=\"display:table;\"><div style=\"display:table-row;\"><div style=\"white-space:nowrap; color:blue;\"><span>Reduction</span></div></div></div></div></div><div style=\"display:table-row;border-bottom:1px solid #848482;\"><div style=\"display:table-cell;padding:0.2em 5px 0.2em 0px;vertical-align:top;\"> 3. </div><div style=\"display:table-cell;vertical-align:top;border-right:1px solid #848482;padding-right:5px;;padding-top:0.2em\"><div style=\"display:inline-block;\"><span>$\\lambda{} w_{e} \\: . \\: {[\\lambda{} a_{\\left\\langle{}X,X'\\right\\rangle{}} \\: . \\: \\lambda{} w_{e} \\: . \\: {a}({x}_{\\left\\langle{}e,X\\right\\rangle{}}({w}))]}({f}_{\\left\\langle{}e,\\left\\langle{}X,X'\\right\\rangle{}\\right\\rangle{}}({w}))({w})$</span></div></div><div style=\"display:table-cell;vertical-align:top;padding-left:5px;padding-right:5px;padding-top:0.2em\"><div style=\"display:table;\"><div style=\"display:table-row;\"><div style=\"white-space:nowrap; color:blue;\"><span>recursive reduction of body</span></div></div><div style=\"display:table-row;vertical-align:top;\"><div align=\"left\" style=\"display:table;border-collapse:collapse;\"><div style=\"display:table-row;border-bottom:1px solid #848482;\"><div style=\"display:table-cell;padding:0.2em 5px 0.2em 0px;vertical-align:top;\"></div><div style=\"display:table-cell;vertical-align:top;border-right:1px solid #848482;padding-right:5px;;padding-top:0.2em\"><div style=\"display:inline-block;\"><span>${[\\lambda{} a_{\\left\\langle{}X,X'\\right\\rangle{}} \\: . \\: \\lambda{} w_{e} \\: . \\: {a}({x}_{\\left\\langle{}e,X\\right\\rangle{}}({w}))]}({f}_{\\left\\langle{}e,\\left\\langle{}X,X'\\right\\rangle{}\\right\\rangle{}}({w}_{e}))({w}_{e})$</span></div></div><div style=\"display:table-cell;vertical-align:top;padding-left:5px;padding-right:5px;padding-top:0.2em\"><div style=\"display:table;\"><div style=\"display:table-row;\"><div style=\"white-space:nowrap; color:blue;\"><span>[Reduction]</span></div></div></div></div></div><div style=\"display:table-row;border-bottom:1px solid #848482;\"><div style=\"display:table-cell;padding:0.2em 5px 0.2em 0px;vertical-align:top;\"> 1. </div><div style=\"display:table-cell;vertical-align:top;border-right:1px solid #848482;padding-right:5px;;padding-top:0.2em\"><div style=\"display:inline-block;\"><span>${[\\lambda{} w1_{e} \\: . \\: {f}_{\\left\\langle{}e,\\left\\langle{}X,X'\\right\\rangle{}\\right\\rangle{}}({w}_{e})({x}_{\\left\\langle{}e,X\\right\\rangle{}}({w1}))]}({w}_{e})$</span></div></div><div style=\"display:table-cell;vertical-align:top;padding-left:5px;padding-right:5px;padding-top:0.2em\"><div style=\"display:table;\"><div style=\"display:table-row;\"><div style=\"white-space:nowrap; color:blue;\"><span>Reduction</span></div></div></div></div></div><div style=\"display:table-row;\"><div style=\"display:table-cell;padding:0.2em 5px 0.2em 0px;vertical-align:top;\"> 2. </div><div style=\"display:table-cell;vertical-align:top;border-right:1px solid #848482;padding-right:5px;;padding-top:0.2em\"><div style=\"display:inline-block;\"><span>${f}_{\\left\\langle{}e,\\left\\langle{}X,X'\\right\\rangle{}\\right\\rangle{}}({w}_{e})({x}_{\\left\\langle{}e,X\\right\\rangle{}}({w}_{e}))$</span></div></div></div></div></div></div></div></div><div style=\"display:table-row;\"><div style=\"display:table-cell;padding:0.2em 5px 0.2em 0px;vertical-align:top;\"> 4. </div><div style=\"display:table-cell;vertical-align:top;border-right:1px solid #848482;padding-right:5px;;padding-top:0.2em\"><div style=\"display:inline-block;\"><span>$\\lambda{} w_{e} \\: . \\: {f}_{\\left\\langle{}e,\\left\\langle{}X,X'\\right\\rangle{}\\right\\rangle{}}({w})({x}_{\\left\\langle{}e,X\\right\\rangle{}}({w}))$</span></div></div></div></div></div></div></div></div><div style=\"display:table-row;\"><div style=\"display:table-cell;padding:0.2em 5px 0.2em 0px;vertical-align:top;\"> 3. </div><div style=\"display:table-cell;vertical-align:top;border-right:1px solid #848482;padding-right:5px;;padding-top:0.2em\"><div style=\"display:inline-block;\"><span>$\\lambda{} f_{\\left\\langle{}e,\\left\\langle{}X,X'\\right\\rangle{}\\right\\rangle{}} \\: . \\: \\lambda{} x_{\\left\\langle{}e,X\\right\\rangle{}} \\: . \\: \\lambda{} w_{e} \\: . \\: {f}({w})({x}({w}))$</span></div></div></div></div></div></div></div></div>"
      ],
      "text/plain": [
       "DisplayNode instance: HTML rendering only"
      ]
     },
     "execution_count": 58,
     "metadata": {},
     "output_type": "execute_result"
    }
   ],
   "source": [
    "apply.derivation.trace()"
   ]
  },
  {
   "cell_type": "code",
   "execution_count": 59,
   "id": "00f964ee-1d60-4637-b589-eed36c8732c5",
   "metadata": {},
   "outputs": [
    {
     "data": {
      "text/latex": [
       "$\\lambda{} f_{\\left\\langle{}e,\\left\\langle{}X,X'\\right\\rangle{}\\right\\rangle{}} \\: . \\: \\lambda{} x_{\\left\\langle{}e,X\\right\\rangle{}} \\: . \\: {[\\lambda{} m_{\\left\\langle{}e,\\left\\langle{}X,X'\\right\\rangle{}\\right\\rangle{}} \\: . \\: \\lambda{} k_{\\left\\langle{}\\left\\langle{}X,X'\\right\\rangle{},\\left\\langle{}e,X'\\right\\rangle{}\\right\\rangle{}} \\: . \\: \\lambda{} w_{e} \\: . \\: {k}({m}({w}))({w})]}({f})(\\lambda{} a_{\\left\\langle{}X,X'\\right\\rangle{}} \\: . \\: {[\\lambda{} m_{\\left\\langle{}e,X\\right\\rangle{}} \\: . \\: \\lambda{} k_{\\left\\langle{}X,\\left\\langle{}e,X'\\right\\rangle{}\\right\\rangle{}} \\: . \\: \\lambda{} w_{e} \\: . \\: {k}({m}({w}))({w})]}({x})(\\lambda{} b_{X} \\: . \\: {[\\lambda{} a_{X'} \\: . \\: \\lambda{} w_{e} \\: . \\: {a}]}({a}({b}))))$"
      ],
      "text/plain": [
       "(λ f_<e,<X,X1>>: (λ x_<e,X>: (λ m_<e,<X,X1>>: (λ k_<<X,X1>,<e,X1>>: (λ w_e: k_<<X,X1>,<e,X1>>(m_<e,<X,X1>>(w_e))(w_e))))(f_<e,<X,X1>>)(λ a_<X,X1>: (λ m_<e,X>: (λ k_<X,<e,X1>>: (λ w_e: k_<X,<e,X1>>(m_<e,X>(w_e))(w_e))))(x_<e,X>)(λ b_X: (λ a_X1: (λ w_e: a_X1))(a_<X,X1>(b_X))))))"
      ]
     },
     "execution_count": 59,
     "metadata": {},
     "output_type": "execute_result"
    }
   ],
   "source": [
    "lamb.parsing.errors_raise = True\n",
    "%te globals L f_<e,<X,Y>> : L x_<e,X> : bind(f)(L a_<X,Y> : bind(x_<e,X>)(L b_X : unit(a(b))))"
   ]
  },
  {
   "cell_type": "code",
   "execution_count": 60,
   "id": "557a3e01-d27c-4e1e-9d8e-ae18ae813119",
   "metadata": {},
   "outputs": [
    {
     "data": {
      "text/latex": [
       "${[\\lambda{} a_{\\left\\langle{}X,\\left\\langle{}e,X\\right\\rangle{}\\right\\rangle{}} \\: . \\: \\lambda{} w_{e} \\: . \\: {a}]}(\\lambda{} a_{X} \\: . \\: \\lambda{} w_{e} \\: . \\: {a})$"
      ],
      "text/plain": [
       "(λ a_<X,<e,X>>: (λ w_e: a_<X,<e,X>>))(λ a_X: (λ w_e: a_X))"
      ]
     },
     "execution_count": 60,
     "metadata": {},
     "output_type": "execute_result"
    }
   ],
   "source": [
    "unit(unit) #.compact_type_vars()"
   ]
  },
  {
   "cell_type": "code",
   "execution_count": 61,
   "id": "b34f1a40-f596-4c41-afdd-a8c78fa35a3c",
   "metadata": {},
   "outputs": [
    {
     "data": {
      "text/latex": [
       "${[\\lambda{} a_{\\left\\langle{}X,\\left\\langle{}e,X\\right\\rangle{}\\right\\rangle{}} \\: . \\: \\lambda{} w_{e} \\: . \\: {a}]}(\\lambda{} a_{X} \\: . \\: \\lambda{} w_{e} \\: . \\: {a})$"
      ],
      "text/plain": [
       "(λ a_<X,<e,X>>: (λ w_e: a_<X,<e,X>>))(λ a_X: (λ w_e: a_X))"
      ]
     },
     "execution_count": 61,
     "metadata": {},
     "output_type": "execute_result"
    }
   ],
   "source": [
    "%te globals unit(unit)"
   ]
  },
  {
   "cell_type": "code",
   "execution_count": 62,
   "id": "78b1a71b-20d5-4daa-b711-4f5ee084ccad",
   "metadata": {},
   "outputs": [],
   "source": [
    "reload_lamb()"
   ]
  },
  {
   "cell_type": "code",
   "execution_count": 63,
   "id": "91d6068d-10fd-432f-8144-03440cc70174",
   "metadata": {},
   "outputs": [
    {
     "data": {
      "text/markdown": [
       "${bind}_{\\left\\langle{}\\left\\langle{}e,X\\right\\rangle{},\\left\\langle{}\\left\\langle{}X,\\left\\langle{}e,Y\\right\\rangle{}\\right\\rangle{},\\left\\langle{}e,Y\\right\\rangle{}\\right\\rangle{}\\right\\rangle{}}\\:=\\:\\lambda{} m_{\\left\\langle{}e,X\\right\\rangle{}} \\: . \\: \\lambda{} k_{\\left\\langle{}X,\\left\\langle{}e,Y\\right\\rangle{}\\right\\rangle{}} \\: . \\: \\lambda{} w_{e} \\: . \\: {k}({m}({w}))({w})$<br />\n",
       "${bind2}_{\\left\\langle{}\\left\\langle{}e,X_{10}\\right\\rangle{},\\left\\langle{}\\left\\langle{}X_{10},\\left\\langle{}e,Y_{10}\\right\\rangle{}\\right\\rangle{},\\left\\langle{}e,Y_{10}\\right\\rangle{}\\right\\rangle{}\\right\\rangle{}}\\:=\\:\\lambda{} m_{\\left\\langle{}e,X_{10}\\right\\rangle{}} \\: . \\: \\lambda{} k_{\\left\\langle{}X_{10},\\left\\langle{}e,Y_{10}\\right\\rangle{}\\right\\rangle{}} \\: . \\: \\lambda{} w_{e} \\: . \\: {k}({m}({w}))({w})$<br />\n",
       "${unit}_{\\left\\langle{}X'',\\left\\langle{}e,X''\\right\\rangle{}\\right\\rangle{}}\\:=\\:\\lambda{} a_{X''} \\: . \\: \\lambda{} w_{e} \\: . \\: {a}$"
      ],
      "text/plain": [
       "bind_<<e,X>,<<X,<e,Y>>,<e,Y>>> = (λ m_<e,X>: (λ k_<X,<e,Y>>: (λ w_e: k_<X,<e,Y>>(m_<e,X>(w_e))(w_e))))\n",
       "bind2_<<e,X10>,<<X10,<e,Y10>>,<e,Y10>>> = (λ m_<e,X10>: (λ k_<X10,<e,Y10>>: (λ w_e: k_<X10,<e,Y10>>(m_<e,X10>(w_e))(w_e))))\n",
       "unit_<X2,<e,X2>> = (λ a_X2: (λ w_e: a_X2))"
      ]
     },
     "metadata": {},
     "output_type": "display_data"
    }
   ],
   "source": [
    "%%lamb \n",
    "bind = L m_<e,X> : L k_<X,<e,Y>> : L w_e : (k(m(w))(w))\n",
    "bind2 = L m_<e,X10> : L k_<X10,<e,Y10>> : L w_e : (k(m(w))(w))\n",
    "unit = L a_X2 : L w_e : a"
   ]
  },
  {
   "cell_type": "code",
   "execution_count": 64,
   "id": "f06c32cb-5359-4930-8966-79508fb6610f",
   "metadata": {},
   "outputs": [
    {
     "data": {
      "text/markdown": [
       "${bind3}_{\\left\\langle{}\\left\\langle{}e,X\\right\\rangle{},\\left\\langle{}\\left\\langle{}X,\\left\\langle{}e,X'\\right\\rangle{}\\right\\rangle{},\\left\\langle{}e,X'\\right\\rangle{}\\right\\rangle{}\\right\\rangle{}}\\:=\\:\\lambda{} m_{\\left\\langle{}e,X\\right\\rangle{}} \\: . \\: \\lambda{} k_{\\left\\langle{}X,\\left\\langle{}e,X'\\right\\rangle{}\\right\\rangle{}} \\: . \\: \\lambda{} w_{e} \\: . \\: {k}({m}({w}))({w})$"
      ],
      "text/plain": [
       "bind3_<<e,X>,<<X,<e,X1>>,<e,X1>>> = (λ m_<e,X>: (λ k_<X,<e,X1>>: (λ w_e: k_<X,<e,X1>>(m_<e,X>(w_e))(w_e))))"
      ]
     },
     "metadata": {},
     "output_type": "display_data"
    }
   ],
   "source": [
    "%lamb bind3 = bind"
   ]
  },
  {
   "cell_type": "code",
   "execution_count": 65,
   "id": "161b252c-dd84-4979-b923-2d29558c6459",
   "metadata": {},
   "outputs": [
    {
     "data": {
      "text/latex": [
       "$\\lambda{} f_{\\left\\langle{}e,\\left\\langle{}X,X'\\right\\rangle{}\\right\\rangle{}} \\: . \\: \\lambda{} x_{\\left\\langle{}e,X\\right\\rangle{}} \\: . \\: \\lambda{} w_{e} \\: . \\: {f}({w})({x}({w}))$"
      ],
      "text/plain": [
       "(λ f_<e,<X,X1>>: (λ x_<e,X>: (λ w_e: f_<e,<X,X1>>(w_e)(x_<e,X>(w_e)))))"
      ]
     },
     "execution_count": 65,
     "metadata": {},
     "output_type": "execute_result"
    }
   ],
   "source": [
    "utils.dbg_print(reset=True, increase=True)\n",
    "lamb.parsing.errors_raise = True\n",
    "x = %te globals reduce L f_<e,<X,Y>> : L x_<e,X> : bind(f_<e,<X,Y>>)(L a_<X,Y> : bind2(x_<e,X>)(L b_X : unit(a(b))))\n",
    "x"
   ]
  },
  {
   "cell_type": "code",
   "execution_count": 66,
   "id": "adc652ca-6d73-4a8b-92c2-17c1670cf690",
   "metadata": {},
   "outputs": [
    {
     "data": {
      "text/html": [
       "<div align=\"left\" style=\"display:table;\"><div style=\"display:table-cell;vertical-align:top;padding-left:5px;padding-right:5px;padding-top:0.2em\"><div style=\"display:table;\"><div style=\"display:table-row;vertical-align:top;\"><div align=\"left\" style=\"display:table;border-collapse:collapse;\"><div style=\"display:table-row;border-bottom:1px solid #848482;\"><div style=\"display:table-cell;padding:0.2em 5px 0.2em 0px;vertical-align:top;\"></div><div style=\"display:table-cell;vertical-align:top;border-right:1px solid #848482;padding-right:5px;;padding-top:0.2em\"><div style=\"display:inline-block;\"><span>$\\lambda{} f_{\\left\\langle{}e,\\left\\langle{}X,?_{41}\\right\\rangle{}\\right\\rangle{}} \\: . \\: \\lambda{} x_{\\left\\langle{}e,X\\right\\rangle{}} \\: . \\: {bind}_{\\left\\langle{}\\left\\langle{}e,\\left\\langle{}X,?_{41}\\right\\rangle{}\\right\\rangle{},\\left\\langle{}\\left\\langle{}\\left\\langle{}X,?_{41}\\right\\rangle{},\\left\\langle{}e,?_{41}\\right\\rangle{}\\right\\rangle{},\\left\\langle{}e,?_{41}\\right\\rangle{}\\right\\rangle{}\\right\\rangle{}}({f})(\\lambda{} a_{\\left\\langle{}X,?_{41}\\right\\rangle{}} \\: . \\: {bind2}_{\\left\\langle{}\\left\\langle{}e,X\\right\\rangle{},\\left\\langle{}\\left\\langle{}X,\\left\\langle{}e,?_{41}\\right\\rangle{}\\right\\rangle{},\\left\\langle{}e,?_{41}\\right\\rangle{}\\right\\rangle{}\\right\\rangle{}}({x})(\\lambda{} b_{X} \\: . \\: {unit}_{\\left\\langle{}?_{41},\\left\\langle{}e,?_{41}\\right\\rangle{}\\right\\rangle{}}({a}({b}))))$</span></div></div><div style=\"display:table-cell;vertical-align:top;padding-left:5px;padding-right:5px;padding-top:0.2em\"><div style=\"display:table;\"><div style=\"display:table-row;\"><div style=\"white-space:nowrap; color:blue;\"><span>Let substitution</span></div></div></div></div></div><div style=\"display:table-row;border-bottom:1px solid #848482;\"><div style=\"display:table-cell;padding:0.2em 5px 0.2em 0px;vertical-align:top;\"> 1. </div><div style=\"display:table-cell;vertical-align:top;border-right:1px solid #848482;padding-right:5px;;padding-top:0.2em\"><div style=\"display:inline-block;\"><span>$\\lambda{} f_{\\left\\langle{}e,\\left\\langle{}X,X'\\right\\rangle{}\\right\\rangle{}} \\: . \\: \\lambda{} x_{\\left\\langle{}e,X\\right\\rangle{}} \\: . \\: {bind}_{\\left\\langle{}\\left\\langle{}e,\\left\\langle{}X,X'\\right\\rangle{}\\right\\rangle{},\\left\\langle{}\\left\\langle{}\\left\\langle{}X,X'\\right\\rangle{},\\left\\langle{}e,X'\\right\\rangle{}\\right\\rangle{},\\left\\langle{}e,X'\\right\\rangle{}\\right\\rangle{}\\right\\rangle{}}({f})(\\lambda{} a_{\\left\\langle{}X,X'\\right\\rangle{}} \\: . \\: {bind2}_{\\left\\langle{}\\left\\langle{}e,X\\right\\rangle{},\\left\\langle{}\\left\\langle{}X,\\left\\langle{}e,X'\\right\\rangle{}\\right\\rangle{},\\left\\langle{}e,X'\\right\\rangle{}\\right\\rangle{}\\right\\rangle{}}({x})(\\lambda{} b_{X} \\: . \\: {unit}_{\\left\\langle{}X',\\left\\langle{}e,X'\\right\\rangle{}\\right\\rangle{}}({a}({b}))))$</span></div></div><div style=\"display:table-cell;vertical-align:top;padding-left:5px;padding-right:5px;padding-top:0.2em\"><div style=\"display:table;\"><div style=\"display:table-row;\"><div style=\"white-space:nowrap; color:blue;\"><span>Variable substitution from context</span></div></div></div></div></div><div style=\"display:table-row;border-bottom:1px solid #848482;\"><div style=\"display:table-cell;padding:0.2em 5px 0.2em 0px;vertical-align:top;\"> 2. </div><div style=\"display:table-cell;vertical-align:top;border-right:1px solid #848482;padding-right:5px;;padding-top:0.2em\"><div style=\"display:inline-block;\"><span>$\\lambda{} f_{\\left\\langle{}e,\\left\\langle{}X,X'\\right\\rangle{}\\right\\rangle{}} \\: . \\: \\lambda{} x_{\\left\\langle{}e,X\\right\\rangle{}} \\: . \\: {[\\lambda{} m_{\\left\\langle{}e,\\left\\langle{}X,X'\\right\\rangle{}\\right\\rangle{}} \\: . \\: \\lambda{} k_{\\left\\langle{}\\left\\langle{}X,X'\\right\\rangle{},\\left\\langle{}e,X'\\right\\rangle{}\\right\\rangle{}} \\: . \\: \\lambda{} w_{e} \\: . \\: {k}({m}({w}))({w})]}({f})(\\lambda{} a_{\\left\\langle{}X,X'\\right\\rangle{}} \\: . \\: {[\\lambda{} m_{\\left\\langle{}e,X\\right\\rangle{}} \\: . \\: \\lambda{} k_{\\left\\langle{}X,\\left\\langle{}e,X'\\right\\rangle{}\\right\\rangle{}} \\: . \\: \\lambda{} w_{e} \\: . \\: {k}({m}({w}))({w})]}({x})(\\lambda{} b_{X} \\: . \\: {[\\lambda{} a_{X'} \\: . \\: \\lambda{} w_{e} \\: . \\: {a}]}({a}({b}))))$</span></div></div><div style=\"display:table-cell;vertical-align:top;padding-left:5px;padding-right:5px;padding-top:0.2em\"><div style=\"display:table;\"><div style=\"display:table-row;\"><div style=\"white-space:nowrap; color:blue;\"><span>[recursive reduction of body]</span></div></div></div></div></div><div style=\"display:table-row;\"><div style=\"display:table-cell;padding:0.2em 5px 0.2em 0px;vertical-align:top;\"> 3. </div><div style=\"display:table-cell;vertical-align:top;border-right:1px solid #848482;padding-right:5px;;padding-top:0.2em\"><div style=\"display:inline-block;\"><span>$\\lambda{} f_{\\left\\langle{}e,\\left\\langle{}X,X'\\right\\rangle{}\\right\\rangle{}} \\: . \\: \\lambda{} x_{\\left\\langle{}e,X\\right\\rangle{}} \\: . \\: \\lambda{} w_{e} \\: . \\: {f}({w})({x}({w}))$</span></div></div></div></div></div></div></div></div>"
      ],
      "text/plain": [
       " 1. (λ f_<e,<X,?41>>: (λ x_<e,X>: bind_<<e,<X,?41>>,<<<X,?41>,<e,?41>>,<e,?41>>>(f_<e,<X,?41>>)(λ a_<X,?41>: bind2_<<e,X>,<<X,<e,?41>>,<e,?41>>>(x_<e,X>)(λ b_X: unit_<?41,<e,?41>>(a_<X,?41>(b_X))))))    (Let substitution)\n",
       " 2. (λ f_<e,<X,X1>>: (λ x_<e,X>: bind_<<e,<X,X1>>,<<<X,X1>,<e,X1>>,<e,X1>>>(f_<e,<X,X1>>)(λ a_<X,X1>: bind2_<<e,X>,<<X,<e,X1>>,<e,X1>>>(x_<e,X>)(λ b_X: unit_<X1,<e,X1>>(a_<X,X1>(b_X))))))    (Variable substitution from context)\n",
       " 3. (λ f_<e,<X,X1>>: (λ x_<e,X>: (λ m_<e,<X,X1>>: (λ k_<<X,X1>,<e,X1>>: (λ w_e: k_<<X,X1>,<e,X1>>(m_<e,<X,X1>>(w_e))(w_e))))(f_<e,<X,X1>>)(λ a_<X,X1>: (λ m_<e,X>: (λ k_<X,<e,X1>>: (λ w_e: k_<X,<e,X1>>(m_<e,X>(w_e))(w_e))))(x_<e,X>)(λ b_X: (λ a_X1: (λ w_e: a_X1))(a_<X,X1>(b_X))))))    ([recursive reduction of body])\n",
       " 4. (λ f_<e,<X,X1>>: (λ x_<e,X>: (λ w_e: f_<e,<X,X1>>(w_e)(x_<e,X>(w_e)))))"
      ]
     },
     "execution_count": 66,
     "metadata": {},
     "output_type": "execute_result"
    }
   ],
   "source": [
    "x.derivation"
   ]
  },
  {
   "cell_type": "code",
   "execution_count": 44,
   "id": "35f32bb8-4c64-4815-bcc3-ffa41b903962",
   "metadata": {},
   "outputs": [
    {
     "data": {
      "text/html": [
       "<div align=\"left\" style=\"display:table;\"><div style=\"display:table-cell;vertical-align:top;padding-left:5px;padding-right:5px;padding-top:0.2em\"><div style=\"display:table;\"><div style=\"display:table-row;vertical-align:top;\"><div align=\"left\" style=\"display:table;border-collapse:collapse;\"><div style=\"display:table-row;border-bottom:1px solid #848482;\"><div style=\"display:table-cell;padding:0.2em 5px 0.2em 0px;vertical-align:top;\"></div><div style=\"display:table-cell;vertical-align:top;border-right:1px solid #848482;padding-right:5px;;padding-top:0.2em\"><div style=\"display:inline-block;\"><span>$\\lambda{} b_{X} \\: . \\: {unit}_{\\left\\langle{}Y,\\left\\langle{}e,Y\\right\\rangle{}\\right\\rangle{}}({a}_{\\left\\langle{}X,Y\\right\\rangle{}}({b}))$</span></div></div><div style=\"display:table-cell;vertical-align:top;padding-left:5px;padding-right:5px;padding-top:0.2em\"><div style=\"display:table;\"><div style=\"display:table-row;\"><div style=\"white-space:nowrap; color:blue;\"><span>Variable substitution from context</span></div></div></div></div></div><div style=\"display:table-row;border-bottom:1px solid #848482;\"><div style=\"display:table-cell;padding:0.2em 5px 0.2em 0px;vertical-align:top;\"> 1. </div><div style=\"display:table-cell;vertical-align:top;border-right:1px solid #848482;padding-right:5px;;padding-top:0.2em\"><div style=\"display:inline-block;\"><span>$\\lambda{} b_{X} \\: . \\: {[\\lambda{} a_{X'} \\: . \\: \\lambda{} w_{e} \\: . \\: {a}]}({a}_{\\left\\langle{}X,X'\\right\\rangle{}}({b}))$</span></div></div><div style=\"display:table-cell;vertical-align:top;padding-left:5px;padding-right:5px;padding-top:0.2em\"><div style=\"display:table;\"><div style=\"display:table-row;\"><div style=\"white-space:nowrap; color:blue;\"><span>[Reduction]</span></div></div></div></div></div><div style=\"display:table-row;\"><div style=\"display:table-cell;padding:0.2em 5px 0.2em 0px;vertical-align:top;\"> 2. </div><div style=\"display:table-cell;vertical-align:top;border-right:1px solid #848482;padding-right:5px;;padding-top:0.2em\"><div style=\"display:inline-block;\"><span>$\\lambda{} b_{X} \\: . \\: \\lambda{} w_{e} \\: . \\: {a}_{\\left\\langle{}X,X'\\right\\rangle{}}({b})$</span></div></div></div></div></div></div></div></div>"
      ],
      "text/plain": [
       " 1. (λ b_X: unit_<Y,<e,Y>>(a_<X,Y>(b_X)))    (Variable substitution from context)\n",
       " 2. (λ b_X: (λ a_X1: (λ w_e: a_X1))(a_<X,X1>(b_X)))    ([Reduction])\n",
       " 3. (λ b_X: (λ w_e: a_<X,X1>(b_X)))"
      ]
     },
     "execution_count": 44,
     "metadata": {},
     "output_type": "execute_result"
    }
   ],
   "source": [
    "x2 = %te globals reduce L b_X : unit(a_<X,Y>(b_X))\n",
    "x2.derivation"
   ]
  },
  {
   "cell_type": "code",
   "execution_count": 45,
   "id": "c8f7c088-2fbf-4c4c-afc5-37d616f52d2f",
   "metadata": {},
   "outputs": [
    {
     "data": {
      "text/html": [
       "<div align=\"left\" style=\"display:table;\"><div style=\"display:table-cell;vertical-align:top;padding-left:5px;padding-right:5px;padding-top:0.2em\"><div style=\"display:table;\"><div style=\"display:table-row;vertical-align:top;\"><div align=\"left\" style=\"display:table;border-collapse:collapse;\"><div style=\"display:table-row;border-bottom:1px solid #848482;\"><div style=\"display:table-cell;padding:0.2em 5px 0.2em 0px;vertical-align:top;\"></div><div style=\"display:table-cell;vertical-align:top;border-right:1px solid #848482;padding-right:5px;;padding-top:0.2em\"><div style=\"display:inline-block;\"><span>${unit}_{\\forall{}\\left\\langle{}X'',\\left\\langle{}e,X''\\right\\rangle{}\\right\\rangle{}}({a}_{\\left\\langle{}X,Y\\right\\rangle{}}({b}_{X}))$</span></div></div><div style=\"display:table-cell;vertical-align:top;padding-left:5px;padding-right:5px;padding-top:0.2em\"><div style=\"display:table;\"><div style=\"display:table-row;\"><div style=\"white-space:nowrap; color:blue;\"><span>Type inference</span></div></div></div></div></div><div style=\"display:table-row;border-bottom:1px solid #848482;\"><div style=\"display:table-cell;padding:0.2em 5px 0.2em 0px;vertical-align:top;\"> 1. </div><div style=\"display:table-cell;vertical-align:top;border-right:1px solid #848482;padding-right:5px;;padding-top:0.2em\"><div style=\"display:inline-block;\"><span>${unit}_{\\left\\langle{}Y,\\left\\langle{}e,Y\\right\\rangle{}\\right\\rangle{}}({a}_{\\left\\langle{}X,Y\\right\\rangle{}}({b}_{X}))$</span></div></div><div style=\"display:table-cell;vertical-align:top;padding-left:5px;padding-right:5px;padding-top:0.2em\"><div style=\"display:table;\"><div style=\"display:table-row;\"><div style=\"white-space:nowrap; color:blue;\"><span>Variable substitution from context</span></div></div></div></div></div><div style=\"display:table-row;border-bottom:1px solid #848482;\"><div style=\"display:table-cell;padding:0.2em 5px 0.2em 0px;vertical-align:top;\"> 2. </div><div style=\"display:table-cell;vertical-align:top;border-right:1px solid #848482;padding-right:5px;;padding-top:0.2em\"><div style=\"display:inline-block;\"><span>${[\\lambda{} a_{X'} \\: . \\: \\lambda{} w_{e} \\: . \\: {a}]}({a}_{\\left\\langle{}X,X'\\right\\rangle{}}({b}_{X}))$</span></div></div><div style=\"display:table-cell;vertical-align:top;padding-left:5px;padding-right:5px;padding-top:0.2em\"><div style=\"display:table;\"><div style=\"display:table-row;\"><div style=\"white-space:nowrap; color:blue;\"><span>Reduction</span></div></div></div></div></div><div style=\"display:table-row;\"><div style=\"display:table-cell;padding:0.2em 5px 0.2em 0px;vertical-align:top;\"> 3. </div><div style=\"display:table-cell;vertical-align:top;border-right:1px solid #848482;padding-right:5px;;padding-top:0.2em\"><div style=\"display:inline-block;\"><span>$\\lambda{} w_{e} \\: . \\: {a}_{\\left\\langle{}X,X'\\right\\rangle{}}({b}_{X})$</span></div></div></div></div></div></div></div></div>"
      ],
      "text/plain": [
       " 1. unit_∀<X2,<e,X2>>(a_<X,Y>(b_X))    (Type inference)\n",
       " 2. unit_<Y,<e,Y>>(a_<X,Y>(b_X))    (Variable substitution from context)\n",
       " 3. (λ a_X1: (λ w_e: a_X1))(a_<X,X1>(b_X))    (Reduction)\n",
       " 4. (λ w_e: a_<X,X1>(b_X))"
      ]
     },
     "execution_count": 45,
     "metadata": {},
     "output_type": "execute_result"
    }
   ],
   "source": [
    "x3 = %te globals reduce unit(a_<X,Y>(b_X))\n",
    "x3.derivation"
   ]
  },
  {
   "cell_type": "code",
   "execution_count": 1173,
   "id": "65bfe5c2-37c4-4230-99af-5b98fd16f86f",
   "metadata": {},
   "outputs": [
    {
     "data": {
      "text/html": [
       "<div align=\"left\" style=\"display:table;\"><div style=\"display:table-cell;vertical-align:top;padding-left:5px;padding-right:5px;padding-top:0.2em\"><div style=\"display:table;\"><div style=\"display:table-row;vertical-align:top;\"><div align=\"left\" style=\"display:table;border-collapse:collapse;\"><div style=\"display:table-row;border-bottom:1px solid #848482;\"><div style=\"display:table-cell;padding:0.2em 5px 0.2em 0px;vertical-align:top;\"></div><div style=\"display:table-cell;vertical-align:top;border-right:1px solid #848482;padding-right:5px;;padding-top:0.2em\"><div style=\"display:inline-block;\"><span>${f}_{X}({x}_{e})$</span></div></div><div style=\"display:table-cell;vertical-align:top;padding-left:5px;padding-right:5px;padding-top:0.2em\"><div style=\"display:table;\"><div style=\"display:table-row;\"><div style=\"white-space:nowrap; color:blue;\"><span>Type inference</span></div></div></div></div></div><div style=\"display:table-row;\"><div style=\"display:table-cell;padding:0.2em 5px 0.2em 0px;vertical-align:top;\"> 1. </div><div style=\"display:table-cell;vertical-align:top;border-right:1px solid #848482;padding-right:5px;;padding-top:0.2em\"><div style=\"display:inline-block;\"><span>${f}_{\\left\\langle{}e,\\forall{}X\\right\\rangle{}}({x}_{e})$</span></div></div></div></div></div></div></div></div>"
      ],
      "text/plain": [
       " 1. f_X(x_e)    (Type inference)\n",
       " 2. f_<e,∀X>(x_e)"
      ]
     },
     "execution_count": 1173,
     "metadata": {},
     "output_type": "execute_result"
    }
   ],
   "source": [
    "x4 = %te f_X(x_e)\n",
    "x4.derivation"
   ]
  },
  {
   "cell_type": "code",
   "execution_count": 1174,
   "id": "cbb21341-4bd9-40aa-977c-f73f3b1a5587",
   "metadata": {},
   "outputs": [
    {
     "data": {
      "text/latex": [
       "${f}_{\\left\\langle{}e,\\forall{}X\\right\\rangle{}}({x}_{e})$"
      ],
      "text/plain": [
       "f_<e,∀X>(x_e)"
      ]
     },
     "execution_count": 1174,
     "metadata": {},
     "output_type": "execute_result"
    }
   ],
   "source": [
    "te(\"f_X\")(te(\"x_e\"))"
   ]
  },
  {
   "cell_type": "code",
   "execution_count": null,
   "id": "b2a0ee87-63c6-4c52-a3e9-0551b4fff0a6",
   "metadata": {},
   "outputs": [],
   "source": []
  },
  {
   "cell_type": "code",
   "execution_count": 1175,
   "id": "00a55788-57af-4f27-bcfd-6671368ddd0c",
   "metadata": {},
   "outputs": [
    {
     "data": {
      "text/latex": [
       "${f}_{\\left\\langle{}X,t\\right\\rangle{}}({x}_{X})$"
      ],
      "text/plain": [
       "f_<X,t>(x_X)"
      ]
     },
     "metadata": {},
     "output_type": "display_data"
    },
    {
     "data": {
      "text/latex": [
       "${f2}_{\\left\\langle{}X,t\\right\\rangle{}}({x2}_{X})$"
      ],
      "text/plain": [
       "f2_<X,t>(x2_X)"
      ]
     },
     "metadata": {},
     "output_type": "display_data"
    }
   ],
   "source": [
    "p1 = %te f_<X,t>(x_X)\n",
    "p2 = %te f2_<X,t>(x2_X)\n",
    "display(p1, p2)"
   ]
  },
  {
   "cell_type": "code",
   "execution_count": 1176,
   "id": "19ac5320-65ed-4595-b3d3-58dd5b402c1a",
   "metadata": {},
   "outputs": [
    {
     "data": {
      "text/latex": [
       "${f}_{\\left\\langle{}X,t\\right\\rangle{}}({x}_{X}) \\wedge{} {f2}_{\\left\\langle{}X',t\\right\\rangle{}}({x2}_{X'})$"
      ],
      "text/plain": [
       "(f_<X,t>(x_X) ∧ f2_<X1,t>(x2_X1))"
      ]
     },
     "execution_count": 1176,
     "metadata": {},
     "output_type": "execute_result"
    }
   ],
   "source": [
    "p1 & p2"
   ]
  },
  {
   "cell_type": "code",
   "execution_count": 1177,
   "id": "71e8efb1-0749-4bb5-bdbc-67216bdddbbf",
   "metadata": {},
   "outputs": [
    {
     "data": {
      "text/plain": [
       "True"
      ]
     },
     "execution_count": 1177,
     "metadata": {},
     "output_type": "execute_result"
    }
   ],
   "source": [
    "p1.let"
   ]
  },
  {
   "cell_type": "code",
   "execution_count": 1178,
   "id": "988acb70-8bdd-4d9f-aa7f-b2e8460d47f9",
   "metadata": {},
   "outputs": [
    {
     "data": {
      "text/html": [
       "<div align=\"left\" style=\"display:table;\"><div style=\"display:table-cell;vertical-align:top;padding-left:5px;padding-right:5px;padding-top:0.2em\"><div style=\"display:table;\"><div style=\"display:table-row;vertical-align:top;\"><div align=\"left\" style=\"display:table;border-collapse:collapse;\"><div style=\"display:table-row;border-bottom:1px solid #848482;\"><div style=\"display:table-cell;padding:0.2em 5px 0.2em 0px;vertical-align:top;\"></div><div style=\"display:table-cell;vertical-align:top;border-right:1px solid #848482;padding-right:5px;;padding-top:0.2em\"><div style=\"display:inline-block;\"><span>${f}_{\\left\\langle{}X,t\\right\\rangle{}}({x}_{X}) \\wedge{} {f2}_{\\left\\langle{}?_{184},t\\right\\rangle{}}({x2}_{?_{184}})$</span></div></div><div style=\"display:table-cell;vertical-align:top;padding-left:5px;padding-right:5px;padding-top:0.2em\"><div style=\"display:table;\"><div style=\"display:table-row;\"><div style=\"white-space:nowrap; color:blue;\"><span>Let substitution</span></div></div></div></div></div><div style=\"display:table-row;\"><div style=\"display:table-cell;padding:0.2em 5px 0.2em 0px;vertical-align:top;\"> 1. </div><div style=\"display:table-cell;vertical-align:top;border-right:1px solid #848482;padding-right:5px;;padding-top:0.2em\"><div style=\"display:inline-block;\"><span>${f}_{\\left\\langle{}X,t\\right\\rangle{}}({x}_{X}) \\wedge{} {f2}_{\\left\\langle{}X',t\\right\\rangle{}}({x2}_{X'})$</span></div></div></div></div></div></div></div></div>"
      ],
      "text/plain": [
       " 1. (f_<X,t>(x_X) & f2_<?184,t>(x2_?184))    (Let substitution)\n",
       " 2. (f_<X,t>(x_X) & f2_<X1,t>(x2_X1))"
      ]
     },
     "execution_count": 1178,
     "metadata": {},
     "output_type": "execute_result"
    }
   ],
   "source": [
    "(p1 & p2).derivation"
   ]
  },
  {
   "cell_type": "code",
   "execution_count": 1179,
   "id": "0a44c12e-cbd4-449c-b5d9-cecea251c50c",
   "metadata": {},
   "outputs": [
    {
     "data": {
      "text/html": [
       "<table><tr><td>Term mappings:&nbsp;&nbsp; </td><td>{'f': $\\left\\langle{}X,t\\right\\rangle{}$, 'x': $X$}</td></tr><tr><td>Type mappings:&nbsp;&nbsp; </td><td>{}</td></tr><tr><td>Type variables:&nbsp;&nbsp; </td><td>{$X$}</td></tr></table>"
      ],
      "text/plain": [
       "[TypeEnv: Terms: {'f': <X,t>, 'x': X}, Type mapping: {}, Type variables: {X}]"
      ]
     },
     "execution_count": 1179,
     "metadata": {},
     "output_type": "execute_result"
    }
   ],
   "source": [
    "p1.get_type_env()"
   ]
  },
  {
   "cell_type": "code",
   "execution_count": null,
   "id": "91a9d013-ba78-46cb-905d-ccb1ad5c8617",
   "metadata": {},
   "outputs": [],
   "source": []
  },
  {
   "cell_type": "code",
   "execution_count": null,
   "id": "0c77aea0-e95a-41df-8787-54102583aee6",
   "metadata": {},
   "outputs": [],
   "source": []
  },
  {
   "cell_type": "code",
   "execution_count": 1180,
   "id": "5f94148a-4085-4916-9691-06ff9d595c86",
   "metadata": {},
   "outputs": [
    {
     "data": {
      "text/latex": [
       "${f}_{\\left\\langle{}X',t\\right\\rangle{}}({x}_{X'}) \\wedge{} {f2}_{\\left\\langle{}X,t\\right\\rangle{}}({x2}_{X})$"
      ],
      "text/plain": [
       "(f_<X1,t>(x_X1) ∧ f2_<X,t>(x2_X))"
      ]
     },
     "execution_count": 1180,
     "metadata": {},
     "output_type": "execute_result"
    }
   ],
   "source": [
    "id = %te L x_X : x\n",
    "id(p1 & p2).reduce_all()"
   ]
  },
  {
   "cell_type": "code",
   "execution_count": 1181,
   "id": "4fb1d4ea-4cef-4c98-802b-16495132cbd2",
   "metadata": {},
   "outputs": [
    {
     "data": {
      "text/markdown": [
       "${apply}_{\\left\\langle{}\\left\\langle{}e,\\left\\langle{}X,X'\\right\\rangle{}\\right\\rangle{},\\left\\langle{}\\left\\langle{}e,X\\right\\rangle{},\\left\\langle{}e,X'\\right\\rangle{}\\right\\rangle{}\\right\\rangle{}}\\:=\\:\\lambda{} f_{\\left\\langle{}e,\\left\\langle{}X,X'\\right\\rangle{}\\right\\rangle{}} \\: . \\: \\lambda{} x_{\\left\\langle{}e,X\\right\\rangle{}} \\: . \\: \\lambda{} w_{e} \\: . \\: {f}({w})({x}({w}))$"
      ],
      "text/plain": [
       "apply_<<e,<X,X1>>,<<e,X>,<e,X1>>> = (λ f_<e,<X,X1>>: (λ x_<e,X>: (λ w_e: f_<e,<X,X1>>(w_e)(x_<e,X>(w_e)))))"
      ]
     },
     "metadata": {},
     "output_type": "display_data"
    }
   ],
   "source": [
    "%lamb apply = L f_<e,<X,Y>> : L x_<e,X> : bind(f)(L a_<X,Y> : bind2(x_<e,X>)(L b_X : unit(a(b))))"
   ]
  },
  {
   "cell_type": "code",
   "execution_count": 1182,
   "id": "f98005f6-08c8-497e-9ca6-4d9cbd836350",
   "metadata": {},
   "outputs": [
    {
     "data": {
      "text/html": [
       "<div align=\"left\" style=\"display:table;\"><div style=\"display:table-cell;vertical-align:top;padding-left:5px;padding-right:5px;padding-top:0.2em\"><div style=\"display:table;\"><div style=\"display:table-row;vertical-align:top;\"><div align=\"left\" style=\"display:table;border-collapse:collapse;\"><div style=\"display:table-row;border-bottom:1px solid #848482;\"><div style=\"display:table-cell;padding:0.2em 5px 0.2em 0px;vertical-align:top;\"></div><div style=\"display:table-cell;vertical-align:top;border-right:1px solid #848482;padding-right:5px;;padding-top:0.2em\"><div style=\"display:inline-block;\"><span>$\\lambda{} f_{\\left\\langle{}e,\\left\\langle{}X,?_{204}\\right\\rangle{}\\right\\rangle{}} \\: . \\: \\lambda{} x_{\\left\\langle{}e,X\\right\\rangle{}} \\: . \\: {bind}_{\\left\\langle{}\\left\\langle{}e,\\left\\langle{}X,?_{204}\\right\\rangle{}\\right\\rangle{},\\left\\langle{}\\left\\langle{}\\left\\langle{}X,?_{204}\\right\\rangle{},\\left\\langle{}e,?_{204}\\right\\rangle{}\\right\\rangle{},\\left\\langle{}e,?_{204}\\right\\rangle{}\\right\\rangle{}\\right\\rangle{}}({f})(\\lambda{} a_{\\left\\langle{}X,?_{204}\\right\\rangle{}} \\: . \\: {bind2}_{\\left\\langle{}\\left\\langle{}e,X\\right\\rangle{},\\left\\langle{}\\left\\langle{}X,\\left\\langle{}e,?_{204}\\right\\rangle{}\\right\\rangle{},\\left\\langle{}e,?_{204}\\right\\rangle{}\\right\\rangle{}\\right\\rangle{}}({x})(\\lambda{} b_{X} \\: . \\: {unit}_{\\left\\langle{}?_{204},\\left\\langle{}e,?_{204}\\right\\rangle{}\\right\\rangle{}}({a}({b}))))$</span></div></div><div style=\"display:table-cell;vertical-align:top;padding-left:5px;padding-right:5px;padding-top:0.2em\"><div style=\"display:table;\"><div style=\"display:table-row;\"><div style=\"white-space:nowrap; color:blue;\"><span>Let substitution</span></div></div></div></div></div><div style=\"display:table-row;border-bottom:1px solid #848482;\"><div style=\"display:table-cell;padding:0.2em 5px 0.2em 0px;vertical-align:top;\"> 1. </div><div style=\"display:table-cell;vertical-align:top;border-right:1px solid #848482;padding-right:5px;;padding-top:0.2em\"><div style=\"display:inline-block;\"><span>$\\lambda{} f_{\\left\\langle{}e,\\left\\langle{}X,X'\\right\\rangle{}\\right\\rangle{}} \\: . \\: \\lambda{} x_{\\left\\langle{}e,X\\right\\rangle{}} \\: . \\: {bind}_{\\left\\langle{}\\left\\langle{}e,\\left\\langle{}X,X'\\right\\rangle{}\\right\\rangle{},\\left\\langle{}\\left\\langle{}\\left\\langle{}X,X'\\right\\rangle{},\\left\\langle{}e,X'\\right\\rangle{}\\right\\rangle{},\\left\\langle{}e,X'\\right\\rangle{}\\right\\rangle{}\\right\\rangle{}}({f})(\\lambda{} a_{\\left\\langle{}X,X'\\right\\rangle{}} \\: . \\: {bind2}_{\\left\\langle{}\\left\\langle{}e,X\\right\\rangle{},\\left\\langle{}\\left\\langle{}X,\\left\\langle{}e,X'\\right\\rangle{}\\right\\rangle{},\\left\\langle{}e,X'\\right\\rangle{}\\right\\rangle{}\\right\\rangle{}}({x})(\\lambda{} b_{X} \\: . \\: {unit}_{\\left\\langle{}X',\\left\\langle{}e,X'\\right\\rangle{}\\right\\rangle{}}({a}({b}))))$</span></div></div><div style=\"display:table-cell;vertical-align:top;padding-left:5px;padding-right:5px;padding-top:0.2em\"><div style=\"display:table;\"><div style=\"display:table-row;\"><div style=\"white-space:nowrap; color:blue;\"><span>Variable substitution from context</span></div></div></div></div></div><div style=\"display:table-row;border-bottom:1px solid #848482;\"><div style=\"display:table-cell;padding:0.2em 5px 0.2em 0px;vertical-align:top;\"> 2. </div><div style=\"display:table-cell;vertical-align:top;border-right:1px solid #848482;padding-right:5px;;padding-top:0.2em\"><div style=\"display:inline-block;\"><span>$\\lambda{} f_{\\left\\langle{}e,\\left\\langle{}X,X'\\right\\rangle{}\\right\\rangle{}} \\: . \\: \\lambda{} x_{\\left\\langle{}e,X\\right\\rangle{}} \\: . \\: {[\\lambda{} m_{\\left\\langle{}e,\\left\\langle{}X,X'\\right\\rangle{}\\right\\rangle{}} \\: . \\: \\lambda{} k_{\\left\\langle{}\\left\\langle{}X,X'\\right\\rangle{},\\left\\langle{}e,X'\\right\\rangle{}\\right\\rangle{}} \\: . \\: \\lambda{} w_{e} \\: . \\: {k}({m}({w}))({w})]}({f})(\\lambda{} a_{\\left\\langle{}X,X'\\right\\rangle{}} \\: . \\: {[\\lambda{} m_{\\left\\langle{}e,X\\right\\rangle{}} \\: . \\: \\lambda{} k_{\\left\\langle{}X,\\left\\langle{}e,X'\\right\\rangle{}\\right\\rangle{}} \\: . \\: \\lambda{} w_{e} \\: . \\: {k}({m}({w}))({w})]}({x})(\\lambda{} b_{X} \\: . \\: {[\\lambda{} a_{X'} \\: . \\: \\lambda{} w_{e} \\: . \\: {a}]}({a}({b}))))$</span></div></div><div style=\"display:table-cell;vertical-align:top;padding-left:5px;padding-right:5px;padding-top:0.2em\"><div style=\"display:table;\"><div style=\"display:table-row;\"><div style=\"white-space:nowrap; color:blue;\"><span>[recursive reduction of body]</span></div></div></div></div></div><div style=\"display:table-row;\"><div style=\"display:table-cell;padding:0.2em 5px 0.2em 0px;vertical-align:top;\"> 3. </div><div style=\"display:table-cell;vertical-align:top;border-right:1px solid #848482;padding-right:5px;;padding-top:0.2em\"><div style=\"display:inline-block;\"><span>$\\lambda{} f_{\\left\\langle{}e,\\left\\langle{}X,X'\\right\\rangle{}\\right\\rangle{}} \\: . \\: \\lambda{} x_{\\left\\langle{}e,X\\right\\rangle{}} \\: . \\: \\lambda{} w_{e} \\: . \\: {f}({w})({x}({w}))$</span></div></div></div></div></div></div></div></div>"
      ],
      "text/plain": [
       " 1. (λ f_<e,<X,?204>>: (λ x_<e,X>: bind_<<e,<X,?204>>,<<<X,?204>,<e,?204>>,<e,?204>>>(f_<e,<X,?204>>)(λ a_<X,?204>: bind2_<<e,X>,<<X,<e,?204>>,<e,?204>>>(x_<e,X>)(λ b_X: unit_<?204,<e,?204>>(a_<X,?204>(b_X))))))    (Let substitution)\n",
       " 2. (λ f_<e,<X,X1>>: (λ x_<e,X>: bind_<<e,<X,X1>>,<<<X,X1>,<e,X1>>,<e,X1>>>(f_<e,<X,X1>>)(λ a_<X,X1>: bind2_<<e,X>,<<X,<e,X1>>,<e,X1>>>(x_<e,X>)(λ b_X: unit_<X1,<e,X1>>(a_<X,X1>(b_X))))))    (Variable substitution from context)\n",
       " 3. (λ f_<e,<X,X1>>: (λ x_<e,X>: (λ m_<e,<X,X1>>: (λ k_<<X,X1>,<e,X1>>: (λ w_e: k_<<X,X1>,<e,X1>>(m_<e,<X,X1>>(w_e))(w_e))))(f_<e,<X,X1>>)(λ a_<X,X1>: (λ m_<e,X>: (λ k_<X,<e,X1>>: (λ w_e: k_<X,<e,X1>>(m_<e,X>(w_e))(w_e))))(x_<e,X>)(λ b_X: (λ a_X1: (λ w_e: a_X1))(a_<X,X1>(b_X))))))    ([recursive reduction of body])\n",
       " 4. (λ f_<e,<X,X1>>: (λ x_<e,X>: (λ w_e: f_<e,<X,X1>>(w_e)(x_<e,X>(w_e)))))"
      ]
     },
     "execution_count": 1182,
     "metadata": {},
     "output_type": "execute_result"
    }
   ],
   "source": [
    "apply.derivation"
   ]
  },
  {
   "cell_type": "code",
   "execution_count": 1183,
   "id": "ee014fff-10f2-4daf-bb35-3fa15a958b23",
   "metadata": {},
   "outputs": [
    {
     "data": {
      "text/latex": [
       "$\\lambda{} a_{?_{331}} \\: . \\: \\lambda{} w_{e} \\: . \\: {a}$"
      ],
      "text/plain": [
       "(λ a_?331: (λ w_e: a_?331))"
      ]
     },
     "execution_count": 1183,
     "metadata": {},
     "output_type": "execute_result"
    }
   ],
   "source": [
    "te(\"unit\", assignment=lang.get_system().lexicon).under_assignment(lang.get_system().lexicon)"
   ]
  },
  {
   "cell_type": "code",
   "execution_count": 1184,
   "id": "63eb14d2-5186-4164-b4ea-5de5a24fea0b",
   "metadata": {},
   "outputs": [
    {
     "data": {
      "text/plain": [
       "'<<e,X>,<<X,<e,Y>>,<e,Y>>>'"
      ]
     },
     "execution_count": 1184,
     "metadata": {},
     "output_type": "execute_result"
    }
   ],
   "source": [
    "repr(bind.type)"
   ]
  },
  {
   "cell_type": "code",
   "execution_count": 1185,
   "id": "ea7c97ee-3792-4d40-b4e7-72c957d83a9e",
   "metadata": {},
   "outputs": [
    {
     "data": {
      "text/latex": [
       "$\\lambda{} a_{X} \\: . \\: \\lambda{} w_{e} \\: . \\: {a}$"
      ],
      "text/plain": [
       "(λ a_X: (λ w_e: a_X))"
      ]
     },
     "execution_count": 1185,
     "metadata": {},
     "output_type": "execute_result"
    }
   ],
   "source": [
    "tmp = %te globals unit\n",
    "tmp"
   ]
  },
  {
   "cell_type": "code",
   "execution_count": 1186,
   "id": "00464cf2-fda4-4ded-8646-50036439fccd",
   "metadata": {},
   "outputs": [
    {
     "data": {
      "text/markdown": [
       "${asdf}_{\\left\\langle{}X,\\left\\langle{}e,X\\right\\rangle{}\\right\\rangle{}}\\:=\\:\\lambda{} a_{X} \\: . \\: \\lambda{} w_{e} \\: . \\: {a}$"
      ],
      "text/plain": [
       "asdf_<X,<e,X>> = (λ a_X: (λ w_e: a_X))"
      ]
     },
     "metadata": {},
     "output_type": "display_data"
    }
   ],
   "source": [
    "%lamb asdf = unit"
   ]
  },
  {
   "cell_type": "code",
   "execution_count": 1187,
   "id": "a5fc9c8e-b937-492f-b0b5-ccd2718fc060",
   "metadata": {},
   "outputs": [
    {
     "data": {
      "text/latex": [
       "$\\lambda{} a_{X''} \\: . \\: \\lambda{} w_{e} \\: . \\: {a}$"
      ],
      "text/plain": [
       "(λ a_X2: (λ w_e: a_X2))"
      ]
     },
     "execution_count": 1187,
     "metadata": {},
     "output_type": "execute_result"
    }
   ],
   "source": [
    "unit"
   ]
  },
  {
   "cell_type": "code",
   "execution_count": 1188,
   "id": "52746ddd-4b04-4828-a1cb-351c255cc681",
   "metadata": {},
   "outputs": [
    {
     "data": {
      "text/latex": [
       "$\\lambda{} f_{\\left\\langle{}e,\\left\\langle{}X,X'\\right\\rangle{}\\right\\rangle{}} \\: . \\: \\lambda{} x_{\\left\\langle{}e,X\\right\\rangle{}} \\: . \\: \\lambda{} w_{e} \\: . \\: {f}({w})({x}({w}))$"
      ],
      "text/plain": [
       "(λ f_<e,<X,X1>>: (λ x_<e,X>: (λ w_e: f_<e,<X,X1>>(w_e)(x_<e,X>(w_e)))))"
      ]
     },
     "execution_count": 1188,
     "metadata": {},
     "output_type": "execute_result"
    }
   ],
   "source": [
    "%te globals reduce L f_<e,<X,Y>> : L x_<e,X> : bind(f_<e,<X,Y>>)(L a_<X,Y> : bind2(x_<e,X>)(L b_X : unit(a(b))))"
   ]
  },
  {
   "cell_type": "code",
   "execution_count": 1189,
   "id": "14aef6cc-8018-41fc-9090-5631a8f476f9",
   "metadata": {},
   "outputs": [
    {
     "data": {
      "text/latex": [
       "$\\lambda{} f_{\\left\\langle{}e,\\left\\langle{}X',X\\right\\rangle{}\\right\\rangle{}} \\: . \\: \\lambda{} x_{\\left\\langle{}e,X'\\right\\rangle{}} \\: . \\: {bind4}_{\\left\\langle{}\\left\\langle{}e,\\left\\langle{}X',X\\right\\rangle{}\\right\\rangle{},\\left\\langle{}\\left\\langle{}\\left\\langle{}X',X\\right\\rangle{},\\left\\langle{}e,X\\right\\rangle{}\\right\\rangle{},\\left\\langle{}e,X\\right\\rangle{}\\right\\rangle{}\\right\\rangle{}}({f})(\\lambda{} a_{\\left\\langle{}X',X\\right\\rangle{}} \\: . \\: {[\\lambda{} m_{\\left\\langle{}e,X'\\right\\rangle{}} \\: . \\: \\lambda{} k_{\\left\\langle{}X',\\left\\langle{}e,X\\right\\rangle{}\\right\\rangle{}} \\: . \\: \\lambda{} w_{e} \\: . \\: {k}({m}({w}))({w})]}({x})(\\lambda{} b_{X'} \\: . \\: {[\\lambda{} a_{X} \\: . \\: \\lambda{} w_{e} \\: . \\: {a}]}({a}({b}))))$"
      ],
      "text/plain": [
       "(λ f_<e,<X1,X>>: (λ x_<e,X1>: bind4_<<e,<X1,X>>,<<<X1,X>,<e,X>>,<e,X>>>(f_<e,<X1,X>>)(λ a_<X1,X>: (λ m_<e,X1>: (λ k_<X1,<e,X>>: (λ w_e: k_<X1,<e,X>>(m_<e,X1>(w_e))(w_e))))(x_<e,X1>)(λ b_X1: (λ a_X: (λ w_e: a_X))(a_<X1,X>(b_X1))))))"
      ]
     },
     "execution_count": 1189,
     "metadata": {},
     "output_type": "execute_result"
    }
   ],
   "source": [
    "%te globals L f_<e,<X,Y>> : L x_<e,X> : bind4_<<e,X1>,<<X1,<e,Y1>>,<e,Y1>>>(f)(L a_<X,Y> : bind2(x_<e,X>)(L b_X : unit(a(b))))"
   ]
  },
  {
   "cell_type": "code",
   "execution_count": 1190,
   "id": "0e57b89b-ec9e-41db-8ab6-98ef1b72e06d",
   "metadata": {},
   "outputs": [],
   "source": [
    "lamb.parsing.errors_raise = True"
   ]
  },
  {
   "cell_type": "code",
   "execution_count": 1191,
   "id": "4b79b92a-08d5-4ab8-9df5-857fe186fa14",
   "metadata": {},
   "outputs": [
    {
     "data": {
      "text/plain": [
       "'<<e,X>,<<X,<e,Y>>,<e,Y>>>'"
      ]
     },
     "execution_count": 1191,
     "metadata": {},
     "output_type": "execute_result"
    }
   ],
   "source": [
    "repr(bind.type)"
   ]
  },
  {
   "cell_type": "code",
   "execution_count": 1192,
   "id": "b696b7df-6450-4b35-ad47-4da9ae1a13b3",
   "metadata": {},
   "outputs": [],
   "source": [
    "reload_lamb()\n"
   ]
  },
  {
   "cell_type": "code",
   "execution_count": 1193,
   "id": "b2dd7205-4db5-4550-a40a-63d26d3a3e54",
   "metadata": {},
   "outputs": [
    {
     "data": {
      "text/markdown": [
       "${unit}_{\\left\\langle{}X'',\\left\\langle{}e,X''\\right\\rangle{}\\right\\rangle{}}\\:=\\:\\lambda{} a_{X''} \\: . \\: \\lambda{} w_{e} \\: . \\: {a}$"
      ],
      "text/plain": [
       "unit_<X2,<e,X2>> = (λ a_X2: (λ w_e: a_X2))"
      ]
     },
     "metadata": {},
     "output_type": "display_data"
    }
   ],
   "source": [
    "%lamb unit = L a_X2 : L w_e : a"
   ]
  },
  {
   "cell_type": "code",
   "execution_count": 1194,
   "id": "b1ab6c47-984a-4bc9-8f88-7146c32bdadb",
   "metadata": {},
   "outputs": [
    {
     "data": {
      "text/latex": [
       "${[\\lambda{} a_{\\left\\langle{}X,\\left\\langle{}e,X\\right\\rangle{}\\right\\rangle{}} \\: . \\: \\lambda{} w_{e} \\: . \\: {a}]}(\\lambda{} a_{X} \\: . \\: \\lambda{} w_{e} \\: . \\: {a})$"
      ],
      "text/plain": [
       "(λ a_<X,<e,X>>: (λ w_e: a_<X,<e,X>>))(λ a_X: (λ w_e: a_X))"
      ]
     },
     "execution_count": 1194,
     "metadata": {},
     "output_type": "execute_result"
    }
   ],
   "source": [
    "unit(unit)"
   ]
  },
  {
   "cell_type": "code",
   "execution_count": 1198,
   "id": "41432660-0deb-4cc5-ae0a-2da6f53d0b13",
   "metadata": {},
   "outputs": [
    {
     "data": {
      "text/latex": [
       "$\\lambda{} w_{e} \\: . \\: \\lambda{} a_{X} \\: . \\: \\lambda{} w_{e} \\: . \\: {a}$"
      ],
      "text/plain": [
       "(λ w_e: (λ a_X: (λ w_e: a_X)))"
      ]
     },
     "execution_count": 1198,
     "metadata": {},
     "output_type": "execute_result"
    }
   ],
   "source": [
    "# lamb.parsing.errors_raise = True\n",
    "x = %te globals reduce unit(unit)\n",
    "x"
   ]
  },
  {
   "cell_type": "code",
   "execution_count": 1199,
   "id": "716e9bd5-8a15-4a2c-966a-8b27178007f8",
   "metadata": {},
   "outputs": [
    {
     "data": {
      "text/html": [
       "<table><tr><td>Term mappings:&nbsp;&nbsp; </td><td>{}</td></tr><tr><td>Type mappings:&nbsp;&nbsp; </td><td>{}</td></tr><tr><td>Type variables:&nbsp;&nbsp; </td><td>{$X$}</td></tr></table>"
      ],
      "text/plain": [
       "[TypeEnv: Terms: {}, Type mapping: {}, Type variables: {X}]"
      ]
     },
     "execution_count": 1199,
     "metadata": {},
     "output_type": "execute_result"
    }
   ],
   "source": [
    "x.get_type_env()"
   ]
  },
  {
   "cell_type": "code",
   "execution_count": 1200,
   "id": "27306476-fb61-4402-9412-6d8b2a488794",
   "metadata": {},
   "outputs": [
    {
     "data": {
      "text/html": [
       "<div align=\"left\" style=\"display:table;\"><div style=\"display:table-cell;vertical-align:top;padding-left:5px;padding-right:5px;padding-top:0.2em\"><div style=\"display:table;\"><div style=\"display:table-row;vertical-align:top;\"><div align=\"left\" style=\"display:table;border-collapse:collapse;\"><div style=\"display:table-row;border-bottom:1px solid #848482;\"><div style=\"display:table-cell;padding:0.2em 5px 0.2em 0px;vertical-align:top;\"></div><div style=\"display:table-cell;vertical-align:top;border-right:1px solid #848482;padding-right:5px;;padding-top:0.2em\"><div style=\"display:inline-block;\"><span>${unit}_{\\forall{}\\left\\langle{}X'',\\left\\langle{}e,X''\\right\\rangle{}\\right\\rangle{}}({unit}_{\\forall{}\\left\\langle{}X'',\\left\\langle{}e,X''\\right\\rangle{}\\right\\rangle{}})$</span></div></div><div style=\"display:table-cell;vertical-align:top;padding-left:5px;padding-right:5px;padding-top:0.2em\"><div style=\"display:table;\"><div style=\"display:table-row;\"><div style=\"white-space:nowrap; color:blue;\"><span>Type inference</span></div></div></div></div></div><div style=\"display:table-row;border-bottom:1px solid #848482;\"><div style=\"display:table-cell;padding:0.2em 5px 0.2em 0px;vertical-align:top;\"> 1. </div><div style=\"display:table-cell;vertical-align:top;border-right:1px solid #848482;padding-right:5px;;padding-top:0.2em\"><div style=\"display:inline-block;\"><span>${unit}_{\\forall{}\\left\\langle{}\\left\\langle{}X,\\left\\langle{}e,X\\right\\rangle{}\\right\\rangle{},\\left\\langle{}e,\\left\\langle{}X,\\left\\langle{}e,X\\right\\rangle{}\\right\\rangle{}\\right\\rangle{}\\right\\rangle{}}({unit}_{\\forall{}\\left\\langle{}X,\\left\\langle{}e,X\\right\\rangle{}\\right\\rangle{}})$</span></div></div><div style=\"display:table-cell;vertical-align:top;padding-left:5px;padding-right:5px;padding-top:0.2em\"><div style=\"display:table;\"><div style=\"display:table-row;\"><div style=\"white-space:nowrap; color:blue;\"><span>Variable substitution from context</span></div></div></div></div></div><div style=\"display:table-row;border-bottom:1px solid #848482;\"><div style=\"display:table-cell;padding:0.2em 5px 0.2em 0px;vertical-align:top;\"> 2. </div><div style=\"display:table-cell;vertical-align:top;border-right:1px solid #848482;padding-right:5px;;padding-top:0.2em\"><div style=\"display:inline-block;\"><span>${[\\lambda{} a_{\\left\\langle{}X,\\left\\langle{}e,X\\right\\rangle{}\\right\\rangle{}} \\: . \\: \\lambda{} w_{e} \\: . \\: {a}]}(\\lambda{} a_{X} \\: . \\: \\lambda{} w_{e} \\: . \\: {a})$</span></div></div><div style=\"display:table-cell;vertical-align:top;padding-left:5px;padding-right:5px;padding-top:0.2em\"><div style=\"display:table;\"><div style=\"display:table-row;\"><div style=\"white-space:nowrap; color:blue;\"><span>Reduction</span></div></div></div></div></div><div style=\"display:table-row;\"><div style=\"display:table-cell;padding:0.2em 5px 0.2em 0px;vertical-align:top;\"> 3. </div><div style=\"display:table-cell;vertical-align:top;border-right:1px solid #848482;padding-right:5px;;padding-top:0.2em\"><div style=\"display:inline-block;\"><span>$\\lambda{} w_{e} \\: . \\: \\lambda{} a_{X} \\: . \\: \\lambda{} w_{e} \\: . \\: {a}$</span></div></div></div></div></div></div></div></div>"
      ],
      "text/plain": [
       " 1. unit_∀<X2,<e,X2>>(unit_∀<X2,<e,X2>>)    (Type inference)\n",
       " 2. unit_∀<<X,<e,X>>,<e,<X,<e,X>>>>(unit_∀<X,<e,X>>)    (Variable substitution from context)\n",
       " 3. (λ a_<X,<e,X>>: (λ w_e: a_<X,<e,X>>))(λ a_X: (λ w_e: a_X))    (Reduction)\n",
       " 4. (λ w_e: (λ a_X: (λ w_e: a_X)))"
      ]
     },
     "execution_count": 1200,
     "metadata": {},
     "output_type": "execute_result"
    }
   ],
   "source": [
    "x.derivation"
   ]
  },
  {
   "cell_type": "code",
   "execution_count": null,
   "id": "bd7cd611-8959-417a-8e10-cf740dbd8204",
   "metadata": {},
   "outputs": [],
   "source": []
  },
  {
   "cell_type": "code",
   "execution_count": 1201,
   "id": "fd8698b3-6aed-4bc3-a5d2-de1d41983e87",
   "metadata": {},
   "outputs": [
    {
     "data": {
      "text/latex": [
       "${unit}_{\\forall{}\\left\\langle{}\\left\\langle{}X,\\left\\langle{}e,X\\right\\rangle{}\\right\\rangle{},\\left\\langle{}e,\\left\\langle{}X,\\left\\langle{}e,X\\right\\rangle{}\\right\\rangle{}\\right\\rangle{}\\right\\rangle{}}({unit}_{\\forall{}\\left\\langle{}X,\\left\\langle{}e,X\\right\\rangle{}\\right\\rangle{}})$"
      ],
      "text/plain": [
       "unit_∀<<X,<e,X>>,<e,<X,<e,X>>>>(unit_∀<X,<e,X>>)"
      ]
     },
     "execution_count": 1201,
     "metadata": {},
     "output_type": "execute_result"
    }
   ],
   "source": [
    "%te unit_∀<X,<e,X>>(unit_∀<X,<e,X>>)"
   ]
  },
  {
   "cell_type": "code",
   "execution_count": 1202,
   "id": "2e758c9e-be65-4886-a6ea-767d6f01465b",
   "metadata": {},
   "outputs": [
    {
     "data": {
      "text/plain": [
       "(unit_∀<<X,<e,X>>,<e,<X,<e,X>>>>, unit_∀<X,<e,X>>, ∀<e,<X,<e,X>>>, True)"
      ]
     },
     "execution_count": 1202,
     "metadata": {},
     "output_type": "execute_result"
    }
   ],
   "source": [
    "lamb.meta.core.ApplicationExpr.fa_type_inference(te(\"unit_∀<X,<e,X>>\"), te(\"unit_∀<X,<e,X>>\"), dict()) #[1].get_type_env()"
   ]
  },
  {
   "cell_type": "code",
   "execution_count": 1203,
   "id": "2b4cfc56-255e-4901-bf02-c58142e72086",
   "metadata": {},
   "outputs": [
    {
     "data": {
      "text/html": [
       "<table><tr><td>Term mappings:&nbsp;&nbsp; </td><td>{'unit': $\\forall{}\\left\\langle{}X,\\left\\langle{}e,X\\right\\rangle{}\\right\\rangle{}$}</td></tr><tr><td>Type mappings:&nbsp;&nbsp; </td><td>{$?_{55}$: $\\forall{}\\left\\langle{}X,\\left\\langle{}e,X\\right\\rangle{}\\right\\rangle{}$}</td></tr><tr><td>Type variables:&nbsp;&nbsp; </td><td>{$?_{55}$}</td></tr></table>"
      ],
      "text/plain": [
       "[TypeEnv: Terms: {'unit': ∀<X,<e,X>>}, Type mapping: {?55: ∀<X,<e,X>>}, Type variables: {?55}]"
      ]
     },
     "execution_count": 1203,
     "metadata": {},
     "output_type": "execute_result"
    }
   ],
   "source": [
    "meta.core.ApplicationExpr(te(\"unit_∀<X,<e,X>>\"), te(\"unit_∀<X,<e,X>>\")).get_type_env()"
   ]
  },
  {
   "cell_type": "code",
   "execution_count": 1204,
   "id": "186adae4-cdce-42bf-a836-801109565438",
   "metadata": {},
   "outputs": [
    {
     "data": {
      "text/html": [
       "<table><tr><td>Term mappings:&nbsp;&nbsp; </td><td>{'unit': $\\forall{}\\left\\langle{}\\left\\langle{}X,\\left\\langle{}e,X\\right\\rangle{}\\right\\rangle{},\\left\\langle{}e,\\left\\langle{}X,\\left\\langle{}e,X\\right\\rangle{}\\right\\rangle{}\\right\\rangle{}\\right\\rangle{}$}</td></tr><tr><td>Type mappings:&nbsp;&nbsp; </td><td>{}</td></tr><tr><td>Type variables:&nbsp;&nbsp; </td><td>{}</td></tr></table>"
      ],
      "text/plain": [
       "[TypeEnv: Terms: {'unit': ∀<<X,<e,X>>,<e,<X,<e,X>>>>}, Type mapping: {}, Type variables: set()]"
      ]
     },
     "execution_count": 1204,
     "metadata": {},
     "output_type": "execute_result"
    }
   ],
   "source": [
    "meta.core.TypedExpr.factory(te(\"unit_∀<X,<e,X>>\"), te(\"unit_∀<X,<e,X>>\")).get_type_env()"
   ]
  },
  {
   "cell_type": "code",
   "execution_count": 1207,
   "id": "1a7c2bde-86d6-4026-8545-3934817e2306",
   "metadata": {},
   "outputs": [
    {
     "data": {
      "text/latex": [
       "${f}_{\\left\\langle{}\\left\\langle{}\\forall{}X,\\forall{}X\\right\\rangle{},\\forall{}X\\right\\rangle{}}({f}_{\\left\\langle{}\\forall{}X,\\forall{}X\\right\\rangle{}})$"
      ],
      "text/plain": [
       "f_<<∀X,∀X>,∀X>(f_<∀X,∀X>)"
      ]
     },
     "execution_count": 1207,
     "metadata": {},
     "output_type": "execute_result"
    }
   ],
   "source": [
    "te(\"f_∀X(f_<∀X,∀X>)\")"
   ]
  },
  {
   "cell_type": "code",
   "execution_count": 1208,
   "id": "ae9c9473-33f4-49b5-a928-7ffa154b0d0c",
   "metadata": {},
   "outputs": [
    {
     "data": {
      "text/latex": [
       "${f}_{\\forall{}\\left\\langle{}X,X'\\right\\rangle{}}({f}_{\\forall{}\\left\\langle{}X,X'\\right\\rangle{}}({f}_{\\forall{}X}))$"
      ],
      "text/plain": [
       "f_∀<X,X1>(f_∀<X,X1>(f_∀X))"
      ]
     },
     "execution_count": 1208,
     "metadata": {},
     "output_type": "execute_result"
    }
   ],
   "source": [
    "te(\"f_∀X(f_<∀X,∀Y>(f_∀X))\")"
   ]
  },
  {
   "cell_type": "code",
   "execution_count": 1209,
   "id": "a0fad693-7da5-4965-87de-76113bc83630",
   "metadata": {},
   "outputs": [
    {
     "data": {
      "text/latex": [
       "${f}_{\\forall{}\\left\\langle{}\\left\\langle{}X,X\\right\\rangle{},X'\\right\\rangle{}}({f}_{\\forall{}\\left\\langle{}X,X\\right\\rangle{}})$"
      ],
      "text/plain": [
       "f_∀<<X,X>,X1>(f_∀<X,X>)"
      ]
     },
     "execution_count": 1209,
     "metadata": {},
     "output_type": "execute_result"
    }
   ],
   "source": [
    "te(\"f_∀X(f_∀<X,X>)\")"
   ]
  },
  {
   "cell_type": "code",
   "execution_count": null,
   "id": "9f32dd44-ae0b-4452-880a-abe878611895",
   "metadata": {},
   "outputs": [],
   "source": []
  },
  {
   "cell_type": "code",
   "execution_count": null,
   "id": "07b6f59a-618d-4706-89d1-c999ecc03db8",
   "metadata": {},
   "outputs": [],
   "source": []
  },
  {
   "cell_type": "code",
   "execution_count": 403,
   "id": "96ec77a4-66c1-48bd-9290-ec2e9b3549da",
   "metadata": {},
   "outputs": [
    {
     "name": "stdout",
     "output_type": "stream",
     "text": [
      " (λ x_e: x_e)(y_e)\n",
      " P_<e,t>(x_e)\n",
      " Q_<e,t>(x_e)\n",
      " (P_<e,t>(x_e) & P_<e,t>(x_e))\n",
      " ((P_<e,t>(x_e) & P_<e,t>(x_e)) | P_<e,t>(x_e))\n",
      " (P_<e,t>(x_e) & p_t)\n",
      " (P_<e,t>(x_e) & Q_<e,t>(x_e))\n",
      " f_<e,t>(x_e)\n",
      " g_<e,t>(x_e)\n",
      " (f_<e,t>(x_e) & g_<e,t>(x_e))\n",
      " f_<e,t>(x_e)\n",
      " g_<e,t>(x_e)\n",
      " (f_<e,t>(x_e) & g_<e,t>(x_e))\n",
      " f_<X,t>(x_X)\n",
      " g_<X,t>(x_X)\n",
      " (f_<X,t>(x_X) & g_<X,t>(x_X))\n",
      "     unsafe {X}, used []\n",
      " f_<X,Y>(x_X)\n",
      " g_<Y,Z>(f_<X,Y>(x_X))\n",
      "     unsafe {Z, X, Y}, used []\n",
      " g_<X,t>(f_X)\n",
      "     unsafe {X}, used []\n",
      " g_<X,Y>(f_X)\n",
      "     unsafe {X, Y}, used []\n",
      " g_<e,X>(x_e)\n",
      " f_<X,<e,Z>>(g_<e,X>(x_e))\n",
      " f_<X,<e,Z>>(g_<e,X>(x_e))(x_e)\n",
      "     unsafe {X, Z}, used []\n",
      " g_<Y,X>(x_Y)\n",
      " f_<X,<Y,Z>>(g_<Y,X>(x_Y))\n",
      " f_<X,<Y,Z>>(g_<Y,X>(x_Y))(x_Y)\n",
      "     unsafe {Z, X, Y}, used []\n"
     ]
    }
   ],
   "source": [
    "reload_lamb()"
   ]
  },
  {
   "cell_type": "code",
   "execution_count": 404,
   "id": "6cdbdb73-21ae-4652-a06b-7c973f898021",
   "metadata": {},
   "outputs": [
    {
     "name": "stdout",
     "output_type": "stream",
     "text": [
      "     unsafe {Y}, used []\n",
      "     unsafe {Y}, used []\n"
     ]
    },
    {
     "data": {
      "text/latex": [
       "$\\lambda{} x_{Y} \\: . \\: {x}$"
      ],
      "text/plain": [
       "(λ x_Y: x_Y)"
      ]
     },
     "metadata": {},
     "output_type": "display_data"
    },
    {
     "data": {
      "text/latex": [
       "${y}_{Y}$"
      ],
      "text/plain": [
       "y_Y"
      ]
     },
     "metadata": {},
     "output_type": "display_data"
    }
   ],
   "source": [
    "f = %te L x_Y : x\n",
    "x = %te y_Y\n",
    "display(f,x)"
   ]
  },
  {
   "cell_type": "code",
   "execution_count": 407,
   "id": "9744bf0e-859e-4f93-a8cc-c48469b5cc12",
   "metadata": {},
   "outputs": [
    {
     "name": "stdout",
     "output_type": "stream",
     "text": [
      " let wrapping (λ x_Y: x_Y)(y_Y)\n",
      "     unsafe {Y}, used []\n",
      " (λ x_Y: x_Y)(y_Y)\n"
     ]
    },
    {
     "data": {
      "text/latex": [
       "${[\\lambda{} x_{Y} \\: . \\: {x}]}({y}_{Y})$"
      ],
      "text/plain": [
       "(λ x_Y: x_Y)(y_Y)"
      ]
     },
     "execution_count": 407,
     "metadata": {},
     "output_type": "execute_result"
    }
   ],
   "source": [
    "f(x)"
   ]
  },
  {
   "cell_type": "code",
   "execution_count": 402,
   "id": "473a6470-caa2-47f3-89a3-df11be1f7bec",
   "metadata": {},
   "outputs": [
    {
     "name": "stdout",
     "output_type": "stream",
     "text": [
      " let wrapping (λ x_?30: x_?30)(y_?30)\n",
      "     unsafe set(), used [?30]\n",
      " (λ x_X: x_X)(y_X)\n"
     ]
    },
    {
     "data": {
      "text/latex": [
       "${[\\lambda{} x_{X} \\: . \\: {x}]}({y}_{X})$"
      ],
      "text/plain": [
       "(λ x_X: x_X)(y_X)"
      ]
     },
     "execution_count": 402,
     "metadata": {},
     "output_type": "execute_result"
    }
   ],
   "source": [
    "lamb.meta.TypedExpr.factory(f, x)"
   ]
  },
  {
   "cell_type": "code",
   "execution_count": 397,
   "id": "b033adc1-5c09-483c-961e-babbde891dc6",
   "metadata": {},
   "outputs": [
    {
     "data": {
      "text/plain": [
       "(True, [(λ x_X: x_X), y_?19])"
      ]
     },
     "execution_count": 397,
     "metadata": {},
     "output_type": "execute_result"
    }
   ],
   "source": [
    "lamb.meta.core.let_freshen(f, x)"
   ]
  },
  {
   "cell_type": "code",
   "execution_count": null,
   "id": "9d14234b-2b1b-49ac-aa8c-b02482bad810",
   "metadata": {},
   "outputs": [],
   "source": []
  },
  {
   "cell_type": "code",
   "execution_count": null,
   "id": "eaea6d46-ec04-41ea-b03c-d2c445b9732f",
   "metadata": {},
   "outputs": [],
   "source": []
  },
  {
   "cell_type": "code",
   "execution_count": 519,
   "id": "25c9a386-ee3f-42e1-94d3-68ac40f58752",
   "metadata": {},
   "outputs": [
    {
     "data": {
      "text/markdown": [
       "<span style=\"color:red\">**ParseError**</span>: Missing comma in type, in string `L x_X : P_<?,t>(x)`"
      ],
      "text/plain": [
       "ParseError: Missing comma in type, in string `L x_X : P_<?,t>(x)`"
      ]
     },
     "metadata": {},
     "output_type": "display_data"
    },
    {
     "data": {
      "text/markdown": [
       "<i>(Empty lexicon)</i>"
      ],
      "text/plain": [
       "<i>(Empty lexicon)</i>"
      ]
     },
     "metadata": {},
     "output_type": "display_data"
    }
   ],
   "source": [
    "%lamb ttest = L x_X : P_<?,t>(x) # type <?,t>"
   ]
  },
  {
   "cell_type": "code",
   "execution_count": 538,
   "id": "41a537e0-d2f6-479f-bb3e-bec3313bf8bf",
   "metadata": {},
   "outputs": [
    {
     "data": {
      "text/latex": [
       "${P}_{X}$"
      ],
      "text/plain": [
       "P_X"
      ]
     },
     "execution_count": 538,
     "metadata": {},
     "output_type": "execute_result"
    }
   ],
   "source": [
    "reload_lamb()\n",
    "te(\"P_?\")"
   ]
  },
  {
   "cell_type": "code",
   "execution_count": 539,
   "id": "1252d36f-d847-4ef3-b27d-0be9f00eb55a",
   "metadata": {},
   "outputs": [
    {
     "data": {
      "text/latex": [
       "${P}({x}_{e})$"
      ],
      "text/plain": [
       "P_<e,t>(x_e)"
      ]
     },
     "execution_count": 539,
     "metadata": {},
     "output_type": "execute_result"
    }
   ],
   "source": [
    "lamb.parsing.errors_raise = True\n",
    "%te P_<?,t>(x)"
   ]
  },
  {
   "cell_type": "code",
   "execution_count": null,
   "id": "eb4c7bf0-a526-4fa2-ab22-8a98e158c9ce",
   "metadata": {},
   "outputs": [],
   "source": []
  },
  {
   "cell_type": "code",
   "execution_count": null,
   "id": "779785f7-51a6-4e7a-b589-369b65456af1",
   "metadata": {},
   "outputs": [],
   "source": []
  },
  {
   "cell_type": "code",
   "execution_count": 515,
   "id": "a0a991c9-b149-45de-b6b4-e3302e9874cd",
   "metadata": {},
   "outputs": [
    {
     "data": {
      "text/latex": [
       "${f}_{\\left\\langle{}Y,X\\right\\rangle{}}({x}_{Y})$"
      ],
      "text/plain": [
       "f_<Y,X>(x_Y)"
      ]
     },
     "execution_count": 515,
     "metadata": {},
     "output_type": "execute_result"
    }
   ],
   "source": [
    "reload_lamb()\n",
    "p = %te f_X(x_Y)\n",
    "p"
   ]
  },
  {
   "cell_type": "code",
   "execution_count": 516,
   "id": "4aae692b-103c-45b9-97ef-01b7c125d2f7",
   "metadata": {},
   "outputs": [
    {
     "data": {
      "text/html": [
       "<div align=\"left\" style=\"display:table;\"><div style=\"display:table-cell;vertical-align:top;padding-left:5px;padding-right:5px;padding-top:0.2em\"><div style=\"display:table;\"><div style=\"display:table-row;vertical-align:top;\"><div align=\"left\" style=\"display:table;border-collapse:collapse;\"><div style=\"display:table-row;border-bottom:1px solid #848482;\"><div style=\"display:table-cell;padding:0.2em 5px 0.2em 0px;vertical-align:top;\"></div><div style=\"display:table-cell;vertical-align:top;border-right:1px solid #848482;padding-right:5px;;padding-top:0.2em\"><div style=\"display:inline-block;\"><span>${f}_{X}({x}_{Y})$</span></div></div><div style=\"display:table-cell;vertical-align:top;padding-left:5px;padding-right:5px;padding-top:0.2em\"><div style=\"display:table;\"><div style=\"display:table-row;\"><div style=\"white-space:nowrap; color:blue;\"><span>Type inference</span></div></div></div></div></div><div style=\"display:table-row;border-bottom:1px solid #848482;\"><div style=\"display:table-cell;padding:0.2em 5px 0.2em 0px;vertical-align:top;\"> 1. </div><div style=\"display:table-cell;vertical-align:top;border-right:1px solid #848482;padding-right:5px;;padding-top:0.2em\"><div style=\"display:inline-block;\"><span>${f}_{\\left\\langle{}Y,?_{13}\\right\\rangle{}}({x}_{Y})$</span></div></div><div style=\"display:table-cell;vertical-align:top;padding-left:5px;padding-right:5px;padding-top:0.2em\"><div style=\"display:table;\"><div style=\"display:table-row;\"><div style=\"white-space:nowrap; color:blue;\"><span>Let substitution</span></div></div></div></div></div><div style=\"display:table-row;\"><div style=\"display:table-cell;padding:0.2em 5px 0.2em 0px;vertical-align:top;\"> 2. </div><div style=\"display:table-cell;vertical-align:top;border-right:1px solid #848482;padding-right:5px;;padding-top:0.2em\"><div style=\"display:inline-block;\"><span>${f}_{\\left\\langle{}Y,X\\right\\rangle{}}({x}_{Y})$</span></div></div></div></div></div></div></div></div>"
      ],
      "text/plain": [
       " 1. f_X(x_Y)    (Type inference)\n",
       " 2. f_<Y,?13>(x_Y)    (Let substitution)\n",
       " 3. f_<Y,X>(x_Y)"
      ]
     },
     "execution_count": 516,
     "metadata": {},
     "output_type": "execute_result"
    }
   ],
   "source": [
    "p.derivation"
   ]
  },
  {
   "cell_type": "code",
   "execution_count": 518,
   "id": "d3eb2fa1-2399-4a27-ae9f-a0eb97a2d331",
   "metadata": {},
   "outputs": [
    {
     "data": {
      "text/html": [
       "<div align=\"left\" style=\"display:table;\"><div style=\"display:table-cell;vertical-align:top;padding-left:5px;padding-right:5px;padding-top:0.2em\"><div style=\"display:table;\"><div style=\"display:table-row;vertical-align:top;\"><div align=\"left\" style=\"display:table;border-collapse:collapse;\"><div style=\"display:table-row;border-bottom:1px solid #848482;\"><div style=\"display:table-cell;padding:0.2em 5px 0.2em 0px;vertical-align:top;\"></div><div style=\"display:table-cell;vertical-align:top;border-right:1px solid #848482;padding-right:5px;;padding-top:0.2em\"><div style=\"display:inline-block;\"><span>${f}_{X}({x}_{?_{18}})$</span></div></div><div style=\"display:table-cell;vertical-align:top;padding-left:5px;padding-right:5px;padding-top:0.2em\"><div style=\"display:table;\"><div style=\"display:table-row;\"><div style=\"white-space:nowrap; color:blue;\"><span>Type inference</span></div></div></div></div></div><div style=\"display:table-row;border-bottom:1px solid #848482;\"><div style=\"display:table-cell;padding:0.2em 5px 0.2em 0px;vertical-align:top;\"> 1. </div><div style=\"display:table-cell;vertical-align:top;border-right:1px solid #848482;padding-right:5px;;padding-top:0.2em\"><div style=\"display:inline-block;\"><span>${f}_{\\left\\langle{}?_{18},?_{19}\\right\\rangle{}}({x}_{?_{18}})$</span></div></div><div style=\"display:table-cell;vertical-align:top;padding-left:5px;padding-right:5px;padding-top:0.2em\"><div style=\"display:table;\"><div style=\"display:table-row;\"><div style=\"white-space:nowrap; color:blue;\"><span>Let substitution</span></div></div></div></div></div><div style=\"display:table-row;\"><div style=\"display:table-cell;padding:0.2em 5px 0.2em 0px;vertical-align:top;\"> 2. </div><div style=\"display:table-cell;vertical-align:top;border-right:1px solid #848482;padding-right:5px;;padding-top:0.2em\"><div style=\"display:inline-block;\"><span>${f}_{\\left\\langle{}X,X'\\right\\rangle{}}({x}_{X})$</span></div></div></div></div></div></div></div></div>"
      ],
      "text/plain": [
       " 1. f_X(x_?18)    (Type inference)\n",
       " 2. f_<?18,?19>(x_?18)    (Let substitution)\n",
       " 3. f_<X,X1>(x_X)"
      ]
     },
     "execution_count": 518,
     "metadata": {},
     "output_type": "execute_result"
    }
   ],
   "source": [
    "te(\"f_X\")(te(\"x_Y\")).derivation"
   ]
  },
  {
   "cell_type": "code",
   "execution_count": null,
   "id": "1a5bb35c-3fb6-40e3-8251-9a4495353532",
   "metadata": {},
   "outputs": [],
   "source": []
  },
  {
   "cell_type": "code",
   "execution_count": null,
   "id": "cf6e1f31-974c-4dd7-858d-a8c753815937",
   "metadata": {},
   "outputs": [],
   "source": []
  },
  {
   "cell_type": "code",
   "execution_count": null,
   "id": "48f3f6a5-41b9-4331-b89d-afc08118d1d0",
   "metadata": {},
   "outputs": [],
   "source": []
  },
  {
   "cell_type": "code",
   "execution_count": 588,
   "id": "152a70e7-120f-4597-8b52-1632f2331bf6",
   "metadata": {},
   "outputs": [
    {
     "data": {
      "text/latex": [
       "${P}({x}_{e}, {y}_{e})$"
      ],
      "text/plain": [
       "P_<(e,e),t>(x_e, y_e)"
      ]
     },
     "execution_count": 588,
     "metadata": {},
     "output_type": "execute_result"
    }
   ],
   "source": [
    "reload_lamb()\n",
    "meta.term(\"P_<(e,e),t>\")(meta.term(\"x_e\"), meta.term(\"y_e\"))"
   ]
  },
  {
   "cell_type": "code",
   "execution_count": null,
   "id": "e3acbcf5-ce1e-47c3-99f8-c066e5aa19a3",
   "metadata": {},
   "outputs": [],
   "source": []
  }
 ],
 "metadata": {
  "kernelspec": {
   "display_name": "Lambda Notebook (Python 3)",
   "language": "python",
   "name": "lambda-notebook"
  },
  "language_info": {
   "codemirror_mode": {
    "name": "ipython",
    "version": 3
   },
   "file_extension": ".py",
   "mimetype": "text/x-python",
   "name": "python",
   "nbconvert_exporter": "python",
   "pygments_lexer": "ipython3",
   "version": "3.12.0"
  }
 },
 "nbformat": 4,
 "nbformat_minor": 5
}
