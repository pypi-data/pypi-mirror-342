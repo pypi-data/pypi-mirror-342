{
 "cells": [
  {
   "cell_type": "code",
   "execution_count": 118,
   "id": "9befafff-0740-4064-bfd4-8133226c1130",
   "metadata": {},
   "outputs": [],
   "source": [
    "reload_lamb()"
   ]
  },
  {
   "cell_type": "code",
   "execution_count": 119,
   "id": "2b6129d2-30ae-49e4-8dd2-bfe438e903a7",
   "metadata": {},
   "outputs": [
    {
     "name": "stdout",
     "output_type": "stream",
     "text": [
      "INFO (core): Coerced guessed type for 'P_t' into <e,t>, to match argument 'x_e'\n"
     ]
    },
    {
     "data": {
      "text/latex": [
       "$\\forall{} x_{e} \\in {\\small \\{{\\textsf{c1}}_{e}, {\\textsf{c2}}_{e}\\}} \\: . \\: {P}({x})$"
      ],
      "text/plain": [
       "(Forall x_e << {_c1_e, _c2_e}: P_<e,t>(x_e))"
      ]
     },
     "execution_count": 119,
     "metadata": {},
     "output_type": "execute_result"
    }
   ],
   "source": [
    "lamb.parsing.errors_raise = False\n",
    "%te Forall x_e << {_c1, _c2} : P(x)"
   ]
  },
  {
   "cell_type": "code",
   "execution_count": 120,
   "id": "c1b457eb-5ba2-4272-9c74-ac8fe74bed60",
   "metadata": {},
   "outputs": [
    {
     "name": "stdout",
     "output_type": "stream",
     "text": [
      "INFO (core): Coerced guessed type for 'P_t' into <e,t>, to match argument 'x_e'\n",
      "INFO (core): Coerced guessed type for 'P_t' into <e,t>, to match argument 'x_e'\n"
     ]
    },
    {
     "data": {
      "text/latex": [
       "$\\forall{} x_{e} \\in {\\small \\{{x}_{e} \\:|\\: {P}({x}_{e})\\}} \\: . \\: {P}({x})$"
      ],
      "text/plain": [
       "(Forall x_e << (Set x_e: P_<e,t>(x_e)): P_<e,t>(x_e))"
      ]
     },
     "execution_count": 120,
     "metadata": {},
     "output_type": "execute_result"
    }
   ],
   "source": [
    "lamb.parsing.errors_raise = False\n",
    "%te Forall x_e << (Set x_e : P(x)): P(x)"
   ]
  },
  {
   "cell_type": "code",
   "execution_count": null,
   "id": "c70493be-9502-43f2-9780-daab5d0e3923",
   "metadata": {},
   "outputs": [],
   "source": []
  },
  {
   "cell_type": "code",
   "execution_count": null,
   "id": "4a4d12ff-0592-4746-9935-4f0279aa1c6d",
   "metadata": {},
   "outputs": [],
   "source": []
  },
  {
   "cell_type": "code",
   "execution_count": 121,
   "id": "c2b72e90-707e-4f63-a5f9-34ccc45768dd",
   "metadata": {},
   "outputs": [],
   "source": [
    "reload_lamb()"
   ]
  },
  {
   "cell_type": "code",
   "execution_count": 122,
   "id": "fa3c9c9e-8019-4532-a02f-b6f565d8c670",
   "metadata": {},
   "outputs": [
    {
     "name": "stdout",
     "output_type": "stream",
     "text": [
      "INFO (core): Coerced guessed type for 'P_t' into <e,t>, to match argument 'x_e'\n"
     ]
    },
    {
     "data": {
      "text/latex": [
       "${p}_{t} \\wedge{} (\\exists{} x_{e} \\in {\\small \\{{\\textsf{c1}}_{e}\\}} \\: . \\: {P}({x}))$"
      ],
      "text/plain": [
       "(p_t ∧ (Exists x_e << {_c1_e}: P_<e,t>(x_e)))"
      ]
     },
     "execution_count": 122,
     "metadata": {},
     "output_type": "execute_result"
    }
   ],
   "source": [
    "%te p_t & (((Exists x_e << {_c1}: P(x))))"
   ]
  },
  {
   "cell_type": "code",
   "execution_count": 123,
   "id": "ae92825f-fd93-42d0-87f3-668823e09763",
   "metadata": {},
   "outputs": [
    {
     "data": {
      "text/latex": [
       "$\\textsf{True}$"
      ],
      "text/plain": [
       "True_t"
      ]
     },
     "execution_count": 123,
     "metadata": {},
     "output_type": "execute_result"
    }
   ],
   "source": [
    "lamb.parsing.errors_raise = True\n",
    "%te simplify Exists x_e << {_c1, _c2} : x <=> _c2"
   ]
  },
  {
   "cell_type": "code",
   "execution_count": 124,
   "id": "fbdfb764-6058-4e2d-a084-3781a19553d4",
   "metadata": {},
   "outputs": [
    {
     "data": {
      "text/html": [
       "<div align=\"left\" style=\"display:table;\"><div style=\"display:table-cell;vertical-align:top;padding-left:5px;padding-right:5px;padding-top:0.2em\"><div style=\"display:table;\"><div style=\"display:table-row;vertical-align:top;\"><div align=\"left\" style=\"display:table;border-collapse:collapse;\"><div style=\"display:table-row;border-bottom:1px solid #848482;\"><div style=\"display:table-cell;padding:0.2em 5px 0.2em 0px;vertical-align:top;\"></div><div style=\"display:table-cell;vertical-align:top;border-right:1px solid #848482;padding-right:5px;;padding-top:0.2em\"><div style=\"display:inline-block;\"><span>$\\exists{} x_{e} \\in {\\small \\{{\\textsf{c2}}_{e}\\}} \\: . \\: {x} = {\\textsf{c2}}_{e}$</span></div></div><div style=\"display:table-cell;vertical-align:top;padding-left:5px;padding-right:5px;padding-top:0.2em\"><div style=\"display:table;\"><div style=\"display:table-row;\"><div style=\"white-space:nowrap; color:blue;\"><span>[alphabetic normalization]</span></div></div></div></div></div><div style=\"display:table-row;border-bottom:1px solid #848482;\"><div style=\"display:table-cell;padding:0.2em 5px 0.2em 0px;vertical-align:top;\"> 1. </div><div style=\"display:table-cell;vertical-align:top;border-right:1px solid #848482;padding-right:5px;;padding-top:0.2em\"><div style=\"display:inline-block;\"><span>$\\exists{} x_{e} \\in {\\small \\{{\\textsf{c2}}_{e}\\}} \\: . \\: {\\textsf{c2}}_{e} = {x}$</span></div></div><div style=\"display:table-cell;vertical-align:top;padding-left:5px;padding-right:5px;padding-top:0.2em\"><div style=\"display:table;\"><div style=\"display:table-row;\"><div style=\"white-space:nowrap; color:blue;\"><span>∃x =&gt; ∨</span></div></div></div></div></div><div style=\"display:table-row;border-bottom:1px solid #848482;\"><div style=\"display:table-cell;padding:0.2em 5px 0.2em 0px;vertical-align:top;\"> 2. </div><div style=\"display:table-cell;vertical-align:top;border-right:1px solid #848482;padding-right:5px;;padding-top:0.2em\"><div style=\"display:inline-block;\"><span>${\\textsf{c2}}_{e} = {\\textsf{c2}}_{e}$</span></div></div><div style=\"display:table-cell;vertical-align:top;padding-left:5px;padding-right:5px;padding-top:0.2em\"><div style=\"display:table;\"><div style=\"display:table-row;\"><div style=\"white-space:nowrap; color:blue;\"><span>Equality</span></div></div></div></div></div><div style=\"display:table-row;\"><div style=\"display:table-cell;padding:0.2em 5px 0.2em 0px;vertical-align:top;\"> 3. </div><div style=\"display:table-cell;vertical-align:top;border-right:1px solid #848482;padding-right:5px;;padding-top:0.2em\"><div style=\"display:inline-block;\"><span>$\\textsf{True}$</span></div></div></div></div></div></div></div></div>"
      ],
      "text/plain": [
       " 1. (Exists x_e << {_c2_e}: (x_e <=> _c2_e))    ([alphabetic normalization])\n",
       " 2. (Exists x_e << {_c2_e}: (_c2_e <=> x_e))    (∃x => ∨)\n",
       " 3. (_c2_e <=> _c2_e)    (Equality)\n",
       " 4. True_t"
      ]
     },
     "execution_count": 124,
     "metadata": {},
     "output_type": "execute_result"
    }
   ],
   "source": [
    "%te simplify Exists x_e << {_c2} : x <=> _c2\n",
    "_llast.derivation"
   ]
  },
  {
   "cell_type": "code",
   "execution_count": 125,
   "id": "a738e3d8-5a68-4b50-b3dc-c0cd0ecdbff2",
   "metadata": {},
   "outputs": [
    {
     "name": "stdout",
     "output_type": "stream",
     "text": [
      "INFO (core): Coerced guessed type for 'P_t' into <e,t>, to match argument 'x_e'\n"
     ]
    },
    {
     "data": {
      "text/html": [
       "<div align=\"left\" style=\"display:table;\"><div style=\"display:table-cell;vertical-align:top;padding-left:5px;padding-right:5px;padding-top:0.2em\"><div style=\"display:table;\"><div style=\"display:table-row;vertical-align:top;\"><div align=\"left\" style=\"display:table;border-collapse:collapse;\"><div style=\"display:table-row;border-bottom:1px solid #848482;\"><div style=\"display:table-cell;padding:0.2em 5px 0.2em 0px;vertical-align:top;\"></div><div style=\"display:table-cell;vertical-align:top;border-right:1px solid #848482;padding-right:5px;;padding-top:0.2em\"><div style=\"display:inline-block;\"><span>$\\exists{} x_{e} \\in {\\small \\{{x}_{e} \\:|\\: {P}({x}_{e})\\}} \\: . \\: {x} = {\\textsf{c2}}_{e}$</span></div></div><div style=\"display:table-cell;vertical-align:top;padding-left:5px;padding-right:5px;padding-top:0.2em\"><div style=\"display:table;\"><div style=\"display:table-row;\"><div style=\"white-space:nowrap; color:blue;\"><span>[alphabetic normalization]</span></div></div></div></div></div><div style=\"display:table-row;\"><div style=\"display:table-cell;padding:0.2em 5px 0.2em 0px;vertical-align:top;\"> 1. </div><div style=\"display:table-cell;vertical-align:top;border-right:1px solid #848482;padding-right:5px;;padding-top:0.2em\"><div style=\"display:inline-block;\"><span>$\\exists{} x_{e} \\in {\\small \\{{x}_{e} \\:|\\: {P}({x}_{e})\\}} \\: . \\: {\\textsf{c2}}_{e} = {x}$</span></div></div></div></div></div></div></div></div>"
      ],
      "text/plain": [
       " 1. (Exists x_e << (Set x_e: P_<e,t>(x_e)): (x_e <=> _c2_e))    ([alphabetic normalization])\n",
       " 2. (Exists x_e << (Set x_e: P_<e,t>(x_e)): (_c2_e <=> x_e))"
      ]
     },
     "execution_count": 125,
     "metadata": {},
     "output_type": "execute_result"
    }
   ],
   "source": [
    "%te simplify Exists x_e << (Set x_e : P(x)) : x <=> _c2\n",
    "_llast.derivation"
   ]
  },
  {
   "cell_type": "code",
   "execution_count": 126,
   "id": "0da69c47-8fe0-40f0-b614-8b4c41c5620e",
   "metadata": {},
   "outputs": [
    {
     "data": {
      "text/latex": [
       "${\\textsf{c1}}_{e}$"
      ],
      "text/plain": [
       "_c1_e"
      ]
     },
     "execution_count": 126,
     "metadata": {},
     "output_type": "execute_result"
    }
   ],
   "source": [
    "te(\"Iota x_e << {_c1} : x == _c1\").simplify_all()"
   ]
  },
  {
   "cell_type": "code",
   "execution_count": 127,
   "id": "6eabdb39-185f-4114-88ba-7c28a77f4e5b",
   "metadata": {},
   "outputs": [
    {
     "data": {
      "text/latex": [
       "${\\textsf{c1}}_{e}$"
      ],
      "text/plain": [
       "_c1_e"
      ]
     },
     "execution_count": 127,
     "metadata": {},
     "output_type": "execute_result"
    }
   ],
   "source": [
    "te(\"Iota x_e << {_c1, _c2} : x == _c1\").simplify_all()"
   ]
  },
  {
   "cell_type": "code",
   "execution_count": 128,
   "id": "cac90f85-3830-4672-8061-53ef9da09c50",
   "metadata": {},
   "outputs": [
    {
     "ename": "DomainError",
     "evalue": "`(ι x_e << {}: (_c1_e <=> x_e))` not present in domain `{}`",
     "output_type": "error",
     "traceback": [
      "\u001b[0;31m---------------------------------------------------------------------------\u001b[0m",
      "\u001b[0;31mDomainError\u001b[0m                               Traceback (most recent call last)",
      "Cell \u001b[0;32mIn[128], line 1\u001b[0m\n\u001b[0;32m----> 1\u001b[0m \u001b[43mte\u001b[49m\u001b[43m(\u001b[49m\u001b[38;5;124;43m\"\u001b[39;49m\u001b[38;5;124;43mIota x_e << \u001b[39;49m\u001b[38;5;132;43;01m{}\u001b[39;49;00m\u001b[38;5;124;43m : x == _c1\u001b[39;49m\u001b[38;5;124;43m\"\u001b[39;49m\u001b[43m)\u001b[49m\u001b[38;5;241;43m.\u001b[39;49m\u001b[43msimplify_all\u001b[49m\u001b[43m(\u001b[49m\u001b[43m)\u001b[49m\n",
      "File \u001b[0;32m~/repos/lambda-notebook/lamb/meta/core.py:1848\u001b[0m, in \u001b[0;36mTypedExpr.simplify_all\u001b[0;34m(self, pre, **sopts)\u001b[0m\n\u001b[1;32m   1843\u001b[0m \u001b[38;5;28;01mif\u001b[39;00m get_sopt(\u001b[38;5;124m'\u001b[39m\u001b[38;5;124mcalc_partiality\u001b[39m\u001b[38;5;124m'\u001b[39m, sopts):\n\u001b[1;32m   1844\u001b[0m     \u001b[38;5;66;03m# similarly, don't apply calculate_partiality recursively. Note that\u001b[39;00m\n\u001b[1;32m   1845\u001b[0m     \u001b[38;5;66;03m# calculate_partiality may itself call simplify_all.\u001b[39;00m\n\u001b[1;32m   1846\u001b[0m     sopts[\u001b[38;5;124m'\u001b[39m\u001b[38;5;124mcalc_partiality\u001b[39m\u001b[38;5;124m'\u001b[39m] \u001b[38;5;241m=\u001b[39m \u001b[38;5;28;01mFalse\u001b[39;00m\n\u001b[0;32m-> 1848\u001b[0m \u001b[38;5;28;01mreturn\u001b[39;00m \u001b[43mresult\u001b[49m\u001b[38;5;241;43m.\u001b[39;49m\u001b[43m_simplify_all_r\u001b[49m\u001b[43m(\u001b[49m\u001b[43mpre\u001b[49m\u001b[38;5;241;43m=\u001b[39;49m\u001b[43mpre\u001b[49m\u001b[43m,\u001b[49m\u001b[43m \u001b[49m\u001b[38;5;241;43m*\u001b[39;49m\u001b[38;5;241;43m*\u001b[39;49m\u001b[43msopts\u001b[49m\u001b[43m)\u001b[49m\n",
      "File \u001b[0;32m~/repos/lambda-notebook/lamb/meta/core.py:1875\u001b[0m, in \u001b[0;36mTypedExpr._simplify_all_r\u001b[0;34m(self, pre, **sopts)\u001b[0m\n\u001b[1;32m   1868\u001b[0m \u001b[38;5;28;01mif\u001b[39;00m (collect \u001b[38;5;129;01mand\u001b[39;00m get_sopt(\u001b[38;5;124m'\u001b[39m\u001b[38;5;124malphanorm\u001b[39m\u001b[38;5;124m'\u001b[39m, sopts)\n\u001b[1;32m   1869\u001b[0m         \u001b[38;5;129;01mand\u001b[39;00m left_commutative(result) \u001b[38;5;129;01mor\u001b[39;00m right_commutative(result)):\n\u001b[1;32m   1870\u001b[0m     \u001b[38;5;66;03m# collectable, not associative, but still at least partially\u001b[39;00m\n\u001b[1;32m   1871\u001b[0m     \u001b[38;5;66;03m# commutative (e.g. BindingOp). Apply alphanorm here. Note that\u001b[39;00m\n\u001b[1;32m   1872\u001b[0m     \u001b[38;5;66;03m# this strategy is inefficient in that it will do this on every\u001b[39;00m\n\u001b[1;32m   1873\u001b[0m     \u001b[38;5;66;03m# recursive step. (TODO)\u001b[39;00m\n\u001b[1;32m   1874\u001b[0m     result \u001b[38;5;241m=\u001b[39m alphanorm(result)\n\u001b[0;32m-> 1875\u001b[0m \u001b[38;5;28;01mreturn\u001b[39;00m \u001b[43mresult\u001b[49m\u001b[38;5;241;43m.\u001b[39;49m\u001b[43msimplify_point\u001b[49m\u001b[43m(\u001b[49m\u001b[43mpre\u001b[49m\u001b[38;5;241;43m=\u001b[39;49m\u001b[43mpre\u001b[49m\u001b[43m,\u001b[49m\u001b[43m \u001b[49m\u001b[38;5;241;43m*\u001b[39;49m\u001b[38;5;241;43m*\u001b[39;49m\u001b[43msopts\u001b[49m\u001b[43m)\u001b[49m\n",
      "File \u001b[0;32m~/repos/lambda-notebook/lamb/meta/core.py:1800\u001b[0m, in \u001b[0;36mTypedExpr.simplify_point\u001b[0;34m(self, pre, **sopts)\u001b[0m\n\u001b[1;32m   1796\u001b[0m     \u001b[38;5;28;01mif\u001b[39;00m new_arg_i \u001b[38;5;129;01mis\u001b[39;00m \u001b[38;5;129;01mnot\u001b[39;00m result\u001b[38;5;241m.\u001b[39margs[i]:\n\u001b[1;32m   1797\u001b[0m         result \u001b[38;5;241m=\u001b[39m derived(result\u001b[38;5;241m.\u001b[39msubst(i, new_arg_i), result,\n\u001b[1;32m   1798\u001b[0m             desc\u001b[38;5;241m=\u001b[39m\u001b[38;5;124mf\u001b[39m\u001b[38;5;124m\"\u001b[39m\u001b[38;5;124mRecursive simplification of \u001b[39m\u001b[38;5;132;01m{\u001b[39;00mresult\u001b[38;5;241m.\u001b[39mname_of(i)\u001b[38;5;132;01m}\u001b[39;00m\u001b[38;5;124m\"\u001b[39m,\n\u001b[1;32m   1799\u001b[0m             subexpression\u001b[38;5;241m=\u001b[39mnew_arg_i)\n\u001b[0;32m-> 1800\u001b[0m \u001b[38;5;28;01mreturn\u001b[39;00m \u001b[43mresult\u001b[49m\u001b[38;5;241;43m.\u001b[39;49m\u001b[43msimplify\u001b[49m\u001b[43m(\u001b[49m\u001b[38;5;241;43m*\u001b[39;49m\u001b[38;5;241;43m*\u001b[39;49m\u001b[43msopts\u001b[49m\u001b[43m)\u001b[49m\n",
      "File \u001b[0;32m~/repos/lambda-notebook/lamb/meta/quantifiers.py:660\u001b[0m, in \u001b[0;36mIota.simplify\u001b[0;34m(self, assignment, **sopts)\u001b[0m\n\u001b[1;32m    658\u001b[0m         \u001b[38;5;28;01melse\u001b[39;00m:\n\u001b[1;32m    659\u001b[0m             extra \u001b[38;5;241m=\u001b[39m \u001b[38;5;124mf\u001b[39m\u001b[38;5;124m\"\u001b[39m\u001b[38;5;124muniqueness failure on ι (counterexample: \u001b[39m\u001b[38;5;132;01m{\u001b[39;00m\u001b[38;5;28mrepr\u001b[39m(counterexample)\u001b[38;5;132;01m}\u001b[39;00m\u001b[38;5;124m)\u001b[39m\u001b[38;5;124m\"\u001b[39m\n\u001b[0;32m--> 660\u001b[0m         \u001b[38;5;28;01mraise\u001b[39;00m meta\u001b[38;5;241m.\u001b[39mDomainError(\u001b[38;5;28mself\u001b[39m, \u001b[38;5;28mself\u001b[39m\u001b[38;5;241m.\u001b[39mget_domain(), extra\u001b[38;5;241m=\u001b[39mextra)\n\u001b[1;32m    661\u001b[0m \u001b[38;5;28;01mreturn\u001b[39;00m \u001b[38;5;28mself\u001b[39m\n",
      "\u001b[0;31mDomainError\u001b[0m: `(ι x_e << {}: (_c1_e <=> x_e))` not present in domain `{}`"
     ]
    }
   ],
   "source": [
    "te(\"Iota x_e << {} : x == _c1\").simplify_all()"
   ]
  },
  {
   "cell_type": "code",
   "execution_count": 129,
   "id": "edff2f76-de02-40f0-9b2f-8c9726b1f283",
   "metadata": {},
   "outputs": [
    {
     "ename": "DomainError",
     "evalue": "`(ι x_e << {_c1_e, _c2_e}: ((x_e <=> _c1_e) | (x_e <=> _c2_e)))` not present in domain `{_c1_e, _c2_e}` (Uniqueness failure on compiled ι)",
     "output_type": "error",
     "traceback": [
      "\u001b[0;31m---------------------------------------------------------------------------\u001b[0m",
      "\u001b[0;31mDomainError\u001b[0m                               Traceback (most recent call last)",
      "Cell \u001b[0;32mIn[129], line 1\u001b[0m\n\u001b[0;32m----> 1\u001b[0m \u001b[43mmeta\u001b[49m\u001b[38;5;241;43m.\u001b[39;49m\u001b[43mmeta\u001b[49m\u001b[38;5;241;43m.\u001b[39;49m\u001b[43mexec\u001b[49m\u001b[43m(\u001b[49m\u001b[43mte\u001b[49m\u001b[43m(\u001b[49m\u001b[38;5;124;43m\"\u001b[39;49m\u001b[38;5;124;43mIota x_e << \u001b[39;49m\u001b[38;5;124;43m{\u001b[39;49m\u001b[38;5;124;43m_c1, _c2} : x == _c1 | x == _c2\u001b[39;49m\u001b[38;5;124;43m\"\u001b[39;49m\u001b[43m)\u001b[49m\u001b[43m)\u001b[49m\n",
      "File \u001b[0;32m~/repos/lambda-notebook/lamb/meta/meta.py:662\u001b[0m, in \u001b[0;36mexec\u001b[0;34m(te, _typecheck, _uncurry, _allow_partial, _check_domain, *args, **context)\u001b[0m\n\u001b[1;32m    659\u001b[0m compile_term_check(te, context)\n\u001b[1;32m    660\u001b[0m context \u001b[38;5;241m=\u001b[39m {k: compiled(context[k], validate\u001b[38;5;241m=\u001b[39m\u001b[38;5;28;01mTrue\u001b[39;00m, with_context\u001b[38;5;241m=\u001b[39m{}) \u001b[38;5;28;01mfor\u001b[39;00m k \u001b[38;5;129;01min\u001b[39;00m context}\n\u001b[0;32m--> 662\u001b[0m r \u001b[38;5;241m=\u001b[39m \u001b[43mto_callable\u001b[49m\u001b[43m(\u001b[49m\u001b[43mte\u001b[49m\u001b[43m,\u001b[49m\n\u001b[1;32m    663\u001b[0m \u001b[43m    \u001b[49m\u001b[43m_uncurry\u001b[49m\u001b[38;5;241;43m=\u001b[39;49m\u001b[43m_uncurry\u001b[49m\u001b[43m,\u001b[49m\u001b[43m \u001b[49m\u001b[43m_allow_partial\u001b[49m\u001b[38;5;241;43m=\u001b[39;49m\u001b[43m_allow_partial\u001b[49m\u001b[43m,\u001b[49m\u001b[43m \u001b[49m\u001b[43m_check_domain\u001b[49m\u001b[38;5;241;43m=\u001b[39;49m\u001b[43m_check_domain\u001b[49m\u001b[43m,\u001b[49m\n\u001b[1;32m    664\u001b[0m \u001b[43m    \u001b[49m\u001b[38;5;241;43m*\u001b[39;49m\u001b[38;5;241;43m*\u001b[39;49m\u001b[43mcontext\u001b[49m\u001b[43m)\u001b[49m\n\u001b[1;32m    665\u001b[0m \u001b[38;5;66;03m# n.b. the parameters to `to_callable` have no effect if there are no\u001b[39;00m\n\u001b[1;32m    666\u001b[0m \u001b[38;5;66;03m# remaining argument slots at this point.\u001b[39;00m\n\u001b[1;32m    667\u001b[0m \u001b[38;5;28;01mif\u001b[39;00m args:\n",
      "File \u001b[0;32m~/repos/lambda-notebook/lamb/meta/meta.py:568\u001b[0m, in \u001b[0;36mto_callable\u001b[0;34m(te, _uncurry, _allow_partial, _check_domain, **context)\u001b[0m\n\u001b[1;32m    566\u001b[0m         typ \u001b[38;5;241m=\u001b[39m typ\u001b[38;5;241m.\u001b[39mright\n\u001b[1;32m    567\u001b[0m \u001b[38;5;28;01melse\u001b[39;00m:\n\u001b[0;32m--> 568\u001b[0m     wrapped \u001b[38;5;241m=\u001b[39m \u001b[43mwrap_compiled\u001b[49m\u001b[43m(\u001b[49m\u001b[43mwrapped\u001b[49m\u001b[43m,\u001b[49m\u001b[43m \u001b[49m\u001b[43m_typ\u001b[49m\u001b[38;5;241;43m=\u001b[39;49m\u001b[43mtyp\u001b[49m\u001b[43m,\u001b[49m\u001b[43m \u001b[49m\u001b[43m_check_domain\u001b[49m\u001b[38;5;241;43m=\u001b[39;49m\u001b[43m_check_domain\u001b[49m\u001b[43m,\u001b[49m\u001b[43m \u001b[49m\u001b[38;5;241;43m*\u001b[39;49m\u001b[38;5;241;43m*\u001b[39;49m\u001b[43mcontext\u001b[49m\u001b[43m)\u001b[49m\n\u001b[1;32m    570\u001b[0m \u001b[38;5;28;01mif\u001b[39;00m _uncurry \u001b[38;5;129;01mand\u001b[39;00m arg_slots:\n\u001b[1;32m    571\u001b[0m     \u001b[38;5;28;01mdef\u001b[39;00m \u001b[38;5;21muncurried\u001b[39m(\u001b[38;5;241m*\u001b[39margs):\n\u001b[1;32m    572\u001b[0m         \u001b[38;5;66;03m# overrides the arity checks from wrap_compiled\u001b[39;00m\n",
      "File \u001b[0;32m~/repos/lambda-notebook/lamb/meta/meta.py:470\u001b[0m, in \u001b[0;36mwrap_compiled\u001b[0;34m(te, _typ, _check_domain, _mirror, **context)\u001b[0m\n\u001b[1;32m    423\u001b[0m \u001b[38;5;28;01mdef\u001b[39;00m \u001b[38;5;21mwrap_compiled\u001b[39m(te, _typ\u001b[38;5;241m=\u001b[39m\u001b[38;5;28;01mNone\u001b[39;00m, _check_domain\u001b[38;5;241m=\u001b[39m\u001b[38;5;28;01mTrue\u001b[39;00m, _mirror\u001b[38;5;241m=\u001b[39m\u001b[38;5;28;01mFalse\u001b[39;00m, \u001b[38;5;241m*\u001b[39m\u001b[38;5;241m*\u001b[39mcontext):\n\u001b[1;32m    424\u001b[0m \u001b[38;5;250m    \u001b[39m\u001b[38;5;124;03m\"\"\"Wrap a compiled ``TypedExpr`` with a single (potentially tuple/n-ary)\u001b[39;00m\n\u001b[1;32m    425\u001b[0m \u001b[38;5;124;03m    argument so that it can be more easily called in Python code. This is a\u001b[39;00m\n\u001b[1;32m    426\u001b[0m \u001b[38;5;124;03m    relatively low-level version of this idea, and so unless you know what\u001b[39;00m\n\u001b[0;32m   (...)\u001b[0m\n\u001b[1;32m    468\u001b[0m \u001b[38;5;124;03m    `to_callable`, `exec`: probably the functions you want to call directly.\u001b[39;00m\n\u001b[1;32m    469\u001b[0m \u001b[38;5;124;03m    \"\"\"\u001b[39;00m\n\u001b[0;32m--> 470\u001b[0m     in_context \u001b[38;5;241m=\u001b[39m \u001b[43mcompiled\u001b[49m\u001b[43m(\u001b[49m\u001b[43mte\u001b[49m\u001b[43m,\u001b[49m\u001b[43m \u001b[49m\u001b[43mwith_context\u001b[49m\u001b[38;5;241;43m=\u001b[39;49m\u001b[43mcontext\u001b[49m\u001b[43m)\u001b[49m\n\u001b[1;32m    471\u001b[0m     \u001b[38;5;28;01mif\u001b[39;00m is_te(te):\n\u001b[1;32m    472\u001b[0m         qualname \u001b[38;5;241m=\u001b[39m te\u001b[38;5;241m.\u001b[39m_compiled\u001b[38;5;241m.\u001b[39m\u001b[38;5;18m__qualname__\u001b[39m\n",
      "File \u001b[0;32m~/repos/lambda-notebook/lamb/meta/meta.py:375\u001b[0m, in \u001b[0;36mcompiled\u001b[0;34m(e, recompile, with_context, validate)\u001b[0m\n\u001b[1;32m    373\u001b[0m     compile_term_check(e, with_context)\n\u001b[1;32m    374\u001b[0m \u001b[38;5;28;01mif\u001b[39;00m with_context \u001b[38;5;129;01mis\u001b[39;00m \u001b[38;5;129;01mnot\u001b[39;00m \u001b[38;5;28;01mNone\u001b[39;00m:\n\u001b[0;32m--> 375\u001b[0m     \u001b[38;5;28;01mreturn\u001b[39;00m \u001b[43me\u001b[49m\u001b[38;5;241;43m.\u001b[39;49m\u001b[43m_compiled\u001b[49m\u001b[43m(\u001b[49m\u001b[43mwith_context\u001b[49m\u001b[43m)\u001b[49m\n\u001b[1;32m    376\u001b[0m \u001b[38;5;28;01melse\u001b[39;00m:\n\u001b[1;32m    377\u001b[0m     \u001b[38;5;66;03m# defer context\u001b[39;00m\n\u001b[1;32m    378\u001b[0m     \u001b[38;5;28;01mreturn\u001b[39;00m e\u001b[38;5;241m.\u001b[39m_compiled\n",
      "File \u001b[0;32m~/repos/lambda-notebook/lamb/meta/quantifiers.py:622\u001b[0m, in \u001b[0;36mIota._compile.<locals>.c\u001b[0;34m(context)\u001b[0m\n\u001b[1;32m    619\u001b[0m         context[\u001b[38;5;28mself\u001b[39m\u001b[38;5;241m.\u001b[39mvarname] \u001b[38;5;241m=\u001b[39m old\n\u001b[1;32m    620\u001b[0m     \u001b[38;5;66;03m# XX is the restrictor adequately described in these\u001b[39;00m\n\u001b[1;32m    621\u001b[0m     \u001b[38;5;66;03m# errors?\u001b[39;00m\n\u001b[0;32m--> 622\u001b[0m     \u001b[38;5;28;01mraise\u001b[39;00m meta\u001b[38;5;241m.\u001b[39mDomainError(\u001b[38;5;28mself\u001b[39m, \u001b[38;5;28mself\u001b[39m\u001b[38;5;241m.\u001b[39mget_domain(),\n\u001b[1;32m    623\u001b[0m         extra\u001b[38;5;241m=\u001b[39m\u001b[38;5;124m\"\u001b[39m\u001b[38;5;124mUniqueness failure on compiled ι\u001b[39m\u001b[38;5;124m\"\u001b[39m)\n\u001b[1;32m    624\u001b[0m \u001b[38;5;28;01melse\u001b[39;00m:\n\u001b[1;32m    625\u001b[0m     found \u001b[38;5;241m=\u001b[39m context[\u001b[38;5;28mself\u001b[39m\u001b[38;5;241m.\u001b[39mvarname]\n",
      "\u001b[0;31mDomainError\u001b[0m: `(ι x_e << {_c1_e, _c2_e}: ((x_e <=> _c1_e) | (x_e <=> _c2_e)))` not present in domain `{_c1_e, _c2_e}` (Uniqueness failure on compiled ι)"
     ]
    }
   ],
   "source": [
    "meta.meta.exec(te(\"Iota x_e << {_c1, _c2} : x == _c1 | x == _c2\"))"
   ]
  },
  {
   "cell_type": "code",
   "execution_count": null,
   "id": "759a4ba4-3a23-4cdb-824f-79982e5569b7",
   "metadata": {},
   "outputs": [],
   "source": []
  },
  {
   "cell_type": "code",
   "execution_count": null,
   "id": "4a156987-3b44-4304-9984-dd62b057573f",
   "metadata": {},
   "outputs": [],
   "source": []
  },
  {
   "cell_type": "code",
   "execution_count": 186,
   "id": "344050a0-0313-4ae6-8d56-e726c3d59dec",
   "metadata": {},
   "outputs": [],
   "source": [
    "reload_lamb()"
   ]
  },
  {
   "cell_type": "code",
   "execution_count": null,
   "id": "aac622f8-0bfa-4aee-8e39-73842e9ea887",
   "metadata": {},
   "outputs": [],
   "source": []
  },
  {
   "cell_type": "code",
   "execution_count": 171,
   "id": "3d235bb8-f5c4-49e4-892a-9176095c2a91",
   "metadata": {},
   "outputs": [
    {
     "data": {
      "text/plain": [
       "[False_t, True_t]"
      ]
     },
     "execution_count": 171,
     "metadata": {},
     "output_type": "execute_result"
    }
   ],
   "source": [
    "list(te(\"Exists x_t : a_t & x\").domain_iter())"
   ]
  },
  {
   "cell_type": "code",
   "execution_count": 172,
   "id": "708e83ae-6690-4049-86d9-7f90fa47978d",
   "metadata": {},
   "outputs": [
    {
     "data": {
      "text/latex": [
       "$\\textsf{False}$"
      ],
      "text/plain": [
       "False_t"
      ]
     },
     "execution_count": 172,
     "metadata": {},
     "output_type": "execute_result"
    }
   ],
   "source": [
    "te(\"Exists x_t : False_t\").simplify_all()"
   ]
  },
  {
   "cell_type": "code",
   "execution_count": 173,
   "id": "0518490e-b2bb-48b5-be09-47a872194411",
   "metadata": {},
   "outputs": [
    {
     "data": {
      "text/latex": [
       "$\\textsf{False}$"
      ],
      "text/plain": [
       "False_t"
      ]
     },
     "execution_count": 173,
     "metadata": {},
     "output_type": "execute_result"
    }
   ],
   "source": [
    "te(\"Exists x_e << {} : False_t\").simplify_all() #.derivation"
   ]
  },
  {
   "cell_type": "code",
   "execution_count": 174,
   "id": "6c52626e-780c-492b-904b-486e93c0ef29",
   "metadata": {},
   "outputs": [
    {
     "data": {
      "text/latex": [
       "$\\textsf{True}$"
      ],
      "text/plain": [
       "True_t"
      ]
     },
     "execution_count": 174,
     "metadata": {},
     "output_type": "execute_result"
    }
   ],
   "source": [
    "te(\"Exists x_e << {_c1, _c2} : True\").simplify_all()"
   ]
  },
  {
   "cell_type": "code",
   "execution_count": 175,
   "id": "17c6b881-669e-478d-9d7a-40c5515d6eb0",
   "metadata": {},
   "outputs": [
    {
     "data": {
      "text/latex": [
       "$\\forall{} x_{e} \\: . \\: \\forall{} y_{e} \\: . \\: {P}({y}, {x})$"
      ],
      "text/plain": [
       "(Forall x_e: (Forall y_e: P_<(e,e),t>(y_e, x_e)))"
      ]
     },
     "execution_count": 175,
     "metadata": {},
     "output_type": "execute_result"
    }
   ],
   "source": [
    "te(\"Forall y_e : Forall x_e : ~~P_<(e,e),t>(y,x)\").simplify_all()"
   ]
  },
  {
   "cell_type": "code",
   "execution_count": 176,
   "id": "ccf30940-231e-4a86-a20a-872d23b1046b",
   "metadata": {},
   "outputs": [
    {
     "data": {
      "text/latex": [
       "$\\forall{} y_{e} \\in {\\small \\{{\\textsf{c1}}_{e}, {\\textsf{c2}}_{e}\\}} \\: . \\: \\forall{} x_{e} \\in {\\small \\{{\\textsf{c1}}_{e}, {\\textsf{c3}}_{e}\\}} \\: . \\: \\neg{} \\neg{} {P}({y}, {x})$"
      ],
      "text/plain": [
       "(Forall y_e: (Forall x_e: ~~P_<(e,e),t>(y_e, x_e)))"
      ]
     },
     "execution_count": 176,
     "metadata": {},
     "output_type": "execute_result"
    }
   ],
   "source": [
    "te(\"Forall y_e << {_c1,_c2} : Forall x_e << {_c1,_c3} : ~~P_<(e,e),t>(y,x)\") #.eliminate()"
   ]
  },
  {
   "cell_type": "code",
   "execution_count": 177,
   "id": "061fda8c-473e-4241-8a4d-172280af13d5",
   "metadata": {},
   "outputs": [
    {
     "data": {
      "text/plain": [
       "(lamb.meta.quantifiers.ForallBinary,\n",
       " [(Forall y_e: (Forall x_e: ~~P_<(e,e),t>(y_e, x_e)))])"
      ]
     },
     "execution_count": 177,
     "metadata": {},
     "output_type": "execute_result"
    }
   ],
   "source": [
    "lamb.meta.ply.collect(te(\"Forall y_e << A_{e}: Forall x_e << B_{e} : ~~P_<(e,e),t>(y,x)\"))"
   ]
  },
  {
   "cell_type": "code",
   "execution_count": 178,
   "id": "52086e72-d706-465e-98b6-b98946342fdc",
   "metadata": {},
   "outputs": [
    {
     "data": {
      "text/plain": [
       "(lamb.meta.core.LFun, [(λ x_e: (λ y_e: (x_e <=> y_e)))])"
      ]
     },
     "execution_count": 178,
     "metadata": {},
     "output_type": "execute_result"
    }
   ],
   "source": [
    "lamb.meta.ply.collect(te(\"L x_e: L y_e : x == y\"))"
   ]
  },
  {
   "cell_type": "code",
   "execution_count": 179,
   "id": "8f0bb7f6-7cd0-4aad-9dcf-724ad2f2fd05",
   "metadata": {},
   "outputs": [
    {
     "data": {
      "text/latex": [
       "$\\forall{} y_{e} \\in {\\small {A}_{\\left\\{e\\right\\}}} \\: . \\: \\forall{} x_{e} \\in {\\small {B}_{\\left\\{e\\right\\}}} \\: . \\: \\neg{} \\neg{} {P}({y}, {x})$"
      ],
      "text/plain": [
       "(Forall y_e: (Forall x_e: ~~P_<(e,e),t>(y_e, x_e)))"
      ]
     },
     "execution_count": 179,
     "metadata": {},
     "output_type": "execute_result"
    }
   ],
   "source": [
    "lamb.meta.ply.join(*lamb.meta.ply.collect(te(\"Forall y_e << A_{e}: Forall x_e << B_{e} : ~~P_<(e,e),t>(y,x)\")))"
   ]
  },
  {
   "cell_type": "code",
   "execution_count": 180,
   "id": "3e8cd63d-68cb-4706-891a-491e3adc68cf",
   "metadata": {},
   "outputs": [],
   "source": [
    "reload_lamb()"
   ]
  },
  {
   "cell_type": "code",
   "execution_count": 181,
   "id": "88ed642d-5cf7-42f2-b4df-067440bedbf3",
   "metadata": {},
   "outputs": [
    {
     "name": "stdout",
     "output_type": "stream",
     "text": [
      "INFO (core): Coerced guessed type for 'P_t' into <e,t>, to match argument 'x_e'\n"
     ]
    },
    {
     "data": {
      "text/html": [
       "<div align=\"left\" style=\"display:table;\"><div style=\"display:table-cell;vertical-align:top;padding-left:5px;padding-right:5px;padding-top:0.2em\"><div style=\"display:table;\"><div style=\"display:table-row;vertical-align:top;\"><div align=\"left\" style=\"display:table;border-collapse:collapse;\"><div style=\"display:table-row;border-bottom:1px solid #848482;\"><div style=\"display:table-cell;padding:0.2em 5px 0.2em 0px;vertical-align:top;\"></div><div style=\"display:table-cell;vertical-align:top;border-right:1px solid #848482;padding-right:5px;;padding-top:0.2em\"><div style=\"display:inline-block;\"><span>$\\exists{} x_{e} \\in {\\small \\{{\\textsf{c1}}_{e}\\}} \\: . \\: {P}({x})$</span></div></div><div style=\"display:table-cell;vertical-align:top;padding-left:5px;padding-right:5px;padding-top:0.2em\"><div style=\"display:table;\"><div style=\"display:table-row;\"><div style=\"white-space:nowrap; color:blue;\"><span>∃x =&gt; ∨</span></div></div></div></div></div><div style=\"display:table-row;\"><div style=\"display:table-cell;padding:0.2em 5px 0.2em 0px;vertical-align:top;\"> 1. </div><div style=\"display:table-cell;vertical-align:top;border-right:1px solid #848482;padding-right:5px;;padding-top:0.2em\"><div style=\"display:inline-block;\"><span>${P}({\\textsf{c1}}_{e})$</span></div></div></div></div></div></div></div></div>"
      ],
      "text/plain": [
       " 1. (Exists x_e: P_<e,t>(x_e))    (∃x => ∨)\n",
       " 2. P_<e,t>(_c1_e)"
      ]
     },
     "execution_count": 181,
     "metadata": {},
     "output_type": "execute_result"
    }
   ],
   "source": [
    "te(\"Exists x_e << {_c1} : P(x)\").simplify_all().derivation"
   ]
  },
  {
   "cell_type": "code",
   "execution_count": 182,
   "id": "c82f9fa3-fd19-4c53-8594-05671c82811f",
   "metadata": {},
   "outputs": [
    {
     "name": "stdout",
     "output_type": "stream",
     "text": [
      "INFO (core): Coerced guessed type for 'P_t' into <e,t>, to match argument 'x_e'\n"
     ]
    },
    {
     "data": {
      "text/html": [
       "<div align=\"left\" style=\"display:table;\"><div style=\"display:table-cell;vertical-align:top;padding-left:5px;padding-right:5px;padding-top:0.2em\"><div style=\"display:table;\"><div style=\"display:table-row;vertical-align:top;\"><div align=\"left\" style=\"display:table;border-collapse:collapse;\"><div style=\"display:table-row;border-bottom:1px solid #848482;\"><div style=\"display:table-cell;padding:0.2em 5px 0.2em 0px;vertical-align:top;\"></div><div style=\"display:table-cell;vertical-align:top;border-right:1px solid #848482;padding-right:5px;;padding-top:0.2em\"><div style=\"display:inline-block;\"><span>$\\forall{} x_{e} \\in {\\small \\{{\\textsf{c1}}_{e}\\}} \\: . \\: {P}({x})$</span></div></div><div style=\"display:table-cell;vertical-align:top;padding-left:5px;padding-right:5px;padding-top:0.2em\"><div style=\"display:table;\"><div style=\"display:table-row;\"><div style=\"white-space:nowrap; color:blue;\"><span>∀x =&gt; ∧</span></div></div></div></div></div><div style=\"display:table-row;\"><div style=\"display:table-cell;padding:0.2em 5px 0.2em 0px;vertical-align:top;\"> 1. </div><div style=\"display:table-cell;vertical-align:top;border-right:1px solid #848482;padding-right:5px;;padding-top:0.2em\"><div style=\"display:inline-block;\"><span>${P}({\\textsf{c1}}_{e})$</span></div></div></div></div></div></div></div></div>"
      ],
      "text/plain": [
       " 1. (Forall x_e: P_<e,t>(x_e))    (∀x => ∧)\n",
       " 2. P_<e,t>(_c1_e)"
      ]
     },
     "execution_count": 182,
     "metadata": {},
     "output_type": "execute_result"
    }
   ],
   "source": [
    "te(\"Forall x_e << {_c1} : P(x)\").simplify_all().derivation"
   ]
  },
  {
   "cell_type": "code",
   "execution_count": 183,
   "id": "ea0a8ace-cbd2-4135-a7c1-d60b494e573a",
   "metadata": {},
   "outputs": [
    {
     "name": "stdout",
     "output_type": "stream",
     "text": [
      "INFO (core): Coerced guessed type for 'P_t' into <e,t>, to match argument 'x_e'\n"
     ]
    },
    {
     "data": {
      "text/html": [
       "<div align=\"left\" style=\"display:table;\"><div style=\"display:table-cell;vertical-align:top;padding-left:5px;padding-right:5px;padding-top:0.2em\"><div style=\"display:table;\"><div style=\"display:table-row;vertical-align:top;\"><div align=\"left\" style=\"display:table;border-collapse:collapse;\"><div style=\"display:table-row;border-bottom:1px solid #848482;\"><div style=\"display:table-cell;padding:0.2em 5px 0.2em 0px;vertical-align:top;\"></div><div style=\"display:table-cell;vertical-align:top;border-right:1px solid #848482;padding-right:5px;;padding-top:0.2em\"><div style=\"display:inline-block;\"><span>$\\exists{}! x_{e} \\in {\\small \\{{\\textsf{c1}}_{e}\\}} \\: . \\: {P}({x})$</span></div></div><div style=\"display:table-cell;vertical-align:top;padding-left:5px;padding-right:5px;padding-top:0.2em\"><div style=\"display:table;\"><div style=\"display:table-row;\"><div style=\"white-space:nowrap; color:blue;\"><span>∃! elimination</span></div></div></div></div></div><div style=\"display:table-row;border-bottom:1px solid #848482;\"><div style=\"display:table-cell;padding:0.2em 5px 0.2em 0px;vertical-align:top;\"> 1. </div><div style=\"display:table-cell;vertical-align:top;border-right:1px solid #848482;padding-right:5px;;padding-top:0.2em\"><div style=\"display:inline-block;\"><span>$\\exists{} x_{e} \\in {\\small \\{{\\textsf{c1}}_{e}\\}} \\: . \\: {P}({x}) \\wedge{} (\\forall{} x1_{e} \\in {\\small \\{{\\textsf{c1}}_{e}\\}} \\: . \\: {P}({x1}) \\rightarrow{} {x} = {x1})$</span></div></div><div style=\"display:table-cell;vertical-align:top;padding-left:5px;padding-right:5px;padding-top:0.2em\"><div style=\"display:table;\"><div style=\"display:table-row;\"><div style=\"white-space:nowrap; color:blue;\"><span>[Recursive simplification of operand 1]</span></div></div></div></div></div><div style=\"display:table-row;border-bottom:1px solid #848482;\"><div style=\"display:table-cell;padding:0.2em 5px 0.2em 0px;vertical-align:top;\"> 2. </div><div style=\"display:table-cell;vertical-align:top;border-right:1px solid #848482;padding-right:5px;;padding-top:0.2em\"><div style=\"display:inline-block;\"><span>$\\exists{} x_{e} \\in {\\small \\{{\\textsf{c1}}_{e}\\}} \\: . \\: {P}({x}) \\wedge{} ({P}({\\textsf{c1}}_{e}) \\rightarrow{} {\\textsf{c1}}_{e} = {x})$</span></div></div><div style=\"display:table-cell;vertical-align:top;padding-left:5px;padding-right:5px;padding-top:0.2em\"><div style=\"display:table;\"><div style=\"display:table-row;\"><div style=\"white-space:nowrap; color:blue;\"><span>∃x =&gt; ∨</span></div></div></div></div></div><div style=\"display:table-row;border-bottom:1px solid #848482;\"><div style=\"display:table-cell;padding:0.2em 5px 0.2em 0px;vertical-align:top;\"> 3. </div><div style=\"display:table-cell;vertical-align:top;border-right:1px solid #848482;padding-right:5px;;padding-top:0.2em\"><div style=\"display:inline-block;\"><span>${P}({\\textsf{c1}}_{e}) \\wedge{} ({P}({\\textsf{c1}}_{e}) \\rightarrow{} {\\textsf{c1}}_{e} = {\\textsf{c1}}_{e})$</span></div></div><div style=\"display:table-cell;vertical-align:top;padding-left:5px;padding-right:5px;padding-top:0.2em\"><div style=\"display:table;\"><div style=\"display:table-row;\"><div style=\"white-space:nowrap; color:blue;\"><span>alphabetic normalization</span></div></div></div></div></div><div style=\"display:table-row;border-bottom:1px solid #848482;\"><div style=\"display:table-cell;padding:0.2em 5px 0.2em 0px;vertical-align:top;\"> 4. </div><div style=\"display:table-cell;vertical-align:top;border-right:1px solid #848482;padding-right:5px;;padding-top:0.2em\"><div style=\"display:inline-block;\"><span>$({P}({\\textsf{c1}}_{e}) \\rightarrow{} {\\textsf{c1}}_{e} = {\\textsf{c1}}_{e}) \\wedge{} {P}({\\textsf{c1}}_{e})$</span></div></div><div style=\"display:table-cell;vertical-align:top;padding-left:5px;padding-right:5px;padding-top:0.2em\"><div style=\"display:table;\"><div style=\"display:table-row;\"><div style=\"white-space:nowrap; color:blue;\"><span>Recursive simplification of operand 0</span></div></div></div></div></div><div style=\"display:table-row;border-bottom:1px solid #848482;\"><div style=\"display:table-cell;padding:0.2em 5px 0.2em 0px;vertical-align:top;\"> 5. </div><div style=\"display:table-cell;vertical-align:top;border-right:1px solid #848482;padding-right:5px;;padding-top:0.2em\"><div style=\"display:inline-block;\"><span>$\\textsf{True} \\wedge{} {P}({\\textsf{c1}}_{e})$</span></div></div><div style=\"display:table-cell;vertical-align:top;padding-left:5px;padding-right:5px;padding-top:0.2em\"><div style=\"display:table;\"><div style=\"display:table-row;\"><div style=\"white-space:nowrap; color:blue;\"><span>conjunction</span></div></div></div></div></div><div style=\"display:table-row;\"><div style=\"display:table-cell;padding:0.2em 5px 0.2em 0px;vertical-align:top;\"> 6. </div><div style=\"display:table-cell;vertical-align:top;border-right:1px solid #848482;padding-right:5px;;padding-top:0.2em\"><div style=\"display:inline-block;\"><span>${P}({\\textsf{c1}}_{e})$</span></div></div></div></div></div></div></div></div>"
      ],
      "text/plain": [
       " 1. (ExistsExact x_e: P_<e,t>(x_e))    (∃! elimination)\n",
       " 2. (Exists x_e: (P_<e,t>(x_e) & (Forall x1_e: (P_<e,t>(x1_e) >> (x_e <=> x1_e)))))    ([Recursive simplification of operand 1])\n",
       " 3. (Exists x_e: (P_<e,t>(x_e) & (P_<e,t>(_c1_e) >> (_c1_e <=> x_e))))    (∃x => ∨)\n",
       " 4. (P_<e,t>(_c1_e) & (P_<e,t>(_c1_e) >> (_c1_e <=> _c1_e)))    (alphabetic normalization)\n",
       " 5. ((P_<e,t>(_c1_e) >> (_c1_e <=> _c1_e)) & P_<e,t>(_c1_e))    (Recursive simplification of operand 0)\n",
       " 6. (True_t & P_<e,t>(_c1_e))    (conjunction)\n",
       " 7. P_<e,t>(_c1_e)"
      ]
     },
     "execution_count": 183,
     "metadata": {},
     "output_type": "execute_result"
    }
   ],
   "source": [
    "te(\"ExistsExact x_e << {_c1} : P(x)\").simplify_all().derivation #.simplify_all(eliminate_quantifiers=True)"
   ]
  },
  {
   "cell_type": "code",
   "execution_count": 184,
   "id": "52e15293-d51b-45cd-86b6-c85d2abb6632",
   "metadata": {},
   "outputs": [
    {
     "name": "stdout",
     "output_type": "stream",
     "text": [
      "INFO (core): Coerced guessed type for 'P_t' into <e,t>, to match argument 'x_e'\n"
     ]
    },
    {
     "data": {
      "text/html": [
       "<div align=\"left\" style=\"display:table;\"><div style=\"display:table-cell;vertical-align:top;padding-left:5px;padding-right:5px;padding-top:0.2em\"><div style=\"display:table;\"><div style=\"display:table-row;vertical-align:top;\"><div align=\"left\" style=\"display:table;border-collapse:collapse;\"><div style=\"display:table-row;border-bottom:1px solid #848482;\"><div style=\"display:table-cell;padding:0.2em 5px 0.2em 0px;vertical-align:top;\"></div><div style=\"display:table-cell;vertical-align:top;border-right:1px solid #848482;padding-right:5px;;padding-top:0.2em\"><div style=\"display:inline-block;\"><span>$\\exists{}! x_{e} \\in {\\small \\{{\\textsf{c1}}_{e}\\}} \\: . \\: {P}({x})$</span></div></div><div style=\"display:table-cell;vertical-align:top;padding-left:5px;padding-right:5px;padding-top:0.2em\"><div style=\"display:table;\"><div style=\"display:table-row;\"><div style=\"white-space:nowrap; color:blue;\"><span>∃! elimination</span></div></div></div></div></div><div style=\"display:table-row;border-bottom:1px solid #848482;\"><div style=\"display:table-cell;padding:0.2em 5px 0.2em 0px;vertical-align:top;\"> 1. </div><div style=\"display:table-cell;vertical-align:top;border-right:1px solid #848482;padding-right:5px;;padding-top:0.2em\"><div style=\"display:inline-block;\"><span>$\\exists{} x_{e} \\in {\\small \\{{\\textsf{c1}}_{e}\\}} \\: . \\: {P}({x}) \\wedge{} (\\forall{} x1_{e} \\in {\\small \\{{\\textsf{c1}}_{e}\\}} \\: . \\: {P}({x1}) \\rightarrow{} {x} = {x1})$</span></div></div><div style=\"display:table-cell;vertical-align:top;padding-left:5px;padding-right:5px;padding-top:0.2em\"><div style=\"display:table;\"><div style=\"display:table-row;\"><div style=\"white-space:nowrap; color:blue;\"><span>[Recursive simplification of operand 1]</span></div></div><div style=\"display:table-row;vertical-align:top;\"><div align=\"left\" style=\"display:table;border-collapse:collapse;\"><div style=\"display:table-row;border-bottom:1px solid #848482;\"><div style=\"display:table-cell;padding:0.2em 5px 0.2em 0px;vertical-align:top;\"></div><div style=\"display:table-cell;vertical-align:top;border-right:1px solid #848482;padding-right:5px;;padding-top:0.2em\"><div style=\"display:inline-block;\"><span>$\\forall{} x1_{e} \\in {\\small \\{{\\textsf{c1}}_{e}\\}} \\: . \\: {P}({x1}) \\rightarrow{} {x}_{e} = {x1}$</span></div></div><div style=\"display:table-cell;vertical-align:top;padding-left:5px;padding-right:5px;padding-top:0.2em\"><div style=\"display:table;\"><div style=\"display:table-row;\"><div style=\"white-space:nowrap; color:blue;\"><span>[[alphabetic normalization]]</span></div></div></div></div></div><div style=\"display:table-row;border-bottom:1px solid #848482;\"><div style=\"display:table-cell;padding:0.2em 5px 0.2em 0px;vertical-align:top;\"> 1. </div><div style=\"display:table-cell;vertical-align:top;border-right:1px solid #848482;padding-right:5px;;padding-top:0.2em\"><div style=\"display:inline-block;\"><span>$\\forall{} x1_{e} \\in {\\small \\{{\\textsf{c1}}_{e}\\}} \\: . \\: {P}({x1}) \\rightarrow{} {x1} = {x}_{e}$</span></div></div><div style=\"display:table-cell;vertical-align:top;padding-left:5px;padding-right:5px;padding-top:0.2em\"><div style=\"display:table;\"><div style=\"display:table-row;\"><div style=\"white-space:nowrap; color:blue;\"><span>∀x1 =&gt; ∧</span></div></div></div></div></div><div style=\"display:table-row;\"><div style=\"display:table-cell;padding:0.2em 5px 0.2em 0px;vertical-align:top;\"> 2. </div><div style=\"display:table-cell;vertical-align:top;border-right:1px solid #848482;padding-right:5px;;padding-top:0.2em\"><div style=\"display:inline-block;\"><span>${P}({\\textsf{c1}}_{e}) \\rightarrow{} {\\textsf{c1}}_{e} = {x}_{e}$</span></div></div></div></div></div></div></div></div><div style=\"display:table-row;border-bottom:1px solid #848482;\"><div style=\"display:table-cell;padding:0.2em 5px 0.2em 0px;vertical-align:top;\"> 2. </div><div style=\"display:table-cell;vertical-align:top;border-right:1px solid #848482;padding-right:5px;;padding-top:0.2em\"><div style=\"display:inline-block;\"><span>$\\exists{} x_{e} \\in {\\small \\{{\\textsf{c1}}_{e}\\}} \\: . \\: {P}({x}) \\wedge{} ({P}({\\textsf{c1}}_{e}) \\rightarrow{} {\\textsf{c1}}_{e} = {x})$</span></div></div><div style=\"display:table-cell;vertical-align:top;padding-left:5px;padding-right:5px;padding-top:0.2em\"><div style=\"display:table;\"><div style=\"display:table-row;\"><div style=\"white-space:nowrap; color:blue;\"><span>∃x =&gt; ∨</span></div></div></div></div></div><div style=\"display:table-row;border-bottom:1px solid #848482;\"><div style=\"display:table-cell;padding:0.2em 5px 0.2em 0px;vertical-align:top;\"> 3. </div><div style=\"display:table-cell;vertical-align:top;border-right:1px solid #848482;padding-right:5px;;padding-top:0.2em\"><div style=\"display:inline-block;\"><span>${P}({\\textsf{c1}}_{e}) \\wedge{} ({P}({\\textsf{c1}}_{e}) \\rightarrow{} {\\textsf{c1}}_{e} = {\\textsf{c1}}_{e})$</span></div></div><div style=\"display:table-cell;vertical-align:top;padding-left:5px;padding-right:5px;padding-top:0.2em\"><div style=\"display:table;\"><div style=\"display:table-row;\"><div style=\"white-space:nowrap; color:blue;\"><span>alphabetic normalization</span></div></div></div></div></div><div style=\"display:table-row;border-bottom:1px solid #848482;\"><div style=\"display:table-cell;padding:0.2em 5px 0.2em 0px;vertical-align:top;\"> 4. </div><div style=\"display:table-cell;vertical-align:top;border-right:1px solid #848482;padding-right:5px;;padding-top:0.2em\"><div style=\"display:inline-block;\"><span>$({P}({\\textsf{c1}}_{e}) \\rightarrow{} {\\textsf{c1}}_{e} = {\\textsf{c1}}_{e}) \\wedge{} {P}({\\textsf{c1}}_{e})$</span></div></div><div style=\"display:table-cell;vertical-align:top;padding-left:5px;padding-right:5px;padding-top:0.2em\"><div style=\"display:table;\"><div style=\"display:table-row;\"><div style=\"white-space:nowrap; color:blue;\"><span>Recursive simplification of operand 0</span></div></div><div style=\"display:table-row;vertical-align:top;\"><div align=\"left\" style=\"display:table;border-collapse:collapse;\"><div style=\"display:table-row;border-bottom:1px solid #848482;\"><div style=\"display:table-cell;padding:0.2em 5px 0.2em 0px;vertical-align:top;\"></div><div style=\"display:table-cell;vertical-align:top;border-right:1px solid #848482;padding-right:5px;;padding-top:0.2em\"><div style=\"display:inline-block;\"><span>${P}({\\textsf{c1}}_{e}) \\rightarrow{} {\\textsf{c1}}_{e} = {\\textsf{c1}}_{e}$</span></div></div><div style=\"display:table-cell;vertical-align:top;padding-left:5px;padding-right:5px;padding-top:0.2em\"><div style=\"display:table;\"><div style=\"display:table-row;\"><div style=\"white-space:nowrap; color:blue;\"><span>[Equality]</span></div></div></div></div></div><div style=\"display:table-row;border-bottom:1px solid #848482;\"><div style=\"display:table-cell;padding:0.2em 5px 0.2em 0px;vertical-align:top;\"> 1. </div><div style=\"display:table-cell;vertical-align:top;border-right:1px solid #848482;padding-right:5px;;padding-top:0.2em\"><div style=\"display:inline-block;\"><span>${P}({\\textsf{c1}}_{e}) \\rightarrow{} \\textsf{True}$</span></div></div><div style=\"display:table-cell;vertical-align:top;padding-left:5px;padding-right:5px;padding-top:0.2em\"><div style=\"display:table;\"><div style=\"display:table-row;\"><div style=\"white-space:nowrap; color:blue;\"><span>material implication</span></div></div></div></div></div><div style=\"display:table-row;\"><div style=\"display:table-cell;padding:0.2em 5px 0.2em 0px;vertical-align:top;\"> 2. </div><div style=\"display:table-cell;vertical-align:top;border-right:1px solid #848482;padding-right:5px;;padding-top:0.2em\"><div style=\"display:inline-block;\"><span>$\\textsf{True}$</span></div></div></div></div></div></div></div></div><div style=\"display:table-row;border-bottom:1px solid #848482;\"><div style=\"display:table-cell;padding:0.2em 5px 0.2em 0px;vertical-align:top;\"> 5. </div><div style=\"display:table-cell;vertical-align:top;border-right:1px solid #848482;padding-right:5px;;padding-top:0.2em\"><div style=\"display:inline-block;\"><span>$\\textsf{True} \\wedge{} {P}({\\textsf{c1}}_{e})$</span></div></div><div style=\"display:table-cell;vertical-align:top;padding-left:5px;padding-right:5px;padding-top:0.2em\"><div style=\"display:table;\"><div style=\"display:table-row;\"><div style=\"white-space:nowrap; color:blue;\"><span>conjunction</span></div></div></div></div></div><div style=\"display:table-row;\"><div style=\"display:table-cell;padding:0.2em 5px 0.2em 0px;vertical-align:top;\"> 6. </div><div style=\"display:table-cell;vertical-align:top;border-right:1px solid #848482;padding-right:5px;;padding-top:0.2em\"><div style=\"display:inline-block;\"><span>${P}({\\textsf{c1}}_{e})$</span></div></div></div></div></div></div></div></div>"
      ],
      "text/plain": [
       "DisplayNode instance: HTML rendering only"
      ]
     },
     "execution_count": 184,
     "metadata": {},
     "output_type": "execute_result"
    }
   ],
   "source": [
    "te(\"ExistsExact x_e << {_c1} : P(x)\").simplify_all().derivation.trace()"
   ]
  },
  {
   "cell_type": "code",
   "execution_count": 28,
   "id": "226a4000-0980-42c6-9433-d7161f0f384e",
   "metadata": {},
   "outputs": [
    {
     "data": {
      "text/latex": [
       "$\\left\\{Y\\right\\}$"
      ],
      "text/plain": [
       "{Y}"
      ]
     },
     "execution_count": 28,
     "metadata": {},
     "output_type": "execute_result"
    }
   ],
   "source": [
    "lamb.meta.ts_unify(tp(\"{X}\"), tp(\"{Y}\"))"
   ]
  },
  {
   "cell_type": "code",
   "execution_count": 37,
   "id": "0d97b5d8-ab6f-4fef-8ed7-4ceca1e2f0a0",
   "metadata": {},
   "outputs": [],
   "source": [
    "reload_lamb()"
   ]
  },
  {
   "cell_type": "code",
   "execution_count": 38,
   "id": "d4e5803c-f6bc-4f4c-9dcd-f8d77ac01d8d",
   "metadata": {},
   "outputs": [
    {
     "name": "stdout",
     "output_type": "stream",
     "text": [
      "INFO (core): Coerced guessed type for 'P_t' into <X,t>, to match argument 'y_X'\n"
     ]
    },
    {
     "data": {
      "text/markdown": [
       "<span style=\"color:red\">**ParseError**</span>: Binding expression parse error, in string `L  x_(X) : Exists y_X << x : P(y)`<br />&nbsp;&nbsp;&nbsp;&nbsp;<span style=\"color:red\">**TypeMismatch**</span>: type $X$ and `x_(X)` conflict (Failed to unify restrictor and variable type for operator class `Exists`)"
      ],
      "text/plain": [
       "ParseError: Binding expression parse error, in string `L  x_(X) : Exists y_X << x : P(y)`: TypeMismatch: type `X` and `x_(X)` conflict (Failed to unify restrictor and variable type for operator class `Exists`)"
      ]
     },
     "metadata": {},
     "output_type": "display_data"
    }
   ],
   "source": [
    "lamb.parsing.errors_raise = False\n",
    "f = %te L  x_(X) : Exists y_X << x : P(y)\n",
    "f"
   ]
  },
  {
   "cell_type": "code",
   "execution_count": 15,
   "id": "7b69680a-0525-4d4a-8351-bcf64897024e",
   "metadata": {},
   "outputs": [
    {
     "data": {
      "text/html": [
       "<div align=\"left\" style=\"display:table;\"><div style=\"display:table-cell;vertical-align:top;padding-left:5px;padding-right:5px;padding-top:0.2em\"><div style=\"display:table;\"><div style=\"display:table-row;vertical-align:top;\"><div align=\"left\" style=\"display:table;border-collapse:collapse;\"><div style=\"display:table-row;border-bottom:1px solid #848482;\"><div style=\"display:table-cell;padding:0.2em 5px 0.2em 0px;vertical-align:top;\"></div><div style=\"display:table-cell;vertical-align:top;border-right:1px solid #848482;padding-right:5px;;padding-top:0.2em\"><div style=\"display:inline-block;\"><span>${[\\lambda{} x_{\\left\\{X\\right\\}} \\: . \\: \\exists{} y_{X} \\in {\\small {x}_{\\left\\{X\\right\\}}} \\: . \\: {P}_{\\left\\langle{}X,t\\right\\rangle{}}({y})]}(\\{{\\textsf{c1}}_{e}, {\\textsf{c2}}_{e}\\})$</span></div></div><div style=\"display:table-cell;vertical-align:top;padding-left:5px;padding-right:5px;padding-top:0.2em\"><div style=\"display:table;\"><div style=\"display:table-row;\"><div style=\"white-space:nowrap; color:blue;\"><span>Type inference</span></div></div></div></div></div><div style=\"display:table-row;border-bottom:1px solid #848482;\"><div style=\"display:table-cell;padding:0.2em 5px 0.2em 0px;vertical-align:top;\"> 1. </div><div style=\"display:table-cell;vertical-align:top;border-right:1px solid #848482;padding-right:5px;;padding-top:0.2em\"><div style=\"display:inline-block;\"><span>${[\\lambda{} x_{\\left\\{e\\right\\}} \\: . \\: \\exists{} y_{e} \\in {\\small {x}_{\\left\\{e\\right\\}}} \\: . \\: {P}({y})]}(\\{{\\textsf{c1}}_{e}, {\\textsf{c2}}_{e}\\})$</span></div></div><div style=\"display:table-cell;vertical-align:top;padding-left:5px;padding-right:5px;padding-top:0.2em\"><div style=\"display:table;\"><div style=\"display:table-row;\"><div style=\"white-space:nowrap; color:blue;\"><span>Reduction</span></div></div></div></div></div><div style=\"display:table-row;\"><div style=\"display:table-cell;padding:0.2em 5px 0.2em 0px;vertical-align:top;\"> 2. </div><div style=\"display:table-cell;vertical-align:top;border-right:1px solid #848482;padding-right:5px;;padding-top:0.2em\"><div style=\"display:inline-block;\"><span>$\\exists{} y_{e} \\in {\\small \\{{\\textsf{c1}}_{e}, {\\textsf{c2}}_{e}\\}} \\: . \\: {P}({y})$</span></div></div></div></div></div></div></div></div>"
      ],
      "text/plain": [
       " 1. (λ x_{X}: (Exists y_X << x_{X}: P_<X,t>(y_X)))({_c1_e, _c2_e})    (Type inference)\n",
       " 2. (λ x_{e}: (Exists y_e << x_{e}: P_<e,t>(y_e)))({_c1_e, _c2_e})    (Reduction)\n",
       " 3. (Exists y_e << {_c1_e, _c2_e}: P_<e,t>(y_e))"
      ]
     },
     "execution_count": 15,
     "metadata": {},
     "output_type": "execute_result"
    }
   ],
   "source": [
    "f(te(\"{_c1, _c2}\")).simplify_all(reduce=True).derivation"
   ]
  },
  {
   "cell_type": "code",
   "execution_count": 16,
   "id": "3913f052-237d-4f45-ba4f-c2deb430437f",
   "metadata": {},
   "outputs": [
    {
     "data": {
      "text/plain": [
       "{'P'}"
      ]
     },
     "execution_count": 16,
     "metadata": {},
     "output_type": "execute_result"
    }
   ],
   "source": [
    "f.free_terms()"
   ]
  },
  {
   "cell_type": "code",
   "execution_count": 17,
   "id": "27cd5793-629a-4319-9aa8-94169a3dc6d9",
   "metadata": {},
   "outputs": [
    {
     "name": "stdout",
     "output_type": "stream",
     "text": [
      "INFO (core): Coerced guessed type for 'P_t' into <e,t>, to match argument 'y_e'\n"
     ]
    },
    {
     "data": {
      "text/html": [
       "<table><tr><td>Term mappings:&nbsp;&nbsp; </td><td>{'P': $\\left\\langle{}e,t\\right\\rangle{}$, 'x': $\\left\\{e\\right\\}$}</td></tr><tr><td>Type mappings:&nbsp;&nbsp; </td><td>{}</td></tr><tr><td>Type variables:&nbsp;&nbsp; </td><td>{}</td></tr></table>"
      ],
      "text/plain": [
       "[TypeEnv: Terms: {'P': <e,t>, 'x': {e}}, Type mapping: {}, Type variables: set()]"
      ]
     },
     "execution_count": 17,
     "metadata": {},
     "output_type": "execute_result"
    }
   ],
   "source": [
    "te(\"Exists y_e << x_{e} : P(y)\").get_type_env()"
   ]
  },
  {
   "cell_type": "code",
   "execution_count": 18,
   "id": "8d665cac-e6bb-493b-9dd8-951b88269026",
   "metadata": {},
   "outputs": [
    {
     "name": "stdout",
     "output_type": "stream",
     "text": [
      "INFO (core): Coerced guessed type for 'P_t' into <e,t>, to match argument 'y_e'\n"
     ]
    },
    {
     "data": {
      "text/latex": [
       "$\\lambda{} x_{\\left\\{e\\right\\}} \\: . \\: \\exists{} y_{e} \\in {\\small {x}_{\\left\\{e\\right\\}}} \\: . \\: {P}({y})$"
      ],
      "text/plain": [
       "(λ x_{e}: (Exists y_e << x_{e}: P_<e,t>(y_e)))"
      ]
     },
     "execution_count": 18,
     "metadata": {},
     "output_type": "execute_result"
    }
   ],
   "source": [
    "%te L  x_{X} : Exists y_e << x_Y : P(y)"
   ]
  },
  {
   "cell_type": "code",
   "execution_count": 19,
   "id": "bb8b10e0-6c40-41df-bd8e-d4a80d5616a5",
   "metadata": {},
   "outputs": [
    {
     "name": "stdout",
     "output_type": "stream",
     "text": [
      "INFO (core): Coerced guessed type for 'P_t' into <e,t>, to match argument 'y_e'\n"
     ]
    },
    {
     "data": {
      "text/latex": [
       "$\\lambda{} x_{\\left\\{X\\right\\}} \\: . \\: \\exists{} y_{e} \\in {\\small \\{\\}_{\\left\\{e\\right\\}}} \\: . \\: {P}({y})$"
      ],
      "text/plain": [
       "(λ x_{X}: (Exists y_e << {}: P_<e,t>(y_e)))"
      ]
     },
     "execution_count": 19,
     "metadata": {},
     "output_type": "execute_result"
    }
   ],
   "source": [
    "%te L  x_{X} : Exists y_e << {} : P(y)"
   ]
  },
  {
   "cell_type": "code",
   "execution_count": 20,
   "id": "43cca352-b225-43c0-aa2a-05b33e600d55",
   "metadata": {},
   "outputs": [
    {
     "name": "stdout",
     "output_type": "stream",
     "text": [
      "INFO (core): Coerced guessed type for 'P_t' into <Z,t>, to match argument 'y_Z'\n"
     ]
    },
    {
     "data": {
      "text/html": [
       "<div align=\"left\" style=\"display:table;\"><div style=\"display:table-cell;vertical-align:top;padding-left:5px;padding-right:5px;padding-top:0.2em\"><div style=\"display:table;\"><div style=\"display:table-row;vertical-align:top;\"><div align=\"left\" style=\"display:table;border-collapse:collapse;\"><div style=\"display:table-row;border-bottom:1px solid #848482;\"><div style=\"display:table-cell;padding:0.2em 5px 0.2em 0px;vertical-align:top;\"></div><div style=\"display:table-cell;vertical-align:top;border-right:1px solid #848482;padding-right:5px;;padding-top:0.2em\"><div style=\"display:inline-block;\"><span>$\\exists{} y_{Z} \\in {\\small \\{{x}_{Z} \\:|\\: \\textsf{False}\\}} \\: . \\: {P}_{\\left\\langle{}Z,t\\right\\rangle{}}({y})$</span></div></div><div style=\"display:table-cell;vertical-align:top;padding-left:5px;padding-right:5px;padding-top:0.2em\"><div style=\"display:table;\"><div style=\"display:table-row;\"><div style=\"white-space:nowrap; color:blue;\"><span>[trivial set condition]</span></div></div></div></div></div><div style=\"display:table-row;border-bottom:1px solid #848482;\"><div style=\"display:table-cell;padding:0.2em 5px 0.2em 0px;vertical-align:top;\"> 1. </div><div style=\"display:table-cell;vertical-align:top;border-right:1px solid #848482;padding-right:5px;;padding-top:0.2em\"><div style=\"display:inline-block;\"><span>$\\exists{} y_{Z} \\in {\\small \\{\\}_{\\left\\{Z\\right\\}}} \\: . \\: {P}_{\\left\\langle{}Z,t\\right\\rangle{}}({y})$</span></div></div><div style=\"display:table-cell;vertical-align:top;padding-left:5px;padding-right:5px;padding-top:0.2em\"><div style=\"display:table;\"><div style=\"display:table-row;\"><div style=\"white-space:nowrap; color:blue;\"><span>∃ triviality with empty domain</span></div></div></div></div></div><div style=\"display:table-row;\"><div style=\"display:table-cell;padding:0.2em 5px 0.2em 0px;vertical-align:top;\"> 2. </div><div style=\"display:table-cell;vertical-align:top;border-right:1px solid #848482;padding-right:5px;;padding-top:0.2em\"><div style=\"display:inline-block;\"><span>$\\textsf{False}$</span></div></div></div></div></div></div></div></div>"
      ],
      "text/plain": [
       " 1. (Exists y_Z << (Set x_Z: False_t): P_<Z,t>(y_Z))    ([trivial set condition])\n",
       " 2. (Exists y_Z << {}: P_<Z,t>(y_Z))    (∃ triviality with empty domain)\n",
       " 3. False_t"
      ]
     },
     "execution_count": 20,
     "metadata": {},
     "output_type": "execute_result"
    }
   ],
   "source": [
    "te(\"Exists y_Z << (Set x_X : False) : P(y)\").simplify_all().derivation"
   ]
  },
  {
   "cell_type": "code",
   "execution_count": null,
   "id": "0b60df2f-f762-4aac-b0bd-be871fc27987",
   "metadata": {},
   "outputs": [],
   "source": []
  },
  {
   "cell_type": "code",
   "execution_count": null,
   "id": "d9931feb-4b5a-4e47-85b3-3ed26a7f1f4c",
   "metadata": {},
   "outputs": [],
   "source": []
  },
  {
   "cell_type": "code",
   "execution_count": 56,
   "id": "6607017a-fcc9-440e-b50a-cd6c8220e495",
   "metadata": {},
   "outputs": [
    {
     "name": "stdout",
     "output_type": "stream",
     "text": [
      "1099511627776\n"
     ]
    }
   ],
   "source": [
    "with tp(\"e\").restrict_domain(count=40):\n",
    "    print(tp(\"<e,t>\").domain.cardinality())"
   ]
  },
  {
   "cell_type": "code",
   "execution_count": 57,
   "id": "6bd43a96-bf20-4280-9f75-c3abbdd13671",
   "metadata": {},
   "outputs": [
    {
     "name": "stdout",
     "output_type": "stream",
     "text": [
      "['__class__', '__del__', '__delattr__', '__dir__', '__doc__', '__eq__', '__format__', '__ge__', '__getattribute__', '__getstate__', '__gt__', '__hash__', '__init__', '__init_subclass__', '__iter__', '__le__', '__lt__', '__name__', '__ne__', '__new__', '__next__', '__qualname__', '__reduce__', '__reduce_ex__', '__repr__', '__setattr__', '__sizeof__', '__str__', '__subclasshook__', 'close', 'gi_code', 'gi_frame', 'gi_running', 'gi_suspended', 'gi_yieldfrom', 'send', 'throw']\n"
     ]
    }
   ],
   "source": [
    "with tp(\"e\").restrict_domain(count=40):\n",
    "    print(dir(iter(tp(\"<e,t>\").domain)))"
   ]
  },
  {
   "cell_type": "code",
   "execution_count": 102,
   "id": "80b3c281-7c54-4978-913f-528c06334214",
   "metadata": {},
   "outputs": [],
   "source": [
    "reload_lamb()"
   ]
  },
  {
   "cell_type": "code",
   "execution_count": 103,
   "id": "babc0984-9e59-4382-8962-2c91d70bf0bb",
   "metadata": {},
   "outputs": [
    {
     "name": "stdout",
     "output_type": "stream",
     "text": [
      "1\n"
     ]
    }
   ],
   "source": [
    "x = te(\"Forall x_e << {_c1}: P_<e,t>(x)\")\n",
    "with tp(\"e\").restrict_domain({}):\n",
    "    print(x.domain_cardinality())"
   ]
  },
  {
   "cell_type": "code",
   "execution_count": 104,
   "id": "42ff2472-14e7-462f-8036-00f1b231b3ee",
   "metadata": {},
   "outputs": [
    {
     "name": "stdout",
     "output_type": "stream",
     "text": [
      "1\n"
     ]
    }
   ],
   "source": [
    "with tp(\"e\").restrict_domain({}):\n",
    "    print(te(\"Forall x_<e,t> : P_<<e,t>,t>(x)\").domain_cardinality())"
   ]
  },
  {
   "cell_type": "code",
   "execution_count": 117,
   "id": "813cb3ee-c045-44f8-a04d-9b7c3ccf4eae",
   "metadata": {},
   "outputs": [
    {
     "name": "stdout",
     "output_type": "stream",
     "text": [
      "0\n"
     ]
    }
   ],
   "source": [
    "with tp(\"e\").restrict_domain({}):\n",
    "    print(te(\"Forall x_(e) : P_<(e),t>(x)\").domain_cardinality())"
   ]
  },
  {
   "cell_type": "code",
   "execution_count": 116,
   "id": "08c0bf19-0134-41c1-9031-e072f3419590",
   "metadata": {},
   "outputs": [
    {
     "name": "stdout",
     "output_type": "stream",
     "text": [
      "{}, type {(e)}\n"
     ]
    }
   ],
   "source": [
    "with tp(\"e\").restrict_domain({}): #{'_c1', '_c2'}):\n",
    "    print(te(\"Set x_(e) : True\").eliminate())"
   ]
  },
  {
   "cell_type": "code",
   "execution_count": 112,
   "id": "0d46316a-54a9-4fa0-ba66-68c1d24d389c",
   "metadata": {},
   "outputs": [
    {
     "data": {
      "text/latex": [
       "$\\{{\\textsf{Fun[\\{c1:False,c2:False\\}]}}_{\\left\\langle{}e,t\\right\\rangle{}}, {\\textsf{Fun[\\{c1:False,c2:True\\}]}}_{\\left\\langle{}e,t\\right\\rangle{}}, {\\textsf{Fun[\\{c1:True,c2:False\\}]}}_{\\left\\langle{}e,t\\right\\rangle{}}, {\\textsf{Fun[\\{c1:True,c2:True\\}]}}_{\\left\\langle{}e,t\\right\\rangle{}}\\}$"
      ],
      "text/plain": [
       "{Fun[{_c1:True,_c2:True}]_<e,t>, Fun[{_c1:False,_c2:False}]_<e,t>, Fun[{_c1:True,_c2:False}]_<e,t>, Fun[{_c1:False,_c2:True}]_<e,t>}"
      ]
     },
     "metadata": {},
     "output_type": "display_data"
    }
   ],
   "source": [
    "with tp(\"e\").restrict_domain({'_c1', '_c2'}):\n",
    "    display(te(\"Set x_<e,t> : True\").eliminate())"
   ]
  },
  {
   "cell_type": "code",
   "execution_count": null,
   "id": "1256ea85-b24b-41f4-9914-5943e370c61f",
   "metadata": {},
   "outputs": [],
   "source": []
  },
  {
   "cell_type": "code",
   "execution_count": null,
   "id": "91a1acfc-dee6-4ce9-90e6-d420c01c67ce",
   "metadata": {},
   "outputs": [],
   "source": []
  },
  {
   "cell_type": "code",
   "execution_count": null,
   "id": "e87a6a0a-f090-4473-bf42-177cc1c63086",
   "metadata": {},
   "outputs": [],
   "source": []
  },
  {
   "cell_type": "code",
   "execution_count": 135,
   "id": "c2d163f0-2000-4b6e-bfaa-c804f4950659",
   "metadata": {},
   "outputs": [
    {
     "data": {
      "text/plain": [
       "((['Forall ', ['(', 'x_e, y_e', ')'], ' : P', ['(', 'x', ')']], 24),)"
      ]
     },
     "execution_count": 135,
     "metadata": {},
     "output_type": "execute_result"
    }
   ],
   "source": [
    "lamb.parsing.struc_split(lamb.parsing.parse_paren_str(\"Forall (x_e, y_e) : P(x)\", 0), \":\")"
   ]
  },
  {
   "cell_type": "code",
   "execution_count": 9,
   "id": "20db02f6-e55e-4f6c-ad0b-28969a5b99a7",
   "metadata": {},
   "outputs": [
    {
     "name": "stdout",
     "output_type": "stream",
     "text": [
      "INFO (core): Coerced guessed type for 'P_t' into <e,t>, to match argument 'x_e'\n"
     ]
    },
    {
     "ename": "ParseError",
     "evalue": "Operator class `Forall` does not allow >1 variables, in string `Forall (x_e, y_e): P(x)`",
     "output_type": "error",
     "traceback": [
      "\u001b[0;31m---------------------------------------------------------------------------\u001b[0m",
      "\u001b[0;31mParseError\u001b[0m                                Traceback (most recent call last)",
      "Cell \u001b[0;32mIn[9], line 1\u001b[0m\n\u001b[0;32m----> 1\u001b[0m \u001b[43mte\u001b[49m\u001b[43m(\u001b[49m\u001b[38;5;124;43m\"\u001b[39;49m\u001b[38;5;124;43mForall (x_e, y_e): P(x)\u001b[39;49m\u001b[38;5;124;43m\"\u001b[39;49m\u001b[43m)\u001b[49m\n",
      "File \u001b[0;32m~/repos/lambda-notebook/lamb/meta/core.py:144\u001b[0m, in \u001b[0;36mte\u001b[0;34m(s, let, assignment)\u001b[0m\n\u001b[1;32m    142\u001b[0m \u001b[38;5;28;01mdef\u001b[39;00m \u001b[38;5;21mte\u001b[39m(s, let\u001b[38;5;241m=\u001b[39m\u001b[38;5;28;01mTrue\u001b[39;00m, assignment\u001b[38;5;241m=\u001b[39m\u001b[38;5;28;01mNone\u001b[39;00m):\n\u001b[1;32m    143\u001b[0m \u001b[38;5;250m    \u001b[39m\u001b[38;5;124;03m\"\"\"Convenience wrapper for `lang.TypedExpr.factory`.\"\"\"\u001b[39;00m\n\u001b[0;32m--> 144\u001b[0m     result \u001b[38;5;241m=\u001b[39m \u001b[43mTypedExpr\u001b[49m\u001b[38;5;241;43m.\u001b[39;49m\u001b[43mfactory\u001b[49m\u001b[43m(\u001b[49m\u001b[43ms\u001b[49m\u001b[43m,\u001b[49m\u001b[43m \u001b[49m\u001b[43massignment\u001b[49m\u001b[38;5;241;43m=\u001b[39;49m\u001b[43massignment\u001b[49m\u001b[43m)\u001b[49m\n\u001b[1;32m    145\u001b[0m     \u001b[38;5;28;01mif\u001b[39;00m let \u001b[38;5;129;01mand\u001b[39;00m \u001b[38;5;28misinstance\u001b[39m(result, TypedExpr):\n\u001b[1;32m    146\u001b[0m         result \u001b[38;5;241m=\u001b[39m let_wrapper(result)\n",
      "File \u001b[0;32m~/repos/lambda-notebook/lamb/meta/core.py:1437\u001b[0m, in \u001b[0;36mTypedExpr.factory\u001b[0;34m(cls, assignment, *args)\u001b[0m\n\u001b[1;32m   1434\u001b[0m     \u001b[38;5;28;01mreturn\u001b[39;00m from_python(s, type_n)\n\u001b[1;32m   1435\u001b[0m \u001b[38;5;28;01melif\u001b[39;00m \u001b[38;5;28misinstance\u001b[39m(s, \u001b[38;5;28mstr\u001b[39m):\n\u001b[1;32m   1436\u001b[0m     \u001b[38;5;66;03m#return cls.parse_expr_string(s, assignment)\u001b[39;00m\n\u001b[0;32m-> 1437\u001b[0m     \u001b[38;5;28;01mreturn\u001b[39;00m \u001b[38;5;28;43mcls\u001b[39;49m\u001b[38;5;241;43m.\u001b[39;49m\u001b[43mparse\u001b[49m\u001b[43m(\u001b[49m\u001b[43ms\u001b[49m\u001b[43m,\u001b[49m\u001b[43m \u001b[49m\u001b[43massignment\u001b[49m\u001b[43m)\u001b[49m\n\u001b[1;32m   1438\u001b[0m \u001b[38;5;28;01melse\u001b[39;00m:\n\u001b[1;32m   1439\u001b[0m     c \u001b[38;5;241m=\u001b[39m from_python_container(s)\n",
      "File \u001b[0;32m~/repos/lambda-notebook/lamb/meta/core.py:1109\u001b[0m, in \u001b[0;36mTypedExpr.parse\u001b[0;34m(cls, s, assignment, locals)\u001b[0m\n\u001b[1;32m   1103\u001b[0m \u001b[38;5;66;03m# Intercept any ParseError and update `s` to ensure we don't show strings\u001b[39;00m\n\u001b[1;32m   1104\u001b[0m \u001b[38;5;66;03m# with replacements\u001b[39;00m\n\u001b[1;32m   1105\u001b[0m \u001b[38;5;66;03m# TODO: this is generally a bit too wide. It'd be better to do something\u001b[39;00m\n\u001b[1;32m   1106\u001b[0m \u001b[38;5;66;03m# like, show the biggest subexpression that has no replacements in which\u001b[39;00m\n\u001b[1;32m   1107\u001b[0m \u001b[38;5;66;03m# the error occurred.\u001b[39;00m\n\u001b[1;32m   1108\u001b[0m \u001b[38;5;28;01mwith\u001b[39;00m parsing\u001b[38;5;241m.\u001b[39mparse_error_wrap(\u001b[38;5;124m\"\u001b[39m\u001b[38;5;124mFailed to parse expression\u001b[39m\u001b[38;5;124m\"\u001b[39m, s\u001b[38;5;241m=\u001b[39ms, wrap_all\u001b[38;5;241m=\u001b[39m\u001b[38;5;28;01mFalse\u001b[39;00m):\n\u001b[0;32m-> 1109\u001b[0m     \u001b[38;5;28;01mreturn\u001b[39;00m \u001b[38;5;28;43mcls\u001b[39;49m\u001b[38;5;241;43m.\u001b[39;49m\u001b[43mtry_parse_paren_struc_r\u001b[49m\u001b[43m(\u001b[49m\u001b[43mstruc\u001b[49m\u001b[43m,\u001b[49m\u001b[43m \u001b[49m\u001b[43massignment\u001b[49m\u001b[38;5;241;43m=\u001b[39;49m\u001b[43massignment\u001b[49m\u001b[43m,\u001b[49m\n\u001b[1;32m   1110\u001b[0m \u001b[43m                                                        \u001b[49m\u001b[38;5;28;43mlocals\u001b[39;49m\u001b[38;5;241;43m=\u001b[39;49m\u001b[38;5;28;43mlocals\u001b[39;49m\u001b[43m)\u001b[49m\n",
      "File \u001b[0;32m~/repos/lambda-notebook/lamb/meta/core.py:1222\u001b[0m, in \u001b[0;36mTypedExpr.try_parse_paren_struc_r\u001b[0;34m(cls, struc, assignment, locals, vprefix)\u001b[0m\n\u001b[1;32m   1217\u001b[0m \u001b[38;5;129m@classmethod\u001b[39m\n\u001b[1;32m   1218\u001b[0m \u001b[38;5;28;01mdef\u001b[39;00m \u001b[38;5;21mtry_parse_paren_struc_r\u001b[39m(\u001b[38;5;28mcls\u001b[39m, struc, assignment\u001b[38;5;241m=\u001b[39m\u001b[38;5;28;01mNone\u001b[39;00m, \u001b[38;5;28mlocals\u001b[39m\u001b[38;5;241m=\u001b[39m\u001b[38;5;28;01mNone\u001b[39;00m,\n\u001b[1;32m   1219\u001b[0m                                                         vprefix\u001b[38;5;241m=\u001b[39m\u001b[38;5;124m\"\u001b[39m\u001b[38;5;124milnb\u001b[39m\u001b[38;5;124m\"\u001b[39m):\n\u001b[1;32m   1220\u001b[0m \u001b[38;5;250m    \u001b[39m\u001b[38;5;124;03m\"\"\"Recursively try to parse a semi-AST with parenthetical structures\u001b[39;00m\n\u001b[1;32m   1221\u001b[0m \u001b[38;5;124;03m    matched.\"\"\"\u001b[39;00m\n\u001b[0;32m-> 1222\u001b[0m     expr \u001b[38;5;241m=\u001b[39m \u001b[38;5;28;43mcls\u001b[39;49m\u001b[38;5;241;43m.\u001b[39;49m\u001b[43mtry_parse_binding_struc\u001b[49m\u001b[43m(\u001b[49m\u001b[43mstruc\u001b[49m\u001b[43m,\u001b[49m\u001b[43m \u001b[49m\u001b[43massignment\u001b[49m\u001b[38;5;241;43m=\u001b[39;49m\u001b[43massignment\u001b[49m\u001b[43m,\u001b[49m\n\u001b[1;32m   1223\u001b[0m \u001b[43m                                            \u001b[49m\u001b[38;5;28;43mlocals\u001b[39;49m\u001b[38;5;241;43m=\u001b[39;49m\u001b[38;5;28;43mlocals\u001b[39;49m\u001b[43m,\u001b[49m\u001b[43m \u001b[49m\u001b[43mvprefix\u001b[49m\u001b[38;5;241;43m=\u001b[39;49m\u001b[43mvprefix\u001b[49m\u001b[43m)\u001b[49m\n\u001b[1;32m   1224\u001b[0m     \u001b[38;5;28;01mif\u001b[39;00m expr \u001b[38;5;129;01mis\u001b[39;00m \u001b[38;5;129;01mnot\u001b[39;00m \u001b[38;5;28;01mNone\u001b[39;00m:\n\u001b[1;32m   1225\u001b[0m         \u001b[38;5;28;01mreturn\u001b[39;00m expr\n",
      "File \u001b[0;32m~/repos/lambda-notebook/lamb/meta/core.py:1215\u001b[0m, in \u001b[0;36mTypedExpr.try_parse_binding_struc\u001b[0;34m(cls, s, assignment, locals, vprefix)\u001b[0m\n\u001b[1;32m   1213\u001b[0m     e\u001b[38;5;241m.\u001b[39ms \u001b[38;5;241m=\u001b[39m parsing\u001b[38;5;241m.\u001b[39mflatten_paren_struc(s)\n\u001b[1;32m   1214\u001b[0m     e\u001b[38;5;241m.\u001b[39mi \u001b[38;5;241m=\u001b[39m \u001b[38;5;28;01mNone\u001b[39;00m \u001b[38;5;66;03m# lost any context for this\u001b[39;00m\n\u001b[0;32m-> 1215\u001b[0m \u001b[38;5;28;01mraise\u001b[39;00m e\n",
      "File \u001b[0;32m~/repos/lambda-notebook/lamb/meta/core.py:1207\u001b[0m, in \u001b[0;36mTypedExpr.try_parse_binding_struc\u001b[0;34m(cls, s, assignment, locals, vprefix)\u001b[0m\n\u001b[1;32m   1200\u001b[0m \u001b[38;5;250m\u001b[39m\u001b[38;5;124;03m\"\"\"Try to parse `s` as a binding operator expression.  Will return a\u001b[39;00m\n\u001b[1;32m   1201\u001b[0m \u001b[38;5;124;03msubclass of BindingOp, None, or raise a `parsing.ParseError`.\u001b[39;00m\n\u001b[1;32m   1202\u001b[0m \n\u001b[1;32m   1203\u001b[0m \u001b[38;5;124;03mthe variable on the exception `met_preconditions` is used to attempt to\u001b[39;00m\n\u001b[1;32m   1204\u001b[0m \u001b[38;5;124;03mfigure out whether this was a plausible attempt at a binding operator\u001b[39;00m\n\u001b[1;32m   1205\u001b[0m \u001b[38;5;124;03mexpression, so as to get the error message right.\"\"\"\u001b[39;00m\n\u001b[1;32m   1206\u001b[0m \u001b[38;5;28;01mtry\u001b[39;00m:\n\u001b[0;32m-> 1207\u001b[0m     \u001b[38;5;28;01mreturn\u001b[39;00m \u001b[43mBindingOp\u001b[49m\u001b[38;5;241;43m.\u001b[39;49m\u001b[43mtry_parse_binding_struc_r\u001b[49m\u001b[43m(\u001b[49m\u001b[43ms\u001b[49m\u001b[43m,\u001b[49m\u001b[43m \u001b[49m\u001b[43massignment\u001b[49m\u001b[38;5;241;43m=\u001b[39;49m\u001b[43massignment\u001b[49m\u001b[43m,\u001b[49m\u001b[43m \u001b[49m\u001b[38;5;28;43mlocals\u001b[39;49m\u001b[38;5;241;43m=\u001b[39;49m\u001b[38;5;28;43mlocals\u001b[39;49m\u001b[43m,\u001b[49m\u001b[43m \u001b[49m\u001b[43mvprefix\u001b[49m\u001b[38;5;241;43m=\u001b[39;49m\u001b[43mvprefix\u001b[49m\u001b[43m)\u001b[49m\n\u001b[1;32m   1208\u001b[0m \u001b[38;5;28;01mexcept\u001b[39;00m parsing\u001b[38;5;241m.\u001b[39mParseError \u001b[38;5;28;01mas\u001b[39;00m e:\n\u001b[1;32m   1209\u001b[0m     \u001b[38;5;28;01mif\u001b[39;00m \u001b[38;5;129;01mnot\u001b[39;00m e\u001b[38;5;241m.\u001b[39mmet_preconditions:\n",
      "File \u001b[0;32m~/repos/lambda-notebook/lamb/meta/core.py:4364\u001b[0m, in \u001b[0;36mBindingOp.try_parse_binding_struc_r\u001b[0;34m(cls, struc, assignment, locals, vprefix)\u001b[0m\n\u001b[1;32m   4358\u001b[0m     \u001b[38;5;28;01mraise\u001b[39;00m parsing\u001b[38;5;241m.\u001b[39mParseError(\n\u001b[1;32m   4359\u001b[0m         \u001b[38;5;124m\"\u001b[39m\u001b[38;5;124mCan\u001b[39m\u001b[38;5;124m'\u001b[39m\u001b[38;5;124mt create body-less binding expression\u001b[39m\u001b[38;5;124m\"\u001b[39m,\n\u001b[1;32m   4360\u001b[0m         parsing\u001b[38;5;241m.\u001b[39mflatten_paren_struc(struc), \u001b[38;5;28;01mNone\u001b[39;00m)\n\u001b[1;32m   4362\u001b[0m \u001b[38;5;28;01mwith\u001b[39;00m parsing\u001b[38;5;241m.\u001b[39mparse_error_wrap(\u001b[38;5;124m\"\u001b[39m\u001b[38;5;124mBinding expression parse error\u001b[39m\u001b[38;5;124m\"\u001b[39m,\n\u001b[1;32m   4363\u001b[0m                             paren_struc\u001b[38;5;241m=\u001b[39mstruc):\n\u001b[0;32m-> 4364\u001b[0m     result \u001b[38;5;241m=\u001b[39m \u001b[43mheader\u001b[49m\u001b[38;5;241;43m.\u001b[39;49m\u001b[43mfactory\u001b[49m\u001b[43m(\u001b[49m\u001b[43mbody\u001b[49m\u001b[43m,\u001b[49m\u001b[43m \u001b[49m\u001b[43massignment\u001b[49m\u001b[38;5;241;43m=\u001b[39;49m\u001b[43massignment\u001b[49m\u001b[43m)\u001b[49m\n\u001b[1;32m   4365\u001b[0m \u001b[38;5;28;01mreturn\u001b[39;00m result\n",
      "File \u001b[0;32m~/repos/lambda-notebook/lamb/meta/core.py:3797\u001b[0m, in \u001b[0;36mBindingOpHeader.factory\u001b[0;34m(self, body, assignment)\u001b[0m\n\u001b[1;32m   3796\u001b[0m \u001b[38;5;28;01mdef\u001b[39;00m \u001b[38;5;21mfactory\u001b[39m(\u001b[38;5;28mself\u001b[39m, body, assignment\u001b[38;5;241m=\u001b[39m\u001b[38;5;28;01mNone\u001b[39;00m):\n\u001b[0;32m-> 3797\u001b[0m     \u001b[38;5;28;43mself\u001b[39;49m\u001b[38;5;241;43m.\u001b[39;49m\u001b[43mprecheck\u001b[49m\u001b[43m(\u001b[49m\u001b[43m)\u001b[49m\n\u001b[1;32m   3798\u001b[0m     \u001b[38;5;28;01mif\u001b[39;00m \u001b[38;5;28mself\u001b[39m\u001b[38;5;241m.\u001b[39mclassprop(\u001b[38;5;124m'\u001b[39m\u001b[38;5;124mallow_novars\u001b[39m\u001b[38;5;124m'\u001b[39m) \u001b[38;5;129;01mor\u001b[39;00m \u001b[38;5;28mself\u001b[39m\u001b[38;5;241m.\u001b[39mclassprop(\u001b[38;5;124m'\u001b[39m\u001b[38;5;124mallow_multivars\u001b[39m\u001b[38;5;124m'\u001b[39m):\n\u001b[1;32m   3799\u001b[0m         \u001b[38;5;66;03m# constructor should take an n-ary sequence of varname,type\u001b[39;00m\n\u001b[1;32m   3800\u001b[0m         var_arg \u001b[38;5;241m=\u001b[39m \u001b[38;5;28mself\u001b[39m\u001b[38;5;241m.\u001b[39mvar_seq\n",
      "File \u001b[0;32m~/repos/lambda-notebook/lamb/meta/core.py:3773\u001b[0m, in \u001b[0;36mBindingOpHeader.precheck\u001b[0;34m(self)\u001b[0m\n\u001b[1;32m   3769\u001b[0m         \u001b[38;5;28mself\u001b[39m\u001b[38;5;241m.\u001b[39mvar_seq[i] \u001b[38;5;241m=\u001b[39m (\u001b[38;5;28mself\u001b[39m\u001b[38;5;241m.\u001b[39mvar_seq[i][\u001b[38;5;241m0\u001b[39m],\n\u001b[1;32m   3770\u001b[0m                     default_variable_type(\u001b[38;5;28mself\u001b[39m\u001b[38;5;241m.\u001b[39mvar_seq[i][\u001b[38;5;241m0\u001b[39m]))\n\u001b[1;32m   3772\u001b[0m \u001b[38;5;28;01mif\u001b[39;00m \u001b[38;5;129;01mnot\u001b[39;00m \u001b[38;5;28mself\u001b[39m\u001b[38;5;241m.\u001b[39mclassprop(\u001b[38;5;124m'\u001b[39m\u001b[38;5;124mallow_multivars\u001b[39m\u001b[38;5;124m'\u001b[39m) \u001b[38;5;129;01mand\u001b[39;00m \u001b[38;5;28mlen\u001b[39m(\u001b[38;5;28mself\u001b[39m\u001b[38;5;241m.\u001b[39mvar_seq) \u001b[38;5;241m>\u001b[39m \u001b[38;5;241m1\u001b[39m:\n\u001b[0;32m-> 3773\u001b[0m     \u001b[38;5;28;01mraise\u001b[39;00m parsing\u001b[38;5;241m.\u001b[39mParseError(\n\u001b[1;32m   3774\u001b[0m         \u001b[38;5;124mf\u001b[39m\u001b[38;5;124m\"\u001b[39m\u001b[38;5;124mOperator class `\u001b[39m\u001b[38;5;132;01m{\u001b[39;00m\u001b[38;5;28mself\u001b[39m\u001b[38;5;241m.\u001b[39mop_class\u001b[38;5;241m.\u001b[39mcanonical_name\u001b[38;5;132;01m}\u001b[39;00m\u001b[38;5;124m` does not\u001b[39m\u001b[38;5;124m\"\u001b[39m\n\u001b[1;32m   3775\u001b[0m         \u001b[38;5;124m\"\u001b[39m\u001b[38;5;124m allow >1 variables\u001b[39m\u001b[38;5;124m\"\u001b[39m)\n\u001b[1;32m   3777\u001b[0m \u001b[38;5;28;01mif\u001b[39;00m \u001b[38;5;129;01mnot\u001b[39;00m \u001b[38;5;28mself\u001b[39m\u001b[38;5;241m.\u001b[39mclassprop(\u001b[38;5;124m'\u001b[39m\u001b[38;5;124mallow_novars\u001b[39m\u001b[38;5;124m'\u001b[39m) \u001b[38;5;129;01mand\u001b[39;00m \u001b[38;5;28mlen\u001b[39m(\u001b[38;5;28mself\u001b[39m\u001b[38;5;241m.\u001b[39mvar_seq) \u001b[38;5;241m==\u001b[39m \u001b[38;5;241m0\u001b[39m:\n\u001b[1;32m   3778\u001b[0m     \u001b[38;5;28;01mraise\u001b[39;00m parsing\u001b[38;5;241m.\u001b[39mParseError(\n\u001b[1;32m   3779\u001b[0m         \u001b[38;5;124mf\u001b[39m\u001b[38;5;124m\"\u001b[39m\u001b[38;5;124mOperator class `\u001b[39m\u001b[38;5;132;01m{\u001b[39;00m\u001b[38;5;28mself\u001b[39m\u001b[38;5;241m.\u001b[39mop_class\u001b[38;5;241m.\u001b[39mcanonical_name\u001b[38;5;132;01m}\u001b[39;00m\u001b[38;5;124m` does not\u001b[39m\u001b[38;5;124m\"\u001b[39m\n\u001b[1;32m   3780\u001b[0m         \u001b[38;5;124m\"\u001b[39m\u001b[38;5;124m allow 0 variables\u001b[39m\u001b[38;5;124m\"\u001b[39m)\n",
      "\u001b[0;31mParseError\u001b[0m: Operator class `Forall` does not allow >1 variables, in string `Forall (x_e, y_e): P(x)`"
     ]
    }
   ],
   "source": [
    "te(\"Forall (x_e, y_e): P(x)\")"
   ]
  },
  {
   "cell_type": "code",
   "execution_count": null,
   "id": "78a5b0b4-73d1-4f78-97a3-85976fbd8294",
   "metadata": {},
   "outputs": [],
   "source": []
  },
  {
   "cell_type": "code",
   "execution_count": null,
   "id": "e46f2678-ff47-4b0f-8084-1e540ef732a2",
   "metadata": {},
   "outputs": [],
   "source": []
  },
  {
   "cell_type": "code",
   "execution_count": null,
   "id": "942243e7-8054-4123-87a6-99ff7b28ad78",
   "metadata": {},
   "outputs": [],
   "source": []
  },
  {
   "cell_type": "code",
   "execution_count": 16,
   "id": "b6889cf7-770a-4d0f-af55-89be5c405a2f",
   "metadata": {},
   "outputs": [],
   "source": [
    "reload_lamb()"
   ]
  },
  {
   "cell_type": "code",
   "execution_count": 17,
   "id": "38c14edd-ea08-4970-b659-1c6f53907279",
   "metadata": {},
   "outputs": [
    {
     "data": {
      "text/plain": [
       "[[], ' ', 'x']"
      ]
     },
     "execution_count": 17,
     "metadata": {},
     "output_type": "execute_result"
    }
   ],
   "source": [
    "lamb.parsing.struc_strip([[],\" \", \"x  \", \" \"])"
   ]
  },
  {
   "cell_type": "code",
   "execution_count": 18,
   "id": "6eaa7f8c-afb3-43d5-85ac-856607aa6f81",
   "metadata": {},
   "outputs": [
    {
     "name": "stdout",
     "output_type": "stream",
     "text": [
      " ['(', ')']\n",
      "INFO (core): Coerced guessed type for 'P_t' into <e,t>, to match argument 'x_e'\n"
     ]
    },
    {
     "ename": "ParseError",
     "evalue": "Operator class `Forall` does not allow 0 variables, in string `Forall (): P(x)`",
     "output_type": "error",
     "traceback": [
      "\u001b[0;31m---------------------------------------------------------------------------\u001b[0m",
      "\u001b[0;31mParseError\u001b[0m                                Traceback (most recent call last)",
      "Cell \u001b[0;32mIn[18], line 1\u001b[0m\n\u001b[0;32m----> 1\u001b[0m \u001b[43mte\u001b[49m\u001b[43m(\u001b[49m\u001b[38;5;124;43m\"\u001b[39;49m\u001b[38;5;124;43mForall (): P(x)\u001b[39;49m\u001b[38;5;124;43m\"\u001b[39;49m\u001b[43m)\u001b[49m\n",
      "File \u001b[0;32m~/repos/lambda-notebook/lamb/meta/core.py:144\u001b[0m, in \u001b[0;36mte\u001b[0;34m(s, let, assignment)\u001b[0m\n\u001b[1;32m    142\u001b[0m \u001b[38;5;28;01mdef\u001b[39;00m \u001b[38;5;21mte\u001b[39m(s, let\u001b[38;5;241m=\u001b[39m\u001b[38;5;28;01mTrue\u001b[39;00m, assignment\u001b[38;5;241m=\u001b[39m\u001b[38;5;28;01mNone\u001b[39;00m):\n\u001b[1;32m    143\u001b[0m \u001b[38;5;250m    \u001b[39m\u001b[38;5;124;03m\"\"\"Convenience wrapper for `lang.TypedExpr.factory`.\"\"\"\u001b[39;00m\n\u001b[0;32m--> 144\u001b[0m     result \u001b[38;5;241m=\u001b[39m \u001b[43mTypedExpr\u001b[49m\u001b[38;5;241;43m.\u001b[39;49m\u001b[43mfactory\u001b[49m\u001b[43m(\u001b[49m\u001b[43ms\u001b[49m\u001b[43m,\u001b[49m\u001b[43m \u001b[49m\u001b[43massignment\u001b[49m\u001b[38;5;241;43m=\u001b[39;49m\u001b[43massignment\u001b[49m\u001b[43m)\u001b[49m\n\u001b[1;32m    145\u001b[0m     \u001b[38;5;28;01mif\u001b[39;00m let \u001b[38;5;129;01mand\u001b[39;00m \u001b[38;5;28misinstance\u001b[39m(result, TypedExpr):\n\u001b[1;32m    146\u001b[0m         result \u001b[38;5;241m=\u001b[39m let_wrapper(result)\n",
      "File \u001b[0;32m~/repos/lambda-notebook/lamb/meta/core.py:1437\u001b[0m, in \u001b[0;36mTypedExpr.factory\u001b[0;34m(cls, assignment, *args)\u001b[0m\n\u001b[1;32m   1434\u001b[0m     \u001b[38;5;28;01mreturn\u001b[39;00m from_python(s, type_n)\n\u001b[1;32m   1435\u001b[0m \u001b[38;5;28;01melif\u001b[39;00m \u001b[38;5;28misinstance\u001b[39m(s, \u001b[38;5;28mstr\u001b[39m):\n\u001b[1;32m   1436\u001b[0m     \u001b[38;5;66;03m#return cls.parse_expr_string(s, assignment)\u001b[39;00m\n\u001b[0;32m-> 1437\u001b[0m     \u001b[38;5;28;01mreturn\u001b[39;00m \u001b[38;5;28;43mcls\u001b[39;49m\u001b[38;5;241;43m.\u001b[39;49m\u001b[43mparse\u001b[49m\u001b[43m(\u001b[49m\u001b[43ms\u001b[49m\u001b[43m,\u001b[49m\u001b[43m \u001b[49m\u001b[43massignment\u001b[49m\u001b[43m)\u001b[49m\n\u001b[1;32m   1438\u001b[0m \u001b[38;5;28;01melse\u001b[39;00m:\n\u001b[1;32m   1439\u001b[0m     c \u001b[38;5;241m=\u001b[39m from_python_container(s)\n",
      "File \u001b[0;32m~/repos/lambda-notebook/lamb/meta/core.py:1109\u001b[0m, in \u001b[0;36mTypedExpr.parse\u001b[0;34m(cls, s, assignment, locals)\u001b[0m\n\u001b[1;32m   1103\u001b[0m \u001b[38;5;66;03m# Intercept any ParseError and update `s` to ensure we don't show strings\u001b[39;00m\n\u001b[1;32m   1104\u001b[0m \u001b[38;5;66;03m# with replacements\u001b[39;00m\n\u001b[1;32m   1105\u001b[0m \u001b[38;5;66;03m# TODO: this is generally a bit too wide. It'd be better to do something\u001b[39;00m\n\u001b[1;32m   1106\u001b[0m \u001b[38;5;66;03m# like, show the biggest subexpression that has no replacements in which\u001b[39;00m\n\u001b[1;32m   1107\u001b[0m \u001b[38;5;66;03m# the error occurred.\u001b[39;00m\n\u001b[1;32m   1108\u001b[0m \u001b[38;5;28;01mwith\u001b[39;00m parsing\u001b[38;5;241m.\u001b[39mparse_error_wrap(\u001b[38;5;124m\"\u001b[39m\u001b[38;5;124mFailed to parse expression\u001b[39m\u001b[38;5;124m\"\u001b[39m, s\u001b[38;5;241m=\u001b[39ms, wrap_all\u001b[38;5;241m=\u001b[39m\u001b[38;5;28;01mFalse\u001b[39;00m):\n\u001b[0;32m-> 1109\u001b[0m     \u001b[38;5;28;01mreturn\u001b[39;00m \u001b[38;5;28;43mcls\u001b[39;49m\u001b[38;5;241;43m.\u001b[39;49m\u001b[43mtry_parse_paren_struc_r\u001b[49m\u001b[43m(\u001b[49m\u001b[43mstruc\u001b[49m\u001b[43m,\u001b[49m\u001b[43m \u001b[49m\u001b[43massignment\u001b[49m\u001b[38;5;241;43m=\u001b[39;49m\u001b[43massignment\u001b[49m\u001b[43m,\u001b[49m\n\u001b[1;32m   1110\u001b[0m \u001b[43m                                                        \u001b[49m\u001b[38;5;28;43mlocals\u001b[39;49m\u001b[38;5;241;43m=\u001b[39;49m\u001b[38;5;28;43mlocals\u001b[39;49m\u001b[43m)\u001b[49m\n",
      "File \u001b[0;32m~/repos/lambda-notebook/lamb/meta/core.py:1222\u001b[0m, in \u001b[0;36mTypedExpr.try_parse_paren_struc_r\u001b[0;34m(cls, struc, assignment, locals, vprefix)\u001b[0m\n\u001b[1;32m   1217\u001b[0m \u001b[38;5;129m@classmethod\u001b[39m\n\u001b[1;32m   1218\u001b[0m \u001b[38;5;28;01mdef\u001b[39;00m \u001b[38;5;21mtry_parse_paren_struc_r\u001b[39m(\u001b[38;5;28mcls\u001b[39m, struc, assignment\u001b[38;5;241m=\u001b[39m\u001b[38;5;28;01mNone\u001b[39;00m, \u001b[38;5;28mlocals\u001b[39m\u001b[38;5;241m=\u001b[39m\u001b[38;5;28;01mNone\u001b[39;00m,\n\u001b[1;32m   1219\u001b[0m                                                         vprefix\u001b[38;5;241m=\u001b[39m\u001b[38;5;124m\"\u001b[39m\u001b[38;5;124milnb\u001b[39m\u001b[38;5;124m\"\u001b[39m):\n\u001b[1;32m   1220\u001b[0m \u001b[38;5;250m    \u001b[39m\u001b[38;5;124;03m\"\"\"Recursively try to parse a semi-AST with parenthetical structures\u001b[39;00m\n\u001b[1;32m   1221\u001b[0m \u001b[38;5;124;03m    matched.\"\"\"\u001b[39;00m\n\u001b[0;32m-> 1222\u001b[0m     expr \u001b[38;5;241m=\u001b[39m \u001b[38;5;28;43mcls\u001b[39;49m\u001b[38;5;241;43m.\u001b[39;49m\u001b[43mtry_parse_binding_struc\u001b[49m\u001b[43m(\u001b[49m\u001b[43mstruc\u001b[49m\u001b[43m,\u001b[49m\u001b[43m \u001b[49m\u001b[43massignment\u001b[49m\u001b[38;5;241;43m=\u001b[39;49m\u001b[43massignment\u001b[49m\u001b[43m,\u001b[49m\n\u001b[1;32m   1223\u001b[0m \u001b[43m                                            \u001b[49m\u001b[38;5;28;43mlocals\u001b[39;49m\u001b[38;5;241;43m=\u001b[39;49m\u001b[38;5;28;43mlocals\u001b[39;49m\u001b[43m,\u001b[49m\u001b[43m \u001b[49m\u001b[43mvprefix\u001b[49m\u001b[38;5;241;43m=\u001b[39;49m\u001b[43mvprefix\u001b[49m\u001b[43m)\u001b[49m\n\u001b[1;32m   1224\u001b[0m     \u001b[38;5;28;01mif\u001b[39;00m expr \u001b[38;5;129;01mis\u001b[39;00m \u001b[38;5;129;01mnot\u001b[39;00m \u001b[38;5;28;01mNone\u001b[39;00m:\n\u001b[1;32m   1225\u001b[0m         \u001b[38;5;28;01mreturn\u001b[39;00m expr\n",
      "File \u001b[0;32m~/repos/lambda-notebook/lamb/meta/core.py:1215\u001b[0m, in \u001b[0;36mTypedExpr.try_parse_binding_struc\u001b[0;34m(cls, s, assignment, locals, vprefix)\u001b[0m\n\u001b[1;32m   1213\u001b[0m     e\u001b[38;5;241m.\u001b[39ms \u001b[38;5;241m=\u001b[39m parsing\u001b[38;5;241m.\u001b[39mflatten_paren_struc(s)\n\u001b[1;32m   1214\u001b[0m     e\u001b[38;5;241m.\u001b[39mi \u001b[38;5;241m=\u001b[39m \u001b[38;5;28;01mNone\u001b[39;00m \u001b[38;5;66;03m# lost any context for this\u001b[39;00m\n\u001b[0;32m-> 1215\u001b[0m \u001b[38;5;28;01mraise\u001b[39;00m e\n",
      "File \u001b[0;32m~/repos/lambda-notebook/lamb/meta/core.py:1207\u001b[0m, in \u001b[0;36mTypedExpr.try_parse_binding_struc\u001b[0;34m(cls, s, assignment, locals, vprefix)\u001b[0m\n\u001b[1;32m   1200\u001b[0m \u001b[38;5;250m\u001b[39m\u001b[38;5;124;03m\"\"\"Try to parse `s` as a binding operator expression.  Will return a\u001b[39;00m\n\u001b[1;32m   1201\u001b[0m \u001b[38;5;124;03msubclass of BindingOp, None, or raise a `parsing.ParseError`.\u001b[39;00m\n\u001b[1;32m   1202\u001b[0m \n\u001b[1;32m   1203\u001b[0m \u001b[38;5;124;03mthe variable on the exception `met_preconditions` is used to attempt to\u001b[39;00m\n\u001b[1;32m   1204\u001b[0m \u001b[38;5;124;03mfigure out whether this was a plausible attempt at a binding operator\u001b[39;00m\n\u001b[1;32m   1205\u001b[0m \u001b[38;5;124;03mexpression, so as to get the error message right.\"\"\"\u001b[39;00m\n\u001b[1;32m   1206\u001b[0m \u001b[38;5;28;01mtry\u001b[39;00m:\n\u001b[0;32m-> 1207\u001b[0m     \u001b[38;5;28;01mreturn\u001b[39;00m \u001b[43mBindingOp\u001b[49m\u001b[38;5;241;43m.\u001b[39;49m\u001b[43mtry_parse_binding_struc_r\u001b[49m\u001b[43m(\u001b[49m\u001b[43ms\u001b[49m\u001b[43m,\u001b[49m\u001b[43m \u001b[49m\u001b[43massignment\u001b[49m\u001b[38;5;241;43m=\u001b[39;49m\u001b[43massignment\u001b[49m\u001b[43m,\u001b[49m\u001b[43m \u001b[49m\u001b[38;5;28;43mlocals\u001b[39;49m\u001b[38;5;241;43m=\u001b[39;49m\u001b[38;5;28;43mlocals\u001b[39;49m\u001b[43m,\u001b[49m\u001b[43m \u001b[49m\u001b[43mvprefix\u001b[49m\u001b[38;5;241;43m=\u001b[39;49m\u001b[43mvprefix\u001b[49m\u001b[43m)\u001b[49m\n\u001b[1;32m   1208\u001b[0m \u001b[38;5;28;01mexcept\u001b[39;00m parsing\u001b[38;5;241m.\u001b[39mParseError \u001b[38;5;28;01mas\u001b[39;00m e:\n\u001b[1;32m   1209\u001b[0m     \u001b[38;5;28;01mif\u001b[39;00m \u001b[38;5;129;01mnot\u001b[39;00m e\u001b[38;5;241m.\u001b[39mmet_preconditions:\n",
      "File \u001b[0;32m~/repos/lambda-notebook/lamb/meta/core.py:4364\u001b[0m, in \u001b[0;36mBindingOp.try_parse_binding_struc_r\u001b[0;34m(cls, struc, assignment, locals, vprefix)\u001b[0m\n\u001b[1;32m   4358\u001b[0m     \u001b[38;5;28;01mraise\u001b[39;00m parsing\u001b[38;5;241m.\u001b[39mParseError(\n\u001b[1;32m   4359\u001b[0m         \u001b[38;5;124m\"\u001b[39m\u001b[38;5;124mCan\u001b[39m\u001b[38;5;124m'\u001b[39m\u001b[38;5;124mt create body-less binding expression\u001b[39m\u001b[38;5;124m\"\u001b[39m,\n\u001b[1;32m   4360\u001b[0m         parsing\u001b[38;5;241m.\u001b[39mflatten_paren_struc(struc), \u001b[38;5;28;01mNone\u001b[39;00m)\n\u001b[1;32m   4362\u001b[0m \u001b[38;5;28;01mwith\u001b[39;00m parsing\u001b[38;5;241m.\u001b[39mparse_error_wrap(\u001b[38;5;124m\"\u001b[39m\u001b[38;5;124mBinding expression parse error\u001b[39m\u001b[38;5;124m\"\u001b[39m,\n\u001b[1;32m   4363\u001b[0m                             paren_struc\u001b[38;5;241m=\u001b[39mstruc):\n\u001b[0;32m-> 4364\u001b[0m     result \u001b[38;5;241m=\u001b[39m \u001b[43mheader\u001b[49m\u001b[38;5;241;43m.\u001b[39;49m\u001b[43mfactory\u001b[49m\u001b[43m(\u001b[49m\u001b[43mbody\u001b[49m\u001b[43m,\u001b[49m\u001b[43m \u001b[49m\u001b[43massignment\u001b[49m\u001b[38;5;241;43m=\u001b[39;49m\u001b[43massignment\u001b[49m\u001b[43m)\u001b[49m\n\u001b[1;32m   4365\u001b[0m \u001b[38;5;28;01mreturn\u001b[39;00m result\n",
      "File \u001b[0;32m~/repos/lambda-notebook/lamb/meta/core.py:3797\u001b[0m, in \u001b[0;36mBindingOpHeader.factory\u001b[0;34m(self, body, assignment)\u001b[0m\n\u001b[1;32m   3796\u001b[0m \u001b[38;5;28;01mdef\u001b[39;00m \u001b[38;5;21mfactory\u001b[39m(\u001b[38;5;28mself\u001b[39m, body, assignment\u001b[38;5;241m=\u001b[39m\u001b[38;5;28;01mNone\u001b[39;00m):\n\u001b[0;32m-> 3797\u001b[0m     \u001b[38;5;28;43mself\u001b[39;49m\u001b[38;5;241;43m.\u001b[39;49m\u001b[43mprecheck\u001b[49m\u001b[43m(\u001b[49m\u001b[43m)\u001b[49m\n\u001b[1;32m   3798\u001b[0m     \u001b[38;5;28;01mif\u001b[39;00m \u001b[38;5;28mself\u001b[39m\u001b[38;5;241m.\u001b[39mclassprop(\u001b[38;5;124m'\u001b[39m\u001b[38;5;124mallow_novars\u001b[39m\u001b[38;5;124m'\u001b[39m) \u001b[38;5;129;01mor\u001b[39;00m \u001b[38;5;28mself\u001b[39m\u001b[38;5;241m.\u001b[39mclassprop(\u001b[38;5;124m'\u001b[39m\u001b[38;5;124mallow_multivars\u001b[39m\u001b[38;5;124m'\u001b[39m):\n\u001b[1;32m   3799\u001b[0m         \u001b[38;5;66;03m# constructor should take an n-ary sequence of varname,type\u001b[39;00m\n\u001b[1;32m   3800\u001b[0m         var_arg \u001b[38;5;241m=\u001b[39m \u001b[38;5;28mself\u001b[39m\u001b[38;5;241m.\u001b[39mvar_seq\n",
      "File \u001b[0;32m~/repos/lambda-notebook/lamb/meta/core.py:3778\u001b[0m, in \u001b[0;36mBindingOpHeader.precheck\u001b[0;34m(self)\u001b[0m\n\u001b[1;32m   3773\u001b[0m     \u001b[38;5;28;01mraise\u001b[39;00m parsing\u001b[38;5;241m.\u001b[39mParseError(\n\u001b[1;32m   3774\u001b[0m         \u001b[38;5;124mf\u001b[39m\u001b[38;5;124m\"\u001b[39m\u001b[38;5;124mOperator class `\u001b[39m\u001b[38;5;132;01m{\u001b[39;00m\u001b[38;5;28mself\u001b[39m\u001b[38;5;241m.\u001b[39mop_class\u001b[38;5;241m.\u001b[39mcanonical_name\u001b[38;5;132;01m}\u001b[39;00m\u001b[38;5;124m` does not\u001b[39m\u001b[38;5;124m\"\u001b[39m\n\u001b[1;32m   3775\u001b[0m         \u001b[38;5;124m\"\u001b[39m\u001b[38;5;124m allow >1 variables\u001b[39m\u001b[38;5;124m\"\u001b[39m)\n\u001b[1;32m   3777\u001b[0m \u001b[38;5;28;01mif\u001b[39;00m \u001b[38;5;129;01mnot\u001b[39;00m \u001b[38;5;28mself\u001b[39m\u001b[38;5;241m.\u001b[39mclassprop(\u001b[38;5;124m'\u001b[39m\u001b[38;5;124mallow_novars\u001b[39m\u001b[38;5;124m'\u001b[39m) \u001b[38;5;129;01mand\u001b[39;00m \u001b[38;5;28mlen\u001b[39m(\u001b[38;5;28mself\u001b[39m\u001b[38;5;241m.\u001b[39mvar_seq) \u001b[38;5;241m==\u001b[39m \u001b[38;5;241m0\u001b[39m:\n\u001b[0;32m-> 3778\u001b[0m     \u001b[38;5;28;01mraise\u001b[39;00m parsing\u001b[38;5;241m.\u001b[39mParseError(\n\u001b[1;32m   3779\u001b[0m         \u001b[38;5;124mf\u001b[39m\u001b[38;5;124m\"\u001b[39m\u001b[38;5;124mOperator class `\u001b[39m\u001b[38;5;132;01m{\u001b[39;00m\u001b[38;5;28mself\u001b[39m\u001b[38;5;241m.\u001b[39mop_class\u001b[38;5;241m.\u001b[39mcanonical_name\u001b[38;5;132;01m}\u001b[39;00m\u001b[38;5;124m` does not\u001b[39m\u001b[38;5;124m\"\u001b[39m\n\u001b[1;32m   3780\u001b[0m         \u001b[38;5;124m\"\u001b[39m\u001b[38;5;124m allow 0 variables\u001b[39m\u001b[38;5;124m\"\u001b[39m)\n\u001b[1;32m   3782\u001b[0m \u001b[38;5;28;01mif\u001b[39;00m \u001b[38;5;129;01mnot\u001b[39;00m \u001b[38;5;28mself\u001b[39m\u001b[38;5;241m.\u001b[39mclassprop(\u001b[38;5;124m'\u001b[39m\u001b[38;5;124mallow_restrictor\u001b[39m\u001b[38;5;124m'\u001b[39m) \u001b[38;5;129;01mand\u001b[39;00m \u001b[38;5;28mself\u001b[39m\u001b[38;5;241m.\u001b[39mrestrictor \u001b[38;5;129;01mis\u001b[39;00m \u001b[38;5;129;01mnot\u001b[39;00m \u001b[38;5;28;01mNone\u001b[39;00m:\n\u001b[1;32m   3783\u001b[0m     \u001b[38;5;28;01mraise\u001b[39;00m parsing\u001b[38;5;241m.\u001b[39mParseError(\n\u001b[1;32m   3784\u001b[0m         \u001b[38;5;124mf\u001b[39m\u001b[38;5;124m\"\u001b[39m\u001b[38;5;124mOperator class `\u001b[39m\u001b[38;5;132;01m{\u001b[39;00m\u001b[38;5;28mself\u001b[39m\u001b[38;5;241m.\u001b[39mop_class\u001b[38;5;241m.\u001b[39mcanonical_name\u001b[38;5;132;01m}\u001b[39;00m\u001b[38;5;124m` does not\u001b[39m\u001b[38;5;124m\"\u001b[39m\n\u001b[1;32m   3785\u001b[0m         \u001b[38;5;124m\"\u001b[39m\u001b[38;5;124m allow a restrictor\u001b[39m\u001b[38;5;124m\"\u001b[39m)\n",
      "\u001b[0;31mParseError\u001b[0m: Operator class `Forall` does not allow 0 variables, in string `Forall (): P(x)`"
     ]
    }
   ],
   "source": [
    "te(\"Forall (): P(x)\")"
   ]
  },
  {
   "cell_type": "code",
   "execution_count": 3,
   "id": "4d5ba255-402a-415e-b757-e224a0fa2aa4",
   "metadata": {},
   "outputs": [],
   "source": [
    "reload_lamb()"
   ]
  },
  {
   "cell_type": "code",
   "execution_count": 4,
   "id": "4bbd7ea5-6bc9-416c-8f47-e0a7a6b0161c",
   "metadata": {},
   "outputs": [
    {
     "data": {
      "text/latex": [
       "$\\lambda{} x_{\\left(X, Y\\right)} \\: . \\: ({x}[\\textsf{0}])$"
      ],
      "text/plain": [
       "(λ x_(X,Y): (x_(X,Y)[0_n]))"
      ]
     },
     "execution_count": 4,
     "metadata": {},
     "output_type": "execute_result"
    }
   ],
   "source": [
    "# lamb.parsing.errors_raise = True\n",
    "%te L x_(X,Y) : x[0]"
   ]
  },
  {
   "cell_type": "code",
   "execution_count": null,
   "id": "70f90ce6-68c8-4385-993a-e2506c55c2ad",
   "metadata": {},
   "outputs": [],
   "source": []
  }
 ],
 "metadata": {
  "kernelspec": {
   "display_name": "Lambda Notebook (Python 3)",
   "language": "python",
   "name": "lambda-notebook"
  },
  "language_info": {
   "codemirror_mode": {
    "name": "ipython",
    "version": 3
   },
   "file_extension": ".py",
   "mimetype": "text/x-python",
   "name": "python",
   "nbconvert_exporter": "python",
   "pygments_lexer": "ipython3",
   "version": "3.12.0"
  }
 },
 "nbformat": 4,
 "nbformat_minor": 5
}
