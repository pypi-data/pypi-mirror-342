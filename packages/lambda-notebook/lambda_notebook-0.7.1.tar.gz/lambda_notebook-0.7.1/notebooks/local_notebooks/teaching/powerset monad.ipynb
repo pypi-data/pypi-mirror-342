{
 "cells": [
  {
   "cell_type": "code",
   "execution_count": 87,
   "id": "842cdbc9-f768-4d6f-9680-903b7552f301",
   "metadata": {},
   "outputs": [],
   "source": [
    "reload_lamb()\n",
    "lamb.display.default(style=lamb.display.DerivStyle.PROOF)\n",
    "# this is probably not a good idea to use generally, but it's currently useful here:\n",
    "lamb.meta.ply.default_sopts['eliminate_quantifiers'] = True"
   ]
  },
  {
   "cell_type": "code",
   "execution_count": 88,
   "id": "a9f01f34-6a31-4834-999b-3390c1481180",
   "metadata": {},
   "outputs": [
    {
     "data": {
      "text/latex": [
       "$\\lambda{} a_{X} \\: . \\: \\{{a}\\}$"
      ],
      "text/plain": [
       "(λ a_X: {a_X})"
      ]
     },
     "execution_count": 88,
     "metadata": {},
     "output_type": "execute_result"
    }
   ],
   "source": [
    "unit = %te L a_X : {a}\n",
    "unit"
   ]
  },
  {
   "cell_type": "code",
   "execution_count": 89,
   "id": "7ca7270a-c6c4-48bf-8e1f-b2c93ff299f6",
   "metadata": {},
   "outputs": [
    {
     "data": {
      "text/latex": [
       "$\\lambda{} m_{\\left\\{X\\right\\}} \\: . \\: \\lambda{} k_{\\left\\langle{}X,\\left\\{Y\\right\\}\\right\\rangle{}} \\: . \\: \\{{y}_{Y} \\:|\\: \\exists{} x_{X} \\in {\\small {m}_{\\left\\{X\\right\\}}} \\: . \\: {y}_{Y} \\in{} {k}({x})\\}$"
      ],
      "text/plain": [
       "(λ m_{X}: (λ k_<X,{Y}>: (Set y_Y: (Exists x_X << m_{X}: (y_Y << k_<X,{Y}>(x_X))))))"
      ]
     },
     "execution_count": 89,
     "metadata": {},
     "output_type": "execute_result"
    }
   ],
   "source": [
    "bind = %te L m_{X} : L k_<X,{Y}> : Set y_Y : Exists x_X << m: y << k(x)\n",
    "bind"
   ]
  },
  {
   "cell_type": "code",
   "execution_count": 92,
   "id": "a5622e1b-a776-45b4-8a04-7d8cadd37e1c",
   "metadata": {},
   "outputs": [
    {
     "data": {
      "text/markdown": [
       "${unit}_{\\left\\langle{}X,\\left\\{X\\right\\}\\right\\rangle{}}\\:=\\:\\lambda{} a_{X} \\: . \\: \\{{a}\\}$<br />\n",
       "${bind}_{\\left\\langle{}\\left\\{X\\right\\},\\left\\langle{}\\left\\langle{}X,\\left\\{Y\\right\\}\\right\\rangle{},\\left\\{Y\\right\\}\\right\\rangle{}\\right\\rangle{}}\\:=\\:\\lambda{} m_{\\left\\{X\\right\\}} \\: . \\: \\lambda{} k_{\\left\\langle{}X,\\left\\{Y\\right\\}\\right\\rangle{}} \\: . \\: \\{{y}_{Y} \\:|\\: \\exists{} x_{X} \\in {\\small {m}_{\\left\\{X\\right\\}}} \\: . \\: {y}_{Y} \\in{} {k}({x})\\}$"
      ],
      "text/plain": [
       "unit_<X,{X}> = (λ a_X: {a_X})\n",
       "bind_<{X},<<X,{Y}>,{Y}>> = (λ m_{X}: (λ k_<X,{Y}>: (Set y_Y: (Exists x_X << m_{X}: (y_Y << k_<X,{Y}>(x_X))))))"
      ]
     },
     "metadata": {},
     "output_type": "display_data"
    }
   ],
   "source": [
    "%%lamb\n",
    "unit = L a_X : {a}\n",
    "bind = L m_{X} : L k_<X,{Y}> : Set y_Y : Exists x_X << m : y << k(x)"
   ]
  },
  {
   "cell_type": "code",
   "execution_count": 93,
   "id": "f320214d-ae1f-46c5-b54c-7dc0c497273e",
   "metadata": {},
   "outputs": [
    {
     "data": {
      "text/markdown": [
       "${apply}_{\\left\\langle{}\\left\\{\\left\\langle{}X',X\\right\\rangle{}\\right\\},\\left\\langle{}\\left\\{X'\\right\\},\\left\\{X\\right\\}\\right\\rangle{}\\right\\rangle{}}\\:=\\:\\lambda{} f_{\\left\\{\\left\\langle{}X',X\\right\\rangle{}\\right\\}} \\: . \\: \\lambda{} x_{\\left\\{X'\\right\\}} \\: . \\: \\{{y}_{X} \\:|\\: \\exists{} x1_{\\left\\langle{}X',X\\right\\rangle{}} \\in {\\small {f}_{\\left\\{\\left\\langle{}X',X\\right\\rangle{}\\right\\}}} \\: . \\: \\exists{} x2_{X'} \\in {\\small {x}_{\\left\\{X'\\right\\}}} \\: . \\: {y}_{X} = {x1}({x2})\\}$"
      ],
      "text/plain": [
       "apply_<{<X1,X>},<{X1},{X}>> = (λ f_{<X1,X>}: (λ x_{X1}: (Set y_X: (Exists x1_<X1,X> << f_{<X1,X>}: (Exists x2_X1 << x_{X1}: (y_X <=> x1_<X1,X>(x2_X1)))))))"
      ]
     },
     "metadata": {},
     "output_type": "display_data"
    }
   ],
   "source": [
    "%lamb apply = L f_{<X,Y>} : L x_{X} : bind(f)(L a_<X,Y> : bind(x)(L b_X : unit(a(b))))"
   ]
  },
  {
   "cell_type": "code",
   "execution_count": 94,
   "id": "555fc8ab-5da3-4036-8b88-6464eb5ef976",
   "metadata": {},
   "outputs": [
    {
     "name": "stdout",
     "output_type": "stream",
     "text": [
      "INFO (core): Coerced guessed type for 'P_t' into <e,t>, to match argument 'x_e'\n"
     ]
    },
    {
     "data": {
      "text/latex": [
       "$\\lambda{} x_{\\left\\{e\\right\\}} \\: . \\: \\{{y}_{t} \\:|\\: \\exists{} x1_{\\left\\langle{}e,t\\right\\rangle{}} \\in {\\small \\{(\\lambda{} x_{e} \\: . \\: {P}({x}))\\}} \\: . \\: \\exists{} x2_{e} \\in {\\small {x}_{\\left\\{e\\right\\}}} \\: . \\: {y}_{t} \\leftrightarrow{} {x1}({x2})\\}$"
      ],
      "text/plain": [
       "(λ x_{e}: (Set y_t: (Exists x1_<e,t> << {(λ x_e: P_<e,t>(x_e))}: (Exists x2_e << x_{e}: (y_t <=> x1_<e,t>(x2_e))))))"
      ]
     },
     "execution_count": 94,
     "metadata": {},
     "output_type": "execute_result"
    }
   ],
   "source": [
    "apply(unit(te(\"L x_e : P(x)\"))).reduce_all()"
   ]
  },
  {
   "cell_type": "code",
   "execution_count": 96,
   "id": "681915e1-adf5-4b68-b425-4791f94bf3c5",
   "metadata": {},
   "outputs": [
    {
     "name": "stdout",
     "output_type": "stream",
     "text": [
      "INFO (core): Coerced guessed type for 'P_t' into <e,t>, to match argument 'x_e'\n"
     ]
    },
    {
     "data": {
      "text/latex": [
       "$\\{{P}({\\textsf{c1}}_{e})\\}$"
      ],
      "text/plain": [
       "{P_<e,t>(_c1_e)}"
      ]
     },
     "execution_count": 96,
     "metadata": {},
     "output_type": "execute_result"
    }
   ],
   "source": [
    "apply(unit(te(\"L x_e : P(x)\")))(unit(te(\"_c1\"))).simplify_all(reduce=True) #.derivation.trace()"
   ]
  },
  {
   "cell_type": "code",
   "execution_count": 97,
   "id": "8af57570-616f-4f08-83c9-1e8c88a59b44",
   "metadata": {},
   "outputs": [
    {
     "data": {
      "text/html": [
       "Composition system 'Type-driven composition (copy)'<br />Operations: {<br />&nbsp;&nbsp;&nbsp;&nbsp;Binary composition rule <i>FA</i>, built on python function 'lamb.lang.fa_fun'<br />&nbsp;&nbsp;&nbsp;&nbsp;Binary composition rule <i>PA</i>, built on python function 'lamb.lang.pa_fun'<br />&nbsp;&nbsp;&nbsp;&nbsp;Binary composition rule <i>VAC</i>, built on python function 'lamb.lang.binary_vacuous'<br />&nbsp;&nbsp;&nbsp;&nbsp;Typeshift <i>Unit</i>, built on combinator '$\\lambda{} a_{X} \\: . \\: \\{{a}\\}$'<br />&nbsp;&nbsp;&nbsp;&nbsp;Binary composition rule <i>Bind</i>, built on combinator '$\\lambda{} m_{\\left\\{X\\right\\}} \\: . \\: \\lambda{} k_{\\left\\langle{}X,\\left\\{Y\\right\\}\\right\\rangle{}} \\: . \\: \\{{y}_{Y} \\:|\\: \\exists{} x_{X} \\in {\\small {m}_{\\left\\{X\\right\\}}} \\: . \\: {y}_{Y} \\in{} {k}({x})\\}$'<br />&nbsp;&nbsp;&nbsp;&nbsp;Binary composition rule <i>LiftedFA</i>, built on combinator '$\\lambda{} f_{\\left\\{\\left\\langle{}X',X\\right\\rangle{}\\right\\}} \\: . \\: \\lambda{} x_{\\left\\{X'\\right\\}} \\: . \\: \\{{y}_{X} \\:|\\: \\exists{} x1_{\\left\\langle{}X',X\\right\\rangle{}} \\in {\\small {f}_{\\left\\{\\left\\langle{}X',X\\right\\rangle{}\\right\\}}} \\: . \\: \\exists{} x2_{X'} \\in {\\small {x}_{\\left\\{X'\\right\\}}} \\: . \\: {y}_{X} = {x1}({x2})\\}$'<br />}"
      ],
      "text/plain": [
       "Composition system: Type-driven composition (copy)"
      ]
     },
     "execution_count": 97,
     "metadata": {},
     "output_type": "execute_result"
    }
   ],
   "source": [
    "system = lang.td_system.copy()\n",
    "type_s = types.BasicType(\"s\")\n",
    "system.add_basic_type(type_s)\n",
    "lang.set_system(system)\n",
    "system.add_typeshift(unit, \"Unit\")\n",
    "# bind is unused in this demo, but can be added in principle\n",
    "system.add_binary_rule(bind, \"Bind\")\n",
    "system.add_binary_rule(apply, \"LiftedFA\")\n",
    "# do a bit of cleanup, we don't need PM here.\n",
    "system.remove_rule('PM')\n",
    "system.typeshift = True\n",
    "system"
   ]
  },
  {
   "cell_type": "code",
   "execution_count": 98,
   "id": "495e3849-c075-4f9f-85b1-daff8578fbd4",
   "metadata": {},
   "outputs": [
    {
     "name": "stdout",
     "output_type": "stream",
     "text": [
      "INFO (core): Coerced guessed type for 'Dance_t' into <(e,s),t>, to match argument '(x_e, w_s)'\n",
      "INFO (core): Coerced guessed type for 'Saw_t' into <(e,e,s),t>, to match argument '(x_e, y_e, w_s)'\n",
      "INFO (core): Coerced guessed type for 'Human_t' into <e,t>, to match argument 'x_e'\n"
     ]
    },
    {
     "data": {
      "text/markdown": [
       "$[\\![\\text{\\textbf{alfonso}}]\\!]^{}_{e} \\:=\\: {A}_{e}$<br />\n",
       "$[\\![\\text{\\textbf{danced}}]\\!]^{}_{\\left\\langle{}e,\\left\\langle{}s,t\\right\\rangle{}\\right\\rangle{}} \\:=\\: \\lambda{} x_{e} \\: . \\: \\lambda{} w_{s} \\: . \\: {Dance}({x}, {w})$<br />\n",
       "$[\\![\\text{\\textbf{saw}}]\\!]^{}_{\\left\\langle{}e,\\left\\langle{}e,\\left\\langle{}s,t\\right\\rangle{}\\right\\rangle{}\\right\\rangle{}} \\:=\\: \\lambda{} y_{e} \\: . \\: \\lambda{} x_{e} \\: . \\: \\lambda{} w_{s} \\: . \\: {Saw}({x}, {y}, {w})$<br />\n",
       "$[\\![\\text{\\textbf{POL}}]\\!]^{}_{\\left\\{\\left\\langle{}\\left\\langle{}s,t\\right\\rangle{},\\left\\langle{}s,t\\right\\rangle{}\\right\\rangle{}\\right\\}} \\:=\\: \\{(\\lambda{} p_{\\left\\langle{}s,t\\right\\rangle{}} \\: . \\: \\lambda{} w_{s} \\: . \\: \\neg{} {p}({w})), (\\lambda{} p_{\\left\\langle{}s,t\\right\\rangle{}} \\: . \\: {p})\\}$<br />\n",
       "$[\\![\\text{\\textbf{who}}]\\!]^{}_{\\left\\{e\\right\\}} \\:=\\: \\{{x}_{e} \\:|\\: {Human}({x}_{e})\\}$"
      ],
      "text/plain": [
       "⟦alfonso⟧ = A_e\n",
       "⟦danced⟧ = (λ x_e: (λ w_s: Dance_<(e,s),t>(x_e, w_s)))\n",
       "⟦saw⟧ = (λ y_e: (λ x_e: (λ w_s: Saw_<(e,e,s),t>(x_e, y_e, w_s))))\n",
       "⟦POL⟧ = {(λ p_<s,t>: (λ w_s: ~p_<s,t>(w_s))), (λ p_<s,t>: p_<s,t>)}\n",
       "⟦who⟧ = (Set x_e: Human_<e,t>(x_e))"
      ]
     },
     "metadata": {},
     "output_type": "display_data"
    }
   ],
   "source": [
    "%%lamb\n",
    "||alfonso|| = A_e\n",
    "||danced|| = L x_e: L w_s: Dance(x,w)\n",
    "||saw|| = L y_e: L x_e: L w_s: Saw(x,y,w)\n",
    "||POL|| = {(L p_<s,t> : p), (L p_<s,t> : L w_s : ~p(w))}\n",
    "||who|| = Set x_e: Human(x)"
   ]
  },
  {
   "cell_type": "markdown",
   "id": "1308d77f-baf5-4fee-9528-f9a5b57374ac",
   "metadata": {},
   "source": [
    "Non-set-based composition remains ordinary:"
   ]
  },
  {
   "cell_type": "code",
   "execution_count": 99,
   "id": "99b695c8-0354-44f9-8378-b5c67ae64ba0",
   "metadata": {},
   "outputs": [
    {
     "data": {
      "text/markdown": [
       "1 composition path.  Result:<br />\n",
       "&nbsp;&nbsp;&nbsp;&nbsp;[0]: $[\\![\\text{\\textbf{[alfonso danced]}}]\\!]^{}_{\\left\\langle{}s,t\\right\\rangle{}} \\:=\\: \\lambda{} w_{s} \\: . \\: {Dance}({A}_{e}, {w})$"
      ],
      "text/plain": [
       "1 composition path.  Result:\n",
       "    [0]: ⟦alfonso⟧ * ⟦danced⟧ leads to: ⟦[alfonso danced]⟧ = (λ w_s: Dance_<(e,s),t>(A_e, w_s)) [by FA]"
      ]
     },
     "metadata": {},
     "output_type": "display_data"
    }
   ],
   "source": [
    "alfonso * danced"
   ]
  },
  {
   "cell_type": "markdown",
   "id": "da7b1397-e5ca-4515-ab9c-879f11398baf",
   "metadata": {},
   "source": [
    "When we apply Hamblin's polar operator to the above, we get an alternative set:"
   ]
  },
  {
   "cell_type": "code",
   "execution_count": 101,
   "id": "e37d62b0-198d-4a79-9fa2-bfb2fd9ece59",
   "metadata": {},
   "outputs": [
    {
     "data": {
      "text/html": [
       "1 composition path:<br /><div align=\"center\" style=\"display:table;\"><div align=\"center\" style=\"display:table-row;\"><div style=\"display:table-cell;table-layout:auto;vertical-align:bottom;border-bottom:1px solid #848482;\"><div style=\"display: table;\"><div style=\"vertical-align:bottom;display:table-cell;padding-left:5px;padding-right:5px;padding-top:5px;padding-bottom:5px;\"><div align=\"center\" style=\"display:block;padding-left:5px;padding-right:5px;padding-top:5px;padding-bottom:5px;\"><div style=\"display:table;table-layout:auto;\" align=\"center\"><div style=\"display:table-row;\"><div style=\"display:table-cell;padding-right:2px; padding-left:2px;\" align=\"center\"><div style=\"display:inline-block;\"><span>$[\\![\\text{\\textbf{POL}}]\\!]^{}_{\\left\\{\\left\\langle{}\\left\\langle{}s,t\\right\\rangle{},\\left\\langle{}s,t\\right\\rangle{}\\right\\rangle{}\\right\\}}$</span></div></div></div><div style=\"display:table-row;\"><div style=\"display:table-cell;padding-right:2px; padding-left:2px;\" align=\"center\"><div style=\"display:inline-block;\"><span>$\\{(\\lambda{} p_{\\left\\langle{}s,t\\right\\rangle{}} \\: . \\: \\lambda{} w_{s} \\: . \\: \\neg{} {p}({w})), (\\lambda{} p_{\\left\\langle{}s,t\\right\\rangle{}} \\: . \\: {p})\\}$</span></div></div></div></div></div></div><div style=\"display: table-cell; padding-left:4em;\"></div><div style=\"vertical-align:bottom;display:table-cell;padding-left:5px;padding-right:5px;padding-top:5px;padding-bottom:5px;\"><div align=\"center\" style=\"display:table;\"><div align=\"center\" style=\"display:table-row;\"><div style=\"display:table-cell;table-layout:auto;vertical-align:bottom;border-bottom:1px solid #848482;\"><div style=\"display: table;\"><div style=\"vertical-align:bottom;display:table-cell;padding-left:5px;padding-right:5px;padding-top:5px;padding-bottom:5px;\"><div align=\"center\" style=\"display:table;\"><div align=\"center\" style=\"display:table-row;\"><div style=\"display:table-cell;table-layout:auto;vertical-align:bottom;border-bottom:1px solid #848482;\"><div style=\"display: table;\"><div style=\"vertical-align:bottom;display:table-cell;padding-left:5px;padding-right:5px;padding-top:5px;padding-bottom:5px;\"><div align=\"center\" style=\"display:block;padding-left:5px;padding-right:5px;padding-top:5px;padding-bottom:5px;\"><div style=\"display:table;table-layout:auto;\" align=\"center\"><div style=\"display:table-row;\"><div style=\"display:table-cell;padding-right:2px; padding-left:2px;\" align=\"center\"><div style=\"display:inline-block;\"><span>$[\\![\\text{\\textbf{alfonso}}]\\!]^{}_{e}$</span></div></div></div><div style=\"display:table-row;\"><div style=\"display:table-cell;padding-right:2px; padding-left:2px;\" align=\"center\"><div style=\"display:inline-block;\"><span>${A}_{e}$</span></div></div></div></div></div></div><div style=\"display: table-cell; padding-left:4em;\"></div><div style=\"vertical-align:bottom;display:table-cell;padding-left:5px;padding-right:5px;padding-top:5px;padding-bottom:5px;\"><div align=\"center\" style=\"display:block;padding-left:5px;padding-right:5px;padding-top:5px;padding-bottom:5px;\"><div style=\"display:table;table-layout:auto;\" align=\"center\"><div style=\"display:table-row;\"><div style=\"display:table-cell;padding-right:2px; padding-left:2px;\" align=\"center\"><div style=\"display:inline-block;\"><span>$[\\![\\text{\\textbf{danced}}]\\!]^{}_{\\left\\langle{}e,\\left\\langle{}s,t\\right\\rangle{}\\right\\rangle{}}$</span></div></div></div><div style=\"display:table-row;\"><div style=\"display:table-cell;padding-right:2px; padding-left:2px;\" align=\"center\"><div style=\"display:inline-block;\"><span>$\\lambda{} x_{e} \\: . \\: \\lambda{} w_{s} \\: . \\: {Dance}({x}, {w})$</span></div></div></div></div></div></div></div></div><div style=\"display:table-cell;\"></div></div><div style=\"display:table-row;\"><div style=\"display: table-cell;\"></div><div style=\"display:table-cell;vertical-align:middle;\"><div style=\"vertical-align:middle;height:0px;overflow:visible\"><div style=\"color:blue;transform: translateY(-1em); padding-left:0.5em;\"><b>[<span>FA</span>]</b></div></div></div></div><div align=\"center\" style=\"display:table-row;padding-left:5px;padding-right:5px;padding-top:5px;padding-bottom:5px;\"><div align=\"center\" style=\"display:block;padding-left:5px;padding-right:5px;padding-top:5px;padding-bottom:5px;\"><div style=\"display:table;table-layout:auto;\" align=\"center\"><div style=\"display:table-row;\"><div style=\"display:table-cell;padding-right:2px; padding-left:2px;\" align=\"center\"><div style=\"display:inline-block;\"><span>$[\\![\\text{\\textbf{[alfonso danced]}}]\\!]^{}_{\\left\\langle{}s,t\\right\\rangle{}}$</span></div></div></div><div style=\"display:table-row;\"><div style=\"display:table-cell;padding-right:2px; padding-left:2px;\" align=\"center\"><div style=\"display:inline-block;\"><span>$\\lambda{} w_{s} \\: . \\: {Dance}({A}_{e}, {w})$</span></div></div></div></div></div><div style=\"display: table-cell;\"></div></div></div></div></div></div><div style=\"display:table-cell;\"></div></div><div style=\"display:table-row;\"><div style=\"display: table-cell;\"></div><div style=\"display:table-cell;vertical-align:middle;\"><div style=\"vertical-align:middle;height:0px;overflow:visible\"><div style=\"color:blue;transform: translateY(-1em); padding-left:0.5em;\"><b>[<span>Unit</span>]</b></div></div></div></div><div align=\"center\" style=\"display:table-row;padding-left:5px;padding-right:5px;padding-top:5px;padding-bottom:5px;\"><div align=\"center\" style=\"display:block;padding-left:5px;padding-right:5px;padding-top:5px;padding-bottom:5px;\"><div style=\"display:table;table-layout:auto;\" align=\"center\"><div style=\"display:table-row;\"><div style=\"display:table-cell;padding-right:2px; padding-left:2px;\" align=\"center\"><div style=\"display:inline-block;\"><span>$[\\![\\text{\\textbf{[[alfonso danced]]}}]\\!]^{}_{\\left\\{\\left\\langle{}s,t\\right\\rangle{}\\right\\}}$</span></div></div></div><div style=\"display:table-row;\"><div style=\"display:table-cell;padding-right:2px; padding-left:2px;\" align=\"center\"><div style=\"display:inline-block;\"><span>$\\{(\\lambda{} w_{s} \\: . \\: {Dance}({A}_{e}, {w}))\\}$</span></div></div></div></div></div><div style=\"display: table-cell;\"></div></div></div></div></div></div><div style=\"display:table-cell;\"></div></div><div style=\"display:table-row;\"><div style=\"display: table-cell;\"></div><div style=\"display:table-cell;vertical-align:middle;\"><div style=\"vertical-align:middle;height:0px;overflow:visible\"><div style=\"color:blue;transform: translateY(-1em); padding-left:0.5em;\"><b>[<span>LiftedFA</span>]</b></div></div></div></div><div align=\"center\" style=\"display:table-row;padding-left:5px;padding-right:5px;padding-top:5px;padding-bottom:5px;\"><div align=\"center\" style=\"display:block;padding-left:5px;padding-right:5px;padding-top:5px;padding-bottom:5px;\"><div style=\"display:table;table-layout:auto;\" align=\"center\"><div style=\"display:table-row;\"><div style=\"display:table-cell;padding-right:2px; padding-left:2px;\" align=\"center\"><div style=\"display:inline-block;\"><span>$[\\![\\text{\\textbf{[POL [[alfonso danced]]]}}]\\!]^{}_{\\left\\{\\left\\langle{}s,t\\right\\rangle{}\\right\\}}$</span></div></div></div><div style=\"display:table-row;\"><div style=\"display:table-cell;padding-right:2px; padding-left:2px;\" align=\"center\"><div style=\"display:inline-block;\"><span>$\\{{y}_{\\left\\langle{}s,t\\right\\rangle{}} \\:|\\: ({y}_{\\left\\langle{}s,t\\right\\rangle{}} = (\\lambda{} w_{s} \\: . \\: \\neg{} {Dance}({A}_{e}, {w}))) \\vee{} ({y}_{\\left\\langle{}s,t\\right\\rangle{}} = (\\lambda{} w_{s} \\: . \\: {Dance}({A}_{e}, {w})))\\}$</span></div></div></div></div></div><div style=\"display: table-cell;\"></div></div></div><br /><br />"
      ],
      "text/plain": [
       "1 composition path:<br /><div align=\"center\" style=\"display:table;\"><div align=\"center\" style=\"display:table-row;\"><div style=\"display:table-cell;table-layout:auto;vertical-align:bottom;border-bottom:1px solid #848482;\"><div style=\"display: table;\"><div style=\"vertical-align:bottom;display:table-cell;padding-left:5px;padding-right:5px;padding-top:5px;padding-bottom:5px;\"><div align=\"center\" style=\"display:block;padding-left:5px;padding-right:5px;padding-top:5px;padding-bottom:5px;\"><div style=\"display:table;table-layout:auto;\" align=\"center\"><div style=\"display:table-row;\"><div style=\"display:table-cell;padding-right:2px; padding-left:2px;\" align=\"center\"><div style=\"display:inline-block;\"><span>$[\\![\\text{\\textbf{POL}}]\\!]^{}_{\\left\\{\\left\\langle{}\\left\\langle{}s,t\\right\\rangle{},\\left\\langle{}s,t\\right\\rangle{}\\right\\rangle{}\\right\\}}$</span></div></div></div><div style=\"display:table-row;\"><div style=\"display:table-cell;padding-right:2px; padding-left:2px;\" align=\"center\"><div style=\"display:inline-block;\"><span>$\\{(\\lambda{} p_{\\left\\langle{}s,t\\right\\rangle{}} \\: . \\: \\lambda{} w_{s} \\: . \\: \\neg{} {p}({w})), (\\lambda{} p_{\\left\\langle{}s,t\\right\\rangle{}} \\: . \\: {p})\\}$</span></div></div></div></div></div></div><div style=\"display: table-cell; padding-left:4em;\"></div><div style=\"vertical-align:bottom;display:table-cell;padding-left:5px;padding-right:5px;padding-top:5px;padding-bottom:5px;\"><div align=\"center\" style=\"display:table;\"><div align=\"center\" style=\"display:table-row;\"><div style=\"display:table-cell;table-layout:auto;vertical-align:bottom;border-bottom:1px solid #848482;\"><div style=\"display: table;\"><div style=\"vertical-align:bottom;display:table-cell;padding-left:5px;padding-right:5px;padding-top:5px;padding-bottom:5px;\"><div align=\"center\" style=\"display:table;\"><div align=\"center\" style=\"display:table-row;\"><div style=\"display:table-cell;table-layout:auto;vertical-align:bottom;border-bottom:1px solid #848482;\"><div style=\"display: table;\"><div style=\"vertical-align:bottom;display:table-cell;padding-left:5px;padding-right:5px;padding-top:5px;padding-bottom:5px;\"><div align=\"center\" style=\"display:block;padding-left:5px;padding-right:5px;padding-top:5px;padding-bottom:5px;\"><div style=\"display:table;table-layout:auto;\" align=\"center\"><div style=\"display:table-row;\"><div style=\"display:table-cell;padding-right:2px; padding-left:2px;\" align=\"center\"><div style=\"display:inline-block;\"><span>$[\\![\\text{\\textbf{alfonso}}]\\!]^{}_{e}$</span></div></div></div><div style=\"display:table-row;\"><div style=\"display:table-cell;padding-right:2px; padding-left:2px;\" align=\"center\"><div style=\"display:inline-block;\"><span>${A}_{e}$</span></div></div></div></div></div></div><div style=\"display: table-cell; padding-left:4em;\"></div><div style=\"vertical-align:bottom;display:table-cell;padding-left:5px;padding-right:5px;padding-top:5px;padding-bottom:5px;\"><div align=\"center\" style=\"display:block;padding-left:5px;padding-right:5px;padding-top:5px;padding-bottom:5px;\"><div style=\"display:table;table-layout:auto;\" align=\"center\"><div style=\"display:table-row;\"><div style=\"display:table-cell;padding-right:2px; padding-left:2px;\" align=\"center\"><div style=\"display:inline-block;\"><span>$[\\![\\text{\\textbf{danced}}]\\!]^{}_{\\left\\langle{}e,\\left\\langle{}s,t\\right\\rangle{}\\right\\rangle{}}$</span></div></div></div><div style=\"display:table-row;\"><div style=\"display:table-cell;padding-right:2px; padding-left:2px;\" align=\"center\"><div style=\"display:inline-block;\"><span>$\\lambda{} x_{e} \\: . \\: \\lambda{} w_{s} \\: . \\: {Dance}({x}, {w})$</span></div></div></div></div></div></div></div></div><div style=\"display:table-cell;\"></div></div><div style=\"display:table-row;\"><div style=\"display: table-cell;\"></div><div style=\"display:table-cell;vertical-align:middle;\"><div style=\"vertical-align:middle;height:0px;overflow:visible\"><div style=\"color:blue;transform: translateY(-1em); padding-left:0.5em;\"><b>[<span>FA</span>]</b></div></div></div></div><div align=\"center\" style=\"display:table-row;padding-left:5px;padding-right:5px;padding-top:5px;padding-bottom:5px;\"><div align=\"center\" style=\"display:block;padding-left:5px;padding-right:5px;padding-top:5px;padding-bottom:5px;\"><div style=\"display:table;table-layout:auto;\" align=\"center\"><div style=\"display:table-row;\"><div style=\"display:table-cell;padding-right:2px; padding-left:2px;\" align=\"center\"><div style=\"display:inline-block;\"><span>$[\\![\\text{\\textbf{[alfonso danced]}}]\\!]^{}_{\\left\\langle{}s,t\\right\\rangle{}}$</span></div></div></div><div style=\"display:table-row;\"><div style=\"display:table-cell;padding-right:2px; padding-left:2px;\" align=\"center\"><div style=\"display:inline-block;\"><span>$\\lambda{} w_{s} \\: . \\: {Dance}({A}_{e}, {w})$</span></div></div></div></div></div><div style=\"display: table-cell;\"></div></div></div></div></div></div><div style=\"display:table-cell;\"></div></div><div style=\"display:table-row;\"><div style=\"display: table-cell;\"></div><div style=\"display:table-cell;vertical-align:middle;\"><div style=\"vertical-align:middle;height:0px;overflow:visible\"><div style=\"color:blue;transform: translateY(-1em); padding-left:0.5em;\"><b>[<span>Unit</span>]</b></div></div></div></div><div align=\"center\" style=\"display:table-row;padding-left:5px;padding-right:5px;padding-top:5px;padding-bottom:5px;\"><div align=\"center\" style=\"display:block;padding-left:5px;padding-right:5px;padding-top:5px;padding-bottom:5px;\"><div style=\"display:table;table-layout:auto;\" align=\"center\"><div style=\"display:table-row;\"><div style=\"display:table-cell;padding-right:2px; padding-left:2px;\" align=\"center\"><div style=\"display:inline-block;\"><span>$[\\![\\text{\\textbf{[[alfonso danced]]}}]\\!]^{}_{\\left\\{\\left\\langle{}s,t\\right\\rangle{}\\right\\}}$</span></div></div></div><div style=\"display:table-row;\"><div style=\"display:table-cell;padding-right:2px; padding-left:2px;\" align=\"center\"><div style=\"display:inline-block;\"><span>$\\{(\\lambda{} w_{s} \\: . \\: {Dance}({A}_{e}, {w}))\\}$</span></div></div></div></div></div><div style=\"display: table-cell;\"></div></div></div></div></div></div><div style=\"display:table-cell;\"></div></div><div style=\"display:table-row;\"><div style=\"display: table-cell;\"></div><div style=\"display:table-cell;vertical-align:middle;\"><div style=\"vertical-align:middle;height:0px;overflow:visible\"><div style=\"color:blue;transform: translateY(-1em); padding-left:0.5em;\"><b>[<span>LiftedFA</span>]</b></div></div></div></div><div align=\"center\" style=\"display:table-row;padding-left:5px;padding-right:5px;padding-top:5px;padding-bottom:5px;\"><div align=\"center\" style=\"display:block;padding-left:5px;padding-right:5px;padding-top:5px;padding-bottom:5px;\"><div style=\"display:table;table-layout:auto;\" align=\"center\"><div style=\"display:table-row;\"><div style=\"display:table-cell;padding-right:2px; padding-left:2px;\" align=\"center\"><div style=\"display:inline-block;\"><span>$[\\![\\text{\\textbf{[POL [[alfonso danced]]]}}]\\!]^{}_{\\left\\{\\left\\langle{}s,t\\right\\rangle{}\\right\\}}$</span></div></div></div><div style=\"display:table-row;\"><div style=\"display:table-cell;padding-right:2px; padding-left:2px;\" align=\"center\"><div style=\"display:inline-block;\"><span>$\\{{y}_{\\left\\langle{}s,t\\right\\rangle{}} \\:|\\: ({y}_{\\left\\langle{}s,t\\right\\rangle{}} = (\\lambda{} w_{s} \\: . \\: \\neg{} {Dance}({A}_{e}, {w}))) \\vee{} ({y}_{\\left\\langle{}s,t\\right\\rangle{}} = (\\lambda{} w_{s} \\: . \\: {Dance}({A}_{e}, {w})))\\}$</span></div></div></div></div></div><div style=\"display: table-cell;\"></div></div></div><br /><br />"
      ]
     },
     "execution_count": 101,
     "metadata": {},
     "output_type": "execute_result"
    }
   ],
   "source": [
    "(POL * (alfonso * danced)).tree()"
   ]
  },
  {
   "cell_type": "markdown",
   "id": "4208f9f8-afa3-42ec-9f01-7dd95eb2c33a",
   "metadata": {},
   "source": [
    "Constituent questions involve sets at type `{e}`, but still generating a set of alternatives:"
   ]
  },
  {
   "cell_type": "code",
   "execution_count": 102,
   "id": "acb9335f-bdd3-45e8-8896-4334dc68a79e",
   "metadata": {},
   "outputs": [
    {
     "data": {
      "text/markdown": [
       "1 composition path.  Result:<br />\n",
       "&nbsp;&nbsp;&nbsp;&nbsp;[0]: $[\\![\\text{\\textbf{[who [danced]]}}]\\!]^{}_{\\left\\{\\left\\langle{}s,t\\right\\rangle{}\\right\\}} \\:=\\: \\{{y}_{\\left\\langle{}s,t\\right\\rangle{}} \\:|\\: \\exists{} x2_{e} \\in {\\small \\{{x}_{e} \\:|\\: {Human}({x}_{e})\\}} \\: . \\: {y}_{\\left\\langle{}s,t\\right\\rangle{}} = (\\lambda{} w_{s} \\: . \\: {Dance}({x2}, {w}))\\}$"
      ],
      "text/plain": [
       "1 composition path.  Result:\n",
       "    [0]: ⟦who⟧ * ⟦[danced]⟧ leads to: ⟦[who [danced]]⟧ = (Set y_<s,t>: (Exists x2_e << (Set x_e: Human_<e,t>(x_e)): (y_<s,t> <=> (λ w_s: Dance_<(e,s),t>(x2_e, w_s))))) [by LiftedFA]"
      ]
     },
     "metadata": {},
     "output_type": "display_data"
    }
   ],
   "source": [
    "who * danced"
   ]
  },
  {
   "cell_type": "markdown",
   "id": "a1c9c9e7-1b19-48d4-9304-104393a4d1c0",
   "metadata": {},
   "source": [
    "Let's suppose by way of example that there are three humans, `c1` through `c3`."
   ]
  },
  {
   "cell_type": "code",
   "execution_count": 103,
   "id": "a34f051d-0fdb-42bb-990e-aa19d4ad245c",
   "metadata": {},
   "outputs": [
    {
     "data": {
      "text/markdown": [
       "$[\\![\\text{\\textbf{who2}}]\\!]^{}_{\\left\\{e\\right\\}} \\:=\\: \\{{\\textsf{c1}}_{e}, {\\textsf{c2}}_{e}, {\\textsf{c3}}_{e}\\}$"
      ],
      "text/plain": [
       "⟦who2⟧ = {_c3_e, _c2_e, _c1_e}"
      ]
     },
     "metadata": {},
     "output_type": "display_data"
    }
   ],
   "source": [
    "%lamb ||who2|| = {_c1, _c2, _c3}"
   ]
  },
  {
   "cell_type": "markdown",
   "id": "4369e41e-04a2-4e1f-9202-3c0867e387e5",
   "metadata": {},
   "source": [
    "Now we can more explicitly see the disjunctive nature of this set:"
   ]
  },
  {
   "cell_type": "code",
   "execution_count": 104,
   "id": "43969fc7-577b-4e82-b4af-a64fe5c23fc7",
   "metadata": {},
   "outputs": [
    {
     "data": {
      "text/markdown": [
       "1 composition path.  Result:<br />\n",
       "&nbsp;&nbsp;&nbsp;&nbsp;[0]: $[\\![\\text{\\textbf{[who2 [danced]]}}]\\!]^{}_{\\left\\{\\left\\langle{}s,t\\right\\rangle{}\\right\\}} \\:=\\: \\{{y}_{\\left\\langle{}s,t\\right\\rangle{}} \\:|\\: ({y}_{\\left\\langle{}s,t\\right\\rangle{}} = (\\lambda{} w_{s} \\: . \\: {Dance}({\\textsf{c1}}_{e}, {w}))) \\vee{} ({y}_{\\left\\langle{}s,t\\right\\rangle{}} = (\\lambda{} w_{s} \\: . \\: {Dance}({\\textsf{c2}}_{e}, {w}))) \\vee{} ({y}_{\\left\\langle{}s,t\\right\\rangle{}} = (\\lambda{} w_{s} \\: . \\: {Dance}({\\textsf{c3}}_{e}, {w})))\\}$"
      ],
      "text/plain": [
       "1 composition path.  Result:\n",
       "    [0]: ⟦who2⟧ * ⟦[danced]⟧ leads to: ⟦[who2 [danced]]⟧ = (Set y_<s,t>: (((y_<s,t> <=> (λ w_s: Dance_<(e,s),t>(_c1_e, w_s))) | (y_<s,t> <=> (λ w_s: Dance_<(e,s),t>(_c2_e, w_s)))) | (y_<s,t> <=> (λ w_s: Dance_<(e,s),t>(_c3_e, w_s))))) [by LiftedFA]"
      ]
     },
     "metadata": {},
     "output_type": "display_data"
    }
   ],
   "source": [
    "who2 * danced"
   ]
  },
  {
   "cell_type": "markdown",
   "id": "22575ae3-290c-466a-b7de-36dfcd9c5356",
   "metadata": {},
   "source": [
    "In situ wh-items come for free (though the alternative sets we generate are hitting the limits of the lambda notebook's automatic simplification code):"
   ]
  },
  {
   "cell_type": "code",
   "execution_count": 105,
   "id": "b2d297c5-8ff2-47f6-951e-9de5e709517e",
   "metadata": {},
   "outputs": [
    {
     "data": {
      "text/markdown": [
       "1 composition path.  Result:<br />\n",
       "&nbsp;&nbsp;&nbsp;&nbsp;[0]: $[\\![\\text{\\textbf{[[saw] who]}}]\\!]^{}_{\\left\\{\\left\\langle{}e,\\left\\langle{}s,t\\right\\rangle{}\\right\\rangle{}\\right\\}} \\:=\\: \\{{y}_{\\left\\langle{}e,\\left\\langle{}s,t\\right\\rangle{}\\right\\rangle{}} \\:|\\: \\exists{} x2_{e} \\in {\\small \\{{x}_{e} \\:|\\: {Human}({x}_{e})\\}} \\: . \\: {y}_{\\left\\langle{}e,\\left\\langle{}s,t\\right\\rangle{}\\right\\rangle{}} = (\\lambda{} x_{e} \\: . \\: \\lambda{} w_{s} \\: . \\: {Saw}({x}, {x2}, {w}))\\}$"
      ],
      "text/plain": [
       "1 composition path.  Result:\n",
       "    [0]: ⟦[saw]⟧ * ⟦who⟧ leads to: ⟦[[saw] who]⟧ = (Set y_<e,<s,t>>: (Exists x2_e << (Set x_e: Human_<e,t>(x_e)): (y_<e,<s,t>> <=> (λ x_e: (λ w_s: Saw_<(e,e,s),t>(x_e, x2_e, w_s)))))) [by LiftedFA]"
      ]
     },
     "metadata": {},
     "output_type": "display_data"
    }
   ],
   "source": [
    "saw * who"
   ]
  },
  {
   "cell_type": "code",
   "execution_count": 106,
   "id": "2e886b2c-1c50-42db-b302-0e54f10d791c",
   "metadata": {},
   "outputs": [
    {
     "data": {
      "text/html": [
       "1 composition path:<br /><div align=\"center\" style=\"display:table;\"><div align=\"center\" style=\"display:table-row;\"><div style=\"display:table-cell;table-layout:auto;vertical-align:bottom;border-bottom:1px solid #848482;\"><div style=\"display: table;\"><div style=\"vertical-align:bottom;display:table-cell;padding-left:5px;padding-right:5px;padding-top:5px;padding-bottom:5px;\"><div align=\"center\" style=\"display:table;\"><div align=\"center\" style=\"display:table-row;\"><div style=\"display:table-cell;table-layout:auto;vertical-align:bottom;border-bottom:1px solid #848482;\"><div style=\"display: table;\"><div style=\"vertical-align:bottom;display:table-cell;padding-left:5px;padding-right:5px;padding-top:5px;padding-bottom:5px;\"><div align=\"center\" style=\"display:block;padding-left:5px;padding-right:5px;padding-top:5px;padding-bottom:5px;\"><div style=\"display:table;table-layout:auto;\" align=\"center\"><div style=\"display:table-row;\"><div style=\"display:table-cell;padding-right:2px; padding-left:2px;\" align=\"center\"><div style=\"display:inline-block;\"><span>$[\\![\\text{\\textbf{alfonso}}]\\!]^{}_{e}$</span></div></div></div><div style=\"display:table-row;\"><div style=\"display:table-cell;padding-right:2px; padding-left:2px;\" align=\"center\"><div style=\"display:inline-block;\"><span>${A}_{e}$</span></div></div></div></div></div></div></div></div><div style=\"display:table-cell;\"></div></div><div style=\"display:table-row;\"><div style=\"display: table-cell;\"></div><div style=\"display:table-cell;vertical-align:middle;\"><div style=\"vertical-align:middle;height:0px;overflow:visible\"><div style=\"color:blue;transform: translateY(-1em); padding-left:0.5em;\"><b>[<span>Unit</span>]</b></div></div></div></div><div align=\"center\" style=\"display:table-row;padding-left:5px;padding-right:5px;padding-top:5px;padding-bottom:5px;\"><div align=\"center\" style=\"display:block;padding-left:5px;padding-right:5px;padding-top:5px;padding-bottom:5px;\"><div style=\"display:table;table-layout:auto;\" align=\"center\"><div style=\"display:table-row;\"><div style=\"display:table-cell;padding-right:2px; padding-left:2px;\" align=\"center\"><div style=\"display:inline-block;\"><span>$[\\![\\text{\\textbf{[alfonso]}}]\\!]^{}_{\\left\\{e\\right\\}}$</span></div></div></div><div style=\"display:table-row;\"><div style=\"display:table-cell;padding-right:2px; padding-left:2px;\" align=\"center\"><div style=\"display:inline-block;\"><span>$\\{{A}_{e}\\}$</span></div></div></div></div></div><div style=\"display: table-cell;\"></div></div></div></div><div style=\"display: table-cell; padding-left:4em;\"></div><div style=\"vertical-align:bottom;display:table-cell;padding-left:5px;padding-right:5px;padding-top:5px;padding-bottom:5px;\"><div align=\"center\" style=\"display:table;\"><div align=\"center\" style=\"display:table-row;\"><div style=\"display:table-cell;table-layout:auto;vertical-align:bottom;border-bottom:1px solid #848482;\"><div style=\"display: table;\"><div style=\"vertical-align:bottom;display:table-cell;padding-left:5px;padding-right:5px;padding-top:5px;padding-bottom:5px;\"><div align=\"center\" style=\"display:table;\"><div align=\"center\" style=\"display:table-row;\"><div style=\"display:table-cell;table-layout:auto;vertical-align:bottom;border-bottom:1px solid #848482;\"><div style=\"display: table;\"><div style=\"vertical-align:bottom;display:table-cell;padding-left:5px;padding-right:5px;padding-top:5px;padding-bottom:5px;\"><div align=\"center\" style=\"display:block;padding-left:5px;padding-right:5px;padding-top:5px;padding-bottom:5px;\"><div style=\"display:table;table-layout:auto;\" align=\"center\"><div style=\"display:table-row;\"><div style=\"display:table-cell;padding-right:2px; padding-left:2px;\" align=\"center\"><div style=\"display:inline-block;\"><span>$[\\![\\text{\\textbf{saw}}]\\!]^{}_{\\left\\langle{}e,\\left\\langle{}e,\\left\\langle{}s,t\\right\\rangle{}\\right\\rangle{}\\right\\rangle{}}$</span></div></div></div><div style=\"display:table-row;\"><div style=\"display:table-cell;padding-right:2px; padding-left:2px;\" align=\"center\"><div style=\"display:inline-block;\"><span>$\\lambda{} y_{e} \\: . \\: \\lambda{} x_{e} \\: . \\: \\lambda{} w_{s} \\: . \\: {Saw}({x}, {y}, {w})$</span></div></div></div></div></div></div></div></div><div style=\"display:table-cell;\"></div></div><div style=\"display:table-row;\"><div style=\"display: table-cell;\"></div><div style=\"display:table-cell;vertical-align:middle;\"><div style=\"vertical-align:middle;height:0px;overflow:visible\"><div style=\"color:blue;transform: translateY(-1em); padding-left:0.5em;\"><b>[<span>Unit</span>]</b></div></div></div></div><div align=\"center\" style=\"display:table-row;padding-left:5px;padding-right:5px;padding-top:5px;padding-bottom:5px;\"><div align=\"center\" style=\"display:block;padding-left:5px;padding-right:5px;padding-top:5px;padding-bottom:5px;\"><div style=\"display:table;table-layout:auto;\" align=\"center\"><div style=\"display:table-row;\"><div style=\"display:table-cell;padding-right:2px; padding-left:2px;\" align=\"center\"><div style=\"display:inline-block;\"><span>$[\\![\\text{\\textbf{[saw]}}]\\!]^{}_{\\left\\{\\left\\langle{}e,\\left\\langle{}e,\\left\\langle{}s,t\\right\\rangle{}\\right\\rangle{}\\right\\rangle{}\\right\\}}$</span></div></div></div><div style=\"display:table-row;\"><div style=\"display:table-cell;padding-right:2px; padding-left:2px;\" align=\"center\"><div style=\"display:inline-block;\"><span>$\\{(\\lambda{} y_{e} \\: . \\: \\lambda{} x_{e} \\: . \\: \\lambda{} w_{s} \\: . \\: {Saw}({x}, {y}, {w}))\\}$</span></div></div></div></div></div><div style=\"display: table-cell;\"></div></div></div></div><div style=\"display: table-cell; padding-left:4em;\"></div><div style=\"vertical-align:bottom;display:table-cell;padding-left:5px;padding-right:5px;padding-top:5px;padding-bottom:5px;\"><div align=\"center\" style=\"display:block;padding-left:5px;padding-right:5px;padding-top:5px;padding-bottom:5px;\"><div style=\"display:table;table-layout:auto;\" align=\"center\"><div style=\"display:table-row;\"><div style=\"display:table-cell;padding-right:2px; padding-left:2px;\" align=\"center\"><div style=\"display:inline-block;\"><span>$[\\![\\text{\\textbf{who}}]\\!]^{}_{\\left\\{e\\right\\}}$</span></div></div></div><div style=\"display:table-row;\"><div style=\"display:table-cell;padding-right:2px; padding-left:2px;\" align=\"center\"><div style=\"display:inline-block;\"><span>$\\{{x}_{e} \\:|\\: {Human}({x}_{e})\\}$</span></div></div></div></div></div></div></div></div><div style=\"display:table-cell;\"></div></div><div style=\"display:table-row;\"><div style=\"display: table-cell;\"></div><div style=\"display:table-cell;vertical-align:middle;\"><div style=\"vertical-align:middle;height:0px;overflow:visible\"><div style=\"color:blue;transform: translateY(-1em); padding-left:0.5em;\"><b>[<span>LiftedFA</span>]</b></div></div></div></div><div align=\"center\" style=\"display:table-row;padding-left:5px;padding-right:5px;padding-top:5px;padding-bottom:5px;\"><div align=\"center\" style=\"display:block;padding-left:5px;padding-right:5px;padding-top:5px;padding-bottom:5px;\"><div style=\"display:table;table-layout:auto;\" align=\"center\"><div style=\"display:table-row;\"><div style=\"display:table-cell;padding-right:2px; padding-left:2px;\" align=\"center\"><div style=\"display:inline-block;\"><span>$[\\![\\text{\\textbf{[[saw] who]}}]\\!]^{}_{\\left\\{\\left\\langle{}e,\\left\\langle{}s,t\\right\\rangle{}\\right\\rangle{}\\right\\}}$</span></div></div></div><div style=\"display:table-row;\"><div style=\"display:table-cell;padding-right:2px; padding-left:2px;\" align=\"center\"><div style=\"display:inline-block;\"><span>$\\{{y}_{\\left\\langle{}e,\\left\\langle{}s,t\\right\\rangle{}\\right\\rangle{}} \\:|\\: \\exists{} x2_{e} \\in {\\small \\{{x}_{e} \\:|\\: {Human}({x}_{e})\\}} \\: . \\: {y}_{\\left\\langle{}e,\\left\\langle{}s,t\\right\\rangle{}\\right\\rangle{}} = (\\lambda{} x_{e} \\: . \\: \\lambda{} w_{s} \\: . \\: {Saw}({x}, {x2}, {w}))\\}$</span></div></div></div></div></div><div style=\"display: table-cell;\"></div></div></div></div></div></div><div style=\"display:table-cell;\"></div></div><div style=\"display:table-row;\"><div style=\"display: table-cell;\"></div><div style=\"display:table-cell;vertical-align:middle;\"><div style=\"vertical-align:middle;height:0px;overflow:visible\"><div style=\"color:blue;transform: translateY(-1em); padding-left:0.5em;\"><b>[<span>LiftedFA</span>]</b></div></div></div></div><div align=\"center\" style=\"display:table-row;padding-left:5px;padding-right:5px;padding-top:5px;padding-bottom:5px;\"><div align=\"center\" style=\"display:block;padding-left:5px;padding-right:5px;padding-top:5px;padding-bottom:5px;\"><div style=\"display:table;table-layout:auto;\" align=\"center\"><div style=\"display:table-row;\"><div style=\"display:table-cell;padding-right:2px; padding-left:2px;\" align=\"center\"><div style=\"display:inline-block;\"><span>$[\\![\\text{\\textbf{[[alfonso] [[saw] who]]}}]\\!]^{}_{\\left\\{\\left\\langle{}s,t\\right\\rangle{}\\right\\}}$</span></div></div></div><div style=\"display:table-row;\"><div style=\"display:table-cell;padding-right:2px; padding-left:2px;\" align=\"center\"><div style=\"display:inline-block;\"><span>$\\{{y}_{\\left\\langle{}s,t\\right\\rangle{}} \\:|\\: \\exists{} x1_{\\left\\langle{}e,\\left\\langle{}s,t\\right\\rangle{}\\right\\rangle{}} \\in {\\small \\{{y}_{\\left\\langle{}e,\\left\\langle{}s,t\\right\\rangle{}\\right\\rangle{}} \\:|\\: \\exists{} x2_{e} \\in {\\small \\{{x}_{e} \\:|\\: {Human}({x}_{e})\\}} \\: . \\: {y}_{\\left\\langle{}e,\\left\\langle{}s,t\\right\\rangle{}\\right\\rangle{}} = (\\lambda{} x_{e} \\: . \\: \\lambda{} w_{s} \\: . \\: {Saw}({x}, {x2}, {w}))\\}} \\: . \\: {y}_{\\left\\langle{}s,t\\right\\rangle{}} = {x1}({A}_{e})\\}$</span></div></div></div></div></div><div style=\"display: table-cell;\"></div></div></div><br /><br />"
      ],
      "text/plain": [
       "1 composition path:<br /><div align=\"center\" style=\"display:table;\"><div align=\"center\" style=\"display:table-row;\"><div style=\"display:table-cell;table-layout:auto;vertical-align:bottom;border-bottom:1px solid #848482;\"><div style=\"display: table;\"><div style=\"vertical-align:bottom;display:table-cell;padding-left:5px;padding-right:5px;padding-top:5px;padding-bottom:5px;\"><div align=\"center\" style=\"display:table;\"><div align=\"center\" style=\"display:table-row;\"><div style=\"display:table-cell;table-layout:auto;vertical-align:bottom;border-bottom:1px solid #848482;\"><div style=\"display: table;\"><div style=\"vertical-align:bottom;display:table-cell;padding-left:5px;padding-right:5px;padding-top:5px;padding-bottom:5px;\"><div align=\"center\" style=\"display:block;padding-left:5px;padding-right:5px;padding-top:5px;padding-bottom:5px;\"><div style=\"display:table;table-layout:auto;\" align=\"center\"><div style=\"display:table-row;\"><div style=\"display:table-cell;padding-right:2px; padding-left:2px;\" align=\"center\"><div style=\"display:inline-block;\"><span>$[\\![\\text{\\textbf{alfonso}}]\\!]^{}_{e}$</span></div></div></div><div style=\"display:table-row;\"><div style=\"display:table-cell;padding-right:2px; padding-left:2px;\" align=\"center\"><div style=\"display:inline-block;\"><span>${A}_{e}$</span></div></div></div></div></div></div></div></div><div style=\"display:table-cell;\"></div></div><div style=\"display:table-row;\"><div style=\"display: table-cell;\"></div><div style=\"display:table-cell;vertical-align:middle;\"><div style=\"vertical-align:middle;height:0px;overflow:visible\"><div style=\"color:blue;transform: translateY(-1em); padding-left:0.5em;\"><b>[<span>Unit</span>]</b></div></div></div></div><div align=\"center\" style=\"display:table-row;padding-left:5px;padding-right:5px;padding-top:5px;padding-bottom:5px;\"><div align=\"center\" style=\"display:block;padding-left:5px;padding-right:5px;padding-top:5px;padding-bottom:5px;\"><div style=\"display:table;table-layout:auto;\" align=\"center\"><div style=\"display:table-row;\"><div style=\"display:table-cell;padding-right:2px; padding-left:2px;\" align=\"center\"><div style=\"display:inline-block;\"><span>$[\\![\\text{\\textbf{[alfonso]}}]\\!]^{}_{\\left\\{e\\right\\}}$</span></div></div></div><div style=\"display:table-row;\"><div style=\"display:table-cell;padding-right:2px; padding-left:2px;\" align=\"center\"><div style=\"display:inline-block;\"><span>$\\{{A}_{e}\\}$</span></div></div></div></div></div><div style=\"display: table-cell;\"></div></div></div></div><div style=\"display: table-cell; padding-left:4em;\"></div><div style=\"vertical-align:bottom;display:table-cell;padding-left:5px;padding-right:5px;padding-top:5px;padding-bottom:5px;\"><div align=\"center\" style=\"display:table;\"><div align=\"center\" style=\"display:table-row;\"><div style=\"display:table-cell;table-layout:auto;vertical-align:bottom;border-bottom:1px solid #848482;\"><div style=\"display: table;\"><div style=\"vertical-align:bottom;display:table-cell;padding-left:5px;padding-right:5px;padding-top:5px;padding-bottom:5px;\"><div align=\"center\" style=\"display:table;\"><div align=\"center\" style=\"display:table-row;\"><div style=\"display:table-cell;table-layout:auto;vertical-align:bottom;border-bottom:1px solid #848482;\"><div style=\"display: table;\"><div style=\"vertical-align:bottom;display:table-cell;padding-left:5px;padding-right:5px;padding-top:5px;padding-bottom:5px;\"><div align=\"center\" style=\"display:block;padding-left:5px;padding-right:5px;padding-top:5px;padding-bottom:5px;\"><div style=\"display:table;table-layout:auto;\" align=\"center\"><div style=\"display:table-row;\"><div style=\"display:table-cell;padding-right:2px; padding-left:2px;\" align=\"center\"><div style=\"display:inline-block;\"><span>$[\\![\\text{\\textbf{saw}}]\\!]^{}_{\\left\\langle{}e,\\left\\langle{}e,\\left\\langle{}s,t\\right\\rangle{}\\right\\rangle{}\\right\\rangle{}}$</span></div></div></div><div style=\"display:table-row;\"><div style=\"display:table-cell;padding-right:2px; padding-left:2px;\" align=\"center\"><div style=\"display:inline-block;\"><span>$\\lambda{} y_{e} \\: . \\: \\lambda{} x_{e} \\: . \\: \\lambda{} w_{s} \\: . \\: {Saw}({x}, {y}, {w})$</span></div></div></div></div></div></div></div></div><div style=\"display:table-cell;\"></div></div><div style=\"display:table-row;\"><div style=\"display: table-cell;\"></div><div style=\"display:table-cell;vertical-align:middle;\"><div style=\"vertical-align:middle;height:0px;overflow:visible\"><div style=\"color:blue;transform: translateY(-1em); padding-left:0.5em;\"><b>[<span>Unit</span>]</b></div></div></div></div><div align=\"center\" style=\"display:table-row;padding-left:5px;padding-right:5px;padding-top:5px;padding-bottom:5px;\"><div align=\"center\" style=\"display:block;padding-left:5px;padding-right:5px;padding-top:5px;padding-bottom:5px;\"><div style=\"display:table;table-layout:auto;\" align=\"center\"><div style=\"display:table-row;\"><div style=\"display:table-cell;padding-right:2px; padding-left:2px;\" align=\"center\"><div style=\"display:inline-block;\"><span>$[\\![\\text{\\textbf{[saw]}}]\\!]^{}_{\\left\\{\\left\\langle{}e,\\left\\langle{}e,\\left\\langle{}s,t\\right\\rangle{}\\right\\rangle{}\\right\\rangle{}\\right\\}}$</span></div></div></div><div style=\"display:table-row;\"><div style=\"display:table-cell;padding-right:2px; padding-left:2px;\" align=\"center\"><div style=\"display:inline-block;\"><span>$\\{(\\lambda{} y_{e} \\: . \\: \\lambda{} x_{e} \\: . \\: \\lambda{} w_{s} \\: . \\: {Saw}({x}, {y}, {w}))\\}$</span></div></div></div></div></div><div style=\"display: table-cell;\"></div></div></div></div><div style=\"display: table-cell; padding-left:4em;\"></div><div style=\"vertical-align:bottom;display:table-cell;padding-left:5px;padding-right:5px;padding-top:5px;padding-bottom:5px;\"><div align=\"center\" style=\"display:block;padding-left:5px;padding-right:5px;padding-top:5px;padding-bottom:5px;\"><div style=\"display:table;table-layout:auto;\" align=\"center\"><div style=\"display:table-row;\"><div style=\"display:table-cell;padding-right:2px; padding-left:2px;\" align=\"center\"><div style=\"display:inline-block;\"><span>$[\\![\\text{\\textbf{who}}]\\!]^{}_{\\left\\{e\\right\\}}$</span></div></div></div><div style=\"display:table-row;\"><div style=\"display:table-cell;padding-right:2px; padding-left:2px;\" align=\"center\"><div style=\"display:inline-block;\"><span>$\\{{x}_{e} \\:|\\: {Human}({x}_{e})\\}$</span></div></div></div></div></div></div></div></div><div style=\"display:table-cell;\"></div></div><div style=\"display:table-row;\"><div style=\"display: table-cell;\"></div><div style=\"display:table-cell;vertical-align:middle;\"><div style=\"vertical-align:middle;height:0px;overflow:visible\"><div style=\"color:blue;transform: translateY(-1em); padding-left:0.5em;\"><b>[<span>LiftedFA</span>]</b></div></div></div></div><div align=\"center\" style=\"display:table-row;padding-left:5px;padding-right:5px;padding-top:5px;padding-bottom:5px;\"><div align=\"center\" style=\"display:block;padding-left:5px;padding-right:5px;padding-top:5px;padding-bottom:5px;\"><div style=\"display:table;table-layout:auto;\" align=\"center\"><div style=\"display:table-row;\"><div style=\"display:table-cell;padding-right:2px; padding-left:2px;\" align=\"center\"><div style=\"display:inline-block;\"><span>$[\\![\\text{\\textbf{[[saw] who]}}]\\!]^{}_{\\left\\{\\left\\langle{}e,\\left\\langle{}s,t\\right\\rangle{}\\right\\rangle{}\\right\\}}$</span></div></div></div><div style=\"display:table-row;\"><div style=\"display:table-cell;padding-right:2px; padding-left:2px;\" align=\"center\"><div style=\"display:inline-block;\"><span>$\\{{y}_{\\left\\langle{}e,\\left\\langle{}s,t\\right\\rangle{}\\right\\rangle{}} \\:|\\: \\exists{} x2_{e} \\in {\\small \\{{x}_{e} \\:|\\: {Human}({x}_{e})\\}} \\: . \\: {y}_{\\left\\langle{}e,\\left\\langle{}s,t\\right\\rangle{}\\right\\rangle{}} = (\\lambda{} x_{e} \\: . \\: \\lambda{} w_{s} \\: . \\: {Saw}({x}, {x2}, {w}))\\}$</span></div></div></div></div></div><div style=\"display: table-cell;\"></div></div></div></div></div></div><div style=\"display:table-cell;\"></div></div><div style=\"display:table-row;\"><div style=\"display: table-cell;\"></div><div style=\"display:table-cell;vertical-align:middle;\"><div style=\"vertical-align:middle;height:0px;overflow:visible\"><div style=\"color:blue;transform: translateY(-1em); padding-left:0.5em;\"><b>[<span>LiftedFA</span>]</b></div></div></div></div><div align=\"center\" style=\"display:table-row;padding-left:5px;padding-right:5px;padding-top:5px;padding-bottom:5px;\"><div align=\"center\" style=\"display:block;padding-left:5px;padding-right:5px;padding-top:5px;padding-bottom:5px;\"><div style=\"display:table;table-layout:auto;\" align=\"center\"><div style=\"display:table-row;\"><div style=\"display:table-cell;padding-right:2px; padding-left:2px;\" align=\"center\"><div style=\"display:inline-block;\"><span>$[\\![\\text{\\textbf{[[alfonso] [[saw] who]]}}]\\!]^{}_{\\left\\{\\left\\langle{}s,t\\right\\rangle{}\\right\\}}$</span></div></div></div><div style=\"display:table-row;\"><div style=\"display:table-cell;padding-right:2px; padding-left:2px;\" align=\"center\"><div style=\"display:inline-block;\"><span>$\\{{y}_{\\left\\langle{}s,t\\right\\rangle{}} \\:|\\: \\exists{} x1_{\\left\\langle{}e,\\left\\langle{}s,t\\right\\rangle{}\\right\\rangle{}} \\in {\\small \\{{y}_{\\left\\langle{}e,\\left\\langle{}s,t\\right\\rangle{}\\right\\rangle{}} \\:|\\: \\exists{} x2_{e} \\in {\\small \\{{x}_{e} \\:|\\: {Human}({x}_{e})\\}} \\: . \\: {y}_{\\left\\langle{}e,\\left\\langle{}s,t\\right\\rangle{}\\right\\rangle{}} = (\\lambda{} x_{e} \\: . \\: \\lambda{} w_{s} \\: . \\: {Saw}({x}, {x2}, {w}))\\}} \\: . \\: {y}_{\\left\\langle{}s,t\\right\\rangle{}} = {x1}({A}_{e})\\}$</span></div></div></div></div></div><div style=\"display: table-cell;\"></div></div></div><br /><br />"
      ]
     },
     "execution_count": 106,
     "metadata": {},
     "output_type": "execute_result"
    }
   ],
   "source": [
    "(alfonso * (saw * who)).tree()"
   ]
  },
  {
   "cell_type": "code",
   "execution_count": 107,
   "id": "a91c64dc-775d-4df3-b85d-0f92cb110534",
   "metadata": {},
   "outputs": [
    {
     "data": {
      "text/markdown": [
       "1 composition path.  Result:<br />\n",
       "&nbsp;&nbsp;&nbsp;&nbsp;[0]: $[\\![\\text{\\textbf{[[alfonso] [[saw] who2]]}}]\\!]^{}_{\\left\\{\\left\\langle{}s,t\\right\\rangle{}\\right\\}} \\:=\\: \\{{y}_{\\left\\langle{}s,t\\right\\rangle{}} \\:|\\: \\exists{} x1_{\\left\\langle{}e,\\left\\langle{}s,t\\right\\rangle{}\\right\\rangle{}} \\in {\\small \\{{y}_{\\left\\langle{}e,\\left\\langle{}s,t\\right\\rangle{}\\right\\rangle{}} \\:|\\: ({y}_{\\left\\langle{}e,\\left\\langle{}s,t\\right\\rangle{}\\right\\rangle{}} = (\\lambda{} x_{e} \\: . \\: \\lambda{} w_{s} \\: . \\: {Saw}({x}, {\\textsf{c1}}_{e}, {w}))) \\vee{} ({y}_{\\left\\langle{}e,\\left\\langle{}s,t\\right\\rangle{}\\right\\rangle{}} = (\\lambda{} x_{e} \\: . \\: \\lambda{} w_{s} \\: . \\: {Saw}({x}, {\\textsf{c2}}_{e}, {w}))) \\vee{} ({y}_{\\left\\langle{}e,\\left\\langle{}s,t\\right\\rangle{}\\right\\rangle{}} = (\\lambda{} x_{e} \\: . \\: \\lambda{} w_{s} \\: . \\: {Saw}({x}, {\\textsf{c3}}_{e}, {w})))\\}} \\: . \\: {y}_{\\left\\langle{}s,t\\right\\rangle{}} = {x1}({A}_{e})\\}$"
      ],
      "text/plain": [
       "1 composition path.  Result:\n",
       "    [0]: ⟦[alfonso]⟧ * ⟦[[saw] who2]⟧ leads to: ⟦[[alfonso] [[saw] who2]]⟧ = (Set y_<s,t>: (Exists x1_<e,<s,t>> << (Set y_<e,<s,t>>: (((y_<e,<s,t>> <=> (λ x_e: (λ w_s: Saw_<(e,e,s),t>(x_e, _c1_e, w_s)))) | (y_<e,<s,t>> <=> (λ x_e: (λ w_s: Saw_<(e,e,s),t>(x_e, _c2_e, w_s))))) | (y_<e,<s,t>> <=> (λ x_e: (λ w_s: Saw_<(e,e,s),t>(x_e, _c3_e, w_s)))))): (y_<s,t> <=> x1_<e,<s,t>>(A_e)))) [by LiftedFA]"
      ]
     },
     "metadata": {},
     "output_type": "display_data"
    }
   ],
   "source": [
    "alfonso * (saw * who2)"
   ]
  },
  {
   "cell_type": "markdown",
   "id": "d9dc9cc0-1821-4cac-82bc-3993facc9588",
   "metadata": {},
   "source": [
    "With moved wh-items we need a bit more infrastructure, in particular Predicate Abstraction. (This foreshadows next week.)"
   ]
  },
  {
   "cell_type": "code",
   "execution_count": 108,
   "id": "f51f0b6c-87b3-4cec-b323-31ab7003293c",
   "metadata": {},
   "outputs": [
    {
     "data": {
      "text/markdown": [
       "1 composition path.  Result:<br />\n",
       "&nbsp;&nbsp;&nbsp;&nbsp;[0]: $[\\![\\text{\\textbf{[1 [alfonso [saw t1]]]}}]\\!]^{}_{\\left\\langle{}e,\\left\\langle{}s,t\\right\\rangle{}\\right\\rangle{}} \\:=\\: \\lambda{} x_{e} \\: . \\: \\lambda{} w_{s} \\: . \\: {Saw}({A}_{e}, {x}, {w})$"
      ],
      "text/plain": [
       "1 composition path.  Result:\n",
       "    [0]: ⟦1⟧ * ⟦[alfonso [saw t1]]⟧ leads to: ⟦[1 [alfonso [saw t1]]]⟧ = (λ x_e: (λ w_s: Saw_<(e,e,s),t>(A_e, x_e, w_s))) [by PA]"
      ]
     },
     "metadata": {},
     "output_type": "display_data"
    }
   ],
   "source": [
    "lang.Binder(1) * (alfonso * (saw * lang.Trace(1)))"
   ]
  },
  {
   "cell_type": "code",
   "execution_count": 110,
   "id": "14709bad-9d62-4399-bc4a-3a976512227d",
   "metadata": {},
   "outputs": [
    {
     "data": {
      "text/html": [
       "1 composition path:<br /><div align=\"center\" style=\"display:table;\"><div align=\"center\" style=\"display:table-row;\"><div style=\"display:table-cell;table-layout:auto;vertical-align:bottom;border-bottom:1px solid #848482;\"><div style=\"display: table;\"><div style=\"vertical-align:bottom;display:table-cell;padding-left:5px;padding-right:5px;padding-top:5px;padding-bottom:5px;\"><div align=\"center\" style=\"display:block;padding-left:5px;padding-right:5px;padding-top:5px;padding-bottom:5px;\"><div style=\"display:table;table-layout:auto;\" align=\"center\"><div style=\"display:table-row;\"><div style=\"display:table-cell;padding-right:2px; padding-left:2px;\" align=\"center\"><div style=\"display:inline-block;\"><span>$[\\![\\text{\\textbf{who}}]\\!]^{}_{\\left\\{e\\right\\}}$</span></div></div></div><div style=\"display:table-row;\"><div style=\"display:table-cell;padding-right:2px; padding-left:2px;\" align=\"center\"><div style=\"display:inline-block;\"><span>$\\{{x}_{e} \\:|\\: {Human}({x}_{e})\\}$</span></div></div></div></div></div></div><div style=\"display: table-cell; padding-left:4em;\"></div><div style=\"vertical-align:bottom;display:table-cell;padding-left:5px;padding-right:5px;padding-top:5px;padding-bottom:5px;\"><div align=\"center\" style=\"display:table;\"><div align=\"center\" style=\"display:table-row;\"><div style=\"display:table-cell;table-layout:auto;vertical-align:bottom;border-bottom:1px solid #848482;\"><div style=\"display: table;\"><div style=\"vertical-align:bottom;display:table-cell;padding-left:5px;padding-right:5px;padding-top:5px;padding-bottom:5px;\"><div align=\"center\" style=\"display:table;\"><div align=\"center\" style=\"display:table-row;\"><div style=\"display:table-cell;table-layout:auto;vertical-align:bottom;border-bottom:1px solid #848482;\"><div style=\"display: table;\"><div style=\"vertical-align:bottom;display:table-cell;padding-left:5px;padding-right:5px;padding-top:5px;padding-bottom:5px;\"><div align=\"center\" style=\"display:block;padding-left:5px;padding-right:5px;padding-top:5px;padding-bottom:5px;\"><div style=\"display:table;table-layout:auto;\" align=\"center\"><div style=\"display:table-row;\"><div style=\"display:table-cell;padding-right:2px; padding-left:2px;\" align=\"center\"><div style=\"display:inline-block;\"><span>$[\\![\\text{\\textbf{1}}]\\!]^{}$</span></div></div></div><div style=\"display:table-row;\"><div style=\"display:table-cell;padding-right:2px; padding-left:2px;\" align=\"center\"><div style=\"display:inline-block;\"><span>[idx: 1]</span></div></div></div></div></div></div><div style=\"display: table-cell; padding-left:4em;\"></div><div style=\"vertical-align:bottom;display:table-cell;padding-left:5px;padding-right:5px;padding-top:5px;padding-bottom:5px;\"><div align=\"center\" style=\"display:table;\"><div align=\"center\" style=\"display:table-row;\"><div style=\"display:table-cell;table-layout:auto;vertical-align:bottom;border-bottom:1px solid #848482;\"><div style=\"display: table;\"><div style=\"vertical-align:bottom;display:table-cell;padding-left:5px;padding-right:5px;padding-top:5px;padding-bottom:5px;\"><div align=\"center\" style=\"display:block;padding-left:5px;padding-right:5px;padding-top:5px;padding-bottom:5px;\"><div style=\"display:table;table-layout:auto;\" align=\"center\"><div style=\"display:table-row;\"><div style=\"display:table-cell;padding-right:2px; padding-left:2px;\" align=\"center\"><div style=\"display:inline-block;\"><span>$[\\![\\text{\\textbf{alfonso}}]\\!]^{}_{e}$</span></div></div></div><div style=\"display:table-row;\"><div style=\"display:table-cell;padding-right:2px; padding-left:2px;\" align=\"center\"><div style=\"display:inline-block;\"><span>${A}_{e}$</span></div></div></div></div></div></div><div style=\"display: table-cell; padding-left:4em;\"></div><div style=\"vertical-align:bottom;display:table-cell;padding-left:5px;padding-right:5px;padding-top:5px;padding-bottom:5px;\"><div align=\"center\" style=\"display:table;\"><div align=\"center\" style=\"display:table-row;\"><div style=\"display:table-cell;table-layout:auto;vertical-align:bottom;border-bottom:1px solid #848482;\"><div style=\"display: table;\"><div style=\"vertical-align:bottom;display:table-cell;padding-left:5px;padding-right:5px;padding-top:5px;padding-bottom:5px;\"><div align=\"center\" style=\"display:block;padding-left:5px;padding-right:5px;padding-top:5px;padding-bottom:5px;\"><div style=\"display:table;table-layout:auto;\" align=\"center\"><div style=\"display:table-row;\"><div style=\"display:table-cell;padding-right:2px; padding-left:2px;\" align=\"center\"><div style=\"display:inline-block;\"><span>$[\\![\\text{\\textbf{saw}}]\\!]^{}_{\\left\\langle{}e,\\left\\langle{}e,\\left\\langle{}s,t\\right\\rangle{}\\right\\rangle{}\\right\\rangle{}}$</span></div></div></div><div style=\"display:table-row;\"><div style=\"display:table-cell;padding-right:2px; padding-left:2px;\" align=\"center\"><div style=\"display:inline-block;\"><span>$\\lambda{} y_{e} \\: . \\: \\lambda{} x_{e} \\: . \\: \\lambda{} w_{s} \\: . \\: {Saw}({x}, {y}, {w})$</span></div></div></div></div></div></div><div style=\"display: table-cell; padding-left:4em;\"></div><div style=\"vertical-align:bottom;display:table-cell;padding-left:5px;padding-right:5px;padding-top:5px;padding-bottom:5px;\"><div align=\"center\" style=\"display:block;padding-left:5px;padding-right:5px;padding-top:5px;padding-bottom:5px;\"><div style=\"display:table;table-layout:auto;\" align=\"center\"><div style=\"display:table-row;\"><div style=\"display:table-cell;padding-right:2px; padding-left:2px;\" align=\"center\"><div style=\"display:inline-block;\"><span>$[\\![\\text{\\textbf{t}}_{1}]\\!]^{}_{e}$</span></div></div></div><div style=\"display:table-row;\"><div style=\"display:table-cell;padding-right:2px; padding-left:2px;\" align=\"center\"><div style=\"display:inline-block;\"><span>${var1}_{e}$</span></div></div></div></div></div></div></div></div><div style=\"display:table-cell;\"></div></div><div style=\"display:table-row;\"><div style=\"display: table-cell;\"></div><div style=\"display:table-cell;vertical-align:middle;\"><div style=\"vertical-align:middle;height:0px;overflow:visible\"><div style=\"color:blue;transform: translateY(-1em); padding-left:0.5em;\"><b>[<span>FA</span>]</b></div></div></div></div><div align=\"center\" style=\"display:table-row;padding-left:5px;padding-right:5px;padding-top:5px;padding-bottom:5px;\"><div align=\"center\" style=\"display:block;padding-left:5px;padding-right:5px;padding-top:5px;padding-bottom:5px;\"><div style=\"display:table;table-layout:auto;\" align=\"center\"><div style=\"display:table-row;\"><div style=\"display:table-cell;padding-right:2px; padding-left:2px;\" align=\"center\"><div style=\"display:inline-block;\"><span>$[\\![\\text{\\textbf{[saw t1]}}]\\!]^{}_{\\left\\langle{}e,\\left\\langle{}s,t\\right\\rangle{}\\right\\rangle{}}$</span></div></div></div><div style=\"display:table-row;\"><div style=\"display:table-cell;padding-right:2px; padding-left:2px;\" align=\"center\"><div style=\"display:inline-block;\"><span>$\\lambda{} x_{e} \\: . \\: \\lambda{} w_{s} \\: . \\: {Saw}({x}, {var1}_{e}, {w})$</span></div></div></div></div></div><div style=\"display: table-cell;\"></div></div></div></div></div></div><div style=\"display:table-cell;\"></div></div><div style=\"display:table-row;\"><div style=\"display: table-cell;\"></div><div style=\"display:table-cell;vertical-align:middle;\"><div style=\"vertical-align:middle;height:0px;overflow:visible\"><div style=\"color:blue;transform: translateY(-1em); padding-left:0.5em;\"><b>[<span>FA</span>]</b></div></div></div></div><div align=\"center\" style=\"display:table-row;padding-left:5px;padding-right:5px;padding-top:5px;padding-bottom:5px;\"><div align=\"center\" style=\"display:block;padding-left:5px;padding-right:5px;padding-top:5px;padding-bottom:5px;\"><div style=\"display:table;table-layout:auto;\" align=\"center\"><div style=\"display:table-row;\"><div style=\"display:table-cell;padding-right:2px; padding-left:2px;\" align=\"center\"><div style=\"display:inline-block;\"><span>$[\\![\\text{\\textbf{[alfonso [saw t1]]}}]\\!]^{}_{\\left\\langle{}s,t\\right\\rangle{}}$</span></div></div></div><div style=\"display:table-row;\"><div style=\"display:table-cell;padding-right:2px; padding-left:2px;\" align=\"center\"><div style=\"display:inline-block;\"><span>$\\lambda{} w_{s} \\: . \\: {Saw}({A}_{e}, {var1}_{e}, {w})$</span></div></div></div></div></div><div style=\"display: table-cell;\"></div></div></div></div></div></div><div style=\"display:table-cell;\"></div></div><div style=\"display:table-row;\"><div style=\"display: table-cell;\"></div><div style=\"display:table-cell;vertical-align:middle;\"><div style=\"vertical-align:middle;height:0px;overflow:visible\"><div style=\"color:blue;transform: translateY(-1em); padding-left:0.5em;\"><b>[<span>PA</span>]</b></div></div></div></div><div align=\"center\" style=\"display:table-row;padding-left:5px;padding-right:5px;padding-top:5px;padding-bottom:5px;\"><div align=\"center\" style=\"display:block;padding-left:5px;padding-right:5px;padding-top:5px;padding-bottom:5px;\"><div style=\"display:table;table-layout:auto;\" align=\"center\"><div style=\"display:table-row;\"><div style=\"display:table-cell;padding-right:2px; padding-left:2px;\" align=\"center\"><div style=\"display:inline-block;\"><span>$[\\![\\text{\\textbf{[1 [alfonso [saw t1]]]}}]\\!]^{}_{\\left\\langle{}e,\\left\\langle{}s,t\\right\\rangle{}\\right\\rangle{}}$</span></div></div></div><div style=\"display:table-row;\"><div style=\"display:table-cell;padding-right:2px; padding-left:2px;\" align=\"center\"><div style=\"display:inline-block;\"><span>$\\lambda{} x_{e} \\: . \\: \\lambda{} w_{s} \\: . \\: {Saw}({A}_{e}, {x}, {w})$</span></div></div></div></div></div><div style=\"display: table-cell;\"></div></div></div></div></div></div><div style=\"display:table-cell;\"></div></div><div style=\"display:table-row;\"><div style=\"display: table-cell;\"></div><div style=\"display:table-cell;vertical-align:middle;\"><div style=\"vertical-align:middle;height:0px;overflow:visible\"><div style=\"color:blue;transform: translateY(-1em); padding-left:0.5em;\"><b>[<span>Unit</span>]</b></div></div></div></div><div align=\"center\" style=\"display:table-row;padding-left:5px;padding-right:5px;padding-top:5px;padding-bottom:5px;\"><div align=\"center\" style=\"display:block;padding-left:5px;padding-right:5px;padding-top:5px;padding-bottom:5px;\"><div style=\"display:table;table-layout:auto;\" align=\"center\"><div style=\"display:table-row;\"><div style=\"display:table-cell;padding-right:2px; padding-left:2px;\" align=\"center\"><div style=\"display:inline-block;\"><span>$[\\![\\text{\\textbf{[[1 [alfonso [saw t1]]]]}}]\\!]^{}_{\\left\\{\\left\\langle{}e,\\left\\langle{}s,t\\right\\rangle{}\\right\\rangle{}\\right\\}}$</span></div></div></div><div style=\"display:table-row;\"><div style=\"display:table-cell;padding-right:2px; padding-left:2px;\" align=\"center\"><div style=\"display:inline-block;\"><span>$\\{(\\lambda{} x_{e} \\: . \\: \\lambda{} w_{s} \\: . \\: {Saw}({A}_{e}, {x}, {w}))\\}$</span></div></div></div></div></div><div style=\"display: table-cell;\"></div></div></div></div></div></div><div style=\"display:table-cell;\"></div></div><div style=\"display:table-row;\"><div style=\"display: table-cell;\"></div><div style=\"display:table-cell;vertical-align:middle;\"><div style=\"vertical-align:middle;height:0px;overflow:visible\"><div style=\"color:blue;transform: translateY(-1em); padding-left:0.5em;\"><b>[<span>LiftedFA</span>]</b></div></div></div></div><div align=\"center\" style=\"display:table-row;padding-left:5px;padding-right:5px;padding-top:5px;padding-bottom:5px;\"><div align=\"center\" style=\"display:block;padding-left:5px;padding-right:5px;padding-top:5px;padding-bottom:5px;\"><div style=\"display:table;table-layout:auto;\" align=\"center\"><div style=\"display:table-row;\"><div style=\"display:table-cell;padding-right:2px; padding-left:2px;\" align=\"center\"><div style=\"display:inline-block;\"><span>$[\\![\\text{\\textbf{[who [[1 [alfonso [saw t1]]]]]}}]\\!]^{}_{\\left\\{\\left\\langle{}s,t\\right\\rangle{}\\right\\}}$</span></div></div></div><div style=\"display:table-row;\"><div style=\"display:table-cell;padding-right:2px; padding-left:2px;\" align=\"center\"><div style=\"display:inline-block;\"><span>$\\{{y}_{\\left\\langle{}s,t\\right\\rangle{}} \\:|\\: \\exists{} x2_{e} \\in {\\small \\{{x}_{e} \\:|\\: {Human}({x}_{e})\\}} \\: . \\: {y}_{\\left\\langle{}s,t\\right\\rangle{}} = (\\lambda{} w_{s} \\: . \\: {Saw}({A}_{e}, {x2}, {w}))\\}$</span></div></div></div></div></div><div style=\"display: table-cell;\"></div></div></div><br /><br />"
      ],
      "text/plain": [
       "1 composition path:<br /><div align=\"center\" style=\"display:table;\"><div align=\"center\" style=\"display:table-row;\"><div style=\"display:table-cell;table-layout:auto;vertical-align:bottom;border-bottom:1px solid #848482;\"><div style=\"display: table;\"><div style=\"vertical-align:bottom;display:table-cell;padding-left:5px;padding-right:5px;padding-top:5px;padding-bottom:5px;\"><div align=\"center\" style=\"display:block;padding-left:5px;padding-right:5px;padding-top:5px;padding-bottom:5px;\"><div style=\"display:table;table-layout:auto;\" align=\"center\"><div style=\"display:table-row;\"><div style=\"display:table-cell;padding-right:2px; padding-left:2px;\" align=\"center\"><div style=\"display:inline-block;\"><span>$[\\![\\text{\\textbf{who}}]\\!]^{}_{\\left\\{e\\right\\}}$</span></div></div></div><div style=\"display:table-row;\"><div style=\"display:table-cell;padding-right:2px; padding-left:2px;\" align=\"center\"><div style=\"display:inline-block;\"><span>$\\{{x}_{e} \\:|\\: {Human}({x}_{e})\\}$</span></div></div></div></div></div></div><div style=\"display: table-cell; padding-left:4em;\"></div><div style=\"vertical-align:bottom;display:table-cell;padding-left:5px;padding-right:5px;padding-top:5px;padding-bottom:5px;\"><div align=\"center\" style=\"display:table;\"><div align=\"center\" style=\"display:table-row;\"><div style=\"display:table-cell;table-layout:auto;vertical-align:bottom;border-bottom:1px solid #848482;\"><div style=\"display: table;\"><div style=\"vertical-align:bottom;display:table-cell;padding-left:5px;padding-right:5px;padding-top:5px;padding-bottom:5px;\"><div align=\"center\" style=\"display:table;\"><div align=\"center\" style=\"display:table-row;\"><div style=\"display:table-cell;table-layout:auto;vertical-align:bottom;border-bottom:1px solid #848482;\"><div style=\"display: table;\"><div style=\"vertical-align:bottom;display:table-cell;padding-left:5px;padding-right:5px;padding-top:5px;padding-bottom:5px;\"><div align=\"center\" style=\"display:block;padding-left:5px;padding-right:5px;padding-top:5px;padding-bottom:5px;\"><div style=\"display:table;table-layout:auto;\" align=\"center\"><div style=\"display:table-row;\"><div style=\"display:table-cell;padding-right:2px; padding-left:2px;\" align=\"center\"><div style=\"display:inline-block;\"><span>$[\\![\\text{\\textbf{1}}]\\!]^{}$</span></div></div></div><div style=\"display:table-row;\"><div style=\"display:table-cell;padding-right:2px; padding-left:2px;\" align=\"center\"><div style=\"display:inline-block;\"><span>[idx: 1]</span></div></div></div></div></div></div><div style=\"display: table-cell; padding-left:4em;\"></div><div style=\"vertical-align:bottom;display:table-cell;padding-left:5px;padding-right:5px;padding-top:5px;padding-bottom:5px;\"><div align=\"center\" style=\"display:table;\"><div align=\"center\" style=\"display:table-row;\"><div style=\"display:table-cell;table-layout:auto;vertical-align:bottom;border-bottom:1px solid #848482;\"><div style=\"display: table;\"><div style=\"vertical-align:bottom;display:table-cell;padding-left:5px;padding-right:5px;padding-top:5px;padding-bottom:5px;\"><div align=\"center\" style=\"display:block;padding-left:5px;padding-right:5px;padding-top:5px;padding-bottom:5px;\"><div style=\"display:table;table-layout:auto;\" align=\"center\"><div style=\"display:table-row;\"><div style=\"display:table-cell;padding-right:2px; padding-left:2px;\" align=\"center\"><div style=\"display:inline-block;\"><span>$[\\![\\text{\\textbf{alfonso}}]\\!]^{}_{e}$</span></div></div></div><div style=\"display:table-row;\"><div style=\"display:table-cell;padding-right:2px; padding-left:2px;\" align=\"center\"><div style=\"display:inline-block;\"><span>${A}_{e}$</span></div></div></div></div></div></div><div style=\"display: table-cell; padding-left:4em;\"></div><div style=\"vertical-align:bottom;display:table-cell;padding-left:5px;padding-right:5px;padding-top:5px;padding-bottom:5px;\"><div align=\"center\" style=\"display:table;\"><div align=\"center\" style=\"display:table-row;\"><div style=\"display:table-cell;table-layout:auto;vertical-align:bottom;border-bottom:1px solid #848482;\"><div style=\"display: table;\"><div style=\"vertical-align:bottom;display:table-cell;padding-left:5px;padding-right:5px;padding-top:5px;padding-bottom:5px;\"><div align=\"center\" style=\"display:block;padding-left:5px;padding-right:5px;padding-top:5px;padding-bottom:5px;\"><div style=\"display:table;table-layout:auto;\" align=\"center\"><div style=\"display:table-row;\"><div style=\"display:table-cell;padding-right:2px; padding-left:2px;\" align=\"center\"><div style=\"display:inline-block;\"><span>$[\\![\\text{\\textbf{saw}}]\\!]^{}_{\\left\\langle{}e,\\left\\langle{}e,\\left\\langle{}s,t\\right\\rangle{}\\right\\rangle{}\\right\\rangle{}}$</span></div></div></div><div style=\"display:table-row;\"><div style=\"display:table-cell;padding-right:2px; padding-left:2px;\" align=\"center\"><div style=\"display:inline-block;\"><span>$\\lambda{} y_{e} \\: . \\: \\lambda{} x_{e} \\: . \\: \\lambda{} w_{s} \\: . \\: {Saw}({x}, {y}, {w})$</span></div></div></div></div></div></div><div style=\"display: table-cell; padding-left:4em;\"></div><div style=\"vertical-align:bottom;display:table-cell;padding-left:5px;padding-right:5px;padding-top:5px;padding-bottom:5px;\"><div align=\"center\" style=\"display:block;padding-left:5px;padding-right:5px;padding-top:5px;padding-bottom:5px;\"><div style=\"display:table;table-layout:auto;\" align=\"center\"><div style=\"display:table-row;\"><div style=\"display:table-cell;padding-right:2px; padding-left:2px;\" align=\"center\"><div style=\"display:inline-block;\"><span>$[\\![\\text{\\textbf{t}}_{1}]\\!]^{}_{e}$</span></div></div></div><div style=\"display:table-row;\"><div style=\"display:table-cell;padding-right:2px; padding-left:2px;\" align=\"center\"><div style=\"display:inline-block;\"><span>${var1}_{e}$</span></div></div></div></div></div></div></div></div><div style=\"display:table-cell;\"></div></div><div style=\"display:table-row;\"><div style=\"display: table-cell;\"></div><div style=\"display:table-cell;vertical-align:middle;\"><div style=\"vertical-align:middle;height:0px;overflow:visible\"><div style=\"color:blue;transform: translateY(-1em); padding-left:0.5em;\"><b>[<span>FA</span>]</b></div></div></div></div><div align=\"center\" style=\"display:table-row;padding-left:5px;padding-right:5px;padding-top:5px;padding-bottom:5px;\"><div align=\"center\" style=\"display:block;padding-left:5px;padding-right:5px;padding-top:5px;padding-bottom:5px;\"><div style=\"display:table;table-layout:auto;\" align=\"center\"><div style=\"display:table-row;\"><div style=\"display:table-cell;padding-right:2px; padding-left:2px;\" align=\"center\"><div style=\"display:inline-block;\"><span>$[\\![\\text{\\textbf{[saw t1]}}]\\!]^{}_{\\left\\langle{}e,\\left\\langle{}s,t\\right\\rangle{}\\right\\rangle{}}$</span></div></div></div><div style=\"display:table-row;\"><div style=\"display:table-cell;padding-right:2px; padding-left:2px;\" align=\"center\"><div style=\"display:inline-block;\"><span>$\\lambda{} x_{e} \\: . \\: \\lambda{} w_{s} \\: . \\: {Saw}({x}, {var1}_{e}, {w})$</span></div></div></div></div></div><div style=\"display: table-cell;\"></div></div></div></div></div></div><div style=\"display:table-cell;\"></div></div><div style=\"display:table-row;\"><div style=\"display: table-cell;\"></div><div style=\"display:table-cell;vertical-align:middle;\"><div style=\"vertical-align:middle;height:0px;overflow:visible\"><div style=\"color:blue;transform: translateY(-1em); padding-left:0.5em;\"><b>[<span>FA</span>]</b></div></div></div></div><div align=\"center\" style=\"display:table-row;padding-left:5px;padding-right:5px;padding-top:5px;padding-bottom:5px;\"><div align=\"center\" style=\"display:block;padding-left:5px;padding-right:5px;padding-top:5px;padding-bottom:5px;\"><div style=\"display:table;table-layout:auto;\" align=\"center\"><div style=\"display:table-row;\"><div style=\"display:table-cell;padding-right:2px; padding-left:2px;\" align=\"center\"><div style=\"display:inline-block;\"><span>$[\\![\\text{\\textbf{[alfonso [saw t1]]}}]\\!]^{}_{\\left\\langle{}s,t\\right\\rangle{}}$</span></div></div></div><div style=\"display:table-row;\"><div style=\"display:table-cell;padding-right:2px; padding-left:2px;\" align=\"center\"><div style=\"display:inline-block;\"><span>$\\lambda{} w_{s} \\: . \\: {Saw}({A}_{e}, {var1}_{e}, {w})$</span></div></div></div></div></div><div style=\"display: table-cell;\"></div></div></div></div></div></div><div style=\"display:table-cell;\"></div></div><div style=\"display:table-row;\"><div style=\"display: table-cell;\"></div><div style=\"display:table-cell;vertical-align:middle;\"><div style=\"vertical-align:middle;height:0px;overflow:visible\"><div style=\"color:blue;transform: translateY(-1em); padding-left:0.5em;\"><b>[<span>PA</span>]</b></div></div></div></div><div align=\"center\" style=\"display:table-row;padding-left:5px;padding-right:5px;padding-top:5px;padding-bottom:5px;\"><div align=\"center\" style=\"display:block;padding-left:5px;padding-right:5px;padding-top:5px;padding-bottom:5px;\"><div style=\"display:table;table-layout:auto;\" align=\"center\"><div style=\"display:table-row;\"><div style=\"display:table-cell;padding-right:2px; padding-left:2px;\" align=\"center\"><div style=\"display:inline-block;\"><span>$[\\![\\text{\\textbf{[1 [alfonso [saw t1]]]}}]\\!]^{}_{\\left\\langle{}e,\\left\\langle{}s,t\\right\\rangle{}\\right\\rangle{}}$</span></div></div></div><div style=\"display:table-row;\"><div style=\"display:table-cell;padding-right:2px; padding-left:2px;\" align=\"center\"><div style=\"display:inline-block;\"><span>$\\lambda{} x_{e} \\: . \\: \\lambda{} w_{s} \\: . \\: {Saw}({A}_{e}, {x}, {w})$</span></div></div></div></div></div><div style=\"display: table-cell;\"></div></div></div></div></div></div><div style=\"display:table-cell;\"></div></div><div style=\"display:table-row;\"><div style=\"display: table-cell;\"></div><div style=\"display:table-cell;vertical-align:middle;\"><div style=\"vertical-align:middle;height:0px;overflow:visible\"><div style=\"color:blue;transform: translateY(-1em); padding-left:0.5em;\"><b>[<span>Unit</span>]</b></div></div></div></div><div align=\"center\" style=\"display:table-row;padding-left:5px;padding-right:5px;padding-top:5px;padding-bottom:5px;\"><div align=\"center\" style=\"display:block;padding-left:5px;padding-right:5px;padding-top:5px;padding-bottom:5px;\"><div style=\"display:table;table-layout:auto;\" align=\"center\"><div style=\"display:table-row;\"><div style=\"display:table-cell;padding-right:2px; padding-left:2px;\" align=\"center\"><div style=\"display:inline-block;\"><span>$[\\![\\text{\\textbf{[[1 [alfonso [saw t1]]]]}}]\\!]^{}_{\\left\\{\\left\\langle{}e,\\left\\langle{}s,t\\right\\rangle{}\\right\\rangle{}\\right\\}}$</span></div></div></div><div style=\"display:table-row;\"><div style=\"display:table-cell;padding-right:2px; padding-left:2px;\" align=\"center\"><div style=\"display:inline-block;\"><span>$\\{(\\lambda{} x_{e} \\: . \\: \\lambda{} w_{s} \\: . \\: {Saw}({A}_{e}, {x}, {w}))\\}$</span></div></div></div></div></div><div style=\"display: table-cell;\"></div></div></div></div></div></div><div style=\"display:table-cell;\"></div></div><div style=\"display:table-row;\"><div style=\"display: table-cell;\"></div><div style=\"display:table-cell;vertical-align:middle;\"><div style=\"vertical-align:middle;height:0px;overflow:visible\"><div style=\"color:blue;transform: translateY(-1em); padding-left:0.5em;\"><b>[<span>LiftedFA</span>]</b></div></div></div></div><div align=\"center\" style=\"display:table-row;padding-left:5px;padding-right:5px;padding-top:5px;padding-bottom:5px;\"><div align=\"center\" style=\"display:block;padding-left:5px;padding-right:5px;padding-top:5px;padding-bottom:5px;\"><div style=\"display:table;table-layout:auto;\" align=\"center\"><div style=\"display:table-row;\"><div style=\"display:table-cell;padding-right:2px; padding-left:2px;\" align=\"center\"><div style=\"display:inline-block;\"><span>$[\\![\\text{\\textbf{[who [[1 [alfonso [saw t1]]]]]}}]\\!]^{}_{\\left\\{\\left\\langle{}s,t\\right\\rangle{}\\right\\}}$</span></div></div></div><div style=\"display:table-row;\"><div style=\"display:table-cell;padding-right:2px; padding-left:2px;\" align=\"center\"><div style=\"display:inline-block;\"><span>$\\{{y}_{\\left\\langle{}s,t\\right\\rangle{}} \\:|\\: \\exists{} x2_{e} \\in {\\small \\{{x}_{e} \\:|\\: {Human}({x}_{e})\\}} \\: . \\: {y}_{\\left\\langle{}s,t\\right\\rangle{}} = (\\lambda{} w_{s} \\: . \\: {Saw}({A}_{e}, {x2}, {w}))\\}$</span></div></div></div></div></div><div style=\"display: table-cell;\"></div></div></div><br /><br />"
      ]
     },
     "execution_count": 110,
     "metadata": {},
     "output_type": "execute_result"
    }
   ],
   "source": [
    "(who * (lang.Binder(1) * (alfonso * (saw * lang.Trace(1))))).tree()"
   ]
  },
  {
   "cell_type": "markdown",
   "id": "25f9a12d-75b6-4cf3-9828-6d3d3b1414e0",
   "metadata": {},
   "source": [
    "(Below here, save for next week)\n",
    "\n",
    "This scopal configuration also allows us to define generalized quantifier variants of wh-items a la Karttunen 1977:"
   ]
  },
  {
   "cell_type": "code",
   "execution_count": null,
   "id": "9d59b958-1902-4aa2-a4c4-6766c524ab02",
   "metadata": {},
   "outputs": [],
   "source": [
    "%%lamb\n",
    "||who3|| = L f_<e,{<s,t>}> : Set p_<s,t> : Exists x_e: p << f(x)"
   ]
  },
  {
   "cell_type": "code",
   "execution_count": null,
   "id": "bb798cfc-2c57-4588-8e4e-728e64e7a653",
   "metadata": {},
   "outputs": [],
   "source": [
    "who3 * (lang.Binder(1) * (alfonso * (saw * lang.Trace(1))))"
   ]
  },
  {
   "cell_type": "code",
   "execution_count": null,
   "id": "2adfd94f-2eee-4eef-a683-38225641b1bc",
   "metadata": {},
   "outputs": [],
   "source": []
  }
 ],
 "metadata": {
  "kernelspec": {
   "display_name": "Lambda Notebook (Python 3)",
   "language": "python",
   "name": "lambda-notebook"
  },
  "language_info": {
   "codemirror_mode": {
    "name": "ipython",
    "version": 3
   },
   "file_extension": ".py",
   "mimetype": "text/x-python",
   "name": "python",
   "nbconvert_exporter": "python",
   "pygments_lexer": "ipython3",
   "version": "3.12.0"
  }
 },
 "nbformat": 4,
 "nbformat_minor": 5
}
