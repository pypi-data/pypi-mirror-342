{
 "cells": [
  {
   "cell_type": "markdown",
   "metadata": {},
   "source": [
    "## Part 1: book exercises\n",
    "\n",
    "Book exercises from Heim and Kratzer.\n",
    "\n",
    "**[a]** Do the exercise on pp. 9-10 of the Heim and Kratzer textbook.\n",
    "\n",
    "**[b]** Do Exercises 1-2 on pp. 39-40 of the Heim and Kratzer textbook.\n",
    "\n",
    "You can provide answers to these questions in the notebook by editing the two markdown cells below."
   ]
  },
  {
   "cell_type": "markdown",
   "metadata": {},
   "source": [
    "**Answer to [a]:**"
   ]
  },
  {
   "cell_type": "markdown",
   "metadata": {},
   "source": [
    "**Answer to [b]:**"
   ]
  },
  {
   "cell_type": "markdown",
   "metadata": {},
   "source": [
    "## Part 2: more lambda calculus\n",
    "\n",
    "**[b]** For each of the following expression, write down the type.\n",
    "\n",
    "1. $\\lambda x_e . \\lambda y_e . \\lambda z_e . \\text{give}'(z, x, y)$\n",
    "2. $\\lambda f_{\\langle e,t \\rangle} . \\exists x \\in D_e : f(x)=1$\n",
    "3. $\\lambda f_{\\langle e, e \\rangle} . \\lambda x_e . f(x)$\n",
    "4. $\\lambda f_{\\langle e \\langle e,t \\rangle \\rangle} . \\lambda x_e . \\lambda y_e . f(y)(x)$\n",
    "5. $\\lambda f_{\\langle e,t \\rangle} . \\lambda g_{\\langle e,t \\rangle} . \\lambda x_e . f(x)=1 \\text{ and }g(x)=1$\n",
    "\n",
    "One way to do this would be to translate these formulas into lambda notebook code.  Alternatively, you can simply read the type off the expression if you're comfortable with that.  You can provide answers in this notebook by editing the markdown cell below:"
   ]
  },
  {
   "cell_type": "markdown",
   "metadata": {},
   "source": [
    "**Answer to [a]**:\n",
    "\n",
    "1. (answer here)\n",
    "2. (answer here)\n",
    "3. (answer here)\n",
    "4. (answer here)\n",
    "5. (answer here)\n"
   ]
  },
  {
   "cell_type": "markdown",
   "metadata": {},
   "source": [
    "**[b]** For each of the following types, write down the skeleton of a lambda function with that type (specifying the return type).  (Choose arbitrary variable names, all that matters is that they are distinct.)\n",
    "\n",
    "\n",
    "Example: $\\langle e, \\langle e,t \\rangle \\rangle$ corresponds to a function with the skeleton $\\lambda x_e . \\lambda y_e . (...)$ where the part \"(...)\" has type $t$.\n",
    "\n",
    "\n",
    "1.    $\\langle e, t \\rangle$  (this one should be very easy by now.)\n",
    "2.    $\\langle \\langle e, t \\rangle, e\\rangle$\n",
    "3.    $\\langle \\langle e,t \\rangle, \\langle e,t \\rangle\\rangle$\n",
    "4.    $\\langle \\langle e, t \\rangle ,\\langle \\langle e, t \\rangle , t \\rangle\\rangle$\n",
    "\n",
    "You can do this by writing lambda calculus expression in `%%lamb` blocks, or by simply writing the answer."
   ]
  },
  {
   "cell_type": "markdown",
   "metadata": {},
   "source": [
    "**Answer to [b]:**\n",
    "\n",
    "1. (answer here)\n",
    "2. (answer here)\n",
    "3. (answer here)\n",
    "4. (answer here)\n"
   ]
  },
  {
   "cell_type": "markdown",
   "metadata": {},
   "source": [
    "## Part 3: using the lambda calculus for compositionality\n",
    "\n",
    "Use the lambda notebook to calculate the truth-conditions of all three of:\n",
    "\n",
    "1.    Joe is in Texas.\n",
    "2.    Joe is fond of Kaline.\n",
    "3.    Kaline is a cat.\n",
    "\n",
    "\n",
    "Provide your derivations.  You can do this by submitting an .ipynb with the derivations shown automatically!  For reading purposes, note that this is a version of the exercise on p. 63 of the textbook.  I have changed it to require all three because using the lambda notebook should drastically simplify the exercise."
   ]
  },
  {
   "cell_type": "markdown",
   "metadata": {},
   "source": [
    "Step 1: write down basic lexical entries for names.  For example, you could write:\n",
    "\n",
    "    %%lamb\n",
    "    ||kyle|| = Kyle_e"
   ]
  },
  {
   "cell_type": "code",
   "execution_count": 2,
   "metadata": {
    "collapsed": false
   },
   "outputs": [
    {
     "data": {
      "text/html": [],
      "text/latex": [],
      "text/plain": []
     },
     "execution_count": 2,
     "metadata": {},
     "output_type": "execute_result"
    }
   ],
   "source": [
    "%%lamb\n",
    "# write your entries here, and then press shift-enter to run"
   ]
  },
  {
   "cell_type": "markdown",
   "metadata": {},
   "source": [
    "Step 2: write functions for 'is', 'a', and 'of' in the lambda calculus format.  (See p. 62 of Heim and Kratzer)\n",
    "\n",
    "To write a function in this format, you write something like: \"`L x_e : F(x)`\".  `L` here stands for lambda, `x` is the variable name, `e` is the type, and `F(x)` is the body of the function."
   ]
  },
  {
   "cell_type": "code",
   "execution_count": 3,
   "metadata": {
    "collapsed": false
   },
   "outputs": [
    {
     "data": {
      "text/html": [],
      "text/latex": [],
      "text/plain": []
     },
     "execution_count": 3,
     "metadata": {},
     "output_type": "execute_result"
    }
   ],
   "source": [
    "%%lamb\n",
    "# write your entries here, and press shift-enter to run"
   ]
  },
  {
   "cell_type": "markdown",
   "metadata": {},
   "source": [
    "Step 3: write functions for 'cat', 'fond' and 'in' (see pp. 62-63 of H&K)."
   ]
  },
  {
   "cell_type": "code",
   "execution_count": 4,
   "metadata": {
    "collapsed": false
   },
   "outputs": [
    {
     "data": {
      "text/html": [],
      "text/latex": [],
      "text/plain": []
     },
     "execution_count": 4,
     "metadata": {},
     "output_type": "execute_result"
    }
   ],
   "source": [
    "%%lamb\n",
    "# write your entries here, and press shift-enter to run"
   ]
  },
  {
   "cell_type": "markdown",
   "metadata": {},
   "source": [
    "Step 4: compose the entries you have written using `*` and parenthesis.\n",
    "\n",
    "Two compose two words together, you would use something like:\n",
    "\n",
    "    kaline * cat\n",
    "    \n",
    "There is no need to use a `%%lamb` for this sort of command.  \n",
    "\n",
    "To compose the larger sentences you will need to combine a bunch of entries together in the right order.  The `*` operator combines two things, so it is sometimes necessary to use parenthesis to control the grouping.  Please always use parenthesis in your answers even when they are strictly speaking unnecessary.  So far example, somewhere in one of the following answers, you will probably include something like:\n",
    "\n",
    "    (is * (a * cat))\n",
    "    "
   ]
  },
  {
   "cell_type": "code",
   "execution_count": 5,
   "metadata": {
    "collapsed": true
   },
   "outputs": [],
   "source": [
    "# do the composition for `Joe is in Texas` here.  You can do it step-by-step or all at once."
   ]
  },
  {
   "cell_type": "code",
   "execution_count": 6,
   "metadata": {
    "collapsed": true
   },
   "outputs": [],
   "source": [
    "# do the composition for `Joe is fond of Kaline.` here.  You can do it step-by-step or all at once."
   ]
  },
  {
   "cell_type": "code",
   "execution_count": null,
   "metadata": {
    "collapsed": true
   },
   "outputs": [],
   "source": [
    "# do the composition for `Kaline is a cat.` here.  You can do it step-by-step or all at once."
   ]
  }
 ],
 "metadata": {
  "kernelspec": {
   "display_name": "Lambda Notebook (Python 3)",
   "language": "python",
   "name": "lambda-notebook"
  },
  "language_info": {
   "codemirror_mode": {
    "name": "ipython",
    "version": 3
   },
   "file_extension": ".py",
   "mimetype": "text/x-python",
   "name": "python",
   "nbconvert_exporter": "python",
   "pygments_lexer": "ipython3",
   "version": "3.5.1"
  }
 },
 "nbformat": 4,
 "nbformat_minor": 1
}
