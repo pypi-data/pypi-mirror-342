{
 "cells": [
  {
   "cell_type": "code",
   "execution_count": 1,
   "id": "a49a511d-fc75-4dfb-9412-d7fcc4751855",
   "metadata": {},
   "outputs": [],
   "source": [
    "reload_lamb()\n",
    "lamb.display.default(style=lamb.display.DerivStyle.PROOF)\n",
    "# this is probably not a good idea to use generally, but it's currently useful here:\n",
    "lamb.meta.ply.default_sopts['eliminate_sets'] = True"
   ]
  },
  {
   "cell_type": "code",
   "execution_count": 2,
   "id": "8d134710-cc10-48cd-a78d-5f15523e7230",
   "metadata": {},
   "outputs": [],
   "source": [
    "from lamb.meta.ply import derived, get_sopt\n",
    "from lamb.meta import sets, true_term, quantifiers\n",
    "\n",
    "# prototype implementation of a prefix union operator\n",
    "\n",
    "class UnionOp(meta.quantifiers.RestrictedBindingOp):\n",
    "    canonical_name = \"Union\"\n",
    "    op_name_uni = \"∪\"\n",
    "    op_name_latex = \"\\\\bigcup{}\"\n",
    "    pre_simplify = True\n",
    "\n",
    "    def __init__(self, var, body, restrictor=None,\n",
    "                 varname=None, vartype=None, assignment=None, type_check=True):\n",
    "        if not isinstance(body.type, types.SetType):\n",
    "            raise parsing.ParseError(f\"`UnionOp` requires a set-typed body (got: `{repr(body)}`\")\n",
    "        super().__init__(var, body, restrictor, typ=body.type,\n",
    "            varname=varname, vartype=vartype,\n",
    "            assignment=assignment, type_check=type_check)\n",
    "\n",
    "    def to_exists_form(self):\n",
    "        outer_var = meta.term(self.find_safe_variable(), typ=self.type.content_type)\n",
    "        inner_var = self.var_instance.copy()\n",
    "        new_body = outer_var << self.body\n",
    "        # if self.restrictor is not None:\n",
    "        #     new_body = (inner_var << self.restrictor) & new_body\n",
    "        result = sets.ConditionSet(outer_var,\n",
    "                                   quantifiers.Exists(inner_var, new_body, self.restrictor))        \n",
    "        return derived(result, self, f\"∪{self.varname} => ∃\")\n",
    "    \n",
    "    def eliminate(self, assignment=None, **sopts):\n",
    "        if self.vacuous():\n",
    "            # covers empty set / domain set as body\n",
    "            return derived(self.body.copy(), self, f\"trivial ∪{self.varname} elimination\")\n",
    "        elif self.finite_safe():\n",
    "            a = self.scope_assignment(assignment=assignment)\n",
    "            subs = [self[1].under_assignment(a | {self.varname : elem})\n",
    "                    for elem in self.domain_iter()]\n",
    "            return derived(sets.SetUnion.join(subs, empty=true_term),\n",
    "                self,\n",
    "                f\"∪{self.varname} => ∪\")\n",
    "        # disable this for now -- it produces more complex formulas, not simpler ones\n",
    "        # else:\n",
    "        #     return self.to_exists_form()\n",
    "\n",
    "        return self\n",
    "\n",
    "    def simplify(self, assignment=None, **sopts):\n",
    "        if (self.vacuous() or self.domain_cardinality() == 1\n",
    "                    or get_sopt('eliminate_sets', sopts)):\n",
    "            return self.eliminate(assignment=assignment, **sopts)\n",
    "        return self\n",
    "\n",
    "    def try_adjust_type_local(self, unified_type, derivation_reason, env):\n",
    "        args = self.args.copy()\n",
    "        args[1] = args[1].try_adjust_type(unified_type,\n",
    "                                         derivation_reason=derivation_reason)\n",
    "        if args[1] is None:\n",
    "            return None\n",
    "        if self.varname in args[1].get_type_env().terms():\n",
    "            # could do this conditionally\n",
    "            args[0] = args[0].try_adjust_type(args[1].get_type_env().term_type(self.varname),\n",
    "                                              derivation_reason=derivation_reason)\n",
    "            if args[0] is None:\n",
    "                return None\n",
    "            if len(args) > 2:\n",
    "                args[2] = args[2].try_adjust_type(types.SetType(args[0].type))\n",
    "                if args[2] is None:\n",
    "                    return None\n",
    "        return self.copy_local(*args)\n",
    "\n",
    "lamb.meta.core.registry.add_binding_op(UnionOp)"
   ]
  },
  {
   "cell_type": "code",
   "execution_count": 3,
   "id": "3d9284c7-a29e-48ab-979a-aa9f1f9866ba",
   "metadata": {},
   "outputs": [
    {
     "data": {
      "text/latex": [
       "$\\bigcup{} x_{e} \\in {\\small {Human}_{\\left\\{e\\right\\}}} \\: . \\: \\{{x}\\}$"
      ],
      "text/plain": [
       "(Union x_e << Human_{e}: {x_e})"
      ]
     },
     "execution_count": 3,
     "metadata": {},
     "output_type": "execute_result"
    }
   ],
   "source": [
    "test = %te Union x_e << Human_{e}: {x}\n",
    "test"
   ]
  },
  {
   "cell_type": "code",
   "execution_count": 4,
   "id": "b0eccd7d-1f1d-492c-95e8-3c4ce192a797",
   "metadata": {},
   "outputs": [
    {
     "data": {
      "text/latex": [
       "$\\{{x1}_{e} \\:|\\: \\exists{} x_{e} \\in {\\small {Human}_{\\left\\{e\\right\\}}} \\: . \\: {x1}_{e} \\in{} \\{{x}\\}\\}$"
      ],
      "text/plain": [
       "(Set x1_e: (Exists x_e << Human_{e}: (x1_e << {x_e})))"
      ]
     },
     "execution_count": 4,
     "metadata": {},
     "output_type": "execute_result"
    }
   ],
   "source": [
    "test.to_exists_form()"
   ]
  },
  {
   "cell_type": "code",
   "execution_count": 5,
   "id": "a91c17b0-aafb-4415-99d4-1ce855f51fcb",
   "metadata": {},
   "outputs": [
    {
     "data": {
      "text/latex": [
       "$\\{{x1}_{e} \\:|\\: \\exists{} x_{e} \\: . \\: {x1}_{e} = {x}\\}$"
      ],
      "text/plain": [
       "(Set x1_e: (Exists x_e: (x1_e <=> x_e)))"
      ]
     },
     "execution_count": 5,
     "metadata": {},
     "output_type": "execute_result"
    }
   ],
   "source": [
    "te(\"Union x_e: {x}\").to_exists_form().simplify_all()"
   ]
  },
  {
   "cell_type": "code",
   "execution_count": 6,
   "id": "c0296830-43b4-4f60-acbc-304cf219cf43",
   "metadata": {},
   "outputs": [
    {
     "data": {
      "text/latex": [
       "$\\bigcup{} x_{e} \\in {\\small \\{{\\textsf{c1}}_{e}, {\\textsf{c2}}_{e}, {\\textsf{c3}}_{e}\\}} \\: . \\: \\{{x}\\}$"
      ],
      "text/plain": [
       "(Union x_e << {_c3, _c2, _c1}: {x_e})"
      ]
     },
     "execution_count": 6,
     "metadata": {},
     "output_type": "execute_result"
    }
   ],
   "source": [
    "test = %te Union x_e << {_c1, _c2, _c3}: {x}\n",
    "test"
   ]
  },
  {
   "cell_type": "code",
   "execution_count": 7,
   "id": "16f31c6e-0aac-4803-b410-f49a8de9a49f",
   "metadata": {},
   "outputs": [
    {
     "data": {
      "text/latex": [
       "$\\{{\\textsf{c1}}_{e}, {\\textsf{c2}}_{e}, {\\textsf{c3}}_{e}\\}$"
      ],
      "text/plain": [
       "{_c3, _c2, _c1}"
      ]
     },
     "execution_count": 7,
     "metadata": {},
     "output_type": "execute_result"
    }
   ],
   "source": [
    "test.simplify_all(eliminate_sets=True)"
   ]
  },
  {
   "cell_type": "code",
   "execution_count": null,
   "id": "3f7153ab-93a3-49f4-a901-df96d4a0357c",
   "metadata": {},
   "outputs": [],
   "source": []
  },
  {
   "cell_type": "code",
   "execution_count": 101,
   "id": "23759325-538f-4d4a-9977-ae88bcacc58f",
   "metadata": {},
   "outputs": [
    {
     "data": {
      "text/markdown": [
       "${unit}_{\\left\\langle{}X,\\left\\{X\\right\\}\\right\\rangle{}}\\:=\\:\\lambda{} p_{X} \\: . \\: \\{{p}\\}$<br />\n",
       "${sunit}_{\\left\\langle{}X,\\left\\langle{}s,X\\right\\rangle{}\\right\\rangle{}}\\:=\\:\\lambda{} p_{X} \\: . \\: \\lambda{} w_{s} \\: . \\: {p}$<br />\n",
       "${bind}_{\\left\\langle{}\\left\\{X\\right\\},\\left\\langle{}\\left\\langle{}X,\\left\\{Y\\right\\}\\right\\rangle{},\\left\\{Y\\right\\}\\right\\rangle{}\\right\\rangle{}}\\:=\\:\\lambda{} m_{\\left\\{X\\right\\}} \\: . \\: \\lambda{} f_{\\left\\langle{}X,\\left\\{Y\\right\\}\\right\\rangle{}} \\: . \\: \\bigcup{} x_{X} \\in {\\small {m}_{\\left\\{X\\right\\}}} \\: . \\: {f}({x})$<br />\n",
       "${sbind}_{\\left\\langle{}\\left\\langle{}s,\\left\\{X\\right\\}\\right\\rangle{},\\left\\langle{}\\left\\langle{}X,\\left\\langle{}s,\\left\\{Y\\right\\}\\right\\rangle{}\\right\\rangle{},\\left\\langle{}s,\\left\\{Y\\right\\}\\right\\rangle{}\\right\\rangle{}\\right\\rangle{}}\\:=\\:\\lambda{} m_{\\left\\langle{}s,\\left\\{X\\right\\}\\right\\rangle{}} \\: . \\: \\lambda{} f_{\\left\\langle{}X,\\left\\langle{}s,\\left\\{Y\\right\\}\\right\\rangle{}\\right\\rangle{}} \\: . \\: \\lambda{} w_{s} \\: . \\: \\bigcup{} x_{X} \\in {\\small {m}_{\\left\\langle{}s,\\left\\{X\\right\\}\\right\\rangle{}}({w}_{s})} \\: . \\: {f}({x})({w})$<br />\n",
       "${A}_{\\left\\langle{}\\left\\{X\\right\\},\\left\\langle{}\\left\\langle{}X,t\\right\\rangle{},t\\right\\rangle{}\\right\\rangle{}}\\:=\\:\\lambda{} m_{\\left\\{X\\right\\}} \\: . \\: \\lambda{} f_{\\left\\langle{}X,t\\right\\rangle{}} \\: . \\: \\exists{} x_{X} \\in {\\small {m}_{\\left\\{X\\right\\}}} \\: . \\: {f}({x})$<br />\n",
       "${wh}_{\\left\\langle{}\\left\\langle{}\\left\\langle{}X,t\\right\\rangle{},t\\right\\rangle{},\\left\\langle{}\\left\\langle{}X,\\left\\{t\\right\\}\\right\\rangle{},\\left\\{t\\right\\}\\right\\rangle{}\\right\\rangle{}}\\:=\\:\\lambda{} q_{\\left\\langle{}\\left\\langle{}X,t\\right\\rangle{},t\\right\\rangle{}} \\: . \\: \\lambda{} f_{\\left\\langle{}X,\\left\\{t\\right\\}\\right\\rangle{}} \\: . \\: \\{{y}_{t} \\:|\\: {q}(\\lambda{} x_{X} \\: . \\: {y}_{t} \\in{} {f}({x}))\\}$<br />\n",
       "${closure}_{\\left\\langle{}\\left\\{t\\right\\},t\\right\\rangle{}}\\:=\\:\\lambda{} m_{\\left\\{t\\right\\}} \\: . \\: \\textsf{True} \\in{} {m}$<br />\n",
       "${sclosure}_{\\left\\langle{}\\left\\langle{}s,\\left\\{\\left\\langle{}s,t\\right\\rangle{}\\right\\}\\right\\rangle{},\\left\\langle{}s,t\\right\\rangle{}\\right\\rangle{}}\\:=\\:\\lambda{} m_{\\left\\langle{}s,\\left\\{\\left\\langle{}s,t\\right\\rangle{}\\right\\}\\right\\rangle{}} \\: . \\: \\lambda{} w_{s} \\: . \\: \\exists{} p_{\\left\\langle{}s,t\\right\\rangle{}} \\in {\\small {m}_{\\left\\langle{}s,\\left\\{\\left\\langle{}s,t\\right\\rangle{}\\right\\}\\right\\rangle{}}({w}_{s})} \\: . \\: {p}({w})$"
      ],
      "text/plain": [
       "unit_<X,{X}> = (λ p_X: {p_X})\n",
       "sunit_<X,<s,X>> = (λ p_X: (λ w_s: p_X))\n",
       "bind_<{X},<<X,{Y}>,{Y}>> = (λ m_{X}: (λ f_<X,{Y}>: (Union x_X << m_{X}: f_<X,{Y}>(x_X))))\n",
       "sbind_<<s,{X}>,<<X,<s,{Y}>>,<s,{Y}>>> = (λ m_<s,{X}>: (λ f_<X,<s,{Y}>>: (λ w_s: (Union x_X << m_<s,{X}>(w_s): f_<X,<s,{Y}>>(x_X)(w_s)))))\n",
       "A_<{X},<<X,t>,t>> = (λ m_{X}: (λ f_<X,t>: (Exists x_X << m_{X}: f_<X,t>(x_X))))\n",
       "wh_<<<X,t>,t>,<<X,{t}>,{t}>> = (λ q_<<X,t>,t>: (λ f_<X,{t}>: (Set y_t: q_<<X,t>,t>(λ x_X: (y_t << f_<X,{t}>(x_X))))))\n",
       "closure_<{t},t> = (λ m_{t}: (True << m_{t}))\n",
       "sclosure_<<s,{<s,t>}>,<s,t>> = (λ m_<s,{<s,t>}>: (λ w_s: (Exists p_<s,t> << m_<s,{<s,t>}>(w_s): p_<s,t>(w_s))))"
      ]
     },
     "metadata": {},
     "output_type": "display_data"
    }
   ],
   "source": [
    "%%lamb\n",
    "unit = L p_X : {p}\n",
    "sunit = L p_X : L w_s : p\n",
    "bind = L m_{X} : L f_<X,{Y}> : Union x_X << m : f(x)\n",
    "sbind = L m_<s,{X}> : L f_<X,<s,{Y}>> : L w_s : Union x_X << m(w) : f(x)(w)\n",
    "A = L m_{X} : L f_<X,t> : Exists x_X << m : f(x)\n",
    "# wh = L q_<<e,t>,t> : L f_<e,{t}> : Set y_t : q(L x_e : y << f(x))\n",
    "# polymorphic version. Note that `Y` is inferred to be t:\n",
    "wh = L q_<<X,Y>,Y> : L f_<X,{Y}> : Set y_Y : q(L x_X : y << f(x))\n",
    "closure = L m_{t} : True << m\n",
    "sclosure = L m_<s,{<s,t>}> : L w_s : Exists p_<s,t> << m(w) : p(w)"
   ]
  },
  {
   "cell_type": "code",
   "execution_count": 102,
   "id": "99823c90-9f85-45fa-bb96-53a5f1ff7684",
   "metadata": {},
   "outputs": [
    {
     "data": {
      "text/markdown": [
       "${LIFTe}_{\\left\\langle{}e,\\left\\langle{}\\left\\langle{}e,t\\right\\rangle{},t\\right\\rangle{}\\right\\rangle{}}\\:=\\:\\lambda{} x_{e} \\: . \\: \\lambda{} f_{\\left\\langle{}e,t\\right\\rangle{}} \\: . \\: {f}({x})$"
      ],
      "text/plain": [
       "LIFTe_<e,<<e,t>,t>> = (λ x_e: (λ f_<e,t>: f_<e,t>(x_e)))"
      ]
     },
     "metadata": {},
     "output_type": "display_data"
    }
   ],
   "source": [
    "%lamb LIFTe = L x_e : A(unit(x))"
   ]
  },
  {
   "cell_type": "code",
   "execution_count": 103,
   "id": "124d331b-beff-4590-b10b-e7bc72f4203a",
   "metadata": {},
   "outputs": [
    {
     "data": {
      "text/latex": [
       "$\\lambda{} f_{\\left\\langle{}e,t\\right\\rangle{}} \\: . \\: \\exists{} x_{e} \\in {\\small {Human}_{\\left\\{e\\right\\}}} \\: . \\: {f}({x})$"
      ],
      "text/plain": [
       "(λ f_<e,t>: (Exists x_e << Human_{e}: f_<e,t>(x_e)))"
      ]
     },
     "metadata": {},
     "output_type": "display_data"
    },
    {
     "data": {
      "text/latex": [
       "$\\lambda{} f_{\\left\\langle{}e,\\left\\{t\\right\\}\\right\\rangle{}} \\: . \\: \\{{y}_{t} \\:|\\: \\exists{} x_{e} \\in {\\small {Human}_{\\left\\{e\\right\\}}} \\: . \\: {y}_{t} \\in{} {f}({x})\\}$"
      ],
      "text/plain": [
       "(λ f_<e,{t}>: (Set y_t: (Exists x_e << Human_{e}: (y_t << f_<e,{t}>(x_e)))))"
      ]
     },
     "metadata": {},
     "output_type": "display_data"
    }
   ],
   "source": [
    "w = %te L f_<e,t> : Exists x_e << Human_{e} : f(x)\n",
    "display(w, wh(w).simplify_all(reduce=True))"
   ]
  },
  {
   "cell_type": "markdown",
   "id": "d51b6ec5-d38f-47d1-adf1-5313de310059",
   "metadata": {},
   "source": [
    "Commutative results from Charlow figure 4:"
   ]
  },
  {
   "cell_type": "code",
   "execution_count": 104,
   "id": "00dc9c2d-f9d2-4892-ae15-42f3216afcc9",
   "metadata": {},
   "outputs": [
    {
     "data": {
      "text/latex": [
       "$\\lambda{} x_{X'} \\: . \\: \\lambda{} f1_{\\left\\langle{}X',\\left\\{X''\\right\\}\\right\\rangle{}} \\: . \\: \\bigcup{} x1_{X'} \\in {\\small \\{{x}_{X'}\\}} \\: . \\: {f1}({x1})$"
      ],
      "text/plain": [
       "(λ x_X1: (λ f1_<X1,{X2}>: (Union x1_X1 << {x_X1}: f1_<X1,{X2}>(x1_X1))))"
      ]
     },
     "execution_count": 104,
     "metadata": {},
     "output_type": "execute_result"
    }
   ],
   "source": [
    "bind * unit"
   ]
  },
  {
   "cell_type": "code",
   "execution_count": 105,
   "id": "f5e319d4-f83f-4394-83c9-a1d690f24afd",
   "metadata": {},
   "outputs": [
    {
     "data": {
      "text/latex": [
       "$\\lambda{} x_{X'} \\: . \\: \\lambda{} f1_{\\left\\langle{}X',\\left\\{X''\\right\\}\\right\\rangle{}} \\: . \\: {f1}({x})$"
      ],
      "text/plain": [
       "(λ x_X1: (λ f1_<X1,{X2}>: f1_<X1,{X2}>(x_X1)))"
      ]
     },
     "execution_count": 105,
     "metadata": {},
     "output_type": "execute_result"
    }
   ],
   "source": [
    "(bind * unit).simplify_all()"
   ]
  },
  {
   "cell_type": "code",
   "execution_count": 106,
   "id": "49621866-5870-44af-b690-92605839e228",
   "metadata": {},
   "outputs": [
    {
     "data": {
      "text/latex": [
       "$\\lambda{} x_{\\left\\{X'\\right\\}} \\: . \\: \\lambda{} f1_{\\left\\langle{}X',\\left\\{t\\right\\}\\right\\rangle{}} \\: . \\: \\{{y}_{t} \\:|\\: \\exists{} x1_{X'} \\in {\\small {x}_{\\left\\{X'\\right\\}}} \\: . \\: {y}_{t} \\in{} {f1}({x1})\\}$"
      ],
      "text/plain": [
       "(λ x_{X1}: (λ f1_<X1,{t}>: (Set y_t: (Exists x1_X1 << x_{X1}: (y_t << f1_<X1,{t}>(x1_X1))))))"
      ]
     },
     "execution_count": 106,
     "metadata": {},
     "output_type": "execute_result"
    }
   ],
   "source": [
    "wh * A"
   ]
  },
  {
   "cell_type": "code",
   "execution_count": 107,
   "id": "d00ae691-1bee-48e0-958c-afe736f2bf82",
   "metadata": {},
   "outputs": [
    {
     "data": {
      "text/latex": [
       "$\\lambda{} x_{X'} \\: . \\: \\lambda{} f1_{\\left\\langle{}X',t\\right\\rangle{}} \\: . \\: \\exists{} x1_{X'} \\in {\\small \\{{x}_{X'}\\}} \\: . \\: {f1}({x1})$"
      ],
      "text/plain": [
       "(λ x_X1: (λ f1_<X1,t>: (Exists x1_X1 << {x_X1}: f1_<X1,t>(x1_X1))))"
      ]
     },
     "execution_count": 107,
     "metadata": {},
     "output_type": "execute_result"
    }
   ],
   "source": [
    "A * unit"
   ]
  },
  {
   "cell_type": "code",
   "execution_count": 108,
   "id": "704db086-badd-4f1d-bd48-a3098a945efe",
   "metadata": {},
   "outputs": [
    {
     "data": {
      "text/latex": [
       "$\\lambda{} x_{X'} \\: . \\: \\lambda{} f1_{\\left\\langle{}X',t\\right\\rangle{}} \\: . \\: {f1}({x})$"
      ],
      "text/plain": [
       "(λ x_X1: (λ f1_<X1,t>: f1_<X1,t>(x_X1)))"
      ]
     },
     "execution_count": 108,
     "metadata": {},
     "output_type": "execute_result"
    }
   ],
   "source": [
    "(A * unit).simplify_all()"
   ]
  },
  {
   "cell_type": "code",
   "execution_count": 109,
   "id": "d80415fd-37ce-4d56-958b-9f7bccb64a5a",
   "metadata": {},
   "outputs": [
    {
     "data": {
      "text/markdown": [
       "${psapply}_{\\left\\langle{}\\left\\{\\left\\langle{}X',X\\right\\rangle{}\\right\\},\\left\\langle{}\\left\\{X'\\right\\},\\left\\{X\\right\\}\\right\\rangle{}\\right\\rangle{}}\\:=\\:\\lambda{} f_{\\left\\{\\left\\langle{}X',X\\right\\rangle{}\\right\\}} \\: . \\: \\lambda{} x_{\\left\\{X'\\right\\}} \\: . \\: \\bigcup{} x1_{\\left\\langle{}X',X\\right\\rangle{}} \\in {\\small {f}_{\\left\\{\\left\\langle{}X',X\\right\\rangle{}\\right\\}}} \\: . \\: \\bigcup{} x2_{X'} \\in {\\small {x}_{\\left\\{X'\\right\\}}} \\: . \\: \\{{x1}({x2})\\}$"
      ],
      "text/plain": [
       "psapply_<{<X1,X>},<{X1},{X}>> = (λ f_{<X1,X>}: (λ x_{X1}: (Union x1_<X1,X> << f_{<X1,X>}: (Union x2_X1 << x_{X1}: {x1_<X1,X>(x2_X1)}))))"
      ]
     },
     "metadata": {},
     "output_type": "display_data"
    }
   ],
   "source": [
    "%lamb psapply = L f_{<X,Y>} : L x_{X} : bind(f)(L a_<X,Y> : bind(x)(L b_X : unit(a(b))))\n"
   ]
  },
  {
   "cell_type": "code",
   "execution_count": 110,
   "id": "52cff4c7-4074-4056-807e-07ce5203e24c",
   "metadata": {},
   "outputs": [
    {
     "data": {
      "text/html": [
       "Composition system 'Type-driven composition (copy)'<br />Operations: {<br />&nbsp;&nbsp;&nbsp;&nbsp;Binary composition rule <i>FA</i>, built on python function 'lamb.lang.fa_fun'<br />&nbsp;&nbsp;&nbsp;&nbsp;Binary composition rule <i>PA</i>, built on python function 'lamb.lang.pa_fun'<br />&nbsp;&nbsp;&nbsp;&nbsp;Binary composition rule <i>VAC</i>, built on python function 'lamb.lang.binary_vacuous'<br />&nbsp;&nbsp;&nbsp;&nbsp;Typeshift <i>UnitShift</i>, built on combinator '$\\lambda{} p_{X} \\: . \\: \\{{p}\\}$'<br />&nbsp;&nbsp;&nbsp;&nbsp;Unary composition rule <i>Unit</i>, built on combinator '$\\lambda{} p_{X} \\: . \\: \\{{p}\\}$'<br />&nbsp;&nbsp;&nbsp;&nbsp;Typeshift <i>Set</i>, built on combinator '$\\lambda{} f_{\\left\\langle{}X,t\\right\\rangle{}} \\: . \\: \\{{x}_{X} \\:|\\: {f}({x}_{X})\\}$'<br />&nbsp;&nbsp;&nbsp;&nbsp;Typeshift <i>Reader Unit</i>, built on combinator '$\\lambda{} p_{X} \\: . \\: \\lambda{} w_{s} \\: . \\: {p}$'<br />&nbsp;&nbsp;&nbsp;&nbsp;Binary composition rule <i>Bind</i>, built on combinator '$\\lambda{} m_{\\left\\langle{}s,\\left\\{X\\right\\}\\right\\rangle{}} \\: . \\: \\lambda{} f_{\\left\\langle{}X,\\left\\langle{}s,\\left\\{Y\\right\\}\\right\\rangle{}\\right\\rangle{}} \\: . \\: \\lambda{} w_{s} \\: . \\: \\bigcup{} x_{X} \\in {\\small {m}_{\\left\\langle{}s,\\left\\{X\\right\\}\\right\\rangle{}}({w}_{s})} \\: . \\: {f}({x})({w})$'<br />}"
      ],
      "text/plain": [
       "Composition system: Type-driven composition (copy)"
      ]
     },
     "execution_count": 110,
     "metadata": {},
     "output_type": "execute_result"
    }
   ],
   "source": [
    "system = lang.td_system.copy()\n",
    "lang.set_system(system)\n",
    "type_s = types.BasicType(\"s\")\n",
    "system.add_basic_type(type_s)\n",
    "system.add_typeshift(unit, \"UnitShift\")\n",
    "system.add_unary_rule(unit, \"Unit\")\n",
    "\n",
    "system.add_typeshift(te(\"L f_<X,t> : Set x_X : f(x)\"), \"Set\")\n",
    "system.add_typeshift(sunit, \"Reader Unit\")\n",
    "\n",
    "# system.add_binary_rule(bind, \"Bind\")\n",
    "system.add_binary_rule(sbind, \"Bind\")\n",
    "\n",
    "# we don't actually use lifted apply here...what if we did?\n",
    "# system.add_binary_rule(psapply, \"LiftedFA\")\n",
    "# do a bit of cleanup, we don't need PM here.\n",
    "system.remove_rule('PM')\n",
    "system.typeshift = True\n",
    "system"
   ]
  },
  {
   "cell_type": "code",
   "execution_count": 115,
   "id": "b89451fd-c947-4aee-acf6-fff1f2bb5816",
   "metadata": {},
   "outputs": [
    {
     "data": {
      "text/markdown": [
       "$[\\![\\text{\\textbf{a\\_linguist}}]\\!]^{}_{\\left\\langle{}s,\\left\\{e\\right\\}\\right\\rangle{}} \\:=\\: \\lambda{} w_{s} \\: . \\: \\{{x}_{e} \\:|\\: {Linguist}({x}_{e}, {w})\\}$<br />\n",
       "$[\\![\\text{\\textbf{a\\_philosopher}}]\\!]^{}_{\\left\\langle{}s,\\left\\{e\\right\\}\\right\\rangle{}} \\:=\\: \\lambda{} w_{s} \\: . \\: \\{{x}_{e} \\:|\\: {Philosopher}({x}_{e}, {w})\\}$<br />\n",
       "$[\\![\\text{\\textbf{a\\_relative}}]\\!]^{}_{\\left\\langle{}s,\\left\\{e\\right\\}\\right\\rangle{}} \\:=\\: \\lambda{} w_{s} \\: . \\: \\{{x}_{e} \\:|\\: {Relative}({x}_{e}, {w})\\}$<br />\n",
       "$[\\![\\text{\\textbf{if\\_}}]\\!]^{}_{\\left\\langle{}\\left\\langle{}s,\\left\\{\\left\\langle{}s,t\\right\\rangle{}\\right\\}\\right\\rangle{},\\left\\langle{}\\left\\langle{}s,\\left\\{\\left\\langle{}s,t\\right\\rangle{}\\right\\}\\right\\rangle{},\\left\\{\\left\\langle{}s,t\\right\\rangle{}\\right\\}\\right\\rangle{}\\right\\rangle{}} \\:=\\: \\lambda{} m_{\\left\\langle{}s,\\left\\{\\left\\langle{}s,t\\right\\rangle{}\\right\\}\\right\\rangle{}} \\: . \\: \\lambda{} n_{\\left\\langle{}s,\\left\\{\\left\\langle{}s,t\\right\\rangle{}\\right\\}\\right\\rangle{}} \\: . \\: \\{{If}_{\\left\\langle{}\\left\\langle{}s,t\\right\\rangle{},\\left\\langle{}\\left\\langle{}s,t\\right\\rangle{},\\left\\langle{}s,t\\right\\rangle{}\\right\\rangle{}\\right\\rangle{}}(\\lambda{} w_{s} \\: . \\: \\exists{} p_{\\left\\langle{}s,t\\right\\rangle{}} \\in {\\small {m}_{\\left\\langle{}s,\\left\\{\\left\\langle{}s,t\\right\\rangle{}\\right\\}\\right\\rangle{}}({w}_{s})} \\: . \\: {p}({w}))(\\lambda{} w_{s} \\: . \\: \\exists{} p_{\\left\\langle{}s,t\\right\\rangle{}} \\in {\\small {n}_{\\left\\langle{}s,\\left\\{\\left\\langle{}s,t\\right\\rangle{}\\right\\}\\right\\rangle{}}({w}_{s})} \\: . \\: {p}({w}))\\}$<br />\n",
       "$[\\![\\text{\\textbf{dies}}]\\!]^{}_{\\left\\langle{}e,\\left\\langle{}s,t\\right\\rangle{}\\right\\rangle{}} \\:=\\: \\lambda{} x_{e} \\: . \\: \\lambda{} w_{s} \\: . \\: {Dies}({x}, {w})$<br />\n",
       "$[\\![\\text{\\textbf{visits}}]\\!]^{}_{\\left\\langle{}e,\\left\\langle{}e,\\left\\langle{}s,t\\right\\rangle{}\\right\\rangle{}\\right\\rangle{}} \\:=\\: \\lambda{} y_{e} \\: . \\: \\lambda{} x_{e} \\: . \\: \\lambda{} w_{s} \\: . \\: {Visits}({x}, {y}, {w})$<br />\n",
       "$[\\![\\text{\\textbf{house}}]\\!]^{}_{\\left\\langle{}s,t\\right\\rangle{}} \\:=\\: \\lambda{} w_{s} \\: . \\: {InheritHouse}_{\\left\\langle{}s,t\\right\\rangle{}}({w})$"
      ],
      "text/plain": [
       "⟦a_linguist⟧ = (λ w_s: (Set x_e: Linguist_<(e,s),t>(x_e, w_s)))\n",
       "⟦a_philosopher⟧ = (λ w_s: (Set x_e: Philosopher_<(e,s),t>(x_e, w_s)))\n",
       "⟦a_relative⟧ = (λ w_s: (Set x_e: Relative_<(e,s),t>(x_e, w_s)))\n",
       "⟦if_⟧ = (λ m_<s,{<s,t>}>: (λ n_<s,{<s,t>}>: {If_<<s,t>,<<s,t>,<s,t>>>(λ w_s: (Exists p_<s,t> << m_<s,{<s,t>}>(w_s): p_<s,t>(w_s)))(λ w_s: (Exists p_<s,t> << n_<s,{<s,t>}>(w_s): p_<s,t>(w_s)))}))\n",
       "⟦dies⟧ = (λ x_e: (λ w_s: Dies_<(e,s),t>(x_e, w_s)))\n",
       "⟦visits⟧ = (λ y_e: (λ x_e: (λ w_s: Visits_<(e,e,s),t>(x_e, y_e, w_s))))\n",
       "⟦house⟧ = (λ w_s: InheritHouse_<s,t>(w_s))"
      ]
     },
     "metadata": {},
     "output_type": "display_data"
    }
   ],
   "source": [
    "%%lamb\n",
    "# ||a_linguist|| = Set x_e : Linguist_<e,t>(x)\n",
    "# ||a_philosopher|| = Set x_e : Philosopher_<e,t>(x)\n",
    "# ||a_relative|| = Set x_e : Relative_<e,t>(x)\n",
    "||a_linguist|| = L w_s : Set x_e : Linguist_<(e,s),t>(x,w)\n",
    "||a_philosopher|| = L w_s : Set x_e : Philosopher_<(e,s),t>(x,w)\n",
    "||a_relative|| = L w_s : Set x_e : Relative_<(e,s),t>(x,w)\n",
    "\n",
    "# ||if_|| = L m_{s} : L n_{s} : {If_<{s},<{s},t>>(m)(n)}\n",
    "||if_|| = L m_<s,{<s,t>}> : L n_<s,{<s,t>}> : {If_<<s,t>,<<s,t>,<s,t>>>(sclosure(m))(sclosure(n))}\n",
    "\n",
    "||dies|| = L x_e: L w_s: Dies_<(e,s),t>(x,w)\n",
    "||visits|| = L y_e : L x_e: L w_s: Visits_<(e,e,s),t>(x,y,w)\n",
    "||house|| = L w_s : InheritHouse_<s,t>(w)"
   ]
  },
  {
   "cell_type": "code",
   "execution_count": 117,
   "id": "33e39bf0-6fc9-4aa2-ab45-c618691d15fa",
   "metadata": {},
   "outputs": [
    {
     "data": {
      "text/latex": [
       "$\\lambda{} w_{s} \\: . \\: \\{(\\lambda{} w_{s} \\: . \\: {InheritHouse}_{\\left\\langle{}s,t\\right\\rangle{}}({w}))\\}$"
      ],
      "text/plain": [
       "(λ w_s: {(λ w_s: InheritHouse_<s,t>(w_s))})"
      ]
     },
     "execution_count": 117,
     "metadata": {},
     "output_type": "execute_result"
    }
   ],
   "source": [
    "sunit(unit(house.content)).reduce_all()"
   ]
  },
  {
   "cell_type": "code",
   "execution_count": 114,
   "id": "6cb699d0-137b-443d-8d97-5c623a73fbd8",
   "metadata": {},
   "outputs": [
    {
     "data": {
      "text/markdown": [
       "$[\\![\\text{\\textbf{asdf}}]\\!]^{}_{\\left\\langle{}s,\\left\\langle{}s,t\\right\\rangle{}\\right\\rangle{}} \\:=\\: \\lambda{} w_{s} \\: . \\: \\lambda{} w_{s} \\: . \\: {InheritHouse}_{\\left\\langle{}s,t\\right\\rangle{}}({w})$"
      ],
      "text/plain": [
       "⟦asdf⟧ = (λ w_s: (λ w_s: InheritHouse_<s,t>(w_s)))"
      ]
     },
     "metadata": {},
     "output_type": "display_data"
    }
   ],
   "source": [
    "# XX bug\n",
    "%lamb ||asdf|| = L w_s : ({L w_s : InheritHouse_<s,t>(w)})"
   ]
  },
  {
   "cell_type": "markdown",
   "id": "1d3ad93b-c51a-45ba-83aa-679d078a4b98",
   "metadata": {},
   "source": [
    "## Core example: scope w.r.t if-clauses\n",
    "\n",
    "If clauses are scope islands; but indefinites can take \"exceptional wide scope\" w.r.t. them.\n",
    "\n",
    "```(1) If a relative dies, I will inherit a house.```\n",
    "\n",
    "To interpret this we:\n",
    "\n",
    "1. move \"a relative\" to the left edge of the `if`-clause.\n",
    "\n",
    "    ```(1a) If [a relative [2 [dies t2]]], I will inherit a house.```\n",
    "\n",
    "2. move the entire scope island to the left edge of its clause. (**roll-up pied piping** / **snowballing movement**)\n",
    "\n",
    "    ```(2) [a relative [2 [dies t2]]] [3 [if p3] [I will inherit a house]]```\n",
    "\n",
    "* \"a relative\" still only takes scope over the if-clause. It cannot by syntactic means bind beyond that. (N.b.: because it's an indefinite, it may still introduce a discourse referent...)\n",
    "* Following Charlow's simplified example, we take the consequent to be an atomic proposition.\n",
    "* **Caveat**: this analysis requires a form of last-resort type shift that needs to be non-locally triggered. That is, on composition with \"a relative\" in the example below, we need to trigger `Unit` on the constituent \"dies t_2\". The lambda notebook only implements last-resort type shifting *locally*, so therefore in the below examples I will manually trigger Unit (via the `* None` idiom)."
   ]
  },
  {
   "cell_type": "code",
   "execution_count": 118,
   "id": "4ede0760-73f2-45d6-ac38-449a315b298d",
   "metadata": {},
   "outputs": [
    {
     "data": {
      "text/markdown": [
       "1 composition path.  Result:<br />\n",
       "&nbsp;&nbsp;&nbsp;&nbsp;[0]: $[\\![\\text{\\textbf{[2 [dies t2]]}}]\\!]^{}_{\\left\\langle{}e,\\left\\langle{}s,t\\right\\rangle{}\\right\\rangle{}} \\:=\\: \\lambda{} x_{e} \\: . \\: \\lambda{} w_{s} \\: . \\: {Dies}({x}, {w})$"
      ],
      "text/plain": [
       "1 composition path.  Result:\n",
       "    [0]: ⟦2⟧ * ⟦[dies t2]⟧ leads to: ⟦[2 [dies t2]]⟧ = (λ x_e: (λ w_s: Dies_<(e,s),t>(x_e, w_s))) [by PA]"
      ]
     },
     "metadata": {},
     "output_type": "display_data"
    }
   ],
   "source": [
    "r = (lang.Binder(2) * (dies * lang.Trace(2)))\n",
    "r"
   ]
  },
  {
   "cell_type": "code",
   "execution_count": 119,
   "id": "617f7d12-2ebe-45a9-83db-1c2e413aaed8",
   "metadata": {},
   "outputs": [
    {
     "data": {
      "text/latex": [
       "$\\lambda{} m_{\\left\\langle{}s,\\left\\{X\\right\\}\\right\\rangle{}} \\: . \\: \\lambda{} f_{\\left\\langle{}X,\\left\\langle{}s,\\left\\{Y\\right\\}\\right\\rangle{}\\right\\rangle{}} \\: . \\: \\lambda{} w_{s} \\: . \\: \\bigcup{} x_{X} \\in {\\small {m}_{\\left\\langle{}s,\\left\\{X\\right\\}\\right\\rangle{}}({w}_{s})} \\: . \\: {f}({x})({w})$"
      ],
      "text/plain": [
       "(λ m_<s,{X}>: (λ f_<X,<s,{Y}>>: (λ w_s: (Union x_X << m_<s,{X}>(w_s): f_<X,<s,{Y}>>(x_X)(w_s)))))"
      ]
     },
     "execution_count": 119,
     "metadata": {},
     "output_type": "execute_result"
    }
   ],
   "source": [
    "sbind"
   ]
  },
  {
   "cell_type": "code",
   "execution_count": 120,
   "id": "87531dd2-b620-414e-83c8-6f700e126f9c",
   "metadata": {},
   "outputs": [
    {
     "data": {
      "text/markdown": [
       "1 composition path.  Result:<br />\n",
       "&nbsp;&nbsp;&nbsp;&nbsp;[0]: $[\\![\\text{\\textbf{[2 [[dies t2]]]}}]\\!]^{}_{\\left\\langle{}e,\\left\\{\\left\\langle{}s,t\\right\\rangle{}\\right\\}\\right\\rangle{}} \\:=\\: \\lambda{} x_{e} \\: . \\: \\{(\\lambda{} w_{s} \\: . \\: {Dies}({x}, {w}))\\}$"
      ],
      "text/plain": [
       "1 composition path.  Result:\n",
       "    [0]: ⟦2⟧ * ⟦[[dies t2]]⟧ leads to: ⟦[2 [[dies t2]]]⟧ = (λ x_e: {(λ w_s: Dies_<(e,s),t>(x_e, w_s))}) [by PA]"
      ]
     },
     "metadata": {},
     "output_type": "display_data"
    }
   ],
   "source": [
    "(lang.Binder(2) * ((dies * lang.Trace(2)) * None))"
   ]
  },
  {
   "cell_type": "code",
   "execution_count": 136,
   "id": "fe361f51-6f47-402b-80fb-ab8562fcfc8c",
   "metadata": {},
   "outputs": [
    {
     "data": {
      "text/markdown": [
       "1 composition path.  Result:<br />\n",
       "&nbsp;&nbsp;&nbsp;&nbsp;[0]: $[\\![\\text{\\textbf{[2 [4 [[[dies t2] t4]]]]}}]\\!]^{}_{\\left\\langle{}e,\\left\\langle{}s,\\left\\{t\\right\\}\\right\\rangle{}\\right\\rangle{}} \\:=\\: \\lambda{} x1_{e} \\: . \\: \\lambda{} x_{s} \\: . \\: \\{{Dies}({x1}, {x})\\}$"
      ],
      "text/plain": [
       "1 composition path.  Result:\n",
       "    [0]: ⟦2⟧ * ⟦[4 [[[dies t2] t4]]]⟧ leads to: ⟦[2 [4 [[[dies t2] t4]]]]⟧ = (λ x1_e: (λ x_s: {Dies_<(e,s),t>(x1_e, x_s)})) [by PA]"
      ]
     },
     "metadata": {},
     "output_type": "display_data"
    }
   ],
   "source": [
    "# XX wacky binding here, is this plausible?\n",
    "vp = (lang.Binder(2) * (lang.Binder(4) * (((dies * lang.Trace(2)) * lang.Trace(4,typ=tp('s'))) * None)))\n",
    "# vp = (lang.Binder(2) * ((dies * lang.Trace(2)) * None))\n",
    "vp"
   ]
  },
  {
   "cell_type": "code",
   "execution_count": 137,
   "id": "cf16cb59-c851-4939-a68f-607335000d67",
   "metadata": {},
   "outputs": [
    {
     "data": {
      "text/latex": [
       "$[\\![\\text{\\textbf{a\\_relative}}]\\!]^{}_{\\left\\langle{}s,\\left\\{e\\right\\}\\right\\rangle{}} \\:=\\: \\lambda{} w_{s} \\: . \\: \\{{x}_{e} \\:|\\: {Relative}({x}_{e}, {w})\\}$"
      ],
      "text/plain": [
       "⟦a_relative⟧ = (λ w_s: (Set x_e: Relative_<(e,s),t>(x_e, w_s)))"
      ]
     },
     "execution_count": 137,
     "metadata": {},
     "output_type": "execute_result"
    }
   ],
   "source": [
    "a_relative"
   ]
  },
  {
   "cell_type": "code",
   "execution_count": null,
   "id": "4933e3aa-df7d-42d1-9c24-32764760e8e6",
   "metadata": {},
   "outputs": [],
   "source": []
  },
  {
   "cell_type": "code",
   "execution_count": 138,
   "id": "4d5a2093-9d67-4555-8810-bab7f79f3a2e",
   "metadata": {},
   "outputs": [
    {
     "data": {
      "text/markdown": [
       "1 composition path.  Result:<br />\n",
       "&nbsp;&nbsp;&nbsp;&nbsp;[0]: $[\\![\\text{\\textbf{[a\\_relative [2 [4 [[[dies t2] t4]]]]]}}]\\!]^{}_{\\left\\langle{}s,\\left\\{t\\right\\}\\right\\rangle{}} \\:=\\: \\lambda{} w_{s} \\: . \\: \\bigcup{} x_{e} \\in {\\small \\{{x}_{e} \\:|\\: {Relative}({x}_{e}, {w}_{s})\\}} \\: . \\: \\{{Dies}({x}, {w})\\}$"
      ],
      "text/plain": [
       "1 composition path.  Result:\n",
       "    [0]: ⟦a_relative⟧ * ⟦[2 [4 [[[dies t2] t4]]]]⟧ leads to: ⟦[a_relative [2 [4 [[[dies t2] t4]]]]]⟧ = (λ w_s: (Union x_e << (Set x_e: Relative_<(e,s),t>(x_e, w_s)): {Dies_<(e,s),t>(x_e, w_s)})) [by Bind]"
      ]
     },
     "metadata": {},
     "output_type": "display_data"
    }
   ],
   "source": [
    "# manually triggered Unit here -- it is needed at a point that is non-local\n",
    "# to the composition failure\n",
    "l = a_relative * vp\n",
    "# l.tree()\n",
    "l"
   ]
  },
  {
   "cell_type": "code",
   "execution_count": 126,
   "id": "6e7bf03d-690e-41d0-9de6-d7820001035e",
   "metadata": {},
   "outputs": [
    {
     "data": {
      "text/latex": [
       "$[\\![\\text{\\textbf{if\\_}}]\\!]^{}_{\\left\\langle{}\\left\\langle{}s,\\left\\{\\left\\langle{}s,t\\right\\rangle{}\\right\\}\\right\\rangle{},\\left\\langle{}\\left\\langle{}s,\\left\\{\\left\\langle{}s,t\\right\\rangle{}\\right\\}\\right\\rangle{},\\left\\{\\left\\langle{}s,t\\right\\rangle{}\\right\\}\\right\\rangle{}\\right\\rangle{}} \\:=\\: \\lambda{} m_{\\left\\langle{}s,\\left\\{\\left\\langle{}s,t\\right\\rangle{}\\right\\}\\right\\rangle{}} \\: . \\: \\lambda{} n_{\\left\\langle{}s,\\left\\{\\left\\langle{}s,t\\right\\rangle{}\\right\\}\\right\\rangle{}} \\: . \\: \\{{If}_{\\left\\langle{}\\left\\langle{}s,t\\right\\rangle{},\\left\\langle{}\\left\\langle{}s,t\\right\\rangle{},\\left\\langle{}s,t\\right\\rangle{}\\right\\rangle{}\\right\\rangle{}}(\\lambda{} w_{s} \\: . \\: \\exists{} p_{\\left\\langle{}s,t\\right\\rangle{}} \\in {\\small {m}_{\\left\\langle{}s,\\left\\{\\left\\langle{}s,t\\right\\rangle{}\\right\\}\\right\\rangle{}}({w}_{s})} \\: . \\: {p}({w}))(\\lambda{} w_{s} \\: . \\: \\exists{} p_{\\left\\langle{}s,t\\right\\rangle{}} \\in {\\small {n}_{\\left\\langle{}s,\\left\\{\\left\\langle{}s,t\\right\\rangle{}\\right\\}\\right\\rangle{}}({w}_{s})} \\: . \\: {p}({w}))\\}$"
      ],
      "text/plain": [
       "⟦if_⟧ = (λ m_<s,{<s,t>}>: (λ n_<s,{<s,t>}>: {If_<<s,t>,<<s,t>,<s,t>>>(λ w_s: (Exists p_<s,t> << m_<s,{<s,t>}>(w_s): p_<s,t>(w_s)))(λ w_s: (Exists p_<s,t> << n_<s,{<s,t>}>(w_s): p_<s,t>(w_s)))}))"
      ]
     },
     "execution_count": 126,
     "metadata": {},
     "output_type": "execute_result"
    }
   ],
   "source": [
    "if_"
   ]
  },
  {
   "cell_type": "code",
   "execution_count": 127,
   "id": "fd4ba995-3c01-4d48-b95c-bd3243300158",
   "metadata": {},
   "outputs": [
    {
     "data": {
      "text/markdown": [
       "1 composition path.  Result:<br />\n",
       "&nbsp;&nbsp;&nbsp;&nbsp;[0]: $[\\![\\text{\\textbf{[if\\_ t3]}}]\\!]^{}_{\\left\\langle{}\\left\\langle{}s,\\left\\{\\left\\langle{}s,t\\right\\rangle{}\\right\\}\\right\\rangle{},\\left\\{\\left\\langle{}s,t\\right\\rangle{}\\right\\}\\right\\rangle{}} \\:=\\: \\lambda{} n_{\\left\\langle{}s,\\left\\{\\left\\langle{}s,t\\right\\rangle{}\\right\\}\\right\\rangle{}} \\: . \\: \\{{If}_{\\left\\langle{}\\left\\langle{}s,t\\right\\rangle{},\\left\\langle{}\\left\\langle{}s,t\\right\\rangle{},\\left\\langle{}s,t\\right\\rangle{}\\right\\rangle{}\\right\\rangle{}}(\\lambda{} w_{s} \\: . \\: \\exists{} p_{\\left\\langle{}s,t\\right\\rangle{}} \\in {\\small {var3}_{\\left\\langle{}s,\\left\\{\\left\\langle{}s,t\\right\\rangle{}\\right\\}\\right\\rangle{}}({w}_{s})} \\: . \\: {p}({w}))(\\lambda{} w_{s} \\: . \\: \\exists{} p_{\\left\\langle{}s,t\\right\\rangle{}} \\in {\\small {n}_{\\left\\langle{}s,\\left\\{\\left\\langle{}s,t\\right\\rangle{}\\right\\}\\right\\rangle{}}({w}_{s})} \\: . \\: {p}({w}))\\}$"
      ],
      "text/plain": [
       "1 composition path.  Result:\n",
       "    [0]: ⟦if_⟧ * ⟦t3⟧ leads to: ⟦[if_ t3]⟧ = (λ n_<s,{<s,t>}>: {If_<<s,t>,<<s,t>,<s,t>>>(λ w_s: (Exists p_<s,t> << var3_<s,{<s,t>}>(w_s): p_<s,t>(w_s)))(λ w_s: (Exists p_<s,t> << n_<s,{<s,t>}>(w_s): p_<s,t>(w_s)))}) [by FA]"
      ]
     },
     "metadata": {},
     "output_type": "display_data"
    }
   ],
   "source": [
    "(if_ * (lang.Trace(3, typ=tp(\"<s,{<s,t>}>\"))))"
   ]
  },
  {
   "cell_type": "code",
   "execution_count": 128,
   "id": "a2f4237b-0a9e-46bc-8a66-1bc8d0065a62",
   "metadata": {},
   "outputs": [
    {
     "data": {
      "text/markdown": [
       "1 composition path.  Result:<br />\n",
       "&nbsp;&nbsp;&nbsp;&nbsp;[0]: $[\\![\\text{\\textbf{[[if\\_ t3] [[house]]]}}]\\!]^{}_{\\left\\{\\left\\langle{}s,t\\right\\rangle{}\\right\\}} \\:=\\: \\{{If}_{\\left\\langle{}\\left\\langle{}s,t\\right\\rangle{},\\left\\langle{}\\left\\langle{}s,t\\right\\rangle{},\\left\\langle{}s,t\\right\\rangle{}\\right\\rangle{}\\right\\rangle{}}(\\lambda{} w_{s} \\: . \\: \\exists{} p_{\\left\\langle{}s,t\\right\\rangle{}} \\in {\\small {var3}_{\\left\\langle{}s,\\left\\{\\left\\langle{}s,t\\right\\rangle{}\\right\\}\\right\\rangle{}}({w}_{s})} \\: . \\: {p}({w}))(\\lambda{} w_{s} \\: . \\: {InheritHouse}_{\\left\\langle{}s,t\\right\\rangle{}}({w}))\\}$"
      ],
      "text/plain": [
       "1 composition path.  Result:\n",
       "    [0]: ⟦[if_ t3]⟧ * ⟦[[house]]⟧ leads to: ⟦[[if_ t3] [[house]]]⟧ = {If_<<s,t>,<<s,t>,<s,t>>>(λ w_s: (Exists p_<s,t> << var3_<s,{<s,t>}>(w_s): p_<s,t>(w_s)))(λ w_s: InheritHouse_<s,t>(w_s))} [by FA]"
      ]
     },
     "metadata": {},
     "output_type": "display_data"
    }
   ],
   "source": [
    "((if_ * (lang.Trace(3, typ=tp(\"<s,{<s,t>}>\")))) * house)"
   ]
  },
  {
   "cell_type": "code",
   "execution_count": 132,
   "id": "57cc9b56-33f9-4e69-8110-225f77ff1951",
   "metadata": {},
   "outputs": [
    {
     "data": {
      "text/markdown": [
       "1 composition path.  Result:<br />\n",
       "&nbsp;&nbsp;&nbsp;&nbsp;[0]: $[\\![\\text{\\textbf{[3 [[if\\_ t3] [[house]]]]}}]\\!]^{}_{\\left\\langle{}\\left\\langle{}s,\\left\\{\\left\\langle{}s,t\\right\\rangle{}\\right\\}\\right\\rangle{},\\left\\{\\left\\langle{}s,t\\right\\rangle{}\\right\\}\\right\\rangle{}} \\:=\\: \\lambda{} x_{\\left\\langle{}s,\\left\\{\\left\\langle{}s,t\\right\\rangle{}\\right\\}\\right\\rangle{}} \\: . \\: \\{{If}_{\\left\\langle{}\\left\\langle{}s,t\\right\\rangle{},\\left\\langle{}\\left\\langle{}s,t\\right\\rangle{},\\left\\langle{}s,t\\right\\rangle{}\\right\\rangle{}\\right\\rangle{}}(\\lambda{} w_{s} \\: . \\: \\exists{} p_{\\left\\langle{}s,t\\right\\rangle{}} \\in {\\small {x}_{\\left\\langle{}s,\\left\\{\\left\\langle{}s,t\\right\\rangle{}\\right\\}\\right\\rangle{}}({w}_{s})} \\: . \\: {p}({w}))(\\lambda{} w_{s} \\: . \\: {InheritHouse}_{\\left\\langle{}s,t\\right\\rangle{}}({w}))\\}$"
      ],
      "text/plain": [
       "1 composition path.  Result:\n",
       "    [0]: ⟦3⟧ * ⟦[[if_ t3] [[house]]]⟧ leads to: ⟦[3 [[if_ t3] [[house]]]]⟧ = (λ x_<s,{<s,t>}>: {If_<<s,t>,<<s,t>,<s,t>>>(λ w_s: (Exists p_<s,t> << x_<s,{<s,t>}>(w_s): p_<s,t>(w_s)))(λ w_s: InheritHouse_<s,t>(w_s))}) [by PA]"
      ]
     },
     "metadata": {},
     "output_type": "display_data"
    }
   ],
   "source": [
    "r = lang.Binder(3) * ((if_ * (lang.Trace(3, typ=tp(\"<s,{<s,t>}>\")))) * house)\n",
    "# r.tree()\n",
    "r"
   ]
  },
  {
   "cell_type": "code",
   "execution_count": null,
   "id": "404b09bc-f186-4b24-bcf2-db785415607a",
   "metadata": {},
   "outputs": [],
   "source": []
  },
  {
   "cell_type": "code",
   "execution_count": 133,
   "id": "c2a33b12-4c56-46d0-a883-674111d95cc1",
   "metadata": {},
   "outputs": [
    {
     "data": {
      "text/markdown": [
       "Composition of \"[[a_relative [2 [4 [[[dies t2] t4]]]]] [3 [[if_ t3] house]]]\" failed:<br />\n",
       "&nbsp;&nbsp;&nbsp;&nbsp;<span style=\"color:red\">**TypeMismatch**</span>: $[\\![\\text{\\textbf{[a\\_relative [2 [4 [[[dies t2] t4]]]]]}}]\\!]^{}_{\\left\\langle{}s,\\left\\{t\\right\\}\\right\\rangle{}} \\:=\\: \\lambda{} w_{s} \\: . \\: \\bigcup{} x_{e} \\in {\\small \\{{x}_{e} \\:|\\: {Relative}({x}_{e}, {w}_{s})\\}} \\: . \\: \\{{Dies}({x}, {w})\\}$/$\\left\\langle{}s,\\left\\{t\\right\\}\\right\\rangle{}$ and $[\\![\\text{\\textbf{[3 [[if\\_ t3] [[house]]]]}}]\\!]^{}_{\\left\\langle{}\\left\\langle{}s,\\left\\{\\left\\langle{}s,t\\right\\rangle{}\\right\\}\\right\\rangle{},\\left\\{\\left\\langle{}s,t\\right\\rangle{}\\right\\}\\right\\rangle{}} \\:=\\: \\lambda{} x_{\\left\\langle{}s,\\left\\{\\left\\langle{}s,t\\right\\rangle{}\\right\\}\\right\\rangle{}} \\: . \\: \\{{If}_{\\left\\langle{}\\left\\langle{}s,t\\right\\rangle{},\\left\\langle{}\\left\\langle{}s,t\\right\\rangle{},\\left\\langle{}s,t\\right\\rangle{}\\right\\rangle{}\\right\\rangle{}}(\\lambda{} w_{s} \\: . \\: \\exists{} p_{\\left\\langle{}s,t\\right\\rangle{}} \\in {\\small {x}_{\\left\\langle{}s,\\left\\{\\left\\langle{}s,t\\right\\rangle{}\\right\\}\\right\\rangle{}}({w}_{s})} \\: . \\: {p}({w}))(\\lambda{} w_{s} \\: . \\: {InheritHouse}_{\\left\\langle{}s,t\\right\\rangle{}}({w}))\\}$/$\\left\\langle{}\\left\\langle{}s,\\left\\{\\left\\langle{}s,t\\right\\rangle{}\\right\\}\\right\\rangle{},\\left\\{\\left\\langle{}s,t\\right\\rangle{}\\right\\}\\right\\rangle{}$ conflict (Function Application)<br />\n",
       "&nbsp;&nbsp;&nbsp;&nbsp;<span style=\"color:red\">**TypeMismatch**</span>: $[\\![\\text{\\textbf{[3 [[if\\_ t3] [[house]]]]}}]\\!]^{}_{\\left\\langle{}\\left\\langle{}s,\\left\\{\\left\\langle{}s,t\\right\\rangle{}\\right\\}\\right\\rangle{},\\left\\{\\left\\langle{}s,t\\right\\rangle{}\\right\\}\\right\\rangle{}} \\:=\\: \\lambda{} x_{\\left\\langle{}s,\\left\\{\\left\\langle{}s,t\\right\\rangle{}\\right\\}\\right\\rangle{}} \\: . \\: \\{{If}_{\\left\\langle{}\\left\\langle{}s,t\\right\\rangle{},\\left\\langle{}\\left\\langle{}s,t\\right\\rangle{},\\left\\langle{}s,t\\right\\rangle{}\\right\\rangle{}\\right\\rangle{}}(\\lambda{} w_{s} \\: . \\: \\exists{} p_{\\left\\langle{}s,t\\right\\rangle{}} \\in {\\small {x}_{\\left\\langle{}s,\\left\\{\\left\\langle{}s,t\\right\\rangle{}\\right\\}\\right\\rangle{}}({w}_{s})} \\: . \\: {p}({w}))(\\lambda{} w_{s} \\: . \\: {InheritHouse}_{\\left\\langle{}s,t\\right\\rangle{}}({w}))\\}$/$\\left\\langle{}\\left\\langle{}s,\\left\\{\\left\\langle{}s,t\\right\\rangle{}\\right\\}\\right\\rangle{},\\left\\{\\left\\langle{}s,t\\right\\rangle{}\\right\\}\\right\\rangle{}$ and $[\\![\\text{\\textbf{[a\\_relative [2 [4 [[[dies t2] t4]]]]]}}]\\!]^{}_{\\left\\langle{}s,\\left\\{t\\right\\}\\right\\rangle{}} \\:=\\: \\lambda{} w_{s} \\: . \\: \\bigcup{} x_{e} \\in {\\small \\{{x}_{e} \\:|\\: {Relative}({x}_{e}, {w}_{s})\\}} \\: . \\: \\{{Dies}({x}, {w})\\}$/$\\left\\langle{}s,\\left\\{t\\right\\}\\right\\rangle{}$ conflict (Function Application)<br />\n",
       "&nbsp;&nbsp;&nbsp;&nbsp;<span style=\"color:red\"><b>Composition failure</b></span> (PA requires a valid binder) on: $[\\![\\text{\\textbf{[a\\_relative [2 [4 [[[dies t2] t4]]]]]}}]\\!]^{}_{\\left\\langle{}s,\\left\\{t\\right\\}\\right\\rangle{}} \\:=\\: \\lambda{} w_{s} \\: . \\: \\bigcup{} x_{e} \\in {\\small \\{{x}_{e} \\:|\\: {Relative}({x}_{e}, {w}_{s})\\}} \\: . \\: \\{{Dies}({x}, {w})\\}$ * $[\\![\\text{\\textbf{[3 [[if\\_ t3] [[house]]]]}}]\\!]^{}_{\\left\\langle{}\\left\\langle{}s,\\left\\{\\left\\langle{}s,t\\right\\rangle{}\\right\\}\\right\\rangle{},\\left\\{\\left\\langle{}s,t\\right\\rangle{}\\right\\}\\right\\rangle{}} \\:=\\: \\lambda{} x_{\\left\\langle{}s,\\left\\{\\left\\langle{}s,t\\right\\rangle{}\\right\\}\\right\\rangle{}} \\: . \\: \\{{If}_{\\left\\langle{}\\left\\langle{}s,t\\right\\rangle{},\\left\\langle{}\\left\\langle{}s,t\\right\\rangle{},\\left\\langle{}s,t\\right\\rangle{}\\right\\rangle{}\\right\\rangle{}}(\\lambda{} w_{s} \\: . \\: \\exists{} p_{\\left\\langle{}s,t\\right\\rangle{}} \\in {\\small {x}_{\\left\\langle{}s,\\left\\{\\left\\langle{}s,t\\right\\rangle{}\\right\\}\\right\\rangle{}}({w}_{s})} \\: . \\: {p}({w}))(\\lambda{} w_{s} \\: . \\: {InheritHouse}_{\\left\\langle{}s,t\\right\\rangle{}}({w}))\\}$<br />\n",
       "&nbsp;&nbsp;&nbsp;&nbsp;<span style=\"color:red\"><b>Composition failure</b></span> (PA requires a valid binder) on: $[\\![\\text{\\textbf{[3 [[if\\_ t3] [[house]]]]}}]\\!]^{}_{\\left\\langle{}\\left\\langle{}s,\\left\\{\\left\\langle{}s,t\\right\\rangle{}\\right\\}\\right\\rangle{},\\left\\{\\left\\langle{}s,t\\right\\rangle{}\\right\\}\\right\\rangle{}} \\:=\\: \\lambda{} x_{\\left\\langle{}s,\\left\\{\\left\\langle{}s,t\\right\\rangle{}\\right\\}\\right\\rangle{}} \\: . \\: \\{{If}_{\\left\\langle{}\\left\\langle{}s,t\\right\\rangle{},\\left\\langle{}\\left\\langle{}s,t\\right\\rangle{},\\left\\langle{}s,t\\right\\rangle{}\\right\\rangle{}\\right\\rangle{}}(\\lambda{} w_{s} \\: . \\: \\exists{} p_{\\left\\langle{}s,t\\right\\rangle{}} \\in {\\small {x}_{\\left\\langle{}s,\\left\\{\\left\\langle{}s,t\\right\\rangle{}\\right\\}\\right\\rangle{}}({w}_{s})} \\: . \\: {p}({w}))(\\lambda{} w_{s} \\: . \\: {InheritHouse}_{\\left\\langle{}s,t\\right\\rangle{}}({w}))\\}$ * $[\\![\\text{\\textbf{[a\\_relative [2 [4 [[[dies t2] t4]]]]]}}]\\!]^{}_{\\left\\langle{}s,\\left\\{t\\right\\}\\right\\rangle{}} \\:=\\: \\lambda{} w_{s} \\: . \\: \\bigcup{} x_{e} \\in {\\small \\{{x}_{e} \\:|\\: {Relative}({x}_{e}, {w}_{s})\\}} \\: . \\: \\{{Dies}({x}, {w})\\}$<br />\n",
       "&nbsp;&nbsp;&nbsp;&nbsp;<span style=\"color:red\">**TypeMismatch**</span>: $[\\![\\text{\\textbf{[a\\_relative [2 [4 [[[dies t2] t4]]]]]}}]\\!]^{}_{\\left\\langle{}s,\\left\\{t\\right\\}\\right\\rangle{}} \\:=\\: \\lambda{} w_{s} \\: . \\: \\bigcup{} x_{e} \\in {\\small \\{{x}_{e} \\:|\\: {Relative}({x}_{e}, {w}_{s})\\}} \\: . \\: \\{{Dies}({x}, {w})\\}$/$\\left\\langle{}s,\\left\\{t\\right\\}\\right\\rangle{}$ and $[\\![\\text{\\textbf{[3 [[if\\_ t3] [[house]]]]}}]\\!]^{}_{\\left\\langle{}\\left\\langle{}s,\\left\\{\\left\\langle{}s,t\\right\\rangle{}\\right\\}\\right\\rangle{},\\left\\{\\left\\langle{}s,t\\right\\rangle{}\\right\\}\\right\\rangle{}} \\:=\\: \\lambda{} x_{\\left\\langle{}s,\\left\\{\\left\\langle{}s,t\\right\\rangle{}\\right\\}\\right\\rangle{}} \\: . \\: \\{{If}_{\\left\\langle{}\\left\\langle{}s,t\\right\\rangle{},\\left\\langle{}\\left\\langle{}s,t\\right\\rangle{},\\left\\langle{}s,t\\right\\rangle{}\\right\\rangle{}\\right\\rangle{}}(\\lambda{} w_{s} \\: . \\: \\exists{} p_{\\left\\langle{}s,t\\right\\rangle{}} \\in {\\small {x}_{\\left\\langle{}s,\\left\\{\\left\\langle{}s,t\\right\\rangle{}\\right\\}\\right\\rangle{}}({w}_{s})} \\: . \\: {p}({w}))(\\lambda{} w_{s} \\: . \\: {InheritHouse}_{\\left\\langle{}s,t\\right\\rangle{}}({w}))\\}$/$\\left\\langle{}\\left\\langle{}s,\\left\\{\\left\\langle{}s,t\\right\\rangle{}\\right\\}\\right\\rangle{},\\left\\{\\left\\langle{}s,t\\right\\rangle{}\\right\\}\\right\\rangle{}$ conflict (Need at least one fully vacuous element)<br />\n",
       "&nbsp;&nbsp;&nbsp;&nbsp;<span style=\"color:red\">**TypeMismatch**</span>: `(λ m_<s,{t}>: (λ f_<t,<s,{?2727}>>: (λ w_s: (Union x_t << m_<s,{t}>(w_s): f_<t,<s,{?2727}>>(x_t)(w_s)))))(λ w_s: (Union x_e << (Set x_e: Relative_<(e,s),t>(x_e, w_s)): {Dies_<(e,s),t>(x_e, w_s)}))/<<t,<s,{?2727}>>,<s,{?2727}>>` and `(λ x_<s,{<s,t>}>: {If_<<s,t>,<<s,t>,<s,t>>>(λ w_s: (Exists p_<s,t> << x_<s,{<s,t>}>(w_s): p_<s,t>(w_s)))(λ w_s: InheritHouse_<s,t>(w_s))})/<<s,{<s,t>}>,{<s,t>}>` conflict (Function-argument expression: mismatched argument types `<t,<s,{?2727}>>` and `<<s,{<s,t>}>,{<s,t>}>`)<br />\n",
       "&nbsp;&nbsp;&nbsp;&nbsp;<span style=\"color:red\">**TypeMismatch**</span>: `(λ m_<s,{?2731}>: (λ f_<?2731,<s,{?2732}>>: (λ w_s: (Union x_?2731 << m_<s,{?2731}>(w_s): f_<?2731,<s,{?2732}>>(x_?2731)(w_s)))))/<<s,{?2731}>,<<?2731,<s,{?2732}>>,<s,{?2732}>>>` and `(λ x_<s,{<s,t>}>: {If_<<s,t>,<<s,t>,<s,t>>>(λ w_s: (Exists p_<s,t> << x_<s,{<s,t>}>(w_s): p_<s,t>(w_s)))(λ w_s: InheritHouse_<s,t>(w_s))})/<<s,{<s,t>}>,{<s,t>}>` conflict (Function-argument expression: mismatched argument types `<s,{?2731}>` and `<<s,{<s,t>}>,{<s,t>}>`)<br />\n"
      ],
      "text/plain": [
       "Composition of \"[[a_relative [2 [4 [[[dies t2] t4]]]]] [3 [[if_ t3] house]]]\" failed:\n",
       "    TypeMismatch: `⟦[a_relative [2 [4 [[[dies t2] t4]]]]]⟧ = (λ w_s: (Union x_e << (Set x_e: Relative_<(e,s),t>(x_e, w_s)): {Dies_<(e,s),t>(x_e, w_s)}))/<s,{t}>` and `⟦[3 [[if_ t3] [[house]]]]⟧ = (λ x_<s,{<s,t>}>: {If_<<s,t>,<<s,t>,<s,t>>>(λ w_s: (Exists p_<s,t> << x_<s,{<s,t>}>(w_s): p_<s,t>(w_s)))(λ w_s: InheritHouse_<s,t>(w_s))})/<<s,{<s,t>}>,{<s,t>}>` conflict (Function Application)\n",
       "    TypeMismatch: `⟦[3 [[if_ t3] [[house]]]]⟧ = (λ x_<s,{<s,t>}>: {If_<<s,t>,<<s,t>,<s,t>>>(λ w_s: (Exists p_<s,t> << x_<s,{<s,t>}>(w_s): p_<s,t>(w_s)))(λ w_s: InheritHouse_<s,t>(w_s))})/<<s,{<s,t>}>,{<s,t>}>` and `⟦[a_relative [2 [4 [[[dies t2] t4]]]]]⟧ = (λ w_s: (Union x_e << (Set x_e: Relative_<(e,s),t>(x_e, w_s)): {Dies_<(e,s),t>(x_e, w_s)}))/<s,{t}>` conflict (Function Application)\n",
       "    Composition failure (PA requires a valid binder) on: ⟦[a_relative [2 [4 [[[dies t2] t4]]]]]⟧ = (λ w_s: (Union x_e << (Set x_e: Relative_<(e,s),t>(x_e, w_s)): {Dies_<(e,s),t>(x_e, w_s)})) * ⟦[3 [[if_ t3] [[house]]]]⟧ = (λ x_<s,{<s,t>}>: {If_<<s,t>,<<s,t>,<s,t>>>(λ w_s: (Exists p_<s,t> << x_<s,{<s,t>}>(w_s): p_<s,t>(w_s)))(λ w_s: InheritHouse_<s,t>(w_s))})\n",
       "    Composition failure (PA requires a valid binder) on: ⟦[3 [[if_ t3] [[house]]]]⟧ = (λ x_<s,{<s,t>}>: {If_<<s,t>,<<s,t>,<s,t>>>(λ w_s: (Exists p_<s,t> << x_<s,{<s,t>}>(w_s): p_<s,t>(w_s)))(λ w_s: InheritHouse_<s,t>(w_s))}) * ⟦[a_relative [2 [4 [[[dies t2] t4]]]]]⟧ = (λ w_s: (Union x_e << (Set x_e: Relative_<(e,s),t>(x_e, w_s)): {Dies_<(e,s),t>(x_e, w_s)}))\n",
       "    TypeMismatch: `⟦[a_relative [2 [4 [[[dies t2] t4]]]]]⟧ = (λ w_s: (Union x_e << (Set x_e: Relative_<(e,s),t>(x_e, w_s)): {Dies_<(e,s),t>(x_e, w_s)}))/<s,{t}>` and `⟦[3 [[if_ t3] [[house]]]]⟧ = (λ x_<s,{<s,t>}>: {If_<<s,t>,<<s,t>,<s,t>>>(λ w_s: (Exists p_<s,t> << x_<s,{<s,t>}>(w_s): p_<s,t>(w_s)))(λ w_s: InheritHouse_<s,t>(w_s))})/<<s,{<s,t>}>,{<s,t>}>` conflict (Need at least one fully vacuous element)\n",
       "    TypeMismatch: `(λ m_<s,{t}>: (λ f_<t,<s,{?2727}>>: (λ w_s: (Union x_t << m_<s,{t}>(w_s): f_<t,<s,{?2727}>>(x_t)(w_s)))))(λ w_s: (Union x_e << (Set x_e: Relative_<(e,s),t>(x_e, w_s)): {Dies_<(e,s),t>(x_e, w_s)}))/<<t,<s,{?2727}>>,<s,{?2727}>>` and `(λ x_<s,{<s,t>}>: {If_<<s,t>,<<s,t>,<s,t>>>(λ w_s: (Exists p_<s,t> << x_<s,{<s,t>}>(w_s): p_<s,t>(w_s)))(λ w_s: InheritHouse_<s,t>(w_s))})/<<s,{<s,t>}>,{<s,t>}>` conflict (Function-argument expression: mismatched argument types `<t,<s,{?2727}>>` and `<<s,{<s,t>}>,{<s,t>}>`)\n",
       "    TypeMismatch: `(λ m_<s,{?2731}>: (λ f_<?2731,<s,{?2732}>>: (λ w_s: (Union x_?2731 << m_<s,{?2731}>(w_s): f_<?2731,<s,{?2732}>>(x_?2731)(w_s)))))/<<s,{?2731}>,<<?2731,<s,{?2732}>>,<s,{?2732}>>>` and `(λ x_<s,{<s,t>}>: {If_<<s,t>,<<s,t>,<s,t>>>(λ w_s: (Exists p_<s,t> << x_<s,{<s,t>}>(w_s): p_<s,t>(w_s)))(λ w_s: InheritHouse_<s,t>(w_s))})/<<s,{<s,t>}>,{<s,t>}>` conflict (Function-argument expression: mismatched argument types `<s,{?2731}>` and `<<s,{<s,t>}>,{<s,t>}>`)"
      ]
     },
     "metadata": {},
     "output_type": "display_data"
    }
   ],
   "source": [
    "l * r"
   ]
  },
  {
   "cell_type": "code",
   "execution_count": null,
   "id": "ef1d95bb-4dee-41d5-bc00-a2c20b8b528f",
   "metadata": {},
   "outputs": [],
   "source": []
  },
  {
   "cell_type": "code",
   "execution_count": null,
   "id": "5280fd80-bdd7-47d2-b481-8630349ae164",
   "metadata": {},
   "outputs": [],
   "source": []
  },
  {
   "cell_type": "code",
   "execution_count": 931,
   "id": "c55522d7-9588-4de3-ac22-724b7761d6cf",
   "metadata": {},
   "outputs": [
    {
     "data": {
      "image/svg+xml": [
       "<svg baseProfile=\"full\" height=\"264px\" preserveAspectRatio=\"xMidYMid meet\" style=\"font-family: times, serif; font-weight: normal; font-style: normal; font-size: 16px;\" version=\"1.1\" viewBox=\"0,0,456.0,264.0\" width=\"456px\" xmlns=\"http://www.w3.org/2000/svg\" xmlns:ev=\"http://www.w3.org/2001/xml-events\" xmlns:xlink=\"http://www.w3.org/1999/xlink\"><defs /><svg width=\"100%\" x=\"0\" y=\"0px\"><defs /><text text-anchor=\"middle\" x=\"50%\" y=\"16px\">[[a_relative [2 [[dies t2]]]] [3 [[if_ [t3]] [house]]]]</text></svg><svg width=\"53.5714%\" x=\"0%\" y=\"48px\"><defs /><svg width=\"100%\" x=\"0\" y=\"0px\"><defs /><text text-anchor=\"middle\" x=\"50%\" y=\"16px\">[a_relative [2 [[dies t2]]]]</text></svg><svg width=\"41.3793%\" x=\"0%\" y=\"48px\"><defs /><svg width=\"100%\" x=\"0\" y=\"0px\"><defs /><text text-anchor=\"middle\" x=\"50%\" y=\"16px\">a_relative</text></svg></svg><line stroke=\"black\" x1=\"50%\" x2=\"20.6897%\" y1=\"19.2px\" y2=\"48px\" /><svg width=\"58.6207%\" x=\"41.3793%\" y=\"48px\"><defs /><svg width=\"100%\" x=\"0\" y=\"0px\"><defs /><text text-anchor=\"middle\" x=\"50%\" y=\"16px\">[2 [[dies t2]]]</text></svg><svg width=\"18.75%\" x=\"0%\" y=\"48px\"><defs /><svg width=\"100%\" x=\"0\" y=\"0px\"><defs /><text text-anchor=\"middle\" x=\"50%\" y=\"16px\">2</text></svg></svg><line stroke=\"black\" x1=\"50%\" x2=\"9.375%\" y1=\"19.2px\" y2=\"48px\" /><svg width=\"81.25%\" x=\"18.75%\" y=\"48px\"><defs /><svg width=\"100%\" x=\"0\" y=\"0px\"><defs /><text text-anchor=\"middle\" x=\"50%\" y=\"16px\">[[dies t2]]</text></svg><svg width=\"100%\" x=\"0%\" y=\"48px\"><defs /><svg width=\"100%\" x=\"0\" y=\"0px\"><defs /><text text-anchor=\"middle\" x=\"50%\" y=\"16px\">[dies t2]</text></svg><svg width=\"60%\" x=\"0%\" y=\"48px\"><defs /><svg width=\"100%\" x=\"0\" y=\"0px\"><defs /><text text-anchor=\"middle\" x=\"50%\" y=\"16px\">dies</text></svg></svg><line stroke=\"black\" x1=\"50%\" x2=\"30%\" y1=\"19.2px\" y2=\"48px\" /><svg width=\"40%\" x=\"60%\" y=\"48px\"><defs /><svg width=\"100%\" x=\"0\" y=\"0px\"><defs /><text text-anchor=\"middle\" x=\"50%\" y=\"16px\">t2</text></svg></svg><line stroke=\"black\" x1=\"50%\" x2=\"80%\" y1=\"19.2px\" y2=\"48px\" /></svg><line stroke=\"black\" x1=\"50%\" x2=\"50%\" y1=\"19.2px\" y2=\"48px\" /></svg><line stroke=\"black\" x1=\"50%\" x2=\"59.375%\" y1=\"19.2px\" y2=\"48px\" /></svg><line stroke=\"black\" x1=\"50%\" x2=\"70.6897%\" y1=\"19.2px\" y2=\"48px\" /></svg><line stroke=\"black\" x1=\"50%\" x2=\"26.7857%\" y1=\"19.2px\" y2=\"48px\" /><svg width=\"46.4286%\" x=\"53.5714%\" y=\"48px\"><defs /><svg width=\"100%\" x=\"0\" y=\"0px\"><defs /><text text-anchor=\"middle\" x=\"50%\" y=\"16px\">[3 [[if_ [t3]] [house]]]</text></svg><svg width=\"12%\" x=\"0%\" y=\"48px\"><defs /><svg width=\"100%\" x=\"0\" y=\"0px\"><defs /><text text-anchor=\"middle\" x=\"50%\" y=\"16px\">3</text></svg></svg><line stroke=\"black\" x1=\"50%\" x2=\"6%\" y1=\"19.2px\" y2=\"48px\" /><svg width=\"88%\" x=\"12%\" y=\"48px\"><defs /><svg width=\"100%\" x=\"0\" y=\"0px\"><defs /><text text-anchor=\"middle\" x=\"50%\" y=\"16px\">[[if_ [t3]] [house]]</text></svg><svg width=\"57.1429%\" x=\"0%\" y=\"48px\"><defs /><svg width=\"100%\" x=\"0\" y=\"0px\"><defs /><text text-anchor=\"middle\" x=\"50%\" y=\"16px\">[if_ [t3]]</text></svg><svg width=\"45.4545%\" x=\"0%\" y=\"48px\"><defs /><svg width=\"100%\" x=\"0\" y=\"0px\"><defs /><text text-anchor=\"middle\" x=\"50%\" y=\"16px\">if_</text></svg></svg><line stroke=\"black\" x1=\"50%\" x2=\"22.7273%\" y1=\"19.2px\" y2=\"48px\" /><svg width=\"54.5455%\" x=\"45.4545%\" y=\"48px\"><defs /><svg width=\"100%\" x=\"0\" y=\"0px\"><defs /><text text-anchor=\"middle\" x=\"50%\" y=\"16px\">[t3]</text></svg><svg width=\"100%\" x=\"0%\" y=\"48px\"><defs /><svg width=\"100%\" x=\"0\" y=\"0px\"><defs /><text text-anchor=\"middle\" x=\"50%\" y=\"16px\">t3</text></svg></svg><line stroke=\"black\" x1=\"50%\" x2=\"50%\" y1=\"19.2px\" y2=\"48px\" /></svg><line stroke=\"black\" x1=\"50%\" x2=\"72.7273%\" y1=\"19.2px\" y2=\"48px\" /></svg><line stroke=\"black\" x1=\"50%\" x2=\"28.5714%\" y1=\"19.2px\" y2=\"48px\" /><svg width=\"42.8571%\" x=\"57.1429%\" y=\"48px\"><defs /><svg width=\"100%\" x=\"0\" y=\"0px\"><defs /><text text-anchor=\"middle\" x=\"50%\" y=\"16px\">[house]</text></svg><svg width=\"100%\" x=\"0%\" y=\"48px\"><defs /><svg width=\"100%\" x=\"0\" y=\"0px\"><defs /><text text-anchor=\"middle\" x=\"50%\" y=\"16px\">house</text></svg></svg><line stroke=\"black\" x1=\"50%\" x2=\"50%\" y1=\"19.2px\" y2=\"48px\" /></svg><line stroke=\"black\" x1=\"50%\" x2=\"78.5714%\" y1=\"19.2px\" y2=\"48px\" /></svg><line stroke=\"black\" x1=\"50%\" x2=\"56%\" y1=\"19.2px\" y2=\"48px\" /></svg><line stroke=\"black\" x1=\"50%\" x2=\"76.7857%\" y1=\"19.2px\" y2=\"48px\" /></svg>"
      ],
      "text/plain": [
       "Tree('[[a_relative [2 [[dies t2]]]] [3 [[if_ [t3]] [house]]]]', [Tree('[a_relative [2 [[dies t2]]]]', [Tree('a_relative', []), Tree('[2 [[dies t2]]]', [Tree('2', []), Tree('[[dies t2]]', [Tree('[dies t2]', [Tree('dies', []), Tree('t2', [])])])])]), Tree('[3 [[if_ [t3]] [house]]]', [Tree('3', []), Tree('[[if_ [t3]] [house]]', [Tree('[if_ [t3]]', [Tree('if_', []), Tree('[t3]', [Tree('t3', [])])]), Tree('[house]', [Tree('house', [])])])])])"
      ]
     },
     "execution_count": 931,
     "metadata": {},
     "output_type": "execute_result"
    }
   ],
   "source": [
    "(l * r).source_tree()"
   ]
  },
  {
   "cell_type": "code",
   "execution_count": 932,
   "id": "ea45dae3-5abe-4872-819c-107c1becf200",
   "metadata": {},
   "outputs": [
    {
     "data": {
      "text/html": [
       "1 composition path:<br /><div align=\"center\" style=\"display:table;\"><div align=\"center\" style=\"display:table-row;\"><div style=\"display:table-cell;table-layout:auto;vertical-align:bottom;border-bottom:1px solid #848482;\"><div style=\"display: table;\"><div style=\"vertical-align:bottom;display:table-cell;padding-left:5px;padding-right:5px;padding-top:5px;padding-bottom:5px;\"><div align=\"center\" style=\"display:table;\"><div align=\"center\" style=\"display:table-row;\"><div style=\"display:table-cell;table-layout:auto;vertical-align:bottom;border-bottom:1px solid #848482;\"><div style=\"display: table;\"><div style=\"vertical-align:bottom;display:table-cell;padding-left:5px;padding-right:5px;padding-top:5px;padding-bottom:5px;\"><div align=\"center\" style=\"display:block;padding-left:5px;padding-right:5px;padding-top:5px;padding-bottom:5px;\"><div style=\"display:table;table-layout:auto;\" align=\"center\"><div style=\"display:table-row;\"><div style=\"display:table-cell;padding-right:2px; padding-left:2px;\" align=\"center\"><div style=\"display:inline-block;\"><span>$[\\![\\text{\\textbf{a\\_relative}}]\\!]^{}_{\\left\\{e\\right\\}}$</span></div></div></div><div style=\"display:table-row;\"><div style=\"display:table-cell;padding-right:2px; padding-left:2px;\" align=\"center\"><div style=\"display:inline-block;\"><span>$\\{{x}_{e} \\:|\\: {Relative}({x}_{e})\\}$</span></div></div></div></div></div></div><div style=\"display: table-cell; padding-left:4em;\"></div><div style=\"vertical-align:bottom;display:table-cell;padding-left:5px;padding-right:5px;padding-top:5px;padding-bottom:5px;\"><div align=\"center\" style=\"display:table;\"><div align=\"center\" style=\"display:table-row;\"><div style=\"display:table-cell;table-layout:auto;vertical-align:bottom;border-bottom:1px solid #848482;\"><div style=\"display: table;\"><div style=\"vertical-align:bottom;display:table-cell;padding-left:5px;padding-right:5px;padding-top:5px;padding-bottom:5px;\"><div align=\"center\" style=\"display:block;padding-left:5px;padding-right:5px;padding-top:5px;padding-bottom:5px;\"><div style=\"display:table;table-layout:auto;\" align=\"center\"><div style=\"display:table-row;\"><div style=\"display:table-cell;padding-right:2px; padding-left:2px;\" align=\"center\"><div style=\"display:inline-block;\"><span>$[\\![\\text{\\textbf{2}}]\\!]^{}$</span></div></div></div><div style=\"display:table-row;\"><div style=\"display:table-cell;padding-right:2px; padding-left:2px;\" align=\"center\"><div style=\"display:inline-block;\"><span>[idx: 2]</span></div></div></div></div></div></div><div style=\"display: table-cell; padding-left:4em;\"></div><div style=\"vertical-align:bottom;display:table-cell;padding-left:5px;padding-right:5px;padding-top:5px;padding-bottom:5px;\"><div align=\"center\" style=\"display:table;\"><div align=\"center\" style=\"display:table-row;\"><div style=\"display:table-cell;table-layout:auto;vertical-align:bottom;border-bottom:1px solid #848482;\"><div style=\"display: table;\"><div style=\"vertical-align:bottom;display:table-cell;padding-left:5px;padding-right:5px;padding-top:5px;padding-bottom:5px;\"><div align=\"center\" style=\"display:table;\"><div align=\"center\" style=\"display:table-row;\"><div style=\"display:table-cell;table-layout:auto;vertical-align:bottom;border-bottom:1px solid #848482;\"><div style=\"display: table;\"><div style=\"vertical-align:bottom;display:table-cell;padding-left:5px;padding-right:5px;padding-top:5px;padding-bottom:5px;\"><div align=\"center\" style=\"display:block;padding-left:5px;padding-right:5px;padding-top:5px;padding-bottom:5px;\"><div style=\"display:table;table-layout:auto;\" align=\"center\"><div style=\"display:table-row;\"><div style=\"display:table-cell;padding-right:2px; padding-left:2px;\" align=\"center\"><div style=\"display:inline-block;\"><span>$[\\![\\text{\\textbf{dies}}]\\!]^{}_{\\left\\langle{}e,t\\right\\rangle{}}$</span></div></div></div><div style=\"display:table-row;\"><div style=\"display:table-cell;padding-right:2px; padding-left:2px;\" align=\"center\"><div style=\"display:inline-block;\"><span>$\\lambda{} x_{e} \\: . \\: {Dies}({x})$</span></div></div></div></div></div></div><div style=\"display: table-cell; padding-left:4em;\"></div><div style=\"vertical-align:bottom;display:table-cell;padding-left:5px;padding-right:5px;padding-top:5px;padding-bottom:5px;\"><div align=\"center\" style=\"display:block;padding-left:5px;padding-right:5px;padding-top:5px;padding-bottom:5px;\"><div style=\"display:table;table-layout:auto;\" align=\"center\"><div style=\"display:table-row;\"><div style=\"display:table-cell;padding-right:2px; padding-left:2px;\" align=\"center\"><div style=\"display:inline-block;\"><span>$[\\![\\text{\\textbf{t}}_{2}]\\!]^{}_{e}$</span></div></div></div><div style=\"display:table-row;\"><div style=\"display:table-cell;padding-right:2px; padding-left:2px;\" align=\"center\"><div style=\"display:inline-block;\"><span>${var2}_{e}$</span></div></div></div></div></div></div></div></div><div style=\"display:table-cell;\"></div></div><div style=\"display:table-row;\"><div style=\"display: table-cell;\"></div><div style=\"display:table-cell;vertical-align:middle;\"><div style=\"vertical-align:middle;height:0px;overflow:visible\"><div style=\"color:blue;transform: translateY(-1em); padding-left:0.5em;\"><b>[<span>FA</span>]</b></div></div></div></div><div align=\"center\" style=\"display:table-row;padding-left:5px;padding-right:5px;padding-top:5px;padding-bottom:5px;\"><div align=\"center\" style=\"display:block;padding-left:5px;padding-right:5px;padding-top:5px;padding-bottom:5px;\"><div style=\"display:table;table-layout:auto;\" align=\"center\"><div style=\"display:table-row;\"><div style=\"display:table-cell;padding-right:2px; padding-left:2px;\" align=\"center\"><div style=\"display:inline-block;\"><span>$[\\![\\text{\\textbf{[dies t2]}}]\\!]^{}_{t}$</span></div></div></div><div style=\"display:table-row;\"><div style=\"display:table-cell;padding-right:2px; padding-left:2px;\" align=\"center\"><div style=\"display:inline-block;\"><span>${Dies}({var2}_{e})$</span></div></div></div></div></div><div style=\"display: table-cell;\"></div></div></div></div></div></div><div style=\"display:table-cell;\"></div></div><div style=\"display:table-row;\"><div style=\"display: table-cell;\"></div><div style=\"display:table-cell;vertical-align:middle;\"><div style=\"vertical-align:middle;height:0px;overflow:visible\"><div style=\"color:blue;transform: translateY(-1em); padding-left:0.5em;\"><b>[<span>Unit</span>]</b></div></div></div></div><div align=\"center\" style=\"display:table-row;padding-left:5px;padding-right:5px;padding-top:5px;padding-bottom:5px;\"><div align=\"center\" style=\"display:block;padding-left:5px;padding-right:5px;padding-top:5px;padding-bottom:5px;\"><div style=\"display:table;table-layout:auto;\" align=\"center\"><div style=\"display:table-row;\"><div style=\"display:table-cell;padding-right:2px; padding-left:2px;\" align=\"center\"><div style=\"display:inline-block;\"><span>$[\\![\\text{\\textbf{[[dies t2]]}}]\\!]^{}_{\\left\\{t\\right\\}}$</span></div></div></div><div style=\"display:table-row;\"><div style=\"display:table-cell;padding-right:2px; padding-left:2px;\" align=\"center\"><div style=\"display:inline-block;\"><span>$\\{{Dies}({var2}_{e})\\}$</span></div></div></div></div></div><div style=\"display: table-cell;\"></div></div></div></div></div></div><div style=\"display:table-cell;\"></div></div><div style=\"display:table-row;\"><div style=\"display: table-cell;\"></div><div style=\"display:table-cell;vertical-align:middle;\"><div style=\"vertical-align:middle;height:0px;overflow:visible\"><div style=\"color:blue;transform: translateY(-1em); padding-left:0.5em;\"><b>[<span>PA</span>]</b></div></div></div></div><div align=\"center\" style=\"display:table-row;padding-left:5px;padding-right:5px;padding-top:5px;padding-bottom:5px;\"><div align=\"center\" style=\"display:block;padding-left:5px;padding-right:5px;padding-top:5px;padding-bottom:5px;\"><div style=\"display:table;table-layout:auto;\" align=\"center\"><div style=\"display:table-row;\"><div style=\"display:table-cell;padding-right:2px; padding-left:2px;\" align=\"center\"><div style=\"display:inline-block;\"><span>$[\\![\\text{\\textbf{[2 [[dies t2]]]}}]\\!]^{}_{\\left\\langle{}e,\\left\\{t\\right\\}\\right\\rangle{}}$</span></div></div></div><div style=\"display:table-row;\"><div style=\"display:table-cell;padding-right:2px; padding-left:2px;\" align=\"center\"><div style=\"display:inline-block;\"><span>$\\lambda{} x_{e} \\: . \\: \\{{Dies}({x})\\}$</span></div></div></div></div></div><div style=\"display: table-cell;\"></div></div></div></div></div></div><div style=\"display:table-cell;\"></div></div><div style=\"display:table-row;\"><div style=\"display: table-cell;\"></div><div style=\"display:table-cell;vertical-align:middle;\"><div style=\"vertical-align:middle;height:0px;overflow:visible\"><div style=\"color:blue;transform: translateY(-1em); padding-left:0.5em;\"><b>[<span>Bind</span>]</b></div></div></div></div><div align=\"center\" style=\"display:table-row;padding-left:5px;padding-right:5px;padding-top:5px;padding-bottom:5px;\"><div align=\"center\" style=\"display:block;padding-left:5px;padding-right:5px;padding-top:5px;padding-bottom:5px;\"><div style=\"display:table;table-layout:auto;\" align=\"center\"><div style=\"display:table-row;\"><div style=\"display:table-cell;padding-right:2px; padding-left:2px;\" align=\"center\"><div style=\"display:inline-block;\"><span>$[\\![\\text{\\textbf{[a\\_relative [2 [[dies t2]]]]}}]\\!]^{}_{\\left\\{t\\right\\}}$</span></div></div></div><div style=\"display:table-row;\"><div style=\"display:table-cell;padding-right:2px; padding-left:2px;\" align=\"center\"><div style=\"display:inline-block;\"><span>$\\bigcup{} x_{e} \\in {\\small \\{{x}_{e} \\:|\\: {Relative}({x}_{e})\\}} \\: . \\: \\{{Dies}({x})\\}$</span></div></div></div></div></div><div style=\"display: table-cell;\"></div></div></div></div><div style=\"display: table-cell; padding-left:4em;\"></div><div style=\"vertical-align:bottom;display:table-cell;padding-left:5px;padding-right:5px;padding-top:5px;padding-bottom:5px;\"><div align=\"center\" style=\"display:table;\"><div align=\"center\" style=\"display:table-row;\"><div style=\"display:table-cell;table-layout:auto;vertical-align:bottom;border-bottom:1px solid #848482;\"><div style=\"display: table;\"><div style=\"vertical-align:bottom;display:table-cell;padding-left:5px;padding-right:5px;padding-top:5px;padding-bottom:5px;\"><div align=\"center\" style=\"display:block;padding-left:5px;padding-right:5px;padding-top:5px;padding-bottom:5px;\"><div style=\"display:table;table-layout:auto;\" align=\"center\"><div style=\"display:table-row;\"><div style=\"display:table-cell;padding-right:2px; padding-left:2px;\" align=\"center\"><div style=\"display:inline-block;\"><span>$[\\![\\text{\\textbf{3}}]\\!]^{}$</span></div></div></div><div style=\"display:table-row;\"><div style=\"display:table-cell;padding-right:2px; padding-left:2px;\" align=\"center\"><div style=\"display:inline-block;\"><span>[idx: 3]</span></div></div></div></div></div></div><div style=\"display: table-cell; padding-left:4em;\"></div><div style=\"vertical-align:bottom;display:table-cell;padding-left:5px;padding-right:5px;padding-top:5px;padding-bottom:5px;\"><div align=\"center\" style=\"display:table;\"><div align=\"center\" style=\"display:table-row;\"><div style=\"display:table-cell;table-layout:auto;vertical-align:bottom;border-bottom:1px solid #848482;\"><div style=\"display: table;\"><div style=\"vertical-align:bottom;display:table-cell;padding-left:5px;padding-right:5px;padding-top:5px;padding-bottom:5px;\"><div align=\"center\" style=\"display:table;\"><div align=\"center\" style=\"display:table-row;\"><div style=\"display:table-cell;table-layout:auto;vertical-align:bottom;border-bottom:1px solid #848482;\"><div style=\"display: table;\"><div style=\"vertical-align:bottom;display:table-cell;padding-left:5px;padding-right:5px;padding-top:5px;padding-bottom:5px;\"><div align=\"center\" style=\"display:block;padding-left:5px;padding-right:5px;padding-top:5px;padding-bottom:5px;\"><div style=\"display:table;table-layout:auto;\" align=\"center\"><div style=\"display:table-row;\"><div style=\"display:table-cell;padding-right:2px; padding-left:2px;\" align=\"center\"><div style=\"display:inline-block;\"><span>$[\\![\\text{\\textbf{if\\_}}]\\!]^{}_{\\left\\langle{}\\left\\{t\\right\\},\\left\\langle{}\\left\\{t\\right\\},\\left\\{t\\right\\}\\right\\rangle{}\\right\\rangle{}}$</span></div></div></div><div style=\"display:table-row;\"><div style=\"display:table-cell;padding-right:2px; padding-left:2px;\" align=\"center\"><div style=\"display:inline-block;\"><span>$\\lambda{} m_{\\left\\{t\\right\\}} \\: . \\: \\lambda{} n_{\\left\\{t\\right\\}} \\: . \\: \\{{If}_{\\left\\langle{}t,\\left\\langle{}t,t\\right\\rangle{}\\right\\rangle{}}(\\textsf{True} \\in{} {m})(\\textsf{True} \\in{} {n})\\}$</span></div></div></div></div></div></div><div style=\"display: table-cell; padding-left:4em;\"></div><div style=\"vertical-align:bottom;display:table-cell;padding-left:5px;padding-right:5px;padding-top:5px;padding-bottom:5px;\"><div align=\"center\" style=\"display:table;\"><div align=\"center\" style=\"display:table-row;\"><div style=\"display:table-cell;table-layout:auto;vertical-align:bottom;border-bottom:1px solid #848482;\"><div style=\"display: table;\"><div style=\"vertical-align:bottom;display:table-cell;padding-left:5px;padding-right:5px;padding-top:5px;padding-bottom:5px;\"><div align=\"center\" style=\"display:block;padding-left:5px;padding-right:5px;padding-top:5px;padding-bottom:5px;\"><div style=\"display:table;table-layout:auto;\" align=\"center\"><div style=\"display:table-row;\"><div style=\"display:table-cell;padding-right:2px; padding-left:2px;\" align=\"center\"><div style=\"display:inline-block;\"><span>$[\\![\\text{\\textbf{t}}_{3}]\\!]^{}_{t}$</span></div></div></div><div style=\"display:table-row;\"><div style=\"display:table-cell;padding-right:2px; padding-left:2px;\" align=\"center\"><div style=\"display:inline-block;\"><span>${var3}_{t}$</span></div></div></div></div></div></div></div></div><div style=\"display:table-cell;\"></div></div><div style=\"display:table-row;\"><div style=\"display: table-cell;\"></div><div style=\"display:table-cell;vertical-align:middle;\"><div style=\"vertical-align:middle;height:0px;overflow:visible\"><div style=\"color:blue;transform: translateY(-1em); padding-left:0.5em;\"><b>[<span>UnitShift</span>]</b></div></div></div></div><div align=\"center\" style=\"display:table-row;padding-left:5px;padding-right:5px;padding-top:5px;padding-bottom:5px;\"><div align=\"center\" style=\"display:block;padding-left:5px;padding-right:5px;padding-top:5px;padding-bottom:5px;\"><div style=\"display:table;table-layout:auto;\" align=\"center\"><div style=\"display:table-row;\"><div style=\"display:table-cell;padding-right:2px; padding-left:2px;\" align=\"center\"><div style=\"display:inline-block;\"><span>$[\\![\\text{\\textbf{[t3]}}]\\!]^{}_{\\left\\{t\\right\\}}$</span></div></div></div><div style=\"display:table-row;\"><div style=\"display:table-cell;padding-right:2px; padding-left:2px;\" align=\"center\"><div style=\"display:inline-block;\"><span>$\\{{var3}_{t}\\}$</span></div></div></div></div></div><div style=\"display: table-cell;\"></div></div></div></div></div></div><div style=\"display:table-cell;\"></div></div><div style=\"display:table-row;\"><div style=\"display: table-cell;\"></div><div style=\"display:table-cell;vertical-align:middle;\"><div style=\"vertical-align:middle;height:0px;overflow:visible\"><div style=\"color:blue;transform: translateY(-1em); padding-left:0.5em;\"><b>[<span>FA</span>]</b></div></div></div></div><div align=\"center\" style=\"display:table-row;padding-left:5px;padding-right:5px;padding-top:5px;padding-bottom:5px;\"><div align=\"center\" style=\"display:block;padding-left:5px;padding-right:5px;padding-top:5px;padding-bottom:5px;\"><div style=\"display:table;table-layout:auto;\" align=\"center\"><div style=\"display:table-row;\"><div style=\"display:table-cell;padding-right:2px; padding-left:2px;\" align=\"center\"><div style=\"display:inline-block;\"><span>$[\\![\\text{\\textbf{[if\\_ [t3]]}}]\\!]^{}_{\\left\\langle{}\\left\\{t\\right\\},\\left\\{t\\right\\}\\right\\rangle{}}$</span></div></div></div><div style=\"display:table-row;\"><div style=\"display:table-cell;padding-right:2px; padding-left:2px;\" align=\"center\"><div style=\"display:inline-block;\"><span>$\\lambda{} n_{\\left\\{t\\right\\}} \\: . \\: \\{{If}_{\\left\\langle{}t,\\left\\langle{}t,t\\right\\rangle{}\\right\\rangle{}}(\\textsf{True} \\leftrightarrow{} {var3}_{t})(\\textsf{True} \\in{} {n})\\}$</span></div></div></div></div></div><div style=\"display: table-cell;\"></div></div></div></div><div style=\"display: table-cell; padding-left:4em;\"></div><div style=\"vertical-align:bottom;display:table-cell;padding-left:5px;padding-right:5px;padding-top:5px;padding-bottom:5px;\"><div align=\"center\" style=\"display:table;\"><div align=\"center\" style=\"display:table-row;\"><div style=\"display:table-cell;table-layout:auto;vertical-align:bottom;border-bottom:1px solid #848482;\"><div style=\"display: table;\"><div style=\"vertical-align:bottom;display:table-cell;padding-left:5px;padding-right:5px;padding-top:5px;padding-bottom:5px;\"><div align=\"center\" style=\"display:block;padding-left:5px;padding-right:5px;padding-top:5px;padding-bottom:5px;\"><div style=\"display:table;table-layout:auto;\" align=\"center\"><div style=\"display:table-row;\"><div style=\"display:table-cell;padding-right:2px; padding-left:2px;\" align=\"center\"><div style=\"display:inline-block;\"><span>$[\\![\\text{\\textbf{house}}]\\!]^{}_{t}$</span></div></div></div><div style=\"display:table-row;\"><div style=\"display:table-cell;padding-right:2px; padding-left:2px;\" align=\"center\"><div style=\"display:inline-block;\"><span>${InheritHouse}_{t}$</span></div></div></div></div></div></div></div></div><div style=\"display:table-cell;\"></div></div><div style=\"display:table-row;\"><div style=\"display: table-cell;\"></div><div style=\"display:table-cell;vertical-align:middle;\"><div style=\"vertical-align:middle;height:0px;overflow:visible\"><div style=\"color:blue;transform: translateY(-1em); padding-left:0.5em;\"><b>[<span>UnitShift</span>]</b></div></div></div></div><div align=\"center\" style=\"display:table-row;padding-left:5px;padding-right:5px;padding-top:5px;padding-bottom:5px;\"><div align=\"center\" style=\"display:block;padding-left:5px;padding-right:5px;padding-top:5px;padding-bottom:5px;\"><div style=\"display:table;table-layout:auto;\" align=\"center\"><div style=\"display:table-row;\"><div style=\"display:table-cell;padding-right:2px; padding-left:2px;\" align=\"center\"><div style=\"display:inline-block;\"><span>$[\\![\\text{\\textbf{[house]}}]\\!]^{}_{\\left\\{t\\right\\}}$</span></div></div></div><div style=\"display:table-row;\"><div style=\"display:table-cell;padding-right:2px; padding-left:2px;\" align=\"center\"><div style=\"display:inline-block;\"><span>$\\{{InheritHouse}_{t}\\}$</span></div></div></div></div></div><div style=\"display: table-cell;\"></div></div></div></div></div></div><div style=\"display:table-cell;\"></div></div><div style=\"display:table-row;\"><div style=\"display: table-cell;\"></div><div style=\"display:table-cell;vertical-align:middle;\"><div style=\"vertical-align:middle;height:0px;overflow:visible\"><div style=\"color:blue;transform: translateY(-1em); padding-left:0.5em;\"><b>[<span>FA</span>]</b></div></div></div></div><div align=\"center\" style=\"display:table-row;padding-left:5px;padding-right:5px;padding-top:5px;padding-bottom:5px;\"><div align=\"center\" style=\"display:block;padding-left:5px;padding-right:5px;padding-top:5px;padding-bottom:5px;\"><div style=\"display:table;table-layout:auto;\" align=\"center\"><div style=\"display:table-row;\"><div style=\"display:table-cell;padding-right:2px; padding-left:2px;\" align=\"center\"><div style=\"display:inline-block;\"><span>$[\\![\\text{\\textbf{[[if\\_ [t3]] [house]]}}]\\!]^{}_{\\left\\{t\\right\\}}$</span></div></div></div><div style=\"display:table-row;\"><div style=\"display:table-cell;padding-right:2px; padding-left:2px;\" align=\"center\"><div style=\"display:inline-block;\"><span>$\\{{If}_{\\left\\langle{}t,\\left\\langle{}t,t\\right\\rangle{}\\right\\rangle{}}({var3}_{t})(\\textsf{True} \\leftrightarrow{} {InheritHouse}_{t})\\}$</span></div></div></div></div></div><div style=\"display: table-cell;\"></div></div></div></div></div></div><div style=\"display:table-cell;\"></div></div><div style=\"display:table-row;\"><div style=\"display: table-cell;\"></div><div style=\"display:table-cell;vertical-align:middle;\"><div style=\"vertical-align:middle;height:0px;overflow:visible\"><div style=\"color:blue;transform: translateY(-1em); padding-left:0.5em;\"><b>[<span>PA</span>]</b></div></div></div></div><div align=\"center\" style=\"display:table-row;padding-left:5px;padding-right:5px;padding-top:5px;padding-bottom:5px;\"><div align=\"center\" style=\"display:block;padding-left:5px;padding-right:5px;padding-top:5px;padding-bottom:5px;\"><div style=\"display:table;table-layout:auto;\" align=\"center\"><div style=\"display:table-row;\"><div style=\"display:table-cell;padding-right:2px; padding-left:2px;\" align=\"center\"><div style=\"display:inline-block;\"><span>$[\\![\\text{\\textbf{[3 [[if\\_ [t3]] [house]]]}}]\\!]^{}_{\\left\\langle{}t,\\left\\{t\\right\\}\\right\\rangle{}}$</span></div></div></div><div style=\"display:table-row;\"><div style=\"display:table-cell;padding-right:2px; padding-left:2px;\" align=\"center\"><div style=\"display:inline-block;\"><span>$\\lambda{} x_{t} \\: . \\: \\{{If}_{\\left\\langle{}t,\\left\\langle{}t,t\\right\\rangle{}\\right\\rangle{}}({x})({InheritHouse}_{t})\\}$</span></div></div></div></div></div><div style=\"display: table-cell;\"></div></div></div></div></div></div><div style=\"display:table-cell;\"></div></div><div style=\"display:table-row;\"><div style=\"display: table-cell;\"></div><div style=\"display:table-cell;vertical-align:middle;\"><div style=\"vertical-align:middle;height:0px;overflow:visible\"><div style=\"color:blue;transform: translateY(-1em); padding-left:0.5em;\"><b>[<span>Bind</span>]</b></div></div></div></div><div align=\"center\" style=\"display:table-row;padding-left:5px;padding-right:5px;padding-top:5px;padding-bottom:5px;\"><div align=\"center\" style=\"display:block;padding-left:5px;padding-right:5px;padding-top:5px;padding-bottom:5px;\"><div style=\"display:table;table-layout:auto;\" align=\"center\"><div style=\"display:table-row;\"><div style=\"display:table-cell;padding-right:2px; padding-left:2px;\" align=\"center\"><div style=\"display:inline-block;\"><span>$[\\![\\text{\\textbf{[[a\\_relative [2 [[dies t2]]]] [3 [[if\\_ [t3]] [house]]]]}}]\\!]^{}_{\\left\\{t\\right\\}}$</span></div></div></div><div style=\"display:table-row;\"><div style=\"display:table-cell;padding-right:2px; padding-left:2px;\" align=\"center\"><div style=\"display:inline-block;\"><span>$\\bigcup{} x_{t} \\in {\\small (\\bigcup{} x_{e} \\in {\\small \\{{x}_{e} \\:|\\: {Relative}({x}_{e})\\}} \\: . \\: \\{{Dies}({x})\\})} \\: . \\: \\{{If}_{\\left\\langle{}t,\\left\\langle{}t,t\\right\\rangle{}\\right\\rangle{}}({x})({InheritHouse}_{t})\\}$</span></div></div></div></div></div><div style=\"display: table-cell;\"></div></div></div><br /><br />"
      ],
      "text/plain": [
       "1 composition path:<br /><div align=\"center\" style=\"display:table;\"><div align=\"center\" style=\"display:table-row;\"><div style=\"display:table-cell;table-layout:auto;vertical-align:bottom;border-bottom:1px solid #848482;\"><div style=\"display: table;\"><div style=\"vertical-align:bottom;display:table-cell;padding-left:5px;padding-right:5px;padding-top:5px;padding-bottom:5px;\"><div align=\"center\" style=\"display:table;\"><div align=\"center\" style=\"display:table-row;\"><div style=\"display:table-cell;table-layout:auto;vertical-align:bottom;border-bottom:1px solid #848482;\"><div style=\"display: table;\"><div style=\"vertical-align:bottom;display:table-cell;padding-left:5px;padding-right:5px;padding-top:5px;padding-bottom:5px;\"><div align=\"center\" style=\"display:block;padding-left:5px;padding-right:5px;padding-top:5px;padding-bottom:5px;\"><div style=\"display:table;table-layout:auto;\" align=\"center\"><div style=\"display:table-row;\"><div style=\"display:table-cell;padding-right:2px; padding-left:2px;\" align=\"center\"><div style=\"display:inline-block;\"><span>$[\\![\\text{\\textbf{a\\_relative}}]\\!]^{}_{\\left\\{e\\right\\}}$</span></div></div></div><div style=\"display:table-row;\"><div style=\"display:table-cell;padding-right:2px; padding-left:2px;\" align=\"center\"><div style=\"display:inline-block;\"><span>$\\{{x}_{e} \\:|\\: {Relative}({x}_{e})\\}$</span></div></div></div></div></div></div><div style=\"display: table-cell; padding-left:4em;\"></div><div style=\"vertical-align:bottom;display:table-cell;padding-left:5px;padding-right:5px;padding-top:5px;padding-bottom:5px;\"><div align=\"center\" style=\"display:table;\"><div align=\"center\" style=\"display:table-row;\"><div style=\"display:table-cell;table-layout:auto;vertical-align:bottom;border-bottom:1px solid #848482;\"><div style=\"display: table;\"><div style=\"vertical-align:bottom;display:table-cell;padding-left:5px;padding-right:5px;padding-top:5px;padding-bottom:5px;\"><div align=\"center\" style=\"display:block;padding-left:5px;padding-right:5px;padding-top:5px;padding-bottom:5px;\"><div style=\"display:table;table-layout:auto;\" align=\"center\"><div style=\"display:table-row;\"><div style=\"display:table-cell;padding-right:2px; padding-left:2px;\" align=\"center\"><div style=\"display:inline-block;\"><span>$[\\![\\text{\\textbf{2}}]\\!]^{}$</span></div></div></div><div style=\"display:table-row;\"><div style=\"display:table-cell;padding-right:2px; padding-left:2px;\" align=\"center\"><div style=\"display:inline-block;\"><span>[idx: 2]</span></div></div></div></div></div></div><div style=\"display: table-cell; padding-left:4em;\"></div><div style=\"vertical-align:bottom;display:table-cell;padding-left:5px;padding-right:5px;padding-top:5px;padding-bottom:5px;\"><div align=\"center\" style=\"display:table;\"><div align=\"center\" style=\"display:table-row;\"><div style=\"display:table-cell;table-layout:auto;vertical-align:bottom;border-bottom:1px solid #848482;\"><div style=\"display: table;\"><div style=\"vertical-align:bottom;display:table-cell;padding-left:5px;padding-right:5px;padding-top:5px;padding-bottom:5px;\"><div align=\"center\" style=\"display:table;\"><div align=\"center\" style=\"display:table-row;\"><div style=\"display:table-cell;table-layout:auto;vertical-align:bottom;border-bottom:1px solid #848482;\"><div style=\"display: table;\"><div style=\"vertical-align:bottom;display:table-cell;padding-left:5px;padding-right:5px;padding-top:5px;padding-bottom:5px;\"><div align=\"center\" style=\"display:block;padding-left:5px;padding-right:5px;padding-top:5px;padding-bottom:5px;\"><div style=\"display:table;table-layout:auto;\" align=\"center\"><div style=\"display:table-row;\"><div style=\"display:table-cell;padding-right:2px; padding-left:2px;\" align=\"center\"><div style=\"display:inline-block;\"><span>$[\\![\\text{\\textbf{dies}}]\\!]^{}_{\\left\\langle{}e,t\\right\\rangle{}}$</span></div></div></div><div style=\"display:table-row;\"><div style=\"display:table-cell;padding-right:2px; padding-left:2px;\" align=\"center\"><div style=\"display:inline-block;\"><span>$\\lambda{} x_{e} \\: . \\: {Dies}({x})$</span></div></div></div></div></div></div><div style=\"display: table-cell; padding-left:4em;\"></div><div style=\"vertical-align:bottom;display:table-cell;padding-left:5px;padding-right:5px;padding-top:5px;padding-bottom:5px;\"><div align=\"center\" style=\"display:block;padding-left:5px;padding-right:5px;padding-top:5px;padding-bottom:5px;\"><div style=\"display:table;table-layout:auto;\" align=\"center\"><div style=\"display:table-row;\"><div style=\"display:table-cell;padding-right:2px; padding-left:2px;\" align=\"center\"><div style=\"display:inline-block;\"><span>$[\\![\\text{\\textbf{t}}_{2}]\\!]^{}_{e}$</span></div></div></div><div style=\"display:table-row;\"><div style=\"display:table-cell;padding-right:2px; padding-left:2px;\" align=\"center\"><div style=\"display:inline-block;\"><span>${var2}_{e}$</span></div></div></div></div></div></div></div></div><div style=\"display:table-cell;\"></div></div><div style=\"display:table-row;\"><div style=\"display: table-cell;\"></div><div style=\"display:table-cell;vertical-align:middle;\"><div style=\"vertical-align:middle;height:0px;overflow:visible\"><div style=\"color:blue;transform: translateY(-1em); padding-left:0.5em;\"><b>[<span>FA</span>]</b></div></div></div></div><div align=\"center\" style=\"display:table-row;padding-left:5px;padding-right:5px;padding-top:5px;padding-bottom:5px;\"><div align=\"center\" style=\"display:block;padding-left:5px;padding-right:5px;padding-top:5px;padding-bottom:5px;\"><div style=\"display:table;table-layout:auto;\" align=\"center\"><div style=\"display:table-row;\"><div style=\"display:table-cell;padding-right:2px; padding-left:2px;\" align=\"center\"><div style=\"display:inline-block;\"><span>$[\\![\\text{\\textbf{[dies t2]}}]\\!]^{}_{t}$</span></div></div></div><div style=\"display:table-row;\"><div style=\"display:table-cell;padding-right:2px; padding-left:2px;\" align=\"center\"><div style=\"display:inline-block;\"><span>${Dies}({var2}_{e})$</span></div></div></div></div></div><div style=\"display: table-cell;\"></div></div></div></div></div></div><div style=\"display:table-cell;\"></div></div><div style=\"display:table-row;\"><div style=\"display: table-cell;\"></div><div style=\"display:table-cell;vertical-align:middle;\"><div style=\"vertical-align:middle;height:0px;overflow:visible\"><div style=\"color:blue;transform: translateY(-1em); padding-left:0.5em;\"><b>[<span>Unit</span>]</b></div></div></div></div><div align=\"center\" style=\"display:table-row;padding-left:5px;padding-right:5px;padding-top:5px;padding-bottom:5px;\"><div align=\"center\" style=\"display:block;padding-left:5px;padding-right:5px;padding-top:5px;padding-bottom:5px;\"><div style=\"display:table;table-layout:auto;\" align=\"center\"><div style=\"display:table-row;\"><div style=\"display:table-cell;padding-right:2px; padding-left:2px;\" align=\"center\"><div style=\"display:inline-block;\"><span>$[\\![\\text{\\textbf{[[dies t2]]}}]\\!]^{}_{\\left\\{t\\right\\}}$</span></div></div></div><div style=\"display:table-row;\"><div style=\"display:table-cell;padding-right:2px; padding-left:2px;\" align=\"center\"><div style=\"display:inline-block;\"><span>$\\{{Dies}({var2}_{e})\\}$</span></div></div></div></div></div><div style=\"display: table-cell;\"></div></div></div></div></div></div><div style=\"display:table-cell;\"></div></div><div style=\"display:table-row;\"><div style=\"display: table-cell;\"></div><div style=\"display:table-cell;vertical-align:middle;\"><div style=\"vertical-align:middle;height:0px;overflow:visible\"><div style=\"color:blue;transform: translateY(-1em); padding-left:0.5em;\"><b>[<span>PA</span>]</b></div></div></div></div><div align=\"center\" style=\"display:table-row;padding-left:5px;padding-right:5px;padding-top:5px;padding-bottom:5px;\"><div align=\"center\" style=\"display:block;padding-left:5px;padding-right:5px;padding-top:5px;padding-bottom:5px;\"><div style=\"display:table;table-layout:auto;\" align=\"center\"><div style=\"display:table-row;\"><div style=\"display:table-cell;padding-right:2px; padding-left:2px;\" align=\"center\"><div style=\"display:inline-block;\"><span>$[\\![\\text{\\textbf{[2 [[dies t2]]]}}]\\!]^{}_{\\left\\langle{}e,\\left\\{t\\right\\}\\right\\rangle{}}$</span></div></div></div><div style=\"display:table-row;\"><div style=\"display:table-cell;padding-right:2px; padding-left:2px;\" align=\"center\"><div style=\"display:inline-block;\"><span>$\\lambda{} x_{e} \\: . \\: \\{{Dies}({x})\\}$</span></div></div></div></div></div><div style=\"display: table-cell;\"></div></div></div></div></div></div><div style=\"display:table-cell;\"></div></div><div style=\"display:table-row;\"><div style=\"display: table-cell;\"></div><div style=\"display:table-cell;vertical-align:middle;\"><div style=\"vertical-align:middle;height:0px;overflow:visible\"><div style=\"color:blue;transform: translateY(-1em); padding-left:0.5em;\"><b>[<span>Bind</span>]</b></div></div></div></div><div align=\"center\" style=\"display:table-row;padding-left:5px;padding-right:5px;padding-top:5px;padding-bottom:5px;\"><div align=\"center\" style=\"display:block;padding-left:5px;padding-right:5px;padding-top:5px;padding-bottom:5px;\"><div style=\"display:table;table-layout:auto;\" align=\"center\"><div style=\"display:table-row;\"><div style=\"display:table-cell;padding-right:2px; padding-left:2px;\" align=\"center\"><div style=\"display:inline-block;\"><span>$[\\![\\text{\\textbf{[a\\_relative [2 [[dies t2]]]]}}]\\!]^{}_{\\left\\{t\\right\\}}$</span></div></div></div><div style=\"display:table-row;\"><div style=\"display:table-cell;padding-right:2px; padding-left:2px;\" align=\"center\"><div style=\"display:inline-block;\"><span>$\\bigcup{} x_{e} \\in {\\small \\{{x}_{e} \\:|\\: {Relative}({x}_{e})\\}} \\: . \\: \\{{Dies}({x})\\}$</span></div></div></div></div></div><div style=\"display: table-cell;\"></div></div></div></div><div style=\"display: table-cell; padding-left:4em;\"></div><div style=\"vertical-align:bottom;display:table-cell;padding-left:5px;padding-right:5px;padding-top:5px;padding-bottom:5px;\"><div align=\"center\" style=\"display:table;\"><div align=\"center\" style=\"display:table-row;\"><div style=\"display:table-cell;table-layout:auto;vertical-align:bottom;border-bottom:1px solid #848482;\"><div style=\"display: table;\"><div style=\"vertical-align:bottom;display:table-cell;padding-left:5px;padding-right:5px;padding-top:5px;padding-bottom:5px;\"><div align=\"center\" style=\"display:block;padding-left:5px;padding-right:5px;padding-top:5px;padding-bottom:5px;\"><div style=\"display:table;table-layout:auto;\" align=\"center\"><div style=\"display:table-row;\"><div style=\"display:table-cell;padding-right:2px; padding-left:2px;\" align=\"center\"><div style=\"display:inline-block;\"><span>$[\\![\\text{\\textbf{3}}]\\!]^{}$</span></div></div></div><div style=\"display:table-row;\"><div style=\"display:table-cell;padding-right:2px; padding-left:2px;\" align=\"center\"><div style=\"display:inline-block;\"><span>[idx: 3]</span></div></div></div></div></div></div><div style=\"display: table-cell; padding-left:4em;\"></div><div style=\"vertical-align:bottom;display:table-cell;padding-left:5px;padding-right:5px;padding-top:5px;padding-bottom:5px;\"><div align=\"center\" style=\"display:table;\"><div align=\"center\" style=\"display:table-row;\"><div style=\"display:table-cell;table-layout:auto;vertical-align:bottom;border-bottom:1px solid #848482;\"><div style=\"display: table;\"><div style=\"vertical-align:bottom;display:table-cell;padding-left:5px;padding-right:5px;padding-top:5px;padding-bottom:5px;\"><div align=\"center\" style=\"display:table;\"><div align=\"center\" style=\"display:table-row;\"><div style=\"display:table-cell;table-layout:auto;vertical-align:bottom;border-bottom:1px solid #848482;\"><div style=\"display: table;\"><div style=\"vertical-align:bottom;display:table-cell;padding-left:5px;padding-right:5px;padding-top:5px;padding-bottom:5px;\"><div align=\"center\" style=\"display:block;padding-left:5px;padding-right:5px;padding-top:5px;padding-bottom:5px;\"><div style=\"display:table;table-layout:auto;\" align=\"center\"><div style=\"display:table-row;\"><div style=\"display:table-cell;padding-right:2px; padding-left:2px;\" align=\"center\"><div style=\"display:inline-block;\"><span>$[\\![\\text{\\textbf{if\\_}}]\\!]^{}_{\\left\\langle{}\\left\\{t\\right\\},\\left\\langle{}\\left\\{t\\right\\},\\left\\{t\\right\\}\\right\\rangle{}\\right\\rangle{}}$</span></div></div></div><div style=\"display:table-row;\"><div style=\"display:table-cell;padding-right:2px; padding-left:2px;\" align=\"center\"><div style=\"display:inline-block;\"><span>$\\lambda{} m_{\\left\\{t\\right\\}} \\: . \\: \\lambda{} n_{\\left\\{t\\right\\}} \\: . \\: \\{{If}_{\\left\\langle{}t,\\left\\langle{}t,t\\right\\rangle{}\\right\\rangle{}}(\\textsf{True} \\in{} {m})(\\textsf{True} \\in{} {n})\\}$</span></div></div></div></div></div></div><div style=\"display: table-cell; padding-left:4em;\"></div><div style=\"vertical-align:bottom;display:table-cell;padding-left:5px;padding-right:5px;padding-top:5px;padding-bottom:5px;\"><div align=\"center\" style=\"display:table;\"><div align=\"center\" style=\"display:table-row;\"><div style=\"display:table-cell;table-layout:auto;vertical-align:bottom;border-bottom:1px solid #848482;\"><div style=\"display: table;\"><div style=\"vertical-align:bottom;display:table-cell;padding-left:5px;padding-right:5px;padding-top:5px;padding-bottom:5px;\"><div align=\"center\" style=\"display:block;padding-left:5px;padding-right:5px;padding-top:5px;padding-bottom:5px;\"><div style=\"display:table;table-layout:auto;\" align=\"center\"><div style=\"display:table-row;\"><div style=\"display:table-cell;padding-right:2px; padding-left:2px;\" align=\"center\"><div style=\"display:inline-block;\"><span>$[\\![\\text{\\textbf{t}}_{3}]\\!]^{}_{t}$</span></div></div></div><div style=\"display:table-row;\"><div style=\"display:table-cell;padding-right:2px; padding-left:2px;\" align=\"center\"><div style=\"display:inline-block;\"><span>${var3}_{t}$</span></div></div></div></div></div></div></div></div><div style=\"display:table-cell;\"></div></div><div style=\"display:table-row;\"><div style=\"display: table-cell;\"></div><div style=\"display:table-cell;vertical-align:middle;\"><div style=\"vertical-align:middle;height:0px;overflow:visible\"><div style=\"color:blue;transform: translateY(-1em); padding-left:0.5em;\"><b>[<span>UnitShift</span>]</b></div></div></div></div><div align=\"center\" style=\"display:table-row;padding-left:5px;padding-right:5px;padding-top:5px;padding-bottom:5px;\"><div align=\"center\" style=\"display:block;padding-left:5px;padding-right:5px;padding-top:5px;padding-bottom:5px;\"><div style=\"display:table;table-layout:auto;\" align=\"center\"><div style=\"display:table-row;\"><div style=\"display:table-cell;padding-right:2px; padding-left:2px;\" align=\"center\"><div style=\"display:inline-block;\"><span>$[\\![\\text{\\textbf{[t3]}}]\\!]^{}_{\\left\\{t\\right\\}}$</span></div></div></div><div style=\"display:table-row;\"><div style=\"display:table-cell;padding-right:2px; padding-left:2px;\" align=\"center\"><div style=\"display:inline-block;\"><span>$\\{{var3}_{t}\\}$</span></div></div></div></div></div><div style=\"display: table-cell;\"></div></div></div></div></div></div><div style=\"display:table-cell;\"></div></div><div style=\"display:table-row;\"><div style=\"display: table-cell;\"></div><div style=\"display:table-cell;vertical-align:middle;\"><div style=\"vertical-align:middle;height:0px;overflow:visible\"><div style=\"color:blue;transform: translateY(-1em); padding-left:0.5em;\"><b>[<span>FA</span>]</b></div></div></div></div><div align=\"center\" style=\"display:table-row;padding-left:5px;padding-right:5px;padding-top:5px;padding-bottom:5px;\"><div align=\"center\" style=\"display:block;padding-left:5px;padding-right:5px;padding-top:5px;padding-bottom:5px;\"><div style=\"display:table;table-layout:auto;\" align=\"center\"><div style=\"display:table-row;\"><div style=\"display:table-cell;padding-right:2px; padding-left:2px;\" align=\"center\"><div style=\"display:inline-block;\"><span>$[\\![\\text{\\textbf{[if\\_ [t3]]}}]\\!]^{}_{\\left\\langle{}\\left\\{t\\right\\},\\left\\{t\\right\\}\\right\\rangle{}}$</span></div></div></div><div style=\"display:table-row;\"><div style=\"display:table-cell;padding-right:2px; padding-left:2px;\" align=\"center\"><div style=\"display:inline-block;\"><span>$\\lambda{} n_{\\left\\{t\\right\\}} \\: . \\: \\{{If}_{\\left\\langle{}t,\\left\\langle{}t,t\\right\\rangle{}\\right\\rangle{}}(\\textsf{True} \\leftrightarrow{} {var3}_{t})(\\textsf{True} \\in{} {n})\\}$</span></div></div></div></div></div><div style=\"display: table-cell;\"></div></div></div></div><div style=\"display: table-cell; padding-left:4em;\"></div><div style=\"vertical-align:bottom;display:table-cell;padding-left:5px;padding-right:5px;padding-top:5px;padding-bottom:5px;\"><div align=\"center\" style=\"display:table;\"><div align=\"center\" style=\"display:table-row;\"><div style=\"display:table-cell;table-layout:auto;vertical-align:bottom;border-bottom:1px solid #848482;\"><div style=\"display: table;\"><div style=\"vertical-align:bottom;display:table-cell;padding-left:5px;padding-right:5px;padding-top:5px;padding-bottom:5px;\"><div align=\"center\" style=\"display:block;padding-left:5px;padding-right:5px;padding-top:5px;padding-bottom:5px;\"><div style=\"display:table;table-layout:auto;\" align=\"center\"><div style=\"display:table-row;\"><div style=\"display:table-cell;padding-right:2px; padding-left:2px;\" align=\"center\"><div style=\"display:inline-block;\"><span>$[\\![\\text{\\textbf{house}}]\\!]^{}_{t}$</span></div></div></div><div style=\"display:table-row;\"><div style=\"display:table-cell;padding-right:2px; padding-left:2px;\" align=\"center\"><div style=\"display:inline-block;\"><span>${InheritHouse}_{t}$</span></div></div></div></div></div></div></div></div><div style=\"display:table-cell;\"></div></div><div style=\"display:table-row;\"><div style=\"display: table-cell;\"></div><div style=\"display:table-cell;vertical-align:middle;\"><div style=\"vertical-align:middle;height:0px;overflow:visible\"><div style=\"color:blue;transform: translateY(-1em); padding-left:0.5em;\"><b>[<span>UnitShift</span>]</b></div></div></div></div><div align=\"center\" style=\"display:table-row;padding-left:5px;padding-right:5px;padding-top:5px;padding-bottom:5px;\"><div align=\"center\" style=\"display:block;padding-left:5px;padding-right:5px;padding-top:5px;padding-bottom:5px;\"><div style=\"display:table;table-layout:auto;\" align=\"center\"><div style=\"display:table-row;\"><div style=\"display:table-cell;padding-right:2px; padding-left:2px;\" align=\"center\"><div style=\"display:inline-block;\"><span>$[\\![\\text{\\textbf{[house]}}]\\!]^{}_{\\left\\{t\\right\\}}$</span></div></div></div><div style=\"display:table-row;\"><div style=\"display:table-cell;padding-right:2px; padding-left:2px;\" align=\"center\"><div style=\"display:inline-block;\"><span>$\\{{InheritHouse}_{t}\\}$</span></div></div></div></div></div><div style=\"display: table-cell;\"></div></div></div></div></div></div><div style=\"display:table-cell;\"></div></div><div style=\"display:table-row;\"><div style=\"display: table-cell;\"></div><div style=\"display:table-cell;vertical-align:middle;\"><div style=\"vertical-align:middle;height:0px;overflow:visible\"><div style=\"color:blue;transform: translateY(-1em); padding-left:0.5em;\"><b>[<span>FA</span>]</b></div></div></div></div><div align=\"center\" style=\"display:table-row;padding-left:5px;padding-right:5px;padding-top:5px;padding-bottom:5px;\"><div align=\"center\" style=\"display:block;padding-left:5px;padding-right:5px;padding-top:5px;padding-bottom:5px;\"><div style=\"display:table;table-layout:auto;\" align=\"center\"><div style=\"display:table-row;\"><div style=\"display:table-cell;padding-right:2px; padding-left:2px;\" align=\"center\"><div style=\"display:inline-block;\"><span>$[\\![\\text{\\textbf{[[if\\_ [t3]] [house]]}}]\\!]^{}_{\\left\\{t\\right\\}}$</span></div></div></div><div style=\"display:table-row;\"><div style=\"display:table-cell;padding-right:2px; padding-left:2px;\" align=\"center\"><div style=\"display:inline-block;\"><span>$\\{{If}_{\\left\\langle{}t,\\left\\langle{}t,t\\right\\rangle{}\\right\\rangle{}}({var3}_{t})(\\textsf{True} \\leftrightarrow{} {InheritHouse}_{t})\\}$</span></div></div></div></div></div><div style=\"display: table-cell;\"></div></div></div></div></div></div><div style=\"display:table-cell;\"></div></div><div style=\"display:table-row;\"><div style=\"display: table-cell;\"></div><div style=\"display:table-cell;vertical-align:middle;\"><div style=\"vertical-align:middle;height:0px;overflow:visible\"><div style=\"color:blue;transform: translateY(-1em); padding-left:0.5em;\"><b>[<span>PA</span>]</b></div></div></div></div><div align=\"center\" style=\"display:table-row;padding-left:5px;padding-right:5px;padding-top:5px;padding-bottom:5px;\"><div align=\"center\" style=\"display:block;padding-left:5px;padding-right:5px;padding-top:5px;padding-bottom:5px;\"><div style=\"display:table;table-layout:auto;\" align=\"center\"><div style=\"display:table-row;\"><div style=\"display:table-cell;padding-right:2px; padding-left:2px;\" align=\"center\"><div style=\"display:inline-block;\"><span>$[\\![\\text{\\textbf{[3 [[if\\_ [t3]] [house]]]}}]\\!]^{}_{\\left\\langle{}t,\\left\\{t\\right\\}\\right\\rangle{}}$</span></div></div></div><div style=\"display:table-row;\"><div style=\"display:table-cell;padding-right:2px; padding-left:2px;\" align=\"center\"><div style=\"display:inline-block;\"><span>$\\lambda{} x_{t} \\: . \\: \\{{If}_{\\left\\langle{}t,\\left\\langle{}t,t\\right\\rangle{}\\right\\rangle{}}({x})({InheritHouse}_{t})\\}$</span></div></div></div></div></div><div style=\"display: table-cell;\"></div></div></div></div></div></div><div style=\"display:table-cell;\"></div></div><div style=\"display:table-row;\"><div style=\"display: table-cell;\"></div><div style=\"display:table-cell;vertical-align:middle;\"><div style=\"vertical-align:middle;height:0px;overflow:visible\"><div style=\"color:blue;transform: translateY(-1em); padding-left:0.5em;\"><b>[<span>Bind</span>]</b></div></div></div></div><div align=\"center\" style=\"display:table-row;padding-left:5px;padding-right:5px;padding-top:5px;padding-bottom:5px;\"><div align=\"center\" style=\"display:block;padding-left:5px;padding-right:5px;padding-top:5px;padding-bottom:5px;\"><div style=\"display:table;table-layout:auto;\" align=\"center\"><div style=\"display:table-row;\"><div style=\"display:table-cell;padding-right:2px; padding-left:2px;\" align=\"center\"><div style=\"display:inline-block;\"><span>$[\\![\\text{\\textbf{[[a\\_relative [2 [[dies t2]]]] [3 [[if\\_ [t3]] [house]]]]}}]\\!]^{}_{\\left\\{t\\right\\}}$</span></div></div></div><div style=\"display:table-row;\"><div style=\"display:table-cell;padding-right:2px; padding-left:2px;\" align=\"center\"><div style=\"display:inline-block;\"><span>$\\bigcup{} x_{t} \\in {\\small (\\bigcup{} x_{e} \\in {\\small \\{{x}_{e} \\:|\\: {Relative}({x}_{e})\\}} \\: . \\: \\{{Dies}({x})\\})} \\: . \\: \\{{If}_{\\left\\langle{}t,\\left\\langle{}t,t\\right\\rangle{}\\right\\rangle{}}({x})({InheritHouse}_{t})\\}$</span></div></div></div></div></div><div style=\"display: table-cell;\"></div></div></div><br /><br />"
      ]
     },
     "execution_count": 932,
     "metadata": {},
     "output_type": "execute_result"
    }
   ],
   "source": [
    "(l * r).tree()"
   ]
  },
  {
   "cell_type": "code",
   "execution_count": null,
   "id": "8cd26fb0-70bb-429a-917f-2aab96db63a6",
   "metadata": {},
   "outputs": [],
   "source": []
  },
  {
   "cell_type": "code",
   "execution_count": 936,
   "id": "a3c34fd5-3731-4e0f-b8c6-c9b95f8ea19c",
   "metadata": {},
   "outputs": [
    {
     "data": {
      "image/svg+xml": [
       "<svg baseProfile=\"full\" height=\"408px\" preserveAspectRatio=\"xMidYMid meet\" style=\"font-family: times, serif; font-weight: normal; font-style: normal; font-size: 16px;\" version=\"1.1\" viewBox=\"0,0,472.0,408.0\" width=\"472px\" xmlns=\"http://www.w3.org/2000/svg\" xmlns:ev=\"http://www.w3.org/2001/xml-events\" xmlns:xlink=\"http://www.w3.org/1999/xlink\"><defs /><svg width=\"100%\" x=\"0\" y=\"0px\"><defs /><text text-anchor=\"middle\" x=\"50%\" y=\"16px\">[a_philosopher [2 [[a_linguist [1 [[[visits t1] t2]]]]]]]</text></svg><svg width=\"25.8621%\" x=\"0%\" y=\"48px\"><defs /><svg width=\"100%\" x=\"0\" y=\"0px\"><defs /><text text-anchor=\"middle\" x=\"50%\" y=\"16px\">a_philosopher</text></svg></svg><line stroke=\"black\" x1=\"50%\" x2=\"12.931%\" y1=\"19.2px\" y2=\"48px\" /><svg width=\"74.1379%\" x=\"25.8621%\" y=\"48px\"><defs /><svg width=\"100%\" x=\"0\" y=\"0px\"><defs /><text text-anchor=\"middle\" x=\"50%\" y=\"16px\">[2 [[a_linguist [1 [[[visits t1] t2]]]]]]</text></svg><svg width=\"7.14286%\" x=\"0%\" y=\"48px\"><defs /><svg width=\"100%\" x=\"0\" y=\"0px\"><defs /><text text-anchor=\"middle\" x=\"50%\" y=\"16px\">2</text></svg></svg><line stroke=\"black\" x1=\"50%\" x2=\"3.57143%\" y1=\"19.2px\" y2=\"48px\" /><svg width=\"92.8571%\" x=\"7.14286%\" y=\"48px\"><defs /><svg width=\"100%\" x=\"0\" y=\"0px\"><defs /><text text-anchor=\"middle\" x=\"50%\" y=\"16px\">[[a_linguist [1 [[[visits t1] t2]]]]]</text></svg><svg width=\"100%\" x=\"0%\" y=\"48px\"><defs /><svg width=\"100%\" x=\"0\" y=\"0px\"><defs /><text text-anchor=\"middle\" x=\"50%\" y=\"16px\">[a_linguist [1 [[[visits t1] t2]]]]</text></svg><svg width=\"33.3333%\" x=\"0%\" y=\"48px\"><defs /><svg width=\"100%\" x=\"0\" y=\"0px\"><defs /><text text-anchor=\"middle\" x=\"50%\" y=\"16px\">a_linguist</text></svg></svg><line stroke=\"black\" x1=\"50%\" x2=\"16.6667%\" y1=\"19.2px\" y2=\"48px\" /><svg width=\"66.6667%\" x=\"33.3333%\" y=\"48px\"><defs /><svg width=\"100%\" x=\"0\" y=\"0px\"><defs /><text text-anchor=\"middle\" x=\"50%\" y=\"16px\">[1 [[[visits t1] t2]]]</text></svg><svg width=\"13.0435%\" x=\"0%\" y=\"48px\"><defs /><svg width=\"100%\" x=\"0\" y=\"0px\"><defs /><text text-anchor=\"middle\" x=\"50%\" y=\"16px\">1</text></svg></svg><line stroke=\"black\" x1=\"50%\" x2=\"6.52174%\" y1=\"19.2px\" y2=\"48px\" /><svg width=\"86.9565%\" x=\"13.0435%\" y=\"48px\"><defs /><svg width=\"100%\" x=\"0\" y=\"0px\"><defs /><text text-anchor=\"middle\" x=\"50%\" y=\"16px\">[[[visits t1] t2]]</text></svg><svg width=\"100%\" x=\"0%\" y=\"48px\"><defs /><svg width=\"100%\" x=\"0\" y=\"0px\"><defs /><text text-anchor=\"middle\" x=\"50%\" y=\"16px\">[[visits t1] t2]</text></svg><svg width=\"76.4706%\" x=\"0%\" y=\"48px\"><defs /><svg width=\"100%\" x=\"0\" y=\"0px\"><defs /><text text-anchor=\"middle\" x=\"50%\" y=\"16px\">[visits t1]</text></svg><svg width=\"66.6667%\" x=\"0%\" y=\"48px\"><defs /><svg width=\"100%\" x=\"0\" y=\"0px\"><defs /><text text-anchor=\"middle\" x=\"50%\" y=\"16px\">visits</text></svg></svg><line stroke=\"black\" x1=\"50%\" x2=\"33.3333%\" y1=\"19.2px\" y2=\"48px\" /><svg width=\"33.3333%\" x=\"66.6667%\" y=\"48px\"><defs /><svg width=\"100%\" x=\"0\" y=\"0px\"><defs /><text text-anchor=\"middle\" x=\"50%\" y=\"16px\">t1</text></svg></svg><line stroke=\"black\" x1=\"50%\" x2=\"83.3333%\" y1=\"19.2px\" y2=\"48px\" /></svg><line stroke=\"black\" x1=\"50%\" x2=\"38.2353%\" y1=\"19.2px\" y2=\"48px\" /><svg width=\"23.5294%\" x=\"76.4706%\" y=\"48px\"><defs /><svg width=\"100%\" x=\"0\" y=\"0px\"><defs /><text text-anchor=\"middle\" x=\"50%\" y=\"16px\">t2</text></svg></svg><line stroke=\"black\" x1=\"50%\" x2=\"88.2353%\" y1=\"19.2px\" y2=\"48px\" /></svg><line stroke=\"black\" x1=\"50%\" x2=\"50%\" y1=\"19.2px\" y2=\"48px\" /></svg><line stroke=\"black\" x1=\"50%\" x2=\"56.5217%\" y1=\"19.2px\" y2=\"48px\" /></svg><line stroke=\"black\" x1=\"50%\" x2=\"66.6667%\" y1=\"19.2px\" y2=\"48px\" /></svg><line stroke=\"black\" x1=\"50%\" x2=\"50%\" y1=\"19.2px\" y2=\"48px\" /></svg><line stroke=\"black\" x1=\"50%\" x2=\"53.5714%\" y1=\"19.2px\" y2=\"48px\" /></svg><line stroke=\"black\" x1=\"50%\" x2=\"62.931%\" y1=\"19.2px\" y2=\"48px\" /></svg>"
      ],
      "text/plain": [
       "Tree('[a_philosopher [2 [[a_linguist [1 [[[visits t1] t2]]]]]]]', [Tree('a_philosopher', []), Tree('[2 [[a_linguist [1 [[[visits t1] t2]]]]]]', [Tree('2', []), Tree('[[a_linguist [1 [[[visits t1] t2]]]]]', [Tree('[a_linguist [1 [[[visits t1] t2]]]]', [Tree('a_linguist', []), Tree('[1 [[[visits t1] t2]]]', [Tree('1', []), Tree('[[[visits t1] t2]]', [Tree('[[visits t1] t2]', [Tree('[visits t1]', [Tree('visits', []), Tree('t1', [])]), Tree('t2', [])])])])])])])])"
      ]
     },
     "execution_count": 936,
     "metadata": {},
     "output_type": "execute_result"
    }
   ],
   "source": [
    "l = a_philosopher * (lang.Binder(2) * ((a_linguist * (lang.Binder(1) * (((visits * lang.Trace(1)) * lang.Trace(2)) * None))) * None))\n",
    "l.source_tree()"
   ]
  },
  {
   "cell_type": "code",
   "execution_count": 937,
   "id": "f66de414-f9b4-4ebe-b76b-422cfecc2615",
   "metadata": {},
   "outputs": [
    {
     "data": {
      "text/markdown": [
       "1 composition path.  Result:<br />\n",
       "&nbsp;&nbsp;&nbsp;&nbsp;[0]: $[\\![\\text{\\textbf{[3 [[if\\_ t3] [house]]]}}]\\!]^{}_{\\left\\langle{}\\left\\{t\\right\\},\\left\\{t\\right\\}\\right\\rangle{}} \\:=\\: \\lambda{} x_{\\left\\{t\\right\\}} \\: . \\: \\{{If}_{\\left\\langle{}t,\\left\\langle{}t,t\\right\\rangle{}\\right\\rangle{}}(\\textsf{True} \\in{} {x})({InheritHouse}_{t})\\}$"
      ],
      "text/plain": [
       "1 composition path.  Result:\n",
       "    [0]: ⟦3⟧ * ⟦[[if_ t3] [house]]⟧ leads to: ⟦[3 [[if_ t3] [house]]]⟧ = (λ x_{t}: {If_<t,<t,t>>(True << x_{t})(InheritHouse_t)}) [by PA]"
      ]
     },
     "metadata": {},
     "output_type": "display_data"
    }
   ],
   "source": [
    "r = lang.Binder(3) * ((if_ * (lang.Trace(3, typ=tp(\"{t}\")))) * house)\n",
    "r"
   ]
  },
  {
   "cell_type": "code",
   "execution_count": 938,
   "id": "5bc0eaea-7667-4b8b-89d1-eb4a79fadb9f",
   "metadata": {},
   "outputs": [
    {
     "data": {
      "image/svg+xml": [
       "<svg baseProfile=\"full\" height=\"456px\" preserveAspectRatio=\"xMidYMid meet\" style=\"font-family: times, serif; font-weight: normal; font-style: normal; font-size: 16px;\" version=\"1.1\" viewBox=\"0,0,672.0,456.0\" width=\"672px\" xmlns=\"http://www.w3.org/2000/svg\" xmlns:ev=\"http://www.w3.org/2001/xml-events\" xmlns:xlink=\"http://www.w3.org/1999/xlink\"><defs /><svg width=\"100%\" x=\"0\" y=\"0px\"><defs /><text text-anchor=\"middle\" x=\"50%\" y=\"16px\">[[a_philosopher [2 [[a_linguist [1 [[[visits t1] t2]]]]]]] [3 [[if_ t3] [house]]]]</text></svg><svg width=\"71.0843%\" x=\"0%\" y=\"48px\"><defs /><svg width=\"100%\" x=\"0\" y=\"0px\"><defs /><text text-anchor=\"middle\" x=\"50%\" y=\"16px\">[a_philosopher [2 [[a_linguist [1 [[[visits t1] t2]]]]]]]</text></svg><svg width=\"25.8621%\" x=\"0%\" y=\"48px\"><defs /><svg width=\"100%\" x=\"0\" y=\"0px\"><defs /><text text-anchor=\"middle\" x=\"50%\" y=\"16px\">a_philosopher</text></svg></svg><line stroke=\"black\" x1=\"50%\" x2=\"12.931%\" y1=\"19.2px\" y2=\"48px\" /><svg width=\"74.1379%\" x=\"25.8621%\" y=\"48px\"><defs /><svg width=\"100%\" x=\"0\" y=\"0px\"><defs /><text text-anchor=\"middle\" x=\"50%\" y=\"16px\">[2 [[a_linguist [1 [[[visits t1] t2]]]]]]</text></svg><svg width=\"7.14286%\" x=\"0%\" y=\"48px\"><defs /><svg width=\"100%\" x=\"0\" y=\"0px\"><defs /><text text-anchor=\"middle\" x=\"50%\" y=\"16px\">2</text></svg></svg><line stroke=\"black\" x1=\"50%\" x2=\"3.57143%\" y1=\"19.2px\" y2=\"48px\" /><svg width=\"92.8571%\" x=\"7.14286%\" y=\"48px\"><defs /><svg width=\"100%\" x=\"0\" y=\"0px\"><defs /><text text-anchor=\"middle\" x=\"50%\" y=\"16px\">[[a_linguist [1 [[[visits t1] t2]]]]]</text></svg><svg width=\"100%\" x=\"0%\" y=\"48px\"><defs /><svg width=\"100%\" x=\"0\" y=\"0px\"><defs /><text text-anchor=\"middle\" x=\"50%\" y=\"16px\">[a_linguist [1 [[[visits t1] t2]]]]</text></svg><svg width=\"33.3333%\" x=\"0%\" y=\"48px\"><defs /><svg width=\"100%\" x=\"0\" y=\"0px\"><defs /><text text-anchor=\"middle\" x=\"50%\" y=\"16px\">a_linguist</text></svg></svg><line stroke=\"black\" x1=\"50%\" x2=\"16.6667%\" y1=\"19.2px\" y2=\"48px\" /><svg width=\"66.6667%\" x=\"33.3333%\" y=\"48px\"><defs /><svg width=\"100%\" x=\"0\" y=\"0px\"><defs /><text text-anchor=\"middle\" x=\"50%\" y=\"16px\">[1 [[[visits t1] t2]]]</text></svg><svg width=\"13.0435%\" x=\"0%\" y=\"48px\"><defs /><svg width=\"100%\" x=\"0\" y=\"0px\"><defs /><text text-anchor=\"middle\" x=\"50%\" y=\"16px\">1</text></svg></svg><line stroke=\"black\" x1=\"50%\" x2=\"6.52174%\" y1=\"19.2px\" y2=\"48px\" /><svg width=\"86.9565%\" x=\"13.0435%\" y=\"48px\"><defs /><svg width=\"100%\" x=\"0\" y=\"0px\"><defs /><text text-anchor=\"middle\" x=\"50%\" y=\"16px\">[[[visits t1] t2]]</text></svg><svg width=\"100%\" x=\"0%\" y=\"48px\"><defs /><svg width=\"100%\" x=\"0\" y=\"0px\"><defs /><text text-anchor=\"middle\" x=\"50%\" y=\"16px\">[[visits t1] t2]</text></svg><svg width=\"76.4706%\" x=\"0%\" y=\"48px\"><defs /><svg width=\"100%\" x=\"0\" y=\"0px\"><defs /><text text-anchor=\"middle\" x=\"50%\" y=\"16px\">[visits t1]</text></svg><svg width=\"66.6667%\" x=\"0%\" y=\"48px\"><defs /><svg width=\"100%\" x=\"0\" y=\"0px\"><defs /><text text-anchor=\"middle\" x=\"50%\" y=\"16px\">visits</text></svg></svg><line stroke=\"black\" x1=\"50%\" x2=\"33.3333%\" y1=\"19.2px\" y2=\"48px\" /><svg width=\"33.3333%\" x=\"66.6667%\" y=\"48px\"><defs /><svg width=\"100%\" x=\"0\" y=\"0px\"><defs /><text text-anchor=\"middle\" x=\"50%\" y=\"16px\">t1</text></svg></svg><line stroke=\"black\" x1=\"50%\" x2=\"83.3333%\" y1=\"19.2px\" y2=\"48px\" /></svg><line stroke=\"black\" x1=\"50%\" x2=\"38.2353%\" y1=\"19.2px\" y2=\"48px\" /><svg width=\"23.5294%\" x=\"76.4706%\" y=\"48px\"><defs /><svg width=\"100%\" x=\"0\" y=\"0px\"><defs /><text text-anchor=\"middle\" x=\"50%\" y=\"16px\">t2</text></svg></svg><line stroke=\"black\" x1=\"50%\" x2=\"88.2353%\" y1=\"19.2px\" y2=\"48px\" /></svg><line stroke=\"black\" x1=\"50%\" x2=\"50%\" y1=\"19.2px\" y2=\"48px\" /></svg><line stroke=\"black\" x1=\"50%\" x2=\"56.5217%\" y1=\"19.2px\" y2=\"48px\" /></svg><line stroke=\"black\" x1=\"50%\" x2=\"66.6667%\" y1=\"19.2px\" y2=\"48px\" /></svg><line stroke=\"black\" x1=\"50%\" x2=\"50%\" y1=\"19.2px\" y2=\"48px\" /></svg><line stroke=\"black\" x1=\"50%\" x2=\"53.5714%\" y1=\"19.2px\" y2=\"48px\" /></svg><line stroke=\"black\" x1=\"50%\" x2=\"62.931%\" y1=\"19.2px\" y2=\"48px\" /></svg><line stroke=\"black\" x1=\"50%\" x2=\"35.5422%\" y1=\"19.2px\" y2=\"48px\" /><svg width=\"28.9157%\" x=\"71.0843%\" y=\"48px\"><defs /><svg width=\"100%\" x=\"0\" y=\"0px\"><defs /><text text-anchor=\"middle\" x=\"50%\" y=\"16px\">[3 [[if_ t3] [house]]]</text></svg><svg width=\"13.0435%\" x=\"0%\" y=\"48px\"><defs /><svg width=\"100%\" x=\"0\" y=\"0px\"><defs /><text text-anchor=\"middle\" x=\"50%\" y=\"16px\">3</text></svg></svg><line stroke=\"black\" x1=\"50%\" x2=\"6.52174%\" y1=\"19.2px\" y2=\"48px\" /><svg width=\"86.9565%\" x=\"13.0435%\" y=\"48px\"><defs /><svg width=\"100%\" x=\"0\" y=\"0px\"><defs /><text text-anchor=\"middle\" x=\"50%\" y=\"16px\">[[if_ t3] [house]]</text></svg><svg width=\"52.6316%\" x=\"0%\" y=\"48px\"><defs /><svg width=\"100%\" x=\"0\" y=\"0px\"><defs /><text text-anchor=\"middle\" x=\"50%\" y=\"16px\">[if_ t3]</text></svg><svg width=\"55.5556%\" x=\"0%\" y=\"48px\"><defs /><svg width=\"100%\" x=\"0\" y=\"0px\"><defs /><text text-anchor=\"middle\" x=\"50%\" y=\"16px\">if_</text></svg></svg><line stroke=\"black\" x1=\"50%\" x2=\"27.7778%\" y1=\"19.2px\" y2=\"48px\" /><svg width=\"44.4444%\" x=\"55.5556%\" y=\"48px\"><defs /><svg width=\"100%\" x=\"0\" y=\"0px\"><defs /><text text-anchor=\"middle\" x=\"50%\" y=\"16px\">t3</text></svg></svg><line stroke=\"black\" x1=\"50%\" x2=\"77.7778%\" y1=\"19.2px\" y2=\"48px\" /></svg><line stroke=\"black\" x1=\"50%\" x2=\"26.3158%\" y1=\"19.2px\" y2=\"48px\" /><svg width=\"47.3684%\" x=\"52.6316%\" y=\"48px\"><defs /><svg width=\"100%\" x=\"0\" y=\"0px\"><defs /><text text-anchor=\"middle\" x=\"50%\" y=\"16px\">[house]</text></svg><svg width=\"100%\" x=\"0%\" y=\"48px\"><defs /><svg width=\"100%\" x=\"0\" y=\"0px\"><defs /><text text-anchor=\"middle\" x=\"50%\" y=\"16px\">house</text></svg></svg><line stroke=\"black\" x1=\"50%\" x2=\"50%\" y1=\"19.2px\" y2=\"48px\" /></svg><line stroke=\"black\" x1=\"50%\" x2=\"76.3158%\" y1=\"19.2px\" y2=\"48px\" /></svg><line stroke=\"black\" x1=\"50%\" x2=\"56.5217%\" y1=\"19.2px\" y2=\"48px\" /></svg><line stroke=\"black\" x1=\"50%\" x2=\"85.5422%\" y1=\"19.2px\" y2=\"48px\" /></svg>"
      ],
      "text/plain": [
       "Tree('[[a_philosopher [2 [[a_linguist [1 [[[visits t1] t2]]]]]]] [3 [[if_ t3] [house]]]]', [Tree('[a_philosopher [2 [[a_linguist [1 [[[visits t1] t2]]]]]]]', [Tree('a_philosopher', []), Tree('[2 [[a_linguist [1 [[[visits t1] t2]]]]]]', [Tree('2', []), Tree('[[a_linguist [1 [[[visits t1] t2]]]]]', [Tree('[a_linguist [1 [[[visits t1] t2]]]]', [Tree('a_linguist', []), Tree('[1 [[[visits t1] t2]]]', [Tree('1', []), Tree('[[[visits t1] t2]]', [Tree('[[visits t1] t2]', [Tree('[visits t1]', [Tree('visits', []), Tree('t1', [])]), Tree('t2', [])])])])])])])]), Tree('[3 [[if_ t3] [house]]]', [Tree('3', []), Tree('[[if_ t3] [house]]', [Tree('[if_ t3]', [Tree('if_', []), Tree('t3', [])]), Tree('[house]', [Tree('house', [])])])])])"
      ]
     },
     "execution_count": 938,
     "metadata": {},
     "output_type": "execute_result"
    }
   ],
   "source": [
    "(l * r).source_tree()"
   ]
  },
  {
   "cell_type": "code",
   "execution_count": 939,
   "id": "5ec69c85-4d8a-480d-ad5e-b17807b9a9a4",
   "metadata": {},
   "outputs": [
    {
     "data": {
      "text/html": [
       "1 composition path:<br /><div align=\"center\" style=\"display:table;\"><div align=\"center\" style=\"display:table-row;\"><div style=\"display:table-cell;table-layout:auto;vertical-align:bottom;border-bottom:1px solid #848482;\"><div style=\"display: table;\"><div style=\"vertical-align:bottom;display:table-cell;padding-left:5px;padding-right:5px;padding-top:5px;padding-bottom:5px;\"><div align=\"center\" style=\"display:table;\"><div align=\"center\" style=\"display:table-row;\"><div style=\"display:table-cell;table-layout:auto;vertical-align:bottom;border-bottom:1px solid #848482;\"><div style=\"display: table;\"><div style=\"vertical-align:bottom;display:table-cell;padding-left:5px;padding-right:5px;padding-top:5px;padding-bottom:5px;\"><div align=\"center\" style=\"display:block;padding-left:5px;padding-right:5px;padding-top:5px;padding-bottom:5px;\"><div style=\"display:table;table-layout:auto;\" align=\"center\"><div style=\"display:table-row;\"><div style=\"display:table-cell;padding-right:2px; padding-left:2px;\" align=\"center\"><div style=\"display:inline-block;\"><span>$[\\![\\text{\\textbf{a\\_philosopher}}]\\!]^{}_{\\left\\{e\\right\\}}$</span></div></div></div><div style=\"display:table-row;\"><div style=\"display:table-cell;padding-right:2px; padding-left:2px;\" align=\"center\"><div style=\"display:inline-block;\"><span>$\\{{x}_{e} \\:|\\: {Philosopher}({x}_{e})\\}$</span></div></div></div></div></div></div><div style=\"display: table-cell; padding-left:4em;\"></div><div style=\"vertical-align:bottom;display:table-cell;padding-left:5px;padding-right:5px;padding-top:5px;padding-bottom:5px;\"><div align=\"center\" style=\"display:table;\"><div align=\"center\" style=\"display:table-row;\"><div style=\"display:table-cell;table-layout:auto;vertical-align:bottom;border-bottom:1px solid #848482;\"><div style=\"display: table;\"><div style=\"vertical-align:bottom;display:table-cell;padding-left:5px;padding-right:5px;padding-top:5px;padding-bottom:5px;\"><div align=\"center\" style=\"display:block;padding-left:5px;padding-right:5px;padding-top:5px;padding-bottom:5px;\"><div style=\"display:table;table-layout:auto;\" align=\"center\"><div style=\"display:table-row;\"><div style=\"display:table-cell;padding-right:2px; padding-left:2px;\" align=\"center\"><div style=\"display:inline-block;\"><span>$[\\![\\text{\\textbf{2}}]\\!]^{}$</span></div></div></div><div style=\"display:table-row;\"><div style=\"display:table-cell;padding-right:2px; padding-left:2px;\" align=\"center\"><div style=\"display:inline-block;\"><span>[idx: 2]</span></div></div></div></div></div></div><div style=\"display: table-cell; padding-left:4em;\"></div><div style=\"vertical-align:bottom;display:table-cell;padding-left:5px;padding-right:5px;padding-top:5px;padding-bottom:5px;\"><div align=\"center\" style=\"display:table;\"><div align=\"center\" style=\"display:table-row;\"><div style=\"display:table-cell;table-layout:auto;vertical-align:bottom;border-bottom:1px solid #848482;\"><div style=\"display: table;\"><div style=\"vertical-align:bottom;display:table-cell;padding-left:5px;padding-right:5px;padding-top:5px;padding-bottom:5px;\"><div align=\"center\" style=\"display:table;\"><div align=\"center\" style=\"display:table-row;\"><div style=\"display:table-cell;table-layout:auto;vertical-align:bottom;border-bottom:1px solid #848482;\"><div style=\"display: table;\"><div style=\"vertical-align:bottom;display:table-cell;padding-left:5px;padding-right:5px;padding-top:5px;padding-bottom:5px;\"><div align=\"center\" style=\"display:block;padding-left:5px;padding-right:5px;padding-top:5px;padding-bottom:5px;\"><div style=\"display:table;table-layout:auto;\" align=\"center\"><div style=\"display:table-row;\"><div style=\"display:table-cell;padding-right:2px; padding-left:2px;\" align=\"center\"><div style=\"display:inline-block;\"><span>$[\\![\\text{\\textbf{a\\_linguist}}]\\!]^{}_{\\left\\{e\\right\\}}$</span></div></div></div><div style=\"display:table-row;\"><div style=\"display:table-cell;padding-right:2px; padding-left:2px;\" align=\"center\"><div style=\"display:inline-block;\"><span>$\\{{x}_{e} \\:|\\: {Linguist}({x}_{e})\\}$</span></div></div></div></div></div></div><div style=\"display: table-cell; padding-left:4em;\"></div><div style=\"vertical-align:bottom;display:table-cell;padding-left:5px;padding-right:5px;padding-top:5px;padding-bottom:5px;\"><div align=\"center\" style=\"display:table;\"><div align=\"center\" style=\"display:table-row;\"><div style=\"display:table-cell;table-layout:auto;vertical-align:bottom;border-bottom:1px solid #848482;\"><div style=\"display: table;\"><div style=\"vertical-align:bottom;display:table-cell;padding-left:5px;padding-right:5px;padding-top:5px;padding-bottom:5px;\"><div align=\"center\" style=\"display:block;padding-left:5px;padding-right:5px;padding-top:5px;padding-bottom:5px;\"><div style=\"display:table;table-layout:auto;\" align=\"center\"><div style=\"display:table-row;\"><div style=\"display:table-cell;padding-right:2px; padding-left:2px;\" align=\"center\"><div style=\"display:inline-block;\"><span>$[\\![\\text{\\textbf{1}}]\\!]^{}$</span></div></div></div><div style=\"display:table-row;\"><div style=\"display:table-cell;padding-right:2px; padding-left:2px;\" align=\"center\"><div style=\"display:inline-block;\"><span>[idx: 1]</span></div></div></div></div></div></div><div style=\"display: table-cell; padding-left:4em;\"></div><div style=\"vertical-align:bottom;display:table-cell;padding-left:5px;padding-right:5px;padding-top:5px;padding-bottom:5px;\"><div align=\"center\" style=\"display:table;\"><div align=\"center\" style=\"display:table-row;\"><div style=\"display:table-cell;table-layout:auto;vertical-align:bottom;border-bottom:1px solid #848482;\"><div style=\"display: table;\"><div style=\"vertical-align:bottom;display:table-cell;padding-left:5px;padding-right:5px;padding-top:5px;padding-bottom:5px;\"><div align=\"center\" style=\"display:table;\"><div align=\"center\" style=\"display:table-row;\"><div style=\"display:table-cell;table-layout:auto;vertical-align:bottom;border-bottom:1px solid #848482;\"><div style=\"display: table;\"><div style=\"vertical-align:bottom;display:table-cell;padding-left:5px;padding-right:5px;padding-top:5px;padding-bottom:5px;\"><div align=\"center\" style=\"display:table;\"><div align=\"center\" style=\"display:table-row;\"><div style=\"display:table-cell;table-layout:auto;vertical-align:bottom;border-bottom:1px solid #848482;\"><div style=\"display: table;\"><div style=\"vertical-align:bottom;display:table-cell;padding-left:5px;padding-right:5px;padding-top:5px;padding-bottom:5px;\"><div align=\"center\" style=\"display:block;padding-left:5px;padding-right:5px;padding-top:5px;padding-bottom:5px;\"><div style=\"display:table;table-layout:auto;\" align=\"center\"><div style=\"display:table-row;\"><div style=\"display:table-cell;padding-right:2px; padding-left:2px;\" align=\"center\"><div style=\"display:inline-block;\"><span>$[\\![\\text{\\textbf{visits}}]\\!]^{}_{\\left\\langle{}e,\\left\\langle{}e,t\\right\\rangle{}\\right\\rangle{}}$</span></div></div></div><div style=\"display:table-row;\"><div style=\"display:table-cell;padding-right:2px; padding-left:2px;\" align=\"center\"><div style=\"display:inline-block;\"><span>$\\lambda{} y_{e} \\: . \\: \\lambda{} x_{e} \\: . \\: {Visits}({x}, {y})$</span></div></div></div></div></div></div><div style=\"display: table-cell; padding-left:4em;\"></div><div style=\"vertical-align:bottom;display:table-cell;padding-left:5px;padding-right:5px;padding-top:5px;padding-bottom:5px;\"><div align=\"center\" style=\"display:block;padding-left:5px;padding-right:5px;padding-top:5px;padding-bottom:5px;\"><div style=\"display:table;table-layout:auto;\" align=\"center\"><div style=\"display:table-row;\"><div style=\"display:table-cell;padding-right:2px; padding-left:2px;\" align=\"center\"><div style=\"display:inline-block;\"><span>$[\\![\\text{\\textbf{t}}_{1}]\\!]^{}_{e}$</span></div></div></div><div style=\"display:table-row;\"><div style=\"display:table-cell;padding-right:2px; padding-left:2px;\" align=\"center\"><div style=\"display:inline-block;\"><span>${var1}_{e}$</span></div></div></div></div></div></div></div></div><div style=\"display:table-cell;\"></div></div><div style=\"display:table-row;\"><div style=\"display: table-cell;\"></div><div style=\"display:table-cell;vertical-align:middle;\"><div style=\"vertical-align:middle;height:0px;overflow:visible\"><div style=\"color:blue;transform: translateY(-1em); padding-left:0.5em;\"><b>[<span>FA</span>]</b></div></div></div></div><div align=\"center\" style=\"display:table-row;padding-left:5px;padding-right:5px;padding-top:5px;padding-bottom:5px;\"><div align=\"center\" style=\"display:block;padding-left:5px;padding-right:5px;padding-top:5px;padding-bottom:5px;\"><div style=\"display:table;table-layout:auto;\" align=\"center\"><div style=\"display:table-row;\"><div style=\"display:table-cell;padding-right:2px; padding-left:2px;\" align=\"center\"><div style=\"display:inline-block;\"><span>$[\\![\\text{\\textbf{[visits t1]}}]\\!]^{}_{\\left\\langle{}e,t\\right\\rangle{}}$</span></div></div></div><div style=\"display:table-row;\"><div style=\"display:table-cell;padding-right:2px; padding-left:2px;\" align=\"center\"><div style=\"display:inline-block;\"><span>$\\lambda{} x_{e} \\: . \\: {Visits}({x}, {var1}_{e})$</span></div></div></div></div></div><div style=\"display: table-cell;\"></div></div></div></div><div style=\"display: table-cell; padding-left:4em;\"></div><div style=\"vertical-align:bottom;display:table-cell;padding-left:5px;padding-right:5px;padding-top:5px;padding-bottom:5px;\"><div align=\"center\" style=\"display:block;padding-left:5px;padding-right:5px;padding-top:5px;padding-bottom:5px;\"><div style=\"display:table;table-layout:auto;\" align=\"center\"><div style=\"display:table-row;\"><div style=\"display:table-cell;padding-right:2px; padding-left:2px;\" align=\"center\"><div style=\"display:inline-block;\"><span>$[\\![\\text{\\textbf{t}}_{2}]\\!]^{}_{e}$</span></div></div></div><div style=\"display:table-row;\"><div style=\"display:table-cell;padding-right:2px; padding-left:2px;\" align=\"center\"><div style=\"display:inline-block;\"><span>${var2}_{e}$</span></div></div></div></div></div></div></div></div><div style=\"display:table-cell;\"></div></div><div style=\"display:table-row;\"><div style=\"display: table-cell;\"></div><div style=\"display:table-cell;vertical-align:middle;\"><div style=\"vertical-align:middle;height:0px;overflow:visible\"><div style=\"color:blue;transform: translateY(-1em); padding-left:0.5em;\"><b>[<span>FA</span>]</b></div></div></div></div><div align=\"center\" style=\"display:table-row;padding-left:5px;padding-right:5px;padding-top:5px;padding-bottom:5px;\"><div align=\"center\" style=\"display:block;padding-left:5px;padding-right:5px;padding-top:5px;padding-bottom:5px;\"><div style=\"display:table;table-layout:auto;\" align=\"center\"><div style=\"display:table-row;\"><div style=\"display:table-cell;padding-right:2px; padding-left:2px;\" align=\"center\"><div style=\"display:inline-block;\"><span>$[\\![\\text{\\textbf{[[visits t1] t2]}}]\\!]^{}_{t}$</span></div></div></div><div style=\"display:table-row;\"><div style=\"display:table-cell;padding-right:2px; padding-left:2px;\" align=\"center\"><div style=\"display:inline-block;\"><span>${Visits}({var2}_{e}, {var1}_{e})$</span></div></div></div></div></div><div style=\"display: table-cell;\"></div></div></div></div></div></div><div style=\"display:table-cell;\"></div></div><div style=\"display:table-row;\"><div style=\"display: table-cell;\"></div><div style=\"display:table-cell;vertical-align:middle;\"><div style=\"vertical-align:middle;height:0px;overflow:visible\"><div style=\"color:blue;transform: translateY(-1em); padding-left:0.5em;\"><b>[<span>Unit</span>]</b></div></div></div></div><div align=\"center\" style=\"display:table-row;padding-left:5px;padding-right:5px;padding-top:5px;padding-bottom:5px;\"><div align=\"center\" style=\"display:block;padding-left:5px;padding-right:5px;padding-top:5px;padding-bottom:5px;\"><div style=\"display:table;table-layout:auto;\" align=\"center\"><div style=\"display:table-row;\"><div style=\"display:table-cell;padding-right:2px; padding-left:2px;\" align=\"center\"><div style=\"display:inline-block;\"><span>$[\\![\\text{\\textbf{[[[visits t1] t2]]}}]\\!]^{}_{\\left\\{t\\right\\}}$</span></div></div></div><div style=\"display:table-row;\"><div style=\"display:table-cell;padding-right:2px; padding-left:2px;\" align=\"center\"><div style=\"display:inline-block;\"><span>$\\{{Visits}({var2}_{e}, {var1}_{e})\\}$</span></div></div></div></div></div><div style=\"display: table-cell;\"></div></div></div></div></div></div><div style=\"display:table-cell;\"></div></div><div style=\"display:table-row;\"><div style=\"display: table-cell;\"></div><div style=\"display:table-cell;vertical-align:middle;\"><div style=\"vertical-align:middle;height:0px;overflow:visible\"><div style=\"color:blue;transform: translateY(-1em); padding-left:0.5em;\"><b>[<span>PA</span>]</b></div></div></div></div><div align=\"center\" style=\"display:table-row;padding-left:5px;padding-right:5px;padding-top:5px;padding-bottom:5px;\"><div align=\"center\" style=\"display:block;padding-left:5px;padding-right:5px;padding-top:5px;padding-bottom:5px;\"><div style=\"display:table;table-layout:auto;\" align=\"center\"><div style=\"display:table-row;\"><div style=\"display:table-cell;padding-right:2px; padding-left:2px;\" align=\"center\"><div style=\"display:inline-block;\"><span>$[\\![\\text{\\textbf{[1 [[[visits t1] t2]]]}}]\\!]^{}_{\\left\\langle{}e,\\left\\{t\\right\\}\\right\\rangle{}}$</span></div></div></div><div style=\"display:table-row;\"><div style=\"display:table-cell;padding-right:2px; padding-left:2px;\" align=\"center\"><div style=\"display:inline-block;\"><span>$\\lambda{} x_{e} \\: . \\: \\{{Visits}({var2}_{e}, {x})\\}$</span></div></div></div></div></div><div style=\"display: table-cell;\"></div></div></div></div></div></div><div style=\"display:table-cell;\"></div></div><div style=\"display:table-row;\"><div style=\"display: table-cell;\"></div><div style=\"display:table-cell;vertical-align:middle;\"><div style=\"vertical-align:middle;height:0px;overflow:visible\"><div style=\"color:blue;transform: translateY(-1em); padding-left:0.5em;\"><b>[<span>Bind</span>]</b></div></div></div></div><div align=\"center\" style=\"display:table-row;padding-left:5px;padding-right:5px;padding-top:5px;padding-bottom:5px;\"><div align=\"center\" style=\"display:block;padding-left:5px;padding-right:5px;padding-top:5px;padding-bottom:5px;\"><div style=\"display:table;table-layout:auto;\" align=\"center\"><div style=\"display:table-row;\"><div style=\"display:table-cell;padding-right:2px; padding-left:2px;\" align=\"center\"><div style=\"display:inline-block;\"><span>$[\\![\\text{\\textbf{[a\\_linguist [1 [[[visits t1] t2]]]]}}]\\!]^{}_{\\left\\{t\\right\\}}$</span></div></div></div><div style=\"display:table-row;\"><div style=\"display:table-cell;padding-right:2px; padding-left:2px;\" align=\"center\"><div style=\"display:inline-block;\"><span>$\\bigcup{} x_{e} \\in {\\small \\{{x}_{e} \\:|\\: {Linguist}({x}_{e})\\}} \\: . \\: \\{{Visits}({var2}_{e}, {x})\\}$</span></div></div></div></div></div><div style=\"display: table-cell;\"></div></div></div></div></div></div><div style=\"display:table-cell;\"></div></div><div style=\"display:table-row;\"><div style=\"display: table-cell;\"></div><div style=\"display:table-cell;vertical-align:middle;\"><div style=\"vertical-align:middle;height:0px;overflow:visible\"><div style=\"color:blue;transform: translateY(-1em); padding-left:0.5em;\"><b>[<span>Unit</span>]</b></div></div></div></div><div align=\"center\" style=\"display:table-row;padding-left:5px;padding-right:5px;padding-top:5px;padding-bottom:5px;\"><div align=\"center\" style=\"display:block;padding-left:5px;padding-right:5px;padding-top:5px;padding-bottom:5px;\"><div style=\"display:table;table-layout:auto;\" align=\"center\"><div style=\"display:table-row;\"><div style=\"display:table-cell;padding-right:2px; padding-left:2px;\" align=\"center\"><div style=\"display:inline-block;\"><span>$[\\![\\text{\\textbf{[[a\\_linguist [1 [[[visits t1] t2]]]]]}}]\\!]^{}_{\\left\\{\\left\\{t\\right\\}\\right\\}}$</span></div></div></div><div style=\"display:table-row;\"><div style=\"display:table-cell;padding-right:2px; padding-left:2px;\" align=\"center\"><div style=\"display:inline-block;\"><span>$\\{(\\bigcup{} x_{e} \\in {\\small \\{{x}_{e} \\:|\\: {Linguist}({x}_{e})\\}} \\: . \\: \\{{Visits}({var2}_{e}, {x})\\})\\}$</span></div></div></div></div></div><div style=\"display: table-cell;\"></div></div></div></div></div></div><div style=\"display:table-cell;\"></div></div><div style=\"display:table-row;\"><div style=\"display: table-cell;\"></div><div style=\"display:table-cell;vertical-align:middle;\"><div style=\"vertical-align:middle;height:0px;overflow:visible\"><div style=\"color:blue;transform: translateY(-1em); padding-left:0.5em;\"><b>[<span>PA</span>]</b></div></div></div></div><div align=\"center\" style=\"display:table-row;padding-left:5px;padding-right:5px;padding-top:5px;padding-bottom:5px;\"><div align=\"center\" style=\"display:block;padding-left:5px;padding-right:5px;padding-top:5px;padding-bottom:5px;\"><div style=\"display:table;table-layout:auto;\" align=\"center\"><div style=\"display:table-row;\"><div style=\"display:table-cell;padding-right:2px; padding-left:2px;\" align=\"center\"><div style=\"display:inline-block;\"><span>$[\\![\\text{\\textbf{[2 [[a\\_linguist [1 [[[visits t1] t2]]]]]]}}]\\!]^{}_{\\left\\langle{}e,\\left\\{\\left\\{t\\right\\}\\right\\}\\right\\rangle{}}$</span></div></div></div><div style=\"display:table-row;\"><div style=\"display:table-cell;padding-right:2px; padding-left:2px;\" align=\"center\"><div style=\"display:inline-block;\"><span>$\\lambda{} x1_{e} \\: . \\: \\{(\\bigcup{} x_{e} \\in {\\small \\{{x}_{e} \\:|\\: {Linguist}({x}_{e})\\}} \\: . \\: \\{{Visits}({x1}, {x})\\})\\}$</span></div></div></div></div></div><div style=\"display: table-cell;\"></div></div></div></div></div></div><div style=\"display:table-cell;\"></div></div><div style=\"display:table-row;\"><div style=\"display: table-cell;\"></div><div style=\"display:table-cell;vertical-align:middle;\"><div style=\"vertical-align:middle;height:0px;overflow:visible\"><div style=\"color:blue;transform: translateY(-1em); padding-left:0.5em;\"><b>[<span>Bind</span>]</b></div></div></div></div><div align=\"center\" style=\"display:table-row;padding-left:5px;padding-right:5px;padding-top:5px;padding-bottom:5px;\"><div align=\"center\" style=\"display:block;padding-left:5px;padding-right:5px;padding-top:5px;padding-bottom:5px;\"><div style=\"display:table;table-layout:auto;\" align=\"center\"><div style=\"display:table-row;\"><div style=\"display:table-cell;padding-right:2px; padding-left:2px;\" align=\"center\"><div style=\"display:inline-block;\"><span>$[\\![\\text{\\textbf{[a\\_philosopher [2 [[a\\_linguist [1 [[[visits t1] t2]]]]]]]}}]\\!]^{}_{\\left\\{\\left\\{t\\right\\}\\right\\}}$</span></div></div></div><div style=\"display:table-row;\"><div style=\"display:table-cell;padding-right:2px; padding-left:2px;\" align=\"center\"><div style=\"display:inline-block;\"><span>$\\bigcup{} x_{e} \\in {\\small \\{{x}_{e} \\:|\\: {Philosopher}({x}_{e})\\}} \\: . \\: \\{(\\bigcup{} x2_{e} \\in {\\small \\{{x2}_{e} \\:|\\: {Linguist}({x2}_{e})\\}} \\: . \\: \\{{Visits}({x}, {x2})\\})\\}$</span></div></div></div></div></div><div style=\"display: table-cell;\"></div></div></div></div><div style=\"display: table-cell; padding-left:4em;\"></div><div style=\"vertical-align:bottom;display:table-cell;padding-left:5px;padding-right:5px;padding-top:5px;padding-bottom:5px;\"><div align=\"center\" style=\"display:table;\"><div align=\"center\" style=\"display:table-row;\"><div style=\"display:table-cell;table-layout:auto;vertical-align:bottom;border-bottom:1px solid #848482;\"><div style=\"display: table;\"><div style=\"vertical-align:bottom;display:table-cell;padding-left:5px;padding-right:5px;padding-top:5px;padding-bottom:5px;\"><div align=\"center\" style=\"display:block;padding-left:5px;padding-right:5px;padding-top:5px;padding-bottom:5px;\"><div style=\"display:table;table-layout:auto;\" align=\"center\"><div style=\"display:table-row;\"><div style=\"display:table-cell;padding-right:2px; padding-left:2px;\" align=\"center\"><div style=\"display:inline-block;\"><span>$[\\![\\text{\\textbf{3}}]\\!]^{}$</span></div></div></div><div style=\"display:table-row;\"><div style=\"display:table-cell;padding-right:2px; padding-left:2px;\" align=\"center\"><div style=\"display:inline-block;\"><span>[idx: 3]</span></div></div></div></div></div></div><div style=\"display: table-cell; padding-left:4em;\"></div><div style=\"vertical-align:bottom;display:table-cell;padding-left:5px;padding-right:5px;padding-top:5px;padding-bottom:5px;\"><div align=\"center\" style=\"display:table;\"><div align=\"center\" style=\"display:table-row;\"><div style=\"display:table-cell;table-layout:auto;vertical-align:bottom;border-bottom:1px solid #848482;\"><div style=\"display: table;\"><div style=\"vertical-align:bottom;display:table-cell;padding-left:5px;padding-right:5px;padding-top:5px;padding-bottom:5px;\"><div align=\"center\" style=\"display:table;\"><div align=\"center\" style=\"display:table-row;\"><div style=\"display:table-cell;table-layout:auto;vertical-align:bottom;border-bottom:1px solid #848482;\"><div style=\"display: table;\"><div style=\"vertical-align:bottom;display:table-cell;padding-left:5px;padding-right:5px;padding-top:5px;padding-bottom:5px;\"><div align=\"center\" style=\"display:block;padding-left:5px;padding-right:5px;padding-top:5px;padding-bottom:5px;\"><div style=\"display:table;table-layout:auto;\" align=\"center\"><div style=\"display:table-row;\"><div style=\"display:table-cell;padding-right:2px; padding-left:2px;\" align=\"center\"><div style=\"display:inline-block;\"><span>$[\\![\\text{\\textbf{if\\_}}]\\!]^{}_{\\left\\langle{}\\left\\{t\\right\\},\\left\\langle{}\\left\\{t\\right\\},\\left\\{t\\right\\}\\right\\rangle{}\\right\\rangle{}}$</span></div></div></div><div style=\"display:table-row;\"><div style=\"display:table-cell;padding-right:2px; padding-left:2px;\" align=\"center\"><div style=\"display:inline-block;\"><span>$\\lambda{} m_{\\left\\{t\\right\\}} \\: . \\: \\lambda{} n_{\\left\\{t\\right\\}} \\: . \\: \\{{If}_{\\left\\langle{}t,\\left\\langle{}t,t\\right\\rangle{}\\right\\rangle{}}(\\textsf{True} \\in{} {m})(\\textsf{True} \\in{} {n})\\}$</span></div></div></div></div></div></div><div style=\"display: table-cell; padding-left:4em;\"></div><div style=\"vertical-align:bottom;display:table-cell;padding-left:5px;padding-right:5px;padding-top:5px;padding-bottom:5px;\"><div align=\"center\" style=\"display:block;padding-left:5px;padding-right:5px;padding-top:5px;padding-bottom:5px;\"><div style=\"display:table;table-layout:auto;\" align=\"center\"><div style=\"display:table-row;\"><div style=\"display:table-cell;padding-right:2px; padding-left:2px;\" align=\"center\"><div style=\"display:inline-block;\"><span>$[\\![\\text{\\textbf{t}}_{3}]\\!]^{}_{\\left\\{t\\right\\}}$</span></div></div></div><div style=\"display:table-row;\"><div style=\"display:table-cell;padding-right:2px; padding-left:2px;\" align=\"center\"><div style=\"display:inline-block;\"><span>${var3}_{\\left\\{t\\right\\}}$</span></div></div></div></div></div></div></div></div><div style=\"display:table-cell;\"></div></div><div style=\"display:table-row;\"><div style=\"display: table-cell;\"></div><div style=\"display:table-cell;vertical-align:middle;\"><div style=\"vertical-align:middle;height:0px;overflow:visible\"><div style=\"color:blue;transform: translateY(-1em); padding-left:0.5em;\"><b>[<span>FA</span>]</b></div></div></div></div><div align=\"center\" style=\"display:table-row;padding-left:5px;padding-right:5px;padding-top:5px;padding-bottom:5px;\"><div align=\"center\" style=\"display:block;padding-left:5px;padding-right:5px;padding-top:5px;padding-bottom:5px;\"><div style=\"display:table;table-layout:auto;\" align=\"center\"><div style=\"display:table-row;\"><div style=\"display:table-cell;padding-right:2px; padding-left:2px;\" align=\"center\"><div style=\"display:inline-block;\"><span>$[\\![\\text{\\textbf{[if\\_ t3]}}]\\!]^{}_{\\left\\langle{}\\left\\{t\\right\\},\\left\\{t\\right\\}\\right\\rangle{}}$</span></div></div></div><div style=\"display:table-row;\"><div style=\"display:table-cell;padding-right:2px; padding-left:2px;\" align=\"center\"><div style=\"display:inline-block;\"><span>$\\lambda{} n_{\\left\\{t\\right\\}} \\: . \\: \\{{If}_{\\left\\langle{}t,\\left\\langle{}t,t\\right\\rangle{}\\right\\rangle{}}(\\textsf{True} \\in{} {var3}_{\\left\\{t\\right\\}})(\\textsf{True} \\in{} {n})\\}$</span></div></div></div></div></div><div style=\"display: table-cell;\"></div></div></div></div><div style=\"display: table-cell; padding-left:4em;\"></div><div style=\"vertical-align:bottom;display:table-cell;padding-left:5px;padding-right:5px;padding-top:5px;padding-bottom:5px;\"><div align=\"center\" style=\"display:table;\"><div align=\"center\" style=\"display:table-row;\"><div style=\"display:table-cell;table-layout:auto;vertical-align:bottom;border-bottom:1px solid #848482;\"><div style=\"display: table;\"><div style=\"vertical-align:bottom;display:table-cell;padding-left:5px;padding-right:5px;padding-top:5px;padding-bottom:5px;\"><div align=\"center\" style=\"display:block;padding-left:5px;padding-right:5px;padding-top:5px;padding-bottom:5px;\"><div style=\"display:table;table-layout:auto;\" align=\"center\"><div style=\"display:table-row;\"><div style=\"display:table-cell;padding-right:2px; padding-left:2px;\" align=\"center\"><div style=\"display:inline-block;\"><span>$[\\![\\text{\\textbf{house}}]\\!]^{}_{t}$</span></div></div></div><div style=\"display:table-row;\"><div style=\"display:table-cell;padding-right:2px; padding-left:2px;\" align=\"center\"><div style=\"display:inline-block;\"><span>${InheritHouse}_{t}$</span></div></div></div></div></div></div></div></div><div style=\"display:table-cell;\"></div></div><div style=\"display:table-row;\"><div style=\"display: table-cell;\"></div><div style=\"display:table-cell;vertical-align:middle;\"><div style=\"vertical-align:middle;height:0px;overflow:visible\"><div style=\"color:blue;transform: translateY(-1em); padding-left:0.5em;\"><b>[<span>UnitShift</span>]</b></div></div></div></div><div align=\"center\" style=\"display:table-row;padding-left:5px;padding-right:5px;padding-top:5px;padding-bottom:5px;\"><div align=\"center\" style=\"display:block;padding-left:5px;padding-right:5px;padding-top:5px;padding-bottom:5px;\"><div style=\"display:table;table-layout:auto;\" align=\"center\"><div style=\"display:table-row;\"><div style=\"display:table-cell;padding-right:2px; padding-left:2px;\" align=\"center\"><div style=\"display:inline-block;\"><span>$[\\![\\text{\\textbf{[house]}}]\\!]^{}_{\\left\\{t\\right\\}}$</span></div></div></div><div style=\"display:table-row;\"><div style=\"display:table-cell;padding-right:2px; padding-left:2px;\" align=\"center\"><div style=\"display:inline-block;\"><span>$\\{{InheritHouse}_{t}\\}$</span></div></div></div></div></div><div style=\"display: table-cell;\"></div></div></div></div></div></div><div style=\"display:table-cell;\"></div></div><div style=\"display:table-row;\"><div style=\"display: table-cell;\"></div><div style=\"display:table-cell;vertical-align:middle;\"><div style=\"vertical-align:middle;height:0px;overflow:visible\"><div style=\"color:blue;transform: translateY(-1em); padding-left:0.5em;\"><b>[<span>FA</span>]</b></div></div></div></div><div align=\"center\" style=\"display:table-row;padding-left:5px;padding-right:5px;padding-top:5px;padding-bottom:5px;\"><div align=\"center\" style=\"display:block;padding-left:5px;padding-right:5px;padding-top:5px;padding-bottom:5px;\"><div style=\"display:table;table-layout:auto;\" align=\"center\"><div style=\"display:table-row;\"><div style=\"display:table-cell;padding-right:2px; padding-left:2px;\" align=\"center\"><div style=\"display:inline-block;\"><span>$[\\![\\text{\\textbf{[[if\\_ t3] [house]]}}]\\!]^{}_{\\left\\{t\\right\\}}$</span></div></div></div><div style=\"display:table-row;\"><div style=\"display:table-cell;padding-right:2px; padding-left:2px;\" align=\"center\"><div style=\"display:inline-block;\"><span>$\\{{If}_{\\left\\langle{}t,\\left\\langle{}t,t\\right\\rangle{}\\right\\rangle{}}(\\textsf{True} \\in{} {var3}_{\\left\\{t\\right\\}})(\\textsf{True} \\leftrightarrow{} {InheritHouse}_{t})\\}$</span></div></div></div></div></div><div style=\"display: table-cell;\"></div></div></div></div></div></div><div style=\"display:table-cell;\"></div></div><div style=\"display:table-row;\"><div style=\"display: table-cell;\"></div><div style=\"display:table-cell;vertical-align:middle;\"><div style=\"vertical-align:middle;height:0px;overflow:visible\"><div style=\"color:blue;transform: translateY(-1em); padding-left:0.5em;\"><b>[<span>PA</span>]</b></div></div></div></div><div align=\"center\" style=\"display:table-row;padding-left:5px;padding-right:5px;padding-top:5px;padding-bottom:5px;\"><div align=\"center\" style=\"display:block;padding-left:5px;padding-right:5px;padding-top:5px;padding-bottom:5px;\"><div style=\"display:table;table-layout:auto;\" align=\"center\"><div style=\"display:table-row;\"><div style=\"display:table-cell;padding-right:2px; padding-left:2px;\" align=\"center\"><div style=\"display:inline-block;\"><span>$[\\![\\text{\\textbf{[3 [[if\\_ t3] [house]]]}}]\\!]^{}_{\\left\\langle{}\\left\\{t\\right\\},\\left\\{t\\right\\}\\right\\rangle{}}$</span></div></div></div><div style=\"display:table-row;\"><div style=\"display:table-cell;padding-right:2px; padding-left:2px;\" align=\"center\"><div style=\"display:inline-block;\"><span>$\\lambda{} x_{\\left\\{t\\right\\}} \\: . \\: \\{{If}_{\\left\\langle{}t,\\left\\langle{}t,t\\right\\rangle{}\\right\\rangle{}}(\\textsf{True} \\in{} {x})({InheritHouse}_{t})\\}$</span></div></div></div></div></div><div style=\"display: table-cell;\"></div></div></div></div></div></div><div style=\"display:table-cell;\"></div></div><div style=\"display:table-row;\"><div style=\"display: table-cell;\"></div><div style=\"display:table-cell;vertical-align:middle;\"><div style=\"vertical-align:middle;height:0px;overflow:visible\"><div style=\"color:blue;transform: translateY(-1em); padding-left:0.5em;\"><b>[<span>Bind</span>]</b></div></div></div></div><div align=\"center\" style=\"display:table-row;padding-left:5px;padding-right:5px;padding-top:5px;padding-bottom:5px;\"><div align=\"center\" style=\"display:block;padding-left:5px;padding-right:5px;padding-top:5px;padding-bottom:5px;\"><div style=\"display:table;table-layout:auto;\" align=\"center\"><div style=\"display:table-row;\"><div style=\"display:table-cell;padding-right:2px; padding-left:2px;\" align=\"center\"><div style=\"display:inline-block;\"><span>$[\\![\\text{\\textbf{[[a\\_philosopher [2 [[a\\_linguist [1 [[[visits t1] t2]]]]]]] [3 [[if\\_ t3] [house]]]]}}]\\!]^{}_{\\left\\{t\\right\\}}$</span></div></div></div><div style=\"display:table-row;\"><div style=\"display:table-cell;padding-right:2px; padding-left:2px;\" align=\"center\"><div style=\"display:inline-block;\"><span>$\\bigcup{} x_{\\left\\{t\\right\\}} \\in {\\small (\\bigcup{} x_{e} \\in {\\small \\{{x}_{e} \\:|\\: {Philosopher}({x}_{e})\\}} \\: . \\: \\{(\\bigcup{} x2_{e} \\in {\\small \\{{x2}_{e} \\:|\\: {Linguist}({x2}_{e})\\}} \\: . \\: \\{{Visits}({x}, {x2})\\})\\})} \\: . \\: \\{{If}_{\\left\\langle{}t,\\left\\langle{}t,t\\right\\rangle{}\\right\\rangle{}}(\\textsf{True} \\in{} {x})({InheritHouse}_{t})\\}$</span></div></div></div></div></div><div style=\"display: table-cell;\"></div></div></div><br /><br />"
      ],
      "text/plain": [
       "1 composition path:<br /><div align=\"center\" style=\"display:table;\"><div align=\"center\" style=\"display:table-row;\"><div style=\"display:table-cell;table-layout:auto;vertical-align:bottom;border-bottom:1px solid #848482;\"><div style=\"display: table;\"><div style=\"vertical-align:bottom;display:table-cell;padding-left:5px;padding-right:5px;padding-top:5px;padding-bottom:5px;\"><div align=\"center\" style=\"display:table;\"><div align=\"center\" style=\"display:table-row;\"><div style=\"display:table-cell;table-layout:auto;vertical-align:bottom;border-bottom:1px solid #848482;\"><div style=\"display: table;\"><div style=\"vertical-align:bottom;display:table-cell;padding-left:5px;padding-right:5px;padding-top:5px;padding-bottom:5px;\"><div align=\"center\" style=\"display:block;padding-left:5px;padding-right:5px;padding-top:5px;padding-bottom:5px;\"><div style=\"display:table;table-layout:auto;\" align=\"center\"><div style=\"display:table-row;\"><div style=\"display:table-cell;padding-right:2px; padding-left:2px;\" align=\"center\"><div style=\"display:inline-block;\"><span>$[\\![\\text{\\textbf{a\\_philosopher}}]\\!]^{}_{\\left\\{e\\right\\}}$</span></div></div></div><div style=\"display:table-row;\"><div style=\"display:table-cell;padding-right:2px; padding-left:2px;\" align=\"center\"><div style=\"display:inline-block;\"><span>$\\{{x}_{e} \\:|\\: {Philosopher}({x}_{e})\\}$</span></div></div></div></div></div></div><div style=\"display: table-cell; padding-left:4em;\"></div><div style=\"vertical-align:bottom;display:table-cell;padding-left:5px;padding-right:5px;padding-top:5px;padding-bottom:5px;\"><div align=\"center\" style=\"display:table;\"><div align=\"center\" style=\"display:table-row;\"><div style=\"display:table-cell;table-layout:auto;vertical-align:bottom;border-bottom:1px solid #848482;\"><div style=\"display: table;\"><div style=\"vertical-align:bottom;display:table-cell;padding-left:5px;padding-right:5px;padding-top:5px;padding-bottom:5px;\"><div align=\"center\" style=\"display:block;padding-left:5px;padding-right:5px;padding-top:5px;padding-bottom:5px;\"><div style=\"display:table;table-layout:auto;\" align=\"center\"><div style=\"display:table-row;\"><div style=\"display:table-cell;padding-right:2px; padding-left:2px;\" align=\"center\"><div style=\"display:inline-block;\"><span>$[\\![\\text{\\textbf{2}}]\\!]^{}$</span></div></div></div><div style=\"display:table-row;\"><div style=\"display:table-cell;padding-right:2px; padding-left:2px;\" align=\"center\"><div style=\"display:inline-block;\"><span>[idx: 2]</span></div></div></div></div></div></div><div style=\"display: table-cell; padding-left:4em;\"></div><div style=\"vertical-align:bottom;display:table-cell;padding-left:5px;padding-right:5px;padding-top:5px;padding-bottom:5px;\"><div align=\"center\" style=\"display:table;\"><div align=\"center\" style=\"display:table-row;\"><div style=\"display:table-cell;table-layout:auto;vertical-align:bottom;border-bottom:1px solid #848482;\"><div style=\"display: table;\"><div style=\"vertical-align:bottom;display:table-cell;padding-left:5px;padding-right:5px;padding-top:5px;padding-bottom:5px;\"><div align=\"center\" style=\"display:table;\"><div align=\"center\" style=\"display:table-row;\"><div style=\"display:table-cell;table-layout:auto;vertical-align:bottom;border-bottom:1px solid #848482;\"><div style=\"display: table;\"><div style=\"vertical-align:bottom;display:table-cell;padding-left:5px;padding-right:5px;padding-top:5px;padding-bottom:5px;\"><div align=\"center\" style=\"display:block;padding-left:5px;padding-right:5px;padding-top:5px;padding-bottom:5px;\"><div style=\"display:table;table-layout:auto;\" align=\"center\"><div style=\"display:table-row;\"><div style=\"display:table-cell;padding-right:2px; padding-left:2px;\" align=\"center\"><div style=\"display:inline-block;\"><span>$[\\![\\text{\\textbf{a\\_linguist}}]\\!]^{}_{\\left\\{e\\right\\}}$</span></div></div></div><div style=\"display:table-row;\"><div style=\"display:table-cell;padding-right:2px; padding-left:2px;\" align=\"center\"><div style=\"display:inline-block;\"><span>$\\{{x}_{e} \\:|\\: {Linguist}({x}_{e})\\}$</span></div></div></div></div></div></div><div style=\"display: table-cell; padding-left:4em;\"></div><div style=\"vertical-align:bottom;display:table-cell;padding-left:5px;padding-right:5px;padding-top:5px;padding-bottom:5px;\"><div align=\"center\" style=\"display:table;\"><div align=\"center\" style=\"display:table-row;\"><div style=\"display:table-cell;table-layout:auto;vertical-align:bottom;border-bottom:1px solid #848482;\"><div style=\"display: table;\"><div style=\"vertical-align:bottom;display:table-cell;padding-left:5px;padding-right:5px;padding-top:5px;padding-bottom:5px;\"><div align=\"center\" style=\"display:block;padding-left:5px;padding-right:5px;padding-top:5px;padding-bottom:5px;\"><div style=\"display:table;table-layout:auto;\" align=\"center\"><div style=\"display:table-row;\"><div style=\"display:table-cell;padding-right:2px; padding-left:2px;\" align=\"center\"><div style=\"display:inline-block;\"><span>$[\\![\\text{\\textbf{1}}]\\!]^{}$</span></div></div></div><div style=\"display:table-row;\"><div style=\"display:table-cell;padding-right:2px; padding-left:2px;\" align=\"center\"><div style=\"display:inline-block;\"><span>[idx: 1]</span></div></div></div></div></div></div><div style=\"display: table-cell; padding-left:4em;\"></div><div style=\"vertical-align:bottom;display:table-cell;padding-left:5px;padding-right:5px;padding-top:5px;padding-bottom:5px;\"><div align=\"center\" style=\"display:table;\"><div align=\"center\" style=\"display:table-row;\"><div style=\"display:table-cell;table-layout:auto;vertical-align:bottom;border-bottom:1px solid #848482;\"><div style=\"display: table;\"><div style=\"vertical-align:bottom;display:table-cell;padding-left:5px;padding-right:5px;padding-top:5px;padding-bottom:5px;\"><div align=\"center\" style=\"display:table;\"><div align=\"center\" style=\"display:table-row;\"><div style=\"display:table-cell;table-layout:auto;vertical-align:bottom;border-bottom:1px solid #848482;\"><div style=\"display: table;\"><div style=\"vertical-align:bottom;display:table-cell;padding-left:5px;padding-right:5px;padding-top:5px;padding-bottom:5px;\"><div align=\"center\" style=\"display:table;\"><div align=\"center\" style=\"display:table-row;\"><div style=\"display:table-cell;table-layout:auto;vertical-align:bottom;border-bottom:1px solid #848482;\"><div style=\"display: table;\"><div style=\"vertical-align:bottom;display:table-cell;padding-left:5px;padding-right:5px;padding-top:5px;padding-bottom:5px;\"><div align=\"center\" style=\"display:block;padding-left:5px;padding-right:5px;padding-top:5px;padding-bottom:5px;\"><div style=\"display:table;table-layout:auto;\" align=\"center\"><div style=\"display:table-row;\"><div style=\"display:table-cell;padding-right:2px; padding-left:2px;\" align=\"center\"><div style=\"display:inline-block;\"><span>$[\\![\\text{\\textbf{visits}}]\\!]^{}_{\\left\\langle{}e,\\left\\langle{}e,t\\right\\rangle{}\\right\\rangle{}}$</span></div></div></div><div style=\"display:table-row;\"><div style=\"display:table-cell;padding-right:2px; padding-left:2px;\" align=\"center\"><div style=\"display:inline-block;\"><span>$\\lambda{} y_{e} \\: . \\: \\lambda{} x_{e} \\: . \\: {Visits}({x}, {y})$</span></div></div></div></div></div></div><div style=\"display: table-cell; padding-left:4em;\"></div><div style=\"vertical-align:bottom;display:table-cell;padding-left:5px;padding-right:5px;padding-top:5px;padding-bottom:5px;\"><div align=\"center\" style=\"display:block;padding-left:5px;padding-right:5px;padding-top:5px;padding-bottom:5px;\"><div style=\"display:table;table-layout:auto;\" align=\"center\"><div style=\"display:table-row;\"><div style=\"display:table-cell;padding-right:2px; padding-left:2px;\" align=\"center\"><div style=\"display:inline-block;\"><span>$[\\![\\text{\\textbf{t}}_{1}]\\!]^{}_{e}$</span></div></div></div><div style=\"display:table-row;\"><div style=\"display:table-cell;padding-right:2px; padding-left:2px;\" align=\"center\"><div style=\"display:inline-block;\"><span>${var1}_{e}$</span></div></div></div></div></div></div></div></div><div style=\"display:table-cell;\"></div></div><div style=\"display:table-row;\"><div style=\"display: table-cell;\"></div><div style=\"display:table-cell;vertical-align:middle;\"><div style=\"vertical-align:middle;height:0px;overflow:visible\"><div style=\"color:blue;transform: translateY(-1em); padding-left:0.5em;\"><b>[<span>FA</span>]</b></div></div></div></div><div align=\"center\" style=\"display:table-row;padding-left:5px;padding-right:5px;padding-top:5px;padding-bottom:5px;\"><div align=\"center\" style=\"display:block;padding-left:5px;padding-right:5px;padding-top:5px;padding-bottom:5px;\"><div style=\"display:table;table-layout:auto;\" align=\"center\"><div style=\"display:table-row;\"><div style=\"display:table-cell;padding-right:2px; padding-left:2px;\" align=\"center\"><div style=\"display:inline-block;\"><span>$[\\![\\text{\\textbf{[visits t1]}}]\\!]^{}_{\\left\\langle{}e,t\\right\\rangle{}}$</span></div></div></div><div style=\"display:table-row;\"><div style=\"display:table-cell;padding-right:2px; padding-left:2px;\" align=\"center\"><div style=\"display:inline-block;\"><span>$\\lambda{} x_{e} \\: . \\: {Visits}({x}, {var1}_{e})$</span></div></div></div></div></div><div style=\"display: table-cell;\"></div></div></div></div><div style=\"display: table-cell; padding-left:4em;\"></div><div style=\"vertical-align:bottom;display:table-cell;padding-left:5px;padding-right:5px;padding-top:5px;padding-bottom:5px;\"><div align=\"center\" style=\"display:block;padding-left:5px;padding-right:5px;padding-top:5px;padding-bottom:5px;\"><div style=\"display:table;table-layout:auto;\" align=\"center\"><div style=\"display:table-row;\"><div style=\"display:table-cell;padding-right:2px; padding-left:2px;\" align=\"center\"><div style=\"display:inline-block;\"><span>$[\\![\\text{\\textbf{t}}_{2}]\\!]^{}_{e}$</span></div></div></div><div style=\"display:table-row;\"><div style=\"display:table-cell;padding-right:2px; padding-left:2px;\" align=\"center\"><div style=\"display:inline-block;\"><span>${var2}_{e}$</span></div></div></div></div></div></div></div></div><div style=\"display:table-cell;\"></div></div><div style=\"display:table-row;\"><div style=\"display: table-cell;\"></div><div style=\"display:table-cell;vertical-align:middle;\"><div style=\"vertical-align:middle;height:0px;overflow:visible\"><div style=\"color:blue;transform: translateY(-1em); padding-left:0.5em;\"><b>[<span>FA</span>]</b></div></div></div></div><div align=\"center\" style=\"display:table-row;padding-left:5px;padding-right:5px;padding-top:5px;padding-bottom:5px;\"><div align=\"center\" style=\"display:block;padding-left:5px;padding-right:5px;padding-top:5px;padding-bottom:5px;\"><div style=\"display:table;table-layout:auto;\" align=\"center\"><div style=\"display:table-row;\"><div style=\"display:table-cell;padding-right:2px; padding-left:2px;\" align=\"center\"><div style=\"display:inline-block;\"><span>$[\\![\\text{\\textbf{[[visits t1] t2]}}]\\!]^{}_{t}$</span></div></div></div><div style=\"display:table-row;\"><div style=\"display:table-cell;padding-right:2px; padding-left:2px;\" align=\"center\"><div style=\"display:inline-block;\"><span>${Visits}({var2}_{e}, {var1}_{e})$</span></div></div></div></div></div><div style=\"display: table-cell;\"></div></div></div></div></div></div><div style=\"display:table-cell;\"></div></div><div style=\"display:table-row;\"><div style=\"display: table-cell;\"></div><div style=\"display:table-cell;vertical-align:middle;\"><div style=\"vertical-align:middle;height:0px;overflow:visible\"><div style=\"color:blue;transform: translateY(-1em); padding-left:0.5em;\"><b>[<span>Unit</span>]</b></div></div></div></div><div align=\"center\" style=\"display:table-row;padding-left:5px;padding-right:5px;padding-top:5px;padding-bottom:5px;\"><div align=\"center\" style=\"display:block;padding-left:5px;padding-right:5px;padding-top:5px;padding-bottom:5px;\"><div style=\"display:table;table-layout:auto;\" align=\"center\"><div style=\"display:table-row;\"><div style=\"display:table-cell;padding-right:2px; padding-left:2px;\" align=\"center\"><div style=\"display:inline-block;\"><span>$[\\![\\text{\\textbf{[[[visits t1] t2]]}}]\\!]^{}_{\\left\\{t\\right\\}}$</span></div></div></div><div style=\"display:table-row;\"><div style=\"display:table-cell;padding-right:2px; padding-left:2px;\" align=\"center\"><div style=\"display:inline-block;\"><span>$\\{{Visits}({var2}_{e}, {var1}_{e})\\}$</span></div></div></div></div></div><div style=\"display: table-cell;\"></div></div></div></div></div></div><div style=\"display:table-cell;\"></div></div><div style=\"display:table-row;\"><div style=\"display: table-cell;\"></div><div style=\"display:table-cell;vertical-align:middle;\"><div style=\"vertical-align:middle;height:0px;overflow:visible\"><div style=\"color:blue;transform: translateY(-1em); padding-left:0.5em;\"><b>[<span>PA</span>]</b></div></div></div></div><div align=\"center\" style=\"display:table-row;padding-left:5px;padding-right:5px;padding-top:5px;padding-bottom:5px;\"><div align=\"center\" style=\"display:block;padding-left:5px;padding-right:5px;padding-top:5px;padding-bottom:5px;\"><div style=\"display:table;table-layout:auto;\" align=\"center\"><div style=\"display:table-row;\"><div style=\"display:table-cell;padding-right:2px; padding-left:2px;\" align=\"center\"><div style=\"display:inline-block;\"><span>$[\\![\\text{\\textbf{[1 [[[visits t1] t2]]]}}]\\!]^{}_{\\left\\langle{}e,\\left\\{t\\right\\}\\right\\rangle{}}$</span></div></div></div><div style=\"display:table-row;\"><div style=\"display:table-cell;padding-right:2px; padding-left:2px;\" align=\"center\"><div style=\"display:inline-block;\"><span>$\\lambda{} x_{e} \\: . \\: \\{{Visits}({var2}_{e}, {x})\\}$</span></div></div></div></div></div><div style=\"display: table-cell;\"></div></div></div></div></div></div><div style=\"display:table-cell;\"></div></div><div style=\"display:table-row;\"><div style=\"display: table-cell;\"></div><div style=\"display:table-cell;vertical-align:middle;\"><div style=\"vertical-align:middle;height:0px;overflow:visible\"><div style=\"color:blue;transform: translateY(-1em); padding-left:0.5em;\"><b>[<span>Bind</span>]</b></div></div></div></div><div align=\"center\" style=\"display:table-row;padding-left:5px;padding-right:5px;padding-top:5px;padding-bottom:5px;\"><div align=\"center\" style=\"display:block;padding-left:5px;padding-right:5px;padding-top:5px;padding-bottom:5px;\"><div style=\"display:table;table-layout:auto;\" align=\"center\"><div style=\"display:table-row;\"><div style=\"display:table-cell;padding-right:2px; padding-left:2px;\" align=\"center\"><div style=\"display:inline-block;\"><span>$[\\![\\text{\\textbf{[a\\_linguist [1 [[[visits t1] t2]]]]}}]\\!]^{}_{\\left\\{t\\right\\}}$</span></div></div></div><div style=\"display:table-row;\"><div style=\"display:table-cell;padding-right:2px; padding-left:2px;\" align=\"center\"><div style=\"display:inline-block;\"><span>$\\bigcup{} x_{e} \\in {\\small \\{{x}_{e} \\:|\\: {Linguist}({x}_{e})\\}} \\: . \\: \\{{Visits}({var2}_{e}, {x})\\}$</span></div></div></div></div></div><div style=\"display: table-cell;\"></div></div></div></div></div></div><div style=\"display:table-cell;\"></div></div><div style=\"display:table-row;\"><div style=\"display: table-cell;\"></div><div style=\"display:table-cell;vertical-align:middle;\"><div style=\"vertical-align:middle;height:0px;overflow:visible\"><div style=\"color:blue;transform: translateY(-1em); padding-left:0.5em;\"><b>[<span>Unit</span>]</b></div></div></div></div><div align=\"center\" style=\"display:table-row;padding-left:5px;padding-right:5px;padding-top:5px;padding-bottom:5px;\"><div align=\"center\" style=\"display:block;padding-left:5px;padding-right:5px;padding-top:5px;padding-bottom:5px;\"><div style=\"display:table;table-layout:auto;\" align=\"center\"><div style=\"display:table-row;\"><div style=\"display:table-cell;padding-right:2px; padding-left:2px;\" align=\"center\"><div style=\"display:inline-block;\"><span>$[\\![\\text{\\textbf{[[a\\_linguist [1 [[[visits t1] t2]]]]]}}]\\!]^{}_{\\left\\{\\left\\{t\\right\\}\\right\\}}$</span></div></div></div><div style=\"display:table-row;\"><div style=\"display:table-cell;padding-right:2px; padding-left:2px;\" align=\"center\"><div style=\"display:inline-block;\"><span>$\\{(\\bigcup{} x_{e} \\in {\\small \\{{x}_{e} \\:|\\: {Linguist}({x}_{e})\\}} \\: . \\: \\{{Visits}({var2}_{e}, {x})\\})\\}$</span></div></div></div></div></div><div style=\"display: table-cell;\"></div></div></div></div></div></div><div style=\"display:table-cell;\"></div></div><div style=\"display:table-row;\"><div style=\"display: table-cell;\"></div><div style=\"display:table-cell;vertical-align:middle;\"><div style=\"vertical-align:middle;height:0px;overflow:visible\"><div style=\"color:blue;transform: translateY(-1em); padding-left:0.5em;\"><b>[<span>PA</span>]</b></div></div></div></div><div align=\"center\" style=\"display:table-row;padding-left:5px;padding-right:5px;padding-top:5px;padding-bottom:5px;\"><div align=\"center\" style=\"display:block;padding-left:5px;padding-right:5px;padding-top:5px;padding-bottom:5px;\"><div style=\"display:table;table-layout:auto;\" align=\"center\"><div style=\"display:table-row;\"><div style=\"display:table-cell;padding-right:2px; padding-left:2px;\" align=\"center\"><div style=\"display:inline-block;\"><span>$[\\![\\text{\\textbf{[2 [[a\\_linguist [1 [[[visits t1] t2]]]]]]}}]\\!]^{}_{\\left\\langle{}e,\\left\\{\\left\\{t\\right\\}\\right\\}\\right\\rangle{}}$</span></div></div></div><div style=\"display:table-row;\"><div style=\"display:table-cell;padding-right:2px; padding-left:2px;\" align=\"center\"><div style=\"display:inline-block;\"><span>$\\lambda{} x1_{e} \\: . \\: \\{(\\bigcup{} x_{e} \\in {\\small \\{{x}_{e} \\:|\\: {Linguist}({x}_{e})\\}} \\: . \\: \\{{Visits}({x1}, {x})\\})\\}$</span></div></div></div></div></div><div style=\"display: table-cell;\"></div></div></div></div></div></div><div style=\"display:table-cell;\"></div></div><div style=\"display:table-row;\"><div style=\"display: table-cell;\"></div><div style=\"display:table-cell;vertical-align:middle;\"><div style=\"vertical-align:middle;height:0px;overflow:visible\"><div style=\"color:blue;transform: translateY(-1em); padding-left:0.5em;\"><b>[<span>Bind</span>]</b></div></div></div></div><div align=\"center\" style=\"display:table-row;padding-left:5px;padding-right:5px;padding-top:5px;padding-bottom:5px;\"><div align=\"center\" style=\"display:block;padding-left:5px;padding-right:5px;padding-top:5px;padding-bottom:5px;\"><div style=\"display:table;table-layout:auto;\" align=\"center\"><div style=\"display:table-row;\"><div style=\"display:table-cell;padding-right:2px; padding-left:2px;\" align=\"center\"><div style=\"display:inline-block;\"><span>$[\\![\\text{\\textbf{[a\\_philosopher [2 [[a\\_linguist [1 [[[visits t1] t2]]]]]]]}}]\\!]^{}_{\\left\\{\\left\\{t\\right\\}\\right\\}}$</span></div></div></div><div style=\"display:table-row;\"><div style=\"display:table-cell;padding-right:2px; padding-left:2px;\" align=\"center\"><div style=\"display:inline-block;\"><span>$\\bigcup{} x_{e} \\in {\\small \\{{x}_{e} \\:|\\: {Philosopher}({x}_{e})\\}} \\: . \\: \\{(\\bigcup{} x2_{e} \\in {\\small \\{{x2}_{e} \\:|\\: {Linguist}({x2}_{e})\\}} \\: . \\: \\{{Visits}({x}, {x2})\\})\\}$</span></div></div></div></div></div><div style=\"display: table-cell;\"></div></div></div></div><div style=\"display: table-cell; padding-left:4em;\"></div><div style=\"vertical-align:bottom;display:table-cell;padding-left:5px;padding-right:5px;padding-top:5px;padding-bottom:5px;\"><div align=\"center\" style=\"display:table;\"><div align=\"center\" style=\"display:table-row;\"><div style=\"display:table-cell;table-layout:auto;vertical-align:bottom;border-bottom:1px solid #848482;\"><div style=\"display: table;\"><div style=\"vertical-align:bottom;display:table-cell;padding-left:5px;padding-right:5px;padding-top:5px;padding-bottom:5px;\"><div align=\"center\" style=\"display:block;padding-left:5px;padding-right:5px;padding-top:5px;padding-bottom:5px;\"><div style=\"display:table;table-layout:auto;\" align=\"center\"><div style=\"display:table-row;\"><div style=\"display:table-cell;padding-right:2px; padding-left:2px;\" align=\"center\"><div style=\"display:inline-block;\"><span>$[\\![\\text{\\textbf{3}}]\\!]^{}$</span></div></div></div><div style=\"display:table-row;\"><div style=\"display:table-cell;padding-right:2px; padding-left:2px;\" align=\"center\"><div style=\"display:inline-block;\"><span>[idx: 3]</span></div></div></div></div></div></div><div style=\"display: table-cell; padding-left:4em;\"></div><div style=\"vertical-align:bottom;display:table-cell;padding-left:5px;padding-right:5px;padding-top:5px;padding-bottom:5px;\"><div align=\"center\" style=\"display:table;\"><div align=\"center\" style=\"display:table-row;\"><div style=\"display:table-cell;table-layout:auto;vertical-align:bottom;border-bottom:1px solid #848482;\"><div style=\"display: table;\"><div style=\"vertical-align:bottom;display:table-cell;padding-left:5px;padding-right:5px;padding-top:5px;padding-bottom:5px;\"><div align=\"center\" style=\"display:table;\"><div align=\"center\" style=\"display:table-row;\"><div style=\"display:table-cell;table-layout:auto;vertical-align:bottom;border-bottom:1px solid #848482;\"><div style=\"display: table;\"><div style=\"vertical-align:bottom;display:table-cell;padding-left:5px;padding-right:5px;padding-top:5px;padding-bottom:5px;\"><div align=\"center\" style=\"display:block;padding-left:5px;padding-right:5px;padding-top:5px;padding-bottom:5px;\"><div style=\"display:table;table-layout:auto;\" align=\"center\"><div style=\"display:table-row;\"><div style=\"display:table-cell;padding-right:2px; padding-left:2px;\" align=\"center\"><div style=\"display:inline-block;\"><span>$[\\![\\text{\\textbf{if\\_}}]\\!]^{}_{\\left\\langle{}\\left\\{t\\right\\},\\left\\langle{}\\left\\{t\\right\\},\\left\\{t\\right\\}\\right\\rangle{}\\right\\rangle{}}$</span></div></div></div><div style=\"display:table-row;\"><div style=\"display:table-cell;padding-right:2px; padding-left:2px;\" align=\"center\"><div style=\"display:inline-block;\"><span>$\\lambda{} m_{\\left\\{t\\right\\}} \\: . \\: \\lambda{} n_{\\left\\{t\\right\\}} \\: . \\: \\{{If}_{\\left\\langle{}t,\\left\\langle{}t,t\\right\\rangle{}\\right\\rangle{}}(\\textsf{True} \\in{} {m})(\\textsf{True} \\in{} {n})\\}$</span></div></div></div></div></div></div><div style=\"display: table-cell; padding-left:4em;\"></div><div style=\"vertical-align:bottom;display:table-cell;padding-left:5px;padding-right:5px;padding-top:5px;padding-bottom:5px;\"><div align=\"center\" style=\"display:block;padding-left:5px;padding-right:5px;padding-top:5px;padding-bottom:5px;\"><div style=\"display:table;table-layout:auto;\" align=\"center\"><div style=\"display:table-row;\"><div style=\"display:table-cell;padding-right:2px; padding-left:2px;\" align=\"center\"><div style=\"display:inline-block;\"><span>$[\\![\\text{\\textbf{t}}_{3}]\\!]^{}_{\\left\\{t\\right\\}}$</span></div></div></div><div style=\"display:table-row;\"><div style=\"display:table-cell;padding-right:2px; padding-left:2px;\" align=\"center\"><div style=\"display:inline-block;\"><span>${var3}_{\\left\\{t\\right\\}}$</span></div></div></div></div></div></div></div></div><div style=\"display:table-cell;\"></div></div><div style=\"display:table-row;\"><div style=\"display: table-cell;\"></div><div style=\"display:table-cell;vertical-align:middle;\"><div style=\"vertical-align:middle;height:0px;overflow:visible\"><div style=\"color:blue;transform: translateY(-1em); padding-left:0.5em;\"><b>[<span>FA</span>]</b></div></div></div></div><div align=\"center\" style=\"display:table-row;padding-left:5px;padding-right:5px;padding-top:5px;padding-bottom:5px;\"><div align=\"center\" style=\"display:block;padding-left:5px;padding-right:5px;padding-top:5px;padding-bottom:5px;\"><div style=\"display:table;table-layout:auto;\" align=\"center\"><div style=\"display:table-row;\"><div style=\"display:table-cell;padding-right:2px; padding-left:2px;\" align=\"center\"><div style=\"display:inline-block;\"><span>$[\\![\\text{\\textbf{[if\\_ t3]}}]\\!]^{}_{\\left\\langle{}\\left\\{t\\right\\},\\left\\{t\\right\\}\\right\\rangle{}}$</span></div></div></div><div style=\"display:table-row;\"><div style=\"display:table-cell;padding-right:2px; padding-left:2px;\" align=\"center\"><div style=\"display:inline-block;\"><span>$\\lambda{} n_{\\left\\{t\\right\\}} \\: . \\: \\{{If}_{\\left\\langle{}t,\\left\\langle{}t,t\\right\\rangle{}\\right\\rangle{}}(\\textsf{True} \\in{} {var3}_{\\left\\{t\\right\\}})(\\textsf{True} \\in{} {n})\\}$</span></div></div></div></div></div><div style=\"display: table-cell;\"></div></div></div></div><div style=\"display: table-cell; padding-left:4em;\"></div><div style=\"vertical-align:bottom;display:table-cell;padding-left:5px;padding-right:5px;padding-top:5px;padding-bottom:5px;\"><div align=\"center\" style=\"display:table;\"><div align=\"center\" style=\"display:table-row;\"><div style=\"display:table-cell;table-layout:auto;vertical-align:bottom;border-bottom:1px solid #848482;\"><div style=\"display: table;\"><div style=\"vertical-align:bottom;display:table-cell;padding-left:5px;padding-right:5px;padding-top:5px;padding-bottom:5px;\"><div align=\"center\" style=\"display:block;padding-left:5px;padding-right:5px;padding-top:5px;padding-bottom:5px;\"><div style=\"display:table;table-layout:auto;\" align=\"center\"><div style=\"display:table-row;\"><div style=\"display:table-cell;padding-right:2px; padding-left:2px;\" align=\"center\"><div style=\"display:inline-block;\"><span>$[\\![\\text{\\textbf{house}}]\\!]^{}_{t}$</span></div></div></div><div style=\"display:table-row;\"><div style=\"display:table-cell;padding-right:2px; padding-left:2px;\" align=\"center\"><div style=\"display:inline-block;\"><span>${InheritHouse}_{t}$</span></div></div></div></div></div></div></div></div><div style=\"display:table-cell;\"></div></div><div style=\"display:table-row;\"><div style=\"display: table-cell;\"></div><div style=\"display:table-cell;vertical-align:middle;\"><div style=\"vertical-align:middle;height:0px;overflow:visible\"><div style=\"color:blue;transform: translateY(-1em); padding-left:0.5em;\"><b>[<span>UnitShift</span>]</b></div></div></div></div><div align=\"center\" style=\"display:table-row;padding-left:5px;padding-right:5px;padding-top:5px;padding-bottom:5px;\"><div align=\"center\" style=\"display:block;padding-left:5px;padding-right:5px;padding-top:5px;padding-bottom:5px;\"><div style=\"display:table;table-layout:auto;\" align=\"center\"><div style=\"display:table-row;\"><div style=\"display:table-cell;padding-right:2px; padding-left:2px;\" align=\"center\"><div style=\"display:inline-block;\"><span>$[\\![\\text{\\textbf{[house]}}]\\!]^{}_{\\left\\{t\\right\\}}$</span></div></div></div><div style=\"display:table-row;\"><div style=\"display:table-cell;padding-right:2px; padding-left:2px;\" align=\"center\"><div style=\"display:inline-block;\"><span>$\\{{InheritHouse}_{t}\\}$</span></div></div></div></div></div><div style=\"display: table-cell;\"></div></div></div></div></div></div><div style=\"display:table-cell;\"></div></div><div style=\"display:table-row;\"><div style=\"display: table-cell;\"></div><div style=\"display:table-cell;vertical-align:middle;\"><div style=\"vertical-align:middle;height:0px;overflow:visible\"><div style=\"color:blue;transform: translateY(-1em); padding-left:0.5em;\"><b>[<span>FA</span>]</b></div></div></div></div><div align=\"center\" style=\"display:table-row;padding-left:5px;padding-right:5px;padding-top:5px;padding-bottom:5px;\"><div align=\"center\" style=\"display:block;padding-left:5px;padding-right:5px;padding-top:5px;padding-bottom:5px;\"><div style=\"display:table;table-layout:auto;\" align=\"center\"><div style=\"display:table-row;\"><div style=\"display:table-cell;padding-right:2px; padding-left:2px;\" align=\"center\"><div style=\"display:inline-block;\"><span>$[\\![\\text{\\textbf{[[if\\_ t3] [house]]}}]\\!]^{}_{\\left\\{t\\right\\}}$</span></div></div></div><div style=\"display:table-row;\"><div style=\"display:table-cell;padding-right:2px; padding-left:2px;\" align=\"center\"><div style=\"display:inline-block;\"><span>$\\{{If}_{\\left\\langle{}t,\\left\\langle{}t,t\\right\\rangle{}\\right\\rangle{}}(\\textsf{True} \\in{} {var3}_{\\left\\{t\\right\\}})(\\textsf{True} \\leftrightarrow{} {InheritHouse}_{t})\\}$</span></div></div></div></div></div><div style=\"display: table-cell;\"></div></div></div></div></div></div><div style=\"display:table-cell;\"></div></div><div style=\"display:table-row;\"><div style=\"display: table-cell;\"></div><div style=\"display:table-cell;vertical-align:middle;\"><div style=\"vertical-align:middle;height:0px;overflow:visible\"><div style=\"color:blue;transform: translateY(-1em); padding-left:0.5em;\"><b>[<span>PA</span>]</b></div></div></div></div><div align=\"center\" style=\"display:table-row;padding-left:5px;padding-right:5px;padding-top:5px;padding-bottom:5px;\"><div align=\"center\" style=\"display:block;padding-left:5px;padding-right:5px;padding-top:5px;padding-bottom:5px;\"><div style=\"display:table;table-layout:auto;\" align=\"center\"><div style=\"display:table-row;\"><div style=\"display:table-cell;padding-right:2px; padding-left:2px;\" align=\"center\"><div style=\"display:inline-block;\"><span>$[\\![\\text{\\textbf{[3 [[if\\_ t3] [house]]]}}]\\!]^{}_{\\left\\langle{}\\left\\{t\\right\\},\\left\\{t\\right\\}\\right\\rangle{}}$</span></div></div></div><div style=\"display:table-row;\"><div style=\"display:table-cell;padding-right:2px; padding-left:2px;\" align=\"center\"><div style=\"display:inline-block;\"><span>$\\lambda{} x_{\\left\\{t\\right\\}} \\: . \\: \\{{If}_{\\left\\langle{}t,\\left\\langle{}t,t\\right\\rangle{}\\right\\rangle{}}(\\textsf{True} \\in{} {x})({InheritHouse}_{t})\\}$</span></div></div></div></div></div><div style=\"display: table-cell;\"></div></div></div></div></div></div><div style=\"display:table-cell;\"></div></div><div style=\"display:table-row;\"><div style=\"display: table-cell;\"></div><div style=\"display:table-cell;vertical-align:middle;\"><div style=\"vertical-align:middle;height:0px;overflow:visible\"><div style=\"color:blue;transform: translateY(-1em); padding-left:0.5em;\"><b>[<span>Bind</span>]</b></div></div></div></div><div align=\"center\" style=\"display:table-row;padding-left:5px;padding-right:5px;padding-top:5px;padding-bottom:5px;\"><div align=\"center\" style=\"display:block;padding-left:5px;padding-right:5px;padding-top:5px;padding-bottom:5px;\"><div style=\"display:table;table-layout:auto;\" align=\"center\"><div style=\"display:table-row;\"><div style=\"display:table-cell;padding-right:2px; padding-left:2px;\" align=\"center\"><div style=\"display:inline-block;\"><span>$[\\![\\text{\\textbf{[[a\\_philosopher [2 [[a\\_linguist [1 [[[visits t1] t2]]]]]]] [3 [[if\\_ t3] [house]]]]}}]\\!]^{}_{\\left\\{t\\right\\}}$</span></div></div></div><div style=\"display:table-row;\"><div style=\"display:table-cell;padding-right:2px; padding-left:2px;\" align=\"center\"><div style=\"display:inline-block;\"><span>$\\bigcup{} x_{\\left\\{t\\right\\}} \\in {\\small (\\bigcup{} x_{e} \\in {\\small \\{{x}_{e} \\:|\\: {Philosopher}({x}_{e})\\}} \\: . \\: \\{(\\bigcup{} x2_{e} \\in {\\small \\{{x2}_{e} \\:|\\: {Linguist}({x2}_{e})\\}} \\: . \\: \\{{Visits}({x}, {x2})\\})\\})} \\: . \\: \\{{If}_{\\left\\langle{}t,\\left\\langle{}t,t\\right\\rangle{}\\right\\rangle{}}(\\textsf{True} \\in{} {x})({InheritHouse}_{t})\\}$</span></div></div></div></div></div><div style=\"display: table-cell;\"></div></div></div><br /><br />"
      ]
     },
     "execution_count": 939,
     "metadata": {},
     "output_type": "execute_result"
    }
   ],
   "source": [
    "(l * r).tree()"
   ]
  },
  {
   "cell_type": "code",
   "execution_count": null,
   "id": "712c68f9-92bf-4daa-a027-8599cbe6d388",
   "metadata": {},
   "outputs": [],
   "source": []
  }
 ],
 "metadata": {
  "kernelspec": {
   "display_name": "Lambda Notebook (Python 3)",
   "language": "python",
   "name": "lambda-notebook"
  },
  "language_info": {
   "codemirror_mode": {
    "name": "ipython",
    "version": 3
   },
   "file_extension": ".py",
   "mimetype": "text/x-python",
   "name": "python",
   "nbconvert_exporter": "python",
   "pygments_lexer": "ipython3",
   "version": "3.12.0"
  }
 },
 "nbformat": 4,
 "nbformat_minor": 5
}
