{
 "cells": [
  {
   "cell_type": "code",
   "execution_count": 53,
   "id": "93aa1260-4739-453f-82c4-89ac98fc599d",
   "metadata": {},
   "outputs": [],
   "source": [
    "reload_lamb()\n",
    "lamb.display.default(style=lamb.display.DerivStyle.PROOF)"
   ]
  },
  {
   "cell_type": "markdown",
   "id": "42ef3f0f-72ee-40c9-91bb-dd34cbd5d5ca",
   "metadata": {},
   "source": [
    "The *unit* operation for this monad is Partee's **lift** typeshift (generalized to arbitrary `X`):"
   ]
  },
  {
   "cell_type": "code",
   "execution_count": 54,
   "id": "4c2c27f0-d17c-46d1-b9a5-03fc3fae2ae3",
   "metadata": {},
   "outputs": [
    {
     "data": {
      "text/markdown": [
       "${unit}_{\\left\\langle{}X,\\left\\langle{}\\left\\langle{}X,t\\right\\rangle{},t\\right\\rangle{}\\right\\rangle{}}\\:=\\:\\lambda{} a_{X} \\: . \\: \\lambda{} c_{\\left\\langle{}X,t\\right\\rangle{}} \\: . \\: {c}({a})$"
      ],
      "text/plain": [
       "unit_<X,<<X,t>,t>> = (λ a_X: (λ c_<X,t>: c_<X,t>(a_X)))"
      ]
     },
     "metadata": {},
     "output_type": "display_data"
    }
   ],
   "source": [
    "%lamb unit = L a_X: L c_<X,t> : c(a)"
   ]
  },
  {
   "cell_type": "code",
   "execution_count": 55,
   "id": "44508d58-b899-4b65-8ce8-cf413743e0ca",
   "metadata": {},
   "outputs": [
    {
     "data": {
      "text/latex": [
       "$\\lambda{} c_{\\left\\langle{}e,t\\right\\rangle{}} \\: . \\: {c}({A}_{e})$"
      ],
      "text/plain": [
       "(λ c_<e,t>: c_<e,t>(A_e))"
      ]
     },
     "execution_count": 55,
     "metadata": {},
     "output_type": "execute_result"
    }
   ],
   "source": [
    "unit(te(\"A_e\")).reduce_all()"
   ]
  },
  {
   "cell_type": "markdown",
   "id": "2cc07506-f133-4ea9-ae35-057a5b01c0e2",
   "metadata": {},
   "source": [
    "The *bind* operation for this monad is a bit hard to parse..."
   ]
  },
  {
   "cell_type": "code",
   "execution_count": 56,
   "id": "2d9b4e19-6ffb-4d24-b352-184d46b44456",
   "metadata": {},
   "outputs": [
    {
     "data": {
      "text/markdown": [
       "${bind}_{\\left\\langle{}\\left\\langle{}\\left\\langle{}X,t\\right\\rangle{},t\\right\\rangle{},\\left\\langle{}\\left\\langle{}X,\\left\\langle{}\\left\\langle{}Y,t\\right\\rangle{},t\\right\\rangle{}\\right\\rangle{},\\left\\langle{}\\left\\langle{}Y,t\\right\\rangle{},t\\right\\rangle{}\\right\\rangle{}\\right\\rangle{}}\\:=\\:\\lambda{} m_{\\left\\langle{}\\left\\langle{}X,t\\right\\rangle{},t\\right\\rangle{}} \\: . \\: \\lambda{} k_{\\left\\langle{}X,\\left\\langle{}\\left\\langle{}Y,t\\right\\rangle{},t\\right\\rangle{}\\right\\rangle{}} \\: . \\: \\lambda{} c_{\\left\\langle{}Y,t\\right\\rangle{}} \\: . \\: {m}(\\lambda{} a_{X} \\: . \\: {k}({a})({c}))$"
      ],
      "text/plain": [
       "bind_<<<X,t>,t>,<<X,<<Y,t>,t>>,<<Y,t>,t>>> = (λ m_<<X,t>,t>: (λ k_<X,<<Y,t>,t>>: (λ c_<Y,t>: m_<<X,t>,t>(λ a_X: k_<X,<<Y,t>,t>>(a_X)(c_<Y,t>)))))"
      ]
     },
     "metadata": {},
     "output_type": "display_data"
    }
   ],
   "source": [
    "%lamb bind = L m_<<X,t>,t> : L k_<X,<<Y,t>,t>> : L c_<Y,t> : m(L a_X : k(a)(c))"
   ]
  },
  {
   "cell_type": "code",
   "execution_count": 57,
   "id": "8c7db151-2b11-439f-bf5b-63b9647bf041",
   "metadata": {},
   "outputs": [
    {
     "data": {
      "text/markdown": [
       "${apply}_{\\left\\langle{}\\left\\langle{}\\left\\langle{}\\left\\langle{}X',X\\right\\rangle{},t\\right\\rangle{},t\\right\\rangle{},\\left\\langle{}\\left\\langle{}\\left\\langle{}X',t\\right\\rangle{},t\\right\\rangle{},\\left\\langle{}\\left\\langle{}X,t\\right\\rangle{},t\\right\\rangle{}\\right\\rangle{}\\right\\rangle{}}\\:=\\:\\lambda{} f_{\\left\\langle{}\\left\\langle{}\\left\\langle{}X',X\\right\\rangle{},t\\right\\rangle{},t\\right\\rangle{}} \\: . \\: \\lambda{} x_{\\left\\langle{}\\left\\langle{}X',t\\right\\rangle{},t\\right\\rangle{}} \\: . \\: \\lambda{} c_{\\left\\langle{}X,t\\right\\rangle{}} \\: . \\: {f}(\\lambda{} a_{\\left\\langle{}X',X\\right\\rangle{}} \\: . \\: {x}(\\lambda{} a1_{X'} \\: . \\: {c}({a}({a1}))))$"
      ],
      "text/plain": [
       "apply_<<<<X1,X>,t>,t>,<<<X1,t>,t>,<<X,t>,t>>> = (λ f_<<<X1,X>,t>,t>: (λ x_<<X1,t>,t>: (λ c_<X,t>: f_<<<X1,X>,t>,t>(λ a_<X1,X>: x_<<X1,t>,t>(λ a1_X1: c_<X,t>(a_<X1,X>(a1_X1)))))))"
      ]
     },
     "metadata": {},
     "output_type": "display_data"
    }
   ],
   "source": [
    "%lamb apply = L f_Z1 : L x_Z2 : bind(f)(L a_<X,Y> : bind(x)(L b_X : unit(a(b))))"
   ]
  },
  {
   "cell_type": "code",
   "execution_count": 58,
   "id": "40ac5f31-8fe5-45f2-948d-9608f34c94b6",
   "metadata": {},
   "outputs": [
    {
     "data": {
      "text/html": [
       "Composition system 'Type-driven composition (copy)'<br />Operations: {<br />&nbsp;&nbsp;&nbsp;&nbsp;Binary composition rule <i>FA</i>, built on python function 'lamb.lang.fa_fun'<br />&nbsp;&nbsp;&nbsp;&nbsp;Binary composition rule <i>PA</i>, built on python function 'lamb.lang.pa_fun'<br />&nbsp;&nbsp;&nbsp;&nbsp;Binary composition rule <i>VAC</i>, built on python function 'lamb.lang.binary_vacuous'<br />&nbsp;&nbsp;&nbsp;&nbsp;Typeshift <i>Unit</i>, built on combinator '$\\lambda{} a_{X} \\: . \\: \\lambda{} c_{\\left\\langle{}X,t\\right\\rangle{}} \\: . \\: {c}({a})$'<br />&nbsp;&nbsp;&nbsp;&nbsp;Binary composition rule <i>Bind</i>, built on combinator '$\\lambda{} m_{\\left\\langle{}\\left\\langle{}X,t\\right\\rangle{},t\\right\\rangle{}} \\: . \\: \\lambda{} k_{\\left\\langle{}X,\\left\\langle{}\\left\\langle{}Y,t\\right\\rangle{},t\\right\\rangle{}\\right\\rangle{}} \\: . \\: \\lambda{} c_{\\left\\langle{}Y,t\\right\\rangle{}} \\: . \\: {m}(\\lambda{} a_{X} \\: . \\: {k}({a})({c}))$'<br />&nbsp;&nbsp;&nbsp;&nbsp;Binary composition rule <i>LiftedFA</i>, built on combinator '$\\lambda{} f_{\\left\\langle{}\\left\\langle{}\\left\\langle{}X',X\\right\\rangle{},t\\right\\rangle{},t\\right\\rangle{}} \\: . \\: \\lambda{} x_{\\left\\langle{}\\left\\langle{}X',t\\right\\rangle{},t\\right\\rangle{}} \\: . \\: \\lambda{} c_{\\left\\langle{}X,t\\right\\rangle{}} \\: . \\: {f}(\\lambda{} a_{\\left\\langle{}X',X\\right\\rangle{}} \\: . \\: {x}(\\lambda{} a1_{X'} \\: . \\: {c}({a}({a1}))))$'<br />}"
      ],
      "text/plain": [
       "Composition system: Type-driven composition (copy)"
      ]
     },
     "execution_count": 58,
     "metadata": {},
     "output_type": "execute_result"
    }
   ],
   "source": [
    "system = lang.td_system.copy()\n",
    "system.add_typeshift(unit, \"Unit\")\n",
    "# bind is unused in this demo, but can be added in principle\n",
    "system.add_binary_rule(bind, \"Bind\")\n",
    "system.add_binary_rule(apply, \"LiftedFA\")\n",
    "# do a bit of cleanup, we don't need PM here.\n",
    "system.remove_rule('PM')\n",
    "system.typeshift = True\n",
    "lang.set_system(system)\n",
    "system"
   ]
  },
  {
   "cell_type": "code",
   "execution_count": 59,
   "id": "d8964cbd-5849-4638-b86a-06c4fd5bec61",
   "metadata": {},
   "outputs": [
    {
     "name": "stdout",
     "output_type": "stream",
     "text": [
      "INFO (core): Coerced guessed type for 'Dance_t' into <e,t>, to match argument 'x_e'\n",
      "INFO (core): Coerced guessed type for 'Saw_t' into <(e,e),t>, to match argument '(x_e, y_e)'\n",
      "INFO (core): Coerced guessed type for 'Human_t' into <e,t>, to match argument 'x_e'\n",
      "INFO (core): Coerced guessed type for 'Human_t' into <e,t>, to match argument 'x_e'\n"
     ]
    },
    {
     "data": {
      "text/markdown": [
       "$[\\![\\text{\\textbf{alfonso}}]\\!]^{}_{e} \\:=\\: {A}_{e}$<br />\n",
       "$[\\![\\text{\\textbf{danced}}]\\!]^{}_{\\left\\langle{}e,t\\right\\rangle{}} \\:=\\: \\lambda{} x_{e} \\: . \\: {Dance}({x})$<br />\n",
       "$[\\![\\text{\\textbf{saw}}]\\!]^{}_{\\left\\langle{}e,\\left\\langle{}e,t\\right\\rangle{}\\right\\rangle{}} \\:=\\: \\lambda{} y_{e} \\: . \\: \\lambda{} x_{e} \\: . \\: {Saw}({x}, {y})$<br />\n",
       "$[\\![\\text{\\textbf{everyone}}]\\!]^{}_{\\left\\langle{}\\left\\langle{}e,t\\right\\rangle{},t\\right\\rangle{}} \\:=\\: \\lambda{} f_{\\left\\langle{}e,t\\right\\rangle{}} \\: . \\: \\forall{} x_{e} \\in {\\small \\{{x}_{e} \\:|\\: {Human}({x}_{e})\\}} \\: . \\: {f}({x})$<br />\n",
       "$[\\![\\text{\\textbf{someone}}]\\!]^{}_{\\left\\langle{}\\left\\langle{}e,t\\right\\rangle{},t\\right\\rangle{}} \\:=\\: \\lambda{} f_{\\left\\langle{}e,t\\right\\rangle{}} \\: . \\: \\exists{} x_{e} \\in {\\small \\{{x}_{e} \\:|\\: {Human}({x}_{e})\\}} \\: . \\: {f}({x})$<br />\n",
       "$[\\![\\text{\\textbf{Closure}}]\\!]^{}_{\\left\\langle{}\\left\\langle{}\\left\\langle{}X,X\\right\\rangle{},Y\\right\\rangle{},Y\\right\\rangle{}} \\:=\\: \\lambda{} f_{\\left\\langle{}\\left\\langle{}X,X\\right\\rangle{},Y\\right\\rangle{}} \\: . \\: {f}(\\lambda{} p_{X} \\: . \\: {p})$"
      ],
      "text/plain": [
       "⟦alfonso⟧ = A_e\n",
       "⟦danced⟧ = (λ x_e: Dance_<e,t>(x_e))\n",
       "⟦saw⟧ = (λ y_e: (λ x_e: Saw_<(e,e),t>(x_e, y_e)))\n",
       "⟦everyone⟧ = (λ f_<e,t>: (Forall x_e << (Set x_e: Human_<e,t>(x_e)): f_<e,t>(x_e)))\n",
       "⟦someone⟧ = (λ f_<e,t>: (Exists x_e << (Set x_e: Human_<e,t>(x_e)): f_<e,t>(x_e)))\n",
       "⟦Closure⟧ = (λ f_<<X,X>,Y>: f_<<X,X>,Y>(λ p_X: p_X))"
      ]
     },
     "metadata": {},
     "output_type": "display_data"
    }
   ],
   "source": [
    "%%lamb\n",
    "||alfonso|| = A_e\n",
    "||danced|| = L x_e: Dance(x)\n",
    "||saw|| = L y_e: L x_e: Saw(x,y)\n",
    "||everyone|| = L f_<e,t> : Forall x << (Set x_e: Human(x)) : f(x)\n",
    "||someone|| = L f_<e,t> : Exists x << (Set x_e: Human(x)) : f(x)\n",
    "||Closure|| = L f_<<X,X>,Y> : f(L p_X : p)"
   ]
  },
  {
   "cell_type": "code",
   "execution_count": 60,
   "id": "951241b2-41ed-42af-91d6-3d4aec30ac46",
   "metadata": {},
   "outputs": [
    {
     "data": {
      "text/markdown": [
       "1 composition path.  Result:<br />\n",
       "&nbsp;&nbsp;&nbsp;&nbsp;[0]: $[\\![\\text{\\textbf{[alfonso danced]}}]\\!]^{}_{t} \\:=\\: {Dance}({A}_{e})$"
      ],
      "text/plain": [
       "1 composition path.  Result:\n",
       "    [0]: ⟦alfonso⟧ * ⟦danced⟧ leads to: ⟦[alfonso danced]⟧ = Dance_<e,t>(A_e) [by FA]"
      ]
     },
     "metadata": {},
     "output_type": "display_data"
    }
   ],
   "source": [
    "alfonso * danced"
   ]
  },
  {
   "cell_type": "code",
   "execution_count": 61,
   "id": "76f9eb98-4856-47d5-a09c-c1d9c848b67d",
   "metadata": {},
   "outputs": [
    {
     "data": {
      "text/markdown": [
       "2 composition paths. Results:<br />\n",
       "&nbsp;&nbsp;&nbsp;&nbsp;[0]: $[\\![\\text{\\textbf{[Closure [[alfonso danced]]]}}]\\!]^{}_{t} \\:=\\: {Dance}({A}_{e})$<br />\n",
       "&nbsp;&nbsp;&nbsp;&nbsp;[1]: $[\\![\\text{\\textbf{[Closure [[alfonso danced]]]}}]\\!]^{}_{\\left\\langle{}\\left\\langle{}t,t\\right\\rangle{},t\\right\\rangle{}} \\:=\\: \\lambda{} c_{\\left\\langle{}t,t\\right\\rangle{}} \\: . \\: {c}({Dance}({A}_{e}))$"
      ],
      "text/plain": [
       "2 composition paths. Results:\n",
       "    [0]: ⟦Closure⟧ * ⟦[[alfonso danced]]⟧ leads to: ⟦[Closure [[alfonso danced]]]⟧ = Dance_<e,t>(A_e) [by FA]\n",
       "    [1]: ⟦Closure⟧ * ⟦[[alfonso danced]]⟧ leads to: ⟦[Closure [[alfonso danced]]]⟧ = (λ c_<t,t>: c_<t,t>(Dance_<e,t>(A_e))) [by LiftedFA]"
      ]
     },
     "metadata": {},
     "output_type": "display_data"
    }
   ],
   "source": [
    "Closure * (alfonso * danced)"
   ]
  },
  {
   "cell_type": "code",
   "execution_count": 62,
   "id": "ee5d24fd-99ff-4710-b237-a858aa7f474c",
   "metadata": {},
   "outputs": [
    {
     "data": {
      "text/markdown": [
       "2 composition paths. Results:<br />\n",
       "&nbsp;&nbsp;&nbsp;&nbsp;[0]: $[\\![\\text{\\textbf{[Closure [[everyone danced]]]}}]\\!]^{}_{t} \\:=\\: \\forall{} x_{e} \\in {\\small \\{{x}_{e} \\:|\\: {Human}({x}_{e})\\}} \\: . \\: {Dance}({x})$<br />\n",
       "&nbsp;&nbsp;&nbsp;&nbsp;[1]: $[\\![\\text{\\textbf{[Closure [[everyone danced]]]}}]\\!]^{}_{\\left\\langle{}\\left\\langle{}t,t\\right\\rangle{},t\\right\\rangle{}} \\:=\\: \\lambda{} c_{\\left\\langle{}t,t\\right\\rangle{}} \\: . \\: {c}(\\forall{} x_{e} \\in {\\small \\{{x}_{e} \\:|\\: {Human}({x}_{e})\\}} \\: . \\: {Dance}({x}))$"
      ],
      "text/plain": [
       "2 composition paths. Results:\n",
       "    [0]: ⟦Closure⟧ * ⟦[[everyone danced]]⟧ leads to: ⟦[Closure [[everyone danced]]]⟧ = (Forall x_e << (Set x_e: Human_<e,t>(x_e)): Dance_<e,t>(x_e)) [by FA]\n",
       "    [1]: ⟦Closure⟧ * ⟦[[everyone danced]]⟧ leads to: ⟦[Closure [[everyone danced]]]⟧ = (λ c_<t,t>: c_<t,t>(Forall x_e << (Set x_e: Human_<e,t>(x_e)): Dance_<e,t>(x_e))) [by LiftedFA]"
      ]
     },
     "metadata": {},
     "output_type": "display_data"
    }
   ],
   "source": [
    "Closure * (everyone * danced)"
   ]
  },
  {
   "cell_type": "code",
   "execution_count": 63,
   "id": "7b12853e-ebaa-4902-8b4f-96469b5f305f",
   "metadata": {},
   "outputs": [
    {
     "data": {
      "text/html": [
       "2 composition paths:<br />\n",
       "Path [0]:<br />\n",
       "<div align=\"center\" style=\"display:table;\"><div align=\"center\" style=\"display:table-row;\"><div style=\"display:table-cell;table-layout:auto;vertical-align:bottom;border-bottom:1px solid #848482;\"><div style=\"display: table;\"><div style=\"vertical-align:bottom;display:table-cell;padding-left:5px;padding-right:5px;padding-top:5px;padding-bottom:5px;\"><div align=\"center\" style=\"display:block;padding-left:5px;padding-right:5px;padding-top:5px;padding-bottom:5px;\"><div style=\"display:table;table-layout:auto;\" align=\"center\"><div style=\"display:table-row;\"><div style=\"display:table-cell;padding-right:2px; padding-left:2px;\" align=\"center\"><div style=\"display:inline-block;\"><span>$[\\![\\text{\\textbf{Closure}}]\\!]^{}_{\\left\\langle{}\\left\\langle{}\\left\\langle{}X,X\\right\\rangle{},Y\\right\\rangle{},Y\\right\\rangle{}}$</span></div></div></div><div style=\"display:table-row;\"><div style=\"display:table-cell;padding-right:2px; padding-left:2px;\" align=\"center\"><div style=\"display:inline-block;\"><span>$\\lambda{} f_{\\left\\langle{}\\left\\langle{}X,X\\right\\rangle{},Y\\right\\rangle{}} \\: . \\: {f}(\\lambda{} p_{X} \\: . \\: {p})$</span></div></div></div></div></div></div><div style=\"display: table-cell; padding-left:4em;\"></div><div style=\"vertical-align:bottom;display:table-cell;padding-left:5px;padding-right:5px;padding-top:5px;padding-bottom:5px;\"><div align=\"center\" style=\"display:table;\"><div align=\"center\" style=\"display:table-row;\"><div style=\"display:table-cell;table-layout:auto;vertical-align:bottom;border-bottom:1px solid #848482;\"><div style=\"display: table;\"><div style=\"vertical-align:bottom;display:table-cell;padding-left:5px;padding-right:5px;padding-top:5px;padding-bottom:5px;\"><div align=\"center\" style=\"display:table;\"><div align=\"center\" style=\"display:table-row;\"><div style=\"display:table-cell;table-layout:auto;vertical-align:bottom;border-bottom:1px solid #848482;\"><div style=\"display: table;\"><div style=\"vertical-align:bottom;display:table-cell;padding-left:5px;padding-right:5px;padding-top:5px;padding-bottom:5px;\"><div align=\"center\" style=\"display:block;padding-left:5px;padding-right:5px;padding-top:5px;padding-bottom:5px;\"><div style=\"display:table;table-layout:auto;\" align=\"center\"><div style=\"display:table-row;\"><div style=\"display:table-cell;padding-right:2px; padding-left:2px;\" align=\"center\"><div style=\"display:inline-block;\"><span>$[\\![\\text{\\textbf{everyone}}]\\!]^{}_{\\left\\langle{}\\left\\langle{}e,t\\right\\rangle{},t\\right\\rangle{}}$</span></div></div></div><div style=\"display:table-row;\"><div style=\"display:table-cell;padding-right:2px; padding-left:2px;\" align=\"center\"><div style=\"display:inline-block;\"><span>$\\lambda{} f_{\\left\\langle{}e,t\\right\\rangle{}} \\: . \\: \\forall{} x_{e} \\in {\\small \\{{x}_{e} \\:|\\: {Human}({x}_{e})\\}} \\: . \\: {f}({x})$</span></div></div></div></div></div></div><div style=\"display: table-cell; padding-left:4em;\"></div><div style=\"vertical-align:bottom;display:table-cell;padding-left:5px;padding-right:5px;padding-top:5px;padding-bottom:5px;\"><div align=\"center\" style=\"display:block;padding-left:5px;padding-right:5px;padding-top:5px;padding-bottom:5px;\"><div style=\"display:table;table-layout:auto;\" align=\"center\"><div style=\"display:table-row;\"><div style=\"display:table-cell;padding-right:2px; padding-left:2px;\" align=\"center\"><div style=\"display:inline-block;\"><span>$[\\![\\text{\\textbf{danced}}]\\!]^{}_{\\left\\langle{}e,t\\right\\rangle{}}$</span></div></div></div><div style=\"display:table-row;\"><div style=\"display:table-cell;padding-right:2px; padding-left:2px;\" align=\"center\"><div style=\"display:inline-block;\"><span>$\\lambda{} x_{e} \\: . \\: {Dance}({x})$</span></div></div></div></div></div></div></div></div><div style=\"display:table-cell;\"></div></div><div style=\"display:table-row;\"><div style=\"display: table-cell;\"></div><div style=\"display:table-cell;vertical-align:middle;\"><div style=\"vertical-align:middle;height:0px;overflow:visible\"><div style=\"color:blue;transform: translateY(-1em); padding-left:0.5em;\"><b>[<span>FA</span>]</b></div></div></div></div><div align=\"center\" style=\"display:table-row;padding-left:5px;padding-right:5px;padding-top:5px;padding-bottom:5px;\"><div align=\"center\" style=\"display:block;padding-left:5px;padding-right:5px;padding-top:5px;padding-bottom:5px;\"><div style=\"display:table;table-layout:auto;\" align=\"center\"><div style=\"display:table-row;\"><div style=\"display:table-cell;padding-right:2px; padding-left:2px;\" align=\"center\"><div style=\"display:inline-block;\"><span>$[\\![\\text{\\textbf{[everyone danced]}}]\\!]^{}_{t}$</span></div></div></div><div style=\"display:table-row;\"><div style=\"display:table-cell;padding-right:2px; padding-left:2px;\" align=\"center\"><div style=\"display:inline-block;\"><span>$\\forall{} x_{e} \\in {\\small \\{{x}_{e} \\:|\\: {Human}({x}_{e})\\}} \\: . \\: {Dance}({x})$</span></div></div></div></div></div><div style=\"display: table-cell;\"></div></div></div></div></div></div><div style=\"display:table-cell;\"></div></div><div style=\"display:table-row;\"><div style=\"display: table-cell;\"></div><div style=\"display:table-cell;vertical-align:middle;\"><div style=\"vertical-align:middle;height:0px;overflow:visible\"><div style=\"color:blue;transform: translateY(-1em); padding-left:0.5em;\"><b>[<span>Unit</span>]</b></div></div></div></div><div align=\"center\" style=\"display:table-row;padding-left:5px;padding-right:5px;padding-top:5px;padding-bottom:5px;\"><div align=\"center\" style=\"display:block;padding-left:5px;padding-right:5px;padding-top:5px;padding-bottom:5px;\"><div style=\"display:table;table-layout:auto;\" align=\"center\"><div style=\"display:table-row;\"><div style=\"display:table-cell;padding-right:2px; padding-left:2px;\" align=\"center\"><div style=\"display:inline-block;\"><span>$[\\![\\text{\\textbf{[[everyone danced]]}}]\\!]^{}_{\\left\\langle{}\\left\\langle{}t,t\\right\\rangle{},t\\right\\rangle{}}$</span></div></div></div><div style=\"display:table-row;\"><div style=\"display:table-cell;padding-right:2px; padding-left:2px;\" align=\"center\"><div style=\"display:inline-block;\"><span>$\\lambda{} c_{\\left\\langle{}t,t\\right\\rangle{}} \\: . \\: {c}(\\forall{} x_{e} \\in {\\small \\{{x}_{e} \\:|\\: {Human}({x}_{e})\\}} \\: . \\: {Dance}({x}))$</span></div></div></div></div></div><div style=\"display: table-cell;\"></div></div></div></div></div></div><div style=\"display:table-cell;\"></div></div><div style=\"display:table-row;\"><div style=\"display: table-cell;\"></div><div style=\"display:table-cell;vertical-align:middle;\"><div style=\"vertical-align:middle;height:0px;overflow:visible\"><div style=\"color:blue;transform: translateY(-1em); padding-left:0.5em;\"><b>[<span>FA</span>]</b></div></div></div></div><div align=\"center\" style=\"display:table-row;padding-left:5px;padding-right:5px;padding-top:5px;padding-bottom:5px;\"><div align=\"center\" style=\"display:block;padding-left:5px;padding-right:5px;padding-top:5px;padding-bottom:5px;\"><div style=\"display:table;table-layout:auto;\" align=\"center\"><div style=\"display:table-row;\"><div style=\"display:table-cell;padding-right:2px; padding-left:2px;\" align=\"center\"><div style=\"display:inline-block;\"><span>$[\\![\\text{\\textbf{[Closure [[everyone danced]]]}}]\\!]^{}_{t}$</span></div></div></div><div style=\"display:table-row;\"><div style=\"display:table-cell;padding-right:2px; padding-left:2px;\" align=\"center\"><div style=\"display:inline-block;\"><span>$\\forall{} x_{e} \\in {\\small \\{{x}_{e} \\:|\\: {Human}({x}_{e})\\}} \\: . \\: {Dance}({x})$</span></div></div></div></div></div><div style=\"display: table-cell;\"></div></div></div><br /><br />Path [1]:<br />\n",
       "<div align=\"center\" style=\"display:table;\"><div align=\"center\" style=\"display:table-row;\"><div style=\"display:table-cell;table-layout:auto;vertical-align:bottom;border-bottom:1px solid #848482;\"><div style=\"display: table;\"><div style=\"vertical-align:bottom;display:table-cell;padding-left:5px;padding-right:5px;padding-top:5px;padding-bottom:5px;\"><div align=\"center\" style=\"display:block;padding-left:5px;padding-right:5px;padding-top:5px;padding-bottom:5px;\"><div style=\"display:table;table-layout:auto;\" align=\"center\"><div style=\"display:table-row;\"><div style=\"display:table-cell;padding-right:2px; padding-left:2px;\" align=\"center\"><div style=\"display:inline-block;\"><span>$[\\![\\text{\\textbf{Closure}}]\\!]^{}_{\\left\\langle{}\\left\\langle{}\\left\\langle{}X,X\\right\\rangle{},Y\\right\\rangle{},Y\\right\\rangle{}}$</span></div></div></div><div style=\"display:table-row;\"><div style=\"display:table-cell;padding-right:2px; padding-left:2px;\" align=\"center\"><div style=\"display:inline-block;\"><span>$\\lambda{} f_{\\left\\langle{}\\left\\langle{}X,X\\right\\rangle{},Y\\right\\rangle{}} \\: . \\: {f}(\\lambda{} p_{X} \\: . \\: {p})$</span></div></div></div></div></div></div><div style=\"display: table-cell; padding-left:4em;\"></div><div style=\"vertical-align:bottom;display:table-cell;padding-left:5px;padding-right:5px;padding-top:5px;padding-bottom:5px;\"><div align=\"center\" style=\"display:table;\"><div align=\"center\" style=\"display:table-row;\"><div style=\"display:table-cell;table-layout:auto;vertical-align:bottom;border-bottom:1px solid #848482;\"><div style=\"display: table;\"><div style=\"vertical-align:bottom;display:table-cell;padding-left:5px;padding-right:5px;padding-top:5px;padding-bottom:5px;\"><div align=\"center\" style=\"display:table;\"><div align=\"center\" style=\"display:table-row;\"><div style=\"display:table-cell;table-layout:auto;vertical-align:bottom;border-bottom:1px solid #848482;\"><div style=\"display: table;\"><div style=\"vertical-align:bottom;display:table-cell;padding-left:5px;padding-right:5px;padding-top:5px;padding-bottom:5px;\"><div align=\"center\" style=\"display:block;padding-left:5px;padding-right:5px;padding-top:5px;padding-bottom:5px;\"><div style=\"display:table;table-layout:auto;\" align=\"center\"><div style=\"display:table-row;\"><div style=\"display:table-cell;padding-right:2px; padding-left:2px;\" align=\"center\"><div style=\"display:inline-block;\"><span>$[\\![\\text{\\textbf{everyone}}]\\!]^{}_{\\left\\langle{}\\left\\langle{}e,t\\right\\rangle{},t\\right\\rangle{}}$</span></div></div></div><div style=\"display:table-row;\"><div style=\"display:table-cell;padding-right:2px; padding-left:2px;\" align=\"center\"><div style=\"display:inline-block;\"><span>$\\lambda{} f_{\\left\\langle{}e,t\\right\\rangle{}} \\: . \\: \\forall{} x_{e} \\in {\\small \\{{x}_{e} \\:|\\: {Human}({x}_{e})\\}} \\: . \\: {f}({x})$</span></div></div></div></div></div></div><div style=\"display: table-cell; padding-left:4em;\"></div><div style=\"vertical-align:bottom;display:table-cell;padding-left:5px;padding-right:5px;padding-top:5px;padding-bottom:5px;\"><div align=\"center\" style=\"display:block;padding-left:5px;padding-right:5px;padding-top:5px;padding-bottom:5px;\"><div style=\"display:table;table-layout:auto;\" align=\"center\"><div style=\"display:table-row;\"><div style=\"display:table-cell;padding-right:2px; padding-left:2px;\" align=\"center\"><div style=\"display:inline-block;\"><span>$[\\![\\text{\\textbf{danced}}]\\!]^{}_{\\left\\langle{}e,t\\right\\rangle{}}$</span></div></div></div><div style=\"display:table-row;\"><div style=\"display:table-cell;padding-right:2px; padding-left:2px;\" align=\"center\"><div style=\"display:inline-block;\"><span>$\\lambda{} x_{e} \\: . \\: {Dance}({x})$</span></div></div></div></div></div></div></div></div><div style=\"display:table-cell;\"></div></div><div style=\"display:table-row;\"><div style=\"display: table-cell;\"></div><div style=\"display:table-cell;vertical-align:middle;\"><div style=\"vertical-align:middle;height:0px;overflow:visible\"><div style=\"color:blue;transform: translateY(-1em); padding-left:0.5em;\"><b>[<span>FA</span>]</b></div></div></div></div><div align=\"center\" style=\"display:table-row;padding-left:5px;padding-right:5px;padding-top:5px;padding-bottom:5px;\"><div align=\"center\" style=\"display:block;padding-left:5px;padding-right:5px;padding-top:5px;padding-bottom:5px;\"><div style=\"display:table;table-layout:auto;\" align=\"center\"><div style=\"display:table-row;\"><div style=\"display:table-cell;padding-right:2px; padding-left:2px;\" align=\"center\"><div style=\"display:inline-block;\"><span>$[\\![\\text{\\textbf{[everyone danced]}}]\\!]^{}_{t}$</span></div></div></div><div style=\"display:table-row;\"><div style=\"display:table-cell;padding-right:2px; padding-left:2px;\" align=\"center\"><div style=\"display:inline-block;\"><span>$\\forall{} x_{e} \\in {\\small \\{{x}_{e} \\:|\\: {Human}({x}_{e})\\}} \\: . \\: {Dance}({x})$</span></div></div></div></div></div><div style=\"display: table-cell;\"></div></div></div></div></div></div><div style=\"display:table-cell;\"></div></div><div style=\"display:table-row;\"><div style=\"display: table-cell;\"></div><div style=\"display:table-cell;vertical-align:middle;\"><div style=\"vertical-align:middle;height:0px;overflow:visible\"><div style=\"color:blue;transform: translateY(-1em); padding-left:0.5em;\"><b>[<span>Unit</span>]</b></div></div></div></div><div align=\"center\" style=\"display:table-row;padding-left:5px;padding-right:5px;padding-top:5px;padding-bottom:5px;\"><div align=\"center\" style=\"display:block;padding-left:5px;padding-right:5px;padding-top:5px;padding-bottom:5px;\"><div style=\"display:table;table-layout:auto;\" align=\"center\"><div style=\"display:table-row;\"><div style=\"display:table-cell;padding-right:2px; padding-left:2px;\" align=\"center\"><div style=\"display:inline-block;\"><span>$[\\![\\text{\\textbf{[[everyone danced]]}}]\\!]^{}_{\\left\\langle{}\\left\\langle{}t,t\\right\\rangle{},t\\right\\rangle{}}$</span></div></div></div><div style=\"display:table-row;\"><div style=\"display:table-cell;padding-right:2px; padding-left:2px;\" align=\"center\"><div style=\"display:inline-block;\"><span>$\\lambda{} c_{\\left\\langle{}t,t\\right\\rangle{}} \\: . \\: {c}(\\forall{} x_{e} \\in {\\small \\{{x}_{e} \\:|\\: {Human}({x}_{e})\\}} \\: . \\: {Dance}({x}))$</span></div></div></div></div></div><div style=\"display: table-cell;\"></div></div></div></div></div></div><div style=\"display:table-cell;\"></div></div><div style=\"display:table-row;\"><div style=\"display: table-cell;\"></div><div style=\"display:table-cell;vertical-align:middle;\"><div style=\"vertical-align:middle;height:0px;overflow:visible\"><div style=\"color:blue;transform: translateY(-1em); padding-left:0.5em;\"><b>[<span>LiftedFA</span>]</b></div></div></div></div><div align=\"center\" style=\"display:table-row;padding-left:5px;padding-right:5px;padding-top:5px;padding-bottom:5px;\"><div align=\"center\" style=\"display:block;padding-left:5px;padding-right:5px;padding-top:5px;padding-bottom:5px;\"><div style=\"display:table;table-layout:auto;\" align=\"center\"><div style=\"display:table-row;\"><div style=\"display:table-cell;padding-right:2px; padding-left:2px;\" align=\"center\"><div style=\"display:inline-block;\"><span>$[\\![\\text{\\textbf{[Closure [[everyone danced]]]}}]\\!]^{}_{\\left\\langle{}\\left\\langle{}t,t\\right\\rangle{},t\\right\\rangle{}}$</span></div></div></div><div style=\"display:table-row;\"><div style=\"display:table-cell;padding-right:2px; padding-left:2px;\" align=\"center\"><div style=\"display:inline-block;\"><span>$\\lambda{} c_{\\left\\langle{}t,t\\right\\rangle{}} \\: . \\: {c}(\\forall{} x_{e} \\in {\\small \\{{x}_{e} \\:|\\: {Human}({x}_{e})\\}} \\: . \\: {Dance}({x}))$</span></div></div></div></div></div><div style=\"display: table-cell;\"></div></div></div><br /><br />"
      ],
      "text/plain": [
       "2 composition paths:<br />\n",
       "Path [0]:<br />\n",
       "<div align=\"center\" style=\"display:table;\"><div align=\"center\" style=\"display:table-row;\"><div style=\"display:table-cell;table-layout:auto;vertical-align:bottom;border-bottom:1px solid #848482;\"><div style=\"display: table;\"><div style=\"vertical-align:bottom;display:table-cell;padding-left:5px;padding-right:5px;padding-top:5px;padding-bottom:5px;\"><div align=\"center\" style=\"display:block;padding-left:5px;padding-right:5px;padding-top:5px;padding-bottom:5px;\"><div style=\"display:table;table-layout:auto;\" align=\"center\"><div style=\"display:table-row;\"><div style=\"display:table-cell;padding-right:2px; padding-left:2px;\" align=\"center\"><div style=\"display:inline-block;\"><span>$[\\![\\text{\\textbf{Closure}}]\\!]^{}_{\\left\\langle{}\\left\\langle{}\\left\\langle{}X,X\\right\\rangle{},Y\\right\\rangle{},Y\\right\\rangle{}}$</span></div></div></div><div style=\"display:table-row;\"><div style=\"display:table-cell;padding-right:2px; padding-left:2px;\" align=\"center\"><div style=\"display:inline-block;\"><span>$\\lambda{} f_{\\left\\langle{}\\left\\langle{}X,X\\right\\rangle{},Y\\right\\rangle{}} \\: . \\: {f}(\\lambda{} p_{X} \\: . \\: {p})$</span></div></div></div></div></div></div><div style=\"display: table-cell; padding-left:4em;\"></div><div style=\"vertical-align:bottom;display:table-cell;padding-left:5px;padding-right:5px;padding-top:5px;padding-bottom:5px;\"><div align=\"center\" style=\"display:table;\"><div align=\"center\" style=\"display:table-row;\"><div style=\"display:table-cell;table-layout:auto;vertical-align:bottom;border-bottom:1px solid #848482;\"><div style=\"display: table;\"><div style=\"vertical-align:bottom;display:table-cell;padding-left:5px;padding-right:5px;padding-top:5px;padding-bottom:5px;\"><div align=\"center\" style=\"display:table;\"><div align=\"center\" style=\"display:table-row;\"><div style=\"display:table-cell;table-layout:auto;vertical-align:bottom;border-bottom:1px solid #848482;\"><div style=\"display: table;\"><div style=\"vertical-align:bottom;display:table-cell;padding-left:5px;padding-right:5px;padding-top:5px;padding-bottom:5px;\"><div align=\"center\" style=\"display:block;padding-left:5px;padding-right:5px;padding-top:5px;padding-bottom:5px;\"><div style=\"display:table;table-layout:auto;\" align=\"center\"><div style=\"display:table-row;\"><div style=\"display:table-cell;padding-right:2px; padding-left:2px;\" align=\"center\"><div style=\"display:inline-block;\"><span>$[\\![\\text{\\textbf{everyone}}]\\!]^{}_{\\left\\langle{}\\left\\langle{}e,t\\right\\rangle{},t\\right\\rangle{}}$</span></div></div></div><div style=\"display:table-row;\"><div style=\"display:table-cell;padding-right:2px; padding-left:2px;\" align=\"center\"><div style=\"display:inline-block;\"><span>$\\lambda{} f_{\\left\\langle{}e,t\\right\\rangle{}} \\: . \\: \\forall{} x_{e} \\in {\\small \\{{x}_{e} \\:|\\: {Human}({x}_{e})\\}} \\: . \\: {f}({x})$</span></div></div></div></div></div></div><div style=\"display: table-cell; padding-left:4em;\"></div><div style=\"vertical-align:bottom;display:table-cell;padding-left:5px;padding-right:5px;padding-top:5px;padding-bottom:5px;\"><div align=\"center\" style=\"display:block;padding-left:5px;padding-right:5px;padding-top:5px;padding-bottom:5px;\"><div style=\"display:table;table-layout:auto;\" align=\"center\"><div style=\"display:table-row;\"><div style=\"display:table-cell;padding-right:2px; padding-left:2px;\" align=\"center\"><div style=\"display:inline-block;\"><span>$[\\![\\text{\\textbf{danced}}]\\!]^{}_{\\left\\langle{}e,t\\right\\rangle{}}$</span></div></div></div><div style=\"display:table-row;\"><div style=\"display:table-cell;padding-right:2px; padding-left:2px;\" align=\"center\"><div style=\"display:inline-block;\"><span>$\\lambda{} x_{e} \\: . \\: {Dance}({x})$</span></div></div></div></div></div></div></div></div><div style=\"display:table-cell;\"></div></div><div style=\"display:table-row;\"><div style=\"display: table-cell;\"></div><div style=\"display:table-cell;vertical-align:middle;\"><div style=\"vertical-align:middle;height:0px;overflow:visible\"><div style=\"color:blue;transform: translateY(-1em); padding-left:0.5em;\"><b>[<span>FA</span>]</b></div></div></div></div><div align=\"center\" style=\"display:table-row;padding-left:5px;padding-right:5px;padding-top:5px;padding-bottom:5px;\"><div align=\"center\" style=\"display:block;padding-left:5px;padding-right:5px;padding-top:5px;padding-bottom:5px;\"><div style=\"display:table;table-layout:auto;\" align=\"center\"><div style=\"display:table-row;\"><div style=\"display:table-cell;padding-right:2px; padding-left:2px;\" align=\"center\"><div style=\"display:inline-block;\"><span>$[\\![\\text{\\textbf{[everyone danced]}}]\\!]^{}_{t}$</span></div></div></div><div style=\"display:table-row;\"><div style=\"display:table-cell;padding-right:2px; padding-left:2px;\" align=\"center\"><div style=\"display:inline-block;\"><span>$\\forall{} x_{e} \\in {\\small \\{{x}_{e} \\:|\\: {Human}({x}_{e})\\}} \\: . \\: {Dance}({x})$</span></div></div></div></div></div><div style=\"display: table-cell;\"></div></div></div></div></div></div><div style=\"display:table-cell;\"></div></div><div style=\"display:table-row;\"><div style=\"display: table-cell;\"></div><div style=\"display:table-cell;vertical-align:middle;\"><div style=\"vertical-align:middle;height:0px;overflow:visible\"><div style=\"color:blue;transform: translateY(-1em); padding-left:0.5em;\"><b>[<span>Unit</span>]</b></div></div></div></div><div align=\"center\" style=\"display:table-row;padding-left:5px;padding-right:5px;padding-top:5px;padding-bottom:5px;\"><div align=\"center\" style=\"display:block;padding-left:5px;padding-right:5px;padding-top:5px;padding-bottom:5px;\"><div style=\"display:table;table-layout:auto;\" align=\"center\"><div style=\"display:table-row;\"><div style=\"display:table-cell;padding-right:2px; padding-left:2px;\" align=\"center\"><div style=\"display:inline-block;\"><span>$[\\![\\text{\\textbf{[[everyone danced]]}}]\\!]^{}_{\\left\\langle{}\\left\\langle{}t,t\\right\\rangle{},t\\right\\rangle{}}$</span></div></div></div><div style=\"display:table-row;\"><div style=\"display:table-cell;padding-right:2px; padding-left:2px;\" align=\"center\"><div style=\"display:inline-block;\"><span>$\\lambda{} c_{\\left\\langle{}t,t\\right\\rangle{}} \\: . \\: {c}(\\forall{} x_{e} \\in {\\small \\{{x}_{e} \\:|\\: {Human}({x}_{e})\\}} \\: . \\: {Dance}({x}))$</span></div></div></div></div></div><div style=\"display: table-cell;\"></div></div></div></div></div></div><div style=\"display:table-cell;\"></div></div><div style=\"display:table-row;\"><div style=\"display: table-cell;\"></div><div style=\"display:table-cell;vertical-align:middle;\"><div style=\"vertical-align:middle;height:0px;overflow:visible\"><div style=\"color:blue;transform: translateY(-1em); padding-left:0.5em;\"><b>[<span>FA</span>]</b></div></div></div></div><div align=\"center\" style=\"display:table-row;padding-left:5px;padding-right:5px;padding-top:5px;padding-bottom:5px;\"><div align=\"center\" style=\"display:block;padding-left:5px;padding-right:5px;padding-top:5px;padding-bottom:5px;\"><div style=\"display:table;table-layout:auto;\" align=\"center\"><div style=\"display:table-row;\"><div style=\"display:table-cell;padding-right:2px; padding-left:2px;\" align=\"center\"><div style=\"display:inline-block;\"><span>$[\\![\\text{\\textbf{[Closure [[everyone danced]]]}}]\\!]^{}_{t}$</span></div></div></div><div style=\"display:table-row;\"><div style=\"display:table-cell;padding-right:2px; padding-left:2px;\" align=\"center\"><div style=\"display:inline-block;\"><span>$\\forall{} x_{e} \\in {\\small \\{{x}_{e} \\:|\\: {Human}({x}_{e})\\}} \\: . \\: {Dance}({x})$</span></div></div></div></div></div><div style=\"display: table-cell;\"></div></div></div><br /><br />Path [1]:<br />\n",
       "<div align=\"center\" style=\"display:table;\"><div align=\"center\" style=\"display:table-row;\"><div style=\"display:table-cell;table-layout:auto;vertical-align:bottom;border-bottom:1px solid #848482;\"><div style=\"display: table;\"><div style=\"vertical-align:bottom;display:table-cell;padding-left:5px;padding-right:5px;padding-top:5px;padding-bottom:5px;\"><div align=\"center\" style=\"display:block;padding-left:5px;padding-right:5px;padding-top:5px;padding-bottom:5px;\"><div style=\"display:table;table-layout:auto;\" align=\"center\"><div style=\"display:table-row;\"><div style=\"display:table-cell;padding-right:2px; padding-left:2px;\" align=\"center\"><div style=\"display:inline-block;\"><span>$[\\![\\text{\\textbf{Closure}}]\\!]^{}_{\\left\\langle{}\\left\\langle{}\\left\\langle{}X,X\\right\\rangle{},Y\\right\\rangle{},Y\\right\\rangle{}}$</span></div></div></div><div style=\"display:table-row;\"><div style=\"display:table-cell;padding-right:2px; padding-left:2px;\" align=\"center\"><div style=\"display:inline-block;\"><span>$\\lambda{} f_{\\left\\langle{}\\left\\langle{}X,X\\right\\rangle{},Y\\right\\rangle{}} \\: . \\: {f}(\\lambda{} p_{X} \\: . \\: {p})$</span></div></div></div></div></div></div><div style=\"display: table-cell; padding-left:4em;\"></div><div style=\"vertical-align:bottom;display:table-cell;padding-left:5px;padding-right:5px;padding-top:5px;padding-bottom:5px;\"><div align=\"center\" style=\"display:table;\"><div align=\"center\" style=\"display:table-row;\"><div style=\"display:table-cell;table-layout:auto;vertical-align:bottom;border-bottom:1px solid #848482;\"><div style=\"display: table;\"><div style=\"vertical-align:bottom;display:table-cell;padding-left:5px;padding-right:5px;padding-top:5px;padding-bottom:5px;\"><div align=\"center\" style=\"display:table;\"><div align=\"center\" style=\"display:table-row;\"><div style=\"display:table-cell;table-layout:auto;vertical-align:bottom;border-bottom:1px solid #848482;\"><div style=\"display: table;\"><div style=\"vertical-align:bottom;display:table-cell;padding-left:5px;padding-right:5px;padding-top:5px;padding-bottom:5px;\"><div align=\"center\" style=\"display:block;padding-left:5px;padding-right:5px;padding-top:5px;padding-bottom:5px;\"><div style=\"display:table;table-layout:auto;\" align=\"center\"><div style=\"display:table-row;\"><div style=\"display:table-cell;padding-right:2px; padding-left:2px;\" align=\"center\"><div style=\"display:inline-block;\"><span>$[\\![\\text{\\textbf{everyone}}]\\!]^{}_{\\left\\langle{}\\left\\langle{}e,t\\right\\rangle{},t\\right\\rangle{}}$</span></div></div></div><div style=\"display:table-row;\"><div style=\"display:table-cell;padding-right:2px; padding-left:2px;\" align=\"center\"><div style=\"display:inline-block;\"><span>$\\lambda{} f_{\\left\\langle{}e,t\\right\\rangle{}} \\: . \\: \\forall{} x_{e} \\in {\\small \\{{x}_{e} \\:|\\: {Human}({x}_{e})\\}} \\: . \\: {f}({x})$</span></div></div></div></div></div></div><div style=\"display: table-cell; padding-left:4em;\"></div><div style=\"vertical-align:bottom;display:table-cell;padding-left:5px;padding-right:5px;padding-top:5px;padding-bottom:5px;\"><div align=\"center\" style=\"display:block;padding-left:5px;padding-right:5px;padding-top:5px;padding-bottom:5px;\"><div style=\"display:table;table-layout:auto;\" align=\"center\"><div style=\"display:table-row;\"><div style=\"display:table-cell;padding-right:2px; padding-left:2px;\" align=\"center\"><div style=\"display:inline-block;\"><span>$[\\![\\text{\\textbf{danced}}]\\!]^{}_{\\left\\langle{}e,t\\right\\rangle{}}$</span></div></div></div><div style=\"display:table-row;\"><div style=\"display:table-cell;padding-right:2px; padding-left:2px;\" align=\"center\"><div style=\"display:inline-block;\"><span>$\\lambda{} x_{e} \\: . \\: {Dance}({x})$</span></div></div></div></div></div></div></div></div><div style=\"display:table-cell;\"></div></div><div style=\"display:table-row;\"><div style=\"display: table-cell;\"></div><div style=\"display:table-cell;vertical-align:middle;\"><div style=\"vertical-align:middle;height:0px;overflow:visible\"><div style=\"color:blue;transform: translateY(-1em); padding-left:0.5em;\"><b>[<span>FA</span>]</b></div></div></div></div><div align=\"center\" style=\"display:table-row;padding-left:5px;padding-right:5px;padding-top:5px;padding-bottom:5px;\"><div align=\"center\" style=\"display:block;padding-left:5px;padding-right:5px;padding-top:5px;padding-bottom:5px;\"><div style=\"display:table;table-layout:auto;\" align=\"center\"><div style=\"display:table-row;\"><div style=\"display:table-cell;padding-right:2px; padding-left:2px;\" align=\"center\"><div style=\"display:inline-block;\"><span>$[\\![\\text{\\textbf{[everyone danced]}}]\\!]^{}_{t}$</span></div></div></div><div style=\"display:table-row;\"><div style=\"display:table-cell;padding-right:2px; padding-left:2px;\" align=\"center\"><div style=\"display:inline-block;\"><span>$\\forall{} x_{e} \\in {\\small \\{{x}_{e} \\:|\\: {Human}({x}_{e})\\}} \\: . \\: {Dance}({x})$</span></div></div></div></div></div><div style=\"display: table-cell;\"></div></div></div></div></div></div><div style=\"display:table-cell;\"></div></div><div style=\"display:table-row;\"><div style=\"display: table-cell;\"></div><div style=\"display:table-cell;vertical-align:middle;\"><div style=\"vertical-align:middle;height:0px;overflow:visible\"><div style=\"color:blue;transform: translateY(-1em); padding-left:0.5em;\"><b>[<span>Unit</span>]</b></div></div></div></div><div align=\"center\" style=\"display:table-row;padding-left:5px;padding-right:5px;padding-top:5px;padding-bottom:5px;\"><div align=\"center\" style=\"display:block;padding-left:5px;padding-right:5px;padding-top:5px;padding-bottom:5px;\"><div style=\"display:table;table-layout:auto;\" align=\"center\"><div style=\"display:table-row;\"><div style=\"display:table-cell;padding-right:2px; padding-left:2px;\" align=\"center\"><div style=\"display:inline-block;\"><span>$[\\![\\text{\\textbf{[[everyone danced]]}}]\\!]^{}_{\\left\\langle{}\\left\\langle{}t,t\\right\\rangle{},t\\right\\rangle{}}$</span></div></div></div><div style=\"display:table-row;\"><div style=\"display:table-cell;padding-right:2px; padding-left:2px;\" align=\"center\"><div style=\"display:inline-block;\"><span>$\\lambda{} c_{\\left\\langle{}t,t\\right\\rangle{}} \\: . \\: {c}(\\forall{} x_{e} \\in {\\small \\{{x}_{e} \\:|\\: {Human}({x}_{e})\\}} \\: . \\: {Dance}({x}))$</span></div></div></div></div></div><div style=\"display: table-cell;\"></div></div></div></div></div></div><div style=\"display:table-cell;\"></div></div><div style=\"display:table-row;\"><div style=\"display: table-cell;\"></div><div style=\"display:table-cell;vertical-align:middle;\"><div style=\"vertical-align:middle;height:0px;overflow:visible\"><div style=\"color:blue;transform: translateY(-1em); padding-left:0.5em;\"><b>[<span>LiftedFA</span>]</b></div></div></div></div><div align=\"center\" style=\"display:table-row;padding-left:5px;padding-right:5px;padding-top:5px;padding-bottom:5px;\"><div align=\"center\" style=\"display:block;padding-left:5px;padding-right:5px;padding-top:5px;padding-bottom:5px;\"><div style=\"display:table;table-layout:auto;\" align=\"center\"><div style=\"display:table-row;\"><div style=\"display:table-cell;padding-right:2px; padding-left:2px;\" align=\"center\"><div style=\"display:inline-block;\"><span>$[\\![\\text{\\textbf{[Closure [[everyone danced]]]}}]\\!]^{}_{\\left\\langle{}\\left\\langle{}t,t\\right\\rangle{},t\\right\\rangle{}}$</span></div></div></div><div style=\"display:table-row;\"><div style=\"display:table-cell;padding-right:2px; padding-left:2px;\" align=\"center\"><div style=\"display:inline-block;\"><span>$\\lambda{} c_{\\left\\langle{}t,t\\right\\rangle{}} \\: . \\: {c}(\\forall{} x_{e} \\in {\\small \\{{x}_{e} \\:|\\: {Human}({x}_{e})\\}} \\: . \\: {Dance}({x}))$</span></div></div></div></div></div><div style=\"display: table-cell;\"></div></div></div><br /><br />"
      ]
     },
     "execution_count": 63,
     "metadata": {},
     "output_type": "execute_result"
    }
   ],
   "source": [
    "(Closure * (everyone * danced)).tree()"
   ]
  },
  {
   "cell_type": "markdown",
   "id": "48936133-1791-4b65-a132-89186d022ebd",
   "metadata": {},
   "source": [
    "Quantifiers in object position:"
   ]
  },
  {
   "cell_type": "code",
   "execution_count": 67,
   "id": "96c28421-33de-4e64-84e3-ed30cd537919",
   "metadata": {},
   "outputs": [
    {
     "data": {
      "text/html": [
       "2 composition paths:<br />\n",
       "Path [0]:<br />\n",
       "<div align=\"center\" style=\"display:table;\"><div align=\"center\" style=\"display:table-row;\"><div style=\"display:table-cell;table-layout:auto;vertical-align:bottom;border-bottom:1px solid #848482;\"><div style=\"display: table;\"><div style=\"vertical-align:bottom;display:table-cell;padding-left:5px;padding-right:5px;padding-top:5px;padding-bottom:5px;\"><div align=\"center\" style=\"display:table;\"><div align=\"center\" style=\"display:table-row;\"><div style=\"display:table-cell;table-layout:auto;vertical-align:bottom;border-bottom:1px solid #848482;\"><div style=\"display: table;\"><div style=\"vertical-align:bottom;display:table-cell;padding-left:5px;padding-right:5px;padding-top:5px;padding-bottom:5px;\"><div align=\"center\" style=\"display:block;padding-left:5px;padding-right:5px;padding-top:5px;padding-bottom:5px;\"><div style=\"display:table;table-layout:auto;\" align=\"center\"><div style=\"display:table-row;\"><div style=\"display:table-cell;padding-right:2px; padding-left:2px;\" align=\"center\"><div style=\"display:inline-block;\"><span>$[\\![\\text{\\textbf{alfonso}}]\\!]^{}_{e}$</span></div></div></div><div style=\"display:table-row;\"><div style=\"display:table-cell;padding-right:2px; padding-left:2px;\" align=\"center\"><div style=\"display:inline-block;\"><span>${A}_{e}$</span></div></div></div></div></div></div></div></div><div style=\"display:table-cell;\"></div></div><div style=\"display:table-row;\"><div style=\"display: table-cell;\"></div><div style=\"display:table-cell;vertical-align:middle;\"><div style=\"vertical-align:middle;height:0px;overflow:visible\"><div style=\"color:blue;transform: translateY(-1em); padding-left:0.5em;\"><b>[<span>Unit</span>]</b></div></div></div></div><div align=\"center\" style=\"display:table-row;padding-left:5px;padding-right:5px;padding-top:5px;padding-bottom:5px;\"><div align=\"center\" style=\"display:block;padding-left:5px;padding-right:5px;padding-top:5px;padding-bottom:5px;\"><div style=\"display:table;table-layout:auto;\" align=\"center\"><div style=\"display:table-row;\"><div style=\"display:table-cell;padding-right:2px; padding-left:2px;\" align=\"center\"><div style=\"display:inline-block;\"><span>$[\\![\\text{\\textbf{[alfonso]}}]\\!]^{}_{\\left\\langle{}\\left\\langle{}e,t\\right\\rangle{},t\\right\\rangle{}}$</span></div></div></div><div style=\"display:table-row;\"><div style=\"display:table-cell;padding-right:2px; padding-left:2px;\" align=\"center\"><div style=\"display:inline-block;\"><span>$\\lambda{} c_{\\left\\langle{}e,t\\right\\rangle{}} \\: . \\: {c}({A}_{e})$</span></div></div></div></div></div><div style=\"display: table-cell;\"></div></div></div></div><div style=\"display: table-cell; padding-left:4em;\"></div><div style=\"vertical-align:bottom;display:table-cell;padding-left:5px;padding-right:5px;padding-top:5px;padding-bottom:5px;\"><div align=\"center\" style=\"display:table;\"><div align=\"center\" style=\"display:table-row;\"><div style=\"display:table-cell;table-layout:auto;vertical-align:bottom;border-bottom:1px solid #848482;\"><div style=\"display: table;\"><div style=\"vertical-align:bottom;display:table-cell;padding-left:5px;padding-right:5px;padding-top:5px;padding-bottom:5px;\"><div align=\"center\" style=\"display:table;\"><div align=\"center\" style=\"display:table-row;\"><div style=\"display:table-cell;table-layout:auto;vertical-align:bottom;border-bottom:1px solid #848482;\"><div style=\"display: table;\"><div style=\"vertical-align:bottom;display:table-cell;padding-left:5px;padding-right:5px;padding-top:5px;padding-bottom:5px;\"><div align=\"center\" style=\"display:block;padding-left:5px;padding-right:5px;padding-top:5px;padding-bottom:5px;\"><div style=\"display:table;table-layout:auto;\" align=\"center\"><div style=\"display:table-row;\"><div style=\"display:table-cell;padding-right:2px; padding-left:2px;\" align=\"center\"><div style=\"display:inline-block;\"><span>$[\\![\\text{\\textbf{saw}}]\\!]^{}_{\\left\\langle{}e,\\left\\langle{}e,t\\right\\rangle{}\\right\\rangle{}}$</span></div></div></div><div style=\"display:table-row;\"><div style=\"display:table-cell;padding-right:2px; padding-left:2px;\" align=\"center\"><div style=\"display:inline-block;\"><span>$\\lambda{} y_{e} \\: . \\: \\lambda{} x_{e} \\: . \\: {Saw}({x}, {y})$</span></div></div></div></div></div></div></div></div><div style=\"display:table-cell;\"></div></div><div style=\"display:table-row;\"><div style=\"display: table-cell;\"></div><div style=\"display:table-cell;vertical-align:middle;\"><div style=\"vertical-align:middle;height:0px;overflow:visible\"><div style=\"color:blue;transform: translateY(-1em); padding-left:0.5em;\"><b>[<span>Unit</span>]</b></div></div></div></div><div align=\"center\" style=\"display:table-row;padding-left:5px;padding-right:5px;padding-top:5px;padding-bottom:5px;\"><div align=\"center\" style=\"display:block;padding-left:5px;padding-right:5px;padding-top:5px;padding-bottom:5px;\"><div style=\"display:table;table-layout:auto;\" align=\"center\"><div style=\"display:table-row;\"><div style=\"display:table-cell;padding-right:2px; padding-left:2px;\" align=\"center\"><div style=\"display:inline-block;\"><span>$[\\![\\text{\\textbf{[saw]}}]\\!]^{}_{\\left\\langle{}\\left\\langle{}\\left\\langle{}e,\\left\\langle{}e,t\\right\\rangle{}\\right\\rangle{},t\\right\\rangle{},t\\right\\rangle{}}$</span></div></div></div><div style=\"display:table-row;\"><div style=\"display:table-cell;padding-right:2px; padding-left:2px;\" align=\"center\"><div style=\"display:inline-block;\"><span>$\\lambda{} c_{\\left\\langle{}\\left\\langle{}e,\\left\\langle{}e,t\\right\\rangle{}\\right\\rangle{},t\\right\\rangle{}} \\: . \\: {c}(\\lambda{} y_{e} \\: . \\: \\lambda{} x_{e} \\: . \\: {Saw}({x}, {y}))$</span></div></div></div></div></div><div style=\"display: table-cell;\"></div></div></div></div><div style=\"display: table-cell; padding-left:4em;\"></div><div style=\"vertical-align:bottom;display:table-cell;padding-left:5px;padding-right:5px;padding-top:5px;padding-bottom:5px;\"><div align=\"center\" style=\"display:block;padding-left:5px;padding-right:5px;padding-top:5px;padding-bottom:5px;\"><div style=\"display:table;table-layout:auto;\" align=\"center\"><div style=\"display:table-row;\"><div style=\"display:table-cell;padding-right:2px; padding-left:2px;\" align=\"center\"><div style=\"display:inline-block;\"><span>$[\\![\\text{\\textbf{everyone}}]\\!]^{}_{\\left\\langle{}\\left\\langle{}e,t\\right\\rangle{},t\\right\\rangle{}}$</span></div></div></div><div style=\"display:table-row;\"><div style=\"display:table-cell;padding-right:2px; padding-left:2px;\" align=\"center\"><div style=\"display:inline-block;\"><span>$\\lambda{} f_{\\left\\langle{}e,t\\right\\rangle{}} \\: . \\: \\forall{} x_{e} \\in {\\small \\{{x}_{e} \\:|\\: {Human}({x}_{e})\\}} \\: . \\: {f}({x})$</span></div></div></div></div></div></div></div></div><div style=\"display:table-cell;\"></div></div><div style=\"display:table-row;\"><div style=\"display: table-cell;\"></div><div style=\"display:table-cell;vertical-align:middle;\"><div style=\"vertical-align:middle;height:0px;overflow:visible\"><div style=\"color:blue;transform: translateY(-1em); padding-left:0.5em;\"><b>[<span>LiftedFA</span>]</b></div></div></div></div><div align=\"center\" style=\"display:table-row;padding-left:5px;padding-right:5px;padding-top:5px;padding-bottom:5px;\"><div align=\"center\" style=\"display:block;padding-left:5px;padding-right:5px;padding-top:5px;padding-bottom:5px;\"><div style=\"display:table;table-layout:auto;\" align=\"center\"><div style=\"display:table-row;\"><div style=\"display:table-cell;padding-right:2px; padding-left:2px;\" align=\"center\"><div style=\"display:inline-block;\"><span>$[\\![\\text{\\textbf{[[saw] everyone]}}]\\!]^{}_{\\left\\langle{}\\left\\langle{}\\left\\langle{}e,t\\right\\rangle{},t\\right\\rangle{},t\\right\\rangle{}}$</span></div></div></div><div style=\"display:table-row;\"><div style=\"display:table-cell;padding-right:2px; padding-left:2px;\" align=\"center\"><div style=\"display:inline-block;\"><span>$\\lambda{} c_{\\left\\langle{}\\left\\langle{}e,t\\right\\rangle{},t\\right\\rangle{}} \\: . \\: \\forall{} x_{e} \\in {\\small \\{{x}_{e} \\:|\\: {Human}({x}_{e})\\}} \\: . \\: {c}(\\lambda{} x1_{e} \\: . \\: {Saw}({x1}, {x}))$</span></div></div></div></div></div><div style=\"display: table-cell;\"></div></div></div></div></div></div><div style=\"display:table-cell;\"></div></div><div style=\"display:table-row;\"><div style=\"display: table-cell;\"></div><div style=\"display:table-cell;vertical-align:middle;\"><div style=\"vertical-align:middle;height:0px;overflow:visible\"><div style=\"color:blue;transform: translateY(-1em); padding-left:0.5em;\"><b>[<span>FA</span>]</b></div></div></div></div><div align=\"center\" style=\"display:table-row;padding-left:5px;padding-right:5px;padding-top:5px;padding-bottom:5px;\"><div align=\"center\" style=\"display:block;padding-left:5px;padding-right:5px;padding-top:5px;padding-bottom:5px;\"><div style=\"display:table;table-layout:auto;\" align=\"center\"><div style=\"display:table-row;\"><div style=\"display:table-cell;padding-right:2px; padding-left:2px;\" align=\"center\"><div style=\"display:inline-block;\"><span>$[\\![\\text{\\textbf{[[alfonso] [[saw] everyone]]}}]\\!]^{}_{t}$</span></div></div></div><div style=\"display:table-row;\"><div style=\"display:table-cell;padding-right:2px; padding-left:2px;\" align=\"center\"><div style=\"display:inline-block;\"><span>$\\forall{} x_{e} \\in {\\small \\{{x}_{e} \\:|\\: {Human}({x}_{e})\\}} \\: . \\: {Saw}({A}_{e}, {x})$</span></div></div></div></div></div><div style=\"display: table-cell;\"></div></div></div><br /><br />Path [1]:<br />\n",
       "<div align=\"center\" style=\"display:table;\"><div align=\"center\" style=\"display:table-row;\"><div style=\"display:table-cell;table-layout:auto;vertical-align:bottom;border-bottom:1px solid #848482;\"><div style=\"display: table;\"><div style=\"vertical-align:bottom;display:table-cell;padding-left:5px;padding-right:5px;padding-top:5px;padding-bottom:5px;\"><div align=\"center\" style=\"display:table;\"><div align=\"center\" style=\"display:table-row;\"><div style=\"display:table-cell;table-layout:auto;vertical-align:bottom;border-bottom:1px solid #848482;\"><div style=\"display: table;\"><div style=\"vertical-align:bottom;display:table-cell;padding-left:5px;padding-right:5px;padding-top:5px;padding-bottom:5px;\"><div align=\"center\" style=\"display:block;padding-left:5px;padding-right:5px;padding-top:5px;padding-bottom:5px;\"><div style=\"display:table;table-layout:auto;\" align=\"center\"><div style=\"display:table-row;\"><div style=\"display:table-cell;padding-right:2px; padding-left:2px;\" align=\"center\"><div style=\"display:inline-block;\"><span>$[\\![\\text{\\textbf{alfonso}}]\\!]^{}_{e}$</span></div></div></div><div style=\"display:table-row;\"><div style=\"display:table-cell;padding-right:2px; padding-left:2px;\" align=\"center\"><div style=\"display:inline-block;\"><span>${A}_{e}$</span></div></div></div></div></div></div></div></div><div style=\"display:table-cell;\"></div></div><div style=\"display:table-row;\"><div style=\"display: table-cell;\"></div><div style=\"display:table-cell;vertical-align:middle;\"><div style=\"vertical-align:middle;height:0px;overflow:visible\"><div style=\"color:blue;transform: translateY(-1em); padding-left:0.5em;\"><b>[<span>Unit</span>]</b></div></div></div></div><div align=\"center\" style=\"display:table-row;padding-left:5px;padding-right:5px;padding-top:5px;padding-bottom:5px;\"><div align=\"center\" style=\"display:block;padding-left:5px;padding-right:5px;padding-top:5px;padding-bottom:5px;\"><div style=\"display:table;table-layout:auto;\" align=\"center\"><div style=\"display:table-row;\"><div style=\"display:table-cell;padding-right:2px; padding-left:2px;\" align=\"center\"><div style=\"display:inline-block;\"><span>$[\\![\\text{\\textbf{[alfonso]}}]\\!]^{}_{\\left\\langle{}\\left\\langle{}e,t\\right\\rangle{},t\\right\\rangle{}}$</span></div></div></div><div style=\"display:table-row;\"><div style=\"display:table-cell;padding-right:2px; padding-left:2px;\" align=\"center\"><div style=\"display:inline-block;\"><span>$\\lambda{} c_{\\left\\langle{}e,t\\right\\rangle{}} \\: . \\: {c}({A}_{e})$</span></div></div></div></div></div><div style=\"display: table-cell;\"></div></div></div></div><div style=\"display: table-cell; padding-left:4em;\"></div><div style=\"vertical-align:bottom;display:table-cell;padding-left:5px;padding-right:5px;padding-top:5px;padding-bottom:5px;\"><div align=\"center\" style=\"display:table;\"><div align=\"center\" style=\"display:table-row;\"><div style=\"display:table-cell;table-layout:auto;vertical-align:bottom;border-bottom:1px solid #848482;\"><div style=\"display: table;\"><div style=\"vertical-align:bottom;display:table-cell;padding-left:5px;padding-right:5px;padding-top:5px;padding-bottom:5px;\"><div align=\"center\" style=\"display:table;\"><div align=\"center\" style=\"display:table-row;\"><div style=\"display:table-cell;table-layout:auto;vertical-align:bottom;border-bottom:1px solid #848482;\"><div style=\"display: table;\"><div style=\"vertical-align:bottom;display:table-cell;padding-left:5px;padding-right:5px;padding-top:5px;padding-bottom:5px;\"><div align=\"center\" style=\"display:block;padding-left:5px;padding-right:5px;padding-top:5px;padding-bottom:5px;\"><div style=\"display:table;table-layout:auto;\" align=\"center\"><div style=\"display:table-row;\"><div style=\"display:table-cell;padding-right:2px; padding-left:2px;\" align=\"center\"><div style=\"display:inline-block;\"><span>$[\\![\\text{\\textbf{saw}}]\\!]^{}_{\\left\\langle{}e,\\left\\langle{}e,t\\right\\rangle{}\\right\\rangle{}}$</span></div></div></div><div style=\"display:table-row;\"><div style=\"display:table-cell;padding-right:2px; padding-left:2px;\" align=\"center\"><div style=\"display:inline-block;\"><span>$\\lambda{} y_{e} \\: . \\: \\lambda{} x_{e} \\: . \\: {Saw}({x}, {y})$</span></div></div></div></div></div></div></div></div><div style=\"display:table-cell;\"></div></div><div style=\"display:table-row;\"><div style=\"display: table-cell;\"></div><div style=\"display:table-cell;vertical-align:middle;\"><div style=\"vertical-align:middle;height:0px;overflow:visible\"><div style=\"color:blue;transform: translateY(-1em); padding-left:0.5em;\"><b>[<span>Unit</span>]</b></div></div></div></div><div align=\"center\" style=\"display:table-row;padding-left:5px;padding-right:5px;padding-top:5px;padding-bottom:5px;\"><div align=\"center\" style=\"display:block;padding-left:5px;padding-right:5px;padding-top:5px;padding-bottom:5px;\"><div style=\"display:table;table-layout:auto;\" align=\"center\"><div style=\"display:table-row;\"><div style=\"display:table-cell;padding-right:2px; padding-left:2px;\" align=\"center\"><div style=\"display:inline-block;\"><span>$[\\![\\text{\\textbf{[saw]}}]\\!]^{}_{\\left\\langle{}\\left\\langle{}\\left\\langle{}e,\\left\\langle{}e,t\\right\\rangle{}\\right\\rangle{},t\\right\\rangle{},t\\right\\rangle{}}$</span></div></div></div><div style=\"display:table-row;\"><div style=\"display:table-cell;padding-right:2px; padding-left:2px;\" align=\"center\"><div style=\"display:inline-block;\"><span>$\\lambda{} c_{\\left\\langle{}\\left\\langle{}e,\\left\\langle{}e,t\\right\\rangle{}\\right\\rangle{},t\\right\\rangle{}} \\: . \\: {c}(\\lambda{} y_{e} \\: . \\: \\lambda{} x_{e} \\: . \\: {Saw}({x}, {y}))$</span></div></div></div></div></div><div style=\"display: table-cell;\"></div></div></div></div><div style=\"display: table-cell; padding-left:4em;\"></div><div style=\"vertical-align:bottom;display:table-cell;padding-left:5px;padding-right:5px;padding-top:5px;padding-bottom:5px;\"><div align=\"center\" style=\"display:block;padding-left:5px;padding-right:5px;padding-top:5px;padding-bottom:5px;\"><div style=\"display:table;table-layout:auto;\" align=\"center\"><div style=\"display:table-row;\"><div style=\"display:table-cell;padding-right:2px; padding-left:2px;\" align=\"center\"><div style=\"display:inline-block;\"><span>$[\\![\\text{\\textbf{everyone}}]\\!]^{}_{\\left\\langle{}\\left\\langle{}e,t\\right\\rangle{},t\\right\\rangle{}}$</span></div></div></div><div style=\"display:table-row;\"><div style=\"display:table-cell;padding-right:2px; padding-left:2px;\" align=\"center\"><div style=\"display:inline-block;\"><span>$\\lambda{} f_{\\left\\langle{}e,t\\right\\rangle{}} \\: . \\: \\forall{} x_{e} \\in {\\small \\{{x}_{e} \\:|\\: {Human}({x}_{e})\\}} \\: . \\: {f}({x})$</span></div></div></div></div></div></div></div></div><div style=\"display:table-cell;\"></div></div><div style=\"display:table-row;\"><div style=\"display: table-cell;\"></div><div style=\"display:table-cell;vertical-align:middle;\"><div style=\"vertical-align:middle;height:0px;overflow:visible\"><div style=\"color:blue;transform: translateY(-1em); padding-left:0.5em;\"><b>[<span>LiftedFA</span>]</b></div></div></div></div><div align=\"center\" style=\"display:table-row;padding-left:5px;padding-right:5px;padding-top:5px;padding-bottom:5px;\"><div align=\"center\" style=\"display:block;padding-left:5px;padding-right:5px;padding-top:5px;padding-bottom:5px;\"><div style=\"display:table;table-layout:auto;\" align=\"center\"><div style=\"display:table-row;\"><div style=\"display:table-cell;padding-right:2px; padding-left:2px;\" align=\"center\"><div style=\"display:inline-block;\"><span>$[\\![\\text{\\textbf{[[saw] everyone]}}]\\!]^{}_{\\left\\langle{}\\left\\langle{}\\left\\langle{}e,t\\right\\rangle{},t\\right\\rangle{},t\\right\\rangle{}}$</span></div></div></div><div style=\"display:table-row;\"><div style=\"display:table-cell;padding-right:2px; padding-left:2px;\" align=\"center\"><div style=\"display:inline-block;\"><span>$\\lambda{} c_{\\left\\langle{}\\left\\langle{}e,t\\right\\rangle{},t\\right\\rangle{}} \\: . \\: \\forall{} x_{e} \\in {\\small \\{{x}_{e} \\:|\\: {Human}({x}_{e})\\}} \\: . \\: {c}(\\lambda{} x1_{e} \\: . \\: {Saw}({x1}, {x}))$</span></div></div></div></div></div><div style=\"display: table-cell;\"></div></div></div></div></div></div><div style=\"display:table-cell;\"></div></div><div style=\"display:table-row;\"><div style=\"display: table-cell;\"></div><div style=\"display:table-cell;vertical-align:middle;\"><div style=\"vertical-align:middle;height:0px;overflow:visible\"><div style=\"color:blue;transform: translateY(-1em); padding-left:0.5em;\"><b>[<span>LiftedFA</span>]</b></div></div></div></div><div align=\"center\" style=\"display:table-row;padding-left:5px;padding-right:5px;padding-top:5px;padding-bottom:5px;\"><div align=\"center\" style=\"display:block;padding-left:5px;padding-right:5px;padding-top:5px;padding-bottom:5px;\"><div style=\"display:table;table-layout:auto;\" align=\"center\"><div style=\"display:table-row;\"><div style=\"display:table-cell;padding-right:2px; padding-left:2px;\" align=\"center\"><div style=\"display:inline-block;\"><span>$[\\![\\text{\\textbf{[[alfonso] [[saw] everyone]]}}]\\!]^{}_{\\left\\langle{}\\left\\langle{}t,t\\right\\rangle{},t\\right\\rangle{}}$</span></div></div></div><div style=\"display:table-row;\"><div style=\"display:table-cell;padding-right:2px; padding-left:2px;\" align=\"center\"><div style=\"display:inline-block;\"><span>$\\lambda{} c_{\\left\\langle{}t,t\\right\\rangle{}} \\: . \\: \\forall{} x2_{e} \\in {\\small \\{{x2}_{e} \\:|\\: {Human}({x2}_{e})\\}} \\: . \\: {c}({Saw}({A}_{e}, {x2}))$</span></div></div></div></div></div><div style=\"display: table-cell;\"></div></div></div><br /><br />"
      ],
      "text/plain": [
       "2 composition paths:<br />\n",
       "Path [0]:<br />\n",
       "<div align=\"center\" style=\"display:table;\"><div align=\"center\" style=\"display:table-row;\"><div style=\"display:table-cell;table-layout:auto;vertical-align:bottom;border-bottom:1px solid #848482;\"><div style=\"display: table;\"><div style=\"vertical-align:bottom;display:table-cell;padding-left:5px;padding-right:5px;padding-top:5px;padding-bottom:5px;\"><div align=\"center\" style=\"display:table;\"><div align=\"center\" style=\"display:table-row;\"><div style=\"display:table-cell;table-layout:auto;vertical-align:bottom;border-bottom:1px solid #848482;\"><div style=\"display: table;\"><div style=\"vertical-align:bottom;display:table-cell;padding-left:5px;padding-right:5px;padding-top:5px;padding-bottom:5px;\"><div align=\"center\" style=\"display:block;padding-left:5px;padding-right:5px;padding-top:5px;padding-bottom:5px;\"><div style=\"display:table;table-layout:auto;\" align=\"center\"><div style=\"display:table-row;\"><div style=\"display:table-cell;padding-right:2px; padding-left:2px;\" align=\"center\"><div style=\"display:inline-block;\"><span>$[\\![\\text{\\textbf{alfonso}}]\\!]^{}_{e}$</span></div></div></div><div style=\"display:table-row;\"><div style=\"display:table-cell;padding-right:2px; padding-left:2px;\" align=\"center\"><div style=\"display:inline-block;\"><span>${A}_{e}$</span></div></div></div></div></div></div></div></div><div style=\"display:table-cell;\"></div></div><div style=\"display:table-row;\"><div style=\"display: table-cell;\"></div><div style=\"display:table-cell;vertical-align:middle;\"><div style=\"vertical-align:middle;height:0px;overflow:visible\"><div style=\"color:blue;transform: translateY(-1em); padding-left:0.5em;\"><b>[<span>Unit</span>]</b></div></div></div></div><div align=\"center\" style=\"display:table-row;padding-left:5px;padding-right:5px;padding-top:5px;padding-bottom:5px;\"><div align=\"center\" style=\"display:block;padding-left:5px;padding-right:5px;padding-top:5px;padding-bottom:5px;\"><div style=\"display:table;table-layout:auto;\" align=\"center\"><div style=\"display:table-row;\"><div style=\"display:table-cell;padding-right:2px; padding-left:2px;\" align=\"center\"><div style=\"display:inline-block;\"><span>$[\\![\\text{\\textbf{[alfonso]}}]\\!]^{}_{\\left\\langle{}\\left\\langle{}e,t\\right\\rangle{},t\\right\\rangle{}}$</span></div></div></div><div style=\"display:table-row;\"><div style=\"display:table-cell;padding-right:2px; padding-left:2px;\" align=\"center\"><div style=\"display:inline-block;\"><span>$\\lambda{} c_{\\left\\langle{}e,t\\right\\rangle{}} \\: . \\: {c}({A}_{e})$</span></div></div></div></div></div><div style=\"display: table-cell;\"></div></div></div></div><div style=\"display: table-cell; padding-left:4em;\"></div><div style=\"vertical-align:bottom;display:table-cell;padding-left:5px;padding-right:5px;padding-top:5px;padding-bottom:5px;\"><div align=\"center\" style=\"display:table;\"><div align=\"center\" style=\"display:table-row;\"><div style=\"display:table-cell;table-layout:auto;vertical-align:bottom;border-bottom:1px solid #848482;\"><div style=\"display: table;\"><div style=\"vertical-align:bottom;display:table-cell;padding-left:5px;padding-right:5px;padding-top:5px;padding-bottom:5px;\"><div align=\"center\" style=\"display:table;\"><div align=\"center\" style=\"display:table-row;\"><div style=\"display:table-cell;table-layout:auto;vertical-align:bottom;border-bottom:1px solid #848482;\"><div style=\"display: table;\"><div style=\"vertical-align:bottom;display:table-cell;padding-left:5px;padding-right:5px;padding-top:5px;padding-bottom:5px;\"><div align=\"center\" style=\"display:block;padding-left:5px;padding-right:5px;padding-top:5px;padding-bottom:5px;\"><div style=\"display:table;table-layout:auto;\" align=\"center\"><div style=\"display:table-row;\"><div style=\"display:table-cell;padding-right:2px; padding-left:2px;\" align=\"center\"><div style=\"display:inline-block;\"><span>$[\\![\\text{\\textbf{saw}}]\\!]^{}_{\\left\\langle{}e,\\left\\langle{}e,t\\right\\rangle{}\\right\\rangle{}}$</span></div></div></div><div style=\"display:table-row;\"><div style=\"display:table-cell;padding-right:2px; padding-left:2px;\" align=\"center\"><div style=\"display:inline-block;\"><span>$\\lambda{} y_{e} \\: . \\: \\lambda{} x_{e} \\: . \\: {Saw}({x}, {y})$</span></div></div></div></div></div></div></div></div><div style=\"display:table-cell;\"></div></div><div style=\"display:table-row;\"><div style=\"display: table-cell;\"></div><div style=\"display:table-cell;vertical-align:middle;\"><div style=\"vertical-align:middle;height:0px;overflow:visible\"><div style=\"color:blue;transform: translateY(-1em); padding-left:0.5em;\"><b>[<span>Unit</span>]</b></div></div></div></div><div align=\"center\" style=\"display:table-row;padding-left:5px;padding-right:5px;padding-top:5px;padding-bottom:5px;\"><div align=\"center\" style=\"display:block;padding-left:5px;padding-right:5px;padding-top:5px;padding-bottom:5px;\"><div style=\"display:table;table-layout:auto;\" align=\"center\"><div style=\"display:table-row;\"><div style=\"display:table-cell;padding-right:2px; padding-left:2px;\" align=\"center\"><div style=\"display:inline-block;\"><span>$[\\![\\text{\\textbf{[saw]}}]\\!]^{}_{\\left\\langle{}\\left\\langle{}\\left\\langle{}e,\\left\\langle{}e,t\\right\\rangle{}\\right\\rangle{},t\\right\\rangle{},t\\right\\rangle{}}$</span></div></div></div><div style=\"display:table-row;\"><div style=\"display:table-cell;padding-right:2px; padding-left:2px;\" align=\"center\"><div style=\"display:inline-block;\"><span>$\\lambda{} c_{\\left\\langle{}\\left\\langle{}e,\\left\\langle{}e,t\\right\\rangle{}\\right\\rangle{},t\\right\\rangle{}} \\: . \\: {c}(\\lambda{} y_{e} \\: . \\: \\lambda{} x_{e} \\: . \\: {Saw}({x}, {y}))$</span></div></div></div></div></div><div style=\"display: table-cell;\"></div></div></div></div><div style=\"display: table-cell; padding-left:4em;\"></div><div style=\"vertical-align:bottom;display:table-cell;padding-left:5px;padding-right:5px;padding-top:5px;padding-bottom:5px;\"><div align=\"center\" style=\"display:block;padding-left:5px;padding-right:5px;padding-top:5px;padding-bottom:5px;\"><div style=\"display:table;table-layout:auto;\" align=\"center\"><div style=\"display:table-row;\"><div style=\"display:table-cell;padding-right:2px; padding-left:2px;\" align=\"center\"><div style=\"display:inline-block;\"><span>$[\\![\\text{\\textbf{everyone}}]\\!]^{}_{\\left\\langle{}\\left\\langle{}e,t\\right\\rangle{},t\\right\\rangle{}}$</span></div></div></div><div style=\"display:table-row;\"><div style=\"display:table-cell;padding-right:2px; padding-left:2px;\" align=\"center\"><div style=\"display:inline-block;\"><span>$\\lambda{} f_{\\left\\langle{}e,t\\right\\rangle{}} \\: . \\: \\forall{} x_{e} \\in {\\small \\{{x}_{e} \\:|\\: {Human}({x}_{e})\\}} \\: . \\: {f}({x})$</span></div></div></div></div></div></div></div></div><div style=\"display:table-cell;\"></div></div><div style=\"display:table-row;\"><div style=\"display: table-cell;\"></div><div style=\"display:table-cell;vertical-align:middle;\"><div style=\"vertical-align:middle;height:0px;overflow:visible\"><div style=\"color:blue;transform: translateY(-1em); padding-left:0.5em;\"><b>[<span>LiftedFA</span>]</b></div></div></div></div><div align=\"center\" style=\"display:table-row;padding-left:5px;padding-right:5px;padding-top:5px;padding-bottom:5px;\"><div align=\"center\" style=\"display:block;padding-left:5px;padding-right:5px;padding-top:5px;padding-bottom:5px;\"><div style=\"display:table;table-layout:auto;\" align=\"center\"><div style=\"display:table-row;\"><div style=\"display:table-cell;padding-right:2px; padding-left:2px;\" align=\"center\"><div style=\"display:inline-block;\"><span>$[\\![\\text{\\textbf{[[saw] everyone]}}]\\!]^{}_{\\left\\langle{}\\left\\langle{}\\left\\langle{}e,t\\right\\rangle{},t\\right\\rangle{},t\\right\\rangle{}}$</span></div></div></div><div style=\"display:table-row;\"><div style=\"display:table-cell;padding-right:2px; padding-left:2px;\" align=\"center\"><div style=\"display:inline-block;\"><span>$\\lambda{} c_{\\left\\langle{}\\left\\langle{}e,t\\right\\rangle{},t\\right\\rangle{}} \\: . \\: \\forall{} x_{e} \\in {\\small \\{{x}_{e} \\:|\\: {Human}({x}_{e})\\}} \\: . \\: {c}(\\lambda{} x1_{e} \\: . \\: {Saw}({x1}, {x}))$</span></div></div></div></div></div><div style=\"display: table-cell;\"></div></div></div></div></div></div><div style=\"display:table-cell;\"></div></div><div style=\"display:table-row;\"><div style=\"display: table-cell;\"></div><div style=\"display:table-cell;vertical-align:middle;\"><div style=\"vertical-align:middle;height:0px;overflow:visible\"><div style=\"color:blue;transform: translateY(-1em); padding-left:0.5em;\"><b>[<span>FA</span>]</b></div></div></div></div><div align=\"center\" style=\"display:table-row;padding-left:5px;padding-right:5px;padding-top:5px;padding-bottom:5px;\"><div align=\"center\" style=\"display:block;padding-left:5px;padding-right:5px;padding-top:5px;padding-bottom:5px;\"><div style=\"display:table;table-layout:auto;\" align=\"center\"><div style=\"display:table-row;\"><div style=\"display:table-cell;padding-right:2px; padding-left:2px;\" align=\"center\"><div style=\"display:inline-block;\"><span>$[\\![\\text{\\textbf{[[alfonso] [[saw] everyone]]}}]\\!]^{}_{t}$</span></div></div></div><div style=\"display:table-row;\"><div style=\"display:table-cell;padding-right:2px; padding-left:2px;\" align=\"center\"><div style=\"display:inline-block;\"><span>$\\forall{} x_{e} \\in {\\small \\{{x}_{e} \\:|\\: {Human}({x}_{e})\\}} \\: . \\: {Saw}({A}_{e}, {x})$</span></div></div></div></div></div><div style=\"display: table-cell;\"></div></div></div><br /><br />Path [1]:<br />\n",
       "<div align=\"center\" style=\"display:table;\"><div align=\"center\" style=\"display:table-row;\"><div style=\"display:table-cell;table-layout:auto;vertical-align:bottom;border-bottom:1px solid #848482;\"><div style=\"display: table;\"><div style=\"vertical-align:bottom;display:table-cell;padding-left:5px;padding-right:5px;padding-top:5px;padding-bottom:5px;\"><div align=\"center\" style=\"display:table;\"><div align=\"center\" style=\"display:table-row;\"><div style=\"display:table-cell;table-layout:auto;vertical-align:bottom;border-bottom:1px solid #848482;\"><div style=\"display: table;\"><div style=\"vertical-align:bottom;display:table-cell;padding-left:5px;padding-right:5px;padding-top:5px;padding-bottom:5px;\"><div align=\"center\" style=\"display:block;padding-left:5px;padding-right:5px;padding-top:5px;padding-bottom:5px;\"><div style=\"display:table;table-layout:auto;\" align=\"center\"><div style=\"display:table-row;\"><div style=\"display:table-cell;padding-right:2px; padding-left:2px;\" align=\"center\"><div style=\"display:inline-block;\"><span>$[\\![\\text{\\textbf{alfonso}}]\\!]^{}_{e}$</span></div></div></div><div style=\"display:table-row;\"><div style=\"display:table-cell;padding-right:2px; padding-left:2px;\" align=\"center\"><div style=\"display:inline-block;\"><span>${A}_{e}$</span></div></div></div></div></div></div></div></div><div style=\"display:table-cell;\"></div></div><div style=\"display:table-row;\"><div style=\"display: table-cell;\"></div><div style=\"display:table-cell;vertical-align:middle;\"><div style=\"vertical-align:middle;height:0px;overflow:visible\"><div style=\"color:blue;transform: translateY(-1em); padding-left:0.5em;\"><b>[<span>Unit</span>]</b></div></div></div></div><div align=\"center\" style=\"display:table-row;padding-left:5px;padding-right:5px;padding-top:5px;padding-bottom:5px;\"><div align=\"center\" style=\"display:block;padding-left:5px;padding-right:5px;padding-top:5px;padding-bottom:5px;\"><div style=\"display:table;table-layout:auto;\" align=\"center\"><div style=\"display:table-row;\"><div style=\"display:table-cell;padding-right:2px; padding-left:2px;\" align=\"center\"><div style=\"display:inline-block;\"><span>$[\\![\\text{\\textbf{[alfonso]}}]\\!]^{}_{\\left\\langle{}\\left\\langle{}e,t\\right\\rangle{},t\\right\\rangle{}}$</span></div></div></div><div style=\"display:table-row;\"><div style=\"display:table-cell;padding-right:2px; padding-left:2px;\" align=\"center\"><div style=\"display:inline-block;\"><span>$\\lambda{} c_{\\left\\langle{}e,t\\right\\rangle{}} \\: . \\: {c}({A}_{e})$</span></div></div></div></div></div><div style=\"display: table-cell;\"></div></div></div></div><div style=\"display: table-cell; padding-left:4em;\"></div><div style=\"vertical-align:bottom;display:table-cell;padding-left:5px;padding-right:5px;padding-top:5px;padding-bottom:5px;\"><div align=\"center\" style=\"display:table;\"><div align=\"center\" style=\"display:table-row;\"><div style=\"display:table-cell;table-layout:auto;vertical-align:bottom;border-bottom:1px solid #848482;\"><div style=\"display: table;\"><div style=\"vertical-align:bottom;display:table-cell;padding-left:5px;padding-right:5px;padding-top:5px;padding-bottom:5px;\"><div align=\"center\" style=\"display:table;\"><div align=\"center\" style=\"display:table-row;\"><div style=\"display:table-cell;table-layout:auto;vertical-align:bottom;border-bottom:1px solid #848482;\"><div style=\"display: table;\"><div style=\"vertical-align:bottom;display:table-cell;padding-left:5px;padding-right:5px;padding-top:5px;padding-bottom:5px;\"><div align=\"center\" style=\"display:block;padding-left:5px;padding-right:5px;padding-top:5px;padding-bottom:5px;\"><div style=\"display:table;table-layout:auto;\" align=\"center\"><div style=\"display:table-row;\"><div style=\"display:table-cell;padding-right:2px; padding-left:2px;\" align=\"center\"><div style=\"display:inline-block;\"><span>$[\\![\\text{\\textbf{saw}}]\\!]^{}_{\\left\\langle{}e,\\left\\langle{}e,t\\right\\rangle{}\\right\\rangle{}}$</span></div></div></div><div style=\"display:table-row;\"><div style=\"display:table-cell;padding-right:2px; padding-left:2px;\" align=\"center\"><div style=\"display:inline-block;\"><span>$\\lambda{} y_{e} \\: . \\: \\lambda{} x_{e} \\: . \\: {Saw}({x}, {y})$</span></div></div></div></div></div></div></div></div><div style=\"display:table-cell;\"></div></div><div style=\"display:table-row;\"><div style=\"display: table-cell;\"></div><div style=\"display:table-cell;vertical-align:middle;\"><div style=\"vertical-align:middle;height:0px;overflow:visible\"><div style=\"color:blue;transform: translateY(-1em); padding-left:0.5em;\"><b>[<span>Unit</span>]</b></div></div></div></div><div align=\"center\" style=\"display:table-row;padding-left:5px;padding-right:5px;padding-top:5px;padding-bottom:5px;\"><div align=\"center\" style=\"display:block;padding-left:5px;padding-right:5px;padding-top:5px;padding-bottom:5px;\"><div style=\"display:table;table-layout:auto;\" align=\"center\"><div style=\"display:table-row;\"><div style=\"display:table-cell;padding-right:2px; padding-left:2px;\" align=\"center\"><div style=\"display:inline-block;\"><span>$[\\![\\text{\\textbf{[saw]}}]\\!]^{}_{\\left\\langle{}\\left\\langle{}\\left\\langle{}e,\\left\\langle{}e,t\\right\\rangle{}\\right\\rangle{},t\\right\\rangle{},t\\right\\rangle{}}$</span></div></div></div><div style=\"display:table-row;\"><div style=\"display:table-cell;padding-right:2px; padding-left:2px;\" align=\"center\"><div style=\"display:inline-block;\"><span>$\\lambda{} c_{\\left\\langle{}\\left\\langle{}e,\\left\\langle{}e,t\\right\\rangle{}\\right\\rangle{},t\\right\\rangle{}} \\: . \\: {c}(\\lambda{} y_{e} \\: . \\: \\lambda{} x_{e} \\: . \\: {Saw}({x}, {y}))$</span></div></div></div></div></div><div style=\"display: table-cell;\"></div></div></div></div><div style=\"display: table-cell; padding-left:4em;\"></div><div style=\"vertical-align:bottom;display:table-cell;padding-left:5px;padding-right:5px;padding-top:5px;padding-bottom:5px;\"><div align=\"center\" style=\"display:block;padding-left:5px;padding-right:5px;padding-top:5px;padding-bottom:5px;\"><div style=\"display:table;table-layout:auto;\" align=\"center\"><div style=\"display:table-row;\"><div style=\"display:table-cell;padding-right:2px; padding-left:2px;\" align=\"center\"><div style=\"display:inline-block;\"><span>$[\\![\\text{\\textbf{everyone}}]\\!]^{}_{\\left\\langle{}\\left\\langle{}e,t\\right\\rangle{},t\\right\\rangle{}}$</span></div></div></div><div style=\"display:table-row;\"><div style=\"display:table-cell;padding-right:2px; padding-left:2px;\" align=\"center\"><div style=\"display:inline-block;\"><span>$\\lambda{} f_{\\left\\langle{}e,t\\right\\rangle{}} \\: . \\: \\forall{} x_{e} \\in {\\small \\{{x}_{e} \\:|\\: {Human}({x}_{e})\\}} \\: . \\: {f}({x})$</span></div></div></div></div></div></div></div></div><div style=\"display:table-cell;\"></div></div><div style=\"display:table-row;\"><div style=\"display: table-cell;\"></div><div style=\"display:table-cell;vertical-align:middle;\"><div style=\"vertical-align:middle;height:0px;overflow:visible\"><div style=\"color:blue;transform: translateY(-1em); padding-left:0.5em;\"><b>[<span>LiftedFA</span>]</b></div></div></div></div><div align=\"center\" style=\"display:table-row;padding-left:5px;padding-right:5px;padding-top:5px;padding-bottom:5px;\"><div align=\"center\" style=\"display:block;padding-left:5px;padding-right:5px;padding-top:5px;padding-bottom:5px;\"><div style=\"display:table;table-layout:auto;\" align=\"center\"><div style=\"display:table-row;\"><div style=\"display:table-cell;padding-right:2px; padding-left:2px;\" align=\"center\"><div style=\"display:inline-block;\"><span>$[\\![\\text{\\textbf{[[saw] everyone]}}]\\!]^{}_{\\left\\langle{}\\left\\langle{}\\left\\langle{}e,t\\right\\rangle{},t\\right\\rangle{},t\\right\\rangle{}}$</span></div></div></div><div style=\"display:table-row;\"><div style=\"display:table-cell;padding-right:2px; padding-left:2px;\" align=\"center\"><div style=\"display:inline-block;\"><span>$\\lambda{} c_{\\left\\langle{}\\left\\langle{}e,t\\right\\rangle{},t\\right\\rangle{}} \\: . \\: \\forall{} x_{e} \\in {\\small \\{{x}_{e} \\:|\\: {Human}({x}_{e})\\}} \\: . \\: {c}(\\lambda{} x1_{e} \\: . \\: {Saw}({x1}, {x}))$</span></div></div></div></div></div><div style=\"display: table-cell;\"></div></div></div></div></div></div><div style=\"display:table-cell;\"></div></div><div style=\"display:table-row;\"><div style=\"display: table-cell;\"></div><div style=\"display:table-cell;vertical-align:middle;\"><div style=\"vertical-align:middle;height:0px;overflow:visible\"><div style=\"color:blue;transform: translateY(-1em); padding-left:0.5em;\"><b>[<span>LiftedFA</span>]</b></div></div></div></div><div align=\"center\" style=\"display:table-row;padding-left:5px;padding-right:5px;padding-top:5px;padding-bottom:5px;\"><div align=\"center\" style=\"display:block;padding-left:5px;padding-right:5px;padding-top:5px;padding-bottom:5px;\"><div style=\"display:table;table-layout:auto;\" align=\"center\"><div style=\"display:table-row;\"><div style=\"display:table-cell;padding-right:2px; padding-left:2px;\" align=\"center\"><div style=\"display:inline-block;\"><span>$[\\![\\text{\\textbf{[[alfonso] [[saw] everyone]]}}]\\!]^{}_{\\left\\langle{}\\left\\langle{}t,t\\right\\rangle{},t\\right\\rangle{}}$</span></div></div></div><div style=\"display:table-row;\"><div style=\"display:table-cell;padding-right:2px; padding-left:2px;\" align=\"center\"><div style=\"display:inline-block;\"><span>$\\lambda{} c_{\\left\\langle{}t,t\\right\\rangle{}} \\: . \\: \\forall{} x2_{e} \\in {\\small \\{{x2}_{e} \\:|\\: {Human}({x2}_{e})\\}} \\: . \\: {c}({Saw}({A}_{e}, {x2}))$</span></div></div></div></div></div><div style=\"display: table-cell;\"></div></div></div><br /><br />"
      ]
     },
     "execution_count": 67,
     "metadata": {},
     "output_type": "execute_result"
    }
   ],
   "source": [
    "(alfonso * (saw * everyone)).tree()"
   ]
  },
  {
   "cell_type": "code",
   "execution_count": 68,
   "id": "54fde1b9-e0ee-49f0-8d0f-54276ba2b910",
   "metadata": {},
   "outputs": [
    {
     "data": {
      "text/markdown": [
       "2 composition paths. Results:<br />\n",
       "&nbsp;&nbsp;&nbsp;&nbsp;[0]: $[\\![\\text{\\textbf{[someone [[saw] everyone]]}}]\\!]^{}_{t} \\:=\\: \\forall{} x_{e} \\in {\\small \\{{x}_{e} \\:|\\: {Human}({x}_{e})\\}} \\: . \\: \\exists{} x1_{e} \\in {\\small \\{{x1}_{e} \\:|\\: {Human}({x1}_{e})\\}} \\: . \\: {Saw}({x1}, {x})$<br />\n",
       "&nbsp;&nbsp;&nbsp;&nbsp;[1]: $[\\![\\text{\\textbf{[someone [[saw] everyone]]}}]\\!]^{}_{\\left\\langle{}\\left\\langle{}t,t\\right\\rangle{},t\\right\\rangle{}} \\:=\\: \\lambda{} c_{\\left\\langle{}t,t\\right\\rangle{}} \\: . \\: \\forall{} x2_{e} \\in {\\small \\{{x2}_{e} \\:|\\: {Human}({x2}_{e})\\}} \\: . \\: \\exists{} x_{e} \\in {\\small \\{{x}_{e} \\:|\\: {Human}({x}_{e})\\}} \\: . \\: {c}({Saw}({x}, {x2}))$"
      ],
      "text/plain": [
       "2 composition paths. Results:\n",
       "    [0]: ⟦someone⟧ * ⟦[[saw] everyone]⟧ leads to: ⟦[someone [[saw] everyone]]⟧ = (Forall x_e << (Set x_e: Human_<e,t>(x_e)): (Exists x1_e << (Set x1_e: Human_<e,t>(x1_e)): Saw_<(e,e),t>(x1_e, x_e))) [by FA]\n",
       "    [1]: ⟦someone⟧ * ⟦[[saw] everyone]⟧ leads to: ⟦[someone [[saw] everyone]]⟧ = (λ c_<t,t>: (Forall x2_e << (Set x2_e: Human_<e,t>(x2_e)): (Exists x_e << (Set x_e: Human_<e,t>(x_e)): c_<t,t>(Saw_<(e,e),t>(x_e, x2_e))))) [by LiftedFA]"
      ]
     },
     "metadata": {},
     "output_type": "display_data"
    }
   ],
   "source": [
    "someone * (saw * everyone)"
   ]
  },
  {
   "cell_type": "code",
   "execution_count": 69,
   "id": "748ad2f1-5916-45ff-999c-573e8c3836d4",
   "metadata": {},
   "outputs": [
    {
     "data": {
      "text/html": [
       "<div align=\"center\" style=\"display:table;\"><div align=\"center\" style=\"display:table-row;\"><div style=\"display:table-cell;table-layout:auto;vertical-align:bottom;border-bottom:1px solid #848482;\"><div style=\"display: table;\"><div style=\"vertical-align:bottom;display:table-cell;padding-left:5px;padding-right:5px;padding-top:5px;padding-bottom:5px;\"><div align=\"center\" style=\"display:block;padding-left:5px;padding-right:5px;padding-top:5px;padding-bottom:5px;\"><div style=\"display:table;table-layout:auto;\" align=\"center\"><div style=\"display:table-row;\"><div style=\"display:table-cell;padding-right:2px; padding-left:2px;\" align=\"center\"><div style=\"display:inline-block;\"><span>$[\\![\\text{\\textbf{someone}}]\\!]^{}_{\\left\\langle{}\\left\\langle{}e,t\\right\\rangle{},t\\right\\rangle{}}$</span></div></div></div><div style=\"display:table-row;\"><div style=\"display:table-cell;padding-right:2px; padding-left:2px;\" align=\"center\"><div style=\"display:inline-block;\"><span>$\\lambda{} f_{\\left\\langle{}e,t\\right\\rangle{}} \\: . \\: \\exists{} x_{e} \\in {\\small \\{{x}_{e} \\:|\\: {Human}({x}_{e})\\}} \\: . \\: {f}({x})$</span></div></div></div></div></div></div><div style=\"display: table-cell; padding-left:4em;\"></div><div style=\"vertical-align:bottom;display:table-cell;padding-left:5px;padding-right:5px;padding-top:5px;padding-bottom:5px;\"><div align=\"center\" style=\"display:table;\"><div align=\"center\" style=\"display:table-row;\"><div style=\"display:table-cell;table-layout:auto;vertical-align:bottom;border-bottom:1px solid #848482;\"><div style=\"display: table;\"><div style=\"vertical-align:bottom;display:table-cell;padding-left:5px;padding-right:5px;padding-top:5px;padding-bottom:5px;\"><div align=\"center\" style=\"display:table;\"><div align=\"center\" style=\"display:table-row;\"><div style=\"display:table-cell;table-layout:auto;vertical-align:bottom;border-bottom:1px solid #848482;\"><div style=\"display: table;\"><div style=\"vertical-align:bottom;display:table-cell;padding-left:5px;padding-right:5px;padding-top:5px;padding-bottom:5px;\"><div align=\"center\" style=\"display:block;padding-left:5px;padding-right:5px;padding-top:5px;padding-bottom:5px;\"><div style=\"display:table;table-layout:auto;\" align=\"center\"><div style=\"display:table-row;\"><div style=\"display:table-cell;padding-right:2px; padding-left:2px;\" align=\"center\"><div style=\"display:inline-block;\"><span>$[\\![\\text{\\textbf{saw}}]\\!]^{}_{\\left\\langle{}e,\\left\\langle{}e,t\\right\\rangle{}\\right\\rangle{}}$</span></div></div></div><div style=\"display:table-row;\"><div style=\"display:table-cell;padding-right:2px; padding-left:2px;\" align=\"center\"><div style=\"display:inline-block;\"><span>$\\lambda{} y_{e} \\: . \\: \\lambda{} x_{e} \\: . \\: {Saw}({x}, {y})$</span></div></div></div></div></div></div></div></div><div style=\"display:table-cell;\"></div></div><div style=\"display:table-row;\"><div style=\"display: table-cell;\"></div><div style=\"display:table-cell;vertical-align:middle;\"><div style=\"vertical-align:middle;height:0px;overflow:visible\"><div style=\"color:blue;transform: translateY(-1em); padding-left:0.5em;\"><b>[<span>Unit</span>]</b></div></div></div></div><div align=\"center\" style=\"display:table-row;padding-left:5px;padding-right:5px;padding-top:5px;padding-bottom:5px;\"><div align=\"center\" style=\"display:block;padding-left:5px;padding-right:5px;padding-top:5px;padding-bottom:5px;\"><div style=\"display:table;table-layout:auto;\" align=\"center\"><div style=\"display:table-row;\"><div style=\"display:table-cell;padding-right:2px; padding-left:2px;\" align=\"center\"><div style=\"display:inline-block;\"><span>$[\\![\\text{\\textbf{[saw]}}]\\!]^{}_{\\left\\langle{}\\left\\langle{}\\left\\langle{}e,\\left\\langle{}e,t\\right\\rangle{}\\right\\rangle{},t\\right\\rangle{},t\\right\\rangle{}}$</span></div></div></div><div style=\"display:table-row;\"><div style=\"display:table-cell;padding-right:2px; padding-left:2px;\" align=\"center\"><div style=\"display:inline-block;\"><span>$\\lambda{} c_{\\left\\langle{}\\left\\langle{}e,\\left\\langle{}e,t\\right\\rangle{}\\right\\rangle{},t\\right\\rangle{}} \\: . \\: {c}(\\lambda{} y_{e} \\: . \\: \\lambda{} x_{e} \\: . \\: {Saw}({x}, {y}))$</span></div></div></div></div></div><div style=\"display: table-cell;\"></div></div></div></div><div style=\"display: table-cell; padding-left:4em;\"></div><div style=\"vertical-align:bottom;display:table-cell;padding-left:5px;padding-right:5px;padding-top:5px;padding-bottom:5px;\"><div align=\"center\" style=\"display:block;padding-left:5px;padding-right:5px;padding-top:5px;padding-bottom:5px;\"><div style=\"display:table;table-layout:auto;\" align=\"center\"><div style=\"display:table-row;\"><div style=\"display:table-cell;padding-right:2px; padding-left:2px;\" align=\"center\"><div style=\"display:inline-block;\"><span>$[\\![\\text{\\textbf{everyone}}]\\!]^{}_{\\left\\langle{}\\left\\langle{}e,t\\right\\rangle{},t\\right\\rangle{}}$</span></div></div></div><div style=\"display:table-row;\"><div style=\"display:table-cell;padding-right:2px; padding-left:2px;\" align=\"center\"><div style=\"display:inline-block;\"><span>$\\lambda{} f_{\\left\\langle{}e,t\\right\\rangle{}} \\: . \\: \\forall{} x_{e} \\in {\\small \\{{x}_{e} \\:|\\: {Human}({x}_{e})\\}} \\: . \\: {f}({x})$</span></div></div></div></div></div></div></div></div><div style=\"display:table-cell;\"></div></div><div style=\"display:table-row;\"><div style=\"display: table-cell;\"></div><div style=\"display:table-cell;vertical-align:middle;\"><div style=\"vertical-align:middle;height:0px;overflow:visible\"><div style=\"color:blue;transform: translateY(-1em); padding-left:0.5em;\"><b>[<span>LiftedFA</span>]</b></div></div></div></div><div align=\"center\" style=\"display:table-row;padding-left:5px;padding-right:5px;padding-top:5px;padding-bottom:5px;\"><div align=\"center\" style=\"display:block;padding-left:5px;padding-right:5px;padding-top:5px;padding-bottom:5px;\"><div style=\"display:table;table-layout:auto;\" align=\"center\"><div style=\"display:table-row;\"><div style=\"display:table-cell;padding-right:2px; padding-left:2px;\" align=\"center\"><div style=\"display:inline-block;\"><span>$[\\![\\text{\\textbf{[[saw] everyone]}}]\\!]^{}_{\\left\\langle{}\\left\\langle{}\\left\\langle{}e,t\\right\\rangle{},t\\right\\rangle{},t\\right\\rangle{}}$</span></div></div></div><div style=\"display:table-row;\"><div style=\"display:table-cell;padding-right:2px; padding-left:2px;\" align=\"center\"><div style=\"display:inline-block;\"><span>$\\lambda{} c_{\\left\\langle{}\\left\\langle{}e,t\\right\\rangle{},t\\right\\rangle{}} \\: . \\: \\forall{} x_{e} \\in {\\small \\{{x}_{e} \\:|\\: {Human}({x}_{e})\\}} \\: . \\: {c}(\\lambda{} x1_{e} \\: . \\: {Saw}({x1}, {x}))$</span></div></div></div></div></div><div style=\"display: table-cell;\"></div></div></div></div></div></div><div style=\"display:table-cell;\"></div></div><div style=\"display:table-row;\"><div style=\"display: table-cell;\"></div><div style=\"display:table-cell;vertical-align:middle;\"><div style=\"vertical-align:middle;height:0px;overflow:visible\"><div style=\"color:blue;transform: translateY(-1em); padding-left:0.5em;\"><b>[<span>FA</span>]</b></div></div></div></div><div align=\"center\" style=\"display:table-row;padding-left:5px;padding-right:5px;padding-top:5px;padding-bottom:5px;\"><div align=\"center\" style=\"display:block;padding-left:5px;padding-right:5px;padding-top:5px;padding-bottom:5px;\"><div style=\"display:table;table-layout:auto;\" align=\"center\"><div style=\"display:table-row;\"><div style=\"display:table-cell;padding-right:2px; padding-left:2px;\" align=\"center\"><div style=\"display:inline-block;\"><span>$[\\![\\text{\\textbf{[someone [[saw] everyone]]}}]\\!]^{}_{t}$</span></div></div></div><div style=\"display:table-row;\"><div style=\"display:table-cell;padding-right:2px; padding-left:2px;\" align=\"center\"><div style=\"display:inline-block;\"><span>$\\forall{} x_{e} \\in {\\small \\{{x}_{e} \\:|\\: {Human}({x}_{e})\\}} \\: . \\: \\exists{} x1_{e} \\in {\\small \\{{x1}_{e} \\:|\\: {Human}({x1}_{e})\\}} \\: . \\: {Saw}({x1}, {x})$</span></div></div></div></div></div><div style=\"display: table-cell;\"></div></div></div>"
      ],
      "text/plain": [
       "<div align=\"center\" style=\"display:table;\"><div align=\"center\" style=\"display:table-row;\"><div style=\"display:table-cell;table-layout:auto;vertical-align:bottom;border-bottom:1px solid #848482;\"><div style=\"display: table;\"><div style=\"vertical-align:bottom;display:table-cell;padding-left:5px;padding-right:5px;padding-top:5px;padding-bottom:5px;\"><div align=\"center\" style=\"display:block;padding-left:5px;padding-right:5px;padding-top:5px;padding-bottom:5px;\"><div style=\"display:table;table-layout:auto;\" align=\"center\"><div style=\"display:table-row;\"><div style=\"display:table-cell;padding-right:2px; padding-left:2px;\" align=\"center\"><div style=\"display:inline-block;\"><span>$[\\![\\text{\\textbf{someone}}]\\!]^{}_{\\left\\langle{}\\left\\langle{}e,t\\right\\rangle{},t\\right\\rangle{}}$</span></div></div></div><div style=\"display:table-row;\"><div style=\"display:table-cell;padding-right:2px; padding-left:2px;\" align=\"center\"><div style=\"display:inline-block;\"><span>$\\lambda{} f_{\\left\\langle{}e,t\\right\\rangle{}} \\: . \\: \\exists{} x_{e} \\in {\\small \\{{x}_{e} \\:|\\: {Human}({x}_{e})\\}} \\: . \\: {f}({x})$</span></div></div></div></div></div></div><div style=\"display: table-cell; padding-left:4em;\"></div><div style=\"vertical-align:bottom;display:table-cell;padding-left:5px;padding-right:5px;padding-top:5px;padding-bottom:5px;\"><div align=\"center\" style=\"display:table;\"><div align=\"center\" style=\"display:table-row;\"><div style=\"display:table-cell;table-layout:auto;vertical-align:bottom;border-bottom:1px solid #848482;\"><div style=\"display: table;\"><div style=\"vertical-align:bottom;display:table-cell;padding-left:5px;padding-right:5px;padding-top:5px;padding-bottom:5px;\"><div align=\"center\" style=\"display:table;\"><div align=\"center\" style=\"display:table-row;\"><div style=\"display:table-cell;table-layout:auto;vertical-align:bottom;border-bottom:1px solid #848482;\"><div style=\"display: table;\"><div style=\"vertical-align:bottom;display:table-cell;padding-left:5px;padding-right:5px;padding-top:5px;padding-bottom:5px;\"><div align=\"center\" style=\"display:block;padding-left:5px;padding-right:5px;padding-top:5px;padding-bottom:5px;\"><div style=\"display:table;table-layout:auto;\" align=\"center\"><div style=\"display:table-row;\"><div style=\"display:table-cell;padding-right:2px; padding-left:2px;\" align=\"center\"><div style=\"display:inline-block;\"><span>$[\\![\\text{\\textbf{saw}}]\\!]^{}_{\\left\\langle{}e,\\left\\langle{}e,t\\right\\rangle{}\\right\\rangle{}}$</span></div></div></div><div style=\"display:table-row;\"><div style=\"display:table-cell;padding-right:2px; padding-left:2px;\" align=\"center\"><div style=\"display:inline-block;\"><span>$\\lambda{} y_{e} \\: . \\: \\lambda{} x_{e} \\: . \\: {Saw}({x}, {y})$</span></div></div></div></div></div></div></div></div><div style=\"display:table-cell;\"></div></div><div style=\"display:table-row;\"><div style=\"display: table-cell;\"></div><div style=\"display:table-cell;vertical-align:middle;\"><div style=\"vertical-align:middle;height:0px;overflow:visible\"><div style=\"color:blue;transform: translateY(-1em); padding-left:0.5em;\"><b>[<span>Unit</span>]</b></div></div></div></div><div align=\"center\" style=\"display:table-row;padding-left:5px;padding-right:5px;padding-top:5px;padding-bottom:5px;\"><div align=\"center\" style=\"display:block;padding-left:5px;padding-right:5px;padding-top:5px;padding-bottom:5px;\"><div style=\"display:table;table-layout:auto;\" align=\"center\"><div style=\"display:table-row;\"><div style=\"display:table-cell;padding-right:2px; padding-left:2px;\" align=\"center\"><div style=\"display:inline-block;\"><span>$[\\![\\text{\\textbf{[saw]}}]\\!]^{}_{\\left\\langle{}\\left\\langle{}\\left\\langle{}e,\\left\\langle{}e,t\\right\\rangle{}\\right\\rangle{},t\\right\\rangle{},t\\right\\rangle{}}$</span></div></div></div><div style=\"display:table-row;\"><div style=\"display:table-cell;padding-right:2px; padding-left:2px;\" align=\"center\"><div style=\"display:inline-block;\"><span>$\\lambda{} c_{\\left\\langle{}\\left\\langle{}e,\\left\\langle{}e,t\\right\\rangle{}\\right\\rangle{},t\\right\\rangle{}} \\: . \\: {c}(\\lambda{} y_{e} \\: . \\: \\lambda{} x_{e} \\: . \\: {Saw}({x}, {y}))$</span></div></div></div></div></div><div style=\"display: table-cell;\"></div></div></div></div><div style=\"display: table-cell; padding-left:4em;\"></div><div style=\"vertical-align:bottom;display:table-cell;padding-left:5px;padding-right:5px;padding-top:5px;padding-bottom:5px;\"><div align=\"center\" style=\"display:block;padding-left:5px;padding-right:5px;padding-top:5px;padding-bottom:5px;\"><div style=\"display:table;table-layout:auto;\" align=\"center\"><div style=\"display:table-row;\"><div style=\"display:table-cell;padding-right:2px; padding-left:2px;\" align=\"center\"><div style=\"display:inline-block;\"><span>$[\\![\\text{\\textbf{everyone}}]\\!]^{}_{\\left\\langle{}\\left\\langle{}e,t\\right\\rangle{},t\\right\\rangle{}}$</span></div></div></div><div style=\"display:table-row;\"><div style=\"display:table-cell;padding-right:2px; padding-left:2px;\" align=\"center\"><div style=\"display:inline-block;\"><span>$\\lambda{} f_{\\left\\langle{}e,t\\right\\rangle{}} \\: . \\: \\forall{} x_{e} \\in {\\small \\{{x}_{e} \\:|\\: {Human}({x}_{e})\\}} \\: . \\: {f}({x})$</span></div></div></div></div></div></div></div></div><div style=\"display:table-cell;\"></div></div><div style=\"display:table-row;\"><div style=\"display: table-cell;\"></div><div style=\"display:table-cell;vertical-align:middle;\"><div style=\"vertical-align:middle;height:0px;overflow:visible\"><div style=\"color:blue;transform: translateY(-1em); padding-left:0.5em;\"><b>[<span>LiftedFA</span>]</b></div></div></div></div><div align=\"center\" style=\"display:table-row;padding-left:5px;padding-right:5px;padding-top:5px;padding-bottom:5px;\"><div align=\"center\" style=\"display:block;padding-left:5px;padding-right:5px;padding-top:5px;padding-bottom:5px;\"><div style=\"display:table;table-layout:auto;\" align=\"center\"><div style=\"display:table-row;\"><div style=\"display:table-cell;padding-right:2px; padding-left:2px;\" align=\"center\"><div style=\"display:inline-block;\"><span>$[\\![\\text{\\textbf{[[saw] everyone]}}]\\!]^{}_{\\left\\langle{}\\left\\langle{}\\left\\langle{}e,t\\right\\rangle{},t\\right\\rangle{},t\\right\\rangle{}}$</span></div></div></div><div style=\"display:table-row;\"><div style=\"display:table-cell;padding-right:2px; padding-left:2px;\" align=\"center\"><div style=\"display:inline-block;\"><span>$\\lambda{} c_{\\left\\langle{}\\left\\langle{}e,t\\right\\rangle{},t\\right\\rangle{}} \\: . \\: \\forall{} x_{e} \\in {\\small \\{{x}_{e} \\:|\\: {Human}({x}_{e})\\}} \\: . \\: {c}(\\lambda{} x1_{e} \\: . \\: {Saw}({x1}, {x}))$</span></div></div></div></div></div><div style=\"display: table-cell;\"></div></div></div></div></div></div><div style=\"display:table-cell;\"></div></div><div style=\"display:table-row;\"><div style=\"display: table-cell;\"></div><div style=\"display:table-cell;vertical-align:middle;\"><div style=\"vertical-align:middle;height:0px;overflow:visible\"><div style=\"color:blue;transform: translateY(-1em); padding-left:0.5em;\"><b>[<span>FA</span>]</b></div></div></div></div><div align=\"center\" style=\"display:table-row;padding-left:5px;padding-right:5px;padding-top:5px;padding-bottom:5px;\"><div align=\"center\" style=\"display:block;padding-left:5px;padding-right:5px;padding-top:5px;padding-bottom:5px;\"><div style=\"display:table;table-layout:auto;\" align=\"center\"><div style=\"display:table-row;\"><div style=\"display:table-cell;padding-right:2px; padding-left:2px;\" align=\"center\"><div style=\"display:inline-block;\"><span>$[\\![\\text{\\textbf{[someone [[saw] everyone]]}}]\\!]^{}_{t}$</span></div></div></div><div style=\"display:table-row;\"><div style=\"display:table-cell;padding-right:2px; padding-left:2px;\" align=\"center\"><div style=\"display:inline-block;\"><span>$\\forall{} x_{e} \\in {\\small \\{{x}_{e} \\:|\\: {Human}({x}_{e})\\}} \\: . \\: \\exists{} x1_{e} \\in {\\small \\{{x1}_{e} \\:|\\: {Human}({x1}_{e})\\}} \\: . \\: {Saw}({x1}, {x})$</span></div></div></div></div></div><div style=\"display: table-cell;\"></div></div></div>"
      ]
     },
     "execution_count": 69,
     "metadata": {},
     "output_type": "execute_result"
    }
   ],
   "source": [
    "(someone * (saw * everyone))[0].tree()"
   ]
  },
  {
   "cell_type": "markdown",
   "id": "ca7944a6-507e-45c9-a4bb-fa2bef89e0f6",
   "metadata": {},
   "source": [
    "Barker in his work on continuations proposes to derive quantifier scope ambiguities from an underspecification in continuized apply. Here's the second apply combinator:"
   ]
  },
  {
   "cell_type": "code",
   "execution_count": 70,
   "id": "d2bffca4-29db-4ebe-b590-8af97483ea5c",
   "metadata": {},
   "outputs": [
    {
     "data": {
      "text/markdown": [
       "${contapply2}_{\\left\\langle{}\\left\\langle{}\\left\\langle{}\\left\\langle{}X',X'\\right\\rangle{},t\\right\\rangle{},t\\right\\rangle{},\\left\\langle{}\\left\\langle{}\\left\\langle{}X',t\\right\\rangle{},t\\right\\rangle{},\\left\\langle{}\\left\\langle{}X',t\\right\\rangle{},t\\right\\rangle{}\\right\\rangle{}\\right\\rangle{}}\\:=\\:\\lambda{} f_{\\left\\langle{}\\left\\langle{}\\left\\langle{}X',X'\\right\\rangle{},t\\right\\rangle{},t\\right\\rangle{}} \\: . \\: \\lambda{} x_{\\left\\langle{}\\left\\langle{}X',t\\right\\rangle{},t\\right\\rangle{}} \\: . \\: \\lambda{} c_{\\left\\langle{}X',t\\right\\rangle{}} \\: . \\: {x}(\\lambda{} a1_{X'} \\: . \\: {f}(\\lambda{} a_{\\left\\langle{}X',X'\\right\\rangle{}} \\: . \\: {c}({a}({a1}))))$"
      ],
      "text/plain": [
       "contapply2_<<<<X1,X1>,t>,t>,<<<X1,t>,t>,<<X1,t>,t>>> = (λ f_<<<X1,X1>,t>,t>: (λ x_<<X1,t>,t>: (λ c_<X1,t>: x_<<X1,t>,t>(λ a1_X1: f_<<<X1,X1>,t>,t>(λ a_<X1,X1>: c_<X1,t>(a_<X1,X1>(a1_X1)))))))"
      ]
     },
     "metadata": {},
     "output_type": "display_data"
    }
   ],
   "source": [
    "%%lamb\n",
    "contapply2 = L f_<<<X',X>,t>,t> : L x_<<X',t>,t> : L c_Z2 : x(L a1_X : f(L a_<X,X1>: c(a_<X,X1>(a1_X))))\n"
   ]
  },
  {
   "cell_type": "code",
   "execution_count": 71,
   "id": "82e3c957-6121-4acb-ac30-244eb9eb5b38",
   "metadata": {},
   "outputs": [
    {
     "data": {
      "text/latex": [
       "$\\lambda{} f_{\\left\\langle{}\\left\\langle{}\\left\\langle{}X',X\\right\\rangle{},t\\right\\rangle{},t\\right\\rangle{}} \\: . \\: \\lambda{} x_{\\left\\langle{}\\left\\langle{}X',t\\right\\rangle{},t\\right\\rangle{}} \\: . \\: \\lambda{} c_{\\left\\langle{}X,t\\right\\rangle{}} \\: . \\: {f}(\\lambda{} a_{\\left\\langle{}X',X\\right\\rangle{}} \\: . \\: {x}(\\lambda{} a1_{X'} \\: . \\: {c}({a}({a1}))))$"
      ],
      "text/plain": [
       "(λ f_<<<X1,X>,t>,t>: (λ x_<<X1,t>,t>: (λ c_<X,t>: f_<<<X1,X>,t>,t>(λ a_<X1,X>: x_<<X1,t>,t>(λ a1_X1: c_<X,t>(a_<X1,X>(a1_X1)))))))"
      ]
     },
     "metadata": {},
     "output_type": "display_data"
    },
    {
     "data": {
      "text/latex": [
       "$\\lambda{} f_{\\left\\langle{}\\left\\langle{}\\left\\langle{}X',X'\\right\\rangle{},t\\right\\rangle{},t\\right\\rangle{}} \\: . \\: \\lambda{} x_{\\left\\langle{}\\left\\langle{}X',t\\right\\rangle{},t\\right\\rangle{}} \\: . \\: \\lambda{} c_{\\left\\langle{}X',t\\right\\rangle{}} \\: . \\: {x}(\\lambda{} a1_{X'} \\: . \\: {f}(\\lambda{} a_{\\left\\langle{}X',X'\\right\\rangle{}} \\: . \\: {c}({a}({a1}))))$"
      ],
      "text/plain": [
       "(λ f_<<<X1,X1>,t>,t>: (λ x_<<X1,t>,t>: (λ c_<X1,t>: x_<<X1,t>,t>(λ a1_X1: f_<<<X1,X1>,t>,t>(λ a_<X1,X1>: c_<X1,t>(a_<X1,X1>(a1_X1)))))))"
      ]
     },
     "metadata": {},
     "output_type": "display_data"
    }
   ],
   "source": [
    "display(apply, contapply2)"
   ]
  },
  {
   "cell_type": "markdown",
   "id": "c347a58d-135c-4a9c-b130-d89a599f66f2",
   "metadata": {},
   "source": [
    "Can *both* of these be derived somehow via the monadic construction? I'm currently unsure of the answer (Shan doesn't seem to say; I expect later literature may address this)."
   ]
  },
  {
   "cell_type": "code",
   "execution_count": 75,
   "id": "496a7671-53f1-4923-b49e-017e3aa52191",
   "metadata": {},
   "outputs": [
    {
     "name": "stderr",
     "output_type": "stream",
     "text": [
      "WARNING (lang): Composition rule named 'CA2' already present in system, replacing\n"
     ]
    },
    {
     "data": {
      "text/html": [
       "Binary composition rule <i>CA2</i>, built on combinator '$\\lambda{} f_{\\left\\langle{}\\left\\langle{}\\left\\langle{}X',X'\\right\\rangle{},t\\right\\rangle{},t\\right\\rangle{}} \\: . \\: \\lambda{} x_{\\left\\langle{}\\left\\langle{}X',t\\right\\rangle{},t\\right\\rangle{}} \\: . \\: \\lambda{} c_{\\left\\langle{}X',t\\right\\rangle{}} \\: . \\: {x}(\\lambda{} a1_{X'} \\: . \\: {f}(\\lambda{} a_{\\left\\langle{}X',X'\\right\\rangle{}} \\: . \\: {c}({a}({a1}))))$'"
      ],
      "text/plain": [
       "Binary composition rule CA2, built on combinator '<class 'lamb.meta.core.TypedExpr'>'"
      ]
     },
     "execution_count": 75,
     "metadata": {},
     "output_type": "execute_result"
    }
   ],
   "source": [
    "system.add_binary_rule(contapply2, \"CA2\")"
   ]
  },
  {
   "cell_type": "code",
   "execution_count": 76,
   "id": "8ba19407-316f-4629-9f2b-a41e0b972316",
   "metadata": {},
   "outputs": [
    {
     "data": {
      "text/markdown": [
       "2 composition paths. Results:<br />\n",
       "&nbsp;&nbsp;&nbsp;&nbsp;[0]: $[\\![\\text{\\textbf{[someone [[saw] everyone]]}}]\\!]^{}_{t} \\:=\\: \\forall{} x_{e} \\in {\\small \\{{x}_{e} \\:|\\: {Human}({x}_{e})\\}} \\: . \\: \\exists{} x1_{e} \\in {\\small \\{{x1}_{e} \\:|\\: {Human}({x1}_{e})\\}} \\: . \\: {Saw}({x1}, {x})$<br />\n",
       "&nbsp;&nbsp;&nbsp;&nbsp;[1]: $[\\![\\text{\\textbf{[someone [[saw] everyone]]}}]\\!]^{}_{\\left\\langle{}\\left\\langle{}t,t\\right\\rangle{},t\\right\\rangle{}} \\:=\\: \\lambda{} c_{\\left\\langle{}t,t\\right\\rangle{}} \\: . \\: \\forall{} x2_{e} \\in {\\small \\{{x2}_{e} \\:|\\: {Human}({x2}_{e})\\}} \\: . \\: \\exists{} x_{e} \\in {\\small \\{{x}_{e} \\:|\\: {Human}({x}_{e})\\}} \\: . \\: {c}({Saw}({x}, {x2}))$"
      ],
      "text/plain": [
       "2 composition paths. Results:\n",
       "    [0]: ⟦someone⟧ * ⟦[[saw] everyone]⟧ leads to: ⟦[someone [[saw] everyone]]⟧ = (Forall x_e << (Set x_e: Human_<e,t>(x_e)): (Exists x1_e << (Set x1_e: Human_<e,t>(x1_e)): Saw_<(e,e),t>(x1_e, x_e))) [by FA]\n",
       "    [1]: ⟦someone⟧ * ⟦[[saw] everyone]⟧ leads to: ⟦[someone [[saw] everyone]]⟧ = (λ c_<t,t>: (Forall x2_e << (Set x2_e: Human_<e,t>(x2_e)): (Exists x_e << (Set x_e: Human_<e,t>(x_e)): c_<t,t>(Saw_<(e,e),t>(x_e, x2_e))))) [by LiftedFA]"
      ]
     },
     "metadata": {},
     "output_type": "display_data"
    }
   ],
   "source": [
    "(someone * (saw * everyone)) #.tree()"
   ]
  },
  {
   "cell_type": "code",
   "execution_count": null,
   "id": "673fe868-70c5-4099-be6d-ff6d69652cff",
   "metadata": {},
   "outputs": [],
   "source": []
  }
 ],
 "metadata": {
  "kernelspec": {
   "display_name": "Lambda Notebook (Python 3)",
   "language": "python",
   "name": "lambda-notebook"
  },
  "language_info": {
   "codemirror_mode": {
    "name": "ipython",
    "version": 3
   },
   "file_extension": ".py",
   "mimetype": "text/x-python",
   "name": "python",
   "nbconvert_exporter": "python",
   "pygments_lexer": "ipython3",
   "version": "3.12.0"
  }
 },
 "nbformat": 4,
 "nbformat_minor": 5
}
