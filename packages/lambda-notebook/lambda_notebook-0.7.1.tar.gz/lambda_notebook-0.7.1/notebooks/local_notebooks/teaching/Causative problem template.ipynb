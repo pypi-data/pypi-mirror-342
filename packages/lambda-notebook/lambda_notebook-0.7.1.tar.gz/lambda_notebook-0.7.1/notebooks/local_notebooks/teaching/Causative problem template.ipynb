{
 "cells": [
  {
   "cell_type": "markdown",
   "metadata": {},
   "source": [
    "## Homework 6: causitivization"
   ]
  },
  {
   "cell_type": "markdown",
   "metadata": {},
   "source": [
    "**Name**: (put your name here)"
   ]
  },
  {
   "cell_type": "markdown",
   "metadata": {},
   "source": [
    "**Part a**: describe the alternation involved in break/rise in terms of thematic roles.\n",
    "\n",
    "    (1) Alfonso broke the vase.\n",
    "    (2) The vase broke.\n",
    "    (3) The fire raised the temperature.\n",
    "    (4) The temperature rose.\n",
    "    "
   ]
  },
  {
   "cell_type": "markdown",
   "metadata": {},
   "source": [
    "(fill in this markdown cell)"
   ]
  },
  {
   "cell_type": "markdown",
   "metadata": {},
   "source": [
    "**Part b**: using a Heim & Kratzer type semantics (so just types `e` and `t`) write lexical entries for `break` assuming accidental ambiguity."
   ]
  },
  {
   "cell_type": "code",
   "execution_count": null,
   "metadata": {
    "collapsed": false
   },
   "outputs": [],
   "source": [
    "%%lamb\n",
    "||break_intrans|| = # fill in here.  This will generate an error until you do.\n",
    "||break_trans|| = # fill in here"
   ]
  },
  {
   "cell_type": "markdown",
   "metadata": {},
   "source": [
    "(fill in this markdown cell with discussion of the above entries)"
   ]
  },
  {
   "cell_type": "markdown",
   "metadata": {},
   "source": [
    "**Part c**: How could you relate the two entries systematically?  In particular, for this part, write a function that converts your transitive entry to the intransitive form.  That is, write a function of type `<<e,<e,t>>,<e,t>>` that given the content of `break_trans` will something that would work for `break_intrans`.  (It does not need to be exactly what you wrote in the above entries.)\n",
    "\n",
    "Reminder: to access the content of a lexical entry, you can simply type `break_trans.content`."
   ]
  },
  {
   "cell_type": "code",
   "execution_count": null,
   "metadata": {
    "collapsed": true
   },
   "outputs": [],
   "source": [
    "%%lamb\n",
    "detransitivize = L f_<e,<e,t>> : L x_e : # body goes here"
   ]
  },
  {
   "cell_type": "code",
   "execution_count": null,
   "metadata": {
    "collapsed": true
   },
   "outputs": [],
   "source": [
    "detransitivize(break_trans.content) # run this once you've written something"
   ]
  },
  {
   "cell_type": "markdown",
   "metadata": {},
   "source": [
    "(fill in this markdown cell with discussion of the above answer)"
   ]
  },
  {
   "cell_type": "markdown",
   "metadata": {},
   "source": [
    "**Part d**: How could the conversion go the other way?  First, in a Heim & Kratzer setup, is there any way you could convert from `<e,t>` to `<e,<e,t>>`?"
   ]
  },
  {
   "cell_type": "markdown",
   "metadata": {},
   "source": [
    "(fill in this with an answer to the above question, adding any lambda notebook cells as needed.)"
   ]
  },
  {
   "cell_type": "markdown",
   "metadata": {},
   "source": [
    "Now, assume that there are events in the ontology.  How could you do this with events?"
   ]
  },
  {
   "cell_type": "code",
   "execution_count": 3,
   "metadata": {
    "collapsed": false
   },
   "outputs": [
    {
     "data": {
      "text/latex": [
       "Type system with atomic types: $t, e, n, v$"
      ],
      "text/plain": [
       "<lamb.types.PolyTypeSystem at 0x1064b65c0>"
      ]
     },
     "execution_count": 3,
     "metadata": {},
     "output_type": "execute_result"
    }
   ],
   "source": [
    "# this cell adds events\n",
    "type_v = types.BasicType(\"v\")\n",
    "ts = meta.get_type_system()\n",
    "ts.add_atomic(type_v)\n",
    "ts"
   ]
  },
  {
   "cell_type": "code",
   "execution_count": null,
   "metadata": {
    "collapsed": true
   },
   "outputs": [],
   "source": [
    "%%lamb\n",
    "# write a new entry for intransitive `break` here.  \n",
    "# Use type <e,<v,t>> (i.e. a Davidsonian analysis).  If you'd\n",
    "# rather try Kratzer's analysis here you can, but this will complicate\n",
    "# things.  (The neo-Davidsonian fragment that comes with the lambda\n",
    "# notebook implements Kratzer's analysis.)\n",
    "||break_events|| = L x_e : L e_v : # fill in here"
   ]
  },
  {
   "cell_type": "code",
   "execution_count": null,
   "metadata": {
    "collapsed": true
   },
   "outputs": [],
   "source": [
    "%%lamb\n",
    "# write a function that converts the above to a transitive type,\n",
    "# which for a Davidsonian analysis would be <e,<e,<v,t>>>.\n",
    "# That is, for the above skeleton, you want a function of type: <<e,<v,t>>,<e,<e,<v,t>>>>.\n",
    "transitivize = L f_<e,<v,t>> : L y_e : L x_e : L e_v : # fill in here"
   ]
  },
  {
   "cell_type": "markdown",
   "metadata": {},
   "source": [
    "(fill in this markdown cell with discussion of the above)"
   ]
  }
 ],
 "metadata": {
  "kernelspec": {
   "display_name": "Lambda Notebook (Python 3)",
   "language": "python",
   "name": "lambda-notebook"
  },
  "language_info": {
   "codemirror_mode": {
    "name": "ipython",
    "version": 3
   },
   "file_extension": ".py",
   "mimetype": "text/x-python",
   "name": "python",
   "nbconvert_exporter": "python",
   "pygments_lexer": "ipython3",
   "version": "3.5.1"
  }
 },
 "nbformat": 4,
 "nbformat_minor": 1
}
