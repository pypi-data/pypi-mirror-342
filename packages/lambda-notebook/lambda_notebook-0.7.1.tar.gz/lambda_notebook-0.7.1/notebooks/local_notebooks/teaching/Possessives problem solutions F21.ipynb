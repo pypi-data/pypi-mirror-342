{
 "cells": [
  {
   "cell_type": "code",
   "execution_count": 1,
   "metadata": {},
   "outputs": [
    {
     "data": {
      "text/html": [
       "Composition system 'Type-driven with partiality'<br />Operations: {<br />&nbsp;&nbsp;&nbsp;&nbsp;Binary composition rule <i>FA</i>, built on python function 'lamb.lang.presup_fa'<br />&nbsp;&nbsp;&nbsp;&nbsp;Binary composition rule <i>PM</i>, built on python function 'lamb.lang.presup_pm'<br />&nbsp;&nbsp;&nbsp;&nbsp;Binary composition rule <i>PA</i>, built on python function 'lamb.lang.sbc_pa'<br />}"
      ],
      "text/plain": [
       "Composition system: Type-driven with partiality"
      ]
     },
     "execution_count": 1,
     "metadata": {},
     "output_type": "execute_result"
    }
   ],
   "source": [
    "reload_lamb()\n",
    "from lamb.meta import Partial\n",
    "lang.set_system(lang.td_presup)\n",
    "lang.get_system().remove_rule(\"PA\")\n",
    "lang.get_system().add_rule(lang.BinaryCompositionOp(\"PA\", lang.sbc_pa, allow_none=True))\n",
    "lang.get_system()"
   ]
  },
  {
   "cell_type": "code",
   "execution_count": 2,
   "metadata": {},
   "outputs": [
    {
     "data": {
      "text/markdown": [
       "1 composition path.  Result:<br />\n",
       "&nbsp;&nbsp;&nbsp;&nbsp;[0]: $[\\![\\text{\\textbf{[5 t3]}}]\\!]^{}_{\\left\\langle{}e,e\\right\\rangle{}} \\:=\\: \\lambda{} var5_{e} \\: . \\: {var3}_{e}$"
      ],
      "text/plain": [
       "1 composition path.  Result:\n",
       "    [0]: ⟦5⟧ * ⟦t3⟧ leads to: ⟦[5 t3]⟧ = (λ var5_e: var3_e) [by PA]"
      ]
     },
     "metadata": {},
     "output_type": "display_data"
    }
   ],
   "source": [
    "lang.Binder(5) * lang.Trace(3)"
   ]
  },
  {
   "cell_type": "markdown",
   "metadata": {},
   "source": [
    "## 2. Possessives"
   ]
  },
  {
   "cell_type": "markdown",
   "metadata": {},
   "source": [
    "Here is a basic lexicon for most of sentences like (1-3):\n",
    "\n",
    "    (1) Alfonso talked to Joanna's mother.\n",
    "    (2) Alfonso borrowed Joanna's book.\n",
    "    (3) Alfonso kicked Joanna's chair.\n",
    " \n",
    "The only parts that I haven't defined are the possessive morpheme, and `mother`."
   ]
  },
  {
   "cell_type": "code",
   "execution_count": 3,
   "metadata": {},
   "outputs": [
    {
     "name": "stdout",
     "output_type": "stream",
     "text": [
      "INFO (core): Coerced guessed type for 'Borrow_t' into <(e,e),t>, to match argument '(y_e, x_e)'\n",
      "INFO (core): Coerced guessed type for 'Kick_t' into <(e,e),t>, to match argument '(y_e, x_e)'\n",
      "INFO (parsing): Exporting item ||talk to|| to python variable `talk_to`.\n",
      "INFO (core): Coerced guessed type for 'Talkto_t' into <(e,e),t>, to match argument '(y_e, x_e)'\n",
      "INFO (core): Coerced guessed type for 'Visit_t' into <e,t>, to match argument 'x_e'\n",
      "INFO (core): Coerced guessed type for 'Meet_t' into <(e,e),t>, to match argument '(y_e, x_e)'\n"
     ]
    },
    {
     "data": {
      "text/markdown": [
       "$[\\![\\text{\\textbf{Alfonso}}]\\!]^{}_{e} \\:=\\: {a}_{e}$<br />\n",
       "$[\\![\\text{\\textbf{Joanna}}]\\!]^{}_{e} \\:=\\: {j}_{e}$<br />\n",
       "$[\\![\\text{\\textbf{book}}]\\!]^{}_{\\left\\langle{}e,t\\right\\rangle{}} \\:=\\: \\lambda{} x_{e} \\: . \\: {Book}({x})$<br />\n",
       "$[\\![\\text{\\textbf{chair}}]\\!]^{}_{\\left\\langle{}e,t\\right\\rangle{}} \\:=\\: \\lambda{} x_{e} \\: . \\: {Chair}({x})$<br />\n",
       "$[\\![\\text{\\textbf{borrowed}}]\\!]^{}_{\\left\\langle{}e,\\left\\langle{}e,t\\right\\rangle{}\\right\\rangle{}} \\:=\\: \\lambda{} x_{e} \\: . \\: \\lambda{} y_{e} \\: . \\: {Borrow}({y}, {x})$<br />\n",
       "$[\\![\\text{\\textbf{kick}}]\\!]^{}_{\\left\\langle{}e,\\left\\langle{}e,t\\right\\rangle{}\\right\\rangle{}} \\:=\\: \\lambda{} x_{e} \\: . \\: \\lambda{} y_{e} \\: . \\: {Kick}({y}, {x})$<br />\n",
       "$[\\![\\text{\\textbf{talk\\_to}}]\\!]^{}_{\\left\\langle{}e,\\left\\langle{}e,t\\right\\rangle{}\\right\\rangle{}} \\:=\\: \\lambda{} x_{e} \\: . \\: \\lambda{} y_{e} \\: . \\: {Talkto}({y}, {x})$<br />\n",
       "$[\\![\\text{\\textbf{visit}}]\\!]^{}_{\\left\\langle{}e,t\\right\\rangle{}} \\:=\\: \\lambda{} x_{e} \\: . \\: {Visit}({x})$<br />\n",
       "$[\\![\\text{\\textbf{met}}]\\!]^{}_{\\left\\langle{}e,\\left\\langle{}e,t\\right\\rangle{}\\right\\rangle{}} \\:=\\: \\lambda{} x_{e} \\: . \\: \\lambda{} y_{e} \\: . \\: {Meet}({y}, {x})$"
      ],
      "text/plain": [
       "⟦Alfonso⟧ = a_e\n",
       "⟦Joanna⟧ = j_e\n",
       "⟦book⟧ = (λ x_e: Book_<e,t>(x_e))\n",
       "⟦chair⟧ = (λ x_e: Chair_<e,t>(x_e))\n",
       "⟦borrowed⟧ = (λ x_e: (λ y_e: Borrow_<(e,e),t>(y_e, x_e)))\n",
       "⟦kick⟧ = (λ x_e: (λ y_e: Kick_<(e,e),t>(y_e, x_e)))\n",
       "⟦talk_to⟧ = (λ x_e: (λ y_e: Talkto_<(e,e),t>(y_e, x_e)))\n",
       "⟦visit⟧ = (λ x_e: Visit_<e,t>(x_e))\n",
       "⟦met⟧ = (λ x_e: (λ y_e: Meet_<(e,e),t>(y_e, x_e)))"
      ]
     },
     "metadata": {},
     "output_type": "display_data"
    }
   ],
   "source": [
    "%%lamb\n",
    "||Alfonso|| = a_e\n",
    "||Joanna|| = j_e\n",
    "||book|| = L x_e : Book_<e,t>(x)\n",
    "||chair|| = L x_e : Chair_<e,t>(x)\n",
    "||borrowed|| = L x_e : L y_e : Borrow(y,x)\n",
    "||kick|| = L x_e : L y_e : Kick(y,x)\n",
    "||talk to|| = L x_e : L y_e : Talkto(y,x)\n",
    "||visit|| = L x_e  : Visit(x)\n",
    "||met|| = L x_e  : L y_e : Meet(y,x)"
   ]
  },
  {
   "cell_type": "markdown",
   "metadata": {},
   "source": [
    "The following cell defines a presuppositional entry `the`.  By using the `IotaPartial` operator, we can ensure that uniqueness presuppositions are introduced whenever the iota operator is used. (These presuppositions are not inserted until this entry is used in semantic composition, see below.)"
   ]
  },
  {
   "cell_type": "code",
   "execution_count": 4,
   "metadata": {},
   "outputs": [
    {
     "data": {
      "text/markdown": [
       "${c}_{\\left\\{e\\right\\}}\\:=\\:{c}_{\\left\\{e\\right\\}}$<br />\n",
       "$[\\![\\text{\\textbf{the}}]\\!]^{}_{\\left\\langle{}\\left\\langle{}e,t\\right\\rangle{},e\\right\\rangle{}} \\:=\\: \\lambda{} f_{\\left\\langle{}e,t\\right\\rangle{}} \\: . \\: \\iota{} x_{e} \\: . \\: ({f}({x}) \\wedge{} ({x} \\in{} {c}_{\\left\\{e\\right\\}}))$"
      ],
      "text/plain": [
       "c_{e} = c_{e}\n",
       "⟦the⟧ = (λ f_<e,t>: (IotaPartial x_e: (f_<e,t>(x_e) & (x_e << c_{e}))))"
      ]
     },
     "metadata": {},
     "output_type": "display_data"
    }
   ],
   "source": [
    "%%lamb\n",
    "c_{e} = c_{e}\n",
    "||the|| = L f_<e,t> : IotaPartial x_e : (f(x) & x << c)"
   ]
  },
  {
   "cell_type": "markdown",
   "metadata": {},
   "source": [
    "Part [a]: In the following blank cell, calculate using `*` the truth-conditions of:\n",
    "\n",
    "    (4) Alfonso borrowed the book.\n"
   ]
  },
  {
   "cell_type": "code",
   "execution_count": 5,
   "metadata": {},
   "outputs": [
    {
     "data": {
      "text/markdown": [
       "1 composition path.  Result:<br />\n",
       "&nbsp;&nbsp;&nbsp;&nbsp;[0]: $[\\![\\text{\\textbf{[Alfonso [borrowed [the book]]]}}]\\!]^{}_{t} \\:=\\: \\left|\\begin{array}{l}{Borrow}({a}_{e}, \\iota{} x_{e} \\: . \\: ({Book}({x}) \\wedge{} ({x} \\in{} {c}_{\\left\\{e\\right\\}})))\\\\\\exists{}! x_{e} \\: . \\: ({Book}({x}) \\wedge{} ({x} \\in{} {c}_{\\left\\{e\\right\\}}))\\end{array}\\right|$"
      ],
      "text/plain": [
       "1 composition path.  Result:\n",
       "    [0]: ⟦Alfonso⟧ * ⟦[borrowed [the book]]⟧ leads to: ⟦[Alfonso [borrowed [the book]]]⟧ = (Borrow_<(e,e),t>(a_e, (ι x_e: (Book_<e,t>(x_e) & (x_e << c_{e})))) Partial (ExistsExact x_e: (Book_<e,t>(x_e) & (x_e << c_{e})))) [by FA]"
      ]
     },
     "metadata": {},
     "output_type": "display_data"
    }
   ],
   "source": [
    "# composition here\n",
    "Alfonso * (borrowed * (the * book))"
   ]
  },
  {
   "cell_type": "code",
   "execution_count": 6,
   "metadata": {},
   "outputs": [
    {
     "name": "stdout",
     "output_type": "stream",
     "text": [
      "INFO (core): Coerced guessed type for 'MotherOf_t' into <(e,e),t>, to match argument '(y_e, x_e)'\n",
      "INFO (core): Coerced guessed type for 'SisterOf_t' into <(e,e),t>, to match argument '(y_e, x_e)'\n"
     ]
    },
    {
     "data": {
      "text/markdown": [
       "$[\\![\\text{\\textbf{mother}}]\\!]^{}_{\\left\\langle{}e,\\left\\langle{}e,t\\right\\rangle{}\\right\\rangle{}} \\:=\\: \\lambda{} x_{e} \\: . \\: \\lambda{} y_{e} \\: . \\: {MotherOf}({y}, {x})$<br />\n",
       "$[\\![\\text{\\textbf{sister}}]\\!]^{}_{\\left\\langle{}e,\\left\\langle{}e,t\\right\\rangle{}\\right\\rangle{}} \\:=\\: \\lambda{} x_{e} \\: . \\: \\lambda{} y_{e} \\: . \\: {SisterOf}({y}, {x})$"
      ],
      "text/plain": [
       "⟦mother⟧ = (λ x_e: (λ y_e: MotherOf_<(e,e),t>(y_e, x_e)))\n",
       "⟦sister⟧ = (λ x_e: (λ y_e: SisterOf_<(e,e),t>(y_e, x_e)))"
      ]
     },
     "metadata": {},
     "output_type": "display_data"
    }
   ],
   "source": [
    "%%lamb\n",
    "||mother|| = L x_e : L y_e : MotherOf(y,x) # arguments should probably be reversed but it doesn't matter so much for this problem\n",
    "||sister|| = L x_e : L y_e : SisterOf(y,x)"
   ]
  },
  {
   "cell_type": "code",
   "execution_count": 7,
   "metadata": {},
   "outputs": [
    {
     "name": "stdout",
     "output_type": "stream",
     "text": [
      "INFO (core): Coerced guessed type for 'Owns_t' into <(e,e),t>, to match argument '(x_e, y_e)'\n"
     ]
    },
    {
     "data": {
      "text/markdown": [
       "$[\\![\\text{\\textbf{POSS}}]\\!]^{}_{\\left\\langle{}\\left\\langle{}e,\\left\\langle{}e,t\\right\\rangle{}\\right\\rangle{},\\left\\langle{}e,e\\right\\rangle{}\\right\\rangle{}} \\:=\\: \\lambda{} f_{\\left\\langle{}e,\\left\\langle{}e,t\\right\\rangle{}\\right\\rangle{}} \\: . \\: \\lambda{} x_{e} \\: . \\: \\iota{} y_{e} \\: . \\: ({f}({x})({y}) \\wedge{} ({y} \\in{} {c}_{\\left\\{e\\right\\}}))$<br />\n",
       "$[\\![\\text{\\textbf{POSS2}}]\\!]^{}_{\\left\\langle{}\\left\\langle{}e,t\\right\\rangle{},\\left\\langle{}e,e\\right\\rangle{}\\right\\rangle{}} \\:=\\: \\lambda{} f_{\\left\\langle{}e,t\\right\\rangle{}} \\: . \\: \\lambda{} x_{e} \\: . \\: \\iota{} y_{e} \\: . \\: (({Owns}({x}, {y}) \\wedge{} {f}({y})) \\wedge{} ({y} \\in{} {c}_{\\left\\{e\\right\\}}))$"
      ],
      "text/plain": [
       "⟦POSS⟧ = (λ f_<e,<e,t>>: (λ x_e: (IotaPartial y_e: (f_<e,<e,t>>(x_e)(y_e) & (y_e << c_{e})))))\n",
       "⟦POSS2⟧ = (λ f_<e,t>: (λ x_e: (IotaPartial y_e: ((Owns_<(e,e),t>(x_e, y_e) & f_<e,t>(y_e)) & (y_e << c_{e})))))"
      ]
     },
     "metadata": {},
     "output_type": "display_data"
    }
   ],
   "source": [
    "%%lamb\n",
    "#solution 1: ambiguous POSS\n",
    "||POSS|| = L f_<e,<e,t>> : L x_e : IotaPartial y_e : f(x)(y)  & y << c\n",
    "||POSS2|| = L f_<e,t> : L x_e : IotaPartial y_e : Owns(x,y) & f(y) & y << c"
   ]
  },
  {
   "cell_type": "code",
   "execution_count": 8,
   "metadata": {},
   "outputs": [
    {
     "data": {
      "text/markdown": [
       "1 composition path.  Result:<br />\n",
       "&nbsp;&nbsp;&nbsp;&nbsp;[0]: $[\\![\\text{\\textbf{[Joanna [POSS2 chair]]}}]\\!]^{}_{e} \\:=\\: \\left|\\begin{array}{l}\\iota{} y_{e} \\: . \\: (({Owns}({j}_{e}, {y}) \\wedge{} {Chair}({y})) \\wedge{} ({y} \\in{} {c}_{\\left\\{e\\right\\}}))\\\\\\exists{}! y_{e} \\: . \\: (({Owns}({j}_{e}, {y}) \\wedge{} {Chair}({y})) \\wedge{} ({y} \\in{} {c}_{\\left\\{e\\right\\}}))\\end{array}\\right|$"
      ],
      "text/plain": [
       "1 composition path.  Result:\n",
       "    [0]: ⟦Joanna⟧ * ⟦[POSS2 chair]⟧ leads to: ⟦[Joanna [POSS2 chair]]⟧ = ((ι y_e: ((Owns_<(e,e),t>(j_e, y_e) & Chair_<e,t>(y_e)) & (y_e << c_{e}))) Partial (ExistsExact y_e: ((Owns_<(e,e),t>(j_e, y_e) & Chair_<e,t>(y_e)) & (y_e << c_{e})))) [by FA]"
      ]
     },
     "metadata": {},
     "output_type": "display_data"
    }
   ],
   "source": [
    "Joanna * (POSS2 * chair)"
   ]
  },
  {
   "cell_type": "code",
   "execution_count": 9,
   "metadata": {},
   "outputs": [
    {
     "data": {
      "text/markdown": [
       "1 composition path.  Result:<br />\n",
       "&nbsp;&nbsp;&nbsp;&nbsp;[0]: $[\\![\\text{\\textbf{[Joanna [POSS sister]]}}]\\!]^{}_{e} \\:=\\: \\left|\\begin{array}{l}\\iota{} y_{e} \\: . \\: ({SisterOf}({y}, {j}_{e}) \\wedge{} ({y} \\in{} {c}_{\\left\\{e\\right\\}}))\\\\\\exists{}! y_{e} \\: . \\: ({SisterOf}({y}, {j}_{e}) \\wedge{} ({y} \\in{} {c}_{\\left\\{e\\right\\}}))\\end{array}\\right|$"
      ],
      "text/plain": [
       "1 composition path.  Result:\n",
       "    [0]: ⟦Joanna⟧ * ⟦[POSS sister]⟧ leads to: ⟦[Joanna [POSS sister]]⟧ = ((ι y_e: (SisterOf_<(e,e),t>(y_e, j_e) & (y_e << c_{e}))) Partial (ExistsExact y_e: (SisterOf_<(e,e),t>(y_e, j_e) & (y_e << c_{e})))) [by FA]"
      ]
     },
     "metadata": {},
     "output_type": "display_data"
    }
   ],
   "source": [
    "Joanna * (POSS * sister)"
   ]
  },
  {
   "cell_type": "code",
   "execution_count": 10,
   "metadata": {},
   "outputs": [
    {
     "data": {
      "text/markdown": [
       "1 composition path.  Result:<br />\n",
       "&nbsp;&nbsp;&nbsp;&nbsp;[0]: $[\\![\\text{\\textbf{[Alfonso [met [Joanna [POSS sister]]]]}}]\\!]^{}_{t} \\:=\\: \\left|\\begin{array}{l}{Meet}({a}_{e}, \\iota{} y_{e} \\: . \\: ({SisterOf}({y}, {j}_{e}) \\wedge{} ({y} \\in{} {c}_{\\left\\{e\\right\\}})))\\\\\\exists{}! y_{e} \\: . \\: ({SisterOf}({y}, {j}_{e}) \\wedge{} ({y} \\in{} {c}_{\\left\\{e\\right\\}}))\\end{array}\\right|$"
      ],
      "text/plain": [
       "1 composition path.  Result:\n",
       "    [0]: ⟦Alfonso⟧ * ⟦[met [Joanna [POSS sister]]]⟧ leads to: ⟦[Alfonso [met [Joanna [POSS sister]]]]⟧ = (Meet_<(e,e),t>(a_e, (ι y_e: (SisterOf_<(e,e),t>(y_e, j_e) & (y_e << c_{e})))) Partial (ExistsExact y_e: (SisterOf_<(e,e),t>(y_e, j_e) & (y_e << c_{e})))) [by FA]"
      ]
     },
     "metadata": {},
     "output_type": "display_data"
    }
   ],
   "source": [
    "Alfonso * (met * (Joanna * (POSS * sister)))"
   ]
  },
  {
   "cell_type": "code",
   "execution_count": null,
   "metadata": {},
   "outputs": [],
   "source": []
  },
  {
   "cell_type": "markdown",
   "metadata": {},
   "source": [
    "One alternative version would be to use movement to simplify the relational case. The idea is that the possessor moves from a deep structure position that is analogous to \"sister of Joanna\"."
   ]
  },
  {
   "cell_type": "code",
   "execution_count": 11,
   "metadata": {},
   "outputs": [
    {
     "data": {
      "text/markdown": [
       "$[\\![\\text{\\textbf{POSS3}}]\\!]^{}_{\\left\\langle{}\\left\\langle{}e,t\\right\\rangle{},e\\right\\rangle{}} \\:=\\: \\lambda{} f_{\\left\\langle{}e,t\\right\\rangle{}} \\: . \\: \\iota{} x_{e} \\: . \\: ({f}({x}) \\wedge{} ({x} \\in{} {c}_{\\left\\{e\\right\\}}))$"
      ],
      "text/plain": [
       "⟦POSS3⟧ = (λ f_<e,t>: (IotaPartial x_e: (f_<e,t>(x_e) & (x_e << c_{e}))))"
      ]
     },
     "metadata": {},
     "output_type": "display_data"
    }
   ],
   "source": [
    "%%lamb\n",
    "||POSS3|| = L f_<e,t> : IotaPartial x_e : (f(x) & x << c) # same as ||the||"
   ]
  },
  {
   "cell_type": "code",
   "execution_count": 23,
   "metadata": {},
   "outputs": [
    {
     "data": {
      "text/html": [
       "1 composition path:<br /><div align=\"center\" style=\"display:table; margin:5px; border-collapse: collapse;border: 1px solid #848482;\"><div align=\"center\" style=\"display:table-row;border-bottom:1px solid #848482\"><div style=\"display:table-cell;vertical-align:middle;\"><div style=\"display: table;\"><div style=\"display:table-cell;vertical-align:middle;padding-left:5px;padding-right:5px;padding-top:5px;padding-bottom:5px;\"><div align=\"center\" style=\"display:block;padding-left:5px;padding-right:5px;padding-top:5px;padding-bottom:5px;\"><div style=\"display:table;table-layout:auto;\" align=\"center\"><div style=\"display:table-row;\"><div style=\"display:table-cell;padding-right:2px; padding-left:2px;\" align=\"center\"><div style=\"display:inline-block;\"><span>$[\\![\\text{\\textbf{POSS3}}]\\!]^{}_{\\left\\langle{}\\left\\langle{}e,t\\right\\rangle{},e\\right\\rangle{}}$</span></div></div></div><div style=\"display:table-row;\"><div style=\"display:table-cell;padding-right:2px; padding-left:2px;\" align=\"center\"><div style=\"display:inline-block;\"><span>$\\lambda{} f_{\\left\\langle{}e,t\\right\\rangle{}} \\: . \\: \\iota{} x_{e} \\: . \\: ({f}({x}) \\wedge{} ({x} \\in{} {c}_{\\left\\{e\\right\\}}))$</span></div></div></div></div></div></div><div style=\"align: center; vertical-align: middle; display: table-cell;\"><span style=\"padding:1em;\">*</span></div><div style=\"display:table-cell;vertical-align:middle;padding-left:5px;padding-right:5px;padding-top:5px;padding-bottom:5px;\"><div align=\"center\" style=\"display:table; margin:5px; border-collapse: collapse;border: 1px solid #848482;\"><div align=\"center\" style=\"display:table-row;border-bottom:1px solid #848482\"><div style=\"display:table-cell;vertical-align:middle;\"><div style=\"display: table;\"><div style=\"display:table-cell;vertical-align:middle;padding-left:5px;padding-right:5px;padding-top:5px;padding-bottom:5px;\"><div align=\"center\" style=\"display:block;padding-left:5px;padding-right:5px;padding-top:5px;padding-bottom:5px;\"><div style=\"display:table;table-layout:auto;\" align=\"center\"><div style=\"display:table-row;\"><div style=\"display:table-cell;padding-right:2px; padding-left:2px;\" align=\"center\"><div style=\"display:inline-block;\"><span>$[\\![\\text{\\textbf{sister}}]\\!]^{}_{\\left\\langle{}e,\\left\\langle{}e,t\\right\\rangle{}\\right\\rangle{}}$</span></div></div></div><div style=\"display:table-row;\"><div style=\"display:table-cell;padding-right:2px; padding-left:2px;\" align=\"center\"><div style=\"display:inline-block;\"><span>$\\lambda{} x_{e} \\: . \\: \\lambda{} y_{e} \\: . \\: {SisterOf}({y}, {x})$</span></div></div></div></div></div></div><div style=\"align: center; vertical-align: middle; display: table-cell;\"><span style=\"padding:1em;\">*</span></div><div style=\"display:table-cell;vertical-align:middle;padding-left:5px;padding-right:5px;padding-top:5px;padding-bottom:5px;\"><div align=\"center\" style=\"display:block;padding-left:5px;padding-right:5px;padding-top:5px;padding-bottom:5px;\"><div style=\"display:table;table-layout:auto;\" align=\"center\"><div style=\"display:table-row;\"><div style=\"display:table-cell;padding-right:2px; padding-left:2px;\" align=\"center\"><div style=\"display:inline-block;\"><span>$[\\![\\text{\\textbf{Joanna}}]\\!]^{}_{e}$</span></div></div></div><div style=\"display:table-row;\"><div style=\"display:table-cell;padding-right:2px; padding-left:2px;\" align=\"center\"><div style=\"display:inline-block;\"><span>${j}_{e}$</span></div></div></div></div></div></div></div></div><div style=\"display:table-cell;vertical-align:middle;border-left:1px solid #848482;padding:0.5em\"><div style=\"white-space:nowrap; color:blue;\"><b>[<span>FA</span>]</b></div></div></div><div align=\"center\" style=\"display:table-row;padding-left:5px;padding-right:5px;padding-top:5px;padding-bottom:5px;\"><div align=\"center\" style=\"display:table-cell;\"><div align=\"center\" style=\"display:block;padding-left:5px;padding-right:5px;padding-top:5px;padding-bottom:5px;\"><div style=\"display:table;table-layout:auto;\" align=\"center\"><div style=\"display:table-row;\"><div style=\"display:table-cell;padding-right:2px; padding-left:2px;\" align=\"center\"><div style=\"display:inline-block;\"><span>$[\\![\\text{\\textbf{[sister Joanna]}}]\\!]^{}_{\\left\\langle{}e,t\\right\\rangle{}}$</span></div></div></div><div style=\"display:table-row;\"><div style=\"display:table-cell;padding-right:2px; padding-left:2px;\" align=\"center\"><div style=\"display:inline-block;\"><span>$\\lambda{} y_{e} \\: . \\: {SisterOf}({y}, {j}_{e})$</span></div></div></div></div></div></div><div style=\"display:table-cell;\"></div></div></div></div></div></div><div style=\"display:table-cell;vertical-align:middle;border-left:1px solid #848482;padding:0.5em\"><div style=\"white-space:nowrap; color:blue;\"><b>[<span>FA</span>]</b></div></div></div><div align=\"center\" style=\"display:table-row;padding-left:5px;padding-right:5px;padding-top:5px;padding-bottom:5px;\"><div align=\"center\" style=\"display:table-cell;\"><div align=\"center\" style=\"display:block;padding-left:5px;padding-right:5px;padding-top:5px;padding-bottom:5px;\"><div style=\"display:table;table-layout:auto;\" align=\"center\"><div style=\"display:table-row;\"><div style=\"display:table-cell;padding-right:2px; padding-left:2px;\" align=\"center\"><div style=\"display:inline-block;\"><span>$[\\![\\text{\\textbf{[POSS3 [sister Joanna]]}}]\\!]^{}_{e}$</span></div></div></div><div style=\"display:table-row;\"><div style=\"display:table-cell;padding-right:2px; padding-left:2px;\" align=\"center\"><div style=\"display:inline-block;\"><span>$\\left|\\begin{array}{l}\\iota{} x_{e} \\: . \\: ({SisterOf}({x}, {j}_{e}) \\wedge{} ({x} \\in{} {c}_{\\left\\{e\\right\\}}))\\\\\\exists{}! x_{e} \\: . \\: ({SisterOf}({x}, {j}_{e}) \\wedge{} ({x} \\in{} {c}_{\\left\\{e\\right\\}}))\\end{array}\\right|$</span></div></div></div></div></div></div><div style=\"display:table-cell;\"></div></div></div><br /><br />"
      ],
      "text/plain": [
       "1 composition path:<br /><div align=\"center\" style=\"display:table; margin:5px; border-collapse: collapse;border: 1px solid #848482;\"><div align=\"center\" style=\"display:table-row;border-bottom:1px solid #848482\"><div style=\"display:table-cell;vertical-align:middle;\"><div style=\"display: table;\"><div style=\"display:table-cell;vertical-align:middle;padding-left:5px;padding-right:5px;padding-top:5px;padding-bottom:5px;\"><div align=\"center\" style=\"display:block;padding-left:5px;padding-right:5px;padding-top:5px;padding-bottom:5px;\"><div style=\"display:table;table-layout:auto;\" align=\"center\"><div style=\"display:table-row;\"><div style=\"display:table-cell;padding-right:2px; padding-left:2px;\" align=\"center\"><div style=\"display:inline-block;\"><span>$[\\![\\text{\\textbf{POSS3}}]\\!]^{}_{\\left\\langle{}\\left\\langle{}e,t\\right\\rangle{},e\\right\\rangle{}}$</span></div></div></div><div style=\"display:table-row;\"><div style=\"display:table-cell;padding-right:2px; padding-left:2px;\" align=\"center\"><div style=\"display:inline-block;\"><span>$\\lambda{} f_{\\left\\langle{}e,t\\right\\rangle{}} \\: . \\: \\iota{} x_{e} \\: . \\: ({f}({x}) \\wedge{} ({x} \\in{} {c}_{\\left\\{e\\right\\}}))$</span></div></div></div></div></div></div><div style=\"align: center; vertical-align: middle; display: table-cell;\"><span style=\"padding:1em;\">*</span></div><div style=\"display:table-cell;vertical-align:middle;padding-left:5px;padding-right:5px;padding-top:5px;padding-bottom:5px;\"><div align=\"center\" style=\"display:table; margin:5px; border-collapse: collapse;border: 1px solid #848482;\"><div align=\"center\" style=\"display:table-row;border-bottom:1px solid #848482\"><div style=\"display:table-cell;vertical-align:middle;\"><div style=\"display: table;\"><div style=\"display:table-cell;vertical-align:middle;padding-left:5px;padding-right:5px;padding-top:5px;padding-bottom:5px;\"><div align=\"center\" style=\"display:block;padding-left:5px;padding-right:5px;padding-top:5px;padding-bottom:5px;\"><div style=\"display:table;table-layout:auto;\" align=\"center\"><div style=\"display:table-row;\"><div style=\"display:table-cell;padding-right:2px; padding-left:2px;\" align=\"center\"><div style=\"display:inline-block;\"><span>$[\\![\\text{\\textbf{sister}}]\\!]^{}_{\\left\\langle{}e,\\left\\langle{}e,t\\right\\rangle{}\\right\\rangle{}}$</span></div></div></div><div style=\"display:table-row;\"><div style=\"display:table-cell;padding-right:2px; padding-left:2px;\" align=\"center\"><div style=\"display:inline-block;\"><span>$\\lambda{} x_{e} \\: . \\: \\lambda{} y_{e} \\: . \\: {SisterOf}({y}, {x})$</span></div></div></div></div></div></div><div style=\"align: center; vertical-align: middle; display: table-cell;\"><span style=\"padding:1em;\">*</span></div><div style=\"display:table-cell;vertical-align:middle;padding-left:5px;padding-right:5px;padding-top:5px;padding-bottom:5px;\"><div align=\"center\" style=\"display:block;padding-left:5px;padding-right:5px;padding-top:5px;padding-bottom:5px;\"><div style=\"display:table;table-layout:auto;\" align=\"center\"><div style=\"display:table-row;\"><div style=\"display:table-cell;padding-right:2px; padding-left:2px;\" align=\"center\"><div style=\"display:inline-block;\"><span>$[\\![\\text{\\textbf{Joanna}}]\\!]^{}_{e}$</span></div></div></div><div style=\"display:table-row;\"><div style=\"display:table-cell;padding-right:2px; padding-left:2px;\" align=\"center\"><div style=\"display:inline-block;\"><span>${j}_{e}$</span></div></div></div></div></div></div></div></div><div style=\"display:table-cell;vertical-align:middle;border-left:1px solid #848482;padding:0.5em\"><div style=\"white-space:nowrap; color:blue;\"><b>[<span>FA</span>]</b></div></div></div><div align=\"center\" style=\"display:table-row;padding-left:5px;padding-right:5px;padding-top:5px;padding-bottom:5px;\"><div align=\"center\" style=\"display:table-cell;\"><div align=\"center\" style=\"display:block;padding-left:5px;padding-right:5px;padding-top:5px;padding-bottom:5px;\"><div style=\"display:table;table-layout:auto;\" align=\"center\"><div style=\"display:table-row;\"><div style=\"display:table-cell;padding-right:2px; padding-left:2px;\" align=\"center\"><div style=\"display:inline-block;\"><span>$[\\![\\text{\\textbf{[sister Joanna]}}]\\!]^{}_{\\left\\langle{}e,t\\right\\rangle{}}$</span></div></div></div><div style=\"display:table-row;\"><div style=\"display:table-cell;padding-right:2px; padding-left:2px;\" align=\"center\"><div style=\"display:inline-block;\"><span>$\\lambda{} y_{e} \\: . \\: {SisterOf}({y}, {j}_{e})$</span></div></div></div></div></div></div><div style=\"display:table-cell;\"></div></div></div></div></div></div><div style=\"display:table-cell;vertical-align:middle;border-left:1px solid #848482;padding:0.5em\"><div style=\"white-space:nowrap; color:blue;\"><b>[<span>FA</span>]</b></div></div></div><div align=\"center\" style=\"display:table-row;padding-left:5px;padding-right:5px;padding-top:5px;padding-bottom:5px;\"><div align=\"center\" style=\"display:table-cell;\"><div align=\"center\" style=\"display:block;padding-left:5px;padding-right:5px;padding-top:5px;padding-bottom:5px;\"><div style=\"display:table;table-layout:auto;\" align=\"center\"><div style=\"display:table-row;\"><div style=\"display:table-cell;padding-right:2px; padding-left:2px;\" align=\"center\"><div style=\"display:inline-block;\"><span>$[\\![\\text{\\textbf{[POSS3 [sister Joanna]]}}]\\!]^{}_{e}$</span></div></div></div><div style=\"display:table-row;\"><div style=\"display:table-cell;padding-right:2px; padding-left:2px;\" align=\"center\"><div style=\"display:inline-block;\"><span>$\\left|\\begin{array}{l}\\iota{} x_{e} \\: . \\: ({SisterOf}({x}, {j}_{e}) \\wedge{} ({x} \\in{} {c}_{\\left\\{e\\right\\}}))\\\\\\exists{}! x_{e} \\: . \\: ({SisterOf}({x}, {j}_{e}) \\wedge{} ({x} \\in{} {c}_{\\left\\{e\\right\\}}))\\end{array}\\right|$</span></div></div></div></div></div></div><div style=\"display:table-cell;\"></div></div></div><br /><br />"
      ]
     },
     "execution_count": 23,
     "metadata": {},
     "output_type": "execute_result"
    }
   ],
   "source": [
    "(POSS3 * (sister * Joanna)).tree()"
   ]
  },
  {
   "cell_type": "markdown",
   "metadata": {},
   "source": [
    "To handle a non-relational noun, as in \"Joanna's book\", we need to do something a bit different. One idea is to type-shift something of type `<e,t>` to a relation, using an ownership predicate of the kind found in POSS2:"
   ]
  },
  {
   "cell_type": "code",
   "execution_count": 24,
   "metadata": {},
   "outputs": [
    {
     "name": "stdout",
     "output_type": "stream",
     "text": [
      "INFO (core): Coerced guessed type for 'Own_t' into <(e,e),t>, to match argument '(x_e, y_e)'\n"
     ]
    },
    {
     "data": {
      "text/markdown": [
       "$[\\![\\text{\\textbf{LIFT}}]\\!]^{}_{\\left\\langle{}\\left\\langle{}e,t\\right\\rangle{},\\left\\langle{}e,\\left\\langle{}e,t\\right\\rangle{}\\right\\rangle{}\\right\\rangle{}} \\:=\\: \\lambda{} f_{\\left\\langle{}e,t\\right\\rangle{}} \\: . \\: \\lambda{} x_{e} \\: . \\: \\lambda{} y_{e} \\: . \\: ({Own}({x}, {y}) \\wedge{} {f}({y}))$"
      ],
      "text/plain": [
       "⟦LIFT⟧ = (λ f_<e,t>: (λ x_e: (λ y_e: (Own_<(e,e),t>(x_e, y_e) & f_<e,t>(y_e)))))"
      ]
     },
     "metadata": {},
     "output_type": "display_data"
    },
    {
     "data": {
      "text/markdown": [
       "1 composition path.  Result:<br />\n",
       "&nbsp;&nbsp;&nbsp;&nbsp;[0]: $[\\![\\text{\\textbf{[POSS3 [[LIFT book] Joanna]]}}]\\!]^{}_{e} \\:=\\: \\left|\\begin{array}{l}\\iota{} x_{e} \\: . \\: (({Own}({j}_{e}, {x}) \\wedge{} {Book}({x})) \\wedge{} ({x} \\in{} {c}_{\\left\\{e\\right\\}}))\\\\\\exists{}! x_{e} \\: . \\: (({Own}({j}_{e}, {x}) \\wedge{} {Book}({x})) \\wedge{} ({x} \\in{} {c}_{\\left\\{e\\right\\}}))\\end{array}\\right|$"
      ],
      "text/plain": [
       "1 composition path.  Result:\n",
       "    [0]: ⟦POSS3⟧ * ⟦[[LIFT book] Joanna]⟧ leads to: ⟦[POSS3 [[LIFT book] Joanna]]⟧ = ((ι x_e: ((Own_<(e,e),t>(j_e, x_e) & Book_<e,t>(x_e)) & (x_e << c_{e}))) Partial (ExistsExact x_e: ((Own_<(e,e),t>(j_e, x_e) & Book_<e,t>(x_e)) & (x_e << c_{e})))) [by FA]"
      ]
     },
     "metadata": {},
     "output_type": "display_data"
    }
   ],
   "source": [
    "%lamb ||LIFT|| = L f_<e,t> : L x_e : L y_e : Own(x,y) & f(y)\n",
    "POSS3 * ((LIFT * book) * Joanna)"
   ]
  },
  {
   "cell_type": "markdown",
   "metadata": {},
   "source": [
    "To round things out, here are derivations for two more complete sentences:\n",
    "\n",
    "1. A doctor met Joanna's mother\n",
    "2. Every student's sister visited"
   ]
  },
  {
   "cell_type": "code",
   "execution_count": 14,
   "metadata": {},
   "outputs": [
    {
     "name": "stdout",
     "output_type": "stream",
     "text": [
      "INFO (core): Coerced guessed type for 'Doctor_t' into <e,t>, to match argument 'x_e'\n",
      "INFO (core): Coerced guessed type for 'Met_t' into <(e,e),t>, to match argument '(y_e, x_e)'\n"
     ]
    },
    {
     "data": {
      "text/markdown": [
       "$[\\![\\text{\\textbf{a}}]\\!]^{}_{\\left\\langle{}\\left\\langle{}e,t\\right\\rangle{},\\left\\langle{}\\left\\langle{}e,t\\right\\rangle{},t\\right\\rangle{}\\right\\rangle{}} \\:=\\: \\lambda{} f_{\\left\\langle{}e,t\\right\\rangle{}} \\: . \\: \\lambda{} g_{\\left\\langle{}e,t\\right\\rangle{}} \\: . \\: \\exists{} x_{e} \\: . \\: ({f}({x}) \\wedge{} {g}({x}))$<br />\n",
       "$[\\![\\text{\\textbf{doctor}}]\\!]^{}_{\\left\\langle{}e,t\\right\\rangle{}} \\:=\\: \\lambda{} x_{e} \\: . \\: {Doctor}({x})$<br />\n",
       "$[\\![\\text{\\textbf{met}}]\\!]^{}_{\\left\\langle{}e,\\left\\langle{}e,t\\right\\rangle{}\\right\\rangle{}} \\:=\\: \\lambda{} x_{e} \\: . \\: \\lambda{} y_{e} \\: . \\: {Met}({y}, {x})$"
      ],
      "text/plain": [
       "⟦a⟧ = (λ f_<e,t>: (λ g_<e,t>: (Exists x_e: (f_<e,t>(x_e) & g_<e,t>(x_e)))))\n",
       "⟦doctor⟧ = (λ x_e: Doctor_<e,t>(x_e))\n",
       "⟦met⟧ = (λ x_e: (λ y_e: Met_<(e,e),t>(y_e, x_e)))"
      ]
     },
     "metadata": {},
     "output_type": "display_data"
    }
   ],
   "source": [
    "%%lamb\n",
    "||a|| = L f_<e,t> : L g_<e,t> : Exists x_e : f(x) & g(x)\n",
    "||doctor|| = L x_e : Doctor(x)\n",
    "||met|| = L x_e : L y_e : Met(y,x)"
   ]
  },
  {
   "cell_type": "code",
   "execution_count": 15,
   "metadata": {},
   "outputs": [
    {
     "data": {
      "text/markdown": [
       "1 composition path.  Result:<br />\n",
       "&nbsp;&nbsp;&nbsp;&nbsp;[0]: $[\\![\\text{\\textbf{[[a doctor] [met [Joanna [POSS mother]]]]}}]\\!]^{}_{t} \\:=\\: \\left|\\begin{array}{l}\\exists{} x_{e} \\: . \\: ({Doctor}({x}) \\wedge{} {Met}({x}, \\iota{} y_{e} \\: . \\: ({MotherOf}({y}, {j}_{e}) \\wedge{} ({y} \\in{} {c}_{\\left\\{e\\right\\}}))))\\\\\\exists{}! y_{e} \\: . \\: ({MotherOf}({y}, {j}_{e}) \\wedge{} ({y} \\in{} {c}_{\\left\\{e\\right\\}}))\\end{array}\\right|$"
      ],
      "text/plain": [
       "1 composition path.  Result:\n",
       "    [0]: ⟦[a doctor]⟧ * ⟦[met [Joanna [POSS mother]]]⟧ leads to: ⟦[[a doctor] [met [Joanna [POSS mother]]]]⟧ = ((Exists x_e: (Doctor_<e,t>(x_e) & Met_<(e,e),t>(x_e, (ι y_e: (MotherOf_<(e,e),t>(y_e, j_e) & (y_e << c_{e})))))) Partial (ExistsExact y_e: (MotherOf_<(e,e),t>(y_e, j_e) & (y_e << c_{e})))) [by FA]"
      ]
     },
     "metadata": {},
     "output_type": "display_data"
    }
   ],
   "source": [
    "(a * doctor) * (met * (Joanna * (POSS * mother)))"
   ]
  },
  {
   "cell_type": "code",
   "execution_count": 16,
   "metadata": {},
   "outputs": [
    {
     "data": {
      "text/markdown": [
       "1 composition path.  Result:<br />\n",
       "&nbsp;&nbsp;&nbsp;&nbsp;[0]: $[\\![\\text{\\textbf{[[a doctor] [met [POSS3 [Joanna mother]]]]}}]\\!]^{}_{t} \\:=\\: \\left|\\begin{array}{l}\\exists{} x_{e} \\: . \\: ({Doctor}({x}) \\wedge{} {Met}({x}, \\iota{} x1_{e} \\: . \\: ({MotherOf}({x1}, {j}_{e}) \\wedge{} ({x1} \\in{} {c}_{\\left\\{e\\right\\}}))))\\\\\\exists{}! x1_{e} \\: . \\: ({MotherOf}({x1}, {j}_{e}) \\wedge{} ({x1} \\in{} {c}_{\\left\\{e\\right\\}}))\\end{array}\\right|$"
      ],
      "text/plain": [
       "1 composition path.  Result:\n",
       "    [0]: ⟦[a doctor]⟧ * ⟦[met [POSS3 [Joanna mother]]]⟧ leads to: ⟦[[a doctor] [met [POSS3 [Joanna mother]]]]⟧ = ((Exists x_e: (Doctor_<e,t>(x_e) & Met_<(e,e),t>(x_e, (ι x1_e: (MotherOf_<(e,e),t>(x1_e, j_e) & (x1_e << c_{e})))))) Partial (ExistsExact x1_e: (MotherOf_<(e,e),t>(x1_e, j_e) & (x1_e << c_{e})))) [by FA]"
      ]
     },
     "metadata": {},
     "output_type": "display_data"
    }
   ],
   "source": [
    "(a * doctor) * (met * (POSS3 * (Joanna * mother)))"
   ]
  },
  {
   "cell_type": "code",
   "execution_count": 17,
   "metadata": {},
   "outputs": [
    {
     "data": {
      "text/markdown": [
       "$[\\![\\text{\\textbf{every}}]\\!]^{}_{\\left\\langle{}\\left\\langle{}e,t\\right\\rangle{},\\left\\langle{}\\left\\langle{}e,t\\right\\rangle{},t\\right\\rangle{}\\right\\rangle{}} \\:=\\: \\lambda{} f_{\\left\\langle{}e,t\\right\\rangle{}} \\: . \\: \\lambda{} g_{\\left\\langle{}e,t\\right\\rangle{}} \\: . \\: \\forall{} x_{e} \\: . \\: ({f}({x}) \\rightarrow{} {g}({x}))$"
      ],
      "text/plain": [
       "⟦every⟧ = (λ f_<e,t>: (λ g_<e,t>: (Forall x_e: (f_<e,t>(x_e) >> g_<e,t>(x_e)))))"
      ]
     },
     "metadata": {},
     "output_type": "display_data"
    }
   ],
   "source": [
    "%%lamb\n",
    "||every|| = L f_<e,t> : L g_<e,t> : Forall x : f(x) >> g(x)"
   ]
  },
  {
   "cell_type": "code",
   "execution_count": 18,
   "metadata": {},
   "outputs": [
    {
     "data": {
      "text/markdown": [
       "1 composition path.  Result:<br />\n",
       "&nbsp;&nbsp;&nbsp;&nbsp;[0]: $[\\![\\text{\\textbf{[[every doctor] [3 [[t3 [POSS sister]] visit]]]}}]\\!]^{}_{t} \\:=\\: \\left|\\begin{array}{l}\\forall{} x_{e} \\: . \\: ({Doctor}({x}) \\rightarrow{} {Visit}(\\iota{} y_{e} \\: . \\: ({SisterOf}({y}, {x}) \\wedge{} ({y} \\in{} {c}_{\\left\\{e\\right\\}}))))\\\\\\forall{} x_{e} \\: . \\: \\exists{}! y_{e} \\: . \\: ({SisterOf}({y}, {x}) \\wedge{} ({y} \\in{} {c}_{\\left\\{e\\right\\}}))\\end{array}\\right|$"
      ],
      "text/plain": [
       "1 composition path.  Result:\n",
       "    [0]: ⟦[every doctor]⟧ * ⟦[3 [[t3 [POSS sister]] visit]]⟧ leads to: ⟦[[every doctor] [3 [[t3 [POSS sister]] visit]]]⟧ = ((Forall x_e: (Doctor_<e,t>(x_e) >> Visit_<e,t>((ι y_e: (SisterOf_<(e,e),t>(y_e, x_e) & (y_e << c_{e})))))) Partial (Forall x_e: (ExistsExact y_e: (SisterOf_<(e,e),t>(y_e, x_e) & (y_e << c_{e}))))) [by FA]"
      ]
     },
     "metadata": {},
     "output_type": "display_data"
    }
   ],
   "source": [
    "# Assume that `every doctor` has QRd\n",
    "(every * doctor) * (lang.Binder(3) * ((lang.Trace(3) * (POSS * sister)) * visit))"
   ]
  },
  {
   "cell_type": "code",
   "execution_count": 19,
   "metadata": {},
   "outputs": [
    {
     "data": {
      "text/markdown": [
       "1 composition path.  Result:<br />\n",
       "&nbsp;&nbsp;&nbsp;&nbsp;[0]: $[\\![\\text{\\textbf{[POSS sister]}}]\\!]^{}_{\\left\\langle{}e,e\\right\\rangle{}} \\:=\\: \\lambda{} x_{e} \\: . \\: \\iota{} y_{e} \\: . \\: ({SisterOf}({y}, {x}) \\wedge{} ({y} \\in{} {c}_{\\left\\{e\\right\\}}))$"
      ],
      "text/plain": [
       "1 composition path.  Result:\n",
       "    [0]: ⟦POSS⟧ * ⟦sister⟧ leads to: ⟦[POSS sister]⟧ = (λ x_e: (IotaPartial y_e: (SisterOf_<(e,e),t>(y_e, x_e) & (y_e << c_{e})))) [by FA]"
      ]
     },
     "metadata": {},
     "output_type": "display_data"
    }
   ],
   "source": [
    "POSS * sister"
   ]
  },
  {
   "cell_type": "markdown",
   "metadata": {},
   "source": [
    "There are a few other possible ways to go here; one idea might be to write another POSS entry (or several) that can handle quantificational possessors directly. Once you have this, you can type-lift referential possessors to the correct type. These get a bit hairy to write, but here is an example for the relational case:"
   ]
  },
  {
   "cell_type": "code",
   "execution_count": 20,
   "metadata": {},
   "outputs": [
    {
     "data": {
      "text/markdown": [
       "$[\\![\\text{\\textbf{POSS4}}]\\!]^{}_{\\left\\langle{}\\left\\langle{}e,\\left\\langle{}e,t\\right\\rangle{}\\right\\rangle{},\\left\\langle{}\\left\\langle{}\\left\\langle{}e,t\\right\\rangle{},t\\right\\rangle{},\\left\\langle{}\\left\\langle{}e,t\\right\\rangle{},t\\right\\rangle{}\\right\\rangle{}\\right\\rangle{}} \\:=\\: \\lambda{} f_{\\left\\langle{}e,\\left\\langle{}e,t\\right\\rangle{}\\right\\rangle{}} \\: . \\: \\lambda{} g_{\\left\\langle{}\\left\\langle{}e,t\\right\\rangle{},t\\right\\rangle{}} \\: . \\: \\lambda{} h_{\\left\\langle{}e,t\\right\\rangle{}} \\: . \\: {g}(\\lambda{} x_{e} \\: . \\: {h}(\\iota{} y_{e} \\: . \\: ({f}({x})({y}) \\wedge{} ({y} \\in{} {c}_{\\left\\{e\\right\\}}))))$"
      ],
      "text/plain": [
       "⟦POSS4⟧ = (λ f_<e,<e,t>>: (λ g_<<e,t>,t>: (λ h_<e,t>: g_<<e,t>,t>((λ x_e: h_<e,t>((IotaPartial y_e: (f_<e,<e,t>>(x_e)(y_e) & (y_e << c_{e})))))))))"
      ]
     },
     "metadata": {},
     "output_type": "display_data"
    }
   ],
   "source": [
    "%%lamb\n",
    "||POSS4|| = L f_<e,<e,t>> : L g_<<e,t>,t> : L h_<e,t> : g(L x_e : h(IotaPartial y_e : f(x)(y)  & y << c))\n"
   ]
  },
  {
   "cell_type": "code",
   "execution_count": 21,
   "metadata": {},
   "outputs": [
    {
     "data": {
      "text/markdown": [
       "1 composition path.  Result:<br />\n",
       "&nbsp;&nbsp;&nbsp;&nbsp;[0]: $[\\![\\text{\\textbf{[[[every doctor] [POSS4 sister]] visit]}}]\\!]^{}_{t} \\:=\\: \\left|\\begin{array}{l}\\forall{} x_{e} \\: . \\: ({Doctor}({x}) \\rightarrow{} {Visit}(\\iota{} y_{e} \\: . \\: ({SisterOf}({y}, {x}) \\wedge{} ({y} \\in{} {c}_{\\left\\{e\\right\\}}))))\\\\\\forall{} x_{e} \\: . \\: \\exists{}! y_{e} \\: . \\: ({SisterOf}({y}, {x}) \\wedge{} ({y} \\in{} {c}_{\\left\\{e\\right\\}}))\\end{array}\\right|$"
      ],
      "text/plain": [
       "1 composition path.  Result:\n",
       "    [0]: ⟦[[every doctor] [POSS4 sister]]⟧ * ⟦visit⟧ leads to: ⟦[[[every doctor] [POSS4 sister]] visit]⟧ = ((Forall x_e: (Doctor_<e,t>(x_e) >> Visit_<e,t>((ι y_e: (SisterOf_<(e,e),t>(y_e, x_e) & (y_e << c_{e})))))) Partial (Forall x_e: (ExistsExact y_e: (SisterOf_<(e,e),t>(y_e, x_e) & (y_e << c_{e}))))) [by FA]"
      ]
     },
     "metadata": {},
     "output_type": "display_data"
    }
   ],
   "source": [
    "((every * doctor) * (POSS4 * sister)) * visit"
   ]
  },
  {
   "cell_type": "code",
   "execution_count": null,
   "metadata": {},
   "outputs": [],
   "source": []
  },
  {
   "cell_type": "code",
   "execution_count": null,
   "metadata": {},
   "outputs": [],
   "source": []
  },
  {
   "cell_type": "code",
   "execution_count": null,
   "metadata": {},
   "outputs": [],
   "source": []
  }
 ],
 "metadata": {
  "kernelspec": {
   "display_name": "Lambda Notebook (Python 3)",
   "language": "python",
   "name": "lambda-notebook"
  },
  "language_info": {
   "codemirror_mode": {
    "name": "ipython",
    "version": 3
   },
   "file_extension": ".py",
   "mimetype": "text/x-python",
   "name": "python",
   "nbconvert_exporter": "python",
   "pygments_lexer": "ipython3",
   "version": "3.11.6"
  }
 },
 "nbformat": 4,
 "nbformat_minor": 4
}
