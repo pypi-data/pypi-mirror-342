{
 "cells": [
  {
   "cell_type": "markdown",
   "id": "2d7b5a4a-43ec-4897-b961-a17640b70a86",
   "metadata": {},
   "source": [
    "# Class examples for semantics 1, 10/4/23"
   ]
  },
  {
   "cell_type": "markdown",
   "id": "758ab851-7204-47cf-84c2-03ace3ac156f",
   "metadata": {},
   "source": [
    "## Some quick examples of function-argument expression types"
   ]
  },
  {
   "cell_type": "markdown",
   "id": "b3177a57-f05f-4db4-b428-2eb0ab2d3db7",
   "metadata": {},
   "source": [
    "What's the type of the following?"
   ]
  },
  {
   "cell_type": "code",
   "execution_count": null,
   "id": "f56bd695-1c2a-46a8-b76a-153eddb5daef",
   "metadata": {},
   "outputs": [],
   "source": [
    "%te ((L f_<<e,e>,<e,e>> : L g_<e,e> : L x_e : (f(g))(x))(L h_<e,e> : h))(L i_e : i)"
   ]
  },
  {
   "cell_type": "code",
   "execution_count": null,
   "id": "4f787034-3656-400f-8f50-ee89cff943ad",
   "metadata": {},
   "outputs": [],
   "source": [
    "f = %te reduce ((L f_<<e,e>,<e,e>> : L g_<e,e> : L x_e : (f(g))(x))(L h_<e,e> : h))(L i_e : i)\n",
    "f.derivation.trace()"
   ]
  },
  {
   "cell_type": "markdown",
   "id": "7f770251-2a16-45e6-9d18-71fd50be93fb",
   "metadata": {},
   "source": [
    "A bit simpler:"
   ]
  },
  {
   "cell_type": "code",
   "execution_count": null,
   "id": "dc4b97a6-d49f-4d22-af18-a6e979f3dd14",
   "metadata": {},
   "outputs": [],
   "source": [
    "%te (L x_e : x)(A_e)"
   ]
  },
  {
   "cell_type": "markdown",
   "id": "7cd0f0b9-534c-4ca5-b617-8f60af685ad7",
   "metadata": {},
   "source": [
    "A python comparison point:"
   ]
  },
  {
   "cell_type": "code",
   "execution_count": null,
   "id": "52a4190b-e32c-49a3-863b-b60e67543c2f",
   "metadata": {},
   "outputs": [],
   "source": [
    "def length(s):\n",
    "    return len(s)\n",
    "\n",
    "length(\"hello\") # what is the type of this expression?"
   ]
  },
  {
   "cell_type": "markdown",
   "id": "9bdf8855-325b-4d66-ae56-0bd958f79e69",
   "metadata": {},
   "source": [
    "Main point of these examples:\n",
    "* Beta reducation and alpha conversion *do not change the type* of an expression. Therefore, the type of an unreduced function-arg combination is the same as the type of its reduced form."
   ]
  },
  {
   "cell_type": "markdown",
   "id": "d514b506-ed6d-443c-a3a3-a65101492f3b",
   "metadata": {},
   "source": [
    "## Repeated Predicate Modification"
   ]
  },
  {
   "cell_type": "code",
   "execution_count": 1,
   "id": "d061d10b-5ea5-4056-b26f-8103b11de866",
   "metadata": {},
   "outputs": [
    {
     "name": "stdout",
     "output_type": "stream",
     "text": [
      "INFO (core): Coerced guessed type for 'Small_t' into <e,t>, to match argument 'x_e'\n",
      "INFO (core): Coerced guessed type for 'Gray_t' into <e,t>, to match argument 'x_e'\n",
      "INFO (core): Coerced guessed type for 'Spotted_t' into <e,t>, to match argument 'x_e'\n",
      "INFO (core): Coerced guessed type for 'Cat_t' into <e,t>, to match argument 'x_e'\n"
     ]
    },
    {
     "data": {
      "text/markdown": [
       "$[\\![\\text{\\textbf{small}}]\\!]^{}_{\\left\\langle{}e,t\\right\\rangle{}} \\:=\\: \\lambda{} x_{e} \\: . \\: {Small}({x})$<br />\n",
       "$[\\![\\text{\\textbf{gray}}]\\!]^{}_{\\left\\langle{}e,t\\right\\rangle{}} \\:=\\: \\lambda{} x_{e} \\: . \\: {Gray}({x})$<br />\n",
       "$[\\![\\text{\\textbf{spotted}}]\\!]^{}_{\\left\\langle{}e,t\\right\\rangle{}} \\:=\\: \\lambda{} x_{e} \\: . \\: {Spotted}({x})$<br />\n",
       "$[\\![\\text{\\textbf{cat}}]\\!]^{}_{\\left\\langle{}e,t\\right\\rangle{}} \\:=\\: \\lambda{} x_{e} \\: . \\: {Cat}({x})$"
      ],
      "text/plain": [
       "⟦small⟧ = (λ x_e: Small_<e,t>(x_e))\n",
       "⟦gray⟧ = (λ x_e: Gray_<e,t>(x_e))\n",
       "⟦spotted⟧ = (λ x_e: Spotted_<e,t>(x_e))\n",
       "⟦cat⟧ = (λ x_e: Cat_<e,t>(x_e))"
      ]
     },
     "metadata": {},
     "output_type": "display_data"
    }
   ],
   "source": [
    "%%lamb\n",
    "||small|| = L x_e : Small(x)\n",
    "||gray|| = L x_e : Gray(x)\n",
    "||spotted|| = L x_e : Spotted(x)\n",
    "||cat|| = L x_e : Cat(x)"
   ]
  },
  {
   "cell_type": "code",
   "execution_count": 2,
   "id": "ab332199-5cbb-4e64-9352-dd7d30b3eb06",
   "metadata": {},
   "outputs": [
    {
     "data": {
      "text/markdown": [
       "1 composition path.  Result:<br />\n",
       "&nbsp;&nbsp;&nbsp;&nbsp;[0]: $[\\![\\text{\\textbf{[small [gray [spotted cat]]]}}]\\!]^{}_{\\left\\langle{}e,t\\right\\rangle{}} \\:=\\: \\lambda{} x_{e} \\: . \\: ({Small}({x}) \\wedge{} ({Gray}({x}) \\wedge{} ({Spotted}({x}) \\wedge{} {Cat}({x}))))$"
      ],
      "text/plain": [
       "1 composition path.  Result:\n",
       "    [0]: ⟦small⟧ * ⟦[gray [spotted cat]]⟧ leads to: ⟦[small [gray [spotted cat]]]⟧ = (λ x_e: (Small_<e,t>(x_e) & (Gray_<e,t>(x_e) & (Spotted_<e,t>(x_e) & Cat_<e,t>(x_e))))) [by PM]"
      ]
     },
     "metadata": {},
     "output_type": "display_data"
    }
   ],
   "source": [
    "(small * (gray * (spotted * cat)))"
   ]
  },
  {
   "cell_type": "code",
   "execution_count": 3,
   "id": "07600e25-409a-4018-ac12-91d8a3cc881c",
   "metadata": {},
   "outputs": [
    {
     "data": {
      "text/html": [
       "1 composition path:<br /><div align=\"center\" style=\"display:table;\"><div align=\"center\" style=\"display:table-row;\"><div style=\"display:table-cell;table-layout:auto;vertical-align:bottom;border-bottom:1px solid #848482;\"><div style=\"display: table;\"><div style=\"vertical-align:bottom;display:table-cell;padding-left:5px;padding-right:5px;padding-top:5px;padding-bottom:5px;\"><div align=\"center\" style=\"display:block;padding-left:5px;padding-right:5px;padding-top:5px;padding-bottom:5px;\"><div style=\"display:table;table-layout:auto;\" align=\"center\"><div style=\"display:table-row;\"><div style=\"display:table-cell;padding-right:2px; padding-left:2px;\" align=\"center\"><div style=\"display:inline-block;\"><span>$[\\![\\text{\\textbf{small}}]\\!]^{}_{\\left\\langle{}e,t\\right\\rangle{}}$</span></div></div></div><div style=\"display:table-row;\"><div style=\"display:table-cell;padding-right:2px; padding-left:2px;\" align=\"center\"><div style=\"display:inline-block;\"><span>$\\lambda{} x_{e} \\: . \\: {Small}({x})$</span></div></div></div></div></div></div><div style=\"display: table-cell; padding-left:4em;\"></div><div style=\"vertical-align:bottom;display:table-cell;padding-left:5px;padding-right:5px;padding-top:5px;padding-bottom:5px;\"><div align=\"center\" style=\"display:table;\"><div align=\"center\" style=\"display:table-row;\"><div style=\"display:table-cell;table-layout:auto;vertical-align:bottom;border-bottom:1px solid #848482;\"><div style=\"display: table;\"><div style=\"vertical-align:bottom;display:table-cell;padding-left:5px;padding-right:5px;padding-top:5px;padding-bottom:5px;\"><div align=\"center\" style=\"display:block;padding-left:5px;padding-right:5px;padding-top:5px;padding-bottom:5px;\"><div style=\"display:table;table-layout:auto;\" align=\"center\"><div style=\"display:table-row;\"><div style=\"display:table-cell;padding-right:2px; padding-left:2px;\" align=\"center\"><div style=\"display:inline-block;\"><span>$[\\![\\text{\\textbf{gray}}]\\!]^{}_{\\left\\langle{}e,t\\right\\rangle{}}$</span></div></div></div><div style=\"display:table-row;\"><div style=\"display:table-cell;padding-right:2px; padding-left:2px;\" align=\"center\"><div style=\"display:inline-block;\"><span>$\\lambda{} x_{e} \\: . \\: {Gray}({x})$</span></div></div></div></div></div></div><div style=\"display: table-cell; padding-left:4em;\"></div><div style=\"vertical-align:bottom;display:table-cell;padding-left:5px;padding-right:5px;padding-top:5px;padding-bottom:5px;\"><div align=\"center\" style=\"display:table;\"><div align=\"center\" style=\"display:table-row;\"><div style=\"display:table-cell;table-layout:auto;vertical-align:bottom;border-bottom:1px solid #848482;\"><div style=\"display: table;\"><div style=\"vertical-align:bottom;display:table-cell;padding-left:5px;padding-right:5px;padding-top:5px;padding-bottom:5px;\"><div align=\"center\" style=\"display:block;padding-left:5px;padding-right:5px;padding-top:5px;padding-bottom:5px;\"><div style=\"display:table;table-layout:auto;\" align=\"center\"><div style=\"display:table-row;\"><div style=\"display:table-cell;padding-right:2px; padding-left:2px;\" align=\"center\"><div style=\"display:inline-block;\"><span>$[\\![\\text{\\textbf{spotted}}]\\!]^{}_{\\left\\langle{}e,t\\right\\rangle{}}$</span></div></div></div><div style=\"display:table-row;\"><div style=\"display:table-cell;padding-right:2px; padding-left:2px;\" align=\"center\"><div style=\"display:inline-block;\"><span>$\\lambda{} x_{e} \\: . \\: {Spotted}({x})$</span></div></div></div></div></div></div><div style=\"display: table-cell; padding-left:4em;\"></div><div style=\"vertical-align:bottom;display:table-cell;padding-left:5px;padding-right:5px;padding-top:5px;padding-bottom:5px;\"><div align=\"center\" style=\"display:block;padding-left:5px;padding-right:5px;padding-top:5px;padding-bottom:5px;\"><div style=\"display:table;table-layout:auto;\" align=\"center\"><div style=\"display:table-row;\"><div style=\"display:table-cell;padding-right:2px; padding-left:2px;\" align=\"center\"><div style=\"display:inline-block;\"><span>$[\\![\\text{\\textbf{cat}}]\\!]^{}_{\\left\\langle{}e,t\\right\\rangle{}}$</span></div></div></div><div style=\"display:table-row;\"><div style=\"display:table-cell;padding-right:2px; padding-left:2px;\" align=\"center\"><div style=\"display:inline-block;\"><span>$\\lambda{} x_{e} \\: . \\: {Cat}({x})$</span></div></div></div></div></div></div></div></div><div style=\"display:table-cell;\"></div></div><div style=\"display:table-row;\"><div style=\"display: table-cell;\"></div><div style=\"display:table-cell;vertical-align:middle;\"><div style=\"vertical-align:middle;height:0px;overflow:visible\"><div style=\"color:blue;transform: translateY(-1em); padding-left:0.5em;\"><b>[<span>PM</span>]</b></div></div></div></div><div align=\"center\" style=\"display:table-row;padding-left:5px;padding-right:5px;padding-top:5px;padding-bottom:5px;\"><div align=\"center\" style=\"display:block;padding-left:5px;padding-right:5px;padding-top:5px;padding-bottom:5px;\"><div style=\"display:table;table-layout:auto;\" align=\"center\"><div style=\"display:table-row;\"><div style=\"display:table-cell;padding-right:2px; padding-left:2px;\" align=\"center\"><div style=\"display:inline-block;\"><span>$[\\![\\text{\\textbf{[spotted cat]}}]\\!]^{}_{\\left\\langle{}e,t\\right\\rangle{}}$</span></div></div></div><div style=\"display:table-row;\"><div style=\"display:table-cell;padding-right:2px; padding-left:2px;\" align=\"center\"><div style=\"display:inline-block;\"><span>$\\lambda{} x_{e} \\: . \\: ({Spotted}({x}) \\wedge{} {Cat}({x}))$</span></div></div></div></div></div><div style=\"display: table-cell;\"></div></div></div></div></div></div><div style=\"display:table-cell;\"></div></div><div style=\"display:table-row;\"><div style=\"display: table-cell;\"></div><div style=\"display:table-cell;vertical-align:middle;\"><div style=\"vertical-align:middle;height:0px;overflow:visible\"><div style=\"color:blue;transform: translateY(-1em); padding-left:0.5em;\"><b>[<span>PM</span>]</b></div></div></div></div><div align=\"center\" style=\"display:table-row;padding-left:5px;padding-right:5px;padding-top:5px;padding-bottom:5px;\"><div align=\"center\" style=\"display:block;padding-left:5px;padding-right:5px;padding-top:5px;padding-bottom:5px;\"><div style=\"display:table;table-layout:auto;\" align=\"center\"><div style=\"display:table-row;\"><div style=\"display:table-cell;padding-right:2px; padding-left:2px;\" align=\"center\"><div style=\"display:inline-block;\"><span>$[\\![\\text{\\textbf{[gray [spotted cat]]}}]\\!]^{}_{\\left\\langle{}e,t\\right\\rangle{}}$</span></div></div></div><div style=\"display:table-row;\"><div style=\"display:table-cell;padding-right:2px; padding-left:2px;\" align=\"center\"><div style=\"display:inline-block;\"><span>$\\lambda{} x_{e} \\: . \\: ({Gray}({x}) \\wedge{} ({Spotted}({x}) \\wedge{} {Cat}({x})))$</span></div></div></div></div></div><div style=\"display: table-cell;\"></div></div></div></div></div></div><div style=\"display:table-cell;\"></div></div><div style=\"display:table-row;\"><div style=\"display: table-cell;\"></div><div style=\"display:table-cell;vertical-align:middle;\"><div style=\"vertical-align:middle;height:0px;overflow:visible\"><div style=\"color:blue;transform: translateY(-1em); padding-left:0.5em;\"><b>[<span>PM</span>]</b></div></div></div></div><div align=\"center\" style=\"display:table-row;padding-left:5px;padding-right:5px;padding-top:5px;padding-bottom:5px;\"><div align=\"center\" style=\"display:block;padding-left:5px;padding-right:5px;padding-top:5px;padding-bottom:5px;\"><div style=\"display:table;table-layout:auto;\" align=\"center\"><div style=\"display:table-row;\"><div style=\"display:table-cell;padding-right:2px; padding-left:2px;\" align=\"center\"><div style=\"display:inline-block;\"><span>$[\\![\\text{\\textbf{[small [gray [spotted cat]]]}}]\\!]^{}_{\\left\\langle{}e,t\\right\\rangle{}}$</span></div></div></div><div style=\"display:table-row;\"><div style=\"display:table-cell;padding-right:2px; padding-left:2px;\" align=\"center\"><div style=\"display:inline-block;\"><span>$\\lambda{} x_{e} \\: . \\: ({Small}({x}) \\wedge{} ({Gray}({x}) \\wedge{} ({Spotted}({x}) \\wedge{} {Cat}({x}))))$</span></div></div></div></div></div><div style=\"display: table-cell;\"></div></div></div><br /><br />"
      ],
      "text/plain": [
       "1 composition path:<br /><div align=\"center\" style=\"display:table;\"><div align=\"center\" style=\"display:table-row;\"><div style=\"display:table-cell;table-layout:auto;vertical-align:bottom;border-bottom:1px solid #848482;\"><div style=\"display: table;\"><div style=\"vertical-align:bottom;display:table-cell;padding-left:5px;padding-right:5px;padding-top:5px;padding-bottom:5px;\"><div align=\"center\" style=\"display:block;padding-left:5px;padding-right:5px;padding-top:5px;padding-bottom:5px;\"><div style=\"display:table;table-layout:auto;\" align=\"center\"><div style=\"display:table-row;\"><div style=\"display:table-cell;padding-right:2px; padding-left:2px;\" align=\"center\"><div style=\"display:inline-block;\"><span>$[\\![\\text{\\textbf{small}}]\\!]^{}_{\\left\\langle{}e,t\\right\\rangle{}}$</span></div></div></div><div style=\"display:table-row;\"><div style=\"display:table-cell;padding-right:2px; padding-left:2px;\" align=\"center\"><div style=\"display:inline-block;\"><span>$\\lambda{} x_{e} \\: . \\: {Small}({x})$</span></div></div></div></div></div></div><div style=\"display: table-cell; padding-left:4em;\"></div><div style=\"vertical-align:bottom;display:table-cell;padding-left:5px;padding-right:5px;padding-top:5px;padding-bottom:5px;\"><div align=\"center\" style=\"display:table;\"><div align=\"center\" style=\"display:table-row;\"><div style=\"display:table-cell;table-layout:auto;vertical-align:bottom;border-bottom:1px solid #848482;\"><div style=\"display: table;\"><div style=\"vertical-align:bottom;display:table-cell;padding-left:5px;padding-right:5px;padding-top:5px;padding-bottom:5px;\"><div align=\"center\" style=\"display:block;padding-left:5px;padding-right:5px;padding-top:5px;padding-bottom:5px;\"><div style=\"display:table;table-layout:auto;\" align=\"center\"><div style=\"display:table-row;\"><div style=\"display:table-cell;padding-right:2px; padding-left:2px;\" align=\"center\"><div style=\"display:inline-block;\"><span>$[\\![\\text{\\textbf{gray}}]\\!]^{}_{\\left\\langle{}e,t\\right\\rangle{}}$</span></div></div></div><div style=\"display:table-row;\"><div style=\"display:table-cell;padding-right:2px; padding-left:2px;\" align=\"center\"><div style=\"display:inline-block;\"><span>$\\lambda{} x_{e} \\: . \\: {Gray}({x})$</span></div></div></div></div></div></div><div style=\"display: table-cell; padding-left:4em;\"></div><div style=\"vertical-align:bottom;display:table-cell;padding-left:5px;padding-right:5px;padding-top:5px;padding-bottom:5px;\"><div align=\"center\" style=\"display:table;\"><div align=\"center\" style=\"display:table-row;\"><div style=\"display:table-cell;table-layout:auto;vertical-align:bottom;border-bottom:1px solid #848482;\"><div style=\"display: table;\"><div style=\"vertical-align:bottom;display:table-cell;padding-left:5px;padding-right:5px;padding-top:5px;padding-bottom:5px;\"><div align=\"center\" style=\"display:block;padding-left:5px;padding-right:5px;padding-top:5px;padding-bottom:5px;\"><div style=\"display:table;table-layout:auto;\" align=\"center\"><div style=\"display:table-row;\"><div style=\"display:table-cell;padding-right:2px; padding-left:2px;\" align=\"center\"><div style=\"display:inline-block;\"><span>$[\\![\\text{\\textbf{spotted}}]\\!]^{}_{\\left\\langle{}e,t\\right\\rangle{}}$</span></div></div></div><div style=\"display:table-row;\"><div style=\"display:table-cell;padding-right:2px; padding-left:2px;\" align=\"center\"><div style=\"display:inline-block;\"><span>$\\lambda{} x_{e} \\: . \\: {Spotted}({x})$</span></div></div></div></div></div></div><div style=\"display: table-cell; padding-left:4em;\"></div><div style=\"vertical-align:bottom;display:table-cell;padding-left:5px;padding-right:5px;padding-top:5px;padding-bottom:5px;\"><div align=\"center\" style=\"display:block;padding-left:5px;padding-right:5px;padding-top:5px;padding-bottom:5px;\"><div style=\"display:table;table-layout:auto;\" align=\"center\"><div style=\"display:table-row;\"><div style=\"display:table-cell;padding-right:2px; padding-left:2px;\" align=\"center\"><div style=\"display:inline-block;\"><span>$[\\![\\text{\\textbf{cat}}]\\!]^{}_{\\left\\langle{}e,t\\right\\rangle{}}$</span></div></div></div><div style=\"display:table-row;\"><div style=\"display:table-cell;padding-right:2px; padding-left:2px;\" align=\"center\"><div style=\"display:inline-block;\"><span>$\\lambda{} x_{e} \\: . \\: {Cat}({x})$</span></div></div></div></div></div></div></div></div><div style=\"display:table-cell;\"></div></div><div style=\"display:table-row;\"><div style=\"display: table-cell;\"></div><div style=\"display:table-cell;vertical-align:middle;\"><div style=\"vertical-align:middle;height:0px;overflow:visible\"><div style=\"color:blue;transform: translateY(-1em); padding-left:0.5em;\"><b>[<span>PM</span>]</b></div></div></div></div><div align=\"center\" style=\"display:table-row;padding-left:5px;padding-right:5px;padding-top:5px;padding-bottom:5px;\"><div align=\"center\" style=\"display:block;padding-left:5px;padding-right:5px;padding-top:5px;padding-bottom:5px;\"><div style=\"display:table;table-layout:auto;\" align=\"center\"><div style=\"display:table-row;\"><div style=\"display:table-cell;padding-right:2px; padding-left:2px;\" align=\"center\"><div style=\"display:inline-block;\"><span>$[\\![\\text{\\textbf{[spotted cat]}}]\\!]^{}_{\\left\\langle{}e,t\\right\\rangle{}}$</span></div></div></div><div style=\"display:table-row;\"><div style=\"display:table-cell;padding-right:2px; padding-left:2px;\" align=\"center\"><div style=\"display:inline-block;\"><span>$\\lambda{} x_{e} \\: . \\: ({Spotted}({x}) \\wedge{} {Cat}({x}))$</span></div></div></div></div></div><div style=\"display: table-cell;\"></div></div></div></div></div></div><div style=\"display:table-cell;\"></div></div><div style=\"display:table-row;\"><div style=\"display: table-cell;\"></div><div style=\"display:table-cell;vertical-align:middle;\"><div style=\"vertical-align:middle;height:0px;overflow:visible\"><div style=\"color:blue;transform: translateY(-1em); padding-left:0.5em;\"><b>[<span>PM</span>]</b></div></div></div></div><div align=\"center\" style=\"display:table-row;padding-left:5px;padding-right:5px;padding-top:5px;padding-bottom:5px;\"><div align=\"center\" style=\"display:block;padding-left:5px;padding-right:5px;padding-top:5px;padding-bottom:5px;\"><div style=\"display:table;table-layout:auto;\" align=\"center\"><div style=\"display:table-row;\"><div style=\"display:table-cell;padding-right:2px; padding-left:2px;\" align=\"center\"><div style=\"display:inline-block;\"><span>$[\\![\\text{\\textbf{[gray [spotted cat]]}}]\\!]^{}_{\\left\\langle{}e,t\\right\\rangle{}}$</span></div></div></div><div style=\"display:table-row;\"><div style=\"display:table-cell;padding-right:2px; padding-left:2px;\" align=\"center\"><div style=\"display:inline-block;\"><span>$\\lambda{} x_{e} \\: . \\: ({Gray}({x}) \\wedge{} ({Spotted}({x}) \\wedge{} {Cat}({x})))$</span></div></div></div></div></div><div style=\"display: table-cell;\"></div></div></div></div></div></div><div style=\"display:table-cell;\"></div></div><div style=\"display:table-row;\"><div style=\"display: table-cell;\"></div><div style=\"display:table-cell;vertical-align:middle;\"><div style=\"vertical-align:middle;height:0px;overflow:visible\"><div style=\"color:blue;transform: translateY(-1em); padding-left:0.5em;\"><b>[<span>PM</span>]</b></div></div></div></div><div align=\"center\" style=\"display:table-row;padding-left:5px;padding-right:5px;padding-top:5px;padding-bottom:5px;\"><div align=\"center\" style=\"display:block;padding-left:5px;padding-right:5px;padding-top:5px;padding-bottom:5px;\"><div style=\"display:table;table-layout:auto;\" align=\"center\"><div style=\"display:table-row;\"><div style=\"display:table-cell;padding-right:2px; padding-left:2px;\" align=\"center\"><div style=\"display:inline-block;\"><span>$[\\![\\text{\\textbf{[small [gray [spotted cat]]]}}]\\!]^{}_{\\left\\langle{}e,t\\right\\rangle{}}$</span></div></div></div><div style=\"display:table-row;\"><div style=\"display:table-cell;padding-right:2px; padding-left:2px;\" align=\"center\"><div style=\"display:inline-block;\"><span>$\\lambda{} x_{e} \\: . \\: ({Small}({x}) \\wedge{} ({Gray}({x}) \\wedge{} ({Spotted}({x}) \\wedge{} {Cat}({x}))))$</span></div></div></div></div></div><div style=\"display: table-cell;\"></div></div></div><br /><br />"
      ]
     },
     "execution_count": 3,
     "metadata": {},
     "output_type": "execute_result"
    }
   ],
   "source": [
    "# lamb.display.reset_default()\n",
    "lamb.display.default(style=lamb.display.DerivStyle.PROOF)\n",
    "(small * (gray * (spotted * cat))).tree()"
   ]
  },
  {
   "cell_type": "code",
   "execution_count": null,
   "id": "dadad6f7-5b32-4aa1-8518-3b133cfd0607",
   "metadata": {},
   "outputs": [],
   "source": [
    "lamb.display.default(style=lamb.display.DerivStyle.TREE) # (note: small rendering issue with this)\n",
    "(small * (gray * (spotted * cat))).tree()"
   ]
  },
  {
   "cell_type": "code",
   "execution_count": null,
   "id": "4b8fba0a-1569-4e41-98b6-dba71dff7b18",
   "metadata": {},
   "outputs": [],
   "source": []
  },
  {
   "cell_type": "markdown",
   "id": "6fbcbfca-afa5-4d46-b528-814742c1ef8f",
   "metadata": {},
   "source": [
    "## Definite descriptions, pure iota"
   ]
  },
  {
   "cell_type": "code",
   "execution_count": null,
   "id": "9b9e42b4-72cf-4b78-b3e2-c7a3971fce94",
   "metadata": {},
   "outputs": [],
   "source": [
    "%%lamb reset\n",
    "||small|| = L x_e : Small(x)\n",
    "||gray|| = L x_e : Gray(x)\n",
    "||spotted|| = L x_e : Spotted(x)\n",
    "||cat|| = L x_e : Cat(x)\n",
    "||alfonso|| = A_e\n",
    "||saw|| = L y_e : L x_e : Saw(x,y)\n",
    "||the|| = L f_<e,t> : Iota x: f(x)"
   ]
  },
  {
   "cell_type": "code",
   "execution_count": null,
   "id": "52907566-cd63-4ee3-b234-88fb257b683b",
   "metadata": {},
   "outputs": [],
   "source": [
    "the.type"
   ]
  },
  {
   "cell_type": "code",
   "execution_count": null,
   "id": "7ad9b9e0-4a26-4b19-bb20-d272f4c0585a",
   "metadata": {},
   "outputs": [],
   "source": [
    "(the * cat).tree(derivations=True)"
   ]
  },
  {
   "cell_type": "code",
   "execution_count": null,
   "id": "eb79e1c6-8897-4b60-9f8a-fe587827582d",
   "metadata": {},
   "outputs": [],
   "source": [
    "the * (small * (gray * cat))"
   ]
  },
  {
   "cell_type": "code",
   "execution_count": null,
   "id": "650ed6c2-a09d-4d66-827a-49648f15d58c",
   "metadata": {},
   "outputs": [],
   "source": [
    "lamb.display.default(style=lamb.display.DerivStyle.PROOF)\n",
    "(the * (small * (gray * cat))).tree()"
   ]
  },
  {
   "cell_type": "code",
   "execution_count": null,
   "id": "4be3e688-6e99-4290-8f61-61759580009a",
   "metadata": {},
   "outputs": [],
   "source": [
    "(alfonso * (saw * (the * (small * (gray * cat))))).tree()"
   ]
  },
  {
   "cell_type": "markdown",
   "id": "952f1b05-625a-4c79-b3ee-9de3ce10b813",
   "metadata": {},
   "source": [
    "## Quantifier examples"
   ]
  },
  {
   "cell_type": "code",
   "execution_count": null,
   "id": "c638b99e-7369-490b-b99e-9a520ae0fc54",
   "metadata": {},
   "outputs": [],
   "source": [
    "%%lamb\n",
    "||someone|| = L g_<e,t> : Exists x_e : Human(x) & g(x)\n",
    "||a|| = L f_<e,t> : L g_<e,t> : Exists x_e : f(x) & g(x)"
   ]
  },
  {
   "cell_type": "code",
   "execution_count": null,
   "id": "01f96735-498c-44f5-92cb-37ca71b907f1",
   "metadata": {},
   "outputs": [],
   "source": [
    "someone * (saw * (the * cat))"
   ]
  },
  {
   "cell_type": "markdown",
   "id": "bb374eac-8580-4275-a4d7-bcac2bbeac87",
   "metadata": {},
   "source": [
    "We can't yet handle this:"
   ]
  },
  {
   "cell_type": "code",
   "execution_count": null,
   "id": "0924944b-b74a-4f24-b13c-a00205a569e2",
   "metadata": {},
   "outputs": [],
   "source": [
    "someone * (saw * (the * (small  * (gray * cat))))"
   ]
  },
  {
   "cell_type": "code",
   "execution_count": null,
   "id": "08fb4b6f-8b28-4add-bfb8-1fc0c1239b70",
   "metadata": {},
   "outputs": [],
   "source": [
    "(the * cat) * (saw * someone)"
   ]
  },
  {
   "cell_type": "code",
   "execution_count": null,
   "id": "54d1d383-8669-4996-aae3-9ee2dbb04dbb",
   "metadata": {},
   "outputs": [],
   "source": []
  },
  {
   "cell_type": "code",
   "execution_count": null,
   "id": "76c44ba7-6f56-44b8-adfb-72af53b9e7e1",
   "metadata": {},
   "outputs": [],
   "source": [
    "# run this cell first\n",
    "from lamb.meta import Partial\n",
    "lang.set_system(lang.td_presup)\n",
    "lang.get_system()"
   ]
  },
  {
   "cell_type": "code",
   "execution_count": null,
   "id": "8cb3567f-4838-4f77-84b4-0afdf9d8e8d8",
   "metadata": {},
   "outputs": [],
   "source": [
    "%%lamb\n",
    "||the|| = L f_<e,t> : IotaPartial x_e : f(x)\n",
    "||cat|| = L x_e : Cat(x)"
   ]
  },
  {
   "cell_type": "code",
   "execution_count": null,
   "id": "4ad3ef2e-3783-4e9f-a61f-5f59b7a308ec",
   "metadata": {},
   "outputs": [],
   "source": [
    "the * cat"
   ]
  },
  {
   "cell_type": "code",
   "execution_count": null,
   "id": "6164ad29-38e8-46d7-aa39-4b31378e999b",
   "metadata": {},
   "outputs": [],
   "source": []
  }
 ],
 "metadata": {
  "kernelspec": {
   "display_name": "Lambda Notebook (Python 3)",
   "language": "python",
   "name": "lambda-notebook"
  },
  "language_info": {
   "codemirror_mode": {
    "name": "ipython",
    "version": 3
   },
   "file_extension": ".py",
   "mimetype": "text/x-python",
   "name": "python",
   "nbconvert_exporter": "python",
   "pygments_lexer": "ipython3",
   "version": "3.12.0"
  }
 },
 "nbformat": 4,
 "nbformat_minor": 5
}
