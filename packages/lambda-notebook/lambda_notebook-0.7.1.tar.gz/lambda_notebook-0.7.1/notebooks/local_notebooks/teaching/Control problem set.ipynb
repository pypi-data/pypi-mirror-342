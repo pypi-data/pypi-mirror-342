{
 "cells": [
  {
   "cell_type": "markdown",
   "metadata": {},
   "source": [
    "So-called _control_ structures from syntax are cases where the subject of a main sentence seems to act like it is \"coreferential\" with the subject of an embedded sentence.  For example, in (1), 'Alfonso' is the subject of 'try', and also apparently for 'dance'.  In semantic terms, Alfonso was both a try-er and an (attempted) danc-er.\n",
    "\n",
    "(1) Alfonso tried to dance.\n",
    "\n",
    "The general compositional puzzle is how to get this to work out.  There's a standard analysis that some of you may have encountered from syntax (originating with Chomsky) that involves a covert pronoun in the embedded clause.  We'll return to this later in the semester; this is depicted in the box below:"
   ]
  },
  {
   "cell_type": "code",
   "execution_count": 1,
   "metadata": {
    "collapsed": false
   },
   "outputs": [
    {
     "data": {
      "image/png": "[encoded data removed]",
      "text/plain": [
       "Tree('TP', [Tree('DP', ['Alfonso']), Tree('VP', [Tree('V', ['tried']), Tree('TP', [Tree('DP', ['PRO']), Tree(\"T'\", [Tree('T', ['to']), Tree('VP', [Tree('V', ['dance'])])])])])])"
      ]
     },
     "execution_count": 1,
     "metadata": {},
     "output_type": "execute_result"
    }
   ],
   "source": [
    "import nltk\n",
    "nltk.Tree.fromstring(\"(TP (DP Alfonso) (VP (V tried) (TP (DP PRO) (T' (T to) (VP (V dance))))))\")"
   ]
  },
  {
   "cell_type": "markdown",
   "metadata": {},
   "source": [
    "For this assignment I would like you to consider the possibility of analyzing it based on a different structure, depicted below:"
   ]
  },
  {
   "cell_type": "code",
   "execution_count": 2,
   "metadata": {
    "collapsed": false
   },
   "outputs": [
    {
     "data": {
      "image/png": "[encoded data removed]",
      "text/plain": [
       "Tree('TP', [Tree('DP', ['Alfonso']), Tree('VP', [Tree('V', ['tried']), Tree('TP', [Tree('T', ['to']), Tree('VP', [Tree('V', ['dance'])])])])])"
      ]
     },
     "execution_count": 2,
     "metadata": {},
     "output_type": "execute_result"
    }
   ],
   "source": [
    "import nltk\n",
    "nltk.Tree.fromstring(\"(TP (DP Alfonso) (VP (V tried) (TP (T to) (VP (V dance)))))\")"
   ]
  },
  {
   "cell_type": "markdown",
   "metadata": {},
   "source": [
    "You can assume standard entries for 'Alfonso' and 'dance'.  To set these up, please paste the following code into the empty cell below.\n",
    "\n",
    "    %%lamb\n",
    "    ||Alfonso|| = alfonso_e\n",
    "    ||dance|| = L x_e : Dance(x)"
   ]
  },
  {
   "cell_type": "code",
   "execution_count": 6,
   "metadata": {
    "collapsed": false
   },
   "outputs": [
    {
     "name": "stderr",
     "output_type": "stream",
     "text": [
      "INFO (meta): Coerced guessed type t for 'Dance_t' into <e,t>, to match argument 'x_e'\n"
     ]
    },
    {
     "data": {
      "text/html": [
       "$[\\![\\mathbf{\\text{Alfonso}}]\\!]^{}_{e} \\:=\\: {Alfonso}_{e}$<br />\n",
       "$[\\![\\mathbf{\\text{dance}}]\\!]^{}_{\\langle{}e,t\\rangle{}} \\:=\\: \\lambda{} x_{e} \\: . \\: {Dance}({x}_{e})$"
      ],
      "text/latex": [
       "$[\\![\\mathbf{\\text{Alfonso}}]\\!]^{}_{e} \\:=\\: {Alfonso}_{e}$<br />\n",
       "$[\\![\\mathbf{\\text{dance}}]\\!]^{}_{\\langle{}e,t\\rangle{}} \\:=\\: \\lambda{} x_{e} \\: . \\: {Dance}({x}_{e})$"
      ],
      "text/plain": [
       "$[\\![\\mathbf{\\text{Alfonso}}]\\!]^{}_{e} \\:=\\: {Alfonso}_{e}$<br />\n",
       "$[\\![\\mathbf{\\text{dance}}]\\!]^{}_{\\langle{}e,t\\rangle{}} \\:=\\: \\lambda{} x_{e} \\: . \\: {Dance}({x}_{e})$"
      ]
     },
     "execution_count": 6,
     "metadata": {},
     "output_type": "execute_result"
    }
   ],
   "source": [
    "%%lamb\n",
    "||Alfonso|| = Alfonso_e\n",
    "||dance|| = L x_e : Dance(x)"
   ]
  },
  {
   "cell_type": "markdown",
   "metadata": {},
   "source": [
    "As usual, the goal is to get something of type $t$ out for the TP node in the tree.\n",
    "\n",
    "**Question 1** What types could you assign to [[to]] and to [[tried]] in order to capture this?  (Answer by editing the following markdown cell.)"
   ]
  },
  {
   "cell_type": "markdown",
   "metadata": {},
   "source": [
    "**Answer 1**:"
   ]
  },
  {
   "cell_type": "code",
   "execution_count": null,
   "metadata": {
    "collapsed": true
   },
   "outputs": [],
   "source": []
  }
 ],
 "metadata": {
  "kernelspec": {
   "display_name": "Lambda Notebook (Python 3)",
   "language": "python",
   "name": "lambda-notebook"
  },
  "language_info": {
   "codemirror_mode": {
    "name": "ipython",
    "version": 3
   },
   "file_extension": ".py",
   "mimetype": "text/x-python",
   "name": "python",
   "nbconvert_exporter": "python",
   "pygments_lexer": "ipython3",
   "version": "3.5.1"
  }
 },
 "nbformat": 4,
 "nbformat_minor": 1
}
