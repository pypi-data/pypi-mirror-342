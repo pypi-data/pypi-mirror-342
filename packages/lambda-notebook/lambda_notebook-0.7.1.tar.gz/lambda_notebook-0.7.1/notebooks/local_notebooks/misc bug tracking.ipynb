{
 "cells": [
  {
   "cell_type": "code",
   "execution_count": 456,
   "id": "b4421f00-d26f-4484-ad58-2a02ec5302b4",
   "metadata": {},
   "outputs": [],
   "source": [
    "reload_lamb()"
   ]
  },
  {
   "cell_type": "code",
   "execution_count": 457,
   "id": "741769b4-6fba-4b52-8d09-d69d765f1e94",
   "metadata": {},
   "outputs": [
    {
     "data": {
      "text/latex": [
       "$\\exists{}! x_{e} \\: . \\: \\exists{}! p_{t} \\: . \\: {p}$"
      ],
      "text/plain": [
       "(ExistsExact x_e: (ExistsExact p_t: p_t))"
      ]
     },
     "execution_count": 457,
     "metadata": {},
     "output_type": "execute_result"
    }
   ],
   "source": [
    "x = %te (ExistsExact x_e: (ExistsExact p_t: p_t))\n",
    "x"
   ]
  },
  {
   "cell_type": "code",
   "execution_count": 458,
   "id": "82164766-cb07-465b-942a-a1696dce8d5a",
   "metadata": {},
   "outputs": [
    {
     "data": {
      "text/html": [
       "<div align=\"left\" style=\"display:table;\"><div style=\"display:table-cell;vertical-align:top;padding-left:5px;padding-right:5px;padding-top:0.2em\"><div style=\"display:table;\"><div style=\"display:table-row;vertical-align:top;\"><div align=\"left\" style=\"display:table;border-collapse:collapse;\"><div style=\"display:table-row;border-bottom:1px solid #848482;\"><div style=\"display:table-cell;padding:0.2em 5px 0.2em 0px;vertical-align:top;\"></div><div style=\"display:table-cell;vertical-align:top;border-right:1px solid #848482;padding-right:5px;;padding-top:0.2em\"><div style=\"display:inline-block;\"><span>$\\exists{}! x_{e} \\: . \\: \\exists{}! p_{t} \\: . \\: {p}$</span></div></div><div style=\"display:table-cell;vertical-align:top;padding-left:5px;padding-right:5px;padding-top:0.2em\"><div style=\"display:table;\"><div style=\"display:table-row;\"><div style=\"white-space:nowrap; color:blue;\"><span>[unique verifier for ∃!p]</span></div></div></div></div></div><div style=\"display:table-row;border-bottom:1px solid #848482;\"><div style=\"display:table-cell;padding:0.2em 5px 0.2em 0px;vertical-align:top;\"> 1. </div><div style=\"display:table-cell;vertical-align:top;border-right:1px solid #848482;padding-right:5px;;padding-top:0.2em\"><div style=\"display:inline-block;\"><span>$\\exists{}! x_{e} \\: . \\: \\textsf{True}$</span></div></div><div style=\"display:table-cell;vertical-align:top;padding-left:5px;padding-right:5px;padding-top:0.2em\"><div style=\"display:table;\"><div style=\"display:table-row;\"><div style=\"white-space:nowrap; color:blue;\"><span>Vacuous ∃! with non-trivial domain</span></div></div></div></div></div><div style=\"display:table-row;\"><div style=\"display:table-cell;padding:0.2em 5px 0.2em 0px;vertical-align:top;\"> 2. </div><div style=\"display:table-cell;vertical-align:top;border-right:1px solid #848482;padding-right:5px;;padding-top:0.2em\"><div style=\"display:inline-block;\"><span>$\\textsf{False}$</span></div></div></div></div></div></div></div></div>"
      ],
      "text/plain": [
       " 1. (ExistsExact x_e: (ExistsExact p_t: p_t))    ([unique verifier for ∃!p])\n",
       " 2. (ExistsExact x_e: True)    (Vacuous ∃! with non-trivial domain)\n",
       " 3. False"
      ]
     },
     "execution_count": 458,
     "metadata": {},
     "output_type": "execute_result"
    }
   ],
   "source": [
    "x.simplify_all(alphanorm=False).derivation"
   ]
  },
  {
   "cell_type": "code",
   "execution_count": 459,
   "id": "afb997ad-ac3d-4ee2-8b6c-3ab99365c25d",
   "metadata": {},
   "outputs": [
    {
     "data": {
      "text/latex": [
       "$\\textsf{True}$"
      ],
      "text/plain": [
       "True"
      ]
     },
     "execution_count": 459,
     "metadata": {},
     "output_type": "execute_result"
    }
   ],
   "source": [
    "%te simplify ExistsExact p_t : p"
   ]
  },
  {
   "cell_type": "code",
   "execution_count": 460,
   "id": "064eef0f-c394-447d-b057-75ddf1c9f481",
   "metadata": {},
   "outputs": [
    {
     "data": {
      "text/latex": [
       "$\\exists{}! p_{t} \\: . \\: \\exists{}! x_{e} \\: . \\: {p}$"
      ],
      "text/plain": [
       "(ExistsExact p_t: (ExistsExact x_e: p_t))"
      ]
     },
     "execution_count": 460,
     "metadata": {},
     "output_type": "execute_result"
    }
   ],
   "source": [
    "y = %te (ExistsExact p_t: (ExistsExact x_e: p_t))\n",
    "y"
   ]
  },
  {
   "cell_type": "code",
   "execution_count": 461,
   "id": "32efbdfc-a974-4ec2-8f63-23a391bafb47",
   "metadata": {},
   "outputs": [
    {
     "data": {
      "text/html": [
       "<div align=\"left\" style=\"display:table;\"><div style=\"display:table-cell;vertical-align:top;padding-left:5px;padding-right:5px;padding-top:0.2em\"><div style=\"display:table;\"><div style=\"display:table-row;vertical-align:top;\"><div align=\"left\" style=\"display:table;border-collapse:collapse;\"><div style=\"display:table-row;border-bottom:1px solid #848482;\"><div style=\"display:table-cell;padding:0.2em 5px 0.2em 0px;vertical-align:top;\"></div><div style=\"display:table-cell;vertical-align:top;border-right:1px solid #848482;padding-right:5px;;padding-top:0.2em\"><div style=\"display:inline-block;\"><span>$\\exists{}! p_{t} \\: . \\: \\exists{}! x_{e} \\: . \\: {p}$</span></div></div><div style=\"display:table-cell;vertical-align:top;padding-left:5px;padding-right:5px;padding-top:0.2em\"><div style=\"display:table;\"><div style=\"display:table-row;\"><div style=\"white-space:nowrap; color:blue;\"><span>[Vacuous ∃! with non-trivial domain]</span></div></div></div></div></div><div style=\"display:table-row;border-bottom:1px solid #848482;\"><div style=\"display:table-cell;padding:0.2em 5px 0.2em 0px;vertical-align:top;\"> 1. </div><div style=\"display:table-cell;vertical-align:top;border-right:1px solid #848482;padding-right:5px;;padding-top:0.2em\"><div style=\"display:inline-block;\"><span>$\\exists{}! p_{t} \\: . \\: \\textsf{False}$</span></div></div><div style=\"display:table-cell;vertical-align:top;padding-left:5px;padding-right:5px;padding-top:0.2em\"><div style=\"display:table;\"><div style=\"display:table-row;\"><div style=\"white-space:nowrap; color:blue;\"><span>Vacuous ∃! with non-trivial domain</span></div></div></div></div></div><div style=\"display:table-row;\"><div style=\"display:table-cell;padding:0.2em 5px 0.2em 0px;vertical-align:top;\"> 2. </div><div style=\"display:table-cell;vertical-align:top;border-right:1px solid #848482;padding-right:5px;;padding-top:0.2em\"><div style=\"display:inline-block;\"><span>$\\textsf{False}$</span></div></div></div></div></div></div></div></div>"
      ],
      "text/plain": [
       " 1. (ExistsExact p_t: (ExistsExact x_e: p_t))    ([Vacuous ∃! with non-trivial domain])\n",
       " 2. (ExistsExact p_t: False)    (Vacuous ∃! with non-trivial domain)\n",
       " 3. False"
      ]
     },
     "execution_count": 461,
     "metadata": {},
     "output_type": "execute_result"
    }
   ],
   "source": [
    "y.simplify_all().derivation"
   ]
  },
  {
   "cell_type": "code",
   "execution_count": 462,
   "id": "6e29bd3b-366b-4e55-ba2d-e1a9365b5322",
   "metadata": {},
   "outputs": [
    {
     "data": {
      "text/latex": [
       "$\\exists{}! p_{t} \\: . \\: \\exists{} y_{e} \\: . \\: \\exists{}! x_{X} \\: . \\: {p}$"
      ],
      "text/plain": [
       "(ExistsExact p_t: (Exists y_e: (ExistsExact x_X: p_t)))"
      ]
     },
     "execution_count": 462,
     "metadata": {},
     "output_type": "execute_result"
    }
   ],
   "source": [
    "y = %te (ExistsExact p_t: Exists y_e : (ExistsExact x_X: p_t))\n",
    "y"
   ]
  },
  {
   "cell_type": "code",
   "execution_count": 463,
   "id": "e7efce4e-5fea-4adf-9ab2-bb67659e394e",
   "metadata": {},
   "outputs": [
    {
     "data": {
      "text/latex": [
       "$\\exists{}! p_{t} \\: . \\: \\exists{}! x_{X} \\: . \\: {p}$"
      ],
      "text/plain": [
       "(ExistsExact p_t: (ExistsExact x_X: p_t))"
      ]
     },
     "execution_count": 463,
     "metadata": {},
     "output_type": "execute_result"
    }
   ],
   "source": [
    "y.simplify_all()"
   ]
  },
  {
   "cell_type": "code",
   "execution_count": 464,
   "id": "7c7d7ea4-956f-42a4-aae2-0312b58c959b",
   "metadata": {},
   "outputs": [
    {
     "data": {
      "text/latex": [
       "$\\exists{} x_{t} \\: . \\: (\\exists{}! x1_{X} \\: . \\: {x}) \\wedge{} (\\forall{} y_{t} \\: . \\: (\\exists{}! x_{X} \\: . \\: {y}) \\rightarrow{} ({x} \\leftrightarrow{} {y}))$"
      ],
      "text/plain": [
       "(Exists x_t: ((ExistsExact x1_X: x_t) & (Forall y_t: ((ExistsExact x_X: y_t) >> (x_t <=> y_t)))))"
      ]
     },
     "execution_count": 464,
     "metadata": {},
     "output_type": "execute_result"
    }
   ],
   "source": [
    "y.eliminate().simplify_all()"
   ]
  },
  {
   "cell_type": "code",
   "execution_count": 465,
   "id": "33e60a52-69df-4bec-a5a1-385926992048",
   "metadata": {},
   "outputs": [
    {
     "data": {
      "text/latex": [
       "$\\exists{} x_{X} \\: . \\: \\forall{} y_{X} \\: . \\: {x} = {y}$"
      ],
      "text/plain": [
       "(Exists x_X: (Forall y_X: (x_X <=> y_X)))"
      ]
     },
     "execution_count": 465,
     "metadata": {},
     "output_type": "execute_result"
    }
   ],
   "source": [
    "y.simplify_all(eliminate_quantifiers=True)"
   ]
  },
  {
   "cell_type": "code",
   "execution_count": null,
   "id": "3e148152-0453-43e9-95e2-2443d6ebfcb8",
   "metadata": {},
   "outputs": [],
   "source": []
  },
  {
   "cell_type": "code",
   "execution_count": 467,
   "id": "c89d13dd-6006-43a5-a237-cb471d2242ed",
   "metadata": {},
   "outputs": [
    {
     "data": {
      "text/html": [
       "<div align=\"left\" style=\"display:table;\"><div style=\"display:table-cell;vertical-align:top;padding-left:5px;padding-right:5px;padding-top:0.2em\"><div style=\"display:table;\"><div style=\"display:table-row;vertical-align:top;\"><div align=\"left\" style=\"display:table;border-collapse:collapse;\"><div style=\"display:table-row;border-bottom:1px solid #848482;\"><div style=\"display:table-cell;padding:0.2em 5px 0.2em 0px;vertical-align:top;\"></div><div style=\"display:table-cell;vertical-align:top;border-right:1px solid #848482;padding-right:5px;;padding-top:0.2em\"><div style=\"display:inline-block;\"><span>$\\exists{}! p_{t} \\: . \\: \\exists{} y_{e} \\: . \\: \\exists{}! x_{X} \\: . \\: {p}$</span></div></div><div style=\"display:table-cell;vertical-align:top;padding-left:5px;padding-right:5px;padding-top:0.2em\"><div style=\"display:table;\"><div style=\"display:table-row;\"><div style=\"white-space:nowrap; color:blue;\"><span>∃! elimination</span></div></div></div></div></div><div style=\"display:table-row;border-bottom:1px solid #848482;\"><div style=\"display:table-cell;padding:0.2em 5px 0.2em 0px;vertical-align:top;\"> 1. </div><div style=\"display:table-cell;vertical-align:top;border-right:1px solid #848482;padding-right:5px;;padding-top:0.2em\"><div style=\"display:inline-block;\"><span>$\\exists{} x_{t} \\: . \\: (\\exists{} y_{e} \\: . \\: \\exists{}! x1_{X} \\: . \\: {x}) \\wedge{} (\\forall{} y_{t} \\: . \\: (\\exists{} y1_{e} \\: . \\: \\exists{}! x_{X} \\: . \\: {y}) \\rightarrow{} ({x} \\leftrightarrow{} {y}))$</span></div></div><div style=\"display:table-cell;vertical-align:top;padding-left:5px;padding-right:5px;padding-top:0.2em\"><div style=\"display:table;\"><div style=\"display:table-row;\"><div style=\"white-space:nowrap; color:blue;\"><span>∃x =&gt; ∨</span></div></div></div></div></div><div style=\"display:table-row;border-bottom:1px solid #848482;\"><div style=\"display:table-cell;padding:0.2em 5px 0.2em 0px;vertical-align:top;\"> 2. </div><div style=\"display:table-cell;vertical-align:top;border-right:1px solid #848482;padding-right:5px;;padding-top:0.2em\"><div style=\"display:inline-block;\"><span>$((\\exists{} y_{e} \\: . \\: \\exists{}! x1_{X} \\: . \\: \\textsf{False}) \\wedge{} (\\forall{} y_{t} \\: . \\: (\\exists{} y1_{e} \\: . \\: \\exists{}! x_{X} \\: . \\: {y}) \\rightarrow{} (\\textsf{False} \\leftrightarrow{} {y}))) \\vee{} ((\\exists{} y_{e} \\: . \\: \\exists{}! x1_{X} \\: . \\: \\textsf{True}) \\wedge{} (\\forall{} y_{t} \\: . \\: (\\exists{} y1_{e} \\: . \\: \\exists{}! x_{X} \\: . \\: {y}) \\rightarrow{} (\\textsf{True} \\leftrightarrow{} {y})))$</span></div></div><div style=\"display:table-cell;vertical-align:top;padding-left:5px;padding-right:5px;padding-top:0.2em\"><div style=\"display:table;\"><div style=\"display:table-row;\"><div style=\"white-space:nowrap; color:blue;\"><span>Recursive simplification of operand 0</span></div></div><div style=\"display:table-row;vertical-align:top;\"><div align=\"left\" style=\"display:table;border-collapse:collapse;\"><div style=\"display:table-row;border-bottom:1px solid #848482;\"><div style=\"display:table-cell;padding:0.2em 5px 0.2em 0px;vertical-align:top;\"></div><div style=\"display:table-cell;vertical-align:top;border-right:1px solid #848482;padding-right:5px;;padding-top:0.2em\"><div style=\"display:inline-block;\"><span>$(\\exists{} y_{e} \\: . \\: \\exists{}! x1_{X} \\: . \\: {x}_{t}) \\wedge{} (\\forall{} y_{t} \\: . \\: (\\exists{} y1_{e} \\: . \\: \\exists{}! x_{X} \\: . \\: {y}) \\rightarrow{} ({x}_{t} \\leftrightarrow{} {y}))$</span></div></div><div style=\"display:table-cell;vertical-align:top;padding-left:5px;padding-right:5px;padding-top:0.2em\"><div style=\"display:table;\"><div style=\"display:table-row;\"><div style=\"white-space:nowrap; color:blue;\"><span>Assignment substitution</span></div></div></div></div></div><div style=\"display:table-row;border-bottom:1px solid #848482;\"><div style=\"display:table-cell;padding:0.2em 5px 0.2em 0px;vertical-align:top;\"> 1. </div><div style=\"display:table-cell;vertical-align:top;border-right:1px solid #848482;padding-right:5px;;padding-top:0.2em\"><div style=\"display:inline-block;\"><span>$(\\exists{} y_{e} \\: . \\: \\exists{}! x1_{X} \\: . \\: \\textsf{False}) \\wedge{} (\\forall{} y_{t} \\: . \\: (\\exists{} y1_{e} \\: . \\: \\exists{}! x_{X} \\: . \\: {y}) \\rightarrow{} (\\textsf{False} \\leftrightarrow{} {y}))$</span></div></div><div style=\"display:table-cell;vertical-align:top;padding-left:5px;padding-right:5px;padding-top:0.2em\"><div style=\"display:table;\"><div style=\"display:table-row;\"><div style=\"white-space:nowrap; color:blue;\"><span>Recursive simplification of operand 0</span></div></div><div style=\"display:table-row;vertical-align:top;\"><div align=\"left\" style=\"display:table;border-collapse:collapse;\"><div style=\"display:table-row;border-bottom:1px solid #848482;\"><div style=\"display:table-cell;padding:0.2em 5px 0.2em 0px;vertical-align:top;\"></div><div style=\"display:table-cell;vertical-align:top;border-right:1px solid #848482;padding-right:5px;;padding-top:0.2em\"><div style=\"display:inline-block;\"><span>$\\exists{} y_{e} \\: . \\: \\exists{}! x1_{X} \\: . \\: \\textsf{False}$</span></div></div><div style=\"display:table-cell;vertical-align:top;padding-left:5px;padding-right:5px;padding-top:0.2em\"><div style=\"display:table;\"><div style=\"display:table-row;\"><div style=\"white-space:nowrap; color:blue;\"><span>Recursive simplification of body</span></div></div><div style=\"display:table-row;vertical-align:top;\"><div align=\"left\" style=\"display:table;border-collapse:collapse;\"><div style=\"display:table-row;border-bottom:1px solid #848482;\"><div style=\"display:table-cell;padding:0.2em 5px 0.2em 0px;vertical-align:top;\"></div><div style=\"display:table-cell;vertical-align:top;border-right:1px solid #848482;padding-right:5px;;padding-top:0.2em\"><div style=\"display:inline-block;\"><span>$\\exists{}! x1_{X} \\: . \\: \\textsf{False}$</span></div></div><div style=\"display:table-cell;vertical-align:top;padding-left:5px;padding-right:5px;padding-top:0.2em\"><div style=\"display:table;\"><div style=\"display:table-row;\"><div style=\"white-space:nowrap; color:blue;\"><span>∃! elimination</span></div></div></div></div></div><div style=\"display:table-row;border-bottom:1px solid #848482;\"><div style=\"display:table-cell;padding:0.2em 5px 0.2em 0px;vertical-align:top;\"> 1. </div><div style=\"display:table-cell;vertical-align:top;border-right:1px solid #848482;padding-right:5px;;padding-top:0.2em\"><div style=\"display:inline-block;\"><span>$\\exists{} x_{?_{69}} \\: . \\: \\textsf{False} \\wedge{} (\\forall{} y_{?_{69}} \\: . \\: \\textsf{False} \\rightarrow{} {x} = {y})$</span></div></div><div style=\"display:table-cell;vertical-align:top;padding-left:5px;padding-right:5px;padding-top:0.2em\"><div style=\"display:table;\"><div style=\"display:table-row;\"><div style=\"white-space:nowrap; color:blue;\"><span>Recursive simplification of body</span></div></div><div style=\"display:table-row;vertical-align:top;\"><div align=\"left\" style=\"display:table;border-collapse:collapse;\"><div style=\"display:table-row;border-bottom:1px solid #848482;\"><div style=\"display:table-cell;padding:0.2em 5px 0.2em 0px;vertical-align:top;\"></div><div style=\"display:table-cell;vertical-align:top;border-right:1px solid #848482;padding-right:5px;;padding-top:0.2em\"><div style=\"display:inline-block;\"><span>$\\textsf{False} \\wedge{} (\\forall{} y_{?_{69}} \\: . \\: \\textsf{False} \\rightarrow{} {x}_{?_{69}} = {y})$</span></div></div><div style=\"display:table-cell;vertical-align:top;padding-left:5px;padding-right:5px;padding-top:0.2em\"><div style=\"display:table;\"><div style=\"display:table-row;\"><div style=\"white-space:nowrap; color:blue;\"><span>Recursive simplification of operand 1</span></div></div><div style=\"display:table-row;vertical-align:top;\"><div align=\"left\" style=\"display:table;border-collapse:collapse;\"><div style=\"display:table-row;border-bottom:1px solid #848482;\"><div style=\"display:table-cell;padding:0.2em 5px 0.2em 0px;vertical-align:top;\"></div><div style=\"display:table-cell;vertical-align:top;border-right:1px solid #848482;padding-right:5px;;padding-top:0.2em\"><div style=\"display:inline-block;\"><span>$\\forall{} y_{?_{69}} \\: . \\: \\textsf{False} \\rightarrow{} {x}_{?_{69}} = {y}$</span></div></div><div style=\"display:table-cell;vertical-align:top;padding-left:5px;padding-right:5px;padding-top:0.2em\"><div style=\"display:table;\"><div style=\"display:table-row;\"><div style=\"white-space:nowrap; color:blue;\"><span>[material implication]</span></div></div></div></div></div><div style=\"display:table-row;border-bottom:1px solid #848482;\"><div style=\"display:table-cell;padding:0.2em 5px 0.2em 0px;vertical-align:top;\"> 1. </div><div style=\"display:table-cell;vertical-align:top;border-right:1px solid #848482;padding-right:5px;;padding-top:0.2em\"><div style=\"display:inline-block;\"><span>$\\forall{} y_{?_{69}} \\: . \\: \\textsf{True}$</span></div></div><div style=\"display:table-cell;vertical-align:top;padding-left:5px;padding-right:5px;padding-top:0.2em\"><div style=\"display:table;\"><div style=\"display:table-row;\"><div style=\"white-space:nowrap; color:blue;\"><span>trivial ∀ elimination</span></div></div></div></div></div><div style=\"display:table-row;\"><div style=\"display:table-cell;padding:0.2em 5px 0.2em 0px;vertical-align:top;\"> 2. </div><div style=\"display:table-cell;vertical-align:top;border-right:1px solid #848482;padding-right:5px;;padding-top:0.2em\"><div style=\"display:inline-block;\"><span>$\\textsf{True}$</span></div></div></div></div></div></div></div></div><div style=\"display:table-row;border-bottom:1px solid #848482;\"><div style=\"display:table-cell;padding:0.2em 5px 0.2em 0px;vertical-align:top;\"> 1. </div><div style=\"display:table-cell;vertical-align:top;border-right:1px solid #848482;padding-right:5px;;padding-top:0.2em\"><div style=\"display:inline-block;\"><span>$\\textsf{False} \\wedge{} \\textsf{True}$</span></div></div><div style=\"display:table-cell;vertical-align:top;padding-left:5px;padding-right:5px;padding-top:0.2em\"><div style=\"display:table;\"><div style=\"display:table-row;\"><div style=\"white-space:nowrap; color:blue;\"><span>conjunction (elimination on `False`)</span></div></div></div></div></div><div style=\"display:table-row;\"><div style=\"display:table-cell;padding:0.2em 5px 0.2em 0px;vertical-align:top;\"> 2. </div><div style=\"display:table-cell;vertical-align:top;border-right:1px solid #848482;padding-right:5px;;padding-top:0.2em\"><div style=\"display:inline-block;\"><span>$\\textsf{False}$</span></div></div></div></div></div></div></div></div><div style=\"display:table-row;border-bottom:1px solid #848482;\"><div style=\"display:table-cell;padding:0.2em 5px 0.2em 0px;vertical-align:top;\"> 2. </div><div style=\"display:table-cell;vertical-align:top;border-right:1px solid #848482;padding-right:5px;;padding-top:0.2em\"><div style=\"display:inline-block;\"><span>$\\exists{} x_{?_{69}} \\: . \\: \\textsf{False}$</span></div></div><div style=\"display:table-cell;vertical-align:top;padding-left:5px;padding-right:5px;padding-top:0.2em\"><div style=\"display:table;\"><div style=\"display:table-row;\"><div style=\"white-space:nowrap; color:blue;\"><span>trivial ∃ elimination</span></div></div></div></div></div><div style=\"display:table-row;\"><div style=\"display:table-cell;padding:0.2em 5px 0.2em 0px;vertical-align:top;\"> 3. </div><div style=\"display:table-cell;vertical-align:top;border-right:1px solid #848482;padding-right:5px;;padding-top:0.2em\"><div style=\"display:inline-block;\"><span>$\\textsf{False}$</span></div></div></div></div></div></div></div></div><div style=\"display:table-row;border-bottom:1px solid #848482;\"><div style=\"display:table-cell;padding:0.2em 5px 0.2em 0px;vertical-align:top;\"> 1. </div><div style=\"display:table-cell;vertical-align:top;border-right:1px solid #848482;padding-right:5px;;padding-top:0.2em\"><div style=\"display:inline-block;\"><span>$\\exists{} y_{e} \\: . \\: \\textsf{False}$</span></div></div><div style=\"display:table-cell;vertical-align:top;padding-left:5px;padding-right:5px;padding-top:0.2em\"><div style=\"display:table;\"><div style=\"display:table-row;\"><div style=\"white-space:nowrap; color:blue;\"><span>trivial ∃ elimination</span></div></div></div></div></div><div style=\"display:table-row;\"><div style=\"display:table-cell;padding:0.2em 5px 0.2em 0px;vertical-align:top;\"> 2. </div><div style=\"display:table-cell;vertical-align:top;border-right:1px solid #848482;padding-right:5px;;padding-top:0.2em\"><div style=\"display:inline-block;\"><span>$\\textsf{False}$</span></div></div></div></div></div></div></div></div><div style=\"display:table-row;border-bottom:1px solid #848482;\"><div style=\"display:table-cell;padding:0.2em 5px 0.2em 0px;vertical-align:top;\"> 2. </div><div style=\"display:table-cell;vertical-align:top;border-right:1px solid #848482;padding-right:5px;;padding-top:0.2em\"><div style=\"display:inline-block;\"><span>$\\textsf{False} \\wedge{} (\\forall{} y_{t} \\: . \\: (\\exists{} y1_{e} \\: . \\: \\exists{}! x_{X} \\: . \\: {y}) \\rightarrow{} (\\textsf{False} \\leftrightarrow{} {y}))$</span></div></div><div style=\"display:table-cell;vertical-align:top;padding-left:5px;padding-right:5px;padding-top:0.2em\"><div style=\"display:table;\"><div style=\"display:table-row;\"><div style=\"white-space:nowrap; color:blue;\"><span>Recursive simplification of operand 1</span></div></div><div style=\"display:table-row;vertical-align:top;\"><div align=\"left\" style=\"display:table;border-collapse:collapse;\"><div style=\"display:table-row;border-bottom:1px solid #848482;\"><div style=\"display:table-cell;padding:0.2em 5px 0.2em 0px;vertical-align:top;\"></div><div style=\"display:table-cell;vertical-align:top;border-right:1px solid #848482;padding-right:5px;;padding-top:0.2em\"><div style=\"display:inline-block;\"><span>$\\forall{} y_{t} \\: . \\: (\\exists{} y1_{e} \\: . \\: \\exists{}! x_{X} \\: . \\: {y}) \\rightarrow{} (\\textsf{False} \\leftrightarrow{} {y})$</span></div></div><div style=\"display:table-cell;vertical-align:top;padding-left:5px;padding-right:5px;padding-top:0.2em\"><div style=\"display:table;\"><div style=\"display:table-row;\"><div style=\"white-space:nowrap; color:blue;\"><span>∀y =&gt; ∧</span></div></div></div></div></div><div style=\"display:table-row;border-bottom:1px solid #848482;\"><div style=\"display:table-cell;padding:0.2em 5px 0.2em 0px;vertical-align:top;\"> 1. </div><div style=\"display:table-cell;vertical-align:top;border-right:1px solid #848482;padding-right:5px;;padding-top:0.2em\"><div style=\"display:inline-block;\"><span>$((\\exists{} y1_{e} \\: . \\: \\exists{}! x_{X} \\: . \\: \\textsf{False}) \\rightarrow{} (\\textsf{False} \\leftrightarrow{} \\textsf{False})) \\wedge{} ((\\exists{} y1_{e} \\: . \\: \\exists{}! x_{X} \\: . \\: \\textsf{True}) \\rightarrow{} (\\textsf{False} \\leftrightarrow{} \\textsf{True}))$</span></div></div><div style=\"display:table-cell;vertical-align:top;padding-left:5px;padding-right:5px;padding-top:0.2em\"><div style=\"display:table;\"><div style=\"display:table-row;\"><div style=\"white-space:nowrap; color:blue;\"><span>Recursive simplification of operand 0</span></div></div><div style=\"display:table-row;vertical-align:top;\"><div align=\"left\" style=\"display:table;border-collapse:collapse;\"><div style=\"display:table-row;border-bottom:1px solid #848482;\"><div style=\"display:table-cell;padding:0.2em 5px 0.2em 0px;vertical-align:top;\"></div><div style=\"display:table-cell;vertical-align:top;border-right:1px solid #848482;padding-right:5px;;padding-top:0.2em\"><div style=\"display:inline-block;\"><span>$(\\exists{} y1_{e} \\: . \\: \\exists{}! x_{X} \\: . \\: {y}_{t}) \\rightarrow{} (\\textsf{False} \\leftrightarrow{} {y}_{t})$</span></div></div><div style=\"display:table-cell;vertical-align:top;padding-left:5px;padding-right:5px;padding-top:0.2em\"><div style=\"display:table;\"><div style=\"display:table-row;\"><div style=\"white-space:nowrap; color:blue;\"><span>Assignment substitution</span></div></div></div></div></div><div style=\"display:table-row;border-bottom:1px solid #848482;\"><div style=\"display:table-cell;padding:0.2em 5px 0.2em 0px;vertical-align:top;\"> 1. </div><div style=\"display:table-cell;vertical-align:top;border-right:1px solid #848482;padding-right:5px;;padding-top:0.2em\"><div style=\"display:inline-block;\"><span>$(\\exists{} y1_{e} \\: . \\: \\exists{}! x_{X} \\: . \\: \\textsf{False}) \\rightarrow{} (\\textsf{False} \\leftrightarrow{} \\textsf{False})$</span></div></div><div style=\"display:table-cell;vertical-align:top;padding-left:5px;padding-right:5px;padding-top:0.2em\"><div style=\"display:table;\"><div style=\"display:table-row;\"><div style=\"white-space:nowrap; color:blue;\"><span>Recursive simplification of operand 0</span></div></div><div style=\"display:table-row;vertical-align:top;\"><div align=\"left\" style=\"display:table;border-collapse:collapse;\"><div style=\"display:table-row;border-bottom:1px solid #848482;\"><div style=\"display:table-cell;padding:0.2em 5px 0.2em 0px;vertical-align:top;\"></div><div style=\"display:table-cell;vertical-align:top;border-right:1px solid #848482;padding-right:5px;;padding-top:0.2em\"><div style=\"display:inline-block;\"><span>$\\exists{} y1_{e} \\: . \\: \\exists{}! x_{X} \\: . \\: \\textsf{False}$</span></div></div><div style=\"display:table-cell;vertical-align:top;padding-left:5px;padding-right:5px;padding-top:0.2em\"><div style=\"display:table;\"><div style=\"display:table-row;\"><div style=\"white-space:nowrap; color:blue;\"><span>Recursive simplification of body</span></div></div><div style=\"display:table-row;vertical-align:top;\"><div align=\"left\" style=\"display:table;border-collapse:collapse;\"><div style=\"display:table-row;border-bottom:1px solid #848482;\"><div style=\"display:table-cell;padding:0.2em 5px 0.2em 0px;vertical-align:top;\"></div><div style=\"display:table-cell;vertical-align:top;border-right:1px solid #848482;padding-right:5px;;padding-top:0.2em\"><div style=\"display:inline-block;\"><span>$\\exists{}! x_{X} \\: . \\: \\textsf{False}$</span></div></div><div style=\"display:table-cell;vertical-align:top;padding-left:5px;padding-right:5px;padding-top:0.2em\"><div style=\"display:table;\"><div style=\"display:table-row;\"><div style=\"white-space:nowrap; color:blue;\"><span>∃! elimination</span></div></div></div></div></div><div style=\"display:table-row;border-bottom:1px solid #848482;\"><div style=\"display:table-cell;padding:0.2em 5px 0.2em 0px;vertical-align:top;\"> 1. </div><div style=\"display:table-cell;vertical-align:top;border-right:1px solid #848482;padding-right:5px;;padding-top:0.2em\"><div style=\"display:inline-block;\"><span>$\\exists{} x_{?_{73}} \\: . \\: \\textsf{False} \\wedge{} (\\forall{} y_{?_{73}} \\: . \\: \\textsf{False} \\rightarrow{} {x} = {y})$</span></div></div><div style=\"display:table-cell;vertical-align:top;padding-left:5px;padding-right:5px;padding-top:0.2em\"><div style=\"display:table;\"><div style=\"display:table-row;\"><div style=\"white-space:nowrap; color:blue;\"><span>Recursive simplification of body</span></div></div><div style=\"display:table-row;vertical-align:top;\"><div align=\"left\" style=\"display:table;border-collapse:collapse;\"><div style=\"display:table-row;border-bottom:1px solid #848482;\"><div style=\"display:table-cell;padding:0.2em 5px 0.2em 0px;vertical-align:top;\"></div><div style=\"display:table-cell;vertical-align:top;border-right:1px solid #848482;padding-right:5px;;padding-top:0.2em\"><div style=\"display:inline-block;\"><span>$\\textsf{False} \\wedge{} (\\forall{} y_{?_{73}} \\: . \\: \\textsf{False} \\rightarrow{} {x}_{?_{73}} = {y})$</span></div></div><div style=\"display:table-cell;vertical-align:top;padding-left:5px;padding-right:5px;padding-top:0.2em\"><div style=\"display:table;\"><div style=\"display:table-row;\"><div style=\"white-space:nowrap; color:blue;\"><span>Recursive simplification of operand 1</span></div></div><div style=\"display:table-row;vertical-align:top;\"><div align=\"left\" style=\"display:table;border-collapse:collapse;\"><div style=\"display:table-row;border-bottom:1px solid #848482;\"><div style=\"display:table-cell;padding:0.2em 5px 0.2em 0px;vertical-align:top;\"></div><div style=\"display:table-cell;vertical-align:top;border-right:1px solid #848482;padding-right:5px;;padding-top:0.2em\"><div style=\"display:inline-block;\"><span>$\\forall{} y_{?_{73}} \\: . \\: \\textsf{False} \\rightarrow{} {x}_{?_{73}} = {y}$</span></div></div><div style=\"display:table-cell;vertical-align:top;padding-left:5px;padding-right:5px;padding-top:0.2em\"><div style=\"display:table;\"><div style=\"display:table-row;\"><div style=\"white-space:nowrap; color:blue;\"><span>[material implication]</span></div></div></div></div></div><div style=\"display:table-row;border-bottom:1px solid #848482;\"><div style=\"display:table-cell;padding:0.2em 5px 0.2em 0px;vertical-align:top;\"> 1. </div><div style=\"display:table-cell;vertical-align:top;border-right:1px solid #848482;padding-right:5px;;padding-top:0.2em\"><div style=\"display:inline-block;\"><span>$\\forall{} y_{?_{73}} \\: . \\: \\textsf{True}$</span></div></div><div style=\"display:table-cell;vertical-align:top;padding-left:5px;padding-right:5px;padding-top:0.2em\"><div style=\"display:table;\"><div style=\"display:table-row;\"><div style=\"white-space:nowrap; color:blue;\"><span>trivial ∀ elimination</span></div></div></div></div></div><div style=\"display:table-row;\"><div style=\"display:table-cell;padding:0.2em 5px 0.2em 0px;vertical-align:top;\"> 2. </div><div style=\"display:table-cell;vertical-align:top;border-right:1px solid #848482;padding-right:5px;;padding-top:0.2em\"><div style=\"display:inline-block;\"><span>$\\textsf{True}$</span></div></div></div></div></div></div></div></div><div style=\"display:table-row;border-bottom:1px solid #848482;\"><div style=\"display:table-cell;padding:0.2em 5px 0.2em 0px;vertical-align:top;\"> 1. </div><div style=\"display:table-cell;vertical-align:top;border-right:1px solid #848482;padding-right:5px;;padding-top:0.2em\"><div style=\"display:inline-block;\"><span>$\\textsf{False} \\wedge{} \\textsf{True}$</span></div></div><div style=\"display:table-cell;vertical-align:top;padding-left:5px;padding-right:5px;padding-top:0.2em\"><div style=\"display:table;\"><div style=\"display:table-row;\"><div style=\"white-space:nowrap; color:blue;\"><span>conjunction (elimination on `False`)</span></div></div></div></div></div><div style=\"display:table-row;\"><div style=\"display:table-cell;padding:0.2em 5px 0.2em 0px;vertical-align:top;\"> 2. </div><div style=\"display:table-cell;vertical-align:top;border-right:1px solid #848482;padding-right:5px;;padding-top:0.2em\"><div style=\"display:inline-block;\"><span>$\\textsf{False}$</span></div></div></div></div></div></div></div></div><div style=\"display:table-row;border-bottom:1px solid #848482;\"><div style=\"display:table-cell;padding:0.2em 5px 0.2em 0px;vertical-align:top;\"> 2. </div><div style=\"display:table-cell;vertical-align:top;border-right:1px solid #848482;padding-right:5px;;padding-top:0.2em\"><div style=\"display:inline-block;\"><span>$\\exists{} x_{?_{73}} \\: . \\: \\textsf{False}$</span></div></div><div style=\"display:table-cell;vertical-align:top;padding-left:5px;padding-right:5px;padding-top:0.2em\"><div style=\"display:table;\"><div style=\"display:table-row;\"><div style=\"white-space:nowrap; color:blue;\"><span>trivial ∃ elimination</span></div></div></div></div></div><div style=\"display:table-row;\"><div style=\"display:table-cell;padding:0.2em 5px 0.2em 0px;vertical-align:top;\"> 3. </div><div style=\"display:table-cell;vertical-align:top;border-right:1px solid #848482;padding-right:5px;;padding-top:0.2em\"><div style=\"display:inline-block;\"><span>$\\textsf{False}$</span></div></div></div></div></div></div></div></div><div style=\"display:table-row;border-bottom:1px solid #848482;\"><div style=\"display:table-cell;padding:0.2em 5px 0.2em 0px;vertical-align:top;\"> 1. </div><div style=\"display:table-cell;vertical-align:top;border-right:1px solid #848482;padding-right:5px;;padding-top:0.2em\"><div style=\"display:inline-block;\"><span>$\\exists{} y1_{e} \\: . \\: \\textsf{False}$</span></div></div><div style=\"display:table-cell;vertical-align:top;padding-left:5px;padding-right:5px;padding-top:0.2em\"><div style=\"display:table;\"><div style=\"display:table-row;\"><div style=\"white-space:nowrap; color:blue;\"><span>trivial ∃ elimination</span></div></div></div></div></div><div style=\"display:table-row;\"><div style=\"display:table-cell;padding:0.2em 5px 0.2em 0px;vertical-align:top;\"> 2. </div><div style=\"display:table-cell;vertical-align:top;border-right:1px solid #848482;padding-right:5px;;padding-top:0.2em\"><div style=\"display:inline-block;\"><span>$\\textsf{False}$</span></div></div></div></div></div></div></div></div><div style=\"display:table-row;border-bottom:1px solid #848482;\"><div style=\"display:table-cell;padding:0.2em 5px 0.2em 0px;vertical-align:top;\"> 2. </div><div style=\"display:table-cell;vertical-align:top;border-right:1px solid #848482;padding-right:5px;;padding-top:0.2em\"><div style=\"display:inline-block;\"><span>$\\textsf{False} \\rightarrow{} (\\textsf{False} \\leftrightarrow{} \\textsf{False})$</span></div></div><div style=\"display:table-cell;vertical-align:top;padding-left:5px;padding-right:5px;padding-top:0.2em\"><div style=\"display:table;\"><div style=\"display:table-row;\"><div style=\"white-space:nowrap; color:blue;\"><span>[biconditional]</span></div></div></div></div></div><div style=\"display:table-row;border-bottom:1px solid #848482;\"><div style=\"display:table-cell;padding:0.2em 5px 0.2em 0px;vertical-align:top;\"> 3. </div><div style=\"display:table-cell;vertical-align:top;border-right:1px solid #848482;padding-right:5px;;padding-top:0.2em\"><div style=\"display:inline-block;\"><span>$\\textsf{False} \\rightarrow{} \\textsf{True}$</span></div></div><div style=\"display:table-cell;vertical-align:top;padding-left:5px;padding-right:5px;padding-top:0.2em\"><div style=\"display:table;\"><div style=\"display:table-row;\"><div style=\"white-space:nowrap; color:blue;\"><span>material implication</span></div></div></div></div></div><div style=\"display:table-row;\"><div style=\"display:table-cell;padding:0.2em 5px 0.2em 0px;vertical-align:top;\"> 4. </div><div style=\"display:table-cell;vertical-align:top;border-right:1px solid #848482;padding-right:5px;;padding-top:0.2em\"><div style=\"display:inline-block;\"><span>$\\textsf{True}$</span></div></div></div></div></div></div></div></div><div style=\"display:table-row;border-bottom:1px solid #848482;\"><div style=\"display:table-cell;padding:0.2em 5px 0.2em 0px;vertical-align:top;\"> 2. </div><div style=\"display:table-cell;vertical-align:top;border-right:1px solid #848482;padding-right:5px;;padding-top:0.2em\"><div style=\"display:inline-block;\"><span>$\\textsf{True} \\wedge{} ((\\exists{} y1_{e} \\: . \\: \\exists{}! x_{X} \\: . \\: \\textsf{True}) \\rightarrow{} (\\textsf{False} \\leftrightarrow{} \\textsf{True}))$</span></div></div><div style=\"display:table-cell;vertical-align:top;padding-left:5px;padding-right:5px;padding-top:0.2em\"><div style=\"display:table;\"><div style=\"display:table-row;\"><div style=\"white-space:nowrap; color:blue;\"><span>Recursive simplification of operand 1</span></div></div><div style=\"display:table-row;vertical-align:top;\"><div align=\"left\" style=\"display:table;border-collapse:collapse;\"><div style=\"display:table-row;border-bottom:1px solid #848482;\"><div style=\"display:table-cell;padding:0.2em 5px 0.2em 0px;vertical-align:top;\"></div><div style=\"display:table-cell;vertical-align:top;border-right:1px solid #848482;padding-right:5px;;padding-top:0.2em\"><div style=\"display:inline-block;\"><span>$(\\exists{} y1_{e} \\: . \\: \\exists{}! x_{X} \\: . \\: {y}_{t}) \\rightarrow{} (\\textsf{False} \\leftrightarrow{} {y}_{t})$</span></div></div><div style=\"display:table-cell;vertical-align:top;padding-left:5px;padding-right:5px;padding-top:0.2em\"><div style=\"display:table;\"><div style=\"display:table-row;\"><div style=\"white-space:nowrap; color:blue;\"><span>Assignment substitution</span></div></div></div></div></div><div style=\"display:table-row;border-bottom:1px solid #848482;\"><div style=\"display:table-cell;padding:0.2em 5px 0.2em 0px;vertical-align:top;\"> 1. </div><div style=\"display:table-cell;vertical-align:top;border-right:1px solid #848482;padding-right:5px;;padding-top:0.2em\"><div style=\"display:inline-block;\"><span>$(\\exists{} y1_{e} \\: . \\: \\exists{}! x_{X} \\: . \\: \\textsf{True}) \\rightarrow{} (\\textsf{False} \\leftrightarrow{} \\textsf{True})$</span></div></div><div style=\"display:table-cell;vertical-align:top;padding-left:5px;padding-right:5px;padding-top:0.2em\"><div style=\"display:table;\"><div style=\"display:table-row;\"><div style=\"white-space:nowrap; color:blue;\"><span>Recursive simplification of operand 0</span></div></div><div style=\"display:table-row;vertical-align:top;\"><div align=\"left\" style=\"display:table;border-collapse:collapse;\"><div style=\"display:table-row;border-bottom:1px solid #848482;\"><div style=\"display:table-cell;padding:0.2em 5px 0.2em 0px;vertical-align:top;\"></div><div style=\"display:table-cell;vertical-align:top;border-right:1px solid #848482;padding-right:5px;;padding-top:0.2em\"><div style=\"display:inline-block;\"><span>$\\exists{} y1_{e} \\: . \\: \\exists{}! x_{X} \\: . \\: \\textsf{True}$</span></div></div><div style=\"display:table-cell;vertical-align:top;padding-left:5px;padding-right:5px;padding-top:0.2em\"><div style=\"display:table;\"><div style=\"display:table-row;\"><div style=\"white-space:nowrap; color:blue;\"><span>Recursive simplification of body</span></div></div><div style=\"display:table-row;vertical-align:top;\"><div align=\"left\" style=\"display:table;border-collapse:collapse;\"><div style=\"display:table-row;border-bottom:1px solid #848482;\"><div style=\"display:table-cell;padding:0.2em 5px 0.2em 0px;vertical-align:top;\"></div><div style=\"display:table-cell;vertical-align:top;border-right:1px solid #848482;padding-right:5px;;padding-top:0.2em\"><div style=\"display:inline-block;\"><span>$\\exists{}! x_{X} \\: . \\: \\textsf{True}$</span></div></div><div style=\"display:table-cell;vertical-align:top;padding-left:5px;padding-right:5px;padding-top:0.2em\"><div style=\"display:table;\"><div style=\"display:table-row;\"><div style=\"white-space:nowrap; color:blue;\"><span>∃! elimination</span></div></div></div></div></div><div style=\"display:table-row;border-bottom:1px solid #848482;\"><div style=\"display:table-cell;padding:0.2em 5px 0.2em 0px;vertical-align:top;\"> 1. </div><div style=\"display:table-cell;vertical-align:top;border-right:1px solid #848482;padding-right:5px;;padding-top:0.2em\"><div style=\"display:inline-block;\"><span>$\\exists{} x_{?_{77}} \\: . \\: \\textsf{True} \\wedge{} (\\forall{} y_{?_{77}} \\: . \\: \\textsf{True} \\rightarrow{} {x} = {y})$</span></div></div><div style=\"display:table-cell;vertical-align:top;padding-left:5px;padding-right:5px;padding-top:0.2em\"><div style=\"display:table;\"><div style=\"display:table-row;\"><div style=\"white-space:nowrap; color:blue;\"><span>Recursive simplification of body</span></div></div><div style=\"display:table-row;vertical-align:top;\"><div align=\"left\" style=\"display:table;border-collapse:collapse;\"><div style=\"display:table-row;border-bottom:1px solid #848482;\"><div style=\"display:table-cell;padding:0.2em 5px 0.2em 0px;vertical-align:top;\"></div><div style=\"display:table-cell;vertical-align:top;border-right:1px solid #848482;padding-right:5px;;padding-top:0.2em\"><div style=\"display:inline-block;\"><span>$\\textsf{True} \\wedge{} (\\forall{} y_{?_{77}} \\: . \\: \\textsf{True} \\rightarrow{} {x}_{?_{77}} = {y})$</span></div></div><div style=\"display:table-cell;vertical-align:top;padding-left:5px;padding-right:5px;padding-top:0.2em\"><div style=\"display:table;\"><div style=\"display:table-row;\"><div style=\"white-space:nowrap; color:blue;\"><span>[[material implication]]</span></div></div></div></div></div><div style=\"display:table-row;border-bottom:1px solid #848482;\"><div style=\"display:table-cell;padding:0.2em 5px 0.2em 0px;vertical-align:top;\"> 1. </div><div style=\"display:table-cell;vertical-align:top;border-right:1px solid #848482;padding-right:5px;;padding-top:0.2em\"><div style=\"display:inline-block;\"><span>$\\textsf{True} \\wedge{} (\\forall{} y_{?_{77}} \\: . \\: {x}_{?_{77}} = {y})$</span></div></div><div style=\"display:table-cell;vertical-align:top;padding-left:5px;padding-right:5px;padding-top:0.2em\"><div style=\"display:table;\"><div style=\"display:table-row;\"><div style=\"white-space:nowrap; color:blue;\"><span>conjunction</span></div></div></div></div></div><div style=\"display:table-row;\"><div style=\"display:table-cell;padding:0.2em 5px 0.2em 0px;vertical-align:top;\"> 2. </div><div style=\"display:table-cell;vertical-align:top;border-right:1px solid #848482;padding-right:5px;;padding-top:0.2em\"><div style=\"display:inline-block;\"><span>$\\forall{} y_{?_{77}} \\: . \\: {x}_{?_{77}} = {y}$</span></div></div></div></div></div></div></div></div><div style=\"display:table-row;\"><div style=\"display:table-cell;padding:0.2em 5px 0.2em 0px;vertical-align:top;\"> 2. </div><div style=\"display:table-cell;vertical-align:top;border-right:1px solid #848482;padding-right:5px;;padding-top:0.2em\"><div style=\"display:inline-block;\"><span>$\\exists{} x_{?_{77}} \\: . \\: \\forall{} y_{?_{77}} \\: . \\: {x} = {y}$</span></div></div></div></div></div></div></div></div><div style=\"display:table-row;border-bottom:1px solid #848482;\"><div style=\"display:table-cell;padding:0.2em 5px 0.2em 0px;vertical-align:top;\"> 1. </div><div style=\"display:table-cell;vertical-align:top;border-right:1px solid #848482;padding-right:5px;;padding-top:0.2em\"><div style=\"display:inline-block;\"><span>$\\exists{} y1_{e} \\: . \\: \\exists{} x_{?_{77}} \\: . \\: \\forall{} y_{?_{77}} \\: . \\: {x} = {y}$</span></div></div><div style=\"display:table-cell;vertical-align:top;padding-left:5px;padding-right:5px;padding-top:0.2em\"><div style=\"display:table;\"><div style=\"display:table-row;\"><div style=\"white-space:nowrap; color:blue;\"><span>trivial ∃ elimination</span></div></div></div></div></div><div style=\"display:table-row;\"><div style=\"display:table-cell;padding:0.2em 5px 0.2em 0px;vertical-align:top;\"> 2. </div><div style=\"display:table-cell;vertical-align:top;border-right:1px solid #848482;padding-right:5px;;padding-top:0.2em\"><div style=\"display:inline-block;\"><span>$\\exists{} x_{?_{77}} \\: . \\: \\forall{} y_{?_{77}} \\: . \\: {x} = {y}$</span></div></div></div></div></div></div></div></div><div style=\"display:table-row;border-bottom:1px solid #848482;\"><div style=\"display:table-cell;padding:0.2em 5px 0.2em 0px;vertical-align:top;\"> 2. </div><div style=\"display:table-cell;vertical-align:top;border-right:1px solid #848482;padding-right:5px;;padding-top:0.2em\"><div style=\"display:inline-block;\"><span>$(\\exists{} x_{?_{77}} \\: . \\: \\forall{} y_{?_{77}} \\: . \\: {x} = {y}) \\rightarrow{} (\\textsf{False} \\leftrightarrow{} \\textsf{True})$</span></div></div><div style=\"display:table-cell;vertical-align:top;padding-left:5px;padding-right:5px;padding-top:0.2em\"><div style=\"display:table;\"><div style=\"display:table-row;\"><div style=\"white-space:nowrap; color:blue;\"><span>[biconditional]</span></div></div></div></div></div><div style=\"display:table-row;border-bottom:1px solid #848482;\"><div style=\"display:table-cell;padding:0.2em 5px 0.2em 0px;vertical-align:top;\"> 3. </div><div style=\"display:table-cell;vertical-align:top;border-right:1px solid #848482;padding-right:5px;;padding-top:0.2em\"><div style=\"display:inline-block;\"><span>$(\\exists{} x_{?_{77}} \\: . \\: \\forall{} y_{?_{77}} \\: . \\: {x} = {y}) \\rightarrow{} \\textsf{False}$</span></div></div><div style=\"display:table-cell;vertical-align:top;padding-left:5px;padding-right:5px;padding-top:0.2em\"><div style=\"display:table;\"><div style=\"display:table-row;\"><div style=\"white-space:nowrap; color:blue;\"><span>material implication</span></div></div></div></div></div><div style=\"display:table-row;\"><div style=\"display:table-cell;padding:0.2em 5px 0.2em 0px;vertical-align:top;\"> 4. </div><div style=\"display:table-cell;vertical-align:top;border-right:1px solid #848482;padding-right:5px;;padding-top:0.2em\"><div style=\"display:inline-block;\"><span>$\\neg{} (\\exists{} x_{?_{77}} \\: . \\: \\forall{} y_{?_{77}} \\: . \\: {x} = {y})$</span></div></div></div></div></div></div></div></div><div style=\"display:table-row;border-bottom:1px solid #848482;\"><div style=\"display:table-cell;padding:0.2em 5px 0.2em 0px;vertical-align:top;\"> 3. </div><div style=\"display:table-cell;vertical-align:top;border-right:1px solid #848482;padding-right:5px;;padding-top:0.2em\"><div style=\"display:inline-block;\"><span>$\\textsf{True} \\wedge{} \\neg{} (\\exists{} x_{?_{77}} \\: . \\: \\forall{} y_{?_{77}} \\: . \\: {x} = {y})$</span></div></div><div style=\"display:table-cell;vertical-align:top;padding-left:5px;padding-right:5px;padding-top:0.2em\"><div style=\"display:table;\"><div style=\"display:table-row;\"><div style=\"white-space:nowrap; color:blue;\"><span>conjunction</span></div></div></div></div></div><div style=\"display:table-row;\"><div style=\"display:table-cell;padding:0.2em 5px 0.2em 0px;vertical-align:top;\"> 4. </div><div style=\"display:table-cell;vertical-align:top;border-right:1px solid #848482;padding-right:5px;;padding-top:0.2em\"><div style=\"display:inline-block;\"><span>$\\neg{} (\\exists{} x_{?_{77}} \\: . \\: \\forall{} y_{?_{77}} \\: . \\: {x} = {y})$</span></div></div></div></div></div></div></div></div><div style=\"display:table-row;border-bottom:1px solid #848482;\"><div style=\"display:table-cell;padding:0.2em 5px 0.2em 0px;vertical-align:top;\"> 3. </div><div style=\"display:table-cell;vertical-align:top;border-right:1px solid #848482;padding-right:5px;;padding-top:0.2em\"><div style=\"display:inline-block;\"><span>$\\textsf{False} \\wedge{} \\neg{} (\\exists{} x_{?_{77}} \\: . \\: \\forall{} y_{?_{77}} \\: . \\: {x} = {y})$</span></div></div><div style=\"display:table-cell;vertical-align:top;padding-left:5px;padding-right:5px;padding-top:0.2em\"><div style=\"display:table;\"><div style=\"display:table-row;\"><div style=\"white-space:nowrap; color:blue;\"><span>conjunction (elimination on `False`)</span></div></div></div></div></div><div style=\"display:table-row;\"><div style=\"display:table-cell;padding:0.2em 5px 0.2em 0px;vertical-align:top;\"> 4. </div><div style=\"display:table-cell;vertical-align:top;border-right:1px solid #848482;padding-right:5px;;padding-top:0.2em\"><div style=\"display:inline-block;\"><span>$\\textsf{False}$</span></div></div></div></div></div></div></div></div><div style=\"display:table-row;border-bottom:1px solid #848482;\"><div style=\"display:table-cell;padding:0.2em 5px 0.2em 0px;vertical-align:top;\"> 3. </div><div style=\"display:table-cell;vertical-align:top;border-right:1px solid #848482;padding-right:5px;;padding-top:0.2em\"><div style=\"display:inline-block;\"><span>$\\textsf{False} \\vee{} ((\\exists{} y_{e} \\: . \\: \\exists{}! x1_{X} \\: . \\: \\textsf{True}) \\wedge{} (\\forall{} y_{t} \\: . \\: (\\exists{} y1_{e} \\: . \\: \\exists{}! x_{X} \\: . \\: {y}) \\rightarrow{} (\\textsf{True} \\leftrightarrow{} {y})))$</span></div></div><div style=\"display:table-cell;vertical-align:top;padding-left:5px;padding-right:5px;padding-top:0.2em\"><div style=\"display:table;\"><div style=\"display:table-row;\"><div style=\"white-space:nowrap; color:blue;\"><span>Recursive simplification of operand 1</span></div></div><div style=\"display:table-row;vertical-align:top;\"><div align=\"left\" style=\"display:table;border-collapse:collapse;\"><div style=\"display:table-row;border-bottom:1px solid #848482;\"><div style=\"display:table-cell;padding:0.2em 5px 0.2em 0px;vertical-align:top;\"></div><div style=\"display:table-cell;vertical-align:top;border-right:1px solid #848482;padding-right:5px;;padding-top:0.2em\"><div style=\"display:inline-block;\"><span>$(\\exists{} y_{e} \\: . \\: \\exists{}! x1_{X} \\: . \\: {x}_{t}) \\wedge{} (\\forall{} y_{t} \\: . \\: (\\exists{} y1_{e} \\: . \\: \\exists{}! x_{X} \\: . \\: {y}) \\rightarrow{} ({x}_{t} \\leftrightarrow{} {y}))$</span></div></div><div style=\"display:table-cell;vertical-align:top;padding-left:5px;padding-right:5px;padding-top:0.2em\"><div style=\"display:table;\"><div style=\"display:table-row;\"><div style=\"white-space:nowrap; color:blue;\"><span>Assignment substitution</span></div></div></div></div></div><div style=\"display:table-row;border-bottom:1px solid #848482;\"><div style=\"display:table-cell;padding:0.2em 5px 0.2em 0px;vertical-align:top;\"> 1. </div><div style=\"display:table-cell;vertical-align:top;border-right:1px solid #848482;padding-right:5px;;padding-top:0.2em\"><div style=\"display:inline-block;\"><span>$(\\exists{} y_{e} \\: . \\: \\exists{}! x1_{X} \\: . \\: \\textsf{True}) \\wedge{} (\\forall{} y_{t} \\: . \\: (\\exists{} y1_{e} \\: . \\: \\exists{}! x_{X} \\: . \\: {y}) \\rightarrow{} (\\textsf{True} \\leftrightarrow{} {y}))$</span></div></div><div style=\"display:table-cell;vertical-align:top;padding-left:5px;padding-right:5px;padding-top:0.2em\"><div style=\"display:table;\"><div style=\"display:table-row;\"><div style=\"white-space:nowrap; color:blue;\"><span>Recursive simplification of operand 0</span></div></div><div style=\"display:table-row;vertical-align:top;\"><div align=\"left\" style=\"display:table;border-collapse:collapse;\"><div style=\"display:table-row;border-bottom:1px solid #848482;\"><div style=\"display:table-cell;padding:0.2em 5px 0.2em 0px;vertical-align:top;\"></div><div style=\"display:table-cell;vertical-align:top;border-right:1px solid #848482;padding-right:5px;;padding-top:0.2em\"><div style=\"display:inline-block;\"><span>$\\exists{} y_{e} \\: . \\: \\exists{}! x1_{X} \\: . \\: \\textsf{True}$</span></div></div><div style=\"display:table-cell;vertical-align:top;padding-left:5px;padding-right:5px;padding-top:0.2em\"><div style=\"display:table;\"><div style=\"display:table-row;\"><div style=\"white-space:nowrap; color:blue;\"><span>Recursive simplification of body</span></div></div><div style=\"display:table-row;vertical-align:top;\"><div align=\"left\" style=\"display:table;border-collapse:collapse;\"><div style=\"display:table-row;border-bottom:1px solid #848482;\"><div style=\"display:table-cell;padding:0.2em 5px 0.2em 0px;vertical-align:top;\"></div><div style=\"display:table-cell;vertical-align:top;border-right:1px solid #848482;padding-right:5px;;padding-top:0.2em\"><div style=\"display:inline-block;\"><span>$\\exists{}! x1_{X} \\: . \\: \\textsf{True}$</span></div></div><div style=\"display:table-cell;vertical-align:top;padding-left:5px;padding-right:5px;padding-top:0.2em\"><div style=\"display:table;\"><div style=\"display:table-row;\"><div style=\"white-space:nowrap; color:blue;\"><span>∃! elimination</span></div></div></div></div></div><div style=\"display:table-row;border-bottom:1px solid #848482;\"><div style=\"display:table-cell;padding:0.2em 5px 0.2em 0px;vertical-align:top;\"> 1. </div><div style=\"display:table-cell;vertical-align:top;border-right:1px solid #848482;padding-right:5px;;padding-top:0.2em\"><div style=\"display:inline-block;\"><span>$\\exists{} x_{?_{81}} \\: . \\: \\textsf{True} \\wedge{} (\\forall{} y_{?_{81}} \\: . \\: \\textsf{True} \\rightarrow{} {x} = {y})$</span></div></div><div style=\"display:table-cell;vertical-align:top;padding-left:5px;padding-right:5px;padding-top:0.2em\"><div style=\"display:table;\"><div style=\"display:table-row;\"><div style=\"white-space:nowrap; color:blue;\"><span>Recursive simplification of body</span></div></div><div style=\"display:table-row;vertical-align:top;\"><div align=\"left\" style=\"display:table;border-collapse:collapse;\"><div style=\"display:table-row;border-bottom:1px solid #848482;\"><div style=\"display:table-cell;padding:0.2em 5px 0.2em 0px;vertical-align:top;\"></div><div style=\"display:table-cell;vertical-align:top;border-right:1px solid #848482;padding-right:5px;;padding-top:0.2em\"><div style=\"display:inline-block;\"><span>$\\textsf{True} \\wedge{} (\\forall{} y_{?_{81}} \\: . \\: \\textsf{True} \\rightarrow{} {x}_{?_{81}} = {y})$</span></div></div><div style=\"display:table-cell;vertical-align:top;padding-left:5px;padding-right:5px;padding-top:0.2em\"><div style=\"display:table;\"><div style=\"display:table-row;\"><div style=\"white-space:nowrap; color:blue;\"><span>[[material implication]]</span></div></div></div></div></div><div style=\"display:table-row;border-bottom:1px solid #848482;\"><div style=\"display:table-cell;padding:0.2em 5px 0.2em 0px;vertical-align:top;\"> 1. </div><div style=\"display:table-cell;vertical-align:top;border-right:1px solid #848482;padding-right:5px;;padding-top:0.2em\"><div style=\"display:inline-block;\"><span>$\\textsf{True} \\wedge{} (\\forall{} y_{?_{81}} \\: . \\: {x}_{?_{81}} = {y})$</span></div></div><div style=\"display:table-cell;vertical-align:top;padding-left:5px;padding-right:5px;padding-top:0.2em\"><div style=\"display:table;\"><div style=\"display:table-row;\"><div style=\"white-space:nowrap; color:blue;\"><span>conjunction</span></div></div></div></div></div><div style=\"display:table-row;\"><div style=\"display:table-cell;padding:0.2em 5px 0.2em 0px;vertical-align:top;\"> 2. </div><div style=\"display:table-cell;vertical-align:top;border-right:1px solid #848482;padding-right:5px;;padding-top:0.2em\"><div style=\"display:inline-block;\"><span>$\\forall{} y_{?_{81}} \\: . \\: {x}_{?_{81}} = {y}$</span></div></div></div></div></div></div></div></div><div style=\"display:table-row;\"><div style=\"display:table-cell;padding:0.2em 5px 0.2em 0px;vertical-align:top;\"> 2. </div><div style=\"display:table-cell;vertical-align:top;border-right:1px solid #848482;padding-right:5px;;padding-top:0.2em\"><div style=\"display:inline-block;\"><span>$\\exists{} x_{?_{81}} \\: . \\: \\forall{} y_{?_{81}} \\: . \\: {x} = {y}$</span></div></div></div></div></div></div></div></div><div style=\"display:table-row;border-bottom:1px solid #848482;\"><div style=\"display:table-cell;padding:0.2em 5px 0.2em 0px;vertical-align:top;\"> 1. </div><div style=\"display:table-cell;vertical-align:top;border-right:1px solid #848482;padding-right:5px;;padding-top:0.2em\"><div style=\"display:inline-block;\"><span>$\\exists{} y_{e} \\: . \\: \\exists{} x_{?_{81}} \\: . \\: \\forall{} y_{?_{81}} \\: . \\: {x} = {y}$</span></div></div><div style=\"display:table-cell;vertical-align:top;padding-left:5px;padding-right:5px;padding-top:0.2em\"><div style=\"display:table;\"><div style=\"display:table-row;\"><div style=\"white-space:nowrap; color:blue;\"><span>trivial ∃ elimination</span></div></div></div></div></div><div style=\"display:table-row;\"><div style=\"display:table-cell;padding:0.2em 5px 0.2em 0px;vertical-align:top;\"> 2. </div><div style=\"display:table-cell;vertical-align:top;border-right:1px solid #848482;padding-right:5px;;padding-top:0.2em\"><div style=\"display:inline-block;\"><span>$\\exists{} x_{?_{81}} \\: . \\: \\forall{} y_{?_{81}} \\: . \\: {x} = {y}$</span></div></div></div></div></div></div></div></div><div style=\"display:table-row;border-bottom:1px solid #848482;\"><div style=\"display:table-cell;padding:0.2em 5px 0.2em 0px;vertical-align:top;\"> 2. </div><div style=\"display:table-cell;vertical-align:top;border-right:1px solid #848482;padding-right:5px;;padding-top:0.2em\"><div style=\"display:inline-block;\"><span>$(\\exists{} x_{?_{81}} \\: . \\: \\forall{} y_{?_{81}} \\: . \\: {x} = {y}) \\wedge{} (\\forall{} y_{t} \\: . \\: (\\exists{} y1_{e} \\: . \\: \\exists{}! x_{X} \\: . \\: {y}) \\rightarrow{} (\\textsf{True} \\leftrightarrow{} {y}))$</span></div></div><div style=\"display:table-cell;vertical-align:top;padding-left:5px;padding-right:5px;padding-top:0.2em\"><div style=\"display:table;\"><div style=\"display:table-row;\"><div style=\"white-space:nowrap; color:blue;\"><span>Recursive simplification of operand 1</span></div></div><div style=\"display:table-row;vertical-align:top;\"><div align=\"left\" style=\"display:table;border-collapse:collapse;\"><div style=\"display:table-row;border-bottom:1px solid #848482;\"><div style=\"display:table-cell;padding:0.2em 5px 0.2em 0px;vertical-align:top;\"></div><div style=\"display:table-cell;vertical-align:top;border-right:1px solid #848482;padding-right:5px;;padding-top:0.2em\"><div style=\"display:inline-block;\"><span>$\\forall{} y_{t} \\: . \\: (\\exists{} y1_{e} \\: . \\: \\exists{}! x_{X} \\: . \\: {y}) \\rightarrow{} (\\textsf{True} \\leftrightarrow{} {y})$</span></div></div><div style=\"display:table-cell;vertical-align:top;padding-left:5px;padding-right:5px;padding-top:0.2em\"><div style=\"display:table;\"><div style=\"display:table-row;\"><div style=\"white-space:nowrap; color:blue;\"><span>∀y =&gt; ∧</span></div></div></div></div></div><div style=\"display:table-row;border-bottom:1px solid #848482;\"><div style=\"display:table-cell;padding:0.2em 5px 0.2em 0px;vertical-align:top;\"> 1. </div><div style=\"display:table-cell;vertical-align:top;border-right:1px solid #848482;padding-right:5px;;padding-top:0.2em\"><div style=\"display:inline-block;\"><span>$((\\exists{} y1_{e} \\: . \\: \\exists{}! x_{X} \\: . \\: \\textsf{False}) \\rightarrow{} (\\textsf{True} \\leftrightarrow{} \\textsf{False})) \\wedge{} ((\\exists{} y1_{e} \\: . \\: \\exists{}! x_{X} \\: . \\: \\textsf{True}) \\rightarrow{} (\\textsf{True} \\leftrightarrow{} \\textsf{True}))$</span></div></div><div style=\"display:table-cell;vertical-align:top;padding-left:5px;padding-right:5px;padding-top:0.2em\"><div style=\"display:table;\"><div style=\"display:table-row;\"><div style=\"white-space:nowrap; color:blue;\"><span>Recursive simplification of operand 0</span></div></div><div style=\"display:table-row;vertical-align:top;\"><div align=\"left\" style=\"display:table;border-collapse:collapse;\"><div style=\"display:table-row;border-bottom:1px solid #848482;\"><div style=\"display:table-cell;padding:0.2em 5px 0.2em 0px;vertical-align:top;\"></div><div style=\"display:table-cell;vertical-align:top;border-right:1px solid #848482;padding-right:5px;;padding-top:0.2em\"><div style=\"display:inline-block;\"><span>$(\\exists{} y1_{e} \\: . \\: \\exists{}! x_{X} \\: . \\: {y}_{t}) \\rightarrow{} (\\textsf{True} \\leftrightarrow{} {y}_{t})$</span></div></div><div style=\"display:table-cell;vertical-align:top;padding-left:5px;padding-right:5px;padding-top:0.2em\"><div style=\"display:table;\"><div style=\"display:table-row;\"><div style=\"white-space:nowrap; color:blue;\"><span>Assignment substitution</span></div></div></div></div></div><div style=\"display:table-row;border-bottom:1px solid #848482;\"><div style=\"display:table-cell;padding:0.2em 5px 0.2em 0px;vertical-align:top;\"> 1. </div><div style=\"display:table-cell;vertical-align:top;border-right:1px solid #848482;padding-right:5px;;padding-top:0.2em\"><div style=\"display:inline-block;\"><span>$(\\exists{} y1_{e} \\: . \\: \\exists{}! x_{X} \\: . \\: \\textsf{False}) \\rightarrow{} (\\textsf{True} \\leftrightarrow{} \\textsf{False})$</span></div></div><div style=\"display:table-cell;vertical-align:top;padding-left:5px;padding-right:5px;padding-top:0.2em\"><div style=\"display:table;\"><div style=\"display:table-row;\"><div style=\"white-space:nowrap; color:blue;\"><span>Recursive simplification of operand 0</span></div></div><div style=\"display:table-row;vertical-align:top;\"><div align=\"left\" style=\"display:table;border-collapse:collapse;\"><div style=\"display:table-row;border-bottom:1px solid #848482;\"><div style=\"display:table-cell;padding:0.2em 5px 0.2em 0px;vertical-align:top;\"></div><div style=\"display:table-cell;vertical-align:top;border-right:1px solid #848482;padding-right:5px;;padding-top:0.2em\"><div style=\"display:inline-block;\"><span>$\\exists{} y1_{e} \\: . \\: \\exists{}! x_{X} \\: . \\: \\textsf{False}$</span></div></div><div style=\"display:table-cell;vertical-align:top;padding-left:5px;padding-right:5px;padding-top:0.2em\"><div style=\"display:table;\"><div style=\"display:table-row;\"><div style=\"white-space:nowrap; color:blue;\"><span>Recursive simplification of body</span></div></div><div style=\"display:table-row;vertical-align:top;\"><div align=\"left\" style=\"display:table;border-collapse:collapse;\"><div style=\"display:table-row;border-bottom:1px solid #848482;\"><div style=\"display:table-cell;padding:0.2em 5px 0.2em 0px;vertical-align:top;\"></div><div style=\"display:table-cell;vertical-align:top;border-right:1px solid #848482;padding-right:5px;;padding-top:0.2em\"><div style=\"display:inline-block;\"><span>$\\exists{}! x_{X} \\: . \\: \\textsf{False}$</span></div></div><div style=\"display:table-cell;vertical-align:top;padding-left:5px;padding-right:5px;padding-top:0.2em\"><div style=\"display:table;\"><div style=\"display:table-row;\"><div style=\"white-space:nowrap; color:blue;\"><span>∃! elimination</span></div></div></div></div></div><div style=\"display:table-row;border-bottom:1px solid #848482;\"><div style=\"display:table-cell;padding:0.2em 5px 0.2em 0px;vertical-align:top;\"> 1. </div><div style=\"display:table-cell;vertical-align:top;border-right:1px solid #848482;padding-right:5px;;padding-top:0.2em\"><div style=\"display:inline-block;\"><span>$\\exists{} x_{?_{85}} \\: . \\: \\textsf{False} \\wedge{} (\\forall{} y_{?_{85}} \\: . \\: \\textsf{False} \\rightarrow{} {x} = {y})$</span></div></div><div style=\"display:table-cell;vertical-align:top;padding-left:5px;padding-right:5px;padding-top:0.2em\"><div style=\"display:table;\"><div style=\"display:table-row;\"><div style=\"white-space:nowrap; color:blue;\"><span>Recursive simplification of body</span></div></div><div style=\"display:table-row;vertical-align:top;\"><div align=\"left\" style=\"display:table;border-collapse:collapse;\"><div style=\"display:table-row;border-bottom:1px solid #848482;\"><div style=\"display:table-cell;padding:0.2em 5px 0.2em 0px;vertical-align:top;\"></div><div style=\"display:table-cell;vertical-align:top;border-right:1px solid #848482;padding-right:5px;;padding-top:0.2em\"><div style=\"display:inline-block;\"><span>$\\textsf{False} \\wedge{} (\\forall{} y_{?_{85}} \\: . \\: \\textsf{False} \\rightarrow{} {x}_{?_{85}} = {y})$</span></div></div><div style=\"display:table-cell;vertical-align:top;padding-left:5px;padding-right:5px;padding-top:0.2em\"><div style=\"display:table;\"><div style=\"display:table-row;\"><div style=\"white-space:nowrap; color:blue;\"><span>Recursive simplification of operand 1</span></div></div><div style=\"display:table-row;vertical-align:top;\"><div align=\"left\" style=\"display:table;border-collapse:collapse;\"><div style=\"display:table-row;border-bottom:1px solid #848482;\"><div style=\"display:table-cell;padding:0.2em 5px 0.2em 0px;vertical-align:top;\"></div><div style=\"display:table-cell;vertical-align:top;border-right:1px solid #848482;padding-right:5px;;padding-top:0.2em\"><div style=\"display:inline-block;\"><span>$\\forall{} y_{?_{85}} \\: . \\: \\textsf{False} \\rightarrow{} {x}_{?_{85}} = {y}$</span></div></div><div style=\"display:table-cell;vertical-align:top;padding-left:5px;padding-right:5px;padding-top:0.2em\"><div style=\"display:table;\"><div style=\"display:table-row;\"><div style=\"white-space:nowrap; color:blue;\"><span>[material implication]</span></div></div></div></div></div><div style=\"display:table-row;border-bottom:1px solid #848482;\"><div style=\"display:table-cell;padding:0.2em 5px 0.2em 0px;vertical-align:top;\"> 1. </div><div style=\"display:table-cell;vertical-align:top;border-right:1px solid #848482;padding-right:5px;;padding-top:0.2em\"><div style=\"display:inline-block;\"><span>$\\forall{} y_{?_{85}} \\: . \\: \\textsf{True}$</span></div></div><div style=\"display:table-cell;vertical-align:top;padding-left:5px;padding-right:5px;padding-top:0.2em\"><div style=\"display:table;\"><div style=\"display:table-row;\"><div style=\"white-space:nowrap; color:blue;\"><span>trivial ∀ elimination</span></div></div></div></div></div><div style=\"display:table-row;\"><div style=\"display:table-cell;padding:0.2em 5px 0.2em 0px;vertical-align:top;\"> 2. </div><div style=\"display:table-cell;vertical-align:top;border-right:1px solid #848482;padding-right:5px;;padding-top:0.2em\"><div style=\"display:inline-block;\"><span>$\\textsf{True}$</span></div></div></div></div></div></div></div></div><div style=\"display:table-row;border-bottom:1px solid #848482;\"><div style=\"display:table-cell;padding:0.2em 5px 0.2em 0px;vertical-align:top;\"> 1. </div><div style=\"display:table-cell;vertical-align:top;border-right:1px solid #848482;padding-right:5px;;padding-top:0.2em\"><div style=\"display:inline-block;\"><span>$\\textsf{False} \\wedge{} \\textsf{True}$</span></div></div><div style=\"display:table-cell;vertical-align:top;padding-left:5px;padding-right:5px;padding-top:0.2em\"><div style=\"display:table;\"><div style=\"display:table-row;\"><div style=\"white-space:nowrap; color:blue;\"><span>conjunction (elimination on `False`)</span></div></div></div></div></div><div style=\"display:table-row;\"><div style=\"display:table-cell;padding:0.2em 5px 0.2em 0px;vertical-align:top;\"> 2. </div><div style=\"display:table-cell;vertical-align:top;border-right:1px solid #848482;padding-right:5px;;padding-top:0.2em\"><div style=\"display:inline-block;\"><span>$\\textsf{False}$</span></div></div></div></div></div></div></div></div><div style=\"display:table-row;border-bottom:1px solid #848482;\"><div style=\"display:table-cell;padding:0.2em 5px 0.2em 0px;vertical-align:top;\"> 2. </div><div style=\"display:table-cell;vertical-align:top;border-right:1px solid #848482;padding-right:5px;;padding-top:0.2em\"><div style=\"display:inline-block;\"><span>$\\exists{} x_{?_{85}} \\: . \\: \\textsf{False}$</span></div></div><div style=\"display:table-cell;vertical-align:top;padding-left:5px;padding-right:5px;padding-top:0.2em\"><div style=\"display:table;\"><div style=\"display:table-row;\"><div style=\"white-space:nowrap; color:blue;\"><span>trivial ∃ elimination</span></div></div></div></div></div><div style=\"display:table-row;\"><div style=\"display:table-cell;padding:0.2em 5px 0.2em 0px;vertical-align:top;\"> 3. </div><div style=\"display:table-cell;vertical-align:top;border-right:1px solid #848482;padding-right:5px;;padding-top:0.2em\"><div style=\"display:inline-block;\"><span>$\\textsf{False}$</span></div></div></div></div></div></div></div></div><div style=\"display:table-row;border-bottom:1px solid #848482;\"><div style=\"display:table-cell;padding:0.2em 5px 0.2em 0px;vertical-align:top;\"> 1. </div><div style=\"display:table-cell;vertical-align:top;border-right:1px solid #848482;padding-right:5px;;padding-top:0.2em\"><div style=\"display:inline-block;\"><span>$\\exists{} y1_{e} \\: . \\: \\textsf{False}$</span></div></div><div style=\"display:table-cell;vertical-align:top;padding-left:5px;padding-right:5px;padding-top:0.2em\"><div style=\"display:table;\"><div style=\"display:table-row;\"><div style=\"white-space:nowrap; color:blue;\"><span>trivial ∃ elimination</span></div></div></div></div></div><div style=\"display:table-row;\"><div style=\"display:table-cell;padding:0.2em 5px 0.2em 0px;vertical-align:top;\"> 2. </div><div style=\"display:table-cell;vertical-align:top;border-right:1px solid #848482;padding-right:5px;;padding-top:0.2em\"><div style=\"display:inline-block;\"><span>$\\textsf{False}$</span></div></div></div></div></div></div></div></div><div style=\"display:table-row;border-bottom:1px solid #848482;\"><div style=\"display:table-cell;padding:0.2em 5px 0.2em 0px;vertical-align:top;\"> 2. </div><div style=\"display:table-cell;vertical-align:top;border-right:1px solid #848482;padding-right:5px;;padding-top:0.2em\"><div style=\"display:inline-block;\"><span>$\\textsf{False} \\rightarrow{} (\\textsf{True} \\leftrightarrow{} \\textsf{False})$</span></div></div><div style=\"display:table-cell;vertical-align:top;padding-left:5px;padding-right:5px;padding-top:0.2em\"><div style=\"display:table;\"><div style=\"display:table-row;\"><div style=\"white-space:nowrap; color:blue;\"><span>Recursive simplification of operand 1</span></div></div><div style=\"display:table-row;vertical-align:top;\"><div align=\"left\" style=\"display:table;border-collapse:collapse;\"><div style=\"display:table-row;border-bottom:1px solid #848482;\"><div style=\"display:table-cell;padding:0.2em 5px 0.2em 0px;vertical-align:top;\"></div><div style=\"display:table-cell;vertical-align:top;border-right:1px solid #848482;padding-right:5px;;padding-top:0.2em\"><div style=\"display:inline-block;\"><span>$\\textsf{True} \\leftrightarrow{} \\textsf{False}$</span></div></div><div style=\"display:table-cell;vertical-align:top;padding-left:5px;padding-right:5px;padding-top:0.2em\"><div style=\"display:table;\"><div style=\"display:table-row;\"><div style=\"white-space:nowrap; color:blue;\"><span>alphabetic normalization</span></div></div></div></div></div><div style=\"display:table-row;border-bottom:1px solid #848482;\"><div style=\"display:table-cell;padding:0.2em 5px 0.2em 0px;vertical-align:top;\"> 1. </div><div style=\"display:table-cell;vertical-align:top;border-right:1px solid #848482;padding-right:5px;;padding-top:0.2em\"><div style=\"display:inline-block;\"><span>$\\textsf{False} \\leftrightarrow{} \\textsf{True}$</span></div></div><div style=\"display:table-cell;vertical-align:top;padding-left:5px;padding-right:5px;padding-top:0.2em\"><div style=\"display:table;\"><div style=\"display:table-row;\"><div style=\"white-space:nowrap; color:blue;\"><span>biconditional</span></div></div></div></div></div><div style=\"display:table-row;\"><div style=\"display:table-cell;padding:0.2em 5px 0.2em 0px;vertical-align:top;\"> 2. </div><div style=\"display:table-cell;vertical-align:top;border-right:1px solid #848482;padding-right:5px;;padding-top:0.2em\"><div style=\"display:inline-block;\"><span>$\\textsf{False}$</span></div></div></div></div></div></div></div></div><div style=\"display:table-row;border-bottom:1px solid #848482;\"><div style=\"display:table-cell;padding:0.2em 5px 0.2em 0px;vertical-align:top;\"> 3. </div><div style=\"display:table-cell;vertical-align:top;border-right:1px solid #848482;padding-right:5px;;padding-top:0.2em\"><div style=\"display:inline-block;\"><span>$\\textsf{False} \\rightarrow{} \\textsf{False}$</span></div></div><div style=\"display:table-cell;vertical-align:top;padding-left:5px;padding-right:5px;padding-top:0.2em\"><div style=\"display:table;\"><div style=\"display:table-row;\"><div style=\"white-space:nowrap; color:blue;\"><span>material implication</span></div></div></div></div></div><div style=\"display:table-row;\"><div style=\"display:table-cell;padding:0.2em 5px 0.2em 0px;vertical-align:top;\"> 4. </div><div style=\"display:table-cell;vertical-align:top;border-right:1px solid #848482;padding-right:5px;;padding-top:0.2em\"><div style=\"display:inline-block;\"><span>$\\textsf{True}$</span></div></div></div></div></div></div></div></div><div style=\"display:table-row;border-bottom:1px solid #848482;\"><div style=\"display:table-cell;padding:0.2em 5px 0.2em 0px;vertical-align:top;\"> 2. </div><div style=\"display:table-cell;vertical-align:top;border-right:1px solid #848482;padding-right:5px;;padding-top:0.2em\"><div style=\"display:inline-block;\"><span>$\\textsf{True} \\wedge{} ((\\exists{} y1_{e} \\: . \\: \\exists{}! x_{X} \\: . \\: \\textsf{True}) \\rightarrow{} (\\textsf{True} \\leftrightarrow{} \\textsf{True}))$</span></div></div><div style=\"display:table-cell;vertical-align:top;padding-left:5px;padding-right:5px;padding-top:0.2em\"><div style=\"display:table;\"><div style=\"display:table-row;\"><div style=\"white-space:nowrap; color:blue;\"><span>Recursive simplification of operand 1</span></div></div><div style=\"display:table-row;vertical-align:top;\"><div align=\"left\" style=\"display:table;border-collapse:collapse;\"><div style=\"display:table-row;border-bottom:1px solid #848482;\"><div style=\"display:table-cell;padding:0.2em 5px 0.2em 0px;vertical-align:top;\"></div><div style=\"display:table-cell;vertical-align:top;border-right:1px solid #848482;padding-right:5px;;padding-top:0.2em\"><div style=\"display:inline-block;\"><span>$(\\exists{} y1_{e} \\: . \\: \\exists{}! x_{X} \\: . \\: {y}_{t}) \\rightarrow{} (\\textsf{True} \\leftrightarrow{} {y}_{t})$</span></div></div><div style=\"display:table-cell;vertical-align:top;padding-left:5px;padding-right:5px;padding-top:0.2em\"><div style=\"display:table;\"><div style=\"display:table-row;\"><div style=\"white-space:nowrap; color:blue;\"><span>Assignment substitution</span></div></div></div></div></div><div style=\"display:table-row;border-bottom:1px solid #848482;\"><div style=\"display:table-cell;padding:0.2em 5px 0.2em 0px;vertical-align:top;\"> 1. </div><div style=\"display:table-cell;vertical-align:top;border-right:1px solid #848482;padding-right:5px;;padding-top:0.2em\"><div style=\"display:inline-block;\"><span>$(\\exists{} y1_{e} \\: . \\: \\exists{}! x_{X} \\: . \\: \\textsf{True}) \\rightarrow{} (\\textsf{True} \\leftrightarrow{} \\textsf{True})$</span></div></div><div style=\"display:table-cell;vertical-align:top;padding-left:5px;padding-right:5px;padding-top:0.2em\"><div style=\"display:table;\"><div style=\"display:table-row;\"><div style=\"white-space:nowrap; color:blue;\"><span>Recursive simplification of operand 0</span></div></div><div style=\"display:table-row;vertical-align:top;\"><div align=\"left\" style=\"display:table;border-collapse:collapse;\"><div style=\"display:table-row;border-bottom:1px solid #848482;\"><div style=\"display:table-cell;padding:0.2em 5px 0.2em 0px;vertical-align:top;\"></div><div style=\"display:table-cell;vertical-align:top;border-right:1px solid #848482;padding-right:5px;;padding-top:0.2em\"><div style=\"display:inline-block;\"><span>$\\exists{} y1_{e} \\: . \\: \\exists{}! x_{X} \\: . \\: \\textsf{True}$</span></div></div><div style=\"display:table-cell;vertical-align:top;padding-left:5px;padding-right:5px;padding-top:0.2em\"><div style=\"display:table;\"><div style=\"display:table-row;\"><div style=\"white-space:nowrap; color:blue;\"><span>Recursive simplification of body</span></div></div><div style=\"display:table-row;vertical-align:top;\"><div align=\"left\" style=\"display:table;border-collapse:collapse;\"><div style=\"display:table-row;border-bottom:1px solid #848482;\"><div style=\"display:table-cell;padding:0.2em 5px 0.2em 0px;vertical-align:top;\"></div><div style=\"display:table-cell;vertical-align:top;border-right:1px solid #848482;padding-right:5px;;padding-top:0.2em\"><div style=\"display:inline-block;\"><span>$\\exists{}! x_{X} \\: . \\: \\textsf{True}$</span></div></div><div style=\"display:table-cell;vertical-align:top;padding-left:5px;padding-right:5px;padding-top:0.2em\"><div style=\"display:table;\"><div style=\"display:table-row;\"><div style=\"white-space:nowrap; color:blue;\"><span>∃! elimination</span></div></div></div></div></div><div style=\"display:table-row;border-bottom:1px solid #848482;\"><div style=\"display:table-cell;padding:0.2em 5px 0.2em 0px;vertical-align:top;\"> 1. </div><div style=\"display:table-cell;vertical-align:top;border-right:1px solid #848482;padding-right:5px;;padding-top:0.2em\"><div style=\"display:inline-block;\"><span>$\\exists{} x_{?_{89}} \\: . \\: \\textsf{True} \\wedge{} (\\forall{} y_{?_{89}} \\: . \\: \\textsf{True} \\rightarrow{} {x} = {y})$</span></div></div><div style=\"display:table-cell;vertical-align:top;padding-left:5px;padding-right:5px;padding-top:0.2em\"><div style=\"display:table;\"><div style=\"display:table-row;\"><div style=\"white-space:nowrap; color:blue;\"><span>Recursive simplification of body</span></div></div><div style=\"display:table-row;vertical-align:top;\"><div align=\"left\" style=\"display:table;border-collapse:collapse;\"><div style=\"display:table-row;border-bottom:1px solid #848482;\"><div style=\"display:table-cell;padding:0.2em 5px 0.2em 0px;vertical-align:top;\"></div><div style=\"display:table-cell;vertical-align:top;border-right:1px solid #848482;padding-right:5px;;padding-top:0.2em\"><div style=\"display:inline-block;\"><span>$\\textsf{True} \\wedge{} (\\forall{} y_{?_{89}} \\: . \\: \\textsf{True} \\rightarrow{} {x}_{?_{89}} = {y})$</span></div></div><div style=\"display:table-cell;vertical-align:top;padding-left:5px;padding-right:5px;padding-top:0.2em\"><div style=\"display:table;\"><div style=\"display:table-row;\"><div style=\"white-space:nowrap; color:blue;\"><span>[[material implication]]</span></div></div></div></div></div><div style=\"display:table-row;border-bottom:1px solid #848482;\"><div style=\"display:table-cell;padding:0.2em 5px 0.2em 0px;vertical-align:top;\"> 1. </div><div style=\"display:table-cell;vertical-align:top;border-right:1px solid #848482;padding-right:5px;;padding-top:0.2em\"><div style=\"display:inline-block;\"><span>$\\textsf{True} \\wedge{} (\\forall{} y_{?_{89}} \\: . \\: {x}_{?_{89}} = {y})$</span></div></div><div style=\"display:table-cell;vertical-align:top;padding-left:5px;padding-right:5px;padding-top:0.2em\"><div style=\"display:table;\"><div style=\"display:table-row;\"><div style=\"white-space:nowrap; color:blue;\"><span>conjunction</span></div></div></div></div></div><div style=\"display:table-row;\"><div style=\"display:table-cell;padding:0.2em 5px 0.2em 0px;vertical-align:top;\"> 2. </div><div style=\"display:table-cell;vertical-align:top;border-right:1px solid #848482;padding-right:5px;;padding-top:0.2em\"><div style=\"display:inline-block;\"><span>$\\forall{} y_{?_{89}} \\: . \\: {x}_{?_{89}} = {y}$</span></div></div></div></div></div></div></div></div><div style=\"display:table-row;\"><div style=\"display:table-cell;padding:0.2em 5px 0.2em 0px;vertical-align:top;\"> 2. </div><div style=\"display:table-cell;vertical-align:top;border-right:1px solid #848482;padding-right:5px;;padding-top:0.2em\"><div style=\"display:inline-block;\"><span>$\\exists{} x_{?_{89}} \\: . \\: \\forall{} y_{?_{89}} \\: . \\: {x} = {y}$</span></div></div></div></div></div></div></div></div><div style=\"display:table-row;border-bottom:1px solid #848482;\"><div style=\"display:table-cell;padding:0.2em 5px 0.2em 0px;vertical-align:top;\"> 1. </div><div style=\"display:table-cell;vertical-align:top;border-right:1px solid #848482;padding-right:5px;;padding-top:0.2em\"><div style=\"display:inline-block;\"><span>$\\exists{} y1_{e} \\: . \\: \\exists{} x_{?_{89}} \\: . \\: \\forall{} y_{?_{89}} \\: . \\: {x} = {y}$</span></div></div><div style=\"display:table-cell;vertical-align:top;padding-left:5px;padding-right:5px;padding-top:0.2em\"><div style=\"display:table;\"><div style=\"display:table-row;\"><div style=\"white-space:nowrap; color:blue;\"><span>trivial ∃ elimination</span></div></div></div></div></div><div style=\"display:table-row;\"><div style=\"display:table-cell;padding:0.2em 5px 0.2em 0px;vertical-align:top;\"> 2. </div><div style=\"display:table-cell;vertical-align:top;border-right:1px solid #848482;padding-right:5px;;padding-top:0.2em\"><div style=\"display:inline-block;\"><span>$\\exists{} x_{?_{89}} \\: . \\: \\forall{} y_{?_{89}} \\: . \\: {x} = {y}$</span></div></div></div></div></div></div></div></div><div style=\"display:table-row;border-bottom:1px solid #848482;\"><div style=\"display:table-cell;padding:0.2em 5px 0.2em 0px;vertical-align:top;\"> 2. </div><div style=\"display:table-cell;vertical-align:top;border-right:1px solid #848482;padding-right:5px;;padding-top:0.2em\"><div style=\"display:inline-block;\"><span>$(\\exists{} x_{?_{89}} \\: . \\: \\forall{} y_{?_{89}} \\: . \\: {x} = {y}) \\rightarrow{} (\\textsf{True} \\leftrightarrow{} \\textsf{True})$</span></div></div><div style=\"display:table-cell;vertical-align:top;padding-left:5px;padding-right:5px;padding-top:0.2em\"><div style=\"display:table;\"><div style=\"display:table-row;\"><div style=\"white-space:nowrap; color:blue;\"><span>[biconditional]</span></div></div></div></div></div><div style=\"display:table-row;border-bottom:1px solid #848482;\"><div style=\"display:table-cell;padding:0.2em 5px 0.2em 0px;vertical-align:top;\"> 3. </div><div style=\"display:table-cell;vertical-align:top;border-right:1px solid #848482;padding-right:5px;;padding-top:0.2em\"><div style=\"display:inline-block;\"><span>$(\\exists{} x_{?_{89}} \\: . \\: \\forall{} y_{?_{89}} \\: . \\: {x} = {y}) \\rightarrow{} \\textsf{True}$</span></div></div><div style=\"display:table-cell;vertical-align:top;padding-left:5px;padding-right:5px;padding-top:0.2em\"><div style=\"display:table;\"><div style=\"display:table-row;\"><div style=\"white-space:nowrap; color:blue;\"><span>material implication</span></div></div></div></div></div><div style=\"display:table-row;\"><div style=\"display:table-cell;padding:0.2em 5px 0.2em 0px;vertical-align:top;\"> 4. </div><div style=\"display:table-cell;vertical-align:top;border-right:1px solid #848482;padding-right:5px;;padding-top:0.2em\"><div style=\"display:inline-block;\"><span>$\\textsf{True}$</span></div></div></div></div></div></div></div></div><div style=\"display:table-row;border-bottom:1px solid #848482;\"><div style=\"display:table-cell;padding:0.2em 5px 0.2em 0px;vertical-align:top;\"> 3. </div><div style=\"display:table-cell;vertical-align:top;border-right:1px solid #848482;padding-right:5px;;padding-top:0.2em\"><div style=\"display:inline-block;\"><span>$\\textsf{True} \\wedge{} \\textsf{True}$</span></div></div><div style=\"display:table-cell;vertical-align:top;padding-left:5px;padding-right:5px;padding-top:0.2em\"><div style=\"display:table;\"><div style=\"display:table-row;\"><div style=\"white-space:nowrap; color:blue;\"><span>conjunction</span></div></div></div></div></div><div style=\"display:table-row;\"><div style=\"display:table-cell;padding:0.2em 5px 0.2em 0px;vertical-align:top;\"> 4. </div><div style=\"display:table-cell;vertical-align:top;border-right:1px solid #848482;padding-right:5px;;padding-top:0.2em\"><div style=\"display:inline-block;\"><span>$\\textsf{True}$</span></div></div></div></div></div></div></div></div><div style=\"display:table-row;border-bottom:1px solid #848482;\"><div style=\"display:table-cell;padding:0.2em 5px 0.2em 0px;vertical-align:top;\"> 3. </div><div style=\"display:table-cell;vertical-align:top;border-right:1px solid #848482;padding-right:5px;;padding-top:0.2em\"><div style=\"display:inline-block;\"><span>$(\\exists{} x_{?_{81}} \\: . \\: \\forall{} y_{?_{81}} \\: . \\: {x} = {y}) \\wedge{} \\textsf{True}$</span></div></div><div style=\"display:table-cell;vertical-align:top;padding-left:5px;padding-right:5px;padding-top:0.2em\"><div style=\"display:table;\"><div style=\"display:table-row;\"><div style=\"white-space:nowrap; color:blue;\"><span>conjunction</span></div></div></div></div></div><div style=\"display:table-row;\"><div style=\"display:table-cell;padding:0.2em 5px 0.2em 0px;vertical-align:top;\"> 4. </div><div style=\"display:table-cell;vertical-align:top;border-right:1px solid #848482;padding-right:5px;;padding-top:0.2em\"><div style=\"display:inline-block;\"><span>$\\exists{} x_{?_{81}} \\: . \\: \\forall{} y_{?_{81}} \\: . \\: {x} = {y}$</span></div></div></div></div></div></div></div></div><div style=\"display:table-row;border-bottom:1px solid #848482;\"><div style=\"display:table-cell;padding:0.2em 5px 0.2em 0px;vertical-align:top;\"> 4. </div><div style=\"display:table-cell;vertical-align:top;border-right:1px solid #848482;padding-right:5px;;padding-top:0.2em\"><div style=\"display:inline-block;\"><span>$\\textsf{False} \\vee{} (\\exists{} x_{?_{81}} \\: . \\: \\forall{} y_{?_{81}} \\: . \\: {x} = {y})$</span></div></div><div style=\"display:table-cell;vertical-align:top;padding-left:5px;padding-right:5px;padding-top:0.2em\"><div style=\"display:table;\"><div style=\"display:table-row;\"><div style=\"white-space:nowrap; color:blue;\"><span>disjunction</span></div></div></div></div></div><div style=\"display:table-row;border-bottom:1px solid #848482;\"><div style=\"display:table-cell;padding:0.2em 5px 0.2em 0px;vertical-align:top;\"> 5. </div><div style=\"display:table-cell;vertical-align:top;border-right:1px solid #848482;padding-right:5px;;padding-top:0.2em\"><div style=\"display:inline-block;\"><span>$\\exists{} x_{?_{81}} \\: . \\: \\forall{} y_{?_{81}} \\: . \\: {x} = {y}$</span></div></div><div style=\"display:table-cell;vertical-align:top;padding-left:5px;padding-right:5px;padding-top:0.2em\"><div style=\"display:table;\"><div style=\"display:table-row;\"><div style=\"white-space:nowrap; color:blue;\"><span>Let substitution</span></div></div></div></div></div><div style=\"display:table-row;\"><div style=\"display:table-cell;padding:0.2em 5px 0.2em 0px;vertical-align:top;\"> 6. </div><div style=\"display:table-cell;vertical-align:top;border-right:1px solid #848482;padding-right:5px;;padding-top:0.2em\"><div style=\"display:inline-block;\"><span>$\\exists{} x_{X} \\: . \\: \\forall{} y_{X} \\: . \\: {x} = {y}$</span></div></div></div></div></div></div></div></div>"
      ],
      "text/plain": [
       "DisplayNode instance: HTML rendering only"
      ]
     },
     "execution_count": 467,
     "metadata": {},
     "output_type": "execute_result"
    }
   ],
   "source": [
    "y.simplify_all(eliminate_quantifiers=True).derivation.trace()"
   ]
  },
  {
   "cell_type": "code",
   "execution_count": 428,
   "id": "b0d959d5-94ea-4bae-9b47-b4fa3f0832dc",
   "metadata": {},
   "outputs": [],
   "source": [
    "reload_lamb()"
   ]
  },
  {
   "cell_type": "code",
   "execution_count": 429,
   "id": "f3978892-adea-46c2-a7bf-89567de6dc63",
   "metadata": {},
   "outputs": [
    {
     "data": {
      "text/latex": [
       "$\\exists{}! x_{X} \\: . \\: {p}_{t}$"
      ],
      "text/plain": [
       "(ExistsExact x_X: p_t)"
      ]
     },
     "execution_count": 429,
     "metadata": {},
     "output_type": "execute_result"
    }
   ],
   "source": [
    "y = %te (ExistsExact x_X: p_t)\n",
    "y.simplify_all()"
   ]
  },
  {
   "cell_type": "code",
   "execution_count": 430,
   "id": "5f96667d-83f5-4d12-b4e8-df982697009b",
   "metadata": {},
   "outputs": [
    {
     "data": {
      "text/latex": [
       "$\\exists{}! x_{X} \\: . \\: \\textsf{True}$"
      ],
      "text/plain": [
       "(ExistsExact x_X: True)"
      ]
     },
     "execution_count": 430,
     "metadata": {},
     "output_type": "execute_result"
    }
   ],
   "source": [
    "x = %te ExistsExact x_X : True\n",
    "x"
   ]
  },
  {
   "cell_type": "code",
   "execution_count": 431,
   "id": "97a3f373-c9ee-4690-b85f-f074723be42b",
   "metadata": {},
   "outputs": [
    {
     "data": {
      "text/latex": [
       "$\\exists{} x_{?_{9}} \\: . \\: \\textsf{True} \\wedge{} (\\forall{} y_{?_{9}} \\: . \\: \\textsf{True} \\rightarrow{} {x} = {y})$"
      ],
      "text/plain": [
       "(Exists x_?9: (True & (Forall y_?9: (True >> (x_?9 <=> y_?9)))))"
      ]
     },
     "execution_count": 431,
     "metadata": {},
     "output_type": "execute_result"
    }
   ],
   "source": [
    "x.eliminate()"
   ]
  },
  {
   "cell_type": "code",
   "execution_count": 432,
   "id": "d7021ada-d087-4882-b6e9-12622df92651",
   "metadata": {},
   "outputs": [
    {
     "data": {
      "text/html": [
       "<div align=\"left\" style=\"display:table;\"><div style=\"display:table-cell;vertical-align:top;padding-left:5px;padding-right:5px;padding-top:0.2em\"><div style=\"display:table;\"><div style=\"display:table-row;vertical-align:top;\"><div align=\"left\" style=\"display:table;border-collapse:collapse;\"><div style=\"display:table-row;border-bottom:1px solid #848482;\"><div style=\"display:table-cell;padding:0.2em 5px 0.2em 0px;vertical-align:top;\"></div><div style=\"display:table-cell;vertical-align:top;border-right:1px solid #848482;padding-right:5px;;padding-top:0.2em\"><div style=\"display:inline-block;\"><span>$\\exists{}! x_{X} \\: . \\: \\textsf{True}$</span></div></div><div style=\"display:table-cell;vertical-align:top;padding-left:5px;padding-right:5px;padding-top:0.2em\"><div style=\"display:table;\"><div style=\"display:table-row;\"><div style=\"white-space:nowrap; color:blue;\"><span>∃! elimination</span></div></div></div></div></div><div style=\"display:table-row;border-bottom:1px solid #848482;\"><div style=\"display:table-cell;padding:0.2em 5px 0.2em 0px;vertical-align:top;\"> 1. </div><div style=\"display:table-cell;vertical-align:top;border-right:1px solid #848482;padding-right:5px;;padding-top:0.2em\"><div style=\"display:inline-block;\"><span>$\\exists{} x_{?_{13}} \\: . \\: \\textsf{True} \\wedge{} (\\forall{} y_{?_{13}} \\: . \\: \\textsf{True} \\rightarrow{} {x} = {y})$</span></div></div><div style=\"display:table-cell;vertical-align:top;padding-left:5px;padding-right:5px;padding-top:0.2em\"><div style=\"display:table;\"><div style=\"display:table-row;\"><div style=\"white-space:nowrap; color:blue;\"><span>Recursive simplification of body</span></div></div></div></div></div><div style=\"display:table-row;border-bottom:1px solid #848482;\"><div style=\"display:table-cell;padding:0.2em 5px 0.2em 0px;vertical-align:top;\"> 2. </div><div style=\"display:table-cell;vertical-align:top;border-right:1px solid #848482;padding-right:5px;;padding-top:0.2em\"><div style=\"display:inline-block;\"><span>$\\exists{} x_{?_{13}} \\: . \\: \\forall{} y_{?_{13}} \\: . \\: {x} = {y}$</span></div></div><div style=\"display:table-cell;vertical-align:top;padding-left:5px;padding-right:5px;padding-top:0.2em\"><div style=\"display:table;\"><div style=\"display:table-row;\"><div style=\"white-space:nowrap; color:blue;\"><span>Let substitution</span></div></div></div></div></div><div style=\"display:table-row;\"><div style=\"display:table-cell;padding:0.2em 5px 0.2em 0px;vertical-align:top;\"> 3. </div><div style=\"display:table-cell;vertical-align:top;border-right:1px solid #848482;padding-right:5px;;padding-top:0.2em\"><div style=\"display:inline-block;\"><span>$\\exists{} x_{X} \\: . \\: \\forall{} y_{X} \\: . \\: {x} = {y}$</span></div></div></div></div></div></div></div></div>"
      ],
      "text/plain": [
       " 1. (ExistsExact x_X: True)    (∃! elimination)\n",
       " 2. (Exists x_?13: (True & (Forall y_?13: (True >> (x_?13 <=> y_?13)))))    (Recursive simplification of body)\n",
       " 3. (Exists x_?13: (Forall y_?13: (x_?13 <=> y_?13)))    (Let substitution)\n",
       " 4. (Exists x_X: (Forall y_X: (x_X <=> y_X)))"
      ]
     },
     "execution_count": 432,
     "metadata": {},
     "output_type": "execute_result"
    }
   ],
   "source": [
    "x.simplify_all(eliminate_quantifiers=True).derivation"
   ]
  },
  {
   "cell_type": "code",
   "execution_count": 418,
   "id": "ca9a25a0-df95-49a8-81c5-7214ca553214",
   "metadata": {},
   "outputs": [
    {
     "data": {
      "text/latex": [
       "$\\lambda{} f_{\\left\\langle{}X,t\\right\\rangle{}} \\: . \\: \\exists{} x_{X} \\: . \\: {f}({x}) \\wedge{} (\\forall{} y_{X} \\: . \\: {f}({y}) \\rightarrow{} {x} = {y})$"
      ],
      "text/plain": [
       "(λ f_<X,t>: (Exists x_X: (f_<X,t>(x_X) & (Forall y_X: (f_<X,t>(y_X) >> (x_X <=> y_X))))))"
      ]
     },
     "execution_count": 418,
     "metadata": {},
     "output_type": "execute_result"
    }
   ],
   "source": [
    "comb = meta.quantifiers.ExistsExact._impl_unrestricted.copy()\n",
    "comb"
   ]
  },
  {
   "cell_type": "code",
   "execution_count": 385,
   "id": "de8a6dca-6d9c-4ee2-ad24-26b6d42566a6",
   "metadata": {},
   "outputs": [
    {
     "data": {
      "text/latex": [
       "$\\lambda{} f_{\\left\\langle{}?_{173},t\\right\\rangle{}} \\: . \\: \\exists{} x_{?_{173}} \\: . \\: {f}({x})$"
      ],
      "text/plain": [
       "(λ f_<?173,t>: (Exists x_?173: f_<?173,t>(x_?173)))"
      ]
     },
     "execution_count": 385,
     "metadata": {},
     "output_type": "execute_result"
    }
   ],
   "source": [
    "te(\"L f_<∀X,t> : Exists x_∀X : f(x)\", let=False)"
   ]
  },
  {
   "cell_type": "code",
   "execution_count": 380,
   "id": "e66a0d28-0d50-4607-a2fc-926f4a96a81a",
   "metadata": {},
   "outputs": [
    {
     "data": {
      "text/latex": [
       "$\\lambda{} f_{\\left\\langle{}\\forall{}X,t\\right\\rangle{}} \\: . \\: \\exists{} x_{X'} \\: . \\: {f}_{\\left\\langle{}X',t\\right\\rangle{}}({x}) \\wedge{} (\\forall{} y_{X} \\: . \\: {f}_{\\left\\langle{}X,t\\right\\rangle{}}({y}) \\rightarrow{} {x}_{\\forall{}X} = {y}_{\\forall{}X})$"
      ],
      "text/plain": [
       "(λ f_<∀X,t>: (Exists x_X1: (f_<X1,t>(x_X1) & (Forall y_X: (f_<X,t>(y_X) >> (x_∀X <=> y_∀X))))))"
      ]
     },
     "execution_count": 380,
     "metadata": {},
     "output_type": "execute_result"
    }
   ],
   "source": [
    "comb2 = te(\"L f_<∀X,t> : Exists x_∀X : f(x) & (Forall y_∀X : f(y) >> x <=> y)\")\n",
    "comb2"
   ]
  },
  {
   "cell_type": "code",
   "execution_count": 377,
   "id": "b78df49d-6a5a-43fc-a6d2-10bcbcc4209f",
   "metadata": {},
   "outputs": [
    {
     "data": {
      "text/html": [
       "<table><tr><td>Term mappings:&nbsp;&nbsp; </td><td>$\\{\\}$</td></tr><tr><td>Type mappings:&nbsp;&nbsp; </td><td>$\\{\\}$</td></tr><tr><td>Type variables:&nbsp;&nbsp; </td><td>$\\{X', X\\}$</td></tr></table>"
      ],
      "text/plain": [
       "[TypeEnv: Terms: {}, Type mapping: {}, Type variables: {X1, X}]"
      ]
     },
     "execution_count": 377,
     "metadata": {},
     "output_type": "execute_result"
    }
   ],
   "source": [
    "comb2.get_type_env()"
   ]
  },
  {
   "cell_type": "code",
   "execution_count": 427,
   "id": "45b42bfa-a431-45a2-9175-09b0d48c1ae1",
   "metadata": {},
   "outputs": [
    {
     "data": {
      "text/plain": [
       "True"
      ]
     },
     "execution_count": 427,
     "metadata": {},
     "output_type": "execute_result"
    }
   ],
   "source": [
    "comb.let"
   ]
  },
  {
   "cell_type": "code",
   "execution_count": 426,
   "id": "43464d51-c756-48e7-9a63-2f6623c2d927",
   "metadata": {},
   "outputs": [
    {
     "data": {
      "text/latex": [
       "${[\\lambda{} f_{\\left\\langle{}?_{67},t\\right\\rangle{}} \\: . \\: \\exists{} x_{?_{67}} \\: . \\: {f}({x}) \\wedge{} (\\forall{} y_{?_{67}} \\: . \\: {f}({y}) \\rightarrow{} {x} = {y})]}(\\lambda{} x_{?_{67}} \\: . \\: \\textsf{True})$"
      ],
      "text/plain": [
       "(λ f_<?67,t>: (Exists x_?67: (f_<?67,t>(x_?67) & (Forall y_?67: (f_<?67,t>(y_?67) >> (x_?67 <=> y_?67))))))(λ x_?67: True)"
      ]
     },
     "execution_count": 426,
     "metadata": {},
     "output_type": "execute_result"
    }
   ],
   "source": [
    "comb(meta.core.LFun(x[0], x[1]))"
   ]
  },
  {
   "cell_type": "code",
   "execution_count": 435,
   "id": "688029f1-e5bc-4a65-aa27-c87e7e3c841d",
   "metadata": {},
   "outputs": [
    {
     "data": {
      "text/latex": [
       "$\\exists{} x_{?_{25}} \\: . \\: \\textsf{True} \\wedge{} (\\forall{} y_{?_{25}} \\: . \\: \\textsf{True} \\rightarrow{} {x} = {y})$"
      ],
      "text/plain": [
       "(Exists x_?25: (True & (Forall y_?25: (True >> (x_?25 <=> y_?25)))))"
      ]
     },
     "execution_count": 435,
     "metadata": {},
     "output_type": "execute_result"
    }
   ],
   "source": [
    "x.eliminate()"
   ]
  },
  {
   "cell_type": "code",
   "execution_count": 468,
   "id": "a00bfbe4-ae57-4063-aa34-df1a82c09dd0",
   "metadata": {},
   "outputs": [
    {
     "name": "stdout",
     "output_type": "stream",
     "text": [
      "INFO (core): Coerced guessed type for 'F_t' into <X,t>, to match argument 'x_X'\n"
     ]
    },
    {
     "data": {
      "text/latex": [
       "$\\lambda{} x_{\\left\\langle{}X,t\\right\\rangle{}} \\: . \\: \\exists{} x1_{X} \\: . \\: {F}_{\\left\\langle{}\\left\\langle{}X,t\\right\\rangle{},t\\right\\rangle{}}({x}) \\wedge{} {x}({x1}) \\wedge{} (\\forall{} y_{X} \\: . \\: ({F}_{\\left\\langle{}\\left\\langle{}X,t\\right\\rangle{},t\\right\\rangle{}}({x}) \\wedge{} {x}({y})) \\rightarrow{} {x1} = {y})$"
      ],
      "text/plain": [
       "(λ x_<X,t>: (Exists x1_X: ((F_<<X,t>,t>(x_<X,t>) & x_<X,t>(x1_X)) & (Forall y_X: ((F_<<X,t>,t>(x_<X,t>) & x_<X,t>(y_X)) >> (x1_X <=> y_X))))))"
      ]
     },
     "execution_count": 468,
     "metadata": {},
     "output_type": "execute_result"
    }
   ],
   "source": [
    "te(\"L x_X : ExistsExact y_Y : x(y) & F(x)\").simplify_all(eliminate_quantifiers=True) #.eliminate()"
   ]
  },
  {
   "cell_type": "code",
   "execution_count": null,
   "id": "ee1279ea-45c4-45f0-b85b-6604d9b91030",
   "metadata": {},
   "outputs": [],
   "source": []
  },
  {
   "cell_type": "code",
   "execution_count": null,
   "id": "448cbb1b-aa40-4b20-8037-dc48f26753f6",
   "metadata": {},
   "outputs": [],
   "source": []
  },
  {
   "cell_type": "code",
   "execution_count": 7,
   "id": "f98919bc-c196-4731-ac5c-bb7115cf7dea",
   "metadata": {},
   "outputs": [],
   "source": [
    "reload_lamb()"
   ]
  },
  {
   "cell_type": "code",
   "execution_count": 8,
   "id": "533c784a-1c5f-411a-9934-4f965e5dd2dc",
   "metadata": {},
   "outputs": [
    {
     "data": {
      "text/latex": [
       "$\\{\\{\\{{w}_{e} \\:|\\: {p}_{\\left\\langle{}e,t\\right\\rangle{}}({w}_{e})\\}\\}\\}$"
      ],
      "text/plain": [
       "{{(Set w_e: p_<e,t>(w_e))}}"
      ]
     },
     "execution_count": 8,
     "metadata": {},
     "output_type": "execute_result"
    }
   ],
   "source": [
    "%te { {Set w_e : p_<e,t>(w)} }"
   ]
  },
  {
   "cell_type": "code",
   "execution_count": 9,
   "id": "37bdfb14-1b09-4a65-b28f-343d61eb00f6",
   "metadata": {},
   "outputs": [
    {
     "data": {
      "text/latex": [
       "$\\{\\{(\\exists{} w_{e} \\: . \\: {p}_{\\left\\langle{}e,t\\right\\rangle{}}({w}))\\}\\}$"
      ],
      "text/plain": [
       "{{(Exists w_e: p_<e,t>(w_e))}}"
      ]
     },
     "execution_count": 9,
     "metadata": {},
     "output_type": "execute_result"
    }
   ],
   "source": [
    "%te { {Exists w_e : p_<e,t>(w)} }"
   ]
  },
  {
   "cell_type": "code",
   "execution_count": null,
   "id": "e089bf78-ab9c-4b3f-a38a-9df725026290",
   "metadata": {},
   "outputs": [],
   "source": []
  }
 ],
 "metadata": {
  "kernelspec": {
   "display_name": "Lambda Notebook (Python 3)",
   "language": "python",
   "name": "lambda-notebook"
  },
  "language_info": {
   "codemirror_mode": {
    "name": "ipython",
    "version": 3
   },
   "file_extension": ".py",
   "mimetype": "text/x-python",
   "name": "python",
   "nbconvert_exporter": "python",
   "pygments_lexer": "ipython3",
   "version": "3.10.14"
  }
 },
 "nbformat": 4,
 "nbformat_minor": 5
}
