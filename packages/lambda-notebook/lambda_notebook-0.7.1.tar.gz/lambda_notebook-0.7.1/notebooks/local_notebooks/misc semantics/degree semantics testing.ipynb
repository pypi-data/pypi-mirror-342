{
 "cells": [
  {
   "cell_type": "code",
   "execution_count": 93,
   "metadata": {
    "collapsed": false,
    "jupyter": {
     "outputs_hidden": false
    }
   },
   "outputs": [],
   "source": [
    "reload_lamb()"
   ]
  },
  {
   "cell_type": "code",
   "execution_count": 1,
   "metadata": {
    "collapsed": false,
    "jupyter": {
     "outputs_hidden": false
    }
   },
   "outputs": [
    {
     "data": {
      "text/markdown": [
       "${card}_{\\left\\langle{}e,n\\right\\rangle{}}\\:=\\:{Card}_{\\left\\langle{}e,n\\right\\rangle{}}$<br />\n",
       "${maxfun}_{\\left\\langle{}\\left\\{n\\right\\},n\\right\\rangle{}}\\:=\\:{Max}_{\\left\\langle{}\\left\\{n\\right\\},n\\right\\rangle{}}$<br />\n",
       "$[\\![\\text{\\textbf{many}}]\\!]^{}_{\\left\\langle{}n,\\left\\langle{}\\left\\langle{}e,t\\right\\rangle{},\\left\\langle{}e,t\\right\\rangle{}\\right\\rangle{}\\right\\rangle{}} \\:=\\: \\lambda{} d_{n} \\: . \\: \\lambda{} f_{\\left\\langle{}e,t\\right\\rangle{}} \\: . \\: \\lambda{} x_{e} \\: . \\: ({Card}_{\\left\\langle{}e,n\\right\\rangle{}}({x}) \\geq{} {d}) \\wedge{} {f}({x})$"
      ],
      "text/plain": [
       "card_<e,n> = Card_<e,n>\n",
       "maxfun_<{n},n> = Max_<{n},n>\n",
       "⟦many⟧ = (λ d_n: (λ f_<e,t>: (λ x_e: ((Card_<e,n>(x_e) >= d_n) & f_<e,t>(x_e)))))"
      ]
     },
     "metadata": {},
     "output_type": "display_data"
    }
   ],
   "source": [
    "%%lamb\n",
    "card = Card_<e,n>\n",
    "maxfun = Max_<{n},n>\n",
    "||many|| = L d_n : L f_<e,t> : L x_e : f(x) & (card(x) >= d)"
   ]
  },
  {
   "cell_type": "code",
   "execution_count": 2,
   "metadata": {
    "collapsed": false,
    "jupyter": {
     "outputs_hidden": false
    }
   },
   "outputs": [
    {
     "data": {
      "text/markdown": [
       "${dset}_{\\left\\langle{}\\left\\langle{}n,\\left\\langle{}e,t\\right\\rangle{}\\right\\rangle{},\\left\\langle{}e,\\left\\{n\\right\\}\\right\\rangle{}\\right\\rangle{}}\\:=\\:\\lambda{} d_{\\left\\langle{}n,\\left\\langle{}e,t\\right\\rangle{}\\right\\rangle{}} \\: . \\: \\lambda{} x_{e} \\: . \\: \\{{d2}_{n} \\:|\\: {d}({d2}_{n})({x})\\}$"
      ],
      "text/plain": [
       "dset_<<n,<e,t>>,<e,{n}>> = (λ d_<n,<e,t>>: (λ x_e: (Set d2_n: d_<n,<e,t>>(d2_n)(x_e))))"
      ]
     },
     "metadata": {},
     "output_type": "display_data"
    }
   ],
   "source": [
    "%%lamb\n",
    "dset = L d_<n,<e,t>> : L x_e : Set d2_n: d(d2)(x)\n",
    "#||est|| = L c_{e} : L d_<n,<e,t>> : L x_e : Forall y_e: (c << y) >> ((y != x) >>  (maxfun(dset(d)(x)) > maxfun(dset(d)(y))))"
   ]
  },
  {
   "cell_type": "code",
   "execution_count": 3,
   "metadata": {
    "collapsed": false,
    "jupyter": {
     "outputs_hidden": false
    }
   },
   "outputs": [
    {
     "data": {
      "text/latex": [
       "${Max}_{\\left\\langle{}\\left\\{n\\right\\},n\\right\\rangle{}}(\\{{d2}_{n} \\:|\\: {d}_{\\left\\langle{}n,\\left\\langle{}e,t\\right\\rangle{}\\right\\rangle{}}({d2}_{n})({x}_{e})\\})$"
      ],
      "text/plain": [
       "Max_<{n},n>(Set d2_n: d_<n,<e,t>>(d2_n)(x_e))"
      ]
     },
     "execution_count": 3,
     "metadata": {},
     "output_type": "execute_result"
    }
   ],
   "source": [
    "maxfun(dset(\"d_<n,<e,t>>\")(\"x_e\")).reduce_all()"
   ]
  },
  {
   "cell_type": "code",
   "execution_count": 4,
   "metadata": {
    "collapsed": false,
    "jupyter": {
     "outputs_hidden": false
    }
   },
   "outputs": [
    {
     "data": {
      "text/markdown": [
       "<span style=\"color:red\">**ParseError**</span>: Parsing of assignment failed, in string `est.reduce_all()`"
      ],
      "text/plain": [
       "ParseError: Parsing of assignment failed, in string `est.reduce_all()`"
      ]
     },
     "metadata": {},
     "output_type": "display_data"
    },
    {
     "data": {
      "text/markdown": [
       "$[\\![\\text{\\textbf{est}}]\\!]^{}_{\\left\\langle{}\\left\\{e\\right\\},\\left\\langle{}\\left\\langle{}n,\\left\\langle{}e,t\\right\\rangle{}\\right\\rangle{},\\left\\langle{}e,t\\right\\rangle{}\\right\\rangle{}\\right\\rangle{}} \\:=\\: \\lambda{} c_{\\left\\{e\\right\\}} \\: . \\: \\lambda{} d_{\\left\\langle{}n,\\left\\langle{}e,t\\right\\rangle{}\\right\\rangle{}} \\: . \\: \\lambda{} x_{e} \\: . \\: \\forall{} y_{e} \\: . \\: ({y} \\in{} {c}) \\rightarrow{} (\\neg{} {x} = {y} \\rightarrow{} ({Max}_{\\left\\langle{}\\left\\{n\\right\\},n\\right\\rangle{}}(\\{{d2}_{n} \\:|\\: {d}({d2}_{n})({x})\\}) > {Max}_{\\left\\langle{}\\left\\{n\\right\\},n\\right\\rangle{}}(\\{{d2}_{n} \\:|\\: {d}({d2}_{n})({y})\\})))$"
      ],
      "text/plain": [
       "⟦est⟧ = (λ c_{e}: (λ d_<n,<e,t>>: (λ x_e: (Forall y_e: ((y_e << c_{e}) >> (~(x_e <=> y_e) >> (Max_<{n},n>(Set d2_n: d_<n,<e,t>>(d2_n)(x_e)) > Max_<{n},n>(Set d2_n: d_<n,<e,t>>(d2_n)(y_e)))))))))"
      ]
     },
     "metadata": {},
     "output_type": "display_data"
    }
   ],
   "source": [
    "%%lamb\n",
    "||est|| = L c_{e} : L d_<n,<e,t>> : L x_e : Forall y_e: (y << c) >> ((~(y <=> x)) >> (maxfun(dset(d)(x)) > maxfun(dset(d)(y))))\n",
    "est.reduce_all()        "
   ]
  },
  {
   "cell_type": "code",
   "execution_count": 5,
   "metadata": {
    "collapsed": false,
    "jupyter": {
     "outputs_hidden": false
    }
   },
   "outputs": [
    {
     "data": {
      "text/latex": [
       "${y}_{e} \\in{} {c}_{\\left\\{e\\right\\}}$"
      ],
      "text/plain": [
       "(y_e ∈ c_{e})"
      ]
     },
     "execution_count": 5,
     "metadata": {},
     "output_type": "execute_result"
    }
   ],
   "source": [
    "te(\"y_e << c_{e}\")"
   ]
  },
  {
   "cell_type": "code",
   "execution_count": 6,
   "metadata": {
    "collapsed": false,
    "jupyter": {
     "outputs_hidden": false
    }
   },
   "outputs": [
    {
     "data": {
      "text/latex": [
       "$\\neg{} {y}_{e} = {x}_{e}$"
      ],
      "text/plain": [
       "¬(y_e <=> x_e)"
      ]
     },
     "execution_count": 6,
     "metadata": {},
     "output_type": "execute_result"
    }
   ],
   "source": [
    "te(\"~(y_e <=> x_e)\")"
   ]
  },
  {
   "cell_type": "code",
   "execution_count": 7,
   "metadata": {
    "collapsed": false,
    "jupyter": {
     "outputs_hidden": false
    }
   },
   "outputs": [
    {
     "name": "stdout",
     "output_type": "stream",
     "text": [
      "INFO (core): Coerced guessed type for 'Mt_t' into <e,t>, to match argument 'x_e'\n",
      "INFO (core): Coerced guessed type for 'Climbed_t' into <(e,e),t>, to match argument '(y_e, x_e)'\n"
     ]
    },
    {
     "data": {
      "text/markdown": [
       "$[\\![\\text{\\textbf{high}}]\\!]^{}_{\\left\\langle{}n,\\left\\langle{}e,t\\right\\rangle{}\\right\\rangle{}} \\:=\\: \\lambda{} d_{n} \\: . \\: \\lambda{} x_{e} \\: . \\: {Height}_{\\left\\langle{}e,n\\right\\rangle{}}({x}) \\geq{} {d}$<br />\n",
       "$[\\![\\text{\\textbf{mountain}}]\\!]^{}_{\\left\\langle{}e,t\\right\\rangle{}} \\:=\\: \\lambda{} x_{e} \\: . \\: {Mt}({x})$<br />\n",
       "$[\\![\\text{\\textbf{climbed}}]\\!]^{}_{\\left\\langle{}e,\\left\\langle{}e,t\\right\\rangle{}\\right\\rangle{}} \\:=\\: \\lambda{} x_{e} \\: . \\: \\lambda{} y_{e} \\: . \\: {Climbed}({y}, {x})$<br />\n",
       "$[\\![\\text{\\textbf{the}}]\\!]^{}_{\\left\\langle{}\\left\\langle{}e,t\\right\\rangle{},e\\right\\rangle{}} \\:=\\: \\lambda{} f_{\\left\\langle{}e,t\\right\\rangle{}} \\: . \\: \\iota{} x_{e} \\: . \\: {f}({x})$<br />\n",
       "$[\\![\\text{\\textbf{C}}]\\!]^{}_{\\left\\{e\\right\\}} \\:=\\: {C}_{\\left\\{e\\right\\}}$"
      ],
      "text/plain": [
       "⟦high⟧ = (λ d_n: (λ x_e: (Height_<e,n>(x_e) >= d_n)))\n",
       "⟦mountain⟧ = (λ x_e: Mt_<e,t>(x_e))\n",
       "⟦climbed⟧ = (λ x_e: (λ y_e: Climbed_<(e,e),t>(y_e, x_e)))\n",
       "⟦the⟧ = (λ f_<e,t>: (ι x_e: f_<e,t>(x_e)))\n",
       "⟦C⟧ = C_{e}"
      ]
     },
     "metadata": {},
     "output_type": "display_data"
    }
   ],
   "source": [
    "%%lamb\n",
    "||high|| = L d_n : L x_e : Height_<e,n>(x) >= d\n",
    "||mountain|| = L x_e : Mt(x)\n",
    "||climbed|| = L x_e : L y_e : Climbed(y,x)\n",
    "||the|| = L f_<e,t> : Iota x_e : f(x)\n",
    "||C|| = C_{e}"
   ]
  },
  {
   "cell_type": "code",
   "execution_count": 8,
   "metadata": {
    "collapsed": false,
    "jupyter": {
     "outputs_hidden": false
    }
   },
   "outputs": [
    {
     "data": {
      "image/svg+xml": [
       "<svg baseProfile=\"full\" height=\"8px\" preserveAspectRatio=\"xMidYMid meet\" style=\"font-family: times, serif; font-weight: normal; font-style: normal; font-size: 16px;\" version=\"1.1\" viewBox=\"0,0,16.0,8.0\" width=\"16px\" xmlns=\"http://www.w3.org/2000/svg\" xmlns:ev=\"http://www.w3.org/2001/xml-events\" xmlns:xlink=\"http://www.w3.org/1999/xlink\"><defs /><svg width=\"100%\" x=\"0\" y=\"0px\"><defs /></svg></svg>"
      ],
      "text/latex": [
       "$[\\![\\text{\\textbf{t}}_{2}]\\!]^{}_{n} \\:=\\: {var2}_{n}$"
      ],
      "text/plain": [
       "⟦t2⟧ = var2_n"
      ]
     },
     "execution_count": 8,
     "metadata": {},
     "output_type": "execute_result"
    }
   ],
   "source": [
    "trace = lang.Trace(index=2, typ=tp(\"n\"))\n",
    "trace"
   ]
  },
  {
   "cell_type": "code",
   "execution_count": 14,
   "metadata": {},
   "outputs": [
    {
     "data": {
      "text/latex": [
       "${t1}_{n}$"
      ],
      "text/plain": [
       "t1_n"
      ]
     },
     "execution_count": 14,
     "metadata": {},
     "output_type": "execute_result"
    }
   ],
   "source": [
    "lamb.meta.term(\"t1\", types.type_n)"
   ]
  },
  {
   "cell_type": "code",
   "execution_count": 18,
   "metadata": {
    "collapsed": false,
    "jupyter": {
     "outputs_hidden": false
    }
   },
   "outputs": [
    {
     "data": {
      "text/html": [
       "Composition system 'Type-driven composition (copy)'<br />Operations: {<br />&nbsp;&nbsp;&nbsp;&nbsp;Binary composition rule <i>FA</i>, built on python function 'lamb.lang.fa_fun'<br />&nbsp;&nbsp;&nbsp;&nbsp;Binary composition rule <i>PM</i>, built on python function 'lamb.lang.pm_fun'<br />&nbsp;&nbsp;&nbsp;&nbsp;Binary composition rule <i>PA</i>, built on python function 'lamb.lang.pa_fun'<br />&nbsp;&nbsp;&nbsp;&nbsp;Binary composition rule <i>VAC</i>, built on python function 'lamb.lang.binary_vacuous'<br />}"
      ],
      "text/plain": [
       "Composition system: Type-driven composition (copy)"
      ]
     },
     "execution_count": 18,
     "metadata": {},
     "output_type": "execute_result"
    }
   ],
   "source": [
    "system = lang.td_system.copy()\n",
    "lang.set_system(system)\n",
    "lang.get_system()"
   ]
  },
  {
   "cell_type": "code",
   "execution_count": 19,
   "metadata": {
    "collapsed": false,
    "jupyter": {
     "outputs_hidden": false
    }
   },
   "outputs": [
    {
     "data": {
      "image/svg+xml": [
       "<svg baseProfile=\"full\" height=\"8px\" preserveAspectRatio=\"xMidYMid meet\" style=\"font-family: times, serif; font-weight: normal; font-style: normal; font-size: 16px;\" version=\"1.1\" viewBox=\"0,0,16.0,8.0\" width=\"16px\" xmlns=\"http://www.w3.org/2000/svg\" xmlns:ev=\"http://www.w3.org/2001/xml-events\" xmlns:xlink=\"http://www.w3.org/1999/xlink\"><defs /><svg width=\"100%\" x=\"0\" y=\"0px\"><defs /></svg></svg>"
      ],
      "text/latex": [
       "$[\\![\\text{\\textbf{2}}]\\!]^{}\\text{ [vacuous]}$"
      ],
      "text/plain": [
       "⟦2⟧ *vacuous*"
      ]
     },
     "execution_count": 19,
     "metadata": {},
     "output_type": "execute_result"
    }
   ],
   "source": [
    "binder = lang.Binder(index=2)\n",
    "binder"
   ]
  },
  {
   "cell_type": "code",
   "execution_count": 20,
   "metadata": {
    "collapsed": false,
    "jupyter": {
     "outputs_hidden": false
    }
   },
   "outputs": [
    {
     "data": {
      "text/markdown": [
       "1 composition path.  Result:<br />\n",
       "&nbsp;&nbsp;&nbsp;&nbsp;[0]: $[\\![\\text{\\textbf{[[est C] [2 [[t2 high] mountain]]]}}]\\!]^{}_{\\left\\langle{}e,t\\right\\rangle{}} \\:=\\: \\lambda{} x_{e} \\: . \\: \\forall{} y_{e} \\: . \\: ({y} \\in{} {C}_{\\left\\{e\\right\\}}) \\rightarrow{} (\\neg{} {x} = {y} \\rightarrow{} ({Max}_{\\left\\langle{}\\left\\{n\\right\\},n\\right\\rangle{}}(\\{{d2}_{n} \\:|\\: ({Height}_{\\left\\langle{}e,n\\right\\rangle{}}({x}) \\geq{} {d2}_{n}) \\wedge{} {Mt}({x})\\}) > {Max}_{\\left\\langle{}\\left\\{n\\right\\},n\\right\\rangle{}}(\\{{d2}_{n} \\:|\\: ({Height}_{\\left\\langle{}e,n\\right\\rangle{}}({y}) \\geq{} {d2}_{n}) \\wedge{} {Mt}({y})\\})))$"
      ],
      "text/plain": [
       "1 composition path.  Result:\n",
       "    [0]: ⟦[est C]⟧ * ⟦[2 [[t2 high] mountain]]⟧ leads to: ⟦[[est C] [2 [[t2 high] mountain]]]⟧ = (λ x_e: (Forall y_e: ((y_e << C_{e}) >> (~(x_e <=> y_e) >> (Max_<{n},n>(Set d2_n: ((Height_<e,n>(x_e) >= d2_n) & Mt_<e,t>(x_e))) > Max_<{n},n>(Set d2_n: ((Height_<e,n>(y_e) >= d2_n) & Mt_<e,t>(y_e)))))))) [by FA]"
      ]
     },
     "metadata": {},
     "output_type": "display_data"
    }
   ],
   "source": [
    "(est * C) * (binder * ((trace * high) * mountain))"
   ]
  },
  {
   "cell_type": "code",
   "execution_count": 21,
   "metadata": {
    "collapsed": false,
    "jupyter": {
     "outputs_hidden": false
    }
   },
   "outputs": [
    {
     "data": {
      "text/markdown": [
       "1 composition path.  Result:<br />\n",
       "&nbsp;&nbsp;&nbsp;&nbsp;[0]: $[\\![\\text{\\textbf{[[est C] [2 [climbed [the [[t2 high] mountain]]]]]}}]\\!]^{}_{\\left\\langle{}e,t\\right\\rangle{}} \\:=\\: \\lambda{} x_{e} \\: . \\: \\forall{} y_{e} \\: . \\: ({y} \\in{} {C}_{\\left\\{e\\right\\}}) \\rightarrow{} (\\neg{} {x} = {y} \\rightarrow{} ({Max}_{\\left\\langle{}\\left\\{n\\right\\},n\\right\\rangle{}}(\\{{d2}_{n} \\:|\\: {Climbed}({x}, (\\iota{} x1_{e} \\: . \\: ({Height}_{\\left\\langle{}e,n\\right\\rangle{}}({x1}) \\geq{} {d2}_{n}) \\wedge{} {Mt}({x1})))\\}) > {Max}_{\\left\\langle{}\\left\\{n\\right\\},n\\right\\rangle{}}(\\{{d2}_{n} \\:|\\: {Climbed}({y}, (\\iota{} x_{e} \\: . \\: ({Height}_{\\left\\langle{}e,n\\right\\rangle{}}({x}) \\geq{} {d2}_{n}) \\wedge{} {Mt}({x})))\\})))$"
      ],
      "text/plain": [
       "1 composition path.  Result:\n",
       "    [0]: ⟦[est C]⟧ * ⟦[2 [climbed [the [[t2 high] mountain]]]]⟧ leads to: ⟦[[est C] [2 [climbed [the [[t2 high] mountain]]]]]⟧ = (λ x_e: (Forall y_e: ((y_e << C_{e}) >> (~(x_e <=> y_e) >> (Max_<{n},n>(Set d2_n: Climbed_<(e,e),t>(x_e, (ι x1_e: ((Height_<e,n>(x1_e) >= d2_n) & Mt_<e,t>(x1_e))))) > Max_<{n},n>(Set d2_n: Climbed_<(e,e),t>(y_e, (ι x_e: ((Height_<e,n>(x_e) >= d2_n) & Mt_<e,t>(x_e)))))))))) [by FA]"
      ]
     },
     "metadata": {},
     "output_type": "display_data"
    }
   ],
   "source": [
    "(est * C) * (binder * (climbed * (the * ((trace * high) * mountain))))"
   ]
  },
  {
   "cell_type": "code",
   "execution_count": 22,
   "metadata": {
    "collapsed": false,
    "jupyter": {
     "outputs_hidden": false
    }
   },
   "outputs": [
    {
     "data": {
      "text/markdown": [
       "$[\\![\\text{\\textbf{a2}}]\\!]^{}_{\\left\\langle{}\\left\\langle{}e,t\\right\\rangle{},\\left\\langle{}\\left\\langle{}e,\\left\\langle{}e,t\\right\\rangle{}\\right\\rangle{},\\left\\langle{}e,t\\right\\rangle{}\\right\\rangle{}\\right\\rangle{}} \\:=\\: \\lambda{} f_{\\left\\langle{}e,t\\right\\rangle{}} \\: . \\: \\lambda{} g_{\\left\\langle{}e,\\left\\langle{}e,t\\right\\rangle{}\\right\\rangle{}} \\: . \\: \\lambda{} y_{e} \\: . \\: \\exists{} x_{e} \\: . \\: {f}({x}) \\wedge{} {g}({x})({y})$"
      ],
      "text/plain": [
       "⟦a2⟧ = (λ f_<e,t>: (λ g_<e,<e,t>>: (λ y_e: (Exists x_e: (f_<e,t>(x_e) & g_<e,<e,t>>(x_e)(y_e))))))"
      ]
     },
     "metadata": {},
     "output_type": "display_data"
    }
   ],
   "source": [
    "%%lamb\n",
    "||a2|| = L f_<e,t> : L g_<e,<e,t>> : L y_e : Exists x_e : f(x) & g(x)(y) # type-lifted 'a'"
   ]
  },
  {
   "cell_type": "code",
   "execution_count": 23,
   "metadata": {
    "collapsed": false,
    "jupyter": {
     "outputs_hidden": false
    }
   },
   "outputs": [
    {
     "data": {
      "text/markdown": [
       "1 composition path.  Result:<br />\n",
       "&nbsp;&nbsp;&nbsp;&nbsp;[0]: $[\\![\\text{\\textbf{[[est C] [2 [climbed [a2 [[t2 high] mountain]]]]]}}]\\!]^{}_{\\left\\langle{}e,t\\right\\rangle{}} \\:=\\: \\lambda{} x_{e} \\: . \\: \\forall{} y_{e} \\: . \\: ({y} \\in{} {C}_{\\left\\{e\\right\\}}) \\rightarrow{} (\\neg{} {x} = {y} \\rightarrow{} ({Max}_{\\left\\langle{}\\left\\{n\\right\\},n\\right\\rangle{}}(\\{{d2}_{n} \\:|\\: \\exists{} x1_{e} \\: . \\: ({Height}_{\\left\\langle{}e,n\\right\\rangle{}}({x1}) \\geq{} {d2}_{n}) \\wedge{} {Climbed}({x}, {x1}) \\wedge{} {Mt}({x1})\\}) > {Max}_{\\left\\langle{}\\left\\{n\\right\\},n\\right\\rangle{}}(\\{{d2}_{n} \\:|\\: \\exists{} x_{e} \\: . \\: ({Height}_{\\left\\langle{}e,n\\right\\rangle{}}({x}) \\geq{} {d2}_{n}) \\wedge{} {Climbed}({y}, {x}) \\wedge{} {Mt}({x})\\})))$"
      ],
      "text/plain": [
       "1 composition path.  Result:\n",
       "    [0]: ⟦[est C]⟧ * ⟦[2 [climbed [a2 [[t2 high] mountain]]]]⟧ leads to: ⟦[[est C] [2 [climbed [a2 [[t2 high] mountain]]]]]⟧ = (λ x_e: (Forall y_e: ((y_e << C_{e}) >> (~(x_e <=> y_e) >> (Max_<{n},n>(Set d2_n: (Exists x1_e: (((Height_<e,n>(x1_e) >= d2_n) & Climbed_<(e,e),t>(x_e, x1_e)) & Mt_<e,t>(x1_e)))) > Max_<{n},n>(Set d2_n: (Exists x_e: (((Height_<e,n>(x_e) >= d2_n) & Climbed_<(e,e),t>(y_e, x_e)) & Mt_<e,t>(x_e))))))))) [by FA]"
      ]
     },
     "metadata": {},
     "output_type": "display_data"
    }
   ],
   "source": [
    "(est * C) * (binder * (climbed * (a2 * ((trace * high) * mountain))))"
   ]
  },
  {
   "cell_type": "code",
   "execution_count": null,
   "metadata": {
    "collapsed": false,
    "jupyter": {
     "outputs_hidden": false
    }
   },
   "outputs": [],
   "source": []
  }
 ],
 "metadata": {
  "kernelspec": {
   "display_name": "Lambda Notebook (Python 3)",
   "language": "python",
   "name": "lambda-notebook"
  },
  "language_info": {
   "codemirror_mode": {
    "name": "ipython",
    "version": 3
   },
   "file_extension": ".py",
   "mimetype": "text/x-python",
   "name": "python",
   "nbconvert_exporter": "python",
   "pygments_lexer": "ipython3",
   "version": "3.12.8"
  }
 },
 "nbformat": 4,
 "nbformat_minor": 4
}
