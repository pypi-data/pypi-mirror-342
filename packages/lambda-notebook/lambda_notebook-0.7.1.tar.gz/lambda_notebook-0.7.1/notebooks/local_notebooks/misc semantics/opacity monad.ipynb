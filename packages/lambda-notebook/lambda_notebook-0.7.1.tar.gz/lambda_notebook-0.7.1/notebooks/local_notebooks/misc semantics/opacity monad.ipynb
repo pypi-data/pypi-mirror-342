{
 "cells": [
  {
   "cell_type": "code",
   "execution_count": 8,
   "id": "fd7345bc-4995-4e86-a9ba-de10f7ae8b7e",
   "metadata": {},
   "outputs": [],
   "source": [
    "reload_lamb()"
   ]
  },
  {
   "cell_type": "code",
   "execution_count": 12,
   "id": "e8cafed8-40ed-4b18-a0fd-8d1043ec3a16",
   "metadata": {},
   "outputs": [],
   "source": [
    "type_i = types.BasicType(\"i\")\n",
    "lang.get_system().add_basic_type(type_i)"
   ]
  },
  {
   "cell_type": "code",
   "execution_count": 33,
   "id": "0f4ab1f8-fc14-4af3-a09f-9cdb6fd10a05",
   "metadata": {},
   "outputs": [
    {
     "data": {
      "text/markdown": [
       "${R}_{e}\\:=\\:{\\textsf{c1}}_{e}$<br />\n",
       "${RPer}_{i}\\:=\\:{\\textsf{i1}}_{i}$<br />\n",
       "${K}_{e}\\:=\\:{\\textsf{c2}}_{e}$<br />\n",
       "${KPer}_{i}\\:=\\:{\\textsf{i2}}_{i}$<br />\n",
       "${O}_{e}\\:=\\:{\\textsf{c3}}_{e}$<br />\n",
       "${OPer}_{i}\\:=\\:{\\textsf{i3}}_{i}$<br />\n",
       "${MJ}_{e}\\:=\\:{\\textsf{c4}}_{e}$<br />\n",
       "${MJPer}_{i}\\:=\\:{\\textsf{i4}}_{i}$<br />\n",
       "${PP}_{e}\\:=\\:{\\textsf{c5}}_{e}$<br />\n",
       "${PPPer}_{i}\\:=\\:{\\textsf{i5}}_{i}$<br />\n",
       "${Per}_{\\left\\langle{}e,i\\right\\rangle{}}\\:=\\:{\\textsf{Fun[\\{c1:i1,c2:i2,c3:i3,c4:i4,c5:i5\\}]}}_{\\left\\langle{}e,i\\right\\rangle{}}$<br />\n",
       "${Sigma}_{i}\\:=\\:{\\textsf{i0}}_{i}$<br />\n",
       "${ES}_{e}\\:=\\:{\\textsf{c6}}_{e}$<br />\n",
       "${MS}_{e}\\:=\\:{\\textsf{c7}}_{e}$<br />\n",
       "${V}_{e}\\:=\\:{\\textsf{c8}}_{e}$<br />\n",
       "${SM}_{e}\\:=\\:{\\textsf{c9}}_{e}$<br />\n",
       "${J}_{e}\\:=\\:{\\textsf{c10}}_{e}$<br />\n",
       "${Imp}_{e}\\:=\\:{\\textsf{c11}}_{e}$<br />\n",
       "${S}_{e}\\:=\\:{\\textsf{c12}}_{e}$"
      ],
      "text/plain": [
       "R_e = _c1_e\n",
       "RPer_i = _i1_i\n",
       "K_e = _c2_e\n",
       "KPer_i = _i2_i\n",
       "O_e = _c3_e\n",
       "OPer_i = _i3_i\n",
       "MJ_e = _c4_e\n",
       "MJPer_i = _i4_i\n",
       "PP_e = _c5_e\n",
       "PPPer_i = _i5_i\n",
       "Per_<e,i> = {_c1: _i1, _c2: _i2, _c3: _i3, _c4: _i4, _c5: _i5}_<e,i>\n",
       "Sigma_i = _i0_i\n",
       "ES_e = _c6_e\n",
       "MS_e = _c7_e\n",
       "V_e = _c8_e\n",
       "SM_e = _c9_e\n",
       "J_e = _c10_e\n",
       "Imp_e = _c11_e\n",
       "S_e = _c12_e"
      ]
     },
     "metadata": {},
     "output_type": "display_data"
    }
   ],
   "source": [
    "%%lamb\n",
    "# set up some constants to use throughout\n",
    "R = _c1\n",
    "RPer = _i1\n",
    "K = _c2\n",
    "KPer = _i2\n",
    "O = _c3\n",
    "OPer = _i3\n",
    "MJ = _c4\n",
    "MJPer = _i4\n",
    "PP = _c5\n",
    "PPPer = _i5\n",
    "# this is their kappa function\n",
    "Per = {R:RPer, K:KPer, O:OPer, MJ:MJPer, PP:PPPer}\n",
    "\n",
    "Sigma = _i0\n",
    "\n",
    "# we won't need a perspective for these\n",
    "ES = _c6\n",
    "MS = _c7\n",
    "V = _c8\n",
    "SM = _c9\n",
    "J = _c10\n",
    "Imp = _c11\n",
    "S = _c12"
   ]
  },
  {
   "cell_type": "code",
   "execution_count": 45,
   "id": "f75e25ed-0745-4113-8e44-51d99c07422f",
   "metadata": {},
   "outputs": [
    {
     "name": "stdout",
     "output_type": "stream",
     "text": [
      "INFO (parsing): Exporting item ||Mary Jane|| to python variable `Mary_Jane`.\n",
      "INFO (parsing): Exporting item ||Peter Parker|| to python variable `Peter_Parker`.\n",
      "INFO (core): Coerced guessed type for 'Punch_t' into <(e,e),t>, to match argument '(s_e, o_e)'\n"
     ]
    },
    {
     "data": {
      "text/markdown": [
       "$[\\![\\text{\\textbf{Reza}}]\\!]^{}_{e} \\:=\\: {R}^{\\textsf{c1}}_{e}$<br />\n",
       "$[\\![\\text{\\textbf{Kim}}]\\!]^{}_{e} \\:=\\: {K}^{\\textsf{c2}}_{e}$<br />\n",
       "$[\\![\\text{\\textbf{DocOc}}]\\!]^{}_{e} \\:=\\: {O}^{\\textsf{c3}}_{e}$<br />\n",
       "$[\\![\\text{\\textbf{Mary\\_Jane}}]\\!]^{}_{e} \\:=\\: {MJ}^{\\textsf{c4}}_{e}$<br />\n",
       "$[\\![\\text{\\textbf{Peter\\_Parker}}]\\!]^{}_{e} \\:=\\: {PP}^{\\textsf{c5}}_{e}$<br />\n",
       "$[\\![\\text{\\textbf{not\\_}}]\\!]^{}_{\\left\\langle{}t,t\\right\\rangle{}} \\:=\\: \\lambda{} p_{t} \\: . \\: \\neg{} {p}$<br />\n",
       "$[\\![\\text{\\textbf{but}}]\\!]^{}_{\\left\\langle{}t,\\left\\langle{}t,t\\right\\rangle{}\\right\\rangle{}} \\:=\\: \\lambda{} p_{t} \\: . \\: \\lambda{} q_{t} \\: . \\: {p} \\wedge{} {q}$<br />\n",
       "$[\\![\\text{\\textbf{is\\_}}]\\!]^{}_{\\left\\langle{}e,\\left\\langle{}e,t\\right\\rangle{}\\right\\rangle{}} \\:=\\: \\lambda{} x_{e} \\: . \\: \\lambda{} y_{e} \\: . \\: {x} = {y}$<br />\n",
       "$[\\![\\text{\\textbf{punch}}]\\!]^{}_{\\left\\langle{}e,\\left\\langle{}e,t\\right\\rangle{}\\right\\rangle{}} \\:=\\: \\lambda{} o_{e} \\: . \\: \\lambda{} s_{e} \\: . \\: {Punch}({s}, {o})$"
      ],
      "text/plain": [
       "⟦Reza⟧ = _c1_e\n",
       "⟦Kim⟧ = _c2_e\n",
       "⟦DocOc⟧ = _c3_e\n",
       "⟦Mary_Jane⟧ = _c4_e\n",
       "⟦Peter_Parker⟧ = _c5_e\n",
       "⟦not_⟧ = (λ p_t: ~p_t)\n",
       "⟦but⟧ = (λ p_t: (λ q_t: (p_t & q_t)))\n",
       "⟦is_⟧ = (λ x_e: (λ y_e: (x_e <=> y_e)))\n",
       "⟦punch⟧ = (λ o_e: (λ s_e: Punch_<(e,e),t>(s_e, o_e)))"
      ]
     },
     "metadata": {},
     "output_type": "display_data"
    }
   ],
   "source": [
    "%%lamb\n",
    "||Reza|| = R\n",
    "||Kim|| = K\n",
    "||DocOc|| = O\n",
    "||Mary Jane|| = MJ\n",
    "||Peter Parker|| = PP\n",
    "\n",
    "||not_|| = L p_t: ~p\n",
    "||but|| = L p_t: L q_t: p & q\n",
    "||is_|| = L x_e: L y_e: x <=> y\n",
    "||punch|| = L o_e : L s_e: Punch(s,o)"
   ]
  },
  {
   "cell_type": "code",
   "execution_count": 62,
   "id": "91694ba6-54bc-4fe9-ad9e-6427583caeac",
   "metadata": {},
   "outputs": [
    {
     "data": {
      "text/markdown": [
       "$[\\![\\text{\\textbf{believe}}]\\!]^{}_{\\left\\langle{}\\left\\langle{}i,t\\right\\rangle{},\\left\\langle{}e,\\left\\langle{}i,t\\right\\rangle{}\\right\\rangle{}\\right\\rangle{}} \\:=\\: \\lambda{} c_{\\left\\langle{}i,t\\right\\rangle{}} \\: . \\: \\lambda{} s_{e} \\: . \\: \\lambda{} i_{i} \\: . \\: {B}({s}, {c}({Per}^{\\text{\\textsf{[meta]}}}_{\\left\\langle{}e,i\\right\\rangle{}}({s})))$<br />\n",
       "$[\\![\\text{\\textbf{love}}]\\!]^{}_{\\left\\langle{}\\left\\langle{}i,e\\right\\rangle{},\\left\\langle{}e,\\left\\langle{}i,t\\right\\rangle{}\\right\\rangle{}\\right\\rangle{}} \\:=\\: \\lambda{} o_{\\left\\langle{}i,e\\right\\rangle{}} \\: . \\: \\lambda{} s_{e} \\: . \\: \\lambda{} i_{i} \\: . \\: {Love}({s}, {o}({Per}^{\\text{\\textsf{[meta]}}}_{\\left\\langle{}e,i\\right\\rangle{}}({s})))$"
      ],
      "text/plain": [
       "⟦believe⟧ = (λ c_<i,t>: (λ s_e: (λ i_i: B_<(e,t),t>(s_e, c_<i,t>({_c1: _i1, _c2: _i2, _c3: _i3, _c4: _i4, _c5: _i5}_<e,i>(s_e))))))\n",
       "⟦love⟧ = (λ o_<i,e>: (λ s_e: (λ i_i: Love_<(e,e),t>(s_e, o_<i,e>({_c1: _i1, _c2: _i2, _c3: _i3, _c4: _i4, _c5: _i5}_<e,i>(s_e))))))"
      ]
     },
     "metadata": {},
     "output_type": "display_data"
    }
   ],
   "source": [
    "%%lamb\n",
    "||believe|| = L c_<i,t>: L s_e: L i_i: B_<(e,t),t>(s, c(Per(s)))\n",
    "||love|| = L o_<i,e>: L s_e: L i_i: Love_<(e,e),t>(s, o(Per(s)))"
   ]
  },
  {
   "cell_type": "code",
   "execution_count": 47,
   "id": "774258c1-099b-45c8-a698-8e223a236b66",
   "metadata": {},
   "outputs": [
    {
     "name": "stdout",
     "output_type": "stream",
     "text": [
      "INFO (parsing): Exporting item ||Spider Man|| to python variable `Spider_Man`.\n"
     ]
    },
    {
     "data": {
      "text/markdown": [
       "$[\\![\\text{\\textbf{Hesperus}}]\\!]^{}_{\\left\\langle{}i,e\\right\\rangle{}} \\:=\\: {\\textsf{Fun[\\{i1:c6,i0:c8\\}]}}_{\\left\\langle{}i,e\\right\\rangle{}}$<br />\n",
       "$[\\![\\text{\\textbf{Phosphorus}}]\\!]^{}_{\\left\\langle{}i,e\\right\\rangle{}} \\:=\\: {\\textsf{Fun[\\{i1:c7,i0:c8\\}]}}_{\\left\\langle{}i,e\\right\\rangle{}}$<br />\n",
       "$[\\![\\text{\\textbf{Spider\\_Man}}]\\!]^{}_{\\left\\langle{}i,e\\right\\rangle{}} \\:=\\: {\\textsf{Fun[\\{i3:c9,i4:c12,i0:c5\\}]}}_{\\left\\langle{}i,e\\right\\rangle{}}$<br />\n",
       "$[\\![\\text{\\textbf{Jesus}}]\\!]^{}_{\\left\\langle{}i,e\\right\\rangle{}} \\:=\\: {\\textsf{Fun[\\{i1:c10,i0:c10\\}]}}_{\\left\\langle{}i,e\\right\\rangle{}}$<br />\n",
       "$[\\![\\text{\\textbf{Sandy}}]\\!]^{}_{\\left\\langle{}i,e\\right\\rangle{}} \\:=\\: {\\textsf{Fun[\\{i2:c11,i0:c12\\}]}}_{\\left\\langle{}i,e\\right\\rangle{}}$"
      ],
      "text/plain": [
       "⟦Hesperus⟧ = {_i1: _c6, _i0: _c8}_<i,e>\n",
       "⟦Phosphorus⟧ = {_i1: _c7, _i0: _c8}_<i,e>\n",
       "⟦Spider_Man⟧ = {_i3: _c9, _i4: _c12, _i0: _c5}_<i,e>\n",
       "⟦Jesus⟧ = {_i1: _c10, _i0: _c10}_<i,e>\n",
       "⟦Sandy⟧ = {_i2: _c11, _i0: _c12}_<i,e>"
      ]
     },
     "metadata": {},
     "output_type": "display_data"
    }
   ],
   "source": [
    "%%lamb\n",
    "||Hesperus|| = {RPer:ES, Sigma:V}\n",
    "||Phosphorus|| = {RPer:MS, Sigma:V}\n",
    "||Spider Man|| = {OPer:SM, MJPer:S, Sigma:PP}\n",
    "||Jesus|| = {RPer:J, Sigma:J}\n",
    "||Sandy|| = {KPer:Imp, Sigma:S}"
   ]
  },
  {
   "cell_type": "code",
   "execution_count": 48,
   "id": "d95f483d-d23d-48b9-a881-638e9f566e6c",
   "metadata": {},
   "outputs": [
    {
     "data": {
      "text/markdown": [
       "${unit}_{\\left\\langle{}X,\\left\\langle{}i,X\\right\\rangle{}\\right\\rangle{}}\\:=\\:\\lambda{} x_{X} \\: . \\: \\lambda{} i_{i} \\: . \\: {x}$<br />\n",
       "${bind}_{\\left\\langle{}\\left\\langle{}i,X\\right\\rangle{},\\left\\langle{}\\left\\langle{}X,\\left\\langle{}i,X'\\right\\rangle{}\\right\\rangle{},\\left\\langle{}i,X'\\right\\rangle{}\\right\\rangle{}\\right\\rangle{}}\\:=\\:\\lambda{} a_{\\left\\langle{}i,X\\right\\rangle{}} \\: . \\: \\lambda{} f_{\\left\\langle{}X,\\left\\langle{}i,X'\\right\\rangle{}\\right\\rangle{}} \\: . \\: \\lambda{} i_{i} \\: . \\: {f}({a}({i}))({i})$<br />\n",
       "${apply}_{\\left\\langle{}\\left\\langle{}i,\\left\\langle{}X',X\\right\\rangle{}\\right\\rangle{},\\left\\langle{}\\left\\langle{}i,X'\\right\\rangle{},\\left\\langle{}i,X\\right\\rangle{}\\right\\rangle{}\\right\\rangle{}}\\:=\\:\\lambda{} f_{\\left\\langle{}i,\\left\\langle{}X',X\\right\\rangle{}\\right\\rangle{}} \\: . \\: \\lambda{} x_{\\left\\langle{}i,X'\\right\\rangle{}} \\: . \\: \\lambda{} i_{i} \\: . \\: {f}({i})({x}({i}))$"
      ],
      "text/plain": [
       "unit_<X,<i,X>> = (λ x_X: (λ i_i: x_X))\n",
       "bind_<<i,X>,<<X,<i,X1>>,<i,X1>>> = (λ a_<i,X>: (λ f_<X,<i,X1>>: (λ i_i: f_<X,<i,X1>>(a_<i,X>(i_i))(i_i))))\n",
       "apply_<<i,<X1,X>>,<<i,X1>,<i,X>>> = (λ f_<i,<X1,X>>: (λ x_<i,X1>: (λ i_i: f_<i,<X1,X>>(i_i)(x_<i,X1>(i_i)))))"
      ]
     },
     "metadata": {},
     "output_type": "display_data"
    }
   ],
   "source": [
    "%%lamb\n",
    "unit = L x_X: L i_i: x\n",
    "bind = L a_X: L f_Y: L i_i: f(a(i))(i)\n",
    "apply = L f_<i,<X,Y>> : L x_<i,X> : bind(f)(L a_<X,Y> : bind(x_<i,X>)(L b_X : unit(a(b))))"
   ]
  },
  {
   "cell_type": "code",
   "execution_count": 44,
   "id": "0f67106e-96b1-4de9-ab44-4cd98f47125b",
   "metadata": {},
   "outputs": [
    {
     "data": {
      "text/html": [
       "<div align=\"left\" style=\"display:table;\"><div style=\"display:table-cell;vertical-align:top;padding-left:5px;padding-right:5px;padding-top:0.2em\"><div style=\"display:table;\"><div style=\"display:table-row;vertical-align:top;\"><div align=\"left\" style=\"display:table;border-collapse:collapse;\"><div style=\"display:table-row;border-bottom:1px solid #848482;\"><div style=\"display:table-cell;padding:0.2em 5px 0.2em 0px;vertical-align:top;\"></div><div style=\"display:table-cell;vertical-align:top;border-right:1px solid #848482;padding-right:5px;;padding-top:0.2em\"><div style=\"display:inline-block;\"><span>$\\lambda{} f_{\\left\\langle{}i,\\left\\langle{}X,?_{53}\\right\\rangle{}\\right\\rangle{}} \\: . \\: \\lambda{} x_{\\left\\langle{}i,X\\right\\rangle{}} \\: . \\: {bind}_{\\left\\langle{}\\left\\langle{}i,\\left\\langle{}X,?_{53}\\right\\rangle{}\\right\\rangle{},\\left\\langle{}\\left\\langle{}\\left\\langle{}X,?_{53}\\right\\rangle{},\\left\\langle{}i,?_{53}\\right\\rangle{}\\right\\rangle{},\\left\\langle{}i,?_{53}\\right\\rangle{}\\right\\rangle{}\\right\\rangle{}}({f})(\\lambda{} a_{\\left\\langle{}X,?_{53}\\right\\rangle{}} \\: . \\: {bind}_{\\left\\langle{}\\left\\langle{}i,X\\right\\rangle{},\\left\\langle{}\\left\\langle{}X,\\left\\langle{}i,?_{53}\\right\\rangle{}\\right\\rangle{},\\left\\langle{}i,?_{53}\\right\\rangle{}\\right\\rangle{}\\right\\rangle{}}({x})(\\lambda{} b_{X} \\: . \\: {unit}_{\\left\\langle{}?_{53},\\left\\langle{}i,?_{53}\\right\\rangle{}\\right\\rangle{}}({a}({b}))))$</span></div></div><div style=\"display:table-cell;vertical-align:top;padding-left:5px;padding-right:5px;padding-top:0.2em\"><div style=\"display:table;\"><div style=\"display:table-row;\"><div style=\"white-space:nowrap; color:blue;\"><span>Let substitution</span></div></div></div></div></div><div style=\"display:table-row;border-bottom:1px solid #848482;\"><div style=\"display:table-cell;padding:0.2em 5px 0.2em 0px;vertical-align:top;\"> 1. </div><div style=\"display:table-cell;vertical-align:top;border-right:1px solid #848482;padding-right:5px;;padding-top:0.2em\"><div style=\"display:inline-block;\"><span>$\\lambda{} f_{\\left\\langle{}i,\\left\\langle{}X,X'\\right\\rangle{}\\right\\rangle{}} \\: . \\: \\lambda{} x_{\\left\\langle{}i,X\\right\\rangle{}} \\: . \\: {bind}_{\\left\\langle{}\\left\\langle{}i,\\left\\langle{}X,X'\\right\\rangle{}\\right\\rangle{},\\left\\langle{}\\left\\langle{}\\left\\langle{}X,X'\\right\\rangle{},\\left\\langle{}i,X'\\right\\rangle{}\\right\\rangle{},\\left\\langle{}i,X'\\right\\rangle{}\\right\\rangle{}\\right\\rangle{}}({f})(\\lambda{} a_{\\left\\langle{}X,X'\\right\\rangle{}} \\: . \\: {bind}_{\\left\\langle{}\\left\\langle{}i,X\\right\\rangle{},\\left\\langle{}\\left\\langle{}X,\\left\\langle{}i,X'\\right\\rangle{}\\right\\rangle{},\\left\\langle{}i,X'\\right\\rangle{}\\right\\rangle{}\\right\\rangle{}}({x})(\\lambda{} b_{X} \\: . \\: {unit}_{\\left\\langle{}X',\\left\\langle{}i,X'\\right\\rangle{}\\right\\rangle{}}({a}({b}))))$</span></div></div><div style=\"display:table-cell;vertical-align:top;padding-left:5px;padding-right:5px;padding-top:0.2em\"><div style=\"display:table;\"><div style=\"display:table-row;\"><div style=\"white-space:nowrap; color:blue;\"><span>Variable substitution from context</span></div></div></div></div></div><div style=\"display:table-row;border-bottom:1px solid #848482;\"><div style=\"display:table-cell;padding:0.2em 5px 0.2em 0px;vertical-align:top;\"> 2. </div><div style=\"display:table-cell;vertical-align:top;border-right:1px solid #848482;padding-right:5px;;padding-top:0.2em\"><div style=\"display:inline-block;\"><span>$\\lambda{} f_{\\left\\langle{}i,\\left\\langle{}X',X\\right\\rangle{}\\right\\rangle{}} \\: . \\: \\lambda{} x_{\\left\\langle{}i,X'\\right\\rangle{}} \\: . \\: {[\\lambda{} a_{\\left\\langle{}i,\\left\\langle{}X',X\\right\\rangle{}\\right\\rangle{}} \\: . \\: \\lambda{} f_{\\left\\langle{}\\left\\langle{}X',X\\right\\rangle{},\\left\\langle{}i,X\\right\\rangle{}\\right\\rangle{}} \\: . \\: \\lambda{} i_{i} \\: . \\: {f}({a}({i}))({i})]}({f})(\\lambda{} a_{\\left\\langle{}X',X\\right\\rangle{}} \\: . \\: {[\\lambda{} a_{\\left\\langle{}i,X'\\right\\rangle{}} \\: . \\: \\lambda{} f_{\\left\\langle{}X',\\left\\langle{}i,X\\right\\rangle{}\\right\\rangle{}} \\: . \\: \\lambda{} i_{i} \\: . \\: {f}({a}({i}))({i})]}({x})(\\lambda{} b_{X'} \\: . \\: {[\\lambda{} x_{X} \\: . \\: \\lambda{} i_{i} \\: . \\: {x}]}({a}({b}))))$</span></div></div><div style=\"display:table-cell;vertical-align:top;padding-left:5px;padding-right:5px;padding-top:0.2em\"><div style=\"display:table;\"><div style=\"display:table-row;\"><div style=\"white-space:nowrap; color:blue;\"><span>[recursive reduction of body]</span></div></div></div></div></div><div style=\"display:table-row;\"><div style=\"display:table-cell;padding:0.2em 5px 0.2em 0px;vertical-align:top;\"> 3. </div><div style=\"display:table-cell;vertical-align:top;border-right:1px solid #848482;padding-right:5px;;padding-top:0.2em\"><div style=\"display:inline-block;\"><span>$\\lambda{} f_{\\left\\langle{}i,\\left\\langle{}X',X\\right\\rangle{}\\right\\rangle{}} \\: . \\: \\lambda{} x_{\\left\\langle{}i,X'\\right\\rangle{}} \\: . \\: \\lambda{} i_{i} \\: . \\: {f}({i})({x}({i}))$</span></div></div></div></div></div></div></div></div>"
      ],
      "text/plain": [
       " 1. (λ f_<i,<X,?53>>: (λ x_<i,X>: bind_<<i,<X,?53>>,<<<X,?53>,<i,?53>>,<i,?53>>>(f_<i,<X,?53>>)(λ a_<X,?53>: bind_<<i,X>,<<X,<i,?53>>,<i,?53>>>(x_<i,X>)(λ b_X: unit_<?53,<i,?53>>(a_<X,?53>(b_X))))))    (Let substitution)\n",
       " 2. (λ f_<i,<X,X1>>: (λ x_<i,X>: bind_<<i,<X,X1>>,<<<X,X1>,<i,X1>>,<i,X1>>>(f_<i,<X,X1>>)(λ a_<X,X1>: bind_<<i,X>,<<X,<i,X1>>,<i,X1>>>(x_<i,X>)(λ b_X: unit_<X1,<i,X1>>(a_<X,X1>(b_X))))))    (Variable substitution from context)\n",
       " 3. (λ f_<i,<X1,X>>: (λ x_<i,X1>: (λ a_<i,<X1,X>>: (λ f_<<X1,X>,<i,X>>: (λ i_i: f_<<X1,X>,<i,X>>(a_<i,<X1,X>>(i_i))(i_i))))(f_<i,<X1,X>>)(λ a_<X1,X>: (λ a_<i,X1>: (λ f_<X1,<i,X>>: (λ i_i: f_<X1,<i,X>>(a_<i,X1>(i_i))(i_i))))(x_<i,X1>)(λ b_X1: (λ x_X: (λ i_i: x_X))(a_<X1,X>(b_X1))))))    ([recursive reduction of body])\n",
       " 4. (λ f_<i,<X1,X>>: (λ x_<i,X1>: (λ i_i: f_<i,<X1,X>>(i_i)(x_<i,X1>(i_i)))))"
      ]
     },
     "execution_count": 44,
     "metadata": {},
     "output_type": "execute_result"
    }
   ],
   "source": [
    "apply.derivation #.trace()"
   ]
  },
  {
   "cell_type": "code",
   "execution_count": 49,
   "id": "59b6a1a7-ea31-4b5d-b9a8-7e1bc2aa7cce",
   "metadata": {},
   "outputs": [
    {
     "data": {
      "text/html": [
       "Composition system 'Type-driven composition'<br />Operations: {<br />&nbsp;&nbsp;&nbsp;&nbsp;Binary composition rule <i>FA</i>, built on python function 'lamb.lang.fa_fun'<br />&nbsp;&nbsp;&nbsp;&nbsp;Binary composition rule <i>PA</i>, built on python function 'lamb.lang.pa_fun'<br />&nbsp;&nbsp;&nbsp;&nbsp;Binary composition rule <i>VAC</i>, built on python function 'lamb.lang.binary_vacuous'<br />&nbsp;&nbsp;&nbsp;&nbsp;Typeshift <i>Unit</i>, built on combinator '$\\lambda{} x_{X} \\: . \\: \\lambda{} i_{i} \\: . \\: {x}$'<br />&nbsp;&nbsp;&nbsp;&nbsp;Binary composition rule <i>Bind</i>, built on combinator '$\\lambda{} a_{\\left\\langle{}i,X\\right\\rangle{}} \\: . \\: \\lambda{} f_{\\left\\langle{}X,\\left\\langle{}i,X'\\right\\rangle{}\\right\\rangle{}} \\: . \\: \\lambda{} i_{i} \\: . \\: {f}({a}({i}))({i})$'<br />&nbsp;&nbsp;&nbsp;&nbsp;Binary composition rule <i>LiftedFA</i>, built on combinator '$\\lambda{} f_{\\left\\langle{}i,\\left\\langle{}X',X\\right\\rangle{}\\right\\rangle{}} \\: . \\: \\lambda{} x_{\\left\\langle{}i,X'\\right\\rangle{}} \\: . \\: \\lambda{} i_{i} \\: . \\: {f}({i})({x}({i}))$'<br />}"
      ],
      "text/plain": [
       "Composition system: Type-driven composition"
      ]
     },
     "execution_count": 49,
     "metadata": {},
     "output_type": "execute_result"
    }
   ],
   "source": [
    "system = lang.get_system()\n",
    "system.add_typeshift(unit, \"Unit\")\n",
    "# bind is unused in this demo, but can be added in principle\n",
    "system.add_binary_rule(bind, \"Bind\")\n",
    "system.add_binary_rule(apply, \"LiftedFA\")\n",
    "# do a bit of cleanup, we don't need PM here.\n",
    "system.remove_rule('PM')\n",
    "system.typeshift = True\n",
    "system"
   ]
  },
  {
   "cell_type": "code",
   "execution_count": 60,
   "id": "23f1dfa9-899d-4eb6-849b-638b4f5c87d8",
   "metadata": {},
   "outputs": [
    {
     "data": {
      "text/markdown": [
       "1 composition path.  Result:<br />\n",
       "&nbsp;&nbsp;&nbsp;&nbsp;[0]: $[\\![\\text{\\textbf{[Hesperus [[is\\_] Phosphorus]]}}]\\!]^{}_{\\left\\langle{}i,t\\right\\rangle{}} \\:=\\: \\lambda{} i_{i} \\: . \\: {\\textsf{Fun[\\{i1:c6,i0:c8\\}]}}_{\\left\\langle{}i,e\\right\\rangle{}}({i}) = {\\textsf{Fun[\\{i1:c7,i0:c8\\}]}}_{\\left\\langle{}i,e\\right\\rangle{}}({i})$"
      ],
      "text/plain": [
       "1 composition path.  Result:\n",
       "    [0]: ⟦Hesperus⟧ * ⟦[[is_] Phosphorus]⟧ leads to: ⟦[Hesperus [[is_] Phosphorus]]⟧ = (λ i_i: ({_i1: _c6, _i0: _c8}_<i,e>(i_i) <=> {_i1: _c7, _i0: _c8}_<i,e>(i_i))) [by LiftedFA]"
      ]
     },
     "metadata": {},
     "output_type": "display_data"
    }
   ],
   "source": [
    "(Hesperus * (is_ * Phosphorus))"
   ]
  },
  {
   "cell_type": "code",
   "execution_count": 54,
   "id": "a2f870ec-cb45-427e-b8d9-057c7a16be66",
   "metadata": {},
   "outputs": [
    {
     "data": {
      "text/markdown": [
       "$[\\![\\text{\\textbf{Self}}]\\!]^{}_{i} \\:=\\: {Sigma}^{\\textsf{i0}}_{i}$"
      ],
      "text/plain": [
       "⟦Self⟧ = _i0_i"
      ]
     },
     "metadata": {},
     "output_type": "display_data"
    }
   ],
   "source": [
    "%%lamb\n",
    "||Self|| = Sigma"
   ]
  },
  {
   "cell_type": "code",
   "execution_count": 55,
   "id": "be80a7b1-4975-4c4b-b7ad-0a1194668c6a",
   "metadata": {},
   "outputs": [
    {
     "data": {
      "text/markdown": [
       "1 composition path.  Result:<br />\n",
       "&nbsp;&nbsp;&nbsp;&nbsp;[0]: $[\\![\\text{\\textbf{[Self [Hesperus [[is\\_] Phosphorus]]]}}]\\!]^{}_{t} \\:=\\: \\textsf{True}$"
      ],
      "text/plain": [
       "1 composition path.  Result:\n",
       "    [0]: ⟦Self⟧ * ⟦[Hesperus [[is_] Phosphorus]]⟧ leads to: ⟦[Self [Hesperus [[is_] Phosphorus]]]⟧ = True_t [by FA]"
      ]
     },
     "metadata": {},
     "output_type": "display_data"
    }
   ],
   "source": [
    "Self * (Hesperus * (is_ * Phosphorus))"
   ]
  },
  {
   "cell_type": "code",
   "execution_count": 63,
   "id": "8058dfee-6f78-40bc-9d69-094470b6c5c4",
   "metadata": {},
   "outputs": [
    {
     "data": {
      "text/markdown": [
       "1 composition path.  Result:<br />\n",
       "&nbsp;&nbsp;&nbsp;&nbsp;[0]: $[\\![\\text{\\textbf{[believe [Hesperus [[is\\_] Phosphorus]]]}}]\\!]^{}_{\\left\\langle{}e,\\left\\langle{}i,t\\right\\rangle{}\\right\\rangle{}} \\:=\\: \\lambda{} s_{e} \\: . \\: \\lambda{} i_{i} \\: . \\: {B}({s}, ({\\textsf{Fun[\\{i1:c6,i0:c8\\}]}}_{\\left\\langle{}i,e\\right\\rangle{}}({Per}^{\\text{\\textsf{[meta]}}}_{\\left\\langle{}e,i\\right\\rangle{}}({s})) = {\\textsf{Fun[\\{i1:c7,i0:c8\\}]}}_{\\left\\langle{}i,e\\right\\rangle{}}({Per}^{\\text{\\textsf{[meta]}}}_{\\left\\langle{}e,i\\right\\rangle{}}({s}))))$"
      ],
      "text/plain": [
       "1 composition path.  Result:\n",
       "    [0]: ⟦believe⟧ * ⟦[Hesperus [[is_] Phosphorus]]⟧ leads to: ⟦[believe [Hesperus [[is_] Phosphorus]]]⟧ = (λ s_e: (λ i_i: B_<(e,t),t>(s_e, ({_i1: _c6, _i0: _c8}_<i,e>({_c1: _i1, _c2: _i2, _c3: _i3, _c4: _i4, _c5: _i5}_<e,i>(s_e)) <=> {_i1: _c7, _i0: _c8}_<i,e>({_c1: _i1, _c2: _i2, _c3: _i3, _c4: _i4, _c5: _i5}_<e,i>(s_e)))))) [by FA]"
      ]
     },
     "metadata": {},
     "output_type": "display_data"
    }
   ],
   "source": [
    "believe * (Hesperus * (is_ * Phosphorus))"
   ]
  },
  {
   "cell_type": "code",
   "execution_count": 64,
   "id": "5779c5b2-2fb4-4077-b196-47149a8ecb11",
   "metadata": {},
   "outputs": [
    {
     "data": {
      "text/markdown": [
       "1 composition path.  Result:<br />\n",
       "&nbsp;&nbsp;&nbsp;&nbsp;[0]: $[\\![\\text{\\textbf{[Reza [believe [Hesperus [[is\\_] Phosphorus]]]]}}]\\!]^{}_{\\left\\langle{}i,t\\right\\rangle{}} \\:=\\: \\lambda{} i_{i} \\: . \\: {B}({R}^{\\textsf{c1}}_{e}, \\textsf{False})$"
      ],
      "text/plain": [
       "1 composition path.  Result:\n",
       "    [0]: ⟦Reza⟧ * ⟦[believe [Hesperus [[is_] Phosphorus]]]⟧ leads to: ⟦[Reza [believe [Hesperus [[is_] Phosphorus]]]]⟧ = (λ i_i: B_<(e,t),t>(_c1_e, False_t)) [by FA]"
      ]
     },
     "metadata": {},
     "output_type": "display_data"
    }
   ],
   "source": [
    "Reza * (believe * (Hesperus * (is_ * Phosphorus)))"
   ]
  },
  {
   "cell_type": "code",
   "execution_count": null,
   "id": "a85c57f9-ba00-48c5-a5ab-eff70b326a0d",
   "metadata": {},
   "outputs": [],
   "source": []
  }
 ],
 "metadata": {
  "kernelspec": {
   "display_name": "Lambda Notebook (Python 3)",
   "language": "python",
   "name": "lambda-notebook"
  },
  "language_info": {
   "codemirror_mode": {
    "name": "ipython",
    "version": 3
   },
   "file_extension": ".py",
   "mimetype": "text/x-python",
   "name": "python",
   "nbconvert_exporter": "python",
   "pygments_lexer": "ipython3",
   "version": "3.12.0"
  }
 },
 "nbformat": 4,
 "nbformat_minor": 5
}
