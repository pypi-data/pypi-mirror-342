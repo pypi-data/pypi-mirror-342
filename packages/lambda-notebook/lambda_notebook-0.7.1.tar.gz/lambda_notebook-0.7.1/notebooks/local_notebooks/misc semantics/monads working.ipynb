{
 "cells": [
  {
   "cell_type": "markdown",
   "id": "c8106f07-c9eb-49db-9da6-01f9f90727d6",
   "metadata": {},
   "source": [
    "# reader monad"
   ]
  },
  {
   "cell_type": "code",
   "execution_count": 172,
   "id": "e98b2dcf-5fd1-4bc0-bac4-660e53b7f789",
   "metadata": {},
   "outputs": [],
   "source": [
    "reload_lamb()"
   ]
  },
  {
   "cell_type": "code",
   "execution_count": 173,
   "id": "310fe56c-a53e-4b68-8d43-de8826224386",
   "metadata": {},
   "outputs": [
    {
     "data": {
      "text/latex": [
       "Type system with atomic types: $n, s, e, t$"
      ],
      "text/plain": [
       "<lamb.types.PolyTypeSystem at 0x113209dc0>"
      ]
     },
     "execution_count": 173,
     "metadata": {},
     "output_type": "execute_result"
    }
   ],
   "source": [
    "type_s = types.BasicType(\"s\")\n",
    "lang.get_system().add_basic_type(type_s)\n",
    "intensional_types = meta.get_type_system()\n",
    "intensional_types"
   ]
  },
  {
   "cell_type": "code",
   "execution_count": 174,
   "id": "dab1fcf7-3094-4197-b4eb-cfbd9a34f238",
   "metadata": {},
   "outputs": [
    {
     "data": {
      "text/latex": [
       "$\\lambda{} m_{\\left\\langle{}s,X\\right\\rangle{}} \\: . \\: \\lambda{} k_{\\left\\langle{}X,\\left\\langle{}s,Y\\right\\rangle{}\\right\\rangle{}} \\: . \\: \\lambda{} w_{s} \\: . \\: {k}({m}({w}))({w})$"
      ],
      "text/plain": [
       "(λ m_<s,X>: (λ k_<X,<s,Y>>: (λ w_s: k_<X,<s,Y>>(m_<s,X>(w_s))(w_s))))"
      ]
     },
     "metadata": {},
     "output_type": "display_data"
    },
    {
     "data": {
      "text/latex": [
       "$\\lambda{} a_{X} \\: . \\: \\lambda{} w_{s} \\: . \\: {a}$"
      ],
      "text/plain": [
       "(λ a_X: (λ w_s: a_X))"
      ]
     },
     "metadata": {},
     "output_type": "display_data"
    }
   ],
   "source": [
    "bind = %te L m_<s,X> : L k_<X,<s,Y>> : L w_s : k(m(w))(w)\n",
    "unit = %te L a_X : L w_s : a\n",
    "display(bind, unit)"
   ]
  },
  {
   "cell_type": "code",
   "execution_count": 175,
   "id": "4e36c0d5-67ac-4bb3-aba8-9f49b27f3a1b",
   "metadata": {},
   "outputs": [],
   "source": [
    "mapid = %te L f_<X,Y> : L x_X : f(x)"
   ]
  },
  {
   "cell_type": "code",
   "execution_count": 176,
   "id": "c918b9aa-2097-41ca-8f2a-7536d3dec814",
   "metadata": {},
   "outputs": [
    {
     "data": {
      "text/latex": [
       "$\\lambda{} k_{\\left\\langle{}\\left\\langle{}\\left\\langle{}X',X''\\right\\rangle{},\\left\\langle{}X',X''\\right\\rangle{}\\right\\rangle{},\\left\\langle{}s,X\\right\\rangle{}\\right\\rangle{}} \\: . \\: \\lambda{} w_{s} \\: . \\: {k}(\\lambda{} f_{\\left\\langle{}X',X''\\right\\rangle{}} \\: . \\: \\lambda{} x_{X'} \\: . \\: {f}({x}))({w})$"
      ],
      "text/plain": [
       "(λ k_<<<X1,X2>,<X1,X2>>,<s,X>>: (λ w_s: k_<<<X1,X2>,<X1,X2>>,<s,X>>(λ f_<X1,X2>: (λ x_X1: f_<X1,X2>(x_X1)))(w_s)))"
      ]
     },
     "execution_count": 176,
     "metadata": {},
     "output_type": "execute_result"
    }
   ],
   "source": [
    "bind(unit(mapid)).reduce_all()"
   ]
  },
  {
   "cell_type": "code",
   "execution_count": null,
   "id": "53015ce0-c00c-4d46-b0ab-4875b72670b8",
   "metadata": {},
   "outputs": [],
   "source": []
  },
  {
   "cell_type": "code",
   "execution_count": null,
   "id": "b18983f7-f12b-4a25-8ba8-e9373dc3e7dc",
   "metadata": {},
   "outputs": [],
   "source": []
  },
  {
   "cell_type": "code",
   "execution_count": null,
   "id": "78da7472-b90f-4441-aab6-d10b06d636ce",
   "metadata": {},
   "outputs": [],
   "source": []
  },
  {
   "cell_type": "code",
   "execution_count": 177,
   "id": "e525d8a3-0905-436e-99aa-0215dc6cd5b7",
   "metadata": {},
   "outputs": [
    {
     "name": "stdout",
     "output_type": "stream",
     "text": [
      "INFO (core): Coerced guessed type for 'Cat_t' into <(s,e),t>, to match argument '(w_s, x_e)'\n",
      "INFO (core): Coerced guessed type for 'Danced_t' into <(s,e),t>, to match argument '(w_s, x_e)'\n"
     ]
    },
    {
     "data": {
      "text/markdown": [
       "$[\\![\\text{\\textbf{every}}]\\!]^{}_{\\left\\langle{}\\left\\langle{}e,t\\right\\rangle{},\\left\\langle{}\\left\\langle{}e,t\\right\\rangle{},t\\right\\rangle{}\\right\\rangle{}} \\:=\\: \\lambda{} f_{\\left\\langle{}e,t\\right\\rangle{}} \\: . \\: \\lambda{} g_{\\left\\langle{}e,t\\right\\rangle{}} \\: . \\: \\forall{} x_{e} \\: . \\: {f}({x}) \\rightarrow{} {g}({x})$<br />\n",
       "$[\\![\\text{\\textbf{cat}}]\\!]^{}_{\\left\\langle{}e,\\left\\langle{}s,t\\right\\rangle{}\\right\\rangle{}} \\:=\\: \\lambda{} x_{e} \\: . \\: \\lambda{} w_{s} \\: . \\: {Cat}({w}, {x})$<br />\n",
       "$[\\![\\text{\\textbf{danced}}]\\!]^{}_{\\left\\langle{}e,\\left\\langle{}s,t\\right\\rangle{}\\right\\rangle{}} \\:=\\: \\lambda{} x_{e} \\: . \\: \\lambda{} w_{s} \\: . \\: {Danced}({w}, {x})$<br />\n",
       "$[\\![\\text{\\textbf{Alfonso}}]\\!]^{}_{e} \\:=\\: {Alfonso}_{e}$<br />\n",
       "$[\\![\\text{\\textbf{might}}]\\!]^{}_{\\left\\langle{}\\left\\langle{}s,t\\right\\rangle{},\\left\\langle{}s,t\\right\\rangle{}\\right\\rangle{}} \\:=\\: \\lambda{} p_{\\left\\langle{}s,t\\right\\rangle{}} \\: . \\: \\lambda{} w_{s} \\: . \\: \\exists{} w2_{s} \\: . \\: ({w2} \\in{} {Epi}_{\\left\\{s\\right\\}}) \\wedge{} {p}({w2})$"
      ],
      "text/plain": [
       "⟦every⟧ = (λ f_<e,t>: (λ g_<e,t>: (Forall x_e: (f_<e,t>(x_e) >> g_<e,t>(x_e)))))\n",
       "⟦cat⟧ = (λ x_e: (λ w_s: Cat_<(s,e),t>(w_s, x_e)))\n",
       "⟦danced⟧ = (λ x_e: (λ w_s: Danced_<(s,e),t>(w_s, x_e)))\n",
       "⟦Alfonso⟧ = Alfonso_e\n",
       "⟦might⟧ = (λ p_<s,t>: (λ w_s: (Exists w2_s: ((w2_s << Epi_{s}) & p_<s,t>(w2_s)))))"
      ]
     },
     "metadata": {},
     "output_type": "display_data"
    }
   ],
   "source": [
    "%%lamb\n",
    "||every|| = L f_<e,t> : L g_<e,t> : Forall x_e : f(x) >> g(x)\n",
    "||cat|| = L x_e : L w_s: Cat(w,x)\n",
    "||danced|| = L x_e : L w_s : Danced(w,x)\n",
    "||Alfonso|| = Alfonso_e\n",
    "||might|| = L p_<s,t> : L w_s : Exists w2_s : ((w2 << Epi_{s}) & p(w2))"
   ]
  },
  {
   "cell_type": "code",
   "execution_count": 178,
   "id": "62e22a66-e138-4cb1-99bd-38b70695682a",
   "metadata": {},
   "outputs": [
    {
     "data": {
      "text/latex": [
       "$\\lambda{} w_{s} \\: . \\: {Alfonso}_{e}$"
      ],
      "text/plain": [
       "(λ w_s: Alfonso_e)"
      ]
     },
     "execution_count": 178,
     "metadata": {},
     "output_type": "execute_result"
    }
   ],
   "source": [
    "unit(Alfonso.content).reduce_all()"
   ]
  },
  {
   "cell_type": "code",
   "execution_count": 179,
   "id": "780c7b09-fc10-4bf9-8209-32ef14edbb71",
   "metadata": {},
   "outputs": [
    {
     "data": {
      "text/latex": [
       "$\\lambda{} w_{s} \\: . \\: {Cat}({w}, {Alfonso}_{e})$"
      ],
      "text/plain": [
       "(λ w_s: Cat_<(s,e),t>(w_s, Alfonso_e))"
      ]
     },
     "execution_count": 179,
     "metadata": {},
     "output_type": "execute_result"
    }
   ],
   "source": [
    "bind(unit(Alfonso.content))(cat.content).reduce_all()"
   ]
  },
  {
   "cell_type": "code",
   "execution_count": 273,
   "id": "de5cad78-a232-4485-8c17-3560162f7d47",
   "metadata": {},
   "outputs": [
    {
     "name": "stdout",
     "output_type": "stream",
     "text": [
      "INFO (core): Coerced guessed type for 'Cat_t' into <(s,e),t>, to match argument '(w_s, x_e)'\n",
      "INFO (core): Coerced guessed type for 'Danced_t' into <(s,e),t>, to match argument '(w_s, x_e)'\n"
     ]
    },
    {
     "data": {
      "text/markdown": [
       "$[\\![\\text{\\textbf{every}}]\\!]^{}_{\\left\\langle{}\\left\\langle{}e,t\\right\\rangle{},\\left\\langle{}\\left\\langle{}e,t\\right\\rangle{},t\\right\\rangle{}\\right\\rangle{}} \\:=\\: \\lambda{} f_{\\left\\langle{}e,t\\right\\rangle{}} \\: . \\: \\lambda{} g_{\\left\\langle{}e,t\\right\\rangle{}} \\: . \\: \\forall{} x_{e} \\: . \\: {f}({x}) \\rightarrow{} {g}({x})$<br />\n",
       "$[\\![\\text{\\textbf{cat}}]\\!]^{}_{\\left\\langle{}e,\\left\\langle{}s,t\\right\\rangle{}\\right\\rangle{}} \\:=\\: \\lambda{} x_{e} \\: . \\: \\lambda{} w_{s} \\: . \\: {Cat}({w}, {x})$<br />\n",
       "$[\\![\\text{\\textbf{danced}}]\\!]^{}_{\\left\\langle{}e,\\left\\langle{}s,t\\right\\rangle{}\\right\\rangle{}} \\:=\\: \\lambda{} x_{e} \\: . \\: \\lambda{} w_{s} \\: . \\: {Danced}({w}, {x})$<br />\n",
       "$[\\![\\text{\\textbf{Alfonso}}]\\!]^{}_{e} \\:=\\: {Alfonso}_{e}$<br />\n",
       "$[\\![\\text{\\textbf{might}}]\\!]^{}_{\\left\\langle{}\\left\\langle{}s,t\\right\\rangle{},\\left\\langle{}s,t\\right\\rangle{}\\right\\rangle{}} \\:=\\: \\lambda{} p_{\\left\\langle{}s,t\\right\\rangle{}} \\: . \\: \\lambda{} w_{s} \\: . \\: \\exists{} w2_{s} \\: . \\: ({w2} \\in{} {Epi}_{\\left\\langle{}s,\\left\\{s\\right\\}\\right\\rangle{}}({w})) \\wedge{} {p}({w2})$<br />\n",
       "$[\\![\\text{\\textbf{and\\_}}]\\!]^{}_{\\left\\langle{}t,\\left\\langle{}t,t\\right\\rangle{}\\right\\rangle{}} \\:=\\: \\lambda{} p_{t} \\: . \\: \\lambda{} q_{t} \\: . \\: {p} \\wedge{} {q}$<br />\n",
       "${bind}_{\\left\\langle{}\\left\\langle{}s,X\\right\\rangle{},\\left\\langle{}\\left\\langle{}X,\\left\\langle{}s,Y\\right\\rangle{}\\right\\rangle{},\\left\\langle{}s,Y\\right\\rangle{}\\right\\rangle{}\\right\\rangle{}}\\:=\\:\\lambda{} m_{\\left\\langle{}s,X\\right\\rangle{}} \\: . \\: \\lambda{} k_{\\left\\langle{}X,\\left\\langle{}s,Y\\right\\rangle{}\\right\\rangle{}} \\: . \\: \\lambda{} w_{s} \\: . \\: {k}({m}({w}))({w})$<br />\n",
       "${bind2}_{\\left\\langle{}\\left\\langle{}s,X\\right\\rangle{},\\left\\langle{}\\left\\langle{}X,\\left\\langle{}s,X'\\right\\rangle{}\\right\\rangle{},\\left\\langle{}s,X'\\right\\rangle{}\\right\\rangle{}\\right\\rangle{}}\\:=\\:\\lambda{} m_{\\left\\langle{}s,X\\right\\rangle{}} \\: . \\: \\lambda{} k_{\\left\\langle{}X,\\left\\langle{}s,X'\\right\\rangle{}\\right\\rangle{}} \\: . \\: \\lambda{} w_{s} \\: . \\: {k}({m}({w}))({w})$<br />\n",
       "${unit}_{\\left\\langle{}X'',\\left\\langle{}s,X''\\right\\rangle{}\\right\\rangle{}}\\:=\\:\\lambda{} a_{X''} \\: . \\: \\lambda{} w_{s} \\: . \\: {a}$<br />\n",
       "${apply}_{\\left\\langle{}\\left\\langle{}s,\\left\\langle{}X,X\\right\\rangle{}\\right\\rangle{},\\left\\langle{}\\left\\langle{}s,X\\right\\rangle{},\\left\\langle{}s,X\\right\\rangle{}\\right\\rangle{}\\right\\rangle{}}\\:=\\:\\lambda{} f_{\\left\\langle{}s,\\left\\langle{}X,X\\right\\rangle{}\\right\\rangle{}} \\: . \\: \\lambda{} x_{\\left\\langle{}s,X\\right\\rangle{}} \\: . \\: \\lambda{} w_{s} \\: . \\: {f}({w})({x}({w}))$<br />\n",
       "${asdf}_{\\left\\langle{}s,X'\\right\\rangle{}}\\:=\\:\\lambda{} w_{s} \\: . \\: {a}_{\\left\\langle{}X',X'\\right\\rangle{}}({x}_{\\left\\langle{}s,X'\\right\\rangle{}}({w}))$"
      ],
      "text/plain": [
       "⟦every⟧ = (λ f_<e,t>: (λ g_<e,t>: (Forall x_e: (f_<e,t>(x_e) >> g_<e,t>(x_e)))))\n",
       "⟦cat⟧ = (λ x_e: (λ w_s: Cat_<(s,e),t>(w_s, x_e)))\n",
       "⟦danced⟧ = (λ x_e: (λ w_s: Danced_<(s,e),t>(w_s, x_e)))\n",
       "⟦Alfonso⟧ = Alfonso_e\n",
       "⟦might⟧ = (λ p_<s,t>: (λ w_s: (Exists w2_s: ((w2_s << Epi_<s,{s}>(w_s)) & p_<s,t>(w2_s)))))\n",
       "⟦and_⟧ = (λ p_t: (λ q_t: (p_t & q_t)))\n",
       "bind_<<s,X>,<<X,<s,Y>>,<s,Y>>> = (λ m_<s,X>: (λ k_<X,<s,Y>>: (λ w_s: k_<X,<s,Y>>(m_<s,X>(w_s))(w_s))))\n",
       "bind2_<<s,X>,<<X,<s,X1>>,<s,X1>>> = (λ m_<s,X>: (λ k_<X,<s,X1>>: (λ w_s: k_<X,<s,X1>>(m_<s,X>(w_s))(w_s))))\n",
       "unit_<X2,<s,X2>> = (λ a_X2: (λ w_s: a_X2))\n",
       "apply_<<s,<X,X>>,<<s,X>,<s,X>>> = (λ f_<s,<X,X>>: (λ x_<s,X>: (λ w_s: f_<s,<X,X>>(w_s)(x_<s,X>(w_s)))))\n",
       "asdf_<s,X1> = (λ w_s: a_<X1,X1>(x_<s,X1>(w_s)))"
      ]
     },
     "metadata": {},
     "output_type": "display_data"
    }
   ],
   "source": [
    "%%lamb\n",
    "||every|| = L f_<e,t> : L g_<e,t> : Forall x_e : f(x) >> g(x)\n",
    "||cat|| = L x_e : L w_s : Cat(w,x)\n",
    "||danced|| = L x_e : L w_s : Danced(w,x)\n",
    "||Alfonso|| = Alfonso_e\n",
    "||might|| = L p_<s,t> : L w_s : Exists w2_s : ((w2 << Epi_<s,{s}>(w)) & p(w2))\n",
    "||and_|| = L p_t : L q_t : p & q\n",
    "bind = L m_<s,X> : L k_<X,<s,Y>> : L w_s : (k(m(w))(w))\n",
    "bind2 = L m_<s,X10> : L k_<X10,<s,Y10>> : L w_s : (k(m(w))(w))\n",
    "unit = L a_X2 : L w_s : a\n",
    "\n",
    "apply = L f_<s,<X,Y>> : L x_<s,X> : bind(f)(L a_<X,Y> : bind2(x_<s,X>)(L b_X : unit(a(b))))\n",
    "asdf = L f_<s,<X,Y>> : L x_<s,X> : (L a_<X,Y> : bind2(x_<s,X>)(L b_X : unit(a(b))))\n",
    "asdf = (bind2(x_<s,X3>)(L b_X3 : unit(a_<X3,Y3>(b))))"
   ]
  },
  {
   "cell_type": "code",
   "execution_count": 274,
   "id": "81dad847-350e-437d-abc6-3a51c31763fd",
   "metadata": {},
   "outputs": [
    {
     "data": {
      "text/markdown": [
       "${apply}_{\\left\\langle{}\\left\\langle{}s,\\left\\langle{}X,Y\\right\\rangle{}\\right\\rangle{},\\left\\langle{}\\left\\langle{}s,X\\right\\rangle{},\\left\\langle{}s,Y\\right\\rangle{}\\right\\rangle{}\\right\\rangle{}}\\:=\\:\\lambda{} f_{\\left\\langle{}s,\\left\\langle{}X,Y\\right\\rangle{}\\right\\rangle{}} \\: . \\: \\lambda{} x_{\\left\\langle{}s,X\\right\\rangle{}} \\: . \\: \\lambda{} w_{s} \\: . \\: {f}({w})({x}({w}))$"
      ],
      "text/plain": [
       "apply_<<s,<X,Y>>,<<s,X>,<s,Y>>> = (λ f_<s,<X,Y>>: (λ x_<s,X>: (λ w_s: f_<s,<X,Y>>(w_s)(x_<s,X>(w_s)))))"
      ]
     },
     "metadata": {},
     "output_type": "display_data"
    }
   ],
   "source": [
    "%lamb apply = L f_<s,<X,Y>> : L x_<s,X> : L w_s : f(w)(x(w))"
   ]
  },
  {
   "cell_type": "code",
   "execution_count": 275,
   "id": "a7ad34b2-26eb-4b0f-a6e1-cddb28ed2f4a",
   "metadata": {},
   "outputs": [
    {
     "data": {
      "text/latex": [
       "${[\\lambda{} m_{\\left\\langle{}s,X'\\right\\rangle{}} \\: . \\: \\lambda{} k_{\\left\\langle{}X',\\left\\langle{}s,X'\\right\\rangle{}\\right\\rangle{}} \\: . \\: \\lambda{} w_{s} \\: . \\: {k}({m}({w}))({w})]}({x}_{\\left\\langle{}s,X'\\right\\rangle{}})(\\lambda{} b_{X'} \\: . \\: {[\\lambda{} a_{X'} \\: . \\: \\lambda{} w_{s} \\: . \\: {a}]}({a}_{\\left\\langle{}X',X'\\right\\rangle{}}({b})))$"
      ],
      "text/plain": [
       "(λ m_<s,X1>: (λ k_<X1,<s,X1>>: (λ w_s: k_<X1,<s,X1>>(m_<s,X1>(w_s))(w_s))))(x_<s,X1>)(λ b_X1: (λ a_X1: (λ w_s: a_X1))(a_<X1,X1>(b_X1)))"
      ]
     },
     "execution_count": 275,
     "metadata": {},
     "output_type": "execute_result"
    }
   ],
   "source": [
    "asdf.derivation[1].result #.get_type_env()"
   ]
  },
  {
   "cell_type": "code",
   "execution_count": 276,
   "id": "4f64e44d-d339-4cf5-8b52-434b43beb485",
   "metadata": {},
   "outputs": [
    {
     "data": {
      "text/latex": [
       "$\\lambda{} w_{s} \\: . \\: {Alfonso}_{e}$"
      ],
      "text/plain": [
       "(λ w_s: Alfonso_e)"
      ]
     },
     "execution_count": 276,
     "metadata": {},
     "output_type": "execute_result"
    }
   ],
   "source": [
    "unit(Alfonso.content).reduce_all()"
   ]
  },
  {
   "cell_type": "code",
   "execution_count": 277,
   "id": "0b3a02b6-60f9-40e5-83a5-eb21f5a43ae5",
   "metadata": {},
   "outputs": [
    {
     "data": {
      "text/latex": [
       "$\\lambda{} w_{s} \\: . \\: {Cat}({w}, {Alfonso}_{e})$"
      ],
      "text/plain": [
       "(λ w_s: Cat_<(s,e),t>(w_s, Alfonso_e))"
      ]
     },
     "execution_count": 277,
     "metadata": {},
     "output_type": "execute_result"
    }
   ],
   "source": [
    "bind(unit(Alfonso.content))(cat.content).reduce_all()"
   ]
  },
  {
   "cell_type": "code",
   "execution_count": 278,
   "id": "fc4d37c5-41ee-457b-afb2-010c2d072eaa",
   "metadata": {},
   "outputs": [
    {
     "data": {
      "text/latex": [
       "$\\lambda{} w_{s} \\: . \\: \\exists{} w2_{s} \\: . \\: ({w2} \\in{} {Epi}_{\\left\\langle{}s,\\left\\{s\\right\\}\\right\\rangle{}}({w})) \\wedge{} {Cat}({w2}, {Alfonso}_{e})$"
      ],
      "text/plain": [
       "(λ w_s: (Exists w2_s: ((w2_s << Epi_<s,{s}>(w_s)) & Cat_<(s,e),t>(w2_s, Alfonso_e))))"
      ]
     },
     "execution_count": 278,
     "metadata": {},
     "output_type": "execute_result"
    }
   ],
   "source": [
    "might.content(bind(unit(Alfonso.content))(cat.content).reduce_all()).reduce_all()"
   ]
  },
  {
   "cell_type": "code",
   "execution_count": 279,
   "id": "b0fcfbab-673b-4797-b3cf-ff7c27b9faf4",
   "metadata": {},
   "outputs": [
    {
     "data": {
      "text/markdown": [
       "${test}_{\\left\\langle{}\\left\\langle{}s,X\\right\\rangle{},\\left\\langle{}s,X\\right\\rangle{}\\right\\rangle{}}\\:=\\:\\lambda{} x_{\\left\\langle{}s,X\\right\\rangle{}} \\: . \\: \\lambda{} w_{s} \\: . \\: {x}({w})$"
      ],
      "text/plain": [
       "test_<<s,X>,<s,X>> = (λ x_<s,X>: (λ w_s: x_<s,X>(w_s)))"
      ]
     },
     "metadata": {},
     "output_type": "display_data"
    }
   ],
   "source": [
    "%lamb test = L x_<s,X> : bind(x)(unit)"
   ]
  },
  {
   "cell_type": "code",
   "execution_count": 280,
   "id": "a3d04915-4338-47d6-ac06-6096e60ffc6c",
   "metadata": {},
   "outputs": [
    {
     "data": {
      "text/latex": [
       "$\\lambda{} k_{\\left\\langle{}\\left\\langle{}t,\\left\\langle{}t,t\\right\\rangle{}\\right\\rangle{},\\left\\langle{}s,X\\right\\rangle{}\\right\\rangle{}} \\: . \\: \\lambda{} w_{s} \\: . \\: {k}(\\lambda{} p_{t} \\: . \\: \\lambda{} q_{t} \\: . \\: {p} \\wedge{} {q})({w})$"
      ],
      "text/plain": [
       "(λ k_<<t,<t,t>>,<s,X>>: (λ w_s: k_<<t,<t,t>>,<s,X>>(λ p_t: (λ q_t: (p_t & q_t)))(w_s)))"
      ]
     },
     "execution_count": 280,
     "metadata": {},
     "output_type": "execute_result"
    }
   ],
   "source": [
    "bind(unit(and_.content)).reduce_all()"
   ]
  },
  {
   "cell_type": "code",
   "execution_count": 281,
   "id": "097a2029-90ee-4063-a175-5a1926c23564",
   "metadata": {},
   "outputs": [
    {
     "data": {
      "text/latex": [
       "$\\lambda{} f_{\\left\\langle{}t,\\left\\langle{}t,t\\right\\rangle{}\\right\\rangle{}} \\: . \\: \\lambda{} w_{s} \\: . \\: \\lambda{} p_{\\left\\langle{}s,t\\right\\rangle{}} \\: . \\: \\lambda{} q_{\\left\\langle{}s,t\\right\\rangle{}} \\: . \\: {f}({p}({w}))({q}({w}))$"
      ],
      "text/plain": [
       "(λ f_<t,<t,t>>: (λ w_s: (λ p_<s,t>: (λ q_<s,t>: f_<t,<t,t>>(p_<s,t>(w_s))(q_<s,t>(w_s))))))"
      ]
     },
     "execution_count": 281,
     "metadata": {},
     "output_type": "execute_result"
    }
   ],
   "source": [
    "%te L f_<t,<t,t>> : L w_s : L p_<s,t> : L q_<s,t> : f(p(w))(q(w))"
   ]
  },
  {
   "cell_type": "code",
   "execution_count": 282,
   "id": "b0563667-9f41-4b89-ab7a-b5e57d35eba0",
   "metadata": {},
   "outputs": [
    {
     "data": {
      "text/latex": [
       "$\\lambda{} w_{s} \\: . \\: \\lambda{} p_{t} \\: . \\: \\lambda{} q_{t} \\: . \\: {p} \\wedge{} {q}$"
      ],
      "text/plain": [
       "(λ w_s: (λ p_t: (λ q_t: (p_t & q_t))))"
      ]
     },
     "execution_count": 282,
     "metadata": {},
     "output_type": "execute_result"
    }
   ],
   "source": [
    "unit(and_.content).reduce_all()"
   ]
  },
  {
   "cell_type": "code",
   "execution_count": 283,
   "id": "59470c22-3d09-4cf3-8ec8-504126e75c47",
   "metadata": {},
   "outputs": [
    {
     "data": {
      "text/latex": [
       "$\\lambda{} f_{\\left\\langle{}s,\\left\\langle{}X,Y\\right\\rangle{}\\right\\rangle{}} \\: . \\: \\lambda{} x_{\\left\\langle{}s,X\\right\\rangle{}} \\: . \\: \\lambda{} w_{s} \\: . \\: {f}({w})({x}({w}))$"
      ],
      "text/plain": [
       "(λ f_<s,<X,Y>>: (λ x_<s,X>: (λ w_s: f_<s,<X,Y>>(w_s)(x_<s,X>(w_s)))))"
      ]
     },
     "execution_count": 283,
     "metadata": {},
     "output_type": "execute_result"
    }
   ],
   "source": [
    "apply"
   ]
  },
  {
   "cell_type": "code",
   "execution_count": 284,
   "id": "88618175-1619-46cf-94cc-a93d9b830c54",
   "metadata": {},
   "outputs": [
    {
     "data": {
      "text/latex": [
       "$\\lambda{} x_{\\left\\langle{}s,t\\right\\rangle{}} \\: . \\: \\lambda{} w_{s} \\: . \\: \\lambda{} q_{t} \\: . \\: {x}({w}) \\wedge{} {q}$"
      ],
      "text/plain": [
       "(λ x_<s,t>: (λ w_s: (λ q_t: (x_<s,t>(w_s) & q_t))))"
      ]
     },
     "execution_count": 284,
     "metadata": {},
     "output_type": "execute_result"
    }
   ],
   "source": [
    "apply(unit(and_.content)).reduce_all()"
   ]
  },
  {
   "cell_type": "code",
   "execution_count": 285,
   "id": "4bf28d7b-3820-4b31-8b31-f4fc2882924d",
   "metadata": {},
   "outputs": [
    {
     "data": {
      "text/latex": [
       "$\\lambda{} w_{s} \\: . \\: {Danced}({w}, {Alfonso}_{e})$"
      ],
      "text/plain": [
       "(λ w_s: Danced_<(s,e),t>(w_s, Alfonso_e))"
      ]
     },
     "execution_count": 285,
     "metadata": {},
     "output_type": "execute_result"
    }
   ],
   "source": [
    "bind(unit(Alfonso.content))(danced.content).reduce_all()"
   ]
  },
  {
   "cell_type": "code",
   "execution_count": 286,
   "id": "02d9910f-f777-44cd-bd31-6367ddf80c69",
   "metadata": {},
   "outputs": [
    {
     "data": {
      "text/latex": [
       "$\\lambda{} w_{s} \\: . \\: \\lambda{} q_{t} \\: . \\: {Danced}({w}, {Alfonso}_{e}) \\wedge{} {q}$"
      ],
      "text/plain": [
       "(λ w_s: (λ q_t: (Danced_<(s,e),t>(w_s, Alfonso_e) & q_t)))"
      ]
     },
     "execution_count": 286,
     "metadata": {},
     "output_type": "execute_result"
    }
   ],
   "source": [
    "apply(unit(and_.content))(bind(unit(Alfonso.content))(danced.content)).reduce_all()"
   ]
  },
  {
   "cell_type": "code",
   "execution_count": 288,
   "id": "b60375b4-5b84-405f-88eb-187eba6ad23c",
   "metadata": {},
   "outputs": [
    {
     "data": {
      "text/latex": [
       "$\\lambda{} x_{\\left\\langle{}s,t\\right\\rangle{}} \\: . \\: \\lambda{} w_{s} \\: . \\: {Danced}({w}, {Alfonso}_{e}) \\wedge{} {x}({w})$"
      ],
      "text/plain": [
       "(λ x_<s,t>: (λ w_s: (Danced_<(s,e),t>(w_s, Alfonso_e) & x_<s,t>(w_s))))"
      ]
     },
     "execution_count": 288,
     "metadata": {},
     "output_type": "execute_result"
    }
   ],
   "source": [
    "apply(apply(unit(and_.content))(bind(unit(Alfonso.content))(danced.content))).reduce_all()"
   ]
  },
  {
   "cell_type": "code",
   "execution_count": 289,
   "id": "b0a95b92-a6c6-4b9a-9922-7d3bfa95dd36",
   "metadata": {},
   "outputs": [
    {
     "data": {
      "text/latex": [
       "$\\lambda{} w_{s} \\: . \\: {Danced}({w}, {Alfonso}_{e}) \\wedge{} (\\exists{} w2_{s} \\: . \\: ({w2} \\in{} {Epi}_{\\left\\langle{}s,\\left\\{s\\right\\}\\right\\rangle{}}({w})) \\wedge{} {Cat}({w2}, {Alfonso}_{e}))$"
      ],
      "text/plain": [
       "(λ w_s: (Danced_<(s,e),t>(w_s, Alfonso_e) & (Exists w2_s: ((w2_s << Epi_<s,{s}>(w_s)) & Cat_<(s,e),t>(w2_s, Alfonso_e)))))"
      ]
     },
     "execution_count": 289,
     "metadata": {},
     "output_type": "execute_result"
    }
   ],
   "source": [
    "apply(apply(unit(and_.content))(bind(unit(Alfonso.content))(danced.content)))(might.content(bind(unit(Alfonso.content))(cat.content))).reduce_all()"
   ]
  },
  {
   "cell_type": "code",
   "execution_count": null,
   "id": "44644e96-98c0-415e-b42a-8b0b17b041b1",
   "metadata": {},
   "outputs": [],
   "source": []
  },
  {
   "cell_type": "code",
   "execution_count": null,
   "id": "7debd320-5315-43b6-9745-59d2753ed23f",
   "metadata": {},
   "outputs": [],
   "source": []
  },
  {
   "cell_type": "code",
   "execution_count": null,
   "id": "6bd40396-ea40-4868-b1cb-77762b2d48f4",
   "metadata": {},
   "outputs": [],
   "source": []
  },
  {
   "cell_type": "code",
   "execution_count": 253,
   "id": "be28b592-016e-433f-aeb8-49c30079670b",
   "metadata": {},
   "outputs": [
    {
     "data": {
      "text/latex": [
       "$\\lambda{} k_{\\left\\langle{}\\left\\langle{}t,t\\right\\rangle{},\\left\\langle{}s,X\\right\\rangle{}\\right\\rangle{}} \\: . \\: \\lambda{} w_{s} \\: . \\: {k}(\\lambda{} q_{t} \\: . \\: {Cat}({w}, {Alfonso}_{e}) \\wedge{} {q})({w})$"
      ],
      "text/plain": [
       "(λ k_<<t,t>,<s,X>>: (λ w_s: k_<<t,t>,<s,X>>(λ q_t: (Cat_<(s,e),t>(w_s, Alfonso_e) & q_t))(w_s)))"
      ]
     },
     "execution_count": 253,
     "metadata": {},
     "output_type": "execute_result"
    }
   ],
   "source": [
    "bind(apply(unit(and_.content))(bind(unit(Alfonso.content))(cat.content))).reduce_all()"
   ]
  },
  {
   "cell_type": "code",
   "execution_count": null,
   "id": "3ce87ca2-cd15-46f7-9ffd-704f8258e308",
   "metadata": {},
   "outputs": [],
   "source": []
  },
  {
   "cell_type": "code",
   "execution_count": null,
   "id": "bafc3fad-5553-4b12-a9b5-38e75e0d9f09",
   "metadata": {},
   "outputs": [],
   "source": []
  },
  {
   "cell_type": "code",
   "execution_count": 32,
   "id": "cb3c7be5-aea4-4f12-a59a-b3744d61a166",
   "metadata": {},
   "outputs": [
    {
     "data": {
      "text/latex": [
       "$\\lambda{} w_{s} \\: . \\: \\lambda{} f_{\\left\\langle{}e,t\\right\\rangle{}} \\: . \\: \\lambda{} w_{s} \\: . \\: \\lambda{} g_{\\left\\langle{}e,t\\right\\rangle{}} \\: . \\: \\lambda{} w_{s} \\: . \\: \\forall{} x_{e} \\: . \\: {f}({x}) \\rightarrow{} {g}({x})$"
      ],
      "text/plain": [
       "(λ w_s: (λ f_<e,t>: (λ w_s: (λ g_<e,t>: (λ w_s: (Forall x_e: (f_<e,t>(x_e) >> g_<e,t>(x_e))))))))"
      ]
     },
     "execution_count": 32,
     "metadata": {},
     "output_type": "execute_result"
    }
   ],
   "source": [
    "unit(every.content).reduce_all()"
   ]
  },
  {
   "cell_type": "code",
   "execution_count": 34,
   "id": "9a05cfd0-beb2-4eb1-8eb1-07cdc75a0cca",
   "metadata": {},
   "outputs": [
    {
     "data": {
      "text/latex": [
       "$\\lambda{} w_{s} \\: . \\: \\lambda{} g_{\\left\\langle{}e,t\\right\\rangle{}} \\: . \\: \\lambda{} w1_{s} \\: . \\: \\forall{} x_{e} \\: . \\: {Cat}({w}, {x}) \\rightarrow{} {g}({x})$"
      ],
      "text/plain": [
       "(λ w_s: (λ g_<e,t>: (λ w1_s: (Forall x_e: (Cat_<(s,e),t>(w_s, x_e) >> g_<e,t>(x_e))))))"
      ]
     },
     "execution_count": 34,
     "metadata": {},
     "output_type": "execute_result"
    }
   ],
   "source": [
    "bind(cat.content)(every.content).reduce_all()"
   ]
  },
  {
   "cell_type": "code",
   "execution_count": 44,
   "id": "d20b1795-8cd6-413a-9669-1a153079e26e",
   "metadata": {},
   "outputs": [
    {
     "ename": "TypeMismatch",
     "evalue": "TypeMismatch: `(λ m_<s,<<X1,X2>,<X1,X2>>>: (λ k_<<<X1,X2>,<X1,X2>>,<s,X>>: (λ w_s: k_<<<X1,X2>,<X1,X2>>,<s,X>>(m_<s,<<X1,X2>,<X1,X2>>>(w_s))(w_s))))(λ a_<<X1,X2>,<X1,X2>>: (λ w_s: a_<<X1,X2>,<X1,X2>>))(λ f_<X1,X2>: (λ x_X1: f_<X1,X2>(x_X1)))/<<<<X1,X2>,<X1,X2>>,<s,X>>,<s,X>>` and `(λ f_<e,t>: (λ w_s: (λ g_<e,t>: (λ w_s: (Forall x_e: (f_<e,t>(x_e) >> g_<e,t>(x_e)))))))/<<e,t>,<s,<<e,t>,<s,t>>>>` conflict (Function-argument expression: mismatched argument types `<<<X1,X2>,<X1,X2>>,<s,X>>` and `<<e,t>,<s,<<e,t>,<s,t>>>>`)",
     "output_type": "error",
     "traceback": [
      "\u001b[0;31m---------------------------------------------------------------------------\u001b[0m",
      "\u001b[0;31mTypeMismatch\u001b[0m                              Traceback (most recent call last)",
      "Cell \u001b[0;32mIn[44], line 1\u001b[0m\n\u001b[0;32m----> 1\u001b[0m \u001b[43mbind\u001b[49m\u001b[43m(\u001b[49m\u001b[43munit\u001b[49m\u001b[43m(\u001b[49m\u001b[43mmapid\u001b[49m\u001b[43m)\u001b[49m\u001b[43m)\u001b[49m\u001b[43m(\u001b[49m\u001b[43mevery\u001b[49m\u001b[38;5;241;43m.\u001b[39;49m\u001b[43mcontent\u001b[49m\u001b[43m)\u001b[49m\n",
      "File \u001b[0;32m~/repos/lambda-notebook/lamb/meta/core.py:1785\u001b[0m, in \u001b[0;36mTypedExpr.__call__\u001b[0;34m(self, *args)\u001b[0m\n\u001b[1;32m   1780\u001b[0m \u001b[38;5;28;01mdef\u001b[39;00m \u001b[38;5;21m__call__\u001b[39m(\u001b[38;5;28mself\u001b[39m, \u001b[38;5;241m*\u001b[39margs):\n\u001b[1;32m   1781\u001b[0m \u001b[38;5;250m    \u001b[39m\u001b[38;5;124;03m\"\"\"Attempt to construct a saturated version of self.  This constructs a\u001b[39;00m\n\u001b[1;32m   1782\u001b[0m \u001b[38;5;124;03m    composite TypedExpr, with the function (`self`) as the operator and the\u001b[39;00m\n\u001b[1;32m   1783\u001b[0m \u001b[38;5;124;03m    argument(s) as the arguments.  Type checking happens immediately.\"\"\"\u001b[39;00m\n\u001b[0;32m-> 1785\u001b[0m     \u001b[38;5;28;01mreturn\u001b[39;00m \u001b[43mTypedExpr\u001b[49m\u001b[38;5;241;43m.\u001b[39;49m\u001b[43mfactory\u001b[49m\u001b[43m(\u001b[49m\u001b[38;5;28;43mself\u001b[39;49m\u001b[43m,\u001b[49m\u001b[43m \u001b[49m\u001b[38;5;241;43m*\u001b[39;49m\u001b[43margs\u001b[49m\u001b[43m)\u001b[49m\n",
      "File \u001b[0;32m~/repos/lambda-notebook/lamb/meta/core.py:1203\u001b[0m, in \u001b[0;36mTypedExpr.factory\u001b[0;34m(cls, assignment, *args)\u001b[0m\n\u001b[1;32m   1198\u001b[0m     \u001b[38;5;28;01melse\u001b[39;00m:\n\u001b[1;32m   1199\u001b[0m         logger\u001b[38;5;241m.\u001b[39mwarning(\n\u001b[1;32m   1200\u001b[0m             \u001b[38;5;124m\"\u001b[39m\u001b[38;5;124mUnable to coerce guessed type \u001b[39m\u001b[38;5;132;01m%s\u001b[39;00m\u001b[38;5;124m for \u001b[39m\u001b[38;5;124m'\u001b[39m\u001b[38;5;132;01m%s\u001b[39;00m\u001b[38;5;124m'\u001b[39m\u001b[38;5;124m \u001b[39m\u001b[38;5;124m\"\u001b[39m\n\u001b[1;32m   1201\u001b[0m             \u001b[38;5;124m\"\u001b[39m\u001b[38;5;124mto match argument \u001b[39m\u001b[38;5;124m'\u001b[39m\u001b[38;5;132;01m%s\u001b[39;00m\u001b[38;5;124m'\u001b[39m\u001b[38;5;124m (type \u001b[39m\u001b[38;5;132;01m%s\u001b[39;00m\u001b[38;5;124m)\u001b[39m\u001b[38;5;124m\"\u001b[39m\n\u001b[1;32m   1202\u001b[0m             \u001b[38;5;241m%\u001b[39m (operator\u001b[38;5;241m.\u001b[39mtype, \u001b[38;5;28mrepr\u001b[39m(operator), \u001b[38;5;28mrepr\u001b[39m(arg), arg\u001b[38;5;241m.\u001b[39mtype))\n\u001b[0;32m-> 1203\u001b[0m result \u001b[38;5;241m=\u001b[39m \u001b[43mApplicationExpr\u001b[49m\u001b[43m(\u001b[49m\u001b[43moperator\u001b[49m\u001b[43m,\u001b[49m\u001b[43m \u001b[49m\u001b[43marg\u001b[49m\u001b[43m,\u001b[49m\u001b[43m \u001b[49m\u001b[43massignment\u001b[49m\u001b[38;5;241;43m=\u001b[39;49m\u001b[43massignment\u001b[49m\u001b[43m)\u001b[49m\n\u001b[1;32m   1204\u001b[0m \u001b[38;5;28;01mif\u001b[39;00m result\u001b[38;5;241m.\u001b[39mlet:\n\u001b[1;32m   1205\u001b[0m     result \u001b[38;5;241m=\u001b[39m derived(result\u001b[38;5;241m.\u001b[39mcompact_type_vars(), result,\n\u001b[1;32m   1206\u001b[0m                                                 \u001b[38;5;124m\"\u001b[39m\u001b[38;5;124mLet substitution\u001b[39m\u001b[38;5;124m\"\u001b[39m)\n",
      "File \u001b[0;32m~/repos/lambda-notebook/lamb/meta/core.py:1917\u001b[0m, in \u001b[0;36mApplicationExpr.__init__\u001b[0;34m(self, fun, arg, defer, assignment, type_check)\u001b[0m\n\u001b[1;32m   1914\u001b[0m         \u001b[38;5;28;01mraise\u001b[39;00m TypeMismatch(fun, arg,\n\u001b[1;32m   1915\u001b[0m             error\u001b[38;5;241m=\u001b[39m\u001b[38;5;124mf\u001b[39m\u001b[38;5;124m\"\u001b[39m\u001b[38;5;124mFunction-argument expression: `\u001b[39m\u001b[38;5;132;01m{\u001b[39;00m\u001b[38;5;28mrepr\u001b[39m(fun)\u001b[38;5;132;01m}\u001b[39;00m\u001b[38;5;124m` is not a function\u001b[39m\u001b[38;5;124m\"\u001b[39m)\n\u001b[1;32m   1916\u001b[0m     \u001b[38;5;28;01melse\u001b[39;00m:\n\u001b[0;32m-> 1917\u001b[0m         \u001b[38;5;28;01mraise\u001b[39;00m TypeMismatch(fun, arg,\n\u001b[1;32m   1918\u001b[0m             error\u001b[38;5;241m=\u001b[39m\u001b[38;5;124mf\u001b[39m\u001b[38;5;124m\"\u001b[39m\u001b[38;5;124mFunction-argument expression: mismatched argument types `\u001b[39m\u001b[38;5;132;01m{\u001b[39;00m\u001b[38;5;28mrepr\u001b[39m(fun\u001b[38;5;241m.\u001b[39mtype\u001b[38;5;241m.\u001b[39mleft)\u001b[38;5;132;01m}\u001b[39;00m\u001b[38;5;124m` and `\u001b[39m\u001b[38;5;132;01m{\u001b[39;00marg\u001b[38;5;241m.\u001b[39mtype\u001b[38;5;132;01m}\u001b[39;00m\u001b[38;5;124m`\u001b[39m\u001b[38;5;124m\"\u001b[39m)\n\u001b[1;32m   1919\u001b[0m f, a, out_type, history \u001b[38;5;241m=\u001b[39m tc_result\n\u001b[1;32m   1920\u001b[0m op \u001b[38;5;241m=\u001b[39m \u001b[38;5;124m\"\u001b[39m\u001b[38;5;124mApply\u001b[39m\u001b[38;5;124m\"\u001b[39m\n",
      "\u001b[0;31mTypeMismatch\u001b[0m: TypeMismatch: `(λ m_<s,<<X1,X2>,<X1,X2>>>: (λ k_<<<X1,X2>,<X1,X2>>,<s,X>>: (λ w_s: k_<<<X1,X2>,<X1,X2>>,<s,X>>(m_<s,<<X1,X2>,<X1,X2>>>(w_s))(w_s))))(λ a_<<X1,X2>,<X1,X2>>: (λ w_s: a_<<X1,X2>,<X1,X2>>))(λ f_<X1,X2>: (λ x_X1: f_<X1,X2>(x_X1)))/<<<<X1,X2>,<X1,X2>>,<s,X>>,<s,X>>` and `(λ f_<e,t>: (λ w_s: (λ g_<e,t>: (λ w_s: (Forall x_e: (f_<e,t>(x_e) >> g_<e,t>(x_e)))))))/<<e,t>,<s,<<e,t>,<s,t>>>>` conflict (Function-argument expression: mismatched argument types `<<<X1,X2>,<X1,X2>>,<s,X>>` and `<<e,t>,<s,<<e,t>,<s,t>>>>`)"
     ]
    }
   ],
   "source": [
    "bind(unit(mapid))(every.content)"
   ]
  },
  {
   "cell_type": "code",
   "execution_count": null,
   "id": "4dfba899-573c-4f92-a9aa-de7fe12c99e5",
   "metadata": {},
   "outputs": [],
   "source": []
  },
  {
   "cell_type": "code",
   "execution_count": null,
   "id": "34788614-13f6-4cc0-8d8c-efb18f2de107",
   "metadata": {},
   "outputs": [],
   "source": []
  },
  {
   "cell_type": "markdown",
   "id": "903229f7-9c3e-412a-bc4d-2e99f72fba92",
   "metadata": {},
   "source": [
    "# reader monad class demo for 2/13 starts here"
   ]
  },
  {
   "cell_type": "code",
   "execution_count": 373,
   "id": "8e00da4f-e7ba-4dfe-81f3-6508fe66c581",
   "metadata": {},
   "outputs": [
    {
     "data": {
      "text/html": [
       "Composition system 'H&K simple (copy)'<br />Operations: {<br />&nbsp;&nbsp;&nbsp;&nbsp;Binary composition rule <i>FA</i>, built on python function 'lamb.lang.fa_fun'<br />&nbsp;&nbsp;&nbsp;&nbsp;Binary composition rule <i>PM</i>, built on python function 'lamb.lang.pm_fun'<br />&nbsp;&nbsp;&nbsp;&nbsp;Binary composition rule <i>PA</i>, built on python function 'lamb.lang.pa_fun'<br />&nbsp;&nbsp;&nbsp;&nbsp;Binary composition rule <i>VAC</i>, built on python function 'lamb.lang.binary_vacuous'<br />}"
      ],
      "text/plain": [
       "Composition system: H&K simple (copy)"
      ]
     },
     "execution_count": 373,
     "metadata": {},
     "output_type": "execute_result"
    }
   ],
   "source": [
    "lamb.display.default(style=lamb.display.DerivStyle.PROOF)\n",
    "\n",
    "# basic composition system with an intensional type\n",
    "type_s = types.BasicType(\"s\")\n",
    "system = lang.td_system.copy()\n",
    "system.add_basic_type(type_s)\n",
    "lang.set_system(system)\n",
    "system"
   ]
  },
  {
   "cell_type": "code",
   "execution_count": 385,
   "id": "c1560a46-0323-48c8-aeda-4f6f07a262ad",
   "metadata": {},
   "outputs": [
    {
     "data": {
      "text/latex": [
       "$\\lambda{} a_{X} \\: . \\: \\lambda{} w_{s} \\: . \\: {a}$"
      ],
      "text/plain": [
       "(λ a_X: (λ w_s: a_X))"
      ]
     },
     "metadata": {},
     "output_type": "display_data"
    },
    {
     "data": {
      "text/latex": [
       "$\\lambda{} m_{\\left\\langle{}s,X\\right\\rangle{}} \\: . \\: \\lambda{} k_{\\left\\langle{}X,\\left\\langle{}s,Y\\right\\rangle{}\\right\\rangle{}} \\: . \\: \\lambda{} w_{s} \\: . \\: {k}({m}({w}))({w})$"
      ],
      "text/plain": [
       "(λ m_<s,X>: (λ k_<X,<s,Y>>: (λ w_s: k_<X,<s,Y>>(m_<s,X>(w_s))(w_s))))"
      ]
     },
     "metadata": {},
     "output_type": "display_data"
    },
    {
     "data": {
      "text/latex": [
       "$\\lambda{} f_{\\left\\langle{}s,\\left\\langle{}X,Y\\right\\rangle{}\\right\\rangle{}} \\: . \\: \\lambda{} x_{\\left\\langle{}s,X\\right\\rangle{}} \\: . \\: \\lambda{} w_{s} \\: . \\: {f}({w})({x}({w}))$"
      ],
      "text/plain": [
       "(λ f_<s,<X,Y>>: (λ x_<s,X>: (λ w_s: f_<s,<X,Y>>(w_s)(x_<s,X>(w_s)))))"
      ]
     },
     "metadata": {},
     "output_type": "display_data"
    }
   ],
   "source": [
    "# monad operations\n",
    "unit = %te L a_X : L w_s : a\n",
    "bind = %te L m_<s,X> : L k_<X,<s,Y>> : L w_s : (k(m(w))(w))\n",
    "apply = %te L f_<s,<X,Y>> : L x_<s,X> : L w_s : f(w)(x(w))\n",
    "display(unit, bind, apply)"
   ]
  },
  {
   "cell_type": "code",
   "execution_count": null,
   "id": "1c0abce0-71f2-4915-ad11-1ee7ee11bd4f",
   "metadata": {},
   "outputs": [],
   "source": []
  },
  {
   "cell_type": "code",
   "execution_count": 411,
   "id": "1ce20323-4598-4406-8c6e-daad66710857",
   "metadata": {},
   "outputs": [
    {
     "name": "stderr",
     "output_type": "stream",
     "text": [
      "WARNING (lang): Composition rule named 'Unit' already present in system, replacing\n",
      "WARNING (lang): Composition rule named 'Bind' already present in system, replacing\n",
      "WARNING (lang): Composition rule named 'LiftedFA' already present in system, replacing\n"
     ]
    },
    {
     "data": {
      "text/html": [
       "Composition system 'H&K simple (copy)'<br />Operations: {<br />&nbsp;&nbsp;&nbsp;&nbsp;Binary composition rule <i>FA</i>, built on python function 'lamb.lang.fa_fun'<br />&nbsp;&nbsp;&nbsp;&nbsp;Binary composition rule <i>PM</i>, built on python function 'lamb.lang.pm_fun'<br />&nbsp;&nbsp;&nbsp;&nbsp;Binary composition rule <i>PA</i>, built on python function 'lamb.lang.pa_fun'<br />&nbsp;&nbsp;&nbsp;&nbsp;Binary composition rule <i>VAC</i>, built on python function 'lamb.lang.binary_vacuous'<br />&nbsp;&nbsp;&nbsp;&nbsp;Typeshift <i>Unit</i>, built on combinator '$\\lambda{} a_{X} \\: . \\: \\lambda{} w_{s} \\: . \\: {a}$'<br />&nbsp;&nbsp;&nbsp;&nbsp;Binary composition rule <i>Bind</i>, built on combinator '$\\lambda{} m_{\\left\\langle{}s,X\\right\\rangle{}} \\: . \\: \\lambda{} k_{\\left\\langle{}X,\\left\\langle{}s,Y\\right\\rangle{}\\right\\rangle{}} \\: . \\: \\lambda{} w_{s} \\: . \\: {k}({m}({w}))({w})$'<br />&nbsp;&nbsp;&nbsp;&nbsp;Binary composition rule <i>LiftedFA</i>, built on combinator '$\\lambda{} f_{\\left\\langle{}s,\\left\\langle{}X,Y\\right\\rangle{}\\right\\rangle{}} \\: . \\: \\lambda{} x_{\\left\\langle{}s,X\\right\\rangle{}} \\: . \\: \\lambda{} w_{s} \\: . \\: {f}({w})({x}({w}))$'<br />}"
      ],
      "text/plain": [
       "Composition system: H&K simple (copy)"
      ]
     },
     "execution_count": 411,
     "metadata": {},
     "output_type": "execute_result"
    }
   ],
   "source": [
    "system.add_typeshift(unit, \"Unit\")\n",
    "# bind is unused in this demo, but can be added in principle\n",
    "system.add_binary_rule(bind, \"Bind\")\n",
    "system.add_binary_rule(apply, \"LiftedFA\")\n",
    "system.typeshift = True\n",
    "system"
   ]
  },
  {
   "cell_type": "code",
   "execution_count": 413,
   "id": "3ef4cce1-901f-47b8-98a9-3ceef16f548a",
   "metadata": {},
   "outputs": [
    {
     "name": "stdout",
     "output_type": "stream",
     "text": [
      "INFO (core): Coerced guessed type for 'Cat_t' into <(s,e),t>, to match argument '(w_s, x_e)'\n",
      "INFO (core): Coerced guessed type for 'Dance_t' into <(s,e),t>, to match argument '(w_s, x_e)'\n"
     ]
    },
    {
     "data": {
      "text/markdown": [
       "$[\\![\\text{\\textbf{Alfonso}}]\\!]^{}_{e} \\:=\\: {Alfonso}_{e}$<br />\n",
       "$[\\![\\text{\\textbf{every}}]\\!]^{}_{\\left\\langle{}\\left\\langle{}e,t\\right\\rangle{},\\left\\langle{}\\left\\langle{}e,t\\right\\rangle{},t\\right\\rangle{}\\right\\rangle{}} \\:=\\: \\lambda{} f_{\\left\\langle{}e,t\\right\\rangle{}} \\: . \\: \\lambda{} g_{\\left\\langle{}e,t\\right\\rangle{}} \\: . \\: \\forall{} x_{e} \\: . \\: {f}({x}) \\rightarrow{} {g}({x})$<br />\n",
       "$[\\![\\text{\\textbf{and\\_}}]\\!]^{}_{\\left\\langle{}t,\\left\\langle{}t,t\\right\\rangle{}\\right\\rangle{}} \\:=\\: \\lambda{} p_{t} \\: . \\: \\lambda{} q_{t} \\: . \\: {p} \\wedge{} {q}$<br />\n",
       "$[\\![\\text{\\textbf{cat}}]\\!]^{}_{\\left\\langle{}s,\\left\\langle{}e,t\\right\\rangle{}\\right\\rangle{}} \\:=\\: \\lambda{} w_{s} \\: . \\: \\lambda{} x_{e} \\: . \\: {Cat}({w}, {x})$<br />\n",
       "$[\\![\\text{\\textbf{dance}}]\\!]^{}_{\\left\\langle{}s,\\left\\langle{}e,t\\right\\rangle{}\\right\\rangle{}} \\:=\\: \\lambda{} w_{s} \\: . \\: \\lambda{} x_{e} \\: . \\: {Dance}({w}, {x})$<br />\n",
       "$[\\![\\text{\\textbf{might}}]\\!]^{}_{\\left\\langle{}\\left\\langle{}s,t\\right\\rangle{},\\left\\langle{}s,t\\right\\rangle{}\\right\\rangle{}} \\:=\\: \\lambda{} p_{\\left\\langle{}s,t\\right\\rangle{}} \\: . \\: \\lambda{} w_{s} \\: . \\: \\exists{} w2_{s} \\: . \\: ({w2} \\in{} {Epi}_{\\left\\langle{}s,\\left\\{s\\right\\}\\right\\rangle{}}({w})) \\wedge{} {p}({w2})$"
      ],
      "text/plain": [
       "⟦Alfonso⟧ = Alfonso_e\n",
       "⟦every⟧ = (λ f_<e,t>: (λ g_<e,t>: (Forall x_e: (f_<e,t>(x_e) >> g_<e,t>(x_e)))))\n",
       "⟦and_⟧ = (λ p_t: (λ q_t: (p_t & q_t)))\n",
       "⟦cat⟧ = (λ w_s: (λ x_e: Cat_<(s,e),t>(w_s, x_e)))\n",
       "⟦dance⟧ = (λ w_s: (λ x_e: Dance_<(s,e),t>(w_s, x_e)))\n",
       "⟦might⟧ = (λ p_<s,t>: (λ w_s: (Exists w2_s: ((w2_s << Epi_<s,{s}>(w_s)) & p_<s,t>(w2_s)))))"
      ]
     },
     "metadata": {},
     "output_type": "display_data"
    }
   ],
   "source": [
    "%%lamb\n",
    "# non-intensional entries\n",
    "||Alfonso|| = Alfonso_e\n",
    "||every|| = L f_<e,t> : L g_<e,t> : Forall x_e : f(x) >> g(x)\n",
    "||and_|| = L p_t : L q_t : p & q\n",
    "# entries that access a world\n",
    "||cat|| = L w_s : L x_e : Cat(w,x)\n",
    "||dance|| = L w_s : L x_e : Dance(w,x)\n",
    "# shifter example. Note that the world argument goes *inside*...\n",
    "||might|| = L p_<s,t> : L w_s : Exists w2_s : ((w2 << Epi_<s,{s}>(w)) & p(w2))\n"
   ]
  },
  {
   "cell_type": "code",
   "execution_count": 399,
   "id": "8d58f963-4e41-4478-8e87-bd78c5d782ca",
   "metadata": {},
   "outputs": [
    {
     "data": {
      "text/html": [
       "1 composition path:<br /><div align=\"center\" style=\"display:table;\"><div align=\"center\" style=\"display:table-row;\"><div style=\"display:table-cell;table-layout:auto;vertical-align:bottom;border-bottom:1px solid #848482;\"><div style=\"display: table;\"><div style=\"vertical-align:bottom;display:table-cell;padding-left:5px;padding-right:5px;padding-top:5px;padding-bottom:5px;\"><div align=\"center\" style=\"display:table;\"><div align=\"center\" style=\"display:table-row;\"><div style=\"display:table-cell;table-layout:auto;vertical-align:bottom;border-bottom:1px solid #848482;\"><div style=\"display: table;\"><div style=\"vertical-align:bottom;display:table-cell;padding-left:5px;padding-right:5px;padding-top:5px;padding-bottom:5px;\"><div align=\"center\" style=\"display:block;padding-left:5px;padding-right:5px;padding-top:5px;padding-bottom:5px;\"><div style=\"display:table;table-layout:auto;\" align=\"center\"><div style=\"display:table-row;\"><div style=\"display:table-cell;padding-right:2px; padding-left:2px;\" align=\"center\"><div style=\"display:inline-block;\"><span>$[\\![\\text{\\textbf{Alfonso}}]\\!]^{}_{e}$</span></div></div></div><div style=\"display:table-row;\"><div style=\"display:table-cell;padding-right:2px; padding-left:2px;\" align=\"center\"><div style=\"display:inline-block;\"><span>${Alfonso}_{e}$</span></div></div></div></div></div></div></div></div><div style=\"display:table-cell;\"></div></div><div style=\"display:table-row;\"><div style=\"display: table-cell;\"></div><div style=\"display:table-cell;vertical-align:middle;\"><div style=\"vertical-align:middle;height:0px;overflow:visible\"><div style=\"color:blue;transform: translateY(-1em); padding-left:0.5em;\"><b>[<span>Unit</span>]</b></div></div></div></div><div align=\"center\" style=\"display:table-row;padding-left:5px;padding-right:5px;padding-top:5px;padding-bottom:5px;\"><div align=\"center\" style=\"display:block;padding-left:5px;padding-right:5px;padding-top:5px;padding-bottom:5px;\"><div style=\"display:table;table-layout:auto;\" align=\"center\"><div style=\"display:table-row;\"><div style=\"display:table-cell;padding-right:2px; padding-left:2px;\" align=\"center\"><div style=\"display:inline-block;\"><span>$[\\![\\text{\\textbf{[Alfonso]}}]\\!]^{}_{\\left\\langle{}s,e\\right\\rangle{}}$</span></div></div></div><div style=\"display:table-row;\"><div style=\"display:table-cell;padding-right:2px; padding-left:2px;\" align=\"center\"><div style=\"display:inline-block;\"><span>$\\lambda{} w_{s} \\: . \\: {Alfonso}_{e}$</span></div></div></div></div></div><div style=\"display: table-cell;\"></div></div></div></div><div style=\"display: table-cell; padding-left:4em;\"></div><div style=\"vertical-align:bottom;display:table-cell;padding-left:5px;padding-right:5px;padding-top:5px;padding-bottom:5px;\"><div align=\"center\" style=\"display:block;padding-left:5px;padding-right:5px;padding-top:5px;padding-bottom:5px;\"><div style=\"display:table;table-layout:auto;\" align=\"center\"><div style=\"display:table-row;\"><div style=\"display:table-cell;padding-right:2px; padding-left:2px;\" align=\"center\"><div style=\"display:inline-block;\"><span>$[\\![\\text{\\textbf{cat}}]\\!]^{}_{\\left\\langle{}s,\\left\\langle{}e,t\\right\\rangle{}\\right\\rangle{}}$</span></div></div></div><div style=\"display:table-row;\"><div style=\"display:table-cell;padding-right:2px; padding-left:2px;\" align=\"center\"><div style=\"display:inline-block;\"><span>$\\lambda{} w_{s} \\: . \\: \\lambda{} x_{e} \\: . \\: {Cat}({w}, {x})$</span></div></div></div></div></div></div></div></div><div style=\"display:table-cell;\"></div></div><div style=\"display:table-row;\"><div style=\"display: table-cell;\"></div><div style=\"display:table-cell;vertical-align:middle;\"><div style=\"vertical-align:middle;height:0px;overflow:visible\"><div style=\"color:blue;transform: translateY(-1em); padding-left:0.5em;\"><b>[<span>LiftedFA</span>]</b></div></div></div></div><div align=\"center\" style=\"display:table-row;padding-left:5px;padding-right:5px;padding-top:5px;padding-bottom:5px;\"><div align=\"center\" style=\"display:block;padding-left:5px;padding-right:5px;padding-top:5px;padding-bottom:5px;\"><div style=\"display:table;table-layout:auto;\" align=\"center\"><div style=\"display:table-row;\"><div style=\"display:table-cell;padding-right:2px; padding-left:2px;\" align=\"center\"><div style=\"display:inline-block;\"><span>$[\\![\\text{\\textbf{[[Alfonso] cat]}}]\\!]^{}_{\\left\\langle{}s,t\\right\\rangle{}}$</span></div></div></div><div style=\"display:table-row;\"><div style=\"display:table-cell;padding-right:2px; padding-left:2px;\" align=\"center\"><div style=\"display:inline-block;\"><span>$\\lambda{} w_{s} \\: . \\: {Cat}({w}, {Alfonso}_{e})$</span></div></div></div></div></div><div style=\"display: table-cell;\"></div></div></div><br /><br />"
      ],
      "text/plain": [
       "1 composition path:<br /><div align=\"center\" style=\"display:table;\"><div align=\"center\" style=\"display:table-row;\"><div style=\"display:table-cell;table-layout:auto;vertical-align:bottom;border-bottom:1px solid #848482;\"><div style=\"display: table;\"><div style=\"vertical-align:bottom;display:table-cell;padding-left:5px;padding-right:5px;padding-top:5px;padding-bottom:5px;\"><div align=\"center\" style=\"display:table;\"><div align=\"center\" style=\"display:table-row;\"><div style=\"display:table-cell;table-layout:auto;vertical-align:bottom;border-bottom:1px solid #848482;\"><div style=\"display: table;\"><div style=\"vertical-align:bottom;display:table-cell;padding-left:5px;padding-right:5px;padding-top:5px;padding-bottom:5px;\"><div align=\"center\" style=\"display:block;padding-left:5px;padding-right:5px;padding-top:5px;padding-bottom:5px;\"><div style=\"display:table;table-layout:auto;\" align=\"center\"><div style=\"display:table-row;\"><div style=\"display:table-cell;padding-right:2px; padding-left:2px;\" align=\"center\"><div style=\"display:inline-block;\"><span>$[\\![\\text{\\textbf{Alfonso}}]\\!]^{}_{e}$</span></div></div></div><div style=\"display:table-row;\"><div style=\"display:table-cell;padding-right:2px; padding-left:2px;\" align=\"center\"><div style=\"display:inline-block;\"><span>${Alfonso}_{e}$</span></div></div></div></div></div></div></div></div><div style=\"display:table-cell;\"></div></div><div style=\"display:table-row;\"><div style=\"display: table-cell;\"></div><div style=\"display:table-cell;vertical-align:middle;\"><div style=\"vertical-align:middle;height:0px;overflow:visible\"><div style=\"color:blue;transform: translateY(-1em); padding-left:0.5em;\"><b>[<span>Unit</span>]</b></div></div></div></div><div align=\"center\" style=\"display:table-row;padding-left:5px;padding-right:5px;padding-top:5px;padding-bottom:5px;\"><div align=\"center\" style=\"display:block;padding-left:5px;padding-right:5px;padding-top:5px;padding-bottom:5px;\"><div style=\"display:table;table-layout:auto;\" align=\"center\"><div style=\"display:table-row;\"><div style=\"display:table-cell;padding-right:2px; padding-left:2px;\" align=\"center\"><div style=\"display:inline-block;\"><span>$[\\![\\text{\\textbf{[Alfonso]}}]\\!]^{}_{\\left\\langle{}s,e\\right\\rangle{}}$</span></div></div></div><div style=\"display:table-row;\"><div style=\"display:table-cell;padding-right:2px; padding-left:2px;\" align=\"center\"><div style=\"display:inline-block;\"><span>$\\lambda{} w_{s} \\: . \\: {Alfonso}_{e}$</span></div></div></div></div></div><div style=\"display: table-cell;\"></div></div></div></div><div style=\"display: table-cell; padding-left:4em;\"></div><div style=\"vertical-align:bottom;display:table-cell;padding-left:5px;padding-right:5px;padding-top:5px;padding-bottom:5px;\"><div align=\"center\" style=\"display:block;padding-left:5px;padding-right:5px;padding-top:5px;padding-bottom:5px;\"><div style=\"display:table;table-layout:auto;\" align=\"center\"><div style=\"display:table-row;\"><div style=\"display:table-cell;padding-right:2px; padding-left:2px;\" align=\"center\"><div style=\"display:inline-block;\"><span>$[\\![\\text{\\textbf{cat}}]\\!]^{}_{\\left\\langle{}s,\\left\\langle{}e,t\\right\\rangle{}\\right\\rangle{}}$</span></div></div></div><div style=\"display:table-row;\"><div style=\"display:table-cell;padding-right:2px; padding-left:2px;\" align=\"center\"><div style=\"display:inline-block;\"><span>$\\lambda{} w_{s} \\: . \\: \\lambda{} x_{e} \\: . \\: {Cat}({w}, {x})$</span></div></div></div></div></div></div></div></div><div style=\"display:table-cell;\"></div></div><div style=\"display:table-row;\"><div style=\"display: table-cell;\"></div><div style=\"display:table-cell;vertical-align:middle;\"><div style=\"vertical-align:middle;height:0px;overflow:visible\"><div style=\"color:blue;transform: translateY(-1em); padding-left:0.5em;\"><b>[<span>LiftedFA</span>]</b></div></div></div></div><div align=\"center\" style=\"display:table-row;padding-left:5px;padding-right:5px;padding-top:5px;padding-bottom:5px;\"><div align=\"center\" style=\"display:block;padding-left:5px;padding-right:5px;padding-top:5px;padding-bottom:5px;\"><div style=\"display:table;table-layout:auto;\" align=\"center\"><div style=\"display:table-row;\"><div style=\"display:table-cell;padding-right:2px; padding-left:2px;\" align=\"center\"><div style=\"display:inline-block;\"><span>$[\\![\\text{\\textbf{[[Alfonso] cat]}}]\\!]^{}_{\\left\\langle{}s,t\\right\\rangle{}}$</span></div></div></div><div style=\"display:table-row;\"><div style=\"display:table-cell;padding-right:2px; padding-left:2px;\" align=\"center\"><div style=\"display:inline-block;\"><span>$\\lambda{} w_{s} \\: . \\: {Cat}({w}, {Alfonso}_{e})$</span></div></div></div></div></div><div style=\"display: table-cell;\"></div></div></div><br /><br />"
      ]
     },
     "execution_count": 399,
     "metadata": {},
     "output_type": "execute_result"
    }
   ],
   "source": [
    "(Alfonso * cat).tree()"
   ]
  },
  {
   "cell_type": "code",
   "execution_count": 414,
   "id": "983633fb-ccb2-4982-a554-c16a33a853da",
   "metadata": {},
   "outputs": [
    {
     "data": {
      "text/html": [
       "1 composition path:<br /><div align=\"center\" style=\"display:table;\"><div align=\"center\" style=\"display:table-row;\"><div style=\"display:table-cell;table-layout:auto;vertical-align:bottom;border-bottom:1px solid #848482;\"><div style=\"display: table;\"><div style=\"vertical-align:bottom;display:table-cell;padding-left:5px;padding-right:5px;padding-top:5px;padding-bottom:5px;\"><div align=\"center\" style=\"display:block;padding-left:5px;padding-right:5px;padding-top:5px;padding-bottom:5px;\"><div style=\"display:table;table-layout:auto;\" align=\"center\"><div style=\"display:table-row;\"><div style=\"display:table-cell;padding-right:2px; padding-left:2px;\" align=\"center\"><div style=\"display:inline-block;\"><span>$[\\![\\text{\\textbf{might}}]\\!]^{}_{\\left\\langle{}\\left\\langle{}s,t\\right\\rangle{},\\left\\langle{}s,t\\right\\rangle{}\\right\\rangle{}}$</span></div></div></div><div style=\"display:table-row;\"><div style=\"display:table-cell;padding-right:2px; padding-left:2px;\" align=\"center\"><div style=\"display:inline-block;\"><span>$\\lambda{} p_{\\left\\langle{}s,t\\right\\rangle{}} \\: . \\: \\lambda{} w_{s} \\: . \\: \\exists{} w2_{s} \\: . \\: ({w2} \\in{} {Epi}_{\\left\\langle{}s,\\left\\{s\\right\\}\\right\\rangle{}}({w})) \\wedge{} {p}({w2})$</span></div></div></div></div></div></div><div style=\"display: table-cell; padding-left:4em;\"></div><div style=\"vertical-align:bottom;display:table-cell;padding-left:5px;padding-right:5px;padding-top:5px;padding-bottom:5px;\"><div align=\"center\" style=\"display:table;\"><div align=\"center\" style=\"display:table-row;\"><div style=\"display:table-cell;table-layout:auto;vertical-align:bottom;border-bottom:1px solid #848482;\"><div style=\"display: table;\"><div style=\"vertical-align:bottom;display:table-cell;padding-left:5px;padding-right:5px;padding-top:5px;padding-bottom:5px;\"><div align=\"center\" style=\"display:table;\"><div align=\"center\" style=\"display:table-row;\"><div style=\"display:table-cell;table-layout:auto;vertical-align:bottom;border-bottom:1px solid #848482;\"><div style=\"display: table;\"><div style=\"vertical-align:bottom;display:table-cell;padding-left:5px;padding-right:5px;padding-top:5px;padding-bottom:5px;\"><div align=\"center\" style=\"display:block;padding-left:5px;padding-right:5px;padding-top:5px;padding-bottom:5px;\"><div style=\"display:table;table-layout:auto;\" align=\"center\"><div style=\"display:table-row;\"><div style=\"display:table-cell;padding-right:2px; padding-left:2px;\" align=\"center\"><div style=\"display:inline-block;\"><span>$[\\![\\text{\\textbf{Alfonso}}]\\!]^{}_{e}$</span></div></div></div><div style=\"display:table-row;\"><div style=\"display:table-cell;padding-right:2px; padding-left:2px;\" align=\"center\"><div style=\"display:inline-block;\"><span>${Alfonso}_{e}$</span></div></div></div></div></div></div></div></div><div style=\"display:table-cell;\"></div></div><div style=\"display:table-row;\"><div style=\"display: table-cell;\"></div><div style=\"display:table-cell;vertical-align:middle;\"><div style=\"vertical-align:middle;height:0px;overflow:visible\"><div style=\"color:blue;transform: translateY(-1em); padding-left:0.5em;\"><b>[<span>Unit</span>]</b></div></div></div></div><div align=\"center\" style=\"display:table-row;padding-left:5px;padding-right:5px;padding-top:5px;padding-bottom:5px;\"><div align=\"center\" style=\"display:block;padding-left:5px;padding-right:5px;padding-top:5px;padding-bottom:5px;\"><div style=\"display:table;table-layout:auto;\" align=\"center\"><div style=\"display:table-row;\"><div style=\"display:table-cell;padding-right:2px; padding-left:2px;\" align=\"center\"><div style=\"display:inline-block;\"><span>$[\\![\\text{\\textbf{[Alfonso]}}]\\!]^{}_{\\left\\langle{}s,e\\right\\rangle{}}$</span></div></div></div><div style=\"display:table-row;\"><div style=\"display:table-cell;padding-right:2px; padding-left:2px;\" align=\"center\"><div style=\"display:inline-block;\"><span>$\\lambda{} w_{s} \\: . \\: {Alfonso}_{e}$</span></div></div></div></div></div><div style=\"display: table-cell;\"></div></div></div></div><div style=\"display: table-cell; padding-left:4em;\"></div><div style=\"vertical-align:bottom;display:table-cell;padding-left:5px;padding-right:5px;padding-top:5px;padding-bottom:5px;\"><div align=\"center\" style=\"display:block;padding-left:5px;padding-right:5px;padding-top:5px;padding-bottom:5px;\"><div style=\"display:table;table-layout:auto;\" align=\"center\"><div style=\"display:table-row;\"><div style=\"display:table-cell;padding-right:2px; padding-left:2px;\" align=\"center\"><div style=\"display:inline-block;\"><span>$[\\![\\text{\\textbf{dance}}]\\!]^{}_{\\left\\langle{}s,\\left\\langle{}e,t\\right\\rangle{}\\right\\rangle{}}$</span></div></div></div><div style=\"display:table-row;\"><div style=\"display:table-cell;padding-right:2px; padding-left:2px;\" align=\"center\"><div style=\"display:inline-block;\"><span>$\\lambda{} w_{s} \\: . \\: \\lambda{} x_{e} \\: . \\: {Dance}({w}, {x})$</span></div></div></div></div></div></div></div></div><div style=\"display:table-cell;\"></div></div><div style=\"display:table-row;\"><div style=\"display: table-cell;\"></div><div style=\"display:table-cell;vertical-align:middle;\"><div style=\"vertical-align:middle;height:0px;overflow:visible\"><div style=\"color:blue;transform: translateY(-1em); padding-left:0.5em;\"><b>[<span>LiftedFA</span>]</b></div></div></div></div><div align=\"center\" style=\"display:table-row;padding-left:5px;padding-right:5px;padding-top:5px;padding-bottom:5px;\"><div align=\"center\" style=\"display:block;padding-left:5px;padding-right:5px;padding-top:5px;padding-bottom:5px;\"><div style=\"display:table;table-layout:auto;\" align=\"center\"><div style=\"display:table-row;\"><div style=\"display:table-cell;padding-right:2px; padding-left:2px;\" align=\"center\"><div style=\"display:inline-block;\"><span>$[\\![\\text{\\textbf{[[Alfonso] dance]}}]\\!]^{}_{\\left\\langle{}s,t\\right\\rangle{}}$</span></div></div></div><div style=\"display:table-row;\"><div style=\"display:table-cell;padding-right:2px; padding-left:2px;\" align=\"center\"><div style=\"display:inline-block;\"><span>$\\lambda{} w_{s} \\: . \\: {Dance}({w}, {Alfonso}_{e})$</span></div></div></div></div></div><div style=\"display: table-cell;\"></div></div></div></div></div></div><div style=\"display:table-cell;\"></div></div><div style=\"display:table-row;\"><div style=\"display: table-cell;\"></div><div style=\"display:table-cell;vertical-align:middle;\"><div style=\"vertical-align:middle;height:0px;overflow:visible\"><div style=\"color:blue;transform: translateY(-1em); padding-left:0.5em;\"><b>[<span>FA</span>]</b></div></div></div></div><div align=\"center\" style=\"display:table-row;padding-left:5px;padding-right:5px;padding-top:5px;padding-bottom:5px;\"><div align=\"center\" style=\"display:block;padding-left:5px;padding-right:5px;padding-top:5px;padding-bottom:5px;\"><div style=\"display:table;table-layout:auto;\" align=\"center\"><div style=\"display:table-row;\"><div style=\"display:table-cell;padding-right:2px; padding-left:2px;\" align=\"center\"><div style=\"display:inline-block;\"><span>$[\\![\\text{\\textbf{[might [[Alfonso] dance]]}}]\\!]^{}_{\\left\\langle{}s,t\\right\\rangle{}}$</span></div></div></div><div style=\"display:table-row;\"><div style=\"display:table-cell;padding-right:2px; padding-left:2px;\" align=\"center\"><div style=\"display:inline-block;\"><span>$\\lambda{} w_{s} \\: . \\: \\exists{} w2_{s} \\: . \\: ({w2} \\in{} {Epi}_{\\left\\langle{}s,\\left\\{s\\right\\}\\right\\rangle{}}({w})) \\wedge{} {Dance}({w2}, {Alfonso}_{e})$</span></div></div></div></div></div><div style=\"display: table-cell;\"></div></div></div><br /><br />"
      ],
      "text/plain": [
       "1 composition path:<br /><div align=\"center\" style=\"display:table;\"><div align=\"center\" style=\"display:table-row;\"><div style=\"display:table-cell;table-layout:auto;vertical-align:bottom;border-bottom:1px solid #848482;\"><div style=\"display: table;\"><div style=\"vertical-align:bottom;display:table-cell;padding-left:5px;padding-right:5px;padding-top:5px;padding-bottom:5px;\"><div align=\"center\" style=\"display:block;padding-left:5px;padding-right:5px;padding-top:5px;padding-bottom:5px;\"><div style=\"display:table;table-layout:auto;\" align=\"center\"><div style=\"display:table-row;\"><div style=\"display:table-cell;padding-right:2px; padding-left:2px;\" align=\"center\"><div style=\"display:inline-block;\"><span>$[\\![\\text{\\textbf{might}}]\\!]^{}_{\\left\\langle{}\\left\\langle{}s,t\\right\\rangle{},\\left\\langle{}s,t\\right\\rangle{}\\right\\rangle{}}$</span></div></div></div><div style=\"display:table-row;\"><div style=\"display:table-cell;padding-right:2px; padding-left:2px;\" align=\"center\"><div style=\"display:inline-block;\"><span>$\\lambda{} p_{\\left\\langle{}s,t\\right\\rangle{}} \\: . \\: \\lambda{} w_{s} \\: . \\: \\exists{} w2_{s} \\: . \\: ({w2} \\in{} {Epi}_{\\left\\langle{}s,\\left\\{s\\right\\}\\right\\rangle{}}({w})) \\wedge{} {p}({w2})$</span></div></div></div></div></div></div><div style=\"display: table-cell; padding-left:4em;\"></div><div style=\"vertical-align:bottom;display:table-cell;padding-left:5px;padding-right:5px;padding-top:5px;padding-bottom:5px;\"><div align=\"center\" style=\"display:table;\"><div align=\"center\" style=\"display:table-row;\"><div style=\"display:table-cell;table-layout:auto;vertical-align:bottom;border-bottom:1px solid #848482;\"><div style=\"display: table;\"><div style=\"vertical-align:bottom;display:table-cell;padding-left:5px;padding-right:5px;padding-top:5px;padding-bottom:5px;\"><div align=\"center\" style=\"display:table;\"><div align=\"center\" style=\"display:table-row;\"><div style=\"display:table-cell;table-layout:auto;vertical-align:bottom;border-bottom:1px solid #848482;\"><div style=\"display: table;\"><div style=\"vertical-align:bottom;display:table-cell;padding-left:5px;padding-right:5px;padding-top:5px;padding-bottom:5px;\"><div align=\"center\" style=\"display:block;padding-left:5px;padding-right:5px;padding-top:5px;padding-bottom:5px;\"><div style=\"display:table;table-layout:auto;\" align=\"center\"><div style=\"display:table-row;\"><div style=\"display:table-cell;padding-right:2px; padding-left:2px;\" align=\"center\"><div style=\"display:inline-block;\"><span>$[\\![\\text{\\textbf{Alfonso}}]\\!]^{}_{e}$</span></div></div></div><div style=\"display:table-row;\"><div style=\"display:table-cell;padding-right:2px; padding-left:2px;\" align=\"center\"><div style=\"display:inline-block;\"><span>${Alfonso}_{e}$</span></div></div></div></div></div></div></div></div><div style=\"display:table-cell;\"></div></div><div style=\"display:table-row;\"><div style=\"display: table-cell;\"></div><div style=\"display:table-cell;vertical-align:middle;\"><div style=\"vertical-align:middle;height:0px;overflow:visible\"><div style=\"color:blue;transform: translateY(-1em); padding-left:0.5em;\"><b>[<span>Unit</span>]</b></div></div></div></div><div align=\"center\" style=\"display:table-row;padding-left:5px;padding-right:5px;padding-top:5px;padding-bottom:5px;\"><div align=\"center\" style=\"display:block;padding-left:5px;padding-right:5px;padding-top:5px;padding-bottom:5px;\"><div style=\"display:table;table-layout:auto;\" align=\"center\"><div style=\"display:table-row;\"><div style=\"display:table-cell;padding-right:2px; padding-left:2px;\" align=\"center\"><div style=\"display:inline-block;\"><span>$[\\![\\text{\\textbf{[Alfonso]}}]\\!]^{}_{\\left\\langle{}s,e\\right\\rangle{}}$</span></div></div></div><div style=\"display:table-row;\"><div style=\"display:table-cell;padding-right:2px; padding-left:2px;\" align=\"center\"><div style=\"display:inline-block;\"><span>$\\lambda{} w_{s} \\: . \\: {Alfonso}_{e}$</span></div></div></div></div></div><div style=\"display: table-cell;\"></div></div></div></div><div style=\"display: table-cell; padding-left:4em;\"></div><div style=\"vertical-align:bottom;display:table-cell;padding-left:5px;padding-right:5px;padding-top:5px;padding-bottom:5px;\"><div align=\"center\" style=\"display:block;padding-left:5px;padding-right:5px;padding-top:5px;padding-bottom:5px;\"><div style=\"display:table;table-layout:auto;\" align=\"center\"><div style=\"display:table-row;\"><div style=\"display:table-cell;padding-right:2px; padding-left:2px;\" align=\"center\"><div style=\"display:inline-block;\"><span>$[\\![\\text{\\textbf{dance}}]\\!]^{}_{\\left\\langle{}s,\\left\\langle{}e,t\\right\\rangle{}\\right\\rangle{}}$</span></div></div></div><div style=\"display:table-row;\"><div style=\"display:table-cell;padding-right:2px; padding-left:2px;\" align=\"center\"><div style=\"display:inline-block;\"><span>$\\lambda{} w_{s} \\: . \\: \\lambda{} x_{e} \\: . \\: {Dance}({w}, {x})$</span></div></div></div></div></div></div></div></div><div style=\"display:table-cell;\"></div></div><div style=\"display:table-row;\"><div style=\"display: table-cell;\"></div><div style=\"display:table-cell;vertical-align:middle;\"><div style=\"vertical-align:middle;height:0px;overflow:visible\"><div style=\"color:blue;transform: translateY(-1em); padding-left:0.5em;\"><b>[<span>LiftedFA</span>]</b></div></div></div></div><div align=\"center\" style=\"display:table-row;padding-left:5px;padding-right:5px;padding-top:5px;padding-bottom:5px;\"><div align=\"center\" style=\"display:block;padding-left:5px;padding-right:5px;padding-top:5px;padding-bottom:5px;\"><div style=\"display:table;table-layout:auto;\" align=\"center\"><div style=\"display:table-row;\"><div style=\"display:table-cell;padding-right:2px; padding-left:2px;\" align=\"center\"><div style=\"display:inline-block;\"><span>$[\\![\\text{\\textbf{[[Alfonso] dance]}}]\\!]^{}_{\\left\\langle{}s,t\\right\\rangle{}}$</span></div></div></div><div style=\"display:table-row;\"><div style=\"display:table-cell;padding-right:2px; padding-left:2px;\" align=\"center\"><div style=\"display:inline-block;\"><span>$\\lambda{} w_{s} \\: . \\: {Dance}({w}, {Alfonso}_{e})$</span></div></div></div></div></div><div style=\"display: table-cell;\"></div></div></div></div></div></div><div style=\"display:table-cell;\"></div></div><div style=\"display:table-row;\"><div style=\"display: table-cell;\"></div><div style=\"display:table-cell;vertical-align:middle;\"><div style=\"vertical-align:middle;height:0px;overflow:visible\"><div style=\"color:blue;transform: translateY(-1em); padding-left:0.5em;\"><b>[<span>FA</span>]</b></div></div></div></div><div align=\"center\" style=\"display:table-row;padding-left:5px;padding-right:5px;padding-top:5px;padding-bottom:5px;\"><div align=\"center\" style=\"display:block;padding-left:5px;padding-right:5px;padding-top:5px;padding-bottom:5px;\"><div style=\"display:table;table-layout:auto;\" align=\"center\"><div style=\"display:table-row;\"><div style=\"display:table-cell;padding-right:2px; padding-left:2px;\" align=\"center\"><div style=\"display:inline-block;\"><span>$[\\![\\text{\\textbf{[might [[Alfonso] dance]]}}]\\!]^{}_{\\left\\langle{}s,t\\right\\rangle{}}$</span></div></div></div><div style=\"display:table-row;\"><div style=\"display:table-cell;padding-right:2px; padding-left:2px;\" align=\"center\"><div style=\"display:inline-block;\"><span>$\\lambda{} w_{s} \\: . \\: \\exists{} w2_{s} \\: . \\: ({w2} \\in{} {Epi}_{\\left\\langle{}s,\\left\\{s\\right\\}\\right\\rangle{}}({w})) \\wedge{} {Dance}({w2}, {Alfonso}_{e})$</span></div></div></div></div></div><div style=\"display: table-cell;\"></div></div></div><br /><br />"
      ]
     },
     "execution_count": 414,
     "metadata": {},
     "output_type": "execute_result"
    }
   ],
   "source": [
    "(might * (Alfonso * dance)).tree()"
   ]
  },
  {
   "cell_type": "code",
   "execution_count": 400,
   "id": "20428d0e-12f6-49a3-8629-6583c4f73ff7",
   "metadata": {},
   "outputs": [
    {
     "data": {
      "text/html": [
       "1 composition path:<br /><div align=\"center\" style=\"display:table;\"><div align=\"center\" style=\"display:table-row;\"><div style=\"display:table-cell;table-layout:auto;vertical-align:bottom;border-bottom:1px solid #848482;\"><div style=\"display: table;\"><div style=\"vertical-align:bottom;display:table-cell;padding-left:5px;padding-right:5px;padding-top:5px;padding-bottom:5px;\"><div align=\"center\" style=\"display:table;\"><div align=\"center\" style=\"display:table-row;\"><div style=\"display:table-cell;table-layout:auto;vertical-align:bottom;border-bottom:1px solid #848482;\"><div style=\"display: table;\"><div style=\"vertical-align:bottom;display:table-cell;padding-left:5px;padding-right:5px;padding-top:5px;padding-bottom:5px;\"><div align=\"center\" style=\"display:block;padding-left:5px;padding-right:5px;padding-top:5px;padding-bottom:5px;\"><div style=\"display:table;table-layout:auto;\" align=\"center\"><div style=\"display:table-row;\"><div style=\"display:table-cell;padding-right:2px; padding-left:2px;\" align=\"center\"><div style=\"display:inline-block;\"><span>$[\\![\\text{\\textbf{and\\_}}]\\!]^{}_{\\left\\langle{}t,\\left\\langle{}t,t\\right\\rangle{}\\right\\rangle{}}$</span></div></div></div><div style=\"display:table-row;\"><div style=\"display:table-cell;padding-right:2px; padding-left:2px;\" align=\"center\"><div style=\"display:inline-block;\"><span>$\\lambda{} p_{t} \\: . \\: \\lambda{} q_{t} \\: . \\: {p} \\wedge{} {q}$</span></div></div></div></div></div></div></div></div><div style=\"display:table-cell;\"></div></div><div style=\"display:table-row;\"><div style=\"display: table-cell;\"></div><div style=\"display:table-cell;vertical-align:middle;\"><div style=\"vertical-align:middle;height:0px;overflow:visible\"><div style=\"color:blue;transform: translateY(-1em); padding-left:0.5em;\"><b>[<span>Unit</span>]</b></div></div></div></div><div align=\"center\" style=\"display:table-row;padding-left:5px;padding-right:5px;padding-top:5px;padding-bottom:5px;\"><div align=\"center\" style=\"display:block;padding-left:5px;padding-right:5px;padding-top:5px;padding-bottom:5px;\"><div style=\"display:table;table-layout:auto;\" align=\"center\"><div style=\"display:table-row;\"><div style=\"display:table-cell;padding-right:2px; padding-left:2px;\" align=\"center\"><div style=\"display:inline-block;\"><span>$[\\![\\text{\\textbf{[and\\_]}}]\\!]^{}_{\\left\\langle{}s,\\left\\langle{}t,\\left\\langle{}t,t\\right\\rangle{}\\right\\rangle{}\\right\\rangle{}}$</span></div></div></div><div style=\"display:table-row;\"><div style=\"display:table-cell;padding-right:2px; padding-left:2px;\" align=\"center\"><div style=\"display:inline-block;\"><span>$\\lambda{} w_{s} \\: . \\: \\lambda{} p_{t} \\: . \\: \\lambda{} q_{t} \\: . \\: {p} \\wedge{} {q}$</span></div></div></div></div></div><div style=\"display: table-cell;\"></div></div></div></div><div style=\"display: table-cell; padding-left:4em;\"></div><div style=\"vertical-align:bottom;display:table-cell;padding-left:5px;padding-right:5px;padding-top:5px;padding-bottom:5px;\"><div align=\"center\" style=\"display:table;\"><div align=\"center\" style=\"display:table-row;\"><div style=\"display:table-cell;table-layout:auto;vertical-align:bottom;border-bottom:1px solid #848482;\"><div style=\"display: table;\"><div style=\"vertical-align:bottom;display:table-cell;padding-left:5px;padding-right:5px;padding-top:5px;padding-bottom:5px;\"><div align=\"center\" style=\"display:table;\"><div align=\"center\" style=\"display:table-row;\"><div style=\"display:table-cell;table-layout:auto;vertical-align:bottom;border-bottom:1px solid #848482;\"><div style=\"display: table;\"><div style=\"vertical-align:bottom;display:table-cell;padding-left:5px;padding-right:5px;padding-top:5px;padding-bottom:5px;\"><div align=\"center\" style=\"display:block;padding-left:5px;padding-right:5px;padding-top:5px;padding-bottom:5px;\"><div style=\"display:table;table-layout:auto;\" align=\"center\"><div style=\"display:table-row;\"><div style=\"display:table-cell;padding-right:2px; padding-left:2px;\" align=\"center\"><div style=\"display:inline-block;\"><span>$[\\![\\text{\\textbf{Alfonso}}]\\!]^{}_{e}$</span></div></div></div><div style=\"display:table-row;\"><div style=\"display:table-cell;padding-right:2px; padding-left:2px;\" align=\"center\"><div style=\"display:inline-block;\"><span>${Alfonso}_{e}$</span></div></div></div></div></div></div></div></div><div style=\"display:table-cell;\"></div></div><div style=\"display:table-row;\"><div style=\"display: table-cell;\"></div><div style=\"display:table-cell;vertical-align:middle;\"><div style=\"vertical-align:middle;height:0px;overflow:visible\"><div style=\"color:blue;transform: translateY(-1em); padding-left:0.5em;\"><b>[<span>Unit</span>]</b></div></div></div></div><div align=\"center\" style=\"display:table-row;padding-left:5px;padding-right:5px;padding-top:5px;padding-bottom:5px;\"><div align=\"center\" style=\"display:block;padding-left:5px;padding-right:5px;padding-top:5px;padding-bottom:5px;\"><div style=\"display:table;table-layout:auto;\" align=\"center\"><div style=\"display:table-row;\"><div style=\"display:table-cell;padding-right:2px; padding-left:2px;\" align=\"center\"><div style=\"display:inline-block;\"><span>$[\\![\\text{\\textbf{[Alfonso]}}]\\!]^{}_{\\left\\langle{}s,e\\right\\rangle{}}$</span></div></div></div><div style=\"display:table-row;\"><div style=\"display:table-cell;padding-right:2px; padding-left:2px;\" align=\"center\"><div style=\"display:inline-block;\"><span>$\\lambda{} w_{s} \\: . \\: {Alfonso}_{e}$</span></div></div></div></div></div><div style=\"display: table-cell;\"></div></div></div></div><div style=\"display: table-cell; padding-left:4em;\"></div><div style=\"vertical-align:bottom;display:table-cell;padding-left:5px;padding-right:5px;padding-top:5px;padding-bottom:5px;\"><div align=\"center\" style=\"display:block;padding-left:5px;padding-right:5px;padding-top:5px;padding-bottom:5px;\"><div style=\"display:table;table-layout:auto;\" align=\"center\"><div style=\"display:table-row;\"><div style=\"display:table-cell;padding-right:2px; padding-left:2px;\" align=\"center\"><div style=\"display:inline-block;\"><span>$[\\![\\text{\\textbf{cat}}]\\!]^{}_{\\left\\langle{}s,\\left\\langle{}e,t\\right\\rangle{}\\right\\rangle{}}$</span></div></div></div><div style=\"display:table-row;\"><div style=\"display:table-cell;padding-right:2px; padding-left:2px;\" align=\"center\"><div style=\"display:inline-block;\"><span>$\\lambda{} w_{s} \\: . \\: \\lambda{} x_{e} \\: . \\: {Cat}({w}, {x})$</span></div></div></div></div></div></div></div></div><div style=\"display:table-cell;\"></div></div><div style=\"display:table-row;\"><div style=\"display: table-cell;\"></div><div style=\"display:table-cell;vertical-align:middle;\"><div style=\"vertical-align:middle;height:0px;overflow:visible\"><div style=\"color:blue;transform: translateY(-1em); padding-left:0.5em;\"><b>[<span>LiftedFA</span>]</b></div></div></div></div><div align=\"center\" style=\"display:table-row;padding-left:5px;padding-right:5px;padding-top:5px;padding-bottom:5px;\"><div align=\"center\" style=\"display:block;padding-left:5px;padding-right:5px;padding-top:5px;padding-bottom:5px;\"><div style=\"display:table;table-layout:auto;\" align=\"center\"><div style=\"display:table-row;\"><div style=\"display:table-cell;padding-right:2px; padding-left:2px;\" align=\"center\"><div style=\"display:inline-block;\"><span>$[\\![\\text{\\textbf{[[Alfonso] cat]}}]\\!]^{}_{\\left\\langle{}s,t\\right\\rangle{}}$</span></div></div></div><div style=\"display:table-row;\"><div style=\"display:table-cell;padding-right:2px; padding-left:2px;\" align=\"center\"><div style=\"display:inline-block;\"><span>$\\lambda{} w_{s} \\: . \\: {Cat}({w}, {Alfonso}_{e})$</span></div></div></div></div></div><div style=\"display: table-cell;\"></div></div></div></div></div></div><div style=\"display:table-cell;\"></div></div><div style=\"display:table-row;\"><div style=\"display: table-cell;\"></div><div style=\"display:table-cell;vertical-align:middle;\"><div style=\"vertical-align:middle;height:0px;overflow:visible\"><div style=\"color:blue;transform: translateY(-1em); padding-left:0.5em;\"><b>[<span>LiftedFA</span>]</b></div></div></div></div><div align=\"center\" style=\"display:table-row;padding-left:5px;padding-right:5px;padding-top:5px;padding-bottom:5px;\"><div align=\"center\" style=\"display:block;padding-left:5px;padding-right:5px;padding-top:5px;padding-bottom:5px;\"><div style=\"display:table;table-layout:auto;\" align=\"center\"><div style=\"display:table-row;\"><div style=\"display:table-cell;padding-right:2px; padding-left:2px;\" align=\"center\"><div style=\"display:inline-block;\"><span>$[\\![\\text{\\textbf{[[and\\_] [[Alfonso] cat]]}}]\\!]^{}_{\\left\\langle{}s,\\left\\langle{}t,t\\right\\rangle{}\\right\\rangle{}}$</span></div></div></div><div style=\"display:table-row;\"><div style=\"display:table-cell;padding-right:2px; padding-left:2px;\" align=\"center\"><div style=\"display:inline-block;\"><span>$\\lambda{} w_{s} \\: . \\: \\lambda{} q_{t} \\: . \\: {q} \\wedge{} {Cat}({w}, {Alfonso}_{e})$</span></div></div></div></div></div><div style=\"display: table-cell;\"></div></div></div><br /><br />"
      ],
      "text/plain": [
       "1 composition path:<br /><div align=\"center\" style=\"display:table;\"><div align=\"center\" style=\"display:table-row;\"><div style=\"display:table-cell;table-layout:auto;vertical-align:bottom;border-bottom:1px solid #848482;\"><div style=\"display: table;\"><div style=\"vertical-align:bottom;display:table-cell;padding-left:5px;padding-right:5px;padding-top:5px;padding-bottom:5px;\"><div align=\"center\" style=\"display:table;\"><div align=\"center\" style=\"display:table-row;\"><div style=\"display:table-cell;table-layout:auto;vertical-align:bottom;border-bottom:1px solid #848482;\"><div style=\"display: table;\"><div style=\"vertical-align:bottom;display:table-cell;padding-left:5px;padding-right:5px;padding-top:5px;padding-bottom:5px;\"><div align=\"center\" style=\"display:block;padding-left:5px;padding-right:5px;padding-top:5px;padding-bottom:5px;\"><div style=\"display:table;table-layout:auto;\" align=\"center\"><div style=\"display:table-row;\"><div style=\"display:table-cell;padding-right:2px; padding-left:2px;\" align=\"center\"><div style=\"display:inline-block;\"><span>$[\\![\\text{\\textbf{and\\_}}]\\!]^{}_{\\left\\langle{}t,\\left\\langle{}t,t\\right\\rangle{}\\right\\rangle{}}$</span></div></div></div><div style=\"display:table-row;\"><div style=\"display:table-cell;padding-right:2px; padding-left:2px;\" align=\"center\"><div style=\"display:inline-block;\"><span>$\\lambda{} p_{t} \\: . \\: \\lambda{} q_{t} \\: . \\: {p} \\wedge{} {q}$</span></div></div></div></div></div></div></div></div><div style=\"display:table-cell;\"></div></div><div style=\"display:table-row;\"><div style=\"display: table-cell;\"></div><div style=\"display:table-cell;vertical-align:middle;\"><div style=\"vertical-align:middle;height:0px;overflow:visible\"><div style=\"color:blue;transform: translateY(-1em); padding-left:0.5em;\"><b>[<span>Unit</span>]</b></div></div></div></div><div align=\"center\" style=\"display:table-row;padding-left:5px;padding-right:5px;padding-top:5px;padding-bottom:5px;\"><div align=\"center\" style=\"display:block;padding-left:5px;padding-right:5px;padding-top:5px;padding-bottom:5px;\"><div style=\"display:table;table-layout:auto;\" align=\"center\"><div style=\"display:table-row;\"><div style=\"display:table-cell;padding-right:2px; padding-left:2px;\" align=\"center\"><div style=\"display:inline-block;\"><span>$[\\![\\text{\\textbf{[and\\_]}}]\\!]^{}_{\\left\\langle{}s,\\left\\langle{}t,\\left\\langle{}t,t\\right\\rangle{}\\right\\rangle{}\\right\\rangle{}}$</span></div></div></div><div style=\"display:table-row;\"><div style=\"display:table-cell;padding-right:2px; padding-left:2px;\" align=\"center\"><div style=\"display:inline-block;\"><span>$\\lambda{} w_{s} \\: . \\: \\lambda{} p_{t} \\: . \\: \\lambda{} q_{t} \\: . \\: {p} \\wedge{} {q}$</span></div></div></div></div></div><div style=\"display: table-cell;\"></div></div></div></div><div style=\"display: table-cell; padding-left:4em;\"></div><div style=\"vertical-align:bottom;display:table-cell;padding-left:5px;padding-right:5px;padding-top:5px;padding-bottom:5px;\"><div align=\"center\" style=\"display:table;\"><div align=\"center\" style=\"display:table-row;\"><div style=\"display:table-cell;table-layout:auto;vertical-align:bottom;border-bottom:1px solid #848482;\"><div style=\"display: table;\"><div style=\"vertical-align:bottom;display:table-cell;padding-left:5px;padding-right:5px;padding-top:5px;padding-bottom:5px;\"><div align=\"center\" style=\"display:table;\"><div align=\"center\" style=\"display:table-row;\"><div style=\"display:table-cell;table-layout:auto;vertical-align:bottom;border-bottom:1px solid #848482;\"><div style=\"display: table;\"><div style=\"vertical-align:bottom;display:table-cell;padding-left:5px;padding-right:5px;padding-top:5px;padding-bottom:5px;\"><div align=\"center\" style=\"display:block;padding-left:5px;padding-right:5px;padding-top:5px;padding-bottom:5px;\"><div style=\"display:table;table-layout:auto;\" align=\"center\"><div style=\"display:table-row;\"><div style=\"display:table-cell;padding-right:2px; padding-left:2px;\" align=\"center\"><div style=\"display:inline-block;\"><span>$[\\![\\text{\\textbf{Alfonso}}]\\!]^{}_{e}$</span></div></div></div><div style=\"display:table-row;\"><div style=\"display:table-cell;padding-right:2px; padding-left:2px;\" align=\"center\"><div style=\"display:inline-block;\"><span>${Alfonso}_{e}$</span></div></div></div></div></div></div></div></div><div style=\"display:table-cell;\"></div></div><div style=\"display:table-row;\"><div style=\"display: table-cell;\"></div><div style=\"display:table-cell;vertical-align:middle;\"><div style=\"vertical-align:middle;height:0px;overflow:visible\"><div style=\"color:blue;transform: translateY(-1em); padding-left:0.5em;\"><b>[<span>Unit</span>]</b></div></div></div></div><div align=\"center\" style=\"display:table-row;padding-left:5px;padding-right:5px;padding-top:5px;padding-bottom:5px;\"><div align=\"center\" style=\"display:block;padding-left:5px;padding-right:5px;padding-top:5px;padding-bottom:5px;\"><div style=\"display:table;table-layout:auto;\" align=\"center\"><div style=\"display:table-row;\"><div style=\"display:table-cell;padding-right:2px; padding-left:2px;\" align=\"center\"><div style=\"display:inline-block;\"><span>$[\\![\\text{\\textbf{[Alfonso]}}]\\!]^{}_{\\left\\langle{}s,e\\right\\rangle{}}$</span></div></div></div><div style=\"display:table-row;\"><div style=\"display:table-cell;padding-right:2px; padding-left:2px;\" align=\"center\"><div style=\"display:inline-block;\"><span>$\\lambda{} w_{s} \\: . \\: {Alfonso}_{e}$</span></div></div></div></div></div><div style=\"display: table-cell;\"></div></div></div></div><div style=\"display: table-cell; padding-left:4em;\"></div><div style=\"vertical-align:bottom;display:table-cell;padding-left:5px;padding-right:5px;padding-top:5px;padding-bottom:5px;\"><div align=\"center\" style=\"display:block;padding-left:5px;padding-right:5px;padding-top:5px;padding-bottom:5px;\"><div style=\"display:table;table-layout:auto;\" align=\"center\"><div style=\"display:table-row;\"><div style=\"display:table-cell;padding-right:2px; padding-left:2px;\" align=\"center\"><div style=\"display:inline-block;\"><span>$[\\![\\text{\\textbf{cat}}]\\!]^{}_{\\left\\langle{}s,\\left\\langle{}e,t\\right\\rangle{}\\right\\rangle{}}$</span></div></div></div><div style=\"display:table-row;\"><div style=\"display:table-cell;padding-right:2px; padding-left:2px;\" align=\"center\"><div style=\"display:inline-block;\"><span>$\\lambda{} w_{s} \\: . \\: \\lambda{} x_{e} \\: . \\: {Cat}({w}, {x})$</span></div></div></div></div></div></div></div></div><div style=\"display:table-cell;\"></div></div><div style=\"display:table-row;\"><div style=\"display: table-cell;\"></div><div style=\"display:table-cell;vertical-align:middle;\"><div style=\"vertical-align:middle;height:0px;overflow:visible\"><div style=\"color:blue;transform: translateY(-1em); padding-left:0.5em;\"><b>[<span>LiftedFA</span>]</b></div></div></div></div><div align=\"center\" style=\"display:table-row;padding-left:5px;padding-right:5px;padding-top:5px;padding-bottom:5px;\"><div align=\"center\" style=\"display:block;padding-left:5px;padding-right:5px;padding-top:5px;padding-bottom:5px;\"><div style=\"display:table;table-layout:auto;\" align=\"center\"><div style=\"display:table-row;\"><div style=\"display:table-cell;padding-right:2px; padding-left:2px;\" align=\"center\"><div style=\"display:inline-block;\"><span>$[\\![\\text{\\textbf{[[Alfonso] cat]}}]\\!]^{}_{\\left\\langle{}s,t\\right\\rangle{}}$</span></div></div></div><div style=\"display:table-row;\"><div style=\"display:table-cell;padding-right:2px; padding-left:2px;\" align=\"center\"><div style=\"display:inline-block;\"><span>$\\lambda{} w_{s} \\: . \\: {Cat}({w}, {Alfonso}_{e})$</span></div></div></div></div></div><div style=\"display: table-cell;\"></div></div></div></div></div></div><div style=\"display:table-cell;\"></div></div><div style=\"display:table-row;\"><div style=\"display: table-cell;\"></div><div style=\"display:table-cell;vertical-align:middle;\"><div style=\"vertical-align:middle;height:0px;overflow:visible\"><div style=\"color:blue;transform: translateY(-1em); padding-left:0.5em;\"><b>[<span>LiftedFA</span>]</b></div></div></div></div><div align=\"center\" style=\"display:table-row;padding-left:5px;padding-right:5px;padding-top:5px;padding-bottom:5px;\"><div align=\"center\" style=\"display:block;padding-left:5px;padding-right:5px;padding-top:5px;padding-bottom:5px;\"><div style=\"display:table;table-layout:auto;\" align=\"center\"><div style=\"display:table-row;\"><div style=\"display:table-cell;padding-right:2px; padding-left:2px;\" align=\"center\"><div style=\"display:inline-block;\"><span>$[\\![\\text{\\textbf{[[and\\_] [[Alfonso] cat]]}}]\\!]^{}_{\\left\\langle{}s,\\left\\langle{}t,t\\right\\rangle{}\\right\\rangle{}}$</span></div></div></div><div style=\"display:table-row;\"><div style=\"display:table-cell;padding-right:2px; padding-left:2px;\" align=\"center\"><div style=\"display:inline-block;\"><span>$\\lambda{} w_{s} \\: . \\: \\lambda{} q_{t} \\: . \\: {q} \\wedge{} {Cat}({w}, {Alfonso}_{e})$</span></div></div></div></div></div><div style=\"display: table-cell;\"></div></div></div><br /><br />"
      ]
     },
     "execution_count": 400,
     "metadata": {},
     "output_type": "execute_result"
    }
   ],
   "source": [
    "(and_ * (Alfonso * cat)).tree()"
   ]
  },
  {
   "cell_type": "code",
   "execution_count": 422,
   "id": "d26af9c3-0fd2-406e-ab70-d1f301228ae6",
   "metadata": {},
   "outputs": [
    {
     "data": {
      "text/html": [
       "1 composition path:<br /><div align=\"center\" style=\"display:table;\"><div align=\"center\" style=\"display:table-row;\"><div style=\"display:table-cell;table-layout:auto;vertical-align:bottom;border-bottom:1px solid #848482;\"><div style=\"display: table;\"><div style=\"vertical-align:bottom;display:table-cell;padding-left:5px;padding-right:5px;padding-top:5px;padding-bottom:5px;\"><div align=\"center\" style=\"display:table;\"><div align=\"center\" style=\"display:table-row;\"><div style=\"display:table-cell;table-layout:auto;vertical-align:bottom;border-bottom:1px solid #848482;\"><div style=\"display: table;\"><div style=\"vertical-align:bottom;display:table-cell;padding-left:5px;padding-right:5px;padding-top:5px;padding-bottom:5px;\"><div align=\"center\" style=\"display:table;\"><div align=\"center\" style=\"display:table-row;\"><div style=\"display:table-cell;table-layout:auto;vertical-align:bottom;border-bottom:1px solid #848482;\"><div style=\"display: table;\"><div style=\"vertical-align:bottom;display:table-cell;padding-left:5px;padding-right:5px;padding-top:5px;padding-bottom:5px;\"><div align=\"center\" style=\"display:block;padding-left:5px;padding-right:5px;padding-top:5px;padding-bottom:5px;\"><div style=\"display:table;table-layout:auto;\" align=\"center\"><div style=\"display:table-row;\"><div style=\"display:table-cell;padding-right:2px; padding-left:2px;\" align=\"center\"><div style=\"display:inline-block;\"><span>$[\\![\\text{\\textbf{Alfonso}}]\\!]^{}_{e}$</span></div></div></div><div style=\"display:table-row;\"><div style=\"display:table-cell;padding-right:2px; padding-left:2px;\" align=\"center\"><div style=\"display:inline-block;\"><span>${Alfonso}_{e}$</span></div></div></div></div></div></div></div></div><div style=\"display:table-cell;\"></div></div><div style=\"display:table-row;\"><div style=\"display: table-cell;\"></div><div style=\"display:table-cell;vertical-align:middle;\"><div style=\"vertical-align:middle;height:0px;overflow:visible\"><div style=\"color:blue;transform: translateY(-1em); padding-left:0.5em;\"><b>[<span>Unit</span>]</b></div></div></div></div><div align=\"center\" style=\"display:table-row;padding-left:5px;padding-right:5px;padding-top:5px;padding-bottom:5px;\"><div align=\"center\" style=\"display:block;padding-left:5px;padding-right:5px;padding-top:5px;padding-bottom:5px;\"><div style=\"display:table;table-layout:auto;\" align=\"center\"><div style=\"display:table-row;\"><div style=\"display:table-cell;padding-right:2px; padding-left:2px;\" align=\"center\"><div style=\"display:inline-block;\"><span>$[\\![\\text{\\textbf{[Alfonso]}}]\\!]^{}_{\\left\\langle{}s,e\\right\\rangle{}}$</span></div></div></div><div style=\"display:table-row;\"><div style=\"display:table-cell;padding-right:2px; padding-left:2px;\" align=\"center\"><div style=\"display:inline-block;\"><span>$\\lambda{} w_{s} \\: . \\: {Alfonso}_{e}$</span></div></div></div></div></div><div style=\"display: table-cell;\"></div></div></div></div><div style=\"display: table-cell; padding-left:4em;\"></div><div style=\"vertical-align:bottom;display:table-cell;padding-left:5px;padding-right:5px;padding-top:5px;padding-bottom:5px;\"><div align=\"center\" style=\"display:block;padding-left:5px;padding-right:5px;padding-top:5px;padding-bottom:5px;\"><div style=\"display:table;table-layout:auto;\" align=\"center\"><div style=\"display:table-row;\"><div style=\"display:table-cell;padding-right:2px; padding-left:2px;\" align=\"center\"><div style=\"display:inline-block;\"><span>$[\\![\\text{\\textbf{cat}}]\\!]^{}_{\\left\\langle{}s,\\left\\langle{}e,t\\right\\rangle{}\\right\\rangle{}}$</span></div></div></div><div style=\"display:table-row;\"><div style=\"display:table-cell;padding-right:2px; padding-left:2px;\" align=\"center\"><div style=\"display:inline-block;\"><span>$\\lambda{} w_{s} \\: . \\: \\lambda{} x_{e} \\: . \\: {Cat}({w}, {x})$</span></div></div></div></div></div></div></div></div><div style=\"display:table-cell;\"></div></div><div style=\"display:table-row;\"><div style=\"display: table-cell;\"></div><div style=\"display:table-cell;vertical-align:middle;\"><div style=\"vertical-align:middle;height:0px;overflow:visible\"><div style=\"color:blue;transform: translateY(-1em); padding-left:0.5em;\"><b>[<span>LiftedFA</span>]</b></div></div></div></div><div align=\"center\" style=\"display:table-row;padding-left:5px;padding-right:5px;padding-top:5px;padding-bottom:5px;\"><div align=\"center\" style=\"display:block;padding-left:5px;padding-right:5px;padding-top:5px;padding-bottom:5px;\"><div style=\"display:table;table-layout:auto;\" align=\"center\"><div style=\"display:table-row;\"><div style=\"display:table-cell;padding-right:2px; padding-left:2px;\" align=\"center\"><div style=\"display:inline-block;\"><span>$[\\![\\text{\\textbf{[[Alfonso] cat]}}]\\!]^{}_{\\left\\langle{}s,t\\right\\rangle{}}$</span></div></div></div><div style=\"display:table-row;\"><div style=\"display:table-cell;padding-right:2px; padding-left:2px;\" align=\"center\"><div style=\"display:inline-block;\"><span>$\\lambda{} w_{s} \\: . \\: {Cat}({w}, {Alfonso}_{e})$</span></div></div></div></div></div><div style=\"display: table-cell;\"></div></div></div></div><div style=\"display: table-cell; padding-left:4em;\"></div><div style=\"vertical-align:bottom;display:table-cell;padding-left:5px;padding-right:5px;padding-top:5px;padding-bottom:5px;\"><div align=\"center\" style=\"display:table;\"><div align=\"center\" style=\"display:table-row;\"><div style=\"display:table-cell;table-layout:auto;vertical-align:bottom;border-bottom:1px solid #848482;\"><div style=\"display: table;\"><div style=\"vertical-align:bottom;display:table-cell;padding-left:5px;padding-right:5px;padding-top:5px;padding-bottom:5px;\"><div align=\"center\" style=\"display:table;\"><div align=\"center\" style=\"display:table-row;\"><div style=\"display:table-cell;table-layout:auto;vertical-align:bottom;border-bottom:1px solid #848482;\"><div style=\"display: table;\"><div style=\"vertical-align:bottom;display:table-cell;padding-left:5px;padding-right:5px;padding-top:5px;padding-bottom:5px;\"><div align=\"center\" style=\"display:block;padding-left:5px;padding-right:5px;padding-top:5px;padding-bottom:5px;\"><div style=\"display:table;table-layout:auto;\" align=\"center\"><div style=\"display:table-row;\"><div style=\"display:table-cell;padding-right:2px; padding-left:2px;\" align=\"center\"><div style=\"display:inline-block;\"><span>$[\\![\\text{\\textbf{and\\_}}]\\!]^{}_{\\left\\langle{}t,\\left\\langle{}t,t\\right\\rangle{}\\right\\rangle{}}$</span></div></div></div><div style=\"display:table-row;\"><div style=\"display:table-cell;padding-right:2px; padding-left:2px;\" align=\"center\"><div style=\"display:inline-block;\"><span>$\\lambda{} p_{t} \\: . \\: \\lambda{} q_{t} \\: . \\: {p} \\wedge{} {q}$</span></div></div></div></div></div></div></div></div><div style=\"display:table-cell;\"></div></div><div style=\"display:table-row;\"><div style=\"display: table-cell;\"></div><div style=\"display:table-cell;vertical-align:middle;\"><div style=\"vertical-align:middle;height:0px;overflow:visible\"><div style=\"color:blue;transform: translateY(-1em); padding-left:0.5em;\"><b>[<span>Unit</span>]</b></div></div></div></div><div align=\"center\" style=\"display:table-row;padding-left:5px;padding-right:5px;padding-top:5px;padding-bottom:5px;\"><div align=\"center\" style=\"display:block;padding-left:5px;padding-right:5px;padding-top:5px;padding-bottom:5px;\"><div style=\"display:table;table-layout:auto;\" align=\"center\"><div style=\"display:table-row;\"><div style=\"display:table-cell;padding-right:2px; padding-left:2px;\" align=\"center\"><div style=\"display:inline-block;\"><span>$[\\![\\text{\\textbf{[and\\_]}}]\\!]^{}_{\\left\\langle{}s,\\left\\langle{}t,\\left\\langle{}t,t\\right\\rangle{}\\right\\rangle{}\\right\\rangle{}}$</span></div></div></div><div style=\"display:table-row;\"><div style=\"display:table-cell;padding-right:2px; padding-left:2px;\" align=\"center\"><div style=\"display:inline-block;\"><span>$\\lambda{} w_{s} \\: . \\: \\lambda{} p_{t} \\: . \\: \\lambda{} q_{t} \\: . \\: {p} \\wedge{} {q}$</span></div></div></div></div></div><div style=\"display: table-cell;\"></div></div></div></div><div style=\"display: table-cell; padding-left:4em;\"></div><div style=\"vertical-align:bottom;display:table-cell;padding-left:5px;padding-right:5px;padding-top:5px;padding-bottom:5px;\"><div align=\"center\" style=\"display:table;\"><div align=\"center\" style=\"display:table-row;\"><div style=\"display:table-cell;table-layout:auto;vertical-align:bottom;border-bottom:1px solid #848482;\"><div style=\"display: table;\"><div style=\"vertical-align:bottom;display:table-cell;padding-left:5px;padding-right:5px;padding-top:5px;padding-bottom:5px;\"><div align=\"center\" style=\"display:block;padding-left:5px;padding-right:5px;padding-top:5px;padding-bottom:5px;\"><div style=\"display:table;table-layout:auto;\" align=\"center\"><div style=\"display:table-row;\"><div style=\"display:table-cell;padding-right:2px; padding-left:2px;\" align=\"center\"><div style=\"display:inline-block;\"><span>$[\\![\\text{\\textbf{might}}]\\!]^{}_{\\left\\langle{}\\left\\langle{}s,t\\right\\rangle{},\\left\\langle{}s,t\\right\\rangle{}\\right\\rangle{}}$</span></div></div></div><div style=\"display:table-row;\"><div style=\"display:table-cell;padding-right:2px; padding-left:2px;\" align=\"center\"><div style=\"display:inline-block;\"><span>$\\lambda{} p_{\\left\\langle{}s,t\\right\\rangle{}} \\: . \\: \\lambda{} w_{s} \\: . \\: \\exists{} w2_{s} \\: . \\: ({w2} \\in{} {Epi}_{\\left\\langle{}s,\\left\\{s\\right\\}\\right\\rangle{}}({w})) \\wedge{} {p}({w2})$</span></div></div></div></div></div></div><div style=\"display: table-cell; padding-left:4em;\"></div><div style=\"vertical-align:bottom;display:table-cell;padding-left:5px;padding-right:5px;padding-top:5px;padding-bottom:5px;\"><div align=\"center\" style=\"display:table;\"><div align=\"center\" style=\"display:table-row;\"><div style=\"display:table-cell;table-layout:auto;vertical-align:bottom;border-bottom:1px solid #848482;\"><div style=\"display: table;\"><div style=\"vertical-align:bottom;display:table-cell;padding-left:5px;padding-right:5px;padding-top:5px;padding-bottom:5px;\"><div align=\"center\" style=\"display:table;\"><div align=\"center\" style=\"display:table-row;\"><div style=\"display:table-cell;table-layout:auto;vertical-align:bottom;border-bottom:1px solid #848482;\"><div style=\"display: table;\"><div style=\"vertical-align:bottom;display:table-cell;padding-left:5px;padding-right:5px;padding-top:5px;padding-bottom:5px;\"><div align=\"center\" style=\"display:block;padding-left:5px;padding-right:5px;padding-top:5px;padding-bottom:5px;\"><div style=\"display:table;table-layout:auto;\" align=\"center\"><div style=\"display:table-row;\"><div style=\"display:table-cell;padding-right:2px; padding-left:2px;\" align=\"center\"><div style=\"display:inline-block;\"><span>$[\\![\\text{\\textbf{Alfonso}}]\\!]^{}_{e}$</span></div></div></div><div style=\"display:table-row;\"><div style=\"display:table-cell;padding-right:2px; padding-left:2px;\" align=\"center\"><div style=\"display:inline-block;\"><span>${Alfonso}_{e}$</span></div></div></div></div></div></div></div></div><div style=\"display:table-cell;\"></div></div><div style=\"display:table-row;\"><div style=\"display: table-cell;\"></div><div style=\"display:table-cell;vertical-align:middle;\"><div style=\"vertical-align:middle;height:0px;overflow:visible\"><div style=\"color:blue;transform: translateY(-1em); padding-left:0.5em;\"><b>[<span>Unit</span>]</b></div></div></div></div><div align=\"center\" style=\"display:table-row;padding-left:5px;padding-right:5px;padding-top:5px;padding-bottom:5px;\"><div align=\"center\" style=\"display:block;padding-left:5px;padding-right:5px;padding-top:5px;padding-bottom:5px;\"><div style=\"display:table;table-layout:auto;\" align=\"center\"><div style=\"display:table-row;\"><div style=\"display:table-cell;padding-right:2px; padding-left:2px;\" align=\"center\"><div style=\"display:inline-block;\"><span>$[\\![\\text{\\textbf{[Alfonso]}}]\\!]^{}_{\\left\\langle{}s,e\\right\\rangle{}}$</span></div></div></div><div style=\"display:table-row;\"><div style=\"display:table-cell;padding-right:2px; padding-left:2px;\" align=\"center\"><div style=\"display:inline-block;\"><span>$\\lambda{} w_{s} \\: . \\: {Alfonso}_{e}$</span></div></div></div></div></div><div style=\"display: table-cell;\"></div></div></div></div><div style=\"display: table-cell; padding-left:4em;\"></div><div style=\"vertical-align:bottom;display:table-cell;padding-left:5px;padding-right:5px;padding-top:5px;padding-bottom:5px;\"><div align=\"center\" style=\"display:block;padding-left:5px;padding-right:5px;padding-top:5px;padding-bottom:5px;\"><div style=\"display:table;table-layout:auto;\" align=\"center\"><div style=\"display:table-row;\"><div style=\"display:table-cell;padding-right:2px; padding-left:2px;\" align=\"center\"><div style=\"display:inline-block;\"><span>$[\\![\\text{\\textbf{dance}}]\\!]^{}_{\\left\\langle{}s,\\left\\langle{}e,t\\right\\rangle{}\\right\\rangle{}}$</span></div></div></div><div style=\"display:table-row;\"><div style=\"display:table-cell;padding-right:2px; padding-left:2px;\" align=\"center\"><div style=\"display:inline-block;\"><span>$\\lambda{} w_{s} \\: . \\: \\lambda{} x_{e} \\: . \\: {Dance}({w}, {x})$</span></div></div></div></div></div></div></div></div><div style=\"display:table-cell;\"></div></div><div style=\"display:table-row;\"><div style=\"display: table-cell;\"></div><div style=\"display:table-cell;vertical-align:middle;\"><div style=\"vertical-align:middle;height:0px;overflow:visible\"><div style=\"color:blue;transform: translateY(-1em); padding-left:0.5em;\"><b>[<span>LiftedFA</span>]</b></div></div></div></div><div align=\"center\" style=\"display:table-row;padding-left:5px;padding-right:5px;padding-top:5px;padding-bottom:5px;\"><div align=\"center\" style=\"display:block;padding-left:5px;padding-right:5px;padding-top:5px;padding-bottom:5px;\"><div style=\"display:table;table-layout:auto;\" align=\"center\"><div style=\"display:table-row;\"><div style=\"display:table-cell;padding-right:2px; padding-left:2px;\" align=\"center\"><div style=\"display:inline-block;\"><span>$[\\![\\text{\\textbf{[[Alfonso] dance]}}]\\!]^{}_{\\left\\langle{}s,t\\right\\rangle{}}$</span></div></div></div><div style=\"display:table-row;\"><div style=\"display:table-cell;padding-right:2px; padding-left:2px;\" align=\"center\"><div style=\"display:inline-block;\"><span>$\\lambda{} w_{s} \\: . \\: {Dance}({w}, {Alfonso}_{e})$</span></div></div></div></div></div><div style=\"display: table-cell;\"></div></div></div></div></div></div><div style=\"display:table-cell;\"></div></div><div style=\"display:table-row;\"><div style=\"display: table-cell;\"></div><div style=\"display:table-cell;vertical-align:middle;\"><div style=\"vertical-align:middle;height:0px;overflow:visible\"><div style=\"color:blue;transform: translateY(-1em); padding-left:0.5em;\"><b>[<span>FA</span>]</b></div></div></div></div><div align=\"center\" style=\"display:table-row;padding-left:5px;padding-right:5px;padding-top:5px;padding-bottom:5px;\"><div align=\"center\" style=\"display:block;padding-left:5px;padding-right:5px;padding-top:5px;padding-bottom:5px;\"><div style=\"display:table;table-layout:auto;\" align=\"center\"><div style=\"display:table-row;\"><div style=\"display:table-cell;padding-right:2px; padding-left:2px;\" align=\"center\"><div style=\"display:inline-block;\"><span>$[\\![\\text{\\textbf{[might [[Alfonso] dance]]}}]\\!]^{}_{\\left\\langle{}s,t\\right\\rangle{}}$</span></div></div></div><div style=\"display:table-row;\"><div style=\"display:table-cell;padding-right:2px; padding-left:2px;\" align=\"center\"><div style=\"display:inline-block;\"><span>$\\lambda{} w_{s} \\: . \\: \\exists{} w2_{s} \\: . \\: ({w2} \\in{} {Epi}_{\\left\\langle{}s,\\left\\{s\\right\\}\\right\\rangle{}}({w})) \\wedge{} {Dance}({w2}, {Alfonso}_{e})$</span></div></div></div></div></div><div style=\"display: table-cell;\"></div></div></div></div></div></div><div style=\"display:table-cell;\"></div></div><div style=\"display:table-row;\"><div style=\"display: table-cell;\"></div><div style=\"display:table-cell;vertical-align:middle;\"><div style=\"vertical-align:middle;height:0px;overflow:visible\"><div style=\"color:blue;transform: translateY(-1em); padding-left:0.5em;\"><b>[<span>LiftedFA</span>]</b></div></div></div></div><div align=\"center\" style=\"display:table-row;padding-left:5px;padding-right:5px;padding-top:5px;padding-bottom:5px;\"><div align=\"center\" style=\"display:block;padding-left:5px;padding-right:5px;padding-top:5px;padding-bottom:5px;\"><div style=\"display:table;table-layout:auto;\" align=\"center\"><div style=\"display:table-row;\"><div style=\"display:table-cell;padding-right:2px; padding-left:2px;\" align=\"center\"><div style=\"display:inline-block;\"><span>$[\\![\\text{\\textbf{[[and\\_] [might [[Alfonso] dance]]]}}]\\!]^{}_{\\left\\langle{}s,\\left\\langle{}t,t\\right\\rangle{}\\right\\rangle{}}$</span></div></div></div><div style=\"display:table-row;\"><div style=\"display:table-cell;padding-right:2px; padding-left:2px;\" align=\"center\"><div style=\"display:inline-block;\"><span>$\\lambda{} w_{s} \\: . \\: \\lambda{} q_{t} \\: . \\: {q} \\wedge{} (\\exists{} w2_{s} \\: . \\: ({w2} \\in{} {Epi}_{\\left\\langle{}s,\\left\\{s\\right\\}\\right\\rangle{}}({w})) \\wedge{} {Dance}({w2}, {Alfonso}_{e}))$</span></div></div></div></div></div><div style=\"display: table-cell;\"></div></div></div></div></div></div><div style=\"display:table-cell;\"></div></div><div style=\"display:table-row;\"><div style=\"display: table-cell;\"></div><div style=\"display:table-cell;vertical-align:middle;\"><div style=\"vertical-align:middle;height:0px;overflow:visible\"><div style=\"color:blue;transform: translateY(-1em); padding-left:0.5em;\"><b>[<span>LiftedFA</span>]</b></div></div></div></div><div align=\"center\" style=\"display:table-row;padding-left:5px;padding-right:5px;padding-top:5px;padding-bottom:5px;\"><div align=\"center\" style=\"display:block;padding-left:5px;padding-right:5px;padding-top:5px;padding-bottom:5px;\"><div style=\"display:table;table-layout:auto;\" align=\"center\"><div style=\"display:table-row;\"><div style=\"display:table-cell;padding-right:2px; padding-left:2px;\" align=\"center\"><div style=\"display:inline-block;\"><span>$[\\![\\text{\\textbf{[[[Alfonso] cat] [[and\\_] [might [[Alfonso] dance]]]]}}]\\!]^{}_{\\left\\langle{}s,t\\right\\rangle{}}$</span></div></div></div><div style=\"display:table-row;\"><div style=\"display:table-cell;padding-right:2px; padding-left:2px;\" align=\"center\"><div style=\"display:inline-block;\"><span>$\\lambda{} w_{s} \\: . \\: {Cat}({w}, {Alfonso}_{e}) \\wedge{} (\\exists{} w2_{s} \\: . \\: ({w2} \\in{} {Epi}_{\\left\\langle{}s,\\left\\{s\\right\\}\\right\\rangle{}}({w})) \\wedge{} {Dance}({w2}, {Alfonso}_{e}))$</span></div></div></div></div></div><div style=\"display: table-cell;\"></div></div></div><br /><br />"
      ],
      "text/plain": [
       "1 composition path:<br /><div align=\"center\" style=\"display:table;\"><div align=\"center\" style=\"display:table-row;\"><div style=\"display:table-cell;table-layout:auto;vertical-align:bottom;border-bottom:1px solid #848482;\"><div style=\"display: table;\"><div style=\"vertical-align:bottom;display:table-cell;padding-left:5px;padding-right:5px;padding-top:5px;padding-bottom:5px;\"><div align=\"center\" style=\"display:table;\"><div align=\"center\" style=\"display:table-row;\"><div style=\"display:table-cell;table-layout:auto;vertical-align:bottom;border-bottom:1px solid #848482;\"><div style=\"display: table;\"><div style=\"vertical-align:bottom;display:table-cell;padding-left:5px;padding-right:5px;padding-top:5px;padding-bottom:5px;\"><div align=\"center\" style=\"display:table;\"><div align=\"center\" style=\"display:table-row;\"><div style=\"display:table-cell;table-layout:auto;vertical-align:bottom;border-bottom:1px solid #848482;\"><div style=\"display: table;\"><div style=\"vertical-align:bottom;display:table-cell;padding-left:5px;padding-right:5px;padding-top:5px;padding-bottom:5px;\"><div align=\"center\" style=\"display:block;padding-left:5px;padding-right:5px;padding-top:5px;padding-bottom:5px;\"><div style=\"display:table;table-layout:auto;\" align=\"center\"><div style=\"display:table-row;\"><div style=\"display:table-cell;padding-right:2px; padding-left:2px;\" align=\"center\"><div style=\"display:inline-block;\"><span>$[\\![\\text{\\textbf{Alfonso}}]\\!]^{}_{e}$</span></div></div></div><div style=\"display:table-row;\"><div style=\"display:table-cell;padding-right:2px; padding-left:2px;\" align=\"center\"><div style=\"display:inline-block;\"><span>${Alfonso}_{e}$</span></div></div></div></div></div></div></div></div><div style=\"display:table-cell;\"></div></div><div style=\"display:table-row;\"><div style=\"display: table-cell;\"></div><div style=\"display:table-cell;vertical-align:middle;\"><div style=\"vertical-align:middle;height:0px;overflow:visible\"><div style=\"color:blue;transform: translateY(-1em); padding-left:0.5em;\"><b>[<span>Unit</span>]</b></div></div></div></div><div align=\"center\" style=\"display:table-row;padding-left:5px;padding-right:5px;padding-top:5px;padding-bottom:5px;\"><div align=\"center\" style=\"display:block;padding-left:5px;padding-right:5px;padding-top:5px;padding-bottom:5px;\"><div style=\"display:table;table-layout:auto;\" align=\"center\"><div style=\"display:table-row;\"><div style=\"display:table-cell;padding-right:2px; padding-left:2px;\" align=\"center\"><div style=\"display:inline-block;\"><span>$[\\![\\text{\\textbf{[Alfonso]}}]\\!]^{}_{\\left\\langle{}s,e\\right\\rangle{}}$</span></div></div></div><div style=\"display:table-row;\"><div style=\"display:table-cell;padding-right:2px; padding-left:2px;\" align=\"center\"><div style=\"display:inline-block;\"><span>$\\lambda{} w_{s} \\: . \\: {Alfonso}_{e}$</span></div></div></div></div></div><div style=\"display: table-cell;\"></div></div></div></div><div style=\"display: table-cell; padding-left:4em;\"></div><div style=\"vertical-align:bottom;display:table-cell;padding-left:5px;padding-right:5px;padding-top:5px;padding-bottom:5px;\"><div align=\"center\" style=\"display:block;padding-left:5px;padding-right:5px;padding-top:5px;padding-bottom:5px;\"><div style=\"display:table;table-layout:auto;\" align=\"center\"><div style=\"display:table-row;\"><div style=\"display:table-cell;padding-right:2px; padding-left:2px;\" align=\"center\"><div style=\"display:inline-block;\"><span>$[\\![\\text{\\textbf{cat}}]\\!]^{}_{\\left\\langle{}s,\\left\\langle{}e,t\\right\\rangle{}\\right\\rangle{}}$</span></div></div></div><div style=\"display:table-row;\"><div style=\"display:table-cell;padding-right:2px; padding-left:2px;\" align=\"center\"><div style=\"display:inline-block;\"><span>$\\lambda{} w_{s} \\: . \\: \\lambda{} x_{e} \\: . \\: {Cat}({w}, {x})$</span></div></div></div></div></div></div></div></div><div style=\"display:table-cell;\"></div></div><div style=\"display:table-row;\"><div style=\"display: table-cell;\"></div><div style=\"display:table-cell;vertical-align:middle;\"><div style=\"vertical-align:middle;height:0px;overflow:visible\"><div style=\"color:blue;transform: translateY(-1em); padding-left:0.5em;\"><b>[<span>LiftedFA</span>]</b></div></div></div></div><div align=\"center\" style=\"display:table-row;padding-left:5px;padding-right:5px;padding-top:5px;padding-bottom:5px;\"><div align=\"center\" style=\"display:block;padding-left:5px;padding-right:5px;padding-top:5px;padding-bottom:5px;\"><div style=\"display:table;table-layout:auto;\" align=\"center\"><div style=\"display:table-row;\"><div style=\"display:table-cell;padding-right:2px; padding-left:2px;\" align=\"center\"><div style=\"display:inline-block;\"><span>$[\\![\\text{\\textbf{[[Alfonso] cat]}}]\\!]^{}_{\\left\\langle{}s,t\\right\\rangle{}}$</span></div></div></div><div style=\"display:table-row;\"><div style=\"display:table-cell;padding-right:2px; padding-left:2px;\" align=\"center\"><div style=\"display:inline-block;\"><span>$\\lambda{} w_{s} \\: . \\: {Cat}({w}, {Alfonso}_{e})$</span></div></div></div></div></div><div style=\"display: table-cell;\"></div></div></div></div><div style=\"display: table-cell; padding-left:4em;\"></div><div style=\"vertical-align:bottom;display:table-cell;padding-left:5px;padding-right:5px;padding-top:5px;padding-bottom:5px;\"><div align=\"center\" style=\"display:table;\"><div align=\"center\" style=\"display:table-row;\"><div style=\"display:table-cell;table-layout:auto;vertical-align:bottom;border-bottom:1px solid #848482;\"><div style=\"display: table;\"><div style=\"vertical-align:bottom;display:table-cell;padding-left:5px;padding-right:5px;padding-top:5px;padding-bottom:5px;\"><div align=\"center\" style=\"display:table;\"><div align=\"center\" style=\"display:table-row;\"><div style=\"display:table-cell;table-layout:auto;vertical-align:bottom;border-bottom:1px solid #848482;\"><div style=\"display: table;\"><div style=\"vertical-align:bottom;display:table-cell;padding-left:5px;padding-right:5px;padding-top:5px;padding-bottom:5px;\"><div align=\"center\" style=\"display:block;padding-left:5px;padding-right:5px;padding-top:5px;padding-bottom:5px;\"><div style=\"display:table;table-layout:auto;\" align=\"center\"><div style=\"display:table-row;\"><div style=\"display:table-cell;padding-right:2px; padding-left:2px;\" align=\"center\"><div style=\"display:inline-block;\"><span>$[\\![\\text{\\textbf{and\\_}}]\\!]^{}_{\\left\\langle{}t,\\left\\langle{}t,t\\right\\rangle{}\\right\\rangle{}}$</span></div></div></div><div style=\"display:table-row;\"><div style=\"display:table-cell;padding-right:2px; padding-left:2px;\" align=\"center\"><div style=\"display:inline-block;\"><span>$\\lambda{} p_{t} \\: . \\: \\lambda{} q_{t} \\: . \\: {p} \\wedge{} {q}$</span></div></div></div></div></div></div></div></div><div style=\"display:table-cell;\"></div></div><div style=\"display:table-row;\"><div style=\"display: table-cell;\"></div><div style=\"display:table-cell;vertical-align:middle;\"><div style=\"vertical-align:middle;height:0px;overflow:visible\"><div style=\"color:blue;transform: translateY(-1em); padding-left:0.5em;\"><b>[<span>Unit</span>]</b></div></div></div></div><div align=\"center\" style=\"display:table-row;padding-left:5px;padding-right:5px;padding-top:5px;padding-bottom:5px;\"><div align=\"center\" style=\"display:block;padding-left:5px;padding-right:5px;padding-top:5px;padding-bottom:5px;\"><div style=\"display:table;table-layout:auto;\" align=\"center\"><div style=\"display:table-row;\"><div style=\"display:table-cell;padding-right:2px; padding-left:2px;\" align=\"center\"><div style=\"display:inline-block;\"><span>$[\\![\\text{\\textbf{[and\\_]}}]\\!]^{}_{\\left\\langle{}s,\\left\\langle{}t,\\left\\langle{}t,t\\right\\rangle{}\\right\\rangle{}\\right\\rangle{}}$</span></div></div></div><div style=\"display:table-row;\"><div style=\"display:table-cell;padding-right:2px; padding-left:2px;\" align=\"center\"><div style=\"display:inline-block;\"><span>$\\lambda{} w_{s} \\: . \\: \\lambda{} p_{t} \\: . \\: \\lambda{} q_{t} \\: . \\: {p} \\wedge{} {q}$</span></div></div></div></div></div><div style=\"display: table-cell;\"></div></div></div></div><div style=\"display: table-cell; padding-left:4em;\"></div><div style=\"vertical-align:bottom;display:table-cell;padding-left:5px;padding-right:5px;padding-top:5px;padding-bottom:5px;\"><div align=\"center\" style=\"display:table;\"><div align=\"center\" style=\"display:table-row;\"><div style=\"display:table-cell;table-layout:auto;vertical-align:bottom;border-bottom:1px solid #848482;\"><div style=\"display: table;\"><div style=\"vertical-align:bottom;display:table-cell;padding-left:5px;padding-right:5px;padding-top:5px;padding-bottom:5px;\"><div align=\"center\" style=\"display:block;padding-left:5px;padding-right:5px;padding-top:5px;padding-bottom:5px;\"><div style=\"display:table;table-layout:auto;\" align=\"center\"><div style=\"display:table-row;\"><div style=\"display:table-cell;padding-right:2px; padding-left:2px;\" align=\"center\"><div style=\"display:inline-block;\"><span>$[\\![\\text{\\textbf{might}}]\\!]^{}_{\\left\\langle{}\\left\\langle{}s,t\\right\\rangle{},\\left\\langle{}s,t\\right\\rangle{}\\right\\rangle{}}$</span></div></div></div><div style=\"display:table-row;\"><div style=\"display:table-cell;padding-right:2px; padding-left:2px;\" align=\"center\"><div style=\"display:inline-block;\"><span>$\\lambda{} p_{\\left\\langle{}s,t\\right\\rangle{}} \\: . \\: \\lambda{} w_{s} \\: . \\: \\exists{} w2_{s} \\: . \\: ({w2} \\in{} {Epi}_{\\left\\langle{}s,\\left\\{s\\right\\}\\right\\rangle{}}({w})) \\wedge{} {p}({w2})$</span></div></div></div></div></div></div><div style=\"display: table-cell; padding-left:4em;\"></div><div style=\"vertical-align:bottom;display:table-cell;padding-left:5px;padding-right:5px;padding-top:5px;padding-bottom:5px;\"><div align=\"center\" style=\"display:table;\"><div align=\"center\" style=\"display:table-row;\"><div style=\"display:table-cell;table-layout:auto;vertical-align:bottom;border-bottom:1px solid #848482;\"><div style=\"display: table;\"><div style=\"vertical-align:bottom;display:table-cell;padding-left:5px;padding-right:5px;padding-top:5px;padding-bottom:5px;\"><div align=\"center\" style=\"display:table;\"><div align=\"center\" style=\"display:table-row;\"><div style=\"display:table-cell;table-layout:auto;vertical-align:bottom;border-bottom:1px solid #848482;\"><div style=\"display: table;\"><div style=\"vertical-align:bottom;display:table-cell;padding-left:5px;padding-right:5px;padding-top:5px;padding-bottom:5px;\"><div align=\"center\" style=\"display:block;padding-left:5px;padding-right:5px;padding-top:5px;padding-bottom:5px;\"><div style=\"display:table;table-layout:auto;\" align=\"center\"><div style=\"display:table-row;\"><div style=\"display:table-cell;padding-right:2px; padding-left:2px;\" align=\"center\"><div style=\"display:inline-block;\"><span>$[\\![\\text{\\textbf{Alfonso}}]\\!]^{}_{e}$</span></div></div></div><div style=\"display:table-row;\"><div style=\"display:table-cell;padding-right:2px; padding-left:2px;\" align=\"center\"><div style=\"display:inline-block;\"><span>${Alfonso}_{e}$</span></div></div></div></div></div></div></div></div><div style=\"display:table-cell;\"></div></div><div style=\"display:table-row;\"><div style=\"display: table-cell;\"></div><div style=\"display:table-cell;vertical-align:middle;\"><div style=\"vertical-align:middle;height:0px;overflow:visible\"><div style=\"color:blue;transform: translateY(-1em); padding-left:0.5em;\"><b>[<span>Unit</span>]</b></div></div></div></div><div align=\"center\" style=\"display:table-row;padding-left:5px;padding-right:5px;padding-top:5px;padding-bottom:5px;\"><div align=\"center\" style=\"display:block;padding-left:5px;padding-right:5px;padding-top:5px;padding-bottom:5px;\"><div style=\"display:table;table-layout:auto;\" align=\"center\"><div style=\"display:table-row;\"><div style=\"display:table-cell;padding-right:2px; padding-left:2px;\" align=\"center\"><div style=\"display:inline-block;\"><span>$[\\![\\text{\\textbf{[Alfonso]}}]\\!]^{}_{\\left\\langle{}s,e\\right\\rangle{}}$</span></div></div></div><div style=\"display:table-row;\"><div style=\"display:table-cell;padding-right:2px; padding-left:2px;\" align=\"center\"><div style=\"display:inline-block;\"><span>$\\lambda{} w_{s} \\: . \\: {Alfonso}_{e}$</span></div></div></div></div></div><div style=\"display: table-cell;\"></div></div></div></div><div style=\"display: table-cell; padding-left:4em;\"></div><div style=\"vertical-align:bottom;display:table-cell;padding-left:5px;padding-right:5px;padding-top:5px;padding-bottom:5px;\"><div align=\"center\" style=\"display:block;padding-left:5px;padding-right:5px;padding-top:5px;padding-bottom:5px;\"><div style=\"display:table;table-layout:auto;\" align=\"center\"><div style=\"display:table-row;\"><div style=\"display:table-cell;padding-right:2px; padding-left:2px;\" align=\"center\"><div style=\"display:inline-block;\"><span>$[\\![\\text{\\textbf{dance}}]\\!]^{}_{\\left\\langle{}s,\\left\\langle{}e,t\\right\\rangle{}\\right\\rangle{}}$</span></div></div></div><div style=\"display:table-row;\"><div style=\"display:table-cell;padding-right:2px; padding-left:2px;\" align=\"center\"><div style=\"display:inline-block;\"><span>$\\lambda{} w_{s} \\: . \\: \\lambda{} x_{e} \\: . \\: {Dance}({w}, {x})$</span></div></div></div></div></div></div></div></div><div style=\"display:table-cell;\"></div></div><div style=\"display:table-row;\"><div style=\"display: table-cell;\"></div><div style=\"display:table-cell;vertical-align:middle;\"><div style=\"vertical-align:middle;height:0px;overflow:visible\"><div style=\"color:blue;transform: translateY(-1em); padding-left:0.5em;\"><b>[<span>LiftedFA</span>]</b></div></div></div></div><div align=\"center\" style=\"display:table-row;padding-left:5px;padding-right:5px;padding-top:5px;padding-bottom:5px;\"><div align=\"center\" style=\"display:block;padding-left:5px;padding-right:5px;padding-top:5px;padding-bottom:5px;\"><div style=\"display:table;table-layout:auto;\" align=\"center\"><div style=\"display:table-row;\"><div style=\"display:table-cell;padding-right:2px; padding-left:2px;\" align=\"center\"><div style=\"display:inline-block;\"><span>$[\\![\\text{\\textbf{[[Alfonso] dance]}}]\\!]^{}_{\\left\\langle{}s,t\\right\\rangle{}}$</span></div></div></div><div style=\"display:table-row;\"><div style=\"display:table-cell;padding-right:2px; padding-left:2px;\" align=\"center\"><div style=\"display:inline-block;\"><span>$\\lambda{} w_{s} \\: . \\: {Dance}({w}, {Alfonso}_{e})$</span></div></div></div></div></div><div style=\"display: table-cell;\"></div></div></div></div></div></div><div style=\"display:table-cell;\"></div></div><div style=\"display:table-row;\"><div style=\"display: table-cell;\"></div><div style=\"display:table-cell;vertical-align:middle;\"><div style=\"vertical-align:middle;height:0px;overflow:visible\"><div style=\"color:blue;transform: translateY(-1em); padding-left:0.5em;\"><b>[<span>FA</span>]</b></div></div></div></div><div align=\"center\" style=\"display:table-row;padding-left:5px;padding-right:5px;padding-top:5px;padding-bottom:5px;\"><div align=\"center\" style=\"display:block;padding-left:5px;padding-right:5px;padding-top:5px;padding-bottom:5px;\"><div style=\"display:table;table-layout:auto;\" align=\"center\"><div style=\"display:table-row;\"><div style=\"display:table-cell;padding-right:2px; padding-left:2px;\" align=\"center\"><div style=\"display:inline-block;\"><span>$[\\![\\text{\\textbf{[might [[Alfonso] dance]]}}]\\!]^{}_{\\left\\langle{}s,t\\right\\rangle{}}$</span></div></div></div><div style=\"display:table-row;\"><div style=\"display:table-cell;padding-right:2px; padding-left:2px;\" align=\"center\"><div style=\"display:inline-block;\"><span>$\\lambda{} w_{s} \\: . \\: \\exists{} w2_{s} \\: . \\: ({w2} \\in{} {Epi}_{\\left\\langle{}s,\\left\\{s\\right\\}\\right\\rangle{}}({w})) \\wedge{} {Dance}({w2}, {Alfonso}_{e})$</span></div></div></div></div></div><div style=\"display: table-cell;\"></div></div></div></div></div></div><div style=\"display:table-cell;\"></div></div><div style=\"display:table-row;\"><div style=\"display: table-cell;\"></div><div style=\"display:table-cell;vertical-align:middle;\"><div style=\"vertical-align:middle;height:0px;overflow:visible\"><div style=\"color:blue;transform: translateY(-1em); padding-left:0.5em;\"><b>[<span>LiftedFA</span>]</b></div></div></div></div><div align=\"center\" style=\"display:table-row;padding-left:5px;padding-right:5px;padding-top:5px;padding-bottom:5px;\"><div align=\"center\" style=\"display:block;padding-left:5px;padding-right:5px;padding-top:5px;padding-bottom:5px;\"><div style=\"display:table;table-layout:auto;\" align=\"center\"><div style=\"display:table-row;\"><div style=\"display:table-cell;padding-right:2px; padding-left:2px;\" align=\"center\"><div style=\"display:inline-block;\"><span>$[\\![\\text{\\textbf{[[and\\_] [might [[Alfonso] dance]]]}}]\\!]^{}_{\\left\\langle{}s,\\left\\langle{}t,t\\right\\rangle{}\\right\\rangle{}}$</span></div></div></div><div style=\"display:table-row;\"><div style=\"display:table-cell;padding-right:2px; padding-left:2px;\" align=\"center\"><div style=\"display:inline-block;\"><span>$\\lambda{} w_{s} \\: . \\: \\lambda{} q_{t} \\: . \\: {q} \\wedge{} (\\exists{} w2_{s} \\: . \\: ({w2} \\in{} {Epi}_{\\left\\langle{}s,\\left\\{s\\right\\}\\right\\rangle{}}({w})) \\wedge{} {Dance}({w2}, {Alfonso}_{e}))$</span></div></div></div></div></div><div style=\"display: table-cell;\"></div></div></div></div></div></div><div style=\"display:table-cell;\"></div></div><div style=\"display:table-row;\"><div style=\"display: table-cell;\"></div><div style=\"display:table-cell;vertical-align:middle;\"><div style=\"vertical-align:middle;height:0px;overflow:visible\"><div style=\"color:blue;transform: translateY(-1em); padding-left:0.5em;\"><b>[<span>LiftedFA</span>]</b></div></div></div></div><div align=\"center\" style=\"display:table-row;padding-left:5px;padding-right:5px;padding-top:5px;padding-bottom:5px;\"><div align=\"center\" style=\"display:block;padding-left:5px;padding-right:5px;padding-top:5px;padding-bottom:5px;\"><div style=\"display:table;table-layout:auto;\" align=\"center\"><div style=\"display:table-row;\"><div style=\"display:table-cell;padding-right:2px; padding-left:2px;\" align=\"center\"><div style=\"display:inline-block;\"><span>$[\\![\\text{\\textbf{[[[Alfonso] cat] [[and\\_] [might [[Alfonso] dance]]]]}}]\\!]^{}_{\\left\\langle{}s,t\\right\\rangle{}}$</span></div></div></div><div style=\"display:table-row;\"><div style=\"display:table-cell;padding-right:2px; padding-left:2px;\" align=\"center\"><div style=\"display:inline-block;\"><span>$\\lambda{} w_{s} \\: . \\: {Cat}({w}, {Alfonso}_{e}) \\wedge{} (\\exists{} w2_{s} \\: . \\: ({w2} \\in{} {Epi}_{\\left\\langle{}s,\\left\\{s\\right\\}\\right\\rangle{}}({w})) \\wedge{} {Dance}({w2}, {Alfonso}_{e}))$</span></div></div></div></div></div><div style=\"display: table-cell;\"></div></div></div><br /><br />"
      ]
     },
     "execution_count": 422,
     "metadata": {},
     "output_type": "execute_result"
    }
   ],
   "source": [
    "((Alfonso * cat) * (and_ * (might * (Alfonso * dance)))).tree()"
   ]
  },
  {
   "cell_type": "code",
   "execution_count": 403,
   "id": "dbfa4617-83f2-4106-88da-d250ef8252c2",
   "metadata": {},
   "outputs": [
    {
     "data": {
      "text/html": [
       "1 composition path:<br /><div align=\"center\" style=\"display:table;\"><div align=\"center\" style=\"display:table-row;\"><div style=\"display:table-cell;table-layout:auto;vertical-align:bottom;border-bottom:1px solid #848482;\"><div style=\"display: table;\"><div style=\"vertical-align:bottom;display:table-cell;padding-left:5px;padding-right:5px;padding-top:5px;padding-bottom:5px;\"><div align=\"center\" style=\"display:table;\"><div align=\"center\" style=\"display:table-row;\"><div style=\"display:table-cell;table-layout:auto;vertical-align:bottom;border-bottom:1px solid #848482;\"><div style=\"display: table;\"><div style=\"vertical-align:bottom;display:table-cell;padding-left:5px;padding-right:5px;padding-top:5px;padding-bottom:5px;\"><div align=\"center\" style=\"display:block;padding-left:5px;padding-right:5px;padding-top:5px;padding-bottom:5px;\"><div style=\"display:table;table-layout:auto;\" align=\"center\"><div style=\"display:table-row;\"><div style=\"display:table-cell;padding-right:2px; padding-left:2px;\" align=\"center\"><div style=\"display:inline-block;\"><span>$[\\![\\text{\\textbf{every}}]\\!]^{}_{\\left\\langle{}\\left\\langle{}e,t\\right\\rangle{},\\left\\langle{}\\left\\langle{}e,t\\right\\rangle{},t\\right\\rangle{}\\right\\rangle{}}$</span></div></div></div><div style=\"display:table-row;\"><div style=\"display:table-cell;padding-right:2px; padding-left:2px;\" align=\"center\"><div style=\"display:inline-block;\"><span>$\\lambda{} f_{\\left\\langle{}e,t\\right\\rangle{}} \\: . \\: \\lambda{} g_{\\left\\langle{}e,t\\right\\rangle{}} \\: . \\: \\forall{} x_{e} \\: . \\: {f}({x}) \\rightarrow{} {g}({x})$</span></div></div></div></div></div></div></div></div><div style=\"display:table-cell;\"></div></div><div style=\"display:table-row;\"><div style=\"display: table-cell;\"></div><div style=\"display:table-cell;vertical-align:middle;\"><div style=\"vertical-align:middle;height:0px;overflow:visible\"><div style=\"color:blue;transform: translateY(-1em); padding-left:0.5em;\"><b>[<span>Unit</span>]</b></div></div></div></div><div align=\"center\" style=\"display:table-row;padding-left:5px;padding-right:5px;padding-top:5px;padding-bottom:5px;\"><div align=\"center\" style=\"display:block;padding-left:5px;padding-right:5px;padding-top:5px;padding-bottom:5px;\"><div style=\"display:table;table-layout:auto;\" align=\"center\"><div style=\"display:table-row;\"><div style=\"display:table-cell;padding-right:2px; padding-left:2px;\" align=\"center\"><div style=\"display:inline-block;\"><span>$[\\![\\text{\\textbf{[every]}}]\\!]^{}_{\\left\\langle{}s,\\left\\langle{}\\left\\langle{}e,t\\right\\rangle{},\\left\\langle{}\\left\\langle{}e,t\\right\\rangle{},t\\right\\rangle{}\\right\\rangle{}\\right\\rangle{}}$</span></div></div></div><div style=\"display:table-row;\"><div style=\"display:table-cell;padding-right:2px; padding-left:2px;\" align=\"center\"><div style=\"display:inline-block;\"><span>$\\lambda{} w_{s} \\: . \\: \\lambda{} f_{\\left\\langle{}e,t\\right\\rangle{}} \\: . \\: \\lambda{} g_{\\left\\langle{}e,t\\right\\rangle{}} \\: . \\: \\forall{} x_{e} \\: . \\: {f}({x}) \\rightarrow{} {g}({x})$</span></div></div></div></div></div><div style=\"display: table-cell;\"></div></div></div></div><div style=\"display: table-cell; padding-left:4em;\"></div><div style=\"vertical-align:bottom;display:table-cell;padding-left:5px;padding-right:5px;padding-top:5px;padding-bottom:5px;\"><div align=\"center\" style=\"display:block;padding-left:5px;padding-right:5px;padding-top:5px;padding-bottom:5px;\"><div style=\"display:table;table-layout:auto;\" align=\"center\"><div style=\"display:table-row;\"><div style=\"display:table-cell;padding-right:2px; padding-left:2px;\" align=\"center\"><div style=\"display:inline-block;\"><span>$[\\![\\text{\\textbf{cat}}]\\!]^{}_{\\left\\langle{}s,\\left\\langle{}e,t\\right\\rangle{}\\right\\rangle{}}$</span></div></div></div><div style=\"display:table-row;\"><div style=\"display:table-cell;padding-right:2px; padding-left:2px;\" align=\"center\"><div style=\"display:inline-block;\"><span>$\\lambda{} w_{s} \\: . \\: \\lambda{} x_{e} \\: . \\: {Cat}({w}, {x})$</span></div></div></div></div></div></div></div></div><div style=\"display:table-cell;\"></div></div><div style=\"display:table-row;\"><div style=\"display: table-cell;\"></div><div style=\"display:table-cell;vertical-align:middle;\"><div style=\"vertical-align:middle;height:0px;overflow:visible\"><div style=\"color:blue;transform: translateY(-1em); padding-left:0.5em;\"><b>[<span>LiftedFA</span>]</b></div></div></div></div><div align=\"center\" style=\"display:table-row;padding-left:5px;padding-right:5px;padding-top:5px;padding-bottom:5px;\"><div align=\"center\" style=\"display:block;padding-left:5px;padding-right:5px;padding-top:5px;padding-bottom:5px;\"><div style=\"display:table;table-layout:auto;\" align=\"center\"><div style=\"display:table-row;\"><div style=\"display:table-cell;padding-right:2px; padding-left:2px;\" align=\"center\"><div style=\"display:inline-block;\"><span>$[\\![\\text{\\textbf{[[every] cat]}}]\\!]^{}_{\\left\\langle{}s,\\left\\langle{}\\left\\langle{}e,t\\right\\rangle{},t\\right\\rangle{}\\right\\rangle{}}$</span></div></div></div><div style=\"display:table-row;\"><div style=\"display:table-cell;padding-right:2px; padding-left:2px;\" align=\"center\"><div style=\"display:inline-block;\"><span>$\\lambda{} w_{s} \\: . \\: \\lambda{} g_{\\left\\langle{}e,t\\right\\rangle{}} \\: . \\: \\forall{} x1_{e} \\: . \\: {Cat}({w}, {x1}) \\rightarrow{} {g}({x1})$</span></div></div></div></div></div><div style=\"display: table-cell;\"></div></div></div><br /><br />"
      ],
      "text/plain": [
       "1 composition path:<br /><div align=\"center\" style=\"display:table;\"><div align=\"center\" style=\"display:table-row;\"><div style=\"display:table-cell;table-layout:auto;vertical-align:bottom;border-bottom:1px solid #848482;\"><div style=\"display: table;\"><div style=\"vertical-align:bottom;display:table-cell;padding-left:5px;padding-right:5px;padding-top:5px;padding-bottom:5px;\"><div align=\"center\" style=\"display:table;\"><div align=\"center\" style=\"display:table-row;\"><div style=\"display:table-cell;table-layout:auto;vertical-align:bottom;border-bottom:1px solid #848482;\"><div style=\"display: table;\"><div style=\"vertical-align:bottom;display:table-cell;padding-left:5px;padding-right:5px;padding-top:5px;padding-bottom:5px;\"><div align=\"center\" style=\"display:block;padding-left:5px;padding-right:5px;padding-top:5px;padding-bottom:5px;\"><div style=\"display:table;table-layout:auto;\" align=\"center\"><div style=\"display:table-row;\"><div style=\"display:table-cell;padding-right:2px; padding-left:2px;\" align=\"center\"><div style=\"display:inline-block;\"><span>$[\\![\\text{\\textbf{every}}]\\!]^{}_{\\left\\langle{}\\left\\langle{}e,t\\right\\rangle{},\\left\\langle{}\\left\\langle{}e,t\\right\\rangle{},t\\right\\rangle{}\\right\\rangle{}}$</span></div></div></div><div style=\"display:table-row;\"><div style=\"display:table-cell;padding-right:2px; padding-left:2px;\" align=\"center\"><div style=\"display:inline-block;\"><span>$\\lambda{} f_{\\left\\langle{}e,t\\right\\rangle{}} \\: . \\: \\lambda{} g_{\\left\\langle{}e,t\\right\\rangle{}} \\: . \\: \\forall{} x_{e} \\: . \\: {f}({x}) \\rightarrow{} {g}({x})$</span></div></div></div></div></div></div></div></div><div style=\"display:table-cell;\"></div></div><div style=\"display:table-row;\"><div style=\"display: table-cell;\"></div><div style=\"display:table-cell;vertical-align:middle;\"><div style=\"vertical-align:middle;height:0px;overflow:visible\"><div style=\"color:blue;transform: translateY(-1em); padding-left:0.5em;\"><b>[<span>Unit</span>]</b></div></div></div></div><div align=\"center\" style=\"display:table-row;padding-left:5px;padding-right:5px;padding-top:5px;padding-bottom:5px;\"><div align=\"center\" style=\"display:block;padding-left:5px;padding-right:5px;padding-top:5px;padding-bottom:5px;\"><div style=\"display:table;table-layout:auto;\" align=\"center\"><div style=\"display:table-row;\"><div style=\"display:table-cell;padding-right:2px; padding-left:2px;\" align=\"center\"><div style=\"display:inline-block;\"><span>$[\\![\\text{\\textbf{[every]}}]\\!]^{}_{\\left\\langle{}s,\\left\\langle{}\\left\\langle{}e,t\\right\\rangle{},\\left\\langle{}\\left\\langle{}e,t\\right\\rangle{},t\\right\\rangle{}\\right\\rangle{}\\right\\rangle{}}$</span></div></div></div><div style=\"display:table-row;\"><div style=\"display:table-cell;padding-right:2px; padding-left:2px;\" align=\"center\"><div style=\"display:inline-block;\"><span>$\\lambda{} w_{s} \\: . \\: \\lambda{} f_{\\left\\langle{}e,t\\right\\rangle{}} \\: . \\: \\lambda{} g_{\\left\\langle{}e,t\\right\\rangle{}} \\: . \\: \\forall{} x_{e} \\: . \\: {f}({x}) \\rightarrow{} {g}({x})$</span></div></div></div></div></div><div style=\"display: table-cell;\"></div></div></div></div><div style=\"display: table-cell; padding-left:4em;\"></div><div style=\"vertical-align:bottom;display:table-cell;padding-left:5px;padding-right:5px;padding-top:5px;padding-bottom:5px;\"><div align=\"center\" style=\"display:block;padding-left:5px;padding-right:5px;padding-top:5px;padding-bottom:5px;\"><div style=\"display:table;table-layout:auto;\" align=\"center\"><div style=\"display:table-row;\"><div style=\"display:table-cell;padding-right:2px; padding-left:2px;\" align=\"center\"><div style=\"display:inline-block;\"><span>$[\\![\\text{\\textbf{cat}}]\\!]^{}_{\\left\\langle{}s,\\left\\langle{}e,t\\right\\rangle{}\\right\\rangle{}}$</span></div></div></div><div style=\"display:table-row;\"><div style=\"display:table-cell;padding-right:2px; padding-left:2px;\" align=\"center\"><div style=\"display:inline-block;\"><span>$\\lambda{} w_{s} \\: . \\: \\lambda{} x_{e} \\: . \\: {Cat}({w}, {x})$</span></div></div></div></div></div></div></div></div><div style=\"display:table-cell;\"></div></div><div style=\"display:table-row;\"><div style=\"display: table-cell;\"></div><div style=\"display:table-cell;vertical-align:middle;\"><div style=\"vertical-align:middle;height:0px;overflow:visible\"><div style=\"color:blue;transform: translateY(-1em); padding-left:0.5em;\"><b>[<span>LiftedFA</span>]</b></div></div></div></div><div align=\"center\" style=\"display:table-row;padding-left:5px;padding-right:5px;padding-top:5px;padding-bottom:5px;\"><div align=\"center\" style=\"display:block;padding-left:5px;padding-right:5px;padding-top:5px;padding-bottom:5px;\"><div style=\"display:table;table-layout:auto;\" align=\"center\"><div style=\"display:table-row;\"><div style=\"display:table-cell;padding-right:2px; padding-left:2px;\" align=\"center\"><div style=\"display:inline-block;\"><span>$[\\![\\text{\\textbf{[[every] cat]}}]\\!]^{}_{\\left\\langle{}s,\\left\\langle{}\\left\\langle{}e,t\\right\\rangle{},t\\right\\rangle{}\\right\\rangle{}}$</span></div></div></div><div style=\"display:table-row;\"><div style=\"display:table-cell;padding-right:2px; padding-left:2px;\" align=\"center\"><div style=\"display:inline-block;\"><span>$\\lambda{} w_{s} \\: . \\: \\lambda{} g_{\\left\\langle{}e,t\\right\\rangle{}} \\: . \\: \\forall{} x1_{e} \\: . \\: {Cat}({w}, {x1}) \\rightarrow{} {g}({x1})$</span></div></div></div></div></div><div style=\"display: table-cell;\"></div></div></div><br /><br />"
      ]
     },
     "execution_count": 403,
     "metadata": {},
     "output_type": "execute_result"
    }
   ],
   "source": [
    "(every * cat).tree()"
   ]
  },
  {
   "cell_type": "code",
   "execution_count": 416,
   "id": "7055306f-8c60-49c4-8658-e5fc60f04a2b",
   "metadata": {},
   "outputs": [
    {
     "data": {
      "text/markdown": [
       "1 composition path.  Result:<br />\n",
       "&nbsp;&nbsp;&nbsp;&nbsp;[0]: $[\\![\\text{\\textbf{[[[every] cat] dance]}}]\\!]^{}_{\\left\\langle{}s,t\\right\\rangle{}} \\:=\\: \\lambda{} w_{s} \\: . \\: \\forall{} x1_{e} \\: . \\: {Cat}({w}, {x1}) \\rightarrow{} {Dance}({w}, {x1})$"
      ],
      "text/plain": [
       "1 composition path.  Result:\n",
       "    [0]: ⟦[[every] cat]⟧ * ⟦dance⟧ leads to: ⟦[[[every] cat] dance]⟧ = (λ w_s: (Forall x1_e: (Cat_<(s,e),t>(w_s, x1_e) >> Dance_<(s,e),t>(w_s, x1_e)))) [by LiftedFA]"
      ]
     },
     "metadata": {},
     "output_type": "display_data"
    }
   ],
   "source": [
    "((every * cat) * dance)"
   ]
  },
  {
   "cell_type": "code",
   "execution_count": 417,
   "id": "1fd64b43-b6a5-4cc5-8117-ba4c00d4e3ab",
   "metadata": {},
   "outputs": [
    {
     "data": {
      "text/markdown": [
       "1 composition path.  Result:<br />\n",
       "&nbsp;&nbsp;&nbsp;&nbsp;[0]: $[\\![\\text{\\textbf{[might [[[every] cat] dance]]}}]\\!]^{}_{\\left\\langle{}s,t\\right\\rangle{}} \\:=\\: \\lambda{} w_{s} \\: . \\: \\exists{} w2_{s} \\: . \\: ({w2} \\in{} {Epi}_{\\left\\langle{}s,\\left\\{s\\right\\}\\right\\rangle{}}({w})) \\wedge{} (\\forall{} x1_{e} \\: . \\: {Cat}({w2}, {x1}) \\rightarrow{} {Dance}({w2}, {x1}))$"
      ],
      "text/plain": [
       "1 composition path.  Result:\n",
       "    [0]: ⟦might⟧ * ⟦[[[every] cat] dance]⟧ leads to: ⟦[might [[[every] cat] dance]]⟧ = (λ w_s: (Exists w2_s: ((w2_s << Epi_<s,{s}>(w_s)) & (Forall x1_e: (Cat_<(s,e),t>(w2_s, x1_e) >> Dance_<(s,e),t>(w2_s, x1_e)))))) [by FA]"
      ]
     },
     "metadata": {},
     "output_type": "display_data"
    }
   ],
   "source": [
    "(might * ((every * cat) * dance))"
   ]
  },
  {
   "cell_type": "markdown",
   "id": "09d01668-e7de-4f0e-9a78-b3d46795cebe",
   "metadata": {},
   "source": [
    "Higher-order non-intensional functions combine via `Unit` + repeated applications of `LiftedFA`.\n",
    "\n",
    "In principle one can define n-ary lift options that are analogues of `Unit`, for example:"
   ]
  },
  {
   "cell_type": "code",
   "execution_count": 406,
   "id": "f2fbf225-71a7-4736-9a1f-ce46e2a18d08",
   "metadata": {},
   "outputs": [
    {
     "data": {
      "text/latex": [
       "$\\lambda{} p_{t} \\: . \\: \\lambda{} q_{t} \\: . \\: {p} \\wedge{} {q}$"
      ],
      "text/plain": [
       "(λ p_t: (λ q_t: (p_t & q_t)))"
      ]
     },
     "execution_count": 406,
     "metadata": {},
     "output_type": "execute_result"
    }
   ],
   "source": [
    "and_.content"
   ]
  },
  {
   "cell_type": "code",
   "execution_count": 407,
   "id": "46a0b665-7278-48ea-8167-333cb6306580",
   "metadata": {},
   "outputs": [
    {
     "data": {
      "text/latex": [
       "$\\lambda{} f_{\\left\\langle{}X,\\left\\langle{}Y,Z\\right\\rangle{}\\right\\rangle{}} \\: . \\: \\lambda{} w_{s} \\: . \\: \\lambda{} x_{\\left\\langle{}s,X\\right\\rangle{}} \\: . \\: \\lambda{} y_{\\left\\langle{}s,Y\\right\\rangle{}} \\: . \\: {f}({x}({w}))({y}({w}))$"
      ],
      "text/plain": [
       "(λ f_<X,<Y,Z>>: (λ w_s: (λ x_<s,X>: (λ y_<s,Y>: f_<X,<Y,Z>>(x_<s,X>(w_s))(y_<s,Y>(w_s))))))"
      ]
     },
     "execution_count": 407,
     "metadata": {},
     "output_type": "execute_result"
    }
   ],
   "source": [
    "lift2 = %te L f_<X,<Y,Z>> : L w_s : L x_<s,X> : L y_<s,Y> : f(x(w))(y(w))\n",
    "lift2"
   ]
  },
  {
   "cell_type": "code",
   "execution_count": 408,
   "id": "da0b735b-b5d8-4e55-bed4-7a65fb1ef4a7",
   "metadata": {},
   "outputs": [
    {
     "data": {
      "text/latex": [
       "$\\lambda{} w_{s} \\: . \\: \\lambda{} x_{\\left\\langle{}s,t\\right\\rangle{}} \\: . \\: \\lambda{} y_{\\left\\langle{}s,t\\right\\rangle{}} \\: . \\: {x}({w}) \\wedge{} {y}({w})$"
      ],
      "text/plain": [
       "(λ w_s: (λ x_<s,t>: (λ y_<s,t>: (x_<s,t>(w_s) & y_<s,t>(w_s)))))"
      ]
     },
     "execution_count": 408,
     "metadata": {},
     "output_type": "execute_result"
    }
   ],
   "source": [
    "lifted_and = lift2(and_.content).reduce_all()\n",
    "lifted_and"
   ]
  },
  {
   "cell_type": "code",
   "execution_count": 409,
   "id": "816b57f5-bb10-494c-86ef-9e01f81046bf",
   "metadata": {},
   "outputs": [
    {
     "data": {
      "text/markdown": [
       "$[\\![\\text{\\textbf{and2}}]\\!]^{}_{\\left\\langle{}s,\\left\\langle{}\\left\\langle{}s,t\\right\\rangle{},\\left\\langle{}\\left\\langle{}s,t\\right\\rangle{},t\\right\\rangle{}\\right\\rangle{}\\right\\rangle{}} \\:=\\: \\lambda{} w_{s} \\: . \\: \\lambda{} x_{\\left\\langle{}s,t\\right\\rangle{}} \\: . \\: \\lambda{} y_{\\left\\langle{}s,t\\right\\rangle{}} \\: . \\: {x}({w}) \\wedge{} {y}({w})$"
      ],
      "text/plain": [
       "⟦and2⟧ = (λ w_s: (λ x_<s,t>: (λ y_<s,t>: (x_<s,t>(w_s) & y_<s,t>(w_s)))))"
      ]
     },
     "metadata": {},
     "output_type": "display_data"
    }
   ],
   "source": [
    "%lamb ||and2|| = (λ w_s: (λ x_<s,t>: (λ y_<s,t>: (x_<s,t>(w_s) & y_<s,t>(w_s)))))"
   ]
  },
  {
   "cell_type": "markdown",
   "id": "0f76518f-5a2f-4f7d-a788-bacb9dc6ee64",
   "metadata": {},
   "source": [
    "However, `LiftedFA` is still need to compose the result! So this isn't necessary in the present system."
   ]
  },
  {
   "cell_type": "code",
   "execution_count": 421,
   "id": "a130255a-9d71-4f8a-8627-ddd730bb0156",
   "metadata": {},
   "outputs": [
    {
     "data": {
      "text/html": [
       "1 composition path:<br /><div align=\"center\" style=\"display:table;\"><div align=\"center\" style=\"display:table-row;\"><div style=\"display:table-cell;table-layout:auto;vertical-align:bottom;border-bottom:1px solid #848482;\"><div style=\"display: table;\"><div style=\"vertical-align:bottom;display:table-cell;padding-left:5px;padding-right:5px;padding-top:5px;padding-bottom:5px;\"><div align=\"center\" style=\"display:table;\"><div align=\"center\" style=\"display:table-row;\"><div style=\"display:table-cell;table-layout:auto;vertical-align:bottom;border-bottom:1px solid #848482;\"><div style=\"display: table;\"><div style=\"vertical-align:bottom;display:table-cell;padding-left:5px;padding-right:5px;padding-top:5px;padding-bottom:5px;\"><div align=\"center\" style=\"display:table;\"><div align=\"center\" style=\"display:table-row;\"><div style=\"display:table-cell;table-layout:auto;vertical-align:bottom;border-bottom:1px solid #848482;\"><div style=\"display: table;\"><div style=\"vertical-align:bottom;display:table-cell;padding-left:5px;padding-right:5px;padding-top:5px;padding-bottom:5px;\"><div align=\"center\" style=\"display:table;\"><div align=\"center\" style=\"display:table-row;\"><div style=\"display:table-cell;table-layout:auto;vertical-align:bottom;border-bottom:1px solid #848482;\"><div style=\"display: table;\"><div style=\"vertical-align:bottom;display:table-cell;padding-left:5px;padding-right:5px;padding-top:5px;padding-bottom:5px;\"><div align=\"center\" style=\"display:block;padding-left:5px;padding-right:5px;padding-top:5px;padding-bottom:5px;\"><div style=\"display:table;table-layout:auto;\" align=\"center\"><div style=\"display:table-row;\"><div style=\"display:table-cell;padding-right:2px; padding-left:2px;\" align=\"center\"><div style=\"display:inline-block;\"><span>$[\\![\\text{\\textbf{Alfonso}}]\\!]^{}_{e}$</span></div></div></div><div style=\"display:table-row;\"><div style=\"display:table-cell;padding-right:2px; padding-left:2px;\" align=\"center\"><div style=\"display:inline-block;\"><span>${Alfonso}_{e}$</span></div></div></div></div></div></div></div></div><div style=\"display:table-cell;\"></div></div><div style=\"display:table-row;\"><div style=\"display: table-cell;\"></div><div style=\"display:table-cell;vertical-align:middle;\"><div style=\"vertical-align:middle;height:0px;overflow:visible\"><div style=\"color:blue;transform: translateY(-1em); padding-left:0.5em;\"><b>[<span>Unit</span>]</b></div></div></div></div><div align=\"center\" style=\"display:table-row;padding-left:5px;padding-right:5px;padding-top:5px;padding-bottom:5px;\"><div align=\"center\" style=\"display:block;padding-left:5px;padding-right:5px;padding-top:5px;padding-bottom:5px;\"><div style=\"display:table;table-layout:auto;\" align=\"center\"><div style=\"display:table-row;\"><div style=\"display:table-cell;padding-right:2px; padding-left:2px;\" align=\"center\"><div style=\"display:inline-block;\"><span>$[\\![\\text{\\textbf{[Alfonso]}}]\\!]^{}_{\\left\\langle{}s,e\\right\\rangle{}}$</span></div></div></div><div style=\"display:table-row;\"><div style=\"display:table-cell;padding-right:2px; padding-left:2px;\" align=\"center\"><div style=\"display:inline-block;\"><span>$\\lambda{} w_{s} \\: . \\: {Alfonso}_{e}$</span></div></div></div></div></div><div style=\"display: table-cell;\"></div></div></div></div><div style=\"display: table-cell; padding-left:4em;\"></div><div style=\"vertical-align:bottom;display:table-cell;padding-left:5px;padding-right:5px;padding-top:5px;padding-bottom:5px;\"><div align=\"center\" style=\"display:block;padding-left:5px;padding-right:5px;padding-top:5px;padding-bottom:5px;\"><div style=\"display:table;table-layout:auto;\" align=\"center\"><div style=\"display:table-row;\"><div style=\"display:table-cell;padding-right:2px; padding-left:2px;\" align=\"center\"><div style=\"display:inline-block;\"><span>$[\\![\\text{\\textbf{cat}}]\\!]^{}_{\\left\\langle{}s,\\left\\langle{}e,t\\right\\rangle{}\\right\\rangle{}}$</span></div></div></div><div style=\"display:table-row;\"><div style=\"display:table-cell;padding-right:2px; padding-left:2px;\" align=\"center\"><div style=\"display:inline-block;\"><span>$\\lambda{} w_{s} \\: . \\: \\lambda{} x_{e} \\: . \\: {Cat}({w}, {x})$</span></div></div></div></div></div></div></div></div><div style=\"display:table-cell;\"></div></div><div style=\"display:table-row;\"><div style=\"display: table-cell;\"></div><div style=\"display:table-cell;vertical-align:middle;\"><div style=\"vertical-align:middle;height:0px;overflow:visible\"><div style=\"color:blue;transform: translateY(-1em); padding-left:0.5em;\"><b>[<span>LiftedFA</span>]</b></div></div></div></div><div align=\"center\" style=\"display:table-row;padding-left:5px;padding-right:5px;padding-top:5px;padding-bottom:5px;\"><div align=\"center\" style=\"display:block;padding-left:5px;padding-right:5px;padding-top:5px;padding-bottom:5px;\"><div style=\"display:table;table-layout:auto;\" align=\"center\"><div style=\"display:table-row;\"><div style=\"display:table-cell;padding-right:2px; padding-left:2px;\" align=\"center\"><div style=\"display:inline-block;\"><span>$[\\![\\text{\\textbf{[[Alfonso] cat]}}]\\!]^{}_{\\left\\langle{}s,t\\right\\rangle{}}$</span></div></div></div><div style=\"display:table-row;\"><div style=\"display:table-cell;padding-right:2px; padding-left:2px;\" align=\"center\"><div style=\"display:inline-block;\"><span>$\\lambda{} w_{s} \\: . \\: {Cat}({w}, {Alfonso}_{e})$</span></div></div></div></div></div><div style=\"display: table-cell;\"></div></div></div></div></div></div><div style=\"display:table-cell;\"></div></div><div style=\"display:table-row;\"><div style=\"display: table-cell;\"></div><div style=\"display:table-cell;vertical-align:middle;\"><div style=\"vertical-align:middle;height:0px;overflow:visible\"><div style=\"color:blue;transform: translateY(-1em); padding-left:0.5em;\"><b>[<span>Unit</span>]</b></div></div></div></div><div align=\"center\" style=\"display:table-row;padding-left:5px;padding-right:5px;padding-top:5px;padding-bottom:5px;\"><div align=\"center\" style=\"display:block;padding-left:5px;padding-right:5px;padding-top:5px;padding-bottom:5px;\"><div style=\"display:table;table-layout:auto;\" align=\"center\"><div style=\"display:table-row;\"><div style=\"display:table-cell;padding-right:2px; padding-left:2px;\" align=\"center\"><div style=\"display:inline-block;\"><span>$[\\![\\text{\\textbf{[[[Alfonso] cat]]}}]\\!]^{}_{\\left\\langle{}s,\\left\\langle{}s,t\\right\\rangle{}\\right\\rangle{}}$</span></div></div></div><div style=\"display:table-row;\"><div style=\"display:table-cell;padding-right:2px; padding-left:2px;\" align=\"center\"><div style=\"display:inline-block;\"><span>$\\lambda{} w_{s} \\: . \\: \\lambda{} w_{s} \\: . \\: {Cat}({w}, {Alfonso}_{e})$</span></div></div></div></div></div><div style=\"display: table-cell;\"></div></div></div></div><div style=\"display: table-cell; padding-left:4em;\"></div><div style=\"vertical-align:bottom;display:table-cell;padding-left:5px;padding-right:5px;padding-top:5px;padding-bottom:5px;\"><div align=\"center\" style=\"display:table;\"><div align=\"center\" style=\"display:table-row;\"><div style=\"display:table-cell;table-layout:auto;vertical-align:bottom;border-bottom:1px solid #848482;\"><div style=\"display: table;\"><div style=\"vertical-align:bottom;display:table-cell;padding-left:5px;padding-right:5px;padding-top:5px;padding-bottom:5px;\"><div align=\"center\" style=\"display:block;padding-left:5px;padding-right:5px;padding-top:5px;padding-bottom:5px;\"><div style=\"display:table;table-layout:auto;\" align=\"center\"><div style=\"display:table-row;\"><div style=\"display:table-cell;padding-right:2px; padding-left:2px;\" align=\"center\"><div style=\"display:inline-block;\"><span>$[\\![\\text{\\textbf{and2}}]\\!]^{}_{\\left\\langle{}s,\\left\\langle{}\\left\\langle{}s,t\\right\\rangle{},\\left\\langle{}\\left\\langle{}s,t\\right\\rangle{},t\\right\\rangle{}\\right\\rangle{}\\right\\rangle{}}$</span></div></div></div><div style=\"display:table-row;\"><div style=\"display:table-cell;padding-right:2px; padding-left:2px;\" align=\"center\"><div style=\"display:inline-block;\"><span>$\\lambda{} w_{s} \\: . \\: \\lambda{} x_{\\left\\langle{}s,t\\right\\rangle{}} \\: . \\: \\lambda{} y_{\\left\\langle{}s,t\\right\\rangle{}} \\: . \\: {x}({w}) \\wedge{} {y}({w})$</span></div></div></div></div></div></div><div style=\"display: table-cell; padding-left:4em;\"></div><div style=\"vertical-align:bottom;display:table-cell;padding-left:5px;padding-right:5px;padding-top:5px;padding-bottom:5px;\"><div align=\"center\" style=\"display:table;\"><div align=\"center\" style=\"display:table-row;\"><div style=\"display:table-cell;table-layout:auto;vertical-align:bottom;border-bottom:1px solid #848482;\"><div style=\"display: table;\"><div style=\"vertical-align:bottom;display:table-cell;padding-left:5px;padding-right:5px;padding-top:5px;padding-bottom:5px;\"><div align=\"center\" style=\"display:table;\"><div align=\"center\" style=\"display:table-row;\"><div style=\"display:table-cell;table-layout:auto;vertical-align:bottom;border-bottom:1px solid #848482;\"><div style=\"display: table;\"><div style=\"vertical-align:bottom;display:table-cell;padding-left:5px;padding-right:5px;padding-top:5px;padding-bottom:5px;\"><div align=\"center\" style=\"display:block;padding-left:5px;padding-right:5px;padding-top:5px;padding-bottom:5px;\"><div style=\"display:table;table-layout:auto;\" align=\"center\"><div style=\"display:table-row;\"><div style=\"display:table-cell;padding-right:2px; padding-left:2px;\" align=\"center\"><div style=\"display:inline-block;\"><span>$[\\![\\text{\\textbf{might}}]\\!]^{}_{\\left\\langle{}\\left\\langle{}s,t\\right\\rangle{},\\left\\langle{}s,t\\right\\rangle{}\\right\\rangle{}}$</span></div></div></div><div style=\"display:table-row;\"><div style=\"display:table-cell;padding-right:2px; padding-left:2px;\" align=\"center\"><div style=\"display:inline-block;\"><span>$\\lambda{} p_{\\left\\langle{}s,t\\right\\rangle{}} \\: . \\: \\lambda{} w_{s} \\: . \\: \\exists{} w2_{s} \\: . \\: ({w2} \\in{} {Epi}_{\\left\\langle{}s,\\left\\{s\\right\\}\\right\\rangle{}}({w})) \\wedge{} {p}({w2})$</span></div></div></div></div></div></div><div style=\"display: table-cell; padding-left:4em;\"></div><div style=\"vertical-align:bottom;display:table-cell;padding-left:5px;padding-right:5px;padding-top:5px;padding-bottom:5px;\"><div align=\"center\" style=\"display:table;\"><div align=\"center\" style=\"display:table-row;\"><div style=\"display:table-cell;table-layout:auto;vertical-align:bottom;border-bottom:1px solid #848482;\"><div style=\"display: table;\"><div style=\"vertical-align:bottom;display:table-cell;padding-left:5px;padding-right:5px;padding-top:5px;padding-bottom:5px;\"><div align=\"center\" style=\"display:table;\"><div align=\"center\" style=\"display:table-row;\"><div style=\"display:table-cell;table-layout:auto;vertical-align:bottom;border-bottom:1px solid #848482;\"><div style=\"display: table;\"><div style=\"vertical-align:bottom;display:table-cell;padding-left:5px;padding-right:5px;padding-top:5px;padding-bottom:5px;\"><div align=\"center\" style=\"display:block;padding-left:5px;padding-right:5px;padding-top:5px;padding-bottom:5px;\"><div style=\"display:table;table-layout:auto;\" align=\"center\"><div style=\"display:table-row;\"><div style=\"display:table-cell;padding-right:2px; padding-left:2px;\" align=\"center\"><div style=\"display:inline-block;\"><span>$[\\![\\text{\\textbf{Alfonso}}]\\!]^{}_{e}$</span></div></div></div><div style=\"display:table-row;\"><div style=\"display:table-cell;padding-right:2px; padding-left:2px;\" align=\"center\"><div style=\"display:inline-block;\"><span>${Alfonso}_{e}$</span></div></div></div></div></div></div></div></div><div style=\"display:table-cell;\"></div></div><div style=\"display:table-row;\"><div style=\"display: table-cell;\"></div><div style=\"display:table-cell;vertical-align:middle;\"><div style=\"vertical-align:middle;height:0px;overflow:visible\"><div style=\"color:blue;transform: translateY(-1em); padding-left:0.5em;\"><b>[<span>Unit</span>]</b></div></div></div></div><div align=\"center\" style=\"display:table-row;padding-left:5px;padding-right:5px;padding-top:5px;padding-bottom:5px;\"><div align=\"center\" style=\"display:block;padding-left:5px;padding-right:5px;padding-top:5px;padding-bottom:5px;\"><div style=\"display:table;table-layout:auto;\" align=\"center\"><div style=\"display:table-row;\"><div style=\"display:table-cell;padding-right:2px; padding-left:2px;\" align=\"center\"><div style=\"display:inline-block;\"><span>$[\\![\\text{\\textbf{[Alfonso]}}]\\!]^{}_{\\left\\langle{}s,e\\right\\rangle{}}$</span></div></div></div><div style=\"display:table-row;\"><div style=\"display:table-cell;padding-right:2px; padding-left:2px;\" align=\"center\"><div style=\"display:inline-block;\"><span>$\\lambda{} w_{s} \\: . \\: {Alfonso}_{e}$</span></div></div></div></div></div><div style=\"display: table-cell;\"></div></div></div></div><div style=\"display: table-cell; padding-left:4em;\"></div><div style=\"vertical-align:bottom;display:table-cell;padding-left:5px;padding-right:5px;padding-top:5px;padding-bottom:5px;\"><div align=\"center\" style=\"display:block;padding-left:5px;padding-right:5px;padding-top:5px;padding-bottom:5px;\"><div style=\"display:table;table-layout:auto;\" align=\"center\"><div style=\"display:table-row;\"><div style=\"display:table-cell;padding-right:2px; padding-left:2px;\" align=\"center\"><div style=\"display:inline-block;\"><span>$[\\![\\text{\\textbf{dance}}]\\!]^{}_{\\left\\langle{}s,\\left\\langle{}e,t\\right\\rangle{}\\right\\rangle{}}$</span></div></div></div><div style=\"display:table-row;\"><div style=\"display:table-cell;padding-right:2px; padding-left:2px;\" align=\"center\"><div style=\"display:inline-block;\"><span>$\\lambda{} w_{s} \\: . \\: \\lambda{} x_{e} \\: . \\: {Dance}({w}, {x})$</span></div></div></div></div></div></div></div></div><div style=\"display:table-cell;\"></div></div><div style=\"display:table-row;\"><div style=\"display: table-cell;\"></div><div style=\"display:table-cell;vertical-align:middle;\"><div style=\"vertical-align:middle;height:0px;overflow:visible\"><div style=\"color:blue;transform: translateY(-1em); padding-left:0.5em;\"><b>[<span>LiftedFA</span>]</b></div></div></div></div><div align=\"center\" style=\"display:table-row;padding-left:5px;padding-right:5px;padding-top:5px;padding-bottom:5px;\"><div align=\"center\" style=\"display:block;padding-left:5px;padding-right:5px;padding-top:5px;padding-bottom:5px;\"><div style=\"display:table;table-layout:auto;\" align=\"center\"><div style=\"display:table-row;\"><div style=\"display:table-cell;padding-right:2px; padding-left:2px;\" align=\"center\"><div style=\"display:inline-block;\"><span>$[\\![\\text{\\textbf{[[Alfonso] dance]}}]\\!]^{}_{\\left\\langle{}s,t\\right\\rangle{}}$</span></div></div></div><div style=\"display:table-row;\"><div style=\"display:table-cell;padding-right:2px; padding-left:2px;\" align=\"center\"><div style=\"display:inline-block;\"><span>$\\lambda{} w_{s} \\: . \\: {Dance}({w}, {Alfonso}_{e})$</span></div></div></div></div></div><div style=\"display: table-cell;\"></div></div></div></div></div></div><div style=\"display:table-cell;\"></div></div><div style=\"display:table-row;\"><div style=\"display: table-cell;\"></div><div style=\"display:table-cell;vertical-align:middle;\"><div style=\"vertical-align:middle;height:0px;overflow:visible\"><div style=\"color:blue;transform: translateY(-1em); padding-left:0.5em;\"><b>[<span>FA</span>]</b></div></div></div></div><div align=\"center\" style=\"display:table-row;padding-left:5px;padding-right:5px;padding-top:5px;padding-bottom:5px;\"><div align=\"center\" style=\"display:block;padding-left:5px;padding-right:5px;padding-top:5px;padding-bottom:5px;\"><div style=\"display:table;table-layout:auto;\" align=\"center\"><div style=\"display:table-row;\"><div style=\"display:table-cell;padding-right:2px; padding-left:2px;\" align=\"center\"><div style=\"display:inline-block;\"><span>$[\\![\\text{\\textbf{[might [[Alfonso] dance]]}}]\\!]^{}_{\\left\\langle{}s,t\\right\\rangle{}}$</span></div></div></div><div style=\"display:table-row;\"><div style=\"display:table-cell;padding-right:2px; padding-left:2px;\" align=\"center\"><div style=\"display:inline-block;\"><span>$\\lambda{} w_{s} \\: . \\: \\exists{} w2_{s} \\: . \\: ({w2} \\in{} {Epi}_{\\left\\langle{}s,\\left\\{s\\right\\}\\right\\rangle{}}({w})) \\wedge{} {Dance}({w2}, {Alfonso}_{e})$</span></div></div></div></div></div><div style=\"display: table-cell;\"></div></div></div></div></div></div><div style=\"display:table-cell;\"></div></div><div style=\"display:table-row;\"><div style=\"display: table-cell;\"></div><div style=\"display:table-cell;vertical-align:middle;\"><div style=\"vertical-align:middle;height:0px;overflow:visible\"><div style=\"color:blue;transform: translateY(-1em); padding-left:0.5em;\"><b>[<span>Unit</span>]</b></div></div></div></div><div align=\"center\" style=\"display:table-row;padding-left:5px;padding-right:5px;padding-top:5px;padding-bottom:5px;\"><div align=\"center\" style=\"display:block;padding-left:5px;padding-right:5px;padding-top:5px;padding-bottom:5px;\"><div style=\"display:table;table-layout:auto;\" align=\"center\"><div style=\"display:table-row;\"><div style=\"display:table-cell;padding-right:2px; padding-left:2px;\" align=\"center\"><div style=\"display:inline-block;\"><span>$[\\![\\text{\\textbf{[[might [[Alfonso] dance]]]}}]\\!]^{}_{\\left\\langle{}s,\\left\\langle{}s,t\\right\\rangle{}\\right\\rangle{}}$</span></div></div></div><div style=\"display:table-row;\"><div style=\"display:table-cell;padding-right:2px; padding-left:2px;\" align=\"center\"><div style=\"display:inline-block;\"><span>$\\lambda{} w_{s} \\: . \\: \\lambda{} w_{s} \\: . \\: \\exists{} w2_{s} \\: . \\: ({w2} \\in{} {Epi}_{\\left\\langle{}s,\\left\\{s\\right\\}\\right\\rangle{}}({w})) \\wedge{} {Dance}({w2}, {Alfonso}_{e})$</span></div></div></div></div></div><div style=\"display: table-cell;\"></div></div></div></div></div></div><div style=\"display:table-cell;\"></div></div><div style=\"display:table-row;\"><div style=\"display: table-cell;\"></div><div style=\"display:table-cell;vertical-align:middle;\"><div style=\"vertical-align:middle;height:0px;overflow:visible\"><div style=\"color:blue;transform: translateY(-1em); padding-left:0.5em;\"><b>[<span>LiftedFA</span>]</b></div></div></div></div><div align=\"center\" style=\"display:table-row;padding-left:5px;padding-right:5px;padding-top:5px;padding-bottom:5px;\"><div align=\"center\" style=\"display:block;padding-left:5px;padding-right:5px;padding-top:5px;padding-bottom:5px;\"><div style=\"display:table;table-layout:auto;\" align=\"center\"><div style=\"display:table-row;\"><div style=\"display:table-cell;padding-right:2px; padding-left:2px;\" align=\"center\"><div style=\"display:inline-block;\"><span>$[\\![\\text{\\textbf{[and2 [[might [[Alfonso] dance]]]]}}]\\!]^{}_{\\left\\langle{}s,\\left\\langle{}\\left\\langle{}s,t\\right\\rangle{},t\\right\\rangle{}\\right\\rangle{}}$</span></div></div></div><div style=\"display:table-row;\"><div style=\"display:table-cell;padding-right:2px; padding-left:2px;\" align=\"center\"><div style=\"display:inline-block;\"><span>$\\lambda{} w_{s} \\: . \\: \\lambda{} y_{\\left\\langle{}s,t\\right\\rangle{}} \\: . \\: {y}({w}) \\wedge{} (\\exists{} w2_{s} \\: . \\: ({w2} \\in{} {Epi}_{\\left\\langle{}s,\\left\\{s\\right\\}\\right\\rangle{}}({w})) \\wedge{} {Dance}({w2}, {Alfonso}_{e}))$</span></div></div></div></div></div><div style=\"display: table-cell;\"></div></div></div></div></div></div><div style=\"display:table-cell;\"></div></div><div style=\"display:table-row;\"><div style=\"display: table-cell;\"></div><div style=\"display:table-cell;vertical-align:middle;\"><div style=\"vertical-align:middle;height:0px;overflow:visible\"><div style=\"color:blue;transform: translateY(-1em); padding-left:0.5em;\"><b>[<span>LiftedFA</span>]</b></div></div></div></div><div align=\"center\" style=\"display:table-row;padding-left:5px;padding-right:5px;padding-top:5px;padding-bottom:5px;\"><div align=\"center\" style=\"display:block;padding-left:5px;padding-right:5px;padding-top:5px;padding-bottom:5px;\"><div style=\"display:table;table-layout:auto;\" align=\"center\"><div style=\"display:table-row;\"><div style=\"display:table-cell;padding-right:2px; padding-left:2px;\" align=\"center\"><div style=\"display:inline-block;\"><span>$[\\![\\text{\\textbf{[[[[Alfonso] cat]] [and2 [[might [[Alfonso] dance]]]]]}}]\\!]^{}_{\\left\\langle{}s,t\\right\\rangle{}}$</span></div></div></div><div style=\"display:table-row;\"><div style=\"display:table-cell;padding-right:2px; padding-left:2px;\" align=\"center\"><div style=\"display:inline-block;\"><span>$\\lambda{} w_{s} \\: . \\: {Cat}({w}, {Alfonso}_{e}) \\wedge{} (\\exists{} w2_{s} \\: . \\: ({w2} \\in{} {Epi}_{\\left\\langle{}s,\\left\\{s\\right\\}\\right\\rangle{}}({w})) \\wedge{} {Dance}({w2}, {Alfonso}_{e}))$</span></div></div></div></div></div><div style=\"display: table-cell;\"></div></div></div><br /><br />"
      ],
      "text/plain": [
       "1 composition path:<br /><div align=\"center\" style=\"display:table;\"><div align=\"center\" style=\"display:table-row;\"><div style=\"display:table-cell;table-layout:auto;vertical-align:bottom;border-bottom:1px solid #848482;\"><div style=\"display: table;\"><div style=\"vertical-align:bottom;display:table-cell;padding-left:5px;padding-right:5px;padding-top:5px;padding-bottom:5px;\"><div align=\"center\" style=\"display:table;\"><div align=\"center\" style=\"display:table-row;\"><div style=\"display:table-cell;table-layout:auto;vertical-align:bottom;border-bottom:1px solid #848482;\"><div style=\"display: table;\"><div style=\"vertical-align:bottom;display:table-cell;padding-left:5px;padding-right:5px;padding-top:5px;padding-bottom:5px;\"><div align=\"center\" style=\"display:table;\"><div align=\"center\" style=\"display:table-row;\"><div style=\"display:table-cell;table-layout:auto;vertical-align:bottom;border-bottom:1px solid #848482;\"><div style=\"display: table;\"><div style=\"vertical-align:bottom;display:table-cell;padding-left:5px;padding-right:5px;padding-top:5px;padding-bottom:5px;\"><div align=\"center\" style=\"display:table;\"><div align=\"center\" style=\"display:table-row;\"><div style=\"display:table-cell;table-layout:auto;vertical-align:bottom;border-bottom:1px solid #848482;\"><div style=\"display: table;\"><div style=\"vertical-align:bottom;display:table-cell;padding-left:5px;padding-right:5px;padding-top:5px;padding-bottom:5px;\"><div align=\"center\" style=\"display:block;padding-left:5px;padding-right:5px;padding-top:5px;padding-bottom:5px;\"><div style=\"display:table;table-layout:auto;\" align=\"center\"><div style=\"display:table-row;\"><div style=\"display:table-cell;padding-right:2px; padding-left:2px;\" align=\"center\"><div style=\"display:inline-block;\"><span>$[\\![\\text{\\textbf{Alfonso}}]\\!]^{}_{e}$</span></div></div></div><div style=\"display:table-row;\"><div style=\"display:table-cell;padding-right:2px; padding-left:2px;\" align=\"center\"><div style=\"display:inline-block;\"><span>${Alfonso}_{e}$</span></div></div></div></div></div></div></div></div><div style=\"display:table-cell;\"></div></div><div style=\"display:table-row;\"><div style=\"display: table-cell;\"></div><div style=\"display:table-cell;vertical-align:middle;\"><div style=\"vertical-align:middle;height:0px;overflow:visible\"><div style=\"color:blue;transform: translateY(-1em); padding-left:0.5em;\"><b>[<span>Unit</span>]</b></div></div></div></div><div align=\"center\" style=\"display:table-row;padding-left:5px;padding-right:5px;padding-top:5px;padding-bottom:5px;\"><div align=\"center\" style=\"display:block;padding-left:5px;padding-right:5px;padding-top:5px;padding-bottom:5px;\"><div style=\"display:table;table-layout:auto;\" align=\"center\"><div style=\"display:table-row;\"><div style=\"display:table-cell;padding-right:2px; padding-left:2px;\" align=\"center\"><div style=\"display:inline-block;\"><span>$[\\![\\text{\\textbf{[Alfonso]}}]\\!]^{}_{\\left\\langle{}s,e\\right\\rangle{}}$</span></div></div></div><div style=\"display:table-row;\"><div style=\"display:table-cell;padding-right:2px; padding-left:2px;\" align=\"center\"><div style=\"display:inline-block;\"><span>$\\lambda{} w_{s} \\: . \\: {Alfonso}_{e}$</span></div></div></div></div></div><div style=\"display: table-cell;\"></div></div></div></div><div style=\"display: table-cell; padding-left:4em;\"></div><div style=\"vertical-align:bottom;display:table-cell;padding-left:5px;padding-right:5px;padding-top:5px;padding-bottom:5px;\"><div align=\"center\" style=\"display:block;padding-left:5px;padding-right:5px;padding-top:5px;padding-bottom:5px;\"><div style=\"display:table;table-layout:auto;\" align=\"center\"><div style=\"display:table-row;\"><div style=\"display:table-cell;padding-right:2px; padding-left:2px;\" align=\"center\"><div style=\"display:inline-block;\"><span>$[\\![\\text{\\textbf{cat}}]\\!]^{}_{\\left\\langle{}s,\\left\\langle{}e,t\\right\\rangle{}\\right\\rangle{}}$</span></div></div></div><div style=\"display:table-row;\"><div style=\"display:table-cell;padding-right:2px; padding-left:2px;\" align=\"center\"><div style=\"display:inline-block;\"><span>$\\lambda{} w_{s} \\: . \\: \\lambda{} x_{e} \\: . \\: {Cat}({w}, {x})$</span></div></div></div></div></div></div></div></div><div style=\"display:table-cell;\"></div></div><div style=\"display:table-row;\"><div style=\"display: table-cell;\"></div><div style=\"display:table-cell;vertical-align:middle;\"><div style=\"vertical-align:middle;height:0px;overflow:visible\"><div style=\"color:blue;transform: translateY(-1em); padding-left:0.5em;\"><b>[<span>LiftedFA</span>]</b></div></div></div></div><div align=\"center\" style=\"display:table-row;padding-left:5px;padding-right:5px;padding-top:5px;padding-bottom:5px;\"><div align=\"center\" style=\"display:block;padding-left:5px;padding-right:5px;padding-top:5px;padding-bottom:5px;\"><div style=\"display:table;table-layout:auto;\" align=\"center\"><div style=\"display:table-row;\"><div style=\"display:table-cell;padding-right:2px; padding-left:2px;\" align=\"center\"><div style=\"display:inline-block;\"><span>$[\\![\\text{\\textbf{[[Alfonso] cat]}}]\\!]^{}_{\\left\\langle{}s,t\\right\\rangle{}}$</span></div></div></div><div style=\"display:table-row;\"><div style=\"display:table-cell;padding-right:2px; padding-left:2px;\" align=\"center\"><div style=\"display:inline-block;\"><span>$\\lambda{} w_{s} \\: . \\: {Cat}({w}, {Alfonso}_{e})$</span></div></div></div></div></div><div style=\"display: table-cell;\"></div></div></div></div></div></div><div style=\"display:table-cell;\"></div></div><div style=\"display:table-row;\"><div style=\"display: table-cell;\"></div><div style=\"display:table-cell;vertical-align:middle;\"><div style=\"vertical-align:middle;height:0px;overflow:visible\"><div style=\"color:blue;transform: translateY(-1em); padding-left:0.5em;\"><b>[<span>Unit</span>]</b></div></div></div></div><div align=\"center\" style=\"display:table-row;padding-left:5px;padding-right:5px;padding-top:5px;padding-bottom:5px;\"><div align=\"center\" style=\"display:block;padding-left:5px;padding-right:5px;padding-top:5px;padding-bottom:5px;\"><div style=\"display:table;table-layout:auto;\" align=\"center\"><div style=\"display:table-row;\"><div style=\"display:table-cell;padding-right:2px; padding-left:2px;\" align=\"center\"><div style=\"display:inline-block;\"><span>$[\\![\\text{\\textbf{[[[Alfonso] cat]]}}]\\!]^{}_{\\left\\langle{}s,\\left\\langle{}s,t\\right\\rangle{}\\right\\rangle{}}$</span></div></div></div><div style=\"display:table-row;\"><div style=\"display:table-cell;padding-right:2px; padding-left:2px;\" align=\"center\"><div style=\"display:inline-block;\"><span>$\\lambda{} w_{s} \\: . \\: \\lambda{} w_{s} \\: . \\: {Cat}({w}, {Alfonso}_{e})$</span></div></div></div></div></div><div style=\"display: table-cell;\"></div></div></div></div><div style=\"display: table-cell; padding-left:4em;\"></div><div style=\"vertical-align:bottom;display:table-cell;padding-left:5px;padding-right:5px;padding-top:5px;padding-bottom:5px;\"><div align=\"center\" style=\"display:table;\"><div align=\"center\" style=\"display:table-row;\"><div style=\"display:table-cell;table-layout:auto;vertical-align:bottom;border-bottom:1px solid #848482;\"><div style=\"display: table;\"><div style=\"vertical-align:bottom;display:table-cell;padding-left:5px;padding-right:5px;padding-top:5px;padding-bottom:5px;\"><div align=\"center\" style=\"display:block;padding-left:5px;padding-right:5px;padding-top:5px;padding-bottom:5px;\"><div style=\"display:table;table-layout:auto;\" align=\"center\"><div style=\"display:table-row;\"><div style=\"display:table-cell;padding-right:2px; padding-left:2px;\" align=\"center\"><div style=\"display:inline-block;\"><span>$[\\![\\text{\\textbf{and2}}]\\!]^{}_{\\left\\langle{}s,\\left\\langle{}\\left\\langle{}s,t\\right\\rangle{},\\left\\langle{}\\left\\langle{}s,t\\right\\rangle{},t\\right\\rangle{}\\right\\rangle{}\\right\\rangle{}}$</span></div></div></div><div style=\"display:table-row;\"><div style=\"display:table-cell;padding-right:2px; padding-left:2px;\" align=\"center\"><div style=\"display:inline-block;\"><span>$\\lambda{} w_{s} \\: . \\: \\lambda{} x_{\\left\\langle{}s,t\\right\\rangle{}} \\: . \\: \\lambda{} y_{\\left\\langle{}s,t\\right\\rangle{}} \\: . \\: {x}({w}) \\wedge{} {y}({w})$</span></div></div></div></div></div></div><div style=\"display: table-cell; padding-left:4em;\"></div><div style=\"vertical-align:bottom;display:table-cell;padding-left:5px;padding-right:5px;padding-top:5px;padding-bottom:5px;\"><div align=\"center\" style=\"display:table;\"><div align=\"center\" style=\"display:table-row;\"><div style=\"display:table-cell;table-layout:auto;vertical-align:bottom;border-bottom:1px solid #848482;\"><div style=\"display: table;\"><div style=\"vertical-align:bottom;display:table-cell;padding-left:5px;padding-right:5px;padding-top:5px;padding-bottom:5px;\"><div align=\"center\" style=\"display:table;\"><div align=\"center\" style=\"display:table-row;\"><div style=\"display:table-cell;table-layout:auto;vertical-align:bottom;border-bottom:1px solid #848482;\"><div style=\"display: table;\"><div style=\"vertical-align:bottom;display:table-cell;padding-left:5px;padding-right:5px;padding-top:5px;padding-bottom:5px;\"><div align=\"center\" style=\"display:block;padding-left:5px;padding-right:5px;padding-top:5px;padding-bottom:5px;\"><div style=\"display:table;table-layout:auto;\" align=\"center\"><div style=\"display:table-row;\"><div style=\"display:table-cell;padding-right:2px; padding-left:2px;\" align=\"center\"><div style=\"display:inline-block;\"><span>$[\\![\\text{\\textbf{might}}]\\!]^{}_{\\left\\langle{}\\left\\langle{}s,t\\right\\rangle{},\\left\\langle{}s,t\\right\\rangle{}\\right\\rangle{}}$</span></div></div></div><div style=\"display:table-row;\"><div style=\"display:table-cell;padding-right:2px; padding-left:2px;\" align=\"center\"><div style=\"display:inline-block;\"><span>$\\lambda{} p_{\\left\\langle{}s,t\\right\\rangle{}} \\: . \\: \\lambda{} w_{s} \\: . \\: \\exists{} w2_{s} \\: . \\: ({w2} \\in{} {Epi}_{\\left\\langle{}s,\\left\\{s\\right\\}\\right\\rangle{}}({w})) \\wedge{} {p}({w2})$</span></div></div></div></div></div></div><div style=\"display: table-cell; padding-left:4em;\"></div><div style=\"vertical-align:bottom;display:table-cell;padding-left:5px;padding-right:5px;padding-top:5px;padding-bottom:5px;\"><div align=\"center\" style=\"display:table;\"><div align=\"center\" style=\"display:table-row;\"><div style=\"display:table-cell;table-layout:auto;vertical-align:bottom;border-bottom:1px solid #848482;\"><div style=\"display: table;\"><div style=\"vertical-align:bottom;display:table-cell;padding-left:5px;padding-right:5px;padding-top:5px;padding-bottom:5px;\"><div align=\"center\" style=\"display:table;\"><div align=\"center\" style=\"display:table-row;\"><div style=\"display:table-cell;table-layout:auto;vertical-align:bottom;border-bottom:1px solid #848482;\"><div style=\"display: table;\"><div style=\"vertical-align:bottom;display:table-cell;padding-left:5px;padding-right:5px;padding-top:5px;padding-bottom:5px;\"><div align=\"center\" style=\"display:block;padding-left:5px;padding-right:5px;padding-top:5px;padding-bottom:5px;\"><div style=\"display:table;table-layout:auto;\" align=\"center\"><div style=\"display:table-row;\"><div style=\"display:table-cell;padding-right:2px; padding-left:2px;\" align=\"center\"><div style=\"display:inline-block;\"><span>$[\\![\\text{\\textbf{Alfonso}}]\\!]^{}_{e}$</span></div></div></div><div style=\"display:table-row;\"><div style=\"display:table-cell;padding-right:2px; padding-left:2px;\" align=\"center\"><div style=\"display:inline-block;\"><span>${Alfonso}_{e}$</span></div></div></div></div></div></div></div></div><div style=\"display:table-cell;\"></div></div><div style=\"display:table-row;\"><div style=\"display: table-cell;\"></div><div style=\"display:table-cell;vertical-align:middle;\"><div style=\"vertical-align:middle;height:0px;overflow:visible\"><div style=\"color:blue;transform: translateY(-1em); padding-left:0.5em;\"><b>[<span>Unit</span>]</b></div></div></div></div><div align=\"center\" style=\"display:table-row;padding-left:5px;padding-right:5px;padding-top:5px;padding-bottom:5px;\"><div align=\"center\" style=\"display:block;padding-left:5px;padding-right:5px;padding-top:5px;padding-bottom:5px;\"><div style=\"display:table;table-layout:auto;\" align=\"center\"><div style=\"display:table-row;\"><div style=\"display:table-cell;padding-right:2px; padding-left:2px;\" align=\"center\"><div style=\"display:inline-block;\"><span>$[\\![\\text{\\textbf{[Alfonso]}}]\\!]^{}_{\\left\\langle{}s,e\\right\\rangle{}}$</span></div></div></div><div style=\"display:table-row;\"><div style=\"display:table-cell;padding-right:2px; padding-left:2px;\" align=\"center\"><div style=\"display:inline-block;\"><span>$\\lambda{} w_{s} \\: . \\: {Alfonso}_{e}$</span></div></div></div></div></div><div style=\"display: table-cell;\"></div></div></div></div><div style=\"display: table-cell; padding-left:4em;\"></div><div style=\"vertical-align:bottom;display:table-cell;padding-left:5px;padding-right:5px;padding-top:5px;padding-bottom:5px;\"><div align=\"center\" style=\"display:block;padding-left:5px;padding-right:5px;padding-top:5px;padding-bottom:5px;\"><div style=\"display:table;table-layout:auto;\" align=\"center\"><div style=\"display:table-row;\"><div style=\"display:table-cell;padding-right:2px; padding-left:2px;\" align=\"center\"><div style=\"display:inline-block;\"><span>$[\\![\\text{\\textbf{dance}}]\\!]^{}_{\\left\\langle{}s,\\left\\langle{}e,t\\right\\rangle{}\\right\\rangle{}}$</span></div></div></div><div style=\"display:table-row;\"><div style=\"display:table-cell;padding-right:2px; padding-left:2px;\" align=\"center\"><div style=\"display:inline-block;\"><span>$\\lambda{} w_{s} \\: . \\: \\lambda{} x_{e} \\: . \\: {Dance}({w}, {x})$</span></div></div></div></div></div></div></div></div><div style=\"display:table-cell;\"></div></div><div style=\"display:table-row;\"><div style=\"display: table-cell;\"></div><div style=\"display:table-cell;vertical-align:middle;\"><div style=\"vertical-align:middle;height:0px;overflow:visible\"><div style=\"color:blue;transform: translateY(-1em); padding-left:0.5em;\"><b>[<span>LiftedFA</span>]</b></div></div></div></div><div align=\"center\" style=\"display:table-row;padding-left:5px;padding-right:5px;padding-top:5px;padding-bottom:5px;\"><div align=\"center\" style=\"display:block;padding-left:5px;padding-right:5px;padding-top:5px;padding-bottom:5px;\"><div style=\"display:table;table-layout:auto;\" align=\"center\"><div style=\"display:table-row;\"><div style=\"display:table-cell;padding-right:2px; padding-left:2px;\" align=\"center\"><div style=\"display:inline-block;\"><span>$[\\![\\text{\\textbf{[[Alfonso] dance]}}]\\!]^{}_{\\left\\langle{}s,t\\right\\rangle{}}$</span></div></div></div><div style=\"display:table-row;\"><div style=\"display:table-cell;padding-right:2px; padding-left:2px;\" align=\"center\"><div style=\"display:inline-block;\"><span>$\\lambda{} w_{s} \\: . \\: {Dance}({w}, {Alfonso}_{e})$</span></div></div></div></div></div><div style=\"display: table-cell;\"></div></div></div></div></div></div><div style=\"display:table-cell;\"></div></div><div style=\"display:table-row;\"><div style=\"display: table-cell;\"></div><div style=\"display:table-cell;vertical-align:middle;\"><div style=\"vertical-align:middle;height:0px;overflow:visible\"><div style=\"color:blue;transform: translateY(-1em); padding-left:0.5em;\"><b>[<span>FA</span>]</b></div></div></div></div><div align=\"center\" style=\"display:table-row;padding-left:5px;padding-right:5px;padding-top:5px;padding-bottom:5px;\"><div align=\"center\" style=\"display:block;padding-left:5px;padding-right:5px;padding-top:5px;padding-bottom:5px;\"><div style=\"display:table;table-layout:auto;\" align=\"center\"><div style=\"display:table-row;\"><div style=\"display:table-cell;padding-right:2px; padding-left:2px;\" align=\"center\"><div style=\"display:inline-block;\"><span>$[\\![\\text{\\textbf{[might [[Alfonso] dance]]}}]\\!]^{}_{\\left\\langle{}s,t\\right\\rangle{}}$</span></div></div></div><div style=\"display:table-row;\"><div style=\"display:table-cell;padding-right:2px; padding-left:2px;\" align=\"center\"><div style=\"display:inline-block;\"><span>$\\lambda{} w_{s} \\: . \\: \\exists{} w2_{s} \\: . \\: ({w2} \\in{} {Epi}_{\\left\\langle{}s,\\left\\{s\\right\\}\\right\\rangle{}}({w})) \\wedge{} {Dance}({w2}, {Alfonso}_{e})$</span></div></div></div></div></div><div style=\"display: table-cell;\"></div></div></div></div></div></div><div style=\"display:table-cell;\"></div></div><div style=\"display:table-row;\"><div style=\"display: table-cell;\"></div><div style=\"display:table-cell;vertical-align:middle;\"><div style=\"vertical-align:middle;height:0px;overflow:visible\"><div style=\"color:blue;transform: translateY(-1em); padding-left:0.5em;\"><b>[<span>Unit</span>]</b></div></div></div></div><div align=\"center\" style=\"display:table-row;padding-left:5px;padding-right:5px;padding-top:5px;padding-bottom:5px;\"><div align=\"center\" style=\"display:block;padding-left:5px;padding-right:5px;padding-top:5px;padding-bottom:5px;\"><div style=\"display:table;table-layout:auto;\" align=\"center\"><div style=\"display:table-row;\"><div style=\"display:table-cell;padding-right:2px; padding-left:2px;\" align=\"center\"><div style=\"display:inline-block;\"><span>$[\\![\\text{\\textbf{[[might [[Alfonso] dance]]]}}]\\!]^{}_{\\left\\langle{}s,\\left\\langle{}s,t\\right\\rangle{}\\right\\rangle{}}$</span></div></div></div><div style=\"display:table-row;\"><div style=\"display:table-cell;padding-right:2px; padding-left:2px;\" align=\"center\"><div style=\"display:inline-block;\"><span>$\\lambda{} w_{s} \\: . \\: \\lambda{} w_{s} \\: . \\: \\exists{} w2_{s} \\: . \\: ({w2} \\in{} {Epi}_{\\left\\langle{}s,\\left\\{s\\right\\}\\right\\rangle{}}({w})) \\wedge{} {Dance}({w2}, {Alfonso}_{e})$</span></div></div></div></div></div><div style=\"display: table-cell;\"></div></div></div></div></div></div><div style=\"display:table-cell;\"></div></div><div style=\"display:table-row;\"><div style=\"display: table-cell;\"></div><div style=\"display:table-cell;vertical-align:middle;\"><div style=\"vertical-align:middle;height:0px;overflow:visible\"><div style=\"color:blue;transform: translateY(-1em); padding-left:0.5em;\"><b>[<span>LiftedFA</span>]</b></div></div></div></div><div align=\"center\" style=\"display:table-row;padding-left:5px;padding-right:5px;padding-top:5px;padding-bottom:5px;\"><div align=\"center\" style=\"display:block;padding-left:5px;padding-right:5px;padding-top:5px;padding-bottom:5px;\"><div style=\"display:table;table-layout:auto;\" align=\"center\"><div style=\"display:table-row;\"><div style=\"display:table-cell;padding-right:2px; padding-left:2px;\" align=\"center\"><div style=\"display:inline-block;\"><span>$[\\![\\text{\\textbf{[and2 [[might [[Alfonso] dance]]]]}}]\\!]^{}_{\\left\\langle{}s,\\left\\langle{}\\left\\langle{}s,t\\right\\rangle{},t\\right\\rangle{}\\right\\rangle{}}$</span></div></div></div><div style=\"display:table-row;\"><div style=\"display:table-cell;padding-right:2px; padding-left:2px;\" align=\"center\"><div style=\"display:inline-block;\"><span>$\\lambda{} w_{s} \\: . \\: \\lambda{} y_{\\left\\langle{}s,t\\right\\rangle{}} \\: . \\: {y}({w}) \\wedge{} (\\exists{} w2_{s} \\: . \\: ({w2} \\in{} {Epi}_{\\left\\langle{}s,\\left\\{s\\right\\}\\right\\rangle{}}({w})) \\wedge{} {Dance}({w2}, {Alfonso}_{e}))$</span></div></div></div></div></div><div style=\"display: table-cell;\"></div></div></div></div></div></div><div style=\"display:table-cell;\"></div></div><div style=\"display:table-row;\"><div style=\"display: table-cell;\"></div><div style=\"display:table-cell;vertical-align:middle;\"><div style=\"vertical-align:middle;height:0px;overflow:visible\"><div style=\"color:blue;transform: translateY(-1em); padding-left:0.5em;\"><b>[<span>LiftedFA</span>]</b></div></div></div></div><div align=\"center\" style=\"display:table-row;padding-left:5px;padding-right:5px;padding-top:5px;padding-bottom:5px;\"><div align=\"center\" style=\"display:block;padding-left:5px;padding-right:5px;padding-top:5px;padding-bottom:5px;\"><div style=\"display:table;table-layout:auto;\" align=\"center\"><div style=\"display:table-row;\"><div style=\"display:table-cell;padding-right:2px; padding-left:2px;\" align=\"center\"><div style=\"display:inline-block;\"><span>$[\\![\\text{\\textbf{[[[[Alfonso] cat]] [and2 [[might [[Alfonso] dance]]]]]}}]\\!]^{}_{\\left\\langle{}s,t\\right\\rangle{}}$</span></div></div></div><div style=\"display:table-row;\"><div style=\"display:table-cell;padding-right:2px; padding-left:2px;\" align=\"center\"><div style=\"display:inline-block;\"><span>$\\lambda{} w_{s} \\: . \\: {Cat}({w}, {Alfonso}_{e}) \\wedge{} (\\exists{} w2_{s} \\: . \\: ({w2} \\in{} {Epi}_{\\left\\langle{}s,\\left\\{s\\right\\}\\right\\rangle{}}({w})) \\wedge{} {Dance}({w2}, {Alfonso}_{e}))$</span></div></div></div></div></div><div style=\"display: table-cell;\"></div></div></div><br /><br />"
      ]
     },
     "execution_count": 421,
     "metadata": {},
     "output_type": "execute_result"
    }
   ],
   "source": [
    "((Alfonso * cat) * (and2 * (might * (Alfonso * dance)))).tree()"
   ]
  },
  {
   "cell_type": "code",
   "execution_count": 423,
   "id": "1ef5557b-6de0-4f1f-93f6-5d0586652442",
   "metadata": {},
   "outputs": [
    {
     "data": {
      "text/markdown": [
       "Composition of \"[might dance]\" failed:<br />\n",
       "&nbsp;&nbsp;&nbsp;&nbsp;<span style=\"color:red\">**TypeMismatch**</span>: $[\\![\\text{\\textbf{might}}]\\!]^{}_{\\left\\langle{}\\left\\langle{}s,t\\right\\rangle{},\\left\\langle{}s,t\\right\\rangle{}\\right\\rangle{}} \\:=\\: \\lambda{} p_{\\left\\langle{}s,t\\right\\rangle{}} \\: . \\: \\lambda{} w_{s} \\: . \\: \\exists{} w2_{s} \\: . \\: ({w2} \\in{} {Epi}_{\\left\\langle{}s,\\left\\{s\\right\\}\\right\\rangle{}}({w})) \\wedge{} {p}({w2})$ and $[\\![\\text{\\textbf{dance}}]\\!]^{}_{\\left\\langle{}s,\\left\\langle{}e,t\\right\\rangle{}\\right\\rangle{}} \\:=\\: \\lambda{} w_{s} \\: . \\: \\lambda{} x_{e} \\: . \\: {Dance}({w}, {x})$ conflict (Function Application)<br />\n",
       "&nbsp;&nbsp;&nbsp;&nbsp;<span style=\"color:red\">**TypeMismatch**</span>: $[\\![\\text{\\textbf{dance}}]\\!]^{}_{\\left\\langle{}s,\\left\\langle{}e,t\\right\\rangle{}\\right\\rangle{}} \\:=\\: \\lambda{} w_{s} \\: . \\: \\lambda{} x_{e} \\: . \\: {Dance}({w}, {x})$ and $[\\![\\text{\\textbf{might}}]\\!]^{}_{\\left\\langle{}\\left\\langle{}s,t\\right\\rangle{},\\left\\langle{}s,t\\right\\rangle{}\\right\\rangle{}} \\:=\\: \\lambda{} p_{\\left\\langle{}s,t\\right\\rangle{}} \\: . \\: \\lambda{} w_{s} \\: . \\: \\exists{} w2_{s} \\: . \\: ({w2} \\in{} {Epi}_{\\left\\langle{}s,\\left\\{s\\right\\}\\right\\rangle{}}({w})) \\wedge{} {p}({w2})$ conflict (Function Application)<br />\n",
       "&nbsp;&nbsp;&nbsp;&nbsp;<span style=\"color:red\">**TypeMismatch**</span>: $[\\![\\text{\\textbf{might}}]\\!]^{}_{\\left\\langle{}\\left\\langle{}s,t\\right\\rangle{},\\left\\langle{}s,t\\right\\rangle{}\\right\\rangle{}} \\:=\\: \\lambda{} p_{\\left\\langle{}s,t\\right\\rangle{}} \\: . \\: \\lambda{} w_{s} \\: . \\: \\exists{} w2_{s} \\: . \\: ({w2} \\in{} {Epi}_{\\left\\langle{}s,\\left\\{s\\right\\}\\right\\rangle{}}({w})) \\wedge{} {p}({w2})$ and $[\\![\\text{\\textbf{dance}}]\\!]^{}_{\\left\\langle{}s,\\left\\langle{}e,t\\right\\rangle{}\\right\\rangle{}} \\:=\\: \\lambda{} w_{s} \\: . \\: \\lambda{} x_{e} \\: . \\: {Dance}({w}, {x})$ conflict (Predicate Modification)<br />\n",
       "&nbsp;&nbsp;&nbsp;&nbsp;<span style=\"color:red\"><b>Composition failure</b></span> (PA requires a valid binder) on: $[\\![\\text{\\textbf{might}}]\\!]^{}_{\\left\\langle{}\\left\\langle{}s,t\\right\\rangle{},\\left\\langle{}s,t\\right\\rangle{}\\right\\rangle{}} \\:=\\: \\lambda{} p_{\\left\\langle{}s,t\\right\\rangle{}} \\: . \\: \\lambda{} w_{s} \\: . \\: \\exists{} w2_{s} \\: . \\: ({w2} \\in{} {Epi}_{\\left\\langle{}s,\\left\\{s\\right\\}\\right\\rangle{}}({w})) \\wedge{} {p}({w2})$ * $[\\![\\text{\\textbf{dance}}]\\!]^{}_{\\left\\langle{}s,\\left\\langle{}e,t\\right\\rangle{}\\right\\rangle{}} \\:=\\: \\lambda{} w_{s} \\: . \\: \\lambda{} x_{e} \\: . \\: {Dance}({w}, {x})$<br />\n",
       "&nbsp;&nbsp;&nbsp;&nbsp;<span style=\"color:red\"><b>Composition failure</b></span> (PA requires a valid binder) on: $[\\![\\text{\\textbf{dance}}]\\!]^{}_{\\left\\langle{}s,\\left\\langle{}e,t\\right\\rangle{}\\right\\rangle{}} \\:=\\: \\lambda{} w_{s} \\: . \\: \\lambda{} x_{e} \\: . \\: {Dance}({w}, {x})$ * $[\\![\\text{\\textbf{might}}]\\!]^{}_{\\left\\langle{}\\left\\langle{}s,t\\right\\rangle{},\\left\\langle{}s,t\\right\\rangle{}\\right\\rangle{}} \\:=\\: \\lambda{} p_{\\left\\langle{}s,t\\right\\rangle{}} \\: . \\: \\lambda{} w_{s} \\: . \\: \\exists{} w2_{s} \\: . \\: ({w2} \\in{} {Epi}_{\\left\\langle{}s,\\left\\{s\\right\\}\\right\\rangle{}}({w})) \\wedge{} {p}({w2})$<br />\n",
       "&nbsp;&nbsp;&nbsp;&nbsp;<span style=\"color:red\">**TypeMismatch**</span>: $[\\![\\text{\\textbf{might}}]\\!]^{}_{\\left\\langle{}\\left\\langle{}s,t\\right\\rangle{},\\left\\langle{}s,t\\right\\rangle{}\\right\\rangle{}} \\:=\\: \\lambda{} p_{\\left\\langle{}s,t\\right\\rangle{}} \\: . \\: \\lambda{} w_{s} \\: . \\: \\exists{} w2_{s} \\: . \\: ({w2} \\in{} {Epi}_{\\left\\langle{}s,\\left\\{s\\right\\}\\right\\rangle{}}({w})) \\wedge{} {p}({w2})$ and $[\\![\\text{\\textbf{dance}}]\\!]^{}_{\\left\\langle{}s,\\left\\langle{}e,t\\right\\rangle{}\\right\\rangle{}} \\:=\\: \\lambda{} w_{s} \\: . \\: \\lambda{} x_{e} \\: . \\: {Dance}({w}, {x})$ conflict (Need at least one fully vacuous element)<br />\n",
       "&nbsp;&nbsp;&nbsp;&nbsp;<span style=\"color:red\">**TypeMismatch**</span>: `(λ m_<s,X>: (λ k_<X,<s,Y>>: (λ w_s: k_<X,<s,Y>>(m_<s,X>(w_s))(w_s))))/<<s,X>,<<X,<s,Y>>,<s,Y>>>` and `(λ p_<s,t>: (λ w_s: (Exists w2_s: ((w2_s << Epi_<s,{s}>(w_s)) & p_<s,t>(w2_s)))))/<<s,t>,<s,t>>` conflict (Function-argument expression: mismatched argument types `<s,X>` and `<<s,t>,<s,t>>`)<br />\n",
       "&nbsp;&nbsp;&nbsp;&nbsp;<span style=\"color:red\">**TypeMismatch**</span>: `(λ m_<s,<e,t>>: (λ k_<<e,t>,<s,X>>: (λ w_s: k_<<e,t>,<s,X>>(m_<s,<e,t>>(w_s))(w_s))))(λ w_s: (λ x_e: Dance_<(s,e),t>(w_s, x_e)))/<<<e,t>,<s,X>>,<s,X>>` and `(λ p_<s,t>: (λ w_s: (Exists w2_s: ((w2_s << Epi_<s,{s}>(w_s)) & p_<s,t>(w2_s)))))/<<s,t>,<s,t>>` conflict (Function-argument expression: mismatched argument types `<<e,t>,<s,X>>` and `<<s,t>,<s,t>>`)<br />\n",
       "&nbsp;&nbsp;&nbsp;&nbsp;<span style=\"color:red\">**TypeMismatch**</span>: `(λ f_<s,<X,Y>>: (λ x_<s,X>: (λ w_s: f_<s,<X,Y>>(w_s)(x_<s,X>(w_s)))))/<<s,<X,Y>>,<<s,X>,<s,Y>>>` and `(λ p_<s,t>: (λ w_s: (Exists w2_s: ((w2_s << Epi_<s,{s}>(w_s)) & p_<s,t>(w2_s)))))/<<s,t>,<s,t>>` conflict (Function-argument expression: mismatched argument types `<s,<X,Y>>` and `<<s,t>,<s,t>>`)<br />\n",
       "&nbsp;&nbsp;&nbsp;&nbsp;<span style=\"color:red\">**TypeMismatch**</span>: `(λ f_<s,<e,t>>: (λ x_<s,e>: (λ w_s: f_<s,<e,t>>(w_s)(x_<s,e>(w_s)))))(λ w_s: (λ x_e: Dance_<(s,e),t>(w_s, x_e)))/<<s,e>,<s,t>>` and `(λ p_<s,t>: (λ w_s: (Exists w2_s: ((w2_s << Epi_<s,{s}>(w_s)) & p_<s,t>(w2_s)))))/<<s,t>,<s,t>>` conflict (Function-argument expression: mismatched argument types `<s,e>` and `<<s,t>,<s,t>>`)<br />\n"
      ],
      "text/plain": [
       "Composition of \"[might dance]\" failed:\n",
       "    TypeMismatch: `⟦might⟧ = (λ p_<s,t>: (λ w_s: (Exists w2_s: ((w2_s << Epi_<s,{s}>(w_s)) & p_<s,t>(w2_s)))))` and `⟦dance⟧ = (λ w_s: (λ x_e: Dance_<(s,e),t>(w_s, x_e)))` conflict (Function Application)\n",
       "    TypeMismatch: `⟦dance⟧ = (λ w_s: (λ x_e: Dance_<(s,e),t>(w_s, x_e)))` and `⟦might⟧ = (λ p_<s,t>: (λ w_s: (Exists w2_s: ((w2_s << Epi_<s,{s}>(w_s)) & p_<s,t>(w2_s)))))` conflict (Function Application)\n",
       "    TypeMismatch: `⟦might⟧ = (λ p_<s,t>: (λ w_s: (Exists w2_s: ((w2_s << Epi_<s,{s}>(w_s)) & p_<s,t>(w2_s)))))` and `⟦dance⟧ = (λ w_s: (λ x_e: Dance_<(s,e),t>(w_s, x_e)))` conflict (Predicate Modification)\n",
       "    Composition failure (PA requires a valid binder) on: ⟦might⟧ = (λ p_<s,t>: (λ w_s: (Exists w2_s: ((w2_s << Epi_<s,{s}>(w_s)) & p_<s,t>(w2_s))))) * ⟦dance⟧ = (λ w_s: (λ x_e: Dance_<(s,e),t>(w_s, x_e)))\n",
       "    Composition failure (PA requires a valid binder) on: ⟦dance⟧ = (λ w_s: (λ x_e: Dance_<(s,e),t>(w_s, x_e))) * ⟦might⟧ = (λ p_<s,t>: (λ w_s: (Exists w2_s: ((w2_s << Epi_<s,{s}>(w_s)) & p_<s,t>(w2_s)))))\n",
       "    TypeMismatch: `⟦might⟧ = (λ p_<s,t>: (λ w_s: (Exists w2_s: ((w2_s << Epi_<s,{s}>(w_s)) & p_<s,t>(w2_s)))))` and `⟦dance⟧ = (λ w_s: (λ x_e: Dance_<(s,e),t>(w_s, x_e)))` conflict (Need at least one fully vacuous element)\n",
       "    TypeMismatch: `(λ m_<s,X>: (λ k_<X,<s,Y>>: (λ w_s: k_<X,<s,Y>>(m_<s,X>(w_s))(w_s))))/<<s,X>,<<X,<s,Y>>,<s,Y>>>` and `(λ p_<s,t>: (λ w_s: (Exists w2_s: ((w2_s << Epi_<s,{s}>(w_s)) & p_<s,t>(w2_s)))))/<<s,t>,<s,t>>` conflict (Function-argument expression: mismatched argument types `<s,X>` and `<<s,t>,<s,t>>`)\n",
       "    TypeMismatch: `(λ m_<s,<e,t>>: (λ k_<<e,t>,<s,X>>: (λ w_s: k_<<e,t>,<s,X>>(m_<s,<e,t>>(w_s))(w_s))))(λ w_s: (λ x_e: Dance_<(s,e),t>(w_s, x_e)))/<<<e,t>,<s,X>>,<s,X>>` and `(λ p_<s,t>: (λ w_s: (Exists w2_s: ((w2_s << Epi_<s,{s}>(w_s)) & p_<s,t>(w2_s)))))/<<s,t>,<s,t>>` conflict (Function-argument expression: mismatched argument types `<<e,t>,<s,X>>` and `<<s,t>,<s,t>>`)\n",
       "    TypeMismatch: `(λ f_<s,<X,Y>>: (λ x_<s,X>: (λ w_s: f_<s,<X,Y>>(w_s)(x_<s,X>(w_s)))))/<<s,<X,Y>>,<<s,X>,<s,Y>>>` and `(λ p_<s,t>: (λ w_s: (Exists w2_s: ((w2_s << Epi_<s,{s}>(w_s)) & p_<s,t>(w2_s)))))/<<s,t>,<s,t>>` conflict (Function-argument expression: mismatched argument types `<s,<X,Y>>` and `<<s,t>,<s,t>>`)\n",
       "    TypeMismatch: `(λ f_<s,<e,t>>: (λ x_<s,e>: (λ w_s: f_<s,<e,t>>(w_s)(x_<s,e>(w_s)))))(λ w_s: (λ x_e: Dance_<(s,e),t>(w_s, x_e)))/<<s,e>,<s,t>>` and `(λ p_<s,t>: (λ w_s: (Exists w2_s: ((w2_s << Epi_<s,{s}>(w_s)) & p_<s,t>(w2_s)))))/<<s,t>,<s,t>>` conflict (Function-argument expression: mismatched argument types `<s,e>` and `<<s,t>,<s,t>>`)"
      ]
     },
     "metadata": {},
     "output_type": "display_data"
    }
   ],
   "source": [
    "might * dance"
   ]
  },
  {
   "cell_type": "code",
   "execution_count": null,
   "id": "dba4d11a-7d94-442e-8e18-3ac7df8ebd3c",
   "metadata": {},
   "outputs": [],
   "source": []
  }
 ],
 "metadata": {
  "kernelspec": {
   "display_name": "Lambda Notebook (Python 3)",
   "language": "python",
   "name": "lambda-notebook"
  },
  "language_info": {
   "codemirror_mode": {
    "name": "ipython",
    "version": 3
   },
   "file_extension": ".py",
   "mimetype": "text/x-python",
   "name": "python",
   "nbconvert_exporter": "python",
   "pygments_lexer": "ipython3",
   "version": "3.10.14"
  }
 },
 "nbformat": 4,
 "nbformat_minor": 5
}
