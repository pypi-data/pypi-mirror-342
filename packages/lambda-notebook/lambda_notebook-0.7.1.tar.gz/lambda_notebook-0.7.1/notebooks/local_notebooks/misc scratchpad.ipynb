{
 "cells": [
  {
   "cell_type": "code",
   "execution_count": null,
   "id": "011cafe7-91d2-4642-a8a2-07a935f59a8c",
   "metadata": {},
   "outputs": [],
   "source": [
    "class Powerset(TypedExpr):\n",
    "    canonical_name = \"Powerset\"\n",
    "    op_name_uni = \"ℙ\"\n",
    "    op_name_latex = \"\\\\mathbb{P}\"\n",
    "    pre_simplify = True\n",
    "\n",
    "    def __init__(self, arg, typ=None, **kwargs):\n",
    "        self.type_constraint(arg.type, types.SetType, constant=True)\n",
    "        setarg, typ = self.type_constraint(SetType(arg), typ)\n",
    "        arg, _ = self.type_constraint(arg, setarg[0])\n",
    "    \n",
    "        super().__init__(var, body, restrictor=restrictor, typ=body.type, **kwargs)\n",
    "\n",
    "    def eliminate(self, assignment=None, **sopts):\n",
    "        if self.vacuous():\n",
    "            # covers empty set / domain set as body\n",
    "            return derived(self.body.copy(), self, f\"trivial ∪{self.varname} elimination\")\n",
    "        elif self.finite_safe():\n",
    "            a = self.scope_assignment(assignment=assignment)\n",
    "            subs = [self[1].under_assignment(a | {self.varname : elem})\n",
    "                    for elem in self.domain_iter()]\n",
    "            return derived(sets.SetUnion.join(subs, empty=true_term),\n",
    "                self,\n",
    "                f\"∪{self.varname} => ∪\")\n",
    "        # disable this for now -- it produces more complex formulas, not simpler ones\n",
    "        # else:\n",
    "        #     return self.to_exists_form()\n",
    "\n",
    "        return self\n",
    "\n",
    "    def simplify(self, assignment=None, **sopts):\n",
    "        if (self.vacuous() or self.domain_cardinality() == 1\n",
    "                    or get_sopt('eliminate_sets', sopts)):\n",
    "            return self.eliminate(assignment=assignment, **sopts)\n",
    "        return self"
   ]
  }
 ],
 "metadata": {
  "kernelspec": {
   "display_name": "Lambda Notebook (Python 3)",
   "language": "python",
   "name": "lambda-notebook"
  },
  "language_info": {
   "codemirror_mode": {
    "name": "ipython",
    "version": 3
   },
   "file_extension": ".py",
   "mimetype": "text/x-python",
   "name": "python",
   "nbconvert_exporter": "python",
   "pygments_lexer": "ipython3",
   "version": "3.10.14"
  }
 },
 "nbformat": 4,
 "nbformat_minor": 5
}
