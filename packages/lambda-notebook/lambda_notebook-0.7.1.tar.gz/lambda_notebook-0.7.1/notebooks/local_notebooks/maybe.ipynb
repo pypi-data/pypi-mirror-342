{
 "cells": [
  {
   "cell_type": "code",
   "execution_count": 1,
   "id": "a771d0e3-41e1-458d-a15e-56afcc2ffc59",
   "metadata": {},
   "outputs": [],
   "source": [
    "reload_lamb()"
   ]
  },
  {
   "cell_type": "raw",
   "id": "3fef694e-6773-4bb9-bfd7-f4d604b7b950",
   "metadata": {},
   "source": [
    "import contextlib\n",
    "\n",
    "meta.reset()\n",
    "\n",
    "\n",
    "class MaybeType:\n",
    "    def __repr__(self):\n",
    "        return 'Maybe'\n",
    "\n",
    "Maybe = MaybeType()\n",
    "\n",
    "class MaybeSet(types.DomainSet):\n",
    "    def __init__(self):\n",
    "        # to prevent circularity, BooleanSet.type is set in reset()\n",
    "        super().__init__(finite=True, values=[Maybe])\n",
    "\n",
    "    def check(self,x):\n",
    "        # bool is implemented as a subclass of int, and therefore 0 and 1 are\n",
    "        # equivalent (both hashing, and via ==) to False and True. Checking\n",
    "        # for set membership in {False,True} includes 0/1 in the domain.\n",
    "        # This perhaps could be useful if we have a way of normalizing the\n",
    "        # term names, but for now, instead of using the superclass `in`\n",
    "        # check, exclude 0/1 from the domain by checking class directly.\n",
    "        return isinstance(types.demeta(x), MaybeType)\n",
    "\n",
    "    @contextlib.contextmanager\n",
    "    def restrict_domain(self, values=None, count=None):\n",
    "        # allowing this messes up too many things, and I don't think there's\n",
    "        # much of a use case for it\n",
    "        raise NotImplementedError(\"Domain restriction for type m is not supported\")\n",
    "\n",
    "    def normalize(self, x):\n",
    "        return Maybe\n",
    "\n",
    "    def __repr__(self):\n",
    "        return f\"MaybeSet()\"\n",
    "\n",
    "system = lang.td_system.copy()\n",
    "type_m = types.BasicType('m', MaybeSet())\n",
    "system.add_basic_type(type_m)\n",
    "lang.set_system(system)\n",
    "\n",
    "meta.TypedExpr.add_local('Maybe', meta.MetaTerm(Maybe))"
   ]
  },
  {
   "cell_type": "code",
   "execution_count": 2,
   "id": "e077efa8-6dae-42be-bd5a-19ceaadda931",
   "metadata": {},
   "outputs": [],
   "source": [
    "import contextlib\n",
    "\n",
    "class MaybeElem:\n",
    "    def __repr__(self):\n",
    "        return 'Maybe'\n",
    "\n",
    "    def __eq__(self, other):\n",
    "        return isinstance(types.demeta(other), MaybeElem)\n",
    "\n",
    "    def __hash__(self):\n",
    "        return hash(\"MaybeElem\")\n",
    "\n",
    "class MaybeSet(types.ComplexDomainSet):\n",
    "    def __init__(self, typ):\n",
    "        finite = isinstance(typ.arg.domain, types.DomainSet) and typ.arg.domain.finite\n",
    "        super().__init__(\"M\", typ, finite=finite)\n",
    "\n",
    "    def check(self,x):\n",
    "        # bool is implemented as a subclass of int, and therefore 0 and 1 are\n",
    "        # equivalent (both hashing, and via ==) to False and True. Checking\n",
    "        # for set membership in {False,True} includes 0/1 in the domain.\n",
    "        # This perhaps could be useful if we have a way of normalizing the\n",
    "        # term names, but for now, instead of using the superclass `in`\n",
    "        # check, exclude 0/1 from the domain by checking class directly.\n",
    "        return (isinstance(types.demeta(x), MaybeElem)\n",
    "                or isinstance(self.type.arg.domain, types.DomainSet) and self.type.arg.domain.check(x))\n",
    "\n",
    "    def __len__(self):\n",
    "        if not self.finite:\n",
    "            raise ValueError(\"Non-finite `MaybeDomainSet`s do not have a length.\")\n",
    "        return len(self.type.arg.domain) + 1\n",
    "\n",
    "    def __iter__(self):\n",
    "        if not self.finite:\n",
    "            raise ValueError(\"Can't iterate over non-finite `DisjunctiveDomainSet`s.\")\n",
    "        if MaybeElem() not in self.type.arg.domain:\n",
    "            yield MaybeElem()\n",
    "        yield from iter(self.type.arg.domain)\n",
    "    \n",
    "    def enumerable(self):\n",
    "        # only the finite case is supported right now...\n",
    "        return self.finite\n",
    "\n",
    "    def normalize(self, x):\n",
    "        if x in self.type.arg.domain:\n",
    "            return self.type.arg.domain.normalize(x)\n",
    "        else:\n",
    "            return MaybeElem()\n",
    "\n",
    "    def element_repr(self, x, rich=False, **kwargs):\n",
    "        if isinstance(types.demeta(x), MaybeElem):\n",
    "            return \"Maybe\"\n",
    "        else:\n",
    "            return self.type.arg.domain.element_repr(x, rich=rich)\n",
    "\n",
    "    def __repr__(self):\n",
    "        return f\"MaybeSet({self.type})\"\n",
    "\n",
    "    @classmethod\n",
    "    def element_to_type(cls, x, ctrl=None):\n",
    "        raise lamb.parsing.ParseError(\"`Maybe` terms require a complex type\")\n",
    "\n",
    "\n",
    "class MaybeType(types.TypeConstructor):\n",
    "    domain_class = MaybeSet\n",
    "    def __init__(self, c):\n",
    "        self.arg = c\n",
    "        types.TypeConstructor.__init__(self)\n",
    "\n",
    "    def __len__(self):\n",
    "        return 1\n",
    "\n",
    "    def __getitem__(self, i):\n",
    "        return (self.arg,)[i]\n",
    "\n",
    "    def __iter__(self):\n",
    "        return iter((self.arg,))\n",
    "        \n",
    "    def __repr__(self):\n",
    "        return f\"M{repr(self.arg)}\"\n",
    "\n",
    "    def functional(self):\n",
    "        return self.arg.functional()\n",
    "\n",
    "    @property\n",
    "    def left(self):\n",
    "        return self.arg.left\n",
    "\n",
    "    @property\n",
    "    def right(self):\n",
    "        return self.arg.right\n",
    "\n",
    "    def _type_eq(self, other):\n",
    "        if isinstance(other, MaybeType):\n",
    "            return self.arg._type_eq(other.arg)\n",
    "        else:\n",
    "            return False\n",
    "\n",
    "    def _type_hash(self):\n",
    "        return (hash(\"M\") ^ self.arg._type_hash())\n",
    "\n",
    "    def copy_local(self, arg):\n",
    "        return MaybeType(arg)\n",
    "\n",
    "    @classmethod\n",
    "    def parse(cls, s, i, parse_control_fun):\n",
    "        next = lamb.parsing.consume_char(s, i, \"M\")\n",
    "        if next is None:\n",
    "            return (None, i)\n",
    "        else:\n",
    "            i = next\n",
    "            (arg, i) = parse_control_fun(s, i)\n",
    "            return (MaybeType(arg), i)\n",
    "\n",
    "    def latex_str(self):\n",
    "        return utils.ensuremath(f\"M{self.arg.latex_str()}\")\n",
    "\n",
    "class MaybeExpr(meta.TypedExpr):\n",
    "    def __init__(self, arg, type_check=True):\n",
    "        super().__init__(\"MaybeWrap\", arg)\n",
    "        self.type = MaybeType(arg.type)\n",
    "\n",
    "    def simplify(self, **sopts):\n",
    "        if self[0].meta():\n",
    "            return meta.MetaTerm(self[0].op, typ=self.type)\n",
    "        else:\n",
    "            return self\n",
    "    \n",
    "    def __repr__(self):\n",
    "        return f\"MaybeWrap({repr(self[0])})\"\n",
    "\n",
    "    def latex_str(self, suppress_parens=False, **kwargs):\n",
    "        body_str = self[0].latex_str(suppress_parens=True, **kwargs)\n",
    "        return utils.ensuremath(f\"\\\\textsf{{MaybeWrap}}({body_str})\")\n",
    "\n",
    "    def try_adjust_type_local(self, new_type, derivation_reason, env):\n",
    "        arg = self[0].try_adjust_type(new_type.arg, derivation_reason=derivation_reason)\n",
    "        if arg is None:\n",
    "            return None\n",
    "        return self.copy_local(arg)\n",
    "\n",
    "class MaybeTerm(meta.TypedTerm):\n",
    "    def __init__(self, type_check=True):\n",
    "        super().__init__(\"Maybe\", typ=MaybeType(types.VariableType.any()))\n",
    "\n",
    "    # def meta(self):\n",
    "    #     return True\n",
    "\n",
    "    def should_show_type(self, assignment=None):\n",
    "        return True\n",
    "    \n",
    "    def simplify(self, **sopts):\n",
    "        if not self.type.polymorphic():\n",
    "            return meta.MetaTerm(MaybeElem(), typ=self.type)\n",
    "        return self\n",
    "\n",
    "class UnmaybeExpr(meta.TypedExpr):\n",
    "    def __init__(self, arg, type_check=True):\n",
    "        if not isinstance(arg.type, MaybeType):\n",
    "            raise types.TypeMismatch(arg, arg.type, \"`Unmaybe` requires a Maybe typed argument\")\n",
    "        super().__init__(\"Unmaybe\", arg)\n",
    "        self.type = arg.type.arg\n",
    "\n",
    "    def simplify(self, **sopts):\n",
    "        if isinstance(self[0], MaybeExpr):\n",
    "            return self[0][0]\n",
    "        elif self[0].meta():\n",
    "            if isinstance(self[0].op, MaybeElem):\n",
    "                raise meta.meta.DomainError(self[0], self.type.domain, \"`Unmaybe(Maybe)` is undefined\")\n",
    "            return meta.MetaTerm(self[0].op, typ=self.type)\n",
    "        else:\n",
    "            return self\n",
    "    \n",
    "    def __repr__(self):\n",
    "        return f\"Unmaybe({repr(self[0])})\"\n",
    "\n",
    "    def latex_str(self, suppress_parens=False, **kwargs):\n",
    "        body_str = self[0].latex_str(suppress_parens=True, **kwargs)\n",
    "        return utils.ensuremath(f\"\\\\textsf{{Unmaybe}}({body_str})\")\n",
    "\n",
    "    def try_adjust_type_local(self, new_type, derivation_reason, env):\n",
    "        arg = self[0].try_adjust_type(MaybeType(new_type), derivation_reason=derivation_reason)\n",
    "        if arg is None:\n",
    "            return None\n",
    "        return self.copy_local(arg)\n",
    "\n",
    "\n",
    "class Case(meta.TypedExpr):\n",
    "    def __init__(self, cond, if_case, else_case, /, type_check=True):\n",
    "        if cond.type != types.type_t:\n",
    "            raise types.TypeMismatch(arg, arg.type, \"`Cases` requires a type t condition\")\n",
    "        self.type = meta.core.ts_unify_with(if_case, else_case,\n",
    "                                error=\"`Case` requires compatible result types\")\n",
    "        if_case = self.ensure_typed_expr(if_case, self.type)\n",
    "        else_case = self.ensure_typed_expr(else_case, self.type)\n",
    "        super().__init__(\"Case\", cond, if_case, else_case)\n",
    "\n",
    "    def simplify(self, **sopts):\n",
    "        if self[0] == True:\n",
    "            return self[1]\n",
    "        elif self[0] == False:\n",
    "            return self[2]\n",
    "        else:\n",
    "            return self\n",
    "\n",
    "    @classmethod\n",
    "    def from_tuple(self, tuple):\n",
    "        return Case(*tuple)\n",
    "    \n",
    "    def __repr__(self):\n",
    "        return f\"Case({repr(self[0])}, {repr(self[1])}, {repr(self[2])})\"\n",
    "\n",
    "    def latex_str(self, suppress_parens=False, **kwargs):\n",
    "        inner = \", \".join([a.latex_str(**kwargs) for a in self.args])\n",
    "        # inner = f\"({inner})\"\n",
    "        return utils.ensuremath(f\"\\\\textsf{{Case}}({inner})\")\n",
    "\n",
    "    def try_adjust_type_local(self, new_type, derivation_reason, env):\n",
    "        if_case = self[1].try_adjust_type(new_type, derivation_reason=derivation_reason)\n",
    "        if if_case is None:\n",
    "            return None\n",
    "        else_case = self[2].try_adjust_type(new_type, derivation_reason=derivation_reason)\n",
    "        if else_case is None:\n",
    "            return None\n",
    "        return self.copy_local(self[0], if_case, else_case)\n",
    "\n",
    "    def latex_str(self, **kwargs):\n",
    "        cases = []\n",
    "        c = self\n",
    "        while isinstance(c, Case):\n",
    "            cases.append((c[1], c[0]))\n",
    "            c = c[2]\n",
    "        cases = [f\"{case[0].latex_str(**kwargs)} & \\\\text{{if }}{case[1].latex_str(**kwargs)} \\\\\\\\\" for case in cases]\n",
    "        return utils.ensuremath(\n",
    "            f\"\\\\begin{{cases}}\\n{'\\n'.join(cases)}\"\n",
    "            f\"{c.latex_str(**kwargs)} & \\\\text{{otherwise}} \\\\end{{cases}}\")\n",
    "        # return utils.ensuremath(\n",
    "        #     f\"\\\\begin{{cases}}{self[1].latex_str(**kwargs)} & \\\\text{{if }}{self[0].latex_str(**kwargs)} \\\\\\\\\"\n",
    "        #     f\"{self[2].latex_str(**kwargs)} & \\\\text{{otherwise}} \\\\end{{cases}}\")\n",
    "\n",
    "\n",
    "Maybe = MaybeElem()\n",
    "\n",
    "meta.core.reset_type_system()\n",
    "# meta.reset()\n",
    "# system = lang.td_system.copy()\n",
    "meta.get_type_system().add_nonatomic(MaybeType)\n",
    "# type_m = types.BasicType('m', MaybeSet())\n",
    "# system.add_basic_type(type_m)\n",
    "# lang.set_system(system)\n",
    "\n",
    "lang.get_system().lexicon['Maybe'] = MaybeTerm()\n",
    "# meta.TypedExpr.add_local('Maybe', MaybeTerm())\n",
    "# meta.TypedExpr.add_local('Undef', lambda x: x.equivalent_to(MaybeTerm()))\n",
    "meta.TypedExpr.add_local('MaybeWrap', MaybeExpr)\n",
    "meta.TypedExpr.add_local('Unmaybe', UnmaybeExpr)\n",
    "meta.TypedExpr.add_local('Case', Case.from_tuple)\n",
    "\n"
   ]
  },
  {
   "cell_type": "code",
   "execution_count": null,
   "id": "ba64cb55-a8e0-417a-ada0-f2b6396623e0",
   "metadata": {},
   "outputs": [],
   "source": []
  },
  {
   "cell_type": "code",
   "execution_count": 3,
   "id": "a18492bb-438b-4c82-a3e6-bda1462031df",
   "metadata": {},
   "outputs": [
    {
     "data": {
      "text/plain": [
       "{lamb.types.BasicType: 0,\n",
       " lamb.types.FunType: 0,\n",
       " lamb.types.SetType: 0,\n",
       " lamb.types.TupleType: 0,\n",
       " lamb.types.UnknownType: 10,\n",
       " lamb.types.VariableType: 10,\n",
       " lamb.types.Forall: 20,\n",
       " lamb.types.DisjunctiveType: 1,\n",
       " __main__.MaybeType: 0}"
      ]
     },
     "execution_count": 3,
     "metadata": {},
     "output_type": "execute_result"
    }
   ],
   "source": [
    "# meta.core.reset_type_system()\n",
    "meta.get_type_system().type_ranking"
   ]
  },
  {
   "cell_type": "code",
   "execution_count": 4,
   "id": "cb404621-b0fa-4707-b799-d7e2aec0ee64",
   "metadata": {},
   "outputs": [
    {
     "data": {
      "text/latex": [
       "$\\begin{cases}\n",
       "{\\textsf{c1}}_{e} & \\text{if }{p}_{t} \\\\{\\textsf{c3}}_{e} & \\text{otherwise} \\end{cases}$"
      ],
      "text/plain": [
       "Case(p_t, _c1, _c3)"
      ]
     },
     "execution_count": 4,
     "metadata": {},
     "output_type": "execute_result"
    }
   ],
   "source": [
    "Case(te(\"p_t\"), te('_c1'), te('_c3'))"
   ]
  },
  {
   "cell_type": "code",
   "execution_count": 5,
   "id": "5a76d089-34ad-4104-bc63-ed9affec7b66",
   "metadata": {},
   "outputs": [
    {
     "data": {
      "text/latex": [
       "$\\begin{cases}\n",
       "{\\textsf{c1}}_{e} & \\text{if }{p}_{t} \\\\\n",
       "{\\textsf{c2}}_{e} & \\text{if }{p1}_{t} \\\\{\\textsf{c3}}_{e} & \\text{otherwise} \\end{cases}$"
      ],
      "text/plain": [
       "Case(p_t, _c1, Case(p1_t, _c2, _c3))"
      ]
     },
     "execution_count": 5,
     "metadata": {},
     "output_type": "execute_result"
    }
   ],
   "source": [
    "Case(te(\"p_t\"), te('_c1'), Case(te('p1_t'), te('_c2'), te('_c3')))"
   ]
  },
  {
   "cell_type": "code",
   "execution_count": 6,
   "id": "564556e5-2f71-4049-b196-0a51a8965707",
   "metadata": {},
   "outputs": [
    {
     "data": {
      "text/latex": [
       "${\\textsf{c1}}_{e}$"
      ],
      "text/plain": [
       "_c1"
      ]
     },
     "execution_count": 6,
     "metadata": {},
     "output_type": "execute_result"
    }
   ],
   "source": [
    "\n",
    "%te simplify Case(True, _c1, _c2)"
   ]
  },
  {
   "cell_type": "code",
   "execution_count": 7,
   "id": "b6709dfe-503f-4e28-82cb-d0259ccfaf68",
   "metadata": {},
   "outputs": [
    {
     "data": {
      "text/latex": [
       "$\\textsf{MaybeWrap}({x}_{e})$"
      ],
      "text/plain": [
       "MaybeWrap(x_e)"
      ]
     },
     "execution_count": 7,
     "metadata": {},
     "output_type": "execute_result"
    }
   ],
   "source": [
    "MaybeExpr(te(\"x_e\"))"
   ]
  },
  {
   "cell_type": "code",
   "execution_count": 8,
   "id": "3f58ac9c-cced-4a87-8709-c08ccb5a5fa0",
   "metadata": {},
   "outputs": [
    {
     "data": {
      "text/latex": [
       "$\\textsf{Unmaybe}(\\textsf{MaybeWrap}({x}_{e}))$"
      ],
      "text/plain": [
       "Unmaybe(MaybeWrap(x_e))"
      ]
     },
     "execution_count": 8,
     "metadata": {},
     "output_type": "execute_result"
    }
   ],
   "source": [
    "UnmaybeExpr(MaybeExpr(te(\"x_e\")))"
   ]
  },
  {
   "cell_type": "code",
   "execution_count": 9,
   "id": "3323e0d5-57aa-4d34-bb01-8669b41ae30c",
   "metadata": {},
   "outputs": [
    {
     "data": {
      "text/latex": [
       "${\\textsf{Maybe}}_{Mt}$"
      ],
      "text/plain": [
       "Maybe"
      ]
     },
     "execution_count": 9,
     "metadata": {},
     "output_type": "execute_result"
    }
   ],
   "source": [
    "meta.MetaTerm(Maybe, typ=tp(\"Mt\"))"
   ]
  },
  {
   "cell_type": "code",
   "execution_count": 10,
   "id": "67b1abdd-74c1-46bf-89ee-759f58d88b54",
   "metadata": {},
   "outputs": [
    {
     "data": {
      "text/markdown": [
       "<span style=\"color:red\">**ParseError**</span>: `Maybe` terms require a complex type"
      ],
      "text/plain": [
       "ParseError: `Maybe` terms require a complex type"
      ]
     },
     "metadata": {},
     "output_type": "display_data"
    }
   ],
   "source": [
    "with lamb.errors():\n",
    "    meta.MetaTerm(Maybe)"
   ]
  },
  {
   "cell_type": "code",
   "execution_count": 11,
   "id": "ea69d4c1-2ab9-4ded-91b5-782bf2fac687",
   "metadata": {},
   "outputs": [
    {
     "data": {
      "text/latex": [
       "${\\textsf{Maybe}}_{MMt}$"
      ],
      "text/plain": [
       "Maybe"
      ]
     },
     "execution_count": 11,
     "metadata": {},
     "output_type": "execute_result"
    }
   ],
   "source": [
    "meta.MetaTerm(Maybe, typ=tp(\"MMt\"))"
   ]
  },
  {
   "cell_type": "code",
   "execution_count": 12,
   "id": "f87640cc-d51c-4c47-9f21-4db52b15a7d2",
   "metadata": {},
   "outputs": [
    {
     "data": {
      "text/plain": [
       "True"
      ]
     },
     "execution_count": 12,
     "metadata": {},
     "output_type": "execute_result"
    }
   ],
   "source": [
    "meta.MetaTerm(Maybe, typ=tp(\"MMt\")) == meta.MetaTerm(Maybe, typ=tp(\"Mt\"))"
   ]
  },
  {
   "cell_type": "code",
   "execution_count": 13,
   "id": "dd24a8a1-a1d6-4257-b708-ee92a651876e",
   "metadata": {},
   "outputs": [
    {
     "data": {
      "text/latex": [
       "${Maybe}_{t}$"
      ],
      "text/plain": [
       "Maybe_t"
      ]
     },
     "execution_count": 13,
     "metadata": {},
     "output_type": "execute_result"
    }
   ],
   "source": [
    "%te Maybe"
   ]
  },
  {
   "cell_type": "code",
   "execution_count": 14,
   "id": "bcac5b63-53b2-4d3b-a165-afc1857dbdc4",
   "metadata": {},
   "outputs": [
    {
     "data": {
      "text/latex": [
       "$\\{{\\textsf{False}}_{Mt}, {\\textsf{True}}_{Mt}, {\\textsf{Maybe}}_{Mt}\\}$"
      ],
      "text/plain": [
       "{False, True, Maybe}"
      ]
     },
     "execution_count": 14,
     "metadata": {},
     "output_type": "execute_result"
    }
   ],
   "source": [
    "s = te(\"Set x_Mt : True\").eliminate()\n",
    "s"
   ]
  },
  {
   "cell_type": "code",
   "execution_count": 15,
   "id": "dfd79335-25d8-48f5-9f33-8c51ce924a4d",
   "metadata": {},
   "outputs": [
    {
     "data": {
      "text/latex": [
       "$\\{{\\textsf{False}}_{MMt}, {\\textsf{True}}_{MMt}, {\\textsf{Maybe}}_{MMt}\\}$"
      ],
      "text/plain": [
       "{False, True, Maybe}"
      ]
     },
     "execution_count": 15,
     "metadata": {},
     "output_type": "execute_result"
    }
   ],
   "source": [
    "s = te(\"Set x_MMt : True\").eliminate()\n",
    "s"
   ]
  },
  {
   "cell_type": "code",
   "execution_count": 16,
   "id": "b5152044-006f-4a12-8378-0e14921cc13c",
   "metadata": {},
   "outputs": [],
   "source": [
    "lamb.parsing.errors_raise=False"
   ]
  },
  {
   "cell_type": "code",
   "execution_count": 17,
   "id": "e61afc44-98d1-4e44-b41d-c730938951fa",
   "metadata": {},
   "outputs": [
    {
     "data": {
      "text/markdown": [
       "${unit}_{\\left\\langle{}X,MX\\right\\rangle{}}\\:=\\:\\lambda{} x_{X} \\: . \\: \\textsf{MaybeWrap}({x})$<br />\n",
       "${bind}_{\\left\\langle{}MX,\\left\\langle{}\\left\\langle{}X,MY\\right\\rangle{},MY\\right\\rangle{}\\right\\rangle{}}\\:=\\:\\lambda{} m_{MX} \\: . \\: \\lambda{} k_{\\left\\langle{}X,MY\\right\\rangle{}} \\: . \\: \\begin{cases}\n",
       "{Maybe}_{MY} & \\text{if }{Maybe}_{MX} = {m} \\\\{k}(\\textsf{Unmaybe}({m})) & \\text{otherwise} \\end{cases}$"
      ],
      "text/plain": [
       "unit_<X,MX> = (λ x_X: MaybeWrap(x_X))\n",
       "bind_<MX,<<X,MY>,MY>> = (λ m_MX: (λ k_<X,MY>: Case((Maybe_MX <=> m_MX), Maybe_MY, k_<X,MY>(Unmaybe(m_MX)))))"
      ]
     },
     "metadata": {},
     "output_type": "display_data"
    }
   ],
   "source": [
    "%%lamb\n",
    "# Undef = L x_X : x <=> Maybe\n",
    "unit = L x_X : MaybeWrap(x_X)\n",
    "bind = L m_MX : L k_<X,MY> : Case(m <=> Maybe, Maybe, k(Unmaybe(m)))\n"
   ]
  },
  {
   "cell_type": "code",
   "execution_count": 18,
   "id": "1988346e-d9f4-4e3b-9d37-bd4e7eb5996e",
   "metadata": {},
   "outputs": [
    {
     "data": {
      "text/markdown": [
       "${liftedapply}_{\\left\\langle{}M\\left\\langle{}X',X\\right\\rangle{},\\left\\langle{}MX',MX\\right\\rangle{}\\right\\rangle{}}\\:=\\:\\lambda{} f_{M\\left\\langle{}X',X\\right\\rangle{}} \\: . \\: \\lambda{} x_{MX'} \\: . \\: \\begin{cases}\n",
       "{Maybe}_{MX} & \\text{if }{Maybe}_{M\\left\\langle{}X',X\\right\\rangle{}} = {f} \\\\\n",
       "{Maybe}_{MX} & \\text{if }{Maybe}_{MX'} = {x} \\\\\\textsf{MaybeWrap}(\\textsf{Unmaybe}({f})(\\textsf{Unmaybe}({x}))) & \\text{otherwise} \\end{cases}$"
      ],
      "text/plain": [
       "liftedapply_<M<X1,X>,<MX1,MX>> = (λ f_M<X1,X>: (λ x_MX1: Case((Maybe_M<X1,X> <=> f_M<X1,X>), Maybe_MX, Case((Maybe_MX1 <=> x_MX1), Maybe_MX, MaybeWrap(Unmaybe(f_M<X1,X>)(Unmaybe(x_MX1)))))))"
      ]
     },
     "metadata": {},
     "output_type": "display_data"
    }
   ],
   "source": [
    "%lamb liftedapply = L f_M<X,Y> : L x_MX : bind(f)(L a_<X,Y> : bind(x)(L b_X : unit(a(b))))\n"
   ]
  },
  {
   "cell_type": "code",
   "execution_count": 19,
   "id": "61433e77-88f0-4585-83b3-97e4f0ef58e6",
   "metadata": {},
   "outputs": [
    {
     "data": {
      "text/markdown": [
       "${lapply}_{\\left\\langle{}M\\forall{}X,\\left\\langle{}M\\left\\langle{}X,Y\\right\\rangle{},\\left\\langle{}MX,MY\\right\\rangle{}\\right\\rangle{}\\right\\rangle{}}\\:=\\:\\lambda{} m_{M\\forall{}X} \\: . \\: \\lambda{} f_{M\\left\\langle{}X,Y\\right\\rangle{}} \\: . \\: \\lambda{} x_{MX} \\: . \\: \\begin{cases}\n",
       "{Maybe}_{MY} & \\text{if }{Maybe}_{MX} = {x} \\\\\n",
       "{Maybe}_{MY} & \\text{if }{Maybe}_{M\\left\\langle{}X,Y\\right\\rangle{}} = {f} \\\\\\textsf{MaybeWrap}(\\textsf{Unmaybe}({f})(\\textsf{Unmaybe}({x}))) & \\text{otherwise} \\end{cases}$"
      ],
      "text/plain": [
       "lapply_<M∀X,<M<X,Y>,<MX,MY>>> = (λ m_M∀X: (λ f_M<X,Y>: (λ x_MX: Case((Maybe_MX <=> x_MX), Maybe_MY, Case((Maybe_M<X,Y> <=> f_M<X,Y>), Maybe_MY, MaybeWrap(Unmaybe(f_M<X,Y>)(Unmaybe(x_MX))))))))"
      ]
     },
     "metadata": {},
     "output_type": "display_data"
    }
   ],
   "source": [
    "%lamb lapply = (L m_M∀X : L f_M<X,Y> : L x_MX : Case(x <=> Maybe, Maybe, Case(f <=> Maybe, Maybe, MaybeWrap((Unmaybe(f))(Unmaybe(x))))))\n"
   ]
  },
  {
   "cell_type": "code",
   "execution_count": 20,
   "id": "71f5f904-09e2-46ee-ab0b-62cdde1f6c2c",
   "metadata": {},
   "outputs": [
    {
     "data": {
      "text/latex": [
       "$\\lambda{} k_{\\left\\langle{}t,MY\\right\\rangle{}} \\: . \\: \\begin{cases}\n",
       "{Maybe}_{MY} & \\text{if }{Maybe}_{Mt} = {\\textsf{True}}_{Mt} \\\\{k}(\\textsf{True}) & \\text{otherwise} \\end{cases}$"
      ],
      "text/plain": [
       "(λ k_<t,MY>: Case((Maybe_Mt <=> True), Maybe_MY, k_<t,MY>(True)))"
      ]
     },
     "execution_count": 20,
     "metadata": {},
     "output_type": "execute_result"
    }
   ],
   "source": [
    "bind(unit(te(True))).simplify_all(reduce=True)"
   ]
  },
  {
   "cell_type": "code",
   "execution_count": 21,
   "id": "e4b023d6-58d5-49fa-9119-94d73ef3de97",
   "metadata": {},
   "outputs": [
    {
     "data": {
      "text/latex": [
       "$\\lambda{} k_{\\left\\langle{}X,MX'\\right\\rangle{}} \\: . \\: {Maybe}_{MX'}$"
      ],
      "text/plain": [
       "(λ k_<X,MX1>: Maybe_MX1)"
      ]
     },
     "execution_count": 21,
     "metadata": {},
     "output_type": "execute_result"
    }
   ],
   "source": [
    "meta.core.let_wrapper(bind(MaybeTerm()).simplify_all(reduce=True))"
   ]
  },
  {
   "cell_type": "code",
   "execution_count": 22,
   "id": "4a2952cd-c6d9-4c15-965f-d1988410ce81",
   "metadata": {},
   "outputs": [
    {
     "data": {
      "text/html": [
       "Composition system 'Type-driven composition (copy)'<br />Operations: {<br />&nbsp;&nbsp;&nbsp;&nbsp;Binary composition rule <i>FA</i>, built on python function 'lamb.lang.fa_fun'<br />&nbsp;&nbsp;&nbsp;&nbsp;Binary composition rule <i>PA</i>, built on python function 'lamb.lang.pa_fun'<br />&nbsp;&nbsp;&nbsp;&nbsp;Binary composition rule <i>VAC</i>, built on python function 'lamb.lang.binary_vacuous'<br />&nbsp;&nbsp;&nbsp;&nbsp;Typeshift <i>UnitShift</i>, built on combinator '$\\lambda{} x_{X} \\: . \\: \\textsf{MaybeWrap}({x})$'<br />&nbsp;&nbsp;&nbsp;&nbsp;Unary composition rule <i>Unit</i>, built on combinator '$\\lambda{} x_{X} \\: . \\: \\textsf{MaybeWrap}({x})$'<br />&nbsp;&nbsp;&nbsp;&nbsp;Binary composition rule <i>Bind</i>, built on combinator '$\\lambda{} m_{MX} \\: . \\: \\lambda{} k_{\\left\\langle{}X,MY\\right\\rangle{}} \\: . \\: \\begin{cases}\n",
       "{Maybe}_{MY} & \\text{if }{Maybe}_{MX} = {m} \\\\{k}(\\textsf{Unmaybe}({m})) & \\text{otherwise} \\end{cases}$'<br />}"
      ],
      "text/plain": [
       "Composition system: Type-driven composition (copy)"
      ]
     },
     "execution_count": 22,
     "metadata": {},
     "output_type": "execute_result"
    }
   ],
   "source": [
    "system = lang.td_system.copy()\n",
    "lang.set_system(system)\n",
    "system.add_typeshift(unit, \"UnitShift\")\n",
    "system.add_unary_rule(unit, \"Unit\")\n",
    "\n",
    "system.add_binary_rule(bind, \"Bind\")\n",
    "# system.add_binary_rule(lapply, \"LiftedFA\")\n",
    "# do a bit of cleanup, we don't need PM here.\n",
    "system.remove_rule('PM')\n",
    "system.typeshift = True\n",
    "system"
   ]
  },
  {
   "cell_type": "code",
   "execution_count": 23,
   "id": "09aeb25c-3332-4093-a53a-a7d0e788c865",
   "metadata": {},
   "outputs": [
    {
     "name": "stdout",
     "output_type": "stream",
     "text": [
      "INFO (core): Coerced guessed type for 'Have_t' into <(e,e),t>, to match argument '(T_e, x_e)'\n",
      "INFO (core): Coerced guessed type for 'Have_t' into <(e,e),t>, to match argument '(T_e, x_e)'\n"
     ]
    },
    {
     "data": {
      "text/latex": [
       "$\\lambda{} f_{\\left\\langle{}e,t\\right\\rangle{}} \\: . \\: \\begin{cases}\n",
       "\\textsf{MaybeWrap}(\\iota{} x_{e} \\: . \\: {f}({x}) \\wedge{} {Have}({T}_{e}, {x})) & \\text{if }\\exists{}! x_{e} \\: . \\: {f}({x}) \\wedge{} {Have}({T}_{e}, {x}) \\\\{Maybe}_{Me} & \\text{otherwise} \\end{cases}$"
      ],
      "text/plain": [
       "(λ f_<e,t>: Case((ExistsExact x_e: (f_<e,t>(x_e) & Have_<(e,e),t>(T_e, x_e))), MaybeWrap((ι x_e: (f_<e,t>(x_e) & Have_<(e,e),t>(T_e, x_e)))), Maybe_Me))"
      ]
     },
     "execution_count": 23,
     "metadata": {},
     "output_type": "execute_result"
    }
   ],
   "source": [
    "%te globals L f_<e,t> : Case((ExistsExact x_e : f(x) & Have(T_e, x)), MaybeWrap(Iota x_e : f(x) & Have(T_e, x)), Maybe)"
   ]
  },
  {
   "cell_type": "code",
   "execution_count": 24,
   "id": "5132019f-b05c-4c2a-8907-2c9083860ead",
   "metadata": {},
   "outputs": [
    {
     "data": {
      "text/latex": [
       "$\\lambda{} p_{Mt} \\: . \\: \\lambda{} q_{Mt} \\: . \\: \\begin{cases}\n",
       "{Maybe}_{Mt} & \\text{if }{p} = {Maybe}_{Mt} \\\\\n",
       "\\textsf{MaybeWrap}(\\textsf{True}) & \\text{if }{p} = \\textsf{MaybeWrap}(\\textsf{False}) \\\\{q} & \\text{otherwise} \\end{cases}$"
      ],
      "text/plain": [
       "(λ p_Mt: (λ q_Mt: Case((p_Mt <=> Maybe_Mt), Maybe_Mt, Case((p_Mt <=> MaybeWrap(False)), MaybeWrap(True), q_Mt))))"
      ]
     },
     "execution_count": 24,
     "metadata": {},
     "output_type": "execute_result"
    }
   ],
   "source": [
    "%te globals L p_Mt : L q_Mt : Case(p <=> Maybe, Maybe, Case(p <=> MaybeWrap(False), MaybeWrap(True), q))\n",
    "# %te globals L p_Mt : L q_Mt : Case(p <=> Maybe, Maybe, q)"
   ]
  },
  {
   "cell_type": "code",
   "execution_count": 25,
   "id": "a5e5fc31-2f52-41ea-a7df-d56f6bbcd094",
   "metadata": {},
   "outputs": [
    {
     "name": "stdout",
     "output_type": "stream",
     "text": [
      "INFO (core): Coerced guessed type for 'Have_t' into <(e,e),t>, to match argument '(T_e, x_e)'\n",
      "INFO (core): Coerced guessed type for 'Have_t' into <(e,e),t>, to match argument '(T_e, x_e)'\n",
      "INFO (core): Coerced guessed type for 'Suit_t' into <e,t>, to match argument 'x_e'\n",
      "INFO (core): Coerced guessed type for 'Bring_t' into <(e,e),t>, to match argument '(x_e, y_e)'\n",
      "INFO (core): Coerced guessed type for 'Bro_t' into <e,t>, to match argument 'x_e'\n"
     ]
    },
    {
     "data": {
      "text/markdown": [
       "$[\\![\\text{\\textbf{his}}]\\!]^{}_{\\left\\langle{}\\left\\langle{}e,t\\right\\rangle{},Me\\right\\rangle{}} \\:=\\: \\lambda{} f_{\\left\\langle{}e,t\\right\\rangle{}} \\: . \\: \\begin{cases}\n",
       "\\textsf{MaybeWrap}(\\iota{} x_{e} \\: . \\: {Have}({T}_{e}, {x}) \\wedge{} {f}({x})) & \\text{if }\\exists{}! x_{e} \\: . \\: {Have}({T}_{e}, {x}) \\wedge{} {f}({x}) \\\\{Maybe}_{Me} & \\text{otherwise} \\end{cases}$<br />\n",
       "$[\\![\\text{\\textbf{suit}}]\\!]^{}_{\\left\\langle{}e,t\\right\\rangle{}} \\:=\\: \\lambda{} x_{e} \\: . \\: {Suit}({x})$<br />\n",
       "$[\\![\\text{\\textbf{bring}}]\\!]^{}_{\\left\\langle{}e,\\left\\langle{}e,t\\right\\rangle{}\\right\\rangle{}} \\:=\\: \\lambda{} y_{e} \\: . \\: \\lambda{} x_{e} \\: . \\: {Bring}({x}, {y})$<br />\n",
       "$[\\![\\text{\\textbf{theo}}]\\!]^{}_{e} \\:=\\: {Theo}_{e}$<br />\n",
       "$[\\![\\text{\\textbf{has\\_bro}}]\\!]^{}_{\\left\\langle{}e,t\\right\\rangle{}} \\:=\\: \\lambda{} x_{e} \\: . \\: {Bro}({x})$<br />\n",
       "$[\\![\\text{\\textbf{if\\_}}]\\!]^{}_{\\left\\langle{}Mt,\\left\\langle{}Mt,Mt\\right\\rangle{}\\right\\rangle{}} \\:=\\: \\lambda{} p_{Mt} \\: . \\: \\lambda{} q_{Mt} \\: . \\: \\begin{cases}\n",
       "{Maybe}_{Mt} & \\text{if }{Maybe}_{Mt} = {p} \\\\\n",
       "{\\textsf{True}}_{Mt} & \\text{if }{p} = {\\textsf{False}}_{Mt} \\\\{q} & \\text{otherwise} \\end{cases}$"
      ],
      "text/plain": [
       "⟦his⟧ = (λ f_<e,t>: Case((ExistsExact x_e: (Have_<(e,e),t>(T_e, x_e) & f_<e,t>(x_e))), MaybeWrap((ι x_e: (Have_<(e,e),t>(T_e, x_e) & f_<e,t>(x_e)))), Maybe_Me))\n",
       "⟦suit⟧ = (λ x_e: Suit_<e,t>(x_e))\n",
       "⟦bring⟧ = (λ y_e: (λ x_e: Bring_<(e,e),t>(x_e, y_e)))\n",
       "⟦theo⟧ = Theo_e\n",
       "⟦has_bro⟧ = (λ x_e: Bro_<e,t>(x_e))\n",
       "⟦if_⟧ = (λ p_Mt: (λ q_Mt: Case((Maybe_Mt <=> p_Mt), Maybe_Mt, Case((p_Mt <=> False), True, q_Mt))))"
      ]
     },
     "metadata": {},
     "output_type": "display_data"
    }
   ],
   "source": [
    "%%lamb\n",
    "||his|| = L f_<e,t> : Case((ExistsExact x_e : f(x) & Have(T_e, x)), MaybeWrap(Iota x_e : f(x) & Have(T_e, x)), Maybe)\n",
    "||suit|| = L x_e : Suit(x)\n",
    "||bring|| = L y_e : L x_e : Bring(x,y)\n",
    "||theo|| = Theo_e\n",
    "||has_bro|| = L x_e : Bro(x)\n",
    "||if_|| = L p_Mt : L q_Mt : Case(p <=> Maybe, Maybe, Case(p <=> MaybeWrap(False), MaybeWrap(True), q))"
   ]
  },
  {
   "cell_type": "code",
   "execution_count": 26,
   "id": "3379ed1b-394e-4465-9765-7a0611755c4d",
   "metadata": {},
   "outputs": [
    {
     "data": {
      "text/latex": [
       "$[\\![\\text{\\textbf{bring}}]\\!]^{}_{\\left\\langle{}e,\\left\\langle{}e,t\\right\\rangle{}\\right\\rangle{}} \\:=\\: \\lambda{} y_{e} \\: . \\: \\lambda{} x_{e} \\: . \\: {Bring}({x}, {y})$"
      ],
      "text/plain": [
       "⟦bring⟧ = (λ y_e: (λ x_e: Bring_<(e,e),t>(x_e, y_e)))"
      ]
     },
     "execution_count": 26,
     "metadata": {},
     "output_type": "execute_result"
    }
   ],
   "source": [
    "bring"
   ]
  },
  {
   "cell_type": "code",
   "execution_count": 27,
   "id": "93908f7a-0a74-4c62-b6aa-daf27c414790",
   "metadata": {},
   "outputs": [
    {
     "data": {
      "text/markdown": [
       "1 composition path.  Result:<br />\n",
       "&nbsp;&nbsp;&nbsp;&nbsp;[0]: $[\\![\\text{\\textbf{[his suit]}}]\\!]^{}_{Me} \\:=\\: \\begin{cases}\n",
       "\\textsf{MaybeWrap}(\\iota{} x_{e} \\: . \\: {Have}({T}_{e}, {x}) \\wedge{} {Suit}({x})) & \\text{if }\\exists{}! x_{e} \\: . \\: {Have}({T}_{e}, {x}) \\wedge{} {Suit}({x}) \\\\{Maybe}_{Me} & \\text{otherwise} \\end{cases}$"
      ],
      "text/plain": [
       "1 composition path.  Result:\n",
       "    [0]: ⟦his⟧ * ⟦suit⟧ leads to: ⟦[his suit]⟧ = Case((ExistsExact x_e: (Have_<(e,e),t>(T_e, x_e) & Suit_<e,t>(x_e))), MaybeWrap((ι x_e: (Have_<(e,e),t>(T_e, x_e) & Suit_<e,t>(x_e)))), Maybe_Me) [by FA]"
      ]
     },
     "metadata": {},
     "output_type": "display_data"
    }
   ],
   "source": [
    "his * suit"
   ]
  },
  {
   "cell_type": "code",
   "execution_count": 28,
   "id": "4a8a202a-83b6-44f7-88e9-968e76391783",
   "metadata": {},
   "outputs": [
    {
     "data": {
      "text/html": [
       "1 composition path:<br /><div align=\"center\" style=\"display:table; margin:5px; border-collapse: collapse;border: 1px solid #848482;\"><div align=\"center\" style=\"display:table-row;border-bottom:1px solid #848482\"><div style=\"display:table-cell;vertical-align:middle;\"><div style=\"display: table;\"><div style=\"display:table-cell;vertical-align:middle;padding-left:5px;padding-right:5px;padding-top:5px;padding-bottom:5px;\"><div align=\"center\" style=\"display:table; margin:5px; border-collapse: collapse;border: 1px solid #848482;\"><div align=\"center\" style=\"display:table-row;border-bottom:1px solid #848482\"><div style=\"display:table-cell;vertical-align:middle;\"><div style=\"display: table;\"><div style=\"display:table-cell;vertical-align:middle;padding-left:5px;padding-right:5px;padding-top:5px;padding-bottom:5px;\"><div align=\"center\" style=\"display:block;padding-left:5px;padding-right:5px;padding-top:5px;padding-bottom:5px;\"><div style=\"display:table;table-layout:auto;\" align=\"center\"><div style=\"display:table-row;\"><div style=\"display:table-cell;padding-right:2px; padding-left:2px;\" align=\"center\"><div style=\"display:inline-block;\"><span>$[\\![\\text{\\textbf{1}}]\\!]^{}$</span></div></div></div><div style=\"display:table-row;\"><div style=\"display:table-cell;padding-right:2px; padding-left:2px;\" align=\"center\"><div style=\"display:inline-block;\"><span>[idx: 1]</span></div></div></div></div></div></div><div style=\"align: center; vertical-align: middle; display: table-cell;\"><span style=\"padding:1em;\">*</span></div><div style=\"display:table-cell;vertical-align:middle;padding-left:5px;padding-right:5px;padding-top:5px;padding-bottom:5px;\"><div align=\"center\" style=\"display:table; margin:5px; border-collapse: collapse;border: 1px solid #848482;\"><div align=\"center\" style=\"display:table-row;border-bottom:1px solid #848482\"><div style=\"display:table-cell;vertical-align:middle;\"><div style=\"display: table;\"><div style=\"display:table-cell;vertical-align:middle;padding-left:5px;padding-right:5px;padding-top:5px;padding-bottom:5px;\"><div align=\"center\" style=\"display:table; margin:5px; border-collapse: collapse;border: 1px solid #848482;\"><div align=\"center\" style=\"display:table-row;border-bottom:1px solid #848482\"><div style=\"display:table-cell;vertical-align:middle;\"><div style=\"display: table;\"><div style=\"display:table-cell;vertical-align:middle;padding-left:5px;padding-right:5px;padding-top:5px;padding-bottom:5px;\"><div align=\"center\" style=\"display:block;padding-left:5px;padding-right:5px;padding-top:5px;padding-bottom:5px;\"><div style=\"display:table;table-layout:auto;\" align=\"center\"><div style=\"display:table-row;\"><div style=\"display:table-cell;padding-right:2px; padding-left:2px;\" align=\"center\"><div style=\"display:inline-block;\"><span>$[\\![\\text{\\textbf{theo}}]\\!]^{}_{e}$</span></div></div></div><div style=\"display:table-row;\"><div style=\"display:table-cell;padding-right:2px; padding-left:2px;\" align=\"center\"><div style=\"display:inline-block;\"><span>${Theo}_{e}$</span></div></div></div></div></div></div><div style=\"align: center; vertical-align: middle; display: table-cell;\"><span style=\"padding:1em;\">*</span></div><div style=\"display:table-cell;vertical-align:middle;padding-left:5px;padding-right:5px;padding-top:5px;padding-bottom:5px;\"><div align=\"center\" style=\"display:table; margin:5px; border-collapse: collapse;border: 1px solid #848482;\"><div align=\"center\" style=\"display:table-row;border-bottom:1px solid #848482\"><div style=\"display:table-cell;vertical-align:middle;\"><div style=\"display: table;\"><div style=\"display:table-cell;vertical-align:middle;padding-left:5px;padding-right:5px;padding-top:5px;padding-bottom:5px;\"><div align=\"center\" style=\"display:block;padding-left:5px;padding-right:5px;padding-top:5px;padding-bottom:5px;\"><div style=\"display:table;table-layout:auto;\" align=\"center\"><div style=\"display:table-row;\"><div style=\"display:table-cell;padding-right:2px; padding-left:2px;\" align=\"center\"><div style=\"display:inline-block;\"><span>$[\\![\\text{\\textbf{bring}}]\\!]^{}_{\\left\\langle{}e,\\left\\langle{}e,t\\right\\rangle{}\\right\\rangle{}}$</span></div></div></div><div style=\"display:table-row;\"><div style=\"display:table-cell;padding-right:2px; padding-left:2px;\" align=\"center\"><div style=\"display:inline-block;\"><span>$\\lambda{} y_{e} \\: . \\: \\lambda{} x_{e} \\: . \\: {Bring}({x}, {y})$</span></div></div></div></div></div></div><div style=\"align: center; vertical-align: middle; display: table-cell;\"><span style=\"padding:1em;\">*</span></div><div style=\"display:table-cell;vertical-align:middle;padding-left:5px;padding-right:5px;padding-top:5px;padding-bottom:5px;\"><div align=\"center\" style=\"display:block;padding-left:5px;padding-right:5px;padding-top:5px;padding-bottom:5px;\"><div style=\"display:table;table-layout:auto;\" align=\"center\"><div style=\"display:table-row;\"><div style=\"display:table-cell;padding-right:2px; padding-left:2px;\" align=\"center\"><div style=\"display:inline-block;\"><span>$[\\![\\text{\\textbf{t}}_{1}]\\!]^{}_{e}$</span></div></div></div><div style=\"display:table-row;\"><div style=\"display:table-cell;padding-right:2px; padding-left:2px;\" align=\"center\"><div style=\"display:inline-block;\"><span>${var1}_{e}$</span></div></div></div></div></div></div></div></div><div style=\"display:table-cell;vertical-align:middle;border-left:1px solid #848482;padding:0.5em\"><div style=\"white-space:nowrap; color:blue;\"><b>[<span>FA</span>]</b></div></div></div><div align=\"center\" style=\"display:table-row;padding-left:5px;padding-right:5px;padding-top:5px;padding-bottom:5px;\"><div align=\"center\" style=\"display:table-cell;\"><div align=\"center\" style=\"display:block;padding-left:5px;padding-right:5px;padding-top:5px;padding-bottom:5px;\"><div style=\"display:table;table-layout:auto;\" align=\"center\"><div style=\"display:table-row;\"><div style=\"display:table-cell;padding-right:2px; padding-left:2px;\" align=\"center\"><div style=\"display:inline-block;\"><span>$[\\![\\text{\\textbf{[bring t1]}}]\\!]^{}_{\\left\\langle{}e,t\\right\\rangle{}}$</span></div></div></div><div style=\"display:table-row;\"><div style=\"display:table-cell;padding-right:2px; padding-left:2px;\" align=\"center\"><div style=\"display:inline-block;\"><span>$\\lambda{} x_{e} \\: . \\: {Bring}({x}, {var1}_{e})$</span></div></div></div></div></div></div><div style=\"display:table-cell;\"></div></div></div></div></div></div><div style=\"display:table-cell;vertical-align:middle;border-left:1px solid #848482;padding:0.5em\"><div style=\"white-space:nowrap; color:blue;\"><b>[<span>FA</span>]</b></div></div></div><div align=\"center\" style=\"display:table-row;padding-left:5px;padding-right:5px;padding-top:5px;padding-bottom:5px;\"><div align=\"center\" style=\"display:table-cell;\"><div align=\"center\" style=\"display:block;padding-left:5px;padding-right:5px;padding-top:5px;padding-bottom:5px;\"><div style=\"display:table;table-layout:auto;\" align=\"center\"><div style=\"display:table-row;\"><div style=\"display:table-cell;padding-right:2px; padding-left:2px;\" align=\"center\"><div style=\"display:inline-block;\"><span>$[\\![\\text{\\textbf{[theo [bring t1]]}}]\\!]^{}_{t}$</span></div></div></div><div style=\"display:table-row;\"><div style=\"display:table-cell;padding-right:2px; padding-left:2px;\" align=\"center\"><div style=\"display:inline-block;\"><span>${Bring}({Theo}_{e}, {var1}_{e})$</span></div></div></div></div></div></div><div style=\"display:table-cell;\"></div></div></div></div></div></div><div style=\"display:table-cell;vertical-align:middle;border-left:1px solid #848482;padding:0.5em\"><div style=\"white-space:nowrap; color:blue;\"><b>[<span>Unit</span>]</b></div></div></div><div align=\"center\" style=\"display:table-row;padding-left:5px;padding-right:5px;padding-top:5px;padding-bottom:5px;\"><div align=\"center\" style=\"display:table-cell;\"><div align=\"center\" style=\"display:block;padding-left:5px;padding-right:5px;padding-top:5px;padding-bottom:5px;\"><div style=\"display:table;table-layout:auto;\" align=\"center\"><div style=\"display:table-row;\"><div style=\"display:table-cell;padding-right:2px; padding-left:2px;\" align=\"center\"><div style=\"display:inline-block;\"><span>$[\\![\\text{\\textbf{[[theo [bring t1]]]}}]\\!]^{}_{Mt}$</span></div></div></div><div style=\"display:table-row;\"><div style=\"display:table-cell;padding-right:2px; padding-left:2px;\" align=\"center\"><div style=\"display:inline-block;\"><span>$\\textsf{MaybeWrap}({Bring}({Theo}_{e}, {var1}_{e}))$</span></div></div></div></div></div></div><div style=\"display:table-cell;\"></div></div></div></div></div></div><div style=\"display:table-cell;vertical-align:middle;border-left:1px solid #848482;padding:0.5em\"><div style=\"white-space:nowrap; color:blue;\"><b>[<span>PA</span>]</b></div></div></div><div align=\"center\" style=\"display:table-row;padding-left:5px;padding-right:5px;padding-top:5px;padding-bottom:5px;\"><div align=\"center\" style=\"display:table-cell;\"><div align=\"center\" style=\"display:block;padding-left:5px;padding-right:5px;padding-top:5px;padding-bottom:5px;\"><div style=\"display:table;table-layout:auto;\" align=\"center\"><div style=\"display:table-row;\"><div style=\"display:table-cell;padding-right:2px; padding-left:2px;\" align=\"center\"><div style=\"display:inline-block;\"><span>$[\\![\\text{\\textbf{[1 [[theo [bring t1]]]]}}]\\!]^{}_{\\left\\langle{}e,Mt\\right\\rangle{}}$</span></div></div></div><div style=\"display:table-row;\"><div style=\"display:table-cell;padding-right:2px; padding-left:2px;\" align=\"center\"><div style=\"display:inline-block;\"><span>$\\lambda{} x_{e} \\: . \\: \\textsf{MaybeWrap}({Bring}({Theo}_{e}, {x}))$</span></div></div></div></div></div></div><div style=\"display:table-cell;\"></div></div></div></div><div style=\"align: center; vertical-align: middle; display: table-cell;\"><span style=\"padding:1em;\">*</span></div><div style=\"display:table-cell;vertical-align:middle;padding-left:5px;padding-right:5px;padding-top:5px;padding-bottom:5px;\"><div align=\"center\" style=\"display:table; margin:5px; border-collapse: collapse;border: 1px solid #848482;\"><div align=\"center\" style=\"display:table-row;border-bottom:1px solid #848482\"><div style=\"display:table-cell;vertical-align:middle;\"><div style=\"display: table;\"><div style=\"display:table-cell;vertical-align:middle;padding-left:5px;padding-right:5px;padding-top:5px;padding-bottom:5px;\"><div align=\"center\" style=\"display:block;padding-left:5px;padding-right:5px;padding-top:5px;padding-bottom:5px;\"><div style=\"display:table;table-layout:auto;\" align=\"center\"><div style=\"display:table-row;\"><div style=\"display:table-cell;padding-right:2px; padding-left:2px;\" align=\"center\"><div style=\"display:inline-block;\"><span>$[\\![\\text{\\textbf{theo}}]\\!]^{}_{e}$</span></div></div></div><div style=\"display:table-row;\"><div style=\"display:table-cell;padding-right:2px; padding-left:2px;\" align=\"center\"><div style=\"display:inline-block;\"><span>${Theo}_{e}$</span></div></div></div></div></div></div></div></div><div style=\"display:table-cell;vertical-align:middle;border-left:1px solid #848482;padding:0.5em\"><div style=\"white-space:nowrap; color:blue;\"><b>[<span>Unit</span>]</b></div></div></div><div align=\"center\" style=\"display:table-row;padding-left:5px;padding-right:5px;padding-top:5px;padding-bottom:5px;\"><div align=\"center\" style=\"display:table-cell;\"><div align=\"center\" style=\"display:block;padding-left:5px;padding-right:5px;padding-top:5px;padding-bottom:5px;\"><div style=\"display:table;table-layout:auto;\" align=\"center\"><div style=\"display:table-row;\"><div style=\"display:table-cell;padding-right:2px; padding-left:2px;\" align=\"center\"><div style=\"display:inline-block;\"><span>$[\\![\\text{\\textbf{[theo]}}]\\!]^{}_{Me}$</span></div></div></div><div style=\"display:table-row;\"><div style=\"display:table-cell;padding-right:2px; padding-left:2px;\" align=\"center\"><div style=\"display:inline-block;\"><span>$\\textsf{MaybeWrap}({Theo}_{e})$</span></div></div></div></div></div></div><div style=\"display:table-cell;\"></div></div></div></div></div></div><div style=\"display:table-cell;vertical-align:middle;border-left:1px solid #848482;padding:0.5em\"><div style=\"white-space:nowrap; color:blue;\"><b>[<span>Bind</span>]</b></div></div></div><div align=\"center\" style=\"display:table-row;padding-left:5px;padding-right:5px;padding-top:5px;padding-bottom:5px;\"><div align=\"center\" style=\"display:table-cell;\"><div align=\"center\" style=\"display:block;padding-left:5px;padding-right:5px;padding-top:5px;padding-bottom:5px;\"><div style=\"display:table;table-layout:auto;\" align=\"center\"><div style=\"display:table-row;\"><div style=\"display:table-cell;padding-right:2px; padding-left:2px;\" align=\"center\"><div style=\"display:inline-block;\"><span>$[\\![\\text{\\textbf{[[1 [[theo [bring t1]]]] [theo]]}}]\\!]^{}_{Mt}$</span></div></div></div><div style=\"display:table-row;\"><div style=\"display:table-cell;padding-right:2px; padding-left:2px;\" align=\"center\"><div style=\"display:inline-block;\"><span>$\\begin{cases}\n",
       "{Maybe}_{Mt} &amp; \\text{if }{Maybe}_{Me} = \\textsf{MaybeWrap}({Theo}_{e}) \\\\\\textsf{MaybeWrap}({Bring}({Theo}_{e}, {Theo}_{e})) &amp; \\text{otherwise} \\end{cases}$</span></div></div></div></div></div></div><div style=\"display:table-cell;\"></div></div></div><br /><br />"
      ],
      "text/plain": [
       "1 composition path:<br /><div align=\"center\" style=\"display:table; margin:5px; border-collapse: collapse;border: 1px solid #848482;\"><div align=\"center\" style=\"display:table-row;border-bottom:1px solid #848482\"><div style=\"display:table-cell;vertical-align:middle;\"><div style=\"display: table;\"><div style=\"display:table-cell;vertical-align:middle;padding-left:5px;padding-right:5px;padding-top:5px;padding-bottom:5px;\"><div align=\"center\" style=\"display:table; margin:5px; border-collapse: collapse;border: 1px solid #848482;\"><div align=\"center\" style=\"display:table-row;border-bottom:1px solid #848482\"><div style=\"display:table-cell;vertical-align:middle;\"><div style=\"display: table;\"><div style=\"display:table-cell;vertical-align:middle;padding-left:5px;padding-right:5px;padding-top:5px;padding-bottom:5px;\"><div align=\"center\" style=\"display:block;padding-left:5px;padding-right:5px;padding-top:5px;padding-bottom:5px;\"><div style=\"display:table;table-layout:auto;\" align=\"center\"><div style=\"display:table-row;\"><div style=\"display:table-cell;padding-right:2px; padding-left:2px;\" align=\"center\"><div style=\"display:inline-block;\"><span>$[\\![\\text{\\textbf{1}}]\\!]^{}$</span></div></div></div><div style=\"display:table-row;\"><div style=\"display:table-cell;padding-right:2px; padding-left:2px;\" align=\"center\"><div style=\"display:inline-block;\"><span>[idx: 1]</span></div></div></div></div></div></div><div style=\"align: center; vertical-align: middle; display: table-cell;\"><span style=\"padding:1em;\">*</span></div><div style=\"display:table-cell;vertical-align:middle;padding-left:5px;padding-right:5px;padding-top:5px;padding-bottom:5px;\"><div align=\"center\" style=\"display:table; margin:5px; border-collapse: collapse;border: 1px solid #848482;\"><div align=\"center\" style=\"display:table-row;border-bottom:1px solid #848482\"><div style=\"display:table-cell;vertical-align:middle;\"><div style=\"display: table;\"><div style=\"display:table-cell;vertical-align:middle;padding-left:5px;padding-right:5px;padding-top:5px;padding-bottom:5px;\"><div align=\"center\" style=\"display:table; margin:5px; border-collapse: collapse;border: 1px solid #848482;\"><div align=\"center\" style=\"display:table-row;border-bottom:1px solid #848482\"><div style=\"display:table-cell;vertical-align:middle;\"><div style=\"display: table;\"><div style=\"display:table-cell;vertical-align:middle;padding-left:5px;padding-right:5px;padding-top:5px;padding-bottom:5px;\"><div align=\"center\" style=\"display:block;padding-left:5px;padding-right:5px;padding-top:5px;padding-bottom:5px;\"><div style=\"display:table;table-layout:auto;\" align=\"center\"><div style=\"display:table-row;\"><div style=\"display:table-cell;padding-right:2px; padding-left:2px;\" align=\"center\"><div style=\"display:inline-block;\"><span>$[\\![\\text{\\textbf{theo}}]\\!]^{}_{e}$</span></div></div></div><div style=\"display:table-row;\"><div style=\"display:table-cell;padding-right:2px; padding-left:2px;\" align=\"center\"><div style=\"display:inline-block;\"><span>${Theo}_{e}$</span></div></div></div></div></div></div><div style=\"align: center; vertical-align: middle; display: table-cell;\"><span style=\"padding:1em;\">*</span></div><div style=\"display:table-cell;vertical-align:middle;padding-left:5px;padding-right:5px;padding-top:5px;padding-bottom:5px;\"><div align=\"center\" style=\"display:table; margin:5px; border-collapse: collapse;border: 1px solid #848482;\"><div align=\"center\" style=\"display:table-row;border-bottom:1px solid #848482\"><div style=\"display:table-cell;vertical-align:middle;\"><div style=\"display: table;\"><div style=\"display:table-cell;vertical-align:middle;padding-left:5px;padding-right:5px;padding-top:5px;padding-bottom:5px;\"><div align=\"center\" style=\"display:block;padding-left:5px;padding-right:5px;padding-top:5px;padding-bottom:5px;\"><div style=\"display:table;table-layout:auto;\" align=\"center\"><div style=\"display:table-row;\"><div style=\"display:table-cell;padding-right:2px; padding-left:2px;\" align=\"center\"><div style=\"display:inline-block;\"><span>$[\\![\\text{\\textbf{bring}}]\\!]^{}_{\\left\\langle{}e,\\left\\langle{}e,t\\right\\rangle{}\\right\\rangle{}}$</span></div></div></div><div style=\"display:table-row;\"><div style=\"display:table-cell;padding-right:2px; padding-left:2px;\" align=\"center\"><div style=\"display:inline-block;\"><span>$\\lambda{} y_{e} \\: . \\: \\lambda{} x_{e} \\: . \\: {Bring}({x}, {y})$</span></div></div></div></div></div></div><div style=\"align: center; vertical-align: middle; display: table-cell;\"><span style=\"padding:1em;\">*</span></div><div style=\"display:table-cell;vertical-align:middle;padding-left:5px;padding-right:5px;padding-top:5px;padding-bottom:5px;\"><div align=\"center\" style=\"display:block;padding-left:5px;padding-right:5px;padding-top:5px;padding-bottom:5px;\"><div style=\"display:table;table-layout:auto;\" align=\"center\"><div style=\"display:table-row;\"><div style=\"display:table-cell;padding-right:2px; padding-left:2px;\" align=\"center\"><div style=\"display:inline-block;\"><span>$[\\![\\text{\\textbf{t}}_{1}]\\!]^{}_{e}$</span></div></div></div><div style=\"display:table-row;\"><div style=\"display:table-cell;padding-right:2px; padding-left:2px;\" align=\"center\"><div style=\"display:inline-block;\"><span>${var1}_{e}$</span></div></div></div></div></div></div></div></div><div style=\"display:table-cell;vertical-align:middle;border-left:1px solid #848482;padding:0.5em\"><div style=\"white-space:nowrap; color:blue;\"><b>[<span>FA</span>]</b></div></div></div><div align=\"center\" style=\"display:table-row;padding-left:5px;padding-right:5px;padding-top:5px;padding-bottom:5px;\"><div align=\"center\" style=\"display:table-cell;\"><div align=\"center\" style=\"display:block;padding-left:5px;padding-right:5px;padding-top:5px;padding-bottom:5px;\"><div style=\"display:table;table-layout:auto;\" align=\"center\"><div style=\"display:table-row;\"><div style=\"display:table-cell;padding-right:2px; padding-left:2px;\" align=\"center\"><div style=\"display:inline-block;\"><span>$[\\![\\text{\\textbf{[bring t1]}}]\\!]^{}_{\\left\\langle{}e,t\\right\\rangle{}}$</span></div></div></div><div style=\"display:table-row;\"><div style=\"display:table-cell;padding-right:2px; padding-left:2px;\" align=\"center\"><div style=\"display:inline-block;\"><span>$\\lambda{} x_{e} \\: . \\: {Bring}({x}, {var1}_{e})$</span></div></div></div></div></div></div><div style=\"display:table-cell;\"></div></div></div></div></div></div><div style=\"display:table-cell;vertical-align:middle;border-left:1px solid #848482;padding:0.5em\"><div style=\"white-space:nowrap; color:blue;\"><b>[<span>FA</span>]</b></div></div></div><div align=\"center\" style=\"display:table-row;padding-left:5px;padding-right:5px;padding-top:5px;padding-bottom:5px;\"><div align=\"center\" style=\"display:table-cell;\"><div align=\"center\" style=\"display:block;padding-left:5px;padding-right:5px;padding-top:5px;padding-bottom:5px;\"><div style=\"display:table;table-layout:auto;\" align=\"center\"><div style=\"display:table-row;\"><div style=\"display:table-cell;padding-right:2px; padding-left:2px;\" align=\"center\"><div style=\"display:inline-block;\"><span>$[\\![\\text{\\textbf{[theo [bring t1]]}}]\\!]^{}_{t}$</span></div></div></div><div style=\"display:table-row;\"><div style=\"display:table-cell;padding-right:2px; padding-left:2px;\" align=\"center\"><div style=\"display:inline-block;\"><span>${Bring}({Theo}_{e}, {var1}_{e})$</span></div></div></div></div></div></div><div style=\"display:table-cell;\"></div></div></div></div></div></div><div style=\"display:table-cell;vertical-align:middle;border-left:1px solid #848482;padding:0.5em\"><div style=\"white-space:nowrap; color:blue;\"><b>[<span>Unit</span>]</b></div></div></div><div align=\"center\" style=\"display:table-row;padding-left:5px;padding-right:5px;padding-top:5px;padding-bottom:5px;\"><div align=\"center\" style=\"display:table-cell;\"><div align=\"center\" style=\"display:block;padding-left:5px;padding-right:5px;padding-top:5px;padding-bottom:5px;\"><div style=\"display:table;table-layout:auto;\" align=\"center\"><div style=\"display:table-row;\"><div style=\"display:table-cell;padding-right:2px; padding-left:2px;\" align=\"center\"><div style=\"display:inline-block;\"><span>$[\\![\\text{\\textbf{[[theo [bring t1]]]}}]\\!]^{}_{Mt}$</span></div></div></div><div style=\"display:table-row;\"><div style=\"display:table-cell;padding-right:2px; padding-left:2px;\" align=\"center\"><div style=\"display:inline-block;\"><span>$\\textsf{MaybeWrap}({Bring}({Theo}_{e}, {var1}_{e}))$</span></div></div></div></div></div></div><div style=\"display:table-cell;\"></div></div></div></div></div></div><div style=\"display:table-cell;vertical-align:middle;border-left:1px solid #848482;padding:0.5em\"><div style=\"white-space:nowrap; color:blue;\"><b>[<span>PA</span>]</b></div></div></div><div align=\"center\" style=\"display:table-row;padding-left:5px;padding-right:5px;padding-top:5px;padding-bottom:5px;\"><div align=\"center\" style=\"display:table-cell;\"><div align=\"center\" style=\"display:block;padding-left:5px;padding-right:5px;padding-top:5px;padding-bottom:5px;\"><div style=\"display:table;table-layout:auto;\" align=\"center\"><div style=\"display:table-row;\"><div style=\"display:table-cell;padding-right:2px; padding-left:2px;\" align=\"center\"><div style=\"display:inline-block;\"><span>$[\\![\\text{\\textbf{[1 [[theo [bring t1]]]]}}]\\!]^{}_{\\left\\langle{}e,Mt\\right\\rangle{}}$</span></div></div></div><div style=\"display:table-row;\"><div style=\"display:table-cell;padding-right:2px; padding-left:2px;\" align=\"center\"><div style=\"display:inline-block;\"><span>$\\lambda{} x_{e} \\: . \\: \\textsf{MaybeWrap}({Bring}({Theo}_{e}, {x}))$</span></div></div></div></div></div></div><div style=\"display:table-cell;\"></div></div></div></div><div style=\"align: center; vertical-align: middle; display: table-cell;\"><span style=\"padding:1em;\">*</span></div><div style=\"display:table-cell;vertical-align:middle;padding-left:5px;padding-right:5px;padding-top:5px;padding-bottom:5px;\"><div align=\"center\" style=\"display:table; margin:5px; border-collapse: collapse;border: 1px solid #848482;\"><div align=\"center\" style=\"display:table-row;border-bottom:1px solid #848482\"><div style=\"display:table-cell;vertical-align:middle;\"><div style=\"display: table;\"><div style=\"display:table-cell;vertical-align:middle;padding-left:5px;padding-right:5px;padding-top:5px;padding-bottom:5px;\"><div align=\"center\" style=\"display:block;padding-left:5px;padding-right:5px;padding-top:5px;padding-bottom:5px;\"><div style=\"display:table;table-layout:auto;\" align=\"center\"><div style=\"display:table-row;\"><div style=\"display:table-cell;padding-right:2px; padding-left:2px;\" align=\"center\"><div style=\"display:inline-block;\"><span>$[\\![\\text{\\textbf{theo}}]\\!]^{}_{e}$</span></div></div></div><div style=\"display:table-row;\"><div style=\"display:table-cell;padding-right:2px; padding-left:2px;\" align=\"center\"><div style=\"display:inline-block;\"><span>${Theo}_{e}$</span></div></div></div></div></div></div></div></div><div style=\"display:table-cell;vertical-align:middle;border-left:1px solid #848482;padding:0.5em\"><div style=\"white-space:nowrap; color:blue;\"><b>[<span>Unit</span>]</b></div></div></div><div align=\"center\" style=\"display:table-row;padding-left:5px;padding-right:5px;padding-top:5px;padding-bottom:5px;\"><div align=\"center\" style=\"display:table-cell;\"><div align=\"center\" style=\"display:block;padding-left:5px;padding-right:5px;padding-top:5px;padding-bottom:5px;\"><div style=\"display:table;table-layout:auto;\" align=\"center\"><div style=\"display:table-row;\"><div style=\"display:table-cell;padding-right:2px; padding-left:2px;\" align=\"center\"><div style=\"display:inline-block;\"><span>$[\\![\\text{\\textbf{[theo]}}]\\!]^{}_{Me}$</span></div></div></div><div style=\"display:table-row;\"><div style=\"display:table-cell;padding-right:2px; padding-left:2px;\" align=\"center\"><div style=\"display:inline-block;\"><span>$\\textsf{MaybeWrap}({Theo}_{e})$</span></div></div></div></div></div></div><div style=\"display:table-cell;\"></div></div></div></div></div></div><div style=\"display:table-cell;vertical-align:middle;border-left:1px solid #848482;padding:0.5em\"><div style=\"white-space:nowrap; color:blue;\"><b>[<span>Bind</span>]</b></div></div></div><div align=\"center\" style=\"display:table-row;padding-left:5px;padding-right:5px;padding-top:5px;padding-bottom:5px;\"><div align=\"center\" style=\"display:table-cell;\"><div align=\"center\" style=\"display:block;padding-left:5px;padding-right:5px;padding-top:5px;padding-bottom:5px;\"><div style=\"display:table;table-layout:auto;\" align=\"center\"><div style=\"display:table-row;\"><div style=\"display:table-cell;padding-right:2px; padding-left:2px;\" align=\"center\"><div style=\"display:inline-block;\"><span>$[\\![\\text{\\textbf{[[1 [[theo [bring t1]]]] [theo]]}}]\\!]^{}_{Mt}$</span></div></div></div><div style=\"display:table-row;\"><div style=\"display:table-cell;padding-right:2px; padding-left:2px;\" align=\"center\"><div style=\"display:inline-block;\"><span>$\\begin{cases}\n",
       "{Maybe}_{Mt} &amp; \\text{if }{Maybe}_{Me} = \\textsf{MaybeWrap}({Theo}_{e}) \\\\\\textsf{MaybeWrap}({Bring}({Theo}_{e}, {Theo}_{e})) &amp; \\text{otherwise} \\end{cases}$</span></div></div></div></div></div></div><div style=\"display:table-cell;\"></div></div></div><br /><br />"
      ]
     },
     "execution_count": 28,
     "metadata": {},
     "output_type": "execute_result"
    }
   ],
   "source": [
    "((lang.Binder(1) * ((theo * (bring * lang.Trace(1))) * None)) * (theo * None)).tree()"
   ]
  },
  {
   "cell_type": "code",
   "execution_count": 29,
   "id": "267599d0-34d3-4e1a-a8a5-2d45855aa37f",
   "metadata": {},
   "outputs": [
    {
     "data": {
      "text/latex": [
       "$\\lambda{} m_{MX} \\: . \\: \\lambda{} k_{\\left\\langle{}X,MY\\right\\rangle{}} \\: . \\: \\begin{cases}\n",
       "{Maybe}_{MY} & \\text{if }{Maybe}_{MX} = {m} \\\\{k}(\\textsf{Unmaybe}({m})) & \\text{otherwise} \\end{cases}$"
      ],
      "text/plain": [
       "(λ m_MX: (λ k_<X,MY>: Case((Maybe_MX <=> m_MX), Maybe_MY, k_<X,MY>(Unmaybe(m_MX)))))"
      ]
     },
     "execution_count": 29,
     "metadata": {},
     "output_type": "execute_result"
    }
   ],
   "source": [
    "bind"
   ]
  },
  {
   "cell_type": "code",
   "execution_count": null,
   "id": "e7a4747b-68c5-4d47-908d-f47c108ffa44",
   "metadata": {},
   "outputs": [],
   "source": []
  },
  {
   "cell_type": "code",
   "execution_count": 30,
   "id": "b1bf7cbe-507a-44c0-9be1-53d141acf09b",
   "metadata": {},
   "outputs": [
    {
     "data": {
      "text/markdown": [
       "1 composition path.  Result:<br />\n",
       "&nbsp;&nbsp;&nbsp;&nbsp;[0]: $[\\![\\text{\\textbf{[[his suit] [1 [[theo [bring t1]]]]]}}]\\!]^{}_{Mt} \\:=\\: \\begin{cases}\n",
       "{Maybe}_{Mt} & \\text{if }{Maybe}_{Me} = \\begin{cases}\n",
       "\\textsf{MaybeWrap}(\\iota{} x_{e} \\: . \\: {Have}({T}_{e}, {x}) \\wedge{} {Suit}({x})) & \\text{if }(\\exists{}! x_{e} \\: . \\: {Have}({T}_{e}, {x}) \\wedge{} {Suit}({x})) \\\\{Maybe}_{Me} & \\text{otherwise} \\end{cases} \\\\\\textsf{MaybeWrap}({Bring}({Theo}_{e}, \\textsf{Unmaybe}(\\begin{cases}\n",
       "\\textsf{MaybeWrap}(\\iota{} x_{e} \\: . \\: {Have}({T}_{e}, {x}) \\wedge{} {Suit}({x})) & \\text{if }\\exists{}! x_{e} \\: . \\: {Have}({T}_{e}, {x}) \\wedge{} {Suit}({x}) \\\\{Maybe}_{Me} & \\text{otherwise} \\end{cases}))) & \\text{otherwise} \\end{cases}$"
      ],
      "text/plain": [
       "1 composition path.  Result:\n",
       "    [0]: ⟦[his suit]⟧ * ⟦[1 [[theo [bring t1]]]]⟧ leads to: ⟦[[his suit] [1 [[theo [bring t1]]]]]⟧ = Case((Maybe_Me <=> Case((ExistsExact x_e: (Have_<(e,e),t>(T_e, x_e) & Suit_<e,t>(x_e))), MaybeWrap((ι x_e: (Have_<(e,e),t>(T_e, x_e) & Suit_<e,t>(x_e)))), Maybe_Me)), Maybe_Mt, MaybeWrap(Bring_<(e,e),t>(Theo_e, Unmaybe(Case((ExistsExact x_e: (Have_<(e,e),t>(T_e, x_e) & Suit_<e,t>(x_e))), MaybeWrap((ι x_e: (Have_<(e,e),t>(T_e, x_e) & Suit_<e,t>(x_e)))), Maybe_Me))))) [by Bind]"
      ]
     },
     "metadata": {},
     "output_type": "display_data"
    }
   ],
   "source": [
    "(his * suit) * (lang.Binder(1) * ((theo * (bring * lang.Trace(1))) * None))"
   ]
  },
  {
   "cell_type": "code",
   "execution_count": 31,
   "id": "201029df-2374-416f-9416-5a41e61e8c14",
   "metadata": {},
   "outputs": [
    {
     "data": {
      "text/markdown": [
       "1 composition path.  Result:<br />\n",
       "&nbsp;&nbsp;&nbsp;&nbsp;[0]: $[\\![\\text{\\textbf{[if\\_ [[theo has\\_bro]]]}}]\\!]^{}_{\\left\\langle{}Mt,Mt\\right\\rangle{}} \\:=\\: \\lambda{} q_{Mt} \\: . \\: \\begin{cases}\n",
       "{Maybe}_{Mt} & \\text{if }{Maybe}_{Mt} = \\textsf{MaybeWrap}({Bro}({Theo}_{e})) \\\\\n",
       "{\\textsf{True}}_{Mt} & \\text{if }{\\textsf{False}}_{Mt} = \\textsf{MaybeWrap}({Bro}({Theo}_{e})) \\\\{q} & \\text{otherwise} \\end{cases}$"
      ],
      "text/plain": [
       "1 composition path.  Result:\n",
       "    [0]: ⟦if_⟧ * ⟦[[theo has_bro]]⟧ leads to: ⟦[if_ [[theo has_bro]]]⟧ = (λ q_Mt: Case((Maybe_Mt <=> MaybeWrap(Bro_<e,t>(Theo_e))), Maybe_Mt, Case((False <=> MaybeWrap(Bro_<e,t>(Theo_e))), True, q_Mt))) [by FA]"
      ]
     },
     "metadata": {},
     "output_type": "display_data"
    }
   ],
   "source": [
    "if_ * ((theo * has_bro) * None)"
   ]
  },
  {
   "cell_type": "code",
   "execution_count": 32,
   "id": "97668f44-d7fd-4ba5-861b-26c72bcac10d",
   "metadata": {},
   "outputs": [
    {
     "data": {
      "text/markdown": [
       "1 composition path.  Result:<br />\n",
       "&nbsp;&nbsp;&nbsp;&nbsp;[0]: $[\\![\\text{\\textbf{[[if\\_ [[theo has\\_bro]]] [[his suit] [1 [[theo [bring t1]]]]]]}}]\\!]^{}_{Mt} \\:=\\: \\begin{cases}\n",
       "{Maybe}_{Mt} & \\text{if }{Maybe}_{Mt} = \\textsf{MaybeWrap}({Bro}({Theo}_{e})) \\\\\n",
       "{\\textsf{True}}_{Mt} & \\text{if }{\\textsf{False}}_{Mt} = \\textsf{MaybeWrap}({Bro}({Theo}_{e})) \\\\\n",
       "{Maybe}_{Mt} & \\text{if }{Maybe}_{Me} = \\begin{cases}\n",
       "\\textsf{MaybeWrap}(\\iota{} x_{e} \\: . \\: {Have}({T}_{e}, {x}) \\wedge{} {Suit}({x})) & \\text{if }(\\exists{}! x_{e} \\: . \\: {Have}({T}_{e}, {x}) \\wedge{} {Suit}({x})) \\\\{Maybe}_{Me} & \\text{otherwise} \\end{cases} \\\\\\textsf{MaybeWrap}({Bring}({Theo}_{e}, \\textsf{Unmaybe}(\\begin{cases}\n",
       "\\textsf{MaybeWrap}(\\iota{} x_{e} \\: . \\: {Have}({T}_{e}, {x}) \\wedge{} {Suit}({x})) & \\text{if }\\exists{}! x_{e} \\: . \\: {Have}({T}_{e}, {x}) \\wedge{} {Suit}({x}) \\\\{Maybe}_{Me} & \\text{otherwise} \\end{cases}))) & \\text{otherwise} \\end{cases}$"
      ],
      "text/plain": [
       "1 composition path.  Result:\n",
       "    [0]: ⟦[if_ [[theo has_bro]]]⟧ * ⟦[[his suit] [1 [[theo [bring t1]]]]]⟧ leads to: ⟦[[if_ [[theo has_bro]]] [[his suit] [1 [[theo [bring t1]]]]]]⟧ = Case((Maybe_Mt <=> MaybeWrap(Bro_<e,t>(Theo_e))), Maybe_Mt, Case((False <=> MaybeWrap(Bro_<e,t>(Theo_e))), True, Case((Maybe_Me <=> Case((ExistsExact x_e: (Have_<(e,e),t>(T_e, x_e) & Suit_<e,t>(x_e))), MaybeWrap((ι x_e: (Have_<(e,e),t>(T_e, x_e) & Suit_<e,t>(x_e)))), Maybe_Me)), Maybe_Mt, MaybeWrap(Bring_<(e,e),t>(Theo_e, Unmaybe(Case((ExistsExact x_e: (Have_<(e,e),t>(T_e, x_e) & Suit_<e,t>(x_e))), MaybeWrap((ι x_e: (Have_<(e,e),t>(T_e, x_e) & Suit_<e,t>(x_e)))), Maybe_Me))))))) [by FA]"
      ]
     },
     "metadata": {},
     "output_type": "display_data"
    }
   ],
   "source": [
    "if_ * ((theo * has_bro) * None) * ((his * suit) * (lang.Binder(1) * ((theo * (bring * lang.Trace(1))) * None)))"
   ]
  },
  {
   "cell_type": "code",
   "execution_count": null,
   "id": "08e428e9-4806-4214-94f4-fba19231107a",
   "metadata": {},
   "outputs": [],
   "source": []
  },
  {
   "cell_type": "markdown",
   "id": "ebb04a22-6aa1-4b23-bb3a-01a21bf32c48",
   "metadata": {},
   "source": [
    "Observation: we can get the local reading by scoping out at a lower type??"
   ]
  },
  {
   "cell_type": "code",
   "execution_count": 33,
   "id": "c5c6118f-e2c4-419e-a39f-4e443f6635ec",
   "metadata": {},
   "outputs": [
    {
     "data": {
      "text/markdown": [
       "1 composition path.  Result:<br />\n",
       "&nbsp;&nbsp;&nbsp;&nbsp;[0]: $[\\![\\text{\\textbf{[2 [[if\\_ [[theo has\\_bro]]] t2]]}}]\\!]^{}_{\\left\\langle{}Mt,Mt\\right\\rangle{}} \\:=\\: \\lambda{} x_{Mt} \\: . \\: \\begin{cases}\n",
       "{Maybe}_{Mt} & \\text{if }{Maybe}_{Mt} = \\textsf{MaybeWrap}({Bro}({Theo}_{e})) \\\\\n",
       "{\\textsf{True}}_{Mt} & \\text{if }{\\textsf{False}}_{Mt} = \\textsf{MaybeWrap}({Bro}({Theo}_{e})) \\\\{x} & \\text{otherwise} \\end{cases}$"
      ],
      "text/plain": [
       "1 composition path.  Result:\n",
       "    [0]: ⟦2⟧ * ⟦[[if_ [[theo has_bro]]] t2]⟧ leads to: ⟦[2 [[if_ [[theo has_bro]]] t2]]⟧ = (λ x_Mt: Case((Maybe_Mt <=> MaybeWrap(Bro_<e,t>(Theo_e))), Maybe_Mt, Case((False <=> MaybeWrap(Bro_<e,t>(Theo_e))), True, x_Mt))) [by PA]"
      ]
     },
     "metadata": {},
     "output_type": "display_data"
    }
   ],
   "source": [
    "lang.Binder(2) * ((if_ * ((theo * has_bro) * None)) * (lang.Trace(2, typ=tp('Mt'))))"
   ]
  },
  {
   "cell_type": "code",
   "execution_count": 34,
   "id": "a3224b47-7792-4800-9be0-1bd1853eb066",
   "metadata": {},
   "outputs": [
    {
     "data": {
      "text/markdown": [
       "1 composition path.  Result:<br />\n",
       "&nbsp;&nbsp;&nbsp;&nbsp;[0]: $[\\![\\text{\\textbf{[[[his suit] [1 [[theo [bring t1]]]]] [2 [[if\\_ [[theo has\\_bro]]] t2]]]}}]\\!]^{}_{Mt} \\:=\\: \\begin{cases}\n",
       "{Maybe}_{Mt} & \\text{if }{Maybe}_{Mt} = \\textsf{MaybeWrap}({Bro}({Theo}_{e})) \\\\\n",
       "{\\textsf{True}}_{Mt} & \\text{if }{\\textsf{False}}_{Mt} = \\textsf{MaybeWrap}({Bro}({Theo}_{e})) \\\\\n",
       "{Maybe}_{Mt} & \\text{if }{Maybe}_{Me} = \\begin{cases}\n",
       "\\textsf{MaybeWrap}(\\iota{} x_{e} \\: . \\: {Have}({T}_{e}, {x}) \\wedge{} {Suit}({x})) & \\text{if }(\\exists{}! x_{e} \\: . \\: {Have}({T}_{e}, {x}) \\wedge{} {Suit}({x})) \\\\{Maybe}_{Me} & \\text{otherwise} \\end{cases} \\\\\\textsf{MaybeWrap}({Bring}({Theo}_{e}, \\textsf{Unmaybe}(\\begin{cases}\n",
       "\\textsf{MaybeWrap}(\\iota{} x_{e} \\: . \\: {Have}({T}_{e}, {x}) \\wedge{} {Suit}({x})) & \\text{if }\\exists{}! x_{e} \\: . \\: {Have}({T}_{e}, {x}) \\wedge{} {Suit}({x}) \\\\{Maybe}_{Me} & \\text{otherwise} \\end{cases}))) & \\text{otherwise} \\end{cases}$"
      ],
      "text/plain": [
       "1 composition path.  Result:\n",
       "    [0]: ⟦[[his suit] [1 [[theo [bring t1]]]]]⟧ * ⟦[2 [[if_ [[theo has_bro]]] t2]]⟧ leads to: ⟦[[[his suit] [1 [[theo [bring t1]]]]] [2 [[if_ [[theo has_bro]]] t2]]]⟧ = Case((Maybe_Mt <=> MaybeWrap(Bro_<e,t>(Theo_e))), Maybe_Mt, Case((False <=> MaybeWrap(Bro_<e,t>(Theo_e))), True, Case((Maybe_Me <=> Case((ExistsExact x_e: (Have_<(e,e),t>(T_e, x_e) & Suit_<e,t>(x_e))), MaybeWrap((ι x_e: (Have_<(e,e),t>(T_e, x_e) & Suit_<e,t>(x_e)))), Maybe_Me)), Maybe_Mt, MaybeWrap(Bring_<(e,e),t>(Theo_e, Unmaybe(Case((ExistsExact x_e: (Have_<(e,e),t>(T_e, x_e) & Suit_<e,t>(x_e))), MaybeWrap((ι x_e: (Have_<(e,e),t>(T_e, x_e) & Suit_<e,t>(x_e)))), Maybe_Me))))))) [by FA]"
      ]
     },
     "metadata": {},
     "output_type": "display_data"
    }
   ],
   "source": [
    "((his * suit) * (lang.Binder(1) * ((theo * (bring * lang.Trace(1))) * None))) * (lang.Binder(2) * ((if_ * ((theo * has_bro) * None)) * (lang.Trace(2, typ=tp('Mt')))))"
   ]
  },
  {
   "cell_type": "code",
   "execution_count": null,
   "id": "ba246007-a1d5-4f14-8249-448fc01c57d0",
   "metadata": {},
   "outputs": [],
   "source": []
  },
  {
   "cell_type": "code",
   "execution_count": null,
   "id": "d024926e-e824-4f62-978f-249ba723d919",
   "metadata": {},
   "outputs": [],
   "source": []
  },
  {
   "cell_type": "code",
   "execution_count": 35,
   "id": "e695d199-c78f-4714-9c12-02e08a405b50",
   "metadata": {},
   "outputs": [
    {
     "data": {
      "text/markdown": [
       "1 composition path.  Result:<br />\n",
       "&nbsp;&nbsp;&nbsp;&nbsp;[0]: $[\\![\\text{\\textbf{[[his suit] [1 [[[theo [bring t1]]]]]]}}]\\!]^{}_{MMt} \\:=\\: \\begin{cases}\n",
       "{Maybe}_{MMt} & \\text{if }{Maybe}_{Me} = \\begin{cases}\n",
       "\\textsf{MaybeWrap}(\\iota{} x_{e} \\: . \\: {Have}({T}_{e}, {x}) \\wedge{} {Suit}({x})) & \\text{if }(\\exists{}! x_{e} \\: . \\: {Have}({T}_{e}, {x}) \\wedge{} {Suit}({x})) \\\\{Maybe}_{Me} & \\text{otherwise} \\end{cases} \\\\\\textsf{MaybeWrap}(\\textsf{MaybeWrap}({Bring}({Theo}_{e}, \\textsf{Unmaybe}(\\begin{cases}\n",
       "\\textsf{MaybeWrap}(\\iota{} x_{e} \\: . \\: {Have}({T}_{e}, {x}) \\wedge{} {Suit}({x})) & \\text{if }\\exists{}! x_{e} \\: . \\: {Have}({T}_{e}, {x}) \\wedge{} {Suit}({x}) \\\\{Maybe}_{Me} & \\text{otherwise} \\end{cases})))) & \\text{otherwise} \\end{cases}$"
      ],
      "text/plain": [
       "1 composition path.  Result:\n",
       "    [0]: ⟦[his suit]⟧ * ⟦[1 [[[theo [bring t1]]]]]⟧ leads to: ⟦[[his suit] [1 [[[theo [bring t1]]]]]]⟧ = Case((Maybe_Me <=> Case((ExistsExact x_e: (Have_<(e,e),t>(T_e, x_e) & Suit_<e,t>(x_e))), MaybeWrap((ι x_e: (Have_<(e,e),t>(T_e, x_e) & Suit_<e,t>(x_e)))), Maybe_Me)), Maybe_MMt, MaybeWrap(MaybeWrap(Bring_<(e,e),t>(Theo_e, Unmaybe(Case((ExistsExact x_e: (Have_<(e,e),t>(T_e, x_e) & Suit_<e,t>(x_e))), MaybeWrap((ι x_e: (Have_<(e,e),t>(T_e, x_e) & Suit_<e,t>(x_e)))), Maybe_Me)))))) [by Bind]"
      ]
     },
     "metadata": {},
     "output_type": "display_data"
    }
   ],
   "source": [
    "((his * suit) * (lang.Binder(1) * ((theo * (bring * lang.Trace(1))) * None * None)))"
   ]
  },
  {
   "cell_type": "code",
   "execution_count": 36,
   "id": "9315028f-b1c3-43de-858c-368c687435fb",
   "metadata": {},
   "outputs": [
    {
     "data": {
      "text/markdown": [
       "1 composition path.  Result:<br />\n",
       "&nbsp;&nbsp;&nbsp;&nbsp;[0]: $[\\![\\text{\\textbf{[[[his suit] [1 [[[theo [bring t1]]]]]] [2 [[if\\_ [[theo has\\_bro]]] t2]]]}}]\\!]^{}_{Mt} \\:=\\: \\begin{cases}\n",
       "{Maybe}_{Mt} & \\text{if }{Maybe}_{MMt} = \\begin{cases}\n",
       "{Maybe}_{MMt} & \\text{if }({Maybe}_{Me} = \\begin{cases}\n",
       "\\textsf{MaybeWrap}(\\iota{} x_{e} \\: . \\: {Have}({T}_{e}, {x}) \\wedge{} {Suit}({x})) & \\text{if }(\\exists{}! x_{e} \\: . \\: {Have}({T}_{e}, {x}) \\wedge{} {Suit}({x})) \\\\{Maybe}_{Me} & \\text{otherwise} \\end{cases}) \\\\\\textsf{MaybeWrap}(\\textsf{MaybeWrap}({Bring}({Theo}_{e}, \\textsf{Unmaybe}(\\begin{cases}\n",
       "\\textsf{MaybeWrap}(\\iota{} x_{e} \\: . \\: {Have}({T}_{e}, {x}) \\wedge{} {Suit}({x})) & \\text{if }\\exists{}! x_{e} \\: . \\: {Have}({T}_{e}, {x}) \\wedge{} {Suit}({x}) \\\\{Maybe}_{Me} & \\text{otherwise} \\end{cases})))) & \\text{otherwise} \\end{cases} \\\\\n",
       "{Maybe}_{Mt} & \\text{if }{Maybe}_{Mt} = \\textsf{MaybeWrap}({Bro}({Theo}_{e})) \\\\\n",
       "{\\textsf{True}}_{Mt} & \\text{if }{\\textsf{False}}_{Mt} = \\textsf{MaybeWrap}({Bro}({Theo}_{e})) \\\\\\textsf{Unmaybe}(\\begin{cases}\n",
       "{Maybe}_{MMt} & \\text{if }{Maybe}_{Me} = \\begin{cases}\n",
       "\\textsf{MaybeWrap}(\\iota{} x_{e} \\: . \\: {Have}({T}_{e}, {x}) \\wedge{} {Suit}({x})) & \\text{if }(\\exists{}! x_{e} \\: . \\: {Have}({T}_{e}, {x}) \\wedge{} {Suit}({x})) \\\\{Maybe}_{Me} & \\text{otherwise} \\end{cases} \\\\\\textsf{MaybeWrap}(\\textsf{MaybeWrap}({Bring}({Theo}_{e}, \\textsf{Unmaybe}(\\begin{cases}\n",
       "\\textsf{MaybeWrap}(\\iota{} x_{e} \\: . \\: {Have}({T}_{e}, {x}) \\wedge{} {Suit}({x})) & \\text{if }\\exists{}! x_{e} \\: . \\: {Have}({T}_{e}, {x}) \\wedge{} {Suit}({x}) \\\\{Maybe}_{Me} & \\text{otherwise} \\end{cases})))) & \\text{otherwise} \\end{cases}) & \\text{otherwise} \\end{cases}$"
      ],
      "text/plain": [
       "1 composition path.  Result:\n",
       "    [0]: ⟦[[his suit] [1 [[[theo [bring t1]]]]]]⟧ * ⟦[2 [[if_ [[theo has_bro]]] t2]]⟧ leads to: ⟦[[[his suit] [1 [[[theo [bring t1]]]]]] [2 [[if_ [[theo has_bro]]] t2]]]⟧ = Case((Maybe_MMt <=> Case((Maybe_Me <=> Case((ExistsExact x_e: (Have_<(e,e),t>(T_e, x_e) & Suit_<e,t>(x_e))), MaybeWrap((ι x_e: (Have_<(e,e),t>(T_e, x_e) & Suit_<e,t>(x_e)))), Maybe_Me)), Maybe_MMt, MaybeWrap(MaybeWrap(Bring_<(e,e),t>(Theo_e, Unmaybe(Case((ExistsExact x_e: (Have_<(e,e),t>(T_e, x_e) & Suit_<e,t>(x_e))), MaybeWrap((ι x_e: (Have_<(e,e),t>(T_e, x_e) & Suit_<e,t>(x_e)))), Maybe_Me))))))), Maybe_Mt, Case((Maybe_Mt <=> MaybeWrap(Bro_<e,t>(Theo_e))), Maybe_Mt, Case((False <=> MaybeWrap(Bro_<e,t>(Theo_e))), True, Unmaybe(Case((Maybe_Me <=> Case((ExistsExact x_e: (Have_<(e,e),t>(T_e, x_e) & Suit_<e,t>(x_e))), MaybeWrap((ι x_e: (Have_<(e,e),t>(T_e, x_e) & Suit_<e,t>(x_e)))), Maybe_Me)), Maybe_MMt, MaybeWrap(MaybeWrap(Bring_<(e,e),t>(Theo_e, Unmaybe(Case((ExistsExact x_e: (Have_<(e,e),t>(T_e, x_e) & Suit_<e,t>(x_e))), MaybeWrap((ι x_e: (Have_<(e,e),t>(T_e, x_e) & Suit_<e,t>(x_e)))), Maybe_Me)))))))))) [by Bind]"
      ]
     },
     "metadata": {},
     "output_type": "display_data"
    }
   ],
   "source": [
    "g_reading = ((his * suit) * (lang.Binder(1) * ((theo * (bring * lang.Trace(1))) * None * None))) * (lang.Binder(2) * ((if_ * ((theo * has_bro) * None)) * (lang.Trace(2, typ=tp('Mt')))))\n",
    "g_reading"
   ]
  },
  {
   "cell_type": "code",
   "execution_count": null,
   "id": "ba8fa4d8-97ec-414e-9ac7-3a8910ac71ca",
   "metadata": {},
   "outputs": [],
   "source": [
    "g_reading[0].content"
   ]
  },
  {
   "cell_type": "code",
   "execution_count": null,
   "id": "161b1efa-9c10-4689-88f9-0a794c59f69f",
   "metadata": {},
   "outputs": [],
   "source": []
  }
 ],
 "metadata": {
  "kernelspec": {
   "display_name": "Lambda Notebook (Python 3)",
   "language": "python",
   "name": "lambda-notebook"
  },
  "language_info": {
   "codemirror_mode": {
    "name": "ipython",
    "version": 3
   },
   "file_extension": ".py",
   "mimetype": "text/x-python",
   "name": "python",
   "nbconvert_exporter": "python",
   "pygments_lexer": "ipython3",
   "version": "3.12.8"
  }
 },
 "nbformat": 4,
 "nbformat_minor": 5
}
