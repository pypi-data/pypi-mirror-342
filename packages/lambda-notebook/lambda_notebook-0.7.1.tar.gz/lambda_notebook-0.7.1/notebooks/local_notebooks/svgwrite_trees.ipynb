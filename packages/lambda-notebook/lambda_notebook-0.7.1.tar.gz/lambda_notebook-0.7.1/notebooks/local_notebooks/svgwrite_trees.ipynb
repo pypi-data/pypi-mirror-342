{
 "cells": [
  {
   "cell_type": "code",
   "execution_count": 19,
   "metadata": {},
   "outputs": [],
   "source": [
    "import svgwrite\n",
    "from IPython.core.display import SVG,display"
   ]
  },
  {
   "cell_type": "code",
   "execution_count": 76,
   "metadata": {},
   "outputs": [
    {
     "data": {
      "image/svg+xml": [
       "<svg baseProfile=\"full\" height=\"7em\" version=\"1.1\" width=\"5em\" xmlns=\"http://www.w3.org/2000/svg\" xmlns:ev=\"http://www.w3.org/2001/xml-events\" xmlns:xlink=\"http://www.w3.org/1999/xlink\"><defs/><text text-anchor=\"middle\" x=\"50%\" y=\"1em\">VP</text><svg width=\"50%\" x=\"0\" y=\"3em\"><defs/><text text-anchor=\"middle\" x=\"50%\" y=\"1em\">V</text></svg><svg width=\"50%\" x=\"50%\" y=\"3em\"><defs/><text text-anchor=\"middle\" x=\"50%\" y=\"1em\">NP</text></svg><line stroke=\"black\" x1=\"50%\" x2=\"25%\" y1=\"1.2em\" y2=\"3em\"/><line stroke=\"black\" x1=\"50%\" x2=\"75%\" y1=\"1.2em\" y2=\"3em\"/></svg>"
      ],
      "text/plain": [
       "<IPython.core.display.SVG object>"
      ]
     },
     "metadata": {},
     "output_type": "display_data"
    }
   ],
   "source": [
    "tree = svgwrite.Drawing(\"tree\", (\"5em\",\"7em\"))\n",
    "tree.add(tree.text(\"VP\", insert=(\"50%\",\"1em\"), text_anchor=\"middle\"))\n",
    "lchild = svgwrite.container.SVG(x=0, y=\"3em\", width=\"50%\")\n",
    "lchild.add(tree.text(\"V\", insert=(\"50%\",\"1em\"), text_anchor=\"middle\"))\n",
    "tree.add(lchild)\n",
    "rchild = svgwrite.container.SVG(x=\"50%\", y=\"3em\", width=\"50%\")\n",
    "rchild.add(tree.text(\"NP\", insert=(\"50%\",\"1em\"), text_anchor=\"middle\"))\n",
    "tree.add(rchild)\n",
    "tree.add(tree.line(start=(\"50%\", \"1.2em\"), end=(\"25%\", \"3em\"), stroke=\"black\"))\n",
    "tree.add(tree.line(start=(\"50%\", \"1.2em\"), end=(\"75%\", \"3em\"), stroke=\"black\"))\n",
    "display(SVG(tree.tostring()))"
   ]
  },
  {
   "cell_type": "code",
   "execution_count": 77,
   "metadata": {},
   "outputs": [
    {
     "data": {
      "text/plain": [
       "'<svg baseProfile=\"full\" height=\"7em\" version=\"1.1\" width=\"5em\" xmlns=\"http://www.w3.org/2000/svg\" xmlns:ev=\"http://www.w3.org/2001/xml-events\" xmlns:xlink=\"http://www.w3.org/1999/xlink\"><defs /><text text-anchor=\"middle\" x=\"50%\" y=\"1em\">VP</text><svg width=\"50%\" x=\"0\" y=\"3em\"><defs /><text text-anchor=\"middle\" x=\"50%\" y=\"1em\">V</text></svg><svg width=\"50%\" x=\"50%\" y=\"3em\"><defs /><text text-anchor=\"middle\" x=\"50%\" y=\"1em\">NP</text></svg><line stroke=\"black\" x1=\"50%\" x2=\"25%\" y1=\"1.2em\" y2=\"3em\" /><line stroke=\"black\" x1=\"50%\" x2=\"75%\" y1=\"1.2em\" y2=\"3em\" /></svg>'"
      ]
     },
     "execution_count": 77,
     "metadata": {},
     "output_type": "execute_result"
    }
   ],
   "source": [
    "tree.tostring()"
   ]
  },
  {
   "cell_type": "code",
   "execution_count": 250,
   "metadata": {},
   "outputs": [],
   "source": [
    "distance_to_daughter = \"3em\"\n",
    "def add_subtree(parent, t):\n",
    "    if (isinstance(t, str)):\n",
    "        parent.add(svgwrite.text.Text(t, insert=(\"50%\", \"1em\"), text_anchor=\"middle\"))\n",
    "    elif len(t) == 1:\n",
    "        add_subtree(parent, t[0])\n",
    "    else:\n",
    "        x_pos = 0\n",
    "        x_width = 100.0 / len(t[1:])\n",
    "        if (len(t[0]) > 0):\n",
    "            line_start = \"1.2em\"\n",
    "            parent.add(svgwrite.text.Text(t[0], insert=(\"50%\",\"1em\"), text_anchor=\"middle\"))\n",
    "        else:\n",
    "            line_start = \"0em\"\n",
    "            \n",
    "        for subtree in t[1:]:\n",
    "            child = svgwrite.container.SVG(x=\"%d%%\" % x_pos, y=distance_to_daughter, width=\"%d%%\" % x_width)\n",
    "            #child.add(svgwrite.shapes.Rect(insert=(\"0%\",\"0%\"), size=(\"100%\", \"100%\"), fill=\"none\", stroke=\"black\"))\n",
    "            parent.add(child)\n",
    "            parent.add(svgwrite.shapes.Line(start=(\"50%\", line_start), end=(\"%d%%\" % (x_pos + x_width / 2), distance_to_daughter), stroke=\"black\"))\n",
    "            add_subtree(child, subtree)\n",
    "            x_pos += x_width\n",
    "\n",
    "def tree_depth(t):\n",
    "    if isinstance(t, str):\n",
    "        return 1\n",
    "    elif len(t) == 1:\n",
    "        return tree_depth(t[0])\n",
    "    else:\n",
    "        subdepth = 0\n",
    "        for subtree in t[1:]:\n",
    "            subdepth = max(subdepth, tree_depth(subtree))\n",
    "        return subdepth + 1\n",
    "    \n",
    "leaf_padding = 2\n",
    "def leaf_textwidth(t):\n",
    "    if isinstance(t, str):\n",
    "        return len(t) + leaf_padding\n",
    "    elif len(t) == 1:\n",
    "        return leaf_textwidth(t[0])\n",
    "    else:\n",
    "        width = 0\n",
    "        for subtree in t[1:]:\n",
    "            width += leaf_textwidth(subtree)\n",
    "        return width\n",
    "    \n",
    "def draw_tree(t):\n",
    "    canvas_height = \"%dem\" % (tree_depth(t) * 3 - 2)\n",
    "    canvas_width = \"%dem\" % leaf_textwidth(t)\n",
    "    tree = svgwrite.Drawing(\"tree\", (canvas_width, canvas_height))\n",
    "    add_subtree(tree, t)\n",
    "    return SVG(tree.tostring())"
   ]
  },
  {
   "cell_type": "code",
   "execution_count": 251,
   "metadata": {},
   "outputs": [
    {
     "data": {
      "text/plain": [
       "8"
      ]
     },
     "execution_count": 251,
     "metadata": {},
     "output_type": "execute_result"
    }
   ],
   "source": [
    "leaf_textwidth((\"VP\", \"NP\", \"VP\"))"
   ]
  },
  {
   "cell_type": "code",
   "execution_count": 252,
   "metadata": {},
   "outputs": [
    {
     "data": {
      "image/svg+xml": [
       "<svg baseProfile=\"full\" height=\"7em\" version=\"1.1\" width=\"4em\" xmlns=\"http://www.w3.org/2000/svg\" xmlns:ev=\"http://www.w3.org/2001/xml-events\" xmlns:xlink=\"http://www.w3.org/1999/xlink\"><defs/><text text-anchor=\"middle\" x=\"50%\" y=\"1em\">VP</text><svg width=\"100%\" x=\"0%\" y=\"3em\"><defs/><text text-anchor=\"middle\" x=\"50%\" y=\"1em\">NP</text><svg width=\"100%\" x=\"0%\" y=\"3em\"><defs/><text text-anchor=\"middle\" x=\"50%\" y=\"1em\">VP</text></svg><line stroke=\"black\" x1=\"50%\" x2=\"50%\" y1=\"1.2em\" y2=\"3em\"/></svg><line stroke=\"black\" x1=\"50%\" x2=\"50%\" y1=\"1.2em\" y2=\"3em\"/></svg>"
      ],
      "text/plain": [
       "<IPython.core.display.SVG object>"
      ]
     },
     "execution_count": 252,
     "metadata": {},
     "output_type": "execute_result"
    }
   ],
   "source": [
    "draw_tree((\"VP\", (\"NP\", \"VP\")))"
   ]
  },
  {
   "cell_type": "code",
   "execution_count": 253,
   "metadata": {},
   "outputs": [
    {
     "data": {
      "image/svg+xml": [
       "<svg baseProfile=\"full\" height=\"1em\" version=\"1.1\" width=\"4em\" xmlns=\"http://www.w3.org/2000/svg\" xmlns:ev=\"http://www.w3.org/2001/xml-events\" xmlns:xlink=\"http://www.w3.org/1999/xlink\"><defs/><text text-anchor=\"middle\" x=\"50%\" y=\"1em\">VP</text></svg>"
      ],
      "text/plain": [
       "<IPython.core.display.SVG object>"
      ]
     },
     "execution_count": 253,
     "metadata": {},
     "output_type": "execute_result"
    }
   ],
   "source": [
    "draw_tree(\"VP\")"
   ]
  },
  {
   "cell_type": "code",
   "execution_count": 256,
   "metadata": {},
   "outputs": [
    {
     "data": {
      "image/svg+xml": [
       "<svg baseProfile=\"full\" height=\"7em\" version=\"1.1\" width=\"13em\" xmlns=\"http://www.w3.org/2000/svg\" xmlns:ev=\"http://www.w3.org/2001/xml-events\" xmlns:xlink=\"http://www.w3.org/1999/xlink\"><defs/><text text-anchor=\"middle\" x=\"50%\" y=\"1em\">VP</text><svg width=\"33%\" x=\"0%\" y=\"3em\"><defs/><text text-anchor=\"middle\" x=\"50%\" y=\"1em\">V</text></svg><line stroke=\"black\" x1=\"50%\" x2=\"16%\" y1=\"1.2em\" y2=\"3em\"/><svg width=\"33%\" x=\"33%\" y=\"3em\"><defs/><text text-anchor=\"middle\" x=\"50%\" y=\"1em\">NP</text></svg><line stroke=\"black\" x1=\"50%\" x2=\"50%\" y1=\"1.2em\" y2=\"3em\"/><svg width=\"33%\" x=\"66%\" y=\"3em\"><defs/><svg width=\"50%\" x=\"0%\" y=\"3em\"><defs/><text text-anchor=\"middle\" x=\"50%\" y=\"1em\">D</text></svg><line stroke=\"black\" x1=\"50%\" x2=\"25%\" y1=\"0em\" y2=\"3em\"/><svg width=\"50%\" x=\"50%\" y=\"3em\"><defs/><text text-anchor=\"middle\" x=\"50%\" y=\"1em\">N</text></svg><line stroke=\"black\" x1=\"50%\" x2=\"75%\" y1=\"0em\" y2=\"3em\"/></svg><line stroke=\"black\" x1=\"50%\" x2=\"83%\" y1=\"1.2em\" y2=\"3em\"/></svg>"
      ],
      "text/plain": [
       "<IPython.core.display.SVG object>"
      ]
     },
     "execution_count": 256,
     "metadata": {},
     "output_type": "execute_result"
    }
   ],
   "source": [
    "draw_tree((\"VP\", \"V\", \"NP\", (\"\", \"D\", \"N\")))"
   ]
  },
  {
   "cell_type": "code",
   "execution_count": 258,
   "metadata": {},
   "outputs": [
    {
     "data": {
      "image/svg+xml": [
       "<svg baseProfile=\"full\" height=\"7em\" version=\"1.1\" width=\"3em\" xmlns=\"http://www.w3.org/2000/svg\" xmlns:ev=\"http://www.w3.org/2001/xml-events\" xmlns:xlink=\"http://www.w3.org/1999/xlink\"><defs/><text text-anchor=\"middle\" x=\"50%\" y=\"1em\">S</text><svg width=\"100%\" x=\"0%\" y=\"3em\"><defs/><text text-anchor=\"middle\" x=\"50%\" y=\"1em\">VP</text><svg width=\"100%\" x=\"0%\" y=\"3em\"><defs/><text text-anchor=\"middle\" x=\"50%\" y=\"1em\">V</text></svg><line stroke=\"black\" x1=\"50%\" x2=\"50%\" y1=\"1.2em\" y2=\"3em\"/></svg><line stroke=\"black\" x1=\"50%\" x2=\"50%\" y1=\"1.2em\" y2=\"3em\"/></svg>"
      ],
      "text/plain": [
       "<IPython.core.display.SVG object>"
      ]
     },
     "execution_count": 258,
     "metadata": {},
     "output_type": "execute_result"
    }
   ],
   "source": [
    "draw_tree((\"S\", (\"VP\", \"V\")))"
   ]
  },
  {
   "cell_type": "code",
   "execution_count": 267,
   "metadata": {},
   "outputs": [
    {
     "data": {
      "image/svg+xml": [
       "<svg baseProfile=\"full\" height=\"1em\" version=\"1.1\" width=\"3em\" xmlns=\"http://www.w3.org/2000/svg\" xmlns:ev=\"http://www.w3.org/2001/xml-events\" xmlns:xlink=\"http://www.w3.org/1999/xlink\"><defs/><text text-anchor=\"middle\" x=\"50%\" y=\"1em\">V</text></svg>"
      ],
      "text/plain": [
       "<IPython.core.display.SVG object>"
      ]
     },
     "execution_count": 267,
     "metadata": {},
     "output_type": "execute_result"
    }
   ],
   "source": [
    "t = nltk.tree.Tree.fromstring(\"(S (VP V))\")\n",
    "draw_tree(t)"
   ]
  },
  {
   "cell_type": "code",
   "execution_count": null,
   "metadata": {},
   "outputs": [],
   "source": []
  },
  {
   "cell_type": "code",
   "execution_count": 260,
   "metadata": {},
   "outputs": [
    {
     "data": {
      "image/svg+xml": [
       "<svg baseProfile=\"full\" height=\"10em\" version=\"1.1\" width=\"13em\" xmlns=\"http://www.w3.org/2000/svg\" xmlns:ev=\"http://www.w3.org/2001/xml-events\" xmlns:xlink=\"http://www.w3.org/1999/xlink\"><defs/><text text-anchor=\"middle\" x=\"50%\" y=\"1em\">S</text><svg width=\"100%\" x=\"0%\" y=\"3em\"><defs/><text text-anchor=\"middle\" x=\"50%\" y=\"1em\">VP</text><svg width=\"33%\" x=\"0%\" y=\"3em\"><defs/><text text-anchor=\"middle\" x=\"50%\" y=\"1em\">V</text></svg><line stroke=\"black\" x1=\"50%\" x2=\"16%\" y1=\"1.2em\" y2=\"3em\"/><svg width=\"33%\" x=\"33%\" y=\"3em\"><defs/><text text-anchor=\"middle\" x=\"50%\" y=\"1em\">NP</text></svg><line stroke=\"black\" x1=\"50%\" x2=\"50%\" y1=\"1.2em\" y2=\"3em\"/><svg width=\"33%\" x=\"66%\" y=\"3em\"><defs/><text text-anchor=\"middle\" x=\"50%\" y=\"1em\">NP</text><svg width=\"50%\" x=\"0%\" y=\"3em\"><defs/><text text-anchor=\"middle\" x=\"50%\" y=\"1em\">D</text></svg><line stroke=\"black\" x1=\"50%\" x2=\"25%\" y1=\"1.2em\" y2=\"3em\"/><svg width=\"50%\" x=\"50%\" y=\"3em\"><defs/><text text-anchor=\"middle\" x=\"50%\" y=\"1em\">N</text></svg><line stroke=\"black\" x1=\"50%\" x2=\"75%\" y1=\"1.2em\" y2=\"3em\"/></svg><line stroke=\"black\" x1=\"50%\" x2=\"83%\" y1=\"1.2em\" y2=\"3em\"/></svg><line stroke=\"black\" x1=\"50%\" x2=\"50%\" y1=\"1.2em\" y2=\"3em\"/></svg>"
      ],
      "text/plain": [
       "<IPython.core.display.SVG object>"
      ]
     },
     "execution_count": 260,
     "metadata": {},
     "output_type": "execute_result"
    }
   ],
   "source": [
    "draw_tree((\"S\", (\"VP\", \"V\", \"NP\", (\"NP\", \"D\", \"N\"))))"
   ]
  },
  {
   "cell_type": "code",
   "execution_count": 262,
   "metadata": {},
   "outputs": [
    {
     "data": {
      "image/svg+xml": [
       "<svg baseProfile=\"full\" height=\"4em\" version=\"1.1\" width=\"3em\" xmlns=\"http://www.w3.org/2000/svg\" xmlns:ev=\"http://www.w3.org/2001/xml-events\" xmlns:xlink=\"http://www.w3.org/1999/xlink\"><defs/><text text-anchor=\"middle\" x=\"50%\" y=\"1em\">S</text><svg width=\"100%\" x=\"0%\" y=\"3em\"><defs/><text text-anchor=\"middle\" x=\"50%\" y=\"1em\">V</text></svg><line stroke=\"black\" x1=\"50%\" x2=\"50%\" y1=\"1.2em\" y2=\"3em\"/></svg>"
      ],
      "text/plain": [
       "<IPython.core.display.SVG object>"
      ]
     },
     "execution_count": 262,
     "metadata": {},
     "output_type": "execute_result"
    }
   ],
   "source": [
    "draw_tree((\"S\", \"V\"))"
   ]
  },
  {
   "cell_type": "code",
   "execution_count": 205,
   "metadata": {},
   "outputs": [
    {
     "data": {
      "text/plain": [
       "'<svg baseProfile=\"full\" height=\"7em\" version=\"1.1\" width=\"7em\" xmlns=\"http://www.w3.org/2000/svg\" xmlns:ev=\"http://www.w3.org/2001/xml-events\" xmlns:xlink=\"http://www.w3.org/1999/xlink\"><defs/><text text-anchor=\"middle\" x=\"50%\" y=\"1em\">S</text><svg width=\"50%\" x=\"0%\" y=\"3em\"><defs/><text text-anchor=\"middle\" x=\"50%\" y=\"1em\">NP</text></svg><line stroke=\"black\" x1=\"50%\" x2=\"25%\" y1=\"1.2em\" y2=\"3em\"/><svg width=\"50%\" x=\"50%\" y=\"3em\"><defs/><text text-anchor=\"middle\" x=\"50%\" y=\"1em\">VP</text><svg width=\"100%\" x=\"0%\" y=\"3em\"><defs/><text text-anchor=\"middle\" x=\"50%\" y=\"1em\">V</text></svg><line stroke=\"black\" x1=\"50%\" x2=\"50%\" y1=\"1.2em\" y2=\"3em\"/></svg><line stroke=\"black\" x1=\"50%\" x2=\"75%\" y1=\"1.2em\" y2=\"3em\"/></svg>'"
      ]
     },
     "execution_count": 205,
     "metadata": {},
     "output_type": "execute_result"
    }
   ],
   "source": [
    "import nltk\n",
    "ntree = nltk.Tree(\"S\", (\"NP\", (\"VP\", \"V\")))\n",
    "draw_tree((ntree.label(), ntree)).data"
   ]
  },
  {
   "cell_type": "code",
   "execution_count": 229,
   "metadata": {},
   "outputs": [
    {
     "data": {
      "image/svg+xml": [
       "<svg baseProfile=\"full\" height=\"7em\" version=\"1.1\" width=\"7em\" xmlns=\"http://www.w3.org/2000/svg\" xmlns:ev=\"http://www.w3.org/2001/xml-events\" xmlns:xlink=\"http://www.w3.org/1999/xlink\"><defs/><text text-anchor=\"middle\" x=\"50%\" y=\"1em\">S</text><svg width=\"50%\" x=\"0%\" y=\"3em\"><defs/><text text-anchor=\"middle\" x=\"50%\" y=\"1em\"/><foreignObject height=\"1em\" width=\"100%\" x=\"0%\" y=\"0em\"><div style=\"text-align:center;\" xmlns=\"http://www.w3.org/1999/xhtml\">NP$_i$</div></foreignObject></svg><line stroke=\"black\" x1=\"50%\" x2=\"25%\" y1=\"1.2em\" y2=\"3em\"/><svg width=\"50%\" x=\"50%\" y=\"3em\"><defs/><text text-anchor=\"middle\" x=\"50%\" y=\"1em\">VP</text><svg width=\"100%\" x=\"0%\" y=\"3em\"><defs/><text text-anchor=\"middle\" x=\"50%\" y=\"1em\">V</text></svg><line stroke=\"black\" x1=\"50%\" x2=\"50%\" y1=\"1.2em\" y2=\"3em\"/></svg><line stroke=\"black\" x1=\"50%\" x2=\"75%\" y1=\"1.2em\" y2=\"3em\"/></svg>"
      ],
      "text/plain": [
       "<IPython.core.display.SVG object>"
      ]
     },
     "execution_count": 229,
     "metadata": {},
     "output_type": "execute_result"
    }
   ],
   "source": [
    "s = '<svg baseProfile=\"full\" height=\"7em\" version=\"1.1\" width=\"7em\" xmlns=\"http://www.w3.org/2000/svg\" xmlns:ev=\"http://www.w3.org/2001/xml-events\" xmlns:xlink=\"http://www.w3.org/1999/xlink\"><defs/><text text-anchor=\"middle\" x=\"50%\" y=\"1em\">S</text><svg width=\"50%\" x=\"0%\" y=\"3em\"><defs/><text text-anchor=\"middle\" x=\"50%\" y=\"1em\"></text><foreignObject x=\"0%\" y=\"0em\" width=\"100%\" height=\"1em\"><div xmlns=\"http://www.w3.org/1999/xhtml\" style=\"text-align:center;\">NP$_i$</div></foreignObject></svg><line stroke=\"black\" x1=\"50%\" x2=\"25%\" y1=\"1.2em\" y2=\"3em\"/><svg width=\"50%\" x=\"50%\" y=\"3em\"><defs/><text text-anchor=\"middle\" x=\"50%\" y=\"1em\">VP</text><svg width=\"100%\" x=\"0%\" y=\"3em\"><defs/><text text-anchor=\"middle\" x=\"50%\" y=\"1em\">V</text></svg><line stroke=\"black\" x1=\"50%\" x2=\"50%\" y1=\"1.2em\" y2=\"3em\"/></svg><line stroke=\"black\" x1=\"50%\" x2=\"75%\" y1=\"1.2em\" y2=\"3em\"/></svg>'\n",
    "\n",
    "SVG(s)"
   ]
  },
  {
   "cell_type": "code",
   "execution_count": 232,
   "metadata": {},
   "outputs": [
    {
     "data": {
      "image/svg+xml": [
       "<svg baseProfile=\"full\" height=\"7em\" version=\"1.1\" width=\"7em\" xmlns=\"http://www.w3.org/2000/svg\" xmlns:ev=\"http://www.w3.org/2001/xml-events\" xmlns:xlink=\"http://www.w3.org/1999/xlink\"><defs/><foreignObject height=\"1em\" width=\"100%\" x=\"50%\" y=\"1em\"><div xmlns=\"http://www.w3.org/1999/xhtml\">test$_i$</div></foreignObject></svg>"
      ],
      "text/plain": [
       "<IPython.core.display.SVG object>"
      ]
     },
     "execution_count": 232,
     "metadata": {},
     "output_type": "execute_result"
    }
   ],
   "source": [
    "s = '<svg baseProfile=\"full\" height=\"7em\" version=\"1.1\" width=\"7em\" xmlns=\"http://www.w3.org/2000/svg\" xmlns:ev=\"http://www.w3.org/2001/xml-events\" xmlns:xlink=\"http://www.w3.org/1999/xlink\"><defs/><foreignObject x=\"50%\" y=\"1em\" width=\"100%\" height=\"1em\"><div xmlns=\"http://www.w3.org/1999/xhtml\">test$_i$</div></foreignObject></svg>'\n",
    "SVG(s)"
   ]
  },
  {
   "cell_type": "code",
   "execution_count": null,
   "metadata": {},
   "outputs": [],
   "source": []
  },
  {
   "cell_type": "code",
   "execution_count": 182,
   "metadata": {},
   "outputs": [
    {
     "data": {
      "text/plain": [
       "'(S VP V)'"
      ]
     },
     "execution_count": 182,
     "metadata": {},
     "output_type": "execute_result"
    }
   ],
   "source": [
    "str(ntree)"
   ]
  },
  {
   "cell_type": "code",
   "execution_count": 165,
   "metadata": {},
   "outputs": [
    {
     "data": {
      "image/svg+xml": [
       "<svg baseProfile=\"full\" height=\"7em\" version=\"1.1\" width=\"5em\" xmlns=\"http://www.w3.org/2000/svg\" xmlns:ev=\"http://www.w3.org/2001/xml-events\" xmlns:xlink=\"http://www.w3.org/1999/xlink\"><defs/><text text-anchor=\"middle\" x=\"50%\" y=\"1em\">VP</text><svg width=\"50%\" x=\"0%\" y=\"3em\"><defs/><text text-anchor=\"middle\" x=\"50%\" y=\"1em\">NP</text></svg><line stroke=\"black\" x1=\"50%\" x2=\"25%\" y1=\"1.2em\" y2=\"3em\"/><svg width=\"50%\" x=\"50%\" y=\"3em\"><defs/><text text-anchor=\"middle\" x=\"50%\" y=\"1em\">VP</text></svg><line stroke=\"black\" x1=\"50%\" x2=\"75%\" y1=\"1.2em\" y2=\"3em\"/></svg>"
      ],
      "text/plain": [
       "<IPython.core.display.SVG object>"
      ]
     },
     "metadata": {},
     "output_type": "display_data"
    }
   ],
   "source": [
    "tree = svgwrite.Drawing(\"tree\", (\"5em\",\"7em\"))\n",
    "add_subtree(tree, (\"VP\", (\"NP\", \"VP\")))\n",
    "display(SVG(tree.tostring()))"
   ]
  },
  {
   "cell_type": "code",
   "execution_count": 118,
   "metadata": {},
   "outputs": [
    {
     "data": {
      "image/svg+xml": [
       "<svg baseProfile=\"full\" height=\"10em\" version=\"1.1\" width=\"10em\" xmlns=\"http://www.w3.org/2000/svg\" xmlns:ev=\"http://www.w3.org/2001/xml-events\" xmlns:xlink=\"http://www.w3.org/1999/xlink\"><defs/><text text-anchor=\"middle\" x=\"50%\" y=\"1em\">VP</text><svg width=\"33%\" x=\"0%\" y=\"3em\"><defs/><text text-anchor=\"middle\" x=\"50%\" y=\"1em\">V</text></svg><line stroke=\"black\" x1=\"50%\" x2=\"16%\" y1=\"1.2em\" y2=\"3em\"/><svg width=\"33%\" x=\"33%\" y=\"3em\"><defs/><text text-anchor=\"middle\" x=\"50%\" y=\"1em\">NP</text></svg><line stroke=\"black\" x1=\"50%\" x2=\"50%\" y1=\"1.2em\" y2=\"3em\"/><svg width=\"33%\" x=\"66%\" y=\"3em\"><defs/><text text-anchor=\"middle\" x=\"50%\" y=\"1em\">NP</text><svg width=\"50%\" x=\"0%\" y=\"3em\"><defs/><text text-anchor=\"middle\" x=\"50%\" y=\"1em\">D</text></svg><line stroke=\"black\" x1=\"50%\" x2=\"25%\" y1=\"1.2em\" y2=\"3em\"/><svg width=\"50%\" x=\"50%\" y=\"3em\"><defs/><text text-anchor=\"middle\" x=\"50%\" y=\"1em\">N</text></svg><line stroke=\"black\" x1=\"50%\" x2=\"75%\" y1=\"1.2em\" y2=\"3em\"/></svg><line stroke=\"black\" x1=\"50%\" x2=\"83%\" y1=\"1.2em\" y2=\"3em\"/></svg>"
      ],
      "text/plain": [
       "<IPython.core.display.SVG object>"
      ]
     },
     "metadata": {},
     "output_type": "display_data"
    }
   ],
   "source": [
    "tree = svgwrite.Drawing(\"tree\", (\"10em\",\"10em\"))\n",
    "add_subtree(tree, (\"VP\", (\"V\", \"NP\", (\"NP\", (\"D\", \"N\")))))\n",
    "display(SVG(tree.tostring()))"
   ]
  },
  {
   "cell_type": "code",
   "execution_count": 98,
   "metadata": {},
   "outputs": [
    {
     "data": {
      "text/plain": [
       "'<svg baseProfile=\"full\" height=\"7em\" version=\"1.1\" width=\"10em\" xmlns=\"http://www.w3.org/2000/svg\" xmlns:ev=\"http://www.w3.org/2001/xml-events\" xmlns:xlink=\"http://www.w3.org/1999/xlink\"><defs /><text text-anchor=\"middle\" x=\"50%\" y=\"1em\">VP</text><svg width=\"50%\" x=\"0%\" y=\"3em\"><defs /><text text-anchor=\"middle\" x=\"50%\" y=\"1em\">V</text></svg><line stroke=\"black\" x1=\"50%\" x2=\"25%\" y1=\"1.2em\" y2=\"3em\" /><svg width=\"50%\" x=\"50%\" y=\"3em\"><defs /><text text-anchor=\"middle\" x=\"50%\" y=\"1em\">NP</text></svg><line stroke=\"black\" x1=\"50%\" x2=\"75%\" y1=\"1.2em\" y2=\"3em\" /><svg width=\"50%\" x=\"100%\" y=\"3em\"><defs /><text text-anchor=\"middle\" x=\"50%\" y=\"1em\">NP</text></svg><line stroke=\"black\" x1=\"50%\" x2=\"125%\" y1=\"1.2em\" y2=\"3em\" /></svg>'"
      ]
     },
     "execution_count": 98,
     "metadata": {},
     "output_type": "execute_result"
    }
   ],
   "source": [
    "tree.tostring()"
   ]
  },
  {
   "cell_type": "code",
   "execution_count": null,
   "metadata": {},
   "outputs": [],
   "source": []
  }
 ],
 "metadata": {
  "kernelspec": {
   "display_name": "Lambda Notebook (Python 3)",
   "language": "python",
   "name": "lambda-notebook"
  },
  "language_info": {
   "codemirror_mode": {
    "name": "ipython",
    "version": 3
   },
   "file_extension": ".py",
   "mimetype": "text/x-python",
   "name": "python",
   "nbconvert_exporter": "python",
   "pygments_lexer": "ipython3",
   "version": "3.7.4"
  }
 },
 "nbformat": 4,
 "nbformat_minor": 2
}
