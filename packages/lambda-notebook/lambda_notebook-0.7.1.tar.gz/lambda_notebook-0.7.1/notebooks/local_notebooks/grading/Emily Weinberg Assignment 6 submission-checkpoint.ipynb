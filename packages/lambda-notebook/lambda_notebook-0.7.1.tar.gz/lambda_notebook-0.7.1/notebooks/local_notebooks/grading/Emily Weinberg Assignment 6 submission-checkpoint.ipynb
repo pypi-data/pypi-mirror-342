{
 "cells": [
  {
   "cell_type": "markdown",
   "metadata": {},
   "source": [
    "## Homework 6: causitivization"
   ]
  },
  {
   "cell_type": "markdown",
   "metadata": {},
   "source": [
    "**Name**: Emily Weinberg"
   ]
  },
  {
   "cell_type": "markdown",
   "metadata": {},
   "source": [
    "**Part a**: describe the alternation involved in break/rise in terms of thematic roles.\n",
    "\n",
    "    (1) Alfonso broke the vase.\n",
    "    (2) The vase broke.\n",
    "    (3) The fire raised the temperature.\n",
    "    (4) The temperature rose.\n",
    "    "
   ]
  },
  {
   "cell_type": "markdown",
   "metadata": {},
   "source": [
    "The causative/inchoactive alternation occuring here must *seems* to violate the Theta-Criterion in favor of the Interpretability Principle, but it is really a matter of restructing the agent. The Theta-Criterion states that each argument has one and only one theta-role, and each theta-role has one and only one cooresponding argument. Following this formula, verbs like break and raise both assign two specific theta-roles. For example, if there is a breaking action, then there must be something that broke and something that did the breaking. In (1) and (3) the required theta-roles are filled--as Alfonso is the breaker and the vase is broken, and the fire is the agent of raising and the temperature is the patient. However, in (2) and (4) there appear to be  missing theta-role assignments. What are the agents in these sentences and what theta-roles are being filled by \"vase\" and \"temperature\"? In order to interpret (2) and (4) as logical utterances, we must change the denotation of \"the\" to <<e,t>,e> so that it may then take the 1-place predicates (vase, temperature) as arguments. In these cases, \"the\" is redefined to replace the missing agent. "
   ]
  },
  {
   "cell_type": "markdown",
   "metadata": {},
   "source": [
    "**Part b**: using a Heim & Kratzer type semantics (so just types `e` and `t`) write lexical entries for `break` assuming accidental ambiguity."
   ]
  },
  {
   "cell_type": "code",
   "execution_count": 4,
   "metadata": {
    "collapsed": false
   },
   "outputs": [
    {
     "name": "stderr",
     "output_type": "stream",
     "text": [
      "ERROR (parsing): Parsing of assignment to '||break_intrans||' failed with exception:\n",
      "ERROR (parsing): invalid syntax (<string>, line 1)\n"
     ]
    },
    {
     "name": "stdout",
     "output_type": "stream",
     "text": [
      "INFO (meta): Coerced guessed type for 'Breaktrans_t' into <(e,e),t>, to match argument '(y_e, x_e)'\n"
     ]
    },
    {
     "data": {
      "text/html": [
       "$[\\![\\mathbf{\\text{break_trans}}]\\!]^{}_{\\left\\langle{}e,\\left\\langle{}e,t\\right\\rangle{}\\right\\rangle{}} \\:=\\: $$\\lambda{} x_{e} \\: . \\: \\lambda{} y_{e} \\: . \\: {Breaktrans}({y}, {x})$"
      ],
      "text/latex": [
       "$[\\![\\mathbf{\\text{break_trans}}]\\!]^{}_{\\left\\langle{}e,\\left\\langle{}e,t\\right\\rangle{}\\right\\rangle{}} \\:=\\: $$\\lambda{} x_{e} \\: . \\: \\lambda{} y_{e} \\: . \\: {Breaktrans}({y}, {x})$"
      ],
      "text/plain": [
       "$[\\![\\mathbf{\\text{break_trans}}]\\!]^{}_{\\left\\langle{}e,\\left\\langle{}e,t\\right\\rangle{}\\right\\rangle{}} \\:=\\: $$\\lambda{} x_{e} \\: . \\: \\lambda{} y_{e} \\: . \\: {Breaktrans}({y}, {x})$"
      ]
     },
     "execution_count": 4,
     "metadata": {},
     "output_type": "execute_result"
    }
   ],
   "source": [
    "%%lamb\n",
    "||break_intrans|| = L z_e : L f_<e,t> : Iota x_e : (f(x) & x << c_{e}): Breakintrans(f,z) \n",
    "||break_trans|| = L x_e : L y_e : Breaktrans(y,x)"
   ]
  },
  {
   "cell_type": "markdown",
   "metadata": {},
   "source": [
    "The key difference in the content of these lexical entries is the entry for the agent position. In the transitive version of break both the agent and the patient are entities, making the verb type <e,<e,t>>. The intransitive version uses \"the,\" a context-dependent identity function, as a replacement for the agent. The type for intransitive verbs is <e,t>, effectively solving the problem of the missing theta-role assignment. "
   ]
  },
  {
   "cell_type": "markdown",
   "metadata": {},
   "source": [
    "**Part c**: How could you relate the two entries systematically?  In particular, for this part, write a function that converts your transitive entry to the intransitive form.  That is, write a function of type `<<e,<e,t>>,<e,t>>` that given the content of `break_trans` will something that would work for `break_intrans`.  (It does not need to be exactly what you wrote in the above entries.)\n",
    "\n",
    "Reminder: to access the content of a lexical entry, you can simply type `break_trans.content`."
   ]
  },
  {
   "cell_type": "code",
   "execution_count": 3,
   "metadata": {
    "collapsed": false
   },
   "outputs": [
    {
     "name": "stderr",
     "output_type": "stream",
     "text": [
      "ERROR:root:Cell magic `%%lamb` not found.\n"
     ]
    }
   ],
   "source": [
    "%%lamb\n",
    "detransitivize = L f_<e,<e,t>> : L x_e : Break_intrans(break_trans(f,x), x)"
   ]
  },
  {
   "cell_type": "code",
   "execution_count": 4,
   "metadata": {
    "collapsed": false
   },
   "outputs": [
    {
     "ename": "NameError",
     "evalue": "name 'detransitivize' is not defined",
     "output_type": "error",
     "traceback": [
      "\u001b[0;31m---------------------------------------------------------------------------\u001b[0m",
      "\u001b[0;31mNameError\u001b[0m                                 Traceback (most recent call last)",
      "\u001b[0;32m<ipython-input-4-04446b8fb07a>\u001b[0m in \u001b[0;36m<module>\u001b[0;34m()\u001b[0m\n\u001b[0;32m----> 1\u001b[0;31m \u001b[0mdetransitivize\u001b[0m\u001b[1;33m(\u001b[0m\u001b[0mbreak_trans\u001b[0m\u001b[1;33m.\u001b[0m\u001b[0mcontent\u001b[0m\u001b[1;33m)\u001b[0m \u001b[1;31m# run this once you've written something\u001b[0m\u001b[1;33m\u001b[0m\u001b[0m\n\u001b[0m",
      "\u001b[0;31mNameError\u001b[0m: name 'detransitivize' is not defined"
     ]
    }
   ],
   "source": [
    "detransitivize(break_trans.content) # run this once you've written something"
   ]
  },
  {
   "cell_type": "markdown",
   "metadata": {},
   "source": [
    "How could you derive the intransitive alternant from the transitive alternants?  I.e. given your answers to [b], how can you convert something from type ⟨e,⟨e,t⟩⟩ to type  ⟨e,t⟩ in the right way?\n"
   ]
  },
  {
   "cell_type": "markdown",
   "metadata": {},
   "source": [
    "**Part d**: How could the conversion go the other way?  First, in a Heim & Kratzer setup, is there any way you could convert from `<e,t>` to `<e,<e,t>>`?"
   ]
  },
  {
   "cell_type": "markdown",
   "metadata": {},
   "source": [
    "(fill in this with an answer to the above question, adding any lambda notebook cells as needed.)"
   ]
  },
  {
   "cell_type": "markdown",
   "metadata": {},
   "source": [
    "Now, assume that there are events in the ontology.  How could you do this with events?"
   ]
  },
  {
   "cell_type": "code",
   "execution_count": 3,
   "metadata": {
    "collapsed": false
   },
   "outputs": [
    {
     "data": {
      "text/latex": [
       "Type system with atomic types: $t, e, n, v$"
      ],
      "text/plain": [
       "<lamb.types.PolyTypeSystem at 0x1064b65c0>"
      ]
     },
     "execution_count": 3,
     "metadata": {},
     "output_type": "execute_result"
    }
   ],
   "source": [
    "# this cell adds events\n",
    "type_v = types.BasicType(\"v\")\n",
    "ts = meta.get_type_system()\n",
    "ts.add_atomic(type_v)\n",
    "ts"
   ]
  },
  {
   "cell_type": "code",
   "execution_count": null,
   "metadata": {
    "collapsed": true
   },
   "outputs": [],
   "source": [
    "%%lamb\n",
    "# write a new entry for intransitive `break` here.  \n",
    "# Use type <e,<v,t>> (i.e. a Davidsonian analysis).  If you'd\n",
    "# rather try Kratzer's analysis here you can, but this will complicate\n",
    "# things.  (The neo-Davidsonian fragment that comes with the lambda\n",
    "# notebook implements Kratzer's analysis.)\n",
    "||break_events|| = L x_e : L e_v : # fill in here"
   ]
  },
  {
   "cell_type": "code",
   "execution_count": null,
   "metadata": {
    "collapsed": true
   },
   "outputs": [],
   "source": [
    "%%lamb\n",
    "# write a function that converts the above to a transitive type,\n",
    "# which for a Davidsonian analysis would be <e,<e,<v,t>>>.\n",
    "# That is, for the above skeleton, you want a function of type: <<e,<v,t>>,<e,<e,<v,t>>>>.\n",
    "transitivize = L f_<e,<v,t>> : L y_e : L x_e : L e_v : # fill in here"
   ]
  },
  {
   "cell_type": "markdown",
   "metadata": {},
   "source": [
    "(fill in this markdown cell with discussion of the above)"
   ]
  }
 ],
 "metadata": {
  "anaconda-cloud": {},
  "kernelspec": {
   "display_name": "Lambda Notebook (Python 3)",
   "language": "python",
   "name": "lambda-notebook"
  },
  "language_info": {
   "codemirror_mode": {
    "name": "ipython",
    "version": 3
   },
   "file_extension": ".py",
   "mimetype": "text/x-python",
   "name": "python",
   "nbconvert_exporter": "python",
   "pygments_lexer": "ipython3",
   "version": "3.5.1"
  }
 },
 "nbformat": 4,
 "nbformat_minor": 1
}
