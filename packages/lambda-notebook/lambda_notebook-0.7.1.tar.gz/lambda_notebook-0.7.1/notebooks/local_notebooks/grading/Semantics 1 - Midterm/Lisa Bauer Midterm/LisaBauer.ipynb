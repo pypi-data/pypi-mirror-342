{
 "cells": [
  {
   "cell_type": "markdown",
   "metadata": {},
   "source": [
    "## 2. Possessives"
   ]
  },
  {
   "cell_type": "markdown",
   "metadata": {},
   "source": [
    "Here is a basic lexicon for most of sentences like (1-3):\n",
    "\n",
    "    (1) Alfonso talked to Joanna's mother.\n",
    "    (2) Alfonso borrowed Joanna's book.\n",
    "    (3) Alfonso kicked Joanna's chair.\n",
    " \n",
    "The only parts that I haven't defined are the possessive morpheme, and `mother`."
   ]
  },
  {
   "cell_type": "code",
   "execution_count": 2,
   "metadata": {
    "collapsed": false
   },
   "outputs": [
    {
     "name": "stderr",
     "output_type": "stream",
     "text": [
      "INFO (meta): Coerced guessed type t for 'Borrow_t' into <(e,e),t>, to match argument '(y_e, x_e)'\n",
      "INFO (meta): Coerced guessed type t for 'Kick_t' into <(e,e),t>, to match argument '(y_e, x_e)'\n",
      "INFO (meta): Coerced guessed type t for 'Talkto_t' into <(e,e),t>, to match argument '(y_e, x_e)'\n",
      "ERROR (parsing): Parsing failed with exception:\n",
      "ERROR (parsing): expected comma in variable sequence, at point '!here!||talk to||'\n"
     ]
    },
    {
     "data": {
      "text/latex": [
       "$[\\![\\mathbf{\\text{Alfonso}}]\\!]^{}_{e} \\:=\\: {a}_{e}$<br />\n",
       "$[\\![\\mathbf{\\text{Joanna}}]\\!]^{}_{e} \\:=\\: {j}_{e}$<br />\n",
       "$[\\![\\mathbf{\\text{book}}]\\!]^{}_{\\langle{}e,t\\rangle{}} \\:=\\: \\lambda{} x_{e} \\: . \\: {Book}({x}_{e})$<br />\n",
       "$[\\![\\mathbf{\\text{chair}}]\\!]^{}_{\\langle{}e,t\\rangle{}} \\:=\\: \\lambda{} x_{e} \\: . \\: {Chair}({x}_{e})$<br />\n",
       "$[\\![\\mathbf{\\text{borrowed}}]\\!]^{}_{\\langle{}e,\\langle{}e,t\\rangle{}\\rangle{}} \\:=\\: \\lambda{} x_{e} \\: . \\: \\lambda{} y_{e} \\: . \\: {Borrow}({y}_{e}, {x}_{e})$<br />\n",
       "$[\\![\\mathbf{\\text{kick}}]\\!]^{}_{\\langle{}e,\\langle{}e,t\\rangle{}\\rangle{}} \\:=\\: \\lambda{} x_{e} \\: . \\: \\lambda{} y_{e} \\: . \\: {Kick}({y}_{e}, {x}_{e})$"
      ],
      "text/plain": [
       "$[\\![\\mathbf{\\text{Alfonso}}]\\!]^{}_{e} \\:=\\: {a}_{e}$<br />\n",
       "$[\\![\\mathbf{\\text{Joanna}}]\\!]^{}_{e} \\:=\\: {j}_{e}$<br />\n",
       "$[\\![\\mathbf{\\text{book}}]\\!]^{}_{\\langle{}e,t\\rangle{}} \\:=\\: \\lambda{} x_{e} \\: . \\: {Book}({x}_{e})$<br />\n",
       "$[\\![\\mathbf{\\text{chair}}]\\!]^{}_{\\langle{}e,t\\rangle{}} \\:=\\: \\lambda{} x_{e} \\: . \\: {Chair}({x}_{e})$<br />\n",
       "$[\\![\\mathbf{\\text{borrowed}}]\\!]^{}_{\\langle{}e,\\langle{}e,t\\rangle{}\\rangle{}} \\:=\\: \\lambda{} x_{e} \\: . \\: \\lambda{} y_{e} \\: . \\: {Borrow}({y}_{e}, {x}_{e})$<br />\n",
       "$[\\![\\mathbf{\\text{kick}}]\\!]^{}_{\\langle{}e,\\langle{}e,t\\rangle{}\\rangle{}} \\:=\\: \\lambda{} x_{e} \\: . \\: \\lambda{} y_{e} \\: . \\: {Kick}({y}_{e}, {x}_{e})$"
      ]
     },
     "execution_count": 2,
     "metadata": {},
     "output_type": "execute_result"
    }
   ],
   "source": [
    "%%lamb\n",
    "||Alfonso|| = a_e\n",
    "||Joanna|| = j_e\n",
    "||book|| = L x_e : Book_<e,t>(x)\n",
    "||chair|| = L x_e : Chair_<e,t>(x)\n",
    "||borrowed|| = L x_e : L y_e : Borrow(y,x)\n",
    "||kick|| = L x_e : L y_e : Kick(y,x)\n",
    "||talk to|| = L x_e : L y_e : Talkto(y,x)"
   ]
  },
  {
   "cell_type": "markdown",
   "metadata": {},
   "source": [
    "The following cell defines an entry that you can use for `the`.  Since there are no presuppositions per se in the lambda notebook, this glosses over them, but you can think of the `Iota` operator as itself being presuppositional."
   ]
  },
  {
   "cell_type": "code",
   "execution_count": 3,
   "metadata": {
    "collapsed": false
   },
   "outputs": [
    {
     "data": {
      "text/latex": [
       "${c}_{\\{e\\}}\\:=\\:{c}_{\\{e\\}}$<br />\n",
       "$[\\![\\mathbf{\\text{the}}]\\!]^{}_{\\langle{}\\langle{}e,t\\rangle{},e\\rangle{}} \\:=\\: \\lambda{} f_{\\langle{}e,t\\rangle{}} \\: . \\: \\iota{} x_{e} \\: . \\: ({f}_{\\langle{}e,t\\rangle{}}({x}_{e}) \\wedge{} ({x}_{e} \\in{} {c}_{\\{e\\}}))$"
      ],
      "text/plain": [
       "${c}_{\\{e\\}}\\:=\\:{c}_{\\{e\\}}$<br />\n",
       "$[\\![\\mathbf{\\text{the}}]\\!]^{}_{\\langle{}\\langle{}e,t\\rangle{},e\\rangle{}} \\:=\\: \\lambda{} f_{\\langle{}e,t\\rangle{}} \\: . \\: \\iota{} x_{e} \\: . \\: ({f}_{\\langle{}e,t\\rangle{}}({x}_{e}) \\wedge{} ({x}_{e} \\in{} {c}_{\\{e\\}}))$"
      ]
     },
     "execution_count": 3,
     "metadata": {},
     "output_type": "execute_result"
    }
   ],
   "source": [
    "%%lamb\n",
    "c_{e} = c_{e}\n",
    "||the|| = L f_<e,t> : Iota x_e : (f(x) & x << c)"
   ]
  },
  {
   "cell_type": "markdown",
   "metadata": {},
   "source": [
    "Part [a]: In the following blank cell, calculate using `*` the truth-conditions of:\n",
    "\n",
    "    (4) Alfonso borrowed the book.\n"
   ]
  },
  {
   "cell_type": "code",
   "execution_count": 4,
   "metadata": {
    "collapsed": false
   },
   "outputs": [
    {
     "data": {
      "text/latex": [
       "1 composition path.  Result:\n",
       "<br />&nbsp;&nbsp;&nbsp;&nbsp;[0]: $[\\![\\mathbf{\\text{[[borrowed [the book]] Alfonso]}}]\\!]^{}_{t} \\:=\\: $${Borrow}({a}_{e}, \\iota{} x_{e} \\: . \\: ({Book}({x}_{e}) \\wedge{} ({x}_{e} \\in{} {c}_{\\{e\\}})))$"
      ],
      "text/plain": [
       "CompositionResult(results=[⟦[[borrowed [the book]] Alfonso]⟧ = Borrow_<(e,e),t>(a_e, (ι x_e: (Book_<e,t>(x_e) & (x_e << c_{e}))))], failures=[⟦[Alfonso [borrowed [the book]]]⟧ = Type mismatch: '⟦Alfonso⟧ = a_e'/e and '⟦[borrowed [the book]]⟧ = (λ y_e: Borrow_<(e,e),t>(y_e, (ι x_e: (Book_<e,t>(x_e) & (x_e << c_{e})))))'/<e,t> conflict (mode: Function Application), ⟦[Alfonso [borrowed [the book]]]⟧ = Type mismatch: '⟦Alfonso⟧ = a_e'/e and '⟦[borrowed [the book]]⟧ = (λ y_e: Borrow_<(e,e),t>(y_e, (ι x_e: (Book_<e,t>(x_e) & (x_e << c_{e})))))'/<e,t> conflict (mode: Predicate Modification), ⟦[Alfonso [borrowed [the book]]]⟧ = Type mismatch: '⟦Alfonso⟧ = a_e'/e and '⟦[borrowed [the book]]⟧ = (λ y_e: Borrow_<(e,e),t>(y_e, (ι x_e: (Book_<e,t>(x_e) & (x_e << c_{e})))))'/<e,t> conflict (mode: Predicate Abstraction), ⟦[[borrowed [the book]] Alfonso]⟧ = Type mismatch: '⟦[borrowed [the book]]⟧ = (λ y_e: Borrow_<(e,e),t>(y_e, (ι x_e: (Book_<e,t>(x_e) & (x_e << c_{e})))))'/<e,t> and '⟦Alfonso⟧ = a_e'/e conflict (mode: Predicate Abstraction)])"
      ]
     },
     "execution_count": 4,
     "metadata": {},
     "output_type": "execute_result"
    }
   ],
   "source": [
    "Alfonso*(borrowed*(the*book))"
   ]
  },
  {
   "cell_type": "markdown",
   "metadata": {},
   "source": [
    "__*KC: part [a] 8/8*__"
   ]
  },
  {
   "cell_type": "markdown",
   "metadata": {},
   "source": [
    "**Part [b]**: In the following cell, write an entry for `mother`, and describe it in the next cell."
   ]
  },
  {
   "cell_type": "code",
   "execution_count": 5,
   "metadata": {
    "collapsed": false
   },
   "outputs": [
    {
     "name": "stderr",
     "output_type": "stream",
     "text": [
      "INFO (meta): Coerced guessed type t for 'Child_t' into <(e,e),t>, to match argument '(x_e, y_e)'\n"
     ]
    },
    {
     "data": {
      "text/latex": [
       "$[\\![\\mathbf{\\text{mother}}]\\!]^{}_{\\langle{}e,\\langle{}e,t\\rangle{}\\rangle{}} \\:=\\: \\lambda{} x_{e} \\: . \\: \\lambda{} y_{e} \\: . \\: {Child}({x}_{e}, {y}_{e})$"
      ],
      "text/plain": [
       "$[\\![\\mathbf{\\text{mother}}]\\!]^{}_{\\langle{}e,\\langle{}e,t\\rangle{}\\rangle{}} \\:=\\: \\lambda{} x_{e} \\: . \\: \\lambda{} y_{e} \\: . \\: {Child}({x}_{e}, {y}_{e})$"
      ]
     },
     "execution_count": 5,
     "metadata": {},
     "output_type": "execute_result"
    }
   ],
   "source": [
    "%%lamb\n",
    "#mothers_{e} = mothers_{e}\n",
    "#||possess|| =  L x_e : L y_e : Possess(y,x)\n",
    "#||mother|| =  L y_e : L x_e : (x << mothers & possess*x*y)\n",
    "#||mother|| =  L y_e : L x_e : (x << mothers)\n",
    "#||mother|| =  L f_<e,t>  : L y_e : L x_e : (x << mothers & f(x))\n",
    "#||mother|| =  L y_e : L x_e : L f_<e,t>  :  (x << mothers & f(x))\n",
    "||mother|| = L x_e : L y_e : Child(x,y)"
   ]
  },
  {
   "cell_type": "markdown",
   "metadata": {},
   "source": [
    "These two types of nouns contribute differently to a possessive DP. Nouns like mother are relational nouns and are of type < e,< e, t >>, whereas book is simply of type < e,t >.\n",
    "This is because nouns like mother are relational nouns meaning that the possessive relation comes from the noun, where the possessive relation for \"book\" comes from the context. Mother, therefore, would become a two-place predicate, taking two arguments (since a person is only a mother if they are in a specific relationship to another person). On the other hand, nouns like \"book\" don't create a hierarchical relationship like \"mother\" does between the possessor and the possessee. \n",
    "__*KC: good 8/8*__"
   ]
  },
  {
   "cell_type": "markdown",
   "metadata": {},
   "source": [
    "**Part [c]** (possessive denotation): In the following cell write an entry for the possessive morpheme.  To handle python naming, call it `POSS` instead of `'s`."
   ]
  },
  {
   "cell_type": "code",
   "execution_count": 6,
   "metadata": {
    "collapsed": false
   },
   "outputs": [
    {
     "data": {
      "text/latex": [
       "$[\\![\\mathbf{\\text{POSS}}]\\!]^{}_{\\langle{}\\langle{}e,\\langle{}e,t\\rangle{}\\rangle{},\\langle{}e,e\\rangle{}\\rangle{}} \\:=\\: \\lambda{} f_{\\langle{}e,\\langle{}e,t\\rangle{}\\rangle{}} \\: . \\: \\lambda{} x_{e} \\: . \\: \\iota{} y_{e} \\: . \\: {f}_{\\langle{}e,\\langle{}e,t\\rangle{}\\rangle{}}({x}_{e})({y}_{e})$"
      ],
      "text/plain": [
       "$[\\![\\mathbf{\\text{POSS}}]\\!]^{}_{\\langle{}\\langle{}e,\\langle{}e,t\\rangle{}\\rangle{},\\langle{}e,e\\rangle{}\\rangle{}} \\:=\\: \\lambda{} f_{\\langle{}e,\\langle{}e,t\\rangle{}\\rangle{}} \\: . \\: \\lambda{} x_{e} \\: . \\: \\iota{} y_{e} \\: . \\: {f}_{\\langle{}e,\\langle{}e,t\\rangle{}\\rangle{}}({x}_{e})({y}_{e})$"
      ]
     },
     "execution_count": 6,
     "metadata": {},
     "output_type": "execute_result"
    }
   ],
   "source": [
    "%%lamb\n",
    "||POSS|| = L f_<e,<e,t>> : L x_e :(Iota y_e :f(x)(y))"
   ]
  },
  {
   "cell_type": "markdown",
   "metadata": {},
   "source": [
    "Let's use the example \"Joanna's mother\" to explain why this works. Essentially, we no longer consider \"mother\" but instead \"mother of\". The type of the whole DP should be < e,t > __*(KC: this isn't right, and it isn't the result of the $correct$ denotation that you have above; the whole DP should just be type $e$)*__. The type of N should be < e, < e,t >> and the type of \"book\" should be < e,t >. The type of \"'s\" should be << e, < e,t >>, < e, < e,t >>>. __*(KC: ths isn't right, and it isn't what you've written in the code cell above.*__\n",
    "\n",
    "This makes it possible to handle ambiguous sentences. \n",
    "\n",
    "__*KC: 6/9*__"
   ]
  },
  {
   "cell_type": "markdown",
   "metadata": {},
   "source": [
    "**Part [c]** (explication of why this denotation works): In the following cell, calculate the meaning of the tree in (6) on the midterm using the `*` operator."
   ]
  },
  {
   "cell_type": "code",
   "execution_count": 7,
   "metadata": {
    "collapsed": false
   },
   "outputs": [
    {
     "data": {
      "text/latex": [
       "1 composition path:<br /><table><tr style=\"border:1px solid #848482\"><td style=\"vertical-align:bottom;padding:0px 10px\" align=\"center\"><table><tr><td style=\"vertical-align:bottom;padding:5px\"><table><tr style=\"border:1px solid #848482\"><td style=\"vertical-align:bottom;padding:0px 10px\" align=\"center\"><table><tr><td style=\"vertical-align:bottom;padding:5px\"><div style=\"margin-top:10px;border-style:solid;border-color:#848482;border-width:0px\"><div style=\"vertical-align:bottom;text-align:center\">$[\\![\\mathbf{\\text{POSS}}]\\!]^{}_{\\langle{}\\langle{}e,\\langle{}e,t\\rangle{}\\rangle{},\\langle{}e,e\\rangle{}\\rangle{}}$</div><div style=\"vertical-align:bottom;text-align:center\">$\\lambda{} f_{\\langle{}e,\\langle{}e,t\\rangle{}\\rangle{}} \\: . \\: \\lambda{} x_{e} \\: . \\: \\iota{} y_{e} \\: . \\: {f}_{\\langle{}e,\\langle{}e,t\\rangle{}\\rangle{}}({x}_{e})({y}_{e})$</div></div></td><td style=\"vertical-align:bottom;padding:10px\">$\\circ$</td><td style=\"vertical-align:bottom;padding:5px\"><div style=\"margin-top:10px;border-style:solid;border-color:#848482;border-width:0px\"><div style=\"vertical-align:bottom;text-align:center\">$[\\![\\mathbf{\\text{mother}}]\\!]^{}_{\\langle{}e,\\langle{}e,t\\rangle{}\\rangle{}}$</div><div style=\"vertical-align:bottom;text-align:center\">$\\lambda{} x_{e} \\: . \\: \\lambda{} y_{e} \\: . \\: {Child}({x}_{e}, {y}_{e})$</div></div></td></tr></table></td><td style=\"border-left:1px solid #848482;vertical-align:center;padding:10px\"><span style=\"color:blue\"><b>[FA]</b></span></td></tr><tr style=\"border-style:solid;border-color:#848482;border-width:0px 1px 1px 1px\"><td style=\"padding:5px\" align=\"center\"><div style=\"margin-top:10px;border-style:solid;border-color:#848482;border-width:0px\"><div style=\"vertical-align:bottom;text-align:center\">$[\\![\\mathbf{\\text{[POSS mother]}}]\\!]^{}_{\\langle{}e,e\\rangle{}}$</div><div style=\"vertical-align:bottom;text-align:center\">$\\lambda{} x_{e} \\: . \\: \\iota{} y_{e} \\: . \\: {Child}({x}_{e}, {y}_{e})$</div></div></td><td></td></tr></table></td><td style=\"vertical-align:bottom;padding:10px\">$\\circ$</td><td style=\"vertical-align:bottom;padding:5px\"><div style=\"margin-top:10px;border-style:solid;border-color:#848482;border-width:0px\"><div style=\"vertical-align:bottom;text-align:center\">$[\\![\\mathbf{\\text{Joanna}}]\\!]^{}_{e}$</div><div style=\"vertical-align:bottom;text-align:center\">${j}_{e}$</div></div></td></tr></table></td><td style=\"border-left:1px solid #848482;vertical-align:center;padding:10px\"><span style=\"color:blue\"><b>[FA]</b></span></td></tr><tr style=\"border-style:solid;border-color:#848482;border-width:0px 1px 1px 1px\"><td style=\"padding:5px\" align=\"center\"><div style=\"margin-top:10px;border-style:solid;border-color:#848482;border-width:0px\"><div style=\"vertical-align:bottom;text-align:center\">$[\\![\\mathbf{\\text{[[POSS mother] Joanna]}}]\\!]^{}_{e}$</div><div style=\"vertical-align:bottom;text-align:center\">$\\iota{} y_{e} \\: . \\: {Child}({j}_{e}, {y}_{e})$</div></div></td><td></td></tr></table><br /><br />"
      ],
      "text/plain": [
       "1 composition path:<br /><table><tr style=\"border:1px solid #848482\"><td style=\"vertical-align:bottom;padding:0px 10px\" align=\"center\"><table><tr><td style=\"vertical-align:bottom;padding:5px\"><table><tr style=\"border:1px solid #848482\"><td style=\"vertical-align:bottom;padding:0px 10px\" align=\"center\"><table><tr><td style=\"vertical-align:bottom;padding:5px\"><div style=\"margin-top:10px;border-style:solid;border-color:#848482;border-width:0px\"><div style=\"vertical-align:bottom;text-align:center\">$[\\![\\mathbf{\\text{POSS}}]\\!]^{}_{\\langle{}\\langle{}e,\\langle{}e,t\\rangle{}\\rangle{},\\langle{}e,e\\rangle{}\\rangle{}}$</div><div style=\"vertical-align:bottom;text-align:center\">$\\lambda{} f_{\\langle{}e,\\langle{}e,t\\rangle{}\\rangle{}} \\: . \\: \\lambda{} x_{e} \\: . \\: \\iota{} y_{e} \\: . \\: {f}_{\\langle{}e,\\langle{}e,t\\rangle{}\\rangle{}}({x}_{e})({y}_{e})$</div></div></td><td style=\"vertical-align:bottom;padding:10px\">$\\circ$</td><td style=\"vertical-align:bottom;padding:5px\"><div style=\"margin-top:10px;border-style:solid;border-color:#848482;border-width:0px\"><div style=\"vertical-align:bottom;text-align:center\">$[\\![\\mathbf{\\text{mother}}]\\!]^{}_{\\langle{}e,\\langle{}e,t\\rangle{}\\rangle{}}$</div><div style=\"vertical-align:bottom;text-align:center\">$\\lambda{} x_{e} \\: . \\: \\lambda{} y_{e} \\: . \\: {Child}({x}_{e}, {y}_{e})$</div></div></td></tr></table></td><td style=\"border-left:1px solid #848482;vertical-align:center;padding:10px\"><span style=\"color:blue\"><b>[FA]</b></span></td></tr><tr style=\"border-style:solid;border-color:#848482;border-width:0px 1px 1px 1px\"><td style=\"padding:5px\" align=\"center\"><div style=\"margin-top:10px;border-style:solid;border-color:#848482;border-width:0px\"><div style=\"vertical-align:bottom;text-align:center\">$[\\![\\mathbf{\\text{[POSS mother]}}]\\!]^{}_{\\langle{}e,e\\rangle{}}$</div><div style=\"vertical-align:bottom;text-align:center\">$\\lambda{} x_{e} \\: . \\: \\iota{} y_{e} \\: . \\: {Child}({x}_{e}, {y}_{e})$</div></div></td><td></td></tr></table></td><td style=\"vertical-align:bottom;padding:10px\">$\\circ$</td><td style=\"vertical-align:bottom;padding:5px\"><div style=\"margin-top:10px;border-style:solid;border-color:#848482;border-width:0px\"><div style=\"vertical-align:bottom;text-align:center\">$[\\![\\mathbf{\\text{Joanna}}]\\!]^{}_{e}$</div><div style=\"vertical-align:bottom;text-align:center\">${j}_{e}$</div></div></td></tr></table></td><td style=\"border-left:1px solid #848482;vertical-align:center;padding:10px\"><span style=\"color:blue\"><b>[FA]</b></span></td></tr><tr style=\"border-style:solid;border-color:#848482;border-width:0px 1px 1px 1px\"><td style=\"padding:5px\" align=\"center\"><div style=\"margin-top:10px;border-style:solid;border-color:#848482;border-width:0px\"><div style=\"vertical-align:bottom;text-align:center\">$[\\![\\mathbf{\\text{[[POSS mother] Joanna]}}]\\!]^{}_{e}$</div><div style=\"vertical-align:bottom;text-align:center\">$\\iota{} y_{e} \\: . \\: {Child}({j}_{e}, {y}_{e})$</div></div></td><td></td></tr></table><br /><br />"
      ]
     },
     "execution_count": 7,
     "metadata": {},
     "output_type": "execute_result"
    }
   ],
   "source": [
    "(POSS*(mother)*Joanna).tree()"
   ]
  },
  {
   "cell_type": "markdown",
   "metadata": {},
   "source": [
    "**Part [d]** (grads, ugrad extra credit).  Logical form uses quantifier raising which head form does not, therefore LF would allow you to represent poessesives much easier."
   ]
  },
  {
   "cell_type": "markdown",
   "metadata": {},
   "source": [
    "**Part [e]** In the following cells, calculate the denotation of `A doctor met Joanna's mother`.  You will need to fill out the lexicon with a few more items, and then do the composition."
   ]
  },
  {
   "cell_type": "code",
   "execution_count": 8,
   "metadata": {
    "collapsed": false
   },
   "outputs": [
    {
     "name": "stderr",
     "output_type": "stream",
     "text": [
      "ERROR (parsing): Parsing of assignment to '||a||' failed with exception:\n",
      "ERROR (parsing): expected comma in variable sequence, at point 'g!here!<e,t>'\n",
      "INFO (meta): Coerced guessed type t for 'Met_t' into <(e,e),t>, to match argument '(y_e, x_e)'\n"
     ]
    },
    {
     "data": {
      "text/latex": [
       "${doctors}_{\\{e\\}}\\:=\\:{doctors}_{\\{e\\}}$<br />\n",
       "$[\\![\\mathbf{\\text{doctor}}]\\!]^{}_{\\langle{}e,t\\rangle{}} \\:=\\: \\lambda{} x_{e} \\: . \\: ({x}_{e} \\in{} {doctors}_{\\{e\\}})$<br />\n",
       "$[\\![\\mathbf{\\text{met}}]\\!]^{}_{\\langle{}e,\\langle{}e,t\\rangle{}\\rangle{}} \\:=\\: \\lambda{} x_{e} \\: . \\: \\lambda{} y_{e} \\: . \\: {Met}({y}_{e}, {x}_{e})$"
      ],
      "text/plain": [
       "${doctors}_{\\{e\\}}\\:=\\:{doctors}_{\\{e\\}}$<br />\n",
       "$[\\![\\mathbf{\\text{doctor}}]\\!]^{}_{\\langle{}e,t\\rangle{}} \\:=\\: \\lambda{} x_{e} \\: . \\: ({x}_{e} \\in{} {doctors}_{\\{e\\}})$<br />\n",
       "$[\\![\\mathbf{\\text{met}}]\\!]^{}_{\\langle{}e,\\langle{}e,t\\rangle{}\\rangle{}} \\:=\\: \\lambda{} x_{e} \\: . \\: \\lambda{} y_{e} \\: . \\: {Met}({y}_{e}, {x}_{e})$"
      ]
     },
     "execution_count": 8,
     "metadata": {},
     "output_type": "execute_result"
    }
   ],
   "source": [
    "%%lamb \n",
    "||a|| = L g<e,t>: L f_<e,t> : Exists x : (g(x) & f(x))\n",
    "doctors_{e} = doctors_{e}\n",
    "||doctor|| =  L x_e : (x << doctors) #KC: this accomplishes the same thing but notationally it's a little sloppy since \n",
    "    #'doctor' could be a variable itslef, plus you've got plenty of example of how regular predicative nouns look in \n",
    "    # the lambda calculus; why make more work for yourself\n",
    "#||met|| = L f_<e,t>: L x_<e,t> : L y_e : Met(y,x)\n",
    "#||met|| = L f_<e,t>: L x_<e,t> : L y_e : Met(y,x)\n",
    "||met|| =  L x_e : L y_e : Met(y,x)"
   ]
  },
  {
   "cell_type": "code",
   "execution_count": 9,
   "metadata": {
    "collapsed": false
   },
   "outputs": [
    {
     "data": {
      "text/latex": [
       "1 composition path.  Result:\n",
       "<br />&nbsp;&nbsp;&nbsp;&nbsp;[0]: $[\\![\\mathbf{\\text{[[met [[POSS mother] Joanna]] doctor]}}]\\!]^{}_{\\langle{}e,t\\rangle{}} \\:=\\: $$\\lambda{} x_{e} \\: . \\: ({Met}({x}_{e}, \\iota{} y_{e} \\: . \\: {Child}({j}_{e}, {y}_{e})) \\wedge{} ({x}_{e} \\in{} {doctors}_{\\{e\\}}))$"
      ],
      "text/plain": [
       "CompositionResult(results=[⟦[[met [[POSS mother] Joanna]] doctor]⟧ = (λ x_e: (Met_<(e,e),t>(x_e, (ι y_e: Child_<(e,e),t>(j_e, y_e))) & (x_e << doctors_{e})))], failures=[⟦[[met [[POSS mother] Joanna]] doctor]⟧ = Type mismatch: '⟦[met [[POSS mother] Joanna]]⟧ = (λ y_e: Met_<(e,e),t>(y_e, (ι y_e: Child_<(e,e),t>(j_e, y_e))))'/<e,t> and '⟦doctor⟧ = (λ x_e: (x_e << doctors_{e}))'/<e,t> conflict (mode: Function Application), ⟦[doctor [met [[POSS mother] Joanna]]]⟧ = Type mismatch: '⟦doctor⟧ = (λ x_e: (x_e << doctors_{e}))'/<e,t> and '⟦[met [[POSS mother] Joanna]]⟧ = (λ y_e: Met_<(e,e),t>(y_e, (ι y_e: Child_<(e,e),t>(j_e, y_e))))'/<e,t> conflict (mode: Function Application), ⟦[[met [[POSS mother] Joanna]] doctor]⟧ = Type mismatch: '⟦[met [[POSS mother] Joanna]]⟧ = (λ y_e: Met_<(e,e),t>(y_e, (ι y_e: Child_<(e,e),t>(j_e, y_e))))'/<e,t> and '⟦doctor⟧ = (λ x_e: (x_e << doctors_{e}))'/<e,t> conflict (mode: Predicate Abstraction), ⟦[doctor [met [[POSS mother] Joanna]]]⟧ = Type mismatch: '⟦doctor⟧ = (λ x_e: (x_e << doctors_{e}))'/<e,t> and '⟦[met [[POSS mother] Joanna]]⟧ = (λ y_e: Met_<(e,e),t>(y_e, (ι y_e: Child_<(e,e),t>(j_e, y_e))))'/<e,t> conflict (mode: Predicate Abstraction)])"
      ]
     },
     "execution_count": 9,
     "metadata": {},
     "output_type": "execute_result"
    }
   ],
   "source": [
    "met*(POSS*(mother)*Joanna)*(doctor)"
   ]
  },
  {
   "cell_type": "markdown",
   "metadata": {
    "collapsed": true
   },
   "source": [
    "__*KC: your composition follows the correct step, and you lexical denotation for ||a|| is correct, but you didn't use it in your derivation...the result you get makes sense, but doesn't have the same meaning as the prompt...\n",
    "7/8*__"
   ]
  },
  {
   "cell_type": "markdown",
   "metadata": {},
   "source": [
    "## 3. Expressive adjectives\n",
    "\n",
    "This problem asks you to explore the meanings of expressive adjectival epithets in natural language, such\n",
    "as English “damn”, “fucking”, “darn”, and so on, in examples like the following:\n",
    "\n",
    "\n",
    "(8) Alfonso broke the {darn/damn/fucking} computer.\n",
    "\n",
    "**Part [a]**\n",
    "In general, epithets contribute some categorization to the subject that it describes. It creates an emphasis on this categorization. This depends on the context.\n",
    "In this example, the listener would understand the relative value of an item such as a computer. In this case, the speaker seems dissatisfied with the computer - this makes sense as a listener would understand the frustration of breaking an item as valuable as a computer. \n",
    "However, the epithet does not seem to direct expression towards Alfonso or the act of breaking the computer. The speaker seems expressive about the existence of a computer, perhaps due to its tendency toward breaking or because of the value of the computer and therefore the loss encountered by it breaking. The epithet \"damn\" is syntactically ascribed to computer and not toward Alfonso or broke __*(KC: you could demonstrate that this is true by giving some examples of how the meaning changes when you move it around in the sentence.)*__. Therefore, it seems that the epithet contributes to the meaning of the computer, in that the speaker feels negatively toward it. \n",
    "\n",
    "However, the context could greatly change this contribution. For example, if prior utterances in the discourse had focused on Alfonso's incapability, then the anger of the expression might be directed toward Alfonso. \n",
    "On the other hand, if the prior utterances in the dicourse had focused on the computer's subpar performance, the the anger of the expression might be directed toward the computer (as the utterance without context seems to suggest by syntax). __*KC: 10/11\n",
    "\n",
    "**Part [b]**\n",
    "This contribution a conversational implicature. This is because an implicature can guide the conversation can help the listener understand the speaker's intention with the at-issue content of the utterance.__*(KC: but critically not via at-issue content.)*__ An adjectival epithet, then, is a conversation implicature as it allows the listener to infer that the speaker feels a certain way about the at-issue content of the utterance. \n",
    "\n",
    "Let's examine the sentence \"Alfonso broke the damn computer\". The implicature is that the computer is of value in the utterance. We can use the cancellation test to see that it is an implicature.\n",
    "\n",
    "Alfonso broke the damn computer, but the computer is not of value. __*KC: good, but it's not clear which sub-maxims would give rise to such an implicature...also should consider projections tests to decide whether it is also a presupposition since the question asked you to consider both possibilities: you'll see that it has some properties of both, and should instead be thought of as something else.*__\n",
    "\n",
    "This shows that the epithet increases the importance of \"computer\" in the sentence, but that it does not necessarily have to. \n",
    "\n",
    "Let's examine another utterance \"Trump won the damn election\".\n",
    "The truth condition of this utterance is the same as \"Trump won the election\". Therefore, \"damn\", does not alter the truth condition of the sentence. However, it does give rise to an implicature. Through the use of the word \"damn\", we can see that the speaker is clearly upset by the results of the election. \n",
    "We can see this more clearly with:\n",
    "\n",
    "\"For-profit education might benefit from Trump's presidency, and even congress might support such a stupid idea.\"\n",
    "\n",
    "Clearly, not every member of congress that supports for-profit education also believes that the idea is \"stupid\". Therefore, we know that the contribution of \"stupid\" to the sentence does not affect the truth-conditions of the sentence. Instead it gives information about the speaker's attitude toward the idea. Therefore, epithets's contributions to utterances should be considered conversational implicatures. \n",
    "\n",
    "__*KC: 9/11*__\n",
    "\n",
    "\n",
    "**Part [c]**\n",
    "The type of an adjectival epithet is < e,t >< e,t>. The meaning of such an epithet is very context dependent. __*(KC: I don't understand what about this type makes it context dependent.)*__ The full denotation can be seen in the cell below. Addtionally, a derivation for \"the damn computer\" follows below it. \n",
    "\n",
    "__*KC: you write about a type $\\langele \\lange e, t \\rangle, \\langle e, t\\rangle \\rangle$ adjective which is one possible solution.  That could compose via Function Application. What you have proposed below also works, but it wou;d have to compose via Predicate Modification (as I shown by expanding your answer to a tree.  It's confusing why your prose descriptions and your analyses don't match up, again.  It's fine if you can't pick one, because both do work, but then you should make a remark on the realtive merits of both solutions.  9/11*__\n",
    "\n",
    "**Part [d]**\n",
    "An adjectival epithet can show many things, such as:\n",
    "the receiving party of the utterance has performed an action or existed in a manner that is displeasing to the speaker; the speaker values the subject of the utterance negatively and also feels negatively toward the receiver of the utterance; the speaker feels negatively toward the receiver of the utterance due to a connection with the object of the utterance.\n",
    "To embody the different sentiments of the adjectival epithets, you could create a specifications for positive or negative sentiment and the object of the sentiment (sentiment towards listener, sentiment toward object of utterance, sentiment toward action in utterace). In order to do this, you could create a sentiment operator and a object of sentiment operator that could return a truth condition and an entitiy respectively. __*KC: but what is the denoation for such an operator, where would the valence of it come from?  Also, how would you account for difference in intensity, e.g. the difference between $fucking$ and $darn$?*__"
   ]
  },
  {
   "cell_type": "code",
   "execution_count": 10,
   "metadata": {
    "collapsed": false
   },
   "outputs": [
    {
     "data": {
      "text/latex": [
       "$[\\![\\mathbf{\\text{adjective}}]\\!]^{}_{\\langle{}e,t\\rangle{}} \\:=\\: \\lambda{} x_{e} \\: . \\: {descriptionOfAdjective}_{\\langle{}e,t\\rangle{}}({x}_{e})$"
      ],
      "text/plain": [
       "$[\\![\\mathbf{\\text{adjective}}]\\!]^{}_{\\langle{}e,t\\rangle{}} \\:=\\: \\lambda{} x_{e} \\: . \\: {descriptionOfAdjective}_{\\langle{}e,t\\rangle{}}({x}_{e})$"
      ]
     },
     "execution_count": 10,
     "metadata": {},
     "output_type": "execute_result"
    }
   ],
   "source": [
    "%%lamb\n",
    "||adjective|| = L x_e : descriptionOfAdjective_<e,t>(x)"
   ]
  },
  {
   "cell_type": "code",
   "execution_count": 11,
   "metadata": {
    "collapsed": false
   },
   "outputs": [
    {
     "data": {
      "text/latex": [
       "$[\\![\\mathbf{\\text{damn}}]\\!]^{}_{\\langle{}e,t\\rangle{}} \\:=\\: \\lambda{} x_{e} \\: . \\: {causesEpithetDamn}_{\\langle{}e,t\\rangle{}}({x}_{e})$<br />\n",
       "$[\\![\\mathbf{\\text{computer}}]\\!]^{}_{\\langle{}e,t\\rangle{}} \\:=\\: \\lambda{} x_{e} \\: . \\: {computer}_{\\langle{}e,t\\rangle{}}({x}_{e})$"
      ],
      "text/plain": [
       "$[\\![\\mathbf{\\text{damn}}]\\!]^{}_{\\langle{}e,t\\rangle{}} \\:=\\: \\lambda{} x_{e} \\: . \\: {causesEpithetDamn}_{\\langle{}e,t\\rangle{}}({x}_{e})$<br />\n",
       "$[\\![\\mathbf{\\text{computer}}]\\!]^{}_{\\langle{}e,t\\rangle{}} \\:=\\: \\lambda{} x_{e} \\: . \\: {computer}_{\\langle{}e,t\\rangle{}}({x}_{e})$"
      ]
     },
     "execution_count": 11,
     "metadata": {},
     "output_type": "execute_result"
    }
   ],
   "source": [
    "%%lamb\n",
    "||damn|| = L x_e : causesEpithetDamn_<e,t>(x)\n",
    "||computer|| = L x_e : computer_<e,t>(x)"
   ]
  },
  {
   "cell_type": "code",
   "execution_count": 13,
   "metadata": {
    "collapsed": false
   },
   "outputs": [
    {
     "data": {
      "text/latex": [
       "1 composition path:<br /><table><tr style=\"border:1px solid #848482\"><td style=\"vertical-align:bottom;padding:0px 10px\" align=\"center\"><table><tr><td style=\"vertical-align:bottom;padding:5px\"><div style=\"margin-top:10px;border-style:solid;border-color:#848482;border-width:0px\"><div style=\"vertical-align:bottom;text-align:center\">$[\\![\\mathbf{\\text{the}}]\\!]^{}_{\\langle{}\\langle{}e,t\\rangle{},e\\rangle{}}$</div><div style=\"vertical-align:bottom;text-align:center\">$\\lambda{} f_{\\langle{}e,t\\rangle{}} \\: . \\: \\iota{} x_{e} \\: . \\: ({f}_{\\langle{}e,t\\rangle{}}({x}_{e}) \\wedge{} ({x}_{e} \\in{} {c}_{\\{e\\}}))$</div></div></td><td style=\"vertical-align:bottom;padding:10px\">$\\circ$</td><td style=\"vertical-align:bottom;padding:5px\"><table><tr style=\"border:1px solid #848482\"><td style=\"vertical-align:bottom;padding:0px 10px\" align=\"center\"><table><tr><td style=\"vertical-align:bottom;padding:5px\"><div style=\"margin-top:10px;border-style:solid;border-color:#848482;border-width:0px\"><div style=\"vertical-align:bottom;text-align:center\">$[\\![\\mathbf{\\text{damn}}]\\!]^{}_{\\langle{}e,t\\rangle{}}$</div><div style=\"vertical-align:bottom;text-align:center\">$\\lambda{} x_{e} \\: . \\: {causesEpithetDamn}_{\\langle{}e,t\\rangle{}}({x}_{e})$</div></div></td><td style=\"vertical-align:bottom;padding:10px\">$\\circ$</td><td style=\"vertical-align:bottom;padding:5px\"><div style=\"margin-top:10px;border-style:solid;border-color:#848482;border-width:0px\"><div style=\"vertical-align:bottom;text-align:center\">$[\\![\\mathbf{\\text{computer}}]\\!]^{}_{\\langle{}e,t\\rangle{}}$</div><div style=\"vertical-align:bottom;text-align:center\">$\\lambda{} x_{e} \\: . \\: {computer}_{\\langle{}e,t\\rangle{}}({x}_{e})$</div></div></td></tr></table></td><td style=\"border-left:1px solid #848482;vertical-align:center;padding:10px\"><span style=\"color:blue\"><b>[PM]</b></span></td></tr><tr style=\"border-style:solid;border-color:#848482;border-width:0px 1px 1px 1px\"><td style=\"padding:5px\" align=\"center\"><div style=\"margin-top:10px;border-style:solid;border-color:#848482;border-width:0px\"><div style=\"vertical-align:bottom;text-align:center\">$[\\![\\mathbf{\\text{[damn computer]}}]\\!]^{}_{\\langle{}e,t\\rangle{}}$</div><div style=\"vertical-align:bottom;text-align:center\">$\\lambda{} x_{e} \\: . \\: ({causesEpithetDamn}_{\\langle{}e,t\\rangle{}}({x}_{e}) \\wedge{} {computer}_{\\langle{}e,t\\rangle{}}({x}_{e}))$</div></div></td><td></td></tr></table></td></tr></table></td><td style=\"border-left:1px solid #848482;vertical-align:center;padding:10px\"><span style=\"color:blue\"><b>[FA]</b></span></td></tr><tr style=\"border-style:solid;border-color:#848482;border-width:0px 1px 1px 1px\"><td style=\"padding:5px\" align=\"center\"><div style=\"margin-top:10px;border-style:solid;border-color:#848482;border-width:0px\"><div style=\"vertical-align:bottom;text-align:center\">$[\\![\\mathbf{\\text{[the [damn computer]]}}]\\!]^{}_{e}$</div><div style=\"vertical-align:bottom;text-align:center\">$\\iota{} x_{e} \\: . \\: (({causesEpithetDamn}_{\\langle{}e,t\\rangle{}}({x}_{e}) \\wedge{} {computer}_{\\langle{}e,t\\rangle{}}({x}_{e})) \\wedge{} ({x}_{e} \\in{} {c}_{\\{e\\}}))$</div></div></td><td></td></tr></table><br /><br />"
      ],
      "text/plain": [
       "1 composition path:<br /><table><tr style=\"border:1px solid #848482\"><td style=\"vertical-align:bottom;padding:0px 10px\" align=\"center\"><table><tr><td style=\"vertical-align:bottom;padding:5px\"><div style=\"margin-top:10px;border-style:solid;border-color:#848482;border-width:0px\"><div style=\"vertical-align:bottom;text-align:center\">$[\\![\\mathbf{\\text{the}}]\\!]^{}_{\\langle{}\\langle{}e,t\\rangle{},e\\rangle{}}$</div><div style=\"vertical-align:bottom;text-align:center\">$\\lambda{} f_{\\langle{}e,t\\rangle{}} \\: . \\: \\iota{} x_{e} \\: . \\: ({f}_{\\langle{}e,t\\rangle{}}({x}_{e}) \\wedge{} ({x}_{e} \\in{} {c}_{\\{e\\}}))$</div></div></td><td style=\"vertical-align:bottom;padding:10px\">$\\circ$</td><td style=\"vertical-align:bottom;padding:5px\"><table><tr style=\"border:1px solid #848482\"><td style=\"vertical-align:bottom;padding:0px 10px\" align=\"center\"><table><tr><td style=\"vertical-align:bottom;padding:5px\"><div style=\"margin-top:10px;border-style:solid;border-color:#848482;border-width:0px\"><div style=\"vertical-align:bottom;text-align:center\">$[\\![\\mathbf{\\text{damn}}]\\!]^{}_{\\langle{}e,t\\rangle{}}$</div><div style=\"vertical-align:bottom;text-align:center\">$\\lambda{} x_{e} \\: . \\: {causesEpithetDamn}_{\\langle{}e,t\\rangle{}}({x}_{e})$</div></div></td><td style=\"vertical-align:bottom;padding:10px\">$\\circ$</td><td style=\"vertical-align:bottom;padding:5px\"><div style=\"margin-top:10px;border-style:solid;border-color:#848482;border-width:0px\"><div style=\"vertical-align:bottom;text-align:center\">$[\\![\\mathbf{\\text{computer}}]\\!]^{}_{\\langle{}e,t\\rangle{}}$</div><div style=\"vertical-align:bottom;text-align:center\">$\\lambda{} x_{e} \\: . \\: {computer}_{\\langle{}e,t\\rangle{}}({x}_{e})$</div></div></td></tr></table></td><td style=\"border-left:1px solid #848482;vertical-align:center;padding:10px\"><span style=\"color:blue\"><b>[PM]</b></span></td></tr><tr style=\"border-style:solid;border-color:#848482;border-width:0px 1px 1px 1px\"><td style=\"padding:5px\" align=\"center\"><div style=\"margin-top:10px;border-style:solid;border-color:#848482;border-width:0px\"><div style=\"vertical-align:bottom;text-align:center\">$[\\![\\mathbf{\\text{[damn computer]}}]\\!]^{}_{\\langle{}e,t\\rangle{}}$</div><div style=\"vertical-align:bottom;text-align:center\">$\\lambda{} x_{e} \\: . \\: ({causesEpithetDamn}_{\\langle{}e,t\\rangle{}}({x}_{e}) \\wedge{} {computer}_{\\langle{}e,t\\rangle{}}({x}_{e}))$</div></div></td><td></td></tr></table></td></tr></table></td><td style=\"border-left:1px solid #848482;vertical-align:center;padding:10px\"><span style=\"color:blue\"><b>[FA]</b></span></td></tr><tr style=\"border-style:solid;border-color:#848482;border-width:0px 1px 1px 1px\"><td style=\"padding:5px\" align=\"center\"><div style=\"margin-top:10px;border-style:solid;border-color:#848482;border-width:0px\"><div style=\"vertical-align:bottom;text-align:center\">$[\\![\\mathbf{\\text{[the [damn computer]]}}]\\!]^{}_{e}$</div><div style=\"vertical-align:bottom;text-align:center\">$\\iota{} x_{e} \\: . \\: (({causesEpithetDamn}_{\\langle{}e,t\\rangle{}}({x}_{e}) \\wedge{} {computer}_{\\langle{}e,t\\rangle{}}({x}_{e})) \\wedge{} ({x}_{e} \\in{} {c}_{\\{e\\}}))$</div></div></td><td></td></tr></table><br /><br />"
      ]
     },
     "execution_count": 13,
     "metadata": {},
     "output_type": "execute_result"
    }
   ],
   "source": [
    "(the*(damn*computer)).tree()"
   ]
  },
  {
   "cell_type": "code",
   "execution_count": null,
   "metadata": {
    "collapsed": true
   },
   "outputs": [],
   "source": []
  }
 ],
 "metadata": {
  "anaconda-cloud": {},
  "kernelspec": {
   "display_name": "Lambda Notebook (Python 3)",
   "language": "python",
   "name": "lambda-notebook"
  },
  "language_info": {
   "codemirror_mode": {
    "name": "ipython",
    "version": 3
   },
   "file_extension": ".py",
   "mimetype": "text/x-python",
   "name": "python",
   "nbconvert_exporter": "python",
   "pygments_lexer": "ipython3",
   "version": "3.5.2"
  }
 },
 "nbformat": 4,
 "nbformat_minor": 1
}
