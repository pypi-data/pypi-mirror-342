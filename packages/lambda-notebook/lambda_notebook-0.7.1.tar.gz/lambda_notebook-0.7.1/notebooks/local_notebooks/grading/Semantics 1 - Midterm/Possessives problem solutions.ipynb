{
 "cells": [
  {
   "cell_type": "markdown",
   "metadata": {},
   "source": [
    "## 2. Possessives"
   ]
  },
  {
   "cell_type": "markdown",
   "metadata": {},
   "source": [
    "Here is a basic lexicon for most of sentences like (1-3):\n",
    "\n",
    "    (1) Alfonso talked to Joanna's mother.\n",
    "    (2) Alfonso borrowed Joanna's book.\n",
    "    (3) Alfonso kicked Joanna's chair.\n",
    " \n",
    "The only parts that I haven't defined are the possessive morpheme, and `mother`."
   ]
  },
  {
   "cell_type": "code",
   "execution_count": 1,
   "metadata": {
    "collapsed": false
   },
   "outputs": [
    {
     "name": "stderr",
     "output_type": "stream",
     "text": [
      "INFO (meta): Coerced guessed type t for 'Borrow_t' into <(e,e),t>, to match argument '(y_e, x_e)'\n",
      "INFO (meta): Coerced guessed type t for 'Kick_t' into <(e,e),t>, to match argument '(y_e, x_e)'\n",
      "INFO (meta): Coerced guessed type t for 'Talkto_t' into <(e,e),t>, to match argument '(y_e, x_e)'\n",
      "ERROR (parsing): Parsing failed with exception:\n",
      "ERROR (parsing): expected comma in variable sequence, at point '!here!||talk to||'\n"
     ]
    },
    {
     "data": {
      "text/latex": [
       "$[\\![\\mathbf{\\text{Alfonso}}]\\!]^{}_{e} \\:=\\: {a}_{e}$<br />\n",
       "$[\\![\\mathbf{\\text{Joanna}}]\\!]^{}_{e} \\:=\\: {j}_{e}$<br />\n",
       "$[\\![\\mathbf{\\text{book}}]\\!]^{}_{\\langle{}e,t\\rangle{}} \\:=\\: \\lambda{} x_{e} \\: . \\: {Book}({x}_{e})$<br />\n",
       "$[\\![\\mathbf{\\text{chair}}]\\!]^{}_{\\langle{}e,t\\rangle{}} \\:=\\: \\lambda{} x_{e} \\: . \\: {Chair}({x}_{e})$<br />\n",
       "$[\\![\\mathbf{\\text{borrowed}}]\\!]^{}_{\\langle{}e,\\langle{}e,t\\rangle{}\\rangle{}} \\:=\\: \\lambda{} x_{e} \\: . \\: \\lambda{} y_{e} \\: . \\: {Borrow}({y}_{e}, {x}_{e})$<br />\n",
       "$[\\![\\mathbf{\\text{kick}}]\\!]^{}_{\\langle{}e,\\langle{}e,t\\rangle{}\\rangle{}} \\:=\\: \\lambda{} x_{e} \\: . \\: \\lambda{} y_{e} \\: . \\: {Kick}({y}_{e}, {x}_{e})$"
      ],
      "text/plain": [
       "$[\\![\\mathbf{\\text{Alfonso}}]\\!]^{}_{e} \\:=\\: {a}_{e}$<br />\n",
       "$[\\![\\mathbf{\\text{Joanna}}]\\!]^{}_{e} \\:=\\: {j}_{e}$<br />\n",
       "$[\\![\\mathbf{\\text{book}}]\\!]^{}_{\\langle{}e,t\\rangle{}} \\:=\\: \\lambda{} x_{e} \\: . \\: {Book}({x}_{e})$<br />\n",
       "$[\\![\\mathbf{\\text{chair}}]\\!]^{}_{\\langle{}e,t\\rangle{}} \\:=\\: \\lambda{} x_{e} \\: . \\: {Chair}({x}_{e})$<br />\n",
       "$[\\![\\mathbf{\\text{borrowed}}]\\!]^{}_{\\langle{}e,\\langle{}e,t\\rangle{}\\rangle{}} \\:=\\: \\lambda{} x_{e} \\: . \\: \\lambda{} y_{e} \\: . \\: {Borrow}({y}_{e}, {x}_{e})$<br />\n",
       "$[\\![\\mathbf{\\text{kick}}]\\!]^{}_{\\langle{}e,\\langle{}e,t\\rangle{}\\rangle{}} \\:=\\: \\lambda{} x_{e} \\: . \\: \\lambda{} y_{e} \\: . \\: {Kick}({y}_{e}, {x}_{e})$"
      ]
     },
     "execution_count": 1,
     "metadata": {},
     "output_type": "execute_result"
    }
   ],
   "source": [
    "%%lamb\n",
    "||Alfonso|| = a_e\n",
    "||Joanna|| = j_e\n",
    "||book|| = L x_e : Book_<e,t>(x)\n",
    "||chair|| = L x_e : Chair_<e,t>(x)\n",
    "||borrowed|| = L x_e : L y_e : Borrow(y,x)\n",
    "||kick|| = L x_e : L y_e : Kick(y,x)\n",
    "||talk to|| = L x_e : L y_e : Talkto(y,x)"
   ]
  },
  {
   "cell_type": "markdown",
   "metadata": {},
   "source": [
    "The following cell defines an entry that you can use for `the`.  Since there are no presuppositions per se in the lambda notebook, this glosses over them, but you can think of the `Iota` operator as itself being presuppositional."
   ]
  },
  {
   "cell_type": "code",
   "execution_count": 2,
   "metadata": {
    "collapsed": false
   },
   "outputs": [
    {
     "data": {
      "text/latex": [
       "${c}_{\\{e\\}}\\:=\\:{c}_{\\{e\\}}$<br />\n",
       "$[\\![\\mathbf{\\text{the}}]\\!]^{}_{\\langle{}\\langle{}e,t\\rangle{},e\\rangle{}} \\:=\\: \\lambda{} f_{\\langle{}e,t\\rangle{}} \\: . \\: \\iota{} x_{e} \\: . \\: ({f}_{\\langle{}e,t\\rangle{}}({x}_{e}) \\wedge{} ({x}_{e} \\in{} {c}_{\\{e\\}}))$"
      ],
      "text/plain": [
       "${c}_{\\{e\\}}\\:=\\:{c}_{\\{e\\}}$<br />\n",
       "$[\\![\\mathbf{\\text{the}}]\\!]^{}_{\\langle{}\\langle{}e,t\\rangle{},e\\rangle{}} \\:=\\: \\lambda{} f_{\\langle{}e,t\\rangle{}} \\: . \\: \\iota{} x_{e} \\: . \\: ({f}_{\\langle{}e,t\\rangle{}}({x}_{e}) \\wedge{} ({x}_{e} \\in{} {c}_{\\{e\\}}))$"
      ]
     },
     "execution_count": 2,
     "metadata": {},
     "output_type": "execute_result"
    }
   ],
   "source": [
    "%%lamb\n",
    "c_{e} = c_{e}\n",
    "||the|| = L f_<e,t> : Iota x_e : (f(x) & x << c)"
   ]
  },
  {
   "cell_type": "markdown",
   "metadata": {},
   "source": [
    "Part [a]: In the following blank cell, calculate using `*` the truth-conditions of:\n",
    "\n",
    "    (4) Alfonso borrowed the book.\n"
   ]
  },
  {
   "cell_type": "code",
   "execution_count": 3,
   "metadata": {
    "collapsed": false
   },
   "outputs": [
    {
     "data": {
      "text/latex": [
       "1 composition path.  Result:\n",
       "<br />&nbsp;&nbsp;&nbsp;&nbsp;[0]: $[\\![\\mathbf{\\text{[[borrowed [the book]] Alfonso]}}]\\!]^{}_{t} \\:=\\: $${Borrow}({a}_{e}, \\iota{} x_{e} \\: . \\: ({Book}({x}_{e}) \\wedge{} ({x}_{e} \\in{} {c}_{\\{e\\}})))$"
      ],
      "text/plain": [
       "CompositionResult(results=[⟦[[borrowed [the book]] Alfonso]⟧ = Borrow_<(e,e),t>(a_e, (ι x_e: (Book_<e,t>(x_e) & (x_e << c_{e}))))], failures=[⟦[Alfonso [borrowed [the book]]]⟧ = Type mismatch: '⟦Alfonso⟧ = a_e'/e and '⟦[borrowed [the book]]⟧ = (λ y_e: Borrow_<(e,e),t>(y_e, (ι x_e: (Book_<e,t>(x_e) & (x_e << c_{e})))))'/<e,t> conflict (mode: Function Application), ⟦[Alfonso [borrowed [the book]]]⟧ = Type mismatch: '⟦Alfonso⟧ = a_e'/e and '⟦[borrowed [the book]]⟧ = (λ y_e: Borrow_<(e,e),t>(y_e, (ι x_e: (Book_<e,t>(x_e) & (x_e << c_{e})))))'/<e,t> conflict (mode: Predicate Modification), ⟦[Alfonso [borrowed [the book]]]⟧ = Type mismatch: '⟦Alfonso⟧ = a_e'/e and '⟦[borrowed [the book]]⟧ = (λ y_e: Borrow_<(e,e),t>(y_e, (ι x_e: (Book_<e,t>(x_e) & (x_e << c_{e})))))'/<e,t> conflict (mode: Predicate Abstraction), ⟦[[borrowed [the book]] Alfonso]⟧ = Type mismatch: '⟦[borrowed [the book]]⟧ = (λ y_e: Borrow_<(e,e),t>(y_e, (ι x_e: (Book_<e,t>(x_e) & (x_e << c_{e})))))'/<e,t> and '⟦Alfonso⟧ = a_e'/e conflict (mode: Predicate Abstraction)])"
      ]
     },
     "execution_count": 3,
     "metadata": {},
     "output_type": "execute_result"
    }
   ],
   "source": [
    "# composition here\n",
    "Alfonso * (borrowed * (the * book))"
   ]
  },
  {
   "cell_type": "markdown",
   "metadata": {},
   "source": [
    "**Part [b]**: In the following cell, write an entry for `mother`, and describe it in the next cell."
   ]
  },
  {
   "cell_type": "code",
   "execution_count": 4,
   "metadata": {
    "collapsed": false
   },
   "outputs": [
    {
     "name": "stderr",
     "output_type": "stream",
     "text": [
      "INFO (meta): Coerced guessed type t for 'MotherOf_t' into <(e,e),t>, to match argument '(y_e, x_e)'\n"
     ]
    },
    {
     "data": {
      "text/latex": [
       "$[\\![\\mathbf{\\text{mother}}]\\!]^{}_{\\langle{}e,\\langle{}e,t\\rangle{}\\rangle{}} \\:=\\: \\lambda{} x_{e} \\: . \\: \\lambda{} y_{e} \\: . \\: {MotherOf}({y}_{e}, {x}_{e})$"
      ],
      "text/plain": [
       "$[\\![\\mathbf{\\text{mother}}]\\!]^{}_{\\langle{}e,\\langle{}e,t\\rangle{}\\rangle{}} \\:=\\: \\lambda{} x_{e} \\: . \\: \\lambda{} y_{e} \\: . \\: {MotherOf}({y}_{e}, {x}_{e})$"
      ]
     },
     "execution_count": 4,
     "metadata": {},
     "output_type": "execute_result"
    }
   ],
   "source": [
    "%%lamb\n",
    "||mother|| = L x_e : L y_e : MotherOf(y,x) # arguments should probably be reversed but it doesn't matter so much for this problem"
   ]
  },
  {
   "cell_type": "markdown",
   "metadata": {},
   "source": [
    "**Markdown cell**: please explain your entry for `mother` in prose by editing this cell."
   ]
  },
  {
   "cell_type": "markdown",
   "metadata": {},
   "source": [
    "**Part [c]** (possessive denotation): In the following cell write an entry for the possessive morpheme.  To handle python naming, call it `POSS` instead of `'s`."
   ]
  },
  {
   "cell_type": "code",
   "execution_count": 5,
   "metadata": {
    "collapsed": false
   },
   "outputs": [
    {
     "name": "stderr",
     "output_type": "stream",
     "text": [
      "INFO (meta): Coerced guessed type t for 'Owns_t' into <(e,e),t>, to match argument '(x_e, y_e)'\n"
     ]
    },
    {
     "data": {
      "text/latex": [
       "$[\\![\\mathbf{\\text{POSS}}]\\!]^{}_{\\langle{}\\langle{}e,\\langle{}e,t\\rangle{}\\rangle{},\\langle{}e,e\\rangle{}\\rangle{}} \\:=\\: \\lambda{} f_{\\langle{}e,\\langle{}e,t\\rangle{}\\rangle{}} \\: . \\: \\lambda{} x_{e} \\: . \\: \\iota{} y_{e} \\: . \\: ({f}_{\\langle{}e,\\langle{}e,t\\rangle{}\\rangle{}}({x}_{e})({y}_{e}) \\wedge{} ({y}_{e} \\in{} {c}_{\\{e\\}}))$<br />\n",
       "$[\\![\\mathbf{\\text{POSS2}}]\\!]^{}_{\\langle{}\\langle{}e,t\\rangle{},\\langle{}e,e\\rangle{}\\rangle{}} \\:=\\: \\lambda{} f_{\\langle{}e,t\\rangle{}} \\: . \\: \\lambda{} x_{e} \\: . \\: \\iota{} y_{e} \\: . \\: ({Owns}({x}_{e}, {y}_{e}) \\wedge{} ({y}_{e} \\in{} {c}_{\\{e\\}}))$"
      ],
      "text/plain": [
       "$[\\![\\mathbf{\\text{POSS}}]\\!]^{}_{\\langle{}\\langle{}e,\\langle{}e,t\\rangle{}\\rangle{},\\langle{}e,e\\rangle{}\\rangle{}} \\:=\\: \\lambda{} f_{\\langle{}e,\\langle{}e,t\\rangle{}\\rangle{}} \\: . \\: \\lambda{} x_{e} \\: . \\: \\iota{} y_{e} \\: . \\: ({f}_{\\langle{}e,\\langle{}e,t\\rangle{}\\rangle{}}({x}_{e})({y}_{e}) \\wedge{} ({y}_{e} \\in{} {c}_{\\{e\\}}))$<br />\n",
       "$[\\![\\mathbf{\\text{POSS2}}]\\!]^{}_{\\langle{}\\langle{}e,t\\rangle{},\\langle{}e,e\\rangle{}\\rangle{}} \\:=\\: \\lambda{} f_{\\langle{}e,t\\rangle{}} \\: . \\: \\lambda{} x_{e} \\: . \\: \\iota{} y_{e} \\: . \\: ({Owns}({x}_{e}, {y}_{e}) \\wedge{} ({y}_{e} \\in{} {c}_{\\{e\\}}))$"
      ]
     },
     "execution_count": 5,
     "metadata": {},
     "output_type": "execute_result"
    }
   ],
   "source": [
    "%%lamb\n",
    "#solution 1: ambiguous POSS\n",
    "||POSS|| = L f_<e,<e,t>> : L x_e : Iota y_e : f(x)(y) & y << c\n",
    "||POSS2|| = L f_<e,t> : L x_e : Iota y_e : Owns(x,y)  & y << c"
   ]
  },
  {
   "cell_type": "markdown",
   "metadata": {},
   "source": [
    "**Markdown cell**: please explain your entry for `POSS` in prose by editing this cell."
   ]
  },
  {
   "cell_type": "markdown",
   "metadata": {},
   "source": [
    "**Part [c]** (explication of why this denotation works): In the following cell, calculate the meaning of the tree in (6) on the midterm using the `*` operator."
   ]
  },
  {
   "cell_type": "code",
   "execution_count": 6,
   "metadata": {
    "collapsed": false
   },
   "outputs": [
    {
     "data": {
      "text/latex": [
       "1 composition path.  Result:\n",
       "<br />&nbsp;&nbsp;&nbsp;&nbsp;[0]: $[\\![\\mathbf{\\text{[[POSS2 book] Joanna]}}]\\!]^{}_{e} \\:=\\: $$\\iota{} y_{e} \\: . \\: ({Owns}({j}_{e}, {y}_{e}) \\wedge{} ({y}_{e} \\in{} {c}_{\\{e\\}}))$"
      ],
      "text/plain": [
       "CompositionResult(results=[⟦[[POSS2 book] Joanna]⟧ = (ι y_e: (Owns_<(e,e),t>(j_e, y_e) & (y_e << c_{e})))], failures=[⟦[Joanna [POSS2 book]]⟧ = Type mismatch: '⟦Joanna⟧ = j_e'/e and '⟦[POSS2 book]⟧ = (λ x_e: (ι y_e: (Owns_<(e,e),t>(x_e, y_e) & (y_e << c_{e}))))'/<e,e> conflict (mode: Function Application), ⟦[Joanna [POSS2 book]]⟧ = Type mismatch: '⟦Joanna⟧ = j_e'/e and '⟦[POSS2 book]⟧ = (λ x_e: (ι y_e: (Owns_<(e,e),t>(x_e, y_e) & (y_e << c_{e}))))'/<e,e> conflict (mode: Predicate Modification), ⟦[Joanna [POSS2 book]]⟧ = Type mismatch: '⟦Joanna⟧ = j_e'/e and '⟦[POSS2 book]⟧ = (λ x_e: (ι y_e: (Owns_<(e,e),t>(x_e, y_e) & (y_e << c_{e}))))'/<e,e> conflict (mode: Predicate Abstraction), ⟦[[POSS2 book] Joanna]⟧ = Type mismatch: '⟦[POSS2 book]⟧ = (λ x_e: (ι y_e: (Owns_<(e,e),t>(x_e, y_e) & (y_e << c_{e}))))'/<e,e> and '⟦Joanna⟧ = j_e'/e conflict (mode: Predicate Abstraction)])"
      ]
     },
     "execution_count": 6,
     "metadata": {},
     "output_type": "execute_result"
    }
   ],
   "source": [
    "Joanna * (POSS2 * book)"
   ]
  },
  {
   "cell_type": "code",
   "execution_count": 7,
   "metadata": {
    "collapsed": false
   },
   "outputs": [
    {
     "data": {
      "text/latex": [
       "1 composition path.  Result:\n",
       "<br />&nbsp;&nbsp;&nbsp;&nbsp;[0]: $[\\![\\mathbf{\\text{[[POSS mother] Joanna]}}]\\!]^{}_{e} \\:=\\: $$\\iota{} y_{e} \\: . \\: ({MotherOf}({y}_{e}, {j}_{e}) \\wedge{} ({y}_{e} \\in{} {c}_{\\{e\\}}))$"
      ],
      "text/plain": [
       "CompositionResult(results=[⟦[[POSS mother] Joanna]⟧ = (ι y_e: (MotherOf_<(e,e),t>(y_e, j_e) & (y_e << c_{e})))], failures=[⟦[Joanna [POSS mother]]⟧ = Type mismatch: '⟦Joanna⟧ = j_e'/e and '⟦[POSS mother]⟧ = (λ x_e: (ι y_e: (MotherOf_<(e,e),t>(y_e, x_e) & (y_e << c_{e}))))'/<e,e> conflict (mode: Function Application), ⟦[Joanna [POSS mother]]⟧ = Type mismatch: '⟦Joanna⟧ = j_e'/e and '⟦[POSS mother]⟧ = (λ x_e: (ι y_e: (MotherOf_<(e,e),t>(y_e, x_e) & (y_e << c_{e}))))'/<e,e> conflict (mode: Predicate Modification), ⟦[Joanna [POSS mother]]⟧ = Type mismatch: '⟦Joanna⟧ = j_e'/e and '⟦[POSS mother]⟧ = (λ x_e: (ι y_e: (MotherOf_<(e,e),t>(y_e, x_e) & (y_e << c_{e}))))'/<e,e> conflict (mode: Predicate Abstraction), ⟦[[POSS mother] Joanna]⟧ = Type mismatch: '⟦[POSS mother]⟧ = (λ x_e: (ι y_e: (MotherOf_<(e,e),t>(y_e, x_e) & (y_e << c_{e}))))'/<e,e> and '⟦Joanna⟧ = j_e'/e conflict (mode: Predicate Abstraction)])"
      ]
     },
     "execution_count": 7,
     "metadata": {},
     "output_type": "execute_result"
    }
   ],
   "source": [
    "Joanna * (POSS * mother)"
   ]
  },
  {
   "cell_type": "markdown",
   "metadata": {},
   "source": [
    "**Part [d]** (grads, ugrad extra credit).  In the following cell(s) answer the question on the midterm.  You may insert as many new cells as you need, and use markdown cells to write any prose."
   ]
  },
  {
   "cell_type": "code",
   "execution_count": 8,
   "metadata": {
    "collapsed": false
   },
   "outputs": [
    {
     "data": {
      "text/latex": [
       "$[\\![\\mathbf{\\text{POSS3}}]\\!]^{}_{\\langle{}\\langle{}e,t\\rangle{},e\\rangle{}} \\:=\\: \\lambda{} f_{\\langle{}e,t\\rangle{}} \\: . \\: \\iota{} x_{e} \\: . \\: ({f}_{\\langle{}e,t\\rangle{}}({x}_{e}) \\wedge{} ({x}_{e} \\in{} {c}_{\\{e\\}}))$"
      ],
      "text/plain": [
       "$[\\![\\mathbf{\\text{POSS3}}]\\!]^{}_{\\langle{}\\langle{}e,t\\rangle{},e\\rangle{}} \\:=\\: \\lambda{} f_{\\langle{}e,t\\rangle{}} \\: . \\: \\iota{} x_{e} \\: . \\: ({f}_{\\langle{}e,t\\rangle{}}({x}_{e}) \\wedge{} ({x}_{e} \\in{} {c}_{\\{e\\}}))$"
      ]
     },
     "execution_count": 8,
     "metadata": {},
     "output_type": "execute_result"
    }
   ],
   "source": [
    "%%lamb\n",
    "||POSS3|| = L f_<e,t> : Iota x_e : (f(x) & x << c) # same as ||the||\n"
   ]
  },
  {
   "cell_type": "code",
   "execution_count": 9,
   "metadata": {
    "collapsed": false
   },
   "outputs": [
    {
     "data": {
      "text/latex": [
       "1 composition path.  Result:\n",
       "<br />&nbsp;&nbsp;&nbsp;&nbsp;[0]: $[\\![\\mathbf{\\text{[POSS3 [mother Joanna]]}}]\\!]^{}_{e} \\:=\\: $$\\iota{} x_{e} \\: . \\: ({MotherOf}({x}_{e}, {j}_{e}) \\wedge{} ({x}_{e} \\in{} {c}_{\\{e\\}}))$"
      ],
      "text/plain": [
       "CompositionResult(results=[⟦[POSS3 [mother Joanna]]⟧ = (ι x_e: (MotherOf_<(e,e),t>(x_e, j_e) & (x_e << c_{e})))], failures=[⟦[[mother Joanna] POSS3]⟧ = Type mismatch: '⟦[mother Joanna]⟧ = (λ y_e: MotherOf_<(e,e),t>(y_e, j_e))'/<e,t> and '⟦POSS3⟧ = (λ f_<e,t>: (ι x_e: (f_<e,t>(x_e) & (x_e << c_{e}))))'/<<e,t>,e> conflict (mode: Function Application), ⟦[POSS3 [mother Joanna]]⟧ = Type mismatch: '⟦POSS3⟧ = (λ f_<e,t>: (ι x_e: (f_<e,t>(x_e) & (x_e << c_{e}))))'/<<e,t>,e> and '⟦[mother Joanna]⟧ = (λ y_e: MotherOf_<(e,e),t>(y_e, j_e))'/<e,t> conflict (mode: Predicate Modification), ⟦[POSS3 [mother Joanna]]⟧ = Type mismatch: '⟦POSS3⟧ = (λ f_<e,t>: (ι x_e: (f_<e,t>(x_e) & (x_e << c_{e}))))'/<<e,t>,e> and '⟦[mother Joanna]⟧ = (λ y_e: MotherOf_<(e,e),t>(y_e, j_e))'/<e,t> conflict (mode: Predicate Abstraction), ⟦[[mother Joanna] POSS3]⟧ = Type mismatch: '⟦[mother Joanna]⟧ = (λ y_e: MotherOf_<(e,e),t>(y_e, j_e))'/<e,t> and '⟦POSS3⟧ = (λ f_<e,t>: (ι x_e: (f_<e,t>(x_e) & (x_e << c_{e}))))'/<<e,t>,e> conflict (mode: Predicate Abstraction)])"
      ]
     },
     "execution_count": 9,
     "metadata": {},
     "output_type": "execute_result"
    }
   ],
   "source": [
    "POSS3 * (mother * Joanna)"
   ]
  },
  {
   "cell_type": "code",
   "execution_count": 10,
   "metadata": {
    "collapsed": false
   },
   "outputs": [
    {
     "name": "stderr",
     "output_type": "stream",
     "text": [
      "INFO (meta): Coerced guessed type t for 'Own_t' into <(e,e),t>, to match argument '(x_e, y_e)'\n"
     ]
    },
    {
     "data": {
      "text/latex": [
       "1 composition path.  Result:\n",
       "<br />&nbsp;&nbsp;&nbsp;&nbsp;[0]: $[\\![\\mathbf{\\text{[POSS3 [[LIFT book] Joanna]]}}]\\!]^{}_{e} \\:=\\: $$\\iota{} x_{e} \\: . \\: (({Own}({j}_{e}, {x}_{e}) \\wedge{} {Book}({x}_{e})) \\wedge{} ({x}_{e} \\in{} {c}_{\\{e\\}}))$"
      ],
      "text/plain": [
       "CompositionResult(results=[⟦[POSS3 [[LIFT book] Joanna]]⟧ = (ι x_e: ((Own_<(e,e),t>(j_e, x_e) & Book_<e,t>(x_e)) & (x_e << c_{e})))], failures=[⟦[[[LIFT book] Joanna] POSS3]⟧ = Type mismatch: '⟦[[LIFT book] Joanna]⟧ = (λ y_e: (Own_<(e,e),t>(j_e, y_e) & Book_<e,t>(y_e)))'/<e,t> and '⟦POSS3⟧ = (λ f_<e,t>: (ι x_e: (f_<e,t>(x_e) & (x_e << c_{e}))))'/<<e,t>,e> conflict (mode: Function Application), ⟦[POSS3 [[LIFT book] Joanna]]⟧ = Type mismatch: '⟦POSS3⟧ = (λ f_<e,t>: (ι x_e: (f_<e,t>(x_e) & (x_e << c_{e}))))'/<<e,t>,e> and '⟦[[LIFT book] Joanna]⟧ = (λ y_e: (Own_<(e,e),t>(j_e, y_e) & Book_<e,t>(y_e)))'/<e,t> conflict (mode: Predicate Modification), ⟦[POSS3 [[LIFT book] Joanna]]⟧ = Type mismatch: '⟦POSS3⟧ = (λ f_<e,t>: (ι x_e: (f_<e,t>(x_e) & (x_e << c_{e}))))'/<<e,t>,e> and '⟦[[LIFT book] Joanna]⟧ = (λ y_e: (Own_<(e,e),t>(j_e, y_e) & Book_<e,t>(y_e)))'/<e,t> conflict (mode: Predicate Abstraction), ⟦[[[LIFT book] Joanna] POSS3]⟧ = Type mismatch: '⟦[[LIFT book] Joanna]⟧ = (λ y_e: (Own_<(e,e),t>(j_e, y_e) & Book_<e,t>(y_e)))'/<e,t> and '⟦POSS3⟧ = (λ f_<e,t>: (ι x_e: (f_<e,t>(x_e) & (x_e << c_{e}))))'/<<e,t>,e> conflict (mode: Predicate Abstraction)])"
      ]
     },
     "execution_count": 10,
     "metadata": {},
     "output_type": "execute_result"
    }
   ],
   "source": [
    "# for Joanna's book, need to do something different.  There are various possibilities.\n",
    "%lamb ||LIFT|| = L f_<e,t> : L x_e : L y_e : Own(x,y) & f(y)\n",
    "POSS3 * ((LIFT * book) * Joanna)"
   ]
  },
  {
   "cell_type": "markdown",
   "metadata": {},
   "source": [
    "**Part [d]** In the following cells, calculate the denotation of `A doctor met Joanna's mother`.  You will need to fill out the lexicon with a few more items, and then do the composition."
   ]
  },
  {
   "cell_type": "code",
   "execution_count": 11,
   "metadata": {
    "collapsed": false
   },
   "outputs": [
    {
     "name": "stderr",
     "output_type": "stream",
     "text": [
      "INFO (meta): Coerced guessed type t for 'Doctor_t' into <e,t>, to match argument 'x_e'\n",
      "INFO (meta): Coerced guessed type t for 'Met_t' into <(e,e),t>, to match argument '(y_e, x_e)'\n"
     ]
    },
    {
     "data": {
      "text/latex": [
       "$[\\![\\mathbf{\\text{a}}]\\!]^{}_{\\langle{}\\langle{}e,t\\rangle{},\\langle{}\\langle{}e,t\\rangle{},t\\rangle{}\\rangle{}} \\:=\\: \\lambda{} f_{\\langle{}e,t\\rangle{}} \\: . \\: \\lambda{} g_{\\langle{}e,t\\rangle{}} \\: . \\: \\exists{} x_{e} \\: . \\: ({f}_{\\langle{}e,t\\rangle{}}({x}_{e}) \\wedge{} {g}_{\\langle{}e,t\\rangle{}}({x}_{e}))$<br />\n",
       "$[\\![\\mathbf{\\text{doctor}}]\\!]^{}_{\\langle{}e,t\\rangle{}} \\:=\\: \\lambda{} x_{e} \\: . \\: {Doctor}({x}_{e})$<br />\n",
       "$[\\![\\mathbf{\\text{met}}]\\!]^{}_{\\langle{}e,\\langle{}e,t\\rangle{}\\rangle{}} \\:=\\: \\lambda{} x_{e} \\: . \\: \\lambda{} y_{e} \\: . \\: {Met}({y}_{e}, {x}_{e})$"
      ],
      "text/plain": [
       "$[\\![\\mathbf{\\text{a}}]\\!]^{}_{\\langle{}\\langle{}e,t\\rangle{},\\langle{}\\langle{}e,t\\rangle{},t\\rangle{}\\rangle{}} \\:=\\: \\lambda{} f_{\\langle{}e,t\\rangle{}} \\: . \\: \\lambda{} g_{\\langle{}e,t\\rangle{}} \\: . \\: \\exists{} x_{e} \\: . \\: ({f}_{\\langle{}e,t\\rangle{}}({x}_{e}) \\wedge{} {g}_{\\langle{}e,t\\rangle{}}({x}_{e}))$<br />\n",
       "$[\\![\\mathbf{\\text{doctor}}]\\!]^{}_{\\langle{}e,t\\rangle{}} \\:=\\: \\lambda{} x_{e} \\: . \\: {Doctor}({x}_{e})$<br />\n",
       "$[\\![\\mathbf{\\text{met}}]\\!]^{}_{\\langle{}e,\\langle{}e,t\\rangle{}\\rangle{}} \\:=\\: \\lambda{} x_{e} \\: . \\: \\lambda{} y_{e} \\: . \\: {Met}({y}_{e}, {x}_{e})$"
      ]
     },
     "execution_count": 11,
     "metadata": {},
     "output_type": "execute_result"
    }
   ],
   "source": [
    "%%lamb\n",
    "||a|| = L f_<e,t> : L g_<e,t> : Exists x_e : f(x) & g(x)\n",
    "||doctor|| = L x_e : Doctor(x)\n",
    "||met|| = L x_e : L y_e : Met(y,x)"
   ]
  },
  {
   "cell_type": "code",
   "execution_count": 12,
   "metadata": {
    "collapsed": false
   },
   "outputs": [
    {
     "data": {
      "text/latex": [
       "1 composition path.  Result:\n",
       "<br />&nbsp;&nbsp;&nbsp;&nbsp;[0]: $[\\![\\mathbf{\\text{[[a doctor] [met [[POSS mother] Joanna]]]}}]\\!]^{}_{t} \\:=\\: $$\\exists{} x_{e} \\: . \\: ({Doctor}({x}_{e}) \\wedge{} {Met}({x}_{e}, \\iota{} y_{e} \\: . \\: ({MotherOf}({y}_{e}, {j}_{e}) \\wedge{} ({y}_{e} \\in{} {c}_{\\{e\\}}))))$"
      ],
      "text/plain": [
       "CompositionResult(results=[⟦[[a doctor] [met [[POSS mother] Joanna]]]⟧ = (Exists x_e: (Doctor_<e,t>(x_e) & Met_<(e,e),t>(x_e, (ι y_e: (MotherOf_<(e,e),t>(y_e, j_e) & (y_e << c_{e}))))))], failures=[⟦[[met [[POSS mother] Joanna]] [a doctor]]⟧ = Type mismatch: '⟦[met [[POSS mother] Joanna]]⟧ = (λ y_e: Met_<(e,e),t>(y_e, (ι y_e: (MotherOf_<(e,e),t>(y_e, j_e) & (y_e << c_{e})))))'/<e,t> and '⟦[a doctor]⟧ = (λ g_<e,t>: (Exists x_e: (Doctor_<e,t>(x_e) & g_<e,t>(x_e))))'/<<e,t>,t> conflict (mode: Function Application), ⟦[[a doctor] [met [[POSS mother] Joanna]]]⟧ = Type mismatch: '⟦[a doctor]⟧ = (λ g_<e,t>: (Exists x_e: (Doctor_<e,t>(x_e) & g_<e,t>(x_e))))'/<<e,t>,t> and '⟦[met [[POSS mother] Joanna]]⟧ = (λ y_e: Met_<(e,e),t>(y_e, (ι y_e: (MotherOf_<(e,e),t>(y_e, j_e) & (y_e << c_{e})))))'/<e,t> conflict (mode: Predicate Modification), ⟦[[a doctor] [met [[POSS mother] Joanna]]]⟧ = Type mismatch: '⟦[a doctor]⟧ = (λ g_<e,t>: (Exists x_e: (Doctor_<e,t>(x_e) & g_<e,t>(x_e))))'/<<e,t>,t> and '⟦[met [[POSS mother] Joanna]]⟧ = (λ y_e: Met_<(e,e),t>(y_e, (ι y_e: (MotherOf_<(e,e),t>(y_e, j_e) & (y_e << c_{e})))))'/<e,t> conflict (mode: Predicate Abstraction), ⟦[[met [[POSS mother] Joanna]] [a doctor]]⟧ = Type mismatch: '⟦[met [[POSS mother] Joanna]]⟧ = (λ y_e: Met_<(e,e),t>(y_e, (ι y_e: (MotherOf_<(e,e),t>(y_e, j_e) & (y_e << c_{e})))))'/<e,t> and '⟦[a doctor]⟧ = (λ g_<e,t>: (Exists x_e: (Doctor_<e,t>(x_e) & g_<e,t>(x_e))))'/<<e,t>,t> conflict (mode: Predicate Abstraction)])"
      ]
     },
     "execution_count": 12,
     "metadata": {},
     "output_type": "execute_result"
    }
   ],
   "source": [
    "(a * doctor) * (met * (Joanna * (POSS * mother)))"
   ]
  },
  {
   "cell_type": "code",
   "execution_count": 13,
   "metadata": {
    "collapsed": false
   },
   "outputs": [
    {
     "data": {
      "text/latex": [
       "1 composition path.  Result:\n",
       "<br />&nbsp;&nbsp;&nbsp;&nbsp;[0]: $[\\![\\mathbf{\\text{[[a doctor] [met [POSS3 [mother Joanna]]]]}}]\\!]^{}_{t} \\:=\\: $$\\exists{} x_{e} \\: . \\: ({Doctor}({x}_{e}) \\wedge{} {Met}({x}_{e}, \\iota{} x1_{e} \\: . \\: ({MotherOf}({x1}_{e}, {j}_{e}) \\wedge{} ({x1}_{e} \\in{} {c}_{\\{e\\}}))))$"
      ],
      "text/plain": [
       "CompositionResult(results=[⟦[[a doctor] [met [POSS3 [mother Joanna]]]]⟧ = (Exists x_e: (Doctor_<e,t>(x_e) & Met_<(e,e),t>(x_e, (ι x1_e: (MotherOf_<(e,e),t>(x1_e, j_e) & (x1_e << c_{e}))))))], failures=[⟦[[met [POSS3 [mother Joanna]]] [a doctor]]⟧ = Type mismatch: '⟦[met [POSS3 [mother Joanna]]]⟧ = (λ y_e: Met_<(e,e),t>(y_e, (ι x_e: (MotherOf_<(e,e),t>(x_e, j_e) & (x_e << c_{e})))))'/<e,t> and '⟦[a doctor]⟧ = (λ g_<e,t>: (Exists x_e: (Doctor_<e,t>(x_e) & g_<e,t>(x_e))))'/<<e,t>,t> conflict (mode: Function Application), ⟦[[a doctor] [met [POSS3 [mother Joanna]]]]⟧ = Type mismatch: '⟦[a doctor]⟧ = (λ g_<e,t>: (Exists x_e: (Doctor_<e,t>(x_e) & g_<e,t>(x_e))))'/<<e,t>,t> and '⟦[met [POSS3 [mother Joanna]]]⟧ = (λ y_e: Met_<(e,e),t>(y_e, (ι x_e: (MotherOf_<(e,e),t>(x_e, j_e) & (x_e << c_{e})))))'/<e,t> conflict (mode: Predicate Modification), ⟦[[a doctor] [met [POSS3 [mother Joanna]]]]⟧ = Type mismatch: '⟦[a doctor]⟧ = (λ g_<e,t>: (Exists x_e: (Doctor_<e,t>(x_e) & g_<e,t>(x_e))))'/<<e,t>,t> and '⟦[met [POSS3 [mother Joanna]]]⟧ = (λ y_e: Met_<(e,e),t>(y_e, (ι x_e: (MotherOf_<(e,e),t>(x_e, j_e) & (x_e << c_{e})))))'/<e,t> conflict (mode: Predicate Abstraction), ⟦[[met [POSS3 [mother Joanna]]] [a doctor]]⟧ = Type mismatch: '⟦[met [POSS3 [mother Joanna]]]⟧ = (λ y_e: Met_<(e,e),t>(y_e, (ι x_e: (MotherOf_<(e,e),t>(x_e, j_e) & (x_e << c_{e})))))'/<e,t> and '⟦[a doctor]⟧ = (λ g_<e,t>: (Exists x_e: (Doctor_<e,t>(x_e) & g_<e,t>(x_e))))'/<<e,t>,t> conflict (mode: Predicate Abstraction)])"
      ]
     },
     "execution_count": 13,
     "metadata": {},
     "output_type": "execute_result"
    }
   ],
   "source": [
    "(a * doctor) * (met * (POSS3 * (Joanna * mother)))"
   ]
  },
  {
   "cell_type": "code",
   "execution_count": 14,
   "metadata": {
    "collapsed": false
   },
   "outputs": [
    {
     "data": {
      "text/latex": [
       "1 composition path.  Result:\n",
       "<br />&nbsp;&nbsp;&nbsp;&nbsp;[0]: $[\\![\\mathbf{\\text{[a doctor]}}]\\!]^{}_{\\langle{}\\langle{}e,t\\rangle{},t\\rangle{}} \\:=\\: $$\\lambda{} g_{\\langle{}e,t\\rangle{}} \\: . \\: \\exists{} x_{e} \\: . \\: ({Doctor}({x}_{e}) \\wedge{} {g}_{\\langle{}e,t\\rangle{}}({x}_{e}))$"
      ],
      "text/plain": [
       "CompositionResult(results=[⟦[a doctor]⟧ = (λ g_<e,t>: (Exists x_e: (Doctor_<e,t>(x_e) & g_<e,t>(x_e))))], failures=[⟦[doctor a]⟧ = Type mismatch: '⟦doctor⟧ = (λ x_e: Doctor_<e,t>(x_e))'/<e,t> and '⟦a⟧ = (λ f_<e,t>: (λ g_<e,t>: (Exists x_e: (f_<e,t>(x_e) & g_<e,t>(x_e)))))'/<<e,t>,<<e,t>,t>> conflict (mode: Function Application), ⟦[a doctor]⟧ = Type mismatch: '⟦a⟧ = (λ f_<e,t>: (λ g_<e,t>: (Exists x_e: (f_<e,t>(x_e) & g_<e,t>(x_e)))))'/<<e,t>,<<e,t>,t>> and '⟦doctor⟧ = (λ x_e: Doctor_<e,t>(x_e))'/<e,t> conflict (mode: Predicate Modification), ⟦[a doctor]⟧ = Type mismatch: '⟦a⟧ = (λ f_<e,t>: (λ g_<e,t>: (Exists x_e: (f_<e,t>(x_e) & g_<e,t>(x_e)))))'/<<e,t>,<<e,t>,t>> and '⟦doctor⟧ = (λ x_e: Doctor_<e,t>(x_e))'/<e,t> conflict (mode: Predicate Abstraction), ⟦[doctor a]⟧ = Type mismatch: '⟦doctor⟧ = (λ x_e: Doctor_<e,t>(x_e))'/<e,t> and '⟦a⟧ = (λ f_<e,t>: (λ g_<e,t>: (Exists x_e: (f_<e,t>(x_e) & g_<e,t>(x_e)))))'/<<e,t>,<<e,t>,t>> conflict (mode: Predicate Abstraction)])"
      ]
     },
     "execution_count": 14,
     "metadata": {},
     "output_type": "execute_result"
    }
   ],
   "source": [
    "(a * doctor)"
   ]
  },
  {
   "cell_type": "code",
   "execution_count": null,
   "metadata": {
    "collapsed": true
   },
   "outputs": [],
   "source": []
  },
  {
   "cell_type": "markdown",
   "metadata": {},
   "source": [
    "## 3. Expressive adjectives\n",
    "\n",
    "If you like, you can do some or all of this problem in the lambda notebook; I won't provide a template though."
   ]
  },
  {
   "cell_type": "code",
   "execution_count": null,
   "metadata": {
    "collapsed": true
   },
   "outputs": [],
   "source": []
  }
 ],
 "metadata": {
  "anaconda-cloud": {},
  "kernelspec": {
   "display_name": "Lambda Notebook (Python 3)",
   "language": "python",
   "name": "lambda-notebook"
  },
  "language_info": {
   "codemirror_mode": {
    "name": "ipython",
    "version": 3
   },
   "file_extension": ".py",
   "mimetype": "text/x-python",
   "name": "python",
   "nbconvert_exporter": "python",
   "pygments_lexer": "ipython3",
   "version": "3.5.2"
  }
 },
 "nbformat": 4,
 "nbformat_minor": 1
}
