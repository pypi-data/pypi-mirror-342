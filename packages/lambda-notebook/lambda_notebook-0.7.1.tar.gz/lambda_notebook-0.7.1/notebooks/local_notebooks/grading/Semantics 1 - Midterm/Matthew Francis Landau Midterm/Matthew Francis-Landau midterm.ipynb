{
 "cells": [
  {
   "cell_type": "markdown",
   "metadata": {},
   "source": [
    "## 2. Possessives"
   ]
  },
  {
   "cell_type": "markdown",
   "metadata": {},
   "source": [
    "Here is a basic lexicon for most of sentences like (1-3):\n",
    "\n",
    "    (1) Alfonso talked to Joanna's mother.\n",
    "    (2) Alfonso borrowed Joanna's book.\n",
    "    (3) Alfonso kicked Joanna's chair.\n",
    " \n",
    "The only parts that I haven't defined are the possessive morpheme, and `mother`."
   ]
  },
  {
   "cell_type": "code",
   "execution_count": 2,
   "metadata": {
    "collapsed": false
   },
   "outputs": [
    {
     "name": "stderr",
     "output_type": "stream",
     "text": [
      "INFO (meta): Coerced guessed type t for 'Borrow_t' into <(e,e),t>, to match argument '(y_e, x_e)'\n",
      "INFO (meta): Coerced guessed type t for 'Kick_t' into <(e,e),t>, to match argument '(y_e, x_e)'\n",
      "INFO (meta): Coerced guessed type t for 'Talkto_t' into <(e,e),t>, to match argument '(y_e, x_e)'\n",
      "ERROR (parsing): Parsing failed with exception:\n",
      "ERROR (parsing): expected comma in variable sequence, at point '!here!||talk to||'\n"
     ]
    },
    {
     "data": {
      "text/latex": [
       "$[\\![\\mathbf{\\text{Alfonso}}]\\!]^{}_{e} \\:=\\: {a}_{e}$<br />\n",
       "$[\\![\\mathbf{\\text{Joanna}}]\\!]^{}_{e} \\:=\\: {j}_{e}$<br />\n",
       "$[\\![\\mathbf{\\text{book}}]\\!]^{}_{\\langle{}e,t\\rangle{}} \\:=\\: \\lambda{} x_{e} \\: . \\: {Book}({x}_{e})$<br />\n",
       "$[\\![\\mathbf{\\text{chair}}]\\!]^{}_{\\langle{}e,t\\rangle{}} \\:=\\: \\lambda{} x_{e} \\: . \\: {Chair}({x}_{e})$<br />\n",
       "$[\\![\\mathbf{\\text{borrowed}}]\\!]^{}_{\\langle{}e,\\langle{}e,t\\rangle{}\\rangle{}} \\:=\\: \\lambda{} x_{e} \\: . \\: \\lambda{} y_{e} \\: . \\: {Borrow}({y}_{e}, {x}_{e})$<br />\n",
       "$[\\![\\mathbf{\\text{kick}}]\\!]^{}_{\\langle{}e,\\langle{}e,t\\rangle{}\\rangle{}} \\:=\\: \\lambda{} x_{e} \\: . \\: \\lambda{} y_{e} \\: . \\: {Kick}({y}_{e}, {x}_{e})$"
      ],
      "text/plain": [
       "$[\\![\\mathbf{\\text{Alfonso}}]\\!]^{}_{e} \\:=\\: {a}_{e}$<br />\n",
       "$[\\![\\mathbf{\\text{Joanna}}]\\!]^{}_{e} \\:=\\: {j}_{e}$<br />\n",
       "$[\\![\\mathbf{\\text{book}}]\\!]^{}_{\\langle{}e,t\\rangle{}} \\:=\\: \\lambda{} x_{e} \\: . \\: {Book}({x}_{e})$<br />\n",
       "$[\\![\\mathbf{\\text{chair}}]\\!]^{}_{\\langle{}e,t\\rangle{}} \\:=\\: \\lambda{} x_{e} \\: . \\: {Chair}({x}_{e})$<br />\n",
       "$[\\![\\mathbf{\\text{borrowed}}]\\!]^{}_{\\langle{}e,\\langle{}e,t\\rangle{}\\rangle{}} \\:=\\: \\lambda{} x_{e} \\: . \\: \\lambda{} y_{e} \\: . \\: {Borrow}({y}_{e}, {x}_{e})$<br />\n",
       "$[\\![\\mathbf{\\text{kick}}]\\!]^{}_{\\langle{}e,\\langle{}e,t\\rangle{}\\rangle{}} \\:=\\: \\lambda{} x_{e} \\: . \\: \\lambda{} y_{e} \\: . \\: {Kick}({y}_{e}, {x}_{e})$"
      ]
     },
     "execution_count": 2,
     "metadata": {},
     "output_type": "execute_result"
    }
   ],
   "source": [
    "%%lamb\n",
    "||Alfonso|| = a_e\n",
    "||Joanna|| = j_e\n",
    "||book|| = L x_e : Book_<e,t>(x)\n",
    "||chair|| = L x_e : Chair_<e,t>(x)\n",
    "||borrowed|| = L x_e : L y_e : Borrow(y,x)\n",
    "||kick|| = L x_e : L y_e : Kick(y,x)\n",
    "||talk to|| = L x_e : L y_e : Talkto(y,x)"
   ]
  },
  {
   "cell_type": "markdown",
   "metadata": {},
   "source": [
    "The following cell defines an entry that you can use for `the`.  Since there are no presuppositions per se in the lambda notebook, this glosses over them, but you can think of the `Iota` operator as itself being presuppositional."
   ]
  },
  {
   "cell_type": "code",
   "execution_count": 3,
   "metadata": {
    "collapsed": false
   },
   "outputs": [
    {
     "data": {
      "text/latex": [
       "${c}_{\\{e\\}}\\:=\\:{c}_{\\{e\\}}$<br />\n",
       "$[\\![\\mathbf{\\text{the}}]\\!]^{}_{\\langle{}\\langle{}e,t\\rangle{},e\\rangle{}} \\:=\\: \\lambda{} f_{\\langle{}e,t\\rangle{}} \\: . \\: \\iota{} x_{e} \\: . \\: ({f}_{\\langle{}e,t\\rangle{}}({x}_{e}) \\wedge{} ({x}_{e} \\in{} {c}_{\\{e\\}}))$"
      ],
      "text/plain": [
       "${c}_{\\{e\\}}\\:=\\:{c}_{\\{e\\}}$<br />\n",
       "$[\\![\\mathbf{\\text{the}}]\\!]^{}_{\\langle{}\\langle{}e,t\\rangle{},e\\rangle{}} \\:=\\: \\lambda{} f_{\\langle{}e,t\\rangle{}} \\: . \\: \\iota{} x_{e} \\: . \\: ({f}_{\\langle{}e,t\\rangle{}}({x}_{e}) \\wedge{} ({x}_{e} \\in{} {c}_{\\{e\\}}))$"
      ]
     },
     "execution_count": 3,
     "metadata": {},
     "output_type": "execute_result"
    }
   ],
   "source": [
    "%%lamb\n",
    "c_{e} = c_{e}\n",
    "||the|| = L f_<e,t> : Iota x_e : (f(x) & x << c)"
   ]
  },
  {
   "cell_type": "markdown",
   "metadata": {},
   "source": [
    "Part [a]: In the following blank cell, calculate using `*` the truth-conditions of:\n",
    "\n",
    "    (4) Alfonso borrowed the book.\n"
   ]
  },
  {
   "cell_type": "code",
   "execution_count": 4,
   "metadata": {
    "collapsed": false
   },
   "outputs": [
    {
     "data": {
      "text/latex": [
       "1 composition path.  Result:\n",
       "<br />&nbsp;&nbsp;&nbsp;&nbsp;[0]: $[\\![\\mathbf{\\text{[[borrowed [the book]] Alfonso]}}]\\!]^{}_{t} \\:=\\: $${Borrow}({a}_{e}, \\iota{} x_{e} \\: . \\: ({Book}({x}_{e}) \\wedge{} ({x}_{e} \\in{} {c}_{\\{e\\}})))$"
      ],
      "text/plain": [
       "CompositionResult(results=[⟦[[borrowed [the book]] Alfonso]⟧ = Borrow_<(e,e),t>(a_e, (ι x_e: (Book_<e,t>(x_e) & (x_e << c_{e}))))], failures=[⟦[Alfonso [borrowed [the book]]]⟧ = Type mismatch: '⟦Alfonso⟧ = a_e'/e and '⟦[borrowed [the book]]⟧ = (λ y_e: Borrow_<(e,e),t>(y_e, (ι x_e: (Book_<e,t>(x_e) & (x_e << c_{e})))))'/<e,t> conflict (mode: Function Application), ⟦[Alfonso [borrowed [the book]]]⟧ = Type mismatch: '⟦Alfonso⟧ = a_e'/e and '⟦[borrowed [the book]]⟧ = (λ y_e: Borrow_<(e,e),t>(y_e, (ι x_e: (Book_<e,t>(x_e) & (x_e << c_{e})))))'/<e,t> conflict (mode: Predicate Modification), ⟦[Alfonso [borrowed [the book]]]⟧ = Type mismatch: '⟦Alfonso⟧ = a_e'/e and '⟦[borrowed [the book]]⟧ = (λ y_e: Borrow_<(e,e),t>(y_e, (ι x_e: (Book_<e,t>(x_e) & (x_e << c_{e})))))'/<e,t> conflict (mode: Predicate Abstraction), ⟦[[borrowed [the book]] Alfonso]⟧ = Type mismatch: '⟦[borrowed [the book]]⟧ = (λ y_e: Borrow_<(e,e),t>(y_e, (ι x_e: (Book_<e,t>(x_e) & (x_e << c_{e})))))'/<e,t> and '⟦Alfonso⟧ = a_e'/e conflict (mode: Predicate Abstraction)])"
      ]
     },
     "execution_count": 4,
     "metadata": {},
     "output_type": "execute_result"
    }
   ],
   "source": [
    "# composition here\n",
    "Alfonso * (borrowed * (the * book))"
   ]
  },
  {
   "cell_type": "markdown",
   "metadata": {},
   "source": [
    "Here $x_e \\in c_{\\{e\\}}$ from the \"*the*\" restrict the set of books to which ever item is in the context and is associated with the statement \"*the*\"."
   ]
  },
  {
   "cell_type": "markdown",
   "metadata": {},
   "source": [
    "**Part [b]**: In the following cell, write an entry for `mother`, and describe it in the next cell."
   ]
  },
  {
   "cell_type": "code",
   "execution_count": 5,
   "metadata": {
    "collapsed": false
   },
   "outputs": [
    {
     "name": "stderr",
     "output_type": "stream",
     "text": [
      "INFO (meta): Coerced guessed type t for 'Mother_t' into <e,t>, to match argument 'x_e'\n"
     ]
    },
    {
     "data": {
      "text/latex": [
       "$[\\![\\mathbf{\\text{mother}}]\\!]^{}_{\\langle{}e,t\\rangle{}} \\:=\\: \\lambda{} x_{e} \\: . \\: {Mother}({x}_{e})$"
      ],
      "text/plain": [
       "$[\\![\\mathbf{\\text{mother}}]\\!]^{}_{\\langle{}e,t\\rangle{}} \\:=\\: \\lambda{} x_{e} \\: . \\: {Mother}({x}_{e})$"
      ]
     },
     "execution_count": 5,
     "metadata": {},
     "output_type": "execute_result"
    }
   ],
   "source": [
    "%%lamb\n",
    "||mother|| = L x_e : Mother(x)"
   ]
  },
  {
   "cell_type": "markdown",
   "metadata": {},
   "source": [
    "**Markdown cell**: please explain your entry for `mother` in prose by editing this cell.\n",
    "\n",
    "The type of mother is $\\langle e, t\\rangle$ which is similar to \"*cat*\" as we can write \"*Alfonso's cat*\" and we do not want \"*cat*\" to be only a isngle $e$ entity type."
   ]
  },
  {
   "cell_type": "markdown",
   "metadata": {},
   "source": [
    "__*KC: While you're right that nouns like [cat] are type $\\langle e, t \\rangle$, and that the whole possessive DP should come out as type $e$, there's something fundamentally different about mothers and cats.  Specifically, [mother] should reflect the inherent relationship that being a mother brings with it.  So [cat], [book] etc are type $\\langle e, t \\rangle$ but [mother] must be type $\\langle e, \\langle e, t \\rangle \\rangle$ like transitive verbs in order to encode this inherent relational aspect of [mother].  4/8*__"
   ]
  },
  {
   "cell_type": "markdown",
   "metadata": {},
   "source": [
    "**Part [c]** (possessive denotation): In the following cell write an entry for the possessive morpheme.  To handle python naming, call it `POSS` instead of `'s`."
   ]
  },
  {
   "cell_type": "code",
   "execution_count": 6,
   "metadata": {
    "collapsed": false
   },
   "outputs": [
    {
     "name": "stderr",
     "output_type": "stream",
     "text": [
      "INFO (meta): Coerced guessed type t for 'PossRelation_t' into <(e,e),t>, to match argument '(m_e, o_e)'\n"
     ]
    },
    {
     "data": {
      "text/latex": [
       "$[\\![\\mathbf{\\text{POSS}}]\\!]^{}_{\\langle{}\\langle{}e,t\\rangle{},\\langle{}e,e\\rangle{}\\rangle{}} \\:=\\: \\lambda{} f_{\\langle{}e,t\\rangle{}} \\: . \\: \\lambda{} o_{e} \\: . \\: \\iota{} m_{e} \\: . \\: ({f}_{\\langle{}e,t\\rangle{}}({m}_{e}) \\wedge{} {PossRelation}({m}_{e}, {o}_{e}))$"
      ],
      "text/plain": [
       "$[\\![\\mathbf{\\text{POSS}}]\\!]^{}_{\\langle{}\\langle{}e,t\\rangle{},\\langle{}e,e\\rangle{}\\rangle{}} \\:=\\: \\lambda{} f_{\\langle{}e,t\\rangle{}} \\: . \\: \\lambda{} o_{e} \\: . \\: \\iota{} m_{e} \\: . \\: ({f}_{\\langle{}e,t\\rangle{}}({m}_{e}) \\wedge{} {PossRelation}({m}_{e}, {o}_{e}))$"
      ]
     },
     "execution_count": 6,
     "metadata": {},
     "output_type": "execute_result"
    }
   ],
   "source": [
    "%%lamb\n",
    "||POSS|| = L f_<e,t> : L o_e : Iota m_e : (f(m) & PossRelation(m, o))"
   ]
  },
  {
   "cell_type": "markdown",
   "metadata": {},
   "source": [
    "**Markdown cell**: please explain your entry for `POSS` in prose by editing this cell.\n",
    "\n",
    "\n",
    "(Note: $PossRelation(\\cdot, \\cdot)$ might be better written as $(m, o) \\in c_{\\text{poss relations}}$ where $c$ represents context and information about the relation between the $m$ entity and the $o$ (owner) entity.) __*KC: good, with a small modification this could get you a more general denotation that could account for different types of relations, since we can say 'Joanna's book' if she wrote the book but doesn't own it; alternatively, you could leave this function underspecified and let relation nouns specificy it further, but leave it underspecified for nouns like [book].*__\n",
    "\n",
    "The type for the possessive is $\\langle \\langle e,t \\rangle, \\langle e,e \\rangle \\rangle$ as we are going to take a set of objects (such as \"cat\" or \"mother\") of type $\\langle e,t \\rangle$ and some grounded entity (such as \"Alfonso\" or \"Joanna\") of type $e$ perform a $PossRelation$ between these objects which may depend on the context/background information.\n",
    "\n",
    "__*KC: 9/9*__"
   ]
  },
  {
   "cell_type": "markdown",
   "metadata": {},
   "source": [
    "**Part [c]** (explication of why this denotation works): In the following cell, calculate the meaning of the tree in (6) on the midterm using the `*` operator."
   ]
  },
  {
   "cell_type": "code",
   "execution_count": 7,
   "metadata": {
    "collapsed": false
   },
   "outputs": [
    {
     "data": {
      "text/latex": [
       "1 composition path.  Result:\n",
       "<br />&nbsp;&nbsp;&nbsp;&nbsp;[0]: $[\\![\\mathbf{\\text{[[POSS mother] Joanna]}}]\\!]^{}_{e} \\:=\\: $$\\iota{} m_{e} \\: . \\: ({Mother}({m}_{e}) \\wedge{} {PossRelation}({m}_{e}, {j}_{e}))$"
      ],
      "text/plain": [
       "CompositionResult(results=[⟦[[POSS mother] Joanna]⟧ = (ι m_e: (Mother_<e,t>(m_e) & PossRelation_<(e,e),t>(m_e, j_e)))], failures=[⟦[Joanna [POSS mother]]⟧ = Type mismatch: '⟦Joanna⟧ = j_e'/e and '⟦[POSS mother]⟧ = (λ o_e: (ι m_e: (Mother_<e,t>(m_e) & PossRelation_<(e,e),t>(m_e, o_e))))'/<e,e> conflict (mode: Function Application), ⟦[Joanna [POSS mother]]⟧ = Type mismatch: '⟦Joanna⟧ = j_e'/e and '⟦[POSS mother]⟧ = (λ o_e: (ι m_e: (Mother_<e,t>(m_e) & PossRelation_<(e,e),t>(m_e, o_e))))'/<e,e> conflict (mode: Predicate Modification), ⟦[Joanna [POSS mother]]⟧ = Type mismatch: '⟦Joanna⟧ = j_e'/e and '⟦[POSS mother]⟧ = (λ o_e: (ι m_e: (Mother_<e,t>(m_e) & PossRelation_<(e,e),t>(m_e, o_e))))'/<e,e> conflict (mode: Predicate Abstraction), ⟦[[POSS mother] Joanna]⟧ = Type mismatch: '⟦[POSS mother]⟧ = (λ o_e: (ι m_e: (Mother_<e,t>(m_e) & PossRelation_<(e,e),t>(m_e, o_e))))'/<e,e> and '⟦Joanna⟧ = j_e'/e conflict (mode: Predicate Abstraction)])"
      ]
     },
     "execution_count": 7,
     "metadata": {},
     "output_type": "execute_result"
    }
   ],
   "source": [
    "Joanna * (POSS * mother)"
   ]
  },
  {
   "cell_type": "markdown",
   "metadata": {},
   "source": [
    "**Comments:** The type of this expression is $e$ which is what we want.  We can see this if we consider some context such as \"*Joanna's mother is Lilly*,\" then we want \"*Lilly*\" and \"*Joanna's mother*\" to work interchangeably and \"*Lilly*\" clearly has the type $e$."
   ]
  },
  {
   "cell_type": "code",
   "execution_count": 8,
   "metadata": {
    "collapsed": false
   },
   "outputs": [
    {
     "ename": "NameError",
     "evalue": "name 'talk_to' is not defined",
     "output_type": "error",
     "traceback": [
      "\u001b[0;31m---------------------------------------------------------------------------\u001b[0m",
      "\u001b[0;31mNameError\u001b[0m                                 Traceback (most recent call last)",
      "\u001b[0;32m<ipython-input-8-0460fb915a69>\u001b[0m in \u001b[0;36m<module>\u001b[0;34m()\u001b[0m\n\u001b[0;32m----> 1\u001b[0;31m \u001b[0mAlfonso\u001b[0m \u001b[0;34m*\u001b[0m \u001b[0mtalk_to\u001b[0m \u001b[0;34m*\u001b[0m \u001b[0;34m(\u001b[0m\u001b[0mJoanna\u001b[0m \u001b[0;34m*\u001b[0m \u001b[0;34m(\u001b[0m\u001b[0mPOSS\u001b[0m \u001b[0;34m*\u001b[0m \u001b[0mmother\u001b[0m\u001b[0;34m)\u001b[0m\u001b[0;34m)\u001b[0m\u001b[0;34m\u001b[0m\u001b[0m\n\u001b[0m",
      "\u001b[0;31mNameError\u001b[0m: name 'talk_to' is not defined"
     ]
    }
   ],
   "source": [
    "Alfonso * talk_to * (Joanna * (POSS * mother))"
   ]
  },
  {
   "cell_type": "markdown",
   "metadata": {},
   "source": [
    "**Part [d]** (grads, ugrad extra credit).  In the following cell(s) answer the question on the midterm.  You may insert as many new cells as you need, and use markdown cells to write any prose.\n",
    "\n",
    "LF = Logical forms\n",
    "\n",
    "Given the structure on possessives, we are taking \"*name 's mother*\" to be an $e$ type which is dependent on the context and requires us to interpert this statement.  We could have a process which simplifies this expression by performing the lookup into the context (eg if we had in our context \"*Joanna's mother is Lilly*\" then we can replace \"*Joanna's mother*\" with \"*Lilly*\" and the meaning of the statement doesn't change).\n",
    "\n",
    "Another alternate would be to generate some abstract entity which we associate with \"*Joanna's mother*.\"  This could work by creating some $E_{456}$ when we encounter \"Joanna's mother\" and then replacing this statement with $E_{456}$ and adding to our context \"Joanna's mother is $E_{456}$\"\n",
    "\n",
    "<!--Having \"Joanna 's mother\" be of type $e$ means that it is able to be easily used in place of any proper noun.  If we did not have an $e$ type, then this would potentially mean that the possisitve statement would have a significant impact on the rest of the sentence.-->"
   ]
  },
  {
   "cell_type": "markdown",
   "metadata": {
    "collapsed": true
   },
   "source": [
    "__*KC: I think your earlier solutions may have made the problem in this question a little less obvious.  If we assume the distinct types on nouns like [mother] vs [book], then we are forced to assume two different typed entries for [POSS]; one of type $\\langle \\langle e, \\langle e,t\\rangle, \\langle e,e\\rangle \\rangle$ or $\\langle \\langle e,t\\rangle, \\langle e,e\\rangle \\rangle$, respectively.  So part [d] then asks you how we could use the structual flexibility that LF affords us to try and obviate that ambiguity.  The solution has relational nouns compose with the other entity they are related to first before composing with the simpler typed [POSS] function, so that you are always only composing with nodes of type $\\langle e,t\\rangle$.    5/8*__\n"
   ]
  },
  {
   "cell_type": "markdown",
   "metadata": {},
   "source": [
    "**Part [d]** In the following cells, calculate the denotation of `A doctor met Joanna's mother`.  You will need to fill out the lexicon with a few more items, and then do the composition."
   ]
  },
  {
   "cell_type": "code",
   "execution_count": 9,
   "metadata": {
    "collapsed": false
   },
   "outputs": [
    {
     "name": "stderr",
     "output_type": "stream",
     "text": [
      "INFO (meta): Coerced guessed type t for 'Doctor_t' into <e,t>, to match argument 'e_e'\n",
      "INFO (meta): Coerced guessed type t for 'Met_t' into <(e,e),t>, to match argument '(x_e, y_e)'\n"
     ]
    },
    {
     "name": "stdout",
     "output_type": "stream",
     "text": [
      "Don't know what to do with '# rest of lexicon here'\n"
     ]
    },
    {
     "data": {
      "text/latex": [
       "$[\\![\\mathbf{\\text{doctor}}]\\!]^{}_{\\langle{}e,t\\rangle{}} \\:=\\: \\lambda{} d_{e} \\: . \\: {Doctor}({e}_{e})$<br />\n",
       "$[\\![\\mathbf{\\text{a}}]\\!]^{}_{\\langle{}\\langle{}e,t\\rangle{},e\\rangle{}} \\:=\\: \\lambda{} f_{\\langle{}e,t\\rangle{}} \\: . \\: \\iota{} x_{e} \\: . \\: ({f}_{\\langle{}e,t\\rangle{}}({x}_{e}) \\wedge{} ({x}_{e} \\in{} {c}_{\\{e\\}}))$<br />\n",
       "$[\\![\\mathbf{\\text{met}}]\\!]^{}_{\\langle{}e,\\langle{}e,t\\rangle{}\\rangle{}} \\:=\\: \\lambda{} x_{e} \\: . \\: \\lambda{} y_{e} \\: . \\: {Met}({x}_{e}, {y}_{e})$"
      ],
      "text/plain": [
       "$[\\![\\mathbf{\\text{doctor}}]\\!]^{}_{\\langle{}e,t\\rangle{}} \\:=\\: \\lambda{} d_{e} \\: . \\: {Doctor}({e}_{e})$<br />\n",
       "$[\\![\\mathbf{\\text{a}}]\\!]^{}_{\\langle{}\\langle{}e,t\\rangle{},e\\rangle{}} \\:=\\: \\lambda{} f_{\\langle{}e,t\\rangle{}} \\: . \\: \\iota{} x_{e} \\: . \\: ({f}_{\\langle{}e,t\\rangle{}}({x}_{e}) \\wedge{} ({x}_{e} \\in{} {c}_{\\{e\\}}))$<br />\n",
       "$[\\![\\mathbf{\\text{met}}]\\!]^{}_{\\langle{}e,\\langle{}e,t\\rangle{}\\rangle{}} \\:=\\: \\lambda{} x_{e} \\: . \\: \\lambda{} y_{e} \\: . \\: {Met}({x}_{e}, {y}_{e})$"
      ]
     },
     "execution_count": 9,
     "metadata": {},
     "output_type": "execute_result"
    }
   ],
   "source": [
    "%%lamb # rest of lexicon here\n",
    "||doctor|| = L d_e : Doctor(e)\n",
    "||a|| = L f_<e,t> : Iota x_e : (f(x) & x << c) # you want an existential presupposion, not a uniqeness one sicne [a] \n",
    "        # is indefinite (any doctor will do, the speaker doesn't have a specific one in mind)\n",
    "||met|| = L x_e : L y_e : Met(x,y) # you need to either reverse the order of your arguments or your lambda terms, \n",
    "        # otherwise the final derivation won't follow the conventions we've adopted for how grammatical subjects and \n",
    "        # objects should be read off of a denotation\n",
    "        #your denotation below came out in the 'right' order, but that's because you didn't follow the right constuency:\n",
    "        # you composed the verb with the subject DP first, whereas you should work up from the base of the tree (alwasy\n",
    "        # composing the verb with it's direct object first)"
   ]
  },
  {
   "cell_type": "code",
   "execution_count": 10,
   "metadata": {
    "collapsed": true
   },
   "outputs": [],
   "source": [
    "# composition here"
   ]
  },
  {
   "cell_type": "code",
   "execution_count": 11,
   "metadata": {
    "collapsed": false
   },
   "outputs": [
    {
     "data": {
      "text/latex": [
       "1 composition path:<br /><table><tr style=\"border:1px solid #848482\"><td style=\"vertical-align:bottom;padding:0px 10px\" align=\"center\"><table><tr><td style=\"vertical-align:bottom;padding:5px\"><table><tr style=\"border:1px solid #848482\"><td style=\"vertical-align:bottom;padding:0px 10px\" align=\"center\"><table><tr><td style=\"vertical-align:bottom;padding:5px\"><div style=\"margin-top:10px;border-style:solid;border-color:#848482;border-width:0px\"><div style=\"vertical-align:bottom;text-align:center\">$[\\![\\mathbf{\\text{met}}]\\!]^{}_{\\langle{}e,\\langle{}e,t\\rangle{}\\rangle{}}$</div><div style=\"vertical-align:bottom;text-align:center\">$\\lambda{} x_{e} \\: . \\: \\lambda{} y_{e} \\: . \\: {Met}({x}_{e}, {y}_{e})$</div></div></td><td style=\"vertical-align:bottom;padding:10px\">$\\circ$</td><td style=\"vertical-align:bottom;padding:5px\"><table><tr style=\"border:1px solid #848482\"><td style=\"vertical-align:bottom;padding:0px 10px\" align=\"center\"><table><tr><td style=\"vertical-align:bottom;padding:5px\"><div style=\"margin-top:10px;border-style:solid;border-color:#848482;border-width:0px\"><div style=\"vertical-align:bottom;text-align:center\">$[\\![\\mathbf{\\text{a}}]\\!]^{}_{\\langle{}\\langle{}e,t\\rangle{},e\\rangle{}}$</div><div style=\"vertical-align:bottom;text-align:center\">$\\lambda{} f_{\\langle{}e,t\\rangle{}} \\: . \\: \\iota{} x_{e} \\: . \\: ({f}_{\\langle{}e,t\\rangle{}}({x}_{e}) \\wedge{} ({x}_{e} \\in{} {c}_{\\{e\\}}))$</div></div></td><td style=\"vertical-align:bottom;padding:10px\">$\\circ$</td><td style=\"vertical-align:bottom;padding:5px\"><div style=\"margin-top:10px;border-style:solid;border-color:#848482;border-width:0px\"><div style=\"vertical-align:bottom;text-align:center\">$[\\![\\mathbf{\\text{doctor}}]\\!]^{}_{\\langle{}e,t\\rangle{}}$</div><div style=\"vertical-align:bottom;text-align:center\">$\\lambda{} d_{e} \\: . \\: {Doctor}({e}_{e})$</div></div></td></tr></table></td><td style=\"border-left:1px solid #848482;vertical-align:center;padding:10px\"><span style=\"color:blue\"><b>[FA]</b></span></td></tr><tr style=\"border-style:solid;border-color:#848482;border-width:0px 1px 1px 1px\"><td style=\"padding:5px\" align=\"center\"><div style=\"margin-top:10px;border-style:solid;border-color:#848482;border-width:0px\"><div style=\"vertical-align:bottom;text-align:center\">$[\\![\\mathbf{\\text{[a doctor]}}]\\!]^{}_{e}$</div><div style=\"vertical-align:bottom;text-align:center\">$\\iota{} x_{e} \\: . \\: ({Doctor}({e}_{e}) \\wedge{} ({x}_{e} \\in{} {c}_{\\{e\\}}))$</div></div></td><td></td></tr></table></td></tr></table></td><td style=\"border-left:1px solid #848482;vertical-align:center;padding:10px\"><span style=\"color:blue\"><b>[FA]</b></span></td></tr><tr style=\"border-style:solid;border-color:#848482;border-width:0px 1px 1px 1px\"><td style=\"padding:5px\" align=\"center\"><div style=\"margin-top:10px;border-style:solid;border-color:#848482;border-width:0px\"><div style=\"vertical-align:bottom;text-align:center\">$[\\![\\mathbf{\\text{[met [a doctor]]}}]\\!]^{}_{\\langle{}e,t\\rangle{}}$</div><div style=\"vertical-align:bottom;text-align:center\">$\\lambda{} y_{e} \\: . \\: {Met}(\\iota{} x_{e} \\: . \\: ({Doctor}({e}_{e}) \\wedge{} ({x}_{e} \\in{} {c}_{\\{e\\}})), {y}_{e})$</div></div></td><td></td></tr></table></td><td style=\"vertical-align:bottom;padding:10px\">$\\circ$</td><td style=\"vertical-align:bottom;padding:5px\"><table><tr style=\"border:1px solid #848482\"><td style=\"vertical-align:bottom;padding:0px 10px\" align=\"center\"><table><tr><td style=\"vertical-align:bottom;padding:5px\"><table><tr style=\"border:1px solid #848482\"><td style=\"vertical-align:bottom;padding:0px 10px\" align=\"center\"><table><tr><td style=\"vertical-align:bottom;padding:5px\"><div style=\"margin-top:10px;border-style:solid;border-color:#848482;border-width:0px\"><div style=\"vertical-align:bottom;text-align:center\">$[\\![\\mathbf{\\text{POSS}}]\\!]^{}_{\\langle{}\\langle{}e,t\\rangle{},\\langle{}e,e\\rangle{}\\rangle{}}$</div><div style=\"vertical-align:bottom;text-align:center\">$\\lambda{} f_{\\langle{}e,t\\rangle{}} \\: . \\: \\lambda{} o_{e} \\: . \\: \\iota{} m_{e} \\: . \\: ({f}_{\\langle{}e,t\\rangle{}}({m}_{e}) \\wedge{} {PossRelation}({m}_{e}, {o}_{e}))$</div></div></td><td style=\"vertical-align:bottom;padding:10px\">$\\circ$</td><td style=\"vertical-align:bottom;padding:5px\"><div style=\"margin-top:10px;border-style:solid;border-color:#848482;border-width:0px\"><div style=\"vertical-align:bottom;text-align:center\">$[\\![\\mathbf{\\text{mother}}]\\!]^{}_{\\langle{}e,t\\rangle{}}$</div><div style=\"vertical-align:bottom;text-align:center\">$\\lambda{} x_{e} \\: . \\: {Mother}({x}_{e})$</div></div></td></tr></table></td><td style=\"border-left:1px solid #848482;vertical-align:center;padding:10px\"><span style=\"color:blue\"><b>[FA]</b></span></td></tr><tr style=\"border-style:solid;border-color:#848482;border-width:0px 1px 1px 1px\"><td style=\"padding:5px\" align=\"center\"><div style=\"margin-top:10px;border-style:solid;border-color:#848482;border-width:0px\"><div style=\"vertical-align:bottom;text-align:center\">$[\\![\\mathbf{\\text{[POSS mother]}}]\\!]^{}_{\\langle{}e,e\\rangle{}}$</div><div style=\"vertical-align:bottom;text-align:center\">$\\lambda{} o_{e} \\: . \\: \\iota{} m_{e} \\: . \\: ({Mother}({m}_{e}) \\wedge{} {PossRelation}({m}_{e}, {o}_{e}))$</div></div></td><td></td></tr></table></td><td style=\"vertical-align:bottom;padding:10px\">$\\circ$</td><td style=\"vertical-align:bottom;padding:5px\"><div style=\"margin-top:10px;border-style:solid;border-color:#848482;border-width:0px\"><div style=\"vertical-align:bottom;text-align:center\">$[\\![\\mathbf{\\text{Joanna}}]\\!]^{}_{e}$</div><div style=\"vertical-align:bottom;text-align:center\">${j}_{e}$</div></div></td></tr></table></td><td style=\"border-left:1px solid #848482;vertical-align:center;padding:10px\"><span style=\"color:blue\"><b>[FA]</b></span></td></tr><tr style=\"border-style:solid;border-color:#848482;border-width:0px 1px 1px 1px\"><td style=\"padding:5px\" align=\"center\"><div style=\"margin-top:10px;border-style:solid;border-color:#848482;border-width:0px\"><div style=\"vertical-align:bottom;text-align:center\">$[\\![\\mathbf{\\text{[[POSS mother] Joanna]}}]\\!]^{}_{e}$</div><div style=\"vertical-align:bottom;text-align:center\">$\\iota{} m_{e} \\: . \\: ({Mother}({m}_{e}) \\wedge{} {PossRelation}({m}_{e}, {j}_{e}))$</div></div></td><td></td></tr></table></td></tr></table></td><td style=\"border-left:1px solid #848482;vertical-align:center;padding:10px\"><span style=\"color:blue\"><b>[FA]</b></span></td></tr><tr style=\"border-style:solid;border-color:#848482;border-width:0px 1px 1px 1px\"><td style=\"padding:5px\" align=\"center\"><div style=\"margin-top:10px;border-style:solid;border-color:#848482;border-width:0px\"><div style=\"vertical-align:bottom;text-align:center\">$[\\![\\mathbf{\\text{[[met [a doctor]] [[POSS mother] Joanna]]}}]\\!]^{}_{t}$</div><div style=\"vertical-align:bottom;text-align:center\">${Met}(\\iota{} x_{e} \\: . \\: ({Doctor}({e}_{e}) \\wedge{} ({x}_{e} \\in{} {c}_{\\{e\\}})), \\iota{} m_{e} \\: . \\: ({Mother}({m}_{e}) \\wedge{} {PossRelation}({m}_{e}, {j}_{e})))$</div></div></td><td></td></tr></table><br /><br />"
      ],
      "text/plain": [
       "1 composition path:<br /><table><tr style=\"border:1px solid #848482\"><td style=\"vertical-align:bottom;padding:0px 10px\" align=\"center\"><table><tr><td style=\"vertical-align:bottom;padding:5px\"><table><tr style=\"border:1px solid #848482\"><td style=\"vertical-align:bottom;padding:0px 10px\" align=\"center\"><table><tr><td style=\"vertical-align:bottom;padding:5px\"><div style=\"margin-top:10px;border-style:solid;border-color:#848482;border-width:0px\"><div style=\"vertical-align:bottom;text-align:center\">$[\\![\\mathbf{\\text{met}}]\\!]^{}_{\\langle{}e,\\langle{}e,t\\rangle{}\\rangle{}}$</div><div style=\"vertical-align:bottom;text-align:center\">$\\lambda{} x_{e} \\: . \\: \\lambda{} y_{e} \\: . \\: {Met}({x}_{e}, {y}_{e})$</div></div></td><td style=\"vertical-align:bottom;padding:10px\">$\\circ$</td><td style=\"vertical-align:bottom;padding:5px\"><table><tr style=\"border:1px solid #848482\"><td style=\"vertical-align:bottom;padding:0px 10px\" align=\"center\"><table><tr><td style=\"vertical-align:bottom;padding:5px\"><div style=\"margin-top:10px;border-style:solid;border-color:#848482;border-width:0px\"><div style=\"vertical-align:bottom;text-align:center\">$[\\![\\mathbf{\\text{a}}]\\!]^{}_{\\langle{}\\langle{}e,t\\rangle{},e\\rangle{}}$</div><div style=\"vertical-align:bottom;text-align:center\">$\\lambda{} f_{\\langle{}e,t\\rangle{}} \\: . \\: \\iota{} x_{e} \\: . \\: ({f}_{\\langle{}e,t\\rangle{}}({x}_{e}) \\wedge{} ({x}_{e} \\in{} {c}_{\\{e\\}}))$</div></div></td><td style=\"vertical-align:bottom;padding:10px\">$\\circ$</td><td style=\"vertical-align:bottom;padding:5px\"><div style=\"margin-top:10px;border-style:solid;border-color:#848482;border-width:0px\"><div style=\"vertical-align:bottom;text-align:center\">$[\\![\\mathbf{\\text{doctor}}]\\!]^{}_{\\langle{}e,t\\rangle{}}$</div><div style=\"vertical-align:bottom;text-align:center\">$\\lambda{} d_{e} \\: . \\: {Doctor}({e}_{e})$</div></div></td></tr></table></td><td style=\"border-left:1px solid #848482;vertical-align:center;padding:10px\"><span style=\"color:blue\"><b>[FA]</b></span></td></tr><tr style=\"border-style:solid;border-color:#848482;border-width:0px 1px 1px 1px\"><td style=\"padding:5px\" align=\"center\"><div style=\"margin-top:10px;border-style:solid;border-color:#848482;border-width:0px\"><div style=\"vertical-align:bottom;text-align:center\">$[\\![\\mathbf{\\text{[a doctor]}}]\\!]^{}_{e}$</div><div style=\"vertical-align:bottom;text-align:center\">$\\iota{} x_{e} \\: . \\: ({Doctor}({e}_{e}) \\wedge{} ({x}_{e} \\in{} {c}_{\\{e\\}}))$</div></div></td><td></td></tr></table></td></tr></table></td><td style=\"border-left:1px solid #848482;vertical-align:center;padding:10px\"><span style=\"color:blue\"><b>[FA]</b></span></td></tr><tr style=\"border-style:solid;border-color:#848482;border-width:0px 1px 1px 1px\"><td style=\"padding:5px\" align=\"center\"><div style=\"margin-top:10px;border-style:solid;border-color:#848482;border-width:0px\"><div style=\"vertical-align:bottom;text-align:center\">$[\\![\\mathbf{\\text{[met [a doctor]]}}]\\!]^{}_{\\langle{}e,t\\rangle{}}$</div><div style=\"vertical-align:bottom;text-align:center\">$\\lambda{} y_{e} \\: . \\: {Met}(\\iota{} x_{e} \\: . \\: ({Doctor}({e}_{e}) \\wedge{} ({x}_{e} \\in{} {c}_{\\{e\\}})), {y}_{e})$</div></div></td><td></td></tr></table></td><td style=\"vertical-align:bottom;padding:10px\">$\\circ$</td><td style=\"vertical-align:bottom;padding:5px\"><table><tr style=\"border:1px solid #848482\"><td style=\"vertical-align:bottom;padding:0px 10px\" align=\"center\"><table><tr><td style=\"vertical-align:bottom;padding:5px\"><table><tr style=\"border:1px solid #848482\"><td style=\"vertical-align:bottom;padding:0px 10px\" align=\"center\"><table><tr><td style=\"vertical-align:bottom;padding:5px\"><div style=\"margin-top:10px;border-style:solid;border-color:#848482;border-width:0px\"><div style=\"vertical-align:bottom;text-align:center\">$[\\![\\mathbf{\\text{POSS}}]\\!]^{}_{\\langle{}\\langle{}e,t\\rangle{},\\langle{}e,e\\rangle{}\\rangle{}}$</div><div style=\"vertical-align:bottom;text-align:center\">$\\lambda{} f_{\\langle{}e,t\\rangle{}} \\: . \\: \\lambda{} o_{e} \\: . \\: \\iota{} m_{e} \\: . \\: ({f}_{\\langle{}e,t\\rangle{}}({m}_{e}) \\wedge{} {PossRelation}({m}_{e}, {o}_{e}))$</div></div></td><td style=\"vertical-align:bottom;padding:10px\">$\\circ$</td><td style=\"vertical-align:bottom;padding:5px\"><div style=\"margin-top:10px;border-style:solid;border-color:#848482;border-width:0px\"><div style=\"vertical-align:bottom;text-align:center\">$[\\![\\mathbf{\\text{mother}}]\\!]^{}_{\\langle{}e,t\\rangle{}}$</div><div style=\"vertical-align:bottom;text-align:center\">$\\lambda{} x_{e} \\: . \\: {Mother}({x}_{e})$</div></div></td></tr></table></td><td style=\"border-left:1px solid #848482;vertical-align:center;padding:10px\"><span style=\"color:blue\"><b>[FA]</b></span></td></tr><tr style=\"border-style:solid;border-color:#848482;border-width:0px 1px 1px 1px\"><td style=\"padding:5px\" align=\"center\"><div style=\"margin-top:10px;border-style:solid;border-color:#848482;border-width:0px\"><div style=\"vertical-align:bottom;text-align:center\">$[\\![\\mathbf{\\text{[POSS mother]}}]\\!]^{}_{\\langle{}e,e\\rangle{}}$</div><div style=\"vertical-align:bottom;text-align:center\">$\\lambda{} o_{e} \\: . \\: \\iota{} m_{e} \\: . \\: ({Mother}({m}_{e}) \\wedge{} {PossRelation}({m}_{e}, {o}_{e}))$</div></div></td><td></td></tr></table></td><td style=\"vertical-align:bottom;padding:10px\">$\\circ$</td><td style=\"vertical-align:bottom;padding:5px\"><div style=\"margin-top:10px;border-style:solid;border-color:#848482;border-width:0px\"><div style=\"vertical-align:bottom;text-align:center\">$[\\![\\mathbf{\\text{Joanna}}]\\!]^{}_{e}$</div><div style=\"vertical-align:bottom;text-align:center\">${j}_{e}$</div></div></td></tr></table></td><td style=\"border-left:1px solid #848482;vertical-align:center;padding:10px\"><span style=\"color:blue\"><b>[FA]</b></span></td></tr><tr style=\"border-style:solid;border-color:#848482;border-width:0px 1px 1px 1px\"><td style=\"padding:5px\" align=\"center\"><div style=\"margin-top:10px;border-style:solid;border-color:#848482;border-width:0px\"><div style=\"vertical-align:bottom;text-align:center\">$[\\![\\mathbf{\\text{[[POSS mother] Joanna]}}]\\!]^{}_{e}$</div><div style=\"vertical-align:bottom;text-align:center\">$\\iota{} m_{e} \\: . \\: ({Mother}({m}_{e}) \\wedge{} {PossRelation}({m}_{e}, {j}_{e}))$</div></div></td><td></td></tr></table></td></tr></table></td><td style=\"border-left:1px solid #848482;vertical-align:center;padding:10px\"><span style=\"color:blue\"><b>[FA]</b></span></td></tr><tr style=\"border-style:solid;border-color:#848482;border-width:0px 1px 1px 1px\"><td style=\"padding:5px\" align=\"center\"><div style=\"margin-top:10px;border-style:solid;border-color:#848482;border-width:0px\"><div style=\"vertical-align:bottom;text-align:center\">$[\\![\\mathbf{\\text{[[met [a doctor]] [[POSS mother] Joanna]]}}]\\!]^{}_{t}$</div><div style=\"vertical-align:bottom;text-align:center\">${Met}(\\iota{} x_{e} \\: . \\: ({Doctor}({e}_{e}) \\wedge{} ({x}_{e} \\in{} {c}_{\\{e\\}})), \\iota{} m_{e} \\: . \\: ({Mother}({m}_{e}) \\wedge{} {PossRelation}({m}_{e}, {j}_{e})))$</div></div></td><td></td></tr></table><br /><br />"
      ]
     },
     "execution_count": 11,
     "metadata": {},
     "output_type": "execute_result"
    }
   ],
   "source": [
    "((a * doctor) * met * (Joanna * (POSS * mother))).tree()"
   ]
  },
  {
   "cell_type": "markdown",
   "metadata": {
    "collapsed": true
   },
   "source": [
    "**Comments:** Here \"*a*\" is selecting a specific entity from the set of doctors and then we have the same as before with the mother which then means that \"*met*\" just converts some relationship between two entities into a truth condition."
   ]
  },
  {
   "cell_type": "markdown",
   "metadata": {
    "collapsed": true
   },
   "source": [
    "__*KC: 6.5/8*__"
   ]
  },
  {
   "cell_type": "markdown",
   "metadata": {},
   "source": [
    "## 3. Expressive adjectives\n",
    "\n",
    "If you like, you can do some or all of this problem in the lambda notebook; I won't provide a template though."
   ]
  },
  {
   "cell_type": "code",
   "execution_count": 12,
   "metadata": {
    "collapsed": false
   },
   "outputs": [
    {
     "name": "stderr",
     "output_type": "stream",
     "text": [
      "INFO (meta): Coerced guessed type t for 'Broke_t' into <(e,e),t>, to match argument '(p_e, o_e)'\n",
      "INFO (meta): Coerced guessed type t for 'Computer_t' into <e,t>, to match argument 'c_e'\n",
      "INFO (meta): Coerced guessed type t for 'Darn_t' into <e,t>, to match argument 'b_e'\n"
     ]
    },
    {
     "data": {
      "text/latex": [
       "$[\\![\\mathbf{\\text{broke}}]\\!]^{}_{\\langle{}e,\\langle{}e,t\\rangle{}\\rangle{}} \\:=\\: \\lambda{} o_{e} \\: . \\: \\lambda{} p_{e} \\: . \\: {Broke}({p}_{e}, {o}_{e})$<br />\n",
       "$[\\![\\mathbf{\\text{computer}}]\\!]^{}_{\\langle{}e,t\\rangle{}} \\:=\\: \\lambda{} c_{e} \\: . \\: {Computer}({c}_{e})$<br />\n",
       "$[\\![\\mathbf{\\text{darn}}]\\!]^{}_{\\langle{}\\langle{}e,t\\rangle{},\\langle{}e,t\\rangle{}\\rangle{}} \\:=\\: \\lambda{} a_{\\langle{}e,t\\rangle{}} \\: . \\: \\lambda{} b_{e} \\: . \\: ({Darn}({b}_{e}) \\wedge{} {a}_{\\langle{}e,t\\rangle{}}({b}_{e}))$"
      ],
      "text/plain": [
       "$[\\![\\mathbf{\\text{broke}}]\\!]^{}_{\\langle{}e,\\langle{}e,t\\rangle{}\\rangle{}} \\:=\\: \\lambda{} o_{e} \\: . \\: \\lambda{} p_{e} \\: . \\: {Broke}({p}_{e}, {o}_{e})$<br />\n",
       "$[\\![\\mathbf{\\text{computer}}]\\!]^{}_{\\langle{}e,t\\rangle{}} \\:=\\: \\lambda{} c_{e} \\: . \\: {Computer}({c}_{e})$<br />\n",
       "$[\\![\\mathbf{\\text{darn}}]\\!]^{}_{\\langle{}\\langle{}e,t\\rangle{},\\langle{}e,t\\rangle{}\\rangle{}} \\:=\\: \\lambda{} a_{\\langle{}e,t\\rangle{}} \\: . \\: \\lambda{} b_{e} \\: . \\: ({Darn}({b}_{e}) \\wedge{} {a}_{\\langle{}e,t\\rangle{}}({b}_{e}))$"
      ]
     },
     "execution_count": 12,
     "metadata": {},
     "output_type": "execute_result"
    }
   ],
   "source": [
    "%%lamb\n",
    "||broke|| = L o_e : L p_e : Broke(p, o)\n",
    "||computer|| = L c_e : Computer(c)\n",
    "||darn|| = L a_<e,t> : L b_e : (Darn(b) & a(b))"
   ]
  },
  {
   "cell_type": "code",
   "execution_count": 13,
   "metadata": {
    "collapsed": false
   },
   "outputs": [
    {
     "data": {
      "text/latex": [
       "1 composition path.  Result:\n",
       "<br />&nbsp;&nbsp;&nbsp;&nbsp;[0]: $[\\![\\mathbf{\\text{[[broke [the [darn computer]]] Alfonso]}}]\\!]^{}_{t} \\:=\\: $${Broke}({a}_{e}, \\iota{} x_{e} \\: . \\: (({Darn}({x}_{e}) \\wedge{} {Computer}({x}_{e})) \\wedge{} ({x}_{e} \\in{} {c}_{\\{e\\}})))$"
      ],
      "text/plain": [
       "CompositionResult(results=[⟦[[broke [the [darn computer]]] Alfonso]⟧ = Broke_<(e,e),t>(a_e, (ι x_e: ((Darn_<e,t>(x_e) & Computer_<e,t>(x_e)) & (x_e << c_{e}))))], failures=[⟦[Alfonso [broke [the [darn computer]]]]⟧ = Type mismatch: '⟦Alfonso⟧ = a_e'/e and '⟦[broke [the [darn computer]]]⟧ = (λ p_e: Broke_<(e,e),t>(p_e, (ι x_e: ((Darn_<e,t>(x_e) & Computer_<e,t>(x_e)) & (x_e << c_{e})))))'/<e,t> conflict (mode: Function Application), ⟦[Alfonso [broke [the [darn computer]]]]⟧ = Type mismatch: '⟦Alfonso⟧ = a_e'/e and '⟦[broke [the [darn computer]]]⟧ = (λ p_e: Broke_<(e,e),t>(p_e, (ι x_e: ((Darn_<e,t>(x_e) & Computer_<e,t>(x_e)) & (x_e << c_{e})))))'/<e,t> conflict (mode: Predicate Modification), ⟦[Alfonso [broke [the [darn computer]]]]⟧ = Type mismatch: '⟦Alfonso⟧ = a_e'/e and '⟦[broke [the [darn computer]]]⟧ = (λ p_e: Broke_<(e,e),t>(p_e, (ι x_e: ((Darn_<e,t>(x_e) & Computer_<e,t>(x_e)) & (x_e << c_{e})))))'/<e,t> conflict (mode: Predicate Abstraction), ⟦[[broke [the [darn computer]]] Alfonso]⟧ = Type mismatch: '⟦[broke [the [darn computer]]]⟧ = (λ p_e: Broke_<(e,e),t>(p_e, (ι x_e: ((Darn_<e,t>(x_e) & Computer_<e,t>(x_e)) & (x_e << c_{e})))))'/<e,t> and '⟦Alfonso⟧ = a_e'/e conflict (mode: Predicate Abstraction)])"
      ]
     },
     "execution_count": 13,
     "metadata": {},
     "output_type": "execute_result"
    }
   ],
   "source": [
    "Alfonso * (broke * (the * (darn * computer)))"
   ]
  },
  {
   "cell_type": "code",
   "execution_count": null,
   "metadata": {
    "collapsed": true
   },
   "outputs": [],
   "source": []
  }
 ],
 "metadata": {
  "kernelspec": {
   "display_name": "Lambda Notebook (Python 3)",
   "language": "python",
   "name": "lambda-notebook"
  },
  "language_info": {
   "codemirror_mode": {
    "name": "ipython",
    "version": 3
   },
   "file_extension": ".py",
   "mimetype": "text/x-python",
   "name": "python",
   "nbconvert_exporter": "python",
   "pygments_lexer": "ipython3",
   "version": "3.5.2"
  }
 },
 "nbformat": 4,
 "nbformat_minor": 1
}
