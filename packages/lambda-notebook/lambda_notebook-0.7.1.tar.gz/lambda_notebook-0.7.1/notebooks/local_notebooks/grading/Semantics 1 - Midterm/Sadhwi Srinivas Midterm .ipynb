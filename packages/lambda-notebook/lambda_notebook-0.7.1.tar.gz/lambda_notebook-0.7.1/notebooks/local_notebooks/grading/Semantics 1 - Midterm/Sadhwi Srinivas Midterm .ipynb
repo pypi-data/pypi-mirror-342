{
 "cells": [
  {
   "cell_type": "markdown",
   "metadata": {},
   "source": [
    "Answers discussed with: Najoung Kim\n",
    "\n",
    "__*90%*__"
   ]
  },
  {
   "cell_type": "markdown",
   "metadata": {},
   "source": [
    "## 1. Gricean reasoning (Pragmatics)"
   ]
  },
  {
   "cell_type": "markdown",
   "metadata": {},
   "source": [
    "B responded with (1) to A's question, which entails that B owns a cat, and **implicates that the cat he owns is not a siamese cat.<br><br>**\n",
    "(1) I have a cat<br><br>\n",
    "The reasoning with which this implicature can be derived is like this. B said (1), but there is a stronger claim that B could have made instead which would also be relevant, i.e., (2).<br><br>\n",
    "(2) I have a siamese cat<br><br>\n",
    "The claim in (2) is stronger than the claim in (1), because (2) asymmetrically entails (1). That is, the claim that B owns a siamese cat entails that B owns a cat, but the claim that B owns a cat does not entail that B owns a siamese cat.<br><br>\n",
    "By Grice's cooperative principle, B is assumed to be a cooperative speaker by A. In such a case, all other things being equal, B should really have uttered (2) in order to not violate Grice’s Maxim of Quantity. The fact that he did not means\n",
    "that uttering (2) would have led to the failure of another one of Grice’s maxims, i.e. the maxim of quality. So, (2) must be false. __*KC: good 15/15*__<br>"
   ]
  },
  {
   "cell_type": "markdown",
   "metadata": {},
   "source": [
    "B might have inferred from A's question that A is not only interested in the specific question of whether or not B has a siamese cat, but more generally in learning whether B has any cats, or even if B has any pets at all. This could occur in a context where B is aware that it is unlikely for A to know the answer to either of these more general questions. B therefore could have chosen to respond with (1) rather than a straightforward negative answer, in order to be as relevant as possible and abide by the maxim of quantity. __*KC: 15/15*__\n",
    "\n",
    "__*KC: also should have shown a cancellation test to show that this is an implicature and not an entailment 0/3*__<br>"
   ]
  },
  {
   "cell_type": "markdown",
   "metadata": {},
   "source": [
    "## 2. Possessives"
   ]
  },
  {
   "cell_type": "markdown",
   "metadata": {},
   "source": [
    "Here is a basic lexicon for most of sentences like (1-3):\n",
    "\n",
    "    (1) Alfonso talked to Joanna's mother.\n",
    "    (2) Alfonso borrowed Joanna's book.\n",
    "    (3) Alfonso kicked Joanna's chair.\n",
    " \n",
    "The only parts that I haven't defined are the possessive morpheme, and `mother`."
   ]
  },
  {
   "cell_type": "code",
   "execution_count": 1,
   "metadata": {
    "collapsed": false
   },
   "outputs": [
    {
     "name": "stderr",
     "output_type": "stream",
     "text": [
      "INFO (meta): Coerced guessed type t for 'Borrow_t' into <(e,e),t>, to match argument '(y_e, x_e)'\n",
      "INFO (meta): Coerced guessed type t for 'Kick_t' into <(e,e),t>, to match argument '(y_e, x_e)'\n",
      "INFO (meta): Coerced guessed type t for 'Talkto_t' into <(e,e),t>, to match argument '(y_e, x_e)'\n",
      "INFO (parsing): Exporting item ||talk to|| to python variable `talk_to`.\n"
     ]
    },
    {
     "data": {
      "text/html": [
       "$[\\![\\mathbf{\\text{Alfonso}}]\\!]^{}_{e} \\:=\\: {a}_{e}$<br />\n",
       "$[\\![\\mathbf{\\text{Joanna}}]\\!]^{}_{e} \\:=\\: {j}_{e}$<br />\n",
       "$[\\![\\mathbf{\\text{book}}]\\!]^{}_{\\langle{}e,t\\rangle{}} \\:=\\: \\lambda{} x_{e} \\: . \\: {Book}({x}_{e})$<br />\n",
       "$[\\![\\mathbf{\\text{chair}}]\\!]^{}_{\\langle{}e,t\\rangle{}} \\:=\\: \\lambda{} x_{e} \\: . \\: {Chair}({x}_{e})$<br />\n",
       "$[\\![\\mathbf{\\text{borrowed}}]\\!]^{}_{\\langle{}e,\\langle{}e,t\\rangle{}\\rangle{}} \\:=\\: \\lambda{} x_{e} \\: . \\: \\lambda{} y_{e} \\: . \\: {Borrow}({y}_{e}, {x}_{e})$<br />\n",
       "$[\\![\\mathbf{\\text{kick}}]\\!]^{}_{\\langle{}e,\\langle{}e,t\\rangle{}\\rangle{}} \\:=\\: \\lambda{} x_{e} \\: . \\: \\lambda{} y_{e} \\: . \\: {Kick}({y}_{e}, {x}_{e})$<br />\n",
       "$[\\![\\mathbf{\\text{talk_to}}]\\!]^{}_{\\langle{}e,\\langle{}e,t\\rangle{}\\rangle{}} \\:=\\: \\lambda{} x_{e} \\: . \\: \\lambda{} y_{e} \\: . \\: {Talkto}({y}_{e}, {x}_{e})$"
      ],
      "text/latex": [
       "$[\\![\\mathbf{\\text{Alfonso}}]\\!]^{}_{e} \\:=\\: {a}_{e}$<br />\n",
       "$[\\![\\mathbf{\\text{Joanna}}]\\!]^{}_{e} \\:=\\: {j}_{e}$<br />\n",
       "$[\\![\\mathbf{\\text{book}}]\\!]^{}_{\\langle{}e,t\\rangle{}} \\:=\\: \\lambda{} x_{e} \\: . \\: {Book}({x}_{e})$<br />\n",
       "$[\\![\\mathbf{\\text{chair}}]\\!]^{}_{\\langle{}e,t\\rangle{}} \\:=\\: \\lambda{} x_{e} \\: . \\: {Chair}({x}_{e})$<br />\n",
       "$[\\![\\mathbf{\\text{borrowed}}]\\!]^{}_{\\langle{}e,\\langle{}e,t\\rangle{}\\rangle{}} \\:=\\: \\lambda{} x_{e} \\: . \\: \\lambda{} y_{e} \\: . \\: {Borrow}({y}_{e}, {x}_{e})$<br />\n",
       "$[\\![\\mathbf{\\text{kick}}]\\!]^{}_{\\langle{}e,\\langle{}e,t\\rangle{}\\rangle{}} \\:=\\: \\lambda{} x_{e} \\: . \\: \\lambda{} y_{e} \\: . \\: {Kick}({y}_{e}, {x}_{e})$<br />\n",
       "$[\\![\\mathbf{\\text{talk_to}}]\\!]^{}_{\\langle{}e,\\langle{}e,t\\rangle{}\\rangle{}} \\:=\\: \\lambda{} x_{e} \\: . \\: \\lambda{} y_{e} \\: . \\: {Talkto}({y}_{e}, {x}_{e})$"
      ],
      "text/plain": [
       "$[\\![\\mathbf{\\text{Alfonso}}]\\!]^{}_{e} \\:=\\: {a}_{e}$<br />\n",
       "$[\\![\\mathbf{\\text{Joanna}}]\\!]^{}_{e} \\:=\\: {j}_{e}$<br />\n",
       "$[\\![\\mathbf{\\text{book}}]\\!]^{}_{\\langle{}e,t\\rangle{}} \\:=\\: \\lambda{} x_{e} \\: . \\: {Book}({x}_{e})$<br />\n",
       "$[\\![\\mathbf{\\text{chair}}]\\!]^{}_{\\langle{}e,t\\rangle{}} \\:=\\: \\lambda{} x_{e} \\: . \\: {Chair}({x}_{e})$<br />\n",
       "$[\\![\\mathbf{\\text{borrowed}}]\\!]^{}_{\\langle{}e,\\langle{}e,t\\rangle{}\\rangle{}} \\:=\\: \\lambda{} x_{e} \\: . \\: \\lambda{} y_{e} \\: . \\: {Borrow}({y}_{e}, {x}_{e})$<br />\n",
       "$[\\![\\mathbf{\\text{kick}}]\\!]^{}_{\\langle{}e,\\langle{}e,t\\rangle{}\\rangle{}} \\:=\\: \\lambda{} x_{e} \\: . \\: \\lambda{} y_{e} \\: . \\: {Kick}({y}_{e}, {x}_{e})$<br />\n",
       "$[\\![\\mathbf{\\text{talk_to}}]\\!]^{}_{\\langle{}e,\\langle{}e,t\\rangle{}\\rangle{}} \\:=\\: \\lambda{} x_{e} \\: . \\: \\lambda{} y_{e} \\: . \\: {Talkto}({y}_{e}, {x}_{e})$"
      ]
     },
     "execution_count": 1,
     "metadata": {},
     "output_type": "execute_result"
    }
   ],
   "source": [
    "%%lamb\n",
    "||Alfonso|| = a_e\n",
    "||Joanna|| = j_e\n",
    "||book|| = L x_e : Book_<e,t>(x)\n",
    "||chair|| = L x_e : Chair_<e,t>(x)\n",
    "||borrowed|| = L x_e : L y_e : Borrow(y,x)\n",
    "||kick|| = L x_e : L y_e : Kick(y,x)\n",
    "||talk to|| = L x_e : L y_e : Talkto(y,x)"
   ]
  },
  {
   "cell_type": "markdown",
   "metadata": {},
   "source": [
    "The following cell defines an entry that you can use for `the`.  Since there are no presuppositions per se in the lambda notebook, this glosses over them, but you can think of the `Iota` operator as itself being presuppositional."
   ]
  },
  {
   "cell_type": "code",
   "execution_count": 2,
   "metadata": {
    "collapsed": false
   },
   "outputs": [
    {
     "data": {
      "text/html": [
       "${c}_{\\{e\\}}\\:=\\:{c}_{\\{e\\}}$<br />\n",
       "$[\\![\\mathbf{\\text{the}}]\\!]^{}_{\\langle{}\\langle{}e,t\\rangle{},e\\rangle{}} \\:=\\: \\lambda{} f_{\\langle{}e,t\\rangle{}} \\: . \\: \\iota{} x_{e} \\: . \\: ({f}_{\\langle{}e,t\\rangle{}}({x}_{e}) \\wedge{} ({x}_{e} \\in{} {c}_{\\{e\\}}))$"
      ],
      "text/latex": [
       "${c}_{\\{e\\}}\\:=\\:{c}_{\\{e\\}}$<br />\n",
       "$[\\![\\mathbf{\\text{the}}]\\!]^{}_{\\langle{}\\langle{}e,t\\rangle{},e\\rangle{}} \\:=\\: \\lambda{} f_{\\langle{}e,t\\rangle{}} \\: . \\: \\iota{} x_{e} \\: . \\: ({f}_{\\langle{}e,t\\rangle{}}({x}_{e}) \\wedge{} ({x}_{e} \\in{} {c}_{\\{e\\}}))$"
      ],
      "text/plain": [
       "${c}_{\\{e\\}}\\:=\\:{c}_{\\{e\\}}$<br />\n",
       "$[\\![\\mathbf{\\text{the}}]\\!]^{}_{\\langle{}\\langle{}e,t\\rangle{},e\\rangle{}} \\:=\\: \\lambda{} f_{\\langle{}e,t\\rangle{}} \\: . \\: \\iota{} x_{e} \\: . \\: ({f}_{\\langle{}e,t\\rangle{}}({x}_{e}) \\wedge{} ({x}_{e} \\in{} {c}_{\\{e\\}}))$"
      ]
     },
     "execution_count": 2,
     "metadata": {},
     "output_type": "execute_result"
    }
   ],
   "source": [
    "%%lamb\n",
    "c_{e} = c_{e}\n",
    "||the|| = L f_<e,t> : Iota x_e : (f(x) & x << c)\n"
   ]
  },
  {
   "cell_type": "markdown",
   "metadata": {},
   "source": [
    "Part [a]: In the following blank cell, calculate using `*` the truth-conditions of:\n",
    "\n",
    "    (4) Alfonso borrowed the book.\n"
   ]
  },
  {
   "cell_type": "code",
   "execution_count": 3,
   "metadata": {
    "collapsed": false,
    "scrolled": true
   },
   "outputs": [
    {
     "data": {
      "text/html": [
       "1 composition path:<br /><style>.rendered_html table, .rendered_html tr, .rendered_html td, .rendered_html th { border: 0px; }</style><table><tr style=\"border:1px solid #848482\"><td style=\"vertical-align:bottom;padding:0px 10px\" align=\"center\"><table><tr><td style=\"vertical-align:bottom;padding:5px\"><table><tr style=\"border:1px solid #848482\"><td style=\"vertical-align:bottom;padding:0px 10px\" align=\"center\"><table><tr><td style=\"vertical-align:bottom;padding:5px\"><div style=\"margin-top:10px;border-style:solid;border-color:#848482;border-width:0px\"><div style=\"vertical-align:bottom;text-align:center\">$[\\![\\mathbf{\\text{borrowed}}]\\!]^{}_{\\langle{}e,\\langle{}e,t\\rangle{}\\rangle{}}$</div><div style=\"vertical-align:bottom;text-align:center\">$\\lambda{} x_{e} \\: . \\: \\lambda{} y_{e} \\: . \\: {Borrow}({y}_{e}, {x}_{e})$</div></div></td><td style=\"vertical-align:bottom;padding:10px\">$\\circ$</td><td style=\"vertical-align:bottom;padding:5px\"><table><tr style=\"border:1px solid #848482\"><td style=\"vertical-align:bottom;padding:0px 10px\" align=\"center\"><table><tr><td style=\"vertical-align:bottom;padding:5px\"><div style=\"margin-top:10px;border-style:solid;border-color:#848482;border-width:0px\"><div style=\"vertical-align:bottom;text-align:center\">$[\\![\\mathbf{\\text{the}}]\\!]^{}_{\\langle{}\\langle{}e,t\\rangle{},e\\rangle{}}$</div><div style=\"vertical-align:bottom;text-align:center\">$\\lambda{} f_{\\langle{}e,t\\rangle{}} \\: . \\: \\iota{} x_{e} \\: . \\: ({f}_{\\langle{}e,t\\rangle{}}({x}_{e}) \\wedge{} ({x}_{e} \\in{} {c}_{\\{e\\}}))$</div></div></td><td style=\"vertical-align:bottom;padding:10px\">$\\circ$</td><td style=\"vertical-align:bottom;padding:5px\"><div style=\"margin-top:10px;border-style:solid;border-color:#848482;border-width:0px\"><div style=\"vertical-align:bottom;text-align:center\">$[\\![\\mathbf{\\text{book}}]\\!]^{}_{\\langle{}e,t\\rangle{}}$</div><div style=\"vertical-align:bottom;text-align:center\">$\\lambda{} x_{e} \\: . \\: {Book}({x}_{e})$</div></div></td></tr></table></td><td style=\"border-left:1px solid #848482;vertical-align:center;padding:10px\"><span style=\"color:blue\"><b>[FA]</b></span></td></tr><tr style=\"border-style:solid;border-color:#848482;border-width:0px 1px 1px 1px\"><td style=\"padding:5px\" align=\"center\"><div style=\"margin-top:10px;border-style:solid;border-color:#848482;border-width:0px\"><div style=\"vertical-align:bottom;text-align:center\">$[\\![\\mathbf{\\text{[the book]}}]\\!]^{}_{e}$</div><div style=\"vertical-align:bottom;text-align:center\">$\\iota{} x_{e} \\: . \\: ({Book}({x}_{e}) \\wedge{} ({x}_{e} \\in{} {c}_{\\{e\\}}))$</div></div></td><td></td></tr></table></td></tr></table></td><td style=\"border-left:1px solid #848482;vertical-align:center;padding:10px\"><span style=\"color:blue\"><b>[FA]</b></span></td></tr><tr style=\"border-style:solid;border-color:#848482;border-width:0px 1px 1px 1px\"><td style=\"padding:5px\" align=\"center\"><div style=\"margin-top:10px;border-style:solid;border-color:#848482;border-width:0px\"><div style=\"vertical-align:bottom;text-align:center\">$[\\![\\mathbf{\\text{[borrowed [the book]]}}]\\!]^{}_{\\langle{}e,t\\rangle{}}$</div><div style=\"vertical-align:bottom;text-align:center\">$\\lambda{} y_{e} \\: . \\: {Borrow}({y}_{e}, \\iota{} x_{e} \\: . \\: ({Book}({x}_{e}) \\wedge{} ({x}_{e} \\in{} {c}_{\\{e\\}})))$</div></div></td><td></td></tr></table></td><td style=\"vertical-align:bottom;padding:10px\">$\\circ$</td><td style=\"vertical-align:bottom;padding:5px\"><div style=\"margin-top:10px;border-style:solid;border-color:#848482;border-width:0px\"><div style=\"vertical-align:bottom;text-align:center\">$[\\![\\mathbf{\\text{Alfonso}}]\\!]^{}_{e}$</div><div style=\"vertical-align:bottom;text-align:center\">${a}_{e}$</div></div></td></tr></table></td><td style=\"border-left:1px solid #848482;vertical-align:center;padding:10px\"><span style=\"color:blue\"><b>[FA]</b></span></td></tr><tr style=\"border-style:solid;border-color:#848482;border-width:0px 1px 1px 1px\"><td style=\"padding:5px\" align=\"center\"><div style=\"margin-top:10px;border-style:solid;border-color:#848482;border-width:0px\"><div style=\"vertical-align:bottom;text-align:center\">$[\\![\\mathbf{\\text{[[borrowed [the book]] Alfonso]}}]\\!]^{}_{t}$</div><div style=\"vertical-align:bottom;text-align:center\">${Borrow}({a}_{e}, \\iota{} x_{e} \\: . \\: ({Book}({x}_{e}) \\wedge{} ({x}_{e} \\in{} {c}_{\\{e\\}})))$</div></div></td><td></td></tr></table><br /><br />"
      ],
      "text/latex": [
       "1 composition path:<br /><style>.rendered_html table, .rendered_html tr, .rendered_html td, .rendered_html th { border: 0px; }</style><table><tr style=\"border:1px solid #848482\"><td style=\"vertical-align:bottom;padding:0px 10px\" align=\"center\"><table><tr><td style=\"vertical-align:bottom;padding:5px\"><table><tr style=\"border:1px solid #848482\"><td style=\"vertical-align:bottom;padding:0px 10px\" align=\"center\"><table><tr><td style=\"vertical-align:bottom;padding:5px\"><div style=\"margin-top:10px;border-style:solid;border-color:#848482;border-width:0px\"><div style=\"vertical-align:bottom;text-align:center\">$[\\![\\mathbf{\\text{borrowed}}]\\!]^{}_{\\langle{}e,\\langle{}e,t\\rangle{}\\rangle{}}$</div><div style=\"vertical-align:bottom;text-align:center\">$\\lambda{} x_{e} \\: . \\: \\lambda{} y_{e} \\: . \\: {Borrow}({y}_{e}, {x}_{e})$</div></div></td><td style=\"vertical-align:bottom;padding:10px\">$\\circ$</td><td style=\"vertical-align:bottom;padding:5px\"><table><tr style=\"border:1px solid #848482\"><td style=\"vertical-align:bottom;padding:0px 10px\" align=\"center\"><table><tr><td style=\"vertical-align:bottom;padding:5px\"><div style=\"margin-top:10px;border-style:solid;border-color:#848482;border-width:0px\"><div style=\"vertical-align:bottom;text-align:center\">$[\\![\\mathbf{\\text{the}}]\\!]^{}_{\\langle{}\\langle{}e,t\\rangle{},e\\rangle{}}$</div><div style=\"vertical-align:bottom;text-align:center\">$\\lambda{} f_{\\langle{}e,t\\rangle{}} \\: . \\: \\iota{} x_{e} \\: . \\: ({f}_{\\langle{}e,t\\rangle{}}({x}_{e}) \\wedge{} ({x}_{e} \\in{} {c}_{\\{e\\}}))$</div></div></td><td style=\"vertical-align:bottom;padding:10px\">$\\circ$</td><td style=\"vertical-align:bottom;padding:5px\"><div style=\"margin-top:10px;border-style:solid;border-color:#848482;border-width:0px\"><div style=\"vertical-align:bottom;text-align:center\">$[\\![\\mathbf{\\text{book}}]\\!]^{}_{\\langle{}e,t\\rangle{}}$</div><div style=\"vertical-align:bottom;text-align:center\">$\\lambda{} x_{e} \\: . \\: {Book}({x}_{e})$</div></div></td></tr></table></td><td style=\"border-left:1px solid #848482;vertical-align:center;padding:10px\"><span style=\"color:blue\"><b>[FA]</b></span></td></tr><tr style=\"border-style:solid;border-color:#848482;border-width:0px 1px 1px 1px\"><td style=\"padding:5px\" align=\"center\"><div style=\"margin-top:10px;border-style:solid;border-color:#848482;border-width:0px\"><div style=\"vertical-align:bottom;text-align:center\">$[\\![\\mathbf{\\text{[the book]}}]\\!]^{}_{e}$</div><div style=\"vertical-align:bottom;text-align:center\">$\\iota{} x_{e} \\: . \\: ({Book}({x}_{e}) \\wedge{} ({x}_{e} \\in{} {c}_{\\{e\\}}))$</div></div></td><td></td></tr></table></td></tr></table></td><td style=\"border-left:1px solid #848482;vertical-align:center;padding:10px\"><span style=\"color:blue\"><b>[FA]</b></span></td></tr><tr style=\"border-style:solid;border-color:#848482;border-width:0px 1px 1px 1px\"><td style=\"padding:5px\" align=\"center\"><div style=\"margin-top:10px;border-style:solid;border-color:#848482;border-width:0px\"><div style=\"vertical-align:bottom;text-align:center\">$[\\![\\mathbf{\\text{[borrowed [the book]]}}]\\!]^{}_{\\langle{}e,t\\rangle{}}$</div><div style=\"vertical-align:bottom;text-align:center\">$\\lambda{} y_{e} \\: . \\: {Borrow}({y}_{e}, \\iota{} x_{e} \\: . \\: ({Book}({x}_{e}) \\wedge{} ({x}_{e} \\in{} {c}_{\\{e\\}})))$</div></div></td><td></td></tr></table></td><td style=\"vertical-align:bottom;padding:10px\">$\\circ$</td><td style=\"vertical-align:bottom;padding:5px\"><div style=\"margin-top:10px;border-style:solid;border-color:#848482;border-width:0px\"><div style=\"vertical-align:bottom;text-align:center\">$[\\![\\mathbf{\\text{Alfonso}}]\\!]^{}_{e}$</div><div style=\"vertical-align:bottom;text-align:center\">${a}_{e}$</div></div></td></tr></table></td><td style=\"border-left:1px solid #848482;vertical-align:center;padding:10px\"><span style=\"color:blue\"><b>[FA]</b></span></td></tr><tr style=\"border-style:solid;border-color:#848482;border-width:0px 1px 1px 1px\"><td style=\"padding:5px\" align=\"center\"><div style=\"margin-top:10px;border-style:solid;border-color:#848482;border-width:0px\"><div style=\"vertical-align:bottom;text-align:center\">$[\\![\\mathbf{\\text{[[borrowed [the book]] Alfonso]}}]\\!]^{}_{t}$</div><div style=\"vertical-align:bottom;text-align:center\">${Borrow}({a}_{e}, \\iota{} x_{e} \\: . \\: ({Book}({x}_{e}) \\wedge{} ({x}_{e} \\in{} {c}_{\\{e\\}})))$</div></div></td><td></td></tr></table><br /><br />"
      ],
      "text/plain": [
       "1 composition path:<br /><style>.rendered_html table, .rendered_html tr, .rendered_html td, .rendered_html th { border: 0px; }</style><table><tr style=\"border:1px solid #848482\"><td style=\"vertical-align:bottom;padding:0px 10px\" align=\"center\"><table><tr><td style=\"vertical-align:bottom;padding:5px\"><table><tr style=\"border:1px solid #848482\"><td style=\"vertical-align:bottom;padding:0px 10px\" align=\"center\"><table><tr><td style=\"vertical-align:bottom;padding:5px\"><div style=\"margin-top:10px;border-style:solid;border-color:#848482;border-width:0px\"><div style=\"vertical-align:bottom;text-align:center\">$[\\![\\mathbf{\\text{borrowed}}]\\!]^{}_{\\langle{}e,\\langle{}e,t\\rangle{}\\rangle{}}$</div><div style=\"vertical-align:bottom;text-align:center\">$\\lambda{} x_{e} \\: . \\: \\lambda{} y_{e} \\: . \\: {Borrow}({y}_{e}, {x}_{e})$</div></div></td><td style=\"vertical-align:bottom;padding:10px\">$\\circ$</td><td style=\"vertical-align:bottom;padding:5px\"><table><tr style=\"border:1px solid #848482\"><td style=\"vertical-align:bottom;padding:0px 10px\" align=\"center\"><table><tr><td style=\"vertical-align:bottom;padding:5px\"><div style=\"margin-top:10px;border-style:solid;border-color:#848482;border-width:0px\"><div style=\"vertical-align:bottom;text-align:center\">$[\\![\\mathbf{\\text{the}}]\\!]^{}_{\\langle{}\\langle{}e,t\\rangle{},e\\rangle{}}$</div><div style=\"vertical-align:bottom;text-align:center\">$\\lambda{} f_{\\langle{}e,t\\rangle{}} \\: . \\: \\iota{} x_{e} \\: . \\: ({f}_{\\langle{}e,t\\rangle{}}({x}_{e}) \\wedge{} ({x}_{e} \\in{} {c}_{\\{e\\}}))$</div></div></td><td style=\"vertical-align:bottom;padding:10px\">$\\circ$</td><td style=\"vertical-align:bottom;padding:5px\"><div style=\"margin-top:10px;border-style:solid;border-color:#848482;border-width:0px\"><div style=\"vertical-align:bottom;text-align:center\">$[\\![\\mathbf{\\text{book}}]\\!]^{}_{\\langle{}e,t\\rangle{}}$</div><div style=\"vertical-align:bottom;text-align:center\">$\\lambda{} x_{e} \\: . \\: {Book}({x}_{e})$</div></div></td></tr></table></td><td style=\"border-left:1px solid #848482;vertical-align:center;padding:10px\"><span style=\"color:blue\"><b>[FA]</b></span></td></tr><tr style=\"border-style:solid;border-color:#848482;border-width:0px 1px 1px 1px\"><td style=\"padding:5px\" align=\"center\"><div style=\"margin-top:10px;border-style:solid;border-color:#848482;border-width:0px\"><div style=\"vertical-align:bottom;text-align:center\">$[\\![\\mathbf{\\text{[the book]}}]\\!]^{}_{e}$</div><div style=\"vertical-align:bottom;text-align:center\">$\\iota{} x_{e} \\: . \\: ({Book}({x}_{e}) \\wedge{} ({x}_{e} \\in{} {c}_{\\{e\\}}))$</div></div></td><td></td></tr></table></td></tr></table></td><td style=\"border-left:1px solid #848482;vertical-align:center;padding:10px\"><span style=\"color:blue\"><b>[FA]</b></span></td></tr><tr style=\"border-style:solid;border-color:#848482;border-width:0px 1px 1px 1px\"><td style=\"padding:5px\" align=\"center\"><div style=\"margin-top:10px;border-style:solid;border-color:#848482;border-width:0px\"><div style=\"vertical-align:bottom;text-align:center\">$[\\![\\mathbf{\\text{[borrowed [the book]]}}]\\!]^{}_{\\langle{}e,t\\rangle{}}$</div><div style=\"vertical-align:bottom;text-align:center\">$\\lambda{} y_{e} \\: . \\: {Borrow}({y}_{e}, \\iota{} x_{e} \\: . \\: ({Book}({x}_{e}) \\wedge{} ({x}_{e} \\in{} {c}_{\\{e\\}})))$</div></div></td><td></td></tr></table></td><td style=\"vertical-align:bottom;padding:10px\">$\\circ$</td><td style=\"vertical-align:bottom;padding:5px\"><div style=\"margin-top:10px;border-style:solid;border-color:#848482;border-width:0px\"><div style=\"vertical-align:bottom;text-align:center\">$[\\![\\mathbf{\\text{Alfonso}}]\\!]^{}_{e}$</div><div style=\"vertical-align:bottom;text-align:center\">${a}_{e}$</div></div></td></tr></table></td><td style=\"border-left:1px solid #848482;vertical-align:center;padding:10px\"><span style=\"color:blue\"><b>[FA]</b></span></td></tr><tr style=\"border-style:solid;border-color:#848482;border-width:0px 1px 1px 1px\"><td style=\"padding:5px\" align=\"center\"><div style=\"margin-top:10px;border-style:solid;border-color:#848482;border-width:0px\"><div style=\"vertical-align:bottom;text-align:center\">$[\\![\\mathbf{\\text{[[borrowed [the book]] Alfonso]}}]\\!]^{}_{t}$</div><div style=\"vertical-align:bottom;text-align:center\">${Borrow}({a}_{e}, \\iota{} x_{e} \\: . \\: ({Book}({x}_{e}) \\wedge{} ({x}_{e} \\in{} {c}_{\\{e\\}})))$</div></div></td><td></td></tr></table><br /><br />"
      ]
     },
     "execution_count": 3,
     "metadata": {},
     "output_type": "execute_result"
    }
   ],
   "source": [
    "(Alfonso * (borrowed * (the * book))).tree()"
   ]
  },
  {
   "cell_type": "code",
   "execution_count": 8,
   "metadata": {
    "collapsed": false
   },
   "outputs": [
    {
     "data": {
      "text/html": [
       "Full composition trace.  1 path:<br />\n",
       "&nbsp;&nbsp;&nbsp;&nbsp;Step 1: $[\\![\\mathbf{\\text{borrowed}}]\\!]^{}_{\\langle{}e,\\langle{}e,t\\rangle{}\\rangle{}} \\:=\\: $$\\lambda{} x_{e} \\: . \\: \\lambda{} y_{e} \\: . \\: {Borrow}({y}_{e}, {x}_{e})$<br />\n",
       "&nbsp;&nbsp;&nbsp;&nbsp;Step 2: $[\\![\\mathbf{\\text{the}}]\\!]^{}_{\\langle{}\\langle{}e,t\\rangle{},e\\rangle{}} \\:=\\: $$\\lambda{} f_{\\langle{}e,t\\rangle{}} \\: . \\: \\iota{} x_{e} \\: . \\: ({f}_{\\langle{}e,t\\rangle{}}({x}_{e}) \\wedge{} ({x}_{e} \\in{} {c}_{\\{e\\}}))$<br />\n",
       "&nbsp;&nbsp;&nbsp;&nbsp;Step 3: $[\\![\\mathbf{\\text{book}}]\\!]^{}_{\\langle{}e,t\\rangle{}} \\:=\\: $$\\lambda{} x_{e} \\: . \\: {Book}({x}_{e})$<br />\n",
       "&nbsp;&nbsp;&nbsp;&nbsp;Step 4: $[\\![\\mathbf{\\text{the}}]\\!]^{}_{\\langle{}\\langle{}e,t\\rangle{},e\\rangle{}}$ * $[\\![\\mathbf{\\text{book}}]\\!]^{}_{\\langle{}e,t\\rangle{}}$ leads to: $[\\![\\mathbf{\\text{[the book]}}]\\!]^{}_{e} \\:=\\: $$\\iota{} x_{e} \\: . \\: ({Book}({x}_{e}) \\wedge{} ({x}_{e} \\in{} {c}_{\\{e\\}}))$ <b>[by FA]</b><br />\n",
       "&nbsp;&nbsp;&nbsp;&nbsp;Step 5: $[\\![\\mathbf{\\text{borrowed}}]\\!]^{}_{\\langle{}e,\\langle{}e,t\\rangle{}\\rangle{}}$ * $[\\![\\mathbf{\\text{[the book]}}]\\!]^{}_{e}$ leads to: $[\\![\\mathbf{\\text{[borrowed [the book]]}}]\\!]^{}_{\\langle{}e,t\\rangle{}} \\:=\\: $$\\lambda{} y_{e} \\: . \\: {Borrow}({y}_{e}, \\iota{} x_{e} \\: . \\: ({Book}({x}_{e}) \\wedge{} ({x}_{e} \\in{} {c}_{\\{e\\}})))$ <b>[by FA]</b><br />\n",
       "&nbsp;&nbsp;&nbsp;&nbsp;Step 6: $[\\![\\mathbf{\\text{Alfonso}}]\\!]^{}_{e} \\:=\\: $${a}_{e}$<br />\n",
       "&nbsp;&nbsp;&nbsp;&nbsp;Step 7: $[\\![\\mathbf{\\text{[borrowed [the book]]}}]\\!]^{}_{\\langle{}e,t\\rangle{}}$ * $[\\![\\mathbf{\\text{Alfonso}}]\\!]^{}_{e}$ leads to: $[\\![\\mathbf{\\text{[[borrowed [the book]] Alfonso]}}]\\!]^{}_{t} \\:=\\: $${Borrow}({a}_{e}, \\iota{} x_{e} \\: . \\: ({Book}({x}_{e}) \\wedge{} ({x}_{e} \\in{} {c}_{\\{e\\}})))$ <b>[by FA]</b><br />\n"
      ],
      "text/latex": [
       "Full composition trace.  1 path:<br />\n",
       "&nbsp;&nbsp;&nbsp;&nbsp;Step 1: $[\\![\\mathbf{\\text{borrowed}}]\\!]^{}_{\\langle{}e,\\langle{}e,t\\rangle{}\\rangle{}} \\:=\\: $$\\lambda{} x_{e} \\: . \\: \\lambda{} y_{e} \\: . \\: {Borrow}({y}_{e}, {x}_{e})$<br />\n",
       "&nbsp;&nbsp;&nbsp;&nbsp;Step 2: $[\\![\\mathbf{\\text{the}}]\\!]^{}_{\\langle{}\\langle{}e,t\\rangle{},e\\rangle{}} \\:=\\: $$\\lambda{} f_{\\langle{}e,t\\rangle{}} \\: . \\: \\iota{} x_{e} \\: . \\: ({f}_{\\langle{}e,t\\rangle{}}({x}_{e}) \\wedge{} ({x}_{e} \\in{} {c}_{\\{e\\}}))$<br />\n",
       "&nbsp;&nbsp;&nbsp;&nbsp;Step 3: $[\\![\\mathbf{\\text{book}}]\\!]^{}_{\\langle{}e,t\\rangle{}} \\:=\\: $$\\lambda{} x_{e} \\: . \\: {Book}({x}_{e})$<br />\n",
       "&nbsp;&nbsp;&nbsp;&nbsp;Step 4: $[\\![\\mathbf{\\text{the}}]\\!]^{}_{\\langle{}\\langle{}e,t\\rangle{},e\\rangle{}}$ * $[\\![\\mathbf{\\text{book}}]\\!]^{}_{\\langle{}e,t\\rangle{}}$ leads to: $[\\![\\mathbf{\\text{[the book]}}]\\!]^{}_{e} \\:=\\: $$\\iota{} x_{e} \\: . \\: ({Book}({x}_{e}) \\wedge{} ({x}_{e} \\in{} {c}_{\\{e\\}}))$ <b>[by FA]</b><br />\n",
       "&nbsp;&nbsp;&nbsp;&nbsp;Step 5: $[\\![\\mathbf{\\text{borrowed}}]\\!]^{}_{\\langle{}e,\\langle{}e,t\\rangle{}\\rangle{}}$ * $[\\![\\mathbf{\\text{[the book]}}]\\!]^{}_{e}$ leads to: $[\\![\\mathbf{\\text{[borrowed [the book]]}}]\\!]^{}_{\\langle{}e,t\\rangle{}} \\:=\\: $$\\lambda{} y_{e} \\: . \\: {Borrow}({y}_{e}, \\iota{} x_{e} \\: . \\: ({Book}({x}_{e}) \\wedge{} ({x}_{e} \\in{} {c}_{\\{e\\}})))$ <b>[by FA]</b><br />\n",
       "&nbsp;&nbsp;&nbsp;&nbsp;Step 6: $[\\![\\mathbf{\\text{Alfonso}}]\\!]^{}_{e} \\:=\\: $${a}_{e}$<br />\n",
       "&nbsp;&nbsp;&nbsp;&nbsp;Step 7: $[\\![\\mathbf{\\text{[borrowed [the book]]}}]\\!]^{}_{\\langle{}e,t\\rangle{}}$ * $[\\![\\mathbf{\\text{Alfonso}}]\\!]^{}_{e}$ leads to: $[\\![\\mathbf{\\text{[[borrowed [the book]] Alfonso]}}]\\!]^{}_{t} \\:=\\: $${Borrow}({a}_{e}, \\iota{} x_{e} \\: . \\: ({Book}({x}_{e}) \\wedge{} ({x}_{e} \\in{} {c}_{\\{e\\}})))$ <b>[by FA]</b><br />\n"
      ],
      "text/plain": [
       "Full composition trace.  1 path:<br />\n",
       "&nbsp;&nbsp;&nbsp;&nbsp;Step 1: $[\\![\\mathbf{\\text{borrowed}}]\\!]^{}_{\\langle{}e,\\langle{}e,t\\rangle{}\\rangle{}} \\:=\\: $$\\lambda{} x_{e} \\: . \\: \\lambda{} y_{e} \\: . \\: {Borrow}({y}_{e}, {x}_{e})$<br />\n",
       "&nbsp;&nbsp;&nbsp;&nbsp;Step 2: $[\\![\\mathbf{\\text{the}}]\\!]^{}_{\\langle{}\\langle{}e,t\\rangle{},e\\rangle{}} \\:=\\: $$\\lambda{} f_{\\langle{}e,t\\rangle{}} \\: . \\: \\iota{} x_{e} \\: . \\: ({f}_{\\langle{}e,t\\rangle{}}({x}_{e}) \\wedge{} ({x}_{e} \\in{} {c}_{\\{e\\}}))$<br />\n",
       "&nbsp;&nbsp;&nbsp;&nbsp;Step 3: $[\\![\\mathbf{\\text{book}}]\\!]^{}_{\\langle{}e,t\\rangle{}} \\:=\\: $$\\lambda{} x_{e} \\: . \\: {Book}({x}_{e})$<br />\n",
       "&nbsp;&nbsp;&nbsp;&nbsp;Step 4: $[\\![\\mathbf{\\text{the}}]\\!]^{}_{\\langle{}\\langle{}e,t\\rangle{},e\\rangle{}}$ * $[\\![\\mathbf{\\text{book}}]\\!]^{}_{\\langle{}e,t\\rangle{}}$ leads to: $[\\![\\mathbf{\\text{[the book]}}]\\!]^{}_{e} \\:=\\: $$\\iota{} x_{e} \\: . \\: ({Book}({x}_{e}) \\wedge{} ({x}_{e} \\in{} {c}_{\\{e\\}}))$ <b>[by FA]</b><br />\n",
       "&nbsp;&nbsp;&nbsp;&nbsp;Step 5: $[\\![\\mathbf{\\text{borrowed}}]\\!]^{}_{\\langle{}e,\\langle{}e,t\\rangle{}\\rangle{}}$ * $[\\![\\mathbf{\\text{[the book]}}]\\!]^{}_{e}$ leads to: $[\\![\\mathbf{\\text{[borrowed [the book]]}}]\\!]^{}_{\\langle{}e,t\\rangle{}} \\:=\\: $$\\lambda{} y_{e} \\: . \\: {Borrow}({y}_{e}, \\iota{} x_{e} \\: . \\: ({Book}({x}_{e}) \\wedge{} ({x}_{e} \\in{} {c}_{\\{e\\}})))$ <b>[by FA]</b><br />\n",
       "&nbsp;&nbsp;&nbsp;&nbsp;Step 6: $[\\![\\mathbf{\\text{Alfonso}}]\\!]^{}_{e} \\:=\\: $${a}_{e}$<br />\n",
       "&nbsp;&nbsp;&nbsp;&nbsp;Step 7: $[\\![\\mathbf{\\text{[borrowed [the book]]}}]\\!]^{}_{\\langle{}e,t\\rangle{}}$ * $[\\![\\mathbf{\\text{Alfonso}}]\\!]^{}_{e}$ leads to: $[\\![\\mathbf{\\text{[[borrowed [the book]] Alfonso]}}]\\!]^{}_{t} \\:=\\: $${Borrow}({a}_{e}, \\iota{} x_{e} \\: . \\: ({Book}({x}_{e}) \\wedge{} ({x}_{e} \\in{} {c}_{\\{e\\}})))$ <b>[by FA]</b><br />"
      ]
     },
     "execution_count": 8,
     "metadata": {},
     "output_type": "execute_result"
    }
   ],
   "source": [
    "(Alfonso * (borrowed * (the * book))).trace()"
   ]
  },
  {
   "cell_type": "markdown",
   "metadata": {},
   "source": [
    "__*KC: part [a] 8/8*__"
   ]
  },
  {
   "cell_type": "markdown",
   "metadata": {},
   "source": [
    "**Part [b]**: In the following cell, write an entry for `mother`, and describe it in the next cell."
   ]
  },
  {
   "cell_type": "code",
   "execution_count": 4,
   "metadata": {
    "collapsed": false
   },
   "outputs": [
    {
     "name": "stderr",
     "output_type": "stream",
     "text": [
      "INFO (meta): Coerced guessed type t for 'MOTHER_t' into <e,t>, to match argument 'y_e'\n",
      "INFO (meta): Coerced guessed type t for 'MOTHER_<e,t>(y_e)' into <e,t>, to match argument 'x_e'\n"
     ]
    },
    {
     "data": {
      "text/html": [
       "$[\\![\\mathbf{\\text{mother}}]\\!]^{}_{\\langle{}e,\\langle{}e,t\\rangle{}\\rangle{}} \\:=\\: \\lambda{} x_{e} \\: . \\: \\lambda{} y_{e} \\: . \\: {MOTHER}_{\\langle{}e,\\langle{}e,t\\rangle{}\\rangle{}}({y}_{e})({x}_{e})$"
      ],
      "text/latex": [
       "$[\\![\\mathbf{\\text{mother}}]\\!]^{}_{\\langle{}e,\\langle{}e,t\\rangle{}\\rangle{}} \\:=\\: \\lambda{} x_{e} \\: . \\: \\lambda{} y_{e} \\: . \\: {MOTHER}_{\\langle{}e,\\langle{}e,t\\rangle{}\\rangle{}}({y}_{e})({x}_{e})$"
      ],
      "text/plain": [
       "$[\\![\\mathbf{\\text{mother}}]\\!]^{}_{\\langle{}e,\\langle{}e,t\\rangle{}\\rangle{}} \\:=\\: \\lambda{} x_{e} \\: . \\: \\lambda{} y_{e} \\: . \\: {MOTHER}_{\\langle{}e,\\langle{}e,t\\rangle{}\\rangle{}}({y}_{e})({x}_{e})$"
      ]
     },
     "execution_count": 4,
     "metadata": {},
     "output_type": "execute_result"
    }
   ],
   "source": [
    "%%lamb\n",
    "||mother|| = L x_e : L y_e : MOTHER(y)(x)"
   ]
  },
  {
   "cell_type": "markdown",
   "metadata": {},
   "source": [
    "The entry for `mother` is defined as a two-place predicate. It relates two input entities using the \"MOTHER\" relation.<br>\n",
    "MOTHER(y)(x) is to be read as `y is the mother of x`.<br><br>\n",
    "Defining `mother` as a 2-place predicate (instead of a lower level property such as `book` or `chair`) captures the notion that it is possible for an entity to be a mother **if and only if there exists an offspring**. In sentences such as `Alfonso talked to the mother`, where the offspring is implicit, `mother` can still be saturated through conversion to a single place predicate as given in the cell below, using a tool similar to the \"Unexpressed Argument\" operator for verbs that we discussed in class. In this case, we can think of there being a presupposition that there exists an offspring `x` to the mother `y`."
   ]
  },
  {
   "cell_type": "code",
   "execution_count": 20,
   "metadata": {
    "collapsed": false
   },
   "outputs": [
    {
     "name": "stderr",
     "output_type": "stream",
     "text": [
      "INFO (meta): Coerced guessed type t for 'MOTHER_t' into <e,t>, to match argument 'y_e'\n",
      "INFO (meta): Coerced guessed type t for 'MOTHER_<e,t>(y_e)' into <e,t>, to match argument 'x_e'\n"
     ]
    },
    {
     "data": {
      "text/html": [
       "$[\\![\\mathbf{\\text{mother_UA}}]\\!]^{}_{\\langle{}e,t\\rangle{}} \\:=\\: \\lambda{} y_{e} \\: . \\: \\exists{} x_{e} \\: . \\: {MOTHER}_{\\langle{}e,\\langle{}e,t\\rangle{}\\rangle{}}({y}_{e})({x}_{e})$"
      ],
      "text/latex": [
       "$[\\![\\mathbf{\\text{mother_UA}}]\\!]^{}_{\\langle{}e,t\\rangle{}} \\:=\\: \\lambda{} y_{e} \\: . \\: \\exists{} x_{e} \\: . \\: {MOTHER}_{\\langle{}e,\\langle{}e,t\\rangle{}\\rangle{}}({y}_{e})({x}_{e})$"
      ],
      "text/plain": [
       "$[\\![\\mathbf{\\text{mother_UA}}]\\!]^{}_{\\langle{}e,t\\rangle{}} \\:=\\: \\lambda{} y_{e} \\: . \\: \\exists{} x_{e} \\: . \\: {MOTHER}_{\\langle{}e,\\langle{}e,t\\rangle{}\\rangle{}}({y}_{e})({x}_{e})$"
      ]
     },
     "execution_count": 20,
     "metadata": {},
     "output_type": "execute_result"
    }
   ],
   "source": [
    "%%lamb\n",
    "||mother_UA|| = L y_e : Exists x_e : MOTHER(y)(x) "
   ]
  },
  {
   "cell_type": "markdown",
   "metadata": {},
   "source": [
    "As mentioned before, words like `book` and `chair` denote simple predicates of type `<e,t>`. This indicates that an entity can have the property of being a book or a chair even without the presupposition of a possessor. In this case, the `'s` construction introduces a new \"possesion\" relationship that connects the book (or chair) to its possessor (also an entity). This possession relationship is unrelated to the denotation of `book` or `chair` themselves. The possession relationship in not reflexive, symmetric or transitive. "
   ]
  },
  {
   "cell_type": "markdown",
   "metadata": {},
   "source": [
    "On the other hand, `mother` is a higher level property that relates two entities, where the first entity is the mother (or the female parent) of the second entity. The `'s'` construction here does not really bind the two entities in a possessor-possessee relationship here. That is, neither entity possesses the other. Other properties that behave similar to `mother` are words like `friend`, `son`, `president` etc. <br><br>\n",
    "In this particular case, `mother` is not a reflexive, symmetric or transitive relationship. However, this is not true of all 2-place predicates that support the use of the `'s` construction. A word like `friend` is symmetric, though not necessarily relexive or transitive. "
   ]
  },
  {
   "cell_type": "markdown",
   "metadata": {},
   "source": [
    "**Part [c]** (possessive denotation): In the following cell write an entry for the possessive morpheme.  To handle python naming, call it `POSS` instead of `'s`."
   ]
  },
  {
   "cell_type": "code",
   "execution_count": 5,
   "metadata": {
    "collapsed": false
   },
   "outputs": [
    {
     "name": "stderr",
     "output_type": "stream",
     "text": [
      "INFO (meta): Coerced guessed type t for 'POSSESSOR_t' into <(e,e),t>, to match argument '(z_e, y_e)'\n"
     ]
    },
    {
     "data": {
      "text/html": [
       "$[\\![\\mathbf{\\text{POSS_1}}]\\!]^{}_{\\langle{}\\langle{}e,t\\rangle{},\\langle{}e,e\\rangle{}\\rangle{}} \\:=\\: \\lambda{} prop_{\\langle{}e,t\\rangle{}} \\: . \\: \\lambda{} z_{e} \\: . \\: \\iota{} y_{e} \\: . \\: ({prop}_{\\langle{}e,t\\rangle{}}({y}_{e}) \\wedge{} {POSSESSOR}({z}_{e}, {y}_{e}))$<br />\n",
       "$[\\![\\mathbf{\\text{POSS_2}}]\\!]^{}_{\\langle{}\\langle{}e,\\langle{}e,t\\rangle{}\\rangle{},\\langle{}e,e\\rangle{}\\rangle{}} \\:=\\: \\lambda{} prop_{\\langle{}e,\\langle{}e,t\\rangle{}\\rangle{}} \\: . \\: \\lambda{} x_{e} \\: . \\: \\iota{} y_{e} \\: . \\: {prop}_{\\langle{}e,\\langle{}e,t\\rangle{}\\rangle{}}({x}_{e})({y}_{e})$"
      ],
      "text/latex": [
       "$[\\![\\mathbf{\\text{POSS_1}}]\\!]^{}_{\\langle{}\\langle{}e,t\\rangle{},\\langle{}e,e\\rangle{}\\rangle{}} \\:=\\: \\lambda{} prop_{\\langle{}e,t\\rangle{}} \\: . \\: \\lambda{} z_{e} \\: . \\: \\iota{} y_{e} \\: . \\: ({prop}_{\\langle{}e,t\\rangle{}}({y}_{e}) \\wedge{} {POSSESSOR}({z}_{e}, {y}_{e}))$<br />\n",
       "$[\\![\\mathbf{\\text{POSS_2}}]\\!]^{}_{\\langle{}\\langle{}e,\\langle{}e,t\\rangle{}\\rangle{},\\langle{}e,e\\rangle{}\\rangle{}} \\:=\\: \\lambda{} prop_{\\langle{}e,\\langle{}e,t\\rangle{}\\rangle{}} \\: . \\: \\lambda{} x_{e} \\: . \\: \\iota{} y_{e} \\: . \\: {prop}_{\\langle{}e,\\langle{}e,t\\rangle{}\\rangle{}}({x}_{e})({y}_{e})$"
      ],
      "text/plain": [
       "$[\\![\\mathbf{\\text{POSS_1}}]\\!]^{}_{\\langle{}\\langle{}e,t\\rangle{},\\langle{}e,e\\rangle{}\\rangle{}} \\:=\\: \\lambda{} prop_{\\langle{}e,t\\rangle{}} \\: . \\: \\lambda{} z_{e} \\: . \\: \\iota{} y_{e} \\: . \\: ({prop}_{\\langle{}e,t\\rangle{}}({y}_{e}) \\wedge{} {POSSESSOR}({z}_{e}, {y}_{e}))$<br />\n",
       "$[\\![\\mathbf{\\text{POSS_2}}]\\!]^{}_{\\langle{}\\langle{}e,\\langle{}e,t\\rangle{}\\rangle{},\\langle{}e,e\\rangle{}\\rangle{}} \\:=\\: \\lambda{} prop_{\\langle{}e,\\langle{}e,t\\rangle{}\\rangle{}} \\: . \\: \\lambda{} x_{e} \\: . \\: \\iota{} y_{e} \\: . \\: {prop}_{\\langle{}e,\\langle{}e,t\\rangle{}\\rangle{}}({x}_{e})({y}_{e})$"
      ]
     },
     "execution_count": 5,
     "metadata": {},
     "output_type": "execute_result"
    }
   ],
   "source": [
    "%%lamb\n",
    "||POSS_1|| = L prop_<e,t> : L z_e : Iota y_e : prop(y) & POSSESSOR(z,y)\n",
    "||POSS_2|| = L prop_<e,<e,t>> : L x_e : Iota y_e : prop(x)(y)"
   ]
  },
  {
   "cell_type": "markdown",
   "metadata": {},
   "source": [
    "The entry for `POSS` is ambiguous depending on whether it precedes a one-place predicate (`POSS_1`) or a two-place predicate (`POSS_2`). It's type in both cases is analogous, i.e., it accepts the predicate as argument and returns a relation from entity to entity. That is, its type is ambiguous between `<<e,t>,<e,e>>` and `<<e,<e,t>>,<e,e>>`.<br><br>\n",
    "When the argument to `POSS` is a one-place predicate (say, p), it takes the form of `POSS_1` and returns a function of type `<e,e>`. When given an entity e1, this function returns another entity e2, such that e2 satisfies the one-place predicate p, and is related to e1 by the POSSESSOR relation. For example, in the case of \"Joanna's book\", the entity returned after the necessary compositions at the level of the phrase is a book that Joanna possesses. The linguistic presupposition here is that there exists one and only one possessor of the book, and is introduced by the possessive construction `'s`.<br><br>\n",
    "On the other hand, when `POSS` is followed by a two place predicate (say, q), it takes the form of `POSS_2`. The function returned by `POSS_2` that accepts an entity e1 to return another entity e2  is such that e1 and e2 together satisfy the two place relation q. There is once again a linguistic presupposition here that is introduced by the construction `'s`. The presupposition is that there is one and only one salient entity that is related to the input entity by the higher level property q. <br><br>\n",
    "Apart from the difference in the types of `POSS_1` and `POSS_2`, another crucial distinction is that while `POSS_1` introduces a new POSSESSOR relationship in its denotation, `POSS_2` simply uses the relation that it was handed as argument to relate the two entities. __*KC: but it doesn't have to, e.g. we can use [Joanna's book] to mean that she is the author of the book, but necessarily that she owns a copy...*__\n",
    "\n",
    "__*8/8*__"
   ]
  },
  {
   "cell_type": "markdown",
   "metadata": {},
   "source": [
    "**Part [c]** (explication of why this denotation works): In the following cell, calculate the meaning of the tree in (6) on the midterm using the `*` operator."
   ]
  },
  {
   "cell_type": "code",
   "execution_count": 6,
   "metadata": {
    "collapsed": false
   },
   "outputs": [
    {
     "data": {
      "text/html": [
       "1 composition path:<br /><style>.rendered_html table, .rendered_html tr, .rendered_html td, .rendered_html th { border: 0px; }</style><table><tr style=\"border:1px solid #848482\"><td style=\"vertical-align:bottom;padding:0px 10px\" align=\"center\"><table><tr><td style=\"vertical-align:bottom;padding:5px\"><table><tr style=\"border:1px solid #848482\"><td style=\"vertical-align:bottom;padding:0px 10px\" align=\"center\"><table><tr><td style=\"vertical-align:bottom;padding:5px\"><div style=\"margin-top:10px;border-style:solid;border-color:#848482;border-width:0px\"><div style=\"vertical-align:bottom;text-align:center\">$[\\![\\mathbf{\\text{POSS_2}}]\\!]^{}_{\\langle{}\\langle{}e,\\langle{}e,t\\rangle{}\\rangle{},\\langle{}e,e\\rangle{}\\rangle{}}$</div><div style=\"vertical-align:bottom;text-align:center\">$\\lambda{} prop_{\\langle{}e,\\langle{}e,t\\rangle{}\\rangle{}} \\: . \\: \\lambda{} x_{e} \\: . \\: \\iota{} y_{e} \\: . \\: {prop}_{\\langle{}e,\\langle{}e,t\\rangle{}\\rangle{}}({x}_{e})({y}_{e})$</div></div></td><td style=\"vertical-align:bottom;padding:10px\">$\\circ$</td><td style=\"vertical-align:bottom;padding:5px\"><div style=\"margin-top:10px;border-style:solid;border-color:#848482;border-width:0px\"><div style=\"vertical-align:bottom;text-align:center\">$[\\![\\mathbf{\\text{mother}}]\\!]^{}_{\\langle{}e,\\langle{}e,t\\rangle{}\\rangle{}}$</div><div style=\"vertical-align:bottom;text-align:center\">$\\lambda{} x_{e} \\: . \\: \\lambda{} y_{e} \\: . \\: {MOTHER}_{\\langle{}e,\\langle{}e,t\\rangle{}\\rangle{}}({y}_{e})({x}_{e})$</div></div></td></tr></table></td><td style=\"border-left:1px solid #848482;vertical-align:center;padding:10px\"><span style=\"color:blue\"><b>[FA]</b></span></td></tr><tr style=\"border-style:solid;border-color:#848482;border-width:0px 1px 1px 1px\"><td style=\"padding:5px\" align=\"center\"><div style=\"margin-top:10px;border-style:solid;border-color:#848482;border-width:0px\"><div style=\"vertical-align:bottom;text-align:center\">$[\\![\\mathbf{\\text{[POSS_2 mother]}}]\\!]^{}_{\\langle{}e,e\\rangle{}}$</div><div style=\"vertical-align:bottom;text-align:center\">$\\lambda{} x_{e} \\: . \\: \\iota{} y_{e} \\: . \\: {MOTHER}_{\\langle{}e,\\langle{}e,t\\rangle{}\\rangle{}}({y}_{e})({x}_{e})$</div></div></td><td></td></tr></table></td><td style=\"vertical-align:bottom;padding:10px\">$\\circ$</td><td style=\"vertical-align:bottom;padding:5px\"><div style=\"margin-top:10px;border-style:solid;border-color:#848482;border-width:0px\"><div style=\"vertical-align:bottom;text-align:center\">$[\\![\\mathbf{\\text{Joanna}}]\\!]^{}_{e}$</div><div style=\"vertical-align:bottom;text-align:center\">${j}_{e}$</div></div></td></tr></table></td><td style=\"border-left:1px solid #848482;vertical-align:center;padding:10px\"><span style=\"color:blue\"><b>[FA]</b></span></td></tr><tr style=\"border-style:solid;border-color:#848482;border-width:0px 1px 1px 1px\"><td style=\"padding:5px\" align=\"center\"><div style=\"margin-top:10px;border-style:solid;border-color:#848482;border-width:0px\"><div style=\"vertical-align:bottom;text-align:center\">$[\\![\\mathbf{\\text{[[POSS_2 mother] Joanna]}}]\\!]^{}_{e}$</div><div style=\"vertical-align:bottom;text-align:center\">$\\iota{} y_{e} \\: . \\: {MOTHER}_{\\langle{}e,\\langle{}e,t\\rangle{}\\rangle{}}({y}_{e})({j}_{e})$</div></div></td><td></td></tr></table><br /><br />"
      ],
      "text/latex": [
       "1 composition path:<br /><style>.rendered_html table, .rendered_html tr, .rendered_html td, .rendered_html th { border: 0px; }</style><table><tr style=\"border:1px solid #848482\"><td style=\"vertical-align:bottom;padding:0px 10px\" align=\"center\"><table><tr><td style=\"vertical-align:bottom;padding:5px\"><table><tr style=\"border:1px solid #848482\"><td style=\"vertical-align:bottom;padding:0px 10px\" align=\"center\"><table><tr><td style=\"vertical-align:bottom;padding:5px\"><div style=\"margin-top:10px;border-style:solid;border-color:#848482;border-width:0px\"><div style=\"vertical-align:bottom;text-align:center\">$[\\![\\mathbf{\\text{POSS_2}}]\\!]^{}_{\\langle{}\\langle{}e,\\langle{}e,t\\rangle{}\\rangle{},\\langle{}e,e\\rangle{}\\rangle{}}$</div><div style=\"vertical-align:bottom;text-align:center\">$\\lambda{} prop_{\\langle{}e,\\langle{}e,t\\rangle{}\\rangle{}} \\: . \\: \\lambda{} x_{e} \\: . \\: \\iota{} y_{e} \\: . \\: {prop}_{\\langle{}e,\\langle{}e,t\\rangle{}\\rangle{}}({x}_{e})({y}_{e})$</div></div></td><td style=\"vertical-align:bottom;padding:10px\">$\\circ$</td><td style=\"vertical-align:bottom;padding:5px\"><div style=\"margin-top:10px;border-style:solid;border-color:#848482;border-width:0px\"><div style=\"vertical-align:bottom;text-align:center\">$[\\![\\mathbf{\\text{mother}}]\\!]^{}_{\\langle{}e,\\langle{}e,t\\rangle{}\\rangle{}}$</div><div style=\"vertical-align:bottom;text-align:center\">$\\lambda{} x_{e} \\: . \\: \\lambda{} y_{e} \\: . \\: {MOTHER}_{\\langle{}e,\\langle{}e,t\\rangle{}\\rangle{}}({y}_{e})({x}_{e})$</div></div></td></tr></table></td><td style=\"border-left:1px solid #848482;vertical-align:center;padding:10px\"><span style=\"color:blue\"><b>[FA]</b></span></td></tr><tr style=\"border-style:solid;border-color:#848482;border-width:0px 1px 1px 1px\"><td style=\"padding:5px\" align=\"center\"><div style=\"margin-top:10px;border-style:solid;border-color:#848482;border-width:0px\"><div style=\"vertical-align:bottom;text-align:center\">$[\\![\\mathbf{\\text{[POSS_2 mother]}}]\\!]^{}_{\\langle{}e,e\\rangle{}}$</div><div style=\"vertical-align:bottom;text-align:center\">$\\lambda{} x_{e} \\: . \\: \\iota{} y_{e} \\: . \\: {MOTHER}_{\\langle{}e,\\langle{}e,t\\rangle{}\\rangle{}}({y}_{e})({x}_{e})$</div></div></td><td></td></tr></table></td><td style=\"vertical-align:bottom;padding:10px\">$\\circ$</td><td style=\"vertical-align:bottom;padding:5px\"><div style=\"margin-top:10px;border-style:solid;border-color:#848482;border-width:0px\"><div style=\"vertical-align:bottom;text-align:center\">$[\\![\\mathbf{\\text{Joanna}}]\\!]^{}_{e}$</div><div style=\"vertical-align:bottom;text-align:center\">${j}_{e}$</div></div></td></tr></table></td><td style=\"border-left:1px solid #848482;vertical-align:center;padding:10px\"><span style=\"color:blue\"><b>[FA]</b></span></td></tr><tr style=\"border-style:solid;border-color:#848482;border-width:0px 1px 1px 1px\"><td style=\"padding:5px\" align=\"center\"><div style=\"margin-top:10px;border-style:solid;border-color:#848482;border-width:0px\"><div style=\"vertical-align:bottom;text-align:center\">$[\\![\\mathbf{\\text{[[POSS_2 mother] Joanna]}}]\\!]^{}_{e}$</div><div style=\"vertical-align:bottom;text-align:center\">$\\iota{} y_{e} \\: . \\: {MOTHER}_{\\langle{}e,\\langle{}e,t\\rangle{}\\rangle{}}({y}_{e})({j}_{e})$</div></div></td><td></td></tr></table><br /><br />"
      ],
      "text/plain": [
       "1 composition path:<br /><style>.rendered_html table, .rendered_html tr, .rendered_html td, .rendered_html th { border: 0px; }</style><table><tr style=\"border:1px solid #848482\"><td style=\"vertical-align:bottom;padding:0px 10px\" align=\"center\"><table><tr><td style=\"vertical-align:bottom;padding:5px\"><table><tr style=\"border:1px solid #848482\"><td style=\"vertical-align:bottom;padding:0px 10px\" align=\"center\"><table><tr><td style=\"vertical-align:bottom;padding:5px\"><div style=\"margin-top:10px;border-style:solid;border-color:#848482;border-width:0px\"><div style=\"vertical-align:bottom;text-align:center\">$[\\![\\mathbf{\\text{POSS_2}}]\\!]^{}_{\\langle{}\\langle{}e,\\langle{}e,t\\rangle{}\\rangle{},\\langle{}e,e\\rangle{}\\rangle{}}$</div><div style=\"vertical-align:bottom;text-align:center\">$\\lambda{} prop_{\\langle{}e,\\langle{}e,t\\rangle{}\\rangle{}} \\: . \\: \\lambda{} x_{e} \\: . \\: \\iota{} y_{e} \\: . \\: {prop}_{\\langle{}e,\\langle{}e,t\\rangle{}\\rangle{}}({x}_{e})({y}_{e})$</div></div></td><td style=\"vertical-align:bottom;padding:10px\">$\\circ$</td><td style=\"vertical-align:bottom;padding:5px\"><div style=\"margin-top:10px;border-style:solid;border-color:#848482;border-width:0px\"><div style=\"vertical-align:bottom;text-align:center\">$[\\![\\mathbf{\\text{mother}}]\\!]^{}_{\\langle{}e,\\langle{}e,t\\rangle{}\\rangle{}}$</div><div style=\"vertical-align:bottom;text-align:center\">$\\lambda{} x_{e} \\: . \\: \\lambda{} y_{e} \\: . \\: {MOTHER}_{\\langle{}e,\\langle{}e,t\\rangle{}\\rangle{}}({y}_{e})({x}_{e})$</div></div></td></tr></table></td><td style=\"border-left:1px solid #848482;vertical-align:center;padding:10px\"><span style=\"color:blue\"><b>[FA]</b></span></td></tr><tr style=\"border-style:solid;border-color:#848482;border-width:0px 1px 1px 1px\"><td style=\"padding:5px\" align=\"center\"><div style=\"margin-top:10px;border-style:solid;border-color:#848482;border-width:0px\"><div style=\"vertical-align:bottom;text-align:center\">$[\\![\\mathbf{\\text{[POSS_2 mother]}}]\\!]^{}_{\\langle{}e,e\\rangle{}}$</div><div style=\"vertical-align:bottom;text-align:center\">$\\lambda{} x_{e} \\: . \\: \\iota{} y_{e} \\: . \\: {MOTHER}_{\\langle{}e,\\langle{}e,t\\rangle{}\\rangle{}}({y}_{e})({x}_{e})$</div></div></td><td></td></tr></table></td><td style=\"vertical-align:bottom;padding:10px\">$\\circ$</td><td style=\"vertical-align:bottom;padding:5px\"><div style=\"margin-top:10px;border-style:solid;border-color:#848482;border-width:0px\"><div style=\"vertical-align:bottom;text-align:center\">$[\\![\\mathbf{\\text{Joanna}}]\\!]^{}_{e}$</div><div style=\"vertical-align:bottom;text-align:center\">${j}_{e}$</div></div></td></tr></table></td><td style=\"border-left:1px solid #848482;vertical-align:center;padding:10px\"><span style=\"color:blue\"><b>[FA]</b></span></td></tr><tr style=\"border-style:solid;border-color:#848482;border-width:0px 1px 1px 1px\"><td style=\"padding:5px\" align=\"center\"><div style=\"margin-top:10px;border-style:solid;border-color:#848482;border-width:0px\"><div style=\"vertical-align:bottom;text-align:center\">$[\\![\\mathbf{\\text{[[POSS_2 mother] Joanna]}}]\\!]^{}_{e}$</div><div style=\"vertical-align:bottom;text-align:center\">$\\iota{} y_{e} \\: . \\: {MOTHER}_{\\langle{}e,\\langle{}e,t\\rangle{}\\rangle{}}({y}_{e})({j}_{e})$</div></div></td><td></td></tr></table><br /><br />"
      ]
     },
     "execution_count": 6,
     "metadata": {},
     "output_type": "execute_result"
    }
   ],
   "source": [
    "(Joanna * (POSS_2 * mother)).tree()"
   ]
  },
  {
   "cell_type": "markdown",
   "metadata": {},
   "source": [
    "So, the entire phrase `\"Joanna's mother\"` has type **`e`**. <br><br>\n",
    "This is as it should be because it needs to combine with the transitive verb `\"talked to\"` which is of type `<e,<e,t>>` to return a one-place predicate of type `<e,t>`__*(KC: but also because it is a referential DP in the same way proper nouns are)*__. This returned property then combines with the entity `Alfonso` to return a truth value. The composition described here is performed in the following cell. "
   ]
  },
  {
   "cell_type": "code",
   "execution_count": 12,
   "metadata": {
    "collapsed": false
   },
   "outputs": [
    {
     "data": {
      "text/html": [
       "1 composition path:<br /><style>.rendered_html table, .rendered_html tr, .rendered_html td, .rendered_html th { border: 0px; }</style><table><tr style=\"border:1px solid #848482\"><td style=\"vertical-align:bottom;padding:0px 10px\" align=\"center\"><table><tr><td style=\"vertical-align:bottom;padding:5px\"><table><tr style=\"border:1px solid #848482\"><td style=\"vertical-align:bottom;padding:0px 10px\" align=\"center\"><table><tr><td style=\"vertical-align:bottom;padding:5px\"><div style=\"margin-top:10px;border-style:solid;border-color:#848482;border-width:0px\"><div style=\"vertical-align:bottom;text-align:center\">$[\\![\\mathbf{\\text{talk_to}}]\\!]^{}_{\\langle{}e,\\langle{}e,t\\rangle{}\\rangle{}}$</div><div style=\"vertical-align:bottom;text-align:center\">$\\lambda{} x_{e} \\: . \\: \\lambda{} y_{e} \\: . \\: {Talkto}({y}_{e}, {x}_{e})$</div></div></td><td style=\"vertical-align:bottom;padding:10px\">$\\circ$</td><td style=\"vertical-align:bottom;padding:5px\"><table><tr style=\"border:1px solid #848482\"><td style=\"vertical-align:bottom;padding:0px 10px\" align=\"center\"><table><tr><td style=\"vertical-align:bottom;padding:5px\"><table><tr style=\"border:1px solid #848482\"><td style=\"vertical-align:bottom;padding:0px 10px\" align=\"center\"><table><tr><td style=\"vertical-align:bottom;padding:5px\"><div style=\"margin-top:10px;border-style:solid;border-color:#848482;border-width:0px\"><div style=\"vertical-align:bottom;text-align:center\">$[\\![\\mathbf{\\text{POSS_2}}]\\!]^{}_{\\langle{}\\langle{}e,\\langle{}e,t\\rangle{}\\rangle{},\\langle{}e,e\\rangle{}\\rangle{}}$</div><div style=\"vertical-align:bottom;text-align:center\">$\\lambda{} prop_{\\langle{}e,\\langle{}e,t\\rangle{}\\rangle{}} \\: . \\: \\lambda{} x_{e} \\: . \\: \\iota{} y_{e} \\: . \\: {prop}_{\\langle{}e,\\langle{}e,t\\rangle{}\\rangle{}}({x}_{e})({y}_{e})$</div></div></td><td style=\"vertical-align:bottom;padding:10px\">$\\circ$</td><td style=\"vertical-align:bottom;padding:5px\"><div style=\"margin-top:10px;border-style:solid;border-color:#848482;border-width:0px\"><div style=\"vertical-align:bottom;text-align:center\">$[\\![\\mathbf{\\text{mother}}]\\!]^{}_{\\langle{}e,\\langle{}e,t\\rangle{}\\rangle{}}$</div><div style=\"vertical-align:bottom;text-align:center\">$\\lambda{} x_{e} \\: . \\: \\lambda{} y_{e} \\: . \\: {MOTHER}_{\\langle{}e,\\langle{}e,t\\rangle{}\\rangle{}}({y}_{e})({x}_{e})$</div></div></td></tr></table></td><td style=\"border-left:1px solid #848482;vertical-align:center;padding:10px\"><span style=\"color:blue\"><b>[FA]</b></span></td></tr><tr style=\"border-style:solid;border-color:#848482;border-width:0px 1px 1px 1px\"><td style=\"padding:5px\" align=\"center\"><div style=\"margin-top:10px;border-style:solid;border-color:#848482;border-width:0px\"><div style=\"vertical-align:bottom;text-align:center\">$[\\![\\mathbf{\\text{[POSS_2 mother]}}]\\!]^{}_{\\langle{}e,e\\rangle{}}$</div><div style=\"vertical-align:bottom;text-align:center\">$\\lambda{} x_{e} \\: . \\: \\iota{} y_{e} \\: . \\: {MOTHER}_{\\langle{}e,\\langle{}e,t\\rangle{}\\rangle{}}({y}_{e})({x}_{e})$</div></div></td><td></td></tr></table></td><td style=\"vertical-align:bottom;padding:10px\">$\\circ$</td><td style=\"vertical-align:bottom;padding:5px\"><div style=\"margin-top:10px;border-style:solid;border-color:#848482;border-width:0px\"><div style=\"vertical-align:bottom;text-align:center\">$[\\![\\mathbf{\\text{Joanna}}]\\!]^{}_{e}$</div><div style=\"vertical-align:bottom;text-align:center\">${j}_{e}$</div></div></td></tr></table></td><td style=\"border-left:1px solid #848482;vertical-align:center;padding:10px\"><span style=\"color:blue\"><b>[FA]</b></span></td></tr><tr style=\"border-style:solid;border-color:#848482;border-width:0px 1px 1px 1px\"><td style=\"padding:5px\" align=\"center\"><div style=\"margin-top:10px;border-style:solid;border-color:#848482;border-width:0px\"><div style=\"vertical-align:bottom;text-align:center\">$[\\![\\mathbf{\\text{[[POSS_2 mother] Joanna]}}]\\!]^{}_{e}$</div><div style=\"vertical-align:bottom;text-align:center\">$\\iota{} y_{e} \\: . \\: {MOTHER}_{\\langle{}e,\\langle{}e,t\\rangle{}\\rangle{}}({y}_{e})({j}_{e})$</div></div></td><td></td></tr></table></td></tr></table></td><td style=\"border-left:1px solid #848482;vertical-align:center;padding:10px\"><span style=\"color:blue\"><b>[FA]</b></span></td></tr><tr style=\"border-style:solid;border-color:#848482;border-width:0px 1px 1px 1px\"><td style=\"padding:5px\" align=\"center\"><div style=\"margin-top:10px;border-style:solid;border-color:#848482;border-width:0px\"><div style=\"vertical-align:bottom;text-align:center\">$[\\![\\mathbf{\\text{[talk_to [[POSS_2 mother] Joanna]]}}]\\!]^{}_{\\langle{}e,t\\rangle{}}$</div><div style=\"vertical-align:bottom;text-align:center\">$\\lambda{} y_{e} \\: . \\: {Talkto}({y}_{e}, \\iota{} y_{e} \\: . \\: {MOTHER}_{\\langle{}e,\\langle{}e,t\\rangle{}\\rangle{}}({y}_{e})({j}_{e}))$</div></div></td><td></td></tr></table></td><td style=\"vertical-align:bottom;padding:10px\">$\\circ$</td><td style=\"vertical-align:bottom;padding:5px\"><div style=\"margin-top:10px;border-style:solid;border-color:#848482;border-width:0px\"><div style=\"vertical-align:bottom;text-align:center\">$[\\![\\mathbf{\\text{Alfonso}}]\\!]^{}_{e}$</div><div style=\"vertical-align:bottom;text-align:center\">${a}_{e}$</div></div></td></tr></table></td><td style=\"border-left:1px solid #848482;vertical-align:center;padding:10px\"><span style=\"color:blue\"><b>[FA]</b></span></td></tr><tr style=\"border-style:solid;border-color:#848482;border-width:0px 1px 1px 1px\"><td style=\"padding:5px\" align=\"center\"><div style=\"margin-top:10px;border-style:solid;border-color:#848482;border-width:0px\"><div style=\"vertical-align:bottom;text-align:center\">$[\\![\\mathbf{\\text{[[talk_to [[POSS_2 mother] Joanna]] Alfonso]}}]\\!]^{}_{t}$</div><div style=\"vertical-align:bottom;text-align:center\">${Talkto}({a}_{e}, \\iota{} y_{e} \\: . \\: {MOTHER}_{\\langle{}e,\\langle{}e,t\\rangle{}\\rangle{}}({y}_{e})({j}_{e}))$</div></div></td><td></td></tr></table><br /><br />"
      ],
      "text/latex": [
       "1 composition path:<br /><style>.rendered_html table, .rendered_html tr, .rendered_html td, .rendered_html th { border: 0px; }</style><table><tr style=\"border:1px solid #848482\"><td style=\"vertical-align:bottom;padding:0px 10px\" align=\"center\"><table><tr><td style=\"vertical-align:bottom;padding:5px\"><table><tr style=\"border:1px solid #848482\"><td style=\"vertical-align:bottom;padding:0px 10px\" align=\"center\"><table><tr><td style=\"vertical-align:bottom;padding:5px\"><div style=\"margin-top:10px;border-style:solid;border-color:#848482;border-width:0px\"><div style=\"vertical-align:bottom;text-align:center\">$[\\![\\mathbf{\\text{talk_to}}]\\!]^{}_{\\langle{}e,\\langle{}e,t\\rangle{}\\rangle{}}$</div><div style=\"vertical-align:bottom;text-align:center\">$\\lambda{} x_{e} \\: . \\: \\lambda{} y_{e} \\: . \\: {Talkto}({y}_{e}, {x}_{e})$</div></div></td><td style=\"vertical-align:bottom;padding:10px\">$\\circ$</td><td style=\"vertical-align:bottom;padding:5px\"><table><tr style=\"border:1px solid #848482\"><td style=\"vertical-align:bottom;padding:0px 10px\" align=\"center\"><table><tr><td style=\"vertical-align:bottom;padding:5px\"><table><tr style=\"border:1px solid #848482\"><td style=\"vertical-align:bottom;padding:0px 10px\" align=\"center\"><table><tr><td style=\"vertical-align:bottom;padding:5px\"><div style=\"margin-top:10px;border-style:solid;border-color:#848482;border-width:0px\"><div style=\"vertical-align:bottom;text-align:center\">$[\\![\\mathbf{\\text{POSS_2}}]\\!]^{}_{\\langle{}\\langle{}e,\\langle{}e,t\\rangle{}\\rangle{},\\langle{}e,e\\rangle{}\\rangle{}}$</div><div style=\"vertical-align:bottom;text-align:center\">$\\lambda{} prop_{\\langle{}e,\\langle{}e,t\\rangle{}\\rangle{}} \\: . \\: \\lambda{} x_{e} \\: . \\: \\iota{} y_{e} \\: . \\: {prop}_{\\langle{}e,\\langle{}e,t\\rangle{}\\rangle{}}({x}_{e})({y}_{e})$</div></div></td><td style=\"vertical-align:bottom;padding:10px\">$\\circ$</td><td style=\"vertical-align:bottom;padding:5px\"><div style=\"margin-top:10px;border-style:solid;border-color:#848482;border-width:0px\"><div style=\"vertical-align:bottom;text-align:center\">$[\\![\\mathbf{\\text{mother}}]\\!]^{}_{\\langle{}e,\\langle{}e,t\\rangle{}\\rangle{}}$</div><div style=\"vertical-align:bottom;text-align:center\">$\\lambda{} x_{e} \\: . \\: \\lambda{} y_{e} \\: . \\: {MOTHER}_{\\langle{}e,\\langle{}e,t\\rangle{}\\rangle{}}({y}_{e})({x}_{e})$</div></div></td></tr></table></td><td style=\"border-left:1px solid #848482;vertical-align:center;padding:10px\"><span style=\"color:blue\"><b>[FA]</b></span></td></tr><tr style=\"border-style:solid;border-color:#848482;border-width:0px 1px 1px 1px\"><td style=\"padding:5px\" align=\"center\"><div style=\"margin-top:10px;border-style:solid;border-color:#848482;border-width:0px\"><div style=\"vertical-align:bottom;text-align:center\">$[\\![\\mathbf{\\text{[POSS_2 mother]}}]\\!]^{}_{\\langle{}e,e\\rangle{}}$</div><div style=\"vertical-align:bottom;text-align:center\">$\\lambda{} x_{e} \\: . \\: \\iota{} y_{e} \\: . \\: {MOTHER}_{\\langle{}e,\\langle{}e,t\\rangle{}\\rangle{}}({y}_{e})({x}_{e})$</div></div></td><td></td></tr></table></td><td style=\"vertical-align:bottom;padding:10px\">$\\circ$</td><td style=\"vertical-align:bottom;padding:5px\"><div style=\"margin-top:10px;border-style:solid;border-color:#848482;border-width:0px\"><div style=\"vertical-align:bottom;text-align:center\">$[\\![\\mathbf{\\text{Joanna}}]\\!]^{}_{e}$</div><div style=\"vertical-align:bottom;text-align:center\">${j}_{e}$</div></div></td></tr></table></td><td style=\"border-left:1px solid #848482;vertical-align:center;padding:10px\"><span style=\"color:blue\"><b>[FA]</b></span></td></tr><tr style=\"border-style:solid;border-color:#848482;border-width:0px 1px 1px 1px\"><td style=\"padding:5px\" align=\"center\"><div style=\"margin-top:10px;border-style:solid;border-color:#848482;border-width:0px\"><div style=\"vertical-align:bottom;text-align:center\">$[\\![\\mathbf{\\text{[[POSS_2 mother] Joanna]}}]\\!]^{}_{e}$</div><div style=\"vertical-align:bottom;text-align:center\">$\\iota{} y_{e} \\: . \\: {MOTHER}_{\\langle{}e,\\langle{}e,t\\rangle{}\\rangle{}}({y}_{e})({j}_{e})$</div></div></td><td></td></tr></table></td></tr></table></td><td style=\"border-left:1px solid #848482;vertical-align:center;padding:10px\"><span style=\"color:blue\"><b>[FA]</b></span></td></tr><tr style=\"border-style:solid;border-color:#848482;border-width:0px 1px 1px 1px\"><td style=\"padding:5px\" align=\"center\"><div style=\"margin-top:10px;border-style:solid;border-color:#848482;border-width:0px\"><div style=\"vertical-align:bottom;text-align:center\">$[\\![\\mathbf{\\text{[talk_to [[POSS_2 mother] Joanna]]}}]\\!]^{}_{\\langle{}e,t\\rangle{}}$</div><div style=\"vertical-align:bottom;text-align:center\">$\\lambda{} y_{e} \\: . \\: {Talkto}({y}_{e}, \\iota{} y_{e} \\: . \\: {MOTHER}_{\\langle{}e,\\langle{}e,t\\rangle{}\\rangle{}}({y}_{e})({j}_{e}))$</div></div></td><td></td></tr></table></td><td style=\"vertical-align:bottom;padding:10px\">$\\circ$</td><td style=\"vertical-align:bottom;padding:5px\"><div style=\"margin-top:10px;border-style:solid;border-color:#848482;border-width:0px\"><div style=\"vertical-align:bottom;text-align:center\">$[\\![\\mathbf{\\text{Alfonso}}]\\!]^{}_{e}$</div><div style=\"vertical-align:bottom;text-align:center\">${a}_{e}$</div></div></td></tr></table></td><td style=\"border-left:1px solid #848482;vertical-align:center;padding:10px\"><span style=\"color:blue\"><b>[FA]</b></span></td></tr><tr style=\"border-style:solid;border-color:#848482;border-width:0px 1px 1px 1px\"><td style=\"padding:5px\" align=\"center\"><div style=\"margin-top:10px;border-style:solid;border-color:#848482;border-width:0px\"><div style=\"vertical-align:bottom;text-align:center\">$[\\![\\mathbf{\\text{[[talk_to [[POSS_2 mother] Joanna]] Alfonso]}}]\\!]^{}_{t}$</div><div style=\"vertical-align:bottom;text-align:center\">${Talkto}({a}_{e}, \\iota{} y_{e} \\: . \\: {MOTHER}_{\\langle{}e,\\langle{}e,t\\rangle{}\\rangle{}}({y}_{e})({j}_{e}))$</div></div></td><td></td></tr></table><br /><br />"
      ],
      "text/plain": [
       "1 composition path:<br /><style>.rendered_html table, .rendered_html tr, .rendered_html td, .rendered_html th { border: 0px; }</style><table><tr style=\"border:1px solid #848482\"><td style=\"vertical-align:bottom;padding:0px 10px\" align=\"center\"><table><tr><td style=\"vertical-align:bottom;padding:5px\"><table><tr style=\"border:1px solid #848482\"><td style=\"vertical-align:bottom;padding:0px 10px\" align=\"center\"><table><tr><td style=\"vertical-align:bottom;padding:5px\"><div style=\"margin-top:10px;border-style:solid;border-color:#848482;border-width:0px\"><div style=\"vertical-align:bottom;text-align:center\">$[\\![\\mathbf{\\text{talk_to}}]\\!]^{}_{\\langle{}e,\\langle{}e,t\\rangle{}\\rangle{}}$</div><div style=\"vertical-align:bottom;text-align:center\">$\\lambda{} x_{e} \\: . \\: \\lambda{} y_{e} \\: . \\: {Talkto}({y}_{e}, {x}_{e})$</div></div></td><td style=\"vertical-align:bottom;padding:10px\">$\\circ$</td><td style=\"vertical-align:bottom;padding:5px\"><table><tr style=\"border:1px solid #848482\"><td style=\"vertical-align:bottom;padding:0px 10px\" align=\"center\"><table><tr><td style=\"vertical-align:bottom;padding:5px\"><table><tr style=\"border:1px solid #848482\"><td style=\"vertical-align:bottom;padding:0px 10px\" align=\"center\"><table><tr><td style=\"vertical-align:bottom;padding:5px\"><div style=\"margin-top:10px;border-style:solid;border-color:#848482;border-width:0px\"><div style=\"vertical-align:bottom;text-align:center\">$[\\![\\mathbf{\\text{POSS_2}}]\\!]^{}_{\\langle{}\\langle{}e,\\langle{}e,t\\rangle{}\\rangle{},\\langle{}e,e\\rangle{}\\rangle{}}$</div><div style=\"vertical-align:bottom;text-align:center\">$\\lambda{} prop_{\\langle{}e,\\langle{}e,t\\rangle{}\\rangle{}} \\: . \\: \\lambda{} x_{e} \\: . \\: \\iota{} y_{e} \\: . \\: {prop}_{\\langle{}e,\\langle{}e,t\\rangle{}\\rangle{}}({x}_{e})({y}_{e})$</div></div></td><td style=\"vertical-align:bottom;padding:10px\">$\\circ$</td><td style=\"vertical-align:bottom;padding:5px\"><div style=\"margin-top:10px;border-style:solid;border-color:#848482;border-width:0px\"><div style=\"vertical-align:bottom;text-align:center\">$[\\![\\mathbf{\\text{mother}}]\\!]^{}_{\\langle{}e,\\langle{}e,t\\rangle{}\\rangle{}}$</div><div style=\"vertical-align:bottom;text-align:center\">$\\lambda{} x_{e} \\: . \\: \\lambda{} y_{e} \\: . \\: {MOTHER}_{\\langle{}e,\\langle{}e,t\\rangle{}\\rangle{}}({y}_{e})({x}_{e})$</div></div></td></tr></table></td><td style=\"border-left:1px solid #848482;vertical-align:center;padding:10px\"><span style=\"color:blue\"><b>[FA]</b></span></td></tr><tr style=\"border-style:solid;border-color:#848482;border-width:0px 1px 1px 1px\"><td style=\"padding:5px\" align=\"center\"><div style=\"margin-top:10px;border-style:solid;border-color:#848482;border-width:0px\"><div style=\"vertical-align:bottom;text-align:center\">$[\\![\\mathbf{\\text{[POSS_2 mother]}}]\\!]^{}_{\\langle{}e,e\\rangle{}}$</div><div style=\"vertical-align:bottom;text-align:center\">$\\lambda{} x_{e} \\: . \\: \\iota{} y_{e} \\: . \\: {MOTHER}_{\\langle{}e,\\langle{}e,t\\rangle{}\\rangle{}}({y}_{e})({x}_{e})$</div></div></td><td></td></tr></table></td><td style=\"vertical-align:bottom;padding:10px\">$\\circ$</td><td style=\"vertical-align:bottom;padding:5px\"><div style=\"margin-top:10px;border-style:solid;border-color:#848482;border-width:0px\"><div style=\"vertical-align:bottom;text-align:center\">$[\\![\\mathbf{\\text{Joanna}}]\\!]^{}_{e}$</div><div style=\"vertical-align:bottom;text-align:center\">${j}_{e}$</div></div></td></tr></table></td><td style=\"border-left:1px solid #848482;vertical-align:center;padding:10px\"><span style=\"color:blue\"><b>[FA]</b></span></td></tr><tr style=\"border-style:solid;border-color:#848482;border-width:0px 1px 1px 1px\"><td style=\"padding:5px\" align=\"center\"><div style=\"margin-top:10px;border-style:solid;border-color:#848482;border-width:0px\"><div style=\"vertical-align:bottom;text-align:center\">$[\\![\\mathbf{\\text{[[POSS_2 mother] Joanna]}}]\\!]^{}_{e}$</div><div style=\"vertical-align:bottom;text-align:center\">$\\iota{} y_{e} \\: . \\: {MOTHER}_{\\langle{}e,\\langle{}e,t\\rangle{}\\rangle{}}({y}_{e})({j}_{e})$</div></div></td><td></td></tr></table></td></tr></table></td><td style=\"border-left:1px solid #848482;vertical-align:center;padding:10px\"><span style=\"color:blue\"><b>[FA]</b></span></td></tr><tr style=\"border-style:solid;border-color:#848482;border-width:0px 1px 1px 1px\"><td style=\"padding:5px\" align=\"center\"><div style=\"margin-top:10px;border-style:solid;border-color:#848482;border-width:0px\"><div style=\"vertical-align:bottom;text-align:center\">$[\\![\\mathbf{\\text{[talk_to [[POSS_2 mother] Joanna]]}}]\\!]^{}_{\\langle{}e,t\\rangle{}}$</div><div style=\"vertical-align:bottom;text-align:center\">$\\lambda{} y_{e} \\: . \\: {Talkto}({y}_{e}, \\iota{} y_{e} \\: . \\: {MOTHER}_{\\langle{}e,\\langle{}e,t\\rangle{}\\rangle{}}({y}_{e})({j}_{e}))$</div></div></td><td></td></tr></table></td><td style=\"vertical-align:bottom;padding:10px\">$\\circ$</td><td style=\"vertical-align:bottom;padding:5px\"><div style=\"margin-top:10px;border-style:solid;border-color:#848482;border-width:0px\"><div style=\"vertical-align:bottom;text-align:center\">$[\\![\\mathbf{\\text{Alfonso}}]\\!]^{}_{e}$</div><div style=\"vertical-align:bottom;text-align:center\">${a}_{e}$</div></div></td></tr></table></td><td style=\"border-left:1px solid #848482;vertical-align:center;padding:10px\"><span style=\"color:blue\"><b>[FA]</b></span></td></tr><tr style=\"border-style:solid;border-color:#848482;border-width:0px 1px 1px 1px\"><td style=\"padding:5px\" align=\"center\"><div style=\"margin-top:10px;border-style:solid;border-color:#848482;border-width:0px\"><div style=\"vertical-align:bottom;text-align:center\">$[\\![\\mathbf{\\text{[[talk_to [[POSS_2 mother] Joanna]] Alfonso]}}]\\!]^{}_{t}$</div><div style=\"vertical-align:bottom;text-align:center\">${Talkto}({a}_{e}, \\iota{} y_{e} \\: . \\: {MOTHER}_{\\langle{}e,\\langle{}e,t\\rangle{}\\rangle{}}({y}_{e})({j}_{e}))$</div></div></td><td></td></tr></table><br /><br />"
      ]
     },
     "execution_count": 12,
     "metadata": {},
     "output_type": "execute_result"
    }
   ],
   "source": [
    "(Alfonso * (talk_to * (Joanna * (POSS_2 * mother)))).tree()"
   ]
  },
  {
   "cell_type": "markdown",
   "metadata": {},
   "source": [
    "However, with book we would use the alternate denotation `POSS_1`. This is illustrated below:"
   ]
  },
  {
   "cell_type": "code",
   "execution_count": 23,
   "metadata": {
    "collapsed": false
   },
   "outputs": [
    {
     "data": {
      "text/html": [
       "1 composition path.  Result:\n",
       "<br />&nbsp;&nbsp;&nbsp;&nbsp;[0]: $[\\![\\mathbf{\\text{[[POSS_1 book] Joanna]}}]\\!]^{}_{e} \\:=\\: $$\\iota{} y_{e} \\: . \\: ({Book}({y}_{e}) \\wedge{} {POSSESSOR}({j}_{e}, {y}_{e}))$"
      ],
      "text/plain": [
       "CompositionResult(results=[⟦[[POSS_1 book] Joanna]⟧ = (ι y_e: (Book_<e,t>(y_e) & POSSESSOR_<(e,e),t>(j_e, y_e)))], failures=[⟦[Joanna [POSS_1 book]]⟧ = Type mismatch: '⟦Joanna⟧ = j_e'/e and '⟦[POSS_1 book]⟧ = (λ z_e: (ι y_e: (Book_<e,t>(y_e) & POSSESSOR_<(e,e),t>(z_e, y_e))))'/<e,e> conflict (mode: Function Application), ⟦[Joanna [POSS_1 book]]⟧ = Type mismatch: '⟦Joanna⟧ = j_e'/e and '⟦[POSS_1 book]⟧ = (λ z_e: (ι y_e: (Book_<e,t>(y_e) & POSSESSOR_<(e,e),t>(z_e, y_e))))'/<e,e> conflict (mode: Predicate Modification), ⟦[Joanna [POSS_1 book]]⟧ = Type mismatch: '⟦Joanna⟧ = j_e'/e and '⟦[POSS_1 book]⟧ = (λ z_e: (ι y_e: (Book_<e,t>(y_e) & POSSESSOR_<(e,e),t>(z_e, y_e))))'/<e,e> conflict (mode: Predicate Abstraction), ⟦[[POSS_1 book] Joanna]⟧ = Type mismatch: '⟦[POSS_1 book]⟧ = (λ z_e: (ι y_e: (Book_<e,t>(y_e) & POSSESSOR_<(e,e),t>(z_e, y_e))))'/<e,e> and '⟦Joanna⟧ = j_e'/e conflict (mode: Predicate Abstraction)])"
      ]
     },
     "execution_count": 23,
     "metadata": {},
     "output_type": "execute_result"
    }
   ],
   "source": [
    "Joanna * (POSS_1 * book)"
   ]
  },
  {
   "cell_type": "markdown",
   "metadata": {},
   "source": [
    "__*KC: part [c] 9/9*__"
   ]
  },
  {
   "cell_type": "markdown",
   "metadata": {},
   "source": [
    "**Part [d]** (grads, ugrad extra credit).  In the following cell(s) answer the question on the midterm.  You may insert as many new cells as you need, and use markdown cells to write any prose."
   ]
  },
  {
   "cell_type": "markdown",
   "metadata": {
    "collapsed": true
   },
   "source": [
    "In the analysis of the phrase `\"Joanna's mother\"`, it is possible to make a change to the LF such that the type of `POSS_2` is simplified from `<<e,<e,t>>,<e,e>>` to just `<<e,t>,e>`. The latter is the same type as that of the definite determiner `the`.<br><br>\n",
    "To do this, the possessive construction is moved higher up in LF above both `Joanna` and `mother`, such that it c-commands the subtree containing `Joanna` and `mother`. This has the consequence that `mother` first combines with `Joanna` via function application and reduces to a one-place predicate. `POSS_2` accepts this one place predicate and returns the single salient entity that satisfies it. This new denotation of `POSS_2` would look like this:"
   ]
  },
  {
   "cell_type": "code",
   "execution_count": 24,
   "metadata": {
    "collapsed": false
   },
   "outputs": [
    {
     "data": {
      "text/html": [
       "$[\\![\\mathbf{\\text{POSS_2_v2}}]\\!]^{}_{\\langle{}\\langle{}e,t\\rangle{},e\\rangle{}} \\:=\\: \\lambda{} f_{\\langle{}e,t\\rangle{}} \\: . \\: \\iota{} x_{e} \\: . \\: {f}_{\\langle{}e,t\\rangle{}}({x}_{e})$"
      ],
      "text/latex": [
       "$[\\![\\mathbf{\\text{POSS_2_v2}}]\\!]^{}_{\\langle{}\\langle{}e,t\\rangle{},e\\rangle{}} \\:=\\: \\lambda{} f_{\\langle{}e,t\\rangle{}} \\: . \\: \\iota{} x_{e} \\: . \\: {f}_{\\langle{}e,t\\rangle{}}({x}_{e})$"
      ],
      "text/plain": [
       "$[\\![\\mathbf{\\text{POSS_2_v2}}]\\!]^{}_{\\langle{}\\langle{}e,t\\rangle{},e\\rangle{}} \\:=\\: \\lambda{} f_{\\langle{}e,t\\rangle{}} \\: . \\: \\iota{} x_{e} \\: . \\: {f}_{\\langle{}e,t\\rangle{}}({x}_{e})$"
      ]
     },
     "execution_count": 24,
     "metadata": {},
     "output_type": "execute_result"
    }
   ],
   "source": [
    "%%lamb\n",
    "||POSS_2_v2|| = L f_<e,t> : Iota x_e : f(x)"
   ]
  },
  {
   "cell_type": "markdown",
   "metadata": {},
   "source": [
    "The composition for `\"Joanna's mother\"` would work as below:"
   ]
  },
  {
   "cell_type": "code",
   "execution_count": 25,
   "metadata": {
    "collapsed": false
   },
   "outputs": [
    {
     "data": {
      "text/html": [
       "1 composition path.  Result:\n",
       "<br />&nbsp;&nbsp;&nbsp;&nbsp;[0]: $[\\![\\mathbf{\\text{[POSS_2_v2 [mother Joanna]]}}]\\!]^{}_{e} \\:=\\: $$\\iota{} x_{e} \\: . \\: {MOTHER}_{\\langle{}e,\\langle{}e,t\\rangle{}\\rangle{}}({x}_{e})({j}_{e})$"
      ],
      "text/plain": [
       "CompositionResult(results=[⟦[POSS_2_v2 [mother Joanna]]⟧ = (ι x_e: MOTHER_<e,<e,t>>(x_e)(j_e))], failures=[⟦[[mother Joanna] POSS_2_v2]⟧ = Type mismatch: '⟦[mother Joanna]⟧ = (λ y_e: MOTHER_<e,<e,t>>(y_e)(j_e))'/<e,t> and '⟦POSS_2_v2⟧ = (λ f_<e,t>: (ι x_e: f_<e,t>(x_e)))'/<<e,t>,e> conflict (mode: Function Application), ⟦[POSS_2_v2 [mother Joanna]]⟧ = Type mismatch: '⟦POSS_2_v2⟧ = (λ f_<e,t>: (ι x_e: f_<e,t>(x_e)))'/<<e,t>,e> and '⟦[mother Joanna]⟧ = (λ y_e: MOTHER_<e,<e,t>>(y_e)(j_e))'/<e,t> conflict (mode: Predicate Modification), ⟦[POSS_2_v2 [mother Joanna]]⟧ = Type mismatch: '⟦POSS_2_v2⟧ = (λ f_<e,t>: (ι x_e: f_<e,t>(x_e)))'/<<e,t>,e> and '⟦[mother Joanna]⟧ = (λ y_e: MOTHER_<e,<e,t>>(y_e)(j_e))'/<e,t> conflict (mode: Predicate Abstraction), ⟦[[mother Joanna] POSS_2_v2]⟧ = Type mismatch: '⟦[mother Joanna]⟧ = (λ y_e: MOTHER_<e,<e,t>>(y_e)(j_e))'/<e,t> and '⟦POSS_2_v2⟧ = (λ f_<e,t>: (ι x_e: f_<e,t>(x_e)))'/<<e,t>,e> conflict (mode: Predicate Abstraction)])"
      ]
     },
     "execution_count": 25,
     "metadata": {},
     "output_type": "execute_result"
    }
   ],
   "source": [
    "(POSS_2_v2 * (Joanna * mother))"
   ]
  },
  {
   "cell_type": "markdown",
   "metadata": {},
   "source": [
    "This change in LF is motivated by the observation that there exist constructions such as `\"the mother of Joanna\"` in English, where the two-place predicate `mother` first combines with the entity `Joanna`, and is then acted upon by the definite determiner which picks out a single entity.<br><br>\n",
    "However, we cannot do the same thing with nouns like `book` or `chair`. Constructions like `\"the book of Christ\"` do not mean the same thing as `\"Christ's book\"`. Given this, it seems plausible that a similar change in LF is not warranted when the possessive construction is associated with simple properties like `book` and `chair`. In such cases, there is no modification to the LF and the analysis remains as explained in part (c). <br><br>\n",
    "It is worth noting however that constructions like `\"book of Joanna's\"` are allowed, and seem to mean the same thing as `\"Joanna's book\"`. I haven't completely thought through the implications of this, but such variations could be associated with a single LF that vary only in their phonological forms.<br>\n",
    "__*KC: 8/8*__"
   ]
  },
  {
   "cell_type": "markdown",
   "metadata": {},
   "source": [
    "**Part [e]** In the following cells, calculate the denotation of `A doctor met Joanna's mother`.  You will need to fill out the lexicon with a few more items, and then do the composition."
   ]
  },
  {
   "cell_type": "code",
   "execution_count": 9,
   "metadata": {
    "collapsed": false
   },
   "outputs": [
    {
     "name": "stderr",
     "output_type": "stream",
     "text": [
      "INFO (meta): Coerced guessed type t for 'Met_t' into <(e,e),t>, to match argument '(y_e, x_e)'\n"
     ]
    },
    {
     "data": {
      "text/html": [
       "$[\\![\\mathbf{\\text{doctor}}]\\!]^{}_{\\langle{}e,t\\rangle{}} \\:=\\: \\lambda{} x_{e} \\: . \\: {Doctor}({x}_{e})$<br />\n",
       "$[\\![\\mathbf{\\text{met}}]\\!]^{}_{\\langle{}e,\\langle{}e,t\\rangle{}\\rangle{}} \\:=\\: \\lambda{} x_{e} \\: . \\: \\lambda{} y_{e} \\: . \\: {Met}({y}_{e}, {x}_{e})$<br />\n",
       "$[\\![\\mathbf{\\text{a}}]\\!]^{}_{\\langle{}\\langle{}e,t\\rangle{},\\langle{}\\langle{}e,t\\rangle{},t\\rangle{}\\rangle{}} \\:=\\: \\lambda{} f_{\\langle{}e,t\\rangle{}} \\: . \\: \\lambda{} g_{\\langle{}e,t\\rangle{}} \\: . \\: \\exists{} x_{e} \\: . \\: ({f}_{\\langle{}e,t\\rangle{}}({x}_{e}) \\wedge{} {g}_{\\langle{}e,t\\rangle{}}({x}_{e}))$"
      ],
      "text/latex": [
       "$[\\![\\mathbf{\\text{doctor}}]\\!]^{}_{\\langle{}e,t\\rangle{}} \\:=\\: \\lambda{} x_{e} \\: . \\: {Doctor}({x}_{e})$<br />\n",
       "$[\\![\\mathbf{\\text{met}}]\\!]^{}_{\\langle{}e,\\langle{}e,t\\rangle{}\\rangle{}} \\:=\\: \\lambda{} x_{e} \\: . \\: \\lambda{} y_{e} \\: . \\: {Met}({y}_{e}, {x}_{e})$<br />\n",
       "$[\\![\\mathbf{\\text{a}}]\\!]^{}_{\\langle{}\\langle{}e,t\\rangle{},\\langle{}\\langle{}e,t\\rangle{},t\\rangle{}\\rangle{}} \\:=\\: \\lambda{} f_{\\langle{}e,t\\rangle{}} \\: . \\: \\lambda{} g_{\\langle{}e,t\\rangle{}} \\: . \\: \\exists{} x_{e} \\: . \\: ({f}_{\\langle{}e,t\\rangle{}}({x}_{e}) \\wedge{} {g}_{\\langle{}e,t\\rangle{}}({x}_{e}))$"
      ],
      "text/plain": [
       "$[\\![\\mathbf{\\text{doctor}}]\\!]^{}_{\\langle{}e,t\\rangle{}} \\:=\\: \\lambda{} x_{e} \\: . \\: {Doctor}({x}_{e})$<br />\n",
       "$[\\![\\mathbf{\\text{met}}]\\!]^{}_{\\langle{}e,\\langle{}e,t\\rangle{}\\rangle{}} \\:=\\: \\lambda{} x_{e} \\: . \\: \\lambda{} y_{e} \\: . \\: {Met}({y}_{e}, {x}_{e})$<br />\n",
       "$[\\![\\mathbf{\\text{a}}]\\!]^{}_{\\langle{}\\langle{}e,t\\rangle{},\\langle{}\\langle{}e,t\\rangle{},t\\rangle{}\\rangle{}} \\:=\\: \\lambda{} f_{\\langle{}e,t\\rangle{}} \\: . \\: \\lambda{} g_{\\langle{}e,t\\rangle{}} \\: . \\: \\exists{} x_{e} \\: . \\: ({f}_{\\langle{}e,t\\rangle{}}({x}_{e}) \\wedge{} {g}_{\\langle{}e,t\\rangle{}}({x}_{e}))$"
      ]
     },
     "execution_count": 9,
     "metadata": {},
     "output_type": "execute_result"
    }
   ],
   "source": [
    "%%lamb\n",
    "||doctor|| = L x_e: Doctor_<e,t>(x)\n",
    "||met|| = L x_e : L y_e : Met(y,x)\n",
    "||a|| = L f_<e,t> : L g_<e,t> : Exists x_e : f(x) & g(x)"
   ]
  },
  {
   "cell_type": "code",
   "execution_count": 11,
   "metadata": {
    "collapsed": false
   },
   "outputs": [
    {
     "data": {
      "text/html": [
       "Full composition trace.  1 path:<br />\n",
       "&nbsp;&nbsp;&nbsp;&nbsp;Step 1: $[\\![\\mathbf{\\text{a}}]\\!]^{}_{\\langle{}\\langle{}e,t\\rangle{},\\langle{}\\langle{}e,t\\rangle{},t\\rangle{}\\rangle{}} \\:=\\: $$\\lambda{} f_{\\langle{}e,t\\rangle{}} \\: . \\: \\lambda{} g_{\\langle{}e,t\\rangle{}} \\: . \\: \\exists{} x_{e} \\: . \\: ({f}_{\\langle{}e,t\\rangle{}}({x}_{e}) \\wedge{} {g}_{\\langle{}e,t\\rangle{}}({x}_{e}))$<br />\n",
       "&nbsp;&nbsp;&nbsp;&nbsp;Step 2: $[\\![\\mathbf{\\text{doctor}}]\\!]^{}_{\\langle{}e,t\\rangle{}} \\:=\\: $$\\lambda{} x_{e} \\: . \\: {Doctor}({x}_{e})$<br />\n",
       "&nbsp;&nbsp;&nbsp;&nbsp;Step 3: $[\\![\\mathbf{\\text{a}}]\\!]^{}_{\\langle{}\\langle{}e,t\\rangle{},\\langle{}\\langle{}e,t\\rangle{},t\\rangle{}\\rangle{}}$ * $[\\![\\mathbf{\\text{doctor}}]\\!]^{}_{\\langle{}e,t\\rangle{}}$ leads to: $[\\![\\mathbf{\\text{[a doctor]}}]\\!]^{}_{\\langle{}\\langle{}e,t\\rangle{},t\\rangle{}} \\:=\\: $$\\lambda{} g_{\\langle{}e,t\\rangle{}} \\: . \\: \\exists{} x_{e} \\: . \\: ({Doctor}({x}_{e}) \\wedge{} {g}_{\\langle{}e,t\\rangle{}}({x}_{e}))$ <b>[by FA]</b><br />\n",
       "&nbsp;&nbsp;&nbsp;&nbsp;Step 4: $[\\![\\mathbf{\\text{met}}]\\!]^{}_{\\langle{}e,\\langle{}e,t\\rangle{}\\rangle{}} \\:=\\: $$\\lambda{} x_{e} \\: . \\: \\lambda{} y_{e} \\: . \\: {Met}({y}_{e}, {x}_{e})$<br />\n",
       "&nbsp;&nbsp;&nbsp;&nbsp;Step 5: $[\\![\\mathbf{\\text{POSS_2}}]\\!]^{}_{\\langle{}\\langle{}e,\\langle{}e,t\\rangle{}\\rangle{},\\langle{}e,e\\rangle{}\\rangle{}} \\:=\\: $$\\lambda{} prop_{\\langle{}e,\\langle{}e,t\\rangle{}\\rangle{}} \\: . \\: \\lambda{} x_{e} \\: . \\: \\iota{} y_{e} \\: . \\: {prop}_{\\langle{}e,\\langle{}e,t\\rangle{}\\rangle{}}({x}_{e})({y}_{e})$<br />\n",
       "&nbsp;&nbsp;&nbsp;&nbsp;Step 6: $[\\![\\mathbf{\\text{mother}}]\\!]^{}_{\\langle{}e,\\langle{}e,t\\rangle{}\\rangle{}} \\:=\\: $$\\lambda{} x_{e} \\: . \\: \\lambda{} y_{e} \\: . \\: {Mother}_{\\langle{}e,\\langle{}e,t\\rangle{}\\rangle{}}({y}_{e})({x}_{e})$<br />\n",
       "&nbsp;&nbsp;&nbsp;&nbsp;Step 7: $[\\![\\mathbf{\\text{POSS_2}}]\\!]^{}_{\\langle{}\\langle{}e,\\langle{}e,t\\rangle{}\\rangle{},\\langle{}e,e\\rangle{}\\rangle{}}$ * $[\\![\\mathbf{\\text{mother}}]\\!]^{}_{\\langle{}e,\\langle{}e,t\\rangle{}\\rangle{}}$ leads to: $[\\![\\mathbf{\\text{[POSS_2 mother]}}]\\!]^{}_{\\langle{}e,e\\rangle{}} \\:=\\: $$\\lambda{} x_{e} \\: . \\: \\iota{} y_{e} \\: . \\: {Mother}_{\\langle{}e,\\langle{}e,t\\rangle{}\\rangle{}}({y}_{e})({x}_{e})$ <b>[by FA]</b><br />\n",
       "&nbsp;&nbsp;&nbsp;&nbsp;Step 8: $[\\![\\mathbf{\\text{Joanna}}]\\!]^{}_{e} \\:=\\: $${j}_{e}$<br />\n",
       "&nbsp;&nbsp;&nbsp;&nbsp;Step 9: $[\\![\\mathbf{\\text{[POSS_2 mother]}}]\\!]^{}_{\\langle{}e,e\\rangle{}}$ * $[\\![\\mathbf{\\text{Joanna}}]\\!]^{}_{e}$ leads to: $[\\![\\mathbf{\\text{[[POSS_2 mother] Joanna]}}]\\!]^{}_{e} \\:=\\: $$\\iota{} y_{e} \\: . \\: {Mother}_{\\langle{}e,\\langle{}e,t\\rangle{}\\rangle{}}({y}_{e})({j}_{e})$ <b>[by FA]</b><br />\n",
       "&nbsp;&nbsp;&nbsp;&nbsp;Step 10: $[\\![\\mathbf{\\text{met}}]\\!]^{}_{\\langle{}e,\\langle{}e,t\\rangle{}\\rangle{}}$ * $[\\![\\mathbf{\\text{[[POSS_2 mother] Joanna]}}]\\!]^{}_{e}$ leads to: $[\\![\\mathbf{\\text{[met [[POSS_2 mother] Joanna]]}}]\\!]^{}_{\\langle{}e,t\\rangle{}} \\:=\\: $$\\lambda{} y_{e} \\: . \\: {Met}({y}_{e}, \\iota{} y_{e} \\: . \\: {Mother}_{\\langle{}e,\\langle{}e,t\\rangle{}\\rangle{}}({y}_{e})({j}_{e}))$ <b>[by FA]</b><br />\n",
       "&nbsp;&nbsp;&nbsp;&nbsp;Step 11: $[\\![\\mathbf{\\text{[a doctor]}}]\\!]^{}_{\\langle{}\\langle{}e,t\\rangle{},t\\rangle{}}$ * $[\\![\\mathbf{\\text{[met [[POSS_2 mother] Joanna]]}}]\\!]^{}_{\\langle{}e,t\\rangle{}}$ leads to: $[\\![\\mathbf{\\text{[[a doctor] [met [[POSS_2 mother] Joanna]]]}}]\\!]^{}_{t} \\:=\\: $$\\exists{} x_{e} \\: . \\: ({Doctor}({x}_{e}) \\wedge{} {Met}({x}_{e}, \\iota{} y_{e} \\: . \\: {Mother}_{\\langle{}e,\\langle{}e,t\\rangle{}\\rangle{}}({y}_{e})({j}_{e})))$ <b>[by FA]</b><br />\n"
      ],
      "text/latex": [
       "Full composition trace.  1 path:<br />\n",
       "&nbsp;&nbsp;&nbsp;&nbsp;Step 1: $[\\![\\mathbf{\\text{a}}]\\!]^{}_{\\langle{}\\langle{}e,t\\rangle{},\\langle{}\\langle{}e,t\\rangle{},t\\rangle{}\\rangle{}} \\:=\\: $$\\lambda{} f_{\\langle{}e,t\\rangle{}} \\: . \\: \\lambda{} g_{\\langle{}e,t\\rangle{}} \\: . \\: \\exists{} x_{e} \\: . \\: ({f}_{\\langle{}e,t\\rangle{}}({x}_{e}) \\wedge{} {g}_{\\langle{}e,t\\rangle{}}({x}_{e}))$<br />\n",
       "&nbsp;&nbsp;&nbsp;&nbsp;Step 2: $[\\![\\mathbf{\\text{doctor}}]\\!]^{}_{\\langle{}e,t\\rangle{}} \\:=\\: $$\\lambda{} x_{e} \\: . \\: {Doctor}({x}_{e})$<br />\n",
       "&nbsp;&nbsp;&nbsp;&nbsp;Step 3: $[\\![\\mathbf{\\text{a}}]\\!]^{}_{\\langle{}\\langle{}e,t\\rangle{},\\langle{}\\langle{}e,t\\rangle{},t\\rangle{}\\rangle{}}$ * $[\\![\\mathbf{\\text{doctor}}]\\!]^{}_{\\langle{}e,t\\rangle{}}$ leads to: $[\\![\\mathbf{\\text{[a doctor]}}]\\!]^{}_{\\langle{}\\langle{}e,t\\rangle{},t\\rangle{}} \\:=\\: $$\\lambda{} g_{\\langle{}e,t\\rangle{}} \\: . \\: \\exists{} x_{e} \\: . \\: ({Doctor}({x}_{e}) \\wedge{} {g}_{\\langle{}e,t\\rangle{}}({x}_{e}))$ <b>[by FA]</b><br />\n",
       "&nbsp;&nbsp;&nbsp;&nbsp;Step 4: $[\\![\\mathbf{\\text{met}}]\\!]^{}_{\\langle{}e,\\langle{}e,t\\rangle{}\\rangle{}} \\:=\\: $$\\lambda{} x_{e} \\: . \\: \\lambda{} y_{e} \\: . \\: {Met}({y}_{e}, {x}_{e})$<br />\n",
       "&nbsp;&nbsp;&nbsp;&nbsp;Step 5: $[\\![\\mathbf{\\text{POSS_2}}]\\!]^{}_{\\langle{}\\langle{}e,\\langle{}e,t\\rangle{}\\rangle{},\\langle{}e,e\\rangle{}\\rangle{}} \\:=\\: $$\\lambda{} prop_{\\langle{}e,\\langle{}e,t\\rangle{}\\rangle{}} \\: . \\: \\lambda{} x_{e} \\: . \\: \\iota{} y_{e} \\: . \\: {prop}_{\\langle{}e,\\langle{}e,t\\rangle{}\\rangle{}}({x}_{e})({y}_{e})$<br />\n",
       "&nbsp;&nbsp;&nbsp;&nbsp;Step 6: $[\\![\\mathbf{\\text{mother}}]\\!]^{}_{\\langle{}e,\\langle{}e,t\\rangle{}\\rangle{}} \\:=\\: $$\\lambda{} x_{e} \\: . \\: \\lambda{} y_{e} \\: . \\: {Mother}_{\\langle{}e,\\langle{}e,t\\rangle{}\\rangle{}}({y}_{e})({x}_{e})$<br />\n",
       "&nbsp;&nbsp;&nbsp;&nbsp;Step 7: $[\\![\\mathbf{\\text{POSS_2}}]\\!]^{}_{\\langle{}\\langle{}e,\\langle{}e,t\\rangle{}\\rangle{},\\langle{}e,e\\rangle{}\\rangle{}}$ * $[\\![\\mathbf{\\text{mother}}]\\!]^{}_{\\langle{}e,\\langle{}e,t\\rangle{}\\rangle{}}$ leads to: $[\\![\\mathbf{\\text{[POSS_2 mother]}}]\\!]^{}_{\\langle{}e,e\\rangle{}} \\:=\\: $$\\lambda{} x_{e} \\: . \\: \\iota{} y_{e} \\: . \\: {Mother}_{\\langle{}e,\\langle{}e,t\\rangle{}\\rangle{}}({y}_{e})({x}_{e})$ <b>[by FA]</b><br />\n",
       "&nbsp;&nbsp;&nbsp;&nbsp;Step 8: $[\\![\\mathbf{\\text{Joanna}}]\\!]^{}_{e} \\:=\\: $${j}_{e}$<br />\n",
       "&nbsp;&nbsp;&nbsp;&nbsp;Step 9: $[\\![\\mathbf{\\text{[POSS_2 mother]}}]\\!]^{}_{\\langle{}e,e\\rangle{}}$ * $[\\![\\mathbf{\\text{Joanna}}]\\!]^{}_{e}$ leads to: $[\\![\\mathbf{\\text{[[POSS_2 mother] Joanna]}}]\\!]^{}_{e} \\:=\\: $$\\iota{} y_{e} \\: . \\: {Mother}_{\\langle{}e,\\langle{}e,t\\rangle{}\\rangle{}}({y}_{e})({j}_{e})$ <b>[by FA]</b><br />\n",
       "&nbsp;&nbsp;&nbsp;&nbsp;Step 10: $[\\![\\mathbf{\\text{met}}]\\!]^{}_{\\langle{}e,\\langle{}e,t\\rangle{}\\rangle{}}$ * $[\\![\\mathbf{\\text{[[POSS_2 mother] Joanna]}}]\\!]^{}_{e}$ leads to: $[\\![\\mathbf{\\text{[met [[POSS_2 mother] Joanna]]}}]\\!]^{}_{\\langle{}e,t\\rangle{}} \\:=\\: $$\\lambda{} y_{e} \\: . \\: {Met}({y}_{e}, \\iota{} y_{e} \\: . \\: {Mother}_{\\langle{}e,\\langle{}e,t\\rangle{}\\rangle{}}({y}_{e})({j}_{e}))$ <b>[by FA]</b><br />\n",
       "&nbsp;&nbsp;&nbsp;&nbsp;Step 11: $[\\![\\mathbf{\\text{[a doctor]}}]\\!]^{}_{\\langle{}\\langle{}e,t\\rangle{},t\\rangle{}}$ * $[\\![\\mathbf{\\text{[met [[POSS_2 mother] Joanna]]}}]\\!]^{}_{\\langle{}e,t\\rangle{}}$ leads to: $[\\![\\mathbf{\\text{[[a doctor] [met [[POSS_2 mother] Joanna]]]}}]\\!]^{}_{t} \\:=\\: $$\\exists{} x_{e} \\: . \\: ({Doctor}({x}_{e}) \\wedge{} {Met}({x}_{e}, \\iota{} y_{e} \\: . \\: {Mother}_{\\langle{}e,\\langle{}e,t\\rangle{}\\rangle{}}({y}_{e})({j}_{e})))$ <b>[by FA]</b><br />\n"
      ],
      "text/plain": [
       "Full composition trace.  1 path:<br />\n",
       "&nbsp;&nbsp;&nbsp;&nbsp;Step 1: $[\\![\\mathbf{\\text{a}}]\\!]^{}_{\\langle{}\\langle{}e,t\\rangle{},\\langle{}\\langle{}e,t\\rangle{},t\\rangle{}\\rangle{}} \\:=\\: $$\\lambda{} f_{\\langle{}e,t\\rangle{}} \\: . \\: \\lambda{} g_{\\langle{}e,t\\rangle{}} \\: . \\: \\exists{} x_{e} \\: . \\: ({f}_{\\langle{}e,t\\rangle{}}({x}_{e}) \\wedge{} {g}_{\\langle{}e,t\\rangle{}}({x}_{e}))$<br />\n",
       "&nbsp;&nbsp;&nbsp;&nbsp;Step 2: $[\\![\\mathbf{\\text{doctor}}]\\!]^{}_{\\langle{}e,t\\rangle{}} \\:=\\: $$\\lambda{} x_{e} \\: . \\: {Doctor}({x}_{e})$<br />\n",
       "&nbsp;&nbsp;&nbsp;&nbsp;Step 3: $[\\![\\mathbf{\\text{a}}]\\!]^{}_{\\langle{}\\langle{}e,t\\rangle{},\\langle{}\\langle{}e,t\\rangle{},t\\rangle{}\\rangle{}}$ * $[\\![\\mathbf{\\text{doctor}}]\\!]^{}_{\\langle{}e,t\\rangle{}}$ leads to: $[\\![\\mathbf{\\text{[a doctor]}}]\\!]^{}_{\\langle{}\\langle{}e,t\\rangle{},t\\rangle{}} \\:=\\: $$\\lambda{} g_{\\langle{}e,t\\rangle{}} \\: . \\: \\exists{} x_{e} \\: . \\: ({Doctor}({x}_{e}) \\wedge{} {g}_{\\langle{}e,t\\rangle{}}({x}_{e}))$ <b>[by FA]</b><br />\n",
       "&nbsp;&nbsp;&nbsp;&nbsp;Step 4: $[\\![\\mathbf{\\text{met}}]\\!]^{}_{\\langle{}e,\\langle{}e,t\\rangle{}\\rangle{}} \\:=\\: $$\\lambda{} x_{e} \\: . \\: \\lambda{} y_{e} \\: . \\: {Met}({y}_{e}, {x}_{e})$<br />\n",
       "&nbsp;&nbsp;&nbsp;&nbsp;Step 5: $[\\![\\mathbf{\\text{POSS_2}}]\\!]^{}_{\\langle{}\\langle{}e,\\langle{}e,t\\rangle{}\\rangle{},\\langle{}e,e\\rangle{}\\rangle{}} \\:=\\: $$\\lambda{} prop_{\\langle{}e,\\langle{}e,t\\rangle{}\\rangle{}} \\: . \\: \\lambda{} x_{e} \\: . \\: \\iota{} y_{e} \\: . \\: {prop}_{\\langle{}e,\\langle{}e,t\\rangle{}\\rangle{}}({x}_{e})({y}_{e})$<br />\n",
       "&nbsp;&nbsp;&nbsp;&nbsp;Step 6: $[\\![\\mathbf{\\text{mother}}]\\!]^{}_{\\langle{}e,\\langle{}e,t\\rangle{}\\rangle{}} \\:=\\: $$\\lambda{} x_{e} \\: . \\: \\lambda{} y_{e} \\: . \\: {Mother}_{\\langle{}e,\\langle{}e,t\\rangle{}\\rangle{}}({y}_{e})({x}_{e})$<br />\n",
       "&nbsp;&nbsp;&nbsp;&nbsp;Step 7: $[\\![\\mathbf{\\text{POSS_2}}]\\!]^{}_{\\langle{}\\langle{}e,\\langle{}e,t\\rangle{}\\rangle{},\\langle{}e,e\\rangle{}\\rangle{}}$ * $[\\![\\mathbf{\\text{mother}}]\\!]^{}_{\\langle{}e,\\langle{}e,t\\rangle{}\\rangle{}}$ leads to: $[\\![\\mathbf{\\text{[POSS_2 mother]}}]\\!]^{}_{\\langle{}e,e\\rangle{}} \\:=\\: $$\\lambda{} x_{e} \\: . \\: \\iota{} y_{e} \\: . \\: {Mother}_{\\langle{}e,\\langle{}e,t\\rangle{}\\rangle{}}({y}_{e})({x}_{e})$ <b>[by FA]</b><br />\n",
       "&nbsp;&nbsp;&nbsp;&nbsp;Step 8: $[\\![\\mathbf{\\text{Joanna}}]\\!]^{}_{e} \\:=\\: $${j}_{e}$<br />\n",
       "&nbsp;&nbsp;&nbsp;&nbsp;Step 9: $[\\![\\mathbf{\\text{[POSS_2 mother]}}]\\!]^{}_{\\langle{}e,e\\rangle{}}$ * $[\\![\\mathbf{\\text{Joanna}}]\\!]^{}_{e}$ leads to: $[\\![\\mathbf{\\text{[[POSS_2 mother] Joanna]}}]\\!]^{}_{e} \\:=\\: $$\\iota{} y_{e} \\: . \\: {Mother}_{\\langle{}e,\\langle{}e,t\\rangle{}\\rangle{}}({y}_{e})({j}_{e})$ <b>[by FA]</b><br />\n",
       "&nbsp;&nbsp;&nbsp;&nbsp;Step 10: $[\\![\\mathbf{\\text{met}}]\\!]^{}_{\\langle{}e,\\langle{}e,t\\rangle{}\\rangle{}}$ * $[\\![\\mathbf{\\text{[[POSS_2 mother] Joanna]}}]\\!]^{}_{e}$ leads to: $[\\![\\mathbf{\\text{[met [[POSS_2 mother] Joanna]]}}]\\!]^{}_{\\langle{}e,t\\rangle{}} \\:=\\: $$\\lambda{} y_{e} \\: . \\: {Met}({y}_{e}, \\iota{} y_{e} \\: . \\: {Mother}_{\\langle{}e,\\langle{}e,t\\rangle{}\\rangle{}}({y}_{e})({j}_{e}))$ <b>[by FA]</b><br />\n",
       "&nbsp;&nbsp;&nbsp;&nbsp;Step 11: $[\\![\\mathbf{\\text{[a doctor]}}]\\!]^{}_{\\langle{}\\langle{}e,t\\rangle{},t\\rangle{}}$ * $[\\![\\mathbf{\\text{[met [[POSS_2 mother] Joanna]]}}]\\!]^{}_{\\langle{}e,t\\rangle{}}$ leads to: $[\\![\\mathbf{\\text{[[a doctor] [met [[POSS_2 mother] Joanna]]]}}]\\!]^{}_{t} \\:=\\: $$\\exists{} x_{e} \\: . \\: ({Doctor}({x}_{e}) \\wedge{} {Met}({x}_{e}, \\iota{} y_{e} \\: . \\: {Mother}_{\\langle{}e,\\langle{}e,t\\rangle{}\\rangle{}}({y}_{e})({j}_{e})))$ <b>[by FA]</b><br />"
      ]
     },
     "execution_count": 11,
     "metadata": {},
     "output_type": "execute_result"
    }
   ],
   "source": [
    "((a * doctor) * (met * (Joanna * (POSS_2 * mother)))).trace()"
   ]
  },
  {
   "cell_type": "markdown",
   "metadata": {},
   "source": [
    "__*KC: part [e] 8/8*__"
   ]
  },
  {
   "cell_type": "markdown",
   "metadata": {},
   "source": [
    "## 3. Expressive adjectives\n",
    "\n",
    "If you like, you can do some or all of this problem in the lambda notebook; I won't provide a template though."
   ]
  },
  {
   "cell_type": "markdown",
   "metadata": {
    "collapsed": true
   },
   "source": [
    "** (a) **Here, we will explore expressive adjectives in English such as `fucking`, `damn`, `darn` etc.\n",
    "A common use of such adjectives is as in (1).<br><br>\n",
    "(1) Alfonso broke the {darn/damn/fucking} computer.<br><br>\n",
    "Intuitively, it seems like these epithets perform the function of marking emphasis on the noun that they precede. There are also cases where they precede other expressive adjectives (as in (2) below). When this happens, they seem to further emphasize the meaning conveyed by the adjective, in addition to being an ordinary focus marker. <br><br>\n",
    "(2) This movie is fucking awesome. <br>"
   ]
  },
  {
   "cell_type": "markdown",
   "metadata": {},
   "source": [
    "While my initial thought was also that these epithets convey the speaker's negative attitude towards the noun it cooccurs with, I now don't think that's true because of data like below, where such a negative attitude does not seem to exist:<br><br>\n",
    "(3) That fucking book changed my life.<br>\n",
    "(4) My fucking song went viral on YouTube.<br><br>\n",
    "\n",
    "(2) above also does not seem to convey negative attitude, even though in this case `fucking` precedes an adjective and not a noun.<br><br>"
   ]
  },
  {
   "cell_type": "markdown",
   "metadata": {},
   "source": [
    "Let's focus on the word `\"fucking\"` for a moment. It can precede words belonging to a number of grammatical categories, and in each case it seems to be doing the job of a focus marker as well.<br><br>\n",
    "(5) **Fucking Alfonso** broke the computer<br>\n",
    "(6) Alfonso **fucking broke** the computer<br>\n",
    "(7) Alfonso broke the **fucking computer**<br>"
   ]
  },
  {
   "cell_type": "markdown",
   "metadata": {},
   "source": [
    "The focus marking due to epithets is projected from within embeddings.<br><br>\n",
    "(3) I wonder if the **fucking computer** is fixed<br>\n",
    "(4) John believed that the **fucking computer** was fixed<br>\n",
    "(5) If the **fucking computer** isn't fixed by tomorrow, Alfonso will be mad<br>\n",
    "\n",
    "__*KC: 11/11*__\n"
   ]
  },
  {
   "cell_type": "markdown",
   "metadata": {},
   "source": [
    "** (b) ** Ordinarily, intonational focus marking is considered a conversational implicature. However, in the case of epithets like `\"fucking\"`, the focus marking is explicitly associated with a lexical item. Because of this, it seems more appropriate to classify this as a conventional implicature instead. Conventional implicatures are not cancellable, but as observed above, the implicature projects from embeddings.<br><br>\n",
    "Here are a couple of examples of the implicature in action:<br><br>\n",
    "**A**: What did Alfonso do?<br><br>\n",
    "**B**: Alfonso fucking broke the computer.<br><br>\n",
    "The implicature is that the important thing here is that Alfonso **broke** the computer. That is, he could have done other things with it like handle it carefully, lose it, or drop it, but instead he \"fucking broke\" it.<br><br>\n",
    "**B'**: Alfonso broke the fucking computer<br><br>\n",
    "In `B'`, the important thing is that it was the **computer** that Alfonso broke. It might have been OK had he broken the TV or the phone, but instead he had to go break the \"fucking computer\".<br><br>\n",
    "\n",
    "__*KC: since the question also asks you to entertain the possibility that they are presupposiitons, it would also be good to show some projection tests.  9/11*__\n"
   ]
  },
  {
   "cell_type": "markdown",
   "metadata": {},
   "source": [
    "** (c) ** Here we will analyze the sentence `Alfonso broke the fucking computer` compositionally."
   ]
  },
  {
   "cell_type": "code",
   "execution_count": 7,
   "metadata": {
    "collapsed": false
   },
   "outputs": [
    {
     "name": "stderr",
     "output_type": "stream",
     "text": [
      "INFO (meta): Coerced guessed type t for 'Broke_t' into <e,t>, to match argument 'y_e'\n",
      "INFO (meta): Coerced guessed type t for 'Broke_<e,t>(y_e)' into <e,t>, to match argument 'x_e'\n",
      "INFO (meta): Coerced guessed type t for 'Computer_t' into <e,t>, to match argument 'x_e'\n"
     ]
    },
    {
     "data": {
      "text/html": [
       "$[\\![\\mathbf{\\text{Alfonso}}]\\!]^{}_{e} \\:=\\: {a}_{e}$<br />\n",
       "$[\\![\\mathbf{\\text{broke}}]\\!]^{}_{\\langle{}e,\\langle{}e,t\\rangle{}\\rangle{}} \\:=\\: \\lambda{} x_{e} \\: . \\: \\lambda{} y_{e} \\: . \\: {Broke}_{\\langle{}e,\\langle{}e,t\\rangle{}\\rangle{}}({y}_{e})({x}_{e})$<br />\n",
       "${c}_{\\{e\\}}\\:=\\:{c}_{\\{e\\}}$<br />\n",
       "$[\\![\\mathbf{\\text{the}}]\\!]^{}_{\\langle{}\\langle{}e,t\\rangle{},e\\rangle{}} \\:=\\: \\lambda{} f_{\\langle{}e,t\\rangle{}} \\: . \\: \\iota{} x_{e} \\: . \\: ({f}_{\\langle{}e,t\\rangle{}}({x}_{e}) \\wedge{} ({x}_{e} \\in{} {c}_{\\{e\\}}))$<br />\n",
       "$[\\![\\mathbf{\\text{computer}}]\\!]^{}_{\\langle{}e,t\\rangle{}} \\:=\\: \\lambda{} x_{e} \\: . \\: {Computer}({x}_{e})$<br />\n",
       "$[\\![\\mathbf{\\text{fucking}}]\\!]^{}_{\\langle{}\\langle{}e,t\\rangle{},\\langle{}e,t\\rangle{}\\rangle{}} \\:=\\: \\lambda{} f_{\\langle{}e,t\\rangle{}} \\: . \\: {f}_{\\langle{}e,t\\rangle{}}$"
      ],
      "text/latex": [
       "$[\\![\\mathbf{\\text{Alfonso}}]\\!]^{}_{e} \\:=\\: {a}_{e}$<br />\n",
       "$[\\![\\mathbf{\\text{broke}}]\\!]^{}_{\\langle{}e,\\langle{}e,t\\rangle{}\\rangle{}} \\:=\\: \\lambda{} x_{e} \\: . \\: \\lambda{} y_{e} \\: . \\: {Broke}_{\\langle{}e,\\langle{}e,t\\rangle{}\\rangle{}}({y}_{e})({x}_{e})$<br />\n",
       "${c}_{\\{e\\}}\\:=\\:{c}_{\\{e\\}}$<br />\n",
       "$[\\![\\mathbf{\\text{the}}]\\!]^{}_{\\langle{}\\langle{}e,t\\rangle{},e\\rangle{}} \\:=\\: \\lambda{} f_{\\langle{}e,t\\rangle{}} \\: . \\: \\iota{} x_{e} \\: . \\: ({f}_{\\langle{}e,t\\rangle{}}({x}_{e}) \\wedge{} ({x}_{e} \\in{} {c}_{\\{e\\}}))$<br />\n",
       "$[\\![\\mathbf{\\text{computer}}]\\!]^{}_{\\langle{}e,t\\rangle{}} \\:=\\: \\lambda{} x_{e} \\: . \\: {Computer}({x}_{e})$<br />\n",
       "$[\\![\\mathbf{\\text{fucking}}]\\!]^{}_{\\langle{}\\langle{}e,t\\rangle{},\\langle{}e,t\\rangle{}\\rangle{}} \\:=\\: \\lambda{} f_{\\langle{}e,t\\rangle{}} \\: . \\: {f}_{\\langle{}e,t\\rangle{}}$"
      ],
      "text/plain": [
       "$[\\![\\mathbf{\\text{Alfonso}}]\\!]^{}_{e} \\:=\\: {a}_{e}$<br />\n",
       "$[\\![\\mathbf{\\text{broke}}]\\!]^{}_{\\langle{}e,\\langle{}e,t\\rangle{}\\rangle{}} \\:=\\: \\lambda{} x_{e} \\: . \\: \\lambda{} y_{e} \\: . \\: {Broke}_{\\langle{}e,\\langle{}e,t\\rangle{}\\rangle{}}({y}_{e})({x}_{e})$<br />\n",
       "${c}_{\\{e\\}}\\:=\\:{c}_{\\{e\\}}$<br />\n",
       "$[\\![\\mathbf{\\text{the}}]\\!]^{}_{\\langle{}\\langle{}e,t\\rangle{},e\\rangle{}} \\:=\\: \\lambda{} f_{\\langle{}e,t\\rangle{}} \\: . \\: \\iota{} x_{e} \\: . \\: ({f}_{\\langle{}e,t\\rangle{}}({x}_{e}) \\wedge{} ({x}_{e} \\in{} {c}_{\\{e\\}}))$<br />\n",
       "$[\\![\\mathbf{\\text{computer}}]\\!]^{}_{\\langle{}e,t\\rangle{}} \\:=\\: \\lambda{} x_{e} \\: . \\: {Computer}({x}_{e})$<br />\n",
       "$[\\![\\mathbf{\\text{fucking}}]\\!]^{}_{\\langle{}\\langle{}e,t\\rangle{},\\langle{}e,t\\rangle{}\\rangle{}} \\:=\\: \\lambda{} f_{\\langle{}e,t\\rangle{}} \\: . \\: {f}_{\\langle{}e,t\\rangle{}}$"
      ]
     },
     "execution_count": 7,
     "metadata": {},
     "output_type": "execute_result"
    }
   ],
   "source": [
    "%%lamb\n",
    "||Alfonso|| = a_e\n",
    "||broke|| = L x_e : L y_e : Broke(y)(x) ## y broke x\n",
    "c_{e} = c_{e}\n",
    "||the|| = L f_<e,t> : Iota x_e : (f(x) & x << c)\n",
    "||computer|| = L x_e : Computer(x)\n",
    "||fucking|| = L f_<e,t> : f   ## returns the same property, i.e. semantically acts as an identity function, but is pragmatically focus marked."
   ]
  },
  {
   "cell_type": "markdown",
   "metadata": {},
   "source": [
    "The semantic denotation of `fucking` is same as that of an identity function. That is, it does not add anything to the at-issue meaning of the sentence. However, there is pragmatic focus marking as described above. It is not clear to me how to express implicatures in lambda calculus, but if there is a way to formalize implicatures, that is where the focus denotation of words like `fucking` would go.\n",
    "\n",
    "__*KC: 11/11*__"
   ]
  },
  {
   "cell_type": "code",
   "execution_count": 33,
   "metadata": {
    "collapsed": false
   },
   "outputs": [
    {
     "data": {
      "text/html": [
       "Full composition trace.  1 path:<br />\n",
       "&nbsp;&nbsp;&nbsp;&nbsp;Step 1: $[\\![\\mathbf{\\text{broke}}]\\!]^{}_{\\langle{}e,\\langle{}e,t\\rangle{}\\rangle{}} \\:=\\: $$\\lambda{} x_{e} \\: . \\: \\lambda{} y_{e} \\: . \\: {Broke}_{\\langle{}e,\\langle{}e,t\\rangle{}\\rangle{}}({y}_{e})({x}_{e})$<br />\n",
       "&nbsp;&nbsp;&nbsp;&nbsp;Step 2: $[\\![\\mathbf{\\text{the}}]\\!]^{}_{\\langle{}\\langle{}e,t\\rangle{},e\\rangle{}} \\:=\\: $$\\lambda{} f_{\\langle{}e,t\\rangle{}} \\: . \\: \\iota{} x_{e} \\: . \\: ({f}_{\\langle{}e,t\\rangle{}}({x}_{e}) \\wedge{} ({x}_{e} \\in{} {c}_{\\{e\\}}))$<br />\n",
       "&nbsp;&nbsp;&nbsp;&nbsp;Step 3: $[\\![\\mathbf{\\text{fucking}}]\\!]^{}_{\\langle{}\\langle{}e,t\\rangle{},\\langle{}e,t\\rangle{}\\rangle{}} \\:=\\: $$\\lambda{} f_{\\langle{}e,t\\rangle{}} \\: . \\: {f}_{\\langle{}e,t\\rangle{}}$<br />\n",
       "&nbsp;&nbsp;&nbsp;&nbsp;Step 4: $[\\![\\mathbf{\\text{computer}}]\\!]^{}_{\\langle{}e,t\\rangle{}} \\:=\\: $$\\lambda{} x_{e} \\: . \\: {Computer}({x}_{e})$<br />\n",
       "&nbsp;&nbsp;&nbsp;&nbsp;Step 5: $[\\![\\mathbf{\\text{fucking}}]\\!]^{}_{\\langle{}\\langle{}e,t\\rangle{},\\langle{}e,t\\rangle{}\\rangle{}}$ * $[\\![\\mathbf{\\text{computer}}]\\!]^{}_{\\langle{}e,t\\rangle{}}$ leads to: $[\\![\\mathbf{\\text{[fucking computer]}}]\\!]^{}_{\\langle{}e,t\\rangle{}} \\:=\\: $$\\lambda{} x_{e} \\: . \\: {Computer}({x}_{e})$ <b>[by FA]</b><br />\n",
       "&nbsp;&nbsp;&nbsp;&nbsp;Step 6: $[\\![\\mathbf{\\text{the}}]\\!]^{}_{\\langle{}\\langle{}e,t\\rangle{},e\\rangle{}}$ * $[\\![\\mathbf{\\text{[fucking computer]}}]\\!]^{}_{\\langle{}e,t\\rangle{}}$ leads to: $[\\![\\mathbf{\\text{[the [fucking computer]]}}]\\!]^{}_{e} \\:=\\: $$\\iota{} x_{e} \\: . \\: ({Computer}({x}_{e}) \\wedge{} ({x}_{e} \\in{} {c}_{\\{e\\}}))$ <b>[by FA]</b><br />\n",
       "&nbsp;&nbsp;&nbsp;&nbsp;Step 7: $[\\![\\mathbf{\\text{broke}}]\\!]^{}_{\\langle{}e,\\langle{}e,t\\rangle{}\\rangle{}}$ * $[\\![\\mathbf{\\text{[the [fucking computer]]}}]\\!]^{}_{e}$ leads to: $[\\![\\mathbf{\\text{[broke [the [fucking computer]]]}}]\\!]^{}_{\\langle{}e,t\\rangle{}} \\:=\\: $$\\lambda{} y_{e} \\: . \\: {Broke}_{\\langle{}e,\\langle{}e,t\\rangle{}\\rangle{}}({y}_{e})(\\iota{} x_{e} \\: . \\: ({Computer}({x}_{e}) \\wedge{} ({x}_{e} \\in{} {c}_{\\{e\\}})))$ <b>[by FA]</b><br />\n",
       "&nbsp;&nbsp;&nbsp;&nbsp;Step 8: $[\\![\\mathbf{\\text{Alfonso}}]\\!]^{}_{e} \\:=\\: $${a}_{e}$<br />\n",
       "&nbsp;&nbsp;&nbsp;&nbsp;Step 9: $[\\![\\mathbf{\\text{[broke [the [fucking computer]]]}}]\\!]^{}_{\\langle{}e,t\\rangle{}}$ * $[\\![\\mathbf{\\text{Alfonso}}]\\!]^{}_{e}$ leads to: $[\\![\\mathbf{\\text{[[broke [the [fucking computer]]] Alfonso]}}]\\!]^{}_{t} \\:=\\: $${Broke}_{\\langle{}e,\\langle{}e,t\\rangle{}\\rangle{}}({a}_{e})(\\iota{} x_{e} \\: . \\: ({Computer}({x}_{e}) \\wedge{} ({x}_{e} \\in{} {c}_{\\{e\\}})))$ <b>[by FA]</b><br />\n"
      ],
      "text/latex": [
       "Full composition trace.  1 path:<br />\n",
       "&nbsp;&nbsp;&nbsp;&nbsp;Step 1: $[\\![\\mathbf{\\text{broke}}]\\!]^{}_{\\langle{}e,\\langle{}e,t\\rangle{}\\rangle{}} \\:=\\: $$\\lambda{} x_{e} \\: . \\: \\lambda{} y_{e} \\: . \\: {Broke}_{\\langle{}e,\\langle{}e,t\\rangle{}\\rangle{}}({y}_{e})({x}_{e})$<br />\n",
       "&nbsp;&nbsp;&nbsp;&nbsp;Step 2: $[\\![\\mathbf{\\text{the}}]\\!]^{}_{\\langle{}\\langle{}e,t\\rangle{},e\\rangle{}} \\:=\\: $$\\lambda{} f_{\\langle{}e,t\\rangle{}} \\: . \\: \\iota{} x_{e} \\: . \\: ({f}_{\\langle{}e,t\\rangle{}}({x}_{e}) \\wedge{} ({x}_{e} \\in{} {c}_{\\{e\\}}))$<br />\n",
       "&nbsp;&nbsp;&nbsp;&nbsp;Step 3: $[\\![\\mathbf{\\text{fucking}}]\\!]^{}_{\\langle{}\\langle{}e,t\\rangle{},\\langle{}e,t\\rangle{}\\rangle{}} \\:=\\: $$\\lambda{} f_{\\langle{}e,t\\rangle{}} \\: . \\: {f}_{\\langle{}e,t\\rangle{}}$<br />\n",
       "&nbsp;&nbsp;&nbsp;&nbsp;Step 4: $[\\![\\mathbf{\\text{computer}}]\\!]^{}_{\\langle{}e,t\\rangle{}} \\:=\\: $$\\lambda{} x_{e} \\: . \\: {Computer}({x}_{e})$<br />\n",
       "&nbsp;&nbsp;&nbsp;&nbsp;Step 5: $[\\![\\mathbf{\\text{fucking}}]\\!]^{}_{\\langle{}\\langle{}e,t\\rangle{},\\langle{}e,t\\rangle{}\\rangle{}}$ * $[\\![\\mathbf{\\text{computer}}]\\!]^{}_{\\langle{}e,t\\rangle{}}$ leads to: $[\\![\\mathbf{\\text{[fucking computer]}}]\\!]^{}_{\\langle{}e,t\\rangle{}} \\:=\\: $$\\lambda{} x_{e} \\: . \\: {Computer}({x}_{e})$ <b>[by FA]</b><br />\n",
       "&nbsp;&nbsp;&nbsp;&nbsp;Step 6: $[\\![\\mathbf{\\text{the}}]\\!]^{}_{\\langle{}\\langle{}e,t\\rangle{},e\\rangle{}}$ * $[\\![\\mathbf{\\text{[fucking computer]}}]\\!]^{}_{\\langle{}e,t\\rangle{}}$ leads to: $[\\![\\mathbf{\\text{[the [fucking computer]]}}]\\!]^{}_{e} \\:=\\: $$\\iota{} x_{e} \\: . \\: ({Computer}({x}_{e}) \\wedge{} ({x}_{e} \\in{} {c}_{\\{e\\}}))$ <b>[by FA]</b><br />\n",
       "&nbsp;&nbsp;&nbsp;&nbsp;Step 7: $[\\![\\mathbf{\\text{broke}}]\\!]^{}_{\\langle{}e,\\langle{}e,t\\rangle{}\\rangle{}}$ * $[\\![\\mathbf{\\text{[the [fucking computer]]}}]\\!]^{}_{e}$ leads to: $[\\![\\mathbf{\\text{[broke [the [fucking computer]]]}}]\\!]^{}_{\\langle{}e,t\\rangle{}} \\:=\\: $$\\lambda{} y_{e} \\: . \\: {Broke}_{\\langle{}e,\\langle{}e,t\\rangle{}\\rangle{}}({y}_{e})(\\iota{} x_{e} \\: . \\: ({Computer}({x}_{e}) \\wedge{} ({x}_{e} \\in{} {c}_{\\{e\\}})))$ <b>[by FA]</b><br />\n",
       "&nbsp;&nbsp;&nbsp;&nbsp;Step 8: $[\\![\\mathbf{\\text{Alfonso}}]\\!]^{}_{e} \\:=\\: $${a}_{e}$<br />\n",
       "&nbsp;&nbsp;&nbsp;&nbsp;Step 9: $[\\![\\mathbf{\\text{[broke [the [fucking computer]]]}}]\\!]^{}_{\\langle{}e,t\\rangle{}}$ * $[\\![\\mathbf{\\text{Alfonso}}]\\!]^{}_{e}$ leads to: $[\\![\\mathbf{\\text{[[broke [the [fucking computer]]] Alfonso]}}]\\!]^{}_{t} \\:=\\: $${Broke}_{\\langle{}e,\\langle{}e,t\\rangle{}\\rangle{}}({a}_{e})(\\iota{} x_{e} \\: . \\: ({Computer}({x}_{e}) \\wedge{} ({x}_{e} \\in{} {c}_{\\{e\\}})))$ <b>[by FA]</b><br />\n"
      ],
      "text/plain": [
       "Full composition trace.  1 path:<br />\n",
       "&nbsp;&nbsp;&nbsp;&nbsp;Step 1: $[\\![\\mathbf{\\text{broke}}]\\!]^{}_{\\langle{}e,\\langle{}e,t\\rangle{}\\rangle{}} \\:=\\: $$\\lambda{} x_{e} \\: . \\: \\lambda{} y_{e} \\: . \\: {Broke}_{\\langle{}e,\\langle{}e,t\\rangle{}\\rangle{}}({y}_{e})({x}_{e})$<br />\n",
       "&nbsp;&nbsp;&nbsp;&nbsp;Step 2: $[\\![\\mathbf{\\text{the}}]\\!]^{}_{\\langle{}\\langle{}e,t\\rangle{},e\\rangle{}} \\:=\\: $$\\lambda{} f_{\\langle{}e,t\\rangle{}} \\: . \\: \\iota{} x_{e} \\: . \\: ({f}_{\\langle{}e,t\\rangle{}}({x}_{e}) \\wedge{} ({x}_{e} \\in{} {c}_{\\{e\\}}))$<br />\n",
       "&nbsp;&nbsp;&nbsp;&nbsp;Step 3: $[\\![\\mathbf{\\text{fucking}}]\\!]^{}_{\\langle{}\\langle{}e,t\\rangle{},\\langle{}e,t\\rangle{}\\rangle{}} \\:=\\: $$\\lambda{} f_{\\langle{}e,t\\rangle{}} \\: . \\: {f}_{\\langle{}e,t\\rangle{}}$<br />\n",
       "&nbsp;&nbsp;&nbsp;&nbsp;Step 4: $[\\![\\mathbf{\\text{computer}}]\\!]^{}_{\\langle{}e,t\\rangle{}} \\:=\\: $$\\lambda{} x_{e} \\: . \\: {Computer}({x}_{e})$<br />\n",
       "&nbsp;&nbsp;&nbsp;&nbsp;Step 5: $[\\![\\mathbf{\\text{fucking}}]\\!]^{}_{\\langle{}\\langle{}e,t\\rangle{},\\langle{}e,t\\rangle{}\\rangle{}}$ * $[\\![\\mathbf{\\text{computer}}]\\!]^{}_{\\langle{}e,t\\rangle{}}$ leads to: $[\\![\\mathbf{\\text{[fucking computer]}}]\\!]^{}_{\\langle{}e,t\\rangle{}} \\:=\\: $$\\lambda{} x_{e} \\: . \\: {Computer}({x}_{e})$ <b>[by FA]</b><br />\n",
       "&nbsp;&nbsp;&nbsp;&nbsp;Step 6: $[\\![\\mathbf{\\text{the}}]\\!]^{}_{\\langle{}\\langle{}e,t\\rangle{},e\\rangle{}}$ * $[\\![\\mathbf{\\text{[fucking computer]}}]\\!]^{}_{\\langle{}e,t\\rangle{}}$ leads to: $[\\![\\mathbf{\\text{[the [fucking computer]]}}]\\!]^{}_{e} \\:=\\: $$\\iota{} x_{e} \\: . \\: ({Computer}({x}_{e}) \\wedge{} ({x}_{e} \\in{} {c}_{\\{e\\}}))$ <b>[by FA]</b><br />\n",
       "&nbsp;&nbsp;&nbsp;&nbsp;Step 7: $[\\![\\mathbf{\\text{broke}}]\\!]^{}_{\\langle{}e,\\langle{}e,t\\rangle{}\\rangle{}}$ * $[\\![\\mathbf{\\text{[the [fucking computer]]}}]\\!]^{}_{e}$ leads to: $[\\![\\mathbf{\\text{[broke [the [fucking computer]]]}}]\\!]^{}_{\\langle{}e,t\\rangle{}} \\:=\\: $$\\lambda{} y_{e} \\: . \\: {Broke}_{\\langle{}e,\\langle{}e,t\\rangle{}\\rangle{}}({y}_{e})(\\iota{} x_{e} \\: . \\: ({Computer}({x}_{e}) \\wedge{} ({x}_{e} \\in{} {c}_{\\{e\\}})))$ <b>[by FA]</b><br />\n",
       "&nbsp;&nbsp;&nbsp;&nbsp;Step 8: $[\\![\\mathbf{\\text{Alfonso}}]\\!]^{}_{e} \\:=\\: $${a}_{e}$<br />\n",
       "&nbsp;&nbsp;&nbsp;&nbsp;Step 9: $[\\![\\mathbf{\\text{[broke [the [fucking computer]]]}}]\\!]^{}_{\\langle{}e,t\\rangle{}}$ * $[\\![\\mathbf{\\text{Alfonso}}]\\!]^{}_{e}$ leads to: $[\\![\\mathbf{\\text{[[broke [the [fucking computer]]] Alfonso]}}]\\!]^{}_{t} \\:=\\: $${Broke}_{\\langle{}e,\\langle{}e,t\\rangle{}\\rangle{}}({a}_{e})(\\iota{} x_{e} \\: . \\: ({Computer}({x}_{e}) \\wedge{} ({x}_{e} \\in{} {c}_{\\{e\\}})))$ <b>[by FA]</b><br />"
      ]
     },
     "execution_count": 33,
     "metadata": {},
     "output_type": "execute_result"
    }
   ],
   "source": [
    "(Alfonso * (broke * (the * (fucking * computer)))).trace()"
   ]
  },
  {
   "cell_type": "markdown",
   "metadata": {},
   "source": [
    "** (d) ** Epithets like `darn`, `damn` and `fucking` are different from regular expressive adjectives in quite a few ways:<br><br>\n",
    "(1) Epithets can't stand on their own, unlike some other expressive adjectives like `amazing` or `stupid`. That is, while a sentence such as `This is amazing` is valid, we can't say the same about `This is fucking`. In this sense, epithets behave similar to adjectives such as `former` and `alleged`. Because of this, modifiers like `amazing` can have type `<e,t>` and combine via predicate modification with other such modifiers. Epithets like `fucking` that only have pragmatic emphasis and no at-issue entailment act as identity functions. (Note that this does not carry to the words `former` and `alleged`, because they change the at-issue meaning of the sentence.)<br>\n",
    "(2) Epithets can not only modify the words that belong to the grammatical category of nouns, but they can also modify other expressive adjectives. This is similar to cases such as `This is crazy stupid`. Here, the epithets act more as adverbs than adjectives. The identity function analysis accounts for these cases as well.<br>\n",
    "(3) Furthermore, there seem to be differences among the epithets themselves. Of the three listed in the question, `fucking` at least can be moved around quite flexibly within a sentence (`bloody` is another one that behaves this way). That is, `fucking` can precede the verb, patient or agent. \"Damn\" and \"darn\" definitely do not precede the verb, but my judgement about whether they can still precede the agent as in `Damn Alfonso broke the computer` is shaky.<br>\n",
    "(4) There are also differences in the intensities of expressions that such adjectives denote. For example, while both `stupid` and `idiotic` represent negative attitudes about the nouns that they modify, `idiotic` is more intense a modifier than `stupid`. These adjectives can therefore be thought of as gradable, and exist on a scale (such as `bad` < `stupid` < `idiotic`). \n",
    "\n",
    "__*KC: these are all great observations but the question asks you how you would attempt to formalise this; specifically how you would formalise the intensity (as you note in (4)) and positive/negative emotional content of the different types of eithets.  5/11*__"
   ]
  },
  {
   "cell_type": "code",
   "execution_count": null,
   "metadata": {
    "collapsed": true
   },
   "outputs": [],
   "source": []
  }
 ],
 "metadata": {
  "anaconda-cloud": {},
  "kernelspec": {
   "display_name": "Lambda Notebook (Python 3)",
   "language": "python",
   "name": "lambda-notebook"
  },
  "language_info": {
   "codemirror_mode": {
    "name": "ipython",
    "version": 3
   },
   "file_extension": ".py",
   "mimetype": "text/x-python",
   "name": "python",
   "nbconvert_exporter": "python",
   "pygments_lexer": "ipython3",
   "version": "3.5.2"
  }
 },
 "nbformat": 4,
 "nbformat_minor": 1
}
