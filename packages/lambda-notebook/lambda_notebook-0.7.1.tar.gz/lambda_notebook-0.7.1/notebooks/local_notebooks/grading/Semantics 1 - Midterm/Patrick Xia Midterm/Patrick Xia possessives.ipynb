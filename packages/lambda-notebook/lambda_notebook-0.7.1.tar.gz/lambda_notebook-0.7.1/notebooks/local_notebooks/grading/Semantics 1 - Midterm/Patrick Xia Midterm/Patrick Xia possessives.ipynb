{
 "cells": [
  {
   "cell_type": "markdown",
   "metadata": {},
   "source": [
    "## 2. Possessives"
   ]
  },
  {
   "cell_type": "markdown",
   "metadata": {},
   "source": [
    "Here is a basic lexicon for most of sentences like (1-3):\n",
    "\n",
    "    (1) Alfonso talked to Joanna's mother.\n",
    "    (2) Alfonso borrowed Joanna's book.\n",
    "    (3) Alfonso kicked Joanna's chair.\n",
    " \n",
    "The only parts that I haven't defined are the possessive morpheme, and `mother`."
   ]
  },
  {
   "cell_type": "code",
   "execution_count": 2,
   "metadata": {
    "collapsed": false
   },
   "outputs": [
    {
     "name": "stderr",
     "output_type": "stream",
     "text": [
      "INFO (meta): Coerced guessed type t for 'Borrow_t' into <(e,e),t>, to match argument '(y_e, x_e)'\n",
      "INFO (meta): Coerced guessed type t for 'Kick_t' into <(e,e),t>, to match argument '(y_e, x_e)'\n",
      "INFO (meta): Coerced guessed type t for 'Talkto_t' into <(e,e),t>, to match argument '(y_e, x_e)'\n",
      "ERROR (parsing): Parsing failed with exception:\n",
      "ERROR (parsing): expected comma in variable sequence, at point '!here!||talk to||'\n"
     ]
    },
    {
     "data": {
      "text/latex": [
       "$[\\![\\mathbf{\\text{Alfonso}}]\\!]^{}_{e} \\:=\\: {a}_{e}$<br />\n",
       "$[\\![\\mathbf{\\text{Joanna}}]\\!]^{}_{e} \\:=\\: {j}_{e}$<br />\n",
       "$[\\![\\mathbf{\\text{book}}]\\!]^{}_{\\langle{}e,t\\rangle{}} \\:=\\: \\lambda{} x_{e} \\: . \\: {Book}({x}_{e})$<br />\n",
       "$[\\![\\mathbf{\\text{chair}}]\\!]^{}_{\\langle{}e,t\\rangle{}} \\:=\\: \\lambda{} x_{e} \\: . \\: {Chair}({x}_{e})$<br />\n",
       "$[\\![\\mathbf{\\text{borrowed}}]\\!]^{}_{\\langle{}e,\\langle{}e,t\\rangle{}\\rangle{}} \\:=\\: \\lambda{} x_{e} \\: . \\: \\lambda{} y_{e} \\: . \\: {Borrow}({y}_{e}, {x}_{e})$<br />\n",
       "$[\\![\\mathbf{\\text{kick}}]\\!]^{}_{\\langle{}e,\\langle{}e,t\\rangle{}\\rangle{}} \\:=\\: \\lambda{} x_{e} \\: . \\: \\lambda{} y_{e} \\: . \\: {Kick}({y}_{e}, {x}_{e})$"
      ],
      "text/plain": [
       "$[\\![\\mathbf{\\text{Alfonso}}]\\!]^{}_{e} \\:=\\: {a}_{e}$<br />\n",
       "$[\\![\\mathbf{\\text{Joanna}}]\\!]^{}_{e} \\:=\\: {j}_{e}$<br />\n",
       "$[\\![\\mathbf{\\text{book}}]\\!]^{}_{\\langle{}e,t\\rangle{}} \\:=\\: \\lambda{} x_{e} \\: . \\: {Book}({x}_{e})$<br />\n",
       "$[\\![\\mathbf{\\text{chair}}]\\!]^{}_{\\langle{}e,t\\rangle{}} \\:=\\: \\lambda{} x_{e} \\: . \\: {Chair}({x}_{e})$<br />\n",
       "$[\\![\\mathbf{\\text{borrowed}}]\\!]^{}_{\\langle{}e,\\langle{}e,t\\rangle{}\\rangle{}} \\:=\\: \\lambda{} x_{e} \\: . \\: \\lambda{} y_{e} \\: . \\: {Borrow}({y}_{e}, {x}_{e})$<br />\n",
       "$[\\![\\mathbf{\\text{kick}}]\\!]^{}_{\\langle{}e,\\langle{}e,t\\rangle{}\\rangle{}} \\:=\\: \\lambda{} x_{e} \\: . \\: \\lambda{} y_{e} \\: . \\: {Kick}({y}_{e}, {x}_{e})$"
      ]
     },
     "execution_count": 2,
     "metadata": {},
     "output_type": "execute_result"
    }
   ],
   "source": [
    "%%lamb\n",
    "||Alfonso|| = a_e\n",
    "||Joanna|| = j_e\n",
    "||book|| = L x_e : Book_<e,t>(x)\n",
    "||chair|| = L x_e : Chair_<e,t>(x)\n",
    "||borrowed|| = L x_e : L y_e : Borrow(y,x)\n",
    "||kick|| = L x_e : L y_e : Kick(y,x)\n",
    "||talk to|| = L x_e : L y_e : Talkto(y,x)"
   ]
  },
  {
   "cell_type": "markdown",
   "metadata": {},
   "source": [
    "The following cell defines an entry that you can use for `the`.  Since there are no presuppositions per se in the lambda notebook, this glosses over them, but you can think of the `Iota` operator as itself being presuppositional."
   ]
  },
  {
   "cell_type": "code",
   "execution_count": 3,
   "metadata": {
    "collapsed": false
   },
   "outputs": [
    {
     "data": {
      "text/latex": [
       "${c}_{\\{e\\}}\\:=\\:{c}_{\\{e\\}}$<br />\n",
       "$[\\![\\mathbf{\\text{the}}]\\!]^{}_{\\langle{}\\langle{}e,t\\rangle{},e\\rangle{}} \\:=\\: \\lambda{} f_{\\langle{}e,t\\rangle{}} \\: . \\: \\iota{} x_{e} \\: . \\: ({f}_{\\langle{}e,t\\rangle{}}({x}_{e}) \\wedge{} ({x}_{e} \\in{} {c}_{\\{e\\}}))$"
      ],
      "text/plain": [
       "${c}_{\\{e\\}}\\:=\\:{c}_{\\{e\\}}$<br />\n",
       "$[\\![\\mathbf{\\text{the}}]\\!]^{}_{\\langle{}\\langle{}e,t\\rangle{},e\\rangle{}} \\:=\\: \\lambda{} f_{\\langle{}e,t\\rangle{}} \\: . \\: \\iota{} x_{e} \\: . \\: ({f}_{\\langle{}e,t\\rangle{}}({x}_{e}) \\wedge{} ({x}_{e} \\in{} {c}_{\\{e\\}}))$"
      ]
     },
     "execution_count": 3,
     "metadata": {},
     "output_type": "execute_result"
    }
   ],
   "source": [
    "%%lamb\n",
    "c_{e} = c_{e}\n",
    "||the|| = L f_<e,t> : Iota x_e : (f(x) & x << c)"
   ]
  },
  {
   "cell_type": "markdown",
   "metadata": {},
   "source": [
    "Part [a]: In the following blank cell, calculate using `*` the truth-conditions of:\n",
    "\n",
    "    (4) Alfonso borrowed the book.\n"
   ]
  },
  {
   "cell_type": "code",
   "execution_count": 4,
   "metadata": {
    "collapsed": false
   },
   "outputs": [
    {
     "data": {
      "text/latex": [
       "1 composition path.  Result:\n",
       "<br />&nbsp;&nbsp;&nbsp;&nbsp;[0]: $[\\![\\mathbf{\\text{[[borrowed [the book]] Alfonso]}}]\\!]^{}_{t} \\:=\\: $${Borrow}({a}_{e}, \\iota{} x_{e} \\: . \\: ({Book}({x}_{e}) \\wedge{} ({x}_{e} \\in{} {c}_{\\{e\\}})))$"
      ],
      "text/plain": [
       "CompositionResult(results=[⟦[[borrowed [the book]] Alfonso]⟧ = Borrow_<(e,e),t>(a_e, (ι x_e: (Book_<e,t>(x_e) & (x_e << c_{e}))))], failures=[⟦[Alfonso [borrowed [the book]]]⟧ = Type mismatch: '⟦Alfonso⟧ = a_e'/e and '⟦[borrowed [the book]]⟧ = (λ y_e: Borrow_<(e,e),t>(y_e, (ι x_e: (Book_<e,t>(x_e) & (x_e << c_{e})))))'/<e,t> conflict (mode: Function Application), ⟦[Alfonso [borrowed [the book]]]⟧ = Type mismatch: '⟦Alfonso⟧ = a_e'/e and '⟦[borrowed [the book]]⟧ = (λ y_e: Borrow_<(e,e),t>(y_e, (ι x_e: (Book_<e,t>(x_e) & (x_e << c_{e})))))'/<e,t> conflict (mode: Predicate Modification), ⟦[Alfonso [borrowed [the book]]]⟧ = Type mismatch: '⟦Alfonso⟧ = a_e'/e and '⟦[borrowed [the book]]⟧ = (λ y_e: Borrow_<(e,e),t>(y_e, (ι x_e: (Book_<e,t>(x_e) & (x_e << c_{e})))))'/<e,t> conflict (mode: Predicate Abstraction), ⟦[[borrowed [the book]] Alfonso]⟧ = Type mismatch: '⟦[borrowed [the book]]⟧ = (λ y_e: Borrow_<(e,e),t>(y_e, (ι x_e: (Book_<e,t>(x_e) & (x_e << c_{e})))))'/<e,t> and '⟦Alfonso⟧ = a_e'/e conflict (mode: Predicate Abstraction)])"
      ]
     },
     "execution_count": 4,
     "metadata": {},
     "output_type": "execute_result"
    }
   ],
   "source": [
    "# composition here\n",
    "(Alfonso * (borrowed * (the * book)))"
   ]
  },
  {
   "cell_type": "markdown",
   "metadata": {},
   "source": [
    "**Part [b]**: In the following cell, write an entry for `mother`, and describe it in the next cell."
   ]
  },
  {
   "cell_type": "code",
   "execution_count": 22,
   "metadata": {
    "collapsed": false
   },
   "outputs": [
    {
     "name": "stderr",
     "output_type": "stream",
     "text": [
      "INFO (meta): Coerced guessed type t for 'Mother_t' into <(e,e),t>, to match argument '(x_e, y_e)'\n"
     ]
    },
    {
     "data": {
      "text/latex": [
       "$[\\![\\mathbf{\\text{mother}}]\\!]^{}_{\\langle{}e,\\langle{}e,t\\rangle{}\\rangle{}} \\:=\\: \\lambda{} x_{e} \\: . \\: \\lambda{} y_{e} \\: . \\: {Mother}({x}_{e}, {y}_{e})$<br />\n",
       "$[\\![\\mathbf{\\text{mother2}}]\\!]^{}_{\\langle{}\\langle{}\\langle{}e,t\\rangle{},\\langle{}e,e\\rangle{}\\rangle{},\\langle{}e,e\\rangle{}\\rangle{}} \\:=\\: \\lambda{} f_{\\langle{}\\langle{}e,t\\rangle{},\\langle{}e,e\\rangle{}\\rangle{}} \\: . \\: {f}_{\\langle{}\\langle{}e,t\\rangle{},\\langle{}e,e\\rangle{}\\rangle{}}({Mother})$"
      ],
      "text/plain": [
       "$[\\![\\mathbf{\\text{mother}}]\\!]^{}_{\\langle{}e,\\langle{}e,t\\rangle{}\\rangle{}} \\:=\\: \\lambda{} x_{e} \\: . \\: \\lambda{} y_{e} \\: . \\: {Mother}({x}_{e}, {y}_{e})$<br />\n",
       "$[\\![\\mathbf{\\text{mother2}}]\\!]^{}_{\\langle{}\\langle{}\\langle{}e,t\\rangle{},\\langle{}e,e\\rangle{}\\rangle{},\\langle{}e,e\\rangle{}\\rangle{}} \\:=\\: \\lambda{} f_{\\langle{}\\langle{}e,t\\rangle{},\\langle{}e,e\\rangle{}\\rangle{}} \\: . \\: {f}_{\\langle{}\\langle{}e,t\\rangle{},\\langle{}e,e\\rangle{}\\rangle{}}({Mother})$"
      ]
     },
     "execution_count": 22,
     "metadata": {},
     "output_type": "execute_result"
    }
   ],
   "source": [
    "%%lamb\n",
    "||mother|| = L x_e : L y_e : Mother(x,y)\n",
    "||mother2|| = L f_<<e,t>,<e,e>> : f(Mother_<e,t>) \n",
    "# mother_2 described in part d"
   ]
  },
  {
   "cell_type": "markdown",
   "metadata": {},
   "source": [
    "** What are their types? **\n",
    "\n",
    "The type of Book is $\\langle e, t\\rangle$ because it simply needs to determine whether an entity is a book, and if it is, the statement has a truth value, namely true.\n",
    "\n",
    "However, Mother is more nuanced because not only must the Mother be a Mother (i.e. female, has children, etc), we also need to specify who the mother is of. Thus, we must return a function that expects the mother's child as an argument. By this reasoning, Mother has type $\\langle e, \\langle e, t\\rangle \\rangle$.\n",
    "\n",
    "As a sidenote, this is not exactly correct because we can say \"The mothers preferred the quieter cars.\" This does not have an argument for who the children are, and in this sense the word is used to represent a demographic. Another example would be \"mother's day.\" We will ignore this usage of the word for this question, since the possessive form of this demographic would be similar to that of `Book` (e.g. \"America's mothers hope for the best education for their children\"). __*KC: good point**_\n",
    "\n",
    "** What do they contribute to a possessive DP? **\n",
    "\n",
    "For the `Book`, the possessive DP is like a normal DP, along with a presupposition that the possessor owns the noun (`Book`). For `Mother`, the possessive DP has more substance: not only is there the presupposition that the possesssor possesses the possessee, the noun also relies on the possessor to properly be defined. __*KC: good**_\n",
    "\n",
    "** What is truth-conditionally possible? **\n",
    "\n",
    "As a result, `Joanna's Book` denotes that there is a `book` that is owned by someone named `Joanna`. Thus, if Joanna does not own a book, or if the book is not owned by Joanna, this is false. __*KC: but we can use this kind of possessive DP more gernally than just possessioce, e.g. Joanna may be the author of the book but not own a copy...*__\n",
    "\n",
    "Meanwhile, `Joanna's Mother` implies that there is a mother, and that mother has a child named Joanna. In this case, if the mother being discussed does not have a child named Joanna, then this would be false. However, \n",
    "\n",
    "__*KC: the trick you need below is to not specify the relation function (i.e. just $f$), let [mother] specify it, or let it go underspecified for nouns like [book].*__\n"
   ]
  },
  {
   "cell_type": "markdown",
   "metadata": {},
   "source": [
    "**Part [c]** (possessive denotation): In the following cell write an entry for the possessive morpheme.  To handle python naming, call it `POSS` instead of `'s`."
   ]
  },
  {
   "cell_type": "code",
   "execution_count": 14,
   "metadata": {
    "collapsed": false
   },
   "outputs": [
    {
     "name": "stderr",
     "output_type": "stream",
     "text": [
      "INFO (meta): Coerced guessed type t for 'Has_t' into <(e,e),t>, to match argument '(y_e, x_e)'\n",
      "INFO (meta): Coerced guessed type t for 'Has_t' into <(e,e),t>, to match argument '(y_e, x_e)'\n",
      "INFO (meta): Coerced guessed type t for 'Has_t' into <(e,e),t>, to match argument '(y_e, x_e)'\n"
     ]
    },
    {
     "data": {
      "text/latex": [
       "$[\\![\\mathbf{\\text{POSS1}}]\\!]^{}_{\\langle{}\\langle{}e,t\\rangle{},\\langle{}e,e\\rangle{}\\rangle{}} \\:=\\: \\lambda{} f_{\\langle{}e,t\\rangle{}} \\: . \\: \\lambda{} y_{e} \\: . \\: \\iota{} x_{e} \\: . \\: ({f}_{\\langle{}e,t\\rangle{}}({x}_{e}) \\wedge{} {Has}({y}_{e}, {x}_{e}))$<br />\n",
       "$[\\![\\mathbf{\\text{POSS}}]\\!]^{}_{\\langle{}\\langle{}e,\\langle{}e,t\\rangle{}\\rangle{},\\langle{}e,e\\rangle{}\\rangle{}} \\:=\\: \\lambda{} f_{\\langle{}e,\\langle{}e,t\\rangle{}\\rangle{}} \\: . \\: \\lambda{} y_{e} \\: . \\: \\iota{} x_{e} \\: . \\: ({f}_{\\langle{}e,\\langle{}e,t\\rangle{}\\rangle{}}({x}_{e})({y}_{e}) \\wedge{} {Has}({y}_{e}, {x}_{e}))$<br />\n",
       "$[\\![\\mathbf{\\text{POSSkaren}}]\\!]^{}_{\\langle{}\\langle{}e,\\langle{}e,t\\rangle{}\\rangle{},\\langle{}e,e\\rangle{}\\rangle{}} \\:=\\: \\lambda{} f_{\\langle{}e,\\langle{}e,t\\rangle{}\\rangle{}} \\: . \\: \\lambda{} y_{e} \\: . \\: \\iota{} x_{e} \\: . \\: ({f}_{\\langle{}e,\\langle{}e,t\\rangle{}\\rangle{}}({y}_{e})({x}_{e}) \\wedge{} {Has}({y}_{e}, {x}_{e}))$"
      ],
      "text/plain": [
       "$[\\![\\mathbf{\\text{POSS1}}]\\!]^{}_{\\langle{}\\langle{}e,t\\rangle{},\\langle{}e,e\\rangle{}\\rangle{}} \\:=\\: \\lambda{} f_{\\langle{}e,t\\rangle{}} \\: . \\: \\lambda{} y_{e} \\: . \\: \\iota{} x_{e} \\: . \\: ({f}_{\\langle{}e,t\\rangle{}}({x}_{e}) \\wedge{} {Has}({y}_{e}, {x}_{e}))$<br />\n",
       "$[\\![\\mathbf{\\text{POSS}}]\\!]^{}_{\\langle{}\\langle{}e,\\langle{}e,t\\rangle{}\\rangle{},\\langle{}e,e\\rangle{}\\rangle{}} \\:=\\: \\lambda{} f_{\\langle{}e,\\langle{}e,t\\rangle{}\\rangle{}} \\: . \\: \\lambda{} y_{e} \\: . \\: \\iota{} x_{e} \\: . \\: ({f}_{\\langle{}e,\\langle{}e,t\\rangle{}\\rangle{}}({x}_{e})({y}_{e}) \\wedge{} {Has}({y}_{e}, {x}_{e}))$<br />\n",
       "$[\\![\\mathbf{\\text{POSSkaren}}]\\!]^{}_{\\langle{}\\langle{}e,\\langle{}e,t\\rangle{}\\rangle{},\\langle{}e,e\\rangle{}\\rangle{}} \\:=\\: \\lambda{} f_{\\langle{}e,\\langle{}e,t\\rangle{}\\rangle{}} \\: . \\: \\lambda{} y_{e} \\: . \\: \\iota{} x_{e} \\: . \\: ({f}_{\\langle{}e,\\langle{}e,t\\rangle{}\\rangle{}}({y}_{e})({x}_{e}) \\wedge{} {Has}({y}_{e}, {x}_{e}))$"
      ]
     },
     "execution_count": 14,
     "metadata": {},
     "output_type": "execute_result"
    }
   ],
   "source": [
    "%%lamb\n",
    "||POSS1|| = L f_<e,t> : L y_e : Iota x_e : (f(x_e) & Has(y_e, x_e))\n",
    "||POSS|| = L f_<e,<e,t>> : L y_e : Iota x_e : (f(x_e)(y_e) & Has(y_e, x_e)) # careful about the order of your arguments\n",
    "           "
   ]
  },
  {
   "cell_type": "markdown",
   "metadata": {},
   "source": [
    "The entire DP should be of type $e$, because it is describing a single, well-defined, entity.\n",
    "\n",
    "Since `Joanna` is type $e$, the D' must be type $\\langle e, e \\rangle$.\n",
    "\n",
    "Since the noun does not return something of type $\\langle e, e \\rangle$, `POSS` must return a function with type $\\langle e, e \\rangle$. Specifically, the function it returns should be something like $\\lambda x_e. \\iota y_e. F(x, y)$. This denotes the entity $y$ such that it satisfies some relation with $x$. In the possessive case, it the relation would be \"owned by\" (book) or \"coresponds to\" (mother) $x$. Note that this presupposes that $x$ has such an entity $y$. __*KC: but as I allude to above, you don't need two functions here, since there is only one key property/relation that this denotation needs to express.*__\n",
    "\n",
    "We want `POSS` to attach to a noun, so it must be able to take $\\langle e, t \\rangle$ as an argument (or be of type $e$) so that it can attach to `BOOK`. This would lead the the conclusion of type $\\langle \\langle e, t\\rangle, \\langle e, e \\rangle \\rangle$ for the `'s` possessive marker. This usage of `POSS` is similar to the defintion of `The`, because we presuppose that whatever noun possessess the object will be unique and distinguishable. __*KC: good*__\n",
    "\n",
    "However, for `POSS` to attach directly to `Mother`, we need a `POSS` to be type $\\langle \\langle e, \\langle e, t\\rangle\\rangle, \\langle e, e\\rangle\\rangle$. This function does essentially the same thing and makes the same presupposition. However, it needs to reuse the possessor to obtain the $\\langle e,t\\rangle$ function first. At this point, we also do not necessarily need Has in the same sense as \"owning\", but it does have a purpose if we interpret it strictly in the sense of the definition of \"to have.\" It is correct to say that Joanna has a mother (in fact, we presuppose it), so it should be included in the definition. __*KC: but really the core meaning is the mother-of relation, which is supplied by yout denotation for [mother].*__\n",
    "\n",
    "__*9/9*__"
   ]
  },
  {
   "cell_type": "markdown",
   "metadata": {},
   "source": [
    "**Part [c]** (explication of why this denotation works): In the following cell, calculate the meaning of the tree in (6) on the midterm using the `*` operator."
   ]
  },
  {
   "cell_type": "code",
   "execution_count": 7,
   "metadata": {
    "collapsed": false
   },
   "outputs": [
    {
     "data": {
      "text/latex": [
       "1 composition path.  Result:\n",
       "<br />&nbsp;&nbsp;&nbsp;&nbsp;[0]: $[\\![\\mathbf{\\text{[[POSS mother] Joanna]}}]\\!]^{}_{e} \\:=\\: $$\\iota{} x_{e} \\: . \\: ({Mother}({x}_{e}, {j}_{e}) \\wedge{} {Has}({j}_{e}, {x}_{e}))$"
      ],
      "text/plain": [
       "CompositionResult(results=[⟦[[POSS mother] Joanna]⟧ = (ι x_e: (Mother_<(e,e),t>(x_e, j_e) & Has_<(e,e),t>(j_e, x_e)))], failures=[⟦[Joanna [POSS mother]]⟧ = Type mismatch: '⟦Joanna⟧ = j_e'/e and '⟦[POSS mother]⟧ = (λ y_e: (ι x_e: (Mother_<(e,e),t>(x_e, y_e) & Has_<(e,e),t>(y_e, x_e))))'/<e,e> conflict (mode: Function Application), ⟦[Joanna [POSS mother]]⟧ = Type mismatch: '⟦Joanna⟧ = j_e'/e and '⟦[POSS mother]⟧ = (λ y_e: (ι x_e: (Mother_<(e,e),t>(x_e, y_e) & Has_<(e,e),t>(y_e, x_e))))'/<e,e> conflict (mode: Predicate Modification), ⟦[Joanna [POSS mother]]⟧ = Type mismatch: '⟦Joanna⟧ = j_e'/e and '⟦[POSS mother]⟧ = (λ y_e: (ι x_e: (Mother_<(e,e),t>(x_e, y_e) & Has_<(e,e),t>(y_e, x_e))))'/<e,e> conflict (mode: Predicate Abstraction), ⟦[[POSS mother] Joanna]⟧ = Type mismatch: '⟦[POSS mother]⟧ = (λ y_e: (ι x_e: (Mother_<(e,e),t>(x_e, y_e) & Has_<(e,e),t>(y_e, x_e))))'/<e,e> and '⟦Joanna⟧ = j_e'/e conflict (mode: Predicate Abstraction)])"
      ]
     },
     "execution_count": 7,
     "metadata": {},
     "output_type": "execute_result"
    }
   ],
   "source": [
    "(Joanna * (POSS * mother))"
   ]
  },
  {
   "cell_type": "markdown",
   "metadata": {},
   "source": [
    "**Part [d]** (grads, ugrad extra credit).  In the following cell(s) answer the question on the midterm.  You may insert as many new cells as you need, and use markdown cells to write any prose."
   ]
  },
  {
   "cell_type": "markdown",
   "metadata": {
    "collapsed": true
   },
   "source": [
    "We can try to resolve the need for an ambiguous possessive marker. In particular, this could be resolved by duplicating the possessor next to mother. Then, we would be able to use only `POSS_1` for both `Mother` and `Book`.\n",
    "__*KC: you're on the right track but the solution even simpler!  You just have to have [Joanna] compose with [mother] first and then compose with [POSS]; you don't need the second (higher) Joanna at all.  the LF for [book]-type nouns doesn't differ from the surface strcture at all.  It's an artefact of the second superfluous Has function that you are let with an unsaturated variable if you follwo this strategy with your current denotations.  7/8*__\n"
   ]
  },
  {
   "cell_type": "code",
   "execution_count": 16,
   "metadata": {
    "collapsed": false
   },
   "outputs": [
    {
     "data": {
      "text/latex": [
       "1 composition path:<br /><table><tr style=\"border:1px solid #848482\"><td style=\"vertical-align:bottom;padding:0px 10px\" align=\"center\"><table><tr><td style=\"vertical-align:bottom;padding:5px\"><table><tr style=\"border:1px solid #848482\"><td style=\"vertical-align:bottom;padding:0px 10px\" align=\"center\"><table><tr><td style=\"vertical-align:bottom;padding:5px\"><div style=\"margin-top:10px;border-style:solid;border-color:#848482;border-width:0px\"><div style=\"vertical-align:bottom;text-align:center\">$[\\![\\mathbf{\\text{POSS1}}]\\!]^{}_{\\langle{}\\langle{}e,t\\rangle{},\\langle{}e,e\\rangle{}\\rangle{}}$</div><div style=\"vertical-align:bottom;text-align:center\">$\\lambda{} f_{\\langle{}e,t\\rangle{}} \\: . \\: \\lambda{} y_{e} \\: . \\: \\iota{} x_{e} \\: . \\: ({f}_{\\langle{}e,t\\rangle{}}({x}_{e}) \\wedge{} {Has}({y}_{e}, {x}_{e}))$</div></div></td><td style=\"vertical-align:bottom;padding:10px\">$\\circ$</td><td style=\"vertical-align:bottom;padding:5px\"><table><tr style=\"border:1px solid #848482\"><td style=\"vertical-align:bottom;padding:0px 10px\" align=\"center\"><table><tr><td style=\"vertical-align:bottom;padding:5px\"><div style=\"margin-top:10px;border-style:solid;border-color:#848482;border-width:0px\"><div style=\"vertical-align:bottom;text-align:center\">$[\\![\\mathbf{\\text{mother}}]\\!]^{}_{\\langle{}e,\\langle{}e,t\\rangle{}\\rangle{}}$</div><div style=\"vertical-align:bottom;text-align:center\">$\\lambda{} x_{e} \\: . \\: \\lambda{} y_{e} \\: . \\: {Mother}({x}_{e}, {y}_{e})$</div></div></td><td style=\"vertical-align:bottom;padding:10px\">$\\circ$</td><td style=\"vertical-align:bottom;padding:5px\"><div style=\"margin-top:10px;border-style:solid;border-color:#848482;border-width:0px\"><div style=\"vertical-align:bottom;text-align:center\">$[\\![\\mathbf{\\text{Joanna}}]\\!]^{}_{e}$</div><div style=\"vertical-align:bottom;text-align:center\">${j}_{e}$</div></div></td></tr></table></td><td style=\"border-left:1px solid #848482;vertical-align:center;padding:10px\"><span style=\"color:blue\"><b>[FA]</b></span></td></tr><tr style=\"border-style:solid;border-color:#848482;border-width:0px 1px 1px 1px\"><td style=\"padding:5px\" align=\"center\"><div style=\"margin-top:10px;border-style:solid;border-color:#848482;border-width:0px\"><div style=\"vertical-align:bottom;text-align:center\">$[\\![\\mathbf{\\text{[mother Joanna]}}]\\!]^{}_{\\langle{}e,t\\rangle{}}$</div><div style=\"vertical-align:bottom;text-align:center\">$\\lambda{} y_{e} \\: . \\: {Mother}({j}_{e}, {y}_{e})$</div></div></td><td></td></tr></table></td></tr></table></td><td style=\"border-left:1px solid #848482;vertical-align:center;padding:10px\"><span style=\"color:blue\"><b>[FA]</b></span></td></tr><tr style=\"border-style:solid;border-color:#848482;border-width:0px 1px 1px 1px\"><td style=\"padding:5px\" align=\"center\"><div style=\"margin-top:10px;border-style:solid;border-color:#848482;border-width:0px\"><div style=\"vertical-align:bottom;text-align:center\">$[\\![\\mathbf{\\text{[POSS1 [mother Joanna]]}}]\\!]^{}_{\\langle{}e,e\\rangle{}}$</div><div style=\"vertical-align:bottom;text-align:center\">$\\lambda{} y_{e} \\: . \\: \\iota{} x_{e} \\: . \\: ({Mother}({j}_{e}, {x}_{e}) \\wedge{} {Has}({y}_{e}, {x}_{e}))$</div></div></td><td></td></tr></table></td><td style=\"vertical-align:bottom;padding:10px\">$\\circ$</td><td style=\"vertical-align:bottom;padding:5px\"><div style=\"margin-top:10px;border-style:solid;border-color:#848482;border-width:0px\"><div style=\"vertical-align:bottom;text-align:center\">$[\\![\\mathbf{\\text{Joanna}}]\\!]^{}_{e}$</div><div style=\"vertical-align:bottom;text-align:center\">${j}_{e}$</div></div></td></tr></table></td><td style=\"border-left:1px solid #848482;vertical-align:center;padding:10px\"><span style=\"color:blue\"><b>[FA]</b></span></td></tr><tr style=\"border-style:solid;border-color:#848482;border-width:0px 1px 1px 1px\"><td style=\"padding:5px\" align=\"center\"><div style=\"margin-top:10px;border-style:solid;border-color:#848482;border-width:0px\"><div style=\"vertical-align:bottom;text-align:center\">$[\\![\\mathbf{\\text{[[POSS1 [mother Joanna]] Joanna]}}]\\!]^{}_{e}$</div><div style=\"vertical-align:bottom;text-align:center\">$\\iota{} x_{e} \\: . \\: ({Mother}({j}_{e}, {x}_{e}) \\wedge{} {Has}({j}_{e}, {x}_{e}))$</div></div></td><td></td></tr></table><br /><br />"
      ],
      "text/plain": [
       "1 composition path:<br /><table><tr style=\"border:1px solid #848482\"><td style=\"vertical-align:bottom;padding:0px 10px\" align=\"center\"><table><tr><td style=\"vertical-align:bottom;padding:5px\"><table><tr style=\"border:1px solid #848482\"><td style=\"vertical-align:bottom;padding:0px 10px\" align=\"center\"><table><tr><td style=\"vertical-align:bottom;padding:5px\"><div style=\"margin-top:10px;border-style:solid;border-color:#848482;border-width:0px\"><div style=\"vertical-align:bottom;text-align:center\">$[\\![\\mathbf{\\text{POSS1}}]\\!]^{}_{\\langle{}\\langle{}e,t\\rangle{},\\langle{}e,e\\rangle{}\\rangle{}}$</div><div style=\"vertical-align:bottom;text-align:center\">$\\lambda{} f_{\\langle{}e,t\\rangle{}} \\: . \\: \\lambda{} y_{e} \\: . \\: \\iota{} x_{e} \\: . \\: ({f}_{\\langle{}e,t\\rangle{}}({x}_{e}) \\wedge{} {Has}({y}_{e}, {x}_{e}))$</div></div></td><td style=\"vertical-align:bottom;padding:10px\">$\\circ$</td><td style=\"vertical-align:bottom;padding:5px\"><table><tr style=\"border:1px solid #848482\"><td style=\"vertical-align:bottom;padding:0px 10px\" align=\"center\"><table><tr><td style=\"vertical-align:bottom;padding:5px\"><div style=\"margin-top:10px;border-style:solid;border-color:#848482;border-width:0px\"><div style=\"vertical-align:bottom;text-align:center\">$[\\![\\mathbf{\\text{mother}}]\\!]^{}_{\\langle{}e,\\langle{}e,t\\rangle{}\\rangle{}}$</div><div style=\"vertical-align:bottom;text-align:center\">$\\lambda{} x_{e} \\: . \\: \\lambda{} y_{e} \\: . \\: {Mother}({x}_{e}, {y}_{e})$</div></div></td><td style=\"vertical-align:bottom;padding:10px\">$\\circ$</td><td style=\"vertical-align:bottom;padding:5px\"><div style=\"margin-top:10px;border-style:solid;border-color:#848482;border-width:0px\"><div style=\"vertical-align:bottom;text-align:center\">$[\\![\\mathbf{\\text{Joanna}}]\\!]^{}_{e}$</div><div style=\"vertical-align:bottom;text-align:center\">${j}_{e}$</div></div></td></tr></table></td><td style=\"border-left:1px solid #848482;vertical-align:center;padding:10px\"><span style=\"color:blue\"><b>[FA]</b></span></td></tr><tr style=\"border-style:solid;border-color:#848482;border-width:0px 1px 1px 1px\"><td style=\"padding:5px\" align=\"center\"><div style=\"margin-top:10px;border-style:solid;border-color:#848482;border-width:0px\"><div style=\"vertical-align:bottom;text-align:center\">$[\\![\\mathbf{\\text{[mother Joanna]}}]\\!]^{}_{\\langle{}e,t\\rangle{}}$</div><div style=\"vertical-align:bottom;text-align:center\">$\\lambda{} y_{e} \\: . \\: {Mother}({j}_{e}, {y}_{e})$</div></div></td><td></td></tr></table></td></tr></table></td><td style=\"border-left:1px solid #848482;vertical-align:center;padding:10px\"><span style=\"color:blue\"><b>[FA]</b></span></td></tr><tr style=\"border-style:solid;border-color:#848482;border-width:0px 1px 1px 1px\"><td style=\"padding:5px\" align=\"center\"><div style=\"margin-top:10px;border-style:solid;border-color:#848482;border-width:0px\"><div style=\"vertical-align:bottom;text-align:center\">$[\\![\\mathbf{\\text{[POSS1 [mother Joanna]]}}]\\!]^{}_{\\langle{}e,e\\rangle{}}$</div><div style=\"vertical-align:bottom;text-align:center\">$\\lambda{} y_{e} \\: . \\: \\iota{} x_{e} \\: . \\: ({Mother}({j}_{e}, {x}_{e}) \\wedge{} {Has}({y}_{e}, {x}_{e}))$</div></div></td><td></td></tr></table></td><td style=\"vertical-align:bottom;padding:10px\">$\\circ$</td><td style=\"vertical-align:bottom;padding:5px\"><div style=\"margin-top:10px;border-style:solid;border-color:#848482;border-width:0px\"><div style=\"vertical-align:bottom;text-align:center\">$[\\![\\mathbf{\\text{Joanna}}]\\!]^{}_{e}$</div><div style=\"vertical-align:bottom;text-align:center\">${j}_{e}$</div></div></td></tr></table></td><td style=\"border-left:1px solid #848482;vertical-align:center;padding:10px\"><span style=\"color:blue\"><b>[FA]</b></span></td></tr><tr style=\"border-style:solid;border-color:#848482;border-width:0px 1px 1px 1px\"><td style=\"padding:5px\" align=\"center\"><div style=\"margin-top:10px;border-style:solid;border-color:#848482;border-width:0px\"><div style=\"vertical-align:bottom;text-align:center\">$[\\![\\mathbf{\\text{[[POSS1 [mother Joanna]] Joanna]}}]\\!]^{}_{e}$</div><div style=\"vertical-align:bottom;text-align:center\">$\\iota{} x_{e} \\: . \\: ({Mother}({j}_{e}, {x}_{e}) \\wedge{} {Has}({j}_{e}, {x}_{e}))$</div></div></td><td></td></tr></table><br /><br />"
      ]
     },
     "execution_count": 16,
     "metadata": {},
     "output_type": "execute_result"
    }
   ],
   "source": [
    "((Joanna * (POSS1 * (mother * Joanna)))).tree()"
   ]
  },
  {
   "cell_type": "markdown",
   "metadata": {},
   "source": [
    "However, that does not attack the core issue. Currently, (Joanna * Mother) is an acceptable phrase, but it probably should not be - Mother should be used in the context of a possessive. This suggests something is still off with the  type. We propose ||mother_2|| and see that it produces something logical too. Now, it is not necessary for Mother to require another noun as an argument, but any use of mother still enforces the `has` presupposition."
   ]
  },
  {
   "cell_type": "code",
   "execution_count": null,
   "metadata": {
    "collapsed": false
   },
   "outputs": [],
   "source": [
    "(Joanna * (POSS_1 * mother_2))"
   ]
  },
  {
   "cell_type": "markdown",
   "metadata": {},
   "source": [
    "**Part [e]** In the following cells, calculate the denotation of `A doctor met Joanna's mother`.  You will need to fill out the lexicon with a few more items, and then do the composition."
   ]
  },
  {
   "cell_type": "code",
   "execution_count": 17,
   "metadata": {
    "collapsed": false
   },
   "outputs": [
    {
     "name": "stderr",
     "output_type": "stream",
     "text": [
      "INFO (meta): Coerced guessed type t for 'Doctor_t' into <e,t>, to match argument 'x_e'\n",
      "INFO (meta): Coerced guessed type t for 'Met_t' into <(e,e),t>, to match argument '(x_e, y_e)'\n"
     ]
    },
    {
     "data": {
      "text/latex": [
       "$[\\![\\mathbf{\\text{a}}]\\!]^{}_{\\langle{}\\langle{}e,t\\rangle{},e\\rangle{}} \\:=\\: \\lambda{} f_{\\langle{}e,t\\rangle{}} \\: . \\: \\iota{} x_{e} \\: . \\: {f}_{\\langle{}e,t\\rangle{}}({x}_{e})$<br />\n",
       "$[\\![\\mathbf{\\text{doctor}}]\\!]^{}_{\\langle{}e,t\\rangle{}} \\:=\\: \\lambda{} x_{e} \\: . \\: {Doctor}({x}_{e})$<br />\n",
       "$[\\![\\mathbf{\\text{met}}]\\!]^{}_{\\langle{}e,\\langle{}e,t\\rangle{}\\rangle{}} \\:=\\: \\lambda{} y_{e} \\: . \\: \\lambda{} x_{e} \\: . \\: {Met}({x}_{e}, {y}_{e})$"
      ],
      "text/plain": [
       "$[\\![\\mathbf{\\text{a}}]\\!]^{}_{\\langle{}\\langle{}e,t\\rangle{},e\\rangle{}} \\:=\\: \\lambda{} f_{\\langle{}e,t\\rangle{}} \\: . \\: \\iota{} x_{e} \\: . \\: {f}_{\\langle{}e,t\\rangle{}}({x}_{e})$<br />\n",
       "$[\\![\\mathbf{\\text{doctor}}]\\!]^{}_{\\langle{}e,t\\rangle{}} \\:=\\: \\lambda{} x_{e} \\: . \\: {Doctor}({x}_{e})$<br />\n",
       "$[\\![\\mathbf{\\text{met}}]\\!]^{}_{\\langle{}e,\\langle{}e,t\\rangle{}\\rangle{}} \\:=\\: \\lambda{} y_{e} \\: . \\: \\lambda{} x_{e} \\: . \\: {Met}({x}_{e}, {y}_{e})$"
      ]
     },
     "execution_count": 17,
     "metadata": {},
     "output_type": "execute_result"
    }
   ],
   "source": [
    "%%lamb\n",
    "||a|| = L f_<e,t> : Iota x_e : f(x) # you want an existential presupposion, not a uniqeness one sicne [a] \n",
    "        # is indefinite (any doctor will do, the speaker doesn't have a specific one in mind)\n",
    "||doctor|| = L x_e : Doctor(x)\n",
    "||met|| = L y_e : L x_e : Met(x_e, y_e)"
   ]
  },
  {
   "cell_type": "code",
   "execution_count": 18,
   "metadata": {
    "collapsed": false
   },
   "outputs": [
    {
     "data": {
      "text/latex": [
       "1 composition path.  Result:\n",
       "<br />&nbsp;&nbsp;&nbsp;&nbsp;[0]: $[\\![\\mathbf{\\text{[a doctor]}}]\\!]^{}_{e} \\:=\\: $$\\iota{} x_{e} \\: . \\: {Doctor}({x}_{e})$"
      ],
      "text/plain": [
       "CompositionResult(results=[⟦[a doctor]⟧ = (ι x_e: Doctor_<e,t>(x_e))], failures=[⟦[doctor a]⟧ = Type mismatch: '⟦doctor⟧ = (λ x_e: Doctor_<e,t>(x_e))'/<e,t> and '⟦a⟧ = (λ f_<e,t>: (ι x_e: f_<e,t>(x_e)))'/<<e,t>,e> conflict (mode: Function Application), ⟦[a doctor]⟧ = Type mismatch: '⟦a⟧ = (λ f_<e,t>: (ι x_e: f_<e,t>(x_e)))'/<<e,t>,e> and '⟦doctor⟧ = (λ x_e: Doctor_<e,t>(x_e))'/<e,t> conflict (mode: Predicate Modification), ⟦[a doctor]⟧ = Type mismatch: '⟦a⟧ = (λ f_<e,t>: (ι x_e: f_<e,t>(x_e)))'/<<e,t>,e> and '⟦doctor⟧ = (λ x_e: Doctor_<e,t>(x_e))'/<e,t> conflict (mode: Predicate Abstraction), ⟦[doctor a]⟧ = Type mismatch: '⟦doctor⟧ = (λ x_e: Doctor_<e,t>(x_e))'/<e,t> and '⟦a⟧ = (λ f_<e,t>: (ι x_e: f_<e,t>(x_e)))'/<<e,t>,e> conflict (mode: Predicate Abstraction)])"
      ]
     },
     "execution_count": 18,
     "metadata": {},
     "output_type": "execute_result"
    }
   ],
   "source": [
    "# composition here\n",
    "(a * doctor)"
   ]
  },
  {
   "cell_type": "code",
   "execution_count": 23,
   "metadata": {
    "collapsed": false
   },
   "outputs": [
    {
     "data": {
      "text/latex": [
       "1 composition path.  Result:\n",
       "<br />&nbsp;&nbsp;&nbsp;&nbsp;[0]: $[\\![\\mathbf{\\text{[[mother2 POSS1] Joanna]}}]\\!]^{}_{e} \\:=\\: $$\\iota{} x_{e} \\: . \\: ({Mother}({x}_{e}) \\wedge{} {Has}({j}_{e}, {x}_{e}))$"
      ],
      "text/plain": [
       "CompositionResult(results=[⟦[[mother2 POSS1] Joanna]⟧ = (ι x_e: (Mother_<e,t>(x_e) & Has_<(e,e),t>(j_e, x_e)))], failures=[⟦[Joanna [mother2 POSS1]]⟧ = Type mismatch: '⟦Joanna⟧ = j_e'/e and '⟦[mother2 POSS1]⟧ = (λ y_e: (ι x_e: (Mother_<e,t>(x_e) & Has_<(e,e),t>(y_e, x_e))))'/<e,e> conflict (mode: Function Application), ⟦[Joanna [mother2 POSS1]]⟧ = Type mismatch: '⟦Joanna⟧ = j_e'/e and '⟦[mother2 POSS1]⟧ = (λ y_e: (ι x_e: (Mother_<e,t>(x_e) & Has_<(e,e),t>(y_e, x_e))))'/<e,e> conflict (mode: Predicate Modification), ⟦[Joanna [mother2 POSS1]]⟧ = Type mismatch: '⟦Joanna⟧ = j_e'/e and '⟦[mother2 POSS1]⟧ = (λ y_e: (ι x_e: (Mother_<e,t>(x_e) & Has_<(e,e),t>(y_e, x_e))))'/<e,e> conflict (mode: Predicate Abstraction), ⟦[[mother2 POSS1] Joanna]⟧ = Type mismatch: '⟦[mother2 POSS1]⟧ = (λ y_e: (ι x_e: (Mother_<e,t>(x_e) & Has_<(e,e),t>(y_e, x_e))))'/<e,e> and '⟦Joanna⟧ = j_e'/e conflict (mode: Predicate Abstraction)])"
      ]
     },
     "execution_count": 23,
     "metadata": {},
     "output_type": "execute_result"
    }
   ],
   "source": [
    "(Joanna * (POSS1 * mother2))"
   ]
  },
  {
   "cell_type": "code",
   "execution_count": 24,
   "metadata": {
    "collapsed": false
   },
   "outputs": [
    {
     "data": {
      "text/latex": [
       "1 composition path.  Result:\n",
       "<br />&nbsp;&nbsp;&nbsp;&nbsp;[0]: $[\\![\\mathbf{\\text{[met [[mother2 POSS1] Joanna]]}}]\\!]^{}_{\\langle{}e,t\\rangle{}} \\:=\\: $$\\lambda{} x_{e} \\: . \\: {Met}({x}_{e}, \\iota{} x_{e} \\: . \\: ({Mother}({x}_{e}) \\wedge{} {Has}({j}_{e}, {x}_{e})))$"
      ],
      "text/plain": [
       "CompositionResult(results=[⟦[met [[mother2 POSS1] Joanna]]⟧ = (λ x_e: Met_<(e,e),t>(x_e, (ι x_e: (Mother_<e,t>(x_e) & Has_<(e,e),t>(j_e, x_e)))))], failures=[⟦[[[mother2 POSS1] Joanna] met]⟧ = Type mismatch: '⟦[[mother2 POSS1] Joanna]⟧ = (ι x_e: (Mother_<e,t>(x_e) & Has_<(e,e),t>(j_e, x_e)))'/e and '⟦met⟧ = (λ y_e: (λ x_e: Met_<(e,e),t>(x_e, y_e)))'/<e,<e,t>> conflict (mode: Function Application), ⟦[met [[mother2 POSS1] Joanna]]⟧ = Type mismatch: '⟦met⟧ = (λ y_e: (λ x_e: Met_<(e,e),t>(x_e, y_e)))'/<e,<e,t>> and '⟦[[mother2 POSS1] Joanna]⟧ = (ι x_e: (Mother_<e,t>(x_e) & Has_<(e,e),t>(j_e, x_e)))'/e conflict (mode: Predicate Modification), ⟦[met [[mother2 POSS1] Joanna]]⟧ = Type mismatch: '⟦met⟧ = (λ y_e: (λ x_e: Met_<(e,e),t>(x_e, y_e)))'/<e,<e,t>> and '⟦[[mother2 POSS1] Joanna]⟧ = (ι x_e: (Mother_<e,t>(x_e) & Has_<(e,e),t>(j_e, x_e)))'/e conflict (mode: Predicate Abstraction), ⟦[[[mother2 POSS1] Joanna] met]⟧ = Type mismatch: '⟦[[mother2 POSS1] Joanna]⟧ = (ι x_e: (Mother_<e,t>(x_e) & Has_<(e,e),t>(j_e, x_e)))'/e and '⟦met⟧ = (λ y_e: (λ x_e: Met_<(e,e),t>(x_e, y_e)))'/<e,<e,t>> conflict (mode: Predicate Abstraction)])"
      ]
     },
     "execution_count": 24,
     "metadata": {},
     "output_type": "execute_result"
    }
   ],
   "source": [
    "(met * (Joanna * (POSS1 * mother2)))"
   ]
  },
  {
   "cell_type": "code",
   "execution_count": 25,
   "metadata": {
    "collapsed": false
   },
   "outputs": [
    {
     "data": {
      "text/latex": [
       "1 composition path.  Result:\n",
       "<br />&nbsp;&nbsp;&nbsp;&nbsp;[0]: $[\\![\\mathbf{\\text{[[met [[mother2 POSS1] Joanna]] [a doctor]]}}]\\!]^{}_{t} \\:=\\: $${Met}(\\iota{} x_{e} \\: . \\: {Doctor}({x}_{e}), \\iota{} x_{e} \\: . \\: ({Mother}({x}_{e}) \\wedge{} {Has}({j}_{e}, {x}_{e})))$"
      ],
      "text/plain": [
       "CompositionResult(results=[⟦[[met [[mother2 POSS1] Joanna]] [a doctor]]⟧ = Met_<(e,e),t>((ι x_e: Doctor_<e,t>(x_e)), (ι x_e: (Mother_<e,t>(x_e) & Has_<(e,e),t>(j_e, x_e))))], failures=[⟦[[a doctor] [met [[mother2 POSS1] Joanna]]]⟧ = Type mismatch: '⟦[a doctor]⟧ = (ι x_e: Doctor_<e,t>(x_e))'/e and '⟦[met [[mother2 POSS1] Joanna]]⟧ = (λ x_e: Met_<(e,e),t>(x_e, (ι x_e: (Mother_<e,t>(x_e) & Has_<(e,e),t>(j_e, x_e)))))'/<e,t> conflict (mode: Function Application), ⟦[[a doctor] [met [[mother2 POSS1] Joanna]]]⟧ = Type mismatch: '⟦[a doctor]⟧ = (ι x_e: Doctor_<e,t>(x_e))'/e and '⟦[met [[mother2 POSS1] Joanna]]⟧ = (λ x_e: Met_<(e,e),t>(x_e, (ι x_e: (Mother_<e,t>(x_e) & Has_<(e,e),t>(j_e, x_e)))))'/<e,t> conflict (mode: Predicate Modification), ⟦[[a doctor] [met [[mother2 POSS1] Joanna]]]⟧ = Type mismatch: '⟦[a doctor]⟧ = (ι x_e: Doctor_<e,t>(x_e))'/e and '⟦[met [[mother2 POSS1] Joanna]]⟧ = (λ x_e: Met_<(e,e),t>(x_e, (ι x_e: (Mother_<e,t>(x_e) & Has_<(e,e),t>(j_e, x_e)))))'/<e,t> conflict (mode: Predicate Abstraction), ⟦[[met [[mother2 POSS1] Joanna]] [a doctor]]⟧ = Type mismatch: '⟦[met [[mother2 POSS1] Joanna]]⟧ = (λ x_e: Met_<(e,e),t>(x_e, (ι x_e: (Mother_<e,t>(x_e) & Has_<(e,e),t>(j_e, x_e)))))'/<e,t> and '⟦[a doctor]⟧ = (ι x_e: Doctor_<e,t>(x_e))'/e conflict (mode: Predicate Abstraction)])"
      ]
     },
     "execution_count": 25,
     "metadata": {},
     "output_type": "execute_result"
    }
   ],
   "source": [
    "((a * doctor) * (met * (Joanna * (POSS1 * mother2))))"
   ]
  },
  {
   "cell_type": "markdown",
   "metadata": {},
   "source": [
    "One presupposition here are that there exists a doctor (although the $\\iota$ seems to imply it is unique -- it does not need to be). The other is that there exists a mother that Joanna has; i.e. that Joanna has a mother. __*KC: you just needed the other operator.  7/8*__"
   ]
  },
  {
   "cell_type": "markdown",
   "metadata": {},
   "source": [
    "## 3. Expressive adjectives\n",
    "\n",
    "If you like, you can do some or all of this problem in the lambda notebook; I won't provide a template though."
   ]
  },
  {
   "cell_type": "markdown",
   "metadata": {
    "collapsed": true
   },
   "source": [
    "**Part [a]**: These particular adjectives all serve a similar purpose but with different levels of severity and slightly different meanings. In the example above, we could have place the adjective before `Alfonso` or even before `broke` (when it would be an adverb instead).\n",
    "\n",
    "In all cases, it modifies the tone of the sentence to something usually more severe, and expresses some level of frustration from the speaker. The context it is used in determines to what extent. For example, without context, placing and of the adjectives before `Alfonso` would implicitly be placing more blame to `Alfonso` than the sentence already implicates. Placing it before computer would imply (to me) that the speaker is frustrated and angry, maybe at the computer but definitely not at Alfonso more than the sentence entails. The same can be said for placing `fucking` before `broke` -- except the speaker would not angry at anyone except the situation. `{damn, darn}` do not go very well before `broke` in this context and I cannot imagine what that would mean.\n",
    "__*11/11*__"
   ]
  },
  {
   "cell_type": "markdown",
   "metadata": {},
   "source": [
    "**Part [b]**: These epithets appear to be a presupposition. Specifically, we will show that they satisfy all the tests for presuppositions.\n",
    "\n",
    "First, that they are not cancellable. This doesn't really make sense to begin with because the adjectives aren't descriptive, but here is what it looks like:\n",
    "\n",
    "**[1]** \\*: Alfonso broke the darn computer. The computer was not darn. __*KC: remember that in a cancellation test you want to show that you can negate the implied part of the communicated meaning without generating some sort of illogical utterance; so here you would want to cancel the inference that the the speaker is mad about the broken computer - not the literal meaning the word 'darn' since as you just discussed above are clearly not dealing with literal meaning here.*__\n",
    "\n",
    "The projection test is more revealing. Under negation (holes), the conclusion is preserved:\n",
    "\n",
    "**[2a]**: Alfonso broke the fucking computer.\n",
    "\n",
    "**[2b]**: Alfonso did not break the fucking computer.\n",
    "\n",
    "Under a plug, we are not surprised to find that the conclusion does not necessarily project.\n",
    "\n",
    "**[3a]**: Alfonso said I had a darn Chromebook.\n",
    "\n",
    "Here, it is unclear whether the Chromebook is actually a \"darn Chromebook\" or whether Alfonso just doesn't like Chromebooks.\n",
    "\n",
    "By looking at these examples, there is enough evidence to suggest that the adjectives are presuppositional. We will use this conclusion to motivate some of our claims in the next part. \n",
    "__*KC: Good, but since they are cancellable they might also be called implicatures - just not conversational implicatures since it's not clear what Gricean sub-maxims would be violated to give rise to this kind of implicature.  So we could legitimatly treat them as 'something else'.  10/11*__"
   ]
  },
  {
   "cell_type": "markdown",
   "metadata": {},
   "source": [
    "**Part [c]**: Their type is similar to any adjective because it somewhat augments the meaning of the noun, so usually it would be $\\langle \\langle e, t \\rangle , \\langle e, t \\rangle \\rangle$. See below for the derivation.\n",
    "\n",
    "However, this is not a full derivation, as we'll discuss after using this for our derivation."
   ]
  },
  {
   "cell_type": "code",
   "execution_count": 26,
   "metadata": {
    "collapsed": false
   },
   "outputs": [
    {
     "name": "stderr",
     "output_type": "stream",
     "text": [
      "INFO (meta): Coerced guessed type t for 'Computer_t' into <e,t>, to match argument 'x_e'\n",
      "INFO (meta): Coerced guessed type t for 'Damn_t' into <e,t>, to match argument 'x_e'\n"
     ]
    },
    {
     "data": {
      "text/latex": [
       "$[\\![\\mathbf{\\text{computer}}]\\!]^{}_{\\langle{}e,t\\rangle{}} \\:=\\: \\lambda{} x_{e} \\: . \\: {Computer}({x}_{e})$<br />\n",
       "$[\\![\\mathbf{\\text{damn}}]\\!]^{}_{\\langle{}\\langle{}e,t\\rangle{},\\langle{}e,t\\rangle{}\\rangle{}} \\:=\\: \\lambda{} f_{\\langle{}e,t\\rangle{}} \\: . \\: \\lambda{} x_{e} \\: . \\: ({Damn}({x}_{e}) \\wedge{} {f}_{\\langle{}e,t\\rangle{}}({x}_{e}))$"
      ],
      "text/plain": [
       "$[\\![\\mathbf{\\text{computer}}]\\!]^{}_{\\langle{}e,t\\rangle{}} \\:=\\: \\lambda{} x_{e} \\: . \\: {Computer}({x}_{e})$<br />\n",
       "$[\\![\\mathbf{\\text{damn}}]\\!]^{}_{\\langle{}\\langle{}e,t\\rangle{},\\langle{}e,t\\rangle{}\\rangle{}} \\:=\\: \\lambda{} f_{\\langle{}e,t\\rangle{}} \\: . \\: \\lambda{} x_{e} \\: . \\: ({Damn}({x}_{e}) \\wedge{} {f}_{\\langle{}e,t\\rangle{}}({x}_{e}))$"
      ]
     },
     "execution_count": 26,
     "metadata": {},
     "output_type": "execute_result"
    }
   ],
   "source": [
    "%%lamb \n",
    "#||the|| already defined above\n",
    "||computer|| = L x_e : Computer(x_e)\n",
    "||damn|| = L f_<e,t> : L x_e : Damn(x_e) & f(x_e)"
   ]
  },
  {
   "cell_type": "code",
   "execution_count": 27,
   "metadata": {
    "collapsed": false
   },
   "outputs": [
    {
     "data": {
      "text/latex": [
       "1 composition path.  Result:\n",
       "<br />&nbsp;&nbsp;&nbsp;&nbsp;[0]: $[\\![\\mathbf{\\text{[the [damn computer]]}}]\\!]^{}_{e} \\:=\\: $$\\iota{} x_{e} \\: . \\: (({Damn}({x}_{e}) \\wedge{} {Computer}({x}_{e})) \\wedge{} ({x}_{e} \\in{} {c}_{\\{e\\}}))$"
      ],
      "text/plain": [
       "CompositionResult(results=[⟦[the [damn computer]]⟧ = (ι x_e: ((Damn_<e,t>(x_e) & Computer_<e,t>(x_e)) & (x_e << c_{e})))], failures=[⟦[[damn computer] the]⟧ = Type mismatch: '⟦[damn computer]⟧ = (λ x_e: (Damn_<e,t>(x_e) & Computer_<e,t>(x_e)))'/<e,t> and '⟦the⟧ = (λ f_<e,t>: (ι x_e: (f_<e,t>(x_e) & (x_e << c_{e}))))'/<<e,t>,e> conflict (mode: Function Application), ⟦[the [damn computer]]⟧ = Type mismatch: '⟦the⟧ = (λ f_<e,t>: (ι x_e: (f_<e,t>(x_e) & (x_e << c_{e}))))'/<<e,t>,e> and '⟦[damn computer]⟧ = (λ x_e: (Damn_<e,t>(x_e) & Computer_<e,t>(x_e)))'/<e,t> conflict (mode: Predicate Modification), ⟦[the [damn computer]]⟧ = Type mismatch: '⟦the⟧ = (λ f_<e,t>: (ι x_e: (f_<e,t>(x_e) & (x_e << c_{e}))))'/<<e,t>,e> and '⟦[damn computer]⟧ = (λ x_e: (Damn_<e,t>(x_e) & Computer_<e,t>(x_e)))'/<e,t> conflict (mode: Predicate Abstraction), ⟦[[damn computer] the]⟧ = Type mismatch: '⟦[damn computer]⟧ = (λ x_e: (Damn_<e,t>(x_e) & Computer_<e,t>(x_e)))'/<e,t> and '⟦the⟧ = (λ f_<e,t>: (ι x_e: (f_<e,t>(x_e) & (x_e << c_{e}))))'/<<e,t>,e> conflict (mode: Predicate Abstraction)])"
      ]
     },
     "execution_count": 27,
     "metadata": {},
     "output_type": "execute_result"
    }
   ],
   "source": [
    "(the * (damn * computer))"
   ]
  },
  {
   "cell_type": "markdown",
   "metadata": {},
   "source": [
    "The problem with this derivation is that `Damn(x_e)` should not be limiting - since anyone can call any object `the ADJ object`. Thus, `Damn(x_e)` must be true for all `x_e`, and at that point, how does it differ from `Darn` or `Fucking`?\n",
    "\n",
    "As we established earlier, these adjectives do presuppose that the object has this trait, but that doesn't attack the core issue of what these words mean. We would prefer something like the following:\n",
    "$ [[the\\ [damn\\ computer]]]_e = \\iota x_e . (Computer(x_e) \\land x_e \\in c_{\\{e\\}} \\land epithet(damn, x_e) \\in c_{\\{e\\}})$, where `epithet` is a higher order object that deals with epithets. This would remove the issue of presupposing that there must be a unique `damn computer` when it really presupposes that there is a unique computer. However, it would instead presuppose that whatever computer is being described can be described as `damn`. It also allows for the relation between the epithet adjective and the noun it describes but does not strictly require there to be a correlation (e.g. perhaps $epithet(fucking_e, x_e) = fucking_e$ for most $x_e$ because the speaker wanted to just place it somewhere in the sentence). This gives us our final version of our derivation."
   ]
  },
  {
   "cell_type": "code",
   "execution_count": 28,
   "metadata": {
    "collapsed": false
   },
   "outputs": [
    {
     "name": "stderr",
     "output_type": "stream",
     "text": [
      "INFO (meta): Coerced guessed type t for 'Computer_t' into <e,t>, to match argument 'x_e'\n",
      "INFO (meta): Coerced guessed type e for 'epithet_e' into <(e,e),e>, to match argument '(damn_e, x_e)'\n"
     ]
    },
    {
     "data": {
      "text/latex": [
       "$[\\![\\mathbf{\\text{computer}}]\\!]^{}_{\\langle{}e,t\\rangle{}} \\:=\\: \\lambda{} x_{e} \\: . \\: {Computer}({x}_{e})$<br />\n",
       "$[\\![\\mathbf{\\text{damn}}]\\!]^{}_{\\langle{}\\langle{}e,t\\rangle{},\\langle{}e,t\\rangle{}\\rangle{}} \\:=\\: \\lambda{} f_{\\langle{}e,t\\rangle{}} \\: . \\: \\lambda{} x_{e} \\: . \\: ({f}_{\\langle{}e,t\\rangle{}}({x}_{e}) \\wedge{} ({epithet}_{\\langle{}(e, e),e\\rangle{}}({damn}_{e}, {x}_{e}) \\in{} {c}_{\\{e\\}}))$"
      ],
      "text/plain": [
       "$[\\![\\mathbf{\\text{computer}}]\\!]^{}_{\\langle{}e,t\\rangle{}} \\:=\\: \\lambda{} x_{e} \\: . \\: {Computer}({x}_{e})$<br />\n",
       "$[\\![\\mathbf{\\text{damn}}]\\!]^{}_{\\langle{}\\langle{}e,t\\rangle{},\\langle{}e,t\\rangle{}\\rangle{}} \\:=\\: \\lambda{} f_{\\langle{}e,t\\rangle{}} \\: . \\: \\lambda{} x_{e} \\: . \\: ({f}_{\\langle{}e,t\\rangle{}}({x}_{e}) \\wedge{} ({epithet}_{\\langle{}(e, e),e\\rangle{}}({damn}_{e}, {x}_{e}) \\in{} {c}_{\\{e\\}}))$"
      ]
     },
     "execution_count": 28,
     "metadata": {},
     "output_type": "execute_result"
    }
   ],
   "source": [
    "%%lamb\n",
    "# ||the|| alreadu defined above\n",
    "||computer|| = L x_e : Computer(x_e)\n",
    "||damn|| = L f_<e,t> : L x_e : (f(x_e) & epithet(damn, x_e) << c)"
   ]
  },
  {
   "cell_type": "code",
   "execution_count": 29,
   "metadata": {
    "collapsed": false
   },
   "outputs": [
    {
     "data": {
      "text/latex": [
       "1 composition path.  Result:\n",
       "<br />&nbsp;&nbsp;&nbsp;&nbsp;[0]: $[\\![\\mathbf{\\text{[the [damn computer]]}}]\\!]^{}_{e} \\:=\\: $$\\iota{} x_{e} \\: . \\: (({Computer}({x}_{e}) \\wedge{} ({epithet}_{\\langle{}(e, e),e\\rangle{}}({damn}_{e}, {x}_{e}) \\in{} {c}_{\\{e\\}})) \\wedge{} ({x}_{e} \\in{} {c}_{\\{e\\}}))$"
      ],
      "text/plain": [
       "CompositionResult(results=[⟦[the [damn computer]]⟧ = (ι x_e: ((Computer_<e,t>(x_e) & (epithet_<(e,e),e>(damn_e, x_e) << c_{e})) & (x_e << c_{e})))], failures=[⟦[[damn computer] the]⟧ = Type mismatch: '⟦[damn computer]⟧ = (λ x_e: (Computer_<e,t>(x_e) & (epithet_<(e,e),e>(damn_e, x_e) << c_{e})))'/<e,t> and '⟦the⟧ = (λ f_<e,t>: (ι x_e: (f_<e,t>(x_e) & (x_e << c_{e}))))'/<<e,t>,e> conflict (mode: Function Application), ⟦[the [damn computer]]⟧ = Type mismatch: '⟦the⟧ = (λ f_<e,t>: (ι x_e: (f_<e,t>(x_e) & (x_e << c_{e}))))'/<<e,t>,e> and '⟦[damn computer]⟧ = (λ x_e: (Computer_<e,t>(x_e) & (epithet_<(e,e),e>(damn_e, x_e) << c_{e})))'/<e,t> conflict (mode: Predicate Modification), ⟦[the [damn computer]]⟧ = Type mismatch: '⟦the⟧ = (λ f_<e,t>: (ι x_e: (f_<e,t>(x_e) & (x_e << c_{e}))))'/<<e,t>,e> and '⟦[damn computer]⟧ = (λ x_e: (Computer_<e,t>(x_e) & (epithet_<(e,e),e>(damn_e, x_e) << c_{e})))'/<e,t> conflict (mode: Predicate Abstraction), ⟦[[damn computer] the]⟧ = Type mismatch: '⟦[damn computer]⟧ = (λ x_e: (Computer_<e,t>(x_e) & (epithet_<(e,e),e>(damn_e, x_e) << c_{e})))'/<e,t> and '⟦the⟧ = (λ f_<e,t>: (ι x_e: (f_<e,t>(x_e) & (x_e << c_{e}))))'/<<e,t>,e> conflict (mode: Predicate Abstraction)])"
      ]
     },
     "execution_count": 29,
     "metadata": {},
     "output_type": "execute_result"
    }
   ],
   "source": [
    "(the * (damn * computer))"
   ]
  },
  {
   "cell_type": "markdown",
   "metadata": {},
   "source": [
    "Finally note that if we want the reading from our first version, we can easily obtain it by defining $epithet(damn, x) = Damn(x)$ using the $Damn$ function from earlier and note that if $Computer(x)$ then $Computer(Damn(x))$ should also be true.\n",
    "__*KC: 11/11"
   ]
  },
  {
   "cell_type": "markdown",
   "metadata": {},
   "source": [
    "**Part [d]**: All of the other expressive adjectives can follow in the same manner as our final derivation. The list given here once again connotes different levels of expressivity: `stupid` is more \"casual\" than `idiotic`, for example. `Amazing` is usually a positive/happy expression, `stupid` is usually negative, while `fucking` is often frustration (but really could be anything). However, all of this modifies the context/tone of the sentence and can be resolved by carefully tuning the object $epithet$ that we defined in the previous question, which could add \"positive\" or \"negative\" or \"frustration\" objects to our context.\n",
    "__*KC: good, but how do we know what intensity and valence (positive or negative) each of these words that tunes the $epithet$ carries?  How would that be encoded?  9/11*__"
   ]
  },
  {
   "cell_type": "code",
   "execution_count": null,
   "metadata": {
    "collapsed": true
   },
   "outputs": [],
   "source": []
  }
 ],
 "metadata": {
  "kernelspec": {
   "display_name": "Lambda Notebook (Python 3)",
   "language": "python",
   "name": "lambda-notebook"
  },
  "language_info": {
   "codemirror_mode": {
    "name": "ipython",
    "version": 3
   },
   "file_extension": ".py",
   "mimetype": "text/x-python",
   "name": "python",
   "nbconvert_exporter": "python",
   "pygments_lexer": "ipython3",
   "version": "3.5.2"
  }
 },
 "nbformat": 4,
 "nbformat_minor": 1
}
