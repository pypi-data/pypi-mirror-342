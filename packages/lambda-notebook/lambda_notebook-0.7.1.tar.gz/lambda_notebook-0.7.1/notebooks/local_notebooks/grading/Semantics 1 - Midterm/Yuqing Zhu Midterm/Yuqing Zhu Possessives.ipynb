{
 "cells": [
  {
   "cell_type": "markdown",
   "metadata": {},
   "source": [
    "## 2. Possessives"
   ]
  },
  {
   "cell_type": "markdown",
   "metadata": {},
   "source": [
    "Here is a basic lexicon for most of sentences like (1-3):\n",
    "\n",
    "    (1) Alfonso talked to Joanna's mother.\n",
    "    (2) Alfonso borrowed Joanna's book.\n",
    "    (3) Alfonso kicked Joanna's chair.\n",
    " \n",
    "The only parts that I haven't defined are the possessive morpheme, and `mother`."
   ]
  },
  {
   "cell_type": "code",
   "execution_count": 11,
   "metadata": {
    "collapsed": false
   },
   "outputs": [
    {
     "name": "stderr",
     "output_type": "stream",
     "text": [
      "INFO (meta): Coerced guessed type t for 'Borrow_t' into <(e,e),t>, to match argument '(y_e, x_e)'\n",
      "INFO (meta): Coerced guessed type t for 'Kick_t' into <(e,e),t>, to match argument '(y_e, x_e)'\n",
      "INFO (meta): Coerced guessed type t for 'Talkto_t' into <(e,e),t>, to match argument '(y_e, x_e)'\n",
      "INFO (parsing): Exporting item ||talk to|| to python variable `talk_to`.\n"
     ]
    },
    {
     "data": {
      "text/html": [
       "$[\\![\\mathbf{\\text{Alfonso}}]\\!]^{}_{e} \\:=\\: {a}_{e}$<br />\n",
       "$[\\![\\mathbf{\\text{Joanna}}]\\!]^{}_{e} \\:=\\: {j}_{e}$<br />\n",
       "$[\\![\\mathbf{\\text{book}}]\\!]^{}_{\\langle{}e,t\\rangle{}} \\:=\\: \\lambda{} x_{e} \\: . \\: {Book}({x}_{e})$<br />\n",
       "$[\\![\\mathbf{\\text{chair}}]\\!]^{}_{\\langle{}e,t\\rangle{}} \\:=\\: \\lambda{} x_{e} \\: . \\: {Chair}({x}_{e})$<br />\n",
       "$[\\![\\mathbf{\\text{borrowed}}]\\!]^{}_{\\langle{}e,\\langle{}e,t\\rangle{}\\rangle{}} \\:=\\: \\lambda{} x_{e} \\: . \\: \\lambda{} y_{e} \\: . \\: {Borrow}({y}_{e}, {x}_{e})$<br />\n",
       "$[\\![\\mathbf{\\text{kick}}]\\!]^{}_{\\langle{}e,\\langle{}e,t\\rangle{}\\rangle{}} \\:=\\: \\lambda{} x_{e} \\: . \\: \\lambda{} y_{e} \\: . \\: {Kick}({y}_{e}, {x}_{e})$<br />\n",
       "$[\\![\\mathbf{\\text{talk_to}}]\\!]^{}_{\\langle{}e,\\langle{}e,t\\rangle{}\\rangle{}} \\:=\\: \\lambda{} x_{e} \\: . \\: \\lambda{} y_{e} \\: . \\: {Talkto}({y}_{e}, {x}_{e})$"
      ],
      "text/latex": [
       "$[\\![\\mathbf{\\text{Alfonso}}]\\!]^{}_{e} \\:=\\: {a}_{e}$<br />\n",
       "$[\\![\\mathbf{\\text{Joanna}}]\\!]^{}_{e} \\:=\\: {j}_{e}$<br />\n",
       "$[\\![\\mathbf{\\text{book}}]\\!]^{}_{\\langle{}e,t\\rangle{}} \\:=\\: \\lambda{} x_{e} \\: . \\: {Book}({x}_{e})$<br />\n",
       "$[\\![\\mathbf{\\text{chair}}]\\!]^{}_{\\langle{}e,t\\rangle{}} \\:=\\: \\lambda{} x_{e} \\: . \\: {Chair}({x}_{e})$<br />\n",
       "$[\\![\\mathbf{\\text{borrowed}}]\\!]^{}_{\\langle{}e,\\langle{}e,t\\rangle{}\\rangle{}} \\:=\\: \\lambda{} x_{e} \\: . \\: \\lambda{} y_{e} \\: . \\: {Borrow}({y}_{e}, {x}_{e})$<br />\n",
       "$[\\![\\mathbf{\\text{kick}}]\\!]^{}_{\\langle{}e,\\langle{}e,t\\rangle{}\\rangle{}} \\:=\\: \\lambda{} x_{e} \\: . \\: \\lambda{} y_{e} \\: . \\: {Kick}({y}_{e}, {x}_{e})$<br />\n",
       "$[\\![\\mathbf{\\text{talk_to}}]\\!]^{}_{\\langle{}e,\\langle{}e,t\\rangle{}\\rangle{}} \\:=\\: \\lambda{} x_{e} \\: . \\: \\lambda{} y_{e} \\: . \\: {Talkto}({y}_{e}, {x}_{e})$"
      ],
      "text/plain": [
       "$[\\![\\mathbf{\\text{Alfonso}}]\\!]^{}_{e} \\:=\\: {a}_{e}$<br />\n",
       "$[\\![\\mathbf{\\text{Joanna}}]\\!]^{}_{e} \\:=\\: {j}_{e}$<br />\n",
       "$[\\![\\mathbf{\\text{book}}]\\!]^{}_{\\langle{}e,t\\rangle{}} \\:=\\: \\lambda{} x_{e} \\: . \\: {Book}({x}_{e})$<br />\n",
       "$[\\![\\mathbf{\\text{chair}}]\\!]^{}_{\\langle{}e,t\\rangle{}} \\:=\\: \\lambda{} x_{e} \\: . \\: {Chair}({x}_{e})$<br />\n",
       "$[\\![\\mathbf{\\text{borrowed}}]\\!]^{}_{\\langle{}e,\\langle{}e,t\\rangle{}\\rangle{}} \\:=\\: \\lambda{} x_{e} \\: . \\: \\lambda{} y_{e} \\: . \\: {Borrow}({y}_{e}, {x}_{e})$<br />\n",
       "$[\\![\\mathbf{\\text{kick}}]\\!]^{}_{\\langle{}e,\\langle{}e,t\\rangle{}\\rangle{}} \\:=\\: \\lambda{} x_{e} \\: . \\: \\lambda{} y_{e} \\: . \\: {Kick}({y}_{e}, {x}_{e})$<br />\n",
       "$[\\![\\mathbf{\\text{talk_to}}]\\!]^{}_{\\langle{}e,\\langle{}e,t\\rangle{}\\rangle{}} \\:=\\: \\lambda{} x_{e} \\: . \\: \\lambda{} y_{e} \\: . \\: {Talkto}({y}_{e}, {x}_{e})$"
      ]
     },
     "execution_count": 11,
     "metadata": {},
     "output_type": "execute_result"
    }
   ],
   "source": [
    "%%lamb\n",
    "||Alfonso|| = a_e\n",
    "||Joanna|| = j_e\n",
    "||book|| = L x_e : Book_<e,t>(x)\n",
    "||chair|| = L x_e : Chair_<e,t>(x)\n",
    "||borrowed|| = L x_e : L y_e : Borrow(y,x)\n",
    "||kick|| = L x_e : L y_e : Kick(y,x)\n",
    "||talk to|| = L x_e : L y_e : Talkto(y,x)"
   ]
  },
  {
   "cell_type": "markdown",
   "metadata": {},
   "source": [
    "The following cell defines an entry that you can use for `the`.  Since there are no presuppositions per se in the lambda notebook, this glosses over them, but you can think of the `Iota` operator as itself being presuppositional."
   ]
  },
  {
   "cell_type": "code",
   "execution_count": 12,
   "metadata": {
    "collapsed": false
   },
   "outputs": [
    {
     "data": {
      "text/html": [
       "${c}_{\\{e\\}}\\:=\\:{c}_{\\{e\\}}$<br />\n",
       "$[\\![\\mathbf{\\text{the}}]\\!]^{}_{\\langle{}\\langle{}e,t\\rangle{},e\\rangle{}} \\:=\\: \\lambda{} f_{\\langle{}e,t\\rangle{}} \\: . \\: \\iota{} x_{e} \\: . \\: ({f}_{\\langle{}e,t\\rangle{}}({x}_{e}) \\wedge{} ({x}_{e} \\in{} {c}_{\\{e\\}}))$"
      ],
      "text/latex": [
       "${c}_{\\{e\\}}\\:=\\:{c}_{\\{e\\}}$<br />\n",
       "$[\\![\\mathbf{\\text{the}}]\\!]^{}_{\\langle{}\\langle{}e,t\\rangle{},e\\rangle{}} \\:=\\: \\lambda{} f_{\\langle{}e,t\\rangle{}} \\: . \\: \\iota{} x_{e} \\: . \\: ({f}_{\\langle{}e,t\\rangle{}}({x}_{e}) \\wedge{} ({x}_{e} \\in{} {c}_{\\{e\\}}))$"
      ],
      "text/plain": [
       "${c}_{\\{e\\}}\\:=\\:{c}_{\\{e\\}}$<br />\n",
       "$[\\![\\mathbf{\\text{the}}]\\!]^{}_{\\langle{}\\langle{}e,t\\rangle{},e\\rangle{}} \\:=\\: \\lambda{} f_{\\langle{}e,t\\rangle{}} \\: . \\: \\iota{} x_{e} \\: . \\: ({f}_{\\langle{}e,t\\rangle{}}({x}_{e}) \\wedge{} ({x}_{e} \\in{} {c}_{\\{e\\}}))$"
      ]
     },
     "execution_count": 12,
     "metadata": {},
     "output_type": "execute_result"
    }
   ],
   "source": [
    "%%lamb\n",
    "c_{e} = c_{e}\n",
    "||the|| = L f_<e,t> : Iota x_e : (f(x) & x << c)"
   ]
  },
  {
   "cell_type": "markdown",
   "metadata": {},
   "source": [
    "Part [a]: In the following blank cell, calculate using `*` the truth-conditions of:\n",
    "\n",
    "    (4) Alfonso borrowed the book.\n"
   ]
  },
  {
   "cell_type": "code",
   "execution_count": 5,
   "metadata": {
    "collapsed": false
   },
   "outputs": [
    {
     "data": {
      "text/html": [
       "1 composition path.  Result:\n",
       "<br />&nbsp;&nbsp;&nbsp;&nbsp;[0]: $[\\![\\mathbf{\\text{[[borrowed [the book]] Alfonso]}}]\\!]^{}_{t} \\:=\\: $${Borrow}({a}_{e}, \\iota{} x_{e} \\: . \\: ({Book}({x}_{e}) \\wedge{} ({x}_{e} \\in{} {c}_{\\{e\\}})))$"
      ],
      "text/plain": [
       "CompositionResult(results=[⟦[[borrowed [the book]] Alfonso]⟧ = Borrow_<(e,e),t>(a_e, (ι x_e: (Book_<e,t>(x_e) & (x_e << c_{e}))))], failures=[⟦[Alfonso [borrowed [the book]]]⟧ = Type mismatch: '⟦Alfonso⟧ = a_e'/e and '⟦[borrowed [the book]]⟧ = (λ y_e: Borrow_<(e,e),t>(y_e, (ι x_e: (Book_<e,t>(x_e) & (x_e << c_{e})))))'/<e,t> conflict (mode: Function Application), ⟦[Alfonso [borrowed [the book]]]⟧ = Type mismatch: '⟦Alfonso⟧ = a_e'/e and '⟦[borrowed [the book]]⟧ = (λ y_e: Borrow_<(e,e),t>(y_e, (ι x_e: (Book_<e,t>(x_e) & (x_e << c_{e})))))'/<e,t> conflict (mode: Predicate Modification), ⟦[Alfonso [borrowed [the book]]]⟧ = Type mismatch: '⟦Alfonso⟧ = a_e'/e and '⟦[borrowed [the book]]⟧ = (λ y_e: Borrow_<(e,e),t>(y_e, (ι x_e: (Book_<e,t>(x_e) & (x_e << c_{e})))))'/<e,t> conflict (mode: Predicate Abstraction), ⟦[[borrowed [the book]] Alfonso]⟧ = Type mismatch: '⟦[borrowed [the book]]⟧ = (λ y_e: Borrow_<(e,e),t>(y_e, (ι x_e: (Book_<e,t>(x_e) & (x_e << c_{e})))))'/<e,t> and '⟦Alfonso⟧ = a_e'/e conflict (mode: Predicate Abstraction)])"
      ]
     },
     "execution_count": 5,
     "metadata": {},
     "output_type": "execute_result"
    }
   ],
   "source": [
    "# composition here\n",
    "Alfonso * (borrowed * (the * book))"
   ]
  },
  {
   "cell_type": "code",
   "execution_count": 6,
   "metadata": {
    "collapsed": false
   },
   "outputs": [
    {
     "data": {
      "text/html": [
       "Full composition trace.  1 path:<br />\n",
       "&nbsp;&nbsp;&nbsp;&nbsp;Step 1: $[\\![\\mathbf{\\text{borrowed}}]\\!]^{}_{\\langle{}e,\\langle{}e,t\\rangle{}\\rangle{}} \\:=\\: $$\\lambda{} x_{e} \\: . \\: \\lambda{} y_{e} \\: . \\: {Borrow}({y}_{e}, {x}_{e})$<br />\n",
       "&nbsp;&nbsp;&nbsp;&nbsp;Step 2: $[\\![\\mathbf{\\text{the}}]\\!]^{}_{\\langle{}\\langle{}e,t\\rangle{},e\\rangle{}} \\:=\\: $$\\lambda{} f_{\\langle{}e,t\\rangle{}} \\: . \\: \\iota{} x_{e} \\: . \\: ({f}_{\\langle{}e,t\\rangle{}}({x}_{e}) \\wedge{} ({x}_{e} \\in{} {c}_{\\{e\\}}))$<br />\n",
       "&nbsp;&nbsp;&nbsp;&nbsp;Step 3: $[\\![\\mathbf{\\text{book}}]\\!]^{}_{\\langle{}e,t\\rangle{}} \\:=\\: $$\\lambda{} x_{e} \\: . \\: {Book}({x}_{e})$<br />\n",
       "&nbsp;&nbsp;&nbsp;&nbsp;Step 4: $[\\![\\mathbf{\\text{the}}]\\!]^{}_{\\langle{}\\langle{}e,t\\rangle{},e\\rangle{}}$ * $[\\![\\mathbf{\\text{book}}]\\!]^{}_{\\langle{}e,t\\rangle{}}$ leads to: $[\\![\\mathbf{\\text{[the book]}}]\\!]^{}_{e} \\:=\\: $$\\iota{} x_{e} \\: . \\: ({Book}({x}_{e}) \\wedge{} ({x}_{e} \\in{} {c}_{\\{e\\}}))$ <b>[by FA]</b><br />\n",
       "&nbsp;&nbsp;&nbsp;&nbsp;Step 5: $[\\![\\mathbf{\\text{borrowed}}]\\!]^{}_{\\langle{}e,\\langle{}e,t\\rangle{}\\rangle{}}$ * $[\\![\\mathbf{\\text{[the book]}}]\\!]^{}_{e}$ leads to: $[\\![\\mathbf{\\text{[borrowed [the book]]}}]\\!]^{}_{\\langle{}e,t\\rangle{}} \\:=\\: $$\\lambda{} y_{e} \\: . \\: {Borrow}({y}_{e}, \\iota{} x_{e} \\: . \\: ({Book}({x}_{e}) \\wedge{} ({x}_{e} \\in{} {c}_{\\{e\\}})))$ <b>[by FA]</b><br />\n",
       "&nbsp;&nbsp;&nbsp;&nbsp;Step 6: $[\\![\\mathbf{\\text{Alfonso}}]\\!]^{}_{e} \\:=\\: $${a}_{e}$<br />\n",
       "&nbsp;&nbsp;&nbsp;&nbsp;Step 7: $[\\![\\mathbf{\\text{[borrowed [the book]]}}]\\!]^{}_{\\langle{}e,t\\rangle{}}$ * $[\\![\\mathbf{\\text{Alfonso}}]\\!]^{}_{e}$ leads to: $[\\![\\mathbf{\\text{[[borrowed [the book]] Alfonso]}}]\\!]^{}_{t} \\:=\\: $${Borrow}({a}_{e}, \\iota{} x_{e} \\: . \\: ({Book}({x}_{e}) \\wedge{} ({x}_{e} \\in{} {c}_{\\{e\\}})))$ <b>[by FA]</b><br />\n"
      ],
      "text/latex": [
       "Full composition trace.  1 path:<br />\n",
       "&nbsp;&nbsp;&nbsp;&nbsp;Step 1: $[\\![\\mathbf{\\text{borrowed}}]\\!]^{}_{\\langle{}e,\\langle{}e,t\\rangle{}\\rangle{}} \\:=\\: $$\\lambda{} x_{e} \\: . \\: \\lambda{} y_{e} \\: . \\: {Borrow}({y}_{e}, {x}_{e})$<br />\n",
       "&nbsp;&nbsp;&nbsp;&nbsp;Step 2: $[\\![\\mathbf{\\text{the}}]\\!]^{}_{\\langle{}\\langle{}e,t\\rangle{},e\\rangle{}} \\:=\\: $$\\lambda{} f_{\\langle{}e,t\\rangle{}} \\: . \\: \\iota{} x_{e} \\: . \\: ({f}_{\\langle{}e,t\\rangle{}}({x}_{e}) \\wedge{} ({x}_{e} \\in{} {c}_{\\{e\\}}))$<br />\n",
       "&nbsp;&nbsp;&nbsp;&nbsp;Step 3: $[\\![\\mathbf{\\text{book}}]\\!]^{}_{\\langle{}e,t\\rangle{}} \\:=\\: $$\\lambda{} x_{e} \\: . \\: {Book}({x}_{e})$<br />\n",
       "&nbsp;&nbsp;&nbsp;&nbsp;Step 4: $[\\![\\mathbf{\\text{the}}]\\!]^{}_{\\langle{}\\langle{}e,t\\rangle{},e\\rangle{}}$ * $[\\![\\mathbf{\\text{book}}]\\!]^{}_{\\langle{}e,t\\rangle{}}$ leads to: $[\\![\\mathbf{\\text{[the book]}}]\\!]^{}_{e} \\:=\\: $$\\iota{} x_{e} \\: . \\: ({Book}({x}_{e}) \\wedge{} ({x}_{e} \\in{} {c}_{\\{e\\}}))$ <b>[by FA]</b><br />\n",
       "&nbsp;&nbsp;&nbsp;&nbsp;Step 5: $[\\![\\mathbf{\\text{borrowed}}]\\!]^{}_{\\langle{}e,\\langle{}e,t\\rangle{}\\rangle{}}$ * $[\\![\\mathbf{\\text{[the book]}}]\\!]^{}_{e}$ leads to: $[\\![\\mathbf{\\text{[borrowed [the book]]}}]\\!]^{}_{\\langle{}e,t\\rangle{}} \\:=\\: $$\\lambda{} y_{e} \\: . \\: {Borrow}({y}_{e}, \\iota{} x_{e} \\: . \\: ({Book}({x}_{e}) \\wedge{} ({x}_{e} \\in{} {c}_{\\{e\\}})))$ <b>[by FA]</b><br />\n",
       "&nbsp;&nbsp;&nbsp;&nbsp;Step 6: $[\\![\\mathbf{\\text{Alfonso}}]\\!]^{}_{e} \\:=\\: $${a}_{e}$<br />\n",
       "&nbsp;&nbsp;&nbsp;&nbsp;Step 7: $[\\![\\mathbf{\\text{[borrowed [the book]]}}]\\!]^{}_{\\langle{}e,t\\rangle{}}$ * $[\\![\\mathbf{\\text{Alfonso}}]\\!]^{}_{e}$ leads to: $[\\![\\mathbf{\\text{[[borrowed [the book]] Alfonso]}}]\\!]^{}_{t} \\:=\\: $${Borrow}({a}_{e}, \\iota{} x_{e} \\: . \\: ({Book}({x}_{e}) \\wedge{} ({x}_{e} \\in{} {c}_{\\{e\\}})))$ <b>[by FA]</b><br />\n"
      ],
      "text/plain": [
       "Full composition trace.  1 path:<br />\n",
       "&nbsp;&nbsp;&nbsp;&nbsp;Step 1: $[\\![\\mathbf{\\text{borrowed}}]\\!]^{}_{\\langle{}e,\\langle{}e,t\\rangle{}\\rangle{}} \\:=\\: $$\\lambda{} x_{e} \\: . \\: \\lambda{} y_{e} \\: . \\: {Borrow}({y}_{e}, {x}_{e})$<br />\n",
       "&nbsp;&nbsp;&nbsp;&nbsp;Step 2: $[\\![\\mathbf{\\text{the}}]\\!]^{}_{\\langle{}\\langle{}e,t\\rangle{},e\\rangle{}} \\:=\\: $$\\lambda{} f_{\\langle{}e,t\\rangle{}} \\: . \\: \\iota{} x_{e} \\: . \\: ({f}_{\\langle{}e,t\\rangle{}}({x}_{e}) \\wedge{} ({x}_{e} \\in{} {c}_{\\{e\\}}))$<br />\n",
       "&nbsp;&nbsp;&nbsp;&nbsp;Step 3: $[\\![\\mathbf{\\text{book}}]\\!]^{}_{\\langle{}e,t\\rangle{}} \\:=\\: $$\\lambda{} x_{e} \\: . \\: {Book}({x}_{e})$<br />\n",
       "&nbsp;&nbsp;&nbsp;&nbsp;Step 4: $[\\![\\mathbf{\\text{the}}]\\!]^{}_{\\langle{}\\langle{}e,t\\rangle{},e\\rangle{}}$ * $[\\![\\mathbf{\\text{book}}]\\!]^{}_{\\langle{}e,t\\rangle{}}$ leads to: $[\\![\\mathbf{\\text{[the book]}}]\\!]^{}_{e} \\:=\\: $$\\iota{} x_{e} \\: . \\: ({Book}({x}_{e}) \\wedge{} ({x}_{e} \\in{} {c}_{\\{e\\}}))$ <b>[by FA]</b><br />\n",
       "&nbsp;&nbsp;&nbsp;&nbsp;Step 5: $[\\![\\mathbf{\\text{borrowed}}]\\!]^{}_{\\langle{}e,\\langle{}e,t\\rangle{}\\rangle{}}$ * $[\\![\\mathbf{\\text{[the book]}}]\\!]^{}_{e}$ leads to: $[\\![\\mathbf{\\text{[borrowed [the book]]}}]\\!]^{}_{\\langle{}e,t\\rangle{}} \\:=\\: $$\\lambda{} y_{e} \\: . \\: {Borrow}({y}_{e}, \\iota{} x_{e} \\: . \\: ({Book}({x}_{e}) \\wedge{} ({x}_{e} \\in{} {c}_{\\{e\\}})))$ <b>[by FA]</b><br />\n",
       "&nbsp;&nbsp;&nbsp;&nbsp;Step 6: $[\\![\\mathbf{\\text{Alfonso}}]\\!]^{}_{e} \\:=\\: $${a}_{e}$<br />\n",
       "&nbsp;&nbsp;&nbsp;&nbsp;Step 7: $[\\![\\mathbf{\\text{[borrowed [the book]]}}]\\!]^{}_{\\langle{}e,t\\rangle{}}$ * $[\\![\\mathbf{\\text{Alfonso}}]\\!]^{}_{e}$ leads to: $[\\![\\mathbf{\\text{[[borrowed [the book]] Alfonso]}}]\\!]^{}_{t} \\:=\\: $${Borrow}({a}_{e}, \\iota{} x_{e} \\: . \\: ({Book}({x}_{e}) \\wedge{} ({x}_{e} \\in{} {c}_{\\{e\\}})))$ <b>[by FA]</b><br />"
      ]
     },
     "execution_count": 6,
     "metadata": {},
     "output_type": "execute_result"
    }
   ],
   "source": [
    "# the composition trace for (4) Alfonso borrowed the book.\n",
    "(Alfonso * (borrowed * (the * book))).trace()"
   ]
  },
  {
   "cell_type": "markdown",
   "metadata": {},
   "source": [
    "__*KC: 8/8*__"
   ]
  },
  {
   "cell_type": "markdown",
   "metadata": {},
   "source": [
    "**Part [b]**: In the following cell, write an entry for `mother`, and describe it in the next cell."
   ]
  },
  {
   "cell_type": "code",
   "execution_count": 195,
   "metadata": {
    "collapsed": false
   },
   "outputs": [
    {
     "name": "stderr",
     "output_type": "stream",
     "text": [
      "INFO (meta): Coerced guessed type t for 'Mother_t' into <(e,e),t>, to match argument '(y_e, x_e)'\n"
     ]
    },
    {
     "data": {
      "text/html": [
       "$[\\![\\mathbf{\\text{mother}}]\\!]^{}_{\\langle{}\\langle{}e,e\\rangle{},t\\rangle{}} \\:=\\: \\lambda{} f_{\\langle{}e,e\\rangle{}} \\: . \\: \\exists{} x_{e} \\: . \\: {Mother}_{\\langle{}\\langle{}e,e\\rangle{},t\\rangle{}}({f}_{\\langle{}e,e\\rangle{}})$<br />\n",
       "$[\\![\\mathbf{\\text{motherb}}]\\!]^{}_{\\langle{}e,\\langle{}e,t\\rangle{}\\rangle{}} \\:=\\: \\lambda{} x_{e} \\: . \\: \\lambda{} y_{e} \\: . \\: \\exists{} x_{e} \\: . \\: ({Mother}({y}_{e}, {x}_{e}) \\leftrightarrow{} {True}_{t})$"
      ],
      "text/latex": [
       "$[\\![\\mathbf{\\text{mother}}]\\!]^{}_{\\langle{}\\langle{}e,e\\rangle{},t\\rangle{}} \\:=\\: \\lambda{} f_{\\langle{}e,e\\rangle{}} \\: . \\: \\exists{} x_{e} \\: . \\: {Mother}_{\\langle{}\\langle{}e,e\\rangle{},t\\rangle{}}({f}_{\\langle{}e,e\\rangle{}})$<br />\n",
       "$[\\![\\mathbf{\\text{motherb}}]\\!]^{}_{\\langle{}e,\\langle{}e,t\\rangle{}\\rangle{}} \\:=\\: \\lambda{} x_{e} \\: . \\: \\lambda{} y_{e} \\: . \\: \\exists{} x_{e} \\: . \\: ({Mother}({y}_{e}, {x}_{e}) \\leftrightarrow{} {True}_{t})$"
      ],
      "text/plain": [
       "$[\\![\\mathbf{\\text{mother}}]\\!]^{}_{\\langle{}\\langle{}e,e\\rangle{},t\\rangle{}} \\:=\\: \\lambda{} f_{\\langle{}e,e\\rangle{}} \\: . \\: \\exists{} x_{e} \\: . \\: {Mother}_{\\langle{}\\langle{}e,e\\rangle{},t\\rangle{}}({f}_{\\langle{}e,e\\rangle{}})$<br />\n",
       "$[\\![\\mathbf{\\text{motherb}}]\\!]^{}_{\\langle{}e,\\langle{}e,t\\rangle{}\\rangle{}} \\:=\\: \\lambda{} x_{e} \\: . \\: \\lambda{} y_{e} \\: . \\: \\exists{} x_{e} \\: . \\: ({Mother}({y}_{e}, {x}_{e}) \\leftrightarrow{} {True}_{t})$"
      ]
     },
     "execution_count": 195,
     "metadata": {},
     "output_type": "execute_result"
    }
   ],
   "source": [
    "%%lamb\n",
    "\n",
    "||mother|| = L f_<e,e> : Exists x_e : Mother_<<e,e>,t>(f)\n",
    "        \n",
    "||motherb|| = L x_e : L y_e : Exists x_e : Mother(y,x) <=> True_t\n",
    "        "
   ]
  },
  {
   "cell_type": "markdown",
   "metadata": {},
   "source": [
    "**Markdown cell**: please explain your entry for `mother` in prose by editing this cell.\n",
    "\n",
    "The term 'mother' necessitates the existence of an entity x which is the child of the mother. This is why mother is a different type from 'book'.  Items like 'book' do not necessitate the existence of a possessor and a possessive relationship. The function for mother is of a similar type as a transitive verb.  In fact, we could even use the same denotation in verb form in saying \"She mothered Joanna.\"  It takes this form because the term necessarily relates one entity (the child x) to another entity (the mother y).  Therefore the function for 'mother' maps from (e) to (e,t), in which the t denotes the truth value of that relationship (the person actually does need to be a mother to someone).  \n",
    "\n",
    "__*KC: 8/8 - I don't think the exsistence operator is necessary, by uttering this DP it does presuppose exsistance, but then doesn't everything?  It also makes your derivations look misleading becasue the $x$ bound by $Exists$ should be the same entity as the $y$ bound by $Iota$*__"
   ]
  },
  {
   "cell_type": "markdown",
   "metadata": {},
   "source": [
    "**Part [c]** (possessive denotation): In the following cell write an entry for the possessive morpheme.  To handle python naming, call it `POSS` instead of `'s`.  "
   ]
  },
  {
   "cell_type": "code",
   "execution_count": 207,
   "metadata": {
    "collapsed": false
   },
   "outputs": [
    {
     "name": "stderr",
     "output_type": "stream",
     "text": [
      "INFO (meta): Coerced guessed type t for 'Owns_t' into <(e,e),t>, to match argument '(y_e, x_e)'\n",
      "INFO (meta): Coerced guessed type t for 'Owns_t' into <(e,e),t>, to match argument '(y_e, x_e)'\n"
     ]
    },
    {
     "data": {
      "text/html": [
       "$[\\![\\mathbf{\\text{owns}}]\\!]^{}_{\\langle{}e,\\langle{}e,t\\rangle{}\\rangle{}} \\:=\\: \\lambda{} x_{e} \\: . \\: \\lambda{} y_{e} \\: . \\: {Owns}({y}_{e}, {x}_{e})$<br />\n",
       "$[\\![\\mathbf{\\text{POSSA}}]\\!]^{}_{\\langle{}\\langle{}e,t\\rangle{},\\langle{}e,e\\rangle{}\\rangle{}} \\:=\\: \\lambda{} f_{\\langle{}e,t\\rangle{}} \\: . \\: \\lambda{} x_{e} \\: . \\: \\iota{} y_{e} \\: . \\: (({f}_{\\langle{}e,t\\rangle{}}({x}_{e}) \\wedge{} {Owns}({y}_{e}, {x}_{e})) \\wedge{} ({y}_{e} \\in{} {c}_{\\{e\\}}))$<br />\n",
       "$[\\![\\mathbf{\\text{POSSB}}]\\!]^{}_{\\langle{}\\langle{}e,\\langle{}e,t\\rangle{}\\rangle{},\\langle{}e,e\\rangle{}\\rangle{}} \\:=\\: \\lambda{} f_{\\langle{}e,\\langle{}e,t\\rangle{}\\rangle{}} \\: . \\: \\lambda{} x_{e} \\: . \\: \\iota{} y_{e} \\: . \\: {f}_{\\langle{}e,\\langle{}e,t\\rangle{}\\rangle{}}({y}_{e})({x}_{e})$"
      ],
      "text/latex": [
       "$[\\![\\mathbf{\\text{owns}}]\\!]^{}_{\\langle{}e,\\langle{}e,t\\rangle{}\\rangle{}} \\:=\\: \\lambda{} x_{e} \\: . \\: \\lambda{} y_{e} \\: . \\: {Owns}({y}_{e}, {x}_{e})$<br />\n",
       "$[\\![\\mathbf{\\text{POSSA}}]\\!]^{}_{\\langle{}\\langle{}e,t\\rangle{},\\langle{}e,e\\rangle{}\\rangle{}} \\:=\\: \\lambda{} f_{\\langle{}e,t\\rangle{}} \\: . \\: \\lambda{} x_{e} \\: . \\: \\iota{} y_{e} \\: . \\: (({f}_{\\langle{}e,t\\rangle{}}({x}_{e}) \\wedge{} {Owns}({y}_{e}, {x}_{e})) \\wedge{} ({y}_{e} \\in{} {c}_{\\{e\\}}))$<br />\n",
       "$[\\![\\mathbf{\\text{POSSB}}]\\!]^{}_{\\langle{}\\langle{}e,\\langle{}e,t\\rangle{}\\rangle{},\\langle{}e,e\\rangle{}\\rangle{}} \\:=\\: \\lambda{} f_{\\langle{}e,\\langle{}e,t\\rangle{}\\rangle{}} \\: . \\: \\lambda{} x_{e} \\: . \\: \\iota{} y_{e} \\: . \\: {f}_{\\langle{}e,\\langle{}e,t\\rangle{}\\rangle{}}({y}_{e})({x}_{e})$"
      ],
      "text/plain": [
       "$[\\![\\mathbf{\\text{owns}}]\\!]^{}_{\\langle{}e,\\langle{}e,t\\rangle{}\\rangle{}} \\:=\\: \\lambda{} x_{e} \\: . \\: \\lambda{} y_{e} \\: . \\: {Owns}({y}_{e}, {x}_{e})$<br />\n",
       "$[\\![\\mathbf{\\text{POSSA}}]\\!]^{}_{\\langle{}\\langle{}e,t\\rangle{},\\langle{}e,e\\rangle{}\\rangle{}} \\:=\\: \\lambda{} f_{\\langle{}e,t\\rangle{}} \\: . \\: \\lambda{} x_{e} \\: . \\: \\iota{} y_{e} \\: . \\: (({f}_{\\langle{}e,t\\rangle{}}({x}_{e}) \\wedge{} {Owns}({y}_{e}, {x}_{e})) \\wedge{} ({y}_{e} \\in{} {c}_{\\{e\\}}))$<br />\n",
       "$[\\![\\mathbf{\\text{POSSB}}]\\!]^{}_{\\langle{}\\langle{}e,\\langle{}e,t\\rangle{}\\rangle{},\\langle{}e,e\\rangle{}\\rangle{}} \\:=\\: \\lambda{} f_{\\langle{}e,\\langle{}e,t\\rangle{}\\rangle{}} \\: . \\: \\lambda{} x_{e} \\: . \\: \\iota{} y_{e} \\: . \\: {f}_{\\langle{}e,\\langle{}e,t\\rangle{}\\rangle{}}({y}_{e})({x}_{e})$"
      ]
     },
     "execution_count": 207,
     "metadata": {},
     "output_type": "execute_result"
    }
   ],
   "source": [
    "%%lamb\n",
    "\n",
    "# the possessive entails ownership. for this reason, we need the transitive verb 'owns'. \n",
    "||owns|| = L x_e : L y_e : Owns(y,x)\n",
    "        #KC: not always, we can use this DP when Joanna was the author of a book, but doesn't own a copy\n",
    "        #so to make POSSA more general, just leave the function underspecified\n",
    "\n",
    "# for type <e,t> such as \"book\"\n",
    "||POSSA|| = L f_<e,t> : L x_e : Iota y_e : f(x) & Owns(y,x) & y << c\n",
    "                \n",
    "# for type <e,<e,t>> such as \"mother\"\n",
    "||POSSB|| = L f_<e,<e,t>> : L x_e : Iota y_e : f(y)(x)\n"
   ]
  },
  {
   "cell_type": "markdown",
   "metadata": {},
   "source": [
    "**Markdown cell**: please explain your entry for `POSS` in prose by editing this cell.\n",
    "  \n",
    "I propose an ambiguity for the possessive morpheme 's' so that it can handle items of type (e,t) such as \"book\" and also of type (e,(e,t)) such as \"mother\".  In both cases, the possessive gives an (e,e) type output which can then map from the possessor entity to pick out the unique entity that is possessed. The final type of the DP should be that of e, an entity.  \n",
    "\n",
    "For the first type, I chose to define the possessive as a conjunction of three conditions.  First, the item must be owned by another entity.  Therefore, I defined 'owns' as a transitive verb and included it as one of the truth-conditions for the possessive morpheme.  Obviously, the entity must be within the (e,t) class (in this case, the entity needs to be a book).  Lastly, all this occurs within the salient context.  For example, we may speak of Joanna's book as the particular book that is currently in front of us or the topic of conversation, even though Joanna may likely own other books. \n",
    "\n",
    "However, in the second type of (e,(e,t)), such as 'mother', the presupposition of owner & ownee is already carried by the term 'mother' itself.  Therefore the possessive morpheme only need take in a function of the appropriate type and pick out the (e,e) relation.  Eventually both possessive morphemes give (e,e) output so that we can have a unique entity y that is owned by or the mother of entity x, specified further up in our composition.  \n",
    "__*KC: 9/9*__"
   ]
  },
  {
   "cell_type": "markdown",
   "metadata": {},
   "source": [
    "**Part [c]** (explication of why this denotation works): In the following cell, calculate the meaning of the tree in (6) on the midterm using the `*` operator."
   ]
  },
  {
   "cell_type": "code",
   "execution_count": 208,
   "metadata": {
    "collapsed": false
   },
   "outputs": [
    {
     "data": {
      "text/html": [
       "1 composition path.  Result:\n",
       "<br />&nbsp;&nbsp;&nbsp;&nbsp;[0]: $[\\![\\mathbf{\\text{[[POSSA book] Joanna]}}]\\!]^{}_{e} \\:=\\: $$\\iota{} y_{e} \\: . \\: (({Book}({j}_{e}) \\wedge{} {Owns}({y}_{e}, {j}_{e})) \\wedge{} ({y}_{e} \\in{} {c}_{\\{e\\}}))$"
      ],
      "text/plain": [
       "CompositionResult(results=[⟦[[POSSA book] Joanna]⟧ = (ι y_e: ((Book_<e,t>(j_e) & Owns_<(e,e),t>(y_e, j_e)) & (y_e << c_{e})))], failures=[⟦[Joanna [POSSA book]]⟧ = Type mismatch: '⟦Joanna⟧ = j_e'/e and '⟦[POSSA book]⟧ = (λ x_e: (ι y_e: ((Book_<e,t>(x_e) & Owns_<(e,e),t>(y_e, x_e)) & (y_e << c_{e}))))'/<e,e> conflict (mode: Function Application), ⟦[Joanna [POSSA book]]⟧ = Type mismatch: '⟦Joanna⟧ = j_e'/e and '⟦[POSSA book]⟧ = (λ x_e: (ι y_e: ((Book_<e,t>(x_e) & Owns_<(e,e),t>(y_e, x_e)) & (y_e << c_{e}))))'/<e,e> conflict (mode: Predicate Modification), ⟦[Joanna [POSSA book]]⟧ = Type mismatch: '⟦Joanna⟧ = j_e'/e and '⟦[POSSA book]⟧ = (λ x_e: (ι y_e: ((Book_<e,t>(x_e) & Owns_<(e,e),t>(y_e, x_e)) & (y_e << c_{e}))))'/<e,e> conflict (mode: Predicate Abstraction), ⟦[[POSSA book] Joanna]⟧ = Type mismatch: '⟦[POSSA book]⟧ = (λ x_e: (ι y_e: ((Book_<e,t>(x_e) & Owns_<(e,e),t>(y_e, x_e)) & (y_e << c_{e}))))'/<e,e> and '⟦Joanna⟧ = j_e'/e conflict (mode: Predicate Abstraction)])"
      ]
     },
     "execution_count": 208,
     "metadata": {},
     "output_type": "execute_result"
    }
   ],
   "source": [
    "#first I will demonstrate the composition of 'Joanna's book' using the first denotation for the possessive morpheme.\n",
    "#this picks out the unique entity y in the set of books which is owned by Joanne and which is in the salient context.\n",
    "Joanna * (POSSA * book)"
   ]
  },
  {
   "cell_type": "code",
   "execution_count": 209,
   "metadata": {
    "collapsed": false
   },
   "outputs": [
    {
     "data": {
      "text/html": [
       "1 composition path.  Result:\n",
       "<br />&nbsp;&nbsp;&nbsp;&nbsp;[0]: $[\\![\\mathbf{\\text{[[POSSB motherb] Joanna]}}]\\!]^{}_{e} \\:=\\: $$\\iota{} y_{e} \\: . \\: \\exists{} x1_{e} \\: . \\: ({Mother}({j}_{e}, {x1}_{e}) \\leftrightarrow{} {True}_{t})$"
      ],
      "text/plain": [
       "CompositionResult(results=[⟦[[POSSB motherb] Joanna]⟧ = (ι y_e: (Exists x1_e: (Mother_<(e,e),t>(j_e, x1_e) <=> True_t)))], failures=[⟦[Joanna [POSSB motherb]]⟧ = Type mismatch: '⟦Joanna⟧ = j_e'/e and '⟦[POSSB motherb]⟧ = (λ x_e: (ι y_e: (Exists x1_e: (Mother_<(e,e),t>(x_e, x1_e) <=> True_t))))'/<e,e> conflict (mode: Function Application), ⟦[Joanna [POSSB motherb]]⟧ = Type mismatch: '⟦Joanna⟧ = j_e'/e and '⟦[POSSB motherb]⟧ = (λ x_e: (ι y_e: (Exists x1_e: (Mother_<(e,e),t>(x_e, x1_e) <=> True_t))))'/<e,e> conflict (mode: Predicate Modification), ⟦[Joanna [POSSB motherb]]⟧ = Type mismatch: '⟦Joanna⟧ = j_e'/e and '⟦[POSSB motherb]⟧ = (λ x_e: (ι y_e: (Exists x1_e: (Mother_<(e,e),t>(x_e, x1_e) <=> True_t))))'/<e,e> conflict (mode: Predicate Abstraction), ⟦[[POSSB motherb] Joanna]⟧ = Type mismatch: '⟦[POSSB motherb]⟧ = (λ x_e: (ι y_e: (Exists x1_e: (Mother_<(e,e),t>(x_e, x1_e) <=> True_t))))'/<e,e> and '⟦Joanna⟧ = j_e'/e conflict (mode: Predicate Abstraction)])"
      ]
     },
     "execution_count": 209,
     "metadata": {},
     "output_type": "execute_result"
    }
   ],
   "source": [
    "#now I will demonstrate the composition of 'Joanna's mother' using the second denotation for the possessive morpheme\n",
    "Joanna * (POSSB * motherb)"
   ]
  },
  {
   "cell_type": "code",
   "execution_count": 210,
   "metadata": {
    "collapsed": false
   },
   "outputs": [
    {
     "data": {
      "text/html": [
       "Full composition trace.  1 path:<br />\n",
       "&nbsp;&nbsp;&nbsp;&nbsp;Step 1: $[\\![\\mathbf{\\text{POSSB}}]\\!]^{}_{\\langle{}\\langle{}e,\\langle{}e,t\\rangle{}\\rangle{},\\langle{}e,e\\rangle{}\\rangle{}} \\:=\\: $$\\lambda{} f_{\\langle{}e,\\langle{}e,t\\rangle{}\\rangle{}} \\: . \\: \\lambda{} x_{e} \\: . \\: \\iota{} y_{e} \\: . \\: {f}_{\\langle{}e,\\langle{}e,t\\rangle{}\\rangle{}}({y}_{e})({x}_{e})$<br />\n",
       "&nbsp;&nbsp;&nbsp;&nbsp;Step 2: $[\\![\\mathbf{\\text{motherb}}]\\!]^{}_{\\langle{}e,\\langle{}e,t\\rangle{}\\rangle{}} \\:=\\: $$\\lambda{} x_{e} \\: . \\: \\lambda{} y_{e} \\: . \\: \\exists{} x_{e} \\: . \\: ({Mother}({y}_{e}, {x}_{e}) \\leftrightarrow{} {True}_{t})$<br />\n",
       "&nbsp;&nbsp;&nbsp;&nbsp;Step 3: $[\\![\\mathbf{\\text{POSSB}}]\\!]^{}_{\\langle{}\\langle{}e,\\langle{}e,t\\rangle{}\\rangle{},\\langle{}e,e\\rangle{}\\rangle{}}$ * $[\\![\\mathbf{\\text{motherb}}]\\!]^{}_{\\langle{}e,\\langle{}e,t\\rangle{}\\rangle{}}$ leads to: $[\\![\\mathbf{\\text{[POSSB motherb]}}]\\!]^{}_{\\langle{}e,e\\rangle{}} \\:=\\: $$\\lambda{} x_{e} \\: . \\: \\iota{} y_{e} \\: . \\: \\exists{} x1_{e} \\: . \\: ({Mother}({x}_{e}, {x1}_{e}) \\leftrightarrow{} {True}_{t})$ <b>[by FA]</b><br />\n",
       "&nbsp;&nbsp;&nbsp;&nbsp;Step 4: $[\\![\\mathbf{\\text{Joanna}}]\\!]^{}_{e} \\:=\\: $${j}_{e}$<br />\n",
       "&nbsp;&nbsp;&nbsp;&nbsp;Step 5: $[\\![\\mathbf{\\text{[POSSB motherb]}}]\\!]^{}_{\\langle{}e,e\\rangle{}}$ * $[\\![\\mathbf{\\text{Joanna}}]\\!]^{}_{e}$ leads to: $[\\![\\mathbf{\\text{[[POSSB motherb] Joanna]}}]\\!]^{}_{e} \\:=\\: $$\\iota{} y_{e} \\: . \\: \\exists{} x1_{e} \\: . \\: ({Mother}({j}_{e}, {x1}_{e}) \\leftrightarrow{} {True}_{t})$ <b>[by FA]</b><br />\n"
      ],
      "text/latex": [
       "Full composition trace.  1 path:<br />\n",
       "&nbsp;&nbsp;&nbsp;&nbsp;Step 1: $[\\![\\mathbf{\\text{POSSB}}]\\!]^{}_{\\langle{}\\langle{}e,\\langle{}e,t\\rangle{}\\rangle{},\\langle{}e,e\\rangle{}\\rangle{}} \\:=\\: $$\\lambda{} f_{\\langle{}e,\\langle{}e,t\\rangle{}\\rangle{}} \\: . \\: \\lambda{} x_{e} \\: . \\: \\iota{} y_{e} \\: . \\: {f}_{\\langle{}e,\\langle{}e,t\\rangle{}\\rangle{}}({y}_{e})({x}_{e})$<br />\n",
       "&nbsp;&nbsp;&nbsp;&nbsp;Step 2: $[\\![\\mathbf{\\text{motherb}}]\\!]^{}_{\\langle{}e,\\langle{}e,t\\rangle{}\\rangle{}} \\:=\\: $$\\lambda{} x_{e} \\: . \\: \\lambda{} y_{e} \\: . \\: \\exists{} x_{e} \\: . \\: ({Mother}({y}_{e}, {x}_{e}) \\leftrightarrow{} {True}_{t})$<br />\n",
       "&nbsp;&nbsp;&nbsp;&nbsp;Step 3: $[\\![\\mathbf{\\text{POSSB}}]\\!]^{}_{\\langle{}\\langle{}e,\\langle{}e,t\\rangle{}\\rangle{},\\langle{}e,e\\rangle{}\\rangle{}}$ * $[\\![\\mathbf{\\text{motherb}}]\\!]^{}_{\\langle{}e,\\langle{}e,t\\rangle{}\\rangle{}}$ leads to: $[\\![\\mathbf{\\text{[POSSB motherb]}}]\\!]^{}_{\\langle{}e,e\\rangle{}} \\:=\\: $$\\lambda{} x_{e} \\: . \\: \\iota{} y_{e} \\: . \\: \\exists{} x1_{e} \\: . \\: ({Mother}({x}_{e}, {x1}_{e}) \\leftrightarrow{} {True}_{t})$ <b>[by FA]</b><br />\n",
       "&nbsp;&nbsp;&nbsp;&nbsp;Step 4: $[\\![\\mathbf{\\text{Joanna}}]\\!]^{}_{e} \\:=\\: $${j}_{e}$<br />\n",
       "&nbsp;&nbsp;&nbsp;&nbsp;Step 5: $[\\![\\mathbf{\\text{[POSSB motherb]}}]\\!]^{}_{\\langle{}e,e\\rangle{}}$ * $[\\![\\mathbf{\\text{Joanna}}]\\!]^{}_{e}$ leads to: $[\\![\\mathbf{\\text{[[POSSB motherb] Joanna]}}]\\!]^{}_{e} \\:=\\: $$\\iota{} y_{e} \\: . \\: \\exists{} x1_{e} \\: . \\: ({Mother}({j}_{e}, {x1}_{e}) \\leftrightarrow{} {True}_{t})$ <b>[by FA]</b><br />\n"
      ],
      "text/plain": [
       "Full composition trace.  1 path:<br />\n",
       "&nbsp;&nbsp;&nbsp;&nbsp;Step 1: $[\\![\\mathbf{\\text{POSSB}}]\\!]^{}_{\\langle{}\\langle{}e,\\langle{}e,t\\rangle{}\\rangle{},\\langle{}e,e\\rangle{}\\rangle{}} \\:=\\: $$\\lambda{} f_{\\langle{}e,\\langle{}e,t\\rangle{}\\rangle{}} \\: . \\: \\lambda{} x_{e} \\: . \\: \\iota{} y_{e} \\: . \\: {f}_{\\langle{}e,\\langle{}e,t\\rangle{}\\rangle{}}({y}_{e})({x}_{e})$<br />\n",
       "&nbsp;&nbsp;&nbsp;&nbsp;Step 2: $[\\![\\mathbf{\\text{motherb}}]\\!]^{}_{\\langle{}e,\\langle{}e,t\\rangle{}\\rangle{}} \\:=\\: $$\\lambda{} x_{e} \\: . \\: \\lambda{} y_{e} \\: . \\: \\exists{} x_{e} \\: . \\: ({Mother}({y}_{e}, {x}_{e}) \\leftrightarrow{} {True}_{t})$<br />\n",
       "&nbsp;&nbsp;&nbsp;&nbsp;Step 3: $[\\![\\mathbf{\\text{POSSB}}]\\!]^{}_{\\langle{}\\langle{}e,\\langle{}e,t\\rangle{}\\rangle{},\\langle{}e,e\\rangle{}\\rangle{}}$ * $[\\![\\mathbf{\\text{motherb}}]\\!]^{}_{\\langle{}e,\\langle{}e,t\\rangle{}\\rangle{}}$ leads to: $[\\![\\mathbf{\\text{[POSSB motherb]}}]\\!]^{}_{\\langle{}e,e\\rangle{}} \\:=\\: $$\\lambda{} x_{e} \\: . \\: \\iota{} y_{e} \\: . \\: \\exists{} x1_{e} \\: . \\: ({Mother}({x}_{e}, {x1}_{e}) \\leftrightarrow{} {True}_{t})$ <b>[by FA]</b><br />\n",
       "&nbsp;&nbsp;&nbsp;&nbsp;Step 4: $[\\![\\mathbf{\\text{Joanna}}]\\!]^{}_{e} \\:=\\: $${j}_{e}$<br />\n",
       "&nbsp;&nbsp;&nbsp;&nbsp;Step 5: $[\\![\\mathbf{\\text{[POSSB motherb]}}]\\!]^{}_{\\langle{}e,e\\rangle{}}$ * $[\\![\\mathbf{\\text{Joanna}}]\\!]^{}_{e}$ leads to: $[\\![\\mathbf{\\text{[[POSSB motherb] Joanna]}}]\\!]^{}_{e} \\:=\\: $$\\iota{} y_{e} \\: . \\: \\exists{} x1_{e} \\: . \\: ({Mother}({j}_{e}, {x1}_{e}) \\leftrightarrow{} {True}_{t})$ <b>[by FA]</b><br />"
      ]
     },
     "execution_count": 210,
     "metadata": {},
     "output_type": "execute_result"
    }
   ],
   "source": [
    "#this is the full composition path for 'Joanna's mother'; note that we achieve type <e> for the whole NP\n",
    "(Joanna * (POSSB * motherb)).trace()"
   ]
  },
  {
   "cell_type": "markdown",
   "metadata": {},
   "source": [
    "**Part [d]** (grads, ugrad extra credit).  In the following cell(s) answer the question on the midterm.  You may insert as many new cells as you need, and use markdown cells to write any prose."
   ]
  },
  {
   "cell_type": "code",
   "execution_count": null,
   "metadata": {
    "collapsed": true
   },
   "outputs": [],
   "source": []
  },
  {
   "cell_type": "markdown",
   "metadata": {},
   "source": [
    "**Part [e]** In the following cells, calculate the denotation of `A doctor met Joanna's mother`.  You will need to fill out the lexicon with a few more items, and then do the composition."
   ]
  },
  {
   "cell_type": "code",
   "execution_count": 211,
   "metadata": {
    "collapsed": false
   },
   "outputs": [
    {
     "name": "stderr",
     "output_type": "stream",
     "text": [
      "INFO (meta): Coerced guessed type t for 'Doctor_t' into <e,t>, to match argument 'x_e'\n",
      "INFO (meta): Coerced guessed type t for 'Met_t' into <(e,e),t>, to match argument '(y_e, x_e)'\n"
     ]
    },
    {
     "data": {
      "text/html": [
       "$[\\![\\mathbf{\\text{a}}]\\!]^{}_{\\langle{}\\langle{}e,t\\rangle{},\\langle{}\\langle{}e,t\\rangle{},t\\rangle{}\\rangle{}} \\:=\\: \\lambda{} f_{\\langle{}e,t\\rangle{}} \\: . \\: \\lambda{} g_{\\langle{}e,t\\rangle{}} \\: . \\: \\exists{} x_{e} \\: . \\: (({f}_{\\langle{}e,t\\rangle{}}({x}_{e}) \\leftrightarrow{} {True}_{t}) \\wedge{} ({g}_{\\langle{}e,t\\rangle{}}({x}_{e}) \\leftrightarrow{} {True}_{t}))$<br />\n",
       "$[\\![\\mathbf{\\text{doctor}}]\\!]^{}_{\\langle{}e,t\\rangle{}} \\:=\\: \\lambda{} x_{e} \\: . \\: {Doctor}({x}_{e})$<br />\n",
       "$[\\![\\mathbf{\\text{met}}]\\!]^{}_{\\langle{}e,\\langle{}e,t\\rangle{}\\rangle{}} \\:=\\: \\lambda{} x_{e} \\: . \\: \\lambda{} y_{e} \\: . \\: {Met}({y}_{e}, {x}_{e})$"
      ],
      "text/latex": [
       "$[\\![\\mathbf{\\text{a}}]\\!]^{}_{\\langle{}\\langle{}e,t\\rangle{},\\langle{}\\langle{}e,t\\rangle{},t\\rangle{}\\rangle{}} \\:=\\: \\lambda{} f_{\\langle{}e,t\\rangle{}} \\: . \\: \\lambda{} g_{\\langle{}e,t\\rangle{}} \\: . \\: \\exists{} x_{e} \\: . \\: (({f}_{\\langle{}e,t\\rangle{}}({x}_{e}) \\leftrightarrow{} {True}_{t}) \\wedge{} ({g}_{\\langle{}e,t\\rangle{}}({x}_{e}) \\leftrightarrow{} {True}_{t}))$<br />\n",
       "$[\\![\\mathbf{\\text{doctor}}]\\!]^{}_{\\langle{}e,t\\rangle{}} \\:=\\: \\lambda{} x_{e} \\: . \\: {Doctor}({x}_{e})$<br />\n",
       "$[\\![\\mathbf{\\text{met}}]\\!]^{}_{\\langle{}e,\\langle{}e,t\\rangle{}\\rangle{}} \\:=\\: \\lambda{} x_{e} \\: . \\: \\lambda{} y_{e} \\: . \\: {Met}({y}_{e}, {x}_{e})$"
      ],
      "text/plain": [
       "$[\\![\\mathbf{\\text{a}}]\\!]^{}_{\\langle{}\\langle{}e,t\\rangle{},\\langle{}\\langle{}e,t\\rangle{},t\\rangle{}\\rangle{}} \\:=\\: \\lambda{} f_{\\langle{}e,t\\rangle{}} \\: . \\: \\lambda{} g_{\\langle{}e,t\\rangle{}} \\: . \\: \\exists{} x_{e} \\: . \\: (({f}_{\\langle{}e,t\\rangle{}}({x}_{e}) \\leftrightarrow{} {True}_{t}) \\wedge{} ({g}_{\\langle{}e,t\\rangle{}}({x}_{e}) \\leftrightarrow{} {True}_{t}))$<br />\n",
       "$[\\![\\mathbf{\\text{doctor}}]\\!]^{}_{\\langle{}e,t\\rangle{}} \\:=\\: \\lambda{} x_{e} \\: . \\: {Doctor}({x}_{e})$<br />\n",
       "$[\\![\\mathbf{\\text{met}}]\\!]^{}_{\\langle{}e,\\langle{}e,t\\rangle{}\\rangle{}} \\:=\\: \\lambda{} x_{e} \\: . \\: \\lambda{} y_{e} \\: . \\: {Met}({y}_{e}, {x}_{e})$"
      ]
     },
     "execution_count": 211,
     "metadata": {},
     "output_type": "execute_result"
    }
   ],
   "source": [
    "%%lamb \n",
    "||a|| = L f_<e,t> : L g_<e,t> : Exists x_e : f(x) <=> True_t & g(x) <=> True_t\n",
    "||doctor|| = L x_e : Doctor(x)\n",
    "||met|| = L x_e : L y_e: Met(y,x)\n"
   ]
  },
  {
   "cell_type": "code",
   "execution_count": 212,
   "metadata": {
    "collapsed": false
   },
   "outputs": [
    {
     "data": {
      "text/html": [
       "Full composition trace.  1 path:<br />\n",
       "&nbsp;&nbsp;&nbsp;&nbsp;Step 1: $[\\![\\mathbf{\\text{a}}]\\!]^{}_{\\langle{}\\langle{}e,t\\rangle{},\\langle{}\\langle{}e,t\\rangle{},t\\rangle{}\\rangle{}} \\:=\\: $$\\lambda{} f_{\\langle{}e,t\\rangle{}} \\: . \\: \\lambda{} g_{\\langle{}e,t\\rangle{}} \\: . \\: \\exists{} x_{e} \\: . \\: (({f}_{\\langle{}e,t\\rangle{}}({x}_{e}) \\leftrightarrow{} {True}_{t}) \\wedge{} ({g}_{\\langle{}e,t\\rangle{}}({x}_{e}) \\leftrightarrow{} {True}_{t}))$<br />\n",
       "&nbsp;&nbsp;&nbsp;&nbsp;Step 2: $[\\![\\mathbf{\\text{doctor}}]\\!]^{}_{\\langle{}e,t\\rangle{}} \\:=\\: $$\\lambda{} x_{e} \\: . \\: {Doctor}({x}_{e})$<br />\n",
       "&nbsp;&nbsp;&nbsp;&nbsp;Step 3: $[\\![\\mathbf{\\text{a}}]\\!]^{}_{\\langle{}\\langle{}e,t\\rangle{},\\langle{}\\langle{}e,t\\rangle{},t\\rangle{}\\rangle{}}$ * $[\\![\\mathbf{\\text{doctor}}]\\!]^{}_{\\langle{}e,t\\rangle{}}$ leads to: $[\\![\\mathbf{\\text{[a doctor]}}]\\!]^{}_{\\langle{}\\langle{}e,t\\rangle{},t\\rangle{}} \\:=\\: $$\\lambda{} g_{\\langle{}e,t\\rangle{}} \\: . \\: \\exists{} x_{e} \\: . \\: (({Doctor}({x}_{e}) \\leftrightarrow{} {True}_{t}) \\wedge{} ({g}_{\\langle{}e,t\\rangle{}}({x}_{e}) \\leftrightarrow{} {True}_{t}))$ <b>[by FA]</b><br />\n",
       "&nbsp;&nbsp;&nbsp;&nbsp;Step 4: $[\\![\\mathbf{\\text{met}}]\\!]^{}_{\\langle{}e,\\langle{}e,t\\rangle{}\\rangle{}} \\:=\\: $$\\lambda{} x_{e} \\: . \\: \\lambda{} y_{e} \\: . \\: {Met}({y}_{e}, {x}_{e})$<br />\n",
       "&nbsp;&nbsp;&nbsp;&nbsp;Step 5: $[\\![\\mathbf{\\text{POSSB}}]\\!]^{}_{\\langle{}\\langle{}e,\\langle{}e,t\\rangle{}\\rangle{},\\langle{}e,e\\rangle{}\\rangle{}} \\:=\\: $$\\lambda{} f_{\\langle{}e,\\langle{}e,t\\rangle{}\\rangle{}} \\: . \\: \\lambda{} x_{e} \\: . \\: \\iota{} y_{e} \\: . \\: {f}_{\\langle{}e,\\langle{}e,t\\rangle{}\\rangle{}}({y}_{e})({x}_{e})$<br />\n",
       "&nbsp;&nbsp;&nbsp;&nbsp;Step 6: $[\\![\\mathbf{\\text{motherb}}]\\!]^{}_{\\langle{}e,\\langle{}e,t\\rangle{}\\rangle{}} \\:=\\: $$\\lambda{} x_{e} \\: . \\: \\lambda{} y_{e} \\: . \\: \\exists{} x_{e} \\: . \\: ({Mother}({y}_{e}, {x}_{e}) \\leftrightarrow{} {True}_{t})$<br />\n",
       "&nbsp;&nbsp;&nbsp;&nbsp;Step 7: $[\\![\\mathbf{\\text{POSSB}}]\\!]^{}_{\\langle{}\\langle{}e,\\langle{}e,t\\rangle{}\\rangle{},\\langle{}e,e\\rangle{}\\rangle{}}$ * $[\\![\\mathbf{\\text{motherb}}]\\!]^{}_{\\langle{}e,\\langle{}e,t\\rangle{}\\rangle{}}$ leads to: $[\\![\\mathbf{\\text{[POSSB motherb]}}]\\!]^{}_{\\langle{}e,e\\rangle{}} \\:=\\: $$\\lambda{} x_{e} \\: . \\: \\iota{} y_{e} \\: . \\: \\exists{} x1_{e} \\: . \\: ({Mother}({x}_{e}, {x1}_{e}) \\leftrightarrow{} {True}_{t})$ <b>[by FA]</b><br />\n",
       "&nbsp;&nbsp;&nbsp;&nbsp;Step 8: $[\\![\\mathbf{\\text{Joanna}}]\\!]^{}_{e} \\:=\\: $${j}_{e}$<br />\n",
       "&nbsp;&nbsp;&nbsp;&nbsp;Step 9: $[\\![\\mathbf{\\text{[POSSB motherb]}}]\\!]^{}_{\\langle{}e,e\\rangle{}}$ * $[\\![\\mathbf{\\text{Joanna}}]\\!]^{}_{e}$ leads to: $[\\![\\mathbf{\\text{[[POSSB motherb] Joanna]}}]\\!]^{}_{e} \\:=\\: $$\\iota{} y_{e} \\: . \\: \\exists{} x1_{e} \\: . \\: ({Mother}({j}_{e}, {x1}_{e}) \\leftrightarrow{} {True}_{t})$ <b>[by FA]</b><br />\n",
       "&nbsp;&nbsp;&nbsp;&nbsp;Step 10: $[\\![\\mathbf{\\text{met}}]\\!]^{}_{\\langle{}e,\\langle{}e,t\\rangle{}\\rangle{}}$ * $[\\![\\mathbf{\\text{[[POSSB motherb] Joanna]}}]\\!]^{}_{e}$ leads to: $[\\![\\mathbf{\\text{[met [[POSSB motherb] Joanna]]}}]\\!]^{}_{\\langle{}e,t\\rangle{}} \\:=\\: $$\\lambda{} y_{e} \\: . \\: {Met}({y}_{e}, \\iota{} y_{e} \\: . \\: \\exists{} x1_{e} \\: . \\: ({Mother}({j}_{e}, {x1}_{e}) \\leftrightarrow{} {True}_{t}))$ <b>[by FA]</b><br />\n",
       "&nbsp;&nbsp;&nbsp;&nbsp;Step 11: $[\\![\\mathbf{\\text{[a doctor]}}]\\!]^{}_{\\langle{}\\langle{}e,t\\rangle{},t\\rangle{}}$ * $[\\![\\mathbf{\\text{[met [[POSSB motherb] Joanna]]}}]\\!]^{}_{\\langle{}e,t\\rangle{}}$ leads to: $[\\![\\mathbf{\\text{[[a doctor] [met [[POSSB motherb] Joanna]]]}}]\\!]^{}_{t} \\:=\\: $$\\exists{} x_{e} \\: . \\: (({Doctor}({x}_{e}) \\leftrightarrow{} {True}_{t}) \\wedge{} ({Met}({x}_{e}, \\iota{} y_{e} \\: . \\: \\exists{} x1_{e} \\: . \\: ({Mother}({j}_{e}, {x1}_{e}) \\leftrightarrow{} {True}_{t})) \\leftrightarrow{} {True}_{t}))$ <b>[by FA]</b><br />\n"
      ],
      "text/latex": [
       "Full composition trace.  1 path:<br />\n",
       "&nbsp;&nbsp;&nbsp;&nbsp;Step 1: $[\\![\\mathbf{\\text{a}}]\\!]^{}_{\\langle{}\\langle{}e,t\\rangle{},\\langle{}\\langle{}e,t\\rangle{},t\\rangle{}\\rangle{}} \\:=\\: $$\\lambda{} f_{\\langle{}e,t\\rangle{}} \\: . \\: \\lambda{} g_{\\langle{}e,t\\rangle{}} \\: . \\: \\exists{} x_{e} \\: . \\: (({f}_{\\langle{}e,t\\rangle{}}({x}_{e}) \\leftrightarrow{} {True}_{t}) \\wedge{} ({g}_{\\langle{}e,t\\rangle{}}({x}_{e}) \\leftrightarrow{} {True}_{t}))$<br />\n",
       "&nbsp;&nbsp;&nbsp;&nbsp;Step 2: $[\\![\\mathbf{\\text{doctor}}]\\!]^{}_{\\langle{}e,t\\rangle{}} \\:=\\: $$\\lambda{} x_{e} \\: . \\: {Doctor}({x}_{e})$<br />\n",
       "&nbsp;&nbsp;&nbsp;&nbsp;Step 3: $[\\![\\mathbf{\\text{a}}]\\!]^{}_{\\langle{}\\langle{}e,t\\rangle{},\\langle{}\\langle{}e,t\\rangle{},t\\rangle{}\\rangle{}}$ * $[\\![\\mathbf{\\text{doctor}}]\\!]^{}_{\\langle{}e,t\\rangle{}}$ leads to: $[\\![\\mathbf{\\text{[a doctor]}}]\\!]^{}_{\\langle{}\\langle{}e,t\\rangle{},t\\rangle{}} \\:=\\: $$\\lambda{} g_{\\langle{}e,t\\rangle{}} \\: . \\: \\exists{} x_{e} \\: . \\: (({Doctor}({x}_{e}) \\leftrightarrow{} {True}_{t}) \\wedge{} ({g}_{\\langle{}e,t\\rangle{}}({x}_{e}) \\leftrightarrow{} {True}_{t}))$ <b>[by FA]</b><br />\n",
       "&nbsp;&nbsp;&nbsp;&nbsp;Step 4: $[\\![\\mathbf{\\text{met}}]\\!]^{}_{\\langle{}e,\\langle{}e,t\\rangle{}\\rangle{}} \\:=\\: $$\\lambda{} x_{e} \\: . \\: \\lambda{} y_{e} \\: . \\: {Met}({y}_{e}, {x}_{e})$<br />\n",
       "&nbsp;&nbsp;&nbsp;&nbsp;Step 5: $[\\![\\mathbf{\\text{POSSB}}]\\!]^{}_{\\langle{}\\langle{}e,\\langle{}e,t\\rangle{}\\rangle{},\\langle{}e,e\\rangle{}\\rangle{}} \\:=\\: $$\\lambda{} f_{\\langle{}e,\\langle{}e,t\\rangle{}\\rangle{}} \\: . \\: \\lambda{} x_{e} \\: . \\: \\iota{} y_{e} \\: . \\: {f}_{\\langle{}e,\\langle{}e,t\\rangle{}\\rangle{}}({y}_{e})({x}_{e})$<br />\n",
       "&nbsp;&nbsp;&nbsp;&nbsp;Step 6: $[\\![\\mathbf{\\text{motherb}}]\\!]^{}_{\\langle{}e,\\langle{}e,t\\rangle{}\\rangle{}} \\:=\\: $$\\lambda{} x_{e} \\: . \\: \\lambda{} y_{e} \\: . \\: \\exists{} x_{e} \\: . \\: ({Mother}({y}_{e}, {x}_{e}) \\leftrightarrow{} {True}_{t})$<br />\n",
       "&nbsp;&nbsp;&nbsp;&nbsp;Step 7: $[\\![\\mathbf{\\text{POSSB}}]\\!]^{}_{\\langle{}\\langle{}e,\\langle{}e,t\\rangle{}\\rangle{},\\langle{}e,e\\rangle{}\\rangle{}}$ * $[\\![\\mathbf{\\text{motherb}}]\\!]^{}_{\\langle{}e,\\langle{}e,t\\rangle{}\\rangle{}}$ leads to: $[\\![\\mathbf{\\text{[POSSB motherb]}}]\\!]^{}_{\\langle{}e,e\\rangle{}} \\:=\\: $$\\lambda{} x_{e} \\: . \\: \\iota{} y_{e} \\: . \\: \\exists{} x1_{e} \\: . \\: ({Mother}({x}_{e}, {x1}_{e}) \\leftrightarrow{} {True}_{t})$ <b>[by FA]</b><br />\n",
       "&nbsp;&nbsp;&nbsp;&nbsp;Step 8: $[\\![\\mathbf{\\text{Joanna}}]\\!]^{}_{e} \\:=\\: $${j}_{e}$<br />\n",
       "&nbsp;&nbsp;&nbsp;&nbsp;Step 9: $[\\![\\mathbf{\\text{[POSSB motherb]}}]\\!]^{}_{\\langle{}e,e\\rangle{}}$ * $[\\![\\mathbf{\\text{Joanna}}]\\!]^{}_{e}$ leads to: $[\\![\\mathbf{\\text{[[POSSB motherb] Joanna]}}]\\!]^{}_{e} \\:=\\: $$\\iota{} y_{e} \\: . \\: \\exists{} x1_{e} \\: . \\: ({Mother}({j}_{e}, {x1}_{e}) \\leftrightarrow{} {True}_{t})$ <b>[by FA]</b><br />\n",
       "&nbsp;&nbsp;&nbsp;&nbsp;Step 10: $[\\![\\mathbf{\\text{met}}]\\!]^{}_{\\langle{}e,\\langle{}e,t\\rangle{}\\rangle{}}$ * $[\\![\\mathbf{\\text{[[POSSB motherb] Joanna]}}]\\!]^{}_{e}$ leads to: $[\\![\\mathbf{\\text{[met [[POSSB motherb] Joanna]]}}]\\!]^{}_{\\langle{}e,t\\rangle{}} \\:=\\: $$\\lambda{} y_{e} \\: . \\: {Met}({y}_{e}, \\iota{} y_{e} \\: . \\: \\exists{} x1_{e} \\: . \\: ({Mother}({j}_{e}, {x1}_{e}) \\leftrightarrow{} {True}_{t}))$ <b>[by FA]</b><br />\n",
       "&nbsp;&nbsp;&nbsp;&nbsp;Step 11: $[\\![\\mathbf{\\text{[a doctor]}}]\\!]^{}_{\\langle{}\\langle{}e,t\\rangle{},t\\rangle{}}$ * $[\\![\\mathbf{\\text{[met [[POSSB motherb] Joanna]]}}]\\!]^{}_{\\langle{}e,t\\rangle{}}$ leads to: $[\\![\\mathbf{\\text{[[a doctor] [met [[POSSB motherb] Joanna]]]}}]\\!]^{}_{t} \\:=\\: $$\\exists{} x_{e} \\: . \\: (({Doctor}({x}_{e}) \\leftrightarrow{} {True}_{t}) \\wedge{} ({Met}({x}_{e}, \\iota{} y_{e} \\: . \\: \\exists{} x1_{e} \\: . \\: ({Mother}({j}_{e}, {x1}_{e}) \\leftrightarrow{} {True}_{t})) \\leftrightarrow{} {True}_{t}))$ <b>[by FA]</b><br />\n"
      ],
      "text/plain": [
       "Full composition trace.  1 path:<br />\n",
       "&nbsp;&nbsp;&nbsp;&nbsp;Step 1: $[\\![\\mathbf{\\text{a}}]\\!]^{}_{\\langle{}\\langle{}e,t\\rangle{},\\langle{}\\langle{}e,t\\rangle{},t\\rangle{}\\rangle{}} \\:=\\: $$\\lambda{} f_{\\langle{}e,t\\rangle{}} \\: . \\: \\lambda{} g_{\\langle{}e,t\\rangle{}} \\: . \\: \\exists{} x_{e} \\: . \\: (({f}_{\\langle{}e,t\\rangle{}}({x}_{e}) \\leftrightarrow{} {True}_{t}) \\wedge{} ({g}_{\\langle{}e,t\\rangle{}}({x}_{e}) \\leftrightarrow{} {True}_{t}))$<br />\n",
       "&nbsp;&nbsp;&nbsp;&nbsp;Step 2: $[\\![\\mathbf{\\text{doctor}}]\\!]^{}_{\\langle{}e,t\\rangle{}} \\:=\\: $$\\lambda{} x_{e} \\: . \\: {Doctor}({x}_{e})$<br />\n",
       "&nbsp;&nbsp;&nbsp;&nbsp;Step 3: $[\\![\\mathbf{\\text{a}}]\\!]^{}_{\\langle{}\\langle{}e,t\\rangle{},\\langle{}\\langle{}e,t\\rangle{},t\\rangle{}\\rangle{}}$ * $[\\![\\mathbf{\\text{doctor}}]\\!]^{}_{\\langle{}e,t\\rangle{}}$ leads to: $[\\![\\mathbf{\\text{[a doctor]}}]\\!]^{}_{\\langle{}\\langle{}e,t\\rangle{},t\\rangle{}} \\:=\\: $$\\lambda{} g_{\\langle{}e,t\\rangle{}} \\: . \\: \\exists{} x_{e} \\: . \\: (({Doctor}({x}_{e}) \\leftrightarrow{} {True}_{t}) \\wedge{} ({g}_{\\langle{}e,t\\rangle{}}({x}_{e}) \\leftrightarrow{} {True}_{t}))$ <b>[by FA]</b><br />\n",
       "&nbsp;&nbsp;&nbsp;&nbsp;Step 4: $[\\![\\mathbf{\\text{met}}]\\!]^{}_{\\langle{}e,\\langle{}e,t\\rangle{}\\rangle{}} \\:=\\: $$\\lambda{} x_{e} \\: . \\: \\lambda{} y_{e} \\: . \\: {Met}({y}_{e}, {x}_{e})$<br />\n",
       "&nbsp;&nbsp;&nbsp;&nbsp;Step 5: $[\\![\\mathbf{\\text{POSSB}}]\\!]^{}_{\\langle{}\\langle{}e,\\langle{}e,t\\rangle{}\\rangle{},\\langle{}e,e\\rangle{}\\rangle{}} \\:=\\: $$\\lambda{} f_{\\langle{}e,\\langle{}e,t\\rangle{}\\rangle{}} \\: . \\: \\lambda{} x_{e} \\: . \\: \\iota{} y_{e} \\: . \\: {f}_{\\langle{}e,\\langle{}e,t\\rangle{}\\rangle{}}({y}_{e})({x}_{e})$<br />\n",
       "&nbsp;&nbsp;&nbsp;&nbsp;Step 6: $[\\![\\mathbf{\\text{motherb}}]\\!]^{}_{\\langle{}e,\\langle{}e,t\\rangle{}\\rangle{}} \\:=\\: $$\\lambda{} x_{e} \\: . \\: \\lambda{} y_{e} \\: . \\: \\exists{} x_{e} \\: . \\: ({Mother}({y}_{e}, {x}_{e}) \\leftrightarrow{} {True}_{t})$<br />\n",
       "&nbsp;&nbsp;&nbsp;&nbsp;Step 7: $[\\![\\mathbf{\\text{POSSB}}]\\!]^{}_{\\langle{}\\langle{}e,\\langle{}e,t\\rangle{}\\rangle{},\\langle{}e,e\\rangle{}\\rangle{}}$ * $[\\![\\mathbf{\\text{motherb}}]\\!]^{}_{\\langle{}e,\\langle{}e,t\\rangle{}\\rangle{}}$ leads to: $[\\![\\mathbf{\\text{[POSSB motherb]}}]\\!]^{}_{\\langle{}e,e\\rangle{}} \\:=\\: $$\\lambda{} x_{e} \\: . \\: \\iota{} y_{e} \\: . \\: \\exists{} x1_{e} \\: . \\: ({Mother}({x}_{e}, {x1}_{e}) \\leftrightarrow{} {True}_{t})$ <b>[by FA]</b><br />\n",
       "&nbsp;&nbsp;&nbsp;&nbsp;Step 8: $[\\![\\mathbf{\\text{Joanna}}]\\!]^{}_{e} \\:=\\: $${j}_{e}$<br />\n",
       "&nbsp;&nbsp;&nbsp;&nbsp;Step 9: $[\\![\\mathbf{\\text{[POSSB motherb]}}]\\!]^{}_{\\langle{}e,e\\rangle{}}$ * $[\\![\\mathbf{\\text{Joanna}}]\\!]^{}_{e}$ leads to: $[\\![\\mathbf{\\text{[[POSSB motherb] Joanna]}}]\\!]^{}_{e} \\:=\\: $$\\iota{} y_{e} \\: . \\: \\exists{} x1_{e} \\: . \\: ({Mother}({j}_{e}, {x1}_{e}) \\leftrightarrow{} {True}_{t})$ <b>[by FA]</b><br />\n",
       "&nbsp;&nbsp;&nbsp;&nbsp;Step 10: $[\\![\\mathbf{\\text{met}}]\\!]^{}_{\\langle{}e,\\langle{}e,t\\rangle{}\\rangle{}}$ * $[\\![\\mathbf{\\text{[[POSSB motherb] Joanna]}}]\\!]^{}_{e}$ leads to: $[\\![\\mathbf{\\text{[met [[POSSB motherb] Joanna]]}}]\\!]^{}_{\\langle{}e,t\\rangle{}} \\:=\\: $$\\lambda{} y_{e} \\: . \\: {Met}({y}_{e}, \\iota{} y_{e} \\: . \\: \\exists{} x1_{e} \\: . \\: ({Mother}({j}_{e}, {x1}_{e}) \\leftrightarrow{} {True}_{t}))$ <b>[by FA]</b><br />\n",
       "&nbsp;&nbsp;&nbsp;&nbsp;Step 11: $[\\![\\mathbf{\\text{[a doctor]}}]\\!]^{}_{\\langle{}\\langle{}e,t\\rangle{},t\\rangle{}}$ * $[\\![\\mathbf{\\text{[met [[POSSB motherb] Joanna]]}}]\\!]^{}_{\\langle{}e,t\\rangle{}}$ leads to: $[\\![\\mathbf{\\text{[[a doctor] [met [[POSSB motherb] Joanna]]]}}]\\!]^{}_{t} \\:=\\: $$\\exists{} x_{e} \\: . \\: (({Doctor}({x}_{e}) \\leftrightarrow{} {True}_{t}) \\wedge{} ({Met}({x}_{e}, \\iota{} y_{e} \\: . \\: \\exists{} x1_{e} \\: . \\: ({Mother}({j}_{e}, {x1}_{e}) \\leftrightarrow{} {True}_{t})) \\leftrightarrow{} {True}_{t}))$ <b>[by FA]</b><br />"
      ]
     },
     "execution_count": 212,
     "metadata": {},
     "output_type": "execute_result"
    }
   ],
   "source": [
    "# composition here\n",
    "((a * doctor) * (met * (Joanna * (POSSB * motherb)))).trace()"
   ]
  },
  {
   "cell_type": "code",
   "execution_count": 214,
   "metadata": {
    "collapsed": false
   },
   "outputs": [
    {
     "data": {
      "text/html": [
       "1 composition path:<br /><style>.rendered_html table, .rendered_html tr, .rendered_html td, .rendered_html th { border: 0px; }</style><table><tr style=\"border:1px solid #848482\"><td style=\"vertical-align:bottom;padding:0px 10px\" align=\"center\"><table><tr><td style=\"vertical-align:bottom;padding:5px\"><table><tr style=\"border:1px solid #848482\"><td style=\"vertical-align:bottom;padding:0px 10px\" align=\"center\"><table><tr><td style=\"vertical-align:bottom;padding:5px\"><div style=\"margin-top:10px;border-style:solid;border-color:#848482;border-width:0px\"><div style=\"vertical-align:bottom;text-align:center\">$[\\![\\mathbf{\\text{a}}]\\!]^{}_{\\langle{}\\langle{}e,t\\rangle{},\\langle{}\\langle{}e,t\\rangle{},t\\rangle{}\\rangle{}}$</div><div style=\"vertical-align:bottom;text-align:center\">$\\lambda{} f_{\\langle{}e,t\\rangle{}} \\: . \\: \\lambda{} g_{\\langle{}e,t\\rangle{}} \\: . \\: \\exists{} x_{e} \\: . \\: (({f}_{\\langle{}e,t\\rangle{}}({x}_{e}) \\leftrightarrow{} {True}_{t}) \\wedge{} ({g}_{\\langle{}e,t\\rangle{}}({x}_{e}) \\leftrightarrow{} {True}_{t}))$</div></div></td><td style=\"vertical-align:bottom;padding:10px\">$\\circ$</td><td style=\"vertical-align:bottom;padding:5px\"><div style=\"margin-top:10px;border-style:solid;border-color:#848482;border-width:0px\"><div style=\"vertical-align:bottom;text-align:center\">$[\\![\\mathbf{\\text{doctor}}]\\!]^{}_{\\langle{}e,t\\rangle{}}$</div><div style=\"vertical-align:bottom;text-align:center\">$\\lambda{} x_{e} \\: . \\: {Doctor}({x}_{e})$</div></div></td></tr></table></td><td style=\"border-left:1px solid #848482;vertical-align:center;padding:10px\"><span style=\"color:blue\"><b>[FA]</b></span></td></tr><tr style=\"border-style:solid;border-color:#848482;border-width:0px 1px 1px 1px\"><td style=\"padding:5px\" align=\"center\"><div style=\"margin-top:10px;border-style:solid;border-color:#848482;border-width:0px\"><div style=\"vertical-align:bottom;text-align:center\">$[\\![\\mathbf{\\text{[a doctor]}}]\\!]^{}_{\\langle{}\\langle{}e,t\\rangle{},t\\rangle{}}$</div><div style=\"vertical-align:bottom;text-align:center\">$\\lambda{} g_{\\langle{}e,t\\rangle{}} \\: . \\: \\exists{} x_{e} \\: . \\: (({Doctor}({x}_{e}) \\leftrightarrow{} {True}_{t}) \\wedge{} ({g}_{\\langle{}e,t\\rangle{}}({x}_{e}) \\leftrightarrow{} {True}_{t}))$</div></div></td><td></td></tr></table></td><td style=\"vertical-align:bottom;padding:10px\">$\\circ$</td><td style=\"vertical-align:bottom;padding:5px\"><table><tr style=\"border:1px solid #848482\"><td style=\"vertical-align:bottom;padding:0px 10px\" align=\"center\"><table><tr><td style=\"vertical-align:bottom;padding:5px\"><div style=\"margin-top:10px;border-style:solid;border-color:#848482;border-width:0px\"><div style=\"vertical-align:bottom;text-align:center\">$[\\![\\mathbf{\\text{met}}]\\!]^{}_{\\langle{}e,\\langle{}e,t\\rangle{}\\rangle{}}$</div><div style=\"vertical-align:bottom;text-align:center\">$\\lambda{} x_{e} \\: . \\: \\lambda{} y_{e} \\: . \\: {Met}({y}_{e}, {x}_{e})$</div></div></td><td style=\"vertical-align:bottom;padding:10px\">$\\circ$</td><td style=\"vertical-align:bottom;padding:5px\"><table><tr style=\"border:1px solid #848482\"><td style=\"vertical-align:bottom;padding:0px 10px\" align=\"center\"><table><tr><td style=\"vertical-align:bottom;padding:5px\"><table><tr style=\"border:1px solid #848482\"><td style=\"vertical-align:bottom;padding:0px 10px\" align=\"center\"><table><tr><td style=\"vertical-align:bottom;padding:5px\"><div style=\"margin-top:10px;border-style:solid;border-color:#848482;border-width:0px\"><div style=\"vertical-align:bottom;text-align:center\">$[\\![\\mathbf{\\text{POSSB}}]\\!]^{}_{\\langle{}\\langle{}e,\\langle{}e,t\\rangle{}\\rangle{},\\langle{}e,e\\rangle{}\\rangle{}}$</div><div style=\"vertical-align:bottom;text-align:center\">$\\lambda{} f_{\\langle{}e,\\langle{}e,t\\rangle{}\\rangle{}} \\: . \\: \\lambda{} x_{e} \\: . \\: \\iota{} y_{e} \\: . \\: {f}_{\\langle{}e,\\langle{}e,t\\rangle{}\\rangle{}}({y}_{e})({x}_{e})$</div></div></td><td style=\"vertical-align:bottom;padding:10px\">$\\circ$</td><td style=\"vertical-align:bottom;padding:5px\"><div style=\"margin-top:10px;border-style:solid;border-color:#848482;border-width:0px\"><div style=\"vertical-align:bottom;text-align:center\">$[\\![\\mathbf{\\text{motherb}}]\\!]^{}_{\\langle{}e,\\langle{}e,t\\rangle{}\\rangle{}}$</div><div style=\"vertical-align:bottom;text-align:center\">$\\lambda{} x_{e} \\: . \\: \\lambda{} y_{e} \\: . \\: \\exists{} x_{e} \\: . \\: ({Mother}({y}_{e}, {x}_{e}) \\leftrightarrow{} {True}_{t})$</div></div></td></tr></table></td><td style=\"border-left:1px solid #848482;vertical-align:center;padding:10px\"><span style=\"color:blue\"><b>[FA]</b></span></td></tr><tr style=\"border-style:solid;border-color:#848482;border-width:0px 1px 1px 1px\"><td style=\"padding:5px\" align=\"center\"><div style=\"margin-top:10px;border-style:solid;border-color:#848482;border-width:0px\"><div style=\"vertical-align:bottom;text-align:center\">$[\\![\\mathbf{\\text{[POSSB motherb]}}]\\!]^{}_{\\langle{}e,e\\rangle{}}$</div><div style=\"vertical-align:bottom;text-align:center\">$\\lambda{} x_{e} \\: . \\: \\iota{} y_{e} \\: . \\: \\exists{} x1_{e} \\: . \\: ({Mother}({x}_{e}, {x1}_{e}) \\leftrightarrow{} {True}_{t})$</div></div></td><td></td></tr></table></td><td style=\"vertical-align:bottom;padding:10px\">$\\circ$</td><td style=\"vertical-align:bottom;padding:5px\"><div style=\"margin-top:10px;border-style:solid;border-color:#848482;border-width:0px\"><div style=\"vertical-align:bottom;text-align:center\">$[\\![\\mathbf{\\text{Joanna}}]\\!]^{}_{e}$</div><div style=\"vertical-align:bottom;text-align:center\">${j}_{e}$</div></div></td></tr></table></td><td style=\"border-left:1px solid #848482;vertical-align:center;padding:10px\"><span style=\"color:blue\"><b>[FA]</b></span></td></tr><tr style=\"border-style:solid;border-color:#848482;border-width:0px 1px 1px 1px\"><td style=\"padding:5px\" align=\"center\"><div style=\"margin-top:10px;border-style:solid;border-color:#848482;border-width:0px\"><div style=\"vertical-align:bottom;text-align:center\">$[\\![\\mathbf{\\text{[[POSSB motherb] Joanna]}}]\\!]^{}_{e}$</div><div style=\"vertical-align:bottom;text-align:center\">$\\iota{} y_{e} \\: . \\: \\exists{} x1_{e} \\: . \\: ({Mother}({j}_{e}, {x1}_{e}) \\leftrightarrow{} {True}_{t})$</div></div></td><td></td></tr></table></td></tr></table></td><td style=\"border-left:1px solid #848482;vertical-align:center;padding:10px\"><span style=\"color:blue\"><b>[FA]</b></span></td></tr><tr style=\"border-style:solid;border-color:#848482;border-width:0px 1px 1px 1px\"><td style=\"padding:5px\" align=\"center\"><div style=\"margin-top:10px;border-style:solid;border-color:#848482;border-width:0px\"><div style=\"vertical-align:bottom;text-align:center\">$[\\![\\mathbf{\\text{[met [[POSSB motherb] Joanna]]}}]\\!]^{}_{\\langle{}e,t\\rangle{}}$</div><div style=\"vertical-align:bottom;text-align:center\">$\\lambda{} y_{e} \\: . \\: {Met}({y}_{e}, \\iota{} y_{e} \\: . \\: \\exists{} x1_{e} \\: . \\: ({Mother}({j}_{e}, {x1}_{e}) \\leftrightarrow{} {True}_{t}))$</div></div></td><td></td></tr></table></td></tr></table></td><td style=\"border-left:1px solid #848482;vertical-align:center;padding:10px\"><span style=\"color:blue\"><b>[FA]</b></span></td></tr><tr style=\"border-style:solid;border-color:#848482;border-width:0px 1px 1px 1px\"><td style=\"padding:5px\" align=\"center\"><div style=\"margin-top:10px;border-style:solid;border-color:#848482;border-width:0px\"><div style=\"vertical-align:bottom;text-align:center\">$[\\![\\mathbf{\\text{[[a doctor] [met [[POSSB motherb] Joanna]]]}}]\\!]^{}_{t}$</div><div style=\"vertical-align:bottom;text-align:center\">$\\exists{} x_{e} \\: . \\: (({Doctor}({x}_{e}) \\leftrightarrow{} {True}_{t}) \\wedge{} ({Met}({x}_{e}, \\iota{} y_{e} \\: . \\: \\exists{} x1_{e} \\: . \\: ({Mother}({j}_{e}, {x1}_{e}) \\leftrightarrow{} {True}_{t})) \\leftrightarrow{} {True}_{t}))$</div></div></td><td></td></tr></table><br /><br />"
      ],
      "text/latex": [
       "1 composition path:<br /><style>.rendered_html table, .rendered_html tr, .rendered_html td, .rendered_html th { border: 0px; }</style><table><tr style=\"border:1px solid #848482\"><td style=\"vertical-align:bottom;padding:0px 10px\" align=\"center\"><table><tr><td style=\"vertical-align:bottom;padding:5px\"><table><tr style=\"border:1px solid #848482\"><td style=\"vertical-align:bottom;padding:0px 10px\" align=\"center\"><table><tr><td style=\"vertical-align:bottom;padding:5px\"><div style=\"margin-top:10px;border-style:solid;border-color:#848482;border-width:0px\"><div style=\"vertical-align:bottom;text-align:center\">$[\\![\\mathbf{\\text{a}}]\\!]^{}_{\\langle{}\\langle{}e,t\\rangle{},\\langle{}\\langle{}e,t\\rangle{},t\\rangle{}\\rangle{}}$</div><div style=\"vertical-align:bottom;text-align:center\">$\\lambda{} f_{\\langle{}e,t\\rangle{}} \\: . \\: \\lambda{} g_{\\langle{}e,t\\rangle{}} \\: . \\: \\exists{} x_{e} \\: . \\: (({f}_{\\langle{}e,t\\rangle{}}({x}_{e}) \\leftrightarrow{} {True}_{t}) \\wedge{} ({g}_{\\langle{}e,t\\rangle{}}({x}_{e}) \\leftrightarrow{} {True}_{t}))$</div></div></td><td style=\"vertical-align:bottom;padding:10px\">$\\circ$</td><td style=\"vertical-align:bottom;padding:5px\"><div style=\"margin-top:10px;border-style:solid;border-color:#848482;border-width:0px\"><div style=\"vertical-align:bottom;text-align:center\">$[\\![\\mathbf{\\text{doctor}}]\\!]^{}_{\\langle{}e,t\\rangle{}}$</div><div style=\"vertical-align:bottom;text-align:center\">$\\lambda{} x_{e} \\: . \\: {Doctor}({x}_{e})$</div></div></td></tr></table></td><td style=\"border-left:1px solid #848482;vertical-align:center;padding:10px\"><span style=\"color:blue\"><b>[FA]</b></span></td></tr><tr style=\"border-style:solid;border-color:#848482;border-width:0px 1px 1px 1px\"><td style=\"padding:5px\" align=\"center\"><div style=\"margin-top:10px;border-style:solid;border-color:#848482;border-width:0px\"><div style=\"vertical-align:bottom;text-align:center\">$[\\![\\mathbf{\\text{[a doctor]}}]\\!]^{}_{\\langle{}\\langle{}e,t\\rangle{},t\\rangle{}}$</div><div style=\"vertical-align:bottom;text-align:center\">$\\lambda{} g_{\\langle{}e,t\\rangle{}} \\: . \\: \\exists{} x_{e} \\: . \\: (({Doctor}({x}_{e}) \\leftrightarrow{} {True}_{t}) \\wedge{} ({g}_{\\langle{}e,t\\rangle{}}({x}_{e}) \\leftrightarrow{} {True}_{t}))$</div></div></td><td></td></tr></table></td><td style=\"vertical-align:bottom;padding:10px\">$\\circ$</td><td style=\"vertical-align:bottom;padding:5px\"><table><tr style=\"border:1px solid #848482\"><td style=\"vertical-align:bottom;padding:0px 10px\" align=\"center\"><table><tr><td style=\"vertical-align:bottom;padding:5px\"><div style=\"margin-top:10px;border-style:solid;border-color:#848482;border-width:0px\"><div style=\"vertical-align:bottom;text-align:center\">$[\\![\\mathbf{\\text{met}}]\\!]^{}_{\\langle{}e,\\langle{}e,t\\rangle{}\\rangle{}}$</div><div style=\"vertical-align:bottom;text-align:center\">$\\lambda{} x_{e} \\: . \\: \\lambda{} y_{e} \\: . \\: {Met}({y}_{e}, {x}_{e})$</div></div></td><td style=\"vertical-align:bottom;padding:10px\">$\\circ$</td><td style=\"vertical-align:bottom;padding:5px\"><table><tr style=\"border:1px solid #848482\"><td style=\"vertical-align:bottom;padding:0px 10px\" align=\"center\"><table><tr><td style=\"vertical-align:bottom;padding:5px\"><table><tr style=\"border:1px solid #848482\"><td style=\"vertical-align:bottom;padding:0px 10px\" align=\"center\"><table><tr><td style=\"vertical-align:bottom;padding:5px\"><div style=\"margin-top:10px;border-style:solid;border-color:#848482;border-width:0px\"><div style=\"vertical-align:bottom;text-align:center\">$[\\![\\mathbf{\\text{POSSB}}]\\!]^{}_{\\langle{}\\langle{}e,\\langle{}e,t\\rangle{}\\rangle{},\\langle{}e,e\\rangle{}\\rangle{}}$</div><div style=\"vertical-align:bottom;text-align:center\">$\\lambda{} f_{\\langle{}e,\\langle{}e,t\\rangle{}\\rangle{}} \\: . \\: \\lambda{} x_{e} \\: . \\: \\iota{} y_{e} \\: . \\: {f}_{\\langle{}e,\\langle{}e,t\\rangle{}\\rangle{}}({y}_{e})({x}_{e})$</div></div></td><td style=\"vertical-align:bottom;padding:10px\">$\\circ$</td><td style=\"vertical-align:bottom;padding:5px\"><div style=\"margin-top:10px;border-style:solid;border-color:#848482;border-width:0px\"><div style=\"vertical-align:bottom;text-align:center\">$[\\![\\mathbf{\\text{motherb}}]\\!]^{}_{\\langle{}e,\\langle{}e,t\\rangle{}\\rangle{}}$</div><div style=\"vertical-align:bottom;text-align:center\">$\\lambda{} x_{e} \\: . \\: \\lambda{} y_{e} \\: . \\: \\exists{} x_{e} \\: . \\: ({Mother}({y}_{e}, {x}_{e}) \\leftrightarrow{} {True}_{t})$</div></div></td></tr></table></td><td style=\"border-left:1px solid #848482;vertical-align:center;padding:10px\"><span style=\"color:blue\"><b>[FA]</b></span></td></tr><tr style=\"border-style:solid;border-color:#848482;border-width:0px 1px 1px 1px\"><td style=\"padding:5px\" align=\"center\"><div style=\"margin-top:10px;border-style:solid;border-color:#848482;border-width:0px\"><div style=\"vertical-align:bottom;text-align:center\">$[\\![\\mathbf{\\text{[POSSB motherb]}}]\\!]^{}_{\\langle{}e,e\\rangle{}}$</div><div style=\"vertical-align:bottom;text-align:center\">$\\lambda{} x_{e} \\: . \\: \\iota{} y_{e} \\: . \\: \\exists{} x1_{e} \\: . \\: ({Mother}({x}_{e}, {x1}_{e}) \\leftrightarrow{} {True}_{t})$</div></div></td><td></td></tr></table></td><td style=\"vertical-align:bottom;padding:10px\">$\\circ$</td><td style=\"vertical-align:bottom;padding:5px\"><div style=\"margin-top:10px;border-style:solid;border-color:#848482;border-width:0px\"><div style=\"vertical-align:bottom;text-align:center\">$[\\![\\mathbf{\\text{Joanna}}]\\!]^{}_{e}$</div><div style=\"vertical-align:bottom;text-align:center\">${j}_{e}$</div></div></td></tr></table></td><td style=\"border-left:1px solid #848482;vertical-align:center;padding:10px\"><span style=\"color:blue\"><b>[FA]</b></span></td></tr><tr style=\"border-style:solid;border-color:#848482;border-width:0px 1px 1px 1px\"><td style=\"padding:5px\" align=\"center\"><div style=\"margin-top:10px;border-style:solid;border-color:#848482;border-width:0px\"><div style=\"vertical-align:bottom;text-align:center\">$[\\![\\mathbf{\\text{[[POSSB motherb] Joanna]}}]\\!]^{}_{e}$</div><div style=\"vertical-align:bottom;text-align:center\">$\\iota{} y_{e} \\: . \\: \\exists{} x1_{e} \\: . \\: ({Mother}({j}_{e}, {x1}_{e}) \\leftrightarrow{} {True}_{t})$</div></div></td><td></td></tr></table></td></tr></table></td><td style=\"border-left:1px solid #848482;vertical-align:center;padding:10px\"><span style=\"color:blue\"><b>[FA]</b></span></td></tr><tr style=\"border-style:solid;border-color:#848482;border-width:0px 1px 1px 1px\"><td style=\"padding:5px\" align=\"center\"><div style=\"margin-top:10px;border-style:solid;border-color:#848482;border-width:0px\"><div style=\"vertical-align:bottom;text-align:center\">$[\\![\\mathbf{\\text{[met [[POSSB motherb] Joanna]]}}]\\!]^{}_{\\langle{}e,t\\rangle{}}$</div><div style=\"vertical-align:bottom;text-align:center\">$\\lambda{} y_{e} \\: . \\: {Met}({y}_{e}, \\iota{} y_{e} \\: . \\: \\exists{} x1_{e} \\: . \\: ({Mother}({j}_{e}, {x1}_{e}) \\leftrightarrow{} {True}_{t}))$</div></div></td><td></td></tr></table></td></tr></table></td><td style=\"border-left:1px solid #848482;vertical-align:center;padding:10px\"><span style=\"color:blue\"><b>[FA]</b></span></td></tr><tr style=\"border-style:solid;border-color:#848482;border-width:0px 1px 1px 1px\"><td style=\"padding:5px\" align=\"center\"><div style=\"margin-top:10px;border-style:solid;border-color:#848482;border-width:0px\"><div style=\"vertical-align:bottom;text-align:center\">$[\\![\\mathbf{\\text{[[a doctor] [met [[POSSB motherb] Joanna]]]}}]\\!]^{}_{t}$</div><div style=\"vertical-align:bottom;text-align:center\">$\\exists{} x_{e} \\: . \\: (({Doctor}({x}_{e}) \\leftrightarrow{} {True}_{t}) \\wedge{} ({Met}({x}_{e}, \\iota{} y_{e} \\: . \\: \\exists{} x1_{e} \\: . \\: ({Mother}({j}_{e}, {x1}_{e}) \\leftrightarrow{} {True}_{t})) \\leftrightarrow{} {True}_{t}))$</div></div></td><td></td></tr></table><br /><br />"
      ],
      "text/plain": [
       "1 composition path:<br /><style>.rendered_html table, .rendered_html tr, .rendered_html td, .rendered_html th { border: 0px; }</style><table><tr style=\"border:1px solid #848482\"><td style=\"vertical-align:bottom;padding:0px 10px\" align=\"center\"><table><tr><td style=\"vertical-align:bottom;padding:5px\"><table><tr style=\"border:1px solid #848482\"><td style=\"vertical-align:bottom;padding:0px 10px\" align=\"center\"><table><tr><td style=\"vertical-align:bottom;padding:5px\"><div style=\"margin-top:10px;border-style:solid;border-color:#848482;border-width:0px\"><div style=\"vertical-align:bottom;text-align:center\">$[\\![\\mathbf{\\text{a}}]\\!]^{}_{\\langle{}\\langle{}e,t\\rangle{},\\langle{}\\langle{}e,t\\rangle{},t\\rangle{}\\rangle{}}$</div><div style=\"vertical-align:bottom;text-align:center\">$\\lambda{} f_{\\langle{}e,t\\rangle{}} \\: . \\: \\lambda{} g_{\\langle{}e,t\\rangle{}} \\: . \\: \\exists{} x_{e} \\: . \\: (({f}_{\\langle{}e,t\\rangle{}}({x}_{e}) \\leftrightarrow{} {True}_{t}) \\wedge{} ({g}_{\\langle{}e,t\\rangle{}}({x}_{e}) \\leftrightarrow{} {True}_{t}))$</div></div></td><td style=\"vertical-align:bottom;padding:10px\">$\\circ$</td><td style=\"vertical-align:bottom;padding:5px\"><div style=\"margin-top:10px;border-style:solid;border-color:#848482;border-width:0px\"><div style=\"vertical-align:bottom;text-align:center\">$[\\![\\mathbf{\\text{doctor}}]\\!]^{}_{\\langle{}e,t\\rangle{}}$</div><div style=\"vertical-align:bottom;text-align:center\">$\\lambda{} x_{e} \\: . \\: {Doctor}({x}_{e})$</div></div></td></tr></table></td><td style=\"border-left:1px solid #848482;vertical-align:center;padding:10px\"><span style=\"color:blue\"><b>[FA]</b></span></td></tr><tr style=\"border-style:solid;border-color:#848482;border-width:0px 1px 1px 1px\"><td style=\"padding:5px\" align=\"center\"><div style=\"margin-top:10px;border-style:solid;border-color:#848482;border-width:0px\"><div style=\"vertical-align:bottom;text-align:center\">$[\\![\\mathbf{\\text{[a doctor]}}]\\!]^{}_{\\langle{}\\langle{}e,t\\rangle{},t\\rangle{}}$</div><div style=\"vertical-align:bottom;text-align:center\">$\\lambda{} g_{\\langle{}e,t\\rangle{}} \\: . \\: \\exists{} x_{e} \\: . \\: (({Doctor}({x}_{e}) \\leftrightarrow{} {True}_{t}) \\wedge{} ({g}_{\\langle{}e,t\\rangle{}}({x}_{e}) \\leftrightarrow{} {True}_{t}))$</div></div></td><td></td></tr></table></td><td style=\"vertical-align:bottom;padding:10px\">$\\circ$</td><td style=\"vertical-align:bottom;padding:5px\"><table><tr style=\"border:1px solid #848482\"><td style=\"vertical-align:bottom;padding:0px 10px\" align=\"center\"><table><tr><td style=\"vertical-align:bottom;padding:5px\"><div style=\"margin-top:10px;border-style:solid;border-color:#848482;border-width:0px\"><div style=\"vertical-align:bottom;text-align:center\">$[\\![\\mathbf{\\text{met}}]\\!]^{}_{\\langle{}e,\\langle{}e,t\\rangle{}\\rangle{}}$</div><div style=\"vertical-align:bottom;text-align:center\">$\\lambda{} x_{e} \\: . \\: \\lambda{} y_{e} \\: . \\: {Met}({y}_{e}, {x}_{e})$</div></div></td><td style=\"vertical-align:bottom;padding:10px\">$\\circ$</td><td style=\"vertical-align:bottom;padding:5px\"><table><tr style=\"border:1px solid #848482\"><td style=\"vertical-align:bottom;padding:0px 10px\" align=\"center\"><table><tr><td style=\"vertical-align:bottom;padding:5px\"><table><tr style=\"border:1px solid #848482\"><td style=\"vertical-align:bottom;padding:0px 10px\" align=\"center\"><table><tr><td style=\"vertical-align:bottom;padding:5px\"><div style=\"margin-top:10px;border-style:solid;border-color:#848482;border-width:0px\"><div style=\"vertical-align:bottom;text-align:center\">$[\\![\\mathbf{\\text{POSSB}}]\\!]^{}_{\\langle{}\\langle{}e,\\langle{}e,t\\rangle{}\\rangle{},\\langle{}e,e\\rangle{}\\rangle{}}$</div><div style=\"vertical-align:bottom;text-align:center\">$\\lambda{} f_{\\langle{}e,\\langle{}e,t\\rangle{}\\rangle{}} \\: . \\: \\lambda{} x_{e} \\: . \\: \\iota{} y_{e} \\: . \\: {f}_{\\langle{}e,\\langle{}e,t\\rangle{}\\rangle{}}({y}_{e})({x}_{e})$</div></div></td><td style=\"vertical-align:bottom;padding:10px\">$\\circ$</td><td style=\"vertical-align:bottom;padding:5px\"><div style=\"margin-top:10px;border-style:solid;border-color:#848482;border-width:0px\"><div style=\"vertical-align:bottom;text-align:center\">$[\\![\\mathbf{\\text{motherb}}]\\!]^{}_{\\langle{}e,\\langle{}e,t\\rangle{}\\rangle{}}$</div><div style=\"vertical-align:bottom;text-align:center\">$\\lambda{} x_{e} \\: . \\: \\lambda{} y_{e} \\: . \\: \\exists{} x_{e} \\: . \\: ({Mother}({y}_{e}, {x}_{e}) \\leftrightarrow{} {True}_{t})$</div></div></td></tr></table></td><td style=\"border-left:1px solid #848482;vertical-align:center;padding:10px\"><span style=\"color:blue\"><b>[FA]</b></span></td></tr><tr style=\"border-style:solid;border-color:#848482;border-width:0px 1px 1px 1px\"><td style=\"padding:5px\" align=\"center\"><div style=\"margin-top:10px;border-style:solid;border-color:#848482;border-width:0px\"><div style=\"vertical-align:bottom;text-align:center\">$[\\![\\mathbf{\\text{[POSSB motherb]}}]\\!]^{}_{\\langle{}e,e\\rangle{}}$</div><div style=\"vertical-align:bottom;text-align:center\">$\\lambda{} x_{e} \\: . \\: \\iota{} y_{e} \\: . \\: \\exists{} x1_{e} \\: . \\: ({Mother}({x}_{e}, {x1}_{e}) \\leftrightarrow{} {True}_{t})$</div></div></td><td></td></tr></table></td><td style=\"vertical-align:bottom;padding:10px\">$\\circ$</td><td style=\"vertical-align:bottom;padding:5px\"><div style=\"margin-top:10px;border-style:solid;border-color:#848482;border-width:0px\"><div style=\"vertical-align:bottom;text-align:center\">$[\\![\\mathbf{\\text{Joanna}}]\\!]^{}_{e}$</div><div style=\"vertical-align:bottom;text-align:center\">${j}_{e}$</div></div></td></tr></table></td><td style=\"border-left:1px solid #848482;vertical-align:center;padding:10px\"><span style=\"color:blue\"><b>[FA]</b></span></td></tr><tr style=\"border-style:solid;border-color:#848482;border-width:0px 1px 1px 1px\"><td style=\"padding:5px\" align=\"center\"><div style=\"margin-top:10px;border-style:solid;border-color:#848482;border-width:0px\"><div style=\"vertical-align:bottom;text-align:center\">$[\\![\\mathbf{\\text{[[POSSB motherb] Joanna]}}]\\!]^{}_{e}$</div><div style=\"vertical-align:bottom;text-align:center\">$\\iota{} y_{e} \\: . \\: \\exists{} x1_{e} \\: . \\: ({Mother}({j}_{e}, {x1}_{e}) \\leftrightarrow{} {True}_{t})$</div></div></td><td></td></tr></table></td></tr></table></td><td style=\"border-left:1px solid #848482;vertical-align:center;padding:10px\"><span style=\"color:blue\"><b>[FA]</b></span></td></tr><tr style=\"border-style:solid;border-color:#848482;border-width:0px 1px 1px 1px\"><td style=\"padding:5px\" align=\"center\"><div style=\"margin-top:10px;border-style:solid;border-color:#848482;border-width:0px\"><div style=\"vertical-align:bottom;text-align:center\">$[\\![\\mathbf{\\text{[met [[POSSB motherb] Joanna]]}}]\\!]^{}_{\\langle{}e,t\\rangle{}}$</div><div style=\"vertical-align:bottom;text-align:center\">$\\lambda{} y_{e} \\: . \\: {Met}({y}_{e}, \\iota{} y_{e} \\: . \\: \\exists{} x1_{e} \\: . \\: ({Mother}({j}_{e}, {x1}_{e}) \\leftrightarrow{} {True}_{t}))$</div></div></td><td></td></tr></table></td></tr></table></td><td style=\"border-left:1px solid #848482;vertical-align:center;padding:10px\"><span style=\"color:blue\"><b>[FA]</b></span></td></tr><tr style=\"border-style:solid;border-color:#848482;border-width:0px 1px 1px 1px\"><td style=\"padding:5px\" align=\"center\"><div style=\"margin-top:10px;border-style:solid;border-color:#848482;border-width:0px\"><div style=\"vertical-align:bottom;text-align:center\">$[\\![\\mathbf{\\text{[[a doctor] [met [[POSSB motherb] Joanna]]]}}]\\!]^{}_{t}$</div><div style=\"vertical-align:bottom;text-align:center\">$\\exists{} x_{e} \\: . \\: (({Doctor}({x}_{e}) \\leftrightarrow{} {True}_{t}) \\wedge{} ({Met}({x}_{e}, \\iota{} y_{e} \\: . \\: \\exists{} x1_{e} \\: . \\: ({Mother}({j}_{e}, {x1}_{e}) \\leftrightarrow{} {True}_{t})) \\leftrightarrow{} {True}_{t}))$</div></div></td><td></td></tr></table><br /><br />"
      ]
     },
     "execution_count": 214,
     "metadata": {},
     "output_type": "execute_result"
    }
   ],
   "source": [
    "# compositional tree\n",
    "((a * doctor) * (met * (Joanna * (POSSB * motherb)))).tree()"
   ]
  },
  {
   "cell_type": "markdown",
   "metadata": {
    "collapsed": true
   },
   "source": [
    "__*KC: 8/8*__"
   ]
  },
  {
   "cell_type": "code",
   "execution_count": null,
   "metadata": {
    "collapsed": true
   },
   "outputs": [],
   "source": []
  },
  {
   "cell_type": "markdown",
   "metadata": {},
   "source": [
    "## 3. Expressive adjectives\n",
    "\n",
    "If you like, you can do some or all of this problem in the lambda notebook; I won't provide a template though."
   ]
  },
  {
   "cell_type": "code",
   "execution_count": 29,
   "metadata": {
    "collapsed": false
   },
   "outputs": [
    {
     "name": "stderr",
     "output_type": "stream",
     "text": [
      "INFO (meta): Coerced guessed type t for 'Computer_t' into <e,t>, to match argument 'x_e'\n",
      "INFO (meta): Coerced guessed type t for 'Broke_t' into <(e,e),t>, to match argument '(y_e, x_e)'\n"
     ]
    },
    {
     "data": {
      "text/html": [
       "$[\\![\\mathbf{\\text{computer}}]\\!]^{}_{\\langle{}e,t\\rangle{}} \\:=\\: \\lambda{} x_{e} \\: . \\: {Computer}({x}_{e})$<br />\n",
       "$[\\![\\mathbf{\\text{broke}}]\\!]^{}_{\\langle{}e,\\langle{}e,t\\rangle{}\\rangle{}} \\:=\\: \\lambda{} x_{e} \\: . \\: \\lambda{} y_{e} \\: . \\: {Broke}({y}_{e}, {x}_{e})$<br />\n",
       "${state}_{\\{e\\}}\\:=\\:{state}_{\\{e\\}}$<br />\n",
       "${speaker}_{\\{e\\}}\\:=\\:{speaker}_{\\{e\\}}$<br />\n",
       "$[\\![\\mathbf{\\text{fucking_1}}]\\!]^{}_{\\langle{}e,e\\rangle{}} \\:=\\: \\lambda{} f_{e} \\: . \\: {f}_{e}$<br />\n",
       "$[\\![\\mathbf{\\text{fucking_2}}]\\!]^{}_{\\langle{}\\langle{}e,t\\rangle{},\\langle{}e,t\\rangle{}\\rangle{}} \\:=\\: \\lambda{} f_{\\langle{}e,t\\rangle{}} \\: . \\: {f}_{\\langle{}e,t\\rangle{}}$<br />\n",
       "$[\\![\\mathbf{\\text{fucking_3}}]\\!]^{}_{\\langle{}\\langle{}e,\\langle{}e,t\\rangle{}\\rangle{},\\langle{}e,\\langle{}e,t\\rangle{}\\rangle{}\\rangle{}} \\:=\\: \\lambda{} f_{\\langle{}e,\\langle{}e,t\\rangle{}\\rangle{}} \\: . \\: {f}_{\\langle{}e,\\langle{}e,t\\rangle{}\\rangle{}}$"
      ],
      "text/latex": [
       "$[\\![\\mathbf{\\text{computer}}]\\!]^{}_{\\langle{}e,t\\rangle{}} \\:=\\: \\lambda{} x_{e} \\: . \\: {Computer}({x}_{e})$<br />\n",
       "$[\\![\\mathbf{\\text{broke}}]\\!]^{}_{\\langle{}e,\\langle{}e,t\\rangle{}\\rangle{}} \\:=\\: \\lambda{} x_{e} \\: . \\: \\lambda{} y_{e} \\: . \\: {Broke}({y}_{e}, {x}_{e})$<br />\n",
       "${state}_{\\{e\\}}\\:=\\:{state}_{\\{e\\}}$<br />\n",
       "${speaker}_{\\{e\\}}\\:=\\:{speaker}_{\\{e\\}}$<br />\n",
       "$[\\![\\mathbf{\\text{fucking_1}}]\\!]^{}_{\\langle{}e,e\\rangle{}} \\:=\\: \\lambda{} f_{e} \\: . \\: {f}_{e}$<br />\n",
       "$[\\![\\mathbf{\\text{fucking_2}}]\\!]^{}_{\\langle{}\\langle{}e,t\\rangle{},\\langle{}e,t\\rangle{}\\rangle{}} \\:=\\: \\lambda{} f_{\\langle{}e,t\\rangle{}} \\: . \\: {f}_{\\langle{}e,t\\rangle{}}$<br />\n",
       "$[\\![\\mathbf{\\text{fucking_3}}]\\!]^{}_{\\langle{}\\langle{}e,\\langle{}e,t\\rangle{}\\rangle{},\\langle{}e,\\langle{}e,t\\rangle{}\\rangle{}\\rangle{}} \\:=\\: \\lambda{} f_{\\langle{}e,\\langle{}e,t\\rangle{}\\rangle{}} \\: . \\: {f}_{\\langle{}e,\\langle{}e,t\\rangle{}\\rangle{}}$"
      ],
      "text/plain": [
       "$[\\![\\mathbf{\\text{computer}}]\\!]^{}_{\\langle{}e,t\\rangle{}} \\:=\\: \\lambda{} x_{e} \\: . \\: {Computer}({x}_{e})$<br />\n",
       "$[\\![\\mathbf{\\text{broke}}]\\!]^{}_{\\langle{}e,\\langle{}e,t\\rangle{}\\rangle{}} \\:=\\: \\lambda{} x_{e} \\: . \\: \\lambda{} y_{e} \\: . \\: {Broke}({y}_{e}, {x}_{e})$<br />\n",
       "${state}_{\\{e\\}}\\:=\\:{state}_{\\{e\\}}$<br />\n",
       "${speaker}_{\\{e\\}}\\:=\\:{speaker}_{\\{e\\}}$<br />\n",
       "$[\\![\\mathbf{\\text{fucking_1}}]\\!]^{}_{\\langle{}e,e\\rangle{}} \\:=\\: \\lambda{} f_{e} \\: . \\: {f}_{e}$<br />\n",
       "$[\\![\\mathbf{\\text{fucking_2}}]\\!]^{}_{\\langle{}\\langle{}e,t\\rangle{},\\langle{}e,t\\rangle{}\\rangle{}} \\:=\\: \\lambda{} f_{\\langle{}e,t\\rangle{}} \\: . \\: {f}_{\\langle{}e,t\\rangle{}}$<br />\n",
       "$[\\![\\mathbf{\\text{fucking_3}}]\\!]^{}_{\\langle{}\\langle{}e,\\langle{}e,t\\rangle{}\\rangle{},\\langle{}e,\\langle{}e,t\\rangle{}\\rangle{}\\rangle{}} \\:=\\: \\lambda{} f_{\\langle{}e,\\langle{}e,t\\rangle{}\\rangle{}} \\: . \\: {f}_{\\langle{}e,\\langle{}e,t\\rangle{}\\rangle{}}$"
      ]
     },
     "execution_count": 29,
     "metadata": {},
     "output_type": "execute_result"
    }
   ],
   "source": [
    "%%lamb\n",
    "\n",
    "#our lexicon\n",
    "\n",
    "||computer|| = L x_e : Computer(x)\n",
    "||broke|| = L x_e : L y_e : Broke(y,x)\n",
    "        \n",
    "state_{e}=state_{e}\n",
    "speaker_{e}=speaker_{e}\n",
    "\n",
    "||fucking_1|| = L f_e : f #& state(speaker) <=> (state_fucking & state_c) \n",
    "||fucking_2|| = L f_<e,t> : f #& state(speaker) <=> (state_fucking & state_c)\n",
    "||fucking_3|| = L f_<e,<e,t>> : f #& state(speaker) <=> (state_fucking & state_c)\n",
    "\n",
    "# Ideally, instead of three separate denotations, we would be able to have an untyped function which returns that function.\n",
    "# However, as this is not possible in the lambda notebook, I have proposed three separate denotations for 'fucking' for now. \n",
    "# This denotation that I propose for 'fucking' composes well by FA regardless of where it falls in a sentence. \n",
    "# For each of these denotations for 'fucking', we should have an added update to c for the speaker's emotional state.\n",
    "# Another possibility is in fact to have the function be a conjunction with an added meaning in this manner:\n",
    "# ||fucking_2|| = L f_<e,t> : f & IsUpset(Speaker) <=> True_t"
   ]
  },
  {
   "cell_type": "code",
   "execution_count": 30,
   "metadata": {
    "collapsed": false
   },
   "outputs": [
    {
     "data": {
      "text/html": [
       "1 composition path.  Result:\n",
       "<br />&nbsp;&nbsp;&nbsp;&nbsp;[0]: $[\\![\\mathbf{\\text{[[broke [the [fucking_2 computer]]] Alfonso]}}]\\!]^{}_{t} \\:=\\: $${Broke}({a}_{e}, \\iota{} x_{e} \\: . \\: ({Computer}({x}_{e}) \\wedge{} ({x}_{e} \\in{} {c}_{\\{e\\}})))$"
      ],
      "text/plain": [
       "CompositionResult(results=[⟦[[broke [the [fucking_2 computer]]] Alfonso]⟧ = Broke_<(e,e),t>(a_e, (ι x_e: (Computer_<e,t>(x_e) & (x_e << c_{e}))))], failures=[⟦[Alfonso [broke [the [fucking_2 computer]]]]⟧ = Type mismatch: '⟦Alfonso⟧ = a_e'/e and '⟦[broke [the [fucking_2 computer]]]⟧ = (λ y_e: Broke_<(e,e),t>(y_e, (ι x_e: (Computer_<e,t>(x_e) & (x_e << c_{e})))))'/<e,t> conflict (mode: Function Application), ⟦[Alfonso [broke [the [fucking_2 computer]]]]⟧ = Type mismatch: '⟦Alfonso⟧ = a_e'/e and '⟦[broke [the [fucking_2 computer]]]⟧ = (λ y_e: Broke_<(e,e),t>(y_e, (ι x_e: (Computer_<e,t>(x_e) & (x_e << c_{e})))))'/<e,t> conflict (mode: Predicate Modification), ⟦[Alfonso [broke [the [fucking_2 computer]]]]⟧ = Type mismatch: '⟦Alfonso⟧ = a_e'/e and '⟦[broke [the [fucking_2 computer]]]⟧ = (λ y_e: Broke_<(e,e),t>(y_e, (ι x_e: (Computer_<e,t>(x_e) & (x_e << c_{e})))))'/<e,t> conflict (mode: Predicate Abstraction), ⟦[[broke [the [fucking_2 computer]]] Alfonso]⟧ = Type mismatch: '⟦[broke [the [fucking_2 computer]]]⟧ = (λ y_e: Broke_<(e,e),t>(y_e, (ι x_e: (Computer_<e,t>(x_e) & (x_e << c_{e})))))'/<e,t> and '⟦Alfonso⟧ = a_e'/e conflict (mode: Predicate Abstraction)])"
      ]
     },
     "execution_count": 30,
     "metadata": {},
     "output_type": "execute_result"
    }
   ],
   "source": [
    "Alfonso * (broke * (the * (fucking_2 * computer))) #& state(speaker) <=> (state_fucking & state_c)"
   ]
  },
  {
   "cell_type": "code",
   "execution_count": 31,
   "metadata": {
    "collapsed": false
   },
   "outputs": [
    {
     "data": {
      "text/html": [
       "Full composition trace.  1 path:<br />\n",
       "&nbsp;&nbsp;&nbsp;&nbsp;Step 1: $[\\![\\mathbf{\\text{the}}]\\!]^{}_{\\langle{}\\langle{}e,t\\rangle{},e\\rangle{}} \\:=\\: $$\\lambda{} f_{\\langle{}e,t\\rangle{}} \\: . \\: \\iota{} x_{e} \\: . \\: ({f}_{\\langle{}e,t\\rangle{}}({x}_{e}) \\wedge{} ({x}_{e} \\in{} {c}_{\\{e\\}}))$<br />\n",
       "&nbsp;&nbsp;&nbsp;&nbsp;Step 2: $[\\![\\mathbf{\\text{fucking_2}}]\\!]^{}_{\\langle{}\\langle{}e,t\\rangle{},\\langle{}e,t\\rangle{}\\rangle{}} \\:=\\: $$\\lambda{} f_{\\langle{}e,t\\rangle{}} \\: . \\: {f}_{\\langle{}e,t\\rangle{}}$<br />\n",
       "&nbsp;&nbsp;&nbsp;&nbsp;Step 3: $[\\![\\mathbf{\\text{computer}}]\\!]^{}_{\\langle{}e,t\\rangle{}} \\:=\\: $$\\lambda{} x_{e} \\: . \\: {Computer}({x}_{e})$<br />\n",
       "&nbsp;&nbsp;&nbsp;&nbsp;Step 4: $[\\![\\mathbf{\\text{fucking_2}}]\\!]^{}_{\\langle{}\\langle{}e,t\\rangle{},\\langle{}e,t\\rangle{}\\rangle{}}$ * $[\\![\\mathbf{\\text{computer}}]\\!]^{}_{\\langle{}e,t\\rangle{}}$ leads to: $[\\![\\mathbf{\\text{[fucking_2 computer]}}]\\!]^{}_{\\langle{}e,t\\rangle{}} \\:=\\: $$\\lambda{} x_{e} \\: . \\: {Computer}({x}_{e})$ <b>[by FA]</b><br />\n",
       "&nbsp;&nbsp;&nbsp;&nbsp;Step 5: $[\\![\\mathbf{\\text{the}}]\\!]^{}_{\\langle{}\\langle{}e,t\\rangle{},e\\rangle{}}$ * $[\\![\\mathbf{\\text{[fucking_2 computer]}}]\\!]^{}_{\\langle{}e,t\\rangle{}}$ leads to: $[\\![\\mathbf{\\text{[the [fucking_2 computer]]}}]\\!]^{}_{e} \\:=\\: $$\\iota{} x_{e} \\: . \\: ({Computer}({x}_{e}) \\wedge{} ({x}_{e} \\in{} {c}_{\\{e\\}}))$ <b>[by FA]</b><br />\n"
      ],
      "text/latex": [
       "Full composition trace.  1 path:<br />\n",
       "&nbsp;&nbsp;&nbsp;&nbsp;Step 1: $[\\![\\mathbf{\\text{the}}]\\!]^{}_{\\langle{}\\langle{}e,t\\rangle{},e\\rangle{}} \\:=\\: $$\\lambda{} f_{\\langle{}e,t\\rangle{}} \\: . \\: \\iota{} x_{e} \\: . \\: ({f}_{\\langle{}e,t\\rangle{}}({x}_{e}) \\wedge{} ({x}_{e} \\in{} {c}_{\\{e\\}}))$<br />\n",
       "&nbsp;&nbsp;&nbsp;&nbsp;Step 2: $[\\![\\mathbf{\\text{fucking_2}}]\\!]^{}_{\\langle{}\\langle{}e,t\\rangle{},\\langle{}e,t\\rangle{}\\rangle{}} \\:=\\: $$\\lambda{} f_{\\langle{}e,t\\rangle{}} \\: . \\: {f}_{\\langle{}e,t\\rangle{}}$<br />\n",
       "&nbsp;&nbsp;&nbsp;&nbsp;Step 3: $[\\![\\mathbf{\\text{computer}}]\\!]^{}_{\\langle{}e,t\\rangle{}} \\:=\\: $$\\lambda{} x_{e} \\: . \\: {Computer}({x}_{e})$<br />\n",
       "&nbsp;&nbsp;&nbsp;&nbsp;Step 4: $[\\![\\mathbf{\\text{fucking_2}}]\\!]^{}_{\\langle{}\\langle{}e,t\\rangle{},\\langle{}e,t\\rangle{}\\rangle{}}$ * $[\\![\\mathbf{\\text{computer}}]\\!]^{}_{\\langle{}e,t\\rangle{}}$ leads to: $[\\![\\mathbf{\\text{[fucking_2 computer]}}]\\!]^{}_{\\langle{}e,t\\rangle{}} \\:=\\: $$\\lambda{} x_{e} \\: . \\: {Computer}({x}_{e})$ <b>[by FA]</b><br />\n",
       "&nbsp;&nbsp;&nbsp;&nbsp;Step 5: $[\\![\\mathbf{\\text{the}}]\\!]^{}_{\\langle{}\\langle{}e,t\\rangle{},e\\rangle{}}$ * $[\\![\\mathbf{\\text{[fucking_2 computer]}}]\\!]^{}_{\\langle{}e,t\\rangle{}}$ leads to: $[\\![\\mathbf{\\text{[the [fucking_2 computer]]}}]\\!]^{}_{e} \\:=\\: $$\\iota{} x_{e} \\: . \\: ({Computer}({x}_{e}) \\wedge{} ({x}_{e} \\in{} {c}_{\\{e\\}}))$ <b>[by FA]</b><br />\n"
      ],
      "text/plain": [
       "Full composition trace.  1 path:<br />\n",
       "&nbsp;&nbsp;&nbsp;&nbsp;Step 1: $[\\![\\mathbf{\\text{the}}]\\!]^{}_{\\langle{}\\langle{}e,t\\rangle{},e\\rangle{}} \\:=\\: $$\\lambda{} f_{\\langle{}e,t\\rangle{}} \\: . \\: \\iota{} x_{e} \\: . \\: ({f}_{\\langle{}e,t\\rangle{}}({x}_{e}) \\wedge{} ({x}_{e} \\in{} {c}_{\\{e\\}}))$<br />\n",
       "&nbsp;&nbsp;&nbsp;&nbsp;Step 2: $[\\![\\mathbf{\\text{fucking_2}}]\\!]^{}_{\\langle{}\\langle{}e,t\\rangle{},\\langle{}e,t\\rangle{}\\rangle{}} \\:=\\: $$\\lambda{} f_{\\langle{}e,t\\rangle{}} \\: . \\: {f}_{\\langle{}e,t\\rangle{}}$<br />\n",
       "&nbsp;&nbsp;&nbsp;&nbsp;Step 3: $[\\![\\mathbf{\\text{computer}}]\\!]^{}_{\\langle{}e,t\\rangle{}} \\:=\\: $$\\lambda{} x_{e} \\: . \\: {Computer}({x}_{e})$<br />\n",
       "&nbsp;&nbsp;&nbsp;&nbsp;Step 4: $[\\![\\mathbf{\\text{fucking_2}}]\\!]^{}_{\\langle{}\\langle{}e,t\\rangle{},\\langle{}e,t\\rangle{}\\rangle{}}$ * $[\\![\\mathbf{\\text{computer}}]\\!]^{}_{\\langle{}e,t\\rangle{}}$ leads to: $[\\![\\mathbf{\\text{[fucking_2 computer]}}]\\!]^{}_{\\langle{}e,t\\rangle{}} \\:=\\: $$\\lambda{} x_{e} \\: . \\: {Computer}({x}_{e})$ <b>[by FA]</b><br />\n",
       "&nbsp;&nbsp;&nbsp;&nbsp;Step 5: $[\\![\\mathbf{\\text{the}}]\\!]^{}_{\\langle{}\\langle{}e,t\\rangle{},e\\rangle{}}$ * $[\\![\\mathbf{\\text{[fucking_2 computer]}}]\\!]^{}_{\\langle{}e,t\\rangle{}}$ leads to: $[\\![\\mathbf{\\text{[the [fucking_2 computer]]}}]\\!]^{}_{e} \\:=\\: $$\\iota{} x_{e} \\: . \\: ({Computer}({x}_{e}) \\wedge{} ({x}_{e} \\in{} {c}_{\\{e\\}}))$ <b>[by FA]</b><br />"
      ]
     },
     "execution_count": 31,
     "metadata": {},
     "output_type": "execute_result"
    }
   ],
   "source": [
    "(the * (fucking_2 * computer)).trace() #& state(speaker) <=> (state_fucking & state_c)"
   ]
  },
  {
   "cell_type": "code",
   "execution_count": 32,
   "metadata": {
    "collapsed": false
   },
   "outputs": [
    {
     "data": {
      "text/html": [
       "1 composition path:<br /><style>.rendered_html table, .rendered_html tr, .rendered_html td, .rendered_html th { border: 0px; }</style><table><tr style=\"border:1px solid #848482\"><td style=\"vertical-align:bottom;padding:0px 10px\" align=\"center\"><table><tr><td style=\"vertical-align:bottom;padding:5px\"><div style=\"margin-top:10px;border-style:solid;border-color:#848482;border-width:0px\"><div style=\"vertical-align:bottom;text-align:center\">$[\\![\\mathbf{\\text{the}}]\\!]^{}_{\\langle{}\\langle{}e,t\\rangle{},e\\rangle{}}$</div><div style=\"vertical-align:bottom;text-align:center\">$\\lambda{} f_{\\langle{}e,t\\rangle{}} \\: . \\: \\iota{} x_{e} \\: . \\: ({f}_{\\langle{}e,t\\rangle{}}({x}_{e}) \\wedge{} ({x}_{e} \\in{} {c}_{\\{e\\}}))$</div></div></td><td style=\"vertical-align:bottom;padding:10px\">$\\circ$</td><td style=\"vertical-align:bottom;padding:5px\"><table><tr style=\"border:1px solid #848482\"><td style=\"vertical-align:bottom;padding:0px 10px\" align=\"center\"><table><tr><td style=\"vertical-align:bottom;padding:5px\"><div style=\"margin-top:10px;border-style:solid;border-color:#848482;border-width:0px\"><div style=\"vertical-align:bottom;text-align:center\">$[\\![\\mathbf{\\text{fucking_2}}]\\!]^{}_{\\langle{}\\langle{}e,t\\rangle{},\\langle{}e,t\\rangle{}\\rangle{}}$</div><div style=\"vertical-align:bottom;text-align:center\">$\\lambda{} f_{\\langle{}e,t\\rangle{}} \\: . \\: {f}_{\\langle{}e,t\\rangle{}}$</div></div></td><td style=\"vertical-align:bottom;padding:10px\">$\\circ$</td><td style=\"vertical-align:bottom;padding:5px\"><div style=\"margin-top:10px;border-style:solid;border-color:#848482;border-width:0px\"><div style=\"vertical-align:bottom;text-align:center\">$[\\![\\mathbf{\\text{computer}}]\\!]^{}_{\\langle{}e,t\\rangle{}}$</div><div style=\"vertical-align:bottom;text-align:center\">$\\lambda{} x_{e} \\: . \\: {Computer}({x}_{e})$</div></div></td></tr></table></td><td style=\"border-left:1px solid #848482;vertical-align:center;padding:10px\"><span style=\"color:blue\"><b>[FA]</b></span></td></tr><tr style=\"border-style:solid;border-color:#848482;border-width:0px 1px 1px 1px\"><td style=\"padding:5px\" align=\"center\"><div style=\"margin-top:10px;border-style:solid;border-color:#848482;border-width:0px\"><div style=\"vertical-align:bottom;text-align:center\">$[\\![\\mathbf{\\text{[fucking_2 computer]}}]\\!]^{}_{\\langle{}e,t\\rangle{}}$</div><div style=\"vertical-align:bottom;text-align:center\">$\\lambda{} x_{e} \\: . \\: {Computer}({x}_{e})$</div></div></td><td></td></tr></table></td></tr></table></td><td style=\"border-left:1px solid #848482;vertical-align:center;padding:10px\"><span style=\"color:blue\"><b>[FA]</b></span></td></tr><tr style=\"border-style:solid;border-color:#848482;border-width:0px 1px 1px 1px\"><td style=\"padding:5px\" align=\"center\"><div style=\"margin-top:10px;border-style:solid;border-color:#848482;border-width:0px\"><div style=\"vertical-align:bottom;text-align:center\">$[\\![\\mathbf{\\text{[the [fucking_2 computer]]}}]\\!]^{}_{e}$</div><div style=\"vertical-align:bottom;text-align:center\">$\\iota{} x_{e} \\: . \\: ({Computer}({x}_{e}) \\wedge{} ({x}_{e} \\in{} {c}_{\\{e\\}}))$</div></div></td><td></td></tr></table><br /><br />"
      ],
      "text/latex": [
       "1 composition path:<br /><style>.rendered_html table, .rendered_html tr, .rendered_html td, .rendered_html th { border: 0px; }</style><table><tr style=\"border:1px solid #848482\"><td style=\"vertical-align:bottom;padding:0px 10px\" align=\"center\"><table><tr><td style=\"vertical-align:bottom;padding:5px\"><div style=\"margin-top:10px;border-style:solid;border-color:#848482;border-width:0px\"><div style=\"vertical-align:bottom;text-align:center\">$[\\![\\mathbf{\\text{the}}]\\!]^{}_{\\langle{}\\langle{}e,t\\rangle{},e\\rangle{}}$</div><div style=\"vertical-align:bottom;text-align:center\">$\\lambda{} f_{\\langle{}e,t\\rangle{}} \\: . \\: \\iota{} x_{e} \\: . \\: ({f}_{\\langle{}e,t\\rangle{}}({x}_{e}) \\wedge{} ({x}_{e} \\in{} {c}_{\\{e\\}}))$</div></div></td><td style=\"vertical-align:bottom;padding:10px\">$\\circ$</td><td style=\"vertical-align:bottom;padding:5px\"><table><tr style=\"border:1px solid #848482\"><td style=\"vertical-align:bottom;padding:0px 10px\" align=\"center\"><table><tr><td style=\"vertical-align:bottom;padding:5px\"><div style=\"margin-top:10px;border-style:solid;border-color:#848482;border-width:0px\"><div style=\"vertical-align:bottom;text-align:center\">$[\\![\\mathbf{\\text{fucking_2}}]\\!]^{}_{\\langle{}\\langle{}e,t\\rangle{},\\langle{}e,t\\rangle{}\\rangle{}}$</div><div style=\"vertical-align:bottom;text-align:center\">$\\lambda{} f_{\\langle{}e,t\\rangle{}} \\: . \\: {f}_{\\langle{}e,t\\rangle{}}$</div></div></td><td style=\"vertical-align:bottom;padding:10px\">$\\circ$</td><td style=\"vertical-align:bottom;padding:5px\"><div style=\"margin-top:10px;border-style:solid;border-color:#848482;border-width:0px\"><div style=\"vertical-align:bottom;text-align:center\">$[\\![\\mathbf{\\text{computer}}]\\!]^{}_{\\langle{}e,t\\rangle{}}$</div><div style=\"vertical-align:bottom;text-align:center\">$\\lambda{} x_{e} \\: . \\: {Computer}({x}_{e})$</div></div></td></tr></table></td><td style=\"border-left:1px solid #848482;vertical-align:center;padding:10px\"><span style=\"color:blue\"><b>[FA]</b></span></td></tr><tr style=\"border-style:solid;border-color:#848482;border-width:0px 1px 1px 1px\"><td style=\"padding:5px\" align=\"center\"><div style=\"margin-top:10px;border-style:solid;border-color:#848482;border-width:0px\"><div style=\"vertical-align:bottom;text-align:center\">$[\\![\\mathbf{\\text{[fucking_2 computer]}}]\\!]^{}_{\\langle{}e,t\\rangle{}}$</div><div style=\"vertical-align:bottom;text-align:center\">$\\lambda{} x_{e} \\: . \\: {Computer}({x}_{e})$</div></div></td><td></td></tr></table></td></tr></table></td><td style=\"border-left:1px solid #848482;vertical-align:center;padding:10px\"><span style=\"color:blue\"><b>[FA]</b></span></td></tr><tr style=\"border-style:solid;border-color:#848482;border-width:0px 1px 1px 1px\"><td style=\"padding:5px\" align=\"center\"><div style=\"margin-top:10px;border-style:solid;border-color:#848482;border-width:0px\"><div style=\"vertical-align:bottom;text-align:center\">$[\\![\\mathbf{\\text{[the [fucking_2 computer]]}}]\\!]^{}_{e}$</div><div style=\"vertical-align:bottom;text-align:center\">$\\iota{} x_{e} \\: . \\: ({Computer}({x}_{e}) \\wedge{} ({x}_{e} \\in{} {c}_{\\{e\\}}))$</div></div></td><td></td></tr></table><br /><br />"
      ],
      "text/plain": [
       "1 composition path:<br /><style>.rendered_html table, .rendered_html tr, .rendered_html td, .rendered_html th { border: 0px; }</style><table><tr style=\"border:1px solid #848482\"><td style=\"vertical-align:bottom;padding:0px 10px\" align=\"center\"><table><tr><td style=\"vertical-align:bottom;padding:5px\"><div style=\"margin-top:10px;border-style:solid;border-color:#848482;border-width:0px\"><div style=\"vertical-align:bottom;text-align:center\">$[\\![\\mathbf{\\text{the}}]\\!]^{}_{\\langle{}\\langle{}e,t\\rangle{},e\\rangle{}}$</div><div style=\"vertical-align:bottom;text-align:center\">$\\lambda{} f_{\\langle{}e,t\\rangle{}} \\: . \\: \\iota{} x_{e} \\: . \\: ({f}_{\\langle{}e,t\\rangle{}}({x}_{e}) \\wedge{} ({x}_{e} \\in{} {c}_{\\{e\\}}))$</div></div></td><td style=\"vertical-align:bottom;padding:10px\">$\\circ$</td><td style=\"vertical-align:bottom;padding:5px\"><table><tr style=\"border:1px solid #848482\"><td style=\"vertical-align:bottom;padding:0px 10px\" align=\"center\"><table><tr><td style=\"vertical-align:bottom;padding:5px\"><div style=\"margin-top:10px;border-style:solid;border-color:#848482;border-width:0px\"><div style=\"vertical-align:bottom;text-align:center\">$[\\![\\mathbf{\\text{fucking_2}}]\\!]^{}_{\\langle{}\\langle{}e,t\\rangle{},\\langle{}e,t\\rangle{}\\rangle{}}$</div><div style=\"vertical-align:bottom;text-align:center\">$\\lambda{} f_{\\langle{}e,t\\rangle{}} \\: . \\: {f}_{\\langle{}e,t\\rangle{}}$</div></div></td><td style=\"vertical-align:bottom;padding:10px\">$\\circ$</td><td style=\"vertical-align:bottom;padding:5px\"><div style=\"margin-top:10px;border-style:solid;border-color:#848482;border-width:0px\"><div style=\"vertical-align:bottom;text-align:center\">$[\\![\\mathbf{\\text{computer}}]\\!]^{}_{\\langle{}e,t\\rangle{}}$</div><div style=\"vertical-align:bottom;text-align:center\">$\\lambda{} x_{e} \\: . \\: {Computer}({x}_{e})$</div></div></td></tr></table></td><td style=\"border-left:1px solid #848482;vertical-align:center;padding:10px\"><span style=\"color:blue\"><b>[FA]</b></span></td></tr><tr style=\"border-style:solid;border-color:#848482;border-width:0px 1px 1px 1px\"><td style=\"padding:5px\" align=\"center\"><div style=\"margin-top:10px;border-style:solid;border-color:#848482;border-width:0px\"><div style=\"vertical-align:bottom;text-align:center\">$[\\![\\mathbf{\\text{[fucking_2 computer]}}]\\!]^{}_{\\langle{}e,t\\rangle{}}$</div><div style=\"vertical-align:bottom;text-align:center\">$\\lambda{} x_{e} \\: . \\: {Computer}({x}_{e})$</div></div></td><td></td></tr></table></td></tr></table></td><td style=\"border-left:1px solid #848482;vertical-align:center;padding:10px\"><span style=\"color:blue\"><b>[FA]</b></span></td></tr><tr style=\"border-style:solid;border-color:#848482;border-width:0px 1px 1px 1px\"><td style=\"padding:5px\" align=\"center\"><div style=\"margin-top:10px;border-style:solid;border-color:#848482;border-width:0px\"><div style=\"vertical-align:bottom;text-align:center\">$[\\![\\mathbf{\\text{[the [fucking_2 computer]]}}]\\!]^{}_{e}$</div><div style=\"vertical-align:bottom;text-align:center\">$\\iota{} x_{e} \\: . \\: ({Computer}({x}_{e}) \\wedge{} ({x}_{e} \\in{} {c}_{\\{e\\}}))$</div></div></td><td></td></tr></table><br /><br />"
      ]
     },
     "execution_count": 32,
     "metadata": {},
     "output_type": "execute_result"
    }
   ],
   "source": [
    "(the * (fucking_2 * computer)).tree() #& state(speaker) <=> (state_fucking & state_c)"
   ]
  },
  {
   "cell_type": "code",
   "execution_count": null,
   "metadata": {
    "collapsed": true
   },
   "outputs": [],
   "source": [
    " "
   ]
  }
 ],
 "metadata": {
  "anaconda-cloud": {},
  "kernelspec": {
   "display_name": "Lambda Notebook (Python 3)",
   "language": "python",
   "name": "lambda-notebook"
  },
  "language_info": {
   "codemirror_mode": {
    "name": "ipython",
    "version": 3
   },
   "file_extension": ".py",
   "mimetype": "text/x-python",
   "name": "python",
   "nbconvert_exporter": "python",
   "pygments_lexer": "ipython3",
   "version": "3.5.2"
  }
 },
 "nbformat": 4,
 "nbformat_minor": 1
}
