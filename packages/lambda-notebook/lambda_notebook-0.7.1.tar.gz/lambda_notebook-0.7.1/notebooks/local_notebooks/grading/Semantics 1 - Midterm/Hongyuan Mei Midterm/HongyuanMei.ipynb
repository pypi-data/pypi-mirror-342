{
 "cells": [
  {
   "cell_type": "markdown",
   "metadata": {},
   "source": [
    "## 2. Possessives"
   ]
  },
  {
   "cell_type": "markdown",
   "metadata": {},
   "source": [
    "Here is a basic lexicon for most of sentences like (1-3):\n",
    "\n",
    "    (1) Alfonso talked to Joanna's mother.\n",
    "    (2) Alfonso borrowed Joanna's book.\n",
    "    (3) Alfonso kicked Joanna's chair.\n",
    " \n",
    "The only parts that I haven't defined are the possessive morpheme, and `mother`."
   ]
  },
  {
   "cell_type": "code",
   "execution_count": 1,
   "metadata": {
    "collapsed": false
   },
   "outputs": [
    {
     "name": "stderr",
     "output_type": "stream",
     "text": [
      "INFO (meta): Coerced guessed type t for 'Borrow_t' into <(e,e),t>, to match argument '(y_e, x_e)'\n",
      "INFO (meta): Coerced guessed type t for 'Kick_t' into <(e,e),t>, to match argument '(y_e, x_e)'\n",
      "INFO (meta): Coerced guessed type t for 'Talkto_t' into <(e,e),t>, to match argument '(y_e, x_e)'\n",
      "ERROR (parsing): Parsing failed with exception:\n",
      "ERROR (parsing): expected comma in variable sequence, at point '!here!||talk to||'\n"
     ]
    },
    {
     "data": {
      "text/latex": [
       "$[\\![\\mathbf{\\text{Alfonso}}]\\!]^{}_{e} \\:=\\: {a}_{e}$<br />\n",
       "$[\\![\\mathbf{\\text{Joanna}}]\\!]^{}_{e} \\:=\\: {j}_{e}$<br />\n",
       "$[\\![\\mathbf{\\text{book}}]\\!]^{}_{\\langle{}e,t\\rangle{}} \\:=\\: \\lambda{} x_{e} \\: . \\: {Book}({x}_{e})$<br />\n",
       "$[\\![\\mathbf{\\text{chair}}]\\!]^{}_{\\langle{}e,t\\rangle{}} \\:=\\: \\lambda{} x_{e} \\: . \\: {Chair}({x}_{e})$<br />\n",
       "$[\\![\\mathbf{\\text{borrowed}}]\\!]^{}_{\\langle{}e,\\langle{}e,t\\rangle{}\\rangle{}} \\:=\\: \\lambda{} x_{e} \\: . \\: \\lambda{} y_{e} \\: . \\: {Borrow}({y}_{e}, {x}_{e})$<br />\n",
       "$[\\![\\mathbf{\\text{kick}}]\\!]^{}_{\\langle{}e,\\langle{}e,t\\rangle{}\\rangle{}} \\:=\\: \\lambda{} x_{e} \\: . \\: \\lambda{} y_{e} \\: . \\: {Kick}({y}_{e}, {x}_{e})$"
      ],
      "text/plain": [
       "$[\\![\\mathbf{\\text{Alfonso}}]\\!]^{}_{e} \\:=\\: {a}_{e}$<br />\n",
       "$[\\![\\mathbf{\\text{Joanna}}]\\!]^{}_{e} \\:=\\: {j}_{e}$<br />\n",
       "$[\\![\\mathbf{\\text{book}}]\\!]^{}_{\\langle{}e,t\\rangle{}} \\:=\\: \\lambda{} x_{e} \\: . \\: {Book}({x}_{e})$<br />\n",
       "$[\\![\\mathbf{\\text{chair}}]\\!]^{}_{\\langle{}e,t\\rangle{}} \\:=\\: \\lambda{} x_{e} \\: . \\: {Chair}({x}_{e})$<br />\n",
       "$[\\![\\mathbf{\\text{borrowed}}]\\!]^{}_{\\langle{}e,\\langle{}e,t\\rangle{}\\rangle{}} \\:=\\: \\lambda{} x_{e} \\: . \\: \\lambda{} y_{e} \\: . \\: {Borrow}({y}_{e}, {x}_{e})$<br />\n",
       "$[\\![\\mathbf{\\text{kick}}]\\!]^{}_{\\langle{}e,\\langle{}e,t\\rangle{}\\rangle{}} \\:=\\: \\lambda{} x_{e} \\: . \\: \\lambda{} y_{e} \\: . \\: {Kick}({y}_{e}, {x}_{e})$"
      ]
     },
     "execution_count": 1,
     "metadata": {},
     "output_type": "execute_result"
    }
   ],
   "source": [
    "%%lamb\n",
    "||Alfonso|| = a_e\n",
    "||Joanna|| = j_e\n",
    "||book|| = L x_e : Book_<e,t>(x)\n",
    "||chair|| = L x_e : Chair_<e,t>(x)\n",
    "||borrowed|| = L x_e : L y_e : Borrow(y,x)\n",
    "||kick|| = L x_e : L y_e : Kick(y,x)\n",
    "||talk to|| = L x_e : L y_e : Talkto(y,x)"
   ]
  },
  {
   "cell_type": "markdown",
   "metadata": {},
   "source": [
    "The following cell defines an entry that you can use for `the`.  Since there are no presuppositions per se in the lambda notebook, this glosses over them, but you can think of the `Iota` operator as itself being presuppositional."
   ]
  },
  {
   "cell_type": "code",
   "execution_count": 2,
   "metadata": {
    "collapsed": false
   },
   "outputs": [
    {
     "data": {
      "text/latex": [
       "${c}_{\\{e\\}}\\:=\\:{c}_{\\{e\\}}$<br />\n",
       "$[\\![\\mathbf{\\text{the}}]\\!]^{}_{\\langle{}\\langle{}e,t\\rangle{},e\\rangle{}} \\:=\\: \\lambda{} f_{\\langle{}e,t\\rangle{}} \\: . \\: \\iota{} x_{e} \\: . \\: ({f}_{\\langle{}e,t\\rangle{}}({x}_{e}) \\wedge{} ({x}_{e} \\in{} {c}_{\\{e\\}}))$"
      ],
      "text/plain": [
       "${c}_{\\{e\\}}\\:=\\:{c}_{\\{e\\}}$<br />\n",
       "$[\\![\\mathbf{\\text{the}}]\\!]^{}_{\\langle{}\\langle{}e,t\\rangle{},e\\rangle{}} \\:=\\: \\lambda{} f_{\\langle{}e,t\\rangle{}} \\: . \\: \\iota{} x_{e} \\: . \\: ({f}_{\\langle{}e,t\\rangle{}}({x}_{e}) \\wedge{} ({x}_{e} \\in{} {c}_{\\{e\\}}))$"
      ]
     },
     "execution_count": 2,
     "metadata": {},
     "output_type": "execute_result"
    }
   ],
   "source": [
    "%%lamb\n",
    "c_{e} = c_{e}\n",
    "||the|| = L f_<e,t> : Iota x_e : (f(x) & x << c)"
   ]
  },
  {
   "cell_type": "markdown",
   "metadata": {},
   "source": [
    "Part [a]: In the following blank cell, calculate using `*` the truth-conditions of:\n",
    "\n",
    "    (4) Alfonso borrowed the book.\n"
   ]
  },
  {
   "cell_type": "code",
   "execution_count": 3,
   "metadata": {
    "collapsed": false
   },
   "outputs": [
    {
     "data": {
      "text/latex": [
       "Full composition trace.  1 path:<br />\n",
       "&nbsp;&nbsp;&nbsp;&nbsp;Step 1: $[\\![\\mathbf{\\text{borrowed}}]\\!]^{}_{\\langle{}e,\\langle{}e,t\\rangle{}\\rangle{}} \\:=\\: $$\\lambda{} x_{e} \\: . \\: \\lambda{} y_{e} \\: . \\: {Borrow}({y}_{e}, {x}_{e})$<br />\n",
       "&nbsp;&nbsp;&nbsp;&nbsp;Step 2: $[\\![\\mathbf{\\text{the}}]\\!]^{}_{\\langle{}\\langle{}e,t\\rangle{},e\\rangle{}} \\:=\\: $$\\lambda{} f_{\\langle{}e,t\\rangle{}} \\: . \\: \\iota{} x_{e} \\: . \\: ({f}_{\\langle{}e,t\\rangle{}}({x}_{e}) \\wedge{} ({x}_{e} \\in{} {c}_{\\{e\\}}))$<br />\n",
       "&nbsp;&nbsp;&nbsp;&nbsp;Step 3: $[\\![\\mathbf{\\text{book}}]\\!]^{}_{\\langle{}e,t\\rangle{}} \\:=\\: $$\\lambda{} x_{e} \\: . \\: {Book}({x}_{e})$<br />\n",
       "&nbsp;&nbsp;&nbsp;&nbsp;Step 4: $[\\![\\mathbf{\\text{the}}]\\!]^{}_{\\langle{}\\langle{}e,t\\rangle{},e\\rangle{}}$ * $[\\![\\mathbf{\\text{book}}]\\!]^{}_{\\langle{}e,t\\rangle{}}$ leads to: $[\\![\\mathbf{\\text{[the book]}}]\\!]^{}_{e} \\:=\\: $$\\iota{} x_{e} \\: . \\: ({Book}({x}_{e}) \\wedge{} ({x}_{e} \\in{} {c}_{\\{e\\}}))$ <b>[by FA]</b><br />\n",
       "&nbsp;&nbsp;&nbsp;&nbsp;Step 5: $[\\![\\mathbf{\\text{borrowed}}]\\!]^{}_{\\langle{}e,\\langle{}e,t\\rangle{}\\rangle{}}$ * $[\\![\\mathbf{\\text{[the book]}}]\\!]^{}_{e}$ leads to: $[\\![\\mathbf{\\text{[borrowed [the book]]}}]\\!]^{}_{\\langle{}e,t\\rangle{}} \\:=\\: $$\\lambda{} y_{e} \\: . \\: {Borrow}({y}_{e}, \\iota{} x_{e} \\: . \\: ({Book}({x}_{e}) \\wedge{} ({x}_{e} \\in{} {c}_{\\{e\\}})))$ <b>[by FA]</b><br />\n",
       "&nbsp;&nbsp;&nbsp;&nbsp;Step 6: $[\\![\\mathbf{\\text{Alfonso}}]\\!]^{}_{e} \\:=\\: $${a}_{e}$<br />\n",
       "&nbsp;&nbsp;&nbsp;&nbsp;Step 7: $[\\![\\mathbf{\\text{[borrowed [the book]]}}]\\!]^{}_{\\langle{}e,t\\rangle{}}$ * $[\\![\\mathbf{\\text{Alfonso}}]\\!]^{}_{e}$ leads to: $[\\![\\mathbf{\\text{[[borrowed [the book]] Alfonso]}}]\\!]^{}_{t} \\:=\\: $${Borrow}({a}_{e}, \\iota{} x_{e} \\: . \\: ({Book}({x}_{e}) \\wedge{} ({x}_{e} \\in{} {c}_{\\{e\\}})))$ <b>[by FA]</b><br />\n"
      ],
      "text/plain": [
       "Full composition trace.  1 path:<br />\n",
       "&nbsp;&nbsp;&nbsp;&nbsp;Step 1: $[\\![\\mathbf{\\text{borrowed}}]\\!]^{}_{\\langle{}e,\\langle{}e,t\\rangle{}\\rangle{}} \\:=\\: $$\\lambda{} x_{e} \\: . \\: \\lambda{} y_{e} \\: . \\: {Borrow}({y}_{e}, {x}_{e})$<br />\n",
       "&nbsp;&nbsp;&nbsp;&nbsp;Step 2: $[\\![\\mathbf{\\text{the}}]\\!]^{}_{\\langle{}\\langle{}e,t\\rangle{},e\\rangle{}} \\:=\\: $$\\lambda{} f_{\\langle{}e,t\\rangle{}} \\: . \\: \\iota{} x_{e} \\: . \\: ({f}_{\\langle{}e,t\\rangle{}}({x}_{e}) \\wedge{} ({x}_{e} \\in{} {c}_{\\{e\\}}))$<br />\n",
       "&nbsp;&nbsp;&nbsp;&nbsp;Step 3: $[\\![\\mathbf{\\text{book}}]\\!]^{}_{\\langle{}e,t\\rangle{}} \\:=\\: $$\\lambda{} x_{e} \\: . \\: {Book}({x}_{e})$<br />\n",
       "&nbsp;&nbsp;&nbsp;&nbsp;Step 4: $[\\![\\mathbf{\\text{the}}]\\!]^{}_{\\langle{}\\langle{}e,t\\rangle{},e\\rangle{}}$ * $[\\![\\mathbf{\\text{book}}]\\!]^{}_{\\langle{}e,t\\rangle{}}$ leads to: $[\\![\\mathbf{\\text{[the book]}}]\\!]^{}_{e} \\:=\\: $$\\iota{} x_{e} \\: . \\: ({Book}({x}_{e}) \\wedge{} ({x}_{e} \\in{} {c}_{\\{e\\}}))$ <b>[by FA]</b><br />\n",
       "&nbsp;&nbsp;&nbsp;&nbsp;Step 5: $[\\![\\mathbf{\\text{borrowed}}]\\!]^{}_{\\langle{}e,\\langle{}e,t\\rangle{}\\rangle{}}$ * $[\\![\\mathbf{\\text{[the book]}}]\\!]^{}_{e}$ leads to: $[\\![\\mathbf{\\text{[borrowed [the book]]}}]\\!]^{}_{\\langle{}e,t\\rangle{}} \\:=\\: $$\\lambda{} y_{e} \\: . \\: {Borrow}({y}_{e}, \\iota{} x_{e} \\: . \\: ({Book}({x}_{e}) \\wedge{} ({x}_{e} \\in{} {c}_{\\{e\\}})))$ <b>[by FA]</b><br />\n",
       "&nbsp;&nbsp;&nbsp;&nbsp;Step 6: $[\\![\\mathbf{\\text{Alfonso}}]\\!]^{}_{e} \\:=\\: $${a}_{e}$<br />\n",
       "&nbsp;&nbsp;&nbsp;&nbsp;Step 7: $[\\![\\mathbf{\\text{[borrowed [the book]]}}]\\!]^{}_{\\langle{}e,t\\rangle{}}$ * $[\\![\\mathbf{\\text{Alfonso}}]\\!]^{}_{e}$ leads to: $[\\![\\mathbf{\\text{[[borrowed [the book]] Alfonso]}}]\\!]^{}_{t} \\:=\\: $${Borrow}({a}_{e}, \\iota{} x_{e} \\: . \\: ({Book}({x}_{e}) \\wedge{} ({x}_{e} \\in{} {c}_{\\{e\\}})))$ <b>[by FA]</b><br />"
      ]
     },
     "execution_count": 3,
     "metadata": {},
     "output_type": "execute_result"
    }
   ],
   "source": [
    "Alfonso * (borrowed * (the * book))\n",
    "(Alfonso * (borrowed * (the * book))).trace()\n",
    "# composition here"
   ]
  },
  {
   "cell_type": "markdown",
   "metadata": {},
   "source": [
    "__*KC: part [a] 8/8*__"
   ]
  },
  {
   "cell_type": "markdown",
   "metadata": {},
   "source": [
    "**Part [b]**: In the following cell, write an entry for `mother`, and describe it in the next cell."
   ]
  },
  {
   "cell_type": "code",
   "execution_count": 4,
   "metadata": {
    "collapsed": false
   },
   "outputs": [
    {
     "name": "stderr",
     "output_type": "stream",
     "text": [
      "INFO (meta): Coerced guessed type t for 'Mother_t' into <(e,e),t>, to match argument '(y_e, x_e)'\n"
     ]
    },
    {
     "data": {
      "text/latex": [
       "$[\\![\\mathbf{\\text{mother}}]\\!]^{}_{\\langle{}e,\\langle{}e,t\\rangle{}\\rangle{}} \\:=\\: \\lambda{} x_{e} \\: . \\: \\lambda{} y_{e} \\: . \\: {Mother}({y}_{e}, {x}_{e})$"
      ],
      "text/plain": [
       "$[\\![\\mathbf{\\text{mother}}]\\!]^{}_{\\langle{}e,\\langle{}e,t\\rangle{}\\rangle{}} \\:=\\: \\lambda{} x_{e} \\: . \\: \\lambda{} y_{e} \\: . \\: {Mother}({y}_{e}, {x}_{e})$"
      ]
     },
     "execution_count": 4,
     "metadata": {},
     "output_type": "execute_result"
    }
   ],
   "source": [
    "%%lamb\n",
    "||mother|| = L x_e : L y_e : Mother(y_e, x_e)"
   ]
  },
  {
   "cell_type": "markdown",
   "metadata": {},
   "source": [
    "**Markdown cell**: please explain your entry for `mother` in prose by editing this cell.\n",
    "\n",
    "We decide the type of `mother` in prose based on the fact that the entire DP should have type `e`. We already know `book` has type `<e,t>`, so it is natural to conclude that the type of `mother` is `<e,<e,t>>` as `mother` in prose is a relational noun. __*KC: good, so what kind of noun is 'book' then?*__\n",
    "\n",
    "In details, `mother` can take `x_e` as an argument and returns a function `L y_e : Mother(y_e,x_e)` which has type `<e,t>` and decides if another argument `y_e` is `x_e`'s `mother`. __*KC: good so this makes the underlying 'mother-of' relation overt.*__\n",
    "\n",
    "Alternatively, `mother` can be taken as an argument by the entity of `POSS`, to return some type that is compitable with its possesser or possessee. \n",
    "\n",
    "__*KC: 7/8*__"
   ]
  },
  {
   "cell_type": "markdown",
   "metadata": {},
   "source": [
    "**Part [c]** (possessive denotation): In the following cell write an entry for the possessive morpheme.  To handle python naming, call it `POSS` instead of `'s`."
   ]
  },
  {
   "cell_type": "code",
   "execution_count": 14,
   "metadata": {
    "collapsed": false
   },
   "outputs": [
    {
     "data": {
      "text/latex": [
       "$[\\![\\mathbf{\\text{POSS}}]\\!]^{}_{\\langle{}\\langle{}e,\\langle{}e,t\\rangle{}\\rangle{},\\langle{}e,e\\rangle{}\\rangle{}} \\:=\\: \\lambda{} f_{\\langle{}e,\\langle{}e,t\\rangle{}\\rangle{}} \\: . \\: \\lambda{} y_{e} \\: . \\: \\iota{} x_{e} \\: . \\: ({f}_{\\langle{}e,\\langle{}e,t\\rangle{}\\rangle{}}({y}_{e})({x}_{e}) \\wedge{} ({x}_{e} \\in{} {c}_{\\{e\\}}))$"
      ],
      "text/plain": [
       "$[\\![\\mathbf{\\text{POSS}}]\\!]^{}_{\\langle{}\\langle{}e,\\langle{}e,t\\rangle{}\\rangle{},\\langle{}e,e\\rangle{}\\rangle{}} \\:=\\: \\lambda{} f_{\\langle{}e,\\langle{}e,t\\rangle{}\\rangle{}} \\: . \\: \\lambda{} y_{e} \\: . \\: \\iota{} x_{e} \\: . \\: ({f}_{\\langle{}e,\\langle{}e,t\\rangle{}\\rangle{}}({y}_{e})({x}_{e}) \\wedge{} ({x}_{e} \\in{} {c}_{\\{e\\}}))$"
      ]
     },
     "execution_count": 14,
     "metadata": {},
     "output_type": "execute_result"
    }
   ],
   "source": [
    "%%lamb\n",
    "||POSS|| = L f_<e,<e,t>> : L y_e : Iota x_e : (f(y_e)(x_e) & x_e << c)"
   ]
  },
  {
   "cell_type": "markdown",
   "metadata": {},
   "source": [
    "**Markdown cell**: please explain your entry for `POSS` in prose by editing this cell.\n",
    "\n",
    "As we discussed in Out[5], we need to make the types to be compitable. \n",
    "That is, we need the DP, e.g. `(Joanna * POSS) * mother`, to have the type `e`, given that of `Joanna` is `e` and that of `mother` is `<e,<e,t>>`. \n",
    "Hence, `POSS` should take the argument of `<e,<e,t>>` and returns `<e,e>`, which furhter yields `e` when applied to `e`. \n",
    "\n",
    "Therefore, the type of `POSS` is (can be) `<<e,<e,t>>,<e,e>>`. Intuitively, it takes the relational noun, e.g. `mother`, of type `<e,<e,t>>` and then the possesser, e.g. `Joanna`, and returns the entity of `Joanna's mother`."
   ]
  },
  {
   "cell_type": "markdown",
   "metadata": {},
   "source": [
    "** Markdown cell **: POSS has a different denotation when it is applied to `book`. \n",
    "\n",
    "`book` has a different type, i.e. `<e,t>`, than `mother`, i.e. `<e,<e,t>>`. \n",
    "To be compitable with all these types (`book`, `Joanna`, DP, etc), `POSS` should have a type of `<<e,t>,<e,e>>`.\n",
    "Details are shown below.\n"
   ]
  },
  {
   "cell_type": "code",
   "execution_count": 11,
   "metadata": {
    "collapsed": false
   },
   "outputs": [
    {
     "data": {
      "text/latex": [
       "$[\\![\\mathbf{\\text{POSS2}}]\\!]^{}_{\\langle{}\\langle{}e,t\\rangle{},\\langle{}e,e\\rangle{}\\rangle{}} \\:=\\: \\lambda{} f_{\\langle{}e,t\\rangle{}} \\: . \\: \\lambda{} y_{e} \\: . \\: \\iota{} x_{e} \\: . \\: {f}_{\\langle{}e,t\\rangle{}}({x}_{e})$"
      ],
      "text/plain": [
       "$[\\![\\mathbf{\\text{POSS2}}]\\!]^{}_{\\langle{}\\langle{}e,t\\rangle{},\\langle{}e,e\\rangle{}\\rangle{}} \\:=\\: \\lambda{} f_{\\langle{}e,t\\rangle{}} \\: . \\: \\lambda{} y_{e} \\: . \\: \\iota{} x_{e} \\: . \\: {f}_{\\langle{}e,t\\rangle{}}({x}_{e})$"
      ]
     },
     "execution_count": 11,
     "metadata": {},
     "output_type": "execute_result"
    }
   ],
   "source": [
    "%%lamb\n",
    "||POSS2|| = L f_<e,t> : L y_e : Iota x_e : (f(x_e) )\n",
    "            \n",
    "            #KC: make the names different so that you have a way of doing both compisitions: this is actually a concrete\n",
    "            #instantiation of the ambiguity you are implicitly proposing"
   ]
  },
  {
   "cell_type": "markdown",
   "metadata": {},
   "source": [
    "** Markdown cell **: As we can see above, this denotation of `POSS` has type `<<e,t>,<e,e>>`. \n",
    "\n",
    "As presupposition is not supported yet, the denotation is not fully complete by itself. It in fact assumes that `y_e` and `x_e` meet some certain relation -- in our case of `book`, it presupposes that `y_e` possesses `x_e`. \n",
    "\n",
    "__*KC: but importantly, and correctly, your denotation does not provide that specific relation.  Could be more specific about the uniqueness presuppositions and why you encoded it in the POSS denotation.  8/9*__"
   ]
  },
  {
   "cell_type": "markdown",
   "metadata": {},
   "source": [
    "**Part [c]** (explication of why this denotation works): In the following cell, calculate the meaning of the tree in (6) on the midterm using the `*` operator."
   ]
  },
  {
   "cell_type": "code",
   "execution_count": 15,
   "metadata": {
    "collapsed": false
   },
   "outputs": [
    {
     "data": {
      "text/latex": [
       "1 composition path:<br /><table><tr style=\"border:1px solid #848482\"><td style=\"vertical-align:bottom;padding:0px 10px\" align=\"center\"><table><tr><td style=\"vertical-align:bottom;padding:5px\"><table><tr style=\"border:1px solid #848482\"><td style=\"vertical-align:bottom;padding:0px 10px\" align=\"center\"><table><tr><td style=\"vertical-align:bottom;padding:5px\"><div style=\"margin-top:10px;border-style:solid;border-color:#848482;border-width:0px\"><div style=\"vertical-align:bottom;text-align:center\">$[\\![\\mathbf{\\text{POSS}}]\\!]^{}_{\\langle{}\\langle{}e,\\langle{}e,t\\rangle{}\\rangle{},\\langle{}e,e\\rangle{}\\rangle{}}$</div><div style=\"vertical-align:bottom;text-align:center\">$\\lambda{} f_{\\langle{}e,\\langle{}e,t\\rangle{}\\rangle{}} \\: . \\: \\lambda{} y_{e} \\: . \\: \\iota{} x_{e} \\: . \\: ({f}_{\\langle{}e,\\langle{}e,t\\rangle{}\\rangle{}}({y}_{e})({x}_{e}) \\wedge{} ({x}_{e} \\in{} {c}_{\\{e\\}}))$</div></div></td><td style=\"vertical-align:bottom;padding:10px\">$\\circ$</td><td style=\"vertical-align:bottom;padding:5px\"><div style=\"margin-top:10px;border-style:solid;border-color:#848482;border-width:0px\"><div style=\"vertical-align:bottom;text-align:center\">$[\\![\\mathbf{\\text{mother}}]\\!]^{}_{\\langle{}e,\\langle{}e,t\\rangle{}\\rangle{}}$</div><div style=\"vertical-align:bottom;text-align:center\">$\\lambda{} x_{e} \\: . \\: \\lambda{} y_{e} \\: . \\: {Mother}({y}_{e}, {x}_{e})$</div></div></td></tr></table></td><td style=\"border-left:1px solid #848482;vertical-align:center;padding:10px\"><span style=\"color:blue\"><b>[FA]</b></span></td></tr><tr style=\"border-style:solid;border-color:#848482;border-width:0px 1px 1px 1px\"><td style=\"padding:5px\" align=\"center\"><div style=\"margin-top:10px;border-style:solid;border-color:#848482;border-width:0px\"><div style=\"vertical-align:bottom;text-align:center\">$[\\![\\mathbf{\\text{[POSS mother]}}]\\!]^{}_{\\langle{}e,e\\rangle{}}$</div><div style=\"vertical-align:bottom;text-align:center\">$\\lambda{} y_{e} \\: . \\: \\iota{} x_{e} \\: . \\: ({Mother}({x}_{e}, {y}_{e}) \\wedge{} ({x}_{e} \\in{} {c}_{\\{e\\}}))$</div></div></td><td></td></tr></table></td><td style=\"vertical-align:bottom;padding:10px\">$\\circ$</td><td style=\"vertical-align:bottom;padding:5px\"><div style=\"margin-top:10px;border-style:solid;border-color:#848482;border-width:0px\"><div style=\"vertical-align:bottom;text-align:center\">$[\\![\\mathbf{\\text{Joanna}}]\\!]^{}_{e}$</div><div style=\"vertical-align:bottom;text-align:center\">${j}_{e}$</div></div></td></tr></table></td><td style=\"border-left:1px solid #848482;vertical-align:center;padding:10px\"><span style=\"color:blue\"><b>[FA]</b></span></td></tr><tr style=\"border-style:solid;border-color:#848482;border-width:0px 1px 1px 1px\"><td style=\"padding:5px\" align=\"center\"><div style=\"margin-top:10px;border-style:solid;border-color:#848482;border-width:0px\"><div style=\"vertical-align:bottom;text-align:center\">$[\\![\\mathbf{\\text{[[POSS mother] Joanna]}}]\\!]^{}_{e}$</div><div style=\"vertical-align:bottom;text-align:center\">$\\iota{} x_{e} \\: . \\: ({Mother}({x}_{e}, {j}_{e}) \\wedge{} ({x}_{e} \\in{} {c}_{\\{e\\}}))$</div></div></td><td></td></tr></table><br /><br />"
      ],
      "text/plain": [
       "1 composition path:<br /><table><tr style=\"border:1px solid #848482\"><td style=\"vertical-align:bottom;padding:0px 10px\" align=\"center\"><table><tr><td style=\"vertical-align:bottom;padding:5px\"><table><tr style=\"border:1px solid #848482\"><td style=\"vertical-align:bottom;padding:0px 10px\" align=\"center\"><table><tr><td style=\"vertical-align:bottom;padding:5px\"><div style=\"margin-top:10px;border-style:solid;border-color:#848482;border-width:0px\"><div style=\"vertical-align:bottom;text-align:center\">$[\\![\\mathbf{\\text{POSS}}]\\!]^{}_{\\langle{}\\langle{}e,\\langle{}e,t\\rangle{}\\rangle{},\\langle{}e,e\\rangle{}\\rangle{}}$</div><div style=\"vertical-align:bottom;text-align:center\">$\\lambda{} f_{\\langle{}e,\\langle{}e,t\\rangle{}\\rangle{}} \\: . \\: \\lambda{} y_{e} \\: . \\: \\iota{} x_{e} \\: . \\: ({f}_{\\langle{}e,\\langle{}e,t\\rangle{}\\rangle{}}({y}_{e})({x}_{e}) \\wedge{} ({x}_{e} \\in{} {c}_{\\{e\\}}))$</div></div></td><td style=\"vertical-align:bottom;padding:10px\">$\\circ$</td><td style=\"vertical-align:bottom;padding:5px\"><div style=\"margin-top:10px;border-style:solid;border-color:#848482;border-width:0px\"><div style=\"vertical-align:bottom;text-align:center\">$[\\![\\mathbf{\\text{mother}}]\\!]^{}_{\\langle{}e,\\langle{}e,t\\rangle{}\\rangle{}}$</div><div style=\"vertical-align:bottom;text-align:center\">$\\lambda{} x_{e} \\: . \\: \\lambda{} y_{e} \\: . \\: {Mother}({y}_{e}, {x}_{e})$</div></div></td></tr></table></td><td style=\"border-left:1px solid #848482;vertical-align:center;padding:10px\"><span style=\"color:blue\"><b>[FA]</b></span></td></tr><tr style=\"border-style:solid;border-color:#848482;border-width:0px 1px 1px 1px\"><td style=\"padding:5px\" align=\"center\"><div style=\"margin-top:10px;border-style:solid;border-color:#848482;border-width:0px\"><div style=\"vertical-align:bottom;text-align:center\">$[\\![\\mathbf{\\text{[POSS mother]}}]\\!]^{}_{\\langle{}e,e\\rangle{}}$</div><div style=\"vertical-align:bottom;text-align:center\">$\\lambda{} y_{e} \\: . \\: \\iota{} x_{e} \\: . \\: ({Mother}({x}_{e}, {y}_{e}) \\wedge{} ({x}_{e} \\in{} {c}_{\\{e\\}}))$</div></div></td><td></td></tr></table></td><td style=\"vertical-align:bottom;padding:10px\">$\\circ$</td><td style=\"vertical-align:bottom;padding:5px\"><div style=\"margin-top:10px;border-style:solid;border-color:#848482;border-width:0px\"><div style=\"vertical-align:bottom;text-align:center\">$[\\![\\mathbf{\\text{Joanna}}]\\!]^{}_{e}$</div><div style=\"vertical-align:bottom;text-align:center\">${j}_{e}$</div></div></td></tr></table></td><td style=\"border-left:1px solid #848482;vertical-align:center;padding:10px\"><span style=\"color:blue\"><b>[FA]</b></span></td></tr><tr style=\"border-style:solid;border-color:#848482;border-width:0px 1px 1px 1px\"><td style=\"padding:5px\" align=\"center\"><div style=\"margin-top:10px;border-style:solid;border-color:#848482;border-width:0px\"><div style=\"vertical-align:bottom;text-align:center\">$[\\![\\mathbf{\\text{[[POSS mother] Joanna]}}]\\!]^{}_{e}$</div><div style=\"vertical-align:bottom;text-align:center\">$\\iota{} x_{e} \\: . \\: ({Mother}({x}_{e}, {j}_{e}) \\wedge{} ({x}_{e} \\in{} {c}_{\\{e\\}}))$</div></div></td><td></td></tr></table><br /><br />"
      ]
     },
     "execution_count": 15,
     "metadata": {},
     "output_type": "execute_result"
    }
   ],
   "source": [
    "(Joanna * (POSS * mother)).tree()"
   ]
  },
  {
   "cell_type": "code",
   "execution_count": 12,
   "metadata": {
    "collapsed": false
   },
   "outputs": [
    {
     "data": {
      "text/latex": [
       "1 composition path:<br /><table><tr style=\"border:1px solid #848482\"><td style=\"vertical-align:bottom;padding:0px 10px\" align=\"center\"><table><tr><td style=\"vertical-align:bottom;padding:5px\"><table><tr style=\"border:1px solid #848482\"><td style=\"vertical-align:bottom;padding:0px 10px\" align=\"center\"><table><tr><td style=\"vertical-align:bottom;padding:5px\"><div style=\"margin-top:10px;border-style:solid;border-color:#848482;border-width:0px\"><div style=\"vertical-align:bottom;text-align:center\">$[\\![\\mathbf{\\text{POSS2}}]\\!]^{}_{\\langle{}\\langle{}e,t\\rangle{},\\langle{}e,e\\rangle{}\\rangle{}}$</div><div style=\"vertical-align:bottom;text-align:center\">$\\lambda{} f_{\\langle{}e,t\\rangle{}} \\: . \\: \\lambda{} y_{e} \\: . \\: \\iota{} x_{e} \\: . \\: {f}_{\\langle{}e,t\\rangle{}}({x}_{e})$</div></div></td><td style=\"vertical-align:bottom;padding:10px\">$\\circ$</td><td style=\"vertical-align:bottom;padding:5px\"><div style=\"margin-top:10px;border-style:solid;border-color:#848482;border-width:0px\"><div style=\"vertical-align:bottom;text-align:center\">$[\\![\\mathbf{\\text{book}}]\\!]^{}_{\\langle{}e,t\\rangle{}}$</div><div style=\"vertical-align:bottom;text-align:center\">$\\lambda{} x_{e} \\: . \\: {Book}({x}_{e})$</div></div></td></tr></table></td><td style=\"border-left:1px solid #848482;vertical-align:center;padding:10px\"><span style=\"color:blue\"><b>[FA]</b></span></td></tr><tr style=\"border-style:solid;border-color:#848482;border-width:0px 1px 1px 1px\"><td style=\"padding:5px\" align=\"center\"><div style=\"margin-top:10px;border-style:solid;border-color:#848482;border-width:0px\"><div style=\"vertical-align:bottom;text-align:center\">$[\\![\\mathbf{\\text{[POSS2 book]}}]\\!]^{}_{\\langle{}e,e\\rangle{}}$</div><div style=\"vertical-align:bottom;text-align:center\">$\\lambda{} y_{e} \\: . \\: \\iota{} x_{e} \\: . \\: {Book}({x}_{e})$</div></div></td><td></td></tr></table></td><td style=\"vertical-align:bottom;padding:10px\">$\\circ$</td><td style=\"vertical-align:bottom;padding:5px\"><div style=\"margin-top:10px;border-style:solid;border-color:#848482;border-width:0px\"><div style=\"vertical-align:bottom;text-align:center\">$[\\![\\mathbf{\\text{Joanna}}]\\!]^{}_{e}$</div><div style=\"vertical-align:bottom;text-align:center\">${j}_{e}$</div></div></td></tr></table></td><td style=\"border-left:1px solid #848482;vertical-align:center;padding:10px\"><span style=\"color:blue\"><b>[FA]</b></span></td></tr><tr style=\"border-style:solid;border-color:#848482;border-width:0px 1px 1px 1px\"><td style=\"padding:5px\" align=\"center\"><div style=\"margin-top:10px;border-style:solid;border-color:#848482;border-width:0px\"><div style=\"vertical-align:bottom;text-align:center\">$[\\![\\mathbf{\\text{[[POSS2 book] Joanna]}}]\\!]^{}_{e}$</div><div style=\"vertical-align:bottom;text-align:center\">$\\iota{} x_{e} \\: . \\: {Book}({x}_{e})$</div></div></td><td></td></tr></table><br /><br />"
      ],
      "text/plain": [
       "1 composition path:<br /><table><tr style=\"border:1px solid #848482\"><td style=\"vertical-align:bottom;padding:0px 10px\" align=\"center\"><table><tr><td style=\"vertical-align:bottom;padding:5px\"><table><tr style=\"border:1px solid #848482\"><td style=\"vertical-align:bottom;padding:0px 10px\" align=\"center\"><table><tr><td style=\"vertical-align:bottom;padding:5px\"><div style=\"margin-top:10px;border-style:solid;border-color:#848482;border-width:0px\"><div style=\"vertical-align:bottom;text-align:center\">$[\\![\\mathbf{\\text{POSS2}}]\\!]^{}_{\\langle{}\\langle{}e,t\\rangle{},\\langle{}e,e\\rangle{}\\rangle{}}$</div><div style=\"vertical-align:bottom;text-align:center\">$\\lambda{} f_{\\langle{}e,t\\rangle{}} \\: . \\: \\lambda{} y_{e} \\: . \\: \\iota{} x_{e} \\: . \\: {f}_{\\langle{}e,t\\rangle{}}({x}_{e})$</div></div></td><td style=\"vertical-align:bottom;padding:10px\">$\\circ$</td><td style=\"vertical-align:bottom;padding:5px\"><div style=\"margin-top:10px;border-style:solid;border-color:#848482;border-width:0px\"><div style=\"vertical-align:bottom;text-align:center\">$[\\![\\mathbf{\\text{book}}]\\!]^{}_{\\langle{}e,t\\rangle{}}$</div><div style=\"vertical-align:bottom;text-align:center\">$\\lambda{} x_{e} \\: . \\: {Book}({x}_{e})$</div></div></td></tr></table></td><td style=\"border-left:1px solid #848482;vertical-align:center;padding:10px\"><span style=\"color:blue\"><b>[FA]</b></span></td></tr><tr style=\"border-style:solid;border-color:#848482;border-width:0px 1px 1px 1px\"><td style=\"padding:5px\" align=\"center\"><div style=\"margin-top:10px;border-style:solid;border-color:#848482;border-width:0px\"><div style=\"vertical-align:bottom;text-align:center\">$[\\![\\mathbf{\\text{[POSS2 book]}}]\\!]^{}_{\\langle{}e,e\\rangle{}}$</div><div style=\"vertical-align:bottom;text-align:center\">$\\lambda{} y_{e} \\: . \\: \\iota{} x_{e} \\: . \\: {Book}({x}_{e})$</div></div></td><td></td></tr></table></td><td style=\"vertical-align:bottom;padding:10px\">$\\circ$</td><td style=\"vertical-align:bottom;padding:5px\"><div style=\"margin-top:10px;border-style:solid;border-color:#848482;border-width:0px\"><div style=\"vertical-align:bottom;text-align:center\">$[\\![\\mathbf{\\text{Joanna}}]\\!]^{}_{e}$</div><div style=\"vertical-align:bottom;text-align:center\">${j}_{e}$</div></div></td></tr></table></td><td style=\"border-left:1px solid #848482;vertical-align:center;padding:10px\"><span style=\"color:blue\"><b>[FA]</b></span></td></tr><tr style=\"border-style:solid;border-color:#848482;border-width:0px 1px 1px 1px\"><td style=\"padding:5px\" align=\"center\"><div style=\"margin-top:10px;border-style:solid;border-color:#848482;border-width:0px\"><div style=\"vertical-align:bottom;text-align:center\">$[\\![\\mathbf{\\text{[[POSS2 book] Joanna]}}]\\!]^{}_{e}$</div><div style=\"vertical-align:bottom;text-align:center\">$\\iota{} x_{e} \\: . \\: {Book}({x}_{e})$</div></div></td><td></td></tr></table><br /><br />"
      ]
     },
     "execution_count": 12,
     "metadata": {},
     "output_type": "execute_result"
    }
   ],
   "source": [
    "(Joanna * (POSS2 * book)).tree()"
   ]
  },
  {
   "cell_type": "markdown",
   "metadata": {},
   "source": [
    "** Markdown cell **: Again, we need to notice that we presuppose __*(KC: 'assume' might be a more appropriate term here so as not to be confused with the technical meaning of presupposition.*__ the `book` belongs to `Joanna`, even though it is not explicitly shown in the derivation."
   ]
  },
  {
   "cell_type": "markdown",
   "metadata": {},
   "source": [
    "**Part [d]** (grads, ugrad extra credit).  In the following cell(s) answer the question on the midterm.  You may insert as many new cells as you need, and use markdown cells to write any prose."
   ]
  },
  {
   "cell_type": "code",
   "execution_count": 22,
   "metadata": {
    "collapsed": false
   },
   "outputs": [
    {
     "data": {
      "text/html": [
       "1 composition path.  Result:\n",
       "<br />&nbsp;&nbsp;&nbsp;&nbsp;[0]: $[\\![\\mathbf{\\text{[[POSS mother] Joanna]}}]\\!]^{}_{e} \\:=\\: $$\\iota{} x_{e} \\: . \\: ({Mother}({x}_{e}, {j}_{e}) \\wedge{} ({x}_{e} \\in{} {c}_{\\{e\\}}))$"
      ],
      "text/plain": [
       "CompositionResult(results=[⟦[[POSS mother] Joanna]⟧ = (ι x_e: (Mother_<(e,e),t>(x_e, j_e) & (x_e << c_{e})))], failures=[⟦[Joanna [POSS mother]]⟧ = Type mismatch: '⟦Joanna⟧ = j_e'/e and '⟦[POSS mother]⟧ = (λ y_e: (ι x_e: (Mother_<(e,e),t>(x_e, y_e) & (x_e << c_{e}))))'/<e,e> conflict (mode: Function Application), ⟦[Joanna [POSS mother]]⟧ = Type mismatch: '⟦Joanna⟧ = j_e'/e and '⟦[POSS mother]⟧ = (λ y_e: (ι x_e: (Mother_<(e,e),t>(x_e, y_e) & (x_e << c_{e}))))'/<e,e> conflict (mode: Predicate Modification), ⟦[Joanna [POSS mother]]⟧ = Type mismatch: '⟦Joanna⟧ = j_e'/e and '⟦[POSS mother]⟧ = (λ y_e: (ι x_e: (Mother_<(e,e),t>(x_e, y_e) & (x_e << c_{e}))))'/<e,e> conflict (mode: Predicate Abstraction), ⟦[[POSS mother] Joanna]⟧ = Type mismatch: '⟦[POSS mother]⟧ = (λ y_e: (ι x_e: (Mother_<(e,e),t>(x_e, y_e) & (x_e << c_{e}))))'/<e,e> and '⟦Joanna⟧ = j_e'/e conflict (mode: Predicate Abstraction)])"
      ]
     },
     "execution_count": 22,
     "metadata": {},
     "output_type": "execute_result"
    }
   ],
   "source": [
    "(Joanna * (POSS * mother)).reduce_all()"
   ]
  },
  {
   "cell_type": "code",
   "execution_count": 16,
   "metadata": {
    "collapsed": false,
    "scrolled": true
   },
   "outputs": [
    {
     "data": {
      "text/plain": [
       "'No succesful composition paths.'"
      ]
     },
     "execution_count": 16,
     "metadata": {},
     "output_type": "execute_result"
    }
   ],
   "source": [
    "(Joanna * (POSS * book)).tree()"
   ]
  },
  {
   "cell_type": "markdown",
   "metadata": {},
   "source": [
    "__*KC: what you have here isn't enough, it just seems like you've shown the same derivations again.  You need to come up with a proposal (using the mechanisms we have available in LF) to try and reduce the ambiguity you prosed above to one unified denoation for POSS. 0/8*__"
   ]
  },
  {
   "cell_type": "markdown",
   "metadata": {},
   "source": [
    "**Part [e]** In the following cells, calculate the denotation of `A doctor met Joanna's mother`.  You will need to fill out the lexicon with a few more items, and then do the composition."
   ]
  },
  {
   "cell_type": "code",
   "execution_count": 17,
   "metadata": {
    "collapsed": false
   },
   "outputs": [
    {
     "name": "stderr",
     "output_type": "stream",
     "text": [
      "INFO (meta): Coerced guessed type t for 'Doctor_t' into <e,t>, to match argument 'x_e'\n",
      "INFO (meta): Coerced guessed type t for 'Met_t' into <(e,e),t>, to match argument '(x_e, y_e)'\n"
     ]
    },
    {
     "name": "stdout",
     "output_type": "stream",
     "text": [
      "Don't know what to do with '# rest of lexicon here'\n"
     ]
    },
    {
     "data": {
      "text/latex": [
       "$[\\![\\mathbf{\\text{a}}]\\!]^{}_{\\langle{}\\langle{}e,t\\rangle{},\\langle{}\\langle{}e,t\\rangle{},t\\rangle{}\\rangle{}} \\:=\\: \\lambda{} f_{\\langle{}e,t\\rangle{}} \\: . \\: \\lambda{} g_{\\langle{}e,t\\rangle{}} \\: . \\: \\exists{} x_{e} \\: . \\: ({f}_{\\langle{}e,t\\rangle{}}({x}_{e}) \\wedge{} {g}_{\\langle{}e,t\\rangle{}}({x}_{e}))$<br />\n",
       "$[\\![\\mathbf{\\text{doctor}}]\\!]^{}_{\\langle{}e,t\\rangle{}} \\:=\\: \\lambda{} x_{e} \\: . \\: {Doctor}({x}_{e})$<br />\n",
       "$[\\![\\mathbf{\\text{met}}]\\!]^{}_{\\langle{}e,\\langle{}e,t\\rangle{}\\rangle{}} \\:=\\: \\lambda{} y_{e} \\: . \\: \\lambda{} x_{e} \\: . \\: {Met}({x}_{e}, {y}_{e})$"
      ],
      "text/plain": [
       "$[\\![\\mathbf{\\text{a}}]\\!]^{}_{\\langle{}\\langle{}e,t\\rangle{},\\langle{}\\langle{}e,t\\rangle{},t\\rangle{}\\rangle{}} \\:=\\: \\lambda{} f_{\\langle{}e,t\\rangle{}} \\: . \\: \\lambda{} g_{\\langle{}e,t\\rangle{}} \\: . \\: \\exists{} x_{e} \\: . \\: ({f}_{\\langle{}e,t\\rangle{}}({x}_{e}) \\wedge{} {g}_{\\langle{}e,t\\rangle{}}({x}_{e}))$<br />\n",
       "$[\\![\\mathbf{\\text{doctor}}]\\!]^{}_{\\langle{}e,t\\rangle{}} \\:=\\: \\lambda{} x_{e} \\: . \\: {Doctor}({x}_{e})$<br />\n",
       "$[\\![\\mathbf{\\text{met}}]\\!]^{}_{\\langle{}e,\\langle{}e,t\\rangle{}\\rangle{}} \\:=\\: \\lambda{} y_{e} \\: . \\: \\lambda{} x_{e} \\: . \\: {Met}({x}_{e}, {y}_{e})$"
      ]
     },
     "execution_count": 17,
     "metadata": {},
     "output_type": "execute_result"
    }
   ],
   "source": [
    "%%lamb # rest of lexicon here\n",
    "||a|| = L f_<e,t> : L g_<e,t> : Exists x_e : f(x_e) & g(x_e)\n",
    "||doctor|| = L x_e : Doctor(x_e)\n",
    "||met|| = L y_e : L x_e : Met(x_e, y_e)"
   ]
  },
  {
   "cell_type": "code",
   "execution_count": 31,
   "metadata": {
    "collapsed": false
   },
   "outputs": [
    {
     "data": {
      "text/html": [
       "1 composition path.  Result:\n",
       "<br />&nbsp;&nbsp;&nbsp;&nbsp;[0]: $[\\![\\mathbf{\\text{[[a doctor] [met [[POSS mother] Joanna]]]}}]\\!]^{}_{t} \\:=\\: $$\\exists{} x_{e} \\: . \\: ({Doctor}({x}_{e}) \\wedge{} {Met}({x}_{e}, \\iota{} x1_{e} \\: . \\: ({Mother}({x1}_{e}, {j}_{e}) \\wedge{} ({x1}_{e} \\in{} {c}_{\\{e\\}}))))$"
      ],
      "text/plain": [
       "CompositionResult(results=[⟦[[a doctor] [met [[POSS mother] Joanna]]]⟧ = (Exists x_e: (Doctor_<e,t>(x_e) & Met_<(e,e),t>(x_e, (ι x1_e: (Mother_<(e,e),t>(x1_e, j_e) & (x1_e << c_{e}))))))], failures=[⟦[[met [[POSS mother] Joanna]] [a doctor]]⟧ = Type mismatch: '⟦[met [[POSS mother] Joanna]]⟧ = (λ x_e: Met_<(e,e),t>(x_e, (ι x_e: (Mother_<(e,e),t>(x_e, j_e) & (x_e << c_{e})))))'/<e,t> and '⟦[a doctor]⟧ = (λ g_<e,t>: (Exists x_e: (Doctor_<e,t>(x_e) & g_<e,t>(x_e))))'/<<e,t>,t> conflict (mode: Function Application), ⟦[[a doctor] [met [[POSS mother] Joanna]]]⟧ = Type mismatch: '⟦[a doctor]⟧ = (λ g_<e,t>: (Exists x_e: (Doctor_<e,t>(x_e) & g_<e,t>(x_e))))'/<<e,t>,t> and '⟦[met [[POSS mother] Joanna]]⟧ = (λ x_e: Met_<(e,e),t>(x_e, (ι x_e: (Mother_<(e,e),t>(x_e, j_e) & (x_e << c_{e})))))'/<e,t> conflict (mode: Predicate Modification), ⟦[[a doctor] [met [[POSS mother] Joanna]]]⟧ = Type mismatch: '⟦[a doctor]⟧ = (λ g_<e,t>: (Exists x_e: (Doctor_<e,t>(x_e) & g_<e,t>(x_e))))'/<<e,t>,t> and '⟦[met [[POSS mother] Joanna]]⟧ = (λ x_e: Met_<(e,e),t>(x_e, (ι x_e: (Mother_<(e,e),t>(x_e, j_e) & (x_e << c_{e})))))'/<e,t> conflict (mode: Predicate Abstraction), ⟦[[met [[POSS mother] Joanna]] [a doctor]]⟧ = Type mismatch: '⟦[met [[POSS mother] Joanna]]⟧ = (λ x_e: Met_<(e,e),t>(x_e, (ι x_e: (Mother_<(e,e),t>(x_e, j_e) & (x_e << c_{e})))))'/<e,t> and '⟦[a doctor]⟧ = (λ g_<e,t>: (Exists x_e: (Doctor_<e,t>(x_e) & g_<e,t>(x_e))))'/<<e,t>,t> conflict (mode: Predicate Abstraction)])"
      ]
     },
     "execution_count": 31,
     "metadata": {},
     "output_type": "execute_result"
    }
   ],
   "source": [
    "# composition here\n",
    "(a * doctor) * (met * (Joanna * (POSS * mother) ) )"
   ]
  },
  {
   "cell_type": "code",
   "execution_count": 32,
   "metadata": {
    "collapsed": false
   },
   "outputs": [
    {
     "data": {
      "text/html": [
       "Full composition trace.  1 path:<br />\n",
       "&nbsp;&nbsp;&nbsp;&nbsp;Step 1: $[\\![\\mathbf{\\text{a}}]\\!]^{}_{\\langle{}\\langle{}e,t\\rangle{},\\langle{}\\langle{}e,t\\rangle{},t\\rangle{}\\rangle{}} \\:=\\: $$\\lambda{} f_{\\langle{}e,t\\rangle{}} \\: . \\: \\lambda{} g_{\\langle{}e,t\\rangle{}} \\: . \\: \\exists{} x_{e} \\: . \\: ({f}_{\\langle{}e,t\\rangle{}}({x}_{e}) \\wedge{} {g}_{\\langle{}e,t\\rangle{}}({x}_{e}))$<br />\n",
       "&nbsp;&nbsp;&nbsp;&nbsp;Step 2: $[\\![\\mathbf{\\text{doctor}}]\\!]^{}_{\\langle{}e,t\\rangle{}} \\:=\\: $$\\lambda{} x_{e} \\: . \\: {Doctor}({x}_{e})$<br />\n",
       "&nbsp;&nbsp;&nbsp;&nbsp;Step 3: $[\\![\\mathbf{\\text{a}}]\\!]^{}_{\\langle{}\\langle{}e,t\\rangle{},\\langle{}\\langle{}e,t\\rangle{},t\\rangle{}\\rangle{}}$ * $[\\![\\mathbf{\\text{doctor}}]\\!]^{}_{\\langle{}e,t\\rangle{}}$ leads to: $[\\![\\mathbf{\\text{[a doctor]}}]\\!]^{}_{\\langle{}\\langle{}e,t\\rangle{},t\\rangle{}} \\:=\\: $$\\lambda{} g_{\\langle{}e,t\\rangle{}} \\: . \\: \\exists{} x_{e} \\: . \\: ({Doctor}({x}_{e}) \\wedge{} {g}_{\\langle{}e,t\\rangle{}}({x}_{e}))$ <b>[by FA]</b><br />\n",
       "&nbsp;&nbsp;&nbsp;&nbsp;Step 4: $[\\![\\mathbf{\\text{met}}]\\!]^{}_{\\langle{}e,\\langle{}e,t\\rangle{}\\rangle{}} \\:=\\: $$\\lambda{} y_{e} \\: . \\: \\lambda{} x_{e} \\: . \\: {Met}({x}_{e}, {y}_{e})$<br />\n",
       "&nbsp;&nbsp;&nbsp;&nbsp;Step 5: $[\\![\\mathbf{\\text{POSS}}]\\!]^{}_{\\langle{}\\langle{}e,\\langle{}e,t\\rangle{}\\rangle{},\\langle{}e,e\\rangle{}\\rangle{}} \\:=\\: $$\\lambda{} f_{\\langle{}e,\\langle{}e,t\\rangle{}\\rangle{}} \\: . \\: \\lambda{} y_{e} \\: . \\: \\iota{} x_{e} \\: . \\: ({f}_{\\langle{}e,\\langle{}e,t\\rangle{}\\rangle{}}({y}_{e})({x}_{e}) \\wedge{} ({x}_{e} \\in{} {c}_{\\{e\\}}))$<br />\n",
       "&nbsp;&nbsp;&nbsp;&nbsp;Step 6: $[\\![\\mathbf{\\text{mother}}]\\!]^{}_{\\langle{}e,\\langle{}e,t\\rangle{}\\rangle{}} \\:=\\: $$\\lambda{} x_{e} \\: . \\: \\lambda{} y_{e} \\: . \\: {Mother}({y}_{e}, {x}_{e})$<br />\n",
       "&nbsp;&nbsp;&nbsp;&nbsp;Step 7: $[\\![\\mathbf{\\text{POSS}}]\\!]^{}_{\\langle{}\\langle{}e,\\langle{}e,t\\rangle{}\\rangle{},\\langle{}e,e\\rangle{}\\rangle{}}$ * $[\\![\\mathbf{\\text{mother}}]\\!]^{}_{\\langle{}e,\\langle{}e,t\\rangle{}\\rangle{}}$ leads to: $[\\![\\mathbf{\\text{[POSS mother]}}]\\!]^{}_{\\langle{}e,e\\rangle{}} \\:=\\: $$\\lambda{} y_{e} \\: . \\: \\iota{} x_{e} \\: . \\: ({Mother}({x}_{e}, {y}_{e}) \\wedge{} ({x}_{e} \\in{} {c}_{\\{e\\}}))$ <b>[by FA]</b><br />\n",
       "&nbsp;&nbsp;&nbsp;&nbsp;Step 8: $[\\![\\mathbf{\\text{Joanna}}]\\!]^{}_{e} \\:=\\: $${j}_{e}$<br />\n",
       "&nbsp;&nbsp;&nbsp;&nbsp;Step 9: $[\\![\\mathbf{\\text{[POSS mother]}}]\\!]^{}_{\\langle{}e,e\\rangle{}}$ * $[\\![\\mathbf{\\text{Joanna}}]\\!]^{}_{e}$ leads to: $[\\![\\mathbf{\\text{[[POSS mother] Joanna]}}]\\!]^{}_{e} \\:=\\: $$\\iota{} x_{e} \\: . \\: ({Mother}({x}_{e}, {j}_{e}) \\wedge{} ({x}_{e} \\in{} {c}_{\\{e\\}}))$ <b>[by FA]</b><br />\n",
       "&nbsp;&nbsp;&nbsp;&nbsp;Step 10: $[\\![\\mathbf{\\text{met}}]\\!]^{}_{\\langle{}e,\\langle{}e,t\\rangle{}\\rangle{}}$ * $[\\![\\mathbf{\\text{[[POSS mother] Joanna]}}]\\!]^{}_{e}$ leads to: $[\\![\\mathbf{\\text{[met [[POSS mother] Joanna]]}}]\\!]^{}_{\\langle{}e,t\\rangle{}} \\:=\\: $$\\lambda{} x_{e} \\: . \\: {Met}({x}_{e}, \\iota{} x_{e} \\: . \\: ({Mother}({x}_{e}, {j}_{e}) \\wedge{} ({x}_{e} \\in{} {c}_{\\{e\\}})))$ <b>[by FA]</b><br />\n",
       "&nbsp;&nbsp;&nbsp;&nbsp;Step 11: $[\\![\\mathbf{\\text{[a doctor]}}]\\!]^{}_{\\langle{}\\langle{}e,t\\rangle{},t\\rangle{}}$ * $[\\![\\mathbf{\\text{[met [[POSS mother] Joanna]]}}]\\!]^{}_{\\langle{}e,t\\rangle{}}$ leads to: $[\\![\\mathbf{\\text{[[a doctor] [met [[POSS mother] Joanna]]]}}]\\!]^{}_{t} \\:=\\: $$\\exists{} x_{e} \\: . \\: ({Doctor}({x}_{e}) \\wedge{} {Met}({x}_{e}, \\iota{} x1_{e} \\: . \\: ({Mother}({x1}_{e}, {j}_{e}) \\wedge{} ({x1}_{e} \\in{} {c}_{\\{e\\}}))))$ <b>[by FA]</b><br />\n"
      ],
      "text/latex": [
       "Full composition trace.  1 path:<br />\n",
       "&nbsp;&nbsp;&nbsp;&nbsp;Step 1: $[\\![\\mathbf{\\text{a}}]\\!]^{}_{\\langle{}\\langle{}e,t\\rangle{},\\langle{}\\langle{}e,t\\rangle{},t\\rangle{}\\rangle{}} \\:=\\: $$\\lambda{} f_{\\langle{}e,t\\rangle{}} \\: . \\: \\lambda{} g_{\\langle{}e,t\\rangle{}} \\: . \\: \\exists{} x_{e} \\: . \\: ({f}_{\\langle{}e,t\\rangle{}}({x}_{e}) \\wedge{} {g}_{\\langle{}e,t\\rangle{}}({x}_{e}))$<br />\n",
       "&nbsp;&nbsp;&nbsp;&nbsp;Step 2: $[\\![\\mathbf{\\text{doctor}}]\\!]^{}_{\\langle{}e,t\\rangle{}} \\:=\\: $$\\lambda{} x_{e} \\: . \\: {Doctor}({x}_{e})$<br />\n",
       "&nbsp;&nbsp;&nbsp;&nbsp;Step 3: $[\\![\\mathbf{\\text{a}}]\\!]^{}_{\\langle{}\\langle{}e,t\\rangle{},\\langle{}\\langle{}e,t\\rangle{},t\\rangle{}\\rangle{}}$ * $[\\![\\mathbf{\\text{doctor}}]\\!]^{}_{\\langle{}e,t\\rangle{}}$ leads to: $[\\![\\mathbf{\\text{[a doctor]}}]\\!]^{}_{\\langle{}\\langle{}e,t\\rangle{},t\\rangle{}} \\:=\\: $$\\lambda{} g_{\\langle{}e,t\\rangle{}} \\: . \\: \\exists{} x_{e} \\: . \\: ({Doctor}({x}_{e}) \\wedge{} {g}_{\\langle{}e,t\\rangle{}}({x}_{e}))$ <b>[by FA]</b><br />\n",
       "&nbsp;&nbsp;&nbsp;&nbsp;Step 4: $[\\![\\mathbf{\\text{met}}]\\!]^{}_{\\langle{}e,\\langle{}e,t\\rangle{}\\rangle{}} \\:=\\: $$\\lambda{} y_{e} \\: . \\: \\lambda{} x_{e} \\: . \\: {Met}({x}_{e}, {y}_{e})$<br />\n",
       "&nbsp;&nbsp;&nbsp;&nbsp;Step 5: $[\\![\\mathbf{\\text{POSS}}]\\!]^{}_{\\langle{}\\langle{}e,\\langle{}e,t\\rangle{}\\rangle{},\\langle{}e,e\\rangle{}\\rangle{}} \\:=\\: $$\\lambda{} f_{\\langle{}e,\\langle{}e,t\\rangle{}\\rangle{}} \\: . \\: \\lambda{} y_{e} \\: . \\: \\iota{} x_{e} \\: . \\: ({f}_{\\langle{}e,\\langle{}e,t\\rangle{}\\rangle{}}({y}_{e})({x}_{e}) \\wedge{} ({x}_{e} \\in{} {c}_{\\{e\\}}))$<br />\n",
       "&nbsp;&nbsp;&nbsp;&nbsp;Step 6: $[\\![\\mathbf{\\text{mother}}]\\!]^{}_{\\langle{}e,\\langle{}e,t\\rangle{}\\rangle{}} \\:=\\: $$\\lambda{} x_{e} \\: . \\: \\lambda{} y_{e} \\: . \\: {Mother}({y}_{e}, {x}_{e})$<br />\n",
       "&nbsp;&nbsp;&nbsp;&nbsp;Step 7: $[\\![\\mathbf{\\text{POSS}}]\\!]^{}_{\\langle{}\\langle{}e,\\langle{}e,t\\rangle{}\\rangle{},\\langle{}e,e\\rangle{}\\rangle{}}$ * $[\\![\\mathbf{\\text{mother}}]\\!]^{}_{\\langle{}e,\\langle{}e,t\\rangle{}\\rangle{}}$ leads to: $[\\![\\mathbf{\\text{[POSS mother]}}]\\!]^{}_{\\langle{}e,e\\rangle{}} \\:=\\: $$\\lambda{} y_{e} \\: . \\: \\iota{} x_{e} \\: . \\: ({Mother}({x}_{e}, {y}_{e}) \\wedge{} ({x}_{e} \\in{} {c}_{\\{e\\}}))$ <b>[by FA]</b><br />\n",
       "&nbsp;&nbsp;&nbsp;&nbsp;Step 8: $[\\![\\mathbf{\\text{Joanna}}]\\!]^{}_{e} \\:=\\: $${j}_{e}$<br />\n",
       "&nbsp;&nbsp;&nbsp;&nbsp;Step 9: $[\\![\\mathbf{\\text{[POSS mother]}}]\\!]^{}_{\\langle{}e,e\\rangle{}}$ * $[\\![\\mathbf{\\text{Joanna}}]\\!]^{}_{e}$ leads to: $[\\![\\mathbf{\\text{[[POSS mother] Joanna]}}]\\!]^{}_{e} \\:=\\: $$\\iota{} x_{e} \\: . \\: ({Mother}({x}_{e}, {j}_{e}) \\wedge{} ({x}_{e} \\in{} {c}_{\\{e\\}}))$ <b>[by FA]</b><br />\n",
       "&nbsp;&nbsp;&nbsp;&nbsp;Step 10: $[\\![\\mathbf{\\text{met}}]\\!]^{}_{\\langle{}e,\\langle{}e,t\\rangle{}\\rangle{}}$ * $[\\![\\mathbf{\\text{[[POSS mother] Joanna]}}]\\!]^{}_{e}$ leads to: $[\\![\\mathbf{\\text{[met [[POSS mother] Joanna]]}}]\\!]^{}_{\\langle{}e,t\\rangle{}} \\:=\\: $$\\lambda{} x_{e} \\: . \\: {Met}({x}_{e}, \\iota{} x_{e} \\: . \\: ({Mother}({x}_{e}, {j}_{e}) \\wedge{} ({x}_{e} \\in{} {c}_{\\{e\\}})))$ <b>[by FA]</b><br />\n",
       "&nbsp;&nbsp;&nbsp;&nbsp;Step 11: $[\\![\\mathbf{\\text{[a doctor]}}]\\!]^{}_{\\langle{}\\langle{}e,t\\rangle{},t\\rangle{}}$ * $[\\![\\mathbf{\\text{[met [[POSS mother] Joanna]]}}]\\!]^{}_{\\langle{}e,t\\rangle{}}$ leads to: $[\\![\\mathbf{\\text{[[a doctor] [met [[POSS mother] Joanna]]]}}]\\!]^{}_{t} \\:=\\: $$\\exists{} x_{e} \\: . \\: ({Doctor}({x}_{e}) \\wedge{} {Met}({x}_{e}, \\iota{} x1_{e} \\: . \\: ({Mother}({x1}_{e}, {j}_{e}) \\wedge{} ({x1}_{e} \\in{} {c}_{\\{e\\}}))))$ <b>[by FA]</b><br />\n"
      ],
      "text/plain": [
       "Full composition trace.  1 path:<br />\n",
       "&nbsp;&nbsp;&nbsp;&nbsp;Step 1: $[\\![\\mathbf{\\text{a}}]\\!]^{}_{\\langle{}\\langle{}e,t\\rangle{},\\langle{}\\langle{}e,t\\rangle{},t\\rangle{}\\rangle{}} \\:=\\: $$\\lambda{} f_{\\langle{}e,t\\rangle{}} \\: . \\: \\lambda{} g_{\\langle{}e,t\\rangle{}} \\: . \\: \\exists{} x_{e} \\: . \\: ({f}_{\\langle{}e,t\\rangle{}}({x}_{e}) \\wedge{} {g}_{\\langle{}e,t\\rangle{}}({x}_{e}))$<br />\n",
       "&nbsp;&nbsp;&nbsp;&nbsp;Step 2: $[\\![\\mathbf{\\text{doctor}}]\\!]^{}_{\\langle{}e,t\\rangle{}} \\:=\\: $$\\lambda{} x_{e} \\: . \\: {Doctor}({x}_{e})$<br />\n",
       "&nbsp;&nbsp;&nbsp;&nbsp;Step 3: $[\\![\\mathbf{\\text{a}}]\\!]^{}_{\\langle{}\\langle{}e,t\\rangle{},\\langle{}\\langle{}e,t\\rangle{},t\\rangle{}\\rangle{}}$ * $[\\![\\mathbf{\\text{doctor}}]\\!]^{}_{\\langle{}e,t\\rangle{}}$ leads to: $[\\![\\mathbf{\\text{[a doctor]}}]\\!]^{}_{\\langle{}\\langle{}e,t\\rangle{},t\\rangle{}} \\:=\\: $$\\lambda{} g_{\\langle{}e,t\\rangle{}} \\: . \\: \\exists{} x_{e} \\: . \\: ({Doctor}({x}_{e}) \\wedge{} {g}_{\\langle{}e,t\\rangle{}}({x}_{e}))$ <b>[by FA]</b><br />\n",
       "&nbsp;&nbsp;&nbsp;&nbsp;Step 4: $[\\![\\mathbf{\\text{met}}]\\!]^{}_{\\langle{}e,\\langle{}e,t\\rangle{}\\rangle{}} \\:=\\: $$\\lambda{} y_{e} \\: . \\: \\lambda{} x_{e} \\: . \\: {Met}({x}_{e}, {y}_{e})$<br />\n",
       "&nbsp;&nbsp;&nbsp;&nbsp;Step 5: $[\\![\\mathbf{\\text{POSS}}]\\!]^{}_{\\langle{}\\langle{}e,\\langle{}e,t\\rangle{}\\rangle{},\\langle{}e,e\\rangle{}\\rangle{}} \\:=\\: $$\\lambda{} f_{\\langle{}e,\\langle{}e,t\\rangle{}\\rangle{}} \\: . \\: \\lambda{} y_{e} \\: . \\: \\iota{} x_{e} \\: . \\: ({f}_{\\langle{}e,\\langle{}e,t\\rangle{}\\rangle{}}({y}_{e})({x}_{e}) \\wedge{} ({x}_{e} \\in{} {c}_{\\{e\\}}))$<br />\n",
       "&nbsp;&nbsp;&nbsp;&nbsp;Step 6: $[\\![\\mathbf{\\text{mother}}]\\!]^{}_{\\langle{}e,\\langle{}e,t\\rangle{}\\rangle{}} \\:=\\: $$\\lambda{} x_{e} \\: . \\: \\lambda{} y_{e} \\: . \\: {Mother}({y}_{e}, {x}_{e})$<br />\n",
       "&nbsp;&nbsp;&nbsp;&nbsp;Step 7: $[\\![\\mathbf{\\text{POSS}}]\\!]^{}_{\\langle{}\\langle{}e,\\langle{}e,t\\rangle{}\\rangle{},\\langle{}e,e\\rangle{}\\rangle{}}$ * $[\\![\\mathbf{\\text{mother}}]\\!]^{}_{\\langle{}e,\\langle{}e,t\\rangle{}\\rangle{}}$ leads to: $[\\![\\mathbf{\\text{[POSS mother]}}]\\!]^{}_{\\langle{}e,e\\rangle{}} \\:=\\: $$\\lambda{} y_{e} \\: . \\: \\iota{} x_{e} \\: . \\: ({Mother}({x}_{e}, {y}_{e}) \\wedge{} ({x}_{e} \\in{} {c}_{\\{e\\}}))$ <b>[by FA]</b><br />\n",
       "&nbsp;&nbsp;&nbsp;&nbsp;Step 8: $[\\![\\mathbf{\\text{Joanna}}]\\!]^{}_{e} \\:=\\: $${j}_{e}$<br />\n",
       "&nbsp;&nbsp;&nbsp;&nbsp;Step 9: $[\\![\\mathbf{\\text{[POSS mother]}}]\\!]^{}_{\\langle{}e,e\\rangle{}}$ * $[\\![\\mathbf{\\text{Joanna}}]\\!]^{}_{e}$ leads to: $[\\![\\mathbf{\\text{[[POSS mother] Joanna]}}]\\!]^{}_{e} \\:=\\: $$\\iota{} x_{e} \\: . \\: ({Mother}({x}_{e}, {j}_{e}) \\wedge{} ({x}_{e} \\in{} {c}_{\\{e\\}}))$ <b>[by FA]</b><br />\n",
       "&nbsp;&nbsp;&nbsp;&nbsp;Step 10: $[\\![\\mathbf{\\text{met}}]\\!]^{}_{\\langle{}e,\\langle{}e,t\\rangle{}\\rangle{}}$ * $[\\![\\mathbf{\\text{[[POSS mother] Joanna]}}]\\!]^{}_{e}$ leads to: $[\\![\\mathbf{\\text{[met [[POSS mother] Joanna]]}}]\\!]^{}_{\\langle{}e,t\\rangle{}} \\:=\\: $$\\lambda{} x_{e} \\: . \\: {Met}({x}_{e}, \\iota{} x_{e} \\: . \\: ({Mother}({x}_{e}, {j}_{e}) \\wedge{} ({x}_{e} \\in{} {c}_{\\{e\\}})))$ <b>[by FA]</b><br />\n",
       "&nbsp;&nbsp;&nbsp;&nbsp;Step 11: $[\\![\\mathbf{\\text{[a doctor]}}]\\!]^{}_{\\langle{}\\langle{}e,t\\rangle{},t\\rangle{}}$ * $[\\![\\mathbf{\\text{[met [[POSS mother] Joanna]]}}]\\!]^{}_{\\langle{}e,t\\rangle{}}$ leads to: $[\\![\\mathbf{\\text{[[a doctor] [met [[POSS mother] Joanna]]]}}]\\!]^{}_{t} \\:=\\: $$\\exists{} x_{e} \\: . \\: ({Doctor}({x}_{e}) \\wedge{} {Met}({x}_{e}, \\iota{} x1_{e} \\: . \\: ({Mother}({x1}_{e}, {j}_{e}) \\wedge{} ({x1}_{e} \\in{} {c}_{\\{e\\}}))))$ <b>[by FA]</b><br />"
      ]
     },
     "execution_count": 32,
     "metadata": {},
     "output_type": "execute_result"
    }
   ],
   "source": [
    "((a * doctor) * (met * (Joanna * (POSS * mother) ) )).trace()"
   ]
  },
  {
   "cell_type": "code",
   "execution_count": 33,
   "metadata": {
    "collapsed": false
   },
   "outputs": [
    {
     "data": {
      "text/html": [
       "1 composition path.  Result:\n",
       "<br />&nbsp;&nbsp;&nbsp;&nbsp;[0]: $[\\![\\mathbf{\\text{[[a doctor] [met [[POSS mother] Joanna]]]}}]\\!]^{}_{t} \\:=\\: $$\\exists{} x_{e} \\: . \\: ({Doctor}({x}_{e}) \\wedge{} {Met}({x}_{e}, \\iota{} x1_{e} \\: . \\: ({Mother}({x1}_{e}, {j}_{e}) \\wedge{} ({x1}_{e} \\in{} {c}_{\\{e\\}}))))$"
      ],
      "text/plain": [
       "CompositionResult(results=[⟦[[a doctor] [met [[POSS mother] Joanna]]]⟧ = (Exists x_e: (Doctor_<e,t>(x_e) & Met_<(e,e),t>(x_e, (ι x1_e: (Mother_<(e,e),t>(x1_e, j_e) & (x1_e << c_{e}))))))], failures=[⟦[[met [[POSS mother] Joanna]] [a doctor]]⟧ = Type mismatch: '⟦[met [[POSS mother] Joanna]]⟧ = (λ x_e: Met_<(e,e),t>(x_e, (ι x_e: (Mother_<(e,e),t>(x_e, j_e) & (x_e << c_{e})))))'/<e,t> and '⟦[a doctor]⟧ = (λ g_<e,t>: (Exists x_e: (Doctor_<e,t>(x_e) & g_<e,t>(x_e))))'/<<e,t>,t> conflict (mode: Function Application), ⟦[[a doctor] [met [[POSS mother] Joanna]]]⟧ = Type mismatch: '⟦[a doctor]⟧ = (λ g_<e,t>: (Exists x_e: (Doctor_<e,t>(x_e) & g_<e,t>(x_e))))'/<<e,t>,t> and '⟦[met [[POSS mother] Joanna]]⟧ = (λ x_e: Met_<(e,e),t>(x_e, (ι x_e: (Mother_<(e,e),t>(x_e, j_e) & (x_e << c_{e})))))'/<e,t> conflict (mode: Predicate Modification), ⟦[[a doctor] [met [[POSS mother] Joanna]]]⟧ = Type mismatch: '⟦[a doctor]⟧ = (λ g_<e,t>: (Exists x_e: (Doctor_<e,t>(x_e) & g_<e,t>(x_e))))'/<<e,t>,t> and '⟦[met [[POSS mother] Joanna]]⟧ = (λ x_e: Met_<(e,e),t>(x_e, (ι x_e: (Mother_<(e,e),t>(x_e, j_e) & (x_e << c_{e})))))'/<e,t> conflict (mode: Predicate Abstraction), ⟦[[met [[POSS mother] Joanna]] [a doctor]]⟧ = Type mismatch: '⟦[met [[POSS mother] Joanna]]⟧ = (λ x_e: Met_<(e,e),t>(x_e, (ι x_e: (Mother_<(e,e),t>(x_e, j_e) & (x_e << c_{e})))))'/<e,t> and '⟦[a doctor]⟧ = (λ g_<e,t>: (Exists x_e: (Doctor_<e,t>(x_e) & g_<e,t>(x_e))))'/<<e,t>,t> conflict (mode: Predicate Abstraction)])"
      ]
     },
     "execution_count": 33,
     "metadata": {},
     "output_type": "execute_result"
    }
   ],
   "source": [
    "((a * doctor) * (met * (Joanna * (POSS * mother) ) )).reduce_all()"
   ]
  },
  {
   "cell_type": "markdown",
   "metadata": {
    "collapsed": true
   },
   "source": [
    "__*KC: 8/8*__"
   ]
  },
  {
   "cell_type": "markdown",
   "metadata": {},
   "source": [
    "## 3. Expressive adjectives\n",
    "\n",
    "If you like, you can do some or all of this problem in the lambda notebook; I won't provide a template though."
   ]
  },
  {
   "cell_type": "code",
   "execution_count": null,
   "metadata": {
    "collapsed": true
   },
   "outputs": [],
   "source": []
  }
 ],
 "metadata": {
  "anaconda-cloud": {},
  "kernelspec": {
   "display_name": "Lambda Notebook (Python 3)",
   "language": "python",
   "name": "lambda-notebook"
  },
  "language_info": {
   "codemirror_mode": {
    "name": "ipython",
    "version": 3
   },
   "file_extension": ".py",
   "mimetype": "text/x-python",
   "name": "python",
   "nbconvert_exporter": "python",
   "pygments_lexer": "ipython3",
   "version": "3.5.2"
  }
 },
 "nbformat": 4,
 "nbformat_minor": 1
}
