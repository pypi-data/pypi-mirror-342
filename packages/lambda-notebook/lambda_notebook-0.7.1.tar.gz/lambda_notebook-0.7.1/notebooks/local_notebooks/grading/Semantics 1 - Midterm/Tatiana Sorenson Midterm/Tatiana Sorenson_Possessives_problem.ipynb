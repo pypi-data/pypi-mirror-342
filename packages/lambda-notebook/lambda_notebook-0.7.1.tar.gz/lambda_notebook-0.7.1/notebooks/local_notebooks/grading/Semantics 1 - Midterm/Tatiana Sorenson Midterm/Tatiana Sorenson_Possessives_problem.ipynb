{
 "cells": [
  {
   "cell_type": "markdown",
   "metadata": {},
   "source": [
    "## 2. Possessives"
   ]
  },
  {
   "cell_type": "markdown",
   "metadata": {},
   "source": [
    "Here is a basic lexicon for most of sentences like (1-3):\n",
    "\n",
    "    (1) Alfonso talked to Joanna's mother.\n",
    "    (2) Alfonso borrowed Joanna's book.\n",
    "    (3) Alfonso kicked Joanna's chair.\n",
    " \n",
    "The only parts that I haven't defined are the possessive morpheme, and `mother`."
   ]
  },
  {
   "cell_type": "code",
   "execution_count": 2,
   "metadata": {
    "collapsed": false
   },
   "outputs": [
    {
     "name": "stderr",
     "output_type": "stream",
     "text": [
      "INFO (meta): Coerced guessed type t for 'Borrow_t' into <(e,e),t>, to match argument '(y_e, x_e)'\n",
      "INFO (meta): Coerced guessed type t for 'Kick_t' into <(e,e),t>, to match argument '(y_e, x_e)'\n",
      "INFO (meta): Coerced guessed type t for 'Talkto_t' into <(e,e),t>, to match argument '(y_e, x_e)'\n",
      "ERROR (parsing): Parsing failed with exception:\n",
      "ERROR (parsing): expected comma in variable sequence, at point '!here!||talk to||'\n"
     ]
    },
    {
     "data": {
      "text/latex": [
       "$[\\![\\mathbf{\\text{Alfonso}}]\\!]^{}_{e} \\:=\\: {a}_{e}$<br />\n",
       "$[\\![\\mathbf{\\text{Joanna}}]\\!]^{}_{e} \\:=\\: {j}_{e}$<br />\n",
       "$[\\![\\mathbf{\\text{book}}]\\!]^{}_{\\langle{}e,t\\rangle{}} \\:=\\: \\lambda{} x_{e} \\: . \\: {Book}({x}_{e})$<br />\n",
       "$[\\![\\mathbf{\\text{chair}}]\\!]^{}_{\\langle{}e,t\\rangle{}} \\:=\\: \\lambda{} x_{e} \\: . \\: {Chair}({x}_{e})$<br />\n",
       "$[\\![\\mathbf{\\text{borrowed}}]\\!]^{}_{\\langle{}e,\\langle{}e,t\\rangle{}\\rangle{}} \\:=\\: \\lambda{} x_{e} \\: . \\: \\lambda{} y_{e} \\: . \\: {Borrow}({y}_{e}, {x}_{e})$<br />\n",
       "$[\\![\\mathbf{\\text{kick}}]\\!]^{}_{\\langle{}e,\\langle{}e,t\\rangle{}\\rangle{}} \\:=\\: \\lambda{} x_{e} \\: . \\: \\lambda{} y_{e} \\: . \\: {Kick}({y}_{e}, {x}_{e})$"
      ],
      "text/plain": [
       "$[\\![\\mathbf{\\text{Alfonso}}]\\!]^{}_{e} \\:=\\: {a}_{e}$<br />\n",
       "$[\\![\\mathbf{\\text{Joanna}}]\\!]^{}_{e} \\:=\\: {j}_{e}$<br />\n",
       "$[\\![\\mathbf{\\text{book}}]\\!]^{}_{\\langle{}e,t\\rangle{}} \\:=\\: \\lambda{} x_{e} \\: . \\: {Book}({x}_{e})$<br />\n",
       "$[\\![\\mathbf{\\text{chair}}]\\!]^{}_{\\langle{}e,t\\rangle{}} \\:=\\: \\lambda{} x_{e} \\: . \\: {Chair}({x}_{e})$<br />\n",
       "$[\\![\\mathbf{\\text{borrowed}}]\\!]^{}_{\\langle{}e,\\langle{}e,t\\rangle{}\\rangle{}} \\:=\\: \\lambda{} x_{e} \\: . \\: \\lambda{} y_{e} \\: . \\: {Borrow}({y}_{e}, {x}_{e})$<br />\n",
       "$[\\![\\mathbf{\\text{kick}}]\\!]^{}_{\\langle{}e,\\langle{}e,t\\rangle{}\\rangle{}} \\:=\\: \\lambda{} x_{e} \\: . \\: \\lambda{} y_{e} \\: . \\: {Kick}({y}_{e}, {x}_{e})$"
      ]
     },
     "execution_count": 2,
     "metadata": {},
     "output_type": "execute_result"
    }
   ],
   "source": [
    "%%lamb\n",
    "||Alfonso|| = a_e\n",
    "||Joanna|| = j_e\n",
    "||book|| = L x_e : Book_<e,t>(x)\n",
    "||chair|| = L x_e : Chair_<e,t>(x)\n",
    "||borrowed|| = L x_e : L y_e : Borrow(y,x)\n",
    "||kick|| = L x_e : L y_e : Kick(y,x)\n",
    "||talk to|| = L x_e : L y_e : Talkto(y,x)"
   ]
  },
  {
   "cell_type": "markdown",
   "metadata": {},
   "source": [
    "The following cell defines an entry that you can use for `the`.  Since there are no presuppositions per se in the lambda notebook, this glosses over them, but you can think of the `Iota` operator as itself being presuppositional."
   ]
  },
  {
   "cell_type": "code",
   "execution_count": 3,
   "metadata": {
    "collapsed": false
   },
   "outputs": [
    {
     "data": {
      "text/latex": [
       "${c}_{\\{e\\}}\\:=\\:{c}_{\\{e\\}}$<br />\n",
       "$[\\![\\mathbf{\\text{the}}]\\!]^{}_{\\langle{}\\langle{}e,t\\rangle{},e\\rangle{}} \\:=\\: \\lambda{} f_{\\langle{}e,t\\rangle{}} \\: . \\: \\iota{} x_{e} \\: . \\: ({f}_{\\langle{}e,t\\rangle{}}({x}_{e}) \\wedge{} ({x}_{e} \\in{} {c}_{\\{e\\}}))$"
      ],
      "text/plain": [
       "${c}_{\\{e\\}}\\:=\\:{c}_{\\{e\\}}$<br />\n",
       "$[\\![\\mathbf{\\text{the}}]\\!]^{}_{\\langle{}\\langle{}e,t\\rangle{},e\\rangle{}} \\:=\\: \\lambda{} f_{\\langle{}e,t\\rangle{}} \\: . \\: \\iota{} x_{e} \\: . \\: ({f}_{\\langle{}e,t\\rangle{}}({x}_{e}) \\wedge{} ({x}_{e} \\in{} {c}_{\\{e\\}}))$"
      ]
     },
     "execution_count": 3,
     "metadata": {},
     "output_type": "execute_result"
    }
   ],
   "source": [
    "%%lamb\n",
    "c_{e} = c_{e}\n",
    "||the|| = L f_<e,t> : Iota x_e : (f(x) & x << c)"
   ]
  },
  {
   "cell_type": "markdown",
   "metadata": {},
   "source": [
    "Part [a]: In the following blank cell, calculate using `*` the truth-conditions of:\n",
    "\n",
    "    (4) Alfonso borrowed the book.\n"
   ]
  },
  {
   "cell_type": "code",
   "execution_count": 4,
   "metadata": {
    "collapsed": false
   },
   "outputs": [
    {
     "data": {
      "text/latex": [
       "1 composition path.  Result:\n",
       "<br />&nbsp;&nbsp;&nbsp;&nbsp;[0]: $[\\![\\mathbf{\\text{[[borrowed [the book]] Alfonso]}}]\\!]^{}_{t} \\:=\\: $${Borrow}({a}_{e}, \\iota{} x_{e} \\: . \\: ({Book}({x}_{e}) \\wedge{} ({x}_{e} \\in{} {c}_{\\{e\\}})))$"
      ],
      "text/plain": [
       "CompositionResult(results=[⟦[[borrowed [the book]] Alfonso]⟧ = Borrow_<(e,e),t>(a_e, (ι x_e: (Book_<e,t>(x_e) & (x_e << c_{e}))))], failures=[⟦[Alfonso [borrowed [the book]]]⟧ = Type mismatch: '⟦Alfonso⟧ = a_e'/e and '⟦[borrowed [the book]]⟧ = (λ y_e: Borrow_<(e,e),t>(y_e, (ι x_e: (Book_<e,t>(x_e) & (x_e << c_{e})))))'/<e,t> conflict (mode: Function Application), ⟦[Alfonso [borrowed [the book]]]⟧ = Type mismatch: '⟦Alfonso⟧ = a_e'/e and '⟦[borrowed [the book]]⟧ = (λ y_e: Borrow_<(e,e),t>(y_e, (ι x_e: (Book_<e,t>(x_e) & (x_e << c_{e})))))'/<e,t> conflict (mode: Predicate Modification), ⟦[Alfonso [borrowed [the book]]]⟧ = Type mismatch: '⟦Alfonso⟧ = a_e'/e and '⟦[borrowed [the book]]⟧ = (λ y_e: Borrow_<(e,e),t>(y_e, (ι x_e: (Book_<e,t>(x_e) & (x_e << c_{e})))))'/<e,t> conflict (mode: Predicate Abstraction), ⟦[[borrowed [the book]] Alfonso]⟧ = Type mismatch: '⟦[borrowed [the book]]⟧ = (λ y_e: Borrow_<(e,e),t>(y_e, (ι x_e: (Book_<e,t>(x_e) & (x_e << c_{e})))))'/<e,t> and '⟦Alfonso⟧ = a_e'/e conflict (mode: Predicate Abstraction)])"
      ]
     },
     "execution_count": 4,
     "metadata": {},
     "output_type": "execute_result"
    }
   ],
   "source": [
    "(the * book)\n",
    "(Alfonso * (borrowed * (the*book))) "
   ]
  },
  {
   "cell_type": "markdown",
   "metadata": {},
   "source": [
    "__*KC: part [a] 8/8*__"
   ]
  },
  {
   "cell_type": "markdown",
   "metadata": {},
   "source": [
    "**Part [b]**: In the following cell, write an entry for `mother`, and describe it in the next cell."
   ]
  },
  {
   "cell_type": "code",
   "execution_count": 5,
   "metadata": {
    "collapsed": false
   },
   "outputs": [
    {
     "name": "stderr",
     "output_type": "stream",
     "text": [
      "INFO (meta): Coerced guessed type t for 'Mother_t' into <e,t>, to match argument 'x_e'\n",
      "INFO (meta): Coerced guessed type t for 'R_t' into <(e,e),t>, to match argument '(y_e, x_e)'\n"
     ]
    },
    {
     "data": {
      "text/latex": [
       "$[\\![\\mathbf{\\text{mother}}]\\!]^{}_{\\langle{}e,\\langle{}e,t\\rangle{}\\rangle{}} \\:=\\: \\lambda{} x_{e} \\: . \\: \\lambda{} y_{e} \\: . \\: ({Mother}({x}_{e}) \\wedge{} {R}({y}_{e}, {x}_{e}))$"
      ],
      "text/plain": [
       "$[\\![\\mathbf{\\text{mother}}]\\!]^{}_{\\langle{}e,\\langle{}e,t\\rangle{}\\rangle{}} \\:=\\: \\lambda{} x_{e} \\: . \\: \\lambda{} y_{e} \\: . \\: ({Mother}({x}_{e}) \\wedge{} {R}({y}_{e}, {x}_{e}))$"
      ]
     },
     "execution_count": 5,
     "metadata": {},
     "output_type": "execute_result"
    }
   ],
   "source": [
    "%%lamb\n",
    "||mother|| = L x_e : L y_e : ((Mother(x)) & R(y,x)) "
   ]
  },
  {
   "cell_type": "markdown",
   "metadata": {},
   "source": [
    "**Markdown cell**: please explain your entry for `mother` in prose by editing this cell.\n",
    "\n",
    "The noun, 'mother,' is inherently relational and presupposes a relation to a child or children. In a given sentence with the word, 'mother', x will be mother of y. Therefore, the noun, 'mother', acts more like a transitive verb than a regular type <e,t> noun. When a possessive combines with a relational noun like 'mother', the noun provides the relation. In the phrase,'Joanna's mother', the noun, 'mother', provides the relation that Joanna is the daughter to a mother (y). On the other hand, when a non-relational noun, like 'book', combines with a possessive, the relation must come from other context. In the phrase, 'Joanna's book', the relation could be ownership (common in a 's context), authorship (common context from the word 'book'),  or topic (a book about Joanna). __*KC: or authorship.*__\n",
    "\n",
    "Since the relational noun, 'mother', acts like a transitive and connects an x and y, I made the entry like a typical transitive noun with type <e,<e,t>>. \n",
    "I also included a function R to indicate the inherent relationship between the noun and the other entity in the phrase. __*KC: I don't really see why you need this second relation since that is exacltly what the $Mother$ function is meant to express.*__\n",
    "\n",
    "__*8/8*__"
   ]
  },
  {
   "cell_type": "markdown",
   "metadata": {},
   "source": [
    "**Part [c]** (possessive denotation): In the following cell write an entry for the possessive morpheme.  To handle python naming, call it `POSS` instead of `'s`."
   ]
  },
  {
   "cell_type": "code",
   "execution_count": 6,
   "metadata": {
    "collapsed": false
   },
   "outputs": [
    {
     "name": "stderr",
     "output_type": "stream",
     "text": [
      "INFO (meta): Coerced guessed type t for 'P_t' into <e,t>, to match argument 'x_e'\n",
      "INFO (meta): Coerced guessed type t for 'R_t' into <(e,e),t>, to match argument '(y_e, x_e)'\n",
      "INFO (meta): Coerced guessed type t for 'P_t' into <e,t>, to match argument 'x_e'\n",
      "INFO (meta): Coerced guessed type t for 'R_t' into <(e,e),t>, to match argument '(y_e, x_e)'\n",
      "INFO (meta): Coerced guessed type t for 'Iota_t' into <e,t>, to match argument 'x_e'\n",
      "INFO (meta): Coerced guessed type t for 'P_t' into <e,t>, to match argument 'x_e'\n",
      "INFO (meta): Coerced guessed type t for 'R_t' into <(e,e),t>, to match argument '(y_e, x_e)'\n",
      "INFO (meta): Coerced guessed type t for 'Iota_t' into <e,t>, to match argument 'x_e'\n",
      "INFO (meta): Coerced guessed type t for 'F_t' into <e,t>, to match argument 'y_e'\n",
      "INFO (meta): Coerced guessed type t for 'F_<e,t>(y_e)' into <e,t>, to match argument 'x_e'\n",
      "INFO (meta): Coerced guessed type t for 'P_t' into <e,t>, to match argument 'x_e'\n",
      "INFO (meta): Coerced guessed type t for 'R_t' into <(e,e),t>, to match argument '(y_e, x_e)'\n"
     ]
    },
    {
     "data": {
      "text/latex": [
       "$[\\![\\mathbf{\\text{POSS1}}]\\!]^{}_{\\langle{}\\langle{}e,t\\rangle{},e\\rangle{}} \\:=\\: \\lambda{} p_{\\langle{}e,t\\rangle{}} \\: . \\: \\iota{} x_{e} \\: . \\: ({P}({x}_{e}) \\wedge{} {R}({y}_{e}, {x}_{e}))$<br />\n",
       "$[\\![\\mathbf{\\text{POSS2}}]\\!]^{}_{\\langle{}e,\\langle{}e,t\\rangle{}\\rangle{}} \\:=\\: \\lambda{} x_{e} \\: . \\: \\lambda{} y_{e} \\: . \\: (({P}({x}_{e}) \\wedge{} {R}({y}_{e}, {x}_{e})) \\wedge{} {Iota}({x}_{e}))$<br />\n",
       "$[\\![\\mathbf{\\text{POSS3}}]\\!]^{}_{\\langle{}\\langle{}e,\\langle{}e,t\\rangle{}\\rangle{},\\langle{}e,\\langle{}e,t\\rangle{}\\rangle{}\\rangle{}} \\:=\\: \\lambda{} p_{\\langle{}e,\\langle{}e,t\\rangle{}\\rangle{}} \\: . \\: \\lambda{} x_{e} \\: . \\: \\lambda{} y_{e} \\: . \\: (({P}({x}_{e}) \\wedge{} {R}({y}_{e}, {x}_{e})) \\wedge{} {Iota}({x}_{e}))$<br />\n",
       "$[\\![\\mathbf{\\text{q4}}]\\!]^{}_{\\langle{}\\langle{}e,\\langle{}e,t\\rangle{}\\rangle{},\\langle{}e,\\langle{}e,t\\rangle{}\\rangle{}\\rangle{}} \\:=\\: \\lambda{} f_{\\langle{}e,\\langle{}e,t\\rangle{}\\rangle{}} \\: . \\: \\lambda{} x_{e} \\: . \\: \\lambda{} y_{e} \\: . \\: {F}_{\\langle{}e,\\langle{}e,t\\rangle{}\\rangle{}}({y}_{e})({x}_{e})$<br />\n",
       "$[\\![\\mathbf{\\text{POSS4}}]\\!]^{}_{\\langle{}\\langle{}e,\\langle{}e,t\\rangle{}\\rangle{},\\langle{}e,e\\rangle{}\\rangle{}} \\:=\\: \\lambda{} p_{\\langle{}e,\\langle{}e,t\\rangle{}\\rangle{}} \\: . \\: \\lambda{} g_{e} \\: . \\: \\iota{} x_{e} \\: . \\: ({P}({x}_{e}) \\wedge{} {R}({y}_{e}, {x}_{e}))$"
      ],
      "text/plain": [
       "$[\\![\\mathbf{\\text{POSS1}}]\\!]^{}_{\\langle{}\\langle{}e,t\\rangle{},e\\rangle{}} \\:=\\: \\lambda{} p_{\\langle{}e,t\\rangle{}} \\: . \\: \\iota{} x_{e} \\: . \\: ({P}({x}_{e}) \\wedge{} {R}({y}_{e}, {x}_{e}))$<br />\n",
       "$[\\![\\mathbf{\\text{POSS2}}]\\!]^{}_{\\langle{}e,\\langle{}e,t\\rangle{}\\rangle{}} \\:=\\: \\lambda{} x_{e} \\: . \\: \\lambda{} y_{e} \\: . \\: (({P}({x}_{e}) \\wedge{} {R}({y}_{e}, {x}_{e})) \\wedge{} {Iota}({x}_{e}))$<br />\n",
       "$[\\![\\mathbf{\\text{POSS3}}]\\!]^{}_{\\langle{}\\langle{}e,\\langle{}e,t\\rangle{}\\rangle{},\\langle{}e,\\langle{}e,t\\rangle{}\\rangle{}\\rangle{}} \\:=\\: \\lambda{} p_{\\langle{}e,\\langle{}e,t\\rangle{}\\rangle{}} \\: . \\: \\lambda{} x_{e} \\: . \\: \\lambda{} y_{e} \\: . \\: (({P}({x}_{e}) \\wedge{} {R}({y}_{e}, {x}_{e})) \\wedge{} {Iota}({x}_{e}))$<br />\n",
       "$[\\![\\mathbf{\\text{q4}}]\\!]^{}_{\\langle{}\\langle{}e,\\langle{}e,t\\rangle{}\\rangle{},\\langle{}e,\\langle{}e,t\\rangle{}\\rangle{}\\rangle{}} \\:=\\: \\lambda{} f_{\\langle{}e,\\langle{}e,t\\rangle{}\\rangle{}} \\: . \\: \\lambda{} x_{e} \\: . \\: \\lambda{} y_{e} \\: . \\: {F}_{\\langle{}e,\\langle{}e,t\\rangle{}\\rangle{}}({y}_{e})({x}_{e})$<br />\n",
       "$[\\![\\mathbf{\\text{POSS4}}]\\!]^{}_{\\langle{}\\langle{}e,\\langle{}e,t\\rangle{}\\rangle{},\\langle{}e,e\\rangle{}\\rangle{}} \\:=\\: \\lambda{} p_{\\langle{}e,\\langle{}e,t\\rangle{}\\rangle{}} \\: . \\: \\lambda{} g_{e} \\: . \\: \\iota{} x_{e} \\: . \\: ({P}({x}_{e}) \\wedge{} {R}({y}_{e}, {x}_{e}))$"
      ]
     },
     "execution_count": 6,
     "metadata": {},
     "output_type": "execute_result"
    }
   ],
   "source": [
    "%%lamb\n",
    "||POSS1|| = L p_<e,t> : Iota x_e : (P(x) & R(y,x))\n",
    "||POSS2|| = L x_e : L y_e : (P(x)) & R(y,x) & Iota (x) \n",
    "||POSS3|| = L p_<e,<e,t>> : L x_e : L y_e : (P(x) & R(y,x)) & Iota(x) \n",
    "||q4|| = L f_<e,<e,t>> : L x_e : L y_e : F(y)(x)\n",
    "||POSS4|| = L p_<e,<e,t>> : L g_e : Iota x_e : (P(x) & R(y,x)) \n",
    "            ||POSS4karen|| = L f_<e,<e,t>> : L x_e : Iota y_e : f(x)(y)"
   ]
  },
  {
   "cell_type": "markdown",
   "metadata": {},
   "source": [
    "**Markdown cell**: please explain your entry for `POSS` in prose by editing this cell.\n",
    "\n",
    "\n",
    "This entry takes a function, defines an x as unique entity, for which x is contained in the function P and is in a relation (R) between a constant (like Joanna) and an entity. \n",
    "\n",
    "I added the iota because a possessive construction presupposes uniqueness similar to the determiner, 'the'. 'Joanna's book'presupposes a specific book in mind with some relation between Joanna and the book. \n",
    "\n",
    "POSS1 indicates a possessive construction that bounds a non-inherently relational verb, like book. POSS4 indicates a possessive construction that bounds an inherently relational verb, like mother. \n",
    "\n",
    "__*KC: POSS1 looks good, but POSS4 doesn't work quite right.  It's the right type, but you have a function $g$ that never ends up expressed in the body of the function, so if you see your compositons below (which I modified so that it derives the whole DP as the question asked) it's removed becuase Joanna satruates it, but it never surfaces.  Compare your POSS4 to the modified version I provided above. Every term bound by a lambda (or other operator like Iota) needs to be in your function somewhere otherwise your derivations are just going to drop elements.*__\n",
    "\n",
    "(The other POSS constructions are there just as I was brainstorming. None of those constructions were used later on.) \n",
    "\n",
    "\n",
    "__*KC: 7/9"
   ]
  },
  {
   "cell_type": "markdown",
   "metadata": {},
   "source": [
    "**Part [c]** (explication of why this denotation works): In the following cell, calculate the meaning of the tree in (6) on the midterm using the `*` operator."
   ]
  },
  {
   "cell_type": "code",
   "execution_count": 7,
   "metadata": {
    "collapsed": false
   },
   "outputs": [
    {
     "data": {
      "text/latex": [
       "1 composition path:<br /><table><tr style=\"border:1px solid #848482\"><td style=\"vertical-align:bottom;padding:0px 10px\" align=\"center\"><table><tr><td style=\"vertical-align:bottom;padding:5px\"><table><tr style=\"border:1px solid #848482\"><td style=\"vertical-align:bottom;padding:0px 10px\" align=\"center\"><table><tr><td style=\"vertical-align:bottom;padding:5px\"><div style=\"margin-top:10px;border-style:solid;border-color:#848482;border-width:0px\"><div style=\"vertical-align:bottom;text-align:center\">$[\\![\\mathbf{\\text{POSS4}}]\\!]^{}_{\\langle{}\\langle{}e,\\langle{}e,t\\rangle{}\\rangle{},\\langle{}e,e\\rangle{}\\rangle{}}$</div><div style=\"vertical-align:bottom;text-align:center\">$\\lambda{} p_{\\langle{}e,\\langle{}e,t\\rangle{}\\rangle{}} \\: . \\: \\lambda{} g_{e} \\: . \\: \\iota{} x_{e} \\: . \\: ({P}({x}_{e}) \\wedge{} {R}({y}_{e}, {x}_{e}))$</div></div></td><td style=\"vertical-align:bottom;padding:10px\">$\\circ$</td><td style=\"vertical-align:bottom;padding:5px\"><div style=\"margin-top:10px;border-style:solid;border-color:#848482;border-width:0px\"><div style=\"vertical-align:bottom;text-align:center\">$[\\![\\mathbf{\\text{mother}}]\\!]^{}_{\\langle{}e,\\langle{}e,t\\rangle{}\\rangle{}}$</div><div style=\"vertical-align:bottom;text-align:center\">$\\lambda{} x_{e} \\: . \\: \\lambda{} y_{e} \\: . \\: ({Mother}({x}_{e}) \\wedge{} {R}({y}_{e}, {x}_{e}))$</div></div></td></tr></table></td><td style=\"border-left:1px solid #848482;vertical-align:center;padding:10px\"><span style=\"color:blue\"><b>[FA]</b></span></td></tr><tr style=\"border-style:solid;border-color:#848482;border-width:0px 1px 1px 1px\"><td style=\"padding:5px\" align=\"center\"><div style=\"margin-top:10px;border-style:solid;border-color:#848482;border-width:0px\"><div style=\"vertical-align:bottom;text-align:center\">$[\\![\\mathbf{\\text{[POSS4 mother]}}]\\!]^{}_{\\langle{}e,e\\rangle{}}$</div><div style=\"vertical-align:bottom;text-align:center\">$\\lambda{} g_{e} \\: . \\: \\iota{} x_{e} \\: . \\: ({P}({x}_{e}) \\wedge{} {R}({y}_{e}, {x}_{e}))$</div></div></td><td></td></tr></table></td><td style=\"vertical-align:bottom;padding:10px\">$\\circ$</td><td style=\"vertical-align:bottom;padding:5px\"><div style=\"margin-top:10px;border-style:solid;border-color:#848482;border-width:0px\"><div style=\"vertical-align:bottom;text-align:center\">$[\\![\\mathbf{\\text{Joanna}}]\\!]^{}_{e}$</div><div style=\"vertical-align:bottom;text-align:center\">${j}_{e}$</div></div></td></tr></table></td><td style=\"border-left:1px solid #848482;vertical-align:center;padding:10px\"><span style=\"color:blue\"><b>[FA]</b></span></td></tr><tr style=\"border-style:solid;border-color:#848482;border-width:0px 1px 1px 1px\"><td style=\"padding:5px\" align=\"center\"><div style=\"margin-top:10px;border-style:solid;border-color:#848482;border-width:0px\"><div style=\"vertical-align:bottom;text-align:center\">$[\\![\\mathbf{\\text{[[POSS4 mother] Joanna]}}]\\!]^{}_{e}$</div><div style=\"vertical-align:bottom;text-align:center\">$\\iota{} x_{e} \\: . \\: ({P}({x}_{e}) \\wedge{} {R}({y}_{e}, {x}_{e}))$</div></div></td><td></td></tr></table><br /><br />"
      ],
      "text/plain": [
       "1 composition path:<br /><table><tr style=\"border:1px solid #848482\"><td style=\"vertical-align:bottom;padding:0px 10px\" align=\"center\"><table><tr><td style=\"vertical-align:bottom;padding:5px\"><table><tr style=\"border:1px solid #848482\"><td style=\"vertical-align:bottom;padding:0px 10px\" align=\"center\"><table><tr><td style=\"vertical-align:bottom;padding:5px\"><div style=\"margin-top:10px;border-style:solid;border-color:#848482;border-width:0px\"><div style=\"vertical-align:bottom;text-align:center\">$[\\![\\mathbf{\\text{POSS4}}]\\!]^{}_{\\langle{}\\langle{}e,\\langle{}e,t\\rangle{}\\rangle{},\\langle{}e,e\\rangle{}\\rangle{}}$</div><div style=\"vertical-align:bottom;text-align:center\">$\\lambda{} p_{\\langle{}e,\\langle{}e,t\\rangle{}\\rangle{}} \\: . \\: \\lambda{} g_{e} \\: . \\: \\iota{} x_{e} \\: . \\: ({P}({x}_{e}) \\wedge{} {R}({y}_{e}, {x}_{e}))$</div></div></td><td style=\"vertical-align:bottom;padding:10px\">$\\circ$</td><td style=\"vertical-align:bottom;padding:5px\"><div style=\"margin-top:10px;border-style:solid;border-color:#848482;border-width:0px\"><div style=\"vertical-align:bottom;text-align:center\">$[\\![\\mathbf{\\text{mother}}]\\!]^{}_{\\langle{}e,\\langle{}e,t\\rangle{}\\rangle{}}$</div><div style=\"vertical-align:bottom;text-align:center\">$\\lambda{} x_{e} \\: . \\: \\lambda{} y_{e} \\: . \\: ({Mother}({x}_{e}) \\wedge{} {R}({y}_{e}, {x}_{e}))$</div></div></td></tr></table></td><td style=\"border-left:1px solid #848482;vertical-align:center;padding:10px\"><span style=\"color:blue\"><b>[FA]</b></span></td></tr><tr style=\"border-style:solid;border-color:#848482;border-width:0px 1px 1px 1px\"><td style=\"padding:5px\" align=\"center\"><div style=\"margin-top:10px;border-style:solid;border-color:#848482;border-width:0px\"><div style=\"vertical-align:bottom;text-align:center\">$[\\![\\mathbf{\\text{[POSS4 mother]}}]\\!]^{}_{\\langle{}e,e\\rangle{}}$</div><div style=\"vertical-align:bottom;text-align:center\">$\\lambda{} g_{e} \\: . \\: \\iota{} x_{e} \\: . \\: ({P}({x}_{e}) \\wedge{} {R}({y}_{e}, {x}_{e}))$</div></div></td><td></td></tr></table></td><td style=\"vertical-align:bottom;padding:10px\">$\\circ$</td><td style=\"vertical-align:bottom;padding:5px\"><div style=\"margin-top:10px;border-style:solid;border-color:#848482;border-width:0px\"><div style=\"vertical-align:bottom;text-align:center\">$[\\![\\mathbf{\\text{Joanna}}]\\!]^{}_{e}$</div><div style=\"vertical-align:bottom;text-align:center\">${j}_{e}$</div></div></td></tr></table></td><td style=\"border-left:1px solid #848482;vertical-align:center;padding:10px\"><span style=\"color:blue\"><b>[FA]</b></span></td></tr><tr style=\"border-style:solid;border-color:#848482;border-width:0px 1px 1px 1px\"><td style=\"padding:5px\" align=\"center\"><div style=\"margin-top:10px;border-style:solid;border-color:#848482;border-width:0px\"><div style=\"vertical-align:bottom;text-align:center\">$[\\![\\mathbf{\\text{[[POSS4 mother] Joanna]}}]\\!]^{}_{e}$</div><div style=\"vertical-align:bottom;text-align:center\">$\\iota{} x_{e} \\: . \\: ({P}({x}_{e}) \\wedge{} {R}({y}_{e}, {x}_{e}))$</div></div></td><td></td></tr></table><br /><br />"
      ]
     },
     "execution_count": 7,
     "metadata": {},
     "output_type": "execute_result"
    }
   ],
   "source": [
    "(Joanna*((POSS4*mother) )).tree()"
   ]
  },
  {
   "cell_type": "markdown",
   "metadata": {},
   "source": [
    "**Part [d]** (grads, ugrad extra credit).  In the following cell(s) answer the question on the midterm.  You may insert as many new cells as you need, and use markdown cells to write any prose."
   ]
  },
  {
   "cell_type": "code",
   "execution_count": null,
   "metadata": {
    "collapsed": true
   },
   "outputs": [],
   "source": []
  },
  {
   "cell_type": "markdown",
   "metadata": {},
   "source": [
    "**Part [e]** In the following cells, calculate the denotation of `A doctor met Joanna's mother`.  You will need to fill out the lexicon with a few more items, and then do the composition."
   ]
  },
  {
   "cell_type": "code",
   "execution_count": 8,
   "metadata": {
    "collapsed": false
   },
   "outputs": [
    {
     "name": "stderr",
     "output_type": "stream",
     "text": [
      "INFO (meta): Coerced guessed type t for 'Met_t' into <(e,e),t>, to match argument '(y_e, x_e)'\n"
     ]
    },
    {
     "name": "stdout",
     "output_type": "stream",
     "text": [
      "Don't know what to do with '# rest of lexicon here'\n"
     ]
    },
    {
     "data": {
      "text/latex": [
       "$[\\![\\mathbf{\\text{doctor}}]\\!]^{}_{\\langle{}e,t\\rangle{}} \\:=\\: \\lambda{} x_{e} \\: . \\: {Doctor}({x}_{e})$<br />\n",
       "$[\\![\\mathbf{\\text{a}}]\\!]^{}_{\\langle{}\\langle{}e,t\\rangle{},\\langle{}e,t\\rangle{}\\rangle{}} \\:=\\: \\lambda{} f_{\\langle{}e,t\\rangle{}} \\: . \\: {f}_{\\langle{}e,t\\rangle{}}$<br />\n",
       "$[\\![\\mathbf{\\text{met}}]\\!]^{}_{\\langle{}e,\\langle{}e,t\\rangle{}\\rangle{}} \\:=\\: \\lambda{} x_{e} \\: . \\: \\lambda{} y_{e} \\: . \\: {Met}({y}_{e}, {x}_{e})$"
      ],
      "text/plain": [
       "$[\\![\\mathbf{\\text{doctor}}]\\!]^{}_{\\langle{}e,t\\rangle{}} \\:=\\: \\lambda{} x_{e} \\: . \\: {Doctor}({x}_{e})$<br />\n",
       "$[\\![\\mathbf{\\text{a}}]\\!]^{}_{\\langle{}\\langle{}e,t\\rangle{},\\langle{}e,t\\rangle{}\\rangle{}} \\:=\\: \\lambda{} f_{\\langle{}e,t\\rangle{}} \\: . \\: {f}_{\\langle{}e,t\\rangle{}}$<br />\n",
       "$[\\![\\mathbf{\\text{met}}]\\!]^{}_{\\langle{}e,\\langle{}e,t\\rangle{}\\rangle{}} \\:=\\: \\lambda{} x_{e} \\: . \\: \\lambda{} y_{e} \\: . \\: {Met}({y}_{e}, {x}_{e})$"
      ]
     },
     "execution_count": 8,
     "metadata": {},
     "output_type": "execute_result"
    }
   ],
   "source": [
    "%%lamb # rest of lexicon here\n",
    "||doctor|| = L x_e : Doctor_<e,t>(x)\n",
    "||a|| = L f_<e,t> : f #KC: this is not the denotation that we developed in class, this is the simplified version that \n",
    "    # we assumed for PS1, but that's no longer sufficient\n",
    "||met|| = L x_e : L y_e : Met(y,x)"
   ]
  },
  {
   "cell_type": "code",
   "execution_count": 9,
   "metadata": {
    "collapsed": true
   },
   "outputs": [],
   "source": [
    "# composition here"
   ]
  },
  {
   "cell_type": "code",
   "execution_count": 10,
   "metadata": {
    "collapsed": false
   },
   "outputs": [
    {
     "data": {
      "text/latex": [
       "1 composition path.  Result:\n",
       "<br />&nbsp;&nbsp;&nbsp;&nbsp;[0]: $[\\![\\mathbf{\\text{[[POSS4 mother] Joanna]}}]\\!]^{}_{e} \\:=\\: $$\\iota{} x_{e} \\: . \\: ({P}({x}_{e}) \\wedge{} {R}({y}_{e}, {x}_{e}))$"
      ],
      "text/plain": [
       "CompositionResult(results=[⟦[[POSS4 mother] Joanna]⟧ = (ι x_e: (P_<e,t>(x_e) & R_<(e,e),t>(y_e, x_e)))], failures=[⟦[Joanna [POSS4 mother]]⟧ = Type mismatch: '⟦Joanna⟧ = j_e'/e and '⟦[POSS4 mother]⟧ = (λ g_e: (ι x_e: (P_<e,t>(x_e) & R_<(e,e),t>(y_e, x_e))))'/<e,e> conflict (mode: Function Application), ⟦[Joanna [POSS4 mother]]⟧ = Type mismatch: '⟦Joanna⟧ = j_e'/e and '⟦[POSS4 mother]⟧ = (λ g_e: (ι x_e: (P_<e,t>(x_e) & R_<(e,e),t>(y_e, x_e))))'/<e,e> conflict (mode: Predicate Modification), ⟦[Joanna [POSS4 mother]]⟧ = Type mismatch: '⟦Joanna⟧ = j_e'/e and '⟦[POSS4 mother]⟧ = (λ g_e: (ι x_e: (P_<e,t>(x_e) & R_<(e,e),t>(y_e, x_e))))'/<e,e> conflict (mode: Predicate Abstraction), ⟦[[POSS4 mother] Joanna]⟧ = Type mismatch: '⟦[POSS4 mother]⟧ = (λ g_e: (ι x_e: (P_<e,t>(x_e) & R_<(e,e),t>(y_e, x_e))))'/<e,e> and '⟦Joanna⟧ = j_e'/e conflict (mode: Predicate Abstraction)])"
      ]
     },
     "execution_count": 10,
     "metadata": {},
     "output_type": "execute_result"
    }
   ],
   "source": [
    "(Joanna * (POSS4*mother)) "
   ]
  },
  {
   "cell_type": "code",
   "execution_count": 11,
   "metadata": {
    "collapsed": false
   },
   "outputs": [
    {
     "data": {
      "text/latex": [
       "1 composition path.  Result:\n",
       "<br />&nbsp;&nbsp;&nbsp;&nbsp;[0]: $[\\![\\mathbf{\\text{[met [[POSS4 mother] Joanna]]}}]\\!]^{}_{\\langle{}e,t\\rangle{}} \\:=\\: $$\\lambda{} y1_{e} \\: . \\: {Met}({y1}_{e}, \\iota{} x_{e} \\: . \\: ({P}({x}_{e}) \\wedge{} {R}({y}_{e}, {x}_{e})))$"
      ],
      "text/plain": [
       "CompositionResult(results=[⟦[met [[POSS4 mother] Joanna]]⟧ = (λ y1_e: Met_<(e,e),t>(y1_e, (ι x_e: (P_<e,t>(x_e) & R_<(e,e),t>(y_e, x_e)))))], failures=[⟦[[[POSS4 mother] Joanna] met]⟧ = Type mismatch: '⟦[[POSS4 mother] Joanna]⟧ = (ι x_e: (P_<e,t>(x_e) & R_<(e,e),t>(y_e, x_e)))'/e and '⟦met⟧ = (λ x_e: (λ y_e: Met_<(e,e),t>(y_e, x_e)))'/<e,<e,t>> conflict (mode: Function Application), ⟦[met [[POSS4 mother] Joanna]]⟧ = Type mismatch: '⟦met⟧ = (λ x_e: (λ y_e: Met_<(e,e),t>(y_e, x_e)))'/<e,<e,t>> and '⟦[[POSS4 mother] Joanna]⟧ = (ι x_e: (P_<e,t>(x_e) & R_<(e,e),t>(y_e, x_e)))'/e conflict (mode: Predicate Modification), ⟦[met [[POSS4 mother] Joanna]]⟧ = Type mismatch: '⟦met⟧ = (λ x_e: (λ y_e: Met_<(e,e),t>(y_e, x_e)))'/<e,<e,t>> and '⟦[[POSS4 mother] Joanna]⟧ = (ι x_e: (P_<e,t>(x_e) & R_<(e,e),t>(y_e, x_e)))'/e conflict (mode: Predicate Abstraction), ⟦[[[POSS4 mother] Joanna] met]⟧ = Type mismatch: '⟦[[POSS4 mother] Joanna]⟧ = (ι x_e: (P_<e,t>(x_e) & R_<(e,e),t>(y_e, x_e)))'/e and '⟦met⟧ = (λ x_e: (λ y_e: Met_<(e,e),t>(y_e, x_e)))'/<e,<e,t>> conflict (mode: Predicate Abstraction)])"
      ]
     },
     "execution_count": 11,
     "metadata": {},
     "output_type": "execute_result"
    }
   ],
   "source": [
    "(met * (Joanna * (POSS4*mother)))"
   ]
  },
  {
   "cell_type": "code",
   "execution_count": 12,
   "metadata": {
    "collapsed": false
   },
   "outputs": [
    {
     "data": {
      "text/latex": [
       "1 composition path.  Result:\n",
       "<br />&nbsp;&nbsp;&nbsp;&nbsp;[0]: $[\\![\\mathbf{\\text{[a [doctor [met [[POSS4 mother] Joanna]]]]}}]\\!]^{}_{\\langle{}e,t\\rangle{}} \\:=\\: $$\\lambda{} x_{e} \\: . \\: ({Doctor}({x}_{e}) \\wedge{} {Met}({x}_{e}, \\iota{} x1_{e} \\: . \\: ({P}({x1}_{e}) \\wedge{} {R}({y}_{e}, {x1}_{e}))))$"
      ],
      "text/plain": [
       "CompositionResult(results=[⟦[a [doctor [met [[POSS4 mother] Joanna]]]]⟧ = (λ x_e: (Doctor_<e,t>(x_e) & Met_<(e,e),t>(x_e, (ι x1_e: (P_<e,t>(x1_e) & R_<(e,e),t>(y_e, x1_e))))))], failures=[⟦[[doctor [met [[POSS4 mother] Joanna]]] a]⟧ = Type mismatch: '⟦[doctor [met [[POSS4 mother] Joanna]]]⟧ = (λ x_e: (Doctor_<e,t>(x_e) & Met_<(e,e),t>(x_e, (ι x1_e: (P_<e,t>(x1_e) & R_<(e,e),t>(y_e, x1_e))))))'/<e,t> and '⟦a⟧ = (λ f_<e,t>: f_<e,t>)'/<<e,t>,<e,t>> conflict (mode: Function Application), ⟦[a [doctor [met [[POSS4 mother] Joanna]]]]⟧ = Type mismatch: '⟦a⟧ = (λ f_<e,t>: f_<e,t>)'/<<e,t>,<e,t>> and '⟦[doctor [met [[POSS4 mother] Joanna]]]⟧ = (λ x_e: (Doctor_<e,t>(x_e) & Met_<(e,e),t>(x_e, (ι x1_e: (P_<e,t>(x1_e) & R_<(e,e),t>(y_e, x1_e))))))'/<e,t> conflict (mode: Predicate Modification), ⟦[a [doctor [met [[POSS4 mother] Joanna]]]]⟧ = Type mismatch: '⟦a⟧ = (λ f_<e,t>: f_<e,t>)'/<<e,t>,<e,t>> and '⟦[doctor [met [[POSS4 mother] Joanna]]]⟧ = (λ x_e: (Doctor_<e,t>(x_e) & Met_<(e,e),t>(x_e, (ι x1_e: (P_<e,t>(x1_e) & R_<(e,e),t>(y_e, x1_e))))))'/<e,t> conflict (mode: Predicate Abstraction), ⟦[[doctor [met [[POSS4 mother] Joanna]]] a]⟧ = Type mismatch: '⟦[doctor [met [[POSS4 mother] Joanna]]]⟧ = (λ x_e: (Doctor_<e,t>(x_e) & Met_<(e,e),t>(x_e, (ι x1_e: (P_<e,t>(x1_e) & R_<(e,e),t>(y_e, x1_e))))))'/<e,t> and '⟦a⟧ = (λ f_<e,t>: f_<e,t>)'/<<e,t>,<e,t>> conflict (mode: Predicate Abstraction)])"
      ]
     },
     "execution_count": 12,
     "metadata": {},
     "output_type": "execute_result"
    }
   ],
   "source": [
    "(a * (doctor * (met * (Joanna * (POSS4*mother))))) "
   ]
  },
  {
   "cell_type": "markdown",
   "metadata": {},
   "source": [
    "__*KC: 7/8*__"
   ]
  },
  {
   "cell_type": "markdown",
   "metadata": {},
   "source": [
    "## 3. Expressive adjectives\n",
    "\n",
    "If you like, you can do some or all of this problem in the lambda notebook; I won't provide a template though."
   ]
  },
  {
   "cell_type": "code",
   "execution_count": 13,
   "metadata": {
    "collapsed": false
   },
   "outputs": [
    {
     "name": "stderr",
     "output_type": "stream",
     "text": [
      "INFO (meta): Coerced guessed type t for 'Ate_t' into <(e,e),t>, to match argument '(y_e, x_e)'\n"
     ]
    },
    {
     "data": {
      "text/latex": [
       "$[\\![\\mathbf{\\text{dog}}]\\!]^{}_{\\langle{}e,t\\rangle{}} \\:=\\: \\lambda{} x_{e} \\: . \\: {Dog}({x}_{e})$<br />\n",
       "$[\\![\\mathbf{\\text{cake}}]\\!]^{}_{\\langle{}e,t\\rangle{}} \\:=\\: \\lambda{} x_{e} \\: . \\: {Cake}({x}_{e})$<br />\n",
       "$[\\![\\mathbf{\\text{ate}}]\\!]^{}_{\\langle{}e,\\langle{}e,t\\rangle{}\\rangle{}} \\:=\\: \\lambda{} x_{e} \\: . \\: \\lambda{} y_{e} \\: . \\: {Ate}({y}_{e}, {x}_{e})$<br />\n",
       "$[\\![\\mathbf{\\text{damn}}]\\!]^{}_{\\langle{}\\langle{}e,t\\rangle{},\\langle{}e,t\\rangle{}\\rangle{}} \\:=\\: \\lambda{} f_{\\langle{}e,t\\rangle{}} \\: . \\: {f}_{\\langle{}e,t\\rangle{}}$"
      ],
      "text/plain": [
       "$[\\![\\mathbf{\\text{dog}}]\\!]^{}_{\\langle{}e,t\\rangle{}} \\:=\\: \\lambda{} x_{e} \\: . \\: {Dog}({x}_{e})$<br />\n",
       "$[\\![\\mathbf{\\text{cake}}]\\!]^{}_{\\langle{}e,t\\rangle{}} \\:=\\: \\lambda{} x_{e} \\: . \\: {Cake}({x}_{e})$<br />\n",
       "$[\\![\\mathbf{\\text{ate}}]\\!]^{}_{\\langle{}e,\\langle{}e,t\\rangle{}\\rangle{}} \\:=\\: \\lambda{} x_{e} \\: . \\: \\lambda{} y_{e} \\: . \\: {Ate}({y}_{e}, {x}_{e})$<br />\n",
       "$[\\![\\mathbf{\\text{damn}}]\\!]^{}_{\\langle{}\\langle{}e,t\\rangle{},\\langle{}e,t\\rangle{}\\rangle{}} \\:=\\: \\lambda{} f_{\\langle{}e,t\\rangle{}} \\: . \\: {f}_{\\langle{}e,t\\rangle{}}$"
      ]
     },
     "execution_count": 13,
     "metadata": {},
     "output_type": "execute_result"
    }
   ],
   "source": [
    "%%lamb\n",
    "||dog|| = L x_e : Dog_<e,t>(x)\n",
    "||cake|| = L x_e : Cake_<e,t>(x) \n",
    "||ate|| = L x_e : L y_e : Ate(y,x)\n",
    "||damn|| = L f_<e,t> : f"
   ]
  },
  {
   "cell_type": "code",
   "execution_count": 14,
   "metadata": {
    "collapsed": false
   },
   "outputs": [
    {
     "data": {
      "text/latex": [
       "1 composition path.  Result:\n",
       "<br />&nbsp;&nbsp;&nbsp;&nbsp;[0]: $[\\![\\mathbf{\\text{[the cake]}}]\\!]^{}_{e} \\:=\\: $$\\iota{} x_{e} \\: . \\: ({Cake}({x}_{e}) \\wedge{} ({x}_{e} \\in{} {c}_{\\{e\\}}))$"
      ],
      "text/plain": [
       "CompositionResult(results=[⟦[the cake]⟧ = (ι x_e: (Cake_<e,t>(x_e) & (x_e << c_{e})))], failures=[⟦[cake the]⟧ = Type mismatch: '⟦cake⟧ = (λ x_e: Cake_<e,t>(x_e))'/<e,t> and '⟦the⟧ = (λ f_<e,t>: (ι x_e: (f_<e,t>(x_e) & (x_e << c_{e}))))'/<<e,t>,e> conflict (mode: Function Application), ⟦[the cake]⟧ = Type mismatch: '⟦the⟧ = (λ f_<e,t>: (ι x_e: (f_<e,t>(x_e) & (x_e << c_{e}))))'/<<e,t>,e> and '⟦cake⟧ = (λ x_e: Cake_<e,t>(x_e))'/<e,t> conflict (mode: Predicate Modification), ⟦[the cake]⟧ = Type mismatch: '⟦the⟧ = (λ f_<e,t>: (ι x_e: (f_<e,t>(x_e) & (x_e << c_{e}))))'/<<e,t>,e> and '⟦cake⟧ = (λ x_e: Cake_<e,t>(x_e))'/<e,t> conflict (mode: Predicate Abstraction), ⟦[cake the]⟧ = Type mismatch: '⟦cake⟧ = (λ x_e: Cake_<e,t>(x_e))'/<e,t> and '⟦the⟧ = (λ f_<e,t>: (ι x_e: (f_<e,t>(x_e) & (x_e << c_{e}))))'/<<e,t>,e> conflict (mode: Predicate Abstraction)])"
      ]
     },
     "execution_count": 14,
     "metadata": {},
     "output_type": "execute_result"
    }
   ],
   "source": [
    "(the*cake) "
   ]
  },
  {
   "cell_type": "code",
   "execution_count": 15,
   "metadata": {
    "collapsed": false
   },
   "outputs": [
    {
     "data": {
      "text/latex": [
       "1 composition path.  Result:\n",
       "<br />&nbsp;&nbsp;&nbsp;&nbsp;[0]: $[\\![\\mathbf{\\text{[the dog]}}]\\!]^{}_{e} \\:=\\: $$\\iota{} x_{e} \\: . \\: ({Dog}({x}_{e}) \\wedge{} ({x}_{e} \\in{} {c}_{\\{e\\}}))$"
      ],
      "text/plain": [
       "CompositionResult(results=[⟦[the dog]⟧ = (ι x_e: (Dog_<e,t>(x_e) & (x_e << c_{e})))], failures=[⟦[dog the]⟧ = Type mismatch: '⟦dog⟧ = (λ x_e: Dog_<e,t>(x_e))'/<e,t> and '⟦the⟧ = (λ f_<e,t>: (ι x_e: (f_<e,t>(x_e) & (x_e << c_{e}))))'/<<e,t>,e> conflict (mode: Function Application), ⟦[the dog]⟧ = Type mismatch: '⟦the⟧ = (λ f_<e,t>: (ι x_e: (f_<e,t>(x_e) & (x_e << c_{e}))))'/<<e,t>,e> and '⟦dog⟧ = (λ x_e: Dog_<e,t>(x_e))'/<e,t> conflict (mode: Predicate Modification), ⟦[the dog]⟧ = Type mismatch: '⟦the⟧ = (λ f_<e,t>: (ι x_e: (f_<e,t>(x_e) & (x_e << c_{e}))))'/<<e,t>,e> and '⟦dog⟧ = (λ x_e: Dog_<e,t>(x_e))'/<e,t> conflict (mode: Predicate Abstraction), ⟦[dog the]⟧ = Type mismatch: '⟦dog⟧ = (λ x_e: Dog_<e,t>(x_e))'/<e,t> and '⟦the⟧ = (λ f_<e,t>: (ι x_e: (f_<e,t>(x_e) & (x_e << c_{e}))))'/<<e,t>,e> conflict (mode: Predicate Abstraction)])"
      ]
     },
     "execution_count": 15,
     "metadata": {},
     "output_type": "execute_result"
    }
   ],
   "source": [
    "(the*dog) "
   ]
  },
  {
   "cell_type": "code",
   "execution_count": 16,
   "metadata": {
    "collapsed": false
   },
   "outputs": [
    {
     "data": {
      "text/latex": [
       "1 composition path.  Result:\n",
       "<br />&nbsp;&nbsp;&nbsp;&nbsp;[0]: $[\\![\\mathbf{\\text{[[ate [the cake]] [the dog]]}}]\\!]^{}_{t} \\:=\\: $${Ate}(\\iota{} x_{e} \\: . \\: ({Dog}({x}_{e}) \\wedge{} ({x}_{e} \\in{} {c}_{\\{e\\}})), \\iota{} x_{e} \\: . \\: ({Cake}({x}_{e}) \\wedge{} ({x}_{e} \\in{} {c}_{\\{e\\}})))$"
      ],
      "text/plain": [
       "CompositionResult(results=[⟦[[ate [the cake]] [the dog]]⟧ = Ate_<(e,e),t>((ι x_e: (Dog_<e,t>(x_e) & (x_e << c_{e}))), (ι x_e: (Cake_<e,t>(x_e) & (x_e << c_{e}))))], failures=[⟦[[the dog] [ate [the cake]]]⟧ = Type mismatch: '⟦[the dog]⟧ = (ι x_e: (Dog_<e,t>(x_e) & (x_e << c_{e})))'/e and '⟦[ate [the cake]]⟧ = (λ y_e: Ate_<(e,e),t>(y_e, (ι x_e: (Cake_<e,t>(x_e) & (x_e << c_{e})))))'/<e,t> conflict (mode: Function Application), ⟦[[the dog] [ate [the cake]]]⟧ = Type mismatch: '⟦[the dog]⟧ = (ι x_e: (Dog_<e,t>(x_e) & (x_e << c_{e})))'/e and '⟦[ate [the cake]]⟧ = (λ y_e: Ate_<(e,e),t>(y_e, (ι x_e: (Cake_<e,t>(x_e) & (x_e << c_{e})))))'/<e,t> conflict (mode: Predicate Modification), ⟦[[the dog] [ate [the cake]]]⟧ = Type mismatch: '⟦[the dog]⟧ = (ι x_e: (Dog_<e,t>(x_e) & (x_e << c_{e})))'/e and '⟦[ate [the cake]]⟧ = (λ y_e: Ate_<(e,e),t>(y_e, (ι x_e: (Cake_<e,t>(x_e) & (x_e << c_{e})))))'/<e,t> conflict (mode: Predicate Abstraction), ⟦[[ate [the cake]] [the dog]]⟧ = Type mismatch: '⟦[ate [the cake]]⟧ = (λ y_e: Ate_<(e,e),t>(y_e, (ι x_e: (Cake_<e,t>(x_e) & (x_e << c_{e})))))'/<e,t> and '⟦[the dog]⟧ = (ι x_e: (Dog_<e,t>(x_e) & (x_e << c_{e})))'/e conflict (mode: Predicate Abstraction)])"
      ]
     },
     "execution_count": 16,
     "metadata": {},
     "output_type": "execute_result"
    }
   ],
   "source": [
    "((the*dog) * (ate * (the*cake)))"
   ]
  },
  {
   "cell_type": "code",
   "execution_count": 17,
   "metadata": {
    "collapsed": false
   },
   "outputs": [
    {
     "data": {
      "text/latex": [
       "1 composition path.  Result:\n",
       "<br />&nbsp;&nbsp;&nbsp;&nbsp;[0]: $[\\![\\mathbf{\\text{[[ate [the cake]] [the [damn dog]]]}}]\\!]^{}_{t} \\:=\\: $${Ate}(\\iota{} x_{e} \\: . \\: ({Dog}({x}_{e}) \\wedge{} ({x}_{e} \\in{} {c}_{\\{e\\}})), \\iota{} x_{e} \\: . \\: ({Cake}({x}_{e}) \\wedge{} ({x}_{e} \\in{} {c}_{\\{e\\}})))$"
      ],
      "text/plain": [
       "CompositionResult(results=[⟦[[ate [the cake]] [the [damn dog]]]⟧ = Ate_<(e,e),t>((ι x_e: (Dog_<e,t>(x_e) & (x_e << c_{e}))), (ι x_e: (Cake_<e,t>(x_e) & (x_e << c_{e}))))], failures=[⟦[[the [damn dog]] [ate [the cake]]]⟧ = Type mismatch: '⟦[the [damn dog]]⟧ = (ι x_e: (Dog_<e,t>(x_e) & (x_e << c_{e})))'/e and '⟦[ate [the cake]]⟧ = (λ y_e: Ate_<(e,e),t>(y_e, (ι x_e: (Cake_<e,t>(x_e) & (x_e << c_{e})))))'/<e,t> conflict (mode: Function Application), ⟦[[the [damn dog]] [ate [the cake]]]⟧ = Type mismatch: '⟦[the [damn dog]]⟧ = (ι x_e: (Dog_<e,t>(x_e) & (x_e << c_{e})))'/e and '⟦[ate [the cake]]⟧ = (λ y_e: Ate_<(e,e),t>(y_e, (ι x_e: (Cake_<e,t>(x_e) & (x_e << c_{e})))))'/<e,t> conflict (mode: Predicate Modification), ⟦[[the [damn dog]] [ate [the cake]]]⟧ = Type mismatch: '⟦[the [damn dog]]⟧ = (ι x_e: (Dog_<e,t>(x_e) & (x_e << c_{e})))'/e and '⟦[ate [the cake]]⟧ = (λ y_e: Ate_<(e,e),t>(y_e, (ι x_e: (Cake_<e,t>(x_e) & (x_e << c_{e})))))'/<e,t> conflict (mode: Predicate Abstraction), ⟦[[ate [the cake]] [the [damn dog]]]⟧ = Type mismatch: '⟦[ate [the cake]]⟧ = (λ y_e: Ate_<(e,e),t>(y_e, (ι x_e: (Cake_<e,t>(x_e) & (x_e << c_{e})))))'/<e,t> and '⟦[the [damn dog]]⟧ = (ι x_e: (Dog_<e,t>(x_e) & (x_e << c_{e})))'/e conflict (mode: Predicate Abstraction)])"
      ]
     },
     "execution_count": 17,
     "metadata": {},
     "output_type": "execute_result"
    }
   ],
   "source": [
    "((the * (damn*dog) * (ate * (the*cake))))"
   ]
  },
  {
   "cell_type": "code",
   "execution_count": 18,
   "metadata": {
    "collapsed": false
   },
   "outputs": [
    {
     "data": {
      "text/latex": [
       "$[\\![\\mathbf{\\text{computer}}]\\!]^{}_{\\langle{}e,t\\rangle{}} \\:=\\: \\lambda{} x_{e} \\: . \\: {Computer}({x}_{e})$"
      ],
      "text/plain": [
       "$[\\![\\mathbf{\\text{computer}}]\\!]^{}_{\\langle{}e,t\\rangle{}} \\:=\\: \\lambda{} x_{e} \\: . \\: {Computer}({x}_{e})$"
      ]
     },
     "execution_count": 18,
     "metadata": {},
     "output_type": "execute_result"
    }
   ],
   "source": [
    "%%lamb\n",
    "||computer|| = L x_e : Computer_<e,t>(x) "
   ]
  },
  {
   "cell_type": "code",
   "execution_count": 19,
   "metadata": {
    "collapsed": false
   },
   "outputs": [
    {
     "data": {
      "text/latex": [
       "1 composition path.  Result:\n",
       "<br />&nbsp;&nbsp;&nbsp;&nbsp;[0]: $[\\![\\mathbf{\\text{[the [damn computer]]}}]\\!]^{}_{e} \\:=\\: $$\\iota{} x_{e} \\: . \\: ({Computer}({x}_{e}) \\wedge{} ({x}_{e} \\in{} {c}_{\\{e\\}}))$"
      ],
      "text/plain": [
       "CompositionResult(results=[⟦[the [damn computer]]⟧ = (ι x_e: (Computer_<e,t>(x_e) & (x_e << c_{e})))], failures=[⟦[[damn computer] the]⟧ = Type mismatch: '⟦[damn computer]⟧ = (λ x_e: Computer_<e,t>(x_e))'/<e,t> and '⟦the⟧ = (λ f_<e,t>: (ι x_e: (f_<e,t>(x_e) & (x_e << c_{e}))))'/<<e,t>,e> conflict (mode: Function Application), ⟦[the [damn computer]]⟧ = Type mismatch: '⟦the⟧ = (λ f_<e,t>: (ι x_e: (f_<e,t>(x_e) & (x_e << c_{e}))))'/<<e,t>,e> and '⟦[damn computer]⟧ = (λ x_e: Computer_<e,t>(x_e))'/<e,t> conflict (mode: Predicate Modification), ⟦[the [damn computer]]⟧ = Type mismatch: '⟦the⟧ = (λ f_<e,t>: (ι x_e: (f_<e,t>(x_e) & (x_e << c_{e}))))'/<<e,t>,e> and '⟦[damn computer]⟧ = (λ x_e: Computer_<e,t>(x_e))'/<e,t> conflict (mode: Predicate Abstraction), ⟦[[damn computer] the]⟧ = Type mismatch: '⟦[damn computer]⟧ = (λ x_e: Computer_<e,t>(x_e))'/<e,t> and '⟦the⟧ = (λ f_<e,t>: (ι x_e: (f_<e,t>(x_e) & (x_e << c_{e}))))'/<<e,t>,e> conflict (mode: Predicate Abstraction)])"
      ]
     },
     "execution_count": 19,
     "metadata": {},
     "output_type": "execute_result"
    }
   ],
   "source": [
    "(the * (damn*computer)) "
   ]
  },
  {
   "cell_type": "code",
   "execution_count": null,
   "metadata": {
    "collapsed": true
   },
   "outputs": [],
   "source": []
  }
 ],
 "metadata": {
  "kernelspec": {
   "display_name": "Lambda Notebook (Python 3)",
   "language": "python",
   "name": "lambda-notebook"
  },
  "language_info": {
   "codemirror_mode": {
    "name": "ipython",
    "version": 3
   },
   "file_extension": ".py",
   "mimetype": "text/x-python",
   "name": "python",
   "nbconvert_exporter": "python",
   "pygments_lexer": "ipython3",
   "version": "3.5.2"
  }
 },
 "nbformat": 4,
 "nbformat_minor": 1
}
