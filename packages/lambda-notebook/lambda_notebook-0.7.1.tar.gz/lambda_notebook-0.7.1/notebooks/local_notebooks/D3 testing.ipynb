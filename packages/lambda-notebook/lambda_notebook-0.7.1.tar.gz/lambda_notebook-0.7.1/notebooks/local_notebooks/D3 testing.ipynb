{
 "cells": [
  {
   "cell_type": "markdown",
   "metadata": {},
   "source": [
    "Helpful link: http://stackoverflow.com/questions/28102089/simple-graph-of-nodes-and-links-without-using-force-layout\n",
    "\n",
    "http://bl.ocks.org/mbostock/1160929 (text in a box)\n",
    "\n",
    "http://bl.ocks.org/chrisbrich/3391642 (mathjax in d3)"
   ]
  },
  {
   "cell_type": "code",
   "execution_count": 1,
   "metadata": {
    "collapsed": false
   },
   "outputs": [
    {
     "data": {
      "application/javascript": [
       "require.config({\n",
       "  paths: {\n",
       "      d3: '//cdnjs.cloudflare.com/ajax/libs/d3/3.4.8/d3.min'\n",
       "  }\n",
       "});"
      ],
      "text/plain": [
       "<IPython.core.display.Javascript object>"
      ]
     },
     "metadata": {},
     "output_type": "display_data"
    }
   ],
   "source": [
    "%%javascript\n",
    "require.config({\n",
    "  paths: {\n",
    "      d3: '//cdnjs.cloudflare.com/ajax/libs/d3/3.4.8/d3.min'\n",
    "  }\n",
    "});"
   ]
  },
  {
   "cell_type": "code",
   "execution_count": 72,
   "metadata": {
    "collapsed": true
   },
   "outputs": [],
   "source": [
    "test_json = \"\"\"\n",
    "  [{\n",
    "    \"name\": \"S\",\n",
    "    \"children\": [\n",
    "      {\n",
    "        \"name\": \"NP\",\n",
    "        \"parent\": \"S\",\n",
    "        \"children\": [\n",
    "          {\n",
    "            \"name\": \"D\",\n",
    "            \"parent\": \"NP\",\n",
    "            \"children\": [{\"name\": \"the\"}]\n",
    "          },\n",
    "          {\n",
    "            \"name\": \"N\",\n",
    "            \"parent\": \"NP\",\n",
    "            \"children\": [{\"name\": \"$$\\\\\\\\lambda x \\\\\\\\:.\\\\\\\\: \\\\\\\\text{alligator}'(x)$$\"}]\n",
    "          }\n",
    "        ]\n",
    "      },\n",
    "      {\n",
    "        \"name\": \"VP\",\n",
    "        \"parent\": \"S\",\n",
    "        \"children\": [\n",
    "            {\"name\": \"V\",\n",
    "             \"children\": [{\"name\": \"danced\"}]}\n",
    "        ]\n",
    "      }\n",
    "    ]\n",
    "  }]\n",
    "\"\"\""
   ]
  },
  {
   "cell_type": "code",
   "execution_count": 73,
   "metadata": {
    "collapsed": false
   },
   "outputs": [
    {
     "data": {
      "application/javascript": [
       "\n",
       "           window.test_json=\n",
       "  [{\n",
       "    \"name\": \"S\",\n",
       "    \"children\": [\n",
       "      {\n",
       "        \"name\": \"NP\",\n",
       "        \"parent\": \"S\",\n",
       "        \"children\": [\n",
       "          {\n",
       "            \"name\": \"D\",\n",
       "            \"parent\": \"NP\",\n",
       "            \"children\": [{\"name\": \"the\"}]\n",
       "          },\n",
       "          {\n",
       "            \"name\": \"N\",\n",
       "            \"parent\": \"NP\",\n",
       "            \"children\": [{\"name\": \"$$\\\\lambda x \\\\:.\\\\: \\\\text{alligator}'(x)$$\"}]\n",
       "          }\n",
       "        ]\n",
       "      },\n",
       "      {\n",
       "        \"name\": \"VP\",\n",
       "        \"parent\": \"S\",\n",
       "        \"children\": [\n",
       "            {\"name\": \"V\",\n",
       "             \"children\": [{\"name\": \"danced\"}]}\n",
       "        ]\n",
       "      }\n",
       "    ]\n",
       "  }]\n",
       ";\n",
       "           "
      ],
      "text/plain": [
       "<IPython.core.display.Javascript object>"
      ]
     },
     "execution_count": 73,
     "metadata": {},
     "output_type": "execute_result"
    }
   ],
   "source": [
    "from IPython.display import Javascript\n",
    "#runs arbitrary javascript, client-side\n",
    "Javascript(\"\"\"\n",
    "           window.test_json={};\n",
    "           \"\"\".format(test_json))"
   ]
  },
  {
   "cell_type": "code",
   "execution_count": 74,
   "metadata": {
    "collapsed": false
   },
   "outputs": [
    {
     "data": {
      "text/html": [
       "\n",
       "<style>\n",
       ".node circle {\n",
       "   fill: #fff;\n",
       "   stroke: steelblue;\n",
       "   stroke-width: 3px;\n",
       " }\n",
       "\n",
       " .node text { font: 12px sans-serif; }\n",
       "\n",
       " .link {\n",
       "   fill: none;\n",
       "   stroke: #ccc;\n",
       "   stroke-width: 2px;\n",
       " }\n",
       "</style>\n"
      ],
      "text/plain": [
       "<IPython.core.display.HTML object>"
      ]
     },
     "execution_count": 74,
     "metadata": {},
     "output_type": "execute_result"
    }
   ],
   "source": [
    "from IPython.core.display import HTML\n",
    "HTML(\"\"\"\n",
    "<style>\n",
    ".node circle {\n",
    "   fill: #fff;\n",
    "   stroke: steelblue;\n",
    "   stroke-width: 3px;\n",
    " }\n",
    "\n",
    " .node text { font: 12px sans-serif; }\n",
    "\n",
    " .link {\n",
    "   fill: none;\n",
    "   stroke: #ccc;\n",
    "   stroke-width: 2px;\n",
    " }\n",
    "</style>\n",
    "\"\"\")\n"
   ]
  },
  {
   "cell_type": "code",
   "execution_count": 77,
   "metadata": {
    "collapsed": false
   },
   "outputs": [
    {
     "data": {
      "application/javascript": [
       "// ************** Generate the tree diagram  *****************\n",
       "\n",
       "require(['d3'], function(d3){\n",
       "  //a weird idempotency thing\n",
       "  $(\"#chart1\").remove();\n",
       "  //create canvas\n",
       "  element.append(\"<div id='chart1'></div>\");\n",
       "  $(\"#chart1\").width(\"960px\");\n",
       "  $(\"#chart1\").height(\"600px\");\n",
       "  var margin = {top: 40, right: 120, bottom: 20, left: 120},\n",
       "   width = 960 - margin.right - margin.left,\n",
       "   height = 500 - margin.top - margin.bottom;\n",
       " \n",
       "  var svg = d3.select(\"#chart1\").append(\"svg\")\n",
       "    .style(\"position\", \"relative\")\n",
       "    .style(\"max-width\", \"960px\")\n",
       "    .attr(\"width\", width + \"px\")\n",
       "    .attr(\"height\", (height + 50) + \"px\")\n",
       "    .append(\"g\")\n",
       "    .attr(\"transform\", \"translate(\" + margin.left + \",\" + margin.top + \")\");\n",
       "\n",
       "\n",
       "\n",
       "\n",
       "var i = 0;\n",
       "\n",
       "var tree = d3.layout.tree()\n",
       " .size([height, width]);\n",
       "\n",
       "var diagonal = d3.svg.diagonal()\n",
       " .projection(function(d) { return [d.x, d.y]; });\n",
       "\n",
       "var lineFunction = d3.svg.line()\n",
       " .x(function(d) { return d.x; })\n",
       " .y(function(d) { return d.y; })\n",
       " .interpolate(\"linear\");\n",
       "    \n",
       "var line = d3.svg.line()\n",
       "    \n",
       "var root = window.test_json[0];\n",
       "\n",
       "svg.append(\"g\").attr(\"id\", \"links\");\n",
       "svg.append(\"g\").attr(\"id\", \"nodes\");\n",
       "    \n",
       "update(root);\n",
       "\n",
       "function update(source) {\n",
       "\n",
       "  // Compute the new tree layout.\n",
       "  var nodes = tree.nodes(root).reverse(),\n",
       "   links = tree.links(nodes);\n",
       "\n",
       "  // Normalize for fixed-depth.\n",
       "  nodes.forEach(function(d) { d.y = d.depth * 100; });\n",
       "\n",
       "  // Declare the nodesâ€¦\n",
       "  var node = svg.select(\"#nodes\").selectAll(\"g.node\")\n",
       "   .data(nodes, function(d) { return d.id || (d.id = ++i); });\n",
       "\n",
       "    \n",
       "  // Enter the nodes.\n",
       "  var nodeEnter = node.enter().append(\"g\")\n",
       "   .attr(\"class\", \"node\")\n",
       "   .attr(\"transform\", function(d) { \n",
       "    return \"translate(\" + d.x + \",\" + d.y + \")\"; });\n",
       "\n",
       "  nodeEnter.append(\"circle\")\n",
       "   .attr(\"r\", 10)\n",
       "   .style(\"fill\", \"#fff\");\n",
       "\n",
       "  nodeEnter.append(\"text\")\n",
       "   .attr(\"y\", function(d) { \n",
       "    return d.children || d._children ? -18 : 18; })\n",
       "   .attr(\"dy\", \".35em\")\n",
       "   .attr(\"text-anchor\", \"middle\")\n",
       "   .text(function(d) { setTimeout(function(){MathJax.Hub.Queue([\"Typeset\",MathJax.Hub]);}, 10); return d.name; })\n",
       "   .style(\"fill-opacity\", 1);\n",
       "\n",
       "  // Declare the links\n",
       "  var link = svg.select(\"#links\").selectAll(\"path.link\")\n",
       "   .data(links, function(d) { return d.target.id; });\n",
       "\n",
       "  // Enter the links.\n",
       "  link.enter()\n",
       "   .append(\"line\")\n",
       "   .attr(\"class\", \"link\")\n",
       "   .attr(\"fill\", \"none\")\n",
       "   .attr(\"stroke\", \"black\")\n",
       "   .attr(\"stroke-width\", 2)\n",
       "   .attr(\"x1\", function (l) { return l.source.x; })\n",
       "   .attr(\"y1\", function (l) { return l.source.y; })\n",
       "   .attr(\"x2\", function (l) { return l.target.x; })\n",
       "   .attr(\"y2\", function (l) { return l.target.y; });\n",
       "\n",
       "}\n",
       "});"
      ],
      "text/plain": [
       "<IPython.core.display.Javascript object>"
      ]
     },
     "metadata": {},
     "output_type": "display_data"
    }
   ],
   "source": [
    "%%javascript\n",
    "// ************** Generate the tree diagram  *****************\n",
    "\n",
    "require(['d3'], function(d3){\n",
    "  //a weird idempotency thing\n",
    "  $(\"#chart1\").remove();\n",
    "  //create canvas\n",
    "  element.append(\"<div id='chart1'></div>\");\n",
    "  $(\"#chart1\").width(\"960px\");\n",
    "  $(\"#chart1\").height(\"600px\");\n",
    "  var margin = {top: 40, right: 120, bottom: 20, left: 120},\n",
    "   width = 960 - margin.right - margin.left,\n",
    "   height = 500 - margin.top - margin.bottom;\n",
    " \n",
    "  var svg = d3.select(\"#chart1\").append(\"svg\")\n",
    "    .style(\"position\", \"relative\")\n",
    "    .style(\"max-width\", \"960px\")\n",
    "    .attr(\"width\", width + \"px\")\n",
    "    .attr(\"height\", (height + 50) + \"px\")\n",
    "    .append(\"g\")\n",
    "    .attr(\"transform\", \"translate(\" + margin.left + \",\" + margin.top + \")\");\n",
    "\n",
    "\n",
    "\n",
    "\n",
    "var i = 0;\n",
    "\n",
    "var tree = d3.layout.tree()\n",
    " .size([height, width]);\n",
    "\n",
    "var diagonal = d3.svg.diagonal()\n",
    " .projection(function(d) { return [d.x, d.y]; });\n",
    "\n",
    "var lineFunction = d3.svg.line()\n",
    " .x(function(d) { return d.x; })\n",
    " .y(function(d) { return d.y; })\n",
    " .interpolate(\"linear\");\n",
    "    \n",
    "var line = d3.svg.line()\n",
    "    \n",
    "var root = window.test_json[0];\n",
    "\n",
    "svg.append(\"g\").attr(\"id\", \"links\");\n",
    "svg.append(\"g\").attr(\"id\", \"nodes\");\n",
    "    \n",
    "update(root);\n",
    "\n",
    "function update(source) {\n",
    "\n",
    "  // Compute the new tree layout.\n",
    "  var nodes = tree.nodes(root).reverse(),\n",
    "   links = tree.links(nodes);\n",
    "\n",
    "  // Normalize for fixed-depth.\n",
    "  nodes.forEach(function(d) { d.y = d.depth * 100; });\n",
    "\n",
    "  // Declare the nodesâ€¦\n",
    "  var node = svg.select(\"#nodes\").selectAll(\"g.node\")\n",
    "   .data(nodes, function(d) { return d.id || (d.id = ++i); });\n",
    "\n",
    "    \n",
    "  // Enter the nodes.\n",
    "  var nodeEnter = node.enter().append(\"g\")\n",
    "   .attr(\"class\", \"node\")\n",
    "   .attr(\"transform\", function(d) { \n",
    "    return \"translate(\" + d.x + \",\" + d.y + \")\"; });\n",
    "\n",
    "  nodeEnter.append(\"circle\")\n",
    "   .attr(\"r\", 10)\n",
    "   .style(\"fill\", \"#fff\");\n",
    "\n",
    "  nodeEnter.append(\"text\")\n",
    "   .attr(\"y\", function(d) { \n",
    "    return d.children || d._children ? -18 : 18; })\n",
    "   .attr(\"dy\", \".35em\")\n",
    "   .attr(\"text-anchor\", \"middle\")\n",
    "   .text(function(d) { setTimeout(function(){MathJax.Hub.Queue([\"Typeset\",MathJax.Hub]);}, 10); return d.name; })\n",
    "   .style(\"fill-opacity\", 1);\n",
    "\n",
    "  // Declare the links\n",
    "  var link = svg.select(\"#links\").selectAll(\"path.link\")\n",
    "   .data(links, function(d) { return d.target.id; });\n",
    "\n",
    "  // Enter the links.\n",
    "  link.enter()\n",
    "   .append(\"line\")\n",
    "   .attr(\"class\", \"link\")\n",
    "   .attr(\"fill\", \"none\")\n",
    "   .attr(\"stroke\", \"black\")\n",
    "   .attr(\"stroke-width\", 2)\n",
    "   .attr(\"x1\", function (l) { return l.source.x; })\n",
    "   .attr(\"y1\", function (l) { return l.source.y; })\n",
    "   .attr(\"x2\", function (l) { return l.target.x; })\n",
    "   .attr(\"y2\", function (l) { return l.target.y; });\n",
    "\n",
    "}\n",
    "});"
   ]
  },
  {
   "cell_type": "markdown",
   "metadata": {
    "collapsed": true
   },
   "source": [
    "$$\\lambda test$$"
   ]
  },
  {
   "cell_type": "code",
   "execution_count": null,
   "metadata": {
    "collapsed": true
   },
   "outputs": [],
   "source": []
  }
 ],
 "metadata": {
  "kernelspec": {
   "display_name": "Lambda Notebook (Python 3)",
   "language": "python",
   "name": "lambda-notebook"
  },
  "language_info": {
   "codemirror_mode": {
    "name": "ipython",
    "version": 3
   },
   "file_extension": ".py",
   "mimetype": "text/x-python",
   "name": "python",
   "nbconvert_exporter": "python",
   "pygments_lexer": "ipython3",
   "version": "3.5.1"
  }
 },
 "nbformat": 4,
 "nbformat_minor": 0
}
