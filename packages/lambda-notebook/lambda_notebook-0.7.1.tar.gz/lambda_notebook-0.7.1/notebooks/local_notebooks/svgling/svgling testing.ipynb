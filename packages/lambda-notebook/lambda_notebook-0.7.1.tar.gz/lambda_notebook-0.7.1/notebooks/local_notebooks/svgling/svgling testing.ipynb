{
 "cells": [
  {
   "cell_type": "code",
   "execution_count": 1,
   "id": "4d3e611c-296e-4514-8d17-5f328ab6a4a1",
   "metadata": {},
   "outputs": [],
   "source": [
    "import svgling\n",
    "import nltk\n",
    "import importlib\n",
    "from importlib import reload"
   ]
  },
  {
   "cell_type": "code",
   "execution_count": 17,
   "id": "53f9acec-6598-411d-b731-4bb00dd354c8",
   "metadata": {},
   "outputs": [
    {
     "data": {
      "image/svg+xml": [
       "<svg baseProfile=\"full\" height=\"184px\" preserveAspectRatio=\"xMidYMid meet\" style=\"font-family: times, serif; font-weight: normal; font-style: normal; font-size: 16px;\" version=\"1.1\" viewBox=\"0,0,184.0,184.0\" width=\"184px\" xmlns=\"http://www.w3.org/2000/svg\" xmlns:ev=\"http://www.w3.org/2001/xml-events\" xmlns:xlink=\"http://www.w3.org/1999/xlink\"><defs /><rect fill=\"none\" height=\"100%\" stroke=\"lightgray\" width=\"100%\" x=\"0\" y=\"0\" /><line stroke=\"lightgray\" x1=\"16px\" x2=\"16px\" y1=\"0\" y2=\"100%\" /><line stroke=\"lightgray\" x1=\"32px\" x2=\"32px\" y1=\"0\" y2=\"100%\" /><line stroke=\"lightgray\" x1=\"48px\" x2=\"48px\" y1=\"0\" y2=\"100%\" /><line stroke=\"lightgray\" x1=\"64px\" x2=\"64px\" y1=\"0\" y2=\"100%\" /><line stroke=\"lightgray\" x1=\"80px\" x2=\"80px\" y1=\"0\" y2=\"100%\" /><line stroke=\"lightgray\" x1=\"96px\" x2=\"96px\" y1=\"0\" y2=\"100%\" /><line stroke=\"lightgray\" x1=\"112px\" x2=\"112px\" y1=\"0\" y2=\"100%\" /><line stroke=\"lightgray\" x1=\"128px\" x2=\"128px\" y1=\"0\" y2=\"100%\" /><line stroke=\"lightgray\" x1=\"144px\" x2=\"144px\" y1=\"0\" y2=\"100%\" /><line stroke=\"lightgray\" x1=\"160px\" x2=\"160px\" y1=\"0\" y2=\"100%\" /><line stroke=\"lightgray\" x1=\"0\" x2=\"100%\" y1=\"16px\" y2=\"16px\" /><line stroke=\"lightgray\" x1=\"0\" x2=\"100%\" y1=\"32px\" y2=\"32px\" /><line stroke=\"lightgray\" x1=\"0\" x2=\"100%\" y1=\"48px\" y2=\"48px\" /><line stroke=\"lightgray\" x1=\"0\" x2=\"100%\" y1=\"64px\" y2=\"64px\" /><line stroke=\"lightgray\" x1=\"0\" x2=\"100%\" y1=\"80px\" y2=\"80px\" /><line stroke=\"lightgray\" x1=\"0\" x2=\"100%\" y1=\"96px\" y2=\"96px\" /><line stroke=\"lightgray\" x1=\"0\" x2=\"100%\" y1=\"112px\" y2=\"112px\" /><line stroke=\"lightgray\" x1=\"0\" x2=\"100%\" y1=\"128px\" y2=\"128px\" /><line stroke=\"lightgray\" x1=\"0\" x2=\"100%\" y1=\"144px\" y2=\"144px\" /><line stroke=\"lightgray\" x1=\"0\" x2=\"100%\" y1=\"160px\" y2=\"160px\" /><svg width=\"100%\" x=\"0\" y=\"0px\"><defs /><text text-anchor=\"middle\" x=\"50%\" y=\"16px\">S</text></svg><svg width=\"82.6087%\" x=\"0%\" y=\"48px\"><defs /><rect fill=\"none\" height=\"100%\" stroke=\"red\" width=\"100%\" x=\"0%\" y=\"0%\" /><svg width=\"100%\" x=\"0\" y=\"0px\"><defs /><text text-anchor=\"middle\" x=\"50%\" y=\"16px\">NP</text></svg><svg width=\"31.5789%\" x=\"0%\" y=\"48px\"><defs /><rect fill=\"none\" height=\"100%\" stroke=\"red\" width=\"100%\" x=\"0%\" y=\"0%\" /><svg width=\"100%\" x=\"0\" y=\"0px\"><defs /><text text-anchor=\"middle\" x=\"50%\" y=\"16px\">D</text></svg><svg width=\"100%\" x=\"0%\" y=\"48px\"><defs /><rect fill=\"none\" height=\"100%\" stroke=\"red\" width=\"100%\" x=\"0%\" y=\"0%\" /><svg width=\"100%\" x=\"0\" y=\"0px\"><defs /><text text-anchor=\"middle\" x=\"50%\" y=\"16px\">the</text><text text-anchor=\"middle\" x=\"50%\" y=\"32px\">test</text></svg></svg><line stroke=\"black\" x1=\"50%\" x2=\"50%\" y1=\"19.2px\" y2=\"48px\" /></svg><line stroke=\"black\" x1=\"50%\" x2=\"15.7895%\" y1=\"19.2px\" y2=\"48px\" /><svg width=\"68.4211%\" x=\"31.5789%\" y=\"48px\"><defs /><rect fill=\"none\" height=\"100%\" stroke=\"red\" width=\"100%\" x=\"0%\" y=\"0%\" /><svg width=\"100%\" x=\"0\" y=\"0px\"><defs /><text text-anchor=\"middle\" x=\"50%\" y=\"16px\">asdfasfasdf</text></svg></svg><line stroke=\"black\" x1=\"50%\" x2=\"65.7895%\" y1=\"19.2px\" y2=\"48px\" /></svg><line stroke=\"black\" x1=\"50%\" x2=\"41.3043%\" y1=\"19.2px\" y2=\"48px\" /><svg width=\"17.3913%\" x=\"82.6087%\" y=\"48px\"><defs /><rect fill=\"none\" height=\"100%\" stroke=\"red\" width=\"100%\" x=\"0%\" y=\"0%\" /><svg width=\"100%\" x=\"0\" y=\"0px\"><defs /><text text-anchor=\"middle\" x=\"50%\" y=\"16px\">VP</text></svg><svg width=\"100%\" x=\"0%\" y=\"48px\"><defs /><rect fill=\"none\" height=\"100%\" stroke=\"red\" width=\"100%\" x=\"0%\" y=\"0%\" /><svg width=\"100%\" x=\"0\" y=\"0px\"><defs /><text text-anchor=\"middle\" x=\"50%\" y=\"16px\">V</text></svg></svg><line stroke=\"black\" x1=\"50%\" x2=\"50%\" y1=\"19.2px\" y2=\"48px\" /></svg><line stroke=\"black\" x1=\"50%\" x2=\"91.3043%\" y1=\"19.2px\" y2=\"48px\" /></svg>"
      ],
      "text/plain": [
       "TreeLayout(('S', ('NP', ('D', 'the\\ntest'), 'asdfasfasdf'), ('VP', 'V')))"
      ]
     },
     "execution_count": 17,
     "metadata": {},
     "output_type": "execute_result"
    }
   ],
   "source": [
    "reload(svgling.core)\n",
    "#svgling.core.default_options.font_style = svgling.core.MONO\n",
    "t = svgling.draw_tree((\"S\", (\"NP\", (\"D\", \"the\\ntest\"), \"asdfasfasdf\"), (\"VP\", \"V\")), debug=True, relative_units=False)\n",
    "t"
   ]
  },
  {
   "cell_type": "code",
   "execution_count": null,
   "id": "c617189c-45f8-455c-b7f9-89f745479308",
   "metadata": {},
   "outputs": [],
   "source": []
  },
  {
   "cell_type": "code",
   "execution_count": 3,
   "id": "f94cc608-b17a-40e6-8a24-ddf68ab93e71",
   "metadata": {},
   "outputs": [
    {
     "name": "stdout",
     "output_type": "stream",
     "text": [
      "For conversion functions to work, install the `cairosvg` package.\n"
     ]
    },
    {
     "ename": "ModuleNotFoundError",
     "evalue": "No module named 'cairosvgx'",
     "output_type": "error",
     "traceback": [
      "\u001b[0;31m---------------------------------------------------------------------------\u001b[0m",
      "\u001b[0;31mModuleNotFoundError\u001b[0m                       Traceback (most recent call last)",
      "Cell \u001b[0;32mIn[3], line 4\u001b[0m\n\u001b[1;32m      2\u001b[0m \u001b[38;5;28;01mimport\u001b[39;00m \u001b[38;5;21;01msvgling\u001b[39;00m\u001b[38;5;21;01m.\u001b[39;00m\u001b[38;5;21;01mutils\u001b[39;00m\n\u001b[1;32m      3\u001b[0m \u001b[38;5;28;01mimport\u001b[39;00m \u001b[38;5;21;01mIPython\u001b[39;00m\u001b[38;5;21;01m.\u001b[39;00m\u001b[38;5;21;01mdisplay\u001b[39;00m\n\u001b[0;32m----> 4\u001b[0m \u001b[43msvgling\u001b[49m\u001b[38;5;241;43m.\u001b[39;49m\u001b[43mutils\u001b[49m\u001b[38;5;241;43m.\u001b[39;49m\u001b[43msvg2png\u001b[49m\u001b[43m(\u001b[49m\u001b[43mt\u001b[49m\u001b[43m,\u001b[49m\u001b[43m \u001b[49m\u001b[43mwrite_to\u001b[49m\u001b[38;5;241;43m=\u001b[39;49m\u001b[38;5;124;43m\"\u001b[39;49m\u001b[38;5;124;43mtest.png\u001b[39;49m\u001b[38;5;124;43m\"\u001b[39;49m\u001b[43m)\u001b[49m\n\u001b[1;32m      5\u001b[0m svgling\u001b[38;5;241m.\u001b[39mutils\u001b[38;5;241m.\u001b[39msvg2pdf(t, write_to\u001b[38;5;241m=\u001b[39m\u001b[38;5;124m\"\u001b[39m\u001b[38;5;124mtest.pdf\u001b[39m\u001b[38;5;124m\"\u001b[39m)\n\u001b[1;32m      6\u001b[0m svgling\u001b[38;5;241m.\u001b[39mutils\u001b[38;5;241m.\u001b[39msvg2ps(t, write_to\u001b[38;5;241m=\u001b[39m\u001b[38;5;124m\"\u001b[39m\u001b[38;5;124mtest.ps\u001b[39m\u001b[38;5;124m\"\u001b[39m)\n",
      "File \u001b[0;32m~/Dropbox/notebooks/svgling/svgling/utils.py:16\u001b[0m, in \u001b[0;36msvg2png\u001b[0;34m(tree, **args)\u001b[0m\n\u001b[1;32m     15\u001b[0m \u001b[38;5;28;01mdef\u001b[39;00m \u001b[38;5;21msvg2png\u001b[39m(tree, \u001b[38;5;241m*\u001b[39m\u001b[38;5;241m*\u001b[39margs):\n\u001b[0;32m---> 16\u001b[0m     cairosvg \u001b[38;5;241m=\u001b[39m \u001b[43mtry_import_cairosvg\u001b[49m\u001b[43m(\u001b[49m\u001b[43m)\u001b[49m\n\u001b[1;32m     17\u001b[0m     \u001b[38;5;28;01mreturn\u001b[39;00m cairosvg\u001b[38;5;241m.\u001b[39msvg2png(tree\u001b[38;5;241m.\u001b[39m_repr_svg_(), \u001b[38;5;241m*\u001b[39m\u001b[38;5;241m*\u001b[39margs)\n",
      "File \u001b[0;32m~/Dropbox/notebooks/svgling/svgling/utils.py:7\u001b[0m, in \u001b[0;36mtry_import_cairosvg\u001b[0;34m()\u001b[0m\n\u001b[1;32m      5\u001b[0m \u001b[38;5;28;01mdef\u001b[39;00m \u001b[38;5;21mtry_import_cairosvg\u001b[39m():\n\u001b[1;32m      6\u001b[0m     \u001b[38;5;28;01mtry\u001b[39;00m:\n\u001b[0;32m----> 7\u001b[0m         \u001b[38;5;28;01mimport\u001b[39;00m \u001b[38;5;21;01mcairosvgx\u001b[39;00m\n\u001b[1;32m      8\u001b[0m         \u001b[38;5;28;01mreturn\u001b[39;00m cairosvgx\n\u001b[1;32m      9\u001b[0m     \u001b[38;5;28;01mexcept\u001b[39;00m \u001b[38;5;167;01mImportError\u001b[39;00m:\n",
      "\u001b[0;31mModuleNotFoundError\u001b[0m: No module named 'cairosvgx'"
     ]
    }
   ],
   "source": [
    "import cairosvg\n",
    "import svgling.utils\n",
    "import IPython.display\n",
    "svgling.utils.svg2png(t, write_to=\"test.png\")\n",
    "svgling.utils.svg2pdf(t, write_to=\"test.pdf\")\n",
    "svgling.utils.svg2ps(t, write_to=\"test.ps\")\n",
    "IPython.display.Image(svgling.utils.svg2png(t, scale=1.5))\n",
    "# cairosvg.svg2png(bytestring=t._repr_svg_(), write_to=\"test.png\")\n",
    "#IPython.display.Image(cairosvg.svg2png(bytestring=t._repr_svg_()))"
   ]
  },
  {
   "cell_type": "code",
   "execution_count": 3,
   "id": "78ead60a-9ccb-4089-91c9-ba03b4a411f7",
   "metadata": {},
   "outputs": [
    {
     "data": {
      "image/svg+xml": [
       "<svg baseProfile=\"full\" height=\"184px\" preserveAspectRatio=\"xMidYMid meet\" style=\"font-family: &quot;Lucida Console&quot;, Monaco, monospace; font-weight: normal; font-style: normal; font-size: 16px;\" version=\"1.1\" viewBox=\"0,0,184.0,184.0\" width=\"184px\" xmlns=\"http://www.w3.org/2000/svg\" xmlns:ev=\"http://www.w3.org/2001/xml-events\" xmlns:xlink=\"http://www.w3.org/1999/xlink\"><defs /><rect fill=\"none\" height=\"100%\" stroke=\"lightgray\" width=\"100%\" x=\"0\" y=\"0\" /><line stroke=\"lightgray\" x1=\"16px\" x2=\"16px\" y1=\"0\" y2=\"100%\" /><line stroke=\"lightgray\" x1=\"32px\" x2=\"32px\" y1=\"0\" y2=\"100%\" /><line stroke=\"lightgray\" x1=\"48px\" x2=\"48px\" y1=\"0\" y2=\"100%\" /><line stroke=\"lightgray\" x1=\"64px\" x2=\"64px\" y1=\"0\" y2=\"100%\" /><line stroke=\"lightgray\" x1=\"80px\" x2=\"80px\" y1=\"0\" y2=\"100%\" /><line stroke=\"lightgray\" x1=\"96px\" x2=\"96px\" y1=\"0\" y2=\"100%\" /><line stroke=\"lightgray\" x1=\"112px\" x2=\"112px\" y1=\"0\" y2=\"100%\" /><line stroke=\"lightgray\" x1=\"128px\" x2=\"128px\" y1=\"0\" y2=\"100%\" /><line stroke=\"lightgray\" x1=\"144px\" x2=\"144px\" y1=\"0\" y2=\"100%\" /><line stroke=\"lightgray\" x1=\"160px\" x2=\"160px\" y1=\"0\" y2=\"100%\" /><line stroke=\"lightgray\" x1=\"0\" x2=\"100%\" y1=\"16px\" y2=\"16px\" /><line stroke=\"lightgray\" x1=\"0\" x2=\"100%\" y1=\"32px\" y2=\"32px\" /><line stroke=\"lightgray\" x1=\"0\" x2=\"100%\" y1=\"48px\" y2=\"48px\" /><line stroke=\"lightgray\" x1=\"0\" x2=\"100%\" y1=\"64px\" y2=\"64px\" /><line stroke=\"lightgray\" x1=\"0\" x2=\"100%\" y1=\"80px\" y2=\"80px\" /><line stroke=\"lightgray\" x1=\"0\" x2=\"100%\" y1=\"96px\" y2=\"96px\" /><line stroke=\"lightgray\" x1=\"0\" x2=\"100%\" y1=\"112px\" y2=\"112px\" /><line stroke=\"lightgray\" x1=\"0\" x2=\"100%\" y1=\"128px\" y2=\"128px\" /><line stroke=\"lightgray\" x1=\"0\" x2=\"100%\" y1=\"144px\" y2=\"144px\" /><line stroke=\"lightgray\" x1=\"0\" x2=\"100%\" y1=\"160px\" y2=\"160px\" /><svg width=\"100%\" x=\"0\" y=\"0px\"><defs /><text text-anchor=\"middle\" x=\"50%\" y=\"16px\">S</text></svg><svg style=\"font-family: times, serif; font-weight: normal; font-style: normal; font-size: 16px;\" width=\"82.6087%\" x=\"0%\" y=\"48px\"><defs /><rect fill=\"none\" height=\"100%\" stroke=\"red\" width=\"100%\" x=\"0%\" y=\"0%\" /><svg width=\"100%\" x=\"0\" y=\"0px\"><defs /><text text-anchor=\"middle\" x=\"50%\" y=\"16px\">NP</text></svg><svg width=\"31.5789%\" x=\"0%\" y=\"48px\"><defs /><rect fill=\"none\" height=\"100%\" stroke=\"red\" width=\"100%\" x=\"0%\" y=\"0%\" /><svg width=\"100%\" x=\"0\" y=\"0px\"><defs /><text text-anchor=\"middle\" x=\"50%\" y=\"16px\">D</text></svg><svg width=\"100%\" x=\"0%\" y=\"48px\"><defs /><rect fill=\"none\" height=\"100%\" stroke=\"red\" width=\"100%\" x=\"0%\" y=\"0%\" /><svg width=\"100%\" x=\"0\" y=\"0px\"><defs /><text text-anchor=\"middle\" x=\"50%\" y=\"16px\">the</text><text text-anchor=\"middle\" x=\"50%\" y=\"32px\">test</text></svg></svg><line stroke=\"black\" x1=\"50%\" x2=\"50%\" y1=\"19.2px\" y2=\"48px\" /></svg><line stroke=\"black\" x1=\"50%\" x2=\"15.7895%\" y1=\"19.2px\" y2=\"48px\" /><svg width=\"68.4211%\" x=\"31.5789%\" y=\"48px\"><defs /><rect fill=\"none\" height=\"100%\" stroke=\"red\" width=\"100%\" x=\"0%\" y=\"0%\" /><svg width=\"100%\" x=\"0\" y=\"0px\"><defs /><text text-anchor=\"middle\" x=\"50%\" y=\"16px\">asdfasfasdf</text></svg></svg><line stroke=\"black\" x1=\"50%\" x2=\"65.7895%\" y1=\"19.2px\" y2=\"48px\" /></svg><line stroke=\"black\" x1=\"50%\" x2=\"41.3043%\" y1=\"19.2px\" y2=\"48px\" /><svg style=\"font-family: times, serif; font-weight: normal; font-style: normal; font-size: 16px;\" width=\"17.3913%\" x=\"82.6087%\" y=\"48px\"><defs /><rect fill=\"none\" height=\"100%\" stroke=\"red\" width=\"100%\" x=\"0%\" y=\"0%\" /><svg width=\"100%\" x=\"0\" y=\"0px\"><defs /><text text-anchor=\"middle\" x=\"50%\" y=\"16px\">VP</text></svg><svg width=\"100%\" x=\"0%\" y=\"48px\"><defs /><rect fill=\"none\" height=\"100%\" stroke=\"red\" width=\"100%\" x=\"0%\" y=\"0%\" /><svg width=\"100%\" x=\"0\" y=\"0px\"><defs /><text text-anchor=\"middle\" x=\"50%\" y=\"16px\">V</text></svg></svg><line stroke=\"black\" x1=\"50%\" x2=\"50%\" y1=\"19.2px\" y2=\"48px\" /></svg><line stroke=\"black\" x1=\"50%\" x2=\"91.3043%\" y1=\"19.2px\" y2=\"48px\" /></svg>"
      ],
      "text/plain": [
       "TreeLayout(('S', ('NP', ('D', 'the\\ntest'), 'asdfasfasdf'), ('VP', 'V')))"
      ]
     },
     "execution_count": 3,
     "metadata": {},
     "output_type": "execute_result"
    }
   ],
   "source": [
    "t.set_node_style([], font_style=svgling.core.MONO)\n",
    "t"
   ]
  },
  {
   "cell_type": "code",
   "execution_count": 4,
   "id": "645b7049-7c16-466f-ba82-c3343aa15f16",
   "metadata": {},
   "outputs": [
    {
     "data": {
      "image/svg+xml": [
       "<svg baseProfile=\"full\" height=\"172px\" preserveAspectRatio=\"xMidYMid meet\" style=\"font-family: &quot;Lucida Console&quot;, Monaco, monospace; font-weight: normal; font-style: normal; font-size: 16px;\" version=\"1.1\" viewBox=\"0,0,127.0,172.0\" width=\"127px\" xmlns=\"http://www.w3.org/2000/svg\" xmlns:ev=\"http://www.w3.org/2001/xml-events\" xmlns:xlink=\"http://www.w3.org/1999/xlink\"><defs /><rect fill=\"none\" height=\"100%\" stroke=\"lightgray\" width=\"100%\" x=\"0\" y=\"0\" /><line stroke=\"lightgray\" x1=\"16px\" x2=\"16px\" y1=\"0\" y2=\"100%\" /><line stroke=\"lightgray\" x1=\"32px\" x2=\"32px\" y1=\"0\" y2=\"100%\" /><line stroke=\"lightgray\" x1=\"48px\" x2=\"48px\" y1=\"0\" y2=\"100%\" /><line stroke=\"lightgray\" x1=\"64px\" x2=\"64px\" y1=\"0\" y2=\"100%\" /><line stroke=\"lightgray\" x1=\"80px\" x2=\"80px\" y1=\"0\" y2=\"100%\" /><line stroke=\"lightgray\" x1=\"96px\" x2=\"96px\" y1=\"0\" y2=\"100%\" /><line stroke=\"lightgray\" x1=\"0\" x2=\"100%\" y1=\"16px\" y2=\"16px\" /><line stroke=\"lightgray\" x1=\"0\" x2=\"100%\" y1=\"32px\" y2=\"32px\" /><line stroke=\"lightgray\" x1=\"0\" x2=\"100%\" y1=\"48px\" y2=\"48px\" /><line stroke=\"lightgray\" x1=\"0\" x2=\"100%\" y1=\"64px\" y2=\"64px\" /><line stroke=\"lightgray\" x1=\"0\" x2=\"100%\" y1=\"80px\" y2=\"80px\" /><line stroke=\"lightgray\" x1=\"0\" x2=\"100%\" y1=\"96px\" y2=\"96px\" /><line stroke=\"lightgray\" x1=\"0\" x2=\"100%\" y1=\"112px\" y2=\"112px\" /><line stroke=\"lightgray\" x1=\"0\" x2=\"100%\" y1=\"128px\" y2=\"128px\" /><line stroke=\"lightgray\" x1=\"0\" x2=\"100%\" y1=\"144px\" y2=\"144px\" /><svg width=\"100%\" x=\"0\" y=\"0px\"><defs /><text text-anchor=\"middle\" x=\"50%\" y=\"16px\">S</text></svg><svg style=\"font-family: &quot;Lucida Console&quot;, Monaco, monospace; font-weight: normal; font-style: normal; font-size: 10px;\" width=\"74.8031%\" x=\"0%\" y=\"48px\"><defs /><rect fill=\"none\" height=\"100%\" stroke=\"red\" width=\"100%\" x=\"0%\" y=\"0%\" /><svg width=\"100%\" x=\"0\" y=\"3px\"><defs /><text text-anchor=\"middle\" x=\"50%\" y=\"10px\">NP</text></svg><svg width=\"31.5789%\" x=\"0%\" y=\"48px\"><defs /><rect fill=\"none\" height=\"100%\" stroke=\"red\" width=\"100%\" x=\"0%\" y=\"0%\" /><svg width=\"100%\" x=\"0\" y=\"3px\"><defs /><text text-anchor=\"middle\" x=\"50%\" y=\"10px\">D</text></svg><svg width=\"100%\" x=\"0%\" y=\"48px\"><defs /><rect fill=\"none\" height=\"100%\" stroke=\"red\" width=\"100%\" x=\"0%\" y=\"0%\" /><svg width=\"100%\" x=\"0\" y=\"0px\"><defs /><text text-anchor=\"middle\" x=\"50%\" y=\"10px\">the</text><text text-anchor=\"middle\" x=\"50%\" y=\"20px\">test</text></svg></svg><line stroke=\"black\" x1=\"50%\" x2=\"50%\" y1=\"16.2px\" y2=\"48px\" /></svg><line stroke=\"black\" x1=\"50%\" x2=\"15.7895%\" y1=\"16.2px\" y2=\"51px\" /><svg width=\"68.4211%\" x=\"31.5789%\" y=\"48px\"><defs /><rect fill=\"none\" height=\"100%\" stroke=\"red\" width=\"100%\" x=\"0%\" y=\"0%\" /><svg width=\"100%\" x=\"0\" y=\"3px\"><defs /><text text-anchor=\"middle\" x=\"50%\" y=\"10px\">asdfasfasdf</text></svg></svg><line stroke=\"black\" x1=\"50%\" x2=\"65.7895%\" y1=\"16.2px\" y2=\"51px\" /></svg><line stroke=\"black\" x1=\"50%\" x2=\"37.4016%\" y1=\"19.2px\" y2=\"51px\" /><svg style=\"font-family: times, serif; font-weight: normal; font-style: normal; font-size: 16px;\" width=\"25.1969%\" x=\"74.8031%\" y=\"48px\"><defs /><rect fill=\"none\" height=\"100%\" stroke=\"red\" width=\"100%\" x=\"0%\" y=\"0%\" /><svg width=\"100%\" x=\"0\" y=\"0px\"><defs /><text text-anchor=\"middle\" x=\"50%\" y=\"16px\">VP</text></svg><svg width=\"100%\" x=\"0%\" y=\"48px\"><defs /><rect fill=\"none\" height=\"100%\" stroke=\"red\" width=\"100%\" x=\"0%\" y=\"0%\" /><svg width=\"100%\" x=\"0\" y=\"0px\"><defs /><text text-anchor=\"middle\" x=\"50%\" y=\"16px\">V</text></svg></svg><line stroke=\"black\" x1=\"50%\" x2=\"50%\" y1=\"19.2px\" y2=\"48px\" /></svg><line stroke=\"black\" x1=\"50%\" x2=\"87.4016%\" y1=\"19.2px\" y2=\"48px\" /></svg>"
      ],
      "text/plain": [
       "TreeLayout(('S', ('NP', ('D', 'the\\ntest'), 'asdfasfasdf'), ('VP', 'V')))"
      ]
     },
     "execution_count": 4,
     "metadata": {},
     "output_type": "execute_result"
    }
   ],
   "source": [
    "#t.layout[1][0].options.debug = True# = svgling.core.TreeOptions(debug=True)\n",
    "t.set_subtree_style((0,), font_style=svgling.core.MONO)\n",
    "t.set_subtree_style((0,), font_size=10)\n",
    "t"
   ]
  },
  {
   "cell_type": "code",
   "execution_count": 5,
   "id": "09fe9744-94f1-4ee9-9cf0-5e6b14eb3f6e",
   "metadata": {},
   "outputs": [
    {
     "data": {
      "image/svg+xml": [
       "<svg baseProfile=\"full\" height=\"172px\" preserveAspectRatio=\"xMidYMid meet\" style=\"font-family: &quot;Lucida Console&quot;, Monaco, monospace; font-weight: normal; font-style: normal; font-size: 16px;\" version=\"1.1\" viewBox=\"0,0,127.0,172.0\" width=\"127px\" xmlns=\"http://www.w3.org/2000/svg\" xmlns:ev=\"http://www.w3.org/2001/xml-events\" xmlns:xlink=\"http://www.w3.org/1999/xlink\"><defs /><rect fill=\"none\" height=\"100%\" stroke=\"lightgray\" width=\"100%\" x=\"0\" y=\"0\" /><line stroke=\"lightgray\" x1=\"16px\" x2=\"16px\" y1=\"0\" y2=\"100%\" /><line stroke=\"lightgray\" x1=\"32px\" x2=\"32px\" y1=\"0\" y2=\"100%\" /><line stroke=\"lightgray\" x1=\"48px\" x2=\"48px\" y1=\"0\" y2=\"100%\" /><line stroke=\"lightgray\" x1=\"64px\" x2=\"64px\" y1=\"0\" y2=\"100%\" /><line stroke=\"lightgray\" x1=\"80px\" x2=\"80px\" y1=\"0\" y2=\"100%\" /><line stroke=\"lightgray\" x1=\"96px\" x2=\"96px\" y1=\"0\" y2=\"100%\" /><line stroke=\"lightgray\" x1=\"0\" x2=\"100%\" y1=\"16px\" y2=\"16px\" /><line stroke=\"lightgray\" x1=\"0\" x2=\"100%\" y1=\"32px\" y2=\"32px\" /><line stroke=\"lightgray\" x1=\"0\" x2=\"100%\" y1=\"48px\" y2=\"48px\" /><line stroke=\"lightgray\" x1=\"0\" x2=\"100%\" y1=\"64px\" y2=\"64px\" /><line stroke=\"lightgray\" x1=\"0\" x2=\"100%\" y1=\"80px\" y2=\"80px\" /><line stroke=\"lightgray\" x1=\"0\" x2=\"100%\" y1=\"96px\" y2=\"96px\" /><line stroke=\"lightgray\" x1=\"0\" x2=\"100%\" y1=\"112px\" y2=\"112px\" /><line stroke=\"lightgray\" x1=\"0\" x2=\"100%\" y1=\"128px\" y2=\"128px\" /><line stroke=\"lightgray\" x1=\"0\" x2=\"100%\" y1=\"144px\" y2=\"144px\" /><svg width=\"100%\" x=\"0\" y=\"0px\"><defs /><text text-anchor=\"middle\" x=\"50%\" y=\"16px\">S</text></svg><svg style=\"font-family: &quot;Lucida Console&quot;, Monaco, monospace; font-weight: normal; font-style: normal; font-size: 10px;\" width=\"74.8031%\" x=\"0%\" y=\"48px\"><defs /><rect fill=\"none\" height=\"100%\" stroke=\"red\" width=\"100%\" x=\"0%\" y=\"0%\" /><svg width=\"100%\" x=\"0\" y=\"3px\"><defs /><text text-anchor=\"middle\" x=\"50%\" y=\"10px\">NP</text></svg><svg width=\"31.5789%\" x=\"0%\" y=\"48px\"><defs /><rect fill=\"none\" height=\"100%\" stroke=\"red\" width=\"100%\" x=\"0%\" y=\"0%\" /><svg width=\"100%\" x=\"0\" y=\"3px\"><defs /><text text-anchor=\"middle\" x=\"50%\" y=\"10px\">D</text></svg><svg width=\"100%\" x=\"0%\" y=\"48px\"><defs /><rect fill=\"none\" height=\"100%\" stroke=\"red\" width=\"100%\" x=\"0%\" y=\"0%\" /><svg width=\"100%\" x=\"0\" y=\"0px\"><defs /><text text-anchor=\"middle\" x=\"50%\" y=\"10px\">the</text><text text-anchor=\"middle\" x=\"50%\" y=\"20px\">test</text></svg></svg><line stroke=\"black\" x1=\"50%\" x2=\"50%\" y1=\"16.2px\" y2=\"48px\" /></svg><line stroke=\"black\" x1=\"50%\" x2=\"15.7895%\" y1=\"16.2px\" y2=\"51px\" /><svg width=\"68.4211%\" x=\"31.5789%\" y=\"48px\"><defs /><rect fill=\"none\" height=\"100%\" stroke=\"red\" width=\"100%\" x=\"0%\" y=\"0%\" /><svg width=\"100%\" x=\"0\" y=\"3px\"><defs /><text text-anchor=\"middle\" x=\"50%\" y=\"10px\">asdfasfasdf</text></svg></svg><line stroke=\"black\" x1=\"50%\" x2=\"65.7895%\" y1=\"16.2px\" y2=\"51px\" /></svg><line stroke=\"black\" x1=\"50%\" x2=\"37.4016%\" y1=\"19.2px\" y2=\"51px\" /><svg style=\"font-family: times, serif; font-weight: normal; font-style: normal; font-size: 16px;\" width=\"25.1969%\" x=\"74.8031%\" y=\"48px\"><defs /><rect fill=\"none\" height=\"100%\" stroke=\"red\" width=\"100%\" x=\"0%\" y=\"0%\" /><svg width=\"100%\" x=\"0\" y=\"0px\"><defs /><text text-anchor=\"middle\" x=\"50%\" y=\"16px\">VP</text></svg><svg width=\"100%\" x=\"0%\" y=\"48px\"><defs /><rect fill=\"none\" height=\"100%\" stroke=\"red\" width=\"100%\" x=\"0%\" y=\"0%\" /><svg width=\"100%\" x=\"0\" y=\"0px\"><defs /><text text-anchor=\"middle\" x=\"50%\" y=\"16px\">V</text></svg></svg><line stroke=\"black\" x1=\"50%\" x2=\"50%\" y1=\"19.2px\" y2=\"48px\" /></svg><line stroke=\"black\" x1=\"50%\" x2=\"87.4016%\" y1=\"19.2px\" y2=\"48px\" /></svg>"
      ],
      "text/plain": [
       "TreeLayout(('S', ('NP', ('D', 'the\\ntest'), 'asdfasfasdf'), ('VP', 'V')))"
      ]
     },
     "execution_count": 5,
     "metadata": {},
     "output_type": "execute_result"
    }
   ],
   "source": [
    "t"
   ]
  },
  {
   "cell_type": "code",
   "execution_count": 6,
   "id": "cebba94b-ca23-440a-8c30-58c9aef72e8f",
   "metadata": {},
   "outputs": [
    {
     "data": {
      "image/svg+xml": [
       "<svg baseProfile=\"full\" height=\"105px\" preserveAspectRatio=\"xMidYMid meet\" style=\"font-family: times, serif; font-weight: normal; font-style: normal; font-size: 10px;\" version=\"1.1\" viewBox=\"0,0,110.0,105.0\" width=\"110px\" xmlns=\"http://www.w3.org/2000/svg\" xmlns:ev=\"http://www.w3.org/2001/xml-events\" xmlns:xlink=\"http://www.w3.org/1999/xlink\"><defs /><svg width=\"100%\" x=\"0\" y=\"0px\"><defs /><text text-anchor=\"middle\" x=\"50%\" y=\"10px\">S</text></svg><svg width=\"81.8182%\" x=\"0%\" y=\"30px\"><defs /><svg width=\"100%\" x=\"0\" y=\"0px\"><defs /><text text-anchor=\"middle\" x=\"50%\" y=\"10px\">NP</text></svg><svg width=\"27.7778%\" x=\"0%\" y=\"30px\"><defs /><svg width=\"100%\" x=\"0\" y=\"0px\"><defs /><text text-anchor=\"middle\" x=\"50%\" y=\"10px\">D</text></svg><svg width=\"100%\" x=\"0%\" y=\"30px\"><defs /><svg width=\"100%\" x=\"0\" y=\"0px\"><defs /><text text-anchor=\"middle\" x=\"50%\" y=\"10px\">the</text></svg></svg><line stroke=\"black\" x1=\"50%\" x2=\"50%\" y1=\"12px\" y2=\"30px\" /></svg><line stroke=\"black\" x1=\"50%\" x2=\"13.8889%\" y1=\"12px\" y2=\"30px\" /><svg width=\"72.2222%\" x=\"27.7778%\" y=\"30px\"><defs /><svg width=\"100%\" x=\"0\" y=\"0px\"><defs /><text text-anchor=\"middle\" x=\"50%\" y=\"10px\">asdfasfasdf</text></svg></svg><line stroke=\"black\" x1=\"50%\" x2=\"63.8889%\" y1=\"12px\" y2=\"30px\" /></svg><line stroke=\"black\" x1=\"50%\" x2=\"40.9091%\" y1=\"12px\" y2=\"30px\" /><svg width=\"18.1818%\" x=\"81.8182%\" y=\"30px\"><defs /><svg width=\"100%\" x=\"0\" y=\"0px\"><defs /><text text-anchor=\"middle\" x=\"50%\" y=\"10px\">VP</text></svg><svg width=\"100%\" x=\"0%\" y=\"30px\"><defs /><svg width=\"100%\" x=\"0\" y=\"0px\"><defs /><text text-anchor=\"middle\" x=\"50%\" y=\"10px\">V</text></svg></svg><line stroke=\"black\" x1=\"50%\" x2=\"50%\" y1=\"12px\" y2=\"30px\" /></svg><line stroke=\"black\" x1=\"50%\" x2=\"90.9091%\" y1=\"12px\" y2=\"30px\" /></svg>"
      ],
      "text/plain": [
       "TreeLayout(('S', ('NP', ('D', 'the'), 'asdfasfasdf'), ('VP', 'V')))"
      ]
     },
     "execution_count": 6,
     "metadata": {},
     "output_type": "execute_result"
    }
   ],
   "source": [
    "svgling.draw_tree((\"S\", (\"NP\", (\"D\", \"the\"), \"asdfasfasdf\"), (\"VP\", \"V\")), font_size=10)"
   ]
  },
  {
   "cell_type": "code",
   "execution_count": 7,
   "id": "608816c6-6205-4514-86c0-5d4cef8b2db3",
   "metadata": {},
   "outputs": [
    {
     "data": {
      "image/svg+xml": [
       "<svg baseProfile=\"full\" height=\"340px\" preserveAspectRatio=\"xMidYMid meet\" style=\"font-family: times, serif; font-weight: normal; font-style: normal; font-size: 16px;\" version=\"1.1\" viewBox=\"0,0,256.0,340.0\" width=\"256px\" xmlns=\"http://www.w3.org/2000/svg\" xmlns:ev=\"http://www.w3.org/2001/xml-events\" xmlns:xlink=\"http://www.w3.org/1999/xlink\"><defs /><svg width=\"100%\" x=\"0\" y=\"0px\"><defs /><text text-anchor=\"middle\" x=\"50%\" y=\"16px\">S</text></svg><svg style=\"font-family: times, serif; font-weight: normal; font-style: normal; font-size: 100px;\" width=\"87.5%\" x=\"0%\" y=\"48px\"><defs /><rect fill=\"none\" height=\"100%\" stroke=\"red\" width=\"100%\" x=\"0%\" y=\"0%\" /><svg width=\"100%\" x=\"0\" y=\"0px\"><defs /><text text-anchor=\"middle\" x=\"50%\" y=\"100px\">NP</text></svg><svg style=\"font-family: times, serif; font-weight: normal; font-style: normal; font-size: 16px;\" width=\"53.5714%\" x=\"0%\" y=\"132px\"><defs /><rect fill=\"none\" height=\"100%\" stroke=\"red\" width=\"100%\" x=\"0%\" y=\"0%\" /><svg width=\"100%\" x=\"0\" y=\"0px\"><defs /><text text-anchor=\"middle\" x=\"50%\" y=\"16px\">D</text></svg><svg style=\"font-family: times, serif; font-weight: normal; font-style: normal; font-size: 40px;\" width=\"100%\" x=\"0%\" y=\"48px\"><defs /><rect fill=\"none\" height=\"100%\" stroke=\"red\" width=\"100%\" x=\"0%\" y=\"0%\" /><svg width=\"100%\" x=\"0\" y=\"0px\"><defs /><text text-anchor=\"middle\" x=\"50%\" y=\"40px\">the</text><text text-anchor=\"middle\" x=\"50%\" y=\"80px\">test</text></svg></svg><line stroke=\"black\" x1=\"50%\" x2=\"50%\" y1=\"19.2px\" y2=\"48px\" /></svg><line stroke=\"black\" x1=\"50%\" x2=\"26.7857%\" y1=\"103.2px\" y2=\"132px\" /><svg style=\"font-family: times, serif; font-weight: normal; font-style: normal; font-size: 16px;\" width=\"46.4286%\" x=\"53.5714%\" y=\"180px\"><defs /><rect fill=\"none\" height=\"100%\" stroke=\"red\" width=\"100%\" x=\"0%\" y=\"0%\" /><svg width=\"100%\" x=\"0\" y=\"32px\"><defs /><text text-anchor=\"middle\" x=\"50%\" y=\"16px\">asdfasfasdf</text></svg></svg><line stroke=\"black\" x1=\"50%\" x2=\"76.7857%\" y1=\"103.2px\" y2=\"212px\" /></svg><line stroke=\"black\" x1=\"50%\" x2=\"43.75%\" y1=\"19.2px\" y2=\"48px\" /><svg width=\"12.5%\" x=\"87.5%\" y=\"48px\"><defs /><rect fill=\"none\" height=\"100%\" stroke=\"red\" width=\"100%\" x=\"0%\" y=\"0%\" /><svg width=\"100%\" x=\"0\" y=\"42px\"><defs /><text text-anchor=\"middle\" x=\"50%\" y=\"16px\">VP</text></svg><svg width=\"100%\" x=\"0%\" y=\"180px\"><defs /><rect fill=\"none\" height=\"100%\" stroke=\"red\" width=\"100%\" x=\"0%\" y=\"0%\" /><svg width=\"100%\" x=\"0\" y=\"32px\"><defs /><text text-anchor=\"middle\" x=\"50%\" y=\"16px\">V</text></svg></svg><line stroke=\"black\" x1=\"50%\" x2=\"50%\" y1=\"61.2px\" y2=\"212px\" /></svg><line stroke=\"black\" x1=\"50%\" x2=\"93.75%\" y1=\"19.2px\" y2=\"90px\" /><polyline fill=\"none\" points=\"60.0,316.0 60.0,332.0 172.0,332.0 172.0,323.2\" shape-rendering=\"crispEdges\" stroke=\"black\" stroke-width=\"1\" /><polyline fill=\"black\" points=\"175.0,323.2 172.0,316.0 169.0,323.2\" stroke=\"none\" /><rect fill=\"gray\" fill-opacity=\"0.15\" height=\"88px\" rx=\"8\" ry=\"8\" stroke=\"none\" stroke-width=\"1\" width=\"46.875%\" x=\"0%\" y=\"228px\" /><line shape-rendering=\"crispEdges\" stroke=\"black\" stroke-opacity=\"1.0\" stroke-width=\"1\" x1=\"0%\" x2=\"87.5%\" y1=\"316px\" y2=\"316px\" /><polyline fill=\"none\" points=\"60.0,316.0 60.0,332.0 172.0,332.0 172.0,323.2\" shape-rendering=\"crispEdges\" stroke=\"black\" stroke-width=\"1\" /><polyline fill=\"black\" points=\"175.0,323.2 172.0,316.0 169.0,323.2\" stroke=\"none\" /><rect fill=\"gray\" fill-opacity=\"0.15\" height=\"88px\" rx=\"8\" ry=\"8\" stroke=\"none\" stroke-width=\"1\" width=\"46.875%\" x=\"0%\" y=\"228px\" /><line shape-rendering=\"crispEdges\" stroke=\"black\" stroke-opacity=\"1.0\" stroke-width=\"1\" x1=\"0%\" x2=\"87.5%\" y1=\"316px\" y2=\"316px\" /></svg>"
      ],
      "text/plain": [
       "TreeLayout(('S', ('NP', ('D', 'the\\ntest'), 'asdfasfasdf'), ('VP', 'V')))"
      ]
     },
     "execution_count": 7,
     "metadata": {},
     "output_type": "execute_result"
    }
   ],
   "source": [
    "#t.set_subtree_style((0,0), font_size=20)\n",
    "reload(svgling.core)\n",
    "t = svgling.draw_tree((\"S\", (\"NP\", (\"D\", \"the\\ntest\"), \"asdfasfasdf\"), (\"VP\", \"V\")), leaf_nodes_align=True)\n",
    "t.set_subtree_style((), debug=True)\n",
    "# t.set_leaf_style(font_size=40, font_style=svgling.core.SERIF)\n",
    "t.set_node_style((0,), font_size=20, font_style=svgling.core.SERIF)\n",
    "t.set_node_style((0,0,0), font_size=40, font_style=svgling.core.SERIF)\n",
    "t.set_node_style((0,), font_size=100)\n",
    "t.movement_arrow((0,0,0), (0,1))\n",
    "t.box_constituent((0,0,0))\n",
    "t.underline_constituent((0,))\n",
    "t"
   ]
  },
  {
   "cell_type": "code",
   "execution_count": 8,
   "id": "5e9cb53c-efa9-4d4a-9467-84a5983ed008",
   "metadata": {},
   "outputs": [
    {
     "data": {
      "image/svg+xml": [
       "<svg baseProfile=\"full\" height=\"156px\" preserveAspectRatio=\"xMidYMid meet\" style=\"font-family: times, serif; font-weight: normal; font-style: normal; font-size: 16px;\" version=\"1.1\" viewBox=\"0,0,232.0,156.0\" width=\"232px\" xmlns=\"http://www.w3.org/2000/svg\" xmlns:ev=\"http://www.w3.org/2001/xml-events\" xmlns:xlink=\"http://www.w3.org/1999/xlink\"><defs /><svg width=\"100%\" x=\"0\" y=\"0px\"><defs /><text text-anchor=\"middle\" x=\"50%\" y=\"16px\">S</text></svg><svg style=\"font-family: times, serif; font-weight: normal; font-style: normal; font-size: 100px;\" width=\"86.2069%\" x=\"0%\" y=\"48px\"><defs /><rect fill=\"none\" height=\"100%\" stroke=\"red\" width=\"100%\" x=\"0%\" y=\"0%\" /><svg width=\"100%\" x=\"0\" y=\"0px\"><defs /><text stroke=\"red\" text-anchor=\"middle\" x=\"50%\" y=\"100px\">NP</text></svg></svg><line stroke=\"black\" x1=\"50%\" x2=\"43.1034%\" y1=\"19.2px\" y2=\"48px\" /><svg width=\"13.7931%\" x=\"86.2069%\" y=\"48px\"><defs /><rect fill=\"none\" height=\"100%\" stroke=\"red\" width=\"100%\" x=\"0%\" y=\"0%\" /><svg width=\"100%\" x=\"0\" y=\"42px\"><defs /><text text-anchor=\"middle\" x=\"50%\" y=\"16px\">VP</text></svg></svg><line stroke=\"black\" x1=\"50%\" x2=\"93.1034%\" y1=\"19.2px\" y2=\"90px\" /></svg>"
      ],
      "text/plain": [
       "TreeLayout(('S', 'NP', 'VP'))"
      ]
     },
     "execution_count": 8,
     "metadata": {},
     "output_type": "execute_result"
    }
   ],
   "source": [
    "#t.set_subtree_style((0,0), font_size=20)\n",
    "reload(svgling.core)\n",
    "t = svgling.draw_tree((\"S\", \"NP\", \"VP\"))\n",
    "t.set_subtree_style((), debug=True)\n",
    "t.set_node_style((0,), font_size=100, font_style=svgling.core.SERIF, text_stroke=\"red\")\n",
    "t"
   ]
  },
  {
   "cell_type": "code",
   "execution_count": 9,
   "id": "c5c7b687-6d60-4d38-8e77-94d8ea3a0efa",
   "metadata": {},
   "outputs": [
    {
     "data": {
      "image/svg+xml": [
       "<svg baseProfile=\"full\" height=\"450px\" preserveAspectRatio=\"xMidYMid meet\" style=\"font-family: times, serif; font-weight: normal; font-style: normal; font-size: 100px;\" version=\"1.1\" viewBox=\"0,0,400.0,450.0\" width=\"400px\" xmlns=\"http://www.w3.org/2000/svg\" xmlns:ev=\"http://www.w3.org/2001/xml-events\" xmlns:xlink=\"http://www.w3.org/1999/xlink\"><defs /><svg width=\"100%\" x=\"0\" y=\"0px\"><defs /><text text-anchor=\"middle\" x=\"50%\" y=\"100px\">S</text></svg><svg width=\"50%\" x=\"0%\" y=\"300px\"><defs /><rect fill=\"none\" height=\"100%\" stroke=\"red\" width=\"100%\" x=\"0%\" y=\"0%\" /><svg width=\"100%\" x=\"0\" y=\"0px\"><defs /><text text-anchor=\"middle\" x=\"50%\" y=\"100px\">NP</text></svg></svg><line stroke=\"black\" x1=\"50%\" x2=\"25%\" y1=\"120px\" y2=\"300px\" /><svg width=\"50%\" x=\"50%\" y=\"300px\"><defs /><rect fill=\"none\" height=\"100%\" stroke=\"red\" width=\"100%\" x=\"0%\" y=\"0%\" /><svg width=\"100%\" x=\"0\" y=\"0px\"><defs /><text text-anchor=\"middle\" x=\"50%\" y=\"100px\">VP</text></svg></svg><line stroke=\"black\" x1=\"50%\" x2=\"75%\" y1=\"120px\" y2=\"300px\" /></svg>"
      ],
      "text/plain": [
       "TreeLayout(('S', 'NP', 'VP'))"
      ]
     },
     "execution_count": 9,
     "metadata": {},
     "output_type": "execute_result"
    }
   ],
   "source": [
    "#t.set_subtree_style((0,0), font_size=20)\n",
    "t = svgling.draw_tree((\"S\", \"NP\", \"VP\"), font_size=100)\n",
    "t.set_subtree_style((), debug=True)\n",
    "t.set_node_style((0,), font_size=100, font_style=svgling.core.SERIF)\n",
    "t"
   ]
  },
  {
   "cell_type": "code",
   "execution_count": null,
   "id": "0bcdd8b6-2516-4c60-a379-4fa4e9d3cd18",
   "metadata": {},
   "outputs": [],
   "source": []
  },
  {
   "cell_type": "code",
   "execution_count": 11,
   "id": "d3f2fc10-47d1-4e6a-8134-3e66f7522c03",
   "metadata": {},
   "outputs": [
    {
     "data": {
      "text/plain": [
       "{'horiz_spacing': HorizSpacing.TEXT,\n",
       " 'vert_align': VertAlign.CENTER,\n",
       " 'leaf_padding': 2,\n",
       " 'distance_to_daughter': 2,\n",
       " 'debug': True,\n",
       " 'leaf_nodes_align': False,\n",
       " 'font_style': 'font-family: times, serif; font-weight: normal; font-style: normal;',\n",
       " 'average_glyph_width': 2.0,\n",
       " 'descend_direct': True,\n",
       " 'relative_units': False,\n",
       " 'font_size': 100,\n",
       " 'text_color': '',\n",
       " 'text_stroke': ''}"
      ]
     },
     "execution_count": 11,
     "metadata": {},
     "output_type": "execute_result"
    }
   ],
   "source": [
    "t.layout[0].options"
   ]
  },
  {
   "cell_type": "code",
   "execution_count": 12,
   "id": "1db8cc37-a88e-497c-8dfe-c25c6a383b94",
   "metadata": {},
   "outputs": [
    {
     "data": {
      "image/svg+xml": [
       "<svg baseProfile=\"full\" height=\"450px\" preserveAspectRatio=\"xMidYMid meet\" style=\"font-family: times, serif; font-weight: normal; font-style: normal; font-size: 100px;\" version=\"1.1\" viewBox=\"0,0,400.0,450.0\" width=\"400px\" xmlns=\"http://www.w3.org/2000/svg\" xmlns:ev=\"http://www.w3.org/2001/xml-events\" xmlns:xlink=\"http://www.w3.org/1999/xlink\"><defs /><svg width=\"100%\" x=\"0\" y=\"0px\"><defs /><text text-anchor=\"middle\" x=\"50%\" y=\"100px\">S</text></svg><svg width=\"50%\" x=\"0%\" y=\"300px\"><defs /><rect fill=\"none\" height=\"100%\" stroke=\"red\" width=\"100%\" x=\"0%\" y=\"0%\" /><svg width=\"100%\" x=\"0\" y=\"0px\"><defs /><text text-anchor=\"middle\" x=\"50%\" y=\"100px\">NP</text></svg></svg><line stroke=\"black\" x1=\"50%\" x2=\"25%\" y1=\"120px\" y2=\"300px\" /><svg width=\"50%\" x=\"50%\" y=\"300px\"><defs /><rect fill=\"none\" height=\"100%\" stroke=\"red\" width=\"100%\" x=\"0%\" y=\"0%\" /><svg width=\"100%\" x=\"0\" y=\"0px\"><defs /><text text-anchor=\"middle\" x=\"50%\" y=\"100px\">VP</text></svg></svg><line stroke=\"black\" x1=\"50%\" x2=\"75%\" y1=\"120px\" y2=\"300px\" /></svg>"
      ],
      "text/plain": [
       "TreeLayout(('S', 'NP', 'VP'))"
      ]
     },
     "execution_count": 12,
     "metadata": {},
     "output_type": "execute_result"
    }
   ],
   "source": [
    "t.layout[0].options.horiz_spacing = svgling.core.HorizSpacing.EVEN\n",
    "t"
   ]
  },
  {
   "cell_type": "code",
   "execution_count": 109,
   "id": "6dda64d7-deec-4ae8-be30-0e5caa52072a",
   "metadata": {},
   "outputs": [
    {
     "data": {
      "text/plain": [
       "{'horiz_spacing': HorizSpacing.TEXT,\n",
       " 'vert_align': VertAlign.CENTER,\n",
       " 'leaf_padding': 2,\n",
       " 'distance_to_daughter': 2,\n",
       " 'debug': False,\n",
       " 'leaf_nodes_align': False,\n",
       " 'font_style': 'test',\n",
       " 'average_glyph_width': 2.0,\n",
       " 'descend_direct': True,\n",
       " 'relative_units': True,\n",
       " 'font_size': 16}"
      ]
     },
     "execution_count": 109,
     "metadata": {},
     "output_type": "execute_result"
    }
   ],
   "source": [
    "svgling.core.TreeOptions(global_font_style=\"test\")"
   ]
  },
  {
   "cell_type": "code",
   "execution_count": 139,
   "id": "c376f8fa-04ca-4d6e-af0b-252939ebeb47",
   "metadata": {},
   "outputs": [
    {
     "data": {
      "text/plain": [
       "{'horiz_spacing': HorizSpacing.TEXT,\n",
       " 'vert_align': VertAlign.CENTER,\n",
       " 'leaf_padding': 2,\n",
       " 'distance_to_daughter': 2,\n",
       " 'debug': False,\n",
       " 'leaf_nodes_align': False,\n",
       " 'font_style': 'font-family: times, serif; font-weight:normal; font-style: normal;',\n",
       " 'average_glyph_width': 2.0,\n",
       " 'descend_direct': True,\n",
       " 'relative_units': True,\n",
       " 'font_size': 16}"
      ]
     },
     "execution_count": 139,
     "metadata": {},
     "output_type": "execute_result"
    }
   ],
   "source": [
    "o = svgling.core.TreeOptions()\n",
    "o"
   ]
  },
  {
   "cell_type": "code",
   "execution_count": null,
   "id": "20b5490c-dd64-468a-8a99-dbe1260f13b8",
   "metadata": {},
   "outputs": [],
   "source": []
  },
  {
   "cell_type": "code",
   "execution_count": 111,
   "id": "3405cf9c-7787-44d9-95e3-8edf8844e348",
   "metadata": {},
   "outputs": [
    {
     "data": {
      "text/plain": [
       "{'horiz_spacing': HorizSpacing.TEXT,\n",
       " 'vert_align': VertAlign.CENTER,\n",
       " 'leaf_padding': 2,\n",
       " 'distance_to_daughter': 2,\n",
       " 'debug': False,\n",
       " 'leaf_nodes_align': False,\n",
       " 'font_style': 'font-family: times, serif; font-weight:normal; font-style: normal;',\n",
       " 'average_glyph_width': 2.0,\n",
       " 'descend_direct': True,\n",
       " 'relative_units': True,\n",
       " 'font_size': 16}"
      ]
     },
     "execution_count": 111,
     "metadata": {},
     "output_type": "execute_result"
    }
   ],
   "source": [
    "svgling.core.TreeOptions(**o)"
   ]
  },
  {
   "cell_type": "code",
   "execution_count": 140,
   "id": "5392086b-730f-4d54-9327-8f9087090c8c",
   "metadata": {},
   "outputs": [
    {
     "data": {
      "text/plain": [
       "{'horiz_spacing': HorizSpacing.TEXT,\n",
       " 'vert_align': VertAlign.CENTER,\n",
       " 'leaf_padding': 2,\n",
       " 'distance_to_daughter': 2,\n",
       " 'debug': False,\n",
       " 'leaf_nodes_align': False,\n",
       " 'font_style': 'test',\n",
       " 'average_glyph_width': 2.0,\n",
       " 'descend_direct': True,\n",
       " 'relative_units': True,\n",
       " 'font_size': 16}"
      ]
     },
     "execution_count": 140,
     "metadata": {},
     "output_type": "execute_result"
    }
   ],
   "source": [
    "o2 = o.copy()\n",
    "o2.global_font_style = \"test\"\n",
    "o2"
   ]
  },
  {
   "cell_type": "code",
   "execution_count": 141,
   "id": "b602dd37-a042-4fa6-9304-80bb97146556",
   "metadata": {},
   "outputs": [
    {
     "data": {
      "text/plain": [
       "{'horiz_spacing': HorizSpacing.TEXT,\n",
       " 'vert_align': VertAlign.CENTER,\n",
       " 'leaf_padding': 2,\n",
       " 'distance_to_daughter': 2,\n",
       " 'debug': False,\n",
       " 'leaf_nodes_align': False,\n",
       " 'font_style': 'font-family: times, serif; font-weight:normal; font-style: normal;',\n",
       " 'average_glyph_width': 2.0,\n",
       " 'descend_direct': True,\n",
       " 'relative_units': True,\n",
       " 'font_size': 16}"
      ]
     },
     "execution_count": 141,
     "metadata": {},
     "output_type": "execute_result"
    }
   ],
   "source": [
    "o"
   ]
  },
  {
   "cell_type": "code",
   "execution_count": 144,
   "id": "e0119f68-135e-4f5a-adb0-58bdd5fb1cd9",
   "metadata": {},
   "outputs": [
    {
     "data": {
      "text/plain": [
       "{'horiz_spacing': HorizSpacing.TEXT,\n",
       " 'vert_align': VertAlign.CENTER,\n",
       " 'leaf_padding': 2,\n",
       " 'distance_to_daughter': 2,\n",
       " 'debug': False,\n",
       " 'leaf_nodes_align': False,\n",
       " 'font_style': 'font-family: times, serif; font-weight:normal; font-style: normal;',\n",
       " 'average_glyph_width': 2.0,\n",
       " 'descend_direct': True,\n",
       " 'relative_units': True,\n",
       " 'font_size': 16}"
      ]
     },
     "execution_count": 144,
     "metadata": {},
     "output_type": "execute_result"
    }
   ],
   "source": [
    "o1 = svgling.core.TreeOptions()\n",
    "o2 = svgling.core.TreeOptions()\n",
    "o1.font_style = \"test\"\n",
    "o2"
   ]
  },
  {
   "cell_type": "code",
   "execution_count": 339,
   "id": "f0bf60f5-6c51-408b-a715-ca5a8280ece6",
   "metadata": {},
   "outputs": [
    {
     "data": {
      "text/plain": [
       "[]"
      ]
     },
     "execution_count": 339,
     "metadata": {},
     "output_type": "execute_result"
    }
   ],
   "source": [
    "[None] * 0"
   ]
  },
  {
   "cell_type": "code",
   "execution_count": 24,
   "id": "2657d7ca-ca02-4fff-bd23-c9a1ad72f1a7",
   "metadata": {},
   "outputs": [
    {
     "name": "stdout",
     "output_type": "stream",
     "text": [
      "['/Users/krawlin2/Dropbox/notebooks/svgling', '/Users/krawlin2/miniforge3/envs/svgling_testing/lib/python311.zip', '/Users/krawlin2/miniforge3/envs/svgling_testing/lib/python3.11', '/Users/krawlin2/miniforge3/envs/svgling_testing/lib/python3.11/lib-dynload', '', '/Users/krawlin2/miniforge3/envs/svgling_testing/lib/python3.11/site-packages']\n"
     ]
    }
   ],
   "source": [
    "def test1():\n",
    "    import sys\n",
    "    return sys\n",
    "    \n",
    "def test2():\n",
    "    sys = test1()\n",
    "    print(sys.path)\n",
    "\n",
    "test2()"
   ]
  },
  {
   "cell_type": "code",
   "execution_count": null,
   "id": "97c5d221-0009-4fa5-b3c3-4974fc3ea96d",
   "metadata": {},
   "outputs": [],
   "source": []
  },
  {
   "cell_type": "code",
   "execution_count": null,
   "id": "e5f2f9a9-18a6-4a99-a218-a6593267a763",
   "metadata": {},
   "outputs": [],
   "source": []
  },
  {
   "cell_type": "code",
   "execution_count": 15,
   "id": "59f525e5-e04c-48ec-951e-79d06b501673",
   "metadata": {},
   "outputs": [
    {
     "data": {
      "image/svg+xml": [
       "<svg baseProfile=\"full\" height=\"88px\" preserveAspectRatio=\"xMidYMid meet\" style=\"font-family: times, serif; font-weight: normal; font-style: normal; font-size: 16px;\" version=\"1.1\" viewBox=\"0,0,48.0,88.0\" width=\"48px\" xmlns=\"http://www.w3.org/2000/svg\" xmlns:ev=\"http://www.w3.org/2001/xml-events\" xmlns:xlink=\"http://www.w3.org/1999/xlink\"><defs /><svg width=\"100%\" x=\"0\" y=\"0px\"><defs /><text text-anchor=\"middle\" x=\"50%\" y=\"16px\">test</text></svg><svg width=\"100%\" x=\"0%\" y=\"48px\"><defs /><svg width=\"100%\" x=\"0\" y=\"0px\"><defs /><text text-anchor=\"middle\" x=\"50%\" y=\"16px\">tes</text><text text-anchor=\"middle\" x=\"50%\" y=\"32px\">t2</text></svg></svg><line stroke=\"black\" x1=\"50%\" x2=\"50%\" y1=\"19.2px\" y2=\"48px\" /></svg>"
      ],
      "text/plain": [
       "Tree('test', ['tes\\nt2'])"
      ]
     },
     "execution_count": 15,
     "metadata": {},
     "output_type": "execute_result"
    }
   ],
   "source": [
    "import re\n",
    "open_b, close_b = \"()\"\n",
    "whitespace = r' \\t\\f\\v'\n",
    "open_pattern, close_pattern = (re.escape(open_b), re.escape(close_b))\n",
    "node_pattern = rf\"[^{whitespace}{open_pattern}{close_pattern}]+\"\n",
    "leaf_pattern = node_pattern\n",
    "\n",
    "nltk.Tree.fromstring(\"(test tes\\nt2)\", leaf_pattern=leaf_pattern, node_pattern=node_pattern)"
   ]
  },
  {
   "cell_type": "code",
   "execution_count": null,
   "id": "910e4c1e-2c12-47f3-8194-3413aae2a66d",
   "metadata": {},
   "outputs": [],
   "source": []
  },
  {
   "cell_type": "code",
   "execution_count": 14,
   "id": "c978f2ba-2011-4de6-b28f-58797932dd4e",
   "metadata": {},
   "outputs": [
    {
     "data": {
      "text/plain": [
       "'font-family: times, serif; font-weight: normal; font-style: normal;'"
      ]
     },
     "execution_count": 14,
     "metadata": {},
     "output_type": "execute_result"
    }
   ],
   "source": [
    "svgling.core.SERIF"
   ]
  },
  {
   "cell_type": "code",
   "execution_count": 26,
   "id": "df406816-6b6c-4dc4-8268-d72480e5e2df",
   "metadata": {},
   "outputs": [
    {
     "data": {
      "image/svg+xml": [
       "<svg baseProfile=\"full\" height=\"278px\" preserveAspectRatio=\"xMidYMid meet\" style=\"font-family: times, serif; font-weight: normal; font-style: normal; font-size: 20px\" version=\"1.1\" viewBox=\"0,0,456.0,278.0\" width=\"456px\" xmlns=\"http://www.w3.org/2000/svg\" xmlns:ev=\"http://www.w3.org/2001/xml-events\" xmlns:xlink=\"http://www.w3.org/1999/xlink\"><defs /><svg width=\"100%\" x=\"0\" y=\"0px\"><defs /><text text-anchor=\"middle\" x=\"50%\" y=\"20px\">S</text></svg><svg width=\"13.1579%\" x=\"0%\" y=\"70px\"><defs /><svg width=\"100%\" x=\"0\" y=\"0px\"><defs /><text text-anchor=\"middle\" x=\"50%\" y=\"20px\">NP</text></svg><svg width=\"100%\" x=\"0%\" y=\"70px\"><defs /><svg width=\"100%\" x=\"0\" y=\"0px\"><defs /><text text-anchor=\"middle\" x=\"50%\" y=\"20px\">PRON</text></svg><svg style=\"font-family: times, serif; font-weight: normal; font-style: normal; text-decoration: line-through; text-decoration-thickness: 2px; font-size: 28px\" width=\"100%\" x=\"0%\" y=\"70px\"><defs /><svg width=\"100%\" x=\"0\" y=\"0px\"><defs /><text fill=\"red\" text-anchor=\"middle\" x=\"50%\" y=\"28px\">he</text></svg></svg><line stroke=\"black\" x1=\"50%\" x2=\"50%\" y1=\"25px\" y2=\"70px\" /></svg><line stroke=\"black\" x1=\"50%\" x2=\"50%\" y1=\"25px\" y2=\"70px\" /></svg><line stroke=\"black\" x1=\"50%\" x2=\"6.57895%\" y1=\"25px\" y2=\"70px\" /><svg width=\"86.8421%\" x=\"13.1579%\" y=\"70px\"><defs /><svg width=\"100%\" x=\"0\" y=\"0px\"><defs /><text text-anchor=\"middle\" x=\"50%\" y=\"20px\">VP</text></svg><svg width=\"17.6768%\" x=\"0%\" y=\"70px\"><defs /><svg width=\"100%\" x=\"0\" y=\"0px\"><defs /><text text-anchor=\"middle\" x=\"50%\" y=\"20px\">PP</text></svg><svg style=\"font-family: times, serif; font-weight: normal; font-style: normal; font-size: 28px\" width=\"100%\" x=\"0%\" y=\"70px\"><defs /><svg width=\"100%\" x=\"0\" y=\"0px\"><defs /><text fill=\"navy\" text-anchor=\"middle\" x=\"50%\" y=\"28px\">...</text></svg></svg><line stroke=\"black\" x1=\"50%\" x2=\"50%\" y1=\"25px\" y2=\"70px\" /></svg><line stroke=\"black\" x1=\"50%\" x2=\"8.83838%\" y1=\"25px\" y2=\"70px\" /><svg width=\"21.2121%\" x=\"17.6768%\" y=\"70px\"><defs /><svg width=\"100%\" x=\"0\" y=\"0px\"><defs /><text text-anchor=\"middle\" x=\"50%\" y=\"20px\">PRON</text></svg><svg style=\"font-family: times, serif; font-weight: normal; font-style: normal; font-size: 28px\" width=\"100%\" x=\"0%\" y=\"70px\"><defs /><svg width=\"100%\" x=\"0\" y=\"0px\"><defs /><text fill=\"navy\" text-anchor=\"middle\" x=\"50%\" y=\"28px\">whom</text></svg></svg><line stroke=\"black\" x1=\"50%\" x2=\"50%\" y1=\"25px\" y2=\"70px\" /></svg><line stroke=\"black\" x1=\"50%\" x2=\"28.2828%\" y1=\"25px\" y2=\"70px\" /><svg width=\"28.2828%\" x=\"38.8889%\" y=\"70px\"><defs /><svg width=\"100%\" x=\"0\" y=\"0px\"><defs /><text text-anchor=\"middle\" x=\"50%\" y=\"20px\"><tspan>V</tspan><tspan dy=\"5px\" style=\"font-size: 15px\">AUX</tspan></text></svg><svg style=\"font-family: times, serif; font-weight: normal; font-style: normal; font-size: 28px\" width=\"100%\" x=\"0%\" y=\"70px\"><defs /><svg width=\"100%\" x=\"0\" y=\"0px\"><defs /><text fill=\"navy\" text-anchor=\"middle\" x=\"50%\" y=\"28px\">should</text></svg></svg><line stroke=\"black\" x1=\"50%\" x2=\"50%\" y1=\"29px\" y2=\"70px\" /></svg><line stroke=\"black\" x1=\"50%\" x2=\"53.0303%\" y1=\"25px\" y2=\"70px\" /><svg width=\"15.1515%\" x=\"67.1717%\" y=\"70px\"><defs /><svg width=\"100%\" x=\"0\" y=\"0px\"><defs /><text text-anchor=\"middle\" x=\"50%\" y=\"20px\">PRON</text></svg><svg style=\"font-family: times, serif; font-weight: normal; font-style: normal; font-size: 28px\" width=\"100%\" x=\"0%\" y=\"70px\"><defs /><svg width=\"100%\" x=\"0\" y=\"0px\"><defs /><text fill=\"red\" text-anchor=\"middle\" x=\"50%\" y=\"28px\">he</text></svg></svg><line stroke=\"black\" x1=\"50%\" x2=\"50%\" y1=\"25px\" y2=\"70px\" /></svg><line stroke=\"black\" x1=\"50%\" x2=\"74.7475%\" y1=\"25px\" y2=\"70px\" /><svg width=\"17.6768%\" x=\"82.3232%\" y=\"70px\"><defs /><svg width=\"100%\" x=\"0\" y=\"0px\"><defs /><text text-anchor=\"middle\" x=\"50%\" y=\"20px\">VP</text></svg><svg style=\"font-family: times, serif; font-weight: normal; font-style: normal; font-size: 28px\" width=\"100%\" x=\"0%\" y=\"70px\"><defs /><svg width=\"100%\" x=\"0\" y=\"0px\"><defs /><text fill=\"navy\" text-anchor=\"middle\" x=\"50%\" y=\"28px\">...</text></svg></svg><line stroke=\"black\" x1=\"50%\" x2=\"50%\" y1=\"25px\" y2=\"70px\" /></svg><line stroke=\"black\" x1=\"50%\" x2=\"91.1616%\" y1=\"25px\" y2=\"70px\" /></svg><line stroke=\"black\" x1=\"50%\" x2=\"56.5789%\" y1=\"25px\" y2=\"70px\" /><rect fill=\"gray\" fill-opacity=\"0.15\" height=\"38px\" rx=\"8\" ry=\"8\" stroke=\"none\" stroke-width=\"1\" width=\"13.1579%\" x=\"71.4912%\" y=\"210px\" /><polyline fill=\"none\" points=\"30.0,248.0 30.0,268.0 355.99999999999994,268.0 355.99999999999994,257.0\" shape-rendering=\"crispEdges\" stroke=\"purple\" stroke-width=\"1.8\" /><polyline fill=\"purple\" points=\"358.99999999999994,257.0 355.99999999999994,248.0 352.99999999999994,257.0\" stroke=\"none\" /><rect fill=\"gray\" fill-opacity=\"0.15\" height=\"38px\" rx=\"8\" ry=\"8\" stroke=\"none\" stroke-width=\"1\" width=\"13.1579%\" x=\"71.4912%\" y=\"210px\" /><polyline fill=\"none\" points=\"30.0,248.0 30.0,268.0 355.99999999999994,268.0 355.99999999999994,257.0\" shape-rendering=\"crispEdges\" stroke=\"purple\" stroke-width=\"1.8\" /><polyline fill=\"purple\" points=\"358.99999999999994,257.0 355.99999999999994,248.0 352.99999999999994,257.0\" stroke=\"none\" /></svg>"
      ],
      "text/plain": [
       "TreeLayout(('S', ('NP', ('PRON', 'he')), ('VP', ('PP', '...'), ('PRON', 'whom'), (DeferredNodePos(V_{AUX}), 'should'), ('PRON', 'he'), ('VP', '...'))))"
      ]
     },
     "execution_count": 26,
     "metadata": {},
     "output_type": "execute_result"
    }
   ],
   "source": [
    "t5 = (\"S\", (\"NP\", (\"PRON\", \"he\")), (\"VP\", (\"PP\", \"...\"), (\"PRON\", \"whom\"), (svgling.core.subscript_node(\"V\",\"AUX\"), \"should\"), (\"PRON\", \"he\"), (\"VP\", \"...\")))\n",
    "out = svgling.draw_tree(t5, font_size = 20, distance_to_daughter=2.5)\n",
    "out.set_leaf_style(font_size = 28, text_color = 'navy')\n",
    "strikethrough = svgling.core.SERIF + \" text-decoration: line-through; text-decoration-thickness: 2px;\"\n",
    "out.set_node_style((0, 0, 0), font_size = 28, text_color = 'red', font_style=strikethrough)\n",
    "out.set_node_style((1, 3, 0), font_size = 28, text_color = 'red')\n",
    "out.box_constituent((1, 3, 0))\n",
    "# out.set_edge_style((1,4,1,1,0), svgling.core.TriangleEdge())\n",
    "out.movement_arrow((0, 0, 0), (1, 3, 0), stroke_width=1.8, stroke=\"purple\")\n",
    "out\n"
   ]
  },
  {
   "cell_type": "code",
   "execution_count": null,
   "id": "06bed047-df2c-41bf-8944-b3c9da9d7d4c",
   "metadata": {},
   "outputs": [],
   "source": []
  }
 ],
 "metadata": {
  "kernelspec": {
   "display_name": "Python 3 (ipykernel)",
   "language": "python",
   "name": "python3"
  },
  "language_info": {
   "codemirror_mode": {
    "name": "ipython",
    "version": 3
   },
   "file_extension": ".py",
   "mimetype": "text/x-python",
   "name": "python",
   "nbconvert_exporter": "python",
   "pygments_lexer": "ipython3",
   "version": "3.12.2"
  }
 },
 "nbformat": 4,
 "nbformat_minor": 5
}
