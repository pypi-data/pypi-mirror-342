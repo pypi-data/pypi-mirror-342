{
 "cells": [
  {
   "cell_type": "code",
   "execution_count": 88,
   "id": "2a26976d-ebc9-40ba-902e-4ced383e5ca7",
   "metadata": {},
   "outputs": [],
   "source": [
    "import svgling\n",
    "import importlib"
   ]
  },
  {
   "cell_type": "code",
   "execution_count": 101,
   "id": "ce99f91c-08b0-4c9d-b2bd-989d1670c048",
   "metadata": {},
   "outputs": [
    {
     "data": {
      "text/plain": [
       "<module 'svgling.core' from '/Users/advil/Dropbox/notebooks/svgling/svgling/core.py'>"
      ]
     },
     "execution_count": 101,
     "metadata": {},
     "output_type": "execute_result"
    }
   ],
   "source": [
    "importlib.reload(svgling.core)"
   ]
  },
  {
   "cell_type": "code",
   "execution_count": null,
   "id": "77d192a5-937d-40a5-818f-b8c06c47db84",
   "metadata": {},
   "outputs": [],
   "source": []
  },
  {
   "cell_type": "code",
   "execution_count": 102,
   "id": "384c1587-f157-4c41-8315-28643c01cbf9",
   "metadata": {},
   "outputs": [
    {
     "data": {
      "image/svg+xml": [
       "<svg baseProfile=\"full\" height=\"216px\" preserveAspectRatio=\"xMidYMid meet\" style=\"font-family: times, serif; font-weight: normal; font-style: normal; font-size: 16px\" version=\"1.1\" viewBox=\"0,0,232.0,216.0\" width=\"232px\" xmlns=\"http://www.w3.org/2000/svg\" xmlns:ev=\"http://www.w3.org/2001/xml-events\" xmlns:xlink=\"http://www.w3.org/1999/xlink\"><defs /><rect fill=\"none\" height=\"100%\" stroke=\"lightgray\" width=\"100%\" x=\"0\" y=\"0\" /><line stroke=\"lightgray\" x1=\"16px\" x2=\"16px\" y1=\"0\" y2=\"100%\" /><line stroke=\"lightgray\" x1=\"32px\" x2=\"32px\" y1=\"0\" y2=\"100%\" /><line stroke=\"lightgray\" x1=\"48px\" x2=\"48px\" y1=\"0\" y2=\"100%\" /><line stroke=\"lightgray\" x1=\"64px\" x2=\"64px\" y1=\"0\" y2=\"100%\" /><line stroke=\"lightgray\" x1=\"80px\" x2=\"80px\" y1=\"0\" y2=\"100%\" /><line stroke=\"lightgray\" x1=\"96px\" x2=\"96px\" y1=\"0\" y2=\"100%\" /><line stroke=\"lightgray\" x1=\"112px\" x2=\"112px\" y1=\"0\" y2=\"100%\" /><line stroke=\"lightgray\" x1=\"128px\" x2=\"128px\" y1=\"0\" y2=\"100%\" /><line stroke=\"lightgray\" x1=\"144px\" x2=\"144px\" y1=\"0\" y2=\"100%\" /><line stroke=\"lightgray\" x1=\"160px\" x2=\"160px\" y1=\"0\" y2=\"100%\" /><line stroke=\"lightgray\" x1=\"176px\" x2=\"176px\" y1=\"0\" y2=\"100%\" /><line stroke=\"lightgray\" x1=\"192px\" x2=\"192px\" y1=\"0\" y2=\"100%\" /><line stroke=\"lightgray\" x1=\"208px\" x2=\"208px\" y1=\"0\" y2=\"100%\" /><line stroke=\"lightgray\" x1=\"0\" x2=\"100%\" y1=\"16px\" y2=\"16px\" /><line stroke=\"lightgray\" x1=\"0\" x2=\"100%\" y1=\"32px\" y2=\"32px\" /><line stroke=\"lightgray\" x1=\"0\" x2=\"100%\" y1=\"48px\" y2=\"48px\" /><line stroke=\"lightgray\" x1=\"0\" x2=\"100%\" y1=\"64px\" y2=\"64px\" /><line stroke=\"lightgray\" x1=\"0\" x2=\"100%\" y1=\"80px\" y2=\"80px\" /><line stroke=\"lightgray\" x1=\"0\" x2=\"100%\" y1=\"96px\" y2=\"96px\" /><line stroke=\"lightgray\" x1=\"0\" x2=\"100%\" y1=\"112px\" y2=\"112px\" /><line stroke=\"lightgray\" x1=\"0\" x2=\"100%\" y1=\"128px\" y2=\"128px\" /><line stroke=\"lightgray\" x1=\"0\" x2=\"100%\" y1=\"144px\" y2=\"144px\" /><line stroke=\"lightgray\" x1=\"0\" x2=\"100%\" y1=\"160px\" y2=\"160px\" /><line stroke=\"lightgray\" x1=\"0\" x2=\"100%\" y1=\"176px\" y2=\"176px\" /><line stroke=\"lightgray\" x1=\"0\" x2=\"100%\" y1=\"192px\" y2=\"192px\" /><svg width=\"100%\" x=\"0\" y=\"0px\"><defs /><text text-anchor=\"middle\" x=\"50%\" y=\"16px\">S</text></svg><svg width=\"65.5172%\" x=\"0%\" y=\"48px\"><defs /><rect fill=\"none\" height=\"100%\" stroke=\"red\" width=\"100%\" x=\"0%\" y=\"0%\" /><svg width=\"100%\" x=\"0\" y=\"8px\"><defs /><text text-anchor=\"middle\" x=\"50%\" y=\"16px\">NP</text></svg><svg width=\"31.5789%\" x=\"0%\" y=\"64px\"><defs /><rect fill=\"none\" height=\"100%\" stroke=\"red\" width=\"100%\" x=\"0%\" y=\"0%\" /><svg width=\"100%\" x=\"0\" y=\"8px\"><defs /><text text-anchor=\"middle\" x=\"50%\" y=\"16px\">D</text></svg><svg width=\"100%\" x=\"0%\" y=\"24px\"><defs /><rect fill=\"none\" height=\"100%\" stroke=\"red\" width=\"100%\" x=\"0%\" y=\"0%\" /><svg width=\"100%\" x=\"0\" y=\"0px\"><defs /><text text-anchor=\"middle\" x=\"50%\" y=\"16px\">the</text><text text-anchor=\"middle\" x=\"50%\" y=\"32px\">test</text></svg></svg></svg><line stroke=\"black\" x1=\"50%\" x2=\"15.7895%\" y1=\"28px\" y2=\"72px\" /><svg width=\"68.4211%\" x=\"31.5789%\" y=\"24px\"><defs /><rect fill=\"none\" height=\"100%\" stroke=\"red\" width=\"100%\" x=\"0%\" y=\"0%\" /><svg width=\"100%\" x=\"0\" y=\"8px\"><defs /><text text-anchor=\"middle\" x=\"50%\" y=\"16px\">asdfasfasdf</text></svg></svg></svg><line stroke=\"black\" x1=\"50%\" x2=\"32.7586%\" y1=\"20px\" y2=\"56px\" /><svg width=\"13.7931%\" x=\"65.5172%\" y=\"48px\"><defs /><rect fill=\"none\" height=\"100%\" stroke=\"red\" width=\"100%\" x=\"0%\" y=\"0%\" /><svg width=\"100%\" x=\"0\" y=\"8px\"><defs /><text text-anchor=\"middle\" x=\"50%\" y=\"16px\">VP</text></svg><svg width=\"100%\" x=\"0%\" y=\"64px\"><defs /><rect fill=\"none\" height=\"100%\" stroke=\"red\" width=\"100%\" x=\"0%\" y=\"0%\" /><svg width=\"100%\" x=\"0\" y=\"8px\"><defs /><text text-anchor=\"middle\" x=\"50%\" y=\"16px\">V</text></svg><svg width=\"100%\" x=\"0%\" y=\"24px\"><defs /><rect fill=\"none\" height=\"100%\" stroke=\"red\" width=\"100%\" x=\"0%\" y=\"0%\" /><svg width=\"100%\" x=\"0\" y=\"8px\"><defs /><text text-anchor=\"middle\" x=\"50%\" y=\"16px\">V0</text></svg></svg></svg><line stroke=\"black\" x1=\"50%\" x2=\"50%\" y1=\"28px\" y2=\"72px\" /></svg><line stroke=\"black\" x1=\"50%\" x2=\"72.4138%\" y1=\"20px\" y2=\"56px\" /><svg width=\"20.6897%\" x=\"79.3103%\" y=\"48px\"><defs /><rect fill=\"none\" height=\"100%\" stroke=\"red\" width=\"100%\" x=\"0%\" y=\"0%\" /><svg width=\"100%\" x=\"0\" y=\"0px\"><defs /><text text-anchor=\"middle\" x=\"50%\" y=\"16px\">X</text><text text-anchor=\"middle\" x=\"50%\" y=\"32px\">Y</text></svg><svg width=\"50%\" x=\"0%\" y=\"32px\"><defs /><rect fill=\"none\" height=\"100%\" stroke=\"red\" width=\"100%\" x=\"0%\" y=\"0%\" /><svg width=\"100%\" x=\"0\" y=\"8px\"><defs /><text text-anchor=\"middle\" x=\"50%\" y=\"16px\">X</text></svg></svg><svg width=\"50%\" x=\"50%\" y=\"32px\"><defs /><rect fill=\"none\" height=\"100%\" stroke=\"red\" width=\"100%\" x=\"0%\" y=\"0%\" /><svg width=\"100%\" x=\"0\" y=\"0px\"><defs /><text text-anchor=\"middle\" x=\"50%\" y=\"16px\">X</text><text text-anchor=\"middle\" x=\"50%\" y=\"32px\">Y</text></svg></svg></svg><line stroke=\"black\" x1=\"50%\" x2=\"89.6552%\" y1=\"20px\" y2=\"48px\" /></svg>"
      ],
      "text/plain": [
       "TreeLayout(('S', ('NP', ('D', 'the\\ntest'), 'asdfasfasdf'), ('VP', ('V', 'V0')), ('X\\nY', 'X', 'X\\nY')))"
      ]
     },
     "execution_count": 102,
     "metadata": {},
     "output_type": "execute_result"
    }
   ],
   "source": [
    "t = svgling.draw_tree((\"S\", (\"NP\", (\"D\", \"the\\ntest\"), \"asdfasfasdf\"), (\"VP\", (\"V\", \"V0\")), (\"X\\nY\", \"X\", \"X\\nY\")), descend_direct=False, leaf_edges=False, leaf_nodes_align=False, debug=True)\n",
    "t"
   ]
  },
  {
   "cell_type": "code",
   "execution_count": 103,
   "id": "0a0ddd2b-d4ad-4ef2-8b42-90fbc4f7bb4f",
   "metadata": {},
   "outputs": [
    {
     "data": {
      "image/svg+xml": [
       "<svg baseProfile=\"full\" height=\"184px\" preserveAspectRatio=\"xMidYMid meet\" style=\"font-family: times, serif; font-weight: normal; font-style: normal; font-size: 16px\" version=\"1.1\" viewBox=\"0,0,232.0,184.0\" width=\"232px\" xmlns=\"http://www.w3.org/2000/svg\" xmlns:ev=\"http://www.w3.org/2001/xml-events\" xmlns:xlink=\"http://www.w3.org/1999/xlink\"><defs /><rect fill=\"none\" height=\"100%\" stroke=\"lightgray\" width=\"100%\" x=\"0\" y=\"0\" /><line stroke=\"lightgray\" x1=\"16px\" x2=\"16px\" y1=\"0\" y2=\"100%\" /><line stroke=\"lightgray\" x1=\"32px\" x2=\"32px\" y1=\"0\" y2=\"100%\" /><line stroke=\"lightgray\" x1=\"48px\" x2=\"48px\" y1=\"0\" y2=\"100%\" /><line stroke=\"lightgray\" x1=\"64px\" x2=\"64px\" y1=\"0\" y2=\"100%\" /><line stroke=\"lightgray\" x1=\"80px\" x2=\"80px\" y1=\"0\" y2=\"100%\" /><line stroke=\"lightgray\" x1=\"96px\" x2=\"96px\" y1=\"0\" y2=\"100%\" /><line stroke=\"lightgray\" x1=\"112px\" x2=\"112px\" y1=\"0\" y2=\"100%\" /><line stroke=\"lightgray\" x1=\"128px\" x2=\"128px\" y1=\"0\" y2=\"100%\" /><line stroke=\"lightgray\" x1=\"144px\" x2=\"144px\" y1=\"0\" y2=\"100%\" /><line stroke=\"lightgray\" x1=\"160px\" x2=\"160px\" y1=\"0\" y2=\"100%\" /><line stroke=\"lightgray\" x1=\"176px\" x2=\"176px\" y1=\"0\" y2=\"100%\" /><line stroke=\"lightgray\" x1=\"192px\" x2=\"192px\" y1=\"0\" y2=\"100%\" /><line stroke=\"lightgray\" x1=\"208px\" x2=\"208px\" y1=\"0\" y2=\"100%\" /><line stroke=\"lightgray\" x1=\"0\" x2=\"100%\" y1=\"16px\" y2=\"16px\" /><line stroke=\"lightgray\" x1=\"0\" x2=\"100%\" y1=\"32px\" y2=\"32px\" /><line stroke=\"lightgray\" x1=\"0\" x2=\"100%\" y1=\"48px\" y2=\"48px\" /><line stroke=\"lightgray\" x1=\"0\" x2=\"100%\" y1=\"64px\" y2=\"64px\" /><line stroke=\"lightgray\" x1=\"0\" x2=\"100%\" y1=\"80px\" y2=\"80px\" /><line stroke=\"lightgray\" x1=\"0\" x2=\"100%\" y1=\"96px\" y2=\"96px\" /><line stroke=\"lightgray\" x1=\"0\" x2=\"100%\" y1=\"112px\" y2=\"112px\" /><line stroke=\"lightgray\" x1=\"0\" x2=\"100%\" y1=\"128px\" y2=\"128px\" /><line stroke=\"lightgray\" x1=\"0\" x2=\"100%\" y1=\"144px\" y2=\"144px\" /><line stroke=\"lightgray\" x1=\"0\" x2=\"100%\" y1=\"160px\" y2=\"160px\" /><svg width=\"100%\" x=\"0\" y=\"0px\"><defs /><text text-anchor=\"middle\" x=\"50%\" y=\"16px\">S</text></svg><svg width=\"65.5172%\" x=\"0%\" y=\"48px\"><defs /><rect fill=\"none\" height=\"100%\" stroke=\"red\" width=\"100%\" x=\"0%\" y=\"0%\" /><svg width=\"100%\" x=\"0\" y=\"0px\"><defs /><text text-anchor=\"middle\" x=\"50%\" y=\"16px\">NP</text></svg><svg width=\"31.5789%\" x=\"0%\" y=\"48px\"><defs /><rect fill=\"none\" height=\"100%\" stroke=\"red\" width=\"100%\" x=\"0%\" y=\"0%\" /><svg width=\"100%\" x=\"0\" y=\"0px\"><defs /><text text-anchor=\"middle\" x=\"50%\" y=\"16px\">D</text></svg><svg width=\"100%\" x=\"0%\" y=\"48px\"><defs /><rect fill=\"none\" height=\"100%\" stroke=\"red\" width=\"100%\" x=\"0%\" y=\"0%\" /><svg width=\"100%\" x=\"0\" y=\"0px\"><defs /><text text-anchor=\"middle\" x=\"50%\" y=\"16px\">the</text><text text-anchor=\"middle\" x=\"50%\" y=\"32px\">test</text></svg></svg><line stroke=\"black\" x1=\"50%\" x2=\"50%\" y1=\"20px\" y2=\"48px\" /></svg><line stroke=\"black\" x1=\"50%\" x2=\"15.7895%\" y1=\"20px\" y2=\"48px\" /><svg width=\"68.4211%\" x=\"31.5789%\" y=\"96px\"><defs /><rect fill=\"none\" height=\"100%\" stroke=\"red\" width=\"100%\" x=\"0%\" y=\"0%\" /><svg width=\"100%\" x=\"0\" y=\"8px\"><defs /><text text-anchor=\"middle\" x=\"50%\" y=\"16px\">asdfasfasdf</text></svg></svg><line stroke=\"black\" x1=\"50%\" x2=\"65.7895%\" y1=\"20px\" y2=\"104px\" /></svg><line stroke=\"black\" x1=\"50%\" x2=\"32.7586%\" y1=\"20px\" y2=\"48px\" /><svg width=\"13.7931%\" x=\"65.5172%\" y=\"48px\"><defs /><rect fill=\"none\" height=\"100%\" stroke=\"red\" width=\"100%\" x=\"0%\" y=\"0%\" /><svg width=\"100%\" x=\"0\" y=\"0px\"><defs /><text text-anchor=\"middle\" x=\"50%\" y=\"16px\">VP</text></svg><svg width=\"100%\" x=\"0%\" y=\"48px\"><defs /><rect fill=\"none\" height=\"100%\" stroke=\"red\" width=\"100%\" x=\"0%\" y=\"0%\" /><svg width=\"100%\" x=\"0\" y=\"0px\"><defs /><text text-anchor=\"middle\" x=\"50%\" y=\"16px\">V</text></svg><svg width=\"100%\" x=\"0%\" y=\"48px\"><defs /><rect fill=\"none\" height=\"100%\" stroke=\"red\" width=\"100%\" x=\"0%\" y=\"0%\" /><svg width=\"100%\" x=\"0\" y=\"8px\"><defs /><text text-anchor=\"middle\" x=\"50%\" y=\"16px\">V0</text></svg></svg><line stroke=\"black\" x1=\"50%\" x2=\"50%\" y1=\"20px\" y2=\"56px\" /></svg><line stroke=\"black\" x1=\"50%\" x2=\"50%\" y1=\"20px\" y2=\"48px\" /></svg><line stroke=\"black\" x1=\"50%\" x2=\"72.4138%\" y1=\"20px\" y2=\"48px\" /><svg width=\"20.6897%\" x=\"79.3103%\" y=\"48px\"><defs /><rect fill=\"none\" height=\"100%\" stroke=\"red\" width=\"100%\" x=\"0%\" y=\"0%\" /><svg width=\"100%\" x=\"0\" y=\"0px\"><defs /><text text-anchor=\"middle\" x=\"50%\" y=\"16px\">X</text></svg><svg width=\"50%\" x=\"0%\" y=\"96px\"><defs /><rect fill=\"none\" height=\"100%\" stroke=\"red\" width=\"100%\" x=\"0%\" y=\"0%\" /><svg width=\"100%\" x=\"0\" y=\"8px\"><defs /><text text-anchor=\"middle\" x=\"50%\" y=\"16px\">X</text></svg></svg><line stroke=\"black\" x1=\"50%\" x2=\"25%\" y1=\"20px\" y2=\"104px\" /><svg width=\"50%\" x=\"50%\" y=\"96px\"><defs /><rect fill=\"none\" height=\"100%\" stroke=\"red\" width=\"100%\" x=\"0%\" y=\"0%\" /><svg width=\"100%\" x=\"0\" y=\"8px\"><defs /><text text-anchor=\"middle\" x=\"50%\" y=\"16px\">X</text></svg></svg><line stroke=\"black\" x1=\"50%\" x2=\"75%\" y1=\"20px\" y2=\"104px\" /></svg><line stroke=\"black\" x1=\"50%\" x2=\"89.6552%\" y1=\"20px\" y2=\"48px\" /></svg>"
      ],
      "text/plain": [
       "TreeLayout(('S', ('NP', ('D', 'the\\ntest'), 'asdfasfasdf'), ('VP', ('V', 'V0')), ('X', 'X', 'X')))"
      ]
     },
     "execution_count": 103,
     "metadata": {},
     "output_type": "execute_result"
    }
   ],
   "source": [
    "t = svgling.draw_tree((\"S\", (\"NP\", (\"D\", \"the\\ntest\"), \"asdfasfasdf\"), (\"VP\", (\"V\", \"V0\")), (\"X\", \"X\", \"X\")), leaf_nodes_align=True, debug=True)\n",
    "t"
   ]
  },
  {
   "cell_type": "code",
   "execution_count": 105,
   "id": "2f1ccc5e-601c-4dc4-b3a3-3cf73673ed58",
   "metadata": {},
   "outputs": [
    {
     "data": {
      "image/svg+xml": [
       "<svg baseProfile=\"full\" height=\"184px\" preserveAspectRatio=\"xMidYMid meet\" style=\"font-family: times, serif; font-weight: normal; font-style: normal; font-size: 16px\" version=\"1.1\" viewBox=\"0,0,232.0,184.0\" width=\"232px\" xmlns=\"http://www.w3.org/2000/svg\" xmlns:ev=\"http://www.w3.org/2001/xml-events\" xmlns:xlink=\"http://www.w3.org/1999/xlink\"><defs /><rect fill=\"none\" height=\"100%\" stroke=\"lightgray\" width=\"100%\" x=\"0\" y=\"0\" /><line stroke=\"lightgray\" x1=\"16px\" x2=\"16px\" y1=\"0\" y2=\"100%\" /><line stroke=\"lightgray\" x1=\"32px\" x2=\"32px\" y1=\"0\" y2=\"100%\" /><line stroke=\"lightgray\" x1=\"48px\" x2=\"48px\" y1=\"0\" y2=\"100%\" /><line stroke=\"lightgray\" x1=\"64px\" x2=\"64px\" y1=\"0\" y2=\"100%\" /><line stroke=\"lightgray\" x1=\"80px\" x2=\"80px\" y1=\"0\" y2=\"100%\" /><line stroke=\"lightgray\" x1=\"96px\" x2=\"96px\" y1=\"0\" y2=\"100%\" /><line stroke=\"lightgray\" x1=\"112px\" x2=\"112px\" y1=\"0\" y2=\"100%\" /><line stroke=\"lightgray\" x1=\"128px\" x2=\"128px\" y1=\"0\" y2=\"100%\" /><line stroke=\"lightgray\" x1=\"144px\" x2=\"144px\" y1=\"0\" y2=\"100%\" /><line stroke=\"lightgray\" x1=\"160px\" x2=\"160px\" y1=\"0\" y2=\"100%\" /><line stroke=\"lightgray\" x1=\"176px\" x2=\"176px\" y1=\"0\" y2=\"100%\" /><line stroke=\"lightgray\" x1=\"192px\" x2=\"192px\" y1=\"0\" y2=\"100%\" /><line stroke=\"lightgray\" x1=\"208px\" x2=\"208px\" y1=\"0\" y2=\"100%\" /><line stroke=\"lightgray\" x1=\"0\" x2=\"100%\" y1=\"16px\" y2=\"16px\" /><line stroke=\"lightgray\" x1=\"0\" x2=\"100%\" y1=\"32px\" y2=\"32px\" /><line stroke=\"lightgray\" x1=\"0\" x2=\"100%\" y1=\"48px\" y2=\"48px\" /><line stroke=\"lightgray\" x1=\"0\" x2=\"100%\" y1=\"64px\" y2=\"64px\" /><line stroke=\"lightgray\" x1=\"0\" x2=\"100%\" y1=\"80px\" y2=\"80px\" /><line stroke=\"lightgray\" x1=\"0\" x2=\"100%\" y1=\"96px\" y2=\"96px\" /><line stroke=\"lightgray\" x1=\"0\" x2=\"100%\" y1=\"112px\" y2=\"112px\" /><line stroke=\"lightgray\" x1=\"0\" x2=\"100%\" y1=\"128px\" y2=\"128px\" /><line stroke=\"lightgray\" x1=\"0\" x2=\"100%\" y1=\"144px\" y2=\"144px\" /><line stroke=\"lightgray\" x1=\"0\" x2=\"100%\" y1=\"160px\" y2=\"160px\" /><svg width=\"100%\" x=\"0\" y=\"0px\"><defs /><text text-anchor=\"middle\" x=\"50%\" y=\"16px\">S</text></svg><svg width=\"65.5172%\" x=\"0%\" y=\"48px\"><defs /><rect fill=\"none\" height=\"100%\" stroke=\"red\" width=\"100%\" x=\"0%\" y=\"0%\" /><svg width=\"100%\" x=\"0\" y=\"0px\"><defs /><text text-anchor=\"middle\" x=\"50%\" y=\"16px\">NP</text></svg><svg width=\"31.5789%\" x=\"0%\" y=\"48px\"><defs /><rect fill=\"none\" height=\"100%\" stroke=\"red\" width=\"100%\" x=\"0%\" y=\"0%\" /><svg width=\"100%\" x=\"0\" y=\"0px\"><defs /><text text-anchor=\"middle\" x=\"50%\" y=\"16px\">D</text></svg><svg width=\"100%\" x=\"0%\" y=\"32px\"><defs /><rect fill=\"none\" height=\"100%\" stroke=\"red\" width=\"100%\" x=\"0%\" y=\"0%\" /><svg width=\"100%\" x=\"0\" y=\"0px\"><defs /><text text-anchor=\"middle\" x=\"50%\" y=\"16px\">the</text><text text-anchor=\"middle\" x=\"50%\" y=\"32px\">test</text></svg></svg></svg><line stroke=\"black\" x1=\"50%\" x2=\"15.7895%\" y1=\"20px\" y2=\"48px\" /><svg width=\"68.4211%\" x=\"31.5789%\" y=\"32px\"><defs /><rect fill=\"none\" height=\"100%\" stroke=\"red\" width=\"100%\" x=\"0%\" y=\"0%\" /><svg width=\"100%\" x=\"0\" y=\"0px\"><defs /><text text-anchor=\"middle\" x=\"50%\" y=\"16px\">asdfasfasdf</text></svg></svg></svg><line stroke=\"black\" x1=\"50%\" x2=\"32.7586%\" y1=\"20px\" y2=\"48px\" /><svg width=\"13.7931%\" x=\"65.5172%\" y=\"48px\"><defs /><rect fill=\"none\" height=\"100%\" stroke=\"red\" width=\"100%\" x=\"0%\" y=\"0%\" /><svg width=\"100%\" x=\"0\" y=\"0px\"><defs /><text text-anchor=\"middle\" x=\"50%\" y=\"16px\">VP</text></svg><svg width=\"100%\" x=\"0%\" y=\"48px\"><defs /><rect fill=\"none\" height=\"100%\" stroke=\"red\" width=\"100%\" x=\"0%\" y=\"0%\" /><svg width=\"100%\" x=\"0\" y=\"0px\"><defs /><text text-anchor=\"middle\" x=\"50%\" y=\"16px\">V</text></svg><svg width=\"100%\" x=\"0%\" y=\"32px\"><defs /><rect fill=\"none\" height=\"100%\" stroke=\"red\" width=\"100%\" x=\"0%\" y=\"0%\" /><svg width=\"100%\" x=\"0\" y=\"8px\"><defs /><text text-anchor=\"middle\" x=\"50%\" y=\"16px\">V0</text></svg></svg></svg><line stroke=\"black\" x1=\"50%\" x2=\"50%\" y1=\"20px\" y2=\"48px\" /></svg><line stroke=\"black\" x1=\"50%\" x2=\"72.4138%\" y1=\"20px\" y2=\"48px\" /><svg width=\"20.6897%\" x=\"79.3103%\" y=\"48px\"><defs /><rect fill=\"none\" height=\"100%\" stroke=\"red\" width=\"100%\" x=\"0%\" y=\"0%\" /><svg width=\"100%\" x=\"0\" y=\"0px\"><defs /><text text-anchor=\"middle\" x=\"50%\" y=\"16px\">X</text></svg><svg width=\"50%\" x=\"0%\" y=\"32px\"><defs /><rect fill=\"none\" height=\"100%\" stroke=\"red\" width=\"100%\" x=\"0%\" y=\"0%\" /><svg width=\"100%\" x=\"0\" y=\"0px\"><defs /><text text-anchor=\"middle\" x=\"50%\" y=\"16px\">X</text></svg></svg><svg width=\"50%\" x=\"50%\" y=\"32px\"><defs /><rect fill=\"none\" height=\"100%\" stroke=\"red\" width=\"100%\" x=\"0%\" y=\"0%\" /><svg width=\"100%\" x=\"0\" y=\"0px\"><defs /><text text-anchor=\"middle\" x=\"50%\" y=\"16px\">X</text></svg></svg></svg><line stroke=\"black\" x1=\"50%\" x2=\"89.6552%\" y1=\"20px\" y2=\"48px\" /></svg>"
      ],
      "text/plain": [
       "TreeLayout(('S', ('NP', ('D', 'the\\ntest'), 'asdfasfasdf'), ('VP', ('V', 'V0')), ('X', 'X', 'X')))"
      ]
     },
     "execution_count": 105,
     "metadata": {},
     "output_type": "execute_result"
    }
   ],
   "source": [
    "svgling.core.EmptyEdge.default_distance = 1.0\n",
    "t = svgling.draw_tree((\"S\", (\"NP\", (\"D\", \"the\\ntest\"), \"asdfasfasdf\"), (\"VP\", (\"V\", \"V0\")), (\"X\", \"X\", \"X\")), descend_direct=False, leaf_edges=False, leaf_nodes_align=False, debug=True)\n",
    "t"
   ]
  },
  {
   "cell_type": "code",
   "execution_count": 71,
   "id": "c4cbfe14-6af6-4aaf-b375-b8f2523599e3",
   "metadata": {},
   "outputs": [
    {
     "data": {
      "text/plain": [
       "2"
      ]
     },
     "execution_count": 71,
     "metadata": {},
     "output_type": "execute_result"
    }
   ],
   "source": [
    "svgling.core.TreeOptions().distance_to_daughter"
   ]
  },
  {
   "cell_type": "code",
   "execution_count": 8,
   "id": "e87f723f-32c0-4c89-a5a6-647470692e28",
   "metadata": {},
   "outputs": [
    {
     "data": {
      "text/plain": [
       "['/Users/advil/Dropbox/notebooks/svgling/svgling']"
      ]
     },
     "execution_count": 8,
     "metadata": {},
     "output_type": "execute_result"
    }
   ],
   "source": [
    "svgling.__path__"
   ]
  },
  {
   "cell_type": "code",
   "execution_count": null,
   "id": "012d01a9-f1a3-4996-94e2-ed708f0008ae",
   "metadata": {},
   "outputs": [],
   "source": []
  }
 ],
 "metadata": {
  "kernelspec": {
   "display_name": "Python 3 (ipykernel)",
   "language": "python",
   "name": "python3"
  },
  "language_info": {
   "codemirror_mode": {
    "name": "ipython",
    "version": 3
   },
   "file_extension": ".py",
   "mimetype": "text/x-python",
   "name": "python",
   "nbconvert_exporter": "python",
   "pygments_lexer": "ipython3",
   "version": "3.12.2"
  }
 },
 "nbformat": 4,
 "nbformat_minor": 5
}
