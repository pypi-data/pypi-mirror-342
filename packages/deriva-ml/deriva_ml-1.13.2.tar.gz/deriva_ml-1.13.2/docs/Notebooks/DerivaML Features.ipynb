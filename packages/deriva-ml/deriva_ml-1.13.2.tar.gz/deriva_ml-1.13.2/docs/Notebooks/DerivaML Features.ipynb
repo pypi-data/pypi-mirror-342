{
 "cells": [
  {
   "cell_type": "markdown",
   "id": "94ffee41-4986-4196-b35d-b38b6e10490a",
   "metadata": {},
   "source": [
    "# DerivaML Features\n",
    "\n",
    "DerivaML is a class library built on the Deriva Scientific Asset management system that is designed to help simplify a number of the basic operations associated with building and testing ML libraries based on common toolkits such as TensorFlow.  This notebook reviews the basic features of the DerivaML library.\n",
    "\n",
    "\n",
    "In DerivaML, \"features\" are the way we attach values to objects in the catalog. A feature could be a computed value that serves as input to a ML model, or it could be a label, that is the result of running a model.  A feature can be a controlled vocabulary term, an asset, or a value.\n",
    "\n",
    "Each feature in the catalog is distinguished by the name of the feature, the identity of the object that the feature is being attached to, and the execution RID of the process that generated the feature value\n",
    "\n",
    "## Set up Deriva for test case"
   ]
  },
  {
   "cell_type": "code",
   "id": "ff605747-195b-40a1-b915-0e799f8d0748",
   "metadata": {
    "ExecuteTime": {
     "end_time": "2025-04-22T03:38:20.736687Z",
     "start_time": "2025-04-22T03:38:20.715297Z"
    }
   },
   "source": [
    "%load_ext autoreload\n",
    "%autoreload 2"
   ],
   "outputs": [],
   "execution_count": 1
  },
  {
   "metadata": {
    "ExecuteTime": {
     "end_time": "2025-04-22T03:38:22.483756Z",
     "start_time": "2025-04-22T03:38:20.911290Z"
    }
   },
   "cell_type": "code",
   "source": [
    "import builtins\n",
    "from deriva.core.utils.globus_auth_utils import GlobusNativeLogin\n",
    "from deriva_ml import ColumnDefinition, BuiltinTypes, MLVocab, DerivaSystemColumns\n",
    "from deriva_ml.demo_catalog import create_demo_catalog, DemoML\n",
    "from deriva_ml import ExecutionConfiguration\n",
    "from IPython.display import display, Markdown, HTML\n",
    "import itertools\n",
    "import pandas as pd\n",
    "import random"
   ],
   "id": "e38951f9bf858b58",
   "outputs": [],
   "execution_count": 2
  },
  {
   "metadata": {},
   "cell_type": "markdown",
   "source": "Set the details for the catalog we want and authenticate to the server if needed.",
   "id": "6a3738109c9344d1"
  },
  {
   "cell_type": "code",
   "id": "9ee79ab7-a3f7-4c69-9c80-336871c13ec2",
   "metadata": {
    "ExecuteTime": {
     "end_time": "2025-04-22T03:38:22.739018Z",
     "start_time": "2025-04-22T03:38:22.680641Z"
    }
   },
   "source": [
    "hostname = 'dev.eye-ai.org'\n",
    "domain_schema = 'demo-schema'\n",
    "\n",
    "gnl = GlobusNativeLogin(host=hostname)\n",
    "if gnl.is_logged_in([hostname]):\n",
    "    print(\"You are already logged in.\")\n",
    "else:\n",
    "    gnl.login([hostname], no_local_server=True, no_browser=True, refresh_tokens=True, update_bdbag_keychain=True)\n",
    "    print(\"Login Successful\")"
   ],
   "outputs": [
    {
     "name": "stdout",
     "output_type": "stream",
     "text": [
      "You are already logged in.\n"
     ]
    }
   ],
   "execution_count": 3
  },
  {
   "metadata": {},
   "cell_type": "markdown",
   "source": "Create a test catalog and get an instance of the DerivaML class.",
   "id": "a23e5177-106b-48b6-b5e0-a126d35f4084"
  },
  {
   "cell_type": "code",
   "id": "e9bddcf0-27ea-40b3-a388-b77635586fad",
   "metadata": {
    "ExecuteTime": {
     "end_time": "2025-04-22T03:38:45.615740Z",
     "start_time": "2025-04-22T03:38:22.814109Z"
    }
   },
   "source": [
    "test_catalog = create_demo_catalog(hostname, domain_schema)\n",
    "ml_instance = DemoML(hostname, test_catalog.catalog_id)\n",
    "display(f\"Created demo catalog at {hostname}:{test_catalog.catalog_id}\")"
   ],
   "outputs": [
    {
     "name": "stderr",
     "output_type": "stream",
     "text": [
      "2025-04-21 20:38:39,192 - deriva_ml.WARNING - File /Users/carl/Repos/Projects/deriva-ml/docs/Notebooks/DerivaML Features.ipynb has been modified since last commit. Consider commiting before executing\n"
     ]
    },
    {
     "data": {
      "text/plain": [
       "<IPython.core.display.Markdown object>"
      ],
      "text/markdown": "Execution RID: https://dev.eye-ai.org/id/1945/3N4@336-NDRD-QM4A"
     },
     "metadata": {},
     "output_type": "display_data"
    },
    {
     "data": {
      "text/plain": [
       "'Created demo catalog at dev.eye-ai.org:1945'"
      ]
     },
     "metadata": {},
     "output_type": "display_data"
    }
   ],
   "execution_count": 4
  },
  {
   "cell_type": "markdown",
   "id": "353d51c9-b8a6-4b75-a0da-ffa2db134169",
   "metadata": {},
   "source": [
    "## Define Features\n",
    "A feature is a set of values that are attached to a table in the DerivaML catalog. Instances of features are distinguished from one another by the ID of the execution that produced the feature value. The execution could be the result of a program, or it could be a manual process by which a person defines a set of values\n",
    "\n",
    "To create a new feature, we need to know the name of the feature, the table to which it is attached, and the set of values that make up the feature.  The values could be terms from a controlled vocabulary, a set of one or more file based assets, or other values, such as integers, or strings. However, use of strings outside of controlled vocabularies is discouraged.\n",
    "\n",
    "For our example, we are going to define three features.  Two of them will use values from a controlled vocabulary, which we need to\n",
    "create.  The third feature will consist of a file whose contents we will generate.  To start, we will need to create the controlled \n",
    "vocabularies, and create an asset table for the feature values."
   ]
  },
  {
   "cell_type": "code",
   "id": "1d726b44-c60f-435a-9966-cfe3fc3da2e9",
   "metadata": {
    "ExecuteTime": {
     "end_time": "2025-04-22T03:38:48.659931Z",
     "start_time": "2025-04-22T03:38:45.649179Z"
    }
   },
   "source": [
    "# Prerequisites for our feature, which will include a CV term and asset.\n",
    "\n",
    "# Create a vocabulary and add a term to it to use in our features.\n",
    "ml_instance.create_vocabulary(\"SubjectHealth\", \"A vocab\")\n",
    "ml_instance.add_term(\"SubjectHealth\", \"Sick\", description=\"The subject self reports that they are sick\")\n",
    "ml_instance.add_term(\"SubjectHealth\", \"Well\", description=\"The subject self reports that they feel well\")\n",
    "\n",
    "ml_instance.create_vocabulary(\"ImageQuality\", \"Controlled vocabulary for image quality\")\n",
    "ml_instance.add_term(\"ImageQuality\", \"Good\", description=\"The image is good\")\n",
    "ml_instance.add_term(\"ImageQuality\", \"Bad\", description=\"The image is bad\")\n",
    "\n",
    "box_asset = ml_instance.create_asset(\"BoundingBox\", comment=\"A file that contains a cropped version of a image\")"
   ],
   "outputs": [],
   "execution_count": 5
  },
  {
   "metadata": {},
   "cell_type": "markdown",
   "source": [
    "We are now ready to create our new features. Each feature will be associated with a table, have a name, and then the set of values that \n",
    "define the feature. After we create the features, we can list the features associated with each table type that we have."
   ],
   "id": "ef0ada11d1d5e769"
  },
  {
   "metadata": {
    "ExecuteTime": {
     "end_time": "2025-04-22T03:38:51.259083Z",
     "start_time": "2025-04-22T03:38:48.688217Z"
    }
   },
   "cell_type": "code",
   "source": [
    "ml_instance.create_feature(\"Subject\", \"Health\",\n",
    "                                        terms=[\"SubjectHealth\"],\n",
    "                                        metadata=[ColumnDefinition(name='Scale', type=BuiltinTypes.int2, nullok=True)],\n",
    "                           optional=['Scale'])\n",
    "\n",
    "ml_instance.create_feature('Image', 'BoundingBox', assets=[box_asset])\n",
    "ml_instance.create_feature('Image', 'Quality', terms=[\"ImageQuality\"])\n",
    "\n",
    "display(\n",
    "    [f'{f.target_table.name}:{f.feature_name}' for f in ml_instance.find_features(\"Subject\")],\n",
    "    [f'{f.target_table.name}:{f.feature_name}' for f in ml_instance.find_features(\"Image\")]\n",
    ")"
   ],
   "id": "8dcaabf3e33a1f9d",
   "outputs": [
    {
     "data": {
      "text/plain": [
       "['Subject:Health']"
      ]
     },
     "metadata": {},
     "output_type": "display_data"
    },
    {
     "data": {
      "text/plain": [
       "['Image:BoundingBox', 'Image:Quality']"
      ]
     },
     "metadata": {},
     "output_type": "display_data"
    }
   ],
   "execution_count": 6
  },
  {
   "cell_type": "markdown",
   "id": "83d2bd27-da2d-4918-9c8a-378c95addfcc",
   "metadata": {},
   "source": [
    "Now we can add some features to our images.  To streamline the creation of new feature, we create a class that is specific to the arguments required to create it."
   ]
  },
  {
   "cell_type": "code",
   "id": "7f6b68c6-4bc0-4837-a2b6-729d116a8702",
   "metadata": {
    "ExecuteTime": {
     "end_time": "2025-04-22T03:38:51.319350Z",
     "start_time": "2025-04-22T03:38:51.283326Z"
    }
   },
   "source": [
    "ImageQualityFeature = ml_instance.feature_record_class(\"Image\", \"Quality\")\n",
    "ImageBoundingboxFeature = ml_instance.feature_record_class(\"Image\", \"BoundingBox\")\n",
    "SubjectWellnessFeature= ml_instance.feature_record_class(\"Subject\", \"Health\")\n",
    "\n",
    "display(\n",
    "    Markdown('### SubjectWellnessFeature'),\n",
    "    Markdown(f'* feature_columns: ' f'```{[c.name for c in SubjectWellnessFeature.feature_columns()]}```'),\n",
    "    Markdown(f'* required columns: ' f'```{[c.name  for c in SubjectWellnessFeature.feature_columns() if not c.nullok]}```'),\n",
    "    Markdown(f'* term columns: ' f'```{[c.name for c in SubjectWellnessFeature.term_columns()]}```'),\n",
    "    Markdown(f'* value columns: ' f'```{[c.name for c in SubjectWellnessFeature.value_columns()]}```'),\n",
    "    Markdown(f'* asset columns: ' f'```{[c.name for c in SubjectWellnessFeature.asset_columns()]}```'),\n",
    "\n",
    "    Markdown('### ImageQualityFeature'),\n",
    "    Markdown( f'* feature_columns:* ' f'```{[c.name for c in ImageQualityFeature.feature_columns()]}```'),\n",
    "    Markdown(f'*  required columns:* ' f'```{[c.name  for c in ImageQualityFeature.feature_columns() if not c.nullok]}```'),\n",
    "    Markdown(f'* term columns: * ' f'```{[c.name for c in ImageQualityFeature.term_columns()]}```'),\n",
    "    Markdown(f'* value columns: * ' f'```{[c.name for c in ImageQualityFeature.value_columns()]}```'),\n",
    "    Markdown(f'* asset columns: * ' f'```{[c.name for c in ImageQualityFeature.asset_columns()]}```'),\n",
    "\n",
    "    Markdown('### ImageBoundingboxFeature'),\n",
    "    Markdown( f'* feature_columns:* ' f'```{[c.name for c in ImageBoundingboxFeature.feature_columns()]}```'),\n",
    "    Markdown(f'* required columns:* ' f'```{[c.name  for c in ImageBoundingboxFeature.feature_columns() if not c.nullok]}```'),\n",
    "    Markdown( f'* term columns:* ' f'```{[c.name for c in ImageBoundingboxFeature.term_columns()]}```'),\n",
    "    Markdown( f'* value columns:* ' f'```{[c.name for c in ImageBoundingboxFeature.value_columns()]}```'),\n",
    "    Markdown( f'* asset columns:* ' f'```{[c.name for c in ImageBoundingboxFeature.asset_columns()]}```'),\n",
    ")"
   ],
   "outputs": [
    {
     "data": {
      "text/plain": [
       "<IPython.core.display.Markdown object>"
      ],
      "text/markdown": "### SubjectWellnessFeature"
     },
     "metadata": {},
     "output_type": "display_data"
    },
    {
     "data": {
      "text/plain": [
       "<IPython.core.display.Markdown object>"
      ],
      "text/markdown": "* feature_columns: ```['SubjectHealth', 'Scale']```"
     },
     "metadata": {},
     "output_type": "display_data"
    },
    {
     "data": {
      "text/plain": [
       "<IPython.core.display.Markdown object>"
      ],
      "text/markdown": "* required columns: ```['SubjectHealth']```"
     },
     "metadata": {},
     "output_type": "display_data"
    },
    {
     "data": {
      "text/plain": [
       "<IPython.core.display.Markdown object>"
      ],
      "text/markdown": "* term columns: ```['SubjectHealth']```"
     },
     "metadata": {},
     "output_type": "display_data"
    },
    {
     "data": {
      "text/plain": [
       "<IPython.core.display.Markdown object>"
      ],
      "text/markdown": "* value columns: ```['Scale']```"
     },
     "metadata": {},
     "output_type": "display_data"
    },
    {
     "data": {
      "text/plain": [
       "<IPython.core.display.Markdown object>"
      ],
      "text/markdown": "* asset columns: ```[]```"
     },
     "metadata": {},
     "output_type": "display_data"
    },
    {
     "data": {
      "text/plain": [
       "<IPython.core.display.Markdown object>"
      ],
      "text/markdown": "### ImageQualityFeature"
     },
     "metadata": {},
     "output_type": "display_data"
    },
    {
     "data": {
      "text/plain": [
       "<IPython.core.display.Markdown object>"
      ],
      "text/markdown": "* feature_columns:* ```['ImageQuality']```"
     },
     "metadata": {},
     "output_type": "display_data"
    },
    {
     "data": {
      "text/plain": [
       "<IPython.core.display.Markdown object>"
      ],
      "text/markdown": "*  required columns:* ```['ImageQuality']```"
     },
     "metadata": {},
     "output_type": "display_data"
    },
    {
     "data": {
      "text/plain": [
       "<IPython.core.display.Markdown object>"
      ],
      "text/markdown": "* term columns: * ```['ImageQuality']```"
     },
     "metadata": {},
     "output_type": "display_data"
    },
    {
     "data": {
      "text/plain": [
       "<IPython.core.display.Markdown object>"
      ],
      "text/markdown": "* value columns: * ```[]```"
     },
     "metadata": {},
     "output_type": "display_data"
    },
    {
     "data": {
      "text/plain": [
       "<IPython.core.display.Markdown object>"
      ],
      "text/markdown": "* asset columns: * ```[]```"
     },
     "metadata": {},
     "output_type": "display_data"
    },
    {
     "data": {
      "text/plain": [
       "<IPython.core.display.Markdown object>"
      ],
      "text/markdown": "### ImageBoundingboxFeature"
     },
     "metadata": {},
     "output_type": "display_data"
    },
    {
     "data": {
      "text/plain": [
       "<IPython.core.display.Markdown object>"
      ],
      "text/markdown": "* feature_columns:* ```['BoundingBox']```"
     },
     "metadata": {},
     "output_type": "display_data"
    },
    {
     "data": {
      "text/plain": [
       "<IPython.core.display.Markdown object>"
      ],
      "text/markdown": "* required columns:* ```['BoundingBox']```"
     },
     "metadata": {},
     "output_type": "display_data"
    },
    {
     "data": {
      "text/plain": [
       "<IPython.core.display.Markdown object>"
      ],
      "text/markdown": "* term columns:* ```[]```"
     },
     "metadata": {},
     "output_type": "display_data"
    },
    {
     "data": {
      "text/plain": [
       "<IPython.core.display.Markdown object>"
      ],
      "text/markdown": "* value columns:* ```[]```"
     },
     "metadata": {},
     "output_type": "display_data"
    },
    {
     "data": {
      "text/plain": [
       "<IPython.core.display.Markdown object>"
      ],
      "text/markdown": "* asset columns:* ```['BoundingBox']```"
     },
     "metadata": {},
     "output_type": "display_data"
    }
   ],
   "execution_count": 7
  },
  {
   "cell_type": "markdown",
   "id": "92416df1-e3f9-4097-bc19-b24712dc7242",
   "metadata": {},
   "source": [
    "## Add feature values\n",
    "\n",
    "Now using feature classes, we can create some instances of the feature and add them.  We must have a execution_rid in order to define the feature. In our example, we will assume that the execution that calculates the feature values will use a model file to configure it, so ww will need to create and upload the file before we can start the execution."
   ]
  },
  {
   "cell_type": "code",
   "id": "cdcc8f5c-874b-4bf9-89ef-e1ea90b9f91f",
   "metadata": {
    "ExecuteTime": {
     "end_time": "2025-04-22T03:38:53.377330Z",
     "start_time": "2025-04-22T03:38:51.400502Z"
    }
   },
   "source": [
    "ml_instance.add_term(MLVocab.workflow_type, \"Feature Notebook Workflow\", description=\"A Workflow that uses Deriva ML API\")\n",
    "ml_instance.add_term(MLVocab.asset_type, \"API_Model\", description=\"Model for our Notebook workflow\")\n",
    "\n",
    "# Get the workflow for this notebook\n",
    "notebook_workflow = ml_instance.create_workflow(\n",
    "    name=\"API Workflow\", \n",
    "    workflow_type=\"Feature Notebook Workflow\"\n",
    ")\n",
    "\n",
    "feature_execution = ml_instance.create_execution(\n",
    "    ExecutionConfiguration(\n",
    "        workflow=notebook_workflow,\n",
    "        description=\"Our Sample Workflow instance\")\n",
    ")"
   ],
   "outputs": [
    {
     "name": "stderr",
     "output_type": "stream",
     "text": [
      "2025-04-21 20:38:52,090 - deriva_ml.WARNING - File /Users/carl/Repos/Projects/deriva-ml/docs/Notebooks/DerivaML Features.ipynb has been modified since last commit. Consider commiting before executing\n"
     ]
    },
    {
     "data": {
      "text/plain": [
       "<IPython.core.display.Markdown object>"
      ],
      "text/markdown": "Execution RID: https://dev.eye-ai.org/id/1945/49W@336-NDS5-VDP6"
     },
     "metadata": {},
     "output_type": "display_data"
    },
    {
     "name": "stderr",
     "output_type": "stream",
     "text": [
      "2025-04-21 20:38:52,689 - deriva_ml.INFO - Downloading assets ...\n",
      "2025-04-21 20:38:53,255 - deriva_ml.INFO - Initialize status finished.\n"
     ]
    }
   ],
   "execution_count": 8
  },
  {
   "metadata": {
    "ExecuteTime": {
     "end_time": "2025-04-22T03:38:53.667134Z",
     "start_time": "2025-04-22T03:38:53.400323Z"
    }
   },
   "cell_type": "code",
   "source": [
    "# Get the IDs of al of the things that we are going to want to attach features to.\n",
    "subject_rids = [i['RID'] for i in ml_instance.domain_path.tables['Subject'].entities().fetch()]\n",
    "image_rids = [i['RID'] for i in ml_instance.domain_path.tables['Image'].entities().fetch()]"
   ],
   "id": "f99531b95369739d",
   "outputs": [],
   "execution_count": 9
  },
  {
   "metadata": {},
   "cell_type": "markdown",
   "source": "Now that we have the list of objects that we want to add features to, we can define the sets of feature values we want to record and then add these features in the catalog.",
   "id": "11eb83790ebd673c"
  },
  {
   "metadata": {
    "ExecuteTime": {
     "end_time": "2025-04-22T03:40:35.741920Z",
     "start_time": "2025-04-22T03:40:31.027715Z"
    }
   },
   "cell_type": "code",
   "source": [
    "# Create a new set of images.  For fun, lets wrap this in an execution so we get status updates\n",
    "image_bounding_box_feature_list = []\n",
    "for cnt, image_rid in enumerate(image_rids):\n",
    "    bounding_box_file = feature_execution.asset_file_path(\"BoundingBox\", f\"box{cnt}.txt\")\n",
    "    with open(bounding_box_file, \"w\") as fp:\n",
    "        fp.write(f\"Hi there {cnt}\")\n",
    "    image_bounding_box_feature_list.append(   ImageBoundingboxFeature(Image=image_rid, BoundingBox=bounding_box_file)\n",
    "    )\n",
    "\n",
    "image_quality_feature_list = [\n",
    "    ImageQualityFeature(\n",
    "        Image=image_rid,\n",
    "        ImageQuality=[\"Good\", \"Bad\"][random.randint(0, 1)],\n",
    "    )\n",
    "    for image_rid in image_rids\n",
    "]\n",
    "\n",
    "subject_feature_list = [\n",
    "    SubjectWellnessFeature(\n",
    "        Subject=subject_rid,\n",
    "        SubjectHealth=[\"Well\", \"Sick\"][random.randint(0, 1)],\n",
    "        Scale=random.randint(1, 10),\n",
    "    )\n",
    "    for subject_rid in subject_rids\n",
    "]\n",
    "\n",
    "with feature_execution.execute() as execution:\n",
    "    feature_execution.add_features(image_bounding_box_feature_list)\n",
    "    feature_execution.add_features(image_quality_feature_list)\n",
    "    feature_execution.add_features(subject_feature_list)\n",
    "\n",
    "# Upload all of the new assets that we have created during the execution.\n",
    "feature_execution.upload_execution_outputs()"
   ],
   "id": "bf0c2b3fe320ecea",
   "outputs": [
    {
     "name": "stderr",
     "output_type": "stream",
     "text": [
      "2025-04-21 20:40:31,585 - deriva_ml.INFO - Start execution  ...\n",
      "2025-04-21 20:40:31,702 - deriva_ml.INFO - Start execution  ...\n",
      "2025-04-21 20:40:31,829 - deriva_ml.INFO - Successfully run Ml.\n",
      "2025-04-21 20:40:31,945 - deriva_ml.INFO - Algorithm execution ended.\n",
      "2025-04-21 20:40:32,235 - deriva_ml.INFO - Uploading execution files...\n",
      "2025-04-21 20:40:32,351 - deriva.transfer.upload.deriva_upload.INFO - Initializing uploader: GenericUploader v1.7.7 [Python 3.10.16, macOS-15.4.1-x86_64-i386-64bit]\n",
      "2025-04-21 20:40:32,501 - deriva.transfer.upload.deriva_upload.INFO - Scanning files in directory [/Users/carl/deriva-ml/DemoML_working/deriva-ml/execution/49W/asset]...\n",
      "2025-04-21 20:40:32,502 - deriva.transfer.upload.deriva_upload.INFO - Including file: [/Users/carl/deriva-ml/DemoML_working/deriva-ml/execution/49W/asset/demo-schema/BoundingBox/box1.txt].\n",
      "2025-04-21 20:40:32,503 - deriva.transfer.upload.deriva_upload.INFO - Including file: [/Users/carl/deriva-ml/DemoML_working/deriva-ml/execution/49W/asset/demo-schema/BoundingBox/box0.txt].\n",
      "2025-04-21 20:40:32,503 - deriva.transfer.upload.deriva_upload.INFO - Including file: [/Users/carl/deriva-ml/DemoML_working/deriva-ml/execution/49W/asset/demo-schema/BoundingBox/box2.txt].\n",
      "2025-04-21 20:40:32,503 - deriva.transfer.upload.deriva_upload.INFO - Including file: [/Users/carl/deriva-ml/DemoML_working/deriva-ml/execution/49W/asset/demo-schema/BoundingBox/box3.txt].\n",
      "2025-04-21 20:40:32,504 - deriva.transfer.upload.deriva_upload.INFO - Including file: [/Users/carl/deriva-ml/DemoML_working/deriva-ml/execution/49W/asset/deriva-ml/Execution_Metadata/environment_snapshot_20250421_203852.txt].\n",
      "2025-04-21 20:40:32,504 - deriva.transfer.upload.deriva_upload.INFO - Including file: [/Users/carl/deriva-ml/DemoML_working/deriva-ml/execution/49W/asset/deriva-ml/Execution_Metadata/configuration.json].\n",
      "2025-04-21 20:40:32,505 - deriva.transfer.upload.deriva_upload.INFO - Processing: [/Users/carl/deriva-ml/DemoML_working/deriva-ml/execution/49W/asset/demo-schema/BoundingBox/box1.txt]\n",
      "2025-04-21 20:40:32,505 - deriva.transfer.upload.deriva_upload.INFO - Computed metadata for: [/Users/carl/deriva-ml/DemoML_working/deriva-ml/execution/49W/asset/demo-schema/BoundingBox/box1.txt].\n",
      "2025-04-21 20:40:32,505 - deriva.transfer.upload.deriva_upload.INFO - Computing checksums for file: [/Users/carl/deriva-ml/DemoML_working/deriva-ml/execution/49W/asset/demo-schema/BoundingBox/box1.txt]. Please wait...\n",
      "2025-04-21 20:40:32,506 - deriva.transfer.upload.deriva_upload.INFO - Uploading file: [/Users/carl/deriva-ml/DemoML_working/deriva-ml/execution/49W/asset/demo-schema/BoundingBox/box1.txt] to host https://dev.eye-ai.org. Please wait...\n",
      "2025-04-21 20:40:32,986 - deriva.transfer.upload.deriva_upload.INFO - Processing: [/Users/carl/deriva-ml/DemoML_working/deriva-ml/execution/49W/asset/demo-schema/BoundingBox/box0.txt]\n",
      "2025-04-21 20:40:32,987 - deriva.transfer.upload.deriva_upload.INFO - Computed metadata for: [/Users/carl/deriva-ml/DemoML_working/deriva-ml/execution/49W/asset/demo-schema/BoundingBox/box0.txt].\n",
      "2025-04-21 20:40:32,987 - deriva.transfer.upload.deriva_upload.INFO - Computing checksums for file: [/Users/carl/deriva-ml/DemoML_working/deriva-ml/execution/49W/asset/demo-schema/BoundingBox/box0.txt]. Please wait...\n",
      "2025-04-21 20:40:32,988 - deriva.transfer.upload.deriva_upload.INFO - Uploading file: [/Users/carl/deriva-ml/DemoML_working/deriva-ml/execution/49W/asset/demo-schema/BoundingBox/box0.txt] to host https://dev.eye-ai.org. Please wait...\n",
      "2025-04-21 20:40:33,170 - deriva.transfer.upload.deriva_upload.INFO - Processing: [/Users/carl/deriva-ml/DemoML_working/deriva-ml/execution/49W/asset/demo-schema/BoundingBox/box2.txt]\n",
      "2025-04-21 20:40:33,171 - deriva.transfer.upload.deriva_upload.INFO - Computed metadata for: [/Users/carl/deriva-ml/DemoML_working/deriva-ml/execution/49W/asset/demo-schema/BoundingBox/box2.txt].\n",
      "2025-04-21 20:40:33,172 - deriva.transfer.upload.deriva_upload.INFO - Computing checksums for file: [/Users/carl/deriva-ml/DemoML_working/deriva-ml/execution/49W/asset/demo-schema/BoundingBox/box2.txt]. Please wait...\n",
      "2025-04-21 20:40:33,173 - deriva.transfer.upload.deriva_upload.INFO - Uploading file: [/Users/carl/deriva-ml/DemoML_working/deriva-ml/execution/49W/asset/demo-schema/BoundingBox/box2.txt] to host https://dev.eye-ai.org. Please wait...\n",
      "2025-04-21 20:40:33,349 - deriva.transfer.upload.deriva_upload.INFO - Processing: [/Users/carl/deriva-ml/DemoML_working/deriva-ml/execution/49W/asset/demo-schema/BoundingBox/box3.txt]\n",
      "2025-04-21 20:40:33,350 - deriva.transfer.upload.deriva_upload.INFO - Computed metadata for: [/Users/carl/deriva-ml/DemoML_working/deriva-ml/execution/49W/asset/demo-schema/BoundingBox/box3.txt].\n",
      "2025-04-21 20:40:33,351 - deriva.transfer.upload.deriva_upload.INFO - Computing checksums for file: [/Users/carl/deriva-ml/DemoML_working/deriva-ml/execution/49W/asset/demo-schema/BoundingBox/box3.txt]. Please wait...\n",
      "2025-04-21 20:40:33,352 - deriva.transfer.upload.deriva_upload.INFO - Uploading file: [/Users/carl/deriva-ml/DemoML_working/deriva-ml/execution/49W/asset/demo-schema/BoundingBox/box3.txt] to host https://dev.eye-ai.org. Please wait...\n",
      "2025-04-21 20:40:33,529 - deriva.transfer.upload.deriva_upload.INFO - Processing: [/Users/carl/deriva-ml/DemoML_working/deriva-ml/execution/49W/asset/deriva-ml/Execution_Metadata/environment_snapshot_20250421_203852.txt]\n",
      "2025-04-21 20:40:33,530 - deriva.transfer.upload.deriva_upload.INFO - Computed metadata for: [/Users/carl/deriva-ml/DemoML_working/deriva-ml/execution/49W/asset/deriva-ml/Execution_Metadata/environment_snapshot_20250421_203852.txt].\n",
      "2025-04-21 20:40:33,530 - deriva.transfer.upload.deriva_upload.INFO - Computing checksums for file: [/Users/carl/deriva-ml/DemoML_working/deriva-ml/execution/49W/asset/deriva-ml/Execution_Metadata/environment_snapshot_20250421_203852.txt]. Please wait...\n",
      "2025-04-21 20:40:33,532 - deriva.transfer.upload.deriva_upload.INFO - Uploading file: [/Users/carl/deriva-ml/DemoML_working/deriva-ml/execution/49W/asset/deriva-ml/Execution_Metadata/environment_snapshot_20250421_203852.txt] to host https://dev.eye-ai.org. Please wait...\n",
      "2025-04-21 20:40:33,945 - deriva.transfer.upload.deriva_upload.INFO - Processing: [/Users/carl/deriva-ml/DemoML_working/deriva-ml/execution/49W/asset/deriva-ml/Execution_Metadata/configuration.json]\n",
      "2025-04-21 20:40:33,946 - deriva.transfer.upload.deriva_upload.INFO - Computed metadata for: [/Users/carl/deriva-ml/DemoML_working/deriva-ml/execution/49W/asset/deriva-ml/Execution_Metadata/configuration.json].\n",
      "2025-04-21 20:40:33,947 - deriva.transfer.upload.deriva_upload.INFO - Computing checksums for file: [/Users/carl/deriva-ml/DemoML_working/deriva-ml/execution/49W/asset/deriva-ml/Execution_Metadata/configuration.json]. Please wait...\n",
      "2025-04-21 20:40:33,949 - deriva.transfer.upload.deriva_upload.INFO - Uploading file: [/Users/carl/deriva-ml/DemoML_working/deriva-ml/execution/49W/asset/deriva-ml/Execution_Metadata/configuration.json] to host https://dev.eye-ai.org. Please wait...\n",
      "2025-04-21 20:40:34,312 - deriva.transfer.upload.deriva_upload.INFO - File upload processing completed: 6 files were uploaded successfully, 0 files failed to upload due to errors, 0 files were skipped because they did not satisfy the matching criteria of the configuration.\n",
      "2025-04-21 20:40:34,839 - deriva_ml.INFO - Updating features...\n",
      "2025-04-21 20:40:35,492 - deriva_ml.INFO - Upload assets complete\n",
      "2025-04-21 20:40:35,611 - deriva_ml.INFO - Successfully end the execution.\n"
     ]
    },
    {
     "data": {
      "text/plain": [
       "{'demo-schema/BoundingBox': [AssetFilePath('/Users/carl/deriva-ml/DemoML_working/deriva-ml/execution/49W/asset/demo-schema/BoundingBox/box1.txt'),\n",
       "  AssetFilePath('/Users/carl/deriva-ml/DemoML_working/deriva-ml/execution/49W/asset/demo-schema/BoundingBox/box0.txt'),\n",
       "  AssetFilePath('/Users/carl/deriva-ml/DemoML_working/deriva-ml/execution/49W/asset/demo-schema/BoundingBox/box2.txt'),\n",
       "  AssetFilePath('/Users/carl/deriva-ml/DemoML_working/deriva-ml/execution/49W/asset/demo-schema/BoundingBox/box3.txt')],\n",
       " 'deriva-ml/Execution_Metadata': [AssetFilePath('/Users/carl/deriva-ml/DemoML_working/deriva-ml/execution/49W/asset/deriva-ml/Execution_Metadata/environment_snapshot_20250421_203852.txt'),\n",
       "  AssetFilePath('/Users/carl/deriva-ml/DemoML_working/deriva-ml/execution/49W/asset/deriva-ml/Execution_Metadata/configuration.json')]}"
      ]
     },
     "execution_count": 11,
     "metadata": {},
     "output_type": "execute_result"
    }
   ],
   "execution_count": 11
  },
  {
   "metadata": {
    "ExecuteTime": {
     "end_time": "2025-04-22T03:40:40.598200Z",
     "start_time": "2025-04-22T03:40:40.208764Z"
    }
   },
   "cell_type": "code",
   "source": [
    "display(\n",
    "    Markdown('### Wellness'),\n",
    "    pd.DataFrame(ml_instance.list_feature_values(\"Subject\", \"Health\")).drop(columns=DerivaSystemColumns + ['Feature_Name']),\n",
    "    Markdown('### Image Quality'),\n",
    "    pd.DataFrame(ml_instance.list_feature_values(\"Image\", \"Quality\")).drop(columns=DerivaSystemColumns + ['Feature_Name']),\n",
    "    Markdown('### BoundingBox'),\n",
    "    pd.DataFrame(ml_instance.list_feature_values(\"Image\", \"BoundingBox\")).drop(columns=DerivaSystemColumns + ['Feature_Name']),\n",
    ")"
   ],
   "id": "1dc086187029b49d",
   "outputs": [
    {
     "data": {
      "text/plain": [
       "<IPython.core.display.Markdown object>"
      ],
      "text/markdown": "### Wellness"
     },
     "metadata": {},
     "output_type": "display_data"
    },
    {
     "data": {
      "text/plain": [
       "  Execution Subject SubjectHealth  Scale\n",
       "0       49W     3MR          Well      9\n",
       "1       49W     3MT          Well      8\n",
       "2       49W     3MW          Sick      5\n",
       "3       49W     3MY          Sick      4"
      ],
      "text/html": [
       "<div>\n",
       "<style scoped>\n",
       "    .dataframe tbody tr th:only-of-type {\n",
       "        vertical-align: middle;\n",
       "    }\n",
       "\n",
       "    .dataframe tbody tr th {\n",
       "        vertical-align: top;\n",
       "    }\n",
       "\n",
       "    .dataframe thead th {\n",
       "        text-align: right;\n",
       "    }\n",
       "</style>\n",
       "<table border=\"1\" class=\"dataframe\">\n",
       "  <thead>\n",
       "    <tr style=\"text-align: right;\">\n",
       "      <th></th>\n",
       "      <th>Execution</th>\n",
       "      <th>Subject</th>\n",
       "      <th>SubjectHealth</th>\n",
       "      <th>Scale</th>\n",
       "    </tr>\n",
       "  </thead>\n",
       "  <tbody>\n",
       "    <tr>\n",
       "      <th>0</th>\n",
       "      <td>49W</td>\n",
       "      <td>3MR</td>\n",
       "      <td>Well</td>\n",
       "      <td>9</td>\n",
       "    </tr>\n",
       "    <tr>\n",
       "      <th>1</th>\n",
       "      <td>49W</td>\n",
       "      <td>3MT</td>\n",
       "      <td>Well</td>\n",
       "      <td>8</td>\n",
       "    </tr>\n",
       "    <tr>\n",
       "      <th>2</th>\n",
       "      <td>49W</td>\n",
       "      <td>3MW</td>\n",
       "      <td>Sick</td>\n",
       "      <td>5</td>\n",
       "    </tr>\n",
       "    <tr>\n",
       "      <th>3</th>\n",
       "      <td>49W</td>\n",
       "      <td>3MY</td>\n",
       "      <td>Sick</td>\n",
       "      <td>4</td>\n",
       "    </tr>\n",
       "  </tbody>\n",
       "</table>\n",
       "</div>"
      ]
     },
     "metadata": {},
     "output_type": "display_data"
    },
    {
     "data": {
      "text/plain": [
       "<IPython.core.display.Markdown object>"
      ],
      "text/markdown": "### Image Quality"
     },
     "metadata": {},
     "output_type": "display_data"
    },
    {
     "data": {
      "text/plain": [
       "  Execution Image ImageQuality\n",
       "0       49W   3N6         Good\n",
       "1       49W   3N8          Bad\n",
       "2       49W   3NA          Bad\n",
       "3       49W   3NC          Bad"
      ],
      "text/html": [
       "<div>\n",
       "<style scoped>\n",
       "    .dataframe tbody tr th:only-of-type {\n",
       "        vertical-align: middle;\n",
       "    }\n",
       "\n",
       "    .dataframe tbody tr th {\n",
       "        vertical-align: top;\n",
       "    }\n",
       "\n",
       "    .dataframe thead th {\n",
       "        text-align: right;\n",
       "    }\n",
       "</style>\n",
       "<table border=\"1\" class=\"dataframe\">\n",
       "  <thead>\n",
       "    <tr style=\"text-align: right;\">\n",
       "      <th></th>\n",
       "      <th>Execution</th>\n",
       "      <th>Image</th>\n",
       "      <th>ImageQuality</th>\n",
       "    </tr>\n",
       "  </thead>\n",
       "  <tbody>\n",
       "    <tr>\n",
       "      <th>0</th>\n",
       "      <td>49W</td>\n",
       "      <td>3N6</td>\n",
       "      <td>Good</td>\n",
       "    </tr>\n",
       "    <tr>\n",
       "      <th>1</th>\n",
       "      <td>49W</td>\n",
       "      <td>3N8</td>\n",
       "      <td>Bad</td>\n",
       "    </tr>\n",
       "    <tr>\n",
       "      <th>2</th>\n",
       "      <td>49W</td>\n",
       "      <td>3NA</td>\n",
       "      <td>Bad</td>\n",
       "    </tr>\n",
       "    <tr>\n",
       "      <th>3</th>\n",
       "      <td>49W</td>\n",
       "      <td>3NC</td>\n",
       "      <td>Bad</td>\n",
       "    </tr>\n",
       "  </tbody>\n",
       "</table>\n",
       "</div>"
      ]
     },
     "metadata": {},
     "output_type": "display_data"
    },
    {
     "data": {
      "text/plain": [
       "<IPython.core.display.Markdown object>"
      ],
      "text/markdown": "### BoundingBox"
     },
     "metadata": {},
     "output_type": "display_data"
    },
    {
     "data": {
      "text/plain": [
       "  Execution Image BoundingBox\n",
       "0       49W   3N6         4A0\n",
       "1       49W   3N8         49Y\n",
       "2       49W   3NA         4A2\n",
       "3       49W   3NC         4A4"
      ],
      "text/html": [
       "<div>\n",
       "<style scoped>\n",
       "    .dataframe tbody tr th:only-of-type {\n",
       "        vertical-align: middle;\n",
       "    }\n",
       "\n",
       "    .dataframe tbody tr th {\n",
       "        vertical-align: top;\n",
       "    }\n",
       "\n",
       "    .dataframe thead th {\n",
       "        text-align: right;\n",
       "    }\n",
       "</style>\n",
       "<table border=\"1\" class=\"dataframe\">\n",
       "  <thead>\n",
       "    <tr style=\"text-align: right;\">\n",
       "      <th></th>\n",
       "      <th>Execution</th>\n",
       "      <th>Image</th>\n",
       "      <th>BoundingBox</th>\n",
       "    </tr>\n",
       "  </thead>\n",
       "  <tbody>\n",
       "    <tr>\n",
       "      <th>0</th>\n",
       "      <td>49W</td>\n",
       "      <td>3N6</td>\n",
       "      <td>4A0</td>\n",
       "    </tr>\n",
       "    <tr>\n",
       "      <th>1</th>\n",
       "      <td>49W</td>\n",
       "      <td>3N8</td>\n",
       "      <td>49Y</td>\n",
       "    </tr>\n",
       "    <tr>\n",
       "      <th>2</th>\n",
       "      <td>49W</td>\n",
       "      <td>3NA</td>\n",
       "      <td>4A2</td>\n",
       "    </tr>\n",
       "    <tr>\n",
       "      <th>3</th>\n",
       "      <td>49W</td>\n",
       "      <td>3NC</td>\n",
       "      <td>4A4</td>\n",
       "    </tr>\n",
       "  </tbody>\n",
       "</table>\n",
       "</div>"
      ]
     },
     "metadata": {},
     "output_type": "display_data"
    }
   ],
   "execution_count": 12
  },
  {
   "metadata": {},
   "cell_type": "code",
   "source": "display(HTML(f'<a href={ml_instance.chaise_url(\"Subject\")}>Browse Subject Table</a>'))",
   "id": "cd0d85fc85f7fc66",
   "outputs": [],
   "execution_count": null
  },
  {
   "metadata": {},
   "cell_type": "code",
   "source": "test_catalog.delete_ermrest_catalog(really=True)",
   "id": "6e76bbdf-2441-4444-be7f-e55399bcc32a",
   "outputs": [],
   "execution_count": null
  }
 ],
 "metadata": {
  "kernelspec": {
   "display_name": "deriva-test",
   "language": "python",
   "name": "deriva-test"
  },
  "language_info": {
   "codemirror_mode": {
    "name": "ipython",
    "version": 3
   },
   "file_extension": ".py",
   "mimetype": "text/x-python",
   "name": "python",
   "nbconvert_exporter": "python",
   "pygments_lexer": "ipython3",
   "version": "3.12.2"
  }
 },
 "nbformat": 4,
 "nbformat_minor": 5
}
