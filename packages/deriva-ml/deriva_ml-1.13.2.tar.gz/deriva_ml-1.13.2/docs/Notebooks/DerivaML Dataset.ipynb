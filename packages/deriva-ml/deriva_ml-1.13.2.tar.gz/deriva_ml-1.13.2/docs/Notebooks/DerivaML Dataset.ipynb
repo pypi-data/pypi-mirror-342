{
 "cells": [
  {
   "cell_type": "markdown",
   "id": "0",
   "metadata": {},
   "source": [
    "# DerivaML Dataset\n",
    "\n",
    "DerivaML is a class library built on the Deriva Scientific Asset management system that is designed to help simplify a number of the basic operations associated with building and testing ML libraries based on common toolkits such as TensorFlow.  This notebook reviews the basic features of the DerivaML library."
   ]
  },
  {
   "cell_type": "markdown",
   "id": "1",
   "metadata": {},
   "source": [
    "## Set up DerivaML  for test case"
   ]
  },
  {
   "cell_type": "code",
   "id": "2",
   "metadata": {
    "ExecuteTime": {
     "end_time": "2025-04-21T23:58:54.075927Z",
     "start_time": "2025-04-21T23:58:54.060589Z"
    }
   },
   "source": [
    "%load_ext autoreload\n",
    "%autoreload 2"
   ],
   "outputs": [],
   "execution_count": 1
  },
  {
   "cell_type": "code",
   "id": "3",
   "metadata": {
    "ExecuteTime": {
     "end_time": "2025-04-21T23:58:55.692915Z",
     "start_time": "2025-04-21T23:58:54.207039Z"
    }
   },
   "source": [
    "from deriva.core.utils.globus_auth_utils import GlobusNativeLogin\n",
    "from deriva_ml.demo_catalog import create_demo_catalog, DemoML\n",
    "from deriva_ml import MLVocab, ExecutionConfiguration, Workflow, DerivaSystemColumns, VersionPart, DatasetSpec\n",
    "import pandas as pd\n",
    "from IPython.display import display, Markdown, HTML, JSON"
   ],
   "outputs": [],
   "execution_count": 2
  },
  {
   "cell_type": "markdown",
   "id": "4",
   "metadata": {},
   "source": [
    "Set the details for the catalog we want and authenticate to the server if needed."
   ]
  },
  {
   "cell_type": "code",
   "id": "5",
   "metadata": {
    "ExecuteTime": {
     "end_time": "2025-04-21T23:58:55.934976Z",
     "start_time": "2025-04-21T23:58:55.890671Z"
    }
   },
   "source": [
    "hostname = 'dev.eye-ai.org'\n",
    "domain_schema = 'demo-schema'\n",
    "\n",
    "gnl = GlobusNativeLogin(host=hostname)\n",
    "if gnl.is_logged_in([hostname]):\n",
    "    print(\"You are already logged in.\")\n",
    "else:\n",
    "    gnl.login([hostname], no_local_server=True, no_browser=True, refresh_tokens=True, update_bdbag_keychain=True)\n",
    "    print(\"Login Successful\")\n"
   ],
   "outputs": [
    {
     "name": "stdout",
     "output_type": "stream",
     "text": [
      "You are already logged in.\n"
     ]
    }
   ],
   "execution_count": 3
  },
  {
   "cell_type": "markdown",
   "id": "6",
   "metadata": {},
   "source": [
    "Create a test catalog and get an instance of the DemoML class."
   ]
  },
  {
   "cell_type": "code",
   "id": "7",
   "metadata": {
    "ExecuteTime": {
     "end_time": "2025-04-22T00:02:10.035517Z",
     "start_time": "2025-04-22T00:01:46.809727Z"
    }
   },
   "source": [
    "test_catalog = create_demo_catalog(hostname, domain_schema)\n",
    "ml_instance = DemoML(hostname, test_catalog.catalog_id)"
   ],
   "outputs": [
    {
     "name": "stderr",
     "output_type": "stream",
     "text": [
      "2025-04-21 17:02:03,282 - deriva_ml.WARNING - File /Users/carl/Repos/Projects/deriva-ml/docs/Notebooks/DerivaML Dataset.ipynb has been modified since last commit. Consider commiting before executing\n"
     ]
    },
    {
     "data": {
      "text/plain": [
       "<IPython.core.display.Markdown object>"
      ],
      "text/markdown": "Execution RID: https://dev.eye-ai.org/id/1943/3N4@336-MNHT-43F6"
     },
     "metadata": {},
     "output_type": "display_data"
    }
   ],
   "execution_count": 5
  },
  {
   "cell_type": "markdown",
   "id": "8",
   "metadata": {},
   "source": [
    "## Configure DerivaML Datasets\n",
    "\n",
    "In Deriva-ML a dataset is used to aggregate instances of entities.  However, before we can create any datasets, we must configure \n",
    "Deriva-ML for the specifics of the datasets.  The first stp is we need to tell Deriva-ML what types of use defined objects can be associated with a dataset.  \n",
    "\n",
    "Note that out of the box, Deriva-ML is configured to allow datasets to contained dataset (i.e. nested datasets), so we don't need to do anything for that specific configuration."
   ]
  },
  {
   "cell_type": "code",
   "id": "9",
   "metadata": {
    "ExecuteTime": {
     "end_time": "2025-04-22T00:31:38.505746Z",
     "start_time": "2025-04-22T00:31:36.425118Z"
    }
   },
   "source": [
    "print(f\"Current dataset_table element types: {[a.name for a in ml_instance.list_dataset_element_types()]}\")\n",
    "ml_instance.add_dataset_element_type(\"Subject\")\n",
    "ml_instance.add_dataset_element_type(\"Image\")\n",
    "print(f\"New dataset_table element types {[a.name for a in ml_instance.list_dataset_element_types()]}\")"
   ],
   "outputs": [
    {
     "name": "stdout",
     "output_type": "stream",
     "text": [
      "Current dataset_table element types: ['Dataset']\n",
      "New dataset_table element types ['Dataset', 'Subject', 'Image']\n"
     ]
    }
   ],
   "execution_count": 6
  },
  {
   "cell_type": "markdown",
   "id": "10",
   "metadata": {},
   "source": [
    "Now that we have configured our datasets, we need to identify the dataset types so we can distinguish between them."
   ]
  },
  {
   "cell_type": "code",
   "id": "11",
   "metadata": {
    "ExecuteTime": {
     "end_time": "2025-04-22T00:31:41.977931Z",
     "start_time": "2025-04-22T00:31:40.682377Z"
    }
   },
   "source": [
    "# Create a new dataset_table\n",
    "ml_instance.add_term(MLVocab.dataset_type, \"DemoSet\", description=\"A test dataset_table\")\n",
    "ml_instance.add_term(MLVocab.dataset_type, 'Partitioned', description=\"A partitioned dataset_table for ML training.\")\n",
    "ml_instance.add_term(MLVocab.dataset_type, \"Subject\", description=\"A test dataset_table\")\n",
    "ml_instance.add_term(MLVocab.dataset_type, \"Image\", description=\"A test dataset_table\")\n",
    "ml_instance.add_term(MLVocab.dataset_type, \"Training\", description=\"Training dataset_table\")\n",
    "ml_instance.add_term(MLVocab.dataset_type, \"Testing\", description=\"Training dataset_table\")\n",
    "ml_instance.add_term(MLVocab.dataset_type, \"Validation\", description=\"Validation dataset_table\")\n",
    "\n",
    "ml_instance.list_vocabulary_terms(MLVocab.dataset_type)"
   ],
   "outputs": [
    {
     "data": {
      "text/plain": [
       "[VocabularyTerm(name='DemoSet', synonyms=[], id='ml-test:3TT', uri='/id/3TT', description='A test dataset_table', rid='3TT'),\n",
       " VocabularyTerm(name='Partitioned', synonyms=[], id='ml-test:3TW', uri='/id/3TW', description='A partitioned dataset_table for ML training.', rid='3TW'),\n",
       " VocabularyTerm(name='Subject', synonyms=[], id='ml-test:3TY', uri='/id/3TY', description='A test dataset_table', rid='3TY'),\n",
       " VocabularyTerm(name='Image', synonyms=[], id='ml-test:3V0', uri='/id/3V0', description='A test dataset_table', rid='3V0'),\n",
       " VocabularyTerm(name='Training', synonyms=[], id='ml-test:3V2', uri='/id/3V2', description='Training dataset_table', rid='3V2'),\n",
       " VocabularyTerm(name='Testing', synonyms=[], id='ml-test:3V4', uri='/id/3V4', description='Training dataset_table', rid='3V4'),\n",
       " VocabularyTerm(name='Validation', synonyms=[], id='ml-test:3V6', uri='/id/3V6', description='Validation dataset_table', rid='3V6')]"
      ]
     },
     "execution_count": 7,
     "metadata": {},
     "output_type": "execute_result"
    }
   ],
   "execution_count": 7
  },
  {
   "cell_type": "markdown",
   "id": "12",
   "metadata": {},
   "source": [
    "Now create datasets and populate with elements from the test catalogs."
   ]
  },
  {
   "cell_type": "code",
   "id": "13",
   "metadata": {
    "ExecuteTime": {
     "end_time": "2025-04-22T00:31:45.725116Z",
     "start_time": "2025-04-22T00:31:44.278151Z"
    }
   },
   "source": [
    "ml_instance.add_term(MLVocab.workflow_type, \"Create Dataset Notebook\", description=\"A Workflow that creates a new dataset_table\")\n",
    "\n",
    "# Now lets create model configuration for our program.\n",
    "api_workflow = Workflow(\n",
    "    name=\"API Workflow\",\n",
    "    url=\"https://github.com/informatics-isi-edu/deriva-ml/blob/main/docs/Notebooks/DerivaML%20Dataset.ipynb\",\n",
    "    workflow_type=\"Create Dataset Notebook\"\n",
    ")\n",
    "\n",
    "dataset_execution = ml_instance.create_execution(\n",
    "    ExecutionConfiguration(\n",
    "        workflow=api_workflow,\n",
    "        description=\"Our Sample Workflow instance\")\n",
    ")"
   ],
   "outputs": [
    {
     "name": "stderr",
     "output_type": "stream",
     "text": [
      "2025-04-21 17:31:45,009 - deriva_ml.INFO - Downloading assets ...\n",
      "2025-04-21 17:31:45,608 - deriva_ml.INFO - Initialize status finished.\n"
     ]
    }
   ],
   "execution_count": 8
  },
  {
   "cell_type": "code",
   "id": "14",
   "metadata": {
    "ExecuteTime": {
     "end_time": "2025-04-22T00:31:50.300269Z",
     "start_time": "2025-04-22T00:31:48.848291Z"
    }
   },
   "source": [
    "subject_dataset = dataset_execution.create_dataset(['DemoSet', 'Subject'], description=\"A subject dataset_table\")\n",
    "image_dataset = dataset_execution.create_dataset(['DemoSet', 'Image'], description=\"A image training dataset_table\")\n",
    "datasets = pd.DataFrame(ml_instance.find_datasets()).drop(columns=DerivaSystemColumns)\n",
    "display(\n",
    "    Markdown('## Datasets'),\n",
    "    datasets)"
   ],
   "outputs": [
    {
     "data": {
      "text/plain": [
       "<IPython.core.display.Markdown object>"
      ],
      "text/markdown": "## Datasets"
     },
     "metadata": {},
     "output_type": "display_data"
    },
    {
     "data": {
      "text/plain": [
       "                      Description  Deleted Version MLVocab.dataset_type\n",
       "0         A subject dataset_table    False     3VP   [DemoSet, Subject]\n",
       "1  A image training dataset_table    False     3W0     [DemoSet, Image]"
      ],
      "text/html": [
       "<div>\n",
       "<style scoped>\n",
       "    .dataframe tbody tr th:only-of-type {\n",
       "        vertical-align: middle;\n",
       "    }\n",
       "\n",
       "    .dataframe tbody tr th {\n",
       "        vertical-align: top;\n",
       "    }\n",
       "\n",
       "    .dataframe thead th {\n",
       "        text-align: right;\n",
       "    }\n",
       "</style>\n",
       "<table border=\"1\" class=\"dataframe\">\n",
       "  <thead>\n",
       "    <tr style=\"text-align: right;\">\n",
       "      <th></th>\n",
       "      <th>Description</th>\n",
       "      <th>Deleted</th>\n",
       "      <th>Version</th>\n",
       "      <th>MLVocab.dataset_type</th>\n",
       "    </tr>\n",
       "  </thead>\n",
       "  <tbody>\n",
       "    <tr>\n",
       "      <th>0</th>\n",
       "      <td>A subject dataset_table</td>\n",
       "      <td>False</td>\n",
       "      <td>3VP</td>\n",
       "      <td>[DemoSet, Subject]</td>\n",
       "    </tr>\n",
       "    <tr>\n",
       "      <th>1</th>\n",
       "      <td>A image training dataset_table</td>\n",
       "      <td>False</td>\n",
       "      <td>3W0</td>\n",
       "      <td>[DemoSet, Image]</td>\n",
       "    </tr>\n",
       "  </tbody>\n",
       "</table>\n",
       "</div>"
      ]
     },
     "metadata": {},
     "output_type": "display_data"
    }
   ],
   "execution_count": 9
  },
  {
   "cell_type": "markdown",
   "id": "15",
   "metadata": {},
   "source": [
    "And now that we have defined some datasets, we can add elements of the appropriate type to them.  We can see what is in our new datasets by listing the dataset members."
   ]
  },
  {
   "cell_type": "code",
   "id": "16",
   "metadata": {
    "ExecuteTime": {
     "end_time": "2025-04-22T00:31:58.551915Z",
     "start_time": "2025-04-22T00:31:53.209853Z"
    }
   },
   "source": [
    "# Get list of subjects and images from the catalog using the DataPath API.\n",
    "dp = ml_instance.domain_path  # Each call returns a new path instance, so only call once...\n",
    "subject_rids = [i['RID'] for i in dp.tables['Subject'].entities().fetch()]\n",
    "image_rids = [i['RID'] for i in dp.tables['Image'].entities().fetch()]\n",
    "\n",
    "ml_instance.add_dataset_members(dataset_rid=subject_dataset, members=subject_rids)\n",
    "ml_instance.add_dataset_members(dataset_rid=image_dataset, members=image_rids)\n",
    "\n",
    "# List the contents of our datasets, and let's not include columns like modify time.\n",
    "display(\n",
    "    Markdown('## Subject Dataset'),\n",
    "    pd.DataFrame(ml_instance.list_dataset_members(subject_dataset)['Subject']).drop(columns=DerivaSystemColumns),\n",
    "    Markdown('## Image Dataset'),\n",
    "    pd.DataFrame(ml_instance.list_dataset_members(image_dataset)['Image']).drop(columns=DerivaSystemColumns))"
   ],
   "outputs": [
    {
     "data": {
      "text/plain": [
       "<IPython.core.display.Markdown object>"
      ],
      "text/markdown": "## Subject Dataset"
     },
     "metadata": {},
     "output_type": "display_data"
    },
    {
     "data": {
      "text/plain": [
       "     Name\n",
       "0  Thing1\n",
       "1  Thing2\n",
       "2  Thing3\n",
       "3  Thing4"
      ],
      "text/html": [
       "<div>\n",
       "<style scoped>\n",
       "    .dataframe tbody tr th:only-of-type {\n",
       "        vertical-align: middle;\n",
       "    }\n",
       "\n",
       "    .dataframe tbody tr th {\n",
       "        vertical-align: top;\n",
       "    }\n",
       "\n",
       "    .dataframe thead th {\n",
       "        text-align: right;\n",
       "    }\n",
       "</style>\n",
       "<table border=\"1\" class=\"dataframe\">\n",
       "  <thead>\n",
       "    <tr style=\"text-align: right;\">\n",
       "      <th></th>\n",
       "      <th>Name</th>\n",
       "    </tr>\n",
       "  </thead>\n",
       "  <tbody>\n",
       "    <tr>\n",
       "      <th>0</th>\n",
       "      <td>Thing1</td>\n",
       "    </tr>\n",
       "    <tr>\n",
       "      <th>1</th>\n",
       "      <td>Thing2</td>\n",
       "    </tr>\n",
       "    <tr>\n",
       "      <th>2</th>\n",
       "      <td>Thing3</td>\n",
       "    </tr>\n",
       "    <tr>\n",
       "      <th>3</th>\n",
       "      <td>Thing4</td>\n",
       "    </tr>\n",
       "  </tbody>\n",
       "</table>\n",
       "</div>"
      ]
     },
     "metadata": {},
     "output_type": "display_data"
    },
    {
     "data": {
      "text/plain": [
       "<IPython.core.display.Markdown object>"
      ],
      "text/markdown": "## Image Dataset"
     },
     "metadata": {},
     "output_type": "display_data"
    },
    {
     "data": {
      "text/plain": [
       "                                                 URL      Filename  \\\n",
       "0  /hatrac/Image/22cba73b04ede3a525f7749773c63b3b...  test_3MW.txt   \n",
       "1  /hatrac/Image/3155b8ed522dd76979a68848b1f1e128...  test_3MY.txt   \n",
       "2  /hatrac/Image/fdb60d5d75237a8fe2f931dd6efb07ce...  test_3MT.txt   \n",
       "3  /hatrac/Image/9dc3b086d500c3e0cf95e19ecf436d33...  test_3MR.txt   \n",
       "\n",
       "  Description  Length                               MD5 Subject  \n",
       "0        None      32  22cba73b04ede3a525f7749773c63b3b     3MW  \n",
       "1        None      31  3155b8ed522dd76979a68848b1f1e128     3MY  \n",
       "2        None      31  fdb60d5d75237a8fe2f931dd6efb07ce     3MT  \n",
       "3        None      31  9dc3b086d500c3e0cf95e19ecf436d33     3MR  "
      ],
      "text/html": [
       "<div>\n",
       "<style scoped>\n",
       "    .dataframe tbody tr th:only-of-type {\n",
       "        vertical-align: middle;\n",
       "    }\n",
       "\n",
       "    .dataframe tbody tr th {\n",
       "        vertical-align: top;\n",
       "    }\n",
       "\n",
       "    .dataframe thead th {\n",
       "        text-align: right;\n",
       "    }\n",
       "</style>\n",
       "<table border=\"1\" class=\"dataframe\">\n",
       "  <thead>\n",
       "    <tr style=\"text-align: right;\">\n",
       "      <th></th>\n",
       "      <th>URL</th>\n",
       "      <th>Filename</th>\n",
       "      <th>Description</th>\n",
       "      <th>Length</th>\n",
       "      <th>MD5</th>\n",
       "      <th>Subject</th>\n",
       "    </tr>\n",
       "  </thead>\n",
       "  <tbody>\n",
       "    <tr>\n",
       "      <th>0</th>\n",
       "      <td>/hatrac/Image/22cba73b04ede3a525f7749773c63b3b...</td>\n",
       "      <td>test_3MW.txt</td>\n",
       "      <td>None</td>\n",
       "      <td>32</td>\n",
       "      <td>22cba73b04ede3a525f7749773c63b3b</td>\n",
       "      <td>3MW</td>\n",
       "    </tr>\n",
       "    <tr>\n",
       "      <th>1</th>\n",
       "      <td>/hatrac/Image/3155b8ed522dd76979a68848b1f1e128...</td>\n",
       "      <td>test_3MY.txt</td>\n",
       "      <td>None</td>\n",
       "      <td>31</td>\n",
       "      <td>3155b8ed522dd76979a68848b1f1e128</td>\n",
       "      <td>3MY</td>\n",
       "    </tr>\n",
       "    <tr>\n",
       "      <th>2</th>\n",
       "      <td>/hatrac/Image/fdb60d5d75237a8fe2f931dd6efb07ce...</td>\n",
       "      <td>test_3MT.txt</td>\n",
       "      <td>None</td>\n",
       "      <td>31</td>\n",
       "      <td>fdb60d5d75237a8fe2f931dd6efb07ce</td>\n",
       "      <td>3MT</td>\n",
       "    </tr>\n",
       "    <tr>\n",
       "      <th>3</th>\n",
       "      <td>/hatrac/Image/9dc3b086d500c3e0cf95e19ecf436d33...</td>\n",
       "      <td>test_3MR.txt</td>\n",
       "      <td>None</td>\n",
       "      <td>31</td>\n",
       "      <td>9dc3b086d500c3e0cf95e19ecf436d33</td>\n",
       "      <td>3MR</td>\n",
       "    </tr>\n",
       "  </tbody>\n",
       "</table>\n",
       "</div>"
      ]
     },
     "metadata": {},
     "output_type": "display_data"
    }
   ],
   "execution_count": 10
  },
  {
   "cell_type": "markdown",
   "id": "17",
   "metadata": {},
   "source": [
    "## Create partitioned dataset\n",
    "\n",
    "Now let's create some subsets of the original dataset based on subject level metadata. We are going to create the subsets based on the metadata values of the subjects. We will download the subject dataset and look at its metadata to figure out how to partition the original data. Since we are not going to look at the images, we use the materialize=False option to save some time."
   ]
  },
  {
   "cell_type": "code",
   "id": "18",
   "metadata": {
    "ExecuteTime": {
     "end_time": "2025-04-22T00:32:09.493913Z",
     "start_time": "2025-04-22T00:32:03.365570Z"
    }
   },
   "source": [
    "dataset_bag = ml_instance.download_dataset_bag(DatasetSpec(rid=subject_dataset, version=ml_instance.dataset_version(subject_dataset), materialize=False))\n",
    "print(f\"Bag materialized\")"
   ],
   "outputs": [
    {
     "name": "stderr",
     "output_type": "stream",
     "text": [
      "2025-04-21 17:32:04,551 - deriva_ml.INFO - Creating new MINID for dataset 3VE\n",
      "2025-04-21 17:32:05,217 - deriva_ml.INFO - Downloading dataset minid for catalog: 3VE@0.2.0\n",
      "2025-04-21 17:32:05,363 - deriva.transfer.download.deriva_export.INFO - Processing export config file: /var/folders/0k/27qzm97x3t7g3j1m6ksf_9f40000gn/T/tmp6erv6pw3/download_spec.json\n",
      "2025-04-21 17:32:05,365 - deriva.transfer.download.deriva_export.INFO - Requesting bdbag export at: https://dev.eye-ai.org/deriva/export/bdbag\n",
      "2025-04-21 17:32:08,688 - deriva.transfer.download.deriva_export.INFO - Export successful. Service responded with URL list: ['https://identifiers.fair-research.org/hdl:20.500.12582/1DlGAdupRmMoH', 'https://dev.eye-ai.org/deriva/export/bdbag/303232c3-4a8a-4c67-84d5-fb610ffdebb6']\n",
      "2025-04-21 17:32:09,452 - deriva_ml.INFO - Loading /Users/carl/deriva-ml/cache/3VE_bfb8a3a70e63d2e9977ecdce3c902b16fd2fa910f6138c61ba7d68e73360c691/Dataset_3VE\n",
      "2025-04-21 17:32:09,491 - deriva_ml.INFO - Creating new database for dataset: 3VE in /Users/carl/deriva-ml/DemoML_working/3VE@336-MRWK-B1WG.db\n"
     ]
    },
    {
     "name": "stdout",
     "output_type": "stream",
     "text": [
      "Bag materialized\n"
     ]
    }
   ],
   "execution_count": 11
  },
  {
   "cell_type": "markdown",
   "id": "19",
   "metadata": {},
   "source": [
    "The domain model has two objects: Subject and Images where an Image is associated with a subject, but a subject can have multiple images associated with it.  Let's look at the subjects and partition into test and training datasets."
   ]
  },
  {
   "cell_type": "code",
   "id": "20",
   "metadata": {
    "ExecuteTime": {
     "end_time": "2025-04-22T00:32:09.557401Z",
     "start_time": "2025-04-22T00:32:09.518052Z"
    }
   },
   "source": [
    "# Get information about the subjects.....\n",
    "subject_df = dataset_bag.get_table_as_dataframe('Subject')[['RID', 'Name']]\n",
    "image_df = dataset_bag.get_table_as_dataframe('Image')[['RID', 'Subject', 'URL']]\n",
    "metadata_df = subject_df.join(image_df, lsuffix=\"_subject\", rsuffix=\"_image\")\n",
    "display(metadata_df)"
   ],
   "outputs": [
    {
     "data": {
      "text/plain": [
       "  RID_subject    Name RID_image Subject  \\\n",
       "0         3MR  Thing1       3N6     3MW   \n",
       "1         3MT  Thing2       3N8     3MY   \n",
       "2         3MW  Thing3       3NA     3MT   \n",
       "3         3MY  Thing4       3NC     3MR   \n",
       "\n",
       "                                                 URL  \n",
       "0  /hatrac/Image/22cba73b04ede3a525f7749773c63b3b...  \n",
       "1  /hatrac/Image/3155b8ed522dd76979a68848b1f1e128...  \n",
       "2  /hatrac/Image/fdb60d5d75237a8fe2f931dd6efb07ce...  \n",
       "3  /hatrac/Image/9dc3b086d500c3e0cf95e19ecf436d33...  "
      ],
      "text/html": [
       "<div>\n",
       "<style scoped>\n",
       "    .dataframe tbody tr th:only-of-type {\n",
       "        vertical-align: middle;\n",
       "    }\n",
       "\n",
       "    .dataframe tbody tr th {\n",
       "        vertical-align: top;\n",
       "    }\n",
       "\n",
       "    .dataframe thead th {\n",
       "        text-align: right;\n",
       "    }\n",
       "</style>\n",
       "<table border=\"1\" class=\"dataframe\">\n",
       "  <thead>\n",
       "    <tr style=\"text-align: right;\">\n",
       "      <th></th>\n",
       "      <th>RID_subject</th>\n",
       "      <th>Name</th>\n",
       "      <th>RID_image</th>\n",
       "      <th>Subject</th>\n",
       "      <th>URL</th>\n",
       "    </tr>\n",
       "  </thead>\n",
       "  <tbody>\n",
       "    <tr>\n",
       "      <th>0</th>\n",
       "      <td>3MR</td>\n",
       "      <td>Thing1</td>\n",
       "      <td>3N6</td>\n",
       "      <td>3MW</td>\n",
       "      <td>/hatrac/Image/22cba73b04ede3a525f7749773c63b3b...</td>\n",
       "    </tr>\n",
       "    <tr>\n",
       "      <th>1</th>\n",
       "      <td>3MT</td>\n",
       "      <td>Thing2</td>\n",
       "      <td>3N8</td>\n",
       "      <td>3MY</td>\n",
       "      <td>/hatrac/Image/3155b8ed522dd76979a68848b1f1e128...</td>\n",
       "    </tr>\n",
       "    <tr>\n",
       "      <th>2</th>\n",
       "      <td>3MW</td>\n",
       "      <td>Thing3</td>\n",
       "      <td>3NA</td>\n",
       "      <td>3MT</td>\n",
       "      <td>/hatrac/Image/fdb60d5d75237a8fe2f931dd6efb07ce...</td>\n",
       "    </tr>\n",
       "    <tr>\n",
       "      <th>3</th>\n",
       "      <td>3MY</td>\n",
       "      <td>Thing4</td>\n",
       "      <td>3NC</td>\n",
       "      <td>3MR</td>\n",
       "      <td>/hatrac/Image/9dc3b086d500c3e0cf95e19ecf436d33...</td>\n",
       "    </tr>\n",
       "  </tbody>\n",
       "</table>\n",
       "</div>"
      ]
     },
     "metadata": {},
     "output_type": "display_data"
    }
   ],
   "execution_count": 12
  },
  {
   "cell_type": "markdown",
   "id": "21",
   "metadata": {},
   "source": [
    "For ths example, lets partition the data based on the name of the subject.  Of course in real examples, we would do a more complex analysis in deciding\n",
    "what subset goes into each data set."
   ]
  },
  {
   "cell_type": "code",
   "id": "22",
   "metadata": {
    "ExecuteTime": {
     "end_time": "2025-04-22T00:32:13.068145Z",
     "start_time": "2025-04-22T00:32:13.034685Z"
    }
   },
   "source": [
    "def thing_number(name: pd.Series) -> pd.Series:\n",
    "    return name.map(lambda n: int(n.replace('Thing','')))\n",
    "\n",
    "training_rids = metadata_df.loc[lambda df: thing_number(df['Name']) % 3 == 0]['RID_image'].tolist()\n",
    "testing_rids =  metadata_df.loc[lambda df: thing_number(df['Name']) % 3 == 1]['RID_image'].tolist()\n",
    "validation_rids = metadata_df.loc[lambda df: thing_number(df['Name']) % 3 == 2]['RID_image'].tolist()\n",
    "\n",
    "print(f'Training images: {training_rids}')\n",
    "print(f'Testing images: {testing_rids}')\n",
    "print(f'Validation images: {validation_rids}')"
   ],
   "outputs": [
    {
     "name": "stdout",
     "output_type": "stream",
     "text": [
      "Training images: ['3NA']\n",
      "Testing images: ['3N6', '3NC']\n",
      "Validation images: ['3N8']\n"
     ]
    }
   ],
   "execution_count": 13
  },
  {
   "cell_type": "markdown",
   "id": "23",
   "metadata": {},
   "source": [
    "Now that we know what we want in each dataset, lets create datasets for each of our partitioned elements along with a nested dataset to track the entire collection."
   ]
  },
  {
   "cell_type": "code",
   "id": "24",
   "metadata": {
    "ExecuteTime": {
     "end_time": "2025-04-22T00:32:18.366424Z",
     "start_time": "2025-04-22T00:32:15.559115Z"
    }
   },
   "source": [
    "nested_dataset = dataset_execution.create_dataset(['Partitioned', 'Image'], description='A nested dataset_table for machine learning')\n",
    "training_dataset = dataset_execution.create_dataset('Training', description='An image dataset_table for training')\n",
    "testing_dataset = dataset_execution.create_dataset('Testing', description='A image dataset_table for testing')\n",
    "validation_dataset = dataset_execution.create_dataset('Validation', description='A image dataset_table for validation')\n",
    "pd.DataFrame(ml_instance.find_datasets()).drop(columns=DerivaSystemColumns)"
   ],
   "outputs": [
    {
     "data": {
      "text/plain": [
       "                                   Description  Deleted Version  \\\n",
       "0                      A subject dataset_table    False     3WA   \n",
       "1               A image training dataset_table    False     3WM   \n",
       "2  A nested dataset_table for machine learning    False     3WY   \n",
       "3          An image dataset_table for training    False     3X6   \n",
       "4            A image dataset_table for testing    False     3XE   \n",
       "5         A image dataset_table for validation    False     3XP   \n",
       "\n",
       "   MLVocab.dataset_type  \n",
       "0    [DemoSet, Subject]  \n",
       "1      [DemoSet, Image]  \n",
       "2  [Partitioned, Image]  \n",
       "3            [Training]  \n",
       "4             [Testing]  \n",
       "5          [Validation]  "
      ],
      "text/html": [
       "<div>\n",
       "<style scoped>\n",
       "    .dataframe tbody tr th:only-of-type {\n",
       "        vertical-align: middle;\n",
       "    }\n",
       "\n",
       "    .dataframe tbody tr th {\n",
       "        vertical-align: top;\n",
       "    }\n",
       "\n",
       "    .dataframe thead th {\n",
       "        text-align: right;\n",
       "    }\n",
       "</style>\n",
       "<table border=\"1\" class=\"dataframe\">\n",
       "  <thead>\n",
       "    <tr style=\"text-align: right;\">\n",
       "      <th></th>\n",
       "      <th>Description</th>\n",
       "      <th>Deleted</th>\n",
       "      <th>Version</th>\n",
       "      <th>MLVocab.dataset_type</th>\n",
       "    </tr>\n",
       "  </thead>\n",
       "  <tbody>\n",
       "    <tr>\n",
       "      <th>0</th>\n",
       "      <td>A subject dataset_table</td>\n",
       "      <td>False</td>\n",
       "      <td>3WA</td>\n",
       "      <td>[DemoSet, Subject]</td>\n",
       "    </tr>\n",
       "    <tr>\n",
       "      <th>1</th>\n",
       "      <td>A image training dataset_table</td>\n",
       "      <td>False</td>\n",
       "      <td>3WM</td>\n",
       "      <td>[DemoSet, Image]</td>\n",
       "    </tr>\n",
       "    <tr>\n",
       "      <th>2</th>\n",
       "      <td>A nested dataset_table for machine learning</td>\n",
       "      <td>False</td>\n",
       "      <td>3WY</td>\n",
       "      <td>[Partitioned, Image]</td>\n",
       "    </tr>\n",
       "    <tr>\n",
       "      <th>3</th>\n",
       "      <td>An image dataset_table for training</td>\n",
       "      <td>False</td>\n",
       "      <td>3X6</td>\n",
       "      <td>[Training]</td>\n",
       "    </tr>\n",
       "    <tr>\n",
       "      <th>4</th>\n",
       "      <td>A image dataset_table for testing</td>\n",
       "      <td>False</td>\n",
       "      <td>3XE</td>\n",
       "      <td>[Testing]</td>\n",
       "    </tr>\n",
       "    <tr>\n",
       "      <th>5</th>\n",
       "      <td>A image dataset_table for validation</td>\n",
       "      <td>False</td>\n",
       "      <td>3XP</td>\n",
       "      <td>[Validation]</td>\n",
       "    </tr>\n",
       "  </tbody>\n",
       "</table>\n",
       "</div>"
      ]
     },
     "execution_count": 14,
     "metadata": {},
     "output_type": "execute_result"
    }
   ],
   "execution_count": 14
  },
  {
   "cell_type": "markdown",
   "id": "25",
   "metadata": {},
   "source": [
    "And then fill the datasets with the appropriate members."
   ]
  },
  {
   "cell_type": "code",
   "id": "26",
   "metadata": {
    "ExecuteTime": {
     "end_time": "2025-04-22T00:32:35.981130Z",
     "start_time": "2025-04-22T00:32:20.957241Z"
    }
   },
   "source": [
    "ml_instance.add_dataset_members(dataset_rid=nested_dataset, members=[training_dataset, testing_dataset, validation_dataset])\n",
    "ml_instance.add_dataset_members(dataset_rid=training_dataset, members=training_rids)\n",
    "ml_instance.add_dataset_members(dataset_rid=testing_dataset, members=testing_rids)\n",
    "ml_instance.add_dataset_members(dataset_rid=validation_dataset, members=validation_rids)"
   ],
   "outputs": [],
   "execution_count": 15
  },
  {
   "cell_type": "markdown",
   "id": "27",
   "metadata": {},
   "source": [
    "Ok, lets see what we have now."
   ]
  },
  {
   "cell_type": "markdown",
   "id": "28",
   "metadata": {},
   "source": [
    "As our very last step, lets get a PID that will allow us to share and cite the dataset that we just created"
   ]
  },
  {
   "cell_type": "code",
   "id": "29",
   "metadata": {
    "ExecuteTime": {
     "end_time": "2025-04-22T00:32:39.579297Z",
     "start_time": "2025-04-22T00:32:38.023895Z"
    }
   },
   "source": [
    "display(\n",
    "    Markdown('## Nested Dataset'),\n",
    "    pd.DataFrame(ml_instance.list_dataset_members(nested_dataset)['Dataset']).drop(columns=DerivaSystemColumns),\n",
    "    Markdown('## Training Dataset'),\n",
    "    pd.DataFrame(ml_instance.list_dataset_members(training_dataset)['Image']).drop(columns=DerivaSystemColumns),\n",
    "    Markdown('## Testing Dataset'),\n",
    "    pd.DataFrame(ml_instance.list_dataset_members(testing_dataset)['Image']).drop(columns=DerivaSystemColumns),\n",
    "    Markdown('## Validation Dataset'),\n",
    "    pd.DataFrame(ml_instance.list_dataset_members(validation_dataset)['Image']).drop(columns=DerivaSystemColumns),)"
   ],
   "outputs": [
    {
     "data": {
      "text/plain": [
       "<IPython.core.display.Markdown object>"
      ],
      "text/markdown": "## Nested Dataset"
     },
     "metadata": {},
     "output_type": "display_data"
    },
    {
     "data": {
      "text/plain": [
       "                            Description  Deleted Version\n",
       "0   An image dataset_table for training    False     3Z2\n",
       "1     A image dataset_table for testing    False     3Z4\n",
       "2  A image dataset_table for validation    False     3YY"
      ],
      "text/html": [
       "<div>\n",
       "<style scoped>\n",
       "    .dataframe tbody tr th:only-of-type {\n",
       "        vertical-align: middle;\n",
       "    }\n",
       "\n",
       "    .dataframe tbody tr th {\n",
       "        vertical-align: top;\n",
       "    }\n",
       "\n",
       "    .dataframe thead th {\n",
       "        text-align: right;\n",
       "    }\n",
       "</style>\n",
       "<table border=\"1\" class=\"dataframe\">\n",
       "  <thead>\n",
       "    <tr style=\"text-align: right;\">\n",
       "      <th></th>\n",
       "      <th>Description</th>\n",
       "      <th>Deleted</th>\n",
       "      <th>Version</th>\n",
       "    </tr>\n",
       "  </thead>\n",
       "  <tbody>\n",
       "    <tr>\n",
       "      <th>0</th>\n",
       "      <td>An image dataset_table for training</td>\n",
       "      <td>False</td>\n",
       "      <td>3Z2</td>\n",
       "    </tr>\n",
       "    <tr>\n",
       "      <th>1</th>\n",
       "      <td>A image dataset_table for testing</td>\n",
       "      <td>False</td>\n",
       "      <td>3Z4</td>\n",
       "    </tr>\n",
       "    <tr>\n",
       "      <th>2</th>\n",
       "      <td>A image dataset_table for validation</td>\n",
       "      <td>False</td>\n",
       "      <td>3YY</td>\n",
       "    </tr>\n",
       "  </tbody>\n",
       "</table>\n",
       "</div>"
      ]
     },
     "metadata": {},
     "output_type": "display_data"
    },
    {
     "data": {
      "text/plain": [
       "<IPython.core.display.Markdown object>"
      ],
      "text/markdown": "## Training Dataset"
     },
     "metadata": {},
     "output_type": "display_data"
    },
    {
     "data": {
      "text/plain": [
       "                                                 URL      Filename  \\\n",
       "0  /hatrac/Image/fdb60d5d75237a8fe2f931dd6efb07ce...  test_3MT.txt   \n",
       "\n",
       "  Description  Length                               MD5 Subject  \n",
       "0        None      31  fdb60d5d75237a8fe2f931dd6efb07ce     3MT  "
      ],
      "text/html": [
       "<div>\n",
       "<style scoped>\n",
       "    .dataframe tbody tr th:only-of-type {\n",
       "        vertical-align: middle;\n",
       "    }\n",
       "\n",
       "    .dataframe tbody tr th {\n",
       "        vertical-align: top;\n",
       "    }\n",
       "\n",
       "    .dataframe thead th {\n",
       "        text-align: right;\n",
       "    }\n",
       "</style>\n",
       "<table border=\"1\" class=\"dataframe\">\n",
       "  <thead>\n",
       "    <tr style=\"text-align: right;\">\n",
       "      <th></th>\n",
       "      <th>URL</th>\n",
       "      <th>Filename</th>\n",
       "      <th>Description</th>\n",
       "      <th>Length</th>\n",
       "      <th>MD5</th>\n",
       "      <th>Subject</th>\n",
       "    </tr>\n",
       "  </thead>\n",
       "  <tbody>\n",
       "    <tr>\n",
       "      <th>0</th>\n",
       "      <td>/hatrac/Image/fdb60d5d75237a8fe2f931dd6efb07ce...</td>\n",
       "      <td>test_3MT.txt</td>\n",
       "      <td>None</td>\n",
       "      <td>31</td>\n",
       "      <td>fdb60d5d75237a8fe2f931dd6efb07ce</td>\n",
       "      <td>3MT</td>\n",
       "    </tr>\n",
       "  </tbody>\n",
       "</table>\n",
       "</div>"
      ]
     },
     "metadata": {},
     "output_type": "display_data"
    },
    {
     "data": {
      "text/plain": [
       "<IPython.core.display.Markdown object>"
      ],
      "text/markdown": "## Testing Dataset"
     },
     "metadata": {},
     "output_type": "display_data"
    },
    {
     "data": {
      "text/plain": [
       "                                                 URL      Filename  \\\n",
       "0  /hatrac/Image/22cba73b04ede3a525f7749773c63b3b...  test_3MW.txt   \n",
       "1  /hatrac/Image/9dc3b086d500c3e0cf95e19ecf436d33...  test_3MR.txt   \n",
       "\n",
       "  Description  Length                               MD5 Subject  \n",
       "0        None      32  22cba73b04ede3a525f7749773c63b3b     3MW  \n",
       "1        None      31  9dc3b086d500c3e0cf95e19ecf436d33     3MR  "
      ],
      "text/html": [
       "<div>\n",
       "<style scoped>\n",
       "    .dataframe tbody tr th:only-of-type {\n",
       "        vertical-align: middle;\n",
       "    }\n",
       "\n",
       "    .dataframe tbody tr th {\n",
       "        vertical-align: top;\n",
       "    }\n",
       "\n",
       "    .dataframe thead th {\n",
       "        text-align: right;\n",
       "    }\n",
       "</style>\n",
       "<table border=\"1\" class=\"dataframe\">\n",
       "  <thead>\n",
       "    <tr style=\"text-align: right;\">\n",
       "      <th></th>\n",
       "      <th>URL</th>\n",
       "      <th>Filename</th>\n",
       "      <th>Description</th>\n",
       "      <th>Length</th>\n",
       "      <th>MD5</th>\n",
       "      <th>Subject</th>\n",
       "    </tr>\n",
       "  </thead>\n",
       "  <tbody>\n",
       "    <tr>\n",
       "      <th>0</th>\n",
       "      <td>/hatrac/Image/22cba73b04ede3a525f7749773c63b3b...</td>\n",
       "      <td>test_3MW.txt</td>\n",
       "      <td>None</td>\n",
       "      <td>32</td>\n",
       "      <td>22cba73b04ede3a525f7749773c63b3b</td>\n",
       "      <td>3MW</td>\n",
       "    </tr>\n",
       "    <tr>\n",
       "      <th>1</th>\n",
       "      <td>/hatrac/Image/9dc3b086d500c3e0cf95e19ecf436d33...</td>\n",
       "      <td>test_3MR.txt</td>\n",
       "      <td>None</td>\n",
       "      <td>31</td>\n",
       "      <td>9dc3b086d500c3e0cf95e19ecf436d33</td>\n",
       "      <td>3MR</td>\n",
       "    </tr>\n",
       "  </tbody>\n",
       "</table>\n",
       "</div>"
      ]
     },
     "metadata": {},
     "output_type": "display_data"
    },
    {
     "data": {
      "text/plain": [
       "<IPython.core.display.Markdown object>"
      ],
      "text/markdown": "## Validation Dataset"
     },
     "metadata": {},
     "output_type": "display_data"
    },
    {
     "data": {
      "text/plain": [
       "                                                 URL      Filename  \\\n",
       "0  /hatrac/Image/3155b8ed522dd76979a68848b1f1e128...  test_3MY.txt   \n",
       "\n",
       "  Description  Length                               MD5 Subject  \n",
       "0        None      31  3155b8ed522dd76979a68848b1f1e128     3MY  "
      ],
      "text/html": [
       "<div>\n",
       "<style scoped>\n",
       "    .dataframe tbody tr th:only-of-type {\n",
       "        vertical-align: middle;\n",
       "    }\n",
       "\n",
       "    .dataframe tbody tr th {\n",
       "        vertical-align: top;\n",
       "    }\n",
       "\n",
       "    .dataframe thead th {\n",
       "        text-align: right;\n",
       "    }\n",
       "</style>\n",
       "<table border=\"1\" class=\"dataframe\">\n",
       "  <thead>\n",
       "    <tr style=\"text-align: right;\">\n",
       "      <th></th>\n",
       "      <th>URL</th>\n",
       "      <th>Filename</th>\n",
       "      <th>Description</th>\n",
       "      <th>Length</th>\n",
       "      <th>MD5</th>\n",
       "      <th>Subject</th>\n",
       "    </tr>\n",
       "  </thead>\n",
       "  <tbody>\n",
       "    <tr>\n",
       "      <th>0</th>\n",
       "      <td>/hatrac/Image/3155b8ed522dd76979a68848b1f1e128...</td>\n",
       "      <td>test_3MY.txt</td>\n",
       "      <td>None</td>\n",
       "      <td>31</td>\n",
       "      <td>3155b8ed522dd76979a68848b1f1e128</td>\n",
       "      <td>3MY</td>\n",
       "    </tr>\n",
       "  </tbody>\n",
       "</table>\n",
       "</div>"
      ]
     },
     "metadata": {},
     "output_type": "display_data"
    }
   ],
   "execution_count": 17
  },
  {
   "cell_type": "code",
   "id": "30",
   "metadata": {
    "ExecuteTime": {
     "end_time": "2025-04-22T00:32:40.161955Z",
     "start_time": "2025-04-22T00:32:39.703328Z"
    }
   },
   "source": [
    "print(f'Dataset parents: {ml_instance.list_dataset_parents(training_dataset)}')\n",
    "print(f'Dataset children: {ml_instance.list_dataset_children(nested_dataset)}')\n"
   ],
   "outputs": [
    {
     "name": "stdout",
     "output_type": "stream",
     "text": [
      "Dataset parents: ['3WP']\n",
      "Dataset children: ['3XG', '3X0', '3X8']\n"
     ]
    }
   ],
   "execution_count": 18
  },
  {
   "cell_type": "code",
   "id": "31",
   "metadata": {},
   "source": [
    "dataset_citation = ml_instance.cite(nested_dataset)\n",
    "display(\n",
    "    HTML(f'Nested dataset_table citation: <a href={dataset_citation}>{dataset_citation}</a>')\n",
    ")"
   ],
   "outputs": [],
   "execution_count": null
  },
  {
   "cell_type": "code",
   "id": "32",
   "metadata": {},
   "source": [
    "display(\n",
    "     Markdown('## Nested Dataset -- Recursive Listing'),\n",
    "    JSON(ml_instance.list_dataset_members(nested_dataset, recurse=True))\n",
    ")"
   ],
   "outputs": [],
   "execution_count": null
  },
  {
   "cell_type": "markdown",
   "id": "33",
   "metadata": {},
   "source": [
    "### Dataset Versions\n",
    "Datasets have a version number which can be retrieved or incremented.  We follow the equivalent of semantic versioning, but for data rather than code.  Note that datasets are also versioned by virtue of the fact that the dataset RID can include a catalog snapshot ID as well."
   ]
  },
  {
   "cell_type": "code",
   "id": "34",
   "metadata": {},
   "source": [
    "print(f'Current dataset_table version for training_dataset: {ml_instance.dataset_version(training_dataset)}')\n",
    "next_version = ml_instance.increment_dataset_version(training_dataset, VersionPart.minor)\n",
    "print(f'Next dataset_table version for training_dataset: {next_version}')"
   ],
   "outputs": [],
   "execution_count": null
  },
  {
   "cell_type": "code",
   "id": "35",
   "metadata": {},
   "source": [
    "display(HTML(f'<a href={ml_instance.chaise_url(\"Dataset\")}>Browse Datasets</a>'))"
   ],
   "outputs": [],
   "execution_count": null
  },
  {
   "cell_type": "code",
   "id": "36",
   "metadata": {},
   "source": [
    "test_catalog.delete_ermrest_catalog(really=True)"
   ],
   "outputs": [],
   "execution_count": null
  }
 ],
 "metadata": {
  "kernelspec": {
   "display_name": "Python 3 (ipykernel)",
   "language": "python",
   "name": "python3"
  },
  "language_info": {
   "codemirror_mode": {
    "name": "ipython",
    "version": 3
   },
   "file_extension": ".py",
   "mimetype": "text/x-python",
   "name": "python",
   "nbconvert_exporter": "python",
   "pygments_lexer": "ipython3",
   "version": "3.12.2"
  }
 },
 "nbformat": 4,
 "nbformat_minor": 5
}
