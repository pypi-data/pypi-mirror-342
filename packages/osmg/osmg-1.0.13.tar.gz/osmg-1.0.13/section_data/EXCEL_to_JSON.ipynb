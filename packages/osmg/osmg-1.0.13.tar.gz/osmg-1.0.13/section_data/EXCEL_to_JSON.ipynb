{
 "cells": [
  {
   "cell_type": "markdown",
   "id": "d278a23a",
   "metadata": {},
   "source": [
    "# Excel to JSON\n",
    "The following code converts the AISC shapes database excel file to JSON.\n",
    "\n",
    "The original file contains two sections per row. The left has\n",
    "imperial, and the right metric units, but they do not correspond to\n",
    "the exact same section (the metric section dimensions are close to\n",
    "the imperial size but rounded up, they are not merely\n",
    "converted). The following code reads the imperial sections only.\n",
    "\n",
    "To decrease the lookup time for the subsequent analysis, we only\n",
    "extract data for specific section types."
   ]
  },
  {
   "cell_type": "code",
   "execution_count": null,
   "id": "5ef75152",
   "metadata": {},
   "outputs": [],
   "source": [
    "import json\n",
    "from pathlib import Path\n",
    "\n",
    "import pandas as pd"
   ]
  },
  {
   "cell_type": "code",
   "execution_count": null,
   "id": "7e26a59f",
   "metadata": {},
   "outputs": [],
   "source": [
    "contents = pd.read_excel(\n",
    "    'aisc-shapes-database-v15.0.xlsx', sheet_name='Database v15.0', usecols='A:CF'\n",
    ")"
   ]
  },
  {
   "cell_type": "code",
   "execution_count": null,
   "id": "e097a2e2",
   "metadata": {},
   "outputs": [],
   "source": [
    "# instantiate an empty list to store the dictionaries\n",
    "sections = {}\n",
    "for i in range(len(contents)):  # for each row\n",
    "    # turn row into a dictionary\n",
    "    dct = dict(contents.loc[i])\n",
    "\n",
    "    # we only want data for specific section types\n",
    "    if dct['Type'] not in {'W', 'HSS'}:\n",
    "        continue\n",
    "\n",
    "    # filter out key-value pairs\n",
    "    # where value = '-'\n",
    "    # and redundant keys\n",
    "    new_dct = {}\n",
    "    for key, value in dct.items():\n",
    "        if value != '–':  # noqa: RUF001\n",
    "            new_dct[key] = value  # noqa: PERF403\n",
    "    # add it to the list\n",
    "    sections[dct['AISC_Manual_Label']] = new_dct"
   ]
  },
  {
   "cell_type": "code",
   "execution_count": null,
   "id": "fc31d454",
   "metadata": {},
   "outputs": [],
   "source": [
    "# save to a JSON file\n",
    "with Path('data/sections.json').open('w', encoding='utf-8') as f:\n",
    "    f.write(json.dumps(sections))"
   ]
  }
 ],
 "metadata": {
  "kernelspec": {
   "display_name": "Python 3",
   "language": "python",
   "name": "python3"
  }
 },
 "nbformat": 4,
 "nbformat_minor": 5
}