{
 "cells": [
  {
   "cell_type": "code",
   "execution_count": null,
   "id": "3d63e9c0",
   "metadata": {},
   "outputs": [],
   "source": [
    "import pandas as pd\n",
    "import numpy as np\n",
    "import matplotlib.pyplot as plt\n",
    "import seaborn as sns\n",
    "from statsmodels.graphics.tsaplots import plot_acf,plot_pacf\n",
    "from statsmodels.tsa.stattools import adfuller\n",
    "from statsmodels.tsa.arima.model import ARIMA\n",
    "from statsmodels.tsa.statespace import sarimax\n",
    "from sklearn.metrics import r2_score,mean_squared_error"
   ]
  },
  {
   "cell_type": "code",
   "execution_count": null,
   "id": "411787bc",
   "metadata": {},
   "outputs": [],
   "source": [
    "df=pd.read_csv('data/monthly-sunspots.csv')\n",
    "df['Date']=df['Month']\n",
    "del df['Month']\n",
    "display(df.head())"
   ]
  },
  {
   "cell_type": "code",
   "execution_count": null,
   "id": "af7abd2d",
   "metadata": {},
   "outputs": [],
   "source": [
    "df['Date']=pd.to_datetime(df['Date'])\n",
    "df"
   ]
  },
  {
   "cell_type": "code",
   "execution_count": null,
   "id": "10b20a75",
   "metadata": {},
   "outputs": [],
   "source": [
    "print(df.isnull().sum())"
   ]
  },
  {
   "cell_type": "code",
   "execution_count": null,
   "id": "d8a439ba",
   "metadata": {},
   "outputs": [],
   "source": [
    "display(df.describe())"
   ]
  },
  {
   "cell_type": "code",
   "execution_count": null,
   "id": "d7ef84ea",
   "metadata": {},
   "outputs": [],
   "source": [
    "df.info()"
   ]
  },
  {
   "cell_type": "code",
   "execution_count": null,
   "id": "f79409e8",
   "metadata": {},
   "outputs": [],
   "source": [
    "plt.plot(df['Sunspots'],label='Sunspots')\n",
    "plt.xlabel('Date')\n",
    "plt.ylabel(\"Sunspots\")\n",
    "plt.legend()\n",
    "plt.title('Sunspots By Date')\n",
    "plt.show()"
   ]
  },
  {
   "cell_type": "code",
   "execution_count": null,
   "id": "fbf0d907",
   "metadata": {},
   "outputs": [],
   "source": [
    "def stationarity_test(data):\n",
    "    data=adfuller(data)\n",
    "    print(f'Result : The Data is {\"not\" if data[1]<0.05 else \"\"} Stationary')\n",
    "\n",
    "stationarity_test(df['Sunspots'])"
   ]
  },
  {
   "cell_type": "code",
   "execution_count": null,
   "id": "7965415d",
   "metadata": {},
   "outputs": [],
   "source": [
    "plot_acf(df['Sunspots'],lags=7)\n",
    "plot_pacf(df['Sunspots'],lags=7)\n",
    "plt.show()"
   ]
  },
  {
   "cell_type": "code",
   "execution_count": null,
   "id": "7c5c5023",
   "metadata": {},
   "outputs": [],
   "source": [
    "arma_model=ARIMA(df['Sunspots'],order=(2,0,0))\n",
    "arma_fit=arma_model.fit()\n",
    "display(arma_fit.summary())"
   ]
  },
  {
   "cell_type": "code",
   "execution_count": null,
   "id": "46da16b9",
   "metadata": {},
   "outputs": [],
   "source": [
    "arima_model=ARIMA(df['Sunspots'],order=(2,1,0))\n",
    "arima_fit=arima_model.fit()\n",
    "display(arima_fit.summary())"
   ]
  },
  {
   "cell_type": "code",
   "execution_count": null,
   "id": "1e629e66",
   "metadata": {},
   "outputs": [],
   "source": [
    "sarima_model=sarimax.SARIMAX(df['Sunspots'],order=(1,1,0),seasonal_order=(1,2,0,4))\n",
    "sarima_fit=sarima_model.fit()\n",
    "display(sarima_fit.summary())"
   ]
  },
  {
   "cell_type": "code",
   "execution_count": null,
   "id": "e3ae7519",
   "metadata": {},
   "outputs": [],
   "source": [
    "display(arma_fit.aic,arima_fit.aic,sarima_fit.aic)"
   ]
  },
  {
   "cell_type": "code",
   "execution_count": null,
   "id": "e9e40bbd",
   "metadata": {},
   "outputs": [],
   "source": [
    "display(arma_fit.bic,arima_fit.bic,sarima_fit.bic)"
   ]
  },
  {
   "cell_type": "code",
   "execution_count": null,
   "id": "8773dcb6",
   "metadata": {},
   "outputs": [],
   "source": [
    "display(arma_fit.hqic,arima_fit.hqic,sarima_fit.hqic)"
   ]
  },
  {
   "cell_type": "code",
   "execution_count": null,
   "id": "50ca8a19",
   "metadata": {},
   "outputs": [],
   "source": [
    "arima_fit.resid.plot(color='teal')\n",
    "plt.title('Residual Plot')\n",
    "plt.show()"
   ]
  },
  {
   "cell_type": "code",
   "execution_count": null,
   "id": "6b6ddce5",
   "metadata": {},
   "outputs": [],
   "source": [
    "plt.plot(df['Sunspots'],label='Original',color='blue')\n",
    "plt.plot(arima_fit.predict(),label='Forecast',color='red')\n",
    "plt.title(\"Forecast\")\n",
    "plt.legend()\n",
    "plt.show()"
   ]
  },
  {
   "cell_type": "code",
   "execution_count": null,
   "id": "d3839c19",
   "metadata": {},
   "outputs": [],
   "source": [
    "print(f\"r2_Score : {r2_score(df['Sunspots'],arima_fit.predict())}\")\n",
    "print(f\"Mean Squared Error : {mean_squared_error(df['Sunspots'],arima_fit.predict())}\")"
   ]
  }
 ],
 "metadata": {
  "kernelspec": {
   "display_name": "Python 3 (ipykernel)",
   "language": "python",
   "name": "python3"
  },
  "language_info": {
   "codemirror_mode": {
    "name": "ipython",
    "version": 3
   },
   "file_extension": ".py",
   "mimetype": "text/x-python",
   "name": "python",
   "nbconvert_exporter": "python",
   "pygments_lexer": "ipython3",
   "version": "3.12.4"
  }
 },
 "nbformat": 4,
 "nbformat_minor": 5
}
