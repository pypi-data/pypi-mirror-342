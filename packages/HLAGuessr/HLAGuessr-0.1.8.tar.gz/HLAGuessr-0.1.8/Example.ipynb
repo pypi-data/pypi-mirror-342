{
 "cells": [
  {
   "cell_type": "code",
   "execution_count": 1,
   "id": "ec8ca799",
   "metadata": {},
   "outputs": [],
   "source": [
    "from HLAGuessr.processing import Processing\n",
    "from HLAGuessr.test_model import CrossValidation\n",
    "import os"
   ]
  },
  {
   "cell_type": "code",
   "execution_count": 4,
   "id": "09dacef7",
   "metadata": {},
   "outputs": [],
   "source": [
    "chain = ['alpha','beta']\n",
    "delimiter = '\\t'\n",
    "hla_threshold=1\n",
    "main_path = os.path.join(os.getcwd(),'HLAGuessr/')\n",
    "grouping = True\n",
    "untyped = False"
   ]
  },
  {
   "cell_type": "markdown",
   "id": "417c6145",
   "metadata": {},
   "source": [
    "#### Cross-validating classifier with typed dataset"
   ]
  },
  {
   "cell_type": "code",
   "execution_count": 3,
   "id": "105f8cec",
   "metadata": {},
   "outputs": [],
   "source": [
    "alpha_input = main_path + 'Example_validation_data/alpha_all_files.tsv.gz'\n",
    "beta_input = main_path + 'Example_validation_data/beta_all_files.tsv.gz'\n",
    "hla_input = main_path + 'Example_validation_data/HLA_grouped_patients.tsv'\n",
    "hla_target = 'A*02:01'\n",
    "solver = 'liblinear'\n",
    "penalty = 'l1'"
   ]
  },
  {
   "cell_type": "code",
   "execution_count": 4,
   "id": "12cb1f9d",
   "metadata": {},
   "outputs": [],
   "source": [
    "dm = Processing(chain,alpha_input,beta_input,delimiter,grouping)"
   ]
  },
  {
   "cell_type": "code",
   "execution_count": 6,
   "id": "3288ddd5",
   "metadata": {
    "scrolled": true
   },
   "outputs": [
    {
     "name": "stderr",
     "output_type": "stream",
     "text": [
      "100%|█████████████████████████████████████████| 22/22 [00:00<00:00, 1261.20it/s]\n",
      "100%|█████████████████████████████████████████| 21/21 [00:00<00:00, 1252.51it/s]\n",
      "100%|█████████████████████████████████████████| 21/21 [00:00<00:00, 1344.06it/s]\n",
      "100%|█████████████████████████████████████████| 21/21 [00:00<00:00, 1194.54it/s]\n",
      "100%|█████████████████████████████████████████| 21/21 [00:00<00:00, 1264.41it/s]\n",
      "100%|█████████████████████████████████████████| 21/21 [00:00<00:00, 1337.33it/s]\n",
      "100%|█████████████████████████████████████████| 21/21 [00:00<00:00, 2969.77it/s]\n",
      "100%|█████████████████████████████████████████| 21/21 [00:00<00:00, 3303.34it/s]\n",
      "8it [00:00, 101.72it/s]\n",
      "100%|█████████████████████████████████████████| 21/21 [00:00<00:00, 2544.06it/s]\n",
      "100%|█████████████████████████████████████████| 21/21 [00:00<00:00, 1262.37it/s]\n",
      "100%|█████████████████████████████████████████| 21/21 [00:00<00:00, 1116.44it/s]\n",
      "100%|██████████████████████████████████████████| 22/22 [00:00<00:00, 819.42it/s]\n",
      "100%|█████████████████████████████████████████| 21/21 [00:00<00:00, 1253.15it/s]\n",
      "100%|█████████████████████████████████████████| 21/21 [00:00<00:00, 1888.96it/s]\n",
      "100%|█████████████████████████████████████████| 21/21 [00:00<00:00, 2601.69it/s]\n",
      "100%|█████████████████████████████████████████| 21/21 [00:00<00:00, 2626.21it/s]\n",
      "8it [00:00, 161.78it/s]\n"
     ]
    },
    {
     "name": "stdout",
     "output_type": "stream",
     "text": [
      "Fitting 5 folds for each of 53 candidates, totalling 265 fits\n"
     ]
    }
   ],
   "source": [
    "cv = CrossValidation(hla_target,hla_input,chain,dm.ps,dm.data_test,grouping,hla_threshold,solver,penalty,untyped)"
   ]
  },
  {
   "cell_type": "code",
   "execution_count": 6,
   "id": "c3727fc6",
   "metadata": {},
   "outputs": [
    {
     "data": {
      "text/html": [
       "<div>\n",
       "<style scoped>\n",
       "    .dataframe tbody tr th:only-of-type {\n",
       "        vertical-align: middle;\n",
       "    }\n",
       "\n",
       "    .dataframe tbody tr th {\n",
       "        vertical-align: top;\n",
       "    }\n",
       "\n",
       "    .dataframe thead th {\n",
       "        text-align: right;\n",
       "    }\n",
       "</style>\n",
       "<table border=\"1\" class=\"dataframe\">\n",
       "  <thead>\n",
       "    <tr style=\"text-align: right;\">\n",
       "      <th></th>\n",
       "      <th>HLA</th>\n",
       "      <th>AUC</th>\n",
       "      <th>accuracy</th>\n",
       "      <th>precision</th>\n",
       "      <th>sensitivity</th>\n",
       "      <th>specificity</th>\n",
       "      <th>chain</th>\n",
       "    </tr>\n",
       "  </thead>\n",
       "  <tbody>\n",
       "    <tr>\n",
       "      <th>0</th>\n",
       "      <td>A*02:01</td>\n",
       "      <td>0.982143</td>\n",
       "      <td>0.869565</td>\n",
       "      <td>0.772727</td>\n",
       "      <td>0.944444</td>\n",
       "      <td>0.821429</td>\n",
       "      <td>alpha+beta</td>\n",
       "    </tr>\n",
       "  </tbody>\n",
       "</table>\n",
       "</div>"
      ],
      "text/plain": [
       "       HLA       AUC  accuracy  precision  sensitivity  specificity  \\\n",
       "0  A*02:01  0.982143  0.869565   0.772727     0.944444     0.821429   \n",
       "\n",
       "        chain  \n",
       "0  alpha+beta  "
      ]
     },
     "execution_count": 6,
     "metadata": {},
     "output_type": "execute_result"
    }
   ],
   "source": [
    "cv.df_summary"
   ]
  },
  {
   "cell_type": "markdown",
   "id": "c28c149a",
   "metadata": {},
   "source": [
    "#### Type individual from input repertoire"
   ]
  },
  {
   "cell_type": "code",
   "execution_count": 2,
   "id": "f0bbede3",
   "metadata": {},
   "outputs": [],
   "source": [
    "from HLAGuessr.load_model import PreprocessedModel\n",
    "from HLAGuessr.evaluate_data import GetProbabilities\n",
    "import HLAGuessr.model_tools as mt\n",
    "import pandas as pd, numpy as np"
   ]
  },
  {
   "cell_type": "code",
   "execution_count": 4,
   "id": "6e9e41fc",
   "metadata": {},
   "outputs": [],
   "source": [
    "alpha_input = main_path + 'Example_validation_data/alpha_example.tsv'\n",
    "beta_input = main_path + 'Example_validation_data/beta_example.tsv'\n",
    "grouping = False\n",
    "untyped = True"
   ]
  },
  {
   "cell_type": "code",
   "execution_count": 5,
   "id": "3297992b",
   "metadata": {},
   "outputs": [],
   "source": [
    "dm = Processing(chain,alpha_input,beta_input,delimiter,grouping)"
   ]
  },
  {
   "cell_type": "code",
   "execution_count": 5,
   "id": "24d8ac6e",
   "metadata": {},
   "outputs": [],
   "source": [
    "f_params = main_path + 'Training_data/classifier_params_alpha+beta.tsv'\n",
    "df_param = pd.read_csv(f_params,delimiter='\\t')\n",
    "hla_set = list(df_param['HLA'])"
   ]
  },
  {
   "cell_type": "code",
   "execution_count": 11,
   "id": "1eda3615",
   "metadata": {},
   "outputs": [],
   "source": [
    "hla_target = 'A*02:01'\n",
    "df1 = df_param.loc[df_param['HLA']==hla_target,:]\n",
    "auc = float(df1['AUC'].iloc[0])    "
   ]
  },
  {
   "cell_type": "code",
   "execution_count": 12,
   "id": "e329fc9e",
   "metadata": {},
   "outputs": [
    {
     "data": {
      "text/plain": [
       "0.9782608695652176"
      ]
     },
     "execution_count": 12,
     "metadata": {},
     "output_type": "execute_result"
    }
   ],
   "source": [
    "auc"
   ]
  },
  {
   "cell_type": "code",
   "execution_count": 7,
   "id": "111cacf7",
   "metadata": {
    "scrolled": true
   },
   "outputs": [
    {
     "name": "stdout",
     "output_type": "stream",
     "text": [
      "Individual 17_B:\n"
     ]
    },
    {
     "name": "stderr",
     "output_type": "stream",
     "text": [
      "100%|█████████████████████████████████████████| 18/18 [00:00<00:00, 3178.57it/s]\n",
      "  0%|                                                    | 0/17 [00:00<?, ?it/s]\n",
      "100%|█████████████████████████████████████████| 17/17 [00:00<00:00, 2401.27it/s]\n",
      "100%|█████████████████████████████████████████| 18/18 [00:00<00:00, 3200.81it/s]\n",
      "\n",
      "100%|█████████████████████████████████████████| 17/17 [00:00<00:00, 2515.37it/s]\n",
      "100%|█████████████████████████████████████████| 17/17 [00:00<00:00, 2692.11it/s]\n",
      "100%|█████████████████████████████████████████| 18/18 [00:00<00:00, 3198.91it/s]\n",
      "8it [00:00, 195.28it/s]\n",
      "100%|██████████████████████████████████████████| 18/18 [00:00<00:00, 962.39it/s]\n",
      "100%|█████████████████████████████████████████| 18/18 [00:00<00:00, 1178.51it/s]\n",
      "100%|█████████████████████████████████████████| 18/18 [00:00<00:00, 1255.95it/s]\n",
      "100%|██████████████████████████████████████████| 18/18 [00:00<00:00, 790.51it/s]\n",
      "100%|█████████████████████████████████████████| 18/18 [00:00<00:00, 1108.59it/s]\n",
      "100%|█████████████████████████████████████████| 17/17 [00:00<00:00, 1095.51it/s]\n",
      "100%|█████████████████████████████████████████| 17/17 [00:00<00:00, 1118.24it/s]\n",
      "100%|█████████████████████████████████████████| 17/17 [00:00<00:00, 1146.91it/s]\n",
      "8it [00:00, 196.18it/s]\n"
     ]
    },
    {
     "name": "stdout",
     "output_type": "stream",
     "text": [
      "Fitting 5 folds for each of 53 candidates, totalling 265 fits\n",
      "A*01:01  -> Probability: 0.9999999999748646\t Final_classification: True\t AUC: 1.0\t Accuracy: 0.8536585365853658\t Precision: 0.625\t Sensitivity: 1.0\t Specificity: 0.8064516129032258\n"
     ]
    },
    {
     "name": "stderr",
     "output_type": "stream",
     "text": [
      "100%|████████████████████████████████████████████| 7/7 [00:00<00:00, 524.66it/s]\n",
      "100%|████████████████████████████████████████████| 7/7 [00:00<00:00, 537.74it/s]\n",
      "100%|████████████████████████████████████████████| 7/7 [00:00<00:00, 391.99it/s]\n",
      "100%|████████████████████████████████████████████| 7/7 [00:00<00:00, 359.60it/s]\n",
      "100%|████████████████████████████████████████████| 7/7 [00:00<00:00, 420.08it/s]\n",
      "100%|████████████████████████████████████████████| 7/7 [00:00<00:00, 606.13it/s]\n",
      "100%|████████████████████████████████████████████| 7/7 [00:00<00:00, 650.14it/s]\n",
      "100%|████████████████████████████████████████████| 7/7 [00:00<00:00, 862.97it/s]\n",
      "8it [00:00, 269.19it/s]\n",
      "100%|████████████████████████████████████████████| 7/7 [00:00<00:00, 498.87it/s]\n",
      "100%|████████████████████████████████████████████| 7/7 [00:00<00:00, 968.60it/s]\n",
      "100%|████████████████████████████████████████████| 7/7 [00:00<00:00, 407.21it/s]\n",
      "100%|████████████████████████████████████████████| 7/7 [00:00<00:00, 420.64it/s]\n",
      "100%|████████████████████████████████████████████| 7/7 [00:00<00:00, 437.36it/s]\n",
      "100%|████████████████████████████████████████████| 7/7 [00:00<00:00, 266.54it/s]\n",
      "100%|████████████████████████████████████████████| 7/7 [00:00<00:00, 542.15it/s]\n",
      "100%|████████████████████████████████████████████| 7/7 [00:00<00:00, 572.43it/s]\n",
      "8it [00:00, 199.40it/s]\n"
     ]
    },
    {
     "name": "stdout",
     "output_type": "stream",
     "text": [
      "Fitting 5 folds for each of 53 candidates, totalling 265 fits\n",
      "A*02:01  -> Probability: 1.0\t Final_classification: True\t AUC: 0.9782608695652176\t Accuracy: 0.8536585365853658\t Precision: 0.7727272727272727\t Sensitivity: 0.9444444444444444\t Specificity: 0.782608695652174\n"
     ]
    },
    {
     "name": "stderr",
     "output_type": "stream",
     "text": [
      "100%|████████████████████████████████████████████| 1/1 [00:00<00:00, 277.84it/s]\n",
      "100%|█████████████████████████████████████████████| 1/1 [00:00<00:00, 60.88it/s]\n",
      "100%|█████████████████████████████████████████████| 1/1 [00:00<00:00, 65.22it/s]\n",
      "100%|█████████████████████████████████████████████| 1/1 [00:00<00:00, 69.26it/s]\n",
      "100%|█████████████████████████████████████████████| 1/1 [00:00<00:00, 71.19it/s]\n",
      "100%|█████████████████████████████████████████████| 1/1 [00:00<00:00, 74.62it/s]\n",
      "0it [00:00, ?it/s]\n",
      "100%|█████████████████████████████████████████████| 1/1 [00:00<00:00, 97.07it/s]\n",
      "8it [00:00, 194.05it/s]\n",
      "100%|█████████████████████████████████████████████| 1/1 [00:00<00:00, 53.70it/s]\n",
      "100%|█████████████████████████████████████████████| 1/1 [00:00<00:00, 59.87it/s]\n",
      "100%|█████████████████████████████████████████████| 1/1 [00:00<00:00, 63.43it/s]\n",
      "100%|█████████████████████████████████████████████| 1/1 [00:00<00:00, 66.64it/s]\n",
      "0it [00:00, ?it/s]\n",
      "100%|█████████████████████████████████████████████| 1/1 [00:00<00:00, 73.52it/s]\n",
      "100%|█████████████████████████████████████████████| 1/1 [00:00<00:00, 64.79it/s]\n",
      "100%|████████████████████████████████████████████| 1/1 [00:00<00:00, 486.69it/s]\n",
      "8it [00:00, 182.25it/s]\n"
     ]
    },
    {
     "name": "stdout",
     "output_type": "stream",
     "text": [
      "Fitting 5 folds for each of 53 candidates, totalling 265 fits\n",
      "A*03:01  -> Probability: 0.9891907774409804\t Final_classification: True\t AUC: 0.9243697478991596\t Accuracy: 0.7073170731707317\t Precision: 0.3529411764705882\t Sensitivity: 0.8571428571428571\t Specificity: 0.6764705882352942\n"
     ]
    },
    {
     "name": "stderr",
     "output_type": "stream",
     "text": [
      "0it [00:00, ?it/s]                                        | 0/1 [00:00<?, ?it/s]\n",
      "100%|█████████████████████████████████████████████| 1/1 [00:00<00:00, 55.16it/s]\n",
      "0it [00:00, ?it/s]\n",
      "0it [00:00, ?it/s]\n",
      "0it [00:00, ?it/s]\n",
      "0it [00:00, ?it/s]\n",
      "0it [00:00, ?it/s]\n",
      "0it [00:00, ?it/s]\n",
      "8it [00:00, 239.62it/s]\n",
      "0it [00:00, ?it/s]                                        | 0/1 [00:00<?, ?it/s]\n",
      "0it [00:00, ?it/s]\n",
      "0it [00:00, ?it/s]\n",
      "0it [00:00, ?it/s]\n",
      "100%|█████████████████████████████████████████████| 1/1 [00:00<00:00, 55.51it/s]\n",
      "0it [00:00, ?it/s]\n",
      "0it [00:00, ?it/s]\n",
      "0it [00:00, ?it/s]\n",
      "8it [00:00, 208.84it/s]\n"
     ]
    },
    {
     "name": "stdout",
     "output_type": "stream",
     "text": [
      "Fitting 5 folds for each of 53 candidates, totalling 265 fits\n",
      "A*11:01  -> Probability: 0.2341610071533627\t Final_classification: False\t AUC: 0.9523809523809524\t Accuracy: 0.951219512195122\t Precision: 0.8333333333333334\t Sensitivity: 0.8333333333333334\t Specificity: 0.9714285714285714\n",
      "No HLA-related TCRs have been found in your repertoire\n",
      "A*23:01  -> Probability: N/A\t Final_classification: False\t AUC: 0.5\t Accuracy: 1\t Precision: 0\t Sensitivity: 0\t Specificity: 1\n"
     ]
    },
    {
     "name": "stderr",
     "output_type": "stream",
     "text": [
      "100%|█████████████████████████████████████████████| 1/1 [00:00<00:00, 59.32it/s]\n",
      "100%|█████████████████████████████████████████████| 1/1 [00:00<00:00, 63.65it/s]\n",
      "0it [00:00, ?it/s]\n",
      "100%|█████████████████████████████████████████████| 1/1 [00:00<00:00, 60.54it/s]\n",
      "0it [00:00, ?it/s]\n",
      "0it [00:00, ?it/s]\n",
      "0it [00:00, ?it/s]\n",
      "0it [00:00, ?it/s]\n",
      "8it [00:00, 196.79it/s]\n",
      "100%|█████████████████████████████████████████████| 1/1 [00:00<00:00, 63.37it/s]\n",
      "0it [00:00, ?it/s]\n",
      "100%|█████████████████████████████████████████████| 1/1 [00:00<00:00, 54.69it/s]\n",
      "0it [00:00, ?it/s]\n",
      "0it [00:00, ?it/s]\n",
      "0it [00:00, ?it/s]\n",
      "100%|█████████████████████████████████████████████| 1/1 [00:00<00:00, 72.74it/s]\n",
      "0it [00:00, ?it/s]\n",
      "8it [00:00, 204.34it/s]\n"
     ]
    },
    {
     "name": "stdout",
     "output_type": "stream",
     "text": [
      "Fitting 5 folds for each of 53 candidates, totalling 265 fits\n",
      "A*24:02  -> Probability: 0.014058213350666725\t Final_classification: False\t AUC: 0.9915966386554622\t Accuracy: 0.975609756097561\t Precision: 1.0\t Sensitivity: 0.8571428571428571\t Specificity: 1.0\n",
      "No HLA-related TCRs have been found in your repertoire\n",
      "A*25:01  -> Probability: N/A\t Final_classification: False\t AUC: 0.5\t Accuracy: 1\t Precision: 0\t Sensitivity: 0\t Specificity: 1\n"
     ]
    },
    {
     "name": "stderr",
     "output_type": "stream",
     "text": [
      "0it [00:00, ?it/s]                                        | 0/1 [00:00<?, ?it/s]\n",
      "100%|█████████████████████████████████████████████| 1/1 [00:00<00:00, 62.59it/s]\n",
      "0it [00:00, ?it/s]\n",
      "0it [00:00, ?it/s]\n",
      "0it [00:00, ?it/s]\n",
      "0it [00:00, ?it/s]\n",
      "0it [00:00, ?it/s]\n",
      "0it [00:00, ?it/s]\n",
      "8it [00:00, 256.54it/s]\n",
      "0it [00:00, ?it/s]                                        | 0/1 [00:00<?, ?it/s]\n",
      "100%|█████████████████████████████████████████████| 1/1 [00:00<00:00, 64.14it/s]\n",
      "0it [00:00, ?it/s]\n",
      "0it [00:00, ?it/s]\n",
      "0it [00:00, ?it/s]\n",
      "0it [00:00, ?it/s]\n",
      "0it [00:00, ?it/s]\n",
      "0it [00:00, ?it/s]\n",
      "8it [00:00, 203.85it/s]\n"
     ]
    },
    {
     "name": "stdout",
     "output_type": "stream",
     "text": [
      "Fitting 5 folds for each of 53 candidates, totalling 265 fits\n",
      "A*26:01  -> Probability: 0.3268626532197631\t Final_classification: False\t AUC: 0.9649122807017544\t Accuracy: 0.951219512195122\t Precision: 0.6\t Sensitivity: 1.0\t Specificity: 0.9473684210526316\n"
     ]
    },
    {
     "name": "stderr",
     "output_type": "stream",
     "text": [
      "100%|████████████████████████████████████████████| 1/1 [00:00<00:00, 364.63it/s]\n",
      "0it [00:00, ?it/s]\n",
      "0it [00:00, ?it/s]\n",
      "0it [00:00, ?it/s]\n",
      "0it [00:00, ?it/s]\n",
      "0it [00:00, ?it/s]\n",
      "0it [00:00, ?it/s]\n",
      "0it [00:00, ?it/s]\n",
      "8it [00:00, 217.95it/s]\n",
      "100%|████████████████████████████████████████████| 1/1 [00:00<00:00, 186.55it/s]\n",
      "0it [00:00, ?it/s]\n",
      "0it [00:00, ?it/s]\n",
      "0it [00:00, ?it/s]\n",
      "0it [00:00, ?it/s]\n",
      "0it [00:00, ?it/s]\n",
      "0it [00:00, ?it/s]\n",
      "0it [00:00, ?it/s]\n",
      "8it [00:00, 225.74it/s]\n"
     ]
    },
    {
     "name": "stdout",
     "output_type": "stream",
     "text": [
      "Fitting 5 folds for each of 53 candidates, totalling 265 fits\n",
      "A*29:02  -> Probability: 0.19519016295766342\t Final_classification: False\t AUC: 1.0\t Accuracy: 0.926829268292683\t Precision: 0.5714285714285714\t Sensitivity: 1.0\t Specificity: 0.918918918918919\n",
      "No HLA-related TCRs have been found in your repertoire\n",
      "A*31:01  -> Probability: N/A\t Final_classification: False\t AUC: 0.5\t Accuracy: 1\t Precision: 0\t Sensitivity: 0\t Specificity: 1\n"
     ]
    },
    {
     "name": "stderr",
     "output_type": "stream",
     "text": [
      "100%|█████████████████████████████████████████████| 1/1 [00:00<00:00, 61.14it/s]\n",
      "0it [00:00, ?it/s]\n",
      "0it [00:00, ?it/s]\n",
      "0it [00:00, ?it/s]\n",
      "0it [00:00, ?it/s]\n",
      "0it [00:00, ?it/s]\n",
      "0it [00:00, ?it/s]\n",
      "0it [00:00, ?it/s]\n",
      "8it [00:00, 203.45it/s]\n",
      "0it [00:00, ?it/s]                                        | 0/1 [00:00<?, ?it/s]\n",
      "100%|█████████████████████████████████████████████| 1/1 [00:00<00:00, 80.27it/s]\n",
      "0it [00:00, ?it/s]\n",
      "0it [00:00, ?it/s]\n",
      "0it [00:00, ?it/s]\n",
      "0it [00:00, ?it/s]\n",
      "0it [00:00, ?it/s]\n",
      "0it [00:00, ?it/s]\n",
      "8it [00:00, 208.74it/s]\n"
     ]
    },
    {
     "name": "stdout",
     "output_type": "stream",
     "text": [
      "Fitting 5 folds for each of 53 candidates, totalling 265 fits\n",
      "A*32:01  -> Probability: 0.13239128384839147\t Final_classification: False\t AUC: 0.782051282051282\t Accuracy: 0.951219512195122\t Precision: 0.0\t Sensitivity: 0.0\t Specificity: 1.0\n",
      "No HLA-related TCRs have been found in your repertoire\n",
      "A*33:01  -> Probability: N/A\t Final_classification: False\t AUC: 0.5\t Accuracy: 1\t Precision: 0\t Sensitivity: 0\t Specificity: 1\n",
      "No HLA-related TCRs have been found in your repertoire\n",
      "A*34:01  -> Probability: N/A\t Final_classification: False\t AUC: 0.5\t Accuracy: 1\t Precision: 0\t Sensitivity: 0\t Specificity: 1\n",
      "No HLA-related TCRs have been found in your repertoire\n",
      "A*68:01  -> Probability: N/A\t Final_classification: False\t AUC: 0.5\t Accuracy: 1\t Precision: 0\t Sensitivity: 0\t Specificity: 1\n",
      "No HLA-related TCRs have been found in your repertoire\n",
      "A*68:02  -> Probability: N/A\t Final_classification: False\t AUC: 0.5\t Accuracy: 1\t Precision: 0\t Sensitivity: 0\t Specificity: 1\n"
     ]
    },
    {
     "name": "stderr",
     "output_type": "stream",
     "text": [
      "100%|██████████████████████████████████████████| 19/19 [00:00<00:00, 958.03it/s]\n",
      "100%|█████████████████████████████████████████| 19/19 [00:00<00:00, 1015.39it/s]\n",
      "100%|█████████████████████████████████████████| 19/19 [00:00<00:00, 1038.76it/s]\n",
      "100%|█████████████████████████████████████████| 19/19 [00:00<00:00, 1098.17it/s]\n",
      "100%|█████████████████████████████████████████| 19/19 [00:00<00:00, 1153.27it/s]\n",
      "100%|█████████████████████████████████████████| 19/19 [00:00<00:00, 1196.59it/s]\n",
      "100%|█████████████████████████████████████████| 18/18 [00:00<00:00, 1190.62it/s]\n",
      "100%|█████████████████████████████████████████| 18/18 [00:00<00:00, 1239.21it/s]\n",
      "8it [00:00, 193.19it/s]\n",
      "100%|██████████████████████████████████████████| 19/19 [00:00<00:00, 990.01it/s]\n",
      "100%|█████████████████████████████████████████| 19/19 [00:00<00:00, 1206.03it/s]\n",
      "100%|██████████████████████████████████████████| 19/19 [00:00<00:00, 897.52it/s]\n",
      "100%|█████████████████████████████████████████| 19/19 [00:00<00:00, 1114.79it/s]\n",
      "100%|█████████████████████████████████████████| 19/19 [00:00<00:00, 1140.87it/s]\n",
      "100%|█████████████████████████████████████████| 19/19 [00:00<00:00, 1170.17it/s]\n",
      "100%|█████████████████████████████████████████| 18/18 [00:00<00:00, 1126.81it/s]\n",
      "100%|█████████████████████████████████████████| 18/18 [00:00<00:00, 1151.60it/s]\n",
      "8it [00:00, 182.33it/s]\n"
     ]
    },
    {
     "name": "stdout",
     "output_type": "stream",
     "text": [
      "Fitting 5 folds for each of 53 candidates, totalling 265 fits\n",
      "B*07:02  -> Probability: 0.9995801100068824\t Final_classification: True\t AUC: 1.0\t Accuracy: 0.926829268292683\t Precision: 0.7692307692307693\t Sensitivity: 1.0\t Specificity: 0.9032258064516128\n"
     ]
    },
    {
     "name": "stderr",
     "output_type": "stream",
     "text": [
      "100%|█████████████████████████████████████████| 41/41 [00:00<00:00, 1803.96it/s]\n",
      "100%|█████████████████████████████████████████| 41/41 [00:00<00:00, 2080.81it/s]\n",
      "100%|█████████████████████████████████████████| 41/41 [00:00<00:00, 1992.73it/s]\n",
      "100%|█████████████████████████████████████████| 41/41 [00:00<00:00, 2049.66it/s]\n",
      "100%|█████████████████████████████████████████| 41/41 [00:00<00:00, 2168.09it/s]\n",
      "100%|█████████████████████████████████████████| 41/41 [00:00<00:00, 2294.48it/s]\n",
      "100%|█████████████████████████████████████████| 40/40 [00:00<00:00, 2386.62it/s]\n",
      "100%|█████████████████████████████████████████| 40/40 [00:00<00:00, 2418.27it/s]\n",
      "8it [00:00, 196.82it/s]\n",
      "100%|█████████████████████████████████████████| 41/41 [00:00<00:00, 1715.34it/s]\n",
      "100%|█████████████████████████████████████████| 41/41 [00:00<00:00, 1987.96it/s]\n",
      "100%|█████████████████████████████████████████| 41/41 [00:00<00:00, 1928.50it/s]\n",
      "100%|█████████████████████████████████████████| 41/41 [00:00<00:00, 1388.05it/s]\n",
      "100%|█████████████████████████████████████████| 41/41 [00:00<00:00, 1640.37it/s]\n",
      "100%|█████████████████████████████████████████| 41/41 [00:00<00:00, 1788.60it/s]\n",
      "100%|█████████████████████████████████████████| 40/40 [00:00<00:00, 2196.43it/s]\n",
      "100%|█████████████████████████████████████████| 40/40 [00:00<00:00, 2465.21it/s]\n",
      "8it [00:00, 132.48it/s]\n"
     ]
    },
    {
     "name": "stdout",
     "output_type": "stream",
     "text": [
      "Fitting 5 folds for each of 53 candidates, totalling 265 fits\n",
      "B*08:01  -> Probability: 0.9999992885629184\t Final_classification: True\t AUC: 1.0\t Accuracy: 0.902439024390244\t Precision: 0.6\t Sensitivity: 1.0\t Specificity: 0.8857142857142857\n",
      "No HLA-related TCRs have been found in your repertoire\n",
      "B*14:01  -> Probability: N/A\t Final_classification: False\t AUC: 0.5\t Accuracy: 1\t Precision: 0\t Sensitivity: 0\t Specificity: 1\n"
     ]
    },
    {
     "name": "stderr",
     "output_type": "stream",
     "text": [
      "100%|████████████████████████████████████████████| 1/1 [00:00<00:00, 116.79it/s]\n",
      "100%|█████████████████████████████████████████████| 1/1 [00:00<00:00, 48.63it/s]\n",
      "0it [00:00, ?it/s]\n",
      "0it [00:00, ?it/s]\n",
      "0it [00:00, ?it/s]\n",
      "0it [00:00, ?it/s]\n",
      "0it [00:00, ?it/s]\n",
      "0it [00:00, ?it/s]\n",
      "8it [00:00, 230.50it/s]\n",
      "100%|█████████████████████████████████████████████| 1/1 [00:00<00:00, 90.95it/s]\n",
      "100%|█████████████████████████████████████████████| 1/1 [00:00<00:00, 54.13it/s]\n",
      "0it [00:00, ?it/s]\n",
      "0it [00:00, ?it/s]\n",
      "0it [00:00, ?it/s]\n",
      "0it [00:00, ?it/s]\n",
      "0it [00:00, ?it/s]\n",
      "0it [00:00, ?it/s]\n",
      "8it [00:00, 216.85it/s]\n"
     ]
    },
    {
     "name": "stdout",
     "output_type": "stream",
     "text": [
      "Fitting 5 folds for each of 53 candidates, totalling 265 fits\n",
      "B*14:02  -> Probability: 0.008947490282379322\t Final_classification: False\t AUC: 1.0\t Accuracy: 0.975609756097561\t Precision: 0.5\t Sensitivity: 1.0\t Specificity: 0.975\n"
     ]
    },
    {
     "name": "stderr",
     "output_type": "stream",
     "text": [
      "100%|████████████████████████████████████████████| 1/1 [00:00<00:00, 113.00it/s]\n",
      "100%|█████████████████████████████████████████████| 1/1 [00:00<00:00, 62.32it/s]\n",
      "100%|█████████████████████████████████████████████| 1/1 [00:00<00:00, 46.99it/s]\n",
      "100%|█████████████████████████████████████████████| 1/1 [00:00<00:00, 54.85it/s]\n",
      "100%|█████████████████████████████████████████████| 1/1 [00:00<00:00, 65.19it/s]\n",
      "100%|█████████████████████████████████████████████| 1/1 [00:00<00:00, 70.51it/s]\n",
      "100%|█████████████████████████████████████████████| 1/1 [00:00<00:00, 75.54it/s]\n",
      "100%|█████████████████████████████████████████████| 1/1 [00:00<00:00, 78.52it/s]\n",
      "8it [00:00, 190.10it/s]\n",
      "100%|█████████████████████████████████████████████| 1/1 [00:00<00:00, 59.30it/s]\n",
      "100%|█████████████████████████████████████████████| 1/1 [00:00<00:00, 62.27it/s]\n",
      "100%|█████████████████████████████████████████████| 1/1 [00:00<00:00, 64.11it/s]\n",
      "100%|█████████████████████████████████████████████| 1/1 [00:00<00:00, 57.36it/s]\n",
      "100%|█████████████████████████████████████████████| 1/1 [00:00<00:00, 59.03it/s]\n",
      "100%|█████████████████████████████████████████████| 1/1 [00:00<00:00, 63.63it/s]\n",
      "100%|█████████████████████████████████████████████| 1/1 [00:00<00:00, 64.76it/s]\n",
      "100%|████████████████████████████████████████████| 1/1 [00:00<00:00, 120.15it/s]\n",
      "8it [00:00, 194.44it/s]\n"
     ]
    },
    {
     "name": "stdout",
     "output_type": "stream",
     "text": [
      "Fitting 5 folds for each of 53 candidates, totalling 265 fits\n",
      "B*15:01  -> Probability: 0.0027561519527220897\t Final_classification: False\t AUC: 1.0\t Accuracy: 0.902439024390244\t Precision: 0.2\t Sensitivity: 1.0\t Specificity: 0.9\n"
     ]
    },
    {
     "name": "stderr",
     "output_type": "stream",
     "text": [
      "100%|█████████████████████████████████████████████| 1/1 [00:00<00:00, 84.21it/s]\n",
      "0it [00:00, ?it/s]\n",
      "0it [00:00, ?it/s]\n",
      "0it [00:00, ?it/s]\n",
      "0it [00:00, ?it/s]\n",
      "0it [00:00, ?it/s]\n",
      "0it [00:00, ?it/s]\n",
      "0it [00:00, ?it/s]\n",
      "8it [00:00, 198.51it/s]\n",
      "0it [00:00, ?it/s]                                        | 0/1 [00:00<?, ?it/s]\n",
      "100%|█████████████████████████████████████████████| 1/1 [00:00<00:00, 61.56it/s]\n",
      "0it [00:00, ?it/s]\n",
      "0it [00:00, ?it/s]\n",
      "0it [00:00, ?it/s]\n",
      "0it [00:00, ?it/s]\n",
      "0it [00:00, ?it/s]\n",
      "0it [00:00, ?it/s]\n",
      "8it [00:00, 206.44it/s]\n"
     ]
    },
    {
     "name": "stdout",
     "output_type": "stream",
     "text": [
      "Fitting 5 folds for each of 53 candidates, totalling 265 fits\n",
      "B*18:01  -> Probability: 0.0015901743623864188\t Final_classification: False\t AUC: 1.0\t Accuracy: 0.8780487804878049\t Precision: 0.2857142857142857\t Sensitivity: 1.0\t Specificity: 0.8717948717948718\n"
     ]
    },
    {
     "name": "stderr",
     "output_type": "stream",
     "text": [
      "0it [00:00, ?it/s]                                        | 0/1 [00:00<?, ?it/s]\n",
      "100%|█████████████████████████████████████████████| 1/1 [00:00<00:00, 57.92it/s]\n",
      "0it [00:00, ?it/s]\n",
      "0it [00:00, ?it/s]\n",
      "0it [00:00, ?it/s]\n",
      "0it [00:00, ?it/s]\n",
      "0it [00:00, ?it/s]\n",
      "0it [00:00, ?it/s]\n",
      "8it [00:00, 207.44it/s]\n",
      "0it [00:00, ?it/s]                                        | 0/1 [00:00<?, ?it/s]\n",
      "100%|█████████████████████████████████████████████| 1/1 [00:00<00:00, 50.33it/s]\n",
      "0it [00:00, ?it/s]\n",
      "0it [00:00, ?it/s]\n",
      "0it [00:00, ?it/s]\n",
      "0it [00:00, ?it/s]\n",
      "0it [00:00, ?it/s]\n",
      "0it [00:00, ?it/s]\n",
      "8it [00:00, 244.62it/s]\n"
     ]
    },
    {
     "name": "stdout",
     "output_type": "stream",
     "text": [
      "Fitting 5 folds for each of 53 candidates, totalling 265 fits\n",
      "B*27:05  -> Probability: 0.008186549869561445\t Final_classification: False\t AUC: 0.9871794871794872\t Accuracy: 0.951219512195122\t Precision: 0.5\t Sensitivity: 1.0\t Specificity: 0.9487179487179488\n"
     ]
    },
    {
     "name": "stderr",
     "output_type": "stream",
     "text": [
      "100%|█████████████████████████████████████████████| 1/1 [00:00<00:00, 94.47it/s]\n",
      "0it [00:00, ?it/s]\n",
      "100%|█████████████████████████████████████████████| 1/1 [00:00<00:00, 49.12it/s]\n",
      "0it [00:00, ?it/s]\n",
      "0it [00:00, ?it/s]\n",
      "0it [00:00, ?it/s]\n",
      "0it [00:00, ?it/s]\n",
      "0it [00:00, ?it/s]\n",
      "8it [00:00, 258.04it/s]\n",
      "100%|████████████████████████████████████████████| 1/1 [00:00<00:00, 169.84it/s]\n",
      "100%|█████████████████████████████████████████████| 1/1 [00:00<00:00, 76.92it/s]\n",
      "0it [00:00, ?it/s]\n",
      "0it [00:00, ?it/s]\n",
      "0it [00:00, ?it/s]\n",
      "0it [00:00, ?it/s]\n",
      "0it [00:00, ?it/s]\n",
      "0it [00:00, ?it/s]\n",
      "8it [00:00, 206.56it/s]\n"
     ]
    },
    {
     "name": "stdout",
     "output_type": "stream",
     "text": [
      "Fitting 5 folds for each of 53 candidates, totalling 265 fits\n",
      "B*35:01  -> Probability: 0.02103262671727841\t Final_classification: False\t AUC: 1.0\t Accuracy: 1.0\t Precision: 1.0\t Sensitivity: 1.0\t Specificity: 1.0\n",
      "No HLA-related TCRs have been found in your repertoire\n",
      "B*35:02  -> Probability: N/A\t Final_classification: False\t AUC: 0.5\t Accuracy: 1\t Precision: 0\t Sensitivity: 0\t Specificity: 1\n"
     ]
    },
    {
     "name": "stderr",
     "output_type": "stream",
     "text": [
      "100%|█████████████████████████████████████████████| 1/1 [00:00<00:00, 84.48it/s]\n",
      "100%|█████████████████████████████████████████████| 1/1 [00:00<00:00, 61.59it/s]\n",
      "0it [00:00, ?it/s]\n",
      "0it [00:00, ?it/s]\n",
      "0it [00:00, ?it/s]\n",
      "0it [00:00, ?it/s]\n",
      "0it [00:00, ?it/s]\n",
      "0it [00:00, ?it/s]\n",
      "8it [00:00, 191.94it/s]\n",
      "100%|█████████████████████████████████████████████| 1/1 [00:00<00:00, 80.70it/s]\n",
      "0it [00:00, ?it/s]\n",
      "0it [00:00, ?it/s]\n",
      "0it [00:00, ?it/s]\n",
      "0it [00:00, ?it/s]\n",
      "100%|█████████████████████████████████████████████| 1/1 [00:00<00:00, 42.30it/s]\n",
      "0it [00:00, ?it/s]\n",
      "0it [00:00, ?it/s]\n",
      "8it [00:00, 231.55it/s]\n"
     ]
    },
    {
     "name": "stdout",
     "output_type": "stream",
     "text": [
      "Fitting 5 folds for each of 53 candidates, totalling 265 fits\n",
      "B*35:03  -> Probability: 0.5006660011173608\t Final_classification: False\t AUC: 1.0\t Accuracy: 0.926829268292683\t Precision: 0.4\t Sensitivity: 1.0\t Specificity: 0.9230769230769232\n",
      "No HLA-related TCRs have been found in your repertoire\n",
      "B*37:01  -> Probability: N/A\t Final_classification: False\t AUC: 0.5\t Accuracy: 1\t Precision: 0\t Sensitivity: 0\t Specificity: 1\n",
      "No HLA-related TCRs have been found in your repertoire\n",
      "B*38:01  -> Probability: N/A\t Final_classification: False\t AUC: 0.5\t Accuracy: 1\t Precision: 0\t Sensitivity: 0\t Specificity: 1\n",
      "No HLA-related TCRs have been found in your repertoire\n",
      "B*39:01  -> Probability: N/A\t Final_classification: False\t AUC: 0.5\t Accuracy: 1\t Precision: 0\t Sensitivity: 0\t Specificity: 1\n"
     ]
    },
    {
     "name": "stderr",
     "output_type": "stream",
     "text": [
      "100%|████████████████████████████████████████████| 1/1 [00:00<00:00, 189.29it/s]\n",
      "0it [00:00, ?it/s]\n",
      "0it [00:00, ?it/s]\n",
      "0it [00:00, ?it/s]\n",
      "0it [00:00, ?it/s]\n",
      "0it [00:00, ?it/s]\n",
      "0it [00:00, ?it/s]\n",
      "0it [00:00, ?it/s]\n",
      "8it [00:00, 224.05it/s]\n",
      "0it [00:00, ?it/s]                                        | 0/1 [00:00<?, ?it/s]\n",
      "0it [00:00, ?it/s]\n",
      "100%|█████████████████████████████████████████████| 1/1 [00:00<00:00, 65.05it/s]\n",
      "0it [00:00, ?it/s]\n",
      "0it [00:00, ?it/s]\n",
      "0it [00:00, ?it/s]\n",
      "0it [00:00, ?it/s]\n",
      "0it [00:00, ?it/s]\n",
      "8it [00:00, 212.88it/s]\n"
     ]
    },
    {
     "name": "stdout",
     "output_type": "stream",
     "text": [
      "Fitting 5 folds for each of 53 candidates, totalling 265 fits\n",
      "B*40:01  -> Probability: 0.002887786138990285\t Final_classification: False\t AUC: 0.9871794871794872\t Accuracy: 0.902439024390244\t Precision: 0.3333333333333333\t Sensitivity: 1.0\t Specificity: 0.8974358974358975\n",
      "No HLA-related TCRs have been found in your repertoire\n",
      "B*40:02  -> Probability: N/A\t Final_classification: False\t AUC: 0.5\t Accuracy: 1\t Precision: 0\t Sensitivity: 0\t Specificity: 1\n"
     ]
    },
    {
     "name": "stderr",
     "output_type": "stream",
     "text": [
      "100%|█████████████████████████████████████████████| 1/1 [00:00<00:00, 88.43it/s]\n",
      "0it [00:00, ?it/s]\n",
      "100%|█████████████████████████████████████████████| 1/1 [00:00<00:00, 74.43it/s]\n",
      "100%|█████████████████████████████████████████████| 1/1 [00:00<00:00, 66.48it/s]\n",
      "100%|█████████████████████████████████████████████| 1/1 [00:00<00:00, 70.69it/s]\n",
      "100%|█████████████████████████████████████████████| 1/1 [00:00<00:00, 88.83it/s]\n",
      "100%|████████████████████████████████████████████| 1/1 [00:00<00:00, 118.46it/s]\n",
      "0it [00:00, ?it/s]\n",
      "8it [00:00, 193.39it/s]\n",
      "100%|█████████████████████████████████████████████| 1/1 [00:00<00:00, 69.96it/s]\n",
      "100%|█████████████████████████████████████████████| 1/1 [00:00<00:00, 62.77it/s]\n",
      "100%|█████████████████████████████████████████████| 1/1 [00:00<00:00, 67.36it/s]\n",
      "100%|█████████████████████████████████████████████| 1/1 [00:00<00:00, 71.49it/s]\n",
      "100%|█████████████████████████████████████████████| 1/1 [00:00<00:00, 65.50it/s]\n",
      "100%|█████████████████████████████████████████████| 1/1 [00:00<00:00, 67.69it/s]\n",
      "0it [00:00, ?it/s]\n",
      "0it [00:00, ?it/s]\n",
      "8it [00:00, 199.33it/s]\n"
     ]
    },
    {
     "name": "stdout",
     "output_type": "stream",
     "text": [
      "Fitting 5 folds for each of 53 candidates, totalling 265 fits\n",
      "B*44:02  -> Probability: 0.015143399844745335\t Final_classification: False\t AUC: 0.9722222222222222\t Accuracy: 0.902439024390244\t Precision: 0.5714285714285714\t Sensitivity: 0.8\t Specificity: 0.9166666666666666\n"
     ]
    },
    {
     "name": "stderr",
     "output_type": "stream",
     "text": [
      "0it [00:00, ?it/s]                                        | 0/1 [00:00<?, ?it/s]\n",
      "0it [00:00, ?it/s]\n",
      "0it [00:00, ?it/s]\n",
      "0it [00:00, ?it/s]\n",
      "0it [00:00, ?it/s]\n",
      "0it [00:00, ?it/s]\n",
      "100%|█████████████████████████████████████████████| 1/1 [00:00<00:00, 71.56it/s]\n",
      "0it [00:00, ?it/s]\n",
      "8it [00:00, 204.18it/s]\n",
      "0it [00:00, ?it/s]                                        | 0/1 [00:00<?, ?it/s]\n",
      "0it [00:00, ?it/s]\n",
      "0it [00:00, ?it/s]\n",
      "100%|█████████████████████████████████████████████| 1/1 [00:00<00:00, 56.72it/s]\n",
      "0it [00:00, ?it/s]\n",
      "0it [00:00, ?it/s]\n",
      "0it [00:00, ?it/s]\n",
      "0it [00:00, ?it/s]\n",
      "8it [00:00, 209.36it/s]\n"
     ]
    },
    {
     "name": "stdout",
     "output_type": "stream",
     "text": [
      "Fitting 5 folds for each of 53 candidates, totalling 265 fits\n",
      "B*44:03  -> Probability: 0.0013840741489607163\t Final_classification: False\t AUC: 0.9789915966386554\t Accuracy: 0.8780487804878049\t Precision: 0.5833333333333334\t Sensitivity: 1.0\t Specificity: 0.8529411764705882\n",
      "No HLA-related TCRs have been found in your repertoire\n",
      "B*49:01  -> Probability: N/A\t Final_classification: False\t AUC: 0.5\t Accuracy: 1\t Precision: 0\t Sensitivity: 0\t Specificity: 1\n",
      "No HLA-related TCRs have been found in your repertoire\n",
      "B*50:01  -> Probability: N/A\t Final_classification: False\t AUC: 0.5\t Accuracy: 1\t Precision: 0\t Sensitivity: 0\t Specificity: 1\n",
      "No HLA-related TCRs have been found in your repertoire\n",
      "B*51:01  -> Probability: N/A\t Final_classification: False\t AUC: 0.5\t Accuracy: 1\t Precision: 0\t Sensitivity: 0\t Specificity: 1\n",
      "No HLA-related TCRs have been found in your repertoire\n",
      "B*52:01  -> Probability: N/A\t Final_classification: False\t AUC: 0.5\t Accuracy: 1\t Precision: 0\t Sensitivity: 0\t Specificity: 1\n",
      "No HLA-related TCRs have been found in your repertoire\n",
      "B*55:01  -> Probability: N/A\t Final_classification: False\t AUC: 0.5\t Accuracy: 1\t Precision: 0\t Sensitivity: 0\t Specificity: 1\n",
      "No HLA-related TCRs have been found in your repertoire\n",
      "B*58:01  -> Probability: N/A\t Final_classification: False\t AUC: 0.5\t Accuracy: 1\t Precision: 0\t Sensitivity: 0\t Specificity: 1\n",
      "No HLA-related TCRs have been found in your repertoire\n",
      "C*02:02  -> Probability: N/A\t Final_classification: False\t AUC: 0.5\t Accuracy: 1\t Precision: 0\t Sensitivity: 0\t Specificity: 1\n"
     ]
    },
    {
     "name": "stderr",
     "output_type": "stream",
     "text": [
      "0it [00:00, ?it/s]                                        | 0/1 [00:00<?, ?it/s]\n",
      "100%|█████████████████████████████████████████████| 1/1 [00:00<00:00, 79.45it/s]\n",
      "0it [00:00, ?it/s]\n",
      "0it [00:00, ?it/s]\n",
      "0it [00:00, ?it/s]\n",
      "0it [00:00, ?it/s]\n",
      "0it [00:00, ?it/s]\n",
      "0it [00:00, ?it/s]\n",
      "8it [00:00, 216.15it/s]\n",
      "0it [00:00, ?it/s]                                        | 0/1 [00:00<?, ?it/s]\n",
      "100%|█████████████████████████████████████████████| 1/1 [00:00<00:00, 76.29it/s]\n",
      "0it [00:00, ?it/s]\n",
      "0it [00:00, ?it/s]\n",
      "0it [00:00, ?it/s]\n",
      "0it [00:00, ?it/s]\n",
      "0it [00:00, ?it/s]\n",
      "0it [00:00, ?it/s]\n",
      "8it [00:00, 254.55it/s]\n"
     ]
    },
    {
     "name": "stdout",
     "output_type": "stream",
     "text": [
      "Fitting 5 folds for each of 53 candidates, totalling 265 fits\n",
      "C*03:03  -> Probability: 0.6992614888592706\t Final_classification: False\t AUC: 0.6730769230769231\t Accuracy: 0.8780487804878049\t Precision: 0.2\t Sensitivity: 0.5\t Specificity: 0.8974358974358975\n"
     ]
    },
    {
     "name": "stderr",
     "output_type": "stream",
     "text": [
      "100%|█████████████████████████████████████████████| 1/1 [00:00<00:00, 51.47it/s]\n",
      "0it [00:00, ?it/s]\n",
      "0it [00:00, ?it/s]\n",
      "0it [00:00, ?it/s]\n",
      "0it [00:00, ?it/s]\n",
      "0it [00:00, ?it/s]\n",
      "0it [00:00, ?it/s]\n",
      "0it [00:00, ?it/s]\n",
      "8it [00:00, 196.45it/s]\n",
      "0it [00:00, ?it/s]                                        | 0/1 [00:00<?, ?it/s]\n",
      "100%|████████████████████████████████████████████| 1/1 [00:00<00:00, 191.22it/s]\n",
      "0it [00:00, ?it/s]\n",
      "0it [00:00, ?it/s]\n",
      "0it [00:00, ?it/s]\n",
      "0it [00:00, ?it/s]\n",
      "0it [00:00, ?it/s]\n",
      "0it [00:00, ?it/s]\n",
      "8it [00:00, 225.01it/s]\n"
     ]
    },
    {
     "name": "stdout",
     "output_type": "stream",
     "text": [
      "Fitting 5 folds for each of 53 candidates, totalling 265 fits\n",
      "C*03:04  -> Probability: 0.27985189515024284\t Final_classification: False\t AUC: 0.8445945945945946\t Accuracy: 0.951219512195122\t Precision: 0.75\t Sensitivity: 0.75\t Specificity: 0.972972972972973\n",
      "No HLA-related TCRs have been found in your repertoire\n",
      "C*04:01  -> Probability: N/A\t Final_classification: False\t AUC: 0.5\t Accuracy: 1\t Precision: 0\t Sensitivity: 0\t Specificity: 1\n"
     ]
    },
    {
     "name": "stderr",
     "output_type": "stream",
     "text": [
      "100%|████████████████████████████████████████████| 1/1 [00:00<00:00, 374.89it/s]\n",
      "100%|█████████████████████████████████████████████| 1/1 [00:00<00:00, 59.95it/s]\n",
      "0it [00:00, ?it/s]\n",
      "100%|█████████████████████████████████████████████| 1/1 [00:00<00:00, 68.34it/s]\n",
      "0it [00:00, ?it/s]\n",
      "0it [00:00, ?it/s]\n",
      "0it [00:00, ?it/s]\n",
      "100%|█████████████████████████████████████████████| 1/1 [00:00<00:00, 82.32it/s]\n",
      "8it [00:00, 210.91it/s]\n",
      "100%|████████████████████████████████████████████| 1/1 [00:00<00:00, 164.74it/s]\n",
      "100%|█████████████████████████████████████████████| 1/1 [00:00<00:00, 90.21it/s]\n",
      "100%|█████████████████████████████████████████████| 1/1 [00:00<00:00, 79.14it/s]\n",
      "0it [00:00, ?it/s]\n",
      "100%|█████████████████████████████████████████████| 1/1 [00:00<00:00, 74.88it/s]\n",
      "0it [00:00, ?it/s]\n",
      "0it [00:00, ?it/s]\n",
      "0it [00:00, ?it/s]\n",
      "8it [00:00, 199.05it/s]\n"
     ]
    },
    {
     "name": "stdout",
     "output_type": "stream",
     "text": [
      "Fitting 5 folds for each of 53 candidates, totalling 265 fits\n",
      "C*05:01  -> Probability: 0.25870298822831855\t Final_classification: False\t AUC: 0.8857142857142858\t Accuracy: 0.8780487804878049\t Precision: 0.5714285714285714\t Sensitivity: 0.6666666666666666\t Specificity: 0.9142857142857144\n"
     ]
    },
    {
     "name": "stderr",
     "output_type": "stream",
     "text": [
      "100%|█████████████████████████████████████████████| 1/1 [00:00<00:00, 70.25it/s]\n",
      "100%|█████████████████████████████████████████████| 1/1 [00:00<00:00, 71.18it/s]\n",
      "100%|█████████████████████████████████████████████| 1/1 [00:00<00:00, 63.78it/s]\n",
      "100%|█████████████████████████████████████████████| 1/1 [00:00<00:00, 65.45it/s]\n",
      "0it [00:00, ?it/s]\n",
      "0it [00:00, ?it/s]\n",
      "0it [00:00, ?it/s]\n",
      "0it [00:00, ?it/s]\n",
      "8it [00:00, 192.65it/s]\n",
      "0it [00:00, ?it/s]                                        | 0/1 [00:00<?, ?it/s]\n",
      "100%|████████████████████████████████████████████| 1/1 [00:00<00:00, 143.23it/s]\n",
      "100%|█████████████████████████████████████████████| 1/1 [00:00<00:00, 60.89it/s]\n",
      "100%|█████████████████████████████████████████████| 1/1 [00:00<00:00, 46.17it/s]\n",
      "0it [00:00, ?it/s]\n",
      "100%|█████████████████████████████████████████████| 1/1 [00:00<00:00, 70.82it/s]\n",
      "0it [00:00, ?it/s]\n",
      "0it [00:00, ?it/s]\n",
      "8it [00:00, 204.27it/s]\n"
     ]
    },
    {
     "name": "stdout",
     "output_type": "stream",
     "text": [
      "Fitting 5 folds for each of 53 candidates, totalling 265 fits\n",
      "C*06:02  -> Probability: 0.5948735418659703\t Final_classification: False\t AUC: 0.9189189189189187\t Accuracy: 0.7804878048780488\t Precision: 0.3076923076923077\t Sensitivity: 1.0\t Specificity: 0.7567567567567568\n"
     ]
    },
    {
     "name": "stderr",
     "output_type": "stream",
     "text": [
      "100%|█████████████████████████████████████████| 24/24 [00:00<00:00, 1086.44it/s]\n",
      "100%|█████████████████████████████████████████| 24/24 [00:00<00:00, 1276.01it/s]\n",
      "100%|█████████████████████████████████████████| 23/23 [00:00<00:00, 1249.32it/s]\n",
      "100%|█████████████████████████████████████████| 24/24 [00:00<00:00, 1261.62it/s]\n",
      "100%|█████████████████████████████████████████| 23/23 [00:00<00:00, 1240.57it/s]\n",
      "100%|█████████████████████████████████████████| 24/24 [00:00<00:00, 1353.13it/s]\n",
      "100%|█████████████████████████████████████████| 24/24 [00:00<00:00, 1418.41it/s]\n",
      "100%|█████████████████████████████████████████| 23/23 [00:00<00:00, 1386.59it/s]\n",
      "8it [00:00, 198.72it/s]\n",
      "100%|█████████████████████████████████████████| 24/24 [00:00<00:00, 1579.06it/s]\n",
      "100%|█████████████████████████████████████████| 24/24 [00:00<00:00, 1359.05it/s]\n",
      "100%|█████████████████████████████████████████| 24/24 [00:00<00:00, 1315.52it/s]\n",
      "100%|█████████████████████████████████████████| 24/24 [00:00<00:00, 1360.57it/s]\n",
      "100%|█████████████████████████████████████████| 24/24 [00:00<00:00, 1409.79it/s]\n",
      "100%|█████████████████████████████████████████| 23/23 [00:00<00:00, 1419.20it/s]\n",
      "100%|█████████████████████████████████████████| 23/23 [00:00<00:00, 1835.51it/s]\n",
      "100%|█████████████████████████████████████████| 23/23 [00:00<00:00, 2237.48it/s]\n",
      "8it [00:00, 188.73it/s]\n"
     ]
    },
    {
     "name": "stdout",
     "output_type": "stream",
     "text": [
      "Fitting 5 folds for each of 53 candidates, totalling 265 fits\n",
      "C*07:01  -> Probability: 0.9999968314903769\t Final_classification: True\t AUC: 0.8903225806451613\t Accuracy: 0.926829268292683\t Precision: 0.8888888888888888\t Sensitivity: 0.8\t Specificity: 0.967741935483871\n"
     ]
    },
    {
     "name": "stderr",
     "output_type": "stream",
     "text": [
      "100%|████████████████████████████████████████████| 9/9 [00:00<00:00, 450.35it/s]\n",
      "100%|████████████████████████████████████████████| 9/9 [00:00<00:00, 466.52it/s]\n",
      "100%|████████████████████████████████████████████| 8/8 [00:00<00:00, 429.12it/s]\n",
      "100%|████████████████████████████████████████████| 8/8 [00:00<00:00, 444.85it/s]\n",
      "100%|████████████████████████████████████████████| 8/8 [00:00<00:00, 472.20it/s]\n",
      "100%|████████████████████████████████████████████| 8/8 [00:00<00:00, 503.84it/s]\n",
      "100%|████████████████████████████████████████████| 8/8 [00:00<00:00, 524.81it/s]\n",
      "100%|████████████████████████████████████████████| 8/8 [00:00<00:00, 630.08it/s]\n",
      "8it [00:00, 205.13it/s]\n",
      "100%|████████████████████████████████████████████| 9/9 [00:00<00:00, 648.56it/s]\n",
      "100%|████████████████████████████████████████████| 8/8 [00:00<00:00, 439.96it/s]\n",
      "100%|████████████████████████████████████████████| 9/9 [00:00<00:00, 512.98it/s]\n",
      "100%|████████████████████████████████████████████| 8/8 [00:00<00:00, 482.00it/s]\n",
      "100%|████████████████████████████████████████████| 8/8 [00:00<00:00, 508.99it/s]\n",
      "100%|████████████████████████████████████████████| 8/8 [00:00<00:00, 527.37it/s]\n",
      "100%|████████████████████████████████████████████| 8/8 [00:00<00:00, 643.84it/s]\n",
      "100%|████████████████████████████████████████████| 8/8 [00:00<00:00, 659.05it/s]\n",
      "8it [00:00, 198.37it/s]\n"
     ]
    },
    {
     "name": "stdout",
     "output_type": "stream",
     "text": [
      "Fitting 5 folds for each of 53 candidates, totalling 265 fits\n",
      "C*07:02  -> Probability: 0.9988221157471511\t Final_classification: True\t AUC: 0.971264367816092\t Accuracy: 0.8780487804878049\t Precision: 0.7333333333333333\t Sensitivity: 0.9166666666666666\t Specificity: 0.8620689655172413\n"
     ]
    },
    {
     "name": "stderr",
     "output_type": "stream",
     "text": [
      "100%|█████████████████████████████████████████████| 1/1 [00:00<00:00, 52.16it/s]\n",
      "100%|█████████████████████████████████████████████| 1/1 [00:00<00:00, 54.99it/s]\n",
      "0it [00:00, ?it/s]\n",
      "0it [00:00, ?it/s]\n",
      "0it [00:00, ?it/s]\n",
      "0it [00:00, ?it/s]\n",
      "0it [00:00, ?it/s]\n",
      "0it [00:00, ?it/s]\n",
      "8it [00:00, 198.79it/s]\n",
      "100%|█████████████████████████████████████████████| 1/1 [00:00<00:00, 51.97it/s]\n",
      "100%|█████████████████████████████████████████████| 1/1 [00:00<00:00, 56.95it/s]\n",
      "0it [00:00, ?it/s]\n",
      "0it [00:00, ?it/s]\n",
      "0it [00:00, ?it/s]\n",
      "0it [00:00, ?it/s]\n",
      "0it [00:00, ?it/s]\n",
      "0it [00:00, ?it/s]\n",
      "8it [00:00, 259.36it/s]\n"
     ]
    },
    {
     "name": "stdout",
     "output_type": "stream",
     "text": [
      "Fitting 5 folds for each of 53 candidates, totalling 265 fits\n",
      "C*08:02  -> Probability: 0.029286612246643886\t Final_classification: False\t AUC: 0.6025641025641026\t Accuracy: 0.902439024390244\t Precision: 0.25\t Sensitivity: 0.5\t Specificity: 0.9230769230769232\n",
      "No HLA-related TCRs have been found in your repertoire\n",
      "C*12:02  -> Probability: N/A\t Final_classification: False\t AUC: 0.5\t Accuracy: 1\t Precision: 0\t Sensitivity: 0\t Specificity: 1\n",
      "No HLA-related TCRs have been found in your repertoire\n",
      "C*12:03  -> Probability: N/A\t Final_classification: False\t AUC: 0.5\t Accuracy: 1\t Precision: 0\t Sensitivity: 0\t Specificity: 1\n",
      "No HLA-related TCRs have been found in your repertoire\n",
      "C*14:02  -> Probability: N/A\t Final_classification: False\t AUC: 0.5\t Accuracy: 1\t Precision: 0\t Sensitivity: 0\t Specificity: 1\n",
      "No HLA-related TCRs have been found in your repertoire\n",
      "C*15:05  -> Probability: N/A\t Final_classification: False\t AUC: 0.5\t Accuracy: 1\t Precision: 0\t Sensitivity: 0\t Specificity: 1\n",
      "No HLA-related TCRs have been found in your repertoire\n",
      "C*16:01  -> Probability: N/A\t Final_classification: False\t AUC: 0.5\t Accuracy: 1\t Precision: 0\t Sensitivity: 0\t Specificity: 1\n",
      "No HLA-related TCRs have been found in your repertoire\n",
      "C*17:01  -> Probability: N/A\t Final_classification: False\t AUC: 0.5\t Accuracy: 1\t Precision: 0\t Sensitivity: 0\t Specificity: 1\n"
     ]
    },
    {
     "name": "stderr",
     "output_type": "stream",
     "text": [
      "100%|█████████████████████████████████████████████| 1/1 [00:00<00:00, 79.71it/s]\n",
      "0it [00:00, ?it/s]\n",
      "0it [00:00, ?it/s]\n",
      "100%|█████████████████████████████████████████████| 1/1 [00:00<00:00, 63.86it/s]\n",
      "0it [00:00, ?it/s]\n",
      "0it [00:00, ?it/s]\n",
      "0it [00:00, ?it/s]\n",
      "0it [00:00, ?it/s]\n",
      "8it [00:00, 269.87it/s]\n",
      "0it [00:00, ?it/s]                                        | 0/1 [00:00<?, ?it/s]\n",
      "100%|█████████████████████████████████████████████| 1/1 [00:00<00:00, 77.14it/s]\n",
      "0it [00:00, ?it/s]\n",
      "100%|█████████████████████████████████████████████| 1/1 [00:00<00:00, 45.73it/s]\n",
      "0it [00:00, ?it/s]\n",
      "0it [00:00, ?it/s]\n",
      "0it [00:00, ?it/s]\n",
      "0it [00:00, ?it/s]\n",
      "8it [00:00, 203.02it/s]\n"
     ]
    },
    {
     "name": "stdout",
     "output_type": "stream",
     "text": [
      "Fitting 5 folds for each of 53 candidates, totalling 265 fits\n",
      "DPB1*01:01  -> Probability: 0.5344026391374381\t Final_classification: False\t AUC: 0.8513513513513513\t Accuracy: 0.8536585365853658\t Precision: 0.375\t Sensitivity: 0.75\t Specificity: 0.8648648648648649\n"
     ]
    },
    {
     "name": "stderr",
     "output_type": "stream",
     "text": [
      "0it [00:00, ?it/s]                                        | 0/1 [00:00<?, ?it/s]\n",
      "100%|█████████████████████████████████████████████| 1/1 [00:00<00:00, 75.29it/s]\n",
      "100%|█████████████████████████████████████████████| 1/1 [00:00<00:00, 82.77it/s]\n",
      "0it [00:00, ?it/s]\n",
      "0it [00:00, ?it/s]\n",
      "0it [00:00, ?it/s]\n",
      "0it [00:00, ?it/s]\n",
      "0it [00:00, ?it/s]\n",
      "8it [00:00, 200.90it/s]\n",
      "0it [00:00, ?it/s]                                        | 0/1 [00:00<?, ?it/s]\n",
      "100%|████████████████████████████████████████████| 1/1 [00:00<00:00, 181.52it/s]\n",
      "0it [00:00, ?it/s]                                        | 0/1 [00:00<?, ?it/s]\n",
      "0it [00:00, ?it/s]\n",
      "0it [00:00, ?it/s]\n",
      "100%|█████████████████████████████████████████████| 1/1 [00:00<00:00, 94.15it/s]\n",
      "0it [00:00, ?it/s]\n",
      "0it [00:00, ?it/s]\n",
      "8it [00:00, 202.30it/s]\n"
     ]
    },
    {
     "name": "stdout",
     "output_type": "stream",
     "text": [
      "Fitting 5 folds for each of 53 candidates, totalling 265 fits\n",
      "DPB1*02:01  -> Probability: 0.7282784688667312\t Final_classification: False\t AUC: 0.8880952380952382\t Accuracy: 0.8048780487804879\t Precision: 0.4166666666666667\t Sensitivity: 0.8333333333333334\t Specificity: 0.8\n"
     ]
    },
    {
     "name": "stderr",
     "output_type": "stream",
     "text": [
      "100%|█████████████████████████████████████████████| 1/1 [00:00<00:00, 90.96it/s]\n",
      "0it [00:00, ?it/s]\n",
      "0it [00:00, ?it/s]\n",
      "0it [00:00, ?it/s]\n",
      "0it [00:00, ?it/s]\n",
      "0it [00:00, ?it/s]\n",
      "0it [00:00, ?it/s]\n",
      "0it [00:00, ?it/s]\n",
      "8it [00:00, 208.19it/s]\n",
      "0it [00:00, ?it/s]                                        | 0/1 [00:00<?, ?it/s]\n",
      "0it [00:00, ?it/s]\n",
      "100%|█████████████████████████████████████████████| 1/1 [00:00<00:00, 85.79it/s]\n",
      "0it [00:00, ?it/s]\n",
      "0it [00:00, ?it/s]\n",
      "0it [00:00, ?it/s]\n",
      "0it [00:00, ?it/s]\n",
      "0it [00:00, ?it/s]\n",
      "8it [00:00, 228.08it/s]\n"
     ]
    },
    {
     "name": "stdout",
     "output_type": "stream",
     "text": [
      "Fitting 5 folds for each of 53 candidates, totalling 265 fits\n",
      "DPB1*03:01  -> Probability: 0.12221941380982636\t Final_classification: False\t AUC: 0.9797297297297298\t Accuracy: 0.8780487804878049\t Precision: 0.4444444444444444\t Sensitivity: 1.0\t Specificity: 0.8648648648648649\n"
     ]
    },
    {
     "name": "stderr",
     "output_type": "stream",
     "text": [
      "100%|█████████████████████████████████████████| 54/54 [00:00<00:00, 2243.52it/s]\n",
      "100%|█████████████████████████████████████████| 54/54 [00:00<00:00, 1804.43it/s]\n",
      "100%|█████████████████████████████████████████| 54/54 [00:00<00:00, 2083.86it/s]\n",
      "100%|█████████████████████████████████████████| 54/54 [00:00<00:00, 2140.40it/s]\n",
      "100%|█████████████████████████████████████████| 53/53 [00:00<00:00, 2062.31it/s]\n",
      "100%|█████████████████████████████████████████| 53/53 [00:00<00:00, 2191.77it/s]\n",
      "100%|█████████████████████████████████████████| 53/53 [00:00<00:00, 3156.79it/s]\n",
      "100%|█████████████████████████████████████████| 53/53 [00:00<00:00, 3388.79it/s]\n",
      "8it [00:00, 130.19it/s]\n",
      "100%|█████████████████████████████████████████| 54/54 [00:00<00:00, 2640.97it/s]\n",
      "100%|█████████████████████████████████████████| 54/54 [00:00<00:00, 2395.83it/s]\n",
      "100%|█████████████████████████████████████████| 54/54 [00:00<00:00, 2459.49it/s]\n",
      "100%|█████████████████████████████████████████| 54/54 [00:00<00:00, 2478.66it/s]\n",
      "100%|█████████████████████████████████████████| 53/53 [00:00<00:00, 2489.98it/s]\n",
      "100%|█████████████████████████████████████████| 53/53 [00:00<00:00, 2630.03it/s]\n",
      "100%|█████████████████████████████████████████| 53/53 [00:00<00:00, 2773.18it/s]\n",
      "100%|█████████████████████████████████████████| 53/53 [00:00<00:00, 2830.56it/s]\n",
      "8it [00:00, 169.11it/s]\n"
     ]
    },
    {
     "name": "stdout",
     "output_type": "stream",
     "text": [
      "Fitting 5 folds for each of 53 candidates, totalling 265 fits\n",
      "DPB1*04:01  -> Probability: 0.7837606548187512\t Final_classification: False\t AUC: 0.9047619047619048\t Accuracy: 0.8048780487804879\t Precision: 0.7878787878787878\t Sensitivity: 0.9629629629629628\t Specificity: 0.5\n"
     ]
    },
    {
     "name": "stderr",
     "output_type": "stream",
     "text": [
      "100%|████████████████████████████████████████████| 2/2 [00:00<00:00, 116.41it/s]\n",
      "100%|████████████████████████████████████████████| 2/2 [00:00<00:00, 119.43it/s]\n",
      "100%|█████████████████████████████████████████████| 1/1 [00:00<00:00, 62.76it/s]\n",
      "100%|█████████████████████████████████████████████| 1/1 [00:00<00:00, 63.82it/s]\n",
      "100%|█████████████████████████████████████████████| 2/2 [00:00<00:00, 75.90it/s]\n",
      "100%|████████████████████████████████████████████| 2/2 [00:00<00:00, 116.78it/s]\n",
      "100%|█████████████████████████████████████████████| 1/1 [00:00<00:00, 60.94it/s]\n",
      "100%|█████████████████████████████████████████████| 1/1 [00:00<00:00, 74.05it/s]\n",
      "8it [00:00, 182.14it/s]\n",
      "100%|████████████████████████████████████████████| 2/2 [00:00<00:00, 172.67it/s]\n",
      "100%|█████████████████████████████████████████████| 1/1 [00:00<00:00, 60.70it/s]\n",
      "100%|████████████████████████████████████████████| 2/2 [00:00<00:00, 126.82it/s]\n",
      "100%|████████████████████████████████████████████| 2/2 [00:00<00:00, 114.69it/s]\n",
      "100%|█████████████████████████████████████████████| 1/1 [00:00<00:00, 58.63it/s]\n",
      "100%|████████████████████████████████████████████| 2/2 [00:00<00:00, 123.08it/s]\n",
      "100%|█████████████████████████████████████████████| 1/1 [00:00<00:00, 90.39it/s]\n",
      "100%|████████████████████████████████████████████| 1/1 [00:00<00:00, 116.64it/s]\n",
      "8it [00:00, 190.84it/s]\n"
     ]
    },
    {
     "name": "stdout",
     "output_type": "stream",
     "text": [
      "Fitting 5 folds for each of 53 candidates, totalling 265 fits\n",
      "DPB1*04:02  -> Probability: 0.9999999999988549\t Final_classification: True\t AUC: 0.9761904761904762\t Accuracy: 0.8780487804878049\t Precision: 0.5454545454545454\t Sensitivity: 1.0\t Specificity: 0.8571428571428571\n",
      "No HLA-related TCRs have been found in your repertoire\n",
      "DPB1*05:01  -> Probability: N/A\t Final_classification: False\t AUC: 0.5\t Accuracy: 1\t Precision: 0\t Sensitivity: 0\t Specificity: 1\n",
      "No HLA-related TCRs have been found in your repertoire\n",
      "DPB1*10:01  -> Probability: N/A\t Final_classification: False\t AUC: 0.5\t Accuracy: 1\t Precision: 0\t Sensitivity: 0\t Specificity: 1\n",
      "No HLA-related TCRs have been found in your repertoire\n",
      "DPB1*11:01  -> Probability: N/A\t Final_classification: False\t AUC: 0.5\t Accuracy: 1\t Precision: 0\t Sensitivity: 0\t Specificity: 1\n",
      "No HLA-related TCRs have been found in your repertoire\n",
      "DPB1*13:01  -> Probability: N/A\t Final_classification: False\t AUC: 0.5\t Accuracy: 1\t Precision: 0\t Sensitivity: 0\t Specificity: 1\n",
      "No HLA-related TCRs have been found in your repertoire\n",
      "DPB1*17:01  -> Probability: N/A\t Final_classification: False\t AUC: 0.5\t Accuracy: 1\t Precision: 0\t Sensitivity: 0\t Specificity: 1\n"
     ]
    },
    {
     "name": "stderr",
     "output_type": "stream",
     "text": [
      "100%|██████████████████████████████████████████| 13/13 [00:00<00:00, 715.61it/s]\n",
      "100%|██████████████████████████████████████████| 13/13 [00:00<00:00, 679.12it/s]\n",
      "100%|██████████████████████████████████████████| 13/13 [00:00<00:00, 712.65it/s]\n",
      "100%|█████████████████████████████████████████| 13/13 [00:00<00:00, 1115.37it/s]\n",
      "100%|██████████████████████████████████████████| 13/13 [00:00<00:00, 802.34it/s]\n",
      "100%|██████████████████████████████████████████| 13/13 [00:00<00:00, 612.31it/s]\n",
      "100%|██████████████████████████████████████████| 12/12 [00:00<00:00, 814.88it/s]\n",
      "100%|█████████████████████████████████████████| 13/13 [00:00<00:00, 1060.80it/s]\n",
      "8it [00:00, 190.22it/s]\n",
      "100%|█████████████████████████████████████████| 13/13 [00:00<00:00, 1288.15it/s]\n",
      "100%|██████████████████████████████████████████| 13/13 [00:00<00:00, 802.51it/s]\n",
      "100%|██████████████████████████████████████████| 13/13 [00:00<00:00, 675.89it/s]\n",
      "100%|██████████████████████████████████████████| 13/13 [00:00<00:00, 719.74it/s]\n",
      "100%|██████████████████████████████████████████| 13/13 [00:00<00:00, 755.22it/s]\n",
      "100%|█████████████████████████████████████████| 13/13 [00:00<00:00, 1159.26it/s]\n",
      "100%|█████████████████████████████████████████| 13/13 [00:00<00:00, 1239.62it/s]\n",
      "100%|█████████████████████████████████████████| 12/12 [00:00<00:00, 1174.93it/s]\n",
      "8it [00:00, 179.51it/s]\n"
     ]
    },
    {
     "name": "stdout",
     "output_type": "stream",
     "text": [
      "Fitting 5 folds for each of 53 candidates, totalling 265 fits\n",
      "DQA1*01:01  -> Probability: 0.18831012418692517\t Final_classification: False\t AUC: 1.0\t Accuracy: 0.975609756097561\t Precision: 0.875\t Sensitivity: 1.0\t Specificity: 0.9705882352941176\n"
     ]
    },
    {
     "name": "stderr",
     "output_type": "stream",
     "text": [
      "100%|█████████████████████████████████████████| 28/28 [00:00<00:00, 1305.53it/s]\n",
      "100%|█████████████████████████████████████████| 27/27 [00:00<00:00, 1396.08it/s]\n",
      "100%|█████████████████████████████████████████| 27/27 [00:00<00:00, 1418.24it/s]\n",
      "100%|█████████████████████████████████████████| 28/28 [00:00<00:00, 1556.00it/s]\n",
      "100%|█████████████████████████████████████████| 27/27 [00:00<00:00, 1561.07it/s]\n",
      "100%|█████████████████████████████████████████| 27/27 [00:00<00:00, 1653.93it/s]\n",
      "100%|█████████████████████████████████████████| 27/27 [00:00<00:00, 1700.11it/s]\n",
      "100%|█████████████████████████████████████████| 27/27 [00:00<00:00, 1721.59it/s]\n",
      "8it [00:00, 205.98it/s]\n",
      "100%|█████████████████████████████████████████| 28/28 [00:00<00:00, 1315.95it/s]\n",
      "100%|█████████████████████████████████████████| 28/28 [00:00<00:00, 1336.92it/s]\n",
      "100%|█████████████████████████████████████████| 27/27 [00:00<00:00, 1315.24it/s]\n",
      "100%|█████████████████████████████████████████| 27/27 [00:00<00:00, 1490.42it/s]\n",
      "100%|█████████████████████████████████████████| 27/27 [00:00<00:00, 1512.07it/s]\n",
      "100%|█████████████████████████████████████████| 27/27 [00:00<00:00, 1586.10it/s]\n",
      "100%|█████████████████████████████████████████| 27/27 [00:00<00:00, 1686.29it/s]\n",
      "100%|█████████████████████████████████████████| 27/27 [00:00<00:00, 1687.72it/s]\n",
      "8it [00:00, 170.24it/s]\n"
     ]
    },
    {
     "name": "stdout",
     "output_type": "stream",
     "text": [
      "Fitting 5 folds for each of 53 candidates, totalling 265 fits\n",
      "DQA1*01:02  -> Probability: 0.9999998410025905\t Final_classification: True\t AUC: 0.8229665071770336\t Accuracy: 0.8048780487804879\t Precision: 0.7894736842105263\t Sensitivity: 0.7894736842105263\t Specificity: 0.8181818181818182\n"
     ]
    },
    {
     "name": "stderr",
     "output_type": "stream",
     "text": [
      "100%|████████████████████████████████████████████| 2/2 [00:00<00:00, 102.45it/s]\n",
      "100%|████████████████████████████████████████████| 2/2 [00:00<00:00, 108.29it/s]\n",
      "100%|████████████████████████████████████████████| 2/2 [00:00<00:00, 112.15it/s]\n",
      "100%|████████████████████████████████████████████| 2/2 [00:00<00:00, 119.12it/s]\n",
      "100%|████████████████████████████████████████████| 2/2 [00:00<00:00, 117.25it/s]\n",
      "100%|████████████████████████████████████████████| 2/2 [00:00<00:00, 122.27it/s]\n",
      "100%|████████████████████████████████████████████| 2/2 [00:00<00:00, 126.16it/s]\n",
      "100%|█████████████████████████████████████████████| 1/1 [00:00<00:00, 76.89it/s]\n",
      "8it [00:00, 204.69it/s]\n",
      "100%|████████████████████████████████████████████| 2/2 [00:00<00:00, 227.75it/s]\n",
      "100%|████████████████████████████████████████████| 2/2 [00:00<00:00, 123.05it/s]\n",
      "100%|████████████████████████████████████████████| 2/2 [00:00<00:00, 129.42it/s]\n",
      "100%|████████████████████████████████████████████| 2/2 [00:00<00:00, 132.62it/s]\n",
      "100%|████████████████████████████████████████████| 2/2 [00:00<00:00, 135.10it/s]\n",
      "100%|████████████████████████████████████████████| 2/2 [00:00<00:00, 142.24it/s]\n",
      "100%|████████████████████████████████████████████| 2/2 [00:00<00:00, 150.65it/s]\n",
      "100%|████████████████████████████████████████████| 1/1 [00:00<00:00, 163.69it/s]\n",
      "8it [00:00, 193.24it/s]\n"
     ]
    },
    {
     "name": "stdout",
     "output_type": "stream",
     "text": [
      "Fitting 5 folds for each of 53 candidates, totalling 265 fits\n",
      "DQA1*01:03  -> Probability: 0.5789549179935611\t Final_classification: False\t AUC: 0.938095238095238\t Accuracy: 0.8292682926829268\t Precision: 0.4545454545454545\t Sensitivity: 0.8333333333333334\t Specificity: 0.8285714285714286\n"
     ]
    },
    {
     "name": "stderr",
     "output_type": "stream",
     "text": [
      "100%|████████████████████████████████████████████| 1/1 [00:00<00:00, 139.18it/s]\n",
      "100%|█████████████████████████████████████████████| 1/1 [00:00<00:00, 52.10it/s]\n",
      "100%|█████████████████████████████████████████████| 1/1 [00:00<00:00, 56.38it/s]\n",
      "100%|█████████████████████████████████████████████| 1/1 [00:00<00:00, 69.41it/s]\n",
      "0it [00:00, ?it/s]\n",
      "0it [00:00, ?it/s]\n",
      "0it [00:00, ?it/s]\n",
      "100%|█████████████████████████████████████████████| 1/1 [00:00<00:00, 83.85it/s]\n",
      "8it [00:00, 186.22it/s]\n",
      "0it [00:00, ?it/s]                                        | 0/1 [00:00<?, ?it/s]\n",
      "100%|█████████████████████████████████████████████| 1/1 [00:00<00:00, 48.02it/s]\n",
      "100%|█████████████████████████████████████████████| 1/1 [00:00<00:00, 49.88it/s]\n",
      "100%|█████████████████████████████████████████████| 1/1 [00:00<00:00, 52.58it/s]\n",
      "100%|█████████████████████████████████████████████| 1/1 [00:00<00:00, 62.96it/s]\n",
      "0it [00:00, ?it/s]\n",
      "0it [00:00, ?it/s]\n",
      "100%|█████████████████████████████████████████████| 1/1 [00:00<00:00, 71.74it/s]\n",
      "8it [00:00, 199.54it/s]\n"
     ]
    },
    {
     "name": "stdout",
     "output_type": "stream",
     "text": [
      "Fitting 5 folds for each of 53 candidates, totalling 265 fits\n",
      "DQA1*01:04  -> Probability: 0.05508202157349685\t Final_classification: False\t AUC: 1.0\t Accuracy: 0.8536585365853658\t Precision: 0.4\t Sensitivity: 1.0\t Specificity: 0.8378378378378378\n"
     ]
    },
    {
     "name": "stderr",
     "output_type": "stream",
     "text": [
      "100%|██████████████████████████████████████████| 10/10 [00:00<00:00, 579.77it/s]\n",
      "100%|██████████████████████████████████████████| 10/10 [00:00<00:00, 450.89it/s]\n",
      "100%|██████████████████████████████████████████| 10/10 [00:00<00:00, 550.61it/s]\n",
      "100%|████████████████████████████████████████████| 9/9 [00:00<00:00, 522.52it/s]\n",
      "100%|██████████████████████████████████████████| 10/10 [00:00<00:00, 713.00it/s]\n",
      "100%|████████████████████████████████████████████| 9/9 [00:00<00:00, 472.99it/s]\n",
      "100%|████████████████████████████████████████████| 9/9 [00:00<00:00, 595.16it/s]\n",
      "100%|████████████████████████████████████████████| 9/9 [00:00<00:00, 629.61it/s]\n",
      "8it [00:00, 190.68it/s]\n",
      "100%|██████████████████████████████████████████| 10/10 [00:00<00:00, 658.54it/s]\n",
      "100%|██████████████████████████████████████████| 10/10 [00:00<00:00, 697.71it/s]\n",
      "100%|████████████████████████████████████████████| 9/9 [00:00<00:00, 680.40it/s]\n",
      "100%|██████████████████████████████████████████| 10/10 [00:00<00:00, 594.41it/s]\n",
      "100%|████████████████████████████████████████████| 9/9 [00:00<00:00, 553.46it/s]\n",
      "100%|██████████████████████████████████████████| 10/10 [00:00<00:00, 655.93it/s]\n",
      "100%|███████████████████████████████████████████| 9/9 [00:00<00:00, 1069.52it/s]\n",
      "100%|███████████████████████████████████████████| 9/9 [00:00<00:00, 1121.11it/s]\n",
      "8it [00:00, 192.45it/s]\n"
     ]
    },
    {
     "name": "stdout",
     "output_type": "stream",
     "text": [
      "Fitting 5 folds for each of 53 candidates, totalling 265 fits\n",
      "DQA1*02:01  -> Probability: 0.0972555679345423\t Final_classification: False\t AUC: 0.9942528735632185\t Accuracy: 0.975609756097561\t Precision: 1.0\t Sensitivity: 0.9166666666666666\t Specificity: 1.0\n"
     ]
    },
    {
     "name": "stderr",
     "output_type": "stream",
     "text": [
      "100%|█████████████████████████████████████████████| 1/1 [00:00<00:00, 61.57it/s]\n",
      "100%|█████████████████████████████████████████████| 1/1 [00:00<00:00, 45.37it/s]\n",
      "100%|█████████████████████████████████████████████| 1/1 [00:00<00:00, 55.83it/s]\n",
      "0it [00:00, ?it/s]\n",
      "100%|█████████████████████████████████████████████| 1/1 [00:00<00:00, 59.78it/s]\n",
      "0it [00:00, ?it/s]\n",
      "0it [00:00, ?it/s]\n",
      "0it [00:00, ?it/s]\n",
      "8it [00:00, 192.19it/s]\n",
      "100%|█████████████████████████████████████████████| 1/1 [00:00<00:00, 82.43it/s]\n",
      "0it [00:00, ?it/s]\n",
      "0it [00:00, ?it/s]\n",
      "0it [00:00, ?it/s]                                        | 0/1 [00:00<?, ?it/s]\n",
      "100%|█████████████████████████████████████████████| 1/1 [00:00<00:00, 45.57it/s]\n",
      "100%|█████████████████████████████████████████████| 1/1 [00:00<00:00, 47.53it/s]\n",
      "100%|████████████████████████████████████████████| 1/1 [00:00<00:00, 157.09it/s]\n",
      "0it [00:00, ?it/s]\n",
      "8it [00:00, 189.27it/s]\n"
     ]
    },
    {
     "name": "stdout",
     "output_type": "stream",
     "text": [
      "Fitting 5 folds for each of 53 candidates, totalling 265 fits\n",
      "DQA1*03:01  -> Probability: 0.17034357762613805\t Final_classification: False\t AUC: 0.9615384615384616\t Accuracy: 0.8536585365853658\t Precision: 0.25\t Sensitivity: 1.0\t Specificity: 0.8461538461538461\n",
      "No HLA-related TCRs have been found in your repertoire\n",
      "DQA1*03:02  -> Probability: N/A\t Final_classification: False\t AUC: 0.5\t Accuracy: 1\t Precision: 0\t Sensitivity: 0\t Specificity: 1\n"
     ]
    },
    {
     "name": "stderr",
     "output_type": "stream",
     "text": [
      "100%|████████████████████████████████████████████| 1/1 [00:00<00:00, 126.65it/s]\n",
      "100%|█████████████████████████████████████████████| 1/1 [00:00<00:00, 66.02it/s]\n",
      "100%|█████████████████████████████████████████████| 1/1 [00:00<00:00, 99.29it/s]\n",
      "0it [00:00, ?it/s]\n",
      "0it [00:00, ?it/s]\n",
      "0it [00:00, ?it/s]\n",
      "0it [00:00, ?it/s]\n",
      "0it [00:00, ?it/s]\n",
      "8it [00:00, 219.63it/s]\n",
      "100%|████████████████████████████████████████████| 1/1 [00:00<00:00, 126.64it/s]\n",
      "100%|█████████████████████████████████████████████| 1/1 [00:00<00:00, 44.82it/s]\n",
      "0it [00:00, ?it/s]\n",
      "0it [00:00, ?it/s]\n",
      "100%|█████████████████████████████████████████████| 1/1 [00:00<00:00, 66.84it/s]\n",
      "0it [00:00, ?it/s]\n",
      "0it [00:00, ?it/s]\n",
      "0it [00:00, ?it/s]\n",
      "8it [00:00, 221.25it/s]\n"
     ]
    },
    {
     "name": "stdout",
     "output_type": "stream",
     "text": [
      "Fitting 5 folds for each of 53 candidates, totalling 265 fits\n",
      "DQA1*03:03  -> Probability: 0.4521373468731726\t Final_classification: False\t AUC: 0.9428571428571428\t Accuracy: 0.926829268292683\t Precision: 0.8\t Sensitivity: 0.6666666666666666\t Specificity: 0.9714285714285714\n"
     ]
    },
    {
     "name": "stderr",
     "output_type": "stream",
     "text": [
      "0it [00:00, ?it/s]                                        | 0/1 [00:00<?, ?it/s]\n",
      "0it [00:00, ?it/s]\n",
      "0it [00:00, ?it/s]\n",
      "0it [00:00, ?it/s]\n",
      "100%|█████████████████████████████████████████████| 1/1 [00:00<00:00, 42.51it/s]\n",
      "0it [00:00, ?it/s]\n",
      "0it [00:00, ?it/s]\n",
      "0it [00:00, ?it/s]\n",
      "8it [00:00, 203.81it/s]\n",
      "0it [00:00, ?it/s]                                        | 0/1 [00:00<?, ?it/s]\n",
      "0it [00:00, ?it/s]\n",
      "100%|█████████████████████████████████████████████| 1/1 [00:00<00:00, 71.45it/s]\n",
      "0it [00:00, ?it/s]\n",
      "0it [00:00, ?it/s]\n",
      "0it [00:00, ?it/s]\n",
      "0it [00:00, ?it/s]\n",
      "0it [00:00, ?it/s]\n",
      "8it [00:00, 230.02it/s]\n"
     ]
    },
    {
     "name": "stdout",
     "output_type": "stream",
     "text": [
      "Fitting 5 folds for each of 53 candidates, totalling 265 fits\n",
      "DQA1*04:01  -> Probability: 0.3944047455063324\t Final_classification: False\t AUC: 0.8076923076923077\t Accuracy: 0.8780487804878049\t Precision: 0.2\t Sensitivity: 0.5\t Specificity: 0.8974358974358975\n"
     ]
    },
    {
     "name": "stderr",
     "output_type": "stream",
     "text": [
      "100%|█████████████████████████████████████████| 54/54 [00:00<00:00, 3520.84it/s]\n",
      "100%|█████████████████████████████████████████| 54/54 [00:00<00:00, 2024.86it/s]\n",
      "100%|█████████████████████████████████████████| 53/53 [00:00<00:00, 2934.94it/s]\n",
      "100%|█████████████████████████████████████████| 53/53 [00:00<00:00, 3062.38it/s]\n",
      "100%|█████████████████████████████████████████| 53/53 [00:00<00:00, 3150.22it/s]\n",
      "100%|█████████████████████████████████████████| 53/53 [00:00<00:00, 3544.41it/s]\n",
      "100%|█████████████████████████████████████████| 53/53 [00:00<00:00, 1627.06it/s]\n",
      "100%|█████████████████████████████████████████| 53/53 [00:00<00:00, 3164.61it/s]\n",
      "8it [00:00, 188.95it/s]\n",
      "100%|█████████████████████████████████████████| 54/54 [00:00<00:00, 1599.82it/s]\n",
      "100%|█████████████████████████████████████████| 54/54 [00:00<00:00, 1675.10it/s]\n",
      "100%|█████████████████████████████████████████| 53/53 [00:00<00:00, 1655.70it/s]\n",
      "100%|█████████████████████████████████████████| 53/53 [00:00<00:00, 1717.56it/s]\n",
      "100%|█████████████████████████████████████████| 53/53 [00:00<00:00, 2190.06it/s]\n",
      "100%|█████████████████████████████████████████| 53/53 [00:00<00:00, 1799.61it/s]\n",
      "100%|█████████████████████████████████████████| 53/53 [00:00<00:00, 1977.00it/s]\n",
      "100%|█████████████████████████████████████████| 53/53 [00:00<00:00, 2196.99it/s]\n",
      "8it [00:00, 116.93it/s]\n"
     ]
    },
    {
     "name": "stdout",
     "output_type": "stream",
     "text": [
      "Fitting 5 folds for each of 53 candidates, totalling 265 fits\n",
      "DQA1*05:01  -> Probability: 0.9999999987254615\t Final_classification: True\t AUC: 1.0\t Accuracy: 0.975609756097561\t Precision: 0.9\t Sensitivity: 1.0\t Specificity: 0.96875\n"
     ]
    },
    {
     "name": "stderr",
     "output_type": "stream",
     "text": [
      "100%|████████████████████████████████████████████| 3/3 [00:00<00:00, 278.22it/s]\n",
      "100%|████████████████████████████████████████████| 3/3 [00:00<00:00, 299.80it/s]\n",
      "100%|████████████████████████████████████████████| 3/3 [00:00<00:00, 144.70it/s]\n",
      "100%|████████████████████████████████████████████| 2/2 [00:00<00:00, 132.19it/s]\n",
      "100%|████████████████████████████████████████████| 2/2 [00:00<00:00, 135.13it/s]\n",
      "100%|████████████████████████████████████████████| 2/2 [00:00<00:00, 175.41it/s]\n",
      "100%|████████████████████████████████████████████| 2/2 [00:00<00:00, 188.12it/s]\n",
      "100%|████████████████████████████████████████████| 2/2 [00:00<00:00, 321.83it/s]\n",
      "8it [00:00, 245.92it/s]\n",
      "100%|████████████████████████████████████████████| 3/3 [00:00<00:00, 309.31it/s]\n",
      "100%|████████████████████████████████████████████| 3/3 [00:00<00:00, 183.96it/s]\n",
      "100%|████████████████████████████████████████████| 2/2 [00:00<00:00, 127.62it/s]\n",
      "100%|████████████████████████████████████████████| 3/3 [00:00<00:00, 171.26it/s]\n",
      "100%|████████████████████████████████████████████| 2/2 [00:00<00:00, 140.56it/s]\n",
      "100%|████████████████████████████████████████████| 2/2 [00:00<00:00, 148.86it/s]\n",
      "100%|████████████████████████████████████████████| 2/2 [00:00<00:00, 152.92it/s]\n",
      "100%|████████████████████████████████████████████| 2/2 [00:00<00:00, 245.75it/s]\n",
      "8it [00:00, 188.38it/s]\n"
     ]
    },
    {
     "name": "stdout",
     "output_type": "stream",
     "text": [
      "Fitting 5 folds for each of 53 candidates, totalling 265 fits\n",
      "DQA1*05:05  -> Probability: 0.3535555588071145\t Final_classification: False\t AUC: 1.0\t Accuracy: 0.926829268292683\t Precision: 0.7272727272727273\t Sensitivity: 1.0\t Specificity: 0.9090909090909092\n"
     ]
    },
    {
     "name": "stderr",
     "output_type": "stream",
     "text": [
      "100%|█████████████████████████████████████████| 51/51 [00:00<00:00, 2605.54it/s]\n",
      "100%|█████████████████████████████████████████| 51/51 [00:00<00:00, 2040.54it/s]\n",
      "100%|█████████████████████████████████████████| 51/51 [00:00<00:00, 2737.80it/s]\n",
      "100%|█████████████████████████████████████████| 51/51 [00:00<00:00, 3022.60it/s]\n",
      "100%|█████████████████████████████████████████| 50/50 [00:00<00:00, 1942.08it/s]\n",
      "100%|█████████████████████████████████████████| 51/51 [00:00<00:00, 2892.19it/s]\n",
      "100%|█████████████████████████████████████████| 50/50 [00:00<00:00, 2937.85it/s]\n",
      "100%|█████████████████████████████████████████| 50/50 [00:00<00:00, 3171.11it/s]\n",
      "8it [00:00, 176.87it/s]\n",
      "100%|█████████████████████████████████████████| 51/51 [00:00<00:00, 1686.23it/s]\n",
      "100%|█████████████████████████████████████████| 51/51 [00:00<00:00, 1772.55it/s]\n",
      "100%|█████████████████████████████████████████| 51/51 [00:00<00:00, 1965.09it/s]\n",
      "100%|█████████████████████████████████████████| 51/51 [00:00<00:00, 1375.54it/s]\n",
      "100%|█████████████████████████████████████████| 51/51 [00:00<00:00, 1501.77it/s]\n",
      "100%|█████████████████████████████████████████| 50/50 [00:00<00:00, 1740.94it/s]\n",
      "100%|█████████████████████████████████████████| 50/50 [00:00<00:00, 1922.70it/s]\n",
      "100%|█████████████████████████████████████████| 50/50 [00:00<00:00, 2098.89it/s]\n",
      "8it [00:00, 127.16it/s]\n"
     ]
    },
    {
     "name": "stdout",
     "output_type": "stream",
     "text": [
      "Fitting 5 folds for each of 53 candidates, totalling 265 fits\n",
      "DQB1*02:01  -> Probability: 0.9999999977419387\t Final_classification: True\t AUC: 1.0\t Accuracy: 0.975609756097561\t Precision: 0.9090909090909092\t Sensitivity: 1.0\t Specificity: 0.967741935483871\n"
     ]
    },
    {
     "name": "stderr",
     "output_type": "stream",
     "text": [
      "100%|████████████████████████████████████████████| 5/5 [00:00<00:00, 338.92it/s]\n",
      "100%|████████████████████████████████████████████| 5/5 [00:00<00:00, 263.39it/s]\n",
      "100%|████████████████████████████████████████████| 5/5 [00:00<00:00, 406.95it/s]\n",
      "100%|████████████████████████████████████████████| 5/5 [00:00<00:00, 291.77it/s]\n",
      "100%|████████████████████████████████████████████| 4/4 [00:00<00:00, 179.40it/s]\n",
      "100%|████████████████████████████████████████████| 4/4 [00:00<00:00, 249.97it/s]\n",
      "100%|████████████████████████████████████████████| 4/4 [00:00<00:00, 301.24it/s]\n",
      "100%|████████████████████████████████████████████| 4/4 [00:00<00:00, 308.84it/s]\n",
      "8it [00:00, 191.19it/s]\n",
      "100%|████████████████████████████████████████████| 5/5 [00:00<00:00, 402.02it/s]\n",
      "100%|████████████████████████████████████████████| 5/5 [00:00<00:00, 314.09it/s]\n",
      "100%|████████████████████████████████████████████| 5/5 [00:00<00:00, 330.24it/s]\n",
      "100%|████████████████████████████████████████████| 4/4 [00:00<00:00, 271.97it/s]\n",
      "100%|████████████████████████████████████████████| 5/5 [00:00<00:00, 308.59it/s]\n",
      "100%|████████████████████████████████████████████| 4/4 [00:00<00:00, 293.98it/s]\n",
      "100%|████████████████████████████████████████████| 4/4 [00:00<00:00, 310.87it/s]\n",
      "100%|████████████████████████████████████████████| 4/4 [00:00<00:00, 640.87it/s]\n",
      "8it [00:00, 190.16it/s]\n"
     ]
    },
    {
     "name": "stdout",
     "output_type": "stream",
     "text": [
      "Fitting 5 folds for each of 53 candidates, totalling 265 fits\n",
      "DQB1*02:02  -> Probability: 0.30349152671906526\t Final_classification: False\t AUC: 0.8958333333333334\t Accuracy: 0.8780487804878049\t Precision: 0.6666666666666666\t Sensitivity: 0.8888888888888888\t Specificity: 0.875\n"
     ]
    },
    {
     "name": "stderr",
     "output_type": "stream",
     "text": [
      "100%|████████████████████████████████████████████| 5/5 [00:00<00:00, 442.76it/s]\n",
      "100%|████████████████████████████████████████████| 5/5 [00:00<00:00, 249.20it/s]\n",
      "100%|████████████████████████████████████████████| 5/5 [00:00<00:00, 259.57it/s]\n",
      "100%|████████████████████████████████████████████| 4/4 [00:00<00:00, 262.28it/s]\n",
      "100%|████████████████████████████████████████████| 5/5 [00:00<00:00, 297.36it/s]\n",
      "100%|████████████████████████████████████████████| 4/4 [00:00<00:00, 243.16it/s]\n",
      "100%|████████████████████████████████████████████| 4/4 [00:00<00:00, 256.14it/s]\n",
      "100%|████████████████████████████████████████████| 4/4 [00:00<00:00, 623.50it/s]\n",
      "8it [00:00, 189.54it/s]\n",
      "100%|████████████████████████████████████████████| 5/5 [00:00<00:00, 506.85it/s]\n",
      "100%|████████████████████████████████████████████| 5/5 [00:00<00:00, 370.61it/s]\n",
      "100%|████████████████████████████████████████████| 5/5 [00:00<00:00, 261.64it/s]\n",
      "100%|████████████████████████████████████████████| 4/4 [00:00<00:00, 538.06it/s]\n",
      "100%|████████████████████████████████████████████| 5/5 [00:00<00:00, 284.25it/s]\n",
      "100%|████████████████████████████████████████████| 4/4 [00:00<00:00, 281.95it/s]\n",
      "100%|████████████████████████████████████████████| 4/4 [00:00<00:00, 312.40it/s]\n",
      "100%|███████████████████████████████████████████| 4/4 [00:00<00:00, 1476.48it/s]\n",
      "8it [00:00, 184.62it/s]\n"
     ]
    },
    {
     "name": "stdout",
     "output_type": "stream",
     "text": [
      "Fitting 5 folds for each of 53 candidates, totalling 265 fits\n",
      "DQB1*03:01  -> Probability: 0.35808218343947773\t Final_classification: False\t AUC: 0.9285714285714286\t Accuracy: 0.902439024390244\t Precision: 0.9090909090909092\t Sensitivity: 0.7692307692307693\t Specificity: 0.9642857142857144\n"
     ]
    },
    {
     "name": "stderr",
     "output_type": "stream",
     "text": [
      "100%|█████████████████████████████████████████████| 1/1 [00:00<00:00, 91.98it/s]\n",
      "100%|█████████████████████████████████████████████| 2/2 [00:00<00:00, 93.55it/s]\n",
      "100%|█████████████████████████████████████████████| 2/2 [00:00<00:00, 96.18it/s]\n",
      "100%|█████████████████████████████████████████████| 2/2 [00:00<00:00, 97.71it/s]\n",
      "100%|█████████████████████████████████████████████| 1/1 [00:00<00:00, 60.12it/s]\n",
      "100%|█████████████████████████████████████████████| 1/1 [00:00<00:00, 73.61it/s]\n",
      "100%|████████████████████████████████████████████| 2/2 [00:00<00:00, 109.40it/s]\n",
      "100%|█████████████████████████████████████████████| 1/1 [00:00<00:00, 66.64it/s]\n",
      "8it [00:00, 191.35it/s]\n",
      "100%|████████████████████████████████████████████| 2/2 [00:00<00:00, 157.70it/s]\n",
      "100%|████████████████████████████████████████████| 2/2 [00:00<00:00, 101.58it/s]\n",
      "100%|████████████████████████████████████████████| 2/2 [00:00<00:00, 110.93it/s]\n",
      "100%|████████████████████████████████████████████| 2/2 [00:00<00:00, 114.95it/s]\n",
      "100%|█████████████████████████████████████████████| 1/1 [00:00<00:00, 60.31it/s]\n",
      "100%|█████████████████████████████████████████████| 1/1 [00:00<00:00, 71.70it/s]\n",
      "100%|█████████████████████████████████████████████| 1/1 [00:00<00:00, 76.26it/s]\n",
      "100%|█████████████████████████████████████████████| 1/1 [00:00<00:00, 79.13it/s]\n",
      "8it [00:00, 188.58it/s]\n"
     ]
    },
    {
     "name": "stdout",
     "output_type": "stream",
     "text": [
      "Fitting 5 folds for each of 53 candidates, totalling 265 fits\n",
      "DQB1*03:02  -> Probability: 0.18399086786770377\t Final_classification: False\t AUC: 1.0\t Accuracy: 0.926829268292683\t Precision: 0.4\t Sensitivity: 1.0\t Specificity: 0.9230769230769232\n",
      "No HLA-related TCRs have been found in your repertoire\n",
      "DQB1*03:03  -> Probability: N/A\t Final_classification: False\t AUC: 0.5\t Accuracy: 1\t Precision: 0\t Sensitivity: 0\t Specificity: 1\n",
      "No HLA-related TCRs have been found in your repertoire\n",
      "DQB1*03:19  -> Probability: N/A\t Final_classification: False\t AUC: 0.5\t Accuracy: 1\t Precision: 0\t Sensitivity: 0\t Specificity: 1\n",
      "No HLA-related TCRs have been found in your repertoire\n",
      "DQB1*04:01  -> Probability: N/A\t Final_classification: False\t AUC: 0.5\t Accuracy: 1\t Precision: 0\t Sensitivity: 0\t Specificity: 1\n"
     ]
    },
    {
     "name": "stderr",
     "output_type": "stream",
     "text": [
      "100%|█████████████████████████████████████████████| 1/1 [00:00<00:00, 88.25it/s]\n",
      "100%|█████████████████████████████████████████████| 1/1 [00:00<00:00, 59.40it/s]\n",
      "100%|█████████████████████████████████████████████| 1/1 [00:00<00:00, 63.72it/s]\n",
      "0it [00:00, ?it/s]\n",
      "0it [00:00, ?it/s]\n",
      "0it [00:00, ?it/s]\n",
      "0it [00:00, ?it/s]\n",
      "0it [00:00, ?it/s]\n",
      "8it [00:00, 215.75it/s]\n",
      "100%|█████████████████████████████████████████████| 1/1 [00:00<00:00, 83.93it/s]\n",
      "100%|█████████████████████████████████████████████| 1/1 [00:00<00:00, 70.90it/s]\n",
      "0it [00:00, ?it/s]\n",
      "100%|█████████████████████████████████████████████| 1/1 [00:00<00:00, 44.43it/s]\n",
      "0it [00:00, ?it/s]\n",
      "0it [00:00, ?it/s]\n",
      "0it [00:00, ?it/s]\n",
      "0it [00:00, ?it/s]\n",
      "8it [00:00, 252.16it/s]\n"
     ]
    },
    {
     "name": "stdout",
     "output_type": "stream",
     "text": [
      "Fitting 5 folds for each of 53 candidates, totalling 265 fits\n",
      "DQB1*04:02  -> Probability: 0.956333970750438\t Final_classification: True\t AUC: 1.0\t Accuracy: 0.926829268292683\t Precision: 0.25\t Sensitivity: 1.0\t Specificity: 0.925\n"
     ]
    },
    {
     "name": "stderr",
     "output_type": "stream",
     "text": [
      "100%|████████████████████████████████████████████| 8/8 [00:00<00:00, 469.02it/s]\n",
      "100%|████████████████████████████████████████████| 8/8 [00:00<00:00, 382.40it/s]\n",
      "100%|████████████████████████████████████████████| 8/8 [00:00<00:00, 446.95it/s]\n",
      "100%|████████████████████████████████████████████| 7/7 [00:00<00:00, 395.86it/s]\n",
      "100%|████████████████████████████████████████████| 8/8 [00:00<00:00, 480.87it/s]\n",
      "100%|████████████████████████████████████████████| 8/8 [00:00<00:00, 507.82it/s]\n",
      "100%|████████████████████████████████████████████| 7/7 [00:00<00:00, 546.61it/s]\n",
      "100%|████████████████████████████████████████████| 7/7 [00:00<00:00, 559.45it/s]\n",
      "8it [00:00, 226.78it/s]\n",
      "100%|████████████████████████████████████████████| 8/8 [00:00<00:00, 446.02it/s]\n",
      "100%|████████████████████████████████████████████| 8/8 [00:00<00:00, 465.11it/s]\n",
      "100%|████████████████████████████████████████████| 8/8 [00:00<00:00, 485.81it/s]\n",
      "100%|████████████████████████████████████████████| 8/8 [00:00<00:00, 522.79it/s]\n",
      "100%|████████████████████████████████████████████| 8/8 [00:00<00:00, 475.59it/s]\n",
      "100%|████████████████████████████████████████████| 7/7 [00:00<00:00, 439.62it/s]\n",
      "100%|████████████████████████████████████████████| 7/7 [00:00<00:00, 465.07it/s]\n",
      "100%|███████████████████████████████████████████| 7/7 [00:00<00:00, 1116.35it/s]\n",
      "8it [00:00, 179.33it/s]\n"
     ]
    },
    {
     "name": "stdout",
     "output_type": "stream",
     "text": [
      "Fitting 5 folds for each of 53 candidates, totalling 265 fits\n",
      "DQB1*05:01  -> Probability: 0.04184133319824278\t Final_classification: False\t AUC: 1.0\t Accuracy: 0.951219512195122\t Precision: 0.8\t Sensitivity: 1.0\t Specificity: 0.9393939393939394\n",
      "No HLA-related TCRs have been found in your repertoire\n",
      "DQB1*05:02  -> Probability: N/A\t Final_classification: False\t AUC: 0.5\t Accuracy: 1\t Precision: 0\t Sensitivity: 0\t Specificity: 1\n"
     ]
    },
    {
     "name": "stderr",
     "output_type": "stream",
     "text": [
      "100%|█████████████████████████████████████████████| 1/1 [00:00<00:00, 84.54it/s]\n",
      "100%|█████████████████████████████████████████████| 1/1 [00:00<00:00, 51.27it/s]\n",
      "100%|█████████████████████████████████████████████| 1/1 [00:00<00:00, 53.71it/s]\n",
      "100%|█████████████████████████████████████████████| 1/1 [00:00<00:00, 57.15it/s]\n",
      "100%|█████████████████████████████████████████████| 1/1 [00:00<00:00, 66.02it/s]\n",
      "100%|█████████████████████████████████████████████| 1/1 [00:00<00:00, 69.39it/s]\n",
      "100%|█████████████████████████████████████████████| 1/1 [00:00<00:00, 73.48it/s]\n",
      "100%|█████████████████████████████████████████████| 1/1 [00:00<00:00, 77.35it/s]\n",
      "8it [00:00, 202.81it/s]\n",
      "100%|████████████████████████████████████████████| 1/1 [00:00<00:00, 106.17it/s]\n",
      "100%|█████████████████████████████████████████████| 1/1 [00:00<00:00, 53.33it/s]\n",
      "100%|█████████████████████████████████████████████| 1/1 [00:00<00:00, 53.26it/s]\n",
      "100%|█████████████████████████████████████████████| 1/1 [00:00<00:00, 57.02it/s]\n",
      "100%|█████████████████████████████████████████████| 1/1 [00:00<00:00, 68.63it/s]\n",
      "100%|█████████████████████████████████████████████| 1/1 [00:00<00:00, 72.06it/s]\n",
      "100%|█████████████████████████████████████████████| 1/1 [00:00<00:00, 75.94it/s]\n",
      "100%|█████████████████████████████████████████████| 1/1 [00:00<00:00, 76.83it/s]\n",
      "8it [00:00, 185.95it/s]\n"
     ]
    },
    {
     "name": "stdout",
     "output_type": "stream",
     "text": [
      "Fitting 5 folds for each of 53 candidates, totalling 265 fits\n",
      "DQB1*05:03  -> Probability: 0.17984453581626225\t Final_classification: False\t AUC: 0.9932432432432432\t Accuracy: 0.8292682926829268\t Precision: 0.3636363636363636\t Sensitivity: 1.0\t Specificity: 0.8108108108108109\n",
      "No HLA-related TCRs have been found in your repertoire\n",
      "DQB1*06:01  -> Probability: N/A\t Final_classification: False\t AUC: 0.5\t Accuracy: 1\t Precision: 0\t Sensitivity: 0\t Specificity: 1\n"
     ]
    },
    {
     "name": "stderr",
     "output_type": "stream",
     "text": [
      "100%|█████████████████████████████████████████| 52/52 [00:00<00:00, 2269.41it/s]\n",
      "100%|█████████████████████████████████████████| 52/52 [00:00<00:00, 2483.16it/s]\n",
      "100%|█████████████████████████████████████████| 52/52 [00:00<00:00, 2486.34it/s]\n",
      "100%|█████████████████████████████████████████| 52/52 [00:00<00:00, 2574.59it/s]\n",
      "100%|█████████████████████████████████████████| 52/52 [00:00<00:00, 2624.94it/s]\n",
      "100%|█████████████████████████████████████████| 52/52 [00:00<00:00, 2704.66it/s]\n",
      "100%|█████████████████████████████████████████| 52/52 [00:00<00:00, 2795.49it/s]\n",
      "100%|█████████████████████████████████████████| 51/51 [00:00<00:00, 2969.19it/s]\n",
      "8it [00:00, 193.19it/s]\n",
      "100%|█████████████████████████████████████████| 52/52 [00:00<00:00, 1722.86it/s]\n",
      "100%|█████████████████████████████████████████| 52/52 [00:00<00:00, 1416.43it/s]\n",
      "100%|█████████████████████████████████████████| 52/52 [00:00<00:00, 1502.04it/s]\n",
      "100%|█████████████████████████████████████████| 52/52 [00:00<00:00, 1559.51it/s]\n",
      "100%|█████████████████████████████████████████| 52/52 [00:00<00:00, 2092.87it/s]\n",
      "100%|█████████████████████████████████████████| 52/52 [00:00<00:00, 1952.53it/s]\n",
      "100%|█████████████████████████████████████████| 51/51 [00:00<00:00, 1782.13it/s]\n",
      "100%|█████████████████████████████████████████| 52/52 [00:00<00:00, 2079.64it/s]\n",
      "8it [00:00, 102.44it/s]\n"
     ]
    },
    {
     "name": "stdout",
     "output_type": "stream",
     "text": [
      "Fitting 5 folds for each of 53 candidates, totalling 265 fits\n",
      "DQB1*06:02  -> Probability: 0.999972300893212\t Final_classification: True\t AUC: 0.9962121212121212\t Accuracy: 0.902439024390244\t Precision: 0.6666666666666666\t Sensitivity: 1.0\t Specificity: 0.8787878787878788\n"
     ]
    },
    {
     "name": "stderr",
     "output_type": "stream",
     "text": [
      "100%|████████████████████████████████████████████| 4/4 [00:00<00:00, 199.36it/s]\n",
      "100%|████████████████████████████████████████████| 5/5 [00:00<00:00, 292.38it/s]\n",
      "100%|████████████████████████████████████████████| 4/4 [00:00<00:00, 254.69it/s]\n",
      "100%|████████████████████████████████████████████| 5/5 [00:00<00:00, 236.50it/s]\n",
      "100%|████████████████████████████████████████████| 4/4 [00:00<00:00, 232.63it/s]\n",
      "100%|████████████████████████████████████████████| 4/4 [00:00<00:00, 244.93it/s]\n",
      "100%|████████████████████████████████████████████| 4/4 [00:00<00:00, 252.76it/s]\n",
      "100%|████████████████████████████████████████████| 4/4 [00:00<00:00, 372.23it/s]\n",
      "8it [00:00, 201.11it/s]\n",
      "100%|████████████████████████████████████████████| 5/5 [00:00<00:00, 510.83it/s]\n",
      "100%|████████████████████████████████████████████| 5/5 [00:00<00:00, 548.49it/s]\n",
      "100%|████████████████████████████████████████████| 4/4 [00:00<00:00, 298.04it/s]\n",
      "100%|████████████████████████████████████████████| 4/4 [00:00<00:00, 235.75it/s]\n",
      "100%|████████████████████████████████████████████| 4/4 [00:00<00:00, 435.89it/s]\n",
      "100%|████████████████████████████████████████████| 4/4 [00:00<00:00, 291.01it/s]\n",
      "100%|████████████████████████████████████████████| 4/4 [00:00<00:00, 469.49it/s]\n",
      "100%|████████████████████████████████████████████| 4/4 [00:00<00:00, 471.84it/s]\n",
      "8it [00:00, 190.63it/s]\n"
     ]
    },
    {
     "name": "stdout",
     "output_type": "stream",
     "text": [
      "Fitting 5 folds for each of 53 candidates, totalling 265 fits\n",
      "DQB1*06:03  -> Probability: 0.0006816953867110594\t Final_classification: False\t AUC: 1.0\t Accuracy: 0.951219512195122\t Precision: 0.7142857142857143\t Sensitivity: 1.0\t Specificity: 0.9444444444444444\n"
     ]
    },
    {
     "name": "stderr",
     "output_type": "stream",
     "text": [
      "100%|█████████████████████████████████████████████| 1/1 [00:00<00:00, 68.03it/s]\n",
      "100%|█████████████████████████████████████████████| 1/1 [00:00<00:00, 52.02it/s]\n",
      "100%|█████████████████████████████████████████████| 1/1 [00:00<00:00, 52.34it/s]\n",
      "100%|█████████████████████████████████████████████| 1/1 [00:00<00:00, 54.78it/s]\n",
      "0it [00:00, ?it/s]\n",
      "100%|█████████████████████████████████████████████| 1/1 [00:00<00:00, 59.27it/s]\n",
      "100%|█████████████████████████████████████████████| 1/1 [00:00<00:00, 73.86it/s]\n",
      "0it [00:00, ?it/s]\n",
      "8it [00:00, 185.37it/s]\n",
      "100%|█████████████████████████████████████████████| 1/1 [00:00<00:00, 60.37it/s]\n",
      "100%|█████████████████████████████████████████████| 1/1 [00:00<00:00, 63.66it/s]\n",
      "100%|█████████████████████████████████████████████| 1/1 [00:00<00:00, 67.11it/s]\n",
      "100%|█████████████████████████████████████████████| 1/1 [00:00<00:00, 37.81it/s]\n",
      "100%|█████████████████████████████████████████████| 1/1 [00:00<00:00, 59.78it/s]\n",
      "0it [00:00, ?it/s]\n",
      "100%|█████████████████████████████████████████████| 1/1 [00:00<00:00, 64.95it/s]\n",
      "0it [00:00, ?it/s]\n",
      "8it [00:00, 187.46it/s]\n"
     ]
    },
    {
     "name": "stdout",
     "output_type": "stream",
     "text": [
      "Fitting 5 folds for each of 53 candidates, totalling 265 fits\n",
      "DQB1*06:04  -> Probability: 0.342253521451809\t Final_classification: False\t AUC: 1.0\t Accuracy: 0.975609756097561\t Precision: 0.75\t Sensitivity: 1.0\t Specificity: 0.9736842105263158\n"
     ]
    },
    {
     "name": "stderr",
     "output_type": "stream",
     "text": [
      "100%|█████████████████████████████████████████| 15/15 [00:00<00:00, 1931.49it/s]\n",
      "100%|██████████████████████████████████████████| 15/15 [00:00<00:00, 844.37it/s]\n",
      "100%|██████████████████████████████████████████| 14/14 [00:00<00:00, 803.42it/s]\n",
      "100%|██████████████████████████████████████████| 14/14 [00:00<00:00, 819.98it/s]\n",
      "100%|██████████████████████████████████████████| 15/15 [00:00<00:00, 540.50it/s]\n",
      "100%|██████████████████████████████████████████| 14/14 [00:00<00:00, 864.78it/s]\n",
      "100%|██████████████████████████████████████████| 15/15 [00:00<00:00, 990.02it/s]\n",
      "100%|██████████████████████████████████████████| 14/14 [00:00<00:00, 952.43it/s]\n",
      "8it [00:00, 193.89it/s]\n",
      "100%|██████████████████████████████████████████| 15/15 [00:00<00:00, 688.71it/s]\n",
      "100%|██████████████████████████████████████████| 15/15 [00:00<00:00, 775.55it/s]\n",
      "100%|██████████████████████████████████████████| 15/15 [00:00<00:00, 807.03it/s]\n",
      "100%|██████████████████████████████████████████| 15/15 [00:00<00:00, 874.81it/s]\n",
      "100%|██████████████████████████████████████████| 14/14 [00:00<00:00, 870.57it/s]\n",
      "100%|██████████████████████████████████████████| 14/14 [00:00<00:00, 897.71it/s]\n",
      "100%|██████████████████████████████████████████| 14/14 [00:00<00:00, 954.52it/s]\n",
      "100%|█████████████████████████████████████████| 14/14 [00:00<00:00, 1198.45it/s]\n",
      "8it [00:00, 173.03it/s]\n"
     ]
    },
    {
     "name": "stdout",
     "output_type": "stream",
     "text": [
      "Fitting 5 folds for each of 53 candidates, totalling 265 fits\n",
      "DRB1*01:01  -> Probability: 0.05971218461088541\t Final_classification: False\t AUC: 0.9611111111111112\t Accuracy: 0.926829268292683\t Precision: 0.6666666666666666\t Sensitivity: 0.8\t Specificity: 0.9444444444444444\n"
     ]
    },
    {
     "name": "stderr",
     "output_type": "stream",
     "text": [
      "100%|█████████████████████████████████████████████| 1/1 [00:00<00:00, 59.41it/s]\n",
      "100%|████████████████████████████████████████████| 1/1 [00:00<00:00, 189.53it/s]\n",
      "100%|█████████████████████████████████████████████| 1/1 [00:00<00:00, 53.63it/s]\n",
      "100%|█████████████████████████████████████████████| 1/1 [00:00<00:00, 57.74it/s]\n",
      "0it [00:00, ?it/s]\n",
      "0it [00:00, ?it/s]\n",
      "0it [00:00, ?it/s]\n",
      "0it [00:00, ?it/s]\n",
      "8it [00:00, 195.85it/s]\n",
      "100%|████████████████████████████████████████████| 1/1 [00:00<00:00, 117.93it/s]\n",
      "100%|████████████████████████████████████████████| 1/1 [00:00<00:00, 123.35it/s]\n",
      "100%|████████████████████████████████████████████| 1/1 [00:00<00:00, 103.97it/s]\n",
      "100%|█████████████████████████████████████████████| 1/1 [00:00<00:00, 59.04it/s]\n",
      "0it [00:00, ?it/s]\n",
      "0it [00:00, ?it/s]\n",
      "0it [00:00, ?it/s]\n",
      "0it [00:00, ?it/s]\n",
      "8it [00:00, 198.77it/s]\n"
     ]
    },
    {
     "name": "stdout",
     "output_type": "stream",
     "text": [
      "Fitting 5 folds for each of 53 candidates, totalling 265 fits\n",
      "DRB1*01:02  -> Probability: 0.09796550704382342\t Final_classification: False\t AUC: 1.0\t Accuracy: 0.8780487804878049\t Precision: 0.1666666666666666\t Sensitivity: 1.0\t Specificity: 0.875\n",
      "No HLA-related TCRs have been found in your repertoire\n",
      "DRB1*01:03  -> Probability: N/A\t Final_classification: False\t AUC: 0.5\t Accuracy: 1\t Precision: 0\t Sensitivity: 0\t Specificity: 1\n"
     ]
    },
    {
     "name": "stderr",
     "output_type": "stream",
     "text": [
      "100%|█████████████████████████████████████████| 60/60 [00:00<00:00, 2526.31it/s]\n",
      "100%|█████████████████████████████████████████| 60/60 [00:00<00:00, 2787.13it/s]\n",
      "100%|█████████████████████████████████████████| 60/60 [00:00<00:00, 2670.20it/s]\n",
      "100%|█████████████████████████████████████████| 59/59 [00:00<00:00, 2690.97it/s]\n",
      "100%|█████████████████████████████████████████| 59/59 [00:00<00:00, 2818.24it/s]\n",
      "100%|█████████████████████████████████████████| 60/60 [00:00<00:00, 2922.62it/s]\n",
      "100%|█████████████████████████████████████████| 60/60 [00:00<00:00, 3107.54it/s]\n",
      "100%|█████████████████████████████████████████| 60/60 [00:00<00:00, 3354.95it/s]\n",
      "8it [00:00, 184.68it/s]\n",
      "100%|█████████████████████████████████████████| 60/60 [00:00<00:00, 1685.58it/s]\n",
      "100%|█████████████████████████████████████████| 60/60 [00:00<00:00, 1726.49it/s]\n",
      "100%|█████████████████████████████████████████| 60/60 [00:00<00:00, 1793.40it/s]\n",
      "100%|█████████████████████████████████████████| 60/60 [00:00<00:00, 1379.23it/s]\n",
      "100%|█████████████████████████████████████████| 60/60 [00:00<00:00, 1759.28it/s]\n",
      "100%|█████████████████████████████████████████| 60/60 [00:00<00:00, 1838.87it/s]\n",
      "100%|█████████████████████████████████████████| 59/59 [00:00<00:00, 1871.27it/s]\n",
      "100%|█████████████████████████████████████████| 59/59 [00:00<00:00, 2047.14it/s]\n",
      "8it [00:00, 108.18it/s]\n"
     ]
    },
    {
     "name": "stdout",
     "output_type": "stream",
     "text": [
      "Fitting 5 folds for each of 53 candidates, totalling 265 fits\n",
      "DRB1*03:01  -> Probability: 0.9999729561659205\t Final_classification: True\t AUC: 1.0\t Accuracy: 1.0\t Precision: 1.0\t Sensitivity: 1.0\t Specificity: 1.0\n"
     ]
    },
    {
     "name": "stderr",
     "output_type": "stream",
     "text": [
      "100%|██████████████████████████████████████████| 18/18 [00:00<00:00, 901.95it/s]\n",
      "100%|██████████████████████████████████████████| 18/18 [00:00<00:00, 917.20it/s]\n",
      "100%|██████████████████████████████████████████| 18/18 [00:00<00:00, 975.31it/s]\n",
      "100%|█████████████████████████████████████████| 18/18 [00:00<00:00, 1024.78it/s]\n",
      "100%|█████████████████████████████████████████| 18/18 [00:00<00:00, 1074.62it/s]\n",
      "100%|█████████████████████████████████████████| 18/18 [00:00<00:00, 1126.59it/s]\n",
      "100%|█████████████████████████████████████████| 17/17 [00:00<00:00, 1099.39it/s]\n",
      "100%|█████████████████████████████████████████| 18/18 [00:00<00:00, 1177.18it/s]\n",
      "8it [00:00, 187.69it/s]\n",
      "100%|█████████████████████████████████████████| 18/18 [00:00<00:00, 1107.24it/s]\n",
      "100%|█████████████████████████████████████████| 18/18 [00:00<00:00, 1101.04it/s]\n",
      "100%|█████████████████████████████████████████| 18/18 [00:00<00:00, 1262.12it/s]\n",
      "100%|█████████████████████████████████████████| 18/18 [00:00<00:00, 1128.29it/s]\n",
      "100%|█████████████████████████████████████████| 18/18 [00:00<00:00, 1168.28it/s]\n",
      "100%|██████████████████████████████████████████| 18/18 [00:00<00:00, 535.30it/s]\n",
      "100%|█████████████████████████████████████████| 18/18 [00:00<00:00, 1122.81it/s]\n",
      "100%|█████████████████████████████████████████| 17/17 [00:00<00:00, 1659.87it/s]\n",
      "8it [00:00, 163.98it/s]\n"
     ]
    },
    {
     "name": "stdout",
     "output_type": "stream",
     "text": [
      "Fitting 5 folds for each of 53 candidates, totalling 265 fits\n",
      "DRB1*04:01  -> Probability: 0.01717160906872059\t Final_classification: False\t AUC: 0.9594594594594594\t Accuracy: 0.7317073170731707\t Precision: 0.2666666666666666\t Sensitivity: 1.0\t Specificity: 0.7027027027027027\n"
     ]
    },
    {
     "name": "stderr",
     "output_type": "stream",
     "text": [
      "100%|████████████████████████████████████████████| 3/3 [00:00<00:00, 137.25it/s]\n",
      "100%|█████████████████████████████████████████████| 2/2 [00:00<00:00, 96.85it/s]\n",
      "100%|████████████████████████████████████████████| 3/3 [00:00<00:00, 298.50it/s]\n",
      "100%|█████████████████████████████████████████████| 2/2 [00:00<00:00, 92.42it/s]\n",
      "100%|█████████████████████████████████████████████| 2/2 [00:00<00:00, 96.70it/s]\n",
      "100%|████████████████████████████████████████████| 2/2 [00:00<00:00, 100.72it/s]\n",
      "100%|████████████████████████████████████████████| 2/2 [00:00<00:00, 124.57it/s]\n",
      "100%|████████████████████████████████████████████| 2/2 [00:00<00:00, 129.72it/s]\n",
      "8it [00:00, 178.69it/s]\n",
      "100%|████████████████████████████████████████████| 3/3 [00:00<00:00, 198.11it/s]\n",
      "100%|████████████████████████████████████████████| 3/3 [00:00<00:00, 180.61it/s]\n",
      "100%|████████████████████████████████████████████| 2/2 [00:00<00:00, 121.16it/s]\n",
      "100%|█████████████████████████████████████████████| 2/2 [00:00<00:00, 93.92it/s]\n",
      "100%|████████████████████████████████████████████| 2/2 [00:00<00:00, 212.16it/s]\n",
      "100%|████████████████████████████████████████████| 2/2 [00:00<00:00, 101.26it/s]\n",
      "100%|████████████████████████████████████████████| 2/2 [00:00<00:00, 107.43it/s]\n",
      "100%|████████████████████████████████████████████| 2/2 [00:00<00:00, 184.97it/s]\n",
      "8it [00:00, 183.04it/s]\n"
     ]
    },
    {
     "name": "stdout",
     "output_type": "stream",
     "text": [
      "Fitting 5 folds for each of 53 candidates, totalling 265 fits\n",
      "DRB1*04:04  -> Probability: 0.09661568443817929\t Final_classification: False\t AUC: 0.975\t Accuracy: 0.975609756097561\t Precision: 0.5\t Sensitivity: 1.0\t Specificity: 0.975\n",
      "No HLA-related TCRs have been found in your repertoire\n",
      "DRB1*04:05  -> Probability: N/A\t Final_classification: False\t AUC: 0.5\t Accuracy: 1\t Precision: 0\t Sensitivity: 0\t Specificity: 1\n",
      "No HLA-related TCRs have been found in your repertoire\n",
      "DRB1*04:08  -> Probability: N/A\t Final_classification: False\t AUC: 0.5\t Accuracy: 1\t Precision: 0\t Sensitivity: 0\t Specificity: 1\n"
     ]
    },
    {
     "name": "stderr",
     "output_type": "stream",
     "text": [
      "100%|██████████████████████████████████████████| 11/11 [00:00<00:00, 556.02it/s]\n",
      "100%|██████████████████████████████████████████| 11/11 [00:00<00:00, 571.94it/s]\n",
      "100%|██████████████████████████████████████████| 11/11 [00:00<00:00, 582.72it/s]\n",
      "100%|██████████████████████████████████████████| 11/11 [00:00<00:00, 602.77it/s]\n",
      "100%|██████████████████████████████████████████| 11/11 [00:00<00:00, 647.05it/s]\n",
      "100%|██████████████████████████████████████████| 11/11 [00:00<00:00, 671.23it/s]\n",
      "100%|██████████████████████████████████████████| 11/11 [00:00<00:00, 699.43it/s]\n",
      "100%|██████████████████████████████████████████| 10/10 [00:00<00:00, 752.98it/s]\n",
      "8it [00:00, 205.41it/s]\n",
      "100%|█████████████████████████████████████████| 11/11 [00:00<00:00, 1036.58it/s]\n",
      "100%|██████████████████████████████████████████| 11/11 [00:00<00:00, 843.62it/s]\n",
      "100%|██████████████████████████████████████████| 11/11 [00:00<00:00, 579.87it/s]\n",
      "100%|██████████████████████████████████████████| 11/11 [00:00<00:00, 760.89it/s]\n",
      "100%|██████████████████████████████████████████| 11/11 [00:00<00:00, 940.79it/s]\n",
      "100%|██████████████████████████████████████████| 11/11 [00:00<00:00, 821.40it/s]\n",
      "100%|██████████████████████████████████████████| 11/11 [00:00<00:00, 869.78it/s]\n",
      "100%|█████████████████████████████████████████| 10/10 [00:00<00:00, 1877.82it/s]\n",
      "8it [00:00, 185.73it/s]\n"
     ]
    },
    {
     "name": "stdout",
     "output_type": "stream",
     "text": [
      "Fitting 5 folds for each of 53 candidates, totalling 265 fits\n",
      "DRB1*07:01  -> Probability: 0.22888074685208676\t Final_classification: False\t AUC: 1.0\t Accuracy: 1.0\t Precision: 1.0\t Sensitivity: 1.0\t Specificity: 1.0\n"
     ]
    },
    {
     "name": "stderr",
     "output_type": "stream",
     "text": [
      "100%|█████████████████████████████████████████████| 1/1 [00:00<00:00, 58.72it/s]\n",
      "100%|█████████████████████████████████████████████| 1/1 [00:00<00:00, 53.20it/s]\n",
      "100%|█████████████████████████████████████████████| 1/1 [00:00<00:00, 55.61it/s]\n",
      "100%|█████████████████████████████████████████████| 1/1 [00:00<00:00, 58.10it/s]\n",
      "100%|█████████████████████████████████████████████| 1/1 [00:00<00:00, 60.42it/s]\n",
      "100%|█████████████████████████████████████████████| 1/1 [00:00<00:00, 62.85it/s]\n",
      "100%|█████████████████████████████████████████████| 1/1 [00:00<00:00, 65.21it/s]\n",
      "100%|█████████████████████████████████████████████| 1/1 [00:00<00:00, 79.73it/s]\n",
      "8it [00:00, 194.30it/s]\n",
      "100%|████████████████████████████████████████████| 1/1 [00:00<00:00, 108.82it/s]\n",
      "100%|████████████████████████████████████████████| 1/1 [00:00<00:00, 109.65it/s]\n",
      "100%|████████████████████████████████████████████| 1/1 [00:00<00:00, 120.89it/s]\n",
      "100%|█████████████████████████████████████████████| 1/1 [00:00<00:00, 56.51it/s]\n",
      "100%|█████████████████████████████████████████████| 1/1 [00:00<00:00, 99.63it/s]\n",
      "100%|████████████████████████████████████████████| 1/1 [00:00<00:00, 110.36it/s]\n",
      "100%|████████████████████████████████████████████| 1/1 [00:00<00:00, 117.12it/s]\n",
      "100%|████████████████████████████████████████████| 1/1 [00:00<00:00, 119.44it/s]\n",
      "8it [00:00, 189.25it/s]\n"
     ]
    },
    {
     "name": "stdout",
     "output_type": "stream",
     "text": [
      "Fitting 5 folds for each of 53 candidates, totalling 265 fits\n",
      "DRB1*08:01  -> Probability: 0.0004654398533308719\t Final_classification: False\t AUC: 1.0\t Accuracy: 0.951219512195122\t Precision: 0.3333333333333333\t Sensitivity: 1.0\t Specificity: 0.95\n",
      "No HLA-related TCRs have been found in your repertoire\n",
      "DRB1*08:03  -> Probability: N/A\t Final_classification: False\t AUC: 0.5\t Accuracy: 1\t Precision: 0\t Sensitivity: 0\t Specificity: 1\n",
      "No HLA-related TCRs have been found in your repertoire\n",
      "DRB1*08:04  -> Probability: N/A\t Final_classification: False\t AUC: 0.5\t Accuracy: 1\t Precision: 0\t Sensitivity: 0\t Specificity: 1\n"
     ]
    },
    {
     "name": "stderr",
     "output_type": "stream",
     "text": [
      "100%|█████████████████████████████████████████████| 1/1 [00:00<00:00, 63.58it/s]\n",
      "0it [00:00, ?it/s]\n",
      "0it [00:00, ?it/s]\n",
      "100%|█████████████████████████████████████████████| 1/1 [00:00<00:00, 47.13it/s]\n",
      "0it [00:00, ?it/s]\n",
      "0it [00:00, ?it/s]\n",
      "0it [00:00, ?it/s]\n",
      "0it [00:00, ?it/s]\n",
      "8it [00:00, 227.18it/s]\n",
      "0it [00:00, ?it/s]                                        | 0/1 [00:00<?, ?it/s]\n",
      "0it [00:00, ?it/s]\n",
      "0it [00:00, ?it/s]\n",
      "100%|█████████████████████████████████████████████| 1/1 [00:00<00:00, 61.48it/s]\n",
      "0it [00:00, ?it/s]\n",
      "100%|█████████████████████████████████████████████| 1/1 [00:00<00:00, 68.52it/s]\n",
      "0it [00:00, ?it/s]\n",
      "0it [00:00, ?it/s]\n",
      "8it [00:00, 202.84it/s]\n"
     ]
    },
    {
     "name": "stdout",
     "output_type": "stream",
     "text": [
      "Fitting 5 folds for each of 53 candidates, totalling 265 fits\n",
      "DRB1*09:01  -> Probability: 0.012389280108584816\t Final_classification: False\t AUC: 1.0\t Accuracy: 0.8780487804878049\t Precision: 0.1666666666666666\t Sensitivity: 1.0\t Specificity: 0.875\n"
     ]
    },
    {
     "name": "stderr",
     "output_type": "stream",
     "text": [
      "100%|████████████████████████████████████████████| 3/3 [00:00<00:00, 218.00it/s]\n",
      "100%|████████████████████████████████████████████| 4/4 [00:00<00:00, 195.45it/s]\n",
      "100%|████████████████████████████████████████████| 3/3 [00:00<00:00, 170.02it/s]\n",
      "100%|████████████████████████████████████████████| 3/3 [00:00<00:00, 178.54it/s]\n",
      "100%|████████████████████████████████████████████| 3/3 [00:00<00:00, 355.37it/s]\n",
      "100%|████████████████████████████████████████████| 3/3 [00:00<00:00, 232.58it/s]\n",
      "100%|████████████████████████████████████████████| 3/3 [00:00<00:00, 148.48it/s]\n",
      "100%|████████████████████████████████████████████| 3/3 [00:00<00:00, 250.54it/s]\n",
      "8it [00:00, 233.50it/s]\n",
      "100%|████████████████████████████████████████████| 3/3 [00:00<00:00, 486.03it/s]\n",
      "100%|████████████████████████████████████████████| 4/4 [00:00<00:00, 269.68it/s]\n",
      "100%|████████████████████████████████████████████| 3/3 [00:00<00:00, 230.09it/s]\n",
      "100%|████████████████████████████████████████████| 3/3 [00:00<00:00, 176.71it/s]\n",
      "100%|████████████████████████████████████████████| 3/3 [00:00<00:00, 217.66it/s]\n",
      "100%|████████████████████████████████████████████| 3/3 [00:00<00:00, 272.47it/s]\n",
      "100%|████████████████████████████████████████████| 3/3 [00:00<00:00, 362.59it/s]\n",
      "100%|████████████████████████████████████████████| 3/3 [00:00<00:00, 366.43it/s]\n",
      "8it [00:00, 193.45it/s]\n"
     ]
    },
    {
     "name": "stdout",
     "output_type": "stream",
     "text": [
      "Fitting 5 folds for each of 53 candidates, totalling 265 fits\n",
      "DRB1*11:01  -> Probability: 0.19294280746650078\t Final_classification: False\t AUC: 0.9054054054054054\t Accuracy: 0.8048780487804879\t Precision: 0.3\t Sensitivity: 0.75\t Specificity: 0.8108108108108109\n",
      "No HLA-related TCRs have been found in your repertoire\n",
      "DRB1*11:04  -> Probability: N/A\t Final_classification: False\t AUC: 0.5\t Accuracy: 1\t Precision: 0\t Sensitivity: 0\t Specificity: 1\n"
     ]
    },
    {
     "name": "stderr",
     "output_type": "stream",
     "text": [
      "100%|████████████████████████████████████████████| 4/4 [00:00<00:00, 179.19it/s]\n",
      "100%|████████████████████████████████████████████| 4/4 [00:00<00:00, 202.35it/s]\n",
      "100%|████████████████████████████████████████████| 4/4 [00:00<00:00, 207.18it/s]\n",
      "100%|████████████████████████████████████████████| 3/3 [00:00<00:00, 156.99it/s]\n",
      "100%|████████████████████████████████████████████| 4/4 [00:00<00:00, 220.38it/s]\n",
      "100%|████████████████████████████████████████████| 3/3 [00:00<00:00, 170.82it/s]\n",
      "100%|████████████████████████████████████████████| 3/3 [00:00<00:00, 178.39it/s]\n",
      "100%|████████████████████████████████████████████| 3/3 [00:00<00:00, 179.83it/s]\n",
      "8it [00:00, 196.71it/s]\n",
      "100%|████████████████████████████████████████████| 4/4 [00:00<00:00, 412.62it/s]\n",
      "100%|████████████████████████████████████████████| 4/4 [00:00<00:00, 251.97it/s]\n",
      "100%|████████████████████████████████████████████| 4/4 [00:00<00:00, 258.94it/s]\n",
      "100%|████████████████████████████████████████████| 4/4 [00:00<00:00, 172.51it/s]\n",
      "100%|████████████████████████████████████████████| 3/3 [00:00<00:00, 210.19it/s]\n",
      "100%|████████████████████████████████████████████| 3/3 [00:00<00:00, 224.90it/s]\n",
      "100%|████████████████████████████████████████████| 3/3 [00:00<00:00, 239.85it/s]\n",
      "100%|████████████████████████████████████████████| 3/3 [00:00<00:00, 240.49it/s]\n",
      "8it [00:00, 190.37it/s]\n"
     ]
    },
    {
     "name": "stdout",
     "output_type": "stream",
     "text": [
      "Fitting 5 folds for each of 53 candidates, totalling 265 fits\n",
      "DRB1*13:01  -> Probability: 0.0008213434848990421\t Final_classification: False\t AUC: 1.0\t Accuracy: 0.8780487804878049\t Precision: 0.5\t Sensitivity: 1.0\t Specificity: 0.8611111111111112\n"
     ]
    },
    {
     "name": "stderr",
     "output_type": "stream",
     "text": [
      "100%|█████████████████████████████████████████████| 1/1 [00:00<00:00, 66.30it/s]\n",
      "100%|████████████████████████████████████████████| 2/2 [00:00<00:00, 115.10it/s]\n",
      "100%|█████████████████████████████████████████████| 1/1 [00:00<00:00, 90.92it/s]\n",
      "100%|█████████████████████████████████████████████| 1/1 [00:00<00:00, 63.02it/s]\n",
      "100%|█████████████████████████████████████████████| 1/1 [00:00<00:00, 43.00it/s]\n",
      "100%|████████████████████████████████████████████| 2/2 [00:00<00:00, 180.25it/s]\n",
      "100%|█████████████████████████████████████████████| 1/1 [00:00<00:00, 53.53it/s]\n",
      "100%|████████████████████████████████████████████| 1/1 [00:00<00:00, 165.81it/s]\n",
      "8it [00:00, 184.07it/s]\n",
      "100%|████████████████████████████████████████████| 2/2 [00:00<00:00, 167.01it/s]\n",
      "100%|█████████████████████████████████████████████| 1/1 [00:00<00:00, 61.92it/s]\n",
      "100%|█████████████████████████████████████████████| 2/2 [00:00<00:00, 93.77it/s]\n",
      "100%|█████████████████████████████████████████████| 1/1 [00:00<00:00, 56.73it/s]\n",
      "100%|█████████████████████████████████████████████| 1/1 [00:00<00:00, 59.75it/s]\n",
      "100%|█████████████████████████████████████████████| 1/1 [00:00<00:00, 92.71it/s]\n",
      "100%|█████████████████████████████████████████████| 1/1 [00:00<00:00, 64.90it/s]\n",
      "100%|█████████████████████████████████████████████| 1/1 [00:00<00:00, 81.13it/s]\n",
      "8it [00:00, 189.56it/s]\n"
     ]
    },
    {
     "name": "stdout",
     "output_type": "stream",
     "text": [
      "Fitting 5 folds for each of 53 candidates, totalling 265 fits\n",
      "DRB1*13:02  -> Probability: 0.28116263597726554\t Final_classification: False\t AUC: 1.0\t Accuracy: 0.975609756097561\t Precision: 0.8\t Sensitivity: 1.0\t Specificity: 0.972972972972973\n",
      "No HLA-related TCRs have been found in your repertoire\n",
      "DRB1*13:03  -> Probability: N/A\t Final_classification: False\t AUC: 0.5\t Accuracy: 1\t Precision: 0\t Sensitivity: 0\t Specificity: 1\n"
     ]
    },
    {
     "name": "stderr",
     "output_type": "stream",
     "text": [
      "100%|█████████████████████████████████████████████| 1/1 [00:00<00:00, 73.85it/s]\n",
      "100%|█████████████████████████████████████████████| 1/1 [00:00<00:00, 92.07it/s]\n",
      "0it [00:00, ?it/s]\n",
      "100%|█████████████████████████████████████████████| 1/1 [00:00<00:00, 51.72it/s]\n",
      "0it [00:00, ?it/s]\n",
      "0it [00:00, ?it/s]\n",
      "0it [00:00, ?it/s]\n",
      "0it [00:00, ?it/s]\n",
      "8it [00:00, 219.19it/s]\n",
      "0it [00:00, ?it/s]                                        | 0/1 [00:00<?, ?it/s]\n",
      "100%|█████████████████████████████████████████████| 1/1 [00:00<00:00, 70.03it/s]\n",
      "0it [00:00, ?it/s]\n",
      "100%|█████████████████████████████████████████████| 1/1 [00:00<00:00, 55.96it/s]\n",
      "100%|█████████████████████████████████████████████| 1/1 [00:00<00:00, 78.14it/s]\n",
      "0it [00:00, ?it/s]\n",
      "0it [00:00, ?it/s]\n",
      "0it [00:00, ?it/s]\n",
      "8it [00:00, 353.33it/s]\n"
     ]
    },
    {
     "name": "stdout",
     "output_type": "stream",
     "text": [
      "Fitting 5 folds for each of 53 candidates, totalling 265 fits\n",
      "DRB1*14:01  -> Probability: 0.0010006538200200872\t Final_classification: False\t AUC: 1.0\t Accuracy: 1.0\t Precision: 1.0\t Sensitivity: 1.0\t Specificity: 1.0\n",
      "No HLA-related TCRs have been found in your repertoire\n",
      "DRB1*14:04  -> Probability: N/A\t Final_classification: False\t AUC: 0.5\t Accuracy: 1\t Precision: 0\t Sensitivity: 0\t Specificity: 1\n"
     ]
    },
    {
     "name": "stderr",
     "output_type": "stream",
     "text": [
      "100%|█████████████████████████████████████████| 72/72 [00:00<00:00, 3026.56it/s]\n",
      "100%|█████████████████████████████████████████| 72/72 [00:00<00:00, 2956.80it/s]\n",
      "100%|█████████████████████████████████████████| 71/71 [00:00<00:00, 2689.36it/s]\n",
      "100%|█████████████████████████████████████████| 71/71 [00:00<00:00, 3084.69it/s]\n",
      "100%|█████████████████████████████████████████| 71/71 [00:00<00:00, 2589.01it/s]\n",
      "100%|█████████████████████████████████████████| 72/72 [00:00<00:00, 2938.90it/s]\n",
      "100%|█████████████████████████████████████████| 71/71 [00:00<00:00, 3231.15it/s]\n",
      "100%|█████████████████████████████████████████| 71/71 [00:00<00:00, 3718.35it/s]\n",
      "8it [00:00, 159.53it/s]\n",
      "100%|█████████████████████████████████████████| 72/72 [00:00<00:00, 1610.06it/s]\n",
      "100%|█████████████████████████████████████████| 72/72 [00:00<00:00, 1491.09it/s]\n",
      "100%|█████████████████████████████████████████| 72/72 [00:00<00:00, 1242.41it/s]\n",
      "100%|█████████████████████████████████████████| 71/71 [00:00<00:00, 1448.75it/s]\n",
      "100%|█████████████████████████████████████████| 71/71 [00:00<00:00, 1488.31it/s]\n",
      "100%|█████████████████████████████████████████| 71/71 [00:00<00:00, 1520.06it/s]\n",
      "100%|█████████████████████████████████████████| 71/71 [00:00<00:00, 1805.39it/s]\n",
      "100%|█████████████████████████████████████████| 71/71 [00:00<00:00, 1866.98it/s]\n",
      "8it [00:00, 87.43it/s]\n"
     ]
    },
    {
     "name": "stdout",
     "output_type": "stream",
     "text": [
      "Fitting 5 folds for each of 53 candidates, totalling 265 fits\n",
      "DRB1*15:01  -> Probability: 0.9999999916553978\t Final_classification: True\t AUC: 1.0\t Accuracy: 0.902439024390244\t Precision: 0.7142857142857143\t Sensitivity: 1.0\t Specificity: 0.8709677419354839\n"
     ]
    },
    {
     "name": "stderr",
     "output_type": "stream",
     "text": [
      "0it [00:00, ?it/s]                                        | 0/1 [00:00<?, ?it/s]\n",
      "0it [00:00, ?it/s]\n",
      "100%|█████████████████████████████████████████████| 1/1 [00:00<00:00, 80.52it/s]\n",
      "0it [00:00, ?it/s]\n",
      "100%|█████████████████████████████████████████████| 1/1 [00:00<00:00, 53.31it/s]\n",
      "0it [00:00, ?it/s]\n",
      "0it [00:00, ?it/s]\n",
      "0it [00:00, ?it/s]\n",
      "8it [00:00, 192.96it/s]\n",
      "100%|█████████████████████████████████████████████| 1/1 [00:00<00:00, 87.09it/s]\n",
      "100%|█████████████████████████████████████████████| 1/1 [00:00<00:00, 48.91it/s]\n",
      "0it [00:00, ?it/s]\n",
      "0it [00:00, ?it/s]\n",
      "0it [00:00, ?it/s]\n",
      "0it [00:00, ?it/s]\n",
      "0it [00:00, ?it/s]\n",
      "0it [00:00, ?it/s]\n",
      "8it [00:00, 229.87it/s]\n"
     ]
    },
    {
     "name": "stdout",
     "output_type": "stream",
     "text": [
      "Fitting 5 folds for each of 53 candidates, totalling 265 fits\n",
      "DRB1*15:02  -> Probability: 0.10579390089188373\t Final_classification: False\t AUC: 0.9560810810810813\t Accuracy: 0.926829268292683\t Precision: 0.6\t Sensitivity: 0.75\t Specificity: 0.945945945945946\n"
     ]
    },
    {
     "name": "stderr",
     "output_type": "stream",
     "text": [
      "0it [00:00, ?it/s]                                        | 0/1 [00:00<?, ?it/s]\n",
      "0it [00:00, ?it/s]\n",
      "0it [00:00, ?it/s]\n",
      "100%|█████████████████████████████████████████████| 1/1 [00:00<00:00, 61.66it/s]\n",
      "0it [00:00, ?it/s]\n",
      "0it [00:00, ?it/s]\n",
      "0it [00:00, ?it/s]\n",
      "0it [00:00, ?it/s]\n",
      "8it [00:00, 205.06it/s]\n",
      "0it [00:00, ?it/s]                                        | 0/1 [00:00<?, ?it/s]\n",
      "0it [00:00, ?it/s]\n",
      "0it [00:00, ?it/s]\n",
      "0it [00:00, ?it/s]\n",
      "0it [00:00, ?it/s]\n",
      "0it [00:00, ?it/s]\n",
      "100%|█████████████████████████████████████████████| 1/1 [00:00<00:00, 35.43it/s]\n",
      "0it [00:00, ?it/s]\n",
      "8it [00:00, 194.06it/s]\n"
     ]
    },
    {
     "name": "stdout",
     "output_type": "stream",
     "text": [
      "Fitting 5 folds for each of 53 candidates, totalling 265 fits\n",
      "DRB1*16:01  -> Probability: 0.20756774947248444\t Final_classification: False\t AUC: 0.9912280701754388\t Accuracy: 0.975609756097561\t Precision: 0.75\t Sensitivity: 1.0\t Specificity: 0.9736842105263158\n",
      "No HLA-related TCRs have been found in your repertoire\n",
      "DRB1*16:02  -> Probability: N/A\t Final_classification: False\t AUC: 0.5\t Accuracy: 1\t Precision: 0\t Sensitivity: 0\t Specificity: 1\n"
     ]
    }
   ],
   "source": [
    "df_final_params = pd.DataFrame()\n",
    "    \n",
    "for p in np.unique(np.array(dm.ps), axis=0):\n",
    "            \n",
    "    print('Individual ' +p[0]+ ':')\n",
    "\n",
    "    for hla_target in hla_set:\n",
    "                \n",
    "        ev = GetProbabilities(hla_target,chain,hla_threshold,dm.ps,dm.data_test,grouping,untyped)\n",
    "        params = ev.classifier_params(df_param,hla_target)\n",
    "        df = mt.print_params(hla_target,ev.hla_prob,params,p[0],ev.hla_output)\n",
    "        df_final_params = pd.concat([df,df_final_params],ignore_index=True)"
   ]
  },
  {
   "cell_type": "code",
   "execution_count": null,
   "id": "fe8ceb5d",
   "metadata": {},
   "outputs": [],
   "source": [
    "17_B\tDQB1*02:01\talpha+beta\n",
    "17_B\tDQB1*06:02\talpha+beta\n",
    "17_B\tDQA1*01:02\talpha+beta\n",
    "17_B\tDQA1*05:01\talpha+beta\n",
    "17_B\tA*01:01\talpha+beta\n",
    "17_B\tA*02:01\talpha+beta\n",
    "17_B\tB*07:02\talpha+beta\n",
    "17_B\tB*08:01\talpha+beta\n",
    "17_B\tC*07:01\talpha+beta\n",
    "17_B\tC*07:02\talpha+beta\n",
    "17_B\tDPB1*04:02\talpha+beta\n",
    "17_B\tDPB1*04:02\talpha+beta\n",
    "17_B\tDRB1*03:01\talpha+beta\n",
    "17_B\tDRB1*15:01\talpha+beta"
   ]
  },
  {
   "cell_type": "code",
   "execution_count": 9,
   "id": "83c2bd24",
   "metadata": {},
   "outputs": [
    {
     "data": {
      "text/html": [
       "<div>\n",
       "<style scoped>\n",
       "    .dataframe tbody tr th:only-of-type {\n",
       "        vertical-align: middle;\n",
       "    }\n",
       "\n",
       "    .dataframe tbody tr th {\n",
       "        vertical-align: top;\n",
       "    }\n",
       "\n",
       "    .dataframe thead th {\n",
       "        text-align: right;\n",
       "    }\n",
       "</style>\n",
       "<table border=\"1\" class=\"dataframe\">\n",
       "  <thead>\n",
       "    <tr style=\"text-align: right;\">\n",
       "      <th></th>\n",
       "      <th>HLA</th>\n",
       "      <th>Probability</th>\n",
       "      <th>Final_classification</th>\n",
       "      <th>AUC</th>\n",
       "      <th>Accuracy</th>\n",
       "      <th>Precision</th>\n",
       "      <th>Sensitivity</th>\n",
       "      <th>Specificity</th>\n",
       "      <th>Individual_ID</th>\n",
       "    </tr>\n",
       "  </thead>\n",
       "  <tbody>\n",
       "    <tr>\n",
       "      <th>3</th>\n",
       "      <td>DRB1*15:01</td>\n",
       "      <td>1.0</td>\n",
       "      <td>True</td>\n",
       "      <td>1.0</td>\n",
       "      <td>0.902439</td>\n",
       "      <td>0.714286</td>\n",
       "      <td>1.0</td>\n",
       "      <td>0.870968</td>\n",
       "      <td>17_B</td>\n",
       "    </tr>\n",
       "    <tr>\n",
       "      <th>20</th>\n",
       "      <td>DRB1*03:01</td>\n",
       "      <td>0.999969</td>\n",
       "      <td>True</td>\n",
       "      <td>1.0</td>\n",
       "      <td>1.0</td>\n",
       "      <td>1.0</td>\n",
       "      <td>1.0</td>\n",
       "      <td>1.0</td>\n",
       "      <td>17_B</td>\n",
       "    </tr>\n",
       "    <tr>\n",
       "      <th>26</th>\n",
       "      <td>DQB1*06:02</td>\n",
       "      <td>0.999964</td>\n",
       "      <td>True</td>\n",
       "      <td>0.996212</td>\n",
       "      <td>0.902439</td>\n",
       "      <td>0.666667</td>\n",
       "      <td>1.0</td>\n",
       "      <td>0.878788</td>\n",
       "      <td>17_B</td>\n",
       "    </tr>\n",
       "    <tr>\n",
       "      <th>38</th>\n",
       "      <td>DQB1*02:01</td>\n",
       "      <td>1.0</td>\n",
       "      <td>True</td>\n",
       "      <td>1.0</td>\n",
       "      <td>0.97561</td>\n",
       "      <td>0.909091</td>\n",
       "      <td>1.0</td>\n",
       "      <td>0.967742</td>\n",
       "      <td>17_B</td>\n",
       "    </tr>\n",
       "    <tr>\n",
       "      <th>40</th>\n",
       "      <td>DQA1*05:01</td>\n",
       "      <td>1.0</td>\n",
       "      <td>True</td>\n",
       "      <td>1.0</td>\n",
       "      <td>0.97561</td>\n",
       "      <td>0.9</td>\n",
       "      <td>1.0</td>\n",
       "      <td>0.96875</td>\n",
       "      <td>17_B</td>\n",
       "    </tr>\n",
       "    <tr>\n",
       "      <th>48</th>\n",
       "      <td>DQA1*01:02</td>\n",
       "      <td>0.999995</td>\n",
       "      <td>True</td>\n",
       "      <td>0.822967</td>\n",
       "      <td>0.804878</td>\n",
       "      <td>0.789474</td>\n",
       "      <td>0.789474</td>\n",
       "      <td>0.818182</td>\n",
       "      <td>17_B</td>\n",
       "    </tr>\n",
       "    <tr>\n",
       "      <th>55</th>\n",
       "      <td>DPB1*04:02</td>\n",
       "      <td>1.0</td>\n",
       "      <td>True</td>\n",
       "      <td>0.97619</td>\n",
       "      <td>0.878049</td>\n",
       "      <td>0.545455</td>\n",
       "      <td>1.0</td>\n",
       "      <td>0.857143</td>\n",
       "      <td>17_B</td>\n",
       "    </tr>\n",
       "    <tr>\n",
       "      <th>56</th>\n",
       "      <td>DPB1*04:01</td>\n",
       "      <td>0.986079</td>\n",
       "      <td>True</td>\n",
       "      <td>0.904762</td>\n",
       "      <td>0.804878</td>\n",
       "      <td>0.787879</td>\n",
       "      <td>0.962963</td>\n",
       "      <td>0.5</td>\n",
       "      <td>17_B</td>\n",
       "    </tr>\n",
       "    <tr>\n",
       "      <th>67</th>\n",
       "      <td>C*07:02</td>\n",
       "      <td>0.999548</td>\n",
       "      <td>True</td>\n",
       "      <td>0.971264</td>\n",
       "      <td>0.878049</td>\n",
       "      <td>0.733333</td>\n",
       "      <td>0.916667</td>\n",
       "      <td>0.862069</td>\n",
       "      <td>17_B</td>\n",
       "    </tr>\n",
       "    <tr>\n",
       "      <th>68</th>\n",
       "      <td>C*07:01</td>\n",
       "      <td>0.999996</td>\n",
       "      <td>True</td>\n",
       "      <td>0.890323</td>\n",
       "      <td>0.926829</td>\n",
       "      <td>0.888889</td>\n",
       "      <td>0.8</td>\n",
       "      <td>0.967742</td>\n",
       "      <td>17_B</td>\n",
       "    </tr>\n",
       "    <tr>\n",
       "      <th>96</th>\n",
       "      <td>B*08:01</td>\n",
       "      <td>1.0</td>\n",
       "      <td>True</td>\n",
       "      <td>1.0</td>\n",
       "      <td>0.902439</td>\n",
       "      <td>0.6</td>\n",
       "      <td>1.0</td>\n",
       "      <td>0.885714</td>\n",
       "      <td>17_B</td>\n",
       "    </tr>\n",
       "    <tr>\n",
       "      <th>97</th>\n",
       "      <td>B*07:02</td>\n",
       "      <td>1.0</td>\n",
       "      <td>True</td>\n",
       "      <td>1.0</td>\n",
       "      <td>0.926829</td>\n",
       "      <td>0.769231</td>\n",
       "      <td>1.0</td>\n",
       "      <td>0.903226</td>\n",
       "      <td>17_B</td>\n",
       "    </tr>\n",
       "    <tr>\n",
       "      <th>110</th>\n",
       "      <td>A*03:01</td>\n",
       "      <td>0.990296</td>\n",
       "      <td>True</td>\n",
       "      <td>0.92437</td>\n",
       "      <td>0.707317</td>\n",
       "      <td>0.352941</td>\n",
       "      <td>0.857143</td>\n",
       "      <td>0.676471</td>\n",
       "      <td>17_B</td>\n",
       "    </tr>\n",
       "    <tr>\n",
       "      <th>111</th>\n",
       "      <td>A*02:01</td>\n",
       "      <td>1.0</td>\n",
       "      <td>True</td>\n",
       "      <td>0.978261</td>\n",
       "      <td>0.853659</td>\n",
       "      <td>0.772727</td>\n",
       "      <td>0.944444</td>\n",
       "      <td>0.782609</td>\n",
       "      <td>17_B</td>\n",
       "    </tr>\n",
       "    <tr>\n",
       "      <th>112</th>\n",
       "      <td>A*01:01</td>\n",
       "      <td>1.0</td>\n",
       "      <td>True</td>\n",
       "      <td>1.0</td>\n",
       "      <td>0.853659</td>\n",
       "      <td>0.625</td>\n",
       "      <td>1.0</td>\n",
       "      <td>0.806452</td>\n",
       "      <td>17_B</td>\n",
       "    </tr>\n",
       "  </tbody>\n",
       "</table>\n",
       "</div>"
      ],
      "text/plain": [
       "            HLA Probability  Final_classification       AUC  Accuracy  \\\n",
       "3    DRB1*15:01         1.0                  True       1.0  0.902439   \n",
       "20   DRB1*03:01    0.999969                  True       1.0       1.0   \n",
       "26   DQB1*06:02    0.999964                  True  0.996212  0.902439   \n",
       "38   DQB1*02:01         1.0                  True       1.0   0.97561   \n",
       "40   DQA1*05:01         1.0                  True       1.0   0.97561   \n",
       "48   DQA1*01:02    0.999995                  True  0.822967  0.804878   \n",
       "55   DPB1*04:02         1.0                  True   0.97619  0.878049   \n",
       "56   DPB1*04:01    0.986079                  True  0.904762  0.804878   \n",
       "67      C*07:02    0.999548                  True  0.971264  0.878049   \n",
       "68      C*07:01    0.999996                  True  0.890323  0.926829   \n",
       "96      B*08:01         1.0                  True       1.0  0.902439   \n",
       "97      B*07:02         1.0                  True       1.0  0.926829   \n",
       "110     A*03:01    0.990296                  True   0.92437  0.707317   \n",
       "111     A*02:01         1.0                  True  0.978261  0.853659   \n",
       "112     A*01:01         1.0                  True       1.0  0.853659   \n",
       "\n",
       "    Precision Sensitivity Specificity Individual_ID  \n",
       "3    0.714286         1.0    0.870968          17_B  \n",
       "20        1.0         1.0         1.0          17_B  \n",
       "26   0.666667         1.0    0.878788          17_B  \n",
       "38   0.909091         1.0    0.967742          17_B  \n",
       "40        0.9         1.0     0.96875          17_B  \n",
       "48   0.789474    0.789474    0.818182          17_B  \n",
       "55   0.545455         1.0    0.857143          17_B  \n",
       "56   0.787879    0.962963         0.5          17_B  \n",
       "67   0.733333    0.916667    0.862069          17_B  \n",
       "68   0.888889         0.8    0.967742          17_B  \n",
       "96        0.6         1.0    0.885714          17_B  \n",
       "97   0.769231         1.0    0.903226          17_B  \n",
       "110  0.352941    0.857143    0.676471          17_B  \n",
       "111  0.772727    0.944444    0.782609          17_B  \n",
       "112     0.625         1.0    0.806452          17_B  "
      ]
     },
     "execution_count": 9,
     "metadata": {},
     "output_type": "execute_result"
    }
   ],
   "source": [
    "df_final_params[df_final_params['Final_classification']==True]"
   ]
  },
  {
   "cell_type": "code",
   "execution_count": 10,
   "id": "88df5da6",
   "metadata": {},
   "outputs": [],
   "source": [
    "df_final_params.to_csv('/home/ruiz/example_patient_results.tsv',sep='\\t',index=False)"
   ]
  },
  {
   "cell_type": "code",
   "execution_count": null,
   "id": "a2f85af3",
   "metadata": {},
   "outputs": [],
   "source": []
  }
 ],
 "metadata": {
  "kernelspec": {
   "display_name": "Python 3",
   "language": "python",
   "name": "python3"
  },
  "language_info": {
   "codemirror_mode": {
    "name": "ipython",
    "version": 3
   },
   "file_extension": ".py",
   "mimetype": "text/x-python",
   "name": "python",
   "nbconvert_exporter": "python",
   "pygments_lexer": "ipython3",
   "version": "3.7.11"
  }
 },
 "nbformat": 4,
 "nbformat_minor": 5
}
