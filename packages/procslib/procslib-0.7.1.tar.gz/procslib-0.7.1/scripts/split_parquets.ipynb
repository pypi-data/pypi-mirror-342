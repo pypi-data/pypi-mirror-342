{
 "cells": [
  {
   "cell_type": "code",
   "execution_count": 2,
   "metadata": {},
   "outputs": [
    {
     "name": "stdout",
     "output_type": "stream",
     "text": [
      "Using global temporary directory: /tmp/unibox_temp\n"
     ]
    }
   ],
   "source": [
    "import unibox as ub\n",
    "\n",
    "from procslib.utils import split_dataframe_into_chunks"
   ]
  },
  {
   "cell_type": "code",
   "execution_count": 3,
   "metadata": {},
   "outputs": [
    {
     "name": "stdout",
     "output_type": "stream",
     "text": [
      "\u001b[37m2025-03-11 17:09:38 [INFO] loads: Loading from hf://incantor/lepton_danbooru_8835689_image_paths\u001b[0m\n"
     ]
    }
   ],
   "source": [
    "df = ub.loads(\"hf://incantor/lepton_danbooru_8835689_image_paths\").to_pandas()"
   ]
  },
  {
   "cell_type": "code",
   "execution_count": 8,
   "metadata": {},
   "outputs": [],
   "source": [
    "df[\"lepton_image_path\"] = df[\"lepton_image_path\"].apply(lambda x: x.replace(\"/data_training/\", \"/rmt/\") if x else x)"
   ]
  },
  {
   "cell_type": "code",
   "execution_count": 10,
   "metadata": {},
   "outputs": [
    {
     "name": "stdout",
     "output_type": "stream",
     "text": [
      "8835689\n",
      "8357528\n"
     ]
    }
   ],
   "source": [
    "print(len(df))\n",
    "df = df[df[\"lepton_image_path\"].notnull()]\n",
    "print(len(df))"
   ]
  },
  {
   "cell_type": "code",
   "execution_count": 14,
   "metadata": {},
   "outputs": [
    {
     "data": {
      "text/html": [
       "<div>\n",
       "<style scoped>\n",
       "    .dataframe tbody tr th:only-of-type {\n",
       "        vertical-align: middle;\n",
       "    }\n",
       "\n",
       "    .dataframe tbody tr th {\n",
       "        vertical-align: top;\n",
       "    }\n",
       "\n",
       "    .dataframe thead th {\n",
       "        text-align: right;\n",
       "    }\n",
       "</style>\n",
       "<table border=\"1\" class=\"dataframe\">\n",
       "  <thead>\n",
       "    <tr style=\"text-align: right;\">\n",
       "      <th></th>\n",
       "      <th>id</th>\n",
       "      <th>lepton_image_path</th>\n",
       "      <th>__index_level_0__</th>\n",
       "    </tr>\n",
       "  </thead>\n",
       "  <tbody>\n",
       "    <tr>\n",
       "      <th>0</th>\n",
       "      <td>8600750</td>\n",
       "      <td>/rmt/image_data/dset_danbooru/images/image_860...</td>\n",
       "      <td>275751</td>\n",
       "    </tr>\n",
       "    <tr>\n",
       "      <th>1</th>\n",
       "      <td>8600749</td>\n",
       "      <td>/rmt/image_data/dset_danbooru/images/image_860...</td>\n",
       "      <td>275752</td>\n",
       "    </tr>\n",
       "    <tr>\n",
       "      <th>2</th>\n",
       "      <td>8600748</td>\n",
       "      <td>/rmt/image_data/dset_danbooru/images/image_860...</td>\n",
       "      <td>275753</td>\n",
       "    </tr>\n",
       "    <tr>\n",
       "      <th>3</th>\n",
       "      <td>8600747</td>\n",
       "      <td>/rmt/image_data/dset_danbooru/images/image_860...</td>\n",
       "      <td>275754</td>\n",
       "    </tr>\n",
       "    <tr>\n",
       "      <th>4</th>\n",
       "      <td>8600746</td>\n",
       "      <td>/rmt/image_data/dset_danbooru/images/image_860...</td>\n",
       "      <td>275755</td>\n",
       "    </tr>\n",
       "    <tr>\n",
       "      <th>...</th>\n",
       "      <td>...</td>\n",
       "      <td>...</td>\n",
       "      <td>...</td>\n",
       "    </tr>\n",
       "    <tr>\n",
       "      <th>8835684</th>\n",
       "      <td>5</td>\n",
       "      <td>/rmt/nyanko/danbooru2023-files/5.webp</td>\n",
       "      <td>8835684</td>\n",
       "    </tr>\n",
       "    <tr>\n",
       "      <th>8835685</th>\n",
       "      <td>4</td>\n",
       "      <td>/rmt/nyanko/danbooru2023-files/4.webp</td>\n",
       "      <td>8835685</td>\n",
       "    </tr>\n",
       "    <tr>\n",
       "      <th>8835686</th>\n",
       "      <td>3</td>\n",
       "      <td>/rmt/nyanko/danbooru2023-files/3.webp</td>\n",
       "      <td>8835686</td>\n",
       "    </tr>\n",
       "    <tr>\n",
       "      <th>8835687</th>\n",
       "      <td>2</td>\n",
       "      <td>/rmt/nyanko/danbooru2023-files/2.webp</td>\n",
       "      <td>8835687</td>\n",
       "    </tr>\n",
       "    <tr>\n",
       "      <th>8835688</th>\n",
       "      <td>1</td>\n",
       "      <td>/rmt/nyanko/danbooru2023-files/1.webp</td>\n",
       "      <td>8835688</td>\n",
       "    </tr>\n",
       "  </tbody>\n",
       "</table>\n",
       "<p>8357528 rows × 3 columns</p>\n",
       "</div>"
      ],
      "text/plain": [
       "              id                                  lepton_image_path  \\\n",
       "0        8600750  /rmt/image_data/dset_danbooru/images/image_860...   \n",
       "1        8600749  /rmt/image_data/dset_danbooru/images/image_860...   \n",
       "2        8600748  /rmt/image_data/dset_danbooru/images/image_860...   \n",
       "3        8600747  /rmt/image_data/dset_danbooru/images/image_860...   \n",
       "4        8600746  /rmt/image_data/dset_danbooru/images/image_860...   \n",
       "...          ...                                                ...   \n",
       "8835684        5              /rmt/nyanko/danbooru2023-files/5.webp   \n",
       "8835685        4              /rmt/nyanko/danbooru2023-files/4.webp   \n",
       "8835686        3              /rmt/nyanko/danbooru2023-files/3.webp   \n",
       "8835687        2              /rmt/nyanko/danbooru2023-files/2.webp   \n",
       "8835688        1              /rmt/nyanko/danbooru2023-files/1.webp   \n",
       "\n",
       "         __index_level_0__  \n",
       "0                   275751  \n",
       "1                   275752  \n",
       "2                   275753  \n",
       "3                   275754  \n",
       "4                   275755  \n",
       "...                    ...  \n",
       "8835684            8835684  \n",
       "8835685            8835685  \n",
       "8835686            8835686  \n",
       "8835687            8835687  \n",
       "8835688            8835688  \n",
       "\n",
       "[8357528 rows x 3 columns]"
      ]
     },
     "execution_count": 14,
     "metadata": {},
     "output_type": "execute_result"
    }
   ],
   "source": [
    "df"
   ]
  },
  {
   "cell_type": "code",
   "execution_count": 15,
   "metadata": {},
   "outputs": [],
   "source": [
    "df = df.drop(columns=[\"__index_level_0__\"])"
   ]
  },
  {
   "cell_type": "code",
   "execution_count": null,
   "metadata": {},
   "outputs": [
    {
     "name": "stdout",
     "output_type": "stream",
     "text": [
      "\u001b[37m2025-03-11 17:22:06 [INFO] saves: Saving to ./danbooru_path_chunks/0.parquet\u001b[0m\n",
      "\u001b[37m2025-03-11 17:22:06 [INFO] saves: Saving to ./danbooru_path_chunks/1.parquet\u001b[0m\n",
      "\u001b[37m2025-03-11 17:22:06 [INFO] saves: Saving to ./danbooru_path_chunks/2.parquet\u001b[0m\n",
      "\u001b[37m2025-03-11 17:22:07 [INFO] saves: Saving to ./danbooru_path_chunks/3.parquet\u001b[0m\n",
      "\u001b[37m2025-03-11 17:22:07 [INFO] saves: Saving to ./danbooru_path_chunks/4.parquet\u001b[0m\n",
      "\u001b[37m2025-03-11 17:22:07 [INFO] saves: Saving to ./danbooru_path_chunks/5.parquet\u001b[0m\n",
      "\u001b[37m2025-03-11 17:22:07 [INFO] saves: Saving to ./danbooru_path_chunks/6.parquet\u001b[0m\n",
      "\u001b[37m2025-03-11 17:22:08 [INFO] saves: Saving to ./danbooru_path_chunks/7.parquet\u001b[0m\n"
     ]
    },
    {
     "ename": "",
     "evalue": "",
     "output_type": "error",
     "traceback": [
      "\u001b[1;31mThe Kernel crashed while executing code in the current cell or a previous cell. \n",
      "\u001b[1;31mPlease review the code in the cell(s) to identify a possible cause of the failure. \n",
      "\u001b[1;31mClick <a href='https://aka.ms/vscodeJupyterKernelCrash'>here</a> for more info. \n",
      "\u001b[1;31mView Jupyter <a href='command:jupyter.viewOutput'>log</a> for further details."
     ]
    }
   ],
   "source": [
    "save_dir = \"./danbooru_path_chunks\"\n",
    "chunks = split_dataframe_into_chunks(df, save_dir, num_chunks=8)"
   ]
  },
  {
   "cell_type": "code",
   "execution_count": null,
   "metadata": {},
   "outputs": [],
   "source": [
    "# in a new terminal:\n",
    "# cd /lv0/yada/procslib/scripts"
   ]
  }
 ],
 "metadata": {
  "kernelspec": {
   "display_name": "base",
   "language": "python",
   "name": "python3"
  },
  "language_info": {
   "codemirror_mode": {
    "name": "ipython",
    "version": 3
   },
   "file_extension": ".py",
   "mimetype": "text/x-python",
   "name": "python",
   "nbconvert_exporter": "python",
   "pygments_lexer": "ipython3",
   "version": "3.10.13"
  }
 },
 "nbformat": 4,
 "nbformat_minor": 2
}
