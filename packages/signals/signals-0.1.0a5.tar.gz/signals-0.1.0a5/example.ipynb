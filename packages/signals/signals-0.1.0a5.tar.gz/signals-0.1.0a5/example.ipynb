{
 "cells": [
  {
   "cell_type": "code",
   "execution_count": null,
   "id": "b34a89fa",
   "metadata": {
    "jupyter": {
     "source_hidden": true
    }
   },
   "outputs": [],
   "source": [
    "# /// script\n",
    "# requires-python = \">=3.12\"\n",
    "# dependencies = [\n",
    "#     \"anywidget\",\n",
    "#     \"signals\",\n",
    "# ]\n",
    "#\n",
    "# [tool.uv.sources]\n",
    "# signals = { path = \".\" }\n",
    "# ///\n",
    "from __future__ import annotations"
   ]
  },
  {
   "cell_type": "code",
   "execution_count": null,
   "id": "f19fd318-5501-4a46-9cc9-d47b2cc2a50e",
   "metadata": {},
   "outputs": [],
   "source": [
    "%load_ext signals"
   ]
  },
  {
   "cell_type": "code",
   "execution_count": null,
   "id": "35f81996",
   "metadata": {},
   "outputs": [],
   "source": [
    "from IPython.display import Markdown as md\n",
    "\n",
    "import signals.inputs as Inputs\n",
    "from signals import Signal\n",
    "\n",
    "value = Signal(10)\n",
    "Inputs.Range((0, 100), value=value)"
   ]
  },
  {
   "cell_type": "code",
   "execution_count": null,
   "id": "520af253-f8ed-4538-9dc7-a6674f3c3044",
   "metadata": {},
   "outputs": [],
   "source": [
    "%%effect\n",
    "md(f\"\"\"\n",
    "# Heading 1\n",
    "## Heading 2\n",
    "### Heading 3\n",
    "\n",
    "The current value is **{value():.2f}**.\n",
    "\"\"\")"
   ]
  },
  {
   "cell_type": "code",
   "execution_count": null,
   "id": "31081640-ba5f-4986-a4ee-222378ec82ea",
   "metadata": {},
   "outputs": [],
   "source": [
    "md(\"\"\"\n",
    "## Inputs\n",
    "\"\"\")"
   ]
  },
  {
   "cell_type": "code",
   "execution_count": null,
   "id": "822b5e83-4986-43b0-9151-5031d608ab5f",
   "metadata": {},
   "outputs": [],
   "source": [
    "slider = Inputs.Range((0, 1000), value=10, label=\"Slider\")\n",
    "slider"
   ]
  },
  {
   "cell_type": "code",
   "execution_count": null,
   "id": "0a1f3606-ab04-40c6-8e8d-60aba6924bd6",
   "metadata": {},
   "outputs": [],
   "source": [
    "radio = Inputs.Radio([\"a\", \"b\", \"c\"], label=\"Radio\")\n",
    "radio"
   ]
  },
  {
   "cell_type": "code",
   "execution_count": null,
   "id": "17aafa55-f480-46f4-9ab6-ec10b8066d83",
   "metadata": {},
   "outputs": [],
   "source": [
    "text = Inputs.Text(label=\"Text\")\n",
    "text"
   ]
  },
  {
   "cell_type": "code",
   "execution_count": null,
   "id": "c679e482-8416-4a4b-9b89-8c6f4edc7101",
   "metadata": {},
   "outputs": [],
   "source": [
    "select = Inputs.Select({\"A\": \"aaa\", \"B\": \"bbb\"}, label=\"Select\")\n",
    "select"
   ]
  },
  {
   "cell_type": "code",
   "execution_count": null,
   "id": "2fe2d454-f6f7-4671-86f5-5ceb8bbc02fd",
   "metadata": {},
   "outputs": [],
   "source": [
    "toggle = Inputs.Toggle(label=\"Toggle\")\n",
    "toggle"
   ]
  },
  {
   "cell_type": "code",
   "execution_count": null,
   "id": "7a56632e-f3c0-4cbc-9e93-6dfc3502eaf3",
   "metadata": {},
   "outputs": [],
   "source": [
    "%%effect\n",
    "md(f\"\"\"\n",
    "The current _values_ are:\n",
    "\n",
    "- Slider: {slider()}\n",
    "- Radio: {radio()}\n",
    "- Text: {text()}\n",
    "- Select: {select()}\n",
    "- Toggle: {toggle()}\n",
    "\"\"\")"
   ]
  },
  {
   "cell_type": "code",
   "execution_count": null,
   "id": "55935769-748c-4b60-8fda-f73528953204",
   "metadata": {},
   "outputs": [],
   "source": [
    "md(\"\"\"\n",
    "## Form (aka UI)\n",
    "\"\"\")"
   ]
  },
  {
   "cell_type": "code",
   "execution_count": null,
   "id": "91700adb-f9ef-43e3-9a05-9ae270de329b",
   "metadata": {},
   "outputs": [],
   "source": [
    "ui = Inputs.Form(\n",
    "    slider=Inputs.Range((0, 1000), value=10),\n",
    "    radio=Inputs.Radio([\"a\", \"b\", \"c\"]),\n",
    "    text=Inputs.Text(),\n",
    "    select=Inputs.Select({\"A\": \"aaa\", \"B\": \"bbb\"}),\n",
    "    toggle=Inputs.Toggle(),\n",
    ")\n",
    "ui"
   ]
  },
  {
   "cell_type": "code",
   "execution_count": null,
   "id": "995228f8-34e0-443a-a0ed-871aa5166224",
   "metadata": {},
   "outputs": [],
   "source": [
    "%%effect\n",
    "md(f\"\"\"\n",
    "The UI _values_ are:\n",
    "\n",
    "- slider: {ui.slider():.2f}\n",
    "- radio: {ui.radio()}\n",
    "- text: {ui.text()}\n",
    "- select: {ui.select()}\n",
    "- toggle: {ui.toggle()}\n",
    "\"\"\")"
   ]
  },
  {
   "cell_type": "code",
   "execution_count": null,
   "id": "3ee1f3ff-0d3b-4f32-b547-f25160e7ceac",
   "metadata": {},
   "outputs": [],
   "source": []
  }
 ],
 "metadata": {
  "kernelspec": {
   "display_name": "Python 3 (ipykernel)",
   "language": "python",
   "name": "python3"
  },
  "language_info": {
   "codemirror_mode": {
    "name": "ipython",
    "version": 3
   },
   "file_extension": ".py",
   "mimetype": "text/x-python",
   "name": "python",
   "nbconvert_exporter": "python",
   "pygments_lexer": "ipython3",
   "version": "3.12.7"
  },
  "widgets": {
   "application/vnd.jupyter.widget-state+json": {
    "state": {},
    "version_major": 2,
    "version_minor": 0
   }
  }
 },
 "nbformat": 4,
 "nbformat_minor": 5
}
