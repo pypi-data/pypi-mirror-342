{
 "cells": [
  {
   "cell_type": "code",
   "metadata": {},
   "source": [
    "LABEL_MAPPING = {\n",
    "    1: \"aorta\",\n",
    "    2: \"left_lung\",\n",
    "    3: \"right_lung\",\n",
    "    4: \"trachea\",\n",
    "    5: \"pulmonary_artery\",                               \n",
    "}\n",
    "MASK_PATH = \"radiomics/src/cuda/data/masks.nii.gz\"\n",
    "SCAN_PATH = \"radiomics/src/cuda/data/scan.nii.gz\"\n",
    "CONFIG_PATH = \"radiomics/src/cuda/data/extractor_config.json\"\n",
    "DATA_IMPORT_PATH = \"radiomics/src/cuda/test\"\n",
    "DATA_SAVE_PATH = \"radiomics/src/cuda/\"\n",
    "\n",
    "import sys\n",
    "sys.path.append(DATA_IMPORT_PATH)"
   ],
   "outputs": [],
   "execution_count": null
  },
  {
   "cell_type": "code",
   "metadata": {
    "jupyter": {
     "is_executing": true
    }
   },
   "source": [
    "\n",
    "!python3.10 -m pip install -r requirements.txt\n",
    "!python3.10 -m     pip install . --no-cache-dir\n",
    "!python3.10 setup.py build_ext --inplace"
   ],
   "outputs": [],
   "execution_count": null
  },
  {
   "cell_type": "code",
   "metadata": {},
   "source": [
    "import data_transform\n",
    "output = data_transform.write_shape_class(MASK_PATH, SCAN_PATH, len(LABEL_MAPPING), DATA_SAVE_PATH)\n",
    "\n",
    "print(f\"Got output directories: {output}\")"
   ],
   "outputs": [],
   "execution_count": null
  },
  {
   "cell_type": "code",
   "metadata": {},
   "source": [
    "import data_transform\n",
    "d = data_transform.load_shape_class(output[0])"
   ],
   "outputs": [],
   "execution_count": null
  },
  {
   "cell_type": "code",
   "metadata": {},
   "source": [
    "from radiomics import cShape\n",
    "\n",
    "a, b, c = cShape.calculate_coefficients(d['mask_array'], d['pixel_spacing'])\n",
    "print(a, b, c)"
   ],
   "outputs": [],
   "execution_count": null
  }
 ],
 "metadata": {
  "kernelspec": {
   "display_name": "Python 3 (ipykernel)",
   "language": "python",
   "name": "python3"
  },
  "language_info": {
   "codemirror_mode": {
    "name": "ipython",
    "version": 3
   },
   "file_extension": ".py",
   "mimetype": "text/x-python",
   "name": "python",
   "nbconvert_exporter": "python",
   "pygments_lexer": "ipython3",
   "version": "3.10.16"
  }
 },
 "nbformat": 4,
 "nbformat_minor": 2
}
