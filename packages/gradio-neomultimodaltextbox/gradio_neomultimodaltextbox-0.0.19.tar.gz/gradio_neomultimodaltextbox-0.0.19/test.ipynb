{
 "cells": [
  {
   "cell_type": "code",
   "execution_count": 3,
   "id": "776ba7e9",
   "metadata": {},
   "outputs": [
    {
     "name": "stdout",
     "output_type": "stream",
     "text": [
      "sdp\n",
      "type\n",
      "webrtc_id\n"
     ]
    }
   ],
   "source": [
    "example = {'sdp': 'v=0\\r\\no=mozilla...THIS_IS_SDPARTA-99.0 73697915657816745 0 IN IP4 0.0.0.0\\r\\ns=-\\r\\nt=0 0\\r\\na=sendrecv\\r\\na=fingerprint:sha-256 FB:D1:8F:CD:17:AE:A0:4C:08:19:D4:2A:DC:92:F2:90:70:25:05:2D:E1:DE:55:61:91:53:81:3D:2F:D0:AD:11\\r\\na=group:BUNDLE 0 1\\r\\na=ice-options:trickle\\r\\na=msid-semantic:WMS *\\r\\nm=audio 57648 UDP/TLS/RTP/SAVPF 109 9 0 8 101\\r\\nc=IN IP4 4.211.252.190\\r\\na=candidate:0 2 UDP 8331262 4.211.252.190 60420 typ relay raddr 4.211.252.190 rport 60420\\r\\na=candidate:0 1 UDP 8331263 4.211.252.190 57648 typ relay raddr 4.211.252.190 rport 57648\\r\\na=sendrecv\\r\\na=end-of-candidates\\r\\na=extmap:1 urn:ietf:params:rtp-hdrext:ssrc-audio-level\\r\\na=extmap:2/recvonly urn:ietf:params:rtp-hdrext:csrc-audio-level\\r\\na=extmap:3 urn:ietf:params:rtp-hdrext:sdes:mid\\r\\na=fmtp:109 maxplaybackrate=48000;stereo=1;useinbandfec=1\\r\\na=fmtp:101 0-15\\r\\na=ice-pwd:cae1b8f0ef79ce61d520440106477b67\\r\\na=ice-ufrag:1f4d2010\\r\\na=mid:0\\r\\na=msid:{2142d296-7551-4ef3-9077-370ae91e753c} {23ec7033-8bbb-4fa8-9de3-b784bdfd3319}\\r\\na=rtcp:60420 IN IP4 4.211.252.190\\r\\na=rtcp-mux\\r\\na=rtpmap:109 opus/48000/2\\r\\na=rtpmap:9 G722/8000/1\\r\\na=rtpmap:0 PCMU/8000\\r\\na=rtpmap:8 PCMA/8000\\r\\na=rtpmap:101 telephone-event/8000\\r\\na=setup:actpass\\r\\na=ssrc:880185361 cname:{b4096c8a-d9eb-469a-95c3-93a62fe8cd1b}\\r\\nm=application 52459 UDP/DTLS/SCTP webrtc-datachannel\\r\\nc=IN IP4 4.211.252.190\\r\\na=candidate:0 1 UDP 8331263 4.211.252.190 52459 typ relay raddr 4.211.252.190 rport 52459\\r\\na=sendrecv\\r\\na=end-of-candidates\\r\\na=ice-pwd:cae1b8f0ef79ce61d520440106477b67\\r\\na=ice-ufrag:1f4d2010\\r\\na=mid:1\\r\\na=setup:actpass\\r\\na=sctp-port:5000\\r\\na=max-message-size:1073741823\\r\\n', 'type': 'offer', 'webrtc_id': '6l1ed5q5bex'}\n",
    "\n",
    "for i in example:\n",
    "    print(f\"{i}\")\n"
   ]
  },
  {
   "cell_type": "code",
   "execution_count": null,
   "id": "f3740b05",
   "metadata": {},
   "outputs": [],
   "source": [
    "exemple = {'sdp': \"v=0\\r\\no=- 3953891189 3953891189 IN IP4 0.0.0.0\\r\\ns=-\\r\\nt=0 0\\r\\na=group:BUNDLE 0 1\\r\\na=msid-semantic:WMS *\\r\\nm=audio 48920 UDP/TLS/RTP/SAVPF 109 0 8\\r\\nc=IN IP4 169.254.131.8\\r\\na=sendrecv\\r\\na=extmap:1 urn:ietf:params:rtp-hdrext:ssrc-audio-level\\r\\na=extmap:3 urn:ietf:params:rtp-hdrext:sdes:mid\\r\\na=mid:0\\r\\na=msid:683d9105-581f-4bbe-b91d-e916fe54e10e 1ed2b0e3-9bfc-4efa-8aaf-91ec0f84c8c9\\r\\na=rtcp:9 IN IP4 0.0.0.0\\r\\na=rtcp-mux\\r\\na=ssrc:498981682 cname:948bebaf-8354-46df-a85e-c85e46155947\\r\\na=rtpma…f2df779bcbd41cbc7fcc5 1 udp 2130706431 169.254.131.8 48920 typ host\\r\\na=candidate:c27911dc2f807989dfc569e7e7106d0d 1 udp 2130706431 169.254.254.8 46829 typ host\\r\\na=candidate:2bd33fcf2c3c648e609da7ff190fa236 1 udp 1694498815 20.74.118.239 29953 typ srflx raddr 169.254.254.8 rport 46829\\r\\na=end-of-candidates\\r\\na=ice-ufrag:69Q3\\r\\na=ice-pwd:LXVLF1BsfGokCRY14pQIVF\\r\\na=fingerprint:sha-256 22:AB:39:11:42:3F:EF:7B:5D:6F:C9:B5:08:A1:01:04:CB:05:E2:6E:ED:A6:8C:49:F1:E9:DC:D8:41:36:0D:50\\r\\na=setup:active\\r\\n\"}\n",
    "exemple = {'sdp': \"v=0\\r\\no=- 3953891152 3953891152 IN IP4 0.0.0.0\\r\\ns=-\\r\\nt=0 0\\r\\na=group:BUNDLE 0 1\\r\\na=msid-semantic:WMS *\\r\\nm=audio 46020 UDP/TLS/RTP/SAVPF 109 0 8\\r\\nc=IN IP4 169.254.131.8\\r\\na=sendrecv\\r\\na=extmap:1 urn:ietf:params:rtp-hdrext:ssrc-audio-level\\r\\na=extmap:3 urn:ietf:params:rtp-hdrext:sdes:mid\\r\\na=mid:0\\r\\na=msid:0ba07fad-8e4e-4290-9294-fb5e30cc26d0 b7521a53-3c89-4fc0-953c-a41ceafef4b3\\r\\na=rtcp:9 IN IP4 0.0.0.0\\r\\na=rtcp-mux\\r\\na=ssrc:3745366825 cname:d3f58b7a-e1d6-4102-8315-5da85bf226df\\r\\na=rtpm…f2df779bcbd41cbc7fcc5 1 udp 2130706431 169.254.131.8 46020 typ host\\r\\na=candidate:c27911dc2f807989dfc569e7e7106d0d 1 udp 2130706431 169.254.254.8 58982 typ host\\r\\na=candidate:2bd33fcf2c3c648e609da7ff190fa236 1 udp 1694498815 20.74.118.239 29952 typ srflx raddr 169.254.254.8 rport 58982\\r\\na=end-of-candidates\\r\\na=ice-ufrag:smdV\\r\\na=ice-pwd:xcOf1homkThrl6eLoM2CIf\\r\\na=fingerprint:sha-256 3A:85:6E:05:E4:80:D7:52:E7:5D:C3:2D:76:5A:CA:D8:D2:3F:59:B5:82:C1:59:5E:78:1D:EA:04:41:B6:CA:E9\\r\\na=setup:active\\r\\n\"}\n",
    "for i in example:\n",
    "    print(f\"{i}\")\n",
    "\n"
   ]
  }
 ],
 "metadata": {
  "kernelspec": {
   "display_name": "Python 3",
   "language": "python",
   "name": "python3"
  },
  "language_info": {
   "codemirror_mode": {
    "name": "ipython",
    "version": 3
   },
   "file_extension": ".py",
   "mimetype": "text/x-python",
   "name": "python",
   "nbconvert_exporter": "python",
   "pygments_lexer": "ipython3",
   "version": "3.11.9"
  }
 },
 "nbformat": 4,
 "nbformat_minor": 5
}
