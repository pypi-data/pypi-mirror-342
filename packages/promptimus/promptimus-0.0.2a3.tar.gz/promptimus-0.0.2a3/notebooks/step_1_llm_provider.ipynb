{
 "cells": [
  {
   "cell_type": "code",
   "execution_count": 1,
   "id": "f623ca20-31bb-4341-a6c6-dd06d755e78e",
   "metadata": {},
   "outputs": [],
   "source": [
    "%load_ext rich"
   ]
  },
  {
   "cell_type": "markdown",
   "id": "703e9812-1a98-41f8-8e3d-d7c3d26a1daa",
   "metadata": {},
   "source": [
    "# LLM Provider\n",
    "A provider is a class that implements `ProviderProtocol`, serving as an interface to interact with a large language model (LLM). It processes user queries and returns model-generated responses.\n",
    "\n",
    "```python\n",
    "class ProviderProtocol(Protocol):\n",
    "    async def achat(self, history: list[Message]) -> Message: ...\n",
    "```\n",
    "\n",
    "Expected Behavior\n",
    "\n",
    "-  Implements `achat(self, history: list[Message]) -> Message`\n",
    "-  Accepts a conversation history (list of `Message` objects)\n",
    "-  Returns a single assistant-generated response (`Message`)\n",
    "\n",
    "A provider facilitates structured communication with an LLM, ensuring consistency in message handling and response generation."
   ]
  },
  {
   "cell_type": "code",
   "execution_count": 2,
   "id": "d2395675-787f-40f4-a5e5-c2abf9321c73",
   "metadata": {},
   "outputs": [],
   "source": [
    "from promptimus import Message, MessageRole\n",
    "from promptimus.llms import OpenAILike"
   ]
  },
  {
   "cell_type": "code",
   "execution_count": 3,
   "id": "e895c88d-e905-430f-9709-34296a7bd3be",
   "metadata": {},
   "outputs": [],
   "source": [
    "# creating a provider\n",
    "#\n",
    "# do not forgent to export OPENAI_API_KEY with your token or pass it as api-key argument\n",
    "provider = OpenAILike(\n",
    "    model_name=\"gemma3:4b\",\n",
    "    base_url=\"http://lilan:11434/v1\",\n",
    "    api_key=\"DUMMY\"\n",
    ")"
   ]
  },
  {
   "cell_type": "code",
   "execution_count": 4,
   "id": "ca13ac1b-e5d9-4f02-a587-87ac6ccf3141",
   "metadata": {},
   "outputs": [
    {
     "data": {
      "text/html": [
       "<pre style=\"white-space:pre;overflow-x:auto;line-height:normal;font-family:Menlo,'DejaVu Sans Mono',consolas,'Courier New',monospace\"></pre>\n"
      ],
      "text/plain": []
     },
     "metadata": {},
     "output_type": "display_data"
    },
    {
     "data": {
      "text/plain": [
       "\n",
       "\u001b[1;35mMessage\u001b[0m\u001b[1m(\u001b[0m\n",
       "    \u001b[33mrole\u001b[0m=\u001b[1m<\u001b[0m\u001b[1;95mMessageRole.ASSISTANT:\u001b[0m\u001b[39m \u001b[0m\u001b[32m'assistant'\u001b[0m\u001b[1m>\u001b[0m,\n",
       "    \u001b[33mcontent\u001b[0m=\u001b[32m\"Hi\u001b[0m\u001b[32m there! I'm Gemma, a large language model created by the Gemma team at Google DeepMind. I'm an open-weights model, which means I'm widely available for public use! \\n\\nI can take text and images as inputs and output text. \\n\\nIt's nice to meet you!\"\u001b[0m,\n",
       "    \u001b[33mtool_calls\u001b[0m=\u001b[3;35mNone\u001b[0m,\n",
       "    \u001b[33mtool_call_id\u001b[0m=\u001b[3;35mNone\u001b[0m\n",
       "\u001b[1m)\u001b[0m"
      ]
     },
     "execution_count": 4,
     "metadata": {},
     "output_type": "execute_result"
    }
   ],
   "source": [
    "# using a provider with single message\n",
    "await provider.achat(\n",
    "    [\n",
    "        Message(role=MessageRole.USER, content=\"Hi, who are you?\"),\n",
    "    ]\n",
    ")"
   ]
  },
  {
   "cell_type": "code",
   "execution_count": 5,
   "id": "c374c7c6-a4a7-4372-bc1b-50e5f727b6d8",
   "metadata": {},
   "outputs": [
    {
     "data": {
      "text/html": [
       "<pre style=\"white-space:pre;overflow-x:auto;line-height:normal;font-family:Menlo,'DejaVu Sans Mono',consolas,'Courier New',monospace\"></pre>\n"
      ],
      "text/plain": []
     },
     "metadata": {},
     "output_type": "display_data"
    },
    {
     "data": {
      "text/plain": [
       "\n",
       "\u001b[1;35mMessage\u001b[0m\u001b[1m(\u001b[0m\n",
       "    \u001b[33mrole\u001b[0m=\u001b[1m<\u001b[0m\u001b[1;95mMessageRole.ASSISTANT:\u001b[0m\u001b[39m \u001b[0m\u001b[32m'assistant'\u001b[0m\u001b[1m>\u001b[0m,\n",
       "    \u001b[33mcontent\u001b[0m=\u001b[32m'Hi there! You can call me Mark. It’s nice to meet you! 😊 \\n\\nWhat’s up with you?'\u001b[0m,\n",
       "    \u001b[33mtool_calls\u001b[0m=\u001b[3;35mNone\u001b[0m,\n",
       "    \u001b[33mtool_call_id\u001b[0m=\u001b[3;35mNone\u001b[0m\n",
       "\u001b[1m)\u001b[0m"
      ]
     },
     "execution_count": 5,
     "metadata": {},
     "output_type": "execute_result"
    }
   ],
   "source": [
    "# using provider with multiple messages\n",
    "await provider.achat(\n",
    "    [\n",
    "        Message(role=MessageRole.SYSTEM, content=\"Your name is Mark.\"),\n",
    "        Message(role=MessageRole.USER, content=\"Hi, what is your name?\"),\n",
    "    ]\n",
    ")"
   ]
  },
  {
   "cell_type": "markdown",
   "id": "b967dfd8-5143-4886-94f7-93675a2f657b",
   "metadata": {},
   "source": [
    "## OpenAI like and rate limits"
   ]
  },
  {
   "cell_type": "code",
   "execution_count": 6,
   "id": "138fe431-787c-4a08-87b9-460a6f6beac1",
   "metadata": {},
   "outputs": [],
   "source": [
    "from tqdm.auto import tqdm\n",
    "import asyncio"
   ]
  },
  {
   "cell_type": "code",
   "execution_count": 7,
   "id": "9ffdcc77-56db-4380-b65a-c186b3b6e6aa",
   "metadata": {},
   "outputs": [],
   "source": [
    "openai = OpenAILike(\n",
    "    model_name=\"gpt-4.1-nano\",\n",
    "    max_concurrency=50,\n",
    ")"
   ]
  },
  {
   "cell_type": "code",
   "execution_count": 8,
   "id": "13a2f450-2ffc-4e38-b5f3-1c39c195d219",
   "metadata": {},
   "outputs": [
    {
     "data": {
      "application/vnd.jupyter.widget-view+json": {
       "model_id": "51ce269a75194d9586bcb9fda003e4a7",
       "version_major": 2,
       "version_minor": 0
      },
      "text/plain": [
       "  0%|          | 0/1000 [00:00<?, ?it/s]"
      ]
     },
     "metadata": {},
     "output_type": "display_data"
    },
    {
     "name": "stderr",
     "output_type": "stream",
     "text": [
      "\u001b[32m2025-04-23 14:43:26.180\u001b[0m | \u001b[33m\u001b[1mWARNING \u001b[0m | \u001b[36mpromptimus.llms.openai\u001b[0m:\u001b[36machat\u001b[0m:\u001b[36m73\u001b[0m - \u001b[33m\u001b[1mRate limit hit (attempt 1/5), waiting 3.000s (base 3.000s, exponential backoff)\u001b[0m\n",
      "\u001b[32m2025-04-23 14:43:32.826\u001b[0m | \u001b[1mINFO    \u001b[0m | \u001b[36mpromptimus.llms.openai\u001b[0m:\u001b[36machat\u001b[0m:\u001b[36m65\u001b[0m - \u001b[1mRate limit resolved.\u001b[0m\n",
      "\u001b[32m2025-04-23 14:43:32.845\u001b[0m | \u001b[33m\u001b[1mWARNING \u001b[0m | \u001b[36mpromptimus.llms.openai\u001b[0m:\u001b[36machat\u001b[0m:\u001b[36m73\u001b[0m - \u001b[33m\u001b[1mRate limit hit (attempt 1/5), waiting 3.000s (base 3.000s, exponential backoff)\u001b[0m\n",
      "\u001b[32m2025-04-23 14:43:33.359\u001b[0m | \u001b[33m\u001b[1mWARNING \u001b[0m | \u001b[36mpromptimus.llms.openai\u001b[0m:\u001b[36machat\u001b[0m:\u001b[36m73\u001b[0m - \u001b[33m\u001b[1mRate limit hit (attempt 2/5), waiting 6.000s (base 3.000s, exponential backoff)\u001b[0m\n",
      "\u001b[32m2025-04-23 14:43:40.140\u001b[0m | \u001b[33m\u001b[1mWARNING \u001b[0m | \u001b[36mpromptimus.llms.openai\u001b[0m:\u001b[36machat\u001b[0m:\u001b[36m73\u001b[0m - \u001b[33m\u001b[1mRate limit hit (attempt 3/5), waiting 12.000s (base 3.000s, exponential backoff)\u001b[0m\n",
      "\u001b[32m2025-04-23 14:43:52.978\u001b[0m | \u001b[1mINFO    \u001b[0m | \u001b[36mpromptimus.llms.openai\u001b[0m:\u001b[36machat\u001b[0m:\u001b[36m65\u001b[0m - \u001b[1mRate limit resolved.\u001b[0m\n",
      "\u001b[32m2025-04-23 14:43:54.583\u001b[0m | \u001b[33m\u001b[1mWARNING \u001b[0m | \u001b[36mpromptimus.llms.openai\u001b[0m:\u001b[36machat\u001b[0m:\u001b[36m73\u001b[0m - \u001b[33m\u001b[1mRate limit hit (attempt 4/5), waiting 24.000s (base 3.000s, exponential backoff)\u001b[0m\n",
      "\u001b[32m2025-04-23 14:44:19.721\u001b[0m | \u001b[1mINFO    \u001b[0m | \u001b[36mpromptimus.llms.openai\u001b[0m:\u001b[36machat\u001b[0m:\u001b[36m65\u001b[0m - \u001b[1mRate limit resolved.\u001b[0m\n",
      "\u001b[32m2025-04-23 14:44:23.709\u001b[0m | \u001b[1mINFO    \u001b[0m | \u001b[36mpromptimus.llms.openai\u001b[0m:\u001b[36machat\u001b[0m:\u001b[36m65\u001b[0m - \u001b[1mRate limit resolved.\u001b[0m\n"
     ]
    }
   ],
   "source": [
    "for task in tqdm.as_completed([openai.achat(\n",
    "    [\n",
    "        Message(role=MessageRole.USER, content=\"Hi, who are you?\"),\n",
    "    ]\n",
    ") for _ in range(1_000)]):\n",
    "    await task"
   ]
  }
 ],
 "metadata": {
  "kernelspec": {
   "display_name": "promptimus",
   "language": "python",
   "name": "promptimus"
  },
  "language_info": {
   "codemirror_mode": {
    "name": "ipython",
    "version": 3
   },
   "file_extension": ".py",
   "mimetype": "text/x-python",
   "name": "python",
   "nbconvert_exporter": "python",
   "pygments_lexer": "ipython3",
   "version": "3.12.8"
  }
 },
 "nbformat": 4,
 "nbformat_minor": 5
}
